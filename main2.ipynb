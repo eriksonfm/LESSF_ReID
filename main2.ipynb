{
 "cells": [
  {
   "cell_type": "code",
   "execution_count": 1,
   "metadata": {
    "execution": {
     "iopub.execute_input": "2024-05-15T19:35:46.852543Z",
     "iopub.status.busy": "2024-05-15T19:35:46.852162Z",
     "iopub.status.idle": "2024-05-21T04:47:08.341925Z",
     "shell.execute_reply": "2024-05-21T04:47:08.339530Z"
    }
   },
   "outputs": [
    {
     "name": "stderr",
     "output_type": "stream",
     "text": [
      "/home/emorais/miniconda3/envs/myenv/lib/python3.10/site-packages/torchreid/reid/metrics/rank.py:11: UserWarning: Cython evaluation (very fast so highly recommended) is unavailable, now use python evaluation.\n",
      "  warnings.warn(\n",
      "/home/emorais/miniconda3/envs/myenv/lib/python3.10/site-packages/tqdm/auto.py:21: TqdmWarning: IProgress not found. Please update jupyter and ipywidgets. See https://ipywidgets.readthedocs.io/en/stable/user_install.html\n",
      "  from .autonotebook import tqdm as notebook_tqdm\n",
      "Special tokens have been added in the vocabulary, make sure the associated word embeddings are fine-tuned or trained.\n",
      "You are using the default legacy behaviour of the <class 'transformers.models.t5.tokenization_t5.T5Tokenizer'>. If you see this, DO NOT PANIC! This is expected, and simply means that the `legacy` (previous) behavior will be used so nothing changes for you. If you want to use the new behaviour, set `legacy=False`. This should only be set if you understand what it means, and thouroughly read the reason why this was added as explained in https://github.com/huggingface/transformers/pull/24565\n",
      "/home/emorais/repos/LESSF_ReID-working-hsv/DCNNs.py:18: UserWarning: Cython evaluation (very fast so highly recommended) is unavailable, now use python evaluation.\n",
      "  warnings.warn(\n"
     ]
    },
    {
     "name": "stdout",
     "output_type": "stream",
     "text": [
      "**** inicio do teste com ruido em k:4 e lambda_hard:0.0 ****\n",
      "Num GPU's: 3\n",
      "Allocated GPU's for model: [1, 2]\n"
     ]
    },
    {
     "name": "stderr",
     "output_type": "stream",
     "text": [
      "/home/emorais/miniconda3/envs/myenv/lib/python3.10/site-packages/torchvision/models/_utils.py:208: UserWarning: The parameter 'pretrained' is deprecated since 0.13 and may be removed in the future, please use 'weights' instead.\n",
      "  warnings.warn(\n",
      "/home/emorais/miniconda3/envs/myenv/lib/python3.10/site-packages/torchvision/models/_utils.py:223: UserWarning: Arguments other than a weight enum or `None` for 'weights' are deprecated since 0.13 and may be removed in the future. The current behavior is equivalent to passing `weights=EfficientNet_V2_M_Weights.IMAGENET1K_V1`. You can also use `weights=EfficientNet_V2_M_Weights.DEFAULT` to get the most up-to-date weights.\n",
      "  warnings.warn(msg)\n",
      "/home/emorais/miniconda3/envs/myenv/lib/python3.10/site-packages/torchvision/models/_utils.py:223: UserWarning: Arguments other than a weight enum or `None` for 'weights' are deprecated since 0.13 and may be removed in the future. The current behavior is equivalent to passing `weights=ConvNeXt_Base_Weights.IMAGENET1K_V1`. You can also use `weights=ConvNeXt_Base_Weights.DEFAULT` to get the most up-to-date weights.\n",
      "  warnings.warn(msg)\n",
      "/home/emorais/miniconda3/envs/myenv/lib/python3.10/site-packages/torchvision/models/_utils.py:223: UserWarning: Arguments other than a weight enum or `None` for 'weights' are deprecated since 0.13 and may be removed in the future. The current behavior is equivalent to passing `weights=MobileNet_V3_Large_Weights.IMAGENET1K_V1`. You can also use `weights=MobileNet_V3_Large_Weights.DEFAULT` to get the most up-to-date weights.\n",
      "  warnings.warn(msg)\n",
      "/home/emorais/miniconda3/envs/myenv/lib/python3.10/site-packages/torchvision/models/_utils.py:223: UserWarning: Arguments other than a weight enum or `None` for 'weights' are deprecated since 0.13 and may be removed in the future. The current behavior is equivalent to passing `weights=VGG16_Weights.IMAGENET1K_V1`. You can also use `weights=VGG16_Weights.DEFAULT` to get the most up-to-date weights.\n",
      "  warnings.warn(msg)\n",
      "/home/emorais/miniconda3/envs/myenv/lib/python3.10/site-packages/torchvision/models/_utils.py:223: UserWarning: Arguments other than a weight enum or `None` for 'weights' are deprecated since 0.13 and may be removed in the future. The current behavior is equivalent to passing `weights=ResNet50_Weights.IMAGENET1K_V1`. You can also use `weights=ResNet50_Weights.DEFAULT` to get the most up-to-date weights.\n",
      "  warnings.warn(msg)\n"
     ]
    },
    {
     "name": "stdout",
     "output_type": "stream",
     "text": [
      "Successfully loaded imagenet pretrained weights from \"/home/emorais/.cache/torch/checkpoints/osnet_x1_0_imagenet.pth\"\n",
      "Successfully loaded imagenet pretrained weights from \"/home/emorais/.cache/torch/checkpoints/osnet_x1_0_imagenet.pth\"\n"
     ]
    },
    {
     "name": "stderr",
     "output_type": "stream",
     "text": [
      "/home/emorais/miniconda3/envs/myenv/lib/python3.10/site-packages/torchvision/models/_utils.py:223: UserWarning: Arguments other than a weight enum or `None` for 'weights' are deprecated since 0.13 and may be removed in the future. The current behavior is equivalent to passing `weights=DenseNet121_Weights.IMAGENET1K_V1`. You can also use `weights=DenseNet121_Weights.DEFAULT` to get the most up-to-date weights.\n",
      "  warnings.warn(msg)\n"
     ]
    },
    {
     "name": "stdout",
     "output_type": "stream",
     "text": [
      "Training Size: (38400, 3)\n",
      "Gallery Size: (24000, 3)\n",
      "Query Size: (9600, 3)\n",
      "Validating efficientnet on Jadson ...\n",
      "Features extracted in 64.30 seconds\n",
      "Features extracted in 119.50 seconds\n",
      "Computing CMC and mAP ...\n",
      "** Results **\n",
      "mAP: 70.87%\n",
      "CMC curve\n",
      "Rank-1  : 79.28%\n",
      "Rank-5  : 94.49%\n",
      "Rank-10 : 97.39%\n",
      "Rank-20 : 99.07%\n",
      "Validating convnext on Jadson ...\n",
      "Features extracted in 143.71 seconds\n",
      "Features extracted in 214.97 seconds\n",
      "Computing CMC and mAP ...\n",
      "** Results **\n",
      "mAP: 70.39%\n",
      "CMC curve\n",
      "Rank-1  : 79.30%\n",
      "Rank-5  : 95.14%\n",
      "Rank-10 : 97.64%\n",
      "Rank-20 : 99.04%\n",
      "Validating mobilenet on Jadson ...\n",
      "Features extracted in 71.20 seconds\n",
      "Features extracted in 119.50 seconds\n",
      "Computing CMC and mAP ...\n",
      "** Results **\n",
      "mAP: 71.35%\n",
      "CMC curve\n",
      "Rank-1  : 83.36%\n",
      "Rank-5  : 95.14%\n",
      "Rank-10 : 97.68%\n",
      "Rank-20 : 99.19%\n",
      "Validating vgg16 on Jadson ...\n",
      "Features extracted in 63.48 seconds\n",
      "Features extracted in 115.21 seconds\n",
      "Computing CMC and mAP ...\n",
      "** Results **\n",
      "mAP: 71.33%\n",
      "CMC curve\n",
      "Rank-1  : 79.04%\n",
      "Rank-5  : 94.23%\n",
      "Rank-10 : 97.67%\n",
      "Rank-20 : 99.28%\n",
      "Validating resnet50 on Jadson ...\n",
      "Features extracted in 60.21 seconds\n",
      "Features extracted in 111.12 seconds\n",
      "Computing CMC and mAP ...\n",
      "** Results **\n",
      "mAP: 72.52%\n",
      "CMC curve\n",
      "Rank-1  : 86.62%\n",
      "Rank-5  : 96.68%\n",
      "Rank-10 : 98.59%\n",
      "Rank-20 : 99.55%\n",
      "Validating osnet on Jadson ...\n",
      "Features extracted in 61.02 seconds\n",
      "Features extracted in 117.50 seconds\n",
      "Computing CMC and mAP ...\n",
      "** Results **\n",
      "mAP: 72.47%\n",
      "CMC curve\n",
      "Rank-1  : 80.67%\n",
      "Rank-5  : 95.48%\n",
      "Rank-10 : 98.21%\n",
      "Rank-20 : 99.47%\n",
      "Validating densenet121 on Jadson ...\n",
      "Features extracted in 60.09 seconds\n",
      "Features extracted in 112.52 seconds\n",
      "Computing CMC and mAP ...\n",
      "** Results **\n",
      "mAP: 74.06%\n",
      "CMC curve\n",
      "Rank-1  : 85.30%\n",
      "Rank-5  : 96.40%\n",
      "Rank-10 : 98.46%\n",
      "Rank-20 : 99.44%\n",
      "Computing CMC and mAP ...\n",
      "** Results **\n",
      "mAP: 73.73%\n",
      "Ranks:\n",
      "Rank-1  : 86.96%\n",
      "Rank-5  : 96.65%\n",
      "Rank-10 : 98.43%\n",
      "###============ Iteration number 1/90 ============###\n",
      "Extracting Online Features for efficientnet ...\n",
      "Features extracted in 196.13 seconds\n",
      "Computing jaccard distance...\n"
     ]
    },
    {
     "name": "stderr",
     "output_type": "stream",
     "text": [
      "/home/emorais/repos/LESSF_ReID-working-hsv/faiss_utils.py:10: UserWarning: TypedStorage is deprecated. It will be removed in the future and UntypedStorage will be the only storage class. This should only matter to you if you are using storages directly.  To access UntypedStorage directly, use tensor.untyped_storage() instead of tensor.storage()\n",
      "  x.storage().data_ptr() + x.storage_offset() * 4)\n",
      "bruteForceKnn is deprecated; call bfKnn instead\n"
     ]
    },
    {
     "name": "stdout",
     "output_type": "stream",
     "text": [
      "Jaccard distance computing time cost: 79.3869559764862\n",
      "Extracting Online Features for convnext ...\n",
      "Features extracted in 202.88 seconds\n",
      "Computing jaccard distance...\n"
     ]
    },
    {
     "name": "stderr",
     "output_type": "stream",
     "text": [
      "bruteForceKnn is deprecated; call bfKnn instead\n"
     ]
    },
    {
     "name": "stdout",
     "output_type": "stream",
     "text": [
      "Jaccard distance computing time cost: 84.00183176994324\n",
      "Extracting Online Features for mobilenet ...\n",
      "Features extracted in 193.07 seconds\n",
      "Computing jaccard distance...\n"
     ]
    },
    {
     "name": "stderr",
     "output_type": "stream",
     "text": [
      "bruteForceKnn is deprecated; call bfKnn instead\n"
     ]
    },
    {
     "name": "stdout",
     "output_type": "stream",
     "text": [
      "Jaccard distance computing time cost: 82.34970784187317\n",
      "Extracting Online Features for vgg16 ...\n",
      "Features extracted in 199.14 seconds\n",
      "Computing jaccard distance...\n"
     ]
    },
    {
     "name": "stderr",
     "output_type": "stream",
     "text": [
      "bruteForceKnn is deprecated; call bfKnn instead\n"
     ]
    },
    {
     "name": "stdout",
     "output_type": "stream",
     "text": [
      "Jaccard distance computing time cost: 80.79855394363403\n",
      "Extracting Online Features for resnet50 ...\n",
      "Features extracted in 197.66 seconds\n",
      "Computing jaccard distance...\n"
     ]
    },
    {
     "name": "stderr",
     "output_type": "stream",
     "text": [
      "bruteForceKnn is deprecated; call bfKnn instead\n"
     ]
    },
    {
     "name": "stdout",
     "output_type": "stream",
     "text": [
      "Jaccard distance computing time cost: 80.5347363948822\n",
      "Extracting Online Features for osnet ...\n",
      "Features extracted in 193.83 seconds\n",
      "Computing jaccard distance...\n"
     ]
    },
    {
     "name": "stderr",
     "output_type": "stream",
     "text": [
      "bruteForceKnn is deprecated; call bfKnn instead\n"
     ]
    },
    {
     "name": "stdout",
     "output_type": "stream",
     "text": [
      "Jaccard distance computing time cost: 79.45632457733154\n",
      "Extracting Online Features for densenet121 ...\n",
      "Features extracted in 194.59 seconds\n",
      "Computing jaccard distance...\n"
     ]
    },
    {
     "name": "stderr",
     "output_type": "stream",
     "text": [
      "bruteForceKnn is deprecated; call bfKnn instead\n"
     ]
    },
    {
     "name": "stdout",
     "output_type": "stream",
     "text": [
      "Jaccard distance computing time cost: 80.92325949668884\n",
      "Reliability: 0.983\n",
      "\u001b[32mMean Purity: 0.02628\u001b[0m\n",
      "\u001b[34mThere are 4 clusters with 4 cameras\u001b[0m\n",
      "\u001b[34mThere are 3 clusters with 5 cameras\u001b[0m\n",
      "\u001b[34mThere are 6 clusters with 6 cameras\u001b[0m\n",
      "\u001b[34mThere are 2 clusters with 7 cameras\u001b[0m\n",
      "\u001b[34mThere are 3 clusters with 10 cameras\u001b[0m\n",
      "\u001b[34mThere are 1 clusters with 11 cameras\u001b[0m\n",
      "\u001b[34mThere are 1 clusters with 12 cameras\u001b[0m\n",
      "\u001b[34mThere are 1 clusters with 16 cameras\u001b[0m\n",
      "\u001b[34mThere are 1 clusters with 17 cameras\u001b[0m\n",
      "\u001b[34mThere are 2 clusters with 18 cameras\u001b[0m\n",
      "\u001b[34mThere are 1 clusters with 20 cameras\u001b[0m\n",
      "\u001b[34mThere are 1 clusters with 21 cameras\u001b[0m\n",
      "\u001b[34mThere are 1 clusters with 25 cameras\u001b[0m\n",
      "\u001b[34mThere are 1 clusters with 28 cameras\u001b[0m\n",
      "\u001b[34mThere are 1 clusters with 29 cameras\u001b[0m\n",
      "\u001b[34mThere are 1 clusters with 39 cameras\u001b[0m\n",
      "\u001b[34mThere are 1 clusters with 41 cameras\u001b[0m\n",
      "\u001b[34mThere are 2 clusters with 44 cameras\u001b[0m\n",
      "\u001b[34mThere are 1 clusters with 47 cameras\u001b[0m\n",
      "\u001b[34mThere are 1 clusters with 48 cameras\u001b[0m\n",
      "\u001b[34mThere are 2 clusters with 50 cameras\u001b[0m\n",
      "\u001b[34mThere are 2 clusters with 52 cameras\u001b[0m\n",
      "\u001b[34mThere are 2 clusters with 53 cameras\u001b[0m\n",
      "\u001b[34mThere are 4 clusters with 55 cameras\u001b[0m\n",
      "\u001b[34mThere are 3 clusters with 56 cameras\u001b[0m\n",
      "\u001b[34mThere are 5 clusters with 57 cameras\u001b[0m\n",
      "\u001b[34mThere are 12 clusters with 58 cameras\u001b[0m\n",
      "\u001b[34mThere are 16 clusters with 59 cameras\u001b[0m\n",
      "\u001b[34mThere are 15 clusters with 60 cameras\u001b[0m\n",
      "\u001b[34mThere are 32 clusters with 61 cameras\u001b[0m\n",
      "\u001b[34mThere are 34 clusters with 62 cameras\u001b[0m\n",
      "\u001b[34mThere are 74 clusters with 63 cameras\u001b[0m\n",
      "\u001b[34mThere are 341 clusters with 64 cameras\u001b[0m\n",
      "\u001b[34mThere are 1 clusters with 101 cameras\u001b[0m\n",
      "\u001b[34mThere are 1 clusters with 108 cameras\u001b[0m\n",
      "\u001b[34mThere are 1 clusters with 115 cameras\u001b[0m\n",
      "\u001b[34mThere are 1 clusters with 120 cameras\u001b[0m\n",
      "\u001b[34mThere are 2 clusters with 121 cameras\u001b[0m\n",
      "\u001b[34mThere are 1 clusters with 123 cameras\u001b[0m\n",
      "\u001b[34mThere are 2 clusters with 124 cameras\u001b[0m\n",
      "\u001b[34mThere are 2 clusters with 126 cameras\u001b[0m\n",
      "\u001b[34mThere are 1 clusters with 127 cameras\u001b[0m\n",
      "\u001b[34mThere are 9 clusters with 128 cameras\u001b[0m\n",
      "\u001b[34mThere are 1 clusters with 133 cameras\u001b[0m\n",
      "\u001b[34mThere are 1 clusters with 189 cameras\u001b[0m\n",
      "\u001b[34mThere are 1 clusters with 191 cameras\u001b[0m\n",
      "Number of classes: 601\n",
      "\u001b[36mLearning Rate: 0.000017\u001b[0m\n",
      "encontrou modelos efficientnet. Carregando...\n",
      "encontrou modelos convnext. Carregando...\n",
      "encontrou modelos mobilenet. Carregando...\n",
      "encontrou modelos vgg16. Carregando...\n",
      "encontrou modelos resnet50. Carregando...\n",
      "encontrou modelos osnet. Carregando...\n",
      "encontrou modelos densenet121. Carregando...\n",
      "###============ Iteration number 2/90 ============###\n",
      "Extracting Online Features for efficientnet ...\n",
      "Features extracted in 193.98 seconds\n",
      "Computing jaccard distance...\n"
     ]
    },
    {
     "name": "stderr",
     "output_type": "stream",
     "text": [
      "bruteForceKnn is deprecated; call bfKnn instead\n"
     ]
    },
    {
     "name": "stdout",
     "output_type": "stream",
     "text": [
      "Jaccard distance computing time cost: 79.39704084396362\n",
      "Extracting Online Features for convnext ...\n",
      "Features extracted in 202.74 seconds\n",
      "Computing jaccard distance...\n"
     ]
    },
    {
     "name": "stderr",
     "output_type": "stream",
     "text": [
      "bruteForceKnn is deprecated; call bfKnn instead\n"
     ]
    },
    {
     "name": "stdout",
     "output_type": "stream",
     "text": [
      "Jaccard distance computing time cost: 95.80989789962769\n",
      "Extracting Online Features for mobilenet ...\n",
      "Features extracted in 199.28 seconds\n",
      "Computing jaccard distance...\n"
     ]
    },
    {
     "name": "stderr",
     "output_type": "stream",
     "text": [
      "bruteForceKnn is deprecated; call bfKnn instead\n"
     ]
    },
    {
     "name": "stdout",
     "output_type": "stream",
     "text": [
      "Jaccard distance computing time cost: 79.98528289794922\n",
      "Extracting Online Features for vgg16 ...\n",
      "Features extracted in 200.42 seconds\n",
      "Computing jaccard distance...\n"
     ]
    },
    {
     "name": "stderr",
     "output_type": "stream",
     "text": [
      "bruteForceKnn is deprecated; call bfKnn instead\n"
     ]
    },
    {
     "name": "stdout",
     "output_type": "stream",
     "text": [
      "Jaccard distance computing time cost: 85.12463021278381\n",
      "Extracting Online Features for resnet50 ...\n",
      "Features extracted in 198.67 seconds\n",
      "Computing jaccard distance...\n"
     ]
    },
    {
     "name": "stderr",
     "output_type": "stream",
     "text": [
      "bruteForceKnn is deprecated; call bfKnn instead\n"
     ]
    },
    {
     "name": "stdout",
     "output_type": "stream",
     "text": [
      "Jaccard distance computing time cost: 80.34975171089172\n",
      "Extracting Online Features for osnet ...\n",
      "Features extracted in 199.07 seconds\n",
      "Computing jaccard distance...\n"
     ]
    },
    {
     "name": "stderr",
     "output_type": "stream",
     "text": [
      "bruteForceKnn is deprecated; call bfKnn instead\n"
     ]
    },
    {
     "name": "stdout",
     "output_type": "stream",
     "text": [
      "Jaccard distance computing time cost: 81.36277294158936\n",
      "Extracting Online Features for densenet121 ...\n",
      "Features extracted in 205.12 seconds\n",
      "Computing jaccard distance...\n"
     ]
    },
    {
     "name": "stderr",
     "output_type": "stream",
     "text": [
      "bruteForceKnn is deprecated; call bfKnn instead\n"
     ]
    },
    {
     "name": "stdout",
     "output_type": "stream",
     "text": [
      "Jaccard distance computing time cost: 80.24961018562317\n",
      "Reliability: 0.998\n",
      "\u001b[32mMean Purity: 0.00164\u001b[0m\n",
      "\u001b[34mThere are 2 clusters with 4 cameras\u001b[0m\n",
      "\u001b[34mThere are 4 clusters with 5 cameras\u001b[0m\n",
      "\u001b[34mThere are 1 clusters with 8 cameras\u001b[0m\n",
      "\u001b[34mThere are 1 clusters with 10 cameras\u001b[0m\n",
      "\u001b[34mThere are 1 clusters with 13 cameras\u001b[0m\n",
      "\u001b[34mThere are 1 clusters with 16 cameras\u001b[0m\n",
      "\u001b[34mThere are 2 clusters with 18 cameras\u001b[0m\n",
      "\u001b[34mThere are 1 clusters with 26 cameras\u001b[0m\n",
      "\u001b[34mThere are 1 clusters with 27 cameras\u001b[0m\n",
      "\u001b[34mThere are 1 clusters with 30 cameras\u001b[0m\n",
      "\u001b[34mThere are 1 clusters with 34 cameras\u001b[0m\n",
      "\u001b[34mThere are 1 clusters with 37 cameras\u001b[0m\n",
      "\u001b[34mThere are 1 clusters with 38 cameras\u001b[0m\n",
      "\u001b[34mThere are 1 clusters with 44 cameras\u001b[0m\n",
      "\u001b[34mThere are 1 clusters with 47 cameras\u001b[0m\n",
      "\u001b[34mThere are 1 clusters with 48 cameras\u001b[0m\n",
      "\u001b[34mThere are 1 clusters with 52 cameras\u001b[0m\n",
      "\u001b[34mThere are 1 clusters with 54 cameras\u001b[0m\n",
      "\u001b[34mThere are 2 clusters with 58 cameras\u001b[0m\n",
      "\u001b[34mThere are 4 clusters with 59 cameras\u001b[0m\n",
      "\u001b[34mThere are 1 clusters with 60 cameras\u001b[0m\n",
      "\u001b[34mThere are 13 clusters with 61 cameras\u001b[0m\n",
      "\u001b[34mThere are 10 clusters with 62 cameras\u001b[0m\n",
      "\u001b[34mThere are 16 clusters with 63 cameras\u001b[0m\n",
      "\u001b[34mThere are 538 clusters with 64 cameras\u001b[0m\n",
      "\u001b[34mThere are 1 clusters with 108 cameras\u001b[0m\n",
      "\u001b[34mThere are 1 clusters with 127 cameras\u001b[0m\n",
      "\u001b[34mThere are 2 clusters with 128 cameras\u001b[0m\n",
      "Number of classes: 611\n",
      "\u001b[36mLearning Rate: 0.000035\u001b[0m\n",
      "encontrou modelos efficientnet. Carregando...\n",
      "encontrou modelos convnext. Carregando...\n",
      "encontrou modelos mobilenet. Carregando...\n",
      "encontrou modelos vgg16. Carregando...\n",
      "encontrou modelos resnet50. Carregando...\n",
      "encontrou modelos osnet. Carregando...\n",
      "encontrou modelos densenet121. Carregando...\n",
      "###============ Iteration number 3/90 ============###\n",
      "Extracting Online Features for efficientnet ...\n",
      "Features extracted in 209.38 seconds\n",
      "Computing jaccard distance...\n"
     ]
    },
    {
     "name": "stderr",
     "output_type": "stream",
     "text": [
      "bruteForceKnn is deprecated; call bfKnn instead\n"
     ]
    },
    {
     "name": "stdout",
     "output_type": "stream",
     "text": [
      "Jaccard distance computing time cost: 84.15964245796204\n",
      "Extracting Online Features for convnext ...\n",
      "Features extracted in 202.69 seconds\n",
      "Computing jaccard distance...\n"
     ]
    },
    {
     "name": "stderr",
     "output_type": "stream",
     "text": [
      "bruteForceKnn is deprecated; call bfKnn instead\n"
     ]
    },
    {
     "name": "stdout",
     "output_type": "stream",
     "text": [
      "Jaccard distance computing time cost: 84.45096492767334\n",
      "Extracting Online Features for mobilenet ...\n",
      "Features extracted in 197.76 seconds\n",
      "Computing jaccard distance...\n"
     ]
    },
    {
     "name": "stderr",
     "output_type": "stream",
     "text": [
      "bruteForceKnn is deprecated; call bfKnn instead\n"
     ]
    },
    {
     "name": "stdout",
     "output_type": "stream",
     "text": [
      "Jaccard distance computing time cost: 78.81563878059387\n",
      "Extracting Online Features for vgg16 ...\n",
      "Features extracted in 196.75 seconds\n",
      "Computing jaccard distance...\n"
     ]
    },
    {
     "name": "stderr",
     "output_type": "stream",
     "text": [
      "bruteForceKnn is deprecated; call bfKnn instead\n"
     ]
    },
    {
     "name": "stdout",
     "output_type": "stream",
     "text": [
      "Jaccard distance computing time cost: 84.08676981925964\n",
      "Extracting Online Features for resnet50 ...\n",
      "Features extracted in 202.16 seconds\n",
      "Computing jaccard distance...\n"
     ]
    },
    {
     "name": "stderr",
     "output_type": "stream",
     "text": [
      "bruteForceKnn is deprecated; call bfKnn instead\n"
     ]
    },
    {
     "name": "stdout",
     "output_type": "stream",
     "text": [
      "Jaccard distance computing time cost: 88.76602697372437\n",
      "Extracting Online Features for osnet ...\n",
      "Features extracted in 202.64 seconds\n",
      "Computing jaccard distance...\n"
     ]
    },
    {
     "name": "stderr",
     "output_type": "stream",
     "text": [
      "bruteForceKnn is deprecated; call bfKnn instead\n"
     ]
    },
    {
     "name": "stdout",
     "output_type": "stream",
     "text": [
      "Jaccard distance computing time cost: 81.57269191741943\n",
      "Extracting Online Features for densenet121 ...\n",
      "Features extracted in 195.68 seconds\n",
      "Computing jaccard distance...\n"
     ]
    },
    {
     "name": "stderr",
     "output_type": "stream",
     "text": [
      "bruteForceKnn is deprecated; call bfKnn instead\n"
     ]
    },
    {
     "name": "stdout",
     "output_type": "stream",
     "text": [
      "Jaccard distance computing time cost: 105.6307475566864\n",
      "Reliability: 0.998\n",
      "\u001b[32mMean Purity: 0.00164\u001b[0m\n",
      "\u001b[34mThere are 2 clusters with 4 cameras\u001b[0m\n",
      "\u001b[34mThere are 4 clusters with 5 cameras\u001b[0m\n",
      "\u001b[34mThere are 1 clusters with 8 cameras\u001b[0m\n",
      "\u001b[34mThere are 1 clusters with 10 cameras\u001b[0m\n",
      "\u001b[34mThere are 1 clusters with 13 cameras\u001b[0m\n",
      "\u001b[34mThere are 1 clusters with 16 cameras\u001b[0m\n",
      "\u001b[34mThere are 2 clusters with 18 cameras\u001b[0m\n",
      "\u001b[34mThere are 1 clusters with 26 cameras\u001b[0m\n",
      "\u001b[34mThere are 1 clusters with 27 cameras\u001b[0m\n",
      "\u001b[34mThere are 1 clusters with 30 cameras\u001b[0m\n",
      "\u001b[34mThere are 1 clusters with 34 cameras\u001b[0m\n",
      "\u001b[34mThere are 1 clusters with 37 cameras\u001b[0m\n",
      "\u001b[34mThere are 1 clusters with 38 cameras\u001b[0m\n",
      "\u001b[34mThere are 1 clusters with 44 cameras\u001b[0m\n",
      "\u001b[34mThere are 1 clusters with 47 cameras\u001b[0m\n",
      "\u001b[34mThere are 1 clusters with 48 cameras\u001b[0m\n",
      "\u001b[34mThere are 1 clusters with 52 cameras\u001b[0m\n",
      "\u001b[34mThere are 1 clusters with 54 cameras\u001b[0m\n",
      "\u001b[34mThere are 2 clusters with 58 cameras\u001b[0m\n",
      "\u001b[34mThere are 4 clusters with 59 cameras\u001b[0m\n",
      "\u001b[34mThere are 1 clusters with 60 cameras\u001b[0m\n",
      "\u001b[34mThere are 13 clusters with 61 cameras\u001b[0m\n",
      "\u001b[34mThere are 10 clusters with 62 cameras\u001b[0m\n",
      "\u001b[34mThere are 16 clusters with 63 cameras\u001b[0m\n",
      "\u001b[34mThere are 538 clusters with 64 cameras\u001b[0m\n",
      "\u001b[34mThere are 1 clusters with 108 cameras\u001b[0m\n",
      "\u001b[34mThere are 1 clusters with 127 cameras\u001b[0m\n",
      "\u001b[34mThere are 2 clusters with 128 cameras\u001b[0m\n",
      "Number of classes: 611\n",
      "\u001b[36mLearning Rate: 0.000053\u001b[0m\n",
      "encontrou modelos efficientnet. Carregando...\n",
      "encontrou modelos convnext. Carregando...\n",
      "encontrou modelos mobilenet. Carregando...\n",
      "encontrou modelos vgg16. Carregando...\n",
      "encontrou modelos resnet50. Carregando...\n",
      "encontrou modelos osnet. Carregando...\n",
      "encontrou modelos densenet121. Carregando...\n",
      "###============ Iteration number 4/90 ============###\n",
      "Extracting Online Features for efficientnet ...\n",
      "Features extracted in 193.50 seconds\n",
      "Computing jaccard distance...\n"
     ]
    },
    {
     "name": "stderr",
     "output_type": "stream",
     "text": [
      "bruteForceKnn is deprecated; call bfKnn instead\n"
     ]
    },
    {
     "name": "stdout",
     "output_type": "stream",
     "text": [
      "Jaccard distance computing time cost: 78.20879673957825\n",
      "Extracting Online Features for convnext ...\n",
      "Features extracted in 197.71 seconds\n",
      "Computing jaccard distance...\n"
     ]
    },
    {
     "name": "stderr",
     "output_type": "stream",
     "text": [
      "bruteForceKnn is deprecated; call bfKnn instead\n"
     ]
    },
    {
     "name": "stdout",
     "output_type": "stream",
     "text": [
      "Jaccard distance computing time cost: 78.32534122467041\n",
      "Extracting Online Features for mobilenet ...\n",
      "Features extracted in 197.29 seconds\n",
      "Computing jaccard distance...\n"
     ]
    },
    {
     "name": "stderr",
     "output_type": "stream",
     "text": [
      "bruteForceKnn is deprecated; call bfKnn instead\n"
     ]
    },
    {
     "name": "stdout",
     "output_type": "stream",
     "text": [
      "Jaccard distance computing time cost: 79.43286347389221\n",
      "Extracting Online Features for vgg16 ...\n",
      "Features extracted in 192.63 seconds\n",
      "Computing jaccard distance...\n"
     ]
    },
    {
     "name": "stderr",
     "output_type": "stream",
     "text": [
      "bruteForceKnn is deprecated; call bfKnn instead\n"
     ]
    },
    {
     "name": "stdout",
     "output_type": "stream",
     "text": [
      "Jaccard distance computing time cost: 90.27536153793335\n",
      "Extracting Online Features for resnet50 ...\n",
      "Features extracted in 195.28 seconds\n",
      "Computing jaccard distance...\n"
     ]
    },
    {
     "name": "stderr",
     "output_type": "stream",
     "text": [
      "bruteForceKnn is deprecated; call bfKnn instead\n"
     ]
    },
    {
     "name": "stdout",
     "output_type": "stream",
     "text": [
      "Jaccard distance computing time cost: 93.85038948059082\n",
      "Extracting Online Features for osnet ...\n",
      "Features extracted in 191.74 seconds\n",
      "Computing jaccard distance...\n"
     ]
    },
    {
     "name": "stderr",
     "output_type": "stream",
     "text": [
      "bruteForceKnn is deprecated; call bfKnn instead\n"
     ]
    },
    {
     "name": "stdout",
     "output_type": "stream",
     "text": [
      "Jaccard distance computing time cost: 77.284104347229\n",
      "Extracting Online Features for densenet121 ...\n",
      "Features extracted in 207.11 seconds\n",
      "Computing jaccard distance...\n"
     ]
    },
    {
     "name": "stderr",
     "output_type": "stream",
     "text": [
      "bruteForceKnn is deprecated; call bfKnn instead\n"
     ]
    },
    {
     "name": "stdout",
     "output_type": "stream",
     "text": [
      "Jaccard distance computing time cost: 89.36316990852356\n",
      "Reliability: 0.998\n",
      "\u001b[32mMean Purity: 0.00164\u001b[0m\n",
      "\u001b[34mThere are 2 clusters with 4 cameras\u001b[0m\n",
      "\u001b[34mThere are 4 clusters with 5 cameras\u001b[0m\n",
      "\u001b[34mThere are 1 clusters with 8 cameras\u001b[0m\n",
      "\u001b[34mThere are 1 clusters with 10 cameras\u001b[0m\n",
      "\u001b[34mThere are 1 clusters with 13 cameras\u001b[0m\n",
      "\u001b[34mThere are 1 clusters with 16 cameras\u001b[0m\n",
      "\u001b[34mThere are 2 clusters with 18 cameras\u001b[0m\n",
      "\u001b[34mThere are 1 clusters with 26 cameras\u001b[0m\n",
      "\u001b[34mThere are 1 clusters with 27 cameras\u001b[0m\n",
      "\u001b[34mThere are 1 clusters with 30 cameras\u001b[0m\n",
      "\u001b[34mThere are 1 clusters with 34 cameras\u001b[0m\n",
      "\u001b[34mThere are 1 clusters with 37 cameras\u001b[0m\n",
      "\u001b[34mThere are 1 clusters with 38 cameras\u001b[0m\n",
      "\u001b[34mThere are 1 clusters with 44 cameras\u001b[0m\n",
      "\u001b[34mThere are 1 clusters with 47 cameras\u001b[0m\n",
      "\u001b[34mThere are 1 clusters with 48 cameras\u001b[0m\n",
      "\u001b[34mThere are 1 clusters with 52 cameras\u001b[0m\n",
      "\u001b[34mThere are 1 clusters with 54 cameras\u001b[0m\n",
      "\u001b[34mThere are 2 clusters with 58 cameras\u001b[0m\n",
      "\u001b[34mThere are 4 clusters with 59 cameras\u001b[0m\n",
      "\u001b[34mThere are 1 clusters with 60 cameras\u001b[0m\n",
      "\u001b[34mThere are 13 clusters with 61 cameras\u001b[0m\n",
      "\u001b[34mThere are 10 clusters with 62 cameras\u001b[0m\n",
      "\u001b[34mThere are 16 clusters with 63 cameras\u001b[0m\n",
      "\u001b[34mThere are 538 clusters with 64 cameras\u001b[0m\n",
      "\u001b[34mThere are 1 clusters with 108 cameras\u001b[0m\n",
      "\u001b[34mThere are 1 clusters with 127 cameras\u001b[0m\n",
      "\u001b[34mThere are 2 clusters with 128 cameras\u001b[0m\n",
      "Number of classes: 611\n",
      "\u001b[36mLearning Rate: 0.000070\u001b[0m\n",
      "encontrou modelos efficientnet. Carregando...\n",
      "encontrou modelos convnext. Carregando...\n",
      "encontrou modelos mobilenet. Carregando...\n",
      "encontrou modelos vgg16. Carregando...\n",
      "encontrou modelos resnet50. Carregando...\n",
      "encontrou modelos osnet. Carregando...\n",
      "encontrou modelos densenet121. Carregando...\n",
      "###============ Iteration number 5/90 ============###\n",
      "Extracting Online Features for efficientnet ...\n",
      "Features extracted in 200.67 seconds\n",
      "Computing jaccard distance...\n"
     ]
    },
    {
     "name": "stderr",
     "output_type": "stream",
     "text": [
      "bruteForceKnn is deprecated; call bfKnn instead\n"
     ]
    },
    {
     "name": "stdout",
     "output_type": "stream",
     "text": [
      "Jaccard distance computing time cost: 78.39187431335449\n",
      "Extracting Online Features for convnext ...\n",
      "Features extracted in 203.70 seconds\n",
      "Computing jaccard distance...\n"
     ]
    },
    {
     "name": "stderr",
     "output_type": "stream",
     "text": [
      "bruteForceKnn is deprecated; call bfKnn instead\n"
     ]
    },
    {
     "name": "stdout",
     "output_type": "stream",
     "text": [
      "Jaccard distance computing time cost: 79.06955218315125\n",
      "Extracting Online Features for mobilenet ...\n",
      "Features extracted in 205.73 seconds\n",
      "Computing jaccard distance...\n"
     ]
    },
    {
     "name": "stderr",
     "output_type": "stream",
     "text": [
      "bruteForceKnn is deprecated; call bfKnn instead\n"
     ]
    },
    {
     "name": "stdout",
     "output_type": "stream",
     "text": [
      "Jaccard distance computing time cost: 87.14758253097534\n",
      "Extracting Online Features for vgg16 ...\n",
      "Features extracted in 198.12 seconds\n",
      "Computing jaccard distance...\n"
     ]
    },
    {
     "name": "stderr",
     "output_type": "stream",
     "text": [
      "bruteForceKnn is deprecated; call bfKnn instead\n"
     ]
    },
    {
     "name": "stdout",
     "output_type": "stream",
     "text": [
      "Jaccard distance computing time cost: 85.91302537918091\n",
      "Extracting Online Features for resnet50 ...\n",
      "Features extracted in 200.01 seconds\n",
      "Computing jaccard distance...\n"
     ]
    },
    {
     "name": "stderr",
     "output_type": "stream",
     "text": [
      "bruteForceKnn is deprecated; call bfKnn instead\n"
     ]
    },
    {
     "name": "stdout",
     "output_type": "stream",
     "text": [
      "Jaccard distance computing time cost: 80.47132015228271\n",
      "Extracting Online Features for osnet ...\n",
      "Features extracted in 199.21 seconds\n",
      "Computing jaccard distance...\n"
     ]
    },
    {
     "name": "stderr",
     "output_type": "stream",
     "text": [
      "bruteForceKnn is deprecated; call bfKnn instead\n"
     ]
    },
    {
     "name": "stdout",
     "output_type": "stream",
     "text": [
      "Jaccard distance computing time cost: 76.9401502609253\n",
      "Extracting Online Features for densenet121 ...\n",
      "Features extracted in 191.57 seconds\n",
      "Computing jaccard distance...\n"
     ]
    },
    {
     "name": "stderr",
     "output_type": "stream",
     "text": [
      "bruteForceKnn is deprecated; call bfKnn instead\n"
     ]
    },
    {
     "name": "stdout",
     "output_type": "stream",
     "text": [
      "Jaccard distance computing time cost: 78.53238248825073\n",
      "Reliability: 0.998\n",
      "\u001b[32mMean Purity: 0.00164\u001b[0m\n",
      "\u001b[34mThere are 2 clusters with 4 cameras\u001b[0m\n",
      "\u001b[34mThere are 4 clusters with 5 cameras\u001b[0m\n",
      "\u001b[34mThere are 1 clusters with 8 cameras\u001b[0m\n",
      "\u001b[34mThere are 1 clusters with 10 cameras\u001b[0m\n",
      "\u001b[34mThere are 1 clusters with 13 cameras\u001b[0m\n",
      "\u001b[34mThere are 1 clusters with 16 cameras\u001b[0m\n",
      "\u001b[34mThere are 2 clusters with 18 cameras\u001b[0m\n",
      "\u001b[34mThere are 1 clusters with 26 cameras\u001b[0m\n",
      "\u001b[34mThere are 1 clusters with 27 cameras\u001b[0m\n",
      "\u001b[34mThere are 1 clusters with 30 cameras\u001b[0m\n",
      "\u001b[34mThere are 1 clusters with 34 cameras\u001b[0m\n",
      "\u001b[34mThere are 1 clusters with 37 cameras\u001b[0m\n",
      "\u001b[34mThere are 1 clusters with 38 cameras\u001b[0m\n",
      "\u001b[34mThere are 1 clusters with 44 cameras\u001b[0m\n",
      "\u001b[34mThere are 1 clusters with 47 cameras\u001b[0m\n",
      "\u001b[34mThere are 1 clusters with 48 cameras\u001b[0m\n",
      "\u001b[34mThere are 1 clusters with 52 cameras\u001b[0m\n",
      "\u001b[34mThere are 1 clusters with 54 cameras\u001b[0m\n",
      "\u001b[34mThere are 2 clusters with 58 cameras\u001b[0m\n",
      "\u001b[34mThere are 4 clusters with 59 cameras\u001b[0m\n",
      "\u001b[34mThere are 1 clusters with 60 cameras\u001b[0m\n",
      "\u001b[34mThere are 13 clusters with 61 cameras\u001b[0m\n",
      "\u001b[34mThere are 10 clusters with 62 cameras\u001b[0m\n",
      "\u001b[34mThere are 16 clusters with 63 cameras\u001b[0m\n",
      "\u001b[34mThere are 538 clusters with 64 cameras\u001b[0m\n",
      "\u001b[34mThere are 1 clusters with 108 cameras\u001b[0m\n",
      "\u001b[34mThere are 1 clusters with 127 cameras\u001b[0m\n",
      "\u001b[34mThere are 2 clusters with 128 cameras\u001b[0m\n",
      "Number of classes: 611\n",
      "\u001b[36mLearning Rate: 0.000088\u001b[0m\n",
      "encontrou modelos efficientnet. Carregando...\n",
      "encontrou modelos convnext. Carregando...\n",
      "encontrou modelos mobilenet. Carregando...\n",
      "encontrou modelos vgg16. Carregando...\n",
      "encontrou modelos resnet50. Carregando...\n",
      "encontrou modelos osnet. Carregando...\n",
      "encontrou modelos densenet121. Carregando...\n",
      "\u001b[33mValidating online efficientnet ...\u001b[0m\n",
      "Features extracted in 61.71 seconds\n",
      "Features extracted in 113.54 seconds\n",
      "Computing CMC and mAP ...\n",
      "** Results **\n",
      "mAP: 72.74%\n",
      "CMC curve\n",
      "Rank-1  : 86.50%\n",
      "Rank-5  : 96.56%\n",
      "Rank-10 : 98.57%\n",
      "Rank-20 : 99.42%\n",
      "\u001b[33mValidating momentum efficientnet ...\u001b[0m\n",
      "Features extracted in 62.36 seconds\n",
      "Features extracted in 116.47 seconds\n",
      "Computing CMC and mAP ...\n",
      "** Results **\n",
      "mAP: 71.24%\n",
      "CMC curve\n",
      "Rank-1  : 78.00%\n",
      "Rank-5  : 94.78%\n",
      "Rank-10 : 98.01%\n",
      "Rank-20 : 99.39%\n",
      "\u001b[33mValidating online convnext ...\u001b[0m\n",
      "Features extracted in 65.86 seconds\n",
      "Features extracted in 117.77 seconds\n",
      "Computing CMC and mAP ...\n",
      "** Results **\n",
      "mAP: 75.86%\n",
      "CMC curve\n",
      "Rank-1  : 90.47%\n",
      "Rank-5  : 95.47%\n",
      "Rank-10 : 97.23%\n",
      "Rank-20 : 99.00%\n",
      "\u001b[33mValidating momentum convnext ...\u001b[0m\n",
      "Features extracted in 62.94 seconds\n",
      "Features extracted in 122.02 seconds\n",
      "Computing CMC and mAP ...\n",
      "** Results **\n",
      "mAP: 70.89%\n",
      "CMC curve\n",
      "Rank-1  : 81.10%\n",
      "Rank-5  : 94.32%\n",
      "Rank-10 : 97.06%\n",
      "Rank-20 : 98.73%\n",
      "\u001b[33mValidating online mobilenet ...\u001b[0m\n",
      "Features extracted in 63.40 seconds\n",
      "Features extracted in 110.82 seconds\n",
      "Computing CMC and mAP ...\n",
      "** Results **\n",
      "mAP: 71.69%\n",
      "CMC curve\n",
      "Rank-1  : 87.20%\n",
      "Rank-5  : 96.74%\n",
      "Rank-10 : 98.85%\n",
      "Rank-20 : 99.71%\n",
      "\u001b[33mValidating momentum mobilenet ...\u001b[0m\n",
      "Features extracted in 61.65 seconds\n",
      "Features extracted in 117.09 seconds\n",
      "Computing CMC and mAP ...\n",
      "** Results **\n",
      "mAP: 71.41%\n",
      "CMC curve\n",
      "Rank-1  : 83.91%\n",
      "Rank-5  : 95.41%\n",
      "Rank-10 : 98.08%\n",
      "Rank-20 : 99.14%\n",
      "\u001b[33mValidating online vgg16 ...\u001b[0m\n",
      "Features extracted in 61.36 seconds\n",
      "Features extracted in 112.71 seconds\n",
      "Computing CMC and mAP ...\n",
      "** Results **\n",
      "mAP: 72.14%\n",
      "CMC curve\n",
      "Rank-1  : 87.41%\n",
      "Rank-5  : 96.72%\n",
      "Rank-10 : 98.80%\n",
      "Rank-20 : 99.68%\n",
      "\u001b[33mValidating momentum vgg16 ...\u001b[0m\n",
      "Features extracted in 63.63 seconds\n",
      "Features extracted in 113.70 seconds\n",
      "Computing CMC and mAP ...\n",
      "** Results **\n",
      "mAP: 71.15%\n",
      "CMC curve\n",
      "Rank-1  : 79.56%\n",
      "Rank-5  : 95.82%\n",
      "Rank-10 : 98.64%\n",
      "Rank-20 : 99.55%\n",
      "\u001b[33mValidating online resnet50 ...\u001b[0m\n",
      "Features extracted in 62.25 seconds\n",
      "Features extracted in 111.91 seconds\n",
      "Computing CMC and mAP ...\n",
      "** Results **\n",
      "mAP: 72.93%\n",
      "CMC curve\n",
      "Rank-1  : 89.22%\n",
      "Rank-5  : 97.35%\n",
      "Rank-10 : 99.02%\n",
      "Rank-20 : 99.75%\n",
      "\u001b[33mValidating momentum resnet50 ...\u001b[0m\n",
      "Features extracted in 64.08 seconds\n",
      "Features extracted in 112.66 seconds\n",
      "Computing CMC and mAP ...\n",
      "** Results **\n",
      "mAP: 74.37%\n",
      "CMC curve\n",
      "Rank-1  : 90.07%\n",
      "Rank-5  : 97.95%\n",
      "Rank-10 : 99.19%\n",
      "Rank-20 : 99.74%\n",
      "\u001b[33mValidating online osnet ...\u001b[0m\n",
      "Features extracted in 62.25 seconds\n",
      "Features extracted in 112.14 seconds\n",
      "Computing CMC and mAP ...\n",
      "** Results **\n",
      "mAP: 71.05%\n",
      "CMC curve\n",
      "Rank-1  : 81.59%\n",
      "Rank-5  : 95.73%\n",
      "Rank-10 : 98.23%\n",
      "Rank-20 : 99.54%\n",
      "\u001b[33mValidating momentum osnet ...\u001b[0m\n",
      "Features extracted in 61.94 seconds\n",
      "Features extracted in 119.40 seconds\n",
      "Computing CMC and mAP ...\n",
      "** Results **\n",
      "mAP: 73.09%\n",
      "CMC curve\n",
      "Rank-1  : 81.93%\n",
      "Rank-5  : 95.43%\n",
      "Rank-10 : 98.30%\n",
      "Rank-20 : 99.46%\n",
      "\u001b[33mValidating online densenet121 ...\u001b[0m\n",
      "Features extracted in 63.84 seconds\n",
      "Features extracted in 112.07 seconds\n",
      "Computing CMC and mAP ...\n",
      "** Results **\n",
      "mAP: 74.36%\n",
      "CMC curve\n",
      "Rank-1  : 92.33%\n",
      "Rank-5  : 98.60%\n",
      "Rank-10 : 99.56%\n",
      "Rank-20 : 99.86%\n",
      "\u001b[33mValidating momentum densenet121 ...\u001b[0m\n",
      "Features extracted in 62.58 seconds\n",
      "Features extracted in 113.34 seconds\n",
      "Computing CMC and mAP ...\n",
      "** Results **\n",
      "mAP: 74.16%\n",
      "CMC curve\n",
      "Rank-1  : 86.99%\n",
      "Rank-5  : 96.54%\n",
      "Rank-10 : 98.30%\n",
      "Rank-20 : 99.46%\n",
      "\u001b[33mValidating ensembled with online models ...\u001b[0m\n",
      "Computing CMC and mAP ...\n",
      "** Results **\n",
      "mAP: 75.80%\n",
      "Ranks:\n",
      "Rank-1  : 96.73%\n",
      "Rank-5  : 98.98%\n",
      "Rank-10 : 99.48%\n",
      "\u001b[33mValidating ensembled with momentum models ...\u001b[0m\n",
      "Computing CMC and mAP ...\n",
      "** Results **\n",
      "mAP: 74.25%\n",
      "Ranks:\n",
      "Rank-1  : 87.54%\n",
      "Rank-5  : 96.96%\n",
      "Rank-10 : 98.89%\n",
      "###============ Iteration number 6/90 ============###\n",
      "Extracting Online Features for efficientnet ...\n",
      "Features extracted in 916.59 seconds\n",
      "Computing jaccard distance...\n"
     ]
    },
    {
     "name": "stderr",
     "output_type": "stream",
     "text": [
      "bruteForceKnn is deprecated; call bfKnn instead\n"
     ]
    },
    {
     "name": "stdout",
     "output_type": "stream",
     "text": [
      "Jaccard distance computing time cost: 78.15491318702698\n",
      "Extracting Online Features for convnext ...\n",
      "Features extracted in 202.84 seconds\n",
      "Computing jaccard distance...\n"
     ]
    },
    {
     "name": "stderr",
     "output_type": "stream",
     "text": [
      "bruteForceKnn is deprecated; call bfKnn instead\n"
     ]
    },
    {
     "name": "stdout",
     "output_type": "stream",
     "text": [
      "Jaccard distance computing time cost: 80.05971479415894\n",
      "Extracting Online Features for mobilenet ...\n",
      "Features extracted in 192.42 seconds\n",
      "Computing jaccard distance...\n"
     ]
    },
    {
     "name": "stderr",
     "output_type": "stream",
     "text": [
      "bruteForceKnn is deprecated; call bfKnn instead\n"
     ]
    },
    {
     "name": "stdout",
     "output_type": "stream",
     "text": [
      "Jaccard distance computing time cost: 80.3002610206604\n",
      "Extracting Online Features for vgg16 ...\n",
      "Features extracted in 194.80 seconds\n",
      "Computing jaccard distance...\n"
     ]
    },
    {
     "name": "stderr",
     "output_type": "stream",
     "text": [
      "bruteForceKnn is deprecated; call bfKnn instead\n"
     ]
    },
    {
     "name": "stdout",
     "output_type": "stream",
     "text": [
      "Jaccard distance computing time cost: 92.84307169914246\n",
      "Extracting Online Features for resnet50 ...\n",
      "Features extracted in 198.17 seconds\n",
      "Computing jaccard distance...\n"
     ]
    },
    {
     "name": "stderr",
     "output_type": "stream",
     "text": [
      "bruteForceKnn is deprecated; call bfKnn instead\n"
     ]
    },
    {
     "name": "stdout",
     "output_type": "stream",
     "text": [
      "Jaccard distance computing time cost: 79.71470642089844\n",
      "Extracting Online Features for osnet ...\n",
      "Features extracted in 196.74 seconds\n",
      "Computing jaccard distance...\n"
     ]
    },
    {
     "name": "stderr",
     "output_type": "stream",
     "text": [
      "bruteForceKnn is deprecated; call bfKnn instead\n"
     ]
    },
    {
     "name": "stdout",
     "output_type": "stream",
     "text": [
      "Jaccard distance computing time cost: 78.01536130905151\n",
      "Extracting Online Features for densenet121 ...\n",
      "Features extracted in 202.78 seconds\n",
      "Computing jaccard distance...\n"
     ]
    },
    {
     "name": "stderr",
     "output_type": "stream",
     "text": [
      "bruteForceKnn is deprecated; call bfKnn instead\n"
     ]
    },
    {
     "name": "stdout",
     "output_type": "stream",
     "text": [
      "Jaccard distance computing time cost: 95.2067813873291\n",
      "Reliability: 0.998\n",
      "\u001b[32mMean Purity: 0.00164\u001b[0m\n",
      "\u001b[34mThere are 2 clusters with 4 cameras\u001b[0m\n",
      "\u001b[34mThere are 4 clusters with 5 cameras\u001b[0m\n",
      "\u001b[34mThere are 1 clusters with 8 cameras\u001b[0m\n",
      "\u001b[34mThere are 1 clusters with 10 cameras\u001b[0m\n",
      "\u001b[34mThere are 1 clusters with 13 cameras\u001b[0m\n",
      "\u001b[34mThere are 1 clusters with 16 cameras\u001b[0m\n",
      "\u001b[34mThere are 2 clusters with 18 cameras\u001b[0m\n",
      "\u001b[34mThere are 1 clusters with 26 cameras\u001b[0m\n",
      "\u001b[34mThere are 1 clusters with 27 cameras\u001b[0m\n",
      "\u001b[34mThere are 1 clusters with 30 cameras\u001b[0m\n",
      "\u001b[34mThere are 1 clusters with 34 cameras\u001b[0m\n",
      "\u001b[34mThere are 1 clusters with 37 cameras\u001b[0m\n",
      "\u001b[34mThere are 1 clusters with 38 cameras\u001b[0m\n",
      "\u001b[34mThere are 1 clusters with 44 cameras\u001b[0m\n",
      "\u001b[34mThere are 1 clusters with 47 cameras\u001b[0m\n",
      "\u001b[34mThere are 1 clusters with 48 cameras\u001b[0m\n",
      "\u001b[34mThere are 1 clusters with 52 cameras\u001b[0m\n",
      "\u001b[34mThere are 1 clusters with 54 cameras\u001b[0m\n",
      "\u001b[34mThere are 2 clusters with 58 cameras\u001b[0m\n",
      "\u001b[34mThere are 4 clusters with 59 cameras\u001b[0m\n",
      "\u001b[34mThere are 1 clusters with 60 cameras\u001b[0m\n",
      "\u001b[34mThere are 13 clusters with 61 cameras\u001b[0m\n",
      "\u001b[34mThere are 10 clusters with 62 cameras\u001b[0m\n",
      "\u001b[34mThere are 16 clusters with 63 cameras\u001b[0m\n",
      "\u001b[34mThere are 538 clusters with 64 cameras\u001b[0m\n",
      "\u001b[34mThere are 1 clusters with 108 cameras\u001b[0m\n",
      "\u001b[34mThere are 1 clusters with 127 cameras\u001b[0m\n",
      "\u001b[34mThere are 2 clusters with 128 cameras\u001b[0m\n",
      "Number of classes: 611\n",
      "\u001b[36mLearning Rate: 0.000105\u001b[0m\n",
      "encontrou modelos efficientnet. Carregando...\n",
      "encontrou modelos convnext. Carregando...\n",
      "encontrou modelos mobilenet. Carregando...\n",
      "encontrou modelos vgg16. Carregando...\n",
      "encontrou modelos resnet50. Carregando...\n",
      "encontrou modelos osnet. Carregando...\n",
      "encontrou modelos densenet121. Carregando...\n",
      "###============ Iteration number 7/90 ============###\n",
      "Extracting Online Features for efficientnet ...\n",
      "Features extracted in 203.00 seconds\n",
      "Computing jaccard distance...\n"
     ]
    },
    {
     "name": "stderr",
     "output_type": "stream",
     "text": [
      "bruteForceKnn is deprecated; call bfKnn instead\n"
     ]
    },
    {
     "name": "stdout",
     "output_type": "stream",
     "text": [
      "Jaccard distance computing time cost: 78.64645767211914\n",
      "Extracting Online Features for convnext ...\n",
      "Features extracted in 208.33 seconds\n",
      "Computing jaccard distance...\n"
     ]
    },
    {
     "name": "stderr",
     "output_type": "stream",
     "text": [
      "bruteForceKnn is deprecated; call bfKnn instead\n"
     ]
    },
    {
     "name": "stdout",
     "output_type": "stream",
     "text": [
      "Jaccard distance computing time cost: 79.23420572280884\n",
      "Extracting Online Features for mobilenet ...\n",
      "Features extracted in 206.44 seconds\n",
      "Computing jaccard distance...\n"
     ]
    },
    {
     "name": "stderr",
     "output_type": "stream",
     "text": [
      "bruteForceKnn is deprecated; call bfKnn instead\n"
     ]
    },
    {
     "name": "stdout",
     "output_type": "stream",
     "text": [
      "Jaccard distance computing time cost: 95.35406517982483\n",
      "Extracting Online Features for vgg16 ...\n",
      "Features extracted in 199.93 seconds\n",
      "Computing jaccard distance...\n"
     ]
    },
    {
     "name": "stderr",
     "output_type": "stream",
     "text": [
      "bruteForceKnn is deprecated; call bfKnn instead\n"
     ]
    },
    {
     "name": "stdout",
     "output_type": "stream",
     "text": [
      "Jaccard distance computing time cost: 79.55297780036926\n",
      "Extracting Online Features for resnet50 ...\n",
      "Features extracted in 198.57 seconds\n",
      "Computing jaccard distance...\n"
     ]
    },
    {
     "name": "stderr",
     "output_type": "stream",
     "text": [
      "bruteForceKnn is deprecated; call bfKnn instead\n"
     ]
    },
    {
     "name": "stdout",
     "output_type": "stream",
     "text": [
      "Jaccard distance computing time cost: 80.05462121963501\n",
      "Extracting Online Features for osnet ...\n",
      "Features extracted in 203.60 seconds\n",
      "Computing jaccard distance...\n"
     ]
    },
    {
     "name": "stderr",
     "output_type": "stream",
     "text": [
      "bruteForceKnn is deprecated; call bfKnn instead\n"
     ]
    },
    {
     "name": "stdout",
     "output_type": "stream",
     "text": [
      "Jaccard distance computing time cost: 87.5131688117981\n",
      "Extracting Online Features for densenet121 ...\n",
      "Features extracted in 195.52 seconds\n",
      "Computing jaccard distance...\n"
     ]
    },
    {
     "name": "stderr",
     "output_type": "stream",
     "text": [
      "bruteForceKnn is deprecated; call bfKnn instead\n"
     ]
    },
    {
     "name": "stdout",
     "output_type": "stream",
     "text": [
      "Jaccard distance computing time cost: 79.89036464691162\n",
      "Reliability: 0.998\n",
      "\u001b[32mMean Purity: 0.00164\u001b[0m\n",
      "\u001b[34mThere are 2 clusters with 4 cameras\u001b[0m\n",
      "\u001b[34mThere are 4 clusters with 5 cameras\u001b[0m\n",
      "\u001b[34mThere are 1 clusters with 8 cameras\u001b[0m\n",
      "\u001b[34mThere are 1 clusters with 10 cameras\u001b[0m\n",
      "\u001b[34mThere are 1 clusters with 13 cameras\u001b[0m\n",
      "\u001b[34mThere are 1 clusters with 16 cameras\u001b[0m\n",
      "\u001b[34mThere are 2 clusters with 18 cameras\u001b[0m\n",
      "\u001b[34mThere are 1 clusters with 26 cameras\u001b[0m\n",
      "\u001b[34mThere are 1 clusters with 27 cameras\u001b[0m\n",
      "\u001b[34mThere are 1 clusters with 30 cameras\u001b[0m\n",
      "\u001b[34mThere are 1 clusters with 34 cameras\u001b[0m\n",
      "\u001b[34mThere are 1 clusters with 37 cameras\u001b[0m\n",
      "\u001b[34mThere are 1 clusters with 38 cameras\u001b[0m\n",
      "\u001b[34mThere are 1 clusters with 44 cameras\u001b[0m\n",
      "\u001b[34mThere are 1 clusters with 47 cameras\u001b[0m\n",
      "\u001b[34mThere are 1 clusters with 48 cameras\u001b[0m\n",
      "\u001b[34mThere are 1 clusters with 52 cameras\u001b[0m\n",
      "\u001b[34mThere are 1 clusters with 54 cameras\u001b[0m\n",
      "\u001b[34mThere are 2 clusters with 58 cameras\u001b[0m\n",
      "\u001b[34mThere are 4 clusters with 59 cameras\u001b[0m\n",
      "\u001b[34mThere are 1 clusters with 60 cameras\u001b[0m\n",
      "\u001b[34mThere are 13 clusters with 61 cameras\u001b[0m\n",
      "\u001b[34mThere are 10 clusters with 62 cameras\u001b[0m\n",
      "\u001b[34mThere are 16 clusters with 63 cameras\u001b[0m\n",
      "\u001b[34mThere are 538 clusters with 64 cameras\u001b[0m\n",
      "\u001b[34mThere are 1 clusters with 108 cameras\u001b[0m\n",
      "\u001b[34mThere are 1 clusters with 127 cameras\u001b[0m\n",
      "\u001b[34mThere are 2 clusters with 128 cameras\u001b[0m\n",
      "Number of classes: 611\n",
      "\u001b[36mLearning Rate: 0.000122\u001b[0m\n",
      "encontrou modelos efficientnet. Carregando...\n",
      "encontrou modelos convnext. Carregando...\n",
      "encontrou modelos mobilenet. Carregando...\n",
      "encontrou modelos vgg16. Carregando...\n",
      "encontrou modelos resnet50. Carregando...\n",
      "encontrou modelos osnet. Carregando...\n",
      "encontrou modelos densenet121. Carregando...\n",
      "###============ Iteration number 8/90 ============###\n",
      "Extracting Online Features for efficientnet ...\n",
      "Features extracted in 204.29 seconds\n",
      "Computing jaccard distance...\n"
     ]
    },
    {
     "name": "stderr",
     "output_type": "stream",
     "text": [
      "bruteForceKnn is deprecated; call bfKnn instead\n"
     ]
    },
    {
     "name": "stdout",
     "output_type": "stream",
     "text": [
      "Jaccard distance computing time cost: 78.56203007698059\n",
      "Extracting Online Features for convnext ...\n",
      "Features extracted in 204.36 seconds\n",
      "Computing jaccard distance...\n"
     ]
    },
    {
     "name": "stderr",
     "output_type": "stream",
     "text": [
      "bruteForceKnn is deprecated; call bfKnn instead\n"
     ]
    },
    {
     "name": "stdout",
     "output_type": "stream",
     "text": [
      "Jaccard distance computing time cost: 82.28962874412537\n",
      "Extracting Online Features for mobilenet ...\n",
      "Features extracted in 200.72 seconds\n",
      "Computing jaccard distance...\n"
     ]
    },
    {
     "name": "stderr",
     "output_type": "stream",
     "text": [
      "bruteForceKnn is deprecated; call bfKnn instead\n"
     ]
    },
    {
     "name": "stdout",
     "output_type": "stream",
     "text": [
      "Jaccard distance computing time cost: 79.37204122543335\n",
      "Extracting Online Features for vgg16 ...\n",
      "Features extracted in 199.56 seconds\n",
      "Computing jaccard distance...\n"
     ]
    },
    {
     "name": "stderr",
     "output_type": "stream",
     "text": [
      "bruteForceKnn is deprecated; call bfKnn instead\n"
     ]
    },
    {
     "name": "stdout",
     "output_type": "stream",
     "text": [
      "Jaccard distance computing time cost: 82.53444409370422\n",
      "Extracting Online Features for resnet50 ...\n",
      "Features extracted in 208.71 seconds\n",
      "Computing jaccard distance...\n"
     ]
    },
    {
     "name": "stderr",
     "output_type": "stream",
     "text": [
      "bruteForceKnn is deprecated; call bfKnn instead\n"
     ]
    },
    {
     "name": "stdout",
     "output_type": "stream",
     "text": [
      "Jaccard distance computing time cost: 90.83217978477478\n",
      "Extracting Online Features for osnet ...\n",
      "Features extracted in 198.35 seconds\n",
      "Computing jaccard distance...\n"
     ]
    },
    {
     "name": "stderr",
     "output_type": "stream",
     "text": [
      "bruteForceKnn is deprecated; call bfKnn instead\n"
     ]
    },
    {
     "name": "stdout",
     "output_type": "stream",
     "text": [
      "Jaccard distance computing time cost: 78.13543725013733\n",
      "Extracting Online Features for densenet121 ...\n",
      "Features extracted in 193.46 seconds\n",
      "Computing jaccard distance...\n"
     ]
    },
    {
     "name": "stderr",
     "output_type": "stream",
     "text": [
      "bruteForceKnn is deprecated; call bfKnn instead\n"
     ]
    },
    {
     "name": "stdout",
     "output_type": "stream",
     "text": [
      "Jaccard distance computing time cost: 79.38161611557007\n",
      "Reliability: 0.998\n",
      "\u001b[32mMean Purity: 0.00164\u001b[0m\n",
      "\u001b[34mThere are 2 clusters with 4 cameras\u001b[0m\n",
      "\u001b[34mThere are 4 clusters with 5 cameras\u001b[0m\n",
      "\u001b[34mThere are 1 clusters with 8 cameras\u001b[0m\n",
      "\u001b[34mThere are 1 clusters with 10 cameras\u001b[0m\n",
      "\u001b[34mThere are 1 clusters with 13 cameras\u001b[0m\n",
      "\u001b[34mThere are 1 clusters with 16 cameras\u001b[0m\n",
      "\u001b[34mThere are 2 clusters with 18 cameras\u001b[0m\n",
      "\u001b[34mThere are 1 clusters with 26 cameras\u001b[0m\n",
      "\u001b[34mThere are 1 clusters with 27 cameras\u001b[0m\n",
      "\u001b[34mThere are 1 clusters with 30 cameras\u001b[0m\n",
      "\u001b[34mThere are 1 clusters with 34 cameras\u001b[0m\n",
      "\u001b[34mThere are 1 clusters with 37 cameras\u001b[0m\n",
      "\u001b[34mThere are 1 clusters with 38 cameras\u001b[0m\n",
      "\u001b[34mThere are 1 clusters with 44 cameras\u001b[0m\n",
      "\u001b[34mThere are 1 clusters with 47 cameras\u001b[0m\n",
      "\u001b[34mThere are 1 clusters with 48 cameras\u001b[0m\n",
      "\u001b[34mThere are 1 clusters with 52 cameras\u001b[0m\n",
      "\u001b[34mThere are 1 clusters with 54 cameras\u001b[0m\n",
      "\u001b[34mThere are 2 clusters with 58 cameras\u001b[0m\n",
      "\u001b[34mThere are 4 clusters with 59 cameras\u001b[0m\n",
      "\u001b[34mThere are 1 clusters with 60 cameras\u001b[0m\n",
      "\u001b[34mThere are 13 clusters with 61 cameras\u001b[0m\n",
      "\u001b[34mThere are 10 clusters with 62 cameras\u001b[0m\n",
      "\u001b[34mThere are 16 clusters with 63 cameras\u001b[0m\n",
      "\u001b[34mThere are 538 clusters with 64 cameras\u001b[0m\n",
      "\u001b[34mThere are 1 clusters with 108 cameras\u001b[0m\n",
      "\u001b[34mThere are 1 clusters with 127 cameras\u001b[0m\n",
      "\u001b[34mThere are 2 clusters with 128 cameras\u001b[0m\n",
      "Number of classes: 611\n",
      "\u001b[36mLearning Rate: 0.000140\u001b[0m\n",
      "encontrou modelos efficientnet. Carregando...\n",
      "encontrou modelos convnext. Carregando...\n",
      "encontrou modelos mobilenet. Carregando...\n",
      "encontrou modelos vgg16. Carregando...\n",
      "encontrou modelos resnet50. Carregando...\n",
      "encontrou modelos osnet. Carregando...\n",
      "encontrou modelos densenet121. Carregando...\n",
      "###============ Iteration number 9/90 ============###\n",
      "Extracting Online Features for efficientnet ...\n",
      "Features extracted in 198.23 seconds\n",
      "Computing jaccard distance...\n"
     ]
    },
    {
     "name": "stderr",
     "output_type": "stream",
     "text": [
      "bruteForceKnn is deprecated; call bfKnn instead\n"
     ]
    },
    {
     "name": "stdout",
     "output_type": "stream",
     "text": [
      "Jaccard distance computing time cost: 79.19735765457153\n",
      "Extracting Online Features for convnext ...\n",
      "Features extracted in 204.26 seconds\n",
      "Computing jaccard distance...\n"
     ]
    },
    {
     "name": "stderr",
     "output_type": "stream",
     "text": [
      "bruteForceKnn is deprecated; call bfKnn instead\n"
     ]
    },
    {
     "name": "stdout",
     "output_type": "stream",
     "text": [
      "Jaccard distance computing time cost: 80.24974489212036\n",
      "Extracting Online Features for mobilenet ...\n",
      "Features extracted in 192.88 seconds\n",
      "Computing jaccard distance...\n"
     ]
    },
    {
     "name": "stderr",
     "output_type": "stream",
     "text": [
      "bruteForceKnn is deprecated; call bfKnn instead\n"
     ]
    },
    {
     "name": "stdout",
     "output_type": "stream",
     "text": [
      "Jaccard distance computing time cost: 79.61273002624512\n",
      "Extracting Online Features for vgg16 ...\n",
      "Features extracted in 197.08 seconds\n",
      "Computing jaccard distance...\n"
     ]
    },
    {
     "name": "stderr",
     "output_type": "stream",
     "text": [
      "bruteForceKnn is deprecated; call bfKnn instead\n"
     ]
    },
    {
     "name": "stdout",
     "output_type": "stream",
     "text": [
      "Jaccard distance computing time cost: 86.72311425209045\n",
      "Extracting Online Features for resnet50 ...\n",
      "Features extracted in 199.26 seconds\n",
      "Computing jaccard distance...\n"
     ]
    },
    {
     "name": "stderr",
     "output_type": "stream",
     "text": [
      "bruteForceKnn is deprecated; call bfKnn instead\n"
     ]
    },
    {
     "name": "stdout",
     "output_type": "stream",
     "text": [
      "Jaccard distance computing time cost: 78.92845749855042\n",
      "Extracting Online Features for osnet ...\n",
      "Features extracted in 204.24 seconds\n",
      "Computing jaccard distance...\n"
     ]
    },
    {
     "name": "stderr",
     "output_type": "stream",
     "text": [
      "bruteForceKnn is deprecated; call bfKnn instead\n"
     ]
    },
    {
     "name": "stdout",
     "output_type": "stream",
     "text": [
      "Jaccard distance computing time cost: 78.1360456943512\n",
      "Extracting Online Features for densenet121 ...\n",
      "Features extracted in 195.85 seconds\n",
      "Computing jaccard distance...\n"
     ]
    },
    {
     "name": "stderr",
     "output_type": "stream",
     "text": [
      "bruteForceKnn is deprecated; call bfKnn instead\n"
     ]
    },
    {
     "name": "stdout",
     "output_type": "stream",
     "text": [
      "Jaccard distance computing time cost: 80.49152565002441\n",
      "Reliability: 0.998\n",
      "\u001b[32mMean Purity: 0.00164\u001b[0m\n",
      "\u001b[34mThere are 2 clusters with 4 cameras\u001b[0m\n",
      "\u001b[34mThere are 4 clusters with 5 cameras\u001b[0m\n",
      "\u001b[34mThere are 1 clusters with 8 cameras\u001b[0m\n",
      "\u001b[34mThere are 1 clusters with 10 cameras\u001b[0m\n",
      "\u001b[34mThere are 1 clusters with 13 cameras\u001b[0m\n",
      "\u001b[34mThere are 1 clusters with 16 cameras\u001b[0m\n",
      "\u001b[34mThere are 2 clusters with 18 cameras\u001b[0m\n",
      "\u001b[34mThere are 1 clusters with 26 cameras\u001b[0m\n",
      "\u001b[34mThere are 1 clusters with 27 cameras\u001b[0m\n",
      "\u001b[34mThere are 1 clusters with 30 cameras\u001b[0m\n",
      "\u001b[34mThere are 1 clusters with 34 cameras\u001b[0m\n",
      "\u001b[34mThere are 1 clusters with 37 cameras\u001b[0m\n",
      "\u001b[34mThere are 1 clusters with 38 cameras\u001b[0m\n",
      "\u001b[34mThere are 1 clusters with 44 cameras\u001b[0m\n",
      "\u001b[34mThere are 1 clusters with 47 cameras\u001b[0m\n",
      "\u001b[34mThere are 1 clusters with 48 cameras\u001b[0m\n",
      "\u001b[34mThere are 1 clusters with 52 cameras\u001b[0m\n",
      "\u001b[34mThere are 1 clusters with 54 cameras\u001b[0m\n",
      "\u001b[34mThere are 2 clusters with 58 cameras\u001b[0m\n",
      "\u001b[34mThere are 4 clusters with 59 cameras\u001b[0m\n",
      "\u001b[34mThere are 1 clusters with 60 cameras\u001b[0m\n",
      "\u001b[34mThere are 13 clusters with 61 cameras\u001b[0m\n",
      "\u001b[34mThere are 10 clusters with 62 cameras\u001b[0m\n",
      "\u001b[34mThere are 16 clusters with 63 cameras\u001b[0m\n",
      "\u001b[34mThere are 538 clusters with 64 cameras\u001b[0m\n",
      "\u001b[34mThere are 1 clusters with 108 cameras\u001b[0m\n",
      "\u001b[34mThere are 1 clusters with 127 cameras\u001b[0m\n",
      "\u001b[34mThere are 2 clusters with 128 cameras\u001b[0m\n",
      "Number of classes: 611\n",
      "\u001b[36mLearning Rate: 0.000158\u001b[0m\n",
      "encontrou modelos efficientnet. Carregando...\n",
      "encontrou modelos convnext. Carregando...\n",
      "encontrou modelos mobilenet. Carregando...\n",
      "encontrou modelos vgg16. Carregando...\n",
      "encontrou modelos resnet50. Carregando...\n",
      "encontrou modelos osnet. Carregando...\n",
      "encontrou modelos densenet121. Carregando...\n",
      "###============ Iteration number 10/90 ============###\n",
      "Extracting Online Features for efficientnet ...\n",
      "Features extracted in 195.36 seconds\n",
      "Computing jaccard distance...\n"
     ]
    },
    {
     "name": "stderr",
     "output_type": "stream",
     "text": [
      "bruteForceKnn is deprecated; call bfKnn instead\n"
     ]
    },
    {
     "name": "stdout",
     "output_type": "stream",
     "text": [
      "Jaccard distance computing time cost: 79.64330005645752\n",
      "Extracting Online Features for convnext ...\n",
      "Features extracted in 198.54 seconds\n",
      "Computing jaccard distance...\n"
     ]
    },
    {
     "name": "stderr",
     "output_type": "stream",
     "text": [
      "bruteForceKnn is deprecated; call bfKnn instead\n"
     ]
    },
    {
     "name": "stdout",
     "output_type": "stream",
     "text": [
      "Jaccard distance computing time cost: 79.20409178733826\n",
      "Extracting Online Features for mobilenet ...\n",
      "Features extracted in 193.05 seconds\n",
      "Computing jaccard distance...\n"
     ]
    },
    {
     "name": "stderr",
     "output_type": "stream",
     "text": [
      "bruteForceKnn is deprecated; call bfKnn instead\n"
     ]
    },
    {
     "name": "stdout",
     "output_type": "stream",
     "text": [
      "Jaccard distance computing time cost: 80.49421977996826\n",
      "Extracting Online Features for vgg16 ...\n",
      "Features extracted in 198.28 seconds\n",
      "Computing jaccard distance...\n"
     ]
    },
    {
     "name": "stderr",
     "output_type": "stream",
     "text": [
      "bruteForceKnn is deprecated; call bfKnn instead\n"
     ]
    },
    {
     "name": "stdout",
     "output_type": "stream",
     "text": [
      "Jaccard distance computing time cost: 79.64045000076294\n",
      "Extracting Online Features for resnet50 ...\n",
      "Features extracted in 198.46 seconds\n",
      "Computing jaccard distance...\n"
     ]
    },
    {
     "name": "stderr",
     "output_type": "stream",
     "text": [
      "bruteForceKnn is deprecated; call bfKnn instead\n"
     ]
    },
    {
     "name": "stdout",
     "output_type": "stream",
     "text": [
      "Jaccard distance computing time cost: 82.13008999824524\n",
      "Extracting Online Features for osnet ...\n",
      "Features extracted in 196.70 seconds\n",
      "Computing jaccard distance...\n"
     ]
    },
    {
     "name": "stderr",
     "output_type": "stream",
     "text": [
      "bruteForceKnn is deprecated; call bfKnn instead\n"
     ]
    },
    {
     "name": "stdout",
     "output_type": "stream",
     "text": [
      "Jaccard distance computing time cost: 79.98282766342163\n",
      "Extracting Online Features for densenet121 ...\n",
      "Features extracted in 194.47 seconds\n",
      "Computing jaccard distance...\n"
     ]
    },
    {
     "name": "stderr",
     "output_type": "stream",
     "text": [
      "bruteForceKnn is deprecated; call bfKnn instead\n"
     ]
    },
    {
     "name": "stdout",
     "output_type": "stream",
     "text": [
      "Jaccard distance computing time cost: 87.93331241607666\n",
      "Reliability: 0.998\n",
      "\u001b[32mMean Purity: 0.00164\u001b[0m\n",
      "\u001b[34mThere are 2 clusters with 4 cameras\u001b[0m\n",
      "\u001b[34mThere are 4 clusters with 5 cameras\u001b[0m\n",
      "\u001b[34mThere are 1 clusters with 8 cameras\u001b[0m\n",
      "\u001b[34mThere are 1 clusters with 10 cameras\u001b[0m\n",
      "\u001b[34mThere are 1 clusters with 13 cameras\u001b[0m\n",
      "\u001b[34mThere are 1 clusters with 16 cameras\u001b[0m\n",
      "\u001b[34mThere are 2 clusters with 18 cameras\u001b[0m\n",
      "\u001b[34mThere are 1 clusters with 26 cameras\u001b[0m\n",
      "\u001b[34mThere are 1 clusters with 27 cameras\u001b[0m\n",
      "\u001b[34mThere are 1 clusters with 30 cameras\u001b[0m\n",
      "\u001b[34mThere are 1 clusters with 34 cameras\u001b[0m\n",
      "\u001b[34mThere are 1 clusters with 37 cameras\u001b[0m\n",
      "\u001b[34mThere are 1 clusters with 38 cameras\u001b[0m\n",
      "\u001b[34mThere are 1 clusters with 44 cameras\u001b[0m\n",
      "\u001b[34mThere are 1 clusters with 47 cameras\u001b[0m\n",
      "\u001b[34mThere are 1 clusters with 48 cameras\u001b[0m\n",
      "\u001b[34mThere are 1 clusters with 52 cameras\u001b[0m\n",
      "\u001b[34mThere are 1 clusters with 54 cameras\u001b[0m\n",
      "\u001b[34mThere are 2 clusters with 58 cameras\u001b[0m\n",
      "\u001b[34mThere are 4 clusters with 59 cameras\u001b[0m\n",
      "\u001b[34mThere are 1 clusters with 60 cameras\u001b[0m\n",
      "\u001b[34mThere are 13 clusters with 61 cameras\u001b[0m\n",
      "\u001b[34mThere are 10 clusters with 62 cameras\u001b[0m\n",
      "\u001b[34mThere are 16 clusters with 63 cameras\u001b[0m\n",
      "\u001b[34mThere are 538 clusters with 64 cameras\u001b[0m\n",
      "\u001b[34mThere are 1 clusters with 108 cameras\u001b[0m\n",
      "\u001b[34mThere are 1 clusters with 127 cameras\u001b[0m\n",
      "\u001b[34mThere are 2 clusters with 128 cameras\u001b[0m\n",
      "Number of classes: 611\n",
      "\u001b[36mLearning Rate: 0.000175\u001b[0m\n",
      "encontrou modelos efficientnet. Carregando...\n",
      "encontrou modelos convnext. Carregando...\n",
      "encontrou modelos mobilenet. Carregando...\n",
      "encontrou modelos vgg16. Carregando...\n",
      "encontrou modelos resnet50. Carregando...\n",
      "encontrou modelos osnet. Carregando...\n",
      "encontrou modelos densenet121. Carregando...\n",
      "\u001b[33mValidating online efficientnet ...\u001b[0m\n",
      "Features extracted in 60.49 seconds\n",
      "Features extracted in 115.10 seconds\n",
      "Computing CMC and mAP ...\n",
      "** Results **\n",
      "mAP: 72.74%\n",
      "CMC curve\n",
      "Rank-1  : 86.50%\n",
      "Rank-5  : 96.56%\n",
      "Rank-10 : 98.57%\n",
      "Rank-20 : 99.42%\n",
      "\u001b[33mValidating momentum efficientnet ...\u001b[0m\n",
      "Features extracted in 62.32 seconds\n",
      "Features extracted in 111.80 seconds\n",
      "Computing CMC and mAP ...\n",
      "** Results **\n",
      "mAP: 71.24%\n",
      "CMC curve\n",
      "Rank-1  : 78.00%\n",
      "Rank-5  : 94.78%\n",
      "Rank-10 : 98.01%\n",
      "Rank-20 : 99.39%\n",
      "\u001b[33mValidating online convnext ...\u001b[0m\n",
      "Features extracted in 63.90 seconds\n",
      "Features extracted in 121.19 seconds\n",
      "Computing CMC and mAP ...\n",
      "** Results **\n",
      "mAP: 75.86%\n",
      "CMC curve\n",
      "Rank-1  : 90.47%\n",
      "Rank-5  : 95.47%\n",
      "Rank-10 : 97.23%\n",
      "Rank-20 : 99.00%\n",
      "\u001b[33mValidating momentum convnext ...\u001b[0m\n",
      "Features extracted in 60.30 seconds\n",
      "Features extracted in 115.96 seconds\n",
      "Computing CMC and mAP ...\n",
      "** Results **\n",
      "mAP: 70.89%\n",
      "CMC curve\n",
      "Rank-1  : 81.10%\n",
      "Rank-5  : 94.32%\n",
      "Rank-10 : 97.06%\n",
      "Rank-20 : 98.73%\n",
      "\u001b[33mValidating online mobilenet ...\u001b[0m\n",
      "Features extracted in 59.25 seconds\n",
      "Features extracted in 113.96 seconds\n",
      "Computing CMC and mAP ...\n",
      "** Results **\n",
      "mAP: 71.69%\n",
      "CMC curve\n",
      "Rank-1  : 87.20%\n",
      "Rank-5  : 96.74%\n",
      "Rank-10 : 98.85%\n",
      "Rank-20 : 99.71%\n",
      "\u001b[33mValidating momentum mobilenet ...\u001b[0m\n",
      "Features extracted in 60.64 seconds\n",
      "Features extracted in 108.59 seconds\n",
      "Computing CMC and mAP ...\n",
      "** Results **\n",
      "mAP: 71.41%\n",
      "CMC curve\n",
      "Rank-1  : 83.91%\n",
      "Rank-5  : 95.41%\n",
      "Rank-10 : 98.08%\n",
      "Rank-20 : 99.14%\n",
      "\u001b[33mValidating online vgg16 ...\u001b[0m\n",
      "Features extracted in 62.94 seconds\n",
      "Features extracted in 114.79 seconds\n",
      "Computing CMC and mAP ...\n",
      "** Results **\n",
      "mAP: 72.14%\n",
      "CMC curve\n",
      "Rank-1  : 87.41%\n",
      "Rank-5  : 96.72%\n",
      "Rank-10 : 98.80%\n",
      "Rank-20 : 99.68%\n",
      "\u001b[33mValidating momentum vgg16 ...\u001b[0m\n",
      "Features extracted in 61.26 seconds\n",
      "Features extracted in 113.35 seconds\n",
      "Computing CMC and mAP ...\n",
      "** Results **\n",
      "mAP: 71.15%\n",
      "CMC curve\n",
      "Rank-1  : 79.56%\n",
      "Rank-5  : 95.82%\n",
      "Rank-10 : 98.64%\n",
      "Rank-20 : 99.55%\n",
      "\u001b[33mValidating online resnet50 ...\u001b[0m\n",
      "Features extracted in 58.86 seconds\n",
      "Features extracted in 109.76 seconds\n",
      "Computing CMC and mAP ...\n",
      "** Results **\n",
      "mAP: 72.93%\n",
      "CMC curve\n",
      "Rank-1  : 89.22%\n",
      "Rank-5  : 97.35%\n",
      "Rank-10 : 99.02%\n",
      "Rank-20 : 99.75%\n",
      "\u001b[33mValidating momentum resnet50 ...\u001b[0m\n",
      "Features extracted in 60.27 seconds\n",
      "Features extracted in 112.01 seconds\n",
      "Computing CMC and mAP ...\n",
      "** Results **\n",
      "mAP: 74.37%\n",
      "CMC curve\n",
      "Rank-1  : 90.07%\n",
      "Rank-5  : 97.95%\n",
      "Rank-10 : 99.19%\n",
      "Rank-20 : 99.74%\n",
      "\u001b[33mValidating online osnet ...\u001b[0m\n",
      "Features extracted in 59.40 seconds\n",
      "Features extracted in 111.77 seconds\n",
      "Computing CMC and mAP ...\n",
      "** Results **\n",
      "mAP: 71.05%\n",
      "CMC curve\n",
      "Rank-1  : 81.59%\n",
      "Rank-5  : 95.73%\n",
      "Rank-10 : 98.23%\n",
      "Rank-20 : 99.54%\n",
      "\u001b[33mValidating momentum osnet ...\u001b[0m\n",
      "Features extracted in 58.26 seconds\n",
      "Features extracted in 113.30 seconds\n",
      "Computing CMC and mAP ...\n",
      "** Results **\n",
      "mAP: 73.09%\n",
      "CMC curve\n",
      "Rank-1  : 81.93%\n",
      "Rank-5  : 95.43%\n",
      "Rank-10 : 98.30%\n",
      "Rank-20 : 99.46%\n",
      "\u001b[33mValidating online densenet121 ...\u001b[0m\n",
      "Features extracted in 60.03 seconds\n",
      "Features extracted in 112.06 seconds\n",
      "Computing CMC and mAP ...\n",
      "** Results **\n",
      "mAP: 74.36%\n",
      "CMC curve\n",
      "Rank-1  : 92.33%\n",
      "Rank-5  : 98.60%\n",
      "Rank-10 : 99.56%\n",
      "Rank-20 : 99.86%\n",
      "\u001b[33mValidating momentum densenet121 ...\u001b[0m\n",
      "Features extracted in 63.23 seconds\n",
      "Features extracted in 108.99 seconds\n",
      "Computing CMC and mAP ...\n",
      "** Results **\n",
      "mAP: 74.16%\n",
      "CMC curve\n",
      "Rank-1  : 86.99%\n",
      "Rank-5  : 96.54%\n",
      "Rank-10 : 98.30%\n",
      "Rank-20 : 99.46%\n",
      "\u001b[33mValidating ensembled with online models ...\u001b[0m\n",
      "Computing CMC and mAP ...\n",
      "** Results **\n",
      "mAP: 75.80%\n",
      "Ranks:\n",
      "Rank-1  : 96.73%\n",
      "Rank-5  : 98.98%\n",
      "Rank-10 : 99.48%\n",
      "\u001b[33mValidating ensembled with momentum models ...\u001b[0m\n",
      "Computing CMC and mAP ...\n",
      "** Results **\n",
      "mAP: 74.25%\n",
      "Ranks:\n",
      "Rank-1  : 87.54%\n",
      "Rank-5  : 96.96%\n",
      "Rank-10 : 98.89%\n",
      "###============ Iteration number 11/90 ============###\n",
      "Extracting Online Features for efficientnet ...\n",
      "Features extracted in 197.80 seconds\n",
      "Computing jaccard distance...\n"
     ]
    },
    {
     "name": "stderr",
     "output_type": "stream",
     "text": [
      "bruteForceKnn is deprecated; call bfKnn instead\n"
     ]
    },
    {
     "name": "stdout",
     "output_type": "stream",
     "text": [
      "Jaccard distance computing time cost: 79.0930278301239\n",
      "Extracting Online Features for convnext ...\n",
      "Features extracted in 196.71 seconds\n",
      "Computing jaccard distance...\n"
     ]
    },
    {
     "name": "stderr",
     "output_type": "stream",
     "text": [
      "bruteForceKnn is deprecated; call bfKnn instead\n"
     ]
    },
    {
     "name": "stdout",
     "output_type": "stream",
     "text": [
      "Jaccard distance computing time cost: 84.97587990760803\n",
      "Extracting Online Features for mobilenet ...\n",
      "Features extracted in 201.63 seconds\n",
      "Computing jaccard distance...\n"
     ]
    },
    {
     "name": "stderr",
     "output_type": "stream",
     "text": [
      "bruteForceKnn is deprecated; call bfKnn instead\n"
     ]
    },
    {
     "name": "stdout",
     "output_type": "stream",
     "text": [
      "Jaccard distance computing time cost: 87.10776376724243\n",
      "Extracting Online Features for vgg16 ...\n",
      "Features extracted in 196.57 seconds\n",
      "Computing jaccard distance...\n"
     ]
    },
    {
     "name": "stderr",
     "output_type": "stream",
     "text": [
      "bruteForceKnn is deprecated; call bfKnn instead\n"
     ]
    },
    {
     "name": "stdout",
     "output_type": "stream",
     "text": [
      "Jaccard distance computing time cost: 86.00462913513184\n",
      "Extracting Online Features for resnet50 ...\n",
      "Features extracted in 192.99 seconds\n",
      "Computing jaccard distance...\n"
     ]
    },
    {
     "name": "stderr",
     "output_type": "stream",
     "text": [
      "bruteForceKnn is deprecated; call bfKnn instead\n"
     ]
    },
    {
     "name": "stdout",
     "output_type": "stream",
     "text": [
      "Jaccard distance computing time cost: 80.27832889556885\n",
      "Extracting Online Features for osnet ...\n",
      "Features extracted in 197.81 seconds\n",
      "Computing jaccard distance...\n"
     ]
    },
    {
     "name": "stderr",
     "output_type": "stream",
     "text": [
      "bruteForceKnn is deprecated; call bfKnn instead\n"
     ]
    },
    {
     "name": "stdout",
     "output_type": "stream",
     "text": [
      "Jaccard distance computing time cost: 77.86564493179321\n",
      "Extracting Online Features for densenet121 ...\n",
      "Features extracted in 191.08 seconds\n",
      "Computing jaccard distance...\n"
     ]
    },
    {
     "name": "stderr",
     "output_type": "stream",
     "text": [
      "bruteForceKnn is deprecated; call bfKnn instead\n"
     ]
    },
    {
     "name": "stdout",
     "output_type": "stream",
     "text": [
      "Jaccard distance computing time cost: 87.6722993850708\n",
      "Reliability: 0.998\n",
      "\u001b[32mMean Purity: 0.00164\u001b[0m\n",
      "\u001b[34mThere are 2 clusters with 4 cameras\u001b[0m\n",
      "\u001b[34mThere are 4 clusters with 5 cameras\u001b[0m\n",
      "\u001b[34mThere are 1 clusters with 8 cameras\u001b[0m\n",
      "\u001b[34mThere are 1 clusters with 10 cameras\u001b[0m\n",
      "\u001b[34mThere are 1 clusters with 13 cameras\u001b[0m\n",
      "\u001b[34mThere are 1 clusters with 16 cameras\u001b[0m\n",
      "\u001b[34mThere are 2 clusters with 18 cameras\u001b[0m\n",
      "\u001b[34mThere are 1 clusters with 26 cameras\u001b[0m\n",
      "\u001b[34mThere are 1 clusters with 27 cameras\u001b[0m\n",
      "\u001b[34mThere are 1 clusters with 30 cameras\u001b[0m\n",
      "\u001b[34mThere are 1 clusters with 34 cameras\u001b[0m\n",
      "\u001b[34mThere are 1 clusters with 37 cameras\u001b[0m\n",
      "\u001b[34mThere are 1 clusters with 38 cameras\u001b[0m\n",
      "\u001b[34mThere are 1 clusters with 44 cameras\u001b[0m\n",
      "\u001b[34mThere are 1 clusters with 47 cameras\u001b[0m\n",
      "\u001b[34mThere are 1 clusters with 48 cameras\u001b[0m\n",
      "\u001b[34mThere are 1 clusters with 52 cameras\u001b[0m\n",
      "\u001b[34mThere are 1 clusters with 54 cameras\u001b[0m\n",
      "\u001b[34mThere are 2 clusters with 58 cameras\u001b[0m\n",
      "\u001b[34mThere are 4 clusters with 59 cameras\u001b[0m\n",
      "\u001b[34mThere are 1 clusters with 60 cameras\u001b[0m\n",
      "\u001b[34mThere are 13 clusters with 61 cameras\u001b[0m\n",
      "\u001b[34mThere are 10 clusters with 62 cameras\u001b[0m\n",
      "\u001b[34mThere are 16 clusters with 63 cameras\u001b[0m\n",
      "\u001b[34mThere are 538 clusters with 64 cameras\u001b[0m\n",
      "\u001b[34mThere are 1 clusters with 108 cameras\u001b[0m\n",
      "\u001b[34mThere are 1 clusters with 127 cameras\u001b[0m\n",
      "\u001b[34mThere are 2 clusters with 128 cameras\u001b[0m\n",
      "Number of classes: 611\n",
      "\u001b[36mLearning Rate: 0.000193\u001b[0m\n",
      "encontrou modelos efficientnet. Carregando...\n",
      "encontrou modelos convnext. Carregando...\n",
      "encontrou modelos mobilenet. Carregando...\n",
      "encontrou modelos vgg16. Carregando...\n",
      "encontrou modelos resnet50. Carregando...\n",
      "encontrou modelos osnet. Carregando...\n",
      "encontrou modelos densenet121. Carregando...\n",
      "###============ Iteration number 12/90 ============###\n",
      "Extracting Online Features for efficientnet ...\n",
      "Features extracted in 190.74 seconds\n",
      "Computing jaccard distance...\n"
     ]
    },
    {
     "name": "stderr",
     "output_type": "stream",
     "text": [
      "bruteForceKnn is deprecated; call bfKnn instead\n"
     ]
    },
    {
     "name": "stdout",
     "output_type": "stream",
     "text": [
      "Jaccard distance computing time cost: 79.17230486869812\n",
      "Extracting Online Features for convnext ...\n",
      "Features extracted in 203.33 seconds\n",
      "Computing jaccard distance...\n"
     ]
    },
    {
     "name": "stderr",
     "output_type": "stream",
     "text": [
      "bruteForceKnn is deprecated; call bfKnn instead\n"
     ]
    },
    {
     "name": "stdout",
     "output_type": "stream",
     "text": [
      "Jaccard distance computing time cost: 79.74692463874817\n",
      "Extracting Online Features for mobilenet ...\n",
      "Features extracted in 197.51 seconds\n",
      "Computing jaccard distance...\n"
     ]
    },
    {
     "name": "stderr",
     "output_type": "stream",
     "text": [
      "bruteForceKnn is deprecated; call bfKnn instead\n"
     ]
    },
    {
     "name": "stdout",
     "output_type": "stream",
     "text": [
      "Jaccard distance computing time cost: 86.08125281333923\n",
      "Extracting Online Features for vgg16 ...\n",
      "Features extracted in 200.29 seconds\n",
      "Computing jaccard distance...\n"
     ]
    },
    {
     "name": "stderr",
     "output_type": "stream",
     "text": [
      "bruteForceKnn is deprecated; call bfKnn instead\n"
     ]
    },
    {
     "name": "stdout",
     "output_type": "stream",
     "text": [
      "Jaccard distance computing time cost: 82.84634041786194\n",
      "Extracting Online Features for resnet50 ...\n",
      "Features extracted in 198.72 seconds\n",
      "Computing jaccard distance...\n"
     ]
    },
    {
     "name": "stderr",
     "output_type": "stream",
     "text": [
      "bruteForceKnn is deprecated; call bfKnn instead\n"
     ]
    },
    {
     "name": "stdout",
     "output_type": "stream",
     "text": [
      "Jaccard distance computing time cost: 87.38890504837036\n",
      "Extracting Online Features for osnet ...\n",
      "Features extracted in 203.21 seconds\n",
      "Computing jaccard distance...\n"
     ]
    },
    {
     "name": "stderr",
     "output_type": "stream",
     "text": [
      "bruteForceKnn is deprecated; call bfKnn instead\n"
     ]
    },
    {
     "name": "stdout",
     "output_type": "stream",
     "text": [
      "Jaccard distance computing time cost: 77.40268135070801\n",
      "Extracting Online Features for densenet121 ...\n",
      "Features extracted in 198.93 seconds\n",
      "Computing jaccard distance...\n"
     ]
    },
    {
     "name": "stderr",
     "output_type": "stream",
     "text": [
      "bruteForceKnn is deprecated; call bfKnn instead\n"
     ]
    },
    {
     "name": "stdout",
     "output_type": "stream",
     "text": [
      "Jaccard distance computing time cost: 79.91310453414917\n",
      "Reliability: 0.998\n",
      "\u001b[32mMean Purity: 0.00164\u001b[0m\n",
      "\u001b[34mThere are 2 clusters with 4 cameras\u001b[0m\n",
      "\u001b[34mThere are 4 clusters with 5 cameras\u001b[0m\n",
      "\u001b[34mThere are 1 clusters with 8 cameras\u001b[0m\n",
      "\u001b[34mThere are 1 clusters with 10 cameras\u001b[0m\n",
      "\u001b[34mThere are 1 clusters with 13 cameras\u001b[0m\n",
      "\u001b[34mThere are 1 clusters with 16 cameras\u001b[0m\n",
      "\u001b[34mThere are 2 clusters with 18 cameras\u001b[0m\n",
      "\u001b[34mThere are 1 clusters with 26 cameras\u001b[0m\n",
      "\u001b[34mThere are 1 clusters with 27 cameras\u001b[0m\n",
      "\u001b[34mThere are 1 clusters with 30 cameras\u001b[0m\n",
      "\u001b[34mThere are 1 clusters with 34 cameras\u001b[0m\n",
      "\u001b[34mThere are 1 clusters with 37 cameras\u001b[0m\n",
      "\u001b[34mThere are 1 clusters with 38 cameras\u001b[0m\n",
      "\u001b[34mThere are 1 clusters with 44 cameras\u001b[0m\n",
      "\u001b[34mThere are 1 clusters with 47 cameras\u001b[0m\n",
      "\u001b[34mThere are 1 clusters with 48 cameras\u001b[0m\n",
      "\u001b[34mThere are 1 clusters with 52 cameras\u001b[0m\n",
      "\u001b[34mThere are 1 clusters with 54 cameras\u001b[0m\n",
      "\u001b[34mThere are 2 clusters with 58 cameras\u001b[0m\n",
      "\u001b[34mThere are 4 clusters with 59 cameras\u001b[0m\n",
      "\u001b[34mThere are 1 clusters with 60 cameras\u001b[0m\n",
      "\u001b[34mThere are 13 clusters with 61 cameras\u001b[0m\n",
      "\u001b[34mThere are 10 clusters with 62 cameras\u001b[0m\n",
      "\u001b[34mThere are 16 clusters with 63 cameras\u001b[0m\n",
      "\u001b[34mThere are 538 clusters with 64 cameras\u001b[0m\n",
      "\u001b[34mThere are 1 clusters with 108 cameras\u001b[0m\n",
      "\u001b[34mThere are 1 clusters with 127 cameras\u001b[0m\n",
      "\u001b[34mThere are 2 clusters with 128 cameras\u001b[0m\n",
      "Number of classes: 611\n",
      "\u001b[36mLearning Rate: 0.000210\u001b[0m\n",
      "encontrou modelos efficientnet. Carregando...\n",
      "encontrou modelos convnext. Carregando...\n",
      "encontrou modelos mobilenet. Carregando...\n",
      "encontrou modelos vgg16. Carregando...\n",
      "encontrou modelos resnet50. Carregando...\n",
      "encontrou modelos osnet. Carregando...\n",
      "encontrou modelos densenet121. Carregando...\n",
      "###============ Iteration number 13/90 ============###\n",
      "Extracting Online Features for efficientnet ...\n",
      "Features extracted in 202.94 seconds\n",
      "Computing jaccard distance...\n"
     ]
    },
    {
     "name": "stderr",
     "output_type": "stream",
     "text": [
      "bruteForceKnn is deprecated; call bfKnn instead\n"
     ]
    },
    {
     "name": "stdout",
     "output_type": "stream",
     "text": [
      "Jaccard distance computing time cost: 79.80717611312866\n",
      "Extracting Online Features for convnext ...\n",
      "Features extracted in 196.94 seconds\n",
      "Computing jaccard distance...\n"
     ]
    },
    {
     "name": "stderr",
     "output_type": "stream",
     "text": [
      "bruteForceKnn is deprecated; call bfKnn instead\n"
     ]
    },
    {
     "name": "stdout",
     "output_type": "stream",
     "text": [
      "Jaccard distance computing time cost: 79.77849388122559\n",
      "Extracting Online Features for mobilenet ...\n",
      "Features extracted in 188.32 seconds\n",
      "Computing jaccard distance...\n"
     ]
    },
    {
     "name": "stderr",
     "output_type": "stream",
     "text": [
      "bruteForceKnn is deprecated; call bfKnn instead\n"
     ]
    },
    {
     "name": "stdout",
     "output_type": "stream",
     "text": [
      "Jaccard distance computing time cost: 86.22892475128174\n",
      "Extracting Online Features for vgg16 ...\n",
      "Features extracted in 191.04 seconds\n",
      "Computing jaccard distance...\n"
     ]
    },
    {
     "name": "stderr",
     "output_type": "stream",
     "text": [
      "bruteForceKnn is deprecated; call bfKnn instead\n"
     ]
    },
    {
     "name": "stdout",
     "output_type": "stream",
     "text": [
      "Jaccard distance computing time cost: 79.08749890327454\n",
      "Extracting Online Features for resnet50 ...\n",
      "Features extracted in 196.74 seconds\n",
      "Computing jaccard distance...\n"
     ]
    },
    {
     "name": "stderr",
     "output_type": "stream",
     "text": [
      "bruteForceKnn is deprecated; call bfKnn instead\n"
     ]
    },
    {
     "name": "stdout",
     "output_type": "stream",
     "text": [
      "Jaccard distance computing time cost: 79.84128403663635\n",
      "Extracting Online Features for osnet ...\n",
      "Features extracted in 194.08 seconds\n",
      "Computing jaccard distance...\n"
     ]
    },
    {
     "name": "stderr",
     "output_type": "stream",
     "text": [
      "bruteForceKnn is deprecated; call bfKnn instead\n"
     ]
    },
    {
     "name": "stdout",
     "output_type": "stream",
     "text": [
      "Jaccard distance computing time cost: 77.66202902793884\n",
      "Extracting Online Features for densenet121 ...\n",
      "Features extracted in 194.07 seconds\n",
      "Computing jaccard distance...\n"
     ]
    },
    {
     "name": "stderr",
     "output_type": "stream",
     "text": [
      "bruteForceKnn is deprecated; call bfKnn instead\n"
     ]
    },
    {
     "name": "stdout",
     "output_type": "stream",
     "text": [
      "Jaccard distance computing time cost: 80.04389953613281\n",
      "Reliability: 0.998\n",
      "\u001b[32mMean Purity: 0.00164\u001b[0m\n",
      "\u001b[34mThere are 2 clusters with 4 cameras\u001b[0m\n",
      "\u001b[34mThere are 4 clusters with 5 cameras\u001b[0m\n",
      "\u001b[34mThere are 1 clusters with 8 cameras\u001b[0m\n",
      "\u001b[34mThere are 1 clusters with 10 cameras\u001b[0m\n",
      "\u001b[34mThere are 1 clusters with 13 cameras\u001b[0m\n",
      "\u001b[34mThere are 1 clusters with 16 cameras\u001b[0m\n",
      "\u001b[34mThere are 2 clusters with 18 cameras\u001b[0m\n",
      "\u001b[34mThere are 1 clusters with 26 cameras\u001b[0m\n",
      "\u001b[34mThere are 1 clusters with 27 cameras\u001b[0m\n",
      "\u001b[34mThere are 1 clusters with 30 cameras\u001b[0m\n",
      "\u001b[34mThere are 1 clusters with 34 cameras\u001b[0m\n",
      "\u001b[34mThere are 1 clusters with 37 cameras\u001b[0m\n",
      "\u001b[34mThere are 1 clusters with 38 cameras\u001b[0m\n",
      "\u001b[34mThere are 1 clusters with 44 cameras\u001b[0m\n",
      "\u001b[34mThere are 1 clusters with 47 cameras\u001b[0m\n",
      "\u001b[34mThere are 1 clusters with 48 cameras\u001b[0m\n",
      "\u001b[34mThere are 1 clusters with 52 cameras\u001b[0m\n",
      "\u001b[34mThere are 1 clusters with 54 cameras\u001b[0m\n",
      "\u001b[34mThere are 2 clusters with 58 cameras\u001b[0m\n",
      "\u001b[34mThere are 4 clusters with 59 cameras\u001b[0m\n",
      "\u001b[34mThere are 1 clusters with 60 cameras\u001b[0m\n",
      "\u001b[34mThere are 13 clusters with 61 cameras\u001b[0m\n",
      "\u001b[34mThere are 10 clusters with 62 cameras\u001b[0m\n",
      "\u001b[34mThere are 16 clusters with 63 cameras\u001b[0m\n",
      "\u001b[34mThere are 538 clusters with 64 cameras\u001b[0m\n",
      "\u001b[34mThere are 1 clusters with 108 cameras\u001b[0m\n",
      "\u001b[34mThere are 1 clusters with 127 cameras\u001b[0m\n",
      "\u001b[34mThere are 2 clusters with 128 cameras\u001b[0m\n",
      "Number of classes: 611\n",
      "\u001b[36mLearning Rate: 0.000228\u001b[0m\n",
      "encontrou modelos efficientnet. Carregando...\n",
      "encontrou modelos convnext. Carregando...\n",
      "encontrou modelos mobilenet. Carregando...\n",
      "encontrou modelos vgg16. Carregando...\n",
      "encontrou modelos resnet50. Carregando...\n",
      "encontrou modelos osnet. Carregando...\n",
      "encontrou modelos densenet121. Carregando...\n",
      "###============ Iteration number 14/90 ============###\n",
      "Extracting Online Features for efficientnet ...\n",
      "Features extracted in 192.17 seconds\n",
      "Computing jaccard distance...\n"
     ]
    },
    {
     "name": "stderr",
     "output_type": "stream",
     "text": [
      "bruteForceKnn is deprecated; call bfKnn instead\n"
     ]
    },
    {
     "name": "stdout",
     "output_type": "stream",
     "text": [
      "Jaccard distance computing time cost: 80.42091965675354\n",
      "Extracting Online Features for convnext ...\n",
      "Features extracted in 207.45 seconds\n",
      "Computing jaccard distance...\n"
     ]
    },
    {
     "name": "stderr",
     "output_type": "stream",
     "text": [
      "bruteForceKnn is deprecated; call bfKnn instead\n"
     ]
    },
    {
     "name": "stdout",
     "output_type": "stream",
     "text": [
      "Jaccard distance computing time cost: 83.32856893539429\n",
      "Extracting Online Features for mobilenet ...\n",
      "Features extracted in 190.85 seconds\n",
      "Computing jaccard distance...\n"
     ]
    },
    {
     "name": "stderr",
     "output_type": "stream",
     "text": [
      "bruteForceKnn is deprecated; call bfKnn instead\n"
     ]
    },
    {
     "name": "stdout",
     "output_type": "stream",
     "text": [
      "Jaccard distance computing time cost: 80.5137939453125\n",
      "Extracting Online Features for vgg16 ...\n",
      "Features extracted in 197.84 seconds\n",
      "Computing jaccard distance...\n"
     ]
    },
    {
     "name": "stderr",
     "output_type": "stream",
     "text": [
      "bruteForceKnn is deprecated; call bfKnn instead\n"
     ]
    },
    {
     "name": "stdout",
     "output_type": "stream",
     "text": [
      "Jaccard distance computing time cost: 79.19183921813965\n",
      "Extracting Online Features for resnet50 ...\n",
      "Features extracted in 201.69 seconds\n",
      "Computing jaccard distance...\n"
     ]
    },
    {
     "name": "stderr",
     "output_type": "stream",
     "text": [
      "bruteForceKnn is deprecated; call bfKnn instead\n"
     ]
    },
    {
     "name": "stdout",
     "output_type": "stream",
     "text": [
      "Jaccard distance computing time cost: 80.27461671829224\n",
      "Extracting Online Features for osnet ...\n",
      "Features extracted in 199.66 seconds\n",
      "Computing jaccard distance...\n"
     ]
    },
    {
     "name": "stderr",
     "output_type": "stream",
     "text": [
      "bruteForceKnn is deprecated; call bfKnn instead\n"
     ]
    },
    {
     "name": "stdout",
     "output_type": "stream",
     "text": [
      "Jaccard distance computing time cost: 81.32089376449585\n",
      "Extracting Online Features for densenet121 ...\n",
      "Features extracted in 195.43 seconds\n",
      "Computing jaccard distance...\n"
     ]
    },
    {
     "name": "stderr",
     "output_type": "stream",
     "text": [
      "bruteForceKnn is deprecated; call bfKnn instead\n"
     ]
    },
    {
     "name": "stdout",
     "output_type": "stream",
     "text": [
      "Jaccard distance computing time cost: 80.89091539382935\n",
      "Reliability: 0.998\n",
      "\u001b[32mMean Purity: 0.00164\u001b[0m\n",
      "\u001b[34mThere are 2 clusters with 4 cameras\u001b[0m\n",
      "\u001b[34mThere are 4 clusters with 5 cameras\u001b[0m\n",
      "\u001b[34mThere are 1 clusters with 8 cameras\u001b[0m\n",
      "\u001b[34mThere are 1 clusters with 10 cameras\u001b[0m\n",
      "\u001b[34mThere are 1 clusters with 13 cameras\u001b[0m\n",
      "\u001b[34mThere are 1 clusters with 16 cameras\u001b[0m\n",
      "\u001b[34mThere are 2 clusters with 18 cameras\u001b[0m\n",
      "\u001b[34mThere are 1 clusters with 26 cameras\u001b[0m\n",
      "\u001b[34mThere are 1 clusters with 27 cameras\u001b[0m\n",
      "\u001b[34mThere are 1 clusters with 30 cameras\u001b[0m\n",
      "\u001b[34mThere are 1 clusters with 34 cameras\u001b[0m\n",
      "\u001b[34mThere are 1 clusters with 37 cameras\u001b[0m\n",
      "\u001b[34mThere are 1 clusters with 38 cameras\u001b[0m\n",
      "\u001b[34mThere are 1 clusters with 44 cameras\u001b[0m\n",
      "\u001b[34mThere are 1 clusters with 47 cameras\u001b[0m\n",
      "\u001b[34mThere are 1 clusters with 48 cameras\u001b[0m\n",
      "\u001b[34mThere are 1 clusters with 52 cameras\u001b[0m\n",
      "\u001b[34mThere are 1 clusters with 54 cameras\u001b[0m\n",
      "\u001b[34mThere are 2 clusters with 58 cameras\u001b[0m\n",
      "\u001b[34mThere are 4 clusters with 59 cameras\u001b[0m\n",
      "\u001b[34mThere are 1 clusters with 60 cameras\u001b[0m\n",
      "\u001b[34mThere are 13 clusters with 61 cameras\u001b[0m\n",
      "\u001b[34mThere are 10 clusters with 62 cameras\u001b[0m\n",
      "\u001b[34mThere are 16 clusters with 63 cameras\u001b[0m\n",
      "\u001b[34mThere are 538 clusters with 64 cameras\u001b[0m\n",
      "\u001b[34mThere are 1 clusters with 108 cameras\u001b[0m\n",
      "\u001b[34mThere are 1 clusters with 127 cameras\u001b[0m\n",
      "\u001b[34mThere are 2 clusters with 128 cameras\u001b[0m\n",
      "Number of classes: 611\n",
      "\u001b[36mLearning Rate: 0.000245\u001b[0m\n",
      "encontrou modelos efficientnet. Carregando...\n",
      "encontrou modelos convnext. Carregando...\n",
      "encontrou modelos mobilenet. Carregando...\n",
      "encontrou modelos vgg16. Carregando...\n",
      "encontrou modelos resnet50. Carregando...\n",
      "encontrou modelos osnet. Carregando...\n",
      "encontrou modelos densenet121. Carregando...\n",
      "###============ Iteration number 15/90 ============###\n",
      "Extracting Online Features for efficientnet ...\n",
      "Features extracted in 203.28 seconds\n",
      "Computing jaccard distance...\n"
     ]
    },
    {
     "name": "stderr",
     "output_type": "stream",
     "text": [
      "bruteForceKnn is deprecated; call bfKnn instead\n"
     ]
    },
    {
     "name": "stdout",
     "output_type": "stream",
     "text": [
      "Jaccard distance computing time cost: 84.99285459518433\n",
      "Extracting Online Features for convnext ...\n",
      "Features extracted in 217.49 seconds\n",
      "Computing jaccard distance...\n"
     ]
    },
    {
     "name": "stderr",
     "output_type": "stream",
     "text": [
      "bruteForceKnn is deprecated; call bfKnn instead\n"
     ]
    },
    {
     "name": "stdout",
     "output_type": "stream",
     "text": [
      "Jaccard distance computing time cost: 79.63350987434387\n",
      "Extracting Online Features for mobilenet ...\n",
      "Features extracted in 215.16 seconds\n",
      "Computing jaccard distance...\n"
     ]
    },
    {
     "name": "stderr",
     "output_type": "stream",
     "text": [
      "bruteForceKnn is deprecated; call bfKnn instead\n"
     ]
    },
    {
     "name": "stdout",
     "output_type": "stream",
     "text": [
      "Jaccard distance computing time cost: 78.89286422729492\n",
      "Extracting Online Features for vgg16 ...\n",
      "Features extracted in 213.64 seconds\n",
      "Computing jaccard distance...\n"
     ]
    },
    {
     "name": "stderr",
     "output_type": "stream",
     "text": [
      "bruteForceKnn is deprecated; call bfKnn instead\n"
     ]
    },
    {
     "name": "stdout",
     "output_type": "stream",
     "text": [
      "Jaccard distance computing time cost: 78.44334697723389\n",
      "Extracting Online Features for resnet50 ...\n",
      "Features extracted in 209.79 seconds\n",
      "Computing jaccard distance...\n"
     ]
    },
    {
     "name": "stderr",
     "output_type": "stream",
     "text": [
      "bruteForceKnn is deprecated; call bfKnn instead\n"
     ]
    },
    {
     "name": "stdout",
     "output_type": "stream",
     "text": [
      "Jaccard distance computing time cost: 80.53222274780273\n",
      "Extracting Online Features for osnet ...\n",
      "Features extracted in 210.66 seconds\n",
      "Computing jaccard distance...\n"
     ]
    },
    {
     "name": "stderr",
     "output_type": "stream",
     "text": [
      "bruteForceKnn is deprecated; call bfKnn instead\n"
     ]
    },
    {
     "name": "stdout",
     "output_type": "stream",
     "text": [
      "Jaccard distance computing time cost: 77.36917448043823\n",
      "Extracting Online Features for densenet121 ...\n",
      "Features extracted in 208.84 seconds\n",
      "Computing jaccard distance...\n"
     ]
    },
    {
     "name": "stderr",
     "output_type": "stream",
     "text": [
      "bruteForceKnn is deprecated; call bfKnn instead\n"
     ]
    },
    {
     "name": "stdout",
     "output_type": "stream",
     "text": [
      "Jaccard distance computing time cost: 81.36005878448486\n",
      "Reliability: 0.998\n",
      "\u001b[32mMean Purity: 0.00164\u001b[0m\n",
      "\u001b[34mThere are 2 clusters with 4 cameras\u001b[0m\n",
      "\u001b[34mThere are 4 clusters with 5 cameras\u001b[0m\n",
      "\u001b[34mThere are 1 clusters with 8 cameras\u001b[0m\n",
      "\u001b[34mThere are 1 clusters with 10 cameras\u001b[0m\n",
      "\u001b[34mThere are 1 clusters with 13 cameras\u001b[0m\n",
      "\u001b[34mThere are 1 clusters with 16 cameras\u001b[0m\n",
      "\u001b[34mThere are 2 clusters with 18 cameras\u001b[0m\n",
      "\u001b[34mThere are 1 clusters with 26 cameras\u001b[0m\n",
      "\u001b[34mThere are 1 clusters with 27 cameras\u001b[0m\n",
      "\u001b[34mThere are 1 clusters with 30 cameras\u001b[0m\n",
      "\u001b[34mThere are 1 clusters with 34 cameras\u001b[0m\n",
      "\u001b[34mThere are 1 clusters with 37 cameras\u001b[0m\n",
      "\u001b[34mThere are 1 clusters with 38 cameras\u001b[0m\n",
      "\u001b[34mThere are 1 clusters with 44 cameras\u001b[0m\n",
      "\u001b[34mThere are 1 clusters with 47 cameras\u001b[0m\n",
      "\u001b[34mThere are 1 clusters with 48 cameras\u001b[0m\n",
      "\u001b[34mThere are 1 clusters with 52 cameras\u001b[0m\n",
      "\u001b[34mThere are 1 clusters with 54 cameras\u001b[0m\n",
      "\u001b[34mThere are 2 clusters with 58 cameras\u001b[0m\n",
      "\u001b[34mThere are 4 clusters with 59 cameras\u001b[0m\n",
      "\u001b[34mThere are 1 clusters with 60 cameras\u001b[0m\n",
      "\u001b[34mThere are 13 clusters with 61 cameras\u001b[0m\n",
      "\u001b[34mThere are 10 clusters with 62 cameras\u001b[0m\n",
      "\u001b[34mThere are 16 clusters with 63 cameras\u001b[0m\n",
      "\u001b[34mThere are 538 clusters with 64 cameras\u001b[0m\n",
      "\u001b[34mThere are 1 clusters with 108 cameras\u001b[0m\n",
      "\u001b[34mThere are 1 clusters with 127 cameras\u001b[0m\n",
      "\u001b[34mThere are 2 clusters with 128 cameras\u001b[0m\n",
      "Number of classes: 611\n",
      "\u001b[36mLearning Rate: 0.000263\u001b[0m\n",
      "encontrou modelos efficientnet. Carregando...\n",
      "encontrou modelos convnext. Carregando...\n",
      "encontrou modelos mobilenet. Carregando...\n",
      "encontrou modelos vgg16. Carregando...\n",
      "encontrou modelos resnet50. Carregando...\n",
      "encontrou modelos osnet. Carregando...\n",
      "encontrou modelos densenet121. Carregando...\n",
      "\u001b[33mValidating online efficientnet ...\u001b[0m\n",
      "Features extracted in 65.29 seconds\n",
      "Features extracted in 118.40 seconds\n",
      "Computing CMC and mAP ...\n",
      "** Results **\n",
      "mAP: 72.74%\n",
      "CMC curve\n",
      "Rank-1  : 86.50%\n",
      "Rank-5  : 96.56%\n",
      "Rank-10 : 98.57%\n",
      "Rank-20 : 99.42%\n",
      "\u001b[33mValidating momentum efficientnet ...\u001b[0m\n",
      "Features extracted in 66.50 seconds\n",
      "Features extracted in 180.47 seconds\n",
      "Computing CMC and mAP ...\n",
      "** Results **\n",
      "mAP: 71.24%\n",
      "CMC curve\n",
      "Rank-1  : 78.00%\n",
      "Rank-5  : 94.78%\n",
      "Rank-10 : 98.01%\n",
      "Rank-20 : 99.39%\n",
      "\u001b[33mValidating online convnext ...\u001b[0m\n",
      "Features extracted in 63.30 seconds\n",
      "Features extracted in 119.11 seconds\n",
      "Computing CMC and mAP ...\n",
      "** Results **\n",
      "mAP: 75.86%\n",
      "CMC curve\n",
      "Rank-1  : 90.47%\n",
      "Rank-5  : 95.47%\n",
      "Rank-10 : 97.23%\n",
      "Rank-20 : 99.00%\n",
      "\u001b[33mValidating momentum convnext ...\u001b[0m\n",
      "Features extracted in 60.90 seconds\n",
      "Features extracted in 116.48 seconds\n",
      "Computing CMC and mAP ...\n",
      "** Results **\n",
      "mAP: 70.89%\n",
      "CMC curve\n",
      "Rank-1  : 81.10%\n",
      "Rank-5  : 94.32%\n",
      "Rank-10 : 97.06%\n",
      "Rank-20 : 98.73%\n",
      "\u001b[33mValidating online mobilenet ...\u001b[0m\n",
      "Features extracted in 57.18 seconds\n",
      "Features extracted in 108.53 seconds\n",
      "Computing CMC and mAP ...\n",
      "** Results **\n",
      "mAP: 71.69%\n",
      "CMC curve\n",
      "Rank-1  : 87.20%\n",
      "Rank-5  : 96.74%\n",
      "Rank-10 : 98.85%\n",
      "Rank-20 : 99.71%\n",
      "\u001b[33mValidating momentum mobilenet ...\u001b[0m\n",
      "Features extracted in 59.19 seconds\n",
      "Features extracted in 110.48 seconds\n",
      "Computing CMC and mAP ...\n",
      "** Results **\n",
      "mAP: 71.41%\n",
      "CMC curve\n",
      "Rank-1  : 83.91%\n",
      "Rank-5  : 95.41%\n",
      "Rank-10 : 98.08%\n",
      "Rank-20 : 99.14%\n",
      "\u001b[33mValidating online vgg16 ...\u001b[0m\n",
      "Features extracted in 58.64 seconds\n",
      "Features extracted in 115.23 seconds\n",
      "Computing CMC and mAP ...\n",
      "** Results **\n",
      "mAP: 72.14%\n",
      "CMC curve\n",
      "Rank-1  : 87.41%\n",
      "Rank-5  : 96.72%\n",
      "Rank-10 : 98.80%\n",
      "Rank-20 : 99.68%\n",
      "\u001b[33mValidating momentum vgg16 ...\u001b[0m\n",
      "Features extracted in 64.38 seconds\n",
      "Features extracted in 114.97 seconds\n",
      "Computing CMC and mAP ...\n",
      "** Results **\n",
      "mAP: 71.15%\n",
      "CMC curve\n",
      "Rank-1  : 79.56%\n",
      "Rank-5  : 95.82%\n",
      "Rank-10 : 98.64%\n",
      "Rank-20 : 99.55%\n",
      "\u001b[33mValidating online resnet50 ...\u001b[0m\n",
      "Features extracted in 62.78 seconds\n",
      "Features extracted in 115.35 seconds\n",
      "Computing CMC and mAP ...\n",
      "** Results **\n",
      "mAP: 72.93%\n",
      "CMC curve\n",
      "Rank-1  : 89.22%\n",
      "Rank-5  : 97.35%\n",
      "Rank-10 : 99.02%\n",
      "Rank-20 : 99.75%\n",
      "\u001b[33mValidating momentum resnet50 ...\u001b[0m\n",
      "Features extracted in 112.10 seconds\n",
      "Features extracted in 390.94 seconds\n",
      "Computing CMC and mAP ...\n",
      "** Results **\n",
      "mAP: 74.37%\n",
      "CMC curve\n",
      "Rank-1  : 90.07%\n",
      "Rank-5  : 97.95%\n",
      "Rank-10 : 99.19%\n",
      "Rank-20 : 99.74%\n",
      "\u001b[33mValidating online osnet ...\u001b[0m\n",
      "Features extracted in 81.25 seconds\n",
      "Features extracted in 293.37 seconds\n",
      "Computing CMC and mAP ...\n",
      "** Results **\n",
      "mAP: 71.05%\n",
      "CMC curve\n",
      "Rank-1  : 81.59%\n",
      "Rank-5  : 95.73%\n",
      "Rank-10 : 98.23%\n",
      "Rank-20 : 99.54%\n",
      "\u001b[33mValidating momentum osnet ...\u001b[0m\n",
      "Features extracted in 59.47 seconds\n",
      "Features extracted in 111.47 seconds\n",
      "Computing CMC and mAP ...\n",
      "** Results **\n",
      "mAP: 73.09%\n",
      "CMC curve\n",
      "Rank-1  : 81.93%\n",
      "Rank-5  : 95.43%\n",
      "Rank-10 : 98.30%\n",
      "Rank-20 : 99.46%\n",
      "\u001b[33mValidating online densenet121 ...\u001b[0m\n",
      "Features extracted in 63.13 seconds\n",
      "Features extracted in 116.37 seconds\n",
      "Computing CMC and mAP ...\n",
      "** Results **\n",
      "mAP: 74.36%\n",
      "CMC curve\n",
      "Rank-1  : 92.33%\n",
      "Rank-5  : 98.60%\n",
      "Rank-10 : 99.56%\n",
      "Rank-20 : 99.86%\n",
      "\u001b[33mValidating momentum densenet121 ...\u001b[0m\n",
      "Features extracted in 64.72 seconds\n",
      "Features extracted in 116.93 seconds\n",
      "Computing CMC and mAP ...\n",
      "** Results **\n",
      "mAP: 74.16%\n",
      "CMC curve\n",
      "Rank-1  : 86.99%\n",
      "Rank-5  : 96.54%\n",
      "Rank-10 : 98.30%\n",
      "Rank-20 : 99.46%\n",
      "\u001b[33mValidating ensembled with online models ...\u001b[0m\n",
      "Computing CMC and mAP ...\n",
      "** Results **\n",
      "mAP: 75.80%\n",
      "Ranks:\n",
      "Rank-1  : 96.73%\n",
      "Rank-5  : 98.98%\n",
      "Rank-10 : 99.48%\n",
      "\u001b[33mValidating ensembled with momentum models ...\u001b[0m\n",
      "Computing CMC and mAP ...\n",
      "** Results **\n",
      "mAP: 74.25%\n",
      "Ranks:\n",
      "Rank-1  : 87.54%\n",
      "Rank-5  : 96.96%\n",
      "Rank-10 : 98.89%\n",
      "###============ Iteration number 16/90 ============###\n",
      "Extracting Online Features for efficientnet ...\n",
      "Features extracted in 201.66 seconds\n",
      "Computing jaccard distance...\n"
     ]
    },
    {
     "name": "stderr",
     "output_type": "stream",
     "text": [
      "bruteForceKnn is deprecated; call bfKnn instead\n"
     ]
    },
    {
     "name": "stdout",
     "output_type": "stream",
     "text": [
      "Jaccard distance computing time cost: 79.48081517219543\n",
      "Extracting Online Features for convnext ...\n",
      "Features extracted in 197.00 seconds\n",
      "Computing jaccard distance...\n"
     ]
    },
    {
     "name": "stderr",
     "output_type": "stream",
     "text": [
      "bruteForceKnn is deprecated; call bfKnn instead\n"
     ]
    },
    {
     "name": "stdout",
     "output_type": "stream",
     "text": [
      "Jaccard distance computing time cost: 80.50403618812561\n",
      "Extracting Online Features for mobilenet ...\n",
      "Features extracted in 200.10 seconds\n",
      "Computing jaccard distance...\n"
     ]
    },
    {
     "name": "stderr",
     "output_type": "stream",
     "text": [
      "bruteForceKnn is deprecated; call bfKnn instead\n"
     ]
    },
    {
     "name": "stdout",
     "output_type": "stream",
     "text": [
      "Jaccard distance computing time cost: 81.54006958007812\n",
      "Extracting Online Features for vgg16 ...\n",
      "Features extracted in 197.20 seconds\n",
      "Computing jaccard distance...\n"
     ]
    },
    {
     "name": "stderr",
     "output_type": "stream",
     "text": [
      "bruteForceKnn is deprecated; call bfKnn instead\n"
     ]
    },
    {
     "name": "stdout",
     "output_type": "stream",
     "text": [
      "Jaccard distance computing time cost: 80.84805297851562\n",
      "Extracting Online Features for resnet50 ...\n",
      "Features extracted in 199.28 seconds\n",
      "Computing jaccard distance...\n"
     ]
    },
    {
     "name": "stderr",
     "output_type": "stream",
     "text": [
      "bruteForceKnn is deprecated; call bfKnn instead\n"
     ]
    },
    {
     "name": "stdout",
     "output_type": "stream",
     "text": [
      "Jaccard distance computing time cost: 84.73488593101501\n",
      "Extracting Online Features for osnet ...\n",
      "Features extracted in 203.23 seconds\n",
      "Computing jaccard distance...\n"
     ]
    },
    {
     "name": "stderr",
     "output_type": "stream",
     "text": [
      "bruteForceKnn is deprecated; call bfKnn instead\n"
     ]
    },
    {
     "name": "stdout",
     "output_type": "stream",
     "text": [
      "Jaccard distance computing time cost: 78.64741897583008\n",
      "Extracting Online Features for densenet121 ...\n",
      "Features extracted in 201.80 seconds\n",
      "Computing jaccard distance...\n"
     ]
    },
    {
     "name": "stderr",
     "output_type": "stream",
     "text": [
      "bruteForceKnn is deprecated; call bfKnn instead\n"
     ]
    },
    {
     "name": "stdout",
     "output_type": "stream",
     "text": [
      "Jaccard distance computing time cost: 81.30585312843323\n",
      "Reliability: 0.998\n",
      "\u001b[32mMean Purity: 0.00164\u001b[0m\n",
      "\u001b[34mThere are 2 clusters with 4 cameras\u001b[0m\n",
      "\u001b[34mThere are 4 clusters with 5 cameras\u001b[0m\n",
      "\u001b[34mThere are 1 clusters with 8 cameras\u001b[0m\n",
      "\u001b[34mThere are 1 clusters with 10 cameras\u001b[0m\n",
      "\u001b[34mThere are 1 clusters with 13 cameras\u001b[0m\n",
      "\u001b[34mThere are 1 clusters with 16 cameras\u001b[0m\n",
      "\u001b[34mThere are 2 clusters with 18 cameras\u001b[0m\n",
      "\u001b[34mThere are 1 clusters with 26 cameras\u001b[0m\n",
      "\u001b[34mThere are 1 clusters with 27 cameras\u001b[0m\n",
      "\u001b[34mThere are 1 clusters with 30 cameras\u001b[0m\n",
      "\u001b[34mThere are 1 clusters with 34 cameras\u001b[0m\n",
      "\u001b[34mThere are 1 clusters with 37 cameras\u001b[0m\n",
      "\u001b[34mThere are 1 clusters with 38 cameras\u001b[0m\n",
      "\u001b[34mThere are 1 clusters with 44 cameras\u001b[0m\n",
      "\u001b[34mThere are 1 clusters with 47 cameras\u001b[0m\n",
      "\u001b[34mThere are 1 clusters with 48 cameras\u001b[0m\n",
      "\u001b[34mThere are 1 clusters with 52 cameras\u001b[0m\n",
      "\u001b[34mThere are 1 clusters with 54 cameras\u001b[0m\n",
      "\u001b[34mThere are 2 clusters with 58 cameras\u001b[0m\n",
      "\u001b[34mThere are 4 clusters with 59 cameras\u001b[0m\n",
      "\u001b[34mThere are 1 clusters with 60 cameras\u001b[0m\n",
      "\u001b[34mThere are 13 clusters with 61 cameras\u001b[0m\n",
      "\u001b[34mThere are 10 clusters with 62 cameras\u001b[0m\n",
      "\u001b[34mThere are 16 clusters with 63 cameras\u001b[0m\n",
      "\u001b[34mThere are 538 clusters with 64 cameras\u001b[0m\n",
      "\u001b[34mThere are 1 clusters with 108 cameras\u001b[0m\n",
      "\u001b[34mThere are 1 clusters with 127 cameras\u001b[0m\n",
      "\u001b[34mThere are 2 clusters with 128 cameras\u001b[0m\n",
      "Number of classes: 611\n",
      "\u001b[36mLearning Rate: 0.000280\u001b[0m\n",
      "encontrou modelos efficientnet. Carregando...\n",
      "encontrou modelos convnext. Carregando...\n",
      "encontrou modelos mobilenet. Carregando...\n",
      "encontrou modelos vgg16. Carregando...\n",
      "encontrou modelos resnet50. Carregando...\n",
      "encontrou modelos osnet. Carregando...\n",
      "encontrou modelos densenet121. Carregando...\n",
      "###============ Iteration number 17/90 ============###\n",
      "Extracting Online Features for efficientnet ...\n",
      "Features extracted in 206.90 seconds\n",
      "Computing jaccard distance...\n"
     ]
    },
    {
     "name": "stderr",
     "output_type": "stream",
     "text": [
      "bruteForceKnn is deprecated; call bfKnn instead\n"
     ]
    },
    {
     "name": "stdout",
     "output_type": "stream",
     "text": [
      "Jaccard distance computing time cost: 88.60802030563354\n",
      "Extracting Online Features for convnext ...\n",
      "Features extracted in 205.87 seconds\n",
      "Computing jaccard distance...\n"
     ]
    },
    {
     "name": "stderr",
     "output_type": "stream",
     "text": [
      "bruteForceKnn is deprecated; call bfKnn instead\n"
     ]
    },
    {
     "name": "stdout",
     "output_type": "stream",
     "text": [
      "Jaccard distance computing time cost: 89.58790302276611\n",
      "Extracting Online Features for mobilenet ...\n",
      "Features extracted in 197.42 seconds\n",
      "Computing jaccard distance...\n"
     ]
    },
    {
     "name": "stderr",
     "output_type": "stream",
     "text": [
      "bruteForceKnn is deprecated; call bfKnn instead\n"
     ]
    },
    {
     "name": "stdout",
     "output_type": "stream",
     "text": [
      "Jaccard distance computing time cost: 91.81308245658875\n",
      "Extracting Online Features for vgg16 ...\n",
      "Features extracted in 200.90 seconds\n",
      "Computing jaccard distance...\n"
     ]
    },
    {
     "name": "stderr",
     "output_type": "stream",
     "text": [
      "bruteForceKnn is deprecated; call bfKnn instead\n"
     ]
    },
    {
     "name": "stdout",
     "output_type": "stream",
     "text": [
      "Jaccard distance computing time cost: 80.78629064559937\n",
      "Extracting Online Features for resnet50 ...\n",
      "Features extracted in 218.05 seconds\n",
      "Computing jaccard distance...\n"
     ]
    },
    {
     "name": "stderr",
     "output_type": "stream",
     "text": [
      "bruteForceKnn is deprecated; call bfKnn instead\n"
     ]
    },
    {
     "name": "stdout",
     "output_type": "stream",
     "text": [
      "Jaccard distance computing time cost: 88.52088856697083\n",
      "Extracting Online Features for osnet ...\n",
      "Features extracted in 205.49 seconds\n",
      "Computing jaccard distance...\n"
     ]
    },
    {
     "name": "stderr",
     "output_type": "stream",
     "text": [
      "bruteForceKnn is deprecated; call bfKnn instead\n"
     ]
    },
    {
     "name": "stdout",
     "output_type": "stream",
     "text": [
      "Jaccard distance computing time cost: 91.40037417411804\n",
      "Extracting Online Features for densenet121 ...\n",
      "Features extracted in 202.59 seconds\n",
      "Computing jaccard distance...\n"
     ]
    },
    {
     "name": "stderr",
     "output_type": "stream",
     "text": [
      "bruteForceKnn is deprecated; call bfKnn instead\n"
     ]
    },
    {
     "name": "stdout",
     "output_type": "stream",
     "text": [
      "Jaccard distance computing time cost: 80.3723554611206\n",
      "Reliability: 0.998\n",
      "\u001b[32mMean Purity: 0.00164\u001b[0m\n",
      "\u001b[34mThere are 2 clusters with 4 cameras\u001b[0m\n",
      "\u001b[34mThere are 4 clusters with 5 cameras\u001b[0m\n",
      "\u001b[34mThere are 1 clusters with 8 cameras\u001b[0m\n",
      "\u001b[34mThere are 1 clusters with 10 cameras\u001b[0m\n",
      "\u001b[34mThere are 1 clusters with 13 cameras\u001b[0m\n",
      "\u001b[34mThere are 1 clusters with 16 cameras\u001b[0m\n",
      "\u001b[34mThere are 2 clusters with 18 cameras\u001b[0m\n",
      "\u001b[34mThere are 1 clusters with 26 cameras\u001b[0m\n",
      "\u001b[34mThere are 1 clusters with 27 cameras\u001b[0m\n",
      "\u001b[34mThere are 1 clusters with 30 cameras\u001b[0m\n",
      "\u001b[34mThere are 1 clusters with 34 cameras\u001b[0m\n",
      "\u001b[34mThere are 1 clusters with 37 cameras\u001b[0m\n",
      "\u001b[34mThere are 1 clusters with 38 cameras\u001b[0m\n",
      "\u001b[34mThere are 1 clusters with 44 cameras\u001b[0m\n",
      "\u001b[34mThere are 1 clusters with 47 cameras\u001b[0m\n",
      "\u001b[34mThere are 1 clusters with 48 cameras\u001b[0m\n",
      "\u001b[34mThere are 1 clusters with 52 cameras\u001b[0m\n",
      "\u001b[34mThere are 1 clusters with 54 cameras\u001b[0m\n",
      "\u001b[34mThere are 2 clusters with 58 cameras\u001b[0m\n",
      "\u001b[34mThere are 4 clusters with 59 cameras\u001b[0m\n",
      "\u001b[34mThere are 1 clusters with 60 cameras\u001b[0m\n",
      "\u001b[34mThere are 13 clusters with 61 cameras\u001b[0m\n",
      "\u001b[34mThere are 10 clusters with 62 cameras\u001b[0m\n",
      "\u001b[34mThere are 16 clusters with 63 cameras\u001b[0m\n",
      "\u001b[34mThere are 538 clusters with 64 cameras\u001b[0m\n",
      "\u001b[34mThere are 1 clusters with 108 cameras\u001b[0m\n",
      "\u001b[34mThere are 1 clusters with 127 cameras\u001b[0m\n",
      "\u001b[34mThere are 2 clusters with 128 cameras\u001b[0m\n",
      "Number of classes: 611\n",
      "\u001b[36mLearning Rate: 0.000298\u001b[0m\n",
      "encontrou modelos efficientnet. Carregando...\n",
      "encontrou modelos convnext. Carregando...\n",
      "encontrou modelos mobilenet. Carregando...\n",
      "encontrou modelos vgg16. Carregando...\n",
      "encontrou modelos resnet50. Carregando...\n",
      "encontrou modelos osnet. Carregando...\n",
      "encontrou modelos densenet121. Carregando...\n",
      "###============ Iteration number 18/90 ============###\n",
      "Extracting Online Features for efficientnet ...\n",
      "Features extracted in 226.18 seconds\n",
      "Computing jaccard distance...\n"
     ]
    },
    {
     "name": "stderr",
     "output_type": "stream",
     "text": [
      "bruteForceKnn is deprecated; call bfKnn instead\n"
     ]
    },
    {
     "name": "stdout",
     "output_type": "stream",
     "text": [
      "Jaccard distance computing time cost: 80.60932993888855\n",
      "Extracting Online Features for convnext ...\n",
      "Features extracted in 214.07 seconds\n",
      "Computing jaccard distance...\n"
     ]
    },
    {
     "name": "stderr",
     "output_type": "stream",
     "text": [
      "bruteForceKnn is deprecated; call bfKnn instead\n"
     ]
    },
    {
     "name": "stdout",
     "output_type": "stream",
     "text": [
      "Jaccard distance computing time cost: 96.08352375030518\n",
      "Extracting Online Features for mobilenet ...\n",
      "Features extracted in 220.92 seconds\n",
      "Computing jaccard distance...\n"
     ]
    },
    {
     "name": "stderr",
     "output_type": "stream",
     "text": [
      "bruteForceKnn is deprecated; call bfKnn instead\n"
     ]
    },
    {
     "name": "stdout",
     "output_type": "stream",
     "text": [
      "Jaccard distance computing time cost: 94.29345273971558\n",
      "Extracting Online Features for vgg16 ...\n",
      "Features extracted in 198.88 seconds\n",
      "Computing jaccard distance...\n"
     ]
    },
    {
     "name": "stderr",
     "output_type": "stream",
     "text": [
      "bruteForceKnn is deprecated; call bfKnn instead\n"
     ]
    },
    {
     "name": "stdout",
     "output_type": "stream",
     "text": [
      "Jaccard distance computing time cost: 79.16393518447876\n",
      "Extracting Online Features for resnet50 ...\n",
      "Features extracted in 197.89 seconds\n",
      "Computing jaccard distance...\n"
     ]
    },
    {
     "name": "stderr",
     "output_type": "stream",
     "text": [
      "bruteForceKnn is deprecated; call bfKnn instead\n"
     ]
    },
    {
     "name": "stdout",
     "output_type": "stream",
     "text": [
      "Jaccard distance computing time cost: 80.23966026306152\n",
      "Extracting Online Features for osnet ...\n",
      "Features extracted in 195.66 seconds\n",
      "Computing jaccard distance...\n"
     ]
    },
    {
     "name": "stderr",
     "output_type": "stream",
     "text": [
      "bruteForceKnn is deprecated; call bfKnn instead\n"
     ]
    },
    {
     "name": "stdout",
     "output_type": "stream",
     "text": [
      "Jaccard distance computing time cost: 76.98884916305542\n",
      "Extracting Online Features for densenet121 ...\n",
      "Features extracted in 200.15 seconds\n",
      "Computing jaccard distance...\n"
     ]
    },
    {
     "name": "stderr",
     "output_type": "stream",
     "text": [
      "bruteForceKnn is deprecated; call bfKnn instead\n"
     ]
    },
    {
     "name": "stdout",
     "output_type": "stream",
     "text": [
      "Jaccard distance computing time cost: 86.18393421173096\n",
      "Reliability: 0.998\n",
      "\u001b[32mMean Purity: 0.00164\u001b[0m\n",
      "\u001b[34mThere are 2 clusters with 4 cameras\u001b[0m\n",
      "\u001b[34mThere are 4 clusters with 5 cameras\u001b[0m\n",
      "\u001b[34mThere are 1 clusters with 8 cameras\u001b[0m\n",
      "\u001b[34mThere are 1 clusters with 10 cameras\u001b[0m\n",
      "\u001b[34mThere are 1 clusters with 13 cameras\u001b[0m\n",
      "\u001b[34mThere are 1 clusters with 16 cameras\u001b[0m\n",
      "\u001b[34mThere are 2 clusters with 18 cameras\u001b[0m\n",
      "\u001b[34mThere are 1 clusters with 26 cameras\u001b[0m\n",
      "\u001b[34mThere are 1 clusters with 27 cameras\u001b[0m\n",
      "\u001b[34mThere are 1 clusters with 30 cameras\u001b[0m\n",
      "\u001b[34mThere are 1 clusters with 34 cameras\u001b[0m\n",
      "\u001b[34mThere are 1 clusters with 37 cameras\u001b[0m\n",
      "\u001b[34mThere are 1 clusters with 38 cameras\u001b[0m\n",
      "\u001b[34mThere are 1 clusters with 44 cameras\u001b[0m\n",
      "\u001b[34mThere are 1 clusters with 47 cameras\u001b[0m\n",
      "\u001b[34mThere are 1 clusters with 48 cameras\u001b[0m\n",
      "\u001b[34mThere are 1 clusters with 52 cameras\u001b[0m\n",
      "\u001b[34mThere are 1 clusters with 54 cameras\u001b[0m\n",
      "\u001b[34mThere are 2 clusters with 58 cameras\u001b[0m\n",
      "\u001b[34mThere are 4 clusters with 59 cameras\u001b[0m\n",
      "\u001b[34mThere are 1 clusters with 60 cameras\u001b[0m\n",
      "\u001b[34mThere are 13 clusters with 61 cameras\u001b[0m\n",
      "\u001b[34mThere are 10 clusters with 62 cameras\u001b[0m\n",
      "\u001b[34mThere are 16 clusters with 63 cameras\u001b[0m\n",
      "\u001b[34mThere are 538 clusters with 64 cameras\u001b[0m\n",
      "\u001b[34mThere are 1 clusters with 108 cameras\u001b[0m\n",
      "\u001b[34mThere are 1 clusters with 127 cameras\u001b[0m\n",
      "\u001b[34mThere are 2 clusters with 128 cameras\u001b[0m\n",
      "Number of classes: 611\n",
      "\u001b[36mLearning Rate: 0.000315\u001b[0m\n",
      "encontrou modelos efficientnet. Carregando...\n",
      "encontrou modelos convnext. Carregando...\n",
      "encontrou modelos mobilenet. Carregando...\n",
      "encontrou modelos vgg16. Carregando...\n",
      "encontrou modelos resnet50. Carregando...\n",
      "encontrou modelos osnet. Carregando...\n",
      "encontrou modelos densenet121. Carregando...\n",
      "###============ Iteration number 19/90 ============###\n",
      "Extracting Online Features for efficientnet ...\n",
      "Features extracted in 201.75 seconds\n",
      "Computing jaccard distance...\n"
     ]
    },
    {
     "name": "stderr",
     "output_type": "stream",
     "text": [
      "bruteForceKnn is deprecated; call bfKnn instead\n"
     ]
    },
    {
     "name": "stdout",
     "output_type": "stream",
     "text": [
      "Jaccard distance computing time cost: 81.27320861816406\n",
      "Extracting Online Features for convnext ...\n",
      "Features extracted in 203.58 seconds\n",
      "Computing jaccard distance...\n"
     ]
    },
    {
     "name": "stderr",
     "output_type": "stream",
     "text": [
      "bruteForceKnn is deprecated; call bfKnn instead\n"
     ]
    },
    {
     "name": "stdout",
     "output_type": "stream",
     "text": [
      "Jaccard distance computing time cost: 85.90365052223206\n",
      "Extracting Online Features for mobilenet ...\n",
      "Features extracted in 191.88 seconds\n",
      "Computing jaccard distance...\n"
     ]
    },
    {
     "name": "stderr",
     "output_type": "stream",
     "text": [
      "bruteForceKnn is deprecated; call bfKnn instead\n"
     ]
    },
    {
     "name": "stdout",
     "output_type": "stream",
     "text": [
      "Jaccard distance computing time cost: 79.60389518737793\n",
      "Extracting Online Features for vgg16 ...\n",
      "Features extracted in 198.51 seconds\n",
      "Computing jaccard distance...\n"
     ]
    },
    {
     "name": "stderr",
     "output_type": "stream",
     "text": [
      "bruteForceKnn is deprecated; call bfKnn instead\n"
     ]
    },
    {
     "name": "stdout",
     "output_type": "stream",
     "text": [
      "Jaccard distance computing time cost: 79.03292942047119\n",
      "Extracting Online Features for resnet50 ...\n",
      "Features extracted in 194.29 seconds\n",
      "Computing jaccard distance...\n"
     ]
    },
    {
     "name": "stderr",
     "output_type": "stream",
     "text": [
      "bruteForceKnn is deprecated; call bfKnn instead\n"
     ]
    },
    {
     "name": "stdout",
     "output_type": "stream",
     "text": [
      "Jaccard distance computing time cost: 79.36221671104431\n",
      "Extracting Online Features for osnet ...\n",
      "Features extracted in 191.86 seconds\n",
      "Computing jaccard distance...\n"
     ]
    },
    {
     "name": "stderr",
     "output_type": "stream",
     "text": [
      "bruteForceKnn is deprecated; call bfKnn instead\n"
     ]
    },
    {
     "name": "stdout",
     "output_type": "stream",
     "text": [
      "Jaccard distance computing time cost: 77.07987189292908\n",
      "Extracting Online Features for densenet121 ...\n",
      "Features extracted in 200.95 seconds\n",
      "Computing jaccard distance...\n"
     ]
    },
    {
     "name": "stderr",
     "output_type": "stream",
     "text": [
      "bruteForceKnn is deprecated; call bfKnn instead\n"
     ]
    },
    {
     "name": "stdout",
     "output_type": "stream",
     "text": [
      "Jaccard distance computing time cost: 79.9090051651001\n",
      "Reliability: 0.998\n",
      "\u001b[32mMean Purity: 0.00164\u001b[0m\n",
      "\u001b[34mThere are 2 clusters with 4 cameras\u001b[0m\n",
      "\u001b[34mThere are 4 clusters with 5 cameras\u001b[0m\n",
      "\u001b[34mThere are 1 clusters with 8 cameras\u001b[0m\n",
      "\u001b[34mThere are 1 clusters with 10 cameras\u001b[0m\n",
      "\u001b[34mThere are 1 clusters with 13 cameras\u001b[0m\n",
      "\u001b[34mThere are 1 clusters with 16 cameras\u001b[0m\n",
      "\u001b[34mThere are 2 clusters with 18 cameras\u001b[0m\n",
      "\u001b[34mThere are 1 clusters with 26 cameras\u001b[0m\n",
      "\u001b[34mThere are 1 clusters with 27 cameras\u001b[0m\n",
      "\u001b[34mThere are 1 clusters with 30 cameras\u001b[0m\n",
      "\u001b[34mThere are 1 clusters with 34 cameras\u001b[0m\n",
      "\u001b[34mThere are 1 clusters with 37 cameras\u001b[0m\n",
      "\u001b[34mThere are 1 clusters with 38 cameras\u001b[0m\n",
      "\u001b[34mThere are 1 clusters with 44 cameras\u001b[0m\n",
      "\u001b[34mThere are 1 clusters with 47 cameras\u001b[0m\n",
      "\u001b[34mThere are 1 clusters with 48 cameras\u001b[0m\n",
      "\u001b[34mThere are 1 clusters with 52 cameras\u001b[0m\n",
      "\u001b[34mThere are 1 clusters with 54 cameras\u001b[0m\n",
      "\u001b[34mThere are 2 clusters with 58 cameras\u001b[0m\n",
      "\u001b[34mThere are 4 clusters with 59 cameras\u001b[0m\n",
      "\u001b[34mThere are 1 clusters with 60 cameras\u001b[0m\n",
      "\u001b[34mThere are 13 clusters with 61 cameras\u001b[0m\n",
      "\u001b[34mThere are 10 clusters with 62 cameras\u001b[0m\n",
      "\u001b[34mThere are 16 clusters with 63 cameras\u001b[0m\n",
      "\u001b[34mThere are 538 clusters with 64 cameras\u001b[0m\n",
      "\u001b[34mThere are 1 clusters with 108 cameras\u001b[0m\n",
      "\u001b[34mThere are 1 clusters with 127 cameras\u001b[0m\n",
      "\u001b[34mThere are 2 clusters with 128 cameras\u001b[0m\n",
      "Number of classes: 611\n",
      "\u001b[36mLearning Rate: 0.000333\u001b[0m\n",
      "encontrou modelos efficientnet. Carregando...\n",
      "encontrou modelos convnext. Carregando...\n",
      "encontrou modelos mobilenet. Carregando...\n",
      "encontrou modelos vgg16. Carregando...\n",
      "encontrou modelos resnet50. Carregando...\n",
      "encontrou modelos osnet. Carregando...\n",
      "encontrou modelos densenet121. Carregando...\n",
      "###============ Iteration number 20/90 ============###\n",
      "Extracting Online Features for efficientnet ...\n",
      "Features extracted in 196.49 seconds\n",
      "Computing jaccard distance...\n"
     ]
    },
    {
     "name": "stderr",
     "output_type": "stream",
     "text": [
      "bruteForceKnn is deprecated; call bfKnn instead\n"
     ]
    },
    {
     "name": "stdout",
     "output_type": "stream",
     "text": [
      "Jaccard distance computing time cost: 79.99006485939026\n",
      "Extracting Online Features for convnext ...\n",
      "Features extracted in 199.64 seconds\n",
      "Computing jaccard distance...\n"
     ]
    },
    {
     "name": "stderr",
     "output_type": "stream",
     "text": [
      "bruteForceKnn is deprecated; call bfKnn instead\n"
     ]
    },
    {
     "name": "stdout",
     "output_type": "stream",
     "text": [
      "Jaccard distance computing time cost: 79.275563955307\n",
      "Extracting Online Features for mobilenet ...\n",
      "Features extracted in 188.83 seconds\n",
      "Computing jaccard distance...\n"
     ]
    },
    {
     "name": "stderr",
     "output_type": "stream",
     "text": [
      "bruteForceKnn is deprecated; call bfKnn instead\n"
     ]
    },
    {
     "name": "stdout",
     "output_type": "stream",
     "text": [
      "Jaccard distance computing time cost: 79.67458748817444\n",
      "Extracting Online Features for vgg16 ...\n",
      "Features extracted in 195.71 seconds\n",
      "Computing jaccard distance...\n"
     ]
    },
    {
     "name": "stderr",
     "output_type": "stream",
     "text": [
      "bruteForceKnn is deprecated; call bfKnn instead\n"
     ]
    },
    {
     "name": "stdout",
     "output_type": "stream",
     "text": [
      "Jaccard distance computing time cost: 78.29787230491638\n",
      "Extracting Online Features for resnet50 ...\n",
      "Features extracted in 196.15 seconds\n",
      "Computing jaccard distance...\n"
     ]
    },
    {
     "name": "stderr",
     "output_type": "stream",
     "text": [
      "bruteForceKnn is deprecated; call bfKnn instead\n"
     ]
    },
    {
     "name": "stdout",
     "output_type": "stream",
     "text": [
      "Jaccard distance computing time cost: 79.47751235961914\n",
      "Extracting Online Features for osnet ...\n",
      "Features extracted in 196.06 seconds\n",
      "Computing jaccard distance...\n"
     ]
    },
    {
     "name": "stderr",
     "output_type": "stream",
     "text": [
      "bruteForceKnn is deprecated; call bfKnn instead\n"
     ]
    },
    {
     "name": "stdout",
     "output_type": "stream",
     "text": [
      "Jaccard distance computing time cost: 76.88037705421448\n",
      "Extracting Online Features for densenet121 ...\n",
      "Features extracted in 200.50 seconds\n",
      "Computing jaccard distance...\n"
     ]
    },
    {
     "name": "stderr",
     "output_type": "stream",
     "text": [
      "bruteForceKnn is deprecated; call bfKnn instead\n"
     ]
    },
    {
     "name": "stdout",
     "output_type": "stream",
     "text": [
      "Jaccard distance computing time cost: 78.88409924507141\n",
      "Reliability: 0.998\n",
      "\u001b[32mMean Purity: 0.00164\u001b[0m\n",
      "\u001b[34mThere are 2 clusters with 4 cameras\u001b[0m\n",
      "\u001b[34mThere are 4 clusters with 5 cameras\u001b[0m\n",
      "\u001b[34mThere are 1 clusters with 8 cameras\u001b[0m\n",
      "\u001b[34mThere are 1 clusters with 10 cameras\u001b[0m\n",
      "\u001b[34mThere are 1 clusters with 13 cameras\u001b[0m\n",
      "\u001b[34mThere are 1 clusters with 16 cameras\u001b[0m\n",
      "\u001b[34mThere are 2 clusters with 18 cameras\u001b[0m\n",
      "\u001b[34mThere are 1 clusters with 26 cameras\u001b[0m\n",
      "\u001b[34mThere are 1 clusters with 27 cameras\u001b[0m\n",
      "\u001b[34mThere are 1 clusters with 30 cameras\u001b[0m\n",
      "\u001b[34mThere are 1 clusters with 34 cameras\u001b[0m\n",
      "\u001b[34mThere are 1 clusters with 37 cameras\u001b[0m\n",
      "\u001b[34mThere are 1 clusters with 38 cameras\u001b[0m\n",
      "\u001b[34mThere are 1 clusters with 44 cameras\u001b[0m\n",
      "\u001b[34mThere are 1 clusters with 47 cameras\u001b[0m\n",
      "\u001b[34mThere are 1 clusters with 48 cameras\u001b[0m\n",
      "\u001b[34mThere are 1 clusters with 52 cameras\u001b[0m\n",
      "\u001b[34mThere are 1 clusters with 54 cameras\u001b[0m\n",
      "\u001b[34mThere are 2 clusters with 58 cameras\u001b[0m\n",
      "\u001b[34mThere are 4 clusters with 59 cameras\u001b[0m\n",
      "\u001b[34mThere are 1 clusters with 60 cameras\u001b[0m\n",
      "\u001b[34mThere are 13 clusters with 61 cameras\u001b[0m\n",
      "\u001b[34mThere are 10 clusters with 62 cameras\u001b[0m\n",
      "\u001b[34mThere are 16 clusters with 63 cameras\u001b[0m\n",
      "\u001b[34mThere are 538 clusters with 64 cameras\u001b[0m\n",
      "\u001b[34mThere are 1 clusters with 108 cameras\u001b[0m\n",
      "\u001b[34mThere are 1 clusters with 127 cameras\u001b[0m\n",
      "\u001b[34mThere are 2 clusters with 128 cameras\u001b[0m\n",
      "Number of classes: 611\n",
      "\u001b[36mLearning Rate: 0.000350\u001b[0m\n",
      "encontrou modelos efficientnet. Carregando...\n",
      "encontrou modelos convnext. Carregando...\n",
      "encontrou modelos mobilenet. Carregando...\n",
      "encontrou modelos vgg16. Carregando...\n",
      "encontrou modelos resnet50. Carregando...\n",
      "encontrou modelos osnet. Carregando...\n",
      "encontrou modelos densenet121. Carregando...\n",
      "\u001b[33mValidating online efficientnet ...\u001b[0m\n",
      "Features extracted in 65.79 seconds\n",
      "Features extracted in 114.79 seconds\n",
      "Computing CMC and mAP ...\n",
      "** Results **\n",
      "mAP: 72.74%\n",
      "CMC curve\n",
      "Rank-1  : 86.50%\n",
      "Rank-5  : 96.56%\n",
      "Rank-10 : 98.57%\n",
      "Rank-20 : 99.42%\n",
      "\u001b[33mValidating momentum efficientnet ...\u001b[0m\n",
      "Features extracted in 61.16 seconds\n",
      "Features extracted in 114.50 seconds\n",
      "Computing CMC and mAP ...\n",
      "** Results **\n",
      "mAP: 71.24%\n",
      "CMC curve\n",
      "Rank-1  : 78.00%\n",
      "Rank-5  : 94.78%\n",
      "Rank-10 : 98.01%\n",
      "Rank-20 : 99.39%\n",
      "\u001b[33mValidating online convnext ...\u001b[0m\n",
      "Features extracted in 62.07 seconds\n",
      "Features extracted in 120.32 seconds\n",
      "Computing CMC and mAP ...\n",
      "** Results **\n",
      "mAP: 75.86%\n",
      "CMC curve\n",
      "Rank-1  : 90.47%\n",
      "Rank-5  : 95.47%\n",
      "Rank-10 : 97.23%\n",
      "Rank-20 : 99.00%\n",
      "\u001b[33mValidating momentum convnext ...\u001b[0m\n",
      "Features extracted in 64.97 seconds\n",
      "Features extracted in 120.63 seconds\n",
      "Computing CMC and mAP ...\n",
      "** Results **\n",
      "mAP: 70.89%\n",
      "CMC curve\n",
      "Rank-1  : 81.10%\n",
      "Rank-5  : 94.32%\n",
      "Rank-10 : 97.06%\n",
      "Rank-20 : 98.73%\n",
      "\u001b[33mValidating online mobilenet ...\u001b[0m\n",
      "Features extracted in 62.28 seconds\n",
      "Features extracted in 112.18 seconds\n",
      "Computing CMC and mAP ...\n",
      "** Results **\n",
      "mAP: 71.69%\n",
      "CMC curve\n",
      "Rank-1  : 87.20%\n",
      "Rank-5  : 96.74%\n",
      "Rank-10 : 98.85%\n",
      "Rank-20 : 99.71%\n",
      "\u001b[33mValidating momentum mobilenet ...\u001b[0m\n",
      "Features extracted in 59.35 seconds\n",
      "Features extracted in 114.40 seconds\n",
      "Computing CMC and mAP ...\n",
      "** Results **\n",
      "mAP: 71.41%\n",
      "CMC curve\n",
      "Rank-1  : 83.91%\n",
      "Rank-5  : 95.41%\n",
      "Rank-10 : 98.08%\n",
      "Rank-20 : 99.14%\n",
      "\u001b[33mValidating online vgg16 ...\u001b[0m\n",
      "Features extracted in 59.90 seconds\n",
      "Features extracted in 115.71 seconds\n",
      "Computing CMC and mAP ...\n",
      "** Results **\n",
      "mAP: 72.14%\n",
      "CMC curve\n",
      "Rank-1  : 87.41%\n",
      "Rank-5  : 96.72%\n",
      "Rank-10 : 98.80%\n",
      "Rank-20 : 99.68%\n",
      "\u001b[33mValidating momentum vgg16 ...\u001b[0m\n",
      "Features extracted in 62.26 seconds\n",
      "Features extracted in 112.85 seconds\n",
      "Computing CMC and mAP ...\n",
      "** Results **\n",
      "mAP: 71.15%\n",
      "CMC curve\n",
      "Rank-1  : 79.56%\n",
      "Rank-5  : 95.82%\n",
      "Rank-10 : 98.64%\n",
      "Rank-20 : 99.55%\n",
      "\u001b[33mValidating online resnet50 ...\u001b[0m\n",
      "Features extracted in 61.86 seconds\n",
      "Features extracted in 111.79 seconds\n",
      "Computing CMC and mAP ...\n",
      "** Results **\n",
      "mAP: 72.93%\n",
      "CMC curve\n",
      "Rank-1  : 89.22%\n",
      "Rank-5  : 97.35%\n",
      "Rank-10 : 99.02%\n",
      "Rank-20 : 99.75%\n",
      "\u001b[33mValidating momentum resnet50 ...\u001b[0m\n",
      "Features extracted in 61.11 seconds\n",
      "Features extracted in 132.24 seconds\n",
      "Computing CMC and mAP ...\n",
      "** Results **\n",
      "mAP: 74.37%\n",
      "CMC curve\n",
      "Rank-1  : 90.07%\n",
      "Rank-5  : 97.95%\n",
      "Rank-10 : 99.19%\n",
      "Rank-20 : 99.74%\n",
      "\u001b[33mValidating online osnet ...\u001b[0m\n",
      "Features extracted in 63.26 seconds\n",
      "Features extracted in 120.58 seconds\n",
      "Computing CMC and mAP ...\n",
      "** Results **\n",
      "mAP: 71.05%\n",
      "CMC curve\n",
      "Rank-1  : 81.59%\n",
      "Rank-5  : 95.73%\n",
      "Rank-10 : 98.23%\n",
      "Rank-20 : 99.54%\n",
      "\u001b[33mValidating momentum osnet ...\u001b[0m\n",
      "Features extracted in 63.07 seconds\n",
      "Features extracted in 120.10 seconds\n",
      "Computing CMC and mAP ...\n",
      "** Results **\n",
      "mAP: 73.09%\n",
      "CMC curve\n",
      "Rank-1  : 81.93%\n",
      "Rank-5  : 95.43%\n",
      "Rank-10 : 98.30%\n",
      "Rank-20 : 99.46%\n",
      "\u001b[33mValidating online densenet121 ...\u001b[0m\n",
      "Features extracted in 63.69 seconds\n",
      "Features extracted in 123.74 seconds\n",
      "Computing CMC and mAP ...\n",
      "** Results **\n",
      "mAP: 74.36%\n",
      "CMC curve\n",
      "Rank-1  : 92.33%\n",
      "Rank-5  : 98.60%\n",
      "Rank-10 : 99.56%\n",
      "Rank-20 : 99.86%\n",
      "\u001b[33mValidating momentum densenet121 ...\u001b[0m\n",
      "Features extracted in 65.00 seconds\n",
      "Features extracted in 115.61 seconds\n",
      "Computing CMC and mAP ...\n",
      "** Results **\n",
      "mAP: 74.16%\n",
      "CMC curve\n",
      "Rank-1  : 86.99%\n",
      "Rank-5  : 96.54%\n",
      "Rank-10 : 98.30%\n",
      "Rank-20 : 99.46%\n",
      "\u001b[33mValidating ensembled with online models ...\u001b[0m\n",
      "Computing CMC and mAP ...\n",
      "** Results **\n",
      "mAP: 75.80%\n",
      "Ranks:\n",
      "Rank-1  : 96.73%\n",
      "Rank-5  : 98.98%\n",
      "Rank-10 : 99.48%\n",
      "\u001b[33mValidating ensembled with momentum models ...\u001b[0m\n",
      "Computing CMC and mAP ...\n",
      "** Results **\n",
      "mAP: 74.25%\n",
      "Ranks:\n",
      "Rank-1  : 87.54%\n",
      "Rank-5  : 96.96%\n",
      "Rank-10 : 98.89%\n",
      "###============ Iteration number 21/90 ============###\n",
      "Extracting Online Features for efficientnet ...\n",
      "Features extracted in 201.19 seconds\n",
      "Computing jaccard distance...\n"
     ]
    },
    {
     "name": "stderr",
     "output_type": "stream",
     "text": [
      "bruteForceKnn is deprecated; call bfKnn instead\n"
     ]
    },
    {
     "name": "stdout",
     "output_type": "stream",
     "text": [
      "Jaccard distance computing time cost: 82.86500382423401\n",
      "Extracting Online Features for convnext ...\n",
      "Features extracted in 207.48 seconds\n",
      "Computing jaccard distance...\n"
     ]
    },
    {
     "name": "stderr",
     "output_type": "stream",
     "text": [
      "bruteForceKnn is deprecated; call bfKnn instead\n"
     ]
    },
    {
     "name": "stdout",
     "output_type": "stream",
     "text": [
      "Jaccard distance computing time cost: 79.54118323326111\n",
      "Extracting Online Features for mobilenet ...\n",
      "Features extracted in 198.40 seconds\n",
      "Computing jaccard distance...\n"
     ]
    },
    {
     "name": "stderr",
     "output_type": "stream",
     "text": [
      "bruteForceKnn is deprecated; call bfKnn instead\n"
     ]
    },
    {
     "name": "stdout",
     "output_type": "stream",
     "text": [
      "Jaccard distance computing time cost: 80.40103483200073\n",
      "Extracting Online Features for vgg16 ...\n",
      "Features extracted in 200.38 seconds\n",
      "Computing jaccard distance...\n"
     ]
    },
    {
     "name": "stderr",
     "output_type": "stream",
     "text": [
      "bruteForceKnn is deprecated; call bfKnn instead\n"
     ]
    },
    {
     "name": "stdout",
     "output_type": "stream",
     "text": [
      "Jaccard distance computing time cost: 79.07248711585999\n",
      "Extracting Online Features for resnet50 ...\n",
      "Features extracted in 201.00 seconds\n",
      "Computing jaccard distance...\n"
     ]
    },
    {
     "name": "stderr",
     "output_type": "stream",
     "text": [
      "bruteForceKnn is deprecated; call bfKnn instead\n"
     ]
    },
    {
     "name": "stdout",
     "output_type": "stream",
     "text": [
      "Jaccard distance computing time cost: 79.59133100509644\n",
      "Extracting Online Features for osnet ...\n",
      "Features extracted in 200.88 seconds\n",
      "Computing jaccard distance...\n"
     ]
    },
    {
     "name": "stderr",
     "output_type": "stream",
     "text": [
      "bruteForceKnn is deprecated; call bfKnn instead\n"
     ]
    },
    {
     "name": "stdout",
     "output_type": "stream",
     "text": [
      "Jaccard distance computing time cost: 77.69328689575195\n",
      "Extracting Online Features for densenet121 ...\n",
      "Features extracted in 196.78 seconds\n",
      "Computing jaccard distance...\n"
     ]
    },
    {
     "name": "stderr",
     "output_type": "stream",
     "text": [
      "bruteForceKnn is deprecated; call bfKnn instead\n"
     ]
    },
    {
     "name": "stdout",
     "output_type": "stream",
     "text": [
      "Jaccard distance computing time cost: 79.7215507030487\n",
      "Reliability: 0.998\n",
      "\u001b[32mMean Purity: 0.00164\u001b[0m\n",
      "\u001b[34mThere are 2 clusters with 4 cameras\u001b[0m\n",
      "\u001b[34mThere are 4 clusters with 5 cameras\u001b[0m\n",
      "\u001b[34mThere are 1 clusters with 8 cameras\u001b[0m\n",
      "\u001b[34mThere are 1 clusters with 10 cameras\u001b[0m\n",
      "\u001b[34mThere are 1 clusters with 13 cameras\u001b[0m\n",
      "\u001b[34mThere are 1 clusters with 16 cameras\u001b[0m\n",
      "\u001b[34mThere are 2 clusters with 18 cameras\u001b[0m\n",
      "\u001b[34mThere are 1 clusters with 26 cameras\u001b[0m\n",
      "\u001b[34mThere are 1 clusters with 27 cameras\u001b[0m\n",
      "\u001b[34mThere are 1 clusters with 30 cameras\u001b[0m\n",
      "\u001b[34mThere are 1 clusters with 34 cameras\u001b[0m\n",
      "\u001b[34mThere are 1 clusters with 37 cameras\u001b[0m\n",
      "\u001b[34mThere are 1 clusters with 38 cameras\u001b[0m\n",
      "\u001b[34mThere are 1 clusters with 44 cameras\u001b[0m\n",
      "\u001b[34mThere are 1 clusters with 47 cameras\u001b[0m\n",
      "\u001b[34mThere are 1 clusters with 48 cameras\u001b[0m\n",
      "\u001b[34mThere are 1 clusters with 52 cameras\u001b[0m\n",
      "\u001b[34mThere are 1 clusters with 54 cameras\u001b[0m\n",
      "\u001b[34mThere are 2 clusters with 58 cameras\u001b[0m\n",
      "\u001b[34mThere are 4 clusters with 59 cameras\u001b[0m\n",
      "\u001b[34mThere are 1 clusters with 60 cameras\u001b[0m\n",
      "\u001b[34mThere are 13 clusters with 61 cameras\u001b[0m\n",
      "\u001b[34mThere are 10 clusters with 62 cameras\u001b[0m\n",
      "\u001b[34mThere are 16 clusters with 63 cameras\u001b[0m\n",
      "\u001b[34mThere are 538 clusters with 64 cameras\u001b[0m\n",
      "\u001b[34mThere are 1 clusters with 108 cameras\u001b[0m\n",
      "\u001b[34mThere are 1 clusters with 127 cameras\u001b[0m\n",
      "\u001b[34mThere are 2 clusters with 128 cameras\u001b[0m\n",
      "Number of classes: 611\n",
      "\u001b[36mLearning Rate: 0.000350\u001b[0m\n",
      "encontrou modelos efficientnet. Carregando...\n",
      "encontrou modelos convnext. Carregando...\n",
      "encontrou modelos mobilenet. Carregando...\n",
      "encontrou modelos vgg16. Carregando...\n",
      "encontrou modelos resnet50. Carregando...\n",
      "encontrou modelos osnet. Carregando...\n",
      "encontrou modelos densenet121. Carregando...\n",
      "###============ Iteration number 22/90 ============###\n",
      "Extracting Online Features for efficientnet ...\n",
      "Features extracted in 198.00 seconds\n",
      "Computing jaccard distance...\n"
     ]
    },
    {
     "name": "stderr",
     "output_type": "stream",
     "text": [
      "bruteForceKnn is deprecated; call bfKnn instead\n"
     ]
    },
    {
     "name": "stdout",
     "output_type": "stream",
     "text": [
      "Jaccard distance computing time cost: 78.3302001953125\n",
      "Extracting Online Features for convnext ...\n",
      "Features extracted in 204.74 seconds\n",
      "Computing jaccard distance...\n"
     ]
    },
    {
     "name": "stderr",
     "output_type": "stream",
     "text": [
      "bruteForceKnn is deprecated; call bfKnn instead\n"
     ]
    },
    {
     "name": "stdout",
     "output_type": "stream",
     "text": [
      "Jaccard distance computing time cost: 78.82480669021606\n",
      "Extracting Online Features for mobilenet ...\n",
      "Features extracted in 200.47 seconds\n",
      "Computing jaccard distance...\n"
     ]
    },
    {
     "name": "stderr",
     "output_type": "stream",
     "text": [
      "bruteForceKnn is deprecated; call bfKnn instead\n"
     ]
    },
    {
     "name": "stdout",
     "output_type": "stream",
     "text": [
      "Jaccard distance computing time cost: 78.61384057998657\n",
      "Extracting Online Features for vgg16 ...\n",
      "Features extracted in 201.11 seconds\n",
      "Computing jaccard distance...\n"
     ]
    },
    {
     "name": "stderr",
     "output_type": "stream",
     "text": [
      "bruteForceKnn is deprecated; call bfKnn instead\n"
     ]
    },
    {
     "name": "stdout",
     "output_type": "stream",
     "text": [
      "Jaccard distance computing time cost: 86.31455159187317\n",
      "Extracting Online Features for resnet50 ...\n",
      "Features extracted in 198.82 seconds\n",
      "Computing jaccard distance...\n"
     ]
    },
    {
     "name": "stderr",
     "output_type": "stream",
     "text": [
      "bruteForceKnn is deprecated; call bfKnn instead\n"
     ]
    },
    {
     "name": "stdout",
     "output_type": "stream",
     "text": [
      "Jaccard distance computing time cost: 86.27944326400757\n",
      "Extracting Online Features for osnet ...\n",
      "Features extracted in 204.83 seconds\n",
      "Computing jaccard distance...\n"
     ]
    },
    {
     "name": "stderr",
     "output_type": "stream",
     "text": [
      "bruteForceKnn is deprecated; call bfKnn instead\n"
     ]
    },
    {
     "name": "stdout",
     "output_type": "stream",
     "text": [
      "Jaccard distance computing time cost: 76.4851086139679\n",
      "Extracting Online Features for densenet121 ...\n",
      "Features extracted in 195.55 seconds\n",
      "Computing jaccard distance...\n"
     ]
    },
    {
     "name": "stderr",
     "output_type": "stream",
     "text": [
      "bruteForceKnn is deprecated; call bfKnn instead\n"
     ]
    },
    {
     "name": "stdout",
     "output_type": "stream",
     "text": [
      "Jaccard distance computing time cost: 80.01471424102783\n",
      "Reliability: 0.998\n",
      "\u001b[32mMean Purity: 0.00164\u001b[0m\n",
      "\u001b[34mThere are 2 clusters with 4 cameras\u001b[0m\n",
      "\u001b[34mThere are 4 clusters with 5 cameras\u001b[0m\n",
      "\u001b[34mThere are 1 clusters with 8 cameras\u001b[0m\n",
      "\u001b[34mThere are 1 clusters with 10 cameras\u001b[0m\n",
      "\u001b[34mThere are 1 clusters with 13 cameras\u001b[0m\n",
      "\u001b[34mThere are 1 clusters with 16 cameras\u001b[0m\n",
      "\u001b[34mThere are 2 clusters with 18 cameras\u001b[0m\n",
      "\u001b[34mThere are 1 clusters with 26 cameras\u001b[0m\n",
      "\u001b[34mThere are 1 clusters with 27 cameras\u001b[0m\n",
      "\u001b[34mThere are 1 clusters with 30 cameras\u001b[0m\n",
      "\u001b[34mThere are 1 clusters with 34 cameras\u001b[0m\n",
      "\u001b[34mThere are 1 clusters with 37 cameras\u001b[0m\n",
      "\u001b[34mThere are 1 clusters with 38 cameras\u001b[0m\n",
      "\u001b[34mThere are 1 clusters with 44 cameras\u001b[0m\n",
      "\u001b[34mThere are 1 clusters with 47 cameras\u001b[0m\n",
      "\u001b[34mThere are 1 clusters with 48 cameras\u001b[0m\n",
      "\u001b[34mThere are 1 clusters with 52 cameras\u001b[0m\n",
      "\u001b[34mThere are 1 clusters with 54 cameras\u001b[0m\n",
      "\u001b[34mThere are 2 clusters with 58 cameras\u001b[0m\n",
      "\u001b[34mThere are 4 clusters with 59 cameras\u001b[0m\n",
      "\u001b[34mThere are 1 clusters with 60 cameras\u001b[0m\n",
      "\u001b[34mThere are 13 clusters with 61 cameras\u001b[0m\n",
      "\u001b[34mThere are 10 clusters with 62 cameras\u001b[0m\n",
      "\u001b[34mThere are 16 clusters with 63 cameras\u001b[0m\n",
      "\u001b[34mThere are 538 clusters with 64 cameras\u001b[0m\n",
      "\u001b[34mThere are 1 clusters with 108 cameras\u001b[0m\n",
      "\u001b[34mThere are 1 clusters with 127 cameras\u001b[0m\n",
      "\u001b[34mThere are 2 clusters with 128 cameras\u001b[0m\n",
      "Number of classes: 611\n",
      "\u001b[36mLearning Rate: 0.000350\u001b[0m\n",
      "encontrou modelos efficientnet. Carregando...\n",
      "encontrou modelos convnext. Carregando...\n",
      "encontrou modelos mobilenet. Carregando...\n",
      "encontrou modelos vgg16. Carregando...\n",
      "encontrou modelos resnet50. Carregando...\n",
      "encontrou modelos osnet. Carregando...\n",
      "encontrou modelos densenet121. Carregando...\n",
      "###============ Iteration number 23/90 ============###\n",
      "Extracting Online Features for efficientnet ...\n",
      "Features extracted in 198.04 seconds\n",
      "Computing jaccard distance...\n"
     ]
    },
    {
     "name": "stderr",
     "output_type": "stream",
     "text": [
      "bruteForceKnn is deprecated; call bfKnn instead\n"
     ]
    },
    {
     "name": "stdout",
     "output_type": "stream",
     "text": [
      "Jaccard distance computing time cost: 90.78867220878601\n",
      "Extracting Online Features for convnext ...\n",
      "Features extracted in 205.30 seconds\n",
      "Computing jaccard distance...\n"
     ]
    },
    {
     "name": "stderr",
     "output_type": "stream",
     "text": [
      "bruteForceKnn is deprecated; call bfKnn instead\n"
     ]
    },
    {
     "name": "stdout",
     "output_type": "stream",
     "text": [
      "Jaccard distance computing time cost: 79.03979706764221\n",
      "Extracting Online Features for mobilenet ...\n",
      "Features extracted in 196.93 seconds\n",
      "Computing jaccard distance...\n"
     ]
    },
    {
     "name": "stderr",
     "output_type": "stream",
     "text": [
      "bruteForceKnn is deprecated; call bfKnn instead\n"
     ]
    },
    {
     "name": "stdout",
     "output_type": "stream",
     "text": [
      "Jaccard distance computing time cost: 80.37369561195374\n",
      "Extracting Online Features for vgg16 ...\n",
      "Features extracted in 201.16 seconds\n",
      "Computing jaccard distance...\n"
     ]
    },
    {
     "name": "stderr",
     "output_type": "stream",
     "text": [
      "bruteForceKnn is deprecated; call bfKnn instead\n"
     ]
    },
    {
     "name": "stdout",
     "output_type": "stream",
     "text": [
      "Jaccard distance computing time cost: 78.94476675987244\n",
      "Extracting Online Features for resnet50 ...\n",
      "Features extracted in 199.15 seconds\n",
      "Computing jaccard distance...\n"
     ]
    },
    {
     "name": "stderr",
     "output_type": "stream",
     "text": [
      "bruteForceKnn is deprecated; call bfKnn instead\n"
     ]
    },
    {
     "name": "stdout",
     "output_type": "stream",
     "text": [
      "Jaccard distance computing time cost: 81.16480565071106\n",
      "Extracting Online Features for osnet ...\n",
      "Features extracted in 198.10 seconds\n",
      "Computing jaccard distance...\n"
     ]
    },
    {
     "name": "stderr",
     "output_type": "stream",
     "text": [
      "bruteForceKnn is deprecated; call bfKnn instead\n"
     ]
    },
    {
     "name": "stdout",
     "output_type": "stream",
     "text": [
      "Jaccard distance computing time cost: 86.6185872554779\n",
      "Extracting Online Features for densenet121 ...\n",
      "Features extracted in 196.42 seconds\n",
      "Computing jaccard distance...\n"
     ]
    },
    {
     "name": "stderr",
     "output_type": "stream",
     "text": [
      "bruteForceKnn is deprecated; call bfKnn instead\n"
     ]
    },
    {
     "name": "stdout",
     "output_type": "stream",
     "text": [
      "Jaccard distance computing time cost: 81.37682676315308\n",
      "Reliability: 0.998\n",
      "\u001b[32mMean Purity: 0.00164\u001b[0m\n",
      "\u001b[34mThere are 2 clusters with 4 cameras\u001b[0m\n",
      "\u001b[34mThere are 4 clusters with 5 cameras\u001b[0m\n",
      "\u001b[34mThere are 1 clusters with 8 cameras\u001b[0m\n",
      "\u001b[34mThere are 1 clusters with 10 cameras\u001b[0m\n",
      "\u001b[34mThere are 1 clusters with 13 cameras\u001b[0m\n",
      "\u001b[34mThere are 1 clusters with 16 cameras\u001b[0m\n",
      "\u001b[34mThere are 2 clusters with 18 cameras\u001b[0m\n",
      "\u001b[34mThere are 1 clusters with 26 cameras\u001b[0m\n",
      "\u001b[34mThere are 1 clusters with 27 cameras\u001b[0m\n",
      "\u001b[34mThere are 1 clusters with 30 cameras\u001b[0m\n",
      "\u001b[34mThere are 1 clusters with 34 cameras\u001b[0m\n",
      "\u001b[34mThere are 1 clusters with 37 cameras\u001b[0m\n",
      "\u001b[34mThere are 1 clusters with 38 cameras\u001b[0m\n",
      "\u001b[34mThere are 1 clusters with 44 cameras\u001b[0m\n",
      "\u001b[34mThere are 1 clusters with 47 cameras\u001b[0m\n",
      "\u001b[34mThere are 1 clusters with 48 cameras\u001b[0m\n",
      "\u001b[34mThere are 1 clusters with 52 cameras\u001b[0m\n",
      "\u001b[34mThere are 1 clusters with 54 cameras\u001b[0m\n",
      "\u001b[34mThere are 2 clusters with 58 cameras\u001b[0m\n",
      "\u001b[34mThere are 4 clusters with 59 cameras\u001b[0m\n",
      "\u001b[34mThere are 1 clusters with 60 cameras\u001b[0m\n",
      "\u001b[34mThere are 13 clusters with 61 cameras\u001b[0m\n",
      "\u001b[34mThere are 10 clusters with 62 cameras\u001b[0m\n",
      "\u001b[34mThere are 16 clusters with 63 cameras\u001b[0m\n",
      "\u001b[34mThere are 538 clusters with 64 cameras\u001b[0m\n",
      "\u001b[34mThere are 1 clusters with 108 cameras\u001b[0m\n",
      "\u001b[34mThere are 1 clusters with 127 cameras\u001b[0m\n",
      "\u001b[34mThere are 2 clusters with 128 cameras\u001b[0m\n",
      "Number of classes: 611\n",
      "\u001b[36mLearning Rate: 0.000350\u001b[0m\n",
      "encontrou modelos efficientnet. Carregando...\n",
      "encontrou modelos convnext. Carregando...\n",
      "encontrou modelos mobilenet. Carregando...\n",
      "encontrou modelos vgg16. Carregando...\n",
      "encontrou modelos resnet50. Carregando...\n",
      "encontrou modelos osnet. Carregando...\n",
      "encontrou modelos densenet121. Carregando...\n",
      "###============ Iteration number 24/90 ============###\n",
      "Extracting Online Features for efficientnet ...\n",
      "Features extracted in 196.11 seconds\n",
      "Computing jaccard distance...\n"
     ]
    },
    {
     "name": "stderr",
     "output_type": "stream",
     "text": [
      "bruteForceKnn is deprecated; call bfKnn instead\n"
     ]
    },
    {
     "name": "stdout",
     "output_type": "stream",
     "text": [
      "Jaccard distance computing time cost: 79.7191686630249\n",
      "Extracting Online Features for convnext ...\n",
      "Features extracted in 205.25 seconds\n",
      "Computing jaccard distance...\n"
     ]
    },
    {
     "name": "stderr",
     "output_type": "stream",
     "text": [
      "bruteForceKnn is deprecated; call bfKnn instead\n"
     ]
    },
    {
     "name": "stdout",
     "output_type": "stream",
     "text": [
      "Jaccard distance computing time cost: 79.00211954116821\n",
      "Extracting Online Features for mobilenet ...\n",
      "Features extracted in 200.33 seconds\n",
      "Computing jaccard distance...\n"
     ]
    },
    {
     "name": "stderr",
     "output_type": "stream",
     "text": [
      "bruteForceKnn is deprecated; call bfKnn instead\n"
     ]
    },
    {
     "name": "stdout",
     "output_type": "stream",
     "text": [
      "Jaccard distance computing time cost: 87.52059817314148\n",
      "Extracting Online Features for vgg16 ...\n",
      "Features extracted in 200.19 seconds\n",
      "Computing jaccard distance...\n"
     ]
    },
    {
     "name": "stderr",
     "output_type": "stream",
     "text": [
      "bruteForceKnn is deprecated; call bfKnn instead\n"
     ]
    },
    {
     "name": "stdout",
     "output_type": "stream",
     "text": [
      "Jaccard distance computing time cost: 85.50963234901428\n",
      "Extracting Online Features for resnet50 ...\n",
      "Features extracted in 200.64 seconds\n",
      "Computing jaccard distance...\n"
     ]
    },
    {
     "name": "stderr",
     "output_type": "stream",
     "text": [
      "bruteForceKnn is deprecated; call bfKnn instead\n"
     ]
    },
    {
     "name": "stdout",
     "output_type": "stream",
     "text": [
      "Jaccard distance computing time cost: 79.9589102268219\n",
      "Extracting Online Features for osnet ...\n",
      "Features extracted in 201.93 seconds\n",
      "Computing jaccard distance...\n"
     ]
    },
    {
     "name": "stderr",
     "output_type": "stream",
     "text": [
      "bruteForceKnn is deprecated; call bfKnn instead\n"
     ]
    },
    {
     "name": "stdout",
     "output_type": "stream",
     "text": [
      "Jaccard distance computing time cost: 77.26652312278748\n",
      "Extracting Online Features for densenet121 ...\n",
      "Features extracted in 202.18 seconds\n",
      "Computing jaccard distance...\n"
     ]
    },
    {
     "name": "stderr",
     "output_type": "stream",
     "text": [
      "bruteForceKnn is deprecated; call bfKnn instead\n"
     ]
    },
    {
     "name": "stdout",
     "output_type": "stream",
     "text": [
      "Jaccard distance computing time cost: 80.65428280830383\n",
      "Reliability: 0.998\n",
      "\u001b[32mMean Purity: 0.00164\u001b[0m\n",
      "\u001b[34mThere are 2 clusters with 4 cameras\u001b[0m\n",
      "\u001b[34mThere are 4 clusters with 5 cameras\u001b[0m\n",
      "\u001b[34mThere are 1 clusters with 8 cameras\u001b[0m\n",
      "\u001b[34mThere are 1 clusters with 10 cameras\u001b[0m\n",
      "\u001b[34mThere are 1 clusters with 13 cameras\u001b[0m\n",
      "\u001b[34mThere are 1 clusters with 16 cameras\u001b[0m\n",
      "\u001b[34mThere are 2 clusters with 18 cameras\u001b[0m\n",
      "\u001b[34mThere are 1 clusters with 26 cameras\u001b[0m\n",
      "\u001b[34mThere are 1 clusters with 27 cameras\u001b[0m\n",
      "\u001b[34mThere are 1 clusters with 30 cameras\u001b[0m\n",
      "\u001b[34mThere are 1 clusters with 34 cameras\u001b[0m\n",
      "\u001b[34mThere are 1 clusters with 37 cameras\u001b[0m\n",
      "\u001b[34mThere are 1 clusters with 38 cameras\u001b[0m\n",
      "\u001b[34mThere are 1 clusters with 44 cameras\u001b[0m\n",
      "\u001b[34mThere are 1 clusters with 47 cameras\u001b[0m\n",
      "\u001b[34mThere are 1 clusters with 48 cameras\u001b[0m\n",
      "\u001b[34mThere are 1 clusters with 52 cameras\u001b[0m\n",
      "\u001b[34mThere are 1 clusters with 54 cameras\u001b[0m\n",
      "\u001b[34mThere are 2 clusters with 58 cameras\u001b[0m\n",
      "\u001b[34mThere are 4 clusters with 59 cameras\u001b[0m\n",
      "\u001b[34mThere are 1 clusters with 60 cameras\u001b[0m\n",
      "\u001b[34mThere are 13 clusters with 61 cameras\u001b[0m\n",
      "\u001b[34mThere are 10 clusters with 62 cameras\u001b[0m\n",
      "\u001b[34mThere are 16 clusters with 63 cameras\u001b[0m\n",
      "\u001b[34mThere are 538 clusters with 64 cameras\u001b[0m\n",
      "\u001b[34mThere are 1 clusters with 108 cameras\u001b[0m\n",
      "\u001b[34mThere are 1 clusters with 127 cameras\u001b[0m\n",
      "\u001b[34mThere are 2 clusters with 128 cameras\u001b[0m\n",
      "Number of classes: 611\n",
      "\u001b[36mLearning Rate: 0.000350\u001b[0m\n",
      "encontrou modelos efficientnet. Carregando...\n",
      "encontrou modelos convnext. Carregando...\n",
      "encontrou modelos mobilenet. Carregando...\n",
      "encontrou modelos vgg16. Carregando...\n",
      "encontrou modelos resnet50. Carregando...\n",
      "encontrou modelos osnet. Carregando...\n",
      "encontrou modelos densenet121. Carregando...\n",
      "###============ Iteration number 25/90 ============###\n",
      "Extracting Online Features for efficientnet ...\n",
      "Features extracted in 196.36 seconds\n",
      "Computing jaccard distance...\n"
     ]
    },
    {
     "name": "stderr",
     "output_type": "stream",
     "text": [
      "bruteForceKnn is deprecated; call bfKnn instead\n"
     ]
    },
    {
     "name": "stdout",
     "output_type": "stream",
     "text": [
      "Jaccard distance computing time cost: 82.23624920845032\n",
      "Extracting Online Features for convnext ...\n",
      "Features extracted in 202.34 seconds\n",
      "Computing jaccard distance...\n"
     ]
    },
    {
     "name": "stderr",
     "output_type": "stream",
     "text": [
      "bruteForceKnn is deprecated; call bfKnn instead\n"
     ]
    },
    {
     "name": "stdout",
     "output_type": "stream",
     "text": [
      "Jaccard distance computing time cost: 85.25573348999023\n",
      "Extracting Online Features for mobilenet ...\n",
      "Features extracted in 198.17 seconds\n",
      "Computing jaccard distance...\n"
     ]
    },
    {
     "name": "stderr",
     "output_type": "stream",
     "text": [
      "bruteForceKnn is deprecated; call bfKnn instead\n"
     ]
    },
    {
     "name": "stdout",
     "output_type": "stream",
     "text": [
      "Jaccard distance computing time cost: 79.40228581428528\n",
      "Extracting Online Features for vgg16 ...\n",
      "Features extracted in 198.79 seconds\n",
      "Computing jaccard distance...\n"
     ]
    },
    {
     "name": "stderr",
     "output_type": "stream",
     "text": [
      "bruteForceKnn is deprecated; call bfKnn instead\n"
     ]
    },
    {
     "name": "stdout",
     "output_type": "stream",
     "text": [
      "Jaccard distance computing time cost: 78.4491035938263\n",
      "Extracting Online Features for resnet50 ...\n",
      "Features extracted in 197.46 seconds\n",
      "Computing jaccard distance...\n"
     ]
    },
    {
     "name": "stderr",
     "output_type": "stream",
     "text": [
      "bruteForceKnn is deprecated; call bfKnn instead\n"
     ]
    },
    {
     "name": "stdout",
     "output_type": "stream",
     "text": [
      "Jaccard distance computing time cost: 94.74165487289429\n",
      "Extracting Online Features for osnet ...\n",
      "Features extracted in 199.38 seconds\n",
      "Computing jaccard distance...\n"
     ]
    },
    {
     "name": "stderr",
     "output_type": "stream",
     "text": [
      "bruteForceKnn is deprecated; call bfKnn instead\n"
     ]
    },
    {
     "name": "stdout",
     "output_type": "stream",
     "text": [
      "Jaccard distance computing time cost: 77.53698778152466\n",
      "Extracting Online Features for densenet121 ...\n",
      "Features extracted in 200.43 seconds\n",
      "Computing jaccard distance...\n"
     ]
    },
    {
     "name": "stderr",
     "output_type": "stream",
     "text": [
      "bruteForceKnn is deprecated; call bfKnn instead\n"
     ]
    },
    {
     "name": "stdout",
     "output_type": "stream",
     "text": [
      "Jaccard distance computing time cost: 79.54641461372375\n",
      "Reliability: 0.998\n",
      "\u001b[32mMean Purity: 0.00164\u001b[0m\n",
      "\u001b[34mThere are 2 clusters with 4 cameras\u001b[0m\n",
      "\u001b[34mThere are 4 clusters with 5 cameras\u001b[0m\n",
      "\u001b[34mThere are 1 clusters with 8 cameras\u001b[0m\n",
      "\u001b[34mThere are 1 clusters with 10 cameras\u001b[0m\n",
      "\u001b[34mThere are 1 clusters with 13 cameras\u001b[0m\n",
      "\u001b[34mThere are 1 clusters with 16 cameras\u001b[0m\n",
      "\u001b[34mThere are 2 clusters with 18 cameras\u001b[0m\n",
      "\u001b[34mThere are 1 clusters with 26 cameras\u001b[0m\n",
      "\u001b[34mThere are 1 clusters with 27 cameras\u001b[0m\n",
      "\u001b[34mThere are 1 clusters with 30 cameras\u001b[0m\n",
      "\u001b[34mThere are 1 clusters with 34 cameras\u001b[0m\n",
      "\u001b[34mThere are 1 clusters with 37 cameras\u001b[0m\n",
      "\u001b[34mThere are 1 clusters with 38 cameras\u001b[0m\n",
      "\u001b[34mThere are 1 clusters with 44 cameras\u001b[0m\n",
      "\u001b[34mThere are 1 clusters with 47 cameras\u001b[0m\n",
      "\u001b[34mThere are 1 clusters with 48 cameras\u001b[0m\n",
      "\u001b[34mThere are 1 clusters with 52 cameras\u001b[0m\n",
      "\u001b[34mThere are 1 clusters with 54 cameras\u001b[0m\n",
      "\u001b[34mThere are 2 clusters with 58 cameras\u001b[0m\n",
      "\u001b[34mThere are 4 clusters with 59 cameras\u001b[0m\n",
      "\u001b[34mThere are 1 clusters with 60 cameras\u001b[0m\n",
      "\u001b[34mThere are 13 clusters with 61 cameras\u001b[0m\n",
      "\u001b[34mThere are 10 clusters with 62 cameras\u001b[0m\n",
      "\u001b[34mThere are 16 clusters with 63 cameras\u001b[0m\n",
      "\u001b[34mThere are 538 clusters with 64 cameras\u001b[0m\n",
      "\u001b[34mThere are 1 clusters with 108 cameras\u001b[0m\n",
      "\u001b[34mThere are 1 clusters with 127 cameras\u001b[0m\n",
      "\u001b[34mThere are 2 clusters with 128 cameras\u001b[0m\n",
      "Number of classes: 611\n",
      "\u001b[36mLearning Rate: 0.000350\u001b[0m\n",
      "encontrou modelos efficientnet. Carregando...\n",
      "encontrou modelos convnext. Carregando...\n",
      "encontrou modelos mobilenet. Carregando...\n",
      "encontrou modelos vgg16. Carregando...\n",
      "encontrou modelos resnet50. Carregando...\n",
      "encontrou modelos osnet. Carregando...\n",
      "encontrou modelos densenet121. Carregando...\n",
      "\u001b[33mValidating online efficientnet ...\u001b[0m\n",
      "Features extracted in 63.47 seconds\n",
      "Features extracted in 164.79 seconds\n",
      "Computing CMC and mAP ...\n",
      "** Results **\n",
      "mAP: 72.74%\n",
      "CMC curve\n",
      "Rank-1  : 86.50%\n",
      "Rank-5  : 96.56%\n",
      "Rank-10 : 98.57%\n",
      "Rank-20 : 99.42%\n",
      "\u001b[33mValidating momentum efficientnet ...\u001b[0m\n",
      "Features extracted in 62.27 seconds\n",
      "Features extracted in 114.18 seconds\n",
      "Computing CMC and mAP ...\n",
      "** Results **\n",
      "mAP: 71.24%\n",
      "CMC curve\n",
      "Rank-1  : 78.00%\n",
      "Rank-5  : 94.78%\n",
      "Rank-10 : 98.01%\n",
      "Rank-20 : 99.39%\n",
      "\u001b[33mValidating online convnext ...\u001b[0m\n",
      "Features extracted in 64.75 seconds\n",
      "Features extracted in 119.76 seconds\n",
      "Computing CMC and mAP ...\n",
      "** Results **\n",
      "mAP: 75.86%\n",
      "CMC curve\n",
      "Rank-1  : 90.47%\n",
      "Rank-5  : 95.47%\n",
      "Rank-10 : 97.23%\n",
      "Rank-20 : 99.00%\n",
      "\u001b[33mValidating momentum convnext ...\u001b[0m\n",
      "Features extracted in 65.61 seconds\n",
      "Features extracted in 119.32 seconds\n",
      "Computing CMC and mAP ...\n",
      "** Results **\n",
      "mAP: 70.89%\n",
      "CMC curve\n",
      "Rank-1  : 81.10%\n",
      "Rank-5  : 94.32%\n",
      "Rank-10 : 97.06%\n",
      "Rank-20 : 98.73%\n",
      "\u001b[33mValidating online mobilenet ...\u001b[0m\n",
      "Features extracted in 60.09 seconds\n",
      "Features extracted in 110.05 seconds\n",
      "Computing CMC and mAP ...\n",
      "** Results **\n",
      "mAP: 71.69%\n",
      "CMC curve\n",
      "Rank-1  : 87.20%\n",
      "Rank-5  : 96.74%\n",
      "Rank-10 : 98.85%\n",
      "Rank-20 : 99.71%\n",
      "\u001b[33mValidating momentum mobilenet ...\u001b[0m\n",
      "Features extracted in 60.72 seconds\n",
      "Features extracted in 110.26 seconds\n",
      "Computing CMC and mAP ...\n",
      "** Results **\n",
      "mAP: 71.41%\n",
      "CMC curve\n",
      "Rank-1  : 83.91%\n",
      "Rank-5  : 95.41%\n",
      "Rank-10 : 98.08%\n",
      "Rank-20 : 99.14%\n",
      "\u001b[33mValidating online vgg16 ...\u001b[0m\n",
      "Features extracted in 61.04 seconds\n",
      "Features extracted in 112.68 seconds\n",
      "Computing CMC and mAP ...\n",
      "** Results **\n",
      "mAP: 72.14%\n",
      "CMC curve\n",
      "Rank-1  : 87.41%\n",
      "Rank-5  : 96.72%\n",
      "Rank-10 : 98.80%\n",
      "Rank-20 : 99.68%\n",
      "\u001b[33mValidating momentum vgg16 ...\u001b[0m\n",
      "Features extracted in 61.96 seconds\n",
      "Features extracted in 113.78 seconds\n",
      "Computing CMC and mAP ...\n",
      "** Results **\n",
      "mAP: 71.15%\n",
      "CMC curve\n",
      "Rank-1  : 79.56%\n",
      "Rank-5  : 95.82%\n",
      "Rank-10 : 98.64%\n",
      "Rank-20 : 99.55%\n",
      "\u001b[33mValidating online resnet50 ...\u001b[0m\n",
      "Features extracted in 61.83 seconds\n",
      "Features extracted in 111.67 seconds\n",
      "Computing CMC and mAP ...\n",
      "** Results **\n",
      "mAP: 72.93%\n",
      "CMC curve\n",
      "Rank-1  : 89.22%\n",
      "Rank-5  : 97.35%\n",
      "Rank-10 : 99.02%\n",
      "Rank-20 : 99.75%\n",
      "\u001b[33mValidating momentum resnet50 ...\u001b[0m\n",
      "Features extracted in 61.51 seconds\n",
      "Features extracted in 112.96 seconds\n",
      "Computing CMC and mAP ...\n",
      "** Results **\n",
      "mAP: 74.37%\n",
      "CMC curve\n",
      "Rank-1  : 90.07%\n",
      "Rank-5  : 97.95%\n",
      "Rank-10 : 99.19%\n",
      "Rank-20 : 99.74%\n",
      "\u001b[33mValidating online osnet ...\u001b[0m\n",
      "Features extracted in 62.58 seconds\n",
      "Features extracted in 113.11 seconds\n",
      "Computing CMC and mAP ...\n",
      "** Results **\n",
      "mAP: 71.05%\n",
      "CMC curve\n",
      "Rank-1  : 81.59%\n",
      "Rank-5  : 95.73%\n",
      "Rank-10 : 98.23%\n",
      "Rank-20 : 99.54%\n",
      "\u001b[33mValidating momentum osnet ...\u001b[0m\n",
      "Features extracted in 63.49 seconds\n",
      "Features extracted in 112.97 seconds\n",
      "Computing CMC and mAP ...\n",
      "** Results **\n",
      "mAP: 73.09%\n",
      "CMC curve\n",
      "Rank-1  : 81.93%\n",
      "Rank-5  : 95.43%\n",
      "Rank-10 : 98.30%\n",
      "Rank-20 : 99.46%\n",
      "\u001b[33mValidating online densenet121 ...\u001b[0m\n",
      "Features extracted in 62.78 seconds\n",
      "Features extracted in 114.43 seconds\n",
      "Computing CMC and mAP ...\n",
      "** Results **\n",
      "mAP: 74.36%\n",
      "CMC curve\n",
      "Rank-1  : 92.33%\n",
      "Rank-5  : 98.60%\n",
      "Rank-10 : 99.56%\n",
      "Rank-20 : 99.86%\n",
      "\u001b[33mValidating momentum densenet121 ...\u001b[0m\n",
      "Features extracted in 61.75 seconds\n",
      "Features extracted in 113.53 seconds\n",
      "Computing CMC and mAP ...\n",
      "** Results **\n",
      "mAP: 74.16%\n",
      "CMC curve\n",
      "Rank-1  : 86.99%\n",
      "Rank-5  : 96.54%\n",
      "Rank-10 : 98.30%\n",
      "Rank-20 : 99.46%\n",
      "\u001b[33mValidating ensembled with online models ...\u001b[0m\n",
      "Computing CMC and mAP ...\n",
      "** Results **\n",
      "mAP: 75.80%\n",
      "Ranks:\n",
      "Rank-1  : 96.73%\n",
      "Rank-5  : 98.98%\n",
      "Rank-10 : 99.48%\n",
      "\u001b[33mValidating ensembled with momentum models ...\u001b[0m\n",
      "Computing CMC and mAP ...\n",
      "** Results **\n",
      "mAP: 74.25%\n",
      "Ranks:\n",
      "Rank-1  : 87.54%\n",
      "Rank-5  : 96.96%\n",
      "Rank-10 : 98.89%\n",
      "###============ Iteration number 26/90 ============###\n",
      "Extracting Online Features for efficientnet ...\n",
      "Features extracted in 200.59 seconds\n",
      "Computing jaccard distance...\n"
     ]
    },
    {
     "name": "stderr",
     "output_type": "stream",
     "text": [
      "bruteForceKnn is deprecated; call bfKnn instead\n"
     ]
    },
    {
     "name": "stdout",
     "output_type": "stream",
     "text": [
      "Jaccard distance computing time cost: 78.67056441307068\n",
      "Extracting Online Features for convnext ...\n",
      "Features extracted in 201.97 seconds\n",
      "Computing jaccard distance...\n"
     ]
    },
    {
     "name": "stderr",
     "output_type": "stream",
     "text": [
      "bruteForceKnn is deprecated; call bfKnn instead\n"
     ]
    },
    {
     "name": "stdout",
     "output_type": "stream",
     "text": [
      "Jaccard distance computing time cost: 80.25215911865234\n",
      "Extracting Online Features for mobilenet ...\n",
      "Features extracted in 200.93 seconds\n",
      "Computing jaccard distance...\n"
     ]
    },
    {
     "name": "stderr",
     "output_type": "stream",
     "text": [
      "bruteForceKnn is deprecated; call bfKnn instead\n"
     ]
    },
    {
     "name": "stdout",
     "output_type": "stream",
     "text": [
      "Jaccard distance computing time cost: 87.29200768470764\n",
      "Extracting Online Features for vgg16 ...\n",
      "Features extracted in 199.97 seconds\n",
      "Computing jaccard distance...\n"
     ]
    },
    {
     "name": "stderr",
     "output_type": "stream",
     "text": [
      "bruteForceKnn is deprecated; call bfKnn instead\n"
     ]
    },
    {
     "name": "stdout",
     "output_type": "stream",
     "text": [
      "Jaccard distance computing time cost: 79.45581126213074\n",
      "Extracting Online Features for resnet50 ...\n",
      "Features extracted in 197.38 seconds\n",
      "Computing jaccard distance...\n"
     ]
    },
    {
     "name": "stderr",
     "output_type": "stream",
     "text": [
      "bruteForceKnn is deprecated; call bfKnn instead\n"
     ]
    },
    {
     "name": "stdout",
     "output_type": "stream",
     "text": [
      "Jaccard distance computing time cost: 79.41659164428711\n",
      "Extracting Online Features for osnet ...\n",
      "Features extracted in 199.96 seconds\n",
      "Computing jaccard distance...\n"
     ]
    },
    {
     "name": "stderr",
     "output_type": "stream",
     "text": [
      "bruteForceKnn is deprecated; call bfKnn instead\n"
     ]
    },
    {
     "name": "stdout",
     "output_type": "stream",
     "text": [
      "Jaccard distance computing time cost: 77.33424758911133\n",
      "Extracting Online Features for densenet121 ...\n",
      "Features extracted in 201.95 seconds\n",
      "Computing jaccard distance...\n"
     ]
    },
    {
     "name": "stderr",
     "output_type": "stream",
     "text": [
      "bruteForceKnn is deprecated; call bfKnn instead\n"
     ]
    },
    {
     "name": "stdout",
     "output_type": "stream",
     "text": [
      "Jaccard distance computing time cost: 94.84739422798157\n",
      "Reliability: 0.998\n",
      "\u001b[32mMean Purity: 0.00164\u001b[0m\n",
      "\u001b[34mThere are 2 clusters with 4 cameras\u001b[0m\n",
      "\u001b[34mThere are 4 clusters with 5 cameras\u001b[0m\n",
      "\u001b[34mThere are 1 clusters with 8 cameras\u001b[0m\n",
      "\u001b[34mThere are 1 clusters with 10 cameras\u001b[0m\n",
      "\u001b[34mThere are 1 clusters with 13 cameras\u001b[0m\n",
      "\u001b[34mThere are 1 clusters with 16 cameras\u001b[0m\n",
      "\u001b[34mThere are 2 clusters with 18 cameras\u001b[0m\n",
      "\u001b[34mThere are 1 clusters with 26 cameras\u001b[0m\n",
      "\u001b[34mThere are 1 clusters with 27 cameras\u001b[0m\n",
      "\u001b[34mThere are 1 clusters with 30 cameras\u001b[0m\n",
      "\u001b[34mThere are 1 clusters with 34 cameras\u001b[0m\n",
      "\u001b[34mThere are 1 clusters with 37 cameras\u001b[0m\n",
      "\u001b[34mThere are 1 clusters with 38 cameras\u001b[0m\n",
      "\u001b[34mThere are 1 clusters with 44 cameras\u001b[0m\n",
      "\u001b[34mThere are 1 clusters with 47 cameras\u001b[0m\n",
      "\u001b[34mThere are 1 clusters with 48 cameras\u001b[0m\n",
      "\u001b[34mThere are 1 clusters with 52 cameras\u001b[0m\n",
      "\u001b[34mThere are 1 clusters with 54 cameras\u001b[0m\n",
      "\u001b[34mThere are 2 clusters with 58 cameras\u001b[0m\n",
      "\u001b[34mThere are 4 clusters with 59 cameras\u001b[0m\n",
      "\u001b[34mThere are 1 clusters with 60 cameras\u001b[0m\n",
      "\u001b[34mThere are 13 clusters with 61 cameras\u001b[0m\n",
      "\u001b[34mThere are 10 clusters with 62 cameras\u001b[0m\n",
      "\u001b[34mThere are 16 clusters with 63 cameras\u001b[0m\n",
      "\u001b[34mThere are 538 clusters with 64 cameras\u001b[0m\n",
      "\u001b[34mThere are 1 clusters with 108 cameras\u001b[0m\n",
      "\u001b[34mThere are 1 clusters with 127 cameras\u001b[0m\n",
      "\u001b[34mThere are 2 clusters with 128 cameras\u001b[0m\n",
      "Number of classes: 611\n",
      "\u001b[36mLearning Rate: 0.000350\u001b[0m\n",
      "encontrou modelos efficientnet. Carregando...\n",
      "encontrou modelos convnext. Carregando...\n",
      "encontrou modelos mobilenet. Carregando...\n",
      "encontrou modelos vgg16. Carregando...\n",
      "encontrou modelos resnet50. Carregando...\n",
      "encontrou modelos osnet. Carregando...\n",
      "encontrou modelos densenet121. Carregando...\n",
      "###============ Iteration number 27/90 ============###\n",
      "Extracting Online Features for efficientnet ...\n",
      "Features extracted in 264.63 seconds\n",
      "Computing jaccard distance...\n"
     ]
    },
    {
     "name": "stderr",
     "output_type": "stream",
     "text": [
      "bruteForceKnn is deprecated; call bfKnn instead\n"
     ]
    },
    {
     "name": "stdout",
     "output_type": "stream",
     "text": [
      "Jaccard distance computing time cost: 79.21862363815308\n",
      "Extracting Online Features for convnext ...\n",
      "Features extracted in 205.83 seconds\n",
      "Computing jaccard distance...\n"
     ]
    },
    {
     "name": "stderr",
     "output_type": "stream",
     "text": [
      "bruteForceKnn is deprecated; call bfKnn instead\n"
     ]
    },
    {
     "name": "stdout",
     "output_type": "stream",
     "text": [
      "Jaccard distance computing time cost: 93.66153049468994\n",
      "Extracting Online Features for mobilenet ...\n",
      "Features extracted in 198.31 seconds\n",
      "Computing jaccard distance...\n"
     ]
    },
    {
     "name": "stderr",
     "output_type": "stream",
     "text": [
      "bruteForceKnn is deprecated; call bfKnn instead\n"
     ]
    },
    {
     "name": "stdout",
     "output_type": "stream",
     "text": [
      "Jaccard distance computing time cost: 80.18446230888367\n",
      "Extracting Online Features for vgg16 ...\n",
      "Features extracted in 200.91 seconds\n",
      "Computing jaccard distance...\n"
     ]
    },
    {
     "name": "stderr",
     "output_type": "stream",
     "text": [
      "bruteForceKnn is deprecated; call bfKnn instead\n"
     ]
    },
    {
     "name": "stdout",
     "output_type": "stream",
     "text": [
      "Jaccard distance computing time cost: 79.2153742313385\n",
      "Extracting Online Features for resnet50 ...\n",
      "Features extracted in 199.26 seconds\n",
      "Computing jaccard distance...\n"
     ]
    },
    {
     "name": "stderr",
     "output_type": "stream",
     "text": [
      "bruteForceKnn is deprecated; call bfKnn instead\n"
     ]
    },
    {
     "name": "stdout",
     "output_type": "stream",
     "text": [
      "Jaccard distance computing time cost: 102.50940203666687\n",
      "Extracting Online Features for osnet ...\n",
      "Features extracted in 197.58 seconds\n",
      "Computing jaccard distance...\n"
     ]
    },
    {
     "name": "stderr",
     "output_type": "stream",
     "text": [
      "bruteForceKnn is deprecated; call bfKnn instead\n"
     ]
    },
    {
     "name": "stdout",
     "output_type": "stream",
     "text": [
      "Jaccard distance computing time cost: 77.57579970359802\n",
      "Extracting Online Features for densenet121 ...\n",
      "Features extracted in 196.41 seconds\n",
      "Computing jaccard distance...\n"
     ]
    },
    {
     "name": "stderr",
     "output_type": "stream",
     "text": [
      "bruteForceKnn is deprecated; call bfKnn instead\n"
     ]
    },
    {
     "name": "stdout",
     "output_type": "stream",
     "text": [
      "Jaccard distance computing time cost: 83.9149169921875\n",
      "Reliability: 0.998\n",
      "\u001b[32mMean Purity: 0.00164\u001b[0m\n",
      "\u001b[34mThere are 2 clusters with 4 cameras\u001b[0m\n",
      "\u001b[34mThere are 4 clusters with 5 cameras\u001b[0m\n",
      "\u001b[34mThere are 1 clusters with 8 cameras\u001b[0m\n",
      "\u001b[34mThere are 1 clusters with 10 cameras\u001b[0m\n",
      "\u001b[34mThere are 1 clusters with 13 cameras\u001b[0m\n",
      "\u001b[34mThere are 1 clusters with 16 cameras\u001b[0m\n",
      "\u001b[34mThere are 2 clusters with 18 cameras\u001b[0m\n",
      "\u001b[34mThere are 1 clusters with 26 cameras\u001b[0m\n",
      "\u001b[34mThere are 1 clusters with 27 cameras\u001b[0m\n",
      "\u001b[34mThere are 1 clusters with 30 cameras\u001b[0m\n",
      "\u001b[34mThere are 1 clusters with 34 cameras\u001b[0m\n",
      "\u001b[34mThere are 1 clusters with 37 cameras\u001b[0m\n",
      "\u001b[34mThere are 1 clusters with 38 cameras\u001b[0m\n",
      "\u001b[34mThere are 1 clusters with 44 cameras\u001b[0m\n",
      "\u001b[34mThere are 1 clusters with 47 cameras\u001b[0m\n",
      "\u001b[34mThere are 1 clusters with 48 cameras\u001b[0m\n",
      "\u001b[34mThere are 1 clusters with 52 cameras\u001b[0m\n",
      "\u001b[34mThere are 1 clusters with 54 cameras\u001b[0m\n",
      "\u001b[34mThere are 2 clusters with 58 cameras\u001b[0m\n",
      "\u001b[34mThere are 4 clusters with 59 cameras\u001b[0m\n",
      "\u001b[34mThere are 1 clusters with 60 cameras\u001b[0m\n",
      "\u001b[34mThere are 13 clusters with 61 cameras\u001b[0m\n",
      "\u001b[34mThere are 10 clusters with 62 cameras\u001b[0m\n",
      "\u001b[34mThere are 16 clusters with 63 cameras\u001b[0m\n",
      "\u001b[34mThere are 538 clusters with 64 cameras\u001b[0m\n",
      "\u001b[34mThere are 1 clusters with 108 cameras\u001b[0m\n",
      "\u001b[34mThere are 1 clusters with 127 cameras\u001b[0m\n",
      "\u001b[34mThere are 2 clusters with 128 cameras\u001b[0m\n",
      "Number of classes: 611\n",
      "\u001b[36mLearning Rate: 0.000350\u001b[0m\n",
      "encontrou modelos efficientnet. Carregando...\n",
      "encontrou modelos convnext. Carregando...\n",
      "encontrou modelos mobilenet. Carregando...\n",
      "encontrou modelos vgg16. Carregando...\n",
      "encontrou modelos resnet50. Carregando...\n",
      "encontrou modelos osnet. Carregando...\n",
      "encontrou modelos densenet121. Carregando...\n",
      "###============ Iteration number 28/90 ============###\n",
      "Extracting Online Features for efficientnet ...\n",
      "Features extracted in 197.79 seconds\n",
      "Computing jaccard distance...\n"
     ]
    },
    {
     "name": "stderr",
     "output_type": "stream",
     "text": [
      "bruteForceKnn is deprecated; call bfKnn instead\n"
     ]
    },
    {
     "name": "stdout",
     "output_type": "stream",
     "text": [
      "Jaccard distance computing time cost: 83.83028626441956\n",
      "Extracting Online Features for convnext ...\n",
      "Features extracted in 205.81 seconds\n",
      "Computing jaccard distance...\n"
     ]
    },
    {
     "name": "stderr",
     "output_type": "stream",
     "text": [
      "bruteForceKnn is deprecated; call bfKnn instead\n"
     ]
    },
    {
     "name": "stdout",
     "output_type": "stream",
     "text": [
      "Jaccard distance computing time cost: 79.45242977142334\n",
      "Extracting Online Features for mobilenet ...\n",
      "Features extracted in 198.92 seconds\n",
      "Computing jaccard distance...\n"
     ]
    },
    {
     "name": "stderr",
     "output_type": "stream",
     "text": [
      "bruteForceKnn is deprecated; call bfKnn instead\n"
     ]
    },
    {
     "name": "stdout",
     "output_type": "stream",
     "text": [
      "Jaccard distance computing time cost: 79.67834258079529\n",
      "Extracting Online Features for vgg16 ...\n",
      "Features extracted in 200.49 seconds\n",
      "Computing jaccard distance...\n"
     ]
    },
    {
     "name": "stderr",
     "output_type": "stream",
     "text": [
      "bruteForceKnn is deprecated; call bfKnn instead\n"
     ]
    },
    {
     "name": "stdout",
     "output_type": "stream",
     "text": [
      "Jaccard distance computing time cost: 78.53287363052368\n",
      "Extracting Online Features for resnet50 ...\n",
      "Features extracted in 200.82 seconds\n",
      "Computing jaccard distance...\n"
     ]
    },
    {
     "name": "stderr",
     "output_type": "stream",
     "text": [
      "bruteForceKnn is deprecated; call bfKnn instead\n"
     ]
    },
    {
     "name": "stdout",
     "output_type": "stream",
     "text": [
      "Jaccard distance computing time cost: 88.80130934715271\n",
      "Extracting Online Features for osnet ...\n",
      "Features extracted in 198.34 seconds\n",
      "Computing jaccard distance...\n"
     ]
    },
    {
     "name": "stderr",
     "output_type": "stream",
     "text": [
      "bruteForceKnn is deprecated; call bfKnn instead\n"
     ]
    },
    {
     "name": "stdout",
     "output_type": "stream",
     "text": [
      "Jaccard distance computing time cost: 79.80716800689697\n",
      "Extracting Online Features for densenet121 ...\n",
      "Features extracted in 201.71 seconds\n",
      "Computing jaccard distance...\n"
     ]
    },
    {
     "name": "stderr",
     "output_type": "stream",
     "text": [
      "bruteForceKnn is deprecated; call bfKnn instead\n"
     ]
    },
    {
     "name": "stdout",
     "output_type": "stream",
     "text": [
      "Jaccard distance computing time cost: 80.55447006225586\n",
      "Reliability: 0.998\n",
      "\u001b[32mMean Purity: 0.00164\u001b[0m\n",
      "\u001b[34mThere are 2 clusters with 4 cameras\u001b[0m\n",
      "\u001b[34mThere are 4 clusters with 5 cameras\u001b[0m\n",
      "\u001b[34mThere are 1 clusters with 8 cameras\u001b[0m\n",
      "\u001b[34mThere are 1 clusters with 10 cameras\u001b[0m\n",
      "\u001b[34mThere are 1 clusters with 13 cameras\u001b[0m\n",
      "\u001b[34mThere are 1 clusters with 16 cameras\u001b[0m\n",
      "\u001b[34mThere are 2 clusters with 18 cameras\u001b[0m\n",
      "\u001b[34mThere are 1 clusters with 26 cameras\u001b[0m\n",
      "\u001b[34mThere are 1 clusters with 27 cameras\u001b[0m\n",
      "\u001b[34mThere are 1 clusters with 30 cameras\u001b[0m\n",
      "\u001b[34mThere are 1 clusters with 34 cameras\u001b[0m\n",
      "\u001b[34mThere are 1 clusters with 37 cameras\u001b[0m\n",
      "\u001b[34mThere are 1 clusters with 38 cameras\u001b[0m\n",
      "\u001b[34mThere are 1 clusters with 44 cameras\u001b[0m\n",
      "\u001b[34mThere are 1 clusters with 47 cameras\u001b[0m\n",
      "\u001b[34mThere are 1 clusters with 48 cameras\u001b[0m\n",
      "\u001b[34mThere are 1 clusters with 52 cameras\u001b[0m\n",
      "\u001b[34mThere are 1 clusters with 54 cameras\u001b[0m\n",
      "\u001b[34mThere are 2 clusters with 58 cameras\u001b[0m\n",
      "\u001b[34mThere are 4 clusters with 59 cameras\u001b[0m\n",
      "\u001b[34mThere are 1 clusters with 60 cameras\u001b[0m\n",
      "\u001b[34mThere are 13 clusters with 61 cameras\u001b[0m\n",
      "\u001b[34mThere are 10 clusters with 62 cameras\u001b[0m\n",
      "\u001b[34mThere are 16 clusters with 63 cameras\u001b[0m\n",
      "\u001b[34mThere are 538 clusters with 64 cameras\u001b[0m\n",
      "\u001b[34mThere are 1 clusters with 108 cameras\u001b[0m\n",
      "\u001b[34mThere are 1 clusters with 127 cameras\u001b[0m\n",
      "\u001b[34mThere are 2 clusters with 128 cameras\u001b[0m\n",
      "Number of classes: 611\n",
      "\u001b[36mLearning Rate: 0.000350\u001b[0m\n",
      "encontrou modelos efficientnet. Carregando...\n",
      "encontrou modelos convnext. Carregando...\n",
      "encontrou modelos mobilenet. Carregando...\n",
      "encontrou modelos vgg16. Carregando...\n",
      "encontrou modelos resnet50. Carregando...\n",
      "encontrou modelos osnet. Carregando...\n",
      "encontrou modelos densenet121. Carregando...\n",
      "###============ Iteration number 29/90 ============###\n",
      "Extracting Online Features for efficientnet ...\n",
      "Features extracted in 199.54 seconds\n",
      "Computing jaccard distance...\n"
     ]
    },
    {
     "name": "stderr",
     "output_type": "stream",
     "text": [
      "bruteForceKnn is deprecated; call bfKnn instead\n"
     ]
    },
    {
     "name": "stdout",
     "output_type": "stream",
     "text": [
      "Jaccard distance computing time cost: 80.84886169433594\n",
      "Extracting Online Features for convnext ...\n",
      "Features extracted in 205.10 seconds\n",
      "Computing jaccard distance...\n"
     ]
    },
    {
     "name": "stderr",
     "output_type": "stream",
     "text": [
      "bruteForceKnn is deprecated; call bfKnn instead\n"
     ]
    },
    {
     "name": "stdout",
     "output_type": "stream",
     "text": [
      "Jaccard distance computing time cost: 79.12184596061707\n",
      "Extracting Online Features for mobilenet ...\n",
      "Features extracted in 199.24 seconds\n",
      "Computing jaccard distance...\n"
     ]
    },
    {
     "name": "stderr",
     "output_type": "stream",
     "text": [
      "bruteForceKnn is deprecated; call bfKnn instead\n"
     ]
    },
    {
     "name": "stdout",
     "output_type": "stream",
     "text": [
      "Jaccard distance computing time cost: 80.26009488105774\n",
      "Extracting Online Features for vgg16 ...\n",
      "Features extracted in 210.76 seconds\n",
      "Computing jaccard distance...\n"
     ]
    },
    {
     "name": "stderr",
     "output_type": "stream",
     "text": [
      "bruteForceKnn is deprecated; call bfKnn instead\n"
     ]
    },
    {
     "name": "stdout",
     "output_type": "stream",
     "text": [
      "Jaccard distance computing time cost: 88.4901032447815\n",
      "Extracting Online Features for resnet50 ...\n",
      "Features extracted in 199.45 seconds\n",
      "Computing jaccard distance...\n"
     ]
    },
    {
     "name": "stderr",
     "output_type": "stream",
     "text": [
      "bruteForceKnn is deprecated; call bfKnn instead\n"
     ]
    },
    {
     "name": "stdout",
     "output_type": "stream",
     "text": [
      "Jaccard distance computing time cost: 80.18832445144653\n",
      "Extracting Online Features for osnet ...\n",
      "Features extracted in 197.35 seconds\n",
      "Computing jaccard distance...\n"
     ]
    },
    {
     "name": "stderr",
     "output_type": "stream",
     "text": [
      "bruteForceKnn is deprecated; call bfKnn instead\n"
     ]
    },
    {
     "name": "stdout",
     "output_type": "stream",
     "text": [
      "Jaccard distance computing time cost: 76.87837672233582\n",
      "Extracting Online Features for densenet121 ...\n",
      "Features extracted in 202.18 seconds\n",
      "Computing jaccard distance...\n"
     ]
    },
    {
     "name": "stderr",
     "output_type": "stream",
     "text": [
      "bruteForceKnn is deprecated; call bfKnn instead\n"
     ]
    },
    {
     "name": "stdout",
     "output_type": "stream",
     "text": [
      "Jaccard distance computing time cost: 79.56704902648926\n",
      "Reliability: 0.998\n",
      "\u001b[32mMean Purity: 0.00164\u001b[0m\n",
      "\u001b[34mThere are 2 clusters with 4 cameras\u001b[0m\n",
      "\u001b[34mThere are 4 clusters with 5 cameras\u001b[0m\n",
      "\u001b[34mThere are 1 clusters with 8 cameras\u001b[0m\n",
      "\u001b[34mThere are 1 clusters with 10 cameras\u001b[0m\n",
      "\u001b[34mThere are 1 clusters with 13 cameras\u001b[0m\n",
      "\u001b[34mThere are 1 clusters with 16 cameras\u001b[0m\n",
      "\u001b[34mThere are 2 clusters with 18 cameras\u001b[0m\n",
      "\u001b[34mThere are 1 clusters with 26 cameras\u001b[0m\n",
      "\u001b[34mThere are 1 clusters with 27 cameras\u001b[0m\n",
      "\u001b[34mThere are 1 clusters with 30 cameras\u001b[0m\n",
      "\u001b[34mThere are 1 clusters with 34 cameras\u001b[0m\n",
      "\u001b[34mThere are 1 clusters with 37 cameras\u001b[0m\n",
      "\u001b[34mThere are 1 clusters with 38 cameras\u001b[0m\n",
      "\u001b[34mThere are 1 clusters with 44 cameras\u001b[0m\n",
      "\u001b[34mThere are 1 clusters with 47 cameras\u001b[0m\n",
      "\u001b[34mThere are 1 clusters with 48 cameras\u001b[0m\n",
      "\u001b[34mThere are 1 clusters with 52 cameras\u001b[0m\n",
      "\u001b[34mThere are 1 clusters with 54 cameras\u001b[0m\n",
      "\u001b[34mThere are 2 clusters with 58 cameras\u001b[0m\n",
      "\u001b[34mThere are 4 clusters with 59 cameras\u001b[0m\n",
      "\u001b[34mThere are 1 clusters with 60 cameras\u001b[0m\n",
      "\u001b[34mThere are 13 clusters with 61 cameras\u001b[0m\n",
      "\u001b[34mThere are 10 clusters with 62 cameras\u001b[0m\n",
      "\u001b[34mThere are 16 clusters with 63 cameras\u001b[0m\n",
      "\u001b[34mThere are 538 clusters with 64 cameras\u001b[0m\n",
      "\u001b[34mThere are 1 clusters with 108 cameras\u001b[0m\n",
      "\u001b[34mThere are 1 clusters with 127 cameras\u001b[0m\n",
      "\u001b[34mThere are 2 clusters with 128 cameras\u001b[0m\n",
      "Number of classes: 611\n",
      "\u001b[36mLearning Rate: 0.000350\u001b[0m\n",
      "encontrou modelos efficientnet. Carregando...\n",
      "encontrou modelos convnext. Carregando...\n",
      "encontrou modelos mobilenet. Carregando...\n",
      "encontrou modelos vgg16. Carregando...\n",
      "encontrou modelos resnet50. Carregando...\n",
      "encontrou modelos osnet. Carregando...\n",
      "encontrou modelos densenet121. Carregando...\n",
      "###============ Iteration number 30/90 ============###\n",
      "Extracting Online Features for efficientnet ...\n",
      "Features extracted in 206.49 seconds\n",
      "Computing jaccard distance...\n"
     ]
    },
    {
     "name": "stderr",
     "output_type": "stream",
     "text": [
      "bruteForceKnn is deprecated; call bfKnn instead\n"
     ]
    },
    {
     "name": "stdout",
     "output_type": "stream",
     "text": [
      "Jaccard distance computing time cost: 79.22738909721375\n",
      "Extracting Online Features for convnext ...\n",
      "Features extracted in 208.11 seconds\n",
      "Computing jaccard distance...\n"
     ]
    },
    {
     "name": "stderr",
     "output_type": "stream",
     "text": [
      "bruteForceKnn is deprecated; call bfKnn instead\n"
     ]
    },
    {
     "name": "stdout",
     "output_type": "stream",
     "text": [
      "Jaccard distance computing time cost: 79.02262926101685\n",
      "Extracting Online Features for mobilenet ...\n",
      "Features extracted in 196.96 seconds\n",
      "Computing jaccard distance...\n"
     ]
    },
    {
     "name": "stderr",
     "output_type": "stream",
     "text": [
      "bruteForceKnn is deprecated; call bfKnn instead\n"
     ]
    },
    {
     "name": "stdout",
     "output_type": "stream",
     "text": [
      "Jaccard distance computing time cost: 79.1008734703064\n",
      "Extracting Online Features for vgg16 ...\n",
      "Features extracted in 196.27 seconds\n",
      "Computing jaccard distance...\n"
     ]
    },
    {
     "name": "stderr",
     "output_type": "stream",
     "text": [
      "bruteForceKnn is deprecated; call bfKnn instead\n"
     ]
    },
    {
     "name": "stdout",
     "output_type": "stream",
     "text": [
      "Jaccard distance computing time cost: 86.43609166145325\n",
      "Extracting Online Features for resnet50 ...\n",
      "Features extracted in 197.09 seconds\n",
      "Computing jaccard distance...\n"
     ]
    },
    {
     "name": "stderr",
     "output_type": "stream",
     "text": [
      "bruteForceKnn is deprecated; call bfKnn instead\n"
     ]
    },
    {
     "name": "stdout",
     "output_type": "stream",
     "text": [
      "Jaccard distance computing time cost: 79.84646534919739\n",
      "Extracting Online Features for osnet ...\n",
      "Features extracted in 191.95 seconds\n",
      "Computing jaccard distance...\n"
     ]
    },
    {
     "name": "stderr",
     "output_type": "stream",
     "text": [
      "bruteForceKnn is deprecated; call bfKnn instead\n"
     ]
    },
    {
     "name": "stdout",
     "output_type": "stream",
     "text": [
      "Jaccard distance computing time cost: 78.21051073074341\n",
      "Extracting Online Features for densenet121 ...\n",
      "Features extracted in 203.88 seconds\n",
      "Computing jaccard distance...\n"
     ]
    },
    {
     "name": "stderr",
     "output_type": "stream",
     "text": [
      "bruteForceKnn is deprecated; call bfKnn instead\n"
     ]
    },
    {
     "name": "stdout",
     "output_type": "stream",
     "text": [
      "Jaccard distance computing time cost: 79.50199556350708\n",
      "Reliability: 0.998\n",
      "\u001b[32mMean Purity: 0.00164\u001b[0m\n",
      "\u001b[34mThere are 2 clusters with 4 cameras\u001b[0m\n",
      "\u001b[34mThere are 4 clusters with 5 cameras\u001b[0m\n",
      "\u001b[34mThere are 1 clusters with 8 cameras\u001b[0m\n",
      "\u001b[34mThere are 1 clusters with 10 cameras\u001b[0m\n",
      "\u001b[34mThere are 1 clusters with 13 cameras\u001b[0m\n",
      "\u001b[34mThere are 1 clusters with 16 cameras\u001b[0m\n",
      "\u001b[34mThere are 2 clusters with 18 cameras\u001b[0m\n",
      "\u001b[34mThere are 1 clusters with 26 cameras\u001b[0m\n",
      "\u001b[34mThere are 1 clusters with 27 cameras\u001b[0m\n",
      "\u001b[34mThere are 1 clusters with 30 cameras\u001b[0m\n",
      "\u001b[34mThere are 1 clusters with 34 cameras\u001b[0m\n",
      "\u001b[34mThere are 1 clusters with 37 cameras\u001b[0m\n",
      "\u001b[34mThere are 1 clusters with 38 cameras\u001b[0m\n",
      "\u001b[34mThere are 1 clusters with 44 cameras\u001b[0m\n",
      "\u001b[34mThere are 1 clusters with 47 cameras\u001b[0m\n",
      "\u001b[34mThere are 1 clusters with 48 cameras\u001b[0m\n",
      "\u001b[34mThere are 1 clusters with 52 cameras\u001b[0m\n",
      "\u001b[34mThere are 1 clusters with 54 cameras\u001b[0m\n",
      "\u001b[34mThere are 2 clusters with 58 cameras\u001b[0m\n",
      "\u001b[34mThere are 4 clusters with 59 cameras\u001b[0m\n",
      "\u001b[34mThere are 1 clusters with 60 cameras\u001b[0m\n",
      "\u001b[34mThere are 13 clusters with 61 cameras\u001b[0m\n",
      "\u001b[34mThere are 10 clusters with 62 cameras\u001b[0m\n",
      "\u001b[34mThere are 16 clusters with 63 cameras\u001b[0m\n",
      "\u001b[34mThere are 538 clusters with 64 cameras\u001b[0m\n",
      "\u001b[34mThere are 1 clusters with 108 cameras\u001b[0m\n",
      "\u001b[34mThere are 1 clusters with 127 cameras\u001b[0m\n",
      "\u001b[34mThere are 2 clusters with 128 cameras\u001b[0m\n",
      "Number of classes: 611\n",
      "\u001b[36mLearning Rate: 0.000350\u001b[0m\n",
      "encontrou modelos efficientnet. Carregando...\n",
      "encontrou modelos convnext. Carregando...\n",
      "encontrou modelos mobilenet. Carregando...\n",
      "encontrou modelos vgg16. Carregando...\n",
      "encontrou modelos resnet50. Carregando...\n",
      "encontrou modelos osnet. Carregando...\n",
      "encontrou modelos densenet121. Carregando...\n",
      "\u001b[33mValidating online efficientnet ...\u001b[0m\n",
      "Features extracted in 61.86 seconds\n",
      "Features extracted in 117.87 seconds\n",
      "Computing CMC and mAP ...\n",
      "** Results **\n",
      "mAP: 72.74%\n",
      "CMC curve\n",
      "Rank-1  : 86.50%\n",
      "Rank-5  : 96.56%\n",
      "Rank-10 : 98.57%\n",
      "Rank-20 : 99.42%\n",
      "\u001b[33mValidating momentum efficientnet ...\u001b[0m\n",
      "Features extracted in 58.54 seconds\n",
      "Features extracted in 112.22 seconds\n",
      "Computing CMC and mAP ...\n",
      "** Results **\n",
      "mAP: 71.24%\n",
      "CMC curve\n",
      "Rank-1  : 78.00%\n",
      "Rank-5  : 94.78%\n",
      "Rank-10 : 98.01%\n",
      "Rank-20 : 99.39%\n",
      "\u001b[33mValidating online convnext ...\u001b[0m\n",
      "Features extracted in 59.24 seconds\n",
      "Features extracted in 116.89 seconds\n",
      "Computing CMC and mAP ...\n",
      "** Results **\n",
      "mAP: 75.86%\n",
      "CMC curve\n",
      "Rank-1  : 90.47%\n",
      "Rank-5  : 95.47%\n",
      "Rank-10 : 97.23%\n",
      "Rank-20 : 99.00%\n",
      "\u001b[33mValidating momentum convnext ...\u001b[0m\n",
      "Features extracted in 64.97 seconds\n",
      "Features extracted in 116.63 seconds\n",
      "Computing CMC and mAP ...\n",
      "** Results **\n",
      "mAP: 70.89%\n",
      "CMC curve\n",
      "Rank-1  : 81.10%\n",
      "Rank-5  : 94.32%\n",
      "Rank-10 : 97.06%\n",
      "Rank-20 : 98.73%\n",
      "\u001b[33mValidating online mobilenet ...\u001b[0m\n",
      "Features extracted in 61.72 seconds\n",
      "Features extracted in 107.29 seconds\n",
      "Computing CMC and mAP ...\n",
      "** Results **\n",
      "mAP: 71.69%\n",
      "CMC curve\n",
      "Rank-1  : 87.20%\n",
      "Rank-5  : 96.74%\n",
      "Rank-10 : 98.85%\n",
      "Rank-20 : 99.71%\n",
      "\u001b[33mValidating momentum mobilenet ...\u001b[0m\n",
      "Features extracted in 60.74 seconds\n",
      "Features extracted in 113.52 seconds\n",
      "Computing CMC and mAP ...\n",
      "** Results **\n",
      "mAP: 71.41%\n",
      "CMC curve\n",
      "Rank-1  : 83.91%\n",
      "Rank-5  : 95.41%\n",
      "Rank-10 : 98.08%\n",
      "Rank-20 : 99.14%\n",
      "\u001b[33mValidating online vgg16 ...\u001b[0m\n",
      "Features extracted in 60.17 seconds\n",
      "Features extracted in 109.81 seconds\n",
      "Computing CMC and mAP ...\n",
      "** Results **\n",
      "mAP: 72.14%\n",
      "CMC curve\n",
      "Rank-1  : 87.41%\n",
      "Rank-5  : 96.72%\n",
      "Rank-10 : 98.80%\n",
      "Rank-20 : 99.68%\n",
      "\u001b[33mValidating momentum vgg16 ...\u001b[0m\n",
      "Features extracted in 59.97 seconds\n",
      "Features extracted in 110.70 seconds\n",
      "Computing CMC and mAP ...\n",
      "** Results **\n",
      "mAP: 71.15%\n",
      "CMC curve\n",
      "Rank-1  : 79.56%\n",
      "Rank-5  : 95.82%\n",
      "Rank-10 : 98.64%\n",
      "Rank-20 : 99.55%\n",
      "\u001b[33mValidating online resnet50 ...\u001b[0m\n",
      "Features extracted in 79.55 seconds\n",
      "Features extracted in 178.60 seconds\n",
      "Computing CMC and mAP ...\n",
      "** Results **\n",
      "mAP: 72.93%\n",
      "CMC curve\n",
      "Rank-1  : 89.22%\n",
      "Rank-5  : 97.35%\n",
      "Rank-10 : 99.02%\n",
      "Rank-20 : 99.75%\n",
      "\u001b[33mValidating momentum resnet50 ...\u001b[0m\n",
      "Features extracted in 60.66 seconds\n",
      "Features extracted in 115.92 seconds\n",
      "Computing CMC and mAP ...\n",
      "** Results **\n",
      "mAP: 74.37%\n",
      "CMC curve\n",
      "Rank-1  : 90.07%\n",
      "Rank-5  : 97.95%\n",
      "Rank-10 : 99.19%\n",
      "Rank-20 : 99.74%\n",
      "\u001b[33mValidating online osnet ...\u001b[0m\n",
      "Features extracted in 68.36 seconds\n",
      "Features extracted in 109.98 seconds\n",
      "Computing CMC and mAP ...\n",
      "** Results **\n",
      "mAP: 71.05%\n",
      "CMC curve\n",
      "Rank-1  : 81.59%\n",
      "Rank-5  : 95.73%\n",
      "Rank-10 : 98.23%\n",
      "Rank-20 : 99.54%\n",
      "\u001b[33mValidating momentum osnet ...\u001b[0m\n",
      "Features extracted in 68.43 seconds\n",
      "Features extracted in 108.89 seconds\n",
      "Computing CMC and mAP ...\n",
      "** Results **\n",
      "mAP: 73.09%\n",
      "CMC curve\n",
      "Rank-1  : 81.93%\n",
      "Rank-5  : 95.43%\n",
      "Rank-10 : 98.30%\n",
      "Rank-20 : 99.46%\n",
      "\u001b[33mValidating online densenet121 ...\u001b[0m\n",
      "Features extracted in 59.98 seconds\n",
      "Features extracted in 109.80 seconds\n",
      "Computing CMC and mAP ...\n",
      "** Results **\n",
      "mAP: 74.36%\n",
      "CMC curve\n",
      "Rank-1  : 92.33%\n",
      "Rank-5  : 98.60%\n",
      "Rank-10 : 99.56%\n",
      "Rank-20 : 99.86%\n",
      "\u001b[33mValidating momentum densenet121 ...\u001b[0m\n",
      "Features extracted in 64.93 seconds\n",
      "Features extracted in 111.46 seconds\n",
      "Computing CMC and mAP ...\n",
      "** Results **\n",
      "mAP: 74.16%\n",
      "CMC curve\n",
      "Rank-1  : 86.99%\n",
      "Rank-5  : 96.54%\n",
      "Rank-10 : 98.30%\n",
      "Rank-20 : 99.46%\n",
      "\u001b[33mValidating ensembled with online models ...\u001b[0m\n",
      "Computing CMC and mAP ...\n",
      "** Results **\n",
      "mAP: 75.80%\n",
      "Ranks:\n",
      "Rank-1  : 96.73%\n",
      "Rank-5  : 98.98%\n",
      "Rank-10 : 99.48%\n",
      "\u001b[33mValidating ensembled with momentum models ...\u001b[0m\n",
      "Computing CMC and mAP ...\n",
      "** Results **\n",
      "mAP: 74.25%\n",
      "Ranks:\n",
      "Rank-1  : 87.54%\n",
      "Rank-5  : 96.96%\n",
      "Rank-10 : 98.89%\n",
      "###============ Iteration number 31/90 ============###\n",
      "Extracting Online Features for efficientnet ...\n",
      "Features extracted in 193.92 seconds\n",
      "Computing jaccard distance...\n"
     ]
    },
    {
     "name": "stderr",
     "output_type": "stream",
     "text": [
      "bruteForceKnn is deprecated; call bfKnn instead\n"
     ]
    },
    {
     "name": "stdout",
     "output_type": "stream",
     "text": [
      "Jaccard distance computing time cost: 79.25685739517212\n",
      "Extracting Online Features for convnext ...\n",
      "Features extracted in 196.90 seconds\n",
      "Computing jaccard distance...\n"
     ]
    },
    {
     "name": "stderr",
     "output_type": "stream",
     "text": [
      "bruteForceKnn is deprecated; call bfKnn instead\n"
     ]
    },
    {
     "name": "stdout",
     "output_type": "stream",
     "text": [
      "Jaccard distance computing time cost: 79.60785865783691\n",
      "Extracting Online Features for mobilenet ...\n",
      "Features extracted in 192.55 seconds\n",
      "Computing jaccard distance...\n"
     ]
    },
    {
     "name": "stderr",
     "output_type": "stream",
     "text": [
      "bruteForceKnn is deprecated; call bfKnn instead\n"
     ]
    },
    {
     "name": "stdout",
     "output_type": "stream",
     "text": [
      "Jaccard distance computing time cost: 80.67879366874695\n",
      "Extracting Online Features for vgg16 ...\n",
      "Features extracted in 196.32 seconds\n",
      "Computing jaccard distance...\n"
     ]
    },
    {
     "name": "stderr",
     "output_type": "stream",
     "text": [
      "bruteForceKnn is deprecated; call bfKnn instead\n"
     ]
    },
    {
     "name": "stdout",
     "output_type": "stream",
     "text": [
      "Jaccard distance computing time cost: 91.26048946380615\n",
      "Extracting Online Features for resnet50 ...\n",
      "Features extracted in 200.11 seconds\n",
      "Computing jaccard distance...\n"
     ]
    },
    {
     "name": "stderr",
     "output_type": "stream",
     "text": [
      "bruteForceKnn is deprecated; call bfKnn instead\n"
     ]
    },
    {
     "name": "stdout",
     "output_type": "stream",
     "text": [
      "Jaccard distance computing time cost: 86.70082330703735\n",
      "Extracting Online Features for osnet ...\n",
      "Features extracted in 191.02 seconds\n",
      "Computing jaccard distance...\n"
     ]
    },
    {
     "name": "stderr",
     "output_type": "stream",
     "text": [
      "bruteForceKnn is deprecated; call bfKnn instead\n"
     ]
    },
    {
     "name": "stdout",
     "output_type": "stream",
     "text": [
      "Jaccard distance computing time cost: 76.50106358528137\n",
      "Extracting Online Features for densenet121 ...\n",
      "Features extracted in 197.90 seconds\n",
      "Computing jaccard distance...\n"
     ]
    },
    {
     "name": "stderr",
     "output_type": "stream",
     "text": [
      "bruteForceKnn is deprecated; call bfKnn instead\n"
     ]
    },
    {
     "name": "stdout",
     "output_type": "stream",
     "text": [
      "Jaccard distance computing time cost: 80.45516967773438\n",
      "Reliability: 0.998\n",
      "\u001b[32mMean Purity: 0.00164\u001b[0m\n",
      "\u001b[34mThere are 2 clusters with 4 cameras\u001b[0m\n",
      "\u001b[34mThere are 4 clusters with 5 cameras\u001b[0m\n",
      "\u001b[34mThere are 1 clusters with 8 cameras\u001b[0m\n",
      "\u001b[34mThere are 1 clusters with 10 cameras\u001b[0m\n",
      "\u001b[34mThere are 1 clusters with 13 cameras\u001b[0m\n",
      "\u001b[34mThere are 1 clusters with 16 cameras\u001b[0m\n",
      "\u001b[34mThere are 2 clusters with 18 cameras\u001b[0m\n",
      "\u001b[34mThere are 1 clusters with 26 cameras\u001b[0m\n",
      "\u001b[34mThere are 1 clusters with 27 cameras\u001b[0m\n",
      "\u001b[34mThere are 1 clusters with 30 cameras\u001b[0m\n",
      "\u001b[34mThere are 1 clusters with 34 cameras\u001b[0m\n",
      "\u001b[34mThere are 1 clusters with 37 cameras\u001b[0m\n",
      "\u001b[34mThere are 1 clusters with 38 cameras\u001b[0m\n",
      "\u001b[34mThere are 1 clusters with 44 cameras\u001b[0m\n",
      "\u001b[34mThere are 1 clusters with 47 cameras\u001b[0m\n",
      "\u001b[34mThere are 1 clusters with 48 cameras\u001b[0m\n",
      "\u001b[34mThere are 1 clusters with 52 cameras\u001b[0m\n",
      "\u001b[34mThere are 1 clusters with 54 cameras\u001b[0m\n",
      "\u001b[34mThere are 2 clusters with 58 cameras\u001b[0m\n",
      "\u001b[34mThere are 4 clusters with 59 cameras\u001b[0m\n",
      "\u001b[34mThere are 1 clusters with 60 cameras\u001b[0m\n",
      "\u001b[34mThere are 13 clusters with 61 cameras\u001b[0m\n",
      "\u001b[34mThere are 10 clusters with 62 cameras\u001b[0m\n",
      "\u001b[34mThere are 16 clusters with 63 cameras\u001b[0m\n",
      "\u001b[34mThere are 538 clusters with 64 cameras\u001b[0m\n",
      "\u001b[34mThere are 1 clusters with 108 cameras\u001b[0m\n",
      "\u001b[34mThere are 1 clusters with 127 cameras\u001b[0m\n",
      "\u001b[34mThere are 2 clusters with 128 cameras\u001b[0m\n",
      "Number of classes: 611\n",
      "\u001b[36mLearning Rate: 0.000350\u001b[0m\n",
      "encontrou modelos efficientnet. Carregando...\n",
      "encontrou modelos convnext. Carregando...\n",
      "encontrou modelos mobilenet. Carregando...\n",
      "encontrou modelos vgg16. Carregando...\n",
      "encontrou modelos resnet50. Carregando...\n",
      "encontrou modelos osnet. Carregando...\n",
      "encontrou modelos densenet121. Carregando...\n",
      "###============ Iteration number 32/90 ============###\n",
      "Extracting Online Features for efficientnet ...\n",
      "Features extracted in 201.96 seconds\n",
      "Computing jaccard distance...\n"
     ]
    },
    {
     "name": "stderr",
     "output_type": "stream",
     "text": [
      "bruteForceKnn is deprecated; call bfKnn instead\n"
     ]
    },
    {
     "name": "stdout",
     "output_type": "stream",
     "text": [
      "Jaccard distance computing time cost: 95.5641758441925\n",
      "Extracting Online Features for convnext ...\n",
      "Features extracted in 198.40 seconds\n",
      "Computing jaccard distance...\n"
     ]
    },
    {
     "name": "stderr",
     "output_type": "stream",
     "text": [
      "bruteForceKnn is deprecated; call bfKnn instead\n"
     ]
    },
    {
     "name": "stdout",
     "output_type": "stream",
     "text": [
      "Jaccard distance computing time cost: 79.46259331703186\n",
      "Extracting Online Features for mobilenet ...\n",
      "Features extracted in 204.81 seconds\n",
      "Computing jaccard distance...\n"
     ]
    },
    {
     "name": "stderr",
     "output_type": "stream",
     "text": [
      "bruteForceKnn is deprecated; call bfKnn instead\n"
     ]
    },
    {
     "name": "stdout",
     "output_type": "stream",
     "text": [
      "Jaccard distance computing time cost: 81.09611940383911\n",
      "Extracting Online Features for vgg16 ...\n",
      "Features extracted in 201.96 seconds\n",
      "Computing jaccard distance...\n"
     ]
    },
    {
     "name": "stderr",
     "output_type": "stream",
     "text": [
      "bruteForceKnn is deprecated; call bfKnn instead\n"
     ]
    },
    {
     "name": "stdout",
     "output_type": "stream",
     "text": [
      "Jaccard distance computing time cost: 79.63982629776001\n",
      "Extracting Online Features for resnet50 ...\n",
      "Features extracted in 198.58 seconds\n",
      "Computing jaccard distance...\n"
     ]
    },
    {
     "name": "stderr",
     "output_type": "stream",
     "text": [
      "bruteForceKnn is deprecated; call bfKnn instead\n"
     ]
    },
    {
     "name": "stdout",
     "output_type": "stream",
     "text": [
      "Jaccard distance computing time cost: 86.24667382240295\n",
      "Extracting Online Features for osnet ...\n",
      "Features extracted in 196.35 seconds\n",
      "Computing jaccard distance...\n"
     ]
    },
    {
     "name": "stderr",
     "output_type": "stream",
     "text": [
      "bruteForceKnn is deprecated; call bfKnn instead\n"
     ]
    },
    {
     "name": "stdout",
     "output_type": "stream",
     "text": [
      "Jaccard distance computing time cost: 90.58402967453003\n",
      "Extracting Online Features for densenet121 ...\n",
      "Features extracted in 194.96 seconds\n",
      "Computing jaccard distance...\n"
     ]
    },
    {
     "name": "stderr",
     "output_type": "stream",
     "text": [
      "bruteForceKnn is deprecated; call bfKnn instead\n"
     ]
    },
    {
     "name": "stdout",
     "output_type": "stream",
     "text": [
      "Jaccard distance computing time cost: 93.86710786819458\n",
      "Reliability: 0.998\n",
      "\u001b[32mMean Purity: 0.00164\u001b[0m\n",
      "\u001b[34mThere are 2 clusters with 4 cameras\u001b[0m\n",
      "\u001b[34mThere are 4 clusters with 5 cameras\u001b[0m\n",
      "\u001b[34mThere are 1 clusters with 8 cameras\u001b[0m\n",
      "\u001b[34mThere are 1 clusters with 10 cameras\u001b[0m\n",
      "\u001b[34mThere are 1 clusters with 13 cameras\u001b[0m\n",
      "\u001b[34mThere are 1 clusters with 16 cameras\u001b[0m\n",
      "\u001b[34mThere are 2 clusters with 18 cameras\u001b[0m\n",
      "\u001b[34mThere are 1 clusters with 26 cameras\u001b[0m\n",
      "\u001b[34mThere are 1 clusters with 27 cameras\u001b[0m\n",
      "\u001b[34mThere are 1 clusters with 30 cameras\u001b[0m\n",
      "\u001b[34mThere are 1 clusters with 34 cameras\u001b[0m\n",
      "\u001b[34mThere are 1 clusters with 37 cameras\u001b[0m\n",
      "\u001b[34mThere are 1 clusters with 38 cameras\u001b[0m\n",
      "\u001b[34mThere are 1 clusters with 44 cameras\u001b[0m\n",
      "\u001b[34mThere are 1 clusters with 47 cameras\u001b[0m\n",
      "\u001b[34mThere are 1 clusters with 48 cameras\u001b[0m\n",
      "\u001b[34mThere are 1 clusters with 52 cameras\u001b[0m\n",
      "\u001b[34mThere are 1 clusters with 54 cameras\u001b[0m\n",
      "\u001b[34mThere are 2 clusters with 58 cameras\u001b[0m\n",
      "\u001b[34mThere are 4 clusters with 59 cameras\u001b[0m\n",
      "\u001b[34mThere are 1 clusters with 60 cameras\u001b[0m\n",
      "\u001b[34mThere are 13 clusters with 61 cameras\u001b[0m\n",
      "\u001b[34mThere are 10 clusters with 62 cameras\u001b[0m\n",
      "\u001b[34mThere are 16 clusters with 63 cameras\u001b[0m\n",
      "\u001b[34mThere are 538 clusters with 64 cameras\u001b[0m\n",
      "\u001b[34mThere are 1 clusters with 108 cameras\u001b[0m\n",
      "\u001b[34mThere are 1 clusters with 127 cameras\u001b[0m\n",
      "\u001b[34mThere are 2 clusters with 128 cameras\u001b[0m\n",
      "Number of classes: 611\n",
      "\u001b[36mLearning Rate: 0.000350\u001b[0m\n",
      "encontrou modelos efficientnet. Carregando...\n",
      "encontrou modelos convnext. Carregando...\n",
      "encontrou modelos mobilenet. Carregando...\n",
      "encontrou modelos vgg16. Carregando...\n",
      "encontrou modelos resnet50. Carregando...\n",
      "encontrou modelos osnet. Carregando...\n",
      "encontrou modelos densenet121. Carregando...\n",
      "###============ Iteration number 33/90 ============###\n",
      "Extracting Online Features for efficientnet ...\n",
      "Features extracted in 200.38 seconds\n",
      "Computing jaccard distance...\n"
     ]
    },
    {
     "name": "stderr",
     "output_type": "stream",
     "text": [
      "bruteForceKnn is deprecated; call bfKnn instead\n"
     ]
    },
    {
     "name": "stdout",
     "output_type": "stream",
     "text": [
      "Jaccard distance computing time cost: 84.812185049057\n",
      "Extracting Online Features for convnext ...\n",
      "Features extracted in 202.78 seconds\n",
      "Computing jaccard distance...\n"
     ]
    },
    {
     "name": "stderr",
     "output_type": "stream",
     "text": [
      "bruteForceKnn is deprecated; call bfKnn instead\n"
     ]
    },
    {
     "name": "stdout",
     "output_type": "stream",
     "text": [
      "Jaccard distance computing time cost: 85.92889761924744\n",
      "Extracting Online Features for mobilenet ...\n",
      "Features extracted in 193.91 seconds\n",
      "Computing jaccard distance...\n"
     ]
    },
    {
     "name": "stderr",
     "output_type": "stream",
     "text": [
      "bruteForceKnn is deprecated; call bfKnn instead\n"
     ]
    },
    {
     "name": "stdout",
     "output_type": "stream",
     "text": [
      "Jaccard distance computing time cost: 79.95664525032043\n",
      "Extracting Online Features for vgg16 ...\n",
      "Features extracted in 197.31 seconds\n",
      "Computing jaccard distance...\n"
     ]
    },
    {
     "name": "stderr",
     "output_type": "stream",
     "text": [
      "bruteForceKnn is deprecated; call bfKnn instead\n"
     ]
    },
    {
     "name": "stdout",
     "output_type": "stream",
     "text": [
      "Jaccard distance computing time cost: 78.15575313568115\n",
      "Extracting Online Features for resnet50 ...\n",
      "Features extracted in 196.18 seconds\n",
      "Computing jaccard distance...\n"
     ]
    },
    {
     "name": "stderr",
     "output_type": "stream",
     "text": [
      "bruteForceKnn is deprecated; call bfKnn instead\n"
     ]
    },
    {
     "name": "stdout",
     "output_type": "stream",
     "text": [
      "Jaccard distance computing time cost: 87.9737446308136\n",
      "Extracting Online Features for osnet ...\n",
      "Features extracted in 194.28 seconds\n",
      "Computing jaccard distance...\n"
     ]
    },
    {
     "name": "stderr",
     "output_type": "stream",
     "text": [
      "bruteForceKnn is deprecated; call bfKnn instead\n"
     ]
    },
    {
     "name": "stdout",
     "output_type": "stream",
     "text": [
      "Jaccard distance computing time cost: 80.4843327999115\n",
      "Extracting Online Features for densenet121 ...\n",
      "Features extracted in 200.49 seconds\n",
      "Computing jaccard distance...\n"
     ]
    },
    {
     "name": "stderr",
     "output_type": "stream",
     "text": [
      "bruteForceKnn is deprecated; call bfKnn instead\n"
     ]
    },
    {
     "name": "stdout",
     "output_type": "stream",
     "text": [
      "Jaccard distance computing time cost: 80.09864354133606\n",
      "Reliability: 0.998\n",
      "\u001b[32mMean Purity: 0.00164\u001b[0m\n",
      "\u001b[34mThere are 2 clusters with 4 cameras\u001b[0m\n",
      "\u001b[34mThere are 4 clusters with 5 cameras\u001b[0m\n",
      "\u001b[34mThere are 1 clusters with 8 cameras\u001b[0m\n",
      "\u001b[34mThere are 1 clusters with 10 cameras\u001b[0m\n",
      "\u001b[34mThere are 1 clusters with 13 cameras\u001b[0m\n",
      "\u001b[34mThere are 1 clusters with 16 cameras\u001b[0m\n",
      "\u001b[34mThere are 2 clusters with 18 cameras\u001b[0m\n",
      "\u001b[34mThere are 1 clusters with 26 cameras\u001b[0m\n",
      "\u001b[34mThere are 1 clusters with 27 cameras\u001b[0m\n",
      "\u001b[34mThere are 1 clusters with 30 cameras\u001b[0m\n",
      "\u001b[34mThere are 1 clusters with 34 cameras\u001b[0m\n",
      "\u001b[34mThere are 1 clusters with 37 cameras\u001b[0m\n",
      "\u001b[34mThere are 1 clusters with 38 cameras\u001b[0m\n",
      "\u001b[34mThere are 1 clusters with 44 cameras\u001b[0m\n",
      "\u001b[34mThere are 1 clusters with 47 cameras\u001b[0m\n",
      "\u001b[34mThere are 1 clusters with 48 cameras\u001b[0m\n",
      "\u001b[34mThere are 1 clusters with 52 cameras\u001b[0m\n",
      "\u001b[34mThere are 1 clusters with 54 cameras\u001b[0m\n",
      "\u001b[34mThere are 2 clusters with 58 cameras\u001b[0m\n",
      "\u001b[34mThere are 4 clusters with 59 cameras\u001b[0m\n",
      "\u001b[34mThere are 1 clusters with 60 cameras\u001b[0m\n",
      "\u001b[34mThere are 13 clusters with 61 cameras\u001b[0m\n",
      "\u001b[34mThere are 10 clusters with 62 cameras\u001b[0m\n",
      "\u001b[34mThere are 16 clusters with 63 cameras\u001b[0m\n",
      "\u001b[34mThere are 538 clusters with 64 cameras\u001b[0m\n",
      "\u001b[34mThere are 1 clusters with 108 cameras\u001b[0m\n",
      "\u001b[34mThere are 1 clusters with 127 cameras\u001b[0m\n",
      "\u001b[34mThere are 2 clusters with 128 cameras\u001b[0m\n",
      "Number of classes: 611\n",
      "\u001b[36mLearning Rate: 0.000350\u001b[0m\n",
      "encontrou modelos efficientnet. Carregando...\n",
      "encontrou modelos convnext. Carregando...\n",
      "encontrou modelos mobilenet. Carregando...\n",
      "encontrou modelos vgg16. Carregando...\n",
      "encontrou modelos resnet50. Carregando...\n",
      "encontrou modelos osnet. Carregando...\n",
      "encontrou modelos densenet121. Carregando...\n",
      "###============ Iteration number 34/90 ============###\n",
      "Extracting Online Features for efficientnet ...\n",
      "Features extracted in 202.58 seconds\n",
      "Computing jaccard distance...\n"
     ]
    },
    {
     "name": "stderr",
     "output_type": "stream",
     "text": [
      "bruteForceKnn is deprecated; call bfKnn instead\n"
     ]
    },
    {
     "name": "stdout",
     "output_type": "stream",
     "text": [
      "Jaccard distance computing time cost: 86.96280527114868\n",
      "Extracting Online Features for convnext ...\n",
      "Features extracted in 200.11 seconds\n",
      "Computing jaccard distance...\n"
     ]
    },
    {
     "name": "stderr",
     "output_type": "stream",
     "text": [
      "bruteForceKnn is deprecated; call bfKnn instead\n"
     ]
    },
    {
     "name": "stdout",
     "output_type": "stream",
     "text": [
      "Jaccard distance computing time cost: 99.71212840080261\n",
      "Extracting Online Features for mobilenet ...\n",
      "Features extracted in 193.36 seconds\n",
      "Computing jaccard distance...\n"
     ]
    },
    {
     "name": "stderr",
     "output_type": "stream",
     "text": [
      "bruteForceKnn is deprecated; call bfKnn instead\n"
     ]
    },
    {
     "name": "stdout",
     "output_type": "stream",
     "text": [
      "Jaccard distance computing time cost: 79.63839364051819\n",
      "Extracting Online Features for vgg16 ...\n",
      "Features extracted in 197.25 seconds\n",
      "Computing jaccard distance...\n"
     ]
    },
    {
     "name": "stderr",
     "output_type": "stream",
     "text": [
      "bruteForceKnn is deprecated; call bfKnn instead\n"
     ]
    },
    {
     "name": "stdout",
     "output_type": "stream",
     "text": [
      "Jaccard distance computing time cost: 93.2775330543518\n",
      "Extracting Online Features for resnet50 ...\n",
      "Features extracted in 195.71 seconds\n",
      "Computing jaccard distance...\n"
     ]
    },
    {
     "name": "stderr",
     "output_type": "stream",
     "text": [
      "bruteForceKnn is deprecated; call bfKnn instead\n"
     ]
    },
    {
     "name": "stdout",
     "output_type": "stream",
     "text": [
      "Jaccard distance computing time cost: 79.73434591293335\n",
      "Extracting Online Features for osnet ...\n",
      "Features extracted in 199.44 seconds\n",
      "Computing jaccard distance...\n"
     ]
    },
    {
     "name": "stderr",
     "output_type": "stream",
     "text": [
      "bruteForceKnn is deprecated; call bfKnn instead\n"
     ]
    },
    {
     "name": "stdout",
     "output_type": "stream",
     "text": [
      "Jaccard distance computing time cost: 78.94786381721497\n",
      "Extracting Online Features for densenet121 ...\n",
      "Features extracted in 197.50 seconds\n",
      "Computing jaccard distance...\n"
     ]
    },
    {
     "name": "stderr",
     "output_type": "stream",
     "text": [
      "bruteForceKnn is deprecated; call bfKnn instead\n"
     ]
    },
    {
     "name": "stdout",
     "output_type": "stream",
     "text": [
      "Jaccard distance computing time cost: 80.64439725875854\n",
      "Reliability: 0.998\n",
      "\u001b[32mMean Purity: 0.00164\u001b[0m\n",
      "\u001b[34mThere are 2 clusters with 4 cameras\u001b[0m\n",
      "\u001b[34mThere are 4 clusters with 5 cameras\u001b[0m\n",
      "\u001b[34mThere are 1 clusters with 8 cameras\u001b[0m\n",
      "\u001b[34mThere are 1 clusters with 10 cameras\u001b[0m\n",
      "\u001b[34mThere are 1 clusters with 13 cameras\u001b[0m\n",
      "\u001b[34mThere are 1 clusters with 16 cameras\u001b[0m\n",
      "\u001b[34mThere are 2 clusters with 18 cameras\u001b[0m\n",
      "\u001b[34mThere are 1 clusters with 26 cameras\u001b[0m\n",
      "\u001b[34mThere are 1 clusters with 27 cameras\u001b[0m\n",
      "\u001b[34mThere are 1 clusters with 30 cameras\u001b[0m\n",
      "\u001b[34mThere are 1 clusters with 34 cameras\u001b[0m\n",
      "\u001b[34mThere are 1 clusters with 37 cameras\u001b[0m\n",
      "\u001b[34mThere are 1 clusters with 38 cameras\u001b[0m\n",
      "\u001b[34mThere are 1 clusters with 44 cameras\u001b[0m\n",
      "\u001b[34mThere are 1 clusters with 47 cameras\u001b[0m\n",
      "\u001b[34mThere are 1 clusters with 48 cameras\u001b[0m\n",
      "\u001b[34mThere are 1 clusters with 52 cameras\u001b[0m\n",
      "\u001b[34mThere are 1 clusters with 54 cameras\u001b[0m\n",
      "\u001b[34mThere are 2 clusters with 58 cameras\u001b[0m\n",
      "\u001b[34mThere are 4 clusters with 59 cameras\u001b[0m\n",
      "\u001b[34mThere are 1 clusters with 60 cameras\u001b[0m\n",
      "\u001b[34mThere are 13 clusters with 61 cameras\u001b[0m\n",
      "\u001b[34mThere are 10 clusters with 62 cameras\u001b[0m\n",
      "\u001b[34mThere are 16 clusters with 63 cameras\u001b[0m\n",
      "\u001b[34mThere are 538 clusters with 64 cameras\u001b[0m\n",
      "\u001b[34mThere are 1 clusters with 108 cameras\u001b[0m\n",
      "\u001b[34mThere are 1 clusters with 127 cameras\u001b[0m\n",
      "\u001b[34mThere are 2 clusters with 128 cameras\u001b[0m\n",
      "Number of classes: 611\n",
      "\u001b[36mLearning Rate: 0.000350\u001b[0m\n",
      "encontrou modelos efficientnet. Carregando...\n",
      "encontrou modelos convnext. Carregando...\n",
      "encontrou modelos mobilenet. Carregando...\n",
      "encontrou modelos vgg16. Carregando...\n",
      "encontrou modelos resnet50. Carregando...\n",
      "encontrou modelos osnet. Carregando...\n",
      "encontrou modelos densenet121. Carregando...\n",
      "###============ Iteration number 35/90 ============###\n",
      "Extracting Online Features for efficientnet ...\n",
      "Features extracted in 204.38 seconds\n",
      "Computing jaccard distance...\n"
     ]
    },
    {
     "name": "stderr",
     "output_type": "stream",
     "text": [
      "bruteForceKnn is deprecated; call bfKnn instead\n"
     ]
    },
    {
     "name": "stdout",
     "output_type": "stream",
     "text": [
      "Jaccard distance computing time cost: 100.78144979476929\n",
      "Extracting Online Features for convnext ...\n",
      "Features extracted in 208.63 seconds\n",
      "Computing jaccard distance...\n"
     ]
    },
    {
     "name": "stderr",
     "output_type": "stream",
     "text": [
      "bruteForceKnn is deprecated; call bfKnn instead\n"
     ]
    },
    {
     "name": "stdout",
     "output_type": "stream",
     "text": [
      "Jaccard distance computing time cost: 85.20048832893372\n",
      "Extracting Online Features for mobilenet ...\n",
      "Features extracted in 203.16 seconds\n",
      "Computing jaccard distance...\n"
     ]
    },
    {
     "name": "stderr",
     "output_type": "stream",
     "text": [
      "bruteForceKnn is deprecated; call bfKnn instead\n"
     ]
    },
    {
     "name": "stdout",
     "output_type": "stream",
     "text": [
      "Jaccard distance computing time cost: 79.3048779964447\n",
      "Extracting Online Features for vgg16 ...\n",
      "Features extracted in 201.11 seconds\n",
      "Computing jaccard distance...\n"
     ]
    },
    {
     "name": "stderr",
     "output_type": "stream",
     "text": [
      "bruteForceKnn is deprecated; call bfKnn instead\n"
     ]
    },
    {
     "name": "stdout",
     "output_type": "stream",
     "text": [
      "Jaccard distance computing time cost: 79.20423150062561\n",
      "Extracting Online Features for resnet50 ...\n",
      "Features extracted in 202.46 seconds\n",
      "Computing jaccard distance...\n"
     ]
    },
    {
     "name": "stderr",
     "output_type": "stream",
     "text": [
      "bruteForceKnn is deprecated; call bfKnn instead\n"
     ]
    },
    {
     "name": "stdout",
     "output_type": "stream",
     "text": [
      "Jaccard distance computing time cost: 89.51646757125854\n",
      "Extracting Online Features for osnet ...\n",
      "Features extracted in 201.04 seconds\n",
      "Computing jaccard distance...\n"
     ]
    },
    {
     "name": "stderr",
     "output_type": "stream",
     "text": [
      "bruteForceKnn is deprecated; call bfKnn instead\n"
     ]
    },
    {
     "name": "stdout",
     "output_type": "stream",
     "text": [
      "Jaccard distance computing time cost: 76.94340515136719\n",
      "Extracting Online Features for densenet121 ...\n",
      "Features extracted in 204.05 seconds\n",
      "Computing jaccard distance...\n"
     ]
    },
    {
     "name": "stderr",
     "output_type": "stream",
     "text": [
      "bruteForceKnn is deprecated; call bfKnn instead\n"
     ]
    },
    {
     "name": "stdout",
     "output_type": "stream",
     "text": [
      "Jaccard distance computing time cost: 80.39648938179016\n",
      "Reliability: 0.998\n",
      "\u001b[32mMean Purity: 0.00164\u001b[0m\n",
      "\u001b[34mThere are 2 clusters with 4 cameras\u001b[0m\n",
      "\u001b[34mThere are 4 clusters with 5 cameras\u001b[0m\n",
      "\u001b[34mThere are 1 clusters with 8 cameras\u001b[0m\n",
      "\u001b[34mThere are 1 clusters with 10 cameras\u001b[0m\n",
      "\u001b[34mThere are 1 clusters with 13 cameras\u001b[0m\n",
      "\u001b[34mThere are 1 clusters with 16 cameras\u001b[0m\n",
      "\u001b[34mThere are 2 clusters with 18 cameras\u001b[0m\n",
      "\u001b[34mThere are 1 clusters with 26 cameras\u001b[0m\n",
      "\u001b[34mThere are 1 clusters with 27 cameras\u001b[0m\n",
      "\u001b[34mThere are 1 clusters with 30 cameras\u001b[0m\n",
      "\u001b[34mThere are 1 clusters with 34 cameras\u001b[0m\n",
      "\u001b[34mThere are 1 clusters with 37 cameras\u001b[0m\n",
      "\u001b[34mThere are 1 clusters with 38 cameras\u001b[0m\n",
      "\u001b[34mThere are 1 clusters with 44 cameras\u001b[0m\n",
      "\u001b[34mThere are 1 clusters with 47 cameras\u001b[0m\n",
      "\u001b[34mThere are 1 clusters with 48 cameras\u001b[0m\n",
      "\u001b[34mThere are 1 clusters with 52 cameras\u001b[0m\n",
      "\u001b[34mThere are 1 clusters with 54 cameras\u001b[0m\n",
      "\u001b[34mThere are 2 clusters with 58 cameras\u001b[0m\n",
      "\u001b[34mThere are 4 clusters with 59 cameras\u001b[0m\n",
      "\u001b[34mThere are 1 clusters with 60 cameras\u001b[0m\n",
      "\u001b[34mThere are 13 clusters with 61 cameras\u001b[0m\n",
      "\u001b[34mThere are 10 clusters with 62 cameras\u001b[0m\n",
      "\u001b[34mThere are 16 clusters with 63 cameras\u001b[0m\n",
      "\u001b[34mThere are 538 clusters with 64 cameras\u001b[0m\n",
      "\u001b[34mThere are 1 clusters with 108 cameras\u001b[0m\n",
      "\u001b[34mThere are 1 clusters with 127 cameras\u001b[0m\n",
      "\u001b[34mThere are 2 clusters with 128 cameras\u001b[0m\n",
      "Number of classes: 611\n",
      "\u001b[36mLearning Rate: 0.000350\u001b[0m\n",
      "encontrou modelos efficientnet. Carregando...\n",
      "encontrou modelos convnext. Carregando...\n",
      "encontrou modelos mobilenet. Carregando...\n",
      "encontrou modelos vgg16. Carregando...\n",
      "encontrou modelos resnet50. Carregando...\n",
      "encontrou modelos osnet. Carregando...\n",
      "encontrou modelos densenet121. Carregando...\n",
      "\u001b[33mValidating online efficientnet ...\u001b[0m\n",
      "Features extracted in 127.68 seconds\n",
      "Features extracted in 113.27 seconds\n",
      "Computing CMC and mAP ...\n",
      "** Results **\n",
      "mAP: 72.74%\n",
      "CMC curve\n",
      "Rank-1  : 86.50%\n",
      "Rank-5  : 96.56%\n",
      "Rank-10 : 98.57%\n",
      "Rank-20 : 99.42%\n",
      "\u001b[33mValidating momentum efficientnet ...\u001b[0m\n",
      "Features extracted in 61.29 seconds\n",
      "Features extracted in 115.83 seconds\n",
      "Computing CMC and mAP ...\n",
      "** Results **\n",
      "mAP: 71.24%\n",
      "CMC curve\n",
      "Rank-1  : 78.00%\n",
      "Rank-5  : 94.78%\n",
      "Rank-10 : 98.01%\n",
      "Rank-20 : 99.39%\n",
      "\u001b[33mValidating online convnext ...\u001b[0m\n",
      "Features extracted in 64.28 seconds\n",
      "Features extracted in 121.31 seconds\n",
      "Computing CMC and mAP ...\n",
      "** Results **\n",
      "mAP: 75.86%\n",
      "CMC curve\n",
      "Rank-1  : 90.47%\n",
      "Rank-5  : 95.47%\n",
      "Rank-10 : 97.23%\n",
      "Rank-20 : 99.00%\n",
      "\u001b[33mValidating momentum convnext ...\u001b[0m\n",
      "Features extracted in 64.92 seconds\n",
      "Features extracted in 121.30 seconds\n",
      "Computing CMC and mAP ...\n",
      "** Results **\n",
      "mAP: 70.89%\n",
      "CMC curve\n",
      "Rank-1  : 81.10%\n",
      "Rank-5  : 94.32%\n",
      "Rank-10 : 97.06%\n",
      "Rank-20 : 98.73%\n",
      "\u001b[33mValidating online mobilenet ...\u001b[0m\n",
      "Features extracted in 77.51 seconds\n",
      "Features extracted in 126.47 seconds\n",
      "Computing CMC and mAP ...\n",
      "** Results **\n",
      "mAP: 71.69%\n",
      "CMC curve\n",
      "Rank-1  : 87.20%\n",
      "Rank-5  : 96.74%\n",
      "Rank-10 : 98.85%\n",
      "Rank-20 : 99.71%\n",
      "\u001b[33mValidating momentum mobilenet ...\u001b[0m\n",
      "Features extracted in 61.52 seconds\n",
      "Features extracted in 120.05 seconds\n",
      "Computing CMC and mAP ...\n",
      "** Results **\n",
      "mAP: 71.41%\n",
      "CMC curve\n",
      "Rank-1  : 83.91%\n",
      "Rank-5  : 95.41%\n",
      "Rank-10 : 98.08%\n",
      "Rank-20 : 99.14%\n",
      "\u001b[33mValidating online vgg16 ...\u001b[0m\n",
      "Features extracted in 69.41 seconds\n",
      "Features extracted in 113.58 seconds\n",
      "Computing CMC and mAP ...\n",
      "** Results **\n",
      "mAP: 72.14%\n",
      "CMC curve\n",
      "Rank-1  : 87.41%\n",
      "Rank-5  : 96.72%\n",
      "Rank-10 : 98.80%\n",
      "Rank-20 : 99.68%\n",
      "\u001b[33mValidating momentum vgg16 ...\u001b[0m\n",
      "Features extracted in 66.92 seconds\n",
      "Features extracted in 126.23 seconds\n",
      "Computing CMC and mAP ...\n",
      "** Results **\n",
      "mAP: 71.15%\n",
      "CMC curve\n",
      "Rank-1  : 79.56%\n",
      "Rank-5  : 95.82%\n",
      "Rank-10 : 98.64%\n",
      "Rank-20 : 99.55%\n",
      "\u001b[33mValidating online resnet50 ...\u001b[0m\n",
      "Features extracted in 61.48 seconds\n",
      "Features extracted in 123.06 seconds\n",
      "Computing CMC and mAP ...\n",
      "** Results **\n",
      "mAP: 72.93%\n",
      "CMC curve\n",
      "Rank-1  : 89.22%\n",
      "Rank-5  : 97.35%\n",
      "Rank-10 : 99.02%\n",
      "Rank-20 : 99.75%\n",
      "\u001b[33mValidating momentum resnet50 ...\u001b[0m\n",
      "Features extracted in 63.27 seconds\n",
      "Features extracted in 136.51 seconds\n",
      "Computing CMC and mAP ...\n",
      "** Results **\n",
      "mAP: 74.37%\n",
      "CMC curve\n",
      "Rank-1  : 90.07%\n",
      "Rank-5  : 97.95%\n",
      "Rank-10 : 99.19%\n",
      "Rank-20 : 99.74%\n",
      "\u001b[33mValidating online osnet ...\u001b[0m\n",
      "Features extracted in 63.48 seconds\n",
      "Features extracted in 115.05 seconds\n",
      "Computing CMC and mAP ...\n",
      "** Results **\n",
      "mAP: 71.05%\n",
      "CMC curve\n",
      "Rank-1  : 81.59%\n",
      "Rank-5  : 95.73%\n",
      "Rank-10 : 98.23%\n",
      "Rank-20 : 99.54%\n",
      "\u001b[33mValidating momentum osnet ...\u001b[0m\n",
      "Features extracted in 62.64 seconds\n",
      "Features extracted in 113.57 seconds\n",
      "Computing CMC and mAP ...\n",
      "** Results **\n",
      "mAP: 73.09%\n",
      "CMC curve\n",
      "Rank-1  : 81.93%\n",
      "Rank-5  : 95.43%\n",
      "Rank-10 : 98.30%\n",
      "Rank-20 : 99.46%\n",
      "\u001b[33mValidating online densenet121 ...\u001b[0m\n",
      "Features extracted in 62.77 seconds\n",
      "Features extracted in 114.03 seconds\n",
      "Computing CMC and mAP ...\n",
      "** Results **\n",
      "mAP: 74.36%\n",
      "CMC curve\n",
      "Rank-1  : 92.33%\n",
      "Rank-5  : 98.60%\n",
      "Rank-10 : 99.56%\n",
      "Rank-20 : 99.86%\n",
      "\u001b[33mValidating momentum densenet121 ...\u001b[0m\n",
      "Features extracted in 63.99 seconds\n",
      "Features extracted in 120.31 seconds\n",
      "Computing CMC and mAP ...\n",
      "** Results **\n",
      "mAP: 74.16%\n",
      "CMC curve\n",
      "Rank-1  : 86.99%\n",
      "Rank-5  : 96.54%\n",
      "Rank-10 : 98.30%\n",
      "Rank-20 : 99.46%\n",
      "\u001b[33mValidating ensembled with online models ...\u001b[0m\n",
      "Computing CMC and mAP ...\n",
      "** Results **\n",
      "mAP: 75.80%\n",
      "Ranks:\n",
      "Rank-1  : 96.73%\n",
      "Rank-5  : 98.98%\n",
      "Rank-10 : 99.48%\n",
      "\u001b[33mValidating ensembled with momentum models ...\u001b[0m\n",
      "Computing CMC and mAP ...\n",
      "** Results **\n",
      "mAP: 74.25%\n",
      "Ranks:\n",
      "Rank-1  : 87.54%\n",
      "Rank-5  : 96.96%\n",
      "Rank-10 : 98.89%\n",
      "###============ Iteration number 36/90 ============###\n",
      "Extracting Online Features for efficientnet ...\n",
      "Features extracted in 241.76 seconds\n",
      "Computing jaccard distance...\n"
     ]
    },
    {
     "name": "stderr",
     "output_type": "stream",
     "text": [
      "bruteForceKnn is deprecated; call bfKnn instead\n"
     ]
    },
    {
     "name": "stdout",
     "output_type": "stream",
     "text": [
      "Jaccard distance computing time cost: 79.34293961524963\n",
      "Extracting Online Features for convnext ...\n",
      "Features extracted in 211.29 seconds\n",
      "Computing jaccard distance...\n"
     ]
    },
    {
     "name": "stderr",
     "output_type": "stream",
     "text": [
      "bruteForceKnn is deprecated; call bfKnn instead\n"
     ]
    },
    {
     "name": "stdout",
     "output_type": "stream",
     "text": [
      "Jaccard distance computing time cost: 80.71732091903687\n",
      "Extracting Online Features for mobilenet ...\n",
      "Features extracted in 212.23 seconds\n",
      "Computing jaccard distance...\n"
     ]
    },
    {
     "name": "stderr",
     "output_type": "stream",
     "text": [
      "bruteForceKnn is deprecated; call bfKnn instead\n"
     ]
    },
    {
     "name": "stdout",
     "output_type": "stream",
     "text": [
      "Jaccard distance computing time cost: 86.2136378288269\n",
      "Extracting Online Features for vgg16 ...\n",
      "Features extracted in 200.24 seconds\n",
      "Computing jaccard distance...\n"
     ]
    },
    {
     "name": "stderr",
     "output_type": "stream",
     "text": [
      "bruteForceKnn is deprecated; call bfKnn instead\n"
     ]
    },
    {
     "name": "stdout",
     "output_type": "stream",
     "text": [
      "Jaccard distance computing time cost: 85.51140284538269\n",
      "Extracting Online Features for resnet50 ...\n",
      "Features extracted in 200.19 seconds\n",
      "Computing jaccard distance...\n"
     ]
    },
    {
     "name": "stderr",
     "output_type": "stream",
     "text": [
      "bruteForceKnn is deprecated; call bfKnn instead\n"
     ]
    },
    {
     "name": "stdout",
     "output_type": "stream",
     "text": [
      "Jaccard distance computing time cost: 80.94266533851624\n",
      "Extracting Online Features for osnet ...\n",
      "Features extracted in 199.19 seconds\n",
      "Computing jaccard distance...\n"
     ]
    },
    {
     "name": "stderr",
     "output_type": "stream",
     "text": [
      "bruteForceKnn is deprecated; call bfKnn instead\n"
     ]
    },
    {
     "name": "stdout",
     "output_type": "stream",
     "text": [
      "Jaccard distance computing time cost: 79.61893081665039\n",
      "Extracting Online Features for densenet121 ...\n",
      "Features extracted in 199.53 seconds\n",
      "Computing jaccard distance...\n"
     ]
    },
    {
     "name": "stderr",
     "output_type": "stream",
     "text": [
      "bruteForceKnn is deprecated; call bfKnn instead\n"
     ]
    },
    {
     "name": "stdout",
     "output_type": "stream",
     "text": [
      "Jaccard distance computing time cost: 82.17388725280762\n",
      "Reliability: 0.998\n",
      "\u001b[32mMean Purity: 0.00164\u001b[0m\n",
      "\u001b[34mThere are 2 clusters with 4 cameras\u001b[0m\n",
      "\u001b[34mThere are 4 clusters with 5 cameras\u001b[0m\n",
      "\u001b[34mThere are 1 clusters with 8 cameras\u001b[0m\n",
      "\u001b[34mThere are 1 clusters with 10 cameras\u001b[0m\n",
      "\u001b[34mThere are 1 clusters with 13 cameras\u001b[0m\n",
      "\u001b[34mThere are 1 clusters with 16 cameras\u001b[0m\n",
      "\u001b[34mThere are 2 clusters with 18 cameras\u001b[0m\n",
      "\u001b[34mThere are 1 clusters with 26 cameras\u001b[0m\n",
      "\u001b[34mThere are 1 clusters with 27 cameras\u001b[0m\n",
      "\u001b[34mThere are 1 clusters with 30 cameras\u001b[0m\n",
      "\u001b[34mThere are 1 clusters with 34 cameras\u001b[0m\n",
      "\u001b[34mThere are 1 clusters with 37 cameras\u001b[0m\n",
      "\u001b[34mThere are 1 clusters with 38 cameras\u001b[0m\n",
      "\u001b[34mThere are 1 clusters with 44 cameras\u001b[0m\n",
      "\u001b[34mThere are 1 clusters with 47 cameras\u001b[0m\n",
      "\u001b[34mThere are 1 clusters with 48 cameras\u001b[0m\n",
      "\u001b[34mThere are 1 clusters with 52 cameras\u001b[0m\n",
      "\u001b[34mThere are 1 clusters with 54 cameras\u001b[0m\n",
      "\u001b[34mThere are 2 clusters with 58 cameras\u001b[0m\n",
      "\u001b[34mThere are 4 clusters with 59 cameras\u001b[0m\n",
      "\u001b[34mThere are 1 clusters with 60 cameras\u001b[0m\n",
      "\u001b[34mThere are 13 clusters with 61 cameras\u001b[0m\n",
      "\u001b[34mThere are 10 clusters with 62 cameras\u001b[0m\n",
      "\u001b[34mThere are 16 clusters with 63 cameras\u001b[0m\n",
      "\u001b[34mThere are 538 clusters with 64 cameras\u001b[0m\n",
      "\u001b[34mThere are 1 clusters with 108 cameras\u001b[0m\n",
      "\u001b[34mThere are 1 clusters with 127 cameras\u001b[0m\n",
      "\u001b[34mThere are 2 clusters with 128 cameras\u001b[0m\n",
      "Number of classes: 611\n",
      "\u001b[36mLearning Rate: 0.000350\u001b[0m\n",
      "encontrou modelos efficientnet. Carregando...\n",
      "encontrou modelos convnext. Carregando...\n",
      "encontrou modelos mobilenet. Carregando...\n",
      "encontrou modelos vgg16. Carregando...\n",
      "encontrou modelos resnet50. Carregando...\n",
      "encontrou modelos osnet. Carregando...\n",
      "encontrou modelos densenet121. Carregando...\n",
      "###============ Iteration number 37/90 ============###\n",
      "Extracting Online Features for efficientnet ...\n",
      "Features extracted in 195.24 seconds\n",
      "Computing jaccard distance...\n"
     ]
    },
    {
     "name": "stderr",
     "output_type": "stream",
     "text": [
      "bruteForceKnn is deprecated; call bfKnn instead\n"
     ]
    },
    {
     "name": "stdout",
     "output_type": "stream",
     "text": [
      "Jaccard distance computing time cost: 84.62852883338928\n",
      "Extracting Online Features for convnext ...\n",
      "Features extracted in 207.49 seconds\n",
      "Computing jaccard distance...\n"
     ]
    },
    {
     "name": "stderr",
     "output_type": "stream",
     "text": [
      "bruteForceKnn is deprecated; call bfKnn instead\n"
     ]
    },
    {
     "name": "stdout",
     "output_type": "stream",
     "text": [
      "Jaccard distance computing time cost: 79.15620231628418\n",
      "Extracting Online Features for mobilenet ...\n",
      "Features extracted in 199.72 seconds\n",
      "Computing jaccard distance...\n"
     ]
    },
    {
     "name": "stderr",
     "output_type": "stream",
     "text": [
      "bruteForceKnn is deprecated; call bfKnn instead\n"
     ]
    },
    {
     "name": "stdout",
     "output_type": "stream",
     "text": [
      "Jaccard distance computing time cost: 86.44855260848999\n",
      "Extracting Online Features for vgg16 ...\n",
      "Features extracted in 198.22 seconds\n",
      "Computing jaccard distance...\n"
     ]
    },
    {
     "name": "stderr",
     "output_type": "stream",
     "text": [
      "bruteForceKnn is deprecated; call bfKnn instead\n"
     ]
    },
    {
     "name": "stdout",
     "output_type": "stream",
     "text": [
      "Jaccard distance computing time cost: 93.69896364212036\n",
      "Extracting Online Features for resnet50 ...\n",
      "Features extracted in 195.71 seconds\n",
      "Computing jaccard distance...\n"
     ]
    },
    {
     "name": "stderr",
     "output_type": "stream",
     "text": [
      "bruteForceKnn is deprecated; call bfKnn instead\n"
     ]
    },
    {
     "name": "stdout",
     "output_type": "stream",
     "text": [
      "Jaccard distance computing time cost: 93.865473985672\n",
      "Extracting Online Features for osnet ...\n",
      "Features extracted in 208.67 seconds\n",
      "Computing jaccard distance...\n"
     ]
    },
    {
     "name": "stderr",
     "output_type": "stream",
     "text": [
      "bruteForceKnn is deprecated; call bfKnn instead\n"
     ]
    },
    {
     "name": "stdout",
     "output_type": "stream",
     "text": [
      "Jaccard distance computing time cost: 77.27963900566101\n",
      "Extracting Online Features for densenet121 ...\n",
      "Features extracted in 201.07 seconds\n",
      "Computing jaccard distance...\n"
     ]
    },
    {
     "name": "stderr",
     "output_type": "stream",
     "text": [
      "bruteForceKnn is deprecated; call bfKnn instead\n"
     ]
    },
    {
     "name": "stdout",
     "output_type": "stream",
     "text": [
      "Jaccard distance computing time cost: 79.52867650985718\n",
      "Reliability: 0.998\n",
      "\u001b[32mMean Purity: 0.00164\u001b[0m\n",
      "\u001b[34mThere are 2 clusters with 4 cameras\u001b[0m\n",
      "\u001b[34mThere are 4 clusters with 5 cameras\u001b[0m\n",
      "\u001b[34mThere are 1 clusters with 8 cameras\u001b[0m\n",
      "\u001b[34mThere are 1 clusters with 10 cameras\u001b[0m\n",
      "\u001b[34mThere are 1 clusters with 13 cameras\u001b[0m\n",
      "\u001b[34mThere are 1 clusters with 16 cameras\u001b[0m\n",
      "\u001b[34mThere are 2 clusters with 18 cameras\u001b[0m\n",
      "\u001b[34mThere are 1 clusters with 26 cameras\u001b[0m\n",
      "\u001b[34mThere are 1 clusters with 27 cameras\u001b[0m\n",
      "\u001b[34mThere are 1 clusters with 30 cameras\u001b[0m\n",
      "\u001b[34mThere are 1 clusters with 34 cameras\u001b[0m\n",
      "\u001b[34mThere are 1 clusters with 37 cameras\u001b[0m\n",
      "\u001b[34mThere are 1 clusters with 38 cameras\u001b[0m\n",
      "\u001b[34mThere are 1 clusters with 44 cameras\u001b[0m\n",
      "\u001b[34mThere are 1 clusters with 47 cameras\u001b[0m\n",
      "\u001b[34mThere are 1 clusters with 48 cameras\u001b[0m\n",
      "\u001b[34mThere are 1 clusters with 52 cameras\u001b[0m\n",
      "\u001b[34mThere are 1 clusters with 54 cameras\u001b[0m\n",
      "\u001b[34mThere are 2 clusters with 58 cameras\u001b[0m\n",
      "\u001b[34mThere are 4 clusters with 59 cameras\u001b[0m\n",
      "\u001b[34mThere are 1 clusters with 60 cameras\u001b[0m\n",
      "\u001b[34mThere are 13 clusters with 61 cameras\u001b[0m\n",
      "\u001b[34mThere are 10 clusters with 62 cameras\u001b[0m\n",
      "\u001b[34mThere are 16 clusters with 63 cameras\u001b[0m\n",
      "\u001b[34mThere are 538 clusters with 64 cameras\u001b[0m\n",
      "\u001b[34mThere are 1 clusters with 108 cameras\u001b[0m\n",
      "\u001b[34mThere are 1 clusters with 127 cameras\u001b[0m\n",
      "\u001b[34mThere are 2 clusters with 128 cameras\u001b[0m\n",
      "Number of classes: 611\n",
      "\u001b[36mLearning Rate: 0.000350\u001b[0m\n",
      "encontrou modelos efficientnet. Carregando...\n",
      "encontrou modelos convnext. Carregando...\n",
      "encontrou modelos mobilenet. Carregando...\n",
      "encontrou modelos vgg16. Carregando...\n",
      "encontrou modelos resnet50. Carregando...\n",
      "encontrou modelos osnet. Carregando...\n",
      "encontrou modelos densenet121. Carregando...\n",
      "###============ Iteration number 38/90 ============###\n",
      "Extracting Online Features for efficientnet ...\n",
      "Features extracted in 200.47 seconds\n",
      "Computing jaccard distance...\n"
     ]
    },
    {
     "name": "stderr",
     "output_type": "stream",
     "text": [
      "bruteForceKnn is deprecated; call bfKnn instead\n"
     ]
    },
    {
     "name": "stdout",
     "output_type": "stream",
     "text": [
      "Jaccard distance computing time cost: 80.26207613945007\n",
      "Extracting Online Features for convnext ...\n",
      "Features extracted in 205.63 seconds\n",
      "Computing jaccard distance...\n"
     ]
    },
    {
     "name": "stderr",
     "output_type": "stream",
     "text": [
      "bruteForceKnn is deprecated; call bfKnn instead\n"
     ]
    },
    {
     "name": "stdout",
     "output_type": "stream",
     "text": [
      "Jaccard distance computing time cost: 79.49781036376953\n",
      "Extracting Online Features for mobilenet ...\n",
      "Features extracted in 208.08 seconds\n",
      "Computing jaccard distance...\n"
     ]
    },
    {
     "name": "stderr",
     "output_type": "stream",
     "text": [
      "bruteForceKnn is deprecated; call bfKnn instead\n"
     ]
    },
    {
     "name": "stdout",
     "output_type": "stream",
     "text": [
      "Jaccard distance computing time cost: 83.12541770935059\n",
      "Extracting Online Features for vgg16 ...\n",
      "Features extracted in 204.36 seconds\n",
      "Computing jaccard distance...\n"
     ]
    },
    {
     "name": "stderr",
     "output_type": "stream",
     "text": [
      "bruteForceKnn is deprecated; call bfKnn instead\n"
     ]
    },
    {
     "name": "stdout",
     "output_type": "stream",
     "text": [
      "Jaccard distance computing time cost: 83.49728536605835\n",
      "Extracting Online Features for resnet50 ...\n",
      "Features extracted in 195.62 seconds\n",
      "Computing jaccard distance...\n"
     ]
    },
    {
     "name": "stderr",
     "output_type": "stream",
     "text": [
      "bruteForceKnn is deprecated; call bfKnn instead\n"
     ]
    },
    {
     "name": "stdout",
     "output_type": "stream",
     "text": [
      "Jaccard distance computing time cost: 79.71296167373657\n",
      "Extracting Online Features for osnet ...\n",
      "Features extracted in 198.31 seconds\n",
      "Computing jaccard distance...\n"
     ]
    },
    {
     "name": "stderr",
     "output_type": "stream",
     "text": [
      "bruteForceKnn is deprecated; call bfKnn instead\n"
     ]
    },
    {
     "name": "stdout",
     "output_type": "stream",
     "text": [
      "Jaccard distance computing time cost: 77.10463762283325\n",
      "Extracting Online Features for densenet121 ...\n",
      "Features extracted in 203.68 seconds\n",
      "Computing jaccard distance...\n"
     ]
    },
    {
     "name": "stderr",
     "output_type": "stream",
     "text": [
      "bruteForceKnn is deprecated; call bfKnn instead\n"
     ]
    },
    {
     "name": "stdout",
     "output_type": "stream",
     "text": [
      "Jaccard distance computing time cost: 80.26185393333435\n",
      "Reliability: 0.998\n",
      "\u001b[32mMean Purity: 0.00164\u001b[0m\n",
      "\u001b[34mThere are 2 clusters with 4 cameras\u001b[0m\n",
      "\u001b[34mThere are 4 clusters with 5 cameras\u001b[0m\n",
      "\u001b[34mThere are 1 clusters with 8 cameras\u001b[0m\n",
      "\u001b[34mThere are 1 clusters with 10 cameras\u001b[0m\n",
      "\u001b[34mThere are 1 clusters with 13 cameras\u001b[0m\n",
      "\u001b[34mThere are 1 clusters with 16 cameras\u001b[0m\n",
      "\u001b[34mThere are 2 clusters with 18 cameras\u001b[0m\n",
      "\u001b[34mThere are 1 clusters with 26 cameras\u001b[0m\n",
      "\u001b[34mThere are 1 clusters with 27 cameras\u001b[0m\n",
      "\u001b[34mThere are 1 clusters with 30 cameras\u001b[0m\n",
      "\u001b[34mThere are 1 clusters with 34 cameras\u001b[0m\n",
      "\u001b[34mThere are 1 clusters with 37 cameras\u001b[0m\n",
      "\u001b[34mThere are 1 clusters with 38 cameras\u001b[0m\n",
      "\u001b[34mThere are 1 clusters with 44 cameras\u001b[0m\n",
      "\u001b[34mThere are 1 clusters with 47 cameras\u001b[0m\n",
      "\u001b[34mThere are 1 clusters with 48 cameras\u001b[0m\n",
      "\u001b[34mThere are 1 clusters with 52 cameras\u001b[0m\n",
      "\u001b[34mThere are 1 clusters with 54 cameras\u001b[0m\n",
      "\u001b[34mThere are 2 clusters with 58 cameras\u001b[0m\n",
      "\u001b[34mThere are 4 clusters with 59 cameras\u001b[0m\n",
      "\u001b[34mThere are 1 clusters with 60 cameras\u001b[0m\n",
      "\u001b[34mThere are 13 clusters with 61 cameras\u001b[0m\n",
      "\u001b[34mThere are 10 clusters with 62 cameras\u001b[0m\n",
      "\u001b[34mThere are 16 clusters with 63 cameras\u001b[0m\n",
      "\u001b[34mThere are 538 clusters with 64 cameras\u001b[0m\n",
      "\u001b[34mThere are 1 clusters with 108 cameras\u001b[0m\n",
      "\u001b[34mThere are 1 clusters with 127 cameras\u001b[0m\n",
      "\u001b[34mThere are 2 clusters with 128 cameras\u001b[0m\n",
      "Number of classes: 611\n",
      "\u001b[36mLearning Rate: 0.000350\u001b[0m\n",
      "encontrou modelos efficientnet. Carregando...\n",
      "encontrou modelos convnext. Carregando...\n",
      "encontrou modelos mobilenet. Carregando...\n",
      "encontrou modelos vgg16. Carregando...\n",
      "encontrou modelos resnet50. Carregando...\n",
      "encontrou modelos osnet. Carregando...\n",
      "encontrou modelos densenet121. Carregando...\n",
      "###============ Iteration number 39/90 ============###\n",
      "Extracting Online Features for efficientnet ...\n",
      "Features extracted in 198.58 seconds\n",
      "Computing jaccard distance...\n"
     ]
    },
    {
     "name": "stderr",
     "output_type": "stream",
     "text": [
      "bruteForceKnn is deprecated; call bfKnn instead\n"
     ]
    },
    {
     "name": "stdout",
     "output_type": "stream",
     "text": [
      "Jaccard distance computing time cost: 87.716876745224\n",
      "Extracting Online Features for convnext ...\n",
      "Features extracted in 217.45 seconds\n",
      "Computing jaccard distance...\n"
     ]
    },
    {
     "name": "stderr",
     "output_type": "stream",
     "text": [
      "bruteForceKnn is deprecated; call bfKnn instead\n"
     ]
    },
    {
     "name": "stdout",
     "output_type": "stream",
     "text": [
      "Jaccard distance computing time cost: 80.4965615272522\n",
      "Extracting Online Features for mobilenet ...\n",
      "Features extracted in 209.61 seconds\n",
      "Computing jaccard distance...\n"
     ]
    },
    {
     "name": "stderr",
     "output_type": "stream",
     "text": [
      "bruteForceKnn is deprecated; call bfKnn instead\n"
     ]
    },
    {
     "name": "stdout",
     "output_type": "stream",
     "text": [
      "Jaccard distance computing time cost: 79.13985061645508\n",
      "Extracting Online Features for vgg16 ...\n",
      "Features extracted in 203.79 seconds\n",
      "Computing jaccard distance...\n"
     ]
    },
    {
     "name": "stderr",
     "output_type": "stream",
     "text": [
      "bruteForceKnn is deprecated; call bfKnn instead\n"
     ]
    },
    {
     "name": "stdout",
     "output_type": "stream",
     "text": [
      "Jaccard distance computing time cost: 92.88921451568604\n",
      "Extracting Online Features for resnet50 ...\n",
      "Features extracted in 204.20 seconds\n",
      "Computing jaccard distance...\n"
     ]
    },
    {
     "name": "stderr",
     "output_type": "stream",
     "text": [
      "bruteForceKnn is deprecated; call bfKnn instead\n"
     ]
    },
    {
     "name": "stdout",
     "output_type": "stream",
     "text": [
      "Jaccard distance computing time cost: 79.45074129104614\n",
      "Extracting Online Features for osnet ...\n",
      "Features extracted in 200.11 seconds\n",
      "Computing jaccard distance...\n"
     ]
    },
    {
     "name": "stderr",
     "output_type": "stream",
     "text": [
      "bruteForceKnn is deprecated; call bfKnn instead\n"
     ]
    },
    {
     "name": "stdout",
     "output_type": "stream",
     "text": [
      "Jaccard distance computing time cost: 85.39123463630676\n",
      "Extracting Online Features for densenet121 ...\n",
      "Features extracted in 197.96 seconds\n",
      "Computing jaccard distance...\n"
     ]
    },
    {
     "name": "stderr",
     "output_type": "stream",
     "text": [
      "bruteForceKnn is deprecated; call bfKnn instead\n"
     ]
    },
    {
     "name": "stdout",
     "output_type": "stream",
     "text": [
      "Jaccard distance computing time cost: 86.70974254608154\n",
      "Reliability: 0.998\n",
      "\u001b[32mMean Purity: 0.00164\u001b[0m\n",
      "\u001b[34mThere are 2 clusters with 4 cameras\u001b[0m\n",
      "\u001b[34mThere are 4 clusters with 5 cameras\u001b[0m\n",
      "\u001b[34mThere are 1 clusters with 8 cameras\u001b[0m\n",
      "\u001b[34mThere are 1 clusters with 10 cameras\u001b[0m\n",
      "\u001b[34mThere are 1 clusters with 13 cameras\u001b[0m\n",
      "\u001b[34mThere are 1 clusters with 16 cameras\u001b[0m\n",
      "\u001b[34mThere are 2 clusters with 18 cameras\u001b[0m\n",
      "\u001b[34mThere are 1 clusters with 26 cameras\u001b[0m\n",
      "\u001b[34mThere are 1 clusters with 27 cameras\u001b[0m\n",
      "\u001b[34mThere are 1 clusters with 30 cameras\u001b[0m\n",
      "\u001b[34mThere are 1 clusters with 34 cameras\u001b[0m\n",
      "\u001b[34mThere are 1 clusters with 37 cameras\u001b[0m\n",
      "\u001b[34mThere are 1 clusters with 38 cameras\u001b[0m\n",
      "\u001b[34mThere are 1 clusters with 44 cameras\u001b[0m\n",
      "\u001b[34mThere are 1 clusters with 47 cameras\u001b[0m\n",
      "\u001b[34mThere are 1 clusters with 48 cameras\u001b[0m\n",
      "\u001b[34mThere are 1 clusters with 52 cameras\u001b[0m\n",
      "\u001b[34mThere are 1 clusters with 54 cameras\u001b[0m\n",
      "\u001b[34mThere are 2 clusters with 58 cameras\u001b[0m\n",
      "\u001b[34mThere are 4 clusters with 59 cameras\u001b[0m\n",
      "\u001b[34mThere are 1 clusters with 60 cameras\u001b[0m\n",
      "\u001b[34mThere are 13 clusters with 61 cameras\u001b[0m\n",
      "\u001b[34mThere are 10 clusters with 62 cameras\u001b[0m\n",
      "\u001b[34mThere are 16 clusters with 63 cameras\u001b[0m\n",
      "\u001b[34mThere are 538 clusters with 64 cameras\u001b[0m\n",
      "\u001b[34mThere are 1 clusters with 108 cameras\u001b[0m\n",
      "\u001b[34mThere are 1 clusters with 127 cameras\u001b[0m\n",
      "\u001b[34mThere are 2 clusters with 128 cameras\u001b[0m\n",
      "Number of classes: 611\n",
      "\u001b[36mLearning Rate: 0.000350\u001b[0m\n",
      "encontrou modelos efficientnet. Carregando...\n",
      "encontrou modelos convnext. Carregando...\n",
      "encontrou modelos mobilenet. Carregando...\n",
      "encontrou modelos vgg16. Carregando...\n",
      "encontrou modelos resnet50. Carregando...\n",
      "encontrou modelos osnet. Carregando...\n",
      "encontrou modelos densenet121. Carregando...\n",
      "###============ Iteration number 40/90 ============###\n",
      "Extracting Online Features for efficientnet ...\n",
      "Features extracted in 207.22 seconds\n",
      "Computing jaccard distance...\n"
     ]
    },
    {
     "name": "stderr",
     "output_type": "stream",
     "text": [
      "bruteForceKnn is deprecated; call bfKnn instead\n"
     ]
    },
    {
     "name": "stdout",
     "output_type": "stream",
     "text": [
      "Jaccard distance computing time cost: 78.98742651939392\n",
      "Extracting Online Features for convnext ...\n",
      "Features extracted in 201.40 seconds\n",
      "Computing jaccard distance...\n"
     ]
    },
    {
     "name": "stderr",
     "output_type": "stream",
     "text": [
      "bruteForceKnn is deprecated; call bfKnn instead\n"
     ]
    },
    {
     "name": "stdout",
     "output_type": "stream",
     "text": [
      "Jaccard distance computing time cost: 80.1145989894867\n",
      "Extracting Online Features for mobilenet ...\n",
      "Features extracted in 195.14 seconds\n",
      "Computing jaccard distance...\n"
     ]
    },
    {
     "name": "stderr",
     "output_type": "stream",
     "text": [
      "bruteForceKnn is deprecated; call bfKnn instead\n"
     ]
    },
    {
     "name": "stdout",
     "output_type": "stream",
     "text": [
      "Jaccard distance computing time cost: 80.98839330673218\n",
      "Extracting Online Features for vgg16 ...\n",
      "Features extracted in 196.92 seconds\n",
      "Computing jaccard distance...\n"
     ]
    },
    {
     "name": "stderr",
     "output_type": "stream",
     "text": [
      "bruteForceKnn is deprecated; call bfKnn instead\n"
     ]
    },
    {
     "name": "stdout",
     "output_type": "stream",
     "text": [
      "Jaccard distance computing time cost: 78.22505187988281\n",
      "Extracting Online Features for resnet50 ...\n",
      "Features extracted in 204.15 seconds\n",
      "Computing jaccard distance...\n"
     ]
    },
    {
     "name": "stderr",
     "output_type": "stream",
     "text": [
      "bruteForceKnn is deprecated; call bfKnn instead\n"
     ]
    },
    {
     "name": "stdout",
     "output_type": "stream",
     "text": [
      "Jaccard distance computing time cost: 79.09009385108948\n",
      "Extracting Online Features for osnet ...\n",
      "Features extracted in 204.25 seconds\n",
      "Computing jaccard distance...\n"
     ]
    },
    {
     "name": "stderr",
     "output_type": "stream",
     "text": [
      "bruteForceKnn is deprecated; call bfKnn instead\n"
     ]
    },
    {
     "name": "stdout",
     "output_type": "stream",
     "text": [
      "Jaccard distance computing time cost: 78.14607048034668\n",
      "Extracting Online Features for densenet121 ...\n",
      "Features extracted in 200.86 seconds\n",
      "Computing jaccard distance...\n"
     ]
    },
    {
     "name": "stderr",
     "output_type": "stream",
     "text": [
      "bruteForceKnn is deprecated; call bfKnn instead\n"
     ]
    },
    {
     "name": "stdout",
     "output_type": "stream",
     "text": [
      "Jaccard distance computing time cost: 80.98813104629517\n",
      "Reliability: 0.998\n",
      "\u001b[32mMean Purity: 0.00164\u001b[0m\n",
      "\u001b[34mThere are 2 clusters with 4 cameras\u001b[0m\n",
      "\u001b[34mThere are 4 clusters with 5 cameras\u001b[0m\n",
      "\u001b[34mThere are 1 clusters with 8 cameras\u001b[0m\n",
      "\u001b[34mThere are 1 clusters with 10 cameras\u001b[0m\n",
      "\u001b[34mThere are 1 clusters with 13 cameras\u001b[0m\n",
      "\u001b[34mThere are 1 clusters with 16 cameras\u001b[0m\n",
      "\u001b[34mThere are 2 clusters with 18 cameras\u001b[0m\n",
      "\u001b[34mThere are 1 clusters with 26 cameras\u001b[0m\n",
      "\u001b[34mThere are 1 clusters with 27 cameras\u001b[0m\n",
      "\u001b[34mThere are 1 clusters with 30 cameras\u001b[0m\n",
      "\u001b[34mThere are 1 clusters with 34 cameras\u001b[0m\n",
      "\u001b[34mThere are 1 clusters with 37 cameras\u001b[0m\n",
      "\u001b[34mThere are 1 clusters with 38 cameras\u001b[0m\n",
      "\u001b[34mThere are 1 clusters with 44 cameras\u001b[0m\n",
      "\u001b[34mThere are 1 clusters with 47 cameras\u001b[0m\n",
      "\u001b[34mThere are 1 clusters with 48 cameras\u001b[0m\n",
      "\u001b[34mThere are 1 clusters with 52 cameras\u001b[0m\n",
      "\u001b[34mThere are 1 clusters with 54 cameras\u001b[0m\n",
      "\u001b[34mThere are 2 clusters with 58 cameras\u001b[0m\n",
      "\u001b[34mThere are 4 clusters with 59 cameras\u001b[0m\n",
      "\u001b[34mThere are 1 clusters with 60 cameras\u001b[0m\n",
      "\u001b[34mThere are 13 clusters with 61 cameras\u001b[0m\n",
      "\u001b[34mThere are 10 clusters with 62 cameras\u001b[0m\n",
      "\u001b[34mThere are 16 clusters with 63 cameras\u001b[0m\n",
      "\u001b[34mThere are 538 clusters with 64 cameras\u001b[0m\n",
      "\u001b[34mThere are 1 clusters with 108 cameras\u001b[0m\n",
      "\u001b[34mThere are 1 clusters with 127 cameras\u001b[0m\n",
      "\u001b[34mThere are 2 clusters with 128 cameras\u001b[0m\n",
      "Number of classes: 611\n",
      "\u001b[36mLearning Rate: 0.000350\u001b[0m\n",
      "encontrou modelos efficientnet. Carregando...\n",
      "encontrou modelos convnext. Carregando...\n",
      "encontrou modelos mobilenet. Carregando...\n",
      "encontrou modelos vgg16. Carregando...\n",
      "encontrou modelos resnet50. Carregando...\n",
      "encontrou modelos osnet. Carregando...\n",
      "encontrou modelos densenet121. Carregando...\n",
      "\u001b[33mValidating online efficientnet ...\u001b[0m\n",
      "Features extracted in 59.80 seconds\n",
      "Features extracted in 120.16 seconds\n",
      "Computing CMC and mAP ...\n",
      "** Results **\n",
      "mAP: 72.74%\n",
      "CMC curve\n",
      "Rank-1  : 86.50%\n",
      "Rank-5  : 96.56%\n",
      "Rank-10 : 98.57%\n",
      "Rank-20 : 99.42%\n",
      "\u001b[33mValidating momentum efficientnet ...\u001b[0m\n",
      "Features extracted in 65.34 seconds\n",
      "Features extracted in 113.60 seconds\n",
      "Computing CMC and mAP ...\n",
      "** Results **\n",
      "mAP: 71.24%\n",
      "CMC curve\n",
      "Rank-1  : 78.00%\n",
      "Rank-5  : 94.78%\n",
      "Rank-10 : 98.01%\n",
      "Rank-20 : 99.39%\n",
      "\u001b[33mValidating online convnext ...\u001b[0m\n",
      "Features extracted in 62.77 seconds\n",
      "Features extracted in 121.46 seconds\n",
      "Computing CMC and mAP ...\n",
      "** Results **\n",
      "mAP: 75.86%\n",
      "CMC curve\n",
      "Rank-1  : 90.47%\n",
      "Rank-5  : 95.47%\n",
      "Rank-10 : 97.23%\n",
      "Rank-20 : 99.00%\n",
      "\u001b[33mValidating momentum convnext ...\u001b[0m\n",
      "Features extracted in 65.64 seconds\n",
      "Features extracted in 122.08 seconds\n",
      "Computing CMC and mAP ...\n",
      "** Results **\n",
      "mAP: 70.89%\n",
      "CMC curve\n",
      "Rank-1  : 81.10%\n",
      "Rank-5  : 94.32%\n",
      "Rank-10 : 97.06%\n",
      "Rank-20 : 98.73%\n",
      "\u001b[33mValidating online mobilenet ...\u001b[0m\n",
      "Features extracted in 61.88 seconds\n",
      "Features extracted in 111.77 seconds\n",
      "Computing CMC and mAP ...\n",
      "** Results **\n",
      "mAP: 71.69%\n",
      "CMC curve\n",
      "Rank-1  : 87.20%\n",
      "Rank-5  : 96.74%\n",
      "Rank-10 : 98.85%\n",
      "Rank-20 : 99.71%\n",
      "\u001b[33mValidating momentum mobilenet ...\u001b[0m\n",
      "Features extracted in 61.70 seconds\n",
      "Features extracted in 116.68 seconds\n",
      "Computing CMC and mAP ...\n",
      "** Results **\n",
      "mAP: 71.41%\n",
      "CMC curve\n",
      "Rank-1  : 83.91%\n",
      "Rank-5  : 95.41%\n",
      "Rank-10 : 98.08%\n",
      "Rank-20 : 99.14%\n",
      "\u001b[33mValidating online vgg16 ...\u001b[0m\n",
      "Features extracted in 63.85 seconds\n",
      "Features extracted in 117.09 seconds\n",
      "Computing CMC and mAP ...\n",
      "** Results **\n",
      "mAP: 72.14%\n",
      "CMC curve\n",
      "Rank-1  : 87.41%\n",
      "Rank-5  : 96.72%\n",
      "Rank-10 : 98.80%\n",
      "Rank-20 : 99.68%\n",
      "\u001b[33mValidating momentum vgg16 ...\u001b[0m\n",
      "Features extracted in 63.59 seconds\n",
      "Features extracted in 115.73 seconds\n",
      "Computing CMC and mAP ...\n",
      "** Results **\n",
      "mAP: 71.15%\n",
      "CMC curve\n",
      "Rank-1  : 79.56%\n",
      "Rank-5  : 95.82%\n",
      "Rank-10 : 98.64%\n",
      "Rank-20 : 99.55%\n",
      "\u001b[33mValidating online resnet50 ...\u001b[0m\n",
      "Features extracted in 63.20 seconds\n",
      "Features extracted in 113.24 seconds\n",
      "Computing CMC and mAP ...\n",
      "** Results **\n",
      "mAP: 72.93%\n",
      "CMC curve\n",
      "Rank-1  : 89.22%\n",
      "Rank-5  : 97.35%\n",
      "Rank-10 : 99.02%\n",
      "Rank-20 : 99.75%\n",
      "\u001b[33mValidating momentum resnet50 ...\u001b[0m\n",
      "Features extracted in 60.97 seconds\n",
      "Features extracted in 115.58 seconds\n",
      "Computing CMC and mAP ...\n",
      "** Results **\n",
      "mAP: 74.37%\n",
      "CMC curve\n",
      "Rank-1  : 90.07%\n",
      "Rank-5  : 97.95%\n",
      "Rank-10 : 99.19%\n",
      "Rank-20 : 99.74%\n",
      "\u001b[33mValidating online osnet ...\u001b[0m\n",
      "Features extracted in 62.15 seconds\n",
      "Features extracted in 112.73 seconds\n",
      "Computing CMC and mAP ...\n",
      "** Results **\n",
      "mAP: 71.05%\n",
      "CMC curve\n",
      "Rank-1  : 81.59%\n",
      "Rank-5  : 95.73%\n",
      "Rank-10 : 98.23%\n",
      "Rank-20 : 99.54%\n",
      "\u001b[33mValidating momentum osnet ...\u001b[0m\n",
      "Features extracted in 61.64 seconds\n",
      "Features extracted in 112.84 seconds\n",
      "Computing CMC and mAP ...\n",
      "** Results **\n",
      "mAP: 73.09%\n",
      "CMC curve\n",
      "Rank-1  : 81.93%\n",
      "Rank-5  : 95.43%\n",
      "Rank-10 : 98.30%\n",
      "Rank-20 : 99.46%\n",
      "\u001b[33mValidating online densenet121 ...\u001b[0m\n",
      "Features extracted in 63.56 seconds\n",
      "Features extracted in 113.42 seconds\n",
      "Computing CMC and mAP ...\n",
      "** Results **\n",
      "mAP: 74.36%\n",
      "CMC curve\n",
      "Rank-1  : 92.33%\n",
      "Rank-5  : 98.60%\n",
      "Rank-10 : 99.56%\n",
      "Rank-20 : 99.86%\n",
      "\u001b[33mValidating momentum densenet121 ...\u001b[0m\n",
      "Features extracted in 64.27 seconds\n",
      "Features extracted in 118.31 seconds\n",
      "Computing CMC and mAP ...\n",
      "** Results **\n",
      "mAP: 74.16%\n",
      "CMC curve\n",
      "Rank-1  : 86.99%\n",
      "Rank-5  : 96.54%\n",
      "Rank-10 : 98.30%\n",
      "Rank-20 : 99.46%\n",
      "\u001b[33mValidating ensembled with online models ...\u001b[0m\n",
      "Computing CMC and mAP ...\n",
      "** Results **\n",
      "mAP: 75.80%\n",
      "Ranks:\n",
      "Rank-1  : 96.73%\n",
      "Rank-5  : 98.98%\n",
      "Rank-10 : 99.48%\n",
      "\u001b[33mValidating ensembled with momentum models ...\u001b[0m\n",
      "Computing CMC and mAP ...\n",
      "** Results **\n",
      "mAP: 74.25%\n",
      "Ranks:\n",
      "Rank-1  : 87.54%\n",
      "Rank-5  : 96.96%\n",
      "Rank-10 : 98.89%\n",
      "###============ Iteration number 41/90 ============###\n",
      "Extracting Online Features for efficientnet ...\n",
      "Features extracted in 684.00 seconds\n",
      "Computing jaccard distance...\n"
     ]
    },
    {
     "name": "stderr",
     "output_type": "stream",
     "text": [
      "bruteForceKnn is deprecated; call bfKnn instead\n"
     ]
    },
    {
     "name": "stdout",
     "output_type": "stream",
     "text": [
      "Jaccard distance computing time cost: 81.15334177017212\n",
      "Extracting Online Features for convnext ...\n",
      "Features extracted in 207.14 seconds\n",
      "Computing jaccard distance...\n"
     ]
    },
    {
     "name": "stderr",
     "output_type": "stream",
     "text": [
      "bruteForceKnn is deprecated; call bfKnn instead\n"
     ]
    },
    {
     "name": "stdout",
     "output_type": "stream",
     "text": [
      "Jaccard distance computing time cost: 80.42382287979126\n",
      "Extracting Online Features for mobilenet ...\n",
      "Features extracted in 195.38 seconds\n",
      "Computing jaccard distance...\n"
     ]
    },
    {
     "name": "stderr",
     "output_type": "stream",
     "text": [
      "bruteForceKnn is deprecated; call bfKnn instead\n"
     ]
    },
    {
     "name": "stdout",
     "output_type": "stream",
     "text": [
      "Jaccard distance computing time cost: 84.6204948425293\n",
      "Extracting Online Features for vgg16 ...\n",
      "Features extracted in 198.41 seconds\n",
      "Computing jaccard distance...\n"
     ]
    },
    {
     "name": "stderr",
     "output_type": "stream",
     "text": [
      "bruteForceKnn is deprecated; call bfKnn instead\n"
     ]
    },
    {
     "name": "stdout",
     "output_type": "stream",
     "text": [
      "Jaccard distance computing time cost: 78.43896102905273\n",
      "Extracting Online Features for resnet50 ...\n",
      "Features extracted in 202.59 seconds\n",
      "Computing jaccard distance...\n"
     ]
    },
    {
     "name": "stderr",
     "output_type": "stream",
     "text": [
      "bruteForceKnn is deprecated; call bfKnn instead\n"
     ]
    },
    {
     "name": "stdout",
     "output_type": "stream",
     "text": [
      "Jaccard distance computing time cost: 79.03769612312317\n",
      "Extracting Online Features for osnet ...\n",
      "Features extracted in 203.71 seconds\n",
      "Computing jaccard distance...\n"
     ]
    },
    {
     "name": "stderr",
     "output_type": "stream",
     "text": [
      "bruteForceKnn is deprecated; call bfKnn instead\n"
     ]
    },
    {
     "name": "stdout",
     "output_type": "stream",
     "text": [
      "Jaccard distance computing time cost: 76.90701341629028\n",
      "Extracting Online Features for densenet121 ...\n",
      "Features extracted in 200.35 seconds\n",
      "Computing jaccard distance...\n"
     ]
    },
    {
     "name": "stderr",
     "output_type": "stream",
     "text": [
      "bruteForceKnn is deprecated; call bfKnn instead\n"
     ]
    },
    {
     "name": "stdout",
     "output_type": "stream",
     "text": [
      "Jaccard distance computing time cost: 80.74744606018066\n",
      "Reliability: 0.998\n",
      "\u001b[32mMean Purity: 0.00164\u001b[0m\n",
      "\u001b[34mThere are 2 clusters with 4 cameras\u001b[0m\n",
      "\u001b[34mThere are 4 clusters with 5 cameras\u001b[0m\n",
      "\u001b[34mThere are 1 clusters with 8 cameras\u001b[0m\n",
      "\u001b[34mThere are 1 clusters with 10 cameras\u001b[0m\n",
      "\u001b[34mThere are 1 clusters with 13 cameras\u001b[0m\n",
      "\u001b[34mThere are 1 clusters with 16 cameras\u001b[0m\n",
      "\u001b[34mThere are 2 clusters with 18 cameras\u001b[0m\n",
      "\u001b[34mThere are 1 clusters with 26 cameras\u001b[0m\n",
      "\u001b[34mThere are 1 clusters with 27 cameras\u001b[0m\n",
      "\u001b[34mThere are 1 clusters with 30 cameras\u001b[0m\n",
      "\u001b[34mThere are 1 clusters with 34 cameras\u001b[0m\n",
      "\u001b[34mThere are 1 clusters with 37 cameras\u001b[0m\n",
      "\u001b[34mThere are 1 clusters with 38 cameras\u001b[0m\n",
      "\u001b[34mThere are 1 clusters with 44 cameras\u001b[0m\n",
      "\u001b[34mThere are 1 clusters with 47 cameras\u001b[0m\n",
      "\u001b[34mThere are 1 clusters with 48 cameras\u001b[0m\n",
      "\u001b[34mThere are 1 clusters with 52 cameras\u001b[0m\n",
      "\u001b[34mThere are 1 clusters with 54 cameras\u001b[0m\n",
      "\u001b[34mThere are 2 clusters with 58 cameras\u001b[0m\n",
      "\u001b[34mThere are 4 clusters with 59 cameras\u001b[0m\n",
      "\u001b[34mThere are 1 clusters with 60 cameras\u001b[0m\n",
      "\u001b[34mThere are 13 clusters with 61 cameras\u001b[0m\n",
      "\u001b[34mThere are 10 clusters with 62 cameras\u001b[0m\n",
      "\u001b[34mThere are 16 clusters with 63 cameras\u001b[0m\n",
      "\u001b[34mThere are 538 clusters with 64 cameras\u001b[0m\n",
      "\u001b[34mThere are 1 clusters with 108 cameras\u001b[0m\n",
      "\u001b[34mThere are 1 clusters with 127 cameras\u001b[0m\n",
      "\u001b[34mThere are 2 clusters with 128 cameras\u001b[0m\n",
      "Number of classes: 611\n",
      "\u001b[36mLearning Rate: 0.000350\u001b[0m\n",
      "encontrou modelos efficientnet. Carregando...\n",
      "encontrou modelos convnext. Carregando...\n",
      "encontrou modelos mobilenet. Carregando...\n",
      "encontrou modelos vgg16. Carregando...\n",
      "encontrou modelos resnet50. Carregando...\n",
      "encontrou modelos osnet. Carregando...\n",
      "encontrou modelos densenet121. Carregando...\n",
      "###============ Iteration number 42/90 ============###\n",
      "Extracting Online Features for efficientnet ...\n",
      "Features extracted in 201.15 seconds\n",
      "Computing jaccard distance...\n"
     ]
    },
    {
     "name": "stderr",
     "output_type": "stream",
     "text": [
      "bruteForceKnn is deprecated; call bfKnn instead\n"
     ]
    },
    {
     "name": "stdout",
     "output_type": "stream",
     "text": [
      "Jaccard distance computing time cost: 78.27062344551086\n",
      "Extracting Online Features for convnext ...\n",
      "Features extracted in 200.12 seconds\n",
      "Computing jaccard distance...\n"
     ]
    },
    {
     "name": "stderr",
     "output_type": "stream",
     "text": [
      "bruteForceKnn is deprecated; call bfKnn instead\n"
     ]
    },
    {
     "name": "stdout",
     "output_type": "stream",
     "text": [
      "Jaccard distance computing time cost: 80.45197463035583\n",
      "Extracting Online Features for mobilenet ...\n",
      "Features extracted in 205.33 seconds\n",
      "Computing jaccard distance...\n"
     ]
    },
    {
     "name": "stderr",
     "output_type": "stream",
     "text": [
      "bruteForceKnn is deprecated; call bfKnn instead\n"
     ]
    },
    {
     "name": "stdout",
     "output_type": "stream",
     "text": [
      "Jaccard distance computing time cost: 80.94273519515991\n",
      "Extracting Online Features for vgg16 ...\n",
      "Features extracted in 200.20 seconds\n",
      "Computing jaccard distance...\n"
     ]
    },
    {
     "name": "stderr",
     "output_type": "stream",
     "text": [
      "bruteForceKnn is deprecated; call bfKnn instead\n"
     ]
    },
    {
     "name": "stdout",
     "output_type": "stream",
     "text": [
      "Jaccard distance computing time cost: 85.63507390022278\n",
      "Extracting Online Features for resnet50 ...\n",
      "Features extracted in 199.58 seconds\n",
      "Computing jaccard distance...\n"
     ]
    },
    {
     "name": "stderr",
     "output_type": "stream",
     "text": [
      "bruteForceKnn is deprecated; call bfKnn instead\n"
     ]
    },
    {
     "name": "stdout",
     "output_type": "stream",
     "text": [
      "Jaccard distance computing time cost: 79.22644066810608\n",
      "Extracting Online Features for osnet ...\n",
      "Features extracted in 198.84 seconds\n",
      "Computing jaccard distance...\n"
     ]
    },
    {
     "name": "stderr",
     "output_type": "stream",
     "text": [
      "bruteForceKnn is deprecated; call bfKnn instead\n"
     ]
    },
    {
     "name": "stdout",
     "output_type": "stream",
     "text": [
      "Jaccard distance computing time cost: 79.35742497444153\n",
      "Extracting Online Features for densenet121 ...\n",
      "Features extracted in 204.91 seconds\n",
      "Computing jaccard distance...\n"
     ]
    },
    {
     "name": "stderr",
     "output_type": "stream",
     "text": [
      "bruteForceKnn is deprecated; call bfKnn instead\n"
     ]
    },
    {
     "name": "stdout",
     "output_type": "stream",
     "text": [
      "Jaccard distance computing time cost: 79.25353908538818\n",
      "Reliability: 0.998\n",
      "\u001b[32mMean Purity: 0.00164\u001b[0m\n",
      "\u001b[34mThere are 2 clusters with 4 cameras\u001b[0m\n",
      "\u001b[34mThere are 4 clusters with 5 cameras\u001b[0m\n",
      "\u001b[34mThere are 1 clusters with 8 cameras\u001b[0m\n",
      "\u001b[34mThere are 1 clusters with 10 cameras\u001b[0m\n",
      "\u001b[34mThere are 1 clusters with 13 cameras\u001b[0m\n",
      "\u001b[34mThere are 1 clusters with 16 cameras\u001b[0m\n",
      "\u001b[34mThere are 2 clusters with 18 cameras\u001b[0m\n",
      "\u001b[34mThere are 1 clusters with 26 cameras\u001b[0m\n",
      "\u001b[34mThere are 1 clusters with 27 cameras\u001b[0m\n",
      "\u001b[34mThere are 1 clusters with 30 cameras\u001b[0m\n",
      "\u001b[34mThere are 1 clusters with 34 cameras\u001b[0m\n",
      "\u001b[34mThere are 1 clusters with 37 cameras\u001b[0m\n",
      "\u001b[34mThere are 1 clusters with 38 cameras\u001b[0m\n",
      "\u001b[34mThere are 1 clusters with 44 cameras\u001b[0m\n",
      "\u001b[34mThere are 1 clusters with 47 cameras\u001b[0m\n",
      "\u001b[34mThere are 1 clusters with 48 cameras\u001b[0m\n",
      "\u001b[34mThere are 1 clusters with 52 cameras\u001b[0m\n",
      "\u001b[34mThere are 1 clusters with 54 cameras\u001b[0m\n",
      "\u001b[34mThere are 2 clusters with 58 cameras\u001b[0m\n",
      "\u001b[34mThere are 4 clusters with 59 cameras\u001b[0m\n",
      "\u001b[34mThere are 1 clusters with 60 cameras\u001b[0m\n",
      "\u001b[34mThere are 13 clusters with 61 cameras\u001b[0m\n",
      "\u001b[34mThere are 10 clusters with 62 cameras\u001b[0m\n",
      "\u001b[34mThere are 16 clusters with 63 cameras\u001b[0m\n",
      "\u001b[34mThere are 538 clusters with 64 cameras\u001b[0m\n",
      "\u001b[34mThere are 1 clusters with 108 cameras\u001b[0m\n",
      "\u001b[34mThere are 1 clusters with 127 cameras\u001b[0m\n",
      "\u001b[34mThere are 2 clusters with 128 cameras\u001b[0m\n",
      "Number of classes: 611\n",
      "\u001b[36mLearning Rate: 0.000350\u001b[0m\n",
      "encontrou modelos efficientnet. Carregando...\n",
      "encontrou modelos convnext. Carregando...\n",
      "encontrou modelos mobilenet. Carregando...\n",
      "encontrou modelos vgg16. Carregando...\n",
      "encontrou modelos resnet50. Carregando...\n",
      "encontrou modelos osnet. Carregando...\n",
      "encontrou modelos densenet121. Carregando...\n",
      "###============ Iteration number 43/90 ============###\n",
      "Extracting Online Features for efficientnet ...\n",
      "Features extracted in 193.73 seconds\n",
      "Computing jaccard distance...\n"
     ]
    },
    {
     "name": "stderr",
     "output_type": "stream",
     "text": [
      "bruteForceKnn is deprecated; call bfKnn instead\n"
     ]
    },
    {
     "name": "stdout",
     "output_type": "stream",
     "text": [
      "Jaccard distance computing time cost: 78.19084239006042\n",
      "Extracting Online Features for convnext ...\n",
      "Features extracted in 210.77 seconds\n",
      "Computing jaccard distance...\n"
     ]
    },
    {
     "name": "stderr",
     "output_type": "stream",
     "text": [
      "bruteForceKnn is deprecated; call bfKnn instead\n"
     ]
    },
    {
     "name": "stdout",
     "output_type": "stream",
     "text": [
      "Jaccard distance computing time cost: 78.56623530387878\n",
      "Extracting Online Features for mobilenet ...\n",
      "Features extracted in 200.34 seconds\n",
      "Computing jaccard distance...\n"
     ]
    },
    {
     "name": "stderr",
     "output_type": "stream",
     "text": [
      "bruteForceKnn is deprecated; call bfKnn instead\n"
     ]
    },
    {
     "name": "stdout",
     "output_type": "stream",
     "text": [
      "Jaccard distance computing time cost: 78.27807593345642\n",
      "Extracting Online Features for vgg16 ...\n",
      "Features extracted in 200.65 seconds\n",
      "Computing jaccard distance...\n"
     ]
    },
    {
     "name": "stderr",
     "output_type": "stream",
     "text": [
      "bruteForceKnn is deprecated; call bfKnn instead\n"
     ]
    },
    {
     "name": "stdout",
     "output_type": "stream",
     "text": [
      "Jaccard distance computing time cost: 77.96007966995239\n",
      "Extracting Online Features for resnet50 ...\n",
      "Features extracted in 198.25 seconds\n",
      "Computing jaccard distance...\n"
     ]
    },
    {
     "name": "stderr",
     "output_type": "stream",
     "text": [
      "bruteForceKnn is deprecated; call bfKnn instead\n"
     ]
    },
    {
     "name": "stdout",
     "output_type": "stream",
     "text": [
      "Jaccard distance computing time cost: 81.02904152870178\n",
      "Extracting Online Features for osnet ...\n",
      "Features extracted in 201.42 seconds\n",
      "Computing jaccard distance...\n"
     ]
    },
    {
     "name": "stderr",
     "output_type": "stream",
     "text": [
      "bruteForceKnn is deprecated; call bfKnn instead\n"
     ]
    },
    {
     "name": "stdout",
     "output_type": "stream",
     "text": [
      "Jaccard distance computing time cost: 76.57856249809265\n",
      "Extracting Online Features for densenet121 ...\n",
      "Features extracted in 199.52 seconds\n",
      "Computing jaccard distance...\n"
     ]
    },
    {
     "name": "stderr",
     "output_type": "stream",
     "text": [
      "bruteForceKnn is deprecated; call bfKnn instead\n"
     ]
    },
    {
     "name": "stdout",
     "output_type": "stream",
     "text": [
      "Jaccard distance computing time cost: 82.10611248016357\n",
      "Reliability: 0.998\n",
      "\u001b[32mMean Purity: 0.00164\u001b[0m\n",
      "\u001b[34mThere are 2 clusters with 4 cameras\u001b[0m\n",
      "\u001b[34mThere are 4 clusters with 5 cameras\u001b[0m\n",
      "\u001b[34mThere are 1 clusters with 8 cameras\u001b[0m\n",
      "\u001b[34mThere are 1 clusters with 10 cameras\u001b[0m\n",
      "\u001b[34mThere are 1 clusters with 13 cameras\u001b[0m\n",
      "\u001b[34mThere are 1 clusters with 16 cameras\u001b[0m\n",
      "\u001b[34mThere are 2 clusters with 18 cameras\u001b[0m\n",
      "\u001b[34mThere are 1 clusters with 26 cameras\u001b[0m\n",
      "\u001b[34mThere are 1 clusters with 27 cameras\u001b[0m\n",
      "\u001b[34mThere are 1 clusters with 30 cameras\u001b[0m\n",
      "\u001b[34mThere are 1 clusters with 34 cameras\u001b[0m\n",
      "\u001b[34mThere are 1 clusters with 37 cameras\u001b[0m\n",
      "\u001b[34mThere are 1 clusters with 38 cameras\u001b[0m\n",
      "\u001b[34mThere are 1 clusters with 44 cameras\u001b[0m\n",
      "\u001b[34mThere are 1 clusters with 47 cameras\u001b[0m\n",
      "\u001b[34mThere are 1 clusters with 48 cameras\u001b[0m\n",
      "\u001b[34mThere are 1 clusters with 52 cameras\u001b[0m\n",
      "\u001b[34mThere are 1 clusters with 54 cameras\u001b[0m\n",
      "\u001b[34mThere are 2 clusters with 58 cameras\u001b[0m\n",
      "\u001b[34mThere are 4 clusters with 59 cameras\u001b[0m\n",
      "\u001b[34mThere are 1 clusters with 60 cameras\u001b[0m\n",
      "\u001b[34mThere are 13 clusters with 61 cameras\u001b[0m\n",
      "\u001b[34mThere are 10 clusters with 62 cameras\u001b[0m\n",
      "\u001b[34mThere are 16 clusters with 63 cameras\u001b[0m\n",
      "\u001b[34mThere are 538 clusters with 64 cameras\u001b[0m\n",
      "\u001b[34mThere are 1 clusters with 108 cameras\u001b[0m\n",
      "\u001b[34mThere are 1 clusters with 127 cameras\u001b[0m\n",
      "\u001b[34mThere are 2 clusters with 128 cameras\u001b[0m\n",
      "Number of classes: 611\n",
      "\u001b[36mLearning Rate: 0.000350\u001b[0m\n",
      "encontrou modelos efficientnet. Carregando...\n",
      "encontrou modelos convnext. Carregando...\n",
      "encontrou modelos mobilenet. Carregando...\n",
      "encontrou modelos vgg16. Carregando...\n",
      "encontrou modelos resnet50. Carregando...\n",
      "encontrou modelos osnet. Carregando...\n",
      "encontrou modelos densenet121. Carregando...\n",
      "###============ Iteration number 44/90 ============###\n",
      "Extracting Online Features for efficientnet ...\n",
      "Features extracted in 197.85 seconds\n",
      "Computing jaccard distance...\n"
     ]
    },
    {
     "name": "stderr",
     "output_type": "stream",
     "text": [
      "bruteForceKnn is deprecated; call bfKnn instead\n"
     ]
    },
    {
     "name": "stdout",
     "output_type": "stream",
     "text": [
      "Jaccard distance computing time cost: 78.27925419807434\n",
      "Extracting Online Features for convnext ...\n",
      "Features extracted in 197.09 seconds\n",
      "Computing jaccard distance...\n"
     ]
    },
    {
     "name": "stderr",
     "output_type": "stream",
     "text": [
      "bruteForceKnn is deprecated; call bfKnn instead\n"
     ]
    },
    {
     "name": "stdout",
     "output_type": "stream",
     "text": [
      "Jaccard distance computing time cost: 79.0238127708435\n",
      "Extracting Online Features for mobilenet ...\n",
      "Features extracted in 190.83 seconds\n",
      "Computing jaccard distance...\n"
     ]
    },
    {
     "name": "stderr",
     "output_type": "stream",
     "text": [
      "bruteForceKnn is deprecated; call bfKnn instead\n"
     ]
    },
    {
     "name": "stdout",
     "output_type": "stream",
     "text": [
      "Jaccard distance computing time cost: 79.13111162185669\n",
      "Extracting Online Features for vgg16 ...\n",
      "Features extracted in 195.78 seconds\n",
      "Computing jaccard distance...\n"
     ]
    },
    {
     "name": "stderr",
     "output_type": "stream",
     "text": [
      "bruteForceKnn is deprecated; call bfKnn instead\n"
     ]
    },
    {
     "name": "stdout",
     "output_type": "stream",
     "text": [
      "Jaccard distance computing time cost: 77.88386869430542\n",
      "Extracting Online Features for resnet50 ...\n",
      "Features extracted in 195.79 seconds\n",
      "Computing jaccard distance...\n"
     ]
    },
    {
     "name": "stderr",
     "output_type": "stream",
     "text": [
      "bruteForceKnn is deprecated; call bfKnn instead\n"
     ]
    },
    {
     "name": "stdout",
     "output_type": "stream",
     "text": [
      "Jaccard distance computing time cost: 79.37894201278687\n",
      "Extracting Online Features for osnet ...\n",
      "Features extracted in 193.25 seconds\n",
      "Computing jaccard distance...\n"
     ]
    },
    {
     "name": "stderr",
     "output_type": "stream",
     "text": [
      "bruteForceKnn is deprecated; call bfKnn instead\n"
     ]
    },
    {
     "name": "stdout",
     "output_type": "stream",
     "text": [
      "Jaccard distance computing time cost: 76.77687788009644\n",
      "Extracting Online Features for densenet121 ...\n",
      "Features extracted in 198.67 seconds\n",
      "Computing jaccard distance...\n"
     ]
    },
    {
     "name": "stderr",
     "output_type": "stream",
     "text": [
      "bruteForceKnn is deprecated; call bfKnn instead\n"
     ]
    },
    {
     "name": "stdout",
     "output_type": "stream",
     "text": [
      "Jaccard distance computing time cost: 82.94357657432556\n",
      "Reliability: 0.998\n",
      "\u001b[32mMean Purity: 0.00164\u001b[0m\n",
      "\u001b[34mThere are 2 clusters with 4 cameras\u001b[0m\n",
      "\u001b[34mThere are 4 clusters with 5 cameras\u001b[0m\n",
      "\u001b[34mThere are 1 clusters with 8 cameras\u001b[0m\n",
      "\u001b[34mThere are 1 clusters with 10 cameras\u001b[0m\n",
      "\u001b[34mThere are 1 clusters with 13 cameras\u001b[0m\n",
      "\u001b[34mThere are 1 clusters with 16 cameras\u001b[0m\n",
      "\u001b[34mThere are 2 clusters with 18 cameras\u001b[0m\n",
      "\u001b[34mThere are 1 clusters with 26 cameras\u001b[0m\n",
      "\u001b[34mThere are 1 clusters with 27 cameras\u001b[0m\n",
      "\u001b[34mThere are 1 clusters with 30 cameras\u001b[0m\n",
      "\u001b[34mThere are 1 clusters with 34 cameras\u001b[0m\n",
      "\u001b[34mThere are 1 clusters with 37 cameras\u001b[0m\n",
      "\u001b[34mThere are 1 clusters with 38 cameras\u001b[0m\n",
      "\u001b[34mThere are 1 clusters with 44 cameras\u001b[0m\n",
      "\u001b[34mThere are 1 clusters with 47 cameras\u001b[0m\n",
      "\u001b[34mThere are 1 clusters with 48 cameras\u001b[0m\n",
      "\u001b[34mThere are 1 clusters with 52 cameras\u001b[0m\n",
      "\u001b[34mThere are 1 clusters with 54 cameras\u001b[0m\n",
      "\u001b[34mThere are 2 clusters with 58 cameras\u001b[0m\n",
      "\u001b[34mThere are 4 clusters with 59 cameras\u001b[0m\n",
      "\u001b[34mThere are 1 clusters with 60 cameras\u001b[0m\n",
      "\u001b[34mThere are 13 clusters with 61 cameras\u001b[0m\n",
      "\u001b[34mThere are 10 clusters with 62 cameras\u001b[0m\n",
      "\u001b[34mThere are 16 clusters with 63 cameras\u001b[0m\n",
      "\u001b[34mThere are 538 clusters with 64 cameras\u001b[0m\n",
      "\u001b[34mThere are 1 clusters with 108 cameras\u001b[0m\n",
      "\u001b[34mThere are 1 clusters with 127 cameras\u001b[0m\n",
      "\u001b[34mThere are 2 clusters with 128 cameras\u001b[0m\n",
      "Number of classes: 611\n",
      "\u001b[36mLearning Rate: 0.000350\u001b[0m\n",
      "encontrou modelos efficientnet. Carregando...\n",
      "encontrou modelos convnext. Carregando...\n",
      "encontrou modelos mobilenet. Carregando...\n",
      "encontrou modelos vgg16. Carregando...\n",
      "encontrou modelos resnet50. Carregando...\n",
      "encontrou modelos osnet. Carregando...\n",
      "encontrou modelos densenet121. Carregando...\n",
      "###============ Iteration number 45/90 ============###\n",
      "Extracting Online Features for efficientnet ...\n",
      "Features extracted in 204.83 seconds\n",
      "Computing jaccard distance...\n"
     ]
    },
    {
     "name": "stderr",
     "output_type": "stream",
     "text": [
      "bruteForceKnn is deprecated; call bfKnn instead\n"
     ]
    },
    {
     "name": "stdout",
     "output_type": "stream",
     "text": [
      "Jaccard distance computing time cost: 78.95246624946594\n",
      "Extracting Online Features for convnext ...\n",
      "Features extracted in 202.33 seconds\n",
      "Computing jaccard distance...\n"
     ]
    },
    {
     "name": "stderr",
     "output_type": "stream",
     "text": [
      "bruteForceKnn is deprecated; call bfKnn instead\n"
     ]
    },
    {
     "name": "stdout",
     "output_type": "stream",
     "text": [
      "Jaccard distance computing time cost: 88.37143397331238\n",
      "Extracting Online Features for mobilenet ...\n",
      "Features extracted in 196.95 seconds\n",
      "Computing jaccard distance...\n"
     ]
    },
    {
     "name": "stderr",
     "output_type": "stream",
     "text": [
      "bruteForceKnn is deprecated; call bfKnn instead\n"
     ]
    },
    {
     "name": "stdout",
     "output_type": "stream",
     "text": [
      "Jaccard distance computing time cost: 78.5176100730896\n",
      "Extracting Online Features for vgg16 ...\n",
      "Features extracted in 199.23 seconds\n",
      "Computing jaccard distance...\n"
     ]
    },
    {
     "name": "stderr",
     "output_type": "stream",
     "text": [
      "bruteForceKnn is deprecated; call bfKnn instead\n"
     ]
    },
    {
     "name": "stdout",
     "output_type": "stream",
     "text": [
      "Jaccard distance computing time cost: 78.39227080345154\n",
      "Extracting Online Features for resnet50 ...\n",
      "Features extracted in 196.83 seconds\n",
      "Computing jaccard distance...\n"
     ]
    },
    {
     "name": "stderr",
     "output_type": "stream",
     "text": [
      "bruteForceKnn is deprecated; call bfKnn instead\n"
     ]
    },
    {
     "name": "stdout",
     "output_type": "stream",
     "text": [
      "Jaccard distance computing time cost: 79.30361199378967\n",
      "Extracting Online Features for osnet ...\n",
      "Features extracted in 200.62 seconds\n",
      "Computing jaccard distance...\n"
     ]
    },
    {
     "name": "stderr",
     "output_type": "stream",
     "text": [
      "bruteForceKnn is deprecated; call bfKnn instead\n"
     ]
    },
    {
     "name": "stdout",
     "output_type": "stream",
     "text": [
      "Jaccard distance computing time cost: 76.97978448867798\n",
      "Extracting Online Features for densenet121 ...\n",
      "Features extracted in 199.70 seconds\n",
      "Computing jaccard distance...\n"
     ]
    },
    {
     "name": "stderr",
     "output_type": "stream",
     "text": [
      "bruteForceKnn is deprecated; call bfKnn instead\n"
     ]
    },
    {
     "name": "stdout",
     "output_type": "stream",
     "text": [
      "Jaccard distance computing time cost: 79.05642104148865\n",
      "Reliability: 0.998\n",
      "\u001b[32mMean Purity: 0.00164\u001b[0m\n",
      "\u001b[34mThere are 2 clusters with 4 cameras\u001b[0m\n",
      "\u001b[34mThere are 4 clusters with 5 cameras\u001b[0m\n",
      "\u001b[34mThere are 1 clusters with 8 cameras\u001b[0m\n",
      "\u001b[34mThere are 1 clusters with 10 cameras\u001b[0m\n",
      "\u001b[34mThere are 1 clusters with 13 cameras\u001b[0m\n",
      "\u001b[34mThere are 1 clusters with 16 cameras\u001b[0m\n",
      "\u001b[34mThere are 2 clusters with 18 cameras\u001b[0m\n",
      "\u001b[34mThere are 1 clusters with 26 cameras\u001b[0m\n",
      "\u001b[34mThere are 1 clusters with 27 cameras\u001b[0m\n",
      "\u001b[34mThere are 1 clusters with 30 cameras\u001b[0m\n",
      "\u001b[34mThere are 1 clusters with 34 cameras\u001b[0m\n",
      "\u001b[34mThere are 1 clusters with 37 cameras\u001b[0m\n",
      "\u001b[34mThere are 1 clusters with 38 cameras\u001b[0m\n",
      "\u001b[34mThere are 1 clusters with 44 cameras\u001b[0m\n",
      "\u001b[34mThere are 1 clusters with 47 cameras\u001b[0m\n",
      "\u001b[34mThere are 1 clusters with 48 cameras\u001b[0m\n",
      "\u001b[34mThere are 1 clusters with 52 cameras\u001b[0m\n",
      "\u001b[34mThere are 1 clusters with 54 cameras\u001b[0m\n",
      "\u001b[34mThere are 2 clusters with 58 cameras\u001b[0m\n",
      "\u001b[34mThere are 4 clusters with 59 cameras\u001b[0m\n",
      "\u001b[34mThere are 1 clusters with 60 cameras\u001b[0m\n",
      "\u001b[34mThere are 13 clusters with 61 cameras\u001b[0m\n",
      "\u001b[34mThere are 10 clusters with 62 cameras\u001b[0m\n",
      "\u001b[34mThere are 16 clusters with 63 cameras\u001b[0m\n",
      "\u001b[34mThere are 538 clusters with 64 cameras\u001b[0m\n",
      "\u001b[34mThere are 1 clusters with 108 cameras\u001b[0m\n",
      "\u001b[34mThere are 1 clusters with 127 cameras\u001b[0m\n",
      "\u001b[34mThere are 2 clusters with 128 cameras\u001b[0m\n",
      "Number of classes: 611\n",
      "\u001b[36mLearning Rate: 0.000350\u001b[0m\n",
      "encontrou modelos efficientnet. Carregando...\n",
      "encontrou modelos convnext. Carregando...\n",
      "encontrou modelos mobilenet. Carregando...\n",
      "encontrou modelos vgg16. Carregando...\n",
      "encontrou modelos resnet50. Carregando...\n",
      "encontrou modelos osnet. Carregando...\n",
      "encontrou modelos densenet121. Carregando...\n",
      "\u001b[33mValidating online efficientnet ...\u001b[0m\n",
      "Features extracted in 61.04 seconds\n",
      "Features extracted in 116.09 seconds\n",
      "Computing CMC and mAP ...\n",
      "** Results **\n",
      "mAP: 72.74%\n",
      "CMC curve\n",
      "Rank-1  : 86.50%\n",
      "Rank-5  : 96.56%\n",
      "Rank-10 : 98.57%\n",
      "Rank-20 : 99.42%\n",
      "\u001b[33mValidating momentum efficientnet ...\u001b[0m\n",
      "Features extracted in 59.35 seconds\n",
      "Features extracted in 109.69 seconds\n",
      "Computing CMC and mAP ...\n",
      "** Results **\n",
      "mAP: 71.24%\n",
      "CMC curve\n",
      "Rank-1  : 78.00%\n",
      "Rank-5  : 94.78%\n",
      "Rank-10 : 98.01%\n",
      "Rank-20 : 99.39%\n",
      "\u001b[33mValidating online convnext ...\u001b[0m\n",
      "Features extracted in 64.25 seconds\n",
      "Features extracted in 114.66 seconds\n",
      "Computing CMC and mAP ...\n",
      "** Results **\n",
      "mAP: 75.86%\n",
      "CMC curve\n",
      "Rank-1  : 90.47%\n",
      "Rank-5  : 95.47%\n",
      "Rank-10 : 97.23%\n",
      "Rank-20 : 99.00%\n",
      "\u001b[33mValidating momentum convnext ...\u001b[0m\n",
      "Features extracted in 60.59 seconds\n",
      "Features extracted in 116.58 seconds\n",
      "Computing CMC and mAP ...\n",
      "** Results **\n",
      "mAP: 70.89%\n",
      "CMC curve\n",
      "Rank-1  : 81.10%\n",
      "Rank-5  : 94.32%\n",
      "Rank-10 : 97.06%\n",
      "Rank-20 : 98.73%\n",
      "\u001b[33mValidating online mobilenet ...\u001b[0m\n",
      "Features extracted in 61.40 seconds\n",
      "Features extracted in 113.45 seconds\n",
      "Computing CMC and mAP ...\n",
      "** Results **\n",
      "mAP: 71.69%\n",
      "CMC curve\n",
      "Rank-1  : 87.20%\n",
      "Rank-5  : 96.74%\n",
      "Rank-10 : 98.85%\n",
      "Rank-20 : 99.71%\n",
      "\u001b[33mValidating momentum mobilenet ...\u001b[0m\n",
      "Features extracted in 61.93 seconds\n",
      "Features extracted in 110.56 seconds\n",
      "Computing CMC and mAP ...\n",
      "** Results **\n",
      "mAP: 71.41%\n",
      "CMC curve\n",
      "Rank-1  : 83.91%\n",
      "Rank-5  : 95.41%\n",
      "Rank-10 : 98.08%\n",
      "Rank-20 : 99.14%\n",
      "\u001b[33mValidating online vgg16 ...\u001b[0m\n",
      "Features extracted in 60.44 seconds\n",
      "Features extracted in 109.68 seconds\n",
      "Computing CMC and mAP ...\n",
      "** Results **\n",
      "mAP: 72.14%\n",
      "CMC curve\n",
      "Rank-1  : 87.41%\n",
      "Rank-5  : 96.72%\n",
      "Rank-10 : 98.80%\n",
      "Rank-20 : 99.68%\n",
      "\u001b[33mValidating momentum vgg16 ...\u001b[0m\n",
      "Features extracted in 59.92 seconds\n",
      "Features extracted in 112.48 seconds\n",
      "Computing CMC and mAP ...\n",
      "** Results **\n",
      "mAP: 71.15%\n",
      "CMC curve\n",
      "Rank-1  : 79.56%\n",
      "Rank-5  : 95.82%\n",
      "Rank-10 : 98.64%\n",
      "Rank-20 : 99.55%\n",
      "\u001b[33mValidating online resnet50 ...\u001b[0m\n",
      "Features extracted in 61.44 seconds\n",
      "Features extracted in 112.60 seconds\n",
      "Computing CMC and mAP ...\n",
      "** Results **\n",
      "mAP: 72.93%\n",
      "CMC curve\n",
      "Rank-1  : 89.22%\n",
      "Rank-5  : 97.35%\n",
      "Rank-10 : 99.02%\n",
      "Rank-20 : 99.75%\n",
      "\u001b[33mValidating momentum resnet50 ...\u001b[0m\n",
      "Features extracted in 61.83 seconds\n",
      "Features extracted in 111.90 seconds\n",
      "Computing CMC and mAP ...\n",
      "** Results **\n",
      "mAP: 74.37%\n",
      "CMC curve\n",
      "Rank-1  : 90.07%\n",
      "Rank-5  : 97.95%\n",
      "Rank-10 : 99.19%\n",
      "Rank-20 : 99.74%\n",
      "\u001b[33mValidating online osnet ...\u001b[0m\n",
      "Features extracted in 62.98 seconds\n",
      "Features extracted in 108.54 seconds\n",
      "Computing CMC and mAP ...\n",
      "** Results **\n",
      "mAP: 71.05%\n",
      "CMC curve\n",
      "Rank-1  : 81.59%\n",
      "Rank-5  : 95.73%\n",
      "Rank-10 : 98.23%\n",
      "Rank-20 : 99.54%\n",
      "\u001b[33mValidating momentum osnet ...\u001b[0m\n",
      "Features extracted in 62.85 seconds\n",
      "Features extracted in 109.69 seconds\n",
      "Computing CMC and mAP ...\n",
      "** Results **\n",
      "mAP: 73.09%\n",
      "CMC curve\n",
      "Rank-1  : 81.93%\n",
      "Rank-5  : 95.43%\n",
      "Rank-10 : 98.30%\n",
      "Rank-20 : 99.46%\n",
      "\u001b[33mValidating online densenet121 ...\u001b[0m\n",
      "Features extracted in 64.23 seconds\n",
      "Features extracted in 113.99 seconds\n",
      "Computing CMC and mAP ...\n",
      "** Results **\n",
      "mAP: 74.36%\n",
      "CMC curve\n",
      "Rank-1  : 92.33%\n",
      "Rank-5  : 98.60%\n",
      "Rank-10 : 99.56%\n",
      "Rank-20 : 99.86%\n",
      "\u001b[33mValidating momentum densenet121 ...\u001b[0m\n",
      "Features extracted in 59.35 seconds\n",
      "Features extracted in 108.94 seconds\n",
      "Computing CMC and mAP ...\n",
      "** Results **\n",
      "mAP: 74.16%\n",
      "CMC curve\n",
      "Rank-1  : 86.99%\n",
      "Rank-5  : 96.54%\n",
      "Rank-10 : 98.30%\n",
      "Rank-20 : 99.46%\n",
      "\u001b[33mValidating ensembled with online models ...\u001b[0m\n",
      "Computing CMC and mAP ...\n",
      "** Results **\n",
      "mAP: 75.80%\n",
      "Ranks:\n",
      "Rank-1  : 96.73%\n",
      "Rank-5  : 98.98%\n",
      "Rank-10 : 99.48%\n",
      "\u001b[33mValidating ensembled with momentum models ...\u001b[0m\n",
      "Computing CMC and mAP ...\n",
      "** Results **\n",
      "mAP: 74.25%\n",
      "Ranks:\n",
      "Rank-1  : 87.54%\n",
      "Rank-5  : 96.96%\n",
      "Rank-10 : 98.89%\n",
      "###============ Iteration number 46/90 ============###\n",
      "Extracting Online Features for efficientnet ...\n",
      "Features extracted in 197.22 seconds\n",
      "Computing jaccard distance...\n"
     ]
    },
    {
     "name": "stderr",
     "output_type": "stream",
     "text": [
      "bruteForceKnn is deprecated; call bfKnn instead\n"
     ]
    },
    {
     "name": "stdout",
     "output_type": "stream",
     "text": [
      "Jaccard distance computing time cost: 79.17477059364319\n",
      "Extracting Online Features for convnext ...\n",
      "Features extracted in 196.70 seconds\n",
      "Computing jaccard distance...\n"
     ]
    },
    {
     "name": "stderr",
     "output_type": "stream",
     "text": [
      "bruteForceKnn is deprecated; call bfKnn instead\n"
     ]
    },
    {
     "name": "stdout",
     "output_type": "stream",
     "text": [
      "Jaccard distance computing time cost: 78.56083059310913\n",
      "Extracting Online Features for mobilenet ...\n",
      "Features extracted in 192.75 seconds\n",
      "Computing jaccard distance...\n"
     ]
    },
    {
     "name": "stderr",
     "output_type": "stream",
     "text": [
      "bruteForceKnn is deprecated; call bfKnn instead\n"
     ]
    },
    {
     "name": "stdout",
     "output_type": "stream",
     "text": [
      "Jaccard distance computing time cost: 79.42563676834106\n",
      "Extracting Online Features for vgg16 ...\n",
      "Features extracted in 197.81 seconds\n",
      "Computing jaccard distance...\n"
     ]
    },
    {
     "name": "stderr",
     "output_type": "stream",
     "text": [
      "bruteForceKnn is deprecated; call bfKnn instead\n"
     ]
    },
    {
     "name": "stdout",
     "output_type": "stream",
     "text": [
      "Jaccard distance computing time cost: 91.35371994972229\n",
      "Extracting Online Features for resnet50 ...\n",
      "Features extracted in 196.70 seconds\n",
      "Computing jaccard distance...\n"
     ]
    },
    {
     "name": "stderr",
     "output_type": "stream",
     "text": [
      "bruteForceKnn is deprecated; call bfKnn instead\n"
     ]
    },
    {
     "name": "stdout",
     "output_type": "stream",
     "text": [
      "Jaccard distance computing time cost: 80.19057631492615\n",
      "Extracting Online Features for osnet ...\n",
      "Features extracted in 202.52 seconds\n",
      "Computing jaccard distance...\n"
     ]
    },
    {
     "name": "stderr",
     "output_type": "stream",
     "text": [
      "bruteForceKnn is deprecated; call bfKnn instead\n"
     ]
    },
    {
     "name": "stdout",
     "output_type": "stream",
     "text": [
      "Jaccard distance computing time cost: 77.70588612556458\n",
      "Extracting Online Features for densenet121 ...\n",
      "Features extracted in 195.61 seconds\n",
      "Computing jaccard distance...\n"
     ]
    },
    {
     "name": "stderr",
     "output_type": "stream",
     "text": [
      "bruteForceKnn is deprecated; call bfKnn instead\n"
     ]
    },
    {
     "name": "stdout",
     "output_type": "stream",
     "text": [
      "Jaccard distance computing time cost: 91.28394031524658\n",
      "Reliability: 0.998\n",
      "\u001b[32mMean Purity: 0.00164\u001b[0m\n",
      "\u001b[34mThere are 2 clusters with 4 cameras\u001b[0m\n",
      "\u001b[34mThere are 4 clusters with 5 cameras\u001b[0m\n",
      "\u001b[34mThere are 1 clusters with 8 cameras\u001b[0m\n",
      "\u001b[34mThere are 1 clusters with 10 cameras\u001b[0m\n",
      "\u001b[34mThere are 1 clusters with 13 cameras\u001b[0m\n",
      "\u001b[34mThere are 1 clusters with 16 cameras\u001b[0m\n",
      "\u001b[34mThere are 2 clusters with 18 cameras\u001b[0m\n",
      "\u001b[34mThere are 1 clusters with 26 cameras\u001b[0m\n",
      "\u001b[34mThere are 1 clusters with 27 cameras\u001b[0m\n",
      "\u001b[34mThere are 1 clusters with 30 cameras\u001b[0m\n",
      "\u001b[34mThere are 1 clusters with 34 cameras\u001b[0m\n",
      "\u001b[34mThere are 1 clusters with 37 cameras\u001b[0m\n",
      "\u001b[34mThere are 1 clusters with 38 cameras\u001b[0m\n",
      "\u001b[34mThere are 1 clusters with 44 cameras\u001b[0m\n",
      "\u001b[34mThere are 1 clusters with 47 cameras\u001b[0m\n",
      "\u001b[34mThere are 1 clusters with 48 cameras\u001b[0m\n",
      "\u001b[34mThere are 1 clusters with 52 cameras\u001b[0m\n",
      "\u001b[34mThere are 1 clusters with 54 cameras\u001b[0m\n",
      "\u001b[34mThere are 2 clusters with 58 cameras\u001b[0m\n",
      "\u001b[34mThere are 4 clusters with 59 cameras\u001b[0m\n",
      "\u001b[34mThere are 1 clusters with 60 cameras\u001b[0m\n",
      "\u001b[34mThere are 13 clusters with 61 cameras\u001b[0m\n",
      "\u001b[34mThere are 10 clusters with 62 cameras\u001b[0m\n",
      "\u001b[34mThere are 16 clusters with 63 cameras\u001b[0m\n",
      "\u001b[34mThere are 538 clusters with 64 cameras\u001b[0m\n",
      "\u001b[34mThere are 1 clusters with 108 cameras\u001b[0m\n",
      "\u001b[34mThere are 1 clusters with 127 cameras\u001b[0m\n",
      "\u001b[34mThere are 2 clusters with 128 cameras\u001b[0m\n",
      "Number of classes: 611\n",
      "\u001b[36mLearning Rate: 0.000350\u001b[0m\n",
      "encontrou modelos efficientnet. Carregando...\n",
      "encontrou modelos convnext. Carregando...\n",
      "encontrou modelos mobilenet. Carregando...\n",
      "encontrou modelos vgg16. Carregando...\n",
      "encontrou modelos resnet50. Carregando...\n",
      "encontrou modelos osnet. Carregando...\n",
      "encontrou modelos densenet121. Carregando...\n",
      "###============ Iteration number 47/90 ============###\n",
      "Extracting Online Features for efficientnet ...\n",
      "Features extracted in 200.33 seconds\n",
      "Computing jaccard distance...\n"
     ]
    },
    {
     "name": "stderr",
     "output_type": "stream",
     "text": [
      "bruteForceKnn is deprecated; call bfKnn instead\n"
     ]
    },
    {
     "name": "stdout",
     "output_type": "stream",
     "text": [
      "Jaccard distance computing time cost: 78.74551296234131\n",
      "Extracting Online Features for convnext ...\n",
      "Features extracted in 198.79 seconds\n",
      "Computing jaccard distance...\n"
     ]
    },
    {
     "name": "stderr",
     "output_type": "stream",
     "text": [
      "bruteForceKnn is deprecated; call bfKnn instead\n"
     ]
    },
    {
     "name": "stdout",
     "output_type": "stream",
     "text": [
      "Jaccard distance computing time cost: 78.8123471736908\n",
      "Extracting Online Features for mobilenet ...\n",
      "Features extracted in 196.37 seconds\n",
      "Computing jaccard distance...\n"
     ]
    },
    {
     "name": "stderr",
     "output_type": "stream",
     "text": [
      "bruteForceKnn is deprecated; call bfKnn instead\n"
     ]
    },
    {
     "name": "stdout",
     "output_type": "stream",
     "text": [
      "Jaccard distance computing time cost: 80.60389757156372\n",
      "Extracting Online Features for vgg16 ...\n",
      "Features extracted in 196.53 seconds\n",
      "Computing jaccard distance...\n"
     ]
    },
    {
     "name": "stderr",
     "output_type": "stream",
     "text": [
      "bruteForceKnn is deprecated; call bfKnn instead\n"
     ]
    },
    {
     "name": "stdout",
     "output_type": "stream",
     "text": [
      "Jaccard distance computing time cost: 79.67684173583984\n",
      "Extracting Online Features for resnet50 ...\n",
      "Features extracted in 203.95 seconds\n",
      "Computing jaccard distance...\n"
     ]
    },
    {
     "name": "stderr",
     "output_type": "stream",
     "text": [
      "bruteForceKnn is deprecated; call bfKnn instead\n"
     ]
    },
    {
     "name": "stdout",
     "output_type": "stream",
     "text": [
      "Jaccard distance computing time cost: 95.73669934272766\n",
      "Extracting Online Features for osnet ...\n",
      "Features extracted in 197.64 seconds\n",
      "Computing jaccard distance...\n"
     ]
    },
    {
     "name": "stderr",
     "output_type": "stream",
     "text": [
      "bruteForceKnn is deprecated; call bfKnn instead\n"
     ]
    },
    {
     "name": "stdout",
     "output_type": "stream",
     "text": [
      "Jaccard distance computing time cost: 76.85722374916077\n",
      "Extracting Online Features for densenet121 ...\n",
      "Features extracted in 199.89 seconds\n",
      "Computing jaccard distance...\n"
     ]
    },
    {
     "name": "stderr",
     "output_type": "stream",
     "text": [
      "bruteForceKnn is deprecated; call bfKnn instead\n"
     ]
    },
    {
     "name": "stdout",
     "output_type": "stream",
     "text": [
      "Jaccard distance computing time cost: 80.04477500915527\n",
      "Reliability: 0.998\n",
      "\u001b[32mMean Purity: 0.00164\u001b[0m\n",
      "\u001b[34mThere are 2 clusters with 4 cameras\u001b[0m\n",
      "\u001b[34mThere are 4 clusters with 5 cameras\u001b[0m\n",
      "\u001b[34mThere are 1 clusters with 8 cameras\u001b[0m\n",
      "\u001b[34mThere are 1 clusters with 10 cameras\u001b[0m\n",
      "\u001b[34mThere are 1 clusters with 13 cameras\u001b[0m\n",
      "\u001b[34mThere are 1 clusters with 16 cameras\u001b[0m\n",
      "\u001b[34mThere are 2 clusters with 18 cameras\u001b[0m\n",
      "\u001b[34mThere are 1 clusters with 26 cameras\u001b[0m\n",
      "\u001b[34mThere are 1 clusters with 27 cameras\u001b[0m\n",
      "\u001b[34mThere are 1 clusters with 30 cameras\u001b[0m\n",
      "\u001b[34mThere are 1 clusters with 34 cameras\u001b[0m\n",
      "\u001b[34mThere are 1 clusters with 37 cameras\u001b[0m\n",
      "\u001b[34mThere are 1 clusters with 38 cameras\u001b[0m\n",
      "\u001b[34mThere are 1 clusters with 44 cameras\u001b[0m\n",
      "\u001b[34mThere are 1 clusters with 47 cameras\u001b[0m\n",
      "\u001b[34mThere are 1 clusters with 48 cameras\u001b[0m\n",
      "\u001b[34mThere are 1 clusters with 52 cameras\u001b[0m\n",
      "\u001b[34mThere are 1 clusters with 54 cameras\u001b[0m\n",
      "\u001b[34mThere are 2 clusters with 58 cameras\u001b[0m\n",
      "\u001b[34mThere are 4 clusters with 59 cameras\u001b[0m\n",
      "\u001b[34mThere are 1 clusters with 60 cameras\u001b[0m\n",
      "\u001b[34mThere are 13 clusters with 61 cameras\u001b[0m\n",
      "\u001b[34mThere are 10 clusters with 62 cameras\u001b[0m\n",
      "\u001b[34mThere are 16 clusters with 63 cameras\u001b[0m\n",
      "\u001b[34mThere are 538 clusters with 64 cameras\u001b[0m\n",
      "\u001b[34mThere are 1 clusters with 108 cameras\u001b[0m\n",
      "\u001b[34mThere are 1 clusters with 127 cameras\u001b[0m\n",
      "\u001b[34mThere are 2 clusters with 128 cameras\u001b[0m\n",
      "Number of classes: 611\n",
      "\u001b[36mLearning Rate: 0.000350\u001b[0m\n",
      "encontrou modelos efficientnet. Carregando...\n",
      "encontrou modelos convnext. Carregando...\n",
      "encontrou modelos mobilenet. Carregando...\n",
      "encontrou modelos vgg16. Carregando...\n",
      "encontrou modelos resnet50. Carregando...\n",
      "encontrou modelos osnet. Carregando...\n",
      "encontrou modelos densenet121. Carregando...\n",
      "###============ Iteration number 48/90 ============###\n",
      "Extracting Online Features for efficientnet ...\n",
      "Features extracted in 196.02 seconds\n",
      "Computing jaccard distance...\n"
     ]
    },
    {
     "name": "stderr",
     "output_type": "stream",
     "text": [
      "bruteForceKnn is deprecated; call bfKnn instead\n"
     ]
    },
    {
     "name": "stdout",
     "output_type": "stream",
     "text": [
      "Jaccard distance computing time cost: 79.54531478881836\n",
      "Extracting Online Features for convnext ...\n",
      "Features extracted in 208.80 seconds\n",
      "Computing jaccard distance...\n"
     ]
    },
    {
     "name": "stderr",
     "output_type": "stream",
     "text": [
      "bruteForceKnn is deprecated; call bfKnn instead\n"
     ]
    },
    {
     "name": "stdout",
     "output_type": "stream",
     "text": [
      "Jaccard distance computing time cost: 79.63561344146729\n",
      "Extracting Online Features for mobilenet ...\n",
      "Features extracted in 197.83 seconds\n",
      "Computing jaccard distance...\n"
     ]
    },
    {
     "name": "stderr",
     "output_type": "stream",
     "text": [
      "bruteForceKnn is deprecated; call bfKnn instead\n"
     ]
    },
    {
     "name": "stdout",
     "output_type": "stream",
     "text": [
      "Jaccard distance computing time cost: 82.68675255775452\n",
      "Extracting Online Features for vgg16 ...\n",
      "Features extracted in 210.09 seconds\n",
      "Computing jaccard distance...\n"
     ]
    },
    {
     "name": "stderr",
     "output_type": "stream",
     "text": [
      "bruteForceKnn is deprecated; call bfKnn instead\n"
     ]
    },
    {
     "name": "stdout",
     "output_type": "stream",
     "text": [
      "Jaccard distance computing time cost: 78.72358083724976\n",
      "Extracting Online Features for resnet50 ...\n",
      "Features extracted in 198.44 seconds\n",
      "Computing jaccard distance...\n"
     ]
    },
    {
     "name": "stderr",
     "output_type": "stream",
     "text": [
      "bruteForceKnn is deprecated; call bfKnn instead\n"
     ]
    },
    {
     "name": "stdout",
     "output_type": "stream",
     "text": [
      "Jaccard distance computing time cost: 81.53063941001892\n",
      "Extracting Online Features for osnet ...\n",
      "Features extracted in 205.22 seconds\n",
      "Computing jaccard distance...\n"
     ]
    },
    {
     "name": "stderr",
     "output_type": "stream",
     "text": [
      "bruteForceKnn is deprecated; call bfKnn instead\n"
     ]
    },
    {
     "name": "stdout",
     "output_type": "stream",
     "text": [
      "Jaccard distance computing time cost: 77.86983323097229\n",
      "Extracting Online Features for densenet121 ...\n",
      "Features extracted in 194.67 seconds\n",
      "Computing jaccard distance...\n"
     ]
    },
    {
     "name": "stderr",
     "output_type": "stream",
     "text": [
      "bruteForceKnn is deprecated; call bfKnn instead\n"
     ]
    },
    {
     "name": "stdout",
     "output_type": "stream",
     "text": [
      "Jaccard distance computing time cost: 86.42356896400452\n",
      "Reliability: 0.998\n",
      "\u001b[32mMean Purity: 0.00164\u001b[0m\n",
      "\u001b[34mThere are 2 clusters with 4 cameras\u001b[0m\n",
      "\u001b[34mThere are 4 clusters with 5 cameras\u001b[0m\n",
      "\u001b[34mThere are 1 clusters with 8 cameras\u001b[0m\n",
      "\u001b[34mThere are 1 clusters with 10 cameras\u001b[0m\n",
      "\u001b[34mThere are 1 clusters with 13 cameras\u001b[0m\n",
      "\u001b[34mThere are 1 clusters with 16 cameras\u001b[0m\n",
      "\u001b[34mThere are 2 clusters with 18 cameras\u001b[0m\n",
      "\u001b[34mThere are 1 clusters with 26 cameras\u001b[0m\n",
      "\u001b[34mThere are 1 clusters with 27 cameras\u001b[0m\n",
      "\u001b[34mThere are 1 clusters with 30 cameras\u001b[0m\n",
      "\u001b[34mThere are 1 clusters with 34 cameras\u001b[0m\n",
      "\u001b[34mThere are 1 clusters with 37 cameras\u001b[0m\n",
      "\u001b[34mThere are 1 clusters with 38 cameras\u001b[0m\n",
      "\u001b[34mThere are 1 clusters with 44 cameras\u001b[0m\n",
      "\u001b[34mThere are 1 clusters with 47 cameras\u001b[0m\n",
      "\u001b[34mThere are 1 clusters with 48 cameras\u001b[0m\n",
      "\u001b[34mThere are 1 clusters with 52 cameras\u001b[0m\n",
      "\u001b[34mThere are 1 clusters with 54 cameras\u001b[0m\n",
      "\u001b[34mThere are 2 clusters with 58 cameras\u001b[0m\n",
      "\u001b[34mThere are 4 clusters with 59 cameras\u001b[0m\n",
      "\u001b[34mThere are 1 clusters with 60 cameras\u001b[0m\n",
      "\u001b[34mThere are 13 clusters with 61 cameras\u001b[0m\n",
      "\u001b[34mThere are 10 clusters with 62 cameras\u001b[0m\n",
      "\u001b[34mThere are 16 clusters with 63 cameras\u001b[0m\n",
      "\u001b[34mThere are 538 clusters with 64 cameras\u001b[0m\n",
      "\u001b[34mThere are 1 clusters with 108 cameras\u001b[0m\n",
      "\u001b[34mThere are 1 clusters with 127 cameras\u001b[0m\n",
      "\u001b[34mThere are 2 clusters with 128 cameras\u001b[0m\n",
      "Number of classes: 611\n",
      "\u001b[36mLearning Rate: 0.000350\u001b[0m\n",
      "encontrou modelos efficientnet. Carregando...\n",
      "encontrou modelos convnext. Carregando...\n",
      "encontrou modelos mobilenet. Carregando...\n",
      "encontrou modelos vgg16. Carregando...\n",
      "encontrou modelos resnet50. Carregando...\n",
      "encontrou modelos osnet. Carregando...\n",
      "encontrou modelos densenet121. Carregando...\n",
      "###============ Iteration number 49/90 ============###\n",
      "Extracting Online Features for efficientnet ...\n",
      "Features extracted in 202.19 seconds\n",
      "Computing jaccard distance...\n"
     ]
    },
    {
     "name": "stderr",
     "output_type": "stream",
     "text": [
      "bruteForceKnn is deprecated; call bfKnn instead\n"
     ]
    },
    {
     "name": "stdout",
     "output_type": "stream",
     "text": [
      "Jaccard distance computing time cost: 79.52059555053711\n",
      "Extracting Online Features for convnext ...\n",
      "Features extracted in 202.12 seconds\n",
      "Computing jaccard distance...\n"
     ]
    },
    {
     "name": "stderr",
     "output_type": "stream",
     "text": [
      "bruteForceKnn is deprecated; call bfKnn instead\n"
     ]
    },
    {
     "name": "stdout",
     "output_type": "stream",
     "text": [
      "Jaccard distance computing time cost: 79.7055823802948\n",
      "Extracting Online Features for mobilenet ...\n",
      "Features extracted in 198.92 seconds\n",
      "Computing jaccard distance...\n"
     ]
    },
    {
     "name": "stderr",
     "output_type": "stream",
     "text": [
      "bruteForceKnn is deprecated; call bfKnn instead\n"
     ]
    },
    {
     "name": "stdout",
     "output_type": "stream",
     "text": [
      "Jaccard distance computing time cost: 79.11406874656677\n",
      "Extracting Online Features for vgg16 ...\n",
      "Features extracted in 204.44 seconds\n",
      "Computing jaccard distance...\n"
     ]
    },
    {
     "name": "stderr",
     "output_type": "stream",
     "text": [
      "bruteForceKnn is deprecated; call bfKnn instead\n"
     ]
    },
    {
     "name": "stdout",
     "output_type": "stream",
     "text": [
      "Jaccard distance computing time cost: 80.18900871276855\n",
      "Extracting Online Features for resnet50 ...\n",
      "Features extracted in 197.93 seconds\n",
      "Computing jaccard distance...\n"
     ]
    },
    {
     "name": "stderr",
     "output_type": "stream",
     "text": [
      "bruteForceKnn is deprecated; call bfKnn instead\n"
     ]
    },
    {
     "name": "stdout",
     "output_type": "stream",
     "text": [
      "Jaccard distance computing time cost: 90.10184931755066\n",
      "Extracting Online Features for osnet ...\n",
      "Features extracted in 200.87 seconds\n",
      "Computing jaccard distance...\n"
     ]
    },
    {
     "name": "stderr",
     "output_type": "stream",
     "text": [
      "bruteForceKnn is deprecated; call bfKnn instead\n"
     ]
    },
    {
     "name": "stdout",
     "output_type": "stream",
     "text": [
      "Jaccard distance computing time cost: 77.11614298820496\n",
      "Extracting Online Features for densenet121 ...\n",
      "Features extracted in 198.02 seconds\n",
      "Computing jaccard distance...\n"
     ]
    },
    {
     "name": "stderr",
     "output_type": "stream",
     "text": [
      "bruteForceKnn is deprecated; call bfKnn instead\n"
     ]
    },
    {
     "name": "stdout",
     "output_type": "stream",
     "text": [
      "Jaccard distance computing time cost: 82.81929588317871\n",
      "Reliability: 0.998\n",
      "\u001b[32mMean Purity: 0.00164\u001b[0m\n",
      "\u001b[34mThere are 2 clusters with 4 cameras\u001b[0m\n",
      "\u001b[34mThere are 4 clusters with 5 cameras\u001b[0m\n",
      "\u001b[34mThere are 1 clusters with 8 cameras\u001b[0m\n",
      "\u001b[34mThere are 1 clusters with 10 cameras\u001b[0m\n",
      "\u001b[34mThere are 1 clusters with 13 cameras\u001b[0m\n",
      "\u001b[34mThere are 1 clusters with 16 cameras\u001b[0m\n",
      "\u001b[34mThere are 2 clusters with 18 cameras\u001b[0m\n",
      "\u001b[34mThere are 1 clusters with 26 cameras\u001b[0m\n",
      "\u001b[34mThere are 1 clusters with 27 cameras\u001b[0m\n",
      "\u001b[34mThere are 1 clusters with 30 cameras\u001b[0m\n",
      "\u001b[34mThere are 1 clusters with 34 cameras\u001b[0m\n",
      "\u001b[34mThere are 1 clusters with 37 cameras\u001b[0m\n",
      "\u001b[34mThere are 1 clusters with 38 cameras\u001b[0m\n",
      "\u001b[34mThere are 1 clusters with 44 cameras\u001b[0m\n",
      "\u001b[34mThere are 1 clusters with 47 cameras\u001b[0m\n",
      "\u001b[34mThere are 1 clusters with 48 cameras\u001b[0m\n",
      "\u001b[34mThere are 1 clusters with 52 cameras\u001b[0m\n",
      "\u001b[34mThere are 1 clusters with 54 cameras\u001b[0m\n",
      "\u001b[34mThere are 2 clusters with 58 cameras\u001b[0m\n",
      "\u001b[34mThere are 4 clusters with 59 cameras\u001b[0m\n",
      "\u001b[34mThere are 1 clusters with 60 cameras\u001b[0m\n",
      "\u001b[34mThere are 13 clusters with 61 cameras\u001b[0m\n",
      "\u001b[34mThere are 10 clusters with 62 cameras\u001b[0m\n",
      "\u001b[34mThere are 16 clusters with 63 cameras\u001b[0m\n",
      "\u001b[34mThere are 538 clusters with 64 cameras\u001b[0m\n",
      "\u001b[34mThere are 1 clusters with 108 cameras\u001b[0m\n",
      "\u001b[34mThere are 1 clusters with 127 cameras\u001b[0m\n",
      "\u001b[34mThere are 2 clusters with 128 cameras\u001b[0m\n",
      "Number of classes: 611\n",
      "\u001b[36mLearning Rate: 0.000350\u001b[0m\n",
      "encontrou modelos efficientnet. Carregando...\n",
      "encontrou modelos convnext. Carregando...\n",
      "encontrou modelos mobilenet. Carregando...\n",
      "encontrou modelos vgg16. Carregando...\n",
      "encontrou modelos resnet50. Carregando...\n",
      "encontrou modelos osnet. Carregando...\n",
      "encontrou modelos densenet121. Carregando...\n",
      "###============ Iteration number 50/90 ============###\n",
      "Extracting Online Features for efficientnet ...\n",
      "Features extracted in 201.31 seconds\n",
      "Computing jaccard distance...\n"
     ]
    },
    {
     "name": "stderr",
     "output_type": "stream",
     "text": [
      "bruteForceKnn is deprecated; call bfKnn instead\n"
     ]
    },
    {
     "name": "stdout",
     "output_type": "stream",
     "text": [
      "Jaccard distance computing time cost: 79.56822776794434\n",
      "Extracting Online Features for convnext ...\n",
      "Features extracted in 207.07 seconds\n",
      "Computing jaccard distance...\n"
     ]
    },
    {
     "name": "stderr",
     "output_type": "stream",
     "text": [
      "bruteForceKnn is deprecated; call bfKnn instead\n"
     ]
    },
    {
     "name": "stdout",
     "output_type": "stream",
     "text": [
      "Jaccard distance computing time cost: 79.61514234542847\n",
      "Extracting Online Features for mobilenet ...\n",
      "Features extracted in 208.43 seconds\n",
      "Computing jaccard distance...\n"
     ]
    },
    {
     "name": "stderr",
     "output_type": "stream",
     "text": [
      "bruteForceKnn is deprecated; call bfKnn instead\n"
     ]
    },
    {
     "name": "stdout",
     "output_type": "stream",
     "text": [
      "Jaccard distance computing time cost: 85.92151355743408\n",
      "Extracting Online Features for vgg16 ...\n",
      "Features extracted in 200.83 seconds\n",
      "Computing jaccard distance...\n"
     ]
    },
    {
     "name": "stderr",
     "output_type": "stream",
     "text": [
      "bruteForceKnn is deprecated; call bfKnn instead\n"
     ]
    },
    {
     "name": "stdout",
     "output_type": "stream",
     "text": [
      "Jaccard distance computing time cost: 84.98298978805542\n",
      "Extracting Online Features for resnet50 ...\n",
      "Features extracted in 198.41 seconds\n",
      "Computing jaccard distance...\n"
     ]
    },
    {
     "name": "stderr",
     "output_type": "stream",
     "text": [
      "bruteForceKnn is deprecated; call bfKnn instead\n"
     ]
    },
    {
     "name": "stdout",
     "output_type": "stream",
     "text": [
      "Jaccard distance computing time cost: 80.30519104003906\n",
      "Extracting Online Features for osnet ...\n",
      "Features extracted in 200.00 seconds\n",
      "Computing jaccard distance...\n"
     ]
    },
    {
     "name": "stderr",
     "output_type": "stream",
     "text": [
      "bruteForceKnn is deprecated; call bfKnn instead\n"
     ]
    },
    {
     "name": "stdout",
     "output_type": "stream",
     "text": [
      "Jaccard distance computing time cost: 100.57446885108948\n",
      "Extracting Online Features for densenet121 ...\n",
      "Features extracted in 199.83 seconds\n",
      "Computing jaccard distance...\n"
     ]
    },
    {
     "name": "stderr",
     "output_type": "stream",
     "text": [
      "bruteForceKnn is deprecated; call bfKnn instead\n"
     ]
    },
    {
     "name": "stdout",
     "output_type": "stream",
     "text": [
      "Jaccard distance computing time cost: 81.64179158210754\n",
      "Reliability: 0.998\n",
      "\u001b[32mMean Purity: 0.00164\u001b[0m\n",
      "\u001b[34mThere are 2 clusters with 4 cameras\u001b[0m\n",
      "\u001b[34mThere are 4 clusters with 5 cameras\u001b[0m\n",
      "\u001b[34mThere are 1 clusters with 8 cameras\u001b[0m\n",
      "\u001b[34mThere are 1 clusters with 10 cameras\u001b[0m\n",
      "\u001b[34mThere are 1 clusters with 13 cameras\u001b[0m\n",
      "\u001b[34mThere are 1 clusters with 16 cameras\u001b[0m\n",
      "\u001b[34mThere are 2 clusters with 18 cameras\u001b[0m\n",
      "\u001b[34mThere are 1 clusters with 26 cameras\u001b[0m\n",
      "\u001b[34mThere are 1 clusters with 27 cameras\u001b[0m\n",
      "\u001b[34mThere are 1 clusters with 30 cameras\u001b[0m\n",
      "\u001b[34mThere are 1 clusters with 34 cameras\u001b[0m\n",
      "\u001b[34mThere are 1 clusters with 37 cameras\u001b[0m\n",
      "\u001b[34mThere are 1 clusters with 38 cameras\u001b[0m\n",
      "\u001b[34mThere are 1 clusters with 44 cameras\u001b[0m\n",
      "\u001b[34mThere are 1 clusters with 47 cameras\u001b[0m\n",
      "\u001b[34mThere are 1 clusters with 48 cameras\u001b[0m\n",
      "\u001b[34mThere are 1 clusters with 52 cameras\u001b[0m\n",
      "\u001b[34mThere are 1 clusters with 54 cameras\u001b[0m\n",
      "\u001b[34mThere are 2 clusters with 58 cameras\u001b[0m\n",
      "\u001b[34mThere are 4 clusters with 59 cameras\u001b[0m\n",
      "\u001b[34mThere are 1 clusters with 60 cameras\u001b[0m\n",
      "\u001b[34mThere are 13 clusters with 61 cameras\u001b[0m\n",
      "\u001b[34mThere are 10 clusters with 62 cameras\u001b[0m\n",
      "\u001b[34mThere are 16 clusters with 63 cameras\u001b[0m\n",
      "\u001b[34mThere are 538 clusters with 64 cameras\u001b[0m\n",
      "\u001b[34mThere are 1 clusters with 108 cameras\u001b[0m\n",
      "\u001b[34mThere are 1 clusters with 127 cameras\u001b[0m\n",
      "\u001b[34mThere are 2 clusters with 128 cameras\u001b[0m\n",
      "Number of classes: 611\n",
      "\u001b[36mLearning Rate: 0.000350\u001b[0m\n",
      "encontrou modelos efficientnet. Carregando...\n",
      "encontrou modelos convnext. Carregando...\n",
      "encontrou modelos mobilenet. Carregando...\n",
      "encontrou modelos vgg16. Carregando...\n",
      "encontrou modelos resnet50. Carregando...\n",
      "encontrou modelos osnet. Carregando...\n",
      "encontrou modelos densenet121. Carregando...\n",
      "\u001b[33mValidating online efficientnet ...\u001b[0m\n",
      "Features extracted in 61.98 seconds\n",
      "Features extracted in 117.64 seconds\n",
      "Computing CMC and mAP ...\n",
      "** Results **\n",
      "mAP: 72.74%\n",
      "CMC curve\n",
      "Rank-1  : 86.50%\n",
      "Rank-5  : 96.56%\n",
      "Rank-10 : 98.57%\n",
      "Rank-20 : 99.42%\n",
      "\u001b[33mValidating momentum efficientnet ...\u001b[0m\n",
      "Features extracted in 61.90 seconds\n",
      "Features extracted in 116.08 seconds\n",
      "Computing CMC and mAP ...\n",
      "** Results **\n",
      "mAP: 71.24%\n",
      "CMC curve\n",
      "Rank-1  : 78.00%\n",
      "Rank-5  : 94.78%\n",
      "Rank-10 : 98.01%\n",
      "Rank-20 : 99.39%\n",
      "\u001b[33mValidating online convnext ...\u001b[0m\n",
      "Features extracted in 62.50 seconds\n",
      "Features extracted in 116.99 seconds\n",
      "Computing CMC and mAP ...\n",
      "** Results **\n",
      "mAP: 75.86%\n",
      "CMC curve\n",
      "Rank-1  : 90.47%\n",
      "Rank-5  : 95.47%\n",
      "Rank-10 : 97.23%\n",
      "Rank-20 : 99.00%\n",
      "\u001b[33mValidating momentum convnext ...\u001b[0m\n",
      "Features extracted in 65.65 seconds\n",
      "Features extracted in 124.69 seconds\n",
      "Computing CMC and mAP ...\n",
      "** Results **\n",
      "mAP: 70.89%\n",
      "CMC curve\n",
      "Rank-1  : 81.10%\n",
      "Rank-5  : 94.32%\n",
      "Rank-10 : 97.06%\n",
      "Rank-20 : 98.73%\n",
      "\u001b[33mValidating online mobilenet ...\u001b[0m\n",
      "Features extracted in 59.23 seconds\n",
      "Features extracted in 115.12 seconds\n",
      "Computing CMC and mAP ...\n",
      "** Results **\n",
      "mAP: 71.69%\n",
      "CMC curve\n",
      "Rank-1  : 87.20%\n",
      "Rank-5  : 96.74%\n",
      "Rank-10 : 98.85%\n",
      "Rank-20 : 99.71%\n",
      "\u001b[33mValidating momentum mobilenet ...\u001b[0m\n",
      "Features extracted in 60.32 seconds\n",
      "Features extracted in 111.81 seconds\n",
      "Computing CMC and mAP ...\n",
      "** Results **\n",
      "mAP: 71.41%\n",
      "CMC curve\n",
      "Rank-1  : 83.91%\n",
      "Rank-5  : 95.41%\n",
      "Rank-10 : 98.08%\n",
      "Rank-20 : 99.14%\n",
      "\u001b[33mValidating online vgg16 ...\u001b[0m\n",
      "Features extracted in 60.98 seconds\n",
      "Features extracted in 113.96 seconds\n",
      "Computing CMC and mAP ...\n",
      "** Results **\n",
      "mAP: 72.14%\n",
      "CMC curve\n",
      "Rank-1  : 87.41%\n",
      "Rank-5  : 96.72%\n",
      "Rank-10 : 98.80%\n",
      "Rank-20 : 99.68%\n",
      "\u001b[33mValidating momentum vgg16 ...\u001b[0m\n",
      "Features extracted in 62.11 seconds\n",
      "Features extracted in 114.67 seconds\n",
      "Computing CMC and mAP ...\n",
      "** Results **\n",
      "mAP: 71.15%\n",
      "CMC curve\n",
      "Rank-1  : 79.56%\n",
      "Rank-5  : 95.82%\n",
      "Rank-10 : 98.64%\n",
      "Rank-20 : 99.55%\n",
      "\u001b[33mValidating online resnet50 ...\u001b[0m\n",
      "Features extracted in 63.44 seconds\n",
      "Features extracted in 111.30 seconds\n",
      "Computing CMC and mAP ...\n",
      "** Results **\n",
      "mAP: 72.93%\n",
      "CMC curve\n",
      "Rank-1  : 89.22%\n",
      "Rank-5  : 97.35%\n",
      "Rank-10 : 99.02%\n",
      "Rank-20 : 99.75%\n",
      "\u001b[33mValidating momentum resnet50 ...\u001b[0m\n",
      "Features extracted in 64.34 seconds\n",
      "Features extracted in 119.44 seconds\n",
      "Computing CMC and mAP ...\n",
      "** Results **\n",
      "mAP: 74.37%\n",
      "CMC curve\n",
      "Rank-1  : 90.07%\n",
      "Rank-5  : 97.95%\n",
      "Rank-10 : 99.19%\n",
      "Rank-20 : 99.74%\n",
      "\u001b[33mValidating online osnet ...\u001b[0m\n",
      "Features extracted in 62.98 seconds\n",
      "Features extracted in 118.18 seconds\n",
      "Computing CMC and mAP ...\n",
      "** Results **\n",
      "mAP: 71.05%\n",
      "CMC curve\n",
      "Rank-1  : 81.59%\n",
      "Rank-5  : 95.73%\n",
      "Rank-10 : 98.23%\n",
      "Rank-20 : 99.54%\n",
      "\u001b[33mValidating momentum osnet ...\u001b[0m\n",
      "Features extracted in 64.44 seconds\n",
      "Features extracted in 118.55 seconds\n",
      "Computing CMC and mAP ...\n",
      "** Results **\n",
      "mAP: 73.09%\n",
      "CMC curve\n",
      "Rank-1  : 81.93%\n",
      "Rank-5  : 95.43%\n",
      "Rank-10 : 98.30%\n",
      "Rank-20 : 99.46%\n",
      "\u001b[33mValidating online densenet121 ...\u001b[0m\n",
      "Features extracted in 65.81 seconds\n",
      "Features extracted in 116.94 seconds\n",
      "Computing CMC and mAP ...\n",
      "** Results **\n",
      "mAP: 74.36%\n",
      "CMC curve\n",
      "Rank-1  : 92.33%\n",
      "Rank-5  : 98.60%\n",
      "Rank-10 : 99.56%\n",
      "Rank-20 : 99.86%\n",
      "\u001b[33mValidating momentum densenet121 ...\u001b[0m\n",
      "Features extracted in 65.43 seconds\n",
      "Features extracted in 115.93 seconds\n",
      "Computing CMC and mAP ...\n",
      "** Results **\n",
      "mAP: 74.16%\n",
      "CMC curve\n",
      "Rank-1  : 86.99%\n",
      "Rank-5  : 96.54%\n",
      "Rank-10 : 98.30%\n",
      "Rank-20 : 99.46%\n",
      "\u001b[33mValidating ensembled with online models ...\u001b[0m\n",
      "Computing CMC and mAP ...\n",
      "** Results **\n",
      "mAP: 75.80%\n",
      "Ranks:\n",
      "Rank-1  : 96.73%\n",
      "Rank-5  : 98.98%\n",
      "Rank-10 : 99.48%\n",
      "\u001b[33mValidating ensembled with momentum models ...\u001b[0m\n",
      "Computing CMC and mAP ...\n",
      "** Results **\n",
      "mAP: 74.25%\n",
      "Ranks:\n",
      "Rank-1  : 87.54%\n",
      "Rank-5  : 96.96%\n",
      "Rank-10 : 98.89%\n",
      "###============ Iteration number 51/90 ============###\n",
      "Extracting Online Features for efficientnet ...\n",
      "Features extracted in 249.68 seconds\n",
      "Computing jaccard distance...\n"
     ]
    },
    {
     "name": "stderr",
     "output_type": "stream",
     "text": [
      "bruteForceKnn is deprecated; call bfKnn instead\n"
     ]
    },
    {
     "name": "stdout",
     "output_type": "stream",
     "text": [
      "Jaccard distance computing time cost: 85.47166275978088\n",
      "Extracting Online Features for convnext ...\n",
      "Features extracted in 199.79 seconds\n",
      "Computing jaccard distance...\n"
     ]
    },
    {
     "name": "stderr",
     "output_type": "stream",
     "text": [
      "bruteForceKnn is deprecated; call bfKnn instead\n"
     ]
    },
    {
     "name": "stdout",
     "output_type": "stream",
     "text": [
      "Jaccard distance computing time cost: 79.48892664909363\n",
      "Extracting Online Features for mobilenet ...\n",
      "Features extracted in 204.76 seconds\n",
      "Computing jaccard distance...\n"
     ]
    },
    {
     "name": "stderr",
     "output_type": "stream",
     "text": [
      "bruteForceKnn is deprecated; call bfKnn instead\n"
     ]
    },
    {
     "name": "stdout",
     "output_type": "stream",
     "text": [
      "Jaccard distance computing time cost: 92.67584991455078\n",
      "Extracting Online Features for vgg16 ...\n",
      "Features extracted in 203.66 seconds\n",
      "Computing jaccard distance...\n"
     ]
    },
    {
     "name": "stderr",
     "output_type": "stream",
     "text": [
      "bruteForceKnn is deprecated; call bfKnn instead\n"
     ]
    },
    {
     "name": "stdout",
     "output_type": "stream",
     "text": [
      "Jaccard distance computing time cost: 79.3292465209961\n",
      "Extracting Online Features for resnet50 ...\n",
      "Features extracted in 199.08 seconds\n",
      "Computing jaccard distance...\n"
     ]
    },
    {
     "name": "stderr",
     "output_type": "stream",
     "text": [
      "bruteForceKnn is deprecated; call bfKnn instead\n"
     ]
    },
    {
     "name": "stdout",
     "output_type": "stream",
     "text": [
      "Jaccard distance computing time cost: 89.1450445652008\n",
      "Extracting Online Features for osnet ...\n",
      "Features extracted in 195.76 seconds\n",
      "Computing jaccard distance...\n"
     ]
    },
    {
     "name": "stderr",
     "output_type": "stream",
     "text": [
      "bruteForceKnn is deprecated; call bfKnn instead\n"
     ]
    },
    {
     "name": "stdout",
     "output_type": "stream",
     "text": [
      "Jaccard distance computing time cost: 87.17394399642944\n",
      "Extracting Online Features for densenet121 ...\n",
      "Features extracted in 198.74 seconds\n",
      "Computing jaccard distance...\n"
     ]
    },
    {
     "name": "stderr",
     "output_type": "stream",
     "text": [
      "bruteForceKnn is deprecated; call bfKnn instead\n"
     ]
    },
    {
     "name": "stdout",
     "output_type": "stream",
     "text": [
      "Jaccard distance computing time cost: 80.55369520187378\n",
      "Reliability: 0.998\n",
      "\u001b[32mMean Purity: 0.00164\u001b[0m\n",
      "\u001b[34mThere are 2 clusters with 4 cameras\u001b[0m\n",
      "\u001b[34mThere are 4 clusters with 5 cameras\u001b[0m\n",
      "\u001b[34mThere are 1 clusters with 8 cameras\u001b[0m\n",
      "\u001b[34mThere are 1 clusters with 10 cameras\u001b[0m\n",
      "\u001b[34mThere are 1 clusters with 13 cameras\u001b[0m\n",
      "\u001b[34mThere are 1 clusters with 16 cameras\u001b[0m\n",
      "\u001b[34mThere are 2 clusters with 18 cameras\u001b[0m\n",
      "\u001b[34mThere are 1 clusters with 26 cameras\u001b[0m\n",
      "\u001b[34mThere are 1 clusters with 27 cameras\u001b[0m\n",
      "\u001b[34mThere are 1 clusters with 30 cameras\u001b[0m\n",
      "\u001b[34mThere are 1 clusters with 34 cameras\u001b[0m\n",
      "\u001b[34mThere are 1 clusters with 37 cameras\u001b[0m\n",
      "\u001b[34mThere are 1 clusters with 38 cameras\u001b[0m\n",
      "\u001b[34mThere are 1 clusters with 44 cameras\u001b[0m\n",
      "\u001b[34mThere are 1 clusters with 47 cameras\u001b[0m\n",
      "\u001b[34mThere are 1 clusters with 48 cameras\u001b[0m\n",
      "\u001b[34mThere are 1 clusters with 52 cameras\u001b[0m\n",
      "\u001b[34mThere are 1 clusters with 54 cameras\u001b[0m\n",
      "\u001b[34mThere are 2 clusters with 58 cameras\u001b[0m\n",
      "\u001b[34mThere are 4 clusters with 59 cameras\u001b[0m\n",
      "\u001b[34mThere are 1 clusters with 60 cameras\u001b[0m\n",
      "\u001b[34mThere are 13 clusters with 61 cameras\u001b[0m\n",
      "\u001b[34mThere are 10 clusters with 62 cameras\u001b[0m\n",
      "\u001b[34mThere are 16 clusters with 63 cameras\u001b[0m\n",
      "\u001b[34mThere are 538 clusters with 64 cameras\u001b[0m\n",
      "\u001b[34mThere are 1 clusters with 108 cameras\u001b[0m\n",
      "\u001b[34mThere are 1 clusters with 127 cameras\u001b[0m\n",
      "\u001b[34mThere are 2 clusters with 128 cameras\u001b[0m\n",
      "Number of classes: 611\n",
      "\u001b[36mLearning Rate: 0.000350\u001b[0m\n",
      "encontrou modelos efficientnet. Carregando...\n",
      "encontrou modelos convnext. Carregando...\n",
      "encontrou modelos mobilenet. Carregando...\n",
      "encontrou modelos vgg16. Carregando...\n",
      "encontrou modelos resnet50. Carregando...\n",
      "encontrou modelos osnet. Carregando...\n",
      "encontrou modelos densenet121. Carregando...\n",
      "###============ Iteration number 52/90 ============###\n",
      "Extracting Online Features for efficientnet ...\n",
      "Features extracted in 210.16 seconds\n",
      "Computing jaccard distance...\n"
     ]
    },
    {
     "name": "stderr",
     "output_type": "stream",
     "text": [
      "bruteForceKnn is deprecated; call bfKnn instead\n"
     ]
    },
    {
     "name": "stdout",
     "output_type": "stream",
     "text": [
      "Jaccard distance computing time cost: 85.7927942276001\n",
      "Extracting Online Features for convnext ...\n",
      "Features extracted in 204.93 seconds\n",
      "Computing jaccard distance...\n"
     ]
    },
    {
     "name": "stderr",
     "output_type": "stream",
     "text": [
      "bruteForceKnn is deprecated; call bfKnn instead\n"
     ]
    },
    {
     "name": "stdout",
     "output_type": "stream",
     "text": [
      "Jaccard distance computing time cost: 85.76777768135071\n",
      "Extracting Online Features for mobilenet ...\n",
      "Features extracted in 199.23 seconds\n",
      "Computing jaccard distance...\n"
     ]
    },
    {
     "name": "stderr",
     "output_type": "stream",
     "text": [
      "bruteForceKnn is deprecated; call bfKnn instead\n"
     ]
    },
    {
     "name": "stdout",
     "output_type": "stream",
     "text": [
      "Jaccard distance computing time cost: 80.4113097190857\n",
      "Extracting Online Features for vgg16 ...\n",
      "Features extracted in 198.84 seconds\n",
      "Computing jaccard distance...\n"
     ]
    },
    {
     "name": "stderr",
     "output_type": "stream",
     "text": [
      "bruteForceKnn is deprecated; call bfKnn instead\n"
     ]
    },
    {
     "name": "stdout",
     "output_type": "stream",
     "text": [
      "Jaccard distance computing time cost: 84.12047362327576\n",
      "Extracting Online Features for resnet50 ...\n",
      "Features extracted in 206.54 seconds\n",
      "Computing jaccard distance...\n"
     ]
    },
    {
     "name": "stderr",
     "output_type": "stream",
     "text": [
      "bruteForceKnn is deprecated; call bfKnn instead\n"
     ]
    },
    {
     "name": "stdout",
     "output_type": "stream",
     "text": [
      "Jaccard distance computing time cost: 86.24833559989929\n",
      "Extracting Online Features for osnet ...\n",
      "Features extracted in 196.97 seconds\n",
      "Computing jaccard distance...\n"
     ]
    },
    {
     "name": "stderr",
     "output_type": "stream",
     "text": [
      "bruteForceKnn is deprecated; call bfKnn instead\n"
     ]
    },
    {
     "name": "stdout",
     "output_type": "stream",
     "text": [
      "Jaccard distance computing time cost: 90.66401076316833\n",
      "Extracting Online Features for densenet121 ...\n",
      "Features extracted in 197.28 seconds\n",
      "Computing jaccard distance...\n"
     ]
    },
    {
     "name": "stderr",
     "output_type": "stream",
     "text": [
      "bruteForceKnn is deprecated; call bfKnn instead\n"
     ]
    },
    {
     "name": "stdout",
     "output_type": "stream",
     "text": [
      "Jaccard distance computing time cost: 90.4772436618805\n",
      "Reliability: 0.998\n",
      "\u001b[32mMean Purity: 0.00164\u001b[0m\n",
      "\u001b[34mThere are 2 clusters with 4 cameras\u001b[0m\n",
      "\u001b[34mThere are 4 clusters with 5 cameras\u001b[0m\n",
      "\u001b[34mThere are 1 clusters with 8 cameras\u001b[0m\n",
      "\u001b[34mThere are 1 clusters with 10 cameras\u001b[0m\n",
      "\u001b[34mThere are 1 clusters with 13 cameras\u001b[0m\n",
      "\u001b[34mThere are 1 clusters with 16 cameras\u001b[0m\n",
      "\u001b[34mThere are 2 clusters with 18 cameras\u001b[0m\n",
      "\u001b[34mThere are 1 clusters with 26 cameras\u001b[0m\n",
      "\u001b[34mThere are 1 clusters with 27 cameras\u001b[0m\n",
      "\u001b[34mThere are 1 clusters with 30 cameras\u001b[0m\n",
      "\u001b[34mThere are 1 clusters with 34 cameras\u001b[0m\n",
      "\u001b[34mThere are 1 clusters with 37 cameras\u001b[0m\n",
      "\u001b[34mThere are 1 clusters with 38 cameras\u001b[0m\n",
      "\u001b[34mThere are 1 clusters with 44 cameras\u001b[0m\n",
      "\u001b[34mThere are 1 clusters with 47 cameras\u001b[0m\n",
      "\u001b[34mThere are 1 clusters with 48 cameras\u001b[0m\n",
      "\u001b[34mThere are 1 clusters with 52 cameras\u001b[0m\n",
      "\u001b[34mThere are 1 clusters with 54 cameras\u001b[0m\n",
      "\u001b[34mThere are 2 clusters with 58 cameras\u001b[0m\n",
      "\u001b[34mThere are 4 clusters with 59 cameras\u001b[0m\n",
      "\u001b[34mThere are 1 clusters with 60 cameras\u001b[0m\n",
      "\u001b[34mThere are 13 clusters with 61 cameras\u001b[0m\n",
      "\u001b[34mThere are 10 clusters with 62 cameras\u001b[0m\n",
      "\u001b[34mThere are 16 clusters with 63 cameras\u001b[0m\n",
      "\u001b[34mThere are 538 clusters with 64 cameras\u001b[0m\n",
      "\u001b[34mThere are 1 clusters with 108 cameras\u001b[0m\n",
      "\u001b[34mThere are 1 clusters with 127 cameras\u001b[0m\n",
      "\u001b[34mThere are 2 clusters with 128 cameras\u001b[0m\n",
      "Number of classes: 611\n",
      "\u001b[36mLearning Rate: 0.000350\u001b[0m\n",
      "encontrou modelos efficientnet. Carregando...\n",
      "encontrou modelos convnext. Carregando...\n",
      "encontrou modelos mobilenet. Carregando...\n",
      "encontrou modelos vgg16. Carregando...\n",
      "encontrou modelos resnet50. Carregando...\n",
      "encontrou modelos osnet. Carregando...\n",
      "encontrou modelos densenet121. Carregando...\n",
      "###============ Iteration number 53/90 ============###\n",
      "Extracting Online Features for efficientnet ...\n",
      "Features extracted in 210.38 seconds\n",
      "Computing jaccard distance...\n"
     ]
    },
    {
     "name": "stderr",
     "output_type": "stream",
     "text": [
      "bruteForceKnn is deprecated; call bfKnn instead\n"
     ]
    },
    {
     "name": "stdout",
     "output_type": "stream",
     "text": [
      "Jaccard distance computing time cost: 92.1109926700592\n",
      "Extracting Online Features for convnext ...\n",
      "Features extracted in 215.71 seconds\n",
      "Computing jaccard distance...\n"
     ]
    },
    {
     "name": "stderr",
     "output_type": "stream",
     "text": [
      "bruteForceKnn is deprecated; call bfKnn instead\n"
     ]
    },
    {
     "name": "stdout",
     "output_type": "stream",
     "text": [
      "Jaccard distance computing time cost: 88.39058518409729\n",
      "Extracting Online Features for mobilenet ...\n",
      "Features extracted in 205.92 seconds\n",
      "Computing jaccard distance...\n"
     ]
    },
    {
     "name": "stderr",
     "output_type": "stream",
     "text": [
      "bruteForceKnn is deprecated; call bfKnn instead\n"
     ]
    },
    {
     "name": "stdout",
     "output_type": "stream",
     "text": [
      "Jaccard distance computing time cost: 83.52435612678528\n",
      "Extracting Online Features for vgg16 ...\n",
      "Features extracted in 209.03 seconds\n",
      "Computing jaccard distance...\n"
     ]
    },
    {
     "name": "stderr",
     "output_type": "stream",
     "text": [
      "bruteForceKnn is deprecated; call bfKnn instead\n"
     ]
    },
    {
     "name": "stdout",
     "output_type": "stream",
     "text": [
      "Jaccard distance computing time cost: 101.59882712364197\n",
      "Extracting Online Features for resnet50 ...\n",
      "Features extracted in 226.02 seconds\n",
      "Computing jaccard distance...\n"
     ]
    },
    {
     "name": "stderr",
     "output_type": "stream",
     "text": [
      "bruteForceKnn is deprecated; call bfKnn instead\n"
     ]
    },
    {
     "name": "stdout",
     "output_type": "stream",
     "text": [
      "Jaccard distance computing time cost: 94.89062190055847\n",
      "Extracting Online Features for osnet ...\n",
      "Features extracted in 218.77 seconds\n",
      "Computing jaccard distance...\n"
     ]
    },
    {
     "name": "stderr",
     "output_type": "stream",
     "text": [
      "bruteForceKnn is deprecated; call bfKnn instead\n"
     ]
    },
    {
     "name": "stdout",
     "output_type": "stream",
     "text": [
      "Jaccard distance computing time cost: 82.88496685028076\n",
      "Extracting Online Features for densenet121 ...\n",
      "Features extracted in 215.77 seconds\n",
      "Computing jaccard distance...\n"
     ]
    },
    {
     "name": "stderr",
     "output_type": "stream",
     "text": [
      "bruteForceKnn is deprecated; call bfKnn instead\n"
     ]
    },
    {
     "name": "stdout",
     "output_type": "stream",
     "text": [
      "Jaccard distance computing time cost: 81.25419998168945\n",
      "Reliability: 0.998\n",
      "\u001b[32mMean Purity: 0.00164\u001b[0m\n",
      "\u001b[34mThere are 2 clusters with 4 cameras\u001b[0m\n",
      "\u001b[34mThere are 4 clusters with 5 cameras\u001b[0m\n",
      "\u001b[34mThere are 1 clusters with 8 cameras\u001b[0m\n",
      "\u001b[34mThere are 1 clusters with 10 cameras\u001b[0m\n",
      "\u001b[34mThere are 1 clusters with 13 cameras\u001b[0m\n",
      "\u001b[34mThere are 1 clusters with 16 cameras\u001b[0m\n",
      "\u001b[34mThere are 2 clusters with 18 cameras\u001b[0m\n",
      "\u001b[34mThere are 1 clusters with 26 cameras\u001b[0m\n",
      "\u001b[34mThere are 1 clusters with 27 cameras\u001b[0m\n",
      "\u001b[34mThere are 1 clusters with 30 cameras\u001b[0m\n",
      "\u001b[34mThere are 1 clusters with 34 cameras\u001b[0m\n",
      "\u001b[34mThere are 1 clusters with 37 cameras\u001b[0m\n",
      "\u001b[34mThere are 1 clusters with 38 cameras\u001b[0m\n",
      "\u001b[34mThere are 1 clusters with 44 cameras\u001b[0m\n",
      "\u001b[34mThere are 1 clusters with 47 cameras\u001b[0m\n",
      "\u001b[34mThere are 1 clusters with 48 cameras\u001b[0m\n",
      "\u001b[34mThere are 1 clusters with 52 cameras\u001b[0m\n",
      "\u001b[34mThere are 1 clusters with 54 cameras\u001b[0m\n",
      "\u001b[34mThere are 2 clusters with 58 cameras\u001b[0m\n",
      "\u001b[34mThere are 4 clusters with 59 cameras\u001b[0m\n",
      "\u001b[34mThere are 1 clusters with 60 cameras\u001b[0m\n",
      "\u001b[34mThere are 13 clusters with 61 cameras\u001b[0m\n",
      "\u001b[34mThere are 10 clusters with 62 cameras\u001b[0m\n",
      "\u001b[34mThere are 16 clusters with 63 cameras\u001b[0m\n",
      "\u001b[34mThere are 538 clusters with 64 cameras\u001b[0m\n",
      "\u001b[34mThere are 1 clusters with 108 cameras\u001b[0m\n",
      "\u001b[34mThere are 1 clusters with 127 cameras\u001b[0m\n",
      "\u001b[34mThere are 2 clusters with 128 cameras\u001b[0m\n",
      "Number of classes: 611\n",
      "\u001b[36mLearning Rate: 0.000350\u001b[0m\n",
      "encontrou modelos efficientnet. Carregando...\n",
      "encontrou modelos convnext. Carregando...\n",
      "encontrou modelos mobilenet. Carregando...\n",
      "encontrou modelos vgg16. Carregando...\n",
      "encontrou modelos resnet50. Carregando...\n",
      "encontrou modelos osnet. Carregando...\n",
      "encontrou modelos densenet121. Carregando...\n",
      "###============ Iteration number 54/90 ============###\n",
      "Extracting Online Features for efficientnet ...\n",
      "Features extracted in 226.96 seconds\n",
      "Computing jaccard distance...\n"
     ]
    },
    {
     "name": "stderr",
     "output_type": "stream",
     "text": [
      "bruteForceKnn is deprecated; call bfKnn instead\n"
     ]
    },
    {
     "name": "stdout",
     "output_type": "stream",
     "text": [
      "Jaccard distance computing time cost: 86.74255204200745\n",
      "Extracting Online Features for convnext ...\n",
      "Features extracted in 247.59 seconds\n",
      "Computing jaccard distance...\n"
     ]
    },
    {
     "name": "stderr",
     "output_type": "stream",
     "text": [
      "bruteForceKnn is deprecated; call bfKnn instead\n"
     ]
    },
    {
     "name": "stdout",
     "output_type": "stream",
     "text": [
      "Jaccard distance computing time cost: 101.81482911109924\n",
      "Extracting Online Features for mobilenet ...\n",
      "Features extracted in 229.27 seconds\n",
      "Computing jaccard distance...\n"
     ]
    },
    {
     "name": "stderr",
     "output_type": "stream",
     "text": [
      "bruteForceKnn is deprecated; call bfKnn instead\n"
     ]
    },
    {
     "name": "stdout",
     "output_type": "stream",
     "text": [
      "Jaccard distance computing time cost: 91.59219336509705\n",
      "Extracting Online Features for vgg16 ...\n",
      "Features extracted in 230.83 seconds\n",
      "Computing jaccard distance...\n"
     ]
    },
    {
     "name": "stderr",
     "output_type": "stream",
     "text": [
      "bruteForceKnn is deprecated; call bfKnn instead\n"
     ]
    },
    {
     "name": "stdout",
     "output_type": "stream",
     "text": [
      "Jaccard distance computing time cost: 102.19718670845032\n",
      "Extracting Online Features for resnet50 ...\n",
      "Features extracted in 231.31 seconds\n",
      "Computing jaccard distance...\n"
     ]
    },
    {
     "name": "stderr",
     "output_type": "stream",
     "text": [
      "bruteForceKnn is deprecated; call bfKnn instead\n"
     ]
    },
    {
     "name": "stdout",
     "output_type": "stream",
     "text": [
      "Jaccard distance computing time cost: 94.76060009002686\n",
      "Extracting Online Features for osnet ...\n",
      "Features extracted in 224.07 seconds\n",
      "Computing jaccard distance...\n"
     ]
    },
    {
     "name": "stderr",
     "output_type": "stream",
     "text": [
      "bruteForceKnn is deprecated; call bfKnn instead\n"
     ]
    },
    {
     "name": "stdout",
     "output_type": "stream",
     "text": [
      "Jaccard distance computing time cost: 94.38214564323425\n",
      "Extracting Online Features for densenet121 ...\n",
      "Features extracted in 225.88 seconds\n",
      "Computing jaccard distance...\n"
     ]
    },
    {
     "name": "stderr",
     "output_type": "stream",
     "text": [
      "bruteForceKnn is deprecated; call bfKnn instead\n"
     ]
    },
    {
     "name": "stdout",
     "output_type": "stream",
     "text": [
      "Jaccard distance computing time cost: 106.12617659568787\n",
      "Reliability: 0.998\n",
      "\u001b[32mMean Purity: 0.00164\u001b[0m\n",
      "\u001b[34mThere are 2 clusters with 4 cameras\u001b[0m\n",
      "\u001b[34mThere are 4 clusters with 5 cameras\u001b[0m\n",
      "\u001b[34mThere are 1 clusters with 8 cameras\u001b[0m\n",
      "\u001b[34mThere are 1 clusters with 10 cameras\u001b[0m\n",
      "\u001b[34mThere are 1 clusters with 13 cameras\u001b[0m\n",
      "\u001b[34mThere are 1 clusters with 16 cameras\u001b[0m\n",
      "\u001b[34mThere are 2 clusters with 18 cameras\u001b[0m\n",
      "\u001b[34mThere are 1 clusters with 26 cameras\u001b[0m\n",
      "\u001b[34mThere are 1 clusters with 27 cameras\u001b[0m\n",
      "\u001b[34mThere are 1 clusters with 30 cameras\u001b[0m\n",
      "\u001b[34mThere are 1 clusters with 34 cameras\u001b[0m\n",
      "\u001b[34mThere are 1 clusters with 37 cameras\u001b[0m\n",
      "\u001b[34mThere are 1 clusters with 38 cameras\u001b[0m\n",
      "\u001b[34mThere are 1 clusters with 44 cameras\u001b[0m\n",
      "\u001b[34mThere are 1 clusters with 47 cameras\u001b[0m\n",
      "\u001b[34mThere are 1 clusters with 48 cameras\u001b[0m\n",
      "\u001b[34mThere are 1 clusters with 52 cameras\u001b[0m\n",
      "\u001b[34mThere are 1 clusters with 54 cameras\u001b[0m\n",
      "\u001b[34mThere are 2 clusters with 58 cameras\u001b[0m\n",
      "\u001b[34mThere are 4 clusters with 59 cameras\u001b[0m\n",
      "\u001b[34mThere are 1 clusters with 60 cameras\u001b[0m\n",
      "\u001b[34mThere are 13 clusters with 61 cameras\u001b[0m\n",
      "\u001b[34mThere are 10 clusters with 62 cameras\u001b[0m\n",
      "\u001b[34mThere are 16 clusters with 63 cameras\u001b[0m\n",
      "\u001b[34mThere are 538 clusters with 64 cameras\u001b[0m\n",
      "\u001b[34mThere are 1 clusters with 108 cameras\u001b[0m\n",
      "\u001b[34mThere are 1 clusters with 127 cameras\u001b[0m\n",
      "\u001b[34mThere are 2 clusters with 128 cameras\u001b[0m\n",
      "Number of classes: 611\n",
      "\u001b[36mLearning Rate: 0.000350\u001b[0m\n",
      "encontrou modelos efficientnet. Carregando...\n",
      "encontrou modelos convnext. Carregando...\n",
      "encontrou modelos mobilenet. Carregando...\n",
      "encontrou modelos vgg16. Carregando...\n",
      "encontrou modelos resnet50. Carregando...\n",
      "encontrou modelos osnet. Carregando...\n",
      "encontrou modelos densenet121. Carregando...\n",
      "###============ Iteration number 55/90 ============###\n",
      "Extracting Online Features for efficientnet ...\n",
      "Features extracted in 318.45 seconds\n",
      "Computing jaccard distance...\n"
     ]
    },
    {
     "name": "stderr",
     "output_type": "stream",
     "text": [
      "bruteForceKnn is deprecated; call bfKnn instead\n"
     ]
    },
    {
     "name": "stdout",
     "output_type": "stream",
     "text": [
      "Jaccard distance computing time cost: 101.58868551254272\n",
      "Extracting Online Features for convnext ...\n",
      "Features extracted in 240.96 seconds\n",
      "Computing jaccard distance...\n"
     ]
    },
    {
     "name": "stderr",
     "output_type": "stream",
     "text": [
      "bruteForceKnn is deprecated; call bfKnn instead\n"
     ]
    },
    {
     "name": "stdout",
     "output_type": "stream",
     "text": [
      "Jaccard distance computing time cost: 97.64535236358643\n",
      "Extracting Online Features for mobilenet ...\n",
      "Features extracted in 233.57 seconds\n",
      "Computing jaccard distance...\n"
     ]
    },
    {
     "name": "stderr",
     "output_type": "stream",
     "text": [
      "bruteForceKnn is deprecated; call bfKnn instead\n"
     ]
    },
    {
     "name": "stdout",
     "output_type": "stream",
     "text": [
      "Jaccard distance computing time cost: 92.43481874465942\n",
      "Extracting Online Features for vgg16 ...\n",
      "Features extracted in 231.28 seconds\n",
      "Computing jaccard distance...\n"
     ]
    },
    {
     "name": "stderr",
     "output_type": "stream",
     "text": [
      "bruteForceKnn is deprecated; call bfKnn instead\n"
     ]
    },
    {
     "name": "stdout",
     "output_type": "stream",
     "text": [
      "Jaccard distance computing time cost: 97.77523589134216\n",
      "Extracting Online Features for resnet50 ...\n",
      "Features extracted in 233.12 seconds\n",
      "Computing jaccard distance...\n"
     ]
    },
    {
     "name": "stderr",
     "output_type": "stream",
     "text": [
      "bruteForceKnn is deprecated; call bfKnn instead\n"
     ]
    },
    {
     "name": "stdout",
     "output_type": "stream",
     "text": [
      "Jaccard distance computing time cost: 98.68174266815186\n",
      "Extracting Online Features for osnet ...\n",
      "Features extracted in 238.08 seconds\n",
      "Computing jaccard distance...\n"
     ]
    },
    {
     "name": "stderr",
     "output_type": "stream",
     "text": [
      "bruteForceKnn is deprecated; call bfKnn instead\n"
     ]
    },
    {
     "name": "stdout",
     "output_type": "stream",
     "text": [
      "Jaccard distance computing time cost: 99.95936274528503\n",
      "Extracting Online Features for densenet121 ...\n",
      "Features extracted in 227.94 seconds\n",
      "Computing jaccard distance...\n"
     ]
    },
    {
     "name": "stderr",
     "output_type": "stream",
     "text": [
      "bruteForceKnn is deprecated; call bfKnn instead\n"
     ]
    },
    {
     "name": "stdout",
     "output_type": "stream",
     "text": [
      "Jaccard distance computing time cost: 93.91948103904724\n",
      "Reliability: 0.998\n",
      "\u001b[32mMean Purity: 0.00164\u001b[0m\n",
      "\u001b[34mThere are 2 clusters with 4 cameras\u001b[0m\n",
      "\u001b[34mThere are 4 clusters with 5 cameras\u001b[0m\n",
      "\u001b[34mThere are 1 clusters with 8 cameras\u001b[0m\n",
      "\u001b[34mThere are 1 clusters with 10 cameras\u001b[0m\n",
      "\u001b[34mThere are 1 clusters with 13 cameras\u001b[0m\n",
      "\u001b[34mThere are 1 clusters with 16 cameras\u001b[0m\n",
      "\u001b[34mThere are 2 clusters with 18 cameras\u001b[0m\n",
      "\u001b[34mThere are 1 clusters with 26 cameras\u001b[0m\n",
      "\u001b[34mThere are 1 clusters with 27 cameras\u001b[0m\n",
      "\u001b[34mThere are 1 clusters with 30 cameras\u001b[0m\n",
      "\u001b[34mThere are 1 clusters with 34 cameras\u001b[0m\n",
      "\u001b[34mThere are 1 clusters with 37 cameras\u001b[0m\n",
      "\u001b[34mThere are 1 clusters with 38 cameras\u001b[0m\n",
      "\u001b[34mThere are 1 clusters with 44 cameras\u001b[0m\n",
      "\u001b[34mThere are 1 clusters with 47 cameras\u001b[0m\n",
      "\u001b[34mThere are 1 clusters with 48 cameras\u001b[0m\n",
      "\u001b[34mThere are 1 clusters with 52 cameras\u001b[0m\n",
      "\u001b[34mThere are 1 clusters with 54 cameras\u001b[0m\n",
      "\u001b[34mThere are 2 clusters with 58 cameras\u001b[0m\n",
      "\u001b[34mThere are 4 clusters with 59 cameras\u001b[0m\n",
      "\u001b[34mThere are 1 clusters with 60 cameras\u001b[0m\n",
      "\u001b[34mThere are 13 clusters with 61 cameras\u001b[0m\n",
      "\u001b[34mThere are 10 clusters with 62 cameras\u001b[0m\n",
      "\u001b[34mThere are 16 clusters with 63 cameras\u001b[0m\n",
      "\u001b[34mThere are 538 clusters with 64 cameras\u001b[0m\n",
      "\u001b[34mThere are 1 clusters with 108 cameras\u001b[0m\n",
      "\u001b[34mThere are 1 clusters with 127 cameras\u001b[0m\n",
      "\u001b[34mThere are 2 clusters with 128 cameras\u001b[0m\n",
      "Number of classes: 611\n",
      "\u001b[36mLearning Rate: 0.000350\u001b[0m\n",
      "encontrou modelos efficientnet. Carregando...\n",
      "encontrou modelos convnext. Carregando...\n",
      "encontrou modelos mobilenet. Carregando...\n",
      "encontrou modelos vgg16. Carregando...\n",
      "encontrou modelos resnet50. Carregando...\n",
      "encontrou modelos osnet. Carregando...\n",
      "encontrou modelos densenet121. Carregando...\n",
      "\u001b[33mValidating online efficientnet ...\u001b[0m\n",
      "Features extracted in 90.81 seconds\n",
      "Features extracted in 178.91 seconds\n",
      "Computing CMC and mAP ...\n",
      "** Results **\n",
      "mAP: 72.74%\n",
      "CMC curve\n",
      "Rank-1  : 86.50%\n",
      "Rank-5  : 96.56%\n",
      "Rank-10 : 98.57%\n",
      "Rank-20 : 99.42%\n",
      "\u001b[33mValidating momentum efficientnet ...\u001b[0m\n",
      "Features extracted in 71.89 seconds\n",
      "Features extracted in 129.82 seconds\n",
      "Computing CMC and mAP ...\n",
      "** Results **\n",
      "mAP: 71.24%\n",
      "CMC curve\n",
      "Rank-1  : 78.00%\n",
      "Rank-5  : 94.78%\n",
      "Rank-10 : 98.01%\n",
      "Rank-20 : 99.39%\n",
      "\u001b[33mValidating online convnext ...\u001b[0m\n",
      "Features extracted in 82.09 seconds\n",
      "Features extracted in 146.11 seconds\n",
      "Computing CMC and mAP ...\n",
      "** Results **\n",
      "mAP: 75.86%\n",
      "CMC curve\n",
      "Rank-1  : 90.47%\n",
      "Rank-5  : 95.47%\n",
      "Rank-10 : 97.23%\n",
      "Rank-20 : 99.00%\n",
      "\u001b[33mValidating momentum convnext ...\u001b[0m\n",
      "Features extracted in 74.55 seconds\n",
      "Features extracted in 139.06 seconds\n",
      "Computing CMC and mAP ...\n",
      "** Results **\n",
      "mAP: 70.89%\n",
      "CMC curve\n",
      "Rank-1  : 81.10%\n",
      "Rank-5  : 94.32%\n",
      "Rank-10 : 97.06%\n",
      "Rank-20 : 98.73%\n",
      "\u001b[33mValidating online mobilenet ...\u001b[0m\n",
      "Features extracted in 69.02 seconds\n",
      "Features extracted in 127.89 seconds\n",
      "Computing CMC and mAP ...\n",
      "** Results **\n",
      "mAP: 71.69%\n",
      "CMC curve\n",
      "Rank-1  : 87.20%\n",
      "Rank-5  : 96.74%\n",
      "Rank-10 : 98.85%\n",
      "Rank-20 : 99.71%\n",
      "\u001b[33mValidating momentum mobilenet ...\u001b[0m\n",
      "Features extracted in 66.06 seconds\n",
      "Features extracted in 125.51 seconds\n",
      "Computing CMC and mAP ...\n",
      "** Results **\n",
      "mAP: 71.41%\n",
      "CMC curve\n",
      "Rank-1  : 83.91%\n",
      "Rank-5  : 95.41%\n",
      "Rank-10 : 98.08%\n",
      "Rank-20 : 99.14%\n",
      "\u001b[33mValidating online vgg16 ...\u001b[0m\n",
      "Features extracted in 89.41 seconds\n",
      "Features extracted in 138.74 seconds\n",
      "Computing CMC and mAP ...\n",
      "** Results **\n",
      "mAP: 72.14%\n",
      "CMC curve\n",
      "Rank-1  : 87.41%\n",
      "Rank-5  : 96.72%\n",
      "Rank-10 : 98.80%\n",
      "Rank-20 : 99.68%\n",
      "\u001b[33mValidating momentum vgg16 ...\u001b[0m\n",
      "Features extracted in 70.61 seconds\n",
      "Features extracted in 125.94 seconds\n",
      "Computing CMC and mAP ...\n",
      "** Results **\n",
      "mAP: 71.15%\n",
      "CMC curve\n",
      "Rank-1  : 79.56%\n",
      "Rank-5  : 95.82%\n",
      "Rank-10 : 98.64%\n",
      "Rank-20 : 99.55%\n",
      "\u001b[33mValidating online resnet50 ...\u001b[0m\n",
      "Features extracted in 67.12 seconds\n",
      "Features extracted in 122.62 seconds\n",
      "Computing CMC and mAP ...\n",
      "** Results **\n",
      "mAP: 72.93%\n",
      "CMC curve\n",
      "Rank-1  : 89.22%\n",
      "Rank-5  : 97.35%\n",
      "Rank-10 : 99.02%\n",
      "Rank-20 : 99.75%\n",
      "\u001b[33mValidating momentum resnet50 ...\u001b[0m\n",
      "Features extracted in 70.85 seconds\n",
      "Features extracted in 128.68 seconds\n",
      "Computing CMC and mAP ...\n",
      "** Results **\n",
      "mAP: 74.37%\n",
      "CMC curve\n",
      "Rank-1  : 90.07%\n",
      "Rank-5  : 97.95%\n",
      "Rank-10 : 99.19%\n",
      "Rank-20 : 99.74%\n",
      "\u001b[33mValidating online osnet ...\u001b[0m\n",
      "Features extracted in 70.47 seconds\n",
      "Features extracted in 124.84 seconds\n",
      "Computing CMC and mAP ...\n",
      "** Results **\n",
      "mAP: 71.05%\n",
      "CMC curve\n",
      "Rank-1  : 81.59%\n",
      "Rank-5  : 95.73%\n",
      "Rank-10 : 98.23%\n",
      "Rank-20 : 99.54%\n",
      "\u001b[33mValidating momentum osnet ...\u001b[0m\n",
      "Features extracted in 71.56 seconds\n",
      "Features extracted in 128.88 seconds\n",
      "Computing CMC and mAP ...\n",
      "** Results **\n",
      "mAP: 73.09%\n",
      "CMC curve\n",
      "Rank-1  : 81.93%\n",
      "Rank-5  : 95.43%\n",
      "Rank-10 : 98.30%\n",
      "Rank-20 : 99.46%\n",
      "\u001b[33mValidating online densenet121 ...\u001b[0m\n",
      "Features extracted in 71.40 seconds\n",
      "Features extracted in 129.16 seconds\n",
      "Computing CMC and mAP ...\n",
      "** Results **\n",
      "mAP: 74.36%\n",
      "CMC curve\n",
      "Rank-1  : 92.33%\n",
      "Rank-5  : 98.60%\n",
      "Rank-10 : 99.56%\n",
      "Rank-20 : 99.86%\n",
      "\u001b[33mValidating momentum densenet121 ...\u001b[0m\n",
      "Features extracted in 73.35 seconds\n",
      "Features extracted in 131.09 seconds\n",
      "Computing CMC and mAP ...\n",
      "** Results **\n",
      "mAP: 74.16%\n",
      "CMC curve\n",
      "Rank-1  : 86.99%\n",
      "Rank-5  : 96.54%\n",
      "Rank-10 : 98.30%\n",
      "Rank-20 : 99.46%\n",
      "\u001b[33mValidating ensembled with online models ...\u001b[0m\n",
      "Computing CMC and mAP ...\n",
      "** Results **\n",
      "mAP: 75.80%\n",
      "Ranks:\n",
      "Rank-1  : 96.73%\n",
      "Rank-5  : 98.98%\n",
      "Rank-10 : 99.48%\n",
      "\u001b[33mValidating ensembled with momentum models ...\u001b[0m\n",
      "Computing CMC and mAP ...\n",
      "** Results **\n",
      "mAP: 74.25%\n",
      "Ranks:\n",
      "Rank-1  : 87.54%\n",
      "Rank-5  : 96.96%\n",
      "Rank-10 : 98.89%\n",
      "###============ Iteration number 56/90 ============###\n",
      "Extracting Online Features for efficientnet ...\n",
      "Features extracted in 321.07 seconds\n",
      "Computing jaccard distance...\n"
     ]
    },
    {
     "name": "stderr",
     "output_type": "stream",
     "text": [
      "bruteForceKnn is deprecated; call bfKnn instead\n"
     ]
    },
    {
     "name": "stdout",
     "output_type": "stream",
     "text": [
      "Jaccard distance computing time cost: 93.3031075000763\n",
      "Extracting Online Features for convnext ...\n",
      "Features extracted in 217.09 seconds\n",
      "Computing jaccard distance...\n"
     ]
    },
    {
     "name": "stderr",
     "output_type": "stream",
     "text": [
      "bruteForceKnn is deprecated; call bfKnn instead\n"
     ]
    },
    {
     "name": "stdout",
     "output_type": "stream",
     "text": [
      "Jaccard distance computing time cost: 86.7395191192627\n",
      "Extracting Online Features for mobilenet ...\n",
      "Features extracted in 224.37 seconds\n",
      "Computing jaccard distance...\n"
     ]
    },
    {
     "name": "stderr",
     "output_type": "stream",
     "text": [
      "bruteForceKnn is deprecated; call bfKnn instead\n"
     ]
    },
    {
     "name": "stdout",
     "output_type": "stream",
     "text": [
      "Jaccard distance computing time cost: 101.07790923118591\n",
      "Extracting Online Features for vgg16 ...\n",
      "Features extracted in 226.59 seconds\n",
      "Computing jaccard distance...\n"
     ]
    },
    {
     "name": "stderr",
     "output_type": "stream",
     "text": [
      "bruteForceKnn is deprecated; call bfKnn instead\n"
     ]
    },
    {
     "name": "stdout",
     "output_type": "stream",
     "text": [
      "Jaccard distance computing time cost: 91.85000443458557\n",
      "Extracting Online Features for resnet50 ...\n",
      "Features extracted in 223.88 seconds\n",
      "Computing jaccard distance...\n"
     ]
    },
    {
     "name": "stderr",
     "output_type": "stream",
     "text": [
      "bruteForceKnn is deprecated; call bfKnn instead\n"
     ]
    },
    {
     "name": "stdout",
     "output_type": "stream",
     "text": [
      "Jaccard distance computing time cost: 88.20747518539429\n",
      "Extracting Online Features for osnet ...\n",
      "Features extracted in 217.39 seconds\n",
      "Computing jaccard distance...\n"
     ]
    },
    {
     "name": "stderr",
     "output_type": "stream",
     "text": [
      "bruteForceKnn is deprecated; call bfKnn instead\n"
     ]
    },
    {
     "name": "stdout",
     "output_type": "stream",
     "text": [
      "Jaccard distance computing time cost: 85.79212021827698\n",
      "Extracting Online Features for densenet121 ...\n",
      "Features extracted in 220.89 seconds\n",
      "Computing jaccard distance...\n"
     ]
    },
    {
     "name": "stderr",
     "output_type": "stream",
     "text": [
      "bruteForceKnn is deprecated; call bfKnn instead\n"
     ]
    },
    {
     "name": "stdout",
     "output_type": "stream",
     "text": [
      "Jaccard distance computing time cost: 102.43726444244385\n",
      "Reliability: 0.998\n",
      "\u001b[32mMean Purity: 0.00164\u001b[0m\n",
      "\u001b[34mThere are 2 clusters with 4 cameras\u001b[0m\n",
      "\u001b[34mThere are 4 clusters with 5 cameras\u001b[0m\n",
      "\u001b[34mThere are 1 clusters with 8 cameras\u001b[0m\n",
      "\u001b[34mThere are 1 clusters with 10 cameras\u001b[0m\n",
      "\u001b[34mThere are 1 clusters with 13 cameras\u001b[0m\n",
      "\u001b[34mThere are 1 clusters with 16 cameras\u001b[0m\n",
      "\u001b[34mThere are 2 clusters with 18 cameras\u001b[0m\n",
      "\u001b[34mThere are 1 clusters with 26 cameras\u001b[0m\n",
      "\u001b[34mThere are 1 clusters with 27 cameras\u001b[0m\n",
      "\u001b[34mThere are 1 clusters with 30 cameras\u001b[0m\n",
      "\u001b[34mThere are 1 clusters with 34 cameras\u001b[0m\n",
      "\u001b[34mThere are 1 clusters with 37 cameras\u001b[0m\n",
      "\u001b[34mThere are 1 clusters with 38 cameras\u001b[0m\n",
      "\u001b[34mThere are 1 clusters with 44 cameras\u001b[0m\n",
      "\u001b[34mThere are 1 clusters with 47 cameras\u001b[0m\n",
      "\u001b[34mThere are 1 clusters with 48 cameras\u001b[0m\n",
      "\u001b[34mThere are 1 clusters with 52 cameras\u001b[0m\n",
      "\u001b[34mThere are 1 clusters with 54 cameras\u001b[0m\n",
      "\u001b[34mThere are 2 clusters with 58 cameras\u001b[0m\n",
      "\u001b[34mThere are 4 clusters with 59 cameras\u001b[0m\n",
      "\u001b[34mThere are 1 clusters with 60 cameras\u001b[0m\n",
      "\u001b[34mThere are 13 clusters with 61 cameras\u001b[0m\n",
      "\u001b[34mThere are 10 clusters with 62 cameras\u001b[0m\n",
      "\u001b[34mThere are 16 clusters with 63 cameras\u001b[0m\n",
      "\u001b[34mThere are 538 clusters with 64 cameras\u001b[0m\n",
      "\u001b[34mThere are 1 clusters with 108 cameras\u001b[0m\n",
      "\u001b[34mThere are 1 clusters with 127 cameras\u001b[0m\n",
      "\u001b[34mThere are 2 clusters with 128 cameras\u001b[0m\n",
      "Number of classes: 611\n",
      "\u001b[36mLearning Rate: 0.000350\u001b[0m\n",
      "encontrou modelos efficientnet. Carregando...\n",
      "encontrou modelos convnext. Carregando...\n",
      "encontrou modelos mobilenet. Carregando...\n",
      "encontrou modelos vgg16. Carregando...\n",
      "encontrou modelos resnet50. Carregando...\n",
      "encontrou modelos osnet. Carregando...\n",
      "encontrou modelos densenet121. Carregando...\n",
      "###============ Iteration number 57/90 ============###\n",
      "Extracting Online Features for efficientnet ...\n",
      "Features extracted in 226.67 seconds\n",
      "Computing jaccard distance...\n"
     ]
    },
    {
     "name": "stderr",
     "output_type": "stream",
     "text": [
      "bruteForceKnn is deprecated; call bfKnn instead\n"
     ]
    },
    {
     "name": "stdout",
     "output_type": "stream",
     "text": [
      "Jaccard distance computing time cost: 86.88864588737488\n",
      "Extracting Online Features for convnext ...\n",
      "Features extracted in 226.64 seconds\n",
      "Computing jaccard distance...\n"
     ]
    },
    {
     "name": "stderr",
     "output_type": "stream",
     "text": [
      "bruteForceKnn is deprecated; call bfKnn instead\n"
     ]
    },
    {
     "name": "stdout",
     "output_type": "stream",
     "text": [
      "Jaccard distance computing time cost: 85.54123616218567\n",
      "Extracting Online Features for mobilenet ...\n",
      "Features extracted in 226.77 seconds\n",
      "Computing jaccard distance...\n"
     ]
    },
    {
     "name": "stderr",
     "output_type": "stream",
     "text": [
      "bruteForceKnn is deprecated; call bfKnn instead\n"
     ]
    },
    {
     "name": "stdout",
     "output_type": "stream",
     "text": [
      "Jaccard distance computing time cost: 93.08317828178406\n",
      "Extracting Online Features for vgg16 ...\n",
      "Features extracted in 227.11 seconds\n",
      "Computing jaccard distance...\n"
     ]
    },
    {
     "name": "stderr",
     "output_type": "stream",
     "text": [
      "bruteForceKnn is deprecated; call bfKnn instead\n"
     ]
    },
    {
     "name": "stdout",
     "output_type": "stream",
     "text": [
      "Jaccard distance computing time cost: 100.71016240119934\n",
      "Extracting Online Features for resnet50 ...\n",
      "Features extracted in 231.92 seconds\n",
      "Computing jaccard distance...\n"
     ]
    },
    {
     "name": "stderr",
     "output_type": "stream",
     "text": [
      "bruteForceKnn is deprecated; call bfKnn instead\n"
     ]
    },
    {
     "name": "stdout",
     "output_type": "stream",
     "text": [
      "Jaccard distance computing time cost: 107.50921988487244\n",
      "Extracting Online Features for osnet ...\n",
      "Features extracted in 220.14 seconds\n",
      "Computing jaccard distance...\n"
     ]
    },
    {
     "name": "stderr",
     "output_type": "stream",
     "text": [
      "bruteForceKnn is deprecated; call bfKnn instead\n"
     ]
    },
    {
     "name": "stdout",
     "output_type": "stream",
     "text": [
      "Jaccard distance computing time cost: 84.41445469856262\n",
      "Extracting Online Features for densenet121 ...\n",
      "Features extracted in 232.38 seconds\n",
      "Computing jaccard distance...\n"
     ]
    },
    {
     "name": "stderr",
     "output_type": "stream",
     "text": [
      "bruteForceKnn is deprecated; call bfKnn instead\n"
     ]
    },
    {
     "name": "stdout",
     "output_type": "stream",
     "text": [
      "Jaccard distance computing time cost: 89.24316072463989\n",
      "Reliability: 0.998\n",
      "\u001b[32mMean Purity: 0.00164\u001b[0m\n",
      "\u001b[34mThere are 2 clusters with 4 cameras\u001b[0m\n",
      "\u001b[34mThere are 4 clusters with 5 cameras\u001b[0m\n",
      "\u001b[34mThere are 1 clusters with 8 cameras\u001b[0m\n",
      "\u001b[34mThere are 1 clusters with 10 cameras\u001b[0m\n",
      "\u001b[34mThere are 1 clusters with 13 cameras\u001b[0m\n",
      "\u001b[34mThere are 1 clusters with 16 cameras\u001b[0m\n",
      "\u001b[34mThere are 2 clusters with 18 cameras\u001b[0m\n",
      "\u001b[34mThere are 1 clusters with 26 cameras\u001b[0m\n",
      "\u001b[34mThere are 1 clusters with 27 cameras\u001b[0m\n",
      "\u001b[34mThere are 1 clusters with 30 cameras\u001b[0m\n",
      "\u001b[34mThere are 1 clusters with 34 cameras\u001b[0m\n",
      "\u001b[34mThere are 1 clusters with 37 cameras\u001b[0m\n",
      "\u001b[34mThere are 1 clusters with 38 cameras\u001b[0m\n",
      "\u001b[34mThere are 1 clusters with 44 cameras\u001b[0m\n",
      "\u001b[34mThere are 1 clusters with 47 cameras\u001b[0m\n",
      "\u001b[34mThere are 1 clusters with 48 cameras\u001b[0m\n",
      "\u001b[34mThere are 1 clusters with 52 cameras\u001b[0m\n",
      "\u001b[34mThere are 1 clusters with 54 cameras\u001b[0m\n",
      "\u001b[34mThere are 2 clusters with 58 cameras\u001b[0m\n",
      "\u001b[34mThere are 4 clusters with 59 cameras\u001b[0m\n",
      "\u001b[34mThere are 1 clusters with 60 cameras\u001b[0m\n",
      "\u001b[34mThere are 13 clusters with 61 cameras\u001b[0m\n",
      "\u001b[34mThere are 10 clusters with 62 cameras\u001b[0m\n",
      "\u001b[34mThere are 16 clusters with 63 cameras\u001b[0m\n",
      "\u001b[34mThere are 538 clusters with 64 cameras\u001b[0m\n",
      "\u001b[34mThere are 1 clusters with 108 cameras\u001b[0m\n",
      "\u001b[34mThere are 1 clusters with 127 cameras\u001b[0m\n",
      "\u001b[34mThere are 2 clusters with 128 cameras\u001b[0m\n",
      "Number of classes: 611\n",
      "\u001b[36mLearning Rate: 0.000350\u001b[0m\n",
      "encontrou modelos efficientnet. Carregando...\n",
      "encontrou modelos convnext. Carregando...\n",
      "encontrou modelos mobilenet. Carregando...\n",
      "encontrou modelos vgg16. Carregando...\n",
      "encontrou modelos resnet50. Carregando...\n",
      "encontrou modelos osnet. Carregando...\n",
      "encontrou modelos densenet121. Carregando...\n",
      "###============ Iteration number 58/90 ============###\n",
      "Extracting Online Features for efficientnet ...\n",
      "Features extracted in 216.66 seconds\n",
      "Computing jaccard distance...\n"
     ]
    },
    {
     "name": "stderr",
     "output_type": "stream",
     "text": [
      "bruteForceKnn is deprecated; call bfKnn instead\n"
     ]
    },
    {
     "name": "stdout",
     "output_type": "stream",
     "text": [
      "Jaccard distance computing time cost: 84.08594727516174\n",
      "Extracting Online Features for convnext ...\n",
      "Features extracted in 234.95 seconds\n",
      "Computing jaccard distance...\n"
     ]
    },
    {
     "name": "stderr",
     "output_type": "stream",
     "text": [
      "bruteForceKnn is deprecated; call bfKnn instead\n"
     ]
    },
    {
     "name": "stdout",
     "output_type": "stream",
     "text": [
      "Jaccard distance computing time cost: 129.83838272094727\n",
      "Extracting Online Features for mobilenet ...\n",
      "Features extracted in 227.87 seconds\n",
      "Computing jaccard distance...\n"
     ]
    },
    {
     "name": "stderr",
     "output_type": "stream",
     "text": [
      "bruteForceKnn is deprecated; call bfKnn instead\n"
     ]
    },
    {
     "name": "stdout",
     "output_type": "stream",
     "text": [
      "Jaccard distance computing time cost: 83.6201753616333\n",
      "Extracting Online Features for vgg16 ...\n",
      "Features extracted in 234.14 seconds\n",
      "Computing jaccard distance...\n"
     ]
    },
    {
     "name": "stderr",
     "output_type": "stream",
     "text": [
      "bruteForceKnn is deprecated; call bfKnn instead\n"
     ]
    },
    {
     "name": "stdout",
     "output_type": "stream",
     "text": [
      "Jaccard distance computing time cost: 89.62376356124878\n",
      "Extracting Online Features for resnet50 ...\n",
      "Features extracted in 237.26 seconds\n",
      "Computing jaccard distance...\n"
     ]
    },
    {
     "name": "stderr",
     "output_type": "stream",
     "text": [
      "bruteForceKnn is deprecated; call bfKnn instead\n"
     ]
    },
    {
     "name": "stdout",
     "output_type": "stream",
     "text": [
      "Jaccard distance computing time cost: 91.65995073318481\n",
      "Extracting Online Features for osnet ...\n",
      "Features extracted in 222.53 seconds\n",
      "Computing jaccard distance...\n"
     ]
    },
    {
     "name": "stderr",
     "output_type": "stream",
     "text": [
      "bruteForceKnn is deprecated; call bfKnn instead\n"
     ]
    },
    {
     "name": "stdout",
     "output_type": "stream",
     "text": [
      "Jaccard distance computing time cost: 88.86101007461548\n",
      "Extracting Online Features for densenet121 ...\n",
      "Features extracted in 226.38 seconds\n",
      "Computing jaccard distance...\n"
     ]
    },
    {
     "name": "stderr",
     "output_type": "stream",
     "text": [
      "bruteForceKnn is deprecated; call bfKnn instead\n"
     ]
    },
    {
     "name": "stdout",
     "output_type": "stream",
     "text": [
      "Jaccard distance computing time cost: 101.10413789749146\n",
      "Reliability: 0.998\n",
      "\u001b[32mMean Purity: 0.00164\u001b[0m\n",
      "\u001b[34mThere are 2 clusters with 4 cameras\u001b[0m\n",
      "\u001b[34mThere are 4 clusters with 5 cameras\u001b[0m\n",
      "\u001b[34mThere are 1 clusters with 8 cameras\u001b[0m\n",
      "\u001b[34mThere are 1 clusters with 10 cameras\u001b[0m\n",
      "\u001b[34mThere are 1 clusters with 13 cameras\u001b[0m\n",
      "\u001b[34mThere are 1 clusters with 16 cameras\u001b[0m\n",
      "\u001b[34mThere are 2 clusters with 18 cameras\u001b[0m\n",
      "\u001b[34mThere are 1 clusters with 26 cameras\u001b[0m\n",
      "\u001b[34mThere are 1 clusters with 27 cameras\u001b[0m\n",
      "\u001b[34mThere are 1 clusters with 30 cameras\u001b[0m\n",
      "\u001b[34mThere are 1 clusters with 34 cameras\u001b[0m\n",
      "\u001b[34mThere are 1 clusters with 37 cameras\u001b[0m\n",
      "\u001b[34mThere are 1 clusters with 38 cameras\u001b[0m\n",
      "\u001b[34mThere are 1 clusters with 44 cameras\u001b[0m\n",
      "\u001b[34mThere are 1 clusters with 47 cameras\u001b[0m\n",
      "\u001b[34mThere are 1 clusters with 48 cameras\u001b[0m\n",
      "\u001b[34mThere are 1 clusters with 52 cameras\u001b[0m\n",
      "\u001b[34mThere are 1 clusters with 54 cameras\u001b[0m\n",
      "\u001b[34mThere are 2 clusters with 58 cameras\u001b[0m\n",
      "\u001b[34mThere are 4 clusters with 59 cameras\u001b[0m\n",
      "\u001b[34mThere are 1 clusters with 60 cameras\u001b[0m\n",
      "\u001b[34mThere are 13 clusters with 61 cameras\u001b[0m\n",
      "\u001b[34mThere are 10 clusters with 62 cameras\u001b[0m\n",
      "\u001b[34mThere are 16 clusters with 63 cameras\u001b[0m\n",
      "\u001b[34mThere are 538 clusters with 64 cameras\u001b[0m\n",
      "\u001b[34mThere are 1 clusters with 108 cameras\u001b[0m\n",
      "\u001b[34mThere are 1 clusters with 127 cameras\u001b[0m\n",
      "\u001b[34mThere are 2 clusters with 128 cameras\u001b[0m\n",
      "Number of classes: 611\n",
      "\u001b[36mLearning Rate: 0.000350\u001b[0m\n",
      "encontrou modelos efficientnet. Carregando...\n",
      "encontrou modelos convnext. Carregando...\n",
      "encontrou modelos mobilenet. Carregando...\n",
      "encontrou modelos vgg16. Carregando...\n",
      "encontrou modelos resnet50. Carregando...\n",
      "encontrou modelos osnet. Carregando...\n",
      "encontrou modelos densenet121. Carregando...\n",
      "###============ Iteration number 59/90 ============###\n",
      "Extracting Online Features for efficientnet ...\n",
      "Features extracted in 213.81 seconds\n",
      "Computing jaccard distance...\n"
     ]
    },
    {
     "name": "stderr",
     "output_type": "stream",
     "text": [
      "bruteForceKnn is deprecated; call bfKnn instead\n"
     ]
    },
    {
     "name": "stdout",
     "output_type": "stream",
     "text": [
      "Jaccard distance computing time cost: 83.3432605266571\n",
      "Extracting Online Features for convnext ...\n",
      "Features extracted in 219.09 seconds\n",
      "Computing jaccard distance...\n"
     ]
    },
    {
     "name": "stderr",
     "output_type": "stream",
     "text": [
      "bruteForceKnn is deprecated; call bfKnn instead\n"
     ]
    },
    {
     "name": "stdout",
     "output_type": "stream",
     "text": [
      "Jaccard distance computing time cost: 87.10716342926025\n",
      "Extracting Online Features for mobilenet ...\n",
      "Features extracted in 226.41 seconds\n",
      "Computing jaccard distance...\n"
     ]
    },
    {
     "name": "stderr",
     "output_type": "stream",
     "text": [
      "bruteForceKnn is deprecated; call bfKnn instead\n"
     ]
    },
    {
     "name": "stdout",
     "output_type": "stream",
     "text": [
      "Jaccard distance computing time cost: 96.31715703010559\n",
      "Extracting Online Features for vgg16 ...\n",
      "Features extracted in 219.47 seconds\n",
      "Computing jaccard distance...\n"
     ]
    },
    {
     "name": "stderr",
     "output_type": "stream",
     "text": [
      "bruteForceKnn is deprecated; call bfKnn instead\n"
     ]
    },
    {
     "name": "stdout",
     "output_type": "stream",
     "text": [
      "Jaccard distance computing time cost: 80.86154246330261\n",
      "Extracting Online Features for resnet50 ...\n",
      "Features extracted in 225.83 seconds\n",
      "Computing jaccard distance...\n"
     ]
    },
    {
     "name": "stderr",
     "output_type": "stream",
     "text": [
      "bruteForceKnn is deprecated; call bfKnn instead\n"
     ]
    },
    {
     "name": "stdout",
     "output_type": "stream",
     "text": [
      "Jaccard distance computing time cost: 81.1394910812378\n",
      "Extracting Online Features for osnet ...\n",
      "Features extracted in 224.94 seconds\n",
      "Computing jaccard distance...\n"
     ]
    },
    {
     "name": "stderr",
     "output_type": "stream",
     "text": [
      "bruteForceKnn is deprecated; call bfKnn instead\n"
     ]
    },
    {
     "name": "stdout",
     "output_type": "stream",
     "text": [
      "Jaccard distance computing time cost: 85.30417895317078\n",
      "Extracting Online Features for densenet121 ...\n",
      "Features extracted in 231.75 seconds\n",
      "Computing jaccard distance...\n"
     ]
    },
    {
     "name": "stderr",
     "output_type": "stream",
     "text": [
      "bruteForceKnn is deprecated; call bfKnn instead\n"
     ]
    },
    {
     "name": "stdout",
     "output_type": "stream",
     "text": [
      "Jaccard distance computing time cost: 91.53733277320862\n",
      "Reliability: 0.998\n",
      "\u001b[32mMean Purity: 0.00164\u001b[0m\n",
      "\u001b[34mThere are 2 clusters with 4 cameras\u001b[0m\n",
      "\u001b[34mThere are 4 clusters with 5 cameras\u001b[0m\n",
      "\u001b[34mThere are 1 clusters with 8 cameras\u001b[0m\n",
      "\u001b[34mThere are 1 clusters with 10 cameras\u001b[0m\n",
      "\u001b[34mThere are 1 clusters with 13 cameras\u001b[0m\n",
      "\u001b[34mThere are 1 clusters with 16 cameras\u001b[0m\n",
      "\u001b[34mThere are 2 clusters with 18 cameras\u001b[0m\n",
      "\u001b[34mThere are 1 clusters with 26 cameras\u001b[0m\n",
      "\u001b[34mThere are 1 clusters with 27 cameras\u001b[0m\n",
      "\u001b[34mThere are 1 clusters with 30 cameras\u001b[0m\n",
      "\u001b[34mThere are 1 clusters with 34 cameras\u001b[0m\n",
      "\u001b[34mThere are 1 clusters with 37 cameras\u001b[0m\n",
      "\u001b[34mThere are 1 clusters with 38 cameras\u001b[0m\n",
      "\u001b[34mThere are 1 clusters with 44 cameras\u001b[0m\n",
      "\u001b[34mThere are 1 clusters with 47 cameras\u001b[0m\n",
      "\u001b[34mThere are 1 clusters with 48 cameras\u001b[0m\n",
      "\u001b[34mThere are 1 clusters with 52 cameras\u001b[0m\n",
      "\u001b[34mThere are 1 clusters with 54 cameras\u001b[0m\n",
      "\u001b[34mThere are 2 clusters with 58 cameras\u001b[0m\n",
      "\u001b[34mThere are 4 clusters with 59 cameras\u001b[0m\n",
      "\u001b[34mThere are 1 clusters with 60 cameras\u001b[0m\n",
      "\u001b[34mThere are 13 clusters with 61 cameras\u001b[0m\n",
      "\u001b[34mThere are 10 clusters with 62 cameras\u001b[0m\n",
      "\u001b[34mThere are 16 clusters with 63 cameras\u001b[0m\n",
      "\u001b[34mThere are 538 clusters with 64 cameras\u001b[0m\n",
      "\u001b[34mThere are 1 clusters with 108 cameras\u001b[0m\n",
      "\u001b[34mThere are 1 clusters with 127 cameras\u001b[0m\n",
      "\u001b[34mThere are 2 clusters with 128 cameras\u001b[0m\n",
      "Number of classes: 611\n",
      "\u001b[36mLearning Rate: 0.000350\u001b[0m\n",
      "encontrou modelos efficientnet. Carregando...\n",
      "encontrou modelos convnext. Carregando...\n",
      "encontrou modelos mobilenet. Carregando...\n",
      "encontrou modelos vgg16. Carregando...\n",
      "encontrou modelos resnet50. Carregando...\n",
      "encontrou modelos osnet. Carregando...\n",
      "encontrou modelos densenet121. Carregando...\n",
      "###============ Iteration number 60/90 ============###\n",
      "Extracting Online Features for efficientnet ...\n",
      "Features extracted in 227.74 seconds\n",
      "Computing jaccard distance...\n"
     ]
    },
    {
     "name": "stderr",
     "output_type": "stream",
     "text": [
      "bruteForceKnn is deprecated; call bfKnn instead\n"
     ]
    },
    {
     "name": "stdout",
     "output_type": "stream",
     "text": [
      "Jaccard distance computing time cost: 86.33180689811707\n",
      "Extracting Online Features for convnext ...\n",
      "Features extracted in 229.29 seconds\n",
      "Computing jaccard distance...\n"
     ]
    },
    {
     "name": "stderr",
     "output_type": "stream",
     "text": [
      "bruteForceKnn is deprecated; call bfKnn instead\n"
     ]
    },
    {
     "name": "stdout",
     "output_type": "stream",
     "text": [
      "Jaccard distance computing time cost: 89.72162103652954\n",
      "Extracting Online Features for mobilenet ...\n",
      "Features extracted in 226.69 seconds\n",
      "Computing jaccard distance...\n"
     ]
    },
    {
     "name": "stderr",
     "output_type": "stream",
     "text": [
      "bruteForceKnn is deprecated; call bfKnn instead\n"
     ]
    },
    {
     "name": "stdout",
     "output_type": "stream",
     "text": [
      "Jaccard distance computing time cost: 91.8690037727356\n",
      "Extracting Online Features for vgg16 ...\n",
      "Features extracted in 236.24 seconds\n",
      "Computing jaccard distance...\n"
     ]
    },
    {
     "name": "stderr",
     "output_type": "stream",
     "text": [
      "bruteForceKnn is deprecated; call bfKnn instead\n"
     ]
    },
    {
     "name": "stdout",
     "output_type": "stream",
     "text": [
      "Jaccard distance computing time cost: 92.99322724342346\n",
      "Extracting Online Features for resnet50 ...\n",
      "Features extracted in 232.15 seconds\n",
      "Computing jaccard distance...\n"
     ]
    },
    {
     "name": "stderr",
     "output_type": "stream",
     "text": [
      "bruteForceKnn is deprecated; call bfKnn instead\n"
     ]
    },
    {
     "name": "stdout",
     "output_type": "stream",
     "text": [
      "Jaccard distance computing time cost: 84.590585231781\n",
      "Extracting Online Features for osnet ...\n",
      "Features extracted in 257.77 seconds\n",
      "Computing jaccard distance...\n"
     ]
    },
    {
     "name": "stderr",
     "output_type": "stream",
     "text": [
      "bruteForceKnn is deprecated; call bfKnn instead\n"
     ]
    },
    {
     "name": "stdout",
     "output_type": "stream",
     "text": [
      "Jaccard distance computing time cost: 95.17438173294067\n",
      "Extracting Online Features for densenet121 ...\n",
      "Features extracted in 232.15 seconds\n",
      "Computing jaccard distance...\n"
     ]
    },
    {
     "name": "stderr",
     "output_type": "stream",
     "text": [
      "bruteForceKnn is deprecated; call bfKnn instead\n"
     ]
    },
    {
     "name": "stdout",
     "output_type": "stream",
     "text": [
      "Jaccard distance computing time cost: 97.31434321403503\n",
      "Reliability: 0.998\n",
      "\u001b[32mMean Purity: 0.00164\u001b[0m\n",
      "\u001b[34mThere are 2 clusters with 4 cameras\u001b[0m\n",
      "\u001b[34mThere are 4 clusters with 5 cameras\u001b[0m\n",
      "\u001b[34mThere are 1 clusters with 8 cameras\u001b[0m\n",
      "\u001b[34mThere are 1 clusters with 10 cameras\u001b[0m\n",
      "\u001b[34mThere are 1 clusters with 13 cameras\u001b[0m\n",
      "\u001b[34mThere are 1 clusters with 16 cameras\u001b[0m\n",
      "\u001b[34mThere are 2 clusters with 18 cameras\u001b[0m\n",
      "\u001b[34mThere are 1 clusters with 26 cameras\u001b[0m\n",
      "\u001b[34mThere are 1 clusters with 27 cameras\u001b[0m\n",
      "\u001b[34mThere are 1 clusters with 30 cameras\u001b[0m\n",
      "\u001b[34mThere are 1 clusters with 34 cameras\u001b[0m\n",
      "\u001b[34mThere are 1 clusters with 37 cameras\u001b[0m\n",
      "\u001b[34mThere are 1 clusters with 38 cameras\u001b[0m\n",
      "\u001b[34mThere are 1 clusters with 44 cameras\u001b[0m\n",
      "\u001b[34mThere are 1 clusters with 47 cameras\u001b[0m\n",
      "\u001b[34mThere are 1 clusters with 48 cameras\u001b[0m\n",
      "\u001b[34mThere are 1 clusters with 52 cameras\u001b[0m\n",
      "\u001b[34mThere are 1 clusters with 54 cameras\u001b[0m\n",
      "\u001b[34mThere are 2 clusters with 58 cameras\u001b[0m\n",
      "\u001b[34mThere are 4 clusters with 59 cameras\u001b[0m\n",
      "\u001b[34mThere are 1 clusters with 60 cameras\u001b[0m\n",
      "\u001b[34mThere are 13 clusters with 61 cameras\u001b[0m\n",
      "\u001b[34mThere are 10 clusters with 62 cameras\u001b[0m\n",
      "\u001b[34mThere are 16 clusters with 63 cameras\u001b[0m\n",
      "\u001b[34mThere are 538 clusters with 64 cameras\u001b[0m\n",
      "\u001b[34mThere are 1 clusters with 108 cameras\u001b[0m\n",
      "\u001b[34mThere are 1 clusters with 127 cameras\u001b[0m\n",
      "\u001b[34mThere are 2 clusters with 128 cameras\u001b[0m\n",
      "Number of classes: 611\n",
      "\u001b[36mLearning Rate: 0.000350\u001b[0m\n",
      "encontrou modelos efficientnet. Carregando...\n",
      "encontrou modelos convnext. Carregando...\n",
      "encontrou modelos mobilenet. Carregando...\n",
      "encontrou modelos vgg16. Carregando...\n",
      "encontrou modelos resnet50. Carregando...\n",
      "encontrou modelos osnet. Carregando...\n",
      "encontrou modelos densenet121. Carregando...\n",
      "\u001b[33mValidating online efficientnet ...\u001b[0m\n",
      "Features extracted in 81.55 seconds\n",
      "Features extracted in 136.01 seconds\n",
      "Computing CMC and mAP ...\n",
      "** Results **\n",
      "mAP: 72.74%\n",
      "CMC curve\n",
      "Rank-1  : 86.50%\n",
      "Rank-5  : 96.56%\n",
      "Rank-10 : 98.57%\n",
      "Rank-20 : 99.42%\n",
      "\u001b[33mValidating momentum efficientnet ...\u001b[0m\n",
      "Features extracted in 66.63 seconds\n",
      "Features extracted in 118.15 seconds\n",
      "Computing CMC and mAP ...\n",
      "** Results **\n",
      "mAP: 71.24%\n",
      "CMC curve\n",
      "Rank-1  : 78.00%\n",
      "Rank-5  : 94.78%\n",
      "Rank-10 : 98.01%\n",
      "Rank-20 : 99.39%\n",
      "\u001b[33mValidating online convnext ...\u001b[0m\n",
      "Features extracted in 73.85 seconds\n",
      "Features extracted in 129.51 seconds\n",
      "Computing CMC and mAP ...\n",
      "** Results **\n",
      "mAP: 75.86%\n",
      "CMC curve\n",
      "Rank-1  : 90.47%\n",
      "Rank-5  : 95.47%\n",
      "Rank-10 : 97.23%\n",
      "Rank-20 : 99.00%\n",
      "\u001b[33mValidating momentum convnext ...\u001b[0m\n",
      "Features extracted in 64.92 seconds\n",
      "Features extracted in 122.27 seconds\n",
      "Computing CMC and mAP ...\n",
      "** Results **\n",
      "mAP: 70.89%\n",
      "CMC curve\n",
      "Rank-1  : 81.10%\n",
      "Rank-5  : 94.32%\n",
      "Rank-10 : 97.06%\n",
      "Rank-20 : 98.73%\n",
      "\u001b[33mValidating online mobilenet ...\u001b[0m\n",
      "Features extracted in 64.57 seconds\n",
      "Features extracted in 117.15 seconds\n",
      "Computing CMC and mAP ...\n",
      "** Results **\n",
      "mAP: 71.69%\n",
      "CMC curve\n",
      "Rank-1  : 87.20%\n",
      "Rank-5  : 96.74%\n",
      "Rank-10 : 98.85%\n",
      "Rank-20 : 99.71%\n",
      "\u001b[33mValidating momentum mobilenet ...\u001b[0m\n",
      "Features extracted in 63.07 seconds\n",
      "Features extracted in 118.57 seconds\n",
      "Computing CMC and mAP ...\n",
      "** Results **\n",
      "mAP: 71.41%\n",
      "CMC curve\n",
      "Rank-1  : 83.91%\n",
      "Rank-5  : 95.41%\n",
      "Rank-10 : 98.08%\n",
      "Rank-20 : 99.14%\n",
      "\u001b[33mValidating online vgg16 ...\u001b[0m\n",
      "Features extracted in 63.00 seconds\n",
      "Features extracted in 118.27 seconds\n",
      "Computing CMC and mAP ...\n",
      "** Results **\n",
      "mAP: 72.14%\n",
      "CMC curve\n",
      "Rank-1  : 87.41%\n",
      "Rank-5  : 96.72%\n",
      "Rank-10 : 98.80%\n",
      "Rank-20 : 99.68%\n",
      "\u001b[33mValidating momentum vgg16 ...\u001b[0m\n",
      "Features extracted in 64.97 seconds\n",
      "Features extracted in 122.38 seconds\n",
      "Computing CMC and mAP ...\n",
      "** Results **\n",
      "mAP: 71.15%\n",
      "CMC curve\n",
      "Rank-1  : 79.56%\n",
      "Rank-5  : 95.82%\n",
      "Rank-10 : 98.64%\n",
      "Rank-20 : 99.55%\n",
      "\u001b[33mValidating online resnet50 ...\u001b[0m\n",
      "Features extracted in 64.94 seconds\n",
      "Features extracted in 118.37 seconds\n",
      "Computing CMC and mAP ...\n",
      "** Results **\n",
      "mAP: 72.93%\n",
      "CMC curve\n",
      "Rank-1  : 89.22%\n",
      "Rank-5  : 97.35%\n",
      "Rank-10 : 99.02%\n",
      "Rank-20 : 99.75%\n",
      "\u001b[33mValidating momentum resnet50 ...\u001b[0m\n",
      "Features extracted in 65.40 seconds\n",
      "Features extracted in 123.72 seconds\n",
      "Computing CMC and mAP ...\n",
      "** Results **\n",
      "mAP: 74.37%\n",
      "CMC curve\n",
      "Rank-1  : 90.07%\n",
      "Rank-5  : 97.95%\n",
      "Rank-10 : 99.19%\n",
      "Rank-20 : 99.74%\n",
      "\u001b[33mValidating online osnet ...\u001b[0m\n",
      "Features extracted in 64.30 seconds\n",
      "Features extracted in 116.80 seconds\n",
      "Computing CMC and mAP ...\n",
      "** Results **\n",
      "mAP: 71.05%\n",
      "CMC curve\n",
      "Rank-1  : 81.59%\n",
      "Rank-5  : 95.73%\n",
      "Rank-10 : 98.23%\n",
      "Rank-20 : 99.54%\n",
      "\u001b[33mValidating momentum osnet ...\u001b[0m\n",
      "Features extracted in 64.28 seconds\n",
      "Features extracted in 139.87 seconds\n",
      "Computing CMC and mAP ...\n",
      "** Results **\n",
      "mAP: 73.09%\n",
      "CMC curve\n",
      "Rank-1  : 81.93%\n",
      "Rank-5  : 95.43%\n",
      "Rank-10 : 98.30%\n",
      "Rank-20 : 99.46%\n",
      "\u001b[33mValidating online densenet121 ...\u001b[0m\n",
      "Features extracted in 66.01 seconds\n",
      "Features extracted in 121.62 seconds\n",
      "Computing CMC and mAP ...\n",
      "** Results **\n",
      "mAP: 74.36%\n",
      "CMC curve\n",
      "Rank-1  : 92.33%\n",
      "Rank-5  : 98.60%\n",
      "Rank-10 : 99.56%\n",
      "Rank-20 : 99.86%\n",
      "\u001b[33mValidating momentum densenet121 ...\u001b[0m\n",
      "Features extracted in 65.38 seconds\n",
      "Features extracted in 120.59 seconds\n",
      "Computing CMC and mAP ...\n",
      "** Results **\n",
      "mAP: 74.16%\n",
      "CMC curve\n",
      "Rank-1  : 86.99%\n",
      "Rank-5  : 96.54%\n",
      "Rank-10 : 98.30%\n",
      "Rank-20 : 99.46%\n",
      "\u001b[33mValidating ensembled with online models ...\u001b[0m\n",
      "Computing CMC and mAP ...\n",
      "** Results **\n",
      "mAP: 75.80%\n",
      "Ranks:\n",
      "Rank-1  : 96.73%\n",
      "Rank-5  : 98.98%\n",
      "Rank-10 : 99.48%\n",
      "\u001b[33mValidating ensembled with momentum models ...\u001b[0m\n",
      "Computing CMC and mAP ...\n",
      "** Results **\n",
      "mAP: 74.25%\n",
      "Ranks:\n",
      "Rank-1  : 87.54%\n",
      "Rank-5  : 96.96%\n",
      "Rank-10 : 98.89%\n",
      "###============ Iteration number 61/90 ============###\n",
      "Extracting Online Features for efficientnet ...\n",
      "Features extracted in 201.29 seconds\n",
      "Computing jaccard distance...\n"
     ]
    },
    {
     "name": "stderr",
     "output_type": "stream",
     "text": [
      "bruteForceKnn is deprecated; call bfKnn instead\n"
     ]
    },
    {
     "name": "stdout",
     "output_type": "stream",
     "text": [
      "Jaccard distance computing time cost: 79.09572982788086\n",
      "Extracting Online Features for convnext ...\n",
      "Features extracted in 199.44 seconds\n",
      "Computing jaccard distance...\n"
     ]
    },
    {
     "name": "stderr",
     "output_type": "stream",
     "text": [
      "bruteForceKnn is deprecated; call bfKnn instead\n"
     ]
    },
    {
     "name": "stdout",
     "output_type": "stream",
     "text": [
      "Jaccard distance computing time cost: 79.88833236694336\n",
      "Extracting Online Features for mobilenet ...\n",
      "Features extracted in 204.55 seconds\n",
      "Computing jaccard distance...\n"
     ]
    },
    {
     "name": "stderr",
     "output_type": "stream",
     "text": [
      "bruteForceKnn is deprecated; call bfKnn instead\n"
     ]
    },
    {
     "name": "stdout",
     "output_type": "stream",
     "text": [
      "Jaccard distance computing time cost: 79.56631207466125\n",
      "Extracting Online Features for vgg16 ...\n",
      "Features extracted in 202.85 seconds\n",
      "Computing jaccard distance...\n"
     ]
    },
    {
     "name": "stderr",
     "output_type": "stream",
     "text": [
      "bruteForceKnn is deprecated; call bfKnn instead\n"
     ]
    },
    {
     "name": "stdout",
     "output_type": "stream",
     "text": [
      "Jaccard distance computing time cost: 78.52811789512634\n",
      "Extracting Online Features for resnet50 ...\n",
      "Features extracted in 206.09 seconds\n",
      "Computing jaccard distance...\n"
     ]
    },
    {
     "name": "stderr",
     "output_type": "stream",
     "text": [
      "bruteForceKnn is deprecated; call bfKnn instead\n"
     ]
    },
    {
     "name": "stdout",
     "output_type": "stream",
     "text": [
      "Jaccard distance computing time cost: 79.84600019454956\n",
      "Extracting Online Features for osnet ...\n",
      "Features extracted in 198.35 seconds\n",
      "Computing jaccard distance...\n"
     ]
    },
    {
     "name": "stderr",
     "output_type": "stream",
     "text": [
      "bruteForceKnn is deprecated; call bfKnn instead\n"
     ]
    },
    {
     "name": "stdout",
     "output_type": "stream",
     "text": [
      "Jaccard distance computing time cost: 77.931147813797\n",
      "Extracting Online Features for densenet121 ...\n",
      "Features extracted in 204.21 seconds\n",
      "Computing jaccard distance...\n"
     ]
    },
    {
     "name": "stderr",
     "output_type": "stream",
     "text": [
      "bruteForceKnn is deprecated; call bfKnn instead\n"
     ]
    },
    {
     "name": "stdout",
     "output_type": "stream",
     "text": [
      "Jaccard distance computing time cost: 80.54879355430603\n",
      "Reliability: 0.998\n",
      "\u001b[32mMean Purity: 0.00164\u001b[0m\n",
      "\u001b[34mThere are 2 clusters with 4 cameras\u001b[0m\n",
      "\u001b[34mThere are 4 clusters with 5 cameras\u001b[0m\n",
      "\u001b[34mThere are 1 clusters with 8 cameras\u001b[0m\n",
      "\u001b[34mThere are 1 clusters with 10 cameras\u001b[0m\n",
      "\u001b[34mThere are 1 clusters with 13 cameras\u001b[0m\n",
      "\u001b[34mThere are 1 clusters with 16 cameras\u001b[0m\n",
      "\u001b[34mThere are 2 clusters with 18 cameras\u001b[0m\n",
      "\u001b[34mThere are 1 clusters with 26 cameras\u001b[0m\n",
      "\u001b[34mThere are 1 clusters with 27 cameras\u001b[0m\n",
      "\u001b[34mThere are 1 clusters with 30 cameras\u001b[0m\n",
      "\u001b[34mThere are 1 clusters with 34 cameras\u001b[0m\n",
      "\u001b[34mThere are 1 clusters with 37 cameras\u001b[0m\n",
      "\u001b[34mThere are 1 clusters with 38 cameras\u001b[0m\n",
      "\u001b[34mThere are 1 clusters with 44 cameras\u001b[0m\n",
      "\u001b[34mThere are 1 clusters with 47 cameras\u001b[0m\n",
      "\u001b[34mThere are 1 clusters with 48 cameras\u001b[0m\n",
      "\u001b[34mThere are 1 clusters with 52 cameras\u001b[0m\n",
      "\u001b[34mThere are 1 clusters with 54 cameras\u001b[0m\n",
      "\u001b[34mThere are 2 clusters with 58 cameras\u001b[0m\n",
      "\u001b[34mThere are 4 clusters with 59 cameras\u001b[0m\n",
      "\u001b[34mThere are 1 clusters with 60 cameras\u001b[0m\n",
      "\u001b[34mThere are 13 clusters with 61 cameras\u001b[0m\n",
      "\u001b[34mThere are 10 clusters with 62 cameras\u001b[0m\n",
      "\u001b[34mThere are 16 clusters with 63 cameras\u001b[0m\n",
      "\u001b[34mThere are 538 clusters with 64 cameras\u001b[0m\n",
      "\u001b[34mThere are 1 clusters with 108 cameras\u001b[0m\n",
      "\u001b[34mThere are 1 clusters with 127 cameras\u001b[0m\n",
      "\u001b[34mThere are 2 clusters with 128 cameras\u001b[0m\n",
      "Number of classes: 611\n",
      "\u001b[36mLearning Rate: 0.000350\u001b[0m\n",
      "encontrou modelos efficientnet. Carregando...\n",
      "encontrou modelos convnext. Carregando...\n",
      "encontrou modelos mobilenet. Carregando...\n",
      "encontrou modelos vgg16. Carregando...\n",
      "encontrou modelos resnet50. Carregando...\n",
      "encontrou modelos osnet. Carregando...\n",
      "encontrou modelos densenet121. Carregando...\n",
      "###============ Iteration number 62/90 ============###\n",
      "Extracting Online Features for efficientnet ...\n",
      "Features extracted in 204.61 seconds\n",
      "Computing jaccard distance...\n"
     ]
    },
    {
     "name": "stderr",
     "output_type": "stream",
     "text": [
      "bruteForceKnn is deprecated; call bfKnn instead\n"
     ]
    },
    {
     "name": "stdout",
     "output_type": "stream",
     "text": [
      "Jaccard distance computing time cost: 79.29626131057739\n",
      "Extracting Online Features for convnext ...\n",
      "Features extracted in 203.77 seconds\n",
      "Computing jaccard distance...\n"
     ]
    },
    {
     "name": "stderr",
     "output_type": "stream",
     "text": [
      "bruteForceKnn is deprecated; call bfKnn instead\n"
     ]
    },
    {
     "name": "stdout",
     "output_type": "stream",
     "text": [
      "Jaccard distance computing time cost: 86.40344905853271\n",
      "Extracting Online Features for mobilenet ...\n",
      "Features extracted in 194.43 seconds\n",
      "Computing jaccard distance...\n"
     ]
    },
    {
     "name": "stderr",
     "output_type": "stream",
     "text": [
      "bruteForceKnn is deprecated; call bfKnn instead\n"
     ]
    },
    {
     "name": "stdout",
     "output_type": "stream",
     "text": [
      "Jaccard distance computing time cost: 80.37176251411438\n",
      "Extracting Online Features for vgg16 ...\n",
      "Features extracted in 193.08 seconds\n",
      "Computing jaccard distance...\n"
     ]
    },
    {
     "name": "stderr",
     "output_type": "stream",
     "text": [
      "bruteForceKnn is deprecated; call bfKnn instead\n"
     ]
    },
    {
     "name": "stdout",
     "output_type": "stream",
     "text": [
      "Jaccard distance computing time cost: 79.4279510974884\n",
      "Extracting Online Features for resnet50 ...\n",
      "Features extracted in 206.65 seconds\n",
      "Computing jaccard distance...\n"
     ]
    },
    {
     "name": "stderr",
     "output_type": "stream",
     "text": [
      "bruteForceKnn is deprecated; call bfKnn instead\n"
     ]
    },
    {
     "name": "stdout",
     "output_type": "stream",
     "text": [
      "Jaccard distance computing time cost: 87.36276698112488\n",
      "Extracting Online Features for osnet ...\n",
      "Features extracted in 195.91 seconds\n",
      "Computing jaccard distance...\n"
     ]
    },
    {
     "name": "stderr",
     "output_type": "stream",
     "text": [
      "bruteForceKnn is deprecated; call bfKnn instead\n"
     ]
    },
    {
     "name": "stdout",
     "output_type": "stream",
     "text": [
      "Jaccard distance computing time cost: 77.14823198318481\n",
      "Extracting Online Features for densenet121 ...\n",
      "Features extracted in 197.56 seconds\n",
      "Computing jaccard distance...\n"
     ]
    },
    {
     "name": "stderr",
     "output_type": "stream",
     "text": [
      "bruteForceKnn is deprecated; call bfKnn instead\n"
     ]
    },
    {
     "name": "stdout",
     "output_type": "stream",
     "text": [
      "Jaccard distance computing time cost: 80.32948875427246\n",
      "Reliability: 0.998\n",
      "\u001b[32mMean Purity: 0.00164\u001b[0m\n",
      "\u001b[34mThere are 2 clusters with 4 cameras\u001b[0m\n",
      "\u001b[34mThere are 4 clusters with 5 cameras\u001b[0m\n",
      "\u001b[34mThere are 1 clusters with 8 cameras\u001b[0m\n",
      "\u001b[34mThere are 1 clusters with 10 cameras\u001b[0m\n",
      "\u001b[34mThere are 1 clusters with 13 cameras\u001b[0m\n",
      "\u001b[34mThere are 1 clusters with 16 cameras\u001b[0m\n",
      "\u001b[34mThere are 2 clusters with 18 cameras\u001b[0m\n",
      "\u001b[34mThere are 1 clusters with 26 cameras\u001b[0m\n",
      "\u001b[34mThere are 1 clusters with 27 cameras\u001b[0m\n",
      "\u001b[34mThere are 1 clusters with 30 cameras\u001b[0m\n",
      "\u001b[34mThere are 1 clusters with 34 cameras\u001b[0m\n",
      "\u001b[34mThere are 1 clusters with 37 cameras\u001b[0m\n",
      "\u001b[34mThere are 1 clusters with 38 cameras\u001b[0m\n",
      "\u001b[34mThere are 1 clusters with 44 cameras\u001b[0m\n",
      "\u001b[34mThere are 1 clusters with 47 cameras\u001b[0m\n",
      "\u001b[34mThere are 1 clusters with 48 cameras\u001b[0m\n",
      "\u001b[34mThere are 1 clusters with 52 cameras\u001b[0m\n",
      "\u001b[34mThere are 1 clusters with 54 cameras\u001b[0m\n",
      "\u001b[34mThere are 2 clusters with 58 cameras\u001b[0m\n",
      "\u001b[34mThere are 4 clusters with 59 cameras\u001b[0m\n",
      "\u001b[34mThere are 1 clusters with 60 cameras\u001b[0m\n",
      "\u001b[34mThere are 13 clusters with 61 cameras\u001b[0m\n",
      "\u001b[34mThere are 10 clusters with 62 cameras\u001b[0m\n",
      "\u001b[34mThere are 16 clusters with 63 cameras\u001b[0m\n",
      "\u001b[34mThere are 538 clusters with 64 cameras\u001b[0m\n",
      "\u001b[34mThere are 1 clusters with 108 cameras\u001b[0m\n",
      "\u001b[34mThere are 1 clusters with 127 cameras\u001b[0m\n",
      "\u001b[34mThere are 2 clusters with 128 cameras\u001b[0m\n",
      "Number of classes: 611\n",
      "\u001b[36mLearning Rate: 0.000350\u001b[0m\n",
      "encontrou modelos efficientnet. Carregando...\n",
      "encontrou modelos convnext. Carregando...\n",
      "encontrou modelos mobilenet. Carregando...\n",
      "encontrou modelos vgg16. Carregando...\n",
      "encontrou modelos resnet50. Carregando...\n",
      "encontrou modelos osnet. Carregando...\n",
      "encontrou modelos densenet121. Carregando...\n",
      "###============ Iteration number 63/90 ============###\n",
      "Extracting Online Features for efficientnet ...\n",
      "Features extracted in 210.94 seconds\n",
      "Computing jaccard distance...\n"
     ]
    },
    {
     "name": "stderr",
     "output_type": "stream",
     "text": [
      "bruteForceKnn is deprecated; call bfKnn instead\n"
     ]
    },
    {
     "name": "stdout",
     "output_type": "stream",
     "text": [
      "Jaccard distance computing time cost: 79.61587715148926\n",
      "Extracting Online Features for convnext ...\n",
      "Features extracted in 212.22 seconds\n",
      "Computing jaccard distance...\n"
     ]
    },
    {
     "name": "stderr",
     "output_type": "stream",
     "text": [
      "bruteForceKnn is deprecated; call bfKnn instead\n"
     ]
    },
    {
     "name": "stdout",
     "output_type": "stream",
     "text": [
      "Jaccard distance computing time cost: 78.83693337440491\n",
      "Extracting Online Features for mobilenet ...\n",
      "Features extracted in 202.21 seconds\n",
      "Computing jaccard distance...\n"
     ]
    },
    {
     "name": "stderr",
     "output_type": "stream",
     "text": [
      "bruteForceKnn is deprecated; call bfKnn instead\n"
     ]
    },
    {
     "name": "stdout",
     "output_type": "stream",
     "text": [
      "Jaccard distance computing time cost: 79.31271481513977\n",
      "Extracting Online Features for vgg16 ...\n",
      "Features extracted in 208.98 seconds\n",
      "Computing jaccard distance...\n"
     ]
    },
    {
     "name": "stderr",
     "output_type": "stream",
     "text": [
      "bruteForceKnn is deprecated; call bfKnn instead\n"
     ]
    },
    {
     "name": "stdout",
     "output_type": "stream",
     "text": [
      "Jaccard distance computing time cost: 80.47871971130371\n",
      "Extracting Online Features for resnet50 ...\n",
      "Features extracted in 195.59 seconds\n",
      "Computing jaccard distance...\n"
     ]
    },
    {
     "name": "stderr",
     "output_type": "stream",
     "text": [
      "bruteForceKnn is deprecated; call bfKnn instead\n"
     ]
    },
    {
     "name": "stdout",
     "output_type": "stream",
     "text": [
      "Jaccard distance computing time cost: 80.34955191612244\n",
      "Extracting Online Features for osnet ...\n",
      "Features extracted in 204.42 seconds\n",
      "Computing jaccard distance...\n"
     ]
    },
    {
     "name": "stderr",
     "output_type": "stream",
     "text": [
      "bruteForceKnn is deprecated; call bfKnn instead\n"
     ]
    },
    {
     "name": "stdout",
     "output_type": "stream",
     "text": [
      "Jaccard distance computing time cost: 77.7331292629242\n",
      "Extracting Online Features for densenet121 ...\n",
      "Features extracted in 208.50 seconds\n",
      "Computing jaccard distance...\n"
     ]
    },
    {
     "name": "stderr",
     "output_type": "stream",
     "text": [
      "bruteForceKnn is deprecated; call bfKnn instead\n"
     ]
    },
    {
     "name": "stdout",
     "output_type": "stream",
     "text": [
      "Jaccard distance computing time cost: 94.04490351676941\n",
      "Reliability: 0.998\n",
      "\u001b[32mMean Purity: 0.00164\u001b[0m\n",
      "\u001b[34mThere are 2 clusters with 4 cameras\u001b[0m\n",
      "\u001b[34mThere are 4 clusters with 5 cameras\u001b[0m\n",
      "\u001b[34mThere are 1 clusters with 8 cameras\u001b[0m\n",
      "\u001b[34mThere are 1 clusters with 10 cameras\u001b[0m\n",
      "\u001b[34mThere are 1 clusters with 13 cameras\u001b[0m\n",
      "\u001b[34mThere are 1 clusters with 16 cameras\u001b[0m\n",
      "\u001b[34mThere are 2 clusters with 18 cameras\u001b[0m\n",
      "\u001b[34mThere are 1 clusters with 26 cameras\u001b[0m\n",
      "\u001b[34mThere are 1 clusters with 27 cameras\u001b[0m\n",
      "\u001b[34mThere are 1 clusters with 30 cameras\u001b[0m\n",
      "\u001b[34mThere are 1 clusters with 34 cameras\u001b[0m\n",
      "\u001b[34mThere are 1 clusters with 37 cameras\u001b[0m\n",
      "\u001b[34mThere are 1 clusters with 38 cameras\u001b[0m\n",
      "\u001b[34mThere are 1 clusters with 44 cameras\u001b[0m\n",
      "\u001b[34mThere are 1 clusters with 47 cameras\u001b[0m\n",
      "\u001b[34mThere are 1 clusters with 48 cameras\u001b[0m\n",
      "\u001b[34mThere are 1 clusters with 52 cameras\u001b[0m\n",
      "\u001b[34mThere are 1 clusters with 54 cameras\u001b[0m\n",
      "\u001b[34mThere are 2 clusters with 58 cameras\u001b[0m\n",
      "\u001b[34mThere are 4 clusters with 59 cameras\u001b[0m\n",
      "\u001b[34mThere are 1 clusters with 60 cameras\u001b[0m\n",
      "\u001b[34mThere are 13 clusters with 61 cameras\u001b[0m\n",
      "\u001b[34mThere are 10 clusters with 62 cameras\u001b[0m\n",
      "\u001b[34mThere are 16 clusters with 63 cameras\u001b[0m\n",
      "\u001b[34mThere are 538 clusters with 64 cameras\u001b[0m\n",
      "\u001b[34mThere are 1 clusters with 108 cameras\u001b[0m\n",
      "\u001b[34mThere are 1 clusters with 127 cameras\u001b[0m\n",
      "\u001b[34mThere are 2 clusters with 128 cameras\u001b[0m\n",
      "Number of classes: 611\n",
      "\u001b[36mLearning Rate: 0.000350\u001b[0m\n",
      "encontrou modelos efficientnet. Carregando...\n",
      "encontrou modelos convnext. Carregando...\n",
      "encontrou modelos mobilenet. Carregando...\n",
      "encontrou modelos vgg16. Carregando...\n",
      "encontrou modelos resnet50. Carregando...\n",
      "encontrou modelos osnet. Carregando...\n",
      "encontrou modelos densenet121. Carregando...\n",
      "###============ Iteration number 64/90 ============###\n",
      "Extracting Online Features for efficientnet ...\n",
      "Features extracted in 201.91 seconds\n",
      "Computing jaccard distance...\n"
     ]
    },
    {
     "name": "stderr",
     "output_type": "stream",
     "text": [
      "bruteForceKnn is deprecated; call bfKnn instead\n"
     ]
    },
    {
     "name": "stdout",
     "output_type": "stream",
     "text": [
      "Jaccard distance computing time cost: 78.75878119468689\n",
      "Extracting Online Features for convnext ...\n",
      "Features extracted in 213.66 seconds\n",
      "Computing jaccard distance...\n"
     ]
    },
    {
     "name": "stderr",
     "output_type": "stream",
     "text": [
      "bruteForceKnn is deprecated; call bfKnn instead\n"
     ]
    },
    {
     "name": "stdout",
     "output_type": "stream",
     "text": [
      "Jaccard distance computing time cost: 79.17215204238892\n",
      "Extracting Online Features for mobilenet ...\n",
      "Features extracted in 194.33 seconds\n",
      "Computing jaccard distance...\n"
     ]
    },
    {
     "name": "stderr",
     "output_type": "stream",
     "text": [
      "bruteForceKnn is deprecated; call bfKnn instead\n"
     ]
    },
    {
     "name": "stdout",
     "output_type": "stream",
     "text": [
      "Jaccard distance computing time cost: 79.24808883666992\n",
      "Extracting Online Features for vgg16 ...\n",
      "Features extracted in 199.27 seconds\n",
      "Computing jaccard distance...\n"
     ]
    },
    {
     "name": "stderr",
     "output_type": "stream",
     "text": [
      "bruteForceKnn is deprecated; call bfKnn instead\n"
     ]
    },
    {
     "name": "stdout",
     "output_type": "stream",
     "text": [
      "Jaccard distance computing time cost: 79.02233815193176\n",
      "Extracting Online Features for resnet50 ...\n",
      "Features extracted in 202.27 seconds\n",
      "Computing jaccard distance...\n"
     ]
    },
    {
     "name": "stderr",
     "output_type": "stream",
     "text": [
      "bruteForceKnn is deprecated; call bfKnn instead\n"
     ]
    },
    {
     "name": "stdout",
     "output_type": "stream",
     "text": [
      "Jaccard distance computing time cost: 79.867600440979\n",
      "Extracting Online Features for osnet ...\n",
      "Features extracted in 197.45 seconds\n",
      "Computing jaccard distance...\n"
     ]
    },
    {
     "name": "stderr",
     "output_type": "stream",
     "text": [
      "bruteForceKnn is deprecated; call bfKnn instead\n"
     ]
    },
    {
     "name": "stdout",
     "output_type": "stream",
     "text": [
      "Jaccard distance computing time cost: 82.97184085845947\n",
      "Extracting Online Features for densenet121 ...\n",
      "Features extracted in 198.84 seconds\n",
      "Computing jaccard distance...\n"
     ]
    },
    {
     "name": "stderr",
     "output_type": "stream",
     "text": [
      "bruteForceKnn is deprecated; call bfKnn instead\n"
     ]
    },
    {
     "name": "stdout",
     "output_type": "stream",
     "text": [
      "Jaccard distance computing time cost: 79.9220666885376\n",
      "Reliability: 0.998\n",
      "\u001b[32mMean Purity: 0.00164\u001b[0m\n",
      "\u001b[34mThere are 2 clusters with 4 cameras\u001b[0m\n",
      "\u001b[34mThere are 4 clusters with 5 cameras\u001b[0m\n",
      "\u001b[34mThere are 1 clusters with 8 cameras\u001b[0m\n",
      "\u001b[34mThere are 1 clusters with 10 cameras\u001b[0m\n",
      "\u001b[34mThere are 1 clusters with 13 cameras\u001b[0m\n",
      "\u001b[34mThere are 1 clusters with 16 cameras\u001b[0m\n",
      "\u001b[34mThere are 2 clusters with 18 cameras\u001b[0m\n",
      "\u001b[34mThere are 1 clusters with 26 cameras\u001b[0m\n",
      "\u001b[34mThere are 1 clusters with 27 cameras\u001b[0m\n",
      "\u001b[34mThere are 1 clusters with 30 cameras\u001b[0m\n",
      "\u001b[34mThere are 1 clusters with 34 cameras\u001b[0m\n",
      "\u001b[34mThere are 1 clusters with 37 cameras\u001b[0m\n",
      "\u001b[34mThere are 1 clusters with 38 cameras\u001b[0m\n",
      "\u001b[34mThere are 1 clusters with 44 cameras\u001b[0m\n",
      "\u001b[34mThere are 1 clusters with 47 cameras\u001b[0m\n",
      "\u001b[34mThere are 1 clusters with 48 cameras\u001b[0m\n",
      "\u001b[34mThere are 1 clusters with 52 cameras\u001b[0m\n",
      "\u001b[34mThere are 1 clusters with 54 cameras\u001b[0m\n",
      "\u001b[34mThere are 2 clusters with 58 cameras\u001b[0m\n",
      "\u001b[34mThere are 4 clusters with 59 cameras\u001b[0m\n",
      "\u001b[34mThere are 1 clusters with 60 cameras\u001b[0m\n",
      "\u001b[34mThere are 13 clusters with 61 cameras\u001b[0m\n",
      "\u001b[34mThere are 10 clusters with 62 cameras\u001b[0m\n",
      "\u001b[34mThere are 16 clusters with 63 cameras\u001b[0m\n",
      "\u001b[34mThere are 538 clusters with 64 cameras\u001b[0m\n",
      "\u001b[34mThere are 1 clusters with 108 cameras\u001b[0m\n",
      "\u001b[34mThere are 1 clusters with 127 cameras\u001b[0m\n",
      "\u001b[34mThere are 2 clusters with 128 cameras\u001b[0m\n",
      "Number of classes: 611\n",
      "\u001b[36mLearning Rate: 0.000350\u001b[0m\n",
      "encontrou modelos efficientnet. Carregando...\n",
      "encontrou modelos convnext. Carregando...\n",
      "encontrou modelos mobilenet. Carregando...\n",
      "encontrou modelos vgg16. Carregando...\n",
      "encontrou modelos resnet50. Carregando...\n",
      "encontrou modelos osnet. Carregando...\n",
      "encontrou modelos densenet121. Carregando...\n",
      "###============ Iteration number 65/90 ============###\n",
      "Extracting Online Features for efficientnet ...\n",
      "Features extracted in 194.72 seconds\n",
      "Computing jaccard distance...\n"
     ]
    },
    {
     "name": "stderr",
     "output_type": "stream",
     "text": [
      "bruteForceKnn is deprecated; call bfKnn instead\n"
     ]
    },
    {
     "name": "stdout",
     "output_type": "stream",
     "text": [
      "Jaccard distance computing time cost: 79.06938767433167\n",
      "Extracting Online Features for convnext ...\n",
      "Features extracted in 204.48 seconds\n",
      "Computing jaccard distance...\n"
     ]
    },
    {
     "name": "stderr",
     "output_type": "stream",
     "text": [
      "bruteForceKnn is deprecated; call bfKnn instead\n"
     ]
    },
    {
     "name": "stdout",
     "output_type": "stream",
     "text": [
      "Jaccard distance computing time cost: 79.06011748313904\n",
      "Extracting Online Features for mobilenet ...\n",
      "Features extracted in 200.62 seconds\n",
      "Computing jaccard distance...\n"
     ]
    },
    {
     "name": "stderr",
     "output_type": "stream",
     "text": [
      "bruteForceKnn is deprecated; call bfKnn instead\n"
     ]
    },
    {
     "name": "stdout",
     "output_type": "stream",
     "text": [
      "Jaccard distance computing time cost: 80.05110812187195\n",
      "Extracting Online Features for vgg16 ...\n",
      "Features extracted in 205.66 seconds\n",
      "Computing jaccard distance...\n"
     ]
    },
    {
     "name": "stderr",
     "output_type": "stream",
     "text": [
      "bruteForceKnn is deprecated; call bfKnn instead\n"
     ]
    },
    {
     "name": "stdout",
     "output_type": "stream",
     "text": [
      "Jaccard distance computing time cost: 80.02529191970825\n",
      "Extracting Online Features for resnet50 ...\n",
      "Features extracted in 197.98 seconds\n",
      "Computing jaccard distance...\n"
     ]
    },
    {
     "name": "stderr",
     "output_type": "stream",
     "text": [
      "bruteForceKnn is deprecated; call bfKnn instead\n"
     ]
    },
    {
     "name": "stdout",
     "output_type": "stream",
     "text": [
      "Jaccard distance computing time cost: 79.90178155899048\n",
      "Extracting Online Features for osnet ...\n",
      "Features extracted in 199.57 seconds\n",
      "Computing jaccard distance...\n"
     ]
    },
    {
     "name": "stderr",
     "output_type": "stream",
     "text": [
      "bruteForceKnn is deprecated; call bfKnn instead\n"
     ]
    },
    {
     "name": "stdout",
     "output_type": "stream",
     "text": [
      "Jaccard distance computing time cost: 77.76925492286682\n",
      "Extracting Online Features for densenet121 ...\n",
      "Features extracted in 193.30 seconds\n",
      "Computing jaccard distance...\n"
     ]
    },
    {
     "name": "stderr",
     "output_type": "stream",
     "text": [
      "bruteForceKnn is deprecated; call bfKnn instead\n"
     ]
    },
    {
     "name": "stdout",
     "output_type": "stream",
     "text": [
      "Jaccard distance computing time cost: 88.3249351978302\n",
      "Reliability: 0.998\n",
      "\u001b[32mMean Purity: 0.00164\u001b[0m\n",
      "\u001b[34mThere are 2 clusters with 4 cameras\u001b[0m\n",
      "\u001b[34mThere are 4 clusters with 5 cameras\u001b[0m\n",
      "\u001b[34mThere are 1 clusters with 8 cameras\u001b[0m\n",
      "\u001b[34mThere are 1 clusters with 10 cameras\u001b[0m\n",
      "\u001b[34mThere are 1 clusters with 13 cameras\u001b[0m\n",
      "\u001b[34mThere are 1 clusters with 16 cameras\u001b[0m\n",
      "\u001b[34mThere are 2 clusters with 18 cameras\u001b[0m\n",
      "\u001b[34mThere are 1 clusters with 26 cameras\u001b[0m\n",
      "\u001b[34mThere are 1 clusters with 27 cameras\u001b[0m\n",
      "\u001b[34mThere are 1 clusters with 30 cameras\u001b[0m\n",
      "\u001b[34mThere are 1 clusters with 34 cameras\u001b[0m\n",
      "\u001b[34mThere are 1 clusters with 37 cameras\u001b[0m\n",
      "\u001b[34mThere are 1 clusters with 38 cameras\u001b[0m\n",
      "\u001b[34mThere are 1 clusters with 44 cameras\u001b[0m\n",
      "\u001b[34mThere are 1 clusters with 47 cameras\u001b[0m\n",
      "\u001b[34mThere are 1 clusters with 48 cameras\u001b[0m\n",
      "\u001b[34mThere are 1 clusters with 52 cameras\u001b[0m\n",
      "\u001b[34mThere are 1 clusters with 54 cameras\u001b[0m\n",
      "\u001b[34mThere are 2 clusters with 58 cameras\u001b[0m\n",
      "\u001b[34mThere are 4 clusters with 59 cameras\u001b[0m\n",
      "\u001b[34mThere are 1 clusters with 60 cameras\u001b[0m\n",
      "\u001b[34mThere are 13 clusters with 61 cameras\u001b[0m\n",
      "\u001b[34mThere are 10 clusters with 62 cameras\u001b[0m\n",
      "\u001b[34mThere are 16 clusters with 63 cameras\u001b[0m\n",
      "\u001b[34mThere are 538 clusters with 64 cameras\u001b[0m\n",
      "\u001b[34mThere are 1 clusters with 108 cameras\u001b[0m\n",
      "\u001b[34mThere are 1 clusters with 127 cameras\u001b[0m\n",
      "\u001b[34mThere are 2 clusters with 128 cameras\u001b[0m\n",
      "Number of classes: 611\n",
      "\u001b[36mLearning Rate: 0.000350\u001b[0m\n",
      "encontrou modelos efficientnet. Carregando...\n",
      "encontrou modelos convnext. Carregando...\n",
      "encontrou modelos mobilenet. Carregando...\n",
      "encontrou modelos vgg16. Carregando...\n",
      "encontrou modelos resnet50. Carregando...\n",
      "encontrou modelos osnet. Carregando...\n",
      "encontrou modelos densenet121. Carregando...\n",
      "\u001b[33mValidating online efficientnet ...\u001b[0m\n",
      "Features extracted in 61.27 seconds\n",
      "Features extracted in 110.94 seconds\n",
      "Computing CMC and mAP ...\n",
      "** Results **\n",
      "mAP: 72.74%\n",
      "CMC curve\n",
      "Rank-1  : 86.50%\n",
      "Rank-5  : 96.56%\n",
      "Rank-10 : 98.57%\n",
      "Rank-20 : 99.42%\n",
      "\u001b[33mValidating momentum efficientnet ...\u001b[0m\n",
      "Features extracted in 149.20 seconds\n",
      "Features extracted in 206.25 seconds\n",
      "Computing CMC and mAP ...\n",
      "** Results **\n",
      "mAP: 71.24%\n",
      "CMC curve\n",
      "Rank-1  : 78.00%\n",
      "Rank-5  : 94.78%\n",
      "Rank-10 : 98.01%\n",
      "Rank-20 : 99.39%\n",
      "\u001b[33mValidating online convnext ...\u001b[0m\n",
      "Features extracted in 65.32 seconds\n",
      "Features extracted in 116.19 seconds\n",
      "Computing CMC and mAP ...\n",
      "** Results **\n",
      "mAP: 75.86%\n",
      "CMC curve\n",
      "Rank-1  : 90.47%\n",
      "Rank-5  : 95.47%\n",
      "Rank-10 : 97.23%\n",
      "Rank-20 : 99.00%\n",
      "\u001b[33mValidating momentum convnext ...\u001b[0m\n",
      "Features extracted in 65.12 seconds\n",
      "Features extracted in 118.13 seconds\n",
      "Computing CMC and mAP ...\n",
      "** Results **\n",
      "mAP: 70.89%\n",
      "CMC curve\n",
      "Rank-1  : 81.10%\n",
      "Rank-5  : 94.32%\n",
      "Rank-10 : 97.06%\n",
      "Rank-20 : 98.73%\n",
      "\u001b[33mValidating online mobilenet ...\u001b[0m\n",
      "Features extracted in 59.84 seconds\n",
      "Features extracted in 107.70 seconds\n",
      "Computing CMC and mAP ...\n",
      "** Results **\n",
      "mAP: 71.69%\n",
      "CMC curve\n",
      "Rank-1  : 87.20%\n",
      "Rank-5  : 96.74%\n",
      "Rank-10 : 98.85%\n",
      "Rank-20 : 99.71%\n",
      "\u001b[33mValidating momentum mobilenet ...\u001b[0m\n",
      "Features extracted in 57.29 seconds\n",
      "Features extracted in 107.72 seconds\n",
      "Computing CMC and mAP ...\n",
      "** Results **\n",
      "mAP: 71.41%\n",
      "CMC curve\n",
      "Rank-1  : 83.91%\n",
      "Rank-5  : 95.41%\n",
      "Rank-10 : 98.08%\n",
      "Rank-20 : 99.14%\n",
      "\u001b[33mValidating online vgg16 ...\u001b[0m\n",
      "Features extracted in 59.98 seconds\n",
      "Features extracted in 108.85 seconds\n",
      "Computing CMC and mAP ...\n",
      "** Results **\n",
      "mAP: 72.14%\n",
      "CMC curve\n",
      "Rank-1  : 87.41%\n",
      "Rank-5  : 96.72%\n",
      "Rank-10 : 98.80%\n",
      "Rank-20 : 99.68%\n",
      "\u001b[33mValidating momentum vgg16 ...\u001b[0m\n",
      "Features extracted in 59.40 seconds\n",
      "Features extracted in 115.42 seconds\n",
      "Computing CMC and mAP ...\n",
      "** Results **\n",
      "mAP: 71.15%\n",
      "CMC curve\n",
      "Rank-1  : 79.56%\n",
      "Rank-5  : 95.82%\n",
      "Rank-10 : 98.64%\n",
      "Rank-20 : 99.55%\n",
      "\u001b[33mValidating online resnet50 ...\u001b[0m\n",
      "Features extracted in 59.32 seconds\n",
      "Features extracted in 108.86 seconds\n",
      "Computing CMC and mAP ...\n",
      "** Results **\n",
      "mAP: 72.93%\n",
      "CMC curve\n",
      "Rank-1  : 89.22%\n",
      "Rank-5  : 97.35%\n",
      "Rank-10 : 99.02%\n",
      "Rank-20 : 99.75%\n",
      "\u001b[33mValidating momentum resnet50 ...\u001b[0m\n",
      "Features extracted in 63.06 seconds\n",
      "Features extracted in 113.31 seconds\n",
      "Computing CMC and mAP ...\n",
      "** Results **\n",
      "mAP: 74.37%\n",
      "CMC curve\n",
      "Rank-1  : 90.07%\n",
      "Rank-5  : 97.95%\n",
      "Rank-10 : 99.19%\n",
      "Rank-20 : 99.74%\n",
      "\u001b[33mValidating online osnet ...\u001b[0m\n",
      "Features extracted in 61.96 seconds\n",
      "Features extracted in 115.35 seconds\n",
      "Computing CMC and mAP ...\n",
      "** Results **\n",
      "mAP: 71.05%\n",
      "CMC curve\n",
      "Rank-1  : 81.59%\n",
      "Rank-5  : 95.73%\n",
      "Rank-10 : 98.23%\n",
      "Rank-20 : 99.54%\n",
      "\u001b[33mValidating momentum osnet ...\u001b[0m\n",
      "Features extracted in 60.42 seconds\n",
      "Features extracted in 109.49 seconds\n",
      "Computing CMC and mAP ...\n",
      "** Results **\n",
      "mAP: 73.09%\n",
      "CMC curve\n",
      "Rank-1  : 81.93%\n",
      "Rank-5  : 95.43%\n",
      "Rank-10 : 98.30%\n",
      "Rank-20 : 99.46%\n",
      "\u001b[33mValidating online densenet121 ...\u001b[0m\n",
      "Features extracted in 63.60 seconds\n",
      "Features extracted in 113.49 seconds\n",
      "Computing CMC and mAP ...\n",
      "** Results **\n",
      "mAP: 74.36%\n",
      "CMC curve\n",
      "Rank-1  : 92.33%\n",
      "Rank-5  : 98.60%\n",
      "Rank-10 : 99.56%\n",
      "Rank-20 : 99.86%\n",
      "\u001b[33mValidating momentum densenet121 ...\u001b[0m\n",
      "Features extracted in 82.02 seconds\n",
      "Features extracted in 111.42 seconds\n",
      "Computing CMC and mAP ...\n",
      "** Results **\n",
      "mAP: 74.16%\n",
      "CMC curve\n",
      "Rank-1  : 86.99%\n",
      "Rank-5  : 96.54%\n",
      "Rank-10 : 98.30%\n",
      "Rank-20 : 99.46%\n",
      "\u001b[33mValidating ensembled with online models ...\u001b[0m\n",
      "Computing CMC and mAP ...\n",
      "** Results **\n",
      "mAP: 75.80%\n",
      "Ranks:\n",
      "Rank-1  : 96.73%\n",
      "Rank-5  : 98.98%\n",
      "Rank-10 : 99.48%\n",
      "\u001b[33mValidating ensembled with momentum models ...\u001b[0m\n",
      "Computing CMC and mAP ...\n",
      "** Results **\n",
      "mAP: 74.25%\n",
      "Ranks:\n",
      "Rank-1  : 87.54%\n",
      "Rank-5  : 96.96%\n",
      "Rank-10 : 98.89%\n",
      "###============ Iteration number 66/90 ============###\n",
      "Extracting Online Features for efficientnet ...\n",
      "Features extracted in 679.29 seconds\n",
      "Computing jaccard distance...\n"
     ]
    },
    {
     "name": "stderr",
     "output_type": "stream",
     "text": [
      "bruteForceKnn is deprecated; call bfKnn instead\n"
     ]
    },
    {
     "name": "stdout",
     "output_type": "stream",
     "text": [
      "Jaccard distance computing time cost: 83.1144437789917\n",
      "Extracting Online Features for convnext ...\n",
      "Features extracted in 200.59 seconds\n",
      "Computing jaccard distance...\n"
     ]
    },
    {
     "name": "stderr",
     "output_type": "stream",
     "text": [
      "bruteForceKnn is deprecated; call bfKnn instead\n"
     ]
    },
    {
     "name": "stdout",
     "output_type": "stream",
     "text": [
      "Jaccard distance computing time cost: 78.7913408279419\n",
      "Extracting Online Features for mobilenet ...\n",
      "Features extracted in 202.63 seconds\n",
      "Computing jaccard distance...\n"
     ]
    },
    {
     "name": "stderr",
     "output_type": "stream",
     "text": [
      "bruteForceKnn is deprecated; call bfKnn instead\n"
     ]
    },
    {
     "name": "stdout",
     "output_type": "stream",
     "text": [
      "Jaccard distance computing time cost: 79.19574093818665\n",
      "Extracting Online Features for vgg16 ...\n",
      "Features extracted in 204.52 seconds\n",
      "Computing jaccard distance...\n"
     ]
    },
    {
     "name": "stderr",
     "output_type": "stream",
     "text": [
      "bruteForceKnn is deprecated; call bfKnn instead\n"
     ]
    },
    {
     "name": "stdout",
     "output_type": "stream",
     "text": [
      "Jaccard distance computing time cost: 86.21764945983887\n",
      "Extracting Online Features for resnet50 ...\n",
      "Features extracted in 198.77 seconds\n",
      "Computing jaccard distance...\n"
     ]
    },
    {
     "name": "stderr",
     "output_type": "stream",
     "text": [
      "bruteForceKnn is deprecated; call bfKnn instead\n"
     ]
    },
    {
     "name": "stdout",
     "output_type": "stream",
     "text": [
      "Jaccard distance computing time cost: 79.82212114334106\n",
      "Extracting Online Features for osnet ...\n",
      "Features extracted in 194.52 seconds\n",
      "Computing jaccard distance...\n"
     ]
    },
    {
     "name": "stderr",
     "output_type": "stream",
     "text": [
      "bruteForceKnn is deprecated; call bfKnn instead\n"
     ]
    },
    {
     "name": "stdout",
     "output_type": "stream",
     "text": [
      "Jaccard distance computing time cost: 76.86021995544434\n",
      "Extracting Online Features for densenet121 ...\n",
      "Features extracted in 202.02 seconds\n",
      "Computing jaccard distance...\n"
     ]
    },
    {
     "name": "stderr",
     "output_type": "stream",
     "text": [
      "bruteForceKnn is deprecated; call bfKnn instead\n"
     ]
    },
    {
     "name": "stdout",
     "output_type": "stream",
     "text": [
      "Jaccard distance computing time cost: 81.22192740440369\n",
      "Reliability: 0.998\n",
      "\u001b[32mMean Purity: 0.00164\u001b[0m\n",
      "\u001b[34mThere are 2 clusters with 4 cameras\u001b[0m\n",
      "\u001b[34mThere are 4 clusters with 5 cameras\u001b[0m\n",
      "\u001b[34mThere are 1 clusters with 8 cameras\u001b[0m\n",
      "\u001b[34mThere are 1 clusters with 10 cameras\u001b[0m\n",
      "\u001b[34mThere are 1 clusters with 13 cameras\u001b[0m\n",
      "\u001b[34mThere are 1 clusters with 16 cameras\u001b[0m\n",
      "\u001b[34mThere are 2 clusters with 18 cameras\u001b[0m\n",
      "\u001b[34mThere are 1 clusters with 26 cameras\u001b[0m\n",
      "\u001b[34mThere are 1 clusters with 27 cameras\u001b[0m\n",
      "\u001b[34mThere are 1 clusters with 30 cameras\u001b[0m\n",
      "\u001b[34mThere are 1 clusters with 34 cameras\u001b[0m\n",
      "\u001b[34mThere are 1 clusters with 37 cameras\u001b[0m\n",
      "\u001b[34mThere are 1 clusters with 38 cameras\u001b[0m\n",
      "\u001b[34mThere are 1 clusters with 44 cameras\u001b[0m\n",
      "\u001b[34mThere are 1 clusters with 47 cameras\u001b[0m\n",
      "\u001b[34mThere are 1 clusters with 48 cameras\u001b[0m\n",
      "\u001b[34mThere are 1 clusters with 52 cameras\u001b[0m\n",
      "\u001b[34mThere are 1 clusters with 54 cameras\u001b[0m\n",
      "\u001b[34mThere are 2 clusters with 58 cameras\u001b[0m\n",
      "\u001b[34mThere are 4 clusters with 59 cameras\u001b[0m\n",
      "\u001b[34mThere are 1 clusters with 60 cameras\u001b[0m\n",
      "\u001b[34mThere are 13 clusters with 61 cameras\u001b[0m\n",
      "\u001b[34mThere are 10 clusters with 62 cameras\u001b[0m\n",
      "\u001b[34mThere are 16 clusters with 63 cameras\u001b[0m\n",
      "\u001b[34mThere are 538 clusters with 64 cameras\u001b[0m\n",
      "\u001b[34mThere are 1 clusters with 108 cameras\u001b[0m\n",
      "\u001b[34mThere are 1 clusters with 127 cameras\u001b[0m\n",
      "\u001b[34mThere are 2 clusters with 128 cameras\u001b[0m\n",
      "Number of classes: 611\n",
      "\u001b[36mLearning Rate: 0.000350\u001b[0m\n",
      "encontrou modelos efficientnet. Carregando...\n",
      "encontrou modelos convnext. Carregando...\n",
      "encontrou modelos mobilenet. Carregando...\n",
      "encontrou modelos vgg16. Carregando...\n",
      "encontrou modelos resnet50. Carregando...\n",
      "encontrou modelos osnet. Carregando...\n",
      "encontrou modelos densenet121. Carregando...\n",
      "###============ Iteration number 67/90 ============###\n",
      "Extracting Online Features for efficientnet ...\n",
      "Features extracted in 199.11 seconds\n",
      "Computing jaccard distance...\n"
     ]
    },
    {
     "name": "stderr",
     "output_type": "stream",
     "text": [
      "bruteForceKnn is deprecated; call bfKnn instead\n"
     ]
    },
    {
     "name": "stdout",
     "output_type": "stream",
     "text": [
      "Jaccard distance computing time cost: 79.48712944984436\n",
      "Extracting Online Features for convnext ...\n",
      "Features extracted in 211.30 seconds\n",
      "Computing jaccard distance...\n"
     ]
    },
    {
     "name": "stderr",
     "output_type": "stream",
     "text": [
      "bruteForceKnn is deprecated; call bfKnn instead\n"
     ]
    },
    {
     "name": "stdout",
     "output_type": "stream",
     "text": [
      "Jaccard distance computing time cost: 86.93012928962708\n",
      "Extracting Online Features for mobilenet ...\n",
      "Features extracted in 194.51 seconds\n",
      "Computing jaccard distance...\n"
     ]
    },
    {
     "name": "stderr",
     "output_type": "stream",
     "text": [
      "bruteForceKnn is deprecated; call bfKnn instead\n"
     ]
    },
    {
     "name": "stdout",
     "output_type": "stream",
     "text": [
      "Jaccard distance computing time cost: 79.1534776687622\n",
      "Extracting Online Features for vgg16 ...\n",
      "Features extracted in 201.87 seconds\n",
      "Computing jaccard distance...\n"
     ]
    },
    {
     "name": "stderr",
     "output_type": "stream",
     "text": [
      "bruteForceKnn is deprecated; call bfKnn instead\n"
     ]
    },
    {
     "name": "stdout",
     "output_type": "stream",
     "text": [
      "Jaccard distance computing time cost: 85.60810327529907\n",
      "Extracting Online Features for resnet50 ...\n",
      "Features extracted in 204.87 seconds\n",
      "Computing jaccard distance...\n"
     ]
    },
    {
     "name": "stderr",
     "output_type": "stream",
     "text": [
      "bruteForceKnn is deprecated; call bfKnn instead\n"
     ]
    },
    {
     "name": "stdout",
     "output_type": "stream",
     "text": [
      "Jaccard distance computing time cost: 80.56952738761902\n",
      "Extracting Online Features for osnet ...\n",
      "Features extracted in 202.24 seconds\n",
      "Computing jaccard distance...\n"
     ]
    },
    {
     "name": "stderr",
     "output_type": "stream",
     "text": [
      "bruteForceKnn is deprecated; call bfKnn instead\n"
     ]
    },
    {
     "name": "stdout",
     "output_type": "stream",
     "text": [
      "Jaccard distance computing time cost: 77.15850114822388\n",
      "Extracting Online Features for densenet121 ...\n",
      "Features extracted in 193.57 seconds\n",
      "Computing jaccard distance...\n"
     ]
    },
    {
     "name": "stderr",
     "output_type": "stream",
     "text": [
      "bruteForceKnn is deprecated; call bfKnn instead\n"
     ]
    },
    {
     "name": "stdout",
     "output_type": "stream",
     "text": [
      "Jaccard distance computing time cost: 84.56293940544128\n",
      "Reliability: 0.998\n",
      "\u001b[32mMean Purity: 0.00164\u001b[0m\n",
      "\u001b[34mThere are 2 clusters with 4 cameras\u001b[0m\n",
      "\u001b[34mThere are 4 clusters with 5 cameras\u001b[0m\n",
      "\u001b[34mThere are 1 clusters with 8 cameras\u001b[0m\n",
      "\u001b[34mThere are 1 clusters with 10 cameras\u001b[0m\n",
      "\u001b[34mThere are 1 clusters with 13 cameras\u001b[0m\n",
      "\u001b[34mThere are 1 clusters with 16 cameras\u001b[0m\n",
      "\u001b[34mThere are 2 clusters with 18 cameras\u001b[0m\n",
      "\u001b[34mThere are 1 clusters with 26 cameras\u001b[0m\n",
      "\u001b[34mThere are 1 clusters with 27 cameras\u001b[0m\n",
      "\u001b[34mThere are 1 clusters with 30 cameras\u001b[0m\n",
      "\u001b[34mThere are 1 clusters with 34 cameras\u001b[0m\n",
      "\u001b[34mThere are 1 clusters with 37 cameras\u001b[0m\n",
      "\u001b[34mThere are 1 clusters with 38 cameras\u001b[0m\n",
      "\u001b[34mThere are 1 clusters with 44 cameras\u001b[0m\n",
      "\u001b[34mThere are 1 clusters with 47 cameras\u001b[0m\n",
      "\u001b[34mThere are 1 clusters with 48 cameras\u001b[0m\n",
      "\u001b[34mThere are 1 clusters with 52 cameras\u001b[0m\n",
      "\u001b[34mThere are 1 clusters with 54 cameras\u001b[0m\n",
      "\u001b[34mThere are 2 clusters with 58 cameras\u001b[0m\n",
      "\u001b[34mThere are 4 clusters with 59 cameras\u001b[0m\n",
      "\u001b[34mThere are 1 clusters with 60 cameras\u001b[0m\n",
      "\u001b[34mThere are 13 clusters with 61 cameras\u001b[0m\n",
      "\u001b[34mThere are 10 clusters with 62 cameras\u001b[0m\n",
      "\u001b[34mThere are 16 clusters with 63 cameras\u001b[0m\n",
      "\u001b[34mThere are 538 clusters with 64 cameras\u001b[0m\n",
      "\u001b[34mThere are 1 clusters with 108 cameras\u001b[0m\n",
      "\u001b[34mThere are 1 clusters with 127 cameras\u001b[0m\n",
      "\u001b[34mThere are 2 clusters with 128 cameras\u001b[0m\n",
      "Number of classes: 611\n",
      "\u001b[36mLearning Rate: 0.000350\u001b[0m\n",
      "encontrou modelos efficientnet. Carregando...\n",
      "encontrou modelos convnext. Carregando...\n",
      "encontrou modelos mobilenet. Carregando...\n",
      "encontrou modelos vgg16. Carregando...\n",
      "encontrou modelos resnet50. Carregando...\n",
      "encontrou modelos osnet. Carregando...\n",
      "encontrou modelos densenet121. Carregando...\n",
      "###============ Iteration number 68/90 ============###\n",
      "Extracting Online Features for efficientnet ...\n",
      "Features extracted in 210.85 seconds\n",
      "Computing jaccard distance...\n"
     ]
    },
    {
     "name": "stderr",
     "output_type": "stream",
     "text": [
      "bruteForceKnn is deprecated; call bfKnn instead\n"
     ]
    },
    {
     "name": "stdout",
     "output_type": "stream",
     "text": [
      "Jaccard distance computing time cost: 79.90376877784729\n",
      "Extracting Online Features for convnext ...\n",
      "Features extracted in 204.07 seconds\n",
      "Computing jaccard distance...\n"
     ]
    },
    {
     "name": "stderr",
     "output_type": "stream",
     "text": [
      "bruteForceKnn is deprecated; call bfKnn instead\n"
     ]
    },
    {
     "name": "stdout",
     "output_type": "stream",
     "text": [
      "Jaccard distance computing time cost: 78.83503770828247\n",
      "Extracting Online Features for mobilenet ...\n",
      "Features extracted in 195.51 seconds\n",
      "Computing jaccard distance...\n"
     ]
    },
    {
     "name": "stderr",
     "output_type": "stream",
     "text": [
      "bruteForceKnn is deprecated; call bfKnn instead\n"
     ]
    },
    {
     "name": "stdout",
     "output_type": "stream",
     "text": [
      "Jaccard distance computing time cost: 79.88909697532654\n",
      "Extracting Online Features for vgg16 ...\n",
      "Features extracted in 201.77 seconds\n",
      "Computing jaccard distance...\n"
     ]
    },
    {
     "name": "stderr",
     "output_type": "stream",
     "text": [
      "bruteForceKnn is deprecated; call bfKnn instead\n"
     ]
    },
    {
     "name": "stdout",
     "output_type": "stream",
     "text": [
      "Jaccard distance computing time cost: 79.41366577148438\n",
      "Extracting Online Features for resnet50 ...\n",
      "Features extracted in 198.13 seconds\n",
      "Computing jaccard distance...\n"
     ]
    },
    {
     "name": "stderr",
     "output_type": "stream",
     "text": [
      "bruteForceKnn is deprecated; call bfKnn instead\n"
     ]
    },
    {
     "name": "stdout",
     "output_type": "stream",
     "text": [
      "Jaccard distance computing time cost: 78.73668146133423\n",
      "Extracting Online Features for osnet ...\n",
      "Features extracted in 194.81 seconds\n",
      "Computing jaccard distance...\n"
     ]
    },
    {
     "name": "stderr",
     "output_type": "stream",
     "text": [
      "bruteForceKnn is deprecated; call bfKnn instead\n"
     ]
    },
    {
     "name": "stdout",
     "output_type": "stream",
     "text": [
      "Jaccard distance computing time cost: 94.05039668083191\n",
      "Extracting Online Features for densenet121 ...\n",
      "Features extracted in 207.34 seconds\n",
      "Computing jaccard distance...\n"
     ]
    },
    {
     "name": "stderr",
     "output_type": "stream",
     "text": [
      "bruteForceKnn is deprecated; call bfKnn instead\n"
     ]
    },
    {
     "name": "stdout",
     "output_type": "stream",
     "text": [
      "Jaccard distance computing time cost: 79.49964642524719\n",
      "Reliability: 0.998\n",
      "\u001b[32mMean Purity: 0.00164\u001b[0m\n",
      "\u001b[34mThere are 2 clusters with 4 cameras\u001b[0m\n",
      "\u001b[34mThere are 4 clusters with 5 cameras\u001b[0m\n",
      "\u001b[34mThere are 1 clusters with 8 cameras\u001b[0m\n",
      "\u001b[34mThere are 1 clusters with 10 cameras\u001b[0m\n",
      "\u001b[34mThere are 1 clusters with 13 cameras\u001b[0m\n",
      "\u001b[34mThere are 1 clusters with 16 cameras\u001b[0m\n",
      "\u001b[34mThere are 2 clusters with 18 cameras\u001b[0m\n",
      "\u001b[34mThere are 1 clusters with 26 cameras\u001b[0m\n",
      "\u001b[34mThere are 1 clusters with 27 cameras\u001b[0m\n",
      "\u001b[34mThere are 1 clusters with 30 cameras\u001b[0m\n",
      "\u001b[34mThere are 1 clusters with 34 cameras\u001b[0m\n",
      "\u001b[34mThere are 1 clusters with 37 cameras\u001b[0m\n",
      "\u001b[34mThere are 1 clusters with 38 cameras\u001b[0m\n",
      "\u001b[34mThere are 1 clusters with 44 cameras\u001b[0m\n",
      "\u001b[34mThere are 1 clusters with 47 cameras\u001b[0m\n",
      "\u001b[34mThere are 1 clusters with 48 cameras\u001b[0m\n",
      "\u001b[34mThere are 1 clusters with 52 cameras\u001b[0m\n",
      "\u001b[34mThere are 1 clusters with 54 cameras\u001b[0m\n",
      "\u001b[34mThere are 2 clusters with 58 cameras\u001b[0m\n",
      "\u001b[34mThere are 4 clusters with 59 cameras\u001b[0m\n",
      "\u001b[34mThere are 1 clusters with 60 cameras\u001b[0m\n",
      "\u001b[34mThere are 13 clusters with 61 cameras\u001b[0m\n",
      "\u001b[34mThere are 10 clusters with 62 cameras\u001b[0m\n",
      "\u001b[34mThere are 16 clusters with 63 cameras\u001b[0m\n",
      "\u001b[34mThere are 538 clusters with 64 cameras\u001b[0m\n",
      "\u001b[34mThere are 1 clusters with 108 cameras\u001b[0m\n",
      "\u001b[34mThere are 1 clusters with 127 cameras\u001b[0m\n",
      "\u001b[34mThere are 2 clusters with 128 cameras\u001b[0m\n",
      "Number of classes: 611\n",
      "\u001b[36mLearning Rate: 0.000350\u001b[0m\n",
      "encontrou modelos efficientnet. Carregando...\n",
      "encontrou modelos convnext. Carregando...\n",
      "encontrou modelos mobilenet. Carregando...\n",
      "encontrou modelos vgg16. Carregando...\n",
      "encontrou modelos resnet50. Carregando...\n",
      "encontrou modelos osnet. Carregando...\n",
      "encontrou modelos densenet121. Carregando...\n",
      "###============ Iteration number 69/90 ============###\n",
      "Extracting Online Features for efficientnet ...\n",
      "Features extracted in 202.03 seconds\n",
      "Computing jaccard distance...\n"
     ]
    },
    {
     "name": "stderr",
     "output_type": "stream",
     "text": [
      "bruteForceKnn is deprecated; call bfKnn instead\n"
     ]
    },
    {
     "name": "stdout",
     "output_type": "stream",
     "text": [
      "Jaccard distance computing time cost: 86.07424879074097\n",
      "Extracting Online Features for convnext ...\n",
      "Features extracted in 206.06 seconds\n",
      "Computing jaccard distance...\n"
     ]
    },
    {
     "name": "stderr",
     "output_type": "stream",
     "text": [
      "bruteForceKnn is deprecated; call bfKnn instead\n"
     ]
    },
    {
     "name": "stdout",
     "output_type": "stream",
     "text": [
      "Jaccard distance computing time cost: 79.07905125617981\n",
      "Extracting Online Features for mobilenet ...\n",
      "Features extracted in 195.33 seconds\n",
      "Computing jaccard distance...\n"
     ]
    },
    {
     "name": "stderr",
     "output_type": "stream",
     "text": [
      "bruteForceKnn is deprecated; call bfKnn instead\n"
     ]
    },
    {
     "name": "stdout",
     "output_type": "stream",
     "text": [
      "Jaccard distance computing time cost: 79.19751739501953\n",
      "Extracting Online Features for vgg16 ...\n",
      "Features extracted in 200.36 seconds\n",
      "Computing jaccard distance...\n"
     ]
    },
    {
     "name": "stderr",
     "output_type": "stream",
     "text": [
      "bruteForceKnn is deprecated; call bfKnn instead\n"
     ]
    },
    {
     "name": "stdout",
     "output_type": "stream",
     "text": [
      "Jaccard distance computing time cost: 79.91473078727722\n",
      "Extracting Online Features for resnet50 ...\n",
      "Features extracted in 196.78 seconds\n",
      "Computing jaccard distance...\n"
     ]
    },
    {
     "name": "stderr",
     "output_type": "stream",
     "text": [
      "bruteForceKnn is deprecated; call bfKnn instead\n"
     ]
    },
    {
     "name": "stdout",
     "output_type": "stream",
     "text": [
      "Jaccard distance computing time cost: 82.5938880443573\n",
      "Extracting Online Features for osnet ...\n",
      "Features extracted in 196.71 seconds\n",
      "Computing jaccard distance...\n"
     ]
    },
    {
     "name": "stderr",
     "output_type": "stream",
     "text": [
      "bruteForceKnn is deprecated; call bfKnn instead\n"
     ]
    },
    {
     "name": "stdout",
     "output_type": "stream",
     "text": [
      "Jaccard distance computing time cost: 79.26891994476318\n",
      "Extracting Online Features for densenet121 ...\n",
      "Features extracted in 204.06 seconds\n",
      "Computing jaccard distance...\n"
     ]
    },
    {
     "name": "stderr",
     "output_type": "stream",
     "text": [
      "bruteForceKnn is deprecated; call bfKnn instead\n"
     ]
    },
    {
     "name": "stdout",
     "output_type": "stream",
     "text": [
      "Jaccard distance computing time cost: 80.45337867736816\n",
      "Reliability: 0.998\n",
      "\u001b[32mMean Purity: 0.00164\u001b[0m\n",
      "\u001b[34mThere are 2 clusters with 4 cameras\u001b[0m\n",
      "\u001b[34mThere are 4 clusters with 5 cameras\u001b[0m\n",
      "\u001b[34mThere are 1 clusters with 8 cameras\u001b[0m\n",
      "\u001b[34mThere are 1 clusters with 10 cameras\u001b[0m\n",
      "\u001b[34mThere are 1 clusters with 13 cameras\u001b[0m\n",
      "\u001b[34mThere are 1 clusters with 16 cameras\u001b[0m\n",
      "\u001b[34mThere are 2 clusters with 18 cameras\u001b[0m\n",
      "\u001b[34mThere are 1 clusters with 26 cameras\u001b[0m\n",
      "\u001b[34mThere are 1 clusters with 27 cameras\u001b[0m\n",
      "\u001b[34mThere are 1 clusters with 30 cameras\u001b[0m\n",
      "\u001b[34mThere are 1 clusters with 34 cameras\u001b[0m\n",
      "\u001b[34mThere are 1 clusters with 37 cameras\u001b[0m\n",
      "\u001b[34mThere are 1 clusters with 38 cameras\u001b[0m\n",
      "\u001b[34mThere are 1 clusters with 44 cameras\u001b[0m\n",
      "\u001b[34mThere are 1 clusters with 47 cameras\u001b[0m\n",
      "\u001b[34mThere are 1 clusters with 48 cameras\u001b[0m\n",
      "\u001b[34mThere are 1 clusters with 52 cameras\u001b[0m\n",
      "\u001b[34mThere are 1 clusters with 54 cameras\u001b[0m\n",
      "\u001b[34mThere are 2 clusters with 58 cameras\u001b[0m\n",
      "\u001b[34mThere are 4 clusters with 59 cameras\u001b[0m\n",
      "\u001b[34mThere are 1 clusters with 60 cameras\u001b[0m\n",
      "\u001b[34mThere are 13 clusters with 61 cameras\u001b[0m\n",
      "\u001b[34mThere are 10 clusters with 62 cameras\u001b[0m\n",
      "\u001b[34mThere are 16 clusters with 63 cameras\u001b[0m\n",
      "\u001b[34mThere are 538 clusters with 64 cameras\u001b[0m\n",
      "\u001b[34mThere are 1 clusters with 108 cameras\u001b[0m\n",
      "\u001b[34mThere are 1 clusters with 127 cameras\u001b[0m\n",
      "\u001b[34mThere are 2 clusters with 128 cameras\u001b[0m\n",
      "Number of classes: 611\n",
      "\u001b[36mLearning Rate: 0.000350\u001b[0m\n",
      "encontrou modelos efficientnet. Carregando...\n",
      "encontrou modelos convnext. Carregando...\n",
      "encontrou modelos mobilenet. Carregando...\n",
      "encontrou modelos vgg16. Carregando...\n",
      "encontrou modelos resnet50. Carregando...\n",
      "encontrou modelos osnet. Carregando...\n",
      "encontrou modelos densenet121. Carregando...\n",
      "###============ Iteration number 70/90 ============###\n",
      "Extracting Online Features for efficientnet ...\n",
      "Features extracted in 198.67 seconds\n",
      "Computing jaccard distance...\n"
     ]
    },
    {
     "name": "stderr",
     "output_type": "stream",
     "text": [
      "bruteForceKnn is deprecated; call bfKnn instead\n"
     ]
    },
    {
     "name": "stdout",
     "output_type": "stream",
     "text": [
      "Jaccard distance computing time cost: 89.03025722503662\n",
      "Extracting Online Features for convnext ...\n",
      "Features extracted in 203.43 seconds\n",
      "Computing jaccard distance...\n"
     ]
    },
    {
     "name": "stderr",
     "output_type": "stream",
     "text": [
      "bruteForceKnn is deprecated; call bfKnn instead\n"
     ]
    },
    {
     "name": "stdout",
     "output_type": "stream",
     "text": [
      "Jaccard distance computing time cost: 78.76558494567871\n",
      "Extracting Online Features for mobilenet ...\n",
      "Features extracted in 199.47 seconds\n",
      "Computing jaccard distance...\n"
     ]
    },
    {
     "name": "stderr",
     "output_type": "stream",
     "text": [
      "bruteForceKnn is deprecated; call bfKnn instead\n"
     ]
    },
    {
     "name": "stdout",
     "output_type": "stream",
     "text": [
      "Jaccard distance computing time cost: 79.58069658279419\n",
      "Extracting Online Features for vgg16 ...\n",
      "Features extracted in 199.63 seconds\n",
      "Computing jaccard distance...\n"
     ]
    },
    {
     "name": "stderr",
     "output_type": "stream",
     "text": [
      "bruteForceKnn is deprecated; call bfKnn instead\n"
     ]
    },
    {
     "name": "stdout",
     "output_type": "stream",
     "text": [
      "Jaccard distance computing time cost: 80.33487391471863\n",
      "Extracting Online Features for resnet50 ...\n",
      "Features extracted in 206.77 seconds\n",
      "Computing jaccard distance...\n"
     ]
    },
    {
     "name": "stderr",
     "output_type": "stream",
     "text": [
      "bruteForceKnn is deprecated; call bfKnn instead\n"
     ]
    },
    {
     "name": "stdout",
     "output_type": "stream",
     "text": [
      "Jaccard distance computing time cost: 79.91291379928589\n",
      "Extracting Online Features for osnet ...\n",
      "Features extracted in 205.33 seconds\n",
      "Computing jaccard distance...\n"
     ]
    },
    {
     "name": "stderr",
     "output_type": "stream",
     "text": [
      "bruteForceKnn is deprecated; call bfKnn instead\n"
     ]
    },
    {
     "name": "stdout",
     "output_type": "stream",
     "text": [
      "Jaccard distance computing time cost: 77.9807116985321\n",
      "Extracting Online Features for densenet121 ...\n",
      "Features extracted in 196.38 seconds\n",
      "Computing jaccard distance...\n"
     ]
    },
    {
     "name": "stderr",
     "output_type": "stream",
     "text": [
      "bruteForceKnn is deprecated; call bfKnn instead\n"
     ]
    },
    {
     "name": "stdout",
     "output_type": "stream",
     "text": [
      "Jaccard distance computing time cost: 91.04825401306152\n",
      "Reliability: 0.998\n",
      "\u001b[32mMean Purity: 0.00164\u001b[0m\n",
      "\u001b[34mThere are 2 clusters with 4 cameras\u001b[0m\n",
      "\u001b[34mThere are 4 clusters with 5 cameras\u001b[0m\n",
      "\u001b[34mThere are 1 clusters with 8 cameras\u001b[0m\n",
      "\u001b[34mThere are 1 clusters with 10 cameras\u001b[0m\n",
      "\u001b[34mThere are 1 clusters with 13 cameras\u001b[0m\n",
      "\u001b[34mThere are 1 clusters with 16 cameras\u001b[0m\n",
      "\u001b[34mThere are 2 clusters with 18 cameras\u001b[0m\n",
      "\u001b[34mThere are 1 clusters with 26 cameras\u001b[0m\n",
      "\u001b[34mThere are 1 clusters with 27 cameras\u001b[0m\n",
      "\u001b[34mThere are 1 clusters with 30 cameras\u001b[0m\n",
      "\u001b[34mThere are 1 clusters with 34 cameras\u001b[0m\n",
      "\u001b[34mThere are 1 clusters with 37 cameras\u001b[0m\n",
      "\u001b[34mThere are 1 clusters with 38 cameras\u001b[0m\n",
      "\u001b[34mThere are 1 clusters with 44 cameras\u001b[0m\n",
      "\u001b[34mThere are 1 clusters with 47 cameras\u001b[0m\n",
      "\u001b[34mThere are 1 clusters with 48 cameras\u001b[0m\n",
      "\u001b[34mThere are 1 clusters with 52 cameras\u001b[0m\n",
      "\u001b[34mThere are 1 clusters with 54 cameras\u001b[0m\n",
      "\u001b[34mThere are 2 clusters with 58 cameras\u001b[0m\n",
      "\u001b[34mThere are 4 clusters with 59 cameras\u001b[0m\n",
      "\u001b[34mThere are 1 clusters with 60 cameras\u001b[0m\n",
      "\u001b[34mThere are 13 clusters with 61 cameras\u001b[0m\n",
      "\u001b[34mThere are 10 clusters with 62 cameras\u001b[0m\n",
      "\u001b[34mThere are 16 clusters with 63 cameras\u001b[0m\n",
      "\u001b[34mThere are 538 clusters with 64 cameras\u001b[0m\n",
      "\u001b[34mThere are 1 clusters with 108 cameras\u001b[0m\n",
      "\u001b[34mThere are 1 clusters with 127 cameras\u001b[0m\n",
      "\u001b[34mThere are 2 clusters with 128 cameras\u001b[0m\n",
      "Number of classes: 611\n",
      "\u001b[36mLearning Rate: 0.000350\u001b[0m\n",
      "encontrou modelos efficientnet. Carregando...\n",
      "encontrou modelos convnext. Carregando...\n",
      "encontrou modelos mobilenet. Carregando...\n",
      "encontrou modelos vgg16. Carregando...\n",
      "encontrou modelos resnet50. Carregando...\n",
      "encontrou modelos osnet. Carregando...\n",
      "encontrou modelos densenet121. Carregando...\n",
      "\u001b[33mValidating online efficientnet ...\u001b[0m\n",
      "Features extracted in 60.36 seconds\n",
      "Features extracted in 112.95 seconds\n",
      "Computing CMC and mAP ...\n",
      "** Results **\n",
      "mAP: 72.74%\n",
      "CMC curve\n",
      "Rank-1  : 86.50%\n",
      "Rank-5  : 96.56%\n",
      "Rank-10 : 98.57%\n",
      "Rank-20 : 99.42%\n",
      "\u001b[33mValidating momentum efficientnet ...\u001b[0m\n",
      "Features extracted in 60.15 seconds\n",
      "Features extracted in 111.21 seconds\n",
      "Computing CMC and mAP ...\n",
      "** Results **\n",
      "mAP: 71.24%\n",
      "CMC curve\n",
      "Rank-1  : 78.00%\n",
      "Rank-5  : 94.78%\n",
      "Rank-10 : 98.01%\n",
      "Rank-20 : 99.39%\n",
      "\u001b[33mValidating online convnext ...\u001b[0m\n",
      "Features extracted in 63.21 seconds\n",
      "Features extracted in 119.36 seconds\n",
      "Computing CMC and mAP ...\n",
      "** Results **\n",
      "mAP: 75.86%\n",
      "CMC curve\n",
      "Rank-1  : 90.47%\n",
      "Rank-5  : 95.47%\n",
      "Rank-10 : 97.23%\n",
      "Rank-20 : 99.00%\n",
      "\u001b[33mValidating momentum convnext ...\u001b[0m\n",
      "Features extracted in 63.09 seconds\n",
      "Features extracted in 118.86 seconds\n",
      "Computing CMC and mAP ...\n",
      "** Results **\n",
      "mAP: 70.89%\n",
      "CMC curve\n",
      "Rank-1  : 81.10%\n",
      "Rank-5  : 94.32%\n",
      "Rank-10 : 97.06%\n",
      "Rank-20 : 98.73%\n",
      "\u001b[33mValidating online mobilenet ...\u001b[0m\n",
      "Features extracted in 61.92 seconds\n",
      "Features extracted in 114.08 seconds\n",
      "Computing CMC and mAP ...\n",
      "** Results **\n",
      "mAP: 71.69%\n",
      "CMC curve\n",
      "Rank-1  : 87.20%\n",
      "Rank-5  : 96.74%\n",
      "Rank-10 : 98.85%\n",
      "Rank-20 : 99.71%\n",
      "\u001b[33mValidating momentum mobilenet ...\u001b[0m\n",
      "Features extracted in 61.78 seconds\n",
      "Features extracted in 115.76 seconds\n",
      "Computing CMC and mAP ...\n",
      "** Results **\n",
      "mAP: 71.41%\n",
      "CMC curve\n",
      "Rank-1  : 83.91%\n",
      "Rank-5  : 95.41%\n",
      "Rank-10 : 98.08%\n",
      "Rank-20 : 99.14%\n",
      "\u001b[33mValidating online vgg16 ...\u001b[0m\n",
      "Features extracted in 62.43 seconds\n",
      "Features extracted in 115.39 seconds\n",
      "Computing CMC and mAP ...\n",
      "** Results **\n",
      "mAP: 72.14%\n",
      "CMC curve\n",
      "Rank-1  : 87.41%\n",
      "Rank-5  : 96.72%\n",
      "Rank-10 : 98.80%\n",
      "Rank-20 : 99.68%\n",
      "\u001b[33mValidating momentum vgg16 ...\u001b[0m\n",
      "Features extracted in 60.34 seconds\n",
      "Features extracted in 113.24 seconds\n",
      "Computing CMC and mAP ...\n",
      "** Results **\n",
      "mAP: 71.15%\n",
      "CMC curve\n",
      "Rank-1  : 79.56%\n",
      "Rank-5  : 95.82%\n",
      "Rank-10 : 98.64%\n",
      "Rank-20 : 99.55%\n",
      "\u001b[33mValidating online resnet50 ...\u001b[0m\n",
      "Features extracted in 63.64 seconds\n",
      "Features extracted in 114.09 seconds\n",
      "Computing CMC and mAP ...\n",
      "** Results **\n",
      "mAP: 72.93%\n",
      "CMC curve\n",
      "Rank-1  : 89.22%\n",
      "Rank-5  : 97.35%\n",
      "Rank-10 : 99.02%\n",
      "Rank-20 : 99.75%\n",
      "\u001b[33mValidating momentum resnet50 ...\u001b[0m\n",
      "Features extracted in 64.69 seconds\n",
      "Features extracted in 115.83 seconds\n",
      "Computing CMC and mAP ...\n",
      "** Results **\n",
      "mAP: 74.37%\n",
      "CMC curve\n",
      "Rank-1  : 90.07%\n",
      "Rank-5  : 97.95%\n",
      "Rank-10 : 99.19%\n",
      "Rank-20 : 99.74%\n",
      "\u001b[33mValidating online osnet ...\u001b[0m\n",
      "Features extracted in 62.71 seconds\n",
      "Features extracted in 117.98 seconds\n",
      "Computing CMC and mAP ...\n",
      "** Results **\n",
      "mAP: 71.05%\n",
      "CMC curve\n",
      "Rank-1  : 81.59%\n",
      "Rank-5  : 95.73%\n",
      "Rank-10 : 98.23%\n",
      "Rank-20 : 99.54%\n",
      "\u001b[33mValidating momentum osnet ...\u001b[0m\n",
      "Features extracted in 61.47 seconds\n",
      "Features extracted in 111.20 seconds\n",
      "Computing CMC and mAP ...\n",
      "** Results **\n",
      "mAP: 73.09%\n",
      "CMC curve\n",
      "Rank-1  : 81.93%\n",
      "Rank-5  : 95.43%\n",
      "Rank-10 : 98.30%\n",
      "Rank-20 : 99.46%\n",
      "\u001b[33mValidating online densenet121 ...\u001b[0m\n",
      "Features extracted in 66.12 seconds\n",
      "Features extracted in 114.44 seconds\n",
      "Computing CMC and mAP ...\n",
      "** Results **\n",
      "mAP: 74.36%\n",
      "CMC curve\n",
      "Rank-1  : 92.33%\n",
      "Rank-5  : 98.60%\n",
      "Rank-10 : 99.56%\n",
      "Rank-20 : 99.86%\n",
      "\u001b[33mValidating momentum densenet121 ...\u001b[0m\n",
      "Features extracted in 60.79 seconds\n",
      "Features extracted in 111.45 seconds\n",
      "Computing CMC and mAP ...\n",
      "** Results **\n",
      "mAP: 74.16%\n",
      "CMC curve\n",
      "Rank-1  : 86.99%\n",
      "Rank-5  : 96.54%\n",
      "Rank-10 : 98.30%\n",
      "Rank-20 : 99.46%\n",
      "\u001b[33mValidating ensembled with online models ...\u001b[0m\n",
      "Computing CMC and mAP ...\n",
      "** Results **\n",
      "mAP: 75.80%\n",
      "Ranks:\n",
      "Rank-1  : 96.73%\n",
      "Rank-5  : 98.98%\n",
      "Rank-10 : 99.48%\n",
      "\u001b[33mValidating ensembled with momentum models ...\u001b[0m\n",
      "Computing CMC and mAP ...\n",
      "** Results **\n",
      "mAP: 74.25%\n",
      "Ranks:\n",
      "Rank-1  : 87.54%\n",
      "Rank-5  : 96.96%\n",
      "Rank-10 : 98.89%\n",
      "###============ Iteration number 71/90 ============###\n",
      "Extracting Online Features for efficientnet ...\n",
      "Features extracted in 503.34 seconds\n",
      "Computing jaccard distance...\n"
     ]
    },
    {
     "name": "stderr",
     "output_type": "stream",
     "text": [
      "bruteForceKnn is deprecated; call bfKnn instead\n"
     ]
    },
    {
     "name": "stdout",
     "output_type": "stream",
     "text": [
      "Jaccard distance computing time cost: 78.9572172164917\n",
      "Extracting Online Features for convnext ...\n",
      "Features extracted in 200.30 seconds\n",
      "Computing jaccard distance...\n"
     ]
    },
    {
     "name": "stderr",
     "output_type": "stream",
     "text": [
      "bruteForceKnn is deprecated; call bfKnn instead\n"
     ]
    },
    {
     "name": "stdout",
     "output_type": "stream",
     "text": [
      "Jaccard distance computing time cost: 86.315269947052\n",
      "Extracting Online Features for mobilenet ...\n",
      "Features extracted in 197.49 seconds\n",
      "Computing jaccard distance...\n"
     ]
    },
    {
     "name": "stderr",
     "output_type": "stream",
     "text": [
      "bruteForceKnn is deprecated; call bfKnn instead\n"
     ]
    },
    {
     "name": "stdout",
     "output_type": "stream",
     "text": [
      "Jaccard distance computing time cost: 80.0243866443634\n",
      "Extracting Online Features for vgg16 ...\n",
      "Features extracted in 197.53 seconds\n",
      "Computing jaccard distance...\n"
     ]
    },
    {
     "name": "stderr",
     "output_type": "stream",
     "text": [
      "bruteForceKnn is deprecated; call bfKnn instead\n"
     ]
    },
    {
     "name": "stdout",
     "output_type": "stream",
     "text": [
      "Jaccard distance computing time cost: 79.31058621406555\n",
      "Extracting Online Features for resnet50 ...\n",
      "Features extracted in 204.71 seconds\n",
      "Computing jaccard distance...\n"
     ]
    },
    {
     "name": "stderr",
     "output_type": "stream",
     "text": [
      "bruteForceKnn is deprecated; call bfKnn instead\n"
     ]
    },
    {
     "name": "stdout",
     "output_type": "stream",
     "text": [
      "Jaccard distance computing time cost: 79.79221057891846\n",
      "Extracting Online Features for osnet ...\n",
      "Features extracted in 205.88 seconds\n",
      "Computing jaccard distance...\n"
     ]
    },
    {
     "name": "stderr",
     "output_type": "stream",
     "text": [
      "bruteForceKnn is deprecated; call bfKnn instead\n"
     ]
    },
    {
     "name": "stdout",
     "output_type": "stream",
     "text": [
      "Jaccard distance computing time cost: 77.90138864517212\n",
      "Extracting Online Features for densenet121 ...\n",
      "Features extracted in 200.21 seconds\n",
      "Computing jaccard distance...\n"
     ]
    },
    {
     "name": "stderr",
     "output_type": "stream",
     "text": [
      "bruteForceKnn is deprecated; call bfKnn instead\n"
     ]
    },
    {
     "name": "stdout",
     "output_type": "stream",
     "text": [
      "Jaccard distance computing time cost: 82.3438777923584\n",
      "Reliability: 0.998\n",
      "\u001b[32mMean Purity: 0.00164\u001b[0m\n",
      "\u001b[34mThere are 2 clusters with 4 cameras\u001b[0m\n",
      "\u001b[34mThere are 4 clusters with 5 cameras\u001b[0m\n",
      "\u001b[34mThere are 1 clusters with 8 cameras\u001b[0m\n",
      "\u001b[34mThere are 1 clusters with 10 cameras\u001b[0m\n",
      "\u001b[34mThere are 1 clusters with 13 cameras\u001b[0m\n",
      "\u001b[34mThere are 1 clusters with 16 cameras\u001b[0m\n",
      "\u001b[34mThere are 2 clusters with 18 cameras\u001b[0m\n",
      "\u001b[34mThere are 1 clusters with 26 cameras\u001b[0m\n",
      "\u001b[34mThere are 1 clusters with 27 cameras\u001b[0m\n",
      "\u001b[34mThere are 1 clusters with 30 cameras\u001b[0m\n",
      "\u001b[34mThere are 1 clusters with 34 cameras\u001b[0m\n",
      "\u001b[34mThere are 1 clusters with 37 cameras\u001b[0m\n",
      "\u001b[34mThere are 1 clusters with 38 cameras\u001b[0m\n",
      "\u001b[34mThere are 1 clusters with 44 cameras\u001b[0m\n",
      "\u001b[34mThere are 1 clusters with 47 cameras\u001b[0m\n",
      "\u001b[34mThere are 1 clusters with 48 cameras\u001b[0m\n",
      "\u001b[34mThere are 1 clusters with 52 cameras\u001b[0m\n",
      "\u001b[34mThere are 1 clusters with 54 cameras\u001b[0m\n",
      "\u001b[34mThere are 2 clusters with 58 cameras\u001b[0m\n",
      "\u001b[34mThere are 4 clusters with 59 cameras\u001b[0m\n",
      "\u001b[34mThere are 1 clusters with 60 cameras\u001b[0m\n",
      "\u001b[34mThere are 13 clusters with 61 cameras\u001b[0m\n",
      "\u001b[34mThere are 10 clusters with 62 cameras\u001b[0m\n",
      "\u001b[34mThere are 16 clusters with 63 cameras\u001b[0m\n",
      "\u001b[34mThere are 538 clusters with 64 cameras\u001b[0m\n",
      "\u001b[34mThere are 1 clusters with 108 cameras\u001b[0m\n",
      "\u001b[34mThere are 1 clusters with 127 cameras\u001b[0m\n",
      "\u001b[34mThere are 2 clusters with 128 cameras\u001b[0m\n",
      "Number of classes: 611\n",
      "\u001b[36mLearning Rate: 0.000017\u001b[0m\n",
      "encontrou modelos efficientnet. Carregando...\n",
      "encontrou modelos convnext. Carregando...\n",
      "encontrou modelos mobilenet. Carregando...\n",
      "encontrou modelos vgg16. Carregando...\n",
      "encontrou modelos resnet50. Carregando...\n",
      "encontrou modelos osnet. Carregando...\n",
      "encontrou modelos densenet121. Carregando...\n",
      "###============ Iteration number 72/90 ============###\n",
      "Extracting Online Features for efficientnet ...\n",
      "Features extracted in 196.82 seconds\n",
      "Computing jaccard distance...\n"
     ]
    },
    {
     "name": "stderr",
     "output_type": "stream",
     "text": [
      "bruteForceKnn is deprecated; call bfKnn instead\n"
     ]
    },
    {
     "name": "stdout",
     "output_type": "stream",
     "text": [
      "Jaccard distance computing time cost: 78.61755537986755\n",
      "Extracting Online Features for convnext ...\n",
      "Features extracted in 204.85 seconds\n",
      "Computing jaccard distance...\n"
     ]
    },
    {
     "name": "stderr",
     "output_type": "stream",
     "text": [
      "bruteForceKnn is deprecated; call bfKnn instead\n"
     ]
    },
    {
     "name": "stdout",
     "output_type": "stream",
     "text": [
      "Jaccard distance computing time cost: 80.52640628814697\n",
      "Extracting Online Features for mobilenet ...\n",
      "Features extracted in 196.19 seconds\n",
      "Computing jaccard distance...\n"
     ]
    },
    {
     "name": "stderr",
     "output_type": "stream",
     "text": [
      "bruteForceKnn is deprecated; call bfKnn instead\n"
     ]
    },
    {
     "name": "stdout",
     "output_type": "stream",
     "text": [
      "Jaccard distance computing time cost: 79.47522521018982\n",
      "Extracting Online Features for vgg16 ...\n",
      "Features extracted in 201.30 seconds\n",
      "Computing jaccard distance...\n"
     ]
    },
    {
     "name": "stderr",
     "output_type": "stream",
     "text": [
      "bruteForceKnn is deprecated; call bfKnn instead\n"
     ]
    },
    {
     "name": "stdout",
     "output_type": "stream",
     "text": [
      "Jaccard distance computing time cost: 93.53535199165344\n",
      "Extracting Online Features for resnet50 ...\n",
      "Features extracted in 205.59 seconds\n",
      "Computing jaccard distance...\n"
     ]
    },
    {
     "name": "stderr",
     "output_type": "stream",
     "text": [
      "bruteForceKnn is deprecated; call bfKnn instead\n"
     ]
    },
    {
     "name": "stdout",
     "output_type": "stream",
     "text": [
      "Jaccard distance computing time cost: 88.27021765708923\n",
      "Extracting Online Features for osnet ...\n",
      "Features extracted in 199.26 seconds\n",
      "Computing jaccard distance...\n"
     ]
    },
    {
     "name": "stderr",
     "output_type": "stream",
     "text": [
      "bruteForceKnn is deprecated; call bfKnn instead\n"
     ]
    },
    {
     "name": "stdout",
     "output_type": "stream",
     "text": [
      "Jaccard distance computing time cost: 77.31648564338684\n",
      "Extracting Online Features for densenet121 ...\n",
      "Features extracted in 202.68 seconds\n",
      "Computing jaccard distance...\n"
     ]
    },
    {
     "name": "stderr",
     "output_type": "stream",
     "text": [
      "bruteForceKnn is deprecated; call bfKnn instead\n"
     ]
    },
    {
     "name": "stdout",
     "output_type": "stream",
     "text": [
      "Jaccard distance computing time cost: 80.80876111984253\n",
      "Reliability: 0.998\n",
      "\u001b[32mMean Purity: 0.00164\u001b[0m\n",
      "\u001b[34mThere are 2 clusters with 4 cameras\u001b[0m\n",
      "\u001b[34mThere are 4 clusters with 5 cameras\u001b[0m\n",
      "\u001b[34mThere are 1 clusters with 8 cameras\u001b[0m\n",
      "\u001b[34mThere are 1 clusters with 10 cameras\u001b[0m\n",
      "\u001b[34mThere are 1 clusters with 13 cameras\u001b[0m\n",
      "\u001b[34mThere are 1 clusters with 16 cameras\u001b[0m\n",
      "\u001b[34mThere are 2 clusters with 18 cameras\u001b[0m\n",
      "\u001b[34mThere are 1 clusters with 26 cameras\u001b[0m\n",
      "\u001b[34mThere are 1 clusters with 27 cameras\u001b[0m\n",
      "\u001b[34mThere are 1 clusters with 30 cameras\u001b[0m\n",
      "\u001b[34mThere are 1 clusters with 34 cameras\u001b[0m\n",
      "\u001b[34mThere are 1 clusters with 37 cameras\u001b[0m\n",
      "\u001b[34mThere are 1 clusters with 38 cameras\u001b[0m\n",
      "\u001b[34mThere are 1 clusters with 44 cameras\u001b[0m\n",
      "\u001b[34mThere are 1 clusters with 47 cameras\u001b[0m\n",
      "\u001b[34mThere are 1 clusters with 48 cameras\u001b[0m\n",
      "\u001b[34mThere are 1 clusters with 52 cameras\u001b[0m\n",
      "\u001b[34mThere are 1 clusters with 54 cameras\u001b[0m\n",
      "\u001b[34mThere are 2 clusters with 58 cameras\u001b[0m\n",
      "\u001b[34mThere are 4 clusters with 59 cameras\u001b[0m\n",
      "\u001b[34mThere are 1 clusters with 60 cameras\u001b[0m\n",
      "\u001b[34mThere are 13 clusters with 61 cameras\u001b[0m\n",
      "\u001b[34mThere are 10 clusters with 62 cameras\u001b[0m\n",
      "\u001b[34mThere are 16 clusters with 63 cameras\u001b[0m\n",
      "\u001b[34mThere are 538 clusters with 64 cameras\u001b[0m\n",
      "\u001b[34mThere are 1 clusters with 108 cameras\u001b[0m\n",
      "\u001b[34mThere are 1 clusters with 127 cameras\u001b[0m\n",
      "\u001b[34mThere are 2 clusters with 128 cameras\u001b[0m\n",
      "Number of classes: 611\n",
      "\u001b[36mLearning Rate: 0.000035\u001b[0m\n",
      "encontrou modelos efficientnet. Carregando...\n",
      "encontrou modelos convnext. Carregando...\n",
      "encontrou modelos mobilenet. Carregando...\n",
      "encontrou modelos vgg16. Carregando...\n",
      "encontrou modelos resnet50. Carregando...\n",
      "encontrou modelos osnet. Carregando...\n",
      "encontrou modelos densenet121. Carregando...\n",
      "###============ Iteration number 73/90 ============###\n",
      "Extracting Online Features for efficientnet ...\n",
      "Features extracted in 198.80 seconds\n",
      "Computing jaccard distance...\n"
     ]
    },
    {
     "name": "stderr",
     "output_type": "stream",
     "text": [
      "bruteForceKnn is deprecated; call bfKnn instead\n"
     ]
    },
    {
     "name": "stdout",
     "output_type": "stream",
     "text": [
      "Jaccard distance computing time cost: 79.551340341568\n",
      "Extracting Online Features for convnext ...\n",
      "Features extracted in 206.90 seconds\n",
      "Computing jaccard distance...\n"
     ]
    },
    {
     "name": "stderr",
     "output_type": "stream",
     "text": [
      "bruteForceKnn is deprecated; call bfKnn instead\n"
     ]
    },
    {
     "name": "stdout",
     "output_type": "stream",
     "text": [
      "Jaccard distance computing time cost: 93.91389322280884\n",
      "Extracting Online Features for mobilenet ...\n",
      "Features extracted in 202.38 seconds\n",
      "Computing jaccard distance...\n"
     ]
    },
    {
     "name": "stderr",
     "output_type": "stream",
     "text": [
      "bruteForceKnn is deprecated; call bfKnn instead\n"
     ]
    },
    {
     "name": "stdout",
     "output_type": "stream",
     "text": [
      "Jaccard distance computing time cost: 79.60325193405151\n",
      "Extracting Online Features for vgg16 ...\n",
      "Features extracted in 198.81 seconds\n",
      "Computing jaccard distance...\n"
     ]
    },
    {
     "name": "stderr",
     "output_type": "stream",
     "text": [
      "bruteForceKnn is deprecated; call bfKnn instead\n"
     ]
    },
    {
     "name": "stdout",
     "output_type": "stream",
     "text": [
      "Jaccard distance computing time cost: 80.94074654579163\n",
      "Extracting Online Features for resnet50 ...\n",
      "Features extracted in 207.72 seconds\n",
      "Computing jaccard distance...\n"
     ]
    },
    {
     "name": "stderr",
     "output_type": "stream",
     "text": [
      "bruteForceKnn is deprecated; call bfKnn instead\n"
     ]
    },
    {
     "name": "stdout",
     "output_type": "stream",
     "text": [
      "Jaccard distance computing time cost: 79.87923097610474\n",
      "Extracting Online Features for osnet ...\n",
      "Features extracted in 205.03 seconds\n",
      "Computing jaccard distance...\n"
     ]
    },
    {
     "name": "stderr",
     "output_type": "stream",
     "text": [
      "bruteForceKnn is deprecated; call bfKnn instead\n"
     ]
    },
    {
     "name": "stdout",
     "output_type": "stream",
     "text": [
      "Jaccard distance computing time cost: 86.80045986175537\n",
      "Extracting Online Features for densenet121 ...\n",
      "Features extracted in 203.17 seconds\n",
      "Computing jaccard distance...\n"
     ]
    },
    {
     "name": "stderr",
     "output_type": "stream",
     "text": [
      "bruteForceKnn is deprecated; call bfKnn instead\n"
     ]
    },
    {
     "name": "stdout",
     "output_type": "stream",
     "text": [
      "Jaccard distance computing time cost: 86.07282948493958\n",
      "Reliability: 0.998\n",
      "\u001b[32mMean Purity: 0.00164\u001b[0m\n",
      "\u001b[34mThere are 2 clusters with 4 cameras\u001b[0m\n",
      "\u001b[34mThere are 4 clusters with 5 cameras\u001b[0m\n",
      "\u001b[34mThere are 1 clusters with 8 cameras\u001b[0m\n",
      "\u001b[34mThere are 1 clusters with 10 cameras\u001b[0m\n",
      "\u001b[34mThere are 1 clusters with 13 cameras\u001b[0m\n",
      "\u001b[34mThere are 1 clusters with 16 cameras\u001b[0m\n",
      "\u001b[34mThere are 2 clusters with 18 cameras\u001b[0m\n",
      "\u001b[34mThere are 1 clusters with 26 cameras\u001b[0m\n",
      "\u001b[34mThere are 1 clusters with 27 cameras\u001b[0m\n",
      "\u001b[34mThere are 1 clusters with 30 cameras\u001b[0m\n",
      "\u001b[34mThere are 1 clusters with 34 cameras\u001b[0m\n",
      "\u001b[34mThere are 1 clusters with 37 cameras\u001b[0m\n",
      "\u001b[34mThere are 1 clusters with 38 cameras\u001b[0m\n",
      "\u001b[34mThere are 1 clusters with 44 cameras\u001b[0m\n",
      "\u001b[34mThere are 1 clusters with 47 cameras\u001b[0m\n",
      "\u001b[34mThere are 1 clusters with 48 cameras\u001b[0m\n",
      "\u001b[34mThere are 1 clusters with 52 cameras\u001b[0m\n",
      "\u001b[34mThere are 1 clusters with 54 cameras\u001b[0m\n",
      "\u001b[34mThere are 2 clusters with 58 cameras\u001b[0m\n",
      "\u001b[34mThere are 4 clusters with 59 cameras\u001b[0m\n",
      "\u001b[34mThere are 1 clusters with 60 cameras\u001b[0m\n",
      "\u001b[34mThere are 13 clusters with 61 cameras\u001b[0m\n",
      "\u001b[34mThere are 10 clusters with 62 cameras\u001b[0m\n",
      "\u001b[34mThere are 16 clusters with 63 cameras\u001b[0m\n",
      "\u001b[34mThere are 538 clusters with 64 cameras\u001b[0m\n",
      "\u001b[34mThere are 1 clusters with 108 cameras\u001b[0m\n",
      "\u001b[34mThere are 1 clusters with 127 cameras\u001b[0m\n",
      "\u001b[34mThere are 2 clusters with 128 cameras\u001b[0m\n",
      "Number of classes: 611\n",
      "\u001b[36mLearning Rate: 0.000053\u001b[0m\n",
      "encontrou modelos efficientnet. Carregando...\n",
      "encontrou modelos convnext. Carregando...\n",
      "encontrou modelos mobilenet. Carregando...\n",
      "encontrou modelos vgg16. Carregando...\n",
      "encontrou modelos resnet50. Carregando...\n",
      "encontrou modelos osnet. Carregando...\n",
      "encontrou modelos densenet121. Carregando...\n",
      "###============ Iteration number 74/90 ============###\n",
      "Extracting Online Features for efficientnet ...\n",
      "Features extracted in 199.71 seconds\n",
      "Computing jaccard distance...\n"
     ]
    },
    {
     "name": "stderr",
     "output_type": "stream",
     "text": [
      "bruteForceKnn is deprecated; call bfKnn instead\n"
     ]
    },
    {
     "name": "stdout",
     "output_type": "stream",
     "text": [
      "Jaccard distance computing time cost: 90.47207713127136\n",
      "Extracting Online Features for convnext ...\n",
      "Features extracted in 205.98 seconds\n",
      "Computing jaccard distance...\n"
     ]
    },
    {
     "name": "stderr",
     "output_type": "stream",
     "text": [
      "bruteForceKnn is deprecated; call bfKnn instead\n"
     ]
    },
    {
     "name": "stdout",
     "output_type": "stream",
     "text": [
      "Jaccard distance computing time cost: 78.7791383266449\n",
      "Extracting Online Features for mobilenet ...\n",
      "Features extracted in 197.31 seconds\n",
      "Computing jaccard distance...\n"
     ]
    },
    {
     "name": "stderr",
     "output_type": "stream",
     "text": [
      "bruteForceKnn is deprecated; call bfKnn instead\n"
     ]
    },
    {
     "name": "stdout",
     "output_type": "stream",
     "text": [
      "Jaccard distance computing time cost: 79.84328746795654\n",
      "Extracting Online Features for vgg16 ...\n",
      "Features extracted in 196.27 seconds\n",
      "Computing jaccard distance...\n"
     ]
    },
    {
     "name": "stderr",
     "output_type": "stream",
     "text": [
      "bruteForceKnn is deprecated; call bfKnn instead\n"
     ]
    },
    {
     "name": "stdout",
     "output_type": "stream",
     "text": [
      "Jaccard distance computing time cost: 93.41834878921509\n",
      "Extracting Online Features for resnet50 ...\n",
      "Features extracted in 199.02 seconds\n",
      "Computing jaccard distance...\n"
     ]
    },
    {
     "name": "stderr",
     "output_type": "stream",
     "text": [
      "bruteForceKnn is deprecated; call bfKnn instead\n"
     ]
    },
    {
     "name": "stdout",
     "output_type": "stream",
     "text": [
      "Jaccard distance computing time cost: 88.14163208007812\n",
      "Extracting Online Features for osnet ...\n",
      "Features extracted in 207.10 seconds\n",
      "Computing jaccard distance...\n"
     ]
    },
    {
     "name": "stderr",
     "output_type": "stream",
     "text": [
      "bruteForceKnn is deprecated; call bfKnn instead\n"
     ]
    },
    {
     "name": "stdout",
     "output_type": "stream",
     "text": [
      "Jaccard distance computing time cost: 102.87976598739624\n",
      "Extracting Online Features for densenet121 ...\n",
      "Features extracted in 200.58 seconds\n",
      "Computing jaccard distance...\n"
     ]
    },
    {
     "name": "stderr",
     "output_type": "stream",
     "text": [
      "bruteForceKnn is deprecated; call bfKnn instead\n"
     ]
    },
    {
     "name": "stdout",
     "output_type": "stream",
     "text": [
      "Jaccard distance computing time cost: 79.75294756889343\n",
      "Reliability: 0.998\n",
      "\u001b[32mMean Purity: 0.00164\u001b[0m\n",
      "\u001b[34mThere are 2 clusters with 4 cameras\u001b[0m\n",
      "\u001b[34mThere are 4 clusters with 5 cameras\u001b[0m\n",
      "\u001b[34mThere are 1 clusters with 8 cameras\u001b[0m\n",
      "\u001b[34mThere are 1 clusters with 10 cameras\u001b[0m\n",
      "\u001b[34mThere are 1 clusters with 13 cameras\u001b[0m\n",
      "\u001b[34mThere are 1 clusters with 16 cameras\u001b[0m\n",
      "\u001b[34mThere are 2 clusters with 18 cameras\u001b[0m\n",
      "\u001b[34mThere are 1 clusters with 26 cameras\u001b[0m\n",
      "\u001b[34mThere are 1 clusters with 27 cameras\u001b[0m\n",
      "\u001b[34mThere are 1 clusters with 30 cameras\u001b[0m\n",
      "\u001b[34mThere are 1 clusters with 34 cameras\u001b[0m\n",
      "\u001b[34mThere are 1 clusters with 37 cameras\u001b[0m\n",
      "\u001b[34mThere are 1 clusters with 38 cameras\u001b[0m\n",
      "\u001b[34mThere are 1 clusters with 44 cameras\u001b[0m\n",
      "\u001b[34mThere are 1 clusters with 47 cameras\u001b[0m\n",
      "\u001b[34mThere are 1 clusters with 48 cameras\u001b[0m\n",
      "\u001b[34mThere are 1 clusters with 52 cameras\u001b[0m\n",
      "\u001b[34mThere are 1 clusters with 54 cameras\u001b[0m\n",
      "\u001b[34mThere are 2 clusters with 58 cameras\u001b[0m\n",
      "\u001b[34mThere are 4 clusters with 59 cameras\u001b[0m\n",
      "\u001b[34mThere are 1 clusters with 60 cameras\u001b[0m\n",
      "\u001b[34mThere are 13 clusters with 61 cameras\u001b[0m\n",
      "\u001b[34mThere are 10 clusters with 62 cameras\u001b[0m\n",
      "\u001b[34mThere are 16 clusters with 63 cameras\u001b[0m\n",
      "\u001b[34mThere are 538 clusters with 64 cameras\u001b[0m\n",
      "\u001b[34mThere are 1 clusters with 108 cameras\u001b[0m\n",
      "\u001b[34mThere are 1 clusters with 127 cameras\u001b[0m\n",
      "\u001b[34mThere are 2 clusters with 128 cameras\u001b[0m\n",
      "Number of classes: 611\n",
      "\u001b[36mLearning Rate: 0.000070\u001b[0m\n",
      "encontrou modelos efficientnet. Carregando...\n",
      "encontrou modelos convnext. Carregando...\n",
      "encontrou modelos mobilenet. Carregando...\n",
      "encontrou modelos vgg16. Carregando...\n",
      "encontrou modelos resnet50. Carregando...\n",
      "encontrou modelos osnet. Carregando...\n",
      "encontrou modelos densenet121. Carregando...\n",
      "###============ Iteration number 75/90 ============###\n",
      "Extracting Online Features for efficientnet ...\n",
      "Features extracted in 198.43 seconds\n",
      "Computing jaccard distance...\n"
     ]
    },
    {
     "name": "stderr",
     "output_type": "stream",
     "text": [
      "bruteForceKnn is deprecated; call bfKnn instead\n"
     ]
    },
    {
     "name": "stdout",
     "output_type": "stream",
     "text": [
      "Jaccard distance computing time cost: 80.0081114768982\n",
      "Extracting Online Features for convnext ...\n",
      "Features extracted in 198.41 seconds\n",
      "Computing jaccard distance...\n"
     ]
    },
    {
     "name": "stderr",
     "output_type": "stream",
     "text": [
      "bruteForceKnn is deprecated; call bfKnn instead\n"
     ]
    },
    {
     "name": "stdout",
     "output_type": "stream",
     "text": [
      "Jaccard distance computing time cost: 79.32808327674866\n",
      "Extracting Online Features for mobilenet ...\n",
      "Features extracted in 204.08 seconds\n",
      "Computing jaccard distance...\n"
     ]
    },
    {
     "name": "stderr",
     "output_type": "stream",
     "text": [
      "bruteForceKnn is deprecated; call bfKnn instead\n"
     ]
    },
    {
     "name": "stdout",
     "output_type": "stream",
     "text": [
      "Jaccard distance computing time cost: 79.57900500297546\n",
      "Extracting Online Features for vgg16 ...\n",
      "Features extracted in 196.25 seconds\n",
      "Computing jaccard distance...\n"
     ]
    },
    {
     "name": "stderr",
     "output_type": "stream",
     "text": [
      "bruteForceKnn is deprecated; call bfKnn instead\n"
     ]
    },
    {
     "name": "stdout",
     "output_type": "stream",
     "text": [
      "Jaccard distance computing time cost: 78.90274119377136\n",
      "Extracting Online Features for resnet50 ...\n",
      "Features extracted in 191.45 seconds\n",
      "Computing jaccard distance...\n"
     ]
    },
    {
     "name": "stderr",
     "output_type": "stream",
     "text": [
      "bruteForceKnn is deprecated; call bfKnn instead\n"
     ]
    },
    {
     "name": "stdout",
     "output_type": "stream",
     "text": [
      "Jaccard distance computing time cost: 86.46486926078796\n",
      "Extracting Online Features for osnet ...\n",
      "Features extracted in 195.36 seconds\n",
      "Computing jaccard distance...\n"
     ]
    },
    {
     "name": "stderr",
     "output_type": "stream",
     "text": [
      "bruteForceKnn is deprecated; call bfKnn instead\n"
     ]
    },
    {
     "name": "stdout",
     "output_type": "stream",
     "text": [
      "Jaccard distance computing time cost: 84.47571086883545\n",
      "Extracting Online Features for densenet121 ...\n",
      "Features extracted in 201.05 seconds\n",
      "Computing jaccard distance...\n"
     ]
    },
    {
     "name": "stderr",
     "output_type": "stream",
     "text": [
      "bruteForceKnn is deprecated; call bfKnn instead\n"
     ]
    },
    {
     "name": "stdout",
     "output_type": "stream",
     "text": [
      "Jaccard distance computing time cost: 79.18083906173706\n",
      "Reliability: 0.998\n",
      "\u001b[32mMean Purity: 0.00164\u001b[0m\n",
      "\u001b[34mThere are 2 clusters with 4 cameras\u001b[0m\n",
      "\u001b[34mThere are 4 clusters with 5 cameras\u001b[0m\n",
      "\u001b[34mThere are 1 clusters with 8 cameras\u001b[0m\n",
      "\u001b[34mThere are 1 clusters with 10 cameras\u001b[0m\n",
      "\u001b[34mThere are 1 clusters with 13 cameras\u001b[0m\n",
      "\u001b[34mThere are 1 clusters with 16 cameras\u001b[0m\n",
      "\u001b[34mThere are 2 clusters with 18 cameras\u001b[0m\n",
      "\u001b[34mThere are 1 clusters with 26 cameras\u001b[0m\n",
      "\u001b[34mThere are 1 clusters with 27 cameras\u001b[0m\n",
      "\u001b[34mThere are 1 clusters with 30 cameras\u001b[0m\n",
      "\u001b[34mThere are 1 clusters with 34 cameras\u001b[0m\n",
      "\u001b[34mThere are 1 clusters with 37 cameras\u001b[0m\n",
      "\u001b[34mThere are 1 clusters with 38 cameras\u001b[0m\n",
      "\u001b[34mThere are 1 clusters with 44 cameras\u001b[0m\n",
      "\u001b[34mThere are 1 clusters with 47 cameras\u001b[0m\n",
      "\u001b[34mThere are 1 clusters with 48 cameras\u001b[0m\n",
      "\u001b[34mThere are 1 clusters with 52 cameras\u001b[0m\n",
      "\u001b[34mThere are 1 clusters with 54 cameras\u001b[0m\n",
      "\u001b[34mThere are 2 clusters with 58 cameras\u001b[0m\n",
      "\u001b[34mThere are 4 clusters with 59 cameras\u001b[0m\n",
      "\u001b[34mThere are 1 clusters with 60 cameras\u001b[0m\n",
      "\u001b[34mThere are 13 clusters with 61 cameras\u001b[0m\n",
      "\u001b[34mThere are 10 clusters with 62 cameras\u001b[0m\n",
      "\u001b[34mThere are 16 clusters with 63 cameras\u001b[0m\n",
      "\u001b[34mThere are 538 clusters with 64 cameras\u001b[0m\n",
      "\u001b[34mThere are 1 clusters with 108 cameras\u001b[0m\n",
      "\u001b[34mThere are 1 clusters with 127 cameras\u001b[0m\n",
      "\u001b[34mThere are 2 clusters with 128 cameras\u001b[0m\n",
      "Number of classes: 611\n",
      "\u001b[36mLearning Rate: 0.000088\u001b[0m\n",
      "encontrou modelos efficientnet. Carregando...\n",
      "encontrou modelos convnext. Carregando...\n",
      "encontrou modelos mobilenet. Carregando...\n",
      "encontrou modelos vgg16. Carregando...\n",
      "encontrou modelos resnet50. Carregando...\n",
      "encontrou modelos osnet. Carregando...\n",
      "encontrou modelos densenet121. Carregando...\n",
      "\u001b[33mValidating online efficientnet ...\u001b[0m\n",
      "Features extracted in 61.40 seconds\n",
      "Features extracted in 111.59 seconds\n",
      "Computing CMC and mAP ...\n",
      "** Results **\n",
      "mAP: 72.74%\n",
      "CMC curve\n",
      "Rank-1  : 86.50%\n",
      "Rank-5  : 96.56%\n",
      "Rank-10 : 98.57%\n",
      "Rank-20 : 99.42%\n",
      "\u001b[33mValidating momentum efficientnet ...\u001b[0m\n",
      "Features extracted in 59.31 seconds\n",
      "Features extracted in 111.35 seconds\n",
      "Computing CMC and mAP ...\n",
      "** Results **\n",
      "mAP: 71.24%\n",
      "CMC curve\n",
      "Rank-1  : 78.00%\n",
      "Rank-5  : 94.78%\n",
      "Rank-10 : 98.01%\n",
      "Rank-20 : 99.39%\n",
      "\u001b[33mValidating online convnext ...\u001b[0m\n",
      "Features extracted in 60.93 seconds\n",
      "Features extracted in 115.08 seconds\n",
      "Computing CMC and mAP ...\n",
      "** Results **\n",
      "mAP: 75.86%\n",
      "CMC curve\n",
      "Rank-1  : 90.47%\n",
      "Rank-5  : 95.47%\n",
      "Rank-10 : 97.23%\n",
      "Rank-20 : 99.00%\n",
      "\u001b[33mValidating momentum convnext ...\u001b[0m\n",
      "Features extracted in 61.11 seconds\n",
      "Features extracted in 114.24 seconds\n",
      "Computing CMC and mAP ...\n",
      "** Results **\n",
      "mAP: 70.89%\n",
      "CMC curve\n",
      "Rank-1  : 81.10%\n",
      "Rank-5  : 94.32%\n",
      "Rank-10 : 97.06%\n",
      "Rank-20 : 98.73%\n",
      "\u001b[33mValidating online mobilenet ...\u001b[0m\n",
      "Features extracted in 59.11 seconds\n",
      "Features extracted in 107.35 seconds\n",
      "Computing CMC and mAP ...\n",
      "** Results **\n",
      "mAP: 71.69%\n",
      "CMC curve\n",
      "Rank-1  : 87.20%\n",
      "Rank-5  : 96.74%\n",
      "Rank-10 : 98.85%\n",
      "Rank-20 : 99.71%\n",
      "\u001b[33mValidating momentum mobilenet ...\u001b[0m\n",
      "Features extracted in 59.49 seconds\n",
      "Features extracted in 109.90 seconds\n",
      "Computing CMC and mAP ...\n",
      "** Results **\n",
      "mAP: 71.41%\n",
      "CMC curve\n",
      "Rank-1  : 83.91%\n",
      "Rank-5  : 95.41%\n",
      "Rank-10 : 98.08%\n",
      "Rank-20 : 99.14%\n",
      "\u001b[33mValidating online vgg16 ...\u001b[0m\n",
      "Features extracted in 60.64 seconds\n",
      "Features extracted in 111.28 seconds\n",
      "Computing CMC and mAP ...\n",
      "** Results **\n",
      "mAP: 72.14%\n",
      "CMC curve\n",
      "Rank-1  : 87.41%\n",
      "Rank-5  : 96.72%\n",
      "Rank-10 : 98.80%\n",
      "Rank-20 : 99.68%\n",
      "\u001b[33mValidating momentum vgg16 ...\u001b[0m\n",
      "Features extracted in 58.32 seconds\n",
      "Features extracted in 111.15 seconds\n",
      "Computing CMC and mAP ...\n",
      "** Results **\n",
      "mAP: 71.15%\n",
      "CMC curve\n",
      "Rank-1  : 79.56%\n",
      "Rank-5  : 95.82%\n",
      "Rank-10 : 98.64%\n",
      "Rank-20 : 99.55%\n",
      "\u001b[33mValidating online resnet50 ...\u001b[0m\n",
      "Features extracted in 61.52 seconds\n",
      "Features extracted in 112.81 seconds\n",
      "Computing CMC and mAP ...\n",
      "** Results **\n",
      "mAP: 72.93%\n",
      "CMC curve\n",
      "Rank-1  : 89.22%\n",
      "Rank-5  : 97.35%\n",
      "Rank-10 : 99.02%\n",
      "Rank-20 : 99.75%\n",
      "\u001b[33mValidating momentum resnet50 ...\u001b[0m\n",
      "Features extracted in 59.96 seconds\n",
      "Features extracted in 109.45 seconds\n",
      "Computing CMC and mAP ...\n",
      "** Results **\n",
      "mAP: 74.37%\n",
      "CMC curve\n",
      "Rank-1  : 90.07%\n",
      "Rank-5  : 97.95%\n",
      "Rank-10 : 99.19%\n",
      "Rank-20 : 99.74%\n",
      "\u001b[33mValidating online osnet ...\u001b[0m\n",
      "Features extracted in 62.93 seconds\n",
      "Features extracted in 108.48 seconds\n",
      "Computing CMC and mAP ...\n",
      "** Results **\n",
      "mAP: 71.05%\n",
      "CMC curve\n",
      "Rank-1  : 81.59%\n",
      "Rank-5  : 95.73%\n",
      "Rank-10 : 98.23%\n",
      "Rank-20 : 99.54%\n",
      "\u001b[33mValidating momentum osnet ...\u001b[0m\n",
      "Features extracted in 58.92 seconds\n",
      "Features extracted in 108.88 seconds\n",
      "Computing CMC and mAP ...\n",
      "** Results **\n",
      "mAP: 73.09%\n",
      "CMC curve\n",
      "Rank-1  : 81.93%\n",
      "Rank-5  : 95.43%\n",
      "Rank-10 : 98.30%\n",
      "Rank-20 : 99.46%\n",
      "\u001b[33mValidating online densenet121 ...\u001b[0m\n",
      "Features extracted in 59.15 seconds\n",
      "Features extracted in 115.25 seconds\n",
      "Computing CMC and mAP ...\n",
      "** Results **\n",
      "mAP: 74.36%\n",
      "CMC curve\n",
      "Rank-1  : 92.33%\n",
      "Rank-5  : 98.60%\n",
      "Rank-10 : 99.56%\n",
      "Rank-20 : 99.86%\n",
      "\u001b[33mValidating momentum densenet121 ...\u001b[0m\n",
      "Features extracted in 60.55 seconds\n",
      "Features extracted in 109.58 seconds\n",
      "Computing CMC and mAP ...\n",
      "** Results **\n",
      "mAP: 74.16%\n",
      "CMC curve\n",
      "Rank-1  : 86.99%\n",
      "Rank-5  : 96.54%\n",
      "Rank-10 : 98.30%\n",
      "Rank-20 : 99.46%\n",
      "\u001b[33mValidating ensembled with online models ...\u001b[0m\n",
      "Computing CMC and mAP ...\n",
      "** Results **\n",
      "mAP: 75.80%\n",
      "Ranks:\n",
      "Rank-1  : 96.73%\n",
      "Rank-5  : 98.98%\n",
      "Rank-10 : 99.48%\n",
      "\u001b[33mValidating ensembled with momentum models ...\u001b[0m\n",
      "Computing CMC and mAP ...\n",
      "** Results **\n",
      "mAP: 74.25%\n",
      "Ranks:\n",
      "Rank-1  : 87.54%\n",
      "Rank-5  : 96.96%\n",
      "Rank-10 : 98.89%\n",
      "###============ Iteration number 76/90 ============###\n",
      "Extracting Online Features for efficientnet ...\n",
      "Features extracted in 197.53 seconds\n",
      "Computing jaccard distance...\n"
     ]
    },
    {
     "name": "stderr",
     "output_type": "stream",
     "text": [
      "bruteForceKnn is deprecated; call bfKnn instead\n"
     ]
    },
    {
     "name": "stdout",
     "output_type": "stream",
     "text": [
      "Jaccard distance computing time cost: 86.12874221801758\n",
      "Extracting Online Features for convnext ...\n",
      "Features extracted in 198.63 seconds\n",
      "Computing jaccard distance...\n"
     ]
    },
    {
     "name": "stderr",
     "output_type": "stream",
     "text": [
      "bruteForceKnn is deprecated; call bfKnn instead\n"
     ]
    },
    {
     "name": "stdout",
     "output_type": "stream",
     "text": [
      "Jaccard distance computing time cost: 89.75239706039429\n",
      "Extracting Online Features for mobilenet ...\n",
      "Features extracted in 193.74 seconds\n",
      "Computing jaccard distance...\n"
     ]
    },
    {
     "name": "stderr",
     "output_type": "stream",
     "text": [
      "bruteForceKnn is deprecated; call bfKnn instead\n"
     ]
    },
    {
     "name": "stdout",
     "output_type": "stream",
     "text": [
      "Jaccard distance computing time cost: 92.27788853645325\n",
      "Extracting Online Features for vgg16 ...\n",
      "Features extracted in 193.64 seconds\n",
      "Computing jaccard distance...\n"
     ]
    },
    {
     "name": "stderr",
     "output_type": "stream",
     "text": [
      "bruteForceKnn is deprecated; call bfKnn instead\n"
     ]
    },
    {
     "name": "stdout",
     "output_type": "stream",
     "text": [
      "Jaccard distance computing time cost: 78.24372673034668\n",
      "Extracting Online Features for resnet50 ...\n",
      "Features extracted in 192.33 seconds\n",
      "Computing jaccard distance...\n"
     ]
    },
    {
     "name": "stderr",
     "output_type": "stream",
     "text": [
      "bruteForceKnn is deprecated; call bfKnn instead\n"
     ]
    },
    {
     "name": "stdout",
     "output_type": "stream",
     "text": [
      "Jaccard distance computing time cost: 86.9500424861908\n",
      "Extracting Online Features for osnet ...\n",
      "Features extracted in 193.65 seconds\n",
      "Computing jaccard distance...\n"
     ]
    },
    {
     "name": "stderr",
     "output_type": "stream",
     "text": [
      "bruteForceKnn is deprecated; call bfKnn instead\n"
     ]
    },
    {
     "name": "stdout",
     "output_type": "stream",
     "text": [
      "Jaccard distance computing time cost: 77.4072060585022\n",
      "Extracting Online Features for densenet121 ...\n",
      "Features extracted in 202.29 seconds\n",
      "Computing jaccard distance...\n"
     ]
    },
    {
     "name": "stderr",
     "output_type": "stream",
     "text": [
      "bruteForceKnn is deprecated; call bfKnn instead\n"
     ]
    },
    {
     "name": "stdout",
     "output_type": "stream",
     "text": [
      "Jaccard distance computing time cost: 80.04243016242981\n",
      "Reliability: 0.998\n",
      "\u001b[32mMean Purity: 0.00164\u001b[0m\n",
      "\u001b[34mThere are 2 clusters with 4 cameras\u001b[0m\n",
      "\u001b[34mThere are 4 clusters with 5 cameras\u001b[0m\n",
      "\u001b[34mThere are 1 clusters with 8 cameras\u001b[0m\n",
      "\u001b[34mThere are 1 clusters with 10 cameras\u001b[0m\n",
      "\u001b[34mThere are 1 clusters with 13 cameras\u001b[0m\n",
      "\u001b[34mThere are 1 clusters with 16 cameras\u001b[0m\n",
      "\u001b[34mThere are 2 clusters with 18 cameras\u001b[0m\n",
      "\u001b[34mThere are 1 clusters with 26 cameras\u001b[0m\n",
      "\u001b[34mThere are 1 clusters with 27 cameras\u001b[0m\n",
      "\u001b[34mThere are 1 clusters with 30 cameras\u001b[0m\n",
      "\u001b[34mThere are 1 clusters with 34 cameras\u001b[0m\n",
      "\u001b[34mThere are 1 clusters with 37 cameras\u001b[0m\n",
      "\u001b[34mThere are 1 clusters with 38 cameras\u001b[0m\n",
      "\u001b[34mThere are 1 clusters with 44 cameras\u001b[0m\n",
      "\u001b[34mThere are 1 clusters with 47 cameras\u001b[0m\n",
      "\u001b[34mThere are 1 clusters with 48 cameras\u001b[0m\n",
      "\u001b[34mThere are 1 clusters with 52 cameras\u001b[0m\n",
      "\u001b[34mThere are 1 clusters with 54 cameras\u001b[0m\n",
      "\u001b[34mThere are 2 clusters with 58 cameras\u001b[0m\n",
      "\u001b[34mThere are 4 clusters with 59 cameras\u001b[0m\n",
      "\u001b[34mThere are 1 clusters with 60 cameras\u001b[0m\n",
      "\u001b[34mThere are 13 clusters with 61 cameras\u001b[0m\n",
      "\u001b[34mThere are 10 clusters with 62 cameras\u001b[0m\n",
      "\u001b[34mThere are 16 clusters with 63 cameras\u001b[0m\n",
      "\u001b[34mThere are 538 clusters with 64 cameras\u001b[0m\n",
      "\u001b[34mThere are 1 clusters with 108 cameras\u001b[0m\n",
      "\u001b[34mThere are 1 clusters with 127 cameras\u001b[0m\n",
      "\u001b[34mThere are 2 clusters with 128 cameras\u001b[0m\n",
      "Number of classes: 611\n",
      "\u001b[36mLearning Rate: 0.000105\u001b[0m\n",
      "encontrou modelos efficientnet. Carregando...\n",
      "encontrou modelos convnext. Carregando...\n",
      "encontrou modelos mobilenet. Carregando...\n",
      "encontrou modelos vgg16. Carregando...\n",
      "encontrou modelos resnet50. Carregando...\n",
      "encontrou modelos osnet. Carregando...\n",
      "encontrou modelos densenet121. Carregando...\n",
      "###============ Iteration number 77/90 ============###\n",
      "Extracting Online Features for efficientnet ...\n",
      "Features extracted in 202.71 seconds\n",
      "Computing jaccard distance...\n"
     ]
    },
    {
     "name": "stderr",
     "output_type": "stream",
     "text": [
      "bruteForceKnn is deprecated; call bfKnn instead\n"
     ]
    },
    {
     "name": "stdout",
     "output_type": "stream",
     "text": [
      "Jaccard distance computing time cost: 78.81314992904663\n",
      "Extracting Online Features for convnext ...\n",
      "Features extracted in 199.74 seconds\n",
      "Computing jaccard distance...\n"
     ]
    },
    {
     "name": "stderr",
     "output_type": "stream",
     "text": [
      "bruteForceKnn is deprecated; call bfKnn instead\n"
     ]
    },
    {
     "name": "stdout",
     "output_type": "stream",
     "text": [
      "Jaccard distance computing time cost: 84.22434282302856\n",
      "Extracting Online Features for mobilenet ...\n",
      "Features extracted in 194.96 seconds\n",
      "Computing jaccard distance...\n"
     ]
    },
    {
     "name": "stderr",
     "output_type": "stream",
     "text": [
      "bruteForceKnn is deprecated; call bfKnn instead\n"
     ]
    },
    {
     "name": "stdout",
     "output_type": "stream",
     "text": [
      "Jaccard distance computing time cost: 79.95591878890991\n",
      "Extracting Online Features for vgg16 ...\n",
      "Features extracted in 206.89 seconds\n",
      "Computing jaccard distance...\n"
     ]
    },
    {
     "name": "stderr",
     "output_type": "stream",
     "text": [
      "bruteForceKnn is deprecated; call bfKnn instead\n"
     ]
    },
    {
     "name": "stdout",
     "output_type": "stream",
     "text": [
      "Jaccard distance computing time cost: 78.8635184764862\n",
      "Extracting Online Features for resnet50 ...\n",
      "Features extracted in 202.26 seconds\n",
      "Computing jaccard distance...\n"
     ]
    },
    {
     "name": "stderr",
     "output_type": "stream",
     "text": [
      "bruteForceKnn is deprecated; call bfKnn instead\n"
     ]
    },
    {
     "name": "stdout",
     "output_type": "stream",
     "text": [
      "Jaccard distance computing time cost: 94.13410997390747\n",
      "Extracting Online Features for osnet ...\n",
      "Features extracted in 194.95 seconds\n",
      "Computing jaccard distance...\n"
     ]
    },
    {
     "name": "stderr",
     "output_type": "stream",
     "text": [
      "bruteForceKnn is deprecated; call bfKnn instead\n"
     ]
    },
    {
     "name": "stdout",
     "output_type": "stream",
     "text": [
      "Jaccard distance computing time cost: 77.24809622764587\n",
      "Extracting Online Features for densenet121 ...\n",
      "Features extracted in 197.06 seconds\n",
      "Computing jaccard distance...\n"
     ]
    },
    {
     "name": "stderr",
     "output_type": "stream",
     "text": [
      "bruteForceKnn is deprecated; call bfKnn instead\n"
     ]
    },
    {
     "name": "stdout",
     "output_type": "stream",
     "text": [
      "Jaccard distance computing time cost: 80.9661455154419\n",
      "Reliability: 0.998\n",
      "\u001b[32mMean Purity: 0.00164\u001b[0m\n",
      "\u001b[34mThere are 2 clusters with 4 cameras\u001b[0m\n",
      "\u001b[34mThere are 4 clusters with 5 cameras\u001b[0m\n",
      "\u001b[34mThere are 1 clusters with 8 cameras\u001b[0m\n",
      "\u001b[34mThere are 1 clusters with 10 cameras\u001b[0m\n",
      "\u001b[34mThere are 1 clusters with 13 cameras\u001b[0m\n",
      "\u001b[34mThere are 1 clusters with 16 cameras\u001b[0m\n",
      "\u001b[34mThere are 2 clusters with 18 cameras\u001b[0m\n",
      "\u001b[34mThere are 1 clusters with 26 cameras\u001b[0m\n",
      "\u001b[34mThere are 1 clusters with 27 cameras\u001b[0m\n",
      "\u001b[34mThere are 1 clusters with 30 cameras\u001b[0m\n",
      "\u001b[34mThere are 1 clusters with 34 cameras\u001b[0m\n",
      "\u001b[34mThere are 1 clusters with 37 cameras\u001b[0m\n",
      "\u001b[34mThere are 1 clusters with 38 cameras\u001b[0m\n",
      "\u001b[34mThere are 1 clusters with 44 cameras\u001b[0m\n",
      "\u001b[34mThere are 1 clusters with 47 cameras\u001b[0m\n",
      "\u001b[34mThere are 1 clusters with 48 cameras\u001b[0m\n",
      "\u001b[34mThere are 1 clusters with 52 cameras\u001b[0m\n",
      "\u001b[34mThere are 1 clusters with 54 cameras\u001b[0m\n",
      "\u001b[34mThere are 2 clusters with 58 cameras\u001b[0m\n",
      "\u001b[34mThere are 4 clusters with 59 cameras\u001b[0m\n",
      "\u001b[34mThere are 1 clusters with 60 cameras\u001b[0m\n",
      "\u001b[34mThere are 13 clusters with 61 cameras\u001b[0m\n",
      "\u001b[34mThere are 10 clusters with 62 cameras\u001b[0m\n",
      "\u001b[34mThere are 16 clusters with 63 cameras\u001b[0m\n",
      "\u001b[34mThere are 538 clusters with 64 cameras\u001b[0m\n",
      "\u001b[34mThere are 1 clusters with 108 cameras\u001b[0m\n",
      "\u001b[34mThere are 1 clusters with 127 cameras\u001b[0m\n",
      "\u001b[34mThere are 2 clusters with 128 cameras\u001b[0m\n",
      "Number of classes: 611\n",
      "\u001b[36mLearning Rate: 0.000122\u001b[0m\n",
      "encontrou modelos efficientnet. Carregando...\n",
      "encontrou modelos convnext. Carregando...\n",
      "encontrou modelos mobilenet. Carregando...\n",
      "encontrou modelos vgg16. Carregando...\n",
      "encontrou modelos resnet50. Carregando...\n",
      "encontrou modelos osnet. Carregando...\n",
      "encontrou modelos densenet121. Carregando...\n",
      "###============ Iteration number 78/90 ============###\n",
      "Extracting Online Features for efficientnet ...\n",
      "Features extracted in 197.74 seconds\n",
      "Computing jaccard distance...\n"
     ]
    },
    {
     "name": "stderr",
     "output_type": "stream",
     "text": [
      "bruteForceKnn is deprecated; call bfKnn instead\n"
     ]
    },
    {
     "name": "stdout",
     "output_type": "stream",
     "text": [
      "Jaccard distance computing time cost: 79.97676253318787\n",
      "Extracting Online Features for convnext ...\n",
      "Features extracted in 202.19 seconds\n",
      "Computing jaccard distance...\n"
     ]
    },
    {
     "name": "stderr",
     "output_type": "stream",
     "text": [
      "bruteForceKnn is deprecated; call bfKnn instead\n"
     ]
    },
    {
     "name": "stdout",
     "output_type": "stream",
     "text": [
      "Jaccard distance computing time cost: 80.6619324684143\n",
      "Extracting Online Features for mobilenet ...\n",
      "Features extracted in 195.11 seconds\n",
      "Computing jaccard distance...\n"
     ]
    },
    {
     "name": "stderr",
     "output_type": "stream",
     "text": [
      "bruteForceKnn is deprecated; call bfKnn instead\n"
     ]
    },
    {
     "name": "stdout",
     "output_type": "stream",
     "text": [
      "Jaccard distance computing time cost: 80.02222108840942\n",
      "Extracting Online Features for vgg16 ...\n",
      "Features extracted in 197.08 seconds\n",
      "Computing jaccard distance...\n"
     ]
    },
    {
     "name": "stderr",
     "output_type": "stream",
     "text": [
      "bruteForceKnn is deprecated; call bfKnn instead\n"
     ]
    },
    {
     "name": "stdout",
     "output_type": "stream",
     "text": [
      "Jaccard distance computing time cost: 81.60646319389343\n",
      "Extracting Online Features for resnet50 ...\n",
      "Features extracted in 191.85 seconds\n",
      "Computing jaccard distance...\n"
     ]
    },
    {
     "name": "stderr",
     "output_type": "stream",
     "text": [
      "bruteForceKnn is deprecated; call bfKnn instead\n"
     ]
    },
    {
     "name": "stdout",
     "output_type": "stream",
     "text": [
      "Jaccard distance computing time cost: 79.15935969352722\n",
      "Extracting Online Features for osnet ...\n",
      "Features extracted in 191.44 seconds\n",
      "Computing jaccard distance...\n"
     ]
    },
    {
     "name": "stderr",
     "output_type": "stream",
     "text": [
      "bruteForceKnn is deprecated; call bfKnn instead\n"
     ]
    },
    {
     "name": "stdout",
     "output_type": "stream",
     "text": [
      "Jaccard distance computing time cost: 90.27826523780823\n",
      "Extracting Online Features for densenet121 ...\n",
      "Features extracted in 199.99 seconds\n",
      "Computing jaccard distance...\n"
     ]
    },
    {
     "name": "stderr",
     "output_type": "stream",
     "text": [
      "bruteForceKnn is deprecated; call bfKnn instead\n"
     ]
    },
    {
     "name": "stdout",
     "output_type": "stream",
     "text": [
      "Jaccard distance computing time cost: 80.45679593086243\n",
      "Reliability: 0.998\n",
      "\u001b[32mMean Purity: 0.00164\u001b[0m\n",
      "\u001b[34mThere are 2 clusters with 4 cameras\u001b[0m\n",
      "\u001b[34mThere are 4 clusters with 5 cameras\u001b[0m\n",
      "\u001b[34mThere are 1 clusters with 8 cameras\u001b[0m\n",
      "\u001b[34mThere are 1 clusters with 10 cameras\u001b[0m\n",
      "\u001b[34mThere are 1 clusters with 13 cameras\u001b[0m\n",
      "\u001b[34mThere are 1 clusters with 16 cameras\u001b[0m\n",
      "\u001b[34mThere are 2 clusters with 18 cameras\u001b[0m\n",
      "\u001b[34mThere are 1 clusters with 26 cameras\u001b[0m\n",
      "\u001b[34mThere are 1 clusters with 27 cameras\u001b[0m\n",
      "\u001b[34mThere are 1 clusters with 30 cameras\u001b[0m\n",
      "\u001b[34mThere are 1 clusters with 34 cameras\u001b[0m\n",
      "\u001b[34mThere are 1 clusters with 37 cameras\u001b[0m\n",
      "\u001b[34mThere are 1 clusters with 38 cameras\u001b[0m\n",
      "\u001b[34mThere are 1 clusters with 44 cameras\u001b[0m\n",
      "\u001b[34mThere are 1 clusters with 47 cameras\u001b[0m\n",
      "\u001b[34mThere are 1 clusters with 48 cameras\u001b[0m\n",
      "\u001b[34mThere are 1 clusters with 52 cameras\u001b[0m\n",
      "\u001b[34mThere are 1 clusters with 54 cameras\u001b[0m\n",
      "\u001b[34mThere are 2 clusters with 58 cameras\u001b[0m\n",
      "\u001b[34mThere are 4 clusters with 59 cameras\u001b[0m\n",
      "\u001b[34mThere are 1 clusters with 60 cameras\u001b[0m\n",
      "\u001b[34mThere are 13 clusters with 61 cameras\u001b[0m\n",
      "\u001b[34mThere are 10 clusters with 62 cameras\u001b[0m\n",
      "\u001b[34mThere are 16 clusters with 63 cameras\u001b[0m\n",
      "\u001b[34mThere are 538 clusters with 64 cameras\u001b[0m\n",
      "\u001b[34mThere are 1 clusters with 108 cameras\u001b[0m\n",
      "\u001b[34mThere are 1 clusters with 127 cameras\u001b[0m\n",
      "\u001b[34mThere are 2 clusters with 128 cameras\u001b[0m\n",
      "Number of classes: 611\n",
      "\u001b[36mLearning Rate: 0.000140\u001b[0m\n",
      "encontrou modelos efficientnet. Carregando...\n",
      "encontrou modelos convnext. Carregando...\n",
      "encontrou modelos mobilenet. Carregando...\n",
      "encontrou modelos vgg16. Carregando...\n",
      "encontrou modelos resnet50. Carregando...\n",
      "encontrou modelos osnet. Carregando...\n",
      "encontrou modelos densenet121. Carregando...\n",
      "###============ Iteration number 79/90 ============###\n",
      "Extracting Online Features for efficientnet ...\n",
      "Features extracted in 200.28 seconds\n",
      "Computing jaccard distance...\n"
     ]
    },
    {
     "name": "stderr",
     "output_type": "stream",
     "text": [
      "bruteForceKnn is deprecated; call bfKnn instead\n"
     ]
    },
    {
     "name": "stdout",
     "output_type": "stream",
     "text": [
      "Jaccard distance computing time cost: 80.77160263061523\n",
      "Extracting Online Features for convnext ...\n",
      "Features extracted in 202.00 seconds\n",
      "Computing jaccard distance...\n"
     ]
    },
    {
     "name": "stderr",
     "output_type": "stream",
     "text": [
      "bruteForceKnn is deprecated; call bfKnn instead\n"
     ]
    },
    {
     "name": "stdout",
     "output_type": "stream",
     "text": [
      "Jaccard distance computing time cost: 92.82647752761841\n",
      "Extracting Online Features for mobilenet ...\n",
      "Features extracted in 203.98 seconds\n",
      "Computing jaccard distance...\n"
     ]
    },
    {
     "name": "stderr",
     "output_type": "stream",
     "text": [
      "bruteForceKnn is deprecated; call bfKnn instead\n"
     ]
    },
    {
     "name": "stdout",
     "output_type": "stream",
     "text": [
      "Jaccard distance computing time cost: 79.06139850616455\n",
      "Extracting Online Features for vgg16 ...\n",
      "Features extracted in 196.10 seconds\n",
      "Computing jaccard distance...\n"
     ]
    },
    {
     "name": "stderr",
     "output_type": "stream",
     "text": [
      "bruteForceKnn is deprecated; call bfKnn instead\n"
     ]
    },
    {
     "name": "stdout",
     "output_type": "stream",
     "text": [
      "Jaccard distance computing time cost: 78.51616072654724\n",
      "Extracting Online Features for resnet50 ...\n",
      "Features extracted in 208.04 seconds\n",
      "Computing jaccard distance...\n"
     ]
    },
    {
     "name": "stderr",
     "output_type": "stream",
     "text": [
      "bruteForceKnn is deprecated; call bfKnn instead\n"
     ]
    },
    {
     "name": "stdout",
     "output_type": "stream",
     "text": [
      "Jaccard distance computing time cost: 89.63839149475098\n",
      "Extracting Online Features for osnet ...\n",
      "Features extracted in 204.45 seconds\n",
      "Computing jaccard distance...\n"
     ]
    },
    {
     "name": "stderr",
     "output_type": "stream",
     "text": [
      "bruteForceKnn is deprecated; call bfKnn instead\n"
     ]
    },
    {
     "name": "stdout",
     "output_type": "stream",
     "text": [
      "Jaccard distance computing time cost: 80.1193687915802\n",
      "Extracting Online Features for densenet121 ...\n",
      "Features extracted in 202.08 seconds\n",
      "Computing jaccard distance...\n"
     ]
    },
    {
     "name": "stderr",
     "output_type": "stream",
     "text": [
      "bruteForceKnn is deprecated; call bfKnn instead\n"
     ]
    },
    {
     "name": "stdout",
     "output_type": "stream",
     "text": [
      "Jaccard distance computing time cost: 80.45891666412354\n",
      "Reliability: 0.998\n",
      "\u001b[32mMean Purity: 0.00164\u001b[0m\n",
      "\u001b[34mThere are 2 clusters with 4 cameras\u001b[0m\n",
      "\u001b[34mThere are 4 clusters with 5 cameras\u001b[0m\n",
      "\u001b[34mThere are 1 clusters with 8 cameras\u001b[0m\n",
      "\u001b[34mThere are 1 clusters with 10 cameras\u001b[0m\n",
      "\u001b[34mThere are 1 clusters with 13 cameras\u001b[0m\n",
      "\u001b[34mThere are 1 clusters with 16 cameras\u001b[0m\n",
      "\u001b[34mThere are 2 clusters with 18 cameras\u001b[0m\n",
      "\u001b[34mThere are 1 clusters with 26 cameras\u001b[0m\n",
      "\u001b[34mThere are 1 clusters with 27 cameras\u001b[0m\n",
      "\u001b[34mThere are 1 clusters with 30 cameras\u001b[0m\n",
      "\u001b[34mThere are 1 clusters with 34 cameras\u001b[0m\n",
      "\u001b[34mThere are 1 clusters with 37 cameras\u001b[0m\n",
      "\u001b[34mThere are 1 clusters with 38 cameras\u001b[0m\n",
      "\u001b[34mThere are 1 clusters with 44 cameras\u001b[0m\n",
      "\u001b[34mThere are 1 clusters with 47 cameras\u001b[0m\n",
      "\u001b[34mThere are 1 clusters with 48 cameras\u001b[0m\n",
      "\u001b[34mThere are 1 clusters with 52 cameras\u001b[0m\n",
      "\u001b[34mThere are 1 clusters with 54 cameras\u001b[0m\n",
      "\u001b[34mThere are 2 clusters with 58 cameras\u001b[0m\n",
      "\u001b[34mThere are 4 clusters with 59 cameras\u001b[0m\n",
      "\u001b[34mThere are 1 clusters with 60 cameras\u001b[0m\n",
      "\u001b[34mThere are 13 clusters with 61 cameras\u001b[0m\n",
      "\u001b[34mThere are 10 clusters with 62 cameras\u001b[0m\n",
      "\u001b[34mThere are 16 clusters with 63 cameras\u001b[0m\n",
      "\u001b[34mThere are 538 clusters with 64 cameras\u001b[0m\n",
      "\u001b[34mThere are 1 clusters with 108 cameras\u001b[0m\n",
      "\u001b[34mThere are 1 clusters with 127 cameras\u001b[0m\n",
      "\u001b[34mThere are 2 clusters with 128 cameras\u001b[0m\n",
      "Number of classes: 611\n",
      "\u001b[36mLearning Rate: 0.000158\u001b[0m\n",
      "encontrou modelos efficientnet. Carregando...\n",
      "encontrou modelos convnext. Carregando...\n",
      "encontrou modelos mobilenet. Carregando...\n",
      "encontrou modelos vgg16. Carregando...\n",
      "encontrou modelos resnet50. Carregando...\n",
      "encontrou modelos osnet. Carregando...\n",
      "encontrou modelos densenet121. Carregando...\n",
      "###============ Iteration number 80/90 ============###\n",
      "Extracting Online Features for efficientnet ...\n",
      "Features extracted in 202.97 seconds\n",
      "Computing jaccard distance...\n"
     ]
    },
    {
     "name": "stderr",
     "output_type": "stream",
     "text": [
      "bruteForceKnn is deprecated; call bfKnn instead\n"
     ]
    },
    {
     "name": "stdout",
     "output_type": "stream",
     "text": [
      "Jaccard distance computing time cost: 90.3681857585907\n",
      "Extracting Online Features for convnext ...\n",
      "Features extracted in 203.01 seconds\n",
      "Computing jaccard distance...\n"
     ]
    },
    {
     "name": "stderr",
     "output_type": "stream",
     "text": [
      "bruteForceKnn is deprecated; call bfKnn instead\n"
     ]
    },
    {
     "name": "stdout",
     "output_type": "stream",
     "text": [
      "Jaccard distance computing time cost: 79.57008814811707\n",
      "Extracting Online Features for mobilenet ...\n",
      "Features extracted in 198.74 seconds\n",
      "Computing jaccard distance...\n"
     ]
    },
    {
     "name": "stderr",
     "output_type": "stream",
     "text": [
      "bruteForceKnn is deprecated; call bfKnn instead\n"
     ]
    },
    {
     "name": "stdout",
     "output_type": "stream",
     "text": [
      "Jaccard distance computing time cost: 78.74272847175598\n",
      "Extracting Online Features for vgg16 ...\n",
      "Features extracted in 198.49 seconds\n",
      "Computing jaccard distance...\n"
     ]
    },
    {
     "name": "stderr",
     "output_type": "stream",
     "text": [
      "bruteForceKnn is deprecated; call bfKnn instead\n"
     ]
    },
    {
     "name": "stdout",
     "output_type": "stream",
     "text": [
      "Jaccard distance computing time cost: 85.3608455657959\n",
      "Extracting Online Features for resnet50 ...\n",
      "Features extracted in 197.56 seconds\n",
      "Computing jaccard distance...\n"
     ]
    },
    {
     "name": "stderr",
     "output_type": "stream",
     "text": [
      "bruteForceKnn is deprecated; call bfKnn instead\n"
     ]
    },
    {
     "name": "stdout",
     "output_type": "stream",
     "text": [
      "Jaccard distance computing time cost: 86.07849073410034\n",
      "Extracting Online Features for osnet ...\n",
      "Features extracted in 199.90 seconds\n",
      "Computing jaccard distance...\n"
     ]
    },
    {
     "name": "stderr",
     "output_type": "stream",
     "text": [
      "bruteForceKnn is deprecated; call bfKnn instead\n"
     ]
    },
    {
     "name": "stdout",
     "output_type": "stream",
     "text": [
      "Jaccard distance computing time cost: 80.08240747451782\n",
      "Extracting Online Features for densenet121 ...\n",
      "Features extracted in 206.01 seconds\n",
      "Computing jaccard distance...\n"
     ]
    },
    {
     "name": "stderr",
     "output_type": "stream",
     "text": [
      "bruteForceKnn is deprecated; call bfKnn instead\n"
     ]
    },
    {
     "name": "stdout",
     "output_type": "stream",
     "text": [
      "Jaccard distance computing time cost: 83.2580304145813\n",
      "Reliability: 0.998\n",
      "\u001b[32mMean Purity: 0.00164\u001b[0m\n",
      "\u001b[34mThere are 2 clusters with 4 cameras\u001b[0m\n",
      "\u001b[34mThere are 4 clusters with 5 cameras\u001b[0m\n",
      "\u001b[34mThere are 1 clusters with 8 cameras\u001b[0m\n",
      "\u001b[34mThere are 1 clusters with 10 cameras\u001b[0m\n",
      "\u001b[34mThere are 1 clusters with 13 cameras\u001b[0m\n",
      "\u001b[34mThere are 1 clusters with 16 cameras\u001b[0m\n",
      "\u001b[34mThere are 2 clusters with 18 cameras\u001b[0m\n",
      "\u001b[34mThere are 1 clusters with 26 cameras\u001b[0m\n",
      "\u001b[34mThere are 1 clusters with 27 cameras\u001b[0m\n",
      "\u001b[34mThere are 1 clusters with 30 cameras\u001b[0m\n",
      "\u001b[34mThere are 1 clusters with 34 cameras\u001b[0m\n",
      "\u001b[34mThere are 1 clusters with 37 cameras\u001b[0m\n",
      "\u001b[34mThere are 1 clusters with 38 cameras\u001b[0m\n",
      "\u001b[34mThere are 1 clusters with 44 cameras\u001b[0m\n",
      "\u001b[34mThere are 1 clusters with 47 cameras\u001b[0m\n",
      "\u001b[34mThere are 1 clusters with 48 cameras\u001b[0m\n",
      "\u001b[34mThere are 1 clusters with 52 cameras\u001b[0m\n",
      "\u001b[34mThere are 1 clusters with 54 cameras\u001b[0m\n",
      "\u001b[34mThere are 2 clusters with 58 cameras\u001b[0m\n",
      "\u001b[34mThere are 4 clusters with 59 cameras\u001b[0m\n",
      "\u001b[34mThere are 1 clusters with 60 cameras\u001b[0m\n",
      "\u001b[34mThere are 13 clusters with 61 cameras\u001b[0m\n",
      "\u001b[34mThere are 10 clusters with 62 cameras\u001b[0m\n",
      "\u001b[34mThere are 16 clusters with 63 cameras\u001b[0m\n",
      "\u001b[34mThere are 538 clusters with 64 cameras\u001b[0m\n",
      "\u001b[34mThere are 1 clusters with 108 cameras\u001b[0m\n",
      "\u001b[34mThere are 1 clusters with 127 cameras\u001b[0m\n",
      "\u001b[34mThere are 2 clusters with 128 cameras\u001b[0m\n",
      "Number of classes: 611\n",
      "\u001b[36mLearning Rate: 0.000175\u001b[0m\n",
      "encontrou modelos efficientnet. Carregando...\n",
      "encontrou modelos convnext. Carregando...\n",
      "encontrou modelos mobilenet. Carregando...\n",
      "encontrou modelos vgg16. Carregando...\n",
      "encontrou modelos resnet50. Carregando...\n",
      "encontrou modelos osnet. Carregando...\n",
      "encontrou modelos densenet121. Carregando...\n",
      "\u001b[33mValidating online efficientnet ...\u001b[0m\n",
      "Features extracted in 61.59 seconds\n",
      "Features extracted in 111.02 seconds\n",
      "Computing CMC and mAP ...\n",
      "** Results **\n",
      "mAP: 72.74%\n",
      "CMC curve\n",
      "Rank-1  : 86.50%\n",
      "Rank-5  : 96.56%\n",
      "Rank-10 : 98.57%\n",
      "Rank-20 : 99.42%\n",
      "\u001b[33mValidating momentum efficientnet ...\u001b[0m\n",
      "Features extracted in 61.54 seconds\n",
      "Features extracted in 113.04 seconds\n",
      "Computing CMC and mAP ...\n",
      "** Results **\n",
      "mAP: 71.24%\n",
      "CMC curve\n",
      "Rank-1  : 78.00%\n",
      "Rank-5  : 94.78%\n",
      "Rank-10 : 98.01%\n",
      "Rank-20 : 99.39%\n",
      "\u001b[33mValidating online convnext ...\u001b[0m\n",
      "Features extracted in 62.26 seconds\n",
      "Features extracted in 122.71 seconds\n",
      "Computing CMC and mAP ...\n",
      "** Results **\n",
      "mAP: 75.86%\n",
      "CMC curve\n",
      "Rank-1  : 90.47%\n",
      "Rank-5  : 95.47%\n",
      "Rank-10 : 97.23%\n",
      "Rank-20 : 99.00%\n",
      "\u001b[33mValidating momentum convnext ...\u001b[0m\n",
      "Features extracted in 64.72 seconds\n",
      "Features extracted in 122.89 seconds\n",
      "Computing CMC and mAP ...\n",
      "** Results **\n",
      "mAP: 70.89%\n",
      "CMC curve\n",
      "Rank-1  : 81.10%\n",
      "Rank-5  : 94.32%\n",
      "Rank-10 : 97.06%\n",
      "Rank-20 : 98.73%\n",
      "\u001b[33mValidating online mobilenet ...\u001b[0m\n",
      "Features extracted in 60.27 seconds\n",
      "Features extracted in 114.84 seconds\n",
      "Computing CMC and mAP ...\n",
      "** Results **\n",
      "mAP: 71.69%\n",
      "CMC curve\n",
      "Rank-1  : 87.20%\n",
      "Rank-5  : 96.74%\n",
      "Rank-10 : 98.85%\n",
      "Rank-20 : 99.71%\n",
      "\u001b[33mValidating momentum mobilenet ...\u001b[0m\n",
      "Features extracted in 60.58 seconds\n",
      "Features extracted in 114.81 seconds\n",
      "Computing CMC and mAP ...\n",
      "** Results **\n",
      "mAP: 71.41%\n",
      "CMC curve\n",
      "Rank-1  : 83.91%\n",
      "Rank-5  : 95.41%\n",
      "Rank-10 : 98.08%\n",
      "Rank-20 : 99.14%\n",
      "\u001b[33mValidating online vgg16 ...\u001b[0m\n",
      "Features extracted in 63.56 seconds\n",
      "Features extracted in 117.33 seconds\n",
      "Computing CMC and mAP ...\n",
      "** Results **\n",
      "mAP: 72.14%\n",
      "CMC curve\n",
      "Rank-1  : 87.41%\n",
      "Rank-5  : 96.72%\n",
      "Rank-10 : 98.80%\n",
      "Rank-20 : 99.68%\n",
      "\u001b[33mValidating momentum vgg16 ...\u001b[0m\n",
      "Features extracted in 61.19 seconds\n",
      "Features extracted in 113.22 seconds\n",
      "Computing CMC and mAP ...\n",
      "** Results **\n",
      "mAP: 71.15%\n",
      "CMC curve\n",
      "Rank-1  : 79.56%\n",
      "Rank-5  : 95.82%\n",
      "Rank-10 : 98.64%\n",
      "Rank-20 : 99.55%\n",
      "\u001b[33mValidating online resnet50 ...\u001b[0m\n",
      "Features extracted in 64.60 seconds\n",
      "Features extracted in 118.75 seconds\n",
      "Computing CMC and mAP ...\n",
      "** Results **\n",
      "mAP: 72.93%\n",
      "CMC curve\n",
      "Rank-1  : 89.22%\n",
      "Rank-5  : 97.35%\n",
      "Rank-10 : 99.02%\n",
      "Rank-20 : 99.75%\n",
      "\u001b[33mValidating momentum resnet50 ...\u001b[0m\n",
      "Features extracted in 63.27 seconds\n",
      "Features extracted in 115.87 seconds\n",
      "Computing CMC and mAP ...\n",
      "** Results **\n",
      "mAP: 74.37%\n",
      "CMC curve\n",
      "Rank-1  : 90.07%\n",
      "Rank-5  : 97.95%\n",
      "Rank-10 : 99.19%\n",
      "Rank-20 : 99.74%\n",
      "\u001b[33mValidating online osnet ...\u001b[0m\n",
      "Features extracted in 64.98 seconds\n",
      "Features extracted in 114.72 seconds\n",
      "Computing CMC and mAP ...\n",
      "** Results **\n",
      "mAP: 71.05%\n",
      "CMC curve\n",
      "Rank-1  : 81.59%\n",
      "Rank-5  : 95.73%\n",
      "Rank-10 : 98.23%\n",
      "Rank-20 : 99.54%\n",
      "\u001b[33mValidating momentum osnet ...\u001b[0m\n",
      "Features extracted in 61.56 seconds\n",
      "Features extracted in 116.18 seconds\n",
      "Computing CMC and mAP ...\n",
      "** Results **\n",
      "mAP: 73.09%\n",
      "CMC curve\n",
      "Rank-1  : 81.93%\n",
      "Rank-5  : 95.43%\n",
      "Rank-10 : 98.30%\n",
      "Rank-20 : 99.46%\n",
      "\u001b[33mValidating online densenet121 ...\u001b[0m\n",
      "Features extracted in 64.60 seconds\n",
      "Features extracted in 115.71 seconds\n",
      "Computing CMC and mAP ...\n",
      "** Results **\n",
      "mAP: 74.36%\n",
      "CMC curve\n",
      "Rank-1  : 92.33%\n",
      "Rank-5  : 98.60%\n",
      "Rank-10 : 99.56%\n",
      "Rank-20 : 99.86%\n",
      "\u001b[33mValidating momentum densenet121 ...\u001b[0m\n",
      "Features extracted in 65.89 seconds\n",
      "Features extracted in 113.89 seconds\n",
      "Computing CMC and mAP ...\n",
      "** Results **\n",
      "mAP: 74.16%\n",
      "CMC curve\n",
      "Rank-1  : 86.99%\n",
      "Rank-5  : 96.54%\n",
      "Rank-10 : 98.30%\n",
      "Rank-20 : 99.46%\n",
      "\u001b[33mValidating ensembled with online models ...\u001b[0m\n",
      "Computing CMC and mAP ...\n",
      "** Results **\n",
      "mAP: 75.80%\n",
      "Ranks:\n",
      "Rank-1  : 96.73%\n",
      "Rank-5  : 98.98%\n",
      "Rank-10 : 99.48%\n",
      "\u001b[33mValidating ensembled with momentum models ...\u001b[0m\n",
      "Computing CMC and mAP ...\n",
      "** Results **\n",
      "mAP: 74.25%\n",
      "Ranks:\n",
      "Rank-1  : 87.54%\n",
      "Rank-5  : 96.96%\n",
      "Rank-10 : 98.89%\n",
      "###============ Iteration number 81/90 ============###\n",
      "Extracting Online Features for efficientnet ...\n",
      "Features extracted in 200.86 seconds\n",
      "Computing jaccard distance...\n"
     ]
    },
    {
     "name": "stderr",
     "output_type": "stream",
     "text": [
      "bruteForceKnn is deprecated; call bfKnn instead\n"
     ]
    },
    {
     "name": "stdout",
     "output_type": "stream",
     "text": [
      "Jaccard distance computing time cost: 79.08582305908203\n",
      "Extracting Online Features for convnext ...\n",
      "Features extracted in 201.16 seconds\n",
      "Computing jaccard distance...\n"
     ]
    },
    {
     "name": "stderr",
     "output_type": "stream",
     "text": [
      "bruteForceKnn is deprecated; call bfKnn instead\n"
     ]
    },
    {
     "name": "stdout",
     "output_type": "stream",
     "text": [
      "Jaccard distance computing time cost: 82.73832750320435\n",
      "Extracting Online Features for mobilenet ...\n",
      "Features extracted in 201.25 seconds\n",
      "Computing jaccard distance...\n"
     ]
    },
    {
     "name": "stderr",
     "output_type": "stream",
     "text": [
      "bruteForceKnn is deprecated; call bfKnn instead\n"
     ]
    },
    {
     "name": "stdout",
     "output_type": "stream",
     "text": [
      "Jaccard distance computing time cost: 79.24074411392212\n",
      "Extracting Online Features for vgg16 ...\n",
      "Features extracted in 201.87 seconds\n",
      "Computing jaccard distance...\n"
     ]
    },
    {
     "name": "stderr",
     "output_type": "stream",
     "text": [
      "bruteForceKnn is deprecated; call bfKnn instead\n"
     ]
    },
    {
     "name": "stdout",
     "output_type": "stream",
     "text": [
      "Jaccard distance computing time cost: 80.16600370407104\n",
      "Extracting Online Features for resnet50 ...\n",
      "Features extracted in 203.12 seconds\n",
      "Computing jaccard distance...\n"
     ]
    },
    {
     "name": "stderr",
     "output_type": "stream",
     "text": [
      "bruteForceKnn is deprecated; call bfKnn instead\n"
     ]
    },
    {
     "name": "stdout",
     "output_type": "stream",
     "text": [
      "Jaccard distance computing time cost: 80.99461030960083\n",
      "Extracting Online Features for osnet ...\n",
      "Features extracted in 200.27 seconds\n",
      "Computing jaccard distance...\n"
     ]
    },
    {
     "name": "stderr",
     "output_type": "stream",
     "text": [
      "bruteForceKnn is deprecated; call bfKnn instead\n"
     ]
    },
    {
     "name": "stdout",
     "output_type": "stream",
     "text": [
      "Jaccard distance computing time cost: 78.98196792602539\n",
      "Extracting Online Features for densenet121 ...\n",
      "Features extracted in 195.15 seconds\n",
      "Computing jaccard distance...\n"
     ]
    },
    {
     "name": "stderr",
     "output_type": "stream",
     "text": [
      "bruteForceKnn is deprecated; call bfKnn instead\n"
     ]
    },
    {
     "name": "stdout",
     "output_type": "stream",
     "text": [
      "Jaccard distance computing time cost: 83.60174512863159\n",
      "Reliability: 0.998\n",
      "\u001b[32mMean Purity: 0.00164\u001b[0m\n",
      "\u001b[34mThere are 2 clusters with 4 cameras\u001b[0m\n",
      "\u001b[34mThere are 4 clusters with 5 cameras\u001b[0m\n",
      "\u001b[34mThere are 1 clusters with 8 cameras\u001b[0m\n",
      "\u001b[34mThere are 1 clusters with 10 cameras\u001b[0m\n",
      "\u001b[34mThere are 1 clusters with 13 cameras\u001b[0m\n",
      "\u001b[34mThere are 1 clusters with 16 cameras\u001b[0m\n",
      "\u001b[34mThere are 2 clusters with 18 cameras\u001b[0m\n",
      "\u001b[34mThere are 1 clusters with 26 cameras\u001b[0m\n",
      "\u001b[34mThere are 1 clusters with 27 cameras\u001b[0m\n",
      "\u001b[34mThere are 1 clusters with 30 cameras\u001b[0m\n",
      "\u001b[34mThere are 1 clusters with 34 cameras\u001b[0m\n",
      "\u001b[34mThere are 1 clusters with 37 cameras\u001b[0m\n",
      "\u001b[34mThere are 1 clusters with 38 cameras\u001b[0m\n",
      "\u001b[34mThere are 1 clusters with 44 cameras\u001b[0m\n",
      "\u001b[34mThere are 1 clusters with 47 cameras\u001b[0m\n",
      "\u001b[34mThere are 1 clusters with 48 cameras\u001b[0m\n",
      "\u001b[34mThere are 1 clusters with 52 cameras\u001b[0m\n",
      "\u001b[34mThere are 1 clusters with 54 cameras\u001b[0m\n",
      "\u001b[34mThere are 2 clusters with 58 cameras\u001b[0m\n",
      "\u001b[34mThere are 4 clusters with 59 cameras\u001b[0m\n",
      "\u001b[34mThere are 1 clusters with 60 cameras\u001b[0m\n",
      "\u001b[34mThere are 13 clusters with 61 cameras\u001b[0m\n",
      "\u001b[34mThere are 10 clusters with 62 cameras\u001b[0m\n",
      "\u001b[34mThere are 16 clusters with 63 cameras\u001b[0m\n",
      "\u001b[34mThere are 538 clusters with 64 cameras\u001b[0m\n",
      "\u001b[34mThere are 1 clusters with 108 cameras\u001b[0m\n",
      "\u001b[34mThere are 1 clusters with 127 cameras\u001b[0m\n",
      "\u001b[34mThere are 2 clusters with 128 cameras\u001b[0m\n",
      "Number of classes: 611\n",
      "\u001b[36mLearning Rate: 0.000193\u001b[0m\n",
      "encontrou modelos efficientnet. Carregando...\n",
      "encontrou modelos convnext. Carregando...\n",
      "encontrou modelos mobilenet. Carregando...\n",
      "encontrou modelos vgg16. Carregando...\n",
      "encontrou modelos resnet50. Carregando...\n",
      "encontrou modelos osnet. Carregando...\n",
      "encontrou modelos densenet121. Carregando...\n",
      "###============ Iteration number 82/90 ============###\n",
      "Extracting Online Features for efficientnet ...\n",
      "Features extracted in 198.50 seconds\n",
      "Computing jaccard distance...\n"
     ]
    },
    {
     "name": "stderr",
     "output_type": "stream",
     "text": [
      "bruteForceKnn is deprecated; call bfKnn instead\n"
     ]
    },
    {
     "name": "stdout",
     "output_type": "stream",
     "text": [
      "Jaccard distance computing time cost: 85.6664628982544\n",
      "Extracting Online Features for convnext ...\n",
      "Features extracted in 202.74 seconds\n",
      "Computing jaccard distance...\n"
     ]
    },
    {
     "name": "stderr",
     "output_type": "stream",
     "text": [
      "bruteForceKnn is deprecated; call bfKnn instead\n"
     ]
    },
    {
     "name": "stdout",
     "output_type": "stream",
     "text": [
      "Jaccard distance computing time cost: 78.70352172851562\n",
      "Extracting Online Features for mobilenet ...\n",
      "Features extracted in 196.07 seconds\n",
      "Computing jaccard distance...\n"
     ]
    },
    {
     "name": "stderr",
     "output_type": "stream",
     "text": [
      "bruteForceKnn is deprecated; call bfKnn instead\n"
     ]
    },
    {
     "name": "stdout",
     "output_type": "stream",
     "text": [
      "Jaccard distance computing time cost: 80.01166200637817\n",
      "Extracting Online Features for vgg16 ...\n",
      "Features extracted in 194.32 seconds\n",
      "Computing jaccard distance...\n"
     ]
    },
    {
     "name": "stderr",
     "output_type": "stream",
     "text": [
      "bruteForceKnn is deprecated; call bfKnn instead\n"
     ]
    },
    {
     "name": "stdout",
     "output_type": "stream",
     "text": [
      "Jaccard distance computing time cost: 78.80398654937744\n",
      "Extracting Online Features for resnet50 ...\n",
      "Features extracted in 194.00 seconds\n",
      "Computing jaccard distance...\n"
     ]
    },
    {
     "name": "stderr",
     "output_type": "stream",
     "text": [
      "bruteForceKnn is deprecated; call bfKnn instead\n"
     ]
    },
    {
     "name": "stdout",
     "output_type": "stream",
     "text": [
      "Jaccard distance computing time cost: 79.17867040634155\n",
      "Extracting Online Features for osnet ...\n",
      "Features extracted in 194.64 seconds\n",
      "Computing jaccard distance...\n"
     ]
    },
    {
     "name": "stderr",
     "output_type": "stream",
     "text": [
      "bruteForceKnn is deprecated; call bfKnn instead\n"
     ]
    },
    {
     "name": "stdout",
     "output_type": "stream",
     "text": [
      "Jaccard distance computing time cost: 77.02466893196106\n",
      "Extracting Online Features for densenet121 ...\n",
      "Features extracted in 210.78 seconds\n",
      "Computing jaccard distance...\n"
     ]
    },
    {
     "name": "stderr",
     "output_type": "stream",
     "text": [
      "bruteForceKnn is deprecated; call bfKnn instead\n"
     ]
    },
    {
     "name": "stdout",
     "output_type": "stream",
     "text": [
      "Jaccard distance computing time cost: 79.28524374961853\n",
      "Reliability: 0.998\n",
      "\u001b[32mMean Purity: 0.00164\u001b[0m\n",
      "\u001b[34mThere are 2 clusters with 4 cameras\u001b[0m\n",
      "\u001b[34mThere are 4 clusters with 5 cameras\u001b[0m\n",
      "\u001b[34mThere are 1 clusters with 8 cameras\u001b[0m\n",
      "\u001b[34mThere are 1 clusters with 10 cameras\u001b[0m\n",
      "\u001b[34mThere are 1 clusters with 13 cameras\u001b[0m\n",
      "\u001b[34mThere are 1 clusters with 16 cameras\u001b[0m\n",
      "\u001b[34mThere are 2 clusters with 18 cameras\u001b[0m\n",
      "\u001b[34mThere are 1 clusters with 26 cameras\u001b[0m\n",
      "\u001b[34mThere are 1 clusters with 27 cameras\u001b[0m\n",
      "\u001b[34mThere are 1 clusters with 30 cameras\u001b[0m\n",
      "\u001b[34mThere are 1 clusters with 34 cameras\u001b[0m\n",
      "\u001b[34mThere are 1 clusters with 37 cameras\u001b[0m\n",
      "\u001b[34mThere are 1 clusters with 38 cameras\u001b[0m\n",
      "\u001b[34mThere are 1 clusters with 44 cameras\u001b[0m\n",
      "\u001b[34mThere are 1 clusters with 47 cameras\u001b[0m\n",
      "\u001b[34mThere are 1 clusters with 48 cameras\u001b[0m\n",
      "\u001b[34mThere are 1 clusters with 52 cameras\u001b[0m\n",
      "\u001b[34mThere are 1 clusters with 54 cameras\u001b[0m\n",
      "\u001b[34mThere are 2 clusters with 58 cameras\u001b[0m\n",
      "\u001b[34mThere are 4 clusters with 59 cameras\u001b[0m\n",
      "\u001b[34mThere are 1 clusters with 60 cameras\u001b[0m\n",
      "\u001b[34mThere are 13 clusters with 61 cameras\u001b[0m\n",
      "\u001b[34mThere are 10 clusters with 62 cameras\u001b[0m\n",
      "\u001b[34mThere are 16 clusters with 63 cameras\u001b[0m\n",
      "\u001b[34mThere are 538 clusters with 64 cameras\u001b[0m\n",
      "\u001b[34mThere are 1 clusters with 108 cameras\u001b[0m\n",
      "\u001b[34mThere are 1 clusters with 127 cameras\u001b[0m\n",
      "\u001b[34mThere are 2 clusters with 128 cameras\u001b[0m\n",
      "Number of classes: 611\n",
      "\u001b[36mLearning Rate: 0.000210\u001b[0m\n",
      "encontrou modelos efficientnet. Carregando...\n",
      "encontrou modelos convnext. Carregando...\n",
      "encontrou modelos mobilenet. Carregando...\n",
      "encontrou modelos vgg16. Carregando...\n",
      "encontrou modelos resnet50. Carregando...\n",
      "encontrou modelos osnet. Carregando...\n",
      "encontrou modelos densenet121. Carregando...\n",
      "###============ Iteration number 83/90 ============###\n",
      "Extracting Online Features for efficientnet ...\n",
      "Features extracted in 195.57 seconds\n",
      "Computing jaccard distance...\n"
     ]
    },
    {
     "name": "stderr",
     "output_type": "stream",
     "text": [
      "bruteForceKnn is deprecated; call bfKnn instead\n"
     ]
    },
    {
     "name": "stdout",
     "output_type": "stream",
     "text": [
      "Jaccard distance computing time cost: 81.22674059867859\n",
      "Extracting Online Features for convnext ...\n",
      "Features extracted in 197.05 seconds\n",
      "Computing jaccard distance...\n"
     ]
    },
    {
     "name": "stderr",
     "output_type": "stream",
     "text": [
      "bruteForceKnn is deprecated; call bfKnn instead\n"
     ]
    },
    {
     "name": "stdout",
     "output_type": "stream",
     "text": [
      "Jaccard distance computing time cost: 78.96327614784241\n",
      "Extracting Online Features for mobilenet ...\n",
      "Features extracted in 199.78 seconds\n",
      "Computing jaccard distance...\n"
     ]
    },
    {
     "name": "stderr",
     "output_type": "stream",
     "text": [
      "bruteForceKnn is deprecated; call bfKnn instead\n"
     ]
    },
    {
     "name": "stdout",
     "output_type": "stream",
     "text": [
      "Jaccard distance computing time cost: 91.2415862083435\n",
      "Extracting Online Features for vgg16 ...\n",
      "Features extracted in 195.50 seconds\n",
      "Computing jaccard distance...\n"
     ]
    },
    {
     "name": "stderr",
     "output_type": "stream",
     "text": [
      "bruteForceKnn is deprecated; call bfKnn instead\n"
     ]
    },
    {
     "name": "stdout",
     "output_type": "stream",
     "text": [
      "Jaccard distance computing time cost: 84.44762921333313\n",
      "Extracting Online Features for resnet50 ...\n",
      "Features extracted in 192.02 seconds\n",
      "Computing jaccard distance...\n"
     ]
    },
    {
     "name": "stderr",
     "output_type": "stream",
     "text": [
      "bruteForceKnn is deprecated; call bfKnn instead\n"
     ]
    },
    {
     "name": "stdout",
     "output_type": "stream",
     "text": [
      "Jaccard distance computing time cost: 81.00320816040039\n",
      "Extracting Online Features for osnet ...\n",
      "Features extracted in 202.75 seconds\n",
      "Computing jaccard distance...\n"
     ]
    },
    {
     "name": "stderr",
     "output_type": "stream",
     "text": [
      "bruteForceKnn is deprecated; call bfKnn instead\n"
     ]
    },
    {
     "name": "stdout",
     "output_type": "stream",
     "text": [
      "Jaccard distance computing time cost: 82.15313816070557\n",
      "Extracting Online Features for densenet121 ...\n",
      "Features extracted in 198.16 seconds\n",
      "Computing jaccard distance...\n"
     ]
    },
    {
     "name": "stderr",
     "output_type": "stream",
     "text": [
      "bruteForceKnn is deprecated; call bfKnn instead\n"
     ]
    },
    {
     "name": "stdout",
     "output_type": "stream",
     "text": [
      "Jaccard distance computing time cost: 79.13156151771545\n",
      "Reliability: 0.998\n",
      "\u001b[32mMean Purity: 0.00164\u001b[0m\n",
      "\u001b[34mThere are 2 clusters with 4 cameras\u001b[0m\n",
      "\u001b[34mThere are 4 clusters with 5 cameras\u001b[0m\n",
      "\u001b[34mThere are 1 clusters with 8 cameras\u001b[0m\n",
      "\u001b[34mThere are 1 clusters with 10 cameras\u001b[0m\n",
      "\u001b[34mThere are 1 clusters with 13 cameras\u001b[0m\n",
      "\u001b[34mThere are 1 clusters with 16 cameras\u001b[0m\n",
      "\u001b[34mThere are 2 clusters with 18 cameras\u001b[0m\n",
      "\u001b[34mThere are 1 clusters with 26 cameras\u001b[0m\n",
      "\u001b[34mThere are 1 clusters with 27 cameras\u001b[0m\n",
      "\u001b[34mThere are 1 clusters with 30 cameras\u001b[0m\n",
      "\u001b[34mThere are 1 clusters with 34 cameras\u001b[0m\n",
      "\u001b[34mThere are 1 clusters with 37 cameras\u001b[0m\n",
      "\u001b[34mThere are 1 clusters with 38 cameras\u001b[0m\n",
      "\u001b[34mThere are 1 clusters with 44 cameras\u001b[0m\n",
      "\u001b[34mThere are 1 clusters with 47 cameras\u001b[0m\n",
      "\u001b[34mThere are 1 clusters with 48 cameras\u001b[0m\n",
      "\u001b[34mThere are 1 clusters with 52 cameras\u001b[0m\n",
      "\u001b[34mThere are 1 clusters with 54 cameras\u001b[0m\n",
      "\u001b[34mThere are 2 clusters with 58 cameras\u001b[0m\n",
      "\u001b[34mThere are 4 clusters with 59 cameras\u001b[0m\n",
      "\u001b[34mThere are 1 clusters with 60 cameras\u001b[0m\n",
      "\u001b[34mThere are 13 clusters with 61 cameras\u001b[0m\n",
      "\u001b[34mThere are 10 clusters with 62 cameras\u001b[0m\n",
      "\u001b[34mThere are 16 clusters with 63 cameras\u001b[0m\n",
      "\u001b[34mThere are 538 clusters with 64 cameras\u001b[0m\n",
      "\u001b[34mThere are 1 clusters with 108 cameras\u001b[0m\n",
      "\u001b[34mThere are 1 clusters with 127 cameras\u001b[0m\n",
      "\u001b[34mThere are 2 clusters with 128 cameras\u001b[0m\n",
      "Number of classes: 611\n",
      "\u001b[36mLearning Rate: 0.000228\u001b[0m\n",
      "encontrou modelos efficientnet. Carregando...\n",
      "encontrou modelos convnext. Carregando...\n",
      "encontrou modelos mobilenet. Carregando...\n",
      "encontrou modelos vgg16. Carregando...\n",
      "encontrou modelos resnet50. Carregando...\n",
      "encontrou modelos osnet. Carregando...\n",
      "encontrou modelos densenet121. Carregando...\n",
      "###============ Iteration number 84/90 ============###\n",
      "Extracting Online Features for efficientnet ...\n",
      "Features extracted in 200.25 seconds\n",
      "Computing jaccard distance...\n"
     ]
    },
    {
     "name": "stderr",
     "output_type": "stream",
     "text": [
      "bruteForceKnn is deprecated; call bfKnn instead\n"
     ]
    },
    {
     "name": "stdout",
     "output_type": "stream",
     "text": [
      "Jaccard distance computing time cost: 78.60550022125244\n",
      "Extracting Online Features for convnext ...\n",
      "Features extracted in 202.16 seconds\n",
      "Computing jaccard distance...\n"
     ]
    },
    {
     "name": "stderr",
     "output_type": "stream",
     "text": [
      "bruteForceKnn is deprecated; call bfKnn instead\n"
     ]
    },
    {
     "name": "stdout",
     "output_type": "stream",
     "text": [
      "Jaccard distance computing time cost: 78.92030954360962\n",
      "Extracting Online Features for mobilenet ...\n",
      "Features extracted in 194.30 seconds\n",
      "Computing jaccard distance...\n"
     ]
    },
    {
     "name": "stderr",
     "output_type": "stream",
     "text": [
      "bruteForceKnn is deprecated; call bfKnn instead\n"
     ]
    },
    {
     "name": "stdout",
     "output_type": "stream",
     "text": [
      "Jaccard distance computing time cost: 78.42054891586304\n",
      "Extracting Online Features for vgg16 ...\n",
      "Features extracted in 191.28 seconds\n",
      "Computing jaccard distance...\n"
     ]
    },
    {
     "name": "stderr",
     "output_type": "stream",
     "text": [
      "bruteForceKnn is deprecated; call bfKnn instead\n"
     ]
    },
    {
     "name": "stdout",
     "output_type": "stream",
     "text": [
      "Jaccard distance computing time cost: 78.26186227798462\n",
      "Extracting Online Features for resnet50 ...\n",
      "Features extracted in 196.15 seconds\n",
      "Computing jaccard distance...\n"
     ]
    },
    {
     "name": "stderr",
     "output_type": "stream",
     "text": [
      "bruteForceKnn is deprecated; call bfKnn instead\n"
     ]
    },
    {
     "name": "stdout",
     "output_type": "stream",
     "text": [
      "Jaccard distance computing time cost: 86.10101318359375\n",
      "Extracting Online Features for osnet ...\n",
      "Features extracted in 192.83 seconds\n",
      "Computing jaccard distance...\n"
     ]
    },
    {
     "name": "stderr",
     "output_type": "stream",
     "text": [
      "bruteForceKnn is deprecated; call bfKnn instead\n"
     ]
    },
    {
     "name": "stdout",
     "output_type": "stream",
     "text": [
      "Jaccard distance computing time cost: 78.36869955062866\n",
      "Extracting Online Features for densenet121 ...\n",
      "Features extracted in 198.25 seconds\n",
      "Computing jaccard distance...\n"
     ]
    },
    {
     "name": "stderr",
     "output_type": "stream",
     "text": [
      "bruteForceKnn is deprecated; call bfKnn instead\n"
     ]
    },
    {
     "name": "stdout",
     "output_type": "stream",
     "text": [
      "Jaccard distance computing time cost: 81.66506218910217\n",
      "Reliability: 0.998\n",
      "\u001b[32mMean Purity: 0.00164\u001b[0m\n",
      "\u001b[34mThere are 2 clusters with 4 cameras\u001b[0m\n",
      "\u001b[34mThere are 4 clusters with 5 cameras\u001b[0m\n",
      "\u001b[34mThere are 1 clusters with 8 cameras\u001b[0m\n",
      "\u001b[34mThere are 1 clusters with 10 cameras\u001b[0m\n",
      "\u001b[34mThere are 1 clusters with 13 cameras\u001b[0m\n",
      "\u001b[34mThere are 1 clusters with 16 cameras\u001b[0m\n",
      "\u001b[34mThere are 2 clusters with 18 cameras\u001b[0m\n",
      "\u001b[34mThere are 1 clusters with 26 cameras\u001b[0m\n",
      "\u001b[34mThere are 1 clusters with 27 cameras\u001b[0m\n",
      "\u001b[34mThere are 1 clusters with 30 cameras\u001b[0m\n",
      "\u001b[34mThere are 1 clusters with 34 cameras\u001b[0m\n",
      "\u001b[34mThere are 1 clusters with 37 cameras\u001b[0m\n",
      "\u001b[34mThere are 1 clusters with 38 cameras\u001b[0m\n",
      "\u001b[34mThere are 1 clusters with 44 cameras\u001b[0m\n",
      "\u001b[34mThere are 1 clusters with 47 cameras\u001b[0m\n",
      "\u001b[34mThere are 1 clusters with 48 cameras\u001b[0m\n",
      "\u001b[34mThere are 1 clusters with 52 cameras\u001b[0m\n",
      "\u001b[34mThere are 1 clusters with 54 cameras\u001b[0m\n",
      "\u001b[34mThere are 2 clusters with 58 cameras\u001b[0m\n",
      "\u001b[34mThere are 4 clusters with 59 cameras\u001b[0m\n",
      "\u001b[34mThere are 1 clusters with 60 cameras\u001b[0m\n",
      "\u001b[34mThere are 13 clusters with 61 cameras\u001b[0m\n",
      "\u001b[34mThere are 10 clusters with 62 cameras\u001b[0m\n",
      "\u001b[34mThere are 16 clusters with 63 cameras\u001b[0m\n",
      "\u001b[34mThere are 538 clusters with 64 cameras\u001b[0m\n",
      "\u001b[34mThere are 1 clusters with 108 cameras\u001b[0m\n",
      "\u001b[34mThere are 1 clusters with 127 cameras\u001b[0m\n",
      "\u001b[34mThere are 2 clusters with 128 cameras\u001b[0m\n",
      "Number of classes: 611\n",
      "\u001b[36mLearning Rate: 0.000245\u001b[0m\n",
      "encontrou modelos efficientnet. Carregando...\n",
      "encontrou modelos convnext. Carregando...\n",
      "encontrou modelos mobilenet. Carregando...\n",
      "encontrou modelos vgg16. Carregando...\n",
      "encontrou modelos resnet50. Carregando...\n",
      "encontrou modelos osnet. Carregando...\n",
      "encontrou modelos densenet121. Carregando...\n",
      "###============ Iteration number 85/90 ============###\n",
      "Extracting Online Features for efficientnet ...\n",
      "Features extracted in 202.79 seconds\n",
      "Computing jaccard distance...\n"
     ]
    },
    {
     "name": "stderr",
     "output_type": "stream",
     "text": [
      "bruteForceKnn is deprecated; call bfKnn instead\n"
     ]
    },
    {
     "name": "stdout",
     "output_type": "stream",
     "text": [
      "Jaccard distance computing time cost: 84.26586532592773\n",
      "Extracting Online Features for convnext ...\n",
      "Features extracted in 200.33 seconds\n",
      "Computing jaccard distance...\n"
     ]
    },
    {
     "name": "stderr",
     "output_type": "stream",
     "text": [
      "bruteForceKnn is deprecated; call bfKnn instead\n"
     ]
    },
    {
     "name": "stdout",
     "output_type": "stream",
     "text": [
      "Jaccard distance computing time cost: 79.34784936904907\n",
      "Extracting Online Features for mobilenet ...\n",
      "Features extracted in 196.77 seconds\n",
      "Computing jaccard distance...\n"
     ]
    },
    {
     "name": "stderr",
     "output_type": "stream",
     "text": [
      "bruteForceKnn is deprecated; call bfKnn instead\n"
     ]
    },
    {
     "name": "stdout",
     "output_type": "stream",
     "text": [
      "Jaccard distance computing time cost: 79.40968990325928\n",
      "Extracting Online Features for vgg16 ...\n",
      "Features extracted in 202.03 seconds\n",
      "Computing jaccard distance...\n"
     ]
    },
    {
     "name": "stderr",
     "output_type": "stream",
     "text": [
      "bruteForceKnn is deprecated; call bfKnn instead\n"
     ]
    },
    {
     "name": "stdout",
     "output_type": "stream",
     "text": [
      "Jaccard distance computing time cost: 78.73307514190674\n",
      "Extracting Online Features for resnet50 ...\n",
      "Features extracted in 196.39 seconds\n",
      "Computing jaccard distance...\n"
     ]
    },
    {
     "name": "stderr",
     "output_type": "stream",
     "text": [
      "bruteForceKnn is deprecated; call bfKnn instead\n"
     ]
    },
    {
     "name": "stdout",
     "output_type": "stream",
     "text": [
      "Jaccard distance computing time cost: 79.90105152130127\n",
      "Extracting Online Features for osnet ...\n",
      "Features extracted in 200.45 seconds\n",
      "Computing jaccard distance...\n"
     ]
    },
    {
     "name": "stderr",
     "output_type": "stream",
     "text": [
      "bruteForceKnn is deprecated; call bfKnn instead\n"
     ]
    },
    {
     "name": "stdout",
     "output_type": "stream",
     "text": [
      "Jaccard distance computing time cost: 78.51264500617981\n",
      "Extracting Online Features for densenet121 ...\n",
      "Features extracted in 190.98 seconds\n",
      "Computing jaccard distance...\n"
     ]
    },
    {
     "name": "stderr",
     "output_type": "stream",
     "text": [
      "bruteForceKnn is deprecated; call bfKnn instead\n"
     ]
    },
    {
     "name": "stdout",
     "output_type": "stream",
     "text": [
      "Jaccard distance computing time cost: 80.74053812026978\n",
      "Reliability: 0.998\n",
      "\u001b[32mMean Purity: 0.00164\u001b[0m\n",
      "\u001b[34mThere are 2 clusters with 4 cameras\u001b[0m\n",
      "\u001b[34mThere are 4 clusters with 5 cameras\u001b[0m\n",
      "\u001b[34mThere are 1 clusters with 8 cameras\u001b[0m\n",
      "\u001b[34mThere are 1 clusters with 10 cameras\u001b[0m\n",
      "\u001b[34mThere are 1 clusters with 13 cameras\u001b[0m\n",
      "\u001b[34mThere are 1 clusters with 16 cameras\u001b[0m\n",
      "\u001b[34mThere are 2 clusters with 18 cameras\u001b[0m\n",
      "\u001b[34mThere are 1 clusters with 26 cameras\u001b[0m\n",
      "\u001b[34mThere are 1 clusters with 27 cameras\u001b[0m\n",
      "\u001b[34mThere are 1 clusters with 30 cameras\u001b[0m\n",
      "\u001b[34mThere are 1 clusters with 34 cameras\u001b[0m\n",
      "\u001b[34mThere are 1 clusters with 37 cameras\u001b[0m\n",
      "\u001b[34mThere are 1 clusters with 38 cameras\u001b[0m\n",
      "\u001b[34mThere are 1 clusters with 44 cameras\u001b[0m\n",
      "\u001b[34mThere are 1 clusters with 47 cameras\u001b[0m\n",
      "\u001b[34mThere are 1 clusters with 48 cameras\u001b[0m\n",
      "\u001b[34mThere are 1 clusters with 52 cameras\u001b[0m\n",
      "\u001b[34mThere are 1 clusters with 54 cameras\u001b[0m\n",
      "\u001b[34mThere are 2 clusters with 58 cameras\u001b[0m\n",
      "\u001b[34mThere are 4 clusters with 59 cameras\u001b[0m\n",
      "\u001b[34mThere are 1 clusters with 60 cameras\u001b[0m\n",
      "\u001b[34mThere are 13 clusters with 61 cameras\u001b[0m\n",
      "\u001b[34mThere are 10 clusters with 62 cameras\u001b[0m\n",
      "\u001b[34mThere are 16 clusters with 63 cameras\u001b[0m\n",
      "\u001b[34mThere are 538 clusters with 64 cameras\u001b[0m\n",
      "\u001b[34mThere are 1 clusters with 108 cameras\u001b[0m\n",
      "\u001b[34mThere are 1 clusters with 127 cameras\u001b[0m\n",
      "\u001b[34mThere are 2 clusters with 128 cameras\u001b[0m\n",
      "Number of classes: 611\n",
      "\u001b[36mLearning Rate: 0.000263\u001b[0m\n",
      "encontrou modelos efficientnet. Carregando...\n",
      "encontrou modelos convnext. Carregando...\n",
      "encontrou modelos mobilenet. Carregando...\n",
      "encontrou modelos vgg16. Carregando...\n",
      "encontrou modelos resnet50. Carregando...\n",
      "encontrou modelos osnet. Carregando...\n",
      "encontrou modelos densenet121. Carregando...\n",
      "\u001b[33mValidating online efficientnet ...\u001b[0m\n",
      "Features extracted in 59.03 seconds\n",
      "Features extracted in 109.46 seconds\n",
      "Computing CMC and mAP ...\n",
      "** Results **\n",
      "mAP: 72.74%\n",
      "CMC curve\n",
      "Rank-1  : 86.50%\n",
      "Rank-5  : 96.56%\n",
      "Rank-10 : 98.57%\n",
      "Rank-20 : 99.42%\n",
      "\u001b[33mValidating momentum efficientnet ...\u001b[0m\n",
      "Features extracted in 61.09 seconds\n",
      "Features extracted in 111.03 seconds\n",
      "Computing CMC and mAP ...\n",
      "** Results **\n",
      "mAP: 71.24%\n",
      "CMC curve\n",
      "Rank-1  : 78.00%\n",
      "Rank-5  : 94.78%\n",
      "Rank-10 : 98.01%\n",
      "Rank-20 : 99.39%\n",
      "\u001b[33mValidating online convnext ...\u001b[0m\n",
      "Features extracted in 58.99 seconds\n",
      "Features extracted in 113.30 seconds\n",
      "Computing CMC and mAP ...\n",
      "** Results **\n",
      "mAP: 75.86%\n",
      "CMC curve\n",
      "Rank-1  : 90.47%\n",
      "Rank-5  : 95.47%\n",
      "Rank-10 : 97.23%\n",
      "Rank-20 : 99.00%\n",
      "\u001b[33mValidating momentum convnext ...\u001b[0m\n",
      "Features extracted in 61.01 seconds\n",
      "Features extracted in 112.68 seconds\n",
      "Computing CMC and mAP ...\n",
      "** Results **\n",
      "mAP: 70.89%\n",
      "CMC curve\n",
      "Rank-1  : 81.10%\n",
      "Rank-5  : 94.32%\n",
      "Rank-10 : 97.06%\n",
      "Rank-20 : 98.73%\n",
      "\u001b[33mValidating online mobilenet ...\u001b[0m\n",
      "Features extracted in 59.14 seconds\n",
      "Features extracted in 107.49 seconds\n",
      "Computing CMC and mAP ...\n",
      "** Results **\n",
      "mAP: 71.69%\n",
      "CMC curve\n",
      "Rank-1  : 87.20%\n",
      "Rank-5  : 96.74%\n",
      "Rank-10 : 98.85%\n",
      "Rank-20 : 99.71%\n",
      "\u001b[33mValidating momentum mobilenet ...\u001b[0m\n",
      "Features extracted in 58.64 seconds\n",
      "Features extracted in 111.66 seconds\n",
      "Computing CMC and mAP ...\n",
      "** Results **\n",
      "mAP: 71.41%\n",
      "CMC curve\n",
      "Rank-1  : 83.91%\n",
      "Rank-5  : 95.41%\n",
      "Rank-10 : 98.08%\n",
      "Rank-20 : 99.14%\n",
      "\u001b[33mValidating online vgg16 ...\u001b[0m\n",
      "Features extracted in 60.69 seconds\n",
      "Features extracted in 107.61 seconds\n",
      "Computing CMC and mAP ...\n",
      "** Results **\n",
      "mAP: 72.14%\n",
      "CMC curve\n",
      "Rank-1  : 87.41%\n",
      "Rank-5  : 96.72%\n",
      "Rank-10 : 98.80%\n",
      "Rank-20 : 99.68%\n",
      "\u001b[33mValidating momentum vgg16 ...\u001b[0m\n",
      "Features extracted in 59.53 seconds\n",
      "Features extracted in 107.39 seconds\n",
      "Computing CMC and mAP ...\n",
      "** Results **\n",
      "mAP: 71.15%\n",
      "CMC curve\n",
      "Rank-1  : 79.56%\n",
      "Rank-5  : 95.82%\n",
      "Rank-10 : 98.64%\n",
      "Rank-20 : 99.55%\n",
      "\u001b[33mValidating online resnet50 ...\u001b[0m\n",
      "Features extracted in 60.93 seconds\n",
      "Features extracted in 110.60 seconds\n",
      "Computing CMC and mAP ...\n",
      "** Results **\n",
      "mAP: 72.93%\n",
      "CMC curve\n",
      "Rank-1  : 89.22%\n",
      "Rank-5  : 97.35%\n",
      "Rank-10 : 99.02%\n",
      "Rank-20 : 99.75%\n",
      "\u001b[33mValidating momentum resnet50 ...\u001b[0m\n",
      "Features extracted in 60.59 seconds\n",
      "Features extracted in 109.64 seconds\n",
      "Computing CMC and mAP ...\n",
      "** Results **\n",
      "mAP: 74.37%\n",
      "CMC curve\n",
      "Rank-1  : 90.07%\n",
      "Rank-5  : 97.95%\n",
      "Rank-10 : 99.19%\n",
      "Rank-20 : 99.74%\n",
      "\u001b[33mValidating online osnet ...\u001b[0m\n",
      "Features extracted in 59.44 seconds\n",
      "Features extracted in 108.81 seconds\n",
      "Computing CMC and mAP ...\n",
      "** Results **\n",
      "mAP: 71.05%\n",
      "CMC curve\n",
      "Rank-1  : 81.59%\n",
      "Rank-5  : 95.73%\n",
      "Rank-10 : 98.23%\n",
      "Rank-20 : 99.54%\n",
      "\u001b[33mValidating momentum osnet ...\u001b[0m\n",
      "Features extracted in 58.00 seconds\n",
      "Features extracted in 109.19 seconds\n",
      "Computing CMC and mAP ...\n",
      "** Results **\n",
      "mAP: 73.09%\n",
      "CMC curve\n",
      "Rank-1  : 81.93%\n",
      "Rank-5  : 95.43%\n",
      "Rank-10 : 98.30%\n",
      "Rank-20 : 99.46%\n",
      "\u001b[33mValidating online densenet121 ...\u001b[0m\n",
      "Features extracted in 60.74 seconds\n",
      "Features extracted in 112.71 seconds\n",
      "Computing CMC and mAP ...\n",
      "** Results **\n",
      "mAP: 74.36%\n",
      "CMC curve\n",
      "Rank-1  : 92.33%\n",
      "Rank-5  : 98.60%\n",
      "Rank-10 : 99.56%\n",
      "Rank-20 : 99.86%\n",
      "\u001b[33mValidating momentum densenet121 ...\u001b[0m\n",
      "Features extracted in 60.43 seconds\n",
      "Features extracted in 110.48 seconds\n",
      "Computing CMC and mAP ...\n",
      "** Results **\n",
      "mAP: 74.16%\n",
      "CMC curve\n",
      "Rank-1  : 86.99%\n",
      "Rank-5  : 96.54%\n",
      "Rank-10 : 98.30%\n",
      "Rank-20 : 99.46%\n",
      "\u001b[33mValidating ensembled with online models ...\u001b[0m\n",
      "Computing CMC and mAP ...\n",
      "** Results **\n",
      "mAP: 75.80%\n",
      "Ranks:\n",
      "Rank-1  : 96.73%\n",
      "Rank-5  : 98.98%\n",
      "Rank-10 : 99.48%\n",
      "\u001b[33mValidating ensembled with momentum models ...\u001b[0m\n",
      "Computing CMC and mAP ...\n",
      "** Results **\n",
      "mAP: 74.25%\n",
      "Ranks:\n",
      "Rank-1  : 87.54%\n",
      "Rank-5  : 96.96%\n",
      "Rank-10 : 98.89%\n",
      "###============ Iteration number 86/90 ============###\n",
      "Extracting Online Features for efficientnet ...\n",
      "Features extracted in 196.48 seconds\n",
      "Computing jaccard distance...\n"
     ]
    },
    {
     "name": "stderr",
     "output_type": "stream",
     "text": [
      "bruteForceKnn is deprecated; call bfKnn instead\n"
     ]
    },
    {
     "name": "stdout",
     "output_type": "stream",
     "text": [
      "Jaccard distance computing time cost: 80.19927191734314\n",
      "Extracting Online Features for convnext ...\n",
      "Features extracted in 195.61 seconds\n",
      "Computing jaccard distance...\n"
     ]
    },
    {
     "name": "stderr",
     "output_type": "stream",
     "text": [
      "bruteForceKnn is deprecated; call bfKnn instead\n"
     ]
    },
    {
     "name": "stdout",
     "output_type": "stream",
     "text": [
      "Jaccard distance computing time cost: 79.56132173538208\n",
      "Extracting Online Features for mobilenet ...\n",
      "Features extracted in 193.06 seconds\n",
      "Computing jaccard distance...\n"
     ]
    },
    {
     "name": "stderr",
     "output_type": "stream",
     "text": [
      "bruteForceKnn is deprecated; call bfKnn instead\n"
     ]
    },
    {
     "name": "stdout",
     "output_type": "stream",
     "text": [
      "Jaccard distance computing time cost: 86.25656771659851\n",
      "Extracting Online Features for vgg16 ...\n",
      "Features extracted in 189.47 seconds\n",
      "Computing jaccard distance...\n"
     ]
    },
    {
     "name": "stderr",
     "output_type": "stream",
     "text": [
      "bruteForceKnn is deprecated; call bfKnn instead\n"
     ]
    },
    {
     "name": "stdout",
     "output_type": "stream",
     "text": [
      "Jaccard distance computing time cost: 78.70532488822937\n",
      "Extracting Online Features for resnet50 ...\n",
      "Features extracted in 192.37 seconds\n",
      "Computing jaccard distance...\n"
     ]
    },
    {
     "name": "stderr",
     "output_type": "stream",
     "text": [
      "bruteForceKnn is deprecated; call bfKnn instead\n"
     ]
    },
    {
     "name": "stdout",
     "output_type": "stream",
     "text": [
      "Jaccard distance computing time cost: 86.67771649360657\n",
      "Extracting Online Features for osnet ...\n",
      "Features extracted in 198.22 seconds\n",
      "Computing jaccard distance...\n"
     ]
    },
    {
     "name": "stderr",
     "output_type": "stream",
     "text": [
      "bruteForceKnn is deprecated; call bfKnn instead\n"
     ]
    },
    {
     "name": "stdout",
     "output_type": "stream",
     "text": [
      "Jaccard distance computing time cost: 77.72194623947144\n",
      "Extracting Online Features for densenet121 ...\n",
      "Features extracted in 194.78 seconds\n",
      "Computing jaccard distance...\n"
     ]
    },
    {
     "name": "stderr",
     "output_type": "stream",
     "text": [
      "bruteForceKnn is deprecated; call bfKnn instead\n"
     ]
    },
    {
     "name": "stdout",
     "output_type": "stream",
     "text": [
      "Jaccard distance computing time cost: 80.3863160610199\n",
      "Reliability: 0.998\n",
      "\u001b[32mMean Purity: 0.00164\u001b[0m\n",
      "\u001b[34mThere are 2 clusters with 4 cameras\u001b[0m\n",
      "\u001b[34mThere are 4 clusters with 5 cameras\u001b[0m\n",
      "\u001b[34mThere are 1 clusters with 8 cameras\u001b[0m\n",
      "\u001b[34mThere are 1 clusters with 10 cameras\u001b[0m\n",
      "\u001b[34mThere are 1 clusters with 13 cameras\u001b[0m\n",
      "\u001b[34mThere are 1 clusters with 16 cameras\u001b[0m\n",
      "\u001b[34mThere are 2 clusters with 18 cameras\u001b[0m\n",
      "\u001b[34mThere are 1 clusters with 26 cameras\u001b[0m\n",
      "\u001b[34mThere are 1 clusters with 27 cameras\u001b[0m\n",
      "\u001b[34mThere are 1 clusters with 30 cameras\u001b[0m\n",
      "\u001b[34mThere are 1 clusters with 34 cameras\u001b[0m\n",
      "\u001b[34mThere are 1 clusters with 37 cameras\u001b[0m\n",
      "\u001b[34mThere are 1 clusters with 38 cameras\u001b[0m\n",
      "\u001b[34mThere are 1 clusters with 44 cameras\u001b[0m\n",
      "\u001b[34mThere are 1 clusters with 47 cameras\u001b[0m\n",
      "\u001b[34mThere are 1 clusters with 48 cameras\u001b[0m\n",
      "\u001b[34mThere are 1 clusters with 52 cameras\u001b[0m\n",
      "\u001b[34mThere are 1 clusters with 54 cameras\u001b[0m\n",
      "\u001b[34mThere are 2 clusters with 58 cameras\u001b[0m\n",
      "\u001b[34mThere are 4 clusters with 59 cameras\u001b[0m\n",
      "\u001b[34mThere are 1 clusters with 60 cameras\u001b[0m\n",
      "\u001b[34mThere are 13 clusters with 61 cameras\u001b[0m\n",
      "\u001b[34mThere are 10 clusters with 62 cameras\u001b[0m\n",
      "\u001b[34mThere are 16 clusters with 63 cameras\u001b[0m\n",
      "\u001b[34mThere are 538 clusters with 64 cameras\u001b[0m\n",
      "\u001b[34mThere are 1 clusters with 108 cameras\u001b[0m\n",
      "\u001b[34mThere are 1 clusters with 127 cameras\u001b[0m\n",
      "\u001b[34mThere are 2 clusters with 128 cameras\u001b[0m\n",
      "Number of classes: 611\n",
      "\u001b[36mLearning Rate: 0.000280\u001b[0m\n",
      "encontrou modelos efficientnet. Carregando...\n",
      "encontrou modelos convnext. Carregando...\n",
      "encontrou modelos mobilenet. Carregando...\n",
      "encontrou modelos vgg16. Carregando...\n",
      "encontrou modelos resnet50. Carregando...\n",
      "encontrou modelos osnet. Carregando...\n",
      "encontrou modelos densenet121. Carregando...\n",
      "###============ Iteration number 87/90 ============###\n",
      "Extracting Online Features for efficientnet ...\n",
      "Features extracted in 194.78 seconds\n",
      "Computing jaccard distance...\n"
     ]
    },
    {
     "name": "stderr",
     "output_type": "stream",
     "text": [
      "bruteForceKnn is deprecated; call bfKnn instead\n"
     ]
    },
    {
     "name": "stdout",
     "output_type": "stream",
     "text": [
      "Jaccard distance computing time cost: 78.28299021720886\n",
      "Extracting Online Features for convnext ...\n",
      "Features extracted in 201.19 seconds\n",
      "Computing jaccard distance...\n"
     ]
    },
    {
     "name": "stderr",
     "output_type": "stream",
     "text": [
      "bruteForceKnn is deprecated; call bfKnn instead\n"
     ]
    },
    {
     "name": "stdout",
     "output_type": "stream",
     "text": [
      "Jaccard distance computing time cost: 78.99238562583923\n",
      "Extracting Online Features for mobilenet ...\n",
      "Features extracted in 195.22 seconds\n",
      "Computing jaccard distance...\n"
     ]
    },
    {
     "name": "stderr",
     "output_type": "stream",
     "text": [
      "bruteForceKnn is deprecated; call bfKnn instead\n"
     ]
    },
    {
     "name": "stdout",
     "output_type": "stream",
     "text": [
      "Jaccard distance computing time cost: 78.97898983955383\n",
      "Extracting Online Features for vgg16 ...\n",
      "Features extracted in 195.45 seconds\n",
      "Computing jaccard distance...\n"
     ]
    },
    {
     "name": "stderr",
     "output_type": "stream",
     "text": [
      "bruteForceKnn is deprecated; call bfKnn instead\n"
     ]
    },
    {
     "name": "stdout",
     "output_type": "stream",
     "text": [
      "Jaccard distance computing time cost: 84.9886462688446\n",
      "Extracting Online Features for resnet50 ...\n",
      "Features extracted in 195.52 seconds\n",
      "Computing jaccard distance...\n"
     ]
    },
    {
     "name": "stderr",
     "output_type": "stream",
     "text": [
      "bruteForceKnn is deprecated; call bfKnn instead\n"
     ]
    },
    {
     "name": "stdout",
     "output_type": "stream",
     "text": [
      "Jaccard distance computing time cost: 79.59003782272339\n",
      "Extracting Online Features for osnet ...\n",
      "Features extracted in 192.42 seconds\n",
      "Computing jaccard distance...\n"
     ]
    },
    {
     "name": "stderr",
     "output_type": "stream",
     "text": [
      "bruteForceKnn is deprecated; call bfKnn instead\n"
     ]
    },
    {
     "name": "stdout",
     "output_type": "stream",
     "text": [
      "Jaccard distance computing time cost: 77.13609194755554\n",
      "Extracting Online Features for densenet121 ...\n",
      "Features extracted in 201.02 seconds\n",
      "Computing jaccard distance...\n"
     ]
    },
    {
     "name": "stderr",
     "output_type": "stream",
     "text": [
      "bruteForceKnn is deprecated; call bfKnn instead\n"
     ]
    },
    {
     "name": "stdout",
     "output_type": "stream",
     "text": [
      "Jaccard distance computing time cost: 79.21812510490417\n",
      "Reliability: 0.998\n",
      "\u001b[32mMean Purity: 0.00164\u001b[0m\n",
      "\u001b[34mThere are 2 clusters with 4 cameras\u001b[0m\n",
      "\u001b[34mThere are 4 clusters with 5 cameras\u001b[0m\n",
      "\u001b[34mThere are 1 clusters with 8 cameras\u001b[0m\n",
      "\u001b[34mThere are 1 clusters with 10 cameras\u001b[0m\n",
      "\u001b[34mThere are 1 clusters with 13 cameras\u001b[0m\n",
      "\u001b[34mThere are 1 clusters with 16 cameras\u001b[0m\n",
      "\u001b[34mThere are 2 clusters with 18 cameras\u001b[0m\n",
      "\u001b[34mThere are 1 clusters with 26 cameras\u001b[0m\n",
      "\u001b[34mThere are 1 clusters with 27 cameras\u001b[0m\n",
      "\u001b[34mThere are 1 clusters with 30 cameras\u001b[0m\n",
      "\u001b[34mThere are 1 clusters with 34 cameras\u001b[0m\n",
      "\u001b[34mThere are 1 clusters with 37 cameras\u001b[0m\n",
      "\u001b[34mThere are 1 clusters with 38 cameras\u001b[0m\n",
      "\u001b[34mThere are 1 clusters with 44 cameras\u001b[0m\n",
      "\u001b[34mThere are 1 clusters with 47 cameras\u001b[0m\n",
      "\u001b[34mThere are 1 clusters with 48 cameras\u001b[0m\n",
      "\u001b[34mThere are 1 clusters with 52 cameras\u001b[0m\n",
      "\u001b[34mThere are 1 clusters with 54 cameras\u001b[0m\n",
      "\u001b[34mThere are 2 clusters with 58 cameras\u001b[0m\n",
      "\u001b[34mThere are 4 clusters with 59 cameras\u001b[0m\n",
      "\u001b[34mThere are 1 clusters with 60 cameras\u001b[0m\n",
      "\u001b[34mThere are 13 clusters with 61 cameras\u001b[0m\n",
      "\u001b[34mThere are 10 clusters with 62 cameras\u001b[0m\n",
      "\u001b[34mThere are 16 clusters with 63 cameras\u001b[0m\n",
      "\u001b[34mThere are 538 clusters with 64 cameras\u001b[0m\n",
      "\u001b[34mThere are 1 clusters with 108 cameras\u001b[0m\n",
      "\u001b[34mThere are 1 clusters with 127 cameras\u001b[0m\n",
      "\u001b[34mThere are 2 clusters with 128 cameras\u001b[0m\n",
      "Number of classes: 611\n",
      "\u001b[36mLearning Rate: 0.000298\u001b[0m\n",
      "encontrou modelos efficientnet. Carregando...\n",
      "encontrou modelos convnext. Carregando...\n",
      "encontrou modelos mobilenet. Carregando...\n",
      "encontrou modelos vgg16. Carregando...\n",
      "encontrou modelos resnet50. Carregando...\n",
      "encontrou modelos osnet. Carregando...\n",
      "encontrou modelos densenet121. Carregando...\n",
      "###============ Iteration number 88/90 ============###\n",
      "Extracting Online Features for efficientnet ...\n",
      "Features extracted in 199.05 seconds\n",
      "Computing jaccard distance...\n"
     ]
    },
    {
     "name": "stderr",
     "output_type": "stream",
     "text": [
      "bruteForceKnn is deprecated; call bfKnn instead\n"
     ]
    },
    {
     "name": "stdout",
     "output_type": "stream",
     "text": [
      "Jaccard distance computing time cost: 79.40111947059631\n",
      "Extracting Online Features for convnext ...\n",
      "Features extracted in 195.56 seconds\n",
      "Computing jaccard distance...\n"
     ]
    },
    {
     "name": "stderr",
     "output_type": "stream",
     "text": [
      "bruteForceKnn is deprecated; call bfKnn instead\n"
     ]
    },
    {
     "name": "stdout",
     "output_type": "stream",
     "text": [
      "Jaccard distance computing time cost: 79.1977698802948\n",
      "Extracting Online Features for mobilenet ...\n",
      "Features extracted in 187.93 seconds\n",
      "Computing jaccard distance...\n"
     ]
    },
    {
     "name": "stderr",
     "output_type": "stream",
     "text": [
      "bruteForceKnn is deprecated; call bfKnn instead\n"
     ]
    },
    {
     "name": "stdout",
     "output_type": "stream",
     "text": [
      "Jaccard distance computing time cost: 78.77922105789185\n",
      "Extracting Online Features for vgg16 ...\n",
      "Features extracted in 199.10 seconds\n",
      "Computing jaccard distance...\n"
     ]
    },
    {
     "name": "stderr",
     "output_type": "stream",
     "text": [
      "bruteForceKnn is deprecated; call bfKnn instead\n"
     ]
    },
    {
     "name": "stdout",
     "output_type": "stream",
     "text": [
      "Jaccard distance computing time cost: 78.85067844390869\n",
      "Extracting Online Features for resnet50 ...\n",
      "Features extracted in 194.27 seconds\n",
      "Computing jaccard distance...\n"
     ]
    },
    {
     "name": "stderr",
     "output_type": "stream",
     "text": [
      "bruteForceKnn is deprecated; call bfKnn instead\n"
     ]
    },
    {
     "name": "stdout",
     "output_type": "stream",
     "text": [
      "Jaccard distance computing time cost: 86.94065475463867\n",
      "Extracting Online Features for osnet ...\n",
      "Features extracted in 196.87 seconds\n",
      "Computing jaccard distance...\n"
     ]
    },
    {
     "name": "stderr",
     "output_type": "stream",
     "text": [
      "bruteForceKnn is deprecated; call bfKnn instead\n"
     ]
    },
    {
     "name": "stdout",
     "output_type": "stream",
     "text": [
      "Jaccard distance computing time cost: 77.49964785575867\n",
      "Extracting Online Features for densenet121 ...\n",
      "Features extracted in 197.68 seconds\n",
      "Computing jaccard distance...\n"
     ]
    },
    {
     "name": "stderr",
     "output_type": "stream",
     "text": [
      "bruteForceKnn is deprecated; call bfKnn instead\n"
     ]
    },
    {
     "name": "stdout",
     "output_type": "stream",
     "text": [
      "Jaccard distance computing time cost: 80.02718329429626\n",
      "Reliability: 0.998\n",
      "\u001b[32mMean Purity: 0.00164\u001b[0m\n",
      "\u001b[34mThere are 2 clusters with 4 cameras\u001b[0m\n",
      "\u001b[34mThere are 4 clusters with 5 cameras\u001b[0m\n",
      "\u001b[34mThere are 1 clusters with 8 cameras\u001b[0m\n",
      "\u001b[34mThere are 1 clusters with 10 cameras\u001b[0m\n",
      "\u001b[34mThere are 1 clusters with 13 cameras\u001b[0m\n",
      "\u001b[34mThere are 1 clusters with 16 cameras\u001b[0m\n",
      "\u001b[34mThere are 2 clusters with 18 cameras\u001b[0m\n",
      "\u001b[34mThere are 1 clusters with 26 cameras\u001b[0m\n",
      "\u001b[34mThere are 1 clusters with 27 cameras\u001b[0m\n",
      "\u001b[34mThere are 1 clusters with 30 cameras\u001b[0m\n",
      "\u001b[34mThere are 1 clusters with 34 cameras\u001b[0m\n",
      "\u001b[34mThere are 1 clusters with 37 cameras\u001b[0m\n",
      "\u001b[34mThere are 1 clusters with 38 cameras\u001b[0m\n",
      "\u001b[34mThere are 1 clusters with 44 cameras\u001b[0m\n",
      "\u001b[34mThere are 1 clusters with 47 cameras\u001b[0m\n",
      "\u001b[34mThere are 1 clusters with 48 cameras\u001b[0m\n",
      "\u001b[34mThere are 1 clusters with 52 cameras\u001b[0m\n",
      "\u001b[34mThere are 1 clusters with 54 cameras\u001b[0m\n",
      "\u001b[34mThere are 2 clusters with 58 cameras\u001b[0m\n",
      "\u001b[34mThere are 4 clusters with 59 cameras\u001b[0m\n",
      "\u001b[34mThere are 1 clusters with 60 cameras\u001b[0m\n",
      "\u001b[34mThere are 13 clusters with 61 cameras\u001b[0m\n",
      "\u001b[34mThere are 10 clusters with 62 cameras\u001b[0m\n",
      "\u001b[34mThere are 16 clusters with 63 cameras\u001b[0m\n",
      "\u001b[34mThere are 538 clusters with 64 cameras\u001b[0m\n",
      "\u001b[34mThere are 1 clusters with 108 cameras\u001b[0m\n",
      "\u001b[34mThere are 1 clusters with 127 cameras\u001b[0m\n",
      "\u001b[34mThere are 2 clusters with 128 cameras\u001b[0m\n",
      "Number of classes: 611\n",
      "\u001b[36mLearning Rate: 0.000315\u001b[0m\n",
      "encontrou modelos efficientnet. Carregando...\n",
      "encontrou modelos convnext. Carregando...\n",
      "encontrou modelos mobilenet. Carregando...\n",
      "encontrou modelos vgg16. Carregando...\n",
      "encontrou modelos resnet50. Carregando...\n",
      "encontrou modelos osnet. Carregando...\n",
      "encontrou modelos densenet121. Carregando...\n",
      "###============ Iteration number 89/90 ============###\n",
      "Extracting Online Features for efficientnet ...\n",
      "Features extracted in 200.90 seconds\n",
      "Computing jaccard distance...\n"
     ]
    },
    {
     "name": "stderr",
     "output_type": "stream",
     "text": [
      "bruteForceKnn is deprecated; call bfKnn instead\n"
     ]
    },
    {
     "name": "stdout",
     "output_type": "stream",
     "text": [
      "Jaccard distance computing time cost: 79.24896121025085\n",
      "Extracting Online Features for convnext ...\n",
      "Features extracted in 197.01 seconds\n",
      "Computing jaccard distance...\n"
     ]
    },
    {
     "name": "stderr",
     "output_type": "stream",
     "text": [
      "bruteForceKnn is deprecated; call bfKnn instead\n"
     ]
    },
    {
     "name": "stdout",
     "output_type": "stream",
     "text": [
      "Jaccard distance computing time cost: 78.82713222503662\n",
      "Extracting Online Features for mobilenet ...\n",
      "Features extracted in 190.73 seconds\n",
      "Computing jaccard distance...\n"
     ]
    },
    {
     "name": "stderr",
     "output_type": "stream",
     "text": [
      "bruteForceKnn is deprecated; call bfKnn instead\n"
     ]
    },
    {
     "name": "stdout",
     "output_type": "stream",
     "text": [
      "Jaccard distance computing time cost: 79.05802154541016\n",
      "Extracting Online Features for vgg16 ...\n",
      "Features extracted in 196.70 seconds\n",
      "Computing jaccard distance...\n"
     ]
    },
    {
     "name": "stderr",
     "output_type": "stream",
     "text": [
      "bruteForceKnn is deprecated; call bfKnn instead\n"
     ]
    },
    {
     "name": "stdout",
     "output_type": "stream",
     "text": [
      "Jaccard distance computing time cost: 78.37791609764099\n",
      "Extracting Online Features for resnet50 ...\n",
      "Features extracted in 191.52 seconds\n",
      "Computing jaccard distance...\n"
     ]
    },
    {
     "name": "stderr",
     "output_type": "stream",
     "text": [
      "bruteForceKnn is deprecated; call bfKnn instead\n"
     ]
    },
    {
     "name": "stdout",
     "output_type": "stream",
     "text": [
      "Jaccard distance computing time cost: 79.32486009597778\n",
      "Extracting Online Features for osnet ...\n",
      "Features extracted in 193.70 seconds\n",
      "Computing jaccard distance...\n"
     ]
    },
    {
     "name": "stderr",
     "output_type": "stream",
     "text": [
      "bruteForceKnn is deprecated; call bfKnn instead\n"
     ]
    },
    {
     "name": "stdout",
     "output_type": "stream",
     "text": [
      "Jaccard distance computing time cost: 77.37176442146301\n",
      "Extracting Online Features for densenet121 ...\n",
      "Features extracted in 193.41 seconds\n",
      "Computing jaccard distance...\n"
     ]
    },
    {
     "name": "stderr",
     "output_type": "stream",
     "text": [
      "bruteForceKnn is deprecated; call bfKnn instead\n"
     ]
    },
    {
     "name": "stdout",
     "output_type": "stream",
     "text": [
      "Jaccard distance computing time cost: 81.0473403930664\n",
      "Reliability: 0.998\n",
      "\u001b[32mMean Purity: 0.00164\u001b[0m\n",
      "\u001b[34mThere are 2 clusters with 4 cameras\u001b[0m\n",
      "\u001b[34mThere are 4 clusters with 5 cameras\u001b[0m\n",
      "\u001b[34mThere are 1 clusters with 8 cameras\u001b[0m\n",
      "\u001b[34mThere are 1 clusters with 10 cameras\u001b[0m\n",
      "\u001b[34mThere are 1 clusters with 13 cameras\u001b[0m\n",
      "\u001b[34mThere are 1 clusters with 16 cameras\u001b[0m\n",
      "\u001b[34mThere are 2 clusters with 18 cameras\u001b[0m\n",
      "\u001b[34mThere are 1 clusters with 26 cameras\u001b[0m\n",
      "\u001b[34mThere are 1 clusters with 27 cameras\u001b[0m\n",
      "\u001b[34mThere are 1 clusters with 30 cameras\u001b[0m\n",
      "\u001b[34mThere are 1 clusters with 34 cameras\u001b[0m\n",
      "\u001b[34mThere are 1 clusters with 37 cameras\u001b[0m\n",
      "\u001b[34mThere are 1 clusters with 38 cameras\u001b[0m\n",
      "\u001b[34mThere are 1 clusters with 44 cameras\u001b[0m\n",
      "\u001b[34mThere are 1 clusters with 47 cameras\u001b[0m\n",
      "\u001b[34mThere are 1 clusters with 48 cameras\u001b[0m\n",
      "\u001b[34mThere are 1 clusters with 52 cameras\u001b[0m\n",
      "\u001b[34mThere are 1 clusters with 54 cameras\u001b[0m\n",
      "\u001b[34mThere are 2 clusters with 58 cameras\u001b[0m\n",
      "\u001b[34mThere are 4 clusters with 59 cameras\u001b[0m\n",
      "\u001b[34mThere are 1 clusters with 60 cameras\u001b[0m\n",
      "\u001b[34mThere are 13 clusters with 61 cameras\u001b[0m\n",
      "\u001b[34mThere are 10 clusters with 62 cameras\u001b[0m\n",
      "\u001b[34mThere are 16 clusters with 63 cameras\u001b[0m\n",
      "\u001b[34mThere are 538 clusters with 64 cameras\u001b[0m\n",
      "\u001b[34mThere are 1 clusters with 108 cameras\u001b[0m\n",
      "\u001b[34mThere are 1 clusters with 127 cameras\u001b[0m\n",
      "\u001b[34mThere are 2 clusters with 128 cameras\u001b[0m\n",
      "Number of classes: 611\n",
      "\u001b[36mLearning Rate: 0.000333\u001b[0m\n",
      "encontrou modelos efficientnet. Carregando...\n",
      "encontrou modelos convnext. Carregando...\n",
      "encontrou modelos mobilenet. Carregando...\n",
      "encontrou modelos vgg16. Carregando...\n",
      "encontrou modelos resnet50. Carregando...\n",
      "encontrou modelos osnet. Carregando...\n",
      "encontrou modelos densenet121. Carregando...\n",
      "###============ Iteration number 90/90 ============###\n",
      "Extracting Online Features for efficientnet ...\n",
      "Features extracted in 190.27 seconds\n",
      "Computing jaccard distance...\n"
     ]
    },
    {
     "name": "stderr",
     "output_type": "stream",
     "text": [
      "bruteForceKnn is deprecated; call bfKnn instead\n"
     ]
    },
    {
     "name": "stdout",
     "output_type": "stream",
     "text": [
      "Jaccard distance computing time cost: 79.90665626525879\n",
      "Extracting Online Features for convnext ...\n",
      "Features extracted in 199.51 seconds\n",
      "Computing jaccard distance...\n"
     ]
    },
    {
     "name": "stderr",
     "output_type": "stream",
     "text": [
      "bruteForceKnn is deprecated; call bfKnn instead\n"
     ]
    },
    {
     "name": "stdout",
     "output_type": "stream",
     "text": [
      "Jaccard distance computing time cost: 79.21292567253113\n",
      "Extracting Online Features for mobilenet ...\n",
      "Features extracted in 193.02 seconds\n",
      "Computing jaccard distance...\n"
     ]
    },
    {
     "name": "stderr",
     "output_type": "stream",
     "text": [
      "bruteForceKnn is deprecated; call bfKnn instead\n"
     ]
    },
    {
     "name": "stdout",
     "output_type": "stream",
     "text": [
      "Jaccard distance computing time cost: 79.93906545639038\n",
      "Extracting Online Features for vgg16 ...\n",
      "Features extracted in 197.17 seconds\n",
      "Computing jaccard distance...\n"
     ]
    },
    {
     "name": "stderr",
     "output_type": "stream",
     "text": [
      "bruteForceKnn is deprecated; call bfKnn instead\n"
     ]
    },
    {
     "name": "stdout",
     "output_type": "stream",
     "text": [
      "Jaccard distance computing time cost: 79.27357459068298\n",
      "Extracting Online Features for resnet50 ...\n",
      "Features extracted in 196.87 seconds\n",
      "Computing jaccard distance...\n"
     ]
    },
    {
     "name": "stderr",
     "output_type": "stream",
     "text": [
      "bruteForceKnn is deprecated; call bfKnn instead\n"
     ]
    },
    {
     "name": "stdout",
     "output_type": "stream",
     "text": [
      "Jaccard distance computing time cost: 79.9932074546814\n",
      "Extracting Online Features for osnet ...\n",
      "Features extracted in 198.57 seconds\n",
      "Computing jaccard distance...\n"
     ]
    },
    {
     "name": "stderr",
     "output_type": "stream",
     "text": [
      "bruteForceKnn is deprecated; call bfKnn instead\n"
     ]
    },
    {
     "name": "stdout",
     "output_type": "stream",
     "text": [
      "Jaccard distance computing time cost: 78.70398926734924\n",
      "Extracting Online Features for densenet121 ...\n",
      "Features extracted in 194.81 seconds\n",
      "Computing jaccard distance...\n"
     ]
    },
    {
     "name": "stderr",
     "output_type": "stream",
     "text": [
      "bruteForceKnn is deprecated; call bfKnn instead\n"
     ]
    },
    {
     "name": "stdout",
     "output_type": "stream",
     "text": [
      "Jaccard distance computing time cost: 79.93593215942383\n",
      "Reliability: 0.998\n",
      "\u001b[32mMean Purity: 0.00164\u001b[0m\n",
      "\u001b[34mThere are 2 clusters with 4 cameras\u001b[0m\n",
      "\u001b[34mThere are 4 clusters with 5 cameras\u001b[0m\n",
      "\u001b[34mThere are 1 clusters with 8 cameras\u001b[0m\n",
      "\u001b[34mThere are 1 clusters with 10 cameras\u001b[0m\n",
      "\u001b[34mThere are 1 clusters with 13 cameras\u001b[0m\n",
      "\u001b[34mThere are 1 clusters with 16 cameras\u001b[0m\n",
      "\u001b[34mThere are 2 clusters with 18 cameras\u001b[0m\n",
      "\u001b[34mThere are 1 clusters with 26 cameras\u001b[0m\n",
      "\u001b[34mThere are 1 clusters with 27 cameras\u001b[0m\n",
      "\u001b[34mThere are 1 clusters with 30 cameras\u001b[0m\n",
      "\u001b[34mThere are 1 clusters with 34 cameras\u001b[0m\n",
      "\u001b[34mThere are 1 clusters with 37 cameras\u001b[0m\n",
      "\u001b[34mThere are 1 clusters with 38 cameras\u001b[0m\n",
      "\u001b[34mThere are 1 clusters with 44 cameras\u001b[0m\n",
      "\u001b[34mThere are 1 clusters with 47 cameras\u001b[0m\n",
      "\u001b[34mThere are 1 clusters with 48 cameras\u001b[0m\n",
      "\u001b[34mThere are 1 clusters with 52 cameras\u001b[0m\n",
      "\u001b[34mThere are 1 clusters with 54 cameras\u001b[0m\n",
      "\u001b[34mThere are 2 clusters with 58 cameras\u001b[0m\n",
      "\u001b[34mThere are 4 clusters with 59 cameras\u001b[0m\n",
      "\u001b[34mThere are 1 clusters with 60 cameras\u001b[0m\n",
      "\u001b[34mThere are 13 clusters with 61 cameras\u001b[0m\n",
      "\u001b[34mThere are 10 clusters with 62 cameras\u001b[0m\n",
      "\u001b[34mThere are 16 clusters with 63 cameras\u001b[0m\n",
      "\u001b[34mThere are 538 clusters with 64 cameras\u001b[0m\n",
      "\u001b[34mThere are 1 clusters with 108 cameras\u001b[0m\n",
      "\u001b[34mThere are 1 clusters with 127 cameras\u001b[0m\n",
      "\u001b[34mThere are 2 clusters with 128 cameras\u001b[0m\n",
      "Number of classes: 611\n",
      "\u001b[36mLearning Rate: 0.000350\u001b[0m\n",
      "encontrou modelos efficientnet. Carregando...\n",
      "encontrou modelos convnext. Carregando...\n",
      "encontrou modelos mobilenet. Carregando...\n",
      "encontrou modelos vgg16. Carregando...\n",
      "encontrou modelos resnet50. Carregando...\n",
      "encontrou modelos osnet. Carregando...\n",
      "encontrou modelos densenet121. Carregando...\n",
      "\u001b[33mValidating online efficientnet ...\u001b[0m\n",
      "Features extracted in 60.50 seconds\n",
      "Features extracted in 111.82 seconds\n",
      "Computing CMC and mAP ...\n",
      "** Results **\n",
      "mAP: 72.74%\n",
      "CMC curve\n",
      "Rank-1  : 86.50%\n",
      "Rank-5  : 96.56%\n",
      "Rank-10 : 98.57%\n",
      "Rank-20 : 99.42%\n",
      "\u001b[33mValidating momentum efficientnet ...\u001b[0m\n",
      "Features extracted in 59.44 seconds\n",
      "Features extracted in 112.85 seconds\n",
      "Computing CMC and mAP ...\n",
      "** Results **\n",
      "mAP: 71.24%\n",
      "CMC curve\n",
      "Rank-1  : 78.00%\n",
      "Rank-5  : 94.78%\n",
      "Rank-10 : 98.01%\n",
      "Rank-20 : 99.39%\n",
      "\u001b[33mValidating online convnext ...\u001b[0m\n",
      "Features extracted in 63.96 seconds\n",
      "Features extracted in 118.52 seconds\n",
      "Computing CMC and mAP ...\n",
      "** Results **\n",
      "mAP: 75.86%\n",
      "CMC curve\n",
      "Rank-1  : 90.47%\n",
      "Rank-5  : 95.47%\n",
      "Rank-10 : 97.23%\n",
      "Rank-20 : 99.00%\n",
      "\u001b[33mValidating momentum convnext ...\u001b[0m\n",
      "Features extracted in 62.16 seconds\n",
      "Features extracted in 121.06 seconds\n",
      "Computing CMC and mAP ...\n",
      "** Results **\n",
      "mAP: 70.89%\n",
      "CMC curve\n",
      "Rank-1  : 81.10%\n",
      "Rank-5  : 94.32%\n",
      "Rank-10 : 97.06%\n",
      "Rank-20 : 98.73%\n",
      "\u001b[33mValidating online mobilenet ...\u001b[0m\n",
      "Features extracted in 60.95 seconds\n",
      "Features extracted in 110.29 seconds\n",
      "Computing CMC and mAP ...\n",
      "** Results **\n",
      "mAP: 71.69%\n",
      "CMC curve\n",
      "Rank-1  : 87.20%\n",
      "Rank-5  : 96.74%\n",
      "Rank-10 : 98.85%\n",
      "Rank-20 : 99.71%\n",
      "\u001b[33mValidating momentum mobilenet ...\u001b[0m\n",
      "Features extracted in 57.85 seconds\n",
      "Features extracted in 110.58 seconds\n",
      "Computing CMC and mAP ...\n",
      "** Results **\n",
      "mAP: 71.41%\n",
      "CMC curve\n",
      "Rank-1  : 83.91%\n",
      "Rank-5  : 95.41%\n",
      "Rank-10 : 98.08%\n",
      "Rank-20 : 99.14%\n",
      "\u001b[33mValidating online vgg16 ...\u001b[0m\n",
      "Features extracted in 61.26 seconds\n",
      "Features extracted in 112.17 seconds\n",
      "Computing CMC and mAP ...\n",
      "** Results **\n",
      "mAP: 72.14%\n",
      "CMC curve\n",
      "Rank-1  : 87.41%\n",
      "Rank-5  : 96.72%\n",
      "Rank-10 : 98.80%\n",
      "Rank-20 : 99.68%\n",
      "\u001b[33mValidating momentum vgg16 ...\u001b[0m\n",
      "Features extracted in 60.14 seconds\n",
      "Features extracted in 112.07 seconds\n",
      "Computing CMC and mAP ...\n",
      "** Results **\n",
      "mAP: 71.15%\n",
      "CMC curve\n",
      "Rank-1  : 79.56%\n",
      "Rank-5  : 95.82%\n",
      "Rank-10 : 98.64%\n",
      "Rank-20 : 99.55%\n",
      "\u001b[33mValidating online resnet50 ...\u001b[0m\n",
      "Features extracted in 60.85 seconds\n",
      "Features extracted in 111.63 seconds\n",
      "Computing CMC and mAP ...\n",
      "** Results **\n",
      "mAP: 72.93%\n",
      "CMC curve\n",
      "Rank-1  : 89.22%\n",
      "Rank-5  : 97.35%\n",
      "Rank-10 : 99.02%\n",
      "Rank-20 : 99.75%\n",
      "\u001b[33mValidating momentum resnet50 ...\u001b[0m\n",
      "Features extracted in 60.82 seconds\n",
      "Features extracted in 115.60 seconds\n",
      "Computing CMC and mAP ...\n",
      "** Results **\n",
      "mAP: 74.37%\n",
      "CMC curve\n",
      "Rank-1  : 90.07%\n",
      "Rank-5  : 97.95%\n",
      "Rank-10 : 99.19%\n",
      "Rank-20 : 99.74%\n",
      "\u001b[33mValidating online osnet ...\u001b[0m\n",
      "Features extracted in 59.57 seconds\n",
      "Features extracted in 109.60 seconds\n",
      "Computing CMC and mAP ...\n",
      "** Results **\n",
      "mAP: 71.05%\n",
      "CMC curve\n",
      "Rank-1  : 81.59%\n",
      "Rank-5  : 95.73%\n",
      "Rank-10 : 98.23%\n",
      "Rank-20 : 99.54%\n",
      "\u001b[33mValidating momentum osnet ...\u001b[0m\n",
      "Features extracted in 61.65 seconds\n",
      "Features extracted in 112.83 seconds\n",
      "Computing CMC and mAP ...\n",
      "** Results **\n",
      "mAP: 73.09%\n",
      "CMC curve\n",
      "Rank-1  : 81.93%\n",
      "Rank-5  : 95.43%\n",
      "Rank-10 : 98.30%\n",
      "Rank-20 : 99.46%\n",
      "\u001b[33mValidating online densenet121 ...\u001b[0m\n",
      "Features extracted in 62.10 seconds\n",
      "Features extracted in 114.57 seconds\n",
      "Computing CMC and mAP ...\n",
      "** Results **\n",
      "mAP: 74.36%\n",
      "CMC curve\n",
      "Rank-1  : 92.33%\n",
      "Rank-5  : 98.60%\n",
      "Rank-10 : 99.56%\n",
      "Rank-20 : 99.86%\n",
      "\u001b[33mValidating momentum densenet121 ...\u001b[0m\n",
      "Features extracted in 63.13 seconds\n",
      "Features extracted in 113.35 seconds\n",
      "Computing CMC and mAP ...\n",
      "** Results **\n",
      "mAP: 74.16%\n",
      "CMC curve\n",
      "Rank-1  : 86.99%\n",
      "Rank-5  : 96.54%\n",
      "Rank-10 : 98.30%\n",
      "Rank-20 : 99.46%\n",
      "\u001b[33mValidating ensembled with online models ...\u001b[0m\n",
      "Computing CMC and mAP ...\n",
      "** Results **\n",
      "mAP: 75.80%\n",
      "Ranks:\n",
      "Rank-1  : 96.73%\n",
      "Rank-5  : 98.98%\n",
      "Rank-10 : 99.48%\n",
      "\u001b[33mValidating ensembled with momentum models ...\u001b[0m\n",
      "Computing CMC and mAP ...\n",
      "** Results **\n",
      "mAP: 74.25%\n",
      "Ranks:\n",
      "Rank-1  : 87.54%\n",
      "Rank-5  : 96.96%\n",
      "Rank-10 : 98.89%\n",
      "Features extracted in 116.03 seconds\n",
      "Features extracted in 63.67 seconds\n",
      "Features extracted in 117.90 seconds\n",
      "Features extracted in 65.05 seconds\n",
      "Features extracted in 109.51 seconds\n",
      "Features extracted in 61.80 seconds\n",
      "Features extracted in 110.70 seconds\n",
      "Features extracted in 61.75 seconds\n",
      "Features extracted in 110.56 seconds\n",
      "Features extracted in 61.33 seconds\n",
      "Features extracted in 109.62 seconds\n",
      "Features extracted in 60.89 seconds\n",
      "Features extracted in 113.85 seconds\n",
      "Features extracted in 61.68 seconds\n",
      "198245.6636080742 5165.505738735199 294.8539719581604\n",
      "Mean Feature Extraction and Reranking Time: 2202.729596\n",
      "Mean Clustering Time: 57.394508\n",
      "Mean Finetuning Time: 3.276155\n",
      "Total pipeline Time:  402360.873433\n"
     ]
    }
   ],
   "source": [
    "import torch\n",
    "import numpy as np\n",
    "import matplotlib.pyplot as plt\n",
    "\n",
    "from main import *\n",
    "\n",
    "from sklearn.cluster import KMeans\n",
    "from datasetUtils import load_from_Jadson\n",
    "from sklearn.metrics import confusion_matrix\n",
    "from sklearn.metrics import ConfusionMatrixDisplay\n",
    "\n",
    "from warnings import simplefilter\n",
    "# ignore all future warnings\n",
    "simplefilter(action='ignore', category=FutureWarning)\n",
    "\n",
    "\n",
    "# if __name__ == '__main__':\n",
    "# parser = argparse.ArgumentParser(description='Define the UDA parameters')\n",
    "#\n",
    "# parser.add_argument('--gpu_ids', type=str, default=\"7\", help='GPU IDs')\n",
    "# parser.add_argument('--lr', type=float, default=3.5e-4, help='Learning Rate')\n",
    "# parser.add_argument('--P', type=int, default=16, help='Number of Persons')\n",
    "# parser.add_argument('--K', type=int, default=4, help='Number of samples per person')\n",
    "# parser.add_argument('--tau', type=float, default=0.05, help='tau value used on softmax triplet loss')\n",
    "# parser.add_argument('--beta', type=float, default=0.999, help='beta used on self-Ensembling')\n",
    "# parser.add_argument('--k1', type=int, default=30, help='k on k-Reciprocal Encoding')\n",
    "# parser.add_argument('--sampling', type=str, default=\"mean\", help='Mean or Random feature vectors to be prototype')\n",
    "# parser.add_argument('--lambda_hard', type=float, default=0.5, help='tuning prameter of Softmax Triplet Loss')\n",
    "# parser.add_argument('--num_iter', type=int, default=400, help='Number of iterations on an epoch')\n",
    "# parser.add_argument('--momentum_on_feature_extraction', type=int, default=0,\n",
    "# help='If it is the momentum used on feature extraction')\n",
    "# parser.add_argument('--target', type=str, help='Name of target dataset')\n",
    "# parser.add_argument('--path_to_save_models', type=str, help='Path to save models')\n",
    "# parser.add_argument('--path_to_save_metrics', type=str, help='Path to save metrics (mAP, CMC, ...)')\n",
    "# parser.add_argument('--version', type=str, help='Path to save models')\n",
    "# parser.add_argument('--eval_freq', type=int, help='Evaluation Frequency along training')\n",
    "\n",
    "# args = parser.parse_args()\n",
    "# gpu_ids = args.gpu_ids\n",
    "# base_lr = args.lr\n",
    "# P = args.P\n",
    "# K = args.K\n",
    "\n",
    "# tau = args.tau\n",
    "# beta = args.beta\n",
    "# k1 = args.k1\n",
    "# sampling  = args.sampling\n",
    "#\n",
    "# lambda_hard = args.lambda_hard\n",
    "# number_of_iterations = args.num_iter\n",
    "# momentum_on_feature_extraction = bool(args.momentum_on_feature_extraction)\n",
    "# target = args.target\n",
    "# dir_to_save = args.path_to_save_models\n",
    "# dir_to_save_metrics = args.path_to_save_metrics\n",
    "# version = args.version\n",
    "# eval_freq = args.eval_freq\n",
    "# main.py --gpu_ids=0,1,2,3 --lr=3.5e-4 --P=16 --K=12 --tau=0.04 --beta=0.999 --k1=30 --sampling=mean --lambda_hard=0.5 --num_iter=7 --momentum_on_feature_extraction=0 --target=Duke --path_to_save_models=models --path_to_save_metrics=metrics --version=version_name --eval_freq=5\n",
    "\n",
    "import sys\n",
    "import os\n",
    "import pandas as pd\n",
    "\n",
    "from IPython.display import display, Image\n",
    "\n",
    "from IPython.display import display, HTML\n",
    "from bs4 import BeautifulSoup\n",
    "\n",
    "\n",
    "# Função para exibir a imagem usando HTML\n",
    "def exibir_imagem(imagem_path):\n",
    "    return f'<img src=\"{imagem_path}\" width=\"40\">'\n",
    "\n",
    "\n",
    "from metricas import *\n",
    "\n",
    "html_content= \"\"\n",
    "df = pd.DataFrame({\n",
    "    'k':[], \n",
    "    'lambda_hard':[],\n",
    "    'modelo':[],\n",
    "    'matriz_confusao':[], \n",
    "    'Acuracia':[], \n",
    "    'Precisao':[],\n",
    "    'Recall':[],\n",
    "    'F1-score':[],\n",
    "    'Grafico':[],\n",
    "    'Tipo':[]\n",
    "    })\n",
    "\n",
    "gpus = \"1,2,3\"\n",
    "for k in [4]:\n",
    "    for lambda_hard in [ 0.0 ]:\n",
    "                \n",
    "        print(f\"**** inicio do teste com ruido em k:{k} e lambda_hard:{lambda_hard} ****\")\n",
    "        \n",
    "        version = f\"teste-05-hsv-90epocas{k}_{lambda_hard}\"\n",
    "        \n",
    "        main(gpu_ids=gpus,base_lr=3.5e-4,P=16,K=k,tau=0.04,beta=0.999,k1=30,sampling=\"random\",lambda_hard=lambda_hard,number_of_iterations=7,momentum_on_feature_extraction=0,target=\"Jadson\",dir_to_save=\"models\",dir_to_save_metrics=\"metrics\",version=version,eval_freq=5,use_ruido=True)\n",
    "        \n",
    "        for metodo in models_name + [\"mean\"]:\n",
    "            metricas_t, metricas_v, rotulos_t, rotulos_v = metricas(k=k, lambda_hard=lambda_hard, modelo=metodo)\n",
    "            linha = {\n",
    "                'k':            [k], \n",
    "                'lambda_hard':  [lambda_hard],\n",
    "                'modelo':       [metodo],\n",
    "                'Tipo':         'Test'\n",
    "            }\n",
    "            for count in range( 0, metricas_t.shape[0] ):\n",
    "                for m in range( 0, metricas_t.shape[1] ):\n",
    "                    linha[rotulos_t[m]] = metricas_t[count][m]\n",
    "                    \n",
    "                \n",
    "                linha['matriz_confusao'] = f'resultados/MC_{k}_{lambda_hard}_{count}_{metodo}_test.png'\n",
    "                linha['Grafico'] = f'resultados/grafico_{k}_{lambda_hard}_{count}_{metodo}_test.png'\n",
    "                df = pd.concat( [df, pd.DataFrame(linha)], axis=0)\n",
    "             \n",
    "            linha = {\n",
    "               'k':             [k], \n",
    "               'lambda_hard':   [lambda_hard],\n",
    "               'modelo':        [metodo],\n",
    "               'Tipo':          'Valid'\n",
    "             }\n",
    "            for count in range( 0, metricas_v.shape[0] ):\n",
    "                for m in range( 0, metricas_v.shape[1] ):\n",
    "                    linha[rotulos_v[m]] = metricas_v[count][m] \n",
    "               \n",
    "                linha['Grafico'] = f'resultados/grafico_{k}_{lambda_hard}_{count}_{metodo}_valid.png'\n",
    "                linha['matriz_confusao'] = f'resultados/MC_{k}_{lambda_hard}_{count}_{metodo}_valid.png' \n",
    "                df = pd.concat( [df, pd.DataFrame(linha)], axis=0)\n",
    "        \n",
    "        # Aplicar a função à coluna 'imagem' e criar uma nova coluna 'imagem_exibicao'\n",
    "        df['MC'] = df['matriz_confusao'].apply(exibir_imagem)\n",
    "        df['GR'] = df['Grafico'].apply(exibir_imagem)\n",
    "        \n",
    "        html_content = df[['k', \n",
    "                           'lambda_hard', \n",
    "                           'Tipo', \n",
    "                           'modelo'] + \n",
    "                           rotulos_v[:8] + \n",
    "                           ['MC', \n",
    "                           'GR']].to_html(escape=False, index=False)\n",
    "        # salvando df em arquivo html\n",
    "        # Use BeautifulSoup para formatar o HTML\n",
    "        soup = BeautifulSoup(html_content, 'html.parser')\n",
    "        formatted_html = soup.prettify()\n",
    "        \n",
    "        # Salve o HTML em um arquivo\n",
    "        head = \"<!DOCTYPE html>\\n<html lang='pt-br'>\\n<head>\\n  <meta charset='UTF-8'>\\n  <meta name='viewport' content='width=device-width, initial-scale=1.0'>\\n  <style>\\n    table {\\n      width: 100%;\\n      border-collapse: collapse;\\n    }\\n    th, td {\\n      border: 1px solid #ddd;\\n      padding: 8px;\\n      text-align: left;\\n    }\\n    th {\\n      background-color: #f2f2f2;\\n    }\\n    thead th {\\n      position: sticky;\\n      top: 0;\\n      z-index: 1;\\n      background-color: #f2f2f2;    }\\n  </style>\\n    <title>Relatório Parcial</title>\\n</head>\\n<body>\"\n",
    "        with open('relatorio-APCER-BPCER-ACER-silhouette-ward-90epocas-hsv-MNETv3-convnet-efficientnet.html', 'w', encoding='utf-8') as file:\n",
    "            file.write(head)\n",
    "            file.write(formatted_html)\n",
    "            file.write('</body></html>')"
   ]
  },
  {
   "cell_type": "code",
   "execution_count": 2,
   "metadata": {
    "execution": {
     "iopub.execute_input": "2024-05-21T04:47:08.388921Z",
     "iopub.status.busy": "2024-05-21T04:47:08.387513Z",
     "iopub.status.idle": "2024-05-21T04:47:08.431903Z",
     "shell.execute_reply": "2024-05-21T04:47:08.430721Z"
    }
   },
   "outputs": [
    {
     "data": {
      "text/html": [
       "<table border=\"1\" class=\"dataframe\">\n",
       "  <thead>\n",
       "    <tr style=\"text-align: right;\">\n",
       "      <th>k</th>\n",
       "      <th>lambda_hard</th>\n",
       "      <th>Tipo</th>\n",
       "      <th>modelo</th>\n",
       "      <th>ACCURACY</th>\n",
       "      <th>PRECISION</th>\n",
       "      <th>RECALL</th>\n",
       "      <th>F1_SCORE</th>\n",
       "      <th>APCER</th>\n",
       "      <th>BPCER</th>\n",
       "      <th>ACER</th>\n",
       "      <th>SILHOUETTE</th>\n",
       "      <th>MC</th>\n",
       "      <th>GR</th>\n",
       "    </tr>\n",
       "  </thead>\n",
       "  <tbody>\n",
       "    <tr>\n",
       "      <td>4.0</td>\n",
       "      <td>0.0</td>\n",
       "      <td>Test</td>\n",
       "      <td>efficientnet</td>\n",
       "      <td>0.588583</td>\n",
       "      <td>0.778854</td>\n",
       "      <td>0.678333</td>\n",
       "      <td>0.725127</td>\n",
       "      <td>0.321667</td>\n",
       "      <td>0.770417</td>\n",
       "      <td>0.546042</td>\n",
       "      <td>0.569139</td>\n",
       "      <td><img src=\"resultados/MC_4_0.0_0_efficientnet_test.png\" width=\"40\"></td>\n",
       "      <td><img src=\"resultados/grafico_4_0.0_0_efficientnet_test.png\" width=\"40\"></td>\n",
       "    </tr>\n",
       "    <tr>\n",
       "      <td>4.0</td>\n",
       "      <td>0.0</td>\n",
       "      <td>Valid</td>\n",
       "      <td>efficientnet</td>\n",
       "      <td>0.697604</td>\n",
       "      <td>0.801084</td>\n",
       "      <td>0.827474</td>\n",
       "      <td>0.814065</td>\n",
       "      <td>0.172526</td>\n",
       "      <td>0.821875</td>\n",
       "      <td>0.497201</td>\n",
       "      <td>0.642409</td>\n",
       "      <td><img src=\"resultados/MC_4_0.0_0_efficientnet_valid.png\" width=\"40\"></td>\n",
       "      <td><img src=\"resultados/grafico_4_0.0_0_efficientnet_valid.png\" width=\"40\"></td>\n",
       "    </tr>\n",
       "    <tr>\n",
       "      <td>4.0</td>\n",
       "      <td>0.0</td>\n",
       "      <td>Test</td>\n",
       "      <td>convnext</td>\n",
       "      <td>0.352833</td>\n",
       "      <td>0.757151</td>\n",
       "      <td>0.281250</td>\n",
       "      <td>0.410147</td>\n",
       "      <td>0.718750</td>\n",
       "      <td>0.360833</td>\n",
       "      <td>0.539792</td>\n",
       "      <td>0.653967</td>\n",
       "      <td><img src=\"resultados/MC_4_0.0_0_convnext_test.png\" width=\"40\"></td>\n",
       "      <td><img src=\"resultados/grafico_4_0.0_0_convnext_test.png\" width=\"40\"></td>\n",
       "    </tr>\n",
       "    <tr>\n",
       "      <td>4.0</td>\n",
       "      <td>0.0</td>\n",
       "      <td>Valid</td>\n",
       "      <td>convnext</td>\n",
       "      <td>0.697917</td>\n",
       "      <td>0.797856</td>\n",
       "      <td>0.833594</td>\n",
       "      <td>0.815334</td>\n",
       "      <td>0.166406</td>\n",
       "      <td>0.844792</td>\n",
       "      <td>0.505599</td>\n",
       "      <td>0.644618</td>\n",
       "      <td><img src=\"resultados/MC_4_0.0_0_convnext_valid.png\" width=\"40\"></td>\n",
       "      <td><img src=\"resultados/grafico_4_0.0_0_convnext_valid.png\" width=\"40\"></td>\n",
       "    </tr>\n",
       "    <tr>\n",
       "      <td>4.0</td>\n",
       "      <td>0.0</td>\n",
       "      <td>Test</td>\n",
       "      <td>mobilenet</td>\n",
       "      <td>0.534750</td>\n",
       "      <td>0.745328</td>\n",
       "      <td>0.635625</td>\n",
       "      <td>0.686119</td>\n",
       "      <td>0.364375</td>\n",
       "      <td>0.868750</td>\n",
       "      <td>0.616563</td>\n",
       "      <td>0.590126</td>\n",
       "      <td><img src=\"resultados/MC_4_0.0_0_mobilenet_test.png\" width=\"40\"></td>\n",
       "      <td><img src=\"resultados/grafico_4_0.0_0_mobilenet_test.png\" width=\"40\"></td>\n",
       "    </tr>\n",
       "    <tr>\n",
       "      <td>4.0</td>\n",
       "      <td>0.0</td>\n",
       "      <td>Valid</td>\n",
       "      <td>mobilenet</td>\n",
       "      <td>0.676875</td>\n",
       "      <td>0.819782</td>\n",
       "      <td>0.764062</td>\n",
       "      <td>0.790942</td>\n",
       "      <td>0.235937</td>\n",
       "      <td>0.671875</td>\n",
       "      <td>0.453906</td>\n",
       "      <td>0.589765</td>\n",
       "      <td><img src=\"resultados/MC_4_0.0_0_mobilenet_valid.png\" width=\"40\"></td>\n",
       "      <td><img src=\"resultados/grafico_4_0.0_0_mobilenet_valid.png\" width=\"40\"></td>\n",
       "    </tr>\n",
       "    <tr>\n",
       "      <td>4.0</td>\n",
       "      <td>0.0</td>\n",
       "      <td>Test</td>\n",
       "      <td>vgg16</td>\n",
       "      <td>0.410667</td>\n",
       "      <td>0.676364</td>\n",
       "      <td>0.504948</td>\n",
       "      <td>0.578219</td>\n",
       "      <td>0.495052</td>\n",
       "      <td>0.966458</td>\n",
       "      <td>0.730755</td>\n",
       "      <td>0.589213</td>\n",
       "      <td><img src=\"resultados/MC_4_0.0_0_vgg16_test.png\" width=\"40\"></td>\n",
       "      <td><img src=\"resultados/grafico_4_0.0_0_vgg16_test.png\" width=\"40\"></td>\n",
       "    </tr>\n",
       "    <tr>\n",
       "      <td>4.0</td>\n",
       "      <td>0.0</td>\n",
       "      <td>Valid</td>\n",
       "      <td>vgg16</td>\n",
       "      <td>0.701146</td>\n",
       "      <td>0.798709</td>\n",
       "      <td>0.837500</td>\n",
       "      <td>0.817644</td>\n",
       "      <td>0.162500</td>\n",
       "      <td>0.844271</td>\n",
       "      <td>0.503385</td>\n",
       "      <td>0.595256</td>\n",
       "      <td><img src=\"resultados/MC_4_0.0_0_vgg16_valid.png\" width=\"40\"></td>\n",
       "      <td><img src=\"resultados/grafico_4_0.0_0_vgg16_valid.png\" width=\"40\"></td>\n",
       "    </tr>\n",
       "    <tr>\n",
       "      <td>4.0</td>\n",
       "      <td>0.0</td>\n",
       "      <td>Test</td>\n",
       "      <td>resnet50</td>\n",
       "      <td>0.407458</td>\n",
       "      <td>0.676298</td>\n",
       "      <td>0.497396</td>\n",
       "      <td>0.573212</td>\n",
       "      <td>0.502604</td>\n",
       "      <td>0.952292</td>\n",
       "      <td>0.727448</td>\n",
       "      <td>0.602894</td>\n",
       "      <td><img src=\"resultados/MC_4_0.0_0_resnet50_test.png\" width=\"40\"></td>\n",
       "      <td><img src=\"resultados/grafico_4_0.0_0_resnet50_test.png\" width=\"40\"></td>\n",
       "    </tr>\n",
       "    <tr>\n",
       "      <td>4.0</td>\n",
       "      <td>0.0</td>\n",
       "      <td>Valid</td>\n",
       "      <td>resnet50</td>\n",
       "      <td>0.425208</td>\n",
       "      <td>0.706376</td>\n",
       "      <td>0.481771</td>\n",
       "      <td>0.572844</td>\n",
       "      <td>0.518229</td>\n",
       "      <td>0.801042</td>\n",
       "      <td>0.659635</td>\n",
       "      <td>0.562353</td>\n",
       "      <td><img src=\"resultados/MC_4_0.0_0_resnet50_valid.png\" width=\"40\"></td>\n",
       "      <td><img src=\"resultados/grafico_4_0.0_0_resnet50_valid.png\" width=\"40\"></td>\n",
       "    </tr>\n",
       "    <tr>\n",
       "      <td>4.0</td>\n",
       "      <td>0.0</td>\n",
       "      <td>Test</td>\n",
       "      <td>osnet</td>\n",
       "      <td>0.780708</td>\n",
       "      <td>0.846158</td>\n",
       "      <td>0.887188</td>\n",
       "      <td>0.866187</td>\n",
       "      <td>0.112812</td>\n",
       "      <td>0.645208</td>\n",
       "      <td>0.379010</td>\n",
       "      <td>0.657521</td>\n",
       "      <td><img src=\"resultados/MC_4_0.0_0_osnet_test.png\" width=\"40\"></td>\n",
       "      <td><img src=\"resultados/grafico_4_0.0_0_osnet_test.png\" width=\"40\"></td>\n",
       "    </tr>\n",
       "    <tr>\n",
       "      <td>4.0</td>\n",
       "      <td>0.0</td>\n",
       "      <td>Valid</td>\n",
       "      <td>osnet</td>\n",
       "      <td>0.826354</td>\n",
       "      <td>0.840140</td>\n",
       "      <td>0.966927</td>\n",
       "      <td>0.899086</td>\n",
       "      <td>0.033073</td>\n",
       "      <td>0.735938</td>\n",
       "      <td>0.384505</td>\n",
       "      <td>0.657422</td>\n",
       "      <td><img src=\"resultados/MC_4_0.0_0_osnet_valid.png\" width=\"40\"></td>\n",
       "      <td><img src=\"resultados/grafico_4_0.0_0_osnet_valid.png\" width=\"40\"></td>\n",
       "    </tr>\n",
       "    <tr>\n",
       "      <td>4.0</td>\n",
       "      <td>0.0</td>\n",
       "      <td>Test</td>\n",
       "      <td>densenet121</td>\n",
       "      <td>0.566583</td>\n",
       "      <td>0.740225</td>\n",
       "      <td>0.705990</td>\n",
       "      <td>0.722702</td>\n",
       "      <td>0.294010</td>\n",
       "      <td>0.991042</td>\n",
       "      <td>0.642526</td>\n",
       "      <td>0.614422</td>\n",
       "      <td><img src=\"resultados/MC_4_0.0_0_densenet121_test.png\" width=\"40\"></td>\n",
       "      <td><img src=\"resultados/grafico_4_0.0_0_densenet121_test.png\" width=\"40\"></td>\n",
       "    </tr>\n",
       "    <tr>\n",
       "      <td>4.0</td>\n",
       "      <td>0.0</td>\n",
       "      <td>Valid</td>\n",
       "      <td>densenet121</td>\n",
       "      <td>0.485417</td>\n",
       "      <td>0.778909</td>\n",
       "      <td>0.498177</td>\n",
       "      <td>0.607687</td>\n",
       "      <td>0.501823</td>\n",
       "      <td>0.565625</td>\n",
       "      <td>0.533724</td>\n",
       "      <td>0.577041</td>\n",
       "      <td><img src=\"resultados/MC_4_0.0_0_densenet121_valid.png\" width=\"40\"></td>\n",
       "      <td><img src=\"resultados/grafico_4_0.0_0_densenet121_valid.png\" width=\"40\"></td>\n",
       "    </tr>\n",
       "    <tr>\n",
       "      <td>4.0</td>\n",
       "      <td>0.0</td>\n",
       "      <td>Test</td>\n",
       "      <td>mean</td>\n",
       "      <td>0.398833</td>\n",
       "      <td>0.667509</td>\n",
       "      <td>0.495208</td>\n",
       "      <td>0.568592</td>\n",
       "      <td>0.504792</td>\n",
       "      <td>0.986667</td>\n",
       "      <td>0.745729</td>\n",
       "      <td>0.611040</td>\n",
       "      <td><img src=\"resultados/MC_4_0.0_0_mean_test.png\" width=\"40\"></td>\n",
       "      <td><img src=\"resultados/grafico_4_0.0_0_mean_test.png\" width=\"40\"></td>\n",
       "    </tr>\n",
       "    <tr>\n",
       "      <td>4.0</td>\n",
       "      <td>0.0</td>\n",
       "      <td>Valid</td>\n",
       "      <td>mean</td>\n",
       "      <td>0.630208</td>\n",
       "      <td>0.802875</td>\n",
       "      <td>0.712760</td>\n",
       "      <td>0.755139</td>\n",
       "      <td>0.287240</td>\n",
       "      <td>0.700000</td>\n",
       "      <td>0.493620</td>\n",
       "      <td>0.609838</td>\n",
       "      <td><img src=\"resultados/MC_4_0.0_0_mean_valid.png\" width=\"40\"></td>\n",
       "      <td><img src=\"resultados/grafico_4_0.0_0_mean_valid.png\" width=\"40\"></td>\n",
       "    </tr>\n",
       "  </tbody>\n",
       "</table>"
      ],
      "text/plain": [
       "<IPython.core.display.HTML object>"
      ]
     },
     "metadata": {},
     "output_type": "display_data"
    },
    {
     "name": "stdout",
     "output_type": "stream",
     "text": [
      "     k  lambda_hard        modelo  \\\n",
      "0  4.0          0.0  efficientnet   \n",
      "0  4.0          0.0  efficientnet   \n",
      "0  4.0          0.0      convnext   \n",
      "0  4.0          0.0      convnext   \n",
      "0  4.0          0.0     mobilenet   \n",
      "0  4.0          0.0     mobilenet   \n",
      "0  4.0          0.0         vgg16   \n",
      "0  4.0          0.0         vgg16   \n",
      "0  4.0          0.0      resnet50   \n",
      "0  4.0          0.0      resnet50   \n",
      "0  4.0          0.0         osnet   \n",
      "0  4.0          0.0         osnet   \n",
      "0  4.0          0.0   densenet121   \n",
      "0  4.0          0.0   densenet121   \n",
      "0  4.0          0.0          mean   \n",
      "0  4.0          0.0          mean   \n",
      "\n",
      "                                matriz_confusao  Acuracia  Precisao  Recall  \\\n",
      "0   resultados/MC_4_0.0_0_efficientnet_test.png       NaN       NaN     NaN   \n",
      "0  resultados/MC_4_0.0_0_efficientnet_valid.png       NaN       NaN     NaN   \n",
      "0       resultados/MC_4_0.0_0_convnext_test.png       NaN       NaN     NaN   \n",
      "0      resultados/MC_4_0.0_0_convnext_valid.png       NaN       NaN     NaN   \n",
      "0      resultados/MC_4_0.0_0_mobilenet_test.png       NaN       NaN     NaN   \n",
      "0     resultados/MC_4_0.0_0_mobilenet_valid.png       NaN       NaN     NaN   \n",
      "0          resultados/MC_4_0.0_0_vgg16_test.png       NaN       NaN     NaN   \n",
      "0         resultados/MC_4_0.0_0_vgg16_valid.png       NaN       NaN     NaN   \n",
      "0       resultados/MC_4_0.0_0_resnet50_test.png       NaN       NaN     NaN   \n",
      "0      resultados/MC_4_0.0_0_resnet50_valid.png       NaN       NaN     NaN   \n",
      "0          resultados/MC_4_0.0_0_osnet_test.png       NaN       NaN     NaN   \n",
      "0         resultados/MC_4_0.0_0_osnet_valid.png       NaN       NaN     NaN   \n",
      "0    resultados/MC_4_0.0_0_densenet121_test.png       NaN       NaN     NaN   \n",
      "0   resultados/MC_4_0.0_0_densenet121_valid.png       NaN       NaN     NaN   \n",
      "0           resultados/MC_4_0.0_0_mean_test.png       NaN       NaN     NaN   \n",
      "0          resultados/MC_4_0.0_0_mean_valid.png       NaN       NaN     NaN   \n",
      "\n",
      "   F1-score                                            Grafico   Tipo  \\\n",
      "0       NaN   resultados/grafico_4_0.0_0_efficientnet_test.png   Test   \n",
      "0       NaN  resultados/grafico_4_0.0_0_efficientnet_valid.png  Valid   \n",
      "0       NaN       resultados/grafico_4_0.0_0_convnext_test.png   Test   \n",
      "0       NaN      resultados/grafico_4_0.0_0_convnext_valid.png  Valid   \n",
      "0       NaN      resultados/grafico_4_0.0_0_mobilenet_test.png   Test   \n",
      "0       NaN     resultados/grafico_4_0.0_0_mobilenet_valid.png  Valid   \n",
      "0       NaN          resultados/grafico_4_0.0_0_vgg16_test.png   Test   \n",
      "0       NaN         resultados/grafico_4_0.0_0_vgg16_valid.png  Valid   \n",
      "0       NaN       resultados/grafico_4_0.0_0_resnet50_test.png   Test   \n",
      "0       NaN      resultados/grafico_4_0.0_0_resnet50_valid.png  Valid   \n",
      "0       NaN          resultados/grafico_4_0.0_0_osnet_test.png   Test   \n",
      "0       NaN         resultados/grafico_4_0.0_0_osnet_valid.png  Valid   \n",
      "0       NaN    resultados/grafico_4_0.0_0_densenet121_test.png   Test   \n",
      "0       NaN   resultados/grafico_4_0.0_0_densenet121_valid.png  Valid   \n",
      "0       NaN           resultados/grafico_4_0.0_0_mean_test.png   Test   \n",
      "0       NaN          resultados/grafico_4_0.0_0_mean_valid.png  Valid   \n",
      "\n",
      "   ACCURACY  PRECISION    RECALL  F1_SCORE     APCER     BPCER      ACER  \\\n",
      "0  0.588583   0.778854  0.678333  0.725127  0.321667  0.770417  0.546042   \n",
      "0  0.697604   0.801084  0.827474  0.814065  0.172526  0.821875  0.497201   \n",
      "0  0.352833   0.757151  0.281250  0.410147  0.718750  0.360833  0.539792   \n",
      "0  0.697917   0.797856  0.833594  0.815334  0.166406  0.844792  0.505599   \n",
      "0  0.534750   0.745328  0.635625  0.686119  0.364375  0.868750  0.616563   \n",
      "0  0.676875   0.819782  0.764062  0.790942  0.235937  0.671875  0.453906   \n",
      "0  0.410667   0.676364  0.504948  0.578219  0.495052  0.966458  0.730755   \n",
      "0  0.701146   0.798709  0.837500  0.817644  0.162500  0.844271  0.503385   \n",
      "0  0.407458   0.676298  0.497396  0.573212  0.502604  0.952292  0.727448   \n",
      "0  0.425208   0.706376  0.481771  0.572844  0.518229  0.801042  0.659635   \n",
      "0  0.780708   0.846158  0.887188  0.866187  0.112812  0.645208  0.379010   \n",
      "0  0.826354   0.840140  0.966927  0.899086  0.033073  0.735938  0.384505   \n",
      "0  0.566583   0.740225  0.705990  0.722702  0.294010  0.991042  0.642526   \n",
      "0  0.485417   0.778909  0.498177  0.607687  0.501823  0.565625  0.533724   \n",
      "0  0.398833   0.667509  0.495208  0.568592  0.504792  0.986667  0.745729   \n",
      "0  0.630208   0.802875  0.712760  0.755139  0.287240  0.700000  0.493620   \n",
      "\n",
      "   SILHOUETTE                                                 MC  \\\n",
      "0    0.569139  <img src=\"resultados/MC_4_0.0_0_efficientnet_t...   \n",
      "0    0.642409  <img src=\"resultados/MC_4_0.0_0_efficientnet_v...   \n",
      "0    0.653967  <img src=\"resultados/MC_4_0.0_0_convnext_test....   \n",
      "0    0.644618  <img src=\"resultados/MC_4_0.0_0_convnext_valid...   \n",
      "0    0.590126  <img src=\"resultados/MC_4_0.0_0_mobilenet_test...   \n",
      "0    0.589765  <img src=\"resultados/MC_4_0.0_0_mobilenet_vali...   \n",
      "0    0.589213  <img src=\"resultados/MC_4_0.0_0_vgg16_test.png...   \n",
      "0    0.595256  <img src=\"resultados/MC_4_0.0_0_vgg16_valid.pn...   \n",
      "0    0.602894  <img src=\"resultados/MC_4_0.0_0_resnet50_test....   \n",
      "0    0.562353  <img src=\"resultados/MC_4_0.0_0_resnet50_valid...   \n",
      "0    0.657521  <img src=\"resultados/MC_4_0.0_0_osnet_test.png...   \n",
      "0    0.657422  <img src=\"resultados/MC_4_0.0_0_osnet_valid.pn...   \n",
      "0    0.614422  <img src=\"resultados/MC_4_0.0_0_densenet121_te...   \n",
      "0    0.577041  <img src=\"resultados/MC_4_0.0_0_densenet121_va...   \n",
      "0    0.611040  <img src=\"resultados/MC_4_0.0_0_mean_test.png\"...   \n",
      "0    0.609838  <img src=\"resultados/MC_4_0.0_0_mean_valid.png...   \n",
      "\n",
      "                                                  GR  \n",
      "0  <img src=\"resultados/grafico_4_0.0_0_efficient...  \n",
      "0  <img src=\"resultados/grafico_4_0.0_0_efficient...  \n",
      "0  <img src=\"resultados/grafico_4_0.0_0_convnext_...  \n",
      "0  <img src=\"resultados/grafico_4_0.0_0_convnext_...  \n",
      "0  <img src=\"resultados/grafico_4_0.0_0_mobilenet...  \n",
      "0  <img src=\"resultados/grafico_4_0.0_0_mobilenet...  \n",
      "0  <img src=\"resultados/grafico_4_0.0_0_vgg16_tes...  \n",
      "0  <img src=\"resultados/grafico_4_0.0_0_vgg16_val...  \n",
      "0  <img src=\"resultados/grafico_4_0.0_0_resnet50_...  \n",
      "0  <img src=\"resultados/grafico_4_0.0_0_resnet50_...  \n",
      "0  <img src=\"resultados/grafico_4_0.0_0_osnet_tes...  \n",
      "0  <img src=\"resultados/grafico_4_0.0_0_osnet_val...  \n",
      "0  <img src=\"resultados/grafico_4_0.0_0_densenet1...  \n",
      "0  <img src=\"resultados/grafico_4_0.0_0_densenet1...  \n",
      "0  <img src=\"resultados/grafico_4_0.0_0_mean_test...  \n",
      "0  <img src=\"resultados/grafico_4_0.0_0_mean_vali...  \n"
     ]
    }
   ],
   "source": [
    "# Exibir o DataFrame com as imagens\n",
    "display(HTML(html_content))\n",
    "print(df)"
   ]
  }
 ],
 "metadata": {
  "kernelspec": {
   "display_name": "Python 3",
   "language": "python",
   "name": "python3"
  },
  "language_info": {
   "codemirror_mode": {
    "name": "ipython",
    "version": 3
   },
   "file_extension": ".py",
   "mimetype": "text/x-python",
   "name": "python",
   "nbconvert_exporter": "python",
   "pygments_lexer": "ipython3",
   "version": "3.10.13"
  }
 },
 "nbformat": 4,
 "nbformat_minor": 2
}
