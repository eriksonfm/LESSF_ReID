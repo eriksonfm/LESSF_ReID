{
 "cells": [
  {
   "cell_type": "code",
   "execution_count": 1,
   "metadata": {
    "execution": {
     "iopub.execute_input": "2024-05-02T19:47:56.194739Z",
     "iopub.status.busy": "2024-05-02T19:47:56.194115Z",
     "iopub.status.idle": "2024-05-07T09:40:50.027574Z",
     "shell.execute_reply": "2024-05-07T09:40:50.025990Z"
    }
   },
   "outputs": [
    {
     "name": "stderr",
     "output_type": "stream",
     "text": [
      "/home/emorais/miniconda3/envs/myenv/lib/python3.10/site-packages/torchreid/reid/metrics/rank.py:11: UserWarning: Cython evaluation (very fast so highly recommended) is unavailable, now use python evaluation.\n",
      "  warnings.warn(\n",
      "/home/emorais/miniconda3/envs/myenv/lib/python3.10/site-packages/tqdm/auto.py:21: TqdmWarning: IProgress not found. Please update jupyter and ipywidgets. See https://ipywidgets.readthedocs.io/en/stable/user_install.html\n",
      "  from .autonotebook import tqdm as notebook_tqdm\n",
      "Special tokens have been added in the vocabulary, make sure the associated word embeddings are fine-tuned or trained.\n",
      "You are using the default legacy behaviour of the <class 'transformers.models.t5.tokenization_t5.T5Tokenizer'>. If you see this, DO NOT PANIC! This is expected, and simply means that the `legacy` (previous) behavior will be used so nothing changes for you. If you want to use the new behaviour, set `legacy=False`. This should only be set if you understand what it means, and thouroughly read the reason why this was added as explained in https://github.com/huggingface/transformers/pull/24565\n",
      "/home/emorais/repos/LESSF_ReID-working-fft/DCNNs.py:18: UserWarning: Cython evaluation (very fast so highly recommended) is unavailable, now use python evaluation.\n",
      "  warnings.warn(\n"
     ]
    },
    {
     "name": "stdout",
     "output_type": "stream",
     "text": [
      "**** inicio do teste com ruido em k:4 e lambda_hard:0.0 ****\n",
      "Num GPU's: 3\n",
      "Allocated GPU's for model: [1, 2]\n"
     ]
    },
    {
     "name": "stderr",
     "output_type": "stream",
     "text": [
      "/home/emorais/miniconda3/envs/myenv/lib/python3.10/site-packages/torchvision/models/_utils.py:208: UserWarning: The parameter 'pretrained' is deprecated since 0.13 and may be removed in the future, please use 'weights' instead.\n",
      "  warnings.warn(\n",
      "/home/emorais/miniconda3/envs/myenv/lib/python3.10/site-packages/torchvision/models/_utils.py:223: UserWarning: Arguments other than a weight enum or `None` for 'weights' are deprecated since 0.13 and may be removed in the future. The current behavior is equivalent to passing `weights=EfficientNet_V2_M_Weights.IMAGENET1K_V1`. You can also use `weights=EfficientNet_V2_M_Weights.DEFAULT` to get the most up-to-date weights.\n",
      "  warnings.warn(msg)\n",
      "/home/emorais/miniconda3/envs/myenv/lib/python3.10/site-packages/torchvision/models/_utils.py:223: UserWarning: Arguments other than a weight enum or `None` for 'weights' are deprecated since 0.13 and may be removed in the future. The current behavior is equivalent to passing `weights=ConvNeXt_Base_Weights.IMAGENET1K_V1`. You can also use `weights=ConvNeXt_Base_Weights.DEFAULT` to get the most up-to-date weights.\n",
      "  warnings.warn(msg)\n",
      "/home/emorais/miniconda3/envs/myenv/lib/python3.10/site-packages/torchvision/models/_utils.py:223: UserWarning: Arguments other than a weight enum or `None` for 'weights' are deprecated since 0.13 and may be removed in the future. The current behavior is equivalent to passing `weights=MobileNet_V3_Large_Weights.IMAGENET1K_V1`. You can also use `weights=MobileNet_V3_Large_Weights.DEFAULT` to get the most up-to-date weights.\n",
      "  warnings.warn(msg)\n",
      "/home/emorais/miniconda3/envs/myenv/lib/python3.10/site-packages/torchvision/models/_utils.py:223: UserWarning: Arguments other than a weight enum or `None` for 'weights' are deprecated since 0.13 and may be removed in the future. The current behavior is equivalent to passing `weights=VGG16_Weights.IMAGENET1K_V1`. You can also use `weights=VGG16_Weights.DEFAULT` to get the most up-to-date weights.\n",
      "  warnings.warn(msg)\n",
      "/home/emorais/miniconda3/envs/myenv/lib/python3.10/site-packages/torchvision/models/_utils.py:223: UserWarning: Arguments other than a weight enum or `None` for 'weights' are deprecated since 0.13 and may be removed in the future. The current behavior is equivalent to passing `weights=ResNet50_Weights.IMAGENET1K_V1`. You can also use `weights=ResNet50_Weights.DEFAULT` to get the most up-to-date weights.\n",
      "  warnings.warn(msg)\n"
     ]
    },
    {
     "name": "stdout",
     "output_type": "stream",
     "text": [
      "Successfully loaded imagenet pretrained weights from \"/home/emorais/.cache/torch/checkpoints/osnet_x1_0_imagenet.pth\"\n",
      "Successfully loaded imagenet pretrained weights from \"/home/emorais/.cache/torch/checkpoints/osnet_x1_0_imagenet.pth\"\n"
     ]
    },
    {
     "name": "stderr",
     "output_type": "stream",
     "text": [
      "/home/emorais/miniconda3/envs/myenv/lib/python3.10/site-packages/torchvision/models/_utils.py:223: UserWarning: Arguments other than a weight enum or `None` for 'weights' are deprecated since 0.13 and may be removed in the future. The current behavior is equivalent to passing `weights=DenseNet121_Weights.IMAGENET1K_V1`. You can also use `weights=DenseNet121_Weights.DEFAULT` to get the most up-to-date weights.\n",
      "  warnings.warn(msg)\n"
     ]
    },
    {
     "name": "stdout",
     "output_type": "stream",
     "text": [
      "Training Size: (38400, 3)\n",
      "Gallery Size: (24000, 3)\n",
      "Query Size: (9600, 3)\n",
      "Validating efficientnet on Jadson ...\n",
      "Features extracted in 57.11 seconds\n",
      "Features extracted in 115.62 seconds\n",
      "Computing CMC and mAP ...\n",
      "** Results **\n",
      "mAP: 66.43%\n",
      "CMC curve\n",
      "Rank-1  : 47.80%\n",
      "Rank-5  : 83.33%\n",
      "Rank-10 : 91.48%\n",
      "Rank-20 : 96.43%\n",
      "Validating convnext on Jadson ...\n",
      "Features extracted in 58.12 seconds\n",
      "Features extracted in 119.44 seconds\n",
      "Computing CMC and mAP ...\n",
      "** Results **\n",
      "mAP: 64.92%\n",
      "CMC curve\n",
      "Rank-1  : 45.94%\n",
      "Rank-5  : 75.49%\n",
      "Rank-10 : 87.57%\n",
      "Rank-20 : 95.05%\n",
      "Validating mobilenet on Jadson ...\n",
      "Features extracted in 56.87 seconds\n",
      "Features extracted in 115.37 seconds\n",
      "Computing CMC and mAP ...\n",
      "** Results **\n",
      "mAP: 66.43%\n",
      "CMC curve\n",
      "Rank-1  : 53.10%\n",
      "Rank-5  : 85.40%\n",
      "Rank-10 : 94.20%\n",
      "Rank-20 : 98.67%\n",
      "Validating vgg16 on Jadson ...\n",
      "Features extracted in 57.63 seconds\n",
      "Features extracted in 116.01 seconds\n",
      "Computing CMC and mAP ...\n",
      "** Results **\n",
      "mAP: 65.67%\n",
      "CMC curve\n",
      "Rank-1  : 46.27%\n",
      "Rank-5  : 82.54%\n",
      "Rank-10 : 90.92%\n",
      "Rank-20 : 96.79%\n",
      "Validating resnet50 on Jadson ...\n",
      "Features extracted in 57.13 seconds\n",
      "Features extracted in 115.47 seconds\n",
      "Computing CMC and mAP ...\n",
      "** Results **\n",
      "mAP: 64.92%\n",
      "CMC curve\n",
      "Rank-1  : 42.95%\n",
      "Rank-5  : 71.79%\n",
      "Rank-10 : 80.83%\n",
      "Rank-20 : 89.85%\n",
      "Validating osnet on Jadson ...\n",
      "Features extracted in 57.72 seconds\n",
      "Features extracted in 115.34 seconds\n",
      "Computing CMC and mAP ...\n",
      "** Results **\n",
      "mAP: 67.01%\n",
      "CMC curve\n",
      "Rank-1  : 49.90%\n",
      "Rank-5  : 86.23%\n",
      "Rank-10 : 95.14%\n",
      "Rank-20 : 98.68%\n",
      "Validating densenet121 on Jadson ...\n",
      "Features extracted in 57.79 seconds\n",
      "Features extracted in 115.91 seconds\n",
      "Computing CMC and mAP ...\n",
      "** Results **\n",
      "mAP: 65.63%\n",
      "CMC curve\n",
      "Rank-1  : 47.50%\n",
      "Rank-5  : 80.20%\n",
      "Rank-10 : 89.54%\n",
      "Rank-20 : 95.55%\n",
      "Computing CMC and mAP ...\n",
      "** Results **\n",
      "mAP: 65.37%\n",
      "Ranks:\n",
      "Rank-1  : 43.89%\n",
      "Rank-5  : 75.85%\n",
      "Rank-10 : 85.92%\n",
      "###============ Iteration number 1/90 ============###\n",
      "Extracting Online Features for efficientnet ...\n",
      "Features extracted in 186.83 seconds\n",
      "Computing jaccard distance...\n"
     ]
    },
    {
     "name": "stderr",
     "output_type": "stream",
     "text": [
      "/home/emorais/repos/LESSF_ReID-working-fft/faiss_utils.py:10: UserWarning: TypedStorage is deprecated. It will be removed in the future and UntypedStorage will be the only storage class. This should only matter to you if you are using storages directly.  To access UntypedStorage directly, use tensor.untyped_storage() instead of tensor.storage()\n",
      "  x.storage().data_ptr() + x.storage_offset() * 4)\n",
      "bruteForceKnn is deprecated; call bfKnn instead\n"
     ]
    },
    {
     "name": "stdout",
     "output_type": "stream",
     "text": [
      "Jaccard distance computing time cost: 78.82580280303955\n",
      "Extracting Online Features for convnext ...\n",
      "Features extracted in 189.68 seconds\n",
      "Computing jaccard distance...\n"
     ]
    },
    {
     "name": "stderr",
     "output_type": "stream",
     "text": [
      "bruteForceKnn is deprecated; call bfKnn instead\n"
     ]
    },
    {
     "name": "stdout",
     "output_type": "stream",
     "text": [
      "Jaccard distance computing time cost: 78.84137225151062\n",
      "Extracting Online Features for mobilenet ...\n",
      "Features extracted in 189.14 seconds\n",
      "Computing jaccard distance...\n"
     ]
    },
    {
     "name": "stderr",
     "output_type": "stream",
     "text": [
      "bruteForceKnn is deprecated; call bfKnn instead\n"
     ]
    },
    {
     "name": "stdout",
     "output_type": "stream",
     "text": [
      "Jaccard distance computing time cost: 73.94828939437866\n",
      "Extracting Online Features for vgg16 ...\n",
      "Features extracted in 190.95 seconds\n",
      "Computing jaccard distance...\n"
     ]
    },
    {
     "name": "stderr",
     "output_type": "stream",
     "text": [
      "bruteForceKnn is deprecated; call bfKnn instead\n"
     ]
    },
    {
     "name": "stdout",
     "output_type": "stream",
     "text": [
      "Jaccard distance computing time cost: 72.36481022834778\n",
      "Extracting Online Features for resnet50 ...\n",
      "Features extracted in 190.43 seconds\n",
      "Computing jaccard distance...\n"
     ]
    },
    {
     "name": "stderr",
     "output_type": "stream",
     "text": [
      "bruteForceKnn is deprecated; call bfKnn instead\n"
     ]
    },
    {
     "name": "stdout",
     "output_type": "stream",
     "text": [
      "Jaccard distance computing time cost: 74.86455154418945\n",
      "Extracting Online Features for osnet ...\n",
      "Features extracted in 188.51 seconds\n",
      "Computing jaccard distance...\n"
     ]
    },
    {
     "name": "stderr",
     "output_type": "stream",
     "text": [
      "bruteForceKnn is deprecated; call bfKnn instead\n"
     ]
    },
    {
     "name": "stdout",
     "output_type": "stream",
     "text": [
      "Jaccard distance computing time cost: 73.70959758758545\n",
      "Extracting Online Features for densenet121 ...\n",
      "Features extracted in 190.13 seconds\n",
      "Computing jaccard distance...\n"
     ]
    },
    {
     "name": "stderr",
     "output_type": "stream",
     "text": [
      "bruteForceKnn is deprecated; call bfKnn instead\n"
     ]
    },
    {
     "name": "stdout",
     "output_type": "stream",
     "text": [
      "Jaccard distance computing time cost: 73.34694385528564\n",
      "Reliability: 0.079\n",
      "\u001b[32mMean Purity: 0.01939\u001b[0m\n",
      "\u001b[34mThere are 30 clusters with 4 cameras\u001b[0m\n",
      "\u001b[34mThere are 20 clusters with 5 cameras\u001b[0m\n",
      "\u001b[34mThere are 15 clusters with 6 cameras\u001b[0m\n",
      "\u001b[34mThere are 9 clusters with 7 cameras\u001b[0m\n",
      "\u001b[34mThere are 8 clusters with 8 cameras\u001b[0m\n",
      "\u001b[34mThere are 2 clusters with 9 cameras\u001b[0m\n",
      "\u001b[34mThere are 14 clusters with 10 cameras\u001b[0m\n",
      "\u001b[34mThere are 4 clusters with 11 cameras\u001b[0m\n",
      "\u001b[34mThere are 6 clusters with 12 cameras\u001b[0m\n",
      "\u001b[34mThere are 2 clusters with 13 cameras\u001b[0m\n",
      "\u001b[34mThere are 2 clusters with 14 cameras\u001b[0m\n",
      "\u001b[34mThere are 5 clusters with 15 cameras\u001b[0m\n",
      "\u001b[34mThere are 5 clusters with 16 cameras\u001b[0m\n",
      "\u001b[34mThere are 5 clusters with 17 cameras\u001b[0m\n",
      "\u001b[34mThere are 2 clusters with 18 cameras\u001b[0m\n",
      "\u001b[34mThere are 3 clusters with 21 cameras\u001b[0m\n",
      "\u001b[34mThere are 3 clusters with 23 cameras\u001b[0m\n",
      "\u001b[34mThere are 1 clusters with 25 cameras\u001b[0m\n",
      "\u001b[34mThere are 2 clusters with 26 cameras\u001b[0m\n",
      "\u001b[34mThere are 1 clusters with 28 cameras\u001b[0m\n",
      "\u001b[34mThere are 1 clusters with 30 cameras\u001b[0m\n",
      "\u001b[34mThere are 3 clusters with 31 cameras\u001b[0m\n",
      "\u001b[34mThere are 1 clusters with 32 cameras\u001b[0m\n",
      "\u001b[34mThere are 1 clusters with 33 cameras\u001b[0m\n",
      "\u001b[34mThere are 3 clusters with 34 cameras\u001b[0m\n",
      "\u001b[34mThere are 1 clusters with 38 cameras\u001b[0m\n",
      "\u001b[34mThere are 2 clusters with 40 cameras\u001b[0m\n",
      "\u001b[34mThere are 1 clusters with 42 cameras\u001b[0m\n",
      "\u001b[34mThere are 1 clusters with 44 cameras\u001b[0m\n",
      "\u001b[34mThere are 2 clusters with 47 cameras\u001b[0m\n",
      "\u001b[34mThere are 1 clusters with 48 cameras\u001b[0m\n",
      "\u001b[34mThere are 1 clusters with 50 cameras\u001b[0m\n",
      "\u001b[34mThere are 1 clusters with 58 cameras\u001b[0m\n",
      "\u001b[34mThere are 2 clusters with 62 cameras\u001b[0m\n",
      "\u001b[34mThere are 1 clusters with 65 cameras\u001b[0m\n",
      "\u001b[34mThere are 1 clusters with 66 cameras\u001b[0m\n",
      "\u001b[34mThere are 1 clusters with 86 cameras\u001b[0m\n",
      "\u001b[34mThere are 1 clusters with 92 cameras\u001b[0m\n",
      "\u001b[34mThere are 1 clusters with 102 cameras\u001b[0m\n",
      "\u001b[34mThere are 1 clusters with 161 cameras\u001b[0m\n",
      "\u001b[34mThere are 1 clusters with 320 cameras\u001b[0m\n",
      "Number of classes: 167\n",
      "\u001b[36mLearning Rate: 0.000017\u001b[0m\n",
      "\u001b[32mTraining efficientnet ...\u001b[0m\n",
      "Features extracted in 23.03 seconds\n",
      "\u001b[36mBatches computed: 10, Tau value: 0.040\u001b[0m\n",
      "\u001b[33mMean Loss: 5.2002870, Mean Center Loss: 5.2002870, Mean Hard Triplet Loss: 2.9331601\u001b[0m\n",
      "\u001b[5m\u001b[34mPercetage of correct triplets: 0.45\u001b[0m\n",
      "Features extracted in 22.88 seconds\n",
      "\u001b[36mBatches computed: 20, Tau value: 0.040\u001b[0m\n",
      "\u001b[33mMean Loss: 5.1588835, Mean Center Loss: 5.1588835, Mean Hard Triplet Loss: 2.9358528\u001b[0m\n",
      "\u001b[5m\u001b[34mPercetage of correct triplets: 0.45\u001b[0m\n",
      "Features extracted in 23.89 seconds\n",
      "\u001b[36mBatches computed: 30, Tau value: 0.040\u001b[0m\n",
      "\u001b[33mMean Loss: 5.0567154, Mean Center Loss: 5.0567154, Mean Hard Triplet Loss: 2.9578349\u001b[0m\n",
      "\u001b[5m\u001b[34mPercetage of correct triplets: 0.44\u001b[0m\n",
      "Features extracted in 23.42 seconds\n",
      "\u001b[36mBatches computed: 40, Tau value: 0.040\u001b[0m\n",
      "\u001b[33mMean Loss: 4.9771099, Mean Center Loss: 4.9771099, Mean Hard Triplet Loss: 3.0093160\u001b[0m\n",
      "\u001b[5m\u001b[34mPercetage of correct triplets: 0.41\u001b[0m\n",
      "Features extracted in 22.85 seconds\n",
      "\u001b[36mBatches computed: 50, Tau value: 0.040\u001b[0m\n",
      "\u001b[33mMean Loss: 4.7442501, Mean Center Loss: 4.7442501, Mean Hard Triplet Loss: 3.1486455\u001b[0m\n",
      "\u001b[5m\u001b[34mPercetage of correct triplets: 0.52\u001b[0m\n",
      "Features extracted in 23.36 seconds\n",
      "\u001b[36mBatches computed: 60, Tau value: 0.040\u001b[0m\n",
      "\u001b[33mMean Loss: 4.6176721, Mean Center Loss: 4.6176721, Mean Hard Triplet Loss: 3.2962964\u001b[0m\n",
      "\u001b[5m\u001b[34mPercetage of correct triplets: 0.41\u001b[0m\n",
      "Features extracted in 23.06 seconds\n",
      "\u001b[36mBatches computed: 70, Tau value: 0.040\u001b[0m\n",
      "\u001b[33mMean Loss: 4.3915982, Mean Center Loss: 4.3915982, Mean Hard Triplet Loss: 3.4749918\u001b[0m\n",
      "\u001b[5m\u001b[34mPercetage of correct triplets: 0.41\u001b[0m\n",
      "não encontrou modelos efficientnet. Treinando...\n",
      "\u001b[32mTraining convnext ...\u001b[0m\n",
      "Features extracted in 23.96 seconds\n",
      "\u001b[36mBatches computed: 10, Tau value: 0.040\u001b[0m\n",
      "\u001b[33mMean Loss: 3.1852703, Mean Center Loss: 3.1852703, Mean Hard Triplet Loss: 1.4353989\u001b[0m\n",
      "\u001b[5m\u001b[34mPercetage of correct triplets: 0.37\u001b[0m\n",
      "Features extracted in 24.08 seconds\n",
      "\u001b[36mBatches computed: 20, Tau value: 0.040\u001b[0m\n",
      "\u001b[33mMean Loss: 2.1823349, Mean Center Loss: 2.1823349, Mean Hard Triplet Loss: 1.6781309\u001b[0m\n",
      "\u001b[5m\u001b[34mPercetage of correct triplets: 0.37\u001b[0m\n",
      "Features extracted in 23.90 seconds\n",
      "\u001b[36mBatches computed: 30, Tau value: 0.040\u001b[0m\n",
      "\u001b[33mMean Loss: 1.5678292, Mean Center Loss: 1.5678292, Mean Hard Triplet Loss: 1.9784730\u001b[0m\n",
      "\u001b[5m\u001b[34mPercetage of correct triplets: 0.40\u001b[0m\n",
      "Features extracted in 23.69 seconds\n",
      "\u001b[36mBatches computed: 40, Tau value: 0.040\u001b[0m\n",
      "\u001b[33mMean Loss: 1.2839921, Mean Center Loss: 1.2839921, Mean Hard Triplet Loss: 1.7116032\u001b[0m\n",
      "\u001b[5m\u001b[34mPercetage of correct triplets: 0.31\u001b[0m\n",
      "Features extracted in 24.35 seconds\n",
      "\u001b[36mBatches computed: 50, Tau value: 0.040\u001b[0m\n",
      "\u001b[33mMean Loss: 1.2547895, Mean Center Loss: 1.2547895, Mean Hard Triplet Loss: 1.7391590\u001b[0m\n",
      "\u001b[5m\u001b[34mPercetage of correct triplets: 0.34\u001b[0m\n",
      "Features extracted in 24.20 seconds\n",
      "\u001b[36mBatches computed: 60, Tau value: 0.040\u001b[0m\n",
      "\u001b[33mMean Loss: 0.9768642, Mean Center Loss: 0.9768642, Mean Hard Triplet Loss: 1.3474105\u001b[0m\n",
      "\u001b[5m\u001b[34mPercetage of correct triplets: 0.35\u001b[0m\n",
      "Features extracted in 24.22 seconds\n",
      "\u001b[36mBatches computed: 70, Tau value: 0.040\u001b[0m\n",
      "\u001b[33mMean Loss: 0.9486411, Mean Center Loss: 0.9486411, Mean Hard Triplet Loss: 1.2863824\u001b[0m\n",
      "\u001b[5m\u001b[34mPercetage of correct triplets: 0.45\u001b[0m\n",
      "não encontrou modelos convnext. Treinando...\n",
      "\u001b[32mTraining mobilenet ...\u001b[0m\n",
      "Features extracted in 22.14 seconds\n",
      "\u001b[36mBatches computed: 10, Tau value: 0.040\u001b[0m\n",
      "\u001b[33mMean Loss: 4.9281561, Mean Center Loss: 4.9281561, Mean Hard Triplet Loss: 1.7982286\u001b[0m\n",
      "\u001b[5m\u001b[34mPercetage of correct triplets: 0.42\u001b[0m\n",
      "Features extracted in 22.02 seconds\n",
      "\u001b[36mBatches computed: 20, Tau value: 0.040\u001b[0m\n",
      "\u001b[33mMean Loss: 4.7585971, Mean Center Loss: 4.7585971, Mean Hard Triplet Loss: 1.7280810\u001b[0m\n",
      "\u001b[5m\u001b[34mPercetage of correct triplets: 0.38\u001b[0m\n",
      "Features extracted in 21.77 seconds\n",
      "\u001b[36mBatches computed: 30, Tau value: 0.040\u001b[0m\n",
      "\u001b[33mMean Loss: 4.6133603, Mean Center Loss: 4.6133603, Mean Hard Triplet Loss: 1.7555944\u001b[0m\n",
      "\u001b[5m\u001b[34mPercetage of correct triplets: 0.41\u001b[0m\n",
      "Features extracted in 21.99 seconds\n",
      "\u001b[36mBatches computed: 40, Tau value: 0.040\u001b[0m\n",
      "\u001b[33mMean Loss: 4.4496651, Mean Center Loss: 4.4496651, Mean Hard Triplet Loss: 1.7394795\u001b[0m\n",
      "\u001b[5m\u001b[34mPercetage of correct triplets: 0.42\u001b[0m\n",
      "Features extracted in 21.55 seconds\n",
      "\u001b[36mBatches computed: 50, Tau value: 0.040\u001b[0m\n",
      "\u001b[33mMean Loss: 4.2862833, Mean Center Loss: 4.2862833, Mean Hard Triplet Loss: 1.8701297\u001b[0m\n",
      "\u001b[5m\u001b[34mPercetage of correct triplets: 0.45\u001b[0m\n",
      "Features extracted in 21.93 seconds\n",
      "\u001b[36mBatches computed: 60, Tau value: 0.040\u001b[0m\n",
      "\u001b[33mMean Loss: 4.1737389, Mean Center Loss: 4.1737389, Mean Hard Triplet Loss: 1.8930475\u001b[0m\n",
      "\u001b[5m\u001b[34mPercetage of correct triplets: 0.41\u001b[0m\n",
      "Features extracted in 21.62 seconds\n",
      "\u001b[36mBatches computed: 70, Tau value: 0.040\u001b[0m\n",
      "\u001b[33mMean Loss: 3.9069562, Mean Center Loss: 3.9069562, Mean Hard Triplet Loss: 2.1524645\u001b[0m\n",
      "\u001b[5m\u001b[34mPercetage of correct triplets: 0.44\u001b[0m\n",
      "não encontrou modelos mobilenet. Treinando...\n",
      "\u001b[32mTraining vgg16 ...\u001b[0m\n",
      "Features extracted in 22.84 seconds\n",
      "\u001b[36mBatches computed: 10, Tau value: 0.040\u001b[0m\n",
      "\u001b[33mMean Loss: 3.0343026, Mean Center Loss: 3.0343026, Mean Hard Triplet Loss: 4.7522858\u001b[0m\n",
      "\u001b[5m\u001b[34mPercetage of correct triplets: 0.39\u001b[0m\n",
      "Features extracted in 22.64 seconds\n",
      "\u001b[36mBatches computed: 20, Tau value: 0.040\u001b[0m\n",
      "\u001b[33mMean Loss: 2.3314039, Mean Center Loss: 2.3314039, Mean Hard Triplet Loss: 3.7425866\u001b[0m\n",
      "\u001b[5m\u001b[34mPercetage of correct triplets: 0.39\u001b[0m\n",
      "Features extracted in 22.54 seconds\n",
      "\u001b[36mBatches computed: 30, Tau value: 0.040\u001b[0m\n",
      "\u001b[33mMean Loss: 2.0603612, Mean Center Loss: 2.0603612, Mean Hard Triplet Loss: 3.1918906\u001b[0m\n",
      "\u001b[5m\u001b[34mPercetage of correct triplets: 0.45\u001b[0m\n",
      "Features extracted in 22.99 seconds\n",
      "\u001b[36mBatches computed: 40, Tau value: 0.040\u001b[0m\n",
      "\u001b[33mMean Loss: 1.7872450, Mean Center Loss: 1.7872450, Mean Hard Triplet Loss: 2.4914581\u001b[0m\n",
      "\u001b[5m\u001b[34mPercetage of correct triplets: 0.46\u001b[0m\n",
      "Features extracted in 23.11 seconds\n",
      "\u001b[36mBatches computed: 50, Tau value: 0.040\u001b[0m\n",
      "\u001b[33mMean Loss: 1.8114127, Mean Center Loss: 1.8114127, Mean Hard Triplet Loss: 2.4459333\u001b[0m\n",
      "\u001b[5m\u001b[34mPercetage of correct triplets: 0.43\u001b[0m\n",
      "Features extracted in 22.97 seconds\n",
      "\u001b[36mBatches computed: 60, Tau value: 0.040\u001b[0m\n",
      "\u001b[33mMean Loss: 1.6517631, Mean Center Loss: 1.6517631, Mean Hard Triplet Loss: 2.3137683\u001b[0m\n",
      "\u001b[5m\u001b[34mPercetage of correct triplets: 0.33\u001b[0m\n",
      "Features extracted in 22.53 seconds\n",
      "\u001b[36mBatches computed: 70, Tau value: 0.040\u001b[0m\n",
      "\u001b[33mMean Loss: 1.5521017, Mean Center Loss: 1.5521017, Mean Hard Triplet Loss: 2.1068846\u001b[0m\n",
      "\u001b[5m\u001b[34mPercetage of correct triplets: 0.36\u001b[0m\n",
      "não encontrou modelos vgg16. Treinando...\n",
      "\u001b[32mTraining resnet50 ...\u001b[0m\n",
      "Features extracted in 22.52 seconds\n",
      "\u001b[36mBatches computed: 10, Tau value: 0.040\u001b[0m\n",
      "\u001b[33mMean Loss: 4.4786019, Mean Center Loss: 4.4786019, Mean Hard Triplet Loss: 4.5054411\u001b[0m\n",
      "\u001b[5m\u001b[34mPercetage of correct triplets: 0.39\u001b[0m\n",
      "Features extracted in 22.40 seconds\n",
      "\u001b[36mBatches computed: 20, Tau value: 0.040\u001b[0m\n",
      "\u001b[33mMean Loss: 4.0892084, Mean Center Loss: 4.0892084, Mean Hard Triplet Loss: 4.5779607\u001b[0m\n",
      "\u001b[5m\u001b[34mPercetage of correct triplets: 0.44\u001b[0m\n",
      "Features extracted in 22.13 seconds\n",
      "\u001b[36mBatches computed: 30, Tau value: 0.040\u001b[0m\n",
      "\u001b[33mMean Loss: 3.3657884, Mean Center Loss: 3.3657884, Mean Hard Triplet Loss: 3.6795443\u001b[0m\n",
      "\u001b[5m\u001b[34mPercetage of correct triplets: 0.42\u001b[0m\n",
      "Features extracted in 22.33 seconds\n",
      "\u001b[36mBatches computed: 40, Tau value: 0.040\u001b[0m\n",
      "\u001b[33mMean Loss: 2.8867779, Mean Center Loss: 2.8867779, Mean Hard Triplet Loss: 3.2633326\u001b[0m\n",
      "\u001b[5m\u001b[34mPercetage of correct triplets: 0.41\u001b[0m\n",
      "Features extracted in 22.71 seconds\n",
      "\u001b[36mBatches computed: 50, Tau value: 0.040\u001b[0m\n",
      "\u001b[33mMean Loss: 2.5560993, Mean Center Loss: 2.5560993, Mean Hard Triplet Loss: 3.1212797\u001b[0m\n",
      "\u001b[5m\u001b[34mPercetage of correct triplets: 0.39\u001b[0m\n",
      "Features extracted in 22.60 seconds\n",
      "\u001b[36mBatches computed: 60, Tau value: 0.040\u001b[0m\n",
      "\u001b[33mMean Loss: 2.3729738, Mean Center Loss: 2.3729738, Mean Hard Triplet Loss: 2.9224156\u001b[0m\n",
      "\u001b[5m\u001b[34mPercetage of correct triplets: 0.41\u001b[0m\n",
      "Features extracted in 22.15 seconds\n",
      "\u001b[36mBatches computed: 70, Tau value: 0.040\u001b[0m\n",
      "\u001b[33mMean Loss: 2.2009800, Mean Center Loss: 2.2009800, Mean Hard Triplet Loss: 2.7381224\u001b[0m\n",
      "\u001b[5m\u001b[34mPercetage of correct triplets: 0.40\u001b[0m\n",
      "não encontrou modelos resnet50. Treinando...\n",
      "\u001b[32mTraining osnet ...\u001b[0m\n",
      "Features extracted in 22.48 seconds\n",
      "\u001b[36mBatches computed: 10, Tau value: 0.040\u001b[0m\n",
      "\u001b[33mMean Loss: 4.7690146, Mean Center Loss: 4.7690146, Mean Hard Triplet Loss: 6.4605886\u001b[0m\n",
      "\u001b[5m\u001b[34mPercetage of correct triplets: 0.46\u001b[0m\n",
      "Features extracted in 22.55 seconds\n",
      "\u001b[36mBatches computed: 20, Tau value: 0.040\u001b[0m\n",
      "\u001b[33mMean Loss: 5.2382969, Mean Center Loss: 5.2382969, Mean Hard Triplet Loss: 6.4498199\u001b[0m\n",
      "\u001b[5m\u001b[34mPercetage of correct triplets: 0.42\u001b[0m\n",
      "Features extracted in 22.72 seconds\n",
      "\u001b[36mBatches computed: 30, Tau value: 0.040\u001b[0m\n",
      "\u001b[33mMean Loss: 4.7627728, Mean Center Loss: 4.7627728, Mean Hard Triplet Loss: 5.9818229\u001b[0m\n",
      "\u001b[5m\u001b[34mPercetage of correct triplets: 0.47\u001b[0m\n",
      "Features extracted in 22.52 seconds\n",
      "\u001b[36mBatches computed: 40, Tau value: 0.040\u001b[0m\n",
      "\u001b[33mMean Loss: 4.6456924, Mean Center Loss: 4.6456924, Mean Hard Triplet Loss: 5.3234545\u001b[0m\n",
      "\u001b[5m\u001b[34mPercetage of correct triplets: 0.47\u001b[0m\n",
      "Features extracted in 22.57 seconds\n",
      "\u001b[36mBatches computed: 50, Tau value: 0.040\u001b[0m\n",
      "\u001b[33mMean Loss: 4.5322775, Mean Center Loss: 4.5322775, Mean Hard Triplet Loss: 5.0204943\u001b[0m\n",
      "\u001b[5m\u001b[34mPercetage of correct triplets: 0.39\u001b[0m\n",
      "Features extracted in 22.14 seconds\n",
      "\u001b[36mBatches computed: 60, Tau value: 0.040\u001b[0m\n",
      "\u001b[33mMean Loss: 4.4614883, Mean Center Loss: 4.4614883, Mean Hard Triplet Loss: 5.2314819\u001b[0m\n",
      "\u001b[5m\u001b[34mPercetage of correct triplets: 0.41\u001b[0m\n",
      "Features extracted in 21.87 seconds\n",
      "\u001b[36mBatches computed: 70, Tau value: 0.040\u001b[0m\n",
      "\u001b[33mMean Loss: 4.3071897, Mean Center Loss: 4.3071897, Mean Hard Triplet Loss: 4.8365747\u001b[0m\n",
      "\u001b[5m\u001b[34mPercetage of correct triplets: 0.42\u001b[0m\n",
      "não encontrou modelos osnet. Treinando...\n",
      "\u001b[32mTraining densenet121 ...\u001b[0m\n",
      "Features extracted in 22.50 seconds\n",
      "\u001b[36mBatches computed: 10, Tau value: 0.040\u001b[0m\n",
      "\u001b[33mMean Loss: 4.5146238, Mean Center Loss: 4.5146238, Mean Hard Triplet Loss: 4.4968353\u001b[0m\n",
      "\u001b[5m\u001b[34mPercetage of correct triplets: 0.48\u001b[0m\n",
      "Features extracted in 22.12 seconds\n",
      "\u001b[36mBatches computed: 20, Tau value: 0.040\u001b[0m\n",
      "\u001b[33mMean Loss: 3.5746202, Mean Center Loss: 3.5746202, Mean Hard Triplet Loss: 4.0162127\u001b[0m\n",
      "\u001b[5m\u001b[34mPercetage of correct triplets: 0.38\u001b[0m\n",
      "Features extracted in 23.07 seconds\n",
      "\u001b[36mBatches computed: 30, Tau value: 0.040\u001b[0m\n",
      "\u001b[33mMean Loss: 3.1848539, Mean Center Loss: 3.1848539, Mean Hard Triplet Loss: 3.4638415\u001b[0m\n",
      "\u001b[5m\u001b[34mPercetage of correct triplets: 0.39\u001b[0m\n",
      "Features extracted in 22.51 seconds\n",
      "\u001b[36mBatches computed: 40, Tau value: 0.040\u001b[0m\n",
      "\u001b[33mMean Loss: 2.9639484, Mean Center Loss: 2.9639484, Mean Hard Triplet Loss: 3.3935223\u001b[0m\n",
      "\u001b[5m\u001b[34mPercetage of correct triplets: 0.32\u001b[0m\n",
      "Features extracted in 22.88 seconds\n",
      "\u001b[36mBatches computed: 50, Tau value: 0.040\u001b[0m\n",
      "\u001b[33mMean Loss: 2.7831982, Mean Center Loss: 2.7831982, Mean Hard Triplet Loss: 3.0773556\u001b[0m\n",
      "\u001b[5m\u001b[34mPercetage of correct triplets: 0.40\u001b[0m\n",
      "Features extracted in 22.28 seconds\n",
      "\u001b[36mBatches computed: 60, Tau value: 0.040\u001b[0m\n",
      "\u001b[33mMean Loss: 2.4525826, Mean Center Loss: 2.4525826, Mean Hard Triplet Loss: 2.8923684\u001b[0m\n",
      "\u001b[5m\u001b[34mPercetage of correct triplets: 0.42\u001b[0m\n",
      "Features extracted in 22.66 seconds\n",
      "\u001b[36mBatches computed: 70, Tau value: 0.040\u001b[0m\n",
      "\u001b[33mMean Loss: 2.3731331, Mean Center Loss: 2.3731331, Mean Hard Triplet Loss: 2.7894103\u001b[0m\n",
      "\u001b[5m\u001b[34mPercetage of correct triplets: 0.37\u001b[0m\n",
      "não encontrou modelos densenet121. Treinando...\n",
      "###============ Iteration number 2/90 ============###\n",
      "Extracting Online Features for efficientnet ...\n",
      "Features extracted in 188.71 seconds\n",
      "Computing jaccard distance...\n"
     ]
    },
    {
     "name": "stderr",
     "output_type": "stream",
     "text": [
      "bruteForceKnn is deprecated; call bfKnn instead\n"
     ]
    },
    {
     "name": "stdout",
     "output_type": "stream",
     "text": [
      "Jaccard distance computing time cost: 78.04088187217712\n",
      "Extracting Online Features for convnext ...\n",
      "Features extracted in 188.03 seconds\n",
      "Computing jaccard distance...\n"
     ]
    },
    {
     "name": "stderr",
     "output_type": "stream",
     "text": [
      "bruteForceKnn is deprecated; call bfKnn instead\n"
     ]
    },
    {
     "name": "stdout",
     "output_type": "stream",
     "text": [
      "Jaccard distance computing time cost: 71.53531908988953\n",
      "Extracting Online Features for mobilenet ...\n",
      "Features extracted in 185.03 seconds\n",
      "Computing jaccard distance...\n"
     ]
    },
    {
     "name": "stderr",
     "output_type": "stream",
     "text": [
      "bruteForceKnn is deprecated; call bfKnn instead\n"
     ]
    },
    {
     "name": "stdout",
     "output_type": "stream",
     "text": [
      "Jaccard distance computing time cost: 71.45086812973022\n",
      "Extracting Online Features for vgg16 ...\n",
      "Features extracted in 188.75 seconds\n",
      "Computing jaccard distance...\n"
     ]
    },
    {
     "name": "stderr",
     "output_type": "stream",
     "text": [
      "bruteForceKnn is deprecated; call bfKnn instead\n"
     ]
    },
    {
     "name": "stdout",
     "output_type": "stream",
     "text": [
      "Jaccard distance computing time cost: 77.85177087783813\n",
      "Extracting Online Features for resnet50 ...\n",
      "Features extracted in 187.62 seconds\n",
      "Computing jaccard distance...\n"
     ]
    },
    {
     "name": "stderr",
     "output_type": "stream",
     "text": [
      "bruteForceKnn is deprecated; call bfKnn instead\n"
     ]
    },
    {
     "name": "stdout",
     "output_type": "stream",
     "text": [
      "Jaccard distance computing time cost: 69.53160667419434\n",
      "Extracting Online Features for osnet ...\n",
      "Features extracted in 186.80 seconds\n",
      "Computing jaccard distance...\n"
     ]
    },
    {
     "name": "stderr",
     "output_type": "stream",
     "text": [
      "bruteForceKnn is deprecated; call bfKnn instead\n"
     ]
    },
    {
     "name": "stdout",
     "output_type": "stream",
     "text": [
      "Jaccard distance computing time cost: 86.26527810096741\n",
      "Extracting Online Features for densenet121 ...\n",
      "Features extracted in 186.51 seconds\n",
      "Computing jaccard distance...\n"
     ]
    },
    {
     "name": "stderr",
     "output_type": "stream",
     "text": [
      "bruteForceKnn is deprecated; call bfKnn instead\n"
     ]
    },
    {
     "name": "stdout",
     "output_type": "stream",
     "text": [
      "Jaccard distance computing time cost: 72.85662198066711\n",
      "Reliability: 0.044\n",
      "\u001b[32mMean Purity: 0.02052\u001b[0m\n",
      "\u001b[34mThere are 20 clusters with 4 cameras\u001b[0m\n",
      "\u001b[34mThere are 21 clusters with 5 cameras\u001b[0m\n",
      "\u001b[34mThere are 11 clusters with 6 cameras\u001b[0m\n",
      "\u001b[34mThere are 8 clusters with 7 cameras\u001b[0m\n",
      "\u001b[34mThere are 2 clusters with 8 cameras\u001b[0m\n",
      "\u001b[34mThere are 4 clusters with 9 cameras\u001b[0m\n",
      "\u001b[34mThere are 4 clusters with 10 cameras\u001b[0m\n",
      "\u001b[34mThere are 4 clusters with 11 cameras\u001b[0m\n",
      "\u001b[34mThere are 3 clusters with 12 cameras\u001b[0m\n",
      "\u001b[34mThere are 5 clusters with 13 cameras\u001b[0m\n",
      "\u001b[34mThere are 2 clusters with 16 cameras\u001b[0m\n",
      "\u001b[34mThere are 2 clusters with 17 cameras\u001b[0m\n",
      "\u001b[34mThere are 2 clusters with 18 cameras\u001b[0m\n",
      "\u001b[34mThere are 1 clusters with 19 cameras\u001b[0m\n",
      "\u001b[34mThere are 4 clusters with 20 cameras\u001b[0m\n",
      "\u001b[34mThere are 3 clusters with 22 cameras\u001b[0m\n",
      "\u001b[34mThere are 1 clusters with 23 cameras\u001b[0m\n",
      "\u001b[34mThere are 1 clusters with 24 cameras\u001b[0m\n",
      "\u001b[34mThere are 1 clusters with 25 cameras\u001b[0m\n",
      "\u001b[34mThere are 1 clusters with 26 cameras\u001b[0m\n",
      "\u001b[34mThere are 3 clusters with 28 cameras\u001b[0m\n",
      "\u001b[34mThere are 1 clusters with 35 cameras\u001b[0m\n",
      "\u001b[34mThere are 1 clusters with 37 cameras\u001b[0m\n",
      "\u001b[34mThere are 1 clusters with 40 cameras\u001b[0m\n",
      "\u001b[34mThere are 1 clusters with 42 cameras\u001b[0m\n",
      "\u001b[34mThere are 1 clusters with 45 cameras\u001b[0m\n",
      "\u001b[34mThere are 1 clusters with 46 cameras\u001b[0m\n",
      "\u001b[34mThere are 1 clusters with 49 cameras\u001b[0m\n",
      "\u001b[34mThere are 1 clusters with 50 cameras\u001b[0m\n",
      "\u001b[34mThere are 1 clusters with 63 cameras\u001b[0m\n",
      "\u001b[34mThere are 2 clusters with 68 cameras\u001b[0m\n",
      "\u001b[34mThere are 1 clusters with 168 cameras\u001b[0m\n",
      "Number of classes: 115\n",
      "\u001b[36mLearning Rate: 0.000035\u001b[0m\n",
      "encontrou modelos efficientnet. Carregando...\n",
      "encontrou modelos convnext. Carregando...\n",
      "encontrou modelos mobilenet. Carregando...\n",
      "encontrou modelos vgg16. Carregando...\n",
      "encontrou modelos resnet50. Carregando...\n",
      "encontrou modelos osnet. Carregando...\n",
      "encontrou modelos densenet121. Carregando...\n",
      "###============ Iteration number 3/90 ============###\n",
      "Extracting Online Features for efficientnet ...\n",
      "Features extracted in 186.02 seconds\n",
      "Computing jaccard distance...\n"
     ]
    },
    {
     "name": "stderr",
     "output_type": "stream",
     "text": [
      "bruteForceKnn is deprecated; call bfKnn instead\n"
     ]
    },
    {
     "name": "stdout",
     "output_type": "stream",
     "text": [
      "Jaccard distance computing time cost: 78.45142316818237\n",
      "Extracting Online Features for convnext ...\n",
      "Features extracted in 188.36 seconds\n",
      "Computing jaccard distance...\n"
     ]
    },
    {
     "name": "stderr",
     "output_type": "stream",
     "text": [
      "bruteForceKnn is deprecated; call bfKnn instead\n"
     ]
    },
    {
     "name": "stdout",
     "output_type": "stream",
     "text": [
      "Jaccard distance computing time cost: 71.6168532371521\n",
      "Extracting Online Features for mobilenet ...\n",
      "Features extracted in 183.02 seconds\n",
      "Computing jaccard distance...\n"
     ]
    },
    {
     "name": "stderr",
     "output_type": "stream",
     "text": [
      "bruteForceKnn is deprecated; call bfKnn instead\n"
     ]
    },
    {
     "name": "stdout",
     "output_type": "stream",
     "text": [
      "Jaccard distance computing time cost: 70.9845540523529\n",
      "Extracting Online Features for vgg16 ...\n",
      "Features extracted in 185.79 seconds\n",
      "Computing jaccard distance...\n"
     ]
    },
    {
     "name": "stderr",
     "output_type": "stream",
     "text": [
      "bruteForceKnn is deprecated; call bfKnn instead\n"
     ]
    },
    {
     "name": "stdout",
     "output_type": "stream",
     "text": [
      "Jaccard distance computing time cost: 72.54555130004883\n",
      "Extracting Online Features for resnet50 ...\n",
      "Features extracted in 188.82 seconds\n",
      "Computing jaccard distance...\n"
     ]
    },
    {
     "name": "stderr",
     "output_type": "stream",
     "text": [
      "bruteForceKnn is deprecated; call bfKnn instead\n"
     ]
    },
    {
     "name": "stdout",
     "output_type": "stream",
     "text": [
      "Jaccard distance computing time cost: 69.507080078125\n",
      "Extracting Online Features for osnet ...\n",
      "Features extracted in 185.93 seconds\n",
      "Computing jaccard distance...\n"
     ]
    },
    {
     "name": "stderr",
     "output_type": "stream",
     "text": [
      "bruteForceKnn is deprecated; call bfKnn instead\n"
     ]
    },
    {
     "name": "stdout",
     "output_type": "stream",
     "text": [
      "Jaccard distance computing time cost: 80.83693861961365\n",
      "Extracting Online Features for densenet121 ...\n",
      "Features extracted in 187.28 seconds\n",
      "Computing jaccard distance...\n"
     ]
    },
    {
     "name": "stderr",
     "output_type": "stream",
     "text": [
      "bruteForceKnn is deprecated; call bfKnn instead\n"
     ]
    },
    {
     "name": "stdout",
     "output_type": "stream",
     "text": [
      "Jaccard distance computing time cost: 72.99256300926208\n",
      "Reliability: 0.044\n",
      "\u001b[32mMean Purity: 0.02052\u001b[0m\n",
      "\u001b[34mThere are 20 clusters with 4 cameras\u001b[0m\n",
      "\u001b[34mThere are 21 clusters with 5 cameras\u001b[0m\n",
      "\u001b[34mThere are 11 clusters with 6 cameras\u001b[0m\n",
      "\u001b[34mThere are 8 clusters with 7 cameras\u001b[0m\n",
      "\u001b[34mThere are 2 clusters with 8 cameras\u001b[0m\n",
      "\u001b[34mThere are 4 clusters with 9 cameras\u001b[0m\n",
      "\u001b[34mThere are 4 clusters with 10 cameras\u001b[0m\n",
      "\u001b[34mThere are 4 clusters with 11 cameras\u001b[0m\n",
      "\u001b[34mThere are 3 clusters with 12 cameras\u001b[0m\n",
      "\u001b[34mThere are 5 clusters with 13 cameras\u001b[0m\n",
      "\u001b[34mThere are 2 clusters with 16 cameras\u001b[0m\n",
      "\u001b[34mThere are 2 clusters with 17 cameras\u001b[0m\n",
      "\u001b[34mThere are 2 clusters with 18 cameras\u001b[0m\n",
      "\u001b[34mThere are 1 clusters with 19 cameras\u001b[0m\n",
      "\u001b[34mThere are 4 clusters with 20 cameras\u001b[0m\n",
      "\u001b[34mThere are 3 clusters with 22 cameras\u001b[0m\n",
      "\u001b[34mThere are 1 clusters with 23 cameras\u001b[0m\n",
      "\u001b[34mThere are 1 clusters with 24 cameras\u001b[0m\n",
      "\u001b[34mThere are 1 clusters with 25 cameras\u001b[0m\n",
      "\u001b[34mThere are 1 clusters with 26 cameras\u001b[0m\n",
      "\u001b[34mThere are 3 clusters with 28 cameras\u001b[0m\n",
      "\u001b[34mThere are 1 clusters with 35 cameras\u001b[0m\n",
      "\u001b[34mThere are 1 clusters with 37 cameras\u001b[0m\n",
      "\u001b[34mThere are 1 clusters with 40 cameras\u001b[0m\n",
      "\u001b[34mThere are 1 clusters with 42 cameras\u001b[0m\n",
      "\u001b[34mThere are 1 clusters with 45 cameras\u001b[0m\n",
      "\u001b[34mThere are 1 clusters with 46 cameras\u001b[0m\n",
      "\u001b[34mThere are 1 clusters with 49 cameras\u001b[0m\n",
      "\u001b[34mThere are 1 clusters with 50 cameras\u001b[0m\n",
      "\u001b[34mThere are 1 clusters with 63 cameras\u001b[0m\n",
      "\u001b[34mThere are 2 clusters with 68 cameras\u001b[0m\n",
      "\u001b[34mThere are 1 clusters with 168 cameras\u001b[0m\n",
      "Number of classes: 115\n",
      "\u001b[36mLearning Rate: 0.000053\u001b[0m\n",
      "encontrou modelos efficientnet. Carregando...\n",
      "encontrou modelos convnext. Carregando...\n",
      "encontrou modelos mobilenet. Carregando...\n",
      "encontrou modelos vgg16. Carregando...\n",
      "encontrou modelos resnet50. Carregando...\n",
      "encontrou modelos osnet. Carregando...\n",
      "encontrou modelos densenet121. Carregando...\n",
      "###============ Iteration number 4/90 ============###\n",
      "Extracting Online Features for efficientnet ...\n",
      "Features extracted in 189.92 seconds\n",
      "Computing jaccard distance...\n"
     ]
    },
    {
     "name": "stderr",
     "output_type": "stream",
     "text": [
      "bruteForceKnn is deprecated; call bfKnn instead\n"
     ]
    },
    {
     "name": "stdout",
     "output_type": "stream",
     "text": [
      "Jaccard distance computing time cost: 79.4443051815033\n",
      "Extracting Online Features for convnext ...\n",
      "Features extracted in 188.33 seconds\n",
      "Computing jaccard distance...\n"
     ]
    },
    {
     "name": "stderr",
     "output_type": "stream",
     "text": [
      "bruteForceKnn is deprecated; call bfKnn instead\n"
     ]
    },
    {
     "name": "stdout",
     "output_type": "stream",
     "text": [
      "Jaccard distance computing time cost: 71.2134461402893\n",
      "Extracting Online Features for mobilenet ...\n",
      "Features extracted in 185.32 seconds\n",
      "Computing jaccard distance...\n"
     ]
    },
    {
     "name": "stderr",
     "output_type": "stream",
     "text": [
      "bruteForceKnn is deprecated; call bfKnn instead\n"
     ]
    },
    {
     "name": "stdout",
     "output_type": "stream",
     "text": [
      "Jaccard distance computing time cost: 69.30718350410461\n",
      "Extracting Online Features for vgg16 ...\n",
      "Features extracted in 185.69 seconds\n",
      "Computing jaccard distance...\n"
     ]
    },
    {
     "name": "stderr",
     "output_type": "stream",
     "text": [
      "bruteForceKnn is deprecated; call bfKnn instead\n"
     ]
    },
    {
     "name": "stdout",
     "output_type": "stream",
     "text": [
      "Jaccard distance computing time cost: 81.19815349578857\n",
      "Extracting Online Features for resnet50 ...\n",
      "Features extracted in 186.71 seconds\n",
      "Computing jaccard distance...\n"
     ]
    },
    {
     "name": "stderr",
     "output_type": "stream",
     "text": [
      "bruteForceKnn is deprecated; call bfKnn instead\n"
     ]
    },
    {
     "name": "stdout",
     "output_type": "stream",
     "text": [
      "Jaccard distance computing time cost: 70.4543685913086\n",
      "Extracting Online Features for osnet ...\n",
      "Features extracted in 185.67 seconds\n",
      "Computing jaccard distance...\n"
     ]
    },
    {
     "name": "stderr",
     "output_type": "stream",
     "text": [
      "bruteForceKnn is deprecated; call bfKnn instead\n"
     ]
    },
    {
     "name": "stdout",
     "output_type": "stream",
     "text": [
      "Jaccard distance computing time cost: 71.47992300987244\n",
      "Extracting Online Features for densenet121 ...\n",
      "Features extracted in 186.15 seconds\n",
      "Computing jaccard distance...\n"
     ]
    },
    {
     "name": "stderr",
     "output_type": "stream",
     "text": [
      "bruteForceKnn is deprecated; call bfKnn instead\n"
     ]
    },
    {
     "name": "stdout",
     "output_type": "stream",
     "text": [
      "Jaccard distance computing time cost: 72.4230260848999\n",
      "Reliability: 0.044\n",
      "\u001b[32mMean Purity: 0.02052\u001b[0m\n",
      "\u001b[34mThere are 20 clusters with 4 cameras\u001b[0m\n",
      "\u001b[34mThere are 21 clusters with 5 cameras\u001b[0m\n",
      "\u001b[34mThere are 11 clusters with 6 cameras\u001b[0m\n",
      "\u001b[34mThere are 8 clusters with 7 cameras\u001b[0m\n",
      "\u001b[34mThere are 2 clusters with 8 cameras\u001b[0m\n",
      "\u001b[34mThere are 4 clusters with 9 cameras\u001b[0m\n",
      "\u001b[34mThere are 4 clusters with 10 cameras\u001b[0m\n",
      "\u001b[34mThere are 4 clusters with 11 cameras\u001b[0m\n",
      "\u001b[34mThere are 3 clusters with 12 cameras\u001b[0m\n",
      "\u001b[34mThere are 5 clusters with 13 cameras\u001b[0m\n",
      "\u001b[34mThere are 2 clusters with 16 cameras\u001b[0m\n",
      "\u001b[34mThere are 2 clusters with 17 cameras\u001b[0m\n",
      "\u001b[34mThere are 2 clusters with 18 cameras\u001b[0m\n",
      "\u001b[34mThere are 1 clusters with 19 cameras\u001b[0m\n",
      "\u001b[34mThere are 4 clusters with 20 cameras\u001b[0m\n",
      "\u001b[34mThere are 3 clusters with 22 cameras\u001b[0m\n",
      "\u001b[34mThere are 1 clusters with 23 cameras\u001b[0m\n",
      "\u001b[34mThere are 1 clusters with 24 cameras\u001b[0m\n",
      "\u001b[34mThere are 1 clusters with 25 cameras\u001b[0m\n",
      "\u001b[34mThere are 1 clusters with 26 cameras\u001b[0m\n",
      "\u001b[34mThere are 3 clusters with 28 cameras\u001b[0m\n",
      "\u001b[34mThere are 1 clusters with 35 cameras\u001b[0m\n",
      "\u001b[34mThere are 1 clusters with 37 cameras\u001b[0m\n",
      "\u001b[34mThere are 1 clusters with 40 cameras\u001b[0m\n",
      "\u001b[34mThere are 1 clusters with 42 cameras\u001b[0m\n",
      "\u001b[34mThere are 1 clusters with 45 cameras\u001b[0m\n",
      "\u001b[34mThere are 1 clusters with 46 cameras\u001b[0m\n",
      "\u001b[34mThere are 1 clusters with 49 cameras\u001b[0m\n",
      "\u001b[34mThere are 1 clusters with 50 cameras\u001b[0m\n",
      "\u001b[34mThere are 1 clusters with 63 cameras\u001b[0m\n",
      "\u001b[34mThere are 2 clusters with 68 cameras\u001b[0m\n",
      "\u001b[34mThere are 1 clusters with 168 cameras\u001b[0m\n",
      "Number of classes: 115\n",
      "\u001b[36mLearning Rate: 0.000070\u001b[0m\n",
      "encontrou modelos efficientnet. Carregando...\n",
      "encontrou modelos convnext. Carregando...\n",
      "encontrou modelos mobilenet. Carregando...\n",
      "encontrou modelos vgg16. Carregando...\n",
      "encontrou modelos resnet50. Carregando...\n",
      "encontrou modelos osnet. Carregando...\n",
      "encontrou modelos densenet121. Carregando...\n",
      "###============ Iteration number 5/90 ============###\n",
      "Extracting Online Features for efficientnet ...\n",
      "Features extracted in 188.48 seconds\n",
      "Computing jaccard distance...\n"
     ]
    },
    {
     "name": "stderr",
     "output_type": "stream",
     "text": [
      "bruteForceKnn is deprecated; call bfKnn instead\n"
     ]
    },
    {
     "name": "stdout",
     "output_type": "stream",
     "text": [
      "Jaccard distance computing time cost: 78.55481195449829\n",
      "Extracting Online Features for convnext ...\n",
      "Features extracted in 185.07 seconds\n",
      "Computing jaccard distance...\n"
     ]
    },
    {
     "name": "stderr",
     "output_type": "stream",
     "text": [
      "bruteForceKnn is deprecated; call bfKnn instead\n"
     ]
    },
    {
     "name": "stdout",
     "output_type": "stream",
     "text": [
      "Jaccard distance computing time cost: 72.02625799179077\n",
      "Extracting Online Features for mobilenet ...\n",
      "Features extracted in 184.40 seconds\n",
      "Computing jaccard distance...\n"
     ]
    },
    {
     "name": "stderr",
     "output_type": "stream",
     "text": [
      "bruteForceKnn is deprecated; call bfKnn instead\n"
     ]
    },
    {
     "name": "stdout",
     "output_type": "stream",
     "text": [
      "Jaccard distance computing time cost: 71.86579513549805\n",
      "Extracting Online Features for vgg16 ...\n",
      "Features extracted in 187.20 seconds\n",
      "Computing jaccard distance...\n"
     ]
    },
    {
     "name": "stderr",
     "output_type": "stream",
     "text": [
      "bruteForceKnn is deprecated; call bfKnn instead\n"
     ]
    },
    {
     "name": "stdout",
     "output_type": "stream",
     "text": [
      "Jaccard distance computing time cost: 73.20083808898926\n",
      "Extracting Online Features for resnet50 ...\n",
      "Features extracted in 186.88 seconds\n",
      "Computing jaccard distance...\n"
     ]
    },
    {
     "name": "stderr",
     "output_type": "stream",
     "text": [
      "bruteForceKnn is deprecated; call bfKnn instead\n"
     ]
    },
    {
     "name": "stdout",
     "output_type": "stream",
     "text": [
      "Jaccard distance computing time cost: 69.89924502372742\n",
      "Extracting Online Features for osnet ...\n",
      "Features extracted in 185.23 seconds\n",
      "Computing jaccard distance...\n"
     ]
    },
    {
     "name": "stderr",
     "output_type": "stream",
     "text": [
      "bruteForceKnn is deprecated; call bfKnn instead\n"
     ]
    },
    {
     "name": "stdout",
     "output_type": "stream",
     "text": [
      "Jaccard distance computing time cost: 71.28154253959656\n",
      "Extracting Online Features for densenet121 ...\n",
      "Features extracted in 186.68 seconds\n",
      "Computing jaccard distance...\n"
     ]
    },
    {
     "name": "stderr",
     "output_type": "stream",
     "text": [
      "bruteForceKnn is deprecated; call bfKnn instead\n"
     ]
    },
    {
     "name": "stdout",
     "output_type": "stream",
     "text": [
      "Jaccard distance computing time cost: 72.63381743431091\n",
      "Reliability: 0.044\n",
      "\u001b[32mMean Purity: 0.02052\u001b[0m\n",
      "\u001b[34mThere are 20 clusters with 4 cameras\u001b[0m\n",
      "\u001b[34mThere are 21 clusters with 5 cameras\u001b[0m\n",
      "\u001b[34mThere are 11 clusters with 6 cameras\u001b[0m\n",
      "\u001b[34mThere are 8 clusters with 7 cameras\u001b[0m\n",
      "\u001b[34mThere are 2 clusters with 8 cameras\u001b[0m\n",
      "\u001b[34mThere are 4 clusters with 9 cameras\u001b[0m\n",
      "\u001b[34mThere are 4 clusters with 10 cameras\u001b[0m\n",
      "\u001b[34mThere are 4 clusters with 11 cameras\u001b[0m\n",
      "\u001b[34mThere are 3 clusters with 12 cameras\u001b[0m\n",
      "\u001b[34mThere are 5 clusters with 13 cameras\u001b[0m\n",
      "\u001b[34mThere are 2 clusters with 16 cameras\u001b[0m\n",
      "\u001b[34mThere are 2 clusters with 17 cameras\u001b[0m\n",
      "\u001b[34mThere are 2 clusters with 18 cameras\u001b[0m\n",
      "\u001b[34mThere are 1 clusters with 19 cameras\u001b[0m\n",
      "\u001b[34mThere are 4 clusters with 20 cameras\u001b[0m\n",
      "\u001b[34mThere are 3 clusters with 22 cameras\u001b[0m\n",
      "\u001b[34mThere are 1 clusters with 23 cameras\u001b[0m\n",
      "\u001b[34mThere are 1 clusters with 24 cameras\u001b[0m\n",
      "\u001b[34mThere are 1 clusters with 25 cameras\u001b[0m\n",
      "\u001b[34mThere are 1 clusters with 26 cameras\u001b[0m\n",
      "\u001b[34mThere are 3 clusters with 28 cameras\u001b[0m\n",
      "\u001b[34mThere are 1 clusters with 35 cameras\u001b[0m\n",
      "\u001b[34mThere are 1 clusters with 37 cameras\u001b[0m\n",
      "\u001b[34mThere are 1 clusters with 40 cameras\u001b[0m\n",
      "\u001b[34mThere are 1 clusters with 42 cameras\u001b[0m\n",
      "\u001b[34mThere are 1 clusters with 45 cameras\u001b[0m\n",
      "\u001b[34mThere are 1 clusters with 46 cameras\u001b[0m\n",
      "\u001b[34mThere are 1 clusters with 49 cameras\u001b[0m\n",
      "\u001b[34mThere are 1 clusters with 50 cameras\u001b[0m\n",
      "\u001b[34mThere are 1 clusters with 63 cameras\u001b[0m\n",
      "\u001b[34mThere are 2 clusters with 68 cameras\u001b[0m\n",
      "\u001b[34mThere are 1 clusters with 168 cameras\u001b[0m\n",
      "Number of classes: 115\n",
      "\u001b[36mLearning Rate: 0.000088\u001b[0m\n",
      "encontrou modelos efficientnet. Carregando...\n",
      "encontrou modelos convnext. Carregando...\n",
      "encontrou modelos mobilenet. Carregando...\n",
      "encontrou modelos vgg16. Carregando...\n",
      "encontrou modelos resnet50. Carregando...\n",
      "encontrou modelos osnet. Carregando...\n",
      "encontrou modelos densenet121. Carregando...\n",
      "\u001b[33mValidating online efficientnet ...\u001b[0m\n",
      "Features extracted in 59.05 seconds\n",
      "Features extracted in 115.39 seconds\n",
      "Computing CMC and mAP ...\n",
      "** Results **\n",
      "mAP: 66.96%\n",
      "CMC curve\n",
      "Rank-1  : 49.76%\n",
      "Rank-5  : 88.29%\n",
      "Rank-10 : 96.33%\n",
      "Rank-20 : 99.32%\n",
      "\u001b[33mValidating momentum efficientnet ...\u001b[0m\n",
      "Features extracted in 58.23 seconds\n",
      "Features extracted in 116.23 seconds\n",
      "Computing CMC and mAP ...\n",
      "** Results **\n",
      "mAP: 66.33%\n",
      "CMC curve\n",
      "Rank-1  : 47.72%\n",
      "Rank-5  : 83.15%\n",
      "Rank-10 : 91.82%\n",
      "Rank-20 : 96.73%\n",
      "\u001b[33mValidating online convnext ...\u001b[0m\n",
      "Features extracted in 58.80 seconds\n",
      "Features extracted in 119.04 seconds\n",
      "Computing CMC and mAP ...\n",
      "** Results **\n",
      "mAP: 65.77%\n",
      "CMC curve\n",
      "Rank-1  : 46.59%\n",
      "Rank-5  : 75.46%\n",
      "Rank-10 : 86.74%\n",
      "Rank-20 : 94.66%\n",
      "\u001b[33mValidating momentum convnext ...\u001b[0m\n",
      "Features extracted in 60.53 seconds\n",
      "Features extracted in 120.52 seconds\n",
      "Computing CMC and mAP ...\n",
      "** Results **\n",
      "mAP: 64.96%\n",
      "CMC curve\n",
      "Rank-1  : 45.63%\n",
      "Rank-5  : 75.04%\n",
      "Rank-10 : 87.30%\n",
      "Rank-20 : 95.01%\n",
      "\u001b[33mValidating online mobilenet ...\u001b[0m\n",
      "Features extracted in 57.59 seconds\n",
      "Features extracted in 113.12 seconds\n",
      "Computing CMC and mAP ...\n",
      "** Results **\n",
      "mAP: 66.23%\n",
      "CMC curve\n",
      "Rank-1  : 51.24%\n",
      "Rank-5  : 86.31%\n",
      "Rank-10 : 94.85%\n",
      "Rank-20 : 99.15%\n",
      "\u001b[33mValidating momentum mobilenet ...\u001b[0m\n",
      "Features extracted in 58.41 seconds\n",
      "Features extracted in 116.30 seconds\n",
      "Computing CMC and mAP ...\n",
      "** Results **\n",
      "mAP: 66.41%\n",
      "CMC curve\n",
      "Rank-1  : 52.73%\n",
      "Rank-5  : 85.40%\n",
      "Rank-10 : 93.79%\n",
      "Rank-20 : 98.57%\n",
      "\u001b[33mValidating online vgg16 ...\u001b[0m\n",
      "Features extracted in 59.12 seconds\n",
      "Features extracted in 115.59 seconds\n",
      "Computing CMC and mAP ...\n",
      "** Results **\n",
      "mAP: 65.47%\n",
      "CMC curve\n",
      "Rank-1  : 43.56%\n",
      "Rank-5  : 75.41%\n",
      "Rank-10 : 85.98%\n",
      "Rank-20 : 92.95%\n",
      "\u001b[33mValidating momentum vgg16 ...\u001b[0m\n",
      "Features extracted in 59.34 seconds\n",
      "Features extracted in 115.69 seconds\n",
      "Computing CMC and mAP ...\n",
      "** Results **\n",
      "mAP: 65.67%\n",
      "CMC curve\n",
      "Rank-1  : 45.75%\n",
      "Rank-5  : 82.00%\n",
      "Rank-10 : 90.62%\n",
      "Rank-20 : 96.36%\n",
      "\u001b[33mValidating online resnet50 ...\u001b[0m\n",
      "Features extracted in 59.10 seconds\n",
      "Features extracted in 115.24 seconds\n",
      "Computing CMC and mAP ...\n",
      "** Results **\n",
      "mAP: 65.64%\n",
      "CMC curve\n",
      "Rank-1  : 44.24%\n",
      "Rank-5  : 67.84%\n",
      "Rank-10 : 75.44%\n",
      "Rank-20 : 82.42%\n",
      "\u001b[33mValidating momentum resnet50 ...\u001b[0m\n",
      "Features extracted in 60.19 seconds\n",
      "Features extracted in 114.76 seconds\n",
      "Computing CMC and mAP ...\n",
      "** Results **\n",
      "mAP: 64.94%\n",
      "CMC curve\n",
      "Rank-1  : 43.33%\n",
      "Rank-5  : 71.52%\n",
      "Rank-10 : 80.95%\n",
      "Rank-20 : 90.36%\n",
      "\u001b[33mValidating online osnet ...\u001b[0m\n",
      "Features extracted in 59.74 seconds\n",
      "Features extracted in 115.60 seconds\n",
      "Computing CMC and mAP ...\n",
      "** Results **\n",
      "mAP: 66.87%\n",
      "CMC curve\n",
      "Rank-1  : 48.11%\n",
      "Rank-5  : 84.70%\n",
      "Rank-10 : 95.19%\n",
      "Rank-20 : 99.23%\n",
      "\u001b[33mValidating momentum osnet ...\u001b[0m\n",
      "Features extracted in 60.89 seconds\n",
      "Features extracted in 118.90 seconds\n",
      "Computing CMC and mAP ...\n",
      "** Results **\n",
      "mAP: 67.06%\n",
      "CMC curve\n",
      "Rank-1  : 51.39%\n",
      "Rank-5  : 86.67%\n",
      "Rank-10 : 94.96%\n",
      "Rank-20 : 98.71%\n",
      "\u001b[33mValidating online densenet121 ...\u001b[0m\n",
      "Features extracted in 59.66 seconds\n",
      "Features extracted in 116.41 seconds\n",
      "Computing CMC and mAP ...\n",
      "** Results **\n",
      "mAP: 65.34%\n",
      "CMC curve\n",
      "Rank-1  : 45.42%\n",
      "Rank-5  : 74.47%\n",
      "Rank-10 : 84.90%\n",
      "Rank-20 : 93.93%\n",
      "\u001b[33mValidating momentum densenet121 ...\u001b[0m\n",
      "Features extracted in 60.33 seconds\n",
      "Features extracted in 117.87 seconds\n",
      "Computing CMC and mAP ...\n",
      "** Results **\n",
      "mAP: 65.71%\n",
      "CMC curve\n",
      "Rank-1  : 46.36%\n",
      "Rank-5  : 79.22%\n",
      "Rank-10 : 88.80%\n",
      "Rank-20 : 95.19%\n",
      "\u001b[33mValidating ensembled with online models ...\u001b[0m\n",
      "Computing CMC and mAP ...\n",
      "** Results **\n",
      "mAP: 65.61%\n",
      "Ranks:\n",
      "Rank-1  : 45.50%\n",
      "Rank-5  : 70.24%\n",
      "Rank-10 : 79.04%\n",
      "\u001b[33mValidating ensembled with momentum models ...\u001b[0m\n",
      "Computing CMC and mAP ...\n",
      "** Results **\n",
      "mAP: 65.36%\n",
      "Ranks:\n",
      "Rank-1  : 43.96%\n",
      "Rank-5  : 75.79%\n",
      "Rank-10 : 85.67%\n",
      "###============ Iteration number 6/90 ============###\n",
      "Extracting Online Features for efficientnet ...\n",
      "Features extracted in 207.32 seconds\n",
      "Computing jaccard distance...\n"
     ]
    },
    {
     "name": "stderr",
     "output_type": "stream",
     "text": [
      "bruteForceKnn is deprecated; call bfKnn instead\n"
     ]
    },
    {
     "name": "stdout",
     "output_type": "stream",
     "text": [
      "Jaccard distance computing time cost: 77.53619074821472\n",
      "Extracting Online Features for convnext ...\n",
      "Features extracted in 193.14 seconds\n",
      "Computing jaccard distance...\n"
     ]
    },
    {
     "name": "stderr",
     "output_type": "stream",
     "text": [
      "bruteForceKnn is deprecated; call bfKnn instead\n"
     ]
    },
    {
     "name": "stdout",
     "output_type": "stream",
     "text": [
      "Jaccard distance computing time cost: 70.93739533424377\n",
      "Extracting Online Features for mobilenet ...\n",
      "Features extracted in 185.44 seconds\n",
      "Computing jaccard distance...\n"
     ]
    },
    {
     "name": "stderr",
     "output_type": "stream",
     "text": [
      "bruteForceKnn is deprecated; call bfKnn instead\n"
     ]
    },
    {
     "name": "stdout",
     "output_type": "stream",
     "text": [
      "Jaccard distance computing time cost: 70.51834559440613\n",
      "Extracting Online Features for vgg16 ...\n",
      "Features extracted in 188.44 seconds\n",
      "Computing jaccard distance...\n"
     ]
    },
    {
     "name": "stderr",
     "output_type": "stream",
     "text": [
      "bruteForceKnn is deprecated; call bfKnn instead\n"
     ]
    },
    {
     "name": "stdout",
     "output_type": "stream",
     "text": [
      "Jaccard distance computing time cost: 71.66699624061584\n",
      "Extracting Online Features for resnet50 ...\n",
      "Features extracted in 188.23 seconds\n",
      "Computing jaccard distance...\n"
     ]
    },
    {
     "name": "stderr",
     "output_type": "stream",
     "text": [
      "bruteForceKnn is deprecated; call bfKnn instead\n"
     ]
    },
    {
     "name": "stdout",
     "output_type": "stream",
     "text": [
      "Jaccard distance computing time cost: 70.45625185966492\n",
      "Extracting Online Features for osnet ...\n",
      "Features extracted in 188.13 seconds\n",
      "Computing jaccard distance...\n"
     ]
    },
    {
     "name": "stderr",
     "output_type": "stream",
     "text": [
      "bruteForceKnn is deprecated; call bfKnn instead\n"
     ]
    },
    {
     "name": "stdout",
     "output_type": "stream",
     "text": [
      "Jaccard distance computing time cost: 71.03118443489075\n",
      "Extracting Online Features for densenet121 ...\n",
      "Features extracted in 189.00 seconds\n",
      "Computing jaccard distance...\n"
     ]
    },
    {
     "name": "stderr",
     "output_type": "stream",
     "text": [
      "bruteForceKnn is deprecated; call bfKnn instead\n"
     ]
    },
    {
     "name": "stdout",
     "output_type": "stream",
     "text": [
      "Jaccard distance computing time cost: 72.07516193389893\n",
      "Reliability: 0.044\n",
      "\u001b[32mMean Purity: 0.02052\u001b[0m\n",
      "\u001b[34mThere are 20 clusters with 4 cameras\u001b[0m\n",
      "\u001b[34mThere are 21 clusters with 5 cameras\u001b[0m\n",
      "\u001b[34mThere are 11 clusters with 6 cameras\u001b[0m\n",
      "\u001b[34mThere are 8 clusters with 7 cameras\u001b[0m\n",
      "\u001b[34mThere are 2 clusters with 8 cameras\u001b[0m\n",
      "\u001b[34mThere are 4 clusters with 9 cameras\u001b[0m\n",
      "\u001b[34mThere are 4 clusters with 10 cameras\u001b[0m\n",
      "\u001b[34mThere are 4 clusters with 11 cameras\u001b[0m\n",
      "\u001b[34mThere are 3 clusters with 12 cameras\u001b[0m\n",
      "\u001b[34mThere are 5 clusters with 13 cameras\u001b[0m\n",
      "\u001b[34mThere are 2 clusters with 16 cameras\u001b[0m\n",
      "\u001b[34mThere are 2 clusters with 17 cameras\u001b[0m\n",
      "\u001b[34mThere are 2 clusters with 18 cameras\u001b[0m\n",
      "\u001b[34mThere are 1 clusters with 19 cameras\u001b[0m\n",
      "\u001b[34mThere are 4 clusters with 20 cameras\u001b[0m\n",
      "\u001b[34mThere are 3 clusters with 22 cameras\u001b[0m\n",
      "\u001b[34mThere are 1 clusters with 23 cameras\u001b[0m\n",
      "\u001b[34mThere are 1 clusters with 24 cameras\u001b[0m\n",
      "\u001b[34mThere are 1 clusters with 25 cameras\u001b[0m\n",
      "\u001b[34mThere are 1 clusters with 26 cameras\u001b[0m\n",
      "\u001b[34mThere are 3 clusters with 28 cameras\u001b[0m\n",
      "\u001b[34mThere are 1 clusters with 35 cameras\u001b[0m\n",
      "\u001b[34mThere are 1 clusters with 37 cameras\u001b[0m\n",
      "\u001b[34mThere are 1 clusters with 40 cameras\u001b[0m\n",
      "\u001b[34mThere are 1 clusters with 42 cameras\u001b[0m\n",
      "\u001b[34mThere are 1 clusters with 45 cameras\u001b[0m\n",
      "\u001b[34mThere are 1 clusters with 46 cameras\u001b[0m\n",
      "\u001b[34mThere are 1 clusters with 49 cameras\u001b[0m\n",
      "\u001b[34mThere are 1 clusters with 50 cameras\u001b[0m\n",
      "\u001b[34mThere are 1 clusters with 63 cameras\u001b[0m\n",
      "\u001b[34mThere are 2 clusters with 68 cameras\u001b[0m\n",
      "\u001b[34mThere are 1 clusters with 168 cameras\u001b[0m\n",
      "Number of classes: 115\n",
      "\u001b[36mLearning Rate: 0.000105\u001b[0m\n",
      "encontrou modelos efficientnet. Carregando...\n",
      "encontrou modelos convnext. Carregando...\n",
      "encontrou modelos mobilenet. Carregando...\n",
      "encontrou modelos vgg16. Carregando...\n",
      "encontrou modelos resnet50. Carregando...\n",
      "encontrou modelos osnet. Carregando...\n",
      "encontrou modelos densenet121. Carregando...\n",
      "###============ Iteration number 7/90 ============###\n",
      "Extracting Online Features for efficientnet ...\n",
      "Features extracted in 188.33 seconds\n",
      "Computing jaccard distance...\n"
     ]
    },
    {
     "name": "stderr",
     "output_type": "stream",
     "text": [
      "bruteForceKnn is deprecated; call bfKnn instead\n"
     ]
    },
    {
     "name": "stdout",
     "output_type": "stream",
     "text": [
      "Jaccard distance computing time cost: 86.22791934013367\n",
      "Extracting Online Features for convnext ...\n",
      "Features extracted in 186.99 seconds\n",
      "Computing jaccard distance...\n"
     ]
    },
    {
     "name": "stderr",
     "output_type": "stream",
     "text": [
      "bruteForceKnn is deprecated; call bfKnn instead\n"
     ]
    },
    {
     "name": "stdout",
     "output_type": "stream",
     "text": [
      "Jaccard distance computing time cost: 72.4798333644867\n",
      "Extracting Online Features for mobilenet ...\n",
      "Features extracted in 187.18 seconds\n",
      "Computing jaccard distance...\n"
     ]
    },
    {
     "name": "stderr",
     "output_type": "stream",
     "text": [
      "bruteForceKnn is deprecated; call bfKnn instead\n"
     ]
    },
    {
     "name": "stdout",
     "output_type": "stream",
     "text": [
      "Jaccard distance computing time cost: 69.56879544258118\n",
      "Extracting Online Features for vgg16 ...\n",
      "Features extracted in 189.41 seconds\n",
      "Computing jaccard distance...\n"
     ]
    },
    {
     "name": "stderr",
     "output_type": "stream",
     "text": [
      "bruteForceKnn is deprecated; call bfKnn instead\n"
     ]
    },
    {
     "name": "stdout",
     "output_type": "stream",
     "text": [
      "Jaccard distance computing time cost: 71.81278991699219\n",
      "Extracting Online Features for resnet50 ...\n",
      "Features extracted in 191.64 seconds\n",
      "Computing jaccard distance...\n"
     ]
    },
    {
     "name": "stderr",
     "output_type": "stream",
     "text": [
      "bruteForceKnn is deprecated; call bfKnn instead\n"
     ]
    },
    {
     "name": "stdout",
     "output_type": "stream",
     "text": [
      "Jaccard distance computing time cost: 69.89821743965149\n",
      "Extracting Online Features for osnet ...\n",
      "Features extracted in 191.38 seconds\n",
      "Computing jaccard distance...\n"
     ]
    },
    {
     "name": "stderr",
     "output_type": "stream",
     "text": [
      "bruteForceKnn is deprecated; call bfKnn instead\n"
     ]
    },
    {
     "name": "stdout",
     "output_type": "stream",
     "text": [
      "Jaccard distance computing time cost: 71.57515144348145\n",
      "Extracting Online Features for densenet121 ...\n",
      "Features extracted in 190.28 seconds\n",
      "Computing jaccard distance...\n"
     ]
    },
    {
     "name": "stderr",
     "output_type": "stream",
     "text": [
      "bruteForceKnn is deprecated; call bfKnn instead\n"
     ]
    },
    {
     "name": "stdout",
     "output_type": "stream",
     "text": [
      "Jaccard distance computing time cost: 72.55244374275208\n",
      "Reliability: 0.044\n",
      "\u001b[32mMean Purity: 0.02052\u001b[0m\n",
      "\u001b[34mThere are 20 clusters with 4 cameras\u001b[0m\n",
      "\u001b[34mThere are 21 clusters with 5 cameras\u001b[0m\n",
      "\u001b[34mThere are 11 clusters with 6 cameras\u001b[0m\n",
      "\u001b[34mThere are 8 clusters with 7 cameras\u001b[0m\n",
      "\u001b[34mThere are 2 clusters with 8 cameras\u001b[0m\n",
      "\u001b[34mThere are 4 clusters with 9 cameras\u001b[0m\n",
      "\u001b[34mThere are 4 clusters with 10 cameras\u001b[0m\n",
      "\u001b[34mThere are 4 clusters with 11 cameras\u001b[0m\n",
      "\u001b[34mThere are 3 clusters with 12 cameras\u001b[0m\n",
      "\u001b[34mThere are 5 clusters with 13 cameras\u001b[0m\n",
      "\u001b[34mThere are 2 clusters with 16 cameras\u001b[0m\n",
      "\u001b[34mThere are 2 clusters with 17 cameras\u001b[0m\n",
      "\u001b[34mThere are 2 clusters with 18 cameras\u001b[0m\n",
      "\u001b[34mThere are 1 clusters with 19 cameras\u001b[0m\n",
      "\u001b[34mThere are 4 clusters with 20 cameras\u001b[0m\n",
      "\u001b[34mThere are 3 clusters with 22 cameras\u001b[0m\n",
      "\u001b[34mThere are 1 clusters with 23 cameras\u001b[0m\n",
      "\u001b[34mThere are 1 clusters with 24 cameras\u001b[0m\n",
      "\u001b[34mThere are 1 clusters with 25 cameras\u001b[0m\n",
      "\u001b[34mThere are 1 clusters with 26 cameras\u001b[0m\n",
      "\u001b[34mThere are 3 clusters with 28 cameras\u001b[0m\n",
      "\u001b[34mThere are 1 clusters with 35 cameras\u001b[0m\n",
      "\u001b[34mThere are 1 clusters with 37 cameras\u001b[0m\n",
      "\u001b[34mThere are 1 clusters with 40 cameras\u001b[0m\n",
      "\u001b[34mThere are 1 clusters with 42 cameras\u001b[0m\n",
      "\u001b[34mThere are 1 clusters with 45 cameras\u001b[0m\n",
      "\u001b[34mThere are 1 clusters with 46 cameras\u001b[0m\n",
      "\u001b[34mThere are 1 clusters with 49 cameras\u001b[0m\n",
      "\u001b[34mThere are 1 clusters with 50 cameras\u001b[0m\n",
      "\u001b[34mThere are 1 clusters with 63 cameras\u001b[0m\n",
      "\u001b[34mThere are 2 clusters with 68 cameras\u001b[0m\n",
      "\u001b[34mThere are 1 clusters with 168 cameras\u001b[0m\n",
      "Number of classes: 115\n",
      "\u001b[36mLearning Rate: 0.000122\u001b[0m\n",
      "encontrou modelos efficientnet. Carregando...\n",
      "encontrou modelos convnext. Carregando...\n",
      "encontrou modelos mobilenet. Carregando...\n",
      "encontrou modelos vgg16. Carregando...\n",
      "encontrou modelos resnet50. Carregando...\n",
      "encontrou modelos osnet. Carregando...\n",
      "encontrou modelos densenet121. Carregando...\n",
      "###============ Iteration number 8/90 ============###\n",
      "Extracting Online Features for efficientnet ...\n",
      "Features extracted in 189.03 seconds\n",
      "Computing jaccard distance...\n"
     ]
    },
    {
     "name": "stderr",
     "output_type": "stream",
     "text": [
      "bruteForceKnn is deprecated; call bfKnn instead\n"
     ]
    },
    {
     "name": "stdout",
     "output_type": "stream",
     "text": [
      "Jaccard distance computing time cost: 78.91424822807312\n",
      "Extracting Online Features for convnext ...\n",
      "Features extracted in 191.23 seconds\n",
      "Computing jaccard distance...\n"
     ]
    },
    {
     "name": "stderr",
     "output_type": "stream",
     "text": [
      "bruteForceKnn is deprecated; call bfKnn instead\n"
     ]
    },
    {
     "name": "stdout",
     "output_type": "stream",
     "text": [
      "Jaccard distance computing time cost: 71.10486912727356\n",
      "Extracting Online Features for mobilenet ...\n",
      "Features extracted in 188.68 seconds\n",
      "Computing jaccard distance...\n"
     ]
    },
    {
     "name": "stderr",
     "output_type": "stream",
     "text": [
      "bruteForceKnn is deprecated; call bfKnn instead\n"
     ]
    },
    {
     "name": "stdout",
     "output_type": "stream",
     "text": [
      "Jaccard distance computing time cost: 69.49850225448608\n",
      "Extracting Online Features for vgg16 ...\n",
      "Features extracted in 190.38 seconds\n",
      "Computing jaccard distance...\n"
     ]
    },
    {
     "name": "stderr",
     "output_type": "stream",
     "text": [
      "bruteForceKnn is deprecated; call bfKnn instead\n"
     ]
    },
    {
     "name": "stdout",
     "output_type": "stream",
     "text": [
      "Jaccard distance computing time cost: 71.29977297782898\n",
      "Extracting Online Features for resnet50 ...\n",
      "Features extracted in 190.60 seconds\n",
      "Computing jaccard distance...\n"
     ]
    },
    {
     "name": "stderr",
     "output_type": "stream",
     "text": [
      "bruteForceKnn is deprecated; call bfKnn instead\n"
     ]
    },
    {
     "name": "stdout",
     "output_type": "stream",
     "text": [
      "Jaccard distance computing time cost: 69.2738926410675\n",
      "Extracting Online Features for osnet ...\n",
      "Features extracted in 189.75 seconds\n",
      "Computing jaccard distance...\n"
     ]
    },
    {
     "name": "stderr",
     "output_type": "stream",
     "text": [
      "bruteForceKnn is deprecated; call bfKnn instead\n"
     ]
    },
    {
     "name": "stdout",
     "output_type": "stream",
     "text": [
      "Jaccard distance computing time cost: 71.49779033660889\n",
      "Extracting Online Features for densenet121 ...\n",
      "Features extracted in 188.43 seconds\n",
      "Computing jaccard distance...\n"
     ]
    },
    {
     "name": "stderr",
     "output_type": "stream",
     "text": [
      "bruteForceKnn is deprecated; call bfKnn instead\n"
     ]
    },
    {
     "name": "stdout",
     "output_type": "stream",
     "text": [
      "Jaccard distance computing time cost: 72.2492458820343\n",
      "Reliability: 0.044\n",
      "\u001b[32mMean Purity: 0.02052\u001b[0m\n",
      "\u001b[34mThere are 20 clusters with 4 cameras\u001b[0m\n",
      "\u001b[34mThere are 21 clusters with 5 cameras\u001b[0m\n",
      "\u001b[34mThere are 11 clusters with 6 cameras\u001b[0m\n",
      "\u001b[34mThere are 8 clusters with 7 cameras\u001b[0m\n",
      "\u001b[34mThere are 2 clusters with 8 cameras\u001b[0m\n",
      "\u001b[34mThere are 4 clusters with 9 cameras\u001b[0m\n",
      "\u001b[34mThere are 4 clusters with 10 cameras\u001b[0m\n",
      "\u001b[34mThere are 4 clusters with 11 cameras\u001b[0m\n",
      "\u001b[34mThere are 3 clusters with 12 cameras\u001b[0m\n",
      "\u001b[34mThere are 5 clusters with 13 cameras\u001b[0m\n",
      "\u001b[34mThere are 2 clusters with 16 cameras\u001b[0m\n",
      "\u001b[34mThere are 2 clusters with 17 cameras\u001b[0m\n",
      "\u001b[34mThere are 2 clusters with 18 cameras\u001b[0m\n",
      "\u001b[34mThere are 1 clusters with 19 cameras\u001b[0m\n",
      "\u001b[34mThere are 4 clusters with 20 cameras\u001b[0m\n",
      "\u001b[34mThere are 3 clusters with 22 cameras\u001b[0m\n",
      "\u001b[34mThere are 1 clusters with 23 cameras\u001b[0m\n",
      "\u001b[34mThere are 1 clusters with 24 cameras\u001b[0m\n",
      "\u001b[34mThere are 1 clusters with 25 cameras\u001b[0m\n",
      "\u001b[34mThere are 1 clusters with 26 cameras\u001b[0m\n",
      "\u001b[34mThere are 3 clusters with 28 cameras\u001b[0m\n",
      "\u001b[34mThere are 1 clusters with 35 cameras\u001b[0m\n",
      "\u001b[34mThere are 1 clusters with 37 cameras\u001b[0m\n",
      "\u001b[34mThere are 1 clusters with 40 cameras\u001b[0m\n",
      "\u001b[34mThere are 1 clusters with 42 cameras\u001b[0m\n",
      "\u001b[34mThere are 1 clusters with 45 cameras\u001b[0m\n",
      "\u001b[34mThere are 1 clusters with 46 cameras\u001b[0m\n",
      "\u001b[34mThere are 1 clusters with 49 cameras\u001b[0m\n",
      "\u001b[34mThere are 1 clusters with 50 cameras\u001b[0m\n",
      "\u001b[34mThere are 1 clusters with 63 cameras\u001b[0m\n",
      "\u001b[34mThere are 2 clusters with 68 cameras\u001b[0m\n",
      "\u001b[34mThere are 1 clusters with 168 cameras\u001b[0m\n",
      "Number of classes: 115\n",
      "\u001b[36mLearning Rate: 0.000140\u001b[0m\n",
      "encontrou modelos efficientnet. Carregando...\n",
      "encontrou modelos convnext. Carregando...\n",
      "encontrou modelos mobilenet. Carregando...\n",
      "encontrou modelos vgg16. Carregando...\n",
      "encontrou modelos resnet50. Carregando...\n",
      "encontrou modelos osnet. Carregando...\n",
      "encontrou modelos densenet121. Carregando...\n",
      "###============ Iteration number 9/90 ============###\n",
      "Extracting Online Features for efficientnet ...\n",
      "Features extracted in 188.19 seconds\n",
      "Computing jaccard distance...\n"
     ]
    },
    {
     "name": "stderr",
     "output_type": "stream",
     "text": [
      "bruteForceKnn is deprecated; call bfKnn instead\n"
     ]
    },
    {
     "name": "stdout",
     "output_type": "stream",
     "text": [
      "Jaccard distance computing time cost: 79.24810290336609\n",
      "Extracting Online Features for convnext ...\n",
      "Features extracted in 194.48 seconds\n",
      "Computing jaccard distance...\n"
     ]
    },
    {
     "name": "stderr",
     "output_type": "stream",
     "text": [
      "bruteForceKnn is deprecated; call bfKnn instead\n"
     ]
    },
    {
     "name": "stdout",
     "output_type": "stream",
     "text": [
      "Jaccard distance computing time cost: 71.43863987922668\n",
      "Extracting Online Features for mobilenet ...\n",
      "Features extracted in 190.26 seconds\n",
      "Computing jaccard distance...\n"
     ]
    },
    {
     "name": "stderr",
     "output_type": "stream",
     "text": [
      "bruteForceKnn is deprecated; call bfKnn instead\n"
     ]
    },
    {
     "name": "stdout",
     "output_type": "stream",
     "text": [
      "Jaccard distance computing time cost: 70.05761194229126\n",
      "Extracting Online Features for vgg16 ...\n",
      "Features extracted in 188.78 seconds\n",
      "Computing jaccard distance...\n"
     ]
    },
    {
     "name": "stderr",
     "output_type": "stream",
     "text": [
      "bruteForceKnn is deprecated; call bfKnn instead\n"
     ]
    },
    {
     "name": "stdout",
     "output_type": "stream",
     "text": [
      "Jaccard distance computing time cost: 71.16901540756226\n",
      "Extracting Online Features for resnet50 ...\n",
      "Features extracted in 189.49 seconds\n",
      "Computing jaccard distance...\n"
     ]
    },
    {
     "name": "stderr",
     "output_type": "stream",
     "text": [
      "bruteForceKnn is deprecated; call bfKnn instead\n"
     ]
    },
    {
     "name": "stdout",
     "output_type": "stream",
     "text": [
      "Jaccard distance computing time cost: 69.34926652908325\n",
      "Extracting Online Features for osnet ...\n",
      "Features extracted in 187.47 seconds\n",
      "Computing jaccard distance...\n"
     ]
    },
    {
     "name": "stderr",
     "output_type": "stream",
     "text": [
      "bruteForceKnn is deprecated; call bfKnn instead\n"
     ]
    },
    {
     "name": "stdout",
     "output_type": "stream",
     "text": [
      "Jaccard distance computing time cost: 72.74968266487122\n",
      "Extracting Online Features for densenet121 ...\n",
      "Features extracted in 187.92 seconds\n",
      "Computing jaccard distance...\n"
     ]
    },
    {
     "name": "stderr",
     "output_type": "stream",
     "text": [
      "bruteForceKnn is deprecated; call bfKnn instead\n"
     ]
    },
    {
     "name": "stdout",
     "output_type": "stream",
     "text": [
      "Jaccard distance computing time cost: 72.68043351173401\n",
      "Reliability: 0.044\n",
      "\u001b[32mMean Purity: 0.02052\u001b[0m\n",
      "\u001b[34mThere are 20 clusters with 4 cameras\u001b[0m\n",
      "\u001b[34mThere are 21 clusters with 5 cameras\u001b[0m\n",
      "\u001b[34mThere are 11 clusters with 6 cameras\u001b[0m\n",
      "\u001b[34mThere are 8 clusters with 7 cameras\u001b[0m\n",
      "\u001b[34mThere are 2 clusters with 8 cameras\u001b[0m\n",
      "\u001b[34mThere are 4 clusters with 9 cameras\u001b[0m\n",
      "\u001b[34mThere are 4 clusters with 10 cameras\u001b[0m\n",
      "\u001b[34mThere are 4 clusters with 11 cameras\u001b[0m\n",
      "\u001b[34mThere are 3 clusters with 12 cameras\u001b[0m\n",
      "\u001b[34mThere are 5 clusters with 13 cameras\u001b[0m\n",
      "\u001b[34mThere are 2 clusters with 16 cameras\u001b[0m\n",
      "\u001b[34mThere are 2 clusters with 17 cameras\u001b[0m\n",
      "\u001b[34mThere are 2 clusters with 18 cameras\u001b[0m\n",
      "\u001b[34mThere are 1 clusters with 19 cameras\u001b[0m\n",
      "\u001b[34mThere are 4 clusters with 20 cameras\u001b[0m\n",
      "\u001b[34mThere are 3 clusters with 22 cameras\u001b[0m\n",
      "\u001b[34mThere are 1 clusters with 23 cameras\u001b[0m\n",
      "\u001b[34mThere are 1 clusters with 24 cameras\u001b[0m\n",
      "\u001b[34mThere are 1 clusters with 25 cameras\u001b[0m\n",
      "\u001b[34mThere are 1 clusters with 26 cameras\u001b[0m\n",
      "\u001b[34mThere are 3 clusters with 28 cameras\u001b[0m\n",
      "\u001b[34mThere are 1 clusters with 35 cameras\u001b[0m\n",
      "\u001b[34mThere are 1 clusters with 37 cameras\u001b[0m\n",
      "\u001b[34mThere are 1 clusters with 40 cameras\u001b[0m\n",
      "\u001b[34mThere are 1 clusters with 42 cameras\u001b[0m\n",
      "\u001b[34mThere are 1 clusters with 45 cameras\u001b[0m\n",
      "\u001b[34mThere are 1 clusters with 46 cameras\u001b[0m\n",
      "\u001b[34mThere are 1 clusters with 49 cameras\u001b[0m\n",
      "\u001b[34mThere are 1 clusters with 50 cameras\u001b[0m\n",
      "\u001b[34mThere are 1 clusters with 63 cameras\u001b[0m\n",
      "\u001b[34mThere are 2 clusters with 68 cameras\u001b[0m\n",
      "\u001b[34mThere are 1 clusters with 168 cameras\u001b[0m\n",
      "Number of classes: 115\n",
      "\u001b[36mLearning Rate: 0.000158\u001b[0m\n",
      "encontrou modelos efficientnet. Carregando...\n",
      "encontrou modelos convnext. Carregando...\n",
      "encontrou modelos mobilenet. Carregando...\n",
      "encontrou modelos vgg16. Carregando...\n",
      "encontrou modelos resnet50. Carregando...\n",
      "encontrou modelos osnet. Carregando...\n",
      "encontrou modelos densenet121. Carregando...\n",
      "###============ Iteration number 10/90 ============###\n",
      "Extracting Online Features for efficientnet ...\n",
      "Features extracted in 189.43 seconds\n",
      "Computing jaccard distance...\n"
     ]
    },
    {
     "name": "stderr",
     "output_type": "stream",
     "text": [
      "bruteForceKnn is deprecated; call bfKnn instead\n"
     ]
    },
    {
     "name": "stdout",
     "output_type": "stream",
     "text": [
      "Jaccard distance computing time cost: 78.11290216445923\n",
      "Extracting Online Features for convnext ...\n",
      "Features extracted in 190.80 seconds\n",
      "Computing jaccard distance...\n"
     ]
    },
    {
     "name": "stderr",
     "output_type": "stream",
     "text": [
      "bruteForceKnn is deprecated; call bfKnn instead\n"
     ]
    },
    {
     "name": "stdout",
     "output_type": "stream",
     "text": [
      "Jaccard distance computing time cost: 71.0100769996643\n",
      "Extracting Online Features for mobilenet ...\n",
      "Features extracted in 191.94 seconds\n",
      "Computing jaccard distance...\n"
     ]
    },
    {
     "name": "stderr",
     "output_type": "stream",
     "text": [
      "bruteForceKnn is deprecated; call bfKnn instead\n"
     ]
    },
    {
     "name": "stdout",
     "output_type": "stream",
     "text": [
      "Jaccard distance computing time cost: 69.81255054473877\n",
      "Extracting Online Features for vgg16 ...\n",
      "Features extracted in 186.50 seconds\n",
      "Computing jaccard distance...\n"
     ]
    },
    {
     "name": "stderr",
     "output_type": "stream",
     "text": [
      "bruteForceKnn is deprecated; call bfKnn instead\n"
     ]
    },
    {
     "name": "stdout",
     "output_type": "stream",
     "text": [
      "Jaccard distance computing time cost: 71.95287108421326\n",
      "Extracting Online Features for resnet50 ...\n",
      "Features extracted in 188.79 seconds\n",
      "Computing jaccard distance...\n"
     ]
    },
    {
     "name": "stderr",
     "output_type": "stream",
     "text": [
      "bruteForceKnn is deprecated; call bfKnn instead\n"
     ]
    },
    {
     "name": "stdout",
     "output_type": "stream",
     "text": [
      "Jaccard distance computing time cost: 70.2496931552887\n",
      "Extracting Online Features for osnet ...\n",
      "Features extracted in 190.58 seconds\n",
      "Computing jaccard distance...\n"
     ]
    },
    {
     "name": "stderr",
     "output_type": "stream",
     "text": [
      "bruteForceKnn is deprecated; call bfKnn instead\n"
     ]
    },
    {
     "name": "stdout",
     "output_type": "stream",
     "text": [
      "Jaccard distance computing time cost: 71.70573806762695\n",
      "Extracting Online Features for densenet121 ...\n",
      "Features extracted in 189.70 seconds\n",
      "Computing jaccard distance...\n"
     ]
    },
    {
     "name": "stderr",
     "output_type": "stream",
     "text": [
      "bruteForceKnn is deprecated; call bfKnn instead\n"
     ]
    },
    {
     "name": "stdout",
     "output_type": "stream",
     "text": [
      "Jaccard distance computing time cost: 73.00522923469543\n",
      "Reliability: 0.044\n",
      "\u001b[32mMean Purity: 0.02052\u001b[0m\n",
      "\u001b[34mThere are 20 clusters with 4 cameras\u001b[0m\n",
      "\u001b[34mThere are 21 clusters with 5 cameras\u001b[0m\n",
      "\u001b[34mThere are 11 clusters with 6 cameras\u001b[0m\n",
      "\u001b[34mThere are 8 clusters with 7 cameras\u001b[0m\n",
      "\u001b[34mThere are 2 clusters with 8 cameras\u001b[0m\n",
      "\u001b[34mThere are 4 clusters with 9 cameras\u001b[0m\n",
      "\u001b[34mThere are 4 clusters with 10 cameras\u001b[0m\n",
      "\u001b[34mThere are 4 clusters with 11 cameras\u001b[0m\n",
      "\u001b[34mThere are 3 clusters with 12 cameras\u001b[0m\n",
      "\u001b[34mThere are 5 clusters with 13 cameras\u001b[0m\n",
      "\u001b[34mThere are 2 clusters with 16 cameras\u001b[0m\n",
      "\u001b[34mThere are 2 clusters with 17 cameras\u001b[0m\n",
      "\u001b[34mThere are 2 clusters with 18 cameras\u001b[0m\n",
      "\u001b[34mThere are 1 clusters with 19 cameras\u001b[0m\n",
      "\u001b[34mThere are 4 clusters with 20 cameras\u001b[0m\n",
      "\u001b[34mThere are 3 clusters with 22 cameras\u001b[0m\n",
      "\u001b[34mThere are 1 clusters with 23 cameras\u001b[0m\n",
      "\u001b[34mThere are 1 clusters with 24 cameras\u001b[0m\n",
      "\u001b[34mThere are 1 clusters with 25 cameras\u001b[0m\n",
      "\u001b[34mThere are 1 clusters with 26 cameras\u001b[0m\n",
      "\u001b[34mThere are 3 clusters with 28 cameras\u001b[0m\n",
      "\u001b[34mThere are 1 clusters with 35 cameras\u001b[0m\n",
      "\u001b[34mThere are 1 clusters with 37 cameras\u001b[0m\n",
      "\u001b[34mThere are 1 clusters with 40 cameras\u001b[0m\n",
      "\u001b[34mThere are 1 clusters with 42 cameras\u001b[0m\n",
      "\u001b[34mThere are 1 clusters with 45 cameras\u001b[0m\n",
      "\u001b[34mThere are 1 clusters with 46 cameras\u001b[0m\n",
      "\u001b[34mThere are 1 clusters with 49 cameras\u001b[0m\n",
      "\u001b[34mThere are 1 clusters with 50 cameras\u001b[0m\n",
      "\u001b[34mThere are 1 clusters with 63 cameras\u001b[0m\n",
      "\u001b[34mThere are 2 clusters with 68 cameras\u001b[0m\n",
      "\u001b[34mThere are 1 clusters with 168 cameras\u001b[0m\n",
      "Number of classes: 115\n",
      "\u001b[36mLearning Rate: 0.000175\u001b[0m\n",
      "encontrou modelos efficientnet. Carregando...\n",
      "encontrou modelos convnext. Carregando...\n",
      "encontrou modelos mobilenet. Carregando...\n",
      "encontrou modelos vgg16. Carregando...\n",
      "encontrou modelos resnet50. Carregando...\n",
      "encontrou modelos osnet. Carregando...\n",
      "encontrou modelos densenet121. Carregando...\n",
      "\u001b[33mValidating online efficientnet ...\u001b[0m\n",
      "Features extracted in 57.72 seconds\n",
      "Features extracted in 114.77 seconds\n",
      "Computing CMC and mAP ...\n",
      "** Results **\n",
      "mAP: 66.96%\n",
      "CMC curve\n",
      "Rank-1  : 49.76%\n",
      "Rank-5  : 88.29%\n",
      "Rank-10 : 96.33%\n",
      "Rank-20 : 99.32%\n",
      "\u001b[33mValidating momentum efficientnet ...\u001b[0m\n",
      "Features extracted in 58.83 seconds\n",
      "Features extracted in 116.79 seconds\n",
      "Computing CMC and mAP ...\n",
      "** Results **\n",
      "mAP: 66.33%\n",
      "CMC curve\n",
      "Rank-1  : 47.72%\n",
      "Rank-5  : 83.15%\n",
      "Rank-10 : 91.82%\n",
      "Rank-20 : 96.73%\n",
      "\u001b[33mValidating online convnext ...\u001b[0m\n",
      "Features extracted in 59.81 seconds\n",
      "Features extracted in 118.37 seconds\n",
      "Computing CMC and mAP ...\n",
      "** Results **\n",
      "mAP: 65.77%\n",
      "CMC curve\n",
      "Rank-1  : 46.59%\n",
      "Rank-5  : 75.46%\n",
      "Rank-10 : 86.74%\n",
      "Rank-20 : 94.66%\n",
      "\u001b[33mValidating momentum convnext ...\u001b[0m\n",
      "Features extracted in 58.82 seconds\n",
      "Features extracted in 115.52 seconds\n",
      "Computing CMC and mAP ...\n",
      "** Results **\n",
      "mAP: 64.96%\n",
      "CMC curve\n",
      "Rank-1  : 45.63%\n",
      "Rank-5  : 75.04%\n",
      "Rank-10 : 87.30%\n",
      "Rank-20 : 95.01%\n",
      "\u001b[33mValidating online mobilenet ...\u001b[0m\n",
      "Features extracted in 58.05 seconds\n",
      "Features extracted in 115.00 seconds\n",
      "Computing CMC and mAP ...\n",
      "** Results **\n",
      "mAP: 66.23%\n",
      "CMC curve\n",
      "Rank-1  : 51.24%\n",
      "Rank-5  : 86.31%\n",
      "Rank-10 : 94.85%\n",
      "Rank-20 : 99.15%\n",
      "\u001b[33mValidating momentum mobilenet ...\u001b[0m\n",
      "Features extracted in 58.83 seconds\n",
      "Features extracted in 113.74 seconds\n",
      "Computing CMC and mAP ...\n",
      "** Results **\n",
      "mAP: 66.41%\n",
      "CMC curve\n",
      "Rank-1  : 52.73%\n",
      "Rank-5  : 85.40%\n",
      "Rank-10 : 93.79%\n",
      "Rank-20 : 98.57%\n",
      "\u001b[33mValidating online vgg16 ...\u001b[0m\n",
      "Features extracted in 58.31 seconds\n",
      "Features extracted in 116.89 seconds\n",
      "Computing CMC and mAP ...\n",
      "** Results **\n",
      "mAP: 65.47%\n",
      "CMC curve\n",
      "Rank-1  : 43.56%\n",
      "Rank-5  : 75.41%\n",
      "Rank-10 : 85.98%\n",
      "Rank-20 : 92.95%\n",
      "\u001b[33mValidating momentum vgg16 ...\u001b[0m\n",
      "Features extracted in 58.48 seconds\n",
      "Features extracted in 116.66 seconds\n",
      "Computing CMC and mAP ...\n",
      "** Results **\n",
      "mAP: 65.67%\n",
      "CMC curve\n",
      "Rank-1  : 45.75%\n",
      "Rank-5  : 82.00%\n",
      "Rank-10 : 90.62%\n",
      "Rank-20 : 96.36%\n",
      "\u001b[33mValidating online resnet50 ...\u001b[0m\n",
      "Features extracted in 59.01 seconds\n",
      "Features extracted in 116.73 seconds\n",
      "Computing CMC and mAP ...\n",
      "** Results **\n",
      "mAP: 65.64%\n",
      "CMC curve\n",
      "Rank-1  : 44.24%\n",
      "Rank-5  : 67.84%\n",
      "Rank-10 : 75.44%\n",
      "Rank-20 : 82.42%\n",
      "\u001b[33mValidating momentum resnet50 ...\u001b[0m\n",
      "Features extracted in 58.53 seconds\n",
      "Features extracted in 114.76 seconds\n",
      "Computing CMC and mAP ...\n",
      "** Results **\n",
      "mAP: 64.94%\n",
      "CMC curve\n",
      "Rank-1  : 43.33%\n",
      "Rank-5  : 71.52%\n",
      "Rank-10 : 80.95%\n",
      "Rank-20 : 90.36%\n",
      "\u001b[33mValidating online osnet ...\u001b[0m\n",
      "Features extracted in 58.56 seconds\n",
      "Features extracted in 115.86 seconds\n",
      "Computing CMC and mAP ...\n",
      "** Results **\n",
      "mAP: 66.87%\n",
      "CMC curve\n",
      "Rank-1  : 48.11%\n",
      "Rank-5  : 84.70%\n",
      "Rank-10 : 95.19%\n",
      "Rank-20 : 99.23%\n",
      "\u001b[33mValidating momentum osnet ...\u001b[0m\n",
      "Features extracted in 59.74 seconds\n",
      "Features extracted in 115.87 seconds\n",
      "Computing CMC and mAP ...\n",
      "** Results **\n",
      "mAP: 67.06%\n",
      "CMC curve\n",
      "Rank-1  : 51.39%\n",
      "Rank-5  : 86.67%\n",
      "Rank-10 : 94.96%\n",
      "Rank-20 : 98.71%\n",
      "\u001b[33mValidating online densenet121 ...\u001b[0m\n",
      "Features extracted in 60.09 seconds\n",
      "Features extracted in 116.81 seconds\n",
      "Computing CMC and mAP ...\n",
      "** Results **\n",
      "mAP: 65.34%\n",
      "CMC curve\n",
      "Rank-1  : 45.42%\n",
      "Rank-5  : 74.47%\n",
      "Rank-10 : 84.90%\n",
      "Rank-20 : 93.93%\n",
      "\u001b[33mValidating momentum densenet121 ...\u001b[0m\n",
      "Features extracted in 60.25 seconds\n",
      "Features extracted in 118.16 seconds\n",
      "Computing CMC and mAP ...\n",
      "** Results **\n",
      "mAP: 65.71%\n",
      "CMC curve\n",
      "Rank-1  : 46.36%\n",
      "Rank-5  : 79.22%\n",
      "Rank-10 : 88.80%\n",
      "Rank-20 : 95.19%\n",
      "\u001b[33mValidating ensembled with online models ...\u001b[0m\n",
      "Computing CMC and mAP ...\n",
      "** Results **\n",
      "mAP: 65.61%\n",
      "Ranks:\n",
      "Rank-1  : 45.50%\n",
      "Rank-5  : 70.24%\n",
      "Rank-10 : 79.04%\n",
      "\u001b[33mValidating ensembled with momentum models ...\u001b[0m\n",
      "Computing CMC and mAP ...\n",
      "** Results **\n",
      "mAP: 65.36%\n",
      "Ranks:\n",
      "Rank-1  : 43.96%\n",
      "Rank-5  : 75.79%\n",
      "Rank-10 : 85.67%\n",
      "###============ Iteration number 11/90 ============###\n",
      "Extracting Online Features for efficientnet ...\n",
      "Features extracted in 192.19 seconds\n",
      "Computing jaccard distance...\n"
     ]
    },
    {
     "name": "stderr",
     "output_type": "stream",
     "text": [
      "bruteForceKnn is deprecated; call bfKnn instead\n"
     ]
    },
    {
     "name": "stdout",
     "output_type": "stream",
     "text": [
      "Jaccard distance computing time cost: 84.9970064163208\n",
      "Extracting Online Features for convnext ...\n",
      "Features extracted in 189.90 seconds\n",
      "Computing jaccard distance...\n"
     ]
    },
    {
     "name": "stderr",
     "output_type": "stream",
     "text": [
      "bruteForceKnn is deprecated; call bfKnn instead\n"
     ]
    },
    {
     "name": "stdout",
     "output_type": "stream",
     "text": [
      "Jaccard distance computing time cost: 76.87636256217957\n",
      "Extracting Online Features for mobilenet ...\n",
      "Features extracted in 185.51 seconds\n",
      "Computing jaccard distance...\n"
     ]
    },
    {
     "name": "stderr",
     "output_type": "stream",
     "text": [
      "bruteForceKnn is deprecated; call bfKnn instead\n"
     ]
    },
    {
     "name": "stdout",
     "output_type": "stream",
     "text": [
      "Jaccard distance computing time cost: 70.86471796035767\n",
      "Extracting Online Features for vgg16 ...\n",
      "Features extracted in 187.12 seconds\n",
      "Computing jaccard distance...\n"
     ]
    },
    {
     "name": "stderr",
     "output_type": "stream",
     "text": [
      "bruteForceKnn is deprecated; call bfKnn instead\n"
     ]
    },
    {
     "name": "stdout",
     "output_type": "stream",
     "text": [
      "Jaccard distance computing time cost: 71.67438292503357\n",
      "Extracting Online Features for resnet50 ...\n",
      "Features extracted in 190.95 seconds\n",
      "Computing jaccard distance...\n"
     ]
    },
    {
     "name": "stderr",
     "output_type": "stream",
     "text": [
      "bruteForceKnn is deprecated; call bfKnn instead\n"
     ]
    },
    {
     "name": "stdout",
     "output_type": "stream",
     "text": [
      "Jaccard distance computing time cost: 69.5332818031311\n",
      "Extracting Online Features for osnet ...\n",
      "Features extracted in 190.34 seconds\n",
      "Computing jaccard distance...\n"
     ]
    },
    {
     "name": "stderr",
     "output_type": "stream",
     "text": [
      "bruteForceKnn is deprecated; call bfKnn instead\n"
     ]
    },
    {
     "name": "stdout",
     "output_type": "stream",
     "text": [
      "Jaccard distance computing time cost: 70.89460873603821\n",
      "Extracting Online Features for densenet121 ...\n",
      "Features extracted in 186.32 seconds\n",
      "Computing jaccard distance...\n"
     ]
    },
    {
     "name": "stderr",
     "output_type": "stream",
     "text": [
      "bruteForceKnn is deprecated; call bfKnn instead\n"
     ]
    },
    {
     "name": "stdout",
     "output_type": "stream",
     "text": [
      "Jaccard distance computing time cost: 72.59967041015625\n",
      "Reliability: 0.044\n",
      "\u001b[32mMean Purity: 0.02052\u001b[0m\n",
      "\u001b[34mThere are 20 clusters with 4 cameras\u001b[0m\n",
      "\u001b[34mThere are 21 clusters with 5 cameras\u001b[0m\n",
      "\u001b[34mThere are 11 clusters with 6 cameras\u001b[0m\n",
      "\u001b[34mThere are 8 clusters with 7 cameras\u001b[0m\n",
      "\u001b[34mThere are 2 clusters with 8 cameras\u001b[0m\n",
      "\u001b[34mThere are 4 clusters with 9 cameras\u001b[0m\n",
      "\u001b[34mThere are 4 clusters with 10 cameras\u001b[0m\n",
      "\u001b[34mThere are 4 clusters with 11 cameras\u001b[0m\n",
      "\u001b[34mThere are 3 clusters with 12 cameras\u001b[0m\n",
      "\u001b[34mThere are 5 clusters with 13 cameras\u001b[0m\n",
      "\u001b[34mThere are 2 clusters with 16 cameras\u001b[0m\n",
      "\u001b[34mThere are 2 clusters with 17 cameras\u001b[0m\n",
      "\u001b[34mThere are 2 clusters with 18 cameras\u001b[0m\n",
      "\u001b[34mThere are 1 clusters with 19 cameras\u001b[0m\n",
      "\u001b[34mThere are 4 clusters with 20 cameras\u001b[0m\n",
      "\u001b[34mThere are 3 clusters with 22 cameras\u001b[0m\n",
      "\u001b[34mThere are 1 clusters with 23 cameras\u001b[0m\n",
      "\u001b[34mThere are 1 clusters with 24 cameras\u001b[0m\n",
      "\u001b[34mThere are 1 clusters with 25 cameras\u001b[0m\n",
      "\u001b[34mThere are 1 clusters with 26 cameras\u001b[0m\n",
      "\u001b[34mThere are 3 clusters with 28 cameras\u001b[0m\n",
      "\u001b[34mThere are 1 clusters with 35 cameras\u001b[0m\n",
      "\u001b[34mThere are 1 clusters with 37 cameras\u001b[0m\n",
      "\u001b[34mThere are 1 clusters with 40 cameras\u001b[0m\n",
      "\u001b[34mThere are 1 clusters with 42 cameras\u001b[0m\n",
      "\u001b[34mThere are 1 clusters with 45 cameras\u001b[0m\n",
      "\u001b[34mThere are 1 clusters with 46 cameras\u001b[0m\n",
      "\u001b[34mThere are 1 clusters with 49 cameras\u001b[0m\n",
      "\u001b[34mThere are 1 clusters with 50 cameras\u001b[0m\n",
      "\u001b[34mThere are 1 clusters with 63 cameras\u001b[0m\n",
      "\u001b[34mThere are 2 clusters with 68 cameras\u001b[0m\n",
      "\u001b[34mThere are 1 clusters with 168 cameras\u001b[0m\n",
      "Number of classes: 115\n",
      "\u001b[36mLearning Rate: 0.000193\u001b[0m\n",
      "encontrou modelos efficientnet. Carregando...\n",
      "encontrou modelos convnext. Carregando...\n",
      "encontrou modelos mobilenet. Carregando...\n",
      "encontrou modelos vgg16. Carregando...\n",
      "encontrou modelos resnet50. Carregando...\n",
      "encontrou modelos osnet. Carregando...\n",
      "encontrou modelos densenet121. Carregando...\n",
      "###============ Iteration number 12/90 ============###\n",
      "Extracting Online Features for efficientnet ...\n",
      "Features extracted in 186.93 seconds\n",
      "Computing jaccard distance...\n"
     ]
    },
    {
     "name": "stderr",
     "output_type": "stream",
     "text": [
      "bruteForceKnn is deprecated; call bfKnn instead\n"
     ]
    },
    {
     "name": "stdout",
     "output_type": "stream",
     "text": [
      "Jaccard distance computing time cost: 78.13357448577881\n",
      "Extracting Online Features for convnext ...\n",
      "Features extracted in 191.47 seconds\n",
      "Computing jaccard distance...\n"
     ]
    },
    {
     "name": "stderr",
     "output_type": "stream",
     "text": [
      "bruteForceKnn is deprecated; call bfKnn instead\n"
     ]
    },
    {
     "name": "stdout",
     "output_type": "stream",
     "text": [
      "Jaccard distance computing time cost: 70.34569048881531\n",
      "Extracting Online Features for mobilenet ...\n",
      "Features extracted in 186.74 seconds\n",
      "Computing jaccard distance...\n"
     ]
    },
    {
     "name": "stderr",
     "output_type": "stream",
     "text": [
      "bruteForceKnn is deprecated; call bfKnn instead\n"
     ]
    },
    {
     "name": "stdout",
     "output_type": "stream",
     "text": [
      "Jaccard distance computing time cost: 69.55720210075378\n",
      "Extracting Online Features for vgg16 ...\n",
      "Features extracted in 187.39 seconds\n",
      "Computing jaccard distance...\n"
     ]
    },
    {
     "name": "stderr",
     "output_type": "stream",
     "text": [
      "bruteForceKnn is deprecated; call bfKnn instead\n"
     ]
    },
    {
     "name": "stdout",
     "output_type": "stream",
     "text": [
      "Jaccard distance computing time cost: 76.12408971786499\n",
      "Extracting Online Features for resnet50 ...\n",
      "Features extracted in 189.60 seconds\n",
      "Computing jaccard distance...\n"
     ]
    },
    {
     "name": "stderr",
     "output_type": "stream",
     "text": [
      "bruteForceKnn is deprecated; call bfKnn instead\n"
     ]
    },
    {
     "name": "stdout",
     "output_type": "stream",
     "text": [
      "Jaccard distance computing time cost: 69.05599236488342\n",
      "Extracting Online Features for osnet ...\n",
      "Features extracted in 188.86 seconds\n",
      "Computing jaccard distance...\n"
     ]
    },
    {
     "name": "stderr",
     "output_type": "stream",
     "text": [
      "bruteForceKnn is deprecated; call bfKnn instead\n"
     ]
    },
    {
     "name": "stdout",
     "output_type": "stream",
     "text": [
      "Jaccard distance computing time cost: 70.56672596931458\n",
      "Extracting Online Features for densenet121 ...\n",
      "Features extracted in 188.45 seconds\n",
      "Computing jaccard distance...\n"
     ]
    },
    {
     "name": "stderr",
     "output_type": "stream",
     "text": [
      "bruteForceKnn is deprecated; call bfKnn instead\n"
     ]
    },
    {
     "name": "stdout",
     "output_type": "stream",
     "text": [
      "Jaccard distance computing time cost: 76.55810856819153\n",
      "Reliability: 0.044\n",
      "\u001b[32mMean Purity: 0.02052\u001b[0m\n",
      "\u001b[34mThere are 20 clusters with 4 cameras\u001b[0m\n",
      "\u001b[34mThere are 21 clusters with 5 cameras\u001b[0m\n",
      "\u001b[34mThere are 11 clusters with 6 cameras\u001b[0m\n",
      "\u001b[34mThere are 8 clusters with 7 cameras\u001b[0m\n",
      "\u001b[34mThere are 2 clusters with 8 cameras\u001b[0m\n",
      "\u001b[34mThere are 4 clusters with 9 cameras\u001b[0m\n",
      "\u001b[34mThere are 4 clusters with 10 cameras\u001b[0m\n",
      "\u001b[34mThere are 4 clusters with 11 cameras\u001b[0m\n",
      "\u001b[34mThere are 3 clusters with 12 cameras\u001b[0m\n",
      "\u001b[34mThere are 5 clusters with 13 cameras\u001b[0m\n",
      "\u001b[34mThere are 2 clusters with 16 cameras\u001b[0m\n",
      "\u001b[34mThere are 2 clusters with 17 cameras\u001b[0m\n",
      "\u001b[34mThere are 2 clusters with 18 cameras\u001b[0m\n",
      "\u001b[34mThere are 1 clusters with 19 cameras\u001b[0m\n",
      "\u001b[34mThere are 4 clusters with 20 cameras\u001b[0m\n",
      "\u001b[34mThere are 3 clusters with 22 cameras\u001b[0m\n",
      "\u001b[34mThere are 1 clusters with 23 cameras\u001b[0m\n",
      "\u001b[34mThere are 1 clusters with 24 cameras\u001b[0m\n",
      "\u001b[34mThere are 1 clusters with 25 cameras\u001b[0m\n",
      "\u001b[34mThere are 1 clusters with 26 cameras\u001b[0m\n",
      "\u001b[34mThere are 3 clusters with 28 cameras\u001b[0m\n",
      "\u001b[34mThere are 1 clusters with 35 cameras\u001b[0m\n",
      "\u001b[34mThere are 1 clusters with 37 cameras\u001b[0m\n",
      "\u001b[34mThere are 1 clusters with 40 cameras\u001b[0m\n",
      "\u001b[34mThere are 1 clusters with 42 cameras\u001b[0m\n",
      "\u001b[34mThere are 1 clusters with 45 cameras\u001b[0m\n",
      "\u001b[34mThere are 1 clusters with 46 cameras\u001b[0m\n",
      "\u001b[34mThere are 1 clusters with 49 cameras\u001b[0m\n",
      "\u001b[34mThere are 1 clusters with 50 cameras\u001b[0m\n",
      "\u001b[34mThere are 1 clusters with 63 cameras\u001b[0m\n",
      "\u001b[34mThere are 2 clusters with 68 cameras\u001b[0m\n",
      "\u001b[34mThere are 1 clusters with 168 cameras\u001b[0m\n",
      "Number of classes: 115\n",
      "\u001b[36mLearning Rate: 0.000210\u001b[0m\n",
      "encontrou modelos efficientnet. Carregando...\n",
      "encontrou modelos convnext. Carregando...\n",
      "encontrou modelos mobilenet. Carregando...\n",
      "encontrou modelos vgg16. Carregando...\n",
      "encontrou modelos resnet50. Carregando...\n",
      "encontrou modelos osnet. Carregando...\n",
      "encontrou modelos densenet121. Carregando...\n",
      "###============ Iteration number 13/90 ============###\n",
      "Extracting Online Features for efficientnet ...\n",
      "Features extracted in 186.49 seconds\n",
      "Computing jaccard distance...\n"
     ]
    },
    {
     "name": "stderr",
     "output_type": "stream",
     "text": [
      "bruteForceKnn is deprecated; call bfKnn instead\n"
     ]
    },
    {
     "name": "stdout",
     "output_type": "stream",
     "text": [
      "Jaccard distance computing time cost: 79.8969099521637\n",
      "Extracting Online Features for convnext ...\n",
      "Features extracted in 190.61 seconds\n",
      "Computing jaccard distance...\n"
     ]
    },
    {
     "name": "stderr",
     "output_type": "stream",
     "text": [
      "bruteForceKnn is deprecated; call bfKnn instead\n"
     ]
    },
    {
     "name": "stdout",
     "output_type": "stream",
     "text": [
      "Jaccard distance computing time cost: 71.8628339767456\n",
      "Extracting Online Features for mobilenet ...\n",
      "Features extracted in 185.61 seconds\n",
      "Computing jaccard distance...\n"
     ]
    },
    {
     "name": "stderr",
     "output_type": "stream",
     "text": [
      "bruteForceKnn is deprecated; call bfKnn instead\n"
     ]
    },
    {
     "name": "stdout",
     "output_type": "stream",
     "text": [
      "Jaccard distance computing time cost: 69.02826023101807\n",
      "Extracting Online Features for vgg16 ...\n",
      "Features extracted in 186.58 seconds\n",
      "Computing jaccard distance...\n"
     ]
    },
    {
     "name": "stderr",
     "output_type": "stream",
     "text": [
      "bruteForceKnn is deprecated; call bfKnn instead\n"
     ]
    },
    {
     "name": "stdout",
     "output_type": "stream",
     "text": [
      "Jaccard distance computing time cost: 72.70549631118774\n",
      "Extracting Online Features for resnet50 ...\n",
      "Features extracted in 190.17 seconds\n",
      "Computing jaccard distance...\n"
     ]
    },
    {
     "name": "stderr",
     "output_type": "stream",
     "text": [
      "bruteForceKnn is deprecated; call bfKnn instead\n"
     ]
    },
    {
     "name": "stdout",
     "output_type": "stream",
     "text": [
      "Jaccard distance computing time cost: 68.35258555412292\n",
      "Extracting Online Features for osnet ...\n",
      "Features extracted in 186.31 seconds\n",
      "Computing jaccard distance...\n"
     ]
    },
    {
     "name": "stderr",
     "output_type": "stream",
     "text": [
      "bruteForceKnn is deprecated; call bfKnn instead\n"
     ]
    },
    {
     "name": "stdout",
     "output_type": "stream",
     "text": [
      "Jaccard distance computing time cost: 69.89091634750366\n",
      "Extracting Online Features for densenet121 ...\n",
      "Features extracted in 188.60 seconds\n",
      "Computing jaccard distance...\n"
     ]
    },
    {
     "name": "stderr",
     "output_type": "stream",
     "text": [
      "bruteForceKnn is deprecated; call bfKnn instead\n"
     ]
    },
    {
     "name": "stdout",
     "output_type": "stream",
     "text": [
      "Jaccard distance computing time cost: 72.34814667701721\n",
      "Reliability: 0.044\n",
      "\u001b[32mMean Purity: 0.02052\u001b[0m\n",
      "\u001b[34mThere are 20 clusters with 4 cameras\u001b[0m\n",
      "\u001b[34mThere are 21 clusters with 5 cameras\u001b[0m\n",
      "\u001b[34mThere are 11 clusters with 6 cameras\u001b[0m\n",
      "\u001b[34mThere are 8 clusters with 7 cameras\u001b[0m\n",
      "\u001b[34mThere are 2 clusters with 8 cameras\u001b[0m\n",
      "\u001b[34mThere are 4 clusters with 9 cameras\u001b[0m\n",
      "\u001b[34mThere are 4 clusters with 10 cameras\u001b[0m\n",
      "\u001b[34mThere are 4 clusters with 11 cameras\u001b[0m\n",
      "\u001b[34mThere are 3 clusters with 12 cameras\u001b[0m\n",
      "\u001b[34mThere are 5 clusters with 13 cameras\u001b[0m\n",
      "\u001b[34mThere are 2 clusters with 16 cameras\u001b[0m\n",
      "\u001b[34mThere are 2 clusters with 17 cameras\u001b[0m\n",
      "\u001b[34mThere are 2 clusters with 18 cameras\u001b[0m\n",
      "\u001b[34mThere are 1 clusters with 19 cameras\u001b[0m\n",
      "\u001b[34mThere are 4 clusters with 20 cameras\u001b[0m\n",
      "\u001b[34mThere are 3 clusters with 22 cameras\u001b[0m\n",
      "\u001b[34mThere are 1 clusters with 23 cameras\u001b[0m\n",
      "\u001b[34mThere are 1 clusters with 24 cameras\u001b[0m\n",
      "\u001b[34mThere are 1 clusters with 25 cameras\u001b[0m\n",
      "\u001b[34mThere are 1 clusters with 26 cameras\u001b[0m\n",
      "\u001b[34mThere are 3 clusters with 28 cameras\u001b[0m\n",
      "\u001b[34mThere are 1 clusters with 35 cameras\u001b[0m\n",
      "\u001b[34mThere are 1 clusters with 37 cameras\u001b[0m\n",
      "\u001b[34mThere are 1 clusters with 40 cameras\u001b[0m\n",
      "\u001b[34mThere are 1 clusters with 42 cameras\u001b[0m\n",
      "\u001b[34mThere are 1 clusters with 45 cameras\u001b[0m\n",
      "\u001b[34mThere are 1 clusters with 46 cameras\u001b[0m\n",
      "\u001b[34mThere are 1 clusters with 49 cameras\u001b[0m\n",
      "\u001b[34mThere are 1 clusters with 50 cameras\u001b[0m\n",
      "\u001b[34mThere are 1 clusters with 63 cameras\u001b[0m\n",
      "\u001b[34mThere are 2 clusters with 68 cameras\u001b[0m\n",
      "\u001b[34mThere are 1 clusters with 168 cameras\u001b[0m\n",
      "Number of classes: 115\n",
      "\u001b[36mLearning Rate: 0.000228\u001b[0m\n",
      "encontrou modelos efficientnet. Carregando...\n",
      "encontrou modelos convnext. Carregando...\n",
      "encontrou modelos mobilenet. Carregando...\n",
      "encontrou modelos vgg16. Carregando...\n",
      "encontrou modelos resnet50. Carregando...\n",
      "encontrou modelos osnet. Carregando...\n",
      "encontrou modelos densenet121. Carregando...\n",
      "###============ Iteration number 14/90 ============###\n",
      "Extracting Online Features for efficientnet ...\n",
      "Features extracted in 186.65 seconds\n",
      "Computing jaccard distance...\n"
     ]
    },
    {
     "name": "stderr",
     "output_type": "stream",
     "text": [
      "bruteForceKnn is deprecated; call bfKnn instead\n"
     ]
    },
    {
     "name": "stdout",
     "output_type": "stream",
     "text": [
      "Jaccard distance computing time cost: 86.70477890968323\n",
      "Extracting Online Features for convnext ...\n",
      "Features extracted in 187.67 seconds\n",
      "Computing jaccard distance...\n"
     ]
    },
    {
     "name": "stderr",
     "output_type": "stream",
     "text": [
      "bruteForceKnn is deprecated; call bfKnn instead\n"
     ]
    },
    {
     "name": "stdout",
     "output_type": "stream",
     "text": [
      "Jaccard distance computing time cost: 71.07598876953125\n",
      "Extracting Online Features for mobilenet ...\n",
      "Features extracted in 187.57 seconds\n",
      "Computing jaccard distance...\n"
     ]
    },
    {
     "name": "stderr",
     "output_type": "stream",
     "text": [
      "bruteForceKnn is deprecated; call bfKnn instead\n"
     ]
    },
    {
     "name": "stdout",
     "output_type": "stream",
     "text": [
      "Jaccard distance computing time cost: 70.52931332588196\n",
      "Extracting Online Features for vgg16 ...\n",
      "Features extracted in 185.64 seconds\n",
      "Computing jaccard distance...\n"
     ]
    },
    {
     "name": "stderr",
     "output_type": "stream",
     "text": [
      "bruteForceKnn is deprecated; call bfKnn instead\n"
     ]
    },
    {
     "name": "stdout",
     "output_type": "stream",
     "text": [
      "Jaccard distance computing time cost: 71.9797933101654\n",
      "Extracting Online Features for resnet50 ...\n",
      "Features extracted in 186.89 seconds\n",
      "Computing jaccard distance...\n"
     ]
    },
    {
     "name": "stderr",
     "output_type": "stream",
     "text": [
      "bruteForceKnn is deprecated; call bfKnn instead\n"
     ]
    },
    {
     "name": "stdout",
     "output_type": "stream",
     "text": [
      "Jaccard distance computing time cost: 68.94692039489746\n",
      "Extracting Online Features for osnet ...\n",
      "Features extracted in 188.90 seconds\n",
      "Computing jaccard distance...\n"
     ]
    },
    {
     "name": "stderr",
     "output_type": "stream",
     "text": [
      "bruteForceKnn is deprecated; call bfKnn instead\n"
     ]
    },
    {
     "name": "stdout",
     "output_type": "stream",
     "text": [
      "Jaccard distance computing time cost: 75.22650933265686\n",
      "Extracting Online Features for densenet121 ...\n",
      "Features extracted in 187.05 seconds\n",
      "Computing jaccard distance...\n"
     ]
    },
    {
     "name": "stderr",
     "output_type": "stream",
     "text": [
      "bruteForceKnn is deprecated; call bfKnn instead\n"
     ]
    },
    {
     "name": "stdout",
     "output_type": "stream",
     "text": [
      "Jaccard distance computing time cost: 73.44008684158325\n",
      "Reliability: 0.044\n",
      "\u001b[32mMean Purity: 0.02052\u001b[0m\n",
      "\u001b[34mThere are 20 clusters with 4 cameras\u001b[0m\n",
      "\u001b[34mThere are 21 clusters with 5 cameras\u001b[0m\n",
      "\u001b[34mThere are 11 clusters with 6 cameras\u001b[0m\n",
      "\u001b[34mThere are 8 clusters with 7 cameras\u001b[0m\n",
      "\u001b[34mThere are 2 clusters with 8 cameras\u001b[0m\n",
      "\u001b[34mThere are 4 clusters with 9 cameras\u001b[0m\n",
      "\u001b[34mThere are 4 clusters with 10 cameras\u001b[0m\n",
      "\u001b[34mThere are 4 clusters with 11 cameras\u001b[0m\n",
      "\u001b[34mThere are 3 clusters with 12 cameras\u001b[0m\n",
      "\u001b[34mThere are 5 clusters with 13 cameras\u001b[0m\n",
      "\u001b[34mThere are 2 clusters with 16 cameras\u001b[0m\n",
      "\u001b[34mThere are 2 clusters with 17 cameras\u001b[0m\n",
      "\u001b[34mThere are 2 clusters with 18 cameras\u001b[0m\n",
      "\u001b[34mThere are 1 clusters with 19 cameras\u001b[0m\n",
      "\u001b[34mThere are 4 clusters with 20 cameras\u001b[0m\n",
      "\u001b[34mThere are 3 clusters with 22 cameras\u001b[0m\n",
      "\u001b[34mThere are 1 clusters with 23 cameras\u001b[0m\n",
      "\u001b[34mThere are 1 clusters with 24 cameras\u001b[0m\n",
      "\u001b[34mThere are 1 clusters with 25 cameras\u001b[0m\n",
      "\u001b[34mThere are 1 clusters with 26 cameras\u001b[0m\n",
      "\u001b[34mThere are 3 clusters with 28 cameras\u001b[0m\n",
      "\u001b[34mThere are 1 clusters with 35 cameras\u001b[0m\n",
      "\u001b[34mThere are 1 clusters with 37 cameras\u001b[0m\n",
      "\u001b[34mThere are 1 clusters with 40 cameras\u001b[0m\n",
      "\u001b[34mThere are 1 clusters with 42 cameras\u001b[0m\n",
      "\u001b[34mThere are 1 clusters with 45 cameras\u001b[0m\n",
      "\u001b[34mThere are 1 clusters with 46 cameras\u001b[0m\n",
      "\u001b[34mThere are 1 clusters with 49 cameras\u001b[0m\n",
      "\u001b[34mThere are 1 clusters with 50 cameras\u001b[0m\n",
      "\u001b[34mThere are 1 clusters with 63 cameras\u001b[0m\n",
      "\u001b[34mThere are 2 clusters with 68 cameras\u001b[0m\n",
      "\u001b[34mThere are 1 clusters with 168 cameras\u001b[0m\n",
      "Number of classes: 115\n",
      "\u001b[36mLearning Rate: 0.000245\u001b[0m\n",
      "encontrou modelos efficientnet. Carregando...\n",
      "encontrou modelos convnext. Carregando...\n",
      "encontrou modelos mobilenet. Carregando...\n",
      "encontrou modelos vgg16. Carregando...\n",
      "encontrou modelos resnet50. Carregando...\n",
      "encontrou modelos osnet. Carregando...\n",
      "encontrou modelos densenet121. Carregando...\n",
      "###============ Iteration number 15/90 ============###\n",
      "Extracting Online Features for efficientnet ...\n",
      "Features extracted in 188.31 seconds\n",
      "Computing jaccard distance...\n"
     ]
    },
    {
     "name": "stderr",
     "output_type": "stream",
     "text": [
      "bruteForceKnn is deprecated; call bfKnn instead\n"
     ]
    },
    {
     "name": "stdout",
     "output_type": "stream",
     "text": [
      "Jaccard distance computing time cost: 82.24362015724182\n",
      "Extracting Online Features for convnext ...\n",
      "Features extracted in 187.47 seconds\n",
      "Computing jaccard distance...\n"
     ]
    },
    {
     "name": "stderr",
     "output_type": "stream",
     "text": [
      "bruteForceKnn is deprecated; call bfKnn instead\n"
     ]
    },
    {
     "name": "stdout",
     "output_type": "stream",
     "text": [
      "Jaccard distance computing time cost: 71.09840631484985\n",
      "Extracting Online Features for mobilenet ...\n",
      "Features extracted in 185.18 seconds\n",
      "Computing jaccard distance...\n"
     ]
    },
    {
     "name": "stderr",
     "output_type": "stream",
     "text": [
      "bruteForceKnn is deprecated; call bfKnn instead\n"
     ]
    },
    {
     "name": "stdout",
     "output_type": "stream",
     "text": [
      "Jaccard distance computing time cost: 68.97875165939331\n",
      "Extracting Online Features for vgg16 ...\n",
      "Features extracted in 188.66 seconds\n",
      "Computing jaccard distance...\n"
     ]
    },
    {
     "name": "stderr",
     "output_type": "stream",
     "text": [
      "bruteForceKnn is deprecated; call bfKnn instead\n"
     ]
    },
    {
     "name": "stdout",
     "output_type": "stream",
     "text": [
      "Jaccard distance computing time cost: 70.46281719207764\n",
      "Extracting Online Features for resnet50 ...\n",
      "Features extracted in 188.78 seconds\n",
      "Computing jaccard distance...\n"
     ]
    },
    {
     "name": "stderr",
     "output_type": "stream",
     "text": [
      "bruteForceKnn is deprecated; call bfKnn instead\n"
     ]
    },
    {
     "name": "stdout",
     "output_type": "stream",
     "text": [
      "Jaccard distance computing time cost: 68.72442293167114\n",
      "Extracting Online Features for osnet ...\n",
      "Features extracted in 189.36 seconds\n",
      "Computing jaccard distance...\n"
     ]
    },
    {
     "name": "stderr",
     "output_type": "stream",
     "text": [
      "bruteForceKnn is deprecated; call bfKnn instead\n"
     ]
    },
    {
     "name": "stdout",
     "output_type": "stream",
     "text": [
      "Jaccard distance computing time cost: 71.00799775123596\n",
      "Extracting Online Features for densenet121 ...\n",
      "Features extracted in 190.20 seconds\n",
      "Computing jaccard distance...\n"
     ]
    },
    {
     "name": "stderr",
     "output_type": "stream",
     "text": [
      "bruteForceKnn is deprecated; call bfKnn instead\n"
     ]
    },
    {
     "name": "stdout",
     "output_type": "stream",
     "text": [
      "Jaccard distance computing time cost: 72.08079886436462\n",
      "Reliability: 0.044\n",
      "\u001b[32mMean Purity: 0.02052\u001b[0m\n",
      "\u001b[34mThere are 20 clusters with 4 cameras\u001b[0m\n",
      "\u001b[34mThere are 21 clusters with 5 cameras\u001b[0m\n",
      "\u001b[34mThere are 11 clusters with 6 cameras\u001b[0m\n",
      "\u001b[34mThere are 8 clusters with 7 cameras\u001b[0m\n",
      "\u001b[34mThere are 2 clusters with 8 cameras\u001b[0m\n",
      "\u001b[34mThere are 4 clusters with 9 cameras\u001b[0m\n",
      "\u001b[34mThere are 4 clusters with 10 cameras\u001b[0m\n",
      "\u001b[34mThere are 4 clusters with 11 cameras\u001b[0m\n",
      "\u001b[34mThere are 3 clusters with 12 cameras\u001b[0m\n",
      "\u001b[34mThere are 5 clusters with 13 cameras\u001b[0m\n",
      "\u001b[34mThere are 2 clusters with 16 cameras\u001b[0m\n",
      "\u001b[34mThere are 2 clusters with 17 cameras\u001b[0m\n",
      "\u001b[34mThere are 2 clusters with 18 cameras\u001b[0m\n",
      "\u001b[34mThere are 1 clusters with 19 cameras\u001b[0m\n",
      "\u001b[34mThere are 4 clusters with 20 cameras\u001b[0m\n",
      "\u001b[34mThere are 3 clusters with 22 cameras\u001b[0m\n",
      "\u001b[34mThere are 1 clusters with 23 cameras\u001b[0m\n",
      "\u001b[34mThere are 1 clusters with 24 cameras\u001b[0m\n",
      "\u001b[34mThere are 1 clusters with 25 cameras\u001b[0m\n",
      "\u001b[34mThere are 1 clusters with 26 cameras\u001b[0m\n",
      "\u001b[34mThere are 3 clusters with 28 cameras\u001b[0m\n",
      "\u001b[34mThere are 1 clusters with 35 cameras\u001b[0m\n",
      "\u001b[34mThere are 1 clusters with 37 cameras\u001b[0m\n",
      "\u001b[34mThere are 1 clusters with 40 cameras\u001b[0m\n",
      "\u001b[34mThere are 1 clusters with 42 cameras\u001b[0m\n",
      "\u001b[34mThere are 1 clusters with 45 cameras\u001b[0m\n",
      "\u001b[34mThere are 1 clusters with 46 cameras\u001b[0m\n",
      "\u001b[34mThere are 1 clusters with 49 cameras\u001b[0m\n",
      "\u001b[34mThere are 1 clusters with 50 cameras\u001b[0m\n",
      "\u001b[34mThere are 1 clusters with 63 cameras\u001b[0m\n",
      "\u001b[34mThere are 2 clusters with 68 cameras\u001b[0m\n",
      "\u001b[34mThere are 1 clusters with 168 cameras\u001b[0m\n",
      "Number of classes: 115\n",
      "\u001b[36mLearning Rate: 0.000263\u001b[0m\n",
      "encontrou modelos efficientnet. Carregando...\n",
      "encontrou modelos convnext. Carregando...\n",
      "encontrou modelos mobilenet. Carregando...\n",
      "encontrou modelos vgg16. Carregando...\n",
      "encontrou modelos resnet50. Carregando...\n",
      "encontrou modelos osnet. Carregando...\n",
      "encontrou modelos densenet121. Carregando...\n",
      "\u001b[33mValidating online efficientnet ...\u001b[0m\n",
      "Features extracted in 58.47 seconds\n",
      "Features extracted in 116.97 seconds\n",
      "Computing CMC and mAP ...\n",
      "** Results **\n",
      "mAP: 66.96%\n",
      "CMC curve\n",
      "Rank-1  : 49.76%\n",
      "Rank-5  : 88.29%\n",
      "Rank-10 : 96.33%\n",
      "Rank-20 : 99.32%\n",
      "\u001b[33mValidating momentum efficientnet ...\u001b[0m\n",
      "Features extracted in 58.34 seconds\n",
      "Features extracted in 113.86 seconds\n",
      "Computing CMC and mAP ...\n",
      "** Results **\n",
      "mAP: 66.33%\n",
      "CMC curve\n",
      "Rank-1  : 47.72%\n",
      "Rank-5  : 83.15%\n",
      "Rank-10 : 91.82%\n",
      "Rank-20 : 96.73%\n",
      "\u001b[33mValidating online convnext ...\u001b[0m\n",
      "Features extracted in 58.49 seconds\n",
      "Features extracted in 115.69 seconds\n",
      "Computing CMC and mAP ...\n",
      "** Results **\n",
      "mAP: 65.77%\n",
      "CMC curve\n",
      "Rank-1  : 46.59%\n",
      "Rank-5  : 75.46%\n",
      "Rank-10 : 86.74%\n",
      "Rank-20 : 94.66%\n",
      "\u001b[33mValidating momentum convnext ...\u001b[0m\n",
      "Features extracted in 58.71 seconds\n",
      "Features extracted in 119.50 seconds\n",
      "Computing CMC and mAP ...\n",
      "** Results **\n",
      "mAP: 64.96%\n",
      "CMC curve\n",
      "Rank-1  : 45.63%\n",
      "Rank-5  : 75.04%\n",
      "Rank-10 : 87.30%\n",
      "Rank-20 : 95.01%\n",
      "\u001b[33mValidating online mobilenet ...\u001b[0m\n",
      "Features extracted in 56.99 seconds\n",
      "Features extracted in 116.50 seconds\n",
      "Computing CMC and mAP ...\n",
      "** Results **\n",
      "mAP: 66.23%\n",
      "CMC curve\n",
      "Rank-1  : 51.24%\n",
      "Rank-5  : 86.31%\n",
      "Rank-10 : 94.85%\n",
      "Rank-20 : 99.15%\n",
      "\u001b[33mValidating momentum mobilenet ...\u001b[0m\n",
      "Features extracted in 58.73 seconds\n",
      "Features extracted in 116.39 seconds\n",
      "Computing CMC and mAP ...\n",
      "** Results **\n",
      "mAP: 66.41%\n",
      "CMC curve\n",
      "Rank-1  : 52.73%\n",
      "Rank-5  : 85.40%\n",
      "Rank-10 : 93.79%\n",
      "Rank-20 : 98.57%\n",
      "\u001b[33mValidating online vgg16 ...\u001b[0m\n",
      "Features extracted in 58.76 seconds\n",
      "Features extracted in 116.58 seconds\n",
      "Computing CMC and mAP ...\n",
      "** Results **\n",
      "mAP: 65.47%\n",
      "CMC curve\n",
      "Rank-1  : 43.56%\n",
      "Rank-5  : 75.41%\n",
      "Rank-10 : 85.98%\n",
      "Rank-20 : 92.95%\n",
      "\u001b[33mValidating momentum vgg16 ...\u001b[0m\n",
      "Features extracted in 58.79 seconds\n",
      "Features extracted in 116.08 seconds\n",
      "Computing CMC and mAP ...\n",
      "** Results **\n",
      "mAP: 65.67%\n",
      "CMC curve\n",
      "Rank-1  : 45.75%\n",
      "Rank-5  : 82.00%\n",
      "Rank-10 : 90.62%\n",
      "Rank-20 : 96.36%\n",
      "\u001b[33mValidating online resnet50 ...\u001b[0m\n",
      "Features extracted in 59.62 seconds\n",
      "Features extracted in 114.78 seconds\n",
      "Computing CMC and mAP ...\n",
      "** Results **\n",
      "mAP: 65.64%\n",
      "CMC curve\n",
      "Rank-1  : 44.24%\n",
      "Rank-5  : 67.84%\n",
      "Rank-10 : 75.44%\n",
      "Rank-20 : 82.42%\n",
      "\u001b[33mValidating momentum resnet50 ...\u001b[0m\n",
      "Features extracted in 59.96 seconds\n",
      "Features extracted in 117.72 seconds\n",
      "Computing CMC and mAP ...\n",
      "** Results **\n",
      "mAP: 64.94%\n",
      "CMC curve\n",
      "Rank-1  : 43.33%\n",
      "Rank-5  : 71.52%\n",
      "Rank-10 : 80.95%\n",
      "Rank-20 : 90.36%\n",
      "\u001b[33mValidating online osnet ...\u001b[0m\n",
      "Features extracted in 60.15 seconds\n",
      "Features extracted in 114.53 seconds\n",
      "Computing CMC and mAP ...\n",
      "** Results **\n",
      "mAP: 66.87%\n",
      "CMC curve\n",
      "Rank-1  : 48.11%\n",
      "Rank-5  : 84.70%\n",
      "Rank-10 : 95.19%\n",
      "Rank-20 : 99.23%\n",
      "\u001b[33mValidating momentum osnet ...\u001b[0m\n",
      "Features extracted in 59.47 seconds\n",
      "Features extracted in 115.56 seconds\n",
      "Computing CMC and mAP ...\n",
      "** Results **\n",
      "mAP: 67.06%\n",
      "CMC curve\n",
      "Rank-1  : 51.39%\n",
      "Rank-5  : 86.67%\n",
      "Rank-10 : 94.96%\n",
      "Rank-20 : 98.71%\n",
      "\u001b[33mValidating online densenet121 ...\u001b[0m\n",
      "Features extracted in 59.71 seconds\n",
      "Features extracted in 115.73 seconds\n",
      "Computing CMC and mAP ...\n",
      "** Results **\n",
      "mAP: 65.34%\n",
      "CMC curve\n",
      "Rank-1  : 45.42%\n",
      "Rank-5  : 74.47%\n",
      "Rank-10 : 84.90%\n",
      "Rank-20 : 93.93%\n",
      "\u001b[33mValidating momentum densenet121 ...\u001b[0m\n",
      "Features extracted in 60.54 seconds\n",
      "Features extracted in 118.96 seconds\n",
      "Computing CMC and mAP ...\n",
      "** Results **\n",
      "mAP: 65.71%\n",
      "CMC curve\n",
      "Rank-1  : 46.36%\n",
      "Rank-5  : 79.22%\n",
      "Rank-10 : 88.80%\n",
      "Rank-20 : 95.19%\n",
      "\u001b[33mValidating ensembled with online models ...\u001b[0m\n",
      "Computing CMC and mAP ...\n",
      "** Results **\n",
      "mAP: 65.61%\n",
      "Ranks:\n",
      "Rank-1  : 45.50%\n",
      "Rank-5  : 70.24%\n",
      "Rank-10 : 79.04%\n",
      "\u001b[33mValidating ensembled with momentum models ...\u001b[0m\n",
      "Computing CMC and mAP ...\n",
      "** Results **\n",
      "mAP: 65.36%\n",
      "Ranks:\n",
      "Rank-1  : 43.96%\n",
      "Rank-5  : 75.79%\n",
      "Rank-10 : 85.67%\n",
      "###============ Iteration number 16/90 ============###\n",
      "Extracting Online Features for efficientnet ...\n",
      "Features extracted in 189.28 seconds\n",
      "Computing jaccard distance...\n"
     ]
    },
    {
     "name": "stderr",
     "output_type": "stream",
     "text": [
      "bruteForceKnn is deprecated; call bfKnn instead\n"
     ]
    },
    {
     "name": "stdout",
     "output_type": "stream",
     "text": [
      "Jaccard distance computing time cost: 83.42401266098022\n",
      "Extracting Online Features for convnext ...\n",
      "Features extracted in 191.64 seconds\n",
      "Computing jaccard distance...\n"
     ]
    },
    {
     "name": "stderr",
     "output_type": "stream",
     "text": [
      "bruteForceKnn is deprecated; call bfKnn instead\n"
     ]
    },
    {
     "name": "stdout",
     "output_type": "stream",
     "text": [
      "Jaccard distance computing time cost: 82.11091828346252\n",
      "Extracting Online Features for mobilenet ...\n",
      "Features extracted in 189.71 seconds\n",
      "Computing jaccard distance...\n"
     ]
    },
    {
     "name": "stderr",
     "output_type": "stream",
     "text": [
      "bruteForceKnn is deprecated; call bfKnn instead\n"
     ]
    },
    {
     "name": "stdout",
     "output_type": "stream",
     "text": [
      "Jaccard distance computing time cost: 73.26594638824463\n",
      "Extracting Online Features for vgg16 ...\n",
      "Features extracted in 191.27 seconds\n",
      "Computing jaccard distance...\n"
     ]
    },
    {
     "name": "stderr",
     "output_type": "stream",
     "text": [
      "bruteForceKnn is deprecated; call bfKnn instead\n"
     ]
    },
    {
     "name": "stdout",
     "output_type": "stream",
     "text": [
      "Jaccard distance computing time cost: 71.27609872817993\n",
      "Extracting Online Features for resnet50 ...\n",
      "Features extracted in 189.78 seconds\n",
      "Computing jaccard distance...\n"
     ]
    },
    {
     "name": "stderr",
     "output_type": "stream",
     "text": [
      "bruteForceKnn is deprecated; call bfKnn instead\n"
     ]
    },
    {
     "name": "stdout",
     "output_type": "stream",
     "text": [
      "Jaccard distance computing time cost: 68.10685634613037\n",
      "Extracting Online Features for osnet ...\n",
      "Features extracted in 190.79 seconds\n",
      "Computing jaccard distance...\n"
     ]
    },
    {
     "name": "stderr",
     "output_type": "stream",
     "text": [
      "bruteForceKnn is deprecated; call bfKnn instead\n"
     ]
    },
    {
     "name": "stdout",
     "output_type": "stream",
     "text": [
      "Jaccard distance computing time cost: 72.56444001197815\n",
      "Extracting Online Features for densenet121 ...\n",
      "Features extracted in 189.00 seconds\n",
      "Computing jaccard distance...\n"
     ]
    },
    {
     "name": "stderr",
     "output_type": "stream",
     "text": [
      "bruteForceKnn is deprecated; call bfKnn instead\n"
     ]
    },
    {
     "name": "stdout",
     "output_type": "stream",
     "text": [
      "Jaccard distance computing time cost: 75.35811281204224\n",
      "Reliability: 0.044\n",
      "\u001b[32mMean Purity: 0.02052\u001b[0m\n",
      "\u001b[34mThere are 20 clusters with 4 cameras\u001b[0m\n",
      "\u001b[34mThere are 21 clusters with 5 cameras\u001b[0m\n",
      "\u001b[34mThere are 11 clusters with 6 cameras\u001b[0m\n",
      "\u001b[34mThere are 8 clusters with 7 cameras\u001b[0m\n",
      "\u001b[34mThere are 2 clusters with 8 cameras\u001b[0m\n",
      "\u001b[34mThere are 4 clusters with 9 cameras\u001b[0m\n",
      "\u001b[34mThere are 4 clusters with 10 cameras\u001b[0m\n",
      "\u001b[34mThere are 4 clusters with 11 cameras\u001b[0m\n",
      "\u001b[34mThere are 3 clusters with 12 cameras\u001b[0m\n",
      "\u001b[34mThere are 5 clusters with 13 cameras\u001b[0m\n",
      "\u001b[34mThere are 2 clusters with 16 cameras\u001b[0m\n",
      "\u001b[34mThere are 2 clusters with 17 cameras\u001b[0m\n",
      "\u001b[34mThere are 2 clusters with 18 cameras\u001b[0m\n",
      "\u001b[34mThere are 1 clusters with 19 cameras\u001b[0m\n",
      "\u001b[34mThere are 4 clusters with 20 cameras\u001b[0m\n",
      "\u001b[34mThere are 3 clusters with 22 cameras\u001b[0m\n",
      "\u001b[34mThere are 1 clusters with 23 cameras\u001b[0m\n",
      "\u001b[34mThere are 1 clusters with 24 cameras\u001b[0m\n",
      "\u001b[34mThere are 1 clusters with 25 cameras\u001b[0m\n",
      "\u001b[34mThere are 1 clusters with 26 cameras\u001b[0m\n",
      "\u001b[34mThere are 3 clusters with 28 cameras\u001b[0m\n",
      "\u001b[34mThere are 1 clusters with 35 cameras\u001b[0m\n",
      "\u001b[34mThere are 1 clusters with 37 cameras\u001b[0m\n",
      "\u001b[34mThere are 1 clusters with 40 cameras\u001b[0m\n",
      "\u001b[34mThere are 1 clusters with 42 cameras\u001b[0m\n",
      "\u001b[34mThere are 1 clusters with 45 cameras\u001b[0m\n",
      "\u001b[34mThere are 1 clusters with 46 cameras\u001b[0m\n",
      "\u001b[34mThere are 1 clusters with 49 cameras\u001b[0m\n",
      "\u001b[34mThere are 1 clusters with 50 cameras\u001b[0m\n",
      "\u001b[34mThere are 1 clusters with 63 cameras\u001b[0m\n",
      "\u001b[34mThere are 2 clusters with 68 cameras\u001b[0m\n",
      "\u001b[34mThere are 1 clusters with 168 cameras\u001b[0m\n",
      "Number of classes: 115\n",
      "\u001b[36mLearning Rate: 0.000280\u001b[0m\n",
      "encontrou modelos efficientnet. Carregando...\n",
      "encontrou modelos convnext. Carregando...\n",
      "encontrou modelos mobilenet. Carregando...\n",
      "encontrou modelos vgg16. Carregando...\n",
      "encontrou modelos resnet50. Carregando...\n",
      "encontrou modelos osnet. Carregando...\n",
      "encontrou modelos densenet121. Carregando...\n",
      "###============ Iteration number 17/90 ============###\n",
      "Extracting Online Features for efficientnet ...\n",
      "Features extracted in 187.50 seconds\n",
      "Computing jaccard distance...\n"
     ]
    },
    {
     "name": "stderr",
     "output_type": "stream",
     "text": [
      "bruteForceKnn is deprecated; call bfKnn instead\n"
     ]
    },
    {
     "name": "stdout",
     "output_type": "stream",
     "text": [
      "Jaccard distance computing time cost: 78.6868736743927\n",
      "Extracting Online Features for convnext ...\n",
      "Features extracted in 189.92 seconds\n",
      "Computing jaccard distance...\n"
     ]
    },
    {
     "name": "stderr",
     "output_type": "stream",
     "text": [
      "bruteForceKnn is deprecated; call bfKnn instead\n"
     ]
    },
    {
     "name": "stdout",
     "output_type": "stream",
     "text": [
      "Jaccard distance computing time cost: 71.98839950561523\n",
      "Extracting Online Features for mobilenet ...\n",
      "Features extracted in 187.78 seconds\n",
      "Computing jaccard distance...\n"
     ]
    },
    {
     "name": "stderr",
     "output_type": "stream",
     "text": [
      "bruteForceKnn is deprecated; call bfKnn instead\n"
     ]
    },
    {
     "name": "stdout",
     "output_type": "stream",
     "text": [
      "Jaccard distance computing time cost: 74.70606255531311\n",
      "Extracting Online Features for vgg16 ...\n",
      "Features extracted in 186.88 seconds\n",
      "Computing jaccard distance...\n"
     ]
    },
    {
     "name": "stderr",
     "output_type": "stream",
     "text": [
      "bruteForceKnn is deprecated; call bfKnn instead\n"
     ]
    },
    {
     "name": "stdout",
     "output_type": "stream",
     "text": [
      "Jaccard distance computing time cost: 71.30510640144348\n",
      "Extracting Online Features for resnet50 ...\n",
      "Features extracted in 186.68 seconds\n",
      "Computing jaccard distance...\n"
     ]
    },
    {
     "name": "stderr",
     "output_type": "stream",
     "text": [
      "bruteForceKnn is deprecated; call bfKnn instead\n"
     ]
    },
    {
     "name": "stdout",
     "output_type": "stream",
     "text": [
      "Jaccard distance computing time cost: 72.19210720062256\n",
      "Extracting Online Features for osnet ...\n",
      "Features extracted in 192.81 seconds\n",
      "Computing jaccard distance...\n"
     ]
    },
    {
     "name": "stderr",
     "output_type": "stream",
     "text": [
      "bruteForceKnn is deprecated; call bfKnn instead\n"
     ]
    },
    {
     "name": "stdout",
     "output_type": "stream",
     "text": [
      "Jaccard distance computing time cost: 72.70580458641052\n",
      "Extracting Online Features for densenet121 ...\n",
      "Features extracted in 188.21 seconds\n",
      "Computing jaccard distance...\n"
     ]
    },
    {
     "name": "stderr",
     "output_type": "stream",
     "text": [
      "bruteForceKnn is deprecated; call bfKnn instead\n"
     ]
    },
    {
     "name": "stdout",
     "output_type": "stream",
     "text": [
      "Jaccard distance computing time cost: 72.32661128044128\n",
      "Reliability: 0.044\n",
      "\u001b[32mMean Purity: 0.02052\u001b[0m\n",
      "\u001b[34mThere are 20 clusters with 4 cameras\u001b[0m\n",
      "\u001b[34mThere are 21 clusters with 5 cameras\u001b[0m\n",
      "\u001b[34mThere are 11 clusters with 6 cameras\u001b[0m\n",
      "\u001b[34mThere are 8 clusters with 7 cameras\u001b[0m\n",
      "\u001b[34mThere are 2 clusters with 8 cameras\u001b[0m\n",
      "\u001b[34mThere are 4 clusters with 9 cameras\u001b[0m\n",
      "\u001b[34mThere are 4 clusters with 10 cameras\u001b[0m\n",
      "\u001b[34mThere are 4 clusters with 11 cameras\u001b[0m\n",
      "\u001b[34mThere are 3 clusters with 12 cameras\u001b[0m\n",
      "\u001b[34mThere are 5 clusters with 13 cameras\u001b[0m\n",
      "\u001b[34mThere are 2 clusters with 16 cameras\u001b[0m\n",
      "\u001b[34mThere are 2 clusters with 17 cameras\u001b[0m\n",
      "\u001b[34mThere are 2 clusters with 18 cameras\u001b[0m\n",
      "\u001b[34mThere are 1 clusters with 19 cameras\u001b[0m\n",
      "\u001b[34mThere are 4 clusters with 20 cameras\u001b[0m\n",
      "\u001b[34mThere are 3 clusters with 22 cameras\u001b[0m\n",
      "\u001b[34mThere are 1 clusters with 23 cameras\u001b[0m\n",
      "\u001b[34mThere are 1 clusters with 24 cameras\u001b[0m\n",
      "\u001b[34mThere are 1 clusters with 25 cameras\u001b[0m\n",
      "\u001b[34mThere are 1 clusters with 26 cameras\u001b[0m\n",
      "\u001b[34mThere are 3 clusters with 28 cameras\u001b[0m\n",
      "\u001b[34mThere are 1 clusters with 35 cameras\u001b[0m\n",
      "\u001b[34mThere are 1 clusters with 37 cameras\u001b[0m\n",
      "\u001b[34mThere are 1 clusters with 40 cameras\u001b[0m\n",
      "\u001b[34mThere are 1 clusters with 42 cameras\u001b[0m\n",
      "\u001b[34mThere are 1 clusters with 45 cameras\u001b[0m\n",
      "\u001b[34mThere are 1 clusters with 46 cameras\u001b[0m\n",
      "\u001b[34mThere are 1 clusters with 49 cameras\u001b[0m\n",
      "\u001b[34mThere are 1 clusters with 50 cameras\u001b[0m\n",
      "\u001b[34mThere are 1 clusters with 63 cameras\u001b[0m\n",
      "\u001b[34mThere are 2 clusters with 68 cameras\u001b[0m\n",
      "\u001b[34mThere are 1 clusters with 168 cameras\u001b[0m\n",
      "Number of classes: 115\n",
      "\u001b[36mLearning Rate: 0.000298\u001b[0m\n",
      "encontrou modelos efficientnet. Carregando...\n",
      "encontrou modelos convnext. Carregando...\n",
      "encontrou modelos mobilenet. Carregando...\n",
      "encontrou modelos vgg16. Carregando...\n",
      "encontrou modelos resnet50. Carregando...\n",
      "encontrou modelos osnet. Carregando...\n",
      "encontrou modelos densenet121. Carregando...\n",
      "###============ Iteration number 18/90 ============###\n",
      "Extracting Online Features for efficientnet ...\n",
      "Features extracted in 187.14 seconds\n",
      "Computing jaccard distance...\n"
     ]
    },
    {
     "name": "stderr",
     "output_type": "stream",
     "text": [
      "bruteForceKnn is deprecated; call bfKnn instead\n"
     ]
    },
    {
     "name": "stdout",
     "output_type": "stream",
     "text": [
      "Jaccard distance computing time cost: 79.65620470046997\n",
      "Extracting Online Features for convnext ...\n",
      "Features extracted in 188.58 seconds\n",
      "Computing jaccard distance...\n"
     ]
    },
    {
     "name": "stderr",
     "output_type": "stream",
     "text": [
      "bruteForceKnn is deprecated; call bfKnn instead\n"
     ]
    },
    {
     "name": "stdout",
     "output_type": "stream",
     "text": [
      "Jaccard distance computing time cost: 72.07408881187439\n",
      "Extracting Online Features for mobilenet ...\n",
      "Features extracted in 188.64 seconds\n",
      "Computing jaccard distance...\n"
     ]
    },
    {
     "name": "stderr",
     "output_type": "stream",
     "text": [
      "bruteForceKnn is deprecated; call bfKnn instead\n"
     ]
    },
    {
     "name": "stdout",
     "output_type": "stream",
     "text": [
      "Jaccard distance computing time cost: 68.78677749633789\n",
      "Extracting Online Features for vgg16 ...\n",
      "Features extracted in 189.63 seconds\n",
      "Computing jaccard distance...\n"
     ]
    },
    {
     "name": "stderr",
     "output_type": "stream",
     "text": [
      "bruteForceKnn is deprecated; call bfKnn instead\n"
     ]
    },
    {
     "name": "stdout",
     "output_type": "stream",
     "text": [
      "Jaccard distance computing time cost: 70.94316005706787\n",
      "Extracting Online Features for resnet50 ...\n",
      "Features extracted in 190.36 seconds\n",
      "Computing jaccard distance...\n"
     ]
    },
    {
     "name": "stderr",
     "output_type": "stream",
     "text": [
      "bruteForceKnn is deprecated; call bfKnn instead\n"
     ]
    },
    {
     "name": "stdout",
     "output_type": "stream",
     "text": [
      "Jaccard distance computing time cost: 69.89755368232727\n",
      "Extracting Online Features for osnet ...\n",
      "Features extracted in 186.04 seconds\n",
      "Computing jaccard distance...\n"
     ]
    },
    {
     "name": "stderr",
     "output_type": "stream",
     "text": [
      "bruteForceKnn is deprecated; call bfKnn instead\n"
     ]
    },
    {
     "name": "stdout",
     "output_type": "stream",
     "text": [
      "Jaccard distance computing time cost: 69.21714615821838\n",
      "Extracting Online Features for densenet121 ...\n",
      "Features extracted in 188.62 seconds\n",
      "Computing jaccard distance...\n"
     ]
    },
    {
     "name": "stderr",
     "output_type": "stream",
     "text": [
      "bruteForceKnn is deprecated; call bfKnn instead\n"
     ]
    },
    {
     "name": "stdout",
     "output_type": "stream",
     "text": [
      "Jaccard distance computing time cost: 70.86609053611755\n",
      "Reliability: 0.044\n",
      "\u001b[32mMean Purity: 0.02052\u001b[0m\n",
      "\u001b[34mThere are 20 clusters with 4 cameras\u001b[0m\n",
      "\u001b[34mThere are 21 clusters with 5 cameras\u001b[0m\n",
      "\u001b[34mThere are 11 clusters with 6 cameras\u001b[0m\n",
      "\u001b[34mThere are 8 clusters with 7 cameras\u001b[0m\n",
      "\u001b[34mThere are 2 clusters with 8 cameras\u001b[0m\n",
      "\u001b[34mThere are 4 clusters with 9 cameras\u001b[0m\n",
      "\u001b[34mThere are 4 clusters with 10 cameras\u001b[0m\n",
      "\u001b[34mThere are 4 clusters with 11 cameras\u001b[0m\n",
      "\u001b[34mThere are 3 clusters with 12 cameras\u001b[0m\n",
      "\u001b[34mThere are 5 clusters with 13 cameras\u001b[0m\n",
      "\u001b[34mThere are 2 clusters with 16 cameras\u001b[0m\n",
      "\u001b[34mThere are 2 clusters with 17 cameras\u001b[0m\n",
      "\u001b[34mThere are 2 clusters with 18 cameras\u001b[0m\n",
      "\u001b[34mThere are 1 clusters with 19 cameras\u001b[0m\n",
      "\u001b[34mThere are 4 clusters with 20 cameras\u001b[0m\n",
      "\u001b[34mThere are 3 clusters with 22 cameras\u001b[0m\n",
      "\u001b[34mThere are 1 clusters with 23 cameras\u001b[0m\n",
      "\u001b[34mThere are 1 clusters with 24 cameras\u001b[0m\n",
      "\u001b[34mThere are 1 clusters with 25 cameras\u001b[0m\n",
      "\u001b[34mThere are 1 clusters with 26 cameras\u001b[0m\n",
      "\u001b[34mThere are 3 clusters with 28 cameras\u001b[0m\n",
      "\u001b[34mThere are 1 clusters with 35 cameras\u001b[0m\n",
      "\u001b[34mThere are 1 clusters with 37 cameras\u001b[0m\n",
      "\u001b[34mThere are 1 clusters with 40 cameras\u001b[0m\n",
      "\u001b[34mThere are 1 clusters with 42 cameras\u001b[0m\n",
      "\u001b[34mThere are 1 clusters with 45 cameras\u001b[0m\n",
      "\u001b[34mThere are 1 clusters with 46 cameras\u001b[0m\n",
      "\u001b[34mThere are 1 clusters with 49 cameras\u001b[0m\n",
      "\u001b[34mThere are 1 clusters with 50 cameras\u001b[0m\n",
      "\u001b[34mThere are 1 clusters with 63 cameras\u001b[0m\n",
      "\u001b[34mThere are 2 clusters with 68 cameras\u001b[0m\n",
      "\u001b[34mThere are 1 clusters with 168 cameras\u001b[0m\n",
      "Number of classes: 115\n",
      "\u001b[36mLearning Rate: 0.000315\u001b[0m\n",
      "encontrou modelos efficientnet. Carregando...\n",
      "encontrou modelos convnext. Carregando...\n",
      "encontrou modelos mobilenet. Carregando...\n",
      "encontrou modelos vgg16. Carregando...\n",
      "encontrou modelos resnet50. Carregando...\n",
      "encontrou modelos osnet. Carregando...\n",
      "encontrou modelos densenet121. Carregando...\n",
      "###============ Iteration number 19/90 ============###\n",
      "Extracting Online Features for efficientnet ...\n",
      "Features extracted in 190.00 seconds\n",
      "Computing jaccard distance...\n"
     ]
    },
    {
     "name": "stderr",
     "output_type": "stream",
     "text": [
      "bruteForceKnn is deprecated; call bfKnn instead\n"
     ]
    },
    {
     "name": "stdout",
     "output_type": "stream",
     "text": [
      "Jaccard distance computing time cost: 79.97982335090637\n",
      "Extracting Online Features for convnext ...\n",
      "Features extracted in 189.31 seconds\n",
      "Computing jaccard distance...\n"
     ]
    },
    {
     "name": "stderr",
     "output_type": "stream",
     "text": [
      "bruteForceKnn is deprecated; call bfKnn instead\n"
     ]
    },
    {
     "name": "stdout",
     "output_type": "stream",
     "text": [
      "Jaccard distance computing time cost: 70.4310257434845\n",
      "Extracting Online Features for mobilenet ...\n",
      "Features extracted in 187.24 seconds\n",
      "Computing jaccard distance...\n"
     ]
    },
    {
     "name": "stderr",
     "output_type": "stream",
     "text": [
      "bruteForceKnn is deprecated; call bfKnn instead\n"
     ]
    },
    {
     "name": "stdout",
     "output_type": "stream",
     "text": [
      "Jaccard distance computing time cost: 70.9387457370758\n",
      "Extracting Online Features for vgg16 ...\n",
      "Features extracted in 186.24 seconds\n",
      "Computing jaccard distance...\n"
     ]
    },
    {
     "name": "stderr",
     "output_type": "stream",
     "text": [
      "bruteForceKnn is deprecated; call bfKnn instead\n"
     ]
    },
    {
     "name": "stdout",
     "output_type": "stream",
     "text": [
      "Jaccard distance computing time cost: 76.94255375862122\n",
      "Extracting Online Features for resnet50 ...\n",
      "Features extracted in 190.52 seconds\n",
      "Computing jaccard distance...\n"
     ]
    },
    {
     "name": "stderr",
     "output_type": "stream",
     "text": [
      "bruteForceKnn is deprecated; call bfKnn instead\n"
     ]
    },
    {
     "name": "stdout",
     "output_type": "stream",
     "text": [
      "Jaccard distance computing time cost: 76.94449520111084\n",
      "Extracting Online Features for osnet ...\n",
      "Features extracted in 187.65 seconds\n",
      "Computing jaccard distance...\n"
     ]
    },
    {
     "name": "stderr",
     "output_type": "stream",
     "text": [
      "bruteForceKnn is deprecated; call bfKnn instead\n"
     ]
    },
    {
     "name": "stdout",
     "output_type": "stream",
     "text": [
      "Jaccard distance computing time cost: 77.350656747818\n",
      "Extracting Online Features for densenet121 ...\n",
      "Features extracted in 188.15 seconds\n",
      "Computing jaccard distance...\n"
     ]
    },
    {
     "name": "stderr",
     "output_type": "stream",
     "text": [
      "bruteForceKnn is deprecated; call bfKnn instead\n"
     ]
    },
    {
     "name": "stdout",
     "output_type": "stream",
     "text": [
      "Jaccard distance computing time cost: 71.24550008773804\n",
      "Reliability: 0.044\n",
      "\u001b[32mMean Purity: 0.02052\u001b[0m\n",
      "\u001b[34mThere are 20 clusters with 4 cameras\u001b[0m\n",
      "\u001b[34mThere are 21 clusters with 5 cameras\u001b[0m\n",
      "\u001b[34mThere are 11 clusters with 6 cameras\u001b[0m\n",
      "\u001b[34mThere are 8 clusters with 7 cameras\u001b[0m\n",
      "\u001b[34mThere are 2 clusters with 8 cameras\u001b[0m\n",
      "\u001b[34mThere are 4 clusters with 9 cameras\u001b[0m\n",
      "\u001b[34mThere are 4 clusters with 10 cameras\u001b[0m\n",
      "\u001b[34mThere are 4 clusters with 11 cameras\u001b[0m\n",
      "\u001b[34mThere are 3 clusters with 12 cameras\u001b[0m\n",
      "\u001b[34mThere are 5 clusters with 13 cameras\u001b[0m\n",
      "\u001b[34mThere are 2 clusters with 16 cameras\u001b[0m\n",
      "\u001b[34mThere are 2 clusters with 17 cameras\u001b[0m\n",
      "\u001b[34mThere are 2 clusters with 18 cameras\u001b[0m\n",
      "\u001b[34mThere are 1 clusters with 19 cameras\u001b[0m\n",
      "\u001b[34mThere are 4 clusters with 20 cameras\u001b[0m\n",
      "\u001b[34mThere are 3 clusters with 22 cameras\u001b[0m\n",
      "\u001b[34mThere are 1 clusters with 23 cameras\u001b[0m\n",
      "\u001b[34mThere are 1 clusters with 24 cameras\u001b[0m\n",
      "\u001b[34mThere are 1 clusters with 25 cameras\u001b[0m\n",
      "\u001b[34mThere are 1 clusters with 26 cameras\u001b[0m\n",
      "\u001b[34mThere are 3 clusters with 28 cameras\u001b[0m\n",
      "\u001b[34mThere are 1 clusters with 35 cameras\u001b[0m\n",
      "\u001b[34mThere are 1 clusters with 37 cameras\u001b[0m\n",
      "\u001b[34mThere are 1 clusters with 40 cameras\u001b[0m\n",
      "\u001b[34mThere are 1 clusters with 42 cameras\u001b[0m\n",
      "\u001b[34mThere are 1 clusters with 45 cameras\u001b[0m\n",
      "\u001b[34mThere are 1 clusters with 46 cameras\u001b[0m\n",
      "\u001b[34mThere are 1 clusters with 49 cameras\u001b[0m\n",
      "\u001b[34mThere are 1 clusters with 50 cameras\u001b[0m\n",
      "\u001b[34mThere are 1 clusters with 63 cameras\u001b[0m\n",
      "\u001b[34mThere are 2 clusters with 68 cameras\u001b[0m\n",
      "\u001b[34mThere are 1 clusters with 168 cameras\u001b[0m\n",
      "Number of classes: 115\n",
      "\u001b[36mLearning Rate: 0.000333\u001b[0m\n",
      "encontrou modelos efficientnet. Carregando...\n",
      "encontrou modelos convnext. Carregando...\n",
      "encontrou modelos mobilenet. Carregando...\n",
      "encontrou modelos vgg16. Carregando...\n",
      "encontrou modelos resnet50. Carregando...\n",
      "encontrou modelos osnet. Carregando...\n",
      "encontrou modelos densenet121. Carregando...\n",
      "###============ Iteration number 20/90 ============###\n",
      "Extracting Online Features for efficientnet ...\n",
      "Features extracted in 192.41 seconds\n",
      "Computing jaccard distance...\n"
     ]
    },
    {
     "name": "stderr",
     "output_type": "stream",
     "text": [
      "bruteForceKnn is deprecated; call bfKnn instead\n"
     ]
    },
    {
     "name": "stdout",
     "output_type": "stream",
     "text": [
      "Jaccard distance computing time cost: 79.83147740364075\n",
      "Extracting Online Features for convnext ...\n",
      "Features extracted in 190.09 seconds\n",
      "Computing jaccard distance...\n"
     ]
    },
    {
     "name": "stderr",
     "output_type": "stream",
     "text": [
      "bruteForceKnn is deprecated; call bfKnn instead\n"
     ]
    },
    {
     "name": "stdout",
     "output_type": "stream",
     "text": [
      "Jaccard distance computing time cost: 70.88513922691345\n",
      "Extracting Online Features for mobilenet ...\n",
      "Features extracted in 188.99 seconds\n",
      "Computing jaccard distance...\n"
     ]
    },
    {
     "name": "stderr",
     "output_type": "stream",
     "text": [
      "bruteForceKnn is deprecated; call bfKnn instead\n"
     ]
    },
    {
     "name": "stdout",
     "output_type": "stream",
     "text": [
      "Jaccard distance computing time cost: 72.23513650894165\n",
      "Extracting Online Features for vgg16 ...\n",
      "Features extracted in 189.20 seconds\n",
      "Computing jaccard distance...\n"
     ]
    },
    {
     "name": "stderr",
     "output_type": "stream",
     "text": [
      "bruteForceKnn is deprecated; call bfKnn instead\n"
     ]
    },
    {
     "name": "stdout",
     "output_type": "stream",
     "text": [
      "Jaccard distance computing time cost: 71.38733243942261\n",
      "Extracting Online Features for resnet50 ...\n",
      "Features extracted in 189.20 seconds\n",
      "Computing jaccard distance...\n"
     ]
    },
    {
     "name": "stderr",
     "output_type": "stream",
     "text": [
      "bruteForceKnn is deprecated; call bfKnn instead\n"
     ]
    },
    {
     "name": "stdout",
     "output_type": "stream",
     "text": [
      "Jaccard distance computing time cost: 69.88249325752258\n",
      "Extracting Online Features for osnet ...\n",
      "Features extracted in 187.10 seconds\n",
      "Computing jaccard distance...\n"
     ]
    },
    {
     "name": "stderr",
     "output_type": "stream",
     "text": [
      "bruteForceKnn is deprecated; call bfKnn instead\n"
     ]
    },
    {
     "name": "stdout",
     "output_type": "stream",
     "text": [
      "Jaccard distance computing time cost: 70.69005990028381\n",
      "Extracting Online Features for densenet121 ...\n",
      "Features extracted in 187.88 seconds\n",
      "Computing jaccard distance...\n"
     ]
    },
    {
     "name": "stderr",
     "output_type": "stream",
     "text": [
      "bruteForceKnn is deprecated; call bfKnn instead\n"
     ]
    },
    {
     "name": "stdout",
     "output_type": "stream",
     "text": [
      "Jaccard distance computing time cost: 72.22684121131897\n",
      "Reliability: 0.044\n",
      "\u001b[32mMean Purity: 0.02052\u001b[0m\n",
      "\u001b[34mThere are 20 clusters with 4 cameras\u001b[0m\n",
      "\u001b[34mThere are 21 clusters with 5 cameras\u001b[0m\n",
      "\u001b[34mThere are 11 clusters with 6 cameras\u001b[0m\n",
      "\u001b[34mThere are 8 clusters with 7 cameras\u001b[0m\n",
      "\u001b[34mThere are 2 clusters with 8 cameras\u001b[0m\n",
      "\u001b[34mThere are 4 clusters with 9 cameras\u001b[0m\n",
      "\u001b[34mThere are 4 clusters with 10 cameras\u001b[0m\n",
      "\u001b[34mThere are 4 clusters with 11 cameras\u001b[0m\n",
      "\u001b[34mThere are 3 clusters with 12 cameras\u001b[0m\n",
      "\u001b[34mThere are 5 clusters with 13 cameras\u001b[0m\n",
      "\u001b[34mThere are 2 clusters with 16 cameras\u001b[0m\n",
      "\u001b[34mThere are 2 clusters with 17 cameras\u001b[0m\n",
      "\u001b[34mThere are 2 clusters with 18 cameras\u001b[0m\n",
      "\u001b[34mThere are 1 clusters with 19 cameras\u001b[0m\n",
      "\u001b[34mThere are 4 clusters with 20 cameras\u001b[0m\n",
      "\u001b[34mThere are 3 clusters with 22 cameras\u001b[0m\n",
      "\u001b[34mThere are 1 clusters with 23 cameras\u001b[0m\n",
      "\u001b[34mThere are 1 clusters with 24 cameras\u001b[0m\n",
      "\u001b[34mThere are 1 clusters with 25 cameras\u001b[0m\n",
      "\u001b[34mThere are 1 clusters with 26 cameras\u001b[0m\n",
      "\u001b[34mThere are 3 clusters with 28 cameras\u001b[0m\n",
      "\u001b[34mThere are 1 clusters with 35 cameras\u001b[0m\n",
      "\u001b[34mThere are 1 clusters with 37 cameras\u001b[0m\n",
      "\u001b[34mThere are 1 clusters with 40 cameras\u001b[0m\n",
      "\u001b[34mThere are 1 clusters with 42 cameras\u001b[0m\n",
      "\u001b[34mThere are 1 clusters with 45 cameras\u001b[0m\n",
      "\u001b[34mThere are 1 clusters with 46 cameras\u001b[0m\n",
      "\u001b[34mThere are 1 clusters with 49 cameras\u001b[0m\n",
      "\u001b[34mThere are 1 clusters with 50 cameras\u001b[0m\n",
      "\u001b[34mThere are 1 clusters with 63 cameras\u001b[0m\n",
      "\u001b[34mThere are 2 clusters with 68 cameras\u001b[0m\n",
      "\u001b[34mThere are 1 clusters with 168 cameras\u001b[0m\n",
      "Number of classes: 115\n",
      "\u001b[36mLearning Rate: 0.000350\u001b[0m\n",
      "encontrou modelos efficientnet. Carregando...\n",
      "encontrou modelos convnext. Carregando...\n",
      "encontrou modelos mobilenet. Carregando...\n",
      "encontrou modelos vgg16. Carregando...\n",
      "encontrou modelos resnet50. Carregando...\n",
      "encontrou modelos osnet. Carregando...\n",
      "encontrou modelos densenet121. Carregando...\n",
      "\u001b[33mValidating online efficientnet ...\u001b[0m\n",
      "Features extracted in 58.22 seconds\n",
      "Features extracted in 120.97 seconds\n",
      "Computing CMC and mAP ...\n",
      "** Results **\n",
      "mAP: 66.96%\n",
      "CMC curve\n",
      "Rank-1  : 49.76%\n",
      "Rank-5  : 88.29%\n",
      "Rank-10 : 96.33%\n",
      "Rank-20 : 99.32%\n",
      "\u001b[33mValidating momentum efficientnet ...\u001b[0m\n",
      "Features extracted in 58.03 seconds\n",
      "Features extracted in 115.29 seconds\n",
      "Computing CMC and mAP ...\n",
      "** Results **\n",
      "mAP: 66.33%\n",
      "CMC curve\n",
      "Rank-1  : 47.72%\n",
      "Rank-5  : 83.15%\n",
      "Rank-10 : 91.82%\n",
      "Rank-20 : 96.73%\n",
      "\u001b[33mValidating online convnext ...\u001b[0m\n",
      "Features extracted in 58.49 seconds\n",
      "Features extracted in 117.13 seconds\n",
      "Computing CMC and mAP ...\n",
      "** Results **\n",
      "mAP: 65.77%\n",
      "CMC curve\n",
      "Rank-1  : 46.59%\n",
      "Rank-5  : 75.46%\n",
      "Rank-10 : 86.74%\n",
      "Rank-20 : 94.66%\n",
      "\u001b[33mValidating momentum convnext ...\u001b[0m\n",
      "Features extracted in 58.35 seconds\n",
      "Features extracted in 119.35 seconds\n",
      "Computing CMC and mAP ...\n",
      "** Results **\n",
      "mAP: 64.96%\n",
      "CMC curve\n",
      "Rank-1  : 45.63%\n",
      "Rank-5  : 75.04%\n",
      "Rank-10 : 87.30%\n",
      "Rank-20 : 95.01%\n",
      "\u001b[33mValidating online mobilenet ...\u001b[0m\n",
      "Features extracted in 59.30 seconds\n",
      "Features extracted in 116.15 seconds\n",
      "Computing CMC and mAP ...\n",
      "** Results **\n",
      "mAP: 66.23%\n",
      "CMC curve\n",
      "Rank-1  : 51.24%\n",
      "Rank-5  : 86.31%\n",
      "Rank-10 : 94.85%\n",
      "Rank-20 : 99.15%\n",
      "\u001b[33mValidating momentum mobilenet ...\u001b[0m\n",
      "Features extracted in 59.61 seconds\n",
      "Features extracted in 117.87 seconds\n",
      "Computing CMC and mAP ...\n",
      "** Results **\n",
      "mAP: 66.41%\n",
      "CMC curve\n",
      "Rank-1  : 52.73%\n",
      "Rank-5  : 85.40%\n",
      "Rank-10 : 93.79%\n",
      "Rank-20 : 98.57%\n",
      "\u001b[33mValidating online vgg16 ...\u001b[0m\n",
      "Features extracted in 61.74 seconds\n",
      "Features extracted in 114.55 seconds\n",
      "Computing CMC and mAP ...\n",
      "** Results **\n",
      "mAP: 65.47%\n",
      "CMC curve\n",
      "Rank-1  : 43.56%\n",
      "Rank-5  : 75.41%\n",
      "Rank-10 : 85.98%\n",
      "Rank-20 : 92.95%\n",
      "\u001b[33mValidating momentum vgg16 ...\u001b[0m\n",
      "Features extracted in 58.27 seconds\n",
      "Features extracted in 118.49 seconds\n",
      "Computing CMC and mAP ...\n",
      "** Results **\n",
      "mAP: 65.67%\n",
      "CMC curve\n",
      "Rank-1  : 45.75%\n",
      "Rank-5  : 82.00%\n",
      "Rank-10 : 90.62%\n",
      "Rank-20 : 96.36%\n",
      "\u001b[33mValidating online resnet50 ...\u001b[0m\n",
      "Features extracted in 59.56 seconds\n",
      "Features extracted in 115.11 seconds\n",
      "Computing CMC and mAP ...\n",
      "** Results **\n",
      "mAP: 65.64%\n",
      "CMC curve\n",
      "Rank-1  : 44.24%\n",
      "Rank-5  : 67.84%\n",
      "Rank-10 : 75.44%\n",
      "Rank-20 : 82.42%\n",
      "\u001b[33mValidating momentum resnet50 ...\u001b[0m\n",
      "Features extracted in 59.44 seconds\n",
      "Features extracted in 116.77 seconds\n",
      "Computing CMC and mAP ...\n",
      "** Results **\n",
      "mAP: 64.94%\n",
      "CMC curve\n",
      "Rank-1  : 43.33%\n",
      "Rank-5  : 71.52%\n",
      "Rank-10 : 80.95%\n",
      "Rank-20 : 90.36%\n",
      "\u001b[33mValidating online osnet ...\u001b[0m\n",
      "Features extracted in 59.08 seconds\n",
      "Features extracted in 115.36 seconds\n",
      "Computing CMC and mAP ...\n",
      "** Results **\n",
      "mAP: 66.87%\n",
      "CMC curve\n",
      "Rank-1  : 48.11%\n",
      "Rank-5  : 84.70%\n",
      "Rank-10 : 95.19%\n",
      "Rank-20 : 99.23%\n",
      "\u001b[33mValidating momentum osnet ...\u001b[0m\n",
      "Features extracted in 60.58 seconds\n",
      "Features extracted in 118.57 seconds\n",
      "Computing CMC and mAP ...\n",
      "** Results **\n",
      "mAP: 67.06%\n",
      "CMC curve\n",
      "Rank-1  : 51.39%\n",
      "Rank-5  : 86.67%\n",
      "Rank-10 : 94.96%\n",
      "Rank-20 : 98.71%\n",
      "\u001b[33mValidating online densenet121 ...\u001b[0m\n",
      "Features extracted in 59.81 seconds\n",
      "Features extracted in 116.86 seconds\n",
      "Computing CMC and mAP ...\n",
      "** Results **\n",
      "mAP: 65.34%\n",
      "CMC curve\n",
      "Rank-1  : 45.42%\n",
      "Rank-5  : 74.47%\n",
      "Rank-10 : 84.90%\n",
      "Rank-20 : 93.93%\n",
      "\u001b[33mValidating momentum densenet121 ...\u001b[0m\n",
      "Features extracted in 60.02 seconds\n",
      "Features extracted in 118.49 seconds\n",
      "Computing CMC and mAP ...\n",
      "** Results **\n",
      "mAP: 65.71%\n",
      "CMC curve\n",
      "Rank-1  : 46.36%\n",
      "Rank-5  : 79.22%\n",
      "Rank-10 : 88.80%\n",
      "Rank-20 : 95.19%\n",
      "\u001b[33mValidating ensembled with online models ...\u001b[0m\n",
      "Computing CMC and mAP ...\n",
      "** Results **\n",
      "mAP: 65.61%\n",
      "Ranks:\n",
      "Rank-1  : 45.50%\n",
      "Rank-5  : 70.24%\n",
      "Rank-10 : 79.04%\n",
      "\u001b[33mValidating ensembled with momentum models ...\u001b[0m\n",
      "Computing CMC and mAP ...\n",
      "** Results **\n",
      "mAP: 65.36%\n",
      "Ranks:\n",
      "Rank-1  : 43.96%\n",
      "Rank-5  : 75.79%\n",
      "Rank-10 : 85.67%\n",
      "###============ Iteration number 21/90 ============###\n",
      "Extracting Online Features for efficientnet ...\n",
      "Features extracted in 185.21 seconds\n",
      "Computing jaccard distance...\n"
     ]
    },
    {
     "name": "stderr",
     "output_type": "stream",
     "text": [
      "bruteForceKnn is deprecated; call bfKnn instead\n"
     ]
    },
    {
     "name": "stdout",
     "output_type": "stream",
     "text": [
      "Jaccard distance computing time cost: 78.9434974193573\n",
      "Extracting Online Features for convnext ...\n",
      "Features extracted in 188.58 seconds\n",
      "Computing jaccard distance...\n"
     ]
    },
    {
     "name": "stderr",
     "output_type": "stream",
     "text": [
      "bruteForceKnn is deprecated; call bfKnn instead\n"
     ]
    },
    {
     "name": "stdout",
     "output_type": "stream",
     "text": [
      "Jaccard distance computing time cost: 73.36837434768677\n",
      "Extracting Online Features for mobilenet ...\n",
      "Features extracted in 187.66 seconds\n",
      "Computing jaccard distance...\n"
     ]
    },
    {
     "name": "stderr",
     "output_type": "stream",
     "text": [
      "bruteForceKnn is deprecated; call bfKnn instead\n"
     ]
    },
    {
     "name": "stdout",
     "output_type": "stream",
     "text": [
      "Jaccard distance computing time cost: 74.19327783584595\n",
      "Extracting Online Features for vgg16 ...\n",
      "Features extracted in 191.37 seconds\n",
      "Computing jaccard distance...\n"
     ]
    },
    {
     "name": "stderr",
     "output_type": "stream",
     "text": [
      "bruteForceKnn is deprecated; call bfKnn instead\n"
     ]
    },
    {
     "name": "stdout",
     "output_type": "stream",
     "text": [
      "Jaccard distance computing time cost: 71.56286096572876\n",
      "Extracting Online Features for resnet50 ...\n",
      "Features extracted in 190.18 seconds\n",
      "Computing jaccard distance...\n"
     ]
    },
    {
     "name": "stderr",
     "output_type": "stream",
     "text": [
      "bruteForceKnn is deprecated; call bfKnn instead\n"
     ]
    },
    {
     "name": "stdout",
     "output_type": "stream",
     "text": [
      "Jaccard distance computing time cost: 69.46711444854736\n",
      "Extracting Online Features for osnet ...\n",
      "Features extracted in 187.52 seconds\n",
      "Computing jaccard distance...\n"
     ]
    },
    {
     "name": "stderr",
     "output_type": "stream",
     "text": [
      "bruteForceKnn is deprecated; call bfKnn instead\n"
     ]
    },
    {
     "name": "stdout",
     "output_type": "stream",
     "text": [
      "Jaccard distance computing time cost: 73.39028906822205\n",
      "Extracting Online Features for densenet121 ...\n",
      "Features extracted in 192.54 seconds\n",
      "Computing jaccard distance...\n"
     ]
    },
    {
     "name": "stderr",
     "output_type": "stream",
     "text": [
      "bruteForceKnn is deprecated; call bfKnn instead\n"
     ]
    },
    {
     "name": "stdout",
     "output_type": "stream",
     "text": [
      "Jaccard distance computing time cost: 96.64449501037598\n",
      "Reliability: 0.044\n",
      "\u001b[32mMean Purity: 0.02052\u001b[0m\n",
      "\u001b[34mThere are 20 clusters with 4 cameras\u001b[0m\n",
      "\u001b[34mThere are 21 clusters with 5 cameras\u001b[0m\n",
      "\u001b[34mThere are 11 clusters with 6 cameras\u001b[0m\n",
      "\u001b[34mThere are 8 clusters with 7 cameras\u001b[0m\n",
      "\u001b[34mThere are 2 clusters with 8 cameras\u001b[0m\n",
      "\u001b[34mThere are 4 clusters with 9 cameras\u001b[0m\n",
      "\u001b[34mThere are 4 clusters with 10 cameras\u001b[0m\n",
      "\u001b[34mThere are 4 clusters with 11 cameras\u001b[0m\n",
      "\u001b[34mThere are 3 clusters with 12 cameras\u001b[0m\n",
      "\u001b[34mThere are 5 clusters with 13 cameras\u001b[0m\n",
      "\u001b[34mThere are 2 clusters with 16 cameras\u001b[0m\n",
      "\u001b[34mThere are 2 clusters with 17 cameras\u001b[0m\n",
      "\u001b[34mThere are 2 clusters with 18 cameras\u001b[0m\n",
      "\u001b[34mThere are 1 clusters with 19 cameras\u001b[0m\n",
      "\u001b[34mThere are 4 clusters with 20 cameras\u001b[0m\n",
      "\u001b[34mThere are 3 clusters with 22 cameras\u001b[0m\n",
      "\u001b[34mThere are 1 clusters with 23 cameras\u001b[0m\n",
      "\u001b[34mThere are 1 clusters with 24 cameras\u001b[0m\n",
      "\u001b[34mThere are 1 clusters with 25 cameras\u001b[0m\n",
      "\u001b[34mThere are 1 clusters with 26 cameras\u001b[0m\n",
      "\u001b[34mThere are 3 clusters with 28 cameras\u001b[0m\n",
      "\u001b[34mThere are 1 clusters with 35 cameras\u001b[0m\n",
      "\u001b[34mThere are 1 clusters with 37 cameras\u001b[0m\n",
      "\u001b[34mThere are 1 clusters with 40 cameras\u001b[0m\n",
      "\u001b[34mThere are 1 clusters with 42 cameras\u001b[0m\n",
      "\u001b[34mThere are 1 clusters with 45 cameras\u001b[0m\n",
      "\u001b[34mThere are 1 clusters with 46 cameras\u001b[0m\n",
      "\u001b[34mThere are 1 clusters with 49 cameras\u001b[0m\n",
      "\u001b[34mThere are 1 clusters with 50 cameras\u001b[0m\n",
      "\u001b[34mThere are 1 clusters with 63 cameras\u001b[0m\n",
      "\u001b[34mThere are 2 clusters with 68 cameras\u001b[0m\n",
      "\u001b[34mThere are 1 clusters with 168 cameras\u001b[0m\n",
      "Number of classes: 115\n",
      "\u001b[36mLearning Rate: 0.000350\u001b[0m\n",
      "encontrou modelos efficientnet. Carregando...\n",
      "encontrou modelos convnext. Carregando...\n",
      "encontrou modelos mobilenet. Carregando...\n",
      "encontrou modelos vgg16. Carregando...\n",
      "encontrou modelos resnet50. Carregando...\n",
      "encontrou modelos osnet. Carregando...\n",
      "encontrou modelos densenet121. Carregando...\n",
      "###============ Iteration number 22/90 ============###\n",
      "Extracting Online Features for efficientnet ...\n",
      "Features extracted in 191.77 seconds\n",
      "Computing jaccard distance...\n"
     ]
    },
    {
     "name": "stderr",
     "output_type": "stream",
     "text": [
      "bruteForceKnn is deprecated; call bfKnn instead\n"
     ]
    },
    {
     "name": "stdout",
     "output_type": "stream",
     "text": [
      "Jaccard distance computing time cost: 83.36655712127686\n",
      "Extracting Online Features for convnext ...\n",
      "Features extracted in 192.38 seconds\n",
      "Computing jaccard distance...\n"
     ]
    },
    {
     "name": "stderr",
     "output_type": "stream",
     "text": [
      "bruteForceKnn is deprecated; call bfKnn instead\n"
     ]
    },
    {
     "name": "stdout",
     "output_type": "stream",
     "text": [
      "Jaccard distance computing time cost: 82.3434829711914\n",
      "Extracting Online Features for mobilenet ...\n",
      "Features extracted in 186.29 seconds\n",
      "Computing jaccard distance...\n"
     ]
    },
    {
     "name": "stderr",
     "output_type": "stream",
     "text": [
      "bruteForceKnn is deprecated; call bfKnn instead\n"
     ]
    },
    {
     "name": "stdout",
     "output_type": "stream",
     "text": [
      "Jaccard distance computing time cost: 77.18904662132263\n",
      "Extracting Online Features for vgg16 ...\n",
      "Features extracted in 187.66 seconds\n",
      "Computing jaccard distance...\n"
     ]
    },
    {
     "name": "stderr",
     "output_type": "stream",
     "text": [
      "bruteForceKnn is deprecated; call bfKnn instead\n"
     ]
    },
    {
     "name": "stdout",
     "output_type": "stream",
     "text": [
      "Jaccard distance computing time cost: 71.34830093383789\n",
      "Extracting Online Features for resnet50 ...\n",
      "Features extracted in 190.21 seconds\n",
      "Computing jaccard distance...\n"
     ]
    },
    {
     "name": "stderr",
     "output_type": "stream",
     "text": [
      "bruteForceKnn is deprecated; call bfKnn instead\n"
     ]
    },
    {
     "name": "stdout",
     "output_type": "stream",
     "text": [
      "Jaccard distance computing time cost: 69.29491877555847\n",
      "Extracting Online Features for osnet ...\n",
      "Features extracted in 189.11 seconds\n",
      "Computing jaccard distance...\n"
     ]
    },
    {
     "name": "stderr",
     "output_type": "stream",
     "text": [
      "bruteForceKnn is deprecated; call bfKnn instead\n"
     ]
    },
    {
     "name": "stdout",
     "output_type": "stream",
     "text": [
      "Jaccard distance computing time cost: 72.99666404724121\n",
      "Extracting Online Features for densenet121 ...\n",
      "Features extracted in 187.17 seconds\n",
      "Computing jaccard distance...\n"
     ]
    },
    {
     "name": "stderr",
     "output_type": "stream",
     "text": [
      "bruteForceKnn is deprecated; call bfKnn instead\n"
     ]
    },
    {
     "name": "stdout",
     "output_type": "stream",
     "text": [
      "Jaccard distance computing time cost: 86.92733907699585\n",
      "Reliability: 0.044\n",
      "\u001b[32mMean Purity: 0.02052\u001b[0m\n",
      "\u001b[34mThere are 20 clusters with 4 cameras\u001b[0m\n",
      "\u001b[34mThere are 21 clusters with 5 cameras\u001b[0m\n",
      "\u001b[34mThere are 11 clusters with 6 cameras\u001b[0m\n",
      "\u001b[34mThere are 8 clusters with 7 cameras\u001b[0m\n",
      "\u001b[34mThere are 2 clusters with 8 cameras\u001b[0m\n",
      "\u001b[34mThere are 4 clusters with 9 cameras\u001b[0m\n",
      "\u001b[34mThere are 4 clusters with 10 cameras\u001b[0m\n",
      "\u001b[34mThere are 4 clusters with 11 cameras\u001b[0m\n",
      "\u001b[34mThere are 3 clusters with 12 cameras\u001b[0m\n",
      "\u001b[34mThere are 5 clusters with 13 cameras\u001b[0m\n",
      "\u001b[34mThere are 2 clusters with 16 cameras\u001b[0m\n",
      "\u001b[34mThere are 2 clusters with 17 cameras\u001b[0m\n",
      "\u001b[34mThere are 2 clusters with 18 cameras\u001b[0m\n",
      "\u001b[34mThere are 1 clusters with 19 cameras\u001b[0m\n",
      "\u001b[34mThere are 4 clusters with 20 cameras\u001b[0m\n",
      "\u001b[34mThere are 3 clusters with 22 cameras\u001b[0m\n",
      "\u001b[34mThere are 1 clusters with 23 cameras\u001b[0m\n",
      "\u001b[34mThere are 1 clusters with 24 cameras\u001b[0m\n",
      "\u001b[34mThere are 1 clusters with 25 cameras\u001b[0m\n",
      "\u001b[34mThere are 1 clusters with 26 cameras\u001b[0m\n",
      "\u001b[34mThere are 3 clusters with 28 cameras\u001b[0m\n",
      "\u001b[34mThere are 1 clusters with 35 cameras\u001b[0m\n",
      "\u001b[34mThere are 1 clusters with 37 cameras\u001b[0m\n",
      "\u001b[34mThere are 1 clusters with 40 cameras\u001b[0m\n",
      "\u001b[34mThere are 1 clusters with 42 cameras\u001b[0m\n",
      "\u001b[34mThere are 1 clusters with 45 cameras\u001b[0m\n",
      "\u001b[34mThere are 1 clusters with 46 cameras\u001b[0m\n",
      "\u001b[34mThere are 1 clusters with 49 cameras\u001b[0m\n",
      "\u001b[34mThere are 1 clusters with 50 cameras\u001b[0m\n",
      "\u001b[34mThere are 1 clusters with 63 cameras\u001b[0m\n",
      "\u001b[34mThere are 2 clusters with 68 cameras\u001b[0m\n",
      "\u001b[34mThere are 1 clusters with 168 cameras\u001b[0m\n",
      "Number of classes: 115\n",
      "\u001b[36mLearning Rate: 0.000350\u001b[0m\n",
      "encontrou modelos efficientnet. Carregando...\n",
      "encontrou modelos convnext. Carregando...\n",
      "encontrou modelos mobilenet. Carregando...\n",
      "encontrou modelos vgg16. Carregando...\n",
      "encontrou modelos resnet50. Carregando...\n",
      "encontrou modelos osnet. Carregando...\n",
      "encontrou modelos densenet121. Carregando...\n",
      "###============ Iteration number 23/90 ============###\n",
      "Extracting Online Features for efficientnet ...\n",
      "Features extracted in 192.51 seconds\n",
      "Computing jaccard distance...\n"
     ]
    },
    {
     "name": "stderr",
     "output_type": "stream",
     "text": [
      "bruteForceKnn is deprecated; call bfKnn instead\n"
     ]
    },
    {
     "name": "stdout",
     "output_type": "stream",
     "text": [
      "Jaccard distance computing time cost: 88.9553074836731\n",
      "Extracting Online Features for convnext ...\n",
      "Features extracted in 191.74 seconds\n",
      "Computing jaccard distance...\n"
     ]
    },
    {
     "name": "stderr",
     "output_type": "stream",
     "text": [
      "bruteForceKnn is deprecated; call bfKnn instead\n"
     ]
    },
    {
     "name": "stdout",
     "output_type": "stream",
     "text": [
      "Jaccard distance computing time cost: 76.06478261947632\n",
      "Extracting Online Features for mobilenet ...\n",
      "Features extracted in 186.74 seconds\n",
      "Computing jaccard distance...\n"
     ]
    },
    {
     "name": "stderr",
     "output_type": "stream",
     "text": [
      "bruteForceKnn is deprecated; call bfKnn instead\n"
     ]
    },
    {
     "name": "stdout",
     "output_type": "stream",
     "text": [
      "Jaccard distance computing time cost: 69.63618063926697\n",
      "Extracting Online Features for vgg16 ...\n",
      "Features extracted in 187.53 seconds\n",
      "Computing jaccard distance...\n"
     ]
    },
    {
     "name": "stderr",
     "output_type": "stream",
     "text": [
      "bruteForceKnn is deprecated; call bfKnn instead\n"
     ]
    },
    {
     "name": "stdout",
     "output_type": "stream",
     "text": [
      "Jaccard distance computing time cost: 78.33876156806946\n",
      "Extracting Online Features for resnet50 ...\n",
      "Features extracted in 191.32 seconds\n",
      "Computing jaccard distance...\n"
     ]
    },
    {
     "name": "stderr",
     "output_type": "stream",
     "text": [
      "bruteForceKnn is deprecated; call bfKnn instead\n"
     ]
    },
    {
     "name": "stdout",
     "output_type": "stream",
     "text": [
      "Jaccard distance computing time cost: 68.31121230125427\n",
      "Extracting Online Features for osnet ...\n",
      "Features extracted in 191.21 seconds\n",
      "Computing jaccard distance...\n"
     ]
    },
    {
     "name": "stderr",
     "output_type": "stream",
     "text": [
      "bruteForceKnn is deprecated; call bfKnn instead\n"
     ]
    },
    {
     "name": "stdout",
     "output_type": "stream",
     "text": [
      "Jaccard distance computing time cost: 80.68484807014465\n",
      "Extracting Online Features for densenet121 ...\n",
      "Features extracted in 191.72 seconds\n",
      "Computing jaccard distance...\n"
     ]
    },
    {
     "name": "stderr",
     "output_type": "stream",
     "text": [
      "bruteForceKnn is deprecated; call bfKnn instead\n"
     ]
    },
    {
     "name": "stdout",
     "output_type": "stream",
     "text": [
      "Jaccard distance computing time cost: 81.53579616546631\n",
      "Reliability: 0.044\n",
      "\u001b[32mMean Purity: 0.02052\u001b[0m\n",
      "\u001b[34mThere are 20 clusters with 4 cameras\u001b[0m\n",
      "\u001b[34mThere are 21 clusters with 5 cameras\u001b[0m\n",
      "\u001b[34mThere are 11 clusters with 6 cameras\u001b[0m\n",
      "\u001b[34mThere are 8 clusters with 7 cameras\u001b[0m\n",
      "\u001b[34mThere are 2 clusters with 8 cameras\u001b[0m\n",
      "\u001b[34mThere are 4 clusters with 9 cameras\u001b[0m\n",
      "\u001b[34mThere are 4 clusters with 10 cameras\u001b[0m\n",
      "\u001b[34mThere are 4 clusters with 11 cameras\u001b[0m\n",
      "\u001b[34mThere are 3 clusters with 12 cameras\u001b[0m\n",
      "\u001b[34mThere are 5 clusters with 13 cameras\u001b[0m\n",
      "\u001b[34mThere are 2 clusters with 16 cameras\u001b[0m\n",
      "\u001b[34mThere are 2 clusters with 17 cameras\u001b[0m\n",
      "\u001b[34mThere are 2 clusters with 18 cameras\u001b[0m\n",
      "\u001b[34mThere are 1 clusters with 19 cameras\u001b[0m\n",
      "\u001b[34mThere are 4 clusters with 20 cameras\u001b[0m\n",
      "\u001b[34mThere are 3 clusters with 22 cameras\u001b[0m\n",
      "\u001b[34mThere are 1 clusters with 23 cameras\u001b[0m\n",
      "\u001b[34mThere are 1 clusters with 24 cameras\u001b[0m\n",
      "\u001b[34mThere are 1 clusters with 25 cameras\u001b[0m\n",
      "\u001b[34mThere are 1 clusters with 26 cameras\u001b[0m\n",
      "\u001b[34mThere are 3 clusters with 28 cameras\u001b[0m\n",
      "\u001b[34mThere are 1 clusters with 35 cameras\u001b[0m\n",
      "\u001b[34mThere are 1 clusters with 37 cameras\u001b[0m\n",
      "\u001b[34mThere are 1 clusters with 40 cameras\u001b[0m\n",
      "\u001b[34mThere are 1 clusters with 42 cameras\u001b[0m\n",
      "\u001b[34mThere are 1 clusters with 45 cameras\u001b[0m\n",
      "\u001b[34mThere are 1 clusters with 46 cameras\u001b[0m\n",
      "\u001b[34mThere are 1 clusters with 49 cameras\u001b[0m\n",
      "\u001b[34mThere are 1 clusters with 50 cameras\u001b[0m\n",
      "\u001b[34mThere are 1 clusters with 63 cameras\u001b[0m\n",
      "\u001b[34mThere are 2 clusters with 68 cameras\u001b[0m\n",
      "\u001b[34mThere are 1 clusters with 168 cameras\u001b[0m\n",
      "Number of classes: 115\n",
      "\u001b[36mLearning Rate: 0.000350\u001b[0m\n",
      "encontrou modelos efficientnet. Carregando...\n",
      "encontrou modelos convnext. Carregando...\n",
      "encontrou modelos mobilenet. Carregando...\n",
      "encontrou modelos vgg16. Carregando...\n",
      "encontrou modelos resnet50. Carregando...\n",
      "encontrou modelos osnet. Carregando...\n",
      "encontrou modelos densenet121. Carregando...\n",
      "###============ Iteration number 24/90 ============###\n",
      "Extracting Online Features for efficientnet ...\n",
      "Features extracted in 189.10 seconds\n",
      "Computing jaccard distance...\n"
     ]
    },
    {
     "name": "stderr",
     "output_type": "stream",
     "text": [
      "bruteForceKnn is deprecated; call bfKnn instead\n"
     ]
    },
    {
     "name": "stdout",
     "output_type": "stream",
     "text": [
      "Jaccard distance computing time cost: 81.29558396339417\n",
      "Extracting Online Features for convnext ...\n",
      "Features extracted in 190.64 seconds\n",
      "Computing jaccard distance...\n"
     ]
    },
    {
     "name": "stderr",
     "output_type": "stream",
     "text": [
      "bruteForceKnn is deprecated; call bfKnn instead\n"
     ]
    },
    {
     "name": "stdout",
     "output_type": "stream",
     "text": [
      "Jaccard distance computing time cost: 70.99375581741333\n",
      "Extracting Online Features for mobilenet ...\n",
      "Features extracted in 191.45 seconds\n",
      "Computing jaccard distance...\n"
     ]
    },
    {
     "name": "stderr",
     "output_type": "stream",
     "text": [
      "bruteForceKnn is deprecated; call bfKnn instead\n"
     ]
    },
    {
     "name": "stdout",
     "output_type": "stream",
     "text": [
      "Jaccard distance computing time cost: 71.54573965072632\n",
      "Extracting Online Features for vgg16 ...\n",
      "Features extracted in 190.98 seconds\n",
      "Computing jaccard distance...\n"
     ]
    },
    {
     "name": "stderr",
     "output_type": "stream",
     "text": [
      "bruteForceKnn is deprecated; call bfKnn instead\n"
     ]
    },
    {
     "name": "stdout",
     "output_type": "stream",
     "text": [
      "Jaccard distance computing time cost: 71.8814754486084\n",
      "Extracting Online Features for resnet50 ...\n",
      "Features extracted in 187.07 seconds\n",
      "Computing jaccard distance...\n"
     ]
    },
    {
     "name": "stderr",
     "output_type": "stream",
     "text": [
      "bruteForceKnn is deprecated; call bfKnn instead\n"
     ]
    },
    {
     "name": "stdout",
     "output_type": "stream",
     "text": [
      "Jaccard distance computing time cost: 68.77927207946777\n",
      "Extracting Online Features for osnet ...\n",
      "Features extracted in 190.18 seconds\n",
      "Computing jaccard distance...\n"
     ]
    },
    {
     "name": "stderr",
     "output_type": "stream",
     "text": [
      "bruteForceKnn is deprecated; call bfKnn instead\n"
     ]
    },
    {
     "name": "stdout",
     "output_type": "stream",
     "text": [
      "Jaccard distance computing time cost: 82.97240042686462\n",
      "Extracting Online Features for densenet121 ...\n",
      "Features extracted in 194.62 seconds\n",
      "Computing jaccard distance...\n"
     ]
    },
    {
     "name": "stderr",
     "output_type": "stream",
     "text": [
      "bruteForceKnn is deprecated; call bfKnn instead\n"
     ]
    },
    {
     "name": "stdout",
     "output_type": "stream",
     "text": [
      "Jaccard distance computing time cost: 78.8362283706665\n",
      "Reliability: 0.044\n",
      "\u001b[32mMean Purity: 0.02052\u001b[0m\n",
      "\u001b[34mThere are 20 clusters with 4 cameras\u001b[0m\n",
      "\u001b[34mThere are 21 clusters with 5 cameras\u001b[0m\n",
      "\u001b[34mThere are 11 clusters with 6 cameras\u001b[0m\n",
      "\u001b[34mThere are 8 clusters with 7 cameras\u001b[0m\n",
      "\u001b[34mThere are 2 clusters with 8 cameras\u001b[0m\n",
      "\u001b[34mThere are 4 clusters with 9 cameras\u001b[0m\n",
      "\u001b[34mThere are 4 clusters with 10 cameras\u001b[0m\n",
      "\u001b[34mThere are 4 clusters with 11 cameras\u001b[0m\n",
      "\u001b[34mThere are 3 clusters with 12 cameras\u001b[0m\n",
      "\u001b[34mThere are 5 clusters with 13 cameras\u001b[0m\n",
      "\u001b[34mThere are 2 clusters with 16 cameras\u001b[0m\n",
      "\u001b[34mThere are 2 clusters with 17 cameras\u001b[0m\n",
      "\u001b[34mThere are 2 clusters with 18 cameras\u001b[0m\n",
      "\u001b[34mThere are 1 clusters with 19 cameras\u001b[0m\n",
      "\u001b[34mThere are 4 clusters with 20 cameras\u001b[0m\n",
      "\u001b[34mThere are 3 clusters with 22 cameras\u001b[0m\n",
      "\u001b[34mThere are 1 clusters with 23 cameras\u001b[0m\n",
      "\u001b[34mThere are 1 clusters with 24 cameras\u001b[0m\n",
      "\u001b[34mThere are 1 clusters with 25 cameras\u001b[0m\n",
      "\u001b[34mThere are 1 clusters with 26 cameras\u001b[0m\n",
      "\u001b[34mThere are 3 clusters with 28 cameras\u001b[0m\n",
      "\u001b[34mThere are 1 clusters with 35 cameras\u001b[0m\n",
      "\u001b[34mThere are 1 clusters with 37 cameras\u001b[0m\n",
      "\u001b[34mThere are 1 clusters with 40 cameras\u001b[0m\n",
      "\u001b[34mThere are 1 clusters with 42 cameras\u001b[0m\n",
      "\u001b[34mThere are 1 clusters with 45 cameras\u001b[0m\n",
      "\u001b[34mThere are 1 clusters with 46 cameras\u001b[0m\n",
      "\u001b[34mThere are 1 clusters with 49 cameras\u001b[0m\n",
      "\u001b[34mThere are 1 clusters with 50 cameras\u001b[0m\n",
      "\u001b[34mThere are 1 clusters with 63 cameras\u001b[0m\n",
      "\u001b[34mThere are 2 clusters with 68 cameras\u001b[0m\n",
      "\u001b[34mThere are 1 clusters with 168 cameras\u001b[0m\n",
      "Number of classes: 115\n",
      "\u001b[36mLearning Rate: 0.000350\u001b[0m\n",
      "encontrou modelos efficientnet. Carregando...\n",
      "encontrou modelos convnext. Carregando...\n",
      "encontrou modelos mobilenet. Carregando...\n",
      "encontrou modelos vgg16. Carregando...\n",
      "encontrou modelos resnet50. Carregando...\n",
      "encontrou modelos osnet. Carregando...\n",
      "encontrou modelos densenet121. Carregando...\n",
      "###============ Iteration number 25/90 ============###\n",
      "Extracting Online Features for efficientnet ...\n",
      "Features extracted in 189.55 seconds\n",
      "Computing jaccard distance...\n"
     ]
    },
    {
     "name": "stderr",
     "output_type": "stream",
     "text": [
      "bruteForceKnn is deprecated; call bfKnn instead\n"
     ]
    },
    {
     "name": "stdout",
     "output_type": "stream",
     "text": [
      "Jaccard distance computing time cost: 80.63416838645935\n",
      "Extracting Online Features for convnext ...\n",
      "Features extracted in 192.39 seconds\n",
      "Computing jaccard distance...\n"
     ]
    },
    {
     "name": "stderr",
     "output_type": "stream",
     "text": [
      "bruteForceKnn is deprecated; call bfKnn instead\n"
     ]
    },
    {
     "name": "stdout",
     "output_type": "stream",
     "text": [
      "Jaccard distance computing time cost: 71.85629677772522\n",
      "Extracting Online Features for mobilenet ...\n",
      "Features extracted in 191.13 seconds\n",
      "Computing jaccard distance...\n"
     ]
    },
    {
     "name": "stderr",
     "output_type": "stream",
     "text": [
      "bruteForceKnn is deprecated; call bfKnn instead\n"
     ]
    },
    {
     "name": "stdout",
     "output_type": "stream",
     "text": [
      "Jaccard distance computing time cost: 74.44495820999146\n",
      "Extracting Online Features for vgg16 ...\n",
      "Features extracted in 192.44 seconds\n",
      "Computing jaccard distance...\n"
     ]
    },
    {
     "name": "stderr",
     "output_type": "stream",
     "text": [
      "bruteForceKnn is deprecated; call bfKnn instead\n"
     ]
    },
    {
     "name": "stdout",
     "output_type": "stream",
     "text": [
      "Jaccard distance computing time cost: 76.4264657497406\n",
      "Extracting Online Features for resnet50 ...\n",
      "Features extracted in 191.83 seconds\n",
      "Computing jaccard distance...\n"
     ]
    },
    {
     "name": "stderr",
     "output_type": "stream",
     "text": [
      "bruteForceKnn is deprecated; call bfKnn instead\n"
     ]
    },
    {
     "name": "stdout",
     "output_type": "stream",
     "text": [
      "Jaccard distance computing time cost: 68.22894406318665\n",
      "Extracting Online Features for osnet ...\n",
      "Features extracted in 189.63 seconds\n",
      "Computing jaccard distance...\n"
     ]
    },
    {
     "name": "stderr",
     "output_type": "stream",
     "text": [
      "bruteForceKnn is deprecated; call bfKnn instead\n"
     ]
    },
    {
     "name": "stdout",
     "output_type": "stream",
     "text": [
      "Jaccard distance computing time cost: 71.22219562530518\n",
      "Extracting Online Features for densenet121 ...\n",
      "Features extracted in 189.50 seconds\n",
      "Computing jaccard distance...\n"
     ]
    },
    {
     "name": "stderr",
     "output_type": "stream",
     "text": [
      "bruteForceKnn is deprecated; call bfKnn instead\n"
     ]
    },
    {
     "name": "stdout",
     "output_type": "stream",
     "text": [
      "Jaccard distance computing time cost: 72.72513937950134\n",
      "Reliability: 0.044\n",
      "\u001b[32mMean Purity: 0.02052\u001b[0m\n",
      "\u001b[34mThere are 20 clusters with 4 cameras\u001b[0m\n",
      "\u001b[34mThere are 21 clusters with 5 cameras\u001b[0m\n",
      "\u001b[34mThere are 11 clusters with 6 cameras\u001b[0m\n",
      "\u001b[34mThere are 8 clusters with 7 cameras\u001b[0m\n",
      "\u001b[34mThere are 2 clusters with 8 cameras\u001b[0m\n",
      "\u001b[34mThere are 4 clusters with 9 cameras\u001b[0m\n",
      "\u001b[34mThere are 4 clusters with 10 cameras\u001b[0m\n",
      "\u001b[34mThere are 4 clusters with 11 cameras\u001b[0m\n",
      "\u001b[34mThere are 3 clusters with 12 cameras\u001b[0m\n",
      "\u001b[34mThere are 5 clusters with 13 cameras\u001b[0m\n",
      "\u001b[34mThere are 2 clusters with 16 cameras\u001b[0m\n",
      "\u001b[34mThere are 2 clusters with 17 cameras\u001b[0m\n",
      "\u001b[34mThere are 2 clusters with 18 cameras\u001b[0m\n",
      "\u001b[34mThere are 1 clusters with 19 cameras\u001b[0m\n",
      "\u001b[34mThere are 4 clusters with 20 cameras\u001b[0m\n",
      "\u001b[34mThere are 3 clusters with 22 cameras\u001b[0m\n",
      "\u001b[34mThere are 1 clusters with 23 cameras\u001b[0m\n",
      "\u001b[34mThere are 1 clusters with 24 cameras\u001b[0m\n",
      "\u001b[34mThere are 1 clusters with 25 cameras\u001b[0m\n",
      "\u001b[34mThere are 1 clusters with 26 cameras\u001b[0m\n",
      "\u001b[34mThere are 3 clusters with 28 cameras\u001b[0m\n",
      "\u001b[34mThere are 1 clusters with 35 cameras\u001b[0m\n",
      "\u001b[34mThere are 1 clusters with 37 cameras\u001b[0m\n",
      "\u001b[34mThere are 1 clusters with 40 cameras\u001b[0m\n",
      "\u001b[34mThere are 1 clusters with 42 cameras\u001b[0m\n",
      "\u001b[34mThere are 1 clusters with 45 cameras\u001b[0m\n",
      "\u001b[34mThere are 1 clusters with 46 cameras\u001b[0m\n",
      "\u001b[34mThere are 1 clusters with 49 cameras\u001b[0m\n",
      "\u001b[34mThere are 1 clusters with 50 cameras\u001b[0m\n",
      "\u001b[34mThere are 1 clusters with 63 cameras\u001b[0m\n",
      "\u001b[34mThere are 2 clusters with 68 cameras\u001b[0m\n",
      "\u001b[34mThere are 1 clusters with 168 cameras\u001b[0m\n",
      "Number of classes: 115\n",
      "\u001b[36mLearning Rate: 0.000350\u001b[0m\n",
      "encontrou modelos efficientnet. Carregando...\n",
      "encontrou modelos convnext. Carregando...\n",
      "encontrou modelos mobilenet. Carregando...\n",
      "encontrou modelos vgg16. Carregando...\n",
      "encontrou modelos resnet50. Carregando...\n",
      "encontrou modelos osnet. Carregando...\n",
      "encontrou modelos densenet121. Carregando...\n",
      "\u001b[33mValidating online efficientnet ...\u001b[0m\n",
      "Features extracted in 59.25 seconds\n",
      "Features extracted in 117.39 seconds\n",
      "Computing CMC and mAP ...\n",
      "** Results **\n",
      "mAP: 66.96%\n",
      "CMC curve\n",
      "Rank-1  : 49.76%\n",
      "Rank-5  : 88.29%\n",
      "Rank-10 : 96.33%\n",
      "Rank-20 : 99.32%\n",
      "\u001b[33mValidating momentum efficientnet ...\u001b[0m\n",
      "Features extracted in 58.49 seconds\n",
      "Features extracted in 123.06 seconds\n",
      "Computing CMC and mAP ...\n",
      "** Results **\n",
      "mAP: 66.33%\n",
      "CMC curve\n",
      "Rank-1  : 47.72%\n",
      "Rank-5  : 83.15%\n",
      "Rank-10 : 91.82%\n",
      "Rank-20 : 96.73%\n",
      "\u001b[33mValidating online convnext ...\u001b[0m\n",
      "Features extracted in 59.22 seconds\n",
      "Features extracted in 121.21 seconds\n",
      "Computing CMC and mAP ...\n",
      "** Results **\n",
      "mAP: 65.77%\n",
      "CMC curve\n",
      "Rank-1  : 46.59%\n",
      "Rank-5  : 75.46%\n",
      "Rank-10 : 86.74%\n",
      "Rank-20 : 94.66%\n",
      "\u001b[33mValidating momentum convnext ...\u001b[0m\n",
      "Features extracted in 58.52 seconds\n",
      "Features extracted in 120.32 seconds\n",
      "Computing CMC and mAP ...\n",
      "** Results **\n",
      "mAP: 64.96%\n",
      "CMC curve\n",
      "Rank-1  : 45.63%\n",
      "Rank-5  : 75.04%\n",
      "Rank-10 : 87.30%\n",
      "Rank-20 : 95.01%\n",
      "\u001b[33mValidating online mobilenet ...\u001b[0m\n",
      "Features extracted in 58.79 seconds\n",
      "Features extracted in 115.55 seconds\n",
      "Computing CMC and mAP ...\n",
      "** Results **\n",
      "mAP: 66.23%\n",
      "CMC curve\n",
      "Rank-1  : 51.24%\n",
      "Rank-5  : 86.31%\n",
      "Rank-10 : 94.85%\n",
      "Rank-20 : 99.15%\n",
      "\u001b[33mValidating momentum mobilenet ...\u001b[0m\n",
      "Features extracted in 58.66 seconds\n",
      "Features extracted in 116.90 seconds\n",
      "Computing CMC and mAP ...\n",
      "** Results **\n",
      "mAP: 66.41%\n",
      "CMC curve\n",
      "Rank-1  : 52.73%\n",
      "Rank-5  : 85.40%\n",
      "Rank-10 : 93.79%\n",
      "Rank-20 : 98.57%\n",
      "\u001b[33mValidating online vgg16 ...\u001b[0m\n",
      "Features extracted in 59.28 seconds\n",
      "Features extracted in 115.38 seconds\n",
      "Computing CMC and mAP ...\n",
      "** Results **\n",
      "mAP: 65.47%\n",
      "CMC curve\n",
      "Rank-1  : 43.56%\n",
      "Rank-5  : 75.41%\n",
      "Rank-10 : 85.98%\n",
      "Rank-20 : 92.95%\n",
      "\u001b[33mValidating momentum vgg16 ...\u001b[0m\n",
      "Features extracted in 58.11 seconds\n",
      "Features extracted in 116.24 seconds\n",
      "Computing CMC and mAP ...\n",
      "** Results **\n",
      "mAP: 65.67%\n",
      "CMC curve\n",
      "Rank-1  : 45.75%\n",
      "Rank-5  : 82.00%\n",
      "Rank-10 : 90.62%\n",
      "Rank-20 : 96.36%\n",
      "\u001b[33mValidating online resnet50 ...\u001b[0m\n",
      "Features extracted in 60.11 seconds\n",
      "Features extracted in 119.08 seconds\n",
      "Computing CMC and mAP ...\n",
      "** Results **\n",
      "mAP: 65.64%\n",
      "CMC curve\n",
      "Rank-1  : 44.24%\n",
      "Rank-5  : 67.84%\n",
      "Rank-10 : 75.44%\n",
      "Rank-20 : 82.42%\n",
      "\u001b[33mValidating momentum resnet50 ...\u001b[0m\n",
      "Features extracted in 60.07 seconds\n",
      "Features extracted in 115.29 seconds\n",
      "Computing CMC and mAP ...\n",
      "** Results **\n",
      "mAP: 64.94%\n",
      "CMC curve\n",
      "Rank-1  : 43.33%\n",
      "Rank-5  : 71.52%\n",
      "Rank-10 : 80.95%\n",
      "Rank-20 : 90.36%\n",
      "\u001b[33mValidating online osnet ...\u001b[0m\n",
      "Features extracted in 60.83 seconds\n",
      "Features extracted in 120.95 seconds\n",
      "Computing CMC and mAP ...\n",
      "** Results **\n",
      "mAP: 66.87%\n",
      "CMC curve\n",
      "Rank-1  : 48.11%\n",
      "Rank-5  : 84.70%\n",
      "Rank-10 : 95.19%\n",
      "Rank-20 : 99.23%\n",
      "\u001b[33mValidating momentum osnet ...\u001b[0m\n",
      "Features extracted in 60.51 seconds\n",
      "Features extracted in 117.10 seconds\n",
      "Computing CMC and mAP ...\n",
      "** Results **\n",
      "mAP: 67.06%\n",
      "CMC curve\n",
      "Rank-1  : 51.39%\n",
      "Rank-5  : 86.67%\n",
      "Rank-10 : 94.96%\n",
      "Rank-20 : 98.71%\n",
      "\u001b[33mValidating online densenet121 ...\u001b[0m\n",
      "Features extracted in 60.34 seconds\n",
      "Features extracted in 120.23 seconds\n",
      "Computing CMC and mAP ...\n",
      "** Results **\n",
      "mAP: 65.34%\n",
      "CMC curve\n",
      "Rank-1  : 45.42%\n",
      "Rank-5  : 74.47%\n",
      "Rank-10 : 84.90%\n",
      "Rank-20 : 93.93%\n",
      "\u001b[33mValidating momentum densenet121 ...\u001b[0m\n",
      "Features extracted in 60.33 seconds\n",
      "Features extracted in 118.93 seconds\n",
      "Computing CMC and mAP ...\n",
      "** Results **\n",
      "mAP: 65.71%\n",
      "CMC curve\n",
      "Rank-1  : 46.36%\n",
      "Rank-5  : 79.22%\n",
      "Rank-10 : 88.80%\n",
      "Rank-20 : 95.19%\n",
      "\u001b[33mValidating ensembled with online models ...\u001b[0m\n",
      "Computing CMC and mAP ...\n",
      "** Results **\n",
      "mAP: 65.61%\n",
      "Ranks:\n",
      "Rank-1  : 45.50%\n",
      "Rank-5  : 70.24%\n",
      "Rank-10 : 79.04%\n",
      "\u001b[33mValidating ensembled with momentum models ...\u001b[0m\n",
      "Computing CMC and mAP ...\n",
      "** Results **\n",
      "mAP: 65.36%\n",
      "Ranks:\n",
      "Rank-1  : 43.96%\n",
      "Rank-5  : 75.79%\n",
      "Rank-10 : 85.67%\n",
      "###============ Iteration number 26/90 ============###\n",
      "Extracting Online Features for efficientnet ...\n",
      "Features extracted in 189.16 seconds\n",
      "Computing jaccard distance...\n"
     ]
    },
    {
     "name": "stderr",
     "output_type": "stream",
     "text": [
      "bruteForceKnn is deprecated; call bfKnn instead\n"
     ]
    },
    {
     "name": "stdout",
     "output_type": "stream",
     "text": [
      "Jaccard distance computing time cost: 80.68867516517639\n",
      "Extracting Online Features for convnext ...\n",
      "Features extracted in 191.74 seconds\n",
      "Computing jaccard distance...\n"
     ]
    },
    {
     "name": "stderr",
     "output_type": "stream",
     "text": [
      "bruteForceKnn is deprecated; call bfKnn instead\n"
     ]
    },
    {
     "name": "stdout",
     "output_type": "stream",
     "text": [
      "Jaccard distance computing time cost: 71.15400552749634\n",
      "Extracting Online Features for mobilenet ...\n",
      "Features extracted in 191.81 seconds\n",
      "Computing jaccard distance...\n"
     ]
    },
    {
     "name": "stderr",
     "output_type": "stream",
     "text": [
      "bruteForceKnn is deprecated; call bfKnn instead\n"
     ]
    },
    {
     "name": "stdout",
     "output_type": "stream",
     "text": [
      "Jaccard distance computing time cost: 73.52890682220459\n",
      "Extracting Online Features for vgg16 ...\n",
      "Features extracted in 187.53 seconds\n",
      "Computing jaccard distance...\n"
     ]
    },
    {
     "name": "stderr",
     "output_type": "stream",
     "text": [
      "bruteForceKnn is deprecated; call bfKnn instead\n"
     ]
    },
    {
     "name": "stdout",
     "output_type": "stream",
     "text": [
      "Jaccard distance computing time cost: 72.11831068992615\n",
      "Extracting Online Features for resnet50 ...\n",
      "Features extracted in 187.54 seconds\n",
      "Computing jaccard distance...\n"
     ]
    },
    {
     "name": "stderr",
     "output_type": "stream",
     "text": [
      "bruteForceKnn is deprecated; call bfKnn instead\n"
     ]
    },
    {
     "name": "stdout",
     "output_type": "stream",
     "text": [
      "Jaccard distance computing time cost: 71.9480288028717\n",
      "Extracting Online Features for osnet ...\n",
      "Features extracted in 192.07 seconds\n",
      "Computing jaccard distance...\n"
     ]
    },
    {
     "name": "stderr",
     "output_type": "stream",
     "text": [
      "bruteForceKnn is deprecated; call bfKnn instead\n"
     ]
    },
    {
     "name": "stdout",
     "output_type": "stream",
     "text": [
      "Jaccard distance computing time cost: 72.68127989768982\n",
      "Extracting Online Features for densenet121 ...\n",
      "Features extracted in 192.50 seconds\n",
      "Computing jaccard distance...\n"
     ]
    },
    {
     "name": "stderr",
     "output_type": "stream",
     "text": [
      "bruteForceKnn is deprecated; call bfKnn instead\n"
     ]
    },
    {
     "name": "stdout",
     "output_type": "stream",
     "text": [
      "Jaccard distance computing time cost: 72.02102041244507\n",
      "Reliability: 0.044\n",
      "\u001b[32mMean Purity: 0.02052\u001b[0m\n",
      "\u001b[34mThere are 20 clusters with 4 cameras\u001b[0m\n",
      "\u001b[34mThere are 21 clusters with 5 cameras\u001b[0m\n",
      "\u001b[34mThere are 11 clusters with 6 cameras\u001b[0m\n",
      "\u001b[34mThere are 8 clusters with 7 cameras\u001b[0m\n",
      "\u001b[34mThere are 2 clusters with 8 cameras\u001b[0m\n",
      "\u001b[34mThere are 4 clusters with 9 cameras\u001b[0m\n",
      "\u001b[34mThere are 4 clusters with 10 cameras\u001b[0m\n",
      "\u001b[34mThere are 4 clusters with 11 cameras\u001b[0m\n",
      "\u001b[34mThere are 3 clusters with 12 cameras\u001b[0m\n",
      "\u001b[34mThere are 5 clusters with 13 cameras\u001b[0m\n",
      "\u001b[34mThere are 2 clusters with 16 cameras\u001b[0m\n",
      "\u001b[34mThere are 2 clusters with 17 cameras\u001b[0m\n",
      "\u001b[34mThere are 2 clusters with 18 cameras\u001b[0m\n",
      "\u001b[34mThere are 1 clusters with 19 cameras\u001b[0m\n",
      "\u001b[34mThere are 4 clusters with 20 cameras\u001b[0m\n",
      "\u001b[34mThere are 3 clusters with 22 cameras\u001b[0m\n",
      "\u001b[34mThere are 1 clusters with 23 cameras\u001b[0m\n",
      "\u001b[34mThere are 1 clusters with 24 cameras\u001b[0m\n",
      "\u001b[34mThere are 1 clusters with 25 cameras\u001b[0m\n",
      "\u001b[34mThere are 1 clusters with 26 cameras\u001b[0m\n",
      "\u001b[34mThere are 3 clusters with 28 cameras\u001b[0m\n",
      "\u001b[34mThere are 1 clusters with 35 cameras\u001b[0m\n",
      "\u001b[34mThere are 1 clusters with 37 cameras\u001b[0m\n",
      "\u001b[34mThere are 1 clusters with 40 cameras\u001b[0m\n",
      "\u001b[34mThere are 1 clusters with 42 cameras\u001b[0m\n",
      "\u001b[34mThere are 1 clusters with 45 cameras\u001b[0m\n",
      "\u001b[34mThere are 1 clusters with 46 cameras\u001b[0m\n",
      "\u001b[34mThere are 1 clusters with 49 cameras\u001b[0m\n",
      "\u001b[34mThere are 1 clusters with 50 cameras\u001b[0m\n",
      "\u001b[34mThere are 1 clusters with 63 cameras\u001b[0m\n",
      "\u001b[34mThere are 2 clusters with 68 cameras\u001b[0m\n",
      "\u001b[34mThere are 1 clusters with 168 cameras\u001b[0m\n",
      "Number of classes: 115\n",
      "\u001b[36mLearning Rate: 0.000350\u001b[0m\n",
      "encontrou modelos efficientnet. Carregando...\n",
      "encontrou modelos convnext. Carregando...\n",
      "encontrou modelos mobilenet. Carregando...\n",
      "encontrou modelos vgg16. Carregando...\n",
      "encontrou modelos resnet50. Carregando...\n",
      "encontrou modelos osnet. Carregando...\n",
      "encontrou modelos densenet121. Carregando...\n",
      "###============ Iteration number 27/90 ============###\n",
      "Extracting Online Features for efficientnet ...\n",
      "Features extracted in 189.25 seconds\n",
      "Computing jaccard distance...\n"
     ]
    },
    {
     "name": "stderr",
     "output_type": "stream",
     "text": [
      "bruteForceKnn is deprecated; call bfKnn instead\n"
     ]
    },
    {
     "name": "stdout",
     "output_type": "stream",
     "text": [
      "Jaccard distance computing time cost: 86.77144265174866\n",
      "Extracting Online Features for convnext ...\n",
      "Features extracted in 188.46 seconds\n",
      "Computing jaccard distance...\n"
     ]
    },
    {
     "name": "stderr",
     "output_type": "stream",
     "text": [
      "bruteForceKnn is deprecated; call bfKnn instead\n"
     ]
    },
    {
     "name": "stdout",
     "output_type": "stream",
     "text": [
      "Jaccard distance computing time cost: 81.87680673599243\n",
      "Extracting Online Features for mobilenet ...\n",
      "Features extracted in 191.68 seconds\n",
      "Computing jaccard distance...\n"
     ]
    },
    {
     "name": "stderr",
     "output_type": "stream",
     "text": [
      "bruteForceKnn is deprecated; call bfKnn instead\n"
     ]
    },
    {
     "name": "stdout",
     "output_type": "stream",
     "text": [
      "Jaccard distance computing time cost: 69.28432631492615\n",
      "Extracting Online Features for vgg16 ...\n",
      "Features extracted in 191.50 seconds\n",
      "Computing jaccard distance...\n"
     ]
    },
    {
     "name": "stderr",
     "output_type": "stream",
     "text": [
      "bruteForceKnn is deprecated; call bfKnn instead\n"
     ]
    },
    {
     "name": "stdout",
     "output_type": "stream",
     "text": [
      "Jaccard distance computing time cost: 72.72401762008667\n",
      "Extracting Online Features for resnet50 ...\n",
      "Features extracted in 190.53 seconds\n",
      "Computing jaccard distance...\n"
     ]
    },
    {
     "name": "stderr",
     "output_type": "stream",
     "text": [
      "bruteForceKnn is deprecated; call bfKnn instead\n"
     ]
    },
    {
     "name": "stdout",
     "output_type": "stream",
     "text": [
      "Jaccard distance computing time cost: 71.04394841194153\n",
      "Extracting Online Features for osnet ...\n",
      "Features extracted in 188.49 seconds\n",
      "Computing jaccard distance...\n"
     ]
    },
    {
     "name": "stderr",
     "output_type": "stream",
     "text": [
      "bruteForceKnn is deprecated; call bfKnn instead\n"
     ]
    },
    {
     "name": "stdout",
     "output_type": "stream",
     "text": [
      "Jaccard distance computing time cost: 75.00195264816284\n",
      "Extracting Online Features for densenet121 ...\n",
      "Features extracted in 191.91 seconds\n",
      "Computing jaccard distance...\n"
     ]
    },
    {
     "name": "stderr",
     "output_type": "stream",
     "text": [
      "bruteForceKnn is deprecated; call bfKnn instead\n"
     ]
    },
    {
     "name": "stdout",
     "output_type": "stream",
     "text": [
      "Jaccard distance computing time cost: 74.78907251358032\n",
      "Reliability: 0.044\n",
      "\u001b[32mMean Purity: 0.02052\u001b[0m\n",
      "\u001b[34mThere are 20 clusters with 4 cameras\u001b[0m\n",
      "\u001b[34mThere are 21 clusters with 5 cameras\u001b[0m\n",
      "\u001b[34mThere are 11 clusters with 6 cameras\u001b[0m\n",
      "\u001b[34mThere are 8 clusters with 7 cameras\u001b[0m\n",
      "\u001b[34mThere are 2 clusters with 8 cameras\u001b[0m\n",
      "\u001b[34mThere are 4 clusters with 9 cameras\u001b[0m\n",
      "\u001b[34mThere are 4 clusters with 10 cameras\u001b[0m\n",
      "\u001b[34mThere are 4 clusters with 11 cameras\u001b[0m\n",
      "\u001b[34mThere are 3 clusters with 12 cameras\u001b[0m\n",
      "\u001b[34mThere are 5 clusters with 13 cameras\u001b[0m\n",
      "\u001b[34mThere are 2 clusters with 16 cameras\u001b[0m\n",
      "\u001b[34mThere are 2 clusters with 17 cameras\u001b[0m\n",
      "\u001b[34mThere are 2 clusters with 18 cameras\u001b[0m\n",
      "\u001b[34mThere are 1 clusters with 19 cameras\u001b[0m\n",
      "\u001b[34mThere are 4 clusters with 20 cameras\u001b[0m\n",
      "\u001b[34mThere are 3 clusters with 22 cameras\u001b[0m\n",
      "\u001b[34mThere are 1 clusters with 23 cameras\u001b[0m\n",
      "\u001b[34mThere are 1 clusters with 24 cameras\u001b[0m\n",
      "\u001b[34mThere are 1 clusters with 25 cameras\u001b[0m\n",
      "\u001b[34mThere are 1 clusters with 26 cameras\u001b[0m\n",
      "\u001b[34mThere are 3 clusters with 28 cameras\u001b[0m\n",
      "\u001b[34mThere are 1 clusters with 35 cameras\u001b[0m\n",
      "\u001b[34mThere are 1 clusters with 37 cameras\u001b[0m\n",
      "\u001b[34mThere are 1 clusters with 40 cameras\u001b[0m\n",
      "\u001b[34mThere are 1 clusters with 42 cameras\u001b[0m\n",
      "\u001b[34mThere are 1 clusters with 45 cameras\u001b[0m\n",
      "\u001b[34mThere are 1 clusters with 46 cameras\u001b[0m\n",
      "\u001b[34mThere are 1 clusters with 49 cameras\u001b[0m\n",
      "\u001b[34mThere are 1 clusters with 50 cameras\u001b[0m\n",
      "\u001b[34mThere are 1 clusters with 63 cameras\u001b[0m\n",
      "\u001b[34mThere are 2 clusters with 68 cameras\u001b[0m\n",
      "\u001b[34mThere are 1 clusters with 168 cameras\u001b[0m\n",
      "Number of classes: 115\n",
      "\u001b[36mLearning Rate: 0.000350\u001b[0m\n",
      "encontrou modelos efficientnet. Carregando...\n",
      "encontrou modelos convnext. Carregando...\n",
      "encontrou modelos mobilenet. Carregando...\n",
      "encontrou modelos vgg16. Carregando...\n",
      "encontrou modelos resnet50. Carregando...\n",
      "encontrou modelos osnet. Carregando...\n",
      "encontrou modelos densenet121. Carregando...\n",
      "###============ Iteration number 28/90 ============###\n",
      "Extracting Online Features for efficientnet ...\n",
      "Features extracted in 189.09 seconds\n",
      "Computing jaccard distance...\n"
     ]
    },
    {
     "name": "stderr",
     "output_type": "stream",
     "text": [
      "bruteForceKnn is deprecated; call bfKnn instead\n"
     ]
    },
    {
     "name": "stdout",
     "output_type": "stream",
     "text": [
      "Jaccard distance computing time cost: 78.52203631401062\n",
      "Extracting Online Features for convnext ...\n",
      "Features extracted in 187.77 seconds\n",
      "Computing jaccard distance...\n"
     ]
    },
    {
     "name": "stderr",
     "output_type": "stream",
     "text": [
      "bruteForceKnn is deprecated; call bfKnn instead\n"
     ]
    },
    {
     "name": "stdout",
     "output_type": "stream",
     "text": [
      "Jaccard distance computing time cost: 72.21209025382996\n",
      "Extracting Online Features for mobilenet ...\n",
      "Features extracted in 191.45 seconds\n",
      "Computing jaccard distance...\n"
     ]
    },
    {
     "name": "stderr",
     "output_type": "stream",
     "text": [
      "bruteForceKnn is deprecated; call bfKnn instead\n"
     ]
    },
    {
     "name": "stdout",
     "output_type": "stream",
     "text": [
      "Jaccard distance computing time cost: 69.8139100074768\n",
      "Extracting Online Features for vgg16 ...\n",
      "Features extracted in 191.61 seconds\n",
      "Computing jaccard distance...\n"
     ]
    },
    {
     "name": "stderr",
     "output_type": "stream",
     "text": [
      "bruteForceKnn is deprecated; call bfKnn instead\n"
     ]
    },
    {
     "name": "stdout",
     "output_type": "stream",
     "text": [
      "Jaccard distance computing time cost: 80.40147924423218\n",
      "Extracting Online Features for resnet50 ...\n",
      "Features extracted in 190.91 seconds\n",
      "Computing jaccard distance...\n"
     ]
    },
    {
     "name": "stderr",
     "output_type": "stream",
     "text": [
      "bruteForceKnn is deprecated; call bfKnn instead\n"
     ]
    },
    {
     "name": "stdout",
     "output_type": "stream",
     "text": [
      "Jaccard distance computing time cost: 70.34353470802307\n",
      "Extracting Online Features for osnet ...\n",
      "Features extracted in 188.32 seconds\n",
      "Computing jaccard distance...\n"
     ]
    },
    {
     "name": "stderr",
     "output_type": "stream",
     "text": [
      "bruteForceKnn is deprecated; call bfKnn instead\n"
     ]
    },
    {
     "name": "stdout",
     "output_type": "stream",
     "text": [
      "Jaccard distance computing time cost: 71.97760462760925\n",
      "Extracting Online Features for densenet121 ...\n",
      "Features extracted in 190.26 seconds\n",
      "Computing jaccard distance...\n"
     ]
    },
    {
     "name": "stderr",
     "output_type": "stream",
     "text": [
      "bruteForceKnn is deprecated; call bfKnn instead\n"
     ]
    },
    {
     "name": "stdout",
     "output_type": "stream",
     "text": [
      "Jaccard distance computing time cost: 73.84464240074158\n",
      "Reliability: 0.044\n",
      "\u001b[32mMean Purity: 0.02052\u001b[0m\n",
      "\u001b[34mThere are 20 clusters with 4 cameras\u001b[0m\n",
      "\u001b[34mThere are 21 clusters with 5 cameras\u001b[0m\n",
      "\u001b[34mThere are 11 clusters with 6 cameras\u001b[0m\n",
      "\u001b[34mThere are 8 clusters with 7 cameras\u001b[0m\n",
      "\u001b[34mThere are 2 clusters with 8 cameras\u001b[0m\n",
      "\u001b[34mThere are 4 clusters with 9 cameras\u001b[0m\n",
      "\u001b[34mThere are 4 clusters with 10 cameras\u001b[0m\n",
      "\u001b[34mThere are 4 clusters with 11 cameras\u001b[0m\n",
      "\u001b[34mThere are 3 clusters with 12 cameras\u001b[0m\n",
      "\u001b[34mThere are 5 clusters with 13 cameras\u001b[0m\n",
      "\u001b[34mThere are 2 clusters with 16 cameras\u001b[0m\n",
      "\u001b[34mThere are 2 clusters with 17 cameras\u001b[0m\n",
      "\u001b[34mThere are 2 clusters with 18 cameras\u001b[0m\n",
      "\u001b[34mThere are 1 clusters with 19 cameras\u001b[0m\n",
      "\u001b[34mThere are 4 clusters with 20 cameras\u001b[0m\n",
      "\u001b[34mThere are 3 clusters with 22 cameras\u001b[0m\n",
      "\u001b[34mThere are 1 clusters with 23 cameras\u001b[0m\n",
      "\u001b[34mThere are 1 clusters with 24 cameras\u001b[0m\n",
      "\u001b[34mThere are 1 clusters with 25 cameras\u001b[0m\n",
      "\u001b[34mThere are 1 clusters with 26 cameras\u001b[0m\n",
      "\u001b[34mThere are 3 clusters with 28 cameras\u001b[0m\n",
      "\u001b[34mThere are 1 clusters with 35 cameras\u001b[0m\n",
      "\u001b[34mThere are 1 clusters with 37 cameras\u001b[0m\n",
      "\u001b[34mThere are 1 clusters with 40 cameras\u001b[0m\n",
      "\u001b[34mThere are 1 clusters with 42 cameras\u001b[0m\n",
      "\u001b[34mThere are 1 clusters with 45 cameras\u001b[0m\n",
      "\u001b[34mThere are 1 clusters with 46 cameras\u001b[0m\n",
      "\u001b[34mThere are 1 clusters with 49 cameras\u001b[0m\n",
      "\u001b[34mThere are 1 clusters with 50 cameras\u001b[0m\n",
      "\u001b[34mThere are 1 clusters with 63 cameras\u001b[0m\n",
      "\u001b[34mThere are 2 clusters with 68 cameras\u001b[0m\n",
      "\u001b[34mThere are 1 clusters with 168 cameras\u001b[0m\n",
      "Number of classes: 115\n",
      "\u001b[36mLearning Rate: 0.000350\u001b[0m\n",
      "encontrou modelos efficientnet. Carregando...\n",
      "encontrou modelos convnext. Carregando...\n",
      "encontrou modelos mobilenet. Carregando...\n",
      "encontrou modelos vgg16. Carregando...\n",
      "encontrou modelos resnet50. Carregando...\n",
      "encontrou modelos osnet. Carregando...\n",
      "encontrou modelos densenet121. Carregando...\n",
      "###============ Iteration number 29/90 ============###\n",
      "Extracting Online Features for efficientnet ...\n",
      "Features extracted in 192.73 seconds\n",
      "Computing jaccard distance...\n"
     ]
    },
    {
     "name": "stderr",
     "output_type": "stream",
     "text": [
      "bruteForceKnn is deprecated; call bfKnn instead\n"
     ]
    },
    {
     "name": "stdout",
     "output_type": "stream",
     "text": [
      "Jaccard distance computing time cost: 81.6716365814209\n",
      "Extracting Online Features for convnext ...\n",
      "Features extracted in 193.04 seconds\n",
      "Computing jaccard distance...\n"
     ]
    },
    {
     "name": "stderr",
     "output_type": "stream",
     "text": [
      "bruteForceKnn is deprecated; call bfKnn instead\n"
     ]
    },
    {
     "name": "stdout",
     "output_type": "stream",
     "text": [
      "Jaccard distance computing time cost: 70.9872670173645\n",
      "Extracting Online Features for mobilenet ...\n",
      "Features extracted in 188.77 seconds\n",
      "Computing jaccard distance...\n"
     ]
    },
    {
     "name": "stderr",
     "output_type": "stream",
     "text": [
      "bruteForceKnn is deprecated; call bfKnn instead\n"
     ]
    },
    {
     "name": "stdout",
     "output_type": "stream",
     "text": [
      "Jaccard distance computing time cost: 70.88615441322327\n",
      "Extracting Online Features for vgg16 ...\n",
      "Features extracted in 188.04 seconds\n",
      "Computing jaccard distance...\n"
     ]
    },
    {
     "name": "stderr",
     "output_type": "stream",
     "text": [
      "bruteForceKnn is deprecated; call bfKnn instead\n"
     ]
    },
    {
     "name": "stdout",
     "output_type": "stream",
     "text": [
      "Jaccard distance computing time cost: 82.69802045822144\n",
      "Extracting Online Features for resnet50 ...\n",
      "Features extracted in 186.24 seconds\n",
      "Computing jaccard distance...\n"
     ]
    },
    {
     "name": "stderr",
     "output_type": "stream",
     "text": [
      "bruteForceKnn is deprecated; call bfKnn instead\n"
     ]
    },
    {
     "name": "stdout",
     "output_type": "stream",
     "text": [
      "Jaccard distance computing time cost: 70.01280093193054\n",
      "Extracting Online Features for osnet ...\n",
      "Features extracted in 188.29 seconds\n",
      "Computing jaccard distance...\n"
     ]
    },
    {
     "name": "stderr",
     "output_type": "stream",
     "text": [
      "bruteForceKnn is deprecated; call bfKnn instead\n"
     ]
    },
    {
     "name": "stdout",
     "output_type": "stream",
     "text": [
      "Jaccard distance computing time cost: 71.33898520469666\n",
      "Extracting Online Features for densenet121 ...\n",
      "Features extracted in 189.53 seconds\n",
      "Computing jaccard distance...\n"
     ]
    },
    {
     "name": "stderr",
     "output_type": "stream",
     "text": [
      "bruteForceKnn is deprecated; call bfKnn instead\n"
     ]
    },
    {
     "name": "stdout",
     "output_type": "stream",
     "text": [
      "Jaccard distance computing time cost: 73.34455442428589\n",
      "Reliability: 0.044\n",
      "\u001b[32mMean Purity: 0.02052\u001b[0m\n",
      "\u001b[34mThere are 20 clusters with 4 cameras\u001b[0m\n",
      "\u001b[34mThere are 21 clusters with 5 cameras\u001b[0m\n",
      "\u001b[34mThere are 11 clusters with 6 cameras\u001b[0m\n",
      "\u001b[34mThere are 8 clusters with 7 cameras\u001b[0m\n",
      "\u001b[34mThere are 2 clusters with 8 cameras\u001b[0m\n",
      "\u001b[34mThere are 4 clusters with 9 cameras\u001b[0m\n",
      "\u001b[34mThere are 4 clusters with 10 cameras\u001b[0m\n",
      "\u001b[34mThere are 4 clusters with 11 cameras\u001b[0m\n",
      "\u001b[34mThere are 3 clusters with 12 cameras\u001b[0m\n",
      "\u001b[34mThere are 5 clusters with 13 cameras\u001b[0m\n",
      "\u001b[34mThere are 2 clusters with 16 cameras\u001b[0m\n",
      "\u001b[34mThere are 2 clusters with 17 cameras\u001b[0m\n",
      "\u001b[34mThere are 2 clusters with 18 cameras\u001b[0m\n",
      "\u001b[34mThere are 1 clusters with 19 cameras\u001b[0m\n",
      "\u001b[34mThere are 4 clusters with 20 cameras\u001b[0m\n",
      "\u001b[34mThere are 3 clusters with 22 cameras\u001b[0m\n",
      "\u001b[34mThere are 1 clusters with 23 cameras\u001b[0m\n",
      "\u001b[34mThere are 1 clusters with 24 cameras\u001b[0m\n",
      "\u001b[34mThere are 1 clusters with 25 cameras\u001b[0m\n",
      "\u001b[34mThere are 1 clusters with 26 cameras\u001b[0m\n",
      "\u001b[34mThere are 3 clusters with 28 cameras\u001b[0m\n",
      "\u001b[34mThere are 1 clusters with 35 cameras\u001b[0m\n",
      "\u001b[34mThere are 1 clusters with 37 cameras\u001b[0m\n",
      "\u001b[34mThere are 1 clusters with 40 cameras\u001b[0m\n",
      "\u001b[34mThere are 1 clusters with 42 cameras\u001b[0m\n",
      "\u001b[34mThere are 1 clusters with 45 cameras\u001b[0m\n",
      "\u001b[34mThere are 1 clusters with 46 cameras\u001b[0m\n",
      "\u001b[34mThere are 1 clusters with 49 cameras\u001b[0m\n",
      "\u001b[34mThere are 1 clusters with 50 cameras\u001b[0m\n",
      "\u001b[34mThere are 1 clusters with 63 cameras\u001b[0m\n",
      "\u001b[34mThere are 2 clusters with 68 cameras\u001b[0m\n",
      "\u001b[34mThere are 1 clusters with 168 cameras\u001b[0m\n",
      "Number of classes: 115\n",
      "\u001b[36mLearning Rate: 0.000350\u001b[0m\n",
      "encontrou modelos efficientnet. Carregando...\n",
      "encontrou modelos convnext. Carregando...\n",
      "encontrou modelos mobilenet. Carregando...\n",
      "encontrou modelos vgg16. Carregando...\n",
      "encontrou modelos resnet50. Carregando...\n",
      "encontrou modelos osnet. Carregando...\n",
      "encontrou modelos densenet121. Carregando...\n",
      "###============ Iteration number 30/90 ============###\n",
      "Extracting Online Features for efficientnet ...\n",
      "Features extracted in 192.67 seconds\n",
      "Computing jaccard distance...\n"
     ]
    },
    {
     "name": "stderr",
     "output_type": "stream",
     "text": [
      "bruteForceKnn is deprecated; call bfKnn instead\n"
     ]
    },
    {
     "name": "stdout",
     "output_type": "stream",
     "text": [
      "Jaccard distance computing time cost: 90.30655264854431\n",
      "Extracting Online Features for convnext ...\n",
      "Features extracted in 192.48 seconds\n",
      "Computing jaccard distance...\n"
     ]
    },
    {
     "name": "stderr",
     "output_type": "stream",
     "text": [
      "bruteForceKnn is deprecated; call bfKnn instead\n"
     ]
    },
    {
     "name": "stdout",
     "output_type": "stream",
     "text": [
      "Jaccard distance computing time cost: 71.17142367362976\n",
      "Extracting Online Features for mobilenet ...\n",
      "Features extracted in 189.14 seconds\n",
      "Computing jaccard distance...\n"
     ]
    },
    {
     "name": "stderr",
     "output_type": "stream",
     "text": [
      "bruteForceKnn is deprecated; call bfKnn instead\n"
     ]
    },
    {
     "name": "stdout",
     "output_type": "stream",
     "text": [
      "Jaccard distance computing time cost: 70.94525718688965\n",
      "Extracting Online Features for vgg16 ...\n",
      "Features extracted in 191.16 seconds\n",
      "Computing jaccard distance...\n"
     ]
    },
    {
     "name": "stderr",
     "output_type": "stream",
     "text": [
      "bruteForceKnn is deprecated; call bfKnn instead\n"
     ]
    },
    {
     "name": "stdout",
     "output_type": "stream",
     "text": [
      "Jaccard distance computing time cost: 74.48432779312134\n",
      "Extracting Online Features for resnet50 ...\n",
      "Features extracted in 191.19 seconds\n",
      "Computing jaccard distance...\n"
     ]
    },
    {
     "name": "stderr",
     "output_type": "stream",
     "text": [
      "bruteForceKnn is deprecated; call bfKnn instead\n"
     ]
    },
    {
     "name": "stdout",
     "output_type": "stream",
     "text": [
      "Jaccard distance computing time cost: 68.90718936920166\n",
      "Extracting Online Features for osnet ...\n",
      "Features extracted in 190.90 seconds\n",
      "Computing jaccard distance...\n"
     ]
    },
    {
     "name": "stderr",
     "output_type": "stream",
     "text": [
      "bruteForceKnn is deprecated; call bfKnn instead\n"
     ]
    },
    {
     "name": "stdout",
     "output_type": "stream",
     "text": [
      "Jaccard distance computing time cost: 71.87930631637573\n",
      "Extracting Online Features for densenet121 ...\n",
      "Features extracted in 188.63 seconds\n",
      "Computing jaccard distance...\n"
     ]
    },
    {
     "name": "stderr",
     "output_type": "stream",
     "text": [
      "bruteForceKnn is deprecated; call bfKnn instead\n"
     ]
    },
    {
     "name": "stdout",
     "output_type": "stream",
     "text": [
      "Jaccard distance computing time cost: 72.98257780075073\n",
      "Reliability: 0.044\n",
      "\u001b[32mMean Purity: 0.02052\u001b[0m\n",
      "\u001b[34mThere are 20 clusters with 4 cameras\u001b[0m\n",
      "\u001b[34mThere are 21 clusters with 5 cameras\u001b[0m\n",
      "\u001b[34mThere are 11 clusters with 6 cameras\u001b[0m\n",
      "\u001b[34mThere are 8 clusters with 7 cameras\u001b[0m\n",
      "\u001b[34mThere are 2 clusters with 8 cameras\u001b[0m\n",
      "\u001b[34mThere are 4 clusters with 9 cameras\u001b[0m\n",
      "\u001b[34mThere are 4 clusters with 10 cameras\u001b[0m\n",
      "\u001b[34mThere are 4 clusters with 11 cameras\u001b[0m\n",
      "\u001b[34mThere are 3 clusters with 12 cameras\u001b[0m\n",
      "\u001b[34mThere are 5 clusters with 13 cameras\u001b[0m\n",
      "\u001b[34mThere are 2 clusters with 16 cameras\u001b[0m\n",
      "\u001b[34mThere are 2 clusters with 17 cameras\u001b[0m\n",
      "\u001b[34mThere are 2 clusters with 18 cameras\u001b[0m\n",
      "\u001b[34mThere are 1 clusters with 19 cameras\u001b[0m\n",
      "\u001b[34mThere are 4 clusters with 20 cameras\u001b[0m\n",
      "\u001b[34mThere are 3 clusters with 22 cameras\u001b[0m\n",
      "\u001b[34mThere are 1 clusters with 23 cameras\u001b[0m\n",
      "\u001b[34mThere are 1 clusters with 24 cameras\u001b[0m\n",
      "\u001b[34mThere are 1 clusters with 25 cameras\u001b[0m\n",
      "\u001b[34mThere are 1 clusters with 26 cameras\u001b[0m\n",
      "\u001b[34mThere are 3 clusters with 28 cameras\u001b[0m\n",
      "\u001b[34mThere are 1 clusters with 35 cameras\u001b[0m\n",
      "\u001b[34mThere are 1 clusters with 37 cameras\u001b[0m\n",
      "\u001b[34mThere are 1 clusters with 40 cameras\u001b[0m\n",
      "\u001b[34mThere are 1 clusters with 42 cameras\u001b[0m\n",
      "\u001b[34mThere are 1 clusters with 45 cameras\u001b[0m\n",
      "\u001b[34mThere are 1 clusters with 46 cameras\u001b[0m\n",
      "\u001b[34mThere are 1 clusters with 49 cameras\u001b[0m\n",
      "\u001b[34mThere are 1 clusters with 50 cameras\u001b[0m\n",
      "\u001b[34mThere are 1 clusters with 63 cameras\u001b[0m\n",
      "\u001b[34mThere are 2 clusters with 68 cameras\u001b[0m\n",
      "\u001b[34mThere are 1 clusters with 168 cameras\u001b[0m\n",
      "Number of classes: 115\n",
      "\u001b[36mLearning Rate: 0.000350\u001b[0m\n",
      "encontrou modelos efficientnet. Carregando...\n",
      "encontrou modelos convnext. Carregando...\n",
      "encontrou modelos mobilenet. Carregando...\n",
      "encontrou modelos vgg16. Carregando...\n",
      "encontrou modelos resnet50. Carregando...\n",
      "encontrou modelos osnet. Carregando...\n",
      "encontrou modelos densenet121. Carregando...\n",
      "\u001b[33mValidating online efficientnet ...\u001b[0m\n",
      "Features extracted in 58.58 seconds\n",
      "Features extracted in 118.31 seconds\n",
      "Computing CMC and mAP ...\n",
      "** Results **\n",
      "mAP: 66.96%\n",
      "CMC curve\n",
      "Rank-1  : 49.76%\n",
      "Rank-5  : 88.29%\n",
      "Rank-10 : 96.33%\n",
      "Rank-20 : 99.32%\n",
      "\u001b[33mValidating momentum efficientnet ...\u001b[0m\n",
      "Features extracted in 58.38 seconds\n",
      "Features extracted in 114.49 seconds\n",
      "Computing CMC and mAP ...\n",
      "** Results **\n",
      "mAP: 66.33%\n",
      "CMC curve\n",
      "Rank-1  : 47.72%\n",
      "Rank-5  : 83.15%\n",
      "Rank-10 : 91.82%\n",
      "Rank-20 : 96.73%\n",
      "\u001b[33mValidating online convnext ...\u001b[0m\n",
      "Features extracted in 59.45 seconds\n",
      "Features extracted in 116.47 seconds\n",
      "Computing CMC and mAP ...\n",
      "** Results **\n",
      "mAP: 65.77%\n",
      "CMC curve\n",
      "Rank-1  : 46.59%\n",
      "Rank-5  : 75.46%\n",
      "Rank-10 : 86.74%\n",
      "Rank-20 : 94.66%\n",
      "\u001b[33mValidating momentum convnext ...\u001b[0m\n",
      "Features extracted in 58.92 seconds\n",
      "Features extracted in 118.14 seconds\n",
      "Computing CMC and mAP ...\n",
      "** Results **\n",
      "mAP: 64.96%\n",
      "CMC curve\n",
      "Rank-1  : 45.63%\n",
      "Rank-5  : 75.04%\n",
      "Rank-10 : 87.30%\n",
      "Rank-20 : 95.01%\n",
      "\u001b[33mValidating online mobilenet ...\u001b[0m\n",
      "Features extracted in 58.19 seconds\n",
      "Features extracted in 116.00 seconds\n",
      "Computing CMC and mAP ...\n",
      "** Results **\n",
      "mAP: 66.23%\n",
      "CMC curve\n",
      "Rank-1  : 51.24%\n",
      "Rank-5  : 86.31%\n",
      "Rank-10 : 94.85%\n",
      "Rank-20 : 99.15%\n",
      "\u001b[33mValidating momentum mobilenet ...\u001b[0m\n",
      "Features extracted in 58.41 seconds\n",
      "Features extracted in 116.05 seconds\n",
      "Computing CMC and mAP ...\n",
      "** Results **\n",
      "mAP: 66.41%\n",
      "CMC curve\n",
      "Rank-1  : 52.73%\n",
      "Rank-5  : 85.40%\n",
      "Rank-10 : 93.79%\n",
      "Rank-20 : 98.57%\n",
      "\u001b[33mValidating online vgg16 ...\u001b[0m\n",
      "Features extracted in 59.22 seconds\n",
      "Features extracted in 115.99 seconds\n",
      "Computing CMC and mAP ...\n",
      "** Results **\n",
      "mAP: 65.47%\n",
      "CMC curve\n",
      "Rank-1  : 43.56%\n",
      "Rank-5  : 75.41%\n",
      "Rank-10 : 85.98%\n",
      "Rank-20 : 92.95%\n",
      "\u001b[33mValidating momentum vgg16 ...\u001b[0m\n",
      "Features extracted in 61.94 seconds\n",
      "Features extracted in 118.20 seconds\n",
      "Computing CMC and mAP ...\n",
      "** Results **\n",
      "mAP: 65.67%\n",
      "CMC curve\n",
      "Rank-1  : 45.75%\n",
      "Rank-5  : 82.00%\n",
      "Rank-10 : 90.62%\n",
      "Rank-20 : 96.36%\n",
      "\u001b[33mValidating online resnet50 ...\u001b[0m\n",
      "Features extracted in 58.95 seconds\n",
      "Features extracted in 116.09 seconds\n",
      "Computing CMC and mAP ...\n",
      "** Results **\n",
      "mAP: 65.64%\n",
      "CMC curve\n",
      "Rank-1  : 44.24%\n",
      "Rank-5  : 67.84%\n",
      "Rank-10 : 75.44%\n",
      "Rank-20 : 82.42%\n",
      "\u001b[33mValidating momentum resnet50 ...\u001b[0m\n",
      "Features extracted in 58.96 seconds\n",
      "Features extracted in 116.66 seconds\n",
      "Computing CMC and mAP ...\n",
      "** Results **\n",
      "mAP: 64.94%\n",
      "CMC curve\n",
      "Rank-1  : 43.33%\n",
      "Rank-5  : 71.52%\n",
      "Rank-10 : 80.95%\n",
      "Rank-20 : 90.36%\n",
      "\u001b[33mValidating online osnet ...\u001b[0m\n",
      "Features extracted in 60.15 seconds\n",
      "Features extracted in 116.07 seconds\n",
      "Computing CMC and mAP ...\n",
      "** Results **\n",
      "mAP: 66.87%\n",
      "CMC curve\n",
      "Rank-1  : 48.11%\n",
      "Rank-5  : 84.70%\n",
      "Rank-10 : 95.19%\n",
      "Rank-20 : 99.23%\n",
      "\u001b[33mValidating momentum osnet ...\u001b[0m\n",
      "Features extracted in 60.62 seconds\n",
      "Features extracted in 118.93 seconds\n",
      "Computing CMC and mAP ...\n",
      "** Results **\n",
      "mAP: 67.06%\n",
      "CMC curve\n",
      "Rank-1  : 51.39%\n",
      "Rank-5  : 86.67%\n",
      "Rank-10 : 94.96%\n",
      "Rank-20 : 98.71%\n",
      "\u001b[33mValidating online densenet121 ...\u001b[0m\n",
      "Features extracted in 61.35 seconds\n",
      "Features extracted in 117.35 seconds\n",
      "Computing CMC and mAP ...\n",
      "** Results **\n",
      "mAP: 65.34%\n",
      "CMC curve\n",
      "Rank-1  : 45.42%\n",
      "Rank-5  : 74.47%\n",
      "Rank-10 : 84.90%\n",
      "Rank-20 : 93.93%\n",
      "\u001b[33mValidating momentum densenet121 ...\u001b[0m\n",
      "Features extracted in 60.29 seconds\n",
      "Features extracted in 117.35 seconds\n",
      "Computing CMC and mAP ...\n",
      "** Results **\n",
      "mAP: 65.71%\n",
      "CMC curve\n",
      "Rank-1  : 46.36%\n",
      "Rank-5  : 79.22%\n",
      "Rank-10 : 88.80%\n",
      "Rank-20 : 95.19%\n",
      "\u001b[33mValidating ensembled with online models ...\u001b[0m\n",
      "Computing CMC and mAP ...\n",
      "** Results **\n",
      "mAP: 65.61%\n",
      "Ranks:\n",
      "Rank-1  : 45.50%\n",
      "Rank-5  : 70.24%\n",
      "Rank-10 : 79.04%\n",
      "\u001b[33mValidating ensembled with momentum models ...\u001b[0m\n",
      "Computing CMC and mAP ...\n",
      "** Results **\n",
      "mAP: 65.36%\n",
      "Ranks:\n",
      "Rank-1  : 43.96%\n",
      "Rank-5  : 75.79%\n",
      "Rank-10 : 85.67%\n",
      "###============ Iteration number 31/90 ============###\n",
      "Extracting Online Features for efficientnet ...\n",
      "Features extracted in 189.38 seconds\n",
      "Computing jaccard distance...\n"
     ]
    },
    {
     "name": "stderr",
     "output_type": "stream",
     "text": [
      "bruteForceKnn is deprecated; call bfKnn instead\n"
     ]
    },
    {
     "name": "stdout",
     "output_type": "stream",
     "text": [
      "Jaccard distance computing time cost: 79.13116645812988\n",
      "Extracting Online Features for convnext ...\n",
      "Features extracted in 191.08 seconds\n",
      "Computing jaccard distance...\n"
     ]
    },
    {
     "name": "stderr",
     "output_type": "stream",
     "text": [
      "bruteForceKnn is deprecated; call bfKnn instead\n"
     ]
    },
    {
     "name": "stdout",
     "output_type": "stream",
     "text": [
      "Jaccard distance computing time cost: 71.25766444206238\n",
      "Extracting Online Features for mobilenet ...\n",
      "Features extracted in 185.85 seconds\n",
      "Computing jaccard distance...\n"
     ]
    },
    {
     "name": "stderr",
     "output_type": "stream",
     "text": [
      "bruteForceKnn is deprecated; call bfKnn instead\n"
     ]
    },
    {
     "name": "stdout",
     "output_type": "stream",
     "text": [
      "Jaccard distance computing time cost: 71.8634741306305\n",
      "Extracting Online Features for vgg16 ...\n",
      "Features extracted in 189.98 seconds\n",
      "Computing jaccard distance...\n"
     ]
    },
    {
     "name": "stderr",
     "output_type": "stream",
     "text": [
      "bruteForceKnn is deprecated; call bfKnn instead\n"
     ]
    },
    {
     "name": "stdout",
     "output_type": "stream",
     "text": [
      "Jaccard distance computing time cost: 71.9750828742981\n",
      "Extracting Online Features for resnet50 ...\n",
      "Features extracted in 195.53 seconds\n",
      "Computing jaccard distance...\n"
     ]
    },
    {
     "name": "stderr",
     "output_type": "stream",
     "text": [
      "bruteForceKnn is deprecated; call bfKnn instead\n"
     ]
    },
    {
     "name": "stdout",
     "output_type": "stream",
     "text": [
      "Jaccard distance computing time cost: 68.26335716247559\n",
      "Extracting Online Features for osnet ...\n",
      "Features extracted in 191.62 seconds\n",
      "Computing jaccard distance...\n"
     ]
    },
    {
     "name": "stderr",
     "output_type": "stream",
     "text": [
      "bruteForceKnn is deprecated; call bfKnn instead\n"
     ]
    },
    {
     "name": "stdout",
     "output_type": "stream",
     "text": [
      "Jaccard distance computing time cost: 71.86937212944031\n",
      "Extracting Online Features for densenet121 ...\n",
      "Features extracted in 188.20 seconds\n",
      "Computing jaccard distance...\n"
     ]
    },
    {
     "name": "stderr",
     "output_type": "stream",
     "text": [
      "bruteForceKnn is deprecated; call bfKnn instead\n"
     ]
    },
    {
     "name": "stdout",
     "output_type": "stream",
     "text": [
      "Jaccard distance computing time cost: 72.27097940444946\n",
      "Reliability: 0.044\n",
      "\u001b[32mMean Purity: 0.02052\u001b[0m\n",
      "\u001b[34mThere are 20 clusters with 4 cameras\u001b[0m\n",
      "\u001b[34mThere are 21 clusters with 5 cameras\u001b[0m\n",
      "\u001b[34mThere are 11 clusters with 6 cameras\u001b[0m\n",
      "\u001b[34mThere are 8 clusters with 7 cameras\u001b[0m\n",
      "\u001b[34mThere are 2 clusters with 8 cameras\u001b[0m\n",
      "\u001b[34mThere are 4 clusters with 9 cameras\u001b[0m\n",
      "\u001b[34mThere are 4 clusters with 10 cameras\u001b[0m\n",
      "\u001b[34mThere are 4 clusters with 11 cameras\u001b[0m\n",
      "\u001b[34mThere are 3 clusters with 12 cameras\u001b[0m\n",
      "\u001b[34mThere are 5 clusters with 13 cameras\u001b[0m\n",
      "\u001b[34mThere are 2 clusters with 16 cameras\u001b[0m\n",
      "\u001b[34mThere are 2 clusters with 17 cameras\u001b[0m\n",
      "\u001b[34mThere are 2 clusters with 18 cameras\u001b[0m\n",
      "\u001b[34mThere are 1 clusters with 19 cameras\u001b[0m\n",
      "\u001b[34mThere are 4 clusters with 20 cameras\u001b[0m\n",
      "\u001b[34mThere are 3 clusters with 22 cameras\u001b[0m\n",
      "\u001b[34mThere are 1 clusters with 23 cameras\u001b[0m\n",
      "\u001b[34mThere are 1 clusters with 24 cameras\u001b[0m\n",
      "\u001b[34mThere are 1 clusters with 25 cameras\u001b[0m\n",
      "\u001b[34mThere are 1 clusters with 26 cameras\u001b[0m\n",
      "\u001b[34mThere are 3 clusters with 28 cameras\u001b[0m\n",
      "\u001b[34mThere are 1 clusters with 35 cameras\u001b[0m\n",
      "\u001b[34mThere are 1 clusters with 37 cameras\u001b[0m\n",
      "\u001b[34mThere are 1 clusters with 40 cameras\u001b[0m\n",
      "\u001b[34mThere are 1 clusters with 42 cameras\u001b[0m\n",
      "\u001b[34mThere are 1 clusters with 45 cameras\u001b[0m\n",
      "\u001b[34mThere are 1 clusters with 46 cameras\u001b[0m\n",
      "\u001b[34mThere are 1 clusters with 49 cameras\u001b[0m\n",
      "\u001b[34mThere are 1 clusters with 50 cameras\u001b[0m\n",
      "\u001b[34mThere are 1 clusters with 63 cameras\u001b[0m\n",
      "\u001b[34mThere are 2 clusters with 68 cameras\u001b[0m\n",
      "\u001b[34mThere are 1 clusters with 168 cameras\u001b[0m\n",
      "Number of classes: 115\n",
      "\u001b[36mLearning Rate: 0.000350\u001b[0m\n",
      "encontrou modelos efficientnet. Carregando...\n",
      "encontrou modelos convnext. Carregando...\n",
      "encontrou modelos mobilenet. Carregando...\n",
      "encontrou modelos vgg16. Carregando...\n",
      "encontrou modelos resnet50. Carregando...\n",
      "encontrou modelos osnet. Carregando...\n",
      "encontrou modelos densenet121. Carregando...\n",
      "###============ Iteration number 32/90 ============###\n",
      "Extracting Online Features for efficientnet ...\n",
      "Features extracted in 193.88 seconds\n",
      "Computing jaccard distance...\n"
     ]
    },
    {
     "name": "stderr",
     "output_type": "stream",
     "text": [
      "bruteForceKnn is deprecated; call bfKnn instead\n"
     ]
    },
    {
     "name": "stdout",
     "output_type": "stream",
     "text": [
      "Jaccard distance computing time cost: 80.24701762199402\n",
      "Extracting Online Features for convnext ...\n",
      "Features extracted in 191.86 seconds\n",
      "Computing jaccard distance...\n"
     ]
    },
    {
     "name": "stderr",
     "output_type": "stream",
     "text": [
      "bruteForceKnn is deprecated; call bfKnn instead\n"
     ]
    },
    {
     "name": "stdout",
     "output_type": "stream",
     "text": [
      "Jaccard distance computing time cost: 73.09606742858887\n",
      "Extracting Online Features for mobilenet ...\n",
      "Features extracted in 190.64 seconds\n",
      "Computing jaccard distance...\n"
     ]
    },
    {
     "name": "stderr",
     "output_type": "stream",
     "text": [
      "bruteForceKnn is deprecated; call bfKnn instead\n"
     ]
    },
    {
     "name": "stdout",
     "output_type": "stream",
     "text": [
      "Jaccard distance computing time cost: 70.00692462921143\n",
      "Extracting Online Features for vgg16 ...\n",
      "Features extracted in 191.65 seconds\n",
      "Computing jaccard distance...\n"
     ]
    },
    {
     "name": "stderr",
     "output_type": "stream",
     "text": [
      "bruteForceKnn is deprecated; call bfKnn instead\n"
     ]
    },
    {
     "name": "stdout",
     "output_type": "stream",
     "text": [
      "Jaccard distance computing time cost: 71.85178351402283\n",
      "Extracting Online Features for resnet50 ...\n",
      "Features extracted in 188.15 seconds\n",
      "Computing jaccard distance...\n"
     ]
    },
    {
     "name": "stderr",
     "output_type": "stream",
     "text": [
      "bruteForceKnn is deprecated; call bfKnn instead\n"
     ]
    },
    {
     "name": "stdout",
     "output_type": "stream",
     "text": [
      "Jaccard distance computing time cost: 71.16728663444519\n",
      "Extracting Online Features for osnet ...\n",
      "Features extracted in 192.84 seconds\n",
      "Computing jaccard distance...\n"
     ]
    },
    {
     "name": "stderr",
     "output_type": "stream",
     "text": [
      "bruteForceKnn is deprecated; call bfKnn instead\n"
     ]
    },
    {
     "name": "stdout",
     "output_type": "stream",
     "text": [
      "Jaccard distance computing time cost: 72.34386968612671\n",
      "Extracting Online Features for densenet121 ...\n",
      "Features extracted in 190.81 seconds\n",
      "Computing jaccard distance...\n"
     ]
    },
    {
     "name": "stderr",
     "output_type": "stream",
     "text": [
      "bruteForceKnn is deprecated; call bfKnn instead\n"
     ]
    },
    {
     "name": "stdout",
     "output_type": "stream",
     "text": [
      "Jaccard distance computing time cost: 72.92133855819702\n",
      "Reliability: 0.044\n",
      "\u001b[32mMean Purity: 0.02052\u001b[0m\n",
      "\u001b[34mThere are 20 clusters with 4 cameras\u001b[0m\n",
      "\u001b[34mThere are 21 clusters with 5 cameras\u001b[0m\n",
      "\u001b[34mThere are 11 clusters with 6 cameras\u001b[0m\n",
      "\u001b[34mThere are 8 clusters with 7 cameras\u001b[0m\n",
      "\u001b[34mThere are 2 clusters with 8 cameras\u001b[0m\n",
      "\u001b[34mThere are 4 clusters with 9 cameras\u001b[0m\n",
      "\u001b[34mThere are 4 clusters with 10 cameras\u001b[0m\n",
      "\u001b[34mThere are 4 clusters with 11 cameras\u001b[0m\n",
      "\u001b[34mThere are 3 clusters with 12 cameras\u001b[0m\n",
      "\u001b[34mThere are 5 clusters with 13 cameras\u001b[0m\n",
      "\u001b[34mThere are 2 clusters with 16 cameras\u001b[0m\n",
      "\u001b[34mThere are 2 clusters with 17 cameras\u001b[0m\n",
      "\u001b[34mThere are 2 clusters with 18 cameras\u001b[0m\n",
      "\u001b[34mThere are 1 clusters with 19 cameras\u001b[0m\n",
      "\u001b[34mThere are 4 clusters with 20 cameras\u001b[0m\n",
      "\u001b[34mThere are 3 clusters with 22 cameras\u001b[0m\n",
      "\u001b[34mThere are 1 clusters with 23 cameras\u001b[0m\n",
      "\u001b[34mThere are 1 clusters with 24 cameras\u001b[0m\n",
      "\u001b[34mThere are 1 clusters with 25 cameras\u001b[0m\n",
      "\u001b[34mThere are 1 clusters with 26 cameras\u001b[0m\n",
      "\u001b[34mThere are 3 clusters with 28 cameras\u001b[0m\n",
      "\u001b[34mThere are 1 clusters with 35 cameras\u001b[0m\n",
      "\u001b[34mThere are 1 clusters with 37 cameras\u001b[0m\n",
      "\u001b[34mThere are 1 clusters with 40 cameras\u001b[0m\n",
      "\u001b[34mThere are 1 clusters with 42 cameras\u001b[0m\n",
      "\u001b[34mThere are 1 clusters with 45 cameras\u001b[0m\n",
      "\u001b[34mThere are 1 clusters with 46 cameras\u001b[0m\n",
      "\u001b[34mThere are 1 clusters with 49 cameras\u001b[0m\n",
      "\u001b[34mThere are 1 clusters with 50 cameras\u001b[0m\n",
      "\u001b[34mThere are 1 clusters with 63 cameras\u001b[0m\n",
      "\u001b[34mThere are 2 clusters with 68 cameras\u001b[0m\n",
      "\u001b[34mThere are 1 clusters with 168 cameras\u001b[0m\n",
      "Number of classes: 115\n",
      "\u001b[36mLearning Rate: 0.000350\u001b[0m\n",
      "encontrou modelos efficientnet. Carregando...\n",
      "encontrou modelos convnext. Carregando...\n",
      "encontrou modelos mobilenet. Carregando...\n",
      "encontrou modelos vgg16. Carregando...\n",
      "encontrou modelos resnet50. Carregando...\n",
      "encontrou modelos osnet. Carregando...\n",
      "encontrou modelos densenet121. Carregando...\n",
      "###============ Iteration number 33/90 ============###\n",
      "Extracting Online Features for efficientnet ...\n",
      "Features extracted in 191.84 seconds\n",
      "Computing jaccard distance...\n"
     ]
    },
    {
     "name": "stderr",
     "output_type": "stream",
     "text": [
      "bruteForceKnn is deprecated; call bfKnn instead\n"
     ]
    },
    {
     "name": "stdout",
     "output_type": "stream",
     "text": [
      "Jaccard distance computing time cost: 81.17182731628418\n",
      "Extracting Online Features for convnext ...\n",
      "Features extracted in 191.32 seconds\n",
      "Computing jaccard distance...\n"
     ]
    },
    {
     "name": "stderr",
     "output_type": "stream",
     "text": [
      "bruteForceKnn is deprecated; call bfKnn instead\n"
     ]
    },
    {
     "name": "stdout",
     "output_type": "stream",
     "text": [
      "Jaccard distance computing time cost: 79.57699632644653\n",
      "Extracting Online Features for mobilenet ...\n",
      "Features extracted in 190.76 seconds\n",
      "Computing jaccard distance...\n"
     ]
    },
    {
     "name": "stderr",
     "output_type": "stream",
     "text": [
      "bruteForceKnn is deprecated; call bfKnn instead\n"
     ]
    },
    {
     "name": "stdout",
     "output_type": "stream",
     "text": [
      "Jaccard distance computing time cost: 70.33773493766785\n",
      "Extracting Online Features for vgg16 ...\n",
      "Features extracted in 190.88 seconds\n",
      "Computing jaccard distance...\n"
     ]
    },
    {
     "name": "stderr",
     "output_type": "stream",
     "text": [
      "bruteForceKnn is deprecated; call bfKnn instead\n"
     ]
    },
    {
     "name": "stdout",
     "output_type": "stream",
     "text": [
      "Jaccard distance computing time cost: 70.61131024360657\n",
      "Extracting Online Features for resnet50 ...\n",
      "Features extracted in 189.39 seconds\n",
      "Computing jaccard distance...\n"
     ]
    },
    {
     "name": "stderr",
     "output_type": "stream",
     "text": [
      "bruteForceKnn is deprecated; call bfKnn instead\n"
     ]
    },
    {
     "name": "stdout",
     "output_type": "stream",
     "text": [
      "Jaccard distance computing time cost: 70.59168934822083\n",
      "Extracting Online Features for osnet ...\n",
      "Features extracted in 187.20 seconds\n",
      "Computing jaccard distance...\n"
     ]
    },
    {
     "name": "stderr",
     "output_type": "stream",
     "text": [
      "bruteForceKnn is deprecated; call bfKnn instead\n"
     ]
    },
    {
     "name": "stdout",
     "output_type": "stream",
     "text": [
      "Jaccard distance computing time cost: 69.9368314743042\n",
      "Extracting Online Features for densenet121 ...\n",
      "Features extracted in 189.14 seconds\n",
      "Computing jaccard distance...\n"
     ]
    },
    {
     "name": "stderr",
     "output_type": "stream",
     "text": [
      "bruteForceKnn is deprecated; call bfKnn instead\n"
     ]
    },
    {
     "name": "stdout",
     "output_type": "stream",
     "text": [
      "Jaccard distance computing time cost: 73.6909248828888\n",
      "Reliability: 0.044\n",
      "\u001b[32mMean Purity: 0.02052\u001b[0m\n",
      "\u001b[34mThere are 20 clusters with 4 cameras\u001b[0m\n",
      "\u001b[34mThere are 21 clusters with 5 cameras\u001b[0m\n",
      "\u001b[34mThere are 11 clusters with 6 cameras\u001b[0m\n",
      "\u001b[34mThere are 8 clusters with 7 cameras\u001b[0m\n",
      "\u001b[34mThere are 2 clusters with 8 cameras\u001b[0m\n",
      "\u001b[34mThere are 4 clusters with 9 cameras\u001b[0m\n",
      "\u001b[34mThere are 4 clusters with 10 cameras\u001b[0m\n",
      "\u001b[34mThere are 4 clusters with 11 cameras\u001b[0m\n",
      "\u001b[34mThere are 3 clusters with 12 cameras\u001b[0m\n",
      "\u001b[34mThere are 5 clusters with 13 cameras\u001b[0m\n",
      "\u001b[34mThere are 2 clusters with 16 cameras\u001b[0m\n",
      "\u001b[34mThere are 2 clusters with 17 cameras\u001b[0m\n",
      "\u001b[34mThere are 2 clusters with 18 cameras\u001b[0m\n",
      "\u001b[34mThere are 1 clusters with 19 cameras\u001b[0m\n",
      "\u001b[34mThere are 4 clusters with 20 cameras\u001b[0m\n",
      "\u001b[34mThere are 3 clusters with 22 cameras\u001b[0m\n",
      "\u001b[34mThere are 1 clusters with 23 cameras\u001b[0m\n",
      "\u001b[34mThere are 1 clusters with 24 cameras\u001b[0m\n",
      "\u001b[34mThere are 1 clusters with 25 cameras\u001b[0m\n",
      "\u001b[34mThere are 1 clusters with 26 cameras\u001b[0m\n",
      "\u001b[34mThere are 3 clusters with 28 cameras\u001b[0m\n",
      "\u001b[34mThere are 1 clusters with 35 cameras\u001b[0m\n",
      "\u001b[34mThere are 1 clusters with 37 cameras\u001b[0m\n",
      "\u001b[34mThere are 1 clusters with 40 cameras\u001b[0m\n",
      "\u001b[34mThere are 1 clusters with 42 cameras\u001b[0m\n",
      "\u001b[34mThere are 1 clusters with 45 cameras\u001b[0m\n",
      "\u001b[34mThere are 1 clusters with 46 cameras\u001b[0m\n",
      "\u001b[34mThere are 1 clusters with 49 cameras\u001b[0m\n",
      "\u001b[34mThere are 1 clusters with 50 cameras\u001b[0m\n",
      "\u001b[34mThere are 1 clusters with 63 cameras\u001b[0m\n",
      "\u001b[34mThere are 2 clusters with 68 cameras\u001b[0m\n",
      "\u001b[34mThere are 1 clusters with 168 cameras\u001b[0m\n",
      "Number of classes: 115\n",
      "\u001b[36mLearning Rate: 0.000350\u001b[0m\n",
      "encontrou modelos efficientnet. Carregando...\n",
      "encontrou modelos convnext. Carregando...\n",
      "encontrou modelos mobilenet. Carregando...\n",
      "encontrou modelos vgg16. Carregando...\n",
      "encontrou modelos resnet50. Carregando...\n",
      "encontrou modelos osnet. Carregando...\n",
      "encontrou modelos densenet121. Carregando...\n",
      "###============ Iteration number 34/90 ============###\n",
      "Extracting Online Features for efficientnet ...\n",
      "Features extracted in 192.14 seconds\n",
      "Computing jaccard distance...\n"
     ]
    },
    {
     "name": "stderr",
     "output_type": "stream",
     "text": [
      "bruteForceKnn is deprecated; call bfKnn instead\n"
     ]
    },
    {
     "name": "stdout",
     "output_type": "stream",
     "text": [
      "Jaccard distance computing time cost: 77.59402060508728\n",
      "Extracting Online Features for convnext ...\n",
      "Features extracted in 192.72 seconds\n",
      "Computing jaccard distance...\n"
     ]
    },
    {
     "name": "stderr",
     "output_type": "stream",
     "text": [
      "bruteForceKnn is deprecated; call bfKnn instead\n"
     ]
    },
    {
     "name": "stdout",
     "output_type": "stream",
     "text": [
      "Jaccard distance computing time cost: 70.822585105896\n",
      "Extracting Online Features for mobilenet ...\n",
      "Features extracted in 190.61 seconds\n",
      "Computing jaccard distance...\n"
     ]
    },
    {
     "name": "stderr",
     "output_type": "stream",
     "text": [
      "bruteForceKnn is deprecated; call bfKnn instead\n"
     ]
    },
    {
     "name": "stdout",
     "output_type": "stream",
     "text": [
      "Jaccard distance computing time cost: 69.21223211288452\n",
      "Extracting Online Features for vgg16 ...\n",
      "Features extracted in 190.95 seconds\n",
      "Computing jaccard distance...\n"
     ]
    },
    {
     "name": "stderr",
     "output_type": "stream",
     "text": [
      "bruteForceKnn is deprecated; call bfKnn instead\n"
     ]
    },
    {
     "name": "stdout",
     "output_type": "stream",
     "text": [
      "Jaccard distance computing time cost: 72.92897510528564\n",
      "Extracting Online Features for resnet50 ...\n",
      "Features extracted in 186.19 seconds\n",
      "Computing jaccard distance...\n"
     ]
    },
    {
     "name": "stderr",
     "output_type": "stream",
     "text": [
      "bruteForceKnn is deprecated; call bfKnn instead\n"
     ]
    },
    {
     "name": "stdout",
     "output_type": "stream",
     "text": [
      "Jaccard distance computing time cost: 69.27375769615173\n",
      "Extracting Online Features for osnet ...\n",
      "Features extracted in 188.50 seconds\n",
      "Computing jaccard distance...\n"
     ]
    },
    {
     "name": "stderr",
     "output_type": "stream",
     "text": [
      "bruteForceKnn is deprecated; call bfKnn instead\n"
     ]
    },
    {
     "name": "stdout",
     "output_type": "stream",
     "text": [
      "Jaccard distance computing time cost: 69.59089064598083\n",
      "Extracting Online Features for densenet121 ...\n",
      "Features extracted in 192.29 seconds\n",
      "Computing jaccard distance...\n"
     ]
    },
    {
     "name": "stderr",
     "output_type": "stream",
     "text": [
      "bruteForceKnn is deprecated; call bfKnn instead\n"
     ]
    },
    {
     "name": "stdout",
     "output_type": "stream",
     "text": [
      "Jaccard distance computing time cost: 71.79568433761597\n",
      "Reliability: 0.044\n",
      "\u001b[32mMean Purity: 0.02052\u001b[0m\n",
      "\u001b[34mThere are 20 clusters with 4 cameras\u001b[0m\n",
      "\u001b[34mThere are 21 clusters with 5 cameras\u001b[0m\n",
      "\u001b[34mThere are 11 clusters with 6 cameras\u001b[0m\n",
      "\u001b[34mThere are 8 clusters with 7 cameras\u001b[0m\n",
      "\u001b[34mThere are 2 clusters with 8 cameras\u001b[0m\n",
      "\u001b[34mThere are 4 clusters with 9 cameras\u001b[0m\n",
      "\u001b[34mThere are 4 clusters with 10 cameras\u001b[0m\n",
      "\u001b[34mThere are 4 clusters with 11 cameras\u001b[0m\n",
      "\u001b[34mThere are 3 clusters with 12 cameras\u001b[0m\n",
      "\u001b[34mThere are 5 clusters with 13 cameras\u001b[0m\n",
      "\u001b[34mThere are 2 clusters with 16 cameras\u001b[0m\n",
      "\u001b[34mThere are 2 clusters with 17 cameras\u001b[0m\n",
      "\u001b[34mThere are 2 clusters with 18 cameras\u001b[0m\n",
      "\u001b[34mThere are 1 clusters with 19 cameras\u001b[0m\n",
      "\u001b[34mThere are 4 clusters with 20 cameras\u001b[0m\n",
      "\u001b[34mThere are 3 clusters with 22 cameras\u001b[0m\n",
      "\u001b[34mThere are 1 clusters with 23 cameras\u001b[0m\n",
      "\u001b[34mThere are 1 clusters with 24 cameras\u001b[0m\n",
      "\u001b[34mThere are 1 clusters with 25 cameras\u001b[0m\n",
      "\u001b[34mThere are 1 clusters with 26 cameras\u001b[0m\n",
      "\u001b[34mThere are 3 clusters with 28 cameras\u001b[0m\n",
      "\u001b[34mThere are 1 clusters with 35 cameras\u001b[0m\n",
      "\u001b[34mThere are 1 clusters with 37 cameras\u001b[0m\n",
      "\u001b[34mThere are 1 clusters with 40 cameras\u001b[0m\n",
      "\u001b[34mThere are 1 clusters with 42 cameras\u001b[0m\n",
      "\u001b[34mThere are 1 clusters with 45 cameras\u001b[0m\n",
      "\u001b[34mThere are 1 clusters with 46 cameras\u001b[0m\n",
      "\u001b[34mThere are 1 clusters with 49 cameras\u001b[0m\n",
      "\u001b[34mThere are 1 clusters with 50 cameras\u001b[0m\n",
      "\u001b[34mThere are 1 clusters with 63 cameras\u001b[0m\n",
      "\u001b[34mThere are 2 clusters with 68 cameras\u001b[0m\n",
      "\u001b[34mThere are 1 clusters with 168 cameras\u001b[0m\n",
      "Number of classes: 115\n",
      "\u001b[36mLearning Rate: 0.000350\u001b[0m\n",
      "encontrou modelos efficientnet. Carregando...\n",
      "encontrou modelos convnext. Carregando...\n",
      "encontrou modelos mobilenet. Carregando...\n",
      "encontrou modelos vgg16. Carregando...\n",
      "encontrou modelos resnet50. Carregando...\n",
      "encontrou modelos osnet. Carregando...\n",
      "encontrou modelos densenet121. Carregando...\n",
      "###============ Iteration number 35/90 ============###\n",
      "Extracting Online Features for efficientnet ...\n",
      "Features extracted in 188.81 seconds\n",
      "Computing jaccard distance...\n"
     ]
    },
    {
     "name": "stderr",
     "output_type": "stream",
     "text": [
      "bruteForceKnn is deprecated; call bfKnn instead\n"
     ]
    },
    {
     "name": "stdout",
     "output_type": "stream",
     "text": [
      "Jaccard distance computing time cost: 78.29468035697937\n",
      "Extracting Online Features for convnext ...\n",
      "Features extracted in 189.23 seconds\n",
      "Computing jaccard distance...\n"
     ]
    },
    {
     "name": "stderr",
     "output_type": "stream",
     "text": [
      "bruteForceKnn is deprecated; call bfKnn instead\n"
     ]
    },
    {
     "name": "stdout",
     "output_type": "stream",
     "text": [
      "Jaccard distance computing time cost: 74.75779104232788\n",
      "Extracting Online Features for mobilenet ...\n",
      "Features extracted in 190.35 seconds\n",
      "Computing jaccard distance...\n"
     ]
    },
    {
     "name": "stderr",
     "output_type": "stream",
     "text": [
      "bruteForceKnn is deprecated; call bfKnn instead\n"
     ]
    },
    {
     "name": "stdout",
     "output_type": "stream",
     "text": [
      "Jaccard distance computing time cost: 71.04761266708374\n",
      "Extracting Online Features for vgg16 ...\n",
      "Features extracted in 191.58 seconds\n",
      "Computing jaccard distance...\n"
     ]
    },
    {
     "name": "stderr",
     "output_type": "stream",
     "text": [
      "bruteForceKnn is deprecated; call bfKnn instead\n"
     ]
    },
    {
     "name": "stdout",
     "output_type": "stream",
     "text": [
      "Jaccard distance computing time cost: 74.16756391525269\n",
      "Extracting Online Features for resnet50 ...\n",
      "Features extracted in 188.70 seconds\n",
      "Computing jaccard distance...\n"
     ]
    },
    {
     "name": "stderr",
     "output_type": "stream",
     "text": [
      "bruteForceKnn is deprecated; call bfKnn instead\n"
     ]
    },
    {
     "name": "stdout",
     "output_type": "stream",
     "text": [
      "Jaccard distance computing time cost: 69.85403752326965\n",
      "Extracting Online Features for osnet ...\n",
      "Features extracted in 186.11 seconds\n",
      "Computing jaccard distance...\n"
     ]
    },
    {
     "name": "stderr",
     "output_type": "stream",
     "text": [
      "bruteForceKnn is deprecated; call bfKnn instead\n"
     ]
    },
    {
     "name": "stdout",
     "output_type": "stream",
     "text": [
      "Jaccard distance computing time cost: 70.81273174285889\n",
      "Extracting Online Features for densenet121 ...\n",
      "Features extracted in 188.56 seconds\n",
      "Computing jaccard distance...\n"
     ]
    },
    {
     "name": "stderr",
     "output_type": "stream",
     "text": [
      "bruteForceKnn is deprecated; call bfKnn instead\n"
     ]
    },
    {
     "name": "stdout",
     "output_type": "stream",
     "text": [
      "Jaccard distance computing time cost: 72.23654007911682\n",
      "Reliability: 0.044\n",
      "\u001b[32mMean Purity: 0.02052\u001b[0m\n",
      "\u001b[34mThere are 20 clusters with 4 cameras\u001b[0m\n",
      "\u001b[34mThere are 21 clusters with 5 cameras\u001b[0m\n",
      "\u001b[34mThere are 11 clusters with 6 cameras\u001b[0m\n",
      "\u001b[34mThere are 8 clusters with 7 cameras\u001b[0m\n",
      "\u001b[34mThere are 2 clusters with 8 cameras\u001b[0m\n",
      "\u001b[34mThere are 4 clusters with 9 cameras\u001b[0m\n",
      "\u001b[34mThere are 4 clusters with 10 cameras\u001b[0m\n",
      "\u001b[34mThere are 4 clusters with 11 cameras\u001b[0m\n",
      "\u001b[34mThere are 3 clusters with 12 cameras\u001b[0m\n",
      "\u001b[34mThere are 5 clusters with 13 cameras\u001b[0m\n",
      "\u001b[34mThere are 2 clusters with 16 cameras\u001b[0m\n",
      "\u001b[34mThere are 2 clusters with 17 cameras\u001b[0m\n",
      "\u001b[34mThere are 2 clusters with 18 cameras\u001b[0m\n",
      "\u001b[34mThere are 1 clusters with 19 cameras\u001b[0m\n",
      "\u001b[34mThere are 4 clusters with 20 cameras\u001b[0m\n",
      "\u001b[34mThere are 3 clusters with 22 cameras\u001b[0m\n",
      "\u001b[34mThere are 1 clusters with 23 cameras\u001b[0m\n",
      "\u001b[34mThere are 1 clusters with 24 cameras\u001b[0m\n",
      "\u001b[34mThere are 1 clusters with 25 cameras\u001b[0m\n",
      "\u001b[34mThere are 1 clusters with 26 cameras\u001b[0m\n",
      "\u001b[34mThere are 3 clusters with 28 cameras\u001b[0m\n",
      "\u001b[34mThere are 1 clusters with 35 cameras\u001b[0m\n",
      "\u001b[34mThere are 1 clusters with 37 cameras\u001b[0m\n",
      "\u001b[34mThere are 1 clusters with 40 cameras\u001b[0m\n",
      "\u001b[34mThere are 1 clusters with 42 cameras\u001b[0m\n",
      "\u001b[34mThere are 1 clusters with 45 cameras\u001b[0m\n",
      "\u001b[34mThere are 1 clusters with 46 cameras\u001b[0m\n",
      "\u001b[34mThere are 1 clusters with 49 cameras\u001b[0m\n",
      "\u001b[34mThere are 1 clusters with 50 cameras\u001b[0m\n",
      "\u001b[34mThere are 1 clusters with 63 cameras\u001b[0m\n",
      "\u001b[34mThere are 2 clusters with 68 cameras\u001b[0m\n",
      "\u001b[34mThere are 1 clusters with 168 cameras\u001b[0m\n",
      "Number of classes: 115\n",
      "\u001b[36mLearning Rate: 0.000350\u001b[0m\n",
      "encontrou modelos efficientnet. Carregando...\n",
      "encontrou modelos convnext. Carregando...\n",
      "encontrou modelos mobilenet. Carregando...\n",
      "encontrou modelos vgg16. Carregando...\n",
      "encontrou modelos resnet50. Carregando...\n",
      "encontrou modelos osnet. Carregando...\n",
      "encontrou modelos densenet121. Carregando...\n",
      "\u001b[33mValidating online efficientnet ...\u001b[0m\n",
      "Features extracted in 59.44 seconds\n",
      "Features extracted in 118.35 seconds\n",
      "Computing CMC and mAP ...\n",
      "** Results **\n",
      "mAP: 66.96%\n",
      "CMC curve\n",
      "Rank-1  : 49.76%\n",
      "Rank-5  : 88.29%\n",
      "Rank-10 : 96.33%\n",
      "Rank-20 : 99.32%\n",
      "\u001b[33mValidating momentum efficientnet ...\u001b[0m\n",
      "Features extracted in 59.40 seconds\n",
      "Features extracted in 116.87 seconds\n",
      "Computing CMC and mAP ...\n",
      "** Results **\n",
      "mAP: 66.33%\n",
      "CMC curve\n",
      "Rank-1  : 47.72%\n",
      "Rank-5  : 83.15%\n",
      "Rank-10 : 91.82%\n",
      "Rank-20 : 96.73%\n",
      "\u001b[33mValidating online convnext ...\u001b[0m\n",
      "Features extracted in 59.67 seconds\n",
      "Features extracted in 120.46 seconds\n",
      "Computing CMC and mAP ...\n",
      "** Results **\n",
      "mAP: 65.77%\n",
      "CMC curve\n",
      "Rank-1  : 46.59%\n",
      "Rank-5  : 75.46%\n",
      "Rank-10 : 86.74%\n",
      "Rank-20 : 94.66%\n",
      "\u001b[33mValidating momentum convnext ...\u001b[0m\n",
      "Features extracted in 58.46 seconds\n",
      "Features extracted in 116.24 seconds\n",
      "Computing CMC and mAP ...\n",
      "** Results **\n",
      "mAP: 64.96%\n",
      "CMC curve\n",
      "Rank-1  : 45.63%\n",
      "Rank-5  : 75.04%\n",
      "Rank-10 : 87.30%\n",
      "Rank-20 : 95.01%\n",
      "\u001b[33mValidating online mobilenet ...\u001b[0m\n",
      "Features extracted in 58.51 seconds\n",
      "Features extracted in 117.28 seconds\n",
      "Computing CMC and mAP ...\n",
      "** Results **\n",
      "mAP: 66.23%\n",
      "CMC curve\n",
      "Rank-1  : 51.24%\n",
      "Rank-5  : 86.31%\n",
      "Rank-10 : 94.85%\n",
      "Rank-20 : 99.15%\n",
      "\u001b[33mValidating momentum mobilenet ...\u001b[0m\n",
      "Features extracted in 58.51 seconds\n",
      "Features extracted in 117.12 seconds\n",
      "Computing CMC and mAP ...\n",
      "** Results **\n",
      "mAP: 66.41%\n",
      "CMC curve\n",
      "Rank-1  : 52.73%\n",
      "Rank-5  : 85.40%\n",
      "Rank-10 : 93.79%\n",
      "Rank-20 : 98.57%\n",
      "\u001b[33mValidating online vgg16 ...\u001b[0m\n",
      "Features extracted in 59.45 seconds\n",
      "Features extracted in 116.38 seconds\n",
      "Computing CMC and mAP ...\n",
      "** Results **\n",
      "mAP: 65.47%\n",
      "CMC curve\n",
      "Rank-1  : 43.56%\n",
      "Rank-5  : 75.41%\n",
      "Rank-10 : 85.98%\n",
      "Rank-20 : 92.95%\n",
      "\u001b[33mValidating momentum vgg16 ...\u001b[0m\n",
      "Features extracted in 59.06 seconds\n",
      "Features extracted in 117.01 seconds\n",
      "Computing CMC and mAP ...\n",
      "** Results **\n",
      "mAP: 65.67%\n",
      "CMC curve\n",
      "Rank-1  : 45.75%\n",
      "Rank-5  : 82.00%\n",
      "Rank-10 : 90.62%\n",
      "Rank-20 : 96.36%\n",
      "\u001b[33mValidating online resnet50 ...\u001b[0m\n",
      "Features extracted in 58.94 seconds\n",
      "Features extracted in 116.22 seconds\n",
      "Computing CMC and mAP ...\n",
      "** Results **\n",
      "mAP: 65.64%\n",
      "CMC curve\n",
      "Rank-1  : 44.24%\n",
      "Rank-5  : 67.84%\n",
      "Rank-10 : 75.44%\n",
      "Rank-20 : 82.42%\n",
      "\u001b[33mValidating momentum resnet50 ...\u001b[0m\n",
      "Features extracted in 60.30 seconds\n",
      "Features extracted in 120.35 seconds\n",
      "Computing CMC and mAP ...\n",
      "** Results **\n",
      "mAP: 64.94%\n",
      "CMC curve\n",
      "Rank-1  : 43.33%\n",
      "Rank-5  : 71.52%\n",
      "Rank-10 : 80.95%\n",
      "Rank-20 : 90.36%\n",
      "\u001b[33mValidating online osnet ...\u001b[0m\n",
      "Features extracted in 59.21 seconds\n",
      "Features extracted in 116.16 seconds\n",
      "Computing CMC and mAP ...\n",
      "** Results **\n",
      "mAP: 66.87%\n",
      "CMC curve\n",
      "Rank-1  : 48.11%\n",
      "Rank-5  : 84.70%\n",
      "Rank-10 : 95.19%\n",
      "Rank-20 : 99.23%\n",
      "\u001b[33mValidating momentum osnet ...\u001b[0m\n",
      "Features extracted in 60.44 seconds\n",
      "Features extracted in 118.90 seconds\n",
      "Computing CMC and mAP ...\n",
      "** Results **\n",
      "mAP: 67.06%\n",
      "CMC curve\n",
      "Rank-1  : 51.39%\n",
      "Rank-5  : 86.67%\n",
      "Rank-10 : 94.96%\n",
      "Rank-20 : 98.71%\n",
      "\u001b[33mValidating online densenet121 ...\u001b[0m\n",
      "Features extracted in 60.86 seconds\n",
      "Features extracted in 117.20 seconds\n",
      "Computing CMC and mAP ...\n",
      "** Results **\n",
      "mAP: 65.34%\n",
      "CMC curve\n",
      "Rank-1  : 45.42%\n",
      "Rank-5  : 74.47%\n",
      "Rank-10 : 84.90%\n",
      "Rank-20 : 93.93%\n",
      "\u001b[33mValidating momentum densenet121 ...\u001b[0m\n",
      "Features extracted in 61.47 seconds\n",
      "Features extracted in 120.29 seconds\n",
      "Computing CMC and mAP ...\n",
      "** Results **\n",
      "mAP: 65.71%\n",
      "CMC curve\n",
      "Rank-1  : 46.36%\n",
      "Rank-5  : 79.22%\n",
      "Rank-10 : 88.80%\n",
      "Rank-20 : 95.19%\n",
      "\u001b[33mValidating ensembled with online models ...\u001b[0m\n",
      "Computing CMC and mAP ...\n",
      "** Results **\n",
      "mAP: 65.61%\n",
      "Ranks:\n",
      "Rank-1  : 45.50%\n",
      "Rank-5  : 70.24%\n",
      "Rank-10 : 79.04%\n",
      "\u001b[33mValidating ensembled with momentum models ...\u001b[0m\n",
      "Computing CMC and mAP ...\n",
      "** Results **\n",
      "mAP: 65.36%\n",
      "Ranks:\n",
      "Rank-1  : 43.96%\n",
      "Rank-5  : 75.79%\n",
      "Rank-10 : 85.67%\n",
      "###============ Iteration number 36/90 ============###\n",
      "Extracting Online Features for efficientnet ...\n",
      "Features extracted in 190.89 seconds\n",
      "Computing jaccard distance...\n"
     ]
    },
    {
     "name": "stderr",
     "output_type": "stream",
     "text": [
      "bruteForceKnn is deprecated; call bfKnn instead\n"
     ]
    },
    {
     "name": "stdout",
     "output_type": "stream",
     "text": [
      "Jaccard distance computing time cost: 80.88772344589233\n",
      "Extracting Online Features for convnext ...\n",
      "Features extracted in 189.95 seconds\n",
      "Computing jaccard distance...\n"
     ]
    },
    {
     "name": "stderr",
     "output_type": "stream",
     "text": [
      "bruteForceKnn is deprecated; call bfKnn instead\n"
     ]
    },
    {
     "name": "stdout",
     "output_type": "stream",
     "text": [
      "Jaccard distance computing time cost: 74.0467038154602\n",
      "Extracting Online Features for mobilenet ...\n",
      "Features extracted in 191.49 seconds\n",
      "Computing jaccard distance...\n"
     ]
    },
    {
     "name": "stderr",
     "output_type": "stream",
     "text": [
      "bruteForceKnn is deprecated; call bfKnn instead\n"
     ]
    },
    {
     "name": "stdout",
     "output_type": "stream",
     "text": [
      "Jaccard distance computing time cost: 69.26123690605164\n",
      "Extracting Online Features for vgg16 ...\n",
      "Features extracted in 191.54 seconds\n",
      "Computing jaccard distance...\n"
     ]
    },
    {
     "name": "stderr",
     "output_type": "stream",
     "text": [
      "bruteForceKnn is deprecated; call bfKnn instead\n"
     ]
    },
    {
     "name": "stdout",
     "output_type": "stream",
     "text": [
      "Jaccard distance computing time cost: 74.01930689811707\n",
      "Extracting Online Features for resnet50 ...\n",
      "Features extracted in 189.03 seconds\n",
      "Computing jaccard distance...\n"
     ]
    },
    {
     "name": "stderr",
     "output_type": "stream",
     "text": [
      "bruteForceKnn is deprecated; call bfKnn instead\n"
     ]
    },
    {
     "name": "stdout",
     "output_type": "stream",
     "text": [
      "Jaccard distance computing time cost: 69.08418345451355\n",
      "Extracting Online Features for osnet ...\n",
      "Features extracted in 188.36 seconds\n",
      "Computing jaccard distance...\n"
     ]
    },
    {
     "name": "stderr",
     "output_type": "stream",
     "text": [
      "bruteForceKnn is deprecated; call bfKnn instead\n"
     ]
    },
    {
     "name": "stdout",
     "output_type": "stream",
     "text": [
      "Jaccard distance computing time cost: 74.90653085708618\n",
      "Extracting Online Features for densenet121 ...\n",
      "Features extracted in 191.35 seconds\n",
      "Computing jaccard distance...\n"
     ]
    },
    {
     "name": "stderr",
     "output_type": "stream",
     "text": [
      "bruteForceKnn is deprecated; call bfKnn instead\n"
     ]
    },
    {
     "name": "stdout",
     "output_type": "stream",
     "text": [
      "Jaccard distance computing time cost: 72.6927375793457\n",
      "Reliability: 0.044\n",
      "\u001b[32mMean Purity: 0.02052\u001b[0m\n",
      "\u001b[34mThere are 20 clusters with 4 cameras\u001b[0m\n",
      "\u001b[34mThere are 21 clusters with 5 cameras\u001b[0m\n",
      "\u001b[34mThere are 11 clusters with 6 cameras\u001b[0m\n",
      "\u001b[34mThere are 8 clusters with 7 cameras\u001b[0m\n",
      "\u001b[34mThere are 2 clusters with 8 cameras\u001b[0m\n",
      "\u001b[34mThere are 4 clusters with 9 cameras\u001b[0m\n",
      "\u001b[34mThere are 4 clusters with 10 cameras\u001b[0m\n",
      "\u001b[34mThere are 4 clusters with 11 cameras\u001b[0m\n",
      "\u001b[34mThere are 3 clusters with 12 cameras\u001b[0m\n",
      "\u001b[34mThere are 5 clusters with 13 cameras\u001b[0m\n",
      "\u001b[34mThere are 2 clusters with 16 cameras\u001b[0m\n",
      "\u001b[34mThere are 2 clusters with 17 cameras\u001b[0m\n",
      "\u001b[34mThere are 2 clusters with 18 cameras\u001b[0m\n",
      "\u001b[34mThere are 1 clusters with 19 cameras\u001b[0m\n",
      "\u001b[34mThere are 4 clusters with 20 cameras\u001b[0m\n",
      "\u001b[34mThere are 3 clusters with 22 cameras\u001b[0m\n",
      "\u001b[34mThere are 1 clusters with 23 cameras\u001b[0m\n",
      "\u001b[34mThere are 1 clusters with 24 cameras\u001b[0m\n",
      "\u001b[34mThere are 1 clusters with 25 cameras\u001b[0m\n",
      "\u001b[34mThere are 1 clusters with 26 cameras\u001b[0m\n",
      "\u001b[34mThere are 3 clusters with 28 cameras\u001b[0m\n",
      "\u001b[34mThere are 1 clusters with 35 cameras\u001b[0m\n",
      "\u001b[34mThere are 1 clusters with 37 cameras\u001b[0m\n",
      "\u001b[34mThere are 1 clusters with 40 cameras\u001b[0m\n",
      "\u001b[34mThere are 1 clusters with 42 cameras\u001b[0m\n",
      "\u001b[34mThere are 1 clusters with 45 cameras\u001b[0m\n",
      "\u001b[34mThere are 1 clusters with 46 cameras\u001b[0m\n",
      "\u001b[34mThere are 1 clusters with 49 cameras\u001b[0m\n",
      "\u001b[34mThere are 1 clusters with 50 cameras\u001b[0m\n",
      "\u001b[34mThere are 1 clusters with 63 cameras\u001b[0m\n",
      "\u001b[34mThere are 2 clusters with 68 cameras\u001b[0m\n",
      "\u001b[34mThere are 1 clusters with 168 cameras\u001b[0m\n",
      "Number of classes: 115\n",
      "\u001b[36mLearning Rate: 0.000350\u001b[0m\n",
      "encontrou modelos efficientnet. Carregando...\n",
      "encontrou modelos convnext. Carregando...\n",
      "encontrou modelos mobilenet. Carregando...\n",
      "encontrou modelos vgg16. Carregando...\n",
      "encontrou modelos resnet50. Carregando...\n",
      "encontrou modelos osnet. Carregando...\n",
      "encontrou modelos densenet121. Carregando...\n",
      "###============ Iteration number 37/90 ============###\n",
      "Extracting Online Features for efficientnet ...\n",
      "Features extracted in 193.17 seconds\n",
      "Computing jaccard distance...\n"
     ]
    },
    {
     "name": "stderr",
     "output_type": "stream",
     "text": [
      "bruteForceKnn is deprecated; call bfKnn instead\n"
     ]
    },
    {
     "name": "stdout",
     "output_type": "stream",
     "text": [
      "Jaccard distance computing time cost: 78.10397624969482\n",
      "Extracting Online Features for convnext ...\n",
      "Features extracted in 193.22 seconds\n",
      "Computing jaccard distance...\n"
     ]
    },
    {
     "name": "stderr",
     "output_type": "stream",
     "text": [
      "bruteForceKnn is deprecated; call bfKnn instead\n"
     ]
    },
    {
     "name": "stdout",
     "output_type": "stream",
     "text": [
      "Jaccard distance computing time cost: 74.34176254272461\n",
      "Extracting Online Features for mobilenet ...\n",
      "Features extracted in 189.57 seconds\n",
      "Computing jaccard distance...\n"
     ]
    },
    {
     "name": "stderr",
     "output_type": "stream",
     "text": [
      "bruteForceKnn is deprecated; call bfKnn instead\n"
     ]
    },
    {
     "name": "stdout",
     "output_type": "stream",
     "text": [
      "Jaccard distance computing time cost: 70.12397408485413\n",
      "Extracting Online Features for vgg16 ...\n",
      "Features extracted in 189.56 seconds\n",
      "Computing jaccard distance...\n"
     ]
    },
    {
     "name": "stderr",
     "output_type": "stream",
     "text": [
      "bruteForceKnn is deprecated; call bfKnn instead\n"
     ]
    },
    {
     "name": "stdout",
     "output_type": "stream",
     "text": [
      "Jaccard distance computing time cost: 72.37119388580322\n",
      "Extracting Online Features for resnet50 ...\n",
      "Features extracted in 191.99 seconds\n",
      "Computing jaccard distance...\n"
     ]
    },
    {
     "name": "stderr",
     "output_type": "stream",
     "text": [
      "bruteForceKnn is deprecated; call bfKnn instead\n"
     ]
    },
    {
     "name": "stdout",
     "output_type": "stream",
     "text": [
      "Jaccard distance computing time cost: 73.115394115448\n",
      "Extracting Online Features for osnet ...\n",
      "Features extracted in 187.57 seconds\n",
      "Computing jaccard distance...\n"
     ]
    },
    {
     "name": "stderr",
     "output_type": "stream",
     "text": [
      "bruteForceKnn is deprecated; call bfKnn instead\n"
     ]
    },
    {
     "name": "stdout",
     "output_type": "stream",
     "text": [
      "Jaccard distance computing time cost: 73.2970564365387\n",
      "Extracting Online Features for densenet121 ...\n",
      "Features extracted in 191.16 seconds\n",
      "Computing jaccard distance...\n"
     ]
    },
    {
     "name": "stderr",
     "output_type": "stream",
     "text": [
      "bruteForceKnn is deprecated; call bfKnn instead\n"
     ]
    },
    {
     "name": "stdout",
     "output_type": "stream",
     "text": [
      "Jaccard distance computing time cost: 73.05420899391174\n",
      "Reliability: 0.044\n",
      "\u001b[32mMean Purity: 0.02052\u001b[0m\n",
      "\u001b[34mThere are 20 clusters with 4 cameras\u001b[0m\n",
      "\u001b[34mThere are 21 clusters with 5 cameras\u001b[0m\n",
      "\u001b[34mThere are 11 clusters with 6 cameras\u001b[0m\n",
      "\u001b[34mThere are 8 clusters with 7 cameras\u001b[0m\n",
      "\u001b[34mThere are 2 clusters with 8 cameras\u001b[0m\n",
      "\u001b[34mThere are 4 clusters with 9 cameras\u001b[0m\n",
      "\u001b[34mThere are 4 clusters with 10 cameras\u001b[0m\n",
      "\u001b[34mThere are 4 clusters with 11 cameras\u001b[0m\n",
      "\u001b[34mThere are 3 clusters with 12 cameras\u001b[0m\n",
      "\u001b[34mThere are 5 clusters with 13 cameras\u001b[0m\n",
      "\u001b[34mThere are 2 clusters with 16 cameras\u001b[0m\n",
      "\u001b[34mThere are 2 clusters with 17 cameras\u001b[0m\n",
      "\u001b[34mThere are 2 clusters with 18 cameras\u001b[0m\n",
      "\u001b[34mThere are 1 clusters with 19 cameras\u001b[0m\n",
      "\u001b[34mThere are 4 clusters with 20 cameras\u001b[0m\n",
      "\u001b[34mThere are 3 clusters with 22 cameras\u001b[0m\n",
      "\u001b[34mThere are 1 clusters with 23 cameras\u001b[0m\n",
      "\u001b[34mThere are 1 clusters with 24 cameras\u001b[0m\n",
      "\u001b[34mThere are 1 clusters with 25 cameras\u001b[0m\n",
      "\u001b[34mThere are 1 clusters with 26 cameras\u001b[0m\n",
      "\u001b[34mThere are 3 clusters with 28 cameras\u001b[0m\n",
      "\u001b[34mThere are 1 clusters with 35 cameras\u001b[0m\n",
      "\u001b[34mThere are 1 clusters with 37 cameras\u001b[0m\n",
      "\u001b[34mThere are 1 clusters with 40 cameras\u001b[0m\n",
      "\u001b[34mThere are 1 clusters with 42 cameras\u001b[0m\n",
      "\u001b[34mThere are 1 clusters with 45 cameras\u001b[0m\n",
      "\u001b[34mThere are 1 clusters with 46 cameras\u001b[0m\n",
      "\u001b[34mThere are 1 clusters with 49 cameras\u001b[0m\n",
      "\u001b[34mThere are 1 clusters with 50 cameras\u001b[0m\n",
      "\u001b[34mThere are 1 clusters with 63 cameras\u001b[0m\n",
      "\u001b[34mThere are 2 clusters with 68 cameras\u001b[0m\n",
      "\u001b[34mThere are 1 clusters with 168 cameras\u001b[0m\n",
      "Number of classes: 115\n",
      "\u001b[36mLearning Rate: 0.000350\u001b[0m\n",
      "encontrou modelos efficientnet. Carregando...\n",
      "encontrou modelos convnext. Carregando...\n",
      "encontrou modelos mobilenet. Carregando...\n",
      "encontrou modelos vgg16. Carregando...\n",
      "encontrou modelos resnet50. Carregando...\n",
      "encontrou modelos osnet. Carregando...\n",
      "encontrou modelos densenet121. Carregando...\n",
      "###============ Iteration number 38/90 ============###\n",
      "Extracting Online Features for efficientnet ...\n",
      "Features extracted in 194.34 seconds\n",
      "Computing jaccard distance...\n"
     ]
    },
    {
     "name": "stderr",
     "output_type": "stream",
     "text": [
      "bruteForceKnn is deprecated; call bfKnn instead\n"
     ]
    },
    {
     "name": "stdout",
     "output_type": "stream",
     "text": [
      "Jaccard distance computing time cost: 81.04102039337158\n",
      "Extracting Online Features for convnext ...\n",
      "Features extracted in 193.67 seconds\n",
      "Computing jaccard distance...\n"
     ]
    },
    {
     "name": "stderr",
     "output_type": "stream",
     "text": [
      "bruteForceKnn is deprecated; call bfKnn instead\n"
     ]
    },
    {
     "name": "stdout",
     "output_type": "stream",
     "text": [
      "Jaccard distance computing time cost: 71.39235091209412\n",
      "Extracting Online Features for mobilenet ...\n",
      "Features extracted in 190.83 seconds\n",
      "Computing jaccard distance...\n"
     ]
    },
    {
     "name": "stderr",
     "output_type": "stream",
     "text": [
      "bruteForceKnn is deprecated; call bfKnn instead\n"
     ]
    },
    {
     "name": "stdout",
     "output_type": "stream",
     "text": [
      "Jaccard distance computing time cost: 69.58524966239929\n",
      "Extracting Online Features for vgg16 ...\n",
      "Features extracted in 188.71 seconds\n",
      "Computing jaccard distance...\n"
     ]
    },
    {
     "name": "stderr",
     "output_type": "stream",
     "text": [
      "bruteForceKnn is deprecated; call bfKnn instead\n"
     ]
    },
    {
     "name": "stdout",
     "output_type": "stream",
     "text": [
      "Jaccard distance computing time cost: 71.11479926109314\n",
      "Extracting Online Features for resnet50 ...\n",
      "Features extracted in 189.49 seconds\n",
      "Computing jaccard distance...\n"
     ]
    },
    {
     "name": "stderr",
     "output_type": "stream",
     "text": [
      "bruteForceKnn is deprecated; call bfKnn instead\n"
     ]
    },
    {
     "name": "stdout",
     "output_type": "stream",
     "text": [
      "Jaccard distance computing time cost: 68.75543284416199\n",
      "Extracting Online Features for osnet ...\n",
      "Features extracted in 191.89 seconds\n",
      "Computing jaccard distance...\n"
     ]
    },
    {
     "name": "stderr",
     "output_type": "stream",
     "text": [
      "bruteForceKnn is deprecated; call bfKnn instead\n"
     ]
    },
    {
     "name": "stdout",
     "output_type": "stream",
     "text": [
      "Jaccard distance computing time cost: 69.98168301582336\n",
      "Extracting Online Features for densenet121 ...\n",
      "Features extracted in 191.66 seconds\n",
      "Computing jaccard distance...\n"
     ]
    },
    {
     "name": "stderr",
     "output_type": "stream",
     "text": [
      "bruteForceKnn is deprecated; call bfKnn instead\n"
     ]
    },
    {
     "name": "stdout",
     "output_type": "stream",
     "text": [
      "Jaccard distance computing time cost: 71.39966559410095\n",
      "Reliability: 0.044\n",
      "\u001b[32mMean Purity: 0.02052\u001b[0m\n",
      "\u001b[34mThere are 20 clusters with 4 cameras\u001b[0m\n",
      "\u001b[34mThere are 21 clusters with 5 cameras\u001b[0m\n",
      "\u001b[34mThere are 11 clusters with 6 cameras\u001b[0m\n",
      "\u001b[34mThere are 8 clusters with 7 cameras\u001b[0m\n",
      "\u001b[34mThere are 2 clusters with 8 cameras\u001b[0m\n",
      "\u001b[34mThere are 4 clusters with 9 cameras\u001b[0m\n",
      "\u001b[34mThere are 4 clusters with 10 cameras\u001b[0m\n",
      "\u001b[34mThere are 4 clusters with 11 cameras\u001b[0m\n",
      "\u001b[34mThere are 3 clusters with 12 cameras\u001b[0m\n",
      "\u001b[34mThere are 5 clusters with 13 cameras\u001b[0m\n",
      "\u001b[34mThere are 2 clusters with 16 cameras\u001b[0m\n",
      "\u001b[34mThere are 2 clusters with 17 cameras\u001b[0m\n",
      "\u001b[34mThere are 2 clusters with 18 cameras\u001b[0m\n",
      "\u001b[34mThere are 1 clusters with 19 cameras\u001b[0m\n",
      "\u001b[34mThere are 4 clusters with 20 cameras\u001b[0m\n",
      "\u001b[34mThere are 3 clusters with 22 cameras\u001b[0m\n",
      "\u001b[34mThere are 1 clusters with 23 cameras\u001b[0m\n",
      "\u001b[34mThere are 1 clusters with 24 cameras\u001b[0m\n",
      "\u001b[34mThere are 1 clusters with 25 cameras\u001b[0m\n",
      "\u001b[34mThere are 1 clusters with 26 cameras\u001b[0m\n",
      "\u001b[34mThere are 3 clusters with 28 cameras\u001b[0m\n",
      "\u001b[34mThere are 1 clusters with 35 cameras\u001b[0m\n",
      "\u001b[34mThere are 1 clusters with 37 cameras\u001b[0m\n",
      "\u001b[34mThere are 1 clusters with 40 cameras\u001b[0m\n",
      "\u001b[34mThere are 1 clusters with 42 cameras\u001b[0m\n",
      "\u001b[34mThere are 1 clusters with 45 cameras\u001b[0m\n",
      "\u001b[34mThere are 1 clusters with 46 cameras\u001b[0m\n",
      "\u001b[34mThere are 1 clusters with 49 cameras\u001b[0m\n",
      "\u001b[34mThere are 1 clusters with 50 cameras\u001b[0m\n",
      "\u001b[34mThere are 1 clusters with 63 cameras\u001b[0m\n",
      "\u001b[34mThere are 2 clusters with 68 cameras\u001b[0m\n",
      "\u001b[34mThere are 1 clusters with 168 cameras\u001b[0m\n",
      "Number of classes: 115\n",
      "\u001b[36mLearning Rate: 0.000350\u001b[0m\n",
      "encontrou modelos efficientnet. Carregando...\n",
      "encontrou modelos convnext. Carregando...\n",
      "encontrou modelos mobilenet. Carregando...\n",
      "encontrou modelos vgg16. Carregando...\n",
      "encontrou modelos resnet50. Carregando...\n",
      "encontrou modelos osnet. Carregando...\n",
      "encontrou modelos densenet121. Carregando...\n",
      "###============ Iteration number 39/90 ============###\n",
      "Extracting Online Features for efficientnet ...\n",
      "Features extracted in 190.82 seconds\n",
      "Computing jaccard distance...\n"
     ]
    },
    {
     "name": "stderr",
     "output_type": "stream",
     "text": [
      "bruteForceKnn is deprecated; call bfKnn instead\n"
     ]
    },
    {
     "name": "stdout",
     "output_type": "stream",
     "text": [
      "Jaccard distance computing time cost: 77.91384410858154\n",
      "Extracting Online Features for convnext ...\n",
      "Features extracted in 191.01 seconds\n",
      "Computing jaccard distance...\n"
     ]
    },
    {
     "name": "stderr",
     "output_type": "stream",
     "text": [
      "bruteForceKnn is deprecated; call bfKnn instead\n"
     ]
    },
    {
     "name": "stdout",
     "output_type": "stream",
     "text": [
      "Jaccard distance computing time cost: 74.2456533908844\n",
      "Extracting Online Features for mobilenet ...\n",
      "Features extracted in 186.57 seconds\n",
      "Computing jaccard distance...\n"
     ]
    },
    {
     "name": "stderr",
     "output_type": "stream",
     "text": [
      "bruteForceKnn is deprecated; call bfKnn instead\n"
     ]
    },
    {
     "name": "stdout",
     "output_type": "stream",
     "text": [
      "Jaccard distance computing time cost: 70.94845461845398\n",
      "Extracting Online Features for vgg16 ...\n",
      "Features extracted in 189.43 seconds\n",
      "Computing jaccard distance...\n"
     ]
    },
    {
     "name": "stderr",
     "output_type": "stream",
     "text": [
      "bruteForceKnn is deprecated; call bfKnn instead\n"
     ]
    },
    {
     "name": "stdout",
     "output_type": "stream",
     "text": [
      "Jaccard distance computing time cost: 72.06760454177856\n",
      "Extracting Online Features for resnet50 ...\n",
      "Features extracted in 191.27 seconds\n",
      "Computing jaccard distance...\n"
     ]
    },
    {
     "name": "stderr",
     "output_type": "stream",
     "text": [
      "bruteForceKnn is deprecated; call bfKnn instead\n"
     ]
    },
    {
     "name": "stdout",
     "output_type": "stream",
     "text": [
      "Jaccard distance computing time cost: 69.8323745727539\n",
      "Extracting Online Features for osnet ...\n",
      "Features extracted in 191.48 seconds\n",
      "Computing jaccard distance...\n"
     ]
    },
    {
     "name": "stderr",
     "output_type": "stream",
     "text": [
      "bruteForceKnn is deprecated; call bfKnn instead\n"
     ]
    },
    {
     "name": "stdout",
     "output_type": "stream",
     "text": [
      "Jaccard distance computing time cost: 72.69228982925415\n",
      "Extracting Online Features for densenet121 ...\n",
      "Features extracted in 187.67 seconds\n",
      "Computing jaccard distance...\n"
     ]
    },
    {
     "name": "stderr",
     "output_type": "stream",
     "text": [
      "bruteForceKnn is deprecated; call bfKnn instead\n"
     ]
    },
    {
     "name": "stdout",
     "output_type": "stream",
     "text": [
      "Jaccard distance computing time cost: 72.45831608772278\n",
      "Reliability: 0.044\n",
      "\u001b[32mMean Purity: 0.02052\u001b[0m\n",
      "\u001b[34mThere are 20 clusters with 4 cameras\u001b[0m\n",
      "\u001b[34mThere are 21 clusters with 5 cameras\u001b[0m\n",
      "\u001b[34mThere are 11 clusters with 6 cameras\u001b[0m\n",
      "\u001b[34mThere are 8 clusters with 7 cameras\u001b[0m\n",
      "\u001b[34mThere are 2 clusters with 8 cameras\u001b[0m\n",
      "\u001b[34mThere are 4 clusters with 9 cameras\u001b[0m\n",
      "\u001b[34mThere are 4 clusters with 10 cameras\u001b[0m\n",
      "\u001b[34mThere are 4 clusters with 11 cameras\u001b[0m\n",
      "\u001b[34mThere are 3 clusters with 12 cameras\u001b[0m\n",
      "\u001b[34mThere are 5 clusters with 13 cameras\u001b[0m\n",
      "\u001b[34mThere are 2 clusters with 16 cameras\u001b[0m\n",
      "\u001b[34mThere are 2 clusters with 17 cameras\u001b[0m\n",
      "\u001b[34mThere are 2 clusters with 18 cameras\u001b[0m\n",
      "\u001b[34mThere are 1 clusters with 19 cameras\u001b[0m\n",
      "\u001b[34mThere are 4 clusters with 20 cameras\u001b[0m\n",
      "\u001b[34mThere are 3 clusters with 22 cameras\u001b[0m\n",
      "\u001b[34mThere are 1 clusters with 23 cameras\u001b[0m\n",
      "\u001b[34mThere are 1 clusters with 24 cameras\u001b[0m\n",
      "\u001b[34mThere are 1 clusters with 25 cameras\u001b[0m\n",
      "\u001b[34mThere are 1 clusters with 26 cameras\u001b[0m\n",
      "\u001b[34mThere are 3 clusters with 28 cameras\u001b[0m\n",
      "\u001b[34mThere are 1 clusters with 35 cameras\u001b[0m\n",
      "\u001b[34mThere are 1 clusters with 37 cameras\u001b[0m\n",
      "\u001b[34mThere are 1 clusters with 40 cameras\u001b[0m\n",
      "\u001b[34mThere are 1 clusters with 42 cameras\u001b[0m\n",
      "\u001b[34mThere are 1 clusters with 45 cameras\u001b[0m\n",
      "\u001b[34mThere are 1 clusters with 46 cameras\u001b[0m\n",
      "\u001b[34mThere are 1 clusters with 49 cameras\u001b[0m\n",
      "\u001b[34mThere are 1 clusters with 50 cameras\u001b[0m\n",
      "\u001b[34mThere are 1 clusters with 63 cameras\u001b[0m\n",
      "\u001b[34mThere are 2 clusters with 68 cameras\u001b[0m\n",
      "\u001b[34mThere are 1 clusters with 168 cameras\u001b[0m\n",
      "Number of classes: 115\n",
      "\u001b[36mLearning Rate: 0.000350\u001b[0m\n",
      "encontrou modelos efficientnet. Carregando...\n",
      "encontrou modelos convnext. Carregando...\n",
      "encontrou modelos mobilenet. Carregando...\n",
      "encontrou modelos vgg16. Carregando...\n",
      "encontrou modelos resnet50. Carregando...\n",
      "encontrou modelos osnet. Carregando...\n",
      "encontrou modelos densenet121. Carregando...\n",
      "###============ Iteration number 40/90 ============###\n",
      "Extracting Online Features for efficientnet ...\n",
      "Features extracted in 189.40 seconds\n",
      "Computing jaccard distance...\n"
     ]
    },
    {
     "name": "stderr",
     "output_type": "stream",
     "text": [
      "bruteForceKnn is deprecated; call bfKnn instead\n"
     ]
    },
    {
     "name": "stdout",
     "output_type": "stream",
     "text": [
      "Jaccard distance computing time cost: 78.29467034339905\n",
      "Extracting Online Features for convnext ...\n",
      "Features extracted in 193.21 seconds\n",
      "Computing jaccard distance...\n"
     ]
    },
    {
     "name": "stderr",
     "output_type": "stream",
     "text": [
      "bruteForceKnn is deprecated; call bfKnn instead\n"
     ]
    },
    {
     "name": "stdout",
     "output_type": "stream",
     "text": [
      "Jaccard distance computing time cost: 70.83235812187195\n",
      "Extracting Online Features for mobilenet ...\n",
      "Features extracted in 191.18 seconds\n",
      "Computing jaccard distance...\n"
     ]
    },
    {
     "name": "stderr",
     "output_type": "stream",
     "text": [
      "bruteForceKnn is deprecated; call bfKnn instead\n"
     ]
    },
    {
     "name": "stdout",
     "output_type": "stream",
     "text": [
      "Jaccard distance computing time cost: 69.52872395515442\n",
      "Extracting Online Features for vgg16 ...\n",
      "Features extracted in 192.88 seconds\n",
      "Computing jaccard distance...\n"
     ]
    },
    {
     "name": "stderr",
     "output_type": "stream",
     "text": [
      "bruteForceKnn is deprecated; call bfKnn instead\n"
     ]
    },
    {
     "name": "stdout",
     "output_type": "stream",
     "text": [
      "Jaccard distance computing time cost: 70.5195415019989\n",
      "Extracting Online Features for resnet50 ...\n",
      "Features extracted in 189.64 seconds\n",
      "Computing jaccard distance...\n"
     ]
    },
    {
     "name": "stderr",
     "output_type": "stream",
     "text": [
      "bruteForceKnn is deprecated; call bfKnn instead\n"
     ]
    },
    {
     "name": "stdout",
     "output_type": "stream",
     "text": [
      "Jaccard distance computing time cost: 70.38344860076904\n",
      "Extracting Online Features for osnet ...\n",
      "Features extracted in 187.76 seconds\n",
      "Computing jaccard distance...\n"
     ]
    },
    {
     "name": "stderr",
     "output_type": "stream",
     "text": [
      "bruteForceKnn is deprecated; call bfKnn instead\n"
     ]
    },
    {
     "name": "stdout",
     "output_type": "stream",
     "text": [
      "Jaccard distance computing time cost: 72.63140892982483\n",
      "Extracting Online Features for densenet121 ...\n",
      "Features extracted in 190.75 seconds\n",
      "Computing jaccard distance...\n"
     ]
    },
    {
     "name": "stderr",
     "output_type": "stream",
     "text": [
      "bruteForceKnn is deprecated; call bfKnn instead\n"
     ]
    },
    {
     "name": "stdout",
     "output_type": "stream",
     "text": [
      "Jaccard distance computing time cost: 72.2969880104065\n",
      "Reliability: 0.044\n",
      "\u001b[32mMean Purity: 0.02052\u001b[0m\n",
      "\u001b[34mThere are 20 clusters with 4 cameras\u001b[0m\n",
      "\u001b[34mThere are 21 clusters with 5 cameras\u001b[0m\n",
      "\u001b[34mThere are 11 clusters with 6 cameras\u001b[0m\n",
      "\u001b[34mThere are 8 clusters with 7 cameras\u001b[0m\n",
      "\u001b[34mThere are 2 clusters with 8 cameras\u001b[0m\n",
      "\u001b[34mThere are 4 clusters with 9 cameras\u001b[0m\n",
      "\u001b[34mThere are 4 clusters with 10 cameras\u001b[0m\n",
      "\u001b[34mThere are 4 clusters with 11 cameras\u001b[0m\n",
      "\u001b[34mThere are 3 clusters with 12 cameras\u001b[0m\n",
      "\u001b[34mThere are 5 clusters with 13 cameras\u001b[0m\n",
      "\u001b[34mThere are 2 clusters with 16 cameras\u001b[0m\n",
      "\u001b[34mThere are 2 clusters with 17 cameras\u001b[0m\n",
      "\u001b[34mThere are 2 clusters with 18 cameras\u001b[0m\n",
      "\u001b[34mThere are 1 clusters with 19 cameras\u001b[0m\n",
      "\u001b[34mThere are 4 clusters with 20 cameras\u001b[0m\n",
      "\u001b[34mThere are 3 clusters with 22 cameras\u001b[0m\n",
      "\u001b[34mThere are 1 clusters with 23 cameras\u001b[0m\n",
      "\u001b[34mThere are 1 clusters with 24 cameras\u001b[0m\n",
      "\u001b[34mThere are 1 clusters with 25 cameras\u001b[0m\n",
      "\u001b[34mThere are 1 clusters with 26 cameras\u001b[0m\n",
      "\u001b[34mThere are 3 clusters with 28 cameras\u001b[0m\n",
      "\u001b[34mThere are 1 clusters with 35 cameras\u001b[0m\n",
      "\u001b[34mThere are 1 clusters with 37 cameras\u001b[0m\n",
      "\u001b[34mThere are 1 clusters with 40 cameras\u001b[0m\n",
      "\u001b[34mThere are 1 clusters with 42 cameras\u001b[0m\n",
      "\u001b[34mThere are 1 clusters with 45 cameras\u001b[0m\n",
      "\u001b[34mThere are 1 clusters with 46 cameras\u001b[0m\n",
      "\u001b[34mThere are 1 clusters with 49 cameras\u001b[0m\n",
      "\u001b[34mThere are 1 clusters with 50 cameras\u001b[0m\n",
      "\u001b[34mThere are 1 clusters with 63 cameras\u001b[0m\n",
      "\u001b[34mThere are 2 clusters with 68 cameras\u001b[0m\n",
      "\u001b[34mThere are 1 clusters with 168 cameras\u001b[0m\n",
      "Number of classes: 115\n",
      "\u001b[36mLearning Rate: 0.000350\u001b[0m\n",
      "encontrou modelos efficientnet. Carregando...\n",
      "encontrou modelos convnext. Carregando...\n",
      "encontrou modelos mobilenet. Carregando...\n",
      "encontrou modelos vgg16. Carregando...\n",
      "encontrou modelos resnet50. Carregando...\n",
      "encontrou modelos osnet. Carregando...\n",
      "encontrou modelos densenet121. Carregando...\n",
      "\u001b[33mValidating online efficientnet ...\u001b[0m\n",
      "Features extracted in 59.18 seconds\n",
      "Features extracted in 117.29 seconds\n",
      "Computing CMC and mAP ...\n",
      "** Results **\n",
      "mAP: 66.96%\n",
      "CMC curve\n",
      "Rank-1  : 49.76%\n",
      "Rank-5  : 88.29%\n",
      "Rank-10 : 96.33%\n",
      "Rank-20 : 99.32%\n",
      "\u001b[33mValidating momentum efficientnet ...\u001b[0m\n",
      "Features extracted in 58.70 seconds\n",
      "Features extracted in 116.30 seconds\n",
      "Computing CMC and mAP ...\n",
      "** Results **\n",
      "mAP: 66.33%\n",
      "CMC curve\n",
      "Rank-1  : 47.72%\n",
      "Rank-5  : 83.15%\n",
      "Rank-10 : 91.82%\n",
      "Rank-20 : 96.73%\n",
      "\u001b[33mValidating online convnext ...\u001b[0m\n",
      "Features extracted in 60.25 seconds\n",
      "Features extracted in 119.58 seconds\n",
      "Computing CMC and mAP ...\n",
      "** Results **\n",
      "mAP: 65.77%\n",
      "CMC curve\n",
      "Rank-1  : 46.59%\n",
      "Rank-5  : 75.46%\n",
      "Rank-10 : 86.74%\n",
      "Rank-20 : 94.66%\n",
      "\u001b[33mValidating momentum convnext ...\u001b[0m\n",
      "Features extracted in 59.64 seconds\n",
      "Features extracted in 117.79 seconds\n",
      "Computing CMC and mAP ...\n",
      "** Results **\n",
      "mAP: 64.96%\n",
      "CMC curve\n",
      "Rank-1  : 45.63%\n",
      "Rank-5  : 75.04%\n",
      "Rank-10 : 87.30%\n",
      "Rank-20 : 95.01%\n",
      "\u001b[33mValidating online mobilenet ...\u001b[0m\n",
      "Features extracted in 58.20 seconds\n",
      "Features extracted in 116.54 seconds\n",
      "Computing CMC and mAP ...\n",
      "** Results **\n",
      "mAP: 66.23%\n",
      "CMC curve\n",
      "Rank-1  : 51.24%\n",
      "Rank-5  : 86.31%\n",
      "Rank-10 : 94.85%\n",
      "Rank-20 : 99.15%\n",
      "\u001b[33mValidating momentum mobilenet ...\u001b[0m\n",
      "Features extracted in 58.39 seconds\n",
      "Features extracted in 114.99 seconds\n",
      "Computing CMC and mAP ...\n",
      "** Results **\n",
      "mAP: 66.41%\n",
      "CMC curve\n",
      "Rank-1  : 52.73%\n",
      "Rank-5  : 85.40%\n",
      "Rank-10 : 93.79%\n",
      "Rank-20 : 98.57%\n",
      "\u001b[33mValidating online vgg16 ...\u001b[0m\n",
      "Features extracted in 59.69 seconds\n",
      "Features extracted in 115.96 seconds\n",
      "Computing CMC and mAP ...\n",
      "** Results **\n",
      "mAP: 65.47%\n",
      "CMC curve\n",
      "Rank-1  : 43.56%\n",
      "Rank-5  : 75.41%\n",
      "Rank-10 : 85.98%\n",
      "Rank-20 : 92.95%\n",
      "\u001b[33mValidating momentum vgg16 ...\u001b[0m\n",
      "Features extracted in 59.99 seconds\n",
      "Features extracted in 115.89 seconds\n",
      "Computing CMC and mAP ...\n",
      "** Results **\n",
      "mAP: 65.67%\n",
      "CMC curve\n",
      "Rank-1  : 45.75%\n",
      "Rank-5  : 82.00%\n",
      "Rank-10 : 90.62%\n",
      "Rank-20 : 96.36%\n",
      "\u001b[33mValidating online resnet50 ...\u001b[0m\n",
      "Features extracted in 60.10 seconds\n",
      "Features extracted in 118.13 seconds\n",
      "Computing CMC and mAP ...\n",
      "** Results **\n",
      "mAP: 65.64%\n",
      "CMC curve\n",
      "Rank-1  : 44.24%\n",
      "Rank-5  : 67.84%\n",
      "Rank-10 : 75.44%\n",
      "Rank-20 : 82.42%\n",
      "\u001b[33mValidating momentum resnet50 ...\u001b[0m\n",
      "Features extracted in 60.20 seconds\n",
      "Features extracted in 116.77 seconds\n",
      "Computing CMC and mAP ...\n",
      "** Results **\n",
      "mAP: 64.94%\n",
      "CMC curve\n",
      "Rank-1  : 43.33%\n",
      "Rank-5  : 71.52%\n",
      "Rank-10 : 80.95%\n",
      "Rank-20 : 90.36%\n",
      "\u001b[33mValidating online osnet ...\u001b[0m\n",
      "Features extracted in 60.11 seconds\n",
      "Features extracted in 118.66 seconds\n",
      "Computing CMC and mAP ...\n",
      "** Results **\n",
      "mAP: 66.87%\n",
      "CMC curve\n",
      "Rank-1  : 48.11%\n",
      "Rank-5  : 84.70%\n",
      "Rank-10 : 95.19%\n",
      "Rank-20 : 99.23%\n",
      "\u001b[33mValidating momentum osnet ...\u001b[0m\n",
      "Features extracted in 60.38 seconds\n",
      "Features extracted in 117.64 seconds\n",
      "Computing CMC and mAP ...\n",
      "** Results **\n",
      "mAP: 67.06%\n",
      "CMC curve\n",
      "Rank-1  : 51.39%\n",
      "Rank-5  : 86.67%\n",
      "Rank-10 : 94.96%\n",
      "Rank-20 : 98.71%\n",
      "\u001b[33mValidating online densenet121 ...\u001b[0m\n",
      "Features extracted in 61.23 seconds\n",
      "Features extracted in 120.39 seconds\n",
      "Computing CMC and mAP ...\n",
      "** Results **\n",
      "mAP: 65.34%\n",
      "CMC curve\n",
      "Rank-1  : 45.42%\n",
      "Rank-5  : 74.47%\n",
      "Rank-10 : 84.90%\n",
      "Rank-20 : 93.93%\n",
      "\u001b[33mValidating momentum densenet121 ...\u001b[0m\n",
      "Features extracted in 60.97 seconds\n",
      "Features extracted in 119.88 seconds\n",
      "Computing CMC and mAP ...\n",
      "** Results **\n",
      "mAP: 65.71%\n",
      "CMC curve\n",
      "Rank-1  : 46.36%\n",
      "Rank-5  : 79.22%\n",
      "Rank-10 : 88.80%\n",
      "Rank-20 : 95.19%\n",
      "\u001b[33mValidating ensembled with online models ...\u001b[0m\n",
      "Computing CMC and mAP ...\n",
      "** Results **\n",
      "mAP: 65.61%\n",
      "Ranks:\n",
      "Rank-1  : 45.50%\n",
      "Rank-5  : 70.24%\n",
      "Rank-10 : 79.04%\n",
      "\u001b[33mValidating ensembled with momentum models ...\u001b[0m\n",
      "Computing CMC and mAP ...\n",
      "** Results **\n",
      "mAP: 65.36%\n",
      "Ranks:\n",
      "Rank-1  : 43.96%\n",
      "Rank-5  : 75.79%\n",
      "Rank-10 : 85.67%\n",
      "###============ Iteration number 41/90 ============###\n",
      "Extracting Online Features for efficientnet ...\n",
      "Features extracted in 194.49 seconds\n",
      "Computing jaccard distance...\n"
     ]
    },
    {
     "name": "stderr",
     "output_type": "stream",
     "text": [
      "bruteForceKnn is deprecated; call bfKnn instead\n"
     ]
    },
    {
     "name": "stdout",
     "output_type": "stream",
     "text": [
      "Jaccard distance computing time cost: 78.93514585494995\n",
      "Extracting Online Features for convnext ...\n",
      "Features extracted in 192.29 seconds\n",
      "Computing jaccard distance...\n"
     ]
    },
    {
     "name": "stderr",
     "output_type": "stream",
     "text": [
      "bruteForceKnn is deprecated; call bfKnn instead\n"
     ]
    },
    {
     "name": "stdout",
     "output_type": "stream",
     "text": [
      "Jaccard distance computing time cost: 73.18249583244324\n",
      "Extracting Online Features for mobilenet ...\n",
      "Features extracted in 190.24 seconds\n",
      "Computing jaccard distance...\n"
     ]
    },
    {
     "name": "stderr",
     "output_type": "stream",
     "text": [
      "bruteForceKnn is deprecated; call bfKnn instead\n"
     ]
    },
    {
     "name": "stdout",
     "output_type": "stream",
     "text": [
      "Jaccard distance computing time cost: 70.53843307495117\n",
      "Extracting Online Features for vgg16 ...\n",
      "Features extracted in 189.42 seconds\n",
      "Computing jaccard distance...\n"
     ]
    },
    {
     "name": "stderr",
     "output_type": "stream",
     "text": [
      "bruteForceKnn is deprecated; call bfKnn instead\n"
     ]
    },
    {
     "name": "stdout",
     "output_type": "stream",
     "text": [
      "Jaccard distance computing time cost: 70.87886452674866\n",
      "Extracting Online Features for resnet50 ...\n",
      "Features extracted in 188.69 seconds\n",
      "Computing jaccard distance...\n"
     ]
    },
    {
     "name": "stderr",
     "output_type": "stream",
     "text": [
      "bruteForceKnn is deprecated; call bfKnn instead\n"
     ]
    },
    {
     "name": "stdout",
     "output_type": "stream",
     "text": [
      "Jaccard distance computing time cost: 70.83940601348877\n",
      "Extracting Online Features for osnet ...\n",
      "Features extracted in 187.89 seconds\n",
      "Computing jaccard distance...\n"
     ]
    },
    {
     "name": "stderr",
     "output_type": "stream",
     "text": [
      "bruteForceKnn is deprecated; call bfKnn instead\n"
     ]
    },
    {
     "name": "stdout",
     "output_type": "stream",
     "text": [
      "Jaccard distance computing time cost: 72.05578994750977\n",
      "Extracting Online Features for densenet121 ...\n",
      "Features extracted in 192.07 seconds\n",
      "Computing jaccard distance...\n"
     ]
    },
    {
     "name": "stderr",
     "output_type": "stream",
     "text": [
      "bruteForceKnn is deprecated; call bfKnn instead\n"
     ]
    },
    {
     "name": "stdout",
     "output_type": "stream",
     "text": [
      "Jaccard distance computing time cost: 73.51976490020752\n",
      "Reliability: 0.044\n",
      "\u001b[32mMean Purity: 0.02052\u001b[0m\n",
      "\u001b[34mThere are 20 clusters with 4 cameras\u001b[0m\n",
      "\u001b[34mThere are 21 clusters with 5 cameras\u001b[0m\n",
      "\u001b[34mThere are 11 clusters with 6 cameras\u001b[0m\n",
      "\u001b[34mThere are 8 clusters with 7 cameras\u001b[0m\n",
      "\u001b[34mThere are 2 clusters with 8 cameras\u001b[0m\n",
      "\u001b[34mThere are 4 clusters with 9 cameras\u001b[0m\n",
      "\u001b[34mThere are 4 clusters with 10 cameras\u001b[0m\n",
      "\u001b[34mThere are 4 clusters with 11 cameras\u001b[0m\n",
      "\u001b[34mThere are 3 clusters with 12 cameras\u001b[0m\n",
      "\u001b[34mThere are 5 clusters with 13 cameras\u001b[0m\n",
      "\u001b[34mThere are 2 clusters with 16 cameras\u001b[0m\n",
      "\u001b[34mThere are 2 clusters with 17 cameras\u001b[0m\n",
      "\u001b[34mThere are 2 clusters with 18 cameras\u001b[0m\n",
      "\u001b[34mThere are 1 clusters with 19 cameras\u001b[0m\n",
      "\u001b[34mThere are 4 clusters with 20 cameras\u001b[0m\n",
      "\u001b[34mThere are 3 clusters with 22 cameras\u001b[0m\n",
      "\u001b[34mThere are 1 clusters with 23 cameras\u001b[0m\n",
      "\u001b[34mThere are 1 clusters with 24 cameras\u001b[0m\n",
      "\u001b[34mThere are 1 clusters with 25 cameras\u001b[0m\n",
      "\u001b[34mThere are 1 clusters with 26 cameras\u001b[0m\n",
      "\u001b[34mThere are 3 clusters with 28 cameras\u001b[0m\n",
      "\u001b[34mThere are 1 clusters with 35 cameras\u001b[0m\n",
      "\u001b[34mThere are 1 clusters with 37 cameras\u001b[0m\n",
      "\u001b[34mThere are 1 clusters with 40 cameras\u001b[0m\n",
      "\u001b[34mThere are 1 clusters with 42 cameras\u001b[0m\n",
      "\u001b[34mThere are 1 clusters with 45 cameras\u001b[0m\n",
      "\u001b[34mThere are 1 clusters with 46 cameras\u001b[0m\n",
      "\u001b[34mThere are 1 clusters with 49 cameras\u001b[0m\n",
      "\u001b[34mThere are 1 clusters with 50 cameras\u001b[0m\n",
      "\u001b[34mThere are 1 clusters with 63 cameras\u001b[0m\n",
      "\u001b[34mThere are 2 clusters with 68 cameras\u001b[0m\n",
      "\u001b[34mThere are 1 clusters with 168 cameras\u001b[0m\n",
      "Number of classes: 115\n",
      "\u001b[36mLearning Rate: 0.000350\u001b[0m\n",
      "encontrou modelos efficientnet. Carregando...\n",
      "encontrou modelos convnext. Carregando...\n",
      "encontrou modelos mobilenet. Carregando...\n",
      "encontrou modelos vgg16. Carregando...\n",
      "encontrou modelos resnet50. Carregando...\n",
      "encontrou modelos osnet. Carregando...\n",
      "encontrou modelos densenet121. Carregando...\n",
      "###============ Iteration number 42/90 ============###\n",
      "Extracting Online Features for efficientnet ...\n",
      "Features extracted in 192.74 seconds\n",
      "Computing jaccard distance...\n"
     ]
    },
    {
     "name": "stderr",
     "output_type": "stream",
     "text": [
      "bruteForceKnn is deprecated; call bfKnn instead\n"
     ]
    },
    {
     "name": "stdout",
     "output_type": "stream",
     "text": [
      "Jaccard distance computing time cost: 79.0526831150055\n",
      "Extracting Online Features for convnext ...\n",
      "Features extracted in 191.88 seconds\n",
      "Computing jaccard distance...\n"
     ]
    },
    {
     "name": "stderr",
     "output_type": "stream",
     "text": [
      "bruteForceKnn is deprecated; call bfKnn instead\n"
     ]
    },
    {
     "name": "stdout",
     "output_type": "stream",
     "text": [
      "Jaccard distance computing time cost: 74.92005634307861\n",
      "Extracting Online Features for mobilenet ...\n",
      "Features extracted in 191.05 seconds\n",
      "Computing jaccard distance...\n"
     ]
    },
    {
     "name": "stderr",
     "output_type": "stream",
     "text": [
      "bruteForceKnn is deprecated; call bfKnn instead\n"
     ]
    },
    {
     "name": "stdout",
     "output_type": "stream",
     "text": [
      "Jaccard distance computing time cost: 72.05668520927429\n",
      "Extracting Online Features for vgg16 ...\n",
      "Features extracted in 192.30 seconds\n",
      "Computing jaccard distance...\n"
     ]
    },
    {
     "name": "stderr",
     "output_type": "stream",
     "text": [
      "bruteForceKnn is deprecated; call bfKnn instead\n"
     ]
    },
    {
     "name": "stdout",
     "output_type": "stream",
     "text": [
      "Jaccard distance computing time cost: 71.16424822807312\n",
      "Extracting Online Features for resnet50 ...\n",
      "Features extracted in 191.30 seconds\n",
      "Computing jaccard distance...\n"
     ]
    },
    {
     "name": "stderr",
     "output_type": "stream",
     "text": [
      "bruteForceKnn is deprecated; call bfKnn instead\n"
     ]
    },
    {
     "name": "stdout",
     "output_type": "stream",
     "text": [
      "Jaccard distance computing time cost: 69.72523403167725\n",
      "Extracting Online Features for osnet ...\n",
      "Features extracted in 190.83 seconds\n",
      "Computing jaccard distance...\n"
     ]
    },
    {
     "name": "stderr",
     "output_type": "stream",
     "text": [
      "bruteForceKnn is deprecated; call bfKnn instead\n"
     ]
    },
    {
     "name": "stdout",
     "output_type": "stream",
     "text": [
      "Jaccard distance computing time cost: 70.37392902374268\n",
      "Extracting Online Features for densenet121 ...\n",
      "Features extracted in 190.80 seconds\n",
      "Computing jaccard distance...\n"
     ]
    },
    {
     "name": "stderr",
     "output_type": "stream",
     "text": [
      "bruteForceKnn is deprecated; call bfKnn instead\n"
     ]
    },
    {
     "name": "stdout",
     "output_type": "stream",
     "text": [
      "Jaccard distance computing time cost: 71.60977816581726\n",
      "Reliability: 0.044\n",
      "\u001b[32mMean Purity: 0.02052\u001b[0m\n",
      "\u001b[34mThere are 20 clusters with 4 cameras\u001b[0m\n",
      "\u001b[34mThere are 21 clusters with 5 cameras\u001b[0m\n",
      "\u001b[34mThere are 11 clusters with 6 cameras\u001b[0m\n",
      "\u001b[34mThere are 8 clusters with 7 cameras\u001b[0m\n",
      "\u001b[34mThere are 2 clusters with 8 cameras\u001b[0m\n",
      "\u001b[34mThere are 4 clusters with 9 cameras\u001b[0m\n",
      "\u001b[34mThere are 4 clusters with 10 cameras\u001b[0m\n",
      "\u001b[34mThere are 4 clusters with 11 cameras\u001b[0m\n",
      "\u001b[34mThere are 3 clusters with 12 cameras\u001b[0m\n",
      "\u001b[34mThere are 5 clusters with 13 cameras\u001b[0m\n",
      "\u001b[34mThere are 2 clusters with 16 cameras\u001b[0m\n",
      "\u001b[34mThere are 2 clusters with 17 cameras\u001b[0m\n",
      "\u001b[34mThere are 2 clusters with 18 cameras\u001b[0m\n",
      "\u001b[34mThere are 1 clusters with 19 cameras\u001b[0m\n",
      "\u001b[34mThere are 4 clusters with 20 cameras\u001b[0m\n",
      "\u001b[34mThere are 3 clusters with 22 cameras\u001b[0m\n",
      "\u001b[34mThere are 1 clusters with 23 cameras\u001b[0m\n",
      "\u001b[34mThere are 1 clusters with 24 cameras\u001b[0m\n",
      "\u001b[34mThere are 1 clusters with 25 cameras\u001b[0m\n",
      "\u001b[34mThere are 1 clusters with 26 cameras\u001b[0m\n",
      "\u001b[34mThere are 3 clusters with 28 cameras\u001b[0m\n",
      "\u001b[34mThere are 1 clusters with 35 cameras\u001b[0m\n",
      "\u001b[34mThere are 1 clusters with 37 cameras\u001b[0m\n",
      "\u001b[34mThere are 1 clusters with 40 cameras\u001b[0m\n",
      "\u001b[34mThere are 1 clusters with 42 cameras\u001b[0m\n",
      "\u001b[34mThere are 1 clusters with 45 cameras\u001b[0m\n",
      "\u001b[34mThere are 1 clusters with 46 cameras\u001b[0m\n",
      "\u001b[34mThere are 1 clusters with 49 cameras\u001b[0m\n",
      "\u001b[34mThere are 1 clusters with 50 cameras\u001b[0m\n",
      "\u001b[34mThere are 1 clusters with 63 cameras\u001b[0m\n",
      "\u001b[34mThere are 2 clusters with 68 cameras\u001b[0m\n",
      "\u001b[34mThere are 1 clusters with 168 cameras\u001b[0m\n",
      "Number of classes: 115\n",
      "\u001b[36mLearning Rate: 0.000350\u001b[0m\n",
      "encontrou modelos efficientnet. Carregando...\n",
      "encontrou modelos convnext. Carregando...\n",
      "encontrou modelos mobilenet. Carregando...\n",
      "encontrou modelos vgg16. Carregando...\n",
      "encontrou modelos resnet50. Carregando...\n",
      "encontrou modelos osnet. Carregando...\n",
      "encontrou modelos densenet121. Carregando...\n",
      "###============ Iteration number 43/90 ============###\n",
      "Extracting Online Features for efficientnet ...\n",
      "Features extracted in 187.49 seconds\n",
      "Computing jaccard distance...\n"
     ]
    },
    {
     "name": "stderr",
     "output_type": "stream",
     "text": [
      "bruteForceKnn is deprecated; call bfKnn instead\n"
     ]
    },
    {
     "name": "stdout",
     "output_type": "stream",
     "text": [
      "Jaccard distance computing time cost: 80.07893061637878\n",
      "Extracting Online Features for convnext ...\n",
      "Features extracted in 192.17 seconds\n",
      "Computing jaccard distance...\n"
     ]
    },
    {
     "name": "stderr",
     "output_type": "stream",
     "text": [
      "bruteForceKnn is deprecated; call bfKnn instead\n"
     ]
    },
    {
     "name": "stdout",
     "output_type": "stream",
     "text": [
      "Jaccard distance computing time cost: 71.90497374534607\n",
      "Extracting Online Features for mobilenet ...\n",
      "Features extracted in 190.12 seconds\n",
      "Computing jaccard distance...\n"
     ]
    },
    {
     "name": "stderr",
     "output_type": "stream",
     "text": [
      "bruteForceKnn is deprecated; call bfKnn instead\n"
     ]
    },
    {
     "name": "stdout",
     "output_type": "stream",
     "text": [
      "Jaccard distance computing time cost: 70.47388315200806\n",
      "Extracting Online Features for vgg16 ...\n",
      "Features extracted in 190.59 seconds\n",
      "Computing jaccard distance...\n"
     ]
    },
    {
     "name": "stderr",
     "output_type": "stream",
     "text": [
      "bruteForceKnn is deprecated; call bfKnn instead\n"
     ]
    },
    {
     "name": "stdout",
     "output_type": "stream",
     "text": [
      "Jaccard distance computing time cost: 72.29355978965759\n",
      "Extracting Online Features for resnet50 ...\n",
      "Features extracted in 190.70 seconds\n",
      "Computing jaccard distance...\n"
     ]
    },
    {
     "name": "stderr",
     "output_type": "stream",
     "text": [
      "bruteForceKnn is deprecated; call bfKnn instead\n"
     ]
    },
    {
     "name": "stdout",
     "output_type": "stream",
     "text": [
      "Jaccard distance computing time cost: 73.0581603050232\n",
      "Extracting Online Features for osnet ...\n",
      "Features extracted in 186.55 seconds\n",
      "Computing jaccard distance...\n"
     ]
    },
    {
     "name": "stderr",
     "output_type": "stream",
     "text": [
      "bruteForceKnn is deprecated; call bfKnn instead\n"
     ]
    },
    {
     "name": "stdout",
     "output_type": "stream",
     "text": [
      "Jaccard distance computing time cost: 70.90918755531311\n",
      "Extracting Online Features for densenet121 ...\n",
      "Features extracted in 187.49 seconds\n",
      "Computing jaccard distance...\n"
     ]
    },
    {
     "name": "stderr",
     "output_type": "stream",
     "text": [
      "bruteForceKnn is deprecated; call bfKnn instead\n"
     ]
    },
    {
     "name": "stdout",
     "output_type": "stream",
     "text": [
      "Jaccard distance computing time cost: 73.17726135253906\n",
      "Reliability: 0.044\n",
      "\u001b[32mMean Purity: 0.02052\u001b[0m\n",
      "\u001b[34mThere are 20 clusters with 4 cameras\u001b[0m\n",
      "\u001b[34mThere are 21 clusters with 5 cameras\u001b[0m\n",
      "\u001b[34mThere are 11 clusters with 6 cameras\u001b[0m\n",
      "\u001b[34mThere are 8 clusters with 7 cameras\u001b[0m\n",
      "\u001b[34mThere are 2 clusters with 8 cameras\u001b[0m\n",
      "\u001b[34mThere are 4 clusters with 9 cameras\u001b[0m\n",
      "\u001b[34mThere are 4 clusters with 10 cameras\u001b[0m\n",
      "\u001b[34mThere are 4 clusters with 11 cameras\u001b[0m\n",
      "\u001b[34mThere are 3 clusters with 12 cameras\u001b[0m\n",
      "\u001b[34mThere are 5 clusters with 13 cameras\u001b[0m\n",
      "\u001b[34mThere are 2 clusters with 16 cameras\u001b[0m\n",
      "\u001b[34mThere are 2 clusters with 17 cameras\u001b[0m\n",
      "\u001b[34mThere are 2 clusters with 18 cameras\u001b[0m\n",
      "\u001b[34mThere are 1 clusters with 19 cameras\u001b[0m\n",
      "\u001b[34mThere are 4 clusters with 20 cameras\u001b[0m\n",
      "\u001b[34mThere are 3 clusters with 22 cameras\u001b[0m\n",
      "\u001b[34mThere are 1 clusters with 23 cameras\u001b[0m\n",
      "\u001b[34mThere are 1 clusters with 24 cameras\u001b[0m\n",
      "\u001b[34mThere are 1 clusters with 25 cameras\u001b[0m\n",
      "\u001b[34mThere are 1 clusters with 26 cameras\u001b[0m\n",
      "\u001b[34mThere are 3 clusters with 28 cameras\u001b[0m\n",
      "\u001b[34mThere are 1 clusters with 35 cameras\u001b[0m\n",
      "\u001b[34mThere are 1 clusters with 37 cameras\u001b[0m\n",
      "\u001b[34mThere are 1 clusters with 40 cameras\u001b[0m\n",
      "\u001b[34mThere are 1 clusters with 42 cameras\u001b[0m\n",
      "\u001b[34mThere are 1 clusters with 45 cameras\u001b[0m\n",
      "\u001b[34mThere are 1 clusters with 46 cameras\u001b[0m\n",
      "\u001b[34mThere are 1 clusters with 49 cameras\u001b[0m\n",
      "\u001b[34mThere are 1 clusters with 50 cameras\u001b[0m\n",
      "\u001b[34mThere are 1 clusters with 63 cameras\u001b[0m\n",
      "\u001b[34mThere are 2 clusters with 68 cameras\u001b[0m\n",
      "\u001b[34mThere are 1 clusters with 168 cameras\u001b[0m\n",
      "Number of classes: 115\n",
      "\u001b[36mLearning Rate: 0.000350\u001b[0m\n",
      "encontrou modelos efficientnet. Carregando...\n",
      "encontrou modelos convnext. Carregando...\n",
      "encontrou modelos mobilenet. Carregando...\n",
      "encontrou modelos vgg16. Carregando...\n",
      "encontrou modelos resnet50. Carregando...\n",
      "encontrou modelos osnet. Carregando...\n",
      "encontrou modelos densenet121. Carregando...\n",
      "###============ Iteration number 44/90 ============###\n",
      "Extracting Online Features for efficientnet ...\n",
      "Features extracted in 188.42 seconds\n",
      "Computing jaccard distance...\n"
     ]
    },
    {
     "name": "stderr",
     "output_type": "stream",
     "text": [
      "bruteForceKnn is deprecated; call bfKnn instead\n"
     ]
    },
    {
     "name": "stdout",
     "output_type": "stream",
     "text": [
      "Jaccard distance computing time cost: 78.57681465148926\n",
      "Extracting Online Features for convnext ...\n",
      "Features extracted in 189.01 seconds\n",
      "Computing jaccard distance...\n"
     ]
    },
    {
     "name": "stderr",
     "output_type": "stream",
     "text": [
      "bruteForceKnn is deprecated; call bfKnn instead\n"
     ]
    },
    {
     "name": "stdout",
     "output_type": "stream",
     "text": [
      "Jaccard distance computing time cost: 70.53581881523132\n",
      "Extracting Online Features for mobilenet ...\n",
      "Features extracted in 191.46 seconds\n",
      "Computing jaccard distance...\n"
     ]
    },
    {
     "name": "stderr",
     "output_type": "stream",
     "text": [
      "bruteForceKnn is deprecated; call bfKnn instead\n"
     ]
    },
    {
     "name": "stdout",
     "output_type": "stream",
     "text": [
      "Jaccard distance computing time cost: 69.63218712806702\n",
      "Extracting Online Features for vgg16 ...\n",
      "Features extracted in 191.94 seconds\n",
      "Computing jaccard distance...\n"
     ]
    },
    {
     "name": "stderr",
     "output_type": "stream",
     "text": [
      "bruteForceKnn is deprecated; call bfKnn instead\n"
     ]
    },
    {
     "name": "stdout",
     "output_type": "stream",
     "text": [
      "Jaccard distance computing time cost: 71.13252401351929\n",
      "Extracting Online Features for resnet50 ...\n",
      "Features extracted in 189.97 seconds\n",
      "Computing jaccard distance...\n"
     ]
    },
    {
     "name": "stderr",
     "output_type": "stream",
     "text": [
      "bruteForceKnn is deprecated; call bfKnn instead\n"
     ]
    },
    {
     "name": "stdout",
     "output_type": "stream",
     "text": [
      "Jaccard distance computing time cost: 69.76254415512085\n",
      "Extracting Online Features for osnet ...\n",
      "Features extracted in 188.13 seconds\n",
      "Computing jaccard distance...\n"
     ]
    },
    {
     "name": "stderr",
     "output_type": "stream",
     "text": [
      "bruteForceKnn is deprecated; call bfKnn instead\n"
     ]
    },
    {
     "name": "stdout",
     "output_type": "stream",
     "text": [
      "Jaccard distance computing time cost: 71.86890387535095\n",
      "Extracting Online Features for densenet121 ...\n",
      "Features extracted in 186.94 seconds\n",
      "Computing jaccard distance...\n"
     ]
    },
    {
     "name": "stderr",
     "output_type": "stream",
     "text": [
      "bruteForceKnn is deprecated; call bfKnn instead\n"
     ]
    },
    {
     "name": "stdout",
     "output_type": "stream",
     "text": [
      "Jaccard distance computing time cost: 71.95017147064209\n",
      "Reliability: 0.044\n",
      "\u001b[32mMean Purity: 0.02052\u001b[0m\n",
      "\u001b[34mThere are 20 clusters with 4 cameras\u001b[0m\n",
      "\u001b[34mThere are 21 clusters with 5 cameras\u001b[0m\n",
      "\u001b[34mThere are 11 clusters with 6 cameras\u001b[0m\n",
      "\u001b[34mThere are 8 clusters with 7 cameras\u001b[0m\n",
      "\u001b[34mThere are 2 clusters with 8 cameras\u001b[0m\n",
      "\u001b[34mThere are 4 clusters with 9 cameras\u001b[0m\n",
      "\u001b[34mThere are 4 clusters with 10 cameras\u001b[0m\n",
      "\u001b[34mThere are 4 clusters with 11 cameras\u001b[0m\n",
      "\u001b[34mThere are 3 clusters with 12 cameras\u001b[0m\n",
      "\u001b[34mThere are 5 clusters with 13 cameras\u001b[0m\n",
      "\u001b[34mThere are 2 clusters with 16 cameras\u001b[0m\n",
      "\u001b[34mThere are 2 clusters with 17 cameras\u001b[0m\n",
      "\u001b[34mThere are 2 clusters with 18 cameras\u001b[0m\n",
      "\u001b[34mThere are 1 clusters with 19 cameras\u001b[0m\n",
      "\u001b[34mThere are 4 clusters with 20 cameras\u001b[0m\n",
      "\u001b[34mThere are 3 clusters with 22 cameras\u001b[0m\n",
      "\u001b[34mThere are 1 clusters with 23 cameras\u001b[0m\n",
      "\u001b[34mThere are 1 clusters with 24 cameras\u001b[0m\n",
      "\u001b[34mThere are 1 clusters with 25 cameras\u001b[0m\n",
      "\u001b[34mThere are 1 clusters with 26 cameras\u001b[0m\n",
      "\u001b[34mThere are 3 clusters with 28 cameras\u001b[0m\n",
      "\u001b[34mThere are 1 clusters with 35 cameras\u001b[0m\n",
      "\u001b[34mThere are 1 clusters with 37 cameras\u001b[0m\n",
      "\u001b[34mThere are 1 clusters with 40 cameras\u001b[0m\n",
      "\u001b[34mThere are 1 clusters with 42 cameras\u001b[0m\n",
      "\u001b[34mThere are 1 clusters with 45 cameras\u001b[0m\n",
      "\u001b[34mThere are 1 clusters with 46 cameras\u001b[0m\n",
      "\u001b[34mThere are 1 clusters with 49 cameras\u001b[0m\n",
      "\u001b[34mThere are 1 clusters with 50 cameras\u001b[0m\n",
      "\u001b[34mThere are 1 clusters with 63 cameras\u001b[0m\n",
      "\u001b[34mThere are 2 clusters with 68 cameras\u001b[0m\n",
      "\u001b[34mThere are 1 clusters with 168 cameras\u001b[0m\n",
      "Number of classes: 115\n",
      "\u001b[36mLearning Rate: 0.000350\u001b[0m\n",
      "encontrou modelos efficientnet. Carregando...\n",
      "encontrou modelos convnext. Carregando...\n",
      "encontrou modelos mobilenet. Carregando...\n",
      "encontrou modelos vgg16. Carregando...\n",
      "encontrou modelos resnet50. Carregando...\n",
      "encontrou modelos osnet. Carregando...\n",
      "encontrou modelos densenet121. Carregando...\n",
      "###============ Iteration number 45/90 ============###\n",
      "Extracting Online Features for efficientnet ...\n",
      "Features extracted in 188.19 seconds\n",
      "Computing jaccard distance...\n"
     ]
    },
    {
     "name": "stderr",
     "output_type": "stream",
     "text": [
      "bruteForceKnn is deprecated; call bfKnn instead\n"
     ]
    },
    {
     "name": "stdout",
     "output_type": "stream",
     "text": [
      "Jaccard distance computing time cost: 78.2133321762085\n",
      "Extracting Online Features for convnext ...\n",
      "Features extracted in 189.19 seconds\n",
      "Computing jaccard distance...\n"
     ]
    },
    {
     "name": "stderr",
     "output_type": "stream",
     "text": [
      "bruteForceKnn is deprecated; call bfKnn instead\n"
     ]
    },
    {
     "name": "stdout",
     "output_type": "stream",
     "text": [
      "Jaccard distance computing time cost: 71.86143279075623\n",
      "Extracting Online Features for mobilenet ...\n",
      "Features extracted in 187.21 seconds\n",
      "Computing jaccard distance...\n"
     ]
    },
    {
     "name": "stderr",
     "output_type": "stream",
     "text": [
      "bruteForceKnn is deprecated; call bfKnn instead\n"
     ]
    },
    {
     "name": "stdout",
     "output_type": "stream",
     "text": [
      "Jaccard distance computing time cost: 71.01508522033691\n",
      "Extracting Online Features for vgg16 ...\n",
      "Features extracted in 191.89 seconds\n",
      "Computing jaccard distance...\n"
     ]
    },
    {
     "name": "stderr",
     "output_type": "stream",
     "text": [
      "bruteForceKnn is deprecated; call bfKnn instead\n"
     ]
    },
    {
     "name": "stdout",
     "output_type": "stream",
     "text": [
      "Jaccard distance computing time cost: 74.4081597328186\n",
      "Extracting Online Features for resnet50 ...\n",
      "Features extracted in 186.93 seconds\n",
      "Computing jaccard distance...\n"
     ]
    },
    {
     "name": "stderr",
     "output_type": "stream",
     "text": [
      "bruteForceKnn is deprecated; call bfKnn instead\n"
     ]
    },
    {
     "name": "stdout",
     "output_type": "stream",
     "text": [
      "Jaccard distance computing time cost: 69.38874220848083\n",
      "Extracting Online Features for osnet ...\n",
      "Features extracted in 190.18 seconds\n",
      "Computing jaccard distance...\n"
     ]
    },
    {
     "name": "stderr",
     "output_type": "stream",
     "text": [
      "bruteForceKnn is deprecated; call bfKnn instead\n"
     ]
    },
    {
     "name": "stdout",
     "output_type": "stream",
     "text": [
      "Jaccard distance computing time cost: 70.13528347015381\n",
      "Extracting Online Features for densenet121 ...\n",
      "Features extracted in 189.38 seconds\n",
      "Computing jaccard distance...\n"
     ]
    },
    {
     "name": "stderr",
     "output_type": "stream",
     "text": [
      "bruteForceKnn is deprecated; call bfKnn instead\n"
     ]
    },
    {
     "name": "stdout",
     "output_type": "stream",
     "text": [
      "Jaccard distance computing time cost: 75.56867098808289\n",
      "Reliability: 0.044\n",
      "\u001b[32mMean Purity: 0.02052\u001b[0m\n",
      "\u001b[34mThere are 20 clusters with 4 cameras\u001b[0m\n",
      "\u001b[34mThere are 21 clusters with 5 cameras\u001b[0m\n",
      "\u001b[34mThere are 11 clusters with 6 cameras\u001b[0m\n",
      "\u001b[34mThere are 8 clusters with 7 cameras\u001b[0m\n",
      "\u001b[34mThere are 2 clusters with 8 cameras\u001b[0m\n",
      "\u001b[34mThere are 4 clusters with 9 cameras\u001b[0m\n",
      "\u001b[34mThere are 4 clusters with 10 cameras\u001b[0m\n",
      "\u001b[34mThere are 4 clusters with 11 cameras\u001b[0m\n",
      "\u001b[34mThere are 3 clusters with 12 cameras\u001b[0m\n",
      "\u001b[34mThere are 5 clusters with 13 cameras\u001b[0m\n",
      "\u001b[34mThere are 2 clusters with 16 cameras\u001b[0m\n",
      "\u001b[34mThere are 2 clusters with 17 cameras\u001b[0m\n",
      "\u001b[34mThere are 2 clusters with 18 cameras\u001b[0m\n",
      "\u001b[34mThere are 1 clusters with 19 cameras\u001b[0m\n",
      "\u001b[34mThere are 4 clusters with 20 cameras\u001b[0m\n",
      "\u001b[34mThere are 3 clusters with 22 cameras\u001b[0m\n",
      "\u001b[34mThere are 1 clusters with 23 cameras\u001b[0m\n",
      "\u001b[34mThere are 1 clusters with 24 cameras\u001b[0m\n",
      "\u001b[34mThere are 1 clusters with 25 cameras\u001b[0m\n",
      "\u001b[34mThere are 1 clusters with 26 cameras\u001b[0m\n",
      "\u001b[34mThere are 3 clusters with 28 cameras\u001b[0m\n",
      "\u001b[34mThere are 1 clusters with 35 cameras\u001b[0m\n",
      "\u001b[34mThere are 1 clusters with 37 cameras\u001b[0m\n",
      "\u001b[34mThere are 1 clusters with 40 cameras\u001b[0m\n",
      "\u001b[34mThere are 1 clusters with 42 cameras\u001b[0m\n",
      "\u001b[34mThere are 1 clusters with 45 cameras\u001b[0m\n",
      "\u001b[34mThere are 1 clusters with 46 cameras\u001b[0m\n",
      "\u001b[34mThere are 1 clusters with 49 cameras\u001b[0m\n",
      "\u001b[34mThere are 1 clusters with 50 cameras\u001b[0m\n",
      "\u001b[34mThere are 1 clusters with 63 cameras\u001b[0m\n",
      "\u001b[34mThere are 2 clusters with 68 cameras\u001b[0m\n",
      "\u001b[34mThere are 1 clusters with 168 cameras\u001b[0m\n",
      "Number of classes: 115\n",
      "\u001b[36mLearning Rate: 0.000350\u001b[0m\n",
      "encontrou modelos efficientnet. Carregando...\n",
      "encontrou modelos convnext. Carregando...\n",
      "encontrou modelos mobilenet. Carregando...\n",
      "encontrou modelos vgg16. Carregando...\n",
      "encontrou modelos resnet50. Carregando...\n",
      "encontrou modelos osnet. Carregando...\n",
      "encontrou modelos densenet121. Carregando...\n",
      "\u001b[33mValidating online efficientnet ...\u001b[0m\n",
      "Features extracted in 59.92 seconds\n",
      "Features extracted in 115.46 seconds\n",
      "Computing CMC and mAP ...\n",
      "** Results **\n",
      "mAP: 66.96%\n",
      "CMC curve\n",
      "Rank-1  : 49.76%\n",
      "Rank-5  : 88.29%\n",
      "Rank-10 : 96.33%\n",
      "Rank-20 : 99.32%\n",
      "\u001b[33mValidating momentum efficientnet ...\u001b[0m\n",
      "Features extracted in 59.70 seconds\n",
      "Features extracted in 117.39 seconds\n",
      "Computing CMC and mAP ...\n",
      "** Results **\n",
      "mAP: 66.33%\n",
      "CMC curve\n",
      "Rank-1  : 47.72%\n",
      "Rank-5  : 83.15%\n",
      "Rank-10 : 91.82%\n",
      "Rank-20 : 96.73%\n",
      "\u001b[33mValidating online convnext ...\u001b[0m\n",
      "Features extracted in 58.43 seconds\n",
      "Features extracted in 117.04 seconds\n",
      "Computing CMC and mAP ...\n",
      "** Results **\n",
      "mAP: 65.77%\n",
      "CMC curve\n",
      "Rank-1  : 46.59%\n",
      "Rank-5  : 75.46%\n",
      "Rank-10 : 86.74%\n",
      "Rank-20 : 94.66%\n",
      "\u001b[33mValidating momentum convnext ...\u001b[0m\n",
      "Features extracted in 59.04 seconds\n",
      "Features extracted in 118.02 seconds\n",
      "Computing CMC and mAP ...\n",
      "** Results **\n",
      "mAP: 64.96%\n",
      "CMC curve\n",
      "Rank-1  : 45.63%\n",
      "Rank-5  : 75.04%\n",
      "Rank-10 : 87.30%\n",
      "Rank-20 : 95.01%\n",
      "\u001b[33mValidating online mobilenet ...\u001b[0m\n",
      "Features extracted in 58.42 seconds\n",
      "Features extracted in 117.32 seconds\n",
      "Computing CMC and mAP ...\n",
      "** Results **\n",
      "mAP: 66.23%\n",
      "CMC curve\n",
      "Rank-1  : 51.24%\n",
      "Rank-5  : 86.31%\n",
      "Rank-10 : 94.85%\n",
      "Rank-20 : 99.15%\n",
      "\u001b[33mValidating momentum mobilenet ...\u001b[0m\n",
      "Features extracted in 57.82 seconds\n",
      "Features extracted in 115.19 seconds\n",
      "Computing CMC and mAP ...\n",
      "** Results **\n",
      "mAP: 66.41%\n",
      "CMC curve\n",
      "Rank-1  : 52.73%\n",
      "Rank-5  : 85.40%\n",
      "Rank-10 : 93.79%\n",
      "Rank-20 : 98.57%\n",
      "\u001b[33mValidating online vgg16 ...\u001b[0m\n",
      "Features extracted in 60.54 seconds\n",
      "Features extracted in 116.50 seconds\n",
      "Computing CMC and mAP ...\n",
      "** Results **\n",
      "mAP: 65.47%\n",
      "CMC curve\n",
      "Rank-1  : 43.56%\n",
      "Rank-5  : 75.41%\n",
      "Rank-10 : 85.98%\n",
      "Rank-20 : 92.95%\n",
      "\u001b[33mValidating momentum vgg16 ...\u001b[0m\n",
      "Features extracted in 59.86 seconds\n",
      "Features extracted in 117.82 seconds\n",
      "Computing CMC and mAP ...\n",
      "** Results **\n",
      "mAP: 65.67%\n",
      "CMC curve\n",
      "Rank-1  : 45.75%\n",
      "Rank-5  : 82.00%\n",
      "Rank-10 : 90.62%\n",
      "Rank-20 : 96.36%\n",
      "\u001b[33mValidating online resnet50 ...\u001b[0m\n",
      "Features extracted in 60.05 seconds\n",
      "Features extracted in 117.69 seconds\n",
      "Computing CMC and mAP ...\n",
      "** Results **\n",
      "mAP: 65.64%\n",
      "CMC curve\n",
      "Rank-1  : 44.24%\n",
      "Rank-5  : 67.84%\n",
      "Rank-10 : 75.44%\n",
      "Rank-20 : 82.42%\n",
      "\u001b[33mValidating momentum resnet50 ...\u001b[0m\n",
      "Features extracted in 60.15 seconds\n",
      "Features extracted in 115.54 seconds\n",
      "Computing CMC and mAP ...\n",
      "** Results **\n",
      "mAP: 64.94%\n",
      "CMC curve\n",
      "Rank-1  : 43.33%\n",
      "Rank-5  : 71.52%\n",
      "Rank-10 : 80.95%\n",
      "Rank-20 : 90.36%\n",
      "\u001b[33mValidating online osnet ...\u001b[0m\n",
      "Features extracted in 61.34 seconds\n",
      "Features extracted in 118.57 seconds\n",
      "Computing CMC and mAP ...\n",
      "** Results **\n",
      "mAP: 66.87%\n",
      "CMC curve\n",
      "Rank-1  : 48.11%\n",
      "Rank-5  : 84.70%\n",
      "Rank-10 : 95.19%\n",
      "Rank-20 : 99.23%\n",
      "\u001b[33mValidating momentum osnet ...\u001b[0m\n",
      "Features extracted in 59.78 seconds\n",
      "Features extracted in 118.70 seconds\n",
      "Computing CMC and mAP ...\n",
      "** Results **\n",
      "mAP: 67.06%\n",
      "CMC curve\n",
      "Rank-1  : 51.39%\n",
      "Rank-5  : 86.67%\n",
      "Rank-10 : 94.96%\n",
      "Rank-20 : 98.71%\n",
      "\u001b[33mValidating online densenet121 ...\u001b[0m\n",
      "Features extracted in 61.81 seconds\n",
      "Features extracted in 117.45 seconds\n",
      "Computing CMC and mAP ...\n",
      "** Results **\n",
      "mAP: 65.34%\n",
      "CMC curve\n",
      "Rank-1  : 45.42%\n",
      "Rank-5  : 74.47%\n",
      "Rank-10 : 84.90%\n",
      "Rank-20 : 93.93%\n",
      "\u001b[33mValidating momentum densenet121 ...\u001b[0m\n",
      "Features extracted in 60.98 seconds\n",
      "Features extracted in 121.10 seconds\n",
      "Computing CMC and mAP ...\n",
      "** Results **\n",
      "mAP: 65.71%\n",
      "CMC curve\n",
      "Rank-1  : 46.36%\n",
      "Rank-5  : 79.22%\n",
      "Rank-10 : 88.80%\n",
      "Rank-20 : 95.19%\n",
      "\u001b[33mValidating ensembled with online models ...\u001b[0m\n",
      "Computing CMC and mAP ...\n",
      "** Results **\n",
      "mAP: 65.61%\n",
      "Ranks:\n",
      "Rank-1  : 45.50%\n",
      "Rank-5  : 70.24%\n",
      "Rank-10 : 79.04%\n",
      "\u001b[33mValidating ensembled with momentum models ...\u001b[0m\n",
      "Computing CMC and mAP ...\n",
      "** Results **\n",
      "mAP: 65.36%\n",
      "Ranks:\n",
      "Rank-1  : 43.96%\n",
      "Rank-5  : 75.79%\n",
      "Rank-10 : 85.67%\n",
      "###============ Iteration number 46/90 ============###\n",
      "Extracting Online Features for efficientnet ...\n",
      "Features extracted in 192.13 seconds\n",
      "Computing jaccard distance...\n"
     ]
    },
    {
     "name": "stderr",
     "output_type": "stream",
     "text": [
      "bruteForceKnn is deprecated; call bfKnn instead\n"
     ]
    },
    {
     "name": "stdout",
     "output_type": "stream",
     "text": [
      "Jaccard distance computing time cost: 78.73494386672974\n",
      "Extracting Online Features for convnext ...\n",
      "Features extracted in 191.54 seconds\n",
      "Computing jaccard distance...\n"
     ]
    },
    {
     "name": "stderr",
     "output_type": "stream",
     "text": [
      "bruteForceKnn is deprecated; call bfKnn instead\n"
     ]
    },
    {
     "name": "stdout",
     "output_type": "stream",
     "text": [
      "Jaccard distance computing time cost: 73.27955389022827\n",
      "Extracting Online Features for mobilenet ...\n",
      "Features extracted in 189.03 seconds\n",
      "Computing jaccard distance...\n"
     ]
    },
    {
     "name": "stderr",
     "output_type": "stream",
     "text": [
      "bruteForceKnn is deprecated; call bfKnn instead\n"
     ]
    },
    {
     "name": "stdout",
     "output_type": "stream",
     "text": [
      "Jaccard distance computing time cost: 71.0128219127655\n",
      "Extracting Online Features for vgg16 ...\n",
      "Features extracted in 192.54 seconds\n",
      "Computing jaccard distance...\n"
     ]
    },
    {
     "name": "stderr",
     "output_type": "stream",
     "text": [
      "bruteForceKnn is deprecated; call bfKnn instead\n"
     ]
    },
    {
     "name": "stdout",
     "output_type": "stream",
     "text": [
      "Jaccard distance computing time cost: 74.19342827796936\n",
      "Extracting Online Features for resnet50 ...\n",
      "Features extracted in 191.38 seconds\n",
      "Computing jaccard distance...\n"
     ]
    },
    {
     "name": "stderr",
     "output_type": "stream",
     "text": [
      "bruteForceKnn is deprecated; call bfKnn instead\n"
     ]
    },
    {
     "name": "stdout",
     "output_type": "stream",
     "text": [
      "Jaccard distance computing time cost: 70.13142275810242\n",
      "Extracting Online Features for osnet ...\n",
      "Features extracted in 187.52 seconds\n",
      "Computing jaccard distance...\n"
     ]
    },
    {
     "name": "stderr",
     "output_type": "stream",
     "text": [
      "bruteForceKnn is deprecated; call bfKnn instead\n"
     ]
    },
    {
     "name": "stdout",
     "output_type": "stream",
     "text": [
      "Jaccard distance computing time cost: 74.80249261856079\n",
      "Extracting Online Features for densenet121 ...\n",
      "Features extracted in 188.21 seconds\n",
      "Computing jaccard distance...\n"
     ]
    },
    {
     "name": "stderr",
     "output_type": "stream",
     "text": [
      "bruteForceKnn is deprecated; call bfKnn instead\n"
     ]
    },
    {
     "name": "stdout",
     "output_type": "stream",
     "text": [
      "Jaccard distance computing time cost: 77.58297729492188\n",
      "Reliability: 0.044\n",
      "\u001b[32mMean Purity: 0.02052\u001b[0m\n",
      "\u001b[34mThere are 20 clusters with 4 cameras\u001b[0m\n",
      "\u001b[34mThere are 21 clusters with 5 cameras\u001b[0m\n",
      "\u001b[34mThere are 11 clusters with 6 cameras\u001b[0m\n",
      "\u001b[34mThere are 8 clusters with 7 cameras\u001b[0m\n",
      "\u001b[34mThere are 2 clusters with 8 cameras\u001b[0m\n",
      "\u001b[34mThere are 4 clusters with 9 cameras\u001b[0m\n",
      "\u001b[34mThere are 4 clusters with 10 cameras\u001b[0m\n",
      "\u001b[34mThere are 4 clusters with 11 cameras\u001b[0m\n",
      "\u001b[34mThere are 3 clusters with 12 cameras\u001b[0m\n",
      "\u001b[34mThere are 5 clusters with 13 cameras\u001b[0m\n",
      "\u001b[34mThere are 2 clusters with 16 cameras\u001b[0m\n",
      "\u001b[34mThere are 2 clusters with 17 cameras\u001b[0m\n",
      "\u001b[34mThere are 2 clusters with 18 cameras\u001b[0m\n",
      "\u001b[34mThere are 1 clusters with 19 cameras\u001b[0m\n",
      "\u001b[34mThere are 4 clusters with 20 cameras\u001b[0m\n",
      "\u001b[34mThere are 3 clusters with 22 cameras\u001b[0m\n",
      "\u001b[34mThere are 1 clusters with 23 cameras\u001b[0m\n",
      "\u001b[34mThere are 1 clusters with 24 cameras\u001b[0m\n",
      "\u001b[34mThere are 1 clusters with 25 cameras\u001b[0m\n",
      "\u001b[34mThere are 1 clusters with 26 cameras\u001b[0m\n",
      "\u001b[34mThere are 3 clusters with 28 cameras\u001b[0m\n",
      "\u001b[34mThere are 1 clusters with 35 cameras\u001b[0m\n",
      "\u001b[34mThere are 1 clusters with 37 cameras\u001b[0m\n",
      "\u001b[34mThere are 1 clusters with 40 cameras\u001b[0m\n",
      "\u001b[34mThere are 1 clusters with 42 cameras\u001b[0m\n",
      "\u001b[34mThere are 1 clusters with 45 cameras\u001b[0m\n",
      "\u001b[34mThere are 1 clusters with 46 cameras\u001b[0m\n",
      "\u001b[34mThere are 1 clusters with 49 cameras\u001b[0m\n",
      "\u001b[34mThere are 1 clusters with 50 cameras\u001b[0m\n",
      "\u001b[34mThere are 1 clusters with 63 cameras\u001b[0m\n",
      "\u001b[34mThere are 2 clusters with 68 cameras\u001b[0m\n",
      "\u001b[34mThere are 1 clusters with 168 cameras\u001b[0m\n",
      "Number of classes: 115\n",
      "\u001b[36mLearning Rate: 0.000350\u001b[0m\n",
      "encontrou modelos efficientnet. Carregando...\n",
      "encontrou modelos convnext. Carregando...\n",
      "encontrou modelos mobilenet. Carregando...\n",
      "encontrou modelos vgg16. Carregando...\n",
      "encontrou modelos resnet50. Carregando...\n",
      "encontrou modelos osnet. Carregando...\n",
      "encontrou modelos densenet121. Carregando...\n",
      "###============ Iteration number 47/90 ============###\n",
      "Extracting Online Features for efficientnet ...\n",
      "Features extracted in 191.79 seconds\n",
      "Computing jaccard distance...\n"
     ]
    },
    {
     "name": "stderr",
     "output_type": "stream",
     "text": [
      "bruteForceKnn is deprecated; call bfKnn instead\n"
     ]
    },
    {
     "name": "stdout",
     "output_type": "stream",
     "text": [
      "Jaccard distance computing time cost: 91.8182098865509\n",
      "Extracting Online Features for convnext ...\n",
      "Features extracted in 193.34 seconds\n",
      "Computing jaccard distance...\n"
     ]
    },
    {
     "name": "stderr",
     "output_type": "stream",
     "text": [
      "bruteForceKnn is deprecated; call bfKnn instead\n"
     ]
    },
    {
     "name": "stdout",
     "output_type": "stream",
     "text": [
      "Jaccard distance computing time cost: 77.83530497550964\n",
      "Extracting Online Features for mobilenet ...\n",
      "Features extracted in 189.05 seconds\n",
      "Computing jaccard distance...\n"
     ]
    },
    {
     "name": "stderr",
     "output_type": "stream",
     "text": [
      "bruteForceKnn is deprecated; call bfKnn instead\n"
     ]
    },
    {
     "name": "stdout",
     "output_type": "stream",
     "text": [
      "Jaccard distance computing time cost: 69.22342658042908\n",
      "Extracting Online Features for vgg16 ...\n",
      "Features extracted in 189.28 seconds\n",
      "Computing jaccard distance...\n"
     ]
    },
    {
     "name": "stderr",
     "output_type": "stream",
     "text": [
      "bruteForceKnn is deprecated; call bfKnn instead\n"
     ]
    },
    {
     "name": "stdout",
     "output_type": "stream",
     "text": [
      "Jaccard distance computing time cost: 71.97256207466125\n",
      "Extracting Online Features for resnet50 ...\n",
      "Features extracted in 189.99 seconds\n",
      "Computing jaccard distance...\n"
     ]
    },
    {
     "name": "stderr",
     "output_type": "stream",
     "text": [
      "bruteForceKnn is deprecated; call bfKnn instead\n"
     ]
    },
    {
     "name": "stdout",
     "output_type": "stream",
     "text": [
      "Jaccard distance computing time cost: 69.43098878860474\n",
      "Extracting Online Features for osnet ...\n",
      "Features extracted in 189.66 seconds\n",
      "Computing jaccard distance...\n"
     ]
    },
    {
     "name": "stderr",
     "output_type": "stream",
     "text": [
      "bruteForceKnn is deprecated; call bfKnn instead\n"
     ]
    },
    {
     "name": "stdout",
     "output_type": "stream",
     "text": [
      "Jaccard distance computing time cost: 73.2407534122467\n",
      "Extracting Online Features for densenet121 ...\n",
      "Features extracted in 191.31 seconds\n",
      "Computing jaccard distance...\n"
     ]
    },
    {
     "name": "stderr",
     "output_type": "stream",
     "text": [
      "bruteForceKnn is deprecated; call bfKnn instead\n"
     ]
    },
    {
     "name": "stdout",
     "output_type": "stream",
     "text": [
      "Jaccard distance computing time cost: 72.38467311859131\n",
      "Reliability: 0.044\n",
      "\u001b[32mMean Purity: 0.02052\u001b[0m\n",
      "\u001b[34mThere are 20 clusters with 4 cameras\u001b[0m\n",
      "\u001b[34mThere are 21 clusters with 5 cameras\u001b[0m\n",
      "\u001b[34mThere are 11 clusters with 6 cameras\u001b[0m\n",
      "\u001b[34mThere are 8 clusters with 7 cameras\u001b[0m\n",
      "\u001b[34mThere are 2 clusters with 8 cameras\u001b[0m\n",
      "\u001b[34mThere are 4 clusters with 9 cameras\u001b[0m\n",
      "\u001b[34mThere are 4 clusters with 10 cameras\u001b[0m\n",
      "\u001b[34mThere are 4 clusters with 11 cameras\u001b[0m\n",
      "\u001b[34mThere are 3 clusters with 12 cameras\u001b[0m\n",
      "\u001b[34mThere are 5 clusters with 13 cameras\u001b[0m\n",
      "\u001b[34mThere are 2 clusters with 16 cameras\u001b[0m\n",
      "\u001b[34mThere are 2 clusters with 17 cameras\u001b[0m\n",
      "\u001b[34mThere are 2 clusters with 18 cameras\u001b[0m\n",
      "\u001b[34mThere are 1 clusters with 19 cameras\u001b[0m\n",
      "\u001b[34mThere are 4 clusters with 20 cameras\u001b[0m\n",
      "\u001b[34mThere are 3 clusters with 22 cameras\u001b[0m\n",
      "\u001b[34mThere are 1 clusters with 23 cameras\u001b[0m\n",
      "\u001b[34mThere are 1 clusters with 24 cameras\u001b[0m\n",
      "\u001b[34mThere are 1 clusters with 25 cameras\u001b[0m\n",
      "\u001b[34mThere are 1 clusters with 26 cameras\u001b[0m\n",
      "\u001b[34mThere are 3 clusters with 28 cameras\u001b[0m\n",
      "\u001b[34mThere are 1 clusters with 35 cameras\u001b[0m\n",
      "\u001b[34mThere are 1 clusters with 37 cameras\u001b[0m\n",
      "\u001b[34mThere are 1 clusters with 40 cameras\u001b[0m\n",
      "\u001b[34mThere are 1 clusters with 42 cameras\u001b[0m\n",
      "\u001b[34mThere are 1 clusters with 45 cameras\u001b[0m\n",
      "\u001b[34mThere are 1 clusters with 46 cameras\u001b[0m\n",
      "\u001b[34mThere are 1 clusters with 49 cameras\u001b[0m\n",
      "\u001b[34mThere are 1 clusters with 50 cameras\u001b[0m\n",
      "\u001b[34mThere are 1 clusters with 63 cameras\u001b[0m\n",
      "\u001b[34mThere are 2 clusters with 68 cameras\u001b[0m\n",
      "\u001b[34mThere are 1 clusters with 168 cameras\u001b[0m\n",
      "Number of classes: 115\n",
      "\u001b[36mLearning Rate: 0.000350\u001b[0m\n",
      "encontrou modelos efficientnet. Carregando...\n",
      "encontrou modelos convnext. Carregando...\n",
      "encontrou modelos mobilenet. Carregando...\n",
      "encontrou modelos vgg16. Carregando...\n",
      "encontrou modelos resnet50. Carregando...\n",
      "encontrou modelos osnet. Carregando...\n",
      "encontrou modelos densenet121. Carregando...\n",
      "###============ Iteration number 48/90 ============###\n",
      "Extracting Online Features for efficientnet ...\n",
      "Features extracted in 188.90 seconds\n",
      "Computing jaccard distance...\n"
     ]
    },
    {
     "name": "stderr",
     "output_type": "stream",
     "text": [
      "bruteForceKnn is deprecated; call bfKnn instead\n"
     ]
    },
    {
     "name": "stdout",
     "output_type": "stream",
     "text": [
      "Jaccard distance computing time cost: 77.99276852607727\n",
      "Extracting Online Features for convnext ...\n",
      "Features extracted in 191.92 seconds\n",
      "Computing jaccard distance...\n"
     ]
    },
    {
     "name": "stderr",
     "output_type": "stream",
     "text": [
      "bruteForceKnn is deprecated; call bfKnn instead\n"
     ]
    },
    {
     "name": "stdout",
     "output_type": "stream",
     "text": [
      "Jaccard distance computing time cost: 72.22039198875427\n",
      "Extracting Online Features for mobilenet ...\n",
      "Features extracted in 190.78 seconds\n",
      "Computing jaccard distance...\n"
     ]
    },
    {
     "name": "stderr",
     "output_type": "stream",
     "text": [
      "bruteForceKnn is deprecated; call bfKnn instead\n"
     ]
    },
    {
     "name": "stdout",
     "output_type": "stream",
     "text": [
      "Jaccard distance computing time cost: 79.07547664642334\n",
      "Extracting Online Features for vgg16 ...\n",
      "Features extracted in 187.20 seconds\n",
      "Computing jaccard distance...\n"
     ]
    },
    {
     "name": "stderr",
     "output_type": "stream",
     "text": [
      "bruteForceKnn is deprecated; call bfKnn instead\n"
     ]
    },
    {
     "name": "stdout",
     "output_type": "stream",
     "text": [
      "Jaccard distance computing time cost: 72.05868196487427\n",
      "Extracting Online Features for resnet50 ...\n",
      "Features extracted in 188.38 seconds\n",
      "Computing jaccard distance...\n"
     ]
    },
    {
     "name": "stderr",
     "output_type": "stream",
     "text": [
      "bruteForceKnn is deprecated; call bfKnn instead\n"
     ]
    },
    {
     "name": "stdout",
     "output_type": "stream",
     "text": [
      "Jaccard distance computing time cost: 68.40566039085388\n",
      "Extracting Online Features for osnet ...\n",
      "Features extracted in 190.43 seconds\n",
      "Computing jaccard distance...\n"
     ]
    },
    {
     "name": "stderr",
     "output_type": "stream",
     "text": [
      "bruteForceKnn is deprecated; call bfKnn instead\n"
     ]
    },
    {
     "name": "stdout",
     "output_type": "stream",
     "text": [
      "Jaccard distance computing time cost: 70.57777070999146\n",
      "Extracting Online Features for densenet121 ...\n",
      "Features extracted in 187.24 seconds\n",
      "Computing jaccard distance...\n"
     ]
    },
    {
     "name": "stderr",
     "output_type": "stream",
     "text": [
      "bruteForceKnn is deprecated; call bfKnn instead\n"
     ]
    },
    {
     "name": "stdout",
     "output_type": "stream",
     "text": [
      "Jaccard distance computing time cost: 71.71757674217224\n",
      "Reliability: 0.044\n",
      "\u001b[32mMean Purity: 0.02052\u001b[0m\n",
      "\u001b[34mThere are 20 clusters with 4 cameras\u001b[0m\n",
      "\u001b[34mThere are 21 clusters with 5 cameras\u001b[0m\n",
      "\u001b[34mThere are 11 clusters with 6 cameras\u001b[0m\n",
      "\u001b[34mThere are 8 clusters with 7 cameras\u001b[0m\n",
      "\u001b[34mThere are 2 clusters with 8 cameras\u001b[0m\n",
      "\u001b[34mThere are 4 clusters with 9 cameras\u001b[0m\n",
      "\u001b[34mThere are 4 clusters with 10 cameras\u001b[0m\n",
      "\u001b[34mThere are 4 clusters with 11 cameras\u001b[0m\n",
      "\u001b[34mThere are 3 clusters with 12 cameras\u001b[0m\n",
      "\u001b[34mThere are 5 clusters with 13 cameras\u001b[0m\n",
      "\u001b[34mThere are 2 clusters with 16 cameras\u001b[0m\n",
      "\u001b[34mThere are 2 clusters with 17 cameras\u001b[0m\n",
      "\u001b[34mThere are 2 clusters with 18 cameras\u001b[0m\n",
      "\u001b[34mThere are 1 clusters with 19 cameras\u001b[0m\n",
      "\u001b[34mThere are 4 clusters with 20 cameras\u001b[0m\n",
      "\u001b[34mThere are 3 clusters with 22 cameras\u001b[0m\n",
      "\u001b[34mThere are 1 clusters with 23 cameras\u001b[0m\n",
      "\u001b[34mThere are 1 clusters with 24 cameras\u001b[0m\n",
      "\u001b[34mThere are 1 clusters with 25 cameras\u001b[0m\n",
      "\u001b[34mThere are 1 clusters with 26 cameras\u001b[0m\n",
      "\u001b[34mThere are 3 clusters with 28 cameras\u001b[0m\n",
      "\u001b[34mThere are 1 clusters with 35 cameras\u001b[0m\n",
      "\u001b[34mThere are 1 clusters with 37 cameras\u001b[0m\n",
      "\u001b[34mThere are 1 clusters with 40 cameras\u001b[0m\n",
      "\u001b[34mThere are 1 clusters with 42 cameras\u001b[0m\n",
      "\u001b[34mThere are 1 clusters with 45 cameras\u001b[0m\n",
      "\u001b[34mThere are 1 clusters with 46 cameras\u001b[0m\n",
      "\u001b[34mThere are 1 clusters with 49 cameras\u001b[0m\n",
      "\u001b[34mThere are 1 clusters with 50 cameras\u001b[0m\n",
      "\u001b[34mThere are 1 clusters with 63 cameras\u001b[0m\n",
      "\u001b[34mThere are 2 clusters with 68 cameras\u001b[0m\n",
      "\u001b[34mThere are 1 clusters with 168 cameras\u001b[0m\n",
      "Number of classes: 115\n",
      "\u001b[36mLearning Rate: 0.000350\u001b[0m\n",
      "encontrou modelos efficientnet. Carregando...\n",
      "encontrou modelos convnext. Carregando...\n",
      "encontrou modelos mobilenet. Carregando...\n",
      "encontrou modelos vgg16. Carregando...\n",
      "encontrou modelos resnet50. Carregando...\n",
      "encontrou modelos osnet. Carregando...\n",
      "encontrou modelos densenet121. Carregando...\n",
      "###============ Iteration number 49/90 ============###\n",
      "Extracting Online Features for efficientnet ...\n",
      "Features extracted in 187.68 seconds\n",
      "Computing jaccard distance...\n"
     ]
    },
    {
     "name": "stderr",
     "output_type": "stream",
     "text": [
      "bruteForceKnn is deprecated; call bfKnn instead\n"
     ]
    },
    {
     "name": "stdout",
     "output_type": "stream",
     "text": [
      "Jaccard distance computing time cost: 78.7221462726593\n",
      "Extracting Online Features for convnext ...\n",
      "Features extracted in 190.52 seconds\n",
      "Computing jaccard distance...\n"
     ]
    },
    {
     "name": "stderr",
     "output_type": "stream",
     "text": [
      "bruteForceKnn is deprecated; call bfKnn instead\n"
     ]
    },
    {
     "name": "stdout",
     "output_type": "stream",
     "text": [
      "Jaccard distance computing time cost: 71.24655413627625\n",
      "Extracting Online Features for mobilenet ...\n",
      "Features extracted in 191.93 seconds\n",
      "Computing jaccard distance...\n"
     ]
    },
    {
     "name": "stderr",
     "output_type": "stream",
     "text": [
      "bruteForceKnn is deprecated; call bfKnn instead\n"
     ]
    },
    {
     "name": "stdout",
     "output_type": "stream",
     "text": [
      "Jaccard distance computing time cost: 71.50634574890137\n",
      "Extracting Online Features for vgg16 ...\n",
      "Features extracted in 191.84 seconds\n",
      "Computing jaccard distance...\n"
     ]
    },
    {
     "name": "stderr",
     "output_type": "stream",
     "text": [
      "bruteForceKnn is deprecated; call bfKnn instead\n"
     ]
    },
    {
     "name": "stdout",
     "output_type": "stream",
     "text": [
      "Jaccard distance computing time cost: 72.10719132423401\n",
      "Extracting Online Features for resnet50 ...\n",
      "Features extracted in 189.20 seconds\n",
      "Computing jaccard distance...\n"
     ]
    },
    {
     "name": "stderr",
     "output_type": "stream",
     "text": [
      "bruteForceKnn is deprecated; call bfKnn instead\n"
     ]
    },
    {
     "name": "stdout",
     "output_type": "stream",
     "text": [
      "Jaccard distance computing time cost: 68.27351093292236\n",
      "Extracting Online Features for osnet ...\n",
      "Features extracted in 188.87 seconds\n",
      "Computing jaccard distance...\n"
     ]
    },
    {
     "name": "stderr",
     "output_type": "stream",
     "text": [
      "bruteForceKnn is deprecated; call bfKnn instead\n"
     ]
    },
    {
     "name": "stdout",
     "output_type": "stream",
     "text": [
      "Jaccard distance computing time cost: 70.27260184288025\n",
      "Extracting Online Features for densenet121 ...\n",
      "Features extracted in 188.74 seconds\n",
      "Computing jaccard distance...\n"
     ]
    },
    {
     "name": "stderr",
     "output_type": "stream",
     "text": [
      "bruteForceKnn is deprecated; call bfKnn instead\n"
     ]
    },
    {
     "name": "stdout",
     "output_type": "stream",
     "text": [
      "Jaccard distance computing time cost: 72.02164793014526\n",
      "Reliability: 0.044\n",
      "\u001b[32mMean Purity: 0.02052\u001b[0m\n",
      "\u001b[34mThere are 20 clusters with 4 cameras\u001b[0m\n",
      "\u001b[34mThere are 21 clusters with 5 cameras\u001b[0m\n",
      "\u001b[34mThere are 11 clusters with 6 cameras\u001b[0m\n",
      "\u001b[34mThere are 8 clusters with 7 cameras\u001b[0m\n",
      "\u001b[34mThere are 2 clusters with 8 cameras\u001b[0m\n",
      "\u001b[34mThere are 4 clusters with 9 cameras\u001b[0m\n",
      "\u001b[34mThere are 4 clusters with 10 cameras\u001b[0m\n",
      "\u001b[34mThere are 4 clusters with 11 cameras\u001b[0m\n",
      "\u001b[34mThere are 3 clusters with 12 cameras\u001b[0m\n",
      "\u001b[34mThere are 5 clusters with 13 cameras\u001b[0m\n",
      "\u001b[34mThere are 2 clusters with 16 cameras\u001b[0m\n",
      "\u001b[34mThere are 2 clusters with 17 cameras\u001b[0m\n",
      "\u001b[34mThere are 2 clusters with 18 cameras\u001b[0m\n",
      "\u001b[34mThere are 1 clusters with 19 cameras\u001b[0m\n",
      "\u001b[34mThere are 4 clusters with 20 cameras\u001b[0m\n",
      "\u001b[34mThere are 3 clusters with 22 cameras\u001b[0m\n",
      "\u001b[34mThere are 1 clusters with 23 cameras\u001b[0m\n",
      "\u001b[34mThere are 1 clusters with 24 cameras\u001b[0m\n",
      "\u001b[34mThere are 1 clusters with 25 cameras\u001b[0m\n",
      "\u001b[34mThere are 1 clusters with 26 cameras\u001b[0m\n",
      "\u001b[34mThere are 3 clusters with 28 cameras\u001b[0m\n",
      "\u001b[34mThere are 1 clusters with 35 cameras\u001b[0m\n",
      "\u001b[34mThere are 1 clusters with 37 cameras\u001b[0m\n",
      "\u001b[34mThere are 1 clusters with 40 cameras\u001b[0m\n",
      "\u001b[34mThere are 1 clusters with 42 cameras\u001b[0m\n",
      "\u001b[34mThere are 1 clusters with 45 cameras\u001b[0m\n",
      "\u001b[34mThere are 1 clusters with 46 cameras\u001b[0m\n",
      "\u001b[34mThere are 1 clusters with 49 cameras\u001b[0m\n",
      "\u001b[34mThere are 1 clusters with 50 cameras\u001b[0m\n",
      "\u001b[34mThere are 1 clusters with 63 cameras\u001b[0m\n",
      "\u001b[34mThere are 2 clusters with 68 cameras\u001b[0m\n",
      "\u001b[34mThere are 1 clusters with 168 cameras\u001b[0m\n",
      "Number of classes: 115\n",
      "\u001b[36mLearning Rate: 0.000350\u001b[0m\n",
      "encontrou modelos efficientnet. Carregando...\n",
      "encontrou modelos convnext. Carregando...\n",
      "encontrou modelos mobilenet. Carregando...\n",
      "encontrou modelos vgg16. Carregando...\n",
      "encontrou modelos resnet50. Carregando...\n",
      "encontrou modelos osnet. Carregando...\n",
      "encontrou modelos densenet121. Carregando...\n",
      "###============ Iteration number 50/90 ============###\n",
      "Extracting Online Features for efficientnet ...\n",
      "Features extracted in 187.12 seconds\n",
      "Computing jaccard distance...\n"
     ]
    },
    {
     "name": "stderr",
     "output_type": "stream",
     "text": [
      "bruteForceKnn is deprecated; call bfKnn instead\n"
     ]
    },
    {
     "name": "stdout",
     "output_type": "stream",
     "text": [
      "Jaccard distance computing time cost: 78.78720760345459\n",
      "Extracting Online Features for convnext ...\n",
      "Features extracted in 188.96 seconds\n",
      "Computing jaccard distance...\n"
     ]
    },
    {
     "name": "stderr",
     "output_type": "stream",
     "text": [
      "bruteForceKnn is deprecated; call bfKnn instead\n"
     ]
    },
    {
     "name": "stdout",
     "output_type": "stream",
     "text": [
      "Jaccard distance computing time cost: 73.12835717201233\n",
      "Extracting Online Features for mobilenet ...\n",
      "Features extracted in 187.48 seconds\n",
      "Computing jaccard distance...\n"
     ]
    },
    {
     "name": "stderr",
     "output_type": "stream",
     "text": [
      "bruteForceKnn is deprecated; call bfKnn instead\n"
     ]
    },
    {
     "name": "stdout",
     "output_type": "stream",
     "text": [
      "Jaccard distance computing time cost: 80.30126190185547\n",
      "Extracting Online Features for vgg16 ...\n",
      "Features extracted in 188.17 seconds\n",
      "Computing jaccard distance...\n"
     ]
    },
    {
     "name": "stderr",
     "output_type": "stream",
     "text": [
      "bruteForceKnn is deprecated; call bfKnn instead\n"
     ]
    },
    {
     "name": "stdout",
     "output_type": "stream",
     "text": [
      "Jaccard distance computing time cost: 69.3906900882721\n",
      "Extracting Online Features for resnet50 ...\n",
      "Features extracted in 192.15 seconds\n",
      "Computing jaccard distance...\n"
     ]
    },
    {
     "name": "stderr",
     "output_type": "stream",
     "text": [
      "bruteForceKnn is deprecated; call bfKnn instead\n"
     ]
    },
    {
     "name": "stdout",
     "output_type": "stream",
     "text": [
      "Jaccard distance computing time cost: 70.98641610145569\n",
      "Extracting Online Features for osnet ...\n",
      "Features extracted in 190.87 seconds\n",
      "Computing jaccard distance...\n"
     ]
    },
    {
     "name": "stderr",
     "output_type": "stream",
     "text": [
      "bruteForceKnn is deprecated; call bfKnn instead\n"
     ]
    },
    {
     "name": "stdout",
     "output_type": "stream",
     "text": [
      "Jaccard distance computing time cost: 71.37783288955688\n",
      "Extracting Online Features for densenet121 ...\n",
      "Features extracted in 189.89 seconds\n",
      "Computing jaccard distance...\n"
     ]
    },
    {
     "name": "stderr",
     "output_type": "stream",
     "text": [
      "bruteForceKnn is deprecated; call bfKnn instead\n"
     ]
    },
    {
     "name": "stdout",
     "output_type": "stream",
     "text": [
      "Jaccard distance computing time cost: 70.91855549812317\n",
      "Reliability: 0.044\n",
      "\u001b[32mMean Purity: 0.02052\u001b[0m\n",
      "\u001b[34mThere are 20 clusters with 4 cameras\u001b[0m\n",
      "\u001b[34mThere are 21 clusters with 5 cameras\u001b[0m\n",
      "\u001b[34mThere are 11 clusters with 6 cameras\u001b[0m\n",
      "\u001b[34mThere are 8 clusters with 7 cameras\u001b[0m\n",
      "\u001b[34mThere are 2 clusters with 8 cameras\u001b[0m\n",
      "\u001b[34mThere are 4 clusters with 9 cameras\u001b[0m\n",
      "\u001b[34mThere are 4 clusters with 10 cameras\u001b[0m\n",
      "\u001b[34mThere are 4 clusters with 11 cameras\u001b[0m\n",
      "\u001b[34mThere are 3 clusters with 12 cameras\u001b[0m\n",
      "\u001b[34mThere are 5 clusters with 13 cameras\u001b[0m\n",
      "\u001b[34mThere are 2 clusters with 16 cameras\u001b[0m\n",
      "\u001b[34mThere are 2 clusters with 17 cameras\u001b[0m\n",
      "\u001b[34mThere are 2 clusters with 18 cameras\u001b[0m\n",
      "\u001b[34mThere are 1 clusters with 19 cameras\u001b[0m\n",
      "\u001b[34mThere are 4 clusters with 20 cameras\u001b[0m\n",
      "\u001b[34mThere are 3 clusters with 22 cameras\u001b[0m\n",
      "\u001b[34mThere are 1 clusters with 23 cameras\u001b[0m\n",
      "\u001b[34mThere are 1 clusters with 24 cameras\u001b[0m\n",
      "\u001b[34mThere are 1 clusters with 25 cameras\u001b[0m\n",
      "\u001b[34mThere are 1 clusters with 26 cameras\u001b[0m\n",
      "\u001b[34mThere are 3 clusters with 28 cameras\u001b[0m\n",
      "\u001b[34mThere are 1 clusters with 35 cameras\u001b[0m\n",
      "\u001b[34mThere are 1 clusters with 37 cameras\u001b[0m\n",
      "\u001b[34mThere are 1 clusters with 40 cameras\u001b[0m\n",
      "\u001b[34mThere are 1 clusters with 42 cameras\u001b[0m\n",
      "\u001b[34mThere are 1 clusters with 45 cameras\u001b[0m\n",
      "\u001b[34mThere are 1 clusters with 46 cameras\u001b[0m\n",
      "\u001b[34mThere are 1 clusters with 49 cameras\u001b[0m\n",
      "\u001b[34mThere are 1 clusters with 50 cameras\u001b[0m\n",
      "\u001b[34mThere are 1 clusters with 63 cameras\u001b[0m\n",
      "\u001b[34mThere are 2 clusters with 68 cameras\u001b[0m\n",
      "\u001b[34mThere are 1 clusters with 168 cameras\u001b[0m\n",
      "Number of classes: 115\n",
      "\u001b[36mLearning Rate: 0.000350\u001b[0m\n",
      "encontrou modelos efficientnet. Carregando...\n",
      "encontrou modelos convnext. Carregando...\n",
      "encontrou modelos mobilenet. Carregando...\n",
      "encontrou modelos vgg16. Carregando...\n",
      "encontrou modelos resnet50. Carregando...\n",
      "encontrou modelos osnet. Carregando...\n",
      "encontrou modelos densenet121. Carregando...\n",
      "\u001b[33mValidating online efficientnet ...\u001b[0m\n",
      "Features extracted in 60.46 seconds\n",
      "Features extracted in 115.58 seconds\n",
      "Computing CMC and mAP ...\n",
      "** Results **\n",
      "mAP: 66.96%\n",
      "CMC curve\n",
      "Rank-1  : 49.76%\n",
      "Rank-5  : 88.29%\n",
      "Rank-10 : 96.33%\n",
      "Rank-20 : 99.32%\n",
      "\u001b[33mValidating momentum efficientnet ...\u001b[0m\n",
      "Features extracted in 58.64 seconds\n",
      "Features extracted in 114.99 seconds\n",
      "Computing CMC and mAP ...\n",
      "** Results **\n",
      "mAP: 66.33%\n",
      "CMC curve\n",
      "Rank-1  : 47.72%\n",
      "Rank-5  : 83.15%\n",
      "Rank-10 : 91.82%\n",
      "Rank-20 : 96.73%\n",
      "\u001b[33mValidating online convnext ...\u001b[0m\n",
      "Features extracted in 59.96 seconds\n",
      "Features extracted in 117.59 seconds\n",
      "Computing CMC and mAP ...\n",
      "** Results **\n",
      "mAP: 65.77%\n",
      "CMC curve\n",
      "Rank-1  : 46.59%\n",
      "Rank-5  : 75.46%\n",
      "Rank-10 : 86.74%\n",
      "Rank-20 : 94.66%\n",
      "\u001b[33mValidating momentum convnext ...\u001b[0m\n",
      "Features extracted in 59.03 seconds\n",
      "Features extracted in 116.09 seconds\n",
      "Computing CMC and mAP ...\n",
      "** Results **\n",
      "mAP: 64.96%\n",
      "CMC curve\n",
      "Rank-1  : 45.63%\n",
      "Rank-5  : 75.04%\n",
      "Rank-10 : 87.30%\n",
      "Rank-20 : 95.01%\n",
      "\u001b[33mValidating online mobilenet ...\u001b[0m\n",
      "Features extracted in 58.80 seconds\n",
      "Features extracted in 117.67 seconds\n",
      "Computing CMC and mAP ...\n",
      "** Results **\n",
      "mAP: 66.23%\n",
      "CMC curve\n",
      "Rank-1  : 51.24%\n",
      "Rank-5  : 86.31%\n",
      "Rank-10 : 94.85%\n",
      "Rank-20 : 99.15%\n",
      "\u001b[33mValidating momentum mobilenet ...\u001b[0m\n",
      "Features extracted in 58.47 seconds\n",
      "Features extracted in 114.89 seconds\n",
      "Computing CMC and mAP ...\n",
      "** Results **\n",
      "mAP: 66.41%\n",
      "CMC curve\n",
      "Rank-1  : 52.73%\n",
      "Rank-5  : 85.40%\n",
      "Rank-10 : 93.79%\n",
      "Rank-20 : 98.57%\n",
      "\u001b[33mValidating online vgg16 ...\u001b[0m\n",
      "Features extracted in 59.62 seconds\n",
      "Features extracted in 116.18 seconds\n",
      "Computing CMC and mAP ...\n",
      "** Results **\n",
      "mAP: 65.47%\n",
      "CMC curve\n",
      "Rank-1  : 43.56%\n",
      "Rank-5  : 75.41%\n",
      "Rank-10 : 85.98%\n",
      "Rank-20 : 92.95%\n",
      "\u001b[33mValidating momentum vgg16 ...\u001b[0m\n",
      "Features extracted in 59.37 seconds\n",
      "Features extracted in 115.91 seconds\n",
      "Computing CMC and mAP ...\n",
      "** Results **\n",
      "mAP: 65.67%\n",
      "CMC curve\n",
      "Rank-1  : 45.75%\n",
      "Rank-5  : 82.00%\n",
      "Rank-10 : 90.62%\n",
      "Rank-20 : 96.36%\n",
      "\u001b[33mValidating online resnet50 ...\u001b[0m\n",
      "Features extracted in 58.70 seconds\n",
      "Features extracted in 116.81 seconds\n",
      "Computing CMC and mAP ...\n",
      "** Results **\n",
      "mAP: 65.64%\n",
      "CMC curve\n",
      "Rank-1  : 44.24%\n",
      "Rank-5  : 67.84%\n",
      "Rank-10 : 75.44%\n",
      "Rank-20 : 82.42%\n",
      "\u001b[33mValidating momentum resnet50 ...\u001b[0m\n",
      "Features extracted in 60.36 seconds\n",
      "Features extracted in 116.31 seconds\n",
      "Computing CMC and mAP ...\n",
      "** Results **\n",
      "mAP: 64.94%\n",
      "CMC curve\n",
      "Rank-1  : 43.33%\n",
      "Rank-5  : 71.52%\n",
      "Rank-10 : 80.95%\n",
      "Rank-20 : 90.36%\n",
      "\u001b[33mValidating online osnet ...\u001b[0m\n",
      "Features extracted in 60.34 seconds\n",
      "Features extracted in 116.40 seconds\n",
      "Computing CMC and mAP ...\n",
      "** Results **\n",
      "mAP: 66.87%\n",
      "CMC curve\n",
      "Rank-1  : 48.11%\n",
      "Rank-5  : 84.70%\n",
      "Rank-10 : 95.19%\n",
      "Rank-20 : 99.23%\n",
      "\u001b[33mValidating momentum osnet ...\u001b[0m\n",
      "Features extracted in 60.08 seconds\n",
      "Features extracted in 118.23 seconds\n",
      "Computing CMC and mAP ...\n",
      "** Results **\n",
      "mAP: 67.06%\n",
      "CMC curve\n",
      "Rank-1  : 51.39%\n",
      "Rank-5  : 86.67%\n",
      "Rank-10 : 94.96%\n",
      "Rank-20 : 98.71%\n",
      "\u001b[33mValidating online densenet121 ...\u001b[0m\n",
      "Features extracted in 60.27 seconds\n",
      "Features extracted in 118.21 seconds\n",
      "Computing CMC and mAP ...\n",
      "** Results **\n",
      "mAP: 65.34%\n",
      "CMC curve\n",
      "Rank-1  : 45.42%\n",
      "Rank-5  : 74.47%\n",
      "Rank-10 : 84.90%\n",
      "Rank-20 : 93.93%\n",
      "\u001b[33mValidating momentum densenet121 ...\u001b[0m\n",
      "Features extracted in 61.02 seconds\n",
      "Features extracted in 119.44 seconds\n",
      "Computing CMC and mAP ...\n",
      "** Results **\n",
      "mAP: 65.71%\n",
      "CMC curve\n",
      "Rank-1  : 46.36%\n",
      "Rank-5  : 79.22%\n",
      "Rank-10 : 88.80%\n",
      "Rank-20 : 95.19%\n",
      "\u001b[33mValidating ensembled with online models ...\u001b[0m\n",
      "Computing CMC and mAP ...\n",
      "** Results **\n",
      "mAP: 65.61%\n",
      "Ranks:\n",
      "Rank-1  : 45.50%\n",
      "Rank-5  : 70.24%\n",
      "Rank-10 : 79.04%\n",
      "\u001b[33mValidating ensembled with momentum models ...\u001b[0m\n",
      "Computing CMC and mAP ...\n",
      "** Results **\n",
      "mAP: 65.36%\n",
      "Ranks:\n",
      "Rank-1  : 43.96%\n",
      "Rank-5  : 75.79%\n",
      "Rank-10 : 85.67%\n",
      "###============ Iteration number 51/90 ============###\n",
      "Extracting Online Features for efficientnet ...\n",
      "Features extracted in 191.59 seconds\n",
      "Computing jaccard distance...\n"
     ]
    },
    {
     "name": "stderr",
     "output_type": "stream",
     "text": [
      "bruteForceKnn is deprecated; call bfKnn instead\n"
     ]
    },
    {
     "name": "stdout",
     "output_type": "stream",
     "text": [
      "Jaccard distance computing time cost: 77.3092954158783\n",
      "Extracting Online Features for convnext ...\n",
      "Features extracted in 194.03 seconds\n",
      "Computing jaccard distance...\n"
     ]
    },
    {
     "name": "stderr",
     "output_type": "stream",
     "text": [
      "bruteForceKnn is deprecated; call bfKnn instead\n"
     ]
    },
    {
     "name": "stdout",
     "output_type": "stream",
     "text": [
      "Jaccard distance computing time cost: 72.98741793632507\n",
      "Extracting Online Features for mobilenet ...\n",
      "Features extracted in 185.51 seconds\n",
      "Computing jaccard distance...\n"
     ]
    },
    {
     "name": "stderr",
     "output_type": "stream",
     "text": [
      "bruteForceKnn is deprecated; call bfKnn instead\n"
     ]
    },
    {
     "name": "stdout",
     "output_type": "stream",
     "text": [
      "Jaccard distance computing time cost: 79.28410172462463\n",
      "Extracting Online Features for vgg16 ...\n",
      "Features extracted in 190.49 seconds\n",
      "Computing jaccard distance...\n"
     ]
    },
    {
     "name": "stderr",
     "output_type": "stream",
     "text": [
      "bruteForceKnn is deprecated; call bfKnn instead\n"
     ]
    },
    {
     "name": "stdout",
     "output_type": "stream",
     "text": [
      "Jaccard distance computing time cost: 75.75664448738098\n",
      "Extracting Online Features for resnet50 ...\n",
      "Features extracted in 191.68 seconds\n",
      "Computing jaccard distance...\n"
     ]
    },
    {
     "name": "stderr",
     "output_type": "stream",
     "text": [
      "bruteForceKnn is deprecated; call bfKnn instead\n"
     ]
    },
    {
     "name": "stdout",
     "output_type": "stream",
     "text": [
      "Jaccard distance computing time cost: 77.94832921028137\n",
      "Extracting Online Features for osnet ...\n",
      "Features extracted in 187.70 seconds\n",
      "Computing jaccard distance...\n"
     ]
    },
    {
     "name": "stderr",
     "output_type": "stream",
     "text": [
      "bruteForceKnn is deprecated; call bfKnn instead\n"
     ]
    },
    {
     "name": "stdout",
     "output_type": "stream",
     "text": [
      "Jaccard distance computing time cost: 70.90316987037659\n",
      "Extracting Online Features for densenet121 ...\n",
      "Features extracted in 190.17 seconds\n",
      "Computing jaccard distance...\n"
     ]
    },
    {
     "name": "stderr",
     "output_type": "stream",
     "text": [
      "bruteForceKnn is deprecated; call bfKnn instead\n"
     ]
    },
    {
     "name": "stdout",
     "output_type": "stream",
     "text": [
      "Jaccard distance computing time cost: 72.93081617355347\n",
      "Reliability: 0.044\n",
      "\u001b[32mMean Purity: 0.02052\u001b[0m\n",
      "\u001b[34mThere are 20 clusters with 4 cameras\u001b[0m\n",
      "\u001b[34mThere are 21 clusters with 5 cameras\u001b[0m\n",
      "\u001b[34mThere are 11 clusters with 6 cameras\u001b[0m\n",
      "\u001b[34mThere are 8 clusters with 7 cameras\u001b[0m\n",
      "\u001b[34mThere are 2 clusters with 8 cameras\u001b[0m\n",
      "\u001b[34mThere are 4 clusters with 9 cameras\u001b[0m\n",
      "\u001b[34mThere are 4 clusters with 10 cameras\u001b[0m\n",
      "\u001b[34mThere are 4 clusters with 11 cameras\u001b[0m\n",
      "\u001b[34mThere are 3 clusters with 12 cameras\u001b[0m\n",
      "\u001b[34mThere are 5 clusters with 13 cameras\u001b[0m\n",
      "\u001b[34mThere are 2 clusters with 16 cameras\u001b[0m\n",
      "\u001b[34mThere are 2 clusters with 17 cameras\u001b[0m\n",
      "\u001b[34mThere are 2 clusters with 18 cameras\u001b[0m\n",
      "\u001b[34mThere are 1 clusters with 19 cameras\u001b[0m\n",
      "\u001b[34mThere are 4 clusters with 20 cameras\u001b[0m\n",
      "\u001b[34mThere are 3 clusters with 22 cameras\u001b[0m\n",
      "\u001b[34mThere are 1 clusters with 23 cameras\u001b[0m\n",
      "\u001b[34mThere are 1 clusters with 24 cameras\u001b[0m\n",
      "\u001b[34mThere are 1 clusters with 25 cameras\u001b[0m\n",
      "\u001b[34mThere are 1 clusters with 26 cameras\u001b[0m\n",
      "\u001b[34mThere are 3 clusters with 28 cameras\u001b[0m\n",
      "\u001b[34mThere are 1 clusters with 35 cameras\u001b[0m\n",
      "\u001b[34mThere are 1 clusters with 37 cameras\u001b[0m\n",
      "\u001b[34mThere are 1 clusters with 40 cameras\u001b[0m\n",
      "\u001b[34mThere are 1 clusters with 42 cameras\u001b[0m\n",
      "\u001b[34mThere are 1 clusters with 45 cameras\u001b[0m\n",
      "\u001b[34mThere are 1 clusters with 46 cameras\u001b[0m\n",
      "\u001b[34mThere are 1 clusters with 49 cameras\u001b[0m\n",
      "\u001b[34mThere are 1 clusters with 50 cameras\u001b[0m\n",
      "\u001b[34mThere are 1 clusters with 63 cameras\u001b[0m\n",
      "\u001b[34mThere are 2 clusters with 68 cameras\u001b[0m\n",
      "\u001b[34mThere are 1 clusters with 168 cameras\u001b[0m\n",
      "Number of classes: 115\n",
      "\u001b[36mLearning Rate: 0.000350\u001b[0m\n",
      "encontrou modelos efficientnet. Carregando...\n",
      "encontrou modelos convnext. Carregando...\n",
      "encontrou modelos mobilenet. Carregando...\n",
      "encontrou modelos vgg16. Carregando...\n",
      "encontrou modelos resnet50. Carregando...\n",
      "encontrou modelos osnet. Carregando...\n",
      "encontrou modelos densenet121. Carregando...\n",
      "###============ Iteration number 52/90 ============###\n",
      "Extracting Online Features for efficientnet ...\n",
      "Features extracted in 190.65 seconds\n",
      "Computing jaccard distance...\n"
     ]
    },
    {
     "name": "stderr",
     "output_type": "stream",
     "text": [
      "bruteForceKnn is deprecated; call bfKnn instead\n"
     ]
    },
    {
     "name": "stdout",
     "output_type": "stream",
     "text": [
      "Jaccard distance computing time cost: 82.01581478118896\n",
      "Extracting Online Features for convnext ...\n",
      "Features extracted in 192.82 seconds\n",
      "Computing jaccard distance...\n"
     ]
    },
    {
     "name": "stderr",
     "output_type": "stream",
     "text": [
      "bruteForceKnn is deprecated; call bfKnn instead\n"
     ]
    },
    {
     "name": "stdout",
     "output_type": "stream",
     "text": [
      "Jaccard distance computing time cost: 74.18336653709412\n",
      "Extracting Online Features for mobilenet ...\n",
      "Features extracted in 187.91 seconds\n",
      "Computing jaccard distance...\n"
     ]
    },
    {
     "name": "stderr",
     "output_type": "stream",
     "text": [
      "bruteForceKnn is deprecated; call bfKnn instead\n"
     ]
    },
    {
     "name": "stdout",
     "output_type": "stream",
     "text": [
      "Jaccard distance computing time cost: 76.94826555252075\n",
      "Extracting Online Features for vgg16 ...\n",
      "Features extracted in 188.62 seconds\n",
      "Computing jaccard distance...\n"
     ]
    },
    {
     "name": "stderr",
     "output_type": "stream",
     "text": [
      "bruteForceKnn is deprecated; call bfKnn instead\n"
     ]
    },
    {
     "name": "stdout",
     "output_type": "stream",
     "text": [
      "Jaccard distance computing time cost: 71.24690365791321\n",
      "Extracting Online Features for resnet50 ...\n",
      "Features extracted in 190.59 seconds\n",
      "Computing jaccard distance...\n"
     ]
    },
    {
     "name": "stderr",
     "output_type": "stream",
     "text": [
      "bruteForceKnn is deprecated; call bfKnn instead\n"
     ]
    },
    {
     "name": "stdout",
     "output_type": "stream",
     "text": [
      "Jaccard distance computing time cost: 68.83641624450684\n",
      "Extracting Online Features for osnet ...\n",
      "Features extracted in 191.00 seconds\n",
      "Computing jaccard distance...\n"
     ]
    },
    {
     "name": "stderr",
     "output_type": "stream",
     "text": [
      "bruteForceKnn is deprecated; call bfKnn instead\n"
     ]
    },
    {
     "name": "stdout",
     "output_type": "stream",
     "text": [
      "Jaccard distance computing time cost: 71.50360989570618\n",
      "Extracting Online Features for densenet121 ...\n",
      "Features extracted in 190.84 seconds\n",
      "Computing jaccard distance...\n"
     ]
    },
    {
     "name": "stderr",
     "output_type": "stream",
     "text": [
      "bruteForceKnn is deprecated; call bfKnn instead\n"
     ]
    },
    {
     "name": "stdout",
     "output_type": "stream",
     "text": [
      "Jaccard distance computing time cost: 73.15155982971191\n",
      "Reliability: 0.044\n",
      "\u001b[32mMean Purity: 0.02052\u001b[0m\n",
      "\u001b[34mThere are 20 clusters with 4 cameras\u001b[0m\n",
      "\u001b[34mThere are 21 clusters with 5 cameras\u001b[0m\n",
      "\u001b[34mThere are 11 clusters with 6 cameras\u001b[0m\n",
      "\u001b[34mThere are 8 clusters with 7 cameras\u001b[0m\n",
      "\u001b[34mThere are 2 clusters with 8 cameras\u001b[0m\n",
      "\u001b[34mThere are 4 clusters with 9 cameras\u001b[0m\n",
      "\u001b[34mThere are 4 clusters with 10 cameras\u001b[0m\n",
      "\u001b[34mThere are 4 clusters with 11 cameras\u001b[0m\n",
      "\u001b[34mThere are 3 clusters with 12 cameras\u001b[0m\n",
      "\u001b[34mThere are 5 clusters with 13 cameras\u001b[0m\n",
      "\u001b[34mThere are 2 clusters with 16 cameras\u001b[0m\n",
      "\u001b[34mThere are 2 clusters with 17 cameras\u001b[0m\n",
      "\u001b[34mThere are 2 clusters with 18 cameras\u001b[0m\n",
      "\u001b[34mThere are 1 clusters with 19 cameras\u001b[0m\n",
      "\u001b[34mThere are 4 clusters with 20 cameras\u001b[0m\n",
      "\u001b[34mThere are 3 clusters with 22 cameras\u001b[0m\n",
      "\u001b[34mThere are 1 clusters with 23 cameras\u001b[0m\n",
      "\u001b[34mThere are 1 clusters with 24 cameras\u001b[0m\n",
      "\u001b[34mThere are 1 clusters with 25 cameras\u001b[0m\n",
      "\u001b[34mThere are 1 clusters with 26 cameras\u001b[0m\n",
      "\u001b[34mThere are 3 clusters with 28 cameras\u001b[0m\n",
      "\u001b[34mThere are 1 clusters with 35 cameras\u001b[0m\n",
      "\u001b[34mThere are 1 clusters with 37 cameras\u001b[0m\n",
      "\u001b[34mThere are 1 clusters with 40 cameras\u001b[0m\n",
      "\u001b[34mThere are 1 clusters with 42 cameras\u001b[0m\n",
      "\u001b[34mThere are 1 clusters with 45 cameras\u001b[0m\n",
      "\u001b[34mThere are 1 clusters with 46 cameras\u001b[0m\n",
      "\u001b[34mThere are 1 clusters with 49 cameras\u001b[0m\n",
      "\u001b[34mThere are 1 clusters with 50 cameras\u001b[0m\n",
      "\u001b[34mThere are 1 clusters with 63 cameras\u001b[0m\n",
      "\u001b[34mThere are 2 clusters with 68 cameras\u001b[0m\n",
      "\u001b[34mThere are 1 clusters with 168 cameras\u001b[0m\n",
      "Number of classes: 115\n",
      "\u001b[36mLearning Rate: 0.000350\u001b[0m\n",
      "encontrou modelos efficientnet. Carregando...\n",
      "encontrou modelos convnext. Carregando...\n",
      "encontrou modelos mobilenet. Carregando...\n",
      "encontrou modelos vgg16. Carregando...\n",
      "encontrou modelos resnet50. Carregando...\n",
      "encontrou modelos osnet. Carregando...\n",
      "encontrou modelos densenet121. Carregando...\n",
      "###============ Iteration number 53/90 ============###\n",
      "Extracting Online Features for efficientnet ...\n",
      "Features extracted in 189.81 seconds\n",
      "Computing jaccard distance...\n"
     ]
    },
    {
     "name": "stderr",
     "output_type": "stream",
     "text": [
      "bruteForceKnn is deprecated; call bfKnn instead\n"
     ]
    },
    {
     "name": "stdout",
     "output_type": "stream",
     "text": [
      "Jaccard distance computing time cost: 80.31872487068176\n",
      "Extracting Online Features for convnext ...\n",
      "Features extracted in 191.78 seconds\n",
      "Computing jaccard distance...\n"
     ]
    },
    {
     "name": "stderr",
     "output_type": "stream",
     "text": [
      "bruteForceKnn is deprecated; call bfKnn instead\n"
     ]
    },
    {
     "name": "stdout",
     "output_type": "stream",
     "text": [
      "Jaccard distance computing time cost: 76.71363234519958\n",
      "Extracting Online Features for mobilenet ...\n",
      "Features extracted in 189.13 seconds\n",
      "Computing jaccard distance...\n"
     ]
    },
    {
     "name": "stderr",
     "output_type": "stream",
     "text": [
      "bruteForceKnn is deprecated; call bfKnn instead\n"
     ]
    },
    {
     "name": "stdout",
     "output_type": "stream",
     "text": [
      "Jaccard distance computing time cost: 71.64216709136963\n",
      "Extracting Online Features for vgg16 ...\n",
      "Features extracted in 189.35 seconds\n",
      "Computing jaccard distance...\n"
     ]
    },
    {
     "name": "stderr",
     "output_type": "stream",
     "text": [
      "bruteForceKnn is deprecated; call bfKnn instead\n"
     ]
    },
    {
     "name": "stdout",
     "output_type": "stream",
     "text": [
      "Jaccard distance computing time cost: 71.35498905181885\n",
      "Extracting Online Features for resnet50 ...\n",
      "Features extracted in 188.71 seconds\n",
      "Computing jaccard distance...\n"
     ]
    },
    {
     "name": "stderr",
     "output_type": "stream",
     "text": [
      "bruteForceKnn is deprecated; call bfKnn instead\n"
     ]
    },
    {
     "name": "stdout",
     "output_type": "stream",
     "text": [
      "Jaccard distance computing time cost: 69.02395844459534\n",
      "Extracting Online Features for osnet ...\n",
      "Features extracted in 190.28 seconds\n",
      "Computing jaccard distance...\n"
     ]
    },
    {
     "name": "stderr",
     "output_type": "stream",
     "text": [
      "bruteForceKnn is deprecated; call bfKnn instead\n"
     ]
    },
    {
     "name": "stdout",
     "output_type": "stream",
     "text": [
      "Jaccard distance computing time cost: 70.94762659072876\n",
      "Extracting Online Features for densenet121 ...\n",
      "Features extracted in 189.47 seconds\n",
      "Computing jaccard distance...\n"
     ]
    },
    {
     "name": "stderr",
     "output_type": "stream",
     "text": [
      "bruteForceKnn is deprecated; call bfKnn instead\n"
     ]
    },
    {
     "name": "stdout",
     "output_type": "stream",
     "text": [
      "Jaccard distance computing time cost: 71.9960675239563\n",
      "Reliability: 0.044\n",
      "\u001b[32mMean Purity: 0.02052\u001b[0m\n",
      "\u001b[34mThere are 20 clusters with 4 cameras\u001b[0m\n",
      "\u001b[34mThere are 21 clusters with 5 cameras\u001b[0m\n",
      "\u001b[34mThere are 11 clusters with 6 cameras\u001b[0m\n",
      "\u001b[34mThere are 8 clusters with 7 cameras\u001b[0m\n",
      "\u001b[34mThere are 2 clusters with 8 cameras\u001b[0m\n",
      "\u001b[34mThere are 4 clusters with 9 cameras\u001b[0m\n",
      "\u001b[34mThere are 4 clusters with 10 cameras\u001b[0m\n",
      "\u001b[34mThere are 4 clusters with 11 cameras\u001b[0m\n",
      "\u001b[34mThere are 3 clusters with 12 cameras\u001b[0m\n",
      "\u001b[34mThere are 5 clusters with 13 cameras\u001b[0m\n",
      "\u001b[34mThere are 2 clusters with 16 cameras\u001b[0m\n",
      "\u001b[34mThere are 2 clusters with 17 cameras\u001b[0m\n",
      "\u001b[34mThere are 2 clusters with 18 cameras\u001b[0m\n",
      "\u001b[34mThere are 1 clusters with 19 cameras\u001b[0m\n",
      "\u001b[34mThere are 4 clusters with 20 cameras\u001b[0m\n",
      "\u001b[34mThere are 3 clusters with 22 cameras\u001b[0m\n",
      "\u001b[34mThere are 1 clusters with 23 cameras\u001b[0m\n",
      "\u001b[34mThere are 1 clusters with 24 cameras\u001b[0m\n",
      "\u001b[34mThere are 1 clusters with 25 cameras\u001b[0m\n",
      "\u001b[34mThere are 1 clusters with 26 cameras\u001b[0m\n",
      "\u001b[34mThere are 3 clusters with 28 cameras\u001b[0m\n",
      "\u001b[34mThere are 1 clusters with 35 cameras\u001b[0m\n",
      "\u001b[34mThere are 1 clusters with 37 cameras\u001b[0m\n",
      "\u001b[34mThere are 1 clusters with 40 cameras\u001b[0m\n",
      "\u001b[34mThere are 1 clusters with 42 cameras\u001b[0m\n",
      "\u001b[34mThere are 1 clusters with 45 cameras\u001b[0m\n",
      "\u001b[34mThere are 1 clusters with 46 cameras\u001b[0m\n",
      "\u001b[34mThere are 1 clusters with 49 cameras\u001b[0m\n",
      "\u001b[34mThere are 1 clusters with 50 cameras\u001b[0m\n",
      "\u001b[34mThere are 1 clusters with 63 cameras\u001b[0m\n",
      "\u001b[34mThere are 2 clusters with 68 cameras\u001b[0m\n",
      "\u001b[34mThere are 1 clusters with 168 cameras\u001b[0m\n",
      "Number of classes: 115\n",
      "\u001b[36mLearning Rate: 0.000350\u001b[0m\n",
      "encontrou modelos efficientnet. Carregando...\n",
      "encontrou modelos convnext. Carregando...\n",
      "encontrou modelos mobilenet. Carregando...\n",
      "encontrou modelos vgg16. Carregando...\n",
      "encontrou modelos resnet50. Carregando...\n",
      "encontrou modelos osnet. Carregando...\n",
      "encontrou modelos densenet121. Carregando...\n",
      "###============ Iteration number 54/90 ============###\n",
      "Extracting Online Features for efficientnet ...\n",
      "Features extracted in 187.85 seconds\n",
      "Computing jaccard distance...\n"
     ]
    },
    {
     "name": "stderr",
     "output_type": "stream",
     "text": [
      "bruteForceKnn is deprecated; call bfKnn instead\n"
     ]
    },
    {
     "name": "stdout",
     "output_type": "stream",
     "text": [
      "Jaccard distance computing time cost: 88.92724347114563\n",
      "Extracting Online Features for convnext ...\n",
      "Features extracted in 189.88 seconds\n",
      "Computing jaccard distance...\n"
     ]
    },
    {
     "name": "stderr",
     "output_type": "stream",
     "text": [
      "bruteForceKnn is deprecated; call bfKnn instead\n"
     ]
    },
    {
     "name": "stdout",
     "output_type": "stream",
     "text": [
      "Jaccard distance computing time cost: 71.4218385219574\n",
      "Extracting Online Features for mobilenet ...\n",
      "Features extracted in 190.43 seconds\n",
      "Computing jaccard distance...\n"
     ]
    },
    {
     "name": "stderr",
     "output_type": "stream",
     "text": [
      "bruteForceKnn is deprecated; call bfKnn instead\n"
     ]
    },
    {
     "name": "stdout",
     "output_type": "stream",
     "text": [
      "Jaccard distance computing time cost: 74.41708421707153\n",
      "Extracting Online Features for vgg16 ...\n",
      "Features extracted in 193.09 seconds\n",
      "Computing jaccard distance...\n"
     ]
    },
    {
     "name": "stderr",
     "output_type": "stream",
     "text": [
      "bruteForceKnn is deprecated; call bfKnn instead\n"
     ]
    },
    {
     "name": "stdout",
     "output_type": "stream",
     "text": [
      "Jaccard distance computing time cost: 70.68810868263245\n",
      "Extracting Online Features for resnet50 ...\n",
      "Features extracted in 189.72 seconds\n",
      "Computing jaccard distance...\n"
     ]
    },
    {
     "name": "stderr",
     "output_type": "stream",
     "text": [
      "bruteForceKnn is deprecated; call bfKnn instead\n"
     ]
    },
    {
     "name": "stdout",
     "output_type": "stream",
     "text": [
      "Jaccard distance computing time cost: 68.3674967288971\n",
      "Extracting Online Features for osnet ...\n",
      "Features extracted in 188.05 seconds\n",
      "Computing jaccard distance...\n"
     ]
    },
    {
     "name": "stderr",
     "output_type": "stream",
     "text": [
      "bruteForceKnn is deprecated; call bfKnn instead\n"
     ]
    },
    {
     "name": "stdout",
     "output_type": "stream",
     "text": [
      "Jaccard distance computing time cost: 70.88034152984619\n",
      "Extracting Online Features for densenet121 ...\n",
      "Features extracted in 190.94 seconds\n",
      "Computing jaccard distance...\n"
     ]
    },
    {
     "name": "stderr",
     "output_type": "stream",
     "text": [
      "bruteForceKnn is deprecated; call bfKnn instead\n"
     ]
    },
    {
     "name": "stdout",
     "output_type": "stream",
     "text": [
      "Jaccard distance computing time cost: 71.89500284194946\n",
      "Reliability: 0.044\n",
      "\u001b[32mMean Purity: 0.02052\u001b[0m\n",
      "\u001b[34mThere are 20 clusters with 4 cameras\u001b[0m\n",
      "\u001b[34mThere are 21 clusters with 5 cameras\u001b[0m\n",
      "\u001b[34mThere are 11 clusters with 6 cameras\u001b[0m\n",
      "\u001b[34mThere are 8 clusters with 7 cameras\u001b[0m\n",
      "\u001b[34mThere are 2 clusters with 8 cameras\u001b[0m\n",
      "\u001b[34mThere are 4 clusters with 9 cameras\u001b[0m\n",
      "\u001b[34mThere are 4 clusters with 10 cameras\u001b[0m\n",
      "\u001b[34mThere are 4 clusters with 11 cameras\u001b[0m\n",
      "\u001b[34mThere are 3 clusters with 12 cameras\u001b[0m\n",
      "\u001b[34mThere are 5 clusters with 13 cameras\u001b[0m\n",
      "\u001b[34mThere are 2 clusters with 16 cameras\u001b[0m\n",
      "\u001b[34mThere are 2 clusters with 17 cameras\u001b[0m\n",
      "\u001b[34mThere are 2 clusters with 18 cameras\u001b[0m\n",
      "\u001b[34mThere are 1 clusters with 19 cameras\u001b[0m\n",
      "\u001b[34mThere are 4 clusters with 20 cameras\u001b[0m\n",
      "\u001b[34mThere are 3 clusters with 22 cameras\u001b[0m\n",
      "\u001b[34mThere are 1 clusters with 23 cameras\u001b[0m\n",
      "\u001b[34mThere are 1 clusters with 24 cameras\u001b[0m\n",
      "\u001b[34mThere are 1 clusters with 25 cameras\u001b[0m\n",
      "\u001b[34mThere are 1 clusters with 26 cameras\u001b[0m\n",
      "\u001b[34mThere are 3 clusters with 28 cameras\u001b[0m\n",
      "\u001b[34mThere are 1 clusters with 35 cameras\u001b[0m\n",
      "\u001b[34mThere are 1 clusters with 37 cameras\u001b[0m\n",
      "\u001b[34mThere are 1 clusters with 40 cameras\u001b[0m\n",
      "\u001b[34mThere are 1 clusters with 42 cameras\u001b[0m\n",
      "\u001b[34mThere are 1 clusters with 45 cameras\u001b[0m\n",
      "\u001b[34mThere are 1 clusters with 46 cameras\u001b[0m\n",
      "\u001b[34mThere are 1 clusters with 49 cameras\u001b[0m\n",
      "\u001b[34mThere are 1 clusters with 50 cameras\u001b[0m\n",
      "\u001b[34mThere are 1 clusters with 63 cameras\u001b[0m\n",
      "\u001b[34mThere are 2 clusters with 68 cameras\u001b[0m\n",
      "\u001b[34mThere are 1 clusters with 168 cameras\u001b[0m\n",
      "Number of classes: 115\n",
      "\u001b[36mLearning Rate: 0.000350\u001b[0m\n",
      "encontrou modelos efficientnet. Carregando...\n",
      "encontrou modelos convnext. Carregando...\n",
      "encontrou modelos mobilenet. Carregando...\n",
      "encontrou modelos vgg16. Carregando...\n",
      "encontrou modelos resnet50. Carregando...\n",
      "encontrou modelos osnet. Carregando...\n",
      "encontrou modelos densenet121. Carregando...\n",
      "###============ Iteration number 55/90 ============###\n",
      "Extracting Online Features for efficientnet ...\n",
      "Features extracted in 192.48 seconds\n",
      "Computing jaccard distance...\n"
     ]
    },
    {
     "name": "stderr",
     "output_type": "stream",
     "text": [
      "bruteForceKnn is deprecated; call bfKnn instead\n"
     ]
    },
    {
     "name": "stdout",
     "output_type": "stream",
     "text": [
      "Jaccard distance computing time cost: 81.54372191429138\n",
      "Extracting Online Features for convnext ...\n",
      "Features extracted in 192.22 seconds\n",
      "Computing jaccard distance...\n"
     ]
    },
    {
     "name": "stderr",
     "output_type": "stream",
     "text": [
      "bruteForceKnn is deprecated; call bfKnn instead\n"
     ]
    },
    {
     "name": "stdout",
     "output_type": "stream",
     "text": [
      "Jaccard distance computing time cost: 72.5779058933258\n",
      "Extracting Online Features for mobilenet ...\n",
      "Features extracted in 190.65 seconds\n",
      "Computing jaccard distance...\n"
     ]
    },
    {
     "name": "stderr",
     "output_type": "stream",
     "text": [
      "bruteForceKnn is deprecated; call bfKnn instead\n"
     ]
    },
    {
     "name": "stdout",
     "output_type": "stream",
     "text": [
      "Jaccard distance computing time cost: 70.37694811820984\n",
      "Extracting Online Features for vgg16 ...\n",
      "Features extracted in 190.53 seconds\n",
      "Computing jaccard distance...\n"
     ]
    },
    {
     "name": "stderr",
     "output_type": "stream",
     "text": [
      "bruteForceKnn is deprecated; call bfKnn instead\n"
     ]
    },
    {
     "name": "stdout",
     "output_type": "stream",
     "text": [
      "Jaccard distance computing time cost: 72.03230857849121\n",
      "Extracting Online Features for resnet50 ...\n",
      "Features extracted in 191.41 seconds\n",
      "Computing jaccard distance...\n"
     ]
    },
    {
     "name": "stderr",
     "output_type": "stream",
     "text": [
      "bruteForceKnn is deprecated; call bfKnn instead\n"
     ]
    },
    {
     "name": "stdout",
     "output_type": "stream",
     "text": [
      "Jaccard distance computing time cost: 69.17217755317688\n",
      "Extracting Online Features for osnet ...\n",
      "Features extracted in 189.41 seconds\n",
      "Computing jaccard distance...\n"
     ]
    },
    {
     "name": "stderr",
     "output_type": "stream",
     "text": [
      "bruteForceKnn is deprecated; call bfKnn instead\n"
     ]
    },
    {
     "name": "stdout",
     "output_type": "stream",
     "text": [
      "Jaccard distance computing time cost: 71.69468116760254\n",
      "Extracting Online Features for densenet121 ...\n",
      "Features extracted in 191.09 seconds\n",
      "Computing jaccard distance...\n"
     ]
    },
    {
     "name": "stderr",
     "output_type": "stream",
     "text": [
      "bruteForceKnn is deprecated; call bfKnn instead\n"
     ]
    },
    {
     "name": "stdout",
     "output_type": "stream",
     "text": [
      "Jaccard distance computing time cost: 81.96302056312561\n",
      "Reliability: 0.044\n",
      "\u001b[32mMean Purity: 0.02052\u001b[0m\n",
      "\u001b[34mThere are 20 clusters with 4 cameras\u001b[0m\n",
      "\u001b[34mThere are 21 clusters with 5 cameras\u001b[0m\n",
      "\u001b[34mThere are 11 clusters with 6 cameras\u001b[0m\n",
      "\u001b[34mThere are 8 clusters with 7 cameras\u001b[0m\n",
      "\u001b[34mThere are 2 clusters with 8 cameras\u001b[0m\n",
      "\u001b[34mThere are 4 clusters with 9 cameras\u001b[0m\n",
      "\u001b[34mThere are 4 clusters with 10 cameras\u001b[0m\n",
      "\u001b[34mThere are 4 clusters with 11 cameras\u001b[0m\n",
      "\u001b[34mThere are 3 clusters with 12 cameras\u001b[0m\n",
      "\u001b[34mThere are 5 clusters with 13 cameras\u001b[0m\n",
      "\u001b[34mThere are 2 clusters with 16 cameras\u001b[0m\n",
      "\u001b[34mThere are 2 clusters with 17 cameras\u001b[0m\n",
      "\u001b[34mThere are 2 clusters with 18 cameras\u001b[0m\n",
      "\u001b[34mThere are 1 clusters with 19 cameras\u001b[0m\n",
      "\u001b[34mThere are 4 clusters with 20 cameras\u001b[0m\n",
      "\u001b[34mThere are 3 clusters with 22 cameras\u001b[0m\n",
      "\u001b[34mThere are 1 clusters with 23 cameras\u001b[0m\n",
      "\u001b[34mThere are 1 clusters with 24 cameras\u001b[0m\n",
      "\u001b[34mThere are 1 clusters with 25 cameras\u001b[0m\n",
      "\u001b[34mThere are 1 clusters with 26 cameras\u001b[0m\n",
      "\u001b[34mThere are 3 clusters with 28 cameras\u001b[0m\n",
      "\u001b[34mThere are 1 clusters with 35 cameras\u001b[0m\n",
      "\u001b[34mThere are 1 clusters with 37 cameras\u001b[0m\n",
      "\u001b[34mThere are 1 clusters with 40 cameras\u001b[0m\n",
      "\u001b[34mThere are 1 clusters with 42 cameras\u001b[0m\n",
      "\u001b[34mThere are 1 clusters with 45 cameras\u001b[0m\n",
      "\u001b[34mThere are 1 clusters with 46 cameras\u001b[0m\n",
      "\u001b[34mThere are 1 clusters with 49 cameras\u001b[0m\n",
      "\u001b[34mThere are 1 clusters with 50 cameras\u001b[0m\n",
      "\u001b[34mThere are 1 clusters with 63 cameras\u001b[0m\n",
      "\u001b[34mThere are 2 clusters with 68 cameras\u001b[0m\n",
      "\u001b[34mThere are 1 clusters with 168 cameras\u001b[0m\n",
      "Number of classes: 115\n",
      "\u001b[36mLearning Rate: 0.000350\u001b[0m\n",
      "encontrou modelos efficientnet. Carregando...\n",
      "encontrou modelos convnext. Carregando...\n",
      "encontrou modelos mobilenet. Carregando...\n",
      "encontrou modelos vgg16. Carregando...\n",
      "encontrou modelos resnet50. Carregando...\n",
      "encontrou modelos osnet. Carregando...\n",
      "encontrou modelos densenet121. Carregando...\n",
      "\u001b[33mValidating online efficientnet ...\u001b[0m\n",
      "Features extracted in 59.00 seconds\n",
      "Features extracted in 115.92 seconds\n",
      "Computing CMC and mAP ...\n",
      "** Results **\n",
      "mAP: 66.96%\n",
      "CMC curve\n",
      "Rank-1  : 49.76%\n",
      "Rank-5  : 88.29%\n",
      "Rank-10 : 96.33%\n",
      "Rank-20 : 99.32%\n",
      "\u001b[33mValidating momentum efficientnet ...\u001b[0m\n",
      "Features extracted in 58.89 seconds\n",
      "Features extracted in 116.78 seconds\n",
      "Computing CMC and mAP ...\n",
      "** Results **\n",
      "mAP: 66.33%\n",
      "CMC curve\n",
      "Rank-1  : 47.72%\n",
      "Rank-5  : 83.15%\n",
      "Rank-10 : 91.82%\n",
      "Rank-20 : 96.73%\n",
      "\u001b[33mValidating online convnext ...\u001b[0m\n",
      "Features extracted in 59.14 seconds\n",
      "Features extracted in 118.13 seconds\n",
      "Computing CMC and mAP ...\n",
      "** Results **\n",
      "mAP: 65.77%\n",
      "CMC curve\n",
      "Rank-1  : 46.59%\n",
      "Rank-5  : 75.46%\n",
      "Rank-10 : 86.74%\n",
      "Rank-20 : 94.66%\n",
      "\u001b[33mValidating momentum convnext ...\u001b[0m\n",
      "Features extracted in 59.54 seconds\n",
      "Features extracted in 116.85 seconds\n",
      "Computing CMC and mAP ...\n",
      "** Results **\n",
      "mAP: 64.96%\n",
      "CMC curve\n",
      "Rank-1  : 45.63%\n",
      "Rank-5  : 75.04%\n",
      "Rank-10 : 87.30%\n",
      "Rank-20 : 95.01%\n",
      "\u001b[33mValidating online mobilenet ...\u001b[0m\n",
      "Features extracted in 58.43 seconds\n",
      "Features extracted in 115.23 seconds\n",
      "Computing CMC and mAP ...\n",
      "** Results **\n",
      "mAP: 66.23%\n",
      "CMC curve\n",
      "Rank-1  : 51.24%\n",
      "Rank-5  : 86.31%\n",
      "Rank-10 : 94.85%\n",
      "Rank-20 : 99.15%\n",
      "\u001b[33mValidating momentum mobilenet ...\u001b[0m\n",
      "Features extracted in 59.21 seconds\n",
      "Features extracted in 114.38 seconds\n",
      "Computing CMC and mAP ...\n",
      "** Results **\n",
      "mAP: 66.41%\n",
      "CMC curve\n",
      "Rank-1  : 52.73%\n",
      "Rank-5  : 85.40%\n",
      "Rank-10 : 93.79%\n",
      "Rank-20 : 98.57%\n",
      "\u001b[33mValidating online vgg16 ...\u001b[0m\n",
      "Features extracted in 59.30 seconds\n",
      "Features extracted in 117.80 seconds\n",
      "Computing CMC and mAP ...\n",
      "** Results **\n",
      "mAP: 65.47%\n",
      "CMC curve\n",
      "Rank-1  : 43.56%\n",
      "Rank-5  : 75.41%\n",
      "Rank-10 : 85.98%\n",
      "Rank-20 : 92.95%\n",
      "\u001b[33mValidating momentum vgg16 ...\u001b[0m\n",
      "Features extracted in 60.89 seconds\n",
      "Features extracted in 119.21 seconds\n",
      "Computing CMC and mAP ...\n",
      "** Results **\n",
      "mAP: 65.67%\n",
      "CMC curve\n",
      "Rank-1  : 45.75%\n",
      "Rank-5  : 82.00%\n",
      "Rank-10 : 90.62%\n",
      "Rank-20 : 96.36%\n",
      "\u001b[33mValidating online resnet50 ...\u001b[0m\n",
      "Features extracted in 60.11 seconds\n",
      "Features extracted in 115.90 seconds\n",
      "Computing CMC and mAP ...\n",
      "** Results **\n",
      "mAP: 65.64%\n",
      "CMC curve\n",
      "Rank-1  : 44.24%\n",
      "Rank-5  : 67.84%\n",
      "Rank-10 : 75.44%\n",
      "Rank-20 : 82.42%\n",
      "\u001b[33mValidating momentum resnet50 ...\u001b[0m\n",
      "Features extracted in 59.53 seconds\n",
      "Features extracted in 116.72 seconds\n",
      "Computing CMC and mAP ...\n",
      "** Results **\n",
      "mAP: 64.94%\n",
      "CMC curve\n",
      "Rank-1  : 43.33%\n",
      "Rank-5  : 71.52%\n",
      "Rank-10 : 80.95%\n",
      "Rank-20 : 90.36%\n",
      "\u001b[33mValidating online osnet ...\u001b[0m\n",
      "Features extracted in 60.54 seconds\n",
      "Features extracted in 118.14 seconds\n",
      "Computing CMC and mAP ...\n",
      "** Results **\n",
      "mAP: 66.87%\n",
      "CMC curve\n",
      "Rank-1  : 48.11%\n",
      "Rank-5  : 84.70%\n",
      "Rank-10 : 95.19%\n",
      "Rank-20 : 99.23%\n",
      "\u001b[33mValidating momentum osnet ...\u001b[0m\n",
      "Features extracted in 60.14 seconds\n",
      "Features extracted in 116.82 seconds\n",
      "Computing CMC and mAP ...\n",
      "** Results **\n",
      "mAP: 67.06%\n",
      "CMC curve\n",
      "Rank-1  : 51.39%\n",
      "Rank-5  : 86.67%\n",
      "Rank-10 : 94.96%\n",
      "Rank-20 : 98.71%\n",
      "\u001b[33mValidating online densenet121 ...\u001b[0m\n",
      "Features extracted in 61.29 seconds\n",
      "Features extracted in 120.33 seconds\n",
      "Computing CMC and mAP ...\n",
      "** Results **\n",
      "mAP: 65.34%\n",
      "CMC curve\n",
      "Rank-1  : 45.42%\n",
      "Rank-5  : 74.47%\n",
      "Rank-10 : 84.90%\n",
      "Rank-20 : 93.93%\n",
      "\u001b[33mValidating momentum densenet121 ...\u001b[0m\n",
      "Features extracted in 61.49 seconds\n",
      "Features extracted in 118.32 seconds\n",
      "Computing CMC and mAP ...\n",
      "** Results **\n",
      "mAP: 65.71%\n",
      "CMC curve\n",
      "Rank-1  : 46.36%\n",
      "Rank-5  : 79.22%\n",
      "Rank-10 : 88.80%\n",
      "Rank-20 : 95.19%\n",
      "\u001b[33mValidating ensembled with online models ...\u001b[0m\n",
      "Computing CMC and mAP ...\n",
      "** Results **\n",
      "mAP: 65.61%\n",
      "Ranks:\n",
      "Rank-1  : 45.50%\n",
      "Rank-5  : 70.24%\n",
      "Rank-10 : 79.04%\n",
      "\u001b[33mValidating ensembled with momentum models ...\u001b[0m\n",
      "Computing CMC and mAP ...\n",
      "** Results **\n",
      "mAP: 65.36%\n",
      "Ranks:\n",
      "Rank-1  : 43.96%\n",
      "Rank-5  : 75.79%\n",
      "Rank-10 : 85.67%\n",
      "###============ Iteration number 56/90 ============###\n",
      "Extracting Online Features for efficientnet ...\n",
      "Features extracted in 192.94 seconds\n",
      "Computing jaccard distance...\n"
     ]
    },
    {
     "name": "stderr",
     "output_type": "stream",
     "text": [
      "bruteForceKnn is deprecated; call bfKnn instead\n"
     ]
    },
    {
     "name": "stdout",
     "output_type": "stream",
     "text": [
      "Jaccard distance computing time cost: 80.17740392684937\n",
      "Extracting Online Features for convnext ...\n",
      "Features extracted in 192.53 seconds\n",
      "Computing jaccard distance...\n"
     ]
    },
    {
     "name": "stderr",
     "output_type": "stream",
     "text": [
      "bruteForceKnn is deprecated; call bfKnn instead\n"
     ]
    },
    {
     "name": "stdout",
     "output_type": "stream",
     "text": [
      "Jaccard distance computing time cost: 79.32618856430054\n",
      "Extracting Online Features for mobilenet ...\n",
      "Features extracted in 189.64 seconds\n",
      "Computing jaccard distance...\n"
     ]
    },
    {
     "name": "stderr",
     "output_type": "stream",
     "text": [
      "bruteForceKnn is deprecated; call bfKnn instead\n"
     ]
    },
    {
     "name": "stdout",
     "output_type": "stream",
     "text": [
      "Jaccard distance computing time cost: 71.3988869190216\n",
      "Extracting Online Features for vgg16 ...\n",
      "Features extracted in 191.90 seconds\n",
      "Computing jaccard distance...\n"
     ]
    },
    {
     "name": "stderr",
     "output_type": "stream",
     "text": [
      "bruteForceKnn is deprecated; call bfKnn instead\n"
     ]
    },
    {
     "name": "stdout",
     "output_type": "stream",
     "text": [
      "Jaccard distance computing time cost: 71.70404028892517\n",
      "Extracting Online Features for resnet50 ...\n",
      "Features extracted in 190.69 seconds\n",
      "Computing jaccard distance...\n"
     ]
    },
    {
     "name": "stderr",
     "output_type": "stream",
     "text": [
      "bruteForceKnn is deprecated; call bfKnn instead\n"
     ]
    },
    {
     "name": "stdout",
     "output_type": "stream",
     "text": [
      "Jaccard distance computing time cost: 68.74793004989624\n",
      "Extracting Online Features for osnet ...\n",
      "Features extracted in 189.54 seconds\n",
      "Computing jaccard distance...\n"
     ]
    },
    {
     "name": "stderr",
     "output_type": "stream",
     "text": [
      "bruteForceKnn is deprecated; call bfKnn instead\n"
     ]
    },
    {
     "name": "stdout",
     "output_type": "stream",
     "text": [
      "Jaccard distance computing time cost: 70.78540110588074\n",
      "Extracting Online Features for densenet121 ...\n",
      "Features extracted in 190.33 seconds\n",
      "Computing jaccard distance...\n"
     ]
    },
    {
     "name": "stderr",
     "output_type": "stream",
     "text": [
      "bruteForceKnn is deprecated; call bfKnn instead\n"
     ]
    },
    {
     "name": "stdout",
     "output_type": "stream",
     "text": [
      "Jaccard distance computing time cost: 72.23067951202393\n",
      "Reliability: 0.044\n",
      "\u001b[32mMean Purity: 0.02052\u001b[0m\n",
      "\u001b[34mThere are 20 clusters with 4 cameras\u001b[0m\n",
      "\u001b[34mThere are 21 clusters with 5 cameras\u001b[0m\n",
      "\u001b[34mThere are 11 clusters with 6 cameras\u001b[0m\n",
      "\u001b[34mThere are 8 clusters with 7 cameras\u001b[0m\n",
      "\u001b[34mThere are 2 clusters with 8 cameras\u001b[0m\n",
      "\u001b[34mThere are 4 clusters with 9 cameras\u001b[0m\n",
      "\u001b[34mThere are 4 clusters with 10 cameras\u001b[0m\n",
      "\u001b[34mThere are 4 clusters with 11 cameras\u001b[0m\n",
      "\u001b[34mThere are 3 clusters with 12 cameras\u001b[0m\n",
      "\u001b[34mThere are 5 clusters with 13 cameras\u001b[0m\n",
      "\u001b[34mThere are 2 clusters with 16 cameras\u001b[0m\n",
      "\u001b[34mThere are 2 clusters with 17 cameras\u001b[0m\n",
      "\u001b[34mThere are 2 clusters with 18 cameras\u001b[0m\n",
      "\u001b[34mThere are 1 clusters with 19 cameras\u001b[0m\n",
      "\u001b[34mThere are 4 clusters with 20 cameras\u001b[0m\n",
      "\u001b[34mThere are 3 clusters with 22 cameras\u001b[0m\n",
      "\u001b[34mThere are 1 clusters with 23 cameras\u001b[0m\n",
      "\u001b[34mThere are 1 clusters with 24 cameras\u001b[0m\n",
      "\u001b[34mThere are 1 clusters with 25 cameras\u001b[0m\n",
      "\u001b[34mThere are 1 clusters with 26 cameras\u001b[0m\n",
      "\u001b[34mThere are 3 clusters with 28 cameras\u001b[0m\n",
      "\u001b[34mThere are 1 clusters with 35 cameras\u001b[0m\n",
      "\u001b[34mThere are 1 clusters with 37 cameras\u001b[0m\n",
      "\u001b[34mThere are 1 clusters with 40 cameras\u001b[0m\n",
      "\u001b[34mThere are 1 clusters with 42 cameras\u001b[0m\n",
      "\u001b[34mThere are 1 clusters with 45 cameras\u001b[0m\n",
      "\u001b[34mThere are 1 clusters with 46 cameras\u001b[0m\n",
      "\u001b[34mThere are 1 clusters with 49 cameras\u001b[0m\n",
      "\u001b[34mThere are 1 clusters with 50 cameras\u001b[0m\n",
      "\u001b[34mThere are 1 clusters with 63 cameras\u001b[0m\n",
      "\u001b[34mThere are 2 clusters with 68 cameras\u001b[0m\n",
      "\u001b[34mThere are 1 clusters with 168 cameras\u001b[0m\n",
      "Number of classes: 115\n",
      "\u001b[36mLearning Rate: 0.000350\u001b[0m\n",
      "encontrou modelos efficientnet. Carregando...\n",
      "encontrou modelos convnext. Carregando...\n",
      "encontrou modelos mobilenet. Carregando...\n",
      "encontrou modelos vgg16. Carregando...\n",
      "encontrou modelos resnet50. Carregando...\n",
      "encontrou modelos osnet. Carregando...\n",
      "encontrou modelos densenet121. Carregando...\n",
      "###============ Iteration number 57/90 ============###\n",
      "Extracting Online Features for efficientnet ...\n",
      "Features extracted in 191.65 seconds\n",
      "Computing jaccard distance...\n"
     ]
    },
    {
     "name": "stderr",
     "output_type": "stream",
     "text": [
      "bruteForceKnn is deprecated; call bfKnn instead\n"
     ]
    },
    {
     "name": "stdout",
     "output_type": "stream",
     "text": [
      "Jaccard distance computing time cost: 85.86427068710327\n",
      "Extracting Online Features for convnext ...\n",
      "Features extracted in 193.36 seconds\n",
      "Computing jaccard distance...\n"
     ]
    },
    {
     "name": "stderr",
     "output_type": "stream",
     "text": [
      "bruteForceKnn is deprecated; call bfKnn instead\n"
     ]
    },
    {
     "name": "stdout",
     "output_type": "stream",
     "text": [
      "Jaccard distance computing time cost: 73.61436915397644\n",
      "Extracting Online Features for mobilenet ...\n",
      "Features extracted in 190.18 seconds\n",
      "Computing jaccard distance...\n"
     ]
    },
    {
     "name": "stderr",
     "output_type": "stream",
     "text": [
      "bruteForceKnn is deprecated; call bfKnn instead\n"
     ]
    },
    {
     "name": "stdout",
     "output_type": "stream",
     "text": [
      "Jaccard distance computing time cost: 69.96932435035706\n",
      "Extracting Online Features for vgg16 ...\n",
      "Features extracted in 192.51 seconds\n",
      "Computing jaccard distance...\n"
     ]
    },
    {
     "name": "stderr",
     "output_type": "stream",
     "text": [
      "bruteForceKnn is deprecated; call bfKnn instead\n"
     ]
    },
    {
     "name": "stdout",
     "output_type": "stream",
     "text": [
      "Jaccard distance computing time cost: 73.30785846710205\n",
      "Extracting Online Features for resnet50 ...\n",
      "Features extracted in 190.65 seconds\n",
      "Computing jaccard distance...\n"
     ]
    },
    {
     "name": "stderr",
     "output_type": "stream",
     "text": [
      "bruteForceKnn is deprecated; call bfKnn instead\n"
     ]
    },
    {
     "name": "stdout",
     "output_type": "stream",
     "text": [
      "Jaccard distance computing time cost: 73.68239164352417\n",
      "Extracting Online Features for osnet ...\n",
      "Features extracted in 191.88 seconds\n",
      "Computing jaccard distance...\n"
     ]
    },
    {
     "name": "stderr",
     "output_type": "stream",
     "text": [
      "bruteForceKnn is deprecated; call bfKnn instead\n"
     ]
    },
    {
     "name": "stdout",
     "output_type": "stream",
     "text": [
      "Jaccard distance computing time cost: 72.38338208198547\n",
      "Extracting Online Features for densenet121 ...\n",
      "Features extracted in 191.21 seconds\n",
      "Computing jaccard distance...\n"
     ]
    },
    {
     "name": "stderr",
     "output_type": "stream",
     "text": [
      "bruteForceKnn is deprecated; call bfKnn instead\n"
     ]
    },
    {
     "name": "stdout",
     "output_type": "stream",
     "text": [
      "Jaccard distance computing time cost: 73.65420722961426\n",
      "Reliability: 0.044\n",
      "\u001b[32mMean Purity: 0.02052\u001b[0m\n",
      "\u001b[34mThere are 20 clusters with 4 cameras\u001b[0m\n",
      "\u001b[34mThere are 21 clusters with 5 cameras\u001b[0m\n",
      "\u001b[34mThere are 11 clusters with 6 cameras\u001b[0m\n",
      "\u001b[34mThere are 8 clusters with 7 cameras\u001b[0m\n",
      "\u001b[34mThere are 2 clusters with 8 cameras\u001b[0m\n",
      "\u001b[34mThere are 4 clusters with 9 cameras\u001b[0m\n",
      "\u001b[34mThere are 4 clusters with 10 cameras\u001b[0m\n",
      "\u001b[34mThere are 4 clusters with 11 cameras\u001b[0m\n",
      "\u001b[34mThere are 3 clusters with 12 cameras\u001b[0m\n",
      "\u001b[34mThere are 5 clusters with 13 cameras\u001b[0m\n",
      "\u001b[34mThere are 2 clusters with 16 cameras\u001b[0m\n",
      "\u001b[34mThere are 2 clusters with 17 cameras\u001b[0m\n",
      "\u001b[34mThere are 2 clusters with 18 cameras\u001b[0m\n",
      "\u001b[34mThere are 1 clusters with 19 cameras\u001b[0m\n",
      "\u001b[34mThere are 4 clusters with 20 cameras\u001b[0m\n",
      "\u001b[34mThere are 3 clusters with 22 cameras\u001b[0m\n",
      "\u001b[34mThere are 1 clusters with 23 cameras\u001b[0m\n",
      "\u001b[34mThere are 1 clusters with 24 cameras\u001b[0m\n",
      "\u001b[34mThere are 1 clusters with 25 cameras\u001b[0m\n",
      "\u001b[34mThere are 1 clusters with 26 cameras\u001b[0m\n",
      "\u001b[34mThere are 3 clusters with 28 cameras\u001b[0m\n",
      "\u001b[34mThere are 1 clusters with 35 cameras\u001b[0m\n",
      "\u001b[34mThere are 1 clusters with 37 cameras\u001b[0m\n",
      "\u001b[34mThere are 1 clusters with 40 cameras\u001b[0m\n",
      "\u001b[34mThere are 1 clusters with 42 cameras\u001b[0m\n",
      "\u001b[34mThere are 1 clusters with 45 cameras\u001b[0m\n",
      "\u001b[34mThere are 1 clusters with 46 cameras\u001b[0m\n",
      "\u001b[34mThere are 1 clusters with 49 cameras\u001b[0m\n",
      "\u001b[34mThere are 1 clusters with 50 cameras\u001b[0m\n",
      "\u001b[34mThere are 1 clusters with 63 cameras\u001b[0m\n",
      "\u001b[34mThere are 2 clusters with 68 cameras\u001b[0m\n",
      "\u001b[34mThere are 1 clusters with 168 cameras\u001b[0m\n",
      "Number of classes: 115\n",
      "\u001b[36mLearning Rate: 0.000350\u001b[0m\n",
      "encontrou modelos efficientnet. Carregando...\n",
      "encontrou modelos convnext. Carregando...\n",
      "encontrou modelos mobilenet. Carregando...\n",
      "encontrou modelos vgg16. Carregando...\n",
      "encontrou modelos resnet50. Carregando...\n",
      "encontrou modelos osnet. Carregando...\n",
      "encontrou modelos densenet121. Carregando...\n",
      "###============ Iteration number 58/90 ============###\n",
      "Extracting Online Features for efficientnet ...\n",
      "Features extracted in 192.74 seconds\n",
      "Computing jaccard distance...\n"
     ]
    },
    {
     "name": "stderr",
     "output_type": "stream",
     "text": [
      "bruteForceKnn is deprecated; call bfKnn instead\n"
     ]
    },
    {
     "name": "stdout",
     "output_type": "stream",
     "text": [
      "Jaccard distance computing time cost: 88.37896752357483\n",
      "Extracting Online Features for convnext ...\n",
      "Features extracted in 188.76 seconds\n",
      "Computing jaccard distance...\n"
     ]
    },
    {
     "name": "stderr",
     "output_type": "stream",
     "text": [
      "bruteForceKnn is deprecated; call bfKnn instead\n"
     ]
    },
    {
     "name": "stdout",
     "output_type": "stream",
     "text": [
      "Jaccard distance computing time cost: 76.35011720657349\n",
      "Extracting Online Features for mobilenet ...\n",
      "Features extracted in 186.30 seconds\n",
      "Computing jaccard distance...\n"
     ]
    },
    {
     "name": "stderr",
     "output_type": "stream",
     "text": [
      "bruteForceKnn is deprecated; call bfKnn instead\n"
     ]
    },
    {
     "name": "stdout",
     "output_type": "stream",
     "text": [
      "Jaccard distance computing time cost: 70.3098247051239\n",
      "Extracting Online Features for vgg16 ...\n",
      "Features extracted in 192.22 seconds\n",
      "Computing jaccard distance...\n"
     ]
    },
    {
     "name": "stderr",
     "output_type": "stream",
     "text": [
      "bruteForceKnn is deprecated; call bfKnn instead\n"
     ]
    },
    {
     "name": "stdout",
     "output_type": "stream",
     "text": [
      "Jaccard distance computing time cost: 74.80946111679077\n",
      "Extracting Online Features for resnet50 ...\n",
      "Features extracted in 190.64 seconds\n",
      "Computing jaccard distance...\n"
     ]
    },
    {
     "name": "stderr",
     "output_type": "stream",
     "text": [
      "bruteForceKnn is deprecated; call bfKnn instead\n"
     ]
    },
    {
     "name": "stdout",
     "output_type": "stream",
     "text": [
      "Jaccard distance computing time cost: 70.86560726165771\n",
      "Extracting Online Features for osnet ...\n",
      "Features extracted in 191.54 seconds\n",
      "Computing jaccard distance...\n"
     ]
    },
    {
     "name": "stderr",
     "output_type": "stream",
     "text": [
      "bruteForceKnn is deprecated; call bfKnn instead\n"
     ]
    },
    {
     "name": "stdout",
     "output_type": "stream",
     "text": [
      "Jaccard distance computing time cost: 70.28033494949341\n",
      "Extracting Online Features for densenet121 ...\n",
      "Features extracted in 190.69 seconds\n",
      "Computing jaccard distance...\n"
     ]
    },
    {
     "name": "stderr",
     "output_type": "stream",
     "text": [
      "bruteForceKnn is deprecated; call bfKnn instead\n"
     ]
    },
    {
     "name": "stdout",
     "output_type": "stream",
     "text": [
      "Jaccard distance computing time cost: 77.67981195449829\n",
      "Reliability: 0.044\n",
      "\u001b[32mMean Purity: 0.02052\u001b[0m\n",
      "\u001b[34mThere are 20 clusters with 4 cameras\u001b[0m\n",
      "\u001b[34mThere are 21 clusters with 5 cameras\u001b[0m\n",
      "\u001b[34mThere are 11 clusters with 6 cameras\u001b[0m\n",
      "\u001b[34mThere are 8 clusters with 7 cameras\u001b[0m\n",
      "\u001b[34mThere are 2 clusters with 8 cameras\u001b[0m\n",
      "\u001b[34mThere are 4 clusters with 9 cameras\u001b[0m\n",
      "\u001b[34mThere are 4 clusters with 10 cameras\u001b[0m\n",
      "\u001b[34mThere are 4 clusters with 11 cameras\u001b[0m\n",
      "\u001b[34mThere are 3 clusters with 12 cameras\u001b[0m\n",
      "\u001b[34mThere are 5 clusters with 13 cameras\u001b[0m\n",
      "\u001b[34mThere are 2 clusters with 16 cameras\u001b[0m\n",
      "\u001b[34mThere are 2 clusters with 17 cameras\u001b[0m\n",
      "\u001b[34mThere are 2 clusters with 18 cameras\u001b[0m\n",
      "\u001b[34mThere are 1 clusters with 19 cameras\u001b[0m\n",
      "\u001b[34mThere are 4 clusters with 20 cameras\u001b[0m\n",
      "\u001b[34mThere are 3 clusters with 22 cameras\u001b[0m\n",
      "\u001b[34mThere are 1 clusters with 23 cameras\u001b[0m\n",
      "\u001b[34mThere are 1 clusters with 24 cameras\u001b[0m\n",
      "\u001b[34mThere are 1 clusters with 25 cameras\u001b[0m\n",
      "\u001b[34mThere are 1 clusters with 26 cameras\u001b[0m\n",
      "\u001b[34mThere are 3 clusters with 28 cameras\u001b[0m\n",
      "\u001b[34mThere are 1 clusters with 35 cameras\u001b[0m\n",
      "\u001b[34mThere are 1 clusters with 37 cameras\u001b[0m\n",
      "\u001b[34mThere are 1 clusters with 40 cameras\u001b[0m\n",
      "\u001b[34mThere are 1 clusters with 42 cameras\u001b[0m\n",
      "\u001b[34mThere are 1 clusters with 45 cameras\u001b[0m\n",
      "\u001b[34mThere are 1 clusters with 46 cameras\u001b[0m\n",
      "\u001b[34mThere are 1 clusters with 49 cameras\u001b[0m\n",
      "\u001b[34mThere are 1 clusters with 50 cameras\u001b[0m\n",
      "\u001b[34mThere are 1 clusters with 63 cameras\u001b[0m\n",
      "\u001b[34mThere are 2 clusters with 68 cameras\u001b[0m\n",
      "\u001b[34mThere are 1 clusters with 168 cameras\u001b[0m\n",
      "Number of classes: 115\n",
      "\u001b[36mLearning Rate: 0.000350\u001b[0m\n",
      "encontrou modelos efficientnet. Carregando...\n",
      "encontrou modelos convnext. Carregando...\n",
      "encontrou modelos mobilenet. Carregando...\n",
      "encontrou modelos vgg16. Carregando...\n",
      "encontrou modelos resnet50. Carregando...\n",
      "encontrou modelos osnet. Carregando...\n",
      "encontrou modelos densenet121. Carregando...\n",
      "###============ Iteration number 59/90 ============###\n",
      "Extracting Online Features for efficientnet ...\n",
      "Features extracted in 190.62 seconds\n",
      "Computing jaccard distance...\n"
     ]
    },
    {
     "name": "stderr",
     "output_type": "stream",
     "text": [
      "bruteForceKnn is deprecated; call bfKnn instead\n"
     ]
    },
    {
     "name": "stdout",
     "output_type": "stream",
     "text": [
      "Jaccard distance computing time cost: 78.57185792922974\n",
      "Extracting Online Features for convnext ...\n",
      "Features extracted in 191.78 seconds\n",
      "Computing jaccard distance...\n"
     ]
    },
    {
     "name": "stderr",
     "output_type": "stream",
     "text": [
      "bruteForceKnn is deprecated; call bfKnn instead\n"
     ]
    },
    {
     "name": "stdout",
     "output_type": "stream",
     "text": [
      "Jaccard distance computing time cost: 70.80200099945068\n",
      "Extracting Online Features for mobilenet ...\n",
      "Features extracted in 190.68 seconds\n",
      "Computing jaccard distance...\n"
     ]
    },
    {
     "name": "stderr",
     "output_type": "stream",
     "text": [
      "bruteForceKnn is deprecated; call bfKnn instead\n"
     ]
    },
    {
     "name": "stdout",
     "output_type": "stream",
     "text": [
      "Jaccard distance computing time cost: 68.52900195121765\n",
      "Extracting Online Features for vgg16 ...\n",
      "Features extracted in 192.31 seconds\n",
      "Computing jaccard distance...\n"
     ]
    },
    {
     "name": "stderr",
     "output_type": "stream",
     "text": [
      "bruteForceKnn is deprecated; call bfKnn instead\n"
     ]
    },
    {
     "name": "stdout",
     "output_type": "stream",
     "text": [
      "Jaccard distance computing time cost: 72.99964046478271\n",
      "Extracting Online Features for resnet50 ...\n",
      "Features extracted in 190.53 seconds\n",
      "Computing jaccard distance...\n"
     ]
    },
    {
     "name": "stderr",
     "output_type": "stream",
     "text": [
      "bruteForceKnn is deprecated; call bfKnn instead\n"
     ]
    },
    {
     "name": "stdout",
     "output_type": "stream",
     "text": [
      "Jaccard distance computing time cost: 71.9591851234436\n",
      "Extracting Online Features for osnet ...\n",
      "Features extracted in 190.18 seconds\n",
      "Computing jaccard distance...\n"
     ]
    },
    {
     "name": "stderr",
     "output_type": "stream",
     "text": [
      "bruteForceKnn is deprecated; call bfKnn instead\n"
     ]
    },
    {
     "name": "stdout",
     "output_type": "stream",
     "text": [
      "Jaccard distance computing time cost: 76.38194632530212\n",
      "Extracting Online Features for densenet121 ...\n",
      "Features extracted in 190.99 seconds\n",
      "Computing jaccard distance...\n"
     ]
    },
    {
     "name": "stderr",
     "output_type": "stream",
     "text": [
      "bruteForceKnn is deprecated; call bfKnn instead\n"
     ]
    },
    {
     "name": "stdout",
     "output_type": "stream",
     "text": [
      "Jaccard distance computing time cost: 71.84507989883423\n",
      "Reliability: 0.044\n",
      "\u001b[32mMean Purity: 0.02052\u001b[0m\n",
      "\u001b[34mThere are 20 clusters with 4 cameras\u001b[0m\n",
      "\u001b[34mThere are 21 clusters with 5 cameras\u001b[0m\n",
      "\u001b[34mThere are 11 clusters with 6 cameras\u001b[0m\n",
      "\u001b[34mThere are 8 clusters with 7 cameras\u001b[0m\n",
      "\u001b[34mThere are 2 clusters with 8 cameras\u001b[0m\n",
      "\u001b[34mThere are 4 clusters with 9 cameras\u001b[0m\n",
      "\u001b[34mThere are 4 clusters with 10 cameras\u001b[0m\n",
      "\u001b[34mThere are 4 clusters with 11 cameras\u001b[0m\n",
      "\u001b[34mThere are 3 clusters with 12 cameras\u001b[0m\n",
      "\u001b[34mThere are 5 clusters with 13 cameras\u001b[0m\n",
      "\u001b[34mThere are 2 clusters with 16 cameras\u001b[0m\n",
      "\u001b[34mThere are 2 clusters with 17 cameras\u001b[0m\n",
      "\u001b[34mThere are 2 clusters with 18 cameras\u001b[0m\n",
      "\u001b[34mThere are 1 clusters with 19 cameras\u001b[0m\n",
      "\u001b[34mThere are 4 clusters with 20 cameras\u001b[0m\n",
      "\u001b[34mThere are 3 clusters with 22 cameras\u001b[0m\n",
      "\u001b[34mThere are 1 clusters with 23 cameras\u001b[0m\n",
      "\u001b[34mThere are 1 clusters with 24 cameras\u001b[0m\n",
      "\u001b[34mThere are 1 clusters with 25 cameras\u001b[0m\n",
      "\u001b[34mThere are 1 clusters with 26 cameras\u001b[0m\n",
      "\u001b[34mThere are 3 clusters with 28 cameras\u001b[0m\n",
      "\u001b[34mThere are 1 clusters with 35 cameras\u001b[0m\n",
      "\u001b[34mThere are 1 clusters with 37 cameras\u001b[0m\n",
      "\u001b[34mThere are 1 clusters with 40 cameras\u001b[0m\n",
      "\u001b[34mThere are 1 clusters with 42 cameras\u001b[0m\n",
      "\u001b[34mThere are 1 clusters with 45 cameras\u001b[0m\n",
      "\u001b[34mThere are 1 clusters with 46 cameras\u001b[0m\n",
      "\u001b[34mThere are 1 clusters with 49 cameras\u001b[0m\n",
      "\u001b[34mThere are 1 clusters with 50 cameras\u001b[0m\n",
      "\u001b[34mThere are 1 clusters with 63 cameras\u001b[0m\n",
      "\u001b[34mThere are 2 clusters with 68 cameras\u001b[0m\n",
      "\u001b[34mThere are 1 clusters with 168 cameras\u001b[0m\n",
      "Number of classes: 115\n",
      "\u001b[36mLearning Rate: 0.000350\u001b[0m\n",
      "encontrou modelos efficientnet. Carregando...\n",
      "encontrou modelos convnext. Carregando...\n",
      "encontrou modelos mobilenet. Carregando...\n",
      "encontrou modelos vgg16. Carregando...\n",
      "encontrou modelos resnet50. Carregando...\n",
      "encontrou modelos osnet. Carregando...\n",
      "encontrou modelos densenet121. Carregando...\n",
      "###============ Iteration number 60/90 ============###\n",
      "Extracting Online Features for efficientnet ...\n",
      "Features extracted in 189.58 seconds\n",
      "Computing jaccard distance...\n"
     ]
    },
    {
     "name": "stderr",
     "output_type": "stream",
     "text": [
      "bruteForceKnn is deprecated; call bfKnn instead\n"
     ]
    },
    {
     "name": "stdout",
     "output_type": "stream",
     "text": [
      "Jaccard distance computing time cost: 80.34759998321533\n",
      "Extracting Online Features for convnext ...\n",
      "Features extracted in 190.41 seconds\n",
      "Computing jaccard distance...\n"
     ]
    },
    {
     "name": "stderr",
     "output_type": "stream",
     "text": [
      "bruteForceKnn is deprecated; call bfKnn instead\n"
     ]
    },
    {
     "name": "stdout",
     "output_type": "stream",
     "text": [
      "Jaccard distance computing time cost: 74.66736936569214\n",
      "Extracting Online Features for mobilenet ...\n",
      "Features extracted in 192.54 seconds\n",
      "Computing jaccard distance...\n"
     ]
    },
    {
     "name": "stderr",
     "output_type": "stream",
     "text": [
      "bruteForceKnn is deprecated; call bfKnn instead\n"
     ]
    },
    {
     "name": "stdout",
     "output_type": "stream",
     "text": [
      "Jaccard distance computing time cost: 69.99957728385925\n",
      "Extracting Online Features for vgg16 ...\n",
      "Features extracted in 191.29 seconds\n",
      "Computing jaccard distance...\n"
     ]
    },
    {
     "name": "stderr",
     "output_type": "stream",
     "text": [
      "bruteForceKnn is deprecated; call bfKnn instead\n"
     ]
    },
    {
     "name": "stdout",
     "output_type": "stream",
     "text": [
      "Jaccard distance computing time cost: 72.04934597015381\n",
      "Extracting Online Features for resnet50 ...\n",
      "Features extracted in 189.78 seconds\n",
      "Computing jaccard distance...\n"
     ]
    },
    {
     "name": "stderr",
     "output_type": "stream",
     "text": [
      "bruteForceKnn is deprecated; call bfKnn instead\n"
     ]
    },
    {
     "name": "stdout",
     "output_type": "stream",
     "text": [
      "Jaccard distance computing time cost: 70.73583722114563\n",
      "Extracting Online Features for osnet ...\n",
      "Features extracted in 188.98 seconds\n",
      "Computing jaccard distance...\n"
     ]
    },
    {
     "name": "stderr",
     "output_type": "stream",
     "text": [
      "bruteForceKnn is deprecated; call bfKnn instead\n"
     ]
    },
    {
     "name": "stdout",
     "output_type": "stream",
     "text": [
      "Jaccard distance computing time cost: 71.17722463607788\n",
      "Extracting Online Features for densenet121 ...\n",
      "Features extracted in 189.30 seconds\n",
      "Computing jaccard distance...\n"
     ]
    },
    {
     "name": "stderr",
     "output_type": "stream",
     "text": [
      "bruteForceKnn is deprecated; call bfKnn instead\n"
     ]
    },
    {
     "name": "stdout",
     "output_type": "stream",
     "text": [
      "Jaccard distance computing time cost: 72.2181806564331\n",
      "Reliability: 0.044\n",
      "\u001b[32mMean Purity: 0.02052\u001b[0m\n",
      "\u001b[34mThere are 20 clusters with 4 cameras\u001b[0m\n",
      "\u001b[34mThere are 21 clusters with 5 cameras\u001b[0m\n",
      "\u001b[34mThere are 11 clusters with 6 cameras\u001b[0m\n",
      "\u001b[34mThere are 8 clusters with 7 cameras\u001b[0m\n",
      "\u001b[34mThere are 2 clusters with 8 cameras\u001b[0m\n",
      "\u001b[34mThere are 4 clusters with 9 cameras\u001b[0m\n",
      "\u001b[34mThere are 4 clusters with 10 cameras\u001b[0m\n",
      "\u001b[34mThere are 4 clusters with 11 cameras\u001b[0m\n",
      "\u001b[34mThere are 3 clusters with 12 cameras\u001b[0m\n",
      "\u001b[34mThere are 5 clusters with 13 cameras\u001b[0m\n",
      "\u001b[34mThere are 2 clusters with 16 cameras\u001b[0m\n",
      "\u001b[34mThere are 2 clusters with 17 cameras\u001b[0m\n",
      "\u001b[34mThere are 2 clusters with 18 cameras\u001b[0m\n",
      "\u001b[34mThere are 1 clusters with 19 cameras\u001b[0m\n",
      "\u001b[34mThere are 4 clusters with 20 cameras\u001b[0m\n",
      "\u001b[34mThere are 3 clusters with 22 cameras\u001b[0m\n",
      "\u001b[34mThere are 1 clusters with 23 cameras\u001b[0m\n",
      "\u001b[34mThere are 1 clusters with 24 cameras\u001b[0m\n",
      "\u001b[34mThere are 1 clusters with 25 cameras\u001b[0m\n",
      "\u001b[34mThere are 1 clusters with 26 cameras\u001b[0m\n",
      "\u001b[34mThere are 3 clusters with 28 cameras\u001b[0m\n",
      "\u001b[34mThere are 1 clusters with 35 cameras\u001b[0m\n",
      "\u001b[34mThere are 1 clusters with 37 cameras\u001b[0m\n",
      "\u001b[34mThere are 1 clusters with 40 cameras\u001b[0m\n",
      "\u001b[34mThere are 1 clusters with 42 cameras\u001b[0m\n",
      "\u001b[34mThere are 1 clusters with 45 cameras\u001b[0m\n",
      "\u001b[34mThere are 1 clusters with 46 cameras\u001b[0m\n",
      "\u001b[34mThere are 1 clusters with 49 cameras\u001b[0m\n",
      "\u001b[34mThere are 1 clusters with 50 cameras\u001b[0m\n",
      "\u001b[34mThere are 1 clusters with 63 cameras\u001b[0m\n",
      "\u001b[34mThere are 2 clusters with 68 cameras\u001b[0m\n",
      "\u001b[34mThere are 1 clusters with 168 cameras\u001b[0m\n",
      "Number of classes: 115\n",
      "\u001b[36mLearning Rate: 0.000350\u001b[0m\n",
      "encontrou modelos efficientnet. Carregando...\n",
      "encontrou modelos convnext. Carregando...\n",
      "encontrou modelos mobilenet. Carregando...\n",
      "encontrou modelos vgg16. Carregando...\n",
      "encontrou modelos resnet50. Carregando...\n",
      "encontrou modelos osnet. Carregando...\n",
      "encontrou modelos densenet121. Carregando...\n",
      "\u001b[33mValidating online efficientnet ...\u001b[0m\n",
      "Features extracted in 59.51 seconds\n",
      "Features extracted in 117.97 seconds\n",
      "Computing CMC and mAP ...\n",
      "** Results **\n",
      "mAP: 66.96%\n",
      "CMC curve\n",
      "Rank-1  : 49.76%\n",
      "Rank-5  : 88.29%\n",
      "Rank-10 : 96.33%\n",
      "Rank-20 : 99.32%\n",
      "\u001b[33mValidating momentum efficientnet ...\u001b[0m\n",
      "Features extracted in 58.41 seconds\n",
      "Features extracted in 116.21 seconds\n",
      "Computing CMC and mAP ...\n",
      "** Results **\n",
      "mAP: 66.33%\n",
      "CMC curve\n",
      "Rank-1  : 47.72%\n",
      "Rank-5  : 83.15%\n",
      "Rank-10 : 91.82%\n",
      "Rank-20 : 96.73%\n",
      "\u001b[33mValidating online convnext ...\u001b[0m\n",
      "Features extracted in 59.23 seconds\n",
      "Features extracted in 121.62 seconds\n",
      "Computing CMC and mAP ...\n",
      "** Results **\n",
      "mAP: 65.77%\n",
      "CMC curve\n",
      "Rank-1  : 46.59%\n",
      "Rank-5  : 75.46%\n",
      "Rank-10 : 86.74%\n",
      "Rank-20 : 94.66%\n",
      "\u001b[33mValidating momentum convnext ...\u001b[0m\n",
      "Features extracted in 59.42 seconds\n",
      "Features extracted in 117.50 seconds\n",
      "Computing CMC and mAP ...\n",
      "** Results **\n",
      "mAP: 64.96%\n",
      "CMC curve\n",
      "Rank-1  : 45.63%\n",
      "Rank-5  : 75.04%\n",
      "Rank-10 : 87.30%\n",
      "Rank-20 : 95.01%\n",
      "\u001b[33mValidating online mobilenet ...\u001b[0m\n",
      "Features extracted in 58.62 seconds\n",
      "Features extracted in 116.86 seconds\n",
      "Computing CMC and mAP ...\n",
      "** Results **\n",
      "mAP: 66.23%\n",
      "CMC curve\n",
      "Rank-1  : 51.24%\n",
      "Rank-5  : 86.31%\n",
      "Rank-10 : 94.85%\n",
      "Rank-20 : 99.15%\n",
      "\u001b[33mValidating momentum mobilenet ...\u001b[0m\n",
      "Features extracted in 58.94 seconds\n",
      "Features extracted in 115.76 seconds\n",
      "Computing CMC and mAP ...\n",
      "** Results **\n",
      "mAP: 66.41%\n",
      "CMC curve\n",
      "Rank-1  : 52.73%\n",
      "Rank-5  : 85.40%\n",
      "Rank-10 : 93.79%\n",
      "Rank-20 : 98.57%\n",
      "\u001b[33mValidating online vgg16 ...\u001b[0m\n",
      "Features extracted in 60.26 seconds\n",
      "Features extracted in 118.39 seconds\n",
      "Computing CMC and mAP ...\n",
      "** Results **\n",
      "mAP: 65.47%\n",
      "CMC curve\n",
      "Rank-1  : 43.56%\n",
      "Rank-5  : 75.41%\n",
      "Rank-10 : 85.98%\n",
      "Rank-20 : 92.95%\n",
      "\u001b[33mValidating momentum vgg16 ...\u001b[0m\n",
      "Features extracted in 59.92 seconds\n",
      "Features extracted in 119.36 seconds\n",
      "Computing CMC and mAP ...\n",
      "** Results **\n",
      "mAP: 65.67%\n",
      "CMC curve\n",
      "Rank-1  : 45.75%\n",
      "Rank-5  : 82.00%\n",
      "Rank-10 : 90.62%\n",
      "Rank-20 : 96.36%\n",
      "\u001b[33mValidating online resnet50 ...\u001b[0m\n",
      "Features extracted in 60.92 seconds\n",
      "Features extracted in 115.82 seconds\n",
      "Computing CMC and mAP ...\n",
      "** Results **\n",
      "mAP: 65.64%\n",
      "CMC curve\n",
      "Rank-1  : 44.24%\n",
      "Rank-5  : 67.84%\n",
      "Rank-10 : 75.44%\n",
      "Rank-20 : 82.42%\n",
      "\u001b[33mValidating momentum resnet50 ...\u001b[0m\n",
      "Features extracted in 60.20 seconds\n",
      "Features extracted in 116.40 seconds\n",
      "Computing CMC and mAP ...\n",
      "** Results **\n",
      "mAP: 64.94%\n",
      "CMC curve\n",
      "Rank-1  : 43.33%\n",
      "Rank-5  : 71.52%\n",
      "Rank-10 : 80.95%\n",
      "Rank-20 : 90.36%\n",
      "\u001b[33mValidating online osnet ...\u001b[0m\n",
      "Features extracted in 60.17 seconds\n",
      "Features extracted in 117.24 seconds\n",
      "Computing CMC and mAP ...\n",
      "** Results **\n",
      "mAP: 66.87%\n",
      "CMC curve\n",
      "Rank-1  : 48.11%\n",
      "Rank-5  : 84.70%\n",
      "Rank-10 : 95.19%\n",
      "Rank-20 : 99.23%\n",
      "\u001b[33mValidating momentum osnet ...\u001b[0m\n",
      "Features extracted in 61.46 seconds\n",
      "Features extracted in 117.81 seconds\n",
      "Computing CMC and mAP ...\n",
      "** Results **\n",
      "mAP: 67.06%\n",
      "CMC curve\n",
      "Rank-1  : 51.39%\n",
      "Rank-5  : 86.67%\n",
      "Rank-10 : 94.96%\n",
      "Rank-20 : 98.71%\n",
      "\u001b[33mValidating online densenet121 ...\u001b[0m\n",
      "Features extracted in 62.37 seconds\n",
      "Features extracted in 117.44 seconds\n",
      "Computing CMC and mAP ...\n",
      "** Results **\n",
      "mAP: 65.34%\n",
      "CMC curve\n",
      "Rank-1  : 45.42%\n",
      "Rank-5  : 74.47%\n",
      "Rank-10 : 84.90%\n",
      "Rank-20 : 93.93%\n",
      "\u001b[33mValidating momentum densenet121 ...\u001b[0m\n",
      "Features extracted in 61.59 seconds\n",
      "Features extracted in 117.30 seconds\n",
      "Computing CMC and mAP ...\n",
      "** Results **\n",
      "mAP: 65.71%\n",
      "CMC curve\n",
      "Rank-1  : 46.36%\n",
      "Rank-5  : 79.22%\n",
      "Rank-10 : 88.80%\n",
      "Rank-20 : 95.19%\n",
      "\u001b[33mValidating ensembled with online models ...\u001b[0m\n",
      "Computing CMC and mAP ...\n",
      "** Results **\n",
      "mAP: 65.61%\n",
      "Ranks:\n",
      "Rank-1  : 45.50%\n",
      "Rank-5  : 70.24%\n",
      "Rank-10 : 79.04%\n",
      "\u001b[33mValidating ensembled with momentum models ...\u001b[0m\n",
      "Computing CMC and mAP ...\n",
      "** Results **\n",
      "mAP: 65.36%\n",
      "Ranks:\n",
      "Rank-1  : 43.96%\n",
      "Rank-5  : 75.79%\n",
      "Rank-10 : 85.67%\n",
      "###============ Iteration number 61/90 ============###\n",
      "Extracting Online Features for efficientnet ...\n",
      "Features extracted in 192.11 seconds\n",
      "Computing jaccard distance...\n"
     ]
    },
    {
     "name": "stderr",
     "output_type": "stream",
     "text": [
      "bruteForceKnn is deprecated; call bfKnn instead\n"
     ]
    },
    {
     "name": "stdout",
     "output_type": "stream",
     "text": [
      "Jaccard distance computing time cost: 80.63987517356873\n",
      "Extracting Online Features for convnext ...\n",
      "Features extracted in 193.72 seconds\n",
      "Computing jaccard distance...\n"
     ]
    },
    {
     "name": "stderr",
     "output_type": "stream",
     "text": [
      "bruteForceKnn is deprecated; call bfKnn instead\n"
     ]
    },
    {
     "name": "stdout",
     "output_type": "stream",
     "text": [
      "Jaccard distance computing time cost: 70.34451413154602\n",
      "Extracting Online Features for mobilenet ...\n",
      "Features extracted in 189.90 seconds\n",
      "Computing jaccard distance...\n"
     ]
    },
    {
     "name": "stderr",
     "output_type": "stream",
     "text": [
      "bruteForceKnn is deprecated; call bfKnn instead\n"
     ]
    },
    {
     "name": "stdout",
     "output_type": "stream",
     "text": [
      "Jaccard distance computing time cost: 70.93628692626953\n",
      "Extracting Online Features for vgg16 ...\n",
      "Features extracted in 188.24 seconds\n",
      "Computing jaccard distance...\n"
     ]
    },
    {
     "name": "stderr",
     "output_type": "stream",
     "text": [
      "bruteForceKnn is deprecated; call bfKnn instead\n"
     ]
    },
    {
     "name": "stdout",
     "output_type": "stream",
     "text": [
      "Jaccard distance computing time cost: 75.27554273605347\n",
      "Extracting Online Features for resnet50 ...\n",
      "Features extracted in 191.20 seconds\n",
      "Computing jaccard distance...\n"
     ]
    },
    {
     "name": "stderr",
     "output_type": "stream",
     "text": [
      "bruteForceKnn is deprecated; call bfKnn instead\n"
     ]
    },
    {
     "name": "stdout",
     "output_type": "stream",
     "text": [
      "Jaccard distance computing time cost: 68.28336071968079\n",
      "Extracting Online Features for osnet ...\n",
      "Features extracted in 189.45 seconds\n",
      "Computing jaccard distance...\n"
     ]
    },
    {
     "name": "stderr",
     "output_type": "stream",
     "text": [
      "bruteForceKnn is deprecated; call bfKnn instead\n"
     ]
    },
    {
     "name": "stdout",
     "output_type": "stream",
     "text": [
      "Jaccard distance computing time cost: 69.893070936203\n",
      "Extracting Online Features for densenet121 ...\n",
      "Features extracted in 187.57 seconds\n",
      "Computing jaccard distance...\n"
     ]
    },
    {
     "name": "stderr",
     "output_type": "stream",
     "text": [
      "bruteForceKnn is deprecated; call bfKnn instead\n"
     ]
    },
    {
     "name": "stdout",
     "output_type": "stream",
     "text": [
      "Jaccard distance computing time cost: 73.71980690956116\n",
      "Reliability: 0.044\n",
      "\u001b[32mMean Purity: 0.02052\u001b[0m\n",
      "\u001b[34mThere are 20 clusters with 4 cameras\u001b[0m\n",
      "\u001b[34mThere are 21 clusters with 5 cameras\u001b[0m\n",
      "\u001b[34mThere are 11 clusters with 6 cameras\u001b[0m\n",
      "\u001b[34mThere are 8 clusters with 7 cameras\u001b[0m\n",
      "\u001b[34mThere are 2 clusters with 8 cameras\u001b[0m\n",
      "\u001b[34mThere are 4 clusters with 9 cameras\u001b[0m\n",
      "\u001b[34mThere are 4 clusters with 10 cameras\u001b[0m\n",
      "\u001b[34mThere are 4 clusters with 11 cameras\u001b[0m\n",
      "\u001b[34mThere are 3 clusters with 12 cameras\u001b[0m\n",
      "\u001b[34mThere are 5 clusters with 13 cameras\u001b[0m\n",
      "\u001b[34mThere are 2 clusters with 16 cameras\u001b[0m\n",
      "\u001b[34mThere are 2 clusters with 17 cameras\u001b[0m\n",
      "\u001b[34mThere are 2 clusters with 18 cameras\u001b[0m\n",
      "\u001b[34mThere are 1 clusters with 19 cameras\u001b[0m\n",
      "\u001b[34mThere are 4 clusters with 20 cameras\u001b[0m\n",
      "\u001b[34mThere are 3 clusters with 22 cameras\u001b[0m\n",
      "\u001b[34mThere are 1 clusters with 23 cameras\u001b[0m\n",
      "\u001b[34mThere are 1 clusters with 24 cameras\u001b[0m\n",
      "\u001b[34mThere are 1 clusters with 25 cameras\u001b[0m\n",
      "\u001b[34mThere are 1 clusters with 26 cameras\u001b[0m\n",
      "\u001b[34mThere are 3 clusters with 28 cameras\u001b[0m\n",
      "\u001b[34mThere are 1 clusters with 35 cameras\u001b[0m\n",
      "\u001b[34mThere are 1 clusters with 37 cameras\u001b[0m\n",
      "\u001b[34mThere are 1 clusters with 40 cameras\u001b[0m\n",
      "\u001b[34mThere are 1 clusters with 42 cameras\u001b[0m\n",
      "\u001b[34mThere are 1 clusters with 45 cameras\u001b[0m\n",
      "\u001b[34mThere are 1 clusters with 46 cameras\u001b[0m\n",
      "\u001b[34mThere are 1 clusters with 49 cameras\u001b[0m\n",
      "\u001b[34mThere are 1 clusters with 50 cameras\u001b[0m\n",
      "\u001b[34mThere are 1 clusters with 63 cameras\u001b[0m\n",
      "\u001b[34mThere are 2 clusters with 68 cameras\u001b[0m\n",
      "\u001b[34mThere are 1 clusters with 168 cameras\u001b[0m\n",
      "Number of classes: 115\n",
      "\u001b[36mLearning Rate: 0.000350\u001b[0m\n",
      "encontrou modelos efficientnet. Carregando...\n",
      "encontrou modelos convnext. Carregando...\n",
      "encontrou modelos mobilenet. Carregando...\n",
      "encontrou modelos vgg16. Carregando...\n",
      "encontrou modelos resnet50. Carregando...\n",
      "encontrou modelos osnet. Carregando...\n",
      "encontrou modelos densenet121. Carregando...\n",
      "###============ Iteration number 62/90 ============###\n",
      "Extracting Online Features for efficientnet ...\n",
      "Features extracted in 190.12 seconds\n",
      "Computing jaccard distance...\n"
     ]
    },
    {
     "name": "stderr",
     "output_type": "stream",
     "text": [
      "bruteForceKnn is deprecated; call bfKnn instead\n"
     ]
    },
    {
     "name": "stdout",
     "output_type": "stream",
     "text": [
      "Jaccard distance computing time cost: 92.39064049720764\n",
      "Extracting Online Features for convnext ...\n",
      "Features extracted in 192.60 seconds\n",
      "Computing jaccard distance...\n"
     ]
    },
    {
     "name": "stderr",
     "output_type": "stream",
     "text": [
      "bruteForceKnn is deprecated; call bfKnn instead\n"
     ]
    },
    {
     "name": "stdout",
     "output_type": "stream",
     "text": [
      "Jaccard distance computing time cost: 70.80776119232178\n",
      "Extracting Online Features for mobilenet ...\n",
      "Features extracted in 187.71 seconds\n",
      "Computing jaccard distance...\n"
     ]
    },
    {
     "name": "stderr",
     "output_type": "stream",
     "text": [
      "bruteForceKnn is deprecated; call bfKnn instead\n"
     ]
    },
    {
     "name": "stdout",
     "output_type": "stream",
     "text": [
      "Jaccard distance computing time cost: 80.07049632072449\n",
      "Extracting Online Features for vgg16 ...\n",
      "Features extracted in 189.56 seconds\n",
      "Computing jaccard distance...\n"
     ]
    },
    {
     "name": "stderr",
     "output_type": "stream",
     "text": [
      "bruteForceKnn is deprecated; call bfKnn instead\n"
     ]
    },
    {
     "name": "stdout",
     "output_type": "stream",
     "text": [
      "Jaccard distance computing time cost: 71.99896025657654\n",
      "Extracting Online Features for resnet50 ...\n",
      "Features extracted in 191.79 seconds\n",
      "Computing jaccard distance...\n"
     ]
    },
    {
     "name": "stderr",
     "output_type": "stream",
     "text": [
      "bruteForceKnn is deprecated; call bfKnn instead\n"
     ]
    },
    {
     "name": "stdout",
     "output_type": "stream",
     "text": [
      "Jaccard distance computing time cost: 70.5420069694519\n",
      "Extracting Online Features for osnet ...\n",
      "Features extracted in 191.08 seconds\n",
      "Computing jaccard distance...\n"
     ]
    },
    {
     "name": "stderr",
     "output_type": "stream",
     "text": [
      "bruteForceKnn is deprecated; call bfKnn instead\n"
     ]
    },
    {
     "name": "stdout",
     "output_type": "stream",
     "text": [
      "Jaccard distance computing time cost: 71.22124981880188\n",
      "Extracting Online Features for densenet121 ...\n",
      "Features extracted in 189.48 seconds\n",
      "Computing jaccard distance...\n"
     ]
    },
    {
     "name": "stderr",
     "output_type": "stream",
     "text": [
      "bruteForceKnn is deprecated; call bfKnn instead\n"
     ]
    },
    {
     "name": "stdout",
     "output_type": "stream",
     "text": [
      "Jaccard distance computing time cost: 73.11679315567017\n",
      "Reliability: 0.044\n",
      "\u001b[32mMean Purity: 0.02052\u001b[0m\n",
      "\u001b[34mThere are 20 clusters with 4 cameras\u001b[0m\n",
      "\u001b[34mThere are 21 clusters with 5 cameras\u001b[0m\n",
      "\u001b[34mThere are 11 clusters with 6 cameras\u001b[0m\n",
      "\u001b[34mThere are 8 clusters with 7 cameras\u001b[0m\n",
      "\u001b[34mThere are 2 clusters with 8 cameras\u001b[0m\n",
      "\u001b[34mThere are 4 clusters with 9 cameras\u001b[0m\n",
      "\u001b[34mThere are 4 clusters with 10 cameras\u001b[0m\n",
      "\u001b[34mThere are 4 clusters with 11 cameras\u001b[0m\n",
      "\u001b[34mThere are 3 clusters with 12 cameras\u001b[0m\n",
      "\u001b[34mThere are 5 clusters with 13 cameras\u001b[0m\n",
      "\u001b[34mThere are 2 clusters with 16 cameras\u001b[0m\n",
      "\u001b[34mThere are 2 clusters with 17 cameras\u001b[0m\n",
      "\u001b[34mThere are 2 clusters with 18 cameras\u001b[0m\n",
      "\u001b[34mThere are 1 clusters with 19 cameras\u001b[0m\n",
      "\u001b[34mThere are 4 clusters with 20 cameras\u001b[0m\n",
      "\u001b[34mThere are 3 clusters with 22 cameras\u001b[0m\n",
      "\u001b[34mThere are 1 clusters with 23 cameras\u001b[0m\n",
      "\u001b[34mThere are 1 clusters with 24 cameras\u001b[0m\n",
      "\u001b[34mThere are 1 clusters with 25 cameras\u001b[0m\n",
      "\u001b[34mThere are 1 clusters with 26 cameras\u001b[0m\n",
      "\u001b[34mThere are 3 clusters with 28 cameras\u001b[0m\n",
      "\u001b[34mThere are 1 clusters with 35 cameras\u001b[0m\n",
      "\u001b[34mThere are 1 clusters with 37 cameras\u001b[0m\n",
      "\u001b[34mThere are 1 clusters with 40 cameras\u001b[0m\n",
      "\u001b[34mThere are 1 clusters with 42 cameras\u001b[0m\n",
      "\u001b[34mThere are 1 clusters with 45 cameras\u001b[0m\n",
      "\u001b[34mThere are 1 clusters with 46 cameras\u001b[0m\n",
      "\u001b[34mThere are 1 clusters with 49 cameras\u001b[0m\n",
      "\u001b[34mThere are 1 clusters with 50 cameras\u001b[0m\n",
      "\u001b[34mThere are 1 clusters with 63 cameras\u001b[0m\n",
      "\u001b[34mThere are 2 clusters with 68 cameras\u001b[0m\n",
      "\u001b[34mThere are 1 clusters with 168 cameras\u001b[0m\n",
      "Number of classes: 115\n",
      "\u001b[36mLearning Rate: 0.000350\u001b[0m\n",
      "encontrou modelos efficientnet. Carregando...\n",
      "encontrou modelos convnext. Carregando...\n",
      "encontrou modelos mobilenet. Carregando...\n",
      "encontrou modelos vgg16. Carregando...\n",
      "encontrou modelos resnet50. Carregando...\n",
      "encontrou modelos osnet. Carregando...\n",
      "encontrou modelos densenet121. Carregando...\n",
      "###============ Iteration number 63/90 ============###\n",
      "Extracting Online Features for efficientnet ...\n",
      "Features extracted in 190.06 seconds\n",
      "Computing jaccard distance...\n"
     ]
    },
    {
     "name": "stderr",
     "output_type": "stream",
     "text": [
      "bruteForceKnn is deprecated; call bfKnn instead\n"
     ]
    },
    {
     "name": "stdout",
     "output_type": "stream",
     "text": [
      "Jaccard distance computing time cost: 79.60135555267334\n",
      "Extracting Online Features for convnext ...\n",
      "Features extracted in 193.07 seconds\n",
      "Computing jaccard distance...\n"
     ]
    },
    {
     "name": "stderr",
     "output_type": "stream",
     "text": [
      "bruteForceKnn is deprecated; call bfKnn instead\n"
     ]
    },
    {
     "name": "stdout",
     "output_type": "stream",
     "text": [
      "Jaccard distance computing time cost: 77.04848194122314\n",
      "Extracting Online Features for mobilenet ...\n",
      "Features extracted in 186.49 seconds\n",
      "Computing jaccard distance...\n"
     ]
    },
    {
     "name": "stderr",
     "output_type": "stream",
     "text": [
      "bruteForceKnn is deprecated; call bfKnn instead\n"
     ]
    },
    {
     "name": "stdout",
     "output_type": "stream",
     "text": [
      "Jaccard distance computing time cost: 72.4069094657898\n",
      "Extracting Online Features for vgg16 ...\n",
      "Features extracted in 189.17 seconds\n",
      "Computing jaccard distance...\n"
     ]
    },
    {
     "name": "stderr",
     "output_type": "stream",
     "text": [
      "bruteForceKnn is deprecated; call bfKnn instead\n"
     ]
    },
    {
     "name": "stdout",
     "output_type": "stream",
     "text": [
      "Jaccard distance computing time cost: 71.94030809402466\n",
      "Extracting Online Features for resnet50 ...\n",
      "Features extracted in 192.65 seconds\n",
      "Computing jaccard distance...\n"
     ]
    },
    {
     "name": "stderr",
     "output_type": "stream",
     "text": [
      "bruteForceKnn is deprecated; call bfKnn instead\n"
     ]
    },
    {
     "name": "stdout",
     "output_type": "stream",
     "text": [
      "Jaccard distance computing time cost: 70.36831045150757\n",
      "Extracting Online Features for osnet ...\n",
      "Features extracted in 187.39 seconds\n",
      "Computing jaccard distance...\n"
     ]
    },
    {
     "name": "stderr",
     "output_type": "stream",
     "text": [
      "bruteForceKnn is deprecated; call bfKnn instead\n"
     ]
    },
    {
     "name": "stdout",
     "output_type": "stream",
     "text": [
      "Jaccard distance computing time cost: 71.5326280593872\n",
      "Extracting Online Features for densenet121 ...\n",
      "Features extracted in 188.27 seconds\n",
      "Computing jaccard distance...\n"
     ]
    },
    {
     "name": "stderr",
     "output_type": "stream",
     "text": [
      "bruteForceKnn is deprecated; call bfKnn instead\n"
     ]
    },
    {
     "name": "stdout",
     "output_type": "stream",
     "text": [
      "Jaccard distance computing time cost: 73.32469391822815\n",
      "Reliability: 0.044\n",
      "\u001b[32mMean Purity: 0.02052\u001b[0m\n",
      "\u001b[34mThere are 20 clusters with 4 cameras\u001b[0m\n",
      "\u001b[34mThere are 21 clusters with 5 cameras\u001b[0m\n",
      "\u001b[34mThere are 11 clusters with 6 cameras\u001b[0m\n",
      "\u001b[34mThere are 8 clusters with 7 cameras\u001b[0m\n",
      "\u001b[34mThere are 2 clusters with 8 cameras\u001b[0m\n",
      "\u001b[34mThere are 4 clusters with 9 cameras\u001b[0m\n",
      "\u001b[34mThere are 4 clusters with 10 cameras\u001b[0m\n",
      "\u001b[34mThere are 4 clusters with 11 cameras\u001b[0m\n",
      "\u001b[34mThere are 3 clusters with 12 cameras\u001b[0m\n",
      "\u001b[34mThere are 5 clusters with 13 cameras\u001b[0m\n",
      "\u001b[34mThere are 2 clusters with 16 cameras\u001b[0m\n",
      "\u001b[34mThere are 2 clusters with 17 cameras\u001b[0m\n",
      "\u001b[34mThere are 2 clusters with 18 cameras\u001b[0m\n",
      "\u001b[34mThere are 1 clusters with 19 cameras\u001b[0m\n",
      "\u001b[34mThere are 4 clusters with 20 cameras\u001b[0m\n",
      "\u001b[34mThere are 3 clusters with 22 cameras\u001b[0m\n",
      "\u001b[34mThere are 1 clusters with 23 cameras\u001b[0m\n",
      "\u001b[34mThere are 1 clusters with 24 cameras\u001b[0m\n",
      "\u001b[34mThere are 1 clusters with 25 cameras\u001b[0m\n",
      "\u001b[34mThere are 1 clusters with 26 cameras\u001b[0m\n",
      "\u001b[34mThere are 3 clusters with 28 cameras\u001b[0m\n",
      "\u001b[34mThere are 1 clusters with 35 cameras\u001b[0m\n",
      "\u001b[34mThere are 1 clusters with 37 cameras\u001b[0m\n",
      "\u001b[34mThere are 1 clusters with 40 cameras\u001b[0m\n",
      "\u001b[34mThere are 1 clusters with 42 cameras\u001b[0m\n",
      "\u001b[34mThere are 1 clusters with 45 cameras\u001b[0m\n",
      "\u001b[34mThere are 1 clusters with 46 cameras\u001b[0m\n",
      "\u001b[34mThere are 1 clusters with 49 cameras\u001b[0m\n",
      "\u001b[34mThere are 1 clusters with 50 cameras\u001b[0m\n",
      "\u001b[34mThere are 1 clusters with 63 cameras\u001b[0m\n",
      "\u001b[34mThere are 2 clusters with 68 cameras\u001b[0m\n",
      "\u001b[34mThere are 1 clusters with 168 cameras\u001b[0m\n",
      "Number of classes: 115\n",
      "\u001b[36mLearning Rate: 0.000350\u001b[0m\n",
      "encontrou modelos efficientnet. Carregando...\n",
      "encontrou modelos convnext. Carregando...\n",
      "encontrou modelos mobilenet. Carregando...\n",
      "encontrou modelos vgg16. Carregando...\n",
      "encontrou modelos resnet50. Carregando...\n",
      "encontrou modelos osnet. Carregando...\n",
      "encontrou modelos densenet121. Carregando...\n",
      "###============ Iteration number 64/90 ============###\n",
      "Extracting Online Features for efficientnet ...\n",
      "Features extracted in 188.65 seconds\n",
      "Computing jaccard distance...\n"
     ]
    },
    {
     "name": "stderr",
     "output_type": "stream",
     "text": [
      "bruteForceKnn is deprecated; call bfKnn instead\n"
     ]
    },
    {
     "name": "stdout",
     "output_type": "stream",
     "text": [
      "Jaccard distance computing time cost: 92.98617219924927\n",
      "Extracting Online Features for convnext ...\n",
      "Features extracted in 190.96 seconds\n",
      "Computing jaccard distance...\n"
     ]
    },
    {
     "name": "stderr",
     "output_type": "stream",
     "text": [
      "bruteForceKnn is deprecated; call bfKnn instead\n"
     ]
    },
    {
     "name": "stdout",
     "output_type": "stream",
     "text": [
      "Jaccard distance computing time cost: 72.9177656173706\n",
      "Extracting Online Features for mobilenet ...\n",
      "Features extracted in 189.52 seconds\n",
      "Computing jaccard distance...\n"
     ]
    },
    {
     "name": "stderr",
     "output_type": "stream",
     "text": [
      "bruteForceKnn is deprecated; call bfKnn instead\n"
     ]
    },
    {
     "name": "stdout",
     "output_type": "stream",
     "text": [
      "Jaccard distance computing time cost: 71.50007510185242\n",
      "Extracting Online Features for vgg16 ...\n",
      "Features extracted in 189.16 seconds\n",
      "Computing jaccard distance...\n"
     ]
    },
    {
     "name": "stderr",
     "output_type": "stream",
     "text": [
      "bruteForceKnn is deprecated; call bfKnn instead\n"
     ]
    },
    {
     "name": "stdout",
     "output_type": "stream",
     "text": [
      "Jaccard distance computing time cost: 72.96519088745117\n",
      "Extracting Online Features for resnet50 ...\n",
      "Features extracted in 185.89 seconds\n",
      "Computing jaccard distance...\n"
     ]
    },
    {
     "name": "stderr",
     "output_type": "stream",
     "text": [
      "bruteForceKnn is deprecated; call bfKnn instead\n"
     ]
    },
    {
     "name": "stdout",
     "output_type": "stream",
     "text": [
      "Jaccard distance computing time cost: 68.75499176979065\n",
      "Extracting Online Features for osnet ...\n",
      "Features extracted in 187.14 seconds\n",
      "Computing jaccard distance...\n"
     ]
    },
    {
     "name": "stderr",
     "output_type": "stream",
     "text": [
      "bruteForceKnn is deprecated; call bfKnn instead\n"
     ]
    },
    {
     "name": "stdout",
     "output_type": "stream",
     "text": [
      "Jaccard distance computing time cost: 70.46904301643372\n",
      "Extracting Online Features for densenet121 ...\n",
      "Features extracted in 191.42 seconds\n",
      "Computing jaccard distance...\n"
     ]
    },
    {
     "name": "stderr",
     "output_type": "stream",
     "text": [
      "bruteForceKnn is deprecated; call bfKnn instead\n"
     ]
    },
    {
     "name": "stdout",
     "output_type": "stream",
     "text": [
      "Jaccard distance computing time cost: 72.47465229034424\n",
      "Reliability: 0.044\n",
      "\u001b[32mMean Purity: 0.02052\u001b[0m\n",
      "\u001b[34mThere are 20 clusters with 4 cameras\u001b[0m\n",
      "\u001b[34mThere are 21 clusters with 5 cameras\u001b[0m\n",
      "\u001b[34mThere are 11 clusters with 6 cameras\u001b[0m\n",
      "\u001b[34mThere are 8 clusters with 7 cameras\u001b[0m\n",
      "\u001b[34mThere are 2 clusters with 8 cameras\u001b[0m\n",
      "\u001b[34mThere are 4 clusters with 9 cameras\u001b[0m\n",
      "\u001b[34mThere are 4 clusters with 10 cameras\u001b[0m\n",
      "\u001b[34mThere are 4 clusters with 11 cameras\u001b[0m\n",
      "\u001b[34mThere are 3 clusters with 12 cameras\u001b[0m\n",
      "\u001b[34mThere are 5 clusters with 13 cameras\u001b[0m\n",
      "\u001b[34mThere are 2 clusters with 16 cameras\u001b[0m\n",
      "\u001b[34mThere are 2 clusters with 17 cameras\u001b[0m\n",
      "\u001b[34mThere are 2 clusters with 18 cameras\u001b[0m\n",
      "\u001b[34mThere are 1 clusters with 19 cameras\u001b[0m\n",
      "\u001b[34mThere are 4 clusters with 20 cameras\u001b[0m\n",
      "\u001b[34mThere are 3 clusters with 22 cameras\u001b[0m\n",
      "\u001b[34mThere are 1 clusters with 23 cameras\u001b[0m\n",
      "\u001b[34mThere are 1 clusters with 24 cameras\u001b[0m\n",
      "\u001b[34mThere are 1 clusters with 25 cameras\u001b[0m\n",
      "\u001b[34mThere are 1 clusters with 26 cameras\u001b[0m\n",
      "\u001b[34mThere are 3 clusters with 28 cameras\u001b[0m\n",
      "\u001b[34mThere are 1 clusters with 35 cameras\u001b[0m\n",
      "\u001b[34mThere are 1 clusters with 37 cameras\u001b[0m\n",
      "\u001b[34mThere are 1 clusters with 40 cameras\u001b[0m\n",
      "\u001b[34mThere are 1 clusters with 42 cameras\u001b[0m\n",
      "\u001b[34mThere are 1 clusters with 45 cameras\u001b[0m\n",
      "\u001b[34mThere are 1 clusters with 46 cameras\u001b[0m\n",
      "\u001b[34mThere are 1 clusters with 49 cameras\u001b[0m\n",
      "\u001b[34mThere are 1 clusters with 50 cameras\u001b[0m\n",
      "\u001b[34mThere are 1 clusters with 63 cameras\u001b[0m\n",
      "\u001b[34mThere are 2 clusters with 68 cameras\u001b[0m\n",
      "\u001b[34mThere are 1 clusters with 168 cameras\u001b[0m\n",
      "Number of classes: 115\n",
      "\u001b[36mLearning Rate: 0.000350\u001b[0m\n",
      "encontrou modelos efficientnet. Carregando...\n",
      "encontrou modelos convnext. Carregando...\n",
      "encontrou modelos mobilenet. Carregando...\n",
      "encontrou modelos vgg16. Carregando...\n",
      "encontrou modelos resnet50. Carregando...\n",
      "encontrou modelos osnet. Carregando...\n",
      "encontrou modelos densenet121. Carregando...\n",
      "###============ Iteration number 65/90 ============###\n",
      "Extracting Online Features for efficientnet ...\n",
      "Features extracted in 193.04 seconds\n",
      "Computing jaccard distance...\n"
     ]
    },
    {
     "name": "stderr",
     "output_type": "stream",
     "text": [
      "bruteForceKnn is deprecated; call bfKnn instead\n"
     ]
    },
    {
     "name": "stdout",
     "output_type": "stream",
     "text": [
      "Jaccard distance computing time cost: 78.93143105506897\n",
      "Extracting Online Features for convnext ...\n",
      "Features extracted in 191.55 seconds\n",
      "Computing jaccard distance...\n"
     ]
    },
    {
     "name": "stderr",
     "output_type": "stream",
     "text": [
      "bruteForceKnn is deprecated; call bfKnn instead\n"
     ]
    },
    {
     "name": "stdout",
     "output_type": "stream",
     "text": [
      "Jaccard distance computing time cost: 71.91974973678589\n",
      "Extracting Online Features for mobilenet ...\n",
      "Features extracted in 190.90 seconds\n",
      "Computing jaccard distance...\n"
     ]
    },
    {
     "name": "stderr",
     "output_type": "stream",
     "text": [
      "bruteForceKnn is deprecated; call bfKnn instead\n"
     ]
    },
    {
     "name": "stdout",
     "output_type": "stream",
     "text": [
      "Jaccard distance computing time cost: 71.08430671691895\n",
      "Extracting Online Features for vgg16 ...\n",
      "Features extracted in 190.22 seconds\n",
      "Computing jaccard distance...\n"
     ]
    },
    {
     "name": "stderr",
     "output_type": "stream",
     "text": [
      "bruteForceKnn is deprecated; call bfKnn instead\n"
     ]
    },
    {
     "name": "stdout",
     "output_type": "stream",
     "text": [
      "Jaccard distance computing time cost: 71.92213225364685\n",
      "Extracting Online Features for resnet50 ...\n",
      "Features extracted in 190.80 seconds\n",
      "Computing jaccard distance...\n"
     ]
    },
    {
     "name": "stderr",
     "output_type": "stream",
     "text": [
      "bruteForceKnn is deprecated; call bfKnn instead\n"
     ]
    },
    {
     "name": "stdout",
     "output_type": "stream",
     "text": [
      "Jaccard distance computing time cost: 69.4463722705841\n",
      "Extracting Online Features for osnet ...\n",
      "Features extracted in 190.01 seconds\n",
      "Computing jaccard distance...\n"
     ]
    },
    {
     "name": "stderr",
     "output_type": "stream",
     "text": [
      "bruteForceKnn is deprecated; call bfKnn instead\n"
     ]
    },
    {
     "name": "stdout",
     "output_type": "stream",
     "text": [
      "Jaccard distance computing time cost: 71.46667838096619\n",
      "Extracting Online Features for densenet121 ...\n",
      "Features extracted in 191.47 seconds\n",
      "Computing jaccard distance...\n"
     ]
    },
    {
     "name": "stderr",
     "output_type": "stream",
     "text": [
      "bruteForceKnn is deprecated; call bfKnn instead\n"
     ]
    },
    {
     "name": "stdout",
     "output_type": "stream",
     "text": [
      "Jaccard distance computing time cost: 78.96097564697266\n",
      "Reliability: 0.044\n",
      "\u001b[32mMean Purity: 0.02052\u001b[0m\n",
      "\u001b[34mThere are 20 clusters with 4 cameras\u001b[0m\n",
      "\u001b[34mThere are 21 clusters with 5 cameras\u001b[0m\n",
      "\u001b[34mThere are 11 clusters with 6 cameras\u001b[0m\n",
      "\u001b[34mThere are 8 clusters with 7 cameras\u001b[0m\n",
      "\u001b[34mThere are 2 clusters with 8 cameras\u001b[0m\n",
      "\u001b[34mThere are 4 clusters with 9 cameras\u001b[0m\n",
      "\u001b[34mThere are 4 clusters with 10 cameras\u001b[0m\n",
      "\u001b[34mThere are 4 clusters with 11 cameras\u001b[0m\n",
      "\u001b[34mThere are 3 clusters with 12 cameras\u001b[0m\n",
      "\u001b[34mThere are 5 clusters with 13 cameras\u001b[0m\n",
      "\u001b[34mThere are 2 clusters with 16 cameras\u001b[0m\n",
      "\u001b[34mThere are 2 clusters with 17 cameras\u001b[0m\n",
      "\u001b[34mThere are 2 clusters with 18 cameras\u001b[0m\n",
      "\u001b[34mThere are 1 clusters with 19 cameras\u001b[0m\n",
      "\u001b[34mThere are 4 clusters with 20 cameras\u001b[0m\n",
      "\u001b[34mThere are 3 clusters with 22 cameras\u001b[0m\n",
      "\u001b[34mThere are 1 clusters with 23 cameras\u001b[0m\n",
      "\u001b[34mThere are 1 clusters with 24 cameras\u001b[0m\n",
      "\u001b[34mThere are 1 clusters with 25 cameras\u001b[0m\n",
      "\u001b[34mThere are 1 clusters with 26 cameras\u001b[0m\n",
      "\u001b[34mThere are 3 clusters with 28 cameras\u001b[0m\n",
      "\u001b[34mThere are 1 clusters with 35 cameras\u001b[0m\n",
      "\u001b[34mThere are 1 clusters with 37 cameras\u001b[0m\n",
      "\u001b[34mThere are 1 clusters with 40 cameras\u001b[0m\n",
      "\u001b[34mThere are 1 clusters with 42 cameras\u001b[0m\n",
      "\u001b[34mThere are 1 clusters with 45 cameras\u001b[0m\n",
      "\u001b[34mThere are 1 clusters with 46 cameras\u001b[0m\n",
      "\u001b[34mThere are 1 clusters with 49 cameras\u001b[0m\n",
      "\u001b[34mThere are 1 clusters with 50 cameras\u001b[0m\n",
      "\u001b[34mThere are 1 clusters with 63 cameras\u001b[0m\n",
      "\u001b[34mThere are 2 clusters with 68 cameras\u001b[0m\n",
      "\u001b[34mThere are 1 clusters with 168 cameras\u001b[0m\n",
      "Number of classes: 115\n",
      "\u001b[36mLearning Rate: 0.000350\u001b[0m\n",
      "encontrou modelos efficientnet. Carregando...\n",
      "encontrou modelos convnext. Carregando...\n",
      "encontrou modelos mobilenet. Carregando...\n",
      "encontrou modelos vgg16. Carregando...\n",
      "encontrou modelos resnet50. Carregando...\n",
      "encontrou modelos osnet. Carregando...\n",
      "encontrou modelos densenet121. Carregando...\n",
      "\u001b[33mValidating online efficientnet ...\u001b[0m\n",
      "Features extracted in 59.98 seconds\n",
      "Features extracted in 118.50 seconds\n",
      "Computing CMC and mAP ...\n",
      "** Results **\n",
      "mAP: 66.96%\n",
      "CMC curve\n",
      "Rank-1  : 49.76%\n",
      "Rank-5  : 88.29%\n",
      "Rank-10 : 96.33%\n",
      "Rank-20 : 99.32%\n",
      "\u001b[33mValidating momentum efficientnet ...\u001b[0m\n",
      "Features extracted in 59.17 seconds\n",
      "Features extracted in 115.73 seconds\n",
      "Computing CMC and mAP ...\n",
      "** Results **\n",
      "mAP: 66.33%\n",
      "CMC curve\n",
      "Rank-1  : 47.72%\n",
      "Rank-5  : 83.15%\n",
      "Rank-10 : 91.82%\n",
      "Rank-20 : 96.73%\n",
      "\u001b[33mValidating online convnext ...\u001b[0m\n",
      "Features extracted in 59.28 seconds\n",
      "Features extracted in 119.56 seconds\n",
      "Computing CMC and mAP ...\n",
      "** Results **\n",
      "mAP: 65.77%\n",
      "CMC curve\n",
      "Rank-1  : 46.59%\n",
      "Rank-5  : 75.46%\n",
      "Rank-10 : 86.74%\n",
      "Rank-20 : 94.66%\n",
      "\u001b[33mValidating momentum convnext ...\u001b[0m\n",
      "Features extracted in 58.48 seconds\n",
      "Features extracted in 118.12 seconds\n",
      "Computing CMC and mAP ...\n",
      "** Results **\n",
      "mAP: 64.96%\n",
      "CMC curve\n",
      "Rank-1  : 45.63%\n",
      "Rank-5  : 75.04%\n",
      "Rank-10 : 87.30%\n",
      "Rank-20 : 95.01%\n",
      "\u001b[33mValidating online mobilenet ...\u001b[0m\n",
      "Features extracted in 60.75 seconds\n",
      "Features extracted in 115.40 seconds\n",
      "Computing CMC and mAP ...\n",
      "** Results **\n",
      "mAP: 66.23%\n",
      "CMC curve\n",
      "Rank-1  : 51.24%\n",
      "Rank-5  : 86.31%\n",
      "Rank-10 : 94.85%\n",
      "Rank-20 : 99.15%\n",
      "\u001b[33mValidating momentum mobilenet ...\u001b[0m\n",
      "Features extracted in 59.08 seconds\n",
      "Features extracted in 117.30 seconds\n",
      "Computing CMC and mAP ...\n",
      "** Results **\n",
      "mAP: 66.41%\n",
      "CMC curve\n",
      "Rank-1  : 52.73%\n",
      "Rank-5  : 85.40%\n",
      "Rank-10 : 93.79%\n",
      "Rank-20 : 98.57%\n",
      "\u001b[33mValidating online vgg16 ...\u001b[0m\n",
      "Features extracted in 60.42 seconds\n",
      "Features extracted in 119.89 seconds\n",
      "Computing CMC and mAP ...\n",
      "** Results **\n",
      "mAP: 65.47%\n",
      "CMC curve\n",
      "Rank-1  : 43.56%\n",
      "Rank-5  : 75.41%\n",
      "Rank-10 : 85.98%\n",
      "Rank-20 : 92.95%\n",
      "\u001b[33mValidating momentum vgg16 ...\u001b[0m\n",
      "Features extracted in 59.25 seconds\n",
      "Features extracted in 119.40 seconds\n",
      "Computing CMC and mAP ...\n",
      "** Results **\n",
      "mAP: 65.67%\n",
      "CMC curve\n",
      "Rank-1  : 45.75%\n",
      "Rank-5  : 82.00%\n",
      "Rank-10 : 90.62%\n",
      "Rank-20 : 96.36%\n",
      "\u001b[33mValidating online resnet50 ...\u001b[0m\n",
      "Features extracted in 59.91 seconds\n",
      "Features extracted in 118.55 seconds\n",
      "Computing CMC and mAP ...\n",
      "** Results **\n",
      "mAP: 65.64%\n",
      "CMC curve\n",
      "Rank-1  : 44.24%\n",
      "Rank-5  : 67.84%\n",
      "Rank-10 : 75.44%\n",
      "Rank-20 : 82.42%\n",
      "\u001b[33mValidating momentum resnet50 ...\u001b[0m\n",
      "Features extracted in 60.69 seconds\n",
      "Features extracted in 117.74 seconds\n",
      "Computing CMC and mAP ...\n",
      "** Results **\n",
      "mAP: 64.94%\n",
      "CMC curve\n",
      "Rank-1  : 43.33%\n",
      "Rank-5  : 71.52%\n",
      "Rank-10 : 80.95%\n",
      "Rank-20 : 90.36%\n",
      "\u001b[33mValidating online osnet ...\u001b[0m\n",
      "Features extracted in 59.98 seconds\n",
      "Features extracted in 117.29 seconds\n",
      "Computing CMC and mAP ...\n",
      "** Results **\n",
      "mAP: 66.87%\n",
      "CMC curve\n",
      "Rank-1  : 48.11%\n",
      "Rank-5  : 84.70%\n",
      "Rank-10 : 95.19%\n",
      "Rank-20 : 99.23%\n",
      "\u001b[33mValidating momentum osnet ...\u001b[0m\n",
      "Features extracted in 61.05 seconds\n",
      "Features extracted in 118.88 seconds\n",
      "Computing CMC and mAP ...\n",
      "** Results **\n",
      "mAP: 67.06%\n",
      "CMC curve\n",
      "Rank-1  : 51.39%\n",
      "Rank-5  : 86.67%\n",
      "Rank-10 : 94.96%\n",
      "Rank-20 : 98.71%\n",
      "\u001b[33mValidating online densenet121 ...\u001b[0m\n",
      "Features extracted in 61.07 seconds\n",
      "Features extracted in 117.50 seconds\n",
      "Computing CMC and mAP ...\n",
      "** Results **\n",
      "mAP: 65.34%\n",
      "CMC curve\n",
      "Rank-1  : 45.42%\n",
      "Rank-5  : 74.47%\n",
      "Rank-10 : 84.90%\n",
      "Rank-20 : 93.93%\n",
      "\u001b[33mValidating momentum densenet121 ...\u001b[0m\n",
      "Features extracted in 61.31 seconds\n",
      "Features extracted in 118.87 seconds\n",
      "Computing CMC and mAP ...\n",
      "** Results **\n",
      "mAP: 65.71%\n",
      "CMC curve\n",
      "Rank-1  : 46.36%\n",
      "Rank-5  : 79.22%\n",
      "Rank-10 : 88.80%\n",
      "Rank-20 : 95.19%\n",
      "\u001b[33mValidating ensembled with online models ...\u001b[0m\n",
      "Computing CMC and mAP ...\n",
      "** Results **\n",
      "mAP: 65.61%\n",
      "Ranks:\n",
      "Rank-1  : 45.50%\n",
      "Rank-5  : 70.24%\n",
      "Rank-10 : 79.04%\n",
      "\u001b[33mValidating ensembled with momentum models ...\u001b[0m\n",
      "Computing CMC and mAP ...\n",
      "** Results **\n",
      "mAP: 65.36%\n",
      "Ranks:\n",
      "Rank-1  : 43.96%\n",
      "Rank-5  : 75.79%\n",
      "Rank-10 : 85.67%\n",
      "###============ Iteration number 66/90 ============###\n",
      "Extracting Online Features for efficientnet ...\n",
      "Features extracted in 190.21 seconds\n",
      "Computing jaccard distance...\n"
     ]
    },
    {
     "name": "stderr",
     "output_type": "stream",
     "text": [
      "bruteForceKnn is deprecated; call bfKnn instead\n"
     ]
    },
    {
     "name": "stdout",
     "output_type": "stream",
     "text": [
      "Jaccard distance computing time cost: 77.6880099773407\n",
      "Extracting Online Features for convnext ...\n",
      "Features extracted in 195.07 seconds\n",
      "Computing jaccard distance...\n"
     ]
    },
    {
     "name": "stderr",
     "output_type": "stream",
     "text": [
      "bruteForceKnn is deprecated; call bfKnn instead\n"
     ]
    },
    {
     "name": "stdout",
     "output_type": "stream",
     "text": [
      "Jaccard distance computing time cost: 75.36562156677246\n",
      "Extracting Online Features for mobilenet ...\n",
      "Features extracted in 191.95 seconds\n",
      "Computing jaccard distance...\n"
     ]
    },
    {
     "name": "stderr",
     "output_type": "stream",
     "text": [
      "bruteForceKnn is deprecated; call bfKnn instead\n"
     ]
    },
    {
     "name": "stdout",
     "output_type": "stream",
     "text": [
      "Jaccard distance computing time cost: 70.85462403297424\n",
      "Extracting Online Features for vgg16 ...\n",
      "Features extracted in 189.12 seconds\n",
      "Computing jaccard distance...\n"
     ]
    },
    {
     "name": "stderr",
     "output_type": "stream",
     "text": [
      "bruteForceKnn is deprecated; call bfKnn instead\n"
     ]
    },
    {
     "name": "stdout",
     "output_type": "stream",
     "text": [
      "Jaccard distance computing time cost: 74.65210342407227\n",
      "Extracting Online Features for resnet50 ...\n",
      "Features extracted in 193.90 seconds\n",
      "Computing jaccard distance...\n"
     ]
    },
    {
     "name": "stderr",
     "output_type": "stream",
     "text": [
      "bruteForceKnn is deprecated; call bfKnn instead\n"
     ]
    },
    {
     "name": "stdout",
     "output_type": "stream",
     "text": [
      "Jaccard distance computing time cost: 70.12492322921753\n",
      "Extracting Online Features for osnet ...\n",
      "Features extracted in 190.66 seconds\n",
      "Computing jaccard distance...\n"
     ]
    },
    {
     "name": "stderr",
     "output_type": "stream",
     "text": [
      "bruteForceKnn is deprecated; call bfKnn instead\n"
     ]
    },
    {
     "name": "stdout",
     "output_type": "stream",
     "text": [
      "Jaccard distance computing time cost: 72.07547736167908\n",
      "Extracting Online Features for densenet121 ...\n",
      "Features extracted in 193.57 seconds\n",
      "Computing jaccard distance...\n"
     ]
    },
    {
     "name": "stderr",
     "output_type": "stream",
     "text": [
      "bruteForceKnn is deprecated; call bfKnn instead\n"
     ]
    },
    {
     "name": "stdout",
     "output_type": "stream",
     "text": [
      "Jaccard distance computing time cost: 80.6461033821106\n",
      "Reliability: 0.044\n",
      "\u001b[32mMean Purity: 0.02052\u001b[0m\n",
      "\u001b[34mThere are 20 clusters with 4 cameras\u001b[0m\n",
      "\u001b[34mThere are 21 clusters with 5 cameras\u001b[0m\n",
      "\u001b[34mThere are 11 clusters with 6 cameras\u001b[0m\n",
      "\u001b[34mThere are 8 clusters with 7 cameras\u001b[0m\n",
      "\u001b[34mThere are 2 clusters with 8 cameras\u001b[0m\n",
      "\u001b[34mThere are 4 clusters with 9 cameras\u001b[0m\n",
      "\u001b[34mThere are 4 clusters with 10 cameras\u001b[0m\n",
      "\u001b[34mThere are 4 clusters with 11 cameras\u001b[0m\n",
      "\u001b[34mThere are 3 clusters with 12 cameras\u001b[0m\n",
      "\u001b[34mThere are 5 clusters with 13 cameras\u001b[0m\n",
      "\u001b[34mThere are 2 clusters with 16 cameras\u001b[0m\n",
      "\u001b[34mThere are 2 clusters with 17 cameras\u001b[0m\n",
      "\u001b[34mThere are 2 clusters with 18 cameras\u001b[0m\n",
      "\u001b[34mThere are 1 clusters with 19 cameras\u001b[0m\n",
      "\u001b[34mThere are 4 clusters with 20 cameras\u001b[0m\n",
      "\u001b[34mThere are 3 clusters with 22 cameras\u001b[0m\n",
      "\u001b[34mThere are 1 clusters with 23 cameras\u001b[0m\n",
      "\u001b[34mThere are 1 clusters with 24 cameras\u001b[0m\n",
      "\u001b[34mThere are 1 clusters with 25 cameras\u001b[0m\n",
      "\u001b[34mThere are 1 clusters with 26 cameras\u001b[0m\n",
      "\u001b[34mThere are 3 clusters with 28 cameras\u001b[0m\n",
      "\u001b[34mThere are 1 clusters with 35 cameras\u001b[0m\n",
      "\u001b[34mThere are 1 clusters with 37 cameras\u001b[0m\n",
      "\u001b[34mThere are 1 clusters with 40 cameras\u001b[0m\n",
      "\u001b[34mThere are 1 clusters with 42 cameras\u001b[0m\n",
      "\u001b[34mThere are 1 clusters with 45 cameras\u001b[0m\n",
      "\u001b[34mThere are 1 clusters with 46 cameras\u001b[0m\n",
      "\u001b[34mThere are 1 clusters with 49 cameras\u001b[0m\n",
      "\u001b[34mThere are 1 clusters with 50 cameras\u001b[0m\n",
      "\u001b[34mThere are 1 clusters with 63 cameras\u001b[0m\n",
      "\u001b[34mThere are 2 clusters with 68 cameras\u001b[0m\n",
      "\u001b[34mThere are 1 clusters with 168 cameras\u001b[0m\n",
      "Number of classes: 115\n",
      "\u001b[36mLearning Rate: 0.000350\u001b[0m\n",
      "encontrou modelos efficientnet. Carregando...\n",
      "encontrou modelos convnext. Carregando...\n",
      "encontrou modelos mobilenet. Carregando...\n",
      "encontrou modelos vgg16. Carregando...\n",
      "encontrou modelos resnet50. Carregando...\n",
      "encontrou modelos osnet. Carregando...\n",
      "encontrou modelos densenet121. Carregando...\n",
      "###============ Iteration number 67/90 ============###\n",
      "Extracting Online Features for efficientnet ...\n",
      "Features extracted in 193.28 seconds\n",
      "Computing jaccard distance...\n"
     ]
    },
    {
     "name": "stderr",
     "output_type": "stream",
     "text": [
      "bruteForceKnn is deprecated; call bfKnn instead\n"
     ]
    },
    {
     "name": "stdout",
     "output_type": "stream",
     "text": [
      "Jaccard distance computing time cost: 82.53222370147705\n",
      "Extracting Online Features for convnext ...\n",
      "Features extracted in 188.93 seconds\n",
      "Computing jaccard distance...\n"
     ]
    },
    {
     "name": "stderr",
     "output_type": "stream",
     "text": [
      "bruteForceKnn is deprecated; call bfKnn instead\n"
     ]
    },
    {
     "name": "stdout",
     "output_type": "stream",
     "text": [
      "Jaccard distance computing time cost: 71.2805871963501\n",
      "Extracting Online Features for mobilenet ...\n",
      "Features extracted in 188.13 seconds\n",
      "Computing jaccard distance...\n"
     ]
    },
    {
     "name": "stderr",
     "output_type": "stream",
     "text": [
      "bruteForceKnn is deprecated; call bfKnn instead\n"
     ]
    },
    {
     "name": "stdout",
     "output_type": "stream",
     "text": [
      "Jaccard distance computing time cost: 80.43528938293457\n",
      "Extracting Online Features for vgg16 ...\n",
      "Features extracted in 191.52 seconds\n",
      "Computing jaccard distance...\n"
     ]
    },
    {
     "name": "stderr",
     "output_type": "stream",
     "text": [
      "bruteForceKnn is deprecated; call bfKnn instead\n"
     ]
    },
    {
     "name": "stdout",
     "output_type": "stream",
     "text": [
      "Jaccard distance computing time cost: 72.13513350486755\n",
      "Extracting Online Features for resnet50 ...\n",
      "Features extracted in 191.86 seconds\n",
      "Computing jaccard distance...\n"
     ]
    },
    {
     "name": "stderr",
     "output_type": "stream",
     "text": [
      "bruteForceKnn is deprecated; call bfKnn instead\n"
     ]
    },
    {
     "name": "stdout",
     "output_type": "stream",
     "text": [
      "Jaccard distance computing time cost: 68.60412907600403\n",
      "Extracting Online Features for osnet ...\n",
      "Features extracted in 188.35 seconds\n",
      "Computing jaccard distance...\n"
     ]
    },
    {
     "name": "stderr",
     "output_type": "stream",
     "text": [
      "bruteForceKnn is deprecated; call bfKnn instead\n"
     ]
    },
    {
     "name": "stdout",
     "output_type": "stream",
     "text": [
      "Jaccard distance computing time cost: 72.82497096061707\n",
      "Extracting Online Features for densenet121 ...\n",
      "Features extracted in 186.37 seconds\n",
      "Computing jaccard distance...\n"
     ]
    },
    {
     "name": "stderr",
     "output_type": "stream",
     "text": [
      "bruteForceKnn is deprecated; call bfKnn instead\n"
     ]
    },
    {
     "name": "stdout",
     "output_type": "stream",
     "text": [
      "Jaccard distance computing time cost: 71.32954621315002\n",
      "Reliability: 0.044\n",
      "\u001b[32mMean Purity: 0.02052\u001b[0m\n",
      "\u001b[34mThere are 20 clusters with 4 cameras\u001b[0m\n",
      "\u001b[34mThere are 21 clusters with 5 cameras\u001b[0m\n",
      "\u001b[34mThere are 11 clusters with 6 cameras\u001b[0m\n",
      "\u001b[34mThere are 8 clusters with 7 cameras\u001b[0m\n",
      "\u001b[34mThere are 2 clusters with 8 cameras\u001b[0m\n",
      "\u001b[34mThere are 4 clusters with 9 cameras\u001b[0m\n",
      "\u001b[34mThere are 4 clusters with 10 cameras\u001b[0m\n",
      "\u001b[34mThere are 4 clusters with 11 cameras\u001b[0m\n",
      "\u001b[34mThere are 3 clusters with 12 cameras\u001b[0m\n",
      "\u001b[34mThere are 5 clusters with 13 cameras\u001b[0m\n",
      "\u001b[34mThere are 2 clusters with 16 cameras\u001b[0m\n",
      "\u001b[34mThere are 2 clusters with 17 cameras\u001b[0m\n",
      "\u001b[34mThere are 2 clusters with 18 cameras\u001b[0m\n",
      "\u001b[34mThere are 1 clusters with 19 cameras\u001b[0m\n",
      "\u001b[34mThere are 4 clusters with 20 cameras\u001b[0m\n",
      "\u001b[34mThere are 3 clusters with 22 cameras\u001b[0m\n",
      "\u001b[34mThere are 1 clusters with 23 cameras\u001b[0m\n",
      "\u001b[34mThere are 1 clusters with 24 cameras\u001b[0m\n",
      "\u001b[34mThere are 1 clusters with 25 cameras\u001b[0m\n",
      "\u001b[34mThere are 1 clusters with 26 cameras\u001b[0m\n",
      "\u001b[34mThere are 3 clusters with 28 cameras\u001b[0m\n",
      "\u001b[34mThere are 1 clusters with 35 cameras\u001b[0m\n",
      "\u001b[34mThere are 1 clusters with 37 cameras\u001b[0m\n",
      "\u001b[34mThere are 1 clusters with 40 cameras\u001b[0m\n",
      "\u001b[34mThere are 1 clusters with 42 cameras\u001b[0m\n",
      "\u001b[34mThere are 1 clusters with 45 cameras\u001b[0m\n",
      "\u001b[34mThere are 1 clusters with 46 cameras\u001b[0m\n",
      "\u001b[34mThere are 1 clusters with 49 cameras\u001b[0m\n",
      "\u001b[34mThere are 1 clusters with 50 cameras\u001b[0m\n",
      "\u001b[34mThere are 1 clusters with 63 cameras\u001b[0m\n",
      "\u001b[34mThere are 2 clusters with 68 cameras\u001b[0m\n",
      "\u001b[34mThere are 1 clusters with 168 cameras\u001b[0m\n",
      "Number of classes: 115\n",
      "\u001b[36mLearning Rate: 0.000350\u001b[0m\n",
      "encontrou modelos efficientnet. Carregando...\n",
      "encontrou modelos convnext. Carregando...\n",
      "encontrou modelos mobilenet. Carregando...\n",
      "encontrou modelos vgg16. Carregando...\n",
      "encontrou modelos resnet50. Carregando...\n",
      "encontrou modelos osnet. Carregando...\n",
      "encontrou modelos densenet121. Carregando...\n",
      "###============ Iteration number 68/90 ============###\n",
      "Extracting Online Features for efficientnet ...\n",
      "Features extracted in 188.35 seconds\n",
      "Computing jaccard distance...\n"
     ]
    },
    {
     "name": "stderr",
     "output_type": "stream",
     "text": [
      "bruteForceKnn is deprecated; call bfKnn instead\n"
     ]
    },
    {
     "name": "stdout",
     "output_type": "stream",
     "text": [
      "Jaccard distance computing time cost: 80.59706902503967\n",
      "Extracting Online Features for convnext ...\n",
      "Features extracted in 194.15 seconds\n",
      "Computing jaccard distance...\n"
     ]
    },
    {
     "name": "stderr",
     "output_type": "stream",
     "text": [
      "bruteForceKnn is deprecated; call bfKnn instead\n"
     ]
    },
    {
     "name": "stdout",
     "output_type": "stream",
     "text": [
      "Jaccard distance computing time cost: 71.22343730926514\n",
      "Extracting Online Features for mobilenet ...\n",
      "Features extracted in 189.29 seconds\n",
      "Computing jaccard distance...\n"
     ]
    },
    {
     "name": "stderr",
     "output_type": "stream",
     "text": [
      "bruteForceKnn is deprecated; call bfKnn instead\n"
     ]
    },
    {
     "name": "stdout",
     "output_type": "stream",
     "text": [
      "Jaccard distance computing time cost: 70.08718705177307\n",
      "Extracting Online Features for vgg16 ...\n",
      "Features extracted in 188.58 seconds\n",
      "Computing jaccard distance...\n"
     ]
    },
    {
     "name": "stderr",
     "output_type": "stream",
     "text": [
      "bruteForceKnn is deprecated; call bfKnn instead\n"
     ]
    },
    {
     "name": "stdout",
     "output_type": "stream",
     "text": [
      "Jaccard distance computing time cost: 70.79730248451233\n",
      "Extracting Online Features for resnet50 ...\n",
      "Features extracted in 187.33 seconds\n",
      "Computing jaccard distance...\n"
     ]
    },
    {
     "name": "stderr",
     "output_type": "stream",
     "text": [
      "bruteForceKnn is deprecated; call bfKnn instead\n"
     ]
    },
    {
     "name": "stdout",
     "output_type": "stream",
     "text": [
      "Jaccard distance computing time cost: 69.08684253692627\n",
      "Extracting Online Features for osnet ...\n",
      "Features extracted in 191.68 seconds\n",
      "Computing jaccard distance...\n"
     ]
    },
    {
     "name": "stderr",
     "output_type": "stream",
     "text": [
      "bruteForceKnn is deprecated; call bfKnn instead\n"
     ]
    },
    {
     "name": "stdout",
     "output_type": "stream",
     "text": [
      "Jaccard distance computing time cost: 72.44349384307861\n",
      "Extracting Online Features for densenet121 ...\n",
      "Features extracted in 191.89 seconds\n",
      "Computing jaccard distance...\n"
     ]
    },
    {
     "name": "stderr",
     "output_type": "stream",
     "text": [
      "bruteForceKnn is deprecated; call bfKnn instead\n"
     ]
    },
    {
     "name": "stdout",
     "output_type": "stream",
     "text": [
      "Jaccard distance computing time cost: 72.83533120155334\n",
      "Reliability: 0.044\n",
      "\u001b[32mMean Purity: 0.02052\u001b[0m\n",
      "\u001b[34mThere are 20 clusters with 4 cameras\u001b[0m\n",
      "\u001b[34mThere are 21 clusters with 5 cameras\u001b[0m\n",
      "\u001b[34mThere are 11 clusters with 6 cameras\u001b[0m\n",
      "\u001b[34mThere are 8 clusters with 7 cameras\u001b[0m\n",
      "\u001b[34mThere are 2 clusters with 8 cameras\u001b[0m\n",
      "\u001b[34mThere are 4 clusters with 9 cameras\u001b[0m\n",
      "\u001b[34mThere are 4 clusters with 10 cameras\u001b[0m\n",
      "\u001b[34mThere are 4 clusters with 11 cameras\u001b[0m\n",
      "\u001b[34mThere are 3 clusters with 12 cameras\u001b[0m\n",
      "\u001b[34mThere are 5 clusters with 13 cameras\u001b[0m\n",
      "\u001b[34mThere are 2 clusters with 16 cameras\u001b[0m\n",
      "\u001b[34mThere are 2 clusters with 17 cameras\u001b[0m\n",
      "\u001b[34mThere are 2 clusters with 18 cameras\u001b[0m\n",
      "\u001b[34mThere are 1 clusters with 19 cameras\u001b[0m\n",
      "\u001b[34mThere are 4 clusters with 20 cameras\u001b[0m\n",
      "\u001b[34mThere are 3 clusters with 22 cameras\u001b[0m\n",
      "\u001b[34mThere are 1 clusters with 23 cameras\u001b[0m\n",
      "\u001b[34mThere are 1 clusters with 24 cameras\u001b[0m\n",
      "\u001b[34mThere are 1 clusters with 25 cameras\u001b[0m\n",
      "\u001b[34mThere are 1 clusters with 26 cameras\u001b[0m\n",
      "\u001b[34mThere are 3 clusters with 28 cameras\u001b[0m\n",
      "\u001b[34mThere are 1 clusters with 35 cameras\u001b[0m\n",
      "\u001b[34mThere are 1 clusters with 37 cameras\u001b[0m\n",
      "\u001b[34mThere are 1 clusters with 40 cameras\u001b[0m\n",
      "\u001b[34mThere are 1 clusters with 42 cameras\u001b[0m\n",
      "\u001b[34mThere are 1 clusters with 45 cameras\u001b[0m\n",
      "\u001b[34mThere are 1 clusters with 46 cameras\u001b[0m\n",
      "\u001b[34mThere are 1 clusters with 49 cameras\u001b[0m\n",
      "\u001b[34mThere are 1 clusters with 50 cameras\u001b[0m\n",
      "\u001b[34mThere are 1 clusters with 63 cameras\u001b[0m\n",
      "\u001b[34mThere are 2 clusters with 68 cameras\u001b[0m\n",
      "\u001b[34mThere are 1 clusters with 168 cameras\u001b[0m\n",
      "Number of classes: 115\n",
      "\u001b[36mLearning Rate: 0.000350\u001b[0m\n",
      "encontrou modelos efficientnet. Carregando...\n",
      "encontrou modelos convnext. Carregando...\n",
      "encontrou modelos mobilenet. Carregando...\n",
      "encontrou modelos vgg16. Carregando...\n",
      "encontrou modelos resnet50. Carregando...\n",
      "encontrou modelos osnet. Carregando...\n",
      "encontrou modelos densenet121. Carregando...\n",
      "###============ Iteration number 69/90 ============###\n",
      "Extracting Online Features for efficientnet ...\n",
      "Features extracted in 190.03 seconds\n",
      "Computing jaccard distance...\n"
     ]
    },
    {
     "name": "stderr",
     "output_type": "stream",
     "text": [
      "bruteForceKnn is deprecated; call bfKnn instead\n"
     ]
    },
    {
     "name": "stdout",
     "output_type": "stream",
     "text": [
      "Jaccard distance computing time cost: 86.85863137245178\n",
      "Extracting Online Features for convnext ...\n",
      "Features extracted in 189.44 seconds\n",
      "Computing jaccard distance...\n"
     ]
    },
    {
     "name": "stderr",
     "output_type": "stream",
     "text": [
      "bruteForceKnn is deprecated; call bfKnn instead\n"
     ]
    },
    {
     "name": "stdout",
     "output_type": "stream",
     "text": [
      "Jaccard distance computing time cost: 71.61217212677002\n",
      "Extracting Online Features for mobilenet ...\n",
      "Features extracted in 188.63 seconds\n",
      "Computing jaccard distance...\n"
     ]
    },
    {
     "name": "stderr",
     "output_type": "stream",
     "text": [
      "bruteForceKnn is deprecated; call bfKnn instead\n"
     ]
    },
    {
     "name": "stdout",
     "output_type": "stream",
     "text": [
      "Jaccard distance computing time cost: 70.23846006393433\n",
      "Extracting Online Features for vgg16 ...\n",
      "Features extracted in 190.54 seconds\n",
      "Computing jaccard distance...\n"
     ]
    },
    {
     "name": "stderr",
     "output_type": "stream",
     "text": [
      "bruteForceKnn is deprecated; call bfKnn instead\n"
     ]
    },
    {
     "name": "stdout",
     "output_type": "stream",
     "text": [
      "Jaccard distance computing time cost: 70.87986087799072\n",
      "Extracting Online Features for resnet50 ...\n",
      "Features extracted in 190.74 seconds\n",
      "Computing jaccard distance...\n"
     ]
    },
    {
     "name": "stderr",
     "output_type": "stream",
     "text": [
      "bruteForceKnn is deprecated; call bfKnn instead\n"
     ]
    },
    {
     "name": "stdout",
     "output_type": "stream",
     "text": [
      "Jaccard distance computing time cost: 78.51923704147339\n",
      "Extracting Online Features for osnet ...\n",
      "Features extracted in 189.19 seconds\n",
      "Computing jaccard distance...\n"
     ]
    },
    {
     "name": "stderr",
     "output_type": "stream",
     "text": [
      "bruteForceKnn is deprecated; call bfKnn instead\n"
     ]
    },
    {
     "name": "stdout",
     "output_type": "stream",
     "text": [
      "Jaccard distance computing time cost: 70.05686044692993\n",
      "Extracting Online Features for densenet121 ...\n",
      "Features extracted in 188.61 seconds\n",
      "Computing jaccard distance...\n"
     ]
    },
    {
     "name": "stderr",
     "output_type": "stream",
     "text": [
      "bruteForceKnn is deprecated; call bfKnn instead\n"
     ]
    },
    {
     "name": "stdout",
     "output_type": "stream",
     "text": [
      "Jaccard distance computing time cost: 72.94792985916138\n",
      "Reliability: 0.044\n",
      "\u001b[32mMean Purity: 0.02052\u001b[0m\n",
      "\u001b[34mThere are 20 clusters with 4 cameras\u001b[0m\n",
      "\u001b[34mThere are 21 clusters with 5 cameras\u001b[0m\n",
      "\u001b[34mThere are 11 clusters with 6 cameras\u001b[0m\n",
      "\u001b[34mThere are 8 clusters with 7 cameras\u001b[0m\n",
      "\u001b[34mThere are 2 clusters with 8 cameras\u001b[0m\n",
      "\u001b[34mThere are 4 clusters with 9 cameras\u001b[0m\n",
      "\u001b[34mThere are 4 clusters with 10 cameras\u001b[0m\n",
      "\u001b[34mThere are 4 clusters with 11 cameras\u001b[0m\n",
      "\u001b[34mThere are 3 clusters with 12 cameras\u001b[0m\n",
      "\u001b[34mThere are 5 clusters with 13 cameras\u001b[0m\n",
      "\u001b[34mThere are 2 clusters with 16 cameras\u001b[0m\n",
      "\u001b[34mThere are 2 clusters with 17 cameras\u001b[0m\n",
      "\u001b[34mThere are 2 clusters with 18 cameras\u001b[0m\n",
      "\u001b[34mThere are 1 clusters with 19 cameras\u001b[0m\n",
      "\u001b[34mThere are 4 clusters with 20 cameras\u001b[0m\n",
      "\u001b[34mThere are 3 clusters with 22 cameras\u001b[0m\n",
      "\u001b[34mThere are 1 clusters with 23 cameras\u001b[0m\n",
      "\u001b[34mThere are 1 clusters with 24 cameras\u001b[0m\n",
      "\u001b[34mThere are 1 clusters with 25 cameras\u001b[0m\n",
      "\u001b[34mThere are 1 clusters with 26 cameras\u001b[0m\n",
      "\u001b[34mThere are 3 clusters with 28 cameras\u001b[0m\n",
      "\u001b[34mThere are 1 clusters with 35 cameras\u001b[0m\n",
      "\u001b[34mThere are 1 clusters with 37 cameras\u001b[0m\n",
      "\u001b[34mThere are 1 clusters with 40 cameras\u001b[0m\n",
      "\u001b[34mThere are 1 clusters with 42 cameras\u001b[0m\n",
      "\u001b[34mThere are 1 clusters with 45 cameras\u001b[0m\n",
      "\u001b[34mThere are 1 clusters with 46 cameras\u001b[0m\n",
      "\u001b[34mThere are 1 clusters with 49 cameras\u001b[0m\n",
      "\u001b[34mThere are 1 clusters with 50 cameras\u001b[0m\n",
      "\u001b[34mThere are 1 clusters with 63 cameras\u001b[0m\n",
      "\u001b[34mThere are 2 clusters with 68 cameras\u001b[0m\n",
      "\u001b[34mThere are 1 clusters with 168 cameras\u001b[0m\n",
      "Number of classes: 115\n",
      "\u001b[36mLearning Rate: 0.000350\u001b[0m\n",
      "encontrou modelos efficientnet. Carregando...\n",
      "encontrou modelos convnext. Carregando...\n",
      "encontrou modelos mobilenet. Carregando...\n",
      "encontrou modelos vgg16. Carregando...\n",
      "encontrou modelos resnet50. Carregando...\n",
      "encontrou modelos osnet. Carregando...\n",
      "encontrou modelos densenet121. Carregando...\n",
      "###============ Iteration number 70/90 ============###\n",
      "Extracting Online Features for efficientnet ...\n",
      "Features extracted in 192.45 seconds\n",
      "Computing jaccard distance...\n"
     ]
    },
    {
     "name": "stderr",
     "output_type": "stream",
     "text": [
      "bruteForceKnn is deprecated; call bfKnn instead\n"
     ]
    },
    {
     "name": "stdout",
     "output_type": "stream",
     "text": [
      "Jaccard distance computing time cost: 78.28904843330383\n",
      "Extracting Online Features for convnext ...\n",
      "Features extracted in 193.31 seconds\n",
      "Computing jaccard distance...\n"
     ]
    },
    {
     "name": "stderr",
     "output_type": "stream",
     "text": [
      "bruteForceKnn is deprecated; call bfKnn instead\n"
     ]
    },
    {
     "name": "stdout",
     "output_type": "stream",
     "text": [
      "Jaccard distance computing time cost: 72.08005928993225\n",
      "Extracting Online Features for mobilenet ...\n",
      "Features extracted in 192.18 seconds\n",
      "Computing jaccard distance...\n"
     ]
    },
    {
     "name": "stderr",
     "output_type": "stream",
     "text": [
      "bruteForceKnn is deprecated; call bfKnn instead\n"
     ]
    },
    {
     "name": "stdout",
     "output_type": "stream",
     "text": [
      "Jaccard distance computing time cost: 68.608407497406\n",
      "Extracting Online Features for vgg16 ...\n",
      "Features extracted in 190.62 seconds\n",
      "Computing jaccard distance...\n"
     ]
    },
    {
     "name": "stderr",
     "output_type": "stream",
     "text": [
      "bruteForceKnn is deprecated; call bfKnn instead\n"
     ]
    },
    {
     "name": "stdout",
     "output_type": "stream",
     "text": [
      "Jaccard distance computing time cost: 71.05989623069763\n",
      "Extracting Online Features for resnet50 ...\n",
      "Features extracted in 190.45 seconds\n",
      "Computing jaccard distance...\n"
     ]
    },
    {
     "name": "stderr",
     "output_type": "stream",
     "text": [
      "bruteForceKnn is deprecated; call bfKnn instead\n"
     ]
    },
    {
     "name": "stdout",
     "output_type": "stream",
     "text": [
      "Jaccard distance computing time cost: 68.47981476783752\n",
      "Extracting Online Features for osnet ...\n",
      "Features extracted in 189.36 seconds\n",
      "Computing jaccard distance...\n"
     ]
    },
    {
     "name": "stderr",
     "output_type": "stream",
     "text": [
      "bruteForceKnn is deprecated; call bfKnn instead\n"
     ]
    },
    {
     "name": "stdout",
     "output_type": "stream",
     "text": [
      "Jaccard distance computing time cost: 73.57670760154724\n",
      "Extracting Online Features for densenet121 ...\n",
      "Features extracted in 187.35 seconds\n",
      "Computing jaccard distance...\n"
     ]
    },
    {
     "name": "stderr",
     "output_type": "stream",
     "text": [
      "bruteForceKnn is deprecated; call bfKnn instead\n"
     ]
    },
    {
     "name": "stdout",
     "output_type": "stream",
     "text": [
      "Jaccard distance computing time cost: 73.0789384841919\n",
      "Reliability: 0.044\n",
      "\u001b[32mMean Purity: 0.02052\u001b[0m\n",
      "\u001b[34mThere are 20 clusters with 4 cameras\u001b[0m\n",
      "\u001b[34mThere are 21 clusters with 5 cameras\u001b[0m\n",
      "\u001b[34mThere are 11 clusters with 6 cameras\u001b[0m\n",
      "\u001b[34mThere are 8 clusters with 7 cameras\u001b[0m\n",
      "\u001b[34mThere are 2 clusters with 8 cameras\u001b[0m\n",
      "\u001b[34mThere are 4 clusters with 9 cameras\u001b[0m\n",
      "\u001b[34mThere are 4 clusters with 10 cameras\u001b[0m\n",
      "\u001b[34mThere are 4 clusters with 11 cameras\u001b[0m\n",
      "\u001b[34mThere are 3 clusters with 12 cameras\u001b[0m\n",
      "\u001b[34mThere are 5 clusters with 13 cameras\u001b[0m\n",
      "\u001b[34mThere are 2 clusters with 16 cameras\u001b[0m\n",
      "\u001b[34mThere are 2 clusters with 17 cameras\u001b[0m\n",
      "\u001b[34mThere are 2 clusters with 18 cameras\u001b[0m\n",
      "\u001b[34mThere are 1 clusters with 19 cameras\u001b[0m\n",
      "\u001b[34mThere are 4 clusters with 20 cameras\u001b[0m\n",
      "\u001b[34mThere are 3 clusters with 22 cameras\u001b[0m\n",
      "\u001b[34mThere are 1 clusters with 23 cameras\u001b[0m\n",
      "\u001b[34mThere are 1 clusters with 24 cameras\u001b[0m\n",
      "\u001b[34mThere are 1 clusters with 25 cameras\u001b[0m\n",
      "\u001b[34mThere are 1 clusters with 26 cameras\u001b[0m\n",
      "\u001b[34mThere are 3 clusters with 28 cameras\u001b[0m\n",
      "\u001b[34mThere are 1 clusters with 35 cameras\u001b[0m\n",
      "\u001b[34mThere are 1 clusters with 37 cameras\u001b[0m\n",
      "\u001b[34mThere are 1 clusters with 40 cameras\u001b[0m\n",
      "\u001b[34mThere are 1 clusters with 42 cameras\u001b[0m\n",
      "\u001b[34mThere are 1 clusters with 45 cameras\u001b[0m\n",
      "\u001b[34mThere are 1 clusters with 46 cameras\u001b[0m\n",
      "\u001b[34mThere are 1 clusters with 49 cameras\u001b[0m\n",
      "\u001b[34mThere are 1 clusters with 50 cameras\u001b[0m\n",
      "\u001b[34mThere are 1 clusters with 63 cameras\u001b[0m\n",
      "\u001b[34mThere are 2 clusters with 68 cameras\u001b[0m\n",
      "\u001b[34mThere are 1 clusters with 168 cameras\u001b[0m\n",
      "Number of classes: 115\n",
      "\u001b[36mLearning Rate: 0.000350\u001b[0m\n",
      "encontrou modelos efficientnet. Carregando...\n",
      "encontrou modelos convnext. Carregando...\n",
      "encontrou modelos mobilenet. Carregando...\n",
      "encontrou modelos vgg16. Carregando...\n",
      "encontrou modelos resnet50. Carregando...\n",
      "encontrou modelos osnet. Carregando...\n",
      "encontrou modelos densenet121. Carregando...\n",
      "\u001b[33mValidating online efficientnet ...\u001b[0m\n",
      "Features extracted in 58.63 seconds\n",
      "Features extracted in 118.09 seconds\n",
      "Computing CMC and mAP ...\n",
      "** Results **\n",
      "mAP: 66.96%\n",
      "CMC curve\n",
      "Rank-1  : 49.76%\n",
      "Rank-5  : 88.29%\n",
      "Rank-10 : 96.33%\n",
      "Rank-20 : 99.32%\n",
      "\u001b[33mValidating momentum efficientnet ...\u001b[0m\n",
      "Features extracted in 59.17 seconds\n",
      "Features extracted in 120.38 seconds\n",
      "Computing CMC and mAP ...\n",
      "** Results **\n",
      "mAP: 66.33%\n",
      "CMC curve\n",
      "Rank-1  : 47.72%\n",
      "Rank-5  : 83.15%\n",
      "Rank-10 : 91.82%\n",
      "Rank-20 : 96.73%\n",
      "\u001b[33mValidating online convnext ...\u001b[0m\n",
      "Features extracted in 58.92 seconds\n",
      "Features extracted in 120.73 seconds\n",
      "Computing CMC and mAP ...\n",
      "** Results **\n",
      "mAP: 65.77%\n",
      "CMC curve\n",
      "Rank-1  : 46.59%\n",
      "Rank-5  : 75.46%\n",
      "Rank-10 : 86.74%\n",
      "Rank-20 : 94.66%\n",
      "\u001b[33mValidating momentum convnext ...\u001b[0m\n",
      "Features extracted in 59.00 seconds\n",
      "Features extracted in 116.33 seconds\n",
      "Computing CMC and mAP ...\n",
      "** Results **\n",
      "mAP: 64.96%\n",
      "CMC curve\n",
      "Rank-1  : 45.63%\n",
      "Rank-5  : 75.04%\n",
      "Rank-10 : 87.30%\n",
      "Rank-20 : 95.01%\n",
      "\u001b[33mValidating online mobilenet ...\u001b[0m\n",
      "Features extracted in 58.42 seconds\n",
      "Features extracted in 117.04 seconds\n",
      "Computing CMC and mAP ...\n",
      "** Results **\n",
      "mAP: 66.23%\n",
      "CMC curve\n",
      "Rank-1  : 51.24%\n",
      "Rank-5  : 86.31%\n",
      "Rank-10 : 94.85%\n",
      "Rank-20 : 99.15%\n",
      "\u001b[33mValidating momentum mobilenet ...\u001b[0m\n",
      "Features extracted in 58.11 seconds\n",
      "Features extracted in 115.31 seconds\n",
      "Computing CMC and mAP ...\n",
      "** Results **\n",
      "mAP: 66.41%\n",
      "CMC curve\n",
      "Rank-1  : 52.73%\n",
      "Rank-5  : 85.40%\n",
      "Rank-10 : 93.79%\n",
      "Rank-20 : 98.57%\n",
      "\u001b[33mValidating online vgg16 ...\u001b[0m\n",
      "Features extracted in 58.68 seconds\n",
      "Features extracted in 115.23 seconds\n",
      "Computing CMC and mAP ...\n",
      "** Results **\n",
      "mAP: 65.47%\n",
      "CMC curve\n",
      "Rank-1  : 43.56%\n",
      "Rank-5  : 75.41%\n",
      "Rank-10 : 85.98%\n",
      "Rank-20 : 92.95%\n",
      "\u001b[33mValidating momentum vgg16 ...\u001b[0m\n",
      "Features extracted in 59.50 seconds\n",
      "Features extracted in 116.38 seconds\n",
      "Computing CMC and mAP ...\n",
      "** Results **\n",
      "mAP: 65.67%\n",
      "CMC curve\n",
      "Rank-1  : 45.75%\n",
      "Rank-5  : 82.00%\n",
      "Rank-10 : 90.62%\n",
      "Rank-20 : 96.36%\n",
      "\u001b[33mValidating online resnet50 ...\u001b[0m\n",
      "Features extracted in 59.16 seconds\n",
      "Features extracted in 117.75 seconds\n",
      "Computing CMC and mAP ...\n",
      "** Results **\n",
      "mAP: 65.64%\n",
      "CMC curve\n",
      "Rank-1  : 44.24%\n",
      "Rank-5  : 67.84%\n",
      "Rank-10 : 75.44%\n",
      "Rank-20 : 82.42%\n",
      "\u001b[33mValidating momentum resnet50 ...\u001b[0m\n",
      "Features extracted in 59.02 seconds\n",
      "Features extracted in 117.35 seconds\n",
      "Computing CMC and mAP ...\n",
      "** Results **\n",
      "mAP: 64.94%\n",
      "CMC curve\n",
      "Rank-1  : 43.33%\n",
      "Rank-5  : 71.52%\n",
      "Rank-10 : 80.95%\n",
      "Rank-20 : 90.36%\n",
      "\u001b[33mValidating online osnet ...\u001b[0m\n",
      "Features extracted in 60.10 seconds\n",
      "Features extracted in 118.01 seconds\n",
      "Computing CMC and mAP ...\n",
      "** Results **\n",
      "mAP: 66.87%\n",
      "CMC curve\n",
      "Rank-1  : 48.11%\n",
      "Rank-5  : 84.70%\n",
      "Rank-10 : 95.19%\n",
      "Rank-20 : 99.23%\n",
      "\u001b[33mValidating momentum osnet ...\u001b[0m\n",
      "Features extracted in 61.08 seconds\n",
      "Features extracted in 119.38 seconds\n",
      "Computing CMC and mAP ...\n",
      "** Results **\n",
      "mAP: 67.06%\n",
      "CMC curve\n",
      "Rank-1  : 51.39%\n",
      "Rank-5  : 86.67%\n",
      "Rank-10 : 94.96%\n",
      "Rank-20 : 98.71%\n",
      "\u001b[33mValidating online densenet121 ...\u001b[0m\n",
      "Features extracted in 60.38 seconds\n",
      "Features extracted in 117.58 seconds\n",
      "Computing CMC and mAP ...\n",
      "** Results **\n",
      "mAP: 65.34%\n",
      "CMC curve\n",
      "Rank-1  : 45.42%\n",
      "Rank-5  : 74.47%\n",
      "Rank-10 : 84.90%\n",
      "Rank-20 : 93.93%\n",
      "\u001b[33mValidating momentum densenet121 ...\u001b[0m\n",
      "Features extracted in 60.12 seconds\n",
      "Features extracted in 116.73 seconds\n",
      "Computing CMC and mAP ...\n",
      "** Results **\n",
      "mAP: 65.71%\n",
      "CMC curve\n",
      "Rank-1  : 46.36%\n",
      "Rank-5  : 79.22%\n",
      "Rank-10 : 88.80%\n",
      "Rank-20 : 95.19%\n",
      "\u001b[33mValidating ensembled with online models ...\u001b[0m\n",
      "Computing CMC and mAP ...\n",
      "** Results **\n",
      "mAP: 65.61%\n",
      "Ranks:\n",
      "Rank-1  : 45.50%\n",
      "Rank-5  : 70.24%\n",
      "Rank-10 : 79.04%\n",
      "\u001b[33mValidating ensembled with momentum models ...\u001b[0m\n",
      "Computing CMC and mAP ...\n",
      "** Results **\n",
      "mAP: 65.36%\n",
      "Ranks:\n",
      "Rank-1  : 43.96%\n",
      "Rank-5  : 75.79%\n",
      "Rank-10 : 85.67%\n",
      "###============ Iteration number 71/90 ============###\n",
      "Extracting Online Features for efficientnet ...\n",
      "Features extracted in 191.69 seconds\n",
      "Computing jaccard distance...\n"
     ]
    },
    {
     "name": "stderr",
     "output_type": "stream",
     "text": [
      "bruteForceKnn is deprecated; call bfKnn instead\n"
     ]
    },
    {
     "name": "stdout",
     "output_type": "stream",
     "text": [
      "Jaccard distance computing time cost: 77.57647109031677\n",
      "Extracting Online Features for convnext ...\n",
      "Features extracted in 191.42 seconds\n",
      "Computing jaccard distance...\n"
     ]
    },
    {
     "name": "stderr",
     "output_type": "stream",
     "text": [
      "bruteForceKnn is deprecated; call bfKnn instead\n"
     ]
    },
    {
     "name": "stdout",
     "output_type": "stream",
     "text": [
      "Jaccard distance computing time cost: 72.02199697494507\n",
      "Extracting Online Features for mobilenet ...\n",
      "Features extracted in 188.22 seconds\n",
      "Computing jaccard distance...\n"
     ]
    },
    {
     "name": "stderr",
     "output_type": "stream",
     "text": [
      "bruteForceKnn is deprecated; call bfKnn instead\n"
     ]
    },
    {
     "name": "stdout",
     "output_type": "stream",
     "text": [
      "Jaccard distance computing time cost: 70.37160801887512\n",
      "Extracting Online Features for vgg16 ...\n",
      "Features extracted in 189.13 seconds\n",
      "Computing jaccard distance...\n"
     ]
    },
    {
     "name": "stderr",
     "output_type": "stream",
     "text": [
      "bruteForceKnn is deprecated; call bfKnn instead\n"
     ]
    },
    {
     "name": "stdout",
     "output_type": "stream",
     "text": [
      "Jaccard distance computing time cost: 70.4933865070343\n",
      "Extracting Online Features for resnet50 ...\n",
      "Features extracted in 188.95 seconds\n",
      "Computing jaccard distance...\n"
     ]
    },
    {
     "name": "stderr",
     "output_type": "stream",
     "text": [
      "bruteForceKnn is deprecated; call bfKnn instead\n"
     ]
    },
    {
     "name": "stdout",
     "output_type": "stream",
     "text": [
      "Jaccard distance computing time cost: 68.14043951034546\n",
      "Extracting Online Features for osnet ...\n",
      "Features extracted in 190.84 seconds\n",
      "Computing jaccard distance...\n"
     ]
    },
    {
     "name": "stderr",
     "output_type": "stream",
     "text": [
      "bruteForceKnn is deprecated; call bfKnn instead\n"
     ]
    },
    {
     "name": "stdout",
     "output_type": "stream",
     "text": [
      "Jaccard distance computing time cost: 71.41055059432983\n",
      "Extracting Online Features for densenet121 ...\n",
      "Features extracted in 187.98 seconds\n",
      "Computing jaccard distance...\n"
     ]
    },
    {
     "name": "stderr",
     "output_type": "stream",
     "text": [
      "bruteForceKnn is deprecated; call bfKnn instead\n"
     ]
    },
    {
     "name": "stdout",
     "output_type": "stream",
     "text": [
      "Jaccard distance computing time cost: 71.94057750701904\n",
      "Reliability: 0.044\n",
      "\u001b[32mMean Purity: 0.02052\u001b[0m\n",
      "\u001b[34mThere are 20 clusters with 4 cameras\u001b[0m\n",
      "\u001b[34mThere are 21 clusters with 5 cameras\u001b[0m\n",
      "\u001b[34mThere are 11 clusters with 6 cameras\u001b[0m\n",
      "\u001b[34mThere are 8 clusters with 7 cameras\u001b[0m\n",
      "\u001b[34mThere are 2 clusters with 8 cameras\u001b[0m\n",
      "\u001b[34mThere are 4 clusters with 9 cameras\u001b[0m\n",
      "\u001b[34mThere are 4 clusters with 10 cameras\u001b[0m\n",
      "\u001b[34mThere are 4 clusters with 11 cameras\u001b[0m\n",
      "\u001b[34mThere are 3 clusters with 12 cameras\u001b[0m\n",
      "\u001b[34mThere are 5 clusters with 13 cameras\u001b[0m\n",
      "\u001b[34mThere are 2 clusters with 16 cameras\u001b[0m\n",
      "\u001b[34mThere are 2 clusters with 17 cameras\u001b[0m\n",
      "\u001b[34mThere are 2 clusters with 18 cameras\u001b[0m\n",
      "\u001b[34mThere are 1 clusters with 19 cameras\u001b[0m\n",
      "\u001b[34mThere are 4 clusters with 20 cameras\u001b[0m\n",
      "\u001b[34mThere are 3 clusters with 22 cameras\u001b[0m\n",
      "\u001b[34mThere are 1 clusters with 23 cameras\u001b[0m\n",
      "\u001b[34mThere are 1 clusters with 24 cameras\u001b[0m\n",
      "\u001b[34mThere are 1 clusters with 25 cameras\u001b[0m\n",
      "\u001b[34mThere are 1 clusters with 26 cameras\u001b[0m\n",
      "\u001b[34mThere are 3 clusters with 28 cameras\u001b[0m\n",
      "\u001b[34mThere are 1 clusters with 35 cameras\u001b[0m\n",
      "\u001b[34mThere are 1 clusters with 37 cameras\u001b[0m\n",
      "\u001b[34mThere are 1 clusters with 40 cameras\u001b[0m\n",
      "\u001b[34mThere are 1 clusters with 42 cameras\u001b[0m\n",
      "\u001b[34mThere are 1 clusters with 45 cameras\u001b[0m\n",
      "\u001b[34mThere are 1 clusters with 46 cameras\u001b[0m\n",
      "\u001b[34mThere are 1 clusters with 49 cameras\u001b[0m\n",
      "\u001b[34mThere are 1 clusters with 50 cameras\u001b[0m\n",
      "\u001b[34mThere are 1 clusters with 63 cameras\u001b[0m\n",
      "\u001b[34mThere are 2 clusters with 68 cameras\u001b[0m\n",
      "\u001b[34mThere are 1 clusters with 168 cameras\u001b[0m\n",
      "Number of classes: 115\n",
      "\u001b[36mLearning Rate: 0.000017\u001b[0m\n",
      "encontrou modelos efficientnet. Carregando...\n",
      "encontrou modelos convnext. Carregando...\n",
      "encontrou modelos mobilenet. Carregando...\n",
      "encontrou modelos vgg16. Carregando...\n",
      "encontrou modelos resnet50. Carregando...\n",
      "encontrou modelos osnet. Carregando...\n",
      "encontrou modelos densenet121. Carregando...\n",
      "###============ Iteration number 72/90 ============###\n",
      "Extracting Online Features for efficientnet ...\n",
      "Features extracted in 192.07 seconds\n",
      "Computing jaccard distance...\n"
     ]
    },
    {
     "name": "stderr",
     "output_type": "stream",
     "text": [
      "bruteForceKnn is deprecated; call bfKnn instead\n"
     ]
    },
    {
     "name": "stdout",
     "output_type": "stream",
     "text": [
      "Jaccard distance computing time cost: 85.98325967788696\n",
      "Extracting Online Features for convnext ...\n",
      "Features extracted in 190.86 seconds\n",
      "Computing jaccard distance...\n"
     ]
    },
    {
     "name": "stderr",
     "output_type": "stream",
     "text": [
      "bruteForceKnn is deprecated; call bfKnn instead\n"
     ]
    },
    {
     "name": "stdout",
     "output_type": "stream",
     "text": [
      "Jaccard distance computing time cost: 83.00501298904419\n",
      "Extracting Online Features for mobilenet ...\n",
      "Features extracted in 191.28 seconds\n",
      "Computing jaccard distance...\n"
     ]
    },
    {
     "name": "stderr",
     "output_type": "stream",
     "text": [
      "bruteForceKnn is deprecated; call bfKnn instead\n"
     ]
    },
    {
     "name": "stdout",
     "output_type": "stream",
     "text": [
      "Jaccard distance computing time cost: 69.54474139213562\n",
      "Extracting Online Features for vgg16 ...\n",
      "Features extracted in 192.32 seconds\n",
      "Computing jaccard distance...\n"
     ]
    },
    {
     "name": "stderr",
     "output_type": "stream",
     "text": [
      "bruteForceKnn is deprecated; call bfKnn instead\n"
     ]
    },
    {
     "name": "stdout",
     "output_type": "stream",
     "text": [
      "Jaccard distance computing time cost: 71.1962525844574\n",
      "Extracting Online Features for resnet50 ...\n",
      "Features extracted in 192.81 seconds\n",
      "Computing jaccard distance...\n"
     ]
    },
    {
     "name": "stderr",
     "output_type": "stream",
     "text": [
      "bruteForceKnn is deprecated; call bfKnn instead\n"
     ]
    },
    {
     "name": "stdout",
     "output_type": "stream",
     "text": [
      "Jaccard distance computing time cost: 69.28798127174377\n",
      "Extracting Online Features for osnet ...\n",
      "Features extracted in 194.54 seconds\n",
      "Computing jaccard distance...\n"
     ]
    },
    {
     "name": "stderr",
     "output_type": "stream",
     "text": [
      "bruteForceKnn is deprecated; call bfKnn instead\n"
     ]
    },
    {
     "name": "stdout",
     "output_type": "stream",
     "text": [
      "Jaccard distance computing time cost: 75.1035213470459\n",
      "Extracting Online Features for densenet121 ...\n",
      "Features extracted in 191.67 seconds\n",
      "Computing jaccard distance...\n"
     ]
    },
    {
     "name": "stderr",
     "output_type": "stream",
     "text": [
      "bruteForceKnn is deprecated; call bfKnn instead\n"
     ]
    },
    {
     "name": "stdout",
     "output_type": "stream",
     "text": [
      "Jaccard distance computing time cost: 71.99020886421204\n",
      "Reliability: 0.044\n",
      "\u001b[32mMean Purity: 0.02052\u001b[0m\n",
      "\u001b[34mThere are 20 clusters with 4 cameras\u001b[0m\n",
      "\u001b[34mThere are 21 clusters with 5 cameras\u001b[0m\n",
      "\u001b[34mThere are 11 clusters with 6 cameras\u001b[0m\n",
      "\u001b[34mThere are 8 clusters with 7 cameras\u001b[0m\n",
      "\u001b[34mThere are 2 clusters with 8 cameras\u001b[0m\n",
      "\u001b[34mThere are 4 clusters with 9 cameras\u001b[0m\n",
      "\u001b[34mThere are 4 clusters with 10 cameras\u001b[0m\n",
      "\u001b[34mThere are 4 clusters with 11 cameras\u001b[0m\n",
      "\u001b[34mThere are 3 clusters with 12 cameras\u001b[0m\n",
      "\u001b[34mThere are 5 clusters with 13 cameras\u001b[0m\n",
      "\u001b[34mThere are 2 clusters with 16 cameras\u001b[0m\n",
      "\u001b[34mThere are 2 clusters with 17 cameras\u001b[0m\n",
      "\u001b[34mThere are 2 clusters with 18 cameras\u001b[0m\n",
      "\u001b[34mThere are 1 clusters with 19 cameras\u001b[0m\n",
      "\u001b[34mThere are 4 clusters with 20 cameras\u001b[0m\n",
      "\u001b[34mThere are 3 clusters with 22 cameras\u001b[0m\n",
      "\u001b[34mThere are 1 clusters with 23 cameras\u001b[0m\n",
      "\u001b[34mThere are 1 clusters with 24 cameras\u001b[0m\n",
      "\u001b[34mThere are 1 clusters with 25 cameras\u001b[0m\n",
      "\u001b[34mThere are 1 clusters with 26 cameras\u001b[0m\n",
      "\u001b[34mThere are 3 clusters with 28 cameras\u001b[0m\n",
      "\u001b[34mThere are 1 clusters with 35 cameras\u001b[0m\n",
      "\u001b[34mThere are 1 clusters with 37 cameras\u001b[0m\n",
      "\u001b[34mThere are 1 clusters with 40 cameras\u001b[0m\n",
      "\u001b[34mThere are 1 clusters with 42 cameras\u001b[0m\n",
      "\u001b[34mThere are 1 clusters with 45 cameras\u001b[0m\n",
      "\u001b[34mThere are 1 clusters with 46 cameras\u001b[0m\n",
      "\u001b[34mThere are 1 clusters with 49 cameras\u001b[0m\n",
      "\u001b[34mThere are 1 clusters with 50 cameras\u001b[0m\n",
      "\u001b[34mThere are 1 clusters with 63 cameras\u001b[0m\n",
      "\u001b[34mThere are 2 clusters with 68 cameras\u001b[0m\n",
      "\u001b[34mThere are 1 clusters with 168 cameras\u001b[0m\n",
      "Number of classes: 115\n",
      "\u001b[36mLearning Rate: 0.000035\u001b[0m\n",
      "encontrou modelos efficientnet. Carregando...\n",
      "encontrou modelos convnext. Carregando...\n",
      "encontrou modelos mobilenet. Carregando...\n",
      "encontrou modelos vgg16. Carregando...\n",
      "encontrou modelos resnet50. Carregando...\n",
      "encontrou modelos osnet. Carregando...\n",
      "encontrou modelos densenet121. Carregando...\n",
      "###============ Iteration number 73/90 ============###\n",
      "Extracting Online Features for efficientnet ...\n",
      "Features extracted in 191.39 seconds\n",
      "Computing jaccard distance...\n"
     ]
    },
    {
     "name": "stderr",
     "output_type": "stream",
     "text": [
      "bruteForceKnn is deprecated; call bfKnn instead\n"
     ]
    },
    {
     "name": "stdout",
     "output_type": "stream",
     "text": [
      "Jaccard distance computing time cost: 84.5299346446991\n",
      "Extracting Online Features for convnext ...\n",
      "Features extracted in 194.04 seconds\n",
      "Computing jaccard distance...\n"
     ]
    },
    {
     "name": "stderr",
     "output_type": "stream",
     "text": [
      "bruteForceKnn is deprecated; call bfKnn instead\n"
     ]
    },
    {
     "name": "stdout",
     "output_type": "stream",
     "text": [
      "Jaccard distance computing time cost: 71.40716195106506\n",
      "Extracting Online Features for mobilenet ...\n",
      "Features extracted in 189.11 seconds\n",
      "Computing jaccard distance...\n"
     ]
    },
    {
     "name": "stderr",
     "output_type": "stream",
     "text": [
      "bruteForceKnn is deprecated; call bfKnn instead\n"
     ]
    },
    {
     "name": "stdout",
     "output_type": "stream",
     "text": [
      "Jaccard distance computing time cost: 70.51906657218933\n",
      "Extracting Online Features for vgg16 ...\n",
      "Features extracted in 191.63 seconds\n",
      "Computing jaccard distance...\n"
     ]
    },
    {
     "name": "stderr",
     "output_type": "stream",
     "text": [
      "bruteForceKnn is deprecated; call bfKnn instead\n"
     ]
    },
    {
     "name": "stdout",
     "output_type": "stream",
     "text": [
      "Jaccard distance computing time cost: 73.04274129867554\n",
      "Extracting Online Features for resnet50 ...\n",
      "Features extracted in 187.17 seconds\n",
      "Computing jaccard distance...\n"
     ]
    },
    {
     "name": "stderr",
     "output_type": "stream",
     "text": [
      "bruteForceKnn is deprecated; call bfKnn instead\n"
     ]
    },
    {
     "name": "stdout",
     "output_type": "stream",
     "text": [
      "Jaccard distance computing time cost: 69.17742609977722\n",
      "Extracting Online Features for osnet ...\n",
      "Features extracted in 188.14 seconds\n",
      "Computing jaccard distance...\n"
     ]
    },
    {
     "name": "stderr",
     "output_type": "stream",
     "text": [
      "bruteForceKnn is deprecated; call bfKnn instead\n"
     ]
    },
    {
     "name": "stdout",
     "output_type": "stream",
     "text": [
      "Jaccard distance computing time cost: 70.35740780830383\n",
      "Extracting Online Features for densenet121 ...\n",
      "Features extracted in 193.96 seconds\n",
      "Computing jaccard distance...\n"
     ]
    },
    {
     "name": "stderr",
     "output_type": "stream",
     "text": [
      "bruteForceKnn is deprecated; call bfKnn instead\n"
     ]
    },
    {
     "name": "stdout",
     "output_type": "stream",
     "text": [
      "Jaccard distance computing time cost: 73.39355421066284\n",
      "Reliability: 0.044\n",
      "\u001b[32mMean Purity: 0.02052\u001b[0m\n",
      "\u001b[34mThere are 20 clusters with 4 cameras\u001b[0m\n",
      "\u001b[34mThere are 21 clusters with 5 cameras\u001b[0m\n",
      "\u001b[34mThere are 11 clusters with 6 cameras\u001b[0m\n",
      "\u001b[34mThere are 8 clusters with 7 cameras\u001b[0m\n",
      "\u001b[34mThere are 2 clusters with 8 cameras\u001b[0m\n",
      "\u001b[34mThere are 4 clusters with 9 cameras\u001b[0m\n",
      "\u001b[34mThere are 4 clusters with 10 cameras\u001b[0m\n",
      "\u001b[34mThere are 4 clusters with 11 cameras\u001b[0m\n",
      "\u001b[34mThere are 3 clusters with 12 cameras\u001b[0m\n",
      "\u001b[34mThere are 5 clusters with 13 cameras\u001b[0m\n",
      "\u001b[34mThere are 2 clusters with 16 cameras\u001b[0m\n",
      "\u001b[34mThere are 2 clusters with 17 cameras\u001b[0m\n",
      "\u001b[34mThere are 2 clusters with 18 cameras\u001b[0m\n",
      "\u001b[34mThere are 1 clusters with 19 cameras\u001b[0m\n",
      "\u001b[34mThere are 4 clusters with 20 cameras\u001b[0m\n",
      "\u001b[34mThere are 3 clusters with 22 cameras\u001b[0m\n",
      "\u001b[34mThere are 1 clusters with 23 cameras\u001b[0m\n",
      "\u001b[34mThere are 1 clusters with 24 cameras\u001b[0m\n",
      "\u001b[34mThere are 1 clusters with 25 cameras\u001b[0m\n",
      "\u001b[34mThere are 1 clusters with 26 cameras\u001b[0m\n",
      "\u001b[34mThere are 3 clusters with 28 cameras\u001b[0m\n",
      "\u001b[34mThere are 1 clusters with 35 cameras\u001b[0m\n",
      "\u001b[34mThere are 1 clusters with 37 cameras\u001b[0m\n",
      "\u001b[34mThere are 1 clusters with 40 cameras\u001b[0m\n",
      "\u001b[34mThere are 1 clusters with 42 cameras\u001b[0m\n",
      "\u001b[34mThere are 1 clusters with 45 cameras\u001b[0m\n",
      "\u001b[34mThere are 1 clusters with 46 cameras\u001b[0m\n",
      "\u001b[34mThere are 1 clusters with 49 cameras\u001b[0m\n",
      "\u001b[34mThere are 1 clusters with 50 cameras\u001b[0m\n",
      "\u001b[34mThere are 1 clusters with 63 cameras\u001b[0m\n",
      "\u001b[34mThere are 2 clusters with 68 cameras\u001b[0m\n",
      "\u001b[34mThere are 1 clusters with 168 cameras\u001b[0m\n",
      "Number of classes: 115\n",
      "\u001b[36mLearning Rate: 0.000053\u001b[0m\n",
      "encontrou modelos efficientnet. Carregando...\n",
      "encontrou modelos convnext. Carregando...\n",
      "encontrou modelos mobilenet. Carregando...\n",
      "encontrou modelos vgg16. Carregando...\n",
      "encontrou modelos resnet50. Carregando...\n",
      "encontrou modelos osnet. Carregando...\n",
      "encontrou modelos densenet121. Carregando...\n",
      "###============ Iteration number 74/90 ============###\n",
      "Extracting Online Features for efficientnet ...\n",
      "Features extracted in 190.98 seconds\n",
      "Computing jaccard distance...\n"
     ]
    },
    {
     "name": "stderr",
     "output_type": "stream",
     "text": [
      "bruteForceKnn is deprecated; call bfKnn instead\n"
     ]
    },
    {
     "name": "stdout",
     "output_type": "stream",
     "text": [
      "Jaccard distance computing time cost: 83.78799629211426\n",
      "Extracting Online Features for convnext ...\n",
      "Features extracted in 186.95 seconds\n",
      "Computing jaccard distance...\n"
     ]
    },
    {
     "name": "stderr",
     "output_type": "stream",
     "text": [
      "bruteForceKnn is deprecated; call bfKnn instead\n"
     ]
    },
    {
     "name": "stdout",
     "output_type": "stream",
     "text": [
      "Jaccard distance computing time cost: 71.2850399017334\n",
      "Extracting Online Features for mobilenet ...\n",
      "Features extracted in 189.67 seconds\n",
      "Computing jaccard distance...\n"
     ]
    },
    {
     "name": "stderr",
     "output_type": "stream",
     "text": [
      "bruteForceKnn is deprecated; call bfKnn instead\n"
     ]
    },
    {
     "name": "stdout",
     "output_type": "stream",
     "text": [
      "Jaccard distance computing time cost: 69.7050130367279\n",
      "Extracting Online Features for vgg16 ...\n",
      "Features extracted in 192.92 seconds\n",
      "Computing jaccard distance...\n"
     ]
    },
    {
     "name": "stderr",
     "output_type": "stream",
     "text": [
      "bruteForceKnn is deprecated; call bfKnn instead\n"
     ]
    },
    {
     "name": "stdout",
     "output_type": "stream",
     "text": [
      "Jaccard distance computing time cost: 71.38281512260437\n",
      "Extracting Online Features for resnet50 ...\n",
      "Features extracted in 190.22 seconds\n",
      "Computing jaccard distance...\n"
     ]
    },
    {
     "name": "stderr",
     "output_type": "stream",
     "text": [
      "bruteForceKnn is deprecated; call bfKnn instead\n"
     ]
    },
    {
     "name": "stdout",
     "output_type": "stream",
     "text": [
      "Jaccard distance computing time cost: 69.13977599143982\n",
      "Extracting Online Features for osnet ...\n",
      "Features extracted in 190.35 seconds\n",
      "Computing jaccard distance...\n"
     ]
    },
    {
     "name": "stderr",
     "output_type": "stream",
     "text": [
      "bruteForceKnn is deprecated; call bfKnn instead\n"
     ]
    },
    {
     "name": "stdout",
     "output_type": "stream",
     "text": [
      "Jaccard distance computing time cost: 70.53671050071716\n",
      "Extracting Online Features for densenet121 ...\n",
      "Features extracted in 191.77 seconds\n",
      "Computing jaccard distance...\n"
     ]
    },
    {
     "name": "stderr",
     "output_type": "stream",
     "text": [
      "bruteForceKnn is deprecated; call bfKnn instead\n"
     ]
    },
    {
     "name": "stdout",
     "output_type": "stream",
     "text": [
      "Jaccard distance computing time cost: 71.41312050819397\n",
      "Reliability: 0.044\n",
      "\u001b[32mMean Purity: 0.02052\u001b[0m\n",
      "\u001b[34mThere are 20 clusters with 4 cameras\u001b[0m\n",
      "\u001b[34mThere are 21 clusters with 5 cameras\u001b[0m\n",
      "\u001b[34mThere are 11 clusters with 6 cameras\u001b[0m\n",
      "\u001b[34mThere are 8 clusters with 7 cameras\u001b[0m\n",
      "\u001b[34mThere are 2 clusters with 8 cameras\u001b[0m\n",
      "\u001b[34mThere are 4 clusters with 9 cameras\u001b[0m\n",
      "\u001b[34mThere are 4 clusters with 10 cameras\u001b[0m\n",
      "\u001b[34mThere are 4 clusters with 11 cameras\u001b[0m\n",
      "\u001b[34mThere are 3 clusters with 12 cameras\u001b[0m\n",
      "\u001b[34mThere are 5 clusters with 13 cameras\u001b[0m\n",
      "\u001b[34mThere are 2 clusters with 16 cameras\u001b[0m\n",
      "\u001b[34mThere are 2 clusters with 17 cameras\u001b[0m\n",
      "\u001b[34mThere are 2 clusters with 18 cameras\u001b[0m\n",
      "\u001b[34mThere are 1 clusters with 19 cameras\u001b[0m\n",
      "\u001b[34mThere are 4 clusters with 20 cameras\u001b[0m\n",
      "\u001b[34mThere are 3 clusters with 22 cameras\u001b[0m\n",
      "\u001b[34mThere are 1 clusters with 23 cameras\u001b[0m\n",
      "\u001b[34mThere are 1 clusters with 24 cameras\u001b[0m\n",
      "\u001b[34mThere are 1 clusters with 25 cameras\u001b[0m\n",
      "\u001b[34mThere are 1 clusters with 26 cameras\u001b[0m\n",
      "\u001b[34mThere are 3 clusters with 28 cameras\u001b[0m\n",
      "\u001b[34mThere are 1 clusters with 35 cameras\u001b[0m\n",
      "\u001b[34mThere are 1 clusters with 37 cameras\u001b[0m\n",
      "\u001b[34mThere are 1 clusters with 40 cameras\u001b[0m\n",
      "\u001b[34mThere are 1 clusters with 42 cameras\u001b[0m\n",
      "\u001b[34mThere are 1 clusters with 45 cameras\u001b[0m\n",
      "\u001b[34mThere are 1 clusters with 46 cameras\u001b[0m\n",
      "\u001b[34mThere are 1 clusters with 49 cameras\u001b[0m\n",
      "\u001b[34mThere are 1 clusters with 50 cameras\u001b[0m\n",
      "\u001b[34mThere are 1 clusters with 63 cameras\u001b[0m\n",
      "\u001b[34mThere are 2 clusters with 68 cameras\u001b[0m\n",
      "\u001b[34mThere are 1 clusters with 168 cameras\u001b[0m\n",
      "Number of classes: 115\n",
      "\u001b[36mLearning Rate: 0.000070\u001b[0m\n",
      "encontrou modelos efficientnet. Carregando...\n",
      "encontrou modelos convnext. Carregando...\n",
      "encontrou modelos mobilenet. Carregando...\n",
      "encontrou modelos vgg16. Carregando...\n",
      "encontrou modelos resnet50. Carregando...\n",
      "encontrou modelos osnet. Carregando...\n",
      "encontrou modelos densenet121. Carregando...\n",
      "###============ Iteration number 75/90 ============###\n",
      "Extracting Online Features for efficientnet ...\n",
      "Features extracted in 191.01 seconds\n",
      "Computing jaccard distance...\n"
     ]
    },
    {
     "name": "stderr",
     "output_type": "stream",
     "text": [
      "bruteForceKnn is deprecated; call bfKnn instead\n"
     ]
    },
    {
     "name": "stdout",
     "output_type": "stream",
     "text": [
      "Jaccard distance computing time cost: 88.87032294273376\n",
      "Extracting Online Features for convnext ...\n",
      "Features extracted in 191.05 seconds\n",
      "Computing jaccard distance...\n"
     ]
    },
    {
     "name": "stderr",
     "output_type": "stream",
     "text": [
      "bruteForceKnn is deprecated; call bfKnn instead\n"
     ]
    },
    {
     "name": "stdout",
     "output_type": "stream",
     "text": [
      "Jaccard distance computing time cost: 72.97045826911926\n",
      "Extracting Online Features for mobilenet ...\n",
      "Features extracted in 189.17 seconds\n",
      "Computing jaccard distance...\n"
     ]
    },
    {
     "name": "stderr",
     "output_type": "stream",
     "text": [
      "bruteForceKnn is deprecated; call bfKnn instead\n"
     ]
    },
    {
     "name": "stdout",
     "output_type": "stream",
     "text": [
      "Jaccard distance computing time cost: 69.95542120933533\n",
      "Extracting Online Features for vgg16 ...\n",
      "Features extracted in 187.88 seconds\n",
      "Computing jaccard distance...\n"
     ]
    },
    {
     "name": "stderr",
     "output_type": "stream",
     "text": [
      "bruteForceKnn is deprecated; call bfKnn instead\n"
     ]
    },
    {
     "name": "stdout",
     "output_type": "stream",
     "text": [
      "Jaccard distance computing time cost: 71.46780562400818\n",
      "Extracting Online Features for resnet50 ...\n",
      "Features extracted in 188.51 seconds\n",
      "Computing jaccard distance...\n"
     ]
    },
    {
     "name": "stderr",
     "output_type": "stream",
     "text": [
      "bruteForceKnn is deprecated; call bfKnn instead\n"
     ]
    },
    {
     "name": "stdout",
     "output_type": "stream",
     "text": [
      "Jaccard distance computing time cost: 76.52293610572815\n",
      "Extracting Online Features for osnet ...\n",
      "Features extracted in 193.36 seconds\n",
      "Computing jaccard distance...\n"
     ]
    },
    {
     "name": "stderr",
     "output_type": "stream",
     "text": [
      "bruteForceKnn is deprecated; call bfKnn instead\n"
     ]
    },
    {
     "name": "stdout",
     "output_type": "stream",
     "text": [
      "Jaccard distance computing time cost: 76.46174430847168\n",
      "Extracting Online Features for densenet121 ...\n",
      "Features extracted in 190.55 seconds\n",
      "Computing jaccard distance...\n"
     ]
    },
    {
     "name": "stderr",
     "output_type": "stream",
     "text": [
      "bruteForceKnn is deprecated; call bfKnn instead\n"
     ]
    },
    {
     "name": "stdout",
     "output_type": "stream",
     "text": [
      "Jaccard distance computing time cost: 73.32002210617065\n",
      "Reliability: 0.044\n",
      "\u001b[32mMean Purity: 0.02052\u001b[0m\n",
      "\u001b[34mThere are 20 clusters with 4 cameras\u001b[0m\n",
      "\u001b[34mThere are 21 clusters with 5 cameras\u001b[0m\n",
      "\u001b[34mThere are 11 clusters with 6 cameras\u001b[0m\n",
      "\u001b[34mThere are 8 clusters with 7 cameras\u001b[0m\n",
      "\u001b[34mThere are 2 clusters with 8 cameras\u001b[0m\n",
      "\u001b[34mThere are 4 clusters with 9 cameras\u001b[0m\n",
      "\u001b[34mThere are 4 clusters with 10 cameras\u001b[0m\n",
      "\u001b[34mThere are 4 clusters with 11 cameras\u001b[0m\n",
      "\u001b[34mThere are 3 clusters with 12 cameras\u001b[0m\n",
      "\u001b[34mThere are 5 clusters with 13 cameras\u001b[0m\n",
      "\u001b[34mThere are 2 clusters with 16 cameras\u001b[0m\n",
      "\u001b[34mThere are 2 clusters with 17 cameras\u001b[0m\n",
      "\u001b[34mThere are 2 clusters with 18 cameras\u001b[0m\n",
      "\u001b[34mThere are 1 clusters with 19 cameras\u001b[0m\n",
      "\u001b[34mThere are 4 clusters with 20 cameras\u001b[0m\n",
      "\u001b[34mThere are 3 clusters with 22 cameras\u001b[0m\n",
      "\u001b[34mThere are 1 clusters with 23 cameras\u001b[0m\n",
      "\u001b[34mThere are 1 clusters with 24 cameras\u001b[0m\n",
      "\u001b[34mThere are 1 clusters with 25 cameras\u001b[0m\n",
      "\u001b[34mThere are 1 clusters with 26 cameras\u001b[0m\n",
      "\u001b[34mThere are 3 clusters with 28 cameras\u001b[0m\n",
      "\u001b[34mThere are 1 clusters with 35 cameras\u001b[0m\n",
      "\u001b[34mThere are 1 clusters with 37 cameras\u001b[0m\n",
      "\u001b[34mThere are 1 clusters with 40 cameras\u001b[0m\n",
      "\u001b[34mThere are 1 clusters with 42 cameras\u001b[0m\n",
      "\u001b[34mThere are 1 clusters with 45 cameras\u001b[0m\n",
      "\u001b[34mThere are 1 clusters with 46 cameras\u001b[0m\n",
      "\u001b[34mThere are 1 clusters with 49 cameras\u001b[0m\n",
      "\u001b[34mThere are 1 clusters with 50 cameras\u001b[0m\n",
      "\u001b[34mThere are 1 clusters with 63 cameras\u001b[0m\n",
      "\u001b[34mThere are 2 clusters with 68 cameras\u001b[0m\n",
      "\u001b[34mThere are 1 clusters with 168 cameras\u001b[0m\n",
      "Number of classes: 115\n",
      "\u001b[36mLearning Rate: 0.000088\u001b[0m\n",
      "encontrou modelos efficientnet. Carregando...\n",
      "encontrou modelos convnext. Carregando...\n",
      "encontrou modelos mobilenet. Carregando...\n",
      "encontrou modelos vgg16. Carregando...\n",
      "encontrou modelos resnet50. Carregando...\n",
      "encontrou modelos osnet. Carregando...\n",
      "encontrou modelos densenet121. Carregando...\n",
      "\u001b[33mValidating online efficientnet ...\u001b[0m\n",
      "Features extracted in 58.85 seconds\n",
      "Features extracted in 118.37 seconds\n",
      "Computing CMC and mAP ...\n",
      "** Results **\n",
      "mAP: 66.96%\n",
      "CMC curve\n",
      "Rank-1  : 49.76%\n",
      "Rank-5  : 88.29%\n",
      "Rank-10 : 96.33%\n",
      "Rank-20 : 99.32%\n",
      "\u001b[33mValidating momentum efficientnet ...\u001b[0m\n",
      "Features extracted in 58.27 seconds\n",
      "Features extracted in 116.79 seconds\n",
      "Computing CMC and mAP ...\n",
      "** Results **\n",
      "mAP: 66.33%\n",
      "CMC curve\n",
      "Rank-1  : 47.72%\n",
      "Rank-5  : 83.15%\n",
      "Rank-10 : 91.82%\n",
      "Rank-20 : 96.73%\n",
      "\u001b[33mValidating online convnext ...\u001b[0m\n",
      "Features extracted in 59.94 seconds\n",
      "Features extracted in 116.77 seconds\n",
      "Computing CMC and mAP ...\n",
      "** Results **\n",
      "mAP: 65.77%\n",
      "CMC curve\n",
      "Rank-1  : 46.59%\n",
      "Rank-5  : 75.46%\n",
      "Rank-10 : 86.74%\n",
      "Rank-20 : 94.66%\n",
      "\u001b[33mValidating momentum convnext ...\u001b[0m\n",
      "Features extracted in 59.05 seconds\n",
      "Features extracted in 117.76 seconds\n",
      "Computing CMC and mAP ...\n",
      "** Results **\n",
      "mAP: 64.96%\n",
      "CMC curve\n",
      "Rank-1  : 45.63%\n",
      "Rank-5  : 75.04%\n",
      "Rank-10 : 87.30%\n",
      "Rank-20 : 95.01%\n",
      "\u001b[33mValidating online mobilenet ...\u001b[0m\n",
      "Features extracted in 58.19 seconds\n",
      "Features extracted in 115.64 seconds\n",
      "Computing CMC and mAP ...\n",
      "** Results **\n",
      "mAP: 66.23%\n",
      "CMC curve\n",
      "Rank-1  : 51.24%\n",
      "Rank-5  : 86.31%\n",
      "Rank-10 : 94.85%\n",
      "Rank-20 : 99.15%\n",
      "\u001b[33mValidating momentum mobilenet ...\u001b[0m\n",
      "Features extracted in 59.45 seconds\n",
      "Features extracted in 116.88 seconds\n",
      "Computing CMC and mAP ...\n",
      "** Results **\n",
      "mAP: 66.41%\n",
      "CMC curve\n",
      "Rank-1  : 52.73%\n",
      "Rank-5  : 85.40%\n",
      "Rank-10 : 93.79%\n",
      "Rank-20 : 98.57%\n",
      "\u001b[33mValidating online vgg16 ...\u001b[0m\n",
      "Features extracted in 59.75 seconds\n",
      "Features extracted in 117.11 seconds\n",
      "Computing CMC and mAP ...\n",
      "** Results **\n",
      "mAP: 65.47%\n",
      "CMC curve\n",
      "Rank-1  : 43.56%\n",
      "Rank-5  : 75.41%\n",
      "Rank-10 : 85.98%\n",
      "Rank-20 : 92.95%\n",
      "\u001b[33mValidating momentum vgg16 ...\u001b[0m\n",
      "Features extracted in 60.06 seconds\n",
      "Features extracted in 117.05 seconds\n",
      "Computing CMC and mAP ...\n",
      "** Results **\n",
      "mAP: 65.67%\n",
      "CMC curve\n",
      "Rank-1  : 45.75%\n",
      "Rank-5  : 82.00%\n",
      "Rank-10 : 90.62%\n",
      "Rank-20 : 96.36%\n",
      "\u001b[33mValidating online resnet50 ...\u001b[0m\n",
      "Features extracted in 59.01 seconds\n",
      "Features extracted in 115.35 seconds\n",
      "Computing CMC and mAP ...\n",
      "** Results **\n",
      "mAP: 65.64%\n",
      "CMC curve\n",
      "Rank-1  : 44.24%\n",
      "Rank-5  : 67.84%\n",
      "Rank-10 : 75.44%\n",
      "Rank-20 : 82.42%\n",
      "\u001b[33mValidating momentum resnet50 ...\u001b[0m\n",
      "Features extracted in 59.68 seconds\n",
      "Features extracted in 116.57 seconds\n",
      "Computing CMC and mAP ...\n",
      "** Results **\n",
      "mAP: 64.94%\n",
      "CMC curve\n",
      "Rank-1  : 43.33%\n",
      "Rank-5  : 71.52%\n",
      "Rank-10 : 80.95%\n",
      "Rank-20 : 90.36%\n",
      "\u001b[33mValidating online osnet ...\u001b[0m\n",
      "Features extracted in 60.77 seconds\n",
      "Features extracted in 119.03 seconds\n",
      "Computing CMC and mAP ...\n",
      "** Results **\n",
      "mAP: 66.87%\n",
      "CMC curve\n",
      "Rank-1  : 48.11%\n",
      "Rank-5  : 84.70%\n",
      "Rank-10 : 95.19%\n",
      "Rank-20 : 99.23%\n",
      "\u001b[33mValidating momentum osnet ...\u001b[0m\n",
      "Features extracted in 60.25 seconds\n",
      "Features extracted in 117.04 seconds\n",
      "Computing CMC and mAP ...\n",
      "** Results **\n",
      "mAP: 67.06%\n",
      "CMC curve\n",
      "Rank-1  : 51.39%\n",
      "Rank-5  : 86.67%\n",
      "Rank-10 : 94.96%\n",
      "Rank-20 : 98.71%\n",
      "\u001b[33mValidating online densenet121 ...\u001b[0m\n",
      "Features extracted in 60.58 seconds\n",
      "Features extracted in 121.11 seconds\n",
      "Computing CMC and mAP ...\n",
      "** Results **\n",
      "mAP: 65.34%\n",
      "CMC curve\n",
      "Rank-1  : 45.42%\n",
      "Rank-5  : 74.47%\n",
      "Rank-10 : 84.90%\n",
      "Rank-20 : 93.93%\n",
      "\u001b[33mValidating momentum densenet121 ...\u001b[0m\n",
      "Features extracted in 60.26 seconds\n",
      "Features extracted in 117.03 seconds\n",
      "Computing CMC and mAP ...\n",
      "** Results **\n",
      "mAP: 65.71%\n",
      "CMC curve\n",
      "Rank-1  : 46.36%\n",
      "Rank-5  : 79.22%\n",
      "Rank-10 : 88.80%\n",
      "Rank-20 : 95.19%\n",
      "\u001b[33mValidating ensembled with online models ...\u001b[0m\n",
      "Computing CMC and mAP ...\n",
      "** Results **\n",
      "mAP: 65.61%\n",
      "Ranks:\n",
      "Rank-1  : 45.50%\n",
      "Rank-5  : 70.24%\n",
      "Rank-10 : 79.04%\n",
      "\u001b[33mValidating ensembled with momentum models ...\u001b[0m\n",
      "Computing CMC and mAP ...\n",
      "** Results **\n",
      "mAP: 65.36%\n",
      "Ranks:\n",
      "Rank-1  : 43.96%\n",
      "Rank-5  : 75.79%\n",
      "Rank-10 : 85.67%\n",
      "###============ Iteration number 76/90 ============###\n",
      "Extracting Online Features for efficientnet ...\n",
      "Features extracted in 188.10 seconds\n",
      "Computing jaccard distance...\n"
     ]
    },
    {
     "name": "stderr",
     "output_type": "stream",
     "text": [
      "bruteForceKnn is deprecated; call bfKnn instead\n"
     ]
    },
    {
     "name": "stdout",
     "output_type": "stream",
     "text": [
      "Jaccard distance computing time cost: 79.02687883377075\n",
      "Extracting Online Features for convnext ...\n",
      "Features extracted in 193.98 seconds\n",
      "Computing jaccard distance...\n"
     ]
    },
    {
     "name": "stderr",
     "output_type": "stream",
     "text": [
      "bruteForceKnn is deprecated; call bfKnn instead\n"
     ]
    },
    {
     "name": "stdout",
     "output_type": "stream",
     "text": [
      "Jaccard distance computing time cost: 71.88268327713013\n",
      "Extracting Online Features for mobilenet ...\n",
      "Features extracted in 190.99 seconds\n",
      "Computing jaccard distance...\n"
     ]
    },
    {
     "name": "stderr",
     "output_type": "stream",
     "text": [
      "bruteForceKnn is deprecated; call bfKnn instead\n"
     ]
    },
    {
     "name": "stdout",
     "output_type": "stream",
     "text": [
      "Jaccard distance computing time cost: 70.38371515274048\n",
      "Extracting Online Features for vgg16 ...\n",
      "Features extracted in 192.53 seconds\n",
      "Computing jaccard distance...\n"
     ]
    },
    {
     "name": "stderr",
     "output_type": "stream",
     "text": [
      "bruteForceKnn is deprecated; call bfKnn instead\n"
     ]
    },
    {
     "name": "stdout",
     "output_type": "stream",
     "text": [
      "Jaccard distance computing time cost: 72.22776341438293\n",
      "Extracting Online Features for resnet50 ...\n",
      "Features extracted in 189.04 seconds\n",
      "Computing jaccard distance...\n"
     ]
    },
    {
     "name": "stderr",
     "output_type": "stream",
     "text": [
      "bruteForceKnn is deprecated; call bfKnn instead\n"
     ]
    },
    {
     "name": "stdout",
     "output_type": "stream",
     "text": [
      "Jaccard distance computing time cost: 72.99869465827942\n",
      "Extracting Online Features for osnet ...\n",
      "Features extracted in 186.84 seconds\n",
      "Computing jaccard distance...\n"
     ]
    },
    {
     "name": "stderr",
     "output_type": "stream",
     "text": [
      "bruteForceKnn is deprecated; call bfKnn instead\n"
     ]
    },
    {
     "name": "stdout",
     "output_type": "stream",
     "text": [
      "Jaccard distance computing time cost: 70.49756026268005\n",
      "Extracting Online Features for densenet121 ...\n",
      "Features extracted in 189.35 seconds\n",
      "Computing jaccard distance...\n"
     ]
    },
    {
     "name": "stderr",
     "output_type": "stream",
     "text": [
      "bruteForceKnn is deprecated; call bfKnn instead\n"
     ]
    },
    {
     "name": "stdout",
     "output_type": "stream",
     "text": [
      "Jaccard distance computing time cost: 73.00700998306274\n",
      "Reliability: 0.044\n",
      "\u001b[32mMean Purity: 0.02052\u001b[0m\n",
      "\u001b[34mThere are 20 clusters with 4 cameras\u001b[0m\n",
      "\u001b[34mThere are 21 clusters with 5 cameras\u001b[0m\n",
      "\u001b[34mThere are 11 clusters with 6 cameras\u001b[0m\n",
      "\u001b[34mThere are 8 clusters with 7 cameras\u001b[0m\n",
      "\u001b[34mThere are 2 clusters with 8 cameras\u001b[0m\n",
      "\u001b[34mThere are 4 clusters with 9 cameras\u001b[0m\n",
      "\u001b[34mThere are 4 clusters with 10 cameras\u001b[0m\n",
      "\u001b[34mThere are 4 clusters with 11 cameras\u001b[0m\n",
      "\u001b[34mThere are 3 clusters with 12 cameras\u001b[0m\n",
      "\u001b[34mThere are 5 clusters with 13 cameras\u001b[0m\n",
      "\u001b[34mThere are 2 clusters with 16 cameras\u001b[0m\n",
      "\u001b[34mThere are 2 clusters with 17 cameras\u001b[0m\n",
      "\u001b[34mThere are 2 clusters with 18 cameras\u001b[0m\n",
      "\u001b[34mThere are 1 clusters with 19 cameras\u001b[0m\n",
      "\u001b[34mThere are 4 clusters with 20 cameras\u001b[0m\n",
      "\u001b[34mThere are 3 clusters with 22 cameras\u001b[0m\n",
      "\u001b[34mThere are 1 clusters with 23 cameras\u001b[0m\n",
      "\u001b[34mThere are 1 clusters with 24 cameras\u001b[0m\n",
      "\u001b[34mThere are 1 clusters with 25 cameras\u001b[0m\n",
      "\u001b[34mThere are 1 clusters with 26 cameras\u001b[0m\n",
      "\u001b[34mThere are 3 clusters with 28 cameras\u001b[0m\n",
      "\u001b[34mThere are 1 clusters with 35 cameras\u001b[0m\n",
      "\u001b[34mThere are 1 clusters with 37 cameras\u001b[0m\n",
      "\u001b[34mThere are 1 clusters with 40 cameras\u001b[0m\n",
      "\u001b[34mThere are 1 clusters with 42 cameras\u001b[0m\n",
      "\u001b[34mThere are 1 clusters with 45 cameras\u001b[0m\n",
      "\u001b[34mThere are 1 clusters with 46 cameras\u001b[0m\n",
      "\u001b[34mThere are 1 clusters with 49 cameras\u001b[0m\n",
      "\u001b[34mThere are 1 clusters with 50 cameras\u001b[0m\n",
      "\u001b[34mThere are 1 clusters with 63 cameras\u001b[0m\n",
      "\u001b[34mThere are 2 clusters with 68 cameras\u001b[0m\n",
      "\u001b[34mThere are 1 clusters with 168 cameras\u001b[0m\n",
      "Number of classes: 115\n",
      "\u001b[36mLearning Rate: 0.000105\u001b[0m\n",
      "encontrou modelos efficientnet. Carregando...\n",
      "encontrou modelos convnext. Carregando...\n",
      "encontrou modelos mobilenet. Carregando...\n",
      "encontrou modelos vgg16. Carregando...\n",
      "encontrou modelos resnet50. Carregando...\n",
      "encontrou modelos osnet. Carregando...\n",
      "encontrou modelos densenet121. Carregando...\n",
      "###============ Iteration number 77/90 ============###\n",
      "Extracting Online Features for efficientnet ...\n",
      "Features extracted in 192.26 seconds\n",
      "Computing jaccard distance...\n"
     ]
    },
    {
     "name": "stderr",
     "output_type": "stream",
     "text": [
      "bruteForceKnn is deprecated; call bfKnn instead\n"
     ]
    },
    {
     "name": "stdout",
     "output_type": "stream",
     "text": [
      "Jaccard distance computing time cost: 82.15163445472717\n",
      "Extracting Online Features for convnext ...\n",
      "Features extracted in 191.72 seconds\n",
      "Computing jaccard distance...\n"
     ]
    },
    {
     "name": "stderr",
     "output_type": "stream",
     "text": [
      "bruteForceKnn is deprecated; call bfKnn instead\n"
     ]
    },
    {
     "name": "stdout",
     "output_type": "stream",
     "text": [
      "Jaccard distance computing time cost: 84.92766070365906\n",
      "Extracting Online Features for mobilenet ...\n",
      "Features extracted in 190.54 seconds\n",
      "Computing jaccard distance...\n"
     ]
    },
    {
     "name": "stderr",
     "output_type": "stream",
     "text": [
      "bruteForceKnn is deprecated; call bfKnn instead\n"
     ]
    },
    {
     "name": "stdout",
     "output_type": "stream",
     "text": [
      "Jaccard distance computing time cost: 68.90685796737671\n",
      "Extracting Online Features for vgg16 ...\n",
      "Features extracted in 191.10 seconds\n",
      "Computing jaccard distance...\n"
     ]
    },
    {
     "name": "stderr",
     "output_type": "stream",
     "text": [
      "bruteForceKnn is deprecated; call bfKnn instead\n"
     ]
    },
    {
     "name": "stdout",
     "output_type": "stream",
     "text": [
      "Jaccard distance computing time cost: 79.27878022193909\n",
      "Extracting Online Features for resnet50 ...\n",
      "Features extracted in 190.18 seconds\n",
      "Computing jaccard distance...\n"
     ]
    },
    {
     "name": "stderr",
     "output_type": "stream",
     "text": [
      "bruteForceKnn is deprecated; call bfKnn instead\n"
     ]
    },
    {
     "name": "stdout",
     "output_type": "stream",
     "text": [
      "Jaccard distance computing time cost: 69.43892478942871\n",
      "Extracting Online Features for osnet ...\n",
      "Features extracted in 189.48 seconds\n",
      "Computing jaccard distance...\n"
     ]
    },
    {
     "name": "stderr",
     "output_type": "stream",
     "text": [
      "bruteForceKnn is deprecated; call bfKnn instead\n"
     ]
    },
    {
     "name": "stdout",
     "output_type": "stream",
     "text": [
      "Jaccard distance computing time cost: 72.17348217964172\n",
      "Extracting Online Features for densenet121 ...\n",
      "Features extracted in 192.34 seconds\n",
      "Computing jaccard distance...\n"
     ]
    },
    {
     "name": "stderr",
     "output_type": "stream",
     "text": [
      "bruteForceKnn is deprecated; call bfKnn instead\n"
     ]
    },
    {
     "name": "stdout",
     "output_type": "stream",
     "text": [
      "Jaccard distance computing time cost: 70.3142077922821\n",
      "Reliability: 0.044\n",
      "\u001b[32mMean Purity: 0.02052\u001b[0m\n",
      "\u001b[34mThere are 20 clusters with 4 cameras\u001b[0m\n",
      "\u001b[34mThere are 21 clusters with 5 cameras\u001b[0m\n",
      "\u001b[34mThere are 11 clusters with 6 cameras\u001b[0m\n",
      "\u001b[34mThere are 8 clusters with 7 cameras\u001b[0m\n",
      "\u001b[34mThere are 2 clusters with 8 cameras\u001b[0m\n",
      "\u001b[34mThere are 4 clusters with 9 cameras\u001b[0m\n",
      "\u001b[34mThere are 4 clusters with 10 cameras\u001b[0m\n",
      "\u001b[34mThere are 4 clusters with 11 cameras\u001b[0m\n",
      "\u001b[34mThere are 3 clusters with 12 cameras\u001b[0m\n",
      "\u001b[34mThere are 5 clusters with 13 cameras\u001b[0m\n",
      "\u001b[34mThere are 2 clusters with 16 cameras\u001b[0m\n",
      "\u001b[34mThere are 2 clusters with 17 cameras\u001b[0m\n",
      "\u001b[34mThere are 2 clusters with 18 cameras\u001b[0m\n",
      "\u001b[34mThere are 1 clusters with 19 cameras\u001b[0m\n",
      "\u001b[34mThere are 4 clusters with 20 cameras\u001b[0m\n",
      "\u001b[34mThere are 3 clusters with 22 cameras\u001b[0m\n",
      "\u001b[34mThere are 1 clusters with 23 cameras\u001b[0m\n",
      "\u001b[34mThere are 1 clusters with 24 cameras\u001b[0m\n",
      "\u001b[34mThere are 1 clusters with 25 cameras\u001b[0m\n",
      "\u001b[34mThere are 1 clusters with 26 cameras\u001b[0m\n",
      "\u001b[34mThere are 3 clusters with 28 cameras\u001b[0m\n",
      "\u001b[34mThere are 1 clusters with 35 cameras\u001b[0m\n",
      "\u001b[34mThere are 1 clusters with 37 cameras\u001b[0m\n",
      "\u001b[34mThere are 1 clusters with 40 cameras\u001b[0m\n",
      "\u001b[34mThere are 1 clusters with 42 cameras\u001b[0m\n",
      "\u001b[34mThere are 1 clusters with 45 cameras\u001b[0m\n",
      "\u001b[34mThere are 1 clusters with 46 cameras\u001b[0m\n",
      "\u001b[34mThere are 1 clusters with 49 cameras\u001b[0m\n",
      "\u001b[34mThere are 1 clusters with 50 cameras\u001b[0m\n",
      "\u001b[34mThere are 1 clusters with 63 cameras\u001b[0m\n",
      "\u001b[34mThere are 2 clusters with 68 cameras\u001b[0m\n",
      "\u001b[34mThere are 1 clusters with 168 cameras\u001b[0m\n",
      "Number of classes: 115\n",
      "\u001b[36mLearning Rate: 0.000122\u001b[0m\n",
      "encontrou modelos efficientnet. Carregando...\n",
      "encontrou modelos convnext. Carregando...\n",
      "encontrou modelos mobilenet. Carregando...\n",
      "encontrou modelos vgg16. Carregando...\n",
      "encontrou modelos resnet50. Carregando...\n",
      "encontrou modelos osnet. Carregando...\n",
      "encontrou modelos densenet121. Carregando...\n",
      "###============ Iteration number 78/90 ============###\n",
      "Extracting Online Features for efficientnet ...\n",
      "Features extracted in 192.47 seconds\n",
      "Computing jaccard distance...\n"
     ]
    },
    {
     "name": "stderr",
     "output_type": "stream",
     "text": [
      "bruteForceKnn is deprecated; call bfKnn instead\n"
     ]
    },
    {
     "name": "stdout",
     "output_type": "stream",
     "text": [
      "Jaccard distance computing time cost: 80.71126222610474\n",
      "Extracting Online Features for convnext ...\n",
      "Features extracted in 193.12 seconds\n",
      "Computing jaccard distance...\n"
     ]
    },
    {
     "name": "stderr",
     "output_type": "stream",
     "text": [
      "bruteForceKnn is deprecated; call bfKnn instead\n"
     ]
    },
    {
     "name": "stdout",
     "output_type": "stream",
     "text": [
      "Jaccard distance computing time cost: 70.65376281738281\n",
      "Extracting Online Features for mobilenet ...\n",
      "Features extracted in 185.41 seconds\n",
      "Computing jaccard distance...\n"
     ]
    },
    {
     "name": "stderr",
     "output_type": "stream",
     "text": [
      "bruteForceKnn is deprecated; call bfKnn instead\n"
     ]
    },
    {
     "name": "stdout",
     "output_type": "stream",
     "text": [
      "Jaccard distance computing time cost: 68.24037003517151\n",
      "Extracting Online Features for vgg16 ...\n",
      "Features extracted in 187.78 seconds\n",
      "Computing jaccard distance...\n"
     ]
    },
    {
     "name": "stderr",
     "output_type": "stream",
     "text": [
      "bruteForceKnn is deprecated; call bfKnn instead\n"
     ]
    },
    {
     "name": "stdout",
     "output_type": "stream",
     "text": [
      "Jaccard distance computing time cost: 71.56857013702393\n",
      "Extracting Online Features for resnet50 ...\n",
      "Features extracted in 192.27 seconds\n",
      "Computing jaccard distance...\n"
     ]
    },
    {
     "name": "stderr",
     "output_type": "stream",
     "text": [
      "bruteForceKnn is deprecated; call bfKnn instead\n"
     ]
    },
    {
     "name": "stdout",
     "output_type": "stream",
     "text": [
      "Jaccard distance computing time cost: 69.10359239578247\n",
      "Extracting Online Features for osnet ...\n",
      "Features extracted in 188.61 seconds\n",
      "Computing jaccard distance...\n"
     ]
    },
    {
     "name": "stderr",
     "output_type": "stream",
     "text": [
      "bruteForceKnn is deprecated; call bfKnn instead\n"
     ]
    },
    {
     "name": "stdout",
     "output_type": "stream",
     "text": [
      "Jaccard distance computing time cost: 74.59215903282166\n",
      "Extracting Online Features for densenet121 ...\n",
      "Features extracted in 192.38 seconds\n",
      "Computing jaccard distance...\n"
     ]
    },
    {
     "name": "stderr",
     "output_type": "stream",
     "text": [
      "bruteForceKnn is deprecated; call bfKnn instead\n"
     ]
    },
    {
     "name": "stdout",
     "output_type": "stream",
     "text": [
      "Jaccard distance computing time cost: 70.5357494354248\n",
      "Reliability: 0.044\n",
      "\u001b[32mMean Purity: 0.02052\u001b[0m\n",
      "\u001b[34mThere are 20 clusters with 4 cameras\u001b[0m\n",
      "\u001b[34mThere are 21 clusters with 5 cameras\u001b[0m\n",
      "\u001b[34mThere are 11 clusters with 6 cameras\u001b[0m\n",
      "\u001b[34mThere are 8 clusters with 7 cameras\u001b[0m\n",
      "\u001b[34mThere are 2 clusters with 8 cameras\u001b[0m\n",
      "\u001b[34mThere are 4 clusters with 9 cameras\u001b[0m\n",
      "\u001b[34mThere are 4 clusters with 10 cameras\u001b[0m\n",
      "\u001b[34mThere are 4 clusters with 11 cameras\u001b[0m\n",
      "\u001b[34mThere are 3 clusters with 12 cameras\u001b[0m\n",
      "\u001b[34mThere are 5 clusters with 13 cameras\u001b[0m\n",
      "\u001b[34mThere are 2 clusters with 16 cameras\u001b[0m\n",
      "\u001b[34mThere are 2 clusters with 17 cameras\u001b[0m\n",
      "\u001b[34mThere are 2 clusters with 18 cameras\u001b[0m\n",
      "\u001b[34mThere are 1 clusters with 19 cameras\u001b[0m\n",
      "\u001b[34mThere are 4 clusters with 20 cameras\u001b[0m\n",
      "\u001b[34mThere are 3 clusters with 22 cameras\u001b[0m\n",
      "\u001b[34mThere are 1 clusters with 23 cameras\u001b[0m\n",
      "\u001b[34mThere are 1 clusters with 24 cameras\u001b[0m\n",
      "\u001b[34mThere are 1 clusters with 25 cameras\u001b[0m\n",
      "\u001b[34mThere are 1 clusters with 26 cameras\u001b[0m\n",
      "\u001b[34mThere are 3 clusters with 28 cameras\u001b[0m\n",
      "\u001b[34mThere are 1 clusters with 35 cameras\u001b[0m\n",
      "\u001b[34mThere are 1 clusters with 37 cameras\u001b[0m\n",
      "\u001b[34mThere are 1 clusters with 40 cameras\u001b[0m\n",
      "\u001b[34mThere are 1 clusters with 42 cameras\u001b[0m\n",
      "\u001b[34mThere are 1 clusters with 45 cameras\u001b[0m\n",
      "\u001b[34mThere are 1 clusters with 46 cameras\u001b[0m\n",
      "\u001b[34mThere are 1 clusters with 49 cameras\u001b[0m\n",
      "\u001b[34mThere are 1 clusters with 50 cameras\u001b[0m\n",
      "\u001b[34mThere are 1 clusters with 63 cameras\u001b[0m\n",
      "\u001b[34mThere are 2 clusters with 68 cameras\u001b[0m\n",
      "\u001b[34mThere are 1 clusters with 168 cameras\u001b[0m\n",
      "Number of classes: 115\n",
      "\u001b[36mLearning Rate: 0.000140\u001b[0m\n",
      "encontrou modelos efficientnet. Carregando...\n",
      "encontrou modelos convnext. Carregando...\n",
      "encontrou modelos mobilenet. Carregando...\n",
      "encontrou modelos vgg16. Carregando...\n",
      "encontrou modelos resnet50. Carregando...\n",
      "encontrou modelos osnet. Carregando...\n",
      "encontrou modelos densenet121. Carregando...\n",
      "###============ Iteration number 79/90 ============###\n",
      "Extracting Online Features for efficientnet ...\n",
      "Features extracted in 192.16 seconds\n",
      "Computing jaccard distance...\n"
     ]
    },
    {
     "name": "stderr",
     "output_type": "stream",
     "text": [
      "bruteForceKnn is deprecated; call bfKnn instead\n"
     ]
    },
    {
     "name": "stdout",
     "output_type": "stream",
     "text": [
      "Jaccard distance computing time cost: 78.15504813194275\n",
      "Extracting Online Features for convnext ...\n",
      "Features extracted in 188.80 seconds\n",
      "Computing jaccard distance...\n"
     ]
    },
    {
     "name": "stderr",
     "output_type": "stream",
     "text": [
      "bruteForceKnn is deprecated; call bfKnn instead\n"
     ]
    },
    {
     "name": "stdout",
     "output_type": "stream",
     "text": [
      "Jaccard distance computing time cost: 83.41194033622742\n",
      "Extracting Online Features for mobilenet ...\n",
      "Features extracted in 188.10 seconds\n",
      "Computing jaccard distance...\n"
     ]
    },
    {
     "name": "stderr",
     "output_type": "stream",
     "text": [
      "bruteForceKnn is deprecated; call bfKnn instead\n"
     ]
    },
    {
     "name": "stdout",
     "output_type": "stream",
     "text": [
      "Jaccard distance computing time cost: 72.6542820930481\n",
      "Extracting Online Features for vgg16 ...\n",
      "Features extracted in 191.76 seconds\n",
      "Computing jaccard distance...\n"
     ]
    },
    {
     "name": "stderr",
     "output_type": "stream",
     "text": [
      "bruteForceKnn is deprecated; call bfKnn instead\n"
     ]
    },
    {
     "name": "stdout",
     "output_type": "stream",
     "text": [
      "Jaccard distance computing time cost: 74.19258213043213\n",
      "Extracting Online Features for resnet50 ...\n",
      "Features extracted in 187.85 seconds\n",
      "Computing jaccard distance...\n"
     ]
    },
    {
     "name": "stderr",
     "output_type": "stream",
     "text": [
      "bruteForceKnn is deprecated; call bfKnn instead\n"
     ]
    },
    {
     "name": "stdout",
     "output_type": "stream",
     "text": [
      "Jaccard distance computing time cost: 71.78041553497314\n",
      "Extracting Online Features for osnet ...\n",
      "Features extracted in 187.23 seconds\n",
      "Computing jaccard distance...\n"
     ]
    },
    {
     "name": "stderr",
     "output_type": "stream",
     "text": [
      "bruteForceKnn is deprecated; call bfKnn instead\n"
     ]
    },
    {
     "name": "stdout",
     "output_type": "stream",
     "text": [
      "Jaccard distance computing time cost: 71.95895791053772\n",
      "Extracting Online Features for densenet121 ...\n",
      "Features extracted in 192.70 seconds\n",
      "Computing jaccard distance...\n"
     ]
    },
    {
     "name": "stderr",
     "output_type": "stream",
     "text": [
      "bruteForceKnn is deprecated; call bfKnn instead\n"
     ]
    },
    {
     "name": "stdout",
     "output_type": "stream",
     "text": [
      "Jaccard distance computing time cost: 72.36398696899414\n",
      "Reliability: 0.044\n",
      "\u001b[32mMean Purity: 0.02052\u001b[0m\n",
      "\u001b[34mThere are 20 clusters with 4 cameras\u001b[0m\n",
      "\u001b[34mThere are 21 clusters with 5 cameras\u001b[0m\n",
      "\u001b[34mThere are 11 clusters with 6 cameras\u001b[0m\n",
      "\u001b[34mThere are 8 clusters with 7 cameras\u001b[0m\n",
      "\u001b[34mThere are 2 clusters with 8 cameras\u001b[0m\n",
      "\u001b[34mThere are 4 clusters with 9 cameras\u001b[0m\n",
      "\u001b[34mThere are 4 clusters with 10 cameras\u001b[0m\n",
      "\u001b[34mThere are 4 clusters with 11 cameras\u001b[0m\n",
      "\u001b[34mThere are 3 clusters with 12 cameras\u001b[0m\n",
      "\u001b[34mThere are 5 clusters with 13 cameras\u001b[0m\n",
      "\u001b[34mThere are 2 clusters with 16 cameras\u001b[0m\n",
      "\u001b[34mThere are 2 clusters with 17 cameras\u001b[0m\n",
      "\u001b[34mThere are 2 clusters with 18 cameras\u001b[0m\n",
      "\u001b[34mThere are 1 clusters with 19 cameras\u001b[0m\n",
      "\u001b[34mThere are 4 clusters with 20 cameras\u001b[0m\n",
      "\u001b[34mThere are 3 clusters with 22 cameras\u001b[0m\n",
      "\u001b[34mThere are 1 clusters with 23 cameras\u001b[0m\n",
      "\u001b[34mThere are 1 clusters with 24 cameras\u001b[0m\n",
      "\u001b[34mThere are 1 clusters with 25 cameras\u001b[0m\n",
      "\u001b[34mThere are 1 clusters with 26 cameras\u001b[0m\n",
      "\u001b[34mThere are 3 clusters with 28 cameras\u001b[0m\n",
      "\u001b[34mThere are 1 clusters with 35 cameras\u001b[0m\n",
      "\u001b[34mThere are 1 clusters with 37 cameras\u001b[0m\n",
      "\u001b[34mThere are 1 clusters with 40 cameras\u001b[0m\n",
      "\u001b[34mThere are 1 clusters with 42 cameras\u001b[0m\n",
      "\u001b[34mThere are 1 clusters with 45 cameras\u001b[0m\n",
      "\u001b[34mThere are 1 clusters with 46 cameras\u001b[0m\n",
      "\u001b[34mThere are 1 clusters with 49 cameras\u001b[0m\n",
      "\u001b[34mThere are 1 clusters with 50 cameras\u001b[0m\n",
      "\u001b[34mThere are 1 clusters with 63 cameras\u001b[0m\n",
      "\u001b[34mThere are 2 clusters with 68 cameras\u001b[0m\n",
      "\u001b[34mThere are 1 clusters with 168 cameras\u001b[0m\n",
      "Number of classes: 115\n",
      "\u001b[36mLearning Rate: 0.000158\u001b[0m\n",
      "encontrou modelos efficientnet. Carregando...\n",
      "encontrou modelos convnext. Carregando...\n",
      "encontrou modelos mobilenet. Carregando...\n",
      "encontrou modelos vgg16. Carregando...\n",
      "encontrou modelos resnet50. Carregando...\n",
      "encontrou modelos osnet. Carregando...\n",
      "encontrou modelos densenet121. Carregando...\n",
      "###============ Iteration number 80/90 ============###\n",
      "Extracting Online Features for efficientnet ...\n",
      "Features extracted in 191.42 seconds\n",
      "Computing jaccard distance...\n"
     ]
    },
    {
     "name": "stderr",
     "output_type": "stream",
     "text": [
      "bruteForceKnn is deprecated; call bfKnn instead\n"
     ]
    },
    {
     "name": "stdout",
     "output_type": "stream",
     "text": [
      "Jaccard distance computing time cost: 82.7541663646698\n",
      "Extracting Online Features for convnext ...\n",
      "Features extracted in 192.70 seconds\n",
      "Computing jaccard distance...\n"
     ]
    },
    {
     "name": "stderr",
     "output_type": "stream",
     "text": [
      "bruteForceKnn is deprecated; call bfKnn instead\n"
     ]
    },
    {
     "name": "stdout",
     "output_type": "stream",
     "text": [
      "Jaccard distance computing time cost: 70.73186612129211\n",
      "Extracting Online Features for mobilenet ...\n",
      "Features extracted in 190.32 seconds\n",
      "Computing jaccard distance...\n"
     ]
    },
    {
     "name": "stderr",
     "output_type": "stream",
     "text": [
      "bruteForceKnn is deprecated; call bfKnn instead\n"
     ]
    },
    {
     "name": "stdout",
     "output_type": "stream",
     "text": [
      "Jaccard distance computing time cost: 69.25392079353333\n",
      "Extracting Online Features for vgg16 ...\n",
      "Features extracted in 191.41 seconds\n",
      "Computing jaccard distance...\n"
     ]
    },
    {
     "name": "stderr",
     "output_type": "stream",
     "text": [
      "bruteForceKnn is deprecated; call bfKnn instead\n"
     ]
    },
    {
     "name": "stdout",
     "output_type": "stream",
     "text": [
      "Jaccard distance computing time cost: 71.25532126426697\n",
      "Extracting Online Features for resnet50 ...\n",
      "Features extracted in 190.51 seconds\n",
      "Computing jaccard distance...\n"
     ]
    },
    {
     "name": "stderr",
     "output_type": "stream",
     "text": [
      "bruteForceKnn is deprecated; call bfKnn instead\n"
     ]
    },
    {
     "name": "stdout",
     "output_type": "stream",
     "text": [
      "Jaccard distance computing time cost: 70.01864719390869\n",
      "Extracting Online Features for osnet ...\n",
      "Features extracted in 187.27 seconds\n",
      "Computing jaccard distance...\n"
     ]
    },
    {
     "name": "stderr",
     "output_type": "stream",
     "text": [
      "bruteForceKnn is deprecated; call bfKnn instead\n"
     ]
    },
    {
     "name": "stdout",
     "output_type": "stream",
     "text": [
      "Jaccard distance computing time cost: 73.04526019096375\n",
      "Extracting Online Features for densenet121 ...\n",
      "Features extracted in 188.99 seconds\n",
      "Computing jaccard distance...\n"
     ]
    },
    {
     "name": "stderr",
     "output_type": "stream",
     "text": [
      "bruteForceKnn is deprecated; call bfKnn instead\n"
     ]
    },
    {
     "name": "stdout",
     "output_type": "stream",
     "text": [
      "Jaccard distance computing time cost: 73.36092638969421\n",
      "Reliability: 0.044\n",
      "\u001b[32mMean Purity: 0.02052\u001b[0m\n",
      "\u001b[34mThere are 20 clusters with 4 cameras\u001b[0m\n",
      "\u001b[34mThere are 21 clusters with 5 cameras\u001b[0m\n",
      "\u001b[34mThere are 11 clusters with 6 cameras\u001b[0m\n",
      "\u001b[34mThere are 8 clusters with 7 cameras\u001b[0m\n",
      "\u001b[34mThere are 2 clusters with 8 cameras\u001b[0m\n",
      "\u001b[34mThere are 4 clusters with 9 cameras\u001b[0m\n",
      "\u001b[34mThere are 4 clusters with 10 cameras\u001b[0m\n",
      "\u001b[34mThere are 4 clusters with 11 cameras\u001b[0m\n",
      "\u001b[34mThere are 3 clusters with 12 cameras\u001b[0m\n",
      "\u001b[34mThere are 5 clusters with 13 cameras\u001b[0m\n",
      "\u001b[34mThere are 2 clusters with 16 cameras\u001b[0m\n",
      "\u001b[34mThere are 2 clusters with 17 cameras\u001b[0m\n",
      "\u001b[34mThere are 2 clusters with 18 cameras\u001b[0m\n",
      "\u001b[34mThere are 1 clusters with 19 cameras\u001b[0m\n",
      "\u001b[34mThere are 4 clusters with 20 cameras\u001b[0m\n",
      "\u001b[34mThere are 3 clusters with 22 cameras\u001b[0m\n",
      "\u001b[34mThere are 1 clusters with 23 cameras\u001b[0m\n",
      "\u001b[34mThere are 1 clusters with 24 cameras\u001b[0m\n",
      "\u001b[34mThere are 1 clusters with 25 cameras\u001b[0m\n",
      "\u001b[34mThere are 1 clusters with 26 cameras\u001b[0m\n",
      "\u001b[34mThere are 3 clusters with 28 cameras\u001b[0m\n",
      "\u001b[34mThere are 1 clusters with 35 cameras\u001b[0m\n",
      "\u001b[34mThere are 1 clusters with 37 cameras\u001b[0m\n",
      "\u001b[34mThere are 1 clusters with 40 cameras\u001b[0m\n",
      "\u001b[34mThere are 1 clusters with 42 cameras\u001b[0m\n",
      "\u001b[34mThere are 1 clusters with 45 cameras\u001b[0m\n",
      "\u001b[34mThere are 1 clusters with 46 cameras\u001b[0m\n",
      "\u001b[34mThere are 1 clusters with 49 cameras\u001b[0m\n",
      "\u001b[34mThere are 1 clusters with 50 cameras\u001b[0m\n",
      "\u001b[34mThere are 1 clusters with 63 cameras\u001b[0m\n",
      "\u001b[34mThere are 2 clusters with 68 cameras\u001b[0m\n",
      "\u001b[34mThere are 1 clusters with 168 cameras\u001b[0m\n",
      "Number of classes: 115\n",
      "\u001b[36mLearning Rate: 0.000175\u001b[0m\n",
      "encontrou modelos efficientnet. Carregando...\n",
      "encontrou modelos convnext. Carregando...\n",
      "encontrou modelos mobilenet. Carregando...\n",
      "encontrou modelos vgg16. Carregando...\n",
      "encontrou modelos resnet50. Carregando...\n",
      "encontrou modelos osnet. Carregando...\n",
      "encontrou modelos densenet121. Carregando...\n",
      "\u001b[33mValidating online efficientnet ...\u001b[0m\n",
      "Features extracted in 59.26 seconds\n",
      "Features extracted in 116.85 seconds\n",
      "Computing CMC and mAP ...\n",
      "** Results **\n",
      "mAP: 66.96%\n",
      "CMC curve\n",
      "Rank-1  : 49.76%\n",
      "Rank-5  : 88.29%\n",
      "Rank-10 : 96.33%\n",
      "Rank-20 : 99.32%\n",
      "\u001b[33mValidating momentum efficientnet ...\u001b[0m\n",
      "Features extracted in 58.27 seconds\n",
      "Features extracted in 116.00 seconds\n",
      "Computing CMC and mAP ...\n",
      "** Results **\n",
      "mAP: 66.33%\n",
      "CMC curve\n",
      "Rank-1  : 47.72%\n",
      "Rank-5  : 83.15%\n",
      "Rank-10 : 91.82%\n",
      "Rank-20 : 96.73%\n",
      "\u001b[33mValidating online convnext ...\u001b[0m\n",
      "Features extracted in 59.74 seconds\n",
      "Features extracted in 117.33 seconds\n",
      "Computing CMC and mAP ...\n",
      "** Results **\n",
      "mAP: 65.77%\n",
      "CMC curve\n",
      "Rank-1  : 46.59%\n",
      "Rank-5  : 75.46%\n",
      "Rank-10 : 86.74%\n",
      "Rank-20 : 94.66%\n",
      "\u001b[33mValidating momentum convnext ...\u001b[0m\n",
      "Features extracted in 59.59 seconds\n",
      "Features extracted in 121.43 seconds\n",
      "Computing CMC and mAP ...\n",
      "** Results **\n",
      "mAP: 64.96%\n",
      "CMC curve\n",
      "Rank-1  : 45.63%\n",
      "Rank-5  : 75.04%\n",
      "Rank-10 : 87.30%\n",
      "Rank-20 : 95.01%\n",
      "\u001b[33mValidating online mobilenet ...\u001b[0m\n",
      "Features extracted in 58.56 seconds\n",
      "Features extracted in 113.90 seconds\n",
      "Computing CMC and mAP ...\n",
      "** Results **\n",
      "mAP: 66.23%\n",
      "CMC curve\n",
      "Rank-1  : 51.24%\n",
      "Rank-5  : 86.31%\n",
      "Rank-10 : 94.85%\n",
      "Rank-20 : 99.15%\n",
      "\u001b[33mValidating momentum mobilenet ...\u001b[0m\n",
      "Features extracted in 59.29 seconds\n",
      "Features extracted in 115.68 seconds\n",
      "Computing CMC and mAP ...\n",
      "** Results **\n",
      "mAP: 66.41%\n",
      "CMC curve\n",
      "Rank-1  : 52.73%\n",
      "Rank-5  : 85.40%\n",
      "Rank-10 : 93.79%\n",
      "Rank-20 : 98.57%\n",
      "\u001b[33mValidating online vgg16 ...\u001b[0m\n",
      "Features extracted in 59.59 seconds\n",
      "Features extracted in 118.45 seconds\n",
      "Computing CMC and mAP ...\n",
      "** Results **\n",
      "mAP: 65.47%\n",
      "CMC curve\n",
      "Rank-1  : 43.56%\n",
      "Rank-5  : 75.41%\n",
      "Rank-10 : 85.98%\n",
      "Rank-20 : 92.95%\n",
      "\u001b[33mValidating momentum vgg16 ...\u001b[0m\n",
      "Features extracted in 60.40 seconds\n",
      "Features extracted in 117.75 seconds\n",
      "Computing CMC and mAP ...\n",
      "** Results **\n",
      "mAP: 65.67%\n",
      "CMC curve\n",
      "Rank-1  : 45.75%\n",
      "Rank-5  : 82.00%\n",
      "Rank-10 : 90.62%\n",
      "Rank-20 : 96.36%\n",
      "\u001b[33mValidating online resnet50 ...\u001b[0m\n",
      "Features extracted in 59.07 seconds\n",
      "Features extracted in 115.23 seconds\n",
      "Computing CMC and mAP ...\n",
      "** Results **\n",
      "mAP: 65.64%\n",
      "CMC curve\n",
      "Rank-1  : 44.24%\n",
      "Rank-5  : 67.84%\n",
      "Rank-10 : 75.44%\n",
      "Rank-20 : 82.42%\n",
      "\u001b[33mValidating momentum resnet50 ...\u001b[0m\n",
      "Features extracted in 61.05 seconds\n",
      "Features extracted in 119.37 seconds\n",
      "Computing CMC and mAP ...\n",
      "** Results **\n",
      "mAP: 64.94%\n",
      "CMC curve\n",
      "Rank-1  : 43.33%\n",
      "Rank-5  : 71.52%\n",
      "Rank-10 : 80.95%\n",
      "Rank-20 : 90.36%\n",
      "\u001b[33mValidating online osnet ...\u001b[0m\n",
      "Features extracted in 60.77 seconds\n",
      "Features extracted in 118.68 seconds\n",
      "Computing CMC and mAP ...\n",
      "** Results **\n",
      "mAP: 66.87%\n",
      "CMC curve\n",
      "Rank-1  : 48.11%\n",
      "Rank-5  : 84.70%\n",
      "Rank-10 : 95.19%\n",
      "Rank-20 : 99.23%\n",
      "\u001b[33mValidating momentum osnet ...\u001b[0m\n",
      "Features extracted in 59.92 seconds\n",
      "Features extracted in 119.60 seconds\n",
      "Computing CMC and mAP ...\n",
      "** Results **\n",
      "mAP: 67.06%\n",
      "CMC curve\n",
      "Rank-1  : 51.39%\n",
      "Rank-5  : 86.67%\n",
      "Rank-10 : 94.96%\n",
      "Rank-20 : 98.71%\n",
      "\u001b[33mValidating online densenet121 ...\u001b[0m\n",
      "Features extracted in 61.43 seconds\n",
      "Features extracted in 119.41 seconds\n",
      "Computing CMC and mAP ...\n",
      "** Results **\n",
      "mAP: 65.34%\n",
      "CMC curve\n",
      "Rank-1  : 45.42%\n",
      "Rank-5  : 74.47%\n",
      "Rank-10 : 84.90%\n",
      "Rank-20 : 93.93%\n",
      "\u001b[33mValidating momentum densenet121 ...\u001b[0m\n",
      "Features extracted in 60.95 seconds\n",
      "Features extracted in 120.11 seconds\n",
      "Computing CMC and mAP ...\n",
      "** Results **\n",
      "mAP: 65.71%\n",
      "CMC curve\n",
      "Rank-1  : 46.36%\n",
      "Rank-5  : 79.22%\n",
      "Rank-10 : 88.80%\n",
      "Rank-20 : 95.19%\n",
      "\u001b[33mValidating ensembled with online models ...\u001b[0m\n",
      "Computing CMC and mAP ...\n",
      "** Results **\n",
      "mAP: 65.61%\n",
      "Ranks:\n",
      "Rank-1  : 45.50%\n",
      "Rank-5  : 70.24%\n",
      "Rank-10 : 79.04%\n",
      "\u001b[33mValidating ensembled with momentum models ...\u001b[0m\n",
      "Computing CMC and mAP ...\n",
      "** Results **\n",
      "mAP: 65.36%\n",
      "Ranks:\n",
      "Rank-1  : 43.96%\n",
      "Rank-5  : 75.79%\n",
      "Rank-10 : 85.67%\n",
      "###============ Iteration number 81/90 ============###\n",
      "Extracting Online Features for efficientnet ...\n",
      "Features extracted in 187.48 seconds\n",
      "Computing jaccard distance...\n"
     ]
    },
    {
     "name": "stderr",
     "output_type": "stream",
     "text": [
      "bruteForceKnn is deprecated; call bfKnn instead\n"
     ]
    },
    {
     "name": "stdout",
     "output_type": "stream",
     "text": [
      "Jaccard distance computing time cost: 77.64922189712524\n",
      "Extracting Online Features for convnext ...\n",
      "Features extracted in 190.37 seconds\n",
      "Computing jaccard distance...\n"
     ]
    },
    {
     "name": "stderr",
     "output_type": "stream",
     "text": [
      "bruteForceKnn is deprecated; call bfKnn instead\n"
     ]
    },
    {
     "name": "stdout",
     "output_type": "stream",
     "text": [
      "Jaccard distance computing time cost: 70.1442813873291\n",
      "Extracting Online Features for mobilenet ...\n",
      "Features extracted in 190.68 seconds\n",
      "Computing jaccard distance...\n"
     ]
    },
    {
     "name": "stderr",
     "output_type": "stream",
     "text": [
      "bruteForceKnn is deprecated; call bfKnn instead\n"
     ]
    },
    {
     "name": "stdout",
     "output_type": "stream",
     "text": [
      "Jaccard distance computing time cost: 68.75206112861633\n",
      "Extracting Online Features for vgg16 ...\n",
      "Features extracted in 190.98 seconds\n",
      "Computing jaccard distance...\n"
     ]
    },
    {
     "name": "stderr",
     "output_type": "stream",
     "text": [
      "bruteForceKnn is deprecated; call bfKnn instead\n"
     ]
    },
    {
     "name": "stdout",
     "output_type": "stream",
     "text": [
      "Jaccard distance computing time cost: 72.4644718170166\n",
      "Extracting Online Features for resnet50 ...\n",
      "Features extracted in 186.57 seconds\n",
      "Computing jaccard distance...\n"
     ]
    },
    {
     "name": "stderr",
     "output_type": "stream",
     "text": [
      "bruteForceKnn is deprecated; call bfKnn instead\n"
     ]
    },
    {
     "name": "stdout",
     "output_type": "stream",
     "text": [
      "Jaccard distance computing time cost: 71.88920617103577\n",
      "Extracting Online Features for osnet ...\n",
      "Features extracted in 188.60 seconds\n",
      "Computing jaccard distance...\n"
     ]
    },
    {
     "name": "stderr",
     "output_type": "stream",
     "text": [
      "bruteForceKnn is deprecated; call bfKnn instead\n"
     ]
    },
    {
     "name": "stdout",
     "output_type": "stream",
     "text": [
      "Jaccard distance computing time cost: 74.80920433998108\n",
      "Extracting Online Features for densenet121 ...\n",
      "Features extracted in 190.87 seconds\n",
      "Computing jaccard distance...\n"
     ]
    },
    {
     "name": "stderr",
     "output_type": "stream",
     "text": [
      "bruteForceKnn is deprecated; call bfKnn instead\n"
     ]
    },
    {
     "name": "stdout",
     "output_type": "stream",
     "text": [
      "Jaccard distance computing time cost: 73.39360785484314\n",
      "Reliability: 0.044\n",
      "\u001b[32mMean Purity: 0.02052\u001b[0m\n",
      "\u001b[34mThere are 20 clusters with 4 cameras\u001b[0m\n",
      "\u001b[34mThere are 21 clusters with 5 cameras\u001b[0m\n",
      "\u001b[34mThere are 11 clusters with 6 cameras\u001b[0m\n",
      "\u001b[34mThere are 8 clusters with 7 cameras\u001b[0m\n",
      "\u001b[34mThere are 2 clusters with 8 cameras\u001b[0m\n",
      "\u001b[34mThere are 4 clusters with 9 cameras\u001b[0m\n",
      "\u001b[34mThere are 4 clusters with 10 cameras\u001b[0m\n",
      "\u001b[34mThere are 4 clusters with 11 cameras\u001b[0m\n",
      "\u001b[34mThere are 3 clusters with 12 cameras\u001b[0m\n",
      "\u001b[34mThere are 5 clusters with 13 cameras\u001b[0m\n",
      "\u001b[34mThere are 2 clusters with 16 cameras\u001b[0m\n",
      "\u001b[34mThere are 2 clusters with 17 cameras\u001b[0m\n",
      "\u001b[34mThere are 2 clusters with 18 cameras\u001b[0m\n",
      "\u001b[34mThere are 1 clusters with 19 cameras\u001b[0m\n",
      "\u001b[34mThere are 4 clusters with 20 cameras\u001b[0m\n",
      "\u001b[34mThere are 3 clusters with 22 cameras\u001b[0m\n",
      "\u001b[34mThere are 1 clusters with 23 cameras\u001b[0m\n",
      "\u001b[34mThere are 1 clusters with 24 cameras\u001b[0m\n",
      "\u001b[34mThere are 1 clusters with 25 cameras\u001b[0m\n",
      "\u001b[34mThere are 1 clusters with 26 cameras\u001b[0m\n",
      "\u001b[34mThere are 3 clusters with 28 cameras\u001b[0m\n",
      "\u001b[34mThere are 1 clusters with 35 cameras\u001b[0m\n",
      "\u001b[34mThere are 1 clusters with 37 cameras\u001b[0m\n",
      "\u001b[34mThere are 1 clusters with 40 cameras\u001b[0m\n",
      "\u001b[34mThere are 1 clusters with 42 cameras\u001b[0m\n",
      "\u001b[34mThere are 1 clusters with 45 cameras\u001b[0m\n",
      "\u001b[34mThere are 1 clusters with 46 cameras\u001b[0m\n",
      "\u001b[34mThere are 1 clusters with 49 cameras\u001b[0m\n",
      "\u001b[34mThere are 1 clusters with 50 cameras\u001b[0m\n",
      "\u001b[34mThere are 1 clusters with 63 cameras\u001b[0m\n",
      "\u001b[34mThere are 2 clusters with 68 cameras\u001b[0m\n",
      "\u001b[34mThere are 1 clusters with 168 cameras\u001b[0m\n",
      "Number of classes: 115\n",
      "\u001b[36mLearning Rate: 0.000193\u001b[0m\n",
      "encontrou modelos efficientnet. Carregando...\n",
      "encontrou modelos convnext. Carregando...\n",
      "encontrou modelos mobilenet. Carregando...\n",
      "encontrou modelos vgg16. Carregando...\n",
      "encontrou modelos resnet50. Carregando...\n",
      "encontrou modelos osnet. Carregando...\n",
      "encontrou modelos densenet121. Carregando...\n",
      "###============ Iteration number 82/90 ============###\n",
      "Extracting Online Features for efficientnet ...\n",
      "Features extracted in 190.55 seconds\n",
      "Computing jaccard distance...\n"
     ]
    },
    {
     "name": "stderr",
     "output_type": "stream",
     "text": [
      "bruteForceKnn is deprecated; call bfKnn instead\n"
     ]
    },
    {
     "name": "stdout",
     "output_type": "stream",
     "text": [
      "Jaccard distance computing time cost: 78.48593807220459\n",
      "Extracting Online Features for convnext ...\n",
      "Features extracted in 192.52 seconds\n",
      "Computing jaccard distance...\n"
     ]
    },
    {
     "name": "stderr",
     "output_type": "stream",
     "text": [
      "bruteForceKnn is deprecated; call bfKnn instead\n"
     ]
    },
    {
     "name": "stdout",
     "output_type": "stream",
     "text": [
      "Jaccard distance computing time cost: 74.76274967193604\n",
      "Extracting Online Features for mobilenet ...\n",
      "Features extracted in 188.98 seconds\n",
      "Computing jaccard distance...\n"
     ]
    },
    {
     "name": "stderr",
     "output_type": "stream",
     "text": [
      "bruteForceKnn is deprecated; call bfKnn instead\n"
     ]
    },
    {
     "name": "stdout",
     "output_type": "stream",
     "text": [
      "Jaccard distance computing time cost: 69.63781118392944\n",
      "Extracting Online Features for vgg16 ...\n",
      "Features extracted in 190.72 seconds\n",
      "Computing jaccard distance...\n"
     ]
    },
    {
     "name": "stderr",
     "output_type": "stream",
     "text": [
      "bruteForceKnn is deprecated; call bfKnn instead\n"
     ]
    },
    {
     "name": "stdout",
     "output_type": "stream",
     "text": [
      "Jaccard distance computing time cost: 71.95286321640015\n",
      "Extracting Online Features for resnet50 ...\n",
      "Features extracted in 190.84 seconds\n",
      "Computing jaccard distance...\n"
     ]
    },
    {
     "name": "stderr",
     "output_type": "stream",
     "text": [
      "bruteForceKnn is deprecated; call bfKnn instead\n"
     ]
    },
    {
     "name": "stdout",
     "output_type": "stream",
     "text": [
      "Jaccard distance computing time cost: 67.90935516357422\n",
      "Extracting Online Features for osnet ...\n",
      "Features extracted in 189.96 seconds\n",
      "Computing jaccard distance...\n"
     ]
    },
    {
     "name": "stderr",
     "output_type": "stream",
     "text": [
      "bruteForceKnn is deprecated; call bfKnn instead\n"
     ]
    },
    {
     "name": "stdout",
     "output_type": "stream",
     "text": [
      "Jaccard distance computing time cost: 72.84365344047546\n",
      "Extracting Online Features for densenet121 ...\n",
      "Features extracted in 189.93 seconds\n",
      "Computing jaccard distance...\n"
     ]
    },
    {
     "name": "stderr",
     "output_type": "stream",
     "text": [
      "bruteForceKnn is deprecated; call bfKnn instead\n"
     ]
    },
    {
     "name": "stdout",
     "output_type": "stream",
     "text": [
      "Jaccard distance computing time cost: 74.71625924110413\n",
      "Reliability: 0.044\n",
      "\u001b[32mMean Purity: 0.02052\u001b[0m\n",
      "\u001b[34mThere are 20 clusters with 4 cameras\u001b[0m\n",
      "\u001b[34mThere are 21 clusters with 5 cameras\u001b[0m\n",
      "\u001b[34mThere are 11 clusters with 6 cameras\u001b[0m\n",
      "\u001b[34mThere are 8 clusters with 7 cameras\u001b[0m\n",
      "\u001b[34mThere are 2 clusters with 8 cameras\u001b[0m\n",
      "\u001b[34mThere are 4 clusters with 9 cameras\u001b[0m\n",
      "\u001b[34mThere are 4 clusters with 10 cameras\u001b[0m\n",
      "\u001b[34mThere are 4 clusters with 11 cameras\u001b[0m\n",
      "\u001b[34mThere are 3 clusters with 12 cameras\u001b[0m\n",
      "\u001b[34mThere are 5 clusters with 13 cameras\u001b[0m\n",
      "\u001b[34mThere are 2 clusters with 16 cameras\u001b[0m\n",
      "\u001b[34mThere are 2 clusters with 17 cameras\u001b[0m\n",
      "\u001b[34mThere are 2 clusters with 18 cameras\u001b[0m\n",
      "\u001b[34mThere are 1 clusters with 19 cameras\u001b[0m\n",
      "\u001b[34mThere are 4 clusters with 20 cameras\u001b[0m\n",
      "\u001b[34mThere are 3 clusters with 22 cameras\u001b[0m\n",
      "\u001b[34mThere are 1 clusters with 23 cameras\u001b[0m\n",
      "\u001b[34mThere are 1 clusters with 24 cameras\u001b[0m\n",
      "\u001b[34mThere are 1 clusters with 25 cameras\u001b[0m\n",
      "\u001b[34mThere are 1 clusters with 26 cameras\u001b[0m\n",
      "\u001b[34mThere are 3 clusters with 28 cameras\u001b[0m\n",
      "\u001b[34mThere are 1 clusters with 35 cameras\u001b[0m\n",
      "\u001b[34mThere are 1 clusters with 37 cameras\u001b[0m\n",
      "\u001b[34mThere are 1 clusters with 40 cameras\u001b[0m\n",
      "\u001b[34mThere are 1 clusters with 42 cameras\u001b[0m\n",
      "\u001b[34mThere are 1 clusters with 45 cameras\u001b[0m\n",
      "\u001b[34mThere are 1 clusters with 46 cameras\u001b[0m\n",
      "\u001b[34mThere are 1 clusters with 49 cameras\u001b[0m\n",
      "\u001b[34mThere are 1 clusters with 50 cameras\u001b[0m\n",
      "\u001b[34mThere are 1 clusters with 63 cameras\u001b[0m\n",
      "\u001b[34mThere are 2 clusters with 68 cameras\u001b[0m\n",
      "\u001b[34mThere are 1 clusters with 168 cameras\u001b[0m\n",
      "Number of classes: 115\n",
      "\u001b[36mLearning Rate: 0.000210\u001b[0m\n",
      "encontrou modelos efficientnet. Carregando...\n",
      "encontrou modelos convnext. Carregando...\n",
      "encontrou modelos mobilenet. Carregando...\n",
      "encontrou modelos vgg16. Carregando...\n",
      "encontrou modelos resnet50. Carregando...\n",
      "encontrou modelos osnet. Carregando...\n",
      "encontrou modelos densenet121. Carregando...\n",
      "###============ Iteration number 83/90 ============###\n",
      "Extracting Online Features for efficientnet ...\n",
      "Features extracted in 192.48 seconds\n",
      "Computing jaccard distance...\n"
     ]
    },
    {
     "name": "stderr",
     "output_type": "stream",
     "text": [
      "bruteForceKnn is deprecated; call bfKnn instead\n"
     ]
    },
    {
     "name": "stdout",
     "output_type": "stream",
     "text": [
      "Jaccard distance computing time cost: 79.52516007423401\n",
      "Extracting Online Features for convnext ...\n",
      "Features extracted in 189.60 seconds\n",
      "Computing jaccard distance...\n"
     ]
    },
    {
     "name": "stderr",
     "output_type": "stream",
     "text": [
      "bruteForceKnn is deprecated; call bfKnn instead\n"
     ]
    },
    {
     "name": "stdout",
     "output_type": "stream",
     "text": [
      "Jaccard distance computing time cost: 70.4437906742096\n",
      "Extracting Online Features for mobilenet ...\n",
      "Features extracted in 189.49 seconds\n",
      "Computing jaccard distance...\n"
     ]
    },
    {
     "name": "stderr",
     "output_type": "stream",
     "text": [
      "bruteForceKnn is deprecated; call bfKnn instead\n"
     ]
    },
    {
     "name": "stdout",
     "output_type": "stream",
     "text": [
      "Jaccard distance computing time cost: 70.67573952674866\n",
      "Extracting Online Features for vgg16 ...\n",
      "Features extracted in 188.70 seconds\n",
      "Computing jaccard distance...\n"
     ]
    },
    {
     "name": "stderr",
     "output_type": "stream",
     "text": [
      "bruteForceKnn is deprecated; call bfKnn instead\n"
     ]
    },
    {
     "name": "stdout",
     "output_type": "stream",
     "text": [
      "Jaccard distance computing time cost: 70.55893015861511\n",
      "Extracting Online Features for resnet50 ...\n",
      "Features extracted in 189.03 seconds\n",
      "Computing jaccard distance...\n"
     ]
    },
    {
     "name": "stderr",
     "output_type": "stream",
     "text": [
      "bruteForceKnn is deprecated; call bfKnn instead\n"
     ]
    },
    {
     "name": "stdout",
     "output_type": "stream",
     "text": [
      "Jaccard distance computing time cost: 69.00526118278503\n",
      "Extracting Online Features for osnet ...\n",
      "Features extracted in 189.69 seconds\n",
      "Computing jaccard distance...\n"
     ]
    },
    {
     "name": "stderr",
     "output_type": "stream",
     "text": [
      "bruteForceKnn is deprecated; call bfKnn instead\n"
     ]
    },
    {
     "name": "stdout",
     "output_type": "stream",
     "text": [
      "Jaccard distance computing time cost: 73.01422119140625\n",
      "Extracting Online Features for densenet121 ...\n",
      "Features extracted in 191.00 seconds\n",
      "Computing jaccard distance...\n"
     ]
    },
    {
     "name": "stderr",
     "output_type": "stream",
     "text": [
      "bruteForceKnn is deprecated; call bfKnn instead\n"
     ]
    },
    {
     "name": "stdout",
     "output_type": "stream",
     "text": [
      "Jaccard distance computing time cost: 72.76958060264587\n",
      "Reliability: 0.044\n",
      "\u001b[32mMean Purity: 0.02052\u001b[0m\n",
      "\u001b[34mThere are 20 clusters with 4 cameras\u001b[0m\n",
      "\u001b[34mThere are 21 clusters with 5 cameras\u001b[0m\n",
      "\u001b[34mThere are 11 clusters with 6 cameras\u001b[0m\n",
      "\u001b[34mThere are 8 clusters with 7 cameras\u001b[0m\n",
      "\u001b[34mThere are 2 clusters with 8 cameras\u001b[0m\n",
      "\u001b[34mThere are 4 clusters with 9 cameras\u001b[0m\n",
      "\u001b[34mThere are 4 clusters with 10 cameras\u001b[0m\n",
      "\u001b[34mThere are 4 clusters with 11 cameras\u001b[0m\n",
      "\u001b[34mThere are 3 clusters with 12 cameras\u001b[0m\n",
      "\u001b[34mThere are 5 clusters with 13 cameras\u001b[0m\n",
      "\u001b[34mThere are 2 clusters with 16 cameras\u001b[0m\n",
      "\u001b[34mThere are 2 clusters with 17 cameras\u001b[0m\n",
      "\u001b[34mThere are 2 clusters with 18 cameras\u001b[0m\n",
      "\u001b[34mThere are 1 clusters with 19 cameras\u001b[0m\n",
      "\u001b[34mThere are 4 clusters with 20 cameras\u001b[0m\n",
      "\u001b[34mThere are 3 clusters with 22 cameras\u001b[0m\n",
      "\u001b[34mThere are 1 clusters with 23 cameras\u001b[0m\n",
      "\u001b[34mThere are 1 clusters with 24 cameras\u001b[0m\n",
      "\u001b[34mThere are 1 clusters with 25 cameras\u001b[0m\n",
      "\u001b[34mThere are 1 clusters with 26 cameras\u001b[0m\n",
      "\u001b[34mThere are 3 clusters with 28 cameras\u001b[0m\n",
      "\u001b[34mThere are 1 clusters with 35 cameras\u001b[0m\n",
      "\u001b[34mThere are 1 clusters with 37 cameras\u001b[0m\n",
      "\u001b[34mThere are 1 clusters with 40 cameras\u001b[0m\n",
      "\u001b[34mThere are 1 clusters with 42 cameras\u001b[0m\n",
      "\u001b[34mThere are 1 clusters with 45 cameras\u001b[0m\n",
      "\u001b[34mThere are 1 clusters with 46 cameras\u001b[0m\n",
      "\u001b[34mThere are 1 clusters with 49 cameras\u001b[0m\n",
      "\u001b[34mThere are 1 clusters with 50 cameras\u001b[0m\n",
      "\u001b[34mThere are 1 clusters with 63 cameras\u001b[0m\n",
      "\u001b[34mThere are 2 clusters with 68 cameras\u001b[0m\n",
      "\u001b[34mThere are 1 clusters with 168 cameras\u001b[0m\n",
      "Number of classes: 115\n",
      "\u001b[36mLearning Rate: 0.000228\u001b[0m\n",
      "encontrou modelos efficientnet. Carregando...\n",
      "encontrou modelos convnext. Carregando...\n",
      "encontrou modelos mobilenet. Carregando...\n",
      "encontrou modelos vgg16. Carregando...\n",
      "encontrou modelos resnet50. Carregando...\n",
      "encontrou modelos osnet. Carregando...\n",
      "encontrou modelos densenet121. Carregando...\n",
      "###============ Iteration number 84/90 ============###\n",
      "Extracting Online Features for efficientnet ...\n",
      "Features extracted in 191.17 seconds\n",
      "Computing jaccard distance...\n"
     ]
    },
    {
     "name": "stderr",
     "output_type": "stream",
     "text": [
      "bruteForceKnn is deprecated; call bfKnn instead\n"
     ]
    },
    {
     "name": "stdout",
     "output_type": "stream",
     "text": [
      "Jaccard distance computing time cost: 78.50946640968323\n",
      "Extracting Online Features for convnext ...\n",
      "Features extracted in 192.97 seconds\n",
      "Computing jaccard distance...\n"
     ]
    },
    {
     "name": "stderr",
     "output_type": "stream",
     "text": [
      "bruteForceKnn is deprecated; call bfKnn instead\n"
     ]
    },
    {
     "name": "stdout",
     "output_type": "stream",
     "text": [
      "Jaccard distance computing time cost: 72.64175343513489\n",
      "Extracting Online Features for mobilenet ...\n",
      "Features extracted in 187.84 seconds\n",
      "Computing jaccard distance...\n"
     ]
    },
    {
     "name": "stderr",
     "output_type": "stream",
     "text": [
      "bruteForceKnn is deprecated; call bfKnn instead\n"
     ]
    },
    {
     "name": "stdout",
     "output_type": "stream",
     "text": [
      "Jaccard distance computing time cost: 69.97452020645142\n",
      "Extracting Online Features for vgg16 ...\n",
      "Features extracted in 188.07 seconds\n",
      "Computing jaccard distance...\n"
     ]
    },
    {
     "name": "stderr",
     "output_type": "stream",
     "text": [
      "bruteForceKnn is deprecated; call bfKnn instead\n"
     ]
    },
    {
     "name": "stdout",
     "output_type": "stream",
     "text": [
      "Jaccard distance computing time cost: 72.2314236164093\n",
      "Extracting Online Features for resnet50 ...\n",
      "Features extracted in 190.12 seconds\n",
      "Computing jaccard distance...\n"
     ]
    },
    {
     "name": "stderr",
     "output_type": "stream",
     "text": [
      "bruteForceKnn is deprecated; call bfKnn instead\n"
     ]
    },
    {
     "name": "stdout",
     "output_type": "stream",
     "text": [
      "Jaccard distance computing time cost: 70.55652475357056\n",
      "Extracting Online Features for osnet ...\n",
      "Features extracted in 189.03 seconds\n",
      "Computing jaccard distance...\n"
     ]
    },
    {
     "name": "stderr",
     "output_type": "stream",
     "text": [
      "bruteForceKnn is deprecated; call bfKnn instead\n"
     ]
    },
    {
     "name": "stdout",
     "output_type": "stream",
     "text": [
      "Jaccard distance computing time cost: 69.6042411327362\n",
      "Extracting Online Features for densenet121 ...\n",
      "Features extracted in 186.32 seconds\n",
      "Computing jaccard distance...\n"
     ]
    },
    {
     "name": "stderr",
     "output_type": "stream",
     "text": [
      "bruteForceKnn is deprecated; call bfKnn instead\n"
     ]
    },
    {
     "name": "stdout",
     "output_type": "stream",
     "text": [
      "Jaccard distance computing time cost: 71.83480262756348\n",
      "Reliability: 0.044\n",
      "\u001b[32mMean Purity: 0.02052\u001b[0m\n",
      "\u001b[34mThere are 20 clusters with 4 cameras\u001b[0m\n",
      "\u001b[34mThere are 21 clusters with 5 cameras\u001b[0m\n",
      "\u001b[34mThere are 11 clusters with 6 cameras\u001b[0m\n",
      "\u001b[34mThere are 8 clusters with 7 cameras\u001b[0m\n",
      "\u001b[34mThere are 2 clusters with 8 cameras\u001b[0m\n",
      "\u001b[34mThere are 4 clusters with 9 cameras\u001b[0m\n",
      "\u001b[34mThere are 4 clusters with 10 cameras\u001b[0m\n",
      "\u001b[34mThere are 4 clusters with 11 cameras\u001b[0m\n",
      "\u001b[34mThere are 3 clusters with 12 cameras\u001b[0m\n",
      "\u001b[34mThere are 5 clusters with 13 cameras\u001b[0m\n",
      "\u001b[34mThere are 2 clusters with 16 cameras\u001b[0m\n",
      "\u001b[34mThere are 2 clusters with 17 cameras\u001b[0m\n",
      "\u001b[34mThere are 2 clusters with 18 cameras\u001b[0m\n",
      "\u001b[34mThere are 1 clusters with 19 cameras\u001b[0m\n",
      "\u001b[34mThere are 4 clusters with 20 cameras\u001b[0m\n",
      "\u001b[34mThere are 3 clusters with 22 cameras\u001b[0m\n",
      "\u001b[34mThere are 1 clusters with 23 cameras\u001b[0m\n",
      "\u001b[34mThere are 1 clusters with 24 cameras\u001b[0m\n",
      "\u001b[34mThere are 1 clusters with 25 cameras\u001b[0m\n",
      "\u001b[34mThere are 1 clusters with 26 cameras\u001b[0m\n",
      "\u001b[34mThere are 3 clusters with 28 cameras\u001b[0m\n",
      "\u001b[34mThere are 1 clusters with 35 cameras\u001b[0m\n",
      "\u001b[34mThere are 1 clusters with 37 cameras\u001b[0m\n",
      "\u001b[34mThere are 1 clusters with 40 cameras\u001b[0m\n",
      "\u001b[34mThere are 1 clusters with 42 cameras\u001b[0m\n",
      "\u001b[34mThere are 1 clusters with 45 cameras\u001b[0m\n",
      "\u001b[34mThere are 1 clusters with 46 cameras\u001b[0m\n",
      "\u001b[34mThere are 1 clusters with 49 cameras\u001b[0m\n",
      "\u001b[34mThere are 1 clusters with 50 cameras\u001b[0m\n",
      "\u001b[34mThere are 1 clusters with 63 cameras\u001b[0m\n",
      "\u001b[34mThere are 2 clusters with 68 cameras\u001b[0m\n",
      "\u001b[34mThere are 1 clusters with 168 cameras\u001b[0m\n",
      "Number of classes: 115\n",
      "\u001b[36mLearning Rate: 0.000245\u001b[0m\n",
      "encontrou modelos efficientnet. Carregando...\n",
      "encontrou modelos convnext. Carregando...\n",
      "encontrou modelos mobilenet. Carregando...\n",
      "encontrou modelos vgg16. Carregando...\n",
      "encontrou modelos resnet50. Carregando...\n",
      "encontrou modelos osnet. Carregando...\n",
      "encontrou modelos densenet121. Carregando...\n",
      "###============ Iteration number 85/90 ============###\n",
      "Extracting Online Features for efficientnet ...\n",
      "Features extracted in 193.24 seconds\n",
      "Computing jaccard distance...\n"
     ]
    },
    {
     "name": "stderr",
     "output_type": "stream",
     "text": [
      "bruteForceKnn is deprecated; call bfKnn instead\n"
     ]
    },
    {
     "name": "stdout",
     "output_type": "stream",
     "text": [
      "Jaccard distance computing time cost: 85.35535740852356\n",
      "Extracting Online Features for convnext ...\n",
      "Features extracted in 192.99 seconds\n",
      "Computing jaccard distance...\n"
     ]
    },
    {
     "name": "stderr",
     "output_type": "stream",
     "text": [
      "bruteForceKnn is deprecated; call bfKnn instead\n"
     ]
    },
    {
     "name": "stdout",
     "output_type": "stream",
     "text": [
      "Jaccard distance computing time cost: 71.50640559196472\n",
      "Extracting Online Features for mobilenet ...\n",
      "Features extracted in 189.93 seconds\n",
      "Computing jaccard distance...\n"
     ]
    },
    {
     "name": "stderr",
     "output_type": "stream",
     "text": [
      "bruteForceKnn is deprecated; call bfKnn instead\n"
     ]
    },
    {
     "name": "stdout",
     "output_type": "stream",
     "text": [
      "Jaccard distance computing time cost: 70.32650136947632\n",
      "Extracting Online Features for vgg16 ...\n",
      "Features extracted in 190.87 seconds\n",
      "Computing jaccard distance...\n"
     ]
    },
    {
     "name": "stderr",
     "output_type": "stream",
     "text": [
      "bruteForceKnn is deprecated; call bfKnn instead\n"
     ]
    },
    {
     "name": "stdout",
     "output_type": "stream",
     "text": [
      "Jaccard distance computing time cost: 70.93730044364929\n",
      "Extracting Online Features for resnet50 ...\n",
      "Features extracted in 191.22 seconds\n",
      "Computing jaccard distance...\n"
     ]
    },
    {
     "name": "stderr",
     "output_type": "stream",
     "text": [
      "bruteForceKnn is deprecated; call bfKnn instead\n"
     ]
    },
    {
     "name": "stdout",
     "output_type": "stream",
     "text": [
      "Jaccard distance computing time cost: 70.432537317276\n",
      "Extracting Online Features for osnet ...\n",
      "Features extracted in 192.22 seconds\n",
      "Computing jaccard distance...\n"
     ]
    },
    {
     "name": "stderr",
     "output_type": "stream",
     "text": [
      "bruteForceKnn is deprecated; call bfKnn instead\n"
     ]
    },
    {
     "name": "stdout",
     "output_type": "stream",
     "text": [
      "Jaccard distance computing time cost: 70.75905251502991\n",
      "Extracting Online Features for densenet121 ...\n",
      "Features extracted in 192.46 seconds\n",
      "Computing jaccard distance...\n"
     ]
    },
    {
     "name": "stderr",
     "output_type": "stream",
     "text": [
      "bruteForceKnn is deprecated; call bfKnn instead\n"
     ]
    },
    {
     "name": "stdout",
     "output_type": "stream",
     "text": [
      "Jaccard distance computing time cost: 72.95292329788208\n",
      "Reliability: 0.044\n",
      "\u001b[32mMean Purity: 0.02052\u001b[0m\n",
      "\u001b[34mThere are 20 clusters with 4 cameras\u001b[0m\n",
      "\u001b[34mThere are 21 clusters with 5 cameras\u001b[0m\n",
      "\u001b[34mThere are 11 clusters with 6 cameras\u001b[0m\n",
      "\u001b[34mThere are 8 clusters with 7 cameras\u001b[0m\n",
      "\u001b[34mThere are 2 clusters with 8 cameras\u001b[0m\n",
      "\u001b[34mThere are 4 clusters with 9 cameras\u001b[0m\n",
      "\u001b[34mThere are 4 clusters with 10 cameras\u001b[0m\n",
      "\u001b[34mThere are 4 clusters with 11 cameras\u001b[0m\n",
      "\u001b[34mThere are 3 clusters with 12 cameras\u001b[0m\n",
      "\u001b[34mThere are 5 clusters with 13 cameras\u001b[0m\n",
      "\u001b[34mThere are 2 clusters with 16 cameras\u001b[0m\n",
      "\u001b[34mThere are 2 clusters with 17 cameras\u001b[0m\n",
      "\u001b[34mThere are 2 clusters with 18 cameras\u001b[0m\n",
      "\u001b[34mThere are 1 clusters with 19 cameras\u001b[0m\n",
      "\u001b[34mThere are 4 clusters with 20 cameras\u001b[0m\n",
      "\u001b[34mThere are 3 clusters with 22 cameras\u001b[0m\n",
      "\u001b[34mThere are 1 clusters with 23 cameras\u001b[0m\n",
      "\u001b[34mThere are 1 clusters with 24 cameras\u001b[0m\n",
      "\u001b[34mThere are 1 clusters with 25 cameras\u001b[0m\n",
      "\u001b[34mThere are 1 clusters with 26 cameras\u001b[0m\n",
      "\u001b[34mThere are 3 clusters with 28 cameras\u001b[0m\n",
      "\u001b[34mThere are 1 clusters with 35 cameras\u001b[0m\n",
      "\u001b[34mThere are 1 clusters with 37 cameras\u001b[0m\n",
      "\u001b[34mThere are 1 clusters with 40 cameras\u001b[0m\n",
      "\u001b[34mThere are 1 clusters with 42 cameras\u001b[0m\n",
      "\u001b[34mThere are 1 clusters with 45 cameras\u001b[0m\n",
      "\u001b[34mThere are 1 clusters with 46 cameras\u001b[0m\n",
      "\u001b[34mThere are 1 clusters with 49 cameras\u001b[0m\n",
      "\u001b[34mThere are 1 clusters with 50 cameras\u001b[0m\n",
      "\u001b[34mThere are 1 clusters with 63 cameras\u001b[0m\n",
      "\u001b[34mThere are 2 clusters with 68 cameras\u001b[0m\n",
      "\u001b[34mThere are 1 clusters with 168 cameras\u001b[0m\n",
      "Number of classes: 115\n",
      "\u001b[36mLearning Rate: 0.000263\u001b[0m\n",
      "encontrou modelos efficientnet. Carregando...\n",
      "encontrou modelos convnext. Carregando...\n",
      "encontrou modelos mobilenet. Carregando...\n",
      "encontrou modelos vgg16. Carregando...\n",
      "encontrou modelos resnet50. Carregando...\n",
      "encontrou modelos osnet. Carregando...\n",
      "encontrou modelos densenet121. Carregando...\n",
      "\u001b[33mValidating online efficientnet ...\u001b[0m\n",
      "Features extracted in 58.72 seconds\n",
      "Features extracted in 116.57 seconds\n",
      "Computing CMC and mAP ...\n",
      "** Results **\n",
      "mAP: 66.96%\n",
      "CMC curve\n",
      "Rank-1  : 49.76%\n",
      "Rank-5  : 88.29%\n",
      "Rank-10 : 96.33%\n",
      "Rank-20 : 99.32%\n",
      "\u001b[33mValidating momentum efficientnet ...\u001b[0m\n",
      "Features extracted in 58.38 seconds\n",
      "Features extracted in 117.67 seconds\n",
      "Computing CMC and mAP ...\n",
      "** Results **\n",
      "mAP: 66.33%\n",
      "CMC curve\n",
      "Rank-1  : 47.72%\n",
      "Rank-5  : 83.15%\n",
      "Rank-10 : 91.82%\n",
      "Rank-20 : 96.73%\n",
      "\u001b[33mValidating online convnext ...\u001b[0m\n",
      "Features extracted in 58.84 seconds\n",
      "Features extracted in 117.42 seconds\n",
      "Computing CMC and mAP ...\n",
      "** Results **\n",
      "mAP: 65.77%\n",
      "CMC curve\n",
      "Rank-1  : 46.59%\n",
      "Rank-5  : 75.46%\n",
      "Rank-10 : 86.74%\n",
      "Rank-20 : 94.66%\n",
      "\u001b[33mValidating momentum convnext ...\u001b[0m\n",
      "Features extracted in 59.28 seconds\n",
      "Features extracted in 117.91 seconds\n",
      "Computing CMC and mAP ...\n",
      "** Results **\n",
      "mAP: 64.96%\n",
      "CMC curve\n",
      "Rank-1  : 45.63%\n",
      "Rank-5  : 75.04%\n",
      "Rank-10 : 87.30%\n",
      "Rank-20 : 95.01%\n",
      "\u001b[33mValidating online mobilenet ...\u001b[0m\n",
      "Features extracted in 58.36 seconds\n",
      "Features extracted in 117.47 seconds\n",
      "Computing CMC and mAP ...\n",
      "** Results **\n",
      "mAP: 66.23%\n",
      "CMC curve\n",
      "Rank-1  : 51.24%\n",
      "Rank-5  : 86.31%\n",
      "Rank-10 : 94.85%\n",
      "Rank-20 : 99.15%\n",
      "\u001b[33mValidating momentum mobilenet ...\u001b[0m\n",
      "Features extracted in 58.20 seconds\n",
      "Features extracted in 116.31 seconds\n",
      "Computing CMC and mAP ...\n",
      "** Results **\n",
      "mAP: 66.41%\n",
      "CMC curve\n",
      "Rank-1  : 52.73%\n",
      "Rank-5  : 85.40%\n",
      "Rank-10 : 93.79%\n",
      "Rank-20 : 98.57%\n",
      "\u001b[33mValidating online vgg16 ...\u001b[0m\n",
      "Features extracted in 58.98 seconds\n",
      "Features extracted in 115.37 seconds\n",
      "Computing CMC and mAP ...\n",
      "** Results **\n",
      "mAP: 65.47%\n",
      "CMC curve\n",
      "Rank-1  : 43.56%\n",
      "Rank-5  : 75.41%\n",
      "Rank-10 : 85.98%\n",
      "Rank-20 : 92.95%\n",
      "\u001b[33mValidating momentum vgg16 ...\u001b[0m\n",
      "Features extracted in 60.41 seconds\n",
      "Features extracted in 119.26 seconds\n",
      "Computing CMC and mAP ...\n",
      "** Results **\n",
      "mAP: 65.67%\n",
      "CMC curve\n",
      "Rank-1  : 45.75%\n",
      "Rank-5  : 82.00%\n",
      "Rank-10 : 90.62%\n",
      "Rank-20 : 96.36%\n",
      "\u001b[33mValidating online resnet50 ...\u001b[0m\n",
      "Features extracted in 60.13 seconds\n",
      "Features extracted in 117.86 seconds\n",
      "Computing CMC and mAP ...\n",
      "** Results **\n",
      "mAP: 65.64%\n",
      "CMC curve\n",
      "Rank-1  : 44.24%\n",
      "Rank-5  : 67.84%\n",
      "Rank-10 : 75.44%\n",
      "Rank-20 : 82.42%\n",
      "\u001b[33mValidating momentum resnet50 ...\u001b[0m\n",
      "Features extracted in 59.69 seconds\n",
      "Features extracted in 120.39 seconds\n",
      "Computing CMC and mAP ...\n",
      "** Results **\n",
      "mAP: 64.94%\n",
      "CMC curve\n",
      "Rank-1  : 43.33%\n",
      "Rank-5  : 71.52%\n",
      "Rank-10 : 80.95%\n",
      "Rank-20 : 90.36%\n",
      "\u001b[33mValidating online osnet ...\u001b[0m\n",
      "Features extracted in 59.78 seconds\n",
      "Features extracted in 116.34 seconds\n",
      "Computing CMC and mAP ...\n",
      "** Results **\n",
      "mAP: 66.87%\n",
      "CMC curve\n",
      "Rank-1  : 48.11%\n",
      "Rank-5  : 84.70%\n",
      "Rank-10 : 95.19%\n",
      "Rank-20 : 99.23%\n",
      "\u001b[33mValidating momentum osnet ...\u001b[0m\n",
      "Features extracted in 60.83 seconds\n",
      "Features extracted in 116.67 seconds\n",
      "Computing CMC and mAP ...\n",
      "** Results **\n",
      "mAP: 67.06%\n",
      "CMC curve\n",
      "Rank-1  : 51.39%\n",
      "Rank-5  : 86.67%\n",
      "Rank-10 : 94.96%\n",
      "Rank-20 : 98.71%\n",
      "\u001b[33mValidating online densenet121 ...\u001b[0m\n",
      "Features extracted in 60.31 seconds\n",
      "Features extracted in 119.83 seconds\n",
      "Computing CMC and mAP ...\n",
      "** Results **\n",
      "mAP: 65.34%\n",
      "CMC curve\n",
      "Rank-1  : 45.42%\n",
      "Rank-5  : 74.47%\n",
      "Rank-10 : 84.90%\n",
      "Rank-20 : 93.93%\n",
      "\u001b[33mValidating momentum densenet121 ...\u001b[0m\n",
      "Features extracted in 61.10 seconds\n",
      "Features extracted in 121.63 seconds\n",
      "Computing CMC and mAP ...\n",
      "** Results **\n",
      "mAP: 65.71%\n",
      "CMC curve\n",
      "Rank-1  : 46.36%\n",
      "Rank-5  : 79.22%\n",
      "Rank-10 : 88.80%\n",
      "Rank-20 : 95.19%\n",
      "\u001b[33mValidating ensembled with online models ...\u001b[0m\n",
      "Computing CMC and mAP ...\n",
      "** Results **\n",
      "mAP: 65.61%\n",
      "Ranks:\n",
      "Rank-1  : 45.50%\n",
      "Rank-5  : 70.24%\n",
      "Rank-10 : 79.04%\n",
      "\u001b[33mValidating ensembled with momentum models ...\u001b[0m\n",
      "Computing CMC and mAP ...\n",
      "** Results **\n",
      "mAP: 65.36%\n",
      "Ranks:\n",
      "Rank-1  : 43.96%\n",
      "Rank-5  : 75.79%\n",
      "Rank-10 : 85.67%\n",
      "###============ Iteration number 86/90 ============###\n",
      "Extracting Online Features for efficientnet ...\n",
      "Features extracted in 188.43 seconds\n",
      "Computing jaccard distance...\n"
     ]
    },
    {
     "name": "stderr",
     "output_type": "stream",
     "text": [
      "bruteForceKnn is deprecated; call bfKnn instead\n"
     ]
    },
    {
     "name": "stdout",
     "output_type": "stream",
     "text": [
      "Jaccard distance computing time cost: 79.07296586036682\n",
      "Extracting Online Features for convnext ...\n",
      "Features extracted in 192.23 seconds\n",
      "Computing jaccard distance...\n"
     ]
    },
    {
     "name": "stderr",
     "output_type": "stream",
     "text": [
      "bruteForceKnn is deprecated; call bfKnn instead\n"
     ]
    },
    {
     "name": "stdout",
     "output_type": "stream",
     "text": [
      "Jaccard distance computing time cost: 78.75733280181885\n",
      "Extracting Online Features for mobilenet ...\n",
      "Features extracted in 190.65 seconds\n",
      "Computing jaccard distance...\n"
     ]
    },
    {
     "name": "stderr",
     "output_type": "stream",
     "text": [
      "bruteForceKnn is deprecated; call bfKnn instead\n"
     ]
    },
    {
     "name": "stdout",
     "output_type": "stream",
     "text": [
      "Jaccard distance computing time cost: 72.73154187202454\n",
      "Extracting Online Features for vgg16 ...\n",
      "Features extracted in 191.13 seconds\n",
      "Computing jaccard distance...\n"
     ]
    },
    {
     "name": "stderr",
     "output_type": "stream",
     "text": [
      "bruteForceKnn is deprecated; call bfKnn instead\n"
     ]
    },
    {
     "name": "stdout",
     "output_type": "stream",
     "text": [
      "Jaccard distance computing time cost: 71.06497597694397\n",
      "Extracting Online Features for resnet50 ...\n",
      "Features extracted in 189.08 seconds\n",
      "Computing jaccard distance...\n"
     ]
    },
    {
     "name": "stderr",
     "output_type": "stream",
     "text": [
      "bruteForceKnn is deprecated; call bfKnn instead\n"
     ]
    },
    {
     "name": "stdout",
     "output_type": "stream",
     "text": [
      "Jaccard distance computing time cost: 71.88066983222961\n",
      "Extracting Online Features for osnet ...\n",
      "Features extracted in 188.66 seconds\n",
      "Computing jaccard distance...\n"
     ]
    },
    {
     "name": "stderr",
     "output_type": "stream",
     "text": [
      "bruteForceKnn is deprecated; call bfKnn instead\n"
     ]
    },
    {
     "name": "stdout",
     "output_type": "stream",
     "text": [
      "Jaccard distance computing time cost: 70.62733793258667\n",
      "Extracting Online Features for densenet121 ...\n",
      "Features extracted in 188.48 seconds\n",
      "Computing jaccard distance...\n"
     ]
    },
    {
     "name": "stderr",
     "output_type": "stream",
     "text": [
      "bruteForceKnn is deprecated; call bfKnn instead\n"
     ]
    },
    {
     "name": "stdout",
     "output_type": "stream",
     "text": [
      "Jaccard distance computing time cost: 74.02006840705872\n",
      "Reliability: 0.044\n",
      "\u001b[32mMean Purity: 0.02052\u001b[0m\n",
      "\u001b[34mThere are 20 clusters with 4 cameras\u001b[0m\n",
      "\u001b[34mThere are 21 clusters with 5 cameras\u001b[0m\n",
      "\u001b[34mThere are 11 clusters with 6 cameras\u001b[0m\n",
      "\u001b[34mThere are 8 clusters with 7 cameras\u001b[0m\n",
      "\u001b[34mThere are 2 clusters with 8 cameras\u001b[0m\n",
      "\u001b[34mThere are 4 clusters with 9 cameras\u001b[0m\n",
      "\u001b[34mThere are 4 clusters with 10 cameras\u001b[0m\n",
      "\u001b[34mThere are 4 clusters with 11 cameras\u001b[0m\n",
      "\u001b[34mThere are 3 clusters with 12 cameras\u001b[0m\n",
      "\u001b[34mThere are 5 clusters with 13 cameras\u001b[0m\n",
      "\u001b[34mThere are 2 clusters with 16 cameras\u001b[0m\n",
      "\u001b[34mThere are 2 clusters with 17 cameras\u001b[0m\n",
      "\u001b[34mThere are 2 clusters with 18 cameras\u001b[0m\n",
      "\u001b[34mThere are 1 clusters with 19 cameras\u001b[0m\n",
      "\u001b[34mThere are 4 clusters with 20 cameras\u001b[0m\n",
      "\u001b[34mThere are 3 clusters with 22 cameras\u001b[0m\n",
      "\u001b[34mThere are 1 clusters with 23 cameras\u001b[0m\n",
      "\u001b[34mThere are 1 clusters with 24 cameras\u001b[0m\n",
      "\u001b[34mThere are 1 clusters with 25 cameras\u001b[0m\n",
      "\u001b[34mThere are 1 clusters with 26 cameras\u001b[0m\n",
      "\u001b[34mThere are 3 clusters with 28 cameras\u001b[0m\n",
      "\u001b[34mThere are 1 clusters with 35 cameras\u001b[0m\n",
      "\u001b[34mThere are 1 clusters with 37 cameras\u001b[0m\n",
      "\u001b[34mThere are 1 clusters with 40 cameras\u001b[0m\n",
      "\u001b[34mThere are 1 clusters with 42 cameras\u001b[0m\n",
      "\u001b[34mThere are 1 clusters with 45 cameras\u001b[0m\n",
      "\u001b[34mThere are 1 clusters with 46 cameras\u001b[0m\n",
      "\u001b[34mThere are 1 clusters with 49 cameras\u001b[0m\n",
      "\u001b[34mThere are 1 clusters with 50 cameras\u001b[0m\n",
      "\u001b[34mThere are 1 clusters with 63 cameras\u001b[0m\n",
      "\u001b[34mThere are 2 clusters with 68 cameras\u001b[0m\n",
      "\u001b[34mThere are 1 clusters with 168 cameras\u001b[0m\n",
      "Number of classes: 115\n",
      "\u001b[36mLearning Rate: 0.000280\u001b[0m\n",
      "encontrou modelos efficientnet. Carregando...\n",
      "encontrou modelos convnext. Carregando...\n",
      "encontrou modelos mobilenet. Carregando...\n",
      "encontrou modelos vgg16. Carregando...\n",
      "encontrou modelos resnet50. Carregando...\n",
      "encontrou modelos osnet. Carregando...\n",
      "encontrou modelos densenet121. Carregando...\n",
      "###============ Iteration number 87/90 ============###\n",
      "Extracting Online Features for efficientnet ...\n",
      "Features extracted in 193.39 seconds\n",
      "Computing jaccard distance...\n"
     ]
    },
    {
     "name": "stderr",
     "output_type": "stream",
     "text": [
      "bruteForceKnn is deprecated; call bfKnn instead\n"
     ]
    },
    {
     "name": "stdout",
     "output_type": "stream",
     "text": [
      "Jaccard distance computing time cost: 81.21223568916321\n",
      "Extracting Online Features for convnext ...\n",
      "Features extracted in 194.31 seconds\n",
      "Computing jaccard distance...\n"
     ]
    },
    {
     "name": "stderr",
     "output_type": "stream",
     "text": [
      "bruteForceKnn is deprecated; call bfKnn instead\n"
     ]
    },
    {
     "name": "stdout",
     "output_type": "stream",
     "text": [
      "Jaccard distance computing time cost: 71.80738162994385\n",
      "Extracting Online Features for mobilenet ...\n",
      "Features extracted in 195.78 seconds\n",
      "Computing jaccard distance...\n"
     ]
    },
    {
     "name": "stderr",
     "output_type": "stream",
     "text": [
      "bruteForceKnn is deprecated; call bfKnn instead\n"
     ]
    },
    {
     "name": "stdout",
     "output_type": "stream",
     "text": [
      "Jaccard distance computing time cost: 72.76606893539429\n",
      "Extracting Online Features for vgg16 ...\n",
      "Features extracted in 196.68 seconds\n",
      "Computing jaccard distance...\n"
     ]
    },
    {
     "name": "stderr",
     "output_type": "stream",
     "text": [
      "bruteForceKnn is deprecated; call bfKnn instead\n"
     ]
    },
    {
     "name": "stdout",
     "output_type": "stream",
     "text": [
      "Jaccard distance computing time cost: 71.75003027915955\n",
      "Extracting Online Features for resnet50 ...\n",
      "Features extracted in 194.67 seconds\n",
      "Computing jaccard distance...\n"
     ]
    },
    {
     "name": "stderr",
     "output_type": "stream",
     "text": [
      "bruteForceKnn is deprecated; call bfKnn instead\n"
     ]
    },
    {
     "name": "stdout",
     "output_type": "stream",
     "text": [
      "Jaccard distance computing time cost: 71.6639575958252\n",
      "Extracting Online Features for osnet ...\n",
      "Features extracted in 192.18 seconds\n",
      "Computing jaccard distance...\n"
     ]
    },
    {
     "name": "stderr",
     "output_type": "stream",
     "text": [
      "bruteForceKnn is deprecated; call bfKnn instead\n"
     ]
    },
    {
     "name": "stdout",
     "output_type": "stream",
     "text": [
      "Jaccard distance computing time cost: 71.49810886383057\n",
      "Extracting Online Features for densenet121 ...\n",
      "Features extracted in 192.69 seconds\n",
      "Computing jaccard distance...\n"
     ]
    },
    {
     "name": "stderr",
     "output_type": "stream",
     "text": [
      "bruteForceKnn is deprecated; call bfKnn instead\n"
     ]
    },
    {
     "name": "stdout",
     "output_type": "stream",
     "text": [
      "Jaccard distance computing time cost: 74.31545209884644\n",
      "Reliability: 0.044\n",
      "\u001b[32mMean Purity: 0.02052\u001b[0m\n",
      "\u001b[34mThere are 20 clusters with 4 cameras\u001b[0m\n",
      "\u001b[34mThere are 21 clusters with 5 cameras\u001b[0m\n",
      "\u001b[34mThere are 11 clusters with 6 cameras\u001b[0m\n",
      "\u001b[34mThere are 8 clusters with 7 cameras\u001b[0m\n",
      "\u001b[34mThere are 2 clusters with 8 cameras\u001b[0m\n",
      "\u001b[34mThere are 4 clusters with 9 cameras\u001b[0m\n",
      "\u001b[34mThere are 4 clusters with 10 cameras\u001b[0m\n",
      "\u001b[34mThere are 4 clusters with 11 cameras\u001b[0m\n",
      "\u001b[34mThere are 3 clusters with 12 cameras\u001b[0m\n",
      "\u001b[34mThere are 5 clusters with 13 cameras\u001b[0m\n",
      "\u001b[34mThere are 2 clusters with 16 cameras\u001b[0m\n",
      "\u001b[34mThere are 2 clusters with 17 cameras\u001b[0m\n",
      "\u001b[34mThere are 2 clusters with 18 cameras\u001b[0m\n",
      "\u001b[34mThere are 1 clusters with 19 cameras\u001b[0m\n",
      "\u001b[34mThere are 4 clusters with 20 cameras\u001b[0m\n",
      "\u001b[34mThere are 3 clusters with 22 cameras\u001b[0m\n",
      "\u001b[34mThere are 1 clusters with 23 cameras\u001b[0m\n",
      "\u001b[34mThere are 1 clusters with 24 cameras\u001b[0m\n",
      "\u001b[34mThere are 1 clusters with 25 cameras\u001b[0m\n",
      "\u001b[34mThere are 1 clusters with 26 cameras\u001b[0m\n",
      "\u001b[34mThere are 3 clusters with 28 cameras\u001b[0m\n",
      "\u001b[34mThere are 1 clusters with 35 cameras\u001b[0m\n",
      "\u001b[34mThere are 1 clusters with 37 cameras\u001b[0m\n",
      "\u001b[34mThere are 1 clusters with 40 cameras\u001b[0m\n",
      "\u001b[34mThere are 1 clusters with 42 cameras\u001b[0m\n",
      "\u001b[34mThere are 1 clusters with 45 cameras\u001b[0m\n",
      "\u001b[34mThere are 1 clusters with 46 cameras\u001b[0m\n",
      "\u001b[34mThere are 1 clusters with 49 cameras\u001b[0m\n",
      "\u001b[34mThere are 1 clusters with 50 cameras\u001b[0m\n",
      "\u001b[34mThere are 1 clusters with 63 cameras\u001b[0m\n",
      "\u001b[34mThere are 2 clusters with 68 cameras\u001b[0m\n",
      "\u001b[34mThere are 1 clusters with 168 cameras\u001b[0m\n",
      "Number of classes: 115\n",
      "\u001b[36mLearning Rate: 0.000298\u001b[0m\n",
      "encontrou modelos efficientnet. Carregando...\n",
      "encontrou modelos convnext. Carregando...\n",
      "encontrou modelos mobilenet. Carregando...\n",
      "encontrou modelos vgg16. Carregando...\n",
      "encontrou modelos resnet50. Carregando...\n",
      "encontrou modelos osnet. Carregando...\n",
      "encontrou modelos densenet121. Carregando...\n",
      "###============ Iteration number 88/90 ============###\n",
      "Extracting Online Features for efficientnet ...\n",
      "Features extracted in 196.34 seconds\n",
      "Computing jaccard distance...\n"
     ]
    },
    {
     "name": "stderr",
     "output_type": "stream",
     "text": [
      "bruteForceKnn is deprecated; call bfKnn instead\n"
     ]
    },
    {
     "name": "stdout",
     "output_type": "stream",
     "text": [
      "Jaccard distance computing time cost: 86.99780488014221\n",
      "Extracting Online Features for convnext ...\n",
      "Features extracted in 194.10 seconds\n",
      "Computing jaccard distance...\n"
     ]
    },
    {
     "name": "stderr",
     "output_type": "stream",
     "text": [
      "bruteForceKnn is deprecated; call bfKnn instead\n"
     ]
    },
    {
     "name": "stdout",
     "output_type": "stream",
     "text": [
      "Jaccard distance computing time cost: 83.64592695236206\n",
      "Extracting Online Features for mobilenet ...\n",
      "Features extracted in 191.51 seconds\n",
      "Computing jaccard distance...\n"
     ]
    },
    {
     "name": "stderr",
     "output_type": "stream",
     "text": [
      "bruteForceKnn is deprecated; call bfKnn instead\n"
     ]
    },
    {
     "name": "stdout",
     "output_type": "stream",
     "text": [
      "Jaccard distance computing time cost: 70.48649787902832\n",
      "Extracting Online Features for vgg16 ...\n",
      "Features extracted in 191.66 seconds\n",
      "Computing jaccard distance...\n"
     ]
    },
    {
     "name": "stderr",
     "output_type": "stream",
     "text": [
      "bruteForceKnn is deprecated; call bfKnn instead\n"
     ]
    },
    {
     "name": "stdout",
     "output_type": "stream",
     "text": [
      "Jaccard distance computing time cost: 72.46880459785461\n",
      "Extracting Online Features for resnet50 ...\n",
      "Features extracted in 192.79 seconds\n",
      "Computing jaccard distance...\n"
     ]
    },
    {
     "name": "stderr",
     "output_type": "stream",
     "text": [
      "bruteForceKnn is deprecated; call bfKnn instead\n"
     ]
    },
    {
     "name": "stdout",
     "output_type": "stream",
     "text": [
      "Jaccard distance computing time cost: 70.87438106536865\n",
      "Extracting Online Features for osnet ...\n",
      "Features extracted in 192.73 seconds\n",
      "Computing jaccard distance...\n"
     ]
    },
    {
     "name": "stderr",
     "output_type": "stream",
     "text": [
      "bruteForceKnn is deprecated; call bfKnn instead\n"
     ]
    },
    {
     "name": "stdout",
     "output_type": "stream",
     "text": [
      "Jaccard distance computing time cost: 72.55168223381042\n",
      "Extracting Online Features for densenet121 ...\n",
      "Features extracted in 192.89 seconds\n",
      "Computing jaccard distance...\n"
     ]
    },
    {
     "name": "stderr",
     "output_type": "stream",
     "text": [
      "bruteForceKnn is deprecated; call bfKnn instead\n"
     ]
    },
    {
     "name": "stdout",
     "output_type": "stream",
     "text": [
      "Jaccard distance computing time cost: 72.99645662307739\n",
      "Reliability: 0.044\n",
      "\u001b[32mMean Purity: 0.02052\u001b[0m\n",
      "\u001b[34mThere are 20 clusters with 4 cameras\u001b[0m\n",
      "\u001b[34mThere are 21 clusters with 5 cameras\u001b[0m\n",
      "\u001b[34mThere are 11 clusters with 6 cameras\u001b[0m\n",
      "\u001b[34mThere are 8 clusters with 7 cameras\u001b[0m\n",
      "\u001b[34mThere are 2 clusters with 8 cameras\u001b[0m\n",
      "\u001b[34mThere are 4 clusters with 9 cameras\u001b[0m\n",
      "\u001b[34mThere are 4 clusters with 10 cameras\u001b[0m\n",
      "\u001b[34mThere are 4 clusters with 11 cameras\u001b[0m\n",
      "\u001b[34mThere are 3 clusters with 12 cameras\u001b[0m\n",
      "\u001b[34mThere are 5 clusters with 13 cameras\u001b[0m\n",
      "\u001b[34mThere are 2 clusters with 16 cameras\u001b[0m\n",
      "\u001b[34mThere are 2 clusters with 17 cameras\u001b[0m\n",
      "\u001b[34mThere are 2 clusters with 18 cameras\u001b[0m\n",
      "\u001b[34mThere are 1 clusters with 19 cameras\u001b[0m\n",
      "\u001b[34mThere are 4 clusters with 20 cameras\u001b[0m\n",
      "\u001b[34mThere are 3 clusters with 22 cameras\u001b[0m\n",
      "\u001b[34mThere are 1 clusters with 23 cameras\u001b[0m\n",
      "\u001b[34mThere are 1 clusters with 24 cameras\u001b[0m\n",
      "\u001b[34mThere are 1 clusters with 25 cameras\u001b[0m\n",
      "\u001b[34mThere are 1 clusters with 26 cameras\u001b[0m\n",
      "\u001b[34mThere are 3 clusters with 28 cameras\u001b[0m\n",
      "\u001b[34mThere are 1 clusters with 35 cameras\u001b[0m\n",
      "\u001b[34mThere are 1 clusters with 37 cameras\u001b[0m\n",
      "\u001b[34mThere are 1 clusters with 40 cameras\u001b[0m\n",
      "\u001b[34mThere are 1 clusters with 42 cameras\u001b[0m\n",
      "\u001b[34mThere are 1 clusters with 45 cameras\u001b[0m\n",
      "\u001b[34mThere are 1 clusters with 46 cameras\u001b[0m\n",
      "\u001b[34mThere are 1 clusters with 49 cameras\u001b[0m\n",
      "\u001b[34mThere are 1 clusters with 50 cameras\u001b[0m\n",
      "\u001b[34mThere are 1 clusters with 63 cameras\u001b[0m\n",
      "\u001b[34mThere are 2 clusters with 68 cameras\u001b[0m\n",
      "\u001b[34mThere are 1 clusters with 168 cameras\u001b[0m\n",
      "Number of classes: 115\n",
      "\u001b[36mLearning Rate: 0.000315\u001b[0m\n",
      "encontrou modelos efficientnet. Carregando...\n",
      "encontrou modelos convnext. Carregando...\n",
      "encontrou modelos mobilenet. Carregando...\n",
      "encontrou modelos vgg16. Carregando...\n",
      "encontrou modelos resnet50. Carregando...\n",
      "encontrou modelos osnet. Carregando...\n",
      "encontrou modelos densenet121. Carregando...\n",
      "###============ Iteration number 89/90 ============###\n",
      "Extracting Online Features for efficientnet ...\n",
      "Features extracted in 190.39 seconds\n",
      "Computing jaccard distance...\n"
     ]
    },
    {
     "name": "stderr",
     "output_type": "stream",
     "text": [
      "bruteForceKnn is deprecated; call bfKnn instead\n"
     ]
    },
    {
     "name": "stdout",
     "output_type": "stream",
     "text": [
      "Jaccard distance computing time cost: 83.64110541343689\n",
      "Extracting Online Features for convnext ...\n",
      "Features extracted in 191.97 seconds\n",
      "Computing jaccard distance...\n"
     ]
    },
    {
     "name": "stderr",
     "output_type": "stream",
     "text": [
      "bruteForceKnn is deprecated; call bfKnn instead\n"
     ]
    },
    {
     "name": "stdout",
     "output_type": "stream",
     "text": [
      "Jaccard distance computing time cost: 70.66314172744751\n",
      "Extracting Online Features for mobilenet ...\n",
      "Features extracted in 191.74 seconds\n",
      "Computing jaccard distance...\n"
     ]
    },
    {
     "name": "stderr",
     "output_type": "stream",
     "text": [
      "bruteForceKnn is deprecated; call bfKnn instead\n"
     ]
    },
    {
     "name": "stdout",
     "output_type": "stream",
     "text": [
      "Jaccard distance computing time cost: 74.45986151695251\n",
      "Extracting Online Features for vgg16 ...\n",
      "Features extracted in 192.38 seconds\n",
      "Computing jaccard distance...\n"
     ]
    },
    {
     "name": "stderr",
     "output_type": "stream",
     "text": [
      "bruteForceKnn is deprecated; call bfKnn instead\n"
     ]
    },
    {
     "name": "stdout",
     "output_type": "stream",
     "text": [
      "Jaccard distance computing time cost: 82.982506275177\n",
      "Extracting Online Features for resnet50 ...\n",
      "Features extracted in 188.41 seconds\n",
      "Computing jaccard distance...\n"
     ]
    },
    {
     "name": "stderr",
     "output_type": "stream",
     "text": [
      "bruteForceKnn is deprecated; call bfKnn instead\n"
     ]
    },
    {
     "name": "stdout",
     "output_type": "stream",
     "text": [
      "Jaccard distance computing time cost: 70.13221049308777\n",
      "Extracting Online Features for osnet ...\n",
      "Features extracted in 189.57 seconds\n",
      "Computing jaccard distance...\n"
     ]
    },
    {
     "name": "stderr",
     "output_type": "stream",
     "text": [
      "bruteForceKnn is deprecated; call bfKnn instead\n"
     ]
    },
    {
     "name": "stdout",
     "output_type": "stream",
     "text": [
      "Jaccard distance computing time cost: 73.58577847480774\n",
      "Extracting Online Features for densenet121 ...\n",
      "Features extracted in 189.28 seconds\n",
      "Computing jaccard distance...\n"
     ]
    },
    {
     "name": "stderr",
     "output_type": "stream",
     "text": [
      "bruteForceKnn is deprecated; call bfKnn instead\n"
     ]
    },
    {
     "name": "stdout",
     "output_type": "stream",
     "text": [
      "Jaccard distance computing time cost: 72.79743146896362\n",
      "Reliability: 0.044\n",
      "\u001b[32mMean Purity: 0.02052\u001b[0m\n",
      "\u001b[34mThere are 20 clusters with 4 cameras\u001b[0m\n",
      "\u001b[34mThere are 21 clusters with 5 cameras\u001b[0m\n",
      "\u001b[34mThere are 11 clusters with 6 cameras\u001b[0m\n",
      "\u001b[34mThere are 8 clusters with 7 cameras\u001b[0m\n",
      "\u001b[34mThere are 2 clusters with 8 cameras\u001b[0m\n",
      "\u001b[34mThere are 4 clusters with 9 cameras\u001b[0m\n",
      "\u001b[34mThere are 4 clusters with 10 cameras\u001b[0m\n",
      "\u001b[34mThere are 4 clusters with 11 cameras\u001b[0m\n",
      "\u001b[34mThere are 3 clusters with 12 cameras\u001b[0m\n",
      "\u001b[34mThere are 5 clusters with 13 cameras\u001b[0m\n",
      "\u001b[34mThere are 2 clusters with 16 cameras\u001b[0m\n",
      "\u001b[34mThere are 2 clusters with 17 cameras\u001b[0m\n",
      "\u001b[34mThere are 2 clusters with 18 cameras\u001b[0m\n",
      "\u001b[34mThere are 1 clusters with 19 cameras\u001b[0m\n",
      "\u001b[34mThere are 4 clusters with 20 cameras\u001b[0m\n",
      "\u001b[34mThere are 3 clusters with 22 cameras\u001b[0m\n",
      "\u001b[34mThere are 1 clusters with 23 cameras\u001b[0m\n",
      "\u001b[34mThere are 1 clusters with 24 cameras\u001b[0m\n",
      "\u001b[34mThere are 1 clusters with 25 cameras\u001b[0m\n",
      "\u001b[34mThere are 1 clusters with 26 cameras\u001b[0m\n",
      "\u001b[34mThere are 3 clusters with 28 cameras\u001b[0m\n",
      "\u001b[34mThere are 1 clusters with 35 cameras\u001b[0m\n",
      "\u001b[34mThere are 1 clusters with 37 cameras\u001b[0m\n",
      "\u001b[34mThere are 1 clusters with 40 cameras\u001b[0m\n",
      "\u001b[34mThere are 1 clusters with 42 cameras\u001b[0m\n",
      "\u001b[34mThere are 1 clusters with 45 cameras\u001b[0m\n",
      "\u001b[34mThere are 1 clusters with 46 cameras\u001b[0m\n",
      "\u001b[34mThere are 1 clusters with 49 cameras\u001b[0m\n",
      "\u001b[34mThere are 1 clusters with 50 cameras\u001b[0m\n",
      "\u001b[34mThere are 1 clusters with 63 cameras\u001b[0m\n",
      "\u001b[34mThere are 2 clusters with 68 cameras\u001b[0m\n",
      "\u001b[34mThere are 1 clusters with 168 cameras\u001b[0m\n",
      "Number of classes: 115\n",
      "\u001b[36mLearning Rate: 0.000333\u001b[0m\n",
      "encontrou modelos efficientnet. Carregando...\n",
      "encontrou modelos convnext. Carregando...\n",
      "encontrou modelos mobilenet. Carregando...\n",
      "encontrou modelos vgg16. Carregando...\n",
      "encontrou modelos resnet50. Carregando...\n",
      "encontrou modelos osnet. Carregando...\n",
      "encontrou modelos densenet121. Carregando...\n",
      "###============ Iteration number 90/90 ============###\n",
      "Extracting Online Features for efficientnet ...\n",
      "Features extracted in 191.14 seconds\n",
      "Computing jaccard distance...\n"
     ]
    },
    {
     "name": "stderr",
     "output_type": "stream",
     "text": [
      "bruteForceKnn is deprecated; call bfKnn instead\n"
     ]
    },
    {
     "name": "stdout",
     "output_type": "stream",
     "text": [
      "Jaccard distance computing time cost: 83.54703450202942\n",
      "Extracting Online Features for convnext ...\n",
      "Features extracted in 189.71 seconds\n",
      "Computing jaccard distance...\n"
     ]
    },
    {
     "name": "stderr",
     "output_type": "stream",
     "text": [
      "bruteForceKnn is deprecated; call bfKnn instead\n"
     ]
    },
    {
     "name": "stdout",
     "output_type": "stream",
     "text": [
      "Jaccard distance computing time cost: 80.35111093521118\n",
      "Extracting Online Features for mobilenet ...\n",
      "Features extracted in 189.33 seconds\n",
      "Computing jaccard distance...\n"
     ]
    },
    {
     "name": "stderr",
     "output_type": "stream",
     "text": [
      "bruteForceKnn is deprecated; call bfKnn instead\n"
     ]
    },
    {
     "name": "stdout",
     "output_type": "stream",
     "text": [
      "Jaccard distance computing time cost: 69.49956750869751\n",
      "Extracting Online Features for vgg16 ...\n",
      "Features extracted in 192.02 seconds\n",
      "Computing jaccard distance...\n"
     ]
    },
    {
     "name": "stderr",
     "output_type": "stream",
     "text": [
      "bruteForceKnn is deprecated; call bfKnn instead\n"
     ]
    },
    {
     "name": "stdout",
     "output_type": "stream",
     "text": [
      "Jaccard distance computing time cost: 72.23163437843323\n",
      "Extracting Online Features for resnet50 ...\n",
      "Features extracted in 196.19 seconds\n",
      "Computing jaccard distance...\n"
     ]
    },
    {
     "name": "stderr",
     "output_type": "stream",
     "text": [
      "bruteForceKnn is deprecated; call bfKnn instead\n"
     ]
    },
    {
     "name": "stdout",
     "output_type": "stream",
     "text": [
      "Jaccard distance computing time cost: 70.86319398880005\n",
      "Extracting Online Features for osnet ...\n",
      "Features extracted in 196.85 seconds\n",
      "Computing jaccard distance...\n"
     ]
    },
    {
     "name": "stderr",
     "output_type": "stream",
     "text": [
      "bruteForceKnn is deprecated; call bfKnn instead\n"
     ]
    },
    {
     "name": "stdout",
     "output_type": "stream",
     "text": [
      "Jaccard distance computing time cost: 70.75956583023071\n",
      "Extracting Online Features for densenet121 ...\n",
      "Features extracted in 192.48 seconds\n",
      "Computing jaccard distance...\n"
     ]
    },
    {
     "name": "stderr",
     "output_type": "stream",
     "text": [
      "bruteForceKnn is deprecated; call bfKnn instead\n"
     ]
    },
    {
     "name": "stdout",
     "output_type": "stream",
     "text": [
      "Jaccard distance computing time cost: 72.22172355651855\n",
      "Reliability: 0.044\n",
      "\u001b[32mMean Purity: 0.02052\u001b[0m\n",
      "\u001b[34mThere are 20 clusters with 4 cameras\u001b[0m\n",
      "\u001b[34mThere are 21 clusters with 5 cameras\u001b[0m\n",
      "\u001b[34mThere are 11 clusters with 6 cameras\u001b[0m\n",
      "\u001b[34mThere are 8 clusters with 7 cameras\u001b[0m\n",
      "\u001b[34mThere are 2 clusters with 8 cameras\u001b[0m\n",
      "\u001b[34mThere are 4 clusters with 9 cameras\u001b[0m\n",
      "\u001b[34mThere are 4 clusters with 10 cameras\u001b[0m\n",
      "\u001b[34mThere are 4 clusters with 11 cameras\u001b[0m\n",
      "\u001b[34mThere are 3 clusters with 12 cameras\u001b[0m\n",
      "\u001b[34mThere are 5 clusters with 13 cameras\u001b[0m\n",
      "\u001b[34mThere are 2 clusters with 16 cameras\u001b[0m\n",
      "\u001b[34mThere are 2 clusters with 17 cameras\u001b[0m\n",
      "\u001b[34mThere are 2 clusters with 18 cameras\u001b[0m\n",
      "\u001b[34mThere are 1 clusters with 19 cameras\u001b[0m\n",
      "\u001b[34mThere are 4 clusters with 20 cameras\u001b[0m\n",
      "\u001b[34mThere are 3 clusters with 22 cameras\u001b[0m\n",
      "\u001b[34mThere are 1 clusters with 23 cameras\u001b[0m\n",
      "\u001b[34mThere are 1 clusters with 24 cameras\u001b[0m\n",
      "\u001b[34mThere are 1 clusters with 25 cameras\u001b[0m\n",
      "\u001b[34mThere are 1 clusters with 26 cameras\u001b[0m\n",
      "\u001b[34mThere are 3 clusters with 28 cameras\u001b[0m\n",
      "\u001b[34mThere are 1 clusters with 35 cameras\u001b[0m\n",
      "\u001b[34mThere are 1 clusters with 37 cameras\u001b[0m\n",
      "\u001b[34mThere are 1 clusters with 40 cameras\u001b[0m\n",
      "\u001b[34mThere are 1 clusters with 42 cameras\u001b[0m\n",
      "\u001b[34mThere are 1 clusters with 45 cameras\u001b[0m\n",
      "\u001b[34mThere are 1 clusters with 46 cameras\u001b[0m\n",
      "\u001b[34mThere are 1 clusters with 49 cameras\u001b[0m\n",
      "\u001b[34mThere are 1 clusters with 50 cameras\u001b[0m\n",
      "\u001b[34mThere are 1 clusters with 63 cameras\u001b[0m\n",
      "\u001b[34mThere are 2 clusters with 68 cameras\u001b[0m\n",
      "\u001b[34mThere are 1 clusters with 168 cameras\u001b[0m\n",
      "Number of classes: 115\n",
      "\u001b[36mLearning Rate: 0.000350\u001b[0m\n",
      "encontrou modelos efficientnet. Carregando...\n",
      "encontrou modelos convnext. Carregando...\n",
      "encontrou modelos mobilenet. Carregando...\n",
      "encontrou modelos vgg16. Carregando...\n",
      "encontrou modelos resnet50. Carregando...\n",
      "encontrou modelos osnet. Carregando...\n",
      "encontrou modelos densenet121. Carregando...\n",
      "\u001b[33mValidating online efficientnet ...\u001b[0m\n",
      "Features extracted in 98.49 seconds\n",
      "Features extracted in 121.19 seconds\n",
      "Computing CMC and mAP ...\n",
      "** Results **\n",
      "mAP: 66.96%\n",
      "CMC curve\n",
      "Rank-1  : 49.76%\n",
      "Rank-5  : 88.29%\n",
      "Rank-10 : 96.33%\n",
      "Rank-20 : 99.32%\n",
      "\u001b[33mValidating momentum efficientnet ...\u001b[0m\n",
      "Features extracted in 58.54 seconds\n",
      "Features extracted in 117.54 seconds\n",
      "Computing CMC and mAP ...\n",
      "** Results **\n",
      "mAP: 66.33%\n",
      "CMC curve\n",
      "Rank-1  : 47.72%\n",
      "Rank-5  : 83.15%\n",
      "Rank-10 : 91.82%\n",
      "Rank-20 : 96.73%\n",
      "\u001b[33mValidating online convnext ...\u001b[0m\n",
      "Features extracted in 61.29 seconds\n",
      "Features extracted in 121.80 seconds\n",
      "Computing CMC and mAP ...\n",
      "** Results **\n",
      "mAP: 65.77%\n",
      "CMC curve\n",
      "Rank-1  : 46.59%\n",
      "Rank-5  : 75.46%\n",
      "Rank-10 : 86.74%\n",
      "Rank-20 : 94.66%\n",
      "\u001b[33mValidating momentum convnext ...\u001b[0m\n",
      "Features extracted in 59.48 seconds\n",
      "Features extracted in 116.90 seconds\n",
      "Computing CMC and mAP ...\n",
      "** Results **\n",
      "mAP: 64.96%\n",
      "CMC curve\n",
      "Rank-1  : 45.63%\n",
      "Rank-5  : 75.04%\n",
      "Rank-10 : 87.30%\n",
      "Rank-20 : 95.01%\n",
      "\u001b[33mValidating online mobilenet ...\u001b[0m\n",
      "Features extracted in 58.63 seconds\n",
      "Features extracted in 116.99 seconds\n",
      "Computing CMC and mAP ...\n",
      "** Results **\n",
      "mAP: 66.23%\n",
      "CMC curve\n",
      "Rank-1  : 51.24%\n",
      "Rank-5  : 86.31%\n",
      "Rank-10 : 94.85%\n",
      "Rank-20 : 99.15%\n",
      "\u001b[33mValidating momentum mobilenet ...\u001b[0m\n",
      "Features extracted in 59.51 seconds\n",
      "Features extracted in 116.81 seconds\n",
      "Computing CMC and mAP ...\n",
      "** Results **\n",
      "mAP: 66.41%\n",
      "CMC curve\n",
      "Rank-1  : 52.73%\n",
      "Rank-5  : 85.40%\n",
      "Rank-10 : 93.79%\n",
      "Rank-20 : 98.57%\n",
      "\u001b[33mValidating online vgg16 ...\u001b[0m\n",
      "Features extracted in 60.76 seconds\n",
      "Features extracted in 116.90 seconds\n",
      "Computing CMC and mAP ...\n",
      "** Results **\n",
      "mAP: 65.47%\n",
      "CMC curve\n",
      "Rank-1  : 43.56%\n",
      "Rank-5  : 75.41%\n",
      "Rank-10 : 85.98%\n",
      "Rank-20 : 92.95%\n",
      "\u001b[33mValidating momentum vgg16 ...\u001b[0m\n",
      "Features extracted in 79.60 seconds\n",
      "Features extracted in 119.88 seconds\n",
      "Computing CMC and mAP ...\n",
      "** Results **\n",
      "mAP: 65.67%\n",
      "CMC curve\n",
      "Rank-1  : 45.75%\n",
      "Rank-5  : 82.00%\n",
      "Rank-10 : 90.62%\n",
      "Rank-20 : 96.36%\n",
      "\u001b[33mValidating online resnet50 ...\u001b[0m\n",
      "Features extracted in 72.69 seconds\n",
      "Features extracted in 117.23 seconds\n",
      "Computing CMC and mAP ...\n",
      "** Results **\n",
      "mAP: 65.64%\n",
      "CMC curve\n",
      "Rank-1  : 44.24%\n",
      "Rank-5  : 67.84%\n",
      "Rank-10 : 75.44%\n",
      "Rank-20 : 82.42%\n",
      "\u001b[33mValidating momentum resnet50 ...\u001b[0m\n",
      "Features extracted in 60.38 seconds\n",
      "Features extracted in 117.03 seconds\n",
      "Computing CMC and mAP ...\n",
      "** Results **\n",
      "mAP: 64.94%\n",
      "CMC curve\n",
      "Rank-1  : 43.33%\n",
      "Rank-5  : 71.52%\n",
      "Rank-10 : 80.95%\n",
      "Rank-20 : 90.36%\n",
      "\u001b[33mValidating online osnet ...\u001b[0m\n",
      "Features extracted in 60.11 seconds\n",
      "Features extracted in 116.28 seconds\n",
      "Computing CMC and mAP ...\n",
      "** Results **\n",
      "mAP: 66.87%\n",
      "CMC curve\n",
      "Rank-1  : 48.11%\n",
      "Rank-5  : 84.70%\n",
      "Rank-10 : 95.19%\n",
      "Rank-20 : 99.23%\n",
      "\u001b[33mValidating momentum osnet ...\u001b[0m\n",
      "Features extracted in 60.58 seconds\n",
      "Features extracted in 117.69 seconds\n",
      "Computing CMC and mAP ...\n",
      "** Results **\n",
      "mAP: 67.06%\n",
      "CMC curve\n",
      "Rank-1  : 51.39%\n",
      "Rank-5  : 86.67%\n",
      "Rank-10 : 94.96%\n",
      "Rank-20 : 98.71%\n",
      "\u001b[33mValidating online densenet121 ...\u001b[0m\n",
      "Features extracted in 61.36 seconds\n",
      "Features extracted in 117.19 seconds\n",
      "Computing CMC and mAP ...\n",
      "** Results **\n",
      "mAP: 65.34%\n",
      "CMC curve\n",
      "Rank-1  : 45.42%\n",
      "Rank-5  : 74.47%\n",
      "Rank-10 : 84.90%\n",
      "Rank-20 : 93.93%\n",
      "\u001b[33mValidating momentum densenet121 ...\u001b[0m\n",
      "Features extracted in 62.24 seconds\n",
      "Features extracted in 117.51 seconds\n",
      "Computing CMC and mAP ...\n",
      "** Results **\n",
      "mAP: 65.71%\n",
      "CMC curve\n",
      "Rank-1  : 46.36%\n",
      "Rank-5  : 79.22%\n",
      "Rank-10 : 88.80%\n",
      "Rank-20 : 95.19%\n",
      "\u001b[33mValidating ensembled with online models ...\u001b[0m\n",
      "Computing CMC and mAP ...\n",
      "** Results **\n",
      "mAP: 65.61%\n",
      "Ranks:\n",
      "Rank-1  : 45.50%\n",
      "Rank-5  : 70.24%\n",
      "Rank-10 : 79.04%\n",
      "\u001b[33mValidating ensembled with momentum models ...\u001b[0m\n",
      "Computing CMC and mAP ...\n",
      "** Results **\n",
      "mAP: 65.36%\n",
      "Ranks:\n",
      "Rank-1  : 43.96%\n",
      "Rank-5  : 75.79%\n",
      "Rank-10 : 85.67%\n",
      "Features extracted in 121.16 seconds\n",
      "Features extracted in 61.34 seconds\n",
      "Features extracted in 122.19 seconds\n",
      "Features extracted in 61.43 seconds\n",
      "Features extracted in 119.35 seconds\n",
      "Features extracted in 60.66 seconds\n",
      "Features extracted in 119.85 seconds\n",
      "Features extracted in 60.16 seconds\n",
      "Features extracted in 119.03 seconds\n",
      "Features extracted in 60.93 seconds\n",
      "Features extracted in 118.29 seconds\n",
      "Features extracted in 61.48 seconds\n",
      "Features extracted in 118.94 seconds\n",
      "Features extracted in 61.05 seconds\n",
      "173894.0915300846 3076.78111743927 1777.240543603897\n",
      "Mean Feature Extraction and Reranking Time: 1932.156573\n",
      "Mean Clustering Time: 34.186457\n",
      "Mean Finetuning Time: 19.747117\n",
      "Total pipeline Time:  336956.059816\n"
     ]
    }
   ],
   "source": [
    "import torch\n",
    "import numpy as np\n",
    "import matplotlib.pyplot as plt\n",
    "\n",
    "from main import *\n",
    "\n",
    "from sklearn.cluster import KMeans\n",
    "from datasetUtils import load_from_Jadson\n",
    "from sklearn.metrics import confusion_matrix\n",
    "from sklearn.metrics import ConfusionMatrixDisplay\n",
    "\n",
    "from warnings import simplefilter\n",
    "# ignore all future warnings\n",
    "simplefilter(action='ignore', category=FutureWarning)\n",
    "\n",
    "\n",
    "# if __name__ == '__main__':\n",
    "# parser = argparse.ArgumentParser(description='Define the UDA parameters')\n",
    "#\n",
    "# parser.add_argument('--gpu_ids', type=str, default=\"7\", help='GPU IDs')\n",
    "# parser.add_argument('--lr', type=float, default=3.5e-4, help='Learning Rate')\n",
    "# parser.add_argument('--P', type=int, default=16, help='Number of Persons')\n",
    "# parser.add_argument('--K', type=int, default=4, help='Number of samples per person')\n",
    "# parser.add_argument('--tau', type=float, default=0.05, help='tau value used on softmax triplet loss')\n",
    "# parser.add_argument('--beta', type=float, default=0.999, help='beta used on self-Ensembling')\n",
    "# parser.add_argument('--k1', type=int, default=30, help='k on k-Reciprocal Encoding')\n",
    "# parser.add_argument('--sampling', type=str, default=\"mean\", help='Mean or Random feature vectors to be prototype')\n",
    "# parser.add_argument('--lambda_hard', type=float, default=0.5, help='tuning prameter of Softmax Triplet Loss')\n",
    "# parser.add_argument('--num_iter', type=int, default=400, help='Number of iterations on an epoch')\n",
    "# parser.add_argument('--momentum_on_feature_extraction', type=int, default=0,\n",
    "# help='If it is the momentum used on feature extraction')\n",
    "# parser.add_argument('--target', type=str, help='Name of target dataset')\n",
    "# parser.add_argument('--path_to_save_models', type=str, help='Path to save models')\n",
    "# parser.add_argument('--path_to_save_metrics', type=str, help='Path to save metrics (mAP, CMC, ...)')\n",
    "# parser.add_argument('--version', type=str, help='Path to save models')\n",
    "# parser.add_argument('--eval_freq', type=int, help='Evaluation Frequency along training')\n",
    "\n",
    "# args = parser.parse_args()\n",
    "# gpu_ids = args.gpu_ids\n",
    "# base_lr = args.lr\n",
    "# P = args.P\n",
    "# K = args.K\n",
    "\n",
    "# tau = args.tau\n",
    "# beta = args.beta\n",
    "# k1 = args.k1\n",
    "# sampling  = args.sampling\n",
    "#\n",
    "# lambda_hard = args.lambda_hard\n",
    "# number_of_iterations = args.num_iter\n",
    "# momentum_on_feature_extraction = bool(args.momentum_on_feature_extraction)\n",
    "# target = args.target\n",
    "# dir_to_save = args.path_to_save_models\n",
    "# dir_to_save_metrics = args.path_to_save_metrics\n",
    "# version = args.version\n",
    "# eval_freq = args.eval_freq\n",
    "# main.py --gpu_ids=0,1,2,3 --lr=3.5e-4 --P=16 --K=12 --tau=0.04 --beta=0.999 --k1=30 --sampling=mean --lambda_hard=0.5 --num_iter=7 --momentum_on_feature_extraction=0 --target=Duke --path_to_save_models=models --path_to_save_metrics=metrics --version=version_name --eval_freq=5\n",
    "\n",
    "import sys\n",
    "import os\n",
    "import pandas as pd\n",
    "\n",
    "from IPython.display import display, Image\n",
    "\n",
    "from IPython.display import display, HTML\n",
    "from bs4 import BeautifulSoup\n",
    "\n",
    "\n",
    "# Função para exibir a imagem usando HTML\n",
    "def exibir_imagem(imagem_path):\n",
    "    return f'<img src=\"{imagem_path}\" width=\"40\">'\n",
    "\n",
    "\n",
    "from metricas import *\n",
    "\n",
    "html_content= \"\"\n",
    "df = pd.DataFrame({\n",
    "    'k':[], \n",
    "    'lambda_hard':[],\n",
    "    'modelo':[],\n",
    "    'matriz_confusao':[], \n",
    "    'Acuracia':[], \n",
    "    'Precisao':[],\n",
    "    'Recall':[],\n",
    "    'F1-score':[],\n",
    "    'Grafico':[],\n",
    "    'Tipo':[]\n",
    "    })\n",
    "\n",
    "gpus = \"2,3,5\" \n",
    "for k in [4]:\n",
    "    for lambda_hard in [ 0.0 ]:\n",
    "                \n",
    "        print(f\"**** inicio do teste com ruido em k:{k} e lambda_hard:{lambda_hard} ****\")\n",
    "        \n",
    "        version = f\"teste-06-fft-90epocas_{k}_{lambda_hard}\"\n",
    "        \n",
    "        main(gpu_ids=gpus,base_lr=3.5e-4,P=16,K=k,tau=0.04,beta=0.999,k1=30,sampling=\"random\",lambda_hard=lambda_hard,number_of_iterations=7,momentum_on_feature_extraction=0,target=\"Jadson\",dir_to_save=\"models\",dir_to_save_metrics=\"metrics\",version=version,eval_freq=5,use_ruido=True)\n",
    "        \n",
    "        for metodo in models_name + [\"mean\"]:\n",
    "            metricas_t, metricas_v, rotulos_t, rotulos_v = metricas(k=k, lambda_hard=lambda_hard, modelo=metodo)\n",
    "            linha = {\n",
    "                'k':            [k], \n",
    "                'lambda_hard':  [lambda_hard],\n",
    "                'modelo':       [metodo],\n",
    "                'Tipo':         'Test'\n",
    "            }\n",
    "            for count in range( 0, metricas_t.shape[0] ):\n",
    "                for m in range( 0, metricas_t.shape[1] ):\n",
    "                    linha[rotulos_t[m]] = metricas_t[count][m]\n",
    "                    \n",
    "                \n",
    "                linha['matriz_confusao'] = f'resultados/MC_{k}_{lambda_hard}_{count}_{metodo}_test.png'\n",
    "                linha['Grafico'] = f'resultados/grafico_{k}_{lambda_hard}_{count}_{metodo}_test.png'\n",
    "                df = pd.concat( [df, pd.DataFrame(linha)], axis=0)\n",
    "             \n",
    "            linha = {\n",
    "               'k':             [k], \n",
    "               'lambda_hard':   [lambda_hard],\n",
    "               'modelo':        [metodo],\n",
    "               'Tipo':          'Valid'\n",
    "             }\n",
    "            for count in range( 0, metricas_v.shape[0] ):\n",
    "                for m in range( 0, metricas_v.shape[1] ):\n",
    "                    linha[rotulos_v[m]] = metricas_v[count][m] \n",
    "               \n",
    "                linha['Grafico'] = f'resultados/grafico_{k}_{lambda_hard}_{count}_{metodo}_valid.png'\n",
    "                linha['matriz_confusao'] = f'resultados/MC_{k}_{lambda_hard}_{count}_{metodo}_valid.png' \n",
    "                df = pd.concat( [df, pd.DataFrame(linha)], axis=0)\n",
    "        \n",
    "        # Aplicar a função à coluna 'imagem' e criar uma nova coluna 'imagem_exibicao'\n",
    "        df['MC'] = df['matriz_confusao'].apply(exibir_imagem)\n",
    "        df['GR'] = df['Grafico'].apply(exibir_imagem)\n",
    "        \n",
    "        html_content = df[['k', \n",
    "                           'lambda_hard', \n",
    "                           'Tipo', \n",
    "                           'modelo'] + \n",
    "                           rotulos_v[:8] + \n",
    "                           ['MC', \n",
    "                           'GR']].to_html(escape=False, index=False)\n",
    "        # salvando df em arquivo html\n",
    "        # Use BeautifulSoup para formatar o HTML\n",
    "        soup = BeautifulSoup(html_content, 'html.parser')\n",
    "        formatted_html = soup.prettify()\n",
    "        \n",
    "        # Salve o HTML em um arquivo\n",
    "        head = \"<!DOCTYPE html>\\n<html lang='pt-br'>\\n<head>\\n  <meta charset='UTF-8'>\\n  <meta name='viewport' content='width=device-width, initial-scale=1.0'>\\n  <style>\\n    table {\\n      width: 100%;\\n      border-collapse: collapse;\\n    }\\n    th, td {\\n      border: 1px solid #ddd;\\n      padding: 8px;\\n      text-align: left;\\n    }\\n    th {\\n      background-color: #f2f2f2;\\n    }\\n    thead th {\\n      position: sticky;\\n      top: 0;\\n      z-index: 1;\\n      background-color: #f2f2f2;    }\\n  </style>\\n    <title>Relatório Parcial</title>\\n</head>\\n<body>\"\n",
    "        with open('relatorio-APCER-BPCER-ACER-silhouette-90epocas-ruido-norm-MNETv3-convnet-efficientnet.html', 'w', encoding='utf-8') as file:\n",
    "            file.write(head)\n",
    "            file.write(formatted_html)\n",
    "            file.write('</body></html>')"
   ]
  },
  {
   "cell_type": "code",
   "execution_count": 2,
   "metadata": {
    "execution": {
     "iopub.execute_input": "2024-05-07T09:40:50.081326Z",
     "iopub.status.busy": "2024-05-07T09:40:50.080788Z",
     "iopub.status.idle": "2024-05-07T09:40:50.131853Z",
     "shell.execute_reply": "2024-05-07T09:40:50.130936Z"
    }
   },
   "outputs": [
    {
     "data": {
      "text/html": [
       "<table border=\"1\" class=\"dataframe\">\n",
       "  <thead>\n",
       "    <tr style=\"text-align: right;\">\n",
       "      <th>k</th>\n",
       "      <th>lambda_hard</th>\n",
       "      <th>Tipo</th>\n",
       "      <th>modelo</th>\n",
       "      <th>ACCURACY</th>\n",
       "      <th>PRECISION</th>\n",
       "      <th>RECALL</th>\n",
       "      <th>F1_SCORE</th>\n",
       "      <th>APCER</th>\n",
       "      <th>BPCER</th>\n",
       "      <th>ACER</th>\n",
       "      <th>SILHOUETTE</th>\n",
       "      <th>MC</th>\n",
       "      <th>GR</th>\n",
       "    </tr>\n",
       "  </thead>\n",
       "  <tbody>\n",
       "    <tr>\n",
       "      <td>4.0</td>\n",
       "      <td>0.0</td>\n",
       "      <td>Test</td>\n",
       "      <td>efficientnet</td>\n",
       "      <td>0.746292</td>\n",
       "      <td>0.816400</td>\n",
       "      <td>0.880990</td>\n",
       "      <td>0.847466</td>\n",
       "      <td>0.119010</td>\n",
       "      <td>0.792500</td>\n",
       "      <td>0.455755</td>\n",
       "      <td>0.723591</td>\n",
       "      <td><img src=\"resultados/MC_4_0.0_0_efficientnet_test.png\" width=\"40\"></td>\n",
       "      <td><img src=\"resultados/grafico_4_0.0_0_efficientnet_test.png\" width=\"40\"></td>\n",
       "    </tr>\n",
       "    <tr>\n",
       "      <td>4.0</td>\n",
       "      <td>0.0</td>\n",
       "      <td>Valid</td>\n",
       "      <td>efficientnet</td>\n",
       "      <td>0.529583</td>\n",
       "      <td>0.799735</td>\n",
       "      <td>0.549609</td>\n",
       "      <td>0.651489</td>\n",
       "      <td>0.450391</td>\n",
       "      <td>0.550521</td>\n",
       "      <td>0.500456</td>\n",
       "      <td>0.654860</td>\n",
       "      <td><img src=\"resultados/MC_4_0.0_0_efficientnet_valid.png\" width=\"40\"></td>\n",
       "      <td><img src=\"resultados/grafico_4_0.0_0_efficientnet_valid.png\" width=\"40\"></td>\n",
       "    </tr>\n",
       "    <tr>\n",
       "      <td>4.0</td>\n",
       "      <td>0.0</td>\n",
       "      <td>Test</td>\n",
       "      <td>convnext</td>\n",
       "      <td>0.717542</td>\n",
       "      <td>0.832913</td>\n",
       "      <td>0.809271</td>\n",
       "      <td>0.820922</td>\n",
       "      <td>0.190729</td>\n",
       "      <td>0.649375</td>\n",
       "      <td>0.420052</td>\n",
       "      <td>0.656465</td>\n",
       "      <td><img src=\"resultados/MC_4_0.0_0_convnext_test.png\" width=\"40\"></td>\n",
       "      <td><img src=\"resultados/grafico_4_0.0_0_convnext_test.png\" width=\"40\"></td>\n",
       "    </tr>\n",
       "    <tr>\n",
       "      <td>4.0</td>\n",
       "      <td>0.0</td>\n",
       "      <td>Valid</td>\n",
       "      <td>convnext</td>\n",
       "      <td>0.491771</td>\n",
       "      <td>0.740429</td>\n",
       "      <td>0.561589</td>\n",
       "      <td>0.638726</td>\n",
       "      <td>0.438411</td>\n",
       "      <td>0.787500</td>\n",
       "      <td>0.612956</td>\n",
       "      <td>0.647238</td>\n",
       "      <td><img src=\"resultados/MC_4_0.0_0_convnext_valid.png\" width=\"40\"></td>\n",
       "      <td><img src=\"resultados/grafico_4_0.0_0_convnext_valid.png\" width=\"40\"></td>\n",
       "    </tr>\n",
       "    <tr>\n",
       "      <td>4.0</td>\n",
       "      <td>0.0</td>\n",
       "      <td>Test</td>\n",
       "      <td>mobilenet</td>\n",
       "      <td>0.404583</td>\n",
       "      <td>0.724899</td>\n",
       "      <td>0.412135</td>\n",
       "      <td>0.525501</td>\n",
       "      <td>0.587865</td>\n",
       "      <td>0.625625</td>\n",
       "      <td>0.606745</td>\n",
       "      <td>0.595597</td>\n",
       "      <td><img src=\"resultados/MC_4_0.0_0_mobilenet_test.png\" width=\"40\"></td>\n",
       "      <td><img src=\"resultados/grafico_4_0.0_0_mobilenet_test.png\" width=\"40\"></td>\n",
       "    </tr>\n",
       "    <tr>\n",
       "      <td>4.0</td>\n",
       "      <td>0.0</td>\n",
       "      <td>Valid</td>\n",
       "      <td>mobilenet</td>\n",
       "      <td>0.553542</td>\n",
       "      <td>0.782081</td>\n",
       "      <td>0.612630</td>\n",
       "      <td>0.687062</td>\n",
       "      <td>0.387370</td>\n",
       "      <td>0.682813</td>\n",
       "      <td>0.535091</td>\n",
       "      <td>0.639729</td>\n",
       "      <td><img src=\"resultados/MC_4_0.0_0_mobilenet_valid.png\" width=\"40\"></td>\n",
       "      <td><img src=\"resultados/grafico_4_0.0_0_mobilenet_valid.png\" width=\"40\"></td>\n",
       "    </tr>\n",
       "    <tr>\n",
       "      <td>4.0</td>\n",
       "      <td>0.0</td>\n",
       "      <td>Test</td>\n",
       "      <td>vgg16</td>\n",
       "      <td>0.507667</td>\n",
       "      <td>0.858029</td>\n",
       "      <td>0.460833</td>\n",
       "      <td>0.599620</td>\n",
       "      <td>0.539167</td>\n",
       "      <td>0.305000</td>\n",
       "      <td>0.422083</td>\n",
       "      <td>0.599763</td>\n",
       "      <td><img src=\"resultados/MC_4_0.0_0_vgg16_test.png\" width=\"40\"></td>\n",
       "      <td><img src=\"resultados/grafico_4_0.0_0_vgg16_test.png\" width=\"40\"></td>\n",
       "    </tr>\n",
       "    <tr>\n",
       "      <td>4.0</td>\n",
       "      <td>0.0</td>\n",
       "      <td>Valid</td>\n",
       "      <td>vgg16</td>\n",
       "      <td>0.645000</td>\n",
       "      <td>0.769970</td>\n",
       "      <td>0.793229</td>\n",
       "      <td>0.781426</td>\n",
       "      <td>0.206771</td>\n",
       "      <td>0.947917</td>\n",
       "      <td>0.577344</td>\n",
       "      <td>0.720181</td>\n",
       "      <td><img src=\"resultados/MC_4_0.0_0_vgg16_valid.png\" width=\"40\"></td>\n",
       "      <td><img src=\"resultados/grafico_4_0.0_0_vgg16_valid.png\" width=\"40\"></td>\n",
       "    </tr>\n",
       "    <tr>\n",
       "      <td>4.0</td>\n",
       "      <td>0.0</td>\n",
       "      <td>Test</td>\n",
       "      <td>resnet50</td>\n",
       "      <td>0.657833</td>\n",
       "      <td>0.836436</td>\n",
       "      <td>0.711406</td>\n",
       "      <td>0.768871</td>\n",
       "      <td>0.288594</td>\n",
       "      <td>0.556458</td>\n",
       "      <td>0.422526</td>\n",
       "      <td>0.614638</td>\n",
       "      <td><img src=\"resultados/MC_4_0.0_0_resnet50_test.png\" width=\"40\"></td>\n",
       "      <td><img src=\"resultados/grafico_4_0.0_0_resnet50_test.png\" width=\"40\"></td>\n",
       "    </tr>\n",
       "    <tr>\n",
       "      <td>4.0</td>\n",
       "      <td>0.0</td>\n",
       "      <td>Valid</td>\n",
       "      <td>resnet50</td>\n",
       "      <td>0.409271</td>\n",
       "      <td>0.789065</td>\n",
       "      <td>0.357031</td>\n",
       "      <td>0.491618</td>\n",
       "      <td>0.642969</td>\n",
       "      <td>0.381771</td>\n",
       "      <td>0.512370</td>\n",
       "      <td>0.685817</td>\n",
       "      <td><img src=\"resultados/MC_4_0.0_0_resnet50_valid.png\" width=\"40\"></td>\n",
       "      <td><img src=\"resultados/grafico_4_0.0_0_resnet50_valid.png\" width=\"40\"></td>\n",
       "    </tr>\n",
       "    <tr>\n",
       "      <td>4.0</td>\n",
       "      <td>0.0</td>\n",
       "      <td>Test</td>\n",
       "      <td>osnet</td>\n",
       "      <td>0.390458</td>\n",
       "      <td>0.881744</td>\n",
       "      <td>0.274948</td>\n",
       "      <td>0.419184</td>\n",
       "      <td>0.725052</td>\n",
       "      <td>0.147500</td>\n",
       "      <td>0.436276</td>\n",
       "      <td>0.656102</td>\n",
       "      <td><img src=\"resultados/MC_4_0.0_0_osnet_test.png\" width=\"40\"></td>\n",
       "      <td><img src=\"resultados/grafico_4_0.0_0_osnet_test.png\" width=\"40\"></td>\n",
       "    </tr>\n",
       "    <tr>\n",
       "      <td>4.0</td>\n",
       "      <td>0.0</td>\n",
       "      <td>Valid</td>\n",
       "      <td>osnet</td>\n",
       "      <td>0.314063</td>\n",
       "      <td>0.894168</td>\n",
       "      <td>0.161719</td>\n",
       "      <td>0.273900</td>\n",
       "      <td>0.838281</td>\n",
       "      <td>0.076563</td>\n",
       "      <td>0.457422</td>\n",
       "      <td>0.826008</td>\n",
       "      <td><img src=\"resultados/MC_4_0.0_0_osnet_valid.png\" width=\"40\"></td>\n",
       "      <td><img src=\"resultados/grafico_4_0.0_0_osnet_valid.png\" width=\"40\"></td>\n",
       "    </tr>\n",
       "    <tr>\n",
       "      <td>4.0</td>\n",
       "      <td>0.0</td>\n",
       "      <td>Test</td>\n",
       "      <td>densenet121</td>\n",
       "      <td>0.640667</td>\n",
       "      <td>0.806125</td>\n",
       "      <td>0.725260</td>\n",
       "      <td>0.763558</td>\n",
       "      <td>0.274740</td>\n",
       "      <td>0.697708</td>\n",
       "      <td>0.486224</td>\n",
       "      <td>0.610127</td>\n",
       "      <td><img src=\"resultados/MC_4_0.0_0_densenet121_test.png\" width=\"40\"></td>\n",
       "      <td><img src=\"resultados/grafico_4_0.0_0_densenet121_test.png\" width=\"40\"></td>\n",
       "    </tr>\n",
       "    <tr>\n",
       "      <td>4.0</td>\n",
       "      <td>0.0</td>\n",
       "      <td>Valid</td>\n",
       "      <td>densenet121</td>\n",
       "      <td>0.431458</td>\n",
       "      <td>0.862598</td>\n",
       "      <td>0.344141</td>\n",
       "      <td>0.491996</td>\n",
       "      <td>0.655859</td>\n",
       "      <td>0.219271</td>\n",
       "      <td>0.437565</td>\n",
       "      <td>0.684823</td>\n",
       "      <td><img src=\"resultados/MC_4_0.0_0_densenet121_valid.png\" width=\"40\"></td>\n",
       "      <td><img src=\"resultados/grafico_4_0.0_0_densenet121_valid.png\" width=\"40\"></td>\n",
       "    </tr>\n",
       "    <tr>\n",
       "      <td>4.0</td>\n",
       "      <td>0.0</td>\n",
       "      <td>Test</td>\n",
       "      <td>mean</td>\n",
       "      <td>0.660292</td>\n",
       "      <td>0.870084</td>\n",
       "      <td>0.676354</td>\n",
       "      <td>0.761084</td>\n",
       "      <td>0.323646</td>\n",
       "      <td>0.403958</td>\n",
       "      <td>0.363802</td>\n",
       "      <td>0.636612</td>\n",
       "      <td><img src=\"resultados/MC_4_0.0_0_mean_test.png\" width=\"40\"></td>\n",
       "      <td><img src=\"resultados/grafico_4_0.0_0_mean_test.png\" width=\"40\"></td>\n",
       "    </tr>\n",
       "    <tr>\n",
       "      <td>4.0</td>\n",
       "      <td>0.0</td>\n",
       "      <td>Valid</td>\n",
       "      <td>mean</td>\n",
       "      <td>0.655312</td>\n",
       "      <td>0.776541</td>\n",
       "      <td>0.799089</td>\n",
       "      <td>0.787653</td>\n",
       "      <td>0.200911</td>\n",
       "      <td>0.919792</td>\n",
       "      <td>0.560352</td>\n",
       "      <td>0.694094</td>\n",
       "      <td><img src=\"resultados/MC_4_0.0_0_mean_valid.png\" width=\"40\"></td>\n",
       "      <td><img src=\"resultados/grafico_4_0.0_0_mean_valid.png\" width=\"40\"></td>\n",
       "    </tr>\n",
       "  </tbody>\n",
       "</table>"
      ],
      "text/plain": [
       "<IPython.core.display.HTML object>"
      ]
     },
     "metadata": {},
     "output_type": "display_data"
    },
    {
     "name": "stdout",
     "output_type": "stream",
     "text": [
      "     k  lambda_hard        modelo  \\\n",
      "0  4.0          0.0  efficientnet   \n",
      "0  4.0          0.0  efficientnet   \n",
      "0  4.0          0.0      convnext   \n",
      "0  4.0          0.0      convnext   \n",
      "0  4.0          0.0     mobilenet   \n",
      "0  4.0          0.0     mobilenet   \n",
      "0  4.0          0.0         vgg16   \n",
      "0  4.0          0.0         vgg16   \n",
      "0  4.0          0.0      resnet50   \n",
      "0  4.0          0.0      resnet50   \n",
      "0  4.0          0.0         osnet   \n",
      "0  4.0          0.0         osnet   \n",
      "0  4.0          0.0   densenet121   \n",
      "0  4.0          0.0   densenet121   \n",
      "0  4.0          0.0          mean   \n",
      "0  4.0          0.0          mean   \n",
      "\n",
      "                                matriz_confusao  Acuracia  Precisao  Recall  \\\n",
      "0   resultados/MC_4_0.0_0_efficientnet_test.png       NaN       NaN     NaN   \n",
      "0  resultados/MC_4_0.0_0_efficientnet_valid.png       NaN       NaN     NaN   \n",
      "0       resultados/MC_4_0.0_0_convnext_test.png       NaN       NaN     NaN   \n",
      "0      resultados/MC_4_0.0_0_convnext_valid.png       NaN       NaN     NaN   \n",
      "0      resultados/MC_4_0.0_0_mobilenet_test.png       NaN       NaN     NaN   \n",
      "0     resultados/MC_4_0.0_0_mobilenet_valid.png       NaN       NaN     NaN   \n",
      "0          resultados/MC_4_0.0_0_vgg16_test.png       NaN       NaN     NaN   \n",
      "0         resultados/MC_4_0.0_0_vgg16_valid.png       NaN       NaN     NaN   \n",
      "0       resultados/MC_4_0.0_0_resnet50_test.png       NaN       NaN     NaN   \n",
      "0      resultados/MC_4_0.0_0_resnet50_valid.png       NaN       NaN     NaN   \n",
      "0          resultados/MC_4_0.0_0_osnet_test.png       NaN       NaN     NaN   \n",
      "0         resultados/MC_4_0.0_0_osnet_valid.png       NaN       NaN     NaN   \n",
      "0    resultados/MC_4_0.0_0_densenet121_test.png       NaN       NaN     NaN   \n",
      "0   resultados/MC_4_0.0_0_densenet121_valid.png       NaN       NaN     NaN   \n",
      "0           resultados/MC_4_0.0_0_mean_test.png       NaN       NaN     NaN   \n",
      "0          resultados/MC_4_0.0_0_mean_valid.png       NaN       NaN     NaN   \n",
      "\n",
      "   F1-score                                            Grafico   Tipo  \\\n",
      "0       NaN   resultados/grafico_4_0.0_0_efficientnet_test.png   Test   \n",
      "0       NaN  resultados/grafico_4_0.0_0_efficientnet_valid.png  Valid   \n",
      "0       NaN       resultados/grafico_4_0.0_0_convnext_test.png   Test   \n",
      "0       NaN      resultados/grafico_4_0.0_0_convnext_valid.png  Valid   \n",
      "0       NaN      resultados/grafico_4_0.0_0_mobilenet_test.png   Test   \n",
      "0       NaN     resultados/grafico_4_0.0_0_mobilenet_valid.png  Valid   \n",
      "0       NaN          resultados/grafico_4_0.0_0_vgg16_test.png   Test   \n",
      "0       NaN         resultados/grafico_4_0.0_0_vgg16_valid.png  Valid   \n",
      "0       NaN       resultados/grafico_4_0.0_0_resnet50_test.png   Test   \n",
      "0       NaN      resultados/grafico_4_0.0_0_resnet50_valid.png  Valid   \n",
      "0       NaN          resultados/grafico_4_0.0_0_osnet_test.png   Test   \n",
      "0       NaN         resultados/grafico_4_0.0_0_osnet_valid.png  Valid   \n",
      "0       NaN    resultados/grafico_4_0.0_0_densenet121_test.png   Test   \n",
      "0       NaN   resultados/grafico_4_0.0_0_densenet121_valid.png  Valid   \n",
      "0       NaN           resultados/grafico_4_0.0_0_mean_test.png   Test   \n",
      "0       NaN          resultados/grafico_4_0.0_0_mean_valid.png  Valid   \n",
      "\n",
      "   ACCURACY  PRECISION    RECALL  F1_SCORE     APCER     BPCER      ACER  \\\n",
      "0  0.746292   0.816400  0.880990  0.847466  0.119010  0.792500  0.455755   \n",
      "0  0.529583   0.799735  0.549609  0.651489  0.450391  0.550521  0.500456   \n",
      "0  0.717542   0.832913  0.809271  0.820922  0.190729  0.649375  0.420052   \n",
      "0  0.491771   0.740429  0.561589  0.638726  0.438411  0.787500  0.612956   \n",
      "0  0.404583   0.724899  0.412135  0.525501  0.587865  0.625625  0.606745   \n",
      "0  0.553542   0.782081  0.612630  0.687062  0.387370  0.682813  0.535091   \n",
      "0  0.507667   0.858029  0.460833  0.599620  0.539167  0.305000  0.422083   \n",
      "0  0.645000   0.769970  0.793229  0.781426  0.206771  0.947917  0.577344   \n",
      "0  0.657833   0.836436  0.711406  0.768871  0.288594  0.556458  0.422526   \n",
      "0  0.409271   0.789065  0.357031  0.491618  0.642969  0.381771  0.512370   \n",
      "0  0.390458   0.881744  0.274948  0.419184  0.725052  0.147500  0.436276   \n",
      "0  0.314063   0.894168  0.161719  0.273900  0.838281  0.076563  0.457422   \n",
      "0  0.640667   0.806125  0.725260  0.763558  0.274740  0.697708  0.486224   \n",
      "0  0.431458   0.862598  0.344141  0.491996  0.655859  0.219271  0.437565   \n",
      "0  0.660292   0.870084  0.676354  0.761084  0.323646  0.403958  0.363802   \n",
      "0  0.655312   0.776541  0.799089  0.787653  0.200911  0.919792  0.560352   \n",
      "\n",
      "   SILHOUETTE                                                 MC  \\\n",
      "0    0.723591  <img src=\"resultados/MC_4_0.0_0_efficientnet_t...   \n",
      "0    0.654860  <img src=\"resultados/MC_4_0.0_0_efficientnet_v...   \n",
      "0    0.656465  <img src=\"resultados/MC_4_0.0_0_convnext_test....   \n",
      "0    0.647238  <img src=\"resultados/MC_4_0.0_0_convnext_valid...   \n",
      "0    0.595597  <img src=\"resultados/MC_4_0.0_0_mobilenet_test...   \n",
      "0    0.639729  <img src=\"resultados/MC_4_0.0_0_mobilenet_vali...   \n",
      "0    0.599763  <img src=\"resultados/MC_4_0.0_0_vgg16_test.png...   \n",
      "0    0.720181  <img src=\"resultados/MC_4_0.0_0_vgg16_valid.pn...   \n",
      "0    0.614638  <img src=\"resultados/MC_4_0.0_0_resnet50_test....   \n",
      "0    0.685817  <img src=\"resultados/MC_4_0.0_0_resnet50_valid...   \n",
      "0    0.656102  <img src=\"resultados/MC_4_0.0_0_osnet_test.png...   \n",
      "0    0.826008  <img src=\"resultados/MC_4_0.0_0_osnet_valid.pn...   \n",
      "0    0.610127  <img src=\"resultados/MC_4_0.0_0_densenet121_te...   \n",
      "0    0.684823  <img src=\"resultados/MC_4_0.0_0_densenet121_va...   \n",
      "0    0.636612  <img src=\"resultados/MC_4_0.0_0_mean_test.png\"...   \n",
      "0    0.694094  <img src=\"resultados/MC_4_0.0_0_mean_valid.png...   \n",
      "\n",
      "                                                  GR  \n",
      "0  <img src=\"resultados/grafico_4_0.0_0_efficient...  \n",
      "0  <img src=\"resultados/grafico_4_0.0_0_efficient...  \n",
      "0  <img src=\"resultados/grafico_4_0.0_0_convnext_...  \n",
      "0  <img src=\"resultados/grafico_4_0.0_0_convnext_...  \n",
      "0  <img src=\"resultados/grafico_4_0.0_0_mobilenet...  \n",
      "0  <img src=\"resultados/grafico_4_0.0_0_mobilenet...  \n",
      "0  <img src=\"resultados/grafico_4_0.0_0_vgg16_tes...  \n",
      "0  <img src=\"resultados/grafico_4_0.0_0_vgg16_val...  \n",
      "0  <img src=\"resultados/grafico_4_0.0_0_resnet50_...  \n",
      "0  <img src=\"resultados/grafico_4_0.0_0_resnet50_...  \n",
      "0  <img src=\"resultados/grafico_4_0.0_0_osnet_tes...  \n",
      "0  <img src=\"resultados/grafico_4_0.0_0_osnet_val...  \n",
      "0  <img src=\"resultados/grafico_4_0.0_0_densenet1...  \n",
      "0  <img src=\"resultados/grafico_4_0.0_0_densenet1...  \n",
      "0  <img src=\"resultados/grafico_4_0.0_0_mean_test...  \n",
      "0  <img src=\"resultados/grafico_4_0.0_0_mean_vali...  \n"
     ]
    }
   ],
   "source": [
    "# Exibir o DataFrame com as imagens\n",
    "display(HTML(html_content))\n",
    "print(df)"
   ]
  }
 ],
 "metadata": {
  "kernelspec": {
   "display_name": "Python 3",
   "language": "python",
   "name": "python3"
  },
  "language_info": {
   "codemirror_mode": {
    "name": "ipython",
    "version": 3
   },
   "file_extension": ".py",
   "mimetype": "text/x-python",
   "name": "python",
   "nbconvert_exporter": "python",
   "pygments_lexer": "ipython3",
   "version": "3.10.13"
  }
 },
 "nbformat": 4,
 "nbformat_minor": 2
}
