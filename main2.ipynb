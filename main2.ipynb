{
 "cells": [
  {
   "cell_type": "code",
   "execution_count": 1,
   "metadata": {
    "execution": {
     "iopub.execute_input": "2024-04-17T23:12:53.634025Z",
     "iopub.status.busy": "2024-04-17T23:12:53.633439Z",
     "iopub.status.idle": "2024-04-21T01:48:29.331976Z",
     "shell.execute_reply": "2024-04-21T01:48:29.331005Z"
    }
   },
   "outputs": [
    {
     "name": "stderr",
     "output_type": "stream",
     "text": [
      "/home/emorais/miniconda3/envs/myenv/lib/python3.10/site-packages/torchreid/reid/metrics/rank.py:11: UserWarning: Cython evaluation (very fast so highly recommended) is unavailable, now use python evaluation.\n",
      "  warnings.warn(\n",
      "/home/emorais/miniconda3/envs/myenv/lib/python3.10/site-packages/tqdm/auto.py:21: TqdmWarning: IProgress not found. Please update jupyter and ipywidgets. See https://ipywidgets.readthedocs.io/en/stable/user_install.html\n",
      "  from .autonotebook import tqdm as notebook_tqdm\n",
      "Special tokens have been added in the vocabulary, make sure the associated word embeddings are fine-tuned or trained.\n",
      "You are using the default legacy behaviour of the <class 'transformers.models.t5.tokenization_t5.T5Tokenizer'>. If you see this, DO NOT PANIC! This is expected, and simply means that the `legacy` (previous) behavior will be used so nothing changes for you. If you want to use the new behaviour, set `legacy=False`. This should only be set if you understand what it means, and thouroughly read the reason why this was added as explained in https://github.com/huggingface/transformers/pull/24565\n",
      "/home/emorais/repos/LESSF_ReID-working/DCNNs.py:18: UserWarning: Cython evaluation (very fast so highly recommended) is unavailable, now use python evaluation.\n",
      "  warnings.warn(\n"
     ]
    },
    {
     "name": "stdout",
     "output_type": "stream",
     "text": [
      "**** inicio do teste com ruido em k:4 e lambda_hard:0.0 ****\n",
      "Num GPU's: 3\n",
      "Allocated GPU's for model: [1, 2]\n"
     ]
    },
    {
     "name": "stderr",
     "output_type": "stream",
     "text": [
      "/home/emorais/miniconda3/envs/myenv/lib/python3.10/site-packages/torchvision/models/_utils.py:208: UserWarning: The parameter 'pretrained' is deprecated since 0.13 and may be removed in the future, please use 'weights' instead.\n",
      "  warnings.warn(\n",
      "/home/emorais/miniconda3/envs/myenv/lib/python3.10/site-packages/torchvision/models/_utils.py:223: UserWarning: Arguments other than a weight enum or `None` for 'weights' are deprecated since 0.13 and may be removed in the future. The current behavior is equivalent to passing `weights=MobileNet_V3_Large_Weights.IMAGENET1K_V1`. You can also use `weights=MobileNet_V3_Large_Weights.DEFAULT` to get the most up-to-date weights.\n",
      "  warnings.warn(msg)\n",
      "/home/emorais/miniconda3/envs/myenv/lib/python3.10/site-packages/torchvision/models/_utils.py:223: UserWarning: Arguments other than a weight enum or `None` for 'weights' are deprecated since 0.13 and may be removed in the future. The current behavior is equivalent to passing `weights=VGG16_Weights.IMAGENET1K_V1`. You can also use `weights=VGG16_Weights.DEFAULT` to get the most up-to-date weights.\n",
      "  warnings.warn(msg)\n",
      "/home/emorais/miniconda3/envs/myenv/lib/python3.10/site-packages/torchvision/models/_utils.py:223: UserWarning: Arguments other than a weight enum or `None` for 'weights' are deprecated since 0.13 and may be removed in the future. The current behavior is equivalent to passing `weights=ResNet50_Weights.IMAGENET1K_V1`. You can also use `weights=ResNet50_Weights.DEFAULT` to get the most up-to-date weights.\n",
      "  warnings.warn(msg)\n"
     ]
    },
    {
     "name": "stdout",
     "output_type": "stream",
     "text": [
      "Successfully loaded imagenet pretrained weights from \"/home/emorais/.cache/torch/checkpoints/osnet_x1_0_imagenet.pth\"\n",
      "Successfully loaded imagenet pretrained weights from \"/home/emorais/.cache/torch/checkpoints/osnet_x1_0_imagenet.pth\"\n"
     ]
    },
    {
     "name": "stderr",
     "output_type": "stream",
     "text": [
      "/home/emorais/miniconda3/envs/myenv/lib/python3.10/site-packages/torchvision/models/_utils.py:223: UserWarning: Arguments other than a weight enum or `None` for 'weights' are deprecated since 0.13 and may be removed in the future. The current behavior is equivalent to passing `weights=DenseNet121_Weights.IMAGENET1K_V1`. You can also use `weights=DenseNet121_Weights.DEFAULT` to get the most up-to-date weights.\n",
      "  warnings.warn(msg)\n"
     ]
    },
    {
     "name": "stdout",
     "output_type": "stream",
     "text": [
      "Training Size: (38400, 3)\n",
      "Gallery Size: (24000, 3)\n",
      "Query Size: (9600, 3)\n",
      "Validating mobilenet on Jadson ...\n",
      "Features extracted in 44.84 seconds\n",
      "Features extracted in 97.79 seconds\n",
      "Computing CMC and mAP ...\n",
      "** Results **\n",
      "mAP: 70.73%\n",
      "CMC curve\n",
      "Rank-1  : 77.20%\n",
      "Rank-5  : 92.37%\n",
      "Rank-10 : 96.19%\n",
      "Rank-20 : 98.66%\n",
      "Validating vgg16 on Jadson ...\n",
      "Features extracted in 46.57 seconds\n",
      "Features extracted in 99.61 seconds\n",
      "Computing CMC and mAP ...\n",
      "** Results **\n",
      "mAP: 69.94%\n",
      "CMC curve\n",
      "Rank-1  : 77.29%\n",
      "Rank-5  : 93.35%\n",
      "Rank-10 : 96.89%\n",
      "Rank-20 : 98.78%\n",
      "Validating resnet50 on Jadson ...\n",
      "Features extracted in 46.69 seconds\n",
      "Features extracted in 98.97 seconds\n",
      "Computing CMC and mAP ...\n",
      "** Results **\n",
      "mAP: 70.07%\n",
      "CMC curve\n",
      "Rank-1  : 74.08%\n",
      "Rank-5  : 92.16%\n",
      "Rank-10 : 96.27%\n",
      "Rank-20 : 98.75%\n",
      "Validating osnet on Jadson ...\n",
      "Features extracted in 47.32 seconds\n",
      "Features extracted in 99.24 seconds\n",
      "Computing CMC and mAP ...\n",
      "** Results **\n",
      "mAP: 69.20%\n",
      "CMC curve\n",
      "Rank-1  : 72.66%\n",
      "Rank-5  : 94.19%\n",
      "Rank-10 : 97.55%\n",
      "Rank-20 : 99.27%\n",
      "Validating densenet121 on Jadson ...\n",
      "Features extracted in 47.12 seconds\n",
      "Features extracted in 99.09 seconds\n",
      "Computing CMC and mAP ...\n",
      "** Results **\n",
      "mAP: 69.54%\n",
      "CMC curve\n",
      "Rank-1  : 74.33%\n",
      "Rank-5  : 92.35%\n",
      "Rank-10 : 96.30%\n",
      "Rank-20 : 98.46%\n",
      "Computing CMC and mAP ...\n",
      "** Results **\n",
      "mAP: 70.50%\n",
      "Ranks:\n",
      "Rank-1  : 76.91%\n",
      "Rank-5  : 92.18%\n",
      "Rank-10 : 96.80%\n",
      "###============ Iteration number 1/90 ============###\n",
      "Extracting Online Features for mobilenet ...\n",
      "Features extracted in 153.45 seconds\n",
      "Computing jaccard distance...\n"
     ]
    },
    {
     "name": "stderr",
     "output_type": "stream",
     "text": [
      "/home/emorais/repos/LESSF_ReID-working/faiss_utils.py:10: UserWarning: TypedStorage is deprecated. It will be removed in the future and UntypedStorage will be the only storage class. This should only matter to you if you are using storages directly.  To access UntypedStorage directly, use tensor.untyped_storage() instead of tensor.storage()\n",
      "  x.storage().data_ptr() + x.storage_offset() * 4)\n",
      "bruteForceKnn is deprecated; call bfKnn instead\n"
     ]
    },
    {
     "name": "stdout",
     "output_type": "stream",
     "text": [
      "Jaccard distance computing time cost: 72.3506121635437\n",
      "Extracting Online Features for vgg16 ...\n",
      "Features extracted in 153.02 seconds\n",
      "Computing jaccard distance...\n"
     ]
    },
    {
     "name": "stderr",
     "output_type": "stream",
     "text": [
      "bruteForceKnn is deprecated; call bfKnn instead\n"
     ]
    },
    {
     "name": "stdout",
     "output_type": "stream",
     "text": [
      "Jaccard distance computing time cost: 80.0267767906189\n",
      "Extracting Online Features for resnet50 ...\n",
      "Features extracted in 150.64 seconds\n",
      "Computing jaccard distance...\n"
     ]
    },
    {
     "name": "stderr",
     "output_type": "stream",
     "text": [
      "bruteForceKnn is deprecated; call bfKnn instead\n"
     ]
    },
    {
     "name": "stdout",
     "output_type": "stream",
     "text": [
      "Jaccard distance computing time cost: 77.61165571212769\n",
      "Extracting Online Features for osnet ...\n",
      "Features extracted in 151.56 seconds\n",
      "Computing jaccard distance...\n"
     ]
    },
    {
     "name": "stderr",
     "output_type": "stream",
     "text": [
      "bruteForceKnn is deprecated; call bfKnn instead\n"
     ]
    },
    {
     "name": "stdout",
     "output_type": "stream",
     "text": [
      "Jaccard distance computing time cost: 73.39618682861328\n",
      "Extracting Online Features for densenet121 ...\n",
      "Features extracted in 154.10 seconds\n",
      "Computing jaccard distance...\n"
     ]
    },
    {
     "name": "stderr",
     "output_type": "stream",
     "text": [
      "bruteForceKnn is deprecated; call bfKnn instead\n"
     ]
    },
    {
     "name": "stdout",
     "output_type": "stream",
     "text": [
      "Jaccard distance computing time cost: 79.39547300338745\n",
      "Reliability: 0.989\n",
      "\u001b[32mMean Purity: 0.08034\u001b[0m\n",
      "\u001b[34mThere are 3 clusters with 4 cameras\u001b[0m\n",
      "\u001b[34mThere are 5 clusters with 5 cameras\u001b[0m\n",
      "\u001b[34mThere are 1 clusters with 7 cameras\u001b[0m\n",
      "\u001b[34mThere are 1 clusters with 8 cameras\u001b[0m\n",
      "\u001b[34mThere are 1 clusters with 9 cameras\u001b[0m\n",
      "\u001b[34mThere are 2 clusters with 10 cameras\u001b[0m\n",
      "\u001b[34mThere are 1 clusters with 11 cameras\u001b[0m\n",
      "\u001b[34mThere are 2 clusters with 14 cameras\u001b[0m\n",
      "\u001b[34mThere are 1 clusters with 20 cameras\u001b[0m\n",
      "\u001b[34mThere are 1 clusters with 24 cameras\u001b[0m\n",
      "\u001b[34mThere are 1 clusters with 33 cameras\u001b[0m\n",
      "\u001b[34mThere are 1 clusters with 42 cameras\u001b[0m\n",
      "\u001b[34mThere are 1 clusters with 44 cameras\u001b[0m\n",
      "\u001b[34mThere are 2 clusters with 47 cameras\u001b[0m\n",
      "\u001b[34mThere are 1 clusters with 49 cameras\u001b[0m\n",
      "\u001b[34mThere are 1 clusters with 50 cameras\u001b[0m\n",
      "\u001b[34mThere are 1 clusters with 53 cameras\u001b[0m\n",
      "\u001b[34mThere are 3 clusters with 55 cameras\u001b[0m\n",
      "\u001b[34mThere are 1 clusters with 56 cameras\u001b[0m\n",
      "\u001b[34mThere are 2 clusters with 57 cameras\u001b[0m\n",
      "\u001b[34mThere are 6 clusters with 59 cameras\u001b[0m\n",
      "\u001b[34mThere are 6 clusters with 60 cameras\u001b[0m\n",
      "\u001b[34mThere are 14 clusters with 61 cameras\u001b[0m\n",
      "\u001b[34mThere are 16 clusters with 62 cameras\u001b[0m\n",
      "\u001b[34mThere are 42 clusters with 63 cameras\u001b[0m\n",
      "\u001b[34mThere are 354 clusters with 64 cameras\u001b[0m\n",
      "\u001b[34mThere are 1 clusters with 65 cameras\u001b[0m\n",
      "\u001b[34mThere are 1 clusters with 68 cameras\u001b[0m\n",
      "\u001b[34mThere are 1 clusters with 74 cameras\u001b[0m\n",
      "\u001b[34mThere are 1 clusters with 75 cameras\u001b[0m\n",
      "\u001b[34mThere are 1 clusters with 79 cameras\u001b[0m\n",
      "\u001b[34mThere are 1 clusters with 85 cameras\u001b[0m\n",
      "\u001b[34mThere are 1 clusters with 99 cameras\u001b[0m\n",
      "\u001b[34mThere are 1 clusters with 115 cameras\u001b[0m\n",
      "\u001b[34mThere are 1 clusters with 119 cameras\u001b[0m\n",
      "\u001b[34mThere are 1 clusters with 122 cameras\u001b[0m\n",
      "\u001b[34mThere are 1 clusters with 123 cameras\u001b[0m\n",
      "\u001b[34mThere are 2 clusters with 124 cameras\u001b[0m\n",
      "\u001b[34mThere are 1 clusters with 125 cameras\u001b[0m\n",
      "\u001b[34mThere are 1 clusters with 126 cameras\u001b[0m\n",
      "\u001b[34mThere are 5 clusters with 127 cameras\u001b[0m\n",
      "\u001b[34mThere are 12 clusters with 128 cameras\u001b[0m\n",
      "\u001b[34mThere are 1 clusters with 138 cameras\u001b[0m\n",
      "\u001b[34mThere are 1 clusters with 178 cameras\u001b[0m\n",
      "\u001b[34mThere are 1 clusters with 180 cameras\u001b[0m\n",
      "\u001b[34mThere are 1 clusters with 185 cameras\u001b[0m\n",
      "\u001b[34mThere are 2 clusters with 188 cameras\u001b[0m\n",
      "\u001b[34mThere are 1 clusters with 190 cameras\u001b[0m\n",
      "\u001b[34mThere are 7 clusters with 192 cameras\u001b[0m\n",
      "\u001b[34mThere are 1 clusters with 193 cameras\u001b[0m\n",
      "\u001b[34mThere are 1 clusters with 231 cameras\u001b[0m\n",
      "\u001b[34mThere are 1 clusters with 249 cameras\u001b[0m\n",
      "\u001b[34mThere are 1 clusters with 251 cameras\u001b[0m\n",
      "\u001b[34mThere are 1 clusters with 252 cameras\u001b[0m\n",
      "\u001b[34mThere are 1 clusters with 253 cameras\u001b[0m\n",
      "\u001b[34mThere are 1 clusters with 256 cameras\u001b[0m\n",
      "\u001b[34mThere are 1 clusters with 268 cameras\u001b[0m\n",
      "\u001b[34mThere are 1 clusters with 280 cameras\u001b[0m\n",
      "\u001b[34mThere are 1 clusters with 356 cameras\u001b[0m\n",
      "\u001b[34mThere are 1 clusters with 389 cameras\u001b[0m\n",
      "Number of classes: 527\n",
      "\u001b[36mLearning Rate: 0.000017\u001b[0m\n",
      "encontrou modelos mobilenet. Carregando...\n",
      "encontrou modelos vgg16. Carregando...\n",
      "encontrou modelos resnet50. Carregando...\n",
      "encontrou modelos osnet. Carregando...\n",
      "encontrou modelos densenet121. Carregando...\n",
      "###============ Iteration number 2/90 ============###\n",
      "Extracting Online Features for mobilenet ...\n",
      "Features extracted in 149.57 seconds\n",
      "Computing jaccard distance...\n"
     ]
    },
    {
     "name": "stderr",
     "output_type": "stream",
     "text": [
      "bruteForceKnn is deprecated; call bfKnn instead\n"
     ]
    },
    {
     "name": "stdout",
     "output_type": "stream",
     "text": [
      "Jaccard distance computing time cost: 72.29352879524231\n",
      "Extracting Online Features for vgg16 ...\n",
      "Features extracted in 162.67 seconds\n",
      "Computing jaccard distance...\n"
     ]
    },
    {
     "name": "stderr",
     "output_type": "stream",
     "text": [
      "bruteForceKnn is deprecated; call bfKnn instead\n"
     ]
    },
    {
     "name": "stdout",
     "output_type": "stream",
     "text": [
      "Jaccard distance computing time cost: 70.72877597808838\n",
      "Extracting Online Features for resnet50 ...\n",
      "Features extracted in 155.20 seconds\n",
      "Computing jaccard distance...\n"
     ]
    },
    {
     "name": "stderr",
     "output_type": "stream",
     "text": [
      "bruteForceKnn is deprecated; call bfKnn instead\n"
     ]
    },
    {
     "name": "stdout",
     "output_type": "stream",
     "text": [
      "Jaccard distance computing time cost: 76.18605971336365\n",
      "Extracting Online Features for osnet ...\n",
      "Features extracted in 154.40 seconds\n",
      "Computing jaccard distance...\n"
     ]
    },
    {
     "name": "stderr",
     "output_type": "stream",
     "text": [
      "bruteForceKnn is deprecated; call bfKnn instead\n"
     ]
    },
    {
     "name": "stdout",
     "output_type": "stream",
     "text": [
      "Jaccard distance computing time cost: 69.39854001998901\n",
      "Extracting Online Features for densenet121 ...\n",
      "Features extracted in 154.73 seconds\n",
      "Computing jaccard distance...\n"
     ]
    },
    {
     "name": "stderr",
     "output_type": "stream",
     "text": [
      "bruteForceKnn is deprecated; call bfKnn instead\n"
     ]
    },
    {
     "name": "stdout",
     "output_type": "stream",
     "text": [
      "Jaccard distance computing time cost: 81.76435780525208\n",
      "Reliability: 0.997\n",
      "\u001b[32mMean Purity: 0.01845\u001b[0m\n",
      "\u001b[34mThere are 2 clusters with 4 cameras\u001b[0m\n",
      "\u001b[34mThere are 4 clusters with 5 cameras\u001b[0m\n",
      "\u001b[34mThere are 2 clusters with 7 cameras\u001b[0m\n",
      "\u001b[34mThere are 1 clusters with 9 cameras\u001b[0m\n",
      "\u001b[34mThere are 1 clusters with 11 cameras\u001b[0m\n",
      "\u001b[34mThere are 1 clusters with 12 cameras\u001b[0m\n",
      "\u001b[34mThere are 1 clusters with 16 cameras\u001b[0m\n",
      "\u001b[34mThere are 1 clusters with 19 cameras\u001b[0m\n",
      "\u001b[34mThere are 2 clusters with 29 cameras\u001b[0m\n",
      "\u001b[34mThere are 1 clusters with 32 cameras\u001b[0m\n",
      "\u001b[34mThere are 1 clusters with 34 cameras\u001b[0m\n",
      "\u001b[34mThere are 1 clusters with 45 cameras\u001b[0m\n",
      "\u001b[34mThere are 1 clusters with 47 cameras\u001b[0m\n",
      "\u001b[34mThere are 1 clusters with 52 cameras\u001b[0m\n",
      "\u001b[34mThere are 1 clusters with 53 cameras\u001b[0m\n",
      "\u001b[34mThere are 1 clusters with 54 cameras\u001b[0m\n",
      "\u001b[34mThere are 2 clusters with 57 cameras\u001b[0m\n",
      "\u001b[34mThere are 1 clusters with 58 cameras\u001b[0m\n",
      "\u001b[34mThere are 3 clusters with 59 cameras\u001b[0m\n",
      "\u001b[34mThere are 3 clusters with 60 cameras\u001b[0m\n",
      "\u001b[34mThere are 8 clusters with 61 cameras\u001b[0m\n",
      "\u001b[34mThere are 10 clusters with 62 cameras\u001b[0m\n",
      "\u001b[34mThere are 25 clusters with 63 cameras\u001b[0m\n",
      "\u001b[34mThere are 494 clusters with 64 cameras\u001b[0m\n",
      "\u001b[34mThere are 1 clusters with 92 cameras\u001b[0m\n",
      "\u001b[34mThere are 1 clusters with 97 cameras\u001b[0m\n",
      "\u001b[34mThere are 1 clusters with 120 cameras\u001b[0m\n",
      "\u001b[34mThere are 1 clusters with 121 cameras\u001b[0m\n",
      "\u001b[34mThere are 1 clusters with 122 cameras\u001b[0m\n",
      "\u001b[34mThere are 1 clusters with 124 cameras\u001b[0m\n",
      "\u001b[34mThere are 1 clusters with 125 cameras\u001b[0m\n",
      "\u001b[34mThere are 1 clusters with 126 cameras\u001b[0m\n",
      "\u001b[34mThere are 6 clusters with 127 cameras\u001b[0m\n",
      "\u001b[34mThere are 10 clusters with 128 cameras\u001b[0m\n",
      "Number of classes: 592\n",
      "\u001b[36mLearning Rate: 0.000035\u001b[0m\n",
      "encontrou modelos mobilenet. Carregando...\n",
      "encontrou modelos vgg16. Carregando...\n",
      "encontrou modelos resnet50. Carregando...\n",
      "encontrou modelos osnet. Carregando...\n",
      "encontrou modelos densenet121. Carregando...\n",
      "###============ Iteration number 3/90 ============###\n",
      "Extracting Online Features for mobilenet ...\n",
      "Features extracted in 154.72 seconds\n",
      "Computing jaccard distance...\n"
     ]
    },
    {
     "name": "stderr",
     "output_type": "stream",
     "text": [
      "bruteForceKnn is deprecated; call bfKnn instead\n"
     ]
    },
    {
     "name": "stdout",
     "output_type": "stream",
     "text": [
      "Jaccard distance computing time cost: 71.48984909057617\n",
      "Extracting Online Features for vgg16 ...\n",
      "Features extracted in 151.72 seconds\n",
      "Computing jaccard distance...\n"
     ]
    },
    {
     "name": "stderr",
     "output_type": "stream",
     "text": [
      "bruteForceKnn is deprecated; call bfKnn instead\n"
     ]
    },
    {
     "name": "stdout",
     "output_type": "stream",
     "text": [
      "Jaccard distance computing time cost: 82.3004949092865\n",
      "Extracting Online Features for resnet50 ...\n",
      "Features extracted in 155.63 seconds\n",
      "Computing jaccard distance...\n"
     ]
    },
    {
     "name": "stderr",
     "output_type": "stream",
     "text": [
      "bruteForceKnn is deprecated; call bfKnn instead\n"
     ]
    },
    {
     "name": "stdout",
     "output_type": "stream",
     "text": [
      "Jaccard distance computing time cost: 73.08945488929749\n",
      "Extracting Online Features for osnet ...\n",
      "Features extracted in 156.50 seconds\n",
      "Computing jaccard distance...\n"
     ]
    },
    {
     "name": "stderr",
     "output_type": "stream",
     "text": [
      "bruteForceKnn is deprecated; call bfKnn instead\n"
     ]
    },
    {
     "name": "stdout",
     "output_type": "stream",
     "text": [
      "Jaccard distance computing time cost: 73.17966556549072\n",
      "Extracting Online Features for densenet121 ...\n",
      "Features extracted in 155.80 seconds\n",
      "Computing jaccard distance...\n"
     ]
    },
    {
     "name": "stderr",
     "output_type": "stream",
     "text": [
      "bruteForceKnn is deprecated; call bfKnn instead\n"
     ]
    },
    {
     "name": "stdout",
     "output_type": "stream",
     "text": [
      "Jaccard distance computing time cost: 71.60234069824219\n",
      "Reliability: 0.997\n",
      "\u001b[32mMean Purity: 0.01845\u001b[0m\n",
      "\u001b[34mThere are 2 clusters with 4 cameras\u001b[0m\n",
      "\u001b[34mThere are 4 clusters with 5 cameras\u001b[0m\n",
      "\u001b[34mThere are 2 clusters with 7 cameras\u001b[0m\n",
      "\u001b[34mThere are 1 clusters with 9 cameras\u001b[0m\n",
      "\u001b[34mThere are 1 clusters with 11 cameras\u001b[0m\n",
      "\u001b[34mThere are 1 clusters with 12 cameras\u001b[0m\n",
      "\u001b[34mThere are 1 clusters with 16 cameras\u001b[0m\n",
      "\u001b[34mThere are 1 clusters with 19 cameras\u001b[0m\n",
      "\u001b[34mThere are 2 clusters with 29 cameras\u001b[0m\n",
      "\u001b[34mThere are 1 clusters with 32 cameras\u001b[0m\n",
      "\u001b[34mThere are 1 clusters with 34 cameras\u001b[0m\n",
      "\u001b[34mThere are 1 clusters with 45 cameras\u001b[0m\n",
      "\u001b[34mThere are 1 clusters with 47 cameras\u001b[0m\n",
      "\u001b[34mThere are 1 clusters with 52 cameras\u001b[0m\n",
      "\u001b[34mThere are 1 clusters with 53 cameras\u001b[0m\n",
      "\u001b[34mThere are 1 clusters with 54 cameras\u001b[0m\n",
      "\u001b[34mThere are 2 clusters with 57 cameras\u001b[0m\n",
      "\u001b[34mThere are 1 clusters with 58 cameras\u001b[0m\n",
      "\u001b[34mThere are 3 clusters with 59 cameras\u001b[0m\n",
      "\u001b[34mThere are 3 clusters with 60 cameras\u001b[0m\n",
      "\u001b[34mThere are 8 clusters with 61 cameras\u001b[0m\n",
      "\u001b[34mThere are 10 clusters with 62 cameras\u001b[0m\n",
      "\u001b[34mThere are 25 clusters with 63 cameras\u001b[0m\n",
      "\u001b[34mThere are 494 clusters with 64 cameras\u001b[0m\n",
      "\u001b[34mThere are 1 clusters with 92 cameras\u001b[0m\n",
      "\u001b[34mThere are 1 clusters with 97 cameras\u001b[0m\n",
      "\u001b[34mThere are 1 clusters with 120 cameras\u001b[0m\n",
      "\u001b[34mThere are 1 clusters with 121 cameras\u001b[0m\n",
      "\u001b[34mThere are 1 clusters with 122 cameras\u001b[0m\n",
      "\u001b[34mThere are 1 clusters with 124 cameras\u001b[0m\n",
      "\u001b[34mThere are 1 clusters with 125 cameras\u001b[0m\n",
      "\u001b[34mThere are 1 clusters with 126 cameras\u001b[0m\n",
      "\u001b[34mThere are 6 clusters with 127 cameras\u001b[0m\n",
      "\u001b[34mThere are 10 clusters with 128 cameras\u001b[0m\n",
      "Number of classes: 592\n",
      "\u001b[36mLearning Rate: 0.000053\u001b[0m\n",
      "encontrou modelos mobilenet. Carregando...\n",
      "encontrou modelos vgg16. Carregando...\n",
      "encontrou modelos resnet50. Carregando...\n",
      "encontrou modelos osnet. Carregando...\n",
      "encontrou modelos densenet121. Carregando...\n",
      "###============ Iteration number 4/90 ============###\n",
      "Extracting Online Features for mobilenet ...\n",
      "Features extracted in 150.49 seconds\n",
      "Computing jaccard distance...\n"
     ]
    },
    {
     "name": "stderr",
     "output_type": "stream",
     "text": [
      "bruteForceKnn is deprecated; call bfKnn instead\n"
     ]
    },
    {
     "name": "stdout",
     "output_type": "stream",
     "text": [
      "Jaccard distance computing time cost: 79.24071741104126\n",
      "Extracting Online Features for vgg16 ...\n",
      "Features extracted in 152.39 seconds\n",
      "Computing jaccard distance...\n"
     ]
    },
    {
     "name": "stderr",
     "output_type": "stream",
     "text": [
      "bruteForceKnn is deprecated; call bfKnn instead\n"
     ]
    },
    {
     "name": "stdout",
     "output_type": "stream",
     "text": [
      "Jaccard distance computing time cost: 81.45988130569458\n",
      "Extracting Online Features for resnet50 ...\n",
      "Features extracted in 153.17 seconds\n",
      "Computing jaccard distance...\n"
     ]
    },
    {
     "name": "stderr",
     "output_type": "stream",
     "text": [
      "bruteForceKnn is deprecated; call bfKnn instead\n"
     ]
    },
    {
     "name": "stdout",
     "output_type": "stream",
     "text": [
      "Jaccard distance computing time cost: 75.8738226890564\n",
      "Extracting Online Features for osnet ...\n",
      "Features extracted in 156.39 seconds\n",
      "Computing jaccard distance...\n"
     ]
    },
    {
     "name": "stderr",
     "output_type": "stream",
     "text": [
      "bruteForceKnn is deprecated; call bfKnn instead\n"
     ]
    },
    {
     "name": "stdout",
     "output_type": "stream",
     "text": [
      "Jaccard distance computing time cost: 75.0603256225586\n",
      "Extracting Online Features for densenet121 ...\n",
      "Features extracted in 153.87 seconds\n",
      "Computing jaccard distance...\n"
     ]
    },
    {
     "name": "stderr",
     "output_type": "stream",
     "text": [
      "bruteForceKnn is deprecated; call bfKnn instead\n"
     ]
    },
    {
     "name": "stdout",
     "output_type": "stream",
     "text": [
      "Jaccard distance computing time cost: 70.45555996894836\n",
      "Reliability: 0.997\n",
      "\u001b[32mMean Purity: 0.01845\u001b[0m\n",
      "\u001b[34mThere are 2 clusters with 4 cameras\u001b[0m\n",
      "\u001b[34mThere are 4 clusters with 5 cameras\u001b[0m\n",
      "\u001b[34mThere are 2 clusters with 7 cameras\u001b[0m\n",
      "\u001b[34mThere are 1 clusters with 9 cameras\u001b[0m\n",
      "\u001b[34mThere are 1 clusters with 11 cameras\u001b[0m\n",
      "\u001b[34mThere are 1 clusters with 12 cameras\u001b[0m\n",
      "\u001b[34mThere are 1 clusters with 16 cameras\u001b[0m\n",
      "\u001b[34mThere are 1 clusters with 19 cameras\u001b[0m\n",
      "\u001b[34mThere are 2 clusters with 29 cameras\u001b[0m\n",
      "\u001b[34mThere are 1 clusters with 32 cameras\u001b[0m\n",
      "\u001b[34mThere are 1 clusters with 34 cameras\u001b[0m\n",
      "\u001b[34mThere are 1 clusters with 45 cameras\u001b[0m\n",
      "\u001b[34mThere are 1 clusters with 47 cameras\u001b[0m\n",
      "\u001b[34mThere are 1 clusters with 52 cameras\u001b[0m\n",
      "\u001b[34mThere are 1 clusters with 53 cameras\u001b[0m\n",
      "\u001b[34mThere are 1 clusters with 54 cameras\u001b[0m\n",
      "\u001b[34mThere are 2 clusters with 57 cameras\u001b[0m\n",
      "\u001b[34mThere are 1 clusters with 58 cameras\u001b[0m\n",
      "\u001b[34mThere are 3 clusters with 59 cameras\u001b[0m\n",
      "\u001b[34mThere are 3 clusters with 60 cameras\u001b[0m\n",
      "\u001b[34mThere are 8 clusters with 61 cameras\u001b[0m\n",
      "\u001b[34mThere are 10 clusters with 62 cameras\u001b[0m\n",
      "\u001b[34mThere are 25 clusters with 63 cameras\u001b[0m\n",
      "\u001b[34mThere are 494 clusters with 64 cameras\u001b[0m\n",
      "\u001b[34mThere are 1 clusters with 92 cameras\u001b[0m\n",
      "\u001b[34mThere are 1 clusters with 97 cameras\u001b[0m\n",
      "\u001b[34mThere are 1 clusters with 120 cameras\u001b[0m\n",
      "\u001b[34mThere are 1 clusters with 121 cameras\u001b[0m\n",
      "\u001b[34mThere are 1 clusters with 122 cameras\u001b[0m\n",
      "\u001b[34mThere are 1 clusters with 124 cameras\u001b[0m\n",
      "\u001b[34mThere are 1 clusters with 125 cameras\u001b[0m\n",
      "\u001b[34mThere are 1 clusters with 126 cameras\u001b[0m\n",
      "\u001b[34mThere are 6 clusters with 127 cameras\u001b[0m\n",
      "\u001b[34mThere are 10 clusters with 128 cameras\u001b[0m\n",
      "Number of classes: 592\n",
      "\u001b[36mLearning Rate: 0.000070\u001b[0m\n",
      "encontrou modelos mobilenet. Carregando...\n",
      "encontrou modelos vgg16. Carregando...\n",
      "encontrou modelos resnet50. Carregando...\n",
      "encontrou modelos osnet. Carregando...\n",
      "encontrou modelos densenet121. Carregando...\n",
      "###============ Iteration number 5/90 ============###\n",
      "Extracting Online Features for mobilenet ...\n",
      "Features extracted in 154.38 seconds\n",
      "Computing jaccard distance...\n"
     ]
    },
    {
     "name": "stderr",
     "output_type": "stream",
     "text": [
      "bruteForceKnn is deprecated; call bfKnn instead\n"
     ]
    },
    {
     "name": "stdout",
     "output_type": "stream",
     "text": [
      "Jaccard distance computing time cost: 82.87048363685608\n",
      "Extracting Online Features for vgg16 ...\n",
      "Features extracted in 153.21 seconds\n",
      "Computing jaccard distance...\n"
     ]
    },
    {
     "name": "stderr",
     "output_type": "stream",
     "text": [
      "bruteForceKnn is deprecated; call bfKnn instead\n"
     ]
    },
    {
     "name": "stdout",
     "output_type": "stream",
     "text": [
      "Jaccard distance computing time cost: 78.0632917881012\n",
      "Extracting Online Features for resnet50 ...\n",
      "Features extracted in 154.71 seconds\n",
      "Computing jaccard distance...\n"
     ]
    },
    {
     "name": "stderr",
     "output_type": "stream",
     "text": [
      "bruteForceKnn is deprecated; call bfKnn instead\n"
     ]
    },
    {
     "name": "stdout",
     "output_type": "stream",
     "text": [
      "Jaccard distance computing time cost: 84.85606002807617\n",
      "Extracting Online Features for osnet ...\n",
      "Features extracted in 150.99 seconds\n",
      "Computing jaccard distance...\n"
     ]
    },
    {
     "name": "stderr",
     "output_type": "stream",
     "text": [
      "bruteForceKnn is deprecated; call bfKnn instead\n"
     ]
    },
    {
     "name": "stdout",
     "output_type": "stream",
     "text": [
      "Jaccard distance computing time cost: 68.94492435455322\n",
      "Extracting Online Features for densenet121 ...\n",
      "Features extracted in 154.98 seconds\n",
      "Computing jaccard distance...\n"
     ]
    },
    {
     "name": "stderr",
     "output_type": "stream",
     "text": [
      "bruteForceKnn is deprecated; call bfKnn instead\n"
     ]
    },
    {
     "name": "stdout",
     "output_type": "stream",
     "text": [
      "Jaccard distance computing time cost: 73.10897302627563\n",
      "Reliability: 0.997\n",
      "\u001b[32mMean Purity: 0.01845\u001b[0m\n",
      "\u001b[34mThere are 2 clusters with 4 cameras\u001b[0m\n",
      "\u001b[34mThere are 4 clusters with 5 cameras\u001b[0m\n",
      "\u001b[34mThere are 2 clusters with 7 cameras\u001b[0m\n",
      "\u001b[34mThere are 1 clusters with 9 cameras\u001b[0m\n",
      "\u001b[34mThere are 1 clusters with 11 cameras\u001b[0m\n",
      "\u001b[34mThere are 1 clusters with 12 cameras\u001b[0m\n",
      "\u001b[34mThere are 1 clusters with 16 cameras\u001b[0m\n",
      "\u001b[34mThere are 1 clusters with 19 cameras\u001b[0m\n",
      "\u001b[34mThere are 2 clusters with 29 cameras\u001b[0m\n",
      "\u001b[34mThere are 1 clusters with 32 cameras\u001b[0m\n",
      "\u001b[34mThere are 1 clusters with 34 cameras\u001b[0m\n",
      "\u001b[34mThere are 1 clusters with 45 cameras\u001b[0m\n",
      "\u001b[34mThere are 1 clusters with 47 cameras\u001b[0m\n",
      "\u001b[34mThere are 1 clusters with 52 cameras\u001b[0m\n",
      "\u001b[34mThere are 1 clusters with 53 cameras\u001b[0m\n",
      "\u001b[34mThere are 1 clusters with 54 cameras\u001b[0m\n",
      "\u001b[34mThere are 2 clusters with 57 cameras\u001b[0m\n",
      "\u001b[34mThere are 1 clusters with 58 cameras\u001b[0m\n",
      "\u001b[34mThere are 3 clusters with 59 cameras\u001b[0m\n",
      "\u001b[34mThere are 3 clusters with 60 cameras\u001b[0m\n",
      "\u001b[34mThere are 8 clusters with 61 cameras\u001b[0m\n",
      "\u001b[34mThere are 10 clusters with 62 cameras\u001b[0m\n",
      "\u001b[34mThere are 25 clusters with 63 cameras\u001b[0m\n",
      "\u001b[34mThere are 494 clusters with 64 cameras\u001b[0m\n",
      "\u001b[34mThere are 1 clusters with 92 cameras\u001b[0m\n",
      "\u001b[34mThere are 1 clusters with 97 cameras\u001b[0m\n",
      "\u001b[34mThere are 1 clusters with 120 cameras\u001b[0m\n",
      "\u001b[34mThere are 1 clusters with 121 cameras\u001b[0m\n",
      "\u001b[34mThere are 1 clusters with 122 cameras\u001b[0m\n",
      "\u001b[34mThere are 1 clusters with 124 cameras\u001b[0m\n",
      "\u001b[34mThere are 1 clusters with 125 cameras\u001b[0m\n",
      "\u001b[34mThere are 1 clusters with 126 cameras\u001b[0m\n",
      "\u001b[34mThere are 6 clusters with 127 cameras\u001b[0m\n",
      "\u001b[34mThere are 10 clusters with 128 cameras\u001b[0m\n",
      "Number of classes: 592\n",
      "\u001b[36mLearning Rate: 0.000088\u001b[0m\n",
      "encontrou modelos mobilenet. Carregando...\n",
      "encontrou modelos vgg16. Carregando...\n",
      "encontrou modelos resnet50. Carregando...\n",
      "encontrou modelos osnet. Carregando...\n",
      "encontrou modelos densenet121. Carregando...\n",
      "\u001b[33mValidating online mobilenet ...\u001b[0m\n",
      "Features extracted in 46.81 seconds\n",
      "Features extracted in 99.32 seconds\n",
      "Computing CMC and mAP ...\n",
      "** Results **\n",
      "mAP: 71.39%\n",
      "CMC curve\n",
      "Rank-1  : 81.53%\n",
      "Rank-5  : 95.41%\n",
      "Rank-10 : 98.02%\n",
      "Rank-20 : 99.18%\n",
      "\u001b[33mValidating momentum mobilenet ...\u001b[0m\n",
      "Features extracted in 47.20 seconds\n",
      "Features extracted in 99.32 seconds\n",
      "Computing CMC and mAP ...\n",
      "** Results **\n",
      "mAP: 70.86%\n",
      "CMC curve\n",
      "Rank-1  : 78.95%\n",
      "Rank-5  : 93.89%\n",
      "Rank-10 : 97.47%\n",
      "Rank-20 : 99.27%\n",
      "\u001b[33mValidating online vgg16 ...\u001b[0m\n",
      "Features extracted in 48.47 seconds\n",
      "Features extracted in 101.63 seconds\n",
      "Computing CMC and mAP ...\n",
      "** Results **\n",
      "mAP: 69.67%\n",
      "CMC curve\n",
      "Rank-1  : 74.49%\n",
      "Rank-5  : 92.27%\n",
      "Rank-10 : 96.56%\n",
      "Rank-20 : 99.05%\n",
      "\u001b[33mValidating momentum vgg16 ...\u001b[0m\n",
      "Features extracted in 48.53 seconds\n",
      "Features extracted in 101.52 seconds\n",
      "Computing CMC and mAP ...\n",
      "** Results **\n",
      "mAP: 69.72%\n",
      "CMC curve\n",
      "Rank-1  : 75.80%\n",
      "Rank-5  : 92.91%\n",
      "Rank-10 : 97.25%\n",
      "Rank-20 : 99.09%\n",
      "\u001b[33mValidating online resnet50 ...\u001b[0m\n",
      "Features extracted in 48.71 seconds\n",
      "Features extracted in 100.81 seconds\n",
      "Computing CMC and mAP ...\n",
      "** Results **\n",
      "mAP: 69.64%\n",
      "CMC curve\n",
      "Rank-1  : 70.07%\n",
      "Rank-5  : 91.28%\n",
      "Rank-10 : 96.04%\n",
      "Rank-20 : 98.68%\n",
      "\u001b[33mValidating momentum resnet50 ...\u001b[0m\n",
      "Features extracted in 48.29 seconds\n",
      "Features extracted in 101.03 seconds\n",
      "Computing CMC and mAP ...\n",
      "** Results **\n",
      "mAP: 70.02%\n",
      "CMC curve\n",
      "Rank-1  : 73.39%\n",
      "Rank-5  : 93.49%\n",
      "Rank-10 : 97.50%\n",
      "Rank-20 : 99.37%\n",
      "\u001b[33mValidating online osnet ...\u001b[0m\n",
      "Features extracted in 48.02 seconds\n",
      "Features extracted in 100.01 seconds\n",
      "Computing CMC and mAP ...\n",
      "** Results **\n",
      "mAP: 68.61%\n",
      "CMC curve\n",
      "Rank-1  : 73.02%\n",
      "Rank-5  : 95.04%\n",
      "Rank-10 : 98.36%\n",
      "Rank-20 : 99.48%\n",
      "\u001b[33mValidating momentum osnet ...\u001b[0m\n",
      "Features extracted in 47.97 seconds\n",
      "Features extracted in 101.47 seconds\n",
      "Computing CMC and mAP ...\n",
      "** Results **\n",
      "mAP: 69.41%\n",
      "CMC curve\n",
      "Rank-1  : 73.33%\n",
      "Rank-5  : 93.06%\n",
      "Rank-10 : 97.14%\n",
      "Rank-20 : 99.12%\n",
      "\u001b[33mValidating online densenet121 ...\u001b[0m\n",
      "Features extracted in 49.38 seconds\n",
      "Features extracted in 101.25 seconds\n",
      "Computing CMC and mAP ...\n",
      "** Results **\n",
      "mAP: 70.12%\n",
      "CMC curve\n",
      "Rank-1  : 75.15%\n",
      "Rank-5  : 92.89%\n",
      "Rank-10 : 97.00%\n",
      "Rank-20 : 98.95%\n",
      "\u001b[33mValidating momentum densenet121 ...\u001b[0m\n",
      "Features extracted in 47.98 seconds\n",
      "Features extracted in 101.97 seconds\n",
      "Computing CMC and mAP ...\n",
      "** Results **\n",
      "mAP: 69.53%\n",
      "CMC curve\n",
      "Rank-1  : 75.91%\n",
      "Rank-5  : 93.33%\n",
      "Rank-10 : 97.31%\n",
      "Rank-20 : 99.25%\n",
      "\u001b[33mValidating ensembled with online models ...\u001b[0m\n",
      "Computing CMC and mAP ...\n",
      "** Results **\n",
      "mAP: 70.82%\n",
      "Ranks:\n",
      "Rank-1  : 78.15%\n",
      "Rank-5  : 92.64%\n",
      "Rank-10 : 96.59%\n",
      "\u001b[33mValidating ensembled with momentum models ...\u001b[0m\n",
      "Computing CMC and mAP ...\n",
      "** Results **\n",
      "mAP: 70.51%\n",
      "Ranks:\n",
      "Rank-1  : 78.02%\n",
      "Rank-5  : 92.58%\n",
      "Rank-10 : 96.55%\n",
      "###============ Iteration number 6/90 ============###\n",
      "Extracting Online Features for mobilenet ...\n",
      "Features extracted in 157.32 seconds\n",
      "Computing jaccard distance...\n"
     ]
    },
    {
     "name": "stderr",
     "output_type": "stream",
     "text": [
      "bruteForceKnn is deprecated; call bfKnn instead\n"
     ]
    },
    {
     "name": "stdout",
     "output_type": "stream",
     "text": [
      "Jaccard distance computing time cost: 70.80127835273743\n",
      "Extracting Online Features for vgg16 ...\n",
      "Features extracted in 151.57 seconds\n",
      "Computing jaccard distance...\n"
     ]
    },
    {
     "name": "stderr",
     "output_type": "stream",
     "text": [
      "bruteForceKnn is deprecated; call bfKnn instead\n"
     ]
    },
    {
     "name": "stdout",
     "output_type": "stream",
     "text": [
      "Jaccard distance computing time cost: 72.26188826560974\n",
      "Extracting Online Features for resnet50 ...\n",
      "Features extracted in 152.10 seconds\n",
      "Computing jaccard distance...\n"
     ]
    },
    {
     "name": "stderr",
     "output_type": "stream",
     "text": [
      "bruteForceKnn is deprecated; call bfKnn instead\n"
     ]
    },
    {
     "name": "stdout",
     "output_type": "stream",
     "text": [
      "Jaccard distance computing time cost: 75.35229134559631\n",
      "Extracting Online Features for osnet ...\n",
      "Features extracted in 151.39 seconds\n",
      "Computing jaccard distance...\n"
     ]
    },
    {
     "name": "stderr",
     "output_type": "stream",
     "text": [
      "bruteForceKnn is deprecated; call bfKnn instead\n"
     ]
    },
    {
     "name": "stdout",
     "output_type": "stream",
     "text": [
      "Jaccard distance computing time cost: 82.07313227653503\n",
      "Extracting Online Features for densenet121 ...\n",
      "Features extracted in 153.56 seconds\n",
      "Computing jaccard distance...\n"
     ]
    },
    {
     "name": "stderr",
     "output_type": "stream",
     "text": [
      "bruteForceKnn is deprecated; call bfKnn instead\n"
     ]
    },
    {
     "name": "stdout",
     "output_type": "stream",
     "text": [
      "Jaccard distance computing time cost: 72.51106810569763\n",
      "Reliability: 0.997\n",
      "\u001b[32mMean Purity: 0.01845\u001b[0m\n",
      "\u001b[34mThere are 2 clusters with 4 cameras\u001b[0m\n",
      "\u001b[34mThere are 4 clusters with 5 cameras\u001b[0m\n",
      "\u001b[34mThere are 2 clusters with 7 cameras\u001b[0m\n",
      "\u001b[34mThere are 1 clusters with 9 cameras\u001b[0m\n",
      "\u001b[34mThere are 1 clusters with 11 cameras\u001b[0m\n",
      "\u001b[34mThere are 1 clusters with 12 cameras\u001b[0m\n",
      "\u001b[34mThere are 1 clusters with 16 cameras\u001b[0m\n",
      "\u001b[34mThere are 1 clusters with 19 cameras\u001b[0m\n",
      "\u001b[34mThere are 2 clusters with 29 cameras\u001b[0m\n",
      "\u001b[34mThere are 1 clusters with 32 cameras\u001b[0m\n",
      "\u001b[34mThere are 1 clusters with 34 cameras\u001b[0m\n",
      "\u001b[34mThere are 1 clusters with 45 cameras\u001b[0m\n",
      "\u001b[34mThere are 1 clusters with 47 cameras\u001b[0m\n",
      "\u001b[34mThere are 1 clusters with 52 cameras\u001b[0m\n",
      "\u001b[34mThere are 1 clusters with 53 cameras\u001b[0m\n",
      "\u001b[34mThere are 1 clusters with 54 cameras\u001b[0m\n",
      "\u001b[34mThere are 2 clusters with 57 cameras\u001b[0m\n",
      "\u001b[34mThere are 1 clusters with 58 cameras\u001b[0m\n",
      "\u001b[34mThere are 3 clusters with 59 cameras\u001b[0m\n",
      "\u001b[34mThere are 3 clusters with 60 cameras\u001b[0m\n",
      "\u001b[34mThere are 8 clusters with 61 cameras\u001b[0m\n",
      "\u001b[34mThere are 10 clusters with 62 cameras\u001b[0m\n",
      "\u001b[34mThere are 25 clusters with 63 cameras\u001b[0m\n",
      "\u001b[34mThere are 494 clusters with 64 cameras\u001b[0m\n",
      "\u001b[34mThere are 1 clusters with 92 cameras\u001b[0m\n",
      "\u001b[34mThere are 1 clusters with 97 cameras\u001b[0m\n",
      "\u001b[34mThere are 1 clusters with 120 cameras\u001b[0m\n",
      "\u001b[34mThere are 1 clusters with 121 cameras\u001b[0m\n",
      "\u001b[34mThere are 1 clusters with 122 cameras\u001b[0m\n",
      "\u001b[34mThere are 1 clusters with 124 cameras\u001b[0m\n",
      "\u001b[34mThere are 1 clusters with 125 cameras\u001b[0m\n",
      "\u001b[34mThere are 1 clusters with 126 cameras\u001b[0m\n",
      "\u001b[34mThere are 6 clusters with 127 cameras\u001b[0m\n",
      "\u001b[34mThere are 10 clusters with 128 cameras\u001b[0m\n",
      "Number of classes: 592\n",
      "\u001b[36mLearning Rate: 0.000105\u001b[0m\n",
      "encontrou modelos mobilenet. Carregando...\n",
      "encontrou modelos vgg16. Carregando...\n",
      "encontrou modelos resnet50. Carregando...\n",
      "encontrou modelos osnet. Carregando...\n",
      "encontrou modelos densenet121. Carregando...\n",
      "###============ Iteration number 7/90 ============###\n",
      "Extracting Online Features for mobilenet ...\n",
      "Features extracted in 156.40 seconds\n",
      "Computing jaccard distance...\n"
     ]
    },
    {
     "name": "stderr",
     "output_type": "stream",
     "text": [
      "bruteForceKnn is deprecated; call bfKnn instead\n"
     ]
    },
    {
     "name": "stdout",
     "output_type": "stream",
     "text": [
      "Jaccard distance computing time cost: 81.5198450088501\n",
      "Extracting Online Features for vgg16 ...\n",
      "Features extracted in 157.55 seconds\n",
      "Computing jaccard distance...\n"
     ]
    },
    {
     "name": "stderr",
     "output_type": "stream",
     "text": [
      "bruteForceKnn is deprecated; call bfKnn instead\n"
     ]
    },
    {
     "name": "stdout",
     "output_type": "stream",
     "text": [
      "Jaccard distance computing time cost: 71.60866498947144\n",
      "Extracting Online Features for resnet50 ...\n",
      "Features extracted in 152.92 seconds\n",
      "Computing jaccard distance...\n"
     ]
    },
    {
     "name": "stderr",
     "output_type": "stream",
     "text": [
      "bruteForceKnn is deprecated; call bfKnn instead\n"
     ]
    },
    {
     "name": "stdout",
     "output_type": "stream",
     "text": [
      "Jaccard distance computing time cost: 71.88805413246155\n",
      "Extracting Online Features for osnet ...\n",
      "Features extracted in 152.43 seconds\n",
      "Computing jaccard distance...\n"
     ]
    },
    {
     "name": "stderr",
     "output_type": "stream",
     "text": [
      "bruteForceKnn is deprecated; call bfKnn instead\n"
     ]
    },
    {
     "name": "stdout",
     "output_type": "stream",
     "text": [
      "Jaccard distance computing time cost: 76.14491510391235\n",
      "Extracting Online Features for densenet121 ...\n",
      "Features extracted in 155.79 seconds\n",
      "Computing jaccard distance...\n"
     ]
    },
    {
     "name": "stderr",
     "output_type": "stream",
     "text": [
      "bruteForceKnn is deprecated; call bfKnn instead\n"
     ]
    },
    {
     "name": "stdout",
     "output_type": "stream",
     "text": [
      "Jaccard distance computing time cost: 75.31297039985657\n",
      "Reliability: 0.997\n",
      "\u001b[32mMean Purity: 0.01845\u001b[0m\n",
      "\u001b[34mThere are 2 clusters with 4 cameras\u001b[0m\n",
      "\u001b[34mThere are 4 clusters with 5 cameras\u001b[0m\n",
      "\u001b[34mThere are 2 clusters with 7 cameras\u001b[0m\n",
      "\u001b[34mThere are 1 clusters with 9 cameras\u001b[0m\n",
      "\u001b[34mThere are 1 clusters with 11 cameras\u001b[0m\n",
      "\u001b[34mThere are 1 clusters with 12 cameras\u001b[0m\n",
      "\u001b[34mThere are 1 clusters with 16 cameras\u001b[0m\n",
      "\u001b[34mThere are 1 clusters with 19 cameras\u001b[0m\n",
      "\u001b[34mThere are 2 clusters with 29 cameras\u001b[0m\n",
      "\u001b[34mThere are 1 clusters with 32 cameras\u001b[0m\n",
      "\u001b[34mThere are 1 clusters with 34 cameras\u001b[0m\n",
      "\u001b[34mThere are 1 clusters with 45 cameras\u001b[0m\n",
      "\u001b[34mThere are 1 clusters with 47 cameras\u001b[0m\n",
      "\u001b[34mThere are 1 clusters with 52 cameras\u001b[0m\n",
      "\u001b[34mThere are 1 clusters with 53 cameras\u001b[0m\n",
      "\u001b[34mThere are 1 clusters with 54 cameras\u001b[0m\n",
      "\u001b[34mThere are 2 clusters with 57 cameras\u001b[0m\n",
      "\u001b[34mThere are 1 clusters with 58 cameras\u001b[0m\n",
      "\u001b[34mThere are 3 clusters with 59 cameras\u001b[0m\n",
      "\u001b[34mThere are 3 clusters with 60 cameras\u001b[0m\n",
      "\u001b[34mThere are 8 clusters with 61 cameras\u001b[0m\n",
      "\u001b[34mThere are 10 clusters with 62 cameras\u001b[0m\n",
      "\u001b[34mThere are 25 clusters with 63 cameras\u001b[0m\n",
      "\u001b[34mThere are 494 clusters with 64 cameras\u001b[0m\n",
      "\u001b[34mThere are 1 clusters with 92 cameras\u001b[0m\n",
      "\u001b[34mThere are 1 clusters with 97 cameras\u001b[0m\n",
      "\u001b[34mThere are 1 clusters with 120 cameras\u001b[0m\n",
      "\u001b[34mThere are 1 clusters with 121 cameras\u001b[0m\n",
      "\u001b[34mThere are 1 clusters with 122 cameras\u001b[0m\n",
      "\u001b[34mThere are 1 clusters with 124 cameras\u001b[0m\n",
      "\u001b[34mThere are 1 clusters with 125 cameras\u001b[0m\n",
      "\u001b[34mThere are 1 clusters with 126 cameras\u001b[0m\n",
      "\u001b[34mThere are 6 clusters with 127 cameras\u001b[0m\n",
      "\u001b[34mThere are 10 clusters with 128 cameras\u001b[0m\n",
      "Number of classes: 592\n",
      "\u001b[36mLearning Rate: 0.000122\u001b[0m\n",
      "encontrou modelos mobilenet. Carregando...\n",
      "encontrou modelos vgg16. Carregando...\n",
      "encontrou modelos resnet50. Carregando...\n",
      "encontrou modelos osnet. Carregando...\n",
      "encontrou modelos densenet121. Carregando...\n",
      "###============ Iteration number 8/90 ============###\n",
      "Extracting Online Features for mobilenet ...\n",
      "Features extracted in 155.67 seconds\n",
      "Computing jaccard distance...\n"
     ]
    },
    {
     "name": "stderr",
     "output_type": "stream",
     "text": [
      "bruteForceKnn is deprecated; call bfKnn instead\n"
     ]
    },
    {
     "name": "stdout",
     "output_type": "stream",
     "text": [
      "Jaccard distance computing time cost: 76.28316569328308\n",
      "Extracting Online Features for vgg16 ...\n",
      "Features extracted in 153.83 seconds\n",
      "Computing jaccard distance...\n"
     ]
    },
    {
     "name": "stderr",
     "output_type": "stream",
     "text": [
      "bruteForceKnn is deprecated; call bfKnn instead\n"
     ]
    },
    {
     "name": "stdout",
     "output_type": "stream",
     "text": [
      "Jaccard distance computing time cost: 72.66470289230347\n",
      "Extracting Online Features for resnet50 ...\n",
      "Features extracted in 157.98 seconds\n",
      "Computing jaccard distance...\n"
     ]
    },
    {
     "name": "stderr",
     "output_type": "stream",
     "text": [
      "bruteForceKnn is deprecated; call bfKnn instead\n"
     ]
    },
    {
     "name": "stdout",
     "output_type": "stream",
     "text": [
      "Jaccard distance computing time cost: 73.72039461135864\n",
      "Extracting Online Features for osnet ...\n",
      "Features extracted in 156.55 seconds\n",
      "Computing jaccard distance...\n"
     ]
    },
    {
     "name": "stderr",
     "output_type": "stream",
     "text": [
      "bruteForceKnn is deprecated; call bfKnn instead\n"
     ]
    },
    {
     "name": "stdout",
     "output_type": "stream",
     "text": [
      "Jaccard distance computing time cost: 69.3650472164154\n",
      "Extracting Online Features for densenet121 ...\n",
      "Features extracted in 152.59 seconds\n",
      "Computing jaccard distance...\n"
     ]
    },
    {
     "name": "stderr",
     "output_type": "stream",
     "text": [
      "bruteForceKnn is deprecated; call bfKnn instead\n"
     ]
    },
    {
     "name": "stdout",
     "output_type": "stream",
     "text": [
      "Jaccard distance computing time cost: 74.64107751846313\n",
      "Reliability: 0.997\n",
      "\u001b[32mMean Purity: 0.01845\u001b[0m\n",
      "\u001b[34mThere are 2 clusters with 4 cameras\u001b[0m\n",
      "\u001b[34mThere are 4 clusters with 5 cameras\u001b[0m\n",
      "\u001b[34mThere are 2 clusters with 7 cameras\u001b[0m\n",
      "\u001b[34mThere are 1 clusters with 9 cameras\u001b[0m\n",
      "\u001b[34mThere are 1 clusters with 11 cameras\u001b[0m\n",
      "\u001b[34mThere are 1 clusters with 12 cameras\u001b[0m\n",
      "\u001b[34mThere are 1 clusters with 16 cameras\u001b[0m\n",
      "\u001b[34mThere are 1 clusters with 19 cameras\u001b[0m\n",
      "\u001b[34mThere are 2 clusters with 29 cameras\u001b[0m\n",
      "\u001b[34mThere are 1 clusters with 32 cameras\u001b[0m\n",
      "\u001b[34mThere are 1 clusters with 34 cameras\u001b[0m\n",
      "\u001b[34mThere are 1 clusters with 45 cameras\u001b[0m\n",
      "\u001b[34mThere are 1 clusters with 47 cameras\u001b[0m\n",
      "\u001b[34mThere are 1 clusters with 52 cameras\u001b[0m\n",
      "\u001b[34mThere are 1 clusters with 53 cameras\u001b[0m\n",
      "\u001b[34mThere are 1 clusters with 54 cameras\u001b[0m\n",
      "\u001b[34mThere are 2 clusters with 57 cameras\u001b[0m\n",
      "\u001b[34mThere are 1 clusters with 58 cameras\u001b[0m\n",
      "\u001b[34mThere are 3 clusters with 59 cameras\u001b[0m\n",
      "\u001b[34mThere are 3 clusters with 60 cameras\u001b[0m\n",
      "\u001b[34mThere are 8 clusters with 61 cameras\u001b[0m\n",
      "\u001b[34mThere are 10 clusters with 62 cameras\u001b[0m\n",
      "\u001b[34mThere are 25 clusters with 63 cameras\u001b[0m\n",
      "\u001b[34mThere are 494 clusters with 64 cameras\u001b[0m\n",
      "\u001b[34mThere are 1 clusters with 92 cameras\u001b[0m\n",
      "\u001b[34mThere are 1 clusters with 97 cameras\u001b[0m\n",
      "\u001b[34mThere are 1 clusters with 120 cameras\u001b[0m\n",
      "\u001b[34mThere are 1 clusters with 121 cameras\u001b[0m\n",
      "\u001b[34mThere are 1 clusters with 122 cameras\u001b[0m\n",
      "\u001b[34mThere are 1 clusters with 124 cameras\u001b[0m\n",
      "\u001b[34mThere are 1 clusters with 125 cameras\u001b[0m\n",
      "\u001b[34mThere are 1 clusters with 126 cameras\u001b[0m\n",
      "\u001b[34mThere are 6 clusters with 127 cameras\u001b[0m\n",
      "\u001b[34mThere are 10 clusters with 128 cameras\u001b[0m\n",
      "Number of classes: 592\n",
      "\u001b[36mLearning Rate: 0.000140\u001b[0m\n",
      "encontrou modelos mobilenet. Carregando...\n",
      "encontrou modelos vgg16. Carregando...\n",
      "encontrou modelos resnet50. Carregando...\n",
      "encontrou modelos osnet. Carregando...\n",
      "encontrou modelos densenet121. Carregando...\n",
      "###============ Iteration number 9/90 ============###\n",
      "Extracting Online Features for mobilenet ...\n",
      "Features extracted in 154.83 seconds\n",
      "Computing jaccard distance...\n"
     ]
    },
    {
     "name": "stderr",
     "output_type": "stream",
     "text": [
      "bruteForceKnn is deprecated; call bfKnn instead\n"
     ]
    },
    {
     "name": "stdout",
     "output_type": "stream",
     "text": [
      "Jaccard distance computing time cost: 82.35319113731384\n",
      "Extracting Online Features for vgg16 ...\n",
      "Features extracted in 151.72 seconds\n",
      "Computing jaccard distance...\n"
     ]
    },
    {
     "name": "stderr",
     "output_type": "stream",
     "text": [
      "bruteForceKnn is deprecated; call bfKnn instead\n"
     ]
    },
    {
     "name": "stdout",
     "output_type": "stream",
     "text": [
      "Jaccard distance computing time cost: 69.64943504333496\n",
      "Extracting Online Features for resnet50 ...\n",
      "Features extracted in 155.90 seconds\n",
      "Computing jaccard distance...\n"
     ]
    },
    {
     "name": "stderr",
     "output_type": "stream",
     "text": [
      "bruteForceKnn is deprecated; call bfKnn instead\n"
     ]
    },
    {
     "name": "stdout",
     "output_type": "stream",
     "text": [
      "Jaccard distance computing time cost: 71.59357643127441\n",
      "Extracting Online Features for osnet ...\n",
      "Features extracted in 156.70 seconds\n",
      "Computing jaccard distance...\n"
     ]
    },
    {
     "name": "stderr",
     "output_type": "stream",
     "text": [
      "bruteForceKnn is deprecated; call bfKnn instead\n"
     ]
    },
    {
     "name": "stdout",
     "output_type": "stream",
     "text": [
      "Jaccard distance computing time cost: 69.54147624969482\n",
      "Extracting Online Features for densenet121 ...\n",
      "Features extracted in 155.79 seconds\n",
      "Computing jaccard distance...\n"
     ]
    },
    {
     "name": "stderr",
     "output_type": "stream",
     "text": [
      "bruteForceKnn is deprecated; call bfKnn instead\n"
     ]
    },
    {
     "name": "stdout",
     "output_type": "stream",
     "text": [
      "Jaccard distance computing time cost: 77.35848259925842\n",
      "Reliability: 0.997\n",
      "\u001b[32mMean Purity: 0.01845\u001b[0m\n",
      "\u001b[34mThere are 2 clusters with 4 cameras\u001b[0m\n",
      "\u001b[34mThere are 4 clusters with 5 cameras\u001b[0m\n",
      "\u001b[34mThere are 2 clusters with 7 cameras\u001b[0m\n",
      "\u001b[34mThere are 1 clusters with 9 cameras\u001b[0m\n",
      "\u001b[34mThere are 1 clusters with 11 cameras\u001b[0m\n",
      "\u001b[34mThere are 1 clusters with 12 cameras\u001b[0m\n",
      "\u001b[34mThere are 1 clusters with 16 cameras\u001b[0m\n",
      "\u001b[34mThere are 1 clusters with 19 cameras\u001b[0m\n",
      "\u001b[34mThere are 2 clusters with 29 cameras\u001b[0m\n",
      "\u001b[34mThere are 1 clusters with 32 cameras\u001b[0m\n",
      "\u001b[34mThere are 1 clusters with 34 cameras\u001b[0m\n",
      "\u001b[34mThere are 1 clusters with 45 cameras\u001b[0m\n",
      "\u001b[34mThere are 1 clusters with 47 cameras\u001b[0m\n",
      "\u001b[34mThere are 1 clusters with 52 cameras\u001b[0m\n",
      "\u001b[34mThere are 1 clusters with 53 cameras\u001b[0m\n",
      "\u001b[34mThere are 1 clusters with 54 cameras\u001b[0m\n",
      "\u001b[34mThere are 2 clusters with 57 cameras\u001b[0m\n",
      "\u001b[34mThere are 1 clusters with 58 cameras\u001b[0m\n",
      "\u001b[34mThere are 3 clusters with 59 cameras\u001b[0m\n",
      "\u001b[34mThere are 3 clusters with 60 cameras\u001b[0m\n",
      "\u001b[34mThere are 8 clusters with 61 cameras\u001b[0m\n",
      "\u001b[34mThere are 10 clusters with 62 cameras\u001b[0m\n",
      "\u001b[34mThere are 25 clusters with 63 cameras\u001b[0m\n",
      "\u001b[34mThere are 494 clusters with 64 cameras\u001b[0m\n",
      "\u001b[34mThere are 1 clusters with 92 cameras\u001b[0m\n",
      "\u001b[34mThere are 1 clusters with 97 cameras\u001b[0m\n",
      "\u001b[34mThere are 1 clusters with 120 cameras\u001b[0m\n",
      "\u001b[34mThere are 1 clusters with 121 cameras\u001b[0m\n",
      "\u001b[34mThere are 1 clusters with 122 cameras\u001b[0m\n",
      "\u001b[34mThere are 1 clusters with 124 cameras\u001b[0m\n",
      "\u001b[34mThere are 1 clusters with 125 cameras\u001b[0m\n",
      "\u001b[34mThere are 1 clusters with 126 cameras\u001b[0m\n",
      "\u001b[34mThere are 6 clusters with 127 cameras\u001b[0m\n",
      "\u001b[34mThere are 10 clusters with 128 cameras\u001b[0m\n",
      "Number of classes: 592\n",
      "\u001b[36mLearning Rate: 0.000158\u001b[0m\n",
      "encontrou modelos mobilenet. Carregando...\n",
      "encontrou modelos vgg16. Carregando...\n",
      "encontrou modelos resnet50. Carregando...\n",
      "encontrou modelos osnet. Carregando...\n",
      "encontrou modelos densenet121. Carregando...\n",
      "###============ Iteration number 10/90 ============###\n",
      "Extracting Online Features for mobilenet ...\n",
      "Features extracted in 155.30 seconds\n",
      "Computing jaccard distance...\n"
     ]
    },
    {
     "name": "stderr",
     "output_type": "stream",
     "text": [
      "bruteForceKnn is deprecated; call bfKnn instead\n"
     ]
    },
    {
     "name": "stdout",
     "output_type": "stream",
     "text": [
      "Jaccard distance computing time cost: 72.60225558280945\n",
      "Extracting Online Features for vgg16 ...\n",
      "Features extracted in 158.55 seconds\n",
      "Computing jaccard distance...\n"
     ]
    },
    {
     "name": "stderr",
     "output_type": "stream",
     "text": [
      "bruteForceKnn is deprecated; call bfKnn instead\n"
     ]
    },
    {
     "name": "stdout",
     "output_type": "stream",
     "text": [
      "Jaccard distance computing time cost: 69.50353622436523\n",
      "Extracting Online Features for resnet50 ...\n",
      "Features extracted in 151.40 seconds\n",
      "Computing jaccard distance...\n"
     ]
    },
    {
     "name": "stderr",
     "output_type": "stream",
     "text": [
      "bruteForceKnn is deprecated; call bfKnn instead\n"
     ]
    },
    {
     "name": "stdout",
     "output_type": "stream",
     "text": [
      "Jaccard distance computing time cost: 82.52290081977844\n",
      "Extracting Online Features for osnet ...\n",
      "Features extracted in 154.24 seconds\n",
      "Computing jaccard distance...\n"
     ]
    },
    {
     "name": "stderr",
     "output_type": "stream",
     "text": [
      "bruteForceKnn is deprecated; call bfKnn instead\n"
     ]
    },
    {
     "name": "stdout",
     "output_type": "stream",
     "text": [
      "Jaccard distance computing time cost: 73.40342783927917\n",
      "Extracting Online Features for densenet121 ...\n",
      "Features extracted in 154.51 seconds\n",
      "Computing jaccard distance...\n"
     ]
    },
    {
     "name": "stderr",
     "output_type": "stream",
     "text": [
      "bruteForceKnn is deprecated; call bfKnn instead\n"
     ]
    },
    {
     "name": "stdout",
     "output_type": "stream",
     "text": [
      "Jaccard distance computing time cost: 71.59279489517212\n",
      "Reliability: 0.997\n",
      "\u001b[32mMean Purity: 0.01845\u001b[0m\n",
      "\u001b[34mThere are 2 clusters with 4 cameras\u001b[0m\n",
      "\u001b[34mThere are 4 clusters with 5 cameras\u001b[0m\n",
      "\u001b[34mThere are 2 clusters with 7 cameras\u001b[0m\n",
      "\u001b[34mThere are 1 clusters with 9 cameras\u001b[0m\n",
      "\u001b[34mThere are 1 clusters with 11 cameras\u001b[0m\n",
      "\u001b[34mThere are 1 clusters with 12 cameras\u001b[0m\n",
      "\u001b[34mThere are 1 clusters with 16 cameras\u001b[0m\n",
      "\u001b[34mThere are 1 clusters with 19 cameras\u001b[0m\n",
      "\u001b[34mThere are 2 clusters with 29 cameras\u001b[0m\n",
      "\u001b[34mThere are 1 clusters with 32 cameras\u001b[0m\n",
      "\u001b[34mThere are 1 clusters with 34 cameras\u001b[0m\n",
      "\u001b[34mThere are 1 clusters with 45 cameras\u001b[0m\n",
      "\u001b[34mThere are 1 clusters with 47 cameras\u001b[0m\n",
      "\u001b[34mThere are 1 clusters with 52 cameras\u001b[0m\n",
      "\u001b[34mThere are 1 clusters with 53 cameras\u001b[0m\n",
      "\u001b[34mThere are 1 clusters with 54 cameras\u001b[0m\n",
      "\u001b[34mThere are 2 clusters with 57 cameras\u001b[0m\n",
      "\u001b[34mThere are 1 clusters with 58 cameras\u001b[0m\n",
      "\u001b[34mThere are 3 clusters with 59 cameras\u001b[0m\n",
      "\u001b[34mThere are 3 clusters with 60 cameras\u001b[0m\n",
      "\u001b[34mThere are 8 clusters with 61 cameras\u001b[0m\n",
      "\u001b[34mThere are 10 clusters with 62 cameras\u001b[0m\n",
      "\u001b[34mThere are 25 clusters with 63 cameras\u001b[0m\n",
      "\u001b[34mThere are 494 clusters with 64 cameras\u001b[0m\n",
      "\u001b[34mThere are 1 clusters with 92 cameras\u001b[0m\n",
      "\u001b[34mThere are 1 clusters with 97 cameras\u001b[0m\n",
      "\u001b[34mThere are 1 clusters with 120 cameras\u001b[0m\n",
      "\u001b[34mThere are 1 clusters with 121 cameras\u001b[0m\n",
      "\u001b[34mThere are 1 clusters with 122 cameras\u001b[0m\n",
      "\u001b[34mThere are 1 clusters with 124 cameras\u001b[0m\n",
      "\u001b[34mThere are 1 clusters with 125 cameras\u001b[0m\n",
      "\u001b[34mThere are 1 clusters with 126 cameras\u001b[0m\n",
      "\u001b[34mThere are 6 clusters with 127 cameras\u001b[0m\n",
      "\u001b[34mThere are 10 clusters with 128 cameras\u001b[0m\n",
      "Number of classes: 592\n",
      "\u001b[36mLearning Rate: 0.000175\u001b[0m\n",
      "encontrou modelos mobilenet. Carregando...\n",
      "encontrou modelos vgg16. Carregando...\n",
      "encontrou modelos resnet50. Carregando...\n",
      "encontrou modelos osnet. Carregando...\n",
      "encontrou modelos densenet121. Carregando...\n",
      "\u001b[33mValidating online mobilenet ...\u001b[0m\n",
      "Features extracted in 45.42 seconds\n",
      "Features extracted in 97.71 seconds\n",
      "Computing CMC and mAP ...\n",
      "** Results **\n",
      "mAP: 71.39%\n",
      "CMC curve\n",
      "Rank-1  : 81.53%\n",
      "Rank-5  : 95.41%\n",
      "Rank-10 : 98.02%\n",
      "Rank-20 : 99.18%\n",
      "\u001b[33mValidating momentum mobilenet ...\u001b[0m\n",
      "Features extracted in 46.67 seconds\n",
      "Features extracted in 98.03 seconds\n",
      "Computing CMC and mAP ...\n",
      "** Results **\n",
      "mAP: 70.86%\n",
      "CMC curve\n",
      "Rank-1  : 78.95%\n",
      "Rank-5  : 93.89%\n",
      "Rank-10 : 97.47%\n",
      "Rank-20 : 99.27%\n",
      "\u001b[33mValidating online vgg16 ...\u001b[0m\n",
      "Features extracted in 48.59 seconds\n",
      "Features extracted in 102.05 seconds\n",
      "Computing CMC and mAP ...\n",
      "** Results **\n",
      "mAP: 69.67%\n",
      "CMC curve\n",
      "Rank-1  : 74.49%\n",
      "Rank-5  : 92.27%\n",
      "Rank-10 : 96.56%\n",
      "Rank-20 : 99.05%\n",
      "\u001b[33mValidating momentum vgg16 ...\u001b[0m\n",
      "Features extracted in 47.65 seconds\n",
      "Features extracted in 100.39 seconds\n",
      "Computing CMC and mAP ...\n",
      "** Results **\n",
      "mAP: 69.72%\n",
      "CMC curve\n",
      "Rank-1  : 75.80%\n",
      "Rank-5  : 92.91%\n",
      "Rank-10 : 97.25%\n",
      "Rank-20 : 99.09%\n",
      "\u001b[33mValidating online resnet50 ...\u001b[0m\n",
      "Features extracted in 46.97 seconds\n",
      "Features extracted in 100.15 seconds\n",
      "Computing CMC and mAP ...\n",
      "** Results **\n",
      "mAP: 69.64%\n",
      "CMC curve\n",
      "Rank-1  : 70.07%\n",
      "Rank-5  : 91.28%\n",
      "Rank-10 : 96.04%\n",
      "Rank-20 : 98.68%\n",
      "\u001b[33mValidating momentum resnet50 ...\u001b[0m\n",
      "Features extracted in 48.21 seconds\n",
      "Features extracted in 100.00 seconds\n",
      "Computing CMC and mAP ...\n",
      "** Results **\n",
      "mAP: 70.02%\n",
      "CMC curve\n",
      "Rank-1  : 73.39%\n",
      "Rank-5  : 93.49%\n",
      "Rank-10 : 97.50%\n",
      "Rank-20 : 99.37%\n",
      "\u001b[33mValidating online osnet ...\u001b[0m\n",
      "Features extracted in 49.95 seconds\n",
      "Features extracted in 101.35 seconds\n",
      "Computing CMC and mAP ...\n",
      "** Results **\n",
      "mAP: 68.61%\n",
      "CMC curve\n",
      "Rank-1  : 73.02%\n",
      "Rank-5  : 95.04%\n",
      "Rank-10 : 98.36%\n",
      "Rank-20 : 99.48%\n",
      "\u001b[33mValidating momentum osnet ...\u001b[0m\n",
      "Features extracted in 49.61 seconds\n",
      "Features extracted in 100.39 seconds\n",
      "Computing CMC and mAP ...\n",
      "** Results **\n",
      "mAP: 69.41%\n",
      "CMC curve\n",
      "Rank-1  : 73.33%\n",
      "Rank-5  : 93.06%\n",
      "Rank-10 : 97.14%\n",
      "Rank-20 : 99.12%\n",
      "\u001b[33mValidating online densenet121 ...\u001b[0m\n",
      "Features extracted in 49.68 seconds\n",
      "Features extracted in 102.46 seconds\n",
      "Computing CMC and mAP ...\n",
      "** Results **\n",
      "mAP: 70.12%\n",
      "CMC curve\n",
      "Rank-1  : 75.15%\n",
      "Rank-5  : 92.89%\n",
      "Rank-10 : 97.00%\n",
      "Rank-20 : 98.95%\n",
      "\u001b[33mValidating momentum densenet121 ...\u001b[0m\n",
      "Features extracted in 49.09 seconds\n",
      "Features extracted in 101.36 seconds\n",
      "Computing CMC and mAP ...\n",
      "** Results **\n",
      "mAP: 69.53%\n",
      "CMC curve\n",
      "Rank-1  : 75.91%\n",
      "Rank-5  : 93.33%\n",
      "Rank-10 : 97.31%\n",
      "Rank-20 : 99.25%\n",
      "\u001b[33mValidating ensembled with online models ...\u001b[0m\n",
      "Computing CMC and mAP ...\n",
      "** Results **\n",
      "mAP: 70.82%\n",
      "Ranks:\n",
      "Rank-1  : 78.15%\n",
      "Rank-5  : 92.64%\n",
      "Rank-10 : 96.59%\n",
      "\u001b[33mValidating ensembled with momentum models ...\u001b[0m\n",
      "Computing CMC and mAP ...\n",
      "** Results **\n",
      "mAP: 70.51%\n",
      "Ranks:\n",
      "Rank-1  : 78.02%\n",
      "Rank-5  : 92.58%\n",
      "Rank-10 : 96.55%\n",
      "###============ Iteration number 11/90 ============###\n",
      "Extracting Online Features for mobilenet ...\n",
      "Features extracted in 156.53 seconds\n",
      "Computing jaccard distance...\n"
     ]
    },
    {
     "name": "stderr",
     "output_type": "stream",
     "text": [
      "bruteForceKnn is deprecated; call bfKnn instead\n"
     ]
    },
    {
     "name": "stdout",
     "output_type": "stream",
     "text": [
      "Jaccard distance computing time cost: 72.94610953330994\n",
      "Extracting Online Features for vgg16 ...\n",
      "Features extracted in 155.52 seconds\n",
      "Computing jaccard distance...\n"
     ]
    },
    {
     "name": "stderr",
     "output_type": "stream",
     "text": [
      "bruteForceKnn is deprecated; call bfKnn instead\n"
     ]
    },
    {
     "name": "stdout",
     "output_type": "stream",
     "text": [
      "Jaccard distance computing time cost: 76.31277513504028\n",
      "Extracting Online Features for resnet50 ...\n",
      "Features extracted in 155.56 seconds\n",
      "Computing jaccard distance...\n"
     ]
    },
    {
     "name": "stderr",
     "output_type": "stream",
     "text": [
      "bruteForceKnn is deprecated; call bfKnn instead\n"
     ]
    },
    {
     "name": "stdout",
     "output_type": "stream",
     "text": [
      "Jaccard distance computing time cost: 72.64810919761658\n",
      "Extracting Online Features for osnet ...\n",
      "Features extracted in 153.59 seconds\n",
      "Computing jaccard distance...\n"
     ]
    },
    {
     "name": "stderr",
     "output_type": "stream",
     "text": [
      "bruteForceKnn is deprecated; call bfKnn instead\n"
     ]
    },
    {
     "name": "stdout",
     "output_type": "stream",
     "text": [
      "Jaccard distance computing time cost: 69.89941811561584\n",
      "Extracting Online Features for densenet121 ...\n",
      "Features extracted in 156.73 seconds\n",
      "Computing jaccard distance...\n"
     ]
    },
    {
     "name": "stderr",
     "output_type": "stream",
     "text": [
      "bruteForceKnn is deprecated; call bfKnn instead\n"
     ]
    },
    {
     "name": "stdout",
     "output_type": "stream",
     "text": [
      "Jaccard distance computing time cost: 74.99278855323792\n",
      "Reliability: 0.997\n",
      "\u001b[32mMean Purity: 0.01845\u001b[0m\n",
      "\u001b[34mThere are 2 clusters with 4 cameras\u001b[0m\n",
      "\u001b[34mThere are 4 clusters with 5 cameras\u001b[0m\n",
      "\u001b[34mThere are 2 clusters with 7 cameras\u001b[0m\n",
      "\u001b[34mThere are 1 clusters with 9 cameras\u001b[0m\n",
      "\u001b[34mThere are 1 clusters with 11 cameras\u001b[0m\n",
      "\u001b[34mThere are 1 clusters with 12 cameras\u001b[0m\n",
      "\u001b[34mThere are 1 clusters with 16 cameras\u001b[0m\n",
      "\u001b[34mThere are 1 clusters with 19 cameras\u001b[0m\n",
      "\u001b[34mThere are 2 clusters with 29 cameras\u001b[0m\n",
      "\u001b[34mThere are 1 clusters with 32 cameras\u001b[0m\n",
      "\u001b[34mThere are 1 clusters with 34 cameras\u001b[0m\n",
      "\u001b[34mThere are 1 clusters with 45 cameras\u001b[0m\n",
      "\u001b[34mThere are 1 clusters with 47 cameras\u001b[0m\n",
      "\u001b[34mThere are 1 clusters with 52 cameras\u001b[0m\n",
      "\u001b[34mThere are 1 clusters with 53 cameras\u001b[0m\n",
      "\u001b[34mThere are 1 clusters with 54 cameras\u001b[0m\n",
      "\u001b[34mThere are 2 clusters with 57 cameras\u001b[0m\n",
      "\u001b[34mThere are 1 clusters with 58 cameras\u001b[0m\n",
      "\u001b[34mThere are 3 clusters with 59 cameras\u001b[0m\n",
      "\u001b[34mThere are 3 clusters with 60 cameras\u001b[0m\n",
      "\u001b[34mThere are 8 clusters with 61 cameras\u001b[0m\n",
      "\u001b[34mThere are 10 clusters with 62 cameras\u001b[0m\n",
      "\u001b[34mThere are 25 clusters with 63 cameras\u001b[0m\n",
      "\u001b[34mThere are 494 clusters with 64 cameras\u001b[0m\n",
      "\u001b[34mThere are 1 clusters with 92 cameras\u001b[0m\n",
      "\u001b[34mThere are 1 clusters with 97 cameras\u001b[0m\n",
      "\u001b[34mThere are 1 clusters with 120 cameras\u001b[0m\n",
      "\u001b[34mThere are 1 clusters with 121 cameras\u001b[0m\n",
      "\u001b[34mThere are 1 clusters with 122 cameras\u001b[0m\n",
      "\u001b[34mThere are 1 clusters with 124 cameras\u001b[0m\n",
      "\u001b[34mThere are 1 clusters with 125 cameras\u001b[0m\n",
      "\u001b[34mThere are 1 clusters with 126 cameras\u001b[0m\n",
      "\u001b[34mThere are 6 clusters with 127 cameras\u001b[0m\n",
      "\u001b[34mThere are 10 clusters with 128 cameras\u001b[0m\n",
      "Number of classes: 592\n",
      "\u001b[36mLearning Rate: 0.000193\u001b[0m\n",
      "encontrou modelos mobilenet. Carregando...\n",
      "encontrou modelos vgg16. Carregando...\n",
      "encontrou modelos resnet50. Carregando...\n",
      "encontrou modelos osnet. Carregando...\n",
      "encontrou modelos densenet121. Carregando...\n",
      "###============ Iteration number 12/90 ============###\n",
      "Extracting Online Features for mobilenet ...\n",
      "Features extracted in 154.96 seconds\n",
      "Computing jaccard distance...\n"
     ]
    },
    {
     "name": "stderr",
     "output_type": "stream",
     "text": [
      "bruteForceKnn is deprecated; call bfKnn instead\n"
     ]
    },
    {
     "name": "stdout",
     "output_type": "stream",
     "text": [
      "Jaccard distance computing time cost: 71.62234139442444\n",
      "Extracting Online Features for vgg16 ...\n",
      "Features extracted in 153.54 seconds\n",
      "Computing jaccard distance...\n"
     ]
    },
    {
     "name": "stderr",
     "output_type": "stream",
     "text": [
      "bruteForceKnn is deprecated; call bfKnn instead\n"
     ]
    },
    {
     "name": "stdout",
     "output_type": "stream",
     "text": [
      "Jaccard distance computing time cost: 71.98044681549072\n",
      "Extracting Online Features for resnet50 ...\n",
      "Features extracted in 159.49 seconds\n",
      "Computing jaccard distance...\n"
     ]
    },
    {
     "name": "stderr",
     "output_type": "stream",
     "text": [
      "bruteForceKnn is deprecated; call bfKnn instead\n"
     ]
    },
    {
     "name": "stdout",
     "output_type": "stream",
     "text": [
      "Jaccard distance computing time cost: 84.08143448829651\n",
      "Extracting Online Features for osnet ...\n",
      "Features extracted in 159.06 seconds\n",
      "Computing jaccard distance...\n"
     ]
    },
    {
     "name": "stderr",
     "output_type": "stream",
     "text": [
      "bruteForceKnn is deprecated; call bfKnn instead\n"
     ]
    },
    {
     "name": "stdout",
     "output_type": "stream",
     "text": [
      "Jaccard distance computing time cost: 70.50181889533997\n",
      "Extracting Online Features for densenet121 ...\n",
      "Features extracted in 160.09 seconds\n",
      "Computing jaccard distance...\n"
     ]
    },
    {
     "name": "stderr",
     "output_type": "stream",
     "text": [
      "bruteForceKnn is deprecated; call bfKnn instead\n"
     ]
    },
    {
     "name": "stdout",
     "output_type": "stream",
     "text": [
      "Jaccard distance computing time cost: 73.26044297218323\n",
      "Reliability: 0.997\n",
      "\u001b[32mMean Purity: 0.01845\u001b[0m\n",
      "\u001b[34mThere are 2 clusters with 4 cameras\u001b[0m\n",
      "\u001b[34mThere are 4 clusters with 5 cameras\u001b[0m\n",
      "\u001b[34mThere are 2 clusters with 7 cameras\u001b[0m\n",
      "\u001b[34mThere are 1 clusters with 9 cameras\u001b[0m\n",
      "\u001b[34mThere are 1 clusters with 11 cameras\u001b[0m\n",
      "\u001b[34mThere are 1 clusters with 12 cameras\u001b[0m\n",
      "\u001b[34mThere are 1 clusters with 16 cameras\u001b[0m\n",
      "\u001b[34mThere are 1 clusters with 19 cameras\u001b[0m\n",
      "\u001b[34mThere are 2 clusters with 29 cameras\u001b[0m\n",
      "\u001b[34mThere are 1 clusters with 32 cameras\u001b[0m\n",
      "\u001b[34mThere are 1 clusters with 34 cameras\u001b[0m\n",
      "\u001b[34mThere are 1 clusters with 45 cameras\u001b[0m\n",
      "\u001b[34mThere are 1 clusters with 47 cameras\u001b[0m\n",
      "\u001b[34mThere are 1 clusters with 52 cameras\u001b[0m\n",
      "\u001b[34mThere are 1 clusters with 53 cameras\u001b[0m\n",
      "\u001b[34mThere are 1 clusters with 54 cameras\u001b[0m\n",
      "\u001b[34mThere are 2 clusters with 57 cameras\u001b[0m\n",
      "\u001b[34mThere are 1 clusters with 58 cameras\u001b[0m\n",
      "\u001b[34mThere are 3 clusters with 59 cameras\u001b[0m\n",
      "\u001b[34mThere are 3 clusters with 60 cameras\u001b[0m\n",
      "\u001b[34mThere are 8 clusters with 61 cameras\u001b[0m\n",
      "\u001b[34mThere are 10 clusters with 62 cameras\u001b[0m\n",
      "\u001b[34mThere are 25 clusters with 63 cameras\u001b[0m\n",
      "\u001b[34mThere are 494 clusters with 64 cameras\u001b[0m\n",
      "\u001b[34mThere are 1 clusters with 92 cameras\u001b[0m\n",
      "\u001b[34mThere are 1 clusters with 97 cameras\u001b[0m\n",
      "\u001b[34mThere are 1 clusters with 120 cameras\u001b[0m\n",
      "\u001b[34mThere are 1 clusters with 121 cameras\u001b[0m\n",
      "\u001b[34mThere are 1 clusters with 122 cameras\u001b[0m\n",
      "\u001b[34mThere are 1 clusters with 124 cameras\u001b[0m\n",
      "\u001b[34mThere are 1 clusters with 125 cameras\u001b[0m\n",
      "\u001b[34mThere are 1 clusters with 126 cameras\u001b[0m\n",
      "\u001b[34mThere are 6 clusters with 127 cameras\u001b[0m\n",
      "\u001b[34mThere are 10 clusters with 128 cameras\u001b[0m\n",
      "Number of classes: 592\n",
      "\u001b[36mLearning Rate: 0.000210\u001b[0m\n",
      "encontrou modelos mobilenet. Carregando...\n",
      "encontrou modelos vgg16. Carregando...\n",
      "encontrou modelos resnet50. Carregando...\n",
      "encontrou modelos osnet. Carregando...\n",
      "encontrou modelos densenet121. Carregando...\n",
      "###============ Iteration number 13/90 ============###\n",
      "Extracting Online Features for mobilenet ...\n",
      "Features extracted in 157.59 seconds\n",
      "Computing jaccard distance...\n"
     ]
    },
    {
     "name": "stderr",
     "output_type": "stream",
     "text": [
      "bruteForceKnn is deprecated; call bfKnn instead\n"
     ]
    },
    {
     "name": "stdout",
     "output_type": "stream",
     "text": [
      "Jaccard distance computing time cost: 70.70716118812561\n",
      "Extracting Online Features for vgg16 ...\n",
      "Features extracted in 154.19 seconds\n",
      "Computing jaccard distance...\n"
     ]
    },
    {
     "name": "stderr",
     "output_type": "stream",
     "text": [
      "bruteForceKnn is deprecated; call bfKnn instead\n"
     ]
    },
    {
     "name": "stdout",
     "output_type": "stream",
     "text": [
      "Jaccard distance computing time cost: 71.42664790153503\n",
      "Extracting Online Features for resnet50 ...\n",
      "Features extracted in 155.71 seconds\n",
      "Computing jaccard distance...\n"
     ]
    },
    {
     "name": "stderr",
     "output_type": "stream",
     "text": [
      "bruteForceKnn is deprecated; call bfKnn instead\n"
     ]
    },
    {
     "name": "stdout",
     "output_type": "stream",
     "text": [
      "Jaccard distance computing time cost: 78.41952323913574\n",
      "Extracting Online Features for osnet ...\n",
      "Features extracted in 156.37 seconds\n",
      "Computing jaccard distance...\n"
     ]
    },
    {
     "name": "stderr",
     "output_type": "stream",
     "text": [
      "bruteForceKnn is deprecated; call bfKnn instead\n"
     ]
    },
    {
     "name": "stdout",
     "output_type": "stream",
     "text": [
      "Jaccard distance computing time cost: 83.9811282157898\n",
      "Extracting Online Features for densenet121 ...\n",
      "Features extracted in 153.93 seconds\n",
      "Computing jaccard distance...\n"
     ]
    },
    {
     "name": "stderr",
     "output_type": "stream",
     "text": [
      "bruteForceKnn is deprecated; call bfKnn instead\n"
     ]
    },
    {
     "name": "stdout",
     "output_type": "stream",
     "text": [
      "Jaccard distance computing time cost: 79.41610026359558\n",
      "Reliability: 0.997\n",
      "\u001b[32mMean Purity: 0.01845\u001b[0m\n",
      "\u001b[34mThere are 2 clusters with 4 cameras\u001b[0m\n",
      "\u001b[34mThere are 4 clusters with 5 cameras\u001b[0m\n",
      "\u001b[34mThere are 2 clusters with 7 cameras\u001b[0m\n",
      "\u001b[34mThere are 1 clusters with 9 cameras\u001b[0m\n",
      "\u001b[34mThere are 1 clusters with 11 cameras\u001b[0m\n",
      "\u001b[34mThere are 1 clusters with 12 cameras\u001b[0m\n",
      "\u001b[34mThere are 1 clusters with 16 cameras\u001b[0m\n",
      "\u001b[34mThere are 1 clusters with 19 cameras\u001b[0m\n",
      "\u001b[34mThere are 2 clusters with 29 cameras\u001b[0m\n",
      "\u001b[34mThere are 1 clusters with 32 cameras\u001b[0m\n",
      "\u001b[34mThere are 1 clusters with 34 cameras\u001b[0m\n",
      "\u001b[34mThere are 1 clusters with 45 cameras\u001b[0m\n",
      "\u001b[34mThere are 1 clusters with 47 cameras\u001b[0m\n",
      "\u001b[34mThere are 1 clusters with 52 cameras\u001b[0m\n",
      "\u001b[34mThere are 1 clusters with 53 cameras\u001b[0m\n",
      "\u001b[34mThere are 1 clusters with 54 cameras\u001b[0m\n",
      "\u001b[34mThere are 2 clusters with 57 cameras\u001b[0m\n",
      "\u001b[34mThere are 1 clusters with 58 cameras\u001b[0m\n",
      "\u001b[34mThere are 3 clusters with 59 cameras\u001b[0m\n",
      "\u001b[34mThere are 3 clusters with 60 cameras\u001b[0m\n",
      "\u001b[34mThere are 8 clusters with 61 cameras\u001b[0m\n",
      "\u001b[34mThere are 10 clusters with 62 cameras\u001b[0m\n",
      "\u001b[34mThere are 25 clusters with 63 cameras\u001b[0m\n",
      "\u001b[34mThere are 494 clusters with 64 cameras\u001b[0m\n",
      "\u001b[34mThere are 1 clusters with 92 cameras\u001b[0m\n",
      "\u001b[34mThere are 1 clusters with 97 cameras\u001b[0m\n",
      "\u001b[34mThere are 1 clusters with 120 cameras\u001b[0m\n",
      "\u001b[34mThere are 1 clusters with 121 cameras\u001b[0m\n",
      "\u001b[34mThere are 1 clusters with 122 cameras\u001b[0m\n",
      "\u001b[34mThere are 1 clusters with 124 cameras\u001b[0m\n",
      "\u001b[34mThere are 1 clusters with 125 cameras\u001b[0m\n",
      "\u001b[34mThere are 1 clusters with 126 cameras\u001b[0m\n",
      "\u001b[34mThere are 6 clusters with 127 cameras\u001b[0m\n",
      "\u001b[34mThere are 10 clusters with 128 cameras\u001b[0m\n",
      "Number of classes: 592\n",
      "\u001b[36mLearning Rate: 0.000228\u001b[0m\n",
      "encontrou modelos mobilenet. Carregando...\n",
      "encontrou modelos vgg16. Carregando...\n",
      "encontrou modelos resnet50. Carregando...\n",
      "encontrou modelos osnet. Carregando...\n",
      "encontrou modelos densenet121. Carregando...\n",
      "###============ Iteration number 14/90 ============###\n",
      "Extracting Online Features for mobilenet ...\n",
      "Features extracted in 157.37 seconds\n",
      "Computing jaccard distance...\n"
     ]
    },
    {
     "name": "stderr",
     "output_type": "stream",
     "text": [
      "bruteForceKnn is deprecated; call bfKnn instead\n"
     ]
    },
    {
     "name": "stdout",
     "output_type": "stream",
     "text": [
      "Jaccard distance computing time cost: 71.59540343284607\n",
      "Extracting Online Features for vgg16 ...\n",
      "Features extracted in 160.34 seconds\n",
      "Computing jaccard distance...\n"
     ]
    },
    {
     "name": "stderr",
     "output_type": "stream",
     "text": [
      "bruteForceKnn is deprecated; call bfKnn instead\n"
     ]
    },
    {
     "name": "stdout",
     "output_type": "stream",
     "text": [
      "Jaccard distance computing time cost: 71.82071614265442\n",
      "Extracting Online Features for resnet50 ...\n",
      "Features extracted in 157.90 seconds\n",
      "Computing jaccard distance...\n"
     ]
    },
    {
     "name": "stderr",
     "output_type": "stream",
     "text": [
      "bruteForceKnn is deprecated; call bfKnn instead\n"
     ]
    },
    {
     "name": "stdout",
     "output_type": "stream",
     "text": [
      "Jaccard distance computing time cost: 70.79667496681213\n",
      "Extracting Online Features for osnet ...\n",
      "Features extracted in 153.26 seconds\n",
      "Computing jaccard distance...\n"
     ]
    },
    {
     "name": "stderr",
     "output_type": "stream",
     "text": [
      "bruteForceKnn is deprecated; call bfKnn instead\n"
     ]
    },
    {
     "name": "stdout",
     "output_type": "stream",
     "text": [
      "Jaccard distance computing time cost: 70.64373803138733\n",
      "Extracting Online Features for densenet121 ...\n",
      "Features extracted in 155.66 seconds\n",
      "Computing jaccard distance...\n"
     ]
    },
    {
     "name": "stderr",
     "output_type": "stream",
     "text": [
      "bruteForceKnn is deprecated; call bfKnn instead\n"
     ]
    },
    {
     "name": "stdout",
     "output_type": "stream",
     "text": [
      "Jaccard distance computing time cost: 73.30271363258362\n",
      "Reliability: 0.997\n",
      "\u001b[32mMean Purity: 0.01845\u001b[0m\n",
      "\u001b[34mThere are 2 clusters with 4 cameras\u001b[0m\n",
      "\u001b[34mThere are 4 clusters with 5 cameras\u001b[0m\n",
      "\u001b[34mThere are 2 clusters with 7 cameras\u001b[0m\n",
      "\u001b[34mThere are 1 clusters with 9 cameras\u001b[0m\n",
      "\u001b[34mThere are 1 clusters with 11 cameras\u001b[0m\n",
      "\u001b[34mThere are 1 clusters with 12 cameras\u001b[0m\n",
      "\u001b[34mThere are 1 clusters with 16 cameras\u001b[0m\n",
      "\u001b[34mThere are 1 clusters with 19 cameras\u001b[0m\n",
      "\u001b[34mThere are 2 clusters with 29 cameras\u001b[0m\n",
      "\u001b[34mThere are 1 clusters with 32 cameras\u001b[0m\n",
      "\u001b[34mThere are 1 clusters with 34 cameras\u001b[0m\n",
      "\u001b[34mThere are 1 clusters with 45 cameras\u001b[0m\n",
      "\u001b[34mThere are 1 clusters with 47 cameras\u001b[0m\n",
      "\u001b[34mThere are 1 clusters with 52 cameras\u001b[0m\n",
      "\u001b[34mThere are 1 clusters with 53 cameras\u001b[0m\n",
      "\u001b[34mThere are 1 clusters with 54 cameras\u001b[0m\n",
      "\u001b[34mThere are 2 clusters with 57 cameras\u001b[0m\n",
      "\u001b[34mThere are 1 clusters with 58 cameras\u001b[0m\n",
      "\u001b[34mThere are 3 clusters with 59 cameras\u001b[0m\n",
      "\u001b[34mThere are 3 clusters with 60 cameras\u001b[0m\n",
      "\u001b[34mThere are 8 clusters with 61 cameras\u001b[0m\n",
      "\u001b[34mThere are 10 clusters with 62 cameras\u001b[0m\n",
      "\u001b[34mThere are 25 clusters with 63 cameras\u001b[0m\n",
      "\u001b[34mThere are 494 clusters with 64 cameras\u001b[0m\n",
      "\u001b[34mThere are 1 clusters with 92 cameras\u001b[0m\n",
      "\u001b[34mThere are 1 clusters with 97 cameras\u001b[0m\n",
      "\u001b[34mThere are 1 clusters with 120 cameras\u001b[0m\n",
      "\u001b[34mThere are 1 clusters with 121 cameras\u001b[0m\n",
      "\u001b[34mThere are 1 clusters with 122 cameras\u001b[0m\n",
      "\u001b[34mThere are 1 clusters with 124 cameras\u001b[0m\n",
      "\u001b[34mThere are 1 clusters with 125 cameras\u001b[0m\n",
      "\u001b[34mThere are 1 clusters with 126 cameras\u001b[0m\n",
      "\u001b[34mThere are 6 clusters with 127 cameras\u001b[0m\n",
      "\u001b[34mThere are 10 clusters with 128 cameras\u001b[0m\n",
      "Number of classes: 592\n",
      "\u001b[36mLearning Rate: 0.000245\u001b[0m\n",
      "encontrou modelos mobilenet. Carregando...\n",
      "encontrou modelos vgg16. Carregando...\n",
      "encontrou modelos resnet50. Carregando...\n",
      "encontrou modelos osnet. Carregando...\n",
      "encontrou modelos densenet121. Carregando...\n",
      "###============ Iteration number 15/90 ============###\n",
      "Extracting Online Features for mobilenet ...\n",
      "Features extracted in 158.39 seconds\n",
      "Computing jaccard distance...\n"
     ]
    },
    {
     "name": "stderr",
     "output_type": "stream",
     "text": [
      "bruteForceKnn is deprecated; call bfKnn instead\n"
     ]
    },
    {
     "name": "stdout",
     "output_type": "stream",
     "text": [
      "Jaccard distance computing time cost: 73.08441019058228\n",
      "Extracting Online Features for vgg16 ...\n",
      "Features extracted in 155.29 seconds\n",
      "Computing jaccard distance...\n"
     ]
    },
    {
     "name": "stderr",
     "output_type": "stream",
     "text": [
      "bruteForceKnn is deprecated; call bfKnn instead\n"
     ]
    },
    {
     "name": "stdout",
     "output_type": "stream",
     "text": [
      "Jaccard distance computing time cost: 70.84078049659729\n",
      "Extracting Online Features for resnet50 ...\n",
      "Features extracted in 153.97 seconds\n",
      "Computing jaccard distance...\n"
     ]
    },
    {
     "name": "stderr",
     "output_type": "stream",
     "text": [
      "bruteForceKnn is deprecated; call bfKnn instead\n"
     ]
    },
    {
     "name": "stdout",
     "output_type": "stream",
     "text": [
      "Jaccard distance computing time cost: 79.55528903007507\n",
      "Extracting Online Features for osnet ...\n",
      "Features extracted in 155.44 seconds\n",
      "Computing jaccard distance...\n"
     ]
    },
    {
     "name": "stderr",
     "output_type": "stream",
     "text": [
      "bruteForceKnn is deprecated; call bfKnn instead\n"
     ]
    },
    {
     "name": "stdout",
     "output_type": "stream",
     "text": [
      "Jaccard distance computing time cost: 70.92438292503357\n",
      "Extracting Online Features for densenet121 ...\n",
      "Features extracted in 160.00 seconds\n",
      "Computing jaccard distance...\n"
     ]
    },
    {
     "name": "stderr",
     "output_type": "stream",
     "text": [
      "bruteForceKnn is deprecated; call bfKnn instead\n"
     ]
    },
    {
     "name": "stdout",
     "output_type": "stream",
     "text": [
      "Jaccard distance computing time cost: 72.04902911186218\n",
      "Reliability: 0.997\n",
      "\u001b[32mMean Purity: 0.01845\u001b[0m\n",
      "\u001b[34mThere are 2 clusters with 4 cameras\u001b[0m\n",
      "\u001b[34mThere are 4 clusters with 5 cameras\u001b[0m\n",
      "\u001b[34mThere are 2 clusters with 7 cameras\u001b[0m\n",
      "\u001b[34mThere are 1 clusters with 9 cameras\u001b[0m\n",
      "\u001b[34mThere are 1 clusters with 11 cameras\u001b[0m\n",
      "\u001b[34mThere are 1 clusters with 12 cameras\u001b[0m\n",
      "\u001b[34mThere are 1 clusters with 16 cameras\u001b[0m\n",
      "\u001b[34mThere are 1 clusters with 19 cameras\u001b[0m\n",
      "\u001b[34mThere are 2 clusters with 29 cameras\u001b[0m\n",
      "\u001b[34mThere are 1 clusters with 32 cameras\u001b[0m\n",
      "\u001b[34mThere are 1 clusters with 34 cameras\u001b[0m\n",
      "\u001b[34mThere are 1 clusters with 45 cameras\u001b[0m\n",
      "\u001b[34mThere are 1 clusters with 47 cameras\u001b[0m\n",
      "\u001b[34mThere are 1 clusters with 52 cameras\u001b[0m\n",
      "\u001b[34mThere are 1 clusters with 53 cameras\u001b[0m\n",
      "\u001b[34mThere are 1 clusters with 54 cameras\u001b[0m\n",
      "\u001b[34mThere are 2 clusters with 57 cameras\u001b[0m\n",
      "\u001b[34mThere are 1 clusters with 58 cameras\u001b[0m\n",
      "\u001b[34mThere are 3 clusters with 59 cameras\u001b[0m\n",
      "\u001b[34mThere are 3 clusters with 60 cameras\u001b[0m\n",
      "\u001b[34mThere are 8 clusters with 61 cameras\u001b[0m\n",
      "\u001b[34mThere are 10 clusters with 62 cameras\u001b[0m\n",
      "\u001b[34mThere are 25 clusters with 63 cameras\u001b[0m\n",
      "\u001b[34mThere are 494 clusters with 64 cameras\u001b[0m\n",
      "\u001b[34mThere are 1 clusters with 92 cameras\u001b[0m\n",
      "\u001b[34mThere are 1 clusters with 97 cameras\u001b[0m\n",
      "\u001b[34mThere are 1 clusters with 120 cameras\u001b[0m\n",
      "\u001b[34mThere are 1 clusters with 121 cameras\u001b[0m\n",
      "\u001b[34mThere are 1 clusters with 122 cameras\u001b[0m\n",
      "\u001b[34mThere are 1 clusters with 124 cameras\u001b[0m\n",
      "\u001b[34mThere are 1 clusters with 125 cameras\u001b[0m\n",
      "\u001b[34mThere are 1 clusters with 126 cameras\u001b[0m\n",
      "\u001b[34mThere are 6 clusters with 127 cameras\u001b[0m\n",
      "\u001b[34mThere are 10 clusters with 128 cameras\u001b[0m\n",
      "Number of classes: 592\n",
      "\u001b[36mLearning Rate: 0.000263\u001b[0m\n",
      "encontrou modelos mobilenet. Carregando...\n",
      "encontrou modelos vgg16. Carregando...\n",
      "encontrou modelos resnet50. Carregando...\n",
      "encontrou modelos osnet. Carregando...\n",
      "encontrou modelos densenet121. Carregando...\n",
      "\u001b[33mValidating online mobilenet ...\u001b[0m\n",
      "Features extracted in 47.98 seconds\n",
      "Features extracted in 101.32 seconds\n",
      "Computing CMC and mAP ...\n",
      "** Results **\n",
      "mAP: 71.39%\n",
      "CMC curve\n",
      "Rank-1  : 81.53%\n",
      "Rank-5  : 95.41%\n",
      "Rank-10 : 98.02%\n",
      "Rank-20 : 99.18%\n",
      "\u001b[33mValidating momentum mobilenet ...\u001b[0m\n",
      "Features extracted in 47.70 seconds\n",
      "Features extracted in 99.66 seconds\n",
      "Computing CMC and mAP ...\n",
      "** Results **\n",
      "mAP: 70.86%\n",
      "CMC curve\n",
      "Rank-1  : 78.95%\n",
      "Rank-5  : 93.89%\n",
      "Rank-10 : 97.47%\n",
      "Rank-20 : 99.27%\n",
      "\u001b[33mValidating online vgg16 ...\u001b[0m\n",
      "Features extracted in 49.10 seconds\n",
      "Features extracted in 103.35 seconds\n",
      "Computing CMC and mAP ...\n",
      "** Results **\n",
      "mAP: 69.67%\n",
      "CMC curve\n",
      "Rank-1  : 74.49%\n",
      "Rank-5  : 92.27%\n",
      "Rank-10 : 96.56%\n",
      "Rank-20 : 99.05%\n",
      "\u001b[33mValidating momentum vgg16 ...\u001b[0m\n",
      "Features extracted in 49.20 seconds\n",
      "Features extracted in 103.48 seconds\n",
      "Computing CMC and mAP ...\n",
      "** Results **\n",
      "mAP: 69.72%\n",
      "CMC curve\n",
      "Rank-1  : 75.80%\n",
      "Rank-5  : 92.91%\n",
      "Rank-10 : 97.25%\n",
      "Rank-20 : 99.09%\n",
      "\u001b[33mValidating online resnet50 ...\u001b[0m\n",
      "Features extracted in 49.18 seconds\n",
      "Features extracted in 101.70 seconds\n",
      "Computing CMC and mAP ...\n",
      "** Results **\n",
      "mAP: 69.64%\n",
      "CMC curve\n",
      "Rank-1  : 70.07%\n",
      "Rank-5  : 91.28%\n",
      "Rank-10 : 96.04%\n",
      "Rank-20 : 98.68%\n",
      "\u001b[33mValidating momentum resnet50 ...\u001b[0m\n",
      "Features extracted in 48.51 seconds\n",
      "Features extracted in 102.19 seconds\n",
      "Computing CMC and mAP ...\n",
      "** Results **\n",
      "mAP: 70.02%\n",
      "CMC curve\n",
      "Rank-1  : 73.39%\n",
      "Rank-5  : 93.49%\n",
      "Rank-10 : 97.50%\n",
      "Rank-20 : 99.37%\n",
      "\u001b[33mValidating online osnet ...\u001b[0m\n",
      "Features extracted in 49.05 seconds\n",
      "Features extracted in 102.10 seconds\n",
      "Computing CMC and mAP ...\n",
      "** Results **\n",
      "mAP: 68.61%\n",
      "CMC curve\n",
      "Rank-1  : 73.02%\n",
      "Rank-5  : 95.04%\n",
      "Rank-10 : 98.36%\n",
      "Rank-20 : 99.48%\n",
      "\u001b[33mValidating momentum osnet ...\u001b[0m\n",
      "Features extracted in 49.35 seconds\n",
      "Features extracted in 101.43 seconds\n",
      "Computing CMC and mAP ...\n",
      "** Results **\n",
      "mAP: 69.41%\n",
      "CMC curve\n",
      "Rank-1  : 73.33%\n",
      "Rank-5  : 93.06%\n",
      "Rank-10 : 97.14%\n",
      "Rank-20 : 99.12%\n",
      "\u001b[33mValidating online densenet121 ...\u001b[0m\n",
      "Features extracted in 49.25 seconds\n",
      "Features extracted in 103.04 seconds\n",
      "Computing CMC and mAP ...\n",
      "** Results **\n",
      "mAP: 70.12%\n",
      "CMC curve\n",
      "Rank-1  : 75.15%\n",
      "Rank-5  : 92.89%\n",
      "Rank-10 : 97.00%\n",
      "Rank-20 : 98.95%\n",
      "\u001b[33mValidating momentum densenet121 ...\u001b[0m\n",
      "Features extracted in 50.38 seconds\n",
      "Features extracted in 103.55 seconds\n",
      "Computing CMC and mAP ...\n",
      "** Results **\n",
      "mAP: 69.53%\n",
      "CMC curve\n",
      "Rank-1  : 75.91%\n",
      "Rank-5  : 93.33%\n",
      "Rank-10 : 97.31%\n",
      "Rank-20 : 99.25%\n",
      "\u001b[33mValidating ensembled with online models ...\u001b[0m\n",
      "Computing CMC and mAP ...\n",
      "** Results **\n",
      "mAP: 70.82%\n",
      "Ranks:\n",
      "Rank-1  : 78.15%\n",
      "Rank-5  : 92.64%\n",
      "Rank-10 : 96.59%\n",
      "\u001b[33mValidating ensembled with momentum models ...\u001b[0m\n",
      "Computing CMC and mAP ...\n",
      "** Results **\n",
      "mAP: 70.51%\n",
      "Ranks:\n",
      "Rank-1  : 78.02%\n",
      "Rank-5  : 92.58%\n",
      "Rank-10 : 96.55%\n",
      "###============ Iteration number 16/90 ============###\n",
      "Extracting Online Features for mobilenet ...\n",
      "Features extracted in 158.96 seconds\n",
      "Computing jaccard distance...\n"
     ]
    },
    {
     "name": "stderr",
     "output_type": "stream",
     "text": [
      "bruteForceKnn is deprecated; call bfKnn instead\n"
     ]
    },
    {
     "name": "stdout",
     "output_type": "stream",
     "text": [
      "Jaccard distance computing time cost: 73.97772812843323\n",
      "Extracting Online Features for vgg16 ...\n",
      "Features extracted in 160.53 seconds\n",
      "Computing jaccard distance...\n"
     ]
    },
    {
     "name": "stderr",
     "output_type": "stream",
     "text": [
      "bruteForceKnn is deprecated; call bfKnn instead\n"
     ]
    },
    {
     "name": "stdout",
     "output_type": "stream",
     "text": [
      "Jaccard distance computing time cost: 76.09659051895142\n",
      "Extracting Online Features for resnet50 ...\n",
      "Features extracted in 153.94 seconds\n",
      "Computing jaccard distance...\n"
     ]
    },
    {
     "name": "stderr",
     "output_type": "stream",
     "text": [
      "bruteForceKnn is deprecated; call bfKnn instead\n"
     ]
    },
    {
     "name": "stdout",
     "output_type": "stream",
     "text": [
      "Jaccard distance computing time cost: 75.05886578559875\n",
      "Extracting Online Features for osnet ...\n",
      "Features extracted in 153.74 seconds\n",
      "Computing jaccard distance...\n"
     ]
    },
    {
     "name": "stderr",
     "output_type": "stream",
     "text": [
      "bruteForceKnn is deprecated; call bfKnn instead\n"
     ]
    },
    {
     "name": "stdout",
     "output_type": "stream",
     "text": [
      "Jaccard distance computing time cost: 69.916255235672\n",
      "Extracting Online Features for densenet121 ...\n",
      "Features extracted in 156.95 seconds\n",
      "Computing jaccard distance...\n"
     ]
    },
    {
     "name": "stderr",
     "output_type": "stream",
     "text": [
      "bruteForceKnn is deprecated; call bfKnn instead\n"
     ]
    },
    {
     "name": "stdout",
     "output_type": "stream",
     "text": [
      "Jaccard distance computing time cost: 75.59188079833984\n",
      "Reliability: 0.997\n",
      "\u001b[32mMean Purity: 0.01845\u001b[0m\n",
      "\u001b[34mThere are 2 clusters with 4 cameras\u001b[0m\n",
      "\u001b[34mThere are 4 clusters with 5 cameras\u001b[0m\n",
      "\u001b[34mThere are 2 clusters with 7 cameras\u001b[0m\n",
      "\u001b[34mThere are 1 clusters with 9 cameras\u001b[0m\n",
      "\u001b[34mThere are 1 clusters with 11 cameras\u001b[0m\n",
      "\u001b[34mThere are 1 clusters with 12 cameras\u001b[0m\n",
      "\u001b[34mThere are 1 clusters with 16 cameras\u001b[0m\n",
      "\u001b[34mThere are 1 clusters with 19 cameras\u001b[0m\n",
      "\u001b[34mThere are 2 clusters with 29 cameras\u001b[0m\n",
      "\u001b[34mThere are 1 clusters with 32 cameras\u001b[0m\n",
      "\u001b[34mThere are 1 clusters with 34 cameras\u001b[0m\n",
      "\u001b[34mThere are 1 clusters with 45 cameras\u001b[0m\n",
      "\u001b[34mThere are 1 clusters with 47 cameras\u001b[0m\n",
      "\u001b[34mThere are 1 clusters with 52 cameras\u001b[0m\n",
      "\u001b[34mThere are 1 clusters with 53 cameras\u001b[0m\n",
      "\u001b[34mThere are 1 clusters with 54 cameras\u001b[0m\n",
      "\u001b[34mThere are 2 clusters with 57 cameras\u001b[0m\n",
      "\u001b[34mThere are 1 clusters with 58 cameras\u001b[0m\n",
      "\u001b[34mThere are 3 clusters with 59 cameras\u001b[0m\n",
      "\u001b[34mThere are 3 clusters with 60 cameras\u001b[0m\n",
      "\u001b[34mThere are 8 clusters with 61 cameras\u001b[0m\n",
      "\u001b[34mThere are 10 clusters with 62 cameras\u001b[0m\n",
      "\u001b[34mThere are 25 clusters with 63 cameras\u001b[0m\n",
      "\u001b[34mThere are 494 clusters with 64 cameras\u001b[0m\n",
      "\u001b[34mThere are 1 clusters with 92 cameras\u001b[0m\n",
      "\u001b[34mThere are 1 clusters with 97 cameras\u001b[0m\n",
      "\u001b[34mThere are 1 clusters with 120 cameras\u001b[0m\n",
      "\u001b[34mThere are 1 clusters with 121 cameras\u001b[0m\n",
      "\u001b[34mThere are 1 clusters with 122 cameras\u001b[0m\n",
      "\u001b[34mThere are 1 clusters with 124 cameras\u001b[0m\n",
      "\u001b[34mThere are 1 clusters with 125 cameras\u001b[0m\n",
      "\u001b[34mThere are 1 clusters with 126 cameras\u001b[0m\n",
      "\u001b[34mThere are 6 clusters with 127 cameras\u001b[0m\n",
      "\u001b[34mThere are 10 clusters with 128 cameras\u001b[0m\n",
      "Number of classes: 592\n",
      "\u001b[36mLearning Rate: 0.000280\u001b[0m\n",
      "encontrou modelos mobilenet. Carregando...\n",
      "encontrou modelos vgg16. Carregando...\n",
      "encontrou modelos resnet50. Carregando...\n",
      "encontrou modelos osnet. Carregando...\n",
      "encontrou modelos densenet121. Carregando...\n",
      "###============ Iteration number 17/90 ============###\n",
      "Extracting Online Features for mobilenet ...\n",
      "Features extracted in 159.09 seconds\n",
      "Computing jaccard distance...\n"
     ]
    },
    {
     "name": "stderr",
     "output_type": "stream",
     "text": [
      "bruteForceKnn is deprecated; call bfKnn instead\n"
     ]
    },
    {
     "name": "stdout",
     "output_type": "stream",
     "text": [
      "Jaccard distance computing time cost: 75.12097096443176\n",
      "Extracting Online Features for vgg16 ...\n",
      "Features extracted in 160.38 seconds\n",
      "Computing jaccard distance...\n"
     ]
    },
    {
     "name": "stderr",
     "output_type": "stream",
     "text": [
      "bruteForceKnn is deprecated; call bfKnn instead\n"
     ]
    },
    {
     "name": "stdout",
     "output_type": "stream",
     "text": [
      "Jaccard distance computing time cost: 76.24272298812866\n",
      "Extracting Online Features for resnet50 ...\n",
      "Features extracted in 153.78 seconds\n",
      "Computing jaccard distance...\n"
     ]
    },
    {
     "name": "stderr",
     "output_type": "stream",
     "text": [
      "bruteForceKnn is deprecated; call bfKnn instead\n"
     ]
    },
    {
     "name": "stdout",
     "output_type": "stream",
     "text": [
      "Jaccard distance computing time cost: 70.7067985534668\n",
      "Extracting Online Features for osnet ...\n",
      "Features extracted in 156.55 seconds\n",
      "Computing jaccard distance...\n"
     ]
    },
    {
     "name": "stderr",
     "output_type": "stream",
     "text": [
      "bruteForceKnn is deprecated; call bfKnn instead\n"
     ]
    },
    {
     "name": "stdout",
     "output_type": "stream",
     "text": [
      "Jaccard distance computing time cost: 80.88247871398926\n",
      "Extracting Online Features for densenet121 ...\n",
      "Features extracted in 157.61 seconds\n",
      "Computing jaccard distance...\n"
     ]
    },
    {
     "name": "stderr",
     "output_type": "stream",
     "text": [
      "bruteForceKnn is deprecated; call bfKnn instead\n"
     ]
    },
    {
     "name": "stdout",
     "output_type": "stream",
     "text": [
      "Jaccard distance computing time cost: 74.17550015449524\n",
      "Reliability: 0.997\n",
      "\u001b[32mMean Purity: 0.01845\u001b[0m\n",
      "\u001b[34mThere are 2 clusters with 4 cameras\u001b[0m\n",
      "\u001b[34mThere are 4 clusters with 5 cameras\u001b[0m\n",
      "\u001b[34mThere are 2 clusters with 7 cameras\u001b[0m\n",
      "\u001b[34mThere are 1 clusters with 9 cameras\u001b[0m\n",
      "\u001b[34mThere are 1 clusters with 11 cameras\u001b[0m\n",
      "\u001b[34mThere are 1 clusters with 12 cameras\u001b[0m\n",
      "\u001b[34mThere are 1 clusters with 16 cameras\u001b[0m\n",
      "\u001b[34mThere are 1 clusters with 19 cameras\u001b[0m\n",
      "\u001b[34mThere are 2 clusters with 29 cameras\u001b[0m\n",
      "\u001b[34mThere are 1 clusters with 32 cameras\u001b[0m\n",
      "\u001b[34mThere are 1 clusters with 34 cameras\u001b[0m\n",
      "\u001b[34mThere are 1 clusters with 45 cameras\u001b[0m\n",
      "\u001b[34mThere are 1 clusters with 47 cameras\u001b[0m\n",
      "\u001b[34mThere are 1 clusters with 52 cameras\u001b[0m\n",
      "\u001b[34mThere are 1 clusters with 53 cameras\u001b[0m\n",
      "\u001b[34mThere are 1 clusters with 54 cameras\u001b[0m\n",
      "\u001b[34mThere are 2 clusters with 57 cameras\u001b[0m\n",
      "\u001b[34mThere are 1 clusters with 58 cameras\u001b[0m\n",
      "\u001b[34mThere are 3 clusters with 59 cameras\u001b[0m\n",
      "\u001b[34mThere are 3 clusters with 60 cameras\u001b[0m\n",
      "\u001b[34mThere are 8 clusters with 61 cameras\u001b[0m\n",
      "\u001b[34mThere are 10 clusters with 62 cameras\u001b[0m\n",
      "\u001b[34mThere are 25 clusters with 63 cameras\u001b[0m\n",
      "\u001b[34mThere are 494 clusters with 64 cameras\u001b[0m\n",
      "\u001b[34mThere are 1 clusters with 92 cameras\u001b[0m\n",
      "\u001b[34mThere are 1 clusters with 97 cameras\u001b[0m\n",
      "\u001b[34mThere are 1 clusters with 120 cameras\u001b[0m\n",
      "\u001b[34mThere are 1 clusters with 121 cameras\u001b[0m\n",
      "\u001b[34mThere are 1 clusters with 122 cameras\u001b[0m\n",
      "\u001b[34mThere are 1 clusters with 124 cameras\u001b[0m\n",
      "\u001b[34mThere are 1 clusters with 125 cameras\u001b[0m\n",
      "\u001b[34mThere are 1 clusters with 126 cameras\u001b[0m\n",
      "\u001b[34mThere are 6 clusters with 127 cameras\u001b[0m\n",
      "\u001b[34mThere are 10 clusters with 128 cameras\u001b[0m\n",
      "Number of classes: 592\n",
      "\u001b[36mLearning Rate: 0.000298\u001b[0m\n",
      "encontrou modelos mobilenet. Carregando...\n",
      "encontrou modelos vgg16. Carregando...\n",
      "encontrou modelos resnet50. Carregando...\n",
      "encontrou modelos osnet. Carregando...\n",
      "encontrou modelos densenet121. Carregando...\n",
      "###============ Iteration number 18/90 ============###\n",
      "Extracting Online Features for mobilenet ...\n",
      "Features extracted in 156.37 seconds\n",
      "Computing jaccard distance...\n"
     ]
    },
    {
     "name": "stderr",
     "output_type": "stream",
     "text": [
      "bruteForceKnn is deprecated; call bfKnn instead\n"
     ]
    },
    {
     "name": "stdout",
     "output_type": "stream",
     "text": [
      "Jaccard distance computing time cost: 72.04232740402222\n",
      "Extracting Online Features for vgg16 ...\n",
      "Features extracted in 154.25 seconds\n",
      "Computing jaccard distance...\n"
     ]
    },
    {
     "name": "stderr",
     "output_type": "stream",
     "text": [
      "bruteForceKnn is deprecated; call bfKnn instead\n"
     ]
    },
    {
     "name": "stdout",
     "output_type": "stream",
     "text": [
      "Jaccard distance computing time cost: 78.03289365768433\n",
      "Extracting Online Features for resnet50 ...\n",
      "Features extracted in 153.00 seconds\n",
      "Computing jaccard distance...\n"
     ]
    },
    {
     "name": "stderr",
     "output_type": "stream",
     "text": [
      "bruteForceKnn is deprecated; call bfKnn instead\n"
     ]
    },
    {
     "name": "stdout",
     "output_type": "stream",
     "text": [
      "Jaccard distance computing time cost: 72.4814920425415\n",
      "Extracting Online Features for osnet ...\n",
      "Features extracted in 157.61 seconds\n",
      "Computing jaccard distance...\n"
     ]
    },
    {
     "name": "stderr",
     "output_type": "stream",
     "text": [
      "bruteForceKnn is deprecated; call bfKnn instead\n"
     ]
    },
    {
     "name": "stdout",
     "output_type": "stream",
     "text": [
      "Jaccard distance computing time cost: 71.5805332660675\n",
      "Extracting Online Features for densenet121 ...\n",
      "Features extracted in 155.08 seconds\n",
      "Computing jaccard distance...\n"
     ]
    },
    {
     "name": "stderr",
     "output_type": "stream",
     "text": [
      "bruteForceKnn is deprecated; call bfKnn instead\n"
     ]
    },
    {
     "name": "stdout",
     "output_type": "stream",
     "text": [
      "Jaccard distance computing time cost: 71.64973258972168\n",
      "Reliability: 0.997\n",
      "\u001b[32mMean Purity: 0.01845\u001b[0m\n",
      "\u001b[34mThere are 2 clusters with 4 cameras\u001b[0m\n",
      "\u001b[34mThere are 4 clusters with 5 cameras\u001b[0m\n",
      "\u001b[34mThere are 2 clusters with 7 cameras\u001b[0m\n",
      "\u001b[34mThere are 1 clusters with 9 cameras\u001b[0m\n",
      "\u001b[34mThere are 1 clusters with 11 cameras\u001b[0m\n",
      "\u001b[34mThere are 1 clusters with 12 cameras\u001b[0m\n",
      "\u001b[34mThere are 1 clusters with 16 cameras\u001b[0m\n",
      "\u001b[34mThere are 1 clusters with 19 cameras\u001b[0m\n",
      "\u001b[34mThere are 2 clusters with 29 cameras\u001b[0m\n",
      "\u001b[34mThere are 1 clusters with 32 cameras\u001b[0m\n",
      "\u001b[34mThere are 1 clusters with 34 cameras\u001b[0m\n",
      "\u001b[34mThere are 1 clusters with 45 cameras\u001b[0m\n",
      "\u001b[34mThere are 1 clusters with 47 cameras\u001b[0m\n",
      "\u001b[34mThere are 1 clusters with 52 cameras\u001b[0m\n",
      "\u001b[34mThere are 1 clusters with 53 cameras\u001b[0m\n",
      "\u001b[34mThere are 1 clusters with 54 cameras\u001b[0m\n",
      "\u001b[34mThere are 2 clusters with 57 cameras\u001b[0m\n",
      "\u001b[34mThere are 1 clusters with 58 cameras\u001b[0m\n",
      "\u001b[34mThere are 3 clusters with 59 cameras\u001b[0m\n",
      "\u001b[34mThere are 3 clusters with 60 cameras\u001b[0m\n",
      "\u001b[34mThere are 8 clusters with 61 cameras\u001b[0m\n",
      "\u001b[34mThere are 10 clusters with 62 cameras\u001b[0m\n",
      "\u001b[34mThere are 25 clusters with 63 cameras\u001b[0m\n",
      "\u001b[34mThere are 494 clusters with 64 cameras\u001b[0m\n",
      "\u001b[34mThere are 1 clusters with 92 cameras\u001b[0m\n",
      "\u001b[34mThere are 1 clusters with 97 cameras\u001b[0m\n",
      "\u001b[34mThere are 1 clusters with 120 cameras\u001b[0m\n",
      "\u001b[34mThere are 1 clusters with 121 cameras\u001b[0m\n",
      "\u001b[34mThere are 1 clusters with 122 cameras\u001b[0m\n",
      "\u001b[34mThere are 1 clusters with 124 cameras\u001b[0m\n",
      "\u001b[34mThere are 1 clusters with 125 cameras\u001b[0m\n",
      "\u001b[34mThere are 1 clusters with 126 cameras\u001b[0m\n",
      "\u001b[34mThere are 6 clusters with 127 cameras\u001b[0m\n",
      "\u001b[34mThere are 10 clusters with 128 cameras\u001b[0m\n",
      "Number of classes: 592\n",
      "\u001b[36mLearning Rate: 0.000315\u001b[0m\n",
      "encontrou modelos mobilenet. Carregando...\n",
      "encontrou modelos vgg16. Carregando...\n",
      "encontrou modelos resnet50. Carregando...\n",
      "encontrou modelos osnet. Carregando...\n",
      "encontrou modelos densenet121. Carregando...\n",
      "###============ Iteration number 19/90 ============###\n",
      "Extracting Online Features for mobilenet ...\n",
      "Features extracted in 158.62 seconds\n",
      "Computing jaccard distance...\n"
     ]
    },
    {
     "name": "stderr",
     "output_type": "stream",
     "text": [
      "bruteForceKnn is deprecated; call bfKnn instead\n"
     ]
    },
    {
     "name": "stdout",
     "output_type": "stream",
     "text": [
      "Jaccard distance computing time cost: 74.99449348449707\n",
      "Extracting Online Features for vgg16 ...\n",
      "Features extracted in 157.57 seconds\n",
      "Computing jaccard distance...\n"
     ]
    },
    {
     "name": "stderr",
     "output_type": "stream",
     "text": [
      "bruteForceKnn is deprecated; call bfKnn instead\n"
     ]
    },
    {
     "name": "stdout",
     "output_type": "stream",
     "text": [
      "Jaccard distance computing time cost: 76.17935705184937\n",
      "Extracting Online Features for resnet50 ...\n",
      "Features extracted in 156.98 seconds\n",
      "Computing jaccard distance...\n"
     ]
    },
    {
     "name": "stderr",
     "output_type": "stream",
     "text": [
      "bruteForceKnn is deprecated; call bfKnn instead\n"
     ]
    },
    {
     "name": "stdout",
     "output_type": "stream",
     "text": [
      "Jaccard distance computing time cost: 68.89215230941772\n",
      "Extracting Online Features for osnet ...\n",
      "Features extracted in 152.47 seconds\n",
      "Computing jaccard distance...\n"
     ]
    },
    {
     "name": "stderr",
     "output_type": "stream",
     "text": [
      "bruteForceKnn is deprecated; call bfKnn instead\n"
     ]
    },
    {
     "name": "stdout",
     "output_type": "stream",
     "text": [
      "Jaccard distance computing time cost: 78.27220964431763\n",
      "Extracting Online Features for densenet121 ...\n",
      "Features extracted in 156.97 seconds\n",
      "Computing jaccard distance...\n"
     ]
    },
    {
     "name": "stderr",
     "output_type": "stream",
     "text": [
      "bruteForceKnn is deprecated; call bfKnn instead\n"
     ]
    },
    {
     "name": "stdout",
     "output_type": "stream",
     "text": [
      "Jaccard distance computing time cost: 72.63635087013245\n",
      "Reliability: 0.997\n",
      "\u001b[32mMean Purity: 0.01845\u001b[0m\n",
      "\u001b[34mThere are 2 clusters with 4 cameras\u001b[0m\n",
      "\u001b[34mThere are 4 clusters with 5 cameras\u001b[0m\n",
      "\u001b[34mThere are 2 clusters with 7 cameras\u001b[0m\n",
      "\u001b[34mThere are 1 clusters with 9 cameras\u001b[0m\n",
      "\u001b[34mThere are 1 clusters with 11 cameras\u001b[0m\n",
      "\u001b[34mThere are 1 clusters with 12 cameras\u001b[0m\n",
      "\u001b[34mThere are 1 clusters with 16 cameras\u001b[0m\n",
      "\u001b[34mThere are 1 clusters with 19 cameras\u001b[0m\n",
      "\u001b[34mThere are 2 clusters with 29 cameras\u001b[0m\n",
      "\u001b[34mThere are 1 clusters with 32 cameras\u001b[0m\n",
      "\u001b[34mThere are 1 clusters with 34 cameras\u001b[0m\n",
      "\u001b[34mThere are 1 clusters with 45 cameras\u001b[0m\n",
      "\u001b[34mThere are 1 clusters with 47 cameras\u001b[0m\n",
      "\u001b[34mThere are 1 clusters with 52 cameras\u001b[0m\n",
      "\u001b[34mThere are 1 clusters with 53 cameras\u001b[0m\n",
      "\u001b[34mThere are 1 clusters with 54 cameras\u001b[0m\n",
      "\u001b[34mThere are 2 clusters with 57 cameras\u001b[0m\n",
      "\u001b[34mThere are 1 clusters with 58 cameras\u001b[0m\n",
      "\u001b[34mThere are 3 clusters with 59 cameras\u001b[0m\n",
      "\u001b[34mThere are 3 clusters with 60 cameras\u001b[0m\n",
      "\u001b[34mThere are 8 clusters with 61 cameras\u001b[0m\n",
      "\u001b[34mThere are 10 clusters with 62 cameras\u001b[0m\n",
      "\u001b[34mThere are 25 clusters with 63 cameras\u001b[0m\n",
      "\u001b[34mThere are 494 clusters with 64 cameras\u001b[0m\n",
      "\u001b[34mThere are 1 clusters with 92 cameras\u001b[0m\n",
      "\u001b[34mThere are 1 clusters with 97 cameras\u001b[0m\n",
      "\u001b[34mThere are 1 clusters with 120 cameras\u001b[0m\n",
      "\u001b[34mThere are 1 clusters with 121 cameras\u001b[0m\n",
      "\u001b[34mThere are 1 clusters with 122 cameras\u001b[0m\n",
      "\u001b[34mThere are 1 clusters with 124 cameras\u001b[0m\n",
      "\u001b[34mThere are 1 clusters with 125 cameras\u001b[0m\n",
      "\u001b[34mThere are 1 clusters with 126 cameras\u001b[0m\n",
      "\u001b[34mThere are 6 clusters with 127 cameras\u001b[0m\n",
      "\u001b[34mThere are 10 clusters with 128 cameras\u001b[0m\n",
      "Number of classes: 592\n",
      "\u001b[36mLearning Rate: 0.000333\u001b[0m\n",
      "encontrou modelos mobilenet. Carregando...\n",
      "encontrou modelos vgg16. Carregando...\n",
      "encontrou modelos resnet50. Carregando...\n",
      "encontrou modelos osnet. Carregando...\n",
      "encontrou modelos densenet121. Carregando...\n",
      "###============ Iteration number 20/90 ============###\n",
      "Extracting Online Features for mobilenet ...\n",
      "Features extracted in 153.88 seconds\n",
      "Computing jaccard distance...\n"
     ]
    },
    {
     "name": "stderr",
     "output_type": "stream",
     "text": [
      "bruteForceKnn is deprecated; call bfKnn instead\n"
     ]
    },
    {
     "name": "stdout",
     "output_type": "stream",
     "text": [
      "Jaccard distance computing time cost: 78.17988443374634\n",
      "Extracting Online Features for vgg16 ...\n",
      "Features extracted in 160.18 seconds\n",
      "Computing jaccard distance...\n"
     ]
    },
    {
     "name": "stderr",
     "output_type": "stream",
     "text": [
      "bruteForceKnn is deprecated; call bfKnn instead\n"
     ]
    },
    {
     "name": "stdout",
     "output_type": "stream",
     "text": [
      "Jaccard distance computing time cost: 86.7703025341034\n",
      "Extracting Online Features for resnet50 ...\n",
      "Features extracted in 154.42 seconds\n",
      "Computing jaccard distance...\n"
     ]
    },
    {
     "name": "stderr",
     "output_type": "stream",
     "text": [
      "bruteForceKnn is deprecated; call bfKnn instead\n"
     ]
    },
    {
     "name": "stdout",
     "output_type": "stream",
     "text": [
      "Jaccard distance computing time cost: 70.64440751075745\n",
      "Extracting Online Features for osnet ...\n",
      "Features extracted in 153.63 seconds\n",
      "Computing jaccard distance...\n"
     ]
    },
    {
     "name": "stderr",
     "output_type": "stream",
     "text": [
      "bruteForceKnn is deprecated; call bfKnn instead\n"
     ]
    },
    {
     "name": "stdout",
     "output_type": "stream",
     "text": [
      "Jaccard distance computing time cost: 70.53742289543152\n",
      "Extracting Online Features for densenet121 ...\n",
      "Features extracted in 160.23 seconds\n",
      "Computing jaccard distance...\n"
     ]
    },
    {
     "name": "stderr",
     "output_type": "stream",
     "text": [
      "bruteForceKnn is deprecated; call bfKnn instead\n"
     ]
    },
    {
     "name": "stdout",
     "output_type": "stream",
     "text": [
      "Jaccard distance computing time cost: 73.91308236122131\n",
      "Reliability: 0.997\n",
      "\u001b[32mMean Purity: 0.01845\u001b[0m\n",
      "\u001b[34mThere are 2 clusters with 4 cameras\u001b[0m\n",
      "\u001b[34mThere are 4 clusters with 5 cameras\u001b[0m\n",
      "\u001b[34mThere are 2 clusters with 7 cameras\u001b[0m\n",
      "\u001b[34mThere are 1 clusters with 9 cameras\u001b[0m\n",
      "\u001b[34mThere are 1 clusters with 11 cameras\u001b[0m\n",
      "\u001b[34mThere are 1 clusters with 12 cameras\u001b[0m\n",
      "\u001b[34mThere are 1 clusters with 16 cameras\u001b[0m\n",
      "\u001b[34mThere are 1 clusters with 19 cameras\u001b[0m\n",
      "\u001b[34mThere are 2 clusters with 29 cameras\u001b[0m\n",
      "\u001b[34mThere are 1 clusters with 32 cameras\u001b[0m\n",
      "\u001b[34mThere are 1 clusters with 34 cameras\u001b[0m\n",
      "\u001b[34mThere are 1 clusters with 45 cameras\u001b[0m\n",
      "\u001b[34mThere are 1 clusters with 47 cameras\u001b[0m\n",
      "\u001b[34mThere are 1 clusters with 52 cameras\u001b[0m\n",
      "\u001b[34mThere are 1 clusters with 53 cameras\u001b[0m\n",
      "\u001b[34mThere are 1 clusters with 54 cameras\u001b[0m\n",
      "\u001b[34mThere are 2 clusters with 57 cameras\u001b[0m\n",
      "\u001b[34mThere are 1 clusters with 58 cameras\u001b[0m\n",
      "\u001b[34mThere are 3 clusters with 59 cameras\u001b[0m\n",
      "\u001b[34mThere are 3 clusters with 60 cameras\u001b[0m\n",
      "\u001b[34mThere are 8 clusters with 61 cameras\u001b[0m\n",
      "\u001b[34mThere are 10 clusters with 62 cameras\u001b[0m\n",
      "\u001b[34mThere are 25 clusters with 63 cameras\u001b[0m\n",
      "\u001b[34mThere are 494 clusters with 64 cameras\u001b[0m\n",
      "\u001b[34mThere are 1 clusters with 92 cameras\u001b[0m\n",
      "\u001b[34mThere are 1 clusters with 97 cameras\u001b[0m\n",
      "\u001b[34mThere are 1 clusters with 120 cameras\u001b[0m\n",
      "\u001b[34mThere are 1 clusters with 121 cameras\u001b[0m\n",
      "\u001b[34mThere are 1 clusters with 122 cameras\u001b[0m\n",
      "\u001b[34mThere are 1 clusters with 124 cameras\u001b[0m\n",
      "\u001b[34mThere are 1 clusters with 125 cameras\u001b[0m\n",
      "\u001b[34mThere are 1 clusters with 126 cameras\u001b[0m\n",
      "\u001b[34mThere are 6 clusters with 127 cameras\u001b[0m\n",
      "\u001b[34mThere are 10 clusters with 128 cameras\u001b[0m\n",
      "Number of classes: 592\n",
      "\u001b[36mLearning Rate: 0.000350\u001b[0m\n",
      "encontrou modelos mobilenet. Carregando...\n",
      "encontrou modelos vgg16. Carregando...\n",
      "encontrou modelos resnet50. Carregando...\n",
      "encontrou modelos osnet. Carregando...\n",
      "encontrou modelos densenet121. Carregando...\n",
      "\u001b[33mValidating online mobilenet ...\u001b[0m\n",
      "Features extracted in 47.79 seconds\n",
      "Features extracted in 99.73 seconds\n",
      "Computing CMC and mAP ...\n",
      "** Results **\n",
      "mAP: 71.39%\n",
      "CMC curve\n",
      "Rank-1  : 81.53%\n",
      "Rank-5  : 95.41%\n",
      "Rank-10 : 98.02%\n",
      "Rank-20 : 99.18%\n",
      "\u001b[33mValidating momentum mobilenet ...\u001b[0m\n",
      "Features extracted in 47.56 seconds\n",
      "Features extracted in 99.97 seconds\n",
      "Computing CMC and mAP ...\n",
      "** Results **\n",
      "mAP: 70.86%\n",
      "CMC curve\n",
      "Rank-1  : 78.95%\n",
      "Rank-5  : 93.89%\n",
      "Rank-10 : 97.47%\n",
      "Rank-20 : 99.27%\n",
      "\u001b[33mValidating online vgg16 ...\u001b[0m\n",
      "Features extracted in 48.80 seconds\n",
      "Features extracted in 102.13 seconds\n",
      "Computing CMC and mAP ...\n",
      "** Results **\n",
      "mAP: 69.67%\n",
      "CMC curve\n",
      "Rank-1  : 74.49%\n",
      "Rank-5  : 92.27%\n",
      "Rank-10 : 96.56%\n",
      "Rank-20 : 99.05%\n",
      "\u001b[33mValidating momentum vgg16 ...\u001b[0m\n",
      "Features extracted in 49.07 seconds\n",
      "Features extracted in 102.77 seconds\n",
      "Computing CMC and mAP ...\n",
      "** Results **\n",
      "mAP: 69.72%\n",
      "CMC curve\n",
      "Rank-1  : 75.80%\n",
      "Rank-5  : 92.91%\n",
      "Rank-10 : 97.25%\n",
      "Rank-20 : 99.09%\n",
      "\u001b[33mValidating online resnet50 ...\u001b[0m\n",
      "Features extracted in 48.55 seconds\n",
      "Features extracted in 101.77 seconds\n",
      "Computing CMC and mAP ...\n",
      "** Results **\n",
      "mAP: 69.64%\n",
      "CMC curve\n",
      "Rank-1  : 70.07%\n",
      "Rank-5  : 91.28%\n",
      "Rank-10 : 96.04%\n",
      "Rank-20 : 98.68%\n",
      "\u001b[33mValidating momentum resnet50 ...\u001b[0m\n",
      "Features extracted in 48.78 seconds\n",
      "Features extracted in 103.22 seconds\n",
      "Computing CMC and mAP ...\n",
      "** Results **\n",
      "mAP: 70.02%\n",
      "CMC curve\n",
      "Rank-1  : 73.39%\n",
      "Rank-5  : 93.49%\n",
      "Rank-10 : 97.50%\n",
      "Rank-20 : 99.37%\n",
      "\u001b[33mValidating online osnet ...\u001b[0m\n",
      "Features extracted in 47.92 seconds\n",
      "Features extracted in 101.86 seconds\n",
      "Computing CMC and mAP ...\n",
      "** Results **\n",
      "mAP: 68.61%\n",
      "CMC curve\n",
      "Rank-1  : 73.02%\n",
      "Rank-5  : 95.04%\n",
      "Rank-10 : 98.36%\n",
      "Rank-20 : 99.48%\n",
      "\u001b[33mValidating momentum osnet ...\u001b[0m\n",
      "Features extracted in 49.45 seconds\n",
      "Features extracted in 101.84 seconds\n",
      "Computing CMC and mAP ...\n",
      "** Results **\n",
      "mAP: 69.41%\n",
      "CMC curve\n",
      "Rank-1  : 73.33%\n",
      "Rank-5  : 93.06%\n",
      "Rank-10 : 97.14%\n",
      "Rank-20 : 99.12%\n",
      "\u001b[33mValidating online densenet121 ...\u001b[0m\n",
      "Features extracted in 49.04 seconds\n",
      "Features extracted in 102.15 seconds\n",
      "Computing CMC and mAP ...\n",
      "** Results **\n",
      "mAP: 70.12%\n",
      "CMC curve\n",
      "Rank-1  : 75.15%\n",
      "Rank-5  : 92.89%\n",
      "Rank-10 : 97.00%\n",
      "Rank-20 : 98.95%\n",
      "\u001b[33mValidating momentum densenet121 ...\u001b[0m\n",
      "Features extracted in 49.48 seconds\n",
      "Features extracted in 101.75 seconds\n",
      "Computing CMC and mAP ...\n",
      "** Results **\n",
      "mAP: 69.53%\n",
      "CMC curve\n",
      "Rank-1  : 75.91%\n",
      "Rank-5  : 93.33%\n",
      "Rank-10 : 97.31%\n",
      "Rank-20 : 99.25%\n",
      "\u001b[33mValidating ensembled with online models ...\u001b[0m\n",
      "Computing CMC and mAP ...\n",
      "** Results **\n",
      "mAP: 70.82%\n",
      "Ranks:\n",
      "Rank-1  : 78.15%\n",
      "Rank-5  : 92.64%\n",
      "Rank-10 : 96.59%\n",
      "\u001b[33mValidating ensembled with momentum models ...\u001b[0m\n",
      "Computing CMC and mAP ...\n",
      "** Results **\n",
      "mAP: 70.51%\n",
      "Ranks:\n",
      "Rank-1  : 78.02%\n",
      "Rank-5  : 92.58%\n",
      "Rank-10 : 96.55%\n",
      "###============ Iteration number 21/90 ============###\n",
      "Extracting Online Features for mobilenet ...\n",
      "Features extracted in 157.63 seconds\n",
      "Computing jaccard distance...\n"
     ]
    },
    {
     "name": "stderr",
     "output_type": "stream",
     "text": [
      "bruteForceKnn is deprecated; call bfKnn instead\n"
     ]
    },
    {
     "name": "stdout",
     "output_type": "stream",
     "text": [
      "Jaccard distance computing time cost: 71.42840099334717\n",
      "Extracting Online Features for vgg16 ...\n",
      "Features extracted in 158.48 seconds\n",
      "Computing jaccard distance...\n"
     ]
    },
    {
     "name": "stderr",
     "output_type": "stream",
     "text": [
      "bruteForceKnn is deprecated; call bfKnn instead\n"
     ]
    },
    {
     "name": "stdout",
     "output_type": "stream",
     "text": [
      "Jaccard distance computing time cost: 73.06520819664001\n",
      "Extracting Online Features for resnet50 ...\n",
      "Features extracted in 157.71 seconds\n",
      "Computing jaccard distance...\n"
     ]
    },
    {
     "name": "stderr",
     "output_type": "stream",
     "text": [
      "bruteForceKnn is deprecated; call bfKnn instead\n"
     ]
    },
    {
     "name": "stdout",
     "output_type": "stream",
     "text": [
      "Jaccard distance computing time cost: 69.44183588027954\n",
      "Extracting Online Features for osnet ...\n",
      "Features extracted in 158.75 seconds\n",
      "Computing jaccard distance...\n"
     ]
    },
    {
     "name": "stderr",
     "output_type": "stream",
     "text": [
      "bruteForceKnn is deprecated; call bfKnn instead\n"
     ]
    },
    {
     "name": "stdout",
     "output_type": "stream",
     "text": [
      "Jaccard distance computing time cost: 75.64726042747498\n",
      "Extracting Online Features for densenet121 ...\n",
      "Features extracted in 157.67 seconds\n",
      "Computing jaccard distance...\n"
     ]
    },
    {
     "name": "stderr",
     "output_type": "stream",
     "text": [
      "bruteForceKnn is deprecated; call bfKnn instead\n"
     ]
    },
    {
     "name": "stdout",
     "output_type": "stream",
     "text": [
      "Jaccard distance computing time cost: 82.18150806427002\n",
      "Reliability: 0.997\n",
      "\u001b[32mMean Purity: 0.01845\u001b[0m\n",
      "\u001b[34mThere are 2 clusters with 4 cameras\u001b[0m\n",
      "\u001b[34mThere are 4 clusters with 5 cameras\u001b[0m\n",
      "\u001b[34mThere are 2 clusters with 7 cameras\u001b[0m\n",
      "\u001b[34mThere are 1 clusters with 9 cameras\u001b[0m\n",
      "\u001b[34mThere are 1 clusters with 11 cameras\u001b[0m\n",
      "\u001b[34mThere are 1 clusters with 12 cameras\u001b[0m\n",
      "\u001b[34mThere are 1 clusters with 16 cameras\u001b[0m\n",
      "\u001b[34mThere are 1 clusters with 19 cameras\u001b[0m\n",
      "\u001b[34mThere are 2 clusters with 29 cameras\u001b[0m\n",
      "\u001b[34mThere are 1 clusters with 32 cameras\u001b[0m\n",
      "\u001b[34mThere are 1 clusters with 34 cameras\u001b[0m\n",
      "\u001b[34mThere are 1 clusters with 45 cameras\u001b[0m\n",
      "\u001b[34mThere are 1 clusters with 47 cameras\u001b[0m\n",
      "\u001b[34mThere are 1 clusters with 52 cameras\u001b[0m\n",
      "\u001b[34mThere are 1 clusters with 53 cameras\u001b[0m\n",
      "\u001b[34mThere are 1 clusters with 54 cameras\u001b[0m\n",
      "\u001b[34mThere are 2 clusters with 57 cameras\u001b[0m\n",
      "\u001b[34mThere are 1 clusters with 58 cameras\u001b[0m\n",
      "\u001b[34mThere are 3 clusters with 59 cameras\u001b[0m\n",
      "\u001b[34mThere are 3 clusters with 60 cameras\u001b[0m\n",
      "\u001b[34mThere are 8 clusters with 61 cameras\u001b[0m\n",
      "\u001b[34mThere are 10 clusters with 62 cameras\u001b[0m\n",
      "\u001b[34mThere are 25 clusters with 63 cameras\u001b[0m\n",
      "\u001b[34mThere are 494 clusters with 64 cameras\u001b[0m\n",
      "\u001b[34mThere are 1 clusters with 92 cameras\u001b[0m\n",
      "\u001b[34mThere are 1 clusters with 97 cameras\u001b[0m\n",
      "\u001b[34mThere are 1 clusters with 120 cameras\u001b[0m\n",
      "\u001b[34mThere are 1 clusters with 121 cameras\u001b[0m\n",
      "\u001b[34mThere are 1 clusters with 122 cameras\u001b[0m\n",
      "\u001b[34mThere are 1 clusters with 124 cameras\u001b[0m\n",
      "\u001b[34mThere are 1 clusters with 125 cameras\u001b[0m\n",
      "\u001b[34mThere are 1 clusters with 126 cameras\u001b[0m\n",
      "\u001b[34mThere are 6 clusters with 127 cameras\u001b[0m\n",
      "\u001b[34mThere are 10 clusters with 128 cameras\u001b[0m\n",
      "Number of classes: 592\n",
      "\u001b[36mLearning Rate: 0.000350\u001b[0m\n",
      "encontrou modelos mobilenet. Carregando...\n",
      "encontrou modelos vgg16. Carregando...\n",
      "encontrou modelos resnet50. Carregando...\n",
      "encontrou modelos osnet. Carregando...\n",
      "encontrou modelos densenet121. Carregando...\n",
      "###============ Iteration number 22/90 ============###\n",
      "Extracting Online Features for mobilenet ...\n",
      "Features extracted in 156.57 seconds\n",
      "Computing jaccard distance...\n"
     ]
    },
    {
     "name": "stderr",
     "output_type": "stream",
     "text": [
      "bruteForceKnn is deprecated; call bfKnn instead\n"
     ]
    },
    {
     "name": "stdout",
     "output_type": "stream",
     "text": [
      "Jaccard distance computing time cost: 72.87668371200562\n",
      "Extracting Online Features for vgg16 ...\n",
      "Features extracted in 159.25 seconds\n",
      "Computing jaccard distance...\n"
     ]
    },
    {
     "name": "stderr",
     "output_type": "stream",
     "text": [
      "bruteForceKnn is deprecated; call bfKnn instead\n"
     ]
    },
    {
     "name": "stdout",
     "output_type": "stream",
     "text": [
      "Jaccard distance computing time cost: 70.50625467300415\n",
      "Extracting Online Features for resnet50 ...\n",
      "Features extracted in 154.66 seconds\n",
      "Computing jaccard distance...\n"
     ]
    },
    {
     "name": "stderr",
     "output_type": "stream",
     "text": [
      "bruteForceKnn is deprecated; call bfKnn instead\n"
     ]
    },
    {
     "name": "stdout",
     "output_type": "stream",
     "text": [
      "Jaccard distance computing time cost: 74.15636324882507\n",
      "Extracting Online Features for osnet ...\n",
      "Features extracted in 152.82 seconds\n",
      "Computing jaccard distance...\n"
     ]
    },
    {
     "name": "stderr",
     "output_type": "stream",
     "text": [
      "bruteForceKnn is deprecated; call bfKnn instead\n"
     ]
    },
    {
     "name": "stdout",
     "output_type": "stream",
     "text": [
      "Jaccard distance computing time cost: 79.23912191390991\n",
      "Extracting Online Features for densenet121 ...\n",
      "Features extracted in 156.35 seconds\n",
      "Computing jaccard distance...\n"
     ]
    },
    {
     "name": "stderr",
     "output_type": "stream",
     "text": [
      "bruteForceKnn is deprecated; call bfKnn instead\n"
     ]
    },
    {
     "name": "stdout",
     "output_type": "stream",
     "text": [
      "Jaccard distance computing time cost: 75.21709060668945\n",
      "Reliability: 0.997\n",
      "\u001b[32mMean Purity: 0.01845\u001b[0m\n",
      "\u001b[34mThere are 2 clusters with 4 cameras\u001b[0m\n",
      "\u001b[34mThere are 4 clusters with 5 cameras\u001b[0m\n",
      "\u001b[34mThere are 2 clusters with 7 cameras\u001b[0m\n",
      "\u001b[34mThere are 1 clusters with 9 cameras\u001b[0m\n",
      "\u001b[34mThere are 1 clusters with 11 cameras\u001b[0m\n",
      "\u001b[34mThere are 1 clusters with 12 cameras\u001b[0m\n",
      "\u001b[34mThere are 1 clusters with 16 cameras\u001b[0m\n",
      "\u001b[34mThere are 1 clusters with 19 cameras\u001b[0m\n",
      "\u001b[34mThere are 2 clusters with 29 cameras\u001b[0m\n",
      "\u001b[34mThere are 1 clusters with 32 cameras\u001b[0m\n",
      "\u001b[34mThere are 1 clusters with 34 cameras\u001b[0m\n",
      "\u001b[34mThere are 1 clusters with 45 cameras\u001b[0m\n",
      "\u001b[34mThere are 1 clusters with 47 cameras\u001b[0m\n",
      "\u001b[34mThere are 1 clusters with 52 cameras\u001b[0m\n",
      "\u001b[34mThere are 1 clusters with 53 cameras\u001b[0m\n",
      "\u001b[34mThere are 1 clusters with 54 cameras\u001b[0m\n",
      "\u001b[34mThere are 2 clusters with 57 cameras\u001b[0m\n",
      "\u001b[34mThere are 1 clusters with 58 cameras\u001b[0m\n",
      "\u001b[34mThere are 3 clusters with 59 cameras\u001b[0m\n",
      "\u001b[34mThere are 3 clusters with 60 cameras\u001b[0m\n",
      "\u001b[34mThere are 8 clusters with 61 cameras\u001b[0m\n",
      "\u001b[34mThere are 10 clusters with 62 cameras\u001b[0m\n",
      "\u001b[34mThere are 25 clusters with 63 cameras\u001b[0m\n",
      "\u001b[34mThere are 494 clusters with 64 cameras\u001b[0m\n",
      "\u001b[34mThere are 1 clusters with 92 cameras\u001b[0m\n",
      "\u001b[34mThere are 1 clusters with 97 cameras\u001b[0m\n",
      "\u001b[34mThere are 1 clusters with 120 cameras\u001b[0m\n",
      "\u001b[34mThere are 1 clusters with 121 cameras\u001b[0m\n",
      "\u001b[34mThere are 1 clusters with 122 cameras\u001b[0m\n",
      "\u001b[34mThere are 1 clusters with 124 cameras\u001b[0m\n",
      "\u001b[34mThere are 1 clusters with 125 cameras\u001b[0m\n",
      "\u001b[34mThere are 1 clusters with 126 cameras\u001b[0m\n",
      "\u001b[34mThere are 6 clusters with 127 cameras\u001b[0m\n",
      "\u001b[34mThere are 10 clusters with 128 cameras\u001b[0m\n",
      "Number of classes: 592\n",
      "\u001b[36mLearning Rate: 0.000350\u001b[0m\n",
      "encontrou modelos mobilenet. Carregando...\n",
      "encontrou modelos vgg16. Carregando...\n",
      "encontrou modelos resnet50. Carregando...\n",
      "encontrou modelos osnet. Carregando...\n",
      "encontrou modelos densenet121. Carregando...\n",
      "###============ Iteration number 23/90 ============###\n",
      "Extracting Online Features for mobilenet ...\n",
      "Features extracted in 154.09 seconds\n",
      "Computing jaccard distance...\n"
     ]
    },
    {
     "name": "stderr",
     "output_type": "stream",
     "text": [
      "bruteForceKnn is deprecated; call bfKnn instead\n"
     ]
    },
    {
     "name": "stdout",
     "output_type": "stream",
     "text": [
      "Jaccard distance computing time cost: 73.2924132347107\n",
      "Extracting Online Features for vgg16 ...\n",
      "Features extracted in 156.73 seconds\n",
      "Computing jaccard distance...\n"
     ]
    },
    {
     "name": "stderr",
     "output_type": "stream",
     "text": [
      "bruteForceKnn is deprecated; call bfKnn instead\n"
     ]
    },
    {
     "name": "stdout",
     "output_type": "stream",
     "text": [
      "Jaccard distance computing time cost: 71.78625845909119\n",
      "Extracting Online Features for resnet50 ...\n",
      "Features extracted in 156.63 seconds\n",
      "Computing jaccard distance...\n"
     ]
    },
    {
     "name": "stderr",
     "output_type": "stream",
     "text": [
      "bruteForceKnn is deprecated; call bfKnn instead\n"
     ]
    },
    {
     "name": "stdout",
     "output_type": "stream",
     "text": [
      "Jaccard distance computing time cost: 74.86045813560486\n",
      "Extracting Online Features for osnet ...\n",
      "Features extracted in 154.38 seconds\n",
      "Computing jaccard distance...\n"
     ]
    },
    {
     "name": "stderr",
     "output_type": "stream",
     "text": [
      "bruteForceKnn is deprecated; call bfKnn instead\n"
     ]
    },
    {
     "name": "stdout",
     "output_type": "stream",
     "text": [
      "Jaccard distance computing time cost: 68.44180274009705\n",
      "Extracting Online Features for densenet121 ...\n",
      "Features extracted in 153.82 seconds\n",
      "Computing jaccard distance...\n"
     ]
    },
    {
     "name": "stderr",
     "output_type": "stream",
     "text": [
      "bruteForceKnn is deprecated; call bfKnn instead\n"
     ]
    },
    {
     "name": "stdout",
     "output_type": "stream",
     "text": [
      "Jaccard distance computing time cost: 79.25475001335144\n",
      "Reliability: 0.997\n",
      "\u001b[32mMean Purity: 0.01845\u001b[0m\n",
      "\u001b[34mThere are 2 clusters with 4 cameras\u001b[0m\n",
      "\u001b[34mThere are 4 clusters with 5 cameras\u001b[0m\n",
      "\u001b[34mThere are 2 clusters with 7 cameras\u001b[0m\n",
      "\u001b[34mThere are 1 clusters with 9 cameras\u001b[0m\n",
      "\u001b[34mThere are 1 clusters with 11 cameras\u001b[0m\n",
      "\u001b[34mThere are 1 clusters with 12 cameras\u001b[0m\n",
      "\u001b[34mThere are 1 clusters with 16 cameras\u001b[0m\n",
      "\u001b[34mThere are 1 clusters with 19 cameras\u001b[0m\n",
      "\u001b[34mThere are 2 clusters with 29 cameras\u001b[0m\n",
      "\u001b[34mThere are 1 clusters with 32 cameras\u001b[0m\n",
      "\u001b[34mThere are 1 clusters with 34 cameras\u001b[0m\n",
      "\u001b[34mThere are 1 clusters with 45 cameras\u001b[0m\n",
      "\u001b[34mThere are 1 clusters with 47 cameras\u001b[0m\n",
      "\u001b[34mThere are 1 clusters with 52 cameras\u001b[0m\n",
      "\u001b[34mThere are 1 clusters with 53 cameras\u001b[0m\n",
      "\u001b[34mThere are 1 clusters with 54 cameras\u001b[0m\n",
      "\u001b[34mThere are 2 clusters with 57 cameras\u001b[0m\n",
      "\u001b[34mThere are 1 clusters with 58 cameras\u001b[0m\n",
      "\u001b[34mThere are 3 clusters with 59 cameras\u001b[0m\n",
      "\u001b[34mThere are 3 clusters with 60 cameras\u001b[0m\n",
      "\u001b[34mThere are 8 clusters with 61 cameras\u001b[0m\n",
      "\u001b[34mThere are 10 clusters with 62 cameras\u001b[0m\n",
      "\u001b[34mThere are 25 clusters with 63 cameras\u001b[0m\n",
      "\u001b[34mThere are 494 clusters with 64 cameras\u001b[0m\n",
      "\u001b[34mThere are 1 clusters with 92 cameras\u001b[0m\n",
      "\u001b[34mThere are 1 clusters with 97 cameras\u001b[0m\n",
      "\u001b[34mThere are 1 clusters with 120 cameras\u001b[0m\n",
      "\u001b[34mThere are 1 clusters with 121 cameras\u001b[0m\n",
      "\u001b[34mThere are 1 clusters with 122 cameras\u001b[0m\n",
      "\u001b[34mThere are 1 clusters with 125 cameras\u001b[0m\n",
      "\u001b[34mThere are 1 clusters with 124 cameras\u001b[0m\n",
      "\u001b[34mThere are 1 clusters with 126 cameras\u001b[0m\n",
      "\u001b[34mThere are 6 clusters with 127 cameras\u001b[0m\n",
      "\u001b[34mThere are 10 clusters with 128 cameras\u001b[0m\n",
      "Number of classes: 592\n",
      "\u001b[36mLearning Rate: 0.000350\u001b[0m\n",
      "encontrou modelos mobilenet. Carregando...\n",
      "encontrou modelos vgg16. Carregando...\n",
      "encontrou modelos resnet50. Carregando...\n",
      "encontrou modelos osnet. Carregando...\n",
      "encontrou modelos densenet121. Carregando...\n",
      "###============ Iteration number 24/90 ============###\n",
      "Extracting Online Features for mobilenet ...\n",
      "Features extracted in 154.12 seconds\n",
      "Computing jaccard distance...\n"
     ]
    },
    {
     "name": "stderr",
     "output_type": "stream",
     "text": [
      "bruteForceKnn is deprecated; call bfKnn instead\n"
     ]
    },
    {
     "name": "stdout",
     "output_type": "stream",
     "text": [
      "Jaccard distance computing time cost: 73.94909930229187\n",
      "Extracting Online Features for vgg16 ...\n",
      "Features extracted in 154.81 seconds\n",
      "Computing jaccard distance...\n"
     ]
    },
    {
     "name": "stderr",
     "output_type": "stream",
     "text": [
      "bruteForceKnn is deprecated; call bfKnn instead\n"
     ]
    },
    {
     "name": "stdout",
     "output_type": "stream",
     "text": [
      "Jaccard distance computing time cost: 70.33285021781921\n",
      "Extracting Online Features for resnet50 ...\n",
      "Features extracted in 158.15 seconds\n",
      "Computing jaccard distance...\n"
     ]
    },
    {
     "name": "stderr",
     "output_type": "stream",
     "text": [
      "bruteForceKnn is deprecated; call bfKnn instead\n"
     ]
    },
    {
     "name": "stdout",
     "output_type": "stream",
     "text": [
      "Jaccard distance computing time cost: 82.32838773727417\n",
      "Extracting Online Features for osnet ...\n",
      "Features extracted in 157.48 seconds\n",
      "Computing jaccard distance...\n"
     ]
    },
    {
     "name": "stderr",
     "output_type": "stream",
     "text": [
      "bruteForceKnn is deprecated; call bfKnn instead\n"
     ]
    },
    {
     "name": "stdout",
     "output_type": "stream",
     "text": [
      "Jaccard distance computing time cost: 70.95826840400696\n",
      "Extracting Online Features for densenet121 ...\n",
      "Features extracted in 155.53 seconds\n",
      "Computing jaccard distance...\n"
     ]
    },
    {
     "name": "stderr",
     "output_type": "stream",
     "text": [
      "bruteForceKnn is deprecated; call bfKnn instead\n"
     ]
    },
    {
     "name": "stdout",
     "output_type": "stream",
     "text": [
      "Jaccard distance computing time cost: 73.94643974304199\n",
      "Reliability: 0.997\n",
      "\u001b[32mMean Purity: 0.01845\u001b[0m\n",
      "\u001b[34mThere are 2 clusters with 4 cameras\u001b[0m\n",
      "\u001b[34mThere are 4 clusters with 5 cameras\u001b[0m\n",
      "\u001b[34mThere are 2 clusters with 7 cameras\u001b[0m\n",
      "\u001b[34mThere are 1 clusters with 9 cameras\u001b[0m\n",
      "\u001b[34mThere are 1 clusters with 11 cameras\u001b[0m\n",
      "\u001b[34mThere are 1 clusters with 12 cameras\u001b[0m\n",
      "\u001b[34mThere are 1 clusters with 16 cameras\u001b[0m\n",
      "\u001b[34mThere are 1 clusters with 19 cameras\u001b[0m\n",
      "\u001b[34mThere are 2 clusters with 29 cameras\u001b[0m\n",
      "\u001b[34mThere are 1 clusters with 32 cameras\u001b[0m\n",
      "\u001b[34mThere are 1 clusters with 34 cameras\u001b[0m\n",
      "\u001b[34mThere are 1 clusters with 45 cameras\u001b[0m\n",
      "\u001b[34mThere are 1 clusters with 47 cameras\u001b[0m\n",
      "\u001b[34mThere are 1 clusters with 52 cameras\u001b[0m\n",
      "\u001b[34mThere are 1 clusters with 53 cameras\u001b[0m\n",
      "\u001b[34mThere are 1 clusters with 54 cameras\u001b[0m\n",
      "\u001b[34mThere are 2 clusters with 57 cameras\u001b[0m\n",
      "\u001b[34mThere are 1 clusters with 58 cameras\u001b[0m\n",
      "\u001b[34mThere are 3 clusters with 59 cameras\u001b[0m\n",
      "\u001b[34mThere are 3 clusters with 60 cameras\u001b[0m\n",
      "\u001b[34mThere are 8 clusters with 61 cameras\u001b[0m\n",
      "\u001b[34mThere are 10 clusters with 62 cameras\u001b[0m\n",
      "\u001b[34mThere are 25 clusters with 63 cameras\u001b[0m\n",
      "\u001b[34mThere are 494 clusters with 64 cameras\u001b[0m\n",
      "\u001b[34mThere are 1 clusters with 92 cameras\u001b[0m\n",
      "\u001b[34mThere are 1 clusters with 97 cameras\u001b[0m\n",
      "\u001b[34mThere are 1 clusters with 120 cameras\u001b[0m\n",
      "\u001b[34mThere are 1 clusters with 121 cameras\u001b[0m\n",
      "\u001b[34mThere are 1 clusters with 122 cameras\u001b[0m\n",
      "\u001b[34mThere are 1 clusters with 124 cameras\u001b[0m\n",
      "\u001b[34mThere are 1 clusters with 125 cameras\u001b[0m\n",
      "\u001b[34mThere are 1 clusters with 126 cameras\u001b[0m\n",
      "\u001b[34mThere are 6 clusters with 127 cameras\u001b[0m\n",
      "\u001b[34mThere are 10 clusters with 128 cameras\u001b[0m\n",
      "Number of classes: 592\n",
      "\u001b[36mLearning Rate: 0.000350\u001b[0m\n",
      "encontrou modelos mobilenet. Carregando...\n",
      "encontrou modelos vgg16. Carregando...\n",
      "encontrou modelos resnet50. Carregando...\n",
      "encontrou modelos osnet. Carregando...\n",
      "encontrou modelos densenet121. Carregando...\n",
      "###============ Iteration number 25/90 ============###\n",
      "Extracting Online Features for mobilenet ...\n",
      "Features extracted in 157.26 seconds\n",
      "Computing jaccard distance...\n"
     ]
    },
    {
     "name": "stderr",
     "output_type": "stream",
     "text": [
      "bruteForceKnn is deprecated; call bfKnn instead\n"
     ]
    },
    {
     "name": "stdout",
     "output_type": "stream",
     "text": [
      "Jaccard distance computing time cost: 78.42556405067444\n",
      "Extracting Online Features for vgg16 ...\n",
      "Features extracted in 158.15 seconds\n",
      "Computing jaccard distance...\n"
     ]
    },
    {
     "name": "stderr",
     "output_type": "stream",
     "text": [
      "bruteForceKnn is deprecated; call bfKnn instead\n"
     ]
    },
    {
     "name": "stdout",
     "output_type": "stream",
     "text": [
      "Jaccard distance computing time cost: 79.72412729263306\n",
      "Extracting Online Features for resnet50 ...\n",
      "Features extracted in 155.17 seconds\n",
      "Computing jaccard distance...\n"
     ]
    },
    {
     "name": "stderr",
     "output_type": "stream",
     "text": [
      "bruteForceKnn is deprecated; call bfKnn instead\n"
     ]
    },
    {
     "name": "stdout",
     "output_type": "stream",
     "text": [
      "Jaccard distance computing time cost: 81.94008159637451\n",
      "Extracting Online Features for osnet ...\n",
      "Features extracted in 155.56 seconds\n",
      "Computing jaccard distance...\n"
     ]
    },
    {
     "name": "stderr",
     "output_type": "stream",
     "text": [
      "bruteForceKnn is deprecated; call bfKnn instead\n"
     ]
    },
    {
     "name": "stdout",
     "output_type": "stream",
     "text": [
      "Jaccard distance computing time cost: 81.21106719970703\n",
      "Extracting Online Features for densenet121 ...\n",
      "Features extracted in 160.82 seconds\n",
      "Computing jaccard distance...\n"
     ]
    },
    {
     "name": "stderr",
     "output_type": "stream",
     "text": [
      "bruteForceKnn is deprecated; call bfKnn instead\n"
     ]
    },
    {
     "name": "stdout",
     "output_type": "stream",
     "text": [
      "Jaccard distance computing time cost: 73.46830701828003\n",
      "Reliability: 0.997\n",
      "\u001b[32mMean Purity: 0.01845\u001b[0m\n",
      "\u001b[34mThere are 2 clusters with 4 cameras\u001b[0m\n",
      "\u001b[34mThere are 4 clusters with 5 cameras\u001b[0m\n",
      "\u001b[34mThere are 2 clusters with 7 cameras\u001b[0m\n",
      "\u001b[34mThere are 1 clusters with 9 cameras\u001b[0m\n",
      "\u001b[34mThere are 1 clusters with 11 cameras\u001b[0m\n",
      "\u001b[34mThere are 1 clusters with 12 cameras\u001b[0m\n",
      "\u001b[34mThere are 1 clusters with 16 cameras\u001b[0m\n",
      "\u001b[34mThere are 1 clusters with 19 cameras\u001b[0m\n",
      "\u001b[34mThere are 2 clusters with 29 cameras\u001b[0m\n",
      "\u001b[34mThere are 1 clusters with 32 cameras\u001b[0m\n",
      "\u001b[34mThere are 1 clusters with 34 cameras\u001b[0m\n",
      "\u001b[34mThere are 1 clusters with 45 cameras\u001b[0m\n",
      "\u001b[34mThere are 1 clusters with 47 cameras\u001b[0m\n",
      "\u001b[34mThere are 1 clusters with 52 cameras\u001b[0m\n",
      "\u001b[34mThere are 1 clusters with 53 cameras\u001b[0m\n",
      "\u001b[34mThere are 1 clusters with 54 cameras\u001b[0m\n",
      "\u001b[34mThere are 2 clusters with 57 cameras\u001b[0m\n",
      "\u001b[34mThere are 1 clusters with 58 cameras\u001b[0m\n",
      "\u001b[34mThere are 3 clusters with 59 cameras\u001b[0m\n",
      "\u001b[34mThere are 3 clusters with 60 cameras\u001b[0m\n",
      "\u001b[34mThere are 8 clusters with 61 cameras\u001b[0m\n",
      "\u001b[34mThere are 10 clusters with 62 cameras\u001b[0m\n",
      "\u001b[34mThere are 25 clusters with 63 cameras\u001b[0m\n",
      "\u001b[34mThere are 494 clusters with 64 cameras\u001b[0m\n",
      "\u001b[34mThere are 1 clusters with 92 cameras\u001b[0m\n",
      "\u001b[34mThere are 1 clusters with 97 cameras\u001b[0m\n",
      "\u001b[34mThere are 1 clusters with 120 cameras\u001b[0m\n",
      "\u001b[34mThere are 1 clusters with 121 cameras\u001b[0m\n",
      "\u001b[34mThere are 1 clusters with 122 cameras\u001b[0m\n",
      "\u001b[34mThere are 1 clusters with 124 cameras\u001b[0m\n",
      "\u001b[34mThere are 1 clusters with 125 cameras\u001b[0m\n",
      "\u001b[34mThere are 1 clusters with 126 cameras\u001b[0m\n",
      "\u001b[34mThere are 6 clusters with 127 cameras\u001b[0m\n",
      "\u001b[34mThere are 10 clusters with 128 cameras\u001b[0m\n",
      "Number of classes: 592\n",
      "\u001b[36mLearning Rate: 0.000350\u001b[0m\n",
      "encontrou modelos mobilenet. Carregando...\n",
      "encontrou modelos vgg16. Carregando...\n",
      "encontrou modelos resnet50. Carregando...\n",
      "encontrou modelos osnet. Carregando...\n",
      "encontrou modelos densenet121. Carregando...\n",
      "\u001b[33mValidating online mobilenet ...\u001b[0m\n",
      "Features extracted in 48.59 seconds\n",
      "Features extracted in 100.81 seconds\n",
      "Computing CMC and mAP ...\n",
      "** Results **\n",
      "mAP: 71.39%\n",
      "CMC curve\n",
      "Rank-1  : 81.53%\n",
      "Rank-5  : 95.41%\n",
      "Rank-10 : 98.02%\n",
      "Rank-20 : 99.18%\n",
      "\u001b[33mValidating momentum mobilenet ...\u001b[0m\n",
      "Features extracted in 48.99 seconds\n",
      "Features extracted in 100.65 seconds\n",
      "Computing CMC and mAP ...\n",
      "** Results **\n",
      "mAP: 70.86%\n",
      "CMC curve\n",
      "Rank-1  : 78.95%\n",
      "Rank-5  : 93.89%\n",
      "Rank-10 : 97.47%\n",
      "Rank-20 : 99.27%\n",
      "\u001b[33mValidating online vgg16 ...\u001b[0m\n",
      "Features extracted in 49.05 seconds\n",
      "Features extracted in 102.33 seconds\n",
      "Computing CMC and mAP ...\n",
      "** Results **\n",
      "mAP: 69.67%\n",
      "CMC curve\n",
      "Rank-1  : 74.49%\n",
      "Rank-5  : 92.27%\n",
      "Rank-10 : 96.56%\n",
      "Rank-20 : 99.05%\n",
      "\u001b[33mValidating momentum vgg16 ...\u001b[0m\n",
      "Features extracted in 49.08 seconds\n",
      "Features extracted in 101.67 seconds\n",
      "Computing CMC and mAP ...\n",
      "** Results **\n",
      "mAP: 69.72%\n",
      "CMC curve\n",
      "Rank-1  : 75.80%\n",
      "Rank-5  : 92.91%\n",
      "Rank-10 : 97.25%\n",
      "Rank-20 : 99.09%\n",
      "\u001b[33mValidating online resnet50 ...\u001b[0m\n",
      "Features extracted in 49.48 seconds\n",
      "Features extracted in 101.15 seconds\n",
      "Computing CMC and mAP ...\n",
      "** Results **\n",
      "mAP: 69.64%\n",
      "CMC curve\n",
      "Rank-1  : 70.07%\n",
      "Rank-5  : 91.28%\n",
      "Rank-10 : 96.04%\n",
      "Rank-20 : 98.68%\n",
      "\u001b[33mValidating momentum resnet50 ...\u001b[0m\n",
      "Features extracted in 48.56 seconds\n",
      "Features extracted in 100.81 seconds\n",
      "Computing CMC and mAP ...\n",
      "** Results **\n",
      "mAP: 70.02%\n",
      "CMC curve\n",
      "Rank-1  : 73.39%\n",
      "Rank-5  : 93.49%\n",
      "Rank-10 : 97.50%\n",
      "Rank-20 : 99.37%\n",
      "\u001b[33mValidating online osnet ...\u001b[0m\n",
      "Features extracted in 49.34 seconds\n",
      "Features extracted in 101.34 seconds\n",
      "Computing CMC and mAP ...\n",
      "** Results **\n",
      "mAP: 68.61%\n",
      "CMC curve\n",
      "Rank-1  : 73.02%\n",
      "Rank-5  : 95.04%\n",
      "Rank-10 : 98.36%\n",
      "Rank-20 : 99.48%\n",
      "\u001b[33mValidating momentum osnet ...\u001b[0m\n",
      "Features extracted in 49.04 seconds\n",
      "Features extracted in 128.35 seconds\n",
      "Computing CMC and mAP ...\n",
      "** Results **\n",
      "mAP: 69.41%\n",
      "CMC curve\n",
      "Rank-1  : 73.33%\n",
      "Rank-5  : 93.06%\n",
      "Rank-10 : 97.14%\n",
      "Rank-20 : 99.12%\n",
      "\u001b[33mValidating online densenet121 ...\u001b[0m\n",
      "Features extracted in 50.40 seconds\n",
      "Features extracted in 102.84 seconds\n",
      "Computing CMC and mAP ...\n",
      "** Results **\n",
      "mAP: 70.12%\n",
      "CMC curve\n",
      "Rank-1  : 75.15%\n",
      "Rank-5  : 92.89%\n",
      "Rank-10 : 97.00%\n",
      "Rank-20 : 98.95%\n",
      "\u001b[33mValidating momentum densenet121 ...\u001b[0m\n",
      "Features extracted in 51.15 seconds\n",
      "Features extracted in 103.73 seconds\n",
      "Computing CMC and mAP ...\n",
      "** Results **\n",
      "mAP: 69.53%\n",
      "CMC curve\n",
      "Rank-1  : 75.91%\n",
      "Rank-5  : 93.33%\n",
      "Rank-10 : 97.31%\n",
      "Rank-20 : 99.25%\n",
      "\u001b[33mValidating ensembled with online models ...\u001b[0m\n",
      "Computing CMC and mAP ...\n",
      "** Results **\n",
      "mAP: 70.82%\n",
      "Ranks:\n",
      "Rank-1  : 78.15%\n",
      "Rank-5  : 92.64%\n",
      "Rank-10 : 96.59%\n",
      "\u001b[33mValidating ensembled with momentum models ...\u001b[0m\n",
      "Computing CMC and mAP ...\n",
      "** Results **\n",
      "mAP: 70.51%\n",
      "Ranks:\n",
      "Rank-1  : 78.02%\n",
      "Rank-5  : 92.58%\n",
      "Rank-10 : 96.55%\n",
      "###============ Iteration number 26/90 ============###\n",
      "Extracting Online Features for mobilenet ...\n",
      "Features extracted in 158.82 seconds\n",
      "Computing jaccard distance...\n"
     ]
    },
    {
     "name": "stderr",
     "output_type": "stream",
     "text": [
      "bruteForceKnn is deprecated; call bfKnn instead\n"
     ]
    },
    {
     "name": "stdout",
     "output_type": "stream",
     "text": [
      "Jaccard distance computing time cost: 80.39202046394348\n",
      "Extracting Online Features for vgg16 ...\n",
      "Features extracted in 161.52 seconds\n",
      "Computing jaccard distance...\n"
     ]
    },
    {
     "name": "stderr",
     "output_type": "stream",
     "text": [
      "bruteForceKnn is deprecated; call bfKnn instead\n"
     ]
    },
    {
     "name": "stdout",
     "output_type": "stream",
     "text": [
      "Jaccard distance computing time cost: 82.36251592636108\n",
      "Extracting Online Features for resnet50 ...\n",
      "Features extracted in 159.34 seconds\n",
      "Computing jaccard distance...\n"
     ]
    },
    {
     "name": "stderr",
     "output_type": "stream",
     "text": [
      "bruteForceKnn is deprecated; call bfKnn instead\n"
     ]
    },
    {
     "name": "stdout",
     "output_type": "stream",
     "text": [
      "Jaccard distance computing time cost: 72.35284090042114\n",
      "Extracting Online Features for osnet ...\n",
      "Features extracted in 158.48 seconds\n",
      "Computing jaccard distance...\n"
     ]
    },
    {
     "name": "stderr",
     "output_type": "stream",
     "text": [
      "bruteForceKnn is deprecated; call bfKnn instead\n"
     ]
    },
    {
     "name": "stdout",
     "output_type": "stream",
     "text": [
      "Jaccard distance computing time cost: 72.40568208694458\n",
      "Extracting Online Features for densenet121 ...\n",
      "Features extracted in 157.51 seconds\n",
      "Computing jaccard distance...\n"
     ]
    },
    {
     "name": "stderr",
     "output_type": "stream",
     "text": [
      "bruteForceKnn is deprecated; call bfKnn instead\n"
     ]
    },
    {
     "name": "stdout",
     "output_type": "stream",
     "text": [
      "Jaccard distance computing time cost: 84.52676892280579\n",
      "Reliability: 0.997\n",
      "\u001b[32mMean Purity: 0.01845\u001b[0m\n",
      "\u001b[34mThere are 2 clusters with 4 cameras\u001b[0m\n",
      "\u001b[34mThere are 4 clusters with 5 cameras\u001b[0m\n",
      "\u001b[34mThere are 2 clusters with 7 cameras\u001b[0m\n",
      "\u001b[34mThere are 1 clusters with 9 cameras\u001b[0m\n",
      "\u001b[34mThere are 1 clusters with 11 cameras\u001b[0m\n",
      "\u001b[34mThere are 1 clusters with 12 cameras\u001b[0m\n",
      "\u001b[34mThere are 1 clusters with 16 cameras\u001b[0m\n",
      "\u001b[34mThere are 1 clusters with 19 cameras\u001b[0m\n",
      "\u001b[34mThere are 2 clusters with 29 cameras\u001b[0m\n",
      "\u001b[34mThere are 1 clusters with 32 cameras\u001b[0m\n",
      "\u001b[34mThere are 1 clusters with 34 cameras\u001b[0m\n",
      "\u001b[34mThere are 1 clusters with 45 cameras\u001b[0m\n",
      "\u001b[34mThere are 1 clusters with 47 cameras\u001b[0m\n",
      "\u001b[34mThere are 1 clusters with 52 cameras\u001b[0m\n",
      "\u001b[34mThere are 1 clusters with 53 cameras\u001b[0m\n",
      "\u001b[34mThere are 1 clusters with 54 cameras\u001b[0m\n",
      "\u001b[34mThere are 2 clusters with 57 cameras\u001b[0m\n",
      "\u001b[34mThere are 1 clusters with 58 cameras\u001b[0m\n",
      "\u001b[34mThere are 3 clusters with 59 cameras\u001b[0m\n",
      "\u001b[34mThere are 3 clusters with 60 cameras\u001b[0m\n",
      "\u001b[34mThere are 8 clusters with 61 cameras\u001b[0m\n",
      "\u001b[34mThere are 10 clusters with 62 cameras\u001b[0m\n",
      "\u001b[34mThere are 25 clusters with 63 cameras\u001b[0m\n",
      "\u001b[34mThere are 494 clusters with 64 cameras\u001b[0m\n",
      "\u001b[34mThere are 1 clusters with 92 cameras\u001b[0m\n",
      "\u001b[34mThere are 1 clusters with 97 cameras\u001b[0m\n",
      "\u001b[34mThere are 1 clusters with 120 cameras\u001b[0m\n",
      "\u001b[34mThere are 1 clusters with 121 cameras\u001b[0m\n",
      "\u001b[34mThere are 1 clusters with 122 cameras\u001b[0m\n",
      "\u001b[34mThere are 1 clusters with 124 cameras\u001b[0m\n",
      "\u001b[34mThere are 1 clusters with 125 cameras\u001b[0m\n",
      "\u001b[34mThere are 1 clusters with 126 cameras\u001b[0m\n",
      "\u001b[34mThere are 6 clusters with 127 cameras\u001b[0m\n",
      "\u001b[34mThere are 10 clusters with 128 cameras\u001b[0m\n",
      "Number of classes: 592\n",
      "\u001b[36mLearning Rate: 0.000350\u001b[0m\n",
      "encontrou modelos mobilenet. Carregando...\n",
      "encontrou modelos vgg16. Carregando...\n",
      "encontrou modelos resnet50. Carregando...\n",
      "encontrou modelos osnet. Carregando...\n",
      "encontrou modelos densenet121. Carregando...\n",
      "###============ Iteration number 27/90 ============###\n",
      "Extracting Online Features for mobilenet ...\n",
      "Features extracted in 156.97 seconds\n",
      "Computing jaccard distance...\n"
     ]
    },
    {
     "name": "stderr",
     "output_type": "stream",
     "text": [
      "bruteForceKnn is deprecated; call bfKnn instead\n"
     ]
    },
    {
     "name": "stdout",
     "output_type": "stream",
     "text": [
      "Jaccard distance computing time cost: 80.24373984336853\n",
      "Extracting Online Features for vgg16 ...\n",
      "Features extracted in 160.72 seconds\n",
      "Computing jaccard distance...\n"
     ]
    },
    {
     "name": "stderr",
     "output_type": "stream",
     "text": [
      "bruteForceKnn is deprecated; call bfKnn instead\n"
     ]
    },
    {
     "name": "stdout",
     "output_type": "stream",
     "text": [
      "Jaccard distance computing time cost: 74.28691411018372\n",
      "Extracting Online Features for resnet50 ...\n",
      "Features extracted in 154.13 seconds\n",
      "Computing jaccard distance...\n"
     ]
    },
    {
     "name": "stderr",
     "output_type": "stream",
     "text": [
      "bruteForceKnn is deprecated; call bfKnn instead\n"
     ]
    },
    {
     "name": "stdout",
     "output_type": "stream",
     "text": [
      "Jaccard distance computing time cost: 72.40764474868774\n",
      "Extracting Online Features for osnet ...\n",
      "Features extracted in 156.49 seconds\n",
      "Computing jaccard distance...\n"
     ]
    },
    {
     "name": "stderr",
     "output_type": "stream",
     "text": [
      "bruteForceKnn is deprecated; call bfKnn instead\n"
     ]
    },
    {
     "name": "stdout",
     "output_type": "stream",
     "text": [
      "Jaccard distance computing time cost: 73.87400460243225\n",
      "Extracting Online Features for densenet121 ...\n",
      "Features extracted in 154.49 seconds\n",
      "Computing jaccard distance...\n"
     ]
    },
    {
     "name": "stderr",
     "output_type": "stream",
     "text": [
      "bruteForceKnn is deprecated; call bfKnn instead\n"
     ]
    },
    {
     "name": "stdout",
     "output_type": "stream",
     "text": [
      "Jaccard distance computing time cost: 72.27313494682312\n",
      "Reliability: 0.997\n",
      "\u001b[32mMean Purity: 0.01845\u001b[0m\n",
      "\u001b[34mThere are 2 clusters with 4 cameras\u001b[0m\n",
      "\u001b[34mThere are 4 clusters with 5 cameras\u001b[0m\n",
      "\u001b[34mThere are 2 clusters with 7 cameras\u001b[0m\n",
      "\u001b[34mThere are 1 clusters with 9 cameras\u001b[0m\n",
      "\u001b[34mThere are 1 clusters with 11 cameras\u001b[0m\n",
      "\u001b[34mThere are 1 clusters with 12 cameras\u001b[0m\n",
      "\u001b[34mThere are 1 clusters with 16 cameras\u001b[0m\n",
      "\u001b[34mThere are 1 clusters with 19 cameras\u001b[0m\n",
      "\u001b[34mThere are 2 clusters with 29 cameras\u001b[0m\n",
      "\u001b[34mThere are 1 clusters with 32 cameras\u001b[0m\n",
      "\u001b[34mThere are 1 clusters with 34 cameras\u001b[0m\n",
      "\u001b[34mThere are 1 clusters with 45 cameras\u001b[0m\n",
      "\u001b[34mThere are 1 clusters with 47 cameras\u001b[0m\n",
      "\u001b[34mThere are 1 clusters with 52 cameras\u001b[0m\n",
      "\u001b[34mThere are 1 clusters with 53 cameras\u001b[0m\n",
      "\u001b[34mThere are 1 clusters with 54 cameras\u001b[0m\n",
      "\u001b[34mThere are 2 clusters with 57 cameras\u001b[0m\n",
      "\u001b[34mThere are 1 clusters with 58 cameras\u001b[0m\n",
      "\u001b[34mThere are 3 clusters with 59 cameras\u001b[0m\n",
      "\u001b[34mThere are 3 clusters with 60 cameras\u001b[0m\n",
      "\u001b[34mThere are 8 clusters with 61 cameras\u001b[0m\n",
      "\u001b[34mThere are 10 clusters with 62 cameras\u001b[0m\n",
      "\u001b[34mThere are 25 clusters with 63 cameras\u001b[0m\n",
      "\u001b[34mThere are 494 clusters with 64 cameras\u001b[0m\n",
      "\u001b[34mThere are 1 clusters with 92 cameras\u001b[0m\n",
      "\u001b[34mThere are 1 clusters with 97 cameras\u001b[0m\n",
      "\u001b[34mThere are 1 clusters with 120 cameras\u001b[0m\n",
      "\u001b[34mThere are 1 clusters with 121 cameras\u001b[0m\n",
      "\u001b[34mThere are 1 clusters with 122 cameras\u001b[0m\n",
      "\u001b[34mThere are 1 clusters with 124 cameras\u001b[0m\n",
      "\u001b[34mThere are 1 clusters with 125 cameras\u001b[0m\n",
      "\u001b[34mThere are 1 clusters with 126 cameras\u001b[0m\n",
      "\u001b[34mThere are 6 clusters with 127 cameras\u001b[0m\n",
      "\u001b[34mThere are 10 clusters with 128 cameras\u001b[0m\n",
      "Number of classes: 592\n",
      "\u001b[36mLearning Rate: 0.000350\u001b[0m\n",
      "encontrou modelos mobilenet. Carregando...\n",
      "encontrou modelos vgg16. Carregando...\n",
      "encontrou modelos resnet50. Carregando...\n",
      "encontrou modelos osnet. Carregando...\n",
      "encontrou modelos densenet121. Carregando...\n",
      "###============ Iteration number 28/90 ============###\n",
      "Extracting Online Features for mobilenet ...\n",
      "Features extracted in 152.46 seconds\n",
      "Computing jaccard distance...\n"
     ]
    },
    {
     "name": "stderr",
     "output_type": "stream",
     "text": [
      "bruteForceKnn is deprecated; call bfKnn instead\n"
     ]
    },
    {
     "name": "stdout",
     "output_type": "stream",
     "text": [
      "Jaccard distance computing time cost: 73.59605956077576\n",
      "Extracting Online Features for vgg16 ...\n",
      "Features extracted in 153.42 seconds\n",
      "Computing jaccard distance...\n"
     ]
    },
    {
     "name": "stderr",
     "output_type": "stream",
     "text": [
      "bruteForceKnn is deprecated; call bfKnn instead\n"
     ]
    },
    {
     "name": "stdout",
     "output_type": "stream",
     "text": [
      "Jaccard distance computing time cost: 71.0397891998291\n",
      "Extracting Online Features for resnet50 ...\n",
      "Features extracted in 155.27 seconds\n",
      "Computing jaccard distance...\n"
     ]
    },
    {
     "name": "stderr",
     "output_type": "stream",
     "text": [
      "bruteForceKnn is deprecated; call bfKnn instead\n"
     ]
    },
    {
     "name": "stdout",
     "output_type": "stream",
     "text": [
      "Jaccard distance computing time cost: 70.09836149215698\n",
      "Extracting Online Features for osnet ...\n",
      "Features extracted in 156.24 seconds\n",
      "Computing jaccard distance...\n"
     ]
    },
    {
     "name": "stderr",
     "output_type": "stream",
     "text": [
      "bruteForceKnn is deprecated; call bfKnn instead\n"
     ]
    },
    {
     "name": "stdout",
     "output_type": "stream",
     "text": [
      "Jaccard distance computing time cost: 76.86832308769226\n",
      "Extracting Online Features for densenet121 ...\n",
      "Features extracted in 158.25 seconds\n",
      "Computing jaccard distance...\n"
     ]
    },
    {
     "name": "stderr",
     "output_type": "stream",
     "text": [
      "bruteForceKnn is deprecated; call bfKnn instead\n"
     ]
    },
    {
     "name": "stdout",
     "output_type": "stream",
     "text": [
      "Jaccard distance computing time cost: 71.90516591072083\n",
      "Reliability: 0.997\n",
      "\u001b[32mMean Purity: 0.01845\u001b[0m\n",
      "\u001b[34mThere are 2 clusters with 4 cameras\u001b[0m\n",
      "\u001b[34mThere are 4 clusters with 5 cameras\u001b[0m\n",
      "\u001b[34mThere are 2 clusters with 7 cameras\u001b[0m\n",
      "\u001b[34mThere are 1 clusters with 9 cameras\u001b[0m\n",
      "\u001b[34mThere are 1 clusters with 11 cameras\u001b[0m\n",
      "\u001b[34mThere are 1 clusters with 12 cameras\u001b[0m\n",
      "\u001b[34mThere are 1 clusters with 16 cameras\u001b[0m\n",
      "\u001b[34mThere are 1 clusters with 19 cameras\u001b[0m\n",
      "\u001b[34mThere are 2 clusters with 29 cameras\u001b[0m\n",
      "\u001b[34mThere are 1 clusters with 32 cameras\u001b[0m\n",
      "\u001b[34mThere are 1 clusters with 34 cameras\u001b[0m\n",
      "\u001b[34mThere are 1 clusters with 45 cameras\u001b[0m\n",
      "\u001b[34mThere are 1 clusters with 47 cameras\u001b[0m\n",
      "\u001b[34mThere are 1 clusters with 52 cameras\u001b[0m\n",
      "\u001b[34mThere are 1 clusters with 53 cameras\u001b[0m\n",
      "\u001b[34mThere are 1 clusters with 54 cameras\u001b[0m\n",
      "\u001b[34mThere are 2 clusters with 57 cameras\u001b[0m\n",
      "\u001b[34mThere are 1 clusters with 58 cameras\u001b[0m\n",
      "\u001b[34mThere are 3 clusters with 59 cameras\u001b[0m\n",
      "\u001b[34mThere are 3 clusters with 60 cameras\u001b[0m\n",
      "\u001b[34mThere are 8 clusters with 61 cameras\u001b[0m\n",
      "\u001b[34mThere are 10 clusters with 62 cameras\u001b[0m\n",
      "\u001b[34mThere are 25 clusters with 63 cameras\u001b[0m\n",
      "\u001b[34mThere are 494 clusters with 64 cameras\u001b[0m\n",
      "\u001b[34mThere are 1 clusters with 92 cameras\u001b[0m\n",
      "\u001b[34mThere are 1 clusters with 97 cameras\u001b[0m\n",
      "\u001b[34mThere are 1 clusters with 120 cameras\u001b[0m\n",
      "\u001b[34mThere are 1 clusters with 121 cameras\u001b[0m\n",
      "\u001b[34mThere are 1 clusters with 122 cameras\u001b[0m\n",
      "\u001b[34mThere are 1 clusters with 124 cameras\u001b[0m\n",
      "\u001b[34mThere are 1 clusters with 125 cameras\u001b[0m\n",
      "\u001b[34mThere are 1 clusters with 126 cameras\u001b[0m\n",
      "\u001b[34mThere are 6 clusters with 127 cameras\u001b[0m\n",
      "\u001b[34mThere are 10 clusters with 128 cameras\u001b[0m\n",
      "Number of classes: 592\n",
      "\u001b[36mLearning Rate: 0.000350\u001b[0m\n",
      "encontrou modelos mobilenet. Carregando...\n",
      "encontrou modelos vgg16. Carregando...\n",
      "encontrou modelos resnet50. Carregando...\n",
      "encontrou modelos osnet. Carregando...\n",
      "encontrou modelos densenet121. Carregando...\n",
      "###============ Iteration number 29/90 ============###\n",
      "Extracting Online Features for mobilenet ...\n",
      "Features extracted in 163.52 seconds\n",
      "Computing jaccard distance...\n"
     ]
    },
    {
     "name": "stderr",
     "output_type": "stream",
     "text": [
      "bruteForceKnn is deprecated; call bfKnn instead\n"
     ]
    },
    {
     "name": "stdout",
     "output_type": "stream",
     "text": [
      "Jaccard distance computing time cost: 82.7812852859497\n",
      "Extracting Online Features for vgg16 ...\n",
      "Features extracted in 153.58 seconds\n",
      "Computing jaccard distance...\n"
     ]
    },
    {
     "name": "stderr",
     "output_type": "stream",
     "text": [
      "bruteForceKnn is deprecated; call bfKnn instead\n"
     ]
    },
    {
     "name": "stdout",
     "output_type": "stream",
     "text": [
      "Jaccard distance computing time cost: 72.83931159973145\n",
      "Extracting Online Features for resnet50 ...\n",
      "Features extracted in 157.06 seconds\n",
      "Computing jaccard distance...\n"
     ]
    },
    {
     "name": "stderr",
     "output_type": "stream",
     "text": [
      "bruteForceKnn is deprecated; call bfKnn instead\n"
     ]
    },
    {
     "name": "stdout",
     "output_type": "stream",
     "text": [
      "Jaccard distance computing time cost: 73.21828961372375\n",
      "Extracting Online Features for osnet ...\n",
      "Features extracted in 161.05 seconds\n",
      "Computing jaccard distance...\n"
     ]
    },
    {
     "name": "stderr",
     "output_type": "stream",
     "text": [
      "bruteForceKnn is deprecated; call bfKnn instead\n"
     ]
    },
    {
     "name": "stdout",
     "output_type": "stream",
     "text": [
      "Jaccard distance computing time cost: 68.99957776069641\n",
      "Extracting Online Features for densenet121 ...\n",
      "Features extracted in 153.82 seconds\n",
      "Computing jaccard distance...\n"
     ]
    },
    {
     "name": "stderr",
     "output_type": "stream",
     "text": [
      "bruteForceKnn is deprecated; call bfKnn instead\n"
     ]
    },
    {
     "name": "stdout",
     "output_type": "stream",
     "text": [
      "Jaccard distance computing time cost: 80.1414520740509\n",
      "Reliability: 0.997\n",
      "\u001b[32mMean Purity: 0.01845\u001b[0m\n",
      "\u001b[34mThere are 2 clusters with 4 cameras\u001b[0m\n",
      "\u001b[34mThere are 4 clusters with 5 cameras\u001b[0m\n",
      "\u001b[34mThere are 2 clusters with 7 cameras\u001b[0m\n",
      "\u001b[34mThere are 1 clusters with 9 cameras\u001b[0m\n",
      "\u001b[34mThere are 1 clusters with 11 cameras\u001b[0m\n",
      "\u001b[34mThere are 1 clusters with 12 cameras\u001b[0m\n",
      "\u001b[34mThere are 1 clusters with 16 cameras\u001b[0m\n",
      "\u001b[34mThere are 1 clusters with 19 cameras\u001b[0m\n",
      "\u001b[34mThere are 2 clusters with 29 cameras\u001b[0m\n",
      "\u001b[34mThere are 1 clusters with 32 cameras\u001b[0m\n",
      "\u001b[34mThere are 1 clusters with 34 cameras\u001b[0m\n",
      "\u001b[34mThere are 1 clusters with 45 cameras\u001b[0m\n",
      "\u001b[34mThere are 1 clusters with 47 cameras\u001b[0m\n",
      "\u001b[34mThere are 1 clusters with 52 cameras\u001b[0m\n",
      "\u001b[34mThere are 1 clusters with 53 cameras\u001b[0m\n",
      "\u001b[34mThere are 1 clusters with 54 cameras\u001b[0m\n",
      "\u001b[34mThere are 2 clusters with 57 cameras\u001b[0m\n",
      "\u001b[34mThere are 1 clusters with 58 cameras\u001b[0m\n",
      "\u001b[34mThere are 3 clusters with 59 cameras\u001b[0m\n",
      "\u001b[34mThere are 3 clusters with 60 cameras\u001b[0m\n",
      "\u001b[34mThere are 8 clusters with 61 cameras\u001b[0m\n",
      "\u001b[34mThere are 10 clusters with 62 cameras\u001b[0m\n",
      "\u001b[34mThere are 25 clusters with 63 cameras\u001b[0m\n",
      "\u001b[34mThere are 494 clusters with 64 cameras\u001b[0m\n",
      "\u001b[34mThere are 1 clusters with 92 cameras\u001b[0m\n",
      "\u001b[34mThere are 1 clusters with 97 cameras\u001b[0m\n",
      "\u001b[34mThere are 1 clusters with 120 cameras\u001b[0m\n",
      "\u001b[34mThere are 1 clusters with 121 cameras\u001b[0m\n",
      "\u001b[34mThere are 1 clusters with 122 cameras\u001b[0m\n",
      "\u001b[34mThere are 1 clusters with 124 cameras\u001b[0m\n",
      "\u001b[34mThere are 1 clusters with 125 cameras\u001b[0m\n",
      "\u001b[34mThere are 1 clusters with 126 cameras\u001b[0m\n",
      "\u001b[34mThere are 6 clusters with 127 cameras\u001b[0m\n",
      "\u001b[34mThere are 10 clusters with 128 cameras\u001b[0m\n",
      "Number of classes: 592\n",
      "\u001b[36mLearning Rate: 0.000350\u001b[0m\n",
      "encontrou modelos mobilenet. Carregando...\n",
      "encontrou modelos vgg16. Carregando...\n",
      "encontrou modelos resnet50. Carregando...\n",
      "encontrou modelos osnet. Carregando...\n",
      "encontrou modelos densenet121. Carregando...\n",
      "###============ Iteration number 30/90 ============###\n",
      "Extracting Online Features for mobilenet ...\n",
      "Features extracted in 157.10 seconds\n",
      "Computing jaccard distance...\n"
     ]
    },
    {
     "name": "stderr",
     "output_type": "stream",
     "text": [
      "bruteForceKnn is deprecated; call bfKnn instead\n"
     ]
    },
    {
     "name": "stdout",
     "output_type": "stream",
     "text": [
      "Jaccard distance computing time cost: 72.18183588981628\n",
      "Extracting Online Features for vgg16 ...\n",
      "Features extracted in 158.94 seconds\n",
      "Computing jaccard distance...\n"
     ]
    },
    {
     "name": "stderr",
     "output_type": "stream",
     "text": [
      "bruteForceKnn is deprecated; call bfKnn instead\n"
     ]
    },
    {
     "name": "stdout",
     "output_type": "stream",
     "text": [
      "Jaccard distance computing time cost: 72.68889737129211\n",
      "Extracting Online Features for resnet50 ...\n",
      "Features extracted in 158.22 seconds\n",
      "Computing jaccard distance...\n"
     ]
    },
    {
     "name": "stderr",
     "output_type": "stream",
     "text": [
      "bruteForceKnn is deprecated; call bfKnn instead\n"
     ]
    },
    {
     "name": "stdout",
     "output_type": "stream",
     "text": [
      "Jaccard distance computing time cost: 74.44604682922363\n",
      "Extracting Online Features for osnet ...\n",
      "Features extracted in 156.00 seconds\n",
      "Computing jaccard distance...\n"
     ]
    },
    {
     "name": "stderr",
     "output_type": "stream",
     "text": [
      "bruteForceKnn is deprecated; call bfKnn instead\n"
     ]
    },
    {
     "name": "stdout",
     "output_type": "stream",
     "text": [
      "Jaccard distance computing time cost: 71.82399296760559\n",
      "Extracting Online Features for densenet121 ...\n",
      "Features extracted in 159.41 seconds\n",
      "Computing jaccard distance...\n"
     ]
    },
    {
     "name": "stderr",
     "output_type": "stream",
     "text": [
      "bruteForceKnn is deprecated; call bfKnn instead\n"
     ]
    },
    {
     "name": "stdout",
     "output_type": "stream",
     "text": [
      "Jaccard distance computing time cost: 82.5474464893341\n",
      "Reliability: 0.997\n",
      "\u001b[32mMean Purity: 0.01845\u001b[0m\n",
      "\u001b[34mThere are 2 clusters with 4 cameras\u001b[0m\n",
      "\u001b[34mThere are 4 clusters with 5 cameras\u001b[0m\n",
      "\u001b[34mThere are 2 clusters with 7 cameras\u001b[0m\n",
      "\u001b[34mThere are 1 clusters with 9 cameras\u001b[0m\n",
      "\u001b[34mThere are 1 clusters with 11 cameras\u001b[0m\n",
      "\u001b[34mThere are 1 clusters with 12 cameras\u001b[0m\n",
      "\u001b[34mThere are 1 clusters with 16 cameras\u001b[0m\n",
      "\u001b[34mThere are 1 clusters with 19 cameras\u001b[0m\n",
      "\u001b[34mThere are 2 clusters with 29 cameras\u001b[0m\n",
      "\u001b[34mThere are 1 clusters with 32 cameras\u001b[0m\n",
      "\u001b[34mThere are 1 clusters with 34 cameras\u001b[0m\n",
      "\u001b[34mThere are 1 clusters with 45 cameras\u001b[0m\n",
      "\u001b[34mThere are 1 clusters with 47 cameras\u001b[0m\n",
      "\u001b[34mThere are 1 clusters with 52 cameras\u001b[0m\n",
      "\u001b[34mThere are 1 clusters with 53 cameras\u001b[0m\n",
      "\u001b[34mThere are 1 clusters with 54 cameras\u001b[0m\n",
      "\u001b[34mThere are 2 clusters with 57 cameras\u001b[0m\n",
      "\u001b[34mThere are 1 clusters with 58 cameras\u001b[0m\n",
      "\u001b[34mThere are 3 clusters with 59 cameras\u001b[0m\n",
      "\u001b[34mThere are 3 clusters with 60 cameras\u001b[0m\n",
      "\u001b[34mThere are 8 clusters with 61 cameras\u001b[0m\n",
      "\u001b[34mThere are 10 clusters with 62 cameras\u001b[0m\n",
      "\u001b[34mThere are 25 clusters with 63 cameras\u001b[0m\n",
      "\u001b[34mThere are 494 clusters with 64 cameras\u001b[0m\n",
      "\u001b[34mThere are 1 clusters with 92 cameras\u001b[0m\n",
      "\u001b[34mThere are 1 clusters with 97 cameras\u001b[0m\n",
      "\u001b[34mThere are 1 clusters with 120 cameras\u001b[0m\n",
      "\u001b[34mThere are 1 clusters with 121 cameras\u001b[0m\n",
      "\u001b[34mThere are 1 clusters with 122 cameras\u001b[0m\n",
      "\u001b[34mThere are 1 clusters with 124 cameras\u001b[0m\n",
      "\u001b[34mThere are 1 clusters with 125 cameras\u001b[0m\n",
      "\u001b[34mThere are 1 clusters with 126 cameras\u001b[0m\n",
      "\u001b[34mThere are 6 clusters with 127 cameras\u001b[0m\n",
      "\u001b[34mThere are 10 clusters with 128 cameras\u001b[0m\n",
      "Number of classes: 592\n",
      "\u001b[36mLearning Rate: 0.000350\u001b[0m\n",
      "encontrou modelos mobilenet. Carregando...\n",
      "encontrou modelos vgg16. Carregando...\n",
      "encontrou modelos resnet50. Carregando...\n",
      "encontrou modelos osnet. Carregando...\n",
      "encontrou modelos densenet121. Carregando...\n",
      "\u001b[33mValidating online mobilenet ...\u001b[0m\n",
      "Features extracted in 47.94 seconds\n",
      "Features extracted in 102.99 seconds\n",
      "Computing CMC and mAP ...\n",
      "** Results **\n",
      "mAP: 71.39%\n",
      "CMC curve\n",
      "Rank-1  : 81.53%\n",
      "Rank-5  : 95.41%\n",
      "Rank-10 : 98.02%\n",
      "Rank-20 : 99.18%\n",
      "\u001b[33mValidating momentum mobilenet ...\u001b[0m\n",
      "Features extracted in 49.17 seconds\n",
      "Features extracted in 102.37 seconds\n",
      "Computing CMC and mAP ...\n",
      "** Results **\n",
      "mAP: 70.86%\n",
      "CMC curve\n",
      "Rank-1  : 78.95%\n",
      "Rank-5  : 93.89%\n",
      "Rank-10 : 97.47%\n",
      "Rank-20 : 99.27%\n",
      "\u001b[33mValidating online vgg16 ...\u001b[0m\n",
      "Features extracted in 49.53 seconds\n",
      "Features extracted in 104.41 seconds\n",
      "Computing CMC and mAP ...\n",
      "** Results **\n",
      "mAP: 69.67%\n",
      "CMC curve\n",
      "Rank-1  : 74.49%\n",
      "Rank-5  : 92.27%\n",
      "Rank-10 : 96.56%\n",
      "Rank-20 : 99.05%\n",
      "\u001b[33mValidating momentum vgg16 ...\u001b[0m\n",
      "Features extracted in 49.29 seconds\n",
      "Features extracted in 103.73 seconds\n",
      "Computing CMC and mAP ...\n",
      "** Results **\n",
      "mAP: 69.72%\n",
      "CMC curve\n",
      "Rank-1  : 75.80%\n",
      "Rank-5  : 92.91%\n",
      "Rank-10 : 97.25%\n",
      "Rank-20 : 99.09%\n",
      "\u001b[33mValidating online resnet50 ...\u001b[0m\n",
      "Features extracted in 49.39 seconds\n",
      "Features extracted in 102.84 seconds\n",
      "Computing CMC and mAP ...\n",
      "** Results **\n",
      "mAP: 69.64%\n",
      "CMC curve\n",
      "Rank-1  : 70.07%\n",
      "Rank-5  : 91.28%\n",
      "Rank-10 : 96.04%\n",
      "Rank-20 : 98.68%\n",
      "\u001b[33mValidating momentum resnet50 ...\u001b[0m\n",
      "Features extracted in 50.92 seconds\n",
      "Features extracted in 104.13 seconds\n",
      "Computing CMC and mAP ...\n",
      "** Results **\n",
      "mAP: 70.02%\n",
      "CMC curve\n",
      "Rank-1  : 73.39%\n",
      "Rank-5  : 93.49%\n",
      "Rank-10 : 97.50%\n",
      "Rank-20 : 99.37%\n",
      "\u001b[33mValidating online osnet ...\u001b[0m\n",
      "Features extracted in 49.47 seconds\n",
      "Features extracted in 102.30 seconds\n",
      "Computing CMC and mAP ...\n",
      "** Results **\n",
      "mAP: 68.61%\n",
      "CMC curve\n",
      "Rank-1  : 73.02%\n",
      "Rank-5  : 95.04%\n",
      "Rank-10 : 98.36%\n",
      "Rank-20 : 99.48%\n",
      "\u001b[33mValidating momentum osnet ...\u001b[0m\n",
      "Features extracted in 49.44 seconds\n",
      "Features extracted in 102.76 seconds\n",
      "Computing CMC and mAP ...\n",
      "** Results **\n",
      "mAP: 69.41%\n",
      "CMC curve\n",
      "Rank-1  : 73.33%\n",
      "Rank-5  : 93.06%\n",
      "Rank-10 : 97.14%\n",
      "Rank-20 : 99.12%\n",
      "\u001b[33mValidating online densenet121 ...\u001b[0m\n",
      "Features extracted in 49.66 seconds\n",
      "Features extracted in 102.87 seconds\n",
      "Computing CMC and mAP ...\n",
      "** Results **\n",
      "mAP: 70.12%\n",
      "CMC curve\n",
      "Rank-1  : 75.15%\n",
      "Rank-5  : 92.89%\n",
      "Rank-10 : 97.00%\n",
      "Rank-20 : 98.95%\n",
      "\u001b[33mValidating momentum densenet121 ...\u001b[0m\n",
      "Features extracted in 49.34 seconds\n",
      "Features extracted in 102.42 seconds\n",
      "Computing CMC and mAP ...\n",
      "** Results **\n",
      "mAP: 69.53%\n",
      "CMC curve\n",
      "Rank-1  : 75.91%\n",
      "Rank-5  : 93.33%\n",
      "Rank-10 : 97.31%\n",
      "Rank-20 : 99.25%\n",
      "\u001b[33mValidating ensembled with online models ...\u001b[0m\n",
      "Computing CMC and mAP ...\n",
      "** Results **\n",
      "mAP: 70.82%\n",
      "Ranks:\n",
      "Rank-1  : 78.15%\n",
      "Rank-5  : 92.64%\n",
      "Rank-10 : 96.59%\n",
      "\u001b[33mValidating ensembled with momentum models ...\u001b[0m\n",
      "Computing CMC and mAP ...\n",
      "** Results **\n",
      "mAP: 70.51%\n",
      "Ranks:\n",
      "Rank-1  : 78.02%\n",
      "Rank-5  : 92.58%\n",
      "Rank-10 : 96.55%\n",
      "###============ Iteration number 31/90 ============###\n",
      "Extracting Online Features for mobilenet ...\n",
      "Features extracted in 159.14 seconds\n",
      "Computing jaccard distance...\n"
     ]
    },
    {
     "name": "stderr",
     "output_type": "stream",
     "text": [
      "bruteForceKnn is deprecated; call bfKnn instead\n"
     ]
    },
    {
     "name": "stdout",
     "output_type": "stream",
     "text": [
      "Jaccard distance computing time cost: 73.03950190544128\n",
      "Extracting Online Features for vgg16 ...\n",
      "Features extracted in 154.55 seconds\n",
      "Computing jaccard distance...\n"
     ]
    },
    {
     "name": "stderr",
     "output_type": "stream",
     "text": [
      "bruteForceKnn is deprecated; call bfKnn instead\n"
     ]
    },
    {
     "name": "stdout",
     "output_type": "stream",
     "text": [
      "Jaccard distance computing time cost: 84.67097330093384\n",
      "Extracting Online Features for resnet50 ...\n",
      "Features extracted in 158.07 seconds\n",
      "Computing jaccard distance...\n"
     ]
    },
    {
     "name": "stderr",
     "output_type": "stream",
     "text": [
      "bruteForceKnn is deprecated; call bfKnn instead\n"
     ]
    },
    {
     "name": "stdout",
     "output_type": "stream",
     "text": [
      "Jaccard distance computing time cost: 80.47868919372559\n",
      "Extracting Online Features for osnet ...\n",
      "Features extracted in 157.73 seconds\n",
      "Computing jaccard distance...\n"
     ]
    },
    {
     "name": "stderr",
     "output_type": "stream",
     "text": [
      "bruteForceKnn is deprecated; call bfKnn instead\n"
     ]
    },
    {
     "name": "stdout",
     "output_type": "stream",
     "text": [
      "Jaccard distance computing time cost: 82.09699201583862\n",
      "Extracting Online Features for densenet121 ...\n",
      "Features extracted in 153.59 seconds\n",
      "Computing jaccard distance...\n"
     ]
    },
    {
     "name": "stderr",
     "output_type": "stream",
     "text": [
      "bruteForceKnn is deprecated; call bfKnn instead\n"
     ]
    },
    {
     "name": "stdout",
     "output_type": "stream",
     "text": [
      "Jaccard distance computing time cost: 81.79533219337463\n",
      "Reliability: 0.997\n",
      "\u001b[32mMean Purity: 0.01845\u001b[0m\n",
      "\u001b[34mThere are 2 clusters with 4 cameras\u001b[0m\n",
      "\u001b[34mThere are 4 clusters with 5 cameras\u001b[0m\n",
      "\u001b[34mThere are 2 clusters with 7 cameras\u001b[0m\n",
      "\u001b[34mThere are 1 clusters with 9 cameras\u001b[0m\n",
      "\u001b[34mThere are 1 clusters with 11 cameras\u001b[0m\n",
      "\u001b[34mThere are 1 clusters with 12 cameras\u001b[0m\n",
      "\u001b[34mThere are 1 clusters with 16 cameras\u001b[0m\n",
      "\u001b[34mThere are 1 clusters with 19 cameras\u001b[0m\n",
      "\u001b[34mThere are 2 clusters with 29 cameras\u001b[0m\n",
      "\u001b[34mThere are 1 clusters with 32 cameras\u001b[0m\n",
      "\u001b[34mThere are 1 clusters with 34 cameras\u001b[0m\n",
      "\u001b[34mThere are 1 clusters with 45 cameras\u001b[0m\n",
      "\u001b[34mThere are 1 clusters with 47 cameras\u001b[0m\n",
      "\u001b[34mThere are 1 clusters with 52 cameras\u001b[0m\n",
      "\u001b[34mThere are 1 clusters with 53 cameras\u001b[0m\n",
      "\u001b[34mThere are 1 clusters with 54 cameras\u001b[0m\n",
      "\u001b[34mThere are 2 clusters with 57 cameras\u001b[0m\n",
      "\u001b[34mThere are 1 clusters with 58 cameras\u001b[0m\n",
      "\u001b[34mThere are 3 clusters with 59 cameras\u001b[0m\n",
      "\u001b[34mThere are 3 clusters with 60 cameras\u001b[0m\n",
      "\u001b[34mThere are 8 clusters with 61 cameras\u001b[0m\n",
      "\u001b[34mThere are 10 clusters with 62 cameras\u001b[0m\n",
      "\u001b[34mThere are 25 clusters with 63 cameras\u001b[0m\n",
      "\u001b[34mThere are 494 clusters with 64 cameras\u001b[0m\n",
      "\u001b[34mThere are 1 clusters with 92 cameras\u001b[0m\n",
      "\u001b[34mThere are 1 clusters with 97 cameras\u001b[0m\n",
      "\u001b[34mThere are 1 clusters with 120 cameras\u001b[0m\n",
      "\u001b[34mThere are 1 clusters with 121 cameras\u001b[0m\n",
      "\u001b[34mThere are 1 clusters with 122 cameras\u001b[0m\n",
      "\u001b[34mThere are 1 clusters with 124 cameras\u001b[0m\n",
      "\u001b[34mThere are 1 clusters with 125 cameras\u001b[0m\n",
      "\u001b[34mThere are 1 clusters with 126 cameras\u001b[0m\n",
      "\u001b[34mThere are 6 clusters with 127 cameras\u001b[0m\n",
      "\u001b[34mThere are 10 clusters with 128 cameras\u001b[0m\n",
      "Number of classes: 592\n",
      "\u001b[36mLearning Rate: 0.000350\u001b[0m\n",
      "encontrou modelos mobilenet. Carregando...\n",
      "encontrou modelos vgg16. Carregando...\n",
      "encontrou modelos resnet50. Carregando...\n",
      "encontrou modelos osnet. Carregando...\n",
      "encontrou modelos densenet121. Carregando...\n",
      "###============ Iteration number 32/90 ============###\n",
      "Extracting Online Features for mobilenet ...\n",
      "Features extracted in 155.99 seconds\n",
      "Computing jaccard distance...\n"
     ]
    },
    {
     "name": "stderr",
     "output_type": "stream",
     "text": [
      "bruteForceKnn is deprecated; call bfKnn instead\n"
     ]
    },
    {
     "name": "stdout",
     "output_type": "stream",
     "text": [
      "Jaccard distance computing time cost: 71.4377088546753\n",
      "Extracting Online Features for vgg16 ...\n",
      "Features extracted in 154.78 seconds\n",
      "Computing jaccard distance...\n"
     ]
    },
    {
     "name": "stderr",
     "output_type": "stream",
     "text": [
      "bruteForceKnn is deprecated; call bfKnn instead\n"
     ]
    },
    {
     "name": "stdout",
     "output_type": "stream",
     "text": [
      "Jaccard distance computing time cost: 81.6613347530365\n",
      "Extracting Online Features for resnet50 ...\n",
      "Features extracted in 159.07 seconds\n",
      "Computing jaccard distance...\n"
     ]
    },
    {
     "name": "stderr",
     "output_type": "stream",
     "text": [
      "bruteForceKnn is deprecated; call bfKnn instead\n"
     ]
    },
    {
     "name": "stdout",
     "output_type": "stream",
     "text": [
      "Jaccard distance computing time cost: 71.69213700294495\n",
      "Extracting Online Features for osnet ...\n",
      "Features extracted in 152.71 seconds\n",
      "Computing jaccard distance...\n"
     ]
    },
    {
     "name": "stderr",
     "output_type": "stream",
     "text": [
      "bruteForceKnn is deprecated; call bfKnn instead\n"
     ]
    },
    {
     "name": "stdout",
     "output_type": "stream",
     "text": [
      "Jaccard distance computing time cost: 69.40901470184326\n",
      "Extracting Online Features for densenet121 ...\n",
      "Features extracted in 152.88 seconds\n",
      "Computing jaccard distance...\n"
     ]
    },
    {
     "name": "stderr",
     "output_type": "stream",
     "text": [
      "bruteForceKnn is deprecated; call bfKnn instead\n"
     ]
    },
    {
     "name": "stdout",
     "output_type": "stream",
     "text": [
      "Jaccard distance computing time cost: 74.46582055091858\n",
      "Reliability: 0.997\n",
      "\u001b[32mMean Purity: 0.01845\u001b[0m\n",
      "\u001b[34mThere are 2 clusters with 4 cameras\u001b[0m\n",
      "\u001b[34mThere are 4 clusters with 5 cameras\u001b[0m\n",
      "\u001b[34mThere are 2 clusters with 7 cameras\u001b[0m\n",
      "\u001b[34mThere are 1 clusters with 9 cameras\u001b[0m\n",
      "\u001b[34mThere are 1 clusters with 11 cameras\u001b[0m\n",
      "\u001b[34mThere are 1 clusters with 12 cameras\u001b[0m\n",
      "\u001b[34mThere are 1 clusters with 16 cameras\u001b[0m\n",
      "\u001b[34mThere are 1 clusters with 19 cameras\u001b[0m\n",
      "\u001b[34mThere are 2 clusters with 29 cameras\u001b[0m\n",
      "\u001b[34mThere are 1 clusters with 32 cameras\u001b[0m\n",
      "\u001b[34mThere are 1 clusters with 34 cameras\u001b[0m\n",
      "\u001b[34mThere are 1 clusters with 45 cameras\u001b[0m\n",
      "\u001b[34mThere are 1 clusters with 47 cameras\u001b[0m\n",
      "\u001b[34mThere are 1 clusters with 52 cameras\u001b[0m\n",
      "\u001b[34mThere are 1 clusters with 53 cameras\u001b[0m\n",
      "\u001b[34mThere are 1 clusters with 54 cameras\u001b[0m\n",
      "\u001b[34mThere are 2 clusters with 57 cameras\u001b[0m\n",
      "\u001b[34mThere are 1 clusters with 58 cameras\u001b[0m\n",
      "\u001b[34mThere are 3 clusters with 59 cameras\u001b[0m\n",
      "\u001b[34mThere are 3 clusters with 60 cameras\u001b[0m\n",
      "\u001b[34mThere are 8 clusters with 61 cameras\u001b[0m\n",
      "\u001b[34mThere are 10 clusters with 62 cameras\u001b[0m\n",
      "\u001b[34mThere are 25 clusters with 63 cameras\u001b[0m\n",
      "\u001b[34mThere are 494 clusters with 64 cameras\u001b[0m\n",
      "\u001b[34mThere are 1 clusters with 92 cameras\u001b[0m\n",
      "\u001b[34mThere are 1 clusters with 97 cameras\u001b[0m\n",
      "\u001b[34mThere are 1 clusters with 120 cameras\u001b[0m\n",
      "\u001b[34mThere are 1 clusters with 121 cameras\u001b[0m\n",
      "\u001b[34mThere are 1 clusters with 122 cameras\u001b[0m\n",
      "\u001b[34mThere are 1 clusters with 124 cameras\u001b[0m\n",
      "\u001b[34mThere are 1 clusters with 125 cameras\u001b[0m\n",
      "\u001b[34mThere are 1 clusters with 126 cameras\u001b[0m\n",
      "\u001b[34mThere are 6 clusters with 127 cameras\u001b[0m\n",
      "\u001b[34mThere are 10 clusters with 128 cameras\u001b[0m\n",
      "Number of classes: 592\n",
      "\u001b[36mLearning Rate: 0.000350\u001b[0m\n",
      "encontrou modelos mobilenet. Carregando...\n",
      "encontrou modelos vgg16. Carregando...\n",
      "encontrou modelos resnet50. Carregando...\n",
      "encontrou modelos osnet. Carregando...\n",
      "encontrou modelos densenet121. Carregando...\n",
      "###============ Iteration number 33/90 ============###\n",
      "Extracting Online Features for mobilenet ...\n",
      "Features extracted in 157.65 seconds\n",
      "Computing jaccard distance...\n"
     ]
    },
    {
     "name": "stderr",
     "output_type": "stream",
     "text": [
      "bruteForceKnn is deprecated; call bfKnn instead\n"
     ]
    },
    {
     "name": "stdout",
     "output_type": "stream",
     "text": [
      "Jaccard distance computing time cost: 72.03110003471375\n",
      "Extracting Online Features for vgg16 ...\n",
      "Features extracted in 152.91 seconds\n",
      "Computing jaccard distance...\n"
     ]
    },
    {
     "name": "stderr",
     "output_type": "stream",
     "text": [
      "bruteForceKnn is deprecated; call bfKnn instead\n"
     ]
    },
    {
     "name": "stdout",
     "output_type": "stream",
     "text": [
      "Jaccard distance computing time cost: 69.5217354297638\n",
      "Extracting Online Features for resnet50 ...\n",
      "Features extracted in 155.82 seconds\n",
      "Computing jaccard distance...\n"
     ]
    },
    {
     "name": "stderr",
     "output_type": "stream",
     "text": [
      "bruteForceKnn is deprecated; call bfKnn instead\n"
     ]
    },
    {
     "name": "stdout",
     "output_type": "stream",
     "text": [
      "Jaccard distance computing time cost: 73.03920245170593\n",
      "Extracting Online Features for osnet ...\n",
      "Features extracted in 160.04 seconds\n",
      "Computing jaccard distance...\n"
     ]
    },
    {
     "name": "stderr",
     "output_type": "stream",
     "text": [
      "bruteForceKnn is deprecated; call bfKnn instead\n"
     ]
    },
    {
     "name": "stdout",
     "output_type": "stream",
     "text": [
      "Jaccard distance computing time cost: 82.50683903694153\n",
      "Extracting Online Features for densenet121 ...\n",
      "Features extracted in 160.91 seconds\n",
      "Computing jaccard distance...\n"
     ]
    },
    {
     "name": "stderr",
     "output_type": "stream",
     "text": [
      "bruteForceKnn is deprecated; call bfKnn instead\n"
     ]
    },
    {
     "name": "stdout",
     "output_type": "stream",
     "text": [
      "Jaccard distance computing time cost: 74.2927680015564\n",
      "Reliability: 0.997\n",
      "\u001b[32mMean Purity: 0.01845\u001b[0m\n",
      "\u001b[34mThere are 2 clusters with 4 cameras\u001b[0m\n",
      "\u001b[34mThere are 4 clusters with 5 cameras\u001b[0m\n",
      "\u001b[34mThere are 2 clusters with 7 cameras\u001b[0m\n",
      "\u001b[34mThere are 1 clusters with 9 cameras\u001b[0m\n",
      "\u001b[34mThere are 1 clusters with 11 cameras\u001b[0m\n",
      "\u001b[34mThere are 1 clusters with 12 cameras\u001b[0m\n",
      "\u001b[34mThere are 1 clusters with 16 cameras\u001b[0m\n",
      "\u001b[34mThere are 1 clusters with 19 cameras\u001b[0m\n",
      "\u001b[34mThere are 2 clusters with 29 cameras\u001b[0m\n",
      "\u001b[34mThere are 1 clusters with 32 cameras\u001b[0m\n",
      "\u001b[34mThere are 1 clusters with 34 cameras\u001b[0m\n",
      "\u001b[34mThere are 1 clusters with 45 cameras\u001b[0m\n",
      "\u001b[34mThere are 1 clusters with 47 cameras\u001b[0m\n",
      "\u001b[34mThere are 1 clusters with 52 cameras\u001b[0m\n",
      "\u001b[34mThere are 1 clusters with 53 cameras\u001b[0m\n",
      "\u001b[34mThere are 1 clusters with 54 cameras\u001b[0m\n",
      "\u001b[34mThere are 2 clusters with 57 cameras\u001b[0m\n",
      "\u001b[34mThere are 1 clusters with 58 cameras\u001b[0m\n",
      "\u001b[34mThere are 3 clusters with 59 cameras\u001b[0m\n",
      "\u001b[34mThere are 3 clusters with 60 cameras\u001b[0m\n",
      "\u001b[34mThere are 8 clusters with 61 cameras\u001b[0m\n",
      "\u001b[34mThere are 10 clusters with 62 cameras\u001b[0m\n",
      "\u001b[34mThere are 25 clusters with 63 cameras\u001b[0m\n",
      "\u001b[34mThere are 494 clusters with 64 cameras\u001b[0m\n",
      "\u001b[34mThere are 1 clusters with 92 cameras\u001b[0m\n",
      "\u001b[34mThere are 1 clusters with 97 cameras\u001b[0m\n",
      "\u001b[34mThere are 1 clusters with 120 cameras\u001b[0m\n",
      "\u001b[34mThere are 1 clusters with 121 cameras\u001b[0m\n",
      "\u001b[34mThere are 1 clusters with 122 cameras\u001b[0m\n",
      "\u001b[34mThere are 1 clusters with 124 cameras\u001b[0m\n",
      "\u001b[34mThere are 1 clusters with 125 cameras\u001b[0m\n",
      "\u001b[34mThere are 1 clusters with 126 cameras\u001b[0m\n",
      "\u001b[34mThere are 6 clusters with 127 cameras\u001b[0m\n",
      "\u001b[34mThere are 10 clusters with 128 cameras\u001b[0m\n",
      "Number of classes: 592\n",
      "\u001b[36mLearning Rate: 0.000350\u001b[0m\n",
      "encontrou modelos mobilenet. Carregando...\n",
      "encontrou modelos vgg16. Carregando...\n",
      "encontrou modelos resnet50. Carregando...\n",
      "encontrou modelos osnet. Carregando...\n",
      "encontrou modelos densenet121. Carregando...\n",
      "###============ Iteration number 34/90 ============###\n",
      "Extracting Online Features for mobilenet ...\n",
      "Features extracted in 154.46 seconds\n",
      "Computing jaccard distance...\n"
     ]
    },
    {
     "name": "stderr",
     "output_type": "stream",
     "text": [
      "bruteForceKnn is deprecated; call bfKnn instead\n"
     ]
    },
    {
     "name": "stdout",
     "output_type": "stream",
     "text": [
      "Jaccard distance computing time cost: 76.04569602012634\n",
      "Extracting Online Features for vgg16 ...\n",
      "Features extracted in 159.54 seconds\n",
      "Computing jaccard distance...\n"
     ]
    },
    {
     "name": "stderr",
     "output_type": "stream",
     "text": [
      "bruteForceKnn is deprecated; call bfKnn instead\n"
     ]
    },
    {
     "name": "stdout",
     "output_type": "stream",
     "text": [
      "Jaccard distance computing time cost: 74.25635623931885\n",
      "Extracting Online Features for resnet50 ...\n",
      "Features extracted in 154.23 seconds\n",
      "Computing jaccard distance...\n"
     ]
    },
    {
     "name": "stderr",
     "output_type": "stream",
     "text": [
      "bruteForceKnn is deprecated; call bfKnn instead\n"
     ]
    },
    {
     "name": "stdout",
     "output_type": "stream",
     "text": [
      "Jaccard distance computing time cost: 74.31875038146973\n",
      "Extracting Online Features for osnet ...\n",
      "Features extracted in 156.38 seconds\n",
      "Computing jaccard distance...\n"
     ]
    },
    {
     "name": "stderr",
     "output_type": "stream",
     "text": [
      "bruteForceKnn is deprecated; call bfKnn instead\n"
     ]
    },
    {
     "name": "stdout",
     "output_type": "stream",
     "text": [
      "Jaccard distance computing time cost: 82.46663665771484\n",
      "Extracting Online Features for densenet121 ...\n",
      "Features extracted in 158.18 seconds\n",
      "Computing jaccard distance...\n"
     ]
    },
    {
     "name": "stderr",
     "output_type": "stream",
     "text": [
      "bruteForceKnn is deprecated; call bfKnn instead\n"
     ]
    },
    {
     "name": "stdout",
     "output_type": "stream",
     "text": [
      "Jaccard distance computing time cost: 85.8859760761261\n",
      "Reliability: 0.997\n",
      "\u001b[32mMean Purity: 0.01845\u001b[0m\n",
      "\u001b[34mThere are 2 clusters with 4 cameras\u001b[0m\n",
      "\u001b[34mThere are 4 clusters with 5 cameras\u001b[0m\n",
      "\u001b[34mThere are 2 clusters with 7 cameras\u001b[0m\n",
      "\u001b[34mThere are 1 clusters with 9 cameras\u001b[0m\n",
      "\u001b[34mThere are 1 clusters with 11 cameras\u001b[0m\n",
      "\u001b[34mThere are 1 clusters with 12 cameras\u001b[0m\n",
      "\u001b[34mThere are 1 clusters with 16 cameras\u001b[0m\n",
      "\u001b[34mThere are 1 clusters with 19 cameras\u001b[0m\n",
      "\u001b[34mThere are 2 clusters with 29 cameras\u001b[0m\n",
      "\u001b[34mThere are 1 clusters with 32 cameras\u001b[0m\n",
      "\u001b[34mThere are 1 clusters with 34 cameras\u001b[0m\n",
      "\u001b[34mThere are 1 clusters with 45 cameras\u001b[0m\n",
      "\u001b[34mThere are 1 clusters with 47 cameras\u001b[0m\n",
      "\u001b[34mThere are 1 clusters with 52 cameras\u001b[0m\n",
      "\u001b[34mThere are 1 clusters with 53 cameras\u001b[0m\n",
      "\u001b[34mThere are 1 clusters with 54 cameras\u001b[0m\n",
      "\u001b[34mThere are 2 clusters with 57 cameras\u001b[0m\n",
      "\u001b[34mThere are 1 clusters with 58 cameras\u001b[0m\n",
      "\u001b[34mThere are 3 clusters with 59 cameras\u001b[0m\n",
      "\u001b[34mThere are 3 clusters with 60 cameras\u001b[0m\n",
      "\u001b[34mThere are 8 clusters with 61 cameras\u001b[0m\n",
      "\u001b[34mThere are 10 clusters with 62 cameras\u001b[0m\n",
      "\u001b[34mThere are 25 clusters with 63 cameras\u001b[0m\n",
      "\u001b[34mThere are 494 clusters with 64 cameras\u001b[0m\n",
      "\u001b[34mThere are 1 clusters with 92 cameras\u001b[0m\n",
      "\u001b[34mThere are 1 clusters with 97 cameras\u001b[0m\n",
      "\u001b[34mThere are 1 clusters with 120 cameras\u001b[0m\n",
      "\u001b[34mThere are 1 clusters with 121 cameras\u001b[0m\n",
      "\u001b[34mThere are 1 clusters with 122 cameras\u001b[0m\n",
      "\u001b[34mThere are 1 clusters with 124 cameras\u001b[0m\n",
      "\u001b[34mThere are 1 clusters with 125 cameras\u001b[0m\n",
      "\u001b[34mThere are 1 clusters with 126 cameras\u001b[0m\n",
      "\u001b[34mThere are 6 clusters with 127 cameras\u001b[0m\n",
      "\u001b[34mThere are 10 clusters with 128 cameras\u001b[0m\n",
      "Number of classes: 592\n",
      "\u001b[36mLearning Rate: 0.000350\u001b[0m\n",
      "encontrou modelos mobilenet. Carregando...\n",
      "encontrou modelos vgg16. Carregando...\n",
      "encontrou modelos resnet50. Carregando...\n",
      "encontrou modelos osnet. Carregando...\n",
      "encontrou modelos densenet121. Carregando...\n",
      "###============ Iteration number 35/90 ============###\n",
      "Extracting Online Features for mobilenet ...\n",
      "Features extracted in 154.84 seconds\n",
      "Computing jaccard distance...\n"
     ]
    },
    {
     "name": "stderr",
     "output_type": "stream",
     "text": [
      "bruteForceKnn is deprecated; call bfKnn instead\n"
     ]
    },
    {
     "name": "stdout",
     "output_type": "stream",
     "text": [
      "Jaccard distance computing time cost: 76.88008213043213\n",
      "Extracting Online Features for vgg16 ...\n",
      "Features extracted in 155.14 seconds\n",
      "Computing jaccard distance...\n"
     ]
    },
    {
     "name": "stderr",
     "output_type": "stream",
     "text": [
      "bruteForceKnn is deprecated; call bfKnn instead\n"
     ]
    },
    {
     "name": "stdout",
     "output_type": "stream",
     "text": [
      "Jaccard distance computing time cost: 73.11641812324524\n",
      "Extracting Online Features for resnet50 ...\n",
      "Features extracted in 158.79 seconds\n",
      "Computing jaccard distance...\n"
     ]
    },
    {
     "name": "stderr",
     "output_type": "stream",
     "text": [
      "bruteForceKnn is deprecated; call bfKnn instead\n"
     ]
    },
    {
     "name": "stdout",
     "output_type": "stream",
     "text": [
      "Jaccard distance computing time cost: 71.98538780212402\n",
      "Extracting Online Features for osnet ...\n",
      "Features extracted in 153.91 seconds\n",
      "Computing jaccard distance...\n"
     ]
    },
    {
     "name": "stderr",
     "output_type": "stream",
     "text": [
      "bruteForceKnn is deprecated; call bfKnn instead\n"
     ]
    },
    {
     "name": "stdout",
     "output_type": "stream",
     "text": [
      "Jaccard distance computing time cost: 78.87013220787048\n",
      "Extracting Online Features for densenet121 ...\n",
      "Features extracted in 159.46 seconds\n",
      "Computing jaccard distance...\n"
     ]
    },
    {
     "name": "stderr",
     "output_type": "stream",
     "text": [
      "bruteForceKnn is deprecated; call bfKnn instead\n"
     ]
    },
    {
     "name": "stdout",
     "output_type": "stream",
     "text": [
      "Jaccard distance computing time cost: 76.01393604278564\n",
      "Reliability: 0.997\n",
      "\u001b[32mMean Purity: 0.01845\u001b[0m\n",
      "\u001b[34mThere are 2 clusters with 4 cameras\u001b[0m\n",
      "\u001b[34mThere are 4 clusters with 5 cameras\u001b[0m\n",
      "\u001b[34mThere are 2 clusters with 7 cameras\u001b[0m\n",
      "\u001b[34mThere are 1 clusters with 9 cameras\u001b[0m\n",
      "\u001b[34mThere are 1 clusters with 11 cameras\u001b[0m\n",
      "\u001b[34mThere are 1 clusters with 12 cameras\u001b[0m\n",
      "\u001b[34mThere are 1 clusters with 16 cameras\u001b[0m\n",
      "\u001b[34mThere are 1 clusters with 19 cameras\u001b[0m\n",
      "\u001b[34mThere are 2 clusters with 29 cameras\u001b[0m\n",
      "\u001b[34mThere are 1 clusters with 32 cameras\u001b[0m\n",
      "\u001b[34mThere are 1 clusters with 34 cameras\u001b[0m\n",
      "\u001b[34mThere are 1 clusters with 45 cameras\u001b[0m\n",
      "\u001b[34mThere are 1 clusters with 47 cameras\u001b[0m\n",
      "\u001b[34mThere are 1 clusters with 52 cameras\u001b[0m\n",
      "\u001b[34mThere are 1 clusters with 53 cameras\u001b[0m\n",
      "\u001b[34mThere are 1 clusters with 54 cameras\u001b[0m\n",
      "\u001b[34mThere are 2 clusters with 57 cameras\u001b[0m\n",
      "\u001b[34mThere are 1 clusters with 58 cameras\u001b[0m\n",
      "\u001b[34mThere are 3 clusters with 59 cameras\u001b[0m\n",
      "\u001b[34mThere are 3 clusters with 60 cameras\u001b[0m\n",
      "\u001b[34mThere are 8 clusters with 61 cameras\u001b[0m\n",
      "\u001b[34mThere are 10 clusters with 62 cameras\u001b[0m\n",
      "\u001b[34mThere are 25 clusters with 63 cameras\u001b[0m\n",
      "\u001b[34mThere are 494 clusters with 64 cameras\u001b[0m\n",
      "\u001b[34mThere are 1 clusters with 92 cameras\u001b[0m\n",
      "\u001b[34mThere are 1 clusters with 97 cameras\u001b[0m\n",
      "\u001b[34mThere are 1 clusters with 120 cameras\u001b[0m\n",
      "\u001b[34mThere are 1 clusters with 121 cameras\u001b[0m\n",
      "\u001b[34mThere are 1 clusters with 122 cameras\u001b[0m\n",
      "\u001b[34mThere are 1 clusters with 124 cameras\u001b[0m\n",
      "\u001b[34mThere are 1 clusters with 125 cameras\u001b[0m\n",
      "\u001b[34mThere are 1 clusters with 126 cameras\u001b[0m\n",
      "\u001b[34mThere are 6 clusters with 127 cameras\u001b[0m\n",
      "\u001b[34mThere are 10 clusters with 128 cameras\u001b[0m\n",
      "Number of classes: 592\n",
      "\u001b[36mLearning Rate: 0.000350\u001b[0m\n",
      "encontrou modelos mobilenet. Carregando...\n",
      "encontrou modelos vgg16. Carregando...\n",
      "encontrou modelos resnet50. Carregando...\n",
      "encontrou modelos osnet. Carregando...\n",
      "encontrou modelos densenet121. Carregando...\n",
      "\u001b[33mValidating online mobilenet ...\u001b[0m\n",
      "Features extracted in 48.38 seconds\n",
      "Features extracted in 100.87 seconds\n",
      "Computing CMC and mAP ...\n",
      "** Results **\n",
      "mAP: 71.39%\n",
      "CMC curve\n",
      "Rank-1  : 81.53%\n",
      "Rank-5  : 95.41%\n",
      "Rank-10 : 98.02%\n",
      "Rank-20 : 99.18%\n",
      "\u001b[33mValidating momentum mobilenet ...\u001b[0m\n",
      "Features extracted in 48.58 seconds\n",
      "Features extracted in 102.14 seconds\n",
      "Computing CMC and mAP ...\n",
      "** Results **\n",
      "mAP: 70.86%\n",
      "CMC curve\n",
      "Rank-1  : 78.95%\n",
      "Rank-5  : 93.89%\n",
      "Rank-10 : 97.47%\n",
      "Rank-20 : 99.27%\n",
      "\u001b[33mValidating online vgg16 ...\u001b[0m\n",
      "Features extracted in 49.21 seconds\n",
      "Features extracted in 102.16 seconds\n",
      "Computing CMC and mAP ...\n",
      "** Results **\n",
      "mAP: 69.67%\n",
      "CMC curve\n",
      "Rank-1  : 74.49%\n",
      "Rank-5  : 92.27%\n",
      "Rank-10 : 96.56%\n",
      "Rank-20 : 99.05%\n",
      "\u001b[33mValidating momentum vgg16 ...\u001b[0m\n",
      "Features extracted in 48.76 seconds\n",
      "Features extracted in 103.27 seconds\n",
      "Computing CMC and mAP ...\n",
      "** Results **\n",
      "mAP: 69.72%\n",
      "CMC curve\n",
      "Rank-1  : 75.80%\n",
      "Rank-5  : 92.91%\n",
      "Rank-10 : 97.25%\n",
      "Rank-20 : 99.09%\n",
      "\u001b[33mValidating online resnet50 ...\u001b[0m\n",
      "Features extracted in 48.98 seconds\n",
      "Features extracted in 100.91 seconds\n",
      "Computing CMC and mAP ...\n",
      "** Results **\n",
      "mAP: 69.64%\n",
      "CMC curve\n",
      "Rank-1  : 70.07%\n",
      "Rank-5  : 91.28%\n",
      "Rank-10 : 96.04%\n",
      "Rank-20 : 98.68%\n",
      "\u001b[33mValidating momentum resnet50 ...\u001b[0m\n",
      "Features extracted in 48.41 seconds\n",
      "Features extracted in 101.69 seconds\n",
      "Computing CMC and mAP ...\n",
      "** Results **\n",
      "mAP: 70.02%\n",
      "CMC curve\n",
      "Rank-1  : 73.39%\n",
      "Rank-5  : 93.49%\n",
      "Rank-10 : 97.50%\n",
      "Rank-20 : 99.37%\n",
      "\u001b[33mValidating online osnet ...\u001b[0m\n",
      "Features extracted in 49.19 seconds\n",
      "Features extracted in 101.38 seconds\n",
      "Computing CMC and mAP ...\n",
      "** Results **\n",
      "mAP: 68.61%\n",
      "CMC curve\n",
      "Rank-1  : 73.02%\n",
      "Rank-5  : 95.04%\n",
      "Rank-10 : 98.36%\n",
      "Rank-20 : 99.48%\n",
      "\u001b[33mValidating momentum osnet ...\u001b[0m\n",
      "Features extracted in 49.25 seconds\n",
      "Features extracted in 101.85 seconds\n",
      "Computing CMC and mAP ...\n",
      "** Results **\n",
      "mAP: 69.41%\n",
      "CMC curve\n",
      "Rank-1  : 73.33%\n",
      "Rank-5  : 93.06%\n",
      "Rank-10 : 97.14%\n",
      "Rank-20 : 99.12%\n",
      "\u001b[33mValidating online densenet121 ...\u001b[0m\n",
      "Features extracted in 49.33 seconds\n",
      "Features extracted in 103.43 seconds\n",
      "Computing CMC and mAP ...\n",
      "** Results **\n",
      "mAP: 70.12%\n",
      "CMC curve\n",
      "Rank-1  : 75.15%\n",
      "Rank-5  : 92.89%\n",
      "Rank-10 : 97.00%\n",
      "Rank-20 : 98.95%\n",
      "\u001b[33mValidating momentum densenet121 ...\u001b[0m\n",
      "Features extracted in 50.03 seconds\n",
      "Features extracted in 102.51 seconds\n",
      "Computing CMC and mAP ...\n",
      "** Results **\n",
      "mAP: 69.53%\n",
      "CMC curve\n",
      "Rank-1  : 75.91%\n",
      "Rank-5  : 93.33%\n",
      "Rank-10 : 97.31%\n",
      "Rank-20 : 99.25%\n",
      "\u001b[33mValidating ensembled with online models ...\u001b[0m\n",
      "Computing CMC and mAP ...\n",
      "** Results **\n",
      "mAP: 70.82%\n",
      "Ranks:\n",
      "Rank-1  : 78.15%\n",
      "Rank-5  : 92.64%\n",
      "Rank-10 : 96.59%\n",
      "\u001b[33mValidating ensembled with momentum models ...\u001b[0m\n",
      "Computing CMC and mAP ...\n",
      "** Results **\n",
      "mAP: 70.51%\n",
      "Ranks:\n",
      "Rank-1  : 78.02%\n",
      "Rank-5  : 92.58%\n",
      "Rank-10 : 96.55%\n",
      "###============ Iteration number 36/90 ============###\n",
      "Extracting Online Features for mobilenet ...\n",
      "Features extracted in 158.67 seconds\n",
      "Computing jaccard distance...\n"
     ]
    },
    {
     "name": "stderr",
     "output_type": "stream",
     "text": [
      "bruteForceKnn is deprecated; call bfKnn instead\n"
     ]
    },
    {
     "name": "stdout",
     "output_type": "stream",
     "text": [
      "Jaccard distance computing time cost: 80.63951134681702\n",
      "Extracting Online Features for vgg16 ...\n",
      "Features extracted in 155.22 seconds\n",
      "Computing jaccard distance...\n"
     ]
    },
    {
     "name": "stderr",
     "output_type": "stream",
     "text": [
      "bruteForceKnn is deprecated; call bfKnn instead\n"
     ]
    },
    {
     "name": "stdout",
     "output_type": "stream",
     "text": [
      "Jaccard distance computing time cost: 78.92008590698242\n",
      "Extracting Online Features for resnet50 ...\n",
      "Features extracted in 158.90 seconds\n",
      "Computing jaccard distance...\n"
     ]
    },
    {
     "name": "stderr",
     "output_type": "stream",
     "text": [
      "bruteForceKnn is deprecated; call bfKnn instead\n"
     ]
    },
    {
     "name": "stdout",
     "output_type": "stream",
     "text": [
      "Jaccard distance computing time cost: 73.34517288208008\n",
      "Extracting Online Features for osnet ...\n",
      "Features extracted in 155.09 seconds\n",
      "Computing jaccard distance...\n"
     ]
    },
    {
     "name": "stderr",
     "output_type": "stream",
     "text": [
      "bruteForceKnn is deprecated; call bfKnn instead\n"
     ]
    },
    {
     "name": "stdout",
     "output_type": "stream",
     "text": [
      "Jaccard distance computing time cost: 71.1226098537445\n",
      "Extracting Online Features for densenet121 ...\n",
      "Features extracted in 154.39 seconds\n",
      "Computing jaccard distance...\n"
     ]
    },
    {
     "name": "stderr",
     "output_type": "stream",
     "text": [
      "bruteForceKnn is deprecated; call bfKnn instead\n"
     ]
    },
    {
     "name": "stdout",
     "output_type": "stream",
     "text": [
      "Jaccard distance computing time cost: 71.99793410301208\n",
      "Reliability: 0.997\n",
      "\u001b[32mMean Purity: 0.01845\u001b[0m\n",
      "\u001b[34mThere are 2 clusters with 4 cameras\u001b[0m\n",
      "\u001b[34mThere are 4 clusters with 5 cameras\u001b[0m\n",
      "\u001b[34mThere are 2 clusters with 7 cameras\u001b[0m\n",
      "\u001b[34mThere are 1 clusters with 9 cameras\u001b[0m\n",
      "\u001b[34mThere are 1 clusters with 11 cameras\u001b[0m\n",
      "\u001b[34mThere are 1 clusters with 12 cameras\u001b[0m\n",
      "\u001b[34mThere are 1 clusters with 16 cameras\u001b[0m\n",
      "\u001b[34mThere are 1 clusters with 19 cameras\u001b[0m\n",
      "\u001b[34mThere are 2 clusters with 29 cameras\u001b[0m\n",
      "\u001b[34mThere are 1 clusters with 32 cameras\u001b[0m\n",
      "\u001b[34mThere are 1 clusters with 34 cameras\u001b[0m\n",
      "\u001b[34mThere are 1 clusters with 45 cameras\u001b[0m\n",
      "\u001b[34mThere are 1 clusters with 47 cameras\u001b[0m\n",
      "\u001b[34mThere are 1 clusters with 52 cameras\u001b[0m\n",
      "\u001b[34mThere are 1 clusters with 53 cameras\u001b[0m\n",
      "\u001b[34mThere are 1 clusters with 54 cameras\u001b[0m\n",
      "\u001b[34mThere are 2 clusters with 57 cameras\u001b[0m\n",
      "\u001b[34mThere are 1 clusters with 58 cameras\u001b[0m\n",
      "\u001b[34mThere are 3 clusters with 59 cameras\u001b[0m\n",
      "\u001b[34mThere are 3 clusters with 60 cameras\u001b[0m\n",
      "\u001b[34mThere are 8 clusters with 61 cameras\u001b[0m\n",
      "\u001b[34mThere are 10 clusters with 62 cameras\u001b[0m\n",
      "\u001b[34mThere are 25 clusters with 63 cameras\u001b[0m\n",
      "\u001b[34mThere are 494 clusters with 64 cameras\u001b[0m\n",
      "\u001b[34mThere are 1 clusters with 92 cameras\u001b[0m\n",
      "\u001b[34mThere are 1 clusters with 97 cameras\u001b[0m\n",
      "\u001b[34mThere are 1 clusters with 120 cameras\u001b[0m\n",
      "\u001b[34mThere are 1 clusters with 121 cameras\u001b[0m\n",
      "\u001b[34mThere are 1 clusters with 122 cameras\u001b[0m\n",
      "\u001b[34mThere are 1 clusters with 124 cameras\u001b[0m\n",
      "\u001b[34mThere are 1 clusters with 125 cameras\u001b[0m\n",
      "\u001b[34mThere are 1 clusters with 126 cameras\u001b[0m\n",
      "\u001b[34mThere are 6 clusters with 127 cameras\u001b[0m\n",
      "\u001b[34mThere are 10 clusters with 128 cameras\u001b[0m\n",
      "Number of classes: 592\n",
      "\u001b[36mLearning Rate: 0.000350\u001b[0m\n",
      "encontrou modelos mobilenet. Carregando...\n",
      "encontrou modelos vgg16. Carregando...\n",
      "encontrou modelos resnet50. Carregando...\n",
      "encontrou modelos osnet. Carregando...\n",
      "encontrou modelos densenet121. Carregando...\n",
      "###============ Iteration number 37/90 ============###\n",
      "Extracting Online Features for mobilenet ...\n",
      "Features extracted in 155.73 seconds\n",
      "Computing jaccard distance...\n"
     ]
    },
    {
     "name": "stderr",
     "output_type": "stream",
     "text": [
      "bruteForceKnn is deprecated; call bfKnn instead\n"
     ]
    },
    {
     "name": "stdout",
     "output_type": "stream",
     "text": [
      "Jaccard distance computing time cost: 71.02595806121826\n",
      "Extracting Online Features for vgg16 ...\n",
      "Features extracted in 157.18 seconds\n",
      "Computing jaccard distance...\n"
     ]
    },
    {
     "name": "stderr",
     "output_type": "stream",
     "text": [
      "bruteForceKnn is deprecated; call bfKnn instead\n"
     ]
    },
    {
     "name": "stdout",
     "output_type": "stream",
     "text": [
      "Jaccard distance computing time cost: 72.9092333316803\n",
      "Extracting Online Features for resnet50 ...\n",
      "Features extracted in 154.91 seconds\n",
      "Computing jaccard distance...\n"
     ]
    },
    {
     "name": "stderr",
     "output_type": "stream",
     "text": [
      "bruteForceKnn is deprecated; call bfKnn instead\n"
     ]
    },
    {
     "name": "stdout",
     "output_type": "stream",
     "text": [
      "Jaccard distance computing time cost: 73.13236904144287\n",
      "Extracting Online Features for osnet ...\n",
      "Features extracted in 154.13 seconds\n",
      "Computing jaccard distance...\n"
     ]
    },
    {
     "name": "stderr",
     "output_type": "stream",
     "text": [
      "bruteForceKnn is deprecated; call bfKnn instead\n"
     ]
    },
    {
     "name": "stdout",
     "output_type": "stream",
     "text": [
      "Jaccard distance computing time cost: 71.58075308799744\n",
      "Extracting Online Features for densenet121 ...\n",
      "Features extracted in 156.83 seconds\n",
      "Computing jaccard distance...\n"
     ]
    },
    {
     "name": "stderr",
     "output_type": "stream",
     "text": [
      "bruteForceKnn is deprecated; call bfKnn instead\n"
     ]
    },
    {
     "name": "stdout",
     "output_type": "stream",
     "text": [
      "Jaccard distance computing time cost: 73.94577527046204\n",
      "Reliability: 0.997\n",
      "\u001b[32mMean Purity: 0.01845\u001b[0m\n",
      "\u001b[34mThere are 2 clusters with 4 cameras\u001b[0m\n",
      "\u001b[34mThere are 4 clusters with 5 cameras\u001b[0m\n",
      "\u001b[34mThere are 2 clusters with 7 cameras\u001b[0m\n",
      "\u001b[34mThere are 1 clusters with 9 cameras\u001b[0m\n",
      "\u001b[34mThere are 1 clusters with 11 cameras\u001b[0m\n",
      "\u001b[34mThere are 1 clusters with 12 cameras\u001b[0m\n",
      "\u001b[34mThere are 1 clusters with 16 cameras\u001b[0m\n",
      "\u001b[34mThere are 1 clusters with 19 cameras\u001b[0m\n",
      "\u001b[34mThere are 2 clusters with 29 cameras\u001b[0m\n",
      "\u001b[34mThere are 1 clusters with 32 cameras\u001b[0m\n",
      "\u001b[34mThere are 1 clusters with 34 cameras\u001b[0m\n",
      "\u001b[34mThere are 1 clusters with 45 cameras\u001b[0m\n",
      "\u001b[34mThere are 1 clusters with 47 cameras\u001b[0m\n",
      "\u001b[34mThere are 1 clusters with 52 cameras\u001b[0m\n",
      "\u001b[34mThere are 1 clusters with 53 cameras\u001b[0m\n",
      "\u001b[34mThere are 1 clusters with 54 cameras\u001b[0m\n",
      "\u001b[34mThere are 2 clusters with 57 cameras\u001b[0m\n",
      "\u001b[34mThere are 1 clusters with 58 cameras\u001b[0m\n",
      "\u001b[34mThere are 3 clusters with 59 cameras\u001b[0m\n",
      "\u001b[34mThere are 3 clusters with 60 cameras\u001b[0m\n",
      "\u001b[34mThere are 8 clusters with 61 cameras\u001b[0m\n",
      "\u001b[34mThere are 10 clusters with 62 cameras\u001b[0m\n",
      "\u001b[34mThere are 25 clusters with 63 cameras\u001b[0m\n",
      "\u001b[34mThere are 494 clusters with 64 cameras\u001b[0m\n",
      "\u001b[34mThere are 1 clusters with 92 cameras\u001b[0m\n",
      "\u001b[34mThere are 1 clusters with 97 cameras\u001b[0m\n",
      "\u001b[34mThere are 1 clusters with 120 cameras\u001b[0m\n",
      "\u001b[34mThere are 1 clusters with 121 cameras\u001b[0m\n",
      "\u001b[34mThere are 1 clusters with 122 cameras\u001b[0m\n",
      "\u001b[34mThere are 1 clusters with 124 cameras\u001b[0m\n",
      "\u001b[34mThere are 1 clusters with 125 cameras\u001b[0m\n",
      "\u001b[34mThere are 1 clusters with 126 cameras\u001b[0m\n",
      "\u001b[34mThere are 6 clusters with 127 cameras\u001b[0m\n",
      "\u001b[34mThere are 10 clusters with 128 cameras\u001b[0m\n",
      "Number of classes: 592\n",
      "\u001b[36mLearning Rate: 0.000350\u001b[0m\n",
      "encontrou modelos mobilenet. Carregando...\n",
      "encontrou modelos vgg16. Carregando...\n",
      "encontrou modelos resnet50. Carregando...\n",
      "encontrou modelos osnet. Carregando...\n",
      "encontrou modelos densenet121. Carregando...\n",
      "###============ Iteration number 38/90 ============###\n",
      "Extracting Online Features for mobilenet ...\n",
      "Features extracted in 156.97 seconds\n",
      "Computing jaccard distance...\n"
     ]
    },
    {
     "name": "stderr",
     "output_type": "stream",
     "text": [
      "bruteForceKnn is deprecated; call bfKnn instead\n"
     ]
    },
    {
     "name": "stdout",
     "output_type": "stream",
     "text": [
      "Jaccard distance computing time cost: 78.88307285308838\n",
      "Extracting Online Features for vgg16 ...\n",
      "Features extracted in 155.88 seconds\n",
      "Computing jaccard distance...\n"
     ]
    },
    {
     "name": "stderr",
     "output_type": "stream",
     "text": [
      "bruteForceKnn is deprecated; call bfKnn instead\n"
     ]
    },
    {
     "name": "stdout",
     "output_type": "stream",
     "text": [
      "Jaccard distance computing time cost: 70.15985441207886\n",
      "Extracting Online Features for resnet50 ...\n",
      "Features extracted in 157.90 seconds\n",
      "Computing jaccard distance...\n"
     ]
    },
    {
     "name": "stderr",
     "output_type": "stream",
     "text": [
      "bruteForceKnn is deprecated; call bfKnn instead\n"
     ]
    },
    {
     "name": "stdout",
     "output_type": "stream",
     "text": [
      "Jaccard distance computing time cost: 74.34739398956299\n",
      "Extracting Online Features for osnet ...\n",
      "Features extracted in 153.44 seconds\n",
      "Computing jaccard distance...\n"
     ]
    },
    {
     "name": "stderr",
     "output_type": "stream",
     "text": [
      "bruteForceKnn is deprecated; call bfKnn instead\n"
     ]
    },
    {
     "name": "stdout",
     "output_type": "stream",
     "text": [
      "Jaccard distance computing time cost: 77.16642117500305\n",
      "Extracting Online Features for densenet121 ...\n",
      "Features extracted in 157.22 seconds\n",
      "Computing jaccard distance...\n"
     ]
    },
    {
     "name": "stderr",
     "output_type": "stream",
     "text": [
      "bruteForceKnn is deprecated; call bfKnn instead\n"
     ]
    },
    {
     "name": "stdout",
     "output_type": "stream",
     "text": [
      "Jaccard distance computing time cost: 71.84532952308655\n",
      "Reliability: 0.997\n",
      "\u001b[32mMean Purity: 0.01845\u001b[0m\n",
      "\u001b[34mThere are 2 clusters with 4 cameras\u001b[0m\n",
      "\u001b[34mThere are 4 clusters with 5 cameras\u001b[0m\n",
      "\u001b[34mThere are 2 clusters with 7 cameras\u001b[0m\n",
      "\u001b[34mThere are 1 clusters with 9 cameras\u001b[0m\n",
      "\u001b[34mThere are 1 clusters with 11 cameras\u001b[0m\n",
      "\u001b[34mThere are 1 clusters with 12 cameras\u001b[0m\n",
      "\u001b[34mThere are 1 clusters with 16 cameras\u001b[0m\n",
      "\u001b[34mThere are 1 clusters with 19 cameras\u001b[0m\n",
      "\u001b[34mThere are 2 clusters with 29 cameras\u001b[0m\n",
      "\u001b[34mThere are 1 clusters with 32 cameras\u001b[0m\n",
      "\u001b[34mThere are 1 clusters with 34 cameras\u001b[0m\n",
      "\u001b[34mThere are 1 clusters with 45 cameras\u001b[0m\n",
      "\u001b[34mThere are 1 clusters with 47 cameras\u001b[0m\n",
      "\u001b[34mThere are 1 clusters with 52 cameras\u001b[0m\n",
      "\u001b[34mThere are 1 clusters with 53 cameras\u001b[0m\n",
      "\u001b[34mThere are 1 clusters with 54 cameras\u001b[0m\n",
      "\u001b[34mThere are 2 clusters with 57 cameras\u001b[0m\n",
      "\u001b[34mThere are 1 clusters with 58 cameras\u001b[0m\n",
      "\u001b[34mThere are 3 clusters with 59 cameras\u001b[0m\n",
      "\u001b[34mThere are 3 clusters with 60 cameras\u001b[0m\n",
      "\u001b[34mThere are 8 clusters with 61 cameras\u001b[0m\n",
      "\u001b[34mThere are 10 clusters with 62 cameras\u001b[0m\n",
      "\u001b[34mThere are 25 clusters with 63 cameras\u001b[0m\n",
      "\u001b[34mThere are 494 clusters with 64 cameras\u001b[0m\n",
      "\u001b[34mThere are 1 clusters with 92 cameras\u001b[0m\n",
      "\u001b[34mThere are 1 clusters with 97 cameras\u001b[0m\n",
      "\u001b[34mThere are 1 clusters with 120 cameras\u001b[0m\n",
      "\u001b[34mThere are 1 clusters with 121 cameras\u001b[0m\n",
      "\u001b[34mThere are 1 clusters with 122 cameras\u001b[0m\n",
      "\u001b[34mThere are 1 clusters with 124 cameras\u001b[0m\n",
      "\u001b[34mThere are 1 clusters with 125 cameras\u001b[0m\n",
      "\u001b[34mThere are 1 clusters with 126 cameras\u001b[0m\n",
      "\u001b[34mThere are 6 clusters with 127 cameras\u001b[0m\n",
      "\u001b[34mThere are 10 clusters with 128 cameras\u001b[0m\n",
      "Number of classes: 592\n",
      "\u001b[36mLearning Rate: 0.000350\u001b[0m\n",
      "encontrou modelos mobilenet. Carregando...\n",
      "encontrou modelos vgg16. Carregando...\n",
      "encontrou modelos resnet50. Carregando...\n",
      "encontrou modelos osnet. Carregando...\n",
      "encontrou modelos densenet121. Carregando...\n",
      "###============ Iteration number 39/90 ============###\n",
      "Extracting Online Features for mobilenet ...\n",
      "Features extracted in 155.56 seconds\n",
      "Computing jaccard distance...\n"
     ]
    },
    {
     "name": "stderr",
     "output_type": "stream",
     "text": [
      "bruteForceKnn is deprecated; call bfKnn instead\n"
     ]
    },
    {
     "name": "stdout",
     "output_type": "stream",
     "text": [
      "Jaccard distance computing time cost: 74.4839277267456\n",
      "Extracting Online Features for vgg16 ...\n",
      "Features extracted in 157.94 seconds\n",
      "Computing jaccard distance...\n"
     ]
    },
    {
     "name": "stderr",
     "output_type": "stream",
     "text": [
      "bruteForceKnn is deprecated; call bfKnn instead\n"
     ]
    },
    {
     "name": "stdout",
     "output_type": "stream",
     "text": [
      "Jaccard distance computing time cost: 82.3826687335968\n",
      "Extracting Online Features for resnet50 ...\n",
      "Features extracted in 157.27 seconds\n",
      "Computing jaccard distance...\n"
     ]
    },
    {
     "name": "stderr",
     "output_type": "stream",
     "text": [
      "bruteForceKnn is deprecated; call bfKnn instead\n"
     ]
    },
    {
     "name": "stdout",
     "output_type": "stream",
     "text": [
      "Jaccard distance computing time cost: 79.3742561340332\n",
      "Extracting Online Features for osnet ...\n",
      "Features extracted in 159.26 seconds\n",
      "Computing jaccard distance...\n"
     ]
    },
    {
     "name": "stderr",
     "output_type": "stream",
     "text": [
      "bruteForceKnn is deprecated; call bfKnn instead\n"
     ]
    },
    {
     "name": "stdout",
     "output_type": "stream",
     "text": [
      "Jaccard distance computing time cost: 78.35266780853271\n",
      "Extracting Online Features for densenet121 ...\n",
      "Features extracted in 156.51 seconds\n",
      "Computing jaccard distance...\n"
     ]
    },
    {
     "name": "stderr",
     "output_type": "stream",
     "text": [
      "bruteForceKnn is deprecated; call bfKnn instead\n"
     ]
    },
    {
     "name": "stdout",
     "output_type": "stream",
     "text": [
      "Jaccard distance computing time cost: 71.160724401474\n",
      "Reliability: 0.997\n",
      "\u001b[32mMean Purity: 0.01845\u001b[0m\n",
      "\u001b[34mThere are 2 clusters with 4 cameras\u001b[0m\n",
      "\u001b[34mThere are 4 clusters with 5 cameras\u001b[0m\n",
      "\u001b[34mThere are 2 clusters with 7 cameras\u001b[0m\n",
      "\u001b[34mThere are 1 clusters with 9 cameras\u001b[0m\n",
      "\u001b[34mThere are 1 clusters with 11 cameras\u001b[0m\n",
      "\u001b[34mThere are 1 clusters with 12 cameras\u001b[0m\n",
      "\u001b[34mThere are 1 clusters with 16 cameras\u001b[0m\n",
      "\u001b[34mThere are 1 clusters with 19 cameras\u001b[0m\n",
      "\u001b[34mThere are 2 clusters with 29 cameras\u001b[0m\n",
      "\u001b[34mThere are 1 clusters with 32 cameras\u001b[0m\n",
      "\u001b[34mThere are 1 clusters with 34 cameras\u001b[0m\n",
      "\u001b[34mThere are 1 clusters with 45 cameras\u001b[0m\n",
      "\u001b[34mThere are 1 clusters with 47 cameras\u001b[0m\n",
      "\u001b[34mThere are 1 clusters with 52 cameras\u001b[0m\n",
      "\u001b[34mThere are 1 clusters with 53 cameras\u001b[0m\n",
      "\u001b[34mThere are 1 clusters with 54 cameras\u001b[0m\n",
      "\u001b[34mThere are 2 clusters with 57 cameras\u001b[0m\n",
      "\u001b[34mThere are 1 clusters with 58 cameras\u001b[0m\n",
      "\u001b[34mThere are 3 clusters with 59 cameras\u001b[0m\n",
      "\u001b[34mThere are 3 clusters with 60 cameras\u001b[0m\n",
      "\u001b[34mThere are 8 clusters with 61 cameras\u001b[0m\n",
      "\u001b[34mThere are 10 clusters with 62 cameras\u001b[0m\n",
      "\u001b[34mThere are 25 clusters with 63 cameras\u001b[0m\n",
      "\u001b[34mThere are 494 clusters with 64 cameras\u001b[0m\n",
      "\u001b[34mThere are 1 clusters with 92 cameras\u001b[0m\n",
      "\u001b[34mThere are 1 clusters with 97 cameras\u001b[0m\n",
      "\u001b[34mThere are 1 clusters with 120 cameras\u001b[0m\n",
      "\u001b[34mThere are 1 clusters with 121 cameras\u001b[0m\n",
      "\u001b[34mThere are 1 clusters with 122 cameras\u001b[0m\n",
      "\u001b[34mThere are 1 clusters with 124 cameras\u001b[0m\n",
      "\u001b[34mThere are 1 clusters with 125 cameras\u001b[0m\n",
      "\u001b[34mThere are 1 clusters with 126 cameras\u001b[0m\n",
      "\u001b[34mThere are 6 clusters with 127 cameras\u001b[0m\n",
      "\u001b[34mThere are 10 clusters with 128 cameras\u001b[0m\n",
      "Number of classes: 592\n",
      "\u001b[36mLearning Rate: 0.000350\u001b[0m\n",
      "encontrou modelos mobilenet. Carregando...\n",
      "encontrou modelos vgg16. Carregando...\n",
      "encontrou modelos resnet50. Carregando...\n",
      "encontrou modelos osnet. Carregando...\n",
      "encontrou modelos densenet121. Carregando...\n",
      "###============ Iteration number 40/90 ============###\n",
      "Extracting Online Features for mobilenet ...\n",
      "Features extracted in 150.86 seconds\n",
      "Computing jaccard distance...\n"
     ]
    },
    {
     "name": "stderr",
     "output_type": "stream",
     "text": [
      "bruteForceKnn is deprecated; call bfKnn instead\n"
     ]
    },
    {
     "name": "stdout",
     "output_type": "stream",
     "text": [
      "Jaccard distance computing time cost: 78.97041702270508\n",
      "Extracting Online Features for vgg16 ...\n",
      "Features extracted in 156.64 seconds\n",
      "Computing jaccard distance...\n"
     ]
    },
    {
     "name": "stderr",
     "output_type": "stream",
     "text": [
      "bruteForceKnn is deprecated; call bfKnn instead\n"
     ]
    },
    {
     "name": "stdout",
     "output_type": "stream",
     "text": [
      "Jaccard distance computing time cost: 69.15579056739807\n",
      "Extracting Online Features for resnet50 ...\n",
      "Features extracted in 159.05 seconds\n",
      "Computing jaccard distance...\n"
     ]
    },
    {
     "name": "stderr",
     "output_type": "stream",
     "text": [
      "bruteForceKnn is deprecated; call bfKnn instead\n"
     ]
    },
    {
     "name": "stdout",
     "output_type": "stream",
     "text": [
      "Jaccard distance computing time cost: 73.06313252449036\n",
      "Extracting Online Features for osnet ...\n",
      "Features extracted in 158.56 seconds\n",
      "Computing jaccard distance...\n"
     ]
    },
    {
     "name": "stderr",
     "output_type": "stream",
     "text": [
      "bruteForceKnn is deprecated; call bfKnn instead\n"
     ]
    },
    {
     "name": "stdout",
     "output_type": "stream",
     "text": [
      "Jaccard distance computing time cost: 78.52955436706543\n",
      "Extracting Online Features for densenet121 ...\n",
      "Features extracted in 158.82 seconds\n",
      "Computing jaccard distance...\n"
     ]
    },
    {
     "name": "stderr",
     "output_type": "stream",
     "text": [
      "bruteForceKnn is deprecated; call bfKnn instead\n"
     ]
    },
    {
     "name": "stdout",
     "output_type": "stream",
     "text": [
      "Jaccard distance computing time cost: 77.03369498252869\n",
      "Reliability: 0.997\n",
      "\u001b[32mMean Purity: 0.01845\u001b[0m\n",
      "\u001b[34mThere are 2 clusters with 4 cameras\u001b[0m\n",
      "\u001b[34mThere are 4 clusters with 5 cameras\u001b[0m\n",
      "\u001b[34mThere are 2 clusters with 7 cameras\u001b[0m\n",
      "\u001b[34mThere are 1 clusters with 9 cameras\u001b[0m\n",
      "\u001b[34mThere are 1 clusters with 11 cameras\u001b[0m\n",
      "\u001b[34mThere are 1 clusters with 12 cameras\u001b[0m\n",
      "\u001b[34mThere are 1 clusters with 16 cameras\u001b[0m\n",
      "\u001b[34mThere are 1 clusters with 19 cameras\u001b[0m\n",
      "\u001b[34mThere are 2 clusters with 29 cameras\u001b[0m\n",
      "\u001b[34mThere are 1 clusters with 32 cameras\u001b[0m\n",
      "\u001b[34mThere are 1 clusters with 34 cameras\u001b[0m\n",
      "\u001b[34mThere are 1 clusters with 45 cameras\u001b[0m\n",
      "\u001b[34mThere are 1 clusters with 47 cameras\u001b[0m\n",
      "\u001b[34mThere are 1 clusters with 52 cameras\u001b[0m\n",
      "\u001b[34mThere are 1 clusters with 53 cameras\u001b[0m\n",
      "\u001b[34mThere are 1 clusters with 54 cameras\u001b[0m\n",
      "\u001b[34mThere are 2 clusters with 57 cameras\u001b[0m\n",
      "\u001b[34mThere are 1 clusters with 58 cameras\u001b[0m\n",
      "\u001b[34mThere are 3 clusters with 59 cameras\u001b[0m\n",
      "\u001b[34mThere are 3 clusters with 60 cameras\u001b[0m\n",
      "\u001b[34mThere are 8 clusters with 61 cameras\u001b[0m\n",
      "\u001b[34mThere are 10 clusters with 62 cameras\u001b[0m\n",
      "\u001b[34mThere are 25 clusters with 63 cameras\u001b[0m\n",
      "\u001b[34mThere are 494 clusters with 64 cameras\u001b[0m\n",
      "\u001b[34mThere are 1 clusters with 92 cameras\u001b[0m\n",
      "\u001b[34mThere are 1 clusters with 97 cameras\u001b[0m\n",
      "\u001b[34mThere are 1 clusters with 120 cameras\u001b[0m\n",
      "\u001b[34mThere are 1 clusters with 121 cameras\u001b[0m\n",
      "\u001b[34mThere are 1 clusters with 122 cameras\u001b[0m\n",
      "\u001b[34mThere are 1 clusters with 124 cameras\u001b[0m\n",
      "\u001b[34mThere are 1 clusters with 125 cameras\u001b[0m\n",
      "\u001b[34mThere are 1 clusters with 126 cameras\u001b[0m\n",
      "\u001b[34mThere are 6 clusters with 127 cameras\u001b[0m\n",
      "\u001b[34mThere are 10 clusters with 128 cameras\u001b[0m\n",
      "Number of classes: 592\n",
      "\u001b[36mLearning Rate: 0.000350\u001b[0m\n",
      "encontrou modelos mobilenet. Carregando...\n",
      "encontrou modelos vgg16. Carregando...\n",
      "encontrou modelos resnet50. Carregando...\n",
      "encontrou modelos osnet. Carregando...\n",
      "encontrou modelos densenet121. Carregando...\n",
      "\u001b[33mValidating online mobilenet ...\u001b[0m\n",
      "Features extracted in 48.47 seconds\n",
      "Features extracted in 100.08 seconds\n",
      "Computing CMC and mAP ...\n",
      "** Results **\n",
      "mAP: 71.39%\n",
      "CMC curve\n",
      "Rank-1  : 81.53%\n",
      "Rank-5  : 95.41%\n",
      "Rank-10 : 98.02%\n",
      "Rank-20 : 99.18%\n",
      "\u001b[33mValidating momentum mobilenet ...\u001b[0m\n",
      "Features extracted in 48.11 seconds\n",
      "Features extracted in 100.50 seconds\n",
      "Computing CMC and mAP ...\n",
      "** Results **\n",
      "mAP: 70.86%\n",
      "CMC curve\n",
      "Rank-1  : 78.95%\n",
      "Rank-5  : 93.89%\n",
      "Rank-10 : 97.47%\n",
      "Rank-20 : 99.27%\n",
      "\u001b[33mValidating online vgg16 ...\u001b[0m\n",
      "Features extracted in 48.87 seconds\n",
      "Features extracted in 103.72 seconds\n",
      "Computing CMC and mAP ...\n",
      "** Results **\n",
      "mAP: 69.67%\n",
      "CMC curve\n",
      "Rank-1  : 74.49%\n",
      "Rank-5  : 92.27%\n",
      "Rank-10 : 96.56%\n",
      "Rank-20 : 99.05%\n",
      "\u001b[33mValidating momentum vgg16 ...\u001b[0m\n",
      "Features extracted in 49.03 seconds\n",
      "Features extracted in 102.92 seconds\n",
      "Computing CMC and mAP ...\n",
      "** Results **\n",
      "mAP: 69.72%\n",
      "CMC curve\n",
      "Rank-1  : 75.80%\n",
      "Rank-5  : 92.91%\n",
      "Rank-10 : 97.25%\n",
      "Rank-20 : 99.09%\n",
      "\u001b[33mValidating online resnet50 ...\u001b[0m\n",
      "Features extracted in 48.93 seconds\n",
      "Features extracted in 101.49 seconds\n",
      "Computing CMC and mAP ...\n",
      "** Results **\n",
      "mAP: 69.64%\n",
      "CMC curve\n",
      "Rank-1  : 70.07%\n",
      "Rank-5  : 91.28%\n",
      "Rank-10 : 96.04%\n",
      "Rank-20 : 98.68%\n",
      "\u001b[33mValidating momentum resnet50 ...\u001b[0m\n",
      "Features extracted in 49.21 seconds\n",
      "Features extracted in 102.09 seconds\n",
      "Computing CMC and mAP ...\n",
      "** Results **\n",
      "mAP: 70.02%\n",
      "CMC curve\n",
      "Rank-1  : 73.39%\n",
      "Rank-5  : 93.49%\n",
      "Rank-10 : 97.50%\n",
      "Rank-20 : 99.37%\n",
      "\u001b[33mValidating online osnet ...\u001b[0m\n",
      "Features extracted in 48.96 seconds\n",
      "Features extracted in 100.42 seconds\n",
      "Computing CMC and mAP ...\n",
      "** Results **\n",
      "mAP: 68.61%\n",
      "CMC curve\n",
      "Rank-1  : 73.02%\n",
      "Rank-5  : 95.04%\n",
      "Rank-10 : 98.36%\n",
      "Rank-20 : 99.48%\n",
      "\u001b[33mValidating momentum osnet ...\u001b[0m\n",
      "Features extracted in 49.34 seconds\n",
      "Features extracted in 102.28 seconds\n",
      "Computing CMC and mAP ...\n",
      "** Results **\n",
      "mAP: 69.41%\n",
      "CMC curve\n",
      "Rank-1  : 73.33%\n",
      "Rank-5  : 93.06%\n",
      "Rank-10 : 97.14%\n",
      "Rank-20 : 99.12%\n",
      "\u001b[33mValidating online densenet121 ...\u001b[0m\n",
      "Features extracted in 50.16 seconds\n",
      "Features extracted in 102.42 seconds\n",
      "Computing CMC and mAP ...\n",
      "** Results **\n",
      "mAP: 70.12%\n",
      "CMC curve\n",
      "Rank-1  : 75.15%\n",
      "Rank-5  : 92.89%\n",
      "Rank-10 : 97.00%\n",
      "Rank-20 : 98.95%\n",
      "\u001b[33mValidating momentum densenet121 ...\u001b[0m\n",
      "Features extracted in 51.24 seconds\n",
      "Features extracted in 103.15 seconds\n",
      "Computing CMC and mAP ...\n",
      "** Results **\n",
      "mAP: 69.53%\n",
      "CMC curve\n",
      "Rank-1  : 75.91%\n",
      "Rank-5  : 93.33%\n",
      "Rank-10 : 97.31%\n",
      "Rank-20 : 99.25%\n",
      "\u001b[33mValidating ensembled with online models ...\u001b[0m\n",
      "Computing CMC and mAP ...\n",
      "** Results **\n",
      "mAP: 70.82%\n",
      "Ranks:\n",
      "Rank-1  : 78.15%\n",
      "Rank-5  : 92.64%\n",
      "Rank-10 : 96.59%\n",
      "\u001b[33mValidating ensembled with momentum models ...\u001b[0m\n",
      "Computing CMC and mAP ...\n",
      "** Results **\n",
      "mAP: 70.51%\n",
      "Ranks:\n",
      "Rank-1  : 78.02%\n",
      "Rank-5  : 92.58%\n",
      "Rank-10 : 96.55%\n",
      "###============ Iteration number 41/90 ============###\n",
      "Extracting Online Features for mobilenet ...\n",
      "Features extracted in 159.62 seconds\n",
      "Computing jaccard distance...\n"
     ]
    },
    {
     "name": "stderr",
     "output_type": "stream",
     "text": [
      "bruteForceKnn is deprecated; call bfKnn instead\n"
     ]
    },
    {
     "name": "stdout",
     "output_type": "stream",
     "text": [
      "Jaccard distance computing time cost: 75.98331689834595\n",
      "Extracting Online Features for vgg16 ...\n",
      "Features extracted in 161.41 seconds\n",
      "Computing jaccard distance...\n"
     ]
    },
    {
     "name": "stderr",
     "output_type": "stream",
     "text": [
      "bruteForceKnn is deprecated; call bfKnn instead\n"
     ]
    },
    {
     "name": "stdout",
     "output_type": "stream",
     "text": [
      "Jaccard distance computing time cost: 67.77860379219055\n",
      "Extracting Online Features for resnet50 ...\n",
      "Features extracted in 157.21 seconds\n",
      "Computing jaccard distance...\n"
     ]
    },
    {
     "name": "stderr",
     "output_type": "stream",
     "text": [
      "bruteForceKnn is deprecated; call bfKnn instead\n"
     ]
    },
    {
     "name": "stdout",
     "output_type": "stream",
     "text": [
      "Jaccard distance computing time cost: 72.15384984016418\n",
      "Extracting Online Features for osnet ...\n",
      "Features extracted in 153.76 seconds\n",
      "Computing jaccard distance...\n"
     ]
    },
    {
     "name": "stderr",
     "output_type": "stream",
     "text": [
      "bruteForceKnn is deprecated; call bfKnn instead\n"
     ]
    },
    {
     "name": "stdout",
     "output_type": "stream",
     "text": [
      "Jaccard distance computing time cost: 68.67390561103821\n",
      "Extracting Online Features for densenet121 ...\n",
      "Features extracted in 156.84 seconds\n",
      "Computing jaccard distance...\n"
     ]
    },
    {
     "name": "stderr",
     "output_type": "stream",
     "text": [
      "bruteForceKnn is deprecated; call bfKnn instead\n"
     ]
    },
    {
     "name": "stdout",
     "output_type": "stream",
     "text": [
      "Jaccard distance computing time cost: 77.65739107131958\n",
      "Reliability: 0.997\n",
      "\u001b[32mMean Purity: 0.01845\u001b[0m\n",
      "\u001b[34mThere are 2 clusters with 4 cameras\u001b[0m\n",
      "\u001b[34mThere are 4 clusters with 5 cameras\u001b[0m\n",
      "\u001b[34mThere are 2 clusters with 7 cameras\u001b[0m\n",
      "\u001b[34mThere are 1 clusters with 9 cameras\u001b[0m\n",
      "\u001b[34mThere are 1 clusters with 11 cameras\u001b[0m\n",
      "\u001b[34mThere are 1 clusters with 12 cameras\u001b[0m\n",
      "\u001b[34mThere are 1 clusters with 16 cameras\u001b[0m\n",
      "\u001b[34mThere are 1 clusters with 19 cameras\u001b[0m\n",
      "\u001b[34mThere are 2 clusters with 29 cameras\u001b[0m\n",
      "\u001b[34mThere are 1 clusters with 32 cameras\u001b[0m\n",
      "\u001b[34mThere are 1 clusters with 34 cameras\u001b[0m\n",
      "\u001b[34mThere are 1 clusters with 45 cameras\u001b[0m\n",
      "\u001b[34mThere are 1 clusters with 47 cameras\u001b[0m\n",
      "\u001b[34mThere are 1 clusters with 52 cameras\u001b[0m\n",
      "\u001b[34mThere are 1 clusters with 53 cameras\u001b[0m\n",
      "\u001b[34mThere are 1 clusters with 54 cameras\u001b[0m\n",
      "\u001b[34mThere are 2 clusters with 57 cameras\u001b[0m\n",
      "\u001b[34mThere are 1 clusters with 58 cameras\u001b[0m\n",
      "\u001b[34mThere are 3 clusters with 59 cameras\u001b[0m\n",
      "\u001b[34mThere are 3 clusters with 60 cameras\u001b[0m\n",
      "\u001b[34mThere are 8 clusters with 61 cameras\u001b[0m\n",
      "\u001b[34mThere are 10 clusters with 62 cameras\u001b[0m\n",
      "\u001b[34mThere are 25 clusters with 63 cameras\u001b[0m\n",
      "\u001b[34mThere are 494 clusters with 64 cameras\u001b[0m\n",
      "\u001b[34mThere are 1 clusters with 92 cameras\u001b[0m\n",
      "\u001b[34mThere are 1 clusters with 97 cameras\u001b[0m\n",
      "\u001b[34mThere are 1 clusters with 120 cameras\u001b[0m\n",
      "\u001b[34mThere are 1 clusters with 121 cameras\u001b[0m\n",
      "\u001b[34mThere are 1 clusters with 122 cameras\u001b[0m\n",
      "\u001b[34mThere are 1 clusters with 124 cameras\u001b[0m\n",
      "\u001b[34mThere are 1 clusters with 125 cameras\u001b[0m\n",
      "\u001b[34mThere are 1 clusters with 126 cameras\u001b[0m\n",
      "\u001b[34mThere are 6 clusters with 127 cameras\u001b[0m\n",
      "\u001b[34mThere are 10 clusters with 128 cameras\u001b[0m\n",
      "Number of classes: 592\n",
      "\u001b[36mLearning Rate: 0.000350\u001b[0m\n",
      "encontrou modelos mobilenet. Carregando...\n",
      "encontrou modelos vgg16. Carregando...\n",
      "encontrou modelos resnet50. Carregando...\n",
      "encontrou modelos osnet. Carregando...\n",
      "encontrou modelos densenet121. Carregando...\n",
      "###============ Iteration number 42/90 ============###\n",
      "Extracting Online Features for mobilenet ...\n",
      "Features extracted in 153.36 seconds\n",
      "Computing jaccard distance...\n"
     ]
    },
    {
     "name": "stderr",
     "output_type": "stream",
     "text": [
      "bruteForceKnn is deprecated; call bfKnn instead\n"
     ]
    },
    {
     "name": "stdout",
     "output_type": "stream",
     "text": [
      "Jaccard distance computing time cost: 74.52898097038269\n",
      "Extracting Online Features for vgg16 ...\n",
      "Features extracted in 157.31 seconds\n",
      "Computing jaccard distance...\n"
     ]
    },
    {
     "name": "stderr",
     "output_type": "stream",
     "text": [
      "bruteForceKnn is deprecated; call bfKnn instead\n"
     ]
    },
    {
     "name": "stdout",
     "output_type": "stream",
     "text": [
      "Jaccard distance computing time cost: 81.63571763038635\n",
      "Extracting Online Features for resnet50 ...\n",
      "Features extracted in 158.15 seconds\n",
      "Computing jaccard distance...\n"
     ]
    },
    {
     "name": "stderr",
     "output_type": "stream",
     "text": [
      "bruteForceKnn is deprecated; call bfKnn instead\n"
     ]
    },
    {
     "name": "stdout",
     "output_type": "stream",
     "text": [
      "Jaccard distance computing time cost: 78.48475360870361\n",
      "Extracting Online Features for osnet ...\n",
      "Features extracted in 158.07 seconds\n",
      "Computing jaccard distance...\n"
     ]
    },
    {
     "name": "stderr",
     "output_type": "stream",
     "text": [
      "bruteForceKnn is deprecated; call bfKnn instead\n"
     ]
    },
    {
     "name": "stdout",
     "output_type": "stream",
     "text": [
      "Jaccard distance computing time cost: 72.29425239562988\n",
      "Extracting Online Features for densenet121 ...\n",
      "Features extracted in 154.63 seconds\n",
      "Computing jaccard distance...\n"
     ]
    },
    {
     "name": "stderr",
     "output_type": "stream",
     "text": [
      "bruteForceKnn is deprecated; call bfKnn instead\n"
     ]
    },
    {
     "name": "stdout",
     "output_type": "stream",
     "text": [
      "Jaccard distance computing time cost: 82.07909631729126\n",
      "Reliability: 0.997\n",
      "\u001b[32mMean Purity: 0.01845\u001b[0m\n",
      "\u001b[34mThere are 2 clusters with 4 cameras\u001b[0m\n",
      "\u001b[34mThere are 4 clusters with 5 cameras\u001b[0m\n",
      "\u001b[34mThere are 2 clusters with 7 cameras\u001b[0m\n",
      "\u001b[34mThere are 1 clusters with 9 cameras\u001b[0m\n",
      "\u001b[34mThere are 1 clusters with 11 cameras\u001b[0m\n",
      "\u001b[34mThere are 1 clusters with 12 cameras\u001b[0m\n",
      "\u001b[34mThere are 1 clusters with 16 cameras\u001b[0m\n",
      "\u001b[34mThere are 1 clusters with 19 cameras\u001b[0m\n",
      "\u001b[34mThere are 2 clusters with 29 cameras\u001b[0m\n",
      "\u001b[34mThere are 1 clusters with 32 cameras\u001b[0m\n",
      "\u001b[34mThere are 1 clusters with 34 cameras\u001b[0m\n",
      "\u001b[34mThere are 1 clusters with 45 cameras\u001b[0m\n",
      "\u001b[34mThere are 1 clusters with 47 cameras\u001b[0m\n",
      "\u001b[34mThere are 1 clusters with 52 cameras\u001b[0m\n",
      "\u001b[34mThere are 1 clusters with 53 cameras\u001b[0m\n",
      "\u001b[34mThere are 1 clusters with 54 cameras\u001b[0m\n",
      "\u001b[34mThere are 2 clusters with 57 cameras\u001b[0m\n",
      "\u001b[34mThere are 1 clusters with 58 cameras\u001b[0m\n",
      "\u001b[34mThere are 3 clusters with 59 cameras\u001b[0m\n",
      "\u001b[34mThere are 3 clusters with 60 cameras\u001b[0m\n",
      "\u001b[34mThere are 8 clusters with 61 cameras\u001b[0m\n",
      "\u001b[34mThere are 10 clusters with 62 cameras\u001b[0m\n",
      "\u001b[34mThere are 25 clusters with 63 cameras\u001b[0m\n",
      "\u001b[34mThere are 494 clusters with 64 cameras\u001b[0m\n",
      "\u001b[34mThere are 1 clusters with 92 cameras\u001b[0m\n",
      "\u001b[34mThere are 1 clusters with 97 cameras\u001b[0m\n",
      "\u001b[34mThere are 1 clusters with 120 cameras\u001b[0m\n",
      "\u001b[34mThere are 1 clusters with 121 cameras\u001b[0m\n",
      "\u001b[34mThere are 1 clusters with 122 cameras\u001b[0m\n",
      "\u001b[34mThere are 1 clusters with 124 cameras\u001b[0m\n",
      "\u001b[34mThere are 1 clusters with 125 cameras\u001b[0m\n",
      "\u001b[34mThere are 1 clusters with 126 cameras\u001b[0m\n",
      "\u001b[34mThere are 6 clusters with 127 cameras\u001b[0m\n",
      "\u001b[34mThere are 10 clusters with 128 cameras\u001b[0m\n",
      "Number of classes: 592\n",
      "\u001b[36mLearning Rate: 0.000350\u001b[0m\n",
      "encontrou modelos mobilenet. Carregando...\n",
      "encontrou modelos vgg16. Carregando...\n",
      "encontrou modelos resnet50. Carregando...\n",
      "encontrou modelos osnet. Carregando...\n",
      "encontrou modelos densenet121. Carregando...\n",
      "###============ Iteration number 43/90 ============###\n",
      "Extracting Online Features for mobilenet ...\n",
      "Features extracted in 154.78 seconds\n",
      "Computing jaccard distance...\n"
     ]
    },
    {
     "name": "stderr",
     "output_type": "stream",
     "text": [
      "bruteForceKnn is deprecated; call bfKnn instead\n"
     ]
    },
    {
     "name": "stdout",
     "output_type": "stream",
     "text": [
      "Jaccard distance computing time cost: 72.1640977859497\n",
      "Extracting Online Features for vgg16 ...\n",
      "Features extracted in 154.80 seconds\n",
      "Computing jaccard distance...\n"
     ]
    },
    {
     "name": "stderr",
     "output_type": "stream",
     "text": [
      "bruteForceKnn is deprecated; call bfKnn instead\n"
     ]
    },
    {
     "name": "stdout",
     "output_type": "stream",
     "text": [
      "Jaccard distance computing time cost: 74.10786652565002\n",
      "Extracting Online Features for resnet50 ...\n",
      "Features extracted in 155.54 seconds\n",
      "Computing jaccard distance...\n"
     ]
    },
    {
     "name": "stderr",
     "output_type": "stream",
     "text": [
      "bruteForceKnn is deprecated; call bfKnn instead\n"
     ]
    },
    {
     "name": "stdout",
     "output_type": "stream",
     "text": [
      "Jaccard distance computing time cost: 82.20685505867004\n",
      "Extracting Online Features for osnet ...\n",
      "Features extracted in 159.37 seconds\n",
      "Computing jaccard distance...\n"
     ]
    },
    {
     "name": "stderr",
     "output_type": "stream",
     "text": [
      "bruteForceKnn is deprecated; call bfKnn instead\n"
     ]
    },
    {
     "name": "stdout",
     "output_type": "stream",
     "text": [
      "Jaccard distance computing time cost: 70.7816641330719\n",
      "Extracting Online Features for densenet121 ...\n",
      "Features extracted in 157.20 seconds\n",
      "Computing jaccard distance...\n"
     ]
    },
    {
     "name": "stderr",
     "output_type": "stream",
     "text": [
      "bruteForceKnn is deprecated; call bfKnn instead\n"
     ]
    },
    {
     "name": "stdout",
     "output_type": "stream",
     "text": [
      "Jaccard distance computing time cost: 72.04431986808777\n",
      "Reliability: 0.997\n",
      "\u001b[32mMean Purity: 0.01845\u001b[0m\n",
      "\u001b[34mThere are 2 clusters with 4 cameras\u001b[0m\n",
      "\u001b[34mThere are 4 clusters with 5 cameras\u001b[0m\n",
      "\u001b[34mThere are 2 clusters with 7 cameras\u001b[0m\n",
      "\u001b[34mThere are 1 clusters with 9 cameras\u001b[0m\n",
      "\u001b[34mThere are 1 clusters with 11 cameras\u001b[0m\n",
      "\u001b[34mThere are 1 clusters with 12 cameras\u001b[0m\n",
      "\u001b[34mThere are 1 clusters with 16 cameras\u001b[0m\n",
      "\u001b[34mThere are 1 clusters with 19 cameras\u001b[0m\n",
      "\u001b[34mThere are 2 clusters with 29 cameras\u001b[0m\n",
      "\u001b[34mThere are 1 clusters with 32 cameras\u001b[0m\n",
      "\u001b[34mThere are 1 clusters with 34 cameras\u001b[0m\n",
      "\u001b[34mThere are 1 clusters with 45 cameras\u001b[0m\n",
      "\u001b[34mThere are 1 clusters with 47 cameras\u001b[0m\n",
      "\u001b[34mThere are 1 clusters with 52 cameras\u001b[0m\n",
      "\u001b[34mThere are 1 clusters with 53 cameras\u001b[0m\n",
      "\u001b[34mThere are 1 clusters with 54 cameras\u001b[0m\n",
      "\u001b[34mThere are 2 clusters with 57 cameras\u001b[0m\n",
      "\u001b[34mThere are 1 clusters with 58 cameras\u001b[0m\n",
      "\u001b[34mThere are 3 clusters with 59 cameras\u001b[0m\n",
      "\u001b[34mThere are 3 clusters with 60 cameras\u001b[0m\n",
      "\u001b[34mThere are 8 clusters with 61 cameras\u001b[0m\n",
      "\u001b[34mThere are 10 clusters with 62 cameras\u001b[0m\n",
      "\u001b[34mThere are 25 clusters with 63 cameras\u001b[0m\n",
      "\u001b[34mThere are 494 clusters with 64 cameras\u001b[0m\n",
      "\u001b[34mThere are 1 clusters with 92 cameras\u001b[0m\n",
      "\u001b[34mThere are 1 clusters with 97 cameras\u001b[0m\n",
      "\u001b[34mThere are 1 clusters with 120 cameras\u001b[0m\n",
      "\u001b[34mThere are 1 clusters with 121 cameras\u001b[0m\n",
      "\u001b[34mThere are 1 clusters with 122 cameras\u001b[0m\n",
      "\u001b[34mThere are 1 clusters with 124 cameras\u001b[0m\n",
      "\u001b[34mThere are 1 clusters with 125 cameras\u001b[0m\n",
      "\u001b[34mThere are 1 clusters with 126 cameras\u001b[0m\n",
      "\u001b[34mThere are 6 clusters with 127 cameras\u001b[0m\n",
      "\u001b[34mThere are 10 clusters with 128 cameras\u001b[0m\n",
      "Number of classes: 592\n",
      "\u001b[36mLearning Rate: 0.000350\u001b[0m\n",
      "encontrou modelos mobilenet. Carregando...\n",
      "encontrou modelos vgg16. Carregando...\n",
      "encontrou modelos resnet50. Carregando...\n",
      "encontrou modelos osnet. Carregando...\n",
      "encontrou modelos densenet121. Carregando...\n",
      "###============ Iteration number 44/90 ============###\n",
      "Extracting Online Features for mobilenet ...\n",
      "Features extracted in 153.55 seconds\n",
      "Computing jaccard distance...\n"
     ]
    },
    {
     "name": "stderr",
     "output_type": "stream",
     "text": [
      "bruteForceKnn is deprecated; call bfKnn instead\n"
     ]
    },
    {
     "name": "stdout",
     "output_type": "stream",
     "text": [
      "Jaccard distance computing time cost: 83.19729614257812\n",
      "Extracting Online Features for vgg16 ...\n",
      "Features extracted in 154.78 seconds\n",
      "Computing jaccard distance...\n"
     ]
    },
    {
     "name": "stderr",
     "output_type": "stream",
     "text": [
      "bruteForceKnn is deprecated; call bfKnn instead\n"
     ]
    },
    {
     "name": "stdout",
     "output_type": "stream",
     "text": [
      "Jaccard distance computing time cost: 70.26748085021973\n",
      "Extracting Online Features for resnet50 ...\n",
      "Features extracted in 155.73 seconds\n",
      "Computing jaccard distance...\n"
     ]
    },
    {
     "name": "stderr",
     "output_type": "stream",
     "text": [
      "bruteForceKnn is deprecated; call bfKnn instead\n"
     ]
    },
    {
     "name": "stdout",
     "output_type": "stream",
     "text": [
      "Jaccard distance computing time cost: 75.63427901268005\n",
      "Extracting Online Features for osnet ...\n",
      "Features extracted in 158.69 seconds\n",
      "Computing jaccard distance...\n"
     ]
    },
    {
     "name": "stderr",
     "output_type": "stream",
     "text": [
      "bruteForceKnn is deprecated; call bfKnn instead\n"
     ]
    },
    {
     "name": "stdout",
     "output_type": "stream",
     "text": [
      "Jaccard distance computing time cost: 74.42677021026611\n",
      "Extracting Online Features for densenet121 ...\n",
      "Features extracted in 157.90 seconds\n",
      "Computing jaccard distance...\n"
     ]
    },
    {
     "name": "stderr",
     "output_type": "stream",
     "text": [
      "bruteForceKnn is deprecated; call bfKnn instead\n"
     ]
    },
    {
     "name": "stdout",
     "output_type": "stream",
     "text": [
      "Jaccard distance computing time cost: 73.00367999076843\n",
      "Reliability: 0.997\n",
      "\u001b[32mMean Purity: 0.01845\u001b[0m\n",
      "\u001b[34mThere are 2 clusters with 4 cameras\u001b[0m\n",
      "\u001b[34mThere are 4 clusters with 5 cameras\u001b[0m\n",
      "\u001b[34mThere are 2 clusters with 7 cameras\u001b[0m\n",
      "\u001b[34mThere are 1 clusters with 9 cameras\u001b[0m\n",
      "\u001b[34mThere are 1 clusters with 11 cameras\u001b[0m\n",
      "\u001b[34mThere are 1 clusters with 12 cameras\u001b[0m\n",
      "\u001b[34mThere are 1 clusters with 16 cameras\u001b[0m\n",
      "\u001b[34mThere are 1 clusters with 19 cameras\u001b[0m\n",
      "\u001b[34mThere are 2 clusters with 29 cameras\u001b[0m\n",
      "\u001b[34mThere are 1 clusters with 32 cameras\u001b[0m\n",
      "\u001b[34mThere are 1 clusters with 34 cameras\u001b[0m\n",
      "\u001b[34mThere are 1 clusters with 45 cameras\u001b[0m\n",
      "\u001b[34mThere are 1 clusters with 47 cameras\u001b[0m\n",
      "\u001b[34mThere are 1 clusters with 52 cameras\u001b[0m\n",
      "\u001b[34mThere are 1 clusters with 53 cameras\u001b[0m\n",
      "\u001b[34mThere are 1 clusters with 54 cameras\u001b[0m\n",
      "\u001b[34mThere are 2 clusters with 57 cameras\u001b[0m\n",
      "\u001b[34mThere are 1 clusters with 58 cameras\u001b[0m\n",
      "\u001b[34mThere are 3 clusters with 59 cameras\u001b[0m\n",
      "\u001b[34mThere are 3 clusters with 60 cameras\u001b[0m\n",
      "\u001b[34mThere are 8 clusters with 61 cameras\u001b[0m\n",
      "\u001b[34mThere are 10 clusters with 62 cameras\u001b[0m\n",
      "\u001b[34mThere are 25 clusters with 63 cameras\u001b[0m\n",
      "\u001b[34mThere are 494 clusters with 64 cameras\u001b[0m\n",
      "\u001b[34mThere are 1 clusters with 92 cameras\u001b[0m\n",
      "\u001b[34mThere are 1 clusters with 97 cameras\u001b[0m\n",
      "\u001b[34mThere are 1 clusters with 120 cameras\u001b[0m\n",
      "\u001b[34mThere are 1 clusters with 121 cameras\u001b[0m\n",
      "\u001b[34mThere are 1 clusters with 122 cameras\u001b[0m\n",
      "\u001b[34mThere are 1 clusters with 124 cameras\u001b[0m\n",
      "\u001b[34mThere are 1 clusters with 125 cameras\u001b[0m\n",
      "\u001b[34mThere are 1 clusters with 126 cameras\u001b[0m\n",
      "\u001b[34mThere are 6 clusters with 127 cameras\u001b[0m\n",
      "\u001b[34mThere are 10 clusters with 128 cameras\u001b[0m\n",
      "Number of classes: 592\n",
      "\u001b[36mLearning Rate: 0.000350\u001b[0m\n",
      "encontrou modelos mobilenet. Carregando...\n",
      "encontrou modelos vgg16. Carregando...\n",
      "encontrou modelos resnet50. Carregando...\n",
      "encontrou modelos osnet. Carregando...\n",
      "encontrou modelos densenet121. Carregando...\n",
      "###============ Iteration number 45/90 ============###\n",
      "Extracting Online Features for mobilenet ...\n",
      "Features extracted in 154.70 seconds\n",
      "Computing jaccard distance...\n"
     ]
    },
    {
     "name": "stderr",
     "output_type": "stream",
     "text": [
      "bruteForceKnn is deprecated; call bfKnn instead\n"
     ]
    },
    {
     "name": "stdout",
     "output_type": "stream",
     "text": [
      "Jaccard distance computing time cost: 71.40707182884216\n",
      "Extracting Online Features for vgg16 ...\n",
      "Features extracted in 160.16 seconds\n",
      "Computing jaccard distance...\n"
     ]
    },
    {
     "name": "stderr",
     "output_type": "stream",
     "text": [
      "bruteForceKnn is deprecated; call bfKnn instead\n"
     ]
    },
    {
     "name": "stdout",
     "output_type": "stream",
     "text": [
      "Jaccard distance computing time cost: 80.7829942703247\n",
      "Extracting Online Features for resnet50 ...\n",
      "Features extracted in 156.63 seconds\n",
      "Computing jaccard distance...\n"
     ]
    },
    {
     "name": "stderr",
     "output_type": "stream",
     "text": [
      "bruteForceKnn is deprecated; call bfKnn instead\n"
     ]
    },
    {
     "name": "stdout",
     "output_type": "stream",
     "text": [
      "Jaccard distance computing time cost: 72.7266914844513\n",
      "Extracting Online Features for osnet ...\n",
      "Features extracted in 159.04 seconds\n",
      "Computing jaccard distance...\n"
     ]
    },
    {
     "name": "stderr",
     "output_type": "stream",
     "text": [
      "bruteForceKnn is deprecated; call bfKnn instead\n"
     ]
    },
    {
     "name": "stdout",
     "output_type": "stream",
     "text": [
      "Jaccard distance computing time cost: 71.70469069480896\n",
      "Extracting Online Features for densenet121 ...\n",
      "Features extracted in 154.05 seconds\n",
      "Computing jaccard distance...\n"
     ]
    },
    {
     "name": "stderr",
     "output_type": "stream",
     "text": [
      "bruteForceKnn is deprecated; call bfKnn instead\n"
     ]
    },
    {
     "name": "stdout",
     "output_type": "stream",
     "text": [
      "Jaccard distance computing time cost: 75.24505257606506\n",
      "Reliability: 0.997\n",
      "\u001b[32mMean Purity: 0.01845\u001b[0m\n",
      "\u001b[34mThere are 2 clusters with 4 cameras\u001b[0m\n",
      "\u001b[34mThere are 4 clusters with 5 cameras\u001b[0m\n",
      "\u001b[34mThere are 2 clusters with 7 cameras\u001b[0m\n",
      "\u001b[34mThere are 1 clusters with 9 cameras\u001b[0m\n",
      "\u001b[34mThere are 1 clusters with 11 cameras\u001b[0m\n",
      "\u001b[34mThere are 1 clusters with 12 cameras\u001b[0m\n",
      "\u001b[34mThere are 1 clusters with 16 cameras\u001b[0m\n",
      "\u001b[34mThere are 1 clusters with 19 cameras\u001b[0m\n",
      "\u001b[34mThere are 2 clusters with 29 cameras\u001b[0m\n",
      "\u001b[34mThere are 1 clusters with 32 cameras\u001b[0m\n",
      "\u001b[34mThere are 1 clusters with 34 cameras\u001b[0m\n",
      "\u001b[34mThere are 1 clusters with 45 cameras\u001b[0m\n",
      "\u001b[34mThere are 1 clusters with 47 cameras\u001b[0m\n",
      "\u001b[34mThere are 1 clusters with 52 cameras\u001b[0m\n",
      "\u001b[34mThere are 1 clusters with 53 cameras\u001b[0m\n",
      "\u001b[34mThere are 1 clusters with 54 cameras\u001b[0m\n",
      "\u001b[34mThere are 2 clusters with 57 cameras\u001b[0m\n",
      "\u001b[34mThere are 1 clusters with 58 cameras\u001b[0m\n",
      "\u001b[34mThere are 3 clusters with 59 cameras\u001b[0m\n",
      "\u001b[34mThere are 3 clusters with 60 cameras\u001b[0m\n",
      "\u001b[34mThere are 8 clusters with 61 cameras\u001b[0m\n",
      "\u001b[34mThere are 10 clusters with 62 cameras\u001b[0m\n",
      "\u001b[34mThere are 25 clusters with 63 cameras\u001b[0m\n",
      "\u001b[34mThere are 494 clusters with 64 cameras\u001b[0m\n",
      "\u001b[34mThere are 1 clusters with 92 cameras\u001b[0m\n",
      "\u001b[34mThere are 1 clusters with 97 cameras\u001b[0m\n",
      "\u001b[34mThere are 1 clusters with 120 cameras\u001b[0m\n",
      "\u001b[34mThere are 1 clusters with 121 cameras\u001b[0m\n",
      "\u001b[34mThere are 1 clusters with 122 cameras\u001b[0m\n",
      "\u001b[34mThere are 1 clusters with 124 cameras\u001b[0m\n",
      "\u001b[34mThere are 1 clusters with 125 cameras\u001b[0m\n",
      "\u001b[34mThere are 1 clusters with 126 cameras\u001b[0m\n",
      "\u001b[34mThere are 6 clusters with 127 cameras\u001b[0m\n",
      "\u001b[34mThere are 10 clusters with 128 cameras\u001b[0m\n",
      "Number of classes: 592\n",
      "\u001b[36mLearning Rate: 0.000350\u001b[0m\n",
      "encontrou modelos mobilenet. Carregando...\n",
      "encontrou modelos vgg16. Carregando...\n",
      "encontrou modelos resnet50. Carregando...\n",
      "encontrou modelos osnet. Carregando...\n",
      "encontrou modelos densenet121. Carregando...\n",
      "\u001b[33mValidating online mobilenet ...\u001b[0m\n",
      "Features extracted in 46.96 seconds\n",
      "Features extracted in 97.68 seconds\n",
      "Computing CMC and mAP ...\n",
      "** Results **\n",
      "mAP: 71.39%\n",
      "CMC curve\n",
      "Rank-1  : 81.53%\n",
      "Rank-5  : 95.41%\n",
      "Rank-10 : 98.02%\n",
      "Rank-20 : 99.18%\n",
      "\u001b[33mValidating momentum mobilenet ...\u001b[0m\n",
      "Features extracted in 46.21 seconds\n",
      "Features extracted in 96.88 seconds\n",
      "Computing CMC and mAP ...\n",
      "** Results **\n",
      "mAP: 70.86%\n",
      "CMC curve\n",
      "Rank-1  : 78.95%\n",
      "Rank-5  : 93.89%\n",
      "Rank-10 : 97.47%\n",
      "Rank-20 : 99.27%\n",
      "\u001b[33mValidating online vgg16 ...\u001b[0m\n",
      "Features extracted in 46.87 seconds\n",
      "Features extracted in 100.62 seconds\n",
      "Computing CMC and mAP ...\n",
      "** Results **\n",
      "mAP: 69.67%\n",
      "CMC curve\n",
      "Rank-1  : 74.49%\n",
      "Rank-5  : 92.27%\n",
      "Rank-10 : 96.56%\n",
      "Rank-20 : 99.05%\n",
      "\u001b[33mValidating momentum vgg16 ...\u001b[0m\n",
      "Features extracted in 48.04 seconds\n",
      "Features extracted in 100.63 seconds\n",
      "Computing CMC and mAP ...\n",
      "** Results **\n",
      "mAP: 69.72%\n",
      "CMC curve\n",
      "Rank-1  : 75.80%\n",
      "Rank-5  : 92.91%\n",
      "Rank-10 : 97.25%\n",
      "Rank-20 : 99.09%\n",
      "\u001b[33mValidating online resnet50 ...\u001b[0m\n",
      "Features extracted in 47.28 seconds\n",
      "Features extracted in 98.74 seconds\n",
      "Computing CMC and mAP ...\n",
      "** Results **\n",
      "mAP: 69.64%\n",
      "CMC curve\n",
      "Rank-1  : 70.07%\n",
      "Rank-5  : 91.28%\n",
      "Rank-10 : 96.04%\n",
      "Rank-20 : 98.68%\n",
      "\u001b[33mValidating momentum resnet50 ...\u001b[0m\n",
      "Features extracted in 47.02 seconds\n",
      "Features extracted in 99.96 seconds\n",
      "Computing CMC and mAP ...\n",
      "** Results **\n",
      "mAP: 70.02%\n",
      "CMC curve\n",
      "Rank-1  : 73.39%\n",
      "Rank-5  : 93.49%\n",
      "Rank-10 : 97.50%\n",
      "Rank-20 : 99.37%\n",
      "\u001b[33mValidating online osnet ...\u001b[0m\n",
      "Features extracted in 48.13 seconds\n",
      "Features extracted in 99.16 seconds\n",
      "Computing CMC and mAP ...\n",
      "** Results **\n",
      "mAP: 68.61%\n",
      "CMC curve\n",
      "Rank-1  : 73.02%\n",
      "Rank-5  : 95.04%\n",
      "Rank-10 : 98.36%\n",
      "Rank-20 : 99.48%\n",
      "\u001b[33mValidating momentum osnet ...\u001b[0m\n",
      "Features extracted in 50.00 seconds\n",
      "Features extracted in 100.79 seconds\n",
      "Computing CMC and mAP ...\n",
      "** Results **\n",
      "mAP: 69.41%\n",
      "CMC curve\n",
      "Rank-1  : 73.33%\n",
      "Rank-5  : 93.06%\n",
      "Rank-10 : 97.14%\n",
      "Rank-20 : 99.12%\n",
      "\u001b[33mValidating online densenet121 ...\u001b[0m\n",
      "Features extracted in 48.45 seconds\n",
      "Features extracted in 100.73 seconds\n",
      "Computing CMC and mAP ...\n",
      "** Results **\n",
      "mAP: 70.12%\n",
      "CMC curve\n",
      "Rank-1  : 75.15%\n",
      "Rank-5  : 92.89%\n",
      "Rank-10 : 97.00%\n",
      "Rank-20 : 98.95%\n",
      "\u001b[33mValidating momentum densenet121 ...\u001b[0m\n",
      "Features extracted in 47.47 seconds\n",
      "Features extracted in 101.59 seconds\n",
      "Computing CMC and mAP ...\n",
      "** Results **\n",
      "mAP: 69.53%\n",
      "CMC curve\n",
      "Rank-1  : 75.91%\n",
      "Rank-5  : 93.33%\n",
      "Rank-10 : 97.31%\n",
      "Rank-20 : 99.25%\n",
      "\u001b[33mValidating ensembled with online models ...\u001b[0m\n",
      "Computing CMC and mAP ...\n",
      "** Results **\n",
      "mAP: 70.82%\n",
      "Ranks:\n",
      "Rank-1  : 78.15%\n",
      "Rank-5  : 92.64%\n",
      "Rank-10 : 96.59%\n",
      "\u001b[33mValidating ensembled with momentum models ...\u001b[0m\n",
      "Computing CMC and mAP ...\n",
      "** Results **\n",
      "mAP: 70.51%\n",
      "Ranks:\n",
      "Rank-1  : 78.02%\n",
      "Rank-5  : 92.58%\n",
      "Rank-10 : 96.55%\n",
      "###============ Iteration number 46/90 ============###\n",
      "Extracting Online Features for mobilenet ...\n",
      "Features extracted in 156.81 seconds\n",
      "Computing jaccard distance...\n"
     ]
    },
    {
     "name": "stderr",
     "output_type": "stream",
     "text": [
      "bruteForceKnn is deprecated; call bfKnn instead\n"
     ]
    },
    {
     "name": "stdout",
     "output_type": "stream",
     "text": [
      "Jaccard distance computing time cost: 79.31822299957275\n",
      "Extracting Online Features for vgg16 ...\n",
      "Features extracted in 154.68 seconds\n",
      "Computing jaccard distance...\n"
     ]
    },
    {
     "name": "stderr",
     "output_type": "stream",
     "text": [
      "bruteForceKnn is deprecated; call bfKnn instead\n"
     ]
    },
    {
     "name": "stdout",
     "output_type": "stream",
     "text": [
      "Jaccard distance computing time cost: 73.9595844745636\n",
      "Extracting Online Features for resnet50 ...\n",
      "Features extracted in 160.22 seconds\n",
      "Computing jaccard distance...\n"
     ]
    },
    {
     "name": "stderr",
     "output_type": "stream",
     "text": [
      "bruteForceKnn is deprecated; call bfKnn instead\n"
     ]
    },
    {
     "name": "stdout",
     "output_type": "stream",
     "text": [
      "Jaccard distance computing time cost: 73.23817682266235\n",
      "Extracting Online Features for osnet ...\n",
      "Features extracted in 152.43 seconds\n",
      "Computing jaccard distance...\n"
     ]
    },
    {
     "name": "stderr",
     "output_type": "stream",
     "text": [
      "bruteForceKnn is deprecated; call bfKnn instead\n"
     ]
    },
    {
     "name": "stdout",
     "output_type": "stream",
     "text": [
      "Jaccard distance computing time cost: 79.04559350013733\n",
      "Extracting Online Features for densenet121 ...\n",
      "Features extracted in 157.72 seconds\n",
      "Computing jaccard distance...\n"
     ]
    },
    {
     "name": "stderr",
     "output_type": "stream",
     "text": [
      "bruteForceKnn is deprecated; call bfKnn instead\n"
     ]
    },
    {
     "name": "stdout",
     "output_type": "stream",
     "text": [
      "Jaccard distance computing time cost: 87.27017283439636\n",
      "Reliability: 0.997\n",
      "\u001b[32mMean Purity: 0.01845\u001b[0m\n",
      "\u001b[34mThere are 2 clusters with 4 cameras\u001b[0m\n",
      "\u001b[34mThere are 4 clusters with 5 cameras\u001b[0m\n",
      "\u001b[34mThere are 2 clusters with 7 cameras\u001b[0m\n",
      "\u001b[34mThere are 1 clusters with 9 cameras\u001b[0m\n",
      "\u001b[34mThere are 1 clusters with 11 cameras\u001b[0m\n",
      "\u001b[34mThere are 1 clusters with 12 cameras\u001b[0m\n",
      "\u001b[34mThere are 1 clusters with 16 cameras\u001b[0m\n",
      "\u001b[34mThere are 1 clusters with 19 cameras\u001b[0m\n",
      "\u001b[34mThere are 2 clusters with 29 cameras\u001b[0m\n",
      "\u001b[34mThere are 1 clusters with 32 cameras\u001b[0m\n",
      "\u001b[34mThere are 1 clusters with 34 cameras\u001b[0m\n",
      "\u001b[34mThere are 1 clusters with 45 cameras\u001b[0m\n",
      "\u001b[34mThere are 1 clusters with 47 cameras\u001b[0m\n",
      "\u001b[34mThere are 1 clusters with 52 cameras\u001b[0m\n",
      "\u001b[34mThere are 1 clusters with 53 cameras\u001b[0m\n",
      "\u001b[34mThere are 1 clusters with 54 cameras\u001b[0m\n",
      "\u001b[34mThere are 2 clusters with 57 cameras\u001b[0m\n",
      "\u001b[34mThere are 1 clusters with 58 cameras\u001b[0m\n",
      "\u001b[34mThere are 3 clusters with 59 cameras\u001b[0m\n",
      "\u001b[34mThere are 3 clusters with 60 cameras\u001b[0m\n",
      "\u001b[34mThere are 8 clusters with 61 cameras\u001b[0m\n",
      "\u001b[34mThere are 10 clusters with 62 cameras\u001b[0m\n",
      "\u001b[34mThere are 25 clusters with 63 cameras\u001b[0m\n",
      "\u001b[34mThere are 494 clusters with 64 cameras\u001b[0m\n",
      "\u001b[34mThere are 1 clusters with 92 cameras\u001b[0m\n",
      "\u001b[34mThere are 1 clusters with 97 cameras\u001b[0m\n",
      "\u001b[34mThere are 1 clusters with 120 cameras\u001b[0m\n",
      "\u001b[34mThere are 1 clusters with 121 cameras\u001b[0m\n",
      "\u001b[34mThere are 1 clusters with 122 cameras\u001b[0m\n",
      "\u001b[34mThere are 1 clusters with 124 cameras\u001b[0m\n",
      "\u001b[34mThere are 1 clusters with 125 cameras\u001b[0m\n",
      "\u001b[34mThere are 1 clusters with 126 cameras\u001b[0m\n",
      "\u001b[34mThere are 6 clusters with 127 cameras\u001b[0m\n",
      "\u001b[34mThere are 10 clusters with 128 cameras\u001b[0m\n",
      "Number of classes: 592\n",
      "\u001b[36mLearning Rate: 0.000350\u001b[0m\n",
      "encontrou modelos mobilenet. Carregando...\n",
      "encontrou modelos vgg16. Carregando...\n",
      "encontrou modelos resnet50. Carregando...\n",
      "encontrou modelos osnet. Carregando...\n",
      "encontrou modelos densenet121. Carregando...\n",
      "###============ Iteration number 47/90 ============###\n",
      "Extracting Online Features for mobilenet ...\n",
      "Features extracted in 153.96 seconds\n",
      "Computing jaccard distance...\n"
     ]
    },
    {
     "name": "stderr",
     "output_type": "stream",
     "text": [
      "bruteForceKnn is deprecated; call bfKnn instead\n"
     ]
    },
    {
     "name": "stdout",
     "output_type": "stream",
     "text": [
      "Jaccard distance computing time cost: 76.23956060409546\n",
      "Extracting Online Features for vgg16 ...\n",
      "Features extracted in 160.62 seconds\n",
      "Computing jaccard distance...\n"
     ]
    },
    {
     "name": "stderr",
     "output_type": "stream",
     "text": [
      "bruteForceKnn is deprecated; call bfKnn instead\n"
     ]
    },
    {
     "name": "stdout",
     "output_type": "stream",
     "text": [
      "Jaccard distance computing time cost: 77.79711651802063\n",
      "Extracting Online Features for resnet50 ...\n",
      "Features extracted in 159.33 seconds\n",
      "Computing jaccard distance...\n"
     ]
    },
    {
     "name": "stderr",
     "output_type": "stream",
     "text": [
      "bruteForceKnn is deprecated; call bfKnn instead\n"
     ]
    },
    {
     "name": "stdout",
     "output_type": "stream",
     "text": [
      "Jaccard distance computing time cost: 70.9887216091156\n",
      "Extracting Online Features for osnet ...\n",
      "Features extracted in 158.47 seconds\n",
      "Computing jaccard distance...\n"
     ]
    },
    {
     "name": "stderr",
     "output_type": "stream",
     "text": [
      "bruteForceKnn is deprecated; call bfKnn instead\n"
     ]
    },
    {
     "name": "stdout",
     "output_type": "stream",
     "text": [
      "Jaccard distance computing time cost: 76.7206130027771\n",
      "Extracting Online Features for densenet121 ...\n",
      "Features extracted in 158.28 seconds\n",
      "Computing jaccard distance...\n"
     ]
    },
    {
     "name": "stderr",
     "output_type": "stream",
     "text": [
      "bruteForceKnn is deprecated; call bfKnn instead\n"
     ]
    },
    {
     "name": "stdout",
     "output_type": "stream",
     "text": [
      "Jaccard distance computing time cost: 73.29803800582886\n",
      "Reliability: 0.997\n",
      "\u001b[32mMean Purity: 0.01845\u001b[0m\n",
      "\u001b[34mThere are 2 clusters with 4 cameras\u001b[0m\n",
      "\u001b[34mThere are 4 clusters with 5 cameras\u001b[0m\n",
      "\u001b[34mThere are 2 clusters with 7 cameras\u001b[0m\n",
      "\u001b[34mThere are 1 clusters with 9 cameras\u001b[0m\n",
      "\u001b[34mThere are 1 clusters with 11 cameras\u001b[0m\n",
      "\u001b[34mThere are 1 clusters with 12 cameras\u001b[0m\n",
      "\u001b[34mThere are 1 clusters with 16 cameras\u001b[0m\n",
      "\u001b[34mThere are 1 clusters with 19 cameras\u001b[0m\n",
      "\u001b[34mThere are 2 clusters with 29 cameras\u001b[0m\n",
      "\u001b[34mThere are 1 clusters with 32 cameras\u001b[0m\n",
      "\u001b[34mThere are 1 clusters with 34 cameras\u001b[0m\n",
      "\u001b[34mThere are 1 clusters with 45 cameras\u001b[0m\n",
      "\u001b[34mThere are 1 clusters with 47 cameras\u001b[0m\n",
      "\u001b[34mThere are 1 clusters with 52 cameras\u001b[0m\n",
      "\u001b[34mThere are 1 clusters with 53 cameras\u001b[0m\n",
      "\u001b[34mThere are 1 clusters with 54 cameras\u001b[0m\n",
      "\u001b[34mThere are 2 clusters with 57 cameras\u001b[0m\n",
      "\u001b[34mThere are 1 clusters with 58 cameras\u001b[0m\n",
      "\u001b[34mThere are 3 clusters with 59 cameras\u001b[0m\n",
      "\u001b[34mThere are 3 clusters with 60 cameras\u001b[0m\n",
      "\u001b[34mThere are 8 clusters with 61 cameras\u001b[0m\n",
      "\u001b[34mThere are 10 clusters with 62 cameras\u001b[0m\n",
      "\u001b[34mThere are 25 clusters with 63 cameras\u001b[0m\n",
      "\u001b[34mThere are 494 clusters with 64 cameras\u001b[0m\n",
      "\u001b[34mThere are 1 clusters with 92 cameras\u001b[0m\n",
      "\u001b[34mThere are 1 clusters with 97 cameras\u001b[0m\n",
      "\u001b[34mThere are 1 clusters with 120 cameras\u001b[0m\n",
      "\u001b[34mThere are 1 clusters with 121 cameras\u001b[0m\n",
      "\u001b[34mThere are 1 clusters with 122 cameras\u001b[0m\n",
      "\u001b[34mThere are 1 clusters with 124 cameras\u001b[0m\n",
      "\u001b[34mThere are 1 clusters with 125 cameras\u001b[0m\n",
      "\u001b[34mThere are 1 clusters with 126 cameras\u001b[0m\n",
      "\u001b[34mThere are 6 clusters with 127 cameras\u001b[0m\n",
      "\u001b[34mThere are 10 clusters with 128 cameras\u001b[0m\n",
      "Number of classes: 592\n",
      "\u001b[36mLearning Rate: 0.000350\u001b[0m\n",
      "encontrou modelos mobilenet. Carregando...\n",
      "encontrou modelos vgg16. Carregando...\n",
      "encontrou modelos resnet50. Carregando...\n",
      "encontrou modelos osnet. Carregando...\n",
      "encontrou modelos densenet121. Carregando...\n",
      "###============ Iteration number 48/90 ============###\n",
      "Extracting Online Features for mobilenet ...\n",
      "Features extracted in 155.27 seconds\n",
      "Computing jaccard distance...\n"
     ]
    },
    {
     "name": "stderr",
     "output_type": "stream",
     "text": [
      "bruteForceKnn is deprecated; call bfKnn instead\n"
     ]
    },
    {
     "name": "stdout",
     "output_type": "stream",
     "text": [
      "Jaccard distance computing time cost: 76.15047574043274\n",
      "Extracting Online Features for vgg16 ...\n",
      "Features extracted in 159.79 seconds\n",
      "Computing jaccard distance...\n"
     ]
    },
    {
     "name": "stderr",
     "output_type": "stream",
     "text": [
      "bruteForceKnn is deprecated; call bfKnn instead\n"
     ]
    },
    {
     "name": "stdout",
     "output_type": "stream",
     "text": [
      "Jaccard distance computing time cost: 70.91648817062378\n",
      "Extracting Online Features for resnet50 ...\n",
      "Features extracted in 153.30 seconds\n",
      "Computing jaccard distance...\n"
     ]
    },
    {
     "name": "stderr",
     "output_type": "stream",
     "text": [
      "bruteForceKnn is deprecated; call bfKnn instead\n"
     ]
    },
    {
     "name": "stdout",
     "output_type": "stream",
     "text": [
      "Jaccard distance computing time cost: 71.75029683113098\n",
      "Extracting Online Features for osnet ...\n",
      "Features extracted in 158.07 seconds\n",
      "Computing jaccard distance...\n"
     ]
    },
    {
     "name": "stderr",
     "output_type": "stream",
     "text": [
      "bruteForceKnn is deprecated; call bfKnn instead\n"
     ]
    },
    {
     "name": "stdout",
     "output_type": "stream",
     "text": [
      "Jaccard distance computing time cost: 75.13216519355774\n",
      "Extracting Online Features for densenet121 ...\n",
      "Features extracted in 154.01 seconds\n",
      "Computing jaccard distance...\n"
     ]
    },
    {
     "name": "stderr",
     "output_type": "stream",
     "text": [
      "bruteForceKnn is deprecated; call bfKnn instead\n"
     ]
    },
    {
     "name": "stdout",
     "output_type": "stream",
     "text": [
      "Jaccard distance computing time cost: 83.0339617729187\n",
      "Reliability: 0.997\n",
      "\u001b[32mMean Purity: 0.01845\u001b[0m\n",
      "\u001b[34mThere are 2 clusters with 4 cameras\u001b[0m\n",
      "\u001b[34mThere are 4 clusters with 5 cameras\u001b[0m\n",
      "\u001b[34mThere are 2 clusters with 7 cameras\u001b[0m\n",
      "\u001b[34mThere are 1 clusters with 9 cameras\u001b[0m\n",
      "\u001b[34mThere are 1 clusters with 11 cameras\u001b[0m\n",
      "\u001b[34mThere are 1 clusters with 12 cameras\u001b[0m\n",
      "\u001b[34mThere are 1 clusters with 16 cameras\u001b[0m\n",
      "\u001b[34mThere are 1 clusters with 19 cameras\u001b[0m\n",
      "\u001b[34mThere are 2 clusters with 29 cameras\u001b[0m\n",
      "\u001b[34mThere are 1 clusters with 32 cameras\u001b[0m\n",
      "\u001b[34mThere are 1 clusters with 34 cameras\u001b[0m\n",
      "\u001b[34mThere are 1 clusters with 45 cameras\u001b[0m\n",
      "\u001b[34mThere are 1 clusters with 47 cameras\u001b[0m\n",
      "\u001b[34mThere are 1 clusters with 52 cameras\u001b[0m\n",
      "\u001b[34mThere are 1 clusters with 53 cameras\u001b[0m\n",
      "\u001b[34mThere are 1 clusters with 54 cameras\u001b[0m\n",
      "\u001b[34mThere are 2 clusters with 57 cameras\u001b[0m\n",
      "\u001b[34mThere are 1 clusters with 58 cameras\u001b[0m\n",
      "\u001b[34mThere are 3 clusters with 59 cameras\u001b[0m\n",
      "\u001b[34mThere are 3 clusters with 60 cameras\u001b[0m\n",
      "\u001b[34mThere are 8 clusters with 61 cameras\u001b[0m\n",
      "\u001b[34mThere are 10 clusters with 62 cameras\u001b[0m\n",
      "\u001b[34mThere are 25 clusters with 63 cameras\u001b[0m\n",
      "\u001b[34mThere are 494 clusters with 64 cameras\u001b[0m\n",
      "\u001b[34mThere are 1 clusters with 92 cameras\u001b[0m\n",
      "\u001b[34mThere are 1 clusters with 97 cameras\u001b[0m\n",
      "\u001b[34mThere are 1 clusters with 120 cameras\u001b[0m\n",
      "\u001b[34mThere are 1 clusters with 121 cameras\u001b[0m\n",
      "\u001b[34mThere are 1 clusters with 122 cameras\u001b[0m\n",
      "\u001b[34mThere are 1 clusters with 124 cameras\u001b[0m\n",
      "\u001b[34mThere are 1 clusters with 125 cameras\u001b[0m\n",
      "\u001b[34mThere are 1 clusters with 126 cameras\u001b[0m\n",
      "\u001b[34mThere are 6 clusters with 127 cameras\u001b[0m\n",
      "\u001b[34mThere are 10 clusters with 128 cameras\u001b[0m\n",
      "Number of classes: 592\n",
      "\u001b[36mLearning Rate: 0.000350\u001b[0m\n",
      "encontrou modelos mobilenet. Carregando...\n",
      "encontrou modelos vgg16. Carregando...\n",
      "encontrou modelos resnet50. Carregando...\n",
      "encontrou modelos osnet. Carregando...\n",
      "encontrou modelos densenet121. Carregando...\n",
      "###============ Iteration number 49/90 ============###\n",
      "Extracting Online Features for mobilenet ...\n",
      "Features extracted in 152.21 seconds\n",
      "Computing jaccard distance...\n"
     ]
    },
    {
     "name": "stderr",
     "output_type": "stream",
     "text": [
      "bruteForceKnn is deprecated; call bfKnn instead\n"
     ]
    },
    {
     "name": "stdout",
     "output_type": "stream",
     "text": [
      "Jaccard distance computing time cost: 77.40376424789429\n",
      "Extracting Online Features for vgg16 ...\n",
      "Features extracted in 159.15 seconds\n",
      "Computing jaccard distance...\n"
     ]
    },
    {
     "name": "stderr",
     "output_type": "stream",
     "text": [
      "bruteForceKnn is deprecated; call bfKnn instead\n"
     ]
    },
    {
     "name": "stdout",
     "output_type": "stream",
     "text": [
      "Jaccard distance computing time cost: 69.33317470550537\n",
      "Extracting Online Features for resnet50 ...\n",
      "Features extracted in 158.50 seconds\n",
      "Computing jaccard distance...\n"
     ]
    },
    {
     "name": "stderr",
     "output_type": "stream",
     "text": [
      "bruteForceKnn is deprecated; call bfKnn instead\n"
     ]
    },
    {
     "name": "stdout",
     "output_type": "stream",
     "text": [
      "Jaccard distance computing time cost: 73.91747951507568\n",
      "Extracting Online Features for osnet ...\n",
      "Features extracted in 157.55 seconds\n",
      "Computing jaccard distance...\n"
     ]
    },
    {
     "name": "stderr",
     "output_type": "stream",
     "text": [
      "bruteForceKnn is deprecated; call bfKnn instead\n"
     ]
    },
    {
     "name": "stdout",
     "output_type": "stream",
     "text": [
      "Jaccard distance computing time cost: 72.38256287574768\n",
      "Extracting Online Features for densenet121 ...\n",
      "Features extracted in 154.72 seconds\n",
      "Computing jaccard distance...\n"
     ]
    },
    {
     "name": "stderr",
     "output_type": "stream",
     "text": [
      "bruteForceKnn is deprecated; call bfKnn instead\n"
     ]
    },
    {
     "name": "stdout",
     "output_type": "stream",
     "text": [
      "Jaccard distance computing time cost: 74.16804051399231\n",
      "Reliability: 0.997\n",
      "\u001b[32mMean Purity: 0.01845\u001b[0m\n",
      "\u001b[34mThere are 2 clusters with 4 cameras\u001b[0m\n",
      "\u001b[34mThere are 4 clusters with 5 cameras\u001b[0m\n",
      "\u001b[34mThere are 2 clusters with 7 cameras\u001b[0m\n",
      "\u001b[34mThere are 1 clusters with 9 cameras\u001b[0m\n",
      "\u001b[34mThere are 1 clusters with 11 cameras\u001b[0m\n",
      "\u001b[34mThere are 1 clusters with 12 cameras\u001b[0m\n",
      "\u001b[34mThere are 1 clusters with 16 cameras\u001b[0m\n",
      "\u001b[34mThere are 1 clusters with 19 cameras\u001b[0m\n",
      "\u001b[34mThere are 2 clusters with 29 cameras\u001b[0m\n",
      "\u001b[34mThere are 1 clusters with 32 cameras\u001b[0m\n",
      "\u001b[34mThere are 1 clusters with 34 cameras\u001b[0m\n",
      "\u001b[34mThere are 1 clusters with 45 cameras\u001b[0m\n",
      "\u001b[34mThere are 1 clusters with 47 cameras\u001b[0m\n",
      "\u001b[34mThere are 1 clusters with 52 cameras\u001b[0m\n",
      "\u001b[34mThere are 1 clusters with 53 cameras\u001b[0m\n",
      "\u001b[34mThere are 1 clusters with 54 cameras\u001b[0m\n",
      "\u001b[34mThere are 2 clusters with 57 cameras\u001b[0m\n",
      "\u001b[34mThere are 1 clusters with 58 cameras\u001b[0m\n",
      "\u001b[34mThere are 3 clusters with 59 cameras\u001b[0m\n",
      "\u001b[34mThere are 3 clusters with 60 cameras\u001b[0m\n",
      "\u001b[34mThere are 8 clusters with 61 cameras\u001b[0m\n",
      "\u001b[34mThere are 10 clusters with 62 cameras\u001b[0m\n",
      "\u001b[34mThere are 25 clusters with 63 cameras\u001b[0m\n",
      "\u001b[34mThere are 494 clusters with 64 cameras\u001b[0m\n",
      "\u001b[34mThere are 1 clusters with 92 cameras\u001b[0m\n",
      "\u001b[34mThere are 1 clusters with 97 cameras\u001b[0m\n",
      "\u001b[34mThere are 1 clusters with 120 cameras\u001b[0m\n",
      "\u001b[34mThere are 1 clusters with 121 cameras\u001b[0m\n",
      "\u001b[34mThere are 1 clusters with 122 cameras\u001b[0m\n",
      "\u001b[34mThere are 1 clusters with 124 cameras\u001b[0m\n",
      "\u001b[34mThere are 1 clusters with 125 cameras\u001b[0m\n",
      "\u001b[34mThere are 1 clusters with 126 cameras\u001b[0m\n",
      "\u001b[34mThere are 6 clusters with 127 cameras\u001b[0m\n",
      "\u001b[34mThere are 10 clusters with 128 cameras\u001b[0m\n",
      "Number of classes: 592\n",
      "\u001b[36mLearning Rate: 0.000350\u001b[0m\n",
      "encontrou modelos mobilenet. Carregando...\n",
      "encontrou modelos vgg16. Carregando...\n",
      "encontrou modelos resnet50. Carregando...\n",
      "encontrou modelos osnet. Carregando...\n",
      "encontrou modelos densenet121. Carregando...\n",
      "###============ Iteration number 50/90 ============###\n",
      "Extracting Online Features for mobilenet ...\n",
      "Features extracted in 154.78 seconds\n",
      "Computing jaccard distance...\n"
     ]
    },
    {
     "name": "stderr",
     "output_type": "stream",
     "text": [
      "bruteForceKnn is deprecated; call bfKnn instead\n"
     ]
    },
    {
     "name": "stdout",
     "output_type": "stream",
     "text": [
      "Jaccard distance computing time cost: 78.34899663925171\n",
      "Extracting Online Features for vgg16 ...\n",
      "Features extracted in 155.64 seconds\n",
      "Computing jaccard distance...\n"
     ]
    },
    {
     "name": "stderr",
     "output_type": "stream",
     "text": [
      "bruteForceKnn is deprecated; call bfKnn instead\n"
     ]
    },
    {
     "name": "stdout",
     "output_type": "stream",
     "text": [
      "Jaccard distance computing time cost: 71.91148543357849\n",
      "Extracting Online Features for resnet50 ...\n",
      "Features extracted in 154.54 seconds\n",
      "Computing jaccard distance...\n"
     ]
    },
    {
     "name": "stderr",
     "output_type": "stream",
     "text": [
      "bruteForceKnn is deprecated; call bfKnn instead\n"
     ]
    },
    {
     "name": "stdout",
     "output_type": "stream",
     "text": [
      "Jaccard distance computing time cost: 72.18978810310364\n",
      "Extracting Online Features for osnet ...\n",
      "Features extracted in 153.33 seconds\n",
      "Computing jaccard distance...\n"
     ]
    },
    {
     "name": "stderr",
     "output_type": "stream",
     "text": [
      "bruteForceKnn is deprecated; call bfKnn instead\n"
     ]
    },
    {
     "name": "stdout",
     "output_type": "stream",
     "text": [
      "Jaccard distance computing time cost: 72.76842164993286\n",
      "Extracting Online Features for densenet121 ...\n",
      "Features extracted in 152.99 seconds\n",
      "Computing jaccard distance...\n"
     ]
    },
    {
     "name": "stderr",
     "output_type": "stream",
     "text": [
      "bruteForceKnn is deprecated; call bfKnn instead\n"
     ]
    },
    {
     "name": "stdout",
     "output_type": "stream",
     "text": [
      "Jaccard distance computing time cost: 71.82112216949463\n",
      "Reliability: 0.997\n",
      "\u001b[32mMean Purity: 0.01845\u001b[0m\n",
      "\u001b[34mThere are 2 clusters with 4 cameras\u001b[0m\n",
      "\u001b[34mThere are 4 clusters with 5 cameras\u001b[0m\n",
      "\u001b[34mThere are 2 clusters with 7 cameras\u001b[0m\n",
      "\u001b[34mThere are 1 clusters with 9 cameras\u001b[0m\n",
      "\u001b[34mThere are 1 clusters with 11 cameras\u001b[0m\n",
      "\u001b[34mThere are 1 clusters with 12 cameras\u001b[0m\n",
      "\u001b[34mThere are 1 clusters with 16 cameras\u001b[0m\n",
      "\u001b[34mThere are 1 clusters with 19 cameras\u001b[0m\n",
      "\u001b[34mThere are 2 clusters with 29 cameras\u001b[0m\n",
      "\u001b[34mThere are 1 clusters with 32 cameras\u001b[0m\n",
      "\u001b[34mThere are 1 clusters with 34 cameras\u001b[0m\n",
      "\u001b[34mThere are 1 clusters with 45 cameras\u001b[0m\n",
      "\u001b[34mThere are 1 clusters with 47 cameras\u001b[0m\n",
      "\u001b[34mThere are 1 clusters with 52 cameras\u001b[0m\n",
      "\u001b[34mThere are 1 clusters with 53 cameras\u001b[0m\n",
      "\u001b[34mThere are 1 clusters with 54 cameras\u001b[0m\n",
      "\u001b[34mThere are 2 clusters with 57 cameras\u001b[0m\n",
      "\u001b[34mThere are 1 clusters with 58 cameras\u001b[0m\n",
      "\u001b[34mThere are 3 clusters with 59 cameras\u001b[0m\n",
      "\u001b[34mThere are 3 clusters with 60 cameras\u001b[0m\n",
      "\u001b[34mThere are 8 clusters with 61 cameras\u001b[0m\n",
      "\u001b[34mThere are 10 clusters with 62 cameras\u001b[0m\n",
      "\u001b[34mThere are 25 clusters with 63 cameras\u001b[0m\n",
      "\u001b[34mThere are 494 clusters with 64 cameras\u001b[0m\n",
      "\u001b[34mThere are 1 clusters with 92 cameras\u001b[0m\n",
      "\u001b[34mThere are 1 clusters with 97 cameras\u001b[0m\n",
      "\u001b[34mThere are 1 clusters with 120 cameras\u001b[0m\n",
      "\u001b[34mThere are 1 clusters with 121 cameras\u001b[0m\n",
      "\u001b[34mThere are 1 clusters with 122 cameras\u001b[0m\n",
      "\u001b[34mThere are 1 clusters with 124 cameras\u001b[0m\n",
      "\u001b[34mThere are 1 clusters with 125 cameras\u001b[0m\n",
      "\u001b[34mThere are 1 clusters with 126 cameras\u001b[0m\n",
      "\u001b[34mThere are 6 clusters with 127 cameras\u001b[0m\n",
      "\u001b[34mThere are 10 clusters with 128 cameras\u001b[0m\n",
      "Number of classes: 592\n",
      "\u001b[36mLearning Rate: 0.000350\u001b[0m\n",
      "encontrou modelos mobilenet. Carregando...\n",
      "encontrou modelos vgg16. Carregando...\n",
      "encontrou modelos resnet50. Carregando...\n",
      "encontrou modelos osnet. Carregando...\n",
      "encontrou modelos densenet121. Carregando...\n",
      "\u001b[33mValidating online mobilenet ...\u001b[0m\n",
      "Features extracted in 46.89 seconds\n",
      "Features extracted in 99.10 seconds\n",
      "Computing CMC and mAP ...\n",
      "** Results **\n",
      "mAP: 71.39%\n",
      "CMC curve\n",
      "Rank-1  : 81.53%\n",
      "Rank-5  : 95.41%\n",
      "Rank-10 : 98.02%\n",
      "Rank-20 : 99.18%\n",
      "\u001b[33mValidating momentum mobilenet ...\u001b[0m\n",
      "Features extracted in 46.25 seconds\n",
      "Features extracted in 98.33 seconds\n",
      "Computing CMC and mAP ...\n",
      "** Results **\n",
      "mAP: 70.86%\n",
      "CMC curve\n",
      "Rank-1  : 78.95%\n",
      "Rank-5  : 93.89%\n",
      "Rank-10 : 97.47%\n",
      "Rank-20 : 99.27%\n",
      "\u001b[33mValidating online vgg16 ...\u001b[0m\n",
      "Features extracted in 48.11 seconds\n",
      "Features extracted in 98.44 seconds\n",
      "Computing CMC and mAP ...\n",
      "** Results **\n",
      "mAP: 69.67%\n",
      "CMC curve\n",
      "Rank-1  : 74.49%\n",
      "Rank-5  : 92.27%\n",
      "Rank-10 : 96.56%\n",
      "Rank-20 : 99.05%\n",
      "\u001b[33mValidating momentum vgg16 ...\u001b[0m\n",
      "Features extracted in 48.10 seconds\n",
      "Features extracted in 98.91 seconds\n",
      "Computing CMC and mAP ...\n",
      "** Results **\n",
      "mAP: 69.72%\n",
      "CMC curve\n",
      "Rank-1  : 75.80%\n",
      "Rank-5  : 92.91%\n",
      "Rank-10 : 97.25%\n",
      "Rank-20 : 99.09%\n",
      "\u001b[33mValidating online resnet50 ...\u001b[0m\n",
      "Features extracted in 47.20 seconds\n",
      "Features extracted in 99.77 seconds\n",
      "Computing CMC and mAP ...\n",
      "** Results **\n",
      "mAP: 69.64%\n",
      "CMC curve\n",
      "Rank-1  : 70.07%\n",
      "Rank-5  : 91.28%\n",
      "Rank-10 : 96.04%\n",
      "Rank-20 : 98.68%\n",
      "\u001b[33mValidating momentum resnet50 ...\u001b[0m\n",
      "Features extracted in 47.14 seconds\n",
      "Features extracted in 98.66 seconds\n",
      "Computing CMC and mAP ...\n",
      "** Results **\n",
      "mAP: 70.02%\n",
      "CMC curve\n",
      "Rank-1  : 73.39%\n",
      "Rank-5  : 93.49%\n",
      "Rank-10 : 97.50%\n",
      "Rank-20 : 99.37%\n",
      "\u001b[33mValidating online osnet ...\u001b[0m\n",
      "Features extracted in 47.00 seconds\n",
      "Features extracted in 97.34 seconds\n",
      "Computing CMC and mAP ...\n",
      "** Results **\n",
      "mAP: 68.61%\n",
      "CMC curve\n",
      "Rank-1  : 73.02%\n",
      "Rank-5  : 95.04%\n",
      "Rank-10 : 98.36%\n",
      "Rank-20 : 99.48%\n",
      "\u001b[33mValidating momentum osnet ...\u001b[0m\n",
      "Features extracted in 47.84 seconds\n",
      "Features extracted in 99.33 seconds\n",
      "Computing CMC and mAP ...\n",
      "** Results **\n",
      "mAP: 69.41%\n",
      "CMC curve\n",
      "Rank-1  : 73.33%\n",
      "Rank-5  : 93.06%\n",
      "Rank-10 : 97.14%\n",
      "Rank-20 : 99.12%\n",
      "\u001b[33mValidating online densenet121 ...\u001b[0m\n",
      "Features extracted in 47.86 seconds\n",
      "Features extracted in 101.15 seconds\n",
      "Computing CMC and mAP ...\n",
      "** Results **\n",
      "mAP: 70.12%\n",
      "CMC curve\n",
      "Rank-1  : 75.15%\n",
      "Rank-5  : 92.89%\n",
      "Rank-10 : 97.00%\n",
      "Rank-20 : 98.95%\n",
      "\u001b[33mValidating momentum densenet121 ...\u001b[0m\n",
      "Features extracted in 47.66 seconds\n",
      "Features extracted in 100.26 seconds\n",
      "Computing CMC and mAP ...\n",
      "** Results **\n",
      "mAP: 69.53%\n",
      "CMC curve\n",
      "Rank-1  : 75.91%\n",
      "Rank-5  : 93.33%\n",
      "Rank-10 : 97.31%\n",
      "Rank-20 : 99.25%\n",
      "\u001b[33mValidating ensembled with online models ...\u001b[0m\n",
      "Computing CMC and mAP ...\n",
      "** Results **\n",
      "mAP: 70.82%\n",
      "Ranks:\n",
      "Rank-1  : 78.15%\n",
      "Rank-5  : 92.64%\n",
      "Rank-10 : 96.59%\n",
      "\u001b[33mValidating ensembled with momentum models ...\u001b[0m\n",
      "Computing CMC and mAP ...\n",
      "** Results **\n",
      "mAP: 70.51%\n",
      "Ranks:\n",
      "Rank-1  : 78.02%\n",
      "Rank-5  : 92.58%\n",
      "Rank-10 : 96.55%\n",
      "###============ Iteration number 51/90 ============###\n",
      "Extracting Online Features for mobilenet ...\n",
      "Features extracted in 152.99 seconds\n",
      "Computing jaccard distance...\n"
     ]
    },
    {
     "name": "stderr",
     "output_type": "stream",
     "text": [
      "bruteForceKnn is deprecated; call bfKnn instead\n"
     ]
    },
    {
     "name": "stdout",
     "output_type": "stream",
     "text": [
      "Jaccard distance computing time cost: 77.49007892608643\n",
      "Extracting Online Features for vgg16 ...\n",
      "Features extracted in 156.19 seconds\n",
      "Computing jaccard distance...\n"
     ]
    },
    {
     "name": "stderr",
     "output_type": "stream",
     "text": [
      "bruteForceKnn is deprecated; call bfKnn instead\n"
     ]
    },
    {
     "name": "stdout",
     "output_type": "stream",
     "text": [
      "Jaccard distance computing time cost: 80.51149153709412\n",
      "Extracting Online Features for resnet50 ...\n",
      "Features extracted in 153.59 seconds\n",
      "Computing jaccard distance...\n"
     ]
    },
    {
     "name": "stderr",
     "output_type": "stream",
     "text": [
      "bruteForceKnn is deprecated; call bfKnn instead\n"
     ]
    },
    {
     "name": "stdout",
     "output_type": "stream",
     "text": [
      "Jaccard distance computing time cost: 78.12512183189392\n",
      "Extracting Online Features for osnet ...\n",
      "Features extracted in 156.81 seconds\n",
      "Computing jaccard distance...\n"
     ]
    },
    {
     "name": "stderr",
     "output_type": "stream",
     "text": [
      "bruteForceKnn is deprecated; call bfKnn instead\n"
     ]
    },
    {
     "name": "stdout",
     "output_type": "stream",
     "text": [
      "Jaccard distance computing time cost: 83.93354082107544\n",
      "Extracting Online Features for densenet121 ...\n",
      "Features extracted in 159.88 seconds\n",
      "Computing jaccard distance...\n"
     ]
    },
    {
     "name": "stderr",
     "output_type": "stream",
     "text": [
      "bruteForceKnn is deprecated; call bfKnn instead\n"
     ]
    },
    {
     "name": "stdout",
     "output_type": "stream",
     "text": [
      "Jaccard distance computing time cost: 77.86601400375366\n",
      "Reliability: 0.997\n",
      "\u001b[32mMean Purity: 0.01845\u001b[0m\n",
      "\u001b[34mThere are 2 clusters with 4 cameras\u001b[0m\n",
      "\u001b[34mThere are 4 clusters with 5 cameras\u001b[0m\n",
      "\u001b[34mThere are 2 clusters with 7 cameras\u001b[0m\n",
      "\u001b[34mThere are 1 clusters with 9 cameras\u001b[0m\n",
      "\u001b[34mThere are 1 clusters with 11 cameras\u001b[0m\n",
      "\u001b[34mThere are 1 clusters with 12 cameras\u001b[0m\n",
      "\u001b[34mThere are 1 clusters with 16 cameras\u001b[0m\n",
      "\u001b[34mThere are 1 clusters with 19 cameras\u001b[0m\n",
      "\u001b[34mThere are 2 clusters with 29 cameras\u001b[0m\n",
      "\u001b[34mThere are 1 clusters with 32 cameras\u001b[0m\n",
      "\u001b[34mThere are 1 clusters with 34 cameras\u001b[0m\n",
      "\u001b[34mThere are 1 clusters with 45 cameras\u001b[0m\n",
      "\u001b[34mThere are 1 clusters with 47 cameras\u001b[0m\n",
      "\u001b[34mThere are 1 clusters with 52 cameras\u001b[0m\n",
      "\u001b[34mThere are 1 clusters with 53 cameras\u001b[0m\n",
      "\u001b[34mThere are 1 clusters with 54 cameras\u001b[0m\n",
      "\u001b[34mThere are 2 clusters with 57 cameras\u001b[0m\n",
      "\u001b[34mThere are 1 clusters with 58 cameras\u001b[0m\n",
      "\u001b[34mThere are 3 clusters with 59 cameras\u001b[0m\n",
      "\u001b[34mThere are 3 clusters with 60 cameras\u001b[0m\n",
      "\u001b[34mThere are 8 clusters with 61 cameras\u001b[0m\n",
      "\u001b[34mThere are 10 clusters with 62 cameras\u001b[0m\n",
      "\u001b[34mThere are 25 clusters with 63 cameras\u001b[0m\n",
      "\u001b[34mThere are 494 clusters with 64 cameras\u001b[0m\n",
      "\u001b[34mThere are 1 clusters with 92 cameras\u001b[0m\n",
      "\u001b[34mThere are 1 clusters with 97 cameras\u001b[0m\n",
      "\u001b[34mThere are 1 clusters with 120 cameras\u001b[0m\n",
      "\u001b[34mThere are 1 clusters with 121 cameras\u001b[0m\n",
      "\u001b[34mThere are 1 clusters with 122 cameras\u001b[0m\n",
      "\u001b[34mThere are 1 clusters with 124 cameras\u001b[0m\n",
      "\u001b[34mThere are 1 clusters with 125 cameras\u001b[0m\n",
      "\u001b[34mThere are 1 clusters with 126 cameras\u001b[0m\n",
      "\u001b[34mThere are 6 clusters with 127 cameras\u001b[0m\n",
      "\u001b[34mThere are 10 clusters with 128 cameras\u001b[0m\n",
      "Number of classes: 592\n",
      "\u001b[36mLearning Rate: 0.000350\u001b[0m\n",
      "encontrou modelos mobilenet. Carregando...\n",
      "encontrou modelos vgg16. Carregando...\n",
      "encontrou modelos resnet50. Carregando...\n",
      "encontrou modelos osnet. Carregando...\n",
      "encontrou modelos densenet121. Carregando...\n",
      "###============ Iteration number 52/90 ============###\n",
      "Extracting Online Features for mobilenet ...\n",
      "Features extracted in 157.68 seconds\n",
      "Computing jaccard distance...\n"
     ]
    },
    {
     "name": "stderr",
     "output_type": "stream",
     "text": [
      "bruteForceKnn is deprecated; call bfKnn instead\n"
     ]
    },
    {
     "name": "stdout",
     "output_type": "stream",
     "text": [
      "Jaccard distance computing time cost: 70.96905064582825\n",
      "Extracting Online Features for vgg16 ...\n",
      "Features extracted in 160.59 seconds\n",
      "Computing jaccard distance...\n"
     ]
    },
    {
     "name": "stderr",
     "output_type": "stream",
     "text": [
      "bruteForceKnn is deprecated; call bfKnn instead\n"
     ]
    },
    {
     "name": "stdout",
     "output_type": "stream",
     "text": [
      "Jaccard distance computing time cost: 76.79697489738464\n",
      "Extracting Online Features for resnet50 ...\n",
      "Features extracted in 155.01 seconds\n",
      "Computing jaccard distance...\n"
     ]
    },
    {
     "name": "stderr",
     "output_type": "stream",
     "text": [
      "bruteForceKnn is deprecated; call bfKnn instead\n"
     ]
    },
    {
     "name": "stdout",
     "output_type": "stream",
     "text": [
      "Jaccard distance computing time cost: 76.94838333129883\n",
      "Extracting Online Features for osnet ...\n",
      "Features extracted in 153.73 seconds\n",
      "Computing jaccard distance...\n"
     ]
    },
    {
     "name": "stderr",
     "output_type": "stream",
     "text": [
      "bruteForceKnn is deprecated; call bfKnn instead\n"
     ]
    },
    {
     "name": "stdout",
     "output_type": "stream",
     "text": [
      "Jaccard distance computing time cost: 70.34067487716675\n",
      "Extracting Online Features for densenet121 ...\n",
      "Features extracted in 153.68 seconds\n",
      "Computing jaccard distance...\n"
     ]
    },
    {
     "name": "stderr",
     "output_type": "stream",
     "text": [
      "bruteForceKnn is deprecated; call bfKnn instead\n"
     ]
    },
    {
     "name": "stdout",
     "output_type": "stream",
     "text": [
      "Jaccard distance computing time cost: 79.17235207557678\n",
      "Reliability: 0.997\n",
      "\u001b[32mMean Purity: 0.01845\u001b[0m\n",
      "\u001b[34mThere are 2 clusters with 4 cameras\u001b[0m\n",
      "\u001b[34mThere are 4 clusters with 5 cameras\u001b[0m\n",
      "\u001b[34mThere are 2 clusters with 7 cameras\u001b[0m\n",
      "\u001b[34mThere are 1 clusters with 9 cameras\u001b[0m\n",
      "\u001b[34mThere are 1 clusters with 11 cameras\u001b[0m\n",
      "\u001b[34mThere are 1 clusters with 12 cameras\u001b[0m\n",
      "\u001b[34mThere are 1 clusters with 16 cameras\u001b[0m\n",
      "\u001b[34mThere are 1 clusters with 19 cameras\u001b[0m\n",
      "\u001b[34mThere are 2 clusters with 29 cameras\u001b[0m\n",
      "\u001b[34mThere are 1 clusters with 32 cameras\u001b[0m\n",
      "\u001b[34mThere are 1 clusters with 34 cameras\u001b[0m\n",
      "\u001b[34mThere are 1 clusters with 45 cameras\u001b[0m\n",
      "\u001b[34mThere are 1 clusters with 47 cameras\u001b[0m\n",
      "\u001b[34mThere are 1 clusters with 52 cameras\u001b[0m\n",
      "\u001b[34mThere are 1 clusters with 53 cameras\u001b[0m\n",
      "\u001b[34mThere are 1 clusters with 54 cameras\u001b[0m\n",
      "\u001b[34mThere are 2 clusters with 57 cameras\u001b[0m\n",
      "\u001b[34mThere are 1 clusters with 58 cameras\u001b[0m\n",
      "\u001b[34mThere are 3 clusters with 59 cameras\u001b[0m\n",
      "\u001b[34mThere are 3 clusters with 60 cameras\u001b[0m\n",
      "\u001b[34mThere are 8 clusters with 61 cameras\u001b[0m\n",
      "\u001b[34mThere are 10 clusters with 62 cameras\u001b[0m\n",
      "\u001b[34mThere are 25 clusters with 63 cameras\u001b[0m\n",
      "\u001b[34mThere are 494 clusters with 64 cameras\u001b[0m\n",
      "\u001b[34mThere are 1 clusters with 92 cameras\u001b[0m\n",
      "\u001b[34mThere are 1 clusters with 97 cameras\u001b[0m\n",
      "\u001b[34mThere are 1 clusters with 120 cameras\u001b[0m\n",
      "\u001b[34mThere are 1 clusters with 121 cameras\u001b[0m\n",
      "\u001b[34mThere are 1 clusters with 122 cameras\u001b[0m\n",
      "\u001b[34mThere are 1 clusters with 124 cameras\u001b[0m\n",
      "\u001b[34mThere are 1 clusters with 125 cameras\u001b[0m\n",
      "\u001b[34mThere are 1 clusters with 126 cameras\u001b[0m\n",
      "\u001b[34mThere are 6 clusters with 127 cameras\u001b[0m\n",
      "\u001b[34mThere are 10 clusters with 128 cameras\u001b[0m\n",
      "Number of classes: 592\n",
      "\u001b[36mLearning Rate: 0.000350\u001b[0m\n",
      "encontrou modelos mobilenet. Carregando...\n",
      "encontrou modelos vgg16. Carregando...\n",
      "encontrou modelos resnet50. Carregando...\n",
      "encontrou modelos osnet. Carregando...\n",
      "encontrou modelos densenet121. Carregando...\n",
      "###============ Iteration number 53/90 ============###\n",
      "Extracting Online Features for mobilenet ...\n",
      "Features extracted in 155.39 seconds\n",
      "Computing jaccard distance...\n"
     ]
    },
    {
     "name": "stderr",
     "output_type": "stream",
     "text": [
      "bruteForceKnn is deprecated; call bfKnn instead\n"
     ]
    },
    {
     "name": "stdout",
     "output_type": "stream",
     "text": [
      "Jaccard distance computing time cost: 71.33053684234619\n",
      "Extracting Online Features for vgg16 ...\n",
      "Features extracted in 161.08 seconds\n",
      "Computing jaccard distance...\n"
     ]
    },
    {
     "name": "stderr",
     "output_type": "stream",
     "text": [
      "bruteForceKnn is deprecated; call bfKnn instead\n"
     ]
    },
    {
     "name": "stdout",
     "output_type": "stream",
     "text": [
      "Jaccard distance computing time cost: 75.35360789299011\n",
      "Extracting Online Features for resnet50 ...\n",
      "Features extracted in 157.97 seconds\n",
      "Computing jaccard distance...\n"
     ]
    },
    {
     "name": "stderr",
     "output_type": "stream",
     "text": [
      "bruteForceKnn is deprecated; call bfKnn instead\n"
     ]
    },
    {
     "name": "stdout",
     "output_type": "stream",
     "text": [
      "Jaccard distance computing time cost: 87.3469409942627\n",
      "Extracting Online Features for osnet ...\n",
      "Features extracted in 160.19 seconds\n",
      "Computing jaccard distance...\n"
     ]
    },
    {
     "name": "stderr",
     "output_type": "stream",
     "text": [
      "bruteForceKnn is deprecated; call bfKnn instead\n"
     ]
    },
    {
     "name": "stdout",
     "output_type": "stream",
     "text": [
      "Jaccard distance computing time cost: 68.68897247314453\n",
      "Extracting Online Features for densenet121 ...\n",
      "Features extracted in 160.18 seconds\n",
      "Computing jaccard distance...\n"
     ]
    },
    {
     "name": "stderr",
     "output_type": "stream",
     "text": [
      "bruteForceKnn is deprecated; call bfKnn instead\n"
     ]
    },
    {
     "name": "stdout",
     "output_type": "stream",
     "text": [
      "Jaccard distance computing time cost: 69.64381265640259\n",
      "Reliability: 0.997\n",
      "\u001b[32mMean Purity: 0.01845\u001b[0m\n",
      "\u001b[34mThere are 2 clusters with 4 cameras\u001b[0m\n",
      "\u001b[34mThere are 4 clusters with 5 cameras\u001b[0m\n",
      "\u001b[34mThere are 2 clusters with 7 cameras\u001b[0m\n",
      "\u001b[34mThere are 1 clusters with 9 cameras\u001b[0m\n",
      "\u001b[34mThere are 1 clusters with 11 cameras\u001b[0m\n",
      "\u001b[34mThere are 1 clusters with 12 cameras\u001b[0m\n",
      "\u001b[34mThere are 1 clusters with 16 cameras\u001b[0m\n",
      "\u001b[34mThere are 1 clusters with 19 cameras\u001b[0m\n",
      "\u001b[34mThere are 2 clusters with 29 cameras\u001b[0m\n",
      "\u001b[34mThere are 1 clusters with 32 cameras\u001b[0m\n",
      "\u001b[34mThere are 1 clusters with 34 cameras\u001b[0m\n",
      "\u001b[34mThere are 1 clusters with 45 cameras\u001b[0m\n",
      "\u001b[34mThere are 1 clusters with 47 cameras\u001b[0m\n",
      "\u001b[34mThere are 1 clusters with 52 cameras\u001b[0m\n",
      "\u001b[34mThere are 1 clusters with 53 cameras\u001b[0m\n",
      "\u001b[34mThere are 1 clusters with 54 cameras\u001b[0m\n",
      "\u001b[34mThere are 2 clusters with 57 cameras\u001b[0m\n",
      "\u001b[34mThere are 1 clusters with 58 cameras\u001b[0m\n",
      "\u001b[34mThere are 3 clusters with 59 cameras\u001b[0m\n",
      "\u001b[34mThere are 3 clusters with 60 cameras\u001b[0m\n",
      "\u001b[34mThere are 8 clusters with 61 cameras\u001b[0m\n",
      "\u001b[34mThere are 10 clusters with 62 cameras\u001b[0m\n",
      "\u001b[34mThere are 25 clusters with 63 cameras\u001b[0m\n",
      "\u001b[34mThere are 494 clusters with 64 cameras\u001b[0m\n",
      "\u001b[34mThere are 1 clusters with 92 cameras\u001b[0m\n",
      "\u001b[34mThere are 1 clusters with 97 cameras\u001b[0m\n",
      "\u001b[34mThere are 1 clusters with 120 cameras\u001b[0m\n",
      "\u001b[34mThere are 1 clusters with 121 cameras\u001b[0m\n",
      "\u001b[34mThere are 1 clusters with 122 cameras\u001b[0m\n",
      "\u001b[34mThere are 1 clusters with 124 cameras\u001b[0m\n",
      "\u001b[34mThere are 1 clusters with 125 cameras\u001b[0m\n",
      "\u001b[34mThere are 1 clusters with 126 cameras\u001b[0m\n",
      "\u001b[34mThere are 6 clusters with 127 cameras\u001b[0m\n",
      "\u001b[34mThere are 10 clusters with 128 cameras\u001b[0m\n",
      "Number of classes: 592\n",
      "\u001b[36mLearning Rate: 0.000350\u001b[0m\n",
      "encontrou modelos mobilenet. Carregando...\n",
      "encontrou modelos vgg16. Carregando...\n",
      "encontrou modelos resnet50. Carregando...\n",
      "encontrou modelos osnet. Carregando...\n",
      "encontrou modelos densenet121. Carregando...\n",
      "###============ Iteration number 54/90 ============###\n",
      "Extracting Online Features for mobilenet ...\n",
      "Features extracted in 152.52 seconds\n",
      "Computing jaccard distance...\n"
     ]
    },
    {
     "name": "stderr",
     "output_type": "stream",
     "text": [
      "bruteForceKnn is deprecated; call bfKnn instead\n"
     ]
    },
    {
     "name": "stdout",
     "output_type": "stream",
     "text": [
      "Jaccard distance computing time cost: 75.42598867416382\n",
      "Extracting Online Features for vgg16 ...\n",
      "Features extracted in 155.06 seconds\n",
      "Computing jaccard distance...\n"
     ]
    },
    {
     "name": "stderr",
     "output_type": "stream",
     "text": [
      "bruteForceKnn is deprecated; call bfKnn instead\n"
     ]
    },
    {
     "name": "stdout",
     "output_type": "stream",
     "text": [
      "Jaccard distance computing time cost: 71.52026152610779\n",
      "Extracting Online Features for resnet50 ...\n",
      "Features extracted in 153.39 seconds\n",
      "Computing jaccard distance...\n"
     ]
    },
    {
     "name": "stderr",
     "output_type": "stream",
     "text": [
      "bruteForceKnn is deprecated; call bfKnn instead\n"
     ]
    },
    {
     "name": "stdout",
     "output_type": "stream",
     "text": [
      "Jaccard distance computing time cost: 74.39646553993225\n",
      "Extracting Online Features for osnet ...\n",
      "Features extracted in 155.17 seconds\n",
      "Computing jaccard distance...\n"
     ]
    },
    {
     "name": "stderr",
     "output_type": "stream",
     "text": [
      "bruteForceKnn is deprecated; call bfKnn instead\n"
     ]
    },
    {
     "name": "stdout",
     "output_type": "stream",
     "text": [
      "Jaccard distance computing time cost: 80.61115384101868\n",
      "Extracting Online Features for densenet121 ...\n",
      "Features extracted in 154.31 seconds\n",
      "Computing jaccard distance...\n"
     ]
    },
    {
     "name": "stderr",
     "output_type": "stream",
     "text": [
      "bruteForceKnn is deprecated; call bfKnn instead\n"
     ]
    },
    {
     "name": "stdout",
     "output_type": "stream",
     "text": [
      "Jaccard distance computing time cost: 72.7450180053711\n",
      "Reliability: 0.997\n",
      "\u001b[32mMean Purity: 0.01845\u001b[0m\n",
      "\u001b[34mThere are 2 clusters with 4 cameras\u001b[0m\n",
      "\u001b[34mThere are 4 clusters with 5 cameras\u001b[0m\n",
      "\u001b[34mThere are 2 clusters with 7 cameras\u001b[0m\n",
      "\u001b[34mThere are 1 clusters with 9 cameras\u001b[0m\n",
      "\u001b[34mThere are 1 clusters with 11 cameras\u001b[0m\n",
      "\u001b[34mThere are 1 clusters with 12 cameras\u001b[0m\n",
      "\u001b[34mThere are 1 clusters with 16 cameras\u001b[0m\n",
      "\u001b[34mThere are 1 clusters with 19 cameras\u001b[0m\n",
      "\u001b[34mThere are 2 clusters with 29 cameras\u001b[0m\n",
      "\u001b[34mThere are 1 clusters with 32 cameras\u001b[0m\n",
      "\u001b[34mThere are 1 clusters with 34 cameras\u001b[0m\n",
      "\u001b[34mThere are 1 clusters with 45 cameras\u001b[0m\n",
      "\u001b[34mThere are 1 clusters with 47 cameras\u001b[0m\n",
      "\u001b[34mThere are 1 clusters with 52 cameras\u001b[0m\n",
      "\u001b[34mThere are 1 clusters with 53 cameras\u001b[0m\n",
      "\u001b[34mThere are 1 clusters with 54 cameras\u001b[0m\n",
      "\u001b[34mThere are 2 clusters with 57 cameras\u001b[0m\n",
      "\u001b[34mThere are 1 clusters with 58 cameras\u001b[0m\n",
      "\u001b[34mThere are 3 clusters with 59 cameras\u001b[0m\n",
      "\u001b[34mThere are 3 clusters with 60 cameras\u001b[0m\n",
      "\u001b[34mThere are 8 clusters with 61 cameras\u001b[0m\n",
      "\u001b[34mThere are 10 clusters with 62 cameras\u001b[0m\n",
      "\u001b[34mThere are 25 clusters with 63 cameras\u001b[0m\n",
      "\u001b[34mThere are 494 clusters with 64 cameras\u001b[0m\n",
      "\u001b[34mThere are 1 clusters with 92 cameras\u001b[0m\n",
      "\u001b[34mThere are 1 clusters with 97 cameras\u001b[0m\n",
      "\u001b[34mThere are 1 clusters with 120 cameras\u001b[0m\n",
      "\u001b[34mThere are 1 clusters with 121 cameras\u001b[0m\n",
      "\u001b[34mThere are 1 clusters with 122 cameras\u001b[0m\n",
      "\u001b[34mThere are 1 clusters with 124 cameras\u001b[0m\n",
      "\u001b[34mThere are 1 clusters with 125 cameras\u001b[0m\n",
      "\u001b[34mThere are 1 clusters with 126 cameras\u001b[0m\n",
      "\u001b[34mThere are 6 clusters with 127 cameras\u001b[0m\n",
      "\u001b[34mThere are 10 clusters with 128 cameras\u001b[0m\n",
      "Number of classes: 592\n",
      "\u001b[36mLearning Rate: 0.000350\u001b[0m\n",
      "encontrou modelos mobilenet. Carregando...\n",
      "encontrou modelos vgg16. Carregando...\n",
      "encontrou modelos resnet50. Carregando...\n",
      "encontrou modelos osnet. Carregando...\n",
      "encontrou modelos densenet121. Carregando...\n",
      "###============ Iteration number 55/90 ============###\n",
      "Extracting Online Features for mobilenet ...\n",
      "Features extracted in 152.82 seconds\n",
      "Computing jaccard distance...\n"
     ]
    },
    {
     "name": "stderr",
     "output_type": "stream",
     "text": [
      "bruteForceKnn is deprecated; call bfKnn instead\n"
     ]
    },
    {
     "name": "stdout",
     "output_type": "stream",
     "text": [
      "Jaccard distance computing time cost: 71.88066864013672\n",
      "Extracting Online Features for vgg16 ...\n",
      "Features extracted in 154.94 seconds\n",
      "Computing jaccard distance...\n"
     ]
    },
    {
     "name": "stderr",
     "output_type": "stream",
     "text": [
      "bruteForceKnn is deprecated; call bfKnn instead\n"
     ]
    },
    {
     "name": "stdout",
     "output_type": "stream",
     "text": [
      "Jaccard distance computing time cost: 68.97399806976318\n",
      "Extracting Online Features for resnet50 ...\n",
      "Features extracted in 154.10 seconds\n",
      "Computing jaccard distance...\n"
     ]
    },
    {
     "name": "stderr",
     "output_type": "stream",
     "text": [
      "bruteForceKnn is deprecated; call bfKnn instead\n"
     ]
    },
    {
     "name": "stdout",
     "output_type": "stream",
     "text": [
      "Jaccard distance computing time cost: 70.97169303894043\n",
      "Extracting Online Features for osnet ...\n",
      "Features extracted in 157.34 seconds\n",
      "Computing jaccard distance...\n"
     ]
    },
    {
     "name": "stderr",
     "output_type": "stream",
     "text": [
      "bruteForceKnn is deprecated; call bfKnn instead\n"
     ]
    },
    {
     "name": "stdout",
     "output_type": "stream",
     "text": [
      "Jaccard distance computing time cost: 69.39792728424072\n",
      "Extracting Online Features for densenet121 ...\n",
      "Features extracted in 157.35 seconds\n",
      "Computing jaccard distance...\n"
     ]
    },
    {
     "name": "stderr",
     "output_type": "stream",
     "text": [
      "bruteForceKnn is deprecated; call bfKnn instead\n"
     ]
    },
    {
     "name": "stdout",
     "output_type": "stream",
     "text": [
      "Jaccard distance computing time cost: 74.35586905479431\n",
      "Reliability: 0.997\n",
      "\u001b[32mMean Purity: 0.01845\u001b[0m\n",
      "\u001b[34mThere are 2 clusters with 4 cameras\u001b[0m\n",
      "\u001b[34mThere are 4 clusters with 5 cameras\u001b[0m\n",
      "\u001b[34mThere are 2 clusters with 7 cameras\u001b[0m\n",
      "\u001b[34mThere are 1 clusters with 9 cameras\u001b[0m\n",
      "\u001b[34mThere are 1 clusters with 11 cameras\u001b[0m\n",
      "\u001b[34mThere are 1 clusters with 12 cameras\u001b[0m\n",
      "\u001b[34mThere are 1 clusters with 16 cameras\u001b[0m\n",
      "\u001b[34mThere are 1 clusters with 19 cameras\u001b[0m\n",
      "\u001b[34mThere are 2 clusters with 29 cameras\u001b[0m\n",
      "\u001b[34mThere are 1 clusters with 32 cameras\u001b[0m\n",
      "\u001b[34mThere are 1 clusters with 34 cameras\u001b[0m\n",
      "\u001b[34mThere are 1 clusters with 45 cameras\u001b[0m\n",
      "\u001b[34mThere are 1 clusters with 47 cameras\u001b[0m\n",
      "\u001b[34mThere are 1 clusters with 52 cameras\u001b[0m\n",
      "\u001b[34mThere are 1 clusters with 53 cameras\u001b[0m\n",
      "\u001b[34mThere are 1 clusters with 54 cameras\u001b[0m\n",
      "\u001b[34mThere are 2 clusters with 57 cameras\u001b[0m\n",
      "\u001b[34mThere are 1 clusters with 58 cameras\u001b[0m\n",
      "\u001b[34mThere are 3 clusters with 59 cameras\u001b[0m\n",
      "\u001b[34mThere are 3 clusters with 60 cameras\u001b[0m\n",
      "\u001b[34mThere are 8 clusters with 61 cameras\u001b[0m\n",
      "\u001b[34mThere are 10 clusters with 62 cameras\u001b[0m\n",
      "\u001b[34mThere are 25 clusters with 63 cameras\u001b[0m\n",
      "\u001b[34mThere are 494 clusters with 64 cameras\u001b[0m\n",
      "\u001b[34mThere are 1 clusters with 92 cameras\u001b[0m\n",
      "\u001b[34mThere are 1 clusters with 97 cameras\u001b[0m\n",
      "\u001b[34mThere are 1 clusters with 120 cameras\u001b[0m\n",
      "\u001b[34mThere are 1 clusters with 121 cameras\u001b[0m\n",
      "\u001b[34mThere are 1 clusters with 122 cameras\u001b[0m\n",
      "\u001b[34mThere are 1 clusters with 124 cameras\u001b[0m\n",
      "\u001b[34mThere are 1 clusters with 125 cameras\u001b[0m\n",
      "\u001b[34mThere are 1 clusters with 126 cameras\u001b[0m\n",
      "\u001b[34mThere are 6 clusters with 127 cameras\u001b[0m\n",
      "\u001b[34mThere are 10 clusters with 128 cameras\u001b[0m\n",
      "Number of classes: 592\n",
      "\u001b[36mLearning Rate: 0.000350\u001b[0m\n",
      "encontrou modelos mobilenet. Carregando...\n",
      "encontrou modelos vgg16. Carregando...\n",
      "encontrou modelos resnet50. Carregando...\n",
      "encontrou modelos osnet. Carregando...\n",
      "encontrou modelos densenet121. Carregando...\n",
      "\u001b[33mValidating online mobilenet ...\u001b[0m\n",
      "Features extracted in 47.83 seconds\n",
      "Features extracted in 99.46 seconds\n",
      "Computing CMC and mAP ...\n",
      "** Results **\n",
      "mAP: 71.39%\n",
      "CMC curve\n",
      "Rank-1  : 81.53%\n",
      "Rank-5  : 95.41%\n",
      "Rank-10 : 98.02%\n",
      "Rank-20 : 99.18%\n",
      "\u001b[33mValidating momentum mobilenet ...\u001b[0m\n",
      "Features extracted in 47.39 seconds\n",
      "Features extracted in 100.08 seconds\n",
      "Computing CMC and mAP ...\n",
      "** Results **\n",
      "mAP: 70.86%\n",
      "CMC curve\n",
      "Rank-1  : 78.95%\n",
      "Rank-5  : 93.89%\n",
      "Rank-10 : 97.47%\n",
      "Rank-20 : 99.27%\n",
      "\u001b[33mValidating online vgg16 ...\u001b[0m\n",
      "Features extracted in 49.03 seconds\n",
      "Features extracted in 103.27 seconds\n",
      "Computing CMC and mAP ...\n",
      "** Results **\n",
      "mAP: 69.67%\n",
      "CMC curve\n",
      "Rank-1  : 74.49%\n",
      "Rank-5  : 92.27%\n",
      "Rank-10 : 96.56%\n",
      "Rank-20 : 99.05%\n",
      "\u001b[33mValidating momentum vgg16 ...\u001b[0m\n",
      "Features extracted in 49.14 seconds\n",
      "Features extracted in 102.78 seconds\n",
      "Computing CMC and mAP ...\n",
      "** Results **\n",
      "mAP: 69.72%\n",
      "CMC curve\n",
      "Rank-1  : 75.80%\n",
      "Rank-5  : 92.91%\n",
      "Rank-10 : 97.25%\n",
      "Rank-20 : 99.09%\n",
      "\u001b[33mValidating online resnet50 ...\u001b[0m\n",
      "Features extracted in 48.48 seconds\n",
      "Features extracted in 102.04 seconds\n",
      "Computing CMC and mAP ...\n",
      "** Results **\n",
      "mAP: 69.64%\n",
      "CMC curve\n",
      "Rank-1  : 70.07%\n",
      "Rank-5  : 91.28%\n",
      "Rank-10 : 96.04%\n",
      "Rank-20 : 98.68%\n",
      "\u001b[33mValidating momentum resnet50 ...\u001b[0m\n",
      "Features extracted in 48.49 seconds\n",
      "Features extracted in 100.95 seconds\n",
      "Computing CMC and mAP ...\n",
      "** Results **\n",
      "mAP: 70.02%\n",
      "CMC curve\n",
      "Rank-1  : 73.39%\n",
      "Rank-5  : 93.49%\n",
      "Rank-10 : 97.50%\n",
      "Rank-20 : 99.37%\n",
      "\u001b[33mValidating online osnet ...\u001b[0m\n",
      "Features extracted in 48.64 seconds\n",
      "Features extracted in 102.42 seconds\n",
      "Computing CMC and mAP ...\n",
      "** Results **\n",
      "mAP: 68.61%\n",
      "CMC curve\n",
      "Rank-1  : 73.02%\n",
      "Rank-5  : 95.04%\n",
      "Rank-10 : 98.36%\n",
      "Rank-20 : 99.48%\n",
      "\u001b[33mValidating momentum osnet ...\u001b[0m\n",
      "Features extracted in 50.00 seconds\n",
      "Features extracted in 102.14 seconds\n",
      "Computing CMC and mAP ...\n",
      "** Results **\n",
      "mAP: 69.41%\n",
      "CMC curve\n",
      "Rank-1  : 73.33%\n",
      "Rank-5  : 93.06%\n",
      "Rank-10 : 97.14%\n",
      "Rank-20 : 99.12%\n",
      "\u001b[33mValidating online densenet121 ...\u001b[0m\n",
      "Features extracted in 48.92 seconds\n",
      "Features extracted in 101.93 seconds\n",
      "Computing CMC and mAP ...\n",
      "** Results **\n",
      "mAP: 70.12%\n",
      "CMC curve\n",
      "Rank-1  : 75.15%\n",
      "Rank-5  : 92.89%\n",
      "Rank-10 : 97.00%\n",
      "Rank-20 : 98.95%\n",
      "\u001b[33mValidating momentum densenet121 ...\u001b[0m\n",
      "Features extracted in 49.59 seconds\n",
      "Features extracted in 103.24 seconds\n",
      "Computing CMC and mAP ...\n",
      "** Results **\n",
      "mAP: 69.53%\n",
      "CMC curve\n",
      "Rank-1  : 75.91%\n",
      "Rank-5  : 93.33%\n",
      "Rank-10 : 97.31%\n",
      "Rank-20 : 99.25%\n",
      "\u001b[33mValidating ensembled with online models ...\u001b[0m\n",
      "Computing CMC and mAP ...\n",
      "** Results **\n",
      "mAP: 70.82%\n",
      "Ranks:\n",
      "Rank-1  : 78.15%\n",
      "Rank-5  : 92.64%\n",
      "Rank-10 : 96.59%\n",
      "\u001b[33mValidating ensembled with momentum models ...\u001b[0m\n",
      "Computing CMC and mAP ...\n",
      "** Results **\n",
      "mAP: 70.51%\n",
      "Ranks:\n",
      "Rank-1  : 78.02%\n",
      "Rank-5  : 92.58%\n",
      "Rank-10 : 96.55%\n",
      "###============ Iteration number 56/90 ============###\n",
      "Extracting Online Features for mobilenet ...\n",
      "Features extracted in 156.86 seconds\n",
      "Computing jaccard distance...\n"
     ]
    },
    {
     "name": "stderr",
     "output_type": "stream",
     "text": [
      "bruteForceKnn is deprecated; call bfKnn instead\n"
     ]
    },
    {
     "name": "stdout",
     "output_type": "stream",
     "text": [
      "Jaccard distance computing time cost: 71.19051265716553\n",
      "Extracting Online Features for vgg16 ...\n",
      "Features extracted in 157.99 seconds\n",
      "Computing jaccard distance...\n"
     ]
    },
    {
     "name": "stderr",
     "output_type": "stream",
     "text": [
      "bruteForceKnn is deprecated; call bfKnn instead\n"
     ]
    },
    {
     "name": "stdout",
     "output_type": "stream",
     "text": [
      "Jaccard distance computing time cost: 73.46943831443787\n",
      "Extracting Online Features for resnet50 ...\n",
      "Features extracted in 154.18 seconds\n",
      "Computing jaccard distance...\n"
     ]
    },
    {
     "name": "stderr",
     "output_type": "stream",
     "text": [
      "bruteForceKnn is deprecated; call bfKnn instead\n"
     ]
    },
    {
     "name": "stdout",
     "output_type": "stream",
     "text": [
      "Jaccard distance computing time cost: 76.89207553863525\n",
      "Extracting Online Features for osnet ...\n",
      "Features extracted in 157.46 seconds\n",
      "Computing jaccard distance...\n"
     ]
    },
    {
     "name": "stderr",
     "output_type": "stream",
     "text": [
      "bruteForceKnn is deprecated; call bfKnn instead\n"
     ]
    },
    {
     "name": "stdout",
     "output_type": "stream",
     "text": [
      "Jaccard distance computing time cost: 72.59457182884216\n",
      "Extracting Online Features for densenet121 ...\n",
      "Features extracted in 153.69 seconds\n",
      "Computing jaccard distance...\n"
     ]
    },
    {
     "name": "stderr",
     "output_type": "stream",
     "text": [
      "bruteForceKnn is deprecated; call bfKnn instead\n"
     ]
    },
    {
     "name": "stdout",
     "output_type": "stream",
     "text": [
      "Jaccard distance computing time cost: 72.0638473033905\n",
      "Reliability: 0.997\n",
      "\u001b[32mMean Purity: 0.01845\u001b[0m\n",
      "\u001b[34mThere are 2 clusters with 4 cameras\u001b[0m\n",
      "\u001b[34mThere are 4 clusters with 5 cameras\u001b[0m\n",
      "\u001b[34mThere are 2 clusters with 7 cameras\u001b[0m\n",
      "\u001b[34mThere are 1 clusters with 9 cameras\u001b[0m\n",
      "\u001b[34mThere are 1 clusters with 11 cameras\u001b[0m\n",
      "\u001b[34mThere are 1 clusters with 12 cameras\u001b[0m\n",
      "\u001b[34mThere are 1 clusters with 16 cameras\u001b[0m\n",
      "\u001b[34mThere are 1 clusters with 19 cameras\u001b[0m\n",
      "\u001b[34mThere are 2 clusters with 29 cameras\u001b[0m\n",
      "\u001b[34mThere are 1 clusters with 32 cameras\u001b[0m\n",
      "\u001b[34mThere are 1 clusters with 34 cameras\u001b[0m\n",
      "\u001b[34mThere are 1 clusters with 45 cameras\u001b[0m\n",
      "\u001b[34mThere are 1 clusters with 47 cameras\u001b[0m\n",
      "\u001b[34mThere are 1 clusters with 52 cameras\u001b[0m\n",
      "\u001b[34mThere are 1 clusters with 53 cameras\u001b[0m\n",
      "\u001b[34mThere are 1 clusters with 54 cameras\u001b[0m\n",
      "\u001b[34mThere are 2 clusters with 57 cameras\u001b[0m\n",
      "\u001b[34mThere are 1 clusters with 58 cameras\u001b[0m\n",
      "\u001b[34mThere are 3 clusters with 59 cameras\u001b[0m\n",
      "\u001b[34mThere are 3 clusters with 60 cameras\u001b[0m\n",
      "\u001b[34mThere are 8 clusters with 61 cameras\u001b[0m\n",
      "\u001b[34mThere are 10 clusters with 62 cameras\u001b[0m\n",
      "\u001b[34mThere are 25 clusters with 63 cameras\u001b[0m\n",
      "\u001b[34mThere are 494 clusters with 64 cameras\u001b[0m\n",
      "\u001b[34mThere are 1 clusters with 92 cameras\u001b[0m\n",
      "\u001b[34mThere are 1 clusters with 97 cameras\u001b[0m\n",
      "\u001b[34mThere are 1 clusters with 120 cameras\u001b[0m\n",
      "\u001b[34mThere are 1 clusters with 121 cameras\u001b[0m\n",
      "\u001b[34mThere are 1 clusters with 122 cameras\u001b[0m\n",
      "\u001b[34mThere are 1 clusters with 124 cameras\u001b[0m\n",
      "\u001b[34mThere are 1 clusters with 125 cameras\u001b[0m\n",
      "\u001b[34mThere are 1 clusters with 126 cameras\u001b[0m\n",
      "\u001b[34mThere are 6 clusters with 127 cameras\u001b[0m\n",
      "\u001b[34mThere are 10 clusters with 128 cameras\u001b[0m\n",
      "Number of classes: 592\n",
      "\u001b[36mLearning Rate: 0.000350\u001b[0m\n",
      "encontrou modelos mobilenet. Carregando...\n",
      "encontrou modelos vgg16. Carregando...\n",
      "encontrou modelos resnet50. Carregando...\n",
      "encontrou modelos osnet. Carregando...\n",
      "encontrou modelos densenet121. Carregando...\n",
      "###============ Iteration number 57/90 ============###\n",
      "Extracting Online Features for mobilenet ...\n",
      "Features extracted in 150.72 seconds\n",
      "Computing jaccard distance...\n"
     ]
    },
    {
     "name": "stderr",
     "output_type": "stream",
     "text": [
      "bruteForceKnn is deprecated; call bfKnn instead\n"
     ]
    },
    {
     "name": "stdout",
     "output_type": "stream",
     "text": [
      "Jaccard distance computing time cost: 84.03686094284058\n",
      "Extracting Online Features for vgg16 ...\n",
      "Features extracted in 154.26 seconds\n",
      "Computing jaccard distance...\n"
     ]
    },
    {
     "name": "stderr",
     "output_type": "stream",
     "text": [
      "bruteForceKnn is deprecated; call bfKnn instead\n"
     ]
    },
    {
     "name": "stdout",
     "output_type": "stream",
     "text": [
      "Jaccard distance computing time cost: 81.57354235649109\n",
      "Extracting Online Features for resnet50 ...\n",
      "Features extracted in 158.42 seconds\n",
      "Computing jaccard distance...\n"
     ]
    },
    {
     "name": "stderr",
     "output_type": "stream",
     "text": [
      "bruteForceKnn is deprecated; call bfKnn instead\n"
     ]
    },
    {
     "name": "stdout",
     "output_type": "stream",
     "text": [
      "Jaccard distance computing time cost: 70.45594930648804\n",
      "Extracting Online Features for osnet ...\n",
      "Features extracted in 152.27 seconds\n",
      "Computing jaccard distance...\n"
     ]
    },
    {
     "name": "stderr",
     "output_type": "stream",
     "text": [
      "bruteForceKnn is deprecated; call bfKnn instead\n"
     ]
    },
    {
     "name": "stdout",
     "output_type": "stream",
     "text": [
      "Jaccard distance computing time cost: 81.16309595108032\n",
      "Extracting Online Features for densenet121 ...\n",
      "Features extracted in 157.18 seconds\n",
      "Computing jaccard distance...\n"
     ]
    },
    {
     "name": "stderr",
     "output_type": "stream",
     "text": [
      "bruteForceKnn is deprecated; call bfKnn instead\n"
     ]
    },
    {
     "name": "stdout",
     "output_type": "stream",
     "text": [
      "Jaccard distance computing time cost: 77.51539850234985\n",
      "Reliability: 0.997\n",
      "\u001b[32mMean Purity: 0.01845\u001b[0m\n",
      "\u001b[34mThere are 2 clusters with 4 cameras\u001b[0m\n",
      "\u001b[34mThere are 4 clusters with 5 cameras\u001b[0m\n",
      "\u001b[34mThere are 2 clusters with 7 cameras\u001b[0m\n",
      "\u001b[34mThere are 1 clusters with 9 cameras\u001b[0m\n",
      "\u001b[34mThere are 1 clusters with 11 cameras\u001b[0m\n",
      "\u001b[34mThere are 1 clusters with 12 cameras\u001b[0m\n",
      "\u001b[34mThere are 1 clusters with 16 cameras\u001b[0m\n",
      "\u001b[34mThere are 1 clusters with 19 cameras\u001b[0m\n",
      "\u001b[34mThere are 2 clusters with 29 cameras\u001b[0m\n",
      "\u001b[34mThere are 1 clusters with 32 cameras\u001b[0m\n",
      "\u001b[34mThere are 1 clusters with 34 cameras\u001b[0m\n",
      "\u001b[34mThere are 1 clusters with 45 cameras\u001b[0m\n",
      "\u001b[34mThere are 1 clusters with 47 cameras\u001b[0m\n",
      "\u001b[34mThere are 1 clusters with 52 cameras\u001b[0m\n",
      "\u001b[34mThere are 1 clusters with 53 cameras\u001b[0m\n",
      "\u001b[34mThere are 1 clusters with 54 cameras\u001b[0m\n",
      "\u001b[34mThere are 2 clusters with 57 cameras\u001b[0m\n",
      "\u001b[34mThere are 1 clusters with 58 cameras\u001b[0m\n",
      "\u001b[34mThere are 3 clusters with 59 cameras\u001b[0m\n",
      "\u001b[34mThere are 3 clusters with 60 cameras\u001b[0m\n",
      "\u001b[34mThere are 8 clusters with 61 cameras\u001b[0m\n",
      "\u001b[34mThere are 10 clusters with 62 cameras\u001b[0m\n",
      "\u001b[34mThere are 25 clusters with 63 cameras\u001b[0m\n",
      "\u001b[34mThere are 494 clusters with 64 cameras\u001b[0m\n",
      "\u001b[34mThere are 1 clusters with 92 cameras\u001b[0m\n",
      "\u001b[34mThere are 1 clusters with 97 cameras\u001b[0m\n",
      "\u001b[34mThere are 1 clusters with 120 cameras\u001b[0m\n",
      "\u001b[34mThere are 1 clusters with 121 cameras\u001b[0m\n",
      "\u001b[34mThere are 1 clusters with 122 cameras\u001b[0m\n",
      "\u001b[34mThere are 1 clusters with 124 cameras\u001b[0m\n",
      "\u001b[34mThere are 1 clusters with 125 cameras\u001b[0m\n",
      "\u001b[34mThere are 1 clusters with 126 cameras\u001b[0m\n",
      "\u001b[34mThere are 6 clusters with 127 cameras\u001b[0m\n",
      "\u001b[34mThere are 10 clusters with 128 cameras\u001b[0m\n",
      "Number of classes: 592\n",
      "\u001b[36mLearning Rate: 0.000350\u001b[0m\n",
      "encontrou modelos mobilenet. Carregando...\n",
      "encontrou modelos vgg16. Carregando...\n",
      "encontrou modelos resnet50. Carregando...\n",
      "encontrou modelos osnet. Carregando...\n",
      "encontrou modelos densenet121. Carregando...\n",
      "###============ Iteration number 58/90 ============###\n",
      "Extracting Online Features for mobilenet ...\n",
      "Features extracted in 156.43 seconds\n",
      "Computing jaccard distance...\n"
     ]
    },
    {
     "name": "stderr",
     "output_type": "stream",
     "text": [
      "bruteForceKnn is deprecated; call bfKnn instead\n"
     ]
    },
    {
     "name": "stdout",
     "output_type": "stream",
     "text": [
      "Jaccard distance computing time cost: 88.76000261306763\n",
      "Extracting Online Features for vgg16 ...\n",
      "Features extracted in 153.70 seconds\n",
      "Computing jaccard distance...\n"
     ]
    },
    {
     "name": "stderr",
     "output_type": "stream",
     "text": [
      "bruteForceKnn is deprecated; call bfKnn instead\n"
     ]
    },
    {
     "name": "stdout",
     "output_type": "stream",
     "text": [
      "Jaccard distance computing time cost: 87.89460039138794\n",
      "Extracting Online Features for resnet50 ...\n",
      "Features extracted in 159.05 seconds\n",
      "Computing jaccard distance...\n"
     ]
    },
    {
     "name": "stderr",
     "output_type": "stream",
     "text": [
      "bruteForceKnn is deprecated; call bfKnn instead\n"
     ]
    },
    {
     "name": "stdout",
     "output_type": "stream",
     "text": [
      "Jaccard distance computing time cost: 80.81881928443909\n",
      "Extracting Online Features for osnet ...\n",
      "Features extracted in 159.31 seconds\n",
      "Computing jaccard distance...\n"
     ]
    },
    {
     "name": "stderr",
     "output_type": "stream",
     "text": [
      "bruteForceKnn is deprecated; call bfKnn instead\n"
     ]
    },
    {
     "name": "stdout",
     "output_type": "stream",
     "text": [
      "Jaccard distance computing time cost: 81.65129709243774\n",
      "Extracting Online Features for densenet121 ...\n",
      "Features extracted in 158.68 seconds\n",
      "Computing jaccard distance...\n"
     ]
    },
    {
     "name": "stderr",
     "output_type": "stream",
     "text": [
      "bruteForceKnn is deprecated; call bfKnn instead\n"
     ]
    },
    {
     "name": "stdout",
     "output_type": "stream",
     "text": [
      "Jaccard distance computing time cost: 73.28959393501282\n",
      "Reliability: 0.997\n",
      "\u001b[32mMean Purity: 0.01845\u001b[0m\n",
      "\u001b[34mThere are 2 clusters with 4 cameras\u001b[0m\n",
      "\u001b[34mThere are 4 clusters with 5 cameras\u001b[0m\n",
      "\u001b[34mThere are 2 clusters with 7 cameras\u001b[0m\n",
      "\u001b[34mThere are 1 clusters with 9 cameras\u001b[0m\n",
      "\u001b[34mThere are 1 clusters with 11 cameras\u001b[0m\n",
      "\u001b[34mThere are 1 clusters with 12 cameras\u001b[0m\n",
      "\u001b[34mThere are 1 clusters with 16 cameras\u001b[0m\n",
      "\u001b[34mThere are 1 clusters with 19 cameras\u001b[0m\n",
      "\u001b[34mThere are 2 clusters with 29 cameras\u001b[0m\n",
      "\u001b[34mThere are 1 clusters with 32 cameras\u001b[0m\n",
      "\u001b[34mThere are 1 clusters with 34 cameras\u001b[0m\n",
      "\u001b[34mThere are 1 clusters with 45 cameras\u001b[0m\n",
      "\u001b[34mThere are 1 clusters with 47 cameras\u001b[0m\n",
      "\u001b[34mThere are 1 clusters with 52 cameras\u001b[0m\n",
      "\u001b[34mThere are 1 clusters with 53 cameras\u001b[0m\n",
      "\u001b[34mThere are 1 clusters with 54 cameras\u001b[0m\n",
      "\u001b[34mThere are 2 clusters with 57 cameras\u001b[0m\n",
      "\u001b[34mThere are 1 clusters with 58 cameras\u001b[0m\n",
      "\u001b[34mThere are 3 clusters with 59 cameras\u001b[0m\n",
      "\u001b[34mThere are 3 clusters with 60 cameras\u001b[0m\n",
      "\u001b[34mThere are 8 clusters with 61 cameras\u001b[0m\n",
      "\u001b[34mThere are 10 clusters with 62 cameras\u001b[0m\n",
      "\u001b[34mThere are 25 clusters with 63 cameras\u001b[0m\n",
      "\u001b[34mThere are 494 clusters with 64 cameras\u001b[0m\n",
      "\u001b[34mThere are 1 clusters with 92 cameras\u001b[0m\n",
      "\u001b[34mThere are 1 clusters with 97 cameras\u001b[0m\n",
      "\u001b[34mThere are 1 clusters with 120 cameras\u001b[0m\n",
      "\u001b[34mThere are 1 clusters with 121 cameras\u001b[0m\n",
      "\u001b[34mThere are 1 clusters with 122 cameras\u001b[0m\n",
      "\u001b[34mThere are 1 clusters with 124 cameras\u001b[0m\n",
      "\u001b[34mThere are 1 clusters with 125 cameras\u001b[0m\n",
      "\u001b[34mThere are 1 clusters with 126 cameras\u001b[0m\n",
      "\u001b[34mThere are 6 clusters with 127 cameras\u001b[0m\n",
      "\u001b[34mThere are 10 clusters with 128 cameras\u001b[0m\n",
      "Number of classes: 592\n",
      "\u001b[36mLearning Rate: 0.000350\u001b[0m\n",
      "encontrou modelos mobilenet. Carregando...\n",
      "encontrou modelos vgg16. Carregando...\n",
      "encontrou modelos resnet50. Carregando...\n",
      "encontrou modelos osnet. Carregando...\n",
      "encontrou modelos densenet121. Carregando...\n",
      "###============ Iteration number 59/90 ============###\n",
      "Extracting Online Features for mobilenet ...\n",
      "Features extracted in 153.12 seconds\n",
      "Computing jaccard distance...\n"
     ]
    },
    {
     "name": "stderr",
     "output_type": "stream",
     "text": [
      "bruteForceKnn is deprecated; call bfKnn instead\n"
     ]
    },
    {
     "name": "stdout",
     "output_type": "stream",
     "text": [
      "Jaccard distance computing time cost: 73.69676542282104\n",
      "Extracting Online Features for vgg16 ...\n",
      "Features extracted in 159.08 seconds\n",
      "Computing jaccard distance...\n"
     ]
    },
    {
     "name": "stderr",
     "output_type": "stream",
     "text": [
      "bruteForceKnn is deprecated; call bfKnn instead\n"
     ]
    },
    {
     "name": "stdout",
     "output_type": "stream",
     "text": [
      "Jaccard distance computing time cost: 70.86928915977478\n",
      "Extracting Online Features for resnet50 ...\n",
      "Features extracted in 154.06 seconds\n",
      "Computing jaccard distance...\n"
     ]
    },
    {
     "name": "stderr",
     "output_type": "stream",
     "text": [
      "bruteForceKnn is deprecated; call bfKnn instead\n"
     ]
    },
    {
     "name": "stdout",
     "output_type": "stream",
     "text": [
      "Jaccard distance computing time cost: 71.77099442481995\n",
      "Extracting Online Features for osnet ...\n",
      "Features extracted in 155.07 seconds\n",
      "Computing jaccard distance...\n"
     ]
    },
    {
     "name": "stderr",
     "output_type": "stream",
     "text": [
      "bruteForceKnn is deprecated; call bfKnn instead\n"
     ]
    },
    {
     "name": "stdout",
     "output_type": "stream",
     "text": [
      "Jaccard distance computing time cost: 68.13092184066772\n",
      "Extracting Online Features for densenet121 ...\n",
      "Features extracted in 154.73 seconds\n",
      "Computing jaccard distance...\n"
     ]
    },
    {
     "name": "stderr",
     "output_type": "stream",
     "text": [
      "bruteForceKnn is deprecated; call bfKnn instead\n"
     ]
    },
    {
     "name": "stdout",
     "output_type": "stream",
     "text": [
      "Jaccard distance computing time cost: 78.2760648727417\n",
      "Reliability: 0.997\n",
      "\u001b[32mMean Purity: 0.01845\u001b[0m\n",
      "\u001b[34mThere are 2 clusters with 4 cameras\u001b[0m\n",
      "\u001b[34mThere are 4 clusters with 5 cameras\u001b[0m\n",
      "\u001b[34mThere are 2 clusters with 7 cameras\u001b[0m\n",
      "\u001b[34mThere are 1 clusters with 9 cameras\u001b[0m\n",
      "\u001b[34mThere are 1 clusters with 11 cameras\u001b[0m\n",
      "\u001b[34mThere are 1 clusters with 12 cameras\u001b[0m\n",
      "\u001b[34mThere are 1 clusters with 16 cameras\u001b[0m\n",
      "\u001b[34mThere are 1 clusters with 19 cameras\u001b[0m\n",
      "\u001b[34mThere are 2 clusters with 29 cameras\u001b[0m\n",
      "\u001b[34mThere are 1 clusters with 32 cameras\u001b[0m\n",
      "\u001b[34mThere are 1 clusters with 34 cameras\u001b[0m\n",
      "\u001b[34mThere are 1 clusters with 45 cameras\u001b[0m\n",
      "\u001b[34mThere are 1 clusters with 47 cameras\u001b[0m\n",
      "\u001b[34mThere are 1 clusters with 52 cameras\u001b[0m\n",
      "\u001b[34mThere are 1 clusters with 53 cameras\u001b[0m\n",
      "\u001b[34mThere are 1 clusters with 54 cameras\u001b[0m\n",
      "\u001b[34mThere are 2 clusters with 57 cameras\u001b[0m\n",
      "\u001b[34mThere are 1 clusters with 58 cameras\u001b[0m\n",
      "\u001b[34mThere are 3 clusters with 59 cameras\u001b[0m\n",
      "\u001b[34mThere are 3 clusters with 60 cameras\u001b[0m\n",
      "\u001b[34mThere are 8 clusters with 61 cameras\u001b[0m\n",
      "\u001b[34mThere are 10 clusters with 62 cameras\u001b[0m\n",
      "\u001b[34mThere are 25 clusters with 63 cameras\u001b[0m\n",
      "\u001b[34mThere are 494 clusters with 64 cameras\u001b[0m\n",
      "\u001b[34mThere are 1 clusters with 92 cameras\u001b[0m\n",
      "\u001b[34mThere are 1 clusters with 97 cameras\u001b[0m\n",
      "\u001b[34mThere are 1 clusters with 120 cameras\u001b[0m\n",
      "\u001b[34mThere are 1 clusters with 121 cameras\u001b[0m\n",
      "\u001b[34mThere are 1 clusters with 122 cameras\u001b[0m\n",
      "\u001b[34mThere are 1 clusters with 124 cameras\u001b[0m\n",
      "\u001b[34mThere are 1 clusters with 125 cameras\u001b[0m\n",
      "\u001b[34mThere are 1 clusters with 126 cameras\u001b[0m\n",
      "\u001b[34mThere are 6 clusters with 127 cameras\u001b[0m\n",
      "\u001b[34mThere are 10 clusters with 128 cameras\u001b[0m\n",
      "Number of classes: 592\n",
      "\u001b[36mLearning Rate: 0.000350\u001b[0m\n",
      "encontrou modelos mobilenet. Carregando...\n",
      "encontrou modelos vgg16. Carregando...\n",
      "encontrou modelos resnet50. Carregando...\n",
      "encontrou modelos osnet. Carregando...\n",
      "encontrou modelos densenet121. Carregando...\n",
      "###============ Iteration number 60/90 ============###\n",
      "Extracting Online Features for mobilenet ...\n",
      "Features extracted in 153.35 seconds\n",
      "Computing jaccard distance...\n"
     ]
    },
    {
     "name": "stderr",
     "output_type": "stream",
     "text": [
      "bruteForceKnn is deprecated; call bfKnn instead\n"
     ]
    },
    {
     "name": "stdout",
     "output_type": "stream",
     "text": [
      "Jaccard distance computing time cost: 70.56720566749573\n",
      "Extracting Online Features for vgg16 ...\n",
      "Features extracted in 160.69 seconds\n",
      "Computing jaccard distance...\n"
     ]
    },
    {
     "name": "stderr",
     "output_type": "stream",
     "text": [
      "bruteForceKnn is deprecated; call bfKnn instead\n"
     ]
    },
    {
     "name": "stdout",
     "output_type": "stream",
     "text": [
      "Jaccard distance computing time cost: 70.41427755355835\n",
      "Extracting Online Features for resnet50 ...\n",
      "Features extracted in 158.87 seconds\n",
      "Computing jaccard distance...\n"
     ]
    },
    {
     "name": "stderr",
     "output_type": "stream",
     "text": [
      "bruteForceKnn is deprecated; call bfKnn instead\n"
     ]
    },
    {
     "name": "stdout",
     "output_type": "stream",
     "text": [
      "Jaccard distance computing time cost: 70.83740615844727\n",
      "Extracting Online Features for osnet ...\n",
      "Features extracted in 155.67 seconds\n",
      "Computing jaccard distance...\n"
     ]
    },
    {
     "name": "stderr",
     "output_type": "stream",
     "text": [
      "bruteForceKnn is deprecated; call bfKnn instead\n"
     ]
    },
    {
     "name": "stdout",
     "output_type": "stream",
     "text": [
      "Jaccard distance computing time cost: 72.18125581741333\n",
      "Extracting Online Features for densenet121 ...\n",
      "Features extracted in 160.25 seconds\n",
      "Computing jaccard distance...\n"
     ]
    },
    {
     "name": "stderr",
     "output_type": "stream",
     "text": [
      "bruteForceKnn is deprecated; call bfKnn instead\n"
     ]
    },
    {
     "name": "stdout",
     "output_type": "stream",
     "text": [
      "Jaccard distance computing time cost: 72.44056153297424\n",
      "Reliability: 0.997\n",
      "\u001b[32mMean Purity: 0.01845\u001b[0m\n",
      "\u001b[34mThere are 2 clusters with 4 cameras\u001b[0m\n",
      "\u001b[34mThere are 4 clusters with 5 cameras\u001b[0m\n",
      "\u001b[34mThere are 2 clusters with 7 cameras\u001b[0m\n",
      "\u001b[34mThere are 1 clusters with 9 cameras\u001b[0m\n",
      "\u001b[34mThere are 1 clusters with 11 cameras\u001b[0m\n",
      "\u001b[34mThere are 1 clusters with 12 cameras\u001b[0m\n",
      "\u001b[34mThere are 1 clusters with 16 cameras\u001b[0m\n",
      "\u001b[34mThere are 1 clusters with 19 cameras\u001b[0m\n",
      "\u001b[34mThere are 2 clusters with 29 cameras\u001b[0m\n",
      "\u001b[34mThere are 1 clusters with 32 cameras\u001b[0m\n",
      "\u001b[34mThere are 1 clusters with 34 cameras\u001b[0m\n",
      "\u001b[34mThere are 1 clusters with 45 cameras\u001b[0m\n",
      "\u001b[34mThere are 1 clusters with 47 cameras\u001b[0m\n",
      "\u001b[34mThere are 1 clusters with 52 cameras\u001b[0m\n",
      "\u001b[34mThere are 1 clusters with 53 cameras\u001b[0m\n",
      "\u001b[34mThere are 1 clusters with 54 cameras\u001b[0m\n",
      "\u001b[34mThere are 2 clusters with 57 cameras\u001b[0m\n",
      "\u001b[34mThere are 1 clusters with 58 cameras\u001b[0m\n",
      "\u001b[34mThere are 3 clusters with 59 cameras\u001b[0m\n",
      "\u001b[34mThere are 3 clusters with 60 cameras\u001b[0m\n",
      "\u001b[34mThere are 8 clusters with 61 cameras\u001b[0m\n",
      "\u001b[34mThere are 10 clusters with 62 cameras\u001b[0m\n",
      "\u001b[34mThere are 25 clusters with 63 cameras\u001b[0m\n",
      "\u001b[34mThere are 494 clusters with 64 cameras\u001b[0m\n",
      "\u001b[34mThere are 1 clusters with 92 cameras\u001b[0m\n",
      "\u001b[34mThere are 1 clusters with 97 cameras\u001b[0m\n",
      "\u001b[34mThere are 1 clusters with 120 cameras\u001b[0m\n",
      "\u001b[34mThere are 1 clusters with 121 cameras\u001b[0m\n",
      "\u001b[34mThere are 1 clusters with 122 cameras\u001b[0m\n",
      "\u001b[34mThere are 1 clusters with 124 cameras\u001b[0m\n",
      "\u001b[34mThere are 1 clusters with 125 cameras\u001b[0m\n",
      "\u001b[34mThere are 1 clusters with 126 cameras\u001b[0m\n",
      "\u001b[34mThere are 6 clusters with 127 cameras\u001b[0m\n",
      "\u001b[34mThere are 10 clusters with 128 cameras\u001b[0m\n",
      "Number of classes: 592\n",
      "\u001b[36mLearning Rate: 0.000350\u001b[0m\n",
      "encontrou modelos mobilenet. Carregando...\n",
      "encontrou modelos vgg16. Carregando...\n",
      "encontrou modelos resnet50. Carregando...\n",
      "encontrou modelos osnet. Carregando...\n",
      "encontrou modelos densenet121. Carregando...\n",
      "\u001b[33mValidating online mobilenet ...\u001b[0m\n",
      "Features extracted in 47.73 seconds\n",
      "Features extracted in 99.68 seconds\n",
      "Computing CMC and mAP ...\n",
      "** Results **\n",
      "mAP: 71.39%\n",
      "CMC curve\n",
      "Rank-1  : 81.53%\n",
      "Rank-5  : 95.41%\n",
      "Rank-10 : 98.02%\n",
      "Rank-20 : 99.18%\n",
      "\u001b[33mValidating momentum mobilenet ...\u001b[0m\n",
      "Features extracted in 48.47 seconds\n",
      "Features extracted in 99.88 seconds\n",
      "Computing CMC and mAP ...\n",
      "** Results **\n",
      "mAP: 70.86%\n",
      "CMC curve\n",
      "Rank-1  : 78.95%\n",
      "Rank-5  : 93.89%\n",
      "Rank-10 : 97.47%\n",
      "Rank-20 : 99.27%\n",
      "\u001b[33mValidating online vgg16 ...\u001b[0m\n",
      "Features extracted in 48.55 seconds\n",
      "Features extracted in 102.37 seconds\n",
      "Computing CMC and mAP ...\n",
      "** Results **\n",
      "mAP: 69.67%\n",
      "CMC curve\n",
      "Rank-1  : 74.49%\n",
      "Rank-5  : 92.27%\n",
      "Rank-10 : 96.56%\n",
      "Rank-20 : 99.05%\n",
      "\u001b[33mValidating momentum vgg16 ...\u001b[0m\n",
      "Features extracted in 48.65 seconds\n",
      "Features extracted in 101.27 seconds\n",
      "Computing CMC and mAP ...\n",
      "** Results **\n",
      "mAP: 69.72%\n",
      "CMC curve\n",
      "Rank-1  : 75.80%\n",
      "Rank-5  : 92.91%\n",
      "Rank-10 : 97.25%\n",
      "Rank-20 : 99.09%\n",
      "\u001b[33mValidating online resnet50 ...\u001b[0m\n",
      "Features extracted in 48.08 seconds\n",
      "Features extracted in 100.19 seconds\n",
      "Computing CMC and mAP ...\n",
      "** Results **\n",
      "mAP: 69.64%\n",
      "CMC curve\n",
      "Rank-1  : 70.07%\n",
      "Rank-5  : 91.28%\n",
      "Rank-10 : 96.04%\n",
      "Rank-20 : 98.68%\n",
      "\u001b[33mValidating momentum resnet50 ...\u001b[0m\n",
      "Features extracted in 48.38 seconds\n",
      "Features extracted in 101.41 seconds\n",
      "Computing CMC and mAP ...\n",
      "** Results **\n",
      "mAP: 70.02%\n",
      "CMC curve\n",
      "Rank-1  : 73.39%\n",
      "Rank-5  : 93.49%\n",
      "Rank-10 : 97.50%\n",
      "Rank-20 : 99.37%\n",
      "\u001b[33mValidating online osnet ...\u001b[0m\n",
      "Features extracted in 48.39 seconds\n",
      "Features extracted in 99.55 seconds\n",
      "Computing CMC and mAP ...\n",
      "** Results **\n",
      "mAP: 68.61%\n",
      "CMC curve\n",
      "Rank-1  : 73.02%\n",
      "Rank-5  : 95.04%\n",
      "Rank-10 : 98.36%\n",
      "Rank-20 : 99.48%\n",
      "\u001b[33mValidating momentum osnet ...\u001b[0m\n",
      "Features extracted in 48.79 seconds\n",
      "Features extracted in 100.14 seconds\n",
      "Computing CMC and mAP ...\n",
      "** Results **\n",
      "mAP: 69.41%\n",
      "CMC curve\n",
      "Rank-1  : 73.33%\n",
      "Rank-5  : 93.06%\n",
      "Rank-10 : 97.14%\n",
      "Rank-20 : 99.12%\n",
      "\u001b[33mValidating online densenet121 ...\u001b[0m\n",
      "Features extracted in 48.92 seconds\n",
      "Features extracted in 102.62 seconds\n",
      "Computing CMC and mAP ...\n",
      "** Results **\n",
      "mAP: 70.12%\n",
      "CMC curve\n",
      "Rank-1  : 75.15%\n",
      "Rank-5  : 92.89%\n",
      "Rank-10 : 97.00%\n",
      "Rank-20 : 98.95%\n",
      "\u001b[33mValidating momentum densenet121 ...\u001b[0m\n",
      "Features extracted in 49.73 seconds\n",
      "Features extracted in 102.48 seconds\n",
      "Computing CMC and mAP ...\n",
      "** Results **\n",
      "mAP: 69.53%\n",
      "CMC curve\n",
      "Rank-1  : 75.91%\n",
      "Rank-5  : 93.33%\n",
      "Rank-10 : 97.31%\n",
      "Rank-20 : 99.25%\n",
      "\u001b[33mValidating ensembled with online models ...\u001b[0m\n",
      "Computing CMC and mAP ...\n",
      "** Results **\n",
      "mAP: 70.82%\n",
      "Ranks:\n",
      "Rank-1  : 78.15%\n",
      "Rank-5  : 92.64%\n",
      "Rank-10 : 96.59%\n",
      "\u001b[33mValidating ensembled with momentum models ...\u001b[0m\n",
      "Computing CMC and mAP ...\n",
      "** Results **\n",
      "mAP: 70.51%\n",
      "Ranks:\n",
      "Rank-1  : 78.02%\n",
      "Rank-5  : 92.58%\n",
      "Rank-10 : 96.55%\n",
      "###============ Iteration number 61/90 ============###\n",
      "Extracting Online Features for mobilenet ...\n",
      "Features extracted in 157.40 seconds\n",
      "Computing jaccard distance...\n"
     ]
    },
    {
     "name": "stderr",
     "output_type": "stream",
     "text": [
      "bruteForceKnn is deprecated; call bfKnn instead\n"
     ]
    },
    {
     "name": "stdout",
     "output_type": "stream",
     "text": [
      "Jaccard distance computing time cost: 70.08646082878113\n",
      "Extracting Online Features for vgg16 ...\n",
      "Features extracted in 160.07 seconds\n",
      "Computing jaccard distance...\n"
     ]
    },
    {
     "name": "stderr",
     "output_type": "stream",
     "text": [
      "bruteForceKnn is deprecated; call bfKnn instead\n"
     ]
    },
    {
     "name": "stdout",
     "output_type": "stream",
     "text": [
      "Jaccard distance computing time cost: 72.85661506652832\n",
      "Extracting Online Features for resnet50 ...\n",
      "Features extracted in 155.66 seconds\n",
      "Computing jaccard distance...\n"
     ]
    },
    {
     "name": "stderr",
     "output_type": "stream",
     "text": [
      "bruteForceKnn is deprecated; call bfKnn instead\n"
     ]
    },
    {
     "name": "stdout",
     "output_type": "stream",
     "text": [
      "Jaccard distance computing time cost: 80.49524450302124\n",
      "Extracting Online Features for osnet ...\n",
      "Features extracted in 154.47 seconds\n",
      "Computing jaccard distance...\n"
     ]
    },
    {
     "name": "stderr",
     "output_type": "stream",
     "text": [
      "bruteForceKnn is deprecated; call bfKnn instead\n"
     ]
    },
    {
     "name": "stdout",
     "output_type": "stream",
     "text": [
      "Jaccard distance computing time cost: 75.24766325950623\n",
      "Extracting Online Features for densenet121 ...\n",
      "Features extracted in 158.45 seconds\n",
      "Computing jaccard distance...\n"
     ]
    },
    {
     "name": "stderr",
     "output_type": "stream",
     "text": [
      "bruteForceKnn is deprecated; call bfKnn instead\n"
     ]
    },
    {
     "name": "stdout",
     "output_type": "stream",
     "text": [
      "Jaccard distance computing time cost: 78.48932361602783\n",
      "Reliability: 0.997\n",
      "\u001b[32mMean Purity: 0.01845\u001b[0m\n",
      "\u001b[34mThere are 2 clusters with 4 cameras\u001b[0m\n",
      "\u001b[34mThere are 4 clusters with 5 cameras\u001b[0m\n",
      "\u001b[34mThere are 2 clusters with 7 cameras\u001b[0m\n",
      "\u001b[34mThere are 1 clusters with 9 cameras\u001b[0m\n",
      "\u001b[34mThere are 1 clusters with 11 cameras\u001b[0m\n",
      "\u001b[34mThere are 1 clusters with 12 cameras\u001b[0m\n",
      "\u001b[34mThere are 1 clusters with 16 cameras\u001b[0m\n",
      "\u001b[34mThere are 1 clusters with 19 cameras\u001b[0m\n",
      "\u001b[34mThere are 2 clusters with 29 cameras\u001b[0m\n",
      "\u001b[34mThere are 1 clusters with 32 cameras\u001b[0m\n",
      "\u001b[34mThere are 1 clusters with 34 cameras\u001b[0m\n",
      "\u001b[34mThere are 1 clusters with 45 cameras\u001b[0m\n",
      "\u001b[34mThere are 1 clusters with 47 cameras\u001b[0m\n",
      "\u001b[34mThere are 1 clusters with 52 cameras\u001b[0m\n",
      "\u001b[34mThere are 1 clusters with 53 cameras\u001b[0m\n",
      "\u001b[34mThere are 1 clusters with 54 cameras\u001b[0m\n",
      "\u001b[34mThere are 2 clusters with 57 cameras\u001b[0m\n",
      "\u001b[34mThere are 1 clusters with 58 cameras\u001b[0m\n",
      "\u001b[34mThere are 3 clusters with 59 cameras\u001b[0m\n",
      "\u001b[34mThere are 3 clusters with 60 cameras\u001b[0m\n",
      "\u001b[34mThere are 8 clusters with 61 cameras\u001b[0m\n",
      "\u001b[34mThere are 10 clusters with 62 cameras\u001b[0m\n",
      "\u001b[34mThere are 25 clusters with 63 cameras\u001b[0m\n",
      "\u001b[34mThere are 494 clusters with 64 cameras\u001b[0m\n",
      "\u001b[34mThere are 1 clusters with 92 cameras\u001b[0m\n",
      "\u001b[34mThere are 1 clusters with 97 cameras\u001b[0m\n",
      "\u001b[34mThere are 1 clusters with 120 cameras\u001b[0m\n",
      "\u001b[34mThere are 1 clusters with 121 cameras\u001b[0m\n",
      "\u001b[34mThere are 1 clusters with 122 cameras\u001b[0m\n",
      "\u001b[34mThere are 1 clusters with 124 cameras\u001b[0m\n",
      "\u001b[34mThere are 1 clusters with 125 cameras\u001b[0m\n",
      "\u001b[34mThere are 1 clusters with 126 cameras\u001b[0m\n",
      "\u001b[34mThere are 6 clusters with 127 cameras\u001b[0m\n",
      "\u001b[34mThere are 10 clusters with 128 cameras\u001b[0m\n",
      "Number of classes: 592\n",
      "\u001b[36mLearning Rate: 0.000350\u001b[0m\n",
      "encontrou modelos mobilenet. Carregando...\n",
      "encontrou modelos vgg16. Carregando...\n",
      "encontrou modelos resnet50. Carregando...\n",
      "encontrou modelos osnet. Carregando...\n",
      "encontrou modelos densenet121. Carregando...\n",
      "###============ Iteration number 62/90 ============###\n",
      "Extracting Online Features for mobilenet ...\n",
      "Features extracted in 156.20 seconds\n",
      "Computing jaccard distance...\n"
     ]
    },
    {
     "name": "stderr",
     "output_type": "stream",
     "text": [
      "bruteForceKnn is deprecated; call bfKnn instead\n"
     ]
    },
    {
     "name": "stdout",
     "output_type": "stream",
     "text": [
      "Jaccard distance computing time cost: 72.84725999832153\n",
      "Extracting Online Features for vgg16 ...\n",
      "Features extracted in 160.03 seconds\n",
      "Computing jaccard distance...\n"
     ]
    },
    {
     "name": "stderr",
     "output_type": "stream",
     "text": [
      "bruteForceKnn is deprecated; call bfKnn instead\n"
     ]
    },
    {
     "name": "stdout",
     "output_type": "stream",
     "text": [
      "Jaccard distance computing time cost: 73.53474855422974\n",
      "Extracting Online Features for resnet50 ...\n",
      "Features extracted in 156.23 seconds\n",
      "Computing jaccard distance...\n"
     ]
    },
    {
     "name": "stderr",
     "output_type": "stream",
     "text": [
      "bruteForceKnn is deprecated; call bfKnn instead\n"
     ]
    },
    {
     "name": "stdout",
     "output_type": "stream",
     "text": [
      "Jaccard distance computing time cost: 70.44534373283386\n",
      "Extracting Online Features for osnet ...\n",
      "Features extracted in 157.14 seconds\n",
      "Computing jaccard distance...\n"
     ]
    },
    {
     "name": "stderr",
     "output_type": "stream",
     "text": [
      "bruteForceKnn is deprecated; call bfKnn instead\n"
     ]
    },
    {
     "name": "stdout",
     "output_type": "stream",
     "text": [
      "Jaccard distance computing time cost: 80.8218264579773\n",
      "Extracting Online Features for densenet121 ...\n",
      "Features extracted in 155.58 seconds\n",
      "Computing jaccard distance...\n"
     ]
    },
    {
     "name": "stderr",
     "output_type": "stream",
     "text": [
      "bruteForceKnn is deprecated; call bfKnn instead\n"
     ]
    },
    {
     "name": "stdout",
     "output_type": "stream",
     "text": [
      "Jaccard distance computing time cost: 77.47813820838928\n",
      "Reliability: 0.997\n",
      "\u001b[32mMean Purity: 0.01845\u001b[0m\n",
      "\u001b[34mThere are 2 clusters with 4 cameras\u001b[0m\n",
      "\u001b[34mThere are 4 clusters with 5 cameras\u001b[0m\n",
      "\u001b[34mThere are 2 clusters with 7 cameras\u001b[0m\n",
      "\u001b[34mThere are 1 clusters with 9 cameras\u001b[0m\n",
      "\u001b[34mThere are 1 clusters with 11 cameras\u001b[0m\n",
      "\u001b[34mThere are 1 clusters with 12 cameras\u001b[0m\n",
      "\u001b[34mThere are 1 clusters with 16 cameras\u001b[0m\n",
      "\u001b[34mThere are 1 clusters with 19 cameras\u001b[0m\n",
      "\u001b[34mThere are 2 clusters with 29 cameras\u001b[0m\n",
      "\u001b[34mThere are 1 clusters with 32 cameras\u001b[0m\n",
      "\u001b[34mThere are 1 clusters with 34 cameras\u001b[0m\n",
      "\u001b[34mThere are 1 clusters with 45 cameras\u001b[0m\n",
      "\u001b[34mThere are 1 clusters with 47 cameras\u001b[0m\n",
      "\u001b[34mThere are 1 clusters with 52 cameras\u001b[0m\n",
      "\u001b[34mThere are 1 clusters with 53 cameras\u001b[0m\n",
      "\u001b[34mThere are 1 clusters with 54 cameras\u001b[0m\n",
      "\u001b[34mThere are 2 clusters with 57 cameras\u001b[0m\n",
      "\u001b[34mThere are 1 clusters with 58 cameras\u001b[0m\n",
      "\u001b[34mThere are 3 clusters with 59 cameras\u001b[0m\n",
      "\u001b[34mThere are 3 clusters with 60 cameras\u001b[0m\n",
      "\u001b[34mThere are 8 clusters with 61 cameras\u001b[0m\n",
      "\u001b[34mThere are 10 clusters with 62 cameras\u001b[0m\n",
      "\u001b[34mThere are 25 clusters with 63 cameras\u001b[0m\n",
      "\u001b[34mThere are 494 clusters with 64 cameras\u001b[0m\n",
      "\u001b[34mThere are 1 clusters with 92 cameras\u001b[0m\n",
      "\u001b[34mThere are 1 clusters with 97 cameras\u001b[0m\n",
      "\u001b[34mThere are 1 clusters with 120 cameras\u001b[0m\n",
      "\u001b[34mThere are 1 clusters with 121 cameras\u001b[0m\n",
      "\u001b[34mThere are 1 clusters with 122 cameras\u001b[0m\n",
      "\u001b[34mThere are 1 clusters with 124 cameras\u001b[0m\n",
      "\u001b[34mThere are 1 clusters with 125 cameras\u001b[0m\n",
      "\u001b[34mThere are 1 clusters with 126 cameras\u001b[0m\n",
      "\u001b[34mThere are 6 clusters with 127 cameras\u001b[0m\n",
      "\u001b[34mThere are 10 clusters with 128 cameras\u001b[0m\n",
      "Number of classes: 592\n",
      "\u001b[36mLearning Rate: 0.000350\u001b[0m\n",
      "encontrou modelos mobilenet. Carregando...\n",
      "encontrou modelos vgg16. Carregando...\n",
      "encontrou modelos resnet50. Carregando...\n",
      "encontrou modelos osnet. Carregando...\n",
      "encontrou modelos densenet121. Carregando...\n",
      "###============ Iteration number 63/90 ============###\n",
      "Extracting Online Features for mobilenet ...\n",
      "Features extracted in 153.02 seconds\n",
      "Computing jaccard distance...\n"
     ]
    },
    {
     "name": "stderr",
     "output_type": "stream",
     "text": [
      "bruteForceKnn is deprecated; call bfKnn instead\n"
     ]
    },
    {
     "name": "stdout",
     "output_type": "stream",
     "text": [
      "Jaccard distance computing time cost: 74.28268766403198\n",
      "Extracting Online Features for vgg16 ...\n",
      "Features extracted in 159.46 seconds\n",
      "Computing jaccard distance...\n"
     ]
    },
    {
     "name": "stderr",
     "output_type": "stream",
     "text": [
      "bruteForceKnn is deprecated; call bfKnn instead\n"
     ]
    },
    {
     "name": "stdout",
     "output_type": "stream",
     "text": [
      "Jaccard distance computing time cost: 72.79594802856445\n",
      "Extracting Online Features for resnet50 ...\n",
      "Features extracted in 153.01 seconds\n",
      "Computing jaccard distance...\n"
     ]
    },
    {
     "name": "stderr",
     "output_type": "stream",
     "text": [
      "bruteForceKnn is deprecated; call bfKnn instead\n"
     ]
    },
    {
     "name": "stdout",
     "output_type": "stream",
     "text": [
      "Jaccard distance computing time cost: 69.81115007400513\n",
      "Extracting Online Features for osnet ...\n",
      "Features extracted in 152.23 seconds\n",
      "Computing jaccard distance...\n"
     ]
    },
    {
     "name": "stderr",
     "output_type": "stream",
     "text": [
      "bruteForceKnn is deprecated; call bfKnn instead\n"
     ]
    },
    {
     "name": "stdout",
     "output_type": "stream",
     "text": [
      "Jaccard distance computing time cost: 70.02944087982178\n",
      "Extracting Online Features for densenet121 ...\n",
      "Features extracted in 158.04 seconds\n",
      "Computing jaccard distance...\n"
     ]
    },
    {
     "name": "stderr",
     "output_type": "stream",
     "text": [
      "bruteForceKnn is deprecated; call bfKnn instead\n"
     ]
    },
    {
     "name": "stdout",
     "output_type": "stream",
     "text": [
      "Jaccard distance computing time cost: 77.4721519947052\n",
      "Reliability: 0.997\n",
      "\u001b[32mMean Purity: 0.01845\u001b[0m\n",
      "\u001b[34mThere are 2 clusters with 4 cameras\u001b[0m\n",
      "\u001b[34mThere are 4 clusters with 5 cameras\u001b[0m\n",
      "\u001b[34mThere are 2 clusters with 7 cameras\u001b[0m\n",
      "\u001b[34mThere are 1 clusters with 9 cameras\u001b[0m\n",
      "\u001b[34mThere are 1 clusters with 11 cameras\u001b[0m\n",
      "\u001b[34mThere are 1 clusters with 12 cameras\u001b[0m\n",
      "\u001b[34mThere are 1 clusters with 16 cameras\u001b[0m\n",
      "\u001b[34mThere are 1 clusters with 19 cameras\u001b[0m\n",
      "\u001b[34mThere are 2 clusters with 29 cameras\u001b[0m\n",
      "\u001b[34mThere are 1 clusters with 32 cameras\u001b[0m\n",
      "\u001b[34mThere are 1 clusters with 34 cameras\u001b[0m\n",
      "\u001b[34mThere are 1 clusters with 45 cameras\u001b[0m\n",
      "\u001b[34mThere are 1 clusters with 47 cameras\u001b[0m\n",
      "\u001b[34mThere are 1 clusters with 52 cameras\u001b[0m\n",
      "\u001b[34mThere are 1 clusters with 53 cameras\u001b[0m\n",
      "\u001b[34mThere are 1 clusters with 54 cameras\u001b[0m\n",
      "\u001b[34mThere are 2 clusters with 57 cameras\u001b[0m\n",
      "\u001b[34mThere are 1 clusters with 58 cameras\u001b[0m\n",
      "\u001b[34mThere are 3 clusters with 59 cameras\u001b[0m\n",
      "\u001b[34mThere are 3 clusters with 60 cameras\u001b[0m\n",
      "\u001b[34mThere are 8 clusters with 61 cameras\u001b[0m\n",
      "\u001b[34mThere are 10 clusters with 62 cameras\u001b[0m\n",
      "\u001b[34mThere are 25 clusters with 63 cameras\u001b[0m\n",
      "\u001b[34mThere are 494 clusters with 64 cameras\u001b[0m\n",
      "\u001b[34mThere are 1 clusters with 92 cameras\u001b[0m\n",
      "\u001b[34mThere are 1 clusters with 97 cameras\u001b[0m\n",
      "\u001b[34mThere are 1 clusters with 120 cameras\u001b[0m\n",
      "\u001b[34mThere are 1 clusters with 121 cameras\u001b[0m\n",
      "\u001b[34mThere are 1 clusters with 122 cameras\u001b[0m\n",
      "\u001b[34mThere are 1 clusters with 124 cameras\u001b[0m\n",
      "\u001b[34mThere are 1 clusters with 125 cameras\u001b[0m\n",
      "\u001b[34mThere are 1 clusters with 126 cameras\u001b[0m\n",
      "\u001b[34mThere are 6 clusters with 127 cameras\u001b[0m\n",
      "\u001b[34mThere are 10 clusters with 128 cameras\u001b[0m\n",
      "Number of classes: 592\n",
      "\u001b[36mLearning Rate: 0.000350\u001b[0m\n",
      "encontrou modelos mobilenet. Carregando...\n",
      "encontrou modelos vgg16. Carregando...\n",
      "encontrou modelos resnet50. Carregando...\n",
      "encontrou modelos osnet. Carregando...\n",
      "encontrou modelos densenet121. Carregando...\n",
      "###============ Iteration number 64/90 ============###\n",
      "Extracting Online Features for mobilenet ...\n",
      "Features extracted in 156.02 seconds\n",
      "Computing jaccard distance...\n"
     ]
    },
    {
     "name": "stderr",
     "output_type": "stream",
     "text": [
      "bruteForceKnn is deprecated; call bfKnn instead\n"
     ]
    },
    {
     "name": "stdout",
     "output_type": "stream",
     "text": [
      "Jaccard distance computing time cost: 68.87130737304688\n",
      "Extracting Online Features for vgg16 ...\n",
      "Features extracted in 159.26 seconds\n",
      "Computing jaccard distance...\n"
     ]
    },
    {
     "name": "stderr",
     "output_type": "stream",
     "text": [
      "bruteForceKnn is deprecated; call bfKnn instead\n"
     ]
    },
    {
     "name": "stdout",
     "output_type": "stream",
     "text": [
      "Jaccard distance computing time cost: 72.7409234046936\n",
      "Extracting Online Features for resnet50 ...\n",
      "Features extracted in 154.12 seconds\n",
      "Computing jaccard distance...\n"
     ]
    },
    {
     "name": "stderr",
     "output_type": "stream",
     "text": [
      "bruteForceKnn is deprecated; call bfKnn instead\n"
     ]
    },
    {
     "name": "stdout",
     "output_type": "stream",
     "text": [
      "Jaccard distance computing time cost: 71.91378951072693\n",
      "Extracting Online Features for osnet ...\n",
      "Features extracted in 154.95 seconds\n",
      "Computing jaccard distance...\n"
     ]
    },
    {
     "name": "stderr",
     "output_type": "stream",
     "text": [
      "bruteForceKnn is deprecated; call bfKnn instead\n"
     ]
    },
    {
     "name": "stdout",
     "output_type": "stream",
     "text": [
      "Jaccard distance computing time cost: 70.99838876724243\n",
      "Extracting Online Features for densenet121 ...\n",
      "Features extracted in 154.76 seconds\n",
      "Computing jaccard distance...\n"
     ]
    },
    {
     "name": "stderr",
     "output_type": "stream",
     "text": [
      "bruteForceKnn is deprecated; call bfKnn instead\n"
     ]
    },
    {
     "name": "stdout",
     "output_type": "stream",
     "text": [
      "Jaccard distance computing time cost: 79.1812355518341\n",
      "Reliability: 0.997\n",
      "\u001b[32mMean Purity: 0.01845\u001b[0m\n",
      "\u001b[34mThere are 2 clusters with 4 cameras\u001b[0m\n",
      "\u001b[34mThere are 4 clusters with 5 cameras\u001b[0m\n",
      "\u001b[34mThere are 2 clusters with 7 cameras\u001b[0m\n",
      "\u001b[34mThere are 1 clusters with 9 cameras\u001b[0m\n",
      "\u001b[34mThere are 1 clusters with 11 cameras\u001b[0m\n",
      "\u001b[34mThere are 1 clusters with 12 cameras\u001b[0m\n",
      "\u001b[34mThere are 1 clusters with 16 cameras\u001b[0m\n",
      "\u001b[34mThere are 1 clusters with 19 cameras\u001b[0m\n",
      "\u001b[34mThere are 2 clusters with 29 cameras\u001b[0m\n",
      "\u001b[34mThere are 1 clusters with 32 cameras\u001b[0m\n",
      "\u001b[34mThere are 1 clusters with 34 cameras\u001b[0m\n",
      "\u001b[34mThere are 1 clusters with 45 cameras\u001b[0m\n",
      "\u001b[34mThere are 1 clusters with 47 cameras\u001b[0m\n",
      "\u001b[34mThere are 1 clusters with 52 cameras\u001b[0m\n",
      "\u001b[34mThere are 1 clusters with 53 cameras\u001b[0m\n",
      "\u001b[34mThere are 1 clusters with 54 cameras\u001b[0m\n",
      "\u001b[34mThere are 2 clusters with 57 cameras\u001b[0m\n",
      "\u001b[34mThere are 1 clusters with 58 cameras\u001b[0m\n",
      "\u001b[34mThere are 3 clusters with 59 cameras\u001b[0m\n",
      "\u001b[34mThere are 3 clusters with 60 cameras\u001b[0m\n",
      "\u001b[34mThere are 8 clusters with 61 cameras\u001b[0m\n",
      "\u001b[34mThere are 10 clusters with 62 cameras\u001b[0m\n",
      "\u001b[34mThere are 25 clusters with 63 cameras\u001b[0m\n",
      "\u001b[34mThere are 494 clusters with 64 cameras\u001b[0m\n",
      "\u001b[34mThere are 1 clusters with 92 cameras\u001b[0m\n",
      "\u001b[34mThere are 1 clusters with 97 cameras\u001b[0m\n",
      "\u001b[34mThere are 1 clusters with 120 cameras\u001b[0m\n",
      "\u001b[34mThere are 1 clusters with 121 cameras\u001b[0m\n",
      "\u001b[34mThere are 1 clusters with 122 cameras\u001b[0m\n",
      "\u001b[34mThere are 1 clusters with 124 cameras\u001b[0m\n",
      "\u001b[34mThere are 1 clusters with 125 cameras\u001b[0m\n",
      "\u001b[34mThere are 1 clusters with 126 cameras\u001b[0m\n",
      "\u001b[34mThere are 6 clusters with 127 cameras\u001b[0m\n",
      "\u001b[34mThere are 10 clusters with 128 cameras\u001b[0m\n",
      "Number of classes: 592\n",
      "\u001b[36mLearning Rate: 0.000350\u001b[0m\n",
      "encontrou modelos mobilenet. Carregando...\n",
      "encontrou modelos vgg16. Carregando...\n",
      "encontrou modelos resnet50. Carregando...\n",
      "encontrou modelos osnet. Carregando...\n",
      "encontrou modelos densenet121. Carregando...\n",
      "###============ Iteration number 65/90 ============###\n",
      "Extracting Online Features for mobilenet ...\n",
      "Features extracted in 154.07 seconds\n",
      "Computing jaccard distance...\n"
     ]
    },
    {
     "name": "stderr",
     "output_type": "stream",
     "text": [
      "bruteForceKnn is deprecated; call bfKnn instead\n"
     ]
    },
    {
     "name": "stdout",
     "output_type": "stream",
     "text": [
      "Jaccard distance computing time cost: 84.75227737426758\n",
      "Extracting Online Features for vgg16 ...\n",
      "Features extracted in 159.73 seconds\n",
      "Computing jaccard distance...\n"
     ]
    },
    {
     "name": "stderr",
     "output_type": "stream",
     "text": [
      "bruteForceKnn is deprecated; call bfKnn instead\n"
     ]
    },
    {
     "name": "stdout",
     "output_type": "stream",
     "text": [
      "Jaccard distance computing time cost: 73.27502989768982\n",
      "Extracting Online Features for resnet50 ...\n",
      "Features extracted in 159.47 seconds\n",
      "Computing jaccard distance...\n"
     ]
    },
    {
     "name": "stderr",
     "output_type": "stream",
     "text": [
      "bruteForceKnn is deprecated; call bfKnn instead\n"
     ]
    },
    {
     "name": "stdout",
     "output_type": "stream",
     "text": [
      "Jaccard distance computing time cost: 71.57476496696472\n",
      "Extracting Online Features for osnet ...\n",
      "Features extracted in 152.94 seconds\n",
      "Computing jaccard distance...\n"
     ]
    },
    {
     "name": "stderr",
     "output_type": "stream",
     "text": [
      "bruteForceKnn is deprecated; call bfKnn instead\n"
     ]
    },
    {
     "name": "stdout",
     "output_type": "stream",
     "text": [
      "Jaccard distance computing time cost: 73.87629842758179\n",
      "Extracting Online Features for densenet121 ...\n",
      "Features extracted in 154.47 seconds\n",
      "Computing jaccard distance...\n"
     ]
    },
    {
     "name": "stderr",
     "output_type": "stream",
     "text": [
      "bruteForceKnn is deprecated; call bfKnn instead\n"
     ]
    },
    {
     "name": "stdout",
     "output_type": "stream",
     "text": [
      "Jaccard distance computing time cost: 71.82316708564758\n",
      "Reliability: 0.997\n",
      "\u001b[32mMean Purity: 0.01845\u001b[0m\n",
      "\u001b[34mThere are 2 clusters with 4 cameras\u001b[0m\n",
      "\u001b[34mThere are 4 clusters with 5 cameras\u001b[0m\n",
      "\u001b[34mThere are 2 clusters with 7 cameras\u001b[0m\n",
      "\u001b[34mThere are 1 clusters with 9 cameras\u001b[0m\n",
      "\u001b[34mThere are 1 clusters with 11 cameras\u001b[0m\n",
      "\u001b[34mThere are 1 clusters with 12 cameras\u001b[0m\n",
      "\u001b[34mThere are 1 clusters with 16 cameras\u001b[0m\n",
      "\u001b[34mThere are 1 clusters with 19 cameras\u001b[0m\n",
      "\u001b[34mThere are 2 clusters with 29 cameras\u001b[0m\n",
      "\u001b[34mThere are 1 clusters with 32 cameras\u001b[0m\n",
      "\u001b[34mThere are 1 clusters with 34 cameras\u001b[0m\n",
      "\u001b[34mThere are 1 clusters with 45 cameras\u001b[0m\n",
      "\u001b[34mThere are 1 clusters with 47 cameras\u001b[0m\n",
      "\u001b[34mThere are 1 clusters with 52 cameras\u001b[0m\n",
      "\u001b[34mThere are 1 clusters with 53 cameras\u001b[0m\n",
      "\u001b[34mThere are 1 clusters with 54 cameras\u001b[0m\n",
      "\u001b[34mThere are 2 clusters with 57 cameras\u001b[0m\n",
      "\u001b[34mThere are 1 clusters with 58 cameras\u001b[0m\n",
      "\u001b[34mThere are 3 clusters with 59 cameras\u001b[0m\n",
      "\u001b[34mThere are 3 clusters with 60 cameras\u001b[0m\n",
      "\u001b[34mThere are 8 clusters with 61 cameras\u001b[0m\n",
      "\u001b[34mThere are 10 clusters with 62 cameras\u001b[0m\n",
      "\u001b[34mThere are 25 clusters with 63 cameras\u001b[0m\n",
      "\u001b[34mThere are 494 clusters with 64 cameras\u001b[0m\n",
      "\u001b[34mThere are 1 clusters with 92 cameras\u001b[0m\n",
      "\u001b[34mThere are 1 clusters with 97 cameras\u001b[0m\n",
      "\u001b[34mThere are 1 clusters with 120 cameras\u001b[0m\n",
      "\u001b[34mThere are 1 clusters with 121 cameras\u001b[0m\n",
      "\u001b[34mThere are 1 clusters with 122 cameras\u001b[0m\n",
      "\u001b[34mThere are 1 clusters with 124 cameras\u001b[0m\n",
      "\u001b[34mThere are 1 clusters with 125 cameras\u001b[0m\n",
      "\u001b[34mThere are 1 clusters with 126 cameras\u001b[0m\n",
      "\u001b[34mThere are 6 clusters with 127 cameras\u001b[0m\n",
      "\u001b[34mThere are 10 clusters with 128 cameras\u001b[0m\n",
      "Number of classes: 592\n",
      "\u001b[36mLearning Rate: 0.000350\u001b[0m\n",
      "encontrou modelos mobilenet. Carregando...\n",
      "encontrou modelos vgg16. Carregando...\n",
      "encontrou modelos resnet50. Carregando...\n",
      "encontrou modelos osnet. Carregando...\n",
      "encontrou modelos densenet121. Carregando...\n",
      "\u001b[33mValidating online mobilenet ...\u001b[0m\n",
      "Features extracted in 47.01 seconds\n",
      "Features extracted in 96.89 seconds\n",
      "Computing CMC and mAP ...\n",
      "** Results **\n",
      "mAP: 71.39%\n",
      "CMC curve\n",
      "Rank-1  : 81.53%\n",
      "Rank-5  : 95.41%\n",
      "Rank-10 : 98.02%\n",
      "Rank-20 : 99.18%\n",
      "\u001b[33mValidating momentum mobilenet ...\u001b[0m\n",
      "Features extracted in 46.65 seconds\n",
      "Features extracted in 96.95 seconds\n",
      "Computing CMC and mAP ...\n",
      "** Results **\n",
      "mAP: 70.86%\n",
      "CMC curve\n",
      "Rank-1  : 78.95%\n",
      "Rank-5  : 93.89%\n",
      "Rank-10 : 97.47%\n",
      "Rank-20 : 99.27%\n",
      "\u001b[33mValidating online vgg16 ...\u001b[0m\n",
      "Features extracted in 49.24 seconds\n",
      "Features extracted in 100.95 seconds\n",
      "Computing CMC and mAP ...\n",
      "** Results **\n",
      "mAP: 69.67%\n",
      "CMC curve\n",
      "Rank-1  : 74.49%\n",
      "Rank-5  : 92.27%\n",
      "Rank-10 : 96.56%\n",
      "Rank-20 : 99.05%\n",
      "\u001b[33mValidating momentum vgg16 ...\u001b[0m\n",
      "Features extracted in 46.98 seconds\n",
      "Features extracted in 101.28 seconds\n",
      "Computing CMC and mAP ...\n",
      "** Results **\n",
      "mAP: 69.72%\n",
      "CMC curve\n",
      "Rank-1  : 75.80%\n",
      "Rank-5  : 92.91%\n",
      "Rank-10 : 97.25%\n",
      "Rank-20 : 99.09%\n",
      "\u001b[33mValidating online resnet50 ...\u001b[0m\n",
      "Features extracted in 47.17 seconds\n",
      "Features extracted in 98.48 seconds\n",
      "Computing CMC and mAP ...\n",
      "** Results **\n",
      "mAP: 69.64%\n",
      "CMC curve\n",
      "Rank-1  : 70.07%\n",
      "Rank-5  : 91.28%\n",
      "Rank-10 : 96.04%\n",
      "Rank-20 : 98.68%\n",
      "\u001b[33mValidating momentum resnet50 ...\u001b[0m\n",
      "Features extracted in 47.16 seconds\n",
      "Features extracted in 98.16 seconds\n",
      "Computing CMC and mAP ...\n",
      "** Results **\n",
      "mAP: 70.02%\n",
      "CMC curve\n",
      "Rank-1  : 73.39%\n",
      "Rank-5  : 93.49%\n",
      "Rank-10 : 97.50%\n",
      "Rank-20 : 99.37%\n",
      "\u001b[33mValidating online osnet ...\u001b[0m\n",
      "Features extracted in 48.05 seconds\n",
      "Features extracted in 97.81 seconds\n",
      "Computing CMC and mAP ...\n",
      "** Results **\n",
      "mAP: 68.61%\n",
      "CMC curve\n",
      "Rank-1  : 73.02%\n",
      "Rank-5  : 95.04%\n",
      "Rank-10 : 98.36%\n",
      "Rank-20 : 99.48%\n",
      "\u001b[33mValidating momentum osnet ...\u001b[0m\n",
      "Features extracted in 48.13 seconds\n",
      "Features extracted in 98.17 seconds\n",
      "Computing CMC and mAP ...\n",
      "** Results **\n",
      "mAP: 69.41%\n",
      "CMC curve\n",
      "Rank-1  : 73.33%\n",
      "Rank-5  : 93.06%\n",
      "Rank-10 : 97.14%\n",
      "Rank-20 : 99.12%\n",
      "\u001b[33mValidating online densenet121 ...\u001b[0m\n",
      "Features extracted in 48.37 seconds\n",
      "Features extracted in 99.18 seconds\n",
      "Computing CMC and mAP ...\n",
      "** Results **\n",
      "mAP: 70.12%\n",
      "CMC curve\n",
      "Rank-1  : 75.15%\n",
      "Rank-5  : 92.89%\n",
      "Rank-10 : 97.00%\n",
      "Rank-20 : 98.95%\n",
      "\u001b[33mValidating momentum densenet121 ...\u001b[0m\n",
      "Features extracted in 48.07 seconds\n",
      "Features extracted in 99.28 seconds\n",
      "Computing CMC and mAP ...\n",
      "** Results **\n",
      "mAP: 69.53%\n",
      "CMC curve\n",
      "Rank-1  : 75.91%\n",
      "Rank-5  : 93.33%\n",
      "Rank-10 : 97.31%\n",
      "Rank-20 : 99.25%\n",
      "\u001b[33mValidating ensembled with online models ...\u001b[0m\n",
      "Computing CMC and mAP ...\n",
      "** Results **\n",
      "mAP: 70.82%\n",
      "Ranks:\n",
      "Rank-1  : 78.15%\n",
      "Rank-5  : 92.64%\n",
      "Rank-10 : 96.59%\n",
      "\u001b[33mValidating ensembled with momentum models ...\u001b[0m\n",
      "Computing CMC and mAP ...\n",
      "** Results **\n",
      "mAP: 70.51%\n",
      "Ranks:\n",
      "Rank-1  : 78.02%\n",
      "Rank-5  : 92.58%\n",
      "Rank-10 : 96.55%\n",
      "###============ Iteration number 66/90 ============###\n",
      "Extracting Online Features for mobilenet ...\n",
      "Features extracted in 151.59 seconds\n",
      "Computing jaccard distance...\n"
     ]
    },
    {
     "name": "stderr",
     "output_type": "stream",
     "text": [
      "bruteForceKnn is deprecated; call bfKnn instead\n"
     ]
    },
    {
     "name": "stdout",
     "output_type": "stream",
     "text": [
      "Jaccard distance computing time cost: 85.48315143585205\n",
      "Extracting Online Features for vgg16 ...\n",
      "Features extracted in 154.74 seconds\n",
      "Computing jaccard distance...\n"
     ]
    },
    {
     "name": "stderr",
     "output_type": "stream",
     "text": [
      "bruteForceKnn is deprecated; call bfKnn instead\n"
     ]
    },
    {
     "name": "stdout",
     "output_type": "stream",
     "text": [
      "Jaccard distance computing time cost: 70.83366179466248\n",
      "Extracting Online Features for resnet50 ...\n",
      "Features extracted in 159.10 seconds\n",
      "Computing jaccard distance...\n"
     ]
    },
    {
     "name": "stderr",
     "output_type": "stream",
     "text": [
      "bruteForceKnn is deprecated; call bfKnn instead\n"
     ]
    },
    {
     "name": "stdout",
     "output_type": "stream",
     "text": [
      "Jaccard distance computing time cost: 73.76532125473022\n",
      "Extracting Online Features for osnet ...\n",
      "Features extracted in 159.67 seconds\n",
      "Computing jaccard distance...\n"
     ]
    },
    {
     "name": "stderr",
     "output_type": "stream",
     "text": [
      "bruteForceKnn is deprecated; call bfKnn instead\n"
     ]
    },
    {
     "name": "stdout",
     "output_type": "stream",
     "text": [
      "Jaccard distance computing time cost: 69.5376205444336\n",
      "Extracting Online Features for densenet121 ...\n",
      "Features extracted in 153.09 seconds\n",
      "Computing jaccard distance...\n"
     ]
    },
    {
     "name": "stderr",
     "output_type": "stream",
     "text": [
      "bruteForceKnn is deprecated; call bfKnn instead\n"
     ]
    },
    {
     "name": "stdout",
     "output_type": "stream",
     "text": [
      "Jaccard distance computing time cost: 73.12144994735718\n",
      "Reliability: 0.997\n",
      "\u001b[32mMean Purity: 0.01845\u001b[0m\n",
      "\u001b[34mThere are 2 clusters with 4 cameras\u001b[0m\n",
      "\u001b[34mThere are 4 clusters with 5 cameras\u001b[0m\n",
      "\u001b[34mThere are 2 clusters with 7 cameras\u001b[0m\n",
      "\u001b[34mThere are 1 clusters with 9 cameras\u001b[0m\n",
      "\u001b[34mThere are 1 clusters with 11 cameras\u001b[0m\n",
      "\u001b[34mThere are 1 clusters with 12 cameras\u001b[0m\n",
      "\u001b[34mThere are 1 clusters with 16 cameras\u001b[0m\n",
      "\u001b[34mThere are 1 clusters with 19 cameras\u001b[0m\n",
      "\u001b[34mThere are 2 clusters with 29 cameras\u001b[0m\n",
      "\u001b[34mThere are 1 clusters with 32 cameras\u001b[0m\n",
      "\u001b[34mThere are 1 clusters with 34 cameras\u001b[0m\n",
      "\u001b[34mThere are 1 clusters with 45 cameras\u001b[0m\n",
      "\u001b[34mThere are 1 clusters with 47 cameras\u001b[0m\n",
      "\u001b[34mThere are 1 clusters with 52 cameras\u001b[0m\n",
      "\u001b[34mThere are 1 clusters with 53 cameras\u001b[0m\n",
      "\u001b[34mThere are 1 clusters with 54 cameras\u001b[0m\n",
      "\u001b[34mThere are 2 clusters with 57 cameras\u001b[0m\n",
      "\u001b[34mThere are 1 clusters with 58 cameras\u001b[0m\n",
      "\u001b[34mThere are 3 clusters with 59 cameras\u001b[0m\n",
      "\u001b[34mThere are 3 clusters with 60 cameras\u001b[0m\n",
      "\u001b[34mThere are 8 clusters with 61 cameras\u001b[0m\n",
      "\u001b[34mThere are 10 clusters with 62 cameras\u001b[0m\n",
      "\u001b[34mThere are 25 clusters with 63 cameras\u001b[0m\n",
      "\u001b[34mThere are 494 clusters with 64 cameras\u001b[0m\n",
      "\u001b[34mThere are 1 clusters with 92 cameras\u001b[0m\n",
      "\u001b[34mThere are 1 clusters with 97 cameras\u001b[0m\n",
      "\u001b[34mThere are 1 clusters with 120 cameras\u001b[0m\n",
      "\u001b[34mThere are 1 clusters with 121 cameras\u001b[0m\n",
      "\u001b[34mThere are 1 clusters with 122 cameras\u001b[0m\n",
      "\u001b[34mThere are 1 clusters with 124 cameras\u001b[0m\n",
      "\u001b[34mThere are 1 clusters with 125 cameras\u001b[0m\n",
      "\u001b[34mThere are 1 clusters with 126 cameras\u001b[0m\n",
      "\u001b[34mThere are 6 clusters with 127 cameras\u001b[0m\n",
      "\u001b[34mThere are 10 clusters with 128 cameras\u001b[0m\n",
      "Number of classes: 592\n",
      "\u001b[36mLearning Rate: 0.000350\u001b[0m\n",
      "encontrou modelos mobilenet. Carregando...\n",
      "encontrou modelos vgg16. Carregando...\n",
      "encontrou modelos resnet50. Carregando...\n",
      "encontrou modelos osnet. Carregando...\n",
      "encontrou modelos densenet121. Carregando...\n",
      "###============ Iteration number 67/90 ============###\n",
      "Extracting Online Features for mobilenet ...\n",
      "Features extracted in 154.66 seconds\n",
      "Computing jaccard distance...\n"
     ]
    },
    {
     "name": "stderr",
     "output_type": "stream",
     "text": [
      "bruteForceKnn is deprecated; call bfKnn instead\n"
     ]
    },
    {
     "name": "stdout",
     "output_type": "stream",
     "text": [
      "Jaccard distance computing time cost: 78.35628485679626\n",
      "Extracting Online Features for vgg16 ...\n",
      "Features extracted in 153.91 seconds\n",
      "Computing jaccard distance...\n"
     ]
    },
    {
     "name": "stderr",
     "output_type": "stream",
     "text": [
      "bruteForceKnn is deprecated; call bfKnn instead\n"
     ]
    },
    {
     "name": "stdout",
     "output_type": "stream",
     "text": [
      "Jaccard distance computing time cost: 85.64715147018433\n",
      "Extracting Online Features for resnet50 ...\n",
      "Features extracted in 156.52 seconds\n",
      "Computing jaccard distance...\n"
     ]
    },
    {
     "name": "stderr",
     "output_type": "stream",
     "text": [
      "bruteForceKnn is deprecated; call bfKnn instead\n"
     ]
    },
    {
     "name": "stdout",
     "output_type": "stream",
     "text": [
      "Jaccard distance computing time cost: 73.41572761535645\n",
      "Extracting Online Features for osnet ...\n",
      "Features extracted in 153.81 seconds\n",
      "Computing jaccard distance...\n"
     ]
    },
    {
     "name": "stderr",
     "output_type": "stream",
     "text": [
      "bruteForceKnn is deprecated; call bfKnn instead\n"
     ]
    },
    {
     "name": "stdout",
     "output_type": "stream",
     "text": [
      "Jaccard distance computing time cost: 73.6421844959259\n",
      "Extracting Online Features for densenet121 ...\n",
      "Features extracted in 152.62 seconds\n",
      "Computing jaccard distance...\n"
     ]
    },
    {
     "name": "stderr",
     "output_type": "stream",
     "text": [
      "bruteForceKnn is deprecated; call bfKnn instead\n"
     ]
    },
    {
     "name": "stdout",
     "output_type": "stream",
     "text": [
      "Jaccard distance computing time cost: 72.08039331436157\n",
      "Reliability: 0.997\n",
      "\u001b[32mMean Purity: 0.01845\u001b[0m\n",
      "\u001b[34mThere are 2 clusters with 4 cameras\u001b[0m\n",
      "\u001b[34mThere are 4 clusters with 5 cameras\u001b[0m\n",
      "\u001b[34mThere are 2 clusters with 7 cameras\u001b[0m\n",
      "\u001b[34mThere are 1 clusters with 9 cameras\u001b[0m\n",
      "\u001b[34mThere are 1 clusters with 11 cameras\u001b[0m\n",
      "\u001b[34mThere are 1 clusters with 12 cameras\u001b[0m\n",
      "\u001b[34mThere are 1 clusters with 16 cameras\u001b[0m\n",
      "\u001b[34mThere are 1 clusters with 19 cameras\u001b[0m\n",
      "\u001b[34mThere are 2 clusters with 29 cameras\u001b[0m\n",
      "\u001b[34mThere are 1 clusters with 32 cameras\u001b[0m\n",
      "\u001b[34mThere are 1 clusters with 34 cameras\u001b[0m\n",
      "\u001b[34mThere are 1 clusters with 45 cameras\u001b[0m\n",
      "\u001b[34mThere are 1 clusters with 47 cameras\u001b[0m\n",
      "\u001b[34mThere are 1 clusters with 52 cameras\u001b[0m\n",
      "\u001b[34mThere are 1 clusters with 53 cameras\u001b[0m\n",
      "\u001b[34mThere are 1 clusters with 54 cameras\u001b[0m\n",
      "\u001b[34mThere are 2 clusters with 57 cameras\u001b[0m\n",
      "\u001b[34mThere are 1 clusters with 58 cameras\u001b[0m\n",
      "\u001b[34mThere are 3 clusters with 59 cameras\u001b[0m\n",
      "\u001b[34mThere are 3 clusters with 60 cameras\u001b[0m\n",
      "\u001b[34mThere are 8 clusters with 61 cameras\u001b[0m\n",
      "\u001b[34mThere are 10 clusters with 62 cameras\u001b[0m\n",
      "\u001b[34mThere are 25 clusters with 63 cameras\u001b[0m\n",
      "\u001b[34mThere are 494 clusters with 64 cameras\u001b[0m\n",
      "\u001b[34mThere are 1 clusters with 92 cameras\u001b[0m\n",
      "\u001b[34mThere are 1 clusters with 97 cameras\u001b[0m\n",
      "\u001b[34mThere are 1 clusters with 120 cameras\u001b[0m\n",
      "\u001b[34mThere are 1 clusters with 121 cameras\u001b[0m\n",
      "\u001b[34mThere are 1 clusters with 122 cameras\u001b[0m\n",
      "\u001b[34mThere are 1 clusters with 124 cameras\u001b[0m\n",
      "\u001b[34mThere are 1 clusters with 125 cameras\u001b[0m\n",
      "\u001b[34mThere are 1 clusters with 126 cameras\u001b[0m\n",
      "\u001b[34mThere are 6 clusters with 127 cameras\u001b[0m\n",
      "\u001b[34mThere are 10 clusters with 128 cameras\u001b[0m\n",
      "Number of classes: 592\n",
      "\u001b[36mLearning Rate: 0.000350\u001b[0m\n",
      "encontrou modelos mobilenet. Carregando...\n",
      "encontrou modelos vgg16. Carregando...\n",
      "encontrou modelos resnet50. Carregando...\n",
      "encontrou modelos osnet. Carregando...\n",
      "encontrou modelos densenet121. Carregando...\n",
      "###============ Iteration number 68/90 ============###\n",
      "Extracting Online Features for mobilenet ...\n",
      "Features extracted in 157.16 seconds\n",
      "Computing jaccard distance...\n"
     ]
    },
    {
     "name": "stderr",
     "output_type": "stream",
     "text": [
      "bruteForceKnn is deprecated; call bfKnn instead\n"
     ]
    },
    {
     "name": "stdout",
     "output_type": "stream",
     "text": [
      "Jaccard distance computing time cost: 85.44364213943481\n",
      "Extracting Online Features for vgg16 ...\n",
      "Features extracted in 158.84 seconds\n",
      "Computing jaccard distance...\n"
     ]
    },
    {
     "name": "stderr",
     "output_type": "stream",
     "text": [
      "bruteForceKnn is deprecated; call bfKnn instead\n"
     ]
    },
    {
     "name": "stdout",
     "output_type": "stream",
     "text": [
      "Jaccard distance computing time cost: 72.93538498878479\n",
      "Extracting Online Features for resnet50 ...\n",
      "Features extracted in 158.15 seconds\n",
      "Computing jaccard distance...\n"
     ]
    },
    {
     "name": "stderr",
     "output_type": "stream",
     "text": [
      "bruteForceKnn is deprecated; call bfKnn instead\n"
     ]
    },
    {
     "name": "stdout",
     "output_type": "stream",
     "text": [
      "Jaccard distance computing time cost: 83.54752492904663\n",
      "Extracting Online Features for osnet ...\n",
      "Features extracted in 159.86 seconds\n",
      "Computing jaccard distance...\n"
     ]
    },
    {
     "name": "stderr",
     "output_type": "stream",
     "text": [
      "bruteForceKnn is deprecated; call bfKnn instead\n"
     ]
    },
    {
     "name": "stdout",
     "output_type": "stream",
     "text": [
      "Jaccard distance computing time cost: 81.2623393535614\n",
      "Extracting Online Features for densenet121 ...\n",
      "Features extracted in 158.15 seconds\n",
      "Computing jaccard distance...\n"
     ]
    },
    {
     "name": "stderr",
     "output_type": "stream",
     "text": [
      "bruteForceKnn is deprecated; call bfKnn instead\n"
     ]
    },
    {
     "name": "stdout",
     "output_type": "stream",
     "text": [
      "Jaccard distance computing time cost: 83.51173162460327\n",
      "Reliability: 0.997\n",
      "\u001b[32mMean Purity: 0.01845\u001b[0m\n",
      "\u001b[34mThere are 2 clusters with 4 cameras\u001b[0m\n",
      "\u001b[34mThere are 4 clusters with 5 cameras\u001b[0m\n",
      "\u001b[34mThere are 2 clusters with 7 cameras\u001b[0m\n",
      "\u001b[34mThere are 1 clusters with 9 cameras\u001b[0m\n",
      "\u001b[34mThere are 1 clusters with 11 cameras\u001b[0m\n",
      "\u001b[34mThere are 1 clusters with 12 cameras\u001b[0m\n",
      "\u001b[34mThere are 1 clusters with 16 cameras\u001b[0m\n",
      "\u001b[34mThere are 1 clusters with 19 cameras\u001b[0m\n",
      "\u001b[34mThere are 2 clusters with 29 cameras\u001b[0m\n",
      "\u001b[34mThere are 1 clusters with 32 cameras\u001b[0m\n",
      "\u001b[34mThere are 1 clusters with 34 cameras\u001b[0m\n",
      "\u001b[34mThere are 1 clusters with 45 cameras\u001b[0m\n",
      "\u001b[34mThere are 1 clusters with 47 cameras\u001b[0m\n",
      "\u001b[34mThere are 1 clusters with 52 cameras\u001b[0m\n",
      "\u001b[34mThere are 1 clusters with 53 cameras\u001b[0m\n",
      "\u001b[34mThere are 1 clusters with 54 cameras\u001b[0m\n",
      "\u001b[34mThere are 2 clusters with 57 cameras\u001b[0m\n",
      "\u001b[34mThere are 1 clusters with 58 cameras\u001b[0m\n",
      "\u001b[34mThere are 3 clusters with 59 cameras\u001b[0m\n",
      "\u001b[34mThere are 3 clusters with 60 cameras\u001b[0m\n",
      "\u001b[34mThere are 8 clusters with 61 cameras\u001b[0m\n",
      "\u001b[34mThere are 10 clusters with 62 cameras\u001b[0m\n",
      "\u001b[34mThere are 25 clusters with 63 cameras\u001b[0m\n",
      "\u001b[34mThere are 494 clusters with 64 cameras\u001b[0m\n",
      "\u001b[34mThere are 1 clusters with 92 cameras\u001b[0m\n",
      "\u001b[34mThere are 1 clusters with 97 cameras\u001b[0m\n",
      "\u001b[34mThere are 1 clusters with 120 cameras\u001b[0m\n",
      "\u001b[34mThere are 1 clusters with 121 cameras\u001b[0m\n",
      "\u001b[34mThere are 1 clusters with 122 cameras\u001b[0m\n",
      "\u001b[34mThere are 1 clusters with 124 cameras\u001b[0m\n",
      "\u001b[34mThere are 1 clusters with 125 cameras\u001b[0m\n",
      "\u001b[34mThere are 1 clusters with 126 cameras\u001b[0m\n",
      "\u001b[34mThere are 6 clusters with 127 cameras\u001b[0m\n",
      "\u001b[34mThere are 10 clusters with 128 cameras\u001b[0m\n",
      "Number of classes: 592\n",
      "\u001b[36mLearning Rate: 0.000350\u001b[0m\n",
      "encontrou modelos mobilenet. Carregando...\n",
      "encontrou modelos vgg16. Carregando...\n",
      "encontrou modelos resnet50. Carregando...\n",
      "encontrou modelos osnet. Carregando...\n",
      "encontrou modelos densenet121. Carregando...\n",
      "###============ Iteration number 69/90 ============###\n",
      "Extracting Online Features for mobilenet ...\n",
      "Features extracted in 156.80 seconds\n",
      "Computing jaccard distance...\n"
     ]
    },
    {
     "name": "stderr",
     "output_type": "stream",
     "text": [
      "bruteForceKnn is deprecated; call bfKnn instead\n"
     ]
    },
    {
     "name": "stdout",
     "output_type": "stream",
     "text": [
      "Jaccard distance computing time cost: 81.60896944999695\n",
      "Extracting Online Features for vgg16 ...\n",
      "Features extracted in 161.79 seconds\n",
      "Computing jaccard distance...\n"
     ]
    },
    {
     "name": "stderr",
     "output_type": "stream",
     "text": [
      "bruteForceKnn is deprecated; call bfKnn instead\n"
     ]
    },
    {
     "name": "stdout",
     "output_type": "stream",
     "text": [
      "Jaccard distance computing time cost: 69.35008215904236\n",
      "Extracting Online Features for resnet50 ...\n",
      "Features extracted in 158.41 seconds\n",
      "Computing jaccard distance...\n"
     ]
    },
    {
     "name": "stderr",
     "output_type": "stream",
     "text": [
      "bruteForceKnn is deprecated; call bfKnn instead\n"
     ]
    },
    {
     "name": "stdout",
     "output_type": "stream",
     "text": [
      "Jaccard distance computing time cost: 70.4960720539093\n",
      "Extracting Online Features for osnet ...\n",
      "Features extracted in 161.71 seconds\n",
      "Computing jaccard distance...\n"
     ]
    },
    {
     "name": "stderr",
     "output_type": "stream",
     "text": [
      "bruteForceKnn is deprecated; call bfKnn instead\n"
     ]
    },
    {
     "name": "stdout",
     "output_type": "stream",
     "text": [
      "Jaccard distance computing time cost: 83.5707368850708\n",
      "Extracting Online Features for densenet121 ...\n",
      "Features extracted in 157.74 seconds\n",
      "Computing jaccard distance...\n"
     ]
    },
    {
     "name": "stderr",
     "output_type": "stream",
     "text": [
      "bruteForceKnn is deprecated; call bfKnn instead\n"
     ]
    },
    {
     "name": "stdout",
     "output_type": "stream",
     "text": [
      "Jaccard distance computing time cost: 72.51473379135132\n",
      "Reliability: 0.997\n",
      "\u001b[32mMean Purity: 0.01845\u001b[0m\n",
      "\u001b[34mThere are 2 clusters with 4 cameras\u001b[0m\n",
      "\u001b[34mThere are 4 clusters with 5 cameras\u001b[0m\n",
      "\u001b[34mThere are 2 clusters with 7 cameras\u001b[0m\n",
      "\u001b[34mThere are 1 clusters with 9 cameras\u001b[0m\n",
      "\u001b[34mThere are 1 clusters with 11 cameras\u001b[0m\n",
      "\u001b[34mThere are 1 clusters with 12 cameras\u001b[0m\n",
      "\u001b[34mThere are 1 clusters with 16 cameras\u001b[0m\n",
      "\u001b[34mThere are 1 clusters with 19 cameras\u001b[0m\n",
      "\u001b[34mThere are 2 clusters with 29 cameras\u001b[0m\n",
      "\u001b[34mThere are 1 clusters with 32 cameras\u001b[0m\n",
      "\u001b[34mThere are 1 clusters with 34 cameras\u001b[0m\n",
      "\u001b[34mThere are 1 clusters with 45 cameras\u001b[0m\n",
      "\u001b[34mThere are 1 clusters with 47 cameras\u001b[0m\n",
      "\u001b[34mThere are 1 clusters with 52 cameras\u001b[0m\n",
      "\u001b[34mThere are 1 clusters with 53 cameras\u001b[0m\n",
      "\u001b[34mThere are 1 clusters with 54 cameras\u001b[0m\n",
      "\u001b[34mThere are 2 clusters with 57 cameras\u001b[0m\n",
      "\u001b[34mThere are 1 clusters with 58 cameras\u001b[0m\n",
      "\u001b[34mThere are 3 clusters with 59 cameras\u001b[0m\n",
      "\u001b[34mThere are 3 clusters with 60 cameras\u001b[0m\n",
      "\u001b[34mThere are 8 clusters with 61 cameras\u001b[0m\n",
      "\u001b[34mThere are 10 clusters with 62 cameras\u001b[0m\n",
      "\u001b[34mThere are 25 clusters with 63 cameras\u001b[0m\n",
      "\u001b[34mThere are 494 clusters with 64 cameras\u001b[0m\n",
      "\u001b[34mThere are 1 clusters with 92 cameras\u001b[0m\n",
      "\u001b[34mThere are 1 clusters with 97 cameras\u001b[0m\n",
      "\u001b[34mThere are 1 clusters with 120 cameras\u001b[0m\n",
      "\u001b[34mThere are 1 clusters with 121 cameras\u001b[0m\n",
      "\u001b[34mThere are 1 clusters with 122 cameras\u001b[0m\n",
      "\u001b[34mThere are 1 clusters with 124 cameras\u001b[0m\n",
      "\u001b[34mThere are 1 clusters with 125 cameras\u001b[0m\n",
      "\u001b[34mThere are 1 clusters with 126 cameras\u001b[0m\n",
      "\u001b[34mThere are 6 clusters with 127 cameras\u001b[0m\n",
      "\u001b[34mThere are 10 clusters with 128 cameras\u001b[0m\n",
      "Number of classes: 592\n",
      "\u001b[36mLearning Rate: 0.000350\u001b[0m\n",
      "encontrou modelos mobilenet. Carregando...\n",
      "encontrou modelos vgg16. Carregando...\n",
      "encontrou modelos resnet50. Carregando...\n",
      "encontrou modelos osnet. Carregando...\n",
      "encontrou modelos densenet121. Carregando...\n",
      "###============ Iteration number 70/90 ============###\n",
      "Extracting Online Features for mobilenet ...\n",
      "Features extracted in 160.84 seconds\n",
      "Computing jaccard distance...\n"
     ]
    },
    {
     "name": "stderr",
     "output_type": "stream",
     "text": [
      "bruteForceKnn is deprecated; call bfKnn instead\n"
     ]
    },
    {
     "name": "stdout",
     "output_type": "stream",
     "text": [
      "Jaccard distance computing time cost: 84.51460766792297\n",
      "Extracting Online Features for vgg16 ...\n",
      "Features extracted in 180.24 seconds\n",
      "Computing jaccard distance...\n"
     ]
    },
    {
     "name": "stderr",
     "output_type": "stream",
     "text": [
      "bruteForceKnn is deprecated; call bfKnn instead\n"
     ]
    },
    {
     "name": "stdout",
     "output_type": "stream",
     "text": [
      "Jaccard distance computing time cost: 85.29999470710754\n",
      "Extracting Online Features for resnet50 ...\n",
      "Features extracted in 178.74 seconds\n",
      "Computing jaccard distance...\n"
     ]
    },
    {
     "name": "stderr",
     "output_type": "stream",
     "text": [
      "bruteForceKnn is deprecated; call bfKnn instead\n"
     ]
    },
    {
     "name": "stdout",
     "output_type": "stream",
     "text": [
      "Jaccard distance computing time cost: 83.02528691291809\n",
      "Extracting Online Features for osnet ...\n",
      "Features extracted in 175.58 seconds\n",
      "Computing jaccard distance...\n"
     ]
    },
    {
     "name": "stderr",
     "output_type": "stream",
     "text": [
      "bruteForceKnn is deprecated; call bfKnn instead\n"
     ]
    },
    {
     "name": "stdout",
     "output_type": "stream",
     "text": [
      "Jaccard distance computing time cost: 80.03766441345215\n",
      "Extracting Online Features for densenet121 ...\n",
      "Features extracted in 174.84 seconds\n",
      "Computing jaccard distance...\n"
     ]
    },
    {
     "name": "stderr",
     "output_type": "stream",
     "text": [
      "bruteForceKnn is deprecated; call bfKnn instead\n"
     ]
    },
    {
     "name": "stdout",
     "output_type": "stream",
     "text": [
      "Jaccard distance computing time cost: 83.45029640197754\n",
      "Reliability: 0.997\n",
      "\u001b[32mMean Purity: 0.01845\u001b[0m\n",
      "\u001b[34mThere are 2 clusters with 4 cameras\u001b[0m\n",
      "\u001b[34mThere are 4 clusters with 5 cameras\u001b[0m\n",
      "\u001b[34mThere are 2 clusters with 7 cameras\u001b[0m\n",
      "\u001b[34mThere are 1 clusters with 9 cameras\u001b[0m\n",
      "\u001b[34mThere are 1 clusters with 11 cameras\u001b[0m\n",
      "\u001b[34mThere are 1 clusters with 12 cameras\u001b[0m\n",
      "\u001b[34mThere are 1 clusters with 16 cameras\u001b[0m\n",
      "\u001b[34mThere are 1 clusters with 19 cameras\u001b[0m\n",
      "\u001b[34mThere are 2 clusters with 29 cameras\u001b[0m\n",
      "\u001b[34mThere are 1 clusters with 32 cameras\u001b[0m\n",
      "\u001b[34mThere are 1 clusters with 34 cameras\u001b[0m\n",
      "\u001b[34mThere are 1 clusters with 45 cameras\u001b[0m\n",
      "\u001b[34mThere are 1 clusters with 47 cameras\u001b[0m\n",
      "\u001b[34mThere are 1 clusters with 52 cameras\u001b[0m\n",
      "\u001b[34mThere are 1 clusters with 53 cameras\u001b[0m\n",
      "\u001b[34mThere are 1 clusters with 54 cameras\u001b[0m\n",
      "\u001b[34mThere are 2 clusters with 57 cameras\u001b[0m\n",
      "\u001b[34mThere are 1 clusters with 58 cameras\u001b[0m\n",
      "\u001b[34mThere are 3 clusters with 59 cameras\u001b[0m\n",
      "\u001b[34mThere are 3 clusters with 60 cameras\u001b[0m\n",
      "\u001b[34mThere are 8 clusters with 61 cameras\u001b[0m\n",
      "\u001b[34mThere are 10 clusters with 62 cameras\u001b[0m\n",
      "\u001b[34mThere are 25 clusters with 63 cameras\u001b[0m\n",
      "\u001b[34mThere are 494 clusters with 64 cameras\u001b[0m\n",
      "\u001b[34mThere are 1 clusters with 92 cameras\u001b[0m\n",
      "\u001b[34mThere are 1 clusters with 97 cameras\u001b[0m\n",
      "\u001b[34mThere are 1 clusters with 120 cameras\u001b[0m\n",
      "\u001b[34mThere are 1 clusters with 121 cameras\u001b[0m\n",
      "\u001b[34mThere are 1 clusters with 122 cameras\u001b[0m\n",
      "\u001b[34mThere are 1 clusters with 124 cameras\u001b[0m\n",
      "\u001b[34mThere are 1 clusters with 125 cameras\u001b[0m\n",
      "\u001b[34mThere are 1 clusters with 126 cameras\u001b[0m\n",
      "\u001b[34mThere are 6 clusters with 127 cameras\u001b[0m\n",
      "\u001b[34mThere are 10 clusters with 128 cameras\u001b[0m\n",
      "Number of classes: 592\n",
      "\u001b[36mLearning Rate: 0.000350\u001b[0m\n",
      "encontrou modelos mobilenet. Carregando...\n",
      "encontrou modelos vgg16. Carregando...\n",
      "encontrou modelos resnet50. Carregando...\n",
      "encontrou modelos osnet. Carregando...\n",
      "encontrou modelos densenet121. Carregando...\n",
      "\u001b[33mValidating online mobilenet ...\u001b[0m\n",
      "Features extracted in 54.20 seconds\n",
      "Features extracted in 113.34 seconds\n",
      "Computing CMC and mAP ...\n",
      "** Results **\n",
      "mAP: 71.39%\n",
      "CMC curve\n",
      "Rank-1  : 81.53%\n",
      "Rank-5  : 95.41%\n",
      "Rank-10 : 98.02%\n",
      "Rank-20 : 99.18%\n",
      "\u001b[33mValidating momentum mobilenet ...\u001b[0m\n",
      "Features extracted in 52.52 seconds\n",
      "Features extracted in 112.33 seconds\n",
      "Computing CMC and mAP ...\n",
      "** Results **\n",
      "mAP: 70.86%\n",
      "CMC curve\n",
      "Rank-1  : 78.95%\n",
      "Rank-5  : 93.89%\n",
      "Rank-10 : 97.47%\n",
      "Rank-20 : 99.27%\n",
      "\u001b[33mValidating online vgg16 ...\u001b[0m\n",
      "Features extracted in 53.62 seconds\n",
      "Features extracted in 114.22 seconds\n",
      "Computing CMC and mAP ...\n",
      "** Results **\n",
      "mAP: 69.67%\n",
      "CMC curve\n",
      "Rank-1  : 74.49%\n",
      "Rank-5  : 92.27%\n",
      "Rank-10 : 96.56%\n",
      "Rank-20 : 99.05%\n",
      "\u001b[33mValidating momentum vgg16 ...\u001b[0m\n",
      "Features extracted in 53.80 seconds\n",
      "Features extracted in 114.79 seconds\n",
      "Computing CMC and mAP ...\n",
      "** Results **\n",
      "mAP: 69.72%\n",
      "CMC curve\n",
      "Rank-1  : 75.80%\n",
      "Rank-5  : 92.91%\n",
      "Rank-10 : 97.25%\n",
      "Rank-20 : 99.09%\n",
      "\u001b[33mValidating online resnet50 ...\u001b[0m\n",
      "Features extracted in 53.24 seconds\n",
      "Features extracted in 113.04 seconds\n",
      "Computing CMC and mAP ...\n",
      "** Results **\n",
      "mAP: 69.64%\n",
      "CMC curve\n",
      "Rank-1  : 70.07%\n",
      "Rank-5  : 91.28%\n",
      "Rank-10 : 96.04%\n",
      "Rank-20 : 98.68%\n",
      "\u001b[33mValidating momentum resnet50 ...\u001b[0m\n",
      "Features extracted in 53.65 seconds\n",
      "Features extracted in 113.56 seconds\n",
      "Computing CMC and mAP ...\n",
      "** Results **\n",
      "mAP: 70.02%\n",
      "CMC curve\n",
      "Rank-1  : 73.39%\n",
      "Rank-5  : 93.49%\n",
      "Rank-10 : 97.50%\n",
      "Rank-20 : 99.37%\n",
      "\u001b[33mValidating online osnet ...\u001b[0m\n",
      "Features extracted in 53.29 seconds\n",
      "Features extracted in 112.83 seconds\n",
      "Computing CMC and mAP ...\n",
      "** Results **\n",
      "mAP: 68.61%\n",
      "CMC curve\n",
      "Rank-1  : 73.02%\n",
      "Rank-5  : 95.04%\n",
      "Rank-10 : 98.36%\n",
      "Rank-20 : 99.48%\n",
      "\u001b[33mValidating momentum osnet ...\u001b[0m\n",
      "Features extracted in 53.69 seconds\n",
      "Features extracted in 113.40 seconds\n",
      "Computing CMC and mAP ...\n",
      "** Results **\n",
      "mAP: 69.41%\n",
      "CMC curve\n",
      "Rank-1  : 73.33%\n",
      "Rank-5  : 93.06%\n",
      "Rank-10 : 97.14%\n",
      "Rank-20 : 99.12%\n",
      "\u001b[33mValidating online densenet121 ...\u001b[0m\n",
      "Features extracted in 53.94 seconds\n",
      "Features extracted in 113.98 seconds\n",
      "Computing CMC and mAP ...\n",
      "** Results **\n",
      "mAP: 70.12%\n",
      "CMC curve\n",
      "Rank-1  : 75.15%\n",
      "Rank-5  : 92.89%\n",
      "Rank-10 : 97.00%\n",
      "Rank-20 : 98.95%\n",
      "\u001b[33mValidating momentum densenet121 ...\u001b[0m\n",
      "Features extracted in 54.03 seconds\n",
      "Features extracted in 113.93 seconds\n",
      "Computing CMC and mAP ...\n",
      "** Results **\n",
      "mAP: 69.53%\n",
      "CMC curve\n",
      "Rank-1  : 75.91%\n",
      "Rank-5  : 93.33%\n",
      "Rank-10 : 97.31%\n",
      "Rank-20 : 99.25%\n",
      "\u001b[33mValidating ensembled with online models ...\u001b[0m\n",
      "Computing CMC and mAP ...\n",
      "** Results **\n",
      "mAP: 70.82%\n",
      "Ranks:\n",
      "Rank-1  : 78.15%\n",
      "Rank-5  : 92.64%\n",
      "Rank-10 : 96.59%\n",
      "\u001b[33mValidating ensembled with momentum models ...\u001b[0m\n",
      "Computing CMC and mAP ...\n",
      "** Results **\n",
      "mAP: 70.51%\n",
      "Ranks:\n",
      "Rank-1  : 78.02%\n",
      "Rank-5  : 92.58%\n",
      "Rank-10 : 96.55%\n",
      "###============ Iteration number 71/90 ============###\n",
      "Extracting Online Features for mobilenet ...\n",
      "Features extracted in 177.13 seconds\n",
      "Computing jaccard distance...\n"
     ]
    },
    {
     "name": "stderr",
     "output_type": "stream",
     "text": [
      "bruteForceKnn is deprecated; call bfKnn instead\n"
     ]
    },
    {
     "name": "stdout",
     "output_type": "stream",
     "text": [
      "Jaccard distance computing time cost: 82.14458847045898\n",
      "Extracting Online Features for vgg16 ...\n",
      "Features extracted in 174.66 seconds\n",
      "Computing jaccard distance...\n"
     ]
    },
    {
     "name": "stderr",
     "output_type": "stream",
     "text": [
      "bruteForceKnn is deprecated; call bfKnn instead\n"
     ]
    },
    {
     "name": "stdout",
     "output_type": "stream",
     "text": [
      "Jaccard distance computing time cost: 81.90022468566895\n",
      "Extracting Online Features for resnet50 ...\n",
      "Features extracted in 176.71 seconds\n",
      "Computing jaccard distance...\n"
     ]
    },
    {
     "name": "stderr",
     "output_type": "stream",
     "text": [
      "bruteForceKnn is deprecated; call bfKnn instead\n"
     ]
    },
    {
     "name": "stdout",
     "output_type": "stream",
     "text": [
      "Jaccard distance computing time cost: 83.12961268424988\n",
      "Extracting Online Features for osnet ...\n",
      "Features extracted in 174.36 seconds\n",
      "Computing jaccard distance...\n"
     ]
    },
    {
     "name": "stderr",
     "output_type": "stream",
     "text": [
      "bruteForceKnn is deprecated; call bfKnn instead\n"
     ]
    },
    {
     "name": "stdout",
     "output_type": "stream",
     "text": [
      "Jaccard distance computing time cost: 81.45027232170105\n",
      "Extracting Online Features for densenet121 ...\n",
      "Features extracted in 176.71 seconds\n",
      "Computing jaccard distance...\n"
     ]
    },
    {
     "name": "stderr",
     "output_type": "stream",
     "text": [
      "bruteForceKnn is deprecated; call bfKnn instead\n"
     ]
    },
    {
     "name": "stdout",
     "output_type": "stream",
     "text": [
      "Jaccard distance computing time cost: 85.56654953956604\n",
      "Reliability: 0.997\n",
      "\u001b[32mMean Purity: 0.01845\u001b[0m\n",
      "\u001b[34mThere are 2 clusters with 4 cameras\u001b[0m\n",
      "\u001b[34mThere are 4 clusters with 5 cameras\u001b[0m\n",
      "\u001b[34mThere are 2 clusters with 7 cameras\u001b[0m\n",
      "\u001b[34mThere are 1 clusters with 9 cameras\u001b[0m\n",
      "\u001b[34mThere are 1 clusters with 11 cameras\u001b[0m\n",
      "\u001b[34mThere are 1 clusters with 12 cameras\u001b[0m\n",
      "\u001b[34mThere are 1 clusters with 16 cameras\u001b[0m\n",
      "\u001b[34mThere are 1 clusters with 19 cameras\u001b[0m\n",
      "\u001b[34mThere are 2 clusters with 29 cameras\u001b[0m\n",
      "\u001b[34mThere are 1 clusters with 32 cameras\u001b[0m\n",
      "\u001b[34mThere are 1 clusters with 34 cameras\u001b[0m\n",
      "\u001b[34mThere are 1 clusters with 45 cameras\u001b[0m\n",
      "\u001b[34mThere are 1 clusters with 47 cameras\u001b[0m\n",
      "\u001b[34mThere are 1 clusters with 52 cameras\u001b[0m\n",
      "\u001b[34mThere are 1 clusters with 53 cameras\u001b[0m\n",
      "\u001b[34mThere are 1 clusters with 54 cameras\u001b[0m\n",
      "\u001b[34mThere are 2 clusters with 57 cameras\u001b[0m\n",
      "\u001b[34mThere are 1 clusters with 58 cameras\u001b[0m\n",
      "\u001b[34mThere are 3 clusters with 59 cameras\u001b[0m\n",
      "\u001b[34mThere are 3 clusters with 60 cameras\u001b[0m\n",
      "\u001b[34mThere are 8 clusters with 61 cameras\u001b[0m\n",
      "\u001b[34mThere are 10 clusters with 62 cameras\u001b[0m\n",
      "\u001b[34mThere are 25 clusters with 63 cameras\u001b[0m\n",
      "\u001b[34mThere are 494 clusters with 64 cameras\u001b[0m\n",
      "\u001b[34mThere are 1 clusters with 92 cameras\u001b[0m\n",
      "\u001b[34mThere are 1 clusters with 97 cameras\u001b[0m\n",
      "\u001b[34mThere are 1 clusters with 120 cameras\u001b[0m\n",
      "\u001b[34mThere are 1 clusters with 121 cameras\u001b[0m\n",
      "\u001b[34mThere are 1 clusters with 122 cameras\u001b[0m\n",
      "\u001b[34mThere are 1 clusters with 124 cameras\u001b[0m\n",
      "\u001b[34mThere are 1 clusters with 125 cameras\u001b[0m\n",
      "\u001b[34mThere are 1 clusters with 126 cameras\u001b[0m\n",
      "\u001b[34mThere are 6 clusters with 127 cameras\u001b[0m\n",
      "\u001b[34mThere are 10 clusters with 128 cameras\u001b[0m\n",
      "Number of classes: 592\n",
      "\u001b[36mLearning Rate: 0.000017\u001b[0m\n",
      "encontrou modelos mobilenet. Carregando...\n",
      "encontrou modelos vgg16. Carregando...\n",
      "encontrou modelos resnet50. Carregando...\n",
      "encontrou modelos osnet. Carregando...\n",
      "encontrou modelos densenet121. Carregando...\n",
      "###============ Iteration number 72/90 ============###\n",
      "Extracting Online Features for mobilenet ...\n",
      "Features extracted in 173.71 seconds\n",
      "Computing jaccard distance...\n"
     ]
    },
    {
     "name": "stderr",
     "output_type": "stream",
     "text": [
      "bruteForceKnn is deprecated; call bfKnn instead\n"
     ]
    },
    {
     "name": "stdout",
     "output_type": "stream",
     "text": [
      "Jaccard distance computing time cost: 82.57973146438599\n",
      "Extracting Online Features for vgg16 ...\n",
      "Features extracted in 176.63 seconds\n",
      "Computing jaccard distance...\n"
     ]
    },
    {
     "name": "stderr",
     "output_type": "stream",
     "text": [
      "bruteForceKnn is deprecated; call bfKnn instead\n"
     ]
    },
    {
     "name": "stdout",
     "output_type": "stream",
     "text": [
      "Jaccard distance computing time cost: 82.56021237373352\n",
      "Extracting Online Features for resnet50 ...\n",
      "Features extracted in 177.37 seconds\n",
      "Computing jaccard distance...\n"
     ]
    },
    {
     "name": "stderr",
     "output_type": "stream",
     "text": [
      "bruteForceKnn is deprecated; call bfKnn instead\n"
     ]
    },
    {
     "name": "stdout",
     "output_type": "stream",
     "text": [
      "Jaccard distance computing time cost: 85.61435127258301\n",
      "Extracting Online Features for osnet ...\n",
      "Features extracted in 174.42 seconds\n",
      "Computing jaccard distance...\n"
     ]
    },
    {
     "name": "stderr",
     "output_type": "stream",
     "text": [
      "bruteForceKnn is deprecated; call bfKnn instead\n"
     ]
    },
    {
     "name": "stdout",
     "output_type": "stream",
     "text": [
      "Jaccard distance computing time cost: 79.80868220329285\n",
      "Extracting Online Features for densenet121 ...\n",
      "Features extracted in 175.82 seconds\n",
      "Computing jaccard distance...\n"
     ]
    },
    {
     "name": "stderr",
     "output_type": "stream",
     "text": [
      "bruteForceKnn is deprecated; call bfKnn instead\n"
     ]
    },
    {
     "name": "stdout",
     "output_type": "stream",
     "text": [
      "Jaccard distance computing time cost: 83.97201943397522\n",
      "Reliability: 0.997\n",
      "\u001b[32mMean Purity: 0.01845\u001b[0m\n",
      "\u001b[34mThere are 2 clusters with 4 cameras\u001b[0m\n",
      "\u001b[34mThere are 4 clusters with 5 cameras\u001b[0m\n",
      "\u001b[34mThere are 2 clusters with 7 cameras\u001b[0m\n",
      "\u001b[34mThere are 1 clusters with 9 cameras\u001b[0m\n",
      "\u001b[34mThere are 1 clusters with 11 cameras\u001b[0m\n",
      "\u001b[34mThere are 1 clusters with 12 cameras\u001b[0m\n",
      "\u001b[34mThere are 1 clusters with 16 cameras\u001b[0m\n",
      "\u001b[34mThere are 1 clusters with 19 cameras\u001b[0m\n",
      "\u001b[34mThere are 2 clusters with 29 cameras\u001b[0m\n",
      "\u001b[34mThere are 1 clusters with 32 cameras\u001b[0m\n",
      "\u001b[34mThere are 1 clusters with 34 cameras\u001b[0m\n",
      "\u001b[34mThere are 1 clusters with 45 cameras\u001b[0m\n",
      "\u001b[34mThere are 1 clusters with 47 cameras\u001b[0m\n",
      "\u001b[34mThere are 1 clusters with 52 cameras\u001b[0m\n",
      "\u001b[34mThere are 1 clusters with 53 cameras\u001b[0m\n",
      "\u001b[34mThere are 1 clusters with 54 cameras\u001b[0m\n",
      "\u001b[34mThere are 2 clusters with 57 cameras\u001b[0m\n",
      "\u001b[34mThere are 1 clusters with 58 cameras\u001b[0m\n",
      "\u001b[34mThere are 3 clusters with 59 cameras\u001b[0m\n",
      "\u001b[34mThere are 3 clusters with 60 cameras\u001b[0m\n",
      "\u001b[34mThere are 8 clusters with 61 cameras\u001b[0m\n",
      "\u001b[34mThere are 10 clusters with 62 cameras\u001b[0m\n",
      "\u001b[34mThere are 25 clusters with 63 cameras\u001b[0m\n",
      "\u001b[34mThere are 494 clusters with 64 cameras\u001b[0m\n",
      "\u001b[34mThere are 1 clusters with 92 cameras\u001b[0m\n",
      "\u001b[34mThere are 1 clusters with 97 cameras\u001b[0m\n",
      "\u001b[34mThere are 1 clusters with 120 cameras\u001b[0m\n",
      "\u001b[34mThere are 1 clusters with 121 cameras\u001b[0m\n",
      "\u001b[34mThere are 1 clusters with 122 cameras\u001b[0m\n",
      "\u001b[34mThere are 1 clusters with 124 cameras\u001b[0m\n",
      "\u001b[34mThere are 1 clusters with 125 cameras\u001b[0m\n",
      "\u001b[34mThere are 1 clusters with 126 cameras\u001b[0m\n",
      "\u001b[34mThere are 6 clusters with 127 cameras\u001b[0m\n",
      "\u001b[34mThere are 10 clusters with 128 cameras\u001b[0m\n",
      "Number of classes: 592\n",
      "\u001b[36mLearning Rate: 0.000035\u001b[0m\n",
      "encontrou modelos mobilenet. Carregando...\n",
      "encontrou modelos vgg16. Carregando...\n",
      "encontrou modelos resnet50. Carregando...\n",
      "encontrou modelos osnet. Carregando...\n",
      "encontrou modelos densenet121. Carregando...\n",
      "###============ Iteration number 73/90 ============###\n",
      "Extracting Online Features for mobilenet ...\n",
      "Features extracted in 173.95 seconds\n",
      "Computing jaccard distance...\n"
     ]
    },
    {
     "name": "stderr",
     "output_type": "stream",
     "text": [
      "bruteForceKnn is deprecated; call bfKnn instead\n"
     ]
    },
    {
     "name": "stdout",
     "output_type": "stream",
     "text": [
      "Jaccard distance computing time cost: 82.44720482826233\n",
      "Extracting Online Features for vgg16 ...\n",
      "Features extracted in 176.38 seconds\n",
      "Computing jaccard distance...\n"
     ]
    },
    {
     "name": "stderr",
     "output_type": "stream",
     "text": [
      "bruteForceKnn is deprecated; call bfKnn instead\n"
     ]
    },
    {
     "name": "stdout",
     "output_type": "stream",
     "text": [
      "Jaccard distance computing time cost: 83.90794348716736\n",
      "Extracting Online Features for resnet50 ...\n",
      "Features extracted in 177.52 seconds\n",
      "Computing jaccard distance...\n"
     ]
    },
    {
     "name": "stderr",
     "output_type": "stream",
     "text": [
      "bruteForceKnn is deprecated; call bfKnn instead\n"
     ]
    },
    {
     "name": "stdout",
     "output_type": "stream",
     "text": [
      "Jaccard distance computing time cost: 85.14840650558472\n",
      "Extracting Online Features for osnet ...\n",
      "Features extracted in 173.97 seconds\n",
      "Computing jaccard distance...\n"
     ]
    },
    {
     "name": "stderr",
     "output_type": "stream",
     "text": [
      "bruteForceKnn is deprecated; call bfKnn instead\n"
     ]
    },
    {
     "name": "stdout",
     "output_type": "stream",
     "text": [
      "Jaccard distance computing time cost: 81.7376937866211\n",
      "Extracting Online Features for densenet121 ...\n",
      "Features extracted in 177.02 seconds\n",
      "Computing jaccard distance...\n"
     ]
    },
    {
     "name": "stderr",
     "output_type": "stream",
     "text": [
      "bruteForceKnn is deprecated; call bfKnn instead\n"
     ]
    },
    {
     "name": "stdout",
     "output_type": "stream",
     "text": [
      "Jaccard distance computing time cost: 81.15202307701111\n",
      "Reliability: 0.997\n",
      "\u001b[32mMean Purity: 0.01845\u001b[0m\n",
      "\u001b[34mThere are 2 clusters with 4 cameras\u001b[0m\n",
      "\u001b[34mThere are 4 clusters with 5 cameras\u001b[0m\n",
      "\u001b[34mThere are 2 clusters with 7 cameras\u001b[0m\n",
      "\u001b[34mThere are 1 clusters with 9 cameras\u001b[0m\n",
      "\u001b[34mThere are 1 clusters with 11 cameras\u001b[0m\n",
      "\u001b[34mThere are 1 clusters with 12 cameras\u001b[0m\n",
      "\u001b[34mThere are 1 clusters with 16 cameras\u001b[0m\n",
      "\u001b[34mThere are 1 clusters with 19 cameras\u001b[0m\n",
      "\u001b[34mThere are 2 clusters with 29 cameras\u001b[0m\n",
      "\u001b[34mThere are 1 clusters with 32 cameras\u001b[0m\n",
      "\u001b[34mThere are 1 clusters with 34 cameras\u001b[0m\n",
      "\u001b[34mThere are 1 clusters with 45 cameras\u001b[0m\n",
      "\u001b[34mThere are 1 clusters with 47 cameras\u001b[0m\n",
      "\u001b[34mThere are 1 clusters with 52 cameras\u001b[0m\n",
      "\u001b[34mThere are 1 clusters with 53 cameras\u001b[0m\n",
      "\u001b[34mThere are 1 clusters with 54 cameras\u001b[0m\n",
      "\u001b[34mThere are 2 clusters with 57 cameras\u001b[0m\n",
      "\u001b[34mThere are 1 clusters with 58 cameras\u001b[0m\n",
      "\u001b[34mThere are 3 clusters with 59 cameras\u001b[0m\n",
      "\u001b[34mThere are 3 clusters with 60 cameras\u001b[0m\n",
      "\u001b[34mThere are 8 clusters with 61 cameras\u001b[0m\n",
      "\u001b[34mThere are 10 clusters with 62 cameras\u001b[0m\n",
      "\u001b[34mThere are 25 clusters with 63 cameras\u001b[0m\n",
      "\u001b[34mThere are 494 clusters with 64 cameras\u001b[0m\n",
      "\u001b[34mThere are 1 clusters with 92 cameras\u001b[0m\n",
      "\u001b[34mThere are 1 clusters with 97 cameras\u001b[0m\n",
      "\u001b[34mThere are 1 clusters with 120 cameras\u001b[0m\n",
      "\u001b[34mThere are 1 clusters with 121 cameras\u001b[0m\n",
      "\u001b[34mThere are 1 clusters with 122 cameras\u001b[0m\n",
      "\u001b[34mThere are 1 clusters with 124 cameras\u001b[0m\n",
      "\u001b[34mThere are 1 clusters with 125 cameras\u001b[0m\n",
      "\u001b[34mThere are 1 clusters with 126 cameras\u001b[0m\n",
      "\u001b[34mThere are 6 clusters with 127 cameras\u001b[0m\n",
      "\u001b[34mThere are 10 clusters with 128 cameras\u001b[0m\n",
      "Number of classes: 592\n",
      "\u001b[36mLearning Rate: 0.000053\u001b[0m\n",
      "encontrou modelos mobilenet. Carregando...\n",
      "encontrou modelos vgg16. Carregando...\n",
      "encontrou modelos resnet50. Carregando...\n",
      "encontrou modelos osnet. Carregando...\n",
      "encontrou modelos densenet121. Carregando...\n",
      "###============ Iteration number 74/90 ============###\n",
      "Extracting Online Features for mobilenet ...\n",
      "Features extracted in 176.71 seconds\n",
      "Computing jaccard distance...\n"
     ]
    },
    {
     "name": "stderr",
     "output_type": "stream",
     "text": [
      "bruteForceKnn is deprecated; call bfKnn instead\n"
     ]
    },
    {
     "name": "stdout",
     "output_type": "stream",
     "text": [
      "Jaccard distance computing time cost: 82.34514355659485\n",
      "Extracting Online Features for vgg16 ...\n",
      "Features extracted in 176.81 seconds\n",
      "Computing jaccard distance...\n"
     ]
    },
    {
     "name": "stderr",
     "output_type": "stream",
     "text": [
      "bruteForceKnn is deprecated; call bfKnn instead\n"
     ]
    },
    {
     "name": "stdout",
     "output_type": "stream",
     "text": [
      "Jaccard distance computing time cost: 82.6480872631073\n",
      "Extracting Online Features for resnet50 ...\n",
      "Features extracted in 178.12 seconds\n",
      "Computing jaccard distance...\n"
     ]
    },
    {
     "name": "stderr",
     "output_type": "stream",
     "text": [
      "bruteForceKnn is deprecated; call bfKnn instead\n"
     ]
    },
    {
     "name": "stdout",
     "output_type": "stream",
     "text": [
      "Jaccard distance computing time cost: 83.20602297782898\n",
      "Extracting Online Features for osnet ...\n",
      "Features extracted in 175.05 seconds\n",
      "Computing jaccard distance...\n"
     ]
    },
    {
     "name": "stderr",
     "output_type": "stream",
     "text": [
      "bruteForceKnn is deprecated; call bfKnn instead\n"
     ]
    },
    {
     "name": "stdout",
     "output_type": "stream",
     "text": [
      "Jaccard distance computing time cost: 78.48010468482971\n",
      "Extracting Online Features for densenet121 ...\n",
      "Features extracted in 173.75 seconds\n",
      "Computing jaccard distance...\n"
     ]
    },
    {
     "name": "stderr",
     "output_type": "stream",
     "text": [
      "bruteForceKnn is deprecated; call bfKnn instead\n"
     ]
    },
    {
     "name": "stdout",
     "output_type": "stream",
     "text": [
      "Jaccard distance computing time cost: 86.784677028656\n",
      "Reliability: 0.997\n",
      "\u001b[32mMean Purity: 0.01845\u001b[0m\n",
      "\u001b[34mThere are 2 clusters with 4 cameras\u001b[0m\n",
      "\u001b[34mThere are 4 clusters with 5 cameras\u001b[0m\n",
      "\u001b[34mThere are 2 clusters with 7 cameras\u001b[0m\n",
      "\u001b[34mThere are 1 clusters with 9 cameras\u001b[0m\n",
      "\u001b[34mThere are 1 clusters with 11 cameras\u001b[0m\n",
      "\u001b[34mThere are 1 clusters with 12 cameras\u001b[0m\n",
      "\u001b[34mThere are 1 clusters with 16 cameras\u001b[0m\n",
      "\u001b[34mThere are 1 clusters with 19 cameras\u001b[0m\n",
      "\u001b[34mThere are 2 clusters with 29 cameras\u001b[0m\n",
      "\u001b[34mThere are 1 clusters with 32 cameras\u001b[0m\n",
      "\u001b[34mThere are 1 clusters with 34 cameras\u001b[0m\n",
      "\u001b[34mThere are 1 clusters with 45 cameras\u001b[0m\n",
      "\u001b[34mThere are 1 clusters with 47 cameras\u001b[0m\n",
      "\u001b[34mThere are 1 clusters with 52 cameras\u001b[0m\n",
      "\u001b[34mThere are 1 clusters with 53 cameras\u001b[0m\n",
      "\u001b[34mThere are 1 clusters with 54 cameras\u001b[0m\n",
      "\u001b[34mThere are 2 clusters with 57 cameras\u001b[0m\n",
      "\u001b[34mThere are 1 clusters with 58 cameras\u001b[0m\n",
      "\u001b[34mThere are 3 clusters with 59 cameras\u001b[0m\n",
      "\u001b[34mThere are 3 clusters with 60 cameras\u001b[0m\n",
      "\u001b[34mThere are 8 clusters with 61 cameras\u001b[0m\n",
      "\u001b[34mThere are 10 clusters with 62 cameras\u001b[0m\n",
      "\u001b[34mThere are 25 clusters with 63 cameras\u001b[0m\n",
      "\u001b[34mThere are 494 clusters with 64 cameras\u001b[0m\n",
      "\u001b[34mThere are 1 clusters with 92 cameras\u001b[0m\n",
      "\u001b[34mThere are 1 clusters with 97 cameras\u001b[0m\n",
      "\u001b[34mThere are 1 clusters with 120 cameras\u001b[0m\n",
      "\u001b[34mThere are 1 clusters with 121 cameras\u001b[0m\n",
      "\u001b[34mThere are 1 clusters with 122 cameras\u001b[0m\n",
      "\u001b[34mThere are 1 clusters with 124 cameras\u001b[0m\n",
      "\u001b[34mThere are 1 clusters with 125 cameras\u001b[0m\n",
      "\u001b[34mThere are 1 clusters with 126 cameras\u001b[0m\n",
      "\u001b[34mThere are 6 clusters with 127 cameras\u001b[0m\n",
      "\u001b[34mThere are 10 clusters with 128 cameras\u001b[0m\n",
      "Number of classes: 592\n",
      "\u001b[36mLearning Rate: 0.000070\u001b[0m\n",
      "encontrou modelos mobilenet. Carregando...\n",
      "encontrou modelos vgg16. Carregando...\n",
      "encontrou modelos resnet50. Carregando...\n",
      "encontrou modelos osnet. Carregando...\n",
      "encontrou modelos densenet121. Carregando...\n",
      "###============ Iteration number 75/90 ============###\n",
      "Extracting Online Features for mobilenet ...\n",
      "Features extracted in 173.00 seconds\n",
      "Computing jaccard distance...\n"
     ]
    },
    {
     "name": "stderr",
     "output_type": "stream",
     "text": [
      "bruteForceKnn is deprecated; call bfKnn instead\n"
     ]
    },
    {
     "name": "stdout",
     "output_type": "stream",
     "text": [
      "Jaccard distance computing time cost: 81.94500231742859\n",
      "Extracting Online Features for vgg16 ...\n",
      "Features extracted in 178.49 seconds\n",
      "Computing jaccard distance...\n"
     ]
    },
    {
     "name": "stderr",
     "output_type": "stream",
     "text": [
      "bruteForceKnn is deprecated; call bfKnn instead\n"
     ]
    },
    {
     "name": "stdout",
     "output_type": "stream",
     "text": [
      "Jaccard distance computing time cost: 82.24718427658081\n",
      "Extracting Online Features for resnet50 ...\n",
      "Features extracted in 174.67 seconds\n",
      "Computing jaccard distance...\n"
     ]
    },
    {
     "name": "stderr",
     "output_type": "stream",
     "text": [
      "bruteForceKnn is deprecated; call bfKnn instead\n"
     ]
    },
    {
     "name": "stdout",
     "output_type": "stream",
     "text": [
      "Jaccard distance computing time cost: 84.12479853630066\n",
      "Extracting Online Features for osnet ...\n",
      "Features extracted in 173.32 seconds\n",
      "Computing jaccard distance...\n"
     ]
    },
    {
     "name": "stderr",
     "output_type": "stream",
     "text": [
      "bruteForceKnn is deprecated; call bfKnn instead\n"
     ]
    },
    {
     "name": "stdout",
     "output_type": "stream",
     "text": [
      "Jaccard distance computing time cost: 79.72679662704468\n",
      "Extracting Online Features for densenet121 ...\n",
      "Features extracted in 173.39 seconds\n",
      "Computing jaccard distance...\n"
     ]
    },
    {
     "name": "stderr",
     "output_type": "stream",
     "text": [
      "bruteForceKnn is deprecated; call bfKnn instead\n"
     ]
    },
    {
     "name": "stdout",
     "output_type": "stream",
     "text": [
      "Jaccard distance computing time cost: 85.6872398853302\n",
      "Reliability: 0.997\n",
      "\u001b[32mMean Purity: 0.01845\u001b[0m\n",
      "\u001b[34mThere are 2 clusters with 4 cameras\u001b[0m\n",
      "\u001b[34mThere are 4 clusters with 5 cameras\u001b[0m\n",
      "\u001b[34mThere are 2 clusters with 7 cameras\u001b[0m\n",
      "\u001b[34mThere are 1 clusters with 9 cameras\u001b[0m\n",
      "\u001b[34mThere are 1 clusters with 11 cameras\u001b[0m\n",
      "\u001b[34mThere are 1 clusters with 12 cameras\u001b[0m\n",
      "\u001b[34mThere are 1 clusters with 16 cameras\u001b[0m\n",
      "\u001b[34mThere are 1 clusters with 19 cameras\u001b[0m\n",
      "\u001b[34mThere are 2 clusters with 29 cameras\u001b[0m\n",
      "\u001b[34mThere are 1 clusters with 32 cameras\u001b[0m\n",
      "\u001b[34mThere are 1 clusters with 34 cameras\u001b[0m\n",
      "\u001b[34mThere are 1 clusters with 45 cameras\u001b[0m\n",
      "\u001b[34mThere are 1 clusters with 47 cameras\u001b[0m\n",
      "\u001b[34mThere are 1 clusters with 52 cameras\u001b[0m\n",
      "\u001b[34mThere are 1 clusters with 53 cameras\u001b[0m\n",
      "\u001b[34mThere are 1 clusters with 54 cameras\u001b[0m\n",
      "\u001b[34mThere are 2 clusters with 57 cameras\u001b[0m\n",
      "\u001b[34mThere are 1 clusters with 58 cameras\u001b[0m\n",
      "\u001b[34mThere are 3 clusters with 59 cameras\u001b[0m\n",
      "\u001b[34mThere are 3 clusters with 60 cameras\u001b[0m\n",
      "\u001b[34mThere are 8 clusters with 61 cameras\u001b[0m\n",
      "\u001b[34mThere are 10 clusters with 62 cameras\u001b[0m\n",
      "\u001b[34mThere are 25 clusters with 63 cameras\u001b[0m\n",
      "\u001b[34mThere are 494 clusters with 64 cameras\u001b[0m\n",
      "\u001b[34mThere are 1 clusters with 92 cameras\u001b[0m\n",
      "\u001b[34mThere are 1 clusters with 97 cameras\u001b[0m\n",
      "\u001b[34mThere are 1 clusters with 120 cameras\u001b[0m\n",
      "\u001b[34mThere are 1 clusters with 121 cameras\u001b[0m\n",
      "\u001b[34mThere are 1 clusters with 122 cameras\u001b[0m\n",
      "\u001b[34mThere are 1 clusters with 124 cameras\u001b[0m\n",
      "\u001b[34mThere are 1 clusters with 125 cameras\u001b[0m\n",
      "\u001b[34mThere are 1 clusters with 126 cameras\u001b[0m\n",
      "\u001b[34mThere are 6 clusters with 127 cameras\u001b[0m\n",
      "\u001b[34mThere are 10 clusters with 128 cameras\u001b[0m\n",
      "Number of classes: 592\n",
      "\u001b[36mLearning Rate: 0.000088\u001b[0m\n",
      "encontrou modelos mobilenet. Carregando...\n",
      "encontrou modelos vgg16. Carregando...\n",
      "encontrou modelos resnet50. Carregando...\n",
      "encontrou modelos osnet. Carregando...\n",
      "encontrou modelos densenet121. Carregando...\n",
      "\u001b[33mValidating online mobilenet ...\u001b[0m\n",
      "Features extracted in 51.55 seconds\n",
      "Features extracted in 110.46 seconds\n",
      "Computing CMC and mAP ...\n",
      "** Results **\n",
      "mAP: 71.39%\n",
      "CMC curve\n",
      "Rank-1  : 81.53%\n",
      "Rank-5  : 95.41%\n",
      "Rank-10 : 98.02%\n",
      "Rank-20 : 99.18%\n",
      "\u001b[33mValidating momentum mobilenet ...\u001b[0m\n",
      "Features extracted in 51.26 seconds\n",
      "Features extracted in 110.66 seconds\n",
      "Computing CMC and mAP ...\n",
      "** Results **\n",
      "mAP: 70.86%\n",
      "CMC curve\n",
      "Rank-1  : 78.95%\n",
      "Rank-5  : 93.89%\n",
      "Rank-10 : 97.47%\n",
      "Rank-20 : 99.27%\n",
      "\u001b[33mValidating online vgg16 ...\u001b[0m\n",
      "Features extracted in 52.87 seconds\n",
      "Features extracted in 112.78 seconds\n",
      "Computing CMC and mAP ...\n",
      "** Results **\n",
      "mAP: 69.67%\n",
      "CMC curve\n",
      "Rank-1  : 74.49%\n",
      "Rank-5  : 92.27%\n",
      "Rank-10 : 96.56%\n",
      "Rank-20 : 99.05%\n",
      "\u001b[33mValidating momentum vgg16 ...\u001b[0m\n",
      "Features extracted in 52.61 seconds\n",
      "Features extracted in 113.51 seconds\n",
      "Computing CMC and mAP ...\n",
      "** Results **\n",
      "mAP: 69.72%\n",
      "CMC curve\n",
      "Rank-1  : 75.80%\n",
      "Rank-5  : 92.91%\n",
      "Rank-10 : 97.25%\n",
      "Rank-20 : 99.09%\n",
      "\u001b[33mValidating online resnet50 ...\u001b[0m\n",
      "Features extracted in 52.09 seconds\n",
      "Features extracted in 110.69 seconds\n",
      "Computing CMC and mAP ...\n",
      "** Results **\n",
      "mAP: 69.64%\n",
      "CMC curve\n",
      "Rank-1  : 70.07%\n",
      "Rank-5  : 91.28%\n",
      "Rank-10 : 96.04%\n",
      "Rank-20 : 98.68%\n",
      "\u001b[33mValidating momentum resnet50 ...\u001b[0m\n",
      "Features extracted in 52.19 seconds\n",
      "Features extracted in 111.99 seconds\n",
      "Computing CMC and mAP ...\n",
      "** Results **\n",
      "mAP: 70.02%\n",
      "CMC curve\n",
      "Rank-1  : 73.39%\n",
      "Rank-5  : 93.49%\n",
      "Rank-10 : 97.50%\n",
      "Rank-20 : 99.37%\n",
      "\u001b[33mValidating online osnet ...\u001b[0m\n",
      "Features extracted in 52.48 seconds\n",
      "Features extracted in 111.64 seconds\n",
      "Computing CMC and mAP ...\n",
      "** Results **\n",
      "mAP: 68.61%\n",
      "CMC curve\n",
      "Rank-1  : 73.02%\n",
      "Rank-5  : 95.04%\n",
      "Rank-10 : 98.36%\n",
      "Rank-20 : 99.48%\n",
      "\u001b[33mValidating momentum osnet ...\u001b[0m\n",
      "Features extracted in 52.25 seconds\n",
      "Features extracted in 112.14 seconds\n",
      "Computing CMC and mAP ...\n",
      "** Results **\n",
      "mAP: 69.41%\n",
      "CMC curve\n",
      "Rank-1  : 73.33%\n",
      "Rank-5  : 93.06%\n",
      "Rank-10 : 97.14%\n",
      "Rank-20 : 99.12%\n",
      "\u001b[33mValidating online densenet121 ...\u001b[0m\n",
      "Features extracted in 53.44 seconds\n",
      "Features extracted in 111.42 seconds\n",
      "Computing CMC and mAP ...\n",
      "** Results **\n",
      "mAP: 70.12%\n",
      "CMC curve\n",
      "Rank-1  : 75.15%\n",
      "Rank-5  : 92.89%\n",
      "Rank-10 : 97.00%\n",
      "Rank-20 : 98.95%\n",
      "\u001b[33mValidating momentum densenet121 ...\u001b[0m\n",
      "Features extracted in 53.06 seconds\n",
      "Features extracted in 112.48 seconds\n",
      "Computing CMC and mAP ...\n",
      "** Results **\n",
      "mAP: 69.53%\n",
      "CMC curve\n",
      "Rank-1  : 75.91%\n",
      "Rank-5  : 93.33%\n",
      "Rank-10 : 97.31%\n",
      "Rank-20 : 99.25%\n",
      "\u001b[33mValidating ensembled with online models ...\u001b[0m\n",
      "Computing CMC and mAP ...\n",
      "** Results **\n",
      "mAP: 70.82%\n",
      "Ranks:\n",
      "Rank-1  : 78.15%\n",
      "Rank-5  : 92.64%\n",
      "Rank-10 : 96.59%\n",
      "\u001b[33mValidating ensembled with momentum models ...\u001b[0m\n",
      "Computing CMC and mAP ...\n",
      "** Results **\n",
      "mAP: 70.51%\n",
      "Ranks:\n",
      "Rank-1  : 78.02%\n",
      "Rank-5  : 92.58%\n",
      "Rank-10 : 96.55%\n",
      "###============ Iteration number 76/90 ============###\n",
      "Extracting Online Features for mobilenet ...\n",
      "Features extracted in 173.44 seconds\n",
      "Computing jaccard distance...\n"
     ]
    },
    {
     "name": "stderr",
     "output_type": "stream",
     "text": [
      "bruteForceKnn is deprecated; call bfKnn instead\n"
     ]
    },
    {
     "name": "stdout",
     "output_type": "stream",
     "text": [
      "Jaccard distance computing time cost: 82.21432971954346\n",
      "Extracting Online Features for vgg16 ...\n",
      "Features extracted in 175.82 seconds\n",
      "Computing jaccard distance...\n"
     ]
    },
    {
     "name": "stderr",
     "output_type": "stream",
     "text": [
      "bruteForceKnn is deprecated; call bfKnn instead\n"
     ]
    },
    {
     "name": "stdout",
     "output_type": "stream",
     "text": [
      "Jaccard distance computing time cost: 83.89025044441223\n",
      "Extracting Online Features for resnet50 ...\n",
      "Features extracted in 178.74 seconds\n",
      "Computing jaccard distance...\n"
     ]
    },
    {
     "name": "stderr",
     "output_type": "stream",
     "text": [
      "bruteForceKnn is deprecated; call bfKnn instead\n"
     ]
    },
    {
     "name": "stdout",
     "output_type": "stream",
     "text": [
      "Jaccard distance computing time cost: 85.44460344314575\n",
      "Extracting Online Features for osnet ...\n",
      "Features extracted in 177.94 seconds\n",
      "Computing jaccard distance...\n"
     ]
    },
    {
     "name": "stderr",
     "output_type": "stream",
     "text": [
      "bruteForceKnn is deprecated; call bfKnn instead\n"
     ]
    },
    {
     "name": "stdout",
     "output_type": "stream",
     "text": [
      "Jaccard distance computing time cost: 81.81392526626587\n",
      "Extracting Online Features for densenet121 ...\n",
      "Features extracted in 178.80 seconds\n",
      "Computing jaccard distance...\n"
     ]
    },
    {
     "name": "stderr",
     "output_type": "stream",
     "text": [
      "bruteForceKnn is deprecated; call bfKnn instead\n"
     ]
    },
    {
     "name": "stdout",
     "output_type": "stream",
     "text": [
      "Jaccard distance computing time cost: 83.48777103424072\n",
      "Reliability: 0.997\n",
      "\u001b[32mMean Purity: 0.01845\u001b[0m\n",
      "\u001b[34mThere are 2 clusters with 4 cameras\u001b[0m\n",
      "\u001b[34mThere are 4 clusters with 5 cameras\u001b[0m\n",
      "\u001b[34mThere are 2 clusters with 7 cameras\u001b[0m\n",
      "\u001b[34mThere are 1 clusters with 9 cameras\u001b[0m\n",
      "\u001b[34mThere are 1 clusters with 11 cameras\u001b[0m\n",
      "\u001b[34mThere are 1 clusters with 12 cameras\u001b[0m\n",
      "\u001b[34mThere are 1 clusters with 16 cameras\u001b[0m\n",
      "\u001b[34mThere are 1 clusters with 19 cameras\u001b[0m\n",
      "\u001b[34mThere are 2 clusters with 29 cameras\u001b[0m\n",
      "\u001b[34mThere are 1 clusters with 32 cameras\u001b[0m\n",
      "\u001b[34mThere are 1 clusters with 34 cameras\u001b[0m\n",
      "\u001b[34mThere are 1 clusters with 45 cameras\u001b[0m\n",
      "\u001b[34mThere are 1 clusters with 47 cameras\u001b[0m\n",
      "\u001b[34mThere are 1 clusters with 52 cameras\u001b[0m\n",
      "\u001b[34mThere are 1 clusters with 53 cameras\u001b[0m\n",
      "\u001b[34mThere are 1 clusters with 54 cameras\u001b[0m\n",
      "\u001b[34mThere are 2 clusters with 57 cameras\u001b[0m\n",
      "\u001b[34mThere are 1 clusters with 58 cameras\u001b[0m\n",
      "\u001b[34mThere are 3 clusters with 59 cameras\u001b[0m\n",
      "\u001b[34mThere are 3 clusters with 60 cameras\u001b[0m\n",
      "\u001b[34mThere are 8 clusters with 61 cameras\u001b[0m\n",
      "\u001b[34mThere are 10 clusters with 62 cameras\u001b[0m\n",
      "\u001b[34mThere are 25 clusters with 63 cameras\u001b[0m\n",
      "\u001b[34mThere are 494 clusters with 64 cameras\u001b[0m\n",
      "\u001b[34mThere are 1 clusters with 92 cameras\u001b[0m\n",
      "\u001b[34mThere are 1 clusters with 97 cameras\u001b[0m\n",
      "\u001b[34mThere are 1 clusters with 120 cameras\u001b[0m\n",
      "\u001b[34mThere are 1 clusters with 121 cameras\u001b[0m\n",
      "\u001b[34mThere are 1 clusters with 122 cameras\u001b[0m\n",
      "\u001b[34mThere are 1 clusters with 124 cameras\u001b[0m\n",
      "\u001b[34mThere are 1 clusters with 125 cameras\u001b[0m\n",
      "\u001b[34mThere are 1 clusters with 126 cameras\u001b[0m\n",
      "\u001b[34mThere are 6 clusters with 127 cameras\u001b[0m\n",
      "\u001b[34mThere are 10 clusters with 128 cameras\u001b[0m\n",
      "Number of classes: 592\n",
      "\u001b[36mLearning Rate: 0.000105\u001b[0m\n",
      "encontrou modelos mobilenet. Carregando...\n",
      "encontrou modelos vgg16. Carregando...\n",
      "encontrou modelos resnet50. Carregando...\n",
      "encontrou modelos osnet. Carregando...\n",
      "encontrou modelos densenet121. Carregando...\n",
      "###============ Iteration number 77/90 ============###\n",
      "Extracting Online Features for mobilenet ...\n",
      "Features extracted in 176.10 seconds\n",
      "Computing jaccard distance...\n"
     ]
    },
    {
     "name": "stderr",
     "output_type": "stream",
     "text": [
      "bruteForceKnn is deprecated; call bfKnn instead\n"
     ]
    },
    {
     "name": "stdout",
     "output_type": "stream",
     "text": [
      "Jaccard distance computing time cost: 82.06399059295654\n",
      "Extracting Online Features for vgg16 ...\n",
      "Features extracted in 179.40 seconds\n",
      "Computing jaccard distance...\n"
     ]
    },
    {
     "name": "stderr",
     "output_type": "stream",
     "text": [
      "bruteForceKnn is deprecated; call bfKnn instead\n"
     ]
    },
    {
     "name": "stdout",
     "output_type": "stream",
     "text": [
      "Jaccard distance computing time cost: 84.568843126297\n",
      "Extracting Online Features for resnet50 ...\n",
      "Features extracted in 178.06 seconds\n",
      "Computing jaccard distance...\n"
     ]
    },
    {
     "name": "stderr",
     "output_type": "stream",
     "text": [
      "bruteForceKnn is deprecated; call bfKnn instead\n"
     ]
    },
    {
     "name": "stdout",
     "output_type": "stream",
     "text": [
      "Jaccard distance computing time cost: 84.20152235031128\n",
      "Extracting Online Features for osnet ...\n",
      "Features extracted in 176.99 seconds\n",
      "Computing jaccard distance...\n"
     ]
    },
    {
     "name": "stderr",
     "output_type": "stream",
     "text": [
      "bruteForceKnn is deprecated; call bfKnn instead\n"
     ]
    },
    {
     "name": "stdout",
     "output_type": "stream",
     "text": [
      "Jaccard distance computing time cost: 69.10417294502258\n",
      "Extracting Online Features for densenet121 ...\n",
      "Features extracted in 173.94 seconds\n",
      "Computing jaccard distance...\n"
     ]
    },
    {
     "name": "stderr",
     "output_type": "stream",
     "text": [
      "bruteForceKnn is deprecated; call bfKnn instead\n"
     ]
    },
    {
     "name": "stdout",
     "output_type": "stream",
     "text": [
      "Jaccard distance computing time cost: 83.2847912311554\n",
      "Reliability: 0.997\n",
      "\u001b[32mMean Purity: 0.01845\u001b[0m\n",
      "\u001b[34mThere are 2 clusters with 4 cameras\u001b[0m\n",
      "\u001b[34mThere are 4 clusters with 5 cameras\u001b[0m\n",
      "\u001b[34mThere are 2 clusters with 7 cameras\u001b[0m\n",
      "\u001b[34mThere are 1 clusters with 9 cameras\u001b[0m\n",
      "\u001b[34mThere are 1 clusters with 11 cameras\u001b[0m\n",
      "\u001b[34mThere are 1 clusters with 12 cameras\u001b[0m\n",
      "\u001b[34mThere are 1 clusters with 16 cameras\u001b[0m\n",
      "\u001b[34mThere are 1 clusters with 19 cameras\u001b[0m\n",
      "\u001b[34mThere are 2 clusters with 29 cameras\u001b[0m\n",
      "\u001b[34mThere are 1 clusters with 32 cameras\u001b[0m\n",
      "\u001b[34mThere are 1 clusters with 34 cameras\u001b[0m\n",
      "\u001b[34mThere are 1 clusters with 45 cameras\u001b[0m\n",
      "\u001b[34mThere are 1 clusters with 47 cameras\u001b[0m\n",
      "\u001b[34mThere are 1 clusters with 52 cameras\u001b[0m\n",
      "\u001b[34mThere are 1 clusters with 53 cameras\u001b[0m\n",
      "\u001b[34mThere are 1 clusters with 54 cameras\u001b[0m\n",
      "\u001b[34mThere are 2 clusters with 57 cameras\u001b[0m\n",
      "\u001b[34mThere are 1 clusters with 58 cameras\u001b[0m\n",
      "\u001b[34mThere are 3 clusters with 59 cameras\u001b[0m\n",
      "\u001b[34mThere are 3 clusters with 60 cameras\u001b[0m\n",
      "\u001b[34mThere are 8 clusters with 61 cameras\u001b[0m\n",
      "\u001b[34mThere are 10 clusters with 62 cameras\u001b[0m\n",
      "\u001b[34mThere are 25 clusters with 63 cameras\u001b[0m\n",
      "\u001b[34mThere are 494 clusters with 64 cameras\u001b[0m\n",
      "\u001b[34mThere are 1 clusters with 92 cameras\u001b[0m\n",
      "\u001b[34mThere are 1 clusters with 97 cameras\u001b[0m\n",
      "\u001b[34mThere are 1 clusters with 120 cameras\u001b[0m\n",
      "\u001b[34mThere are 1 clusters with 121 cameras\u001b[0m\n",
      "\u001b[34mThere are 1 clusters with 122 cameras\u001b[0m\n",
      "\u001b[34mThere are 1 clusters with 124 cameras\u001b[0m\n",
      "\u001b[34mThere are 1 clusters with 125 cameras\u001b[0m\n",
      "\u001b[34mThere are 1 clusters with 126 cameras\u001b[0m\n",
      "\u001b[34mThere are 6 clusters with 127 cameras\u001b[0m\n",
      "\u001b[34mThere are 10 clusters with 128 cameras\u001b[0m\n",
      "Number of classes: 592\n",
      "\u001b[36mLearning Rate: 0.000122\u001b[0m\n",
      "encontrou modelos mobilenet. Carregando...\n",
      "encontrou modelos vgg16. Carregando...\n",
      "encontrou modelos resnet50. Carregando...\n",
      "encontrou modelos osnet. Carregando...\n",
      "encontrou modelos densenet121. Carregando...\n",
      "###============ Iteration number 78/90 ============###\n",
      "Extracting Online Features for mobilenet ...\n",
      "Features extracted in 173.94 seconds\n",
      "Computing jaccard distance...\n"
     ]
    },
    {
     "name": "stderr",
     "output_type": "stream",
     "text": [
      "bruteForceKnn is deprecated; call bfKnn instead\n"
     ]
    },
    {
     "name": "stdout",
     "output_type": "stream",
     "text": [
      "Jaccard distance computing time cost: 83.98631834983826\n",
      "Extracting Online Features for vgg16 ...\n",
      "Features extracted in 180.15 seconds\n",
      "Computing jaccard distance...\n"
     ]
    },
    {
     "name": "stderr",
     "output_type": "stream",
     "text": [
      "bruteForceKnn is deprecated; call bfKnn instead\n"
     ]
    },
    {
     "name": "stdout",
     "output_type": "stream",
     "text": [
      "Jaccard distance computing time cost: 80.48980784416199\n",
      "Extracting Online Features for resnet50 ...\n",
      "Features extracted in 173.53 seconds\n",
      "Computing jaccard distance...\n"
     ]
    },
    {
     "name": "stderr",
     "output_type": "stream",
     "text": [
      "bruteForceKnn is deprecated; call bfKnn instead\n"
     ]
    },
    {
     "name": "stdout",
     "output_type": "stream",
     "text": [
      "Jaccard distance computing time cost: 82.27160835266113\n",
      "Extracting Online Features for osnet ...\n",
      "Features extracted in 173.99 seconds\n",
      "Computing jaccard distance...\n"
     ]
    },
    {
     "name": "stderr",
     "output_type": "stream",
     "text": [
      "bruteForceKnn is deprecated; call bfKnn instead\n"
     ]
    },
    {
     "name": "stdout",
     "output_type": "stream",
     "text": [
      "Jaccard distance computing time cost: 81.83400964736938\n",
      "Extracting Online Features for densenet121 ...\n",
      "Features extracted in 176.75 seconds\n",
      "Computing jaccard distance...\n"
     ]
    },
    {
     "name": "stderr",
     "output_type": "stream",
     "text": [
      "bruteForceKnn is deprecated; call bfKnn instead\n"
     ]
    },
    {
     "name": "stdout",
     "output_type": "stream",
     "text": [
      "Jaccard distance computing time cost: 86.09635138511658\n",
      "Reliability: 0.997\n",
      "\u001b[32mMean Purity: 0.01845\u001b[0m\n",
      "\u001b[34mThere are 2 clusters with 4 cameras\u001b[0m\n",
      "\u001b[34mThere are 4 clusters with 5 cameras\u001b[0m\n",
      "\u001b[34mThere are 2 clusters with 7 cameras\u001b[0m\n",
      "\u001b[34mThere are 1 clusters with 9 cameras\u001b[0m\n",
      "\u001b[34mThere are 1 clusters with 11 cameras\u001b[0m\n",
      "\u001b[34mThere are 1 clusters with 12 cameras\u001b[0m\n",
      "\u001b[34mThere are 1 clusters with 16 cameras\u001b[0m\n",
      "\u001b[34mThere are 1 clusters with 19 cameras\u001b[0m\n",
      "\u001b[34mThere are 2 clusters with 29 cameras\u001b[0m\n",
      "\u001b[34mThere are 1 clusters with 32 cameras\u001b[0m\n",
      "\u001b[34mThere are 1 clusters with 34 cameras\u001b[0m\n",
      "\u001b[34mThere are 1 clusters with 45 cameras\u001b[0m\n",
      "\u001b[34mThere are 1 clusters with 47 cameras\u001b[0m\n",
      "\u001b[34mThere are 1 clusters with 52 cameras\u001b[0m\n",
      "\u001b[34mThere are 1 clusters with 53 cameras\u001b[0m\n",
      "\u001b[34mThere are 1 clusters with 54 cameras\u001b[0m\n",
      "\u001b[34mThere are 2 clusters with 57 cameras\u001b[0m\n",
      "\u001b[34mThere are 1 clusters with 58 cameras\u001b[0m\n",
      "\u001b[34mThere are 3 clusters with 59 cameras\u001b[0m\n",
      "\u001b[34mThere are 3 clusters with 60 cameras\u001b[0m\n",
      "\u001b[34mThere are 8 clusters with 61 cameras\u001b[0m\n",
      "\u001b[34mThere are 10 clusters with 62 cameras\u001b[0m\n",
      "\u001b[34mThere are 25 clusters with 63 cameras\u001b[0m\n",
      "\u001b[34mThere are 494 clusters with 64 cameras\u001b[0m\n",
      "\u001b[34mThere are 1 clusters with 92 cameras\u001b[0m\n",
      "\u001b[34mThere are 1 clusters with 97 cameras\u001b[0m\n",
      "\u001b[34mThere are 1 clusters with 120 cameras\u001b[0m\n",
      "\u001b[34mThere are 1 clusters with 121 cameras\u001b[0m\n",
      "\u001b[34mThere are 1 clusters with 122 cameras\u001b[0m\n",
      "\u001b[34mThere are 1 clusters with 124 cameras\u001b[0m\n",
      "\u001b[34mThere are 1 clusters with 125 cameras\u001b[0m\n",
      "\u001b[34mThere are 1 clusters with 126 cameras\u001b[0m\n",
      "\u001b[34mThere are 6 clusters with 127 cameras\u001b[0m\n",
      "\u001b[34mThere are 10 clusters with 128 cameras\u001b[0m\n",
      "Number of classes: 592\n",
      "\u001b[36mLearning Rate: 0.000140\u001b[0m\n",
      "encontrou modelos mobilenet. Carregando...\n",
      "encontrou modelos vgg16. Carregando...\n",
      "encontrou modelos resnet50. Carregando...\n",
      "encontrou modelos osnet. Carregando...\n",
      "encontrou modelos densenet121. Carregando...\n",
      "###============ Iteration number 79/90 ============###\n",
      "Extracting Online Features for mobilenet ...\n",
      "Features extracted in 178.15 seconds\n",
      "Computing jaccard distance...\n"
     ]
    },
    {
     "name": "stderr",
     "output_type": "stream",
     "text": [
      "bruteForceKnn is deprecated; call bfKnn instead\n"
     ]
    },
    {
     "name": "stdout",
     "output_type": "stream",
     "text": [
      "Jaccard distance computing time cost: 82.06366610527039\n",
      "Extracting Online Features for vgg16 ...\n",
      "Features extracted in 176.41 seconds\n",
      "Computing jaccard distance...\n"
     ]
    },
    {
     "name": "stderr",
     "output_type": "stream",
     "text": [
      "bruteForceKnn is deprecated; call bfKnn instead\n"
     ]
    },
    {
     "name": "stdout",
     "output_type": "stream",
     "text": [
      "Jaccard distance computing time cost: 82.86638617515564\n",
      "Extracting Online Features for resnet50 ...\n",
      "Features extracted in 178.05 seconds\n",
      "Computing jaccard distance...\n"
     ]
    },
    {
     "name": "stderr",
     "output_type": "stream",
     "text": [
      "bruteForceKnn is deprecated; call bfKnn instead\n"
     ]
    },
    {
     "name": "stdout",
     "output_type": "stream",
     "text": [
      "Jaccard distance computing time cost: 85.67319917678833\n",
      "Extracting Online Features for osnet ...\n",
      "Features extracted in 172.67 seconds\n",
      "Computing jaccard distance...\n"
     ]
    },
    {
     "name": "stderr",
     "output_type": "stream",
     "text": [
      "bruteForceKnn is deprecated; call bfKnn instead\n"
     ]
    },
    {
     "name": "stdout",
     "output_type": "stream",
     "text": [
      "Jaccard distance computing time cost: 79.07105159759521\n",
      "Extracting Online Features for densenet121 ...\n",
      "Features extracted in 175.28 seconds\n",
      "Computing jaccard distance...\n"
     ]
    },
    {
     "name": "stderr",
     "output_type": "stream",
     "text": [
      "bruteForceKnn is deprecated; call bfKnn instead\n"
     ]
    },
    {
     "name": "stdout",
     "output_type": "stream",
     "text": [
      "Jaccard distance computing time cost: 84.15491724014282\n",
      "Reliability: 0.997\n",
      "\u001b[32mMean Purity: 0.01845\u001b[0m\n",
      "\u001b[34mThere are 2 clusters with 4 cameras\u001b[0m\n",
      "\u001b[34mThere are 4 clusters with 5 cameras\u001b[0m\n",
      "\u001b[34mThere are 2 clusters with 7 cameras\u001b[0m\n",
      "\u001b[34mThere are 1 clusters with 9 cameras\u001b[0m\n",
      "\u001b[34mThere are 1 clusters with 11 cameras\u001b[0m\n",
      "\u001b[34mThere are 1 clusters with 12 cameras\u001b[0m\n",
      "\u001b[34mThere are 1 clusters with 16 cameras\u001b[0m\n",
      "\u001b[34mThere are 1 clusters with 19 cameras\u001b[0m\n",
      "\u001b[34mThere are 2 clusters with 29 cameras\u001b[0m\n",
      "\u001b[34mThere are 1 clusters with 32 cameras\u001b[0m\n",
      "\u001b[34mThere are 1 clusters with 34 cameras\u001b[0m\n",
      "\u001b[34mThere are 1 clusters with 45 cameras\u001b[0m\n",
      "\u001b[34mThere are 1 clusters with 47 cameras\u001b[0m\n",
      "\u001b[34mThere are 1 clusters with 52 cameras\u001b[0m\n",
      "\u001b[34mThere are 1 clusters with 53 cameras\u001b[0m\n",
      "\u001b[34mThere are 1 clusters with 54 cameras\u001b[0m\n",
      "\u001b[34mThere are 2 clusters with 57 cameras\u001b[0m\n",
      "\u001b[34mThere are 1 clusters with 58 cameras\u001b[0m\n",
      "\u001b[34mThere are 3 clusters with 59 cameras\u001b[0m\n",
      "\u001b[34mThere are 3 clusters with 60 cameras\u001b[0m\n",
      "\u001b[34mThere are 8 clusters with 61 cameras\u001b[0m\n",
      "\u001b[34mThere are 10 clusters with 62 cameras\u001b[0m\n",
      "\u001b[34mThere are 25 clusters with 63 cameras\u001b[0m\n",
      "\u001b[34mThere are 494 clusters with 64 cameras\u001b[0m\n",
      "\u001b[34mThere are 1 clusters with 92 cameras\u001b[0m\n",
      "\u001b[34mThere are 1 clusters with 97 cameras\u001b[0m\n",
      "\u001b[34mThere are 1 clusters with 120 cameras\u001b[0m\n",
      "\u001b[34mThere are 1 clusters with 121 cameras\u001b[0m\n",
      "\u001b[34mThere are 1 clusters with 122 cameras\u001b[0m\n",
      "\u001b[34mThere are 1 clusters with 124 cameras\u001b[0m\n",
      "\u001b[34mThere are 1 clusters with 125 cameras\u001b[0m\n",
      "\u001b[34mThere are 1 clusters with 126 cameras\u001b[0m\n",
      "\u001b[34mThere are 6 clusters with 127 cameras\u001b[0m\n",
      "\u001b[34mThere are 10 clusters with 128 cameras\u001b[0m\n",
      "Number of classes: 592\n",
      "\u001b[36mLearning Rate: 0.000158\u001b[0m\n",
      "encontrou modelos mobilenet. Carregando...\n",
      "encontrou modelos vgg16. Carregando...\n",
      "encontrou modelos resnet50. Carregando...\n",
      "encontrou modelos osnet. Carregando...\n",
      "encontrou modelos densenet121. Carregando...\n",
      "###============ Iteration number 80/90 ============###\n",
      "Extracting Online Features for mobilenet ...\n",
      "Features extracted in 176.50 seconds\n",
      "Computing jaccard distance...\n"
     ]
    },
    {
     "name": "stderr",
     "output_type": "stream",
     "text": [
      "bruteForceKnn is deprecated; call bfKnn instead\n"
     ]
    },
    {
     "name": "stdout",
     "output_type": "stream",
     "text": [
      "Jaccard distance computing time cost: 81.93586802482605\n",
      "Extracting Online Features for vgg16 ...\n",
      "Features extracted in 178.39 seconds\n",
      "Computing jaccard distance...\n"
     ]
    },
    {
     "name": "stderr",
     "output_type": "stream",
     "text": [
      "bruteForceKnn is deprecated; call bfKnn instead\n"
     ]
    },
    {
     "name": "stdout",
     "output_type": "stream",
     "text": [
      "Jaccard distance computing time cost: 82.02559995651245\n",
      "Extracting Online Features for resnet50 ...\n",
      "Features extracted in 174.41 seconds\n",
      "Computing jaccard distance...\n"
     ]
    },
    {
     "name": "stderr",
     "output_type": "stream",
     "text": [
      "bruteForceKnn is deprecated; call bfKnn instead\n"
     ]
    },
    {
     "name": "stdout",
     "output_type": "stream",
     "text": [
      "Jaccard distance computing time cost: 83.5711920261383\n",
      "Extracting Online Features for osnet ...\n",
      "Features extracted in 175.37 seconds\n",
      "Computing jaccard distance...\n"
     ]
    },
    {
     "name": "stderr",
     "output_type": "stream",
     "text": [
      "bruteForceKnn is deprecated; call bfKnn instead\n"
     ]
    },
    {
     "name": "stdout",
     "output_type": "stream",
     "text": [
      "Jaccard distance computing time cost: 79.82347202301025\n",
      "Extracting Online Features for densenet121 ...\n",
      "Features extracted in 174.01 seconds\n",
      "Computing jaccard distance...\n"
     ]
    },
    {
     "name": "stderr",
     "output_type": "stream",
     "text": [
      "bruteForceKnn is deprecated; call bfKnn instead\n"
     ]
    },
    {
     "name": "stdout",
     "output_type": "stream",
     "text": [
      "Jaccard distance computing time cost: 85.21962666511536\n",
      "Reliability: 0.997\n",
      "\u001b[32mMean Purity: 0.01845\u001b[0m\n",
      "\u001b[34mThere are 2 clusters with 4 cameras\u001b[0m\n",
      "\u001b[34mThere are 4 clusters with 5 cameras\u001b[0m\n",
      "\u001b[34mThere are 2 clusters with 7 cameras\u001b[0m\n",
      "\u001b[34mThere are 1 clusters with 9 cameras\u001b[0m\n",
      "\u001b[34mThere are 1 clusters with 11 cameras\u001b[0m\n",
      "\u001b[34mThere are 1 clusters with 12 cameras\u001b[0m\n",
      "\u001b[34mThere are 1 clusters with 16 cameras\u001b[0m\n",
      "\u001b[34mThere are 1 clusters with 19 cameras\u001b[0m\n",
      "\u001b[34mThere are 2 clusters with 29 cameras\u001b[0m\n",
      "\u001b[34mThere are 1 clusters with 32 cameras\u001b[0m\n",
      "\u001b[34mThere are 1 clusters with 34 cameras\u001b[0m\n",
      "\u001b[34mThere are 1 clusters with 45 cameras\u001b[0m\n",
      "\u001b[34mThere are 1 clusters with 47 cameras\u001b[0m\n",
      "\u001b[34mThere are 1 clusters with 52 cameras\u001b[0m\n",
      "\u001b[34mThere are 1 clusters with 53 cameras\u001b[0m\n",
      "\u001b[34mThere are 1 clusters with 54 cameras\u001b[0m\n",
      "\u001b[34mThere are 2 clusters with 57 cameras\u001b[0m\n",
      "\u001b[34mThere are 1 clusters with 58 cameras\u001b[0m\n",
      "\u001b[34mThere are 3 clusters with 59 cameras\u001b[0m\n",
      "\u001b[34mThere are 3 clusters with 60 cameras\u001b[0m\n",
      "\u001b[34mThere are 8 clusters with 61 cameras\u001b[0m\n",
      "\u001b[34mThere are 10 clusters with 62 cameras\u001b[0m\n",
      "\u001b[34mThere are 25 clusters with 63 cameras\u001b[0m\n",
      "\u001b[34mThere are 494 clusters with 64 cameras\u001b[0m\n",
      "\u001b[34mThere are 1 clusters with 92 cameras\u001b[0m\n",
      "\u001b[34mThere are 1 clusters with 97 cameras\u001b[0m\n",
      "\u001b[34mThere are 1 clusters with 120 cameras\u001b[0m\n",
      "\u001b[34mThere are 1 clusters with 121 cameras\u001b[0m\n",
      "\u001b[34mThere are 1 clusters with 122 cameras\u001b[0m\n",
      "\u001b[34mThere are 1 clusters with 124 cameras\u001b[0m\n",
      "\u001b[34mThere are 1 clusters with 125 cameras\u001b[0m\n",
      "\u001b[34mThere are 1 clusters with 126 cameras\u001b[0m\n",
      "\u001b[34mThere are 6 clusters with 127 cameras\u001b[0m\n",
      "\u001b[34mThere are 10 clusters with 128 cameras\u001b[0m\n",
      "Number of classes: 592\n",
      "\u001b[36mLearning Rate: 0.000175\u001b[0m\n",
      "encontrou modelos mobilenet. Carregando...\n",
      "encontrou modelos vgg16. Carregando...\n",
      "encontrou modelos resnet50. Carregando...\n",
      "encontrou modelos osnet. Carregando...\n",
      "encontrou modelos densenet121. Carregando...\n",
      "\u001b[33mValidating online mobilenet ...\u001b[0m\n",
      "Features extracted in 51.55 seconds\n",
      "Features extracted in 110.32 seconds\n",
      "Computing CMC and mAP ...\n",
      "** Results **\n",
      "mAP: 71.39%\n",
      "CMC curve\n",
      "Rank-1  : 81.53%\n",
      "Rank-5  : 95.41%\n",
      "Rank-10 : 98.02%\n",
      "Rank-20 : 99.18%\n",
      "\u001b[33mValidating momentum mobilenet ...\u001b[0m\n",
      "Features extracted in 51.19 seconds\n",
      "Features extracted in 110.07 seconds\n",
      "Computing CMC and mAP ...\n",
      "** Results **\n",
      "mAP: 70.86%\n",
      "CMC curve\n",
      "Rank-1  : 78.95%\n",
      "Rank-5  : 93.89%\n",
      "Rank-10 : 97.47%\n",
      "Rank-20 : 99.27%\n",
      "\u001b[33mValidating online vgg16 ...\u001b[0m\n",
      "Features extracted in 52.70 seconds\n",
      "Features extracted in 112.96 seconds\n",
      "Computing CMC and mAP ...\n",
      "** Results **\n",
      "mAP: 69.67%\n",
      "CMC curve\n",
      "Rank-1  : 74.49%\n",
      "Rank-5  : 92.27%\n",
      "Rank-10 : 96.56%\n",
      "Rank-20 : 99.05%\n",
      "\u001b[33mValidating momentum vgg16 ...\u001b[0m\n",
      "Features extracted in 52.38 seconds\n",
      "Features extracted in 113.20 seconds\n",
      "Computing CMC and mAP ...\n",
      "** Results **\n",
      "mAP: 69.72%\n",
      "CMC curve\n",
      "Rank-1  : 75.80%\n",
      "Rank-5  : 92.91%\n",
      "Rank-10 : 97.25%\n",
      "Rank-20 : 99.09%\n",
      "\u001b[33mValidating online resnet50 ...\u001b[0m\n",
      "Features extracted in 52.32 seconds\n",
      "Features extracted in 111.17 seconds\n",
      "Computing CMC and mAP ...\n",
      "** Results **\n",
      "mAP: 69.64%\n",
      "CMC curve\n",
      "Rank-1  : 70.07%\n",
      "Rank-5  : 91.28%\n",
      "Rank-10 : 96.04%\n",
      "Rank-20 : 98.68%\n",
      "\u001b[33mValidating momentum resnet50 ...\u001b[0m\n",
      "Features extracted in 52.49 seconds\n",
      "Features extracted in 111.03 seconds\n",
      "Computing CMC and mAP ...\n",
      "** Results **\n",
      "mAP: 70.02%\n",
      "CMC curve\n",
      "Rank-1  : 73.39%\n",
      "Rank-5  : 93.49%\n",
      "Rank-10 : 97.50%\n",
      "Rank-20 : 99.37%\n",
      "\u001b[33mValidating online osnet ...\u001b[0m\n",
      "Features extracted in 52.67 seconds\n",
      "Features extracted in 110.88 seconds\n",
      "Computing CMC and mAP ...\n",
      "** Results **\n",
      "mAP: 68.61%\n",
      "CMC curve\n",
      "Rank-1  : 73.02%\n",
      "Rank-5  : 95.04%\n",
      "Rank-10 : 98.36%\n",
      "Rank-20 : 99.48%\n",
      "\u001b[33mValidating momentum osnet ...\u001b[0m\n",
      "Features extracted in 52.54 seconds\n",
      "Features extracted in 111.94 seconds\n",
      "Computing CMC and mAP ...\n",
      "** Results **\n",
      "mAP: 69.41%\n",
      "CMC curve\n",
      "Rank-1  : 73.33%\n",
      "Rank-5  : 93.06%\n",
      "Rank-10 : 97.14%\n",
      "Rank-20 : 99.12%\n",
      "\u001b[33mValidating online densenet121 ...\u001b[0m\n",
      "Features extracted in 53.04 seconds\n",
      "Features extracted in 111.87 seconds\n",
      "Computing CMC and mAP ...\n",
      "** Results **\n",
      "mAP: 70.12%\n",
      "CMC curve\n",
      "Rank-1  : 75.15%\n",
      "Rank-5  : 92.89%\n",
      "Rank-10 : 97.00%\n",
      "Rank-20 : 98.95%\n",
      "\u001b[33mValidating momentum densenet121 ...\u001b[0m\n",
      "Features extracted in 52.44 seconds\n",
      "Features extracted in 112.16 seconds\n",
      "Computing CMC and mAP ...\n",
      "** Results **\n",
      "mAP: 69.53%\n",
      "CMC curve\n",
      "Rank-1  : 75.91%\n",
      "Rank-5  : 93.33%\n",
      "Rank-10 : 97.31%\n",
      "Rank-20 : 99.25%\n",
      "\u001b[33mValidating ensembled with online models ...\u001b[0m\n",
      "Computing CMC and mAP ...\n",
      "** Results **\n",
      "mAP: 70.82%\n",
      "Ranks:\n",
      "Rank-1  : 78.15%\n",
      "Rank-5  : 92.64%\n",
      "Rank-10 : 96.59%\n",
      "\u001b[33mValidating ensembled with momentum models ...\u001b[0m\n",
      "Computing CMC and mAP ...\n",
      "** Results **\n",
      "mAP: 70.51%\n",
      "Ranks:\n",
      "Rank-1  : 78.02%\n",
      "Rank-5  : 92.58%\n",
      "Rank-10 : 96.55%\n",
      "###============ Iteration number 81/90 ============###\n",
      "Extracting Online Features for mobilenet ...\n",
      "Features extracted in 173.07 seconds\n",
      "Computing jaccard distance...\n"
     ]
    },
    {
     "name": "stderr",
     "output_type": "stream",
     "text": [
      "bruteForceKnn is deprecated; call bfKnn instead\n"
     ]
    },
    {
     "name": "stdout",
     "output_type": "stream",
     "text": [
      "Jaccard distance computing time cost: 82.70283555984497\n",
      "Extracting Online Features for vgg16 ...\n",
      "Features extracted in 179.40 seconds\n",
      "Computing jaccard distance...\n"
     ]
    },
    {
     "name": "stderr",
     "output_type": "stream",
     "text": [
      "bruteForceKnn is deprecated; call bfKnn instead\n"
     ]
    },
    {
     "name": "stdout",
     "output_type": "stream",
     "text": [
      "Jaccard distance computing time cost: 83.09322428703308\n",
      "Extracting Online Features for resnet50 ...\n",
      "Features extracted in 177.46 seconds\n",
      "Computing jaccard distance...\n"
     ]
    },
    {
     "name": "stderr",
     "output_type": "stream",
     "text": [
      "bruteForceKnn is deprecated; call bfKnn instead\n"
     ]
    },
    {
     "name": "stdout",
     "output_type": "stream",
     "text": [
      "Jaccard distance computing time cost: 84.34901475906372\n",
      "Extracting Online Features for osnet ...\n",
      "Features extracted in 177.61 seconds\n",
      "Computing jaccard distance...\n"
     ]
    },
    {
     "name": "stderr",
     "output_type": "stream",
     "text": [
      "bruteForceKnn is deprecated; call bfKnn instead\n"
     ]
    },
    {
     "name": "stdout",
     "output_type": "stream",
     "text": [
      "Jaccard distance computing time cost: 81.80220127105713\n",
      "Extracting Online Features for densenet121 ...\n",
      "Features extracted in 175.03 seconds\n",
      "Computing jaccard distance...\n"
     ]
    },
    {
     "name": "stderr",
     "output_type": "stream",
     "text": [
      "bruteForceKnn is deprecated; call bfKnn instead\n"
     ]
    },
    {
     "name": "stdout",
     "output_type": "stream",
     "text": [
      "Jaccard distance computing time cost: 83.91508650779724\n",
      "Reliability: 0.997\n",
      "\u001b[32mMean Purity: 0.01845\u001b[0m\n",
      "\u001b[34mThere are 2 clusters with 4 cameras\u001b[0m\n",
      "\u001b[34mThere are 4 clusters with 5 cameras\u001b[0m\n",
      "\u001b[34mThere are 2 clusters with 7 cameras\u001b[0m\n",
      "\u001b[34mThere are 1 clusters with 9 cameras\u001b[0m\n",
      "\u001b[34mThere are 1 clusters with 11 cameras\u001b[0m\n",
      "\u001b[34mThere are 1 clusters with 12 cameras\u001b[0m\n",
      "\u001b[34mThere are 1 clusters with 16 cameras\u001b[0m\n",
      "\u001b[34mThere are 1 clusters with 19 cameras\u001b[0m\n",
      "\u001b[34mThere are 2 clusters with 29 cameras\u001b[0m\n",
      "\u001b[34mThere are 1 clusters with 32 cameras\u001b[0m\n",
      "\u001b[34mThere are 1 clusters with 34 cameras\u001b[0m\n",
      "\u001b[34mThere are 1 clusters with 45 cameras\u001b[0m\n",
      "\u001b[34mThere are 1 clusters with 47 cameras\u001b[0m\n",
      "\u001b[34mThere are 1 clusters with 52 cameras\u001b[0m\n",
      "\u001b[34mThere are 1 clusters with 53 cameras\u001b[0m\n",
      "\u001b[34mThere are 1 clusters with 54 cameras\u001b[0m\n",
      "\u001b[34mThere are 2 clusters with 57 cameras\u001b[0m\n",
      "\u001b[34mThere are 1 clusters with 58 cameras\u001b[0m\n",
      "\u001b[34mThere are 3 clusters with 59 cameras\u001b[0m\n",
      "\u001b[34mThere are 3 clusters with 60 cameras\u001b[0m\n",
      "\u001b[34mThere are 8 clusters with 61 cameras\u001b[0m\n",
      "\u001b[34mThere are 10 clusters with 62 cameras\u001b[0m\n",
      "\u001b[34mThere are 25 clusters with 63 cameras\u001b[0m\n",
      "\u001b[34mThere are 494 clusters with 64 cameras\u001b[0m\n",
      "\u001b[34mThere are 1 clusters with 92 cameras\u001b[0m\n",
      "\u001b[34mThere are 1 clusters with 97 cameras\u001b[0m\n",
      "\u001b[34mThere are 1 clusters with 120 cameras\u001b[0m\n",
      "\u001b[34mThere are 1 clusters with 121 cameras\u001b[0m\n",
      "\u001b[34mThere are 1 clusters with 122 cameras\u001b[0m\n",
      "\u001b[34mThere are 1 clusters with 124 cameras\u001b[0m\n",
      "\u001b[34mThere are 1 clusters with 125 cameras\u001b[0m\n",
      "\u001b[34mThere are 1 clusters with 126 cameras\u001b[0m\n",
      "\u001b[34mThere are 6 clusters with 127 cameras\u001b[0m\n",
      "\u001b[34mThere are 10 clusters with 128 cameras\u001b[0m\n",
      "Number of classes: 592\n",
      "\u001b[36mLearning Rate: 0.000193\u001b[0m\n",
      "encontrou modelos mobilenet. Carregando...\n",
      "encontrou modelos vgg16. Carregando...\n",
      "encontrou modelos resnet50. Carregando...\n",
      "encontrou modelos osnet. Carregando...\n",
      "encontrou modelos densenet121. Carregando...\n",
      "###============ Iteration number 82/90 ============###\n",
      "Extracting Online Features for mobilenet ...\n",
      "Features extracted in 174.54 seconds\n",
      "Computing jaccard distance...\n"
     ]
    },
    {
     "name": "stderr",
     "output_type": "stream",
     "text": [
      "bruteForceKnn is deprecated; call bfKnn instead\n"
     ]
    },
    {
     "name": "stdout",
     "output_type": "stream",
     "text": [
      "Jaccard distance computing time cost: 82.28478598594666\n",
      "Extracting Online Features for vgg16 ...\n",
      "Features extracted in 177.19 seconds\n",
      "Computing jaccard distance...\n"
     ]
    },
    {
     "name": "stderr",
     "output_type": "stream",
     "text": [
      "bruteForceKnn is deprecated; call bfKnn instead\n"
     ]
    },
    {
     "name": "stdout",
     "output_type": "stream",
     "text": [
      "Jaccard distance computing time cost: 83.87775754928589\n",
      "Extracting Online Features for resnet50 ...\n",
      "Features extracted in 173.97 seconds\n",
      "Computing jaccard distance...\n"
     ]
    },
    {
     "name": "stderr",
     "output_type": "stream",
     "text": [
      "bruteForceKnn is deprecated; call bfKnn instead\n"
     ]
    },
    {
     "name": "stdout",
     "output_type": "stream",
     "text": [
      "Jaccard distance computing time cost: 82.66764807701111\n",
      "Extracting Online Features for osnet ...\n",
      "Features extracted in 177.33 seconds\n",
      "Computing jaccard distance...\n"
     ]
    },
    {
     "name": "stderr",
     "output_type": "stream",
     "text": [
      "bruteForceKnn is deprecated; call bfKnn instead\n"
     ]
    },
    {
     "name": "stdout",
     "output_type": "stream",
     "text": [
      "Jaccard distance computing time cost: 79.66513180732727\n",
      "Extracting Online Features for densenet121 ...\n",
      "Features extracted in 172.41 seconds\n",
      "Computing jaccard distance...\n"
     ]
    },
    {
     "name": "stderr",
     "output_type": "stream",
     "text": [
      "bruteForceKnn is deprecated; call bfKnn instead\n"
     ]
    },
    {
     "name": "stdout",
     "output_type": "stream",
     "text": [
      "Jaccard distance computing time cost: 83.65840268135071\n",
      "Reliability: 0.997\n",
      "\u001b[32mMean Purity: 0.01845\u001b[0m\n",
      "\u001b[34mThere are 2 clusters with 4 cameras\u001b[0m\n",
      "\u001b[34mThere are 4 clusters with 5 cameras\u001b[0m\n",
      "\u001b[34mThere are 2 clusters with 7 cameras\u001b[0m\n",
      "\u001b[34mThere are 1 clusters with 9 cameras\u001b[0m\n",
      "\u001b[34mThere are 1 clusters with 11 cameras\u001b[0m\n",
      "\u001b[34mThere are 1 clusters with 12 cameras\u001b[0m\n",
      "\u001b[34mThere are 1 clusters with 16 cameras\u001b[0m\n",
      "\u001b[34mThere are 1 clusters with 19 cameras\u001b[0m\n",
      "\u001b[34mThere are 2 clusters with 29 cameras\u001b[0m\n",
      "\u001b[34mThere are 1 clusters with 32 cameras\u001b[0m\n",
      "\u001b[34mThere are 1 clusters with 34 cameras\u001b[0m\n",
      "\u001b[34mThere are 1 clusters with 45 cameras\u001b[0m\n",
      "\u001b[34mThere are 1 clusters with 47 cameras\u001b[0m\n",
      "\u001b[34mThere are 1 clusters with 52 cameras\u001b[0m\n",
      "\u001b[34mThere are 1 clusters with 53 cameras\u001b[0m\n",
      "\u001b[34mThere are 1 clusters with 54 cameras\u001b[0m\n",
      "\u001b[34mThere are 2 clusters with 57 cameras\u001b[0m\n",
      "\u001b[34mThere are 1 clusters with 58 cameras\u001b[0m\n",
      "\u001b[34mThere are 3 clusters with 59 cameras\u001b[0m\n",
      "\u001b[34mThere are 3 clusters with 60 cameras\u001b[0m\n",
      "\u001b[34mThere are 8 clusters with 61 cameras\u001b[0m\n",
      "\u001b[34mThere are 10 clusters with 62 cameras\u001b[0m\n",
      "\u001b[34mThere are 25 clusters with 63 cameras\u001b[0m\n",
      "\u001b[34mThere are 494 clusters with 64 cameras\u001b[0m\n",
      "\u001b[34mThere are 1 clusters with 92 cameras\u001b[0m\n",
      "\u001b[34mThere are 1 clusters with 97 cameras\u001b[0m\n",
      "\u001b[34mThere are 1 clusters with 120 cameras\u001b[0m\n",
      "\u001b[34mThere are 1 clusters with 121 cameras\u001b[0m\n",
      "\u001b[34mThere are 1 clusters with 122 cameras\u001b[0m\n",
      "\u001b[34mThere are 1 clusters with 124 cameras\u001b[0m\n",
      "\u001b[34mThere are 1 clusters with 125 cameras\u001b[0m\n",
      "\u001b[34mThere are 1 clusters with 126 cameras\u001b[0m\n",
      "\u001b[34mThere are 6 clusters with 127 cameras\u001b[0m\n",
      "\u001b[34mThere are 10 clusters with 128 cameras\u001b[0m\n",
      "Number of classes: 592\n",
      "\u001b[36mLearning Rate: 0.000210\u001b[0m\n",
      "encontrou modelos mobilenet. Carregando...\n",
      "encontrou modelos vgg16. Carregando...\n",
      "encontrou modelos resnet50. Carregando...\n",
      "encontrou modelos osnet. Carregando...\n",
      "encontrou modelos densenet121. Carregando...\n",
      "###============ Iteration number 83/90 ============###\n",
      "Extracting Online Features for mobilenet ...\n",
      "Features extracted in 174.39 seconds\n",
      "Computing jaccard distance...\n"
     ]
    },
    {
     "name": "stderr",
     "output_type": "stream",
     "text": [
      "bruteForceKnn is deprecated; call bfKnn instead\n"
     ]
    },
    {
     "name": "stdout",
     "output_type": "stream",
     "text": [
      "Jaccard distance computing time cost: 82.24441313743591\n",
      "Extracting Online Features for vgg16 ...\n",
      "Features extracted in 179.61 seconds\n",
      "Computing jaccard distance...\n"
     ]
    },
    {
     "name": "stderr",
     "output_type": "stream",
     "text": [
      "bruteForceKnn is deprecated; call bfKnn instead\n"
     ]
    },
    {
     "name": "stdout",
     "output_type": "stream",
     "text": [
      "Jaccard distance computing time cost: 81.97965383529663\n",
      "Extracting Online Features for resnet50 ...\n",
      "Features extracted in 172.56 seconds\n",
      "Computing jaccard distance...\n"
     ]
    },
    {
     "name": "stderr",
     "output_type": "stream",
     "text": [
      "bruteForceKnn is deprecated; call bfKnn instead\n"
     ]
    },
    {
     "name": "stdout",
     "output_type": "stream",
     "text": [
      "Jaccard distance computing time cost: 81.81130075454712\n",
      "Extracting Online Features for osnet ...\n",
      "Features extracted in 172.90 seconds\n",
      "Computing jaccard distance...\n"
     ]
    },
    {
     "name": "stderr",
     "output_type": "stream",
     "text": [
      "bruteForceKnn is deprecated; call bfKnn instead\n"
     ]
    },
    {
     "name": "stdout",
     "output_type": "stream",
     "text": [
      "Jaccard distance computing time cost: 79.70413827896118\n",
      "Extracting Online Features for densenet121 ...\n",
      "Features extracted in 175.88 seconds\n",
      "Computing jaccard distance...\n"
     ]
    },
    {
     "name": "stderr",
     "output_type": "stream",
     "text": [
      "bruteForceKnn is deprecated; call bfKnn instead\n"
     ]
    },
    {
     "name": "stdout",
     "output_type": "stream",
     "text": [
      "Jaccard distance computing time cost: 84.28770160675049\n",
      "Reliability: 0.997\n",
      "\u001b[32mMean Purity: 0.01845\u001b[0m\n",
      "\u001b[34mThere are 2 clusters with 4 cameras\u001b[0m\n",
      "\u001b[34mThere are 4 clusters with 5 cameras\u001b[0m\n",
      "\u001b[34mThere are 2 clusters with 7 cameras\u001b[0m\n",
      "\u001b[34mThere are 1 clusters with 9 cameras\u001b[0m\n",
      "\u001b[34mThere are 1 clusters with 11 cameras\u001b[0m\n",
      "\u001b[34mThere are 1 clusters with 12 cameras\u001b[0m\n",
      "\u001b[34mThere are 1 clusters with 16 cameras\u001b[0m\n",
      "\u001b[34mThere are 1 clusters with 19 cameras\u001b[0m\n",
      "\u001b[34mThere are 2 clusters with 29 cameras\u001b[0m\n",
      "\u001b[34mThere are 1 clusters with 32 cameras\u001b[0m\n",
      "\u001b[34mThere are 1 clusters with 34 cameras\u001b[0m\n",
      "\u001b[34mThere are 1 clusters with 45 cameras\u001b[0m\n",
      "\u001b[34mThere are 1 clusters with 47 cameras\u001b[0m\n",
      "\u001b[34mThere are 1 clusters with 52 cameras\u001b[0m\n",
      "\u001b[34mThere are 1 clusters with 53 cameras\u001b[0m\n",
      "\u001b[34mThere are 1 clusters with 54 cameras\u001b[0m\n",
      "\u001b[34mThere are 2 clusters with 57 cameras\u001b[0m\n",
      "\u001b[34mThere are 1 clusters with 58 cameras\u001b[0m\n",
      "\u001b[34mThere are 3 clusters with 59 cameras\u001b[0m\n",
      "\u001b[34mThere are 3 clusters with 60 cameras\u001b[0m\n",
      "\u001b[34mThere are 8 clusters with 61 cameras\u001b[0m\n",
      "\u001b[34mThere are 10 clusters with 62 cameras\u001b[0m\n",
      "\u001b[34mThere are 25 clusters with 63 cameras\u001b[0m\n",
      "\u001b[34mThere are 494 clusters with 64 cameras\u001b[0m\n",
      "\u001b[34mThere are 1 clusters with 92 cameras\u001b[0m\n",
      "\u001b[34mThere are 1 clusters with 97 cameras\u001b[0m\n",
      "\u001b[34mThere are 1 clusters with 120 cameras\u001b[0m\n",
      "\u001b[34mThere are 1 clusters with 121 cameras\u001b[0m\n",
      "\u001b[34mThere are 1 clusters with 122 cameras\u001b[0m\n",
      "\u001b[34mThere are 1 clusters with 124 cameras\u001b[0m\n",
      "\u001b[34mThere are 1 clusters with 125 cameras\u001b[0m\n",
      "\u001b[34mThere are 1 clusters with 126 cameras\u001b[0m\n",
      "\u001b[34mThere are 6 clusters with 127 cameras\u001b[0m\n",
      "\u001b[34mThere are 10 clusters with 128 cameras\u001b[0m\n",
      "Number of classes: 592\n",
      "\u001b[36mLearning Rate: 0.000228\u001b[0m\n",
      "encontrou modelos mobilenet. Carregando...\n",
      "encontrou modelos vgg16. Carregando...\n",
      "encontrou modelos resnet50. Carregando...\n",
      "encontrou modelos osnet. Carregando...\n",
      "encontrou modelos densenet121. Carregando...\n",
      "###============ Iteration number 84/90 ============###\n",
      "Extracting Online Features for mobilenet ...\n",
      "Features extracted in 171.53 seconds\n",
      "Computing jaccard distance...\n"
     ]
    },
    {
     "name": "stderr",
     "output_type": "stream",
     "text": [
      "bruteForceKnn is deprecated; call bfKnn instead\n"
     ]
    },
    {
     "name": "stdout",
     "output_type": "stream",
     "text": [
      "Jaccard distance computing time cost: 81.9381332397461\n",
      "Extracting Online Features for vgg16 ...\n",
      "Features extracted in 177.72 seconds\n",
      "Computing jaccard distance...\n"
     ]
    },
    {
     "name": "stderr",
     "output_type": "stream",
     "text": [
      "bruteForceKnn is deprecated; call bfKnn instead\n"
     ]
    },
    {
     "name": "stdout",
     "output_type": "stream",
     "text": [
      "Jaccard distance computing time cost: 81.74573564529419\n",
      "Extracting Online Features for resnet50 ...\n",
      "Features extracted in 173.85 seconds\n",
      "Computing jaccard distance...\n"
     ]
    },
    {
     "name": "stderr",
     "output_type": "stream",
     "text": [
      "bruteForceKnn is deprecated; call bfKnn instead\n"
     ]
    },
    {
     "name": "stdout",
     "output_type": "stream",
     "text": [
      "Jaccard distance computing time cost: 83.0377345085144\n",
      "Extracting Online Features for osnet ...\n",
      "Features extracted in 178.60 seconds\n",
      "Computing jaccard distance...\n"
     ]
    },
    {
     "name": "stderr",
     "output_type": "stream",
     "text": [
      "bruteForceKnn is deprecated; call bfKnn instead\n"
     ]
    },
    {
     "name": "stdout",
     "output_type": "stream",
     "text": [
      "Jaccard distance computing time cost: 68.58872246742249\n",
      "Extracting Online Features for densenet121 ...\n",
      "Features extracted in 176.50 seconds\n",
      "Computing jaccard distance...\n"
     ]
    },
    {
     "name": "stderr",
     "output_type": "stream",
     "text": [
      "bruteForceKnn is deprecated; call bfKnn instead\n"
     ]
    },
    {
     "name": "stdout",
     "output_type": "stream",
     "text": [
      "Jaccard distance computing time cost: 83.14368534088135\n",
      "Reliability: 0.997\n",
      "\u001b[32mMean Purity: 0.01845\u001b[0m\n",
      "\u001b[34mThere are 2 clusters with 4 cameras\u001b[0m\n",
      "\u001b[34mThere are 4 clusters with 5 cameras\u001b[0m\n",
      "\u001b[34mThere are 2 clusters with 7 cameras\u001b[0m\n",
      "\u001b[34mThere are 1 clusters with 9 cameras\u001b[0m\n",
      "\u001b[34mThere are 1 clusters with 11 cameras\u001b[0m\n",
      "\u001b[34mThere are 1 clusters with 12 cameras\u001b[0m\n",
      "\u001b[34mThere are 1 clusters with 16 cameras\u001b[0m\n",
      "\u001b[34mThere are 1 clusters with 19 cameras\u001b[0m\n",
      "\u001b[34mThere are 2 clusters with 29 cameras\u001b[0m\n",
      "\u001b[34mThere are 1 clusters with 32 cameras\u001b[0m\n",
      "\u001b[34mThere are 1 clusters with 34 cameras\u001b[0m\n",
      "\u001b[34mThere are 1 clusters with 45 cameras\u001b[0m\n",
      "\u001b[34mThere are 1 clusters with 47 cameras\u001b[0m\n",
      "\u001b[34mThere are 1 clusters with 52 cameras\u001b[0m\n",
      "\u001b[34mThere are 1 clusters with 53 cameras\u001b[0m\n",
      "\u001b[34mThere are 1 clusters with 54 cameras\u001b[0m\n",
      "\u001b[34mThere are 2 clusters with 57 cameras\u001b[0m\n",
      "\u001b[34mThere are 1 clusters with 58 cameras\u001b[0m\n",
      "\u001b[34mThere are 3 clusters with 59 cameras\u001b[0m\n",
      "\u001b[34mThere are 3 clusters with 60 cameras\u001b[0m\n",
      "\u001b[34mThere are 8 clusters with 61 cameras\u001b[0m\n",
      "\u001b[34mThere are 10 clusters with 62 cameras\u001b[0m\n",
      "\u001b[34mThere are 25 clusters with 63 cameras\u001b[0m\n",
      "\u001b[34mThere are 494 clusters with 64 cameras\u001b[0m\n",
      "\u001b[34mThere are 1 clusters with 92 cameras\u001b[0m\n",
      "\u001b[34mThere are 1 clusters with 97 cameras\u001b[0m\n",
      "\u001b[34mThere are 1 clusters with 120 cameras\u001b[0m\n",
      "\u001b[34mThere are 1 clusters with 121 cameras\u001b[0m\n",
      "\u001b[34mThere are 1 clusters with 122 cameras\u001b[0m\n",
      "\u001b[34mThere are 1 clusters with 124 cameras\u001b[0m\n",
      "\u001b[34mThere are 1 clusters with 125 cameras\u001b[0m\n",
      "\u001b[34mThere are 1 clusters with 126 cameras\u001b[0m\n",
      "\u001b[34mThere are 6 clusters with 127 cameras\u001b[0m\n",
      "\u001b[34mThere are 10 clusters with 128 cameras\u001b[0m\n",
      "Number of classes: 592\n",
      "\u001b[36mLearning Rate: 0.000245\u001b[0m\n",
      "encontrou modelos mobilenet. Carregando...\n",
      "encontrou modelos vgg16. Carregando...\n",
      "encontrou modelos resnet50. Carregando...\n",
      "encontrou modelos osnet. Carregando...\n",
      "encontrou modelos densenet121. Carregando...\n",
      "###============ Iteration number 85/90 ============###\n",
      "Extracting Online Features for mobilenet ...\n",
      "Features extracted in 172.67 seconds\n",
      "Computing jaccard distance...\n"
     ]
    },
    {
     "name": "stderr",
     "output_type": "stream",
     "text": [
      "bruteForceKnn is deprecated; call bfKnn instead\n"
     ]
    },
    {
     "name": "stdout",
     "output_type": "stream",
     "text": [
      "Jaccard distance computing time cost: 81.34842157363892\n",
      "Extracting Online Features for vgg16 ...\n",
      "Features extracted in 180.14 seconds\n",
      "Computing jaccard distance...\n"
     ]
    },
    {
     "name": "stderr",
     "output_type": "stream",
     "text": [
      "bruteForceKnn is deprecated; call bfKnn instead\n"
     ]
    },
    {
     "name": "stdout",
     "output_type": "stream",
     "text": [
      "Jaccard distance computing time cost: 84.01668357849121\n",
      "Extracting Online Features for resnet50 ...\n",
      "Features extracted in 176.50 seconds\n",
      "Computing jaccard distance...\n"
     ]
    },
    {
     "name": "stderr",
     "output_type": "stream",
     "text": [
      "bruteForceKnn is deprecated; call bfKnn instead\n"
     ]
    },
    {
     "name": "stdout",
     "output_type": "stream",
     "text": [
      "Jaccard distance computing time cost: 85.71695566177368\n",
      "Extracting Online Features for osnet ...\n",
      "Features extracted in 176.47 seconds\n",
      "Computing jaccard distance...\n"
     ]
    },
    {
     "name": "stderr",
     "output_type": "stream",
     "text": [
      "bruteForceKnn is deprecated; call bfKnn instead\n"
     ]
    },
    {
     "name": "stdout",
     "output_type": "stream",
     "text": [
      "Jaccard distance computing time cost: 81.96827912330627\n",
      "Extracting Online Features for densenet121 ...\n",
      "Features extracted in 175.50 seconds\n",
      "Computing jaccard distance...\n"
     ]
    },
    {
     "name": "stderr",
     "output_type": "stream",
     "text": [
      "bruteForceKnn is deprecated; call bfKnn instead\n"
     ]
    },
    {
     "name": "stdout",
     "output_type": "stream",
     "text": [
      "Jaccard distance computing time cost: 83.56292986869812\n",
      "Reliability: 0.997\n",
      "\u001b[32mMean Purity: 0.01845\u001b[0m\n",
      "\u001b[34mThere are 2 clusters with 4 cameras\u001b[0m\n",
      "\u001b[34mThere are 4 clusters with 5 cameras\u001b[0m\n",
      "\u001b[34mThere are 2 clusters with 7 cameras\u001b[0m\n",
      "\u001b[34mThere are 1 clusters with 9 cameras\u001b[0m\n",
      "\u001b[34mThere are 1 clusters with 11 cameras\u001b[0m\n",
      "\u001b[34mThere are 1 clusters with 12 cameras\u001b[0m\n",
      "\u001b[34mThere are 1 clusters with 16 cameras\u001b[0m\n",
      "\u001b[34mThere are 1 clusters with 19 cameras\u001b[0m\n",
      "\u001b[34mThere are 2 clusters with 29 cameras\u001b[0m\n",
      "\u001b[34mThere are 1 clusters with 32 cameras\u001b[0m\n",
      "\u001b[34mThere are 1 clusters with 34 cameras\u001b[0m\n",
      "\u001b[34mThere are 1 clusters with 45 cameras\u001b[0m\n",
      "\u001b[34mThere are 1 clusters with 47 cameras\u001b[0m\n",
      "\u001b[34mThere are 1 clusters with 52 cameras\u001b[0m\n",
      "\u001b[34mThere are 1 clusters with 53 cameras\u001b[0m\n",
      "\u001b[34mThere are 1 clusters with 54 cameras\u001b[0m\n",
      "\u001b[34mThere are 2 clusters with 57 cameras\u001b[0m\n",
      "\u001b[34mThere are 1 clusters with 58 cameras\u001b[0m\n",
      "\u001b[34mThere are 3 clusters with 59 cameras\u001b[0m\n",
      "\u001b[34mThere are 3 clusters with 60 cameras\u001b[0m\n",
      "\u001b[34mThere are 8 clusters with 61 cameras\u001b[0m\n",
      "\u001b[34mThere are 10 clusters with 62 cameras\u001b[0m\n",
      "\u001b[34mThere are 25 clusters with 63 cameras\u001b[0m\n",
      "\u001b[34mThere are 494 clusters with 64 cameras\u001b[0m\n",
      "\u001b[34mThere are 1 clusters with 92 cameras\u001b[0m\n",
      "\u001b[34mThere are 1 clusters with 97 cameras\u001b[0m\n",
      "\u001b[34mThere are 1 clusters with 120 cameras\u001b[0m\n",
      "\u001b[34mThere are 1 clusters with 121 cameras\u001b[0m\n",
      "\u001b[34mThere are 1 clusters with 122 cameras\u001b[0m\n",
      "\u001b[34mThere are 1 clusters with 124 cameras\u001b[0m\n",
      "\u001b[34mThere are 1 clusters with 125 cameras\u001b[0m\n",
      "\u001b[34mThere are 1 clusters with 126 cameras\u001b[0m\n",
      "\u001b[34mThere are 6 clusters with 127 cameras\u001b[0m\n",
      "\u001b[34mThere are 10 clusters with 128 cameras\u001b[0m\n",
      "Number of classes: 592\n",
      "\u001b[36mLearning Rate: 0.000263\u001b[0m\n",
      "encontrou modelos mobilenet. Carregando...\n",
      "encontrou modelos vgg16. Carregando...\n",
      "encontrou modelos resnet50. Carregando...\n",
      "encontrou modelos osnet. Carregando...\n",
      "encontrou modelos densenet121. Carregando...\n",
      "\u001b[33mValidating online mobilenet ...\u001b[0m\n",
      "Features extracted in 52.00 seconds\n",
      "Features extracted in 111.78 seconds\n",
      "Computing CMC and mAP ...\n",
      "** Results **\n",
      "mAP: 71.39%\n",
      "CMC curve\n",
      "Rank-1  : 81.53%\n",
      "Rank-5  : 95.41%\n",
      "Rank-10 : 98.02%\n",
      "Rank-20 : 99.18%\n",
      "\u001b[33mValidating momentum mobilenet ...\u001b[0m\n",
      "Features extracted in 52.42 seconds\n",
      "Features extracted in 111.68 seconds\n",
      "Computing CMC and mAP ...\n",
      "** Results **\n",
      "mAP: 70.86%\n",
      "CMC curve\n",
      "Rank-1  : 78.95%\n",
      "Rank-5  : 93.89%\n",
      "Rank-10 : 97.47%\n",
      "Rank-20 : 99.27%\n",
      "\u001b[33mValidating online vgg16 ...\u001b[0m\n",
      "Features extracted in 53.70 seconds\n",
      "Features extracted in 114.16 seconds\n",
      "Computing CMC and mAP ...\n",
      "** Results **\n",
      "mAP: 69.67%\n",
      "CMC curve\n",
      "Rank-1  : 74.49%\n",
      "Rank-5  : 92.27%\n",
      "Rank-10 : 96.56%\n",
      "Rank-20 : 99.05%\n",
      "\u001b[33mValidating momentum vgg16 ...\u001b[0m\n",
      "Features extracted in 53.02 seconds\n",
      "Features extracted in 113.34 seconds\n",
      "Computing CMC and mAP ...\n",
      "** Results **\n",
      "mAP: 69.72%\n",
      "CMC curve\n",
      "Rank-1  : 75.80%\n",
      "Rank-5  : 92.91%\n",
      "Rank-10 : 97.25%\n",
      "Rank-20 : 99.09%\n",
      "\u001b[33mValidating online resnet50 ...\u001b[0m\n",
      "Features extracted in 53.18 seconds\n",
      "Features extracted in 113.13 seconds\n",
      "Computing CMC and mAP ...\n",
      "** Results **\n",
      "mAP: 69.64%\n",
      "CMC curve\n",
      "Rank-1  : 70.07%\n",
      "Rank-5  : 91.28%\n",
      "Rank-10 : 96.04%\n",
      "Rank-20 : 98.68%\n",
      "\u001b[33mValidating momentum resnet50 ...\u001b[0m\n",
      "Features extracted in 52.94 seconds\n",
      "Features extracted in 112.89 seconds\n",
      "Computing CMC and mAP ...\n",
      "** Results **\n",
      "mAP: 70.02%\n",
      "CMC curve\n",
      "Rank-1  : 73.39%\n",
      "Rank-5  : 93.49%\n",
      "Rank-10 : 97.50%\n",
      "Rank-20 : 99.37%\n",
      "\u001b[33mValidating online osnet ...\u001b[0m\n",
      "Features extracted in 53.19 seconds\n",
      "Features extracted in 113.13 seconds\n",
      "Computing CMC and mAP ...\n",
      "** Results **\n",
      "mAP: 68.61%\n",
      "CMC curve\n",
      "Rank-1  : 73.02%\n",
      "Rank-5  : 95.04%\n",
      "Rank-10 : 98.36%\n",
      "Rank-20 : 99.48%\n",
      "\u001b[33mValidating momentum osnet ...\u001b[0m\n",
      "Features extracted in 52.74 seconds\n",
      "Features extracted in 113.14 seconds\n",
      "Computing CMC and mAP ...\n",
      "** Results **\n",
      "mAP: 69.41%\n",
      "CMC curve\n",
      "Rank-1  : 73.33%\n",
      "Rank-5  : 93.06%\n",
      "Rank-10 : 97.14%\n",
      "Rank-20 : 99.12%\n",
      "\u001b[33mValidating online densenet121 ...\u001b[0m\n",
      "Features extracted in 53.57 seconds\n",
      "Features extracted in 113.75 seconds\n",
      "Computing CMC and mAP ...\n",
      "** Results **\n",
      "mAP: 70.12%\n",
      "CMC curve\n",
      "Rank-1  : 75.15%\n",
      "Rank-5  : 92.89%\n",
      "Rank-10 : 97.00%\n",
      "Rank-20 : 98.95%\n",
      "\u001b[33mValidating momentum densenet121 ...\u001b[0m\n",
      "Features extracted in 53.94 seconds\n",
      "Features extracted in 113.42 seconds\n",
      "Computing CMC and mAP ...\n",
      "** Results **\n",
      "mAP: 69.53%\n",
      "CMC curve\n",
      "Rank-1  : 75.91%\n",
      "Rank-5  : 93.33%\n",
      "Rank-10 : 97.31%\n",
      "Rank-20 : 99.25%\n",
      "\u001b[33mValidating ensembled with online models ...\u001b[0m\n",
      "Computing CMC and mAP ...\n",
      "** Results **\n",
      "mAP: 70.82%\n",
      "Ranks:\n",
      "Rank-1  : 78.15%\n",
      "Rank-5  : 92.64%\n",
      "Rank-10 : 96.59%\n",
      "\u001b[33mValidating ensembled with momentum models ...\u001b[0m\n",
      "Computing CMC and mAP ...\n",
      "** Results **\n",
      "mAP: 70.51%\n",
      "Ranks:\n",
      "Rank-1  : 78.02%\n",
      "Rank-5  : 92.58%\n",
      "Rank-10 : 96.55%\n",
      "###============ Iteration number 86/90 ============###\n",
      "Extracting Online Features for mobilenet ...\n",
      "Features extracted in 174.65 seconds\n",
      "Computing jaccard distance...\n"
     ]
    },
    {
     "name": "stderr",
     "output_type": "stream",
     "text": [
      "bruteForceKnn is deprecated; call bfKnn instead\n"
     ]
    },
    {
     "name": "stdout",
     "output_type": "stream",
     "text": [
      "Jaccard distance computing time cost: 81.78328657150269\n",
      "Extracting Online Features for vgg16 ...\n",
      "Features extracted in 175.72 seconds\n",
      "Computing jaccard distance...\n"
     ]
    },
    {
     "name": "stderr",
     "output_type": "stream",
     "text": [
      "bruteForceKnn is deprecated; call bfKnn instead\n"
     ]
    },
    {
     "name": "stdout",
     "output_type": "stream",
     "text": [
      "Jaccard distance computing time cost: 82.26283001899719\n",
      "Extracting Online Features for resnet50 ...\n",
      "Features extracted in 177.18 seconds\n",
      "Computing jaccard distance...\n"
     ]
    },
    {
     "name": "stderr",
     "output_type": "stream",
     "text": [
      "bruteForceKnn is deprecated; call bfKnn instead\n"
     ]
    },
    {
     "name": "stdout",
     "output_type": "stream",
     "text": [
      "Jaccard distance computing time cost: 83.45949864387512\n",
      "Extracting Online Features for osnet ...\n",
      "Features extracted in 177.61 seconds\n",
      "Computing jaccard distance...\n"
     ]
    },
    {
     "name": "stderr",
     "output_type": "stream",
     "text": [
      "bruteForceKnn is deprecated; call bfKnn instead\n"
     ]
    },
    {
     "name": "stdout",
     "output_type": "stream",
     "text": [
      "Jaccard distance computing time cost: 82.09992337226868\n",
      "Extracting Online Features for densenet121 ...\n",
      "Features extracted in 178.46 seconds\n",
      "Computing jaccard distance...\n"
     ]
    },
    {
     "name": "stderr",
     "output_type": "stream",
     "text": [
      "bruteForceKnn is deprecated; call bfKnn instead\n"
     ]
    },
    {
     "name": "stdout",
     "output_type": "stream",
     "text": [
      "Jaccard distance computing time cost: 83.25488781929016\n",
      "Reliability: 0.997\n",
      "\u001b[32mMean Purity: 0.01845\u001b[0m\n",
      "\u001b[34mThere are 2 clusters with 4 cameras\u001b[0m\n",
      "\u001b[34mThere are 4 clusters with 5 cameras\u001b[0m\n",
      "\u001b[34mThere are 2 clusters with 7 cameras\u001b[0m\n",
      "\u001b[34mThere are 1 clusters with 9 cameras\u001b[0m\n",
      "\u001b[34mThere are 1 clusters with 11 cameras\u001b[0m\n",
      "\u001b[34mThere are 1 clusters with 12 cameras\u001b[0m\n",
      "\u001b[34mThere are 1 clusters with 16 cameras\u001b[0m\n",
      "\u001b[34mThere are 1 clusters with 19 cameras\u001b[0m\n",
      "\u001b[34mThere are 2 clusters with 29 cameras\u001b[0m\n",
      "\u001b[34mThere are 1 clusters with 32 cameras\u001b[0m\n",
      "\u001b[34mThere are 1 clusters with 34 cameras\u001b[0m\n",
      "\u001b[34mThere are 1 clusters with 45 cameras\u001b[0m\n",
      "\u001b[34mThere are 1 clusters with 47 cameras\u001b[0m\n",
      "\u001b[34mThere are 1 clusters with 52 cameras\u001b[0m\n",
      "\u001b[34mThere are 1 clusters with 53 cameras\u001b[0m\n",
      "\u001b[34mThere are 1 clusters with 54 cameras\u001b[0m\n",
      "\u001b[34mThere are 2 clusters with 57 cameras\u001b[0m\n",
      "\u001b[34mThere are 1 clusters with 58 cameras\u001b[0m\n",
      "\u001b[34mThere are 3 clusters with 59 cameras\u001b[0m\n",
      "\u001b[34mThere are 3 clusters with 60 cameras\u001b[0m\n",
      "\u001b[34mThere are 8 clusters with 61 cameras\u001b[0m\n",
      "\u001b[34mThere are 10 clusters with 62 cameras\u001b[0m\n",
      "\u001b[34mThere are 25 clusters with 63 cameras\u001b[0m\n",
      "\u001b[34mThere are 494 clusters with 64 cameras\u001b[0m\n",
      "\u001b[34mThere are 1 clusters with 92 cameras\u001b[0m\n",
      "\u001b[34mThere are 1 clusters with 97 cameras\u001b[0m\n",
      "\u001b[34mThere are 1 clusters with 120 cameras\u001b[0m\n",
      "\u001b[34mThere are 1 clusters with 121 cameras\u001b[0m\n",
      "\u001b[34mThere are 1 clusters with 122 cameras\u001b[0m\n",
      "\u001b[34mThere are 1 clusters with 124 cameras\u001b[0m\n",
      "\u001b[34mThere are 1 clusters with 125 cameras\u001b[0m\n",
      "\u001b[34mThere are 1 clusters with 126 cameras\u001b[0m\n",
      "\u001b[34mThere are 6 clusters with 127 cameras\u001b[0m\n",
      "\u001b[34mThere are 10 clusters with 128 cameras\u001b[0m\n",
      "Number of classes: 592\n",
      "\u001b[36mLearning Rate: 0.000280\u001b[0m\n",
      "encontrou modelos mobilenet. Carregando...\n",
      "encontrou modelos vgg16. Carregando...\n",
      "encontrou modelos resnet50. Carregando...\n",
      "encontrou modelos osnet. Carregando...\n",
      "encontrou modelos densenet121. Carregando...\n",
      "###============ Iteration number 87/90 ============###\n",
      "Extracting Online Features for mobilenet ...\n",
      "Features extracted in 177.70 seconds\n",
      "Computing jaccard distance...\n"
     ]
    },
    {
     "name": "stderr",
     "output_type": "stream",
     "text": [
      "bruteForceKnn is deprecated; call bfKnn instead\n"
     ]
    },
    {
     "name": "stdout",
     "output_type": "stream",
     "text": [
      "Jaccard distance computing time cost: 81.84270548820496\n",
      "Extracting Online Features for vgg16 ...\n",
      "Features extracted in 178.91 seconds\n",
      "Computing jaccard distance...\n"
     ]
    },
    {
     "name": "stderr",
     "output_type": "stream",
     "text": [
      "bruteForceKnn is deprecated; call bfKnn instead\n"
     ]
    },
    {
     "name": "stdout",
     "output_type": "stream",
     "text": [
      "Jaccard distance computing time cost: 83.76920652389526\n",
      "Extracting Online Features for resnet50 ...\n",
      "Features extracted in 176.99 seconds\n",
      "Computing jaccard distance...\n"
     ]
    },
    {
     "name": "stderr",
     "output_type": "stream",
     "text": [
      "bruteForceKnn is deprecated; call bfKnn instead\n"
     ]
    },
    {
     "name": "stdout",
     "output_type": "stream",
     "text": [
      "Jaccard distance computing time cost: 82.98486828804016\n",
      "Extracting Online Features for osnet ...\n",
      "Features extracted in 175.91 seconds\n",
      "Computing jaccard distance...\n"
     ]
    },
    {
     "name": "stderr",
     "output_type": "stream",
     "text": [
      "bruteForceKnn is deprecated; call bfKnn instead\n"
     ]
    },
    {
     "name": "stdout",
     "output_type": "stream",
     "text": [
      "Jaccard distance computing time cost: 75.7580578327179\n",
      "Extracting Online Features for densenet121 ...\n",
      "Features extracted in 177.14 seconds\n",
      "Computing jaccard distance...\n"
     ]
    },
    {
     "name": "stderr",
     "output_type": "stream",
     "text": [
      "bruteForceKnn is deprecated; call bfKnn instead\n"
     ]
    },
    {
     "name": "stdout",
     "output_type": "stream",
     "text": [
      "Jaccard distance computing time cost: 83.19798040390015\n",
      "Reliability: 0.997\n",
      "\u001b[32mMean Purity: 0.01845\u001b[0m\n",
      "\u001b[34mThere are 2 clusters with 4 cameras\u001b[0m\n",
      "\u001b[34mThere are 4 clusters with 5 cameras\u001b[0m\n",
      "\u001b[34mThere are 2 clusters with 7 cameras\u001b[0m\n",
      "\u001b[34mThere are 1 clusters with 9 cameras\u001b[0m\n",
      "\u001b[34mThere are 1 clusters with 11 cameras\u001b[0m\n",
      "\u001b[34mThere are 1 clusters with 12 cameras\u001b[0m\n",
      "\u001b[34mThere are 1 clusters with 16 cameras\u001b[0m\n",
      "\u001b[34mThere are 1 clusters with 19 cameras\u001b[0m\n",
      "\u001b[34mThere are 2 clusters with 29 cameras\u001b[0m\n",
      "\u001b[34mThere are 1 clusters with 32 cameras\u001b[0m\n",
      "\u001b[34mThere are 1 clusters with 34 cameras\u001b[0m\n",
      "\u001b[34mThere are 1 clusters with 45 cameras\u001b[0m\n",
      "\u001b[34mThere are 1 clusters with 47 cameras\u001b[0m\n",
      "\u001b[34mThere are 1 clusters with 52 cameras\u001b[0m\n",
      "\u001b[34mThere are 1 clusters with 53 cameras\u001b[0m\n",
      "\u001b[34mThere are 1 clusters with 54 cameras\u001b[0m\n",
      "\u001b[34mThere are 2 clusters with 57 cameras\u001b[0m\n",
      "\u001b[34mThere are 1 clusters with 58 cameras\u001b[0m\n",
      "\u001b[34mThere are 3 clusters with 59 cameras\u001b[0m\n",
      "\u001b[34mThere are 3 clusters with 60 cameras\u001b[0m\n",
      "\u001b[34mThere are 8 clusters with 61 cameras\u001b[0m\n",
      "\u001b[34mThere are 10 clusters with 62 cameras\u001b[0m\n",
      "\u001b[34mThere are 25 clusters with 63 cameras\u001b[0m\n",
      "\u001b[34mThere are 494 clusters with 64 cameras\u001b[0m\n",
      "\u001b[34mThere are 1 clusters with 92 cameras\u001b[0m\n",
      "\u001b[34mThere are 1 clusters with 97 cameras\u001b[0m\n",
      "\u001b[34mThere are 1 clusters with 120 cameras\u001b[0m\n",
      "\u001b[34mThere are 1 clusters with 121 cameras\u001b[0m\n",
      "\u001b[34mThere are 1 clusters with 122 cameras\u001b[0m\n",
      "\u001b[34mThere are 1 clusters with 124 cameras\u001b[0m\n",
      "\u001b[34mThere are 1 clusters with 125 cameras\u001b[0m\n",
      "\u001b[34mThere are 1 clusters with 126 cameras\u001b[0m\n",
      "\u001b[34mThere are 6 clusters with 127 cameras\u001b[0m\n",
      "\u001b[34mThere are 10 clusters with 128 cameras\u001b[0m\n",
      "Number of classes: 592\n",
      "\u001b[36mLearning Rate: 0.000298\u001b[0m\n",
      "encontrou modelos mobilenet. Carregando...\n",
      "encontrou modelos vgg16. Carregando...\n",
      "encontrou modelos resnet50. Carregando...\n",
      "encontrou modelos osnet. Carregando...\n",
      "encontrou modelos densenet121. Carregando...\n",
      "###============ Iteration number 88/90 ============###\n",
      "Extracting Online Features for mobilenet ...\n",
      "Features extracted in 177.74 seconds\n",
      "Computing jaccard distance...\n"
     ]
    },
    {
     "name": "stderr",
     "output_type": "stream",
     "text": [
      "bruteForceKnn is deprecated; call bfKnn instead\n"
     ]
    },
    {
     "name": "stdout",
     "output_type": "stream",
     "text": [
      "Jaccard distance computing time cost: 83.4483540058136\n",
      "Extracting Online Features for vgg16 ...\n",
      "Features extracted in 177.75 seconds\n",
      "Computing jaccard distance...\n"
     ]
    },
    {
     "name": "stderr",
     "output_type": "stream",
     "text": [
      "bruteForceKnn is deprecated; call bfKnn instead\n"
     ]
    },
    {
     "name": "stdout",
     "output_type": "stream",
     "text": [
      "Jaccard distance computing time cost: 76.82721161842346\n",
      "Extracting Online Features for resnet50 ...\n",
      "Features extracted in 173.73 seconds\n",
      "Computing jaccard distance...\n"
     ]
    },
    {
     "name": "stderr",
     "output_type": "stream",
     "text": [
      "bruteForceKnn is deprecated; call bfKnn instead\n"
     ]
    },
    {
     "name": "stdout",
     "output_type": "stream",
     "text": [
      "Jaccard distance computing time cost: 83.44291734695435\n",
      "Extracting Online Features for osnet ...\n",
      "Features extracted in 177.77 seconds\n",
      "Computing jaccard distance...\n"
     ]
    },
    {
     "name": "stderr",
     "output_type": "stream",
     "text": [
      "bruteForceKnn is deprecated; call bfKnn instead\n"
     ]
    },
    {
     "name": "stdout",
     "output_type": "stream",
     "text": [
      "Jaccard distance computing time cost: 78.51937675476074\n",
      "Extracting Online Features for densenet121 ...\n",
      "Features extracted in 174.40 seconds\n",
      "Computing jaccard distance...\n"
     ]
    },
    {
     "name": "stderr",
     "output_type": "stream",
     "text": [
      "bruteForceKnn is deprecated; call bfKnn instead\n"
     ]
    },
    {
     "name": "stdout",
     "output_type": "stream",
     "text": [
      "Jaccard distance computing time cost: 85.03877639770508\n",
      "Reliability: 0.997\n",
      "\u001b[32mMean Purity: 0.01845\u001b[0m\n",
      "\u001b[34mThere are 2 clusters with 4 cameras\u001b[0m\n",
      "\u001b[34mThere are 4 clusters with 5 cameras\u001b[0m\n",
      "\u001b[34mThere are 2 clusters with 7 cameras\u001b[0m\n",
      "\u001b[34mThere are 1 clusters with 9 cameras\u001b[0m\n",
      "\u001b[34mThere are 1 clusters with 11 cameras\u001b[0m\n",
      "\u001b[34mThere are 1 clusters with 12 cameras\u001b[0m\n",
      "\u001b[34mThere are 1 clusters with 16 cameras\u001b[0m\n",
      "\u001b[34mThere are 1 clusters with 19 cameras\u001b[0m\n",
      "\u001b[34mThere are 2 clusters with 29 cameras\u001b[0m\n",
      "\u001b[34mThere are 1 clusters with 32 cameras\u001b[0m\n",
      "\u001b[34mThere are 1 clusters with 34 cameras\u001b[0m\n",
      "\u001b[34mThere are 1 clusters with 45 cameras\u001b[0m\n",
      "\u001b[34mThere are 1 clusters with 47 cameras\u001b[0m\n",
      "\u001b[34mThere are 1 clusters with 52 cameras\u001b[0m\n",
      "\u001b[34mThere are 1 clusters with 53 cameras\u001b[0m\n",
      "\u001b[34mThere are 1 clusters with 54 cameras\u001b[0m\n",
      "\u001b[34mThere are 2 clusters with 57 cameras\u001b[0m\n",
      "\u001b[34mThere are 1 clusters with 58 cameras\u001b[0m\n",
      "\u001b[34mThere are 3 clusters with 59 cameras\u001b[0m\n",
      "\u001b[34mThere are 3 clusters with 60 cameras\u001b[0m\n",
      "\u001b[34mThere are 8 clusters with 61 cameras\u001b[0m\n",
      "\u001b[34mThere are 10 clusters with 62 cameras\u001b[0m\n",
      "\u001b[34mThere are 25 clusters with 63 cameras\u001b[0m\n",
      "\u001b[34mThere are 494 clusters with 64 cameras\u001b[0m\n",
      "\u001b[34mThere are 1 clusters with 92 cameras\u001b[0m\n",
      "\u001b[34mThere are 1 clusters with 97 cameras\u001b[0m\n",
      "\u001b[34mThere are 1 clusters with 120 cameras\u001b[0m\n",
      "\u001b[34mThere are 1 clusters with 121 cameras\u001b[0m\n",
      "\u001b[34mThere are 1 clusters with 122 cameras\u001b[0m\n",
      "\u001b[34mThere are 1 clusters with 124 cameras\u001b[0m\n",
      "\u001b[34mThere are 1 clusters with 125 cameras\u001b[0m\n",
      "\u001b[34mThere are 1 clusters with 126 cameras\u001b[0m\n",
      "\u001b[34mThere are 6 clusters with 127 cameras\u001b[0m\n",
      "\u001b[34mThere are 10 clusters with 128 cameras\u001b[0m\n",
      "Number of classes: 592\n",
      "\u001b[36mLearning Rate: 0.000315\u001b[0m\n",
      "encontrou modelos mobilenet. Carregando...\n",
      "encontrou modelos vgg16. Carregando...\n",
      "encontrou modelos resnet50. Carregando...\n",
      "encontrou modelos osnet. Carregando...\n",
      "encontrou modelos densenet121. Carregando...\n",
      "###============ Iteration number 89/90 ============###\n",
      "Extracting Online Features for mobilenet ...\n",
      "Features extracted in 172.29 seconds\n",
      "Computing jaccard distance...\n"
     ]
    },
    {
     "name": "stderr",
     "output_type": "stream",
     "text": [
      "bruteForceKnn is deprecated; call bfKnn instead\n"
     ]
    },
    {
     "name": "stdout",
     "output_type": "stream",
     "text": [
      "Jaccard distance computing time cost: 81.7116904258728\n",
      "Extracting Online Features for vgg16 ...\n",
      "Features extracted in 175.14 seconds\n",
      "Computing jaccard distance...\n"
     ]
    },
    {
     "name": "stderr",
     "output_type": "stream",
     "text": [
      "bruteForceKnn is deprecated; call bfKnn instead\n"
     ]
    },
    {
     "name": "stdout",
     "output_type": "stream",
     "text": [
      "Jaccard distance computing time cost: 83.81903314590454\n",
      "Extracting Online Features for resnet50 ...\n",
      "Features extracted in 173.77 seconds\n",
      "Computing jaccard distance...\n"
     ]
    },
    {
     "name": "stderr",
     "output_type": "stream",
     "text": [
      "bruteForceKnn is deprecated; call bfKnn instead\n"
     ]
    },
    {
     "name": "stdout",
     "output_type": "stream",
     "text": [
      "Jaccard distance computing time cost: 83.32302975654602\n",
      "Extracting Online Features for osnet ...\n",
      "Features extracted in 176.92 seconds\n",
      "Computing jaccard distance...\n"
     ]
    },
    {
     "name": "stderr",
     "output_type": "stream",
     "text": [
      "bruteForceKnn is deprecated; call bfKnn instead\n"
     ]
    },
    {
     "name": "stdout",
     "output_type": "stream",
     "text": [
      "Jaccard distance computing time cost: 80.05665588378906\n",
      "Extracting Online Features for densenet121 ...\n",
      "Features extracted in 176.49 seconds\n",
      "Computing jaccard distance...\n"
     ]
    },
    {
     "name": "stderr",
     "output_type": "stream",
     "text": [
      "bruteForceKnn is deprecated; call bfKnn instead\n"
     ]
    },
    {
     "name": "stdout",
     "output_type": "stream",
     "text": [
      "Jaccard distance computing time cost: 84.89108061790466\n",
      "Reliability: 0.997\n",
      "\u001b[32mMean Purity: 0.01845\u001b[0m\n",
      "\u001b[34mThere are 2 clusters with 4 cameras\u001b[0m\n",
      "\u001b[34mThere are 4 clusters with 5 cameras\u001b[0m\n",
      "\u001b[34mThere are 2 clusters with 7 cameras\u001b[0m\n",
      "\u001b[34mThere are 1 clusters with 9 cameras\u001b[0m\n",
      "\u001b[34mThere are 1 clusters with 11 cameras\u001b[0m\n",
      "\u001b[34mThere are 1 clusters with 12 cameras\u001b[0m\n",
      "\u001b[34mThere are 1 clusters with 16 cameras\u001b[0m\n",
      "\u001b[34mThere are 1 clusters with 19 cameras\u001b[0m\n",
      "\u001b[34mThere are 2 clusters with 29 cameras\u001b[0m\n",
      "\u001b[34mThere are 1 clusters with 32 cameras\u001b[0m\n",
      "\u001b[34mThere are 1 clusters with 34 cameras\u001b[0m\n",
      "\u001b[34mThere are 1 clusters with 45 cameras\u001b[0m\n",
      "\u001b[34mThere are 1 clusters with 47 cameras\u001b[0m\n",
      "\u001b[34mThere are 1 clusters with 52 cameras\u001b[0m\n",
      "\u001b[34mThere are 1 clusters with 53 cameras\u001b[0m\n",
      "\u001b[34mThere are 1 clusters with 54 cameras\u001b[0m\n",
      "\u001b[34mThere are 2 clusters with 57 cameras\u001b[0m\n",
      "\u001b[34mThere are 1 clusters with 58 cameras\u001b[0m\n",
      "\u001b[34mThere are 3 clusters with 59 cameras\u001b[0m\n",
      "\u001b[34mThere are 3 clusters with 60 cameras\u001b[0m\n",
      "\u001b[34mThere are 8 clusters with 61 cameras\u001b[0m\n",
      "\u001b[34mThere are 10 clusters with 62 cameras\u001b[0m\n",
      "\u001b[34mThere are 25 clusters with 63 cameras\u001b[0m\n",
      "\u001b[34mThere are 494 clusters with 64 cameras\u001b[0m\n",
      "\u001b[34mThere are 1 clusters with 92 cameras\u001b[0m\n",
      "\u001b[34mThere are 1 clusters with 97 cameras\u001b[0m\n",
      "\u001b[34mThere are 1 clusters with 120 cameras\u001b[0m\n",
      "\u001b[34mThere are 1 clusters with 121 cameras\u001b[0m\n",
      "\u001b[34mThere are 1 clusters with 122 cameras\u001b[0m\n",
      "\u001b[34mThere are 1 clusters with 124 cameras\u001b[0m\n",
      "\u001b[34mThere are 1 clusters with 125 cameras\u001b[0m\n",
      "\u001b[34mThere are 1 clusters with 126 cameras\u001b[0m\n",
      "\u001b[34mThere are 6 clusters with 127 cameras\u001b[0m\n",
      "\u001b[34mThere are 10 clusters with 128 cameras\u001b[0m\n",
      "Number of classes: 592\n",
      "\u001b[36mLearning Rate: 0.000333\u001b[0m\n",
      "encontrou modelos mobilenet. Carregando...\n",
      "encontrou modelos vgg16. Carregando...\n",
      "encontrou modelos resnet50. Carregando...\n",
      "encontrou modelos osnet. Carregando...\n",
      "encontrou modelos densenet121. Carregando...\n",
      "###============ Iteration number 90/90 ============###\n",
      "Extracting Online Features for mobilenet ...\n",
      "Features extracted in 173.04 seconds\n",
      "Computing jaccard distance...\n"
     ]
    },
    {
     "name": "stderr",
     "output_type": "stream",
     "text": [
      "bruteForceKnn is deprecated; call bfKnn instead\n"
     ]
    },
    {
     "name": "stdout",
     "output_type": "stream",
     "text": [
      "Jaccard distance computing time cost: 82.20833945274353\n",
      "Extracting Online Features for vgg16 ...\n",
      "Features extracted in 176.05 seconds\n",
      "Computing jaccard distance...\n"
     ]
    },
    {
     "name": "stderr",
     "output_type": "stream",
     "text": [
      "bruteForceKnn is deprecated; call bfKnn instead\n"
     ]
    },
    {
     "name": "stdout",
     "output_type": "stream",
     "text": [
      "Jaccard distance computing time cost: 85.14839625358582\n",
      "Extracting Online Features for resnet50 ...\n",
      "Features extracted in 174.30 seconds\n",
      "Computing jaccard distance...\n"
     ]
    },
    {
     "name": "stderr",
     "output_type": "stream",
     "text": [
      "bruteForceKnn is deprecated; call bfKnn instead\n"
     ]
    },
    {
     "name": "stdout",
     "output_type": "stream",
     "text": [
      "Jaccard distance computing time cost: 82.65437579154968\n",
      "Extracting Online Features for osnet ...\n",
      "Features extracted in 171.44 seconds\n",
      "Computing jaccard distance...\n"
     ]
    },
    {
     "name": "stderr",
     "output_type": "stream",
     "text": [
      "bruteForceKnn is deprecated; call bfKnn instead\n"
     ]
    },
    {
     "name": "stdout",
     "output_type": "stream",
     "text": [
      "Jaccard distance computing time cost: 67.90823674201965\n",
      "Extracting Online Features for densenet121 ...\n",
      "Features extracted in 176.97 seconds\n",
      "Computing jaccard distance...\n"
     ]
    },
    {
     "name": "stderr",
     "output_type": "stream",
     "text": [
      "bruteForceKnn is deprecated; call bfKnn instead\n"
     ]
    },
    {
     "name": "stdout",
     "output_type": "stream",
     "text": [
      "Jaccard distance computing time cost: 85.48540592193604\n",
      "Reliability: 0.997\n",
      "\u001b[32mMean Purity: 0.01845\u001b[0m\n",
      "\u001b[34mThere are 2 clusters with 4 cameras\u001b[0m\n",
      "\u001b[34mThere are 4 clusters with 5 cameras\u001b[0m\n",
      "\u001b[34mThere are 2 clusters with 7 cameras\u001b[0m\n",
      "\u001b[34mThere are 1 clusters with 9 cameras\u001b[0m\n",
      "\u001b[34mThere are 1 clusters with 11 cameras\u001b[0m\n",
      "\u001b[34mThere are 1 clusters with 12 cameras\u001b[0m\n",
      "\u001b[34mThere are 1 clusters with 16 cameras\u001b[0m\n",
      "\u001b[34mThere are 1 clusters with 19 cameras\u001b[0m\n",
      "\u001b[34mThere are 2 clusters with 29 cameras\u001b[0m\n",
      "\u001b[34mThere are 1 clusters with 32 cameras\u001b[0m\n",
      "\u001b[34mThere are 1 clusters with 34 cameras\u001b[0m\n",
      "\u001b[34mThere are 1 clusters with 45 cameras\u001b[0m\n",
      "\u001b[34mThere are 1 clusters with 47 cameras\u001b[0m\n",
      "\u001b[34mThere are 1 clusters with 52 cameras\u001b[0m\n",
      "\u001b[34mThere are 1 clusters with 53 cameras\u001b[0m\n",
      "\u001b[34mThere are 1 clusters with 54 cameras\u001b[0m\n",
      "\u001b[34mThere are 2 clusters with 57 cameras\u001b[0m\n",
      "\u001b[34mThere are 1 clusters with 58 cameras\u001b[0m\n",
      "\u001b[34mThere are 3 clusters with 59 cameras\u001b[0m\n",
      "\u001b[34mThere are 3 clusters with 60 cameras\u001b[0m\n",
      "\u001b[34mThere are 8 clusters with 61 cameras\u001b[0m\n",
      "\u001b[34mThere are 10 clusters with 62 cameras\u001b[0m\n",
      "\u001b[34mThere are 25 clusters with 63 cameras\u001b[0m\n",
      "\u001b[34mThere are 494 clusters with 64 cameras\u001b[0m\n",
      "\u001b[34mThere are 1 clusters with 92 cameras\u001b[0m\n",
      "\u001b[34mThere are 1 clusters with 97 cameras\u001b[0m\n",
      "\u001b[34mThere are 1 clusters with 120 cameras\u001b[0m\n",
      "\u001b[34mThere are 1 clusters with 121 cameras\u001b[0m\n",
      "\u001b[34mThere are 1 clusters with 122 cameras\u001b[0m\n",
      "\u001b[34mThere are 1 clusters with 124 cameras\u001b[0m\n",
      "\u001b[34mThere are 1 clusters with 125 cameras\u001b[0m\n",
      "\u001b[34mThere are 1 clusters with 126 cameras\u001b[0m\n",
      "\u001b[34mThere are 6 clusters with 127 cameras\u001b[0m\n",
      "\u001b[34mThere are 10 clusters with 128 cameras\u001b[0m\n",
      "Number of classes: 592\n",
      "\u001b[36mLearning Rate: 0.000350\u001b[0m\n",
      "encontrou modelos mobilenet. Carregando...\n",
      "encontrou modelos vgg16. Carregando...\n",
      "encontrou modelos resnet50. Carregando...\n",
      "encontrou modelos osnet. Carregando...\n",
      "encontrou modelos densenet121. Carregando...\n",
      "\u001b[33mValidating online mobilenet ...\u001b[0m\n",
      "Features extracted in 51.41 seconds\n",
      "Features extracted in 109.90 seconds\n",
      "Computing CMC and mAP ...\n",
      "** Results **\n",
      "mAP: 71.39%\n",
      "CMC curve\n",
      "Rank-1  : 81.53%\n",
      "Rank-5  : 95.41%\n",
      "Rank-10 : 98.02%\n",
      "Rank-20 : 99.18%\n",
      "\u001b[33mValidating momentum mobilenet ...\u001b[0m\n",
      "Features extracted in 51.43 seconds\n",
      "Features extracted in 109.66 seconds\n",
      "Computing CMC and mAP ...\n",
      "** Results **\n",
      "mAP: 70.86%\n",
      "CMC curve\n",
      "Rank-1  : 78.95%\n",
      "Rank-5  : 93.89%\n",
      "Rank-10 : 97.47%\n",
      "Rank-20 : 99.27%\n",
      "\u001b[33mValidating online vgg16 ...\u001b[0m\n",
      "Features extracted in 52.56 seconds\n",
      "Features extracted in 113.89 seconds\n",
      "Computing CMC and mAP ...\n",
      "** Results **\n",
      "mAP: 69.67%\n",
      "CMC curve\n",
      "Rank-1  : 74.49%\n",
      "Rank-5  : 92.27%\n",
      "Rank-10 : 96.56%\n",
      "Rank-20 : 99.05%\n",
      "\u001b[33mValidating momentum vgg16 ...\u001b[0m\n",
      "Features extracted in 52.84 seconds\n",
      "Features extracted in 113.50 seconds\n",
      "Computing CMC and mAP ...\n",
      "** Results **\n",
      "mAP: 69.72%\n",
      "CMC curve\n",
      "Rank-1  : 75.80%\n",
      "Rank-5  : 92.91%\n",
      "Rank-10 : 97.25%\n",
      "Rank-20 : 99.09%\n",
      "\u001b[33mValidating online resnet50 ...\u001b[0m\n",
      "Features extracted in 51.92 seconds\n",
      "Features extracted in 110.92 seconds\n",
      "Computing CMC and mAP ...\n",
      "** Results **\n",
      "mAP: 69.64%\n",
      "CMC curve\n",
      "Rank-1  : 70.07%\n",
      "Rank-5  : 91.28%\n",
      "Rank-10 : 96.04%\n",
      "Rank-20 : 98.68%\n",
      "\u001b[33mValidating momentum resnet50 ...\u001b[0m\n",
      "Features extracted in 51.66 seconds\n",
      "Features extracted in 111.70 seconds\n",
      "Computing CMC and mAP ...\n",
      "** Results **\n",
      "mAP: 70.02%\n",
      "CMC curve\n",
      "Rank-1  : 73.39%\n",
      "Rank-5  : 93.49%\n",
      "Rank-10 : 97.50%\n",
      "Rank-20 : 99.37%\n",
      "\u001b[33mValidating online osnet ...\u001b[0m\n",
      "Features extracted in 52.19 seconds\n",
      "Features extracted in 111.65 seconds\n",
      "Computing CMC and mAP ...\n",
      "** Results **\n",
      "mAP: 68.61%\n",
      "CMC curve\n",
      "Rank-1  : 73.02%\n",
      "Rank-5  : 95.04%\n",
      "Rank-10 : 98.36%\n",
      "Rank-20 : 99.48%\n",
      "\u001b[33mValidating momentum osnet ...\u001b[0m\n",
      "Features extracted in 52.42 seconds\n",
      "Features extracted in 111.29 seconds\n",
      "Computing CMC and mAP ...\n",
      "** Results **\n",
      "mAP: 69.41%\n",
      "CMC curve\n",
      "Rank-1  : 73.33%\n",
      "Rank-5  : 93.06%\n",
      "Rank-10 : 97.14%\n",
      "Rank-20 : 99.12%\n",
      "\u001b[33mValidating online densenet121 ...\u001b[0m\n",
      "Features extracted in 52.67 seconds\n",
      "Features extracted in 112.42 seconds\n",
      "Computing CMC and mAP ...\n",
      "** Results **\n",
      "mAP: 70.12%\n",
      "CMC curve\n",
      "Rank-1  : 75.15%\n",
      "Rank-5  : 92.89%\n",
      "Rank-10 : 97.00%\n",
      "Rank-20 : 98.95%\n",
      "\u001b[33mValidating momentum densenet121 ...\u001b[0m\n",
      "Features extracted in 53.23 seconds\n",
      "Features extracted in 112.21 seconds\n",
      "Computing CMC and mAP ...\n",
      "** Results **\n",
      "mAP: 69.53%\n",
      "CMC curve\n",
      "Rank-1  : 75.91%\n",
      "Rank-5  : 93.33%\n",
      "Rank-10 : 97.31%\n",
      "Rank-20 : 99.25%\n",
      "\u001b[33mValidating ensembled with online models ...\u001b[0m\n",
      "Computing CMC and mAP ...\n",
      "** Results **\n",
      "mAP: 70.82%\n",
      "Ranks:\n",
      "Rank-1  : 78.15%\n",
      "Rank-5  : 92.64%\n",
      "Rank-10 : 96.59%\n",
      "\u001b[33mValidating ensembled with momentum models ...\u001b[0m\n",
      "Computing CMC and mAP ...\n",
      "** Results **\n",
      "mAP: 70.51%\n",
      "Ranks:\n",
      "Rank-1  : 78.02%\n",
      "Rank-5  : 92.58%\n",
      "Rank-10 : 96.55%\n",
      "Features extracted in 111.29 seconds\n",
      "Features extracted in 52.26 seconds\n",
      "Features extracted in 114.25 seconds\n",
      "Features extracted in 53.02 seconds\n",
      "Features extracted in 112.93 seconds\n",
      "Features extracted in 52.91 seconds\n",
      "Features extracted in 112.01 seconds\n",
      "Features extracted in 52.96 seconds\n",
      "Features extracted in 112.60 seconds\n",
      "Features extracted in 52.84 seconds\n",
      "110023.2313144207 4348.724091529846 1187.1210701465607\n",
      "Mean Feature Extraction and Reranking Time: 1222.480348\n",
      "Mean Clustering Time: 48.319157\n",
      "Mean Finetuning Time: 13.190234\n",
      "Total pipeline Time:  232655.208385\n"
     ]
    }
   ],
   "source": [
    "import torch\n",
    "import numpy as np\n",
    "import matplotlib.pyplot as plt\n",
    "\n",
    "from main import *\n",
    "\n",
    "from sklearn.cluster import KMeans\n",
    "from datasetUtils import load_from_Jadson\n",
    "from sklearn.metrics import confusion_matrix\n",
    "from sklearn.metrics import ConfusionMatrixDisplay\n",
    "\n",
    "from warnings import simplefilter\n",
    "# ignore all future warnings\n",
    "simplefilter(action='ignore', category=FutureWarning)\n",
    "\n",
    "\n",
    "# if __name__ == '__main__':\n",
    "# parser = argparse.ArgumentParser(description='Define the UDA parameters')\n",
    "#\n",
    "# parser.add_argument('--gpu_ids', type=str, default=\"7\", help='GPU IDs')\n",
    "# parser.add_argument('--lr', type=float, default=3.5e-4, help='Learning Rate')\n",
    "# parser.add_argument('--P', type=int, default=16, help='Number of Persons')\n",
    "# parser.add_argument('--K', type=int, default=4, help='Number of samples per person')\n",
    "# parser.add_argument('--tau', type=float, default=0.05, help='tau value used on softmax triplet loss')\n",
    "# parser.add_argument('--beta', type=float, default=0.999, help='beta used on self-Ensembling')\n",
    "# parser.add_argument('--k1', type=int, default=30, help='k on k-Reciprocal Encoding')\n",
    "# parser.add_argument('--sampling', type=str, default=\"mean\", help='Mean or Random feature vectors to be prototype')\n",
    "# parser.add_argument('--lambda_hard', type=float, default=0.5, help='tuning prameter of Softmax Triplet Loss')\n",
    "# parser.add_argument('--num_iter', type=int, default=400, help='Number of iterations on an epoch')\n",
    "# parser.add_argument('--momentum_on_feature_extraction', type=int, default=0,\n",
    "# help='If it is the momentum used on feature extraction')\n",
    "# parser.add_argument('--target', type=str, help='Name of target dataset')\n",
    "# parser.add_argument('--path_to_save_models', type=str, help='Path to save models')\n",
    "# parser.add_argument('--path_to_save_metrics', type=str, help='Path to save metrics (mAP, CMC, ...)')\n",
    "# parser.add_argument('--version', type=str, help='Path to save models')\n",
    "# parser.add_argument('--eval_freq', type=int, help='Evaluation Frequency along training')\n",
    "\n",
    "# args = parser.parse_args()\n",
    "# gpu_ids = args.gpu_ids\n",
    "# base_lr = args.lr\n",
    "# P = args.P\n",
    "# K = args.K\n",
    "\n",
    "# tau = args.tau\n",
    "# beta = args.beta\n",
    "# k1 = args.k1\n",
    "# sampling  = args.sampling\n",
    "#\n",
    "# lambda_hard = args.lambda_hard\n",
    "# number_of_iterations = args.num_iter\n",
    "# momentum_on_feature_extraction = bool(args.momentum_on_feature_extraction)\n",
    "# target = args.target\n",
    "# dir_to_save = args.path_to_save_models\n",
    "# dir_to_save_metrics = args.path_to_save_metrics\n",
    "# version = args.version\n",
    "# eval_freq = args.eval_freq\n",
    "# main.py --gpu_ids=0,1,2,3 --lr=3.5e-4 --P=16 --K=12 --tau=0.04 --beta=0.999 --k1=30 --sampling=mean --lambda_hard=0.5 --num_iter=7 --momentum_on_feature_extraction=0 --target=Duke --path_to_save_models=models --path_to_save_metrics=metrics --version=version_name --eval_freq=5\n",
    "\n",
    "import sys\n",
    "import os\n",
    "import pandas as pd\n",
    "\n",
    "from IPython.display import display, Image\n",
    "\n",
    "from IPython.display import display, HTML\n",
    "from bs4 import BeautifulSoup\n",
    "\n",
    "\n",
    "# Função para exibir a imagem usando HTML\n",
    "def exibir_imagem(imagem_path):\n",
    "    return f'<img src=\"{imagem_path}\" width=\"400\">'\n",
    "\n",
    "\n",
    "from metricas import *\n",
    "\n",
    "html_content= \"\"\n",
    "df = pd.DataFrame({\n",
    "    'k':[], \n",
    "    'lambda_hard':[],\n",
    "    'modelo':[],\n",
    "    'matriz_confusao':[], \n",
    "    'Acuracia':[], \n",
    "    'Precisao':[],\n",
    "    'Recall':[],\n",
    "    'F1-score':[],\n",
    "    'Grafico':[],\n",
    "    'Tipo':[]\n",
    "    })\n",
    "\n",
    "gpus = \"0,3,4\" \n",
    "for k in [4]:\n",
    "    for lambda_hard in [ 0.0 ]:\n",
    "                \n",
    "        print(f\"**** inicio do teste com ruido em k:{k} e lambda_hard:{lambda_hard} ****\")\n",
    "        \n",
    "        version = f\"teste-04-ruido-norm-90epocas-MNETv3_{k}_{lambda_hard}\"\n",
    "        \n",
    "        main(gpu_ids=gpus,base_lr=3.5e-4,P=16,K=k,tau=0.04,beta=0.999,k1=30,sampling=\"random\",lambda_hard=lambda_hard,number_of_iterations=7,momentum_on_feature_extraction=0,target=\"Jadson\",dir_to_save=\"models\",dir_to_save_metrics=\"metrics\",version=version,eval_freq=5,use_ruido=True)\n",
    "        \n",
    "        for metodo in models_name + [\"mean\"]:\n",
    "            metricas_t, metricas_v, rotulos_t, rotulos_v = metricas(k=k, lambda_hard=lambda_hard, modelo=metodo)\n",
    "            linha = {\n",
    "                'k':            [k], \n",
    "                'lambda_hard':  [lambda_hard],\n",
    "                'modelo':       [metodo],\n",
    "                'Tipo':         'Test'\n",
    "            }\n",
    "            for count in range( 0, metricas_t.shape[0] ):\n",
    "                for m in range( 0, metricas_t.shape[1] ):\n",
    "                    linha[rotulos_t[m]] = metricas_t[count][m]\n",
    "                    \n",
    "                \n",
    "                linha['matriz_confusao'] = f'resultados/MC_{k}_{lambda_hard}_{count}_{metodo}_test.png'\n",
    "                linha['Grafico'] = f'resultados/grafico_{k}_{lambda_hard}_{count}_{metodo}_test.png'\n",
    "                df = pd.concat( [df, pd.DataFrame(linha)], axis=0)\n",
    "             \n",
    "            linha = {\n",
    "               'k':             [k], \n",
    "               'lambda_hard':   [lambda_hard],\n",
    "               'modelo':        [metodo],\n",
    "               'Tipo':          'Valid'\n",
    "             }\n",
    "            for count in range( 0, metricas_v.shape[0] ):\n",
    "                for m in range( 0, metricas_v.shape[1] ):\n",
    "                    linha[rotulos_v[m]] = metricas_v[count][m] \n",
    "               \n",
    "                linha['Grafico'] = f'resultados/grafico_{k}_{lambda_hard}_{count}_{metodo}_valid.png'\n",
    "                linha['matriz_confusao'] = f'resultados/MC_{k}_{lambda_hard}_{count}_{metodo}_valid.png' \n",
    "                df = pd.concat( [df, pd.DataFrame(linha)], axis=0)\n",
    "        \n",
    "        # Aplicar a função à coluna 'imagem' e criar uma nova coluna 'imagem_exibicao'\n",
    "        df['MC'] = df['matriz_confusao'].apply(exibir_imagem)\n",
    "        df['GR'] = df['Grafico'].apply(exibir_imagem)\n",
    "        \n",
    "        html_content = df[['k', \n",
    "                           'lambda_hard', \n",
    "                           'Tipo', \n",
    "                           'modelo'] + \n",
    "                           rotulos_v[:8] + \n",
    "                           ['MC', \n",
    "                           'GR']].to_html(escape=False, index=False)\n",
    "        # salvando df em arquivo html\n",
    "        # Use BeautifulSoup para formatar o HTML\n",
    "        soup = BeautifulSoup(html_content, 'html.parser')\n",
    "        formatted_html = soup.prettify()\n",
    "        \n",
    "        # Salve o HTML em um arquivo\n",
    "        head = \"<!DOCTYPE html>\\n<html lang='pt-br'>\\n<head>\\n  <meta charset='UTF-8'>\\n  <meta name='viewport' content='width=device-width, initial-scale=1.0'>\\n  <style>\\n    table {\\n      width: 100%;\\n      border-collapse: collapse;\\n    }\\n    th, td {\\n      border: 1px solid #ddd;\\n      padding: 8px;\\n      text-align: left;\\n    }\\n    th {\\n      background-color: #f2f2f2;\\n    }\\n    thead th {\\n      position: sticky;\\n      top: 0;\\n      z-index: 1;\\n      background-color: #f2f2f2;    }\\n  </style>\\n    <title>Relatório Parcial</title>\\n</head>\\n<body>\"\n",
    "        with open('relatorio-APCER-BPCER-ACER-silhouette-ward-90epocas-ruido-norm-MNETv3.html', 'w', encoding='utf-8') as file:\n",
    "            file.write(head)\n",
    "            file.write(formatted_html)\n",
    "            file.write('</body></html>')"
   ]
  },
  {
   "cell_type": "code",
   "execution_count": 2,
   "metadata": {
    "execution": {
     "iopub.execute_input": "2024-04-21T01:48:29.340909Z",
     "iopub.status.busy": "2024-04-21T01:48:29.340213Z",
     "iopub.status.idle": "2024-04-21T01:48:29.357721Z",
     "shell.execute_reply": "2024-04-21T01:48:29.357003Z"
    }
   },
   "outputs": [
    {
     "data": {
      "text/html": [
       "<table border=\"1\" class=\"dataframe\">\n",
       "  <thead>\n",
       "    <tr style=\"text-align: right;\">\n",
       "      <th>k</th>\n",
       "      <th>lambda_hard</th>\n",
       "      <th>Tipo</th>\n",
       "      <th>modelo</th>\n",
       "      <th>ACCURACY</th>\n",
       "      <th>PRECISION</th>\n",
       "      <th>RECALL</th>\n",
       "      <th>F1_SCORE</th>\n",
       "      <th>APCER</th>\n",
       "      <th>BPCER</th>\n",
       "      <th>ACER</th>\n",
       "      <th>SILHOUETTE</th>\n",
       "      <th>MC</th>\n",
       "      <th>GR</th>\n",
       "    </tr>\n",
       "  </thead>\n",
       "  <tbody>\n",
       "    <tr>\n",
       "      <td>4.0</td>\n",
       "      <td>0.0</td>\n",
       "      <td>Test</td>\n",
       "      <td>mobilenet</td>\n",
       "      <td>0.435125</td>\n",
       "      <td>0.749403</td>\n",
       "      <td>0.441563</td>\n",
       "      <td>0.555698</td>\n",
       "      <td>0.558438</td>\n",
       "      <td>0.590625</td>\n",
       "      <td>0.574531</td>\n",
       "      <td>0.590921</td>\n",
       "      <td><img src=\"resultados/MC_4_0.0_0_mobilenet_test.png\" width=\"400\"></td>\n",
       "      <td><img src=\"resultados/grafico_4_0.0_0_mobilenet_test.png\" width=\"400\"></td>\n",
       "    </tr>\n",
       "    <tr>\n",
       "      <td>4.0</td>\n",
       "      <td>0.0</td>\n",
       "      <td>Valid</td>\n",
       "      <td>mobilenet</td>\n",
       "      <td>0.493958</td>\n",
       "      <td>0.839020</td>\n",
       "      <td>0.454688</td>\n",
       "      <td>0.589765</td>\n",
       "      <td>0.545312</td>\n",
       "      <td>0.348958</td>\n",
       "      <td>0.447135</td>\n",
       "      <td>0.602084</td>\n",
       "      <td><img src=\"resultados/MC_4_0.0_0_mobilenet_valid.png\" width=\"400\"></td>\n",
       "      <td><img src=\"resultados/grafico_4_0.0_0_mobilenet_valid.png\" width=\"400\"></td>\n",
       "    </tr>\n",
       "    <tr>\n",
       "      <td>4.0</td>\n",
       "      <td>0.0</td>\n",
       "      <td>Test</td>\n",
       "      <td>vgg16</td>\n",
       "      <td>0.616625</td>\n",
       "      <td>0.790348</td>\n",
       "      <td>0.708802</td>\n",
       "      <td>0.747357</td>\n",
       "      <td>0.291198</td>\n",
       "      <td>0.752083</td>\n",
       "      <td>0.521641</td>\n",
       "      <td>0.574921</td>\n",
       "      <td><img src=\"resultados/MC_4_0.0_0_vgg16_test.png\" width=\"400\"></td>\n",
       "      <td><img src=\"resultados/grafico_4_0.0_0_vgg16_test.png\" width=\"400\"></td>\n",
       "    </tr>\n",
       "    <tr>\n",
       "      <td>4.0</td>\n",
       "      <td>0.0</td>\n",
       "      <td>Valid</td>\n",
       "      <td>vgg16</td>\n",
       "      <td>0.454271</td>\n",
       "      <td>0.881049</td>\n",
       "      <td>0.367448</td>\n",
       "      <td>0.518607</td>\n",
       "      <td>0.632552</td>\n",
       "      <td>0.198437</td>\n",
       "      <td>0.415495</td>\n",
       "      <td>0.628833</td>\n",
       "      <td><img src=\"resultados/MC_4_0.0_0_vgg16_valid.png\" width=\"400\"></td>\n",
       "      <td><img src=\"resultados/grafico_4_0.0_0_vgg16_valid.png\" width=\"400\"></td>\n",
       "    </tr>\n",
       "    <tr>\n",
       "      <td>4.0</td>\n",
       "      <td>0.0</td>\n",
       "      <td>Test</td>\n",
       "      <td>resnet50</td>\n",
       "      <td>0.445250</td>\n",
       "      <td>0.740953</td>\n",
       "      <td>0.471354</td>\n",
       "      <td>0.576176</td>\n",
       "      <td>0.528646</td>\n",
       "      <td>0.659167</td>\n",
       "      <td>0.593906</td>\n",
       "      <td>0.572537</td>\n",
       "      <td><img src=\"resultados/MC_4_0.0_0_resnet50_test.png\" width=\"400\"></td>\n",
       "      <td><img src=\"resultados/grafico_4_0.0_0_resnet50_test.png\" width=\"400\"></td>\n",
       "    </tr>\n",
       "    <tr>\n",
       "      <td>4.0</td>\n",
       "      <td>0.0</td>\n",
       "      <td>Valid</td>\n",
       "      <td>resnet50</td>\n",
       "      <td>0.628542</td>\n",
       "      <td>0.760974</td>\n",
       "      <td>0.780990</td>\n",
       "      <td>0.770852</td>\n",
       "      <td>0.219010</td>\n",
       "      <td>0.981250</td>\n",
       "      <td>0.600130</td>\n",
       "      <td>0.678851</td>\n",
       "      <td><img src=\"resultados/MC_4_0.0_0_resnet50_valid.png\" width=\"400\"></td>\n",
       "      <td><img src=\"resultados/grafico_4_0.0_0_resnet50_valid.png\" width=\"400\"></td>\n",
       "    </tr>\n",
       "    <tr>\n",
       "      <td>4.0</td>\n",
       "      <td>0.0</td>\n",
       "      <td>Test</td>\n",
       "      <td>osnet</td>\n",
       "      <td>0.554750</td>\n",
       "      <td>0.796779</td>\n",
       "      <td>0.595260</td>\n",
       "      <td>0.681433</td>\n",
       "      <td>0.404740</td>\n",
       "      <td>0.607292</td>\n",
       "      <td>0.506016</td>\n",
       "      <td>0.608393</td>\n",
       "      <td><img src=\"resultados/MC_4_0.0_0_osnet_test.png\" width=\"400\"></td>\n",
       "      <td><img src=\"resultados/grafico_4_0.0_0_osnet_test.png\" width=\"400\"></td>\n",
       "    </tr>\n",
       "    <tr>\n",
       "      <td>4.0</td>\n",
       "      <td>0.0</td>\n",
       "      <td>Valid</td>\n",
       "      <td>osnet</td>\n",
       "      <td>0.702187</td>\n",
       "      <td>0.798736</td>\n",
       "      <td>0.839193</td>\n",
       "      <td>0.818465</td>\n",
       "      <td>0.160807</td>\n",
       "      <td>0.845833</td>\n",
       "      <td>0.503320</td>\n",
       "      <td>0.701304</td>\n",
       "      <td><img src=\"resultados/MC_4_0.0_0_osnet_valid.png\" width=\"400\"></td>\n",
       "      <td><img src=\"resultados/grafico_4_0.0_0_osnet_valid.png\" width=\"400\"></td>\n",
       "    </tr>\n",
       "    <tr>\n",
       "      <td>4.0</td>\n",
       "      <td>0.0</td>\n",
       "      <td>Test</td>\n",
       "      <td>densenet121</td>\n",
       "      <td>0.572208</td>\n",
       "      <td>0.793791</td>\n",
       "      <td>0.628542</td>\n",
       "      <td>0.701567</td>\n",
       "      <td>0.371458</td>\n",
       "      <td>0.653125</td>\n",
       "      <td>0.512292</td>\n",
       "      <td>0.564659</td>\n",
       "      <td><img src=\"resultados/MC_4_0.0_0_densenet121_test.png\" width=\"400\"></td>\n",
       "      <td><img src=\"resultados/grafico_4_0.0_0_densenet121_test.png\" width=\"400\"></td>\n",
       "    </tr>\n",
       "    <tr>\n",
       "      <td>4.0</td>\n",
       "      <td>0.0</td>\n",
       "      <td>Valid</td>\n",
       "      <td>densenet121</td>\n",
       "      <td>0.606146</td>\n",
       "      <td>0.757020</td>\n",
       "      <td>0.747656</td>\n",
       "      <td>0.752309</td>\n",
       "      <td>0.252344</td>\n",
       "      <td>0.959896</td>\n",
       "      <td>0.606120</td>\n",
       "      <td>0.620710</td>\n",
       "      <td><img src=\"resultados/MC_4_0.0_0_densenet121_valid.png\" width=\"400\"></td>\n",
       "      <td><img src=\"resultados/grafico_4_0.0_0_densenet121_valid.png\" width=\"400\"></td>\n",
       "    </tr>\n",
       "    <tr>\n",
       "      <td>4.0</td>\n",
       "      <td>0.0</td>\n",
       "      <td>Test</td>\n",
       "      <td>mean</td>\n",
       "      <td>0.374000</td>\n",
       "      <td>0.746692</td>\n",
       "      <td>0.329167</td>\n",
       "      <td>0.456912</td>\n",
       "      <td>0.670833</td>\n",
       "      <td>0.446667</td>\n",
       "      <td>0.558750</td>\n",
       "      <td>0.582286</td>\n",
       "      <td><img src=\"resultados/MC_4_0.0_0_mean_test.png\" width=\"400\"></td>\n",
       "      <td><img src=\"resultados/grafico_4_0.0_0_mean_test.png\" width=\"400\"></td>\n",
       "    </tr>\n",
       "    <tr>\n",
       "      <td>4.0</td>\n",
       "      <td>0.0</td>\n",
       "      <td>Valid</td>\n",
       "      <td>mean</td>\n",
       "      <td>0.437708</td>\n",
       "      <td>0.900632</td>\n",
       "      <td>0.333984</td>\n",
       "      <td>0.487272</td>\n",
       "      <td>0.666016</td>\n",
       "      <td>0.147396</td>\n",
       "      <td>0.406706</td>\n",
       "      <td>0.646357</td>\n",
       "      <td><img src=\"resultados/MC_4_0.0_0_mean_valid.png\" width=\"400\"></td>\n",
       "      <td><img src=\"resultados/grafico_4_0.0_0_mean_valid.png\" width=\"400\"></td>\n",
       "    </tr>\n",
       "  </tbody>\n",
       "</table>"
      ],
      "text/plain": [
       "<IPython.core.display.HTML object>"
      ]
     },
     "metadata": {},
     "output_type": "display_data"
    },
    {
     "name": "stdout",
     "output_type": "stream",
     "text": [
      "     k  lambda_hard       modelo                              matriz_confusao  \\\n",
      "0  4.0          0.0    mobilenet     resultados/MC_4_0.0_0_mobilenet_test.png   \n",
      "0  4.0          0.0    mobilenet    resultados/MC_4_0.0_0_mobilenet_valid.png   \n",
      "0  4.0          0.0        vgg16         resultados/MC_4_0.0_0_vgg16_test.png   \n",
      "0  4.0          0.0        vgg16        resultados/MC_4_0.0_0_vgg16_valid.png   \n",
      "0  4.0          0.0     resnet50      resultados/MC_4_0.0_0_resnet50_test.png   \n",
      "0  4.0          0.0     resnet50     resultados/MC_4_0.0_0_resnet50_valid.png   \n",
      "0  4.0          0.0        osnet         resultados/MC_4_0.0_0_osnet_test.png   \n",
      "0  4.0          0.0        osnet        resultados/MC_4_0.0_0_osnet_valid.png   \n",
      "0  4.0          0.0  densenet121   resultados/MC_4_0.0_0_densenet121_test.png   \n",
      "0  4.0          0.0  densenet121  resultados/MC_4_0.0_0_densenet121_valid.png   \n",
      "0  4.0          0.0         mean          resultados/MC_4_0.0_0_mean_test.png   \n",
      "0  4.0          0.0         mean         resultados/MC_4_0.0_0_mean_valid.png   \n",
      "\n",
      "   Acuracia  Precisao  Recall  F1-score  \\\n",
      "0       NaN       NaN     NaN       NaN   \n",
      "0       NaN       NaN     NaN       NaN   \n",
      "0       NaN       NaN     NaN       NaN   \n",
      "0       NaN       NaN     NaN       NaN   \n",
      "0       NaN       NaN     NaN       NaN   \n",
      "0       NaN       NaN     NaN       NaN   \n",
      "0       NaN       NaN     NaN       NaN   \n",
      "0       NaN       NaN     NaN       NaN   \n",
      "0       NaN       NaN     NaN       NaN   \n",
      "0       NaN       NaN     NaN       NaN   \n",
      "0       NaN       NaN     NaN       NaN   \n",
      "0       NaN       NaN     NaN       NaN   \n",
      "\n",
      "                                            Grafico   Tipo  ACCURACY  \\\n",
      "0     resultados/grafico_4_0.0_0_mobilenet_test.png   Test  0.435125   \n",
      "0    resultados/grafico_4_0.0_0_mobilenet_valid.png  Valid  0.493958   \n",
      "0         resultados/grafico_4_0.0_0_vgg16_test.png   Test  0.616625   \n",
      "0        resultados/grafico_4_0.0_0_vgg16_valid.png  Valid  0.454271   \n",
      "0      resultados/grafico_4_0.0_0_resnet50_test.png   Test  0.445250   \n",
      "0     resultados/grafico_4_0.0_0_resnet50_valid.png  Valid  0.628542   \n",
      "0         resultados/grafico_4_0.0_0_osnet_test.png   Test  0.554750   \n",
      "0        resultados/grafico_4_0.0_0_osnet_valid.png  Valid  0.702187   \n",
      "0   resultados/grafico_4_0.0_0_densenet121_test.png   Test  0.572208   \n",
      "0  resultados/grafico_4_0.0_0_densenet121_valid.png  Valid  0.606146   \n",
      "0          resultados/grafico_4_0.0_0_mean_test.png   Test  0.374000   \n",
      "0         resultados/grafico_4_0.0_0_mean_valid.png  Valid  0.437708   \n",
      "\n",
      "   PRECISION    RECALL  F1_SCORE     APCER     BPCER      ACER  SILHOUETTE  \\\n",
      "0   0.749403  0.441563  0.555698  0.558438  0.590625  0.574531    0.590921   \n",
      "0   0.839020  0.454688  0.589765  0.545312  0.348958  0.447135    0.602084   \n",
      "0   0.790348  0.708802  0.747357  0.291198  0.752083  0.521641    0.574921   \n",
      "0   0.881049  0.367448  0.518607  0.632552  0.198437  0.415495    0.628833   \n",
      "0   0.740953  0.471354  0.576176  0.528646  0.659167  0.593906    0.572537   \n",
      "0   0.760974  0.780990  0.770852  0.219010  0.981250  0.600130    0.678851   \n",
      "0   0.796779  0.595260  0.681433  0.404740  0.607292  0.506016    0.608393   \n",
      "0   0.798736  0.839193  0.818465  0.160807  0.845833  0.503320    0.701304   \n",
      "0   0.793791  0.628542  0.701567  0.371458  0.653125  0.512292    0.564659   \n",
      "0   0.757020  0.747656  0.752309  0.252344  0.959896  0.606120    0.620710   \n",
      "0   0.746692  0.329167  0.456912  0.670833  0.446667  0.558750    0.582286   \n",
      "0   0.900632  0.333984  0.487272  0.666016  0.147396  0.406706    0.646357   \n",
      "\n",
      "                                                  MC  \\\n",
      "0  <img src=\"resultados/MC_4_0.0_0_mobilenet_test...   \n",
      "0  <img src=\"resultados/MC_4_0.0_0_mobilenet_vali...   \n",
      "0  <img src=\"resultados/MC_4_0.0_0_vgg16_test.png...   \n",
      "0  <img src=\"resultados/MC_4_0.0_0_vgg16_valid.pn...   \n",
      "0  <img src=\"resultados/MC_4_0.0_0_resnet50_test....   \n",
      "0  <img src=\"resultados/MC_4_0.0_0_resnet50_valid...   \n",
      "0  <img src=\"resultados/MC_4_0.0_0_osnet_test.png...   \n",
      "0  <img src=\"resultados/MC_4_0.0_0_osnet_valid.pn...   \n",
      "0  <img src=\"resultados/MC_4_0.0_0_densenet121_te...   \n",
      "0  <img src=\"resultados/MC_4_0.0_0_densenet121_va...   \n",
      "0  <img src=\"resultados/MC_4_0.0_0_mean_test.png\"...   \n",
      "0  <img src=\"resultados/MC_4_0.0_0_mean_valid.png...   \n",
      "\n",
      "                                                  GR  \n",
      "0  <img src=\"resultados/grafico_4_0.0_0_mobilenet...  \n",
      "0  <img src=\"resultados/grafico_4_0.0_0_mobilenet...  \n",
      "0  <img src=\"resultados/grafico_4_0.0_0_vgg16_tes...  \n",
      "0  <img src=\"resultados/grafico_4_0.0_0_vgg16_val...  \n",
      "0  <img src=\"resultados/grafico_4_0.0_0_resnet50_...  \n",
      "0  <img src=\"resultados/grafico_4_0.0_0_resnet50_...  \n",
      "0  <img src=\"resultados/grafico_4_0.0_0_osnet_tes...  \n",
      "0  <img src=\"resultados/grafico_4_0.0_0_osnet_val...  \n",
      "0  <img src=\"resultados/grafico_4_0.0_0_densenet1...  \n",
      "0  <img src=\"resultados/grafico_4_0.0_0_densenet1...  \n",
      "0  <img src=\"resultados/grafico_4_0.0_0_mean_test...  \n",
      "0  <img src=\"resultados/grafico_4_0.0_0_mean_vali...  \n"
     ]
    }
   ],
   "source": [
    "# Exibir o DataFrame com as imagens\n",
    "display(HTML(html_content))\n",
    "print(df)"
   ]
  }
 ],
 "metadata": {
  "kernelspec": {
   "display_name": "Python 3",
   "language": "python",
   "name": "python3"
  },
  "language_info": {
   "codemirror_mode": {
    "name": "ipython",
    "version": 3
   },
   "file_extension": ".py",
   "mimetype": "text/x-python",
   "name": "python",
   "nbconvert_exporter": "python",
   "pygments_lexer": "ipython3",
   "version": "3.10.13"
  }
 },
 "nbformat": 4,
 "nbformat_minor": 2
}
