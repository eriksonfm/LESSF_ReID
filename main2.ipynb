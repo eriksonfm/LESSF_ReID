{
 "cells": [
  {
   "cell_type": "code",
   "execution_count": 1,
   "metadata": {
    "execution": {
     "iopub.execute_input": "2024-06-20T18:10:14.281405Z",
     "iopub.status.busy": "2024-06-20T18:10:14.280892Z",
     "iopub.status.idle": "2024-06-24T12:27:23.660553Z",
     "shell.execute_reply": "2024-06-24T12:27:23.659416Z"
    }
   },
   "outputs": [
    {
     "name": "stderr",
     "output_type": "stream",
     "text": [
      "/home/emorais/miniconda3/envs/myenv/lib/python3.10/site-packages/torchreid/reid/metrics/rank.py:11: UserWarning: Cython evaluation (very fast so highly recommended) is unavailable, now use python evaluation.\n",
      "  warnings.warn(\n",
      "/home/emorais/miniconda3/envs/myenv/lib/python3.10/site-packages/tqdm/auto.py:21: TqdmWarning: IProgress not found. Please update jupyter and ipywidgets. See https://ipywidgets.readthedocs.io/en/stable/user_install.html\n",
      "  from .autonotebook import tqdm as notebook_tqdm\n",
      "Special tokens have been added in the vocabulary, make sure the associated word embeddings are fine-tuned or trained.\n",
      "You are using the default legacy behaviour of the <class 'transformers.models.t5.tokenization_t5.T5Tokenizer'>. If you see this, DO NOT PANIC! This is expected, and simply means that the `legacy` (previous) behavior will be used so nothing changes for you. If you want to use the new behaviour, set `legacy=False`. This should only be set if you understand what it means, and thouroughly read the reason why this was added as explained in https://github.com/huggingface/transformers/pull/24565\n",
      "/home/emorais/repos/LESSF_ReID-working-hsv/DCNNs.py:18: UserWarning: Cython evaluation (very fast so highly recommended) is unavailable, now use python evaluation.\n",
      "  warnings.warn(\n"
     ]
    },
    {
     "name": "stdout",
     "output_type": "stream",
     "text": [
      "**** inicio do teste com ruido em k:4 e lambda_hard:0.0 ****\n",
      "Num GPU's: 3\n",
      "Allocated GPU's for model: [1, 2]\n"
     ]
    },
    {
     "name": "stderr",
     "output_type": "stream",
     "text": [
      "/home/emorais/miniconda3/envs/myenv/lib/python3.10/site-packages/torchvision/models/_utils.py:208: UserWarning: The parameter 'pretrained' is deprecated since 0.13 and may be removed in the future, please use 'weights' instead.\n",
      "  warnings.warn(\n",
      "/home/emorais/miniconda3/envs/myenv/lib/python3.10/site-packages/torchvision/models/_utils.py:223: UserWarning: Arguments other than a weight enum or `None` for 'weights' are deprecated since 0.13 and may be removed in the future. The current behavior is equivalent to passing `weights=EfficientNet_V2_M_Weights.IMAGENET1K_V1`. You can also use `weights=EfficientNet_V2_M_Weights.DEFAULT` to get the most up-to-date weights.\n",
      "  warnings.warn(msg)\n",
      "/home/emorais/miniconda3/envs/myenv/lib/python3.10/site-packages/torchvision/models/_utils.py:223: UserWarning: Arguments other than a weight enum or `None` for 'weights' are deprecated since 0.13 and may be removed in the future. The current behavior is equivalent to passing `weights=ConvNeXt_Base_Weights.IMAGENET1K_V1`. You can also use `weights=ConvNeXt_Base_Weights.DEFAULT` to get the most up-to-date weights.\n",
      "  warnings.warn(msg)\n",
      "/home/emorais/miniconda3/envs/myenv/lib/python3.10/site-packages/torchvision/models/_utils.py:223: UserWarning: Arguments other than a weight enum or `None` for 'weights' are deprecated since 0.13 and may be removed in the future. The current behavior is equivalent to passing `weights=MobileNet_V3_Large_Weights.IMAGENET1K_V1`. You can also use `weights=MobileNet_V3_Large_Weights.DEFAULT` to get the most up-to-date weights.\n",
      "  warnings.warn(msg)\n",
      "/home/emorais/miniconda3/envs/myenv/lib/python3.10/site-packages/torchvision/models/_utils.py:223: UserWarning: Arguments other than a weight enum or `None` for 'weights' are deprecated since 0.13 and may be removed in the future. The current behavior is equivalent to passing `weights=VGG16_Weights.IMAGENET1K_V1`. You can also use `weights=VGG16_Weights.DEFAULT` to get the most up-to-date weights.\n",
      "  warnings.warn(msg)\n",
      "/home/emorais/miniconda3/envs/myenv/lib/python3.10/site-packages/torchvision/models/_utils.py:223: UserWarning: Arguments other than a weight enum or `None` for 'weights' are deprecated since 0.13 and may be removed in the future. The current behavior is equivalent to passing `weights=ResNet50_Weights.IMAGENET1K_V1`. You can also use `weights=ResNet50_Weights.DEFAULT` to get the most up-to-date weights.\n",
      "  warnings.warn(msg)\n"
     ]
    },
    {
     "name": "stdout",
     "output_type": "stream",
     "text": [
      "Successfully loaded imagenet pretrained weights from \"/home/emorais/.cache/torch/checkpoints/osnet_x1_0_imagenet.pth\"\n",
      "Successfully loaded imagenet pretrained weights from \"/home/emorais/.cache/torch/checkpoints/osnet_x1_0_imagenet.pth\"\n"
     ]
    },
    {
     "name": "stderr",
     "output_type": "stream",
     "text": [
      "/home/emorais/miniconda3/envs/myenv/lib/python3.10/site-packages/torchvision/models/_utils.py:223: UserWarning: Arguments other than a weight enum or `None` for 'weights' are deprecated since 0.13 and may be removed in the future. The current behavior is equivalent to passing `weights=DenseNet121_Weights.IMAGENET1K_V1`. You can also use `weights=DenseNet121_Weights.DEFAULT` to get the most up-to-date weights.\n",
      "  warnings.warn(msg)\n"
     ]
    },
    {
     "name": "stdout",
     "output_type": "stream",
     "text": [
      "Training Size: (38400, 3)\n",
      "Gallery Size: (24000, 3)\n",
      "Query Size: (9600, 3)\n",
      "Validating efficientnet on Jadson ...\n",
      "Features extracted in 84.06 seconds\n",
      "Features extracted in 165.22 seconds\n",
      "Computing CMC and mAP ...\n",
      "** Results **\n",
      "mAP: 70.87%\n",
      "CMC curve\n",
      "Rank-1  : 79.28%\n",
      "Rank-5  : 94.49%\n",
      "Rank-10 : 97.39%\n",
      "Rank-20 : 99.07%\n",
      "Validating convnext on Jadson ...\n",
      "Features extracted in 94.57 seconds\n",
      "Features extracted in 167.53 seconds\n",
      "Computing CMC and mAP ...\n",
      "** Results **\n",
      "mAP: 70.39%\n",
      "CMC curve\n",
      "Rank-1  : 79.30%\n",
      "Rank-5  : 95.13%\n",
      "Rank-10 : 97.64%\n",
      "Rank-20 : 99.04%\n",
      "Validating mobilenet on Jadson ...\n",
      "Features extracted in 92.34 seconds\n",
      "Features extracted in 163.45 seconds\n",
      "Computing CMC and mAP ...\n",
      "** Results **\n",
      "mAP: 71.35%\n",
      "CMC curve\n",
      "Rank-1  : 83.36%\n",
      "Rank-5  : 95.14%\n",
      "Rank-10 : 97.68%\n",
      "Rank-20 : 99.19%\n",
      "Validating vgg16 on Jadson ...\n",
      "Features extracted in 93.54 seconds\n",
      "Features extracted in 167.85 seconds\n",
      "Computing CMC and mAP ...\n",
      "** Results **\n",
      "mAP: 71.33%\n",
      "CMC curve\n",
      "Rank-1  : 79.04%\n",
      "Rank-5  : 94.23%\n",
      "Rank-10 : 97.67%\n",
      "Rank-20 : 99.28%\n",
      "Validating resnet50 on Jadson ...\n",
      "Features extracted in 93.42 seconds\n",
      "Features extracted in 163.47 seconds\n",
      "Computing CMC and mAP ...\n",
      "** Results **\n",
      "mAP: 72.52%\n",
      "CMC curve\n",
      "Rank-1  : 86.62%\n",
      "Rank-5  : 96.68%\n",
      "Rank-10 : 98.59%\n",
      "Rank-20 : 99.55%\n",
      "Validating osnet on Jadson ...\n",
      "Features extracted in 92.24 seconds\n",
      "Features extracted in 169.10 seconds\n",
      "Computing CMC and mAP ...\n",
      "** Results **\n",
      "mAP: 72.47%\n",
      "CMC curve\n",
      "Rank-1  : 80.67%\n",
      "Rank-5  : 95.48%\n",
      "Rank-10 : 98.21%\n",
      "Rank-20 : 99.47%\n",
      "Validating densenet121 on Jadson ...\n",
      "Features extracted in 94.32 seconds\n",
      "Features extracted in 164.12 seconds\n",
      "Computing CMC and mAP ...\n",
      "** Results **\n",
      "mAP: 74.06%\n",
      "CMC curve\n",
      "Rank-1  : 85.30%\n",
      "Rank-5  : 96.40%\n",
      "Rank-10 : 98.46%\n",
      "Rank-20 : 99.44%\n",
      "Computing CMC and mAP ...\n",
      "** Results **\n",
      "mAP: 73.73%\n",
      "Ranks:\n",
      "Rank-1  : 86.96%\n",
      "Rank-5  : 96.65%\n",
      "Rank-10 : 98.43%\n",
      "###============ Iteration number 1/30 ============###\n",
      "Extracting Online Features for efficientnet ...\n",
      "Features extracted in 299.54 seconds\n",
      "Computing jaccard distance...\n"
     ]
    },
    {
     "name": "stderr",
     "output_type": "stream",
     "text": [
      "/home/emorais/repos/LESSF_ReID-working-hsv/faiss_utils.py:10: UserWarning: TypedStorage is deprecated. It will be removed in the future and UntypedStorage will be the only storage class. This should only matter to you if you are using storages directly.  To access UntypedStorage directly, use tensor.untyped_storage() instead of tensor.storage()\n",
      "  x.storage().data_ptr() + x.storage_offset() * 4)\n",
      "bruteForceKnn is deprecated; call bfKnn instead\n"
     ]
    },
    {
     "name": "stdout",
     "output_type": "stream",
     "text": [
      "Jaccard distance computing time cost: 560.2922787666321\n",
      "Extracting Online Features for convnext ...\n",
      "Features extracted in 289.74 seconds\n",
      "Computing jaccard distance...\n"
     ]
    },
    {
     "name": "stderr",
     "output_type": "stream",
     "text": [
      "bruteForceKnn is deprecated; call bfKnn instead\n"
     ]
    },
    {
     "name": "stdout",
     "output_type": "stream",
     "text": [
      "Jaccard distance computing time cost: 545.362425327301\n",
      "Extracting Online Features for mobilenet ...\n",
      "Features extracted in 290.30 seconds\n",
      "Computing jaccard distance...\n"
     ]
    },
    {
     "name": "stderr",
     "output_type": "stream",
     "text": [
      "bruteForceKnn is deprecated; call bfKnn instead\n"
     ]
    },
    {
     "name": "stdout",
     "output_type": "stream",
     "text": [
      "Jaccard distance computing time cost: 560.9594933986664\n",
      "Extracting Online Features for vgg16 ...\n",
      "Features extracted in 309.34 seconds\n",
      "Computing jaccard distance...\n"
     ]
    },
    {
     "name": "stderr",
     "output_type": "stream",
     "text": [
      "bruteForceKnn is deprecated; call bfKnn instead\n"
     ]
    },
    {
     "name": "stdout",
     "output_type": "stream",
     "text": [
      "Jaccard distance computing time cost: 560.6144335269928\n",
      "Extracting Online Features for resnet50 ...\n",
      "Features extracted in 302.49 seconds\n",
      "Computing jaccard distance...\n"
     ]
    },
    {
     "name": "stderr",
     "output_type": "stream",
     "text": [
      "bruteForceKnn is deprecated; call bfKnn instead\n"
     ]
    },
    {
     "name": "stdout",
     "output_type": "stream",
     "text": [
      "Jaccard distance computing time cost: 557.5779194831848\n",
      "Extracting Online Features for osnet ...\n",
      "Features extracted in 301.19 seconds\n",
      "Computing jaccard distance...\n"
     ]
    },
    {
     "name": "stderr",
     "output_type": "stream",
     "text": [
      "bruteForceKnn is deprecated; call bfKnn instead\n"
     ]
    },
    {
     "name": "stdout",
     "output_type": "stream",
     "text": [
      "Jaccard distance computing time cost: 561.2101359367371\n",
      "Extracting Online Features for densenet121 ...\n",
      "Features extracted in 301.80 seconds\n",
      "Computing jaccard distance...\n"
     ]
    },
    {
     "name": "stderr",
     "output_type": "stream",
     "text": [
      "bruteForceKnn is deprecated; call bfKnn instead\n"
     ]
    },
    {
     "name": "stdout",
     "output_type": "stream",
     "text": [
      "Jaccard distance computing time cost: 562.0734696388245\n",
      "Reliability: 0.983\n",
      "\u001b[32mMean Purity: 0.02628\u001b[0m\n",
      "\u001b[34mThere are 4 clusters with 4 cameras\u001b[0m\n",
      "\u001b[34mThere are 3 clusters with 5 cameras\u001b[0m\n",
      "\u001b[34mThere are 6 clusters with 6 cameras\u001b[0m\n",
      "\u001b[34mThere are 2 clusters with 7 cameras\u001b[0m\n",
      "\u001b[34mThere are 3 clusters with 10 cameras\u001b[0m\n",
      "\u001b[34mThere are 1 clusters with 11 cameras\u001b[0m\n",
      "\u001b[34mThere are 1 clusters with 12 cameras\u001b[0m\n",
      "\u001b[34mThere are 1 clusters with 16 cameras\u001b[0m\n",
      "\u001b[34mThere are 1 clusters with 17 cameras\u001b[0m\n",
      "\u001b[34mThere are 2 clusters with 18 cameras\u001b[0m\n",
      "\u001b[34mThere are 1 clusters with 20 cameras\u001b[0m\n",
      "\u001b[34mThere are 1 clusters with 21 cameras\u001b[0m\n",
      "\u001b[34mThere are 1 clusters with 25 cameras\u001b[0m\n",
      "\u001b[34mThere are 1 clusters with 28 cameras\u001b[0m\n",
      "\u001b[34mThere are 1 clusters with 29 cameras\u001b[0m\n",
      "\u001b[34mThere are 1 clusters with 39 cameras\u001b[0m\n",
      "\u001b[34mThere are 1 clusters with 41 cameras\u001b[0m\n",
      "\u001b[34mThere are 2 clusters with 44 cameras\u001b[0m\n",
      "\u001b[34mThere are 1 clusters with 47 cameras\u001b[0m\n",
      "\u001b[34mThere are 1 clusters with 48 cameras\u001b[0m\n",
      "\u001b[34mThere are 2 clusters with 50 cameras\u001b[0m\n",
      "\u001b[34mThere are 2 clusters with 52 cameras\u001b[0m\n",
      "\u001b[34mThere are 2 clusters with 53 cameras\u001b[0m\n",
      "\u001b[34mThere are 4 clusters with 55 cameras\u001b[0m\n",
      "\u001b[34mThere are 3 clusters with 56 cameras\u001b[0m\n",
      "\u001b[34mThere are 5 clusters with 57 cameras\u001b[0m\n",
      "\u001b[34mThere are 12 clusters with 58 cameras\u001b[0m\n",
      "\u001b[34mThere are 16 clusters with 59 cameras\u001b[0m\n",
      "\u001b[34mThere are 15 clusters with 60 cameras\u001b[0m\n",
      "\u001b[34mThere are 32 clusters with 61 cameras\u001b[0m\n",
      "\u001b[34mThere are 34 clusters with 62 cameras\u001b[0m\n",
      "\u001b[34mThere are 74 clusters with 63 cameras\u001b[0m\n",
      "\u001b[34mThere are 341 clusters with 64 cameras\u001b[0m\n",
      "\u001b[34mThere are 1 clusters with 101 cameras\u001b[0m\n",
      "\u001b[34mThere are 1 clusters with 108 cameras\u001b[0m\n",
      "\u001b[34mThere are 1 clusters with 115 cameras\u001b[0m\n",
      "\u001b[34mThere are 1 clusters with 120 cameras\u001b[0m\n",
      "\u001b[34mThere are 2 clusters with 121 cameras\u001b[0m\n",
      "\u001b[34mThere are 1 clusters with 123 cameras\u001b[0m\n",
      "\u001b[34mThere are 2 clusters with 124 cameras\u001b[0m\n",
      "\u001b[34mThere are 2 clusters with 126 cameras\u001b[0m\n",
      "\u001b[34mThere are 1 clusters with 127 cameras\u001b[0m\n",
      "\u001b[34mThere are 9 clusters with 128 cameras\u001b[0m\n",
      "\u001b[34mThere are 1 clusters with 133 cameras\u001b[0m\n",
      "\u001b[34mThere are 1 clusters with 189 cameras\u001b[0m\n",
      "\u001b[34mThere are 1 clusters with 191 cameras\u001b[0m\n",
      "Number of classes: 601\n",
      "\u001b[36mLearning Rate: 0.000070\u001b[0m\n",
      "\u001b[32mTraining efficientnet ...\u001b[0m\n",
      "Features extracted in 293.40 seconds\n",
      "\u001b[36mBatches computed: 37, Tau value: 0.040\u001b[0m\n",
      "\u001b[33mMean Loss: 6.3839655, Mean Center Loss: 6.3839655, Mean Hard Triplet Loss: 2.2241319\u001b[0m\n",
      "\u001b[5m\u001b[34mPercetage of correct triplets: 0.29\u001b[0m\n",
      "Features extracted in 298.13 seconds\n",
      "\u001b[36mBatches computed: 74, Tau value: 0.040\u001b[0m\n",
      "\u001b[33mMean Loss: 5.0377433, Mean Center Loss: 5.0377433, Mean Hard Triplet Loss: 2.9266579\u001b[0m\n",
      "\u001b[5m\u001b[34mPercetage of correct triplets: 0.26\u001b[0m\n",
      "Features extracted in 298.69 seconds\n",
      "\u001b[36mBatches computed: 111, Tau value: 0.040\u001b[0m\n",
      "\u001b[33mMean Loss: 3.9658901, Mean Center Loss: 3.9658901, Mean Hard Triplet Loss: 2.1616131\u001b[0m\n",
      "\u001b[5m\u001b[34mPercetage of correct triplets: 0.25\u001b[0m\n",
      "Features extracted in 286.54 seconds\n",
      "\u001b[36mBatches computed: 148, Tau value: 0.040\u001b[0m\n",
      "\u001b[33mMean Loss: 2.8820906, Mean Center Loss: 2.8820906, Mean Hard Triplet Loss: 1.5745963\u001b[0m\n",
      "\u001b[5m\u001b[34mPercetage of correct triplets: 0.22\u001b[0m\n",
      "Features extracted in 303.42 seconds\n",
      "\u001b[36mBatches computed: 185, Tau value: 0.040\u001b[0m\n",
      "\u001b[33mMean Loss: 2.3277620, Mean Center Loss: 2.3277620, Mean Hard Triplet Loss: 1.2181093\u001b[0m\n",
      "\u001b[5m\u001b[34mPercetage of correct triplets: 0.23\u001b[0m\n",
      "Features extracted in 295.33 seconds\n",
      "\u001b[36mBatches computed: 222, Tau value: 0.040\u001b[0m\n",
      "\u001b[33mMean Loss: 1.8473745, Mean Center Loss: 1.8473745, Mean Hard Triplet Loss: 0.8932424\u001b[0m\n",
      "\u001b[5m\u001b[34mPercetage of correct triplets: 0.23\u001b[0m\n",
      "Features extracted in 307.74 seconds\n",
      "\u001b[36mBatches computed: 259, Tau value: 0.040\u001b[0m\n",
      "\u001b[33mMean Loss: 1.6254961, Mean Center Loss: 1.6254961, Mean Hard Triplet Loss: 0.7046033\u001b[0m\n",
      "\u001b[5m\u001b[34mPercetage of correct triplets: 0.21\u001b[0m\n",
      "não encontrou modelos efficientnet. Treinando...\n",
      "\u001b[32mTraining convnext ...\u001b[0m\n",
      "Features extracted in 303.51 seconds\n",
      "\u001b[36mBatches computed: 37, Tau value: 0.040\u001b[0m\n",
      "\u001b[33mMean Loss: 5.3018359, Mean Center Loss: 5.3018359, Mean Hard Triplet Loss: 2.6484146\u001b[0m\n",
      "\u001b[5m\u001b[34mPercetage of correct triplets: 0.25\u001b[0m\n",
      "Features extracted in 294.55 seconds\n",
      "\u001b[36mBatches computed: 74, Tau value: 0.040\u001b[0m\n",
      "\u001b[33mMean Loss: 3.5138638, Mean Center Loss: 3.5138638, Mean Hard Triplet Loss: 1.7003624\u001b[0m\n",
      "\u001b[5m\u001b[34mPercetage of correct triplets: 0.24\u001b[0m\n",
      "Features extracted in 301.52 seconds\n",
      "\u001b[36mBatches computed: 111, Tau value: 0.040\u001b[0m\n",
      "\u001b[33mMean Loss: 2.1929254, Mean Center Loss: 2.1929254, Mean Hard Triplet Loss: 1.1072348\u001b[0m\n",
      "\u001b[5m\u001b[34mPercetage of correct triplets: 0.23\u001b[0m\n",
      "Features extracted in 295.39 seconds\n",
      "\u001b[36mBatches computed: 148, Tau value: 0.040\u001b[0m\n",
      "\u001b[33mMean Loss: 1.7558057, Mean Center Loss: 1.7558057, Mean Hard Triplet Loss: 0.9505852\u001b[0m\n",
      "\u001b[5m\u001b[34mPercetage of correct triplets: 0.23\u001b[0m\n",
      "Features extracted in 297.80 seconds\n",
      "\u001b[36mBatches computed: 185, Tau value: 0.040\u001b[0m\n",
      "\u001b[33mMean Loss: 1.4943892, Mean Center Loss: 1.4943892, Mean Hard Triplet Loss: 0.7679687\u001b[0m\n",
      "\u001b[5m\u001b[34mPercetage of correct triplets: 0.21\u001b[0m\n",
      "Features extracted in 296.26 seconds\n",
      "\u001b[36mBatches computed: 222, Tau value: 0.040\u001b[0m\n",
      "\u001b[33mMean Loss: 1.2186699, Mean Center Loss: 1.2186699, Mean Hard Triplet Loss: 0.5758012\u001b[0m\n",
      "\u001b[5m\u001b[34mPercetage of correct triplets: 0.23\u001b[0m\n",
      "Features extracted in 304.04 seconds\n",
      "\u001b[36mBatches computed: 259, Tau value: 0.040\u001b[0m\n",
      "\u001b[33mMean Loss: 1.0000914, Mean Center Loss: 1.0000914, Mean Hard Triplet Loss: 0.4464671\u001b[0m\n",
      "\u001b[5m\u001b[34mPercetage of correct triplets: 0.21\u001b[0m\n",
      "não encontrou modelos convnext. Treinando...\n",
      "\u001b[32mTraining mobilenet ...\u001b[0m\n",
      "Features extracted in 293.86 seconds\n",
      "\u001b[36mBatches computed: 37, Tau value: 0.040\u001b[0m\n",
      "\u001b[33mMean Loss: 5.5207245, Mean Center Loss: 5.5207245, Mean Hard Triplet Loss: 1.8190523\u001b[0m\n",
      "\u001b[5m\u001b[34mPercetage of correct triplets: 0.24\u001b[0m\n",
      "Features extracted in 297.44 seconds\n",
      "\u001b[36mBatches computed: 74, Tau value: 0.040\u001b[0m\n",
      "\u001b[33mMean Loss: 3.8294458, Mean Center Loss: 3.8294458, Mean Hard Triplet Loss: 1.8584668\u001b[0m\n",
      "\u001b[5m\u001b[34mPercetage of correct triplets: 0.22\u001b[0m\n",
      "Features extracted in 294.46 seconds\n",
      "\u001b[36mBatches computed: 111, Tau value: 0.040\u001b[0m\n",
      "\u001b[33mMean Loss: 2.9237089, Mean Center Loss: 2.9237089, Mean Hard Triplet Loss: 1.4002232\u001b[0m\n",
      "\u001b[5m\u001b[34mPercetage of correct triplets: 0.21\u001b[0m\n",
      "Features extracted in 298.75 seconds\n",
      "\u001b[36mBatches computed: 148, Tau value: 0.040\u001b[0m\n",
      "\u001b[33mMean Loss: 2.4290056, Mean Center Loss: 2.4290056, Mean Hard Triplet Loss: 1.1549192\u001b[0m\n",
      "\u001b[5m\u001b[34mPercetage of correct triplets: 0.24\u001b[0m\n",
      "Features extracted in 289.21 seconds\n",
      "\u001b[36mBatches computed: 185, Tau value: 0.040\u001b[0m\n",
      "\u001b[33mMean Loss: 2.0544701, Mean Center Loss: 2.0544701, Mean Hard Triplet Loss: 0.9906251\u001b[0m\n",
      "\u001b[5m\u001b[34mPercetage of correct triplets: 0.24\u001b[0m\n",
      "Features extracted in 296.70 seconds\n",
      "\u001b[36mBatches computed: 222, Tau value: 0.040\u001b[0m\n",
      "\u001b[33mMean Loss: 1.8017874, Mean Center Loss: 1.8017874, Mean Hard Triplet Loss: 0.8263267\u001b[0m\n",
      "\u001b[5m\u001b[34mPercetage of correct triplets: 0.22\u001b[0m\n",
      "Features extracted in 285.03 seconds\n",
      "\u001b[36mBatches computed: 259, Tau value: 0.040\u001b[0m\n",
      "\u001b[33mMean Loss: 1.7168585, Mean Center Loss: 1.7168585, Mean Hard Triplet Loss: 0.7460605\u001b[0m\n",
      "\u001b[5m\u001b[34mPercetage of correct triplets: 0.22\u001b[0m\n",
      "não encontrou modelos mobilenet. Treinando...\n",
      "\u001b[32mTraining vgg16 ...\u001b[0m\n",
      "Features extracted in 303.62 seconds\n",
      "\u001b[36mBatches computed: 37, Tau value: 0.040\u001b[0m\n",
      "\u001b[33mMean Loss: 4.1337522, Mean Center Loss: 4.1337522, Mean Hard Triplet Loss: 3.4194752\u001b[0m\n",
      "\u001b[5m\u001b[34mPercetage of correct triplets: 0.25\u001b[0m\n",
      "Features extracted in 294.51 seconds\n",
      "\u001b[36mBatches computed: 74, Tau value: 0.040\u001b[0m\n",
      "\u001b[33mMean Loss: 2.5553424, Mean Center Loss: 2.5553424, Mean Hard Triplet Loss: 2.0829675\u001b[0m\n",
      "\u001b[5m\u001b[34mPercetage of correct triplets: 0.24\u001b[0m\n",
      "Features extracted in 288.83 seconds\n",
      "\u001b[36mBatches computed: 111, Tau value: 0.040\u001b[0m\n",
      "\u001b[33mMean Loss: 1.9360801, Mean Center Loss: 1.9360801, Mean Hard Triplet Loss: 1.4292975\u001b[0m\n",
      "\u001b[5m\u001b[34mPercetage of correct triplets: 0.22\u001b[0m\n",
      "Features extracted in 289.34 seconds\n",
      "\u001b[36mBatches computed: 148, Tau value: 0.040\u001b[0m\n",
      "\u001b[33mMean Loss: 1.6274138, Mean Center Loss: 1.6274138, Mean Hard Triplet Loss: 1.0020198\u001b[0m\n",
      "\u001b[5m\u001b[34mPercetage of correct triplets: 0.23\u001b[0m\n",
      "Features extracted in 297.25 seconds\n",
      "\u001b[36mBatches computed: 185, Tau value: 0.040\u001b[0m\n",
      "\u001b[33mMean Loss: 1.4231587, Mean Center Loss: 1.4231587, Mean Hard Triplet Loss: 0.8797757\u001b[0m\n",
      "\u001b[5m\u001b[34mPercetage of correct triplets: 0.22\u001b[0m\n",
      "Features extracted in 291.89 seconds\n",
      "\u001b[36mBatches computed: 222, Tau value: 0.040\u001b[0m\n",
      "\u001b[33mMean Loss: 1.3387546, Mean Center Loss: 1.3387546, Mean Hard Triplet Loss: 0.7022677\u001b[0m\n",
      "\u001b[5m\u001b[34mPercetage of correct triplets: 0.22\u001b[0m\n",
      "Features extracted in 302.56 seconds\n",
      "\u001b[36mBatches computed: 259, Tau value: 0.040\u001b[0m\n",
      "\u001b[33mMean Loss: 1.1288559, Mean Center Loss: 1.1288559, Mean Hard Triplet Loss: 0.6686896\u001b[0m\n",
      "\u001b[5m\u001b[34mPercetage of correct triplets: 0.21\u001b[0m\n",
      "não encontrou modelos vgg16. Treinando...\n",
      "\u001b[32mTraining resnet50 ...\u001b[0m\n",
      "Features extracted in 290.53 seconds\n",
      "\u001b[36mBatches computed: 37, Tau value: 0.040\u001b[0m\n",
      "\u001b[33mMean Loss: 5.2537903, Mean Center Loss: 5.2537903, Mean Hard Triplet Loss: 3.1126253\u001b[0m\n",
      "\u001b[5m\u001b[34mPercetage of correct triplets: 0.23\u001b[0m\n",
      "Features extracted in 298.58 seconds\n",
      "\u001b[36mBatches computed: 74, Tau value: 0.040\u001b[0m\n",
      "\u001b[33mMean Loss: 2.7715821, Mean Center Loss: 2.7715821, Mean Hard Triplet Loss: 1.9204259\u001b[0m\n",
      "\u001b[5m\u001b[34mPercetage of correct triplets: 0.20\u001b[0m\n",
      "Features extracted in 291.12 seconds\n",
      "\u001b[36mBatches computed: 111, Tau value: 0.040\u001b[0m\n",
      "\u001b[33mMean Loss: 1.8152747, Mean Center Loss: 1.8152747, Mean Hard Triplet Loss: 1.0814371\u001b[0m\n",
      "\u001b[5m\u001b[34mPercetage of correct triplets: 0.21\u001b[0m\n",
      "Features extracted in 294.79 seconds\n",
      "\u001b[36mBatches computed: 148, Tau value: 0.040\u001b[0m\n",
      "\u001b[33mMean Loss: 1.4266921, Mean Center Loss: 1.4266921, Mean Hard Triplet Loss: 0.8690047\u001b[0m\n",
      "\u001b[5m\u001b[34mPercetage of correct triplets: 0.21\u001b[0m\n",
      "Features extracted in 294.62 seconds\n",
      "\u001b[36mBatches computed: 185, Tau value: 0.040\u001b[0m\n",
      "\u001b[33mMean Loss: 1.2177495, Mean Center Loss: 1.2177495, Mean Hard Triplet Loss: 0.6457850\u001b[0m\n",
      "\u001b[5m\u001b[34mPercetage of correct triplets: 0.23\u001b[0m\n",
      "Features extracted in 289.59 seconds\n",
      "\u001b[36mBatches computed: 222, Tau value: 0.040\u001b[0m\n",
      "\u001b[33mMean Loss: 1.0334620, Mean Center Loss: 1.0334620, Mean Hard Triplet Loss: 0.5789593\u001b[0m\n",
      "\u001b[5m\u001b[34mPercetage of correct triplets: 0.22\u001b[0m\n",
      "Features extracted in 293.59 seconds\n",
      "\u001b[36mBatches computed: 259, Tau value: 0.040\u001b[0m\n",
      "\u001b[33mMean Loss: 0.9391522, Mean Center Loss: 0.9391522, Mean Hard Triplet Loss: 0.4746137\u001b[0m\n",
      "\u001b[5m\u001b[34mPercetage of correct triplets: 0.21\u001b[0m\n",
      "não encontrou modelos resnet50. Treinando...\n",
      "\u001b[32mTraining osnet ...\u001b[0m\n",
      "Features extracted in 291.29 seconds\n",
      "\u001b[36mBatches computed: 37, Tau value: 0.040\u001b[0m\n",
      "\u001b[33mMean Loss: 5.6041592, Mean Center Loss: 5.6041592, Mean Hard Triplet Loss: 4.9206235\u001b[0m\n",
      "\u001b[5m\u001b[34mPercetage of correct triplets: 0.29\u001b[0m\n",
      "Features extracted in 291.21 seconds\n",
      "\u001b[36mBatches computed: 74, Tau value: 0.040\u001b[0m\n",
      "\u001b[33mMean Loss: 4.4607071, Mean Center Loss: 4.4607071, Mean Hard Triplet Loss: 3.6893276\u001b[0m\n",
      "\u001b[5m\u001b[34mPercetage of correct triplets: 0.27\u001b[0m\n",
      "Features extracted in 298.71 seconds\n",
      "\u001b[36mBatches computed: 111, Tau value: 0.040\u001b[0m\n",
      "\u001b[33mMean Loss: 3.5513840, Mean Center Loss: 3.5513840, Mean Hard Triplet Loss: 3.0088200\u001b[0m\n",
      "\u001b[5m\u001b[34mPercetage of correct triplets: 0.27\u001b[0m\n",
      "Features extracted in 294.69 seconds\n",
      "\u001b[36mBatches computed: 148, Tau value: 0.040\u001b[0m\n",
      "\u001b[33mMean Loss: 3.1613600, Mean Center Loss: 3.1613600, Mean Hard Triplet Loss: 2.6149542\u001b[0m\n",
      "\u001b[5m\u001b[34mPercetage of correct triplets: 0.24\u001b[0m\n",
      "Features extracted in 299.98 seconds\n",
      "\u001b[36mBatches computed: 185, Tau value: 0.040\u001b[0m\n",
      "\u001b[33mMean Loss: 2.9445181, Mean Center Loss: 2.9445181, Mean Hard Triplet Loss: 2.3316896\u001b[0m\n",
      "\u001b[5m\u001b[34mPercetage of correct triplets: 0.27\u001b[0m\n",
      "Features extracted in 300.48 seconds\n",
      "\u001b[36mBatches computed: 222, Tau value: 0.040\u001b[0m\n",
      "\u001b[33mMean Loss: 2.7638272, Mean Center Loss: 2.7638272, Mean Hard Triplet Loss: 2.1332671\u001b[0m\n",
      "\u001b[5m\u001b[34mPercetage of correct triplets: 0.23\u001b[0m\n",
      "Features extracted in 298.02 seconds\n",
      "\u001b[36mBatches computed: 259, Tau value: 0.040\u001b[0m\n",
      "\u001b[33mMean Loss: 2.5504331, Mean Center Loss: 2.5504331, Mean Hard Triplet Loss: 1.9256558\u001b[0m\n",
      "\u001b[5m\u001b[34mPercetage of correct triplets: 0.25\u001b[0m\n",
      "não encontrou modelos osnet. Treinando...\n",
      "\u001b[32mTraining densenet121 ...\u001b[0m\n",
      "Features extracted in 308.01 seconds\n",
      "\u001b[36mBatches computed: 37, Tau value: 0.040\u001b[0m\n",
      "\u001b[33mMean Loss: 4.9440905, Mean Center Loss: 4.9440905, Mean Hard Triplet Loss: 2.8983996\u001b[0m\n",
      "\u001b[5m\u001b[34mPercetage of correct triplets: 0.24\u001b[0m\n",
      "Features extracted in 293.71 seconds\n",
      "\u001b[36mBatches computed: 74, Tau value: 0.040\u001b[0m\n",
      "\u001b[33mMean Loss: 2.7591027, Mean Center Loss: 2.7591027, Mean Hard Triplet Loss: 2.1817335\u001b[0m\n",
      "\u001b[5m\u001b[34mPercetage of correct triplets: 0.21\u001b[0m\n",
      "Features extracted in 299.66 seconds\n",
      "\u001b[36mBatches computed: 111, Tau value: 0.040\u001b[0m\n",
      "\u001b[33mMean Loss: 2.1006194, Mean Center Loss: 2.1006194, Mean Hard Triplet Loss: 1.4515081\u001b[0m\n",
      "\u001b[5m\u001b[34mPercetage of correct triplets: 0.21\u001b[0m\n",
      "Features extracted in 296.13 seconds\n",
      "\u001b[36mBatches computed: 148, Tau value: 0.040\u001b[0m\n",
      "\u001b[33mMean Loss: 1.7333449, Mean Center Loss: 1.7333449, Mean Hard Triplet Loss: 1.2298342\u001b[0m\n",
      "\u001b[5m\u001b[34mPercetage of correct triplets: 0.22\u001b[0m\n",
      "Features extracted in 292.83 seconds\n",
      "\u001b[36mBatches computed: 185, Tau value: 0.040\u001b[0m\n",
      "\u001b[33mMean Loss: 1.5757871, Mean Center Loss: 1.5757871, Mean Hard Triplet Loss: 1.0060670\u001b[0m\n",
      "\u001b[5m\u001b[34mPercetage of correct triplets: 0.22\u001b[0m\n",
      "Features extracted in 295.85 seconds\n",
      "\u001b[36mBatches computed: 222, Tau value: 0.040\u001b[0m\n",
      "\u001b[33mMean Loss: 1.4026330, Mean Center Loss: 1.4026330, Mean Hard Triplet Loss: 0.8840645\u001b[0m\n",
      "\u001b[5m\u001b[34mPercetage of correct triplets: 0.18\u001b[0m\n",
      "Features extracted in 294.96 seconds\n",
      "\u001b[36mBatches computed: 259, Tau value: 0.040\u001b[0m\n",
      "\u001b[33mMean Loss: 1.2840981, Mean Center Loss: 1.2840981, Mean Hard Triplet Loss: 0.8280247\u001b[0m\n",
      "\u001b[5m\u001b[34mPercetage of correct triplets: 0.22\u001b[0m\n",
      "não encontrou modelos densenet121. Treinando...\n",
      "###============ Iteration number 2/30 ============###\n",
      "Extracting Online Features for efficientnet ...\n",
      "Features extracted in 307.69 seconds\n",
      "Computing jaccard distance...\n"
     ]
    },
    {
     "name": "stderr",
     "output_type": "stream",
     "text": [
      "bruteForceKnn is deprecated; call bfKnn instead\n"
     ]
    },
    {
     "name": "stdout",
     "output_type": "stream",
     "text": [
      "Jaccard distance computing time cost: 553.7716212272644\n",
      "Extracting Online Features for convnext ...\n",
      "Features extracted in 303.46 seconds\n",
      "Computing jaccard distance...\n"
     ]
    },
    {
     "name": "stderr",
     "output_type": "stream",
     "text": [
      "bruteForceKnn is deprecated; call bfKnn instead\n"
     ]
    },
    {
     "name": "stdout",
     "output_type": "stream",
     "text": [
      "Jaccard distance computing time cost: 535.2101619243622\n",
      "Extracting Online Features for mobilenet ...\n",
      "Features extracted in 299.21 seconds\n",
      "Computing jaccard distance...\n"
     ]
    },
    {
     "name": "stderr",
     "output_type": "stream",
     "text": [
      "bruteForceKnn is deprecated; call bfKnn instead\n"
     ]
    },
    {
     "name": "stdout",
     "output_type": "stream",
     "text": [
      "Jaccard distance computing time cost: 551.9729197025299\n",
      "Extracting Online Features for vgg16 ...\n",
      "Features extracted in 297.62 seconds\n",
      "Computing jaccard distance...\n"
     ]
    },
    {
     "name": "stderr",
     "output_type": "stream",
     "text": [
      "bruteForceKnn is deprecated; call bfKnn instead\n"
     ]
    },
    {
     "name": "stdout",
     "output_type": "stream",
     "text": [
      "Jaccard distance computing time cost: 558.5134882926941\n",
      "Extracting Online Features for resnet50 ...\n",
      "Features extracted in 293.24 seconds\n",
      "Computing jaccard distance...\n"
     ]
    },
    {
     "name": "stderr",
     "output_type": "stream",
     "text": [
      "bruteForceKnn is deprecated; call bfKnn instead\n"
     ]
    },
    {
     "name": "stdout",
     "output_type": "stream",
     "text": [
      "Jaccard distance computing time cost: 568.264196395874\n",
      "Extracting Online Features for osnet ...\n",
      "Features extracted in 296.23 seconds\n",
      "Computing jaccard distance...\n"
     ]
    },
    {
     "name": "stderr",
     "output_type": "stream",
     "text": [
      "bruteForceKnn is deprecated; call bfKnn instead\n"
     ]
    },
    {
     "name": "stdout",
     "output_type": "stream",
     "text": [
      "Jaccard distance computing time cost: 556.6324498653412\n",
      "Extracting Online Features for densenet121 ...\n",
      "Features extracted in 300.71 seconds\n",
      "Computing jaccard distance...\n"
     ]
    },
    {
     "name": "stderr",
     "output_type": "stream",
     "text": [
      "bruteForceKnn is deprecated; call bfKnn instead\n"
     ]
    },
    {
     "name": "stdout",
     "output_type": "stream",
     "text": [
      "Jaccard distance computing time cost: 550.0053896903992\n",
      "Reliability: 0.999\n",
      "\u001b[32mMean Purity: 0.00165\u001b[0m\n",
      "\u001b[34mThere are 1 clusters with 4 cameras\u001b[0m\n",
      "\u001b[34mThere are 4 clusters with 5 cameras\u001b[0m\n",
      "\u001b[34mThere are 1 clusters with 9 cameras\u001b[0m\n",
      "\u001b[34mThere are 1 clusters with 10 cameras\u001b[0m\n",
      "\u001b[34mThere are 2 clusters with 16 cameras\u001b[0m\n",
      "\u001b[34mThere are 1 clusters with 47 cameras\u001b[0m\n",
      "\u001b[34mThere are 1 clusters with 48 cameras\u001b[0m\n",
      "\u001b[34mThere are 1 clusters with 54 cameras\u001b[0m\n",
      "\u001b[34mThere are 1 clusters with 55 cameras\u001b[0m\n",
      "\u001b[34mThere are 4 clusters with 59 cameras\u001b[0m\n",
      "\u001b[34mThere are 1 clusters with 60 cameras\u001b[0m\n",
      "\u001b[34mThere are 11 clusters with 61 cameras\u001b[0m\n",
      "\u001b[34mThere are 4 clusters with 62 cameras\u001b[0m\n",
      "\u001b[34mThere are 8 clusters with 63 cameras\u001b[0m\n",
      "\u001b[34mThere are 562 clusters with 64 cameras\u001b[0m\n",
      "\u001b[34mThere are 1 clusters with 126 cameras\u001b[0m\n",
      "\u001b[34mThere are 2 clusters with 128 cameras\u001b[0m\n",
      "Number of classes: 606\n",
      "\u001b[36mLearning Rate: 0.000140\u001b[0m\n",
      "encontrou modelos efficientnet. Carregando...\n",
      "encontrou modelos convnext. Carregando...\n",
      "encontrou modelos mobilenet. Carregando...\n",
      "encontrou modelos vgg16. Carregando...\n",
      "encontrou modelos resnet50. Carregando...\n",
      "encontrou modelos osnet. Carregando...\n",
      "encontrou modelos densenet121. Carregando...\n",
      "###============ Iteration number 3/30 ============###\n",
      "Extracting Online Features for efficientnet ...\n",
      "Features extracted in 297.53 seconds\n",
      "Computing jaccard distance...\n"
     ]
    },
    {
     "name": "stderr",
     "output_type": "stream",
     "text": [
      "bruteForceKnn is deprecated; call bfKnn instead\n"
     ]
    },
    {
     "name": "stdout",
     "output_type": "stream",
     "text": [
      "Jaccard distance computing time cost: 543.6402232646942\n",
      "Extracting Online Features for convnext ...\n",
      "Features extracted in 304.47 seconds\n",
      "Computing jaccard distance...\n"
     ]
    },
    {
     "name": "stderr",
     "output_type": "stream",
     "text": [
      "bruteForceKnn is deprecated; call bfKnn instead\n"
     ]
    },
    {
     "name": "stdout",
     "output_type": "stream",
     "text": [
      "Jaccard distance computing time cost: 544.6139945983887\n",
      "Extracting Online Features for mobilenet ...\n",
      "Features extracted in 297.05 seconds\n",
      "Computing jaccard distance...\n"
     ]
    },
    {
     "name": "stderr",
     "output_type": "stream",
     "text": [
      "bruteForceKnn is deprecated; call bfKnn instead\n"
     ]
    },
    {
     "name": "stdout",
     "output_type": "stream",
     "text": [
      "Jaccard distance computing time cost: 555.9946160316467\n",
      "Extracting Online Features for vgg16 ...\n",
      "Features extracted in 296.45 seconds\n",
      "Computing jaccard distance...\n"
     ]
    },
    {
     "name": "stderr",
     "output_type": "stream",
     "text": [
      "bruteForceKnn is deprecated; call bfKnn instead\n"
     ]
    },
    {
     "name": "stdout",
     "output_type": "stream",
     "text": [
      "Jaccard distance computing time cost: 550.3155162334442\n",
      "Extracting Online Features for resnet50 ...\n",
      "Features extracted in 296.61 seconds\n",
      "Computing jaccard distance...\n"
     ]
    },
    {
     "name": "stderr",
     "output_type": "stream",
     "text": [
      "bruteForceKnn is deprecated; call bfKnn instead\n"
     ]
    },
    {
     "name": "stdout",
     "output_type": "stream",
     "text": [
      "Jaccard distance computing time cost: 561.2841560840607\n",
      "Extracting Online Features for osnet ...\n",
      "Features extracted in 305.18 seconds\n",
      "Computing jaccard distance...\n"
     ]
    },
    {
     "name": "stderr",
     "output_type": "stream",
     "text": [
      "bruteForceKnn is deprecated; call bfKnn instead\n"
     ]
    },
    {
     "name": "stdout",
     "output_type": "stream",
     "text": [
      "Jaccard distance computing time cost: 561.5871078968048\n",
      "Extracting Online Features for densenet121 ...\n",
      "Features extracted in 302.08 seconds\n",
      "Computing jaccard distance...\n"
     ]
    },
    {
     "name": "stderr",
     "output_type": "stream",
     "text": [
      "bruteForceKnn is deprecated; call bfKnn instead\n"
     ]
    },
    {
     "name": "stdout",
     "output_type": "stream",
     "text": [
      "Jaccard distance computing time cost: 557.7813632488251\n",
      "Reliability: 0.999\n",
      "\u001b[32mMean Purity: 0.00165\u001b[0m\n",
      "\u001b[34mThere are 1 clusters with 4 cameras\u001b[0m\n",
      "\u001b[34mThere are 4 clusters with 5 cameras\u001b[0m\n",
      "\u001b[34mThere are 1 clusters with 9 cameras\u001b[0m\n",
      "\u001b[34mThere are 1 clusters with 10 cameras\u001b[0m\n",
      "\u001b[34mThere are 2 clusters with 16 cameras\u001b[0m\n",
      "\u001b[34mThere are 1 clusters with 47 cameras\u001b[0m\n",
      "\u001b[34mThere are 1 clusters with 48 cameras\u001b[0m\n",
      "\u001b[34mThere are 1 clusters with 54 cameras\u001b[0m\n",
      "\u001b[34mThere are 1 clusters with 55 cameras\u001b[0m\n",
      "\u001b[34mThere are 4 clusters with 59 cameras\u001b[0m\n",
      "\u001b[34mThere are 1 clusters with 60 cameras\u001b[0m\n",
      "\u001b[34mThere are 11 clusters with 61 cameras\u001b[0m\n",
      "\u001b[34mThere are 4 clusters with 62 cameras\u001b[0m\n",
      "\u001b[34mThere are 8 clusters with 63 cameras\u001b[0m\n",
      "\u001b[34mThere are 562 clusters with 64 cameras\u001b[0m\n",
      "\u001b[34mThere are 1 clusters with 126 cameras\u001b[0m\n",
      "\u001b[34mThere are 2 clusters with 128 cameras\u001b[0m\n",
      "Number of classes: 606\n",
      "\u001b[36mLearning Rate: 0.000210\u001b[0m\n",
      "encontrou modelos efficientnet. Carregando...\n",
      "encontrou modelos convnext. Carregando...\n",
      "encontrou modelos mobilenet. Carregando...\n",
      "encontrou modelos vgg16. Carregando...\n",
      "encontrou modelos resnet50. Carregando...\n",
      "encontrou modelos osnet. Carregando...\n",
      "encontrou modelos densenet121. Carregando...\n",
      "###============ Iteration number 4/30 ============###\n",
      "Extracting Online Features for efficientnet ...\n",
      "Features extracted in 301.84 seconds\n",
      "Computing jaccard distance...\n"
     ]
    },
    {
     "name": "stderr",
     "output_type": "stream",
     "text": [
      "bruteForceKnn is deprecated; call bfKnn instead\n"
     ]
    },
    {
     "name": "stdout",
     "output_type": "stream",
     "text": [
      "Jaccard distance computing time cost: 558.4763145446777\n",
      "Extracting Online Features for convnext ...\n",
      "Features extracted in 298.69 seconds\n",
      "Computing jaccard distance...\n"
     ]
    },
    {
     "name": "stderr",
     "output_type": "stream",
     "text": [
      "bruteForceKnn is deprecated; call bfKnn instead\n"
     ]
    },
    {
     "name": "stdout",
     "output_type": "stream",
     "text": [
      "Jaccard distance computing time cost: 552.425062417984\n",
      "Extracting Online Features for mobilenet ...\n",
      "Features extracted in 291.72 seconds\n",
      "Computing jaccard distance...\n"
     ]
    },
    {
     "name": "stderr",
     "output_type": "stream",
     "text": [
      "bruteForceKnn is deprecated; call bfKnn instead\n"
     ]
    },
    {
     "name": "stdout",
     "output_type": "stream",
     "text": [
      "Jaccard distance computing time cost: 561.2537155151367\n",
      "Extracting Online Features for vgg16 ...\n",
      "Features extracted in 300.88 seconds\n",
      "Computing jaccard distance...\n"
     ]
    },
    {
     "name": "stderr",
     "output_type": "stream",
     "text": [
      "bruteForceKnn is deprecated; call bfKnn instead\n"
     ]
    },
    {
     "name": "stdout",
     "output_type": "stream",
     "text": [
      "Jaccard distance computing time cost: 554.298033952713\n",
      "Extracting Online Features for resnet50 ...\n",
      "Features extracted in 298.42 seconds\n",
      "Computing jaccard distance...\n"
     ]
    },
    {
     "name": "stderr",
     "output_type": "stream",
     "text": [
      "bruteForceKnn is deprecated; call bfKnn instead\n"
     ]
    },
    {
     "name": "stdout",
     "output_type": "stream",
     "text": [
      "Jaccard distance computing time cost: 555.6476819515228\n",
      "Extracting Online Features for osnet ...\n",
      "Features extracted in 290.50 seconds\n",
      "Computing jaccard distance...\n"
     ]
    },
    {
     "name": "stderr",
     "output_type": "stream",
     "text": [
      "bruteForceKnn is deprecated; call bfKnn instead\n"
     ]
    },
    {
     "name": "stdout",
     "output_type": "stream",
     "text": [
      "Jaccard distance computing time cost: 555.7834868431091\n",
      "Extracting Online Features for densenet121 ...\n",
      "Features extracted in 307.78 seconds\n",
      "Computing jaccard distance...\n"
     ]
    },
    {
     "name": "stderr",
     "output_type": "stream",
     "text": [
      "bruteForceKnn is deprecated; call bfKnn instead\n"
     ]
    },
    {
     "name": "stdout",
     "output_type": "stream",
     "text": [
      "Jaccard distance computing time cost: 566.7452511787415\n",
      "Reliability: 0.999\n",
      "\u001b[32mMean Purity: 0.00165\u001b[0m\n",
      "\u001b[34mThere are 1 clusters with 4 cameras\u001b[0m\n",
      "\u001b[34mThere are 4 clusters with 5 cameras\u001b[0m\n",
      "\u001b[34mThere are 1 clusters with 9 cameras\u001b[0m\n",
      "\u001b[34mThere are 1 clusters with 10 cameras\u001b[0m\n",
      "\u001b[34mThere are 2 clusters with 16 cameras\u001b[0m\n",
      "\u001b[34mThere are 1 clusters with 47 cameras\u001b[0m\n",
      "\u001b[34mThere are 1 clusters with 48 cameras\u001b[0m\n",
      "\u001b[34mThere are 1 clusters with 54 cameras\u001b[0m\n",
      "\u001b[34mThere are 1 clusters with 55 cameras\u001b[0m\n",
      "\u001b[34mThere are 4 clusters with 59 cameras\u001b[0m\n",
      "\u001b[34mThere are 1 clusters with 60 cameras\u001b[0m\n",
      "\u001b[34mThere are 11 clusters with 61 cameras\u001b[0m\n",
      "\u001b[34mThere are 4 clusters with 62 cameras\u001b[0m\n",
      "\u001b[34mThere are 8 clusters with 63 cameras\u001b[0m\n",
      "\u001b[34mThere are 562 clusters with 64 cameras\u001b[0m\n",
      "\u001b[34mThere are 1 clusters with 126 cameras\u001b[0m\n",
      "\u001b[34mThere are 2 clusters with 128 cameras\u001b[0m\n",
      "Number of classes: 606\n",
      "\u001b[36mLearning Rate: 0.000280\u001b[0m\n",
      "encontrou modelos efficientnet. Carregando...\n",
      "encontrou modelos convnext. Carregando...\n",
      "encontrou modelos mobilenet. Carregando...\n",
      "encontrou modelos vgg16. Carregando...\n",
      "encontrou modelos resnet50. Carregando...\n",
      "encontrou modelos osnet. Carregando...\n",
      "encontrou modelos densenet121. Carregando...\n",
      "###============ Iteration number 5/30 ============###\n",
      "Extracting Online Features for efficientnet ...\n",
      "Features extracted in 297.00 seconds\n",
      "Computing jaccard distance...\n"
     ]
    },
    {
     "name": "stderr",
     "output_type": "stream",
     "text": [
      "bruteForceKnn is deprecated; call bfKnn instead\n"
     ]
    },
    {
     "name": "stdout",
     "output_type": "stream",
     "text": [
      "Jaccard distance computing time cost: 545.5559842586517\n",
      "Extracting Online Features for convnext ...\n",
      "Features extracted in 301.11 seconds\n",
      "Computing jaccard distance...\n"
     ]
    },
    {
     "name": "stderr",
     "output_type": "stream",
     "text": [
      "bruteForceKnn is deprecated; call bfKnn instead\n"
     ]
    },
    {
     "name": "stdout",
     "output_type": "stream",
     "text": [
      "Jaccard distance computing time cost: 548.1916723251343\n",
      "Extracting Online Features for mobilenet ...\n",
      "Features extracted in 303.46 seconds\n",
      "Computing jaccard distance...\n"
     ]
    },
    {
     "name": "stderr",
     "output_type": "stream",
     "text": [
      "bruteForceKnn is deprecated; call bfKnn instead\n"
     ]
    },
    {
     "name": "stdout",
     "output_type": "stream",
     "text": [
      "Jaccard distance computing time cost: 553.9323921203613\n",
      "Extracting Online Features for vgg16 ...\n",
      "Features extracted in 305.10 seconds\n",
      "Computing jaccard distance...\n"
     ]
    },
    {
     "name": "stderr",
     "output_type": "stream",
     "text": [
      "bruteForceKnn is deprecated; call bfKnn instead\n"
     ]
    },
    {
     "name": "stdout",
     "output_type": "stream",
     "text": [
      "Jaccard distance computing time cost: 553.1191198825836\n",
      "Extracting Online Features for resnet50 ...\n",
      "Features extracted in 294.15 seconds\n",
      "Computing jaccard distance...\n"
     ]
    },
    {
     "name": "stderr",
     "output_type": "stream",
     "text": [
      "bruteForceKnn is deprecated; call bfKnn instead\n"
     ]
    },
    {
     "name": "stdout",
     "output_type": "stream",
     "text": [
      "Jaccard distance computing time cost: 557.8843493461609\n",
      "Extracting Online Features for osnet ...\n",
      "Features extracted in 292.76 seconds\n",
      "Computing jaccard distance...\n"
     ]
    },
    {
     "name": "stderr",
     "output_type": "stream",
     "text": [
      "bruteForceKnn is deprecated; call bfKnn instead\n"
     ]
    },
    {
     "name": "stdout",
     "output_type": "stream",
     "text": [
      "Jaccard distance computing time cost: 549.1354870796204\n",
      "Extracting Online Features for densenet121 ...\n",
      "Features extracted in 295.28 seconds\n",
      "Computing jaccard distance...\n"
     ]
    },
    {
     "name": "stderr",
     "output_type": "stream",
     "text": [
      "bruteForceKnn is deprecated; call bfKnn instead\n"
     ]
    },
    {
     "name": "stdout",
     "output_type": "stream",
     "text": [
      "Jaccard distance computing time cost: 558.3571543693542\n",
      "Reliability: 0.999\n",
      "\u001b[32mMean Purity: 0.00165\u001b[0m\n",
      "\u001b[34mThere are 1 clusters with 4 cameras\u001b[0m\n",
      "\u001b[34mThere are 4 clusters with 5 cameras\u001b[0m\n",
      "\u001b[34mThere are 1 clusters with 9 cameras\u001b[0m\n",
      "\u001b[34mThere are 1 clusters with 10 cameras\u001b[0m\n",
      "\u001b[34mThere are 2 clusters with 16 cameras\u001b[0m\n",
      "\u001b[34mThere are 1 clusters with 47 cameras\u001b[0m\n",
      "\u001b[34mThere are 1 clusters with 48 cameras\u001b[0m\n",
      "\u001b[34mThere are 1 clusters with 54 cameras\u001b[0m\n",
      "\u001b[34mThere are 1 clusters with 55 cameras\u001b[0m\n",
      "\u001b[34mThere are 4 clusters with 59 cameras\u001b[0m\n",
      "\u001b[34mThere are 1 clusters with 60 cameras\u001b[0m\n",
      "\u001b[34mThere are 11 clusters with 61 cameras\u001b[0m\n",
      "\u001b[34mThere are 4 clusters with 62 cameras\u001b[0m\n",
      "\u001b[34mThere are 8 clusters with 63 cameras\u001b[0m\n",
      "\u001b[34mThere are 562 clusters with 64 cameras\u001b[0m\n",
      "\u001b[34mThere are 1 clusters with 126 cameras\u001b[0m\n",
      "\u001b[34mThere are 2 clusters with 128 cameras\u001b[0m\n",
      "Number of classes: 606\n",
      "\u001b[36mLearning Rate: 0.000350\u001b[0m\n",
      "encontrou modelos efficientnet. Carregando...\n",
      "encontrou modelos convnext. Carregando...\n",
      "encontrou modelos mobilenet. Carregando...\n",
      "encontrou modelos vgg16. Carregando...\n",
      "encontrou modelos resnet50. Carregando...\n",
      "encontrou modelos osnet. Carregando...\n",
      "encontrou modelos densenet121. Carregando...\n",
      "\u001b[33mValidating online efficientnet ...\u001b[0m\n",
      "Features extracted in 94.05 seconds\n",
      "Features extracted in 163.79 seconds\n",
      "Computing CMC and mAP ...\n",
      "** Results **\n",
      "mAP: 74.77%\n",
      "CMC curve\n",
      "Rank-1  : 91.90%\n",
      "Rank-5  : 97.05%\n",
      "Rank-10 : 98.30%\n",
      "Rank-20 : 99.12%\n",
      "\u001b[33mValidating momentum efficientnet ...\u001b[0m\n",
      "Features extracted in 92.31 seconds\n",
      "Features extracted in 172.79 seconds\n",
      "Computing CMC and mAP ...\n",
      "** Results **\n",
      "mAP: 71.94%\n",
      "CMC curve\n",
      "Rank-1  : 78.12%\n",
      "Rank-5  : 93.61%\n",
      "Rank-10 : 97.04%\n",
      "Rank-20 : 99.14%\n",
      "\u001b[33mValidating online convnext ...\u001b[0m\n",
      "Features extracted in 95.76 seconds\n",
      "Features extracted in 168.03 seconds\n",
      "Computing CMC and mAP ...\n",
      "** Results **\n",
      "mAP: 73.94%\n",
      "CMC curve\n",
      "Rank-1  : 88.10%\n",
      "Rank-5  : 95.28%\n",
      "Rank-10 : 97.59%\n",
      "Rank-20 : 99.51%\n",
      "\u001b[33mValidating momentum convnext ...\u001b[0m\n",
      "Features extracted in 93.38 seconds\n",
      "Features extracted in 170.57 seconds\n",
      "Computing CMC and mAP ...\n",
      "** Results **\n",
      "mAP: 71.32%\n",
      "CMC curve\n",
      "Rank-1  : 81.36%\n",
      "Rank-5  : 93.92%\n",
      "Rank-10 : 96.43%\n",
      "Rank-20 : 98.01%\n",
      "\u001b[33mValidating online mobilenet ...\u001b[0m\n",
      "Features extracted in 92.38 seconds\n",
      "Features extracted in 165.22 seconds\n",
      "Computing CMC and mAP ...\n",
      "** Results **\n",
      "mAP: 73.44%\n",
      "CMC curve\n",
      "Rank-1  : 89.42%\n",
      "Rank-5  : 95.53%\n",
      "Rank-10 : 97.43%\n",
      "Rank-20 : 98.60%\n",
      "\u001b[33mValidating momentum mobilenet ...\u001b[0m\n",
      "Features extracted in 93.90 seconds\n",
      "Features extracted in 166.00 seconds\n",
      "Computing CMC and mAP ...\n",
      "** Results **\n",
      "mAP: 71.65%\n",
      "CMC curve\n",
      "Rank-1  : 84.47%\n",
      "Rank-5  : 95.38%\n",
      "Rank-10 : 97.77%\n",
      "Rank-20 : 98.98%\n",
      "\u001b[33mValidating online vgg16 ...\u001b[0m\n",
      "Features extracted in 96.44 seconds\n",
      "Features extracted in 171.92 seconds\n",
      "Computing CMC and mAP ...\n",
      "** Results **\n",
      "mAP: 73.15%\n",
      "CMC curve\n",
      "Rank-1  : 86.60%\n",
      "Rank-5  : 94.48%\n",
      "Rank-10 : 97.18%\n",
      "Rank-20 : 98.92%\n",
      "\u001b[33mValidating momentum vgg16 ...\u001b[0m\n",
      "Features extracted in 92.37 seconds\n",
      "Features extracted in 171.84 seconds\n",
      "Computing CMC and mAP ...\n",
      "** Results **\n",
      "mAP: 70.54%\n",
      "CMC curve\n",
      "Rank-1  : 79.23%\n",
      "Rank-5  : 95.60%\n",
      "Rank-10 : 98.30%\n",
      "Rank-20 : 99.65%\n",
      "\u001b[33mValidating online resnet50 ...\u001b[0m\n",
      "Features extracted in 95.39 seconds\n",
      "Features extracted in 166.80 seconds\n",
      "Computing CMC and mAP ...\n",
      "** Results **\n",
      "mAP: 73.98%\n",
      "CMC curve\n",
      "Rank-1  : 90.74%\n",
      "Rank-5  : 97.95%\n",
      "Rank-10 : 99.21%\n",
      "Rank-20 : 99.78%\n",
      "\u001b[33mValidating momentum resnet50 ...\u001b[0m\n",
      "Features extracted in 96.81 seconds\n",
      "Features extracted in 166.50 seconds\n",
      "Computing CMC and mAP ...\n",
      "** Results **\n",
      "mAP: 73.94%\n",
      "CMC curve\n",
      "Rank-1  : 89.96%\n",
      "Rank-5  : 97.91%\n",
      "Rank-10 : 99.30%\n",
      "Rank-20 : 99.85%\n",
      "\u001b[33mValidating online osnet ...\u001b[0m\n",
      "Features extracted in 95.34 seconds\n",
      "Features extracted in 168.61 seconds\n",
      "Computing CMC and mAP ...\n",
      "** Results **\n",
      "mAP: 71.48%\n",
      "CMC curve\n",
      "Rank-1  : 83.20%\n",
      "Rank-5  : 95.69%\n",
      "Rank-10 : 98.05%\n",
      "Rank-20 : 99.42%\n",
      "\u001b[33mValidating momentum osnet ...\u001b[0m\n",
      "Features extracted in 97.20 seconds\n",
      "Features extracted in 170.63 seconds\n",
      "Computing CMC and mAP ...\n",
      "** Results **\n",
      "mAP: 73.34%\n",
      "CMC curve\n",
      "Rank-1  : 82.40%\n",
      "Rank-5  : 95.54%\n",
      "Rank-10 : 98.11%\n",
      "Rank-20 : 99.44%\n",
      "\u001b[33mValidating online densenet121 ...\u001b[0m\n",
      "Features extracted in 97.46 seconds\n",
      "Features extracted in 172.92 seconds\n",
      "Computing CMC and mAP ...\n",
      "** Results **\n",
      "mAP: 73.52%\n",
      "CMC curve\n",
      "Rank-1  : 91.69%\n",
      "Rank-5  : 97.51%\n",
      "Rank-10 : 98.79%\n",
      "Rank-20 : 99.68%\n",
      "\u001b[33mValidating momentum densenet121 ...\u001b[0m\n",
      "Features extracted in 98.25 seconds\n",
      "Features extracted in 169.56 seconds\n",
      "Computing CMC and mAP ...\n",
      "** Results **\n",
      "mAP: 73.91%\n",
      "CMC curve\n",
      "Rank-1  : 86.29%\n",
      "Rank-5  : 96.31%\n",
      "Rank-10 : 98.47%\n",
      "Rank-20 : 99.43%\n",
      "\u001b[33mValidating ensembled with online models ...\u001b[0m\n",
      "Computing CMC and mAP ...\n",
      "** Results **\n",
      "mAP: 75.90%\n",
      "Ranks:\n",
      "Rank-1  : 96.38%\n",
      "Rank-5  : 99.15%\n",
      "Rank-10 : 99.68%\n",
      "\u001b[33mValidating ensembled with momentum models ...\u001b[0m\n",
      "Computing CMC and mAP ...\n",
      "** Results **\n",
      "mAP: 74.20%\n",
      "Ranks:\n",
      "Rank-1  : 87.73%\n",
      "Rank-5  : 96.52%\n",
      "Rank-10 : 98.52%\n",
      "###============ Iteration number 6/30 ============###\n",
      "Extracting Online Features for efficientnet ...\n",
      "Features extracted in 307.50 seconds\n",
      "Computing jaccard distance...\n"
     ]
    },
    {
     "name": "stderr",
     "output_type": "stream",
     "text": [
      "bruteForceKnn is deprecated; call bfKnn instead\n"
     ]
    },
    {
     "name": "stdout",
     "output_type": "stream",
     "text": [
      "Jaccard distance computing time cost: 391.15005826950073\n",
      "Extracting Online Features for convnext ...\n",
      "Features extracted in 312.51 seconds\n",
      "Computing jaccard distance...\n"
     ]
    },
    {
     "name": "stderr",
     "output_type": "stream",
     "text": [
      "bruteForceKnn is deprecated; call bfKnn instead\n"
     ]
    },
    {
     "name": "stdout",
     "output_type": "stream",
     "text": [
      "Jaccard distance computing time cost: 286.33154225349426\n",
      "Extracting Online Features for mobilenet ...\n",
      "Features extracted in 305.92 seconds\n",
      "Computing jaccard distance...\n"
     ]
    },
    {
     "name": "stderr",
     "output_type": "stream",
     "text": [
      "bruteForceKnn is deprecated; call bfKnn instead\n"
     ]
    },
    {
     "name": "stdout",
     "output_type": "stream",
     "text": [
      "Jaccard distance computing time cost: 535.0442016124725\n",
      "Extracting Online Features for vgg16 ...\n",
      "Features extracted in 299.33 seconds\n",
      "Computing jaccard distance...\n"
     ]
    },
    {
     "name": "stderr",
     "output_type": "stream",
     "text": [
      "bruteForceKnn is deprecated; call bfKnn instead\n"
     ]
    },
    {
     "name": "stdout",
     "output_type": "stream",
     "text": [
      "Jaccard distance computing time cost: 299.0571002960205\n",
      "Extracting Online Features for resnet50 ...\n",
      "Features extracted in 298.15 seconds\n",
      "Computing jaccard distance...\n"
     ]
    },
    {
     "name": "stderr",
     "output_type": "stream",
     "text": [
      "bruteForceKnn is deprecated; call bfKnn instead\n"
     ]
    },
    {
     "name": "stdout",
     "output_type": "stream",
     "text": [
      "Jaccard distance computing time cost: 542.5162177085876\n",
      "Extracting Online Features for osnet ...\n",
      "Features extracted in 303.85 seconds\n",
      "Computing jaccard distance...\n"
     ]
    },
    {
     "name": "stderr",
     "output_type": "stream",
     "text": [
      "bruteForceKnn is deprecated; call bfKnn instead\n"
     ]
    },
    {
     "name": "stdout",
     "output_type": "stream",
     "text": [
      "Jaccard distance computing time cost: 553.8212864398956\n",
      "Extracting Online Features for densenet121 ...\n",
      "Features extracted in 300.98 seconds\n",
      "Computing jaccard distance...\n"
     ]
    },
    {
     "name": "stderr",
     "output_type": "stream",
     "text": [
      "bruteForceKnn is deprecated; call bfKnn instead\n"
     ]
    },
    {
     "name": "stdout",
     "output_type": "stream",
     "text": [
      "Jaccard distance computing time cost: 564.3937323093414\n",
      "Reliability: 0.999\n",
      "\u001b[32mMean Purity: 0.00165\u001b[0m\n",
      "\u001b[34mThere are 1 clusters with 4 cameras\u001b[0m\n",
      "\u001b[34mThere are 4 clusters with 5 cameras\u001b[0m\n",
      "\u001b[34mThere are 1 clusters with 9 cameras\u001b[0m\n",
      "\u001b[34mThere are 1 clusters with 10 cameras\u001b[0m\n",
      "\u001b[34mThere are 2 clusters with 16 cameras\u001b[0m\n",
      "\u001b[34mThere are 1 clusters with 47 cameras\u001b[0m\n",
      "\u001b[34mThere are 1 clusters with 48 cameras\u001b[0m\n",
      "\u001b[34mThere are 1 clusters with 54 cameras\u001b[0m\n",
      "\u001b[34mThere are 1 clusters with 55 cameras\u001b[0m\n",
      "\u001b[34mThere are 4 clusters with 59 cameras\u001b[0m\n",
      "\u001b[34mThere are 1 clusters with 60 cameras\u001b[0m\n",
      "\u001b[34mThere are 11 clusters with 61 cameras\u001b[0m\n",
      "\u001b[34mThere are 4 clusters with 62 cameras\u001b[0m\n",
      "\u001b[34mThere are 8 clusters with 63 cameras\u001b[0m\n",
      "\u001b[34mThere are 562 clusters with 64 cameras\u001b[0m\n",
      "\u001b[34mThere are 1 clusters with 126 cameras\u001b[0m\n",
      "\u001b[34mThere are 2 clusters with 128 cameras\u001b[0m\n",
      "Number of classes: 606\n",
      "\u001b[36mLearning Rate: 0.000350\u001b[0m\n",
      "encontrou modelos efficientnet. Carregando...\n",
      "encontrou modelos convnext. Carregando...\n",
      "encontrou modelos mobilenet. Carregando...\n",
      "encontrou modelos vgg16. Carregando...\n",
      "encontrou modelos resnet50. Carregando...\n",
      "encontrou modelos osnet. Carregando...\n",
      "encontrou modelos densenet121. Carregando...\n",
      "###============ Iteration number 7/30 ============###\n",
      "Extracting Online Features for efficientnet ...\n",
      "Features extracted in 304.35 seconds\n",
      "Computing jaccard distance...\n"
     ]
    },
    {
     "name": "stderr",
     "output_type": "stream",
     "text": [
      "bruteForceKnn is deprecated; call bfKnn instead\n"
     ]
    },
    {
     "name": "stdout",
     "output_type": "stream",
     "text": [
      "Jaccard distance computing time cost: 583.7421960830688\n",
      "Extracting Online Features for convnext ...\n",
      "Features extracted in 315.01 seconds\n",
      "Computing jaccard distance...\n"
     ]
    },
    {
     "name": "stderr",
     "output_type": "stream",
     "text": [
      "bruteForceKnn is deprecated; call bfKnn instead\n"
     ]
    },
    {
     "name": "stdout",
     "output_type": "stream",
     "text": [
      "Jaccard distance computing time cost: 561.8485686779022\n",
      "Extracting Online Features for mobilenet ...\n",
      "Features extracted in 301.44 seconds\n",
      "Computing jaccard distance...\n"
     ]
    },
    {
     "name": "stderr",
     "output_type": "stream",
     "text": [
      "bruteForceKnn is deprecated; call bfKnn instead\n"
     ]
    },
    {
     "name": "stdout",
     "output_type": "stream",
     "text": [
      "Jaccard distance computing time cost: 553.4431290626526\n",
      "Extracting Online Features for vgg16 ...\n",
      "Features extracted in 306.94 seconds\n",
      "Computing jaccard distance...\n"
     ]
    },
    {
     "name": "stderr",
     "output_type": "stream",
     "text": [
      "bruteForceKnn is deprecated; call bfKnn instead\n"
     ]
    },
    {
     "name": "stdout",
     "output_type": "stream",
     "text": [
      "Jaccard distance computing time cost: 557.5854613780975\n",
      "Extracting Online Features for resnet50 ...\n",
      "Features extracted in 307.97 seconds\n",
      "Computing jaccard distance...\n"
     ]
    },
    {
     "name": "stderr",
     "output_type": "stream",
     "text": [
      "bruteForceKnn is deprecated; call bfKnn instead\n"
     ]
    },
    {
     "name": "stdout",
     "output_type": "stream",
     "text": [
      "Jaccard distance computing time cost: 568.30952501297\n",
      "Extracting Online Features for osnet ...\n",
      "Features extracted in 301.57 seconds\n",
      "Computing jaccard distance...\n"
     ]
    },
    {
     "name": "stderr",
     "output_type": "stream",
     "text": [
      "bruteForceKnn is deprecated; call bfKnn instead\n"
     ]
    },
    {
     "name": "stdout",
     "output_type": "stream",
     "text": [
      "Jaccard distance computing time cost: 565.3924458026886\n",
      "Extracting Online Features for densenet121 ...\n",
      "Features extracted in 313.71 seconds\n",
      "Computing jaccard distance...\n"
     ]
    },
    {
     "name": "stderr",
     "output_type": "stream",
     "text": [
      "bruteForceKnn is deprecated; call bfKnn instead\n"
     ]
    },
    {
     "name": "stdout",
     "output_type": "stream",
     "text": [
      "Jaccard distance computing time cost: 584.4292669296265\n",
      "Reliability: 0.999\n",
      "\u001b[32mMean Purity: 0.00165\u001b[0m\n",
      "\u001b[34mThere are 1 clusters with 4 cameras\u001b[0m\n",
      "\u001b[34mThere are 4 clusters with 5 cameras\u001b[0m\n",
      "\u001b[34mThere are 1 clusters with 9 cameras\u001b[0m\n",
      "\u001b[34mThere are 1 clusters with 10 cameras\u001b[0m\n",
      "\u001b[34mThere are 2 clusters with 16 cameras\u001b[0m\n",
      "\u001b[34mThere are 1 clusters with 47 cameras\u001b[0m\n",
      "\u001b[34mThere are 1 clusters with 48 cameras\u001b[0m\n",
      "\u001b[34mThere are 1 clusters with 54 cameras\u001b[0m\n",
      "\u001b[34mThere are 1 clusters with 55 cameras\u001b[0m\n",
      "\u001b[34mThere are 4 clusters with 59 cameras\u001b[0m\n",
      "\u001b[34mThere are 1 clusters with 60 cameras\u001b[0m\n",
      "\u001b[34mThere are 11 clusters with 61 cameras\u001b[0m\n",
      "\u001b[34mThere are 4 clusters with 62 cameras\u001b[0m\n",
      "\u001b[34mThere are 8 clusters with 63 cameras\u001b[0m\n",
      "\u001b[34mThere are 562 clusters with 64 cameras\u001b[0m\n",
      "\u001b[34mThere are 1 clusters with 126 cameras\u001b[0m\n",
      "\u001b[34mThere are 2 clusters with 128 cameras\u001b[0m\n",
      "Number of classes: 606\n",
      "\u001b[36mLearning Rate: 0.000350\u001b[0m\n",
      "encontrou modelos efficientnet. Carregando...\n",
      "encontrou modelos convnext. Carregando...\n",
      "encontrou modelos mobilenet. Carregando...\n",
      "encontrou modelos vgg16. Carregando...\n",
      "encontrou modelos resnet50. Carregando...\n",
      "encontrou modelos osnet. Carregando...\n",
      "encontrou modelos densenet121. Carregando...\n",
      "###============ Iteration number 8/30 ============###\n",
      "Extracting Online Features for efficientnet ...\n",
      "Features extracted in 308.48 seconds\n",
      "Computing jaccard distance...\n"
     ]
    },
    {
     "name": "stderr",
     "output_type": "stream",
     "text": [
      "bruteForceKnn is deprecated; call bfKnn instead\n"
     ]
    },
    {
     "name": "stdout",
     "output_type": "stream",
     "text": [
      "Jaccard distance computing time cost: 709.3936173915863\n",
      "Extracting Online Features for convnext ...\n",
      "Features extracted in 304.01 seconds\n",
      "Computing jaccard distance...\n"
     ]
    },
    {
     "name": "stderr",
     "output_type": "stream",
     "text": [
      "bruteForceKnn is deprecated; call bfKnn instead\n"
     ]
    },
    {
     "name": "stdout",
     "output_type": "stream",
     "text": [
      "Jaccard distance computing time cost: 714.5362606048584\n",
      "Extracting Online Features for mobilenet ...\n",
      "Features extracted in 288.68 seconds\n",
      "Computing jaccard distance...\n"
     ]
    },
    {
     "name": "stderr",
     "output_type": "stream",
     "text": [
      "bruteForceKnn is deprecated; call bfKnn instead\n"
     ]
    },
    {
     "name": "stdout",
     "output_type": "stream",
     "text": [
      "Jaccard distance computing time cost: 713.1876971721649\n",
      "Extracting Online Features for vgg16 ...\n",
      "Features extracted in 298.78 seconds\n",
      "Computing jaccard distance...\n"
     ]
    },
    {
     "name": "stderr",
     "output_type": "stream",
     "text": [
      "bruteForceKnn is deprecated; call bfKnn instead\n"
     ]
    },
    {
     "name": "stdout",
     "output_type": "stream",
     "text": [
      "Jaccard distance computing time cost: 704.0329594612122\n",
      "Extracting Online Features for resnet50 ...\n",
      "Features extracted in 301.43 seconds\n",
      "Computing jaccard distance...\n"
     ]
    },
    {
     "name": "stderr",
     "output_type": "stream",
     "text": [
      "bruteForceKnn is deprecated; call bfKnn instead\n"
     ]
    },
    {
     "name": "stdout",
     "output_type": "stream",
     "text": [
      "Jaccard distance computing time cost: 713.7349116802216\n",
      "Extracting Online Features for osnet ...\n",
      "Features extracted in 289.90 seconds\n",
      "Computing jaccard distance...\n"
     ]
    },
    {
     "name": "stderr",
     "output_type": "stream",
     "text": [
      "bruteForceKnn is deprecated; call bfKnn instead\n"
     ]
    },
    {
     "name": "stdout",
     "output_type": "stream",
     "text": [
      "Jaccard distance computing time cost: 717.981716632843\n",
      "Extracting Online Features for densenet121 ...\n",
      "Features extracted in 288.88 seconds\n",
      "Computing jaccard distance...\n"
     ]
    },
    {
     "name": "stderr",
     "output_type": "stream",
     "text": [
      "bruteForceKnn is deprecated; call bfKnn instead\n"
     ]
    },
    {
     "name": "stdout",
     "output_type": "stream",
     "text": [
      "Jaccard distance computing time cost: 711.8031313419342\n",
      "Reliability: 0.999\n",
      "\u001b[32mMean Purity: 0.00165\u001b[0m\n",
      "\u001b[34mThere are 1 clusters with 4 cameras\u001b[0m\n",
      "\u001b[34mThere are 4 clusters with 5 cameras\u001b[0m\n",
      "\u001b[34mThere are 1 clusters with 9 cameras\u001b[0m\n",
      "\u001b[34mThere are 1 clusters with 10 cameras\u001b[0m\n",
      "\u001b[34mThere are 2 clusters with 16 cameras\u001b[0m\n",
      "\u001b[34mThere are 1 clusters with 47 cameras\u001b[0m\n",
      "\u001b[34mThere are 1 clusters with 48 cameras\u001b[0m\n",
      "\u001b[34mThere are 1 clusters with 54 cameras\u001b[0m\n",
      "\u001b[34mThere are 1 clusters with 55 cameras\u001b[0m\n",
      "\u001b[34mThere are 4 clusters with 59 cameras\u001b[0m\n",
      "\u001b[34mThere are 1 clusters with 60 cameras\u001b[0m\n",
      "\u001b[34mThere are 11 clusters with 61 cameras\u001b[0m\n",
      "\u001b[34mThere are 4 clusters with 62 cameras\u001b[0m\n",
      "\u001b[34mThere are 8 clusters with 63 cameras\u001b[0m\n",
      "\u001b[34mThere are 562 clusters with 64 cameras\u001b[0m\n",
      "\u001b[34mThere are 1 clusters with 126 cameras\u001b[0m\n",
      "\u001b[34mThere are 2 clusters with 128 cameras\u001b[0m\n",
      "Number of classes: 606\n",
      "\u001b[36mLearning Rate: 0.000350\u001b[0m\n",
      "encontrou modelos efficientnet. Carregando...\n",
      "encontrou modelos convnext. Carregando...\n",
      "encontrou modelos mobilenet. Carregando...\n",
      "encontrou modelos vgg16. Carregando...\n",
      "encontrou modelos resnet50. Carregando...\n",
      "encontrou modelos osnet. Carregando...\n",
      "encontrou modelos densenet121. Carregando...\n",
      "###============ Iteration number 9/30 ============###\n",
      "Extracting Online Features for efficientnet ...\n",
      "Features extracted in 292.92 seconds\n",
      "Computing jaccard distance...\n"
     ]
    },
    {
     "name": "stderr",
     "output_type": "stream",
     "text": [
      "bruteForceKnn is deprecated; call bfKnn instead\n"
     ]
    },
    {
     "name": "stdout",
     "output_type": "stream",
     "text": [
      "Jaccard distance computing time cost: 718.0309011936188\n",
      "Extracting Online Features for convnext ...\n",
      "Features extracted in 309.39 seconds\n",
      "Computing jaccard distance...\n"
     ]
    },
    {
     "name": "stderr",
     "output_type": "stream",
     "text": [
      "bruteForceKnn is deprecated; call bfKnn instead\n"
     ]
    },
    {
     "name": "stdout",
     "output_type": "stream",
     "text": [
      "Jaccard distance computing time cost: 569.5546853542328\n",
      "Extracting Online Features for mobilenet ...\n",
      "Features extracted in 293.84 seconds\n",
      "Computing jaccard distance...\n"
     ]
    },
    {
     "name": "stderr",
     "output_type": "stream",
     "text": [
      "bruteForceKnn is deprecated; call bfKnn instead\n"
     ]
    },
    {
     "name": "stdout",
     "output_type": "stream",
     "text": [
      "Jaccard distance computing time cost: 557.498651266098\n",
      "Extracting Online Features for vgg16 ...\n",
      "Features extracted in 306.64 seconds\n",
      "Computing jaccard distance...\n"
     ]
    },
    {
     "name": "stderr",
     "output_type": "stream",
     "text": [
      "bruteForceKnn is deprecated; call bfKnn instead\n"
     ]
    },
    {
     "name": "stdout",
     "output_type": "stream",
     "text": [
      "Jaccard distance computing time cost: 561.3344025611877\n",
      "Extracting Online Features for resnet50 ...\n",
      "Features extracted in 307.16 seconds\n",
      "Computing jaccard distance...\n"
     ]
    },
    {
     "name": "stderr",
     "output_type": "stream",
     "text": [
      "bruteForceKnn is deprecated; call bfKnn instead\n"
     ]
    },
    {
     "name": "stdout",
     "output_type": "stream",
     "text": [
      "Jaccard distance computing time cost: 548.4725522994995\n",
      "Extracting Online Features for osnet ...\n",
      "Features extracted in 294.64 seconds\n",
      "Computing jaccard distance...\n"
     ]
    },
    {
     "name": "stderr",
     "output_type": "stream",
     "text": [
      "bruteForceKnn is deprecated; call bfKnn instead\n"
     ]
    },
    {
     "name": "stdout",
     "output_type": "stream",
     "text": [
      "Jaccard distance computing time cost: 559.793231010437\n",
      "Extracting Online Features for densenet121 ...\n",
      "Features extracted in 299.83 seconds\n",
      "Computing jaccard distance...\n"
     ]
    },
    {
     "name": "stderr",
     "output_type": "stream",
     "text": [
      "bruteForceKnn is deprecated; call bfKnn instead\n"
     ]
    },
    {
     "name": "stdout",
     "output_type": "stream",
     "text": [
      "Jaccard distance computing time cost: 554.7675347328186\n",
      "Reliability: 0.999\n",
      "\u001b[32mMean Purity: 0.00165\u001b[0m\n",
      "\u001b[34mThere are 1 clusters with 4 cameras\u001b[0m\n",
      "\u001b[34mThere are 4 clusters with 5 cameras\u001b[0m\n",
      "\u001b[34mThere are 1 clusters with 9 cameras\u001b[0m\n",
      "\u001b[34mThere are 1 clusters with 10 cameras\u001b[0m\n",
      "\u001b[34mThere are 2 clusters with 16 cameras\u001b[0m\n",
      "\u001b[34mThere are 1 clusters with 47 cameras\u001b[0m\n",
      "\u001b[34mThere are 1 clusters with 48 cameras\u001b[0m\n",
      "\u001b[34mThere are 1 clusters with 54 cameras\u001b[0m\n",
      "\u001b[34mThere are 1 clusters with 55 cameras\u001b[0m\n",
      "\u001b[34mThere are 4 clusters with 59 cameras\u001b[0m\n",
      "\u001b[34mThere are 1 clusters with 60 cameras\u001b[0m\n",
      "\u001b[34mThere are 11 clusters with 61 cameras\u001b[0m\n",
      "\u001b[34mThere are 4 clusters with 62 cameras\u001b[0m\n",
      "\u001b[34mThere are 8 clusters with 63 cameras\u001b[0m\n",
      "\u001b[34mThere are 562 clusters with 64 cameras\u001b[0m\n",
      "\u001b[34mThere are 1 clusters with 126 cameras\u001b[0m\n",
      "\u001b[34mThere are 2 clusters with 128 cameras\u001b[0m\n",
      "Number of classes: 606\n",
      "\u001b[36mLearning Rate: 0.000350\u001b[0m\n",
      "encontrou modelos efficientnet. Carregando...\n",
      "encontrou modelos convnext. Carregando...\n",
      "encontrou modelos mobilenet. Carregando...\n",
      "encontrou modelos vgg16. Carregando...\n",
      "encontrou modelos resnet50. Carregando...\n",
      "encontrou modelos osnet. Carregando...\n",
      "encontrou modelos densenet121. Carregando...\n",
      "###============ Iteration number 10/30 ============###\n",
      "Extracting Online Features for efficientnet ...\n",
      "Features extracted in 298.64 seconds\n",
      "Computing jaccard distance...\n"
     ]
    },
    {
     "name": "stderr",
     "output_type": "stream",
     "text": [
      "bruteForceKnn is deprecated; call bfKnn instead\n"
     ]
    },
    {
     "name": "stdout",
     "output_type": "stream",
     "text": [
      "Jaccard distance computing time cost: 565.7684738636017\n",
      "Extracting Online Features for convnext ...\n",
      "Features extracted in 307.82 seconds\n",
      "Computing jaccard distance...\n"
     ]
    },
    {
     "name": "stderr",
     "output_type": "stream",
     "text": [
      "bruteForceKnn is deprecated; call bfKnn instead\n"
     ]
    },
    {
     "name": "stdout",
     "output_type": "stream",
     "text": [
      "Jaccard distance computing time cost: 558.6073176860809\n",
      "Extracting Online Features for mobilenet ...\n",
      "Features extracted in 310.87 seconds\n",
      "Computing jaccard distance...\n"
     ]
    },
    {
     "name": "stderr",
     "output_type": "stream",
     "text": [
      "bruteForceKnn is deprecated; call bfKnn instead\n"
     ]
    },
    {
     "name": "stdout",
     "output_type": "stream",
     "text": [
      "Jaccard distance computing time cost: 561.7250723838806\n",
      "Extracting Online Features for vgg16 ...\n",
      "Features extracted in 302.27 seconds\n",
      "Computing jaccard distance...\n"
     ]
    },
    {
     "name": "stderr",
     "output_type": "stream",
     "text": [
      "bruteForceKnn is deprecated; call bfKnn instead\n"
     ]
    },
    {
     "name": "stdout",
     "output_type": "stream",
     "text": [
      "Jaccard distance computing time cost: 565.5303330421448\n",
      "Extracting Online Features for resnet50 ...\n",
      "Features extracted in 301.58 seconds\n",
      "Computing jaccard distance...\n"
     ]
    },
    {
     "name": "stderr",
     "output_type": "stream",
     "text": [
      "bruteForceKnn is deprecated; call bfKnn instead\n"
     ]
    },
    {
     "name": "stdout",
     "output_type": "stream",
     "text": [
      "Jaccard distance computing time cost: 553.4317531585693\n",
      "Extracting Online Features for osnet ...\n",
      "Features extracted in 304.07 seconds\n",
      "Computing jaccard distance...\n"
     ]
    },
    {
     "name": "stderr",
     "output_type": "stream",
     "text": [
      "bruteForceKnn is deprecated; call bfKnn instead\n"
     ]
    },
    {
     "name": "stdout",
     "output_type": "stream",
     "text": [
      "Jaccard distance computing time cost: 563.8639371395111\n",
      "Extracting Online Features for densenet121 ...\n",
      "Features extracted in 298.64 seconds\n",
      "Computing jaccard distance...\n"
     ]
    },
    {
     "name": "stderr",
     "output_type": "stream",
     "text": [
      "bruteForceKnn is deprecated; call bfKnn instead\n"
     ]
    },
    {
     "name": "stdout",
     "output_type": "stream",
     "text": [
      "Jaccard distance computing time cost: 541.6363537311554\n",
      "Reliability: 0.999\n",
      "\u001b[32mMean Purity: 0.00165\u001b[0m\n",
      "\u001b[34mThere are 1 clusters with 4 cameras\u001b[0m\n",
      "\u001b[34mThere are 4 clusters with 5 cameras\u001b[0m\n",
      "\u001b[34mThere are 1 clusters with 9 cameras\u001b[0m\n",
      "\u001b[34mThere are 1 clusters with 10 cameras\u001b[0m\n",
      "\u001b[34mThere are 2 clusters with 16 cameras\u001b[0m\n",
      "\u001b[34mThere are 1 clusters with 47 cameras\u001b[0m\n",
      "\u001b[34mThere are 1 clusters with 48 cameras\u001b[0m\n",
      "\u001b[34mThere are 1 clusters with 54 cameras\u001b[0m\n",
      "\u001b[34mThere are 1 clusters with 55 cameras\u001b[0m\n",
      "\u001b[34mThere are 4 clusters with 59 cameras\u001b[0m\n",
      "\u001b[34mThere are 1 clusters with 60 cameras\u001b[0m\n",
      "\u001b[34mThere are 11 clusters with 61 cameras\u001b[0m\n",
      "\u001b[34mThere are 4 clusters with 62 cameras\u001b[0m\n",
      "\u001b[34mThere are 8 clusters with 63 cameras\u001b[0m\n",
      "\u001b[34mThere are 562 clusters with 64 cameras\u001b[0m\n",
      "\u001b[34mThere are 1 clusters with 126 cameras\u001b[0m\n",
      "\u001b[34mThere are 2 clusters with 128 cameras\u001b[0m\n",
      "Number of classes: 606\n",
      "\u001b[36mLearning Rate: 0.000350\u001b[0m\n",
      "encontrou modelos efficientnet. Carregando...\n",
      "encontrou modelos convnext. Carregando...\n",
      "encontrou modelos mobilenet. Carregando...\n",
      "encontrou modelos vgg16. Carregando...\n",
      "encontrou modelos resnet50. Carregando...\n",
      "encontrou modelos osnet. Carregando...\n",
      "encontrou modelos densenet121. Carregando...\n",
      "\u001b[33mValidating online efficientnet ...\u001b[0m\n",
      "Features extracted in 95.57 seconds\n",
      "Features extracted in 170.56 seconds\n",
      "Computing CMC and mAP ...\n",
      "** Results **\n",
      "mAP: 74.77%\n",
      "CMC curve\n",
      "Rank-1  : 91.90%\n",
      "Rank-5  : 97.05%\n",
      "Rank-10 : 98.30%\n",
      "Rank-20 : 99.12%\n",
      "\u001b[33mValidating momentum efficientnet ...\u001b[0m\n",
      "Features extracted in 94.20 seconds\n",
      "Features extracted in 166.62 seconds\n",
      "Computing CMC and mAP ...\n",
      "** Results **\n",
      "mAP: 71.94%\n",
      "CMC curve\n",
      "Rank-1  : 78.12%\n",
      "Rank-5  : 93.61%\n",
      "Rank-10 : 97.04%\n",
      "Rank-20 : 99.14%\n",
      "\u001b[33mValidating online convnext ...\u001b[0m\n",
      "Features extracted in 94.07 seconds\n",
      "Features extracted in 170.42 seconds\n",
      "Computing CMC and mAP ...\n",
      "** Results **\n",
      "mAP: 73.94%\n",
      "CMC curve\n",
      "Rank-1  : 88.10%\n",
      "Rank-5  : 95.28%\n",
      "Rank-10 : 97.59%\n",
      "Rank-20 : 99.51%\n",
      "\u001b[33mValidating momentum convnext ...\u001b[0m\n",
      "Features extracted in 93.47 seconds\n",
      "Features extracted in 173.38 seconds\n",
      "Computing CMC and mAP ...\n",
      "** Results **\n",
      "mAP: 71.32%\n",
      "CMC curve\n",
      "Rank-1  : 81.36%\n",
      "Rank-5  : 93.92%\n",
      "Rank-10 : 96.43%\n",
      "Rank-20 : 98.01%\n",
      "\u001b[33mValidating online mobilenet ...\u001b[0m\n",
      "Features extracted in 94.63 seconds\n",
      "Features extracted in 167.06 seconds\n",
      "Computing CMC and mAP ...\n",
      "** Results **\n",
      "mAP: 73.44%\n",
      "CMC curve\n",
      "Rank-1  : 89.42%\n",
      "Rank-5  : 95.53%\n",
      "Rank-10 : 97.43%\n",
      "Rank-20 : 98.60%\n",
      "\u001b[33mValidating momentum mobilenet ...\u001b[0m\n",
      "Features extracted in 94.07 seconds\n",
      "Features extracted in 167.02 seconds\n",
      "Computing CMC and mAP ...\n",
      "** Results **\n",
      "mAP: 71.65%\n",
      "CMC curve\n",
      "Rank-1  : 84.47%\n",
      "Rank-5  : 95.38%\n",
      "Rank-10 : 97.77%\n",
      "Rank-20 : 98.98%\n",
      "\u001b[33mValidating online vgg16 ...\u001b[0m\n",
      "Features extracted in 97.24 seconds\n",
      "Features extracted in 173.16 seconds\n",
      "Computing CMC and mAP ...\n",
      "** Results **\n",
      "mAP: 73.15%\n",
      "CMC curve\n",
      "Rank-1  : 86.60%\n",
      "Rank-5  : 94.48%\n",
      "Rank-10 : 97.18%\n",
      "Rank-20 : 98.92%\n",
      "\u001b[33mValidating momentum vgg16 ...\u001b[0m\n",
      "Features extracted in 98.07 seconds\n",
      "Features extracted in 172.47 seconds\n",
      "Computing CMC and mAP ...\n",
      "** Results **\n",
      "mAP: 70.54%\n",
      "CMC curve\n",
      "Rank-1  : 79.23%\n",
      "Rank-5  : 95.60%\n",
      "Rank-10 : 98.30%\n",
      "Rank-20 : 99.65%\n",
      "\u001b[33mValidating online resnet50 ...\u001b[0m\n",
      "Features extracted in 98.97 seconds\n",
      "Features extracted in 169.94 seconds\n",
      "Computing CMC and mAP ...\n",
      "** Results **\n",
      "mAP: 73.98%\n",
      "CMC curve\n",
      "Rank-1  : 90.74%\n",
      "Rank-5  : 97.95%\n",
      "Rank-10 : 99.21%\n",
      "Rank-20 : 99.78%\n",
      "\u001b[33mValidating momentum resnet50 ...\u001b[0m\n",
      "Features extracted in 97.77 seconds\n",
      "Features extracted in 167.52 seconds\n",
      "Computing CMC and mAP ...\n",
      "** Results **\n",
      "mAP: 73.94%\n",
      "CMC curve\n",
      "Rank-1  : 89.96%\n",
      "Rank-5  : 97.91%\n",
      "Rank-10 : 99.30%\n",
      "Rank-20 : 99.85%\n",
      "\u001b[33mValidating online osnet ...\u001b[0m\n",
      "Features extracted in 93.70 seconds\n",
      "Features extracted in 170.85 seconds\n",
      "Computing CMC and mAP ...\n",
      "** Results **\n",
      "mAP: 71.48%\n",
      "CMC curve\n",
      "Rank-1  : 83.20%\n",
      "Rank-5  : 95.69%\n",
      "Rank-10 : 98.05%\n",
      "Rank-20 : 99.42%\n",
      "\u001b[33mValidating momentum osnet ...\u001b[0m\n",
      "Features extracted in 98.41 seconds\n",
      "Features extracted in 168.88 seconds\n",
      "Computing CMC and mAP ...\n",
      "** Results **\n",
      "mAP: 73.34%\n",
      "CMC curve\n",
      "Rank-1  : 82.40%\n",
      "Rank-5  : 95.54%\n",
      "Rank-10 : 98.11%\n",
      "Rank-20 : 99.44%\n",
      "\u001b[33mValidating online densenet121 ...\u001b[0m\n",
      "Features extracted in 96.74 seconds\n",
      "Features extracted in 167.84 seconds\n",
      "Computing CMC and mAP ...\n",
      "** Results **\n",
      "mAP: 73.52%\n",
      "CMC curve\n",
      "Rank-1  : 91.69%\n",
      "Rank-5  : 97.51%\n",
      "Rank-10 : 98.79%\n",
      "Rank-20 : 99.68%\n",
      "\u001b[33mValidating momentum densenet121 ...\u001b[0m\n",
      "Features extracted in 96.65 seconds\n",
      "Features extracted in 171.09 seconds\n",
      "Computing CMC and mAP ...\n",
      "** Results **\n",
      "mAP: 73.91%\n",
      "CMC curve\n",
      "Rank-1  : 86.29%\n",
      "Rank-5  : 96.31%\n",
      "Rank-10 : 98.47%\n",
      "Rank-20 : 99.43%\n",
      "\u001b[33mValidating ensembled with online models ...\u001b[0m\n",
      "Computing CMC and mAP ...\n",
      "** Results **\n",
      "mAP: 75.90%\n",
      "Ranks:\n",
      "Rank-1  : 96.38%\n",
      "Rank-5  : 99.15%\n",
      "Rank-10 : 99.68%\n",
      "\u001b[33mValidating ensembled with momentum models ...\u001b[0m\n",
      "Computing CMC and mAP ...\n",
      "** Results **\n",
      "mAP: 74.20%\n",
      "Ranks:\n",
      "Rank-1  : 87.73%\n",
      "Rank-5  : 96.52%\n",
      "Rank-10 : 98.52%\n",
      "###============ Iteration number 11/30 ============###\n",
      "Extracting Online Features for efficientnet ...\n",
      "Features extracted in 305.03 seconds\n",
      "Computing jaccard distance...\n"
     ]
    },
    {
     "name": "stderr",
     "output_type": "stream",
     "text": [
      "bruteForceKnn is deprecated; call bfKnn instead\n"
     ]
    },
    {
     "name": "stdout",
     "output_type": "stream",
     "text": [
      "Jaccard distance computing time cost: 544.1887369155884\n",
      "Extracting Online Features for convnext ...\n",
      "Features extracted in 305.84 seconds\n",
      "Computing jaccard distance...\n"
     ]
    },
    {
     "name": "stderr",
     "output_type": "stream",
     "text": [
      "bruteForceKnn is deprecated; call bfKnn instead\n"
     ]
    },
    {
     "name": "stdout",
     "output_type": "stream",
     "text": [
      "Jaccard distance computing time cost: 546.0808410644531\n",
      "Extracting Online Features for mobilenet ...\n",
      "Features extracted in 291.33 seconds\n",
      "Computing jaccard distance...\n"
     ]
    },
    {
     "name": "stderr",
     "output_type": "stream",
     "text": [
      "bruteForceKnn is deprecated; call bfKnn instead\n"
     ]
    },
    {
     "name": "stdout",
     "output_type": "stream",
     "text": [
      "Jaccard distance computing time cost: 560.1289901733398\n",
      "Extracting Online Features for vgg16 ...\n",
      "Features extracted in 298.44 seconds\n",
      "Computing jaccard distance...\n"
     ]
    },
    {
     "name": "stderr",
     "output_type": "stream",
     "text": [
      "bruteForceKnn is deprecated; call bfKnn instead\n"
     ]
    },
    {
     "name": "stdout",
     "output_type": "stream",
     "text": [
      "Jaccard distance computing time cost: 552.8625280857086\n",
      "Extracting Online Features for resnet50 ...\n",
      "Features extracted in 297.61 seconds\n",
      "Computing jaccard distance...\n"
     ]
    },
    {
     "name": "stderr",
     "output_type": "stream",
     "text": [
      "bruteForceKnn is deprecated; call bfKnn instead\n"
     ]
    },
    {
     "name": "stdout",
     "output_type": "stream",
     "text": [
      "Jaccard distance computing time cost: 563.6248219013214\n",
      "Extracting Online Features for osnet ...\n",
      "Features extracted in 296.09 seconds\n",
      "Computing jaccard distance...\n"
     ]
    },
    {
     "name": "stderr",
     "output_type": "stream",
     "text": [
      "bruteForceKnn is deprecated; call bfKnn instead\n"
     ]
    },
    {
     "name": "stdout",
     "output_type": "stream",
     "text": [
      "Jaccard distance computing time cost: 553.8457357883453\n",
      "Extracting Online Features for densenet121 ...\n",
      "Features extracted in 300.44 seconds\n",
      "Computing jaccard distance...\n"
     ]
    },
    {
     "name": "stderr",
     "output_type": "stream",
     "text": [
      "bruteForceKnn is deprecated; call bfKnn instead\n"
     ]
    },
    {
     "name": "stdout",
     "output_type": "stream",
     "text": [
      "Jaccard distance computing time cost: 561.4197452068329\n",
      "Reliability: 0.999\n",
      "\u001b[32mMean Purity: 0.00165\u001b[0m\n",
      "\u001b[34mThere are 1 clusters with 4 cameras\u001b[0m\n",
      "\u001b[34mThere are 4 clusters with 5 cameras\u001b[0m\n",
      "\u001b[34mThere are 1 clusters with 9 cameras\u001b[0m\n",
      "\u001b[34mThere are 1 clusters with 10 cameras\u001b[0m\n",
      "\u001b[34mThere are 2 clusters with 16 cameras\u001b[0m\n",
      "\u001b[34mThere are 1 clusters with 47 cameras\u001b[0m\n",
      "\u001b[34mThere are 1 clusters with 48 cameras\u001b[0m\n",
      "\u001b[34mThere are 1 clusters with 54 cameras\u001b[0m\n",
      "\u001b[34mThere are 1 clusters with 55 cameras\u001b[0m\n",
      "\u001b[34mThere are 4 clusters with 59 cameras\u001b[0m\n",
      "\u001b[34mThere are 1 clusters with 60 cameras\u001b[0m\n",
      "\u001b[34mThere are 11 clusters with 61 cameras\u001b[0m\n",
      "\u001b[34mThere are 4 clusters with 62 cameras\u001b[0m\n",
      "\u001b[34mThere are 8 clusters with 63 cameras\u001b[0m\n",
      "\u001b[34mThere are 562 clusters with 64 cameras\u001b[0m\n",
      "\u001b[34mThere are 1 clusters with 126 cameras\u001b[0m\n",
      "\u001b[34mThere are 2 clusters with 128 cameras\u001b[0m\n",
      "Number of classes: 606\n",
      "\u001b[36mLearning Rate: 0.000350\u001b[0m\n",
      "encontrou modelos efficientnet. Carregando...\n",
      "encontrou modelos convnext. Carregando...\n",
      "encontrou modelos mobilenet. Carregando...\n",
      "encontrou modelos vgg16. Carregando...\n",
      "encontrou modelos resnet50. Carregando...\n",
      "encontrou modelos osnet. Carregando...\n",
      "encontrou modelos densenet121. Carregando...\n",
      "###============ Iteration number 12/30 ============###\n",
      "Extracting Online Features for efficientnet ...\n",
      "Features extracted in 300.35 seconds\n",
      "Computing jaccard distance...\n"
     ]
    },
    {
     "name": "stderr",
     "output_type": "stream",
     "text": [
      "bruteForceKnn is deprecated; call bfKnn instead\n"
     ]
    },
    {
     "name": "stdout",
     "output_type": "stream",
     "text": [
      "Jaccard distance computing time cost: 557.6792087554932\n",
      "Extracting Online Features for convnext ...\n",
      "Features extracted in 301.83 seconds\n",
      "Computing jaccard distance...\n"
     ]
    },
    {
     "name": "stderr",
     "output_type": "stream",
     "text": [
      "bruteForceKnn is deprecated; call bfKnn instead\n"
     ]
    },
    {
     "name": "stdout",
     "output_type": "stream",
     "text": [
      "Jaccard distance computing time cost: 544.1307992935181\n",
      "Extracting Online Features for mobilenet ...\n",
      "Features extracted in 300.55 seconds\n",
      "Computing jaccard distance...\n"
     ]
    },
    {
     "name": "stderr",
     "output_type": "stream",
     "text": [
      "bruteForceKnn is deprecated; call bfKnn instead\n"
     ]
    },
    {
     "name": "stdout",
     "output_type": "stream",
     "text": [
      "Jaccard distance computing time cost: 553.0818390846252\n",
      "Extracting Online Features for vgg16 ...\n",
      "Features extracted in 297.94 seconds\n",
      "Computing jaccard distance...\n"
     ]
    },
    {
     "name": "stderr",
     "output_type": "stream",
     "text": [
      "bruteForceKnn is deprecated; call bfKnn instead\n"
     ]
    },
    {
     "name": "stdout",
     "output_type": "stream",
     "text": [
      "Jaccard distance computing time cost: 539.8538644313812\n",
      "Extracting Online Features for resnet50 ...\n",
      "Features extracted in 295.40 seconds\n",
      "Computing jaccard distance...\n"
     ]
    },
    {
     "name": "stderr",
     "output_type": "stream",
     "text": [
      "bruteForceKnn is deprecated; call bfKnn instead\n"
     ]
    },
    {
     "name": "stdout",
     "output_type": "stream",
     "text": [
      "Jaccard distance computing time cost: 555.8182384967804\n",
      "Extracting Online Features for osnet ...\n",
      "Features extracted in 303.85 seconds\n",
      "Computing jaccard distance...\n"
     ]
    },
    {
     "name": "stderr",
     "output_type": "stream",
     "text": [
      "bruteForceKnn is deprecated; call bfKnn instead\n"
     ]
    },
    {
     "name": "stdout",
     "output_type": "stream",
     "text": [
      "Jaccard distance computing time cost: 555.9069328308105\n",
      "Extracting Online Features for densenet121 ...\n",
      "Features extracted in 298.90 seconds\n",
      "Computing jaccard distance...\n"
     ]
    },
    {
     "name": "stderr",
     "output_type": "stream",
     "text": [
      "bruteForceKnn is deprecated; call bfKnn instead\n"
     ]
    },
    {
     "name": "stdout",
     "output_type": "stream",
     "text": [
      "Jaccard distance computing time cost: 545.7469351291656\n",
      "Reliability: 0.999\n",
      "\u001b[32mMean Purity: 0.00165\u001b[0m\n",
      "\u001b[34mThere are 1 clusters with 4 cameras\u001b[0m\n",
      "\u001b[34mThere are 4 clusters with 5 cameras\u001b[0m\n",
      "\u001b[34mThere are 1 clusters with 9 cameras\u001b[0m\n",
      "\u001b[34mThere are 1 clusters with 10 cameras\u001b[0m\n",
      "\u001b[34mThere are 2 clusters with 16 cameras\u001b[0m\n",
      "\u001b[34mThere are 1 clusters with 47 cameras\u001b[0m\n",
      "\u001b[34mThere are 1 clusters with 48 cameras\u001b[0m\n",
      "\u001b[34mThere are 1 clusters with 54 cameras\u001b[0m\n",
      "\u001b[34mThere are 1 clusters with 55 cameras\u001b[0m\n",
      "\u001b[34mThere are 4 clusters with 59 cameras\u001b[0m\n",
      "\u001b[34mThere are 1 clusters with 60 cameras\u001b[0m\n",
      "\u001b[34mThere are 11 clusters with 61 cameras\u001b[0m\n",
      "\u001b[34mThere are 4 clusters with 62 cameras\u001b[0m\n",
      "\u001b[34mThere are 8 clusters with 63 cameras\u001b[0m\n",
      "\u001b[34mThere are 562 clusters with 64 cameras\u001b[0m\n",
      "\u001b[34mThere are 1 clusters with 126 cameras\u001b[0m\n",
      "\u001b[34mThere are 2 clusters with 128 cameras\u001b[0m\n",
      "Number of classes: 606\n",
      "\u001b[36mLearning Rate: 0.000350\u001b[0m\n",
      "encontrou modelos efficientnet. Carregando...\n",
      "encontrou modelos convnext. Carregando...\n",
      "encontrou modelos mobilenet. Carregando...\n",
      "encontrou modelos vgg16. Carregando...\n",
      "encontrou modelos resnet50. Carregando...\n",
      "encontrou modelos osnet. Carregando...\n",
      "encontrou modelos densenet121. Carregando...\n",
      "###============ Iteration number 13/30 ============###\n",
      "Extracting Online Features for efficientnet ...\n",
      "Features extracted in 301.75 seconds\n",
      "Computing jaccard distance...\n"
     ]
    },
    {
     "name": "stderr",
     "output_type": "stream",
     "text": [
      "bruteForceKnn is deprecated; call bfKnn instead\n"
     ]
    },
    {
     "name": "stdout",
     "output_type": "stream",
     "text": [
      "Jaccard distance computing time cost: 558.1794650554657\n",
      "Extracting Online Features for convnext ...\n",
      "Features extracted in 316.50 seconds\n",
      "Computing jaccard distance...\n"
     ]
    },
    {
     "name": "stderr",
     "output_type": "stream",
     "text": [
      "bruteForceKnn is deprecated; call bfKnn instead\n"
     ]
    },
    {
     "name": "stdout",
     "output_type": "stream",
     "text": [
      "Jaccard distance computing time cost: 543.8084444999695\n",
      "Extracting Online Features for mobilenet ...\n",
      "Features extracted in 299.06 seconds\n",
      "Computing jaccard distance...\n"
     ]
    },
    {
     "name": "stderr",
     "output_type": "stream",
     "text": [
      "bruteForceKnn is deprecated; call bfKnn instead\n"
     ]
    },
    {
     "name": "stdout",
     "output_type": "stream",
     "text": [
      "Jaccard distance computing time cost: 557.853996515274\n",
      "Extracting Online Features for vgg16 ...\n",
      "Features extracted in 301.50 seconds\n",
      "Computing jaccard distance...\n"
     ]
    },
    {
     "name": "stderr",
     "output_type": "stream",
     "text": [
      "bruteForceKnn is deprecated; call bfKnn instead\n"
     ]
    },
    {
     "name": "stdout",
     "output_type": "stream",
     "text": [
      "Jaccard distance computing time cost: 556.9054713249207\n",
      "Extracting Online Features for resnet50 ...\n",
      "Features extracted in 310.36 seconds\n",
      "Computing jaccard distance...\n"
     ]
    },
    {
     "name": "stderr",
     "output_type": "stream",
     "text": [
      "bruteForceKnn is deprecated; call bfKnn instead\n"
     ]
    },
    {
     "name": "stdout",
     "output_type": "stream",
     "text": [
      "Jaccard distance computing time cost: 545.9769115447998\n",
      "Extracting Online Features for osnet ...\n",
      "Features extracted in 303.58 seconds\n",
      "Computing jaccard distance...\n"
     ]
    },
    {
     "name": "stderr",
     "output_type": "stream",
     "text": [
      "bruteForceKnn is deprecated; call bfKnn instead\n"
     ]
    },
    {
     "name": "stdout",
     "output_type": "stream",
     "text": [
      "Jaccard distance computing time cost: 556.4930698871613\n",
      "Extracting Online Features for densenet121 ...\n",
      "Features extracted in 311.48 seconds\n",
      "Computing jaccard distance...\n"
     ]
    },
    {
     "name": "stderr",
     "output_type": "stream",
     "text": [
      "bruteForceKnn is deprecated; call bfKnn instead\n"
     ]
    },
    {
     "name": "stdout",
     "output_type": "stream",
     "text": [
      "Jaccard distance computing time cost: 560.0448467731476\n",
      "Reliability: 0.999\n",
      "\u001b[32mMean Purity: 0.00165\u001b[0m\n",
      "\u001b[34mThere are 1 clusters with 4 cameras\u001b[0m\n",
      "\u001b[34mThere are 4 clusters with 5 cameras\u001b[0m\n",
      "\u001b[34mThere are 1 clusters with 9 cameras\u001b[0m\n",
      "\u001b[34mThere are 1 clusters with 10 cameras\u001b[0m\n",
      "\u001b[34mThere are 2 clusters with 16 cameras\u001b[0m\n",
      "\u001b[34mThere are 1 clusters with 47 cameras\u001b[0m\n",
      "\u001b[34mThere are 1 clusters with 48 cameras\u001b[0m\n",
      "\u001b[34mThere are 1 clusters with 54 cameras\u001b[0m\n",
      "\u001b[34mThere are 1 clusters with 55 cameras\u001b[0m\n",
      "\u001b[34mThere are 4 clusters with 59 cameras\u001b[0m\n",
      "\u001b[34mThere are 1 clusters with 60 cameras\u001b[0m\n",
      "\u001b[34mThere are 11 clusters with 61 cameras\u001b[0m\n",
      "\u001b[34mThere are 4 clusters with 62 cameras\u001b[0m\n",
      "\u001b[34mThere are 8 clusters with 63 cameras\u001b[0m\n",
      "\u001b[34mThere are 562 clusters with 64 cameras\u001b[0m\n",
      "\u001b[34mThere are 1 clusters with 126 cameras\u001b[0m\n",
      "\u001b[34mThere are 2 clusters with 128 cameras\u001b[0m\n",
      "Number of classes: 606\n",
      "\u001b[36mLearning Rate: 0.000350\u001b[0m\n",
      "encontrou modelos efficientnet. Carregando...\n",
      "encontrou modelos convnext. Carregando...\n",
      "encontrou modelos mobilenet. Carregando...\n",
      "encontrou modelos vgg16. Carregando...\n",
      "encontrou modelos resnet50. Carregando...\n",
      "encontrou modelos osnet. Carregando...\n",
      "encontrou modelos densenet121. Carregando...\n",
      "###============ Iteration number 14/30 ============###\n",
      "Extracting Online Features for efficientnet ...\n",
      "Features extracted in 306.66 seconds\n",
      "Computing jaccard distance...\n"
     ]
    },
    {
     "name": "stderr",
     "output_type": "stream",
     "text": [
      "bruteForceKnn is deprecated; call bfKnn instead\n"
     ]
    },
    {
     "name": "stdout",
     "output_type": "stream",
     "text": [
      "Jaccard distance computing time cost: 556.456983089447\n",
      "Extracting Online Features for convnext ...\n",
      "Features extracted in 312.36 seconds\n",
      "Computing jaccard distance...\n"
     ]
    },
    {
     "name": "stderr",
     "output_type": "stream",
     "text": [
      "bruteForceKnn is deprecated; call bfKnn instead\n"
     ]
    },
    {
     "name": "stdout",
     "output_type": "stream",
     "text": [
      "Jaccard distance computing time cost: 560.5200850963593\n",
      "Extracting Online Features for mobilenet ...\n",
      "Features extracted in 304.89 seconds\n",
      "Computing jaccard distance...\n"
     ]
    },
    {
     "name": "stderr",
     "output_type": "stream",
     "text": [
      "bruteForceKnn is deprecated; call bfKnn instead\n"
     ]
    },
    {
     "name": "stdout",
     "output_type": "stream",
     "text": [
      "Jaccard distance computing time cost: 558.1298401355743\n",
      "Extracting Online Features for vgg16 ...\n",
      "Features extracted in 301.82 seconds\n",
      "Computing jaccard distance...\n"
     ]
    },
    {
     "name": "stderr",
     "output_type": "stream",
     "text": [
      "bruteForceKnn is deprecated; call bfKnn instead\n"
     ]
    },
    {
     "name": "stdout",
     "output_type": "stream",
     "text": [
      "Jaccard distance computing time cost: 561.1993045806885\n",
      "Extracting Online Features for resnet50 ...\n",
      "Features extracted in 292.61 seconds\n",
      "Computing jaccard distance...\n"
     ]
    },
    {
     "name": "stderr",
     "output_type": "stream",
     "text": [
      "bruteForceKnn is deprecated; call bfKnn instead\n"
     ]
    },
    {
     "name": "stdout",
     "output_type": "stream",
     "text": [
      "Jaccard distance computing time cost: 560.4218633174896\n",
      "Extracting Online Features for osnet ...\n",
      "Features extracted in 305.27 seconds\n",
      "Computing jaccard distance...\n"
     ]
    },
    {
     "name": "stderr",
     "output_type": "stream",
     "text": [
      "bruteForceKnn is deprecated; call bfKnn instead\n"
     ]
    },
    {
     "name": "stdout",
     "output_type": "stream",
     "text": [
      "Jaccard distance computing time cost: 559.7272520065308\n",
      "Extracting Online Features for densenet121 ...\n",
      "Features extracted in 310.51 seconds\n",
      "Computing jaccard distance...\n"
     ]
    },
    {
     "name": "stderr",
     "output_type": "stream",
     "text": [
      "bruteForceKnn is deprecated; call bfKnn instead\n"
     ]
    },
    {
     "name": "stdout",
     "output_type": "stream",
     "text": [
      "Jaccard distance computing time cost: 563.1711473464966\n",
      "Reliability: 0.999\n",
      "\u001b[32mMean Purity: 0.00165\u001b[0m\n",
      "\u001b[34mThere are 1 clusters with 4 cameras\u001b[0m\n",
      "\u001b[34mThere are 4 clusters with 5 cameras\u001b[0m\n",
      "\u001b[34mThere are 1 clusters with 9 cameras\u001b[0m\n",
      "\u001b[34mThere are 1 clusters with 10 cameras\u001b[0m\n",
      "\u001b[34mThere are 2 clusters with 16 cameras\u001b[0m\n",
      "\u001b[34mThere are 1 clusters with 47 cameras\u001b[0m\n",
      "\u001b[34mThere are 1 clusters with 48 cameras\u001b[0m\n",
      "\u001b[34mThere are 1 clusters with 54 cameras\u001b[0m\n",
      "\u001b[34mThere are 1 clusters with 55 cameras\u001b[0m\n",
      "\u001b[34mThere are 4 clusters with 59 cameras\u001b[0m\n",
      "\u001b[34mThere are 1 clusters with 60 cameras\u001b[0m\n",
      "\u001b[34mThere are 11 clusters with 61 cameras\u001b[0m\n",
      "\u001b[34mThere are 4 clusters with 62 cameras\u001b[0m\n",
      "\u001b[34mThere are 8 clusters with 63 cameras\u001b[0m\n",
      "\u001b[34mThere are 562 clusters with 64 cameras\u001b[0m\n",
      "\u001b[34mThere are 1 clusters with 126 cameras\u001b[0m\n",
      "\u001b[34mThere are 2 clusters with 128 cameras\u001b[0m\n",
      "Number of classes: 606\n",
      "\u001b[36mLearning Rate: 0.000350\u001b[0m\n",
      "encontrou modelos efficientnet. Carregando...\n",
      "encontrou modelos convnext. Carregando...\n",
      "encontrou modelos mobilenet. Carregando...\n",
      "encontrou modelos vgg16. Carregando...\n",
      "encontrou modelos resnet50. Carregando...\n",
      "encontrou modelos osnet. Carregando...\n",
      "encontrou modelos densenet121. Carregando...\n",
      "###============ Iteration number 15/30 ============###\n",
      "Extracting Online Features for efficientnet ...\n",
      "Features extracted in 306.15 seconds\n",
      "Computing jaccard distance...\n"
     ]
    },
    {
     "name": "stderr",
     "output_type": "stream",
     "text": [
      "bruteForceKnn is deprecated; call bfKnn instead\n"
     ]
    },
    {
     "name": "stdout",
     "output_type": "stream",
     "text": [
      "Jaccard distance computing time cost: 559.0774893760681\n",
      "Extracting Online Features for convnext ...\n",
      "Features extracted in 299.53 seconds\n",
      "Computing jaccard distance...\n"
     ]
    },
    {
     "name": "stderr",
     "output_type": "stream",
     "text": [
      "bruteForceKnn is deprecated; call bfKnn instead\n"
     ]
    },
    {
     "name": "stdout",
     "output_type": "stream",
     "text": [
      "Jaccard distance computing time cost: 566.8262455463409\n",
      "Extracting Online Features for mobilenet ...\n",
      "Features extracted in 300.04 seconds\n",
      "Computing jaccard distance...\n"
     ]
    },
    {
     "name": "stderr",
     "output_type": "stream",
     "text": [
      "bruteForceKnn is deprecated; call bfKnn instead\n"
     ]
    },
    {
     "name": "stdout",
     "output_type": "stream",
     "text": [
      "Jaccard distance computing time cost: 571.5865001678467\n",
      "Extracting Online Features for vgg16 ...\n",
      "Features extracted in 303.00 seconds\n",
      "Computing jaccard distance...\n"
     ]
    },
    {
     "name": "stderr",
     "output_type": "stream",
     "text": [
      "bruteForceKnn is deprecated; call bfKnn instead\n"
     ]
    },
    {
     "name": "stdout",
     "output_type": "stream",
     "text": [
      "Jaccard distance computing time cost: 561.7099514007568\n",
      "Extracting Online Features for resnet50 ...\n",
      "Features extracted in 305.61 seconds\n",
      "Computing jaccard distance...\n"
     ]
    },
    {
     "name": "stderr",
     "output_type": "stream",
     "text": [
      "bruteForceKnn is deprecated; call bfKnn instead\n"
     ]
    },
    {
     "name": "stdout",
     "output_type": "stream",
     "text": [
      "Jaccard distance computing time cost: 567.1368284225464\n",
      "Extracting Online Features for osnet ...\n",
      "Features extracted in 297.47 seconds\n",
      "Computing jaccard distance...\n"
     ]
    },
    {
     "name": "stderr",
     "output_type": "stream",
     "text": [
      "bruteForceKnn is deprecated; call bfKnn instead\n"
     ]
    },
    {
     "name": "stdout",
     "output_type": "stream",
     "text": [
      "Jaccard distance computing time cost: 566.6620841026306\n",
      "Extracting Online Features for densenet121 ...\n",
      "Features extracted in 299.55 seconds\n",
      "Computing jaccard distance...\n"
     ]
    },
    {
     "name": "stderr",
     "output_type": "stream",
     "text": [
      "bruteForceKnn is deprecated; call bfKnn instead\n"
     ]
    },
    {
     "name": "stdout",
     "output_type": "stream",
     "text": [
      "Jaccard distance computing time cost: 583.6588056087494\n",
      "Reliability: 0.999\n",
      "\u001b[32mMean Purity: 0.00165\u001b[0m\n",
      "\u001b[34mThere are 1 clusters with 4 cameras\u001b[0m\n",
      "\u001b[34mThere are 4 clusters with 5 cameras\u001b[0m\n",
      "\u001b[34mThere are 1 clusters with 9 cameras\u001b[0m\n",
      "\u001b[34mThere are 1 clusters with 10 cameras\u001b[0m\n",
      "\u001b[34mThere are 2 clusters with 16 cameras\u001b[0m\n",
      "\u001b[34mThere are 1 clusters with 47 cameras\u001b[0m\n",
      "\u001b[34mThere are 1 clusters with 48 cameras\u001b[0m\n",
      "\u001b[34mThere are 1 clusters with 54 cameras\u001b[0m\n",
      "\u001b[34mThere are 1 clusters with 55 cameras\u001b[0m\n",
      "\u001b[34mThere are 4 clusters with 59 cameras\u001b[0m\n",
      "\u001b[34mThere are 1 clusters with 60 cameras\u001b[0m\n",
      "\u001b[34mThere are 11 clusters with 61 cameras\u001b[0m\n",
      "\u001b[34mThere are 4 clusters with 62 cameras\u001b[0m\n",
      "\u001b[34mThere are 8 clusters with 63 cameras\u001b[0m\n",
      "\u001b[34mThere are 562 clusters with 64 cameras\u001b[0m\n",
      "\u001b[34mThere are 1 clusters with 126 cameras\u001b[0m\n",
      "\u001b[34mThere are 2 clusters with 128 cameras\u001b[0m\n",
      "Number of classes: 606\n",
      "\u001b[36mLearning Rate: 0.000350\u001b[0m\n",
      "encontrou modelos efficientnet. Carregando...\n",
      "encontrou modelos convnext. Carregando...\n",
      "encontrou modelos mobilenet. Carregando...\n",
      "encontrou modelos vgg16. Carregando...\n",
      "encontrou modelos resnet50. Carregando...\n",
      "encontrou modelos osnet. Carregando...\n",
      "encontrou modelos densenet121. Carregando...\n",
      "\u001b[33mValidating online efficientnet ...\u001b[0m\n",
      "Features extracted in 97.37 seconds\n",
      "Features extracted in 166.57 seconds\n",
      "Computing CMC and mAP ...\n",
      "** Results **\n",
      "mAP: 74.77%\n",
      "CMC curve\n",
      "Rank-1  : 91.90%\n",
      "Rank-5  : 97.05%\n",
      "Rank-10 : 98.30%\n",
      "Rank-20 : 99.12%\n",
      "\u001b[33mValidating momentum efficientnet ...\u001b[0m\n",
      "Features extracted in 93.64 seconds\n",
      "Features extracted in 167.90 seconds\n",
      "Computing CMC and mAP ...\n",
      "** Results **\n",
      "mAP: 71.94%\n",
      "CMC curve\n",
      "Rank-1  : 78.12%\n",
      "Rank-5  : 93.61%\n",
      "Rank-10 : 97.04%\n",
      "Rank-20 : 99.14%\n",
      "\u001b[33mValidating online convnext ...\u001b[0m\n",
      "Features extracted in 98.07 seconds\n",
      "Features extracted in 169.93 seconds\n",
      "Computing CMC and mAP ...\n",
      "** Results **\n",
      "mAP: 73.94%\n",
      "CMC curve\n",
      "Rank-1  : 88.10%\n",
      "Rank-5  : 95.28%\n",
      "Rank-10 : 97.59%\n",
      "Rank-20 : 99.51%\n",
      "\u001b[33mValidating momentum convnext ...\u001b[0m\n",
      "Features extracted in 93.28 seconds\n",
      "Features extracted in 167.66 seconds\n",
      "Computing CMC and mAP ...\n",
      "** Results **\n",
      "mAP: 71.32%\n",
      "CMC curve\n",
      "Rank-1  : 81.36%\n",
      "Rank-5  : 93.92%\n",
      "Rank-10 : 96.43%\n",
      "Rank-20 : 98.01%\n",
      "\u001b[33mValidating online mobilenet ...\u001b[0m\n",
      "Features extracted in 93.05 seconds\n",
      "Features extracted in 163.87 seconds\n",
      "Computing CMC and mAP ...\n",
      "** Results **\n",
      "mAP: 73.44%\n",
      "CMC curve\n",
      "Rank-1  : 89.42%\n",
      "Rank-5  : 95.53%\n",
      "Rank-10 : 97.43%\n",
      "Rank-20 : 98.60%\n",
      "\u001b[33mValidating momentum mobilenet ...\u001b[0m\n",
      "Features extracted in 94.66 seconds\n",
      "Features extracted in 166.59 seconds\n",
      "Computing CMC and mAP ...\n",
      "** Results **\n",
      "mAP: 71.65%\n",
      "CMC curve\n",
      "Rank-1  : 84.47%\n",
      "Rank-5  : 95.38%\n",
      "Rank-10 : 97.77%\n",
      "Rank-20 : 98.98%\n",
      "\u001b[33mValidating online vgg16 ...\u001b[0m\n",
      "Features extracted in 95.20 seconds\n",
      "Features extracted in 169.20 seconds\n",
      "Computing CMC and mAP ...\n",
      "** Results **\n",
      "mAP: 73.15%\n",
      "CMC curve\n",
      "Rank-1  : 86.60%\n",
      "Rank-5  : 94.48%\n",
      "Rank-10 : 97.18%\n",
      "Rank-20 : 98.92%\n",
      "\u001b[33mValidating momentum vgg16 ...\u001b[0m\n",
      "Features extracted in 95.36 seconds\n",
      "Features extracted in 169.42 seconds\n",
      "Computing CMC and mAP ...\n",
      "** Results **\n",
      "mAP: 70.54%\n",
      "CMC curve\n",
      "Rank-1  : 79.23%\n",
      "Rank-5  : 95.60%\n",
      "Rank-10 : 98.30%\n",
      "Rank-20 : 99.65%\n",
      "\u001b[33mValidating online resnet50 ...\u001b[0m\n",
      "Features extracted in 94.93 seconds\n",
      "Features extracted in 162.65 seconds\n",
      "Computing CMC and mAP ...\n",
      "** Results **\n",
      "mAP: 73.98%\n",
      "CMC curve\n",
      "Rank-1  : 90.74%\n",
      "Rank-5  : 97.95%\n",
      "Rank-10 : 99.21%\n",
      "Rank-20 : 99.78%\n",
      "\u001b[33mValidating momentum resnet50 ...\u001b[0m\n",
      "Features extracted in 96.73 seconds\n",
      "Features extracted in 167.24 seconds\n",
      "Computing CMC and mAP ...\n",
      "** Results **\n",
      "mAP: 73.94%\n",
      "CMC curve\n",
      "Rank-1  : 89.96%\n",
      "Rank-5  : 97.91%\n",
      "Rank-10 : 99.30%\n",
      "Rank-20 : 99.85%\n",
      "\u001b[33mValidating online osnet ...\u001b[0m\n",
      "Features extracted in 96.48 seconds\n",
      "Features extracted in 166.14 seconds\n",
      "Computing CMC and mAP ...\n",
      "** Results **\n",
      "mAP: 71.48%\n",
      "CMC curve\n",
      "Rank-1  : 83.20%\n",
      "Rank-5  : 95.69%\n",
      "Rank-10 : 98.05%\n",
      "Rank-20 : 99.42%\n",
      "\u001b[33mValidating momentum osnet ...\u001b[0m\n",
      "Features extracted in 96.21 seconds\n",
      "Features extracted in 167.09 seconds\n",
      "Computing CMC and mAP ...\n",
      "** Results **\n",
      "mAP: 73.34%\n",
      "CMC curve\n",
      "Rank-1  : 82.40%\n",
      "Rank-5  : 95.54%\n",
      "Rank-10 : 98.11%\n",
      "Rank-20 : 99.44%\n",
      "\u001b[33mValidating online densenet121 ...\u001b[0m\n",
      "Features extracted in 95.94 seconds\n",
      "Features extracted in 169.83 seconds\n",
      "Computing CMC and mAP ...\n",
      "** Results **\n",
      "mAP: 73.52%\n",
      "CMC curve\n",
      "Rank-1  : 91.69%\n",
      "Rank-5  : 97.51%\n",
      "Rank-10 : 98.79%\n",
      "Rank-20 : 99.68%\n",
      "\u001b[33mValidating momentum densenet121 ...\u001b[0m\n",
      "Features extracted in 95.70 seconds\n",
      "Features extracted in 168.44 seconds\n",
      "Computing CMC and mAP ...\n",
      "** Results **\n",
      "mAP: 73.91%\n",
      "CMC curve\n",
      "Rank-1  : 86.29%\n",
      "Rank-5  : 96.31%\n",
      "Rank-10 : 98.47%\n",
      "Rank-20 : 99.43%\n",
      "\u001b[33mValidating ensembled with online models ...\u001b[0m\n",
      "Computing CMC and mAP ...\n",
      "** Results **\n",
      "mAP: 75.90%\n",
      "Ranks:\n",
      "Rank-1  : 96.38%\n",
      "Rank-5  : 99.15%\n",
      "Rank-10 : 99.68%\n",
      "\u001b[33mValidating ensembled with momentum models ...\u001b[0m\n",
      "Computing CMC and mAP ...\n",
      "** Results **\n",
      "mAP: 74.20%\n",
      "Ranks:\n",
      "Rank-1  : 87.73%\n",
      "Rank-5  : 96.52%\n",
      "Rank-10 : 98.52%\n",
      "###============ Iteration number 16/30 ============###\n",
      "Extracting Online Features for efficientnet ...\n",
      "Features extracted in 299.72 seconds\n",
      "Computing jaccard distance...\n"
     ]
    },
    {
     "name": "stderr",
     "output_type": "stream",
     "text": [
      "bruteForceKnn is deprecated; call bfKnn instead\n"
     ]
    },
    {
     "name": "stdout",
     "output_type": "stream",
     "text": [
      "Jaccard distance computing time cost: 546.4861571788788\n",
      "Extracting Online Features for convnext ...\n",
      "Features extracted in 308.13 seconds\n",
      "Computing jaccard distance...\n"
     ]
    },
    {
     "name": "stderr",
     "output_type": "stream",
     "text": [
      "bruteForceKnn is deprecated; call bfKnn instead\n"
     ]
    },
    {
     "name": "stdout",
     "output_type": "stream",
     "text": [
      "Jaccard distance computing time cost: 556.7817108631134\n",
      "Extracting Online Features for mobilenet ...\n",
      "Features extracted in 297.79 seconds\n",
      "Computing jaccard distance...\n"
     ]
    },
    {
     "name": "stderr",
     "output_type": "stream",
     "text": [
      "bruteForceKnn is deprecated; call bfKnn instead\n"
     ]
    },
    {
     "name": "stdout",
     "output_type": "stream",
     "text": [
      "Jaccard distance computing time cost: 561.397923707962\n",
      "Extracting Online Features for vgg16 ...\n",
      "Features extracted in 301.56 seconds\n",
      "Computing jaccard distance...\n"
     ]
    },
    {
     "name": "stderr",
     "output_type": "stream",
     "text": [
      "bruteForceKnn is deprecated; call bfKnn instead\n"
     ]
    },
    {
     "name": "stdout",
     "output_type": "stream",
     "text": [
      "Jaccard distance computing time cost: 557.8384943008423\n",
      "Extracting Online Features for resnet50 ...\n",
      "Features extracted in 283.41 seconds\n",
      "Computing jaccard distance...\n"
     ]
    },
    {
     "name": "stderr",
     "output_type": "stream",
     "text": [
      "bruteForceKnn is deprecated; call bfKnn instead\n"
     ]
    },
    {
     "name": "stdout",
     "output_type": "stream",
     "text": [
      "Jaccard distance computing time cost: 576.9593205451965\n",
      "Extracting Online Features for osnet ...\n",
      "Features extracted in 284.60 seconds\n",
      "Computing jaccard distance...\n"
     ]
    },
    {
     "name": "stderr",
     "output_type": "stream",
     "text": [
      "bruteForceKnn is deprecated; call bfKnn instead\n"
     ]
    },
    {
     "name": "stdout",
     "output_type": "stream",
     "text": [
      "Jaccard distance computing time cost: 583.914956331253\n",
      "Extracting Online Features for densenet121 ...\n",
      "Features extracted in 300.42 seconds\n",
      "Computing jaccard distance...\n"
     ]
    },
    {
     "name": "stderr",
     "output_type": "stream",
     "text": [
      "bruteForceKnn is deprecated; call bfKnn instead\n"
     ]
    },
    {
     "name": "stdout",
     "output_type": "stream",
     "text": [
      "Jaccard distance computing time cost: 568.5752255916595\n",
      "Reliability: 0.999\n",
      "\u001b[32mMean Purity: 0.00165\u001b[0m\n",
      "\u001b[34mThere are 1 clusters with 4 cameras\u001b[0m\n",
      "\u001b[34mThere are 4 clusters with 5 cameras\u001b[0m\n",
      "\u001b[34mThere are 1 clusters with 9 cameras\u001b[0m\n",
      "\u001b[34mThere are 1 clusters with 10 cameras\u001b[0m\n",
      "\u001b[34mThere are 2 clusters with 16 cameras\u001b[0m\n",
      "\u001b[34mThere are 1 clusters with 47 cameras\u001b[0m\n",
      "\u001b[34mThere are 1 clusters with 48 cameras\u001b[0m\n",
      "\u001b[34mThere are 1 clusters with 54 cameras\u001b[0m\n",
      "\u001b[34mThere are 1 clusters with 55 cameras\u001b[0m\n",
      "\u001b[34mThere are 4 clusters with 59 cameras\u001b[0m\n",
      "\u001b[34mThere are 1 clusters with 60 cameras\u001b[0m\n",
      "\u001b[34mThere are 11 clusters with 61 cameras\u001b[0m\n",
      "\u001b[34mThere are 4 clusters with 62 cameras\u001b[0m\n",
      "\u001b[34mThere are 8 clusters with 63 cameras\u001b[0m\n",
      "\u001b[34mThere are 562 clusters with 64 cameras\u001b[0m\n",
      "\u001b[34mThere are 1 clusters with 126 cameras\u001b[0m\n",
      "\u001b[34mThere are 2 clusters with 128 cameras\u001b[0m\n",
      "Number of classes: 606\n",
      "\u001b[36mLearning Rate: 0.000350\u001b[0m\n",
      "encontrou modelos efficientnet. Carregando...\n",
      "encontrou modelos convnext. Carregando...\n",
      "encontrou modelos mobilenet. Carregando...\n",
      "encontrou modelos vgg16. Carregando...\n",
      "encontrou modelos resnet50. Carregando...\n",
      "encontrou modelos osnet. Carregando...\n",
      "encontrou modelos densenet121. Carregando...\n",
      "###============ Iteration number 17/30 ============###\n",
      "Extracting Online Features for efficientnet ...\n",
      "Features extracted in 303.83 seconds\n",
      "Computing jaccard distance...\n"
     ]
    },
    {
     "name": "stderr",
     "output_type": "stream",
     "text": [
      "bruteForceKnn is deprecated; call bfKnn instead\n"
     ]
    },
    {
     "name": "stdout",
     "output_type": "stream",
     "text": [
      "Jaccard distance computing time cost: 560.3445546627045\n",
      "Extracting Online Features for convnext ...\n",
      "Features extracted in 295.37 seconds\n",
      "Computing jaccard distance...\n"
     ]
    },
    {
     "name": "stderr",
     "output_type": "stream",
     "text": [
      "bruteForceKnn is deprecated; call bfKnn instead\n"
     ]
    },
    {
     "name": "stdout",
     "output_type": "stream",
     "text": [
      "Jaccard distance computing time cost: 551.7546937465668\n",
      "Extracting Online Features for mobilenet ...\n",
      "Features extracted in 301.12 seconds\n",
      "Computing jaccard distance...\n"
     ]
    },
    {
     "name": "stderr",
     "output_type": "stream",
     "text": [
      "bruteForceKnn is deprecated; call bfKnn instead\n"
     ]
    },
    {
     "name": "stdout",
     "output_type": "stream",
     "text": [
      "Jaccard distance computing time cost: 559.8577060699463\n",
      "Extracting Online Features for vgg16 ...\n",
      "Features extracted in 287.67 seconds\n",
      "Computing jaccard distance...\n"
     ]
    },
    {
     "name": "stderr",
     "output_type": "stream",
     "text": [
      "bruteForceKnn is deprecated; call bfKnn instead\n"
     ]
    },
    {
     "name": "stdout",
     "output_type": "stream",
     "text": [
      "Jaccard distance computing time cost: 546.0379962921143\n",
      "Extracting Online Features for resnet50 ...\n",
      "Features extracted in 302.20 seconds\n",
      "Computing jaccard distance...\n"
     ]
    },
    {
     "name": "stderr",
     "output_type": "stream",
     "text": [
      "bruteForceKnn is deprecated; call bfKnn instead\n"
     ]
    },
    {
     "name": "stdout",
     "output_type": "stream",
     "text": [
      "Jaccard distance computing time cost: 558.9406723976135\n",
      "Extracting Online Features for osnet ...\n",
      "Features extracted in 298.83 seconds\n",
      "Computing jaccard distance...\n"
     ]
    },
    {
     "name": "stderr",
     "output_type": "stream",
     "text": [
      "bruteForceKnn is deprecated; call bfKnn instead\n"
     ]
    },
    {
     "name": "stdout",
     "output_type": "stream",
     "text": [
      "Jaccard distance computing time cost: 557.203620672226\n",
      "Extracting Online Features for densenet121 ...\n",
      "Features extracted in 305.84 seconds\n",
      "Computing jaccard distance...\n"
     ]
    },
    {
     "name": "stderr",
     "output_type": "stream",
     "text": [
      "bruteForceKnn is deprecated; call bfKnn instead\n"
     ]
    },
    {
     "name": "stdout",
     "output_type": "stream",
     "text": [
      "Jaccard distance computing time cost: 564.5515747070312\n",
      "Reliability: 0.999\n",
      "\u001b[32mMean Purity: 0.00165\u001b[0m\n",
      "\u001b[34mThere are 1 clusters with 4 cameras\u001b[0m\n",
      "\u001b[34mThere are 4 clusters with 5 cameras\u001b[0m\n",
      "\u001b[34mThere are 1 clusters with 9 cameras\u001b[0m\n",
      "\u001b[34mThere are 1 clusters with 10 cameras\u001b[0m\n",
      "\u001b[34mThere are 2 clusters with 16 cameras\u001b[0m\n",
      "\u001b[34mThere are 1 clusters with 47 cameras\u001b[0m\n",
      "\u001b[34mThere are 1 clusters with 48 cameras\u001b[0m\n",
      "\u001b[34mThere are 1 clusters with 54 cameras\u001b[0m\n",
      "\u001b[34mThere are 1 clusters with 55 cameras\u001b[0m\n",
      "\u001b[34mThere are 4 clusters with 59 cameras\u001b[0m\n",
      "\u001b[34mThere are 1 clusters with 60 cameras\u001b[0m\n",
      "\u001b[34mThere are 11 clusters with 61 cameras\u001b[0m\n",
      "\u001b[34mThere are 4 clusters with 62 cameras\u001b[0m\n",
      "\u001b[34mThere are 8 clusters with 63 cameras\u001b[0m\n",
      "\u001b[34mThere are 562 clusters with 64 cameras\u001b[0m\n",
      "\u001b[34mThere are 1 clusters with 126 cameras\u001b[0m\n",
      "\u001b[34mThere are 2 clusters with 128 cameras\u001b[0m\n",
      "Number of classes: 606\n",
      "\u001b[36mLearning Rate: 0.000350\u001b[0m\n",
      "encontrou modelos efficientnet. Carregando...\n",
      "encontrou modelos convnext. Carregando...\n",
      "encontrou modelos mobilenet. Carregando...\n",
      "encontrou modelos vgg16. Carregando...\n",
      "encontrou modelos resnet50. Carregando...\n",
      "encontrou modelos osnet. Carregando...\n",
      "encontrou modelos densenet121. Carregando...\n",
      "###============ Iteration number 18/30 ============###\n",
      "Extracting Online Features for efficientnet ...\n",
      "Features extracted in 305.80 seconds\n",
      "Computing jaccard distance...\n"
     ]
    },
    {
     "name": "stderr",
     "output_type": "stream",
     "text": [
      "bruteForceKnn is deprecated; call bfKnn instead\n"
     ]
    },
    {
     "name": "stdout",
     "output_type": "stream",
     "text": [
      "Jaccard distance computing time cost: 558.9093480110168\n",
      "Extracting Online Features for convnext ...\n",
      "Features extracted in 306.64 seconds\n",
      "Computing jaccard distance...\n"
     ]
    },
    {
     "name": "stderr",
     "output_type": "stream",
     "text": [
      "bruteForceKnn is deprecated; call bfKnn instead\n"
     ]
    },
    {
     "name": "stdout",
     "output_type": "stream",
     "text": [
      "Jaccard distance computing time cost: 554.0060749053955\n",
      "Extracting Online Features for mobilenet ...\n",
      "Features extracted in 310.38 seconds\n",
      "Computing jaccard distance...\n"
     ]
    },
    {
     "name": "stderr",
     "output_type": "stream",
     "text": [
      "bruteForceKnn is deprecated; call bfKnn instead\n"
     ]
    },
    {
     "name": "stdout",
     "output_type": "stream",
     "text": [
      "Jaccard distance computing time cost: 545.9930238723755\n",
      "Extracting Online Features for vgg16 ...\n",
      "Features extracted in 299.00 seconds\n",
      "Computing jaccard distance...\n"
     ]
    },
    {
     "name": "stderr",
     "output_type": "stream",
     "text": [
      "bruteForceKnn is deprecated; call bfKnn instead\n"
     ]
    },
    {
     "name": "stdout",
     "output_type": "stream",
     "text": [
      "Jaccard distance computing time cost: 559.903037071228\n",
      "Extracting Online Features for resnet50 ...\n",
      "Features extracted in 300.05 seconds\n",
      "Computing jaccard distance...\n"
     ]
    },
    {
     "name": "stderr",
     "output_type": "stream",
     "text": [
      "bruteForceKnn is deprecated; call bfKnn instead\n"
     ]
    },
    {
     "name": "stdout",
     "output_type": "stream",
     "text": [
      "Jaccard distance computing time cost: 553.2975566387177\n",
      "Extracting Online Features for osnet ...\n",
      "Features extracted in 295.05 seconds\n",
      "Computing jaccard distance...\n"
     ]
    },
    {
     "name": "stderr",
     "output_type": "stream",
     "text": [
      "bruteForceKnn is deprecated; call bfKnn instead\n"
     ]
    },
    {
     "name": "stdout",
     "output_type": "stream",
     "text": [
      "Jaccard distance computing time cost: 548.0194272994995\n",
      "Extracting Online Features for densenet121 ...\n",
      "Features extracted in 306.84 seconds\n",
      "Computing jaccard distance...\n"
     ]
    },
    {
     "name": "stderr",
     "output_type": "stream",
     "text": [
      "bruteForceKnn is deprecated; call bfKnn instead\n"
     ]
    },
    {
     "name": "stdout",
     "output_type": "stream",
     "text": [
      "Jaccard distance computing time cost: 554.7014274597168\n",
      "Reliability: 0.999\n",
      "\u001b[32mMean Purity: 0.00165\u001b[0m\n",
      "\u001b[34mThere are 1 clusters with 4 cameras\u001b[0m\n",
      "\u001b[34mThere are 4 clusters with 5 cameras\u001b[0m\n",
      "\u001b[34mThere are 1 clusters with 9 cameras\u001b[0m\n",
      "\u001b[34mThere are 1 clusters with 10 cameras\u001b[0m\n",
      "\u001b[34mThere are 2 clusters with 16 cameras\u001b[0m\n",
      "\u001b[34mThere are 1 clusters with 47 cameras\u001b[0m\n",
      "\u001b[34mThere are 1 clusters with 48 cameras\u001b[0m\n",
      "\u001b[34mThere are 1 clusters with 54 cameras\u001b[0m\n",
      "\u001b[34mThere are 1 clusters with 55 cameras\u001b[0m\n",
      "\u001b[34mThere are 4 clusters with 59 cameras\u001b[0m\n",
      "\u001b[34mThere are 1 clusters with 60 cameras\u001b[0m\n",
      "\u001b[34mThere are 11 clusters with 61 cameras\u001b[0m\n",
      "\u001b[34mThere are 4 clusters with 62 cameras\u001b[0m\n",
      "\u001b[34mThere are 8 clusters with 63 cameras\u001b[0m\n",
      "\u001b[34mThere are 562 clusters with 64 cameras\u001b[0m\n",
      "\u001b[34mThere are 1 clusters with 126 cameras\u001b[0m\n",
      "\u001b[34mThere are 2 clusters with 128 cameras\u001b[0m\n",
      "Number of classes: 606\n",
      "\u001b[36mLearning Rate: 0.000350\u001b[0m\n",
      "encontrou modelos efficientnet. Carregando...\n",
      "encontrou modelos convnext. Carregando...\n",
      "encontrou modelos mobilenet. Carregando...\n",
      "encontrou modelos vgg16. Carregando...\n",
      "encontrou modelos resnet50. Carregando...\n",
      "encontrou modelos osnet. Carregando...\n",
      "encontrou modelos densenet121. Carregando...\n",
      "###============ Iteration number 19/30 ============###\n",
      "Extracting Online Features for efficientnet ...\n",
      "Features extracted in 300.73 seconds\n",
      "Computing jaccard distance...\n"
     ]
    },
    {
     "name": "stderr",
     "output_type": "stream",
     "text": [
      "bruteForceKnn is deprecated; call bfKnn instead\n"
     ]
    },
    {
     "name": "stdout",
     "output_type": "stream",
     "text": [
      "Jaccard distance computing time cost: 549.051774263382\n",
      "Extracting Online Features for convnext ...\n",
      "Features extracted in 300.73 seconds\n",
      "Computing jaccard distance...\n"
     ]
    },
    {
     "name": "stderr",
     "output_type": "stream",
     "text": [
      "bruteForceKnn is deprecated; call bfKnn instead\n"
     ]
    },
    {
     "name": "stdout",
     "output_type": "stream",
     "text": [
      "Jaccard distance computing time cost: 554.1724300384521\n",
      "Extracting Online Features for mobilenet ...\n",
      "Features extracted in 310.83 seconds\n",
      "Computing jaccard distance...\n"
     ]
    },
    {
     "name": "stderr",
     "output_type": "stream",
     "text": [
      "bruteForceKnn is deprecated; call bfKnn instead\n"
     ]
    },
    {
     "name": "stdout",
     "output_type": "stream",
     "text": [
      "Jaccard distance computing time cost: 548.1592330932617\n",
      "Extracting Online Features for vgg16 ...\n",
      "Features extracted in 297.53 seconds\n",
      "Computing jaccard distance...\n"
     ]
    },
    {
     "name": "stderr",
     "output_type": "stream",
     "text": [
      "bruteForceKnn is deprecated; call bfKnn instead\n"
     ]
    },
    {
     "name": "stdout",
     "output_type": "stream",
     "text": [
      "Jaccard distance computing time cost: 541.1001307964325\n",
      "Extracting Online Features for resnet50 ...\n",
      "Features extracted in 306.52 seconds\n",
      "Computing jaccard distance...\n"
     ]
    },
    {
     "name": "stderr",
     "output_type": "stream",
     "text": [
      "bruteForceKnn is deprecated; call bfKnn instead\n"
     ]
    },
    {
     "name": "stdout",
     "output_type": "stream",
     "text": [
      "Jaccard distance computing time cost: 547.4247169494629\n",
      "Extracting Online Features for osnet ...\n",
      "Features extracted in 299.69 seconds\n",
      "Computing jaccard distance...\n"
     ]
    },
    {
     "name": "stderr",
     "output_type": "stream",
     "text": [
      "bruteForceKnn is deprecated; call bfKnn instead\n"
     ]
    },
    {
     "name": "stdout",
     "output_type": "stream",
     "text": [
      "Jaccard distance computing time cost: 536.6117358207703\n",
      "Extracting Online Features for densenet121 ...\n",
      "Features extracted in 301.83 seconds\n",
      "Computing jaccard distance...\n"
     ]
    },
    {
     "name": "stderr",
     "output_type": "stream",
     "text": [
      "bruteForceKnn is deprecated; call bfKnn instead\n"
     ]
    },
    {
     "name": "stdout",
     "output_type": "stream",
     "text": [
      "Jaccard distance computing time cost: 549.2616953849792\n",
      "Reliability: 0.999\n",
      "\u001b[32mMean Purity: 0.00165\u001b[0m\n",
      "\u001b[34mThere are 1 clusters with 4 cameras\u001b[0m\n",
      "\u001b[34mThere are 4 clusters with 5 cameras\u001b[0m\n",
      "\u001b[34mThere are 1 clusters with 9 cameras\u001b[0m\n",
      "\u001b[34mThere are 1 clusters with 10 cameras\u001b[0m\n",
      "\u001b[34mThere are 2 clusters with 16 cameras\u001b[0m\n",
      "\u001b[34mThere are 1 clusters with 47 cameras\u001b[0m\n",
      "\u001b[34mThere are 1 clusters with 48 cameras\u001b[0m\n",
      "\u001b[34mThere are 1 clusters with 54 cameras\u001b[0m\n",
      "\u001b[34mThere are 1 clusters with 55 cameras\u001b[0m\n",
      "\u001b[34mThere are 4 clusters with 59 cameras\u001b[0m\n",
      "\u001b[34mThere are 1 clusters with 60 cameras\u001b[0m\n",
      "\u001b[34mThere are 11 clusters with 61 cameras\u001b[0m\n",
      "\u001b[34mThere are 4 clusters with 62 cameras\u001b[0m\n",
      "\u001b[34mThere are 8 clusters with 63 cameras\u001b[0m\n",
      "\u001b[34mThere are 562 clusters with 64 cameras\u001b[0m\n",
      "\u001b[34mThere are 1 clusters with 126 cameras\u001b[0m\n",
      "\u001b[34mThere are 2 clusters with 128 cameras\u001b[0m\n",
      "Number of classes: 606\n",
      "\u001b[36mLearning Rate: 0.000350\u001b[0m\n",
      "encontrou modelos efficientnet. Carregando...\n",
      "encontrou modelos convnext. Carregando...\n",
      "encontrou modelos mobilenet. Carregando...\n",
      "encontrou modelos vgg16. Carregando...\n",
      "encontrou modelos resnet50. Carregando...\n",
      "encontrou modelos osnet. Carregando...\n",
      "encontrou modelos densenet121. Carregando...\n",
      "###============ Iteration number 20/30 ============###\n",
      "Extracting Online Features for efficientnet ...\n",
      "Features extracted in 299.26 seconds\n",
      "Computing jaccard distance...\n"
     ]
    },
    {
     "name": "stderr",
     "output_type": "stream",
     "text": [
      "bruteForceKnn is deprecated; call bfKnn instead\n"
     ]
    },
    {
     "name": "stdout",
     "output_type": "stream",
     "text": [
      "Jaccard distance computing time cost: 553.0229346752167\n",
      "Extracting Online Features for convnext ...\n",
      "Features extracted in 310.56 seconds\n",
      "Computing jaccard distance...\n"
     ]
    },
    {
     "name": "stderr",
     "output_type": "stream",
     "text": [
      "bruteForceKnn is deprecated; call bfKnn instead\n"
     ]
    },
    {
     "name": "stdout",
     "output_type": "stream",
     "text": [
      "Jaccard distance computing time cost: 549.6108291149139\n",
      "Extracting Online Features for mobilenet ...\n",
      "Features extracted in 297.00 seconds\n",
      "Computing jaccard distance...\n"
     ]
    },
    {
     "name": "stderr",
     "output_type": "stream",
     "text": [
      "bruteForceKnn is deprecated; call bfKnn instead\n"
     ]
    },
    {
     "name": "stdout",
     "output_type": "stream",
     "text": [
      "Jaccard distance computing time cost: 561.754626750946\n",
      "Extracting Online Features for vgg16 ...\n",
      "Features extracted in 296.89 seconds\n",
      "Computing jaccard distance...\n"
     ]
    },
    {
     "name": "stderr",
     "output_type": "stream",
     "text": [
      "bruteForceKnn is deprecated; call bfKnn instead\n"
     ]
    },
    {
     "name": "stdout",
     "output_type": "stream",
     "text": [
      "Jaccard distance computing time cost: 561.6400129795074\n",
      "Extracting Online Features for resnet50 ...\n",
      "Features extracted in 303.44 seconds\n",
      "Computing jaccard distance...\n"
     ]
    },
    {
     "name": "stderr",
     "output_type": "stream",
     "text": [
      "bruteForceKnn is deprecated; call bfKnn instead\n"
     ]
    },
    {
     "name": "stdout",
     "output_type": "stream",
     "text": [
      "Jaccard distance computing time cost: 553.0654776096344\n",
      "Extracting Online Features for osnet ...\n",
      "Features extracted in 300.54 seconds\n",
      "Computing jaccard distance...\n"
     ]
    },
    {
     "name": "stderr",
     "output_type": "stream",
     "text": [
      "bruteForceKnn is deprecated; call bfKnn instead\n"
     ]
    },
    {
     "name": "stdout",
     "output_type": "stream",
     "text": [
      "Jaccard distance computing time cost: 559.6124448776245\n",
      "Extracting Online Features for densenet121 ...\n",
      "Features extracted in 294.27 seconds\n",
      "Computing jaccard distance...\n"
     ]
    },
    {
     "name": "stderr",
     "output_type": "stream",
     "text": [
      "bruteForceKnn is deprecated; call bfKnn instead\n"
     ]
    },
    {
     "name": "stdout",
     "output_type": "stream",
     "text": [
      "Jaccard distance computing time cost: 554.0825707912445\n",
      "Reliability: 0.999\n",
      "\u001b[32mMean Purity: 0.00165\u001b[0m\n",
      "\u001b[34mThere are 1 clusters with 4 cameras\u001b[0m\n",
      "\u001b[34mThere are 4 clusters with 5 cameras\u001b[0m\n",
      "\u001b[34mThere are 1 clusters with 9 cameras\u001b[0m\n",
      "\u001b[34mThere are 1 clusters with 10 cameras\u001b[0m\n",
      "\u001b[34mThere are 2 clusters with 16 cameras\u001b[0m\n",
      "\u001b[34mThere are 1 clusters with 47 cameras\u001b[0m\n",
      "\u001b[34mThere are 1 clusters with 48 cameras\u001b[0m\n",
      "\u001b[34mThere are 1 clusters with 54 cameras\u001b[0m\n",
      "\u001b[34mThere are 1 clusters with 55 cameras\u001b[0m\n",
      "\u001b[34mThere are 4 clusters with 59 cameras\u001b[0m\n",
      "\u001b[34mThere are 1 clusters with 60 cameras\u001b[0m\n",
      "\u001b[34mThere are 11 clusters with 61 cameras\u001b[0m\n",
      "\u001b[34mThere are 4 clusters with 62 cameras\u001b[0m\n",
      "\u001b[34mThere are 8 clusters with 63 cameras\u001b[0m\n",
      "\u001b[34mThere are 562 clusters with 64 cameras\u001b[0m\n",
      "\u001b[34mThere are 1 clusters with 126 cameras\u001b[0m\n",
      "\u001b[34mThere are 2 clusters with 128 cameras\u001b[0m\n",
      "Number of classes: 606\n",
      "\u001b[36mLearning Rate: 0.000350\u001b[0m\n",
      "encontrou modelos efficientnet. Carregando...\n",
      "encontrou modelos convnext. Carregando...\n",
      "encontrou modelos mobilenet. Carregando...\n",
      "encontrou modelos vgg16. Carregando...\n",
      "encontrou modelos resnet50. Carregando...\n",
      "encontrou modelos osnet. Carregando...\n",
      "encontrou modelos densenet121. Carregando...\n",
      "\u001b[33mValidating online efficientnet ...\u001b[0m\n",
      "Features extracted in 97.40 seconds\n",
      "Features extracted in 169.81 seconds\n",
      "Computing CMC and mAP ...\n",
      "** Results **\n",
      "mAP: 74.77%\n",
      "CMC curve\n",
      "Rank-1  : 91.90%\n",
      "Rank-5  : 97.05%\n",
      "Rank-10 : 98.30%\n",
      "Rank-20 : 99.12%\n",
      "\u001b[33mValidating momentum efficientnet ...\u001b[0m\n",
      "Features extracted in 94.44 seconds\n",
      "Features extracted in 171.58 seconds\n",
      "Computing CMC and mAP ...\n",
      "** Results **\n",
      "mAP: 71.94%\n",
      "CMC curve\n",
      "Rank-1  : 78.12%\n",
      "Rank-5  : 93.61%\n",
      "Rank-10 : 97.04%\n",
      "Rank-20 : 99.14%\n",
      "\u001b[33mValidating online convnext ...\u001b[0m\n",
      "Features extracted in 91.74 seconds\n",
      "Features extracted in 170.49 seconds\n",
      "Computing CMC and mAP ...\n",
      "** Results **\n",
      "mAP: 73.94%\n",
      "CMC curve\n",
      "Rank-1  : 88.10%\n",
      "Rank-5  : 95.28%\n",
      "Rank-10 : 97.59%\n",
      "Rank-20 : 99.51%\n",
      "\u001b[33mValidating momentum convnext ...\u001b[0m\n",
      "Features extracted in 91.05 seconds\n",
      "Features extracted in 174.45 seconds\n",
      "Computing CMC and mAP ...\n",
      "** Results **\n",
      "mAP: 71.32%\n",
      "CMC curve\n",
      "Rank-1  : 81.36%\n",
      "Rank-5  : 93.92%\n",
      "Rank-10 : 96.43%\n",
      "Rank-20 : 98.01%\n",
      "\u001b[33mValidating online mobilenet ...\u001b[0m\n",
      "Features extracted in 90.38 seconds\n",
      "Features extracted in 168.99 seconds\n",
      "Computing CMC and mAP ...\n",
      "** Results **\n",
      "mAP: 73.44%\n",
      "CMC curve\n",
      "Rank-1  : 89.42%\n",
      "Rank-5  : 95.53%\n",
      "Rank-10 : 97.43%\n",
      "Rank-20 : 98.60%\n",
      "\u001b[33mValidating momentum mobilenet ...\u001b[0m\n",
      "Features extracted in 95.47 seconds\n",
      "Features extracted in 163.89 seconds\n",
      "Computing CMC and mAP ...\n",
      "** Results **\n",
      "mAP: 71.65%\n",
      "CMC curve\n",
      "Rank-1  : 84.47%\n",
      "Rank-5  : 95.38%\n",
      "Rank-10 : 97.77%\n",
      "Rank-20 : 98.98%\n",
      "\u001b[33mValidating online vgg16 ...\u001b[0m\n",
      "Features extracted in 99.17 seconds\n",
      "Features extracted in 171.78 seconds\n",
      "Computing CMC and mAP ...\n",
      "** Results **\n",
      "mAP: 73.15%\n",
      "CMC curve\n",
      "Rank-1  : 86.60%\n",
      "Rank-5  : 94.48%\n",
      "Rank-10 : 97.18%\n",
      "Rank-20 : 98.92%\n",
      "\u001b[33mValidating momentum vgg16 ...\u001b[0m\n",
      "Features extracted in 91.81 seconds\n",
      "Features extracted in 170.69 seconds\n",
      "Computing CMC and mAP ...\n",
      "** Results **\n",
      "mAP: 70.54%\n",
      "CMC curve\n",
      "Rank-1  : 79.23%\n",
      "Rank-5  : 95.60%\n",
      "Rank-10 : 98.30%\n",
      "Rank-20 : 99.65%\n",
      "\u001b[33mValidating online resnet50 ...\u001b[0m\n",
      "Features extracted in 97.50 seconds\n",
      "Features extracted in 170.47 seconds\n",
      "Computing CMC and mAP ...\n",
      "** Results **\n",
      "mAP: 73.98%\n",
      "CMC curve\n",
      "Rank-1  : 90.74%\n",
      "Rank-5  : 97.95%\n",
      "Rank-10 : 99.21%\n",
      "Rank-20 : 99.78%\n",
      "\u001b[33mValidating momentum resnet50 ...\u001b[0m\n",
      "Features extracted in 96.73 seconds\n",
      "Features extracted in 168.51 seconds\n",
      "Computing CMC and mAP ...\n",
      "** Results **\n",
      "mAP: 73.94%\n",
      "CMC curve\n",
      "Rank-1  : 89.96%\n",
      "Rank-5  : 97.91%\n",
      "Rank-10 : 99.30%\n",
      "Rank-20 : 99.85%\n",
      "\u001b[33mValidating online osnet ...\u001b[0m\n",
      "Features extracted in 96.99 seconds\n",
      "Features extracted in 170.30 seconds\n",
      "Computing CMC and mAP ...\n",
      "** Results **\n",
      "mAP: 71.48%\n",
      "CMC curve\n",
      "Rank-1  : 83.20%\n",
      "Rank-5  : 95.69%\n",
      "Rank-10 : 98.05%\n",
      "Rank-20 : 99.42%\n",
      "\u001b[33mValidating momentum osnet ...\u001b[0m\n",
      "Features extracted in 96.32 seconds\n",
      "Features extracted in 171.04 seconds\n",
      "Computing CMC and mAP ...\n",
      "** Results **\n",
      "mAP: 73.34%\n",
      "CMC curve\n",
      "Rank-1  : 82.40%\n",
      "Rank-5  : 95.54%\n",
      "Rank-10 : 98.11%\n",
      "Rank-20 : 99.44%\n",
      "\u001b[33mValidating online densenet121 ...\u001b[0m\n",
      "Features extracted in 97.81 seconds\n",
      "Features extracted in 173.53 seconds\n",
      "Computing CMC and mAP ...\n",
      "** Results **\n",
      "mAP: 73.52%\n",
      "CMC curve\n",
      "Rank-1  : 91.69%\n",
      "Rank-5  : 97.51%\n",
      "Rank-10 : 98.79%\n",
      "Rank-20 : 99.68%\n",
      "\u001b[33mValidating momentum densenet121 ...\u001b[0m\n",
      "Features extracted in 98.03 seconds\n",
      "Features extracted in 169.63 seconds\n",
      "Computing CMC and mAP ...\n",
      "** Results **\n",
      "mAP: 73.91%\n",
      "CMC curve\n",
      "Rank-1  : 86.29%\n",
      "Rank-5  : 96.31%\n",
      "Rank-10 : 98.47%\n",
      "Rank-20 : 99.43%\n",
      "\u001b[33mValidating ensembled with online models ...\u001b[0m\n",
      "Computing CMC and mAP ...\n",
      "** Results **\n",
      "mAP: 75.90%\n",
      "Ranks:\n",
      "Rank-1  : 96.38%\n",
      "Rank-5  : 99.15%\n",
      "Rank-10 : 99.68%\n",
      "\u001b[33mValidating ensembled with momentum models ...\u001b[0m\n",
      "Computing CMC and mAP ...\n",
      "** Results **\n",
      "mAP: 74.20%\n",
      "Ranks:\n",
      "Rank-1  : 87.73%\n",
      "Rank-5  : 96.52%\n",
      "Rank-10 : 98.52%\n",
      "###============ Iteration number 21/30 ============###\n",
      "Extracting Online Features for efficientnet ...\n",
      "Features extracted in 296.69 seconds\n",
      "Computing jaccard distance...\n"
     ]
    },
    {
     "name": "stderr",
     "output_type": "stream",
     "text": [
      "bruteForceKnn is deprecated; call bfKnn instead\n"
     ]
    },
    {
     "name": "stdout",
     "output_type": "stream",
     "text": [
      "Jaccard distance computing time cost: 562.5251445770264\n",
      "Extracting Online Features for convnext ...\n",
      "Features extracted in 303.12 seconds\n",
      "Computing jaccard distance...\n"
     ]
    },
    {
     "name": "stderr",
     "output_type": "stream",
     "text": [
      "bruteForceKnn is deprecated; call bfKnn instead\n"
     ]
    },
    {
     "name": "stdout",
     "output_type": "stream",
     "text": [
      "Jaccard distance computing time cost: 557.8546733856201\n",
      "Extracting Online Features for mobilenet ...\n",
      "Features extracted in 304.39 seconds\n",
      "Computing jaccard distance...\n"
     ]
    },
    {
     "name": "stderr",
     "output_type": "stream",
     "text": [
      "bruteForceKnn is deprecated; call bfKnn instead\n"
     ]
    },
    {
     "name": "stdout",
     "output_type": "stream",
     "text": [
      "Jaccard distance computing time cost: 553.2113201618195\n",
      "Extracting Online Features for vgg16 ...\n",
      "Features extracted in 302.68 seconds\n",
      "Computing jaccard distance...\n"
     ]
    },
    {
     "name": "stderr",
     "output_type": "stream",
     "text": [
      "bruteForceKnn is deprecated; call bfKnn instead\n"
     ]
    },
    {
     "name": "stdout",
     "output_type": "stream",
     "text": [
      "Jaccard distance computing time cost: 558.8433153629303\n",
      "Extracting Online Features for resnet50 ...\n",
      "Features extracted in 306.22 seconds\n",
      "Computing jaccard distance...\n"
     ]
    },
    {
     "name": "stderr",
     "output_type": "stream",
     "text": [
      "bruteForceKnn is deprecated; call bfKnn instead\n"
     ]
    },
    {
     "name": "stdout",
     "output_type": "stream",
     "text": [
      "Jaccard distance computing time cost: 548.8875277042389\n",
      "Extracting Online Features for osnet ...\n",
      "Features extracted in 291.11 seconds\n",
      "Computing jaccard distance...\n"
     ]
    },
    {
     "name": "stderr",
     "output_type": "stream",
     "text": [
      "bruteForceKnn is deprecated; call bfKnn instead\n"
     ]
    },
    {
     "name": "stdout",
     "output_type": "stream",
     "text": [
      "Jaccard distance computing time cost: 559.6559290885925\n",
      "Extracting Online Features for densenet121 ...\n",
      "Features extracted in 300.75 seconds\n",
      "Computing jaccard distance...\n"
     ]
    },
    {
     "name": "stderr",
     "output_type": "stream",
     "text": [
      "bruteForceKnn is deprecated; call bfKnn instead\n"
     ]
    },
    {
     "name": "stdout",
     "output_type": "stream",
     "text": [
      "Jaccard distance computing time cost: 558.5279157161713\n",
      "Reliability: 0.999\n",
      "\u001b[32mMean Purity: 0.00165\u001b[0m\n",
      "\u001b[34mThere are 1 clusters with 4 cameras\u001b[0m\n",
      "\u001b[34mThere are 4 clusters with 5 cameras\u001b[0m\n",
      "\u001b[34mThere are 1 clusters with 9 cameras\u001b[0m\n",
      "\u001b[34mThere are 1 clusters with 10 cameras\u001b[0m\n",
      "\u001b[34mThere are 2 clusters with 16 cameras\u001b[0m\n",
      "\u001b[34mThere are 1 clusters with 47 cameras\u001b[0m\n",
      "\u001b[34mThere are 1 clusters with 48 cameras\u001b[0m\n",
      "\u001b[34mThere are 1 clusters with 54 cameras\u001b[0m\n",
      "\u001b[34mThere are 1 clusters with 55 cameras\u001b[0m\n",
      "\u001b[34mThere are 4 clusters with 59 cameras\u001b[0m\n",
      "\u001b[34mThere are 1 clusters with 60 cameras\u001b[0m\n",
      "\u001b[34mThere are 11 clusters with 61 cameras\u001b[0m\n",
      "\u001b[34mThere are 4 clusters with 62 cameras\u001b[0m\n",
      "\u001b[34mThere are 8 clusters with 63 cameras\u001b[0m\n",
      "\u001b[34mThere are 562 clusters with 64 cameras\u001b[0m\n",
      "\u001b[34mThere are 1 clusters with 126 cameras\u001b[0m\n",
      "\u001b[34mThere are 2 clusters with 128 cameras\u001b[0m\n",
      "Number of classes: 606\n",
      "\u001b[36mLearning Rate: 0.000350\u001b[0m\n",
      "encontrou modelos efficientnet. Carregando...\n",
      "encontrou modelos convnext. Carregando...\n",
      "encontrou modelos mobilenet. Carregando...\n",
      "encontrou modelos vgg16. Carregando...\n",
      "encontrou modelos resnet50. Carregando...\n",
      "encontrou modelos osnet. Carregando...\n",
      "encontrou modelos densenet121. Carregando...\n",
      "###============ Iteration number 22/30 ============###\n",
      "Extracting Online Features for efficientnet ...\n",
      "Features extracted in 302.38 seconds\n",
      "Computing jaccard distance...\n"
     ]
    },
    {
     "name": "stderr",
     "output_type": "stream",
     "text": [
      "bruteForceKnn is deprecated; call bfKnn instead\n"
     ]
    },
    {
     "name": "stdout",
     "output_type": "stream",
     "text": [
      "Jaccard distance computing time cost: 560.7764360904694\n",
      "Extracting Online Features for convnext ...\n",
      "Features extracted in 304.71 seconds\n",
      "Computing jaccard distance...\n"
     ]
    },
    {
     "name": "stderr",
     "output_type": "stream",
     "text": [
      "bruteForceKnn is deprecated; call bfKnn instead\n"
     ]
    },
    {
     "name": "stdout",
     "output_type": "stream",
     "text": [
      "Jaccard distance computing time cost: 556.7200391292572\n",
      "Extracting Online Features for mobilenet ...\n",
      "Features extracted in 298.63 seconds\n",
      "Computing jaccard distance...\n"
     ]
    },
    {
     "name": "stderr",
     "output_type": "stream",
     "text": [
      "bruteForceKnn is deprecated; call bfKnn instead\n"
     ]
    },
    {
     "name": "stdout",
     "output_type": "stream",
     "text": [
      "Jaccard distance computing time cost: 560.2629816532135\n",
      "Extracting Online Features for vgg16 ...\n",
      "Features extracted in 298.07 seconds\n",
      "Computing jaccard distance...\n"
     ]
    },
    {
     "name": "stderr",
     "output_type": "stream",
     "text": [
      "bruteForceKnn is deprecated; call bfKnn instead\n"
     ]
    },
    {
     "name": "stdout",
     "output_type": "stream",
     "text": [
      "Jaccard distance computing time cost: 545.3827030658722\n",
      "Extracting Online Features for resnet50 ...\n",
      "Features extracted in 305.87 seconds\n",
      "Computing jaccard distance...\n"
     ]
    },
    {
     "name": "stderr",
     "output_type": "stream",
     "text": [
      "bruteForceKnn is deprecated; call bfKnn instead\n"
     ]
    },
    {
     "name": "stdout",
     "output_type": "stream",
     "text": [
      "Jaccard distance computing time cost: 542.0857462882996\n",
      "Extracting Online Features for osnet ...\n",
      "Features extracted in 301.00 seconds\n",
      "Computing jaccard distance...\n"
     ]
    },
    {
     "name": "stderr",
     "output_type": "stream",
     "text": [
      "bruteForceKnn is deprecated; call bfKnn instead\n"
     ]
    },
    {
     "name": "stdout",
     "output_type": "stream",
     "text": [
      "Jaccard distance computing time cost: 557.2276949882507\n",
      "Extracting Online Features for densenet121 ...\n",
      "Features extracted in 304.62 seconds\n",
      "Computing jaccard distance...\n"
     ]
    },
    {
     "name": "stderr",
     "output_type": "stream",
     "text": [
      "bruteForceKnn is deprecated; call bfKnn instead\n"
     ]
    },
    {
     "name": "stdout",
     "output_type": "stream",
     "text": [
      "Jaccard distance computing time cost: 561.7153451442719\n",
      "Reliability: 0.999\n",
      "\u001b[32mMean Purity: 0.00165\u001b[0m\n",
      "\u001b[34mThere are 1 clusters with 4 cameras\u001b[0m\n",
      "\u001b[34mThere are 4 clusters with 5 cameras\u001b[0m\n",
      "\u001b[34mThere are 1 clusters with 9 cameras\u001b[0m\n",
      "\u001b[34mThere are 1 clusters with 10 cameras\u001b[0m\n",
      "\u001b[34mThere are 2 clusters with 16 cameras\u001b[0m\n",
      "\u001b[34mThere are 1 clusters with 47 cameras\u001b[0m\n",
      "\u001b[34mThere are 1 clusters with 48 cameras\u001b[0m\n",
      "\u001b[34mThere are 1 clusters with 54 cameras\u001b[0m\n",
      "\u001b[34mThere are 1 clusters with 55 cameras\u001b[0m\n",
      "\u001b[34mThere are 4 clusters with 59 cameras\u001b[0m\n",
      "\u001b[34mThere are 1 clusters with 60 cameras\u001b[0m\n",
      "\u001b[34mThere are 11 clusters with 61 cameras\u001b[0m\n",
      "\u001b[34mThere are 4 clusters with 62 cameras\u001b[0m\n",
      "\u001b[34mThere are 8 clusters with 63 cameras\u001b[0m\n",
      "\u001b[34mThere are 562 clusters with 64 cameras\u001b[0m\n",
      "\u001b[34mThere are 1 clusters with 126 cameras\u001b[0m\n",
      "\u001b[34mThere are 2 clusters with 128 cameras\u001b[0m\n",
      "Number of classes: 606\n",
      "\u001b[36mLearning Rate: 0.000350\u001b[0m\n",
      "encontrou modelos efficientnet. Carregando...\n",
      "encontrou modelos convnext. Carregando...\n",
      "encontrou modelos mobilenet. Carregando...\n",
      "encontrou modelos vgg16. Carregando...\n",
      "encontrou modelos resnet50. Carregando...\n",
      "encontrou modelos osnet. Carregando...\n",
      "encontrou modelos densenet121. Carregando...\n",
      "###============ Iteration number 23/30 ============###\n",
      "Extracting Online Features for efficientnet ...\n",
      "Features extracted in 304.02 seconds\n",
      "Computing jaccard distance...\n"
     ]
    },
    {
     "name": "stderr",
     "output_type": "stream",
     "text": [
      "bruteForceKnn is deprecated; call bfKnn instead\n"
     ]
    },
    {
     "name": "stdout",
     "output_type": "stream",
     "text": [
      "Jaccard distance computing time cost: 552.3230080604553\n",
      "Extracting Online Features for convnext ...\n",
      "Features extracted in 308.66 seconds\n",
      "Computing jaccard distance...\n"
     ]
    },
    {
     "name": "stderr",
     "output_type": "stream",
     "text": [
      "bruteForceKnn is deprecated; call bfKnn instead\n"
     ]
    },
    {
     "name": "stdout",
     "output_type": "stream",
     "text": [
      "Jaccard distance computing time cost: 555.0607676506042\n",
      "Extracting Online Features for mobilenet ...\n",
      "Features extracted in 301.81 seconds\n",
      "Computing jaccard distance...\n"
     ]
    },
    {
     "name": "stderr",
     "output_type": "stream",
     "text": [
      "bruteForceKnn is deprecated; call bfKnn instead\n"
     ]
    },
    {
     "name": "stdout",
     "output_type": "stream",
     "text": [
      "Jaccard distance computing time cost: 573.4694378376007\n",
      "Extracting Online Features for vgg16 ...\n",
      "Features extracted in 299.80 seconds\n",
      "Computing jaccard distance...\n"
     ]
    },
    {
     "name": "stderr",
     "output_type": "stream",
     "text": [
      "bruteForceKnn is deprecated; call bfKnn instead\n"
     ]
    },
    {
     "name": "stdout",
     "output_type": "stream",
     "text": [
      "Jaccard distance computing time cost: 541.361927986145\n",
      "Extracting Online Features for resnet50 ...\n",
      "Features extracted in 300.41 seconds\n",
      "Computing jaccard distance...\n"
     ]
    },
    {
     "name": "stderr",
     "output_type": "stream",
     "text": [
      "bruteForceKnn is deprecated; call bfKnn instead\n"
     ]
    },
    {
     "name": "stdout",
     "output_type": "stream",
     "text": [
      "Jaccard distance computing time cost: 553.4349365234375\n",
      "Extracting Online Features for osnet ...\n",
      "Features extracted in 294.78 seconds\n",
      "Computing jaccard distance...\n"
     ]
    },
    {
     "name": "stderr",
     "output_type": "stream",
     "text": [
      "bruteForceKnn is deprecated; call bfKnn instead\n"
     ]
    },
    {
     "name": "stdout",
     "output_type": "stream",
     "text": [
      "Jaccard distance computing time cost: 558.422384262085\n",
      "Extracting Online Features for densenet121 ...\n",
      "Features extracted in 305.47 seconds\n",
      "Computing jaccard distance...\n"
     ]
    },
    {
     "name": "stderr",
     "output_type": "stream",
     "text": [
      "bruteForceKnn is deprecated; call bfKnn instead\n"
     ]
    },
    {
     "name": "stdout",
     "output_type": "stream",
     "text": [
      "Jaccard distance computing time cost: 560.4747262001038\n",
      "Reliability: 0.999\n",
      "\u001b[32mMean Purity: 0.00165\u001b[0m\n",
      "\u001b[34mThere are 1 clusters with 4 cameras\u001b[0m\n",
      "\u001b[34mThere are 4 clusters with 5 cameras\u001b[0m\n",
      "\u001b[34mThere are 1 clusters with 9 cameras\u001b[0m\n",
      "\u001b[34mThere are 1 clusters with 10 cameras\u001b[0m\n",
      "\u001b[34mThere are 2 clusters with 16 cameras\u001b[0m\n",
      "\u001b[34mThere are 1 clusters with 47 cameras\u001b[0m\n",
      "\u001b[34mThere are 1 clusters with 48 cameras\u001b[0m\n",
      "\u001b[34mThere are 1 clusters with 54 cameras\u001b[0m\n",
      "\u001b[34mThere are 1 clusters with 55 cameras\u001b[0m\n",
      "\u001b[34mThere are 4 clusters with 59 cameras\u001b[0m\n",
      "\u001b[34mThere are 1 clusters with 60 cameras\u001b[0m\n",
      "\u001b[34mThere are 11 clusters with 61 cameras\u001b[0m\n",
      "\u001b[34mThere are 4 clusters with 62 cameras\u001b[0m\n",
      "\u001b[34mThere are 8 clusters with 63 cameras\u001b[0m\n",
      "\u001b[34mThere are 562 clusters with 64 cameras\u001b[0m\n",
      "\u001b[34mThere are 1 clusters with 126 cameras\u001b[0m\n",
      "\u001b[34mThere are 2 clusters with 128 cameras\u001b[0m\n",
      "Number of classes: 606\n",
      "\u001b[36mLearning Rate: 0.000350\u001b[0m\n",
      "encontrou modelos efficientnet. Carregando...\n",
      "encontrou modelos convnext. Carregando...\n",
      "encontrou modelos mobilenet. Carregando...\n",
      "encontrou modelos vgg16. Carregando...\n",
      "encontrou modelos resnet50. Carregando...\n",
      "encontrou modelos osnet. Carregando...\n",
      "encontrou modelos densenet121. Carregando...\n",
      "###============ Iteration number 24/30 ============###\n",
      "Extracting Online Features for efficientnet ...\n",
      "Features extracted in 302.27 seconds\n",
      "Computing jaccard distance...\n"
     ]
    },
    {
     "name": "stderr",
     "output_type": "stream",
     "text": [
      "bruteForceKnn is deprecated; call bfKnn instead\n"
     ]
    },
    {
     "name": "stdout",
     "output_type": "stream",
     "text": [
      "Jaccard distance computing time cost: 544.6576578617096\n",
      "Extracting Online Features for convnext ...\n",
      "Features extracted in 305.83 seconds\n",
      "Computing jaccard distance...\n"
     ]
    },
    {
     "name": "stderr",
     "output_type": "stream",
     "text": [
      "bruteForceKnn is deprecated; call bfKnn instead\n"
     ]
    },
    {
     "name": "stdout",
     "output_type": "stream",
     "text": [
      "Jaccard distance computing time cost: 557.0211582183838\n",
      "Extracting Online Features for mobilenet ...\n",
      "Features extracted in 303.28 seconds\n",
      "Computing jaccard distance...\n"
     ]
    },
    {
     "name": "stderr",
     "output_type": "stream",
     "text": [
      "bruteForceKnn is deprecated; call bfKnn instead\n"
     ]
    },
    {
     "name": "stdout",
     "output_type": "stream",
     "text": [
      "Jaccard distance computing time cost: 558.2546656131744\n",
      "Extracting Online Features for vgg16 ...\n",
      "Features extracted in 300.58 seconds\n",
      "Computing jaccard distance...\n"
     ]
    },
    {
     "name": "stderr",
     "output_type": "stream",
     "text": [
      "bruteForceKnn is deprecated; call bfKnn instead\n"
     ]
    },
    {
     "name": "stdout",
     "output_type": "stream",
     "text": [
      "Jaccard distance computing time cost: 557.9821119308472\n",
      "Extracting Online Features for resnet50 ...\n",
      "Features extracted in 301.72 seconds\n",
      "Computing jaccard distance...\n"
     ]
    },
    {
     "name": "stderr",
     "output_type": "stream",
     "text": [
      "bruteForceKnn is deprecated; call bfKnn instead\n"
     ]
    },
    {
     "name": "stdout",
     "output_type": "stream",
     "text": [
      "Jaccard distance computing time cost: 568.6442320346832\n",
      "Extracting Online Features for osnet ...\n",
      "Features extracted in 306.25 seconds\n",
      "Computing jaccard distance...\n"
     ]
    },
    {
     "name": "stderr",
     "output_type": "stream",
     "text": [
      "bruteForceKnn is deprecated; call bfKnn instead\n"
     ]
    },
    {
     "name": "stdout",
     "output_type": "stream",
     "text": [
      "Jaccard distance computing time cost: 547.8597338199615\n",
      "Extracting Online Features for densenet121 ...\n",
      "Features extracted in 309.06 seconds\n",
      "Computing jaccard distance...\n"
     ]
    },
    {
     "name": "stderr",
     "output_type": "stream",
     "text": [
      "bruteForceKnn is deprecated; call bfKnn instead\n"
     ]
    },
    {
     "name": "stdout",
     "output_type": "stream",
     "text": [
      "Jaccard distance computing time cost: 553.0651581287384\n",
      "Reliability: 0.999\n",
      "\u001b[32mMean Purity: 0.00165\u001b[0m\n",
      "\u001b[34mThere are 1 clusters with 4 cameras\u001b[0m\n",
      "\u001b[34mThere are 4 clusters with 5 cameras\u001b[0m\n",
      "\u001b[34mThere are 1 clusters with 9 cameras\u001b[0m\n",
      "\u001b[34mThere are 1 clusters with 10 cameras\u001b[0m\n",
      "\u001b[34mThere are 2 clusters with 16 cameras\u001b[0m\n",
      "\u001b[34mThere are 1 clusters with 47 cameras\u001b[0m\n",
      "\u001b[34mThere are 1 clusters with 48 cameras\u001b[0m\n",
      "\u001b[34mThere are 1 clusters with 54 cameras\u001b[0m\n",
      "\u001b[34mThere are 1 clusters with 55 cameras\u001b[0m\n",
      "\u001b[34mThere are 4 clusters with 59 cameras\u001b[0m\n",
      "\u001b[34mThere are 1 clusters with 60 cameras\u001b[0m\n",
      "\u001b[34mThere are 11 clusters with 61 cameras\u001b[0m\n",
      "\u001b[34mThere are 4 clusters with 62 cameras\u001b[0m\n",
      "\u001b[34mThere are 8 clusters with 63 cameras\u001b[0m\n",
      "\u001b[34mThere are 562 clusters with 64 cameras\u001b[0m\n",
      "\u001b[34mThere are 1 clusters with 126 cameras\u001b[0m\n",
      "\u001b[34mThere are 2 clusters with 128 cameras\u001b[0m\n",
      "Number of classes: 606\n",
      "\u001b[36mLearning Rate: 0.000350\u001b[0m\n",
      "encontrou modelos efficientnet. Carregando...\n",
      "encontrou modelos convnext. Carregando...\n",
      "encontrou modelos mobilenet. Carregando...\n",
      "encontrou modelos vgg16. Carregando...\n",
      "encontrou modelos resnet50. Carregando...\n",
      "encontrou modelos osnet. Carregando...\n",
      "encontrou modelos densenet121. Carregando...\n",
      "###============ Iteration number 25/30 ============###\n",
      "Extracting Online Features for efficientnet ...\n",
      "Features extracted in 300.26 seconds\n",
      "Computing jaccard distance...\n"
     ]
    },
    {
     "name": "stderr",
     "output_type": "stream",
     "text": [
      "bruteForceKnn is deprecated; call bfKnn instead\n"
     ]
    },
    {
     "name": "stdout",
     "output_type": "stream",
     "text": [
      "Jaccard distance computing time cost: 551.2672703266144\n",
      "Extracting Online Features for convnext ...\n",
      "Features extracted in 304.30 seconds\n",
      "Computing jaccard distance...\n"
     ]
    },
    {
     "name": "stderr",
     "output_type": "stream",
     "text": [
      "bruteForceKnn is deprecated; call bfKnn instead\n"
     ]
    },
    {
     "name": "stdout",
     "output_type": "stream",
     "text": [
      "Jaccard distance computing time cost: 553.052218914032\n",
      "Extracting Online Features for mobilenet ...\n",
      "Features extracted in 293.77 seconds\n",
      "Computing jaccard distance...\n"
     ]
    },
    {
     "name": "stderr",
     "output_type": "stream",
     "text": [
      "bruteForceKnn is deprecated; call bfKnn instead\n"
     ]
    },
    {
     "name": "stdout",
     "output_type": "stream",
     "text": [
      "Jaccard distance computing time cost: 551.1695919036865\n",
      "Extracting Online Features for vgg16 ...\n",
      "Features extracted in 304.14 seconds\n",
      "Computing jaccard distance...\n"
     ]
    },
    {
     "name": "stderr",
     "output_type": "stream",
     "text": [
      "bruteForceKnn is deprecated; call bfKnn instead\n"
     ]
    },
    {
     "name": "stdout",
     "output_type": "stream",
     "text": [
      "Jaccard distance computing time cost: 549.5358455181122\n",
      "Extracting Online Features for resnet50 ...\n",
      "Features extracted in 307.20 seconds\n",
      "Computing jaccard distance...\n"
     ]
    },
    {
     "name": "stderr",
     "output_type": "stream",
     "text": [
      "bruteForceKnn is deprecated; call bfKnn instead\n"
     ]
    },
    {
     "name": "stdout",
     "output_type": "stream",
     "text": [
      "Jaccard distance computing time cost: 547.8761439323425\n",
      "Extracting Online Features for osnet ...\n",
      "Features extracted in 308.27 seconds\n",
      "Computing jaccard distance...\n"
     ]
    },
    {
     "name": "stderr",
     "output_type": "stream",
     "text": [
      "bruteForceKnn is deprecated; call bfKnn instead\n"
     ]
    },
    {
     "name": "stdout",
     "output_type": "stream",
     "text": [
      "Jaccard distance computing time cost: 540.8146634101868\n",
      "Extracting Online Features for densenet121 ...\n",
      "Features extracted in 296.64 seconds\n",
      "Computing jaccard distance...\n"
     ]
    },
    {
     "name": "stderr",
     "output_type": "stream",
     "text": [
      "bruteForceKnn is deprecated; call bfKnn instead\n"
     ]
    },
    {
     "name": "stdout",
     "output_type": "stream",
     "text": [
      "Jaccard distance computing time cost: 554.8688590526581\n",
      "Reliability: 0.999\n",
      "\u001b[32mMean Purity: 0.00165\u001b[0m\n",
      "\u001b[34mThere are 1 clusters with 4 cameras\u001b[0m\n",
      "\u001b[34mThere are 4 clusters with 5 cameras\u001b[0m\n",
      "\u001b[34mThere are 1 clusters with 9 cameras\u001b[0m\n",
      "\u001b[34mThere are 1 clusters with 10 cameras\u001b[0m\n",
      "\u001b[34mThere are 2 clusters with 16 cameras\u001b[0m\n",
      "\u001b[34mThere are 1 clusters with 47 cameras\u001b[0m\n",
      "\u001b[34mThere are 1 clusters with 48 cameras\u001b[0m\n",
      "\u001b[34mThere are 1 clusters with 54 cameras\u001b[0m\n",
      "\u001b[34mThere are 1 clusters with 55 cameras\u001b[0m\n",
      "\u001b[34mThere are 4 clusters with 59 cameras\u001b[0m\n",
      "\u001b[34mThere are 1 clusters with 60 cameras\u001b[0m\n",
      "\u001b[34mThere are 11 clusters with 61 cameras\u001b[0m\n",
      "\u001b[34mThere are 4 clusters with 62 cameras\u001b[0m\n",
      "\u001b[34mThere are 8 clusters with 63 cameras\u001b[0m\n",
      "\u001b[34mThere are 562 clusters with 64 cameras\u001b[0m\n",
      "\u001b[34mThere are 1 clusters with 126 cameras\u001b[0m\n",
      "\u001b[34mThere are 2 clusters with 128 cameras\u001b[0m\n",
      "Number of classes: 606\n",
      "\u001b[36mLearning Rate: 0.000350\u001b[0m\n",
      "encontrou modelos efficientnet. Carregando...\n",
      "encontrou modelos convnext. Carregando...\n",
      "encontrou modelos mobilenet. Carregando...\n",
      "encontrou modelos vgg16. Carregando...\n",
      "encontrou modelos resnet50. Carregando...\n",
      "encontrou modelos osnet. Carregando...\n",
      "encontrou modelos densenet121. Carregando...\n",
      "\u001b[33mValidating online efficientnet ...\u001b[0m\n",
      "Features extracted in 94.77 seconds\n",
      "Features extracted in 164.42 seconds\n",
      "Computing CMC and mAP ...\n",
      "** Results **\n",
      "mAP: 74.77%\n",
      "CMC curve\n",
      "Rank-1  : 91.90%\n",
      "Rank-5  : 97.05%\n",
      "Rank-10 : 98.30%\n",
      "Rank-20 : 99.12%\n",
      "\u001b[33mValidating momentum efficientnet ...\u001b[0m\n",
      "Features extracted in 90.26 seconds\n",
      "Features extracted in 166.53 seconds\n",
      "Computing CMC and mAP ...\n",
      "** Results **\n",
      "mAP: 71.94%\n",
      "CMC curve\n",
      "Rank-1  : 78.12%\n",
      "Rank-5  : 93.61%\n",
      "Rank-10 : 97.04%\n",
      "Rank-20 : 99.14%\n",
      "\u001b[33mValidating online convnext ...\u001b[0m\n",
      "Features extracted in 89.12 seconds\n",
      "Features extracted in 164.12 seconds\n",
      "Computing CMC and mAP ...\n",
      "** Results **\n",
      "mAP: 73.94%\n",
      "CMC curve\n",
      "Rank-1  : 88.10%\n",
      "Rank-5  : 95.28%\n",
      "Rank-10 : 97.59%\n",
      "Rank-20 : 99.51%\n",
      "\u001b[33mValidating momentum convnext ...\u001b[0m\n",
      "Features extracted in 96.01 seconds\n",
      "Features extracted in 168.92 seconds\n",
      "Computing CMC and mAP ...\n",
      "** Results **\n",
      "mAP: 71.32%\n",
      "CMC curve\n",
      "Rank-1  : 81.36%\n",
      "Rank-5  : 93.92%\n",
      "Rank-10 : 96.43%\n",
      "Rank-20 : 98.01%\n",
      "\u001b[33mValidating online mobilenet ...\u001b[0m\n",
      "Features extracted in 93.48 seconds\n",
      "Features extracted in 166.09 seconds\n",
      "Computing CMC and mAP ...\n",
      "** Results **\n",
      "mAP: 73.44%\n",
      "CMC curve\n",
      "Rank-1  : 89.42%\n",
      "Rank-5  : 95.53%\n",
      "Rank-10 : 97.43%\n",
      "Rank-20 : 98.60%\n",
      "\u001b[33mValidating momentum mobilenet ...\u001b[0m\n",
      "Features extracted in 93.09 seconds\n",
      "Features extracted in 164.85 seconds\n",
      "Computing CMC and mAP ...\n",
      "** Results **\n",
      "mAP: 71.65%\n",
      "CMC curve\n",
      "Rank-1  : 84.47%\n",
      "Rank-5  : 95.38%\n",
      "Rank-10 : 97.77%\n",
      "Rank-20 : 98.98%\n",
      "\u001b[33mValidating online vgg16 ...\u001b[0m\n",
      "Features extracted in 93.96 seconds\n",
      "Features extracted in 167.58 seconds\n",
      "Computing CMC and mAP ...\n",
      "** Results **\n",
      "mAP: 73.15%\n",
      "CMC curve\n",
      "Rank-1  : 86.60%\n",
      "Rank-5  : 94.48%\n",
      "Rank-10 : 97.18%\n",
      "Rank-20 : 98.92%\n",
      "\u001b[33mValidating momentum vgg16 ...\u001b[0m\n",
      "Features extracted in 97.81 seconds\n",
      "Features extracted in 173.09 seconds\n",
      "Computing CMC and mAP ...\n",
      "** Results **\n",
      "mAP: 70.54%\n",
      "CMC curve\n",
      "Rank-1  : 79.23%\n",
      "Rank-5  : 95.60%\n",
      "Rank-10 : 98.30%\n",
      "Rank-20 : 99.65%\n",
      "\u001b[33mValidating online resnet50 ...\u001b[0m\n",
      "Features extracted in 95.83 seconds\n",
      "Features extracted in 166.15 seconds\n",
      "Computing CMC and mAP ...\n",
      "** Results **\n",
      "mAP: 73.98%\n",
      "CMC curve\n",
      "Rank-1  : 90.74%\n",
      "Rank-5  : 97.95%\n",
      "Rank-10 : 99.21%\n",
      "Rank-20 : 99.78%\n",
      "\u001b[33mValidating momentum resnet50 ...\u001b[0m\n",
      "Features extracted in 92.33 seconds\n",
      "Features extracted in 170.21 seconds\n",
      "Computing CMC and mAP ...\n",
      "** Results **\n",
      "mAP: 73.94%\n",
      "CMC curve\n",
      "Rank-1  : 89.96%\n",
      "Rank-5  : 97.91%\n",
      "Rank-10 : 99.30%\n",
      "Rank-20 : 99.85%\n",
      "\u001b[33mValidating online osnet ...\u001b[0m\n",
      "Features extracted in 93.37 seconds\n",
      "Features extracted in 169.73 seconds\n",
      "Computing CMC and mAP ...\n",
      "** Results **\n",
      "mAP: 71.48%\n",
      "CMC curve\n",
      "Rank-1  : 83.20%\n",
      "Rank-5  : 95.69%\n",
      "Rank-10 : 98.05%\n",
      "Rank-20 : 99.42%\n",
      "\u001b[33mValidating momentum osnet ...\u001b[0m\n",
      "Features extracted in 90.40 seconds\n",
      "Features extracted in 167.14 seconds\n",
      "Computing CMC and mAP ...\n",
      "** Results **\n",
      "mAP: 73.34%\n",
      "CMC curve\n",
      "Rank-1  : 82.40%\n",
      "Rank-5  : 95.54%\n",
      "Rank-10 : 98.11%\n",
      "Rank-20 : 99.44%\n",
      "\u001b[33mValidating online densenet121 ...\u001b[0m\n",
      "Features extracted in 93.23 seconds\n",
      "Features extracted in 170.06 seconds\n",
      "Computing CMC and mAP ...\n",
      "** Results **\n",
      "mAP: 73.52%\n",
      "CMC curve\n",
      "Rank-1  : 91.69%\n",
      "Rank-5  : 97.51%\n",
      "Rank-10 : 98.79%\n",
      "Rank-20 : 99.68%\n",
      "\u001b[33mValidating momentum densenet121 ...\u001b[0m\n",
      "Features extracted in 98.71 seconds\n",
      "Features extracted in 173.41 seconds\n",
      "Computing CMC and mAP ...\n",
      "** Results **\n",
      "mAP: 73.91%\n",
      "CMC curve\n",
      "Rank-1  : 86.29%\n",
      "Rank-5  : 96.31%\n",
      "Rank-10 : 98.47%\n",
      "Rank-20 : 99.43%\n",
      "\u001b[33mValidating ensembled with online models ...\u001b[0m\n",
      "Computing CMC and mAP ...\n",
      "** Results **\n",
      "mAP: 75.90%\n",
      "Ranks:\n",
      "Rank-1  : 96.38%\n",
      "Rank-5  : 99.15%\n",
      "Rank-10 : 99.68%\n",
      "\u001b[33mValidating ensembled with momentum models ...\u001b[0m\n",
      "Computing CMC and mAP ...\n",
      "** Results **\n",
      "mAP: 74.20%\n",
      "Ranks:\n",
      "Rank-1  : 87.73%\n",
      "Rank-5  : 96.52%\n",
      "Rank-10 : 98.52%\n",
      "###============ Iteration number 26/30 ============###\n",
      "Extracting Online Features for efficientnet ...\n",
      "Features extracted in 298.31 seconds\n",
      "Computing jaccard distance...\n"
     ]
    },
    {
     "name": "stderr",
     "output_type": "stream",
     "text": [
      "bruteForceKnn is deprecated; call bfKnn instead\n"
     ]
    },
    {
     "name": "stdout",
     "output_type": "stream",
     "text": [
      "Jaccard distance computing time cost: 559.4375746250153\n",
      "Extracting Online Features for convnext ...\n",
      "Features extracted in 299.55 seconds\n",
      "Computing jaccard distance...\n"
     ]
    },
    {
     "name": "stderr",
     "output_type": "stream",
     "text": [
      "bruteForceKnn is deprecated; call bfKnn instead\n"
     ]
    },
    {
     "name": "stdout",
     "output_type": "stream",
     "text": [
      "Jaccard distance computing time cost: 542.0263934135437\n",
      "Extracting Online Features for mobilenet ...\n",
      "Features extracted in 301.16 seconds\n",
      "Computing jaccard distance...\n"
     ]
    },
    {
     "name": "stderr",
     "output_type": "stream",
     "text": [
      "bruteForceKnn is deprecated; call bfKnn instead\n"
     ]
    },
    {
     "name": "stdout",
     "output_type": "stream",
     "text": [
      "Jaccard distance computing time cost: 549.1472861766815\n",
      "Extracting Online Features for vgg16 ...\n",
      "Features extracted in 297.65 seconds\n",
      "Computing jaccard distance...\n"
     ]
    },
    {
     "name": "stderr",
     "output_type": "stream",
     "text": [
      "bruteForceKnn is deprecated; call bfKnn instead\n"
     ]
    },
    {
     "name": "stdout",
     "output_type": "stream",
     "text": [
      "Jaccard distance computing time cost: 556.1580109596252\n",
      "Extracting Online Features for resnet50 ...\n",
      "Features extracted in 308.06 seconds\n",
      "Computing jaccard distance...\n"
     ]
    },
    {
     "name": "stderr",
     "output_type": "stream",
     "text": [
      "bruteForceKnn is deprecated; call bfKnn instead\n"
     ]
    },
    {
     "name": "stdout",
     "output_type": "stream",
     "text": [
      "Jaccard distance computing time cost: 552.6190509796143\n",
      "Extracting Online Features for osnet ...\n",
      "Features extracted in 296.82 seconds\n",
      "Computing jaccard distance...\n"
     ]
    },
    {
     "name": "stderr",
     "output_type": "stream",
     "text": [
      "bruteForceKnn is deprecated; call bfKnn instead\n"
     ]
    },
    {
     "name": "stdout",
     "output_type": "stream",
     "text": [
      "Jaccard distance computing time cost: 537.5860965251923\n",
      "Extracting Online Features for densenet121 ...\n",
      "Features extracted in 301.73 seconds\n",
      "Computing jaccard distance...\n"
     ]
    },
    {
     "name": "stderr",
     "output_type": "stream",
     "text": [
      "bruteForceKnn is deprecated; call bfKnn instead\n"
     ]
    },
    {
     "name": "stdout",
     "output_type": "stream",
     "text": [
      "Jaccard distance computing time cost: 542.3792190551758\n",
      "Reliability: 0.999\n",
      "\u001b[32mMean Purity: 0.00165\u001b[0m\n",
      "\u001b[34mThere are 1 clusters with 4 cameras\u001b[0m\n",
      "\u001b[34mThere are 4 clusters with 5 cameras\u001b[0m\n",
      "\u001b[34mThere are 1 clusters with 9 cameras\u001b[0m\n",
      "\u001b[34mThere are 1 clusters with 10 cameras\u001b[0m\n",
      "\u001b[34mThere are 2 clusters with 16 cameras\u001b[0m\n",
      "\u001b[34mThere are 1 clusters with 47 cameras\u001b[0m\n",
      "\u001b[34mThere are 1 clusters with 48 cameras\u001b[0m\n",
      "\u001b[34mThere are 1 clusters with 54 cameras\u001b[0m\n",
      "\u001b[34mThere are 1 clusters with 55 cameras\u001b[0m\n",
      "\u001b[34mThere are 4 clusters with 59 cameras\u001b[0m\n",
      "\u001b[34mThere are 1 clusters with 60 cameras\u001b[0m\n",
      "\u001b[34mThere are 11 clusters with 61 cameras\u001b[0m\n",
      "\u001b[34mThere are 4 clusters with 62 cameras\u001b[0m\n",
      "\u001b[34mThere are 8 clusters with 63 cameras\u001b[0m\n",
      "\u001b[34mThere are 562 clusters with 64 cameras\u001b[0m\n",
      "\u001b[34mThere are 1 clusters with 126 cameras\u001b[0m\n",
      "\u001b[34mThere are 2 clusters with 128 cameras\u001b[0m\n",
      "Number of classes: 606\n",
      "\u001b[36mLearning Rate: 0.000070\u001b[0m\n",
      "encontrou modelos efficientnet. Carregando...\n",
      "encontrou modelos convnext. Carregando...\n",
      "encontrou modelos mobilenet. Carregando...\n",
      "encontrou modelos vgg16. Carregando...\n",
      "encontrou modelos resnet50. Carregando...\n",
      "encontrou modelos osnet. Carregando...\n",
      "encontrou modelos densenet121. Carregando...\n",
      "###============ Iteration number 27/30 ============###\n",
      "Extracting Online Features for efficientnet ...\n",
      "Features extracted in 310.25 seconds\n",
      "Computing jaccard distance...\n"
     ]
    },
    {
     "name": "stderr",
     "output_type": "stream",
     "text": [
      "bruteForceKnn is deprecated; call bfKnn instead\n"
     ]
    },
    {
     "name": "stdout",
     "output_type": "stream",
     "text": [
      "Jaccard distance computing time cost: 556.7013032436371\n",
      "Extracting Online Features for convnext ...\n",
      "Features extracted in 306.91 seconds\n",
      "Computing jaccard distance...\n"
     ]
    },
    {
     "name": "stderr",
     "output_type": "stream",
     "text": [
      "bruteForceKnn is deprecated; call bfKnn instead\n"
     ]
    },
    {
     "name": "stdout",
     "output_type": "stream",
     "text": [
      "Jaccard distance computing time cost: 546.1075761318207\n",
      "Extracting Online Features for mobilenet ...\n",
      "Features extracted in 300.74 seconds\n",
      "Computing jaccard distance...\n"
     ]
    },
    {
     "name": "stderr",
     "output_type": "stream",
     "text": [
      "bruteForceKnn is deprecated; call bfKnn instead\n"
     ]
    },
    {
     "name": "stdout",
     "output_type": "stream",
     "text": [
      "Jaccard distance computing time cost: 556.1778039932251\n",
      "Extracting Online Features for vgg16 ...\n",
      "Features extracted in 301.08 seconds\n",
      "Computing jaccard distance...\n"
     ]
    },
    {
     "name": "stderr",
     "output_type": "stream",
     "text": [
      "bruteForceKnn is deprecated; call bfKnn instead\n"
     ]
    },
    {
     "name": "stdout",
     "output_type": "stream",
     "text": [
      "Jaccard distance computing time cost: 542.9768846035004\n",
      "Extracting Online Features for resnet50 ...\n",
      "Features extracted in 292.39 seconds\n",
      "Computing jaccard distance...\n"
     ]
    },
    {
     "name": "stderr",
     "output_type": "stream",
     "text": [
      "bruteForceKnn is deprecated; call bfKnn instead\n"
     ]
    },
    {
     "name": "stdout",
     "output_type": "stream",
     "text": [
      "Jaccard distance computing time cost: 559.96750664711\n",
      "Extracting Online Features for osnet ...\n",
      "Features extracted in 304.12 seconds\n",
      "Computing jaccard distance...\n"
     ]
    },
    {
     "name": "stderr",
     "output_type": "stream",
     "text": [
      "bruteForceKnn is deprecated; call bfKnn instead\n"
     ]
    },
    {
     "name": "stdout",
     "output_type": "stream",
     "text": [
      "Jaccard distance computing time cost: 554.8683362007141\n",
      "Extracting Online Features for densenet121 ...\n",
      "Features extracted in 306.77 seconds\n",
      "Computing jaccard distance...\n"
     ]
    },
    {
     "name": "stderr",
     "output_type": "stream",
     "text": [
      "bruteForceKnn is deprecated; call bfKnn instead\n"
     ]
    },
    {
     "name": "stdout",
     "output_type": "stream",
     "text": [
      "Jaccard distance computing time cost: 555.3737828731537\n",
      "Reliability: 0.999\n",
      "\u001b[32mMean Purity: 0.00165\u001b[0m\n",
      "\u001b[34mThere are 1 clusters with 4 cameras\u001b[0m\n",
      "\u001b[34mThere are 4 clusters with 5 cameras\u001b[0m\n",
      "\u001b[34mThere are 1 clusters with 9 cameras\u001b[0m\n",
      "\u001b[34mThere are 1 clusters with 10 cameras\u001b[0m\n",
      "\u001b[34mThere are 2 clusters with 16 cameras\u001b[0m\n",
      "\u001b[34mThere are 1 clusters with 47 cameras\u001b[0m\n",
      "\u001b[34mThere are 1 clusters with 48 cameras\u001b[0m\n",
      "\u001b[34mThere are 1 clusters with 54 cameras\u001b[0m\n",
      "\u001b[34mThere are 1 clusters with 55 cameras\u001b[0m\n",
      "\u001b[34mThere are 4 clusters with 59 cameras\u001b[0m\n",
      "\u001b[34mThere are 1 clusters with 60 cameras\u001b[0m\n",
      "\u001b[34mThere are 11 clusters with 61 cameras\u001b[0m\n",
      "\u001b[34mThere are 4 clusters with 62 cameras\u001b[0m\n",
      "\u001b[34mThere are 8 clusters with 63 cameras\u001b[0m\n",
      "\u001b[34mThere are 562 clusters with 64 cameras\u001b[0m\n",
      "\u001b[34mThere are 1 clusters with 126 cameras\u001b[0m\n",
      "\u001b[34mThere are 2 clusters with 128 cameras\u001b[0m\n",
      "Number of classes: 606\n",
      "\u001b[36mLearning Rate: 0.000140\u001b[0m\n",
      "encontrou modelos efficientnet. Carregando...\n",
      "encontrou modelos convnext. Carregando...\n",
      "encontrou modelos mobilenet. Carregando...\n",
      "encontrou modelos vgg16. Carregando...\n",
      "encontrou modelos resnet50. Carregando...\n",
      "encontrou modelos osnet. Carregando...\n",
      "encontrou modelos densenet121. Carregando...\n",
      "###============ Iteration number 28/30 ============###\n",
      "Extracting Online Features for efficientnet ...\n",
      "Features extracted in 304.23 seconds\n",
      "Computing jaccard distance...\n"
     ]
    },
    {
     "name": "stderr",
     "output_type": "stream",
     "text": [
      "bruteForceKnn is deprecated; call bfKnn instead\n"
     ]
    },
    {
     "name": "stdout",
     "output_type": "stream",
     "text": [
      "Jaccard distance computing time cost: 559.510899066925\n",
      "Extracting Online Features for convnext ...\n",
      "Features extracted in 306.80 seconds\n",
      "Computing jaccard distance...\n"
     ]
    },
    {
     "name": "stderr",
     "output_type": "stream",
     "text": [
      "bruteForceKnn is deprecated; call bfKnn instead\n"
     ]
    },
    {
     "name": "stdout",
     "output_type": "stream",
     "text": [
      "Jaccard distance computing time cost: 550.7599816322327\n",
      "Extracting Online Features for mobilenet ...\n",
      "Features extracted in 297.19 seconds\n",
      "Computing jaccard distance...\n"
     ]
    },
    {
     "name": "stderr",
     "output_type": "stream",
     "text": [
      "bruteForceKnn is deprecated; call bfKnn instead\n"
     ]
    },
    {
     "name": "stdout",
     "output_type": "stream",
     "text": [
      "Jaccard distance computing time cost: 553.5319874286652\n",
      "Extracting Online Features for vgg16 ...\n",
      "Features extracted in 289.94 seconds\n",
      "Computing jaccard distance...\n"
     ]
    },
    {
     "name": "stderr",
     "output_type": "stream",
     "text": [
      "bruteForceKnn is deprecated; call bfKnn instead\n"
     ]
    },
    {
     "name": "stdout",
     "output_type": "stream",
     "text": [
      "Jaccard distance computing time cost: 553.0979235172272\n",
      "Extracting Online Features for resnet50 ...\n",
      "Features extracted in 305.14 seconds\n",
      "Computing jaccard distance...\n"
     ]
    },
    {
     "name": "stderr",
     "output_type": "stream",
     "text": [
      "bruteForceKnn is deprecated; call bfKnn instead\n"
     ]
    },
    {
     "name": "stdout",
     "output_type": "stream",
     "text": [
      "Jaccard distance computing time cost: 538.0566260814667\n",
      "Extracting Online Features for osnet ...\n",
      "Features extracted in 298.83 seconds\n",
      "Computing jaccard distance...\n"
     ]
    },
    {
     "name": "stderr",
     "output_type": "stream",
     "text": [
      "bruteForceKnn is deprecated; call bfKnn instead\n"
     ]
    },
    {
     "name": "stdout",
     "output_type": "stream",
     "text": [
      "Jaccard distance computing time cost: 535.8793008327484\n",
      "Extracting Online Features for densenet121 ...\n",
      "Features extracted in 294.95 seconds\n",
      "Computing jaccard distance...\n"
     ]
    },
    {
     "name": "stderr",
     "output_type": "stream",
     "text": [
      "bruteForceKnn is deprecated; call bfKnn instead\n"
     ]
    },
    {
     "name": "stdout",
     "output_type": "stream",
     "text": [
      "Jaccard distance computing time cost: 542.1464467048645\n",
      "Reliability: 0.999\n",
      "\u001b[32mMean Purity: 0.00165\u001b[0m\n",
      "\u001b[34mThere are 1 clusters with 4 cameras\u001b[0m\n",
      "\u001b[34mThere are 4 clusters with 5 cameras\u001b[0m\n",
      "\u001b[34mThere are 1 clusters with 9 cameras\u001b[0m\n",
      "\u001b[34mThere are 1 clusters with 10 cameras\u001b[0m\n",
      "\u001b[34mThere are 2 clusters with 16 cameras\u001b[0m\n",
      "\u001b[34mThere are 1 clusters with 47 cameras\u001b[0m\n",
      "\u001b[34mThere are 1 clusters with 48 cameras\u001b[0m\n",
      "\u001b[34mThere are 1 clusters with 54 cameras\u001b[0m\n",
      "\u001b[34mThere are 1 clusters with 55 cameras\u001b[0m\n",
      "\u001b[34mThere are 4 clusters with 59 cameras\u001b[0m\n",
      "\u001b[34mThere are 1 clusters with 60 cameras\u001b[0m\n",
      "\u001b[34mThere are 11 clusters with 61 cameras\u001b[0m\n",
      "\u001b[34mThere are 4 clusters with 62 cameras\u001b[0m\n",
      "\u001b[34mThere are 8 clusters with 63 cameras\u001b[0m\n",
      "\u001b[34mThere are 562 clusters with 64 cameras\u001b[0m\n",
      "\u001b[34mThere are 1 clusters with 126 cameras\u001b[0m\n",
      "\u001b[34mThere are 2 clusters with 128 cameras\u001b[0m\n",
      "Number of classes: 606\n",
      "\u001b[36mLearning Rate: 0.000210\u001b[0m\n",
      "encontrou modelos efficientnet. Carregando...\n",
      "encontrou modelos convnext. Carregando...\n",
      "encontrou modelos mobilenet. Carregando...\n",
      "encontrou modelos vgg16. Carregando...\n",
      "encontrou modelos resnet50. Carregando...\n",
      "encontrou modelos osnet. Carregando...\n",
      "encontrou modelos densenet121. Carregando...\n",
      "###============ Iteration number 29/30 ============###\n",
      "Extracting Online Features for efficientnet ...\n",
      "Features extracted in 301.97 seconds\n",
      "Computing jaccard distance...\n"
     ]
    },
    {
     "name": "stderr",
     "output_type": "stream",
     "text": [
      "bruteForceKnn is deprecated; call bfKnn instead\n"
     ]
    },
    {
     "name": "stdout",
     "output_type": "stream",
     "text": [
      "Jaccard distance computing time cost: 554.6505744457245\n",
      "Extracting Online Features for convnext ...\n",
      "Features extracted in 303.79 seconds\n",
      "Computing jaccard distance...\n"
     ]
    },
    {
     "name": "stderr",
     "output_type": "stream",
     "text": [
      "bruteForceKnn is deprecated; call bfKnn instead\n"
     ]
    },
    {
     "name": "stdout",
     "output_type": "stream",
     "text": [
      "Jaccard distance computing time cost: 557.0284242630005\n",
      "Extracting Online Features for mobilenet ...\n",
      "Features extracted in 306.13 seconds\n",
      "Computing jaccard distance...\n"
     ]
    },
    {
     "name": "stderr",
     "output_type": "stream",
     "text": [
      "bruteForceKnn is deprecated; call bfKnn instead\n"
     ]
    },
    {
     "name": "stdout",
     "output_type": "stream",
     "text": [
      "Jaccard distance computing time cost: 546.1929156780243\n",
      "Extracting Online Features for vgg16 ...\n",
      "Features extracted in 297.41 seconds\n",
      "Computing jaccard distance...\n"
     ]
    },
    {
     "name": "stderr",
     "output_type": "stream",
     "text": [
      "bruteForceKnn is deprecated; call bfKnn instead\n"
     ]
    },
    {
     "name": "stdout",
     "output_type": "stream",
     "text": [
      "Jaccard distance computing time cost: 557.1494994163513\n",
      "Extracting Online Features for resnet50 ...\n",
      "Features extracted in 296.22 seconds\n",
      "Computing jaccard distance...\n"
     ]
    },
    {
     "name": "stderr",
     "output_type": "stream",
     "text": [
      "bruteForceKnn is deprecated; call bfKnn instead\n"
     ]
    },
    {
     "name": "stdout",
     "output_type": "stream",
     "text": [
      "Jaccard distance computing time cost: 547.2264182567596\n",
      "Extracting Online Features for osnet ...\n",
      "Features extracted in 302.34 seconds\n",
      "Computing jaccard distance...\n"
     ]
    },
    {
     "name": "stderr",
     "output_type": "stream",
     "text": [
      "bruteForceKnn is deprecated; call bfKnn instead\n"
     ]
    },
    {
     "name": "stdout",
     "output_type": "stream",
     "text": [
      "Jaccard distance computing time cost: 554.0030529499054\n",
      "Extracting Online Features for densenet121 ...\n",
      "Features extracted in 306.07 seconds\n",
      "Computing jaccard distance...\n"
     ]
    },
    {
     "name": "stderr",
     "output_type": "stream",
     "text": [
      "bruteForceKnn is deprecated; call bfKnn instead\n"
     ]
    },
    {
     "name": "stdout",
     "output_type": "stream",
     "text": [
      "Jaccard distance computing time cost: 557.9227509498596\n",
      "Reliability: 0.999\n",
      "\u001b[32mMean Purity: 0.00165\u001b[0m\n",
      "\u001b[34mThere are 1 clusters with 4 cameras\u001b[0m\n",
      "\u001b[34mThere are 4 clusters with 5 cameras\u001b[0m\n",
      "\u001b[34mThere are 1 clusters with 9 cameras\u001b[0m\n",
      "\u001b[34mThere are 1 clusters with 10 cameras\u001b[0m\n",
      "\u001b[34mThere are 2 clusters with 16 cameras\u001b[0m\n",
      "\u001b[34mThere are 1 clusters with 47 cameras\u001b[0m\n",
      "\u001b[34mThere are 1 clusters with 48 cameras\u001b[0m\n",
      "\u001b[34mThere are 1 clusters with 54 cameras\u001b[0m\n",
      "\u001b[34mThere are 1 clusters with 55 cameras\u001b[0m\n",
      "\u001b[34mThere are 4 clusters with 59 cameras\u001b[0m\n",
      "\u001b[34mThere are 1 clusters with 60 cameras\u001b[0m\n",
      "\u001b[34mThere are 11 clusters with 61 cameras\u001b[0m\n",
      "\u001b[34mThere are 4 clusters with 62 cameras\u001b[0m\n",
      "\u001b[34mThere are 8 clusters with 63 cameras\u001b[0m\n",
      "\u001b[34mThere are 562 clusters with 64 cameras\u001b[0m\n",
      "\u001b[34mThere are 1 clusters with 126 cameras\u001b[0m\n",
      "\u001b[34mThere are 2 clusters with 128 cameras\u001b[0m\n",
      "Number of classes: 606\n",
      "\u001b[36mLearning Rate: 0.000280\u001b[0m\n",
      "encontrou modelos efficientnet. Carregando...\n",
      "encontrou modelos convnext. Carregando...\n",
      "encontrou modelos mobilenet. Carregando...\n",
      "encontrou modelos vgg16. Carregando...\n",
      "encontrou modelos resnet50. Carregando...\n",
      "encontrou modelos osnet. Carregando...\n",
      "encontrou modelos densenet121. Carregando...\n",
      "###============ Iteration number 30/30 ============###\n",
      "Extracting Online Features for efficientnet ...\n",
      "Features extracted in 302.78 seconds\n",
      "Computing jaccard distance...\n"
     ]
    },
    {
     "name": "stderr",
     "output_type": "stream",
     "text": [
      "bruteForceKnn is deprecated; call bfKnn instead\n"
     ]
    },
    {
     "name": "stdout",
     "output_type": "stream",
     "text": [
      "Jaccard distance computing time cost: 560.6420621871948\n",
      "Extracting Online Features for convnext ...\n",
      "Features extracted in 300.52 seconds\n",
      "Computing jaccard distance...\n"
     ]
    },
    {
     "name": "stderr",
     "output_type": "stream",
     "text": [
      "bruteForceKnn is deprecated; call bfKnn instead\n"
     ]
    },
    {
     "name": "stdout",
     "output_type": "stream",
     "text": [
      "Jaccard distance computing time cost: 556.4916751384735\n",
      "Extracting Online Features for mobilenet ...\n",
      "Features extracted in 297.93 seconds\n",
      "Computing jaccard distance...\n"
     ]
    },
    {
     "name": "stderr",
     "output_type": "stream",
     "text": [
      "bruteForceKnn is deprecated; call bfKnn instead\n"
     ]
    },
    {
     "name": "stdout",
     "output_type": "stream",
     "text": [
      "Jaccard distance computing time cost: 557.6710388660431\n",
      "Extracting Online Features for vgg16 ...\n",
      "Features extracted in 304.36 seconds\n",
      "Computing jaccard distance...\n"
     ]
    },
    {
     "name": "stderr",
     "output_type": "stream",
     "text": [
      "bruteForceKnn is deprecated; call bfKnn instead\n"
     ]
    },
    {
     "name": "stdout",
     "output_type": "stream",
     "text": [
      "Jaccard distance computing time cost: 555.334540605545\n",
      "Extracting Online Features for resnet50 ...\n",
      "Features extracted in 301.24 seconds\n",
      "Computing jaccard distance...\n"
     ]
    },
    {
     "name": "stderr",
     "output_type": "stream",
     "text": [
      "bruteForceKnn is deprecated; call bfKnn instead\n"
     ]
    },
    {
     "name": "stdout",
     "output_type": "stream",
     "text": [
      "Jaccard distance computing time cost: 547.2932939529419\n",
      "Extracting Online Features for osnet ...\n",
      "Features extracted in 292.24 seconds\n",
      "Computing jaccard distance...\n"
     ]
    },
    {
     "name": "stderr",
     "output_type": "stream",
     "text": [
      "bruteForceKnn is deprecated; call bfKnn instead\n"
     ]
    },
    {
     "name": "stdout",
     "output_type": "stream",
     "text": [
      "Jaccard distance computing time cost: 540.7144663333893\n",
      "Extracting Online Features for densenet121 ...\n",
      "Features extracted in 297.06 seconds\n",
      "Computing jaccard distance...\n"
     ]
    },
    {
     "name": "stderr",
     "output_type": "stream",
     "text": [
      "bruteForceKnn is deprecated; call bfKnn instead\n"
     ]
    },
    {
     "name": "stdout",
     "output_type": "stream",
     "text": [
      "Jaccard distance computing time cost: 561.8192639350891\n",
      "Reliability: 0.999\n",
      "\u001b[32mMean Purity: 0.00165\u001b[0m\n",
      "\u001b[34mThere are 1 clusters with 4 cameras\u001b[0m\n",
      "\u001b[34mThere are 4 clusters with 5 cameras\u001b[0m\n",
      "\u001b[34mThere are 1 clusters with 9 cameras\u001b[0m\n",
      "\u001b[34mThere are 1 clusters with 10 cameras\u001b[0m\n",
      "\u001b[34mThere are 2 clusters with 16 cameras\u001b[0m\n",
      "\u001b[34mThere are 1 clusters with 47 cameras\u001b[0m\n",
      "\u001b[34mThere are 1 clusters with 48 cameras\u001b[0m\n",
      "\u001b[34mThere are 1 clusters with 54 cameras\u001b[0m\n",
      "\u001b[34mThere are 1 clusters with 55 cameras\u001b[0m\n",
      "\u001b[34mThere are 4 clusters with 59 cameras\u001b[0m\n",
      "\u001b[34mThere are 1 clusters with 60 cameras\u001b[0m\n",
      "\u001b[34mThere are 11 clusters with 61 cameras\u001b[0m\n",
      "\u001b[34mThere are 4 clusters with 62 cameras\u001b[0m\n",
      "\u001b[34mThere are 8 clusters with 63 cameras\u001b[0m\n",
      "\u001b[34mThere are 562 clusters with 64 cameras\u001b[0m\n",
      "\u001b[34mThere are 1 clusters with 126 cameras\u001b[0m\n",
      "\u001b[34mThere are 2 clusters with 128 cameras\u001b[0m\n",
      "Number of classes: 606\n",
      "\u001b[36mLearning Rate: 0.000350\u001b[0m\n",
      "encontrou modelos efficientnet. Carregando...\n",
      "encontrou modelos convnext. Carregando...\n",
      "encontrou modelos mobilenet. Carregando...\n",
      "encontrou modelos vgg16. Carregando...\n",
      "encontrou modelos resnet50. Carregando...\n",
      "encontrou modelos osnet. Carregando...\n",
      "encontrou modelos densenet121. Carregando...\n",
      "\u001b[33mValidating online efficientnet ...\u001b[0m\n",
      "Features extracted in 93.11 seconds\n",
      "Features extracted in 164.30 seconds\n",
      "Computing CMC and mAP ...\n",
      "** Results **\n",
      "mAP: 74.77%\n",
      "CMC curve\n",
      "Rank-1  : 91.90%\n",
      "Rank-5  : 97.05%\n",
      "Rank-10 : 98.30%\n",
      "Rank-20 : 99.12%\n",
      "\u001b[33mValidating momentum efficientnet ...\u001b[0m\n",
      "Features extracted in 94.40 seconds\n",
      "Features extracted in 163.99 seconds\n",
      "Computing CMC and mAP ...\n",
      "** Results **\n",
      "mAP: 71.94%\n",
      "CMC curve\n",
      "Rank-1  : 78.12%\n",
      "Rank-5  : 93.61%\n",
      "Rank-10 : 97.04%\n",
      "Rank-20 : 99.14%\n",
      "\u001b[33mValidating online convnext ...\u001b[0m\n",
      "Features extracted in 96.05 seconds\n",
      "Features extracted in 166.96 seconds\n",
      "Computing CMC and mAP ...\n",
      "** Results **\n",
      "mAP: 73.94%\n",
      "CMC curve\n",
      "Rank-1  : 88.10%\n",
      "Rank-5  : 95.28%\n",
      "Rank-10 : 97.59%\n",
      "Rank-20 : 99.51%\n",
      "\u001b[33mValidating momentum convnext ...\u001b[0m\n",
      "Features extracted in 92.81 seconds\n",
      "Features extracted in 167.70 seconds\n",
      "Computing CMC and mAP ...\n",
      "** Results **\n",
      "mAP: 71.32%\n",
      "CMC curve\n",
      "Rank-1  : 81.36%\n",
      "Rank-5  : 93.92%\n",
      "Rank-10 : 96.43%\n",
      "Rank-20 : 98.01%\n",
      "\u001b[33mValidating online mobilenet ...\u001b[0m\n",
      "Features extracted in 89.19 seconds\n",
      "Features extracted in 162.87 seconds\n",
      "Computing CMC and mAP ...\n",
      "** Results **\n",
      "mAP: 73.44%\n",
      "CMC curve\n",
      "Rank-1  : 89.42%\n",
      "Rank-5  : 95.53%\n",
      "Rank-10 : 97.43%\n",
      "Rank-20 : 98.60%\n",
      "\u001b[33mValidating momentum mobilenet ...\u001b[0m\n",
      "Features extracted in 94.50 seconds\n",
      "Features extracted in 163.12 seconds\n",
      "Computing CMC and mAP ...\n",
      "** Results **\n",
      "mAP: 71.65%\n",
      "CMC curve\n",
      "Rank-1  : 84.47%\n",
      "Rank-5  : 95.38%\n",
      "Rank-10 : 97.77%\n",
      "Rank-20 : 98.98%\n",
      "\u001b[33mValidating online vgg16 ...\u001b[0m\n",
      "Features extracted in 95.26 seconds\n",
      "Features extracted in 170.00 seconds\n",
      "Computing CMC and mAP ...\n",
      "** Results **\n",
      "mAP: 73.15%\n",
      "CMC curve\n",
      "Rank-1  : 86.60%\n",
      "Rank-5  : 94.48%\n",
      "Rank-10 : 97.18%\n",
      "Rank-20 : 98.92%\n",
      "\u001b[33mValidating momentum vgg16 ...\u001b[0m\n",
      "Features extracted in 98.19 seconds\n",
      "Features extracted in 165.43 seconds\n",
      "Computing CMC and mAP ...\n",
      "** Results **\n",
      "mAP: 70.54%\n",
      "CMC curve\n",
      "Rank-1  : 79.23%\n",
      "Rank-5  : 95.60%\n",
      "Rank-10 : 98.30%\n",
      "Rank-20 : 99.65%\n",
      "\u001b[33mValidating online resnet50 ...\u001b[0m\n",
      "Features extracted in 95.09 seconds\n",
      "Features extracted in 171.98 seconds\n",
      "Computing CMC and mAP ...\n",
      "** Results **\n",
      "mAP: 73.98%\n",
      "CMC curve\n",
      "Rank-1  : 90.74%\n",
      "Rank-5  : 97.95%\n",
      "Rank-10 : 99.21%\n",
      "Rank-20 : 99.78%\n",
      "\u001b[33mValidating momentum resnet50 ...\u001b[0m\n",
      "Features extracted in 94.93 seconds\n",
      "Features extracted in 164.65 seconds\n",
      "Computing CMC and mAP ...\n",
      "** Results **\n",
      "mAP: 73.94%\n",
      "CMC curve\n",
      "Rank-1  : 89.96%\n",
      "Rank-5  : 97.91%\n",
      "Rank-10 : 99.30%\n",
      "Rank-20 : 99.85%\n",
      "\u001b[33mValidating online osnet ...\u001b[0m\n",
      "Features extracted in 87.06 seconds\n",
      "Features extracted in 166.67 seconds\n",
      "Computing CMC and mAP ...\n",
      "** Results **\n",
      "mAP: 71.48%\n",
      "CMC curve\n",
      "Rank-1  : 83.20%\n",
      "Rank-5  : 95.69%\n",
      "Rank-10 : 98.05%\n",
      "Rank-20 : 99.42%\n",
      "\u001b[33mValidating momentum osnet ...\u001b[0m\n",
      "Features extracted in 97.60 seconds\n",
      "Features extracted in 171.88 seconds\n",
      "Computing CMC and mAP ...\n",
      "** Results **\n",
      "mAP: 73.34%\n",
      "CMC curve\n",
      "Rank-1  : 82.40%\n",
      "Rank-5  : 95.54%\n",
      "Rank-10 : 98.11%\n",
      "Rank-20 : 99.44%\n",
      "\u001b[33mValidating online densenet121 ...\u001b[0m\n",
      "Features extracted in 95.12 seconds\n",
      "Features extracted in 167.12 seconds\n",
      "Computing CMC and mAP ...\n",
      "** Results **\n",
      "mAP: 73.52%\n",
      "CMC curve\n",
      "Rank-1  : 91.69%\n",
      "Rank-5  : 97.51%\n",
      "Rank-10 : 98.79%\n",
      "Rank-20 : 99.68%\n",
      "\u001b[33mValidating momentum densenet121 ...\u001b[0m\n",
      "Features extracted in 96.78 seconds\n",
      "Features extracted in 167.28 seconds\n",
      "Computing CMC and mAP ...\n",
      "** Results **\n",
      "mAP: 73.91%\n",
      "CMC curve\n",
      "Rank-1  : 86.29%\n",
      "Rank-5  : 96.31%\n",
      "Rank-10 : 98.47%\n",
      "Rank-20 : 99.43%\n",
      "\u001b[33mValidating ensembled with online models ...\u001b[0m\n",
      "Computing CMC and mAP ...\n",
      "** Results **\n",
      "mAP: 75.90%\n",
      "Ranks:\n",
      "Rank-1  : 96.38%\n",
      "Rank-5  : 99.15%\n",
      "Rank-10 : 99.68%\n",
      "\u001b[33mValidating ensembled with momentum models ...\u001b[0m\n",
      "Computing CMC and mAP ...\n",
      "** Results **\n",
      "mAP: 74.20%\n",
      "Ranks:\n",
      "Rank-1  : 87.73%\n",
      "Rank-5  : 96.52%\n",
      "Rank-10 : 98.52%\n",
      "Features extracted in 165.51 seconds\n",
      "Features extracted in 99.09 seconds\n",
      "Features extracted in 173.38 seconds\n",
      "Features extracted in 97.42 seconds\n",
      "Features extracted in 167.49 seconds\n",
      "Features extracted in 95.20 seconds\n",
      "Features extracted in 170.44 seconds\n",
      "Features extracted in 96.24 seconds\n",
      "Features extracted in 166.32 seconds\n",
      "Features extracted in 97.93 seconds\n",
      "Features extracted in 165.46 seconds\n",
      "Features extracted in 96.13 seconds\n",
      "Features extracted in 168.10 seconds\n",
      "Features extracted in 98.42 seconds\n",
      "185840.18507099152 3582.5611686706543 18346.76428079605\n",
      "Mean Feature Extraction and Reranking Time: 6194.672836\n",
      "Mean Clustering Time: 119.418706\n",
      "Mean Finetuning Time: 611.558809\n",
      "Total pipeline Time:  312764.180862\n"
     ]
    }
   ],
   "source": [
    "import torch\n",
    "import numpy as np\n",
    "import matplotlib.pyplot as plt\n",
    "\n",
    "from main import *\n",
    "\n",
    "from sklearn.cluster import KMeans\n",
    "from datasetUtils import load_from_Jadson\n",
    "from sklearn.metrics import confusion_matrix\n",
    "from sklearn.metrics import ConfusionMatrixDisplay\n",
    "\n",
    "from warnings import simplefilter\n",
    "# ignore all future warnings\n",
    "simplefilter(action='ignore', category=FutureWarning)\n",
    "\n",
    "\n",
    "# if __name__ == '__main__':\n",
    "# parser = argparse.ArgumentParser(description='Define the UDA parameters')\n",
    "#\n",
    "# parser.add_argument('--gpu_ids', type=str, default=\"7\", help='GPU IDs')\n",
    "# parser.add_argument('--lr', type=float, default=3.5e-4, help='Learning Rate')\n",
    "# parser.add_argument('--P', type=int, default=16, help='Number of Persons')\n",
    "# parser.add_argument('--K', type=int, default=4, help='Number of samples per person')\n",
    "# parser.add_argument('--tau', type=float, default=0.05, help='tau value used on softmax triplet loss')\n",
    "# parser.add_argument('--beta', type=float, default=0.999, help='beta used on self-Ensembling')\n",
    "# parser.add_argument('--k1', type=int, default=30, help='k on k-Reciprocal Encoding')\n",
    "# parser.add_argument('--sampling', type=str, default=\"mean\", help='Mean or Random feature vectors to be prototype')\n",
    "# parser.add_argument('--lambda_hard', type=float, default=0.5, help='tuning prameter of Softmax Triplet Loss')\n",
    "# parser.add_argument('--num_iter', type=int, default=400, help='Number of iterations on an epoch')\n",
    "# parser.add_argument('--momentum_on_feature_extraction', type=int, default=0,\n",
    "# help='If it is the momentum used on feature extraction')\n",
    "# parser.add_argument('--target', type=str, help='Name of target dataset')\n",
    "# parser.add_argument('--path_to_save_models', type=str, help='Path to save models')\n",
    "# parser.add_argument('--path_to_save_metrics', type=str, help='Path to save metrics (mAP, CMC, ...)')\n",
    "# parser.add_argument('--version', type=str, help='Path to save models')\n",
    "# parser.add_argument('--eval_freq', type=int, help='Evaluation Frequency along training')\n",
    "\n",
    "# args = parser.parse_args()\n",
    "# gpu_ids = args.gpu_ids\n",
    "# base_lr = args.lr\n",
    "# P = args.P\n",
    "# K = args.K\n",
    "\n",
    "# tau = args.tau\n",
    "# beta = args.beta\n",
    "# k1 = args.k1\n",
    "# sampling  = args.sampling\n",
    "#\n",
    "# lambda_hard = args.lambda_hard\n",
    "# number_of_iterations = args.num_iter\n",
    "# momentum_on_feature_extraction = bool(args.momentum_on_feature_extraction)\n",
    "# target = args.target\n",
    "# dir_to_save = args.path_to_save_models\n",
    "# dir_to_save_metrics = args.path_to_save_metrics\n",
    "# version = args.version\n",
    "# eval_freq = args.eval_freq\n",
    "# main.py --gpu_ids=0,1,2,3 --lr=3.5e-4 --P=16 --K=12 --tau=0.04 --beta=0.999 --k1=30 --sampling=mean --lambda_hard=0.5 --num_iter=7 --momentum_on_feature_extraction=0 --target=Duke --path_to_save_models=models --path_to_save_metrics=metrics --version=version_name --eval_freq=5\n",
    "\n",
    "import sys\n",
    "import os\n",
    "import pandas as pd\n",
    "\n",
    "from IPython.display import display, Image\n",
    "\n",
    "from IPython.display import display, HTML\n",
    "from bs4 import BeautifulSoup\n",
    "\n",
    "\n",
    "# Função para exibir a imagem usando HTML\n",
    "def exibir_imagem(imagem_path):\n",
    "    return f'<img src=\"{imagem_path}\" width=\"40\">'\n",
    "\n",
    "\n",
    "from metricas import *\n",
    "\n",
    "html_content= \"\"\n",
    "df = pd.DataFrame({\n",
    "    'k':[], \n",
    "    'lambda_hard':[],\n",
    "    'modelo':[],\n",
    "    'matriz_confusao':[], \n",
    "    'Acuracia':[], \n",
    "    'Precisao':[],\n",
    "    'Recall':[],\n",
    "    'F1-score':[],\n",
    "    'Grafico':[],\n",
    "    'Tipo':[]\n",
    "    })\n",
    "\n",
    "gpus = \"0,1,2\"\n",
    "for k in [4]:\n",
    "    for lambda_hard in [ 0.0 ]:\n",
    "                \n",
    "        print(f\"**** inicio do teste com ruido em k:{k} e lambda_hard:{lambda_hard} ****\")\n",
    "        \n",
    "        version = f\"teste-06-hsv-30epocas-crop-motog5{k}_{lambda_hard}\"\n",
    "        \n",
    "        main(gpu_ids=gpus,base_lr=3.5e-4,P=16,K=k,tau=0.04,beta=0.999,k1=30,sampling=\"random\",lambda_hard=lambda_hard,number_of_iterations=7,momentum_on_feature_extraction=0,target=\"Jadson\",dir_to_save=\"models\",dir_to_save_metrics=\"metrics\",version=version,eval_freq=5,use_ruido=True)\n",
    "        \n",
    "        for metodo in models_name + [\"mean\"]:\n",
    "            metricas_t, metricas_v, rotulos_t, rotulos_v = metricas(k=k, lambda_hard=lambda_hard, modelo=metodo)\n",
    "            linha = {\n",
    "                'k':            [k], \n",
    "                'lambda_hard':  [lambda_hard],\n",
    "                'modelo':       [metodo],\n",
    "                'Tipo':         'Test'\n",
    "            }\n",
    "            for count in range( 0, metricas_t.shape[0] ):\n",
    "                for m in range( 0, metricas_t.shape[1] ):\n",
    "                    linha[rotulos_t[m]] = metricas_t[count][m]\n",
    "                    \n",
    "                \n",
    "                linha['matriz_confusao'] = f'resultados/MC_{k}_{lambda_hard}_{count}_{metodo}_test.png'\n",
    "                linha['Grafico'] = f'resultados/grafico_{k}_{lambda_hard}_{count}_{metodo}_test.png'\n",
    "                df = pd.concat( [df, pd.DataFrame(linha)], axis=0)\n",
    "             \n",
    "            linha = {\n",
    "               'k':             [k], \n",
    "               'lambda_hard':   [lambda_hard],\n",
    "               'modelo':        [metodo],\n",
    "               'Tipo':          'Valid'\n",
    "             }\n",
    "            for count in range( 0, metricas_v.shape[0] ):\n",
    "                for m in range( 0, metricas_v.shape[1] ):\n",
    "                    linha[rotulos_v[m]] = metricas_v[count][m] \n",
    "               \n",
    "                linha['Grafico'] = f'resultados/grafico_{k}_{lambda_hard}_{count}_{metodo}_valid.png'\n",
    "                linha['matriz_confusao'] = f'resultados/MC_{k}_{lambda_hard}_{count}_{metodo}_valid.png' \n",
    "                df = pd.concat( [df, pd.DataFrame(linha)], axis=0)\n",
    "        \n",
    "        # Aplicar a função à coluna 'imagem' e criar uma nova coluna 'imagem_exibicao'\n",
    "        df['MC'] = df['matriz_confusao'].apply(exibir_imagem)\n",
    "        df['GR'] = df['Grafico'].apply(exibir_imagem)\n",
    "        \n",
    "        html_content = df[['k', \n",
    "                           'lambda_hard', \n",
    "                           'Tipo', \n",
    "                           'modelo'] + \n",
    "                           rotulos_v[:8] + \n",
    "                           ['MC', \n",
    "                           'GR']].to_html(escape=False, index=False)\n",
    "        # salvando df em arquivo html\n",
    "        # Use BeautifulSoup para formatar o HTML\n",
    "        soup = BeautifulSoup(html_content, 'html.parser')\n",
    "        formatted_html = soup.prettify()\n",
    "        \n",
    "        # Salve o HTML em um arquivo\n",
    "        head = \"<!DOCTYPE html>\\n<html lang='pt-br'>\\n<head>\\n  <meta charset='UTF-8'>\\n  <meta name='viewport' content='width=device-width, initial-scale=1.0'>\\n  <style>\\n    table {\\n      width: 100%;\\n      border-collapse: collapse;\\n    }\\n    th, td {\\n      border: 1px solid #ddd;\\n      padding: 8px;\\n      text-align: left;\\n    }\\n    th {\\n      background-color: #f2f2f2;\\n    }\\n    thead th {\\n      position: sticky;\\n      top: 0;\\n      z-index: 1;\\n      background-color: #f2f2f2;    }\\n  </style>\\n    <title>Relatório Parcial</title>\\n</head>\\n<body>\"\n",
    "        with open('relatorio-APCER-BPCER-ACER-silhouette-30epocas-hsv-crop-motog5-MNETv3-convnet-efficientnet.html', 'w', encoding='utf-8') as file:\n",
    "            file.write(head)\n",
    "            file.write(formatted_html)\n",
    "            file.write('</body></html>')"
   ]
  },
  {
   "cell_type": "code",
   "execution_count": 2,
   "metadata": {
    "execution": {
     "iopub.execute_input": "2024-06-24T12:27:23.666743Z",
     "iopub.status.busy": "2024-06-24T12:27:23.665931Z",
     "iopub.status.idle": "2024-06-24T12:27:23.699469Z",
     "shell.execute_reply": "2024-06-24T12:27:23.698746Z"
    }
   },
   "outputs": [
    {
     "data": {
      "text/html": [
       "<table border=\"1\" class=\"dataframe\">\n",
       "  <thead>\n",
       "    <tr style=\"text-align: right;\">\n",
       "      <th>k</th>\n",
       "      <th>lambda_hard</th>\n",
       "      <th>Tipo</th>\n",
       "      <th>modelo</th>\n",
       "      <th>ACCURACY</th>\n",
       "      <th>PRECISION</th>\n",
       "      <th>RECALL</th>\n",
       "      <th>F1_SCORE</th>\n",
       "      <th>APCER</th>\n",
       "      <th>BPCER</th>\n",
       "      <th>ACER</th>\n",
       "      <th>SILHOUETTE</th>\n",
       "      <th>MC</th>\n",
       "      <th>GR</th>\n",
       "    </tr>\n",
       "  </thead>\n",
       "  <tbody>\n",
       "    <tr>\n",
       "      <td>4.0</td>\n",
       "      <td>0.0</td>\n",
       "      <td>Test</td>\n",
       "      <td>efficientnet</td>\n",
       "      <td>0.800042</td>\n",
       "      <td>0.800033</td>\n",
       "      <td>1.000000</td>\n",
       "      <td>0.888909</td>\n",
       "      <td>0.000000</td>\n",
       "      <td>0.999792</td>\n",
       "      <td>0.499896</td>\n",
       "      <td>0.577146</td>\n",
       "      <td><img src=\"resultados/MC_4_0.0_0_efficientnet_test.png\" width=\"40\"></td>\n",
       "      <td><img src=\"resultados/grafico_4_0.0_0_efficientnet_test.png\" width=\"40\"></td>\n",
       "    </tr>\n",
       "    <tr>\n",
       "      <td>4.0</td>\n",
       "      <td>0.0</td>\n",
       "      <td>Valid</td>\n",
       "      <td>efficientnet</td>\n",
       "      <td>0.799896</td>\n",
       "      <td>0.799979</td>\n",
       "      <td>0.999870</td>\n",
       "      <td>0.888825</td>\n",
       "      <td>0.000130</td>\n",
       "      <td>1.000000</td>\n",
       "      <td>0.500065</td>\n",
       "      <td>0.586479</td>\n",
       "      <td><img src=\"resultados/MC_4_0.0_0_efficientnet_valid.png\" width=\"40\"></td>\n",
       "      <td><img src=\"resultados/grafico_4_0.0_0_efficientnet_valid.png\" width=\"40\"></td>\n",
       "    </tr>\n",
       "    <tr>\n",
       "      <td>4.0</td>\n",
       "      <td>0.0</td>\n",
       "      <td>Test</td>\n",
       "      <td>convnext</td>\n",
       "      <td>0.799958</td>\n",
       "      <td>0.799992</td>\n",
       "      <td>0.999948</td>\n",
       "      <td>0.888863</td>\n",
       "      <td>0.000052</td>\n",
       "      <td>1.000000</td>\n",
       "      <td>0.500026</td>\n",
       "      <td>0.795927</td>\n",
       "      <td><img src=\"resultados/MC_4_0.0_0_convnext_test.png\" width=\"40\"></td>\n",
       "      <td><img src=\"resultados/grafico_4_0.0_0_convnext_test.png\" width=\"40\"></td>\n",
       "    </tr>\n",
       "    <tr>\n",
       "      <td>4.0</td>\n",
       "      <td>0.0</td>\n",
       "      <td>Valid</td>\n",
       "      <td>convnext</td>\n",
       "      <td>0.800104</td>\n",
       "      <td>0.800083</td>\n",
       "      <td>1.000000</td>\n",
       "      <td>0.888940</td>\n",
       "      <td>0.000000</td>\n",
       "      <td>0.999479</td>\n",
       "      <td>0.499740</td>\n",
       "      <td>0.690146</td>\n",
       "      <td><img src=\"resultados/MC_4_0.0_0_convnext_valid.png\" width=\"40\"></td>\n",
       "      <td><img src=\"resultados/grafico_4_0.0_0_convnext_valid.png\" width=\"40\"></td>\n",
       "    </tr>\n",
       "    <tr>\n",
       "      <td>4.0</td>\n",
       "      <td>0.0</td>\n",
       "      <td>Test</td>\n",
       "      <td>mobilenet</td>\n",
       "      <td>0.797042</td>\n",
       "      <td>0.799407</td>\n",
       "      <td>0.996302</td>\n",
       "      <td>0.887060</td>\n",
       "      <td>0.003698</td>\n",
       "      <td>1.000000</td>\n",
       "      <td>0.501849</td>\n",
       "      <td>0.649543</td>\n",
       "      <td><img src=\"resultados/MC_4_0.0_0_mobilenet_test.png\" width=\"40\"></td>\n",
       "      <td><img src=\"resultados/grafico_4_0.0_0_mobilenet_test.png\" width=\"40\"></td>\n",
       "    </tr>\n",
       "    <tr>\n",
       "      <td>4.0</td>\n",
       "      <td>0.0</td>\n",
       "      <td>Valid</td>\n",
       "      <td>mobilenet</td>\n",
       "      <td>0.799896</td>\n",
       "      <td>0.799979</td>\n",
       "      <td>0.999870</td>\n",
       "      <td>0.888825</td>\n",
       "      <td>0.000130</td>\n",
       "      <td>1.000000</td>\n",
       "      <td>0.500065</td>\n",
       "      <td>0.789981</td>\n",
       "      <td><img src=\"resultados/MC_4_0.0_0_mobilenet_valid.png\" width=\"40\"></td>\n",
       "      <td><img src=\"resultados/grafico_4_0.0_0_mobilenet_valid.png\" width=\"40\"></td>\n",
       "    </tr>\n",
       "    <tr>\n",
       "      <td>4.0</td>\n",
       "      <td>0.0</td>\n",
       "      <td>Test</td>\n",
       "      <td>vgg16</td>\n",
       "      <td>0.800333</td>\n",
       "      <td>0.800267</td>\n",
       "      <td>1.000000</td>\n",
       "      <td>0.889054</td>\n",
       "      <td>0.000000</td>\n",
       "      <td>0.998333</td>\n",
       "      <td>0.499167</td>\n",
       "      <td>0.645537</td>\n",
       "      <td><img src=\"resultados/MC_4_0.0_0_vgg16_test.png\" width=\"40\"></td>\n",
       "      <td><img src=\"resultados/grafico_4_0.0_0_vgg16_test.png\" width=\"40\"></td>\n",
       "    </tr>\n",
       "    <tr>\n",
       "      <td>4.0</td>\n",
       "      <td>0.0</td>\n",
       "      <td>Valid</td>\n",
       "      <td>vgg16</td>\n",
       "      <td>0.799896</td>\n",
       "      <td>0.799979</td>\n",
       "      <td>0.999870</td>\n",
       "      <td>0.888825</td>\n",
       "      <td>0.000130</td>\n",
       "      <td>1.000000</td>\n",
       "      <td>0.500065</td>\n",
       "      <td>0.810672</td>\n",
       "      <td><img src=\"resultados/MC_4_0.0_0_vgg16_valid.png\" width=\"40\"></td>\n",
       "      <td><img src=\"resultados/grafico_4_0.0_0_vgg16_valid.png\" width=\"40\"></td>\n",
       "    </tr>\n",
       "    <tr>\n",
       "      <td>4.0</td>\n",
       "      <td>0.0</td>\n",
       "      <td>Test</td>\n",
       "      <td>resnet50</td>\n",
       "      <td>0.800125</td>\n",
       "      <td>0.800100</td>\n",
       "      <td>1.000000</td>\n",
       "      <td>0.888951</td>\n",
       "      <td>0.000000</td>\n",
       "      <td>0.999375</td>\n",
       "      <td>0.499688</td>\n",
       "      <td>0.704221</td>\n",
       "      <td><img src=\"resultados/MC_4_0.0_0_resnet50_test.png\" width=\"40\"></td>\n",
       "      <td><img src=\"resultados/grafico_4_0.0_0_resnet50_test.png\" width=\"40\"></td>\n",
       "    </tr>\n",
       "    <tr>\n",
       "      <td>4.0</td>\n",
       "      <td>0.0</td>\n",
       "      <td>Valid</td>\n",
       "      <td>resnet50</td>\n",
       "      <td>0.799896</td>\n",
       "      <td>0.799979</td>\n",
       "      <td>0.999870</td>\n",
       "      <td>0.888825</td>\n",
       "      <td>0.000130</td>\n",
       "      <td>1.000000</td>\n",
       "      <td>0.500065</td>\n",
       "      <td>0.823235</td>\n",
       "      <td><img src=\"resultados/MC_4_0.0_0_resnet50_valid.png\" width=\"40\"></td>\n",
       "      <td><img src=\"resultados/grafico_4_0.0_0_resnet50_valid.png\" width=\"40\"></td>\n",
       "    </tr>\n",
       "    <tr>\n",
       "      <td>4.0</td>\n",
       "      <td>0.0</td>\n",
       "      <td>Test</td>\n",
       "      <td>osnet</td>\n",
       "      <td>0.800500</td>\n",
       "      <td>0.800400</td>\n",
       "      <td>1.000000</td>\n",
       "      <td>0.889136</td>\n",
       "      <td>0.000000</td>\n",
       "      <td>0.997500</td>\n",
       "      <td>0.498750</td>\n",
       "      <td>0.760701</td>\n",
       "      <td><img src=\"resultados/MC_4_0.0_0_osnet_test.png\" width=\"40\"></td>\n",
       "      <td><img src=\"resultados/grafico_4_0.0_0_osnet_test.png\" width=\"40\"></td>\n",
       "    </tr>\n",
       "    <tr>\n",
       "      <td>4.0</td>\n",
       "      <td>0.0</td>\n",
       "      <td>Valid</td>\n",
       "      <td>osnet</td>\n",
       "      <td>0.799896</td>\n",
       "      <td>0.799979</td>\n",
       "      <td>0.999870</td>\n",
       "      <td>0.888825</td>\n",
       "      <td>0.000130</td>\n",
       "      <td>1.000000</td>\n",
       "      <td>0.500065</td>\n",
       "      <td>0.837541</td>\n",
       "      <td><img src=\"resultados/MC_4_0.0_0_osnet_valid.png\" width=\"40\"></td>\n",
       "      <td><img src=\"resultados/grafico_4_0.0_0_osnet_valid.png\" width=\"40\"></td>\n",
       "    </tr>\n",
       "    <tr>\n",
       "      <td>4.0</td>\n",
       "      <td>0.0</td>\n",
       "      <td>Test</td>\n",
       "      <td>densenet121</td>\n",
       "      <td>0.799250</td>\n",
       "      <td>0.799850</td>\n",
       "      <td>0.999062</td>\n",
       "      <td>0.888426</td>\n",
       "      <td>0.000937</td>\n",
       "      <td>1.000000</td>\n",
       "      <td>0.500469</td>\n",
       "      <td>0.578242</td>\n",
       "      <td><img src=\"resultados/MC_4_0.0_0_densenet121_test.png\" width=\"40\"></td>\n",
       "      <td><img src=\"resultados/grafico_4_0.0_0_densenet121_test.png\" width=\"40\"></td>\n",
       "    </tr>\n",
       "    <tr>\n",
       "      <td>4.0</td>\n",
       "      <td>0.0</td>\n",
       "      <td>Valid</td>\n",
       "      <td>densenet121</td>\n",
       "      <td>0.823438</td>\n",
       "      <td>0.821325</td>\n",
       "      <td>0.995964</td>\n",
       "      <td>0.900253</td>\n",
       "      <td>0.004036</td>\n",
       "      <td>0.866667</td>\n",
       "      <td>0.435352</td>\n",
       "      <td>0.568735</td>\n",
       "      <td><img src=\"resultados/MC_4_0.0_0_densenet121_valid.png\" width=\"40\"></td>\n",
       "      <td><img src=\"resultados/grafico_4_0.0_0_densenet121_valid.png\" width=\"40\"></td>\n",
       "    </tr>\n",
       "    <tr>\n",
       "      <td>4.0</td>\n",
       "      <td>0.0</td>\n",
       "      <td>Test</td>\n",
       "      <td>mean</td>\n",
       "      <td>0.799625</td>\n",
       "      <td>0.799925</td>\n",
       "      <td>0.999531</td>\n",
       "      <td>0.888657</td>\n",
       "      <td>0.000469</td>\n",
       "      <td>1.000000</td>\n",
       "      <td>0.500234</td>\n",
       "      <td>0.673045</td>\n",
       "      <td><img src=\"resultados/MC_4_0.0_0_mean_test.png\" width=\"40\"></td>\n",
       "      <td><img src=\"resultados/grafico_4_0.0_0_mean_test.png\" width=\"40\"></td>\n",
       "    </tr>\n",
       "    <tr>\n",
       "      <td>4.0</td>\n",
       "      <td>0.0</td>\n",
       "      <td>Valid</td>\n",
       "      <td>mean</td>\n",
       "      <td>0.799896</td>\n",
       "      <td>0.799979</td>\n",
       "      <td>0.999870</td>\n",
       "      <td>0.888825</td>\n",
       "      <td>0.000130</td>\n",
       "      <td>1.000000</td>\n",
       "      <td>0.500065</td>\n",
       "      <td>0.729541</td>\n",
       "      <td><img src=\"resultados/MC_4_0.0_0_mean_valid.png\" width=\"40\"></td>\n",
       "      <td><img src=\"resultados/grafico_4_0.0_0_mean_valid.png\" width=\"40\"></td>\n",
       "    </tr>\n",
       "  </tbody>\n",
       "</table>"
      ],
      "text/plain": [
       "<IPython.core.display.HTML object>"
      ]
     },
     "metadata": {},
     "output_type": "display_data"
    },
    {
     "name": "stdout",
     "output_type": "stream",
     "text": [
      "     k  lambda_hard        modelo  \\\n",
      "0  4.0          0.0  efficientnet   \n",
      "0  4.0          0.0  efficientnet   \n",
      "0  4.0          0.0      convnext   \n",
      "0  4.0          0.0      convnext   \n",
      "0  4.0          0.0     mobilenet   \n",
      "0  4.0          0.0     mobilenet   \n",
      "0  4.0          0.0         vgg16   \n",
      "0  4.0          0.0         vgg16   \n",
      "0  4.0          0.0      resnet50   \n",
      "0  4.0          0.0      resnet50   \n",
      "0  4.0          0.0         osnet   \n",
      "0  4.0          0.0         osnet   \n",
      "0  4.0          0.0   densenet121   \n",
      "0  4.0          0.0   densenet121   \n",
      "0  4.0          0.0          mean   \n",
      "0  4.0          0.0          mean   \n",
      "\n",
      "                                matriz_confusao  Acuracia  Precisao  Recall  \\\n",
      "0   resultados/MC_4_0.0_0_efficientnet_test.png       NaN       NaN     NaN   \n",
      "0  resultados/MC_4_0.0_0_efficientnet_valid.png       NaN       NaN     NaN   \n",
      "0       resultados/MC_4_0.0_0_convnext_test.png       NaN       NaN     NaN   \n",
      "0      resultados/MC_4_0.0_0_convnext_valid.png       NaN       NaN     NaN   \n",
      "0      resultados/MC_4_0.0_0_mobilenet_test.png       NaN       NaN     NaN   \n",
      "0     resultados/MC_4_0.0_0_mobilenet_valid.png       NaN       NaN     NaN   \n",
      "0          resultados/MC_4_0.0_0_vgg16_test.png       NaN       NaN     NaN   \n",
      "0         resultados/MC_4_0.0_0_vgg16_valid.png       NaN       NaN     NaN   \n",
      "0       resultados/MC_4_0.0_0_resnet50_test.png       NaN       NaN     NaN   \n",
      "0      resultados/MC_4_0.0_0_resnet50_valid.png       NaN       NaN     NaN   \n",
      "0          resultados/MC_4_0.0_0_osnet_test.png       NaN       NaN     NaN   \n",
      "0         resultados/MC_4_0.0_0_osnet_valid.png       NaN       NaN     NaN   \n",
      "0    resultados/MC_4_0.0_0_densenet121_test.png       NaN       NaN     NaN   \n",
      "0   resultados/MC_4_0.0_0_densenet121_valid.png       NaN       NaN     NaN   \n",
      "0           resultados/MC_4_0.0_0_mean_test.png       NaN       NaN     NaN   \n",
      "0          resultados/MC_4_0.0_0_mean_valid.png       NaN       NaN     NaN   \n",
      "\n",
      "   F1-score                                            Grafico   Tipo  \\\n",
      "0       NaN   resultados/grafico_4_0.0_0_efficientnet_test.png   Test   \n",
      "0       NaN  resultados/grafico_4_0.0_0_efficientnet_valid.png  Valid   \n",
      "0       NaN       resultados/grafico_4_0.0_0_convnext_test.png   Test   \n",
      "0       NaN      resultados/grafico_4_0.0_0_convnext_valid.png  Valid   \n",
      "0       NaN      resultados/grafico_4_0.0_0_mobilenet_test.png   Test   \n",
      "0       NaN     resultados/grafico_4_0.0_0_mobilenet_valid.png  Valid   \n",
      "0       NaN          resultados/grafico_4_0.0_0_vgg16_test.png   Test   \n",
      "0       NaN         resultados/grafico_4_0.0_0_vgg16_valid.png  Valid   \n",
      "0       NaN       resultados/grafico_4_0.0_0_resnet50_test.png   Test   \n",
      "0       NaN      resultados/grafico_4_0.0_0_resnet50_valid.png  Valid   \n",
      "0       NaN          resultados/grafico_4_0.0_0_osnet_test.png   Test   \n",
      "0       NaN         resultados/grafico_4_0.0_0_osnet_valid.png  Valid   \n",
      "0       NaN    resultados/grafico_4_0.0_0_densenet121_test.png   Test   \n",
      "0       NaN   resultados/grafico_4_0.0_0_densenet121_valid.png  Valid   \n",
      "0       NaN           resultados/grafico_4_0.0_0_mean_test.png   Test   \n",
      "0       NaN          resultados/grafico_4_0.0_0_mean_valid.png  Valid   \n",
      "\n",
      "   ACCURACY  PRECISION    RECALL  F1_SCORE     APCER     BPCER      ACER  \\\n",
      "0  0.800042   0.800033  1.000000  0.888909  0.000000  0.999792  0.499896   \n",
      "0  0.799896   0.799979  0.999870  0.888825  0.000130  1.000000  0.500065   \n",
      "0  0.799958   0.799992  0.999948  0.888863  0.000052  1.000000  0.500026   \n",
      "0  0.800104   0.800083  1.000000  0.888940  0.000000  0.999479  0.499740   \n",
      "0  0.797042   0.799407  0.996302  0.887060  0.003698  1.000000  0.501849   \n",
      "0  0.799896   0.799979  0.999870  0.888825  0.000130  1.000000  0.500065   \n",
      "0  0.800333   0.800267  1.000000  0.889054  0.000000  0.998333  0.499167   \n",
      "0  0.799896   0.799979  0.999870  0.888825  0.000130  1.000000  0.500065   \n",
      "0  0.800125   0.800100  1.000000  0.888951  0.000000  0.999375  0.499688   \n",
      "0  0.799896   0.799979  0.999870  0.888825  0.000130  1.000000  0.500065   \n",
      "0  0.800500   0.800400  1.000000  0.889136  0.000000  0.997500  0.498750   \n",
      "0  0.799896   0.799979  0.999870  0.888825  0.000130  1.000000  0.500065   \n",
      "0  0.799250   0.799850  0.999062  0.888426  0.000937  1.000000  0.500469   \n",
      "0  0.823438   0.821325  0.995964  0.900253  0.004036  0.866667  0.435352   \n",
      "0  0.799625   0.799925  0.999531  0.888657  0.000469  1.000000  0.500234   \n",
      "0  0.799896   0.799979  0.999870  0.888825  0.000130  1.000000  0.500065   \n",
      "\n",
      "   SILHOUETTE                                                 MC  \\\n",
      "0    0.577146  <img src=\"resultados/MC_4_0.0_0_efficientnet_t...   \n",
      "0    0.586479  <img src=\"resultados/MC_4_0.0_0_efficientnet_v...   \n",
      "0    0.795927  <img src=\"resultados/MC_4_0.0_0_convnext_test....   \n",
      "0    0.690146  <img src=\"resultados/MC_4_0.0_0_convnext_valid...   \n",
      "0    0.649543  <img src=\"resultados/MC_4_0.0_0_mobilenet_test...   \n",
      "0    0.789981  <img src=\"resultados/MC_4_0.0_0_mobilenet_vali...   \n",
      "0    0.645537  <img src=\"resultados/MC_4_0.0_0_vgg16_test.png...   \n",
      "0    0.810672  <img src=\"resultados/MC_4_0.0_0_vgg16_valid.pn...   \n",
      "0    0.704221  <img src=\"resultados/MC_4_0.0_0_resnet50_test....   \n",
      "0    0.823235  <img src=\"resultados/MC_4_0.0_0_resnet50_valid...   \n",
      "0    0.760701  <img src=\"resultados/MC_4_0.0_0_osnet_test.png...   \n",
      "0    0.837541  <img src=\"resultados/MC_4_0.0_0_osnet_valid.pn...   \n",
      "0    0.578242  <img src=\"resultados/MC_4_0.0_0_densenet121_te...   \n",
      "0    0.568735  <img src=\"resultados/MC_4_0.0_0_densenet121_va...   \n",
      "0    0.673045  <img src=\"resultados/MC_4_0.0_0_mean_test.png\"...   \n",
      "0    0.729541  <img src=\"resultados/MC_4_0.0_0_mean_valid.png...   \n",
      "\n",
      "                                                  GR  \n",
      "0  <img src=\"resultados/grafico_4_0.0_0_efficient...  \n",
      "0  <img src=\"resultados/grafico_4_0.0_0_efficient...  \n",
      "0  <img src=\"resultados/grafico_4_0.0_0_convnext_...  \n",
      "0  <img src=\"resultados/grafico_4_0.0_0_convnext_...  \n",
      "0  <img src=\"resultados/grafico_4_0.0_0_mobilenet...  \n",
      "0  <img src=\"resultados/grafico_4_0.0_0_mobilenet...  \n",
      "0  <img src=\"resultados/grafico_4_0.0_0_vgg16_tes...  \n",
      "0  <img src=\"resultados/grafico_4_0.0_0_vgg16_val...  \n",
      "0  <img src=\"resultados/grafico_4_0.0_0_resnet50_...  \n",
      "0  <img src=\"resultados/grafico_4_0.0_0_resnet50_...  \n",
      "0  <img src=\"resultados/grafico_4_0.0_0_osnet_tes...  \n",
      "0  <img src=\"resultados/grafico_4_0.0_0_osnet_val...  \n",
      "0  <img src=\"resultados/grafico_4_0.0_0_densenet1...  \n",
      "0  <img src=\"resultados/grafico_4_0.0_0_densenet1...  \n",
      "0  <img src=\"resultados/grafico_4_0.0_0_mean_test...  \n",
      "0  <img src=\"resultados/grafico_4_0.0_0_mean_vali...  \n"
     ]
    }
   ],
   "source": [
    "# Exibir o DataFrame com as imagens\n",
    "display(HTML(html_content))\n",
    "print(df)"
   ]
  }
 ],
 "metadata": {
  "kernelspec": {
   "display_name": "Python 3",
   "language": "python",
   "name": "python3"
  },
  "language_info": {
   "codemirror_mode": {
    "name": "ipython",
    "version": 3
   },
   "file_extension": ".py",
   "mimetype": "text/x-python",
   "name": "python",
   "nbconvert_exporter": "python",
   "pygments_lexer": "ipython3",
   "version": "3.10.13"
  }
 },
 "nbformat": 4,
 "nbformat_minor": 2
}
