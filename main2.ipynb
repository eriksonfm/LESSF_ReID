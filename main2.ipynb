{
 "cells": [
  {
   "cell_type": "code",
   "execution_count": 1,
   "metadata": {
    "execution": {
     "iopub.execute_input": "2024-05-14T02:55:26.291191Z",
     "iopub.status.busy": "2024-05-14T02:55:26.290661Z",
     "iopub.status.idle": "2024-05-21T09:04:37.299353Z",
     "shell.execute_reply": "2024-05-21T09:04:37.297651Z"
    }
   },
   "outputs": [
    {
     "name": "stderr",
     "output_type": "stream",
     "text": [
      "/home/emorais/miniconda3/envs/myenv/lib/python3.10/site-packages/torchreid/reid/metrics/rank.py:11: UserWarning: Cython evaluation (very fast so highly recommended) is unavailable, now use python evaluation.\n",
      "  warnings.warn(\n",
      "/home/emorais/miniconda3/envs/myenv/lib/python3.10/site-packages/tqdm/auto.py:21: TqdmWarning: IProgress not found. Please update jupyter and ipywidgets. See https://ipywidgets.readthedocs.io/en/stable/user_install.html\n",
      "  from .autonotebook import tqdm as notebook_tqdm\n",
      "Special tokens have been added in the vocabulary, make sure the associated word embeddings are fine-tuned or trained.\n",
      "You are using the default legacy behaviour of the <class 'transformers.models.t5.tokenization_t5.T5Tokenizer'>. If you see this, DO NOT PANIC! This is expected, and simply means that the `legacy` (previous) behavior will be used so nothing changes for you. If you want to use the new behaviour, set `legacy=False`. This should only be set if you understand what it means, and thouroughly read the reason why this was added as explained in https://github.com/huggingface/transformers/pull/24565\n",
      "/home/emorais/repos/LESSF_ReID-working/DCNNs.py:18: UserWarning: Cython evaluation (very fast so highly recommended) is unavailable, now use python evaluation.\n",
      "  warnings.warn(\n"
     ]
    },
    {
     "name": "stdout",
     "output_type": "stream",
     "text": [
      "**** inicio do teste com ruido em k:4 e lambda_hard:0.0 ****\n",
      "Num GPU's: 3\n",
      "Allocated GPU's for model: [1, 2]\n"
     ]
    },
    {
     "name": "stderr",
     "output_type": "stream",
     "text": [
      "/home/emorais/miniconda3/envs/myenv/lib/python3.10/site-packages/torchvision/models/_utils.py:208: UserWarning: The parameter 'pretrained' is deprecated since 0.13 and may be removed in the future, please use 'weights' instead.\n",
      "  warnings.warn(\n",
      "/home/emorais/miniconda3/envs/myenv/lib/python3.10/site-packages/torchvision/models/_utils.py:223: UserWarning: Arguments other than a weight enum or `None` for 'weights' are deprecated since 0.13 and may be removed in the future. The current behavior is equivalent to passing `weights=EfficientNet_V2_M_Weights.IMAGENET1K_V1`. You can also use `weights=EfficientNet_V2_M_Weights.DEFAULT` to get the most up-to-date weights.\n",
      "  warnings.warn(msg)\n",
      "/home/emorais/miniconda3/envs/myenv/lib/python3.10/site-packages/torchvision/models/_utils.py:223: UserWarning: Arguments other than a weight enum or `None` for 'weights' are deprecated since 0.13 and may be removed in the future. The current behavior is equivalent to passing `weights=ConvNeXt_Base_Weights.IMAGENET1K_V1`. You can also use `weights=ConvNeXt_Base_Weights.DEFAULT` to get the most up-to-date weights.\n",
      "  warnings.warn(msg)\n",
      "/home/emorais/miniconda3/envs/myenv/lib/python3.10/site-packages/torchvision/models/_utils.py:223: UserWarning: Arguments other than a weight enum or `None` for 'weights' are deprecated since 0.13 and may be removed in the future. The current behavior is equivalent to passing `weights=MobileNet_V3_Large_Weights.IMAGENET1K_V1`. You can also use `weights=MobileNet_V3_Large_Weights.DEFAULT` to get the most up-to-date weights.\n",
      "  warnings.warn(msg)\n",
      "/home/emorais/miniconda3/envs/myenv/lib/python3.10/site-packages/torchvision/models/_utils.py:223: UserWarning: Arguments other than a weight enum or `None` for 'weights' are deprecated since 0.13 and may be removed in the future. The current behavior is equivalent to passing `weights=VGG16_Weights.IMAGENET1K_V1`. You can also use `weights=VGG16_Weights.DEFAULT` to get the most up-to-date weights.\n",
      "  warnings.warn(msg)\n",
      "/home/emorais/miniconda3/envs/myenv/lib/python3.10/site-packages/torchvision/models/_utils.py:223: UserWarning: Arguments other than a weight enum or `None` for 'weights' are deprecated since 0.13 and may be removed in the future. The current behavior is equivalent to passing `weights=ResNet50_Weights.IMAGENET1K_V1`. You can also use `weights=ResNet50_Weights.DEFAULT` to get the most up-to-date weights.\n",
      "  warnings.warn(msg)\n"
     ]
    },
    {
     "name": "stdout",
     "output_type": "stream",
     "text": [
      "Successfully loaded imagenet pretrained weights from \"/home/emorais/.cache/torch/checkpoints/osnet_x1_0_imagenet.pth\"\n",
      "Successfully loaded imagenet pretrained weights from \"/home/emorais/.cache/torch/checkpoints/osnet_x1_0_imagenet.pth\"\n"
     ]
    },
    {
     "name": "stderr",
     "output_type": "stream",
     "text": [
      "/home/emorais/miniconda3/envs/myenv/lib/python3.10/site-packages/torchvision/models/_utils.py:223: UserWarning: Arguments other than a weight enum or `None` for 'weights' are deprecated since 0.13 and may be removed in the future. The current behavior is equivalent to passing `weights=DenseNet121_Weights.IMAGENET1K_V1`. You can also use `weights=DenseNet121_Weights.DEFAULT` to get the most up-to-date weights.\n",
      "  warnings.warn(msg)\n"
     ]
    },
    {
     "name": "stdout",
     "output_type": "stream",
     "text": [
      "Training Size: (38400, 3)\n",
      "Gallery Size: (24000, 3)\n",
      "Query Size: (9600, 3)\n",
      "Validating efficientnet on Jadson ...\n",
      "Features extracted in 59.69 seconds\n",
      "Features extracted in 126.39 seconds\n",
      "Computing CMC and mAP ...\n",
      "** Results **\n",
      "mAP: 69.24%\n",
      "CMC curve\n",
      "Rank-1  : 78.64%\n",
      "Rank-5  : 93.65%\n",
      "Rank-10 : 96.90%\n",
      "Rank-20 : 98.64%\n",
      "Validating convnext on Jadson ...\n",
      "Features extracted in 62.42 seconds\n",
      "Features extracted in 133.78 seconds\n",
      "Computing CMC and mAP ...\n",
      "** Results **\n",
      "mAP: 70.64%\n",
      "CMC curve\n",
      "Rank-1  : 76.90%\n",
      "Rank-5  : 94.33%\n",
      "Rank-10 : 97.78%\n",
      "Rank-20 : 99.04%\n",
      "Validating mobilenet on Jadson ...\n",
      "Features extracted in 59.05 seconds\n",
      "Features extracted in 121.59 seconds\n",
      "Computing CMC and mAP ...\n",
      "** Results **\n",
      "mAP: 70.69%\n",
      "CMC curve\n",
      "Rank-1  : 78.00%\n",
      "Rank-5  : 92.32%\n",
      "Rank-10 : 96.51%\n",
      "Rank-20 : 98.98%\n",
      "Validating vgg16 on Jadson ...\n",
      "Features extracted in 60.96 seconds\n",
      "Features extracted in 127.77 seconds\n",
      "Computing CMC and mAP ...\n",
      "** Results **\n",
      "mAP: 69.94%\n",
      "CMC curve\n",
      "Rank-1  : 77.29%\n",
      "Rank-5  : 93.35%\n",
      "Rank-10 : 96.89%\n",
      "Rank-20 : 98.78%\n",
      "Validating resnet50 on Jadson ...\n",
      "Features extracted in 60.00 seconds\n",
      "Features extracted in 125.00 seconds\n",
      "Computing CMC and mAP ...\n",
      "** Results **\n",
      "mAP: 70.07%\n",
      "CMC curve\n",
      "Rank-1  : 74.08%\n",
      "Rank-5  : 92.16%\n",
      "Rank-10 : 96.27%\n",
      "Rank-20 : 98.75%\n",
      "Validating osnet on Jadson ...\n",
      "Features extracted in 61.13 seconds\n",
      "Features extracted in 126.17 seconds\n",
      "Computing CMC and mAP ...\n",
      "** Results **\n",
      "mAP: 69.20%\n",
      "CMC curve\n",
      "Rank-1  : 72.66%\n",
      "Rank-5  : 94.19%\n",
      "Rank-10 : 97.55%\n",
      "Rank-20 : 99.27%\n",
      "Validating densenet121 on Jadson ...\n",
      "Features extracted in 60.40 seconds\n",
      "Features extracted in 127.30 seconds\n",
      "Computing CMC and mAP ...\n",
      "** Results **\n",
      "mAP: 69.54%\n",
      "CMC curve\n",
      "Rank-1  : 74.33%\n",
      "Rank-5  : 92.35%\n",
      "Rank-10 : 96.30%\n",
      "Rank-20 : 98.46%\n",
      "Computing CMC and mAP ...\n",
      "** Results **\n",
      "mAP: 70.64%\n",
      "Ranks:\n",
      "Rank-1  : 79.43%\n",
      "Rank-5  : 92.52%\n",
      "Rank-10 : 96.67%\n",
      "###============ Iteration number 1/90 ============###\n",
      "Extracting Online Features for efficientnet ...\n",
      "Features extracted in 194.58 seconds\n",
      "Computing jaccard distance...\n"
     ]
    },
    {
     "name": "stderr",
     "output_type": "stream",
     "text": [
      "/home/emorais/repos/LESSF_ReID-working/faiss_utils.py:10: UserWarning: TypedStorage is deprecated. It will be removed in the future and UntypedStorage will be the only storage class. This should only matter to you if you are using storages directly.  To access UntypedStorage directly, use tensor.untyped_storage() instead of tensor.storage()\n",
      "  x.storage().data_ptr() + x.storage_offset() * 4)\n",
      "bruteForceKnn is deprecated; call bfKnn instead\n"
     ]
    },
    {
     "name": "stdout",
     "output_type": "stream",
     "text": [
      "Jaccard distance computing time cost: 519.1691262722015\n",
      "Extracting Online Features for convnext ...\n",
      "Features extracted in 292.46 seconds\n",
      "Computing jaccard distance...\n"
     ]
    },
    {
     "name": "stderr",
     "output_type": "stream",
     "text": [
      "bruteForceKnn is deprecated; call bfKnn instead\n"
     ]
    },
    {
     "name": "stdout",
     "output_type": "stream",
     "text": [
      "Jaccard distance computing time cost: 551.8818922042847\n",
      "Extracting Online Features for mobilenet ...\n",
      "Features extracted in 185.25 seconds\n",
      "Computing jaccard distance...\n"
     ]
    },
    {
     "name": "stderr",
     "output_type": "stream",
     "text": [
      "bruteForceKnn is deprecated; call bfKnn instead\n"
     ]
    },
    {
     "name": "stdout",
     "output_type": "stream",
     "text": [
      "Jaccard distance computing time cost: 576.2894604206085\n",
      "Extracting Online Features for vgg16 ...\n",
      "Features extracted in 198.05 seconds\n",
      "Computing jaccard distance...\n"
     ]
    },
    {
     "name": "stderr",
     "output_type": "stream",
     "text": [
      "bruteForceKnn is deprecated; call bfKnn instead\n"
     ]
    },
    {
     "name": "stdout",
     "output_type": "stream",
     "text": [
      "Jaccard distance computing time cost: 687.340078830719\n",
      "Extracting Online Features for resnet50 ...\n",
      "Features extracted in 192.14 seconds\n",
      "Computing jaccard distance...\n"
     ]
    },
    {
     "name": "stderr",
     "output_type": "stream",
     "text": [
      "bruteForceKnn is deprecated; call bfKnn instead\n"
     ]
    },
    {
     "name": "stdout",
     "output_type": "stream",
     "text": [
      "Jaccard distance computing time cost: 578.4520988464355\n",
      "Extracting Online Features for osnet ...\n",
      "Features extracted in 188.89 seconds\n",
      "Computing jaccard distance...\n"
     ]
    },
    {
     "name": "stderr",
     "output_type": "stream",
     "text": [
      "bruteForceKnn is deprecated; call bfKnn instead\n"
     ]
    },
    {
     "name": "stdout",
     "output_type": "stream",
     "text": [
      "Jaccard distance computing time cost: 646.5553870201111\n",
      "Extracting Online Features for densenet121 ...\n",
      "Features extracted in 271.28 seconds\n",
      "Computing jaccard distance...\n"
     ]
    },
    {
     "name": "stderr",
     "output_type": "stream",
     "text": [
      "bruteForceKnn is deprecated; call bfKnn instead\n"
     ]
    },
    {
     "name": "stdout",
     "output_type": "stream",
     "text": [
      "Jaccard distance computing time cost: 607.2948167324066\n",
      "Reliability: 0.981\n",
      "\u001b[32mMean Purity: 0.07991\u001b[0m\n",
      "\u001b[34mThere are 5 clusters with 4 cameras\u001b[0m\n",
      "\u001b[34mThere are 3 clusters with 5 cameras\u001b[0m\n",
      "\u001b[34mThere are 5 clusters with 6 cameras\u001b[0m\n",
      "\u001b[34mThere are 2 clusters with 7 cameras\u001b[0m\n",
      "\u001b[34mThere are 2 clusters with 9 cameras\u001b[0m\n",
      "\u001b[34mThere are 1 clusters with 10 cameras\u001b[0m\n",
      "\u001b[34mThere are 2 clusters with 16 cameras\u001b[0m\n",
      "\u001b[34mThere are 1 clusters with 18 cameras\u001b[0m\n",
      "\u001b[34mThere are 1 clusters with 20 cameras\u001b[0m\n",
      "\u001b[34mThere are 1 clusters with 24 cameras\u001b[0m\n",
      "\u001b[34mThere are 1 clusters with 26 cameras\u001b[0m\n",
      "\u001b[34mThere are 1 clusters with 27 cameras\u001b[0m\n",
      "\u001b[34mThere are 1 clusters with 36 cameras\u001b[0m\n",
      "\u001b[34mThere are 1 clusters with 37 cameras\u001b[0m\n",
      "\u001b[34mThere are 1 clusters with 39 cameras\u001b[0m\n",
      "\u001b[34mThere are 1 clusters with 40 cameras\u001b[0m\n",
      "\u001b[34mThere are 1 clusters with 41 cameras\u001b[0m\n",
      "\u001b[34mThere are 1 clusters with 47 cameras\u001b[0m\n",
      "\u001b[34mThere are 2 clusters with 53 cameras\u001b[0m\n",
      "\u001b[34mThere are 1 clusters with 54 cameras\u001b[0m\n",
      "\u001b[34mThere are 3 clusters with 55 cameras\u001b[0m\n",
      "\u001b[34mThere are 3 clusters with 56 cameras\u001b[0m\n",
      "\u001b[34mThere are 4 clusters with 57 cameras\u001b[0m\n",
      "\u001b[34mThere are 8 clusters with 58 cameras\u001b[0m\n",
      "\u001b[34mThere are 5 clusters with 59 cameras\u001b[0m\n",
      "\u001b[34mThere are 19 clusters with 60 cameras\u001b[0m\n",
      "\u001b[34mThere are 21 clusters with 61 cameras\u001b[0m\n",
      "\u001b[34mThere are 26 clusters with 62 cameras\u001b[0m\n",
      "\u001b[34mThere are 52 clusters with 63 cameras\u001b[0m\n",
      "\u001b[34mThere are 313 clusters with 64 cameras\u001b[0m\n",
      "\u001b[34mThere are 1 clusters with 68 cameras\u001b[0m\n",
      "\u001b[34mThere are 1 clusters with 69 cameras\u001b[0m\n",
      "\u001b[34mThere are 1 clusters with 74 cameras\u001b[0m\n",
      "\u001b[34mThere are 1 clusters with 89 cameras\u001b[0m\n",
      "\u001b[34mThere are 1 clusters with 91 cameras\u001b[0m\n",
      "\u001b[34mThere are 1 clusters with 95 cameras\u001b[0m\n",
      "\u001b[34mThere are 1 clusters with 98 cameras\u001b[0m\n",
      "\u001b[34mThere are 1 clusters with 104 cameras\u001b[0m\n",
      "\u001b[34mThere are 1 clusters with 112 cameras\u001b[0m\n",
      "\u001b[34mThere are 1 clusters with 114 cameras\u001b[0m\n",
      "\u001b[34mThere are 1 clusters with 116 cameras\u001b[0m\n",
      "\u001b[34mThere are 2 clusters with 119 cameras\u001b[0m\n",
      "\u001b[34mThere are 1 clusters with 121 cameras\u001b[0m\n",
      "\u001b[34mThere are 1 clusters with 122 cameras\u001b[0m\n",
      "\u001b[34mThere are 4 clusters with 123 cameras\u001b[0m\n",
      "\u001b[34mThere are 1 clusters with 124 cameras\u001b[0m\n",
      "\u001b[34mThere are 4 clusters with 126 cameras\u001b[0m\n",
      "\u001b[34mThere are 4 clusters with 127 cameras\u001b[0m\n",
      "\u001b[34mThere are 9 clusters with 128 cameras\u001b[0m\n",
      "\u001b[34mThere are 1 clusters with 175 cameras\u001b[0m\n",
      "\u001b[34mThere are 1 clusters with 176 cameras\u001b[0m\n",
      "\u001b[34mThere are 1 clusters with 178 cameras\u001b[0m\n",
      "\u001b[34mThere are 2 clusters with 182 cameras\u001b[0m\n",
      "\u001b[34mThere are 1 clusters with 184 cameras\u001b[0m\n",
      "\u001b[34mThere are 1 clusters with 186 cameras\u001b[0m\n",
      "\u001b[34mThere are 1 clusters with 189 cameras\u001b[0m\n",
      "\u001b[34mThere are 4 clusters with 192 cameras\u001b[0m\n",
      "\u001b[34mThere are 1 clusters with 215 cameras\u001b[0m\n",
      "\u001b[34mThere are 1 clusters with 222 cameras\u001b[0m\n",
      "\u001b[34mThere are 1 clusters with 248 cameras\u001b[0m\n",
      "\u001b[34mThere are 1 clusters with 250 cameras\u001b[0m\n",
      "\u001b[34mThere are 1 clusters with 255 cameras\u001b[0m\n",
      "\u001b[34mThere are 1 clusters with 321 cameras\u001b[0m\n",
      "\u001b[34mThere are 1 clusters with 325 cameras\u001b[0m\n",
      "Number of classes: 544\n",
      "\u001b[36mLearning Rate: 0.000017\u001b[0m\n",
      "encontrou modelos efficientnet. Carregando...\n",
      "encontrou modelos convnext. Carregando...\n",
      "encontrou modelos mobilenet. Carregando...\n",
      "encontrou modelos vgg16. Carregando...\n",
      "encontrou modelos resnet50. Carregando...\n",
      "encontrou modelos osnet. Carregando...\n",
      "encontrou modelos densenet121. Carregando...\n",
      "###============ Iteration number 2/90 ============###\n",
      "Extracting Online Features for efficientnet ...\n",
      "Features extracted in 205.01 seconds\n",
      "Computing jaccard distance...\n"
     ]
    },
    {
     "name": "stderr",
     "output_type": "stream",
     "text": [
      "bruteForceKnn is deprecated; call bfKnn instead\n"
     ]
    },
    {
     "name": "stdout",
     "output_type": "stream",
     "text": [
      "Jaccard distance computing time cost: 624.0944845676422\n",
      "Extracting Online Features for convnext ...\n",
      "Features extracted in 287.57 seconds\n",
      "Computing jaccard distance...\n"
     ]
    },
    {
     "name": "stderr",
     "output_type": "stream",
     "text": [
      "bruteForceKnn is deprecated; call bfKnn instead\n"
     ]
    },
    {
     "name": "stdout",
     "output_type": "stream",
     "text": [
      "Jaccard distance computing time cost: 615.5604250431061\n",
      "Extracting Online Features for mobilenet ...\n",
      "Features extracted in 187.29 seconds\n",
      "Computing jaccard distance...\n"
     ]
    },
    {
     "name": "stderr",
     "output_type": "stream",
     "text": [
      "bruteForceKnn is deprecated; call bfKnn instead\n"
     ]
    },
    {
     "name": "stdout",
     "output_type": "stream",
     "text": [
      "Jaccard distance computing time cost: 565.1760125160217\n",
      "Extracting Online Features for vgg16 ...\n",
      "Features extracted in 196.35 seconds\n",
      "Computing jaccard distance...\n"
     ]
    },
    {
     "name": "stderr",
     "output_type": "stream",
     "text": [
      "bruteForceKnn is deprecated; call bfKnn instead\n"
     ]
    },
    {
     "name": "stdout",
     "output_type": "stream",
     "text": [
      "Jaccard distance computing time cost: 576.7913289070129\n",
      "Extracting Online Features for resnet50 ...\n",
      "Features extracted in 192.98 seconds\n",
      "Computing jaccard distance...\n"
     ]
    },
    {
     "name": "stderr",
     "output_type": "stream",
     "text": [
      "bruteForceKnn is deprecated; call bfKnn instead\n"
     ]
    },
    {
     "name": "stdout",
     "output_type": "stream",
     "text": [
      "Jaccard distance computing time cost: 584.839367389679\n",
      "Extracting Online Features for osnet ...\n",
      "Features extracted in 191.11 seconds\n",
      "Computing jaccard distance...\n"
     ]
    },
    {
     "name": "stderr",
     "output_type": "stream",
     "text": [
      "bruteForceKnn is deprecated; call bfKnn instead\n"
     ]
    },
    {
     "name": "stdout",
     "output_type": "stream",
     "text": [
      "Jaccard distance computing time cost: 699.1016211509705\n",
      "Extracting Online Features for densenet121 ...\n",
      "Features extracted in 193.67 seconds\n",
      "Computing jaccard distance...\n"
     ]
    },
    {
     "name": "stderr",
     "output_type": "stream",
     "text": [
      "bruteForceKnn is deprecated; call bfKnn instead\n"
     ]
    },
    {
     "name": "stdout",
     "output_type": "stream",
     "text": [
      "Jaccard distance computing time cost: 577.12517619133\n",
      "Reliability: 0.994\n",
      "\u001b[32mMean Purity: 0.01644\u001b[0m\n",
      "\u001b[34mThere are 2 clusters with 4 cameras\u001b[0m\n",
      "\u001b[34mThere are 3 clusters with 5 cameras\u001b[0m\n",
      "\u001b[34mThere are 2 clusters with 6 cameras\u001b[0m\n",
      "\u001b[34mThere are 2 clusters with 7 cameras\u001b[0m\n",
      "\u001b[34mThere are 2 clusters with 9 cameras\u001b[0m\n",
      "\u001b[34mThere are 1 clusters with 11 cameras\u001b[0m\n",
      "\u001b[34mThere are 1 clusters with 12 cameras\u001b[0m\n",
      "\u001b[34mThere are 1 clusters with 16 cameras\u001b[0m\n",
      "\u001b[34mThere are 1 clusters with 17 cameras\u001b[0m\n",
      "\u001b[34mThere are 1 clusters with 19 cameras\u001b[0m\n",
      "\u001b[34mThere are 1 clusters with 27 cameras\u001b[0m\n",
      "\u001b[34mThere are 1 clusters with 31 cameras\u001b[0m\n",
      "\u001b[34mThere are 1 clusters with 32 cameras\u001b[0m\n",
      "\u001b[34mThere are 1 clusters with 41 cameras\u001b[0m\n",
      "\u001b[34mThere are 1 clusters with 45 cameras\u001b[0m\n",
      "\u001b[34mThere are 1 clusters with 47 cameras\u001b[0m\n",
      "\u001b[34mThere are 1 clusters with 52 cameras\u001b[0m\n",
      "\u001b[34mThere are 1 clusters with 53 cameras\u001b[0m\n",
      "\u001b[34mThere are 2 clusters with 54 cameras\u001b[0m\n",
      "\u001b[34mThere are 1 clusters with 56 cameras\u001b[0m\n",
      "\u001b[34mThere are 3 clusters with 57 cameras\u001b[0m\n",
      "\u001b[34mThere are 1 clusters with 58 cameras\u001b[0m\n",
      "\u001b[34mThere are 6 clusters with 59 cameras\u001b[0m\n",
      "\u001b[34mThere are 9 clusters with 60 cameras\u001b[0m\n",
      "\u001b[34mThere are 13 clusters with 61 cameras\u001b[0m\n",
      "\u001b[34mThere are 26 clusters with 62 cameras\u001b[0m\n",
      "\u001b[34mThere are 36 clusters with 63 cameras\u001b[0m\n",
      "\u001b[34mThere are 461 clusters with 64 cameras\u001b[0m\n",
      "\u001b[34mThere are 1 clusters with 90 cameras\u001b[0m\n",
      "\u001b[34mThere are 1 clusters with 119 cameras\u001b[0m\n",
      "\u001b[34mThere are 1 clusters with 120 cameras\u001b[0m\n",
      "\u001b[34mThere are 1 clusters with 122 cameras\u001b[0m\n",
      "\u001b[34mThere are 1 clusters with 123 cameras\u001b[0m\n",
      "\u001b[34mThere are 2 clusters with 125 cameras\u001b[0m\n",
      "\u001b[34mThere are 2 clusters with 126 cameras\u001b[0m\n",
      "\u001b[34mThere are 1 clusters with 127 cameras\u001b[0m\n",
      "\u001b[34mThere are 8 clusters with 128 cameras\u001b[0m\n",
      "Number of classes: 600\n",
      "\u001b[36mLearning Rate: 0.000035\u001b[0m\n",
      "encontrou modelos efficientnet. Carregando...\n",
      "encontrou modelos convnext. Carregando...\n",
      "encontrou modelos mobilenet. Carregando...\n",
      "encontrou modelos vgg16. Carregando...\n",
      "encontrou modelos resnet50. Carregando...\n",
      "encontrou modelos osnet. Carregando...\n",
      "encontrou modelos densenet121. Carregando...\n",
      "###============ Iteration number 3/90 ============###\n",
      "Extracting Online Features for efficientnet ...\n",
      "Features extracted in 292.68 seconds\n",
      "Computing jaccard distance...\n"
     ]
    },
    {
     "name": "stderr",
     "output_type": "stream",
     "text": [
      "bruteForceKnn is deprecated; call bfKnn instead\n"
     ]
    },
    {
     "name": "stdout",
     "output_type": "stream",
     "text": [
      "Jaccard distance computing time cost: 618.0027759075165\n",
      "Extracting Online Features for convnext ...\n",
      "Features extracted in 198.56 seconds\n",
      "Computing jaccard distance...\n"
     ]
    },
    {
     "name": "stderr",
     "output_type": "stream",
     "text": [
      "bruteForceKnn is deprecated; call bfKnn instead\n"
     ]
    },
    {
     "name": "stdout",
     "output_type": "stream",
     "text": [
      "Jaccard distance computing time cost: 575.8582680225372\n",
      "Extracting Online Features for mobilenet ...\n",
      "Features extracted in 187.96 seconds\n",
      "Computing jaccard distance...\n"
     ]
    },
    {
     "name": "stderr",
     "output_type": "stream",
     "text": [
      "bruteForceKnn is deprecated; call bfKnn instead\n"
     ]
    },
    {
     "name": "stdout",
     "output_type": "stream",
     "text": [
      "Jaccard distance computing time cost: 597.1828720569611\n",
      "Extracting Online Features for vgg16 ...\n",
      "Features extracted in 191.81 seconds\n",
      "Computing jaccard distance...\n"
     ]
    },
    {
     "name": "stderr",
     "output_type": "stream",
     "text": [
      "bruteForceKnn is deprecated; call bfKnn instead\n"
     ]
    },
    {
     "name": "stdout",
     "output_type": "stream",
     "text": [
      "Jaccard distance computing time cost: 581.7325010299683\n",
      "Extracting Online Features for resnet50 ...\n",
      "Features extracted in 196.46 seconds\n",
      "Computing jaccard distance...\n"
     ]
    },
    {
     "name": "stderr",
     "output_type": "stream",
     "text": [
      "bruteForceKnn is deprecated; call bfKnn instead\n"
     ]
    },
    {
     "name": "stdout",
     "output_type": "stream",
     "text": [
      "Jaccard distance computing time cost: 585.7083151340485\n",
      "Extracting Online Features for osnet ...\n",
      "Features extracted in 193.04 seconds\n",
      "Computing jaccard distance...\n"
     ]
    },
    {
     "name": "stderr",
     "output_type": "stream",
     "text": [
      "bruteForceKnn is deprecated; call bfKnn instead\n"
     ]
    },
    {
     "name": "stdout",
     "output_type": "stream",
     "text": [
      "Jaccard distance computing time cost: 583.5257544517517\n",
      "Extracting Online Features for densenet121 ...\n",
      "Features extracted in 194.44 seconds\n",
      "Computing jaccard distance...\n"
     ]
    },
    {
     "name": "stderr",
     "output_type": "stream",
     "text": [
      "bruteForceKnn is deprecated; call bfKnn instead\n"
     ]
    },
    {
     "name": "stdout",
     "output_type": "stream",
     "text": [
      "Jaccard distance computing time cost: 576.2588534355164\n",
      "Reliability: 0.994\n",
      "\u001b[32mMean Purity: 0.01644\u001b[0m\n",
      "\u001b[34mThere are 2 clusters with 4 cameras\u001b[0m\n",
      "\u001b[34mThere are 3 clusters with 5 cameras\u001b[0m\n",
      "\u001b[34mThere are 2 clusters with 6 cameras\u001b[0m\n",
      "\u001b[34mThere are 2 clusters with 7 cameras\u001b[0m\n",
      "\u001b[34mThere are 2 clusters with 9 cameras\u001b[0m\n",
      "\u001b[34mThere are 1 clusters with 11 cameras\u001b[0m\n",
      "\u001b[34mThere are 1 clusters with 12 cameras\u001b[0m\n",
      "\u001b[34mThere are 1 clusters with 16 cameras\u001b[0m\n",
      "\u001b[34mThere are 1 clusters with 17 cameras\u001b[0m\n",
      "\u001b[34mThere are 1 clusters with 19 cameras\u001b[0m\n",
      "\u001b[34mThere are 1 clusters with 27 cameras\u001b[0m\n",
      "\u001b[34mThere are 1 clusters with 31 cameras\u001b[0m\n",
      "\u001b[34mThere are 1 clusters with 32 cameras\u001b[0m\n",
      "\u001b[34mThere are 1 clusters with 41 cameras\u001b[0m\n",
      "\u001b[34mThere are 1 clusters with 45 cameras\u001b[0m\n",
      "\u001b[34mThere are 1 clusters with 47 cameras\u001b[0m\n",
      "\u001b[34mThere are 1 clusters with 52 cameras\u001b[0m\n",
      "\u001b[34mThere are 1 clusters with 53 cameras\u001b[0m\n",
      "\u001b[34mThere are 2 clusters with 54 cameras\u001b[0m\n",
      "\u001b[34mThere are 1 clusters with 56 cameras\u001b[0m\n",
      "\u001b[34mThere are 3 clusters with 57 cameras\u001b[0m\n",
      "\u001b[34mThere are 1 clusters with 58 cameras\u001b[0m\n",
      "\u001b[34mThere are 6 clusters with 59 cameras\u001b[0m\n",
      "\u001b[34mThere are 9 clusters with 60 cameras\u001b[0m\n",
      "\u001b[34mThere are 13 clusters with 61 cameras\u001b[0m\n",
      "\u001b[34mThere are 26 clusters with 62 cameras\u001b[0m\n",
      "\u001b[34mThere are 36 clusters with 63 cameras\u001b[0m\n",
      "\u001b[34mThere are 461 clusters with 64 cameras\u001b[0m\n",
      "\u001b[34mThere are 1 clusters with 90 cameras\u001b[0m\n",
      "\u001b[34mThere are 1 clusters with 119 cameras\u001b[0m\n",
      "\u001b[34mThere are 1 clusters with 120 cameras\u001b[0m\n",
      "\u001b[34mThere are 1 clusters with 122 cameras\u001b[0m\n",
      "\u001b[34mThere are 1 clusters with 123 cameras\u001b[0m\n",
      "\u001b[34mThere are 2 clusters with 125 cameras\u001b[0m\n",
      "\u001b[34mThere are 2 clusters with 126 cameras\u001b[0m\n",
      "\u001b[34mThere are 1 clusters with 127 cameras\u001b[0m\n",
      "\u001b[34mThere are 8 clusters with 128 cameras\u001b[0m\n",
      "Number of classes: 600\n",
      "\u001b[36mLearning Rate: 0.000053\u001b[0m\n",
      "encontrou modelos efficientnet. Carregando...\n",
      "encontrou modelos convnext. Carregando...\n",
      "encontrou modelos mobilenet. Carregando...\n",
      "encontrou modelos vgg16. Carregando...\n",
      "encontrou modelos resnet50. Carregando...\n",
      "encontrou modelos osnet. Carregando...\n",
      "encontrou modelos densenet121. Carregando...\n",
      "###============ Iteration number 4/90 ============###\n",
      "Extracting Online Features for efficientnet ...\n",
      "Features extracted in 296.22 seconds\n",
      "Computing jaccard distance...\n"
     ]
    },
    {
     "name": "stderr",
     "output_type": "stream",
     "text": [
      "bruteForceKnn is deprecated; call bfKnn instead\n"
     ]
    },
    {
     "name": "stdout",
     "output_type": "stream",
     "text": [
      "Jaccard distance computing time cost: 553.3434689044952\n",
      "Extracting Online Features for convnext ...\n",
      "Features extracted in 285.30 seconds\n",
      "Computing jaccard distance...\n"
     ]
    },
    {
     "name": "stderr",
     "output_type": "stream",
     "text": [
      "bruteForceKnn is deprecated; call bfKnn instead\n"
     ]
    },
    {
     "name": "stdout",
     "output_type": "stream",
     "text": [
      "Jaccard distance computing time cost: 590.2000946998596\n",
      "Extracting Online Features for mobilenet ...\n",
      "Features extracted in 187.62 seconds\n",
      "Computing jaccard distance...\n"
     ]
    },
    {
     "name": "stderr",
     "output_type": "stream",
     "text": [
      "bruteForceKnn is deprecated; call bfKnn instead\n"
     ]
    },
    {
     "name": "stdout",
     "output_type": "stream",
     "text": [
      "Jaccard distance computing time cost: 610.9476792812347\n",
      "Extracting Online Features for vgg16 ...\n",
      "Features extracted in 192.52 seconds\n",
      "Computing jaccard distance...\n"
     ]
    },
    {
     "name": "stderr",
     "output_type": "stream",
     "text": [
      "bruteForceKnn is deprecated; call bfKnn instead\n"
     ]
    },
    {
     "name": "stdout",
     "output_type": "stream",
     "text": [
      "Jaccard distance computing time cost: 622.5777101516724\n",
      "Extracting Online Features for resnet50 ...\n",
      "Features extracted in 194.58 seconds\n",
      "Computing jaccard distance...\n"
     ]
    },
    {
     "name": "stderr",
     "output_type": "stream",
     "text": [
      "bruteForceKnn is deprecated; call bfKnn instead\n"
     ]
    },
    {
     "name": "stdout",
     "output_type": "stream",
     "text": [
      "Jaccard distance computing time cost: 591.7745015621185\n",
      "Extracting Online Features for osnet ...\n",
      "Features extracted in 191.91 seconds\n",
      "Computing jaccard distance...\n"
     ]
    },
    {
     "name": "stderr",
     "output_type": "stream",
     "text": [
      "bruteForceKnn is deprecated; call bfKnn instead\n"
     ]
    },
    {
     "name": "stdout",
     "output_type": "stream",
     "text": [
      "Jaccard distance computing time cost: 608.4565496444702\n",
      "Extracting Online Features for densenet121 ...\n",
      "Features extracted in 195.61 seconds\n",
      "Computing jaccard distance...\n"
     ]
    },
    {
     "name": "stderr",
     "output_type": "stream",
     "text": [
      "bruteForceKnn is deprecated; call bfKnn instead\n"
     ]
    },
    {
     "name": "stdout",
     "output_type": "stream",
     "text": [
      "Jaccard distance computing time cost: 611.9166784286499\n",
      "Reliability: 0.994\n",
      "\u001b[32mMean Purity: 0.01644\u001b[0m\n",
      "\u001b[34mThere are 2 clusters with 4 cameras\u001b[0m\n",
      "\u001b[34mThere are 3 clusters with 5 cameras\u001b[0m\n",
      "\u001b[34mThere are 2 clusters with 6 cameras\u001b[0m\n",
      "\u001b[34mThere are 2 clusters with 7 cameras\u001b[0m\n",
      "\u001b[34mThere are 2 clusters with 9 cameras\u001b[0m\n",
      "\u001b[34mThere are 1 clusters with 11 cameras\u001b[0m\n",
      "\u001b[34mThere are 1 clusters with 12 cameras\u001b[0m\n",
      "\u001b[34mThere are 1 clusters with 16 cameras\u001b[0m\n",
      "\u001b[34mThere are 1 clusters with 17 cameras\u001b[0m\n",
      "\u001b[34mThere are 1 clusters with 19 cameras\u001b[0m\n",
      "\u001b[34mThere are 1 clusters with 27 cameras\u001b[0m\n",
      "\u001b[34mThere are 1 clusters with 31 cameras\u001b[0m\n",
      "\u001b[34mThere are 1 clusters with 32 cameras\u001b[0m\n",
      "\u001b[34mThere are 1 clusters with 41 cameras\u001b[0m\n",
      "\u001b[34mThere are 1 clusters with 45 cameras\u001b[0m\n",
      "\u001b[34mThere are 1 clusters with 47 cameras\u001b[0m\n",
      "\u001b[34mThere are 1 clusters with 52 cameras\u001b[0m\n",
      "\u001b[34mThere are 1 clusters with 53 cameras\u001b[0m\n",
      "\u001b[34mThere are 2 clusters with 54 cameras\u001b[0m\n",
      "\u001b[34mThere are 1 clusters with 56 cameras\u001b[0m\n",
      "\u001b[34mThere are 3 clusters with 57 cameras\u001b[0m\n",
      "\u001b[34mThere are 1 clusters with 58 cameras\u001b[0m\n",
      "\u001b[34mThere are 6 clusters with 59 cameras\u001b[0m\n",
      "\u001b[34mThere are 9 clusters with 60 cameras\u001b[0m\n",
      "\u001b[34mThere are 13 clusters with 61 cameras\u001b[0m\n",
      "\u001b[34mThere are 26 clusters with 62 cameras\u001b[0m\n",
      "\u001b[34mThere are 36 clusters with 63 cameras\u001b[0m\n",
      "\u001b[34mThere are 461 clusters with 64 cameras\u001b[0m\n",
      "\u001b[34mThere are 1 clusters with 90 cameras\u001b[0m\n",
      "\u001b[34mThere are 1 clusters with 119 cameras\u001b[0m\n",
      "\u001b[34mThere are 1 clusters with 120 cameras\u001b[0m\n",
      "\u001b[34mThere are 1 clusters with 122 cameras\u001b[0m\n",
      "\u001b[34mThere are 1 clusters with 123 cameras\u001b[0m\n",
      "\u001b[34mThere are 2 clusters with 125 cameras\u001b[0m\n",
      "\u001b[34mThere are 2 clusters with 126 cameras\u001b[0m\n",
      "\u001b[34mThere are 1 clusters with 127 cameras\u001b[0m\n",
      "\u001b[34mThere are 8 clusters with 128 cameras\u001b[0m\n",
      "Number of classes: 600\n",
      "\u001b[36mLearning Rate: 0.000070\u001b[0m\n",
      "encontrou modelos efficientnet. Carregando...\n",
      "encontrou modelos convnext. Carregando...\n",
      "encontrou modelos mobilenet. Carregando...\n",
      "encontrou modelos vgg16. Carregando...\n",
      "encontrou modelos resnet50. Carregando...\n",
      "encontrou modelos osnet. Carregando...\n",
      "encontrou modelos densenet121. Carregando...\n",
      "###============ Iteration number 5/90 ============###\n",
      "Extracting Online Features for efficientnet ...\n",
      "Features extracted in 203.08 seconds\n",
      "Computing jaccard distance...\n"
     ]
    },
    {
     "name": "stderr",
     "output_type": "stream",
     "text": [
      "bruteForceKnn is deprecated; call bfKnn instead\n"
     ]
    },
    {
     "name": "stdout",
     "output_type": "stream",
     "text": [
      "Jaccard distance computing time cost: 550.7565231323242\n",
      "Extracting Online Features for convnext ...\n",
      "Features extracted in 198.89 seconds\n",
      "Computing jaccard distance...\n"
     ]
    },
    {
     "name": "stderr",
     "output_type": "stream",
     "text": [
      "bruteForceKnn is deprecated; call bfKnn instead\n"
     ]
    },
    {
     "name": "stdout",
     "output_type": "stream",
     "text": [
      "Jaccard distance computing time cost: 586.2642471790314\n",
      "Extracting Online Features for mobilenet ...\n",
      "Features extracted in 203.61 seconds\n",
      "Computing jaccard distance...\n"
     ]
    },
    {
     "name": "stderr",
     "output_type": "stream",
     "text": [
      "bruteForceKnn is deprecated; call bfKnn instead\n"
     ]
    },
    {
     "name": "stdout",
     "output_type": "stream",
     "text": [
      "Jaccard distance computing time cost: 575.9174609184265\n",
      "Extracting Online Features for vgg16 ...\n",
      "Features extracted in 196.65 seconds\n",
      "Computing jaccard distance...\n"
     ]
    },
    {
     "name": "stderr",
     "output_type": "stream",
     "text": [
      "bruteForceKnn is deprecated; call bfKnn instead\n"
     ]
    },
    {
     "name": "stdout",
     "output_type": "stream",
     "text": [
      "Jaccard distance computing time cost: 581.9481632709503\n",
      "Extracting Online Features for resnet50 ...\n",
      "Features extracted in 193.30 seconds\n",
      "Computing jaccard distance...\n"
     ]
    },
    {
     "name": "stderr",
     "output_type": "stream",
     "text": [
      "bruteForceKnn is deprecated; call bfKnn instead\n"
     ]
    },
    {
     "name": "stdout",
     "output_type": "stream",
     "text": [
      "Jaccard distance computing time cost: 613.0247707366943\n",
      "Extracting Online Features for osnet ...\n",
      "Features extracted in 188.99 seconds\n",
      "Computing jaccard distance...\n"
     ]
    },
    {
     "name": "stderr",
     "output_type": "stream",
     "text": [
      "bruteForceKnn is deprecated; call bfKnn instead\n"
     ]
    },
    {
     "name": "stdout",
     "output_type": "stream",
     "text": [
      "Jaccard distance computing time cost: 641.7934484481812\n",
      "Extracting Online Features for densenet121 ...\n",
      "Features extracted in 191.34 seconds\n",
      "Computing jaccard distance...\n"
     ]
    },
    {
     "name": "stderr",
     "output_type": "stream",
     "text": [
      "bruteForceKnn is deprecated; call bfKnn instead\n"
     ]
    },
    {
     "name": "stdout",
     "output_type": "stream",
     "text": [
      "Jaccard distance computing time cost: 591.1392652988434\n",
      "Reliability: 0.994\n",
      "\u001b[32mMean Purity: 0.01644\u001b[0m\n",
      "\u001b[34mThere are 2 clusters with 4 cameras\u001b[0m\n",
      "\u001b[34mThere are 3 clusters with 5 cameras\u001b[0m\n",
      "\u001b[34mThere are 2 clusters with 6 cameras\u001b[0m\n",
      "\u001b[34mThere are 2 clusters with 7 cameras\u001b[0m\n",
      "\u001b[34mThere are 2 clusters with 9 cameras\u001b[0m\n",
      "\u001b[34mThere are 1 clusters with 11 cameras\u001b[0m\n",
      "\u001b[34mThere are 1 clusters with 12 cameras\u001b[0m\n",
      "\u001b[34mThere are 1 clusters with 16 cameras\u001b[0m\n",
      "\u001b[34mThere are 1 clusters with 17 cameras\u001b[0m\n",
      "\u001b[34mThere are 1 clusters with 19 cameras\u001b[0m\n",
      "\u001b[34mThere are 1 clusters with 27 cameras\u001b[0m\n",
      "\u001b[34mThere are 1 clusters with 31 cameras\u001b[0m\n",
      "\u001b[34mThere are 1 clusters with 32 cameras\u001b[0m\n",
      "\u001b[34mThere are 1 clusters with 41 cameras\u001b[0m\n",
      "\u001b[34mThere are 1 clusters with 45 cameras\u001b[0m\n",
      "\u001b[34mThere are 1 clusters with 47 cameras\u001b[0m\n",
      "\u001b[34mThere are 1 clusters with 52 cameras\u001b[0m\n",
      "\u001b[34mThere are 1 clusters with 53 cameras\u001b[0m\n",
      "\u001b[34mThere are 2 clusters with 54 cameras\u001b[0m\n",
      "\u001b[34mThere are 1 clusters with 56 cameras\u001b[0m\n",
      "\u001b[34mThere are 3 clusters with 57 cameras\u001b[0m\n",
      "\u001b[34mThere are 1 clusters with 58 cameras\u001b[0m\n",
      "\u001b[34mThere are 6 clusters with 59 cameras\u001b[0m\n",
      "\u001b[34mThere are 9 clusters with 60 cameras\u001b[0m\n",
      "\u001b[34mThere are 13 clusters with 61 cameras\u001b[0m\n",
      "\u001b[34mThere are 26 clusters with 62 cameras\u001b[0m\n",
      "\u001b[34mThere are 36 clusters with 63 cameras\u001b[0m\n",
      "\u001b[34mThere are 461 clusters with 64 cameras\u001b[0m\n",
      "\u001b[34mThere are 1 clusters with 90 cameras\u001b[0m\n",
      "\u001b[34mThere are 1 clusters with 119 cameras\u001b[0m\n",
      "\u001b[34mThere are 1 clusters with 120 cameras\u001b[0m\n",
      "\u001b[34mThere are 1 clusters with 122 cameras\u001b[0m\n",
      "\u001b[34mThere are 1 clusters with 123 cameras\u001b[0m\n",
      "\u001b[34mThere are 2 clusters with 125 cameras\u001b[0m\n",
      "\u001b[34mThere are 2 clusters with 126 cameras\u001b[0m\n",
      "\u001b[34mThere are 1 clusters with 127 cameras\u001b[0m\n",
      "\u001b[34mThere are 8 clusters with 128 cameras\u001b[0m\n",
      "Number of classes: 600\n",
      "\u001b[36mLearning Rate: 0.000088\u001b[0m\n",
      "encontrou modelos efficientnet. Carregando...\n",
      "encontrou modelos convnext. Carregando...\n",
      "encontrou modelos mobilenet. Carregando...\n",
      "encontrou modelos vgg16. Carregando...\n",
      "encontrou modelos resnet50. Carregando...\n",
      "encontrou modelos osnet. Carregando...\n",
      "encontrou modelos densenet121. Carregando...\n",
      "\u001b[33mValidating online efficientnet ...\u001b[0m\n",
      "Features extracted in 66.21 seconds\n",
      "Features extracted in 131.26 seconds\n",
      "Computing CMC and mAP ...\n",
      "** Results **\n",
      "mAP: 69.91%\n",
      "CMC curve\n",
      "Rank-1  : 73.59%\n",
      "Rank-5  : 94.54%\n",
      "Rank-10 : 97.70%\n",
      "Rank-20 : 99.20%\n",
      "\u001b[33mValidating momentum efficientnet ...\u001b[0m\n",
      "Features extracted in 60.91 seconds\n",
      "Features extracted in 125.89 seconds\n",
      "Computing CMC and mAP ...\n",
      "** Results **\n",
      "mAP: 70.66%\n",
      "CMC curve\n",
      "Rank-1  : 76.80%\n",
      "Rank-5  : 93.39%\n",
      "Rank-10 : 96.79%\n",
      "Rank-20 : 98.68%\n",
      "\u001b[33mValidating online convnext ...\u001b[0m\n",
      "Features extracted in 63.47 seconds\n",
      "Features extracted in 131.91 seconds\n",
      "Computing CMC and mAP ...\n",
      "** Results **\n",
      "mAP: 70.08%\n",
      "CMC curve\n",
      "Rank-1  : 75.63%\n",
      "Rank-5  : 92.61%\n",
      "Rank-10 : 96.93%\n",
      "Rank-20 : 99.29%\n",
      "\u001b[33mValidating momentum convnext ...\u001b[0m\n",
      "Features extracted in 62.24 seconds\n",
      "Features extracted in 131.64 seconds\n",
      "Computing CMC and mAP ...\n",
      "** Results **\n",
      "mAP: 70.46%\n",
      "CMC curve\n",
      "Rank-1  : 77.49%\n",
      "Rank-5  : 93.71%\n",
      "Rank-10 : 96.84%\n",
      "Rank-20 : 98.71%\n",
      "\u001b[33mValidating online mobilenet ...\u001b[0m\n",
      "Features extracted in 59.13 seconds\n",
      "Features extracted in 121.51 seconds\n",
      "Computing CMC and mAP ...\n",
      "** Results **\n",
      "mAP: 71.39%\n",
      "CMC curve\n",
      "Rank-1  : 81.53%\n",
      "Rank-5  : 95.41%\n",
      "Rank-10 : 98.02%\n",
      "Rank-20 : 99.18%\n",
      "\u001b[33mValidating momentum mobilenet ...\u001b[0m\n",
      "Features extracted in 59.78 seconds\n",
      "Features extracted in 120.37 seconds\n",
      "Computing CMC and mAP ...\n",
      "** Results **\n",
      "mAP: 70.86%\n",
      "CMC curve\n",
      "Rank-1  : 78.95%\n",
      "Rank-5  : 93.89%\n",
      "Rank-10 : 97.47%\n",
      "Rank-20 : 99.27%\n",
      "\u001b[33mValidating online vgg16 ...\u001b[0m\n",
      "Features extracted in 63.86 seconds\n",
      "Features extracted in 125.47 seconds\n",
      "Computing CMC and mAP ...\n",
      "** Results **\n",
      "mAP: 69.67%\n",
      "CMC curve\n",
      "Rank-1  : 74.49%\n",
      "Rank-5  : 92.27%\n",
      "Rank-10 : 96.56%\n",
      "Rank-20 : 99.05%\n",
      "\u001b[33mValidating momentum vgg16 ...\u001b[0m\n",
      "Features extracted in 61.20 seconds\n",
      "Features extracted in 127.26 seconds\n",
      "Computing CMC and mAP ...\n",
      "** Results **\n",
      "mAP: 69.72%\n",
      "CMC curve\n",
      "Rank-1  : 75.80%\n",
      "Rank-5  : 92.91%\n",
      "Rank-10 : 97.25%\n",
      "Rank-20 : 99.09%\n",
      "\u001b[33mValidating online resnet50 ...\u001b[0m\n",
      "Features extracted in 60.51 seconds\n",
      "Features extracted in 127.30 seconds\n",
      "Computing CMC and mAP ...\n",
      "** Results **\n",
      "mAP: 69.64%\n",
      "CMC curve\n",
      "Rank-1  : 70.07%\n",
      "Rank-5  : 91.28%\n",
      "Rank-10 : 96.04%\n",
      "Rank-20 : 98.68%\n",
      "\u001b[33mValidating momentum resnet50 ...\u001b[0m\n",
      "Features extracted in 61.36 seconds\n",
      "Features extracted in 126.93 seconds\n",
      "Computing CMC and mAP ...\n",
      "** Results **\n",
      "mAP: 70.02%\n",
      "CMC curve\n",
      "Rank-1  : 73.39%\n",
      "Rank-5  : 93.49%\n",
      "Rank-10 : 97.50%\n",
      "Rank-20 : 99.37%\n",
      "\u001b[33mValidating online osnet ...\u001b[0m\n",
      "Features extracted in 60.52 seconds\n",
      "Features extracted in 125.10 seconds\n",
      "Computing CMC and mAP ...\n",
      "** Results **\n",
      "mAP: 68.61%\n",
      "CMC curve\n",
      "Rank-1  : 73.02%\n",
      "Rank-5  : 95.04%\n",
      "Rank-10 : 98.36%\n",
      "Rank-20 : 99.48%\n",
      "\u001b[33mValidating momentum osnet ...\u001b[0m\n",
      "Features extracted in 60.77 seconds\n",
      "Features extracted in 128.09 seconds\n",
      "Computing CMC and mAP ...\n",
      "** Results **\n",
      "mAP: 69.41%\n",
      "CMC curve\n",
      "Rank-1  : 73.33%\n",
      "Rank-5  : 93.05%\n",
      "Rank-10 : 97.14%\n",
      "Rank-20 : 99.12%\n",
      "\u001b[33mValidating online densenet121 ...\u001b[0m\n",
      "Features extracted in 63.26 seconds\n",
      "Features extracted in 126.10 seconds\n",
      "Computing CMC and mAP ...\n",
      "** Results **\n",
      "mAP: 70.12%\n",
      "CMC curve\n",
      "Rank-1  : 75.15%\n",
      "Rank-5  : 92.89%\n",
      "Rank-10 : 97.00%\n",
      "Rank-20 : 98.95%\n",
      "\u001b[33mValidating momentum densenet121 ...\u001b[0m\n",
      "Features extracted in 61.81 seconds\n",
      "Features extracted in 125.90 seconds\n",
      "Computing CMC and mAP ...\n",
      "** Results **\n",
      "mAP: 69.53%\n",
      "CMC curve\n",
      "Rank-1  : 75.91%\n",
      "Rank-5  : 93.33%\n",
      "Rank-10 : 97.31%\n",
      "Rank-20 : 99.25%\n",
      "\u001b[33mValidating ensembled with online models ...\u001b[0m\n",
      "Computing CMC and mAP ...\n",
      "** Results **\n",
      "mAP: 71.17%\n",
      "Ranks:\n",
      "Rank-1  : 78.73%\n",
      "Rank-5  : 92.94%\n",
      "Rank-10 : 96.83%\n",
      "\u001b[33mValidating ensembled with momentum models ...\u001b[0m\n",
      "Computing CMC and mAP ...\n",
      "** Results **\n",
      "mAP: 71.11%\n",
      "Ranks:\n",
      "Rank-1  : 79.83%\n",
      "Rank-5  : 92.92%\n",
      "Rank-10 : 96.74%\n",
      "###============ Iteration number 6/90 ============###\n",
      "Extracting Online Features for efficientnet ...\n",
      "Features extracted in 206.01 seconds\n",
      "Computing jaccard distance...\n"
     ]
    },
    {
     "name": "stderr",
     "output_type": "stream",
     "text": [
      "bruteForceKnn is deprecated; call bfKnn instead\n"
     ]
    },
    {
     "name": "stdout",
     "output_type": "stream",
     "text": [
      "Jaccard distance computing time cost: 575.4391088485718\n",
      "Extracting Online Features for convnext ...\n",
      "Features extracted in 221.73 seconds\n",
      "Computing jaccard distance...\n"
     ]
    },
    {
     "name": "stderr",
     "output_type": "stream",
     "text": [
      "bruteForceKnn is deprecated; call bfKnn instead\n"
     ]
    },
    {
     "name": "stdout",
     "output_type": "stream",
     "text": [
      "Jaccard distance computing time cost: 579.7981069087982\n",
      "Extracting Online Features for mobilenet ...\n",
      "Features extracted in 216.21 seconds\n",
      "Computing jaccard distance...\n"
     ]
    },
    {
     "name": "stderr",
     "output_type": "stream",
     "text": [
      "bruteForceKnn is deprecated; call bfKnn instead\n"
     ]
    },
    {
     "name": "stdout",
     "output_type": "stream",
     "text": [
      "Jaccard distance computing time cost: 572.145899772644\n",
      "Extracting Online Features for vgg16 ...\n",
      "Features extracted in 262.92 seconds\n",
      "Computing jaccard distance...\n"
     ]
    },
    {
     "name": "stderr",
     "output_type": "stream",
     "text": [
      "bruteForceKnn is deprecated; call bfKnn instead\n"
     ]
    },
    {
     "name": "stdout",
     "output_type": "stream",
     "text": [
      "Jaccard distance computing time cost: 575.7685167789459\n",
      "Extracting Online Features for resnet50 ...\n",
      "Features extracted in 217.88 seconds\n",
      "Computing jaccard distance...\n"
     ]
    },
    {
     "name": "stderr",
     "output_type": "stream",
     "text": [
      "bruteForceKnn is deprecated; call bfKnn instead\n"
     ]
    },
    {
     "name": "stdout",
     "output_type": "stream",
     "text": [
      "Jaccard distance computing time cost: 568.7646238803864\n",
      "Extracting Online Features for osnet ...\n",
      "Features extracted in 205.63 seconds\n",
      "Computing jaccard distance...\n"
     ]
    },
    {
     "name": "stderr",
     "output_type": "stream",
     "text": [
      "bruteForceKnn is deprecated; call bfKnn instead\n"
     ]
    },
    {
     "name": "stdout",
     "output_type": "stream",
     "text": [
      "Jaccard distance computing time cost: 557.8525471687317\n",
      "Extracting Online Features for densenet121 ...\n",
      "Features extracted in 222.79 seconds\n",
      "Computing jaccard distance...\n"
     ]
    },
    {
     "name": "stderr",
     "output_type": "stream",
     "text": [
      "bruteForceKnn is deprecated; call bfKnn instead\n"
     ]
    },
    {
     "name": "stdout",
     "output_type": "stream",
     "text": [
      "Jaccard distance computing time cost: 583.1768710613251\n",
      "Reliability: 0.994\n",
      "\u001b[32mMean Purity: 0.01644\u001b[0m\n",
      "\u001b[34mThere are 2 clusters with 4 cameras\u001b[0m\n",
      "\u001b[34mThere are 3 clusters with 5 cameras\u001b[0m\n",
      "\u001b[34mThere are 2 clusters with 6 cameras\u001b[0m\n",
      "\u001b[34mThere are 2 clusters with 7 cameras\u001b[0m\n",
      "\u001b[34mThere are 2 clusters with 9 cameras\u001b[0m\n",
      "\u001b[34mThere are 1 clusters with 11 cameras\u001b[0m\n",
      "\u001b[34mThere are 1 clusters with 12 cameras\u001b[0m\n",
      "\u001b[34mThere are 1 clusters with 16 cameras\u001b[0m\n",
      "\u001b[34mThere are 1 clusters with 17 cameras\u001b[0m\n",
      "\u001b[34mThere are 1 clusters with 19 cameras\u001b[0m\n",
      "\u001b[34mThere are 1 clusters with 27 cameras\u001b[0m\n",
      "\u001b[34mThere are 1 clusters with 31 cameras\u001b[0m\n",
      "\u001b[34mThere are 1 clusters with 32 cameras\u001b[0m\n",
      "\u001b[34mThere are 1 clusters with 41 cameras\u001b[0m\n",
      "\u001b[34mThere are 1 clusters with 45 cameras\u001b[0m\n",
      "\u001b[34mThere are 1 clusters with 47 cameras\u001b[0m\n",
      "\u001b[34mThere are 1 clusters with 52 cameras\u001b[0m\n",
      "\u001b[34mThere are 1 clusters with 53 cameras\u001b[0m\n",
      "\u001b[34mThere are 2 clusters with 54 cameras\u001b[0m\n",
      "\u001b[34mThere are 1 clusters with 56 cameras\u001b[0m\n",
      "\u001b[34mThere are 3 clusters with 57 cameras\u001b[0m\n",
      "\u001b[34mThere are 1 clusters with 58 cameras\u001b[0m\n",
      "\u001b[34mThere are 6 clusters with 59 cameras\u001b[0m\n",
      "\u001b[34mThere are 9 clusters with 60 cameras\u001b[0m\n",
      "\u001b[34mThere are 13 clusters with 61 cameras\u001b[0m\n",
      "\u001b[34mThere are 26 clusters with 62 cameras\u001b[0m\n",
      "\u001b[34mThere are 36 clusters with 63 cameras\u001b[0m\n",
      "\u001b[34mThere are 461 clusters with 64 cameras\u001b[0m\n",
      "\u001b[34mThere are 1 clusters with 90 cameras\u001b[0m\n",
      "\u001b[34mThere are 1 clusters with 119 cameras\u001b[0m\n",
      "\u001b[34mThere are 1 clusters with 120 cameras\u001b[0m\n",
      "\u001b[34mThere are 1 clusters with 122 cameras\u001b[0m\n",
      "\u001b[34mThere are 1 clusters with 123 cameras\u001b[0m\n",
      "\u001b[34mThere are 2 clusters with 125 cameras\u001b[0m\n",
      "\u001b[34mThere are 2 clusters with 126 cameras\u001b[0m\n",
      "\u001b[34mThere are 1 clusters with 127 cameras\u001b[0m\n",
      "\u001b[34mThere are 8 clusters with 128 cameras\u001b[0m\n",
      "Number of classes: 600\n",
      "\u001b[36mLearning Rate: 0.000105\u001b[0m\n",
      "encontrou modelos efficientnet. Carregando...\n",
      "encontrou modelos convnext. Carregando...\n",
      "encontrou modelos mobilenet. Carregando...\n",
      "encontrou modelos vgg16. Carregando...\n",
      "encontrou modelos resnet50. Carregando...\n",
      "encontrou modelos osnet. Carregando...\n",
      "encontrou modelos densenet121. Carregando...\n",
      "###============ Iteration number 7/90 ============###\n",
      "Extracting Online Features for efficientnet ...\n",
      "Features extracted in 199.31 seconds\n",
      "Computing jaccard distance...\n"
     ]
    },
    {
     "name": "stderr",
     "output_type": "stream",
     "text": [
      "bruteForceKnn is deprecated; call bfKnn instead\n"
     ]
    },
    {
     "name": "stdout",
     "output_type": "stream",
     "text": [
      "Jaccard distance computing time cost: 576.8694987297058\n",
      "Extracting Online Features for convnext ...\n",
      "Features extracted in 278.62 seconds\n",
      "Computing jaccard distance...\n"
     ]
    },
    {
     "name": "stderr",
     "output_type": "stream",
     "text": [
      "bruteForceKnn is deprecated; call bfKnn instead\n"
     ]
    },
    {
     "name": "stdout",
     "output_type": "stream",
     "text": [
      "Jaccard distance computing time cost: 575.3399455547333\n",
      "Extracting Online Features for mobilenet ...\n",
      "Features extracted in 217.59 seconds\n",
      "Computing jaccard distance...\n"
     ]
    },
    {
     "name": "stderr",
     "output_type": "stream",
     "text": [
      "bruteForceKnn is deprecated; call bfKnn instead\n"
     ]
    },
    {
     "name": "stdout",
     "output_type": "stream",
     "text": [
      "Jaccard distance computing time cost: 531.5400335788727\n",
      "Extracting Online Features for vgg16 ...\n",
      "Features extracted in 214.27 seconds\n",
      "Computing jaccard distance...\n"
     ]
    },
    {
     "name": "stderr",
     "output_type": "stream",
     "text": [
      "bruteForceKnn is deprecated; call bfKnn instead\n"
     ]
    },
    {
     "name": "stdout",
     "output_type": "stream",
     "text": [
      "Jaccard distance computing time cost: 630.8188080787659\n",
      "Extracting Online Features for resnet50 ...\n",
      "Features extracted in 293.58 seconds\n",
      "Computing jaccard distance...\n"
     ]
    },
    {
     "name": "stderr",
     "output_type": "stream",
     "text": [
      "bruteForceKnn is deprecated; call bfKnn instead\n"
     ]
    },
    {
     "name": "stdout",
     "output_type": "stream",
     "text": [
      "Jaccard distance computing time cost: 656.9861960411072\n",
      "Extracting Online Features for osnet ...\n",
      "Features extracted in 291.95 seconds\n",
      "Computing jaccard distance...\n"
     ]
    },
    {
     "name": "stderr",
     "output_type": "stream",
     "text": [
      "bruteForceKnn is deprecated; call bfKnn instead\n"
     ]
    },
    {
     "name": "stdout",
     "output_type": "stream",
     "text": [
      "Jaccard distance computing time cost: 578.5529520511627\n",
      "Extracting Online Features for densenet121 ...\n",
      "Features extracted in 213.18 seconds\n",
      "Computing jaccard distance...\n"
     ]
    },
    {
     "name": "stderr",
     "output_type": "stream",
     "text": [
      "bruteForceKnn is deprecated; call bfKnn instead\n"
     ]
    },
    {
     "name": "stdout",
     "output_type": "stream",
     "text": [
      "Jaccard distance computing time cost: 637.5357303619385\n",
      "Reliability: 0.994\n",
      "\u001b[32mMean Purity: 0.01644\u001b[0m\n",
      "\u001b[34mThere are 2 clusters with 4 cameras\u001b[0m\n",
      "\u001b[34mThere are 3 clusters with 5 cameras\u001b[0m\n",
      "\u001b[34mThere are 2 clusters with 6 cameras\u001b[0m\n",
      "\u001b[34mThere are 2 clusters with 7 cameras\u001b[0m\n",
      "\u001b[34mThere are 2 clusters with 9 cameras\u001b[0m\n",
      "\u001b[34mThere are 1 clusters with 11 cameras\u001b[0m\n",
      "\u001b[34mThere are 1 clusters with 12 cameras\u001b[0m\n",
      "\u001b[34mThere are 1 clusters with 16 cameras\u001b[0m\n",
      "\u001b[34mThere are 1 clusters with 17 cameras\u001b[0m\n",
      "\u001b[34mThere are 1 clusters with 19 cameras\u001b[0m\n",
      "\u001b[34mThere are 1 clusters with 27 cameras\u001b[0m\n",
      "\u001b[34mThere are 1 clusters with 31 cameras\u001b[0m\n",
      "\u001b[34mThere are 1 clusters with 32 cameras\u001b[0m\n",
      "\u001b[34mThere are 1 clusters with 41 cameras\u001b[0m\n",
      "\u001b[34mThere are 1 clusters with 45 cameras\u001b[0m\n",
      "\u001b[34mThere are 1 clusters with 47 cameras\u001b[0m\n",
      "\u001b[34mThere are 1 clusters with 52 cameras\u001b[0m\n",
      "\u001b[34mThere are 1 clusters with 53 cameras\u001b[0m\n",
      "\u001b[34mThere are 2 clusters with 54 cameras\u001b[0m\n",
      "\u001b[34mThere are 1 clusters with 56 cameras\u001b[0m\n",
      "\u001b[34mThere are 3 clusters with 57 cameras\u001b[0m\n",
      "\u001b[34mThere are 1 clusters with 58 cameras\u001b[0m\n",
      "\u001b[34mThere are 6 clusters with 59 cameras\u001b[0m\n",
      "\u001b[34mThere are 9 clusters with 60 cameras\u001b[0m\n",
      "\u001b[34mThere are 13 clusters with 61 cameras\u001b[0m\n",
      "\u001b[34mThere are 26 clusters with 62 cameras\u001b[0m\n",
      "\u001b[34mThere are 36 clusters with 63 cameras\u001b[0m\n",
      "\u001b[34mThere are 461 clusters with 64 cameras\u001b[0m\n",
      "\u001b[34mThere are 1 clusters with 90 cameras\u001b[0m\n",
      "\u001b[34mThere are 1 clusters with 119 cameras\u001b[0m\n",
      "\u001b[34mThere are 1 clusters with 120 cameras\u001b[0m\n",
      "\u001b[34mThere are 1 clusters with 122 cameras\u001b[0m\n",
      "\u001b[34mThere are 1 clusters with 123 cameras\u001b[0m\n",
      "\u001b[34mThere are 2 clusters with 125 cameras\u001b[0m\n",
      "\u001b[34mThere are 2 clusters with 126 cameras\u001b[0m\n",
      "\u001b[34mThere are 1 clusters with 127 cameras\u001b[0m\n",
      "\u001b[34mThere are 8 clusters with 128 cameras\u001b[0m\n",
      "Number of classes: 600\n",
      "\u001b[36mLearning Rate: 0.000122\u001b[0m\n",
      "encontrou modelos efficientnet. Carregando...\n",
      "encontrou modelos convnext. Carregando...\n",
      "encontrou modelos mobilenet. Carregando...\n",
      "encontrou modelos vgg16. Carregando...\n",
      "encontrou modelos resnet50. Carregando...\n",
      "encontrou modelos osnet. Carregando...\n",
      "encontrou modelos densenet121. Carregando...\n",
      "###============ Iteration number 8/90 ============###\n",
      "Extracting Online Features for efficientnet ...\n",
      "Features extracted in 305.23 seconds\n",
      "Computing jaccard distance...\n"
     ]
    },
    {
     "name": "stderr",
     "output_type": "stream",
     "text": [
      "bruteForceKnn is deprecated; call bfKnn instead\n"
     ]
    },
    {
     "name": "stdout",
     "output_type": "stream",
     "text": [
      "Jaccard distance computing time cost: 629.2965631484985\n",
      "Extracting Online Features for convnext ...\n",
      "Features extracted in 296.22 seconds\n",
      "Computing jaccard distance...\n"
     ]
    },
    {
     "name": "stderr",
     "output_type": "stream",
     "text": [
      "bruteForceKnn is deprecated; call bfKnn instead\n"
     ]
    },
    {
     "name": "stdout",
     "output_type": "stream",
     "text": [
      "Jaccard distance computing time cost: 582.3186068534851\n",
      "Extracting Online Features for mobilenet ...\n",
      "Features extracted in 204.59 seconds\n",
      "Computing jaccard distance...\n"
     ]
    },
    {
     "name": "stderr",
     "output_type": "stream",
     "text": [
      "bruteForceKnn is deprecated; call bfKnn instead\n"
     ]
    },
    {
     "name": "stdout",
     "output_type": "stream",
     "text": [
      "Jaccard distance computing time cost: 595.7460792064667\n",
      "Extracting Online Features for vgg16 ...\n",
      "Features extracted in 211.71 seconds\n",
      "Computing jaccard distance...\n"
     ]
    },
    {
     "name": "stderr",
     "output_type": "stream",
     "text": [
      "bruteForceKnn is deprecated; call bfKnn instead\n"
     ]
    },
    {
     "name": "stdout",
     "output_type": "stream",
     "text": [
      "Jaccard distance computing time cost: 681.821361541748\n",
      "Extracting Online Features for resnet50 ...\n",
      "Features extracted in 245.56 seconds\n",
      "Computing jaccard distance...\n"
     ]
    },
    {
     "name": "stderr",
     "output_type": "stream",
     "text": [
      "bruteForceKnn is deprecated; call bfKnn instead\n"
     ]
    },
    {
     "name": "stdout",
     "output_type": "stream",
     "text": [
      "Jaccard distance computing time cost: 626.6968705654144\n",
      "Extracting Online Features for osnet ...\n",
      "Features extracted in 203.68 seconds\n",
      "Computing jaccard distance...\n"
     ]
    },
    {
     "name": "stderr",
     "output_type": "stream",
     "text": [
      "bruteForceKnn is deprecated; call bfKnn instead\n"
     ]
    },
    {
     "name": "stdout",
     "output_type": "stream",
     "text": [
      "Jaccard distance computing time cost: 618.3513679504395\n",
      "Extracting Online Features for densenet121 ...\n",
      "Features extracted in 213.17 seconds\n",
      "Computing jaccard distance...\n"
     ]
    },
    {
     "name": "stderr",
     "output_type": "stream",
     "text": [
      "bruteForceKnn is deprecated; call bfKnn instead\n"
     ]
    },
    {
     "name": "stdout",
     "output_type": "stream",
     "text": [
      "Jaccard distance computing time cost: 663.7922315597534\n",
      "Reliability: 0.994\n",
      "\u001b[32mMean Purity: 0.01644\u001b[0m\n",
      "\u001b[34mThere are 2 clusters with 4 cameras\u001b[0m\n",
      "\u001b[34mThere are 3 clusters with 5 cameras\u001b[0m\n",
      "\u001b[34mThere are 2 clusters with 6 cameras\u001b[0m\n",
      "\u001b[34mThere are 2 clusters with 7 cameras\u001b[0m\n",
      "\u001b[34mThere are 2 clusters with 9 cameras\u001b[0m\n",
      "\u001b[34mThere are 1 clusters with 11 cameras\u001b[0m\n",
      "\u001b[34mThere are 1 clusters with 12 cameras\u001b[0m\n",
      "\u001b[34mThere are 1 clusters with 16 cameras\u001b[0m\n",
      "\u001b[34mThere are 1 clusters with 17 cameras\u001b[0m\n",
      "\u001b[34mThere are 1 clusters with 19 cameras\u001b[0m\n",
      "\u001b[34mThere are 1 clusters with 27 cameras\u001b[0m\n",
      "\u001b[34mThere are 1 clusters with 31 cameras\u001b[0m\n",
      "\u001b[34mThere are 1 clusters with 32 cameras\u001b[0m\n",
      "\u001b[34mThere are 1 clusters with 41 cameras\u001b[0m\n",
      "\u001b[34mThere are 1 clusters with 45 cameras\u001b[0m\n",
      "\u001b[34mThere are 1 clusters with 47 cameras\u001b[0m\n",
      "\u001b[34mThere are 1 clusters with 52 cameras\u001b[0m\n",
      "\u001b[34mThere are 1 clusters with 53 cameras\u001b[0m\n",
      "\u001b[34mThere are 2 clusters with 54 cameras\u001b[0m\n",
      "\u001b[34mThere are 1 clusters with 56 cameras\u001b[0m\n",
      "\u001b[34mThere are 3 clusters with 57 cameras\u001b[0m\n",
      "\u001b[34mThere are 1 clusters with 58 cameras\u001b[0m\n",
      "\u001b[34mThere are 6 clusters with 59 cameras\u001b[0m\n",
      "\u001b[34mThere are 9 clusters with 60 cameras\u001b[0m\n",
      "\u001b[34mThere are 13 clusters with 61 cameras\u001b[0m\n",
      "\u001b[34mThere are 26 clusters with 62 cameras\u001b[0m\n",
      "\u001b[34mThere are 36 clusters with 63 cameras\u001b[0m\n",
      "\u001b[34mThere are 461 clusters with 64 cameras\u001b[0m\n",
      "\u001b[34mThere are 1 clusters with 90 cameras\u001b[0m\n",
      "\u001b[34mThere are 1 clusters with 119 cameras\u001b[0m\n",
      "\u001b[34mThere are 1 clusters with 120 cameras\u001b[0m\n",
      "\u001b[34mThere are 1 clusters with 122 cameras\u001b[0m\n",
      "\u001b[34mThere are 1 clusters with 123 cameras\u001b[0m\n",
      "\u001b[34mThere are 2 clusters with 125 cameras\u001b[0m\n",
      "\u001b[34mThere are 2 clusters with 126 cameras\u001b[0m\n",
      "\u001b[34mThere are 1 clusters with 127 cameras\u001b[0m\n",
      "\u001b[34mThere are 8 clusters with 128 cameras\u001b[0m\n",
      "Number of classes: 600\n",
      "\u001b[36mLearning Rate: 0.000140\u001b[0m\n",
      "encontrou modelos efficientnet. Carregando...\n",
      "encontrou modelos convnext. Carregando...\n",
      "encontrou modelos mobilenet. Carregando...\n",
      "encontrou modelos vgg16. Carregando...\n",
      "encontrou modelos resnet50. Carregando...\n",
      "encontrou modelos osnet. Carregando...\n",
      "encontrou modelos densenet121. Carregando...\n",
      "###============ Iteration number 9/90 ============###\n",
      "Extracting Online Features for efficientnet ...\n",
      "Features extracted in 245.64 seconds\n",
      "Computing jaccard distance...\n"
     ]
    },
    {
     "name": "stderr",
     "output_type": "stream",
     "text": [
      "bruteForceKnn is deprecated; call bfKnn instead\n"
     ]
    },
    {
     "name": "stdout",
     "output_type": "stream",
     "text": [
      "Jaccard distance computing time cost: 624.701987028122\n",
      "Extracting Online Features for convnext ...\n",
      "Features extracted in 304.16 seconds\n",
      "Computing jaccard distance...\n"
     ]
    },
    {
     "name": "stderr",
     "output_type": "stream",
     "text": [
      "bruteForceKnn is deprecated; call bfKnn instead\n"
     ]
    },
    {
     "name": "stdout",
     "output_type": "stream",
     "text": [
      "Jaccard distance computing time cost: 570.5447280406952\n",
      "Extracting Online Features for mobilenet ...\n",
      "Features extracted in 295.89 seconds\n",
      "Computing jaccard distance...\n"
     ]
    },
    {
     "name": "stderr",
     "output_type": "stream",
     "text": [
      "bruteForceKnn is deprecated; call bfKnn instead\n"
     ]
    },
    {
     "name": "stdout",
     "output_type": "stream",
     "text": [
      "Jaccard distance computing time cost: 583.0561368465424\n",
      "Extracting Online Features for vgg16 ...\n",
      "Features extracted in 267.73 seconds\n",
      "Computing jaccard distance...\n"
     ]
    },
    {
     "name": "stderr",
     "output_type": "stream",
     "text": [
      "bruteForceKnn is deprecated; call bfKnn instead\n"
     ]
    },
    {
     "name": "stdout",
     "output_type": "stream",
     "text": [
      "Jaccard distance computing time cost: 540.3707685470581\n",
      "Extracting Online Features for resnet50 ...\n",
      "Features extracted in 272.98 seconds\n",
      "Computing jaccard distance...\n"
     ]
    },
    {
     "name": "stderr",
     "output_type": "stream",
     "text": [
      "bruteForceKnn is deprecated; call bfKnn instead\n"
     ]
    },
    {
     "name": "stdout",
     "output_type": "stream",
     "text": [
      "Jaccard distance computing time cost: 620.7798664569855\n",
      "Extracting Online Features for osnet ...\n",
      "Features extracted in 291.46 seconds\n",
      "Computing jaccard distance...\n"
     ]
    },
    {
     "name": "stderr",
     "output_type": "stream",
     "text": [
      "bruteForceKnn is deprecated; call bfKnn instead\n"
     ]
    },
    {
     "name": "stdout",
     "output_type": "stream",
     "text": [
      "Jaccard distance computing time cost: 642.6297466754913\n",
      "Extracting Online Features for densenet121 ...\n",
      "Features extracted in 275.14 seconds\n",
      "Computing jaccard distance...\n"
     ]
    },
    {
     "name": "stderr",
     "output_type": "stream",
     "text": [
      "bruteForceKnn is deprecated; call bfKnn instead\n"
     ]
    },
    {
     "name": "stdout",
     "output_type": "stream",
     "text": [
      "Jaccard distance computing time cost: 633.9265532493591\n",
      "Reliability: 0.994\n",
      "\u001b[32mMean Purity: 0.01644\u001b[0m\n",
      "\u001b[34mThere are 2 clusters with 4 cameras\u001b[0m\n",
      "\u001b[34mThere are 3 clusters with 5 cameras\u001b[0m\n",
      "\u001b[34mThere are 2 clusters with 6 cameras\u001b[0m\n",
      "\u001b[34mThere are 2 clusters with 7 cameras\u001b[0m\n",
      "\u001b[34mThere are 2 clusters with 9 cameras\u001b[0m\n",
      "\u001b[34mThere are 1 clusters with 11 cameras\u001b[0m\n",
      "\u001b[34mThere are 1 clusters with 12 cameras\u001b[0m\n",
      "\u001b[34mThere are 1 clusters with 16 cameras\u001b[0m\n",
      "\u001b[34mThere are 1 clusters with 17 cameras\u001b[0m\n",
      "\u001b[34mThere are 1 clusters with 19 cameras\u001b[0m\n",
      "\u001b[34mThere are 1 clusters with 27 cameras\u001b[0m\n",
      "\u001b[34mThere are 1 clusters with 31 cameras\u001b[0m\n",
      "\u001b[34mThere are 1 clusters with 32 cameras\u001b[0m\n",
      "\u001b[34mThere are 1 clusters with 41 cameras\u001b[0m\n",
      "\u001b[34mThere are 1 clusters with 45 cameras\u001b[0m\n",
      "\u001b[34mThere are 1 clusters with 47 cameras\u001b[0m\n",
      "\u001b[34mThere are 1 clusters with 52 cameras\u001b[0m\n",
      "\u001b[34mThere are 1 clusters with 53 cameras\u001b[0m\n",
      "\u001b[34mThere are 2 clusters with 54 cameras\u001b[0m\n",
      "\u001b[34mThere are 1 clusters with 56 cameras\u001b[0m\n",
      "\u001b[34mThere are 3 clusters with 57 cameras\u001b[0m\n",
      "\u001b[34mThere are 1 clusters with 58 cameras\u001b[0m\n",
      "\u001b[34mThere are 6 clusters with 59 cameras\u001b[0m\n",
      "\u001b[34mThere are 9 clusters with 60 cameras\u001b[0m\n",
      "\u001b[34mThere are 13 clusters with 61 cameras\u001b[0m\n",
      "\u001b[34mThere are 26 clusters with 62 cameras\u001b[0m\n",
      "\u001b[34mThere are 36 clusters with 63 cameras\u001b[0m\n",
      "\u001b[34mThere are 461 clusters with 64 cameras\u001b[0m\n",
      "\u001b[34mThere are 1 clusters with 90 cameras\u001b[0m\n",
      "\u001b[34mThere are 1 clusters with 119 cameras\u001b[0m\n",
      "\u001b[34mThere are 1 clusters with 120 cameras\u001b[0m\n",
      "\u001b[34mThere are 1 clusters with 122 cameras\u001b[0m\n",
      "\u001b[34mThere are 1 clusters with 123 cameras\u001b[0m\n",
      "\u001b[34mThere are 2 clusters with 125 cameras\u001b[0m\n",
      "\u001b[34mThere are 2 clusters with 126 cameras\u001b[0m\n",
      "\u001b[34mThere are 1 clusters with 127 cameras\u001b[0m\n",
      "\u001b[34mThere are 8 clusters with 128 cameras\u001b[0m\n",
      "Number of classes: 600\n",
      "\u001b[36mLearning Rate: 0.000158\u001b[0m\n",
      "encontrou modelos efficientnet. Carregando...\n",
      "encontrou modelos convnext. Carregando...\n",
      "encontrou modelos mobilenet. Carregando...\n",
      "encontrou modelos vgg16. Carregando...\n",
      "encontrou modelos resnet50. Carregando...\n",
      "encontrou modelos osnet. Carregando...\n",
      "encontrou modelos densenet121. Carregando...\n",
      "###============ Iteration number 10/90 ============###\n",
      "Extracting Online Features for efficientnet ...\n",
      "Features extracted in 308.00 seconds\n",
      "Computing jaccard distance...\n"
     ]
    },
    {
     "name": "stderr",
     "output_type": "stream",
     "text": [
      "bruteForceKnn is deprecated; call bfKnn instead\n"
     ]
    },
    {
     "name": "stdout",
     "output_type": "stream",
     "text": [
      "Jaccard distance computing time cost: 587.6411371231079\n",
      "Extracting Online Features for convnext ...\n",
      "Features extracted in 305.72 seconds\n",
      "Computing jaccard distance...\n"
     ]
    },
    {
     "name": "stderr",
     "output_type": "stream",
     "text": [
      "bruteForceKnn is deprecated; call bfKnn instead\n"
     ]
    },
    {
     "name": "stdout",
     "output_type": "stream",
     "text": [
      "Jaccard distance computing time cost: 564.1220791339874\n",
      "Extracting Online Features for mobilenet ...\n",
      "Features extracted in 195.36 seconds\n",
      "Computing jaccard distance...\n"
     ]
    },
    {
     "name": "stderr",
     "output_type": "stream",
     "text": [
      "bruteForceKnn is deprecated; call bfKnn instead\n"
     ]
    },
    {
     "name": "stdout",
     "output_type": "stream",
     "text": [
      "Jaccard distance computing time cost: 595.4981129169464\n",
      "Extracting Online Features for vgg16 ...\n",
      "Features extracted in 202.89 seconds\n",
      "Computing jaccard distance...\n"
     ]
    },
    {
     "name": "stderr",
     "output_type": "stream",
     "text": [
      "bruteForceKnn is deprecated; call bfKnn instead\n"
     ]
    },
    {
     "name": "stdout",
     "output_type": "stream",
     "text": [
      "Jaccard distance computing time cost: 548.4064977169037\n",
      "Extracting Online Features for resnet50 ...\n",
      "Features extracted in 294.50 seconds\n",
      "Computing jaccard distance...\n"
     ]
    },
    {
     "name": "stderr",
     "output_type": "stream",
     "text": [
      "bruteForceKnn is deprecated; call bfKnn instead\n"
     ]
    },
    {
     "name": "stdout",
     "output_type": "stream",
     "text": [
      "Jaccard distance computing time cost: 655.3930261135101\n",
      "Extracting Online Features for osnet ...\n",
      "Features extracted in 302.15 seconds\n",
      "Computing jaccard distance...\n"
     ]
    },
    {
     "name": "stderr",
     "output_type": "stream",
     "text": [
      "bruteForceKnn is deprecated; call bfKnn instead\n"
     ]
    },
    {
     "name": "stdout",
     "output_type": "stream",
     "text": [
      "Jaccard distance computing time cost: 639.1681826114655\n",
      "Extracting Online Features for densenet121 ...\n",
      "Features extracted in 298.54 seconds\n",
      "Computing jaccard distance...\n"
     ]
    },
    {
     "name": "stderr",
     "output_type": "stream",
     "text": [
      "bruteForceKnn is deprecated; call bfKnn instead\n"
     ]
    },
    {
     "name": "stdout",
     "output_type": "stream",
     "text": [
      "Jaccard distance computing time cost: 606.0051736831665\n",
      "Reliability: 0.994\n",
      "\u001b[32mMean Purity: 0.01644\u001b[0m\n",
      "\u001b[34mThere are 2 clusters with 4 cameras\u001b[0m\n",
      "\u001b[34mThere are 3 clusters with 5 cameras\u001b[0m\n",
      "\u001b[34mThere are 2 clusters with 6 cameras\u001b[0m\n",
      "\u001b[34mThere are 2 clusters with 7 cameras\u001b[0m\n",
      "\u001b[34mThere are 2 clusters with 9 cameras\u001b[0m\n",
      "\u001b[34mThere are 1 clusters with 11 cameras\u001b[0m\n",
      "\u001b[34mThere are 1 clusters with 12 cameras\u001b[0m\n",
      "\u001b[34mThere are 1 clusters with 16 cameras\u001b[0m\n",
      "\u001b[34mThere are 1 clusters with 17 cameras\u001b[0m\n",
      "\u001b[34mThere are 1 clusters with 19 cameras\u001b[0m\n",
      "\u001b[34mThere are 1 clusters with 27 cameras\u001b[0m\n",
      "\u001b[34mThere are 1 clusters with 31 cameras\u001b[0m\n",
      "\u001b[34mThere are 1 clusters with 32 cameras\u001b[0m\n",
      "\u001b[34mThere are 1 clusters with 41 cameras\u001b[0m\n",
      "\u001b[34mThere are 1 clusters with 45 cameras\u001b[0m\n",
      "\u001b[34mThere are 1 clusters with 47 cameras\u001b[0m\n",
      "\u001b[34mThere are 1 clusters with 52 cameras\u001b[0m\n",
      "\u001b[34mThere are 1 clusters with 53 cameras\u001b[0m\n",
      "\u001b[34mThere are 2 clusters with 54 cameras\u001b[0m\n",
      "\u001b[34mThere are 1 clusters with 56 cameras\u001b[0m\n",
      "\u001b[34mThere are 3 clusters with 57 cameras\u001b[0m\n",
      "\u001b[34mThere are 1 clusters with 58 cameras\u001b[0m\n",
      "\u001b[34mThere are 6 clusters with 59 cameras\u001b[0m\n",
      "\u001b[34mThere are 9 clusters with 60 cameras\u001b[0m\n",
      "\u001b[34mThere are 13 clusters with 61 cameras\u001b[0m\n",
      "\u001b[34mThere are 26 clusters with 62 cameras\u001b[0m\n",
      "\u001b[34mThere are 36 clusters with 63 cameras\u001b[0m\n",
      "\u001b[34mThere are 461 clusters with 64 cameras\u001b[0m\n",
      "\u001b[34mThere are 1 clusters with 90 cameras\u001b[0m\n",
      "\u001b[34mThere are 1 clusters with 119 cameras\u001b[0m\n",
      "\u001b[34mThere are 1 clusters with 120 cameras\u001b[0m\n",
      "\u001b[34mThere are 1 clusters with 122 cameras\u001b[0m\n",
      "\u001b[34mThere are 1 clusters with 123 cameras\u001b[0m\n",
      "\u001b[34mThere are 2 clusters with 125 cameras\u001b[0m\n",
      "\u001b[34mThere are 2 clusters with 126 cameras\u001b[0m\n",
      "\u001b[34mThere are 1 clusters with 127 cameras\u001b[0m\n",
      "\u001b[34mThere are 8 clusters with 128 cameras\u001b[0m\n",
      "Number of classes: 600\n",
      "\u001b[36mLearning Rate: 0.000175\u001b[0m\n",
      "encontrou modelos efficientnet. Carregando...\n",
      "encontrou modelos convnext. Carregando...\n",
      "encontrou modelos mobilenet. Carregando...\n",
      "encontrou modelos vgg16. Carregando...\n",
      "encontrou modelos resnet50. Carregando...\n",
      "encontrou modelos osnet. Carregando...\n",
      "encontrou modelos densenet121. Carregando...\n",
      "\u001b[33mValidating online efficientnet ...\u001b[0m\n",
      "Features extracted in 68.82 seconds\n",
      "Features extracted in 130.24 seconds\n",
      "Computing CMC and mAP ...\n",
      "** Results **\n",
      "mAP: 69.91%\n",
      "CMC curve\n",
      "Rank-1  : 73.59%\n",
      "Rank-5  : 94.54%\n",
      "Rank-10 : 97.70%\n",
      "Rank-20 : 99.20%\n",
      "\u001b[33mValidating momentum efficientnet ...\u001b[0m\n",
      "Features extracted in 62.86 seconds\n",
      "Features extracted in 127.03 seconds\n",
      "Computing CMC and mAP ...\n",
      "** Results **\n",
      "mAP: 70.66%\n",
      "CMC curve\n",
      "Rank-1  : 76.80%\n",
      "Rank-5  : 93.39%\n",
      "Rank-10 : 96.79%\n",
      "Rank-20 : 98.68%\n",
      "\u001b[33mValidating online convnext ...\u001b[0m\n",
      "Features extracted in 64.14 seconds\n",
      "Features extracted in 134.12 seconds\n",
      "Computing CMC and mAP ...\n",
      "** Results **\n",
      "mAP: 70.08%\n",
      "CMC curve\n",
      "Rank-1  : 75.63%\n",
      "Rank-5  : 92.61%\n",
      "Rank-10 : 96.93%\n",
      "Rank-20 : 99.29%\n",
      "\u001b[33mValidating momentum convnext ...\u001b[0m\n",
      "Features extracted in 63.18 seconds\n",
      "Features extracted in 132.93 seconds\n",
      "Computing CMC and mAP ...\n",
      "** Results **\n",
      "mAP: 70.46%\n",
      "CMC curve\n",
      "Rank-1  : 77.49%\n",
      "Rank-5  : 93.71%\n",
      "Rank-10 : 96.84%\n",
      "Rank-20 : 98.71%\n",
      "\u001b[33mValidating online mobilenet ...\u001b[0m\n",
      "Features extracted in 59.47 seconds\n",
      "Features extracted in 123.50 seconds\n",
      "Computing CMC and mAP ...\n",
      "** Results **\n",
      "mAP: 71.39%\n",
      "CMC curve\n",
      "Rank-1  : 81.53%\n",
      "Rank-5  : 95.41%\n",
      "Rank-10 : 98.02%\n",
      "Rank-20 : 99.18%\n",
      "\u001b[33mValidating momentum mobilenet ...\u001b[0m\n",
      "Features extracted in 60.67 seconds\n",
      "Features extracted in 122.84 seconds\n",
      "Computing CMC and mAP ...\n",
      "** Results **\n",
      "mAP: 70.86%\n",
      "CMC curve\n",
      "Rank-1  : 78.95%\n",
      "Rank-5  : 93.89%\n",
      "Rank-10 : 97.47%\n",
      "Rank-20 : 99.27%\n",
      "\u001b[33mValidating online vgg16 ...\u001b[0m\n",
      "Features extracted in 63.29 seconds\n",
      "Features extracted in 130.70 seconds\n",
      "Computing CMC and mAP ...\n",
      "** Results **\n",
      "mAP: 69.67%\n",
      "CMC curve\n",
      "Rank-1  : 74.49%\n",
      "Rank-5  : 92.27%\n",
      "Rank-10 : 96.56%\n",
      "Rank-20 : 99.05%\n",
      "\u001b[33mValidating momentum vgg16 ...\u001b[0m\n",
      "Features extracted in 64.05 seconds\n",
      "Features extracted in 130.21 seconds\n",
      "Computing CMC and mAP ...\n",
      "** Results **\n",
      "mAP: 69.72%\n",
      "CMC curve\n",
      "Rank-1  : 75.80%\n",
      "Rank-5  : 92.91%\n",
      "Rank-10 : 97.25%\n",
      "Rank-20 : 99.09%\n",
      "\u001b[33mValidating online resnet50 ...\u001b[0m\n",
      "Features extracted in 64.04 seconds\n",
      "Features extracted in 129.19 seconds\n",
      "Computing CMC and mAP ...\n",
      "** Results **\n",
      "mAP: 69.64%\n",
      "CMC curve\n",
      "Rank-1  : 70.07%\n",
      "Rank-5  : 91.28%\n",
      "Rank-10 : 96.04%\n",
      "Rank-20 : 98.68%\n",
      "\u001b[33mValidating momentum resnet50 ...\u001b[0m\n",
      "Features extracted in 63.80 seconds\n",
      "Features extracted in 128.39 seconds\n",
      "Computing CMC and mAP ...\n",
      "** Results **\n",
      "mAP: 70.02%\n",
      "CMC curve\n",
      "Rank-1  : 73.39%\n",
      "Rank-5  : 93.49%\n",
      "Rank-10 : 97.50%\n",
      "Rank-20 : 99.37%\n",
      "\u001b[33mValidating online osnet ...\u001b[0m\n",
      "Features extracted in 62.62 seconds\n",
      "Features extracted in 127.47 seconds\n",
      "Computing CMC and mAP ...\n",
      "** Results **\n",
      "mAP: 68.61%\n",
      "CMC curve\n",
      "Rank-1  : 73.02%\n",
      "Rank-5  : 95.04%\n",
      "Rank-10 : 98.36%\n",
      "Rank-20 : 99.48%\n",
      "\u001b[33mValidating momentum osnet ...\u001b[0m\n",
      "Features extracted in 62.35 seconds\n",
      "Features extracted in 126.05 seconds\n",
      "Computing CMC and mAP ...\n",
      "** Results **\n",
      "mAP: 69.41%\n",
      "CMC curve\n",
      "Rank-1  : 73.33%\n",
      "Rank-5  : 93.05%\n",
      "Rank-10 : 97.14%\n",
      "Rank-20 : 99.12%\n",
      "\u001b[33mValidating online densenet121 ...\u001b[0m\n",
      "Features extracted in 64.30 seconds\n",
      "Features extracted in 126.66 seconds\n",
      "Computing CMC and mAP ...\n",
      "** Results **\n",
      "mAP: 70.12%\n",
      "CMC curve\n",
      "Rank-1  : 75.15%\n",
      "Rank-5  : 92.89%\n",
      "Rank-10 : 97.00%\n",
      "Rank-20 : 98.95%\n",
      "\u001b[33mValidating momentum densenet121 ...\u001b[0m\n",
      "Features extracted in 62.90 seconds\n",
      "Features extracted in 129.65 seconds\n",
      "Computing CMC and mAP ...\n",
      "** Results **\n",
      "mAP: 69.53%\n",
      "CMC curve\n",
      "Rank-1  : 75.91%\n",
      "Rank-5  : 93.33%\n",
      "Rank-10 : 97.31%\n",
      "Rank-20 : 99.25%\n",
      "\u001b[33mValidating ensembled with online models ...\u001b[0m\n",
      "Computing CMC and mAP ...\n",
      "** Results **\n",
      "mAP: 71.17%\n",
      "Ranks:\n",
      "Rank-1  : 78.73%\n",
      "Rank-5  : 92.94%\n",
      "Rank-10 : 96.83%\n",
      "\u001b[33mValidating ensembled with momentum models ...\u001b[0m\n",
      "Computing CMC and mAP ...\n",
      "** Results **\n",
      "mAP: 71.11%\n",
      "Ranks:\n",
      "Rank-1  : 79.83%\n",
      "Rank-5  : 92.92%\n",
      "Rank-10 : 96.74%\n",
      "###============ Iteration number 11/90 ============###\n",
      "Extracting Online Features for efficientnet ...\n",
      "Features extracted in 197.37 seconds\n",
      "Computing jaccard distance...\n"
     ]
    },
    {
     "name": "stderr",
     "output_type": "stream",
     "text": [
      "bruteForceKnn is deprecated; call bfKnn instead\n"
     ]
    },
    {
     "name": "stdout",
     "output_type": "stream",
     "text": [
      "Jaccard distance computing time cost: 559.289377450943\n",
      "Extracting Online Features for convnext ...\n",
      "Features extracted in 206.72 seconds\n",
      "Computing jaccard distance...\n"
     ]
    },
    {
     "name": "stderr",
     "output_type": "stream",
     "text": [
      "bruteForceKnn is deprecated; call bfKnn instead\n"
     ]
    },
    {
     "name": "stdout",
     "output_type": "stream",
     "text": [
      "Jaccard distance computing time cost: 566.7980132102966\n",
      "Extracting Online Features for mobilenet ...\n",
      "Features extracted in 201.60 seconds\n",
      "Computing jaccard distance...\n"
     ]
    },
    {
     "name": "stderr",
     "output_type": "stream",
     "text": [
      "bruteForceKnn is deprecated; call bfKnn instead\n"
     ]
    },
    {
     "name": "stdout",
     "output_type": "stream",
     "text": [
      "Jaccard distance computing time cost: 593.3155136108398\n",
      "Extracting Online Features for vgg16 ...\n",
      "Features extracted in 208.61 seconds\n",
      "Computing jaccard distance...\n"
     ]
    },
    {
     "name": "stderr",
     "output_type": "stream",
     "text": [
      "bruteForceKnn is deprecated; call bfKnn instead\n"
     ]
    },
    {
     "name": "stdout",
     "output_type": "stream",
     "text": [
      "Jaccard distance computing time cost: 691.3284180164337\n",
      "Extracting Online Features for resnet50 ...\n",
      "Features extracted in 213.47 seconds\n",
      "Computing jaccard distance...\n"
     ]
    },
    {
     "name": "stderr",
     "output_type": "stream",
     "text": [
      "bruteForceKnn is deprecated; call bfKnn instead\n"
     ]
    },
    {
     "name": "stdout",
     "output_type": "stream",
     "text": [
      "Jaccard distance computing time cost: 568.6675004959106\n",
      "Extracting Online Features for osnet ...\n",
      "Features extracted in 199.83 seconds\n",
      "Computing jaccard distance...\n"
     ]
    },
    {
     "name": "stderr",
     "output_type": "stream",
     "text": [
      "bruteForceKnn is deprecated; call bfKnn instead\n"
     ]
    },
    {
     "name": "stdout",
     "output_type": "stream",
     "text": [
      "Jaccard distance computing time cost: 575.1365456581116\n",
      "Extracting Online Features for densenet121 ...\n",
      "Features extracted in 200.20 seconds\n",
      "Computing jaccard distance...\n"
     ]
    },
    {
     "name": "stderr",
     "output_type": "stream",
     "text": [
      "bruteForceKnn is deprecated; call bfKnn instead\n"
     ]
    },
    {
     "name": "stdout",
     "output_type": "stream",
     "text": [
      "Jaccard distance computing time cost: 609.318785905838\n",
      "Reliability: 0.994\n",
      "\u001b[32mMean Purity: 0.01644\u001b[0m\n",
      "\u001b[34mThere are 2 clusters with 4 cameras\u001b[0m\n",
      "\u001b[34mThere are 3 clusters with 5 cameras\u001b[0m\n",
      "\u001b[34mThere are 2 clusters with 6 cameras\u001b[0m\n",
      "\u001b[34mThere are 2 clusters with 7 cameras\u001b[0m\n",
      "\u001b[34mThere are 2 clusters with 9 cameras\u001b[0m\n",
      "\u001b[34mThere are 1 clusters with 11 cameras\u001b[0m\n",
      "\u001b[34mThere are 1 clusters with 12 cameras\u001b[0m\n",
      "\u001b[34mThere are 1 clusters with 16 cameras\u001b[0m\n",
      "\u001b[34mThere are 1 clusters with 17 cameras\u001b[0m\n",
      "\u001b[34mThere are 1 clusters with 19 cameras\u001b[0m\n",
      "\u001b[34mThere are 1 clusters with 27 cameras\u001b[0m\n",
      "\u001b[34mThere are 1 clusters with 31 cameras\u001b[0m\n",
      "\u001b[34mThere are 1 clusters with 32 cameras\u001b[0m\n",
      "\u001b[34mThere are 1 clusters with 41 cameras\u001b[0m\n",
      "\u001b[34mThere are 1 clusters with 45 cameras\u001b[0m\n",
      "\u001b[34mThere are 1 clusters with 47 cameras\u001b[0m\n",
      "\u001b[34mThere are 1 clusters with 52 cameras\u001b[0m\n",
      "\u001b[34mThere are 1 clusters with 53 cameras\u001b[0m\n",
      "\u001b[34mThere are 2 clusters with 54 cameras\u001b[0m\n",
      "\u001b[34mThere are 1 clusters with 56 cameras\u001b[0m\n",
      "\u001b[34mThere are 3 clusters with 57 cameras\u001b[0m\n",
      "\u001b[34mThere are 1 clusters with 58 cameras\u001b[0m\n",
      "\u001b[34mThere are 6 clusters with 59 cameras\u001b[0m\n",
      "\u001b[34mThere are 9 clusters with 60 cameras\u001b[0m\n",
      "\u001b[34mThere are 13 clusters with 61 cameras\u001b[0m\n",
      "\u001b[34mThere are 26 clusters with 62 cameras\u001b[0m\n",
      "\u001b[34mThere are 36 clusters with 63 cameras\u001b[0m\n",
      "\u001b[34mThere are 461 clusters with 64 cameras\u001b[0m\n",
      "\u001b[34mThere are 1 clusters with 90 cameras\u001b[0m\n",
      "\u001b[34mThere are 1 clusters with 119 cameras\u001b[0m\n",
      "\u001b[34mThere are 1 clusters with 120 cameras\u001b[0m\n",
      "\u001b[34mThere are 1 clusters with 122 cameras\u001b[0m\n",
      "\u001b[34mThere are 1 clusters with 123 cameras\u001b[0m\n",
      "\u001b[34mThere are 2 clusters with 125 cameras\u001b[0m\n",
      "\u001b[34mThere are 2 clusters with 126 cameras\u001b[0m\n",
      "\u001b[34mThere are 1 clusters with 127 cameras\u001b[0m\n",
      "\u001b[34mThere are 8 clusters with 128 cameras\u001b[0m\n",
      "Number of classes: 600\n",
      "\u001b[36mLearning Rate: 0.000193\u001b[0m\n",
      "encontrou modelos efficientnet. Carregando...\n",
      "encontrou modelos convnext. Carregando...\n",
      "encontrou modelos mobilenet. Carregando...\n",
      "encontrou modelos vgg16. Carregando...\n",
      "encontrou modelos resnet50. Carregando...\n",
      "encontrou modelos osnet. Carregando...\n",
      "encontrou modelos densenet121. Carregando...\n",
      "###============ Iteration number 12/90 ============###\n",
      "Extracting Online Features for efficientnet ...\n",
      "Features extracted in 286.28 seconds\n",
      "Computing jaccard distance...\n"
     ]
    },
    {
     "name": "stderr",
     "output_type": "stream",
     "text": [
      "bruteForceKnn is deprecated; call bfKnn instead\n"
     ]
    },
    {
     "name": "stdout",
     "output_type": "stream",
     "text": [
      "Jaccard distance computing time cost: 573.358964920044\n",
      "Extracting Online Features for convnext ...\n",
      "Features extracted in 296.92 seconds\n",
      "Computing jaccard distance...\n"
     ]
    },
    {
     "name": "stderr",
     "output_type": "stream",
     "text": [
      "bruteForceKnn is deprecated; call bfKnn instead\n"
     ]
    },
    {
     "name": "stdout",
     "output_type": "stream",
     "text": [
      "Jaccard distance computing time cost: 558.2645287513733\n",
      "Extracting Online Features for mobilenet ...\n",
      "Features extracted in 295.86 seconds\n",
      "Computing jaccard distance...\n"
     ]
    },
    {
     "name": "stderr",
     "output_type": "stream",
     "text": [
      "bruteForceKnn is deprecated; call bfKnn instead\n"
     ]
    },
    {
     "name": "stdout",
     "output_type": "stream",
     "text": [
      "Jaccard distance computing time cost: 587.3000912666321\n",
      "Extracting Online Features for vgg16 ...\n",
      "Features extracted in 299.10 seconds\n",
      "Computing jaccard distance...\n"
     ]
    },
    {
     "name": "stderr",
     "output_type": "stream",
     "text": [
      "bruteForceKnn is deprecated; call bfKnn instead\n"
     ]
    },
    {
     "name": "stdout",
     "output_type": "stream",
     "text": [
      "Jaccard distance computing time cost: 592.1029543876648\n",
      "Extracting Online Features for resnet50 ...\n",
      "Features extracted in 295.64 seconds\n",
      "Computing jaccard distance...\n"
     ]
    },
    {
     "name": "stderr",
     "output_type": "stream",
     "text": [
      "bruteForceKnn is deprecated; call bfKnn instead\n"
     ]
    },
    {
     "name": "stdout",
     "output_type": "stream",
     "text": [
      "Jaccard distance computing time cost: 697.5570409297943\n",
      "Extracting Online Features for osnet ...\n",
      "Features extracted in 290.98 seconds\n",
      "Computing jaccard distance...\n"
     ]
    },
    {
     "name": "stderr",
     "output_type": "stream",
     "text": [
      "bruteForceKnn is deprecated; call bfKnn instead\n"
     ]
    },
    {
     "name": "stdout",
     "output_type": "stream",
     "text": [
      "Jaccard distance computing time cost: 589.4227151870728\n",
      "Extracting Online Features for densenet121 ...\n",
      "Features extracted in 210.78 seconds\n",
      "Computing jaccard distance...\n"
     ]
    },
    {
     "name": "stderr",
     "output_type": "stream",
     "text": [
      "bruteForceKnn is deprecated; call bfKnn instead\n"
     ]
    },
    {
     "name": "stdout",
     "output_type": "stream",
     "text": [
      "Jaccard distance computing time cost: 561.3799540996552\n",
      "Reliability: 0.994\n",
      "\u001b[32mMean Purity: 0.01644\u001b[0m\n",
      "\u001b[34mThere are 2 clusters with 4 cameras\u001b[0m\n",
      "\u001b[34mThere are 3 clusters with 5 cameras\u001b[0m\n",
      "\u001b[34mThere are 2 clusters with 6 cameras\u001b[0m\n",
      "\u001b[34mThere are 2 clusters with 7 cameras\u001b[0m\n",
      "\u001b[34mThere are 2 clusters with 9 cameras\u001b[0m\n",
      "\u001b[34mThere are 1 clusters with 11 cameras\u001b[0m\n",
      "\u001b[34mThere are 1 clusters with 12 cameras\u001b[0m\n",
      "\u001b[34mThere are 1 clusters with 16 cameras\u001b[0m\n",
      "\u001b[34mThere are 1 clusters with 17 cameras\u001b[0m\n",
      "\u001b[34mThere are 1 clusters with 19 cameras\u001b[0m\n",
      "\u001b[34mThere are 1 clusters with 27 cameras\u001b[0m\n",
      "\u001b[34mThere are 1 clusters with 31 cameras\u001b[0m\n",
      "\u001b[34mThere are 1 clusters with 32 cameras\u001b[0m\n",
      "\u001b[34mThere are 1 clusters with 41 cameras\u001b[0m\n",
      "\u001b[34mThere are 1 clusters with 45 cameras\u001b[0m\n",
      "\u001b[34mThere are 1 clusters with 47 cameras\u001b[0m\n",
      "\u001b[34mThere are 1 clusters with 52 cameras\u001b[0m\n",
      "\u001b[34mThere are 1 clusters with 53 cameras\u001b[0m\n",
      "\u001b[34mThere are 2 clusters with 54 cameras\u001b[0m\n",
      "\u001b[34mThere are 1 clusters with 56 cameras\u001b[0m\n",
      "\u001b[34mThere are 3 clusters with 57 cameras\u001b[0m\n",
      "\u001b[34mThere are 1 clusters with 58 cameras\u001b[0m\n",
      "\u001b[34mThere are 6 clusters with 59 cameras\u001b[0m\n",
      "\u001b[34mThere are 9 clusters with 60 cameras\u001b[0m\n",
      "\u001b[34mThere are 13 clusters with 61 cameras\u001b[0m\n",
      "\u001b[34mThere are 26 clusters with 62 cameras\u001b[0m\n",
      "\u001b[34mThere are 36 clusters with 63 cameras\u001b[0m\n",
      "\u001b[34mThere are 461 clusters with 64 cameras\u001b[0m\n",
      "\u001b[34mThere are 1 clusters with 90 cameras\u001b[0m\n",
      "\u001b[34mThere are 1 clusters with 119 cameras\u001b[0m\n",
      "\u001b[34mThere are 1 clusters with 120 cameras\u001b[0m\n",
      "\u001b[34mThere are 1 clusters with 122 cameras\u001b[0m\n",
      "\u001b[34mThere are 1 clusters with 123 cameras\u001b[0m\n",
      "\u001b[34mThere are 2 clusters with 125 cameras\u001b[0m\n",
      "\u001b[34mThere are 2 clusters with 126 cameras\u001b[0m\n",
      "\u001b[34mThere are 1 clusters with 127 cameras\u001b[0m\n",
      "\u001b[34mThere are 8 clusters with 128 cameras\u001b[0m\n",
      "Number of classes: 600\n",
      "\u001b[36mLearning Rate: 0.000210\u001b[0m\n",
      "encontrou modelos efficientnet. Carregando...\n",
      "encontrou modelos convnext. Carregando...\n",
      "encontrou modelos mobilenet. Carregando...\n",
      "encontrou modelos vgg16. Carregando...\n",
      "encontrou modelos resnet50. Carregando...\n",
      "encontrou modelos osnet. Carregando...\n",
      "encontrou modelos densenet121. Carregando...\n",
      "###============ Iteration number 13/90 ============###\n",
      "Extracting Online Features for efficientnet ...\n",
      "Features extracted in 288.46 seconds\n",
      "Computing jaccard distance...\n"
     ]
    },
    {
     "name": "stderr",
     "output_type": "stream",
     "text": [
      "bruteForceKnn is deprecated; call bfKnn instead\n"
     ]
    },
    {
     "name": "stdout",
     "output_type": "stream",
     "text": [
      "Jaccard distance computing time cost: 568.1156537532806\n",
      "Extracting Online Features for convnext ...\n",
      "Features extracted in 226.78 seconds\n",
      "Computing jaccard distance...\n"
     ]
    },
    {
     "name": "stderr",
     "output_type": "stream",
     "text": [
      "bruteForceKnn is deprecated; call bfKnn instead\n"
     ]
    },
    {
     "name": "stdout",
     "output_type": "stream",
     "text": [
      "Jaccard distance computing time cost: 592.2016954421997\n",
      "Extracting Online Features for mobilenet ...\n",
      "Features extracted in 206.41 seconds\n",
      "Computing jaccard distance...\n"
     ]
    },
    {
     "name": "stderr",
     "output_type": "stream",
     "text": [
      "bruteForceKnn is deprecated; call bfKnn instead\n"
     ]
    },
    {
     "name": "stdout",
     "output_type": "stream",
     "text": [
      "Jaccard distance computing time cost: 567.19775390625\n",
      "Extracting Online Features for vgg16 ...\n",
      "Features extracted in 223.31 seconds\n",
      "Computing jaccard distance...\n"
     ]
    },
    {
     "name": "stderr",
     "output_type": "stream",
     "text": [
      "bruteForceKnn is deprecated; call bfKnn instead\n"
     ]
    },
    {
     "name": "stdout",
     "output_type": "stream",
     "text": [
      "Jaccard distance computing time cost: 574.8413233757019\n",
      "Extracting Online Features for resnet50 ...\n",
      "Features extracted in 214.64 seconds\n",
      "Computing jaccard distance...\n"
     ]
    },
    {
     "name": "stderr",
     "output_type": "stream",
     "text": [
      "bruteForceKnn is deprecated; call bfKnn instead\n"
     ]
    },
    {
     "name": "stdout",
     "output_type": "stream",
     "text": [
      "Jaccard distance computing time cost: 618.5960671901703\n",
      "Extracting Online Features for osnet ...\n",
      "Features extracted in 204.15 seconds\n",
      "Computing jaccard distance...\n"
     ]
    },
    {
     "name": "stderr",
     "output_type": "stream",
     "text": [
      "bruteForceKnn is deprecated; call bfKnn instead\n"
     ]
    },
    {
     "name": "stdout",
     "output_type": "stream",
     "text": [
      "Jaccard distance computing time cost: 575.1615836620331\n",
      "Extracting Online Features for densenet121 ...\n",
      "Features extracted in 221.33 seconds\n",
      "Computing jaccard distance...\n"
     ]
    },
    {
     "name": "stderr",
     "output_type": "stream",
     "text": [
      "bruteForceKnn is deprecated; call bfKnn instead\n"
     ]
    },
    {
     "name": "stdout",
     "output_type": "stream",
     "text": [
      "Jaccard distance computing time cost: 604.0203876495361\n",
      "Reliability: 0.994\n",
      "\u001b[32mMean Purity: 0.01644\u001b[0m\n",
      "\u001b[34mThere are 2 clusters with 4 cameras\u001b[0m\n",
      "\u001b[34mThere are 3 clusters with 5 cameras\u001b[0m\n",
      "\u001b[34mThere are 2 clusters with 6 cameras\u001b[0m\n",
      "\u001b[34mThere are 2 clusters with 7 cameras\u001b[0m\n",
      "\u001b[34mThere are 2 clusters with 9 cameras\u001b[0m\n",
      "\u001b[34mThere are 1 clusters with 11 cameras\u001b[0m\n",
      "\u001b[34mThere are 1 clusters with 12 cameras\u001b[0m\n",
      "\u001b[34mThere are 1 clusters with 16 cameras\u001b[0m\n",
      "\u001b[34mThere are 1 clusters with 17 cameras\u001b[0m\n",
      "\u001b[34mThere are 1 clusters with 19 cameras\u001b[0m\n",
      "\u001b[34mThere are 1 clusters with 27 cameras\u001b[0m\n",
      "\u001b[34mThere are 1 clusters with 31 cameras\u001b[0m\n",
      "\u001b[34mThere are 1 clusters with 32 cameras\u001b[0m\n",
      "\u001b[34mThere are 1 clusters with 41 cameras\u001b[0m\n",
      "\u001b[34mThere are 1 clusters with 45 cameras\u001b[0m\n",
      "\u001b[34mThere are 1 clusters with 47 cameras\u001b[0m\n",
      "\u001b[34mThere are 1 clusters with 52 cameras\u001b[0m\n",
      "\u001b[34mThere are 1 clusters with 53 cameras\u001b[0m\n",
      "\u001b[34mThere are 2 clusters with 54 cameras\u001b[0m\n",
      "\u001b[34mThere are 1 clusters with 56 cameras\u001b[0m\n",
      "\u001b[34mThere are 3 clusters with 57 cameras\u001b[0m\n",
      "\u001b[34mThere are 1 clusters with 58 cameras\u001b[0m\n",
      "\u001b[34mThere are 6 clusters with 59 cameras\u001b[0m\n",
      "\u001b[34mThere are 9 clusters with 60 cameras\u001b[0m\n",
      "\u001b[34mThere are 13 clusters with 61 cameras\u001b[0m\n",
      "\u001b[34mThere are 26 clusters with 62 cameras\u001b[0m\n",
      "\u001b[34mThere are 36 clusters with 63 cameras\u001b[0m\n",
      "\u001b[34mThere are 461 clusters with 64 cameras\u001b[0m\n",
      "\u001b[34mThere are 1 clusters with 90 cameras\u001b[0m\n",
      "\u001b[34mThere are 1 clusters with 119 cameras\u001b[0m\n",
      "\u001b[34mThere are 1 clusters with 120 cameras\u001b[0m\n",
      "\u001b[34mThere are 1 clusters with 122 cameras\u001b[0m\n",
      "\u001b[34mThere are 1 clusters with 123 cameras\u001b[0m\n",
      "\u001b[34mThere are 2 clusters with 125 cameras\u001b[0m\n",
      "\u001b[34mThere are 2 clusters with 126 cameras\u001b[0m\n",
      "\u001b[34mThere are 1 clusters with 127 cameras\u001b[0m\n",
      "\u001b[34mThere are 8 clusters with 128 cameras\u001b[0m\n",
      "Number of classes: 600\n",
      "\u001b[36mLearning Rate: 0.000228\u001b[0m\n",
      "encontrou modelos efficientnet. Carregando...\n",
      "encontrou modelos convnext. Carregando...\n",
      "encontrou modelos mobilenet. Carregando...\n",
      "encontrou modelos vgg16. Carregando...\n",
      "encontrou modelos resnet50. Carregando...\n",
      "encontrou modelos osnet. Carregando...\n",
      "encontrou modelos densenet121. Carregando...\n",
      "###============ Iteration number 14/90 ============###\n",
      "Extracting Online Features for efficientnet ...\n",
      "Features extracted in 199.85 seconds\n",
      "Computing jaccard distance...\n"
     ]
    },
    {
     "name": "stderr",
     "output_type": "stream",
     "text": [
      "bruteForceKnn is deprecated; call bfKnn instead\n"
     ]
    },
    {
     "name": "stdout",
     "output_type": "stream",
     "text": [
      "Jaccard distance computing time cost: 606.4250693321228\n",
      "Extracting Online Features for convnext ...\n",
      "Features extracted in 223.36 seconds\n",
      "Computing jaccard distance...\n"
     ]
    },
    {
     "name": "stderr",
     "output_type": "stream",
     "text": [
      "bruteForceKnn is deprecated; call bfKnn instead\n"
     ]
    },
    {
     "name": "stdout",
     "output_type": "stream",
     "text": [
      "Jaccard distance computing time cost: 559.2966692447662\n",
      "Extracting Online Features for mobilenet ...\n",
      "Features extracted in 258.35 seconds\n",
      "Computing jaccard distance...\n"
     ]
    },
    {
     "name": "stderr",
     "output_type": "stream",
     "text": [
      "bruteForceKnn is deprecated; call bfKnn instead\n"
     ]
    },
    {
     "name": "stdout",
     "output_type": "stream",
     "text": [
      "Jaccard distance computing time cost: 560.2823390960693\n",
      "Extracting Online Features for vgg16 ...\n",
      "Features extracted in 208.48 seconds\n",
      "Computing jaccard distance...\n"
     ]
    },
    {
     "name": "stderr",
     "output_type": "stream",
     "text": [
      "bruteForceKnn is deprecated; call bfKnn instead\n"
     ]
    },
    {
     "name": "stdout",
     "output_type": "stream",
     "text": [
      "Jaccard distance computing time cost: 646.7092704772949\n",
      "Extracting Online Features for resnet50 ...\n",
      "Features extracted in 212.64 seconds\n",
      "Computing jaccard distance...\n"
     ]
    },
    {
     "name": "stderr",
     "output_type": "stream",
     "text": [
      "bruteForceKnn is deprecated; call bfKnn instead\n"
     ]
    },
    {
     "name": "stdout",
     "output_type": "stream",
     "text": [
      "Jaccard distance computing time cost: 637.1740279197693\n",
      "Extracting Online Features for osnet ...\n",
      "Features extracted in 233.78 seconds\n",
      "Computing jaccard distance...\n"
     ]
    },
    {
     "name": "stderr",
     "output_type": "stream",
     "text": [
      "bruteForceKnn is deprecated; call bfKnn instead\n"
     ]
    },
    {
     "name": "stdout",
     "output_type": "stream",
     "text": [
      "Jaccard distance computing time cost: 651.4418435096741\n",
      "Extracting Online Features for densenet121 ...\n",
      "Features extracted in 213.97 seconds\n",
      "Computing jaccard distance...\n"
     ]
    },
    {
     "name": "stderr",
     "output_type": "stream",
     "text": [
      "bruteForceKnn is deprecated; call bfKnn instead\n"
     ]
    },
    {
     "name": "stdout",
     "output_type": "stream",
     "text": [
      "Jaccard distance computing time cost: 635.84583568573\n",
      "Reliability: 0.994\n",
      "\u001b[32mMean Purity: 0.01644\u001b[0m\n",
      "\u001b[34mThere are 2 clusters with 4 cameras\u001b[0m\n",
      "\u001b[34mThere are 3 clusters with 5 cameras\u001b[0m\n",
      "\u001b[34mThere are 2 clusters with 6 cameras\u001b[0m\n",
      "\u001b[34mThere are 2 clusters with 7 cameras\u001b[0m\n",
      "\u001b[34mThere are 2 clusters with 9 cameras\u001b[0m\n",
      "\u001b[34mThere are 1 clusters with 11 cameras\u001b[0m\n",
      "\u001b[34mThere are 1 clusters with 12 cameras\u001b[0m\n",
      "\u001b[34mThere are 1 clusters with 16 cameras\u001b[0m\n",
      "\u001b[34mThere are 1 clusters with 17 cameras\u001b[0m\n",
      "\u001b[34mThere are 1 clusters with 19 cameras\u001b[0m\n",
      "\u001b[34mThere are 1 clusters with 27 cameras\u001b[0m\n",
      "\u001b[34mThere are 1 clusters with 31 cameras\u001b[0m\n",
      "\u001b[34mThere are 1 clusters with 32 cameras\u001b[0m\n",
      "\u001b[34mThere are 1 clusters with 41 cameras\u001b[0m\n",
      "\u001b[34mThere are 1 clusters with 45 cameras\u001b[0m\n",
      "\u001b[34mThere are 1 clusters with 47 cameras\u001b[0m\n",
      "\u001b[34mThere are 1 clusters with 52 cameras\u001b[0m\n",
      "\u001b[34mThere are 1 clusters with 53 cameras\u001b[0m\n",
      "\u001b[34mThere are 2 clusters with 54 cameras\u001b[0m\n",
      "\u001b[34mThere are 1 clusters with 56 cameras\u001b[0m\n",
      "\u001b[34mThere are 3 clusters with 57 cameras\u001b[0m\n",
      "\u001b[34mThere are 1 clusters with 58 cameras\u001b[0m\n",
      "\u001b[34mThere are 6 clusters with 59 cameras\u001b[0m\n",
      "\u001b[34mThere are 9 clusters with 60 cameras\u001b[0m\n",
      "\u001b[34mThere are 13 clusters with 61 cameras\u001b[0m\n",
      "\u001b[34mThere are 26 clusters with 62 cameras\u001b[0m\n",
      "\u001b[34mThere are 36 clusters with 63 cameras\u001b[0m\n",
      "\u001b[34mThere are 461 clusters with 64 cameras\u001b[0m\n",
      "\u001b[34mThere are 1 clusters with 90 cameras\u001b[0m\n",
      "\u001b[34mThere are 1 clusters with 119 cameras\u001b[0m\n",
      "\u001b[34mThere are 1 clusters with 120 cameras\u001b[0m\n",
      "\u001b[34mThere are 1 clusters with 122 cameras\u001b[0m\n",
      "\u001b[34mThere are 1 clusters with 123 cameras\u001b[0m\n",
      "\u001b[34mThere are 2 clusters with 125 cameras\u001b[0m\n",
      "\u001b[34mThere are 2 clusters with 126 cameras\u001b[0m\n",
      "\u001b[34mThere are 1 clusters with 127 cameras\u001b[0m\n",
      "\u001b[34mThere are 8 clusters with 128 cameras\u001b[0m\n",
      "Number of classes: 600\n",
      "\u001b[36mLearning Rate: 0.000245\u001b[0m\n",
      "encontrou modelos efficientnet. Carregando...\n",
      "encontrou modelos convnext. Carregando...\n",
      "encontrou modelos mobilenet. Carregando...\n",
      "encontrou modelos vgg16. Carregando...\n",
      "encontrou modelos resnet50. Carregando...\n",
      "encontrou modelos osnet. Carregando...\n",
      "encontrou modelos densenet121. Carregando...\n",
      "###============ Iteration number 15/90 ============###\n",
      "Extracting Online Features for efficientnet ...\n",
      "Features extracted in 296.37 seconds\n",
      "Computing jaccard distance...\n"
     ]
    },
    {
     "name": "stderr",
     "output_type": "stream",
     "text": [
      "bruteForceKnn is deprecated; call bfKnn instead\n"
     ]
    },
    {
     "name": "stdout",
     "output_type": "stream",
     "text": [
      "Jaccard distance computing time cost: 666.6033937931061\n",
      "Extracting Online Features for convnext ...\n",
      "Features extracted in 211.18 seconds\n",
      "Computing jaccard distance...\n"
     ]
    },
    {
     "name": "stderr",
     "output_type": "stream",
     "text": [
      "bruteForceKnn is deprecated; call bfKnn instead\n"
     ]
    },
    {
     "name": "stdout",
     "output_type": "stream",
     "text": [
      "Jaccard distance computing time cost: 570.3578832149506\n",
      "Extracting Online Features for mobilenet ...\n",
      "Features extracted in 288.50 seconds\n",
      "Computing jaccard distance...\n"
     ]
    },
    {
     "name": "stderr",
     "output_type": "stream",
     "text": [
      "bruteForceKnn is deprecated; call bfKnn instead\n"
     ]
    },
    {
     "name": "stdout",
     "output_type": "stream",
     "text": [
      "Jaccard distance computing time cost: 573.7109649181366\n",
      "Extracting Online Features for vgg16 ...\n",
      "Features extracted in 292.22 seconds\n",
      "Computing jaccard distance...\n"
     ]
    },
    {
     "name": "stderr",
     "output_type": "stream",
     "text": [
      "bruteForceKnn is deprecated; call bfKnn instead\n"
     ]
    },
    {
     "name": "stdout",
     "output_type": "stream",
     "text": [
      "Jaccard distance computing time cost: 571.1896948814392\n",
      "Extracting Online Features for resnet50 ...\n",
      "Features extracted in 305.05 seconds\n",
      "Computing jaccard distance...\n"
     ]
    },
    {
     "name": "stderr",
     "output_type": "stream",
     "text": [
      "bruteForceKnn is deprecated; call bfKnn instead\n"
     ]
    },
    {
     "name": "stdout",
     "output_type": "stream",
     "text": [
      "Jaccard distance computing time cost: 575.4494366645813\n",
      "Extracting Online Features for osnet ...\n",
      "Features extracted in 299.67 seconds\n",
      "Computing jaccard distance...\n"
     ]
    },
    {
     "name": "stderr",
     "output_type": "stream",
     "text": [
      "bruteForceKnn is deprecated; call bfKnn instead\n"
     ]
    },
    {
     "name": "stdout",
     "output_type": "stream",
     "text": [
      "Jaccard distance computing time cost: 623.0657153129578\n",
      "Extracting Online Features for densenet121 ...\n",
      "Features extracted in 275.22 seconds\n",
      "Computing jaccard distance...\n"
     ]
    },
    {
     "name": "stderr",
     "output_type": "stream",
     "text": [
      "bruteForceKnn is deprecated; call bfKnn instead\n"
     ]
    },
    {
     "name": "stdout",
     "output_type": "stream",
     "text": [
      "Jaccard distance computing time cost: 557.0436539649963\n",
      "Reliability: 0.994\n",
      "\u001b[32mMean Purity: 0.01644\u001b[0m\n",
      "\u001b[34mThere are 2 clusters with 4 cameras\u001b[0m\n",
      "\u001b[34mThere are 3 clusters with 5 cameras\u001b[0m\n",
      "\u001b[34mThere are 2 clusters with 6 cameras\u001b[0m\n",
      "\u001b[34mThere are 2 clusters with 7 cameras\u001b[0m\n",
      "\u001b[34mThere are 2 clusters with 9 cameras\u001b[0m\n",
      "\u001b[34mThere are 1 clusters with 11 cameras\u001b[0m\n",
      "\u001b[34mThere are 1 clusters with 12 cameras\u001b[0m\n",
      "\u001b[34mThere are 1 clusters with 16 cameras\u001b[0m\n",
      "\u001b[34mThere are 1 clusters with 17 cameras\u001b[0m\n",
      "\u001b[34mThere are 1 clusters with 19 cameras\u001b[0m\n",
      "\u001b[34mThere are 1 clusters with 27 cameras\u001b[0m\n",
      "\u001b[34mThere are 1 clusters with 31 cameras\u001b[0m\n",
      "\u001b[34mThere are 1 clusters with 32 cameras\u001b[0m\n",
      "\u001b[34mThere are 1 clusters with 41 cameras\u001b[0m\n",
      "\u001b[34mThere are 1 clusters with 45 cameras\u001b[0m\n",
      "\u001b[34mThere are 1 clusters with 47 cameras\u001b[0m\n",
      "\u001b[34mThere are 1 clusters with 52 cameras\u001b[0m\n",
      "\u001b[34mThere are 1 clusters with 53 cameras\u001b[0m\n",
      "\u001b[34mThere are 2 clusters with 54 cameras\u001b[0m\n",
      "\u001b[34mThere are 1 clusters with 56 cameras\u001b[0m\n",
      "\u001b[34mThere are 3 clusters with 57 cameras\u001b[0m\n",
      "\u001b[34mThere are 1 clusters with 58 cameras\u001b[0m\n",
      "\u001b[34mThere are 6 clusters with 59 cameras\u001b[0m\n",
      "\u001b[34mThere are 9 clusters with 60 cameras\u001b[0m\n",
      "\u001b[34mThere are 13 clusters with 61 cameras\u001b[0m\n",
      "\u001b[34mThere are 26 clusters with 62 cameras\u001b[0m\n",
      "\u001b[34mThere are 36 clusters with 63 cameras\u001b[0m\n",
      "\u001b[34mThere are 461 clusters with 64 cameras\u001b[0m\n",
      "\u001b[34mThere are 1 clusters with 90 cameras\u001b[0m\n",
      "\u001b[34mThere are 1 clusters with 119 cameras\u001b[0m\n",
      "\u001b[34mThere are 1 clusters with 120 cameras\u001b[0m\n",
      "\u001b[34mThere are 1 clusters with 122 cameras\u001b[0m\n",
      "\u001b[34mThere are 1 clusters with 123 cameras\u001b[0m\n",
      "\u001b[34mThere are 2 clusters with 125 cameras\u001b[0m\n",
      "\u001b[34mThere are 2 clusters with 126 cameras\u001b[0m\n",
      "\u001b[34mThere are 1 clusters with 127 cameras\u001b[0m\n",
      "\u001b[34mThere are 8 clusters with 128 cameras\u001b[0m\n",
      "Number of classes: 600\n",
      "\u001b[36mLearning Rate: 0.000263\u001b[0m\n",
      "encontrou modelos efficientnet. Carregando...\n",
      "encontrou modelos convnext. Carregando...\n",
      "encontrou modelos mobilenet. Carregando...\n",
      "encontrou modelos vgg16. Carregando...\n",
      "encontrou modelos resnet50. Carregando...\n",
      "encontrou modelos osnet. Carregando...\n",
      "encontrou modelos densenet121. Carregando...\n",
      "\u001b[33mValidating online efficientnet ...\u001b[0m\n",
      "Features extracted in 86.08 seconds\n",
      "Features extracted in 134.59 seconds\n",
      "Computing CMC and mAP ...\n",
      "** Results **\n",
      "mAP: 69.91%\n",
      "CMC curve\n",
      "Rank-1  : 73.59%\n",
      "Rank-5  : 94.54%\n",
      "Rank-10 : 97.70%\n",
      "Rank-20 : 99.20%\n",
      "\u001b[33mValidating momentum efficientnet ...\u001b[0m\n",
      "Features extracted in 62.01 seconds\n",
      "Features extracted in 127.77 seconds\n",
      "Computing CMC and mAP ...\n",
      "** Results **\n",
      "mAP: 70.66%\n",
      "CMC curve\n",
      "Rank-1  : 76.80%\n",
      "Rank-5  : 93.39%\n",
      "Rank-10 : 96.79%\n",
      "Rank-20 : 98.68%\n",
      "\u001b[33mValidating online convnext ...\u001b[0m\n",
      "Features extracted in 64.08 seconds\n",
      "Features extracted in 132.58 seconds\n",
      "Computing CMC and mAP ...\n",
      "** Results **\n",
      "mAP: 70.08%\n",
      "CMC curve\n",
      "Rank-1  : 75.63%\n",
      "Rank-5  : 92.61%\n",
      "Rank-10 : 96.93%\n",
      "Rank-20 : 99.29%\n",
      "\u001b[33mValidating momentum convnext ...\u001b[0m\n",
      "Features extracted in 63.74 seconds\n",
      "Features extracted in 135.57 seconds\n",
      "Computing CMC and mAP ...\n",
      "** Results **\n",
      "mAP: 70.46%\n",
      "CMC curve\n",
      "Rank-1  : 77.49%\n",
      "Rank-5  : 93.71%\n",
      "Rank-10 : 96.84%\n",
      "Rank-20 : 98.71%\n",
      "\u001b[33mValidating online mobilenet ...\u001b[0m\n",
      "Features extracted in 59.77 seconds\n",
      "Features extracted in 123.13 seconds\n",
      "Computing CMC and mAP ...\n",
      "** Results **\n",
      "mAP: 71.39%\n",
      "CMC curve\n",
      "Rank-1  : 81.53%\n",
      "Rank-5  : 95.41%\n",
      "Rank-10 : 98.02%\n",
      "Rank-20 : 99.18%\n",
      "\u001b[33mValidating momentum mobilenet ...\u001b[0m\n",
      "Features extracted in 61.26 seconds\n",
      "Features extracted in 123.53 seconds\n",
      "Computing CMC and mAP ...\n",
      "** Results **\n",
      "mAP: 70.86%\n",
      "CMC curve\n",
      "Rank-1  : 78.95%\n",
      "Rank-5  : 93.89%\n",
      "Rank-10 : 97.47%\n",
      "Rank-20 : 99.27%\n",
      "\u001b[33mValidating online vgg16 ...\u001b[0m\n",
      "Features extracted in 63.35 seconds\n",
      "Features extracted in 132.11 seconds\n",
      "Computing CMC and mAP ...\n",
      "** Results **\n",
      "mAP: 69.67%\n",
      "CMC curve\n",
      "Rank-1  : 74.49%\n",
      "Rank-5  : 92.27%\n",
      "Rank-10 : 96.56%\n",
      "Rank-20 : 99.05%\n",
      "\u001b[33mValidating momentum vgg16 ...\u001b[0m\n",
      "Features extracted in 64.83 seconds\n",
      "Features extracted in 130.64 seconds\n",
      "Computing CMC and mAP ...\n",
      "** Results **\n",
      "mAP: 69.72%\n",
      "CMC curve\n",
      "Rank-1  : 75.80%\n",
      "Rank-5  : 92.91%\n",
      "Rank-10 : 97.25%\n",
      "Rank-20 : 99.09%\n",
      "\u001b[33mValidating online resnet50 ...\u001b[0m\n",
      "Features extracted in 64.55 seconds\n",
      "Features extracted in 127.29 seconds\n",
      "Computing CMC and mAP ...\n",
      "** Results **\n",
      "mAP: 69.64%\n",
      "CMC curve\n",
      "Rank-1  : 70.07%\n",
      "Rank-5  : 91.28%\n",
      "Rank-10 : 96.04%\n",
      "Rank-20 : 98.68%\n",
      "\u001b[33mValidating momentum resnet50 ...\u001b[0m\n",
      "Features extracted in 63.24 seconds\n",
      "Features extracted in 128.09 seconds\n",
      "Computing CMC and mAP ...\n",
      "** Results **\n",
      "mAP: 70.02%\n",
      "CMC curve\n",
      "Rank-1  : 73.39%\n",
      "Rank-5  : 93.49%\n",
      "Rank-10 : 97.50%\n",
      "Rank-20 : 99.37%\n",
      "\u001b[33mValidating online osnet ...\u001b[0m\n",
      "Features extracted in 66.98 seconds\n",
      "Features extracted in 126.90 seconds\n",
      "Computing CMC and mAP ...\n",
      "** Results **\n",
      "mAP: 68.61%\n",
      "CMC curve\n",
      "Rank-1  : 73.02%\n",
      "Rank-5  : 95.04%\n",
      "Rank-10 : 98.36%\n",
      "Rank-20 : 99.48%\n",
      "\u001b[33mValidating momentum osnet ...\u001b[0m\n",
      "Features extracted in 62.82 seconds\n",
      "Features extracted in 127.66 seconds\n",
      "Computing CMC and mAP ...\n",
      "** Results **\n",
      "mAP: 69.41%\n",
      "CMC curve\n",
      "Rank-1  : 73.33%\n",
      "Rank-5  : 93.05%\n",
      "Rank-10 : 97.14%\n",
      "Rank-20 : 99.12%\n",
      "\u001b[33mValidating online densenet121 ...\u001b[0m\n",
      "Features extracted in 63.62 seconds\n",
      "Features extracted in 128.63 seconds\n",
      "Computing CMC and mAP ...\n",
      "** Results **\n",
      "mAP: 70.12%\n",
      "CMC curve\n",
      "Rank-1  : 75.15%\n",
      "Rank-5  : 92.89%\n",
      "Rank-10 : 97.00%\n",
      "Rank-20 : 98.95%\n",
      "\u001b[33mValidating momentum densenet121 ...\u001b[0m\n",
      "Features extracted in 65.13 seconds\n",
      "Features extracted in 130.35 seconds\n",
      "Computing CMC and mAP ...\n",
      "** Results **\n",
      "mAP: 69.53%\n",
      "CMC curve\n",
      "Rank-1  : 75.91%\n",
      "Rank-5  : 93.33%\n",
      "Rank-10 : 97.31%\n",
      "Rank-20 : 99.25%\n",
      "\u001b[33mValidating ensembled with online models ...\u001b[0m\n",
      "Computing CMC and mAP ...\n",
      "** Results **\n",
      "mAP: 71.17%\n",
      "Ranks:\n",
      "Rank-1  : 78.73%\n",
      "Rank-5  : 92.94%\n",
      "Rank-10 : 96.83%\n",
      "\u001b[33mValidating ensembled with momentum models ...\u001b[0m\n",
      "Computing CMC and mAP ...\n",
      "** Results **\n",
      "mAP: 71.11%\n",
      "Ranks:\n",
      "Rank-1  : 79.83%\n",
      "Rank-5  : 92.92%\n",
      "Rank-10 : 96.74%\n",
      "###============ Iteration number 16/90 ============###\n",
      "Extracting Online Features for efficientnet ...\n",
      "Features extracted in 199.81 seconds\n",
      "Computing jaccard distance...\n"
     ]
    },
    {
     "name": "stderr",
     "output_type": "stream",
     "text": [
      "bruteForceKnn is deprecated; call bfKnn instead\n"
     ]
    },
    {
     "name": "stdout",
     "output_type": "stream",
     "text": [
      "Jaccard distance computing time cost: 538.8977603912354\n",
      "Extracting Online Features for convnext ...\n",
      "Features extracted in 237.94 seconds\n",
      "Computing jaccard distance...\n"
     ]
    },
    {
     "name": "stderr",
     "output_type": "stream",
     "text": [
      "bruteForceKnn is deprecated; call bfKnn instead\n"
     ]
    },
    {
     "name": "stdout",
     "output_type": "stream",
     "text": [
      "Jaccard distance computing time cost: 552.6584560871124\n",
      "Extracting Online Features for mobilenet ...\n",
      "Features extracted in 205.15 seconds\n",
      "Computing jaccard distance...\n"
     ]
    },
    {
     "name": "stderr",
     "output_type": "stream",
     "text": [
      "bruteForceKnn is deprecated; call bfKnn instead\n"
     ]
    },
    {
     "name": "stdout",
     "output_type": "stream",
     "text": [
      "Jaccard distance computing time cost: 576.647843837738\n",
      "Extracting Online Features for vgg16 ...\n",
      "Features extracted in 218.37 seconds\n",
      "Computing jaccard distance...\n"
     ]
    },
    {
     "name": "stderr",
     "output_type": "stream",
     "text": [
      "bruteForceKnn is deprecated; call bfKnn instead\n"
     ]
    },
    {
     "name": "stdout",
     "output_type": "stream",
     "text": [
      "Jaccard distance computing time cost: 567.415198802948\n",
      "Extracting Online Features for resnet50 ...\n",
      "Features extracted in 208.99 seconds\n",
      "Computing jaccard distance...\n"
     ]
    },
    {
     "name": "stderr",
     "output_type": "stream",
     "text": [
      "bruteForceKnn is deprecated; call bfKnn instead\n"
     ]
    },
    {
     "name": "stdout",
     "output_type": "stream",
     "text": [
      "Jaccard distance computing time cost: 618.6450846195221\n",
      "Extracting Online Features for osnet ...\n",
      "Features extracted in 205.52 seconds\n",
      "Computing jaccard distance...\n"
     ]
    },
    {
     "name": "stderr",
     "output_type": "stream",
     "text": [
      "bruteForceKnn is deprecated; call bfKnn instead\n"
     ]
    },
    {
     "name": "stdout",
     "output_type": "stream",
     "text": [
      "Jaccard distance computing time cost: 557.0339252948761\n",
      "Extracting Online Features for densenet121 ...\n",
      "Features extracted in 299.13 seconds\n",
      "Computing jaccard distance...\n"
     ]
    },
    {
     "name": "stderr",
     "output_type": "stream",
     "text": [
      "bruteForceKnn is deprecated; call bfKnn instead\n"
     ]
    },
    {
     "name": "stdout",
     "output_type": "stream",
     "text": [
      "Jaccard distance computing time cost: 581.7407011985779\n",
      "Reliability: 0.994\n",
      "\u001b[32mMean Purity: 0.01644\u001b[0m\n",
      "\u001b[34mThere are 2 clusters with 4 cameras\u001b[0m\n",
      "\u001b[34mThere are 3 clusters with 5 cameras\u001b[0m\n",
      "\u001b[34mThere are 2 clusters with 6 cameras\u001b[0m\n",
      "\u001b[34mThere are 2 clusters with 7 cameras\u001b[0m\n",
      "\u001b[34mThere are 2 clusters with 9 cameras\u001b[0m\n",
      "\u001b[34mThere are 1 clusters with 11 cameras\u001b[0m\n",
      "\u001b[34mThere are 1 clusters with 12 cameras\u001b[0m\n",
      "\u001b[34mThere are 1 clusters with 16 cameras\u001b[0m\n",
      "\u001b[34mThere are 1 clusters with 17 cameras\u001b[0m\n",
      "\u001b[34mThere are 1 clusters with 19 cameras\u001b[0m\n",
      "\u001b[34mThere are 1 clusters with 27 cameras\u001b[0m\n",
      "\u001b[34mThere are 1 clusters with 31 cameras\u001b[0m\n",
      "\u001b[34mThere are 1 clusters with 32 cameras\u001b[0m\n",
      "\u001b[34mThere are 1 clusters with 41 cameras\u001b[0m\n",
      "\u001b[34mThere are 1 clusters with 45 cameras\u001b[0m\n",
      "\u001b[34mThere are 1 clusters with 47 cameras\u001b[0m\n",
      "\u001b[34mThere are 1 clusters with 52 cameras\u001b[0m\n",
      "\u001b[34mThere are 1 clusters with 53 cameras\u001b[0m\n",
      "\u001b[34mThere are 2 clusters with 54 cameras\u001b[0m\n",
      "\u001b[34mThere are 1 clusters with 56 cameras\u001b[0m\n",
      "\u001b[34mThere are 3 clusters with 57 cameras\u001b[0m\n",
      "\u001b[34mThere are 1 clusters with 58 cameras\u001b[0m\n",
      "\u001b[34mThere are 6 clusters with 59 cameras\u001b[0m\n",
      "\u001b[34mThere are 9 clusters with 60 cameras\u001b[0m\n",
      "\u001b[34mThere are 13 clusters with 61 cameras\u001b[0m\n",
      "\u001b[34mThere are 26 clusters with 62 cameras\u001b[0m\n",
      "\u001b[34mThere are 36 clusters with 63 cameras\u001b[0m\n",
      "\u001b[34mThere are 461 clusters with 64 cameras\u001b[0m\n",
      "\u001b[34mThere are 1 clusters with 90 cameras\u001b[0m\n",
      "\u001b[34mThere are 1 clusters with 119 cameras\u001b[0m\n",
      "\u001b[34mThere are 1 clusters with 120 cameras\u001b[0m\n",
      "\u001b[34mThere are 1 clusters with 122 cameras\u001b[0m\n",
      "\u001b[34mThere are 1 clusters with 123 cameras\u001b[0m\n",
      "\u001b[34mThere are 2 clusters with 125 cameras\u001b[0m\n",
      "\u001b[34mThere are 2 clusters with 126 cameras\u001b[0m\n",
      "\u001b[34mThere are 1 clusters with 127 cameras\u001b[0m\n",
      "\u001b[34mThere are 8 clusters with 128 cameras\u001b[0m\n",
      "Number of classes: 600\n",
      "\u001b[36mLearning Rate: 0.000280\u001b[0m\n",
      "encontrou modelos efficientnet. Carregando...\n",
      "encontrou modelos convnext. Carregando...\n",
      "encontrou modelos mobilenet. Carregando...\n",
      "encontrou modelos vgg16. Carregando...\n",
      "encontrou modelos resnet50. Carregando...\n",
      "encontrou modelos osnet. Carregando...\n",
      "encontrou modelos densenet121. Carregando...\n",
      "###============ Iteration number 17/90 ============###\n",
      "Extracting Online Features for efficientnet ...\n",
      "Features extracted in 296.72 seconds\n",
      "Computing jaccard distance...\n"
     ]
    },
    {
     "name": "stderr",
     "output_type": "stream",
     "text": [
      "bruteForceKnn is deprecated; call bfKnn instead\n"
     ]
    },
    {
     "name": "stdout",
     "output_type": "stream",
     "text": [
      "Jaccard distance computing time cost: 562.8692710399628\n",
      "Extracting Online Features for convnext ...\n",
      "Features extracted in 299.68 seconds\n",
      "Computing jaccard distance...\n"
     ]
    },
    {
     "name": "stderr",
     "output_type": "stream",
     "text": [
      "bruteForceKnn is deprecated; call bfKnn instead\n"
     ]
    },
    {
     "name": "stdout",
     "output_type": "stream",
     "text": [
      "Jaccard distance computing time cost: 571.329158782959\n",
      "Extracting Online Features for mobilenet ...\n",
      "Features extracted in 293.66 seconds\n",
      "Computing jaccard distance...\n"
     ]
    },
    {
     "name": "stderr",
     "output_type": "stream",
     "text": [
      "bruteForceKnn is deprecated; call bfKnn instead\n"
     ]
    },
    {
     "name": "stdout",
     "output_type": "stream",
     "text": [
      "Jaccard distance computing time cost: 613.2901608943939\n",
      "Extracting Online Features for vgg16 ...\n",
      "Features extracted in 270.94 seconds\n",
      "Computing jaccard distance...\n"
     ]
    },
    {
     "name": "stderr",
     "output_type": "stream",
     "text": [
      "bruteForceKnn is deprecated; call bfKnn instead\n"
     ]
    },
    {
     "name": "stdout",
     "output_type": "stream",
     "text": [
      "Jaccard distance computing time cost: 649.0650281906128\n",
      "Extracting Online Features for resnet50 ...\n",
      "Features extracted in 291.84 seconds\n",
      "Computing jaccard distance...\n"
     ]
    },
    {
     "name": "stderr",
     "output_type": "stream",
     "text": [
      "bruteForceKnn is deprecated; call bfKnn instead\n"
     ]
    },
    {
     "name": "stdout",
     "output_type": "stream",
     "text": [
      "Jaccard distance computing time cost: 653.3242971897125\n",
      "Extracting Online Features for osnet ...\n",
      "Features extracted in 294.15 seconds\n",
      "Computing jaccard distance...\n"
     ]
    },
    {
     "name": "stderr",
     "output_type": "stream",
     "text": [
      "bruteForceKnn is deprecated; call bfKnn instead\n"
     ]
    },
    {
     "name": "stdout",
     "output_type": "stream",
     "text": [
      "Jaccard distance computing time cost: 668.298965215683\n",
      "Extracting Online Features for densenet121 ...\n",
      "Features extracted in 294.56 seconds\n",
      "Computing jaccard distance...\n"
     ]
    },
    {
     "name": "stderr",
     "output_type": "stream",
     "text": [
      "bruteForceKnn is deprecated; call bfKnn instead\n"
     ]
    },
    {
     "name": "stdout",
     "output_type": "stream",
     "text": [
      "Jaccard distance computing time cost: 570.7313330173492\n",
      "Reliability: 0.994\n",
      "\u001b[32mMean Purity: 0.01644\u001b[0m\n",
      "\u001b[34mThere are 2 clusters with 4 cameras\u001b[0m\n",
      "\u001b[34mThere are 3 clusters with 5 cameras\u001b[0m\n",
      "\u001b[34mThere are 2 clusters with 6 cameras\u001b[0m\n",
      "\u001b[34mThere are 2 clusters with 7 cameras\u001b[0m\n",
      "\u001b[34mThere are 2 clusters with 9 cameras\u001b[0m\n",
      "\u001b[34mThere are 1 clusters with 11 cameras\u001b[0m\n",
      "\u001b[34mThere are 1 clusters with 12 cameras\u001b[0m\n",
      "\u001b[34mThere are 1 clusters with 16 cameras\u001b[0m\n",
      "\u001b[34mThere are 1 clusters with 17 cameras\u001b[0m\n",
      "\u001b[34mThere are 1 clusters with 19 cameras\u001b[0m\n",
      "\u001b[34mThere are 1 clusters with 27 cameras\u001b[0m\n",
      "\u001b[34mThere are 1 clusters with 31 cameras\u001b[0m\n",
      "\u001b[34mThere are 1 clusters with 32 cameras\u001b[0m\n",
      "\u001b[34mThere are 1 clusters with 41 cameras\u001b[0m\n",
      "\u001b[34mThere are 1 clusters with 45 cameras\u001b[0m\n",
      "\u001b[34mThere are 1 clusters with 47 cameras\u001b[0m\n",
      "\u001b[34mThere are 1 clusters with 52 cameras\u001b[0m\n",
      "\u001b[34mThere are 1 clusters with 53 cameras\u001b[0m\n",
      "\u001b[34mThere are 2 clusters with 54 cameras\u001b[0m\n",
      "\u001b[34mThere are 1 clusters with 56 cameras\u001b[0m\n",
      "\u001b[34mThere are 3 clusters with 57 cameras\u001b[0m\n",
      "\u001b[34mThere are 1 clusters with 58 cameras\u001b[0m\n",
      "\u001b[34mThere are 6 clusters with 59 cameras\u001b[0m\n",
      "\u001b[34mThere are 9 clusters with 60 cameras\u001b[0m\n",
      "\u001b[34mThere are 13 clusters with 61 cameras\u001b[0m\n",
      "\u001b[34mThere are 26 clusters with 62 cameras\u001b[0m\n",
      "\u001b[34mThere are 36 clusters with 63 cameras\u001b[0m\n",
      "\u001b[34mThere are 461 clusters with 64 cameras\u001b[0m\n",
      "\u001b[34mThere are 1 clusters with 90 cameras\u001b[0m\n",
      "\u001b[34mThere are 1 clusters with 119 cameras\u001b[0m\n",
      "\u001b[34mThere are 1 clusters with 120 cameras\u001b[0m\n",
      "\u001b[34mThere are 1 clusters with 122 cameras\u001b[0m\n",
      "\u001b[34mThere are 1 clusters with 123 cameras\u001b[0m\n",
      "\u001b[34mThere are 2 clusters with 125 cameras\u001b[0m\n",
      "\u001b[34mThere are 2 clusters with 126 cameras\u001b[0m\n",
      "\u001b[34mThere are 1 clusters with 127 cameras\u001b[0m\n",
      "\u001b[34mThere are 8 clusters with 128 cameras\u001b[0m\n",
      "Number of classes: 600\n",
      "\u001b[36mLearning Rate: 0.000298\u001b[0m\n",
      "encontrou modelos efficientnet. Carregando...\n",
      "encontrou modelos convnext. Carregando...\n",
      "encontrou modelos mobilenet. Carregando...\n",
      "encontrou modelos vgg16. Carregando...\n",
      "encontrou modelos resnet50. Carregando...\n",
      "encontrou modelos osnet. Carregando...\n",
      "encontrou modelos densenet121. Carregando...\n",
      "###============ Iteration number 18/90 ============###\n",
      "Extracting Online Features for efficientnet ...\n",
      "Features extracted in 204.69 seconds\n",
      "Computing jaccard distance...\n"
     ]
    },
    {
     "name": "stderr",
     "output_type": "stream",
     "text": [
      "bruteForceKnn is deprecated; call bfKnn instead\n"
     ]
    },
    {
     "name": "stdout",
     "output_type": "stream",
     "text": [
      "Jaccard distance computing time cost: 559.4241361618042\n",
      "Extracting Online Features for convnext ...\n",
      "Features extracted in 218.56 seconds\n",
      "Computing jaccard distance...\n"
     ]
    },
    {
     "name": "stderr",
     "output_type": "stream",
     "text": [
      "bruteForceKnn is deprecated; call bfKnn instead\n"
     ]
    },
    {
     "name": "stdout",
     "output_type": "stream",
     "text": [
      "Jaccard distance computing time cost: 568.721363067627\n",
      "Extracting Online Features for mobilenet ...\n",
      "Features extracted in 209.38 seconds\n",
      "Computing jaccard distance...\n"
     ]
    },
    {
     "name": "stderr",
     "output_type": "stream",
     "text": [
      "bruteForceKnn is deprecated; call bfKnn instead\n"
     ]
    },
    {
     "name": "stdout",
     "output_type": "stream",
     "text": [
      "Jaccard distance computing time cost: 569.7471551895142\n",
      "Extracting Online Features for vgg16 ...\n",
      "Features extracted in 211.47 seconds\n",
      "Computing jaccard distance...\n"
     ]
    },
    {
     "name": "stderr",
     "output_type": "stream",
     "text": [
      "bruteForceKnn is deprecated; call bfKnn instead\n"
     ]
    },
    {
     "name": "stdout",
     "output_type": "stream",
     "text": [
      "Jaccard distance computing time cost: 638.4807388782501\n",
      "Extracting Online Features for resnet50 ...\n",
      "Features extracted in 293.73 seconds\n",
      "Computing jaccard distance...\n"
     ]
    },
    {
     "name": "stderr",
     "output_type": "stream",
     "text": [
      "bruteForceKnn is deprecated; call bfKnn instead\n"
     ]
    },
    {
     "name": "stdout",
     "output_type": "stream",
     "text": [
      "Jaccard distance computing time cost: 604.1629147529602\n",
      "Extracting Online Features for osnet ...\n",
      "Features extracted in 290.15 seconds\n",
      "Computing jaccard distance...\n"
     ]
    },
    {
     "name": "stderr",
     "output_type": "stream",
     "text": [
      "bruteForceKnn is deprecated; call bfKnn instead\n"
     ]
    },
    {
     "name": "stdout",
     "output_type": "stream",
     "text": [
      "Jaccard distance computing time cost: 597.8700258731842\n",
      "Extracting Online Features for densenet121 ...\n",
      "Features extracted in 218.56 seconds\n",
      "Computing jaccard distance...\n"
     ]
    },
    {
     "name": "stderr",
     "output_type": "stream",
     "text": [
      "bruteForceKnn is deprecated; call bfKnn instead\n"
     ]
    },
    {
     "name": "stdout",
     "output_type": "stream",
     "text": [
      "Jaccard distance computing time cost: 615.9831190109253\n",
      "Reliability: 0.994\n",
      "\u001b[32mMean Purity: 0.01644\u001b[0m\n",
      "\u001b[34mThere are 2 clusters with 4 cameras\u001b[0m\n",
      "\u001b[34mThere are 3 clusters with 5 cameras\u001b[0m\n",
      "\u001b[34mThere are 2 clusters with 6 cameras\u001b[0m\n",
      "\u001b[34mThere are 2 clusters with 7 cameras\u001b[0m\n",
      "\u001b[34mThere are 2 clusters with 9 cameras\u001b[0m\n",
      "\u001b[34mThere are 1 clusters with 11 cameras\u001b[0m\n",
      "\u001b[34mThere are 1 clusters with 12 cameras\u001b[0m\n",
      "\u001b[34mThere are 1 clusters with 16 cameras\u001b[0m\n",
      "\u001b[34mThere are 1 clusters with 17 cameras\u001b[0m\n",
      "\u001b[34mThere are 1 clusters with 19 cameras\u001b[0m\n",
      "\u001b[34mThere are 1 clusters with 27 cameras\u001b[0m\n",
      "\u001b[34mThere are 1 clusters with 31 cameras\u001b[0m\n",
      "\u001b[34mThere are 1 clusters with 32 cameras\u001b[0m\n",
      "\u001b[34mThere are 1 clusters with 41 cameras\u001b[0m\n",
      "\u001b[34mThere are 1 clusters with 45 cameras\u001b[0m\n",
      "\u001b[34mThere are 1 clusters with 47 cameras\u001b[0m\n",
      "\u001b[34mThere are 1 clusters with 52 cameras\u001b[0m\n",
      "\u001b[34mThere are 1 clusters with 53 cameras\u001b[0m\n",
      "\u001b[34mThere are 2 clusters with 54 cameras\u001b[0m\n",
      "\u001b[34mThere are 1 clusters with 56 cameras\u001b[0m\n",
      "\u001b[34mThere are 3 clusters with 57 cameras\u001b[0m\n",
      "\u001b[34mThere are 1 clusters with 58 cameras\u001b[0m\n",
      "\u001b[34mThere are 6 clusters with 59 cameras\u001b[0m\n",
      "\u001b[34mThere are 9 clusters with 60 cameras\u001b[0m\n",
      "\u001b[34mThere are 13 clusters with 61 cameras\u001b[0m\n",
      "\u001b[34mThere are 26 clusters with 62 cameras\u001b[0m\n",
      "\u001b[34mThere are 36 clusters with 63 cameras\u001b[0m\n",
      "\u001b[34mThere are 461 clusters with 64 cameras\u001b[0m\n",
      "\u001b[34mThere are 1 clusters with 90 cameras\u001b[0m\n",
      "\u001b[34mThere are 1 clusters with 119 cameras\u001b[0m\n",
      "\u001b[34mThere are 1 clusters with 120 cameras\u001b[0m\n",
      "\u001b[34mThere are 1 clusters with 122 cameras\u001b[0m\n",
      "\u001b[34mThere are 1 clusters with 123 cameras\u001b[0m\n",
      "\u001b[34mThere are 2 clusters with 125 cameras\u001b[0m\n",
      "\u001b[34mThere are 2 clusters with 126 cameras\u001b[0m\n",
      "\u001b[34mThere are 1 clusters with 127 cameras\u001b[0m\n",
      "\u001b[34mThere are 8 clusters with 128 cameras\u001b[0m\n",
      "Number of classes: 600\n",
      "\u001b[36mLearning Rate: 0.000315\u001b[0m\n",
      "encontrou modelos efficientnet. Carregando...\n",
      "encontrou modelos convnext. Carregando...\n",
      "encontrou modelos mobilenet. Carregando...\n",
      "encontrou modelos vgg16. Carregando...\n",
      "encontrou modelos resnet50. Carregando...\n",
      "encontrou modelos osnet. Carregando...\n",
      "encontrou modelos densenet121. Carregando...\n",
      "###============ Iteration number 19/90 ============###\n",
      "Extracting Online Features for efficientnet ...\n",
      "Features extracted in 277.11 seconds\n",
      "Computing jaccard distance...\n"
     ]
    },
    {
     "name": "stderr",
     "output_type": "stream",
     "text": [
      "bruteForceKnn is deprecated; call bfKnn instead\n"
     ]
    },
    {
     "name": "stdout",
     "output_type": "stream",
     "text": [
      "Jaccard distance computing time cost: 581.8223903179169\n",
      "Extracting Online Features for convnext ...\n",
      "Features extracted in 197.85 seconds\n",
      "Computing jaccard distance...\n"
     ]
    },
    {
     "name": "stderr",
     "output_type": "stream",
     "text": [
      "bruteForceKnn is deprecated; call bfKnn instead\n"
     ]
    },
    {
     "name": "stdout",
     "output_type": "stream",
     "text": [
      "Jaccard distance computing time cost: 564.074545621872\n",
      "Extracting Online Features for mobilenet ...\n",
      "Features extracted in 265.25 seconds\n",
      "Computing jaccard distance...\n"
     ]
    },
    {
     "name": "stderr",
     "output_type": "stream",
     "text": [
      "bruteForceKnn is deprecated; call bfKnn instead\n"
     ]
    },
    {
     "name": "stdout",
     "output_type": "stream",
     "text": [
      "Jaccard distance computing time cost: 557.2793827056885\n",
      "Extracting Online Features for vgg16 ...\n",
      "Features extracted in 287.55 seconds\n",
      "Computing jaccard distance...\n"
     ]
    },
    {
     "name": "stderr",
     "output_type": "stream",
     "text": [
      "bruteForceKnn is deprecated; call bfKnn instead\n"
     ]
    },
    {
     "name": "stdout",
     "output_type": "stream",
     "text": [
      "Jaccard distance computing time cost: 596.3984763622284\n",
      "Extracting Online Features for resnet50 ...\n",
      "Features extracted in 290.24 seconds\n",
      "Computing jaccard distance...\n"
     ]
    },
    {
     "name": "stderr",
     "output_type": "stream",
     "text": [
      "bruteForceKnn is deprecated; call bfKnn instead\n"
     ]
    },
    {
     "name": "stdout",
     "output_type": "stream",
     "text": [
      "Jaccard distance computing time cost: 241.3402898311615\n",
      "Extracting Online Features for osnet ...\n",
      "Features extracted in 296.58 seconds\n",
      "Computing jaccard distance...\n"
     ]
    },
    {
     "name": "stderr",
     "output_type": "stream",
     "text": [
      "bruteForceKnn is deprecated; call bfKnn instead\n"
     ]
    },
    {
     "name": "stdout",
     "output_type": "stream",
     "text": [
      "Jaccard distance computing time cost: 154.95888304710388\n",
      "Extracting Online Features for densenet121 ...\n",
      "Features extracted in 296.98 seconds\n",
      "Computing jaccard distance...\n"
     ]
    },
    {
     "name": "stderr",
     "output_type": "stream",
     "text": [
      "bruteForceKnn is deprecated; call bfKnn instead\n"
     ]
    },
    {
     "name": "stdout",
     "output_type": "stream",
     "text": [
      "Jaccard distance computing time cost: 257.2658452987671\n",
      "Reliability: 0.994\n",
      "\u001b[32mMean Purity: 0.01644\u001b[0m\n",
      "\u001b[34mThere are 2 clusters with 4 cameras\u001b[0m\n",
      "\u001b[34mThere are 3 clusters with 5 cameras\u001b[0m\n",
      "\u001b[34mThere are 2 clusters with 6 cameras\u001b[0m\n",
      "\u001b[34mThere are 2 clusters with 7 cameras\u001b[0m\n",
      "\u001b[34mThere are 2 clusters with 9 cameras\u001b[0m\n",
      "\u001b[34mThere are 1 clusters with 11 cameras\u001b[0m\n",
      "\u001b[34mThere are 1 clusters with 12 cameras\u001b[0m\n",
      "\u001b[34mThere are 1 clusters with 16 cameras\u001b[0m\n",
      "\u001b[34mThere are 1 clusters with 17 cameras\u001b[0m\n",
      "\u001b[34mThere are 1 clusters with 19 cameras\u001b[0m\n",
      "\u001b[34mThere are 1 clusters with 27 cameras\u001b[0m\n",
      "\u001b[34mThere are 1 clusters with 31 cameras\u001b[0m\n",
      "\u001b[34mThere are 1 clusters with 32 cameras\u001b[0m\n",
      "\u001b[34mThere are 1 clusters with 41 cameras\u001b[0m\n",
      "\u001b[34mThere are 1 clusters with 45 cameras\u001b[0m\n",
      "\u001b[34mThere are 1 clusters with 47 cameras\u001b[0m\n",
      "\u001b[34mThere are 1 clusters with 52 cameras\u001b[0m\n",
      "\u001b[34mThere are 1 clusters with 53 cameras\u001b[0m\n",
      "\u001b[34mThere are 2 clusters with 54 cameras\u001b[0m\n",
      "\u001b[34mThere are 1 clusters with 56 cameras\u001b[0m\n",
      "\u001b[34mThere are 3 clusters with 57 cameras\u001b[0m\n",
      "\u001b[34mThere are 1 clusters with 58 cameras\u001b[0m\n",
      "\u001b[34mThere are 6 clusters with 59 cameras\u001b[0m\n",
      "\u001b[34mThere are 9 clusters with 60 cameras\u001b[0m\n",
      "\u001b[34mThere are 13 clusters with 61 cameras\u001b[0m\n",
      "\u001b[34mThere are 26 clusters with 62 cameras\u001b[0m\n",
      "\u001b[34mThere are 36 clusters with 63 cameras\u001b[0m\n",
      "\u001b[34mThere are 461 clusters with 64 cameras\u001b[0m\n",
      "\u001b[34mThere are 1 clusters with 90 cameras\u001b[0m\n",
      "\u001b[34mThere are 1 clusters with 119 cameras\u001b[0m\n",
      "\u001b[34mThere are 1 clusters with 120 cameras\u001b[0m\n",
      "\u001b[34mThere are 1 clusters with 122 cameras\u001b[0m\n",
      "\u001b[34mThere are 1 clusters with 123 cameras\u001b[0m\n",
      "\u001b[34mThere are 2 clusters with 125 cameras\u001b[0m\n",
      "\u001b[34mThere are 2 clusters with 126 cameras\u001b[0m\n",
      "\u001b[34mThere are 1 clusters with 127 cameras\u001b[0m\n",
      "\u001b[34mThere are 8 clusters with 128 cameras\u001b[0m\n",
      "Number of classes: 600\n",
      "\u001b[36mLearning Rate: 0.000333\u001b[0m\n",
      "encontrou modelos efficientnet. Carregando...\n",
      "encontrou modelos convnext. Carregando...\n",
      "encontrou modelos mobilenet. Carregando...\n",
      "encontrou modelos vgg16. Carregando...\n",
      "encontrou modelos resnet50. Carregando...\n",
      "encontrou modelos osnet. Carregando...\n",
      "encontrou modelos densenet121. Carregando...\n",
      "###============ Iteration number 20/90 ============###\n",
      "Extracting Online Features for efficientnet ...\n",
      "Features extracted in 286.75 seconds\n",
      "Computing jaccard distance...\n"
     ]
    },
    {
     "name": "stderr",
     "output_type": "stream",
     "text": [
      "bruteForceKnn is deprecated; call bfKnn instead\n"
     ]
    },
    {
     "name": "stdout",
     "output_type": "stream",
     "text": [
      "Jaccard distance computing time cost: 592.6497714519501\n",
      "Extracting Online Features for convnext ...\n",
      "Features extracted in 293.86 seconds\n",
      "Computing jaccard distance...\n"
     ]
    },
    {
     "name": "stderr",
     "output_type": "stream",
     "text": [
      "bruteForceKnn is deprecated; call bfKnn instead\n"
     ]
    },
    {
     "name": "stdout",
     "output_type": "stream",
     "text": [
      "Jaccard distance computing time cost: 583.5279598236084\n",
      "Extracting Online Features for mobilenet ...\n",
      "Features extracted in 277.64 seconds\n",
      "Computing jaccard distance...\n"
     ]
    },
    {
     "name": "stderr",
     "output_type": "stream",
     "text": [
      "bruteForceKnn is deprecated; call bfKnn instead\n"
     ]
    },
    {
     "name": "stdout",
     "output_type": "stream",
     "text": [
      "Jaccard distance computing time cost: 580.4532408714294\n",
      "Extracting Online Features for vgg16 ...\n",
      "Features extracted in 286.30 seconds\n",
      "Computing jaccard distance...\n"
     ]
    },
    {
     "name": "stderr",
     "output_type": "stream",
     "text": [
      "bruteForceKnn is deprecated; call bfKnn instead\n"
     ]
    },
    {
     "name": "stdout",
     "output_type": "stream",
     "text": [
      "Jaccard distance computing time cost: 625.5771207809448\n",
      "Extracting Online Features for resnet50 ...\n",
      "Features extracted in 256.52 seconds\n",
      "Computing jaccard distance...\n"
     ]
    },
    {
     "name": "stderr",
     "output_type": "stream",
     "text": [
      "bruteForceKnn is deprecated; call bfKnn instead\n"
     ]
    },
    {
     "name": "stdout",
     "output_type": "stream",
     "text": [
      "Jaccard distance computing time cost: 620.0100584030151\n",
      "Extracting Online Features for osnet ...\n",
      "Features extracted in 276.41 seconds\n",
      "Computing jaccard distance...\n"
     ]
    },
    {
     "name": "stderr",
     "output_type": "stream",
     "text": [
      "bruteForceKnn is deprecated; call bfKnn instead\n"
     ]
    },
    {
     "name": "stdout",
     "output_type": "stream",
     "text": [
      "Jaccard distance computing time cost: 676.6980493068695\n",
      "Extracting Online Features for densenet121 ...\n",
      "Features extracted in 206.95 seconds\n",
      "Computing jaccard distance...\n"
     ]
    },
    {
     "name": "stderr",
     "output_type": "stream",
     "text": [
      "bruteForceKnn is deprecated; call bfKnn instead\n"
     ]
    },
    {
     "name": "stdout",
     "output_type": "stream",
     "text": [
      "Jaccard distance computing time cost: 601.4067304134369\n",
      "Reliability: 0.994\n",
      "\u001b[32mMean Purity: 0.01644\u001b[0m\n",
      "\u001b[34mThere are 2 clusters with 4 cameras\u001b[0m\n",
      "\u001b[34mThere are 3 clusters with 5 cameras\u001b[0m\n",
      "\u001b[34mThere are 2 clusters with 6 cameras\u001b[0m\n",
      "\u001b[34mThere are 2 clusters with 7 cameras\u001b[0m\n",
      "\u001b[34mThere are 2 clusters with 9 cameras\u001b[0m\n",
      "\u001b[34mThere are 1 clusters with 11 cameras\u001b[0m\n",
      "\u001b[34mThere are 1 clusters with 12 cameras\u001b[0m\n",
      "\u001b[34mThere are 1 clusters with 16 cameras\u001b[0m\n",
      "\u001b[34mThere are 1 clusters with 17 cameras\u001b[0m\n",
      "\u001b[34mThere are 1 clusters with 19 cameras\u001b[0m\n",
      "\u001b[34mThere are 1 clusters with 27 cameras\u001b[0m\n",
      "\u001b[34mThere are 1 clusters with 31 cameras\u001b[0m\n",
      "\u001b[34mThere are 1 clusters with 32 cameras\u001b[0m\n",
      "\u001b[34mThere are 1 clusters with 41 cameras\u001b[0m\n",
      "\u001b[34mThere are 1 clusters with 45 cameras\u001b[0m\n",
      "\u001b[34mThere are 1 clusters with 47 cameras\u001b[0m\n",
      "\u001b[34mThere are 1 clusters with 52 cameras\u001b[0m\n",
      "\u001b[34mThere are 1 clusters with 53 cameras\u001b[0m\n",
      "\u001b[34mThere are 2 clusters with 54 cameras\u001b[0m\n",
      "\u001b[34mThere are 1 clusters with 56 cameras\u001b[0m\n",
      "\u001b[34mThere are 3 clusters with 57 cameras\u001b[0m\n",
      "\u001b[34mThere are 1 clusters with 58 cameras\u001b[0m\n",
      "\u001b[34mThere are 6 clusters with 59 cameras\u001b[0m\n",
      "\u001b[34mThere are 9 clusters with 60 cameras\u001b[0m\n",
      "\u001b[34mThere are 13 clusters with 61 cameras\u001b[0m\n",
      "\u001b[34mThere are 26 clusters with 62 cameras\u001b[0m\n",
      "\u001b[34mThere are 36 clusters with 63 cameras\u001b[0m\n",
      "\u001b[34mThere are 461 clusters with 64 cameras\u001b[0m\n",
      "\u001b[34mThere are 1 clusters with 90 cameras\u001b[0m\n",
      "\u001b[34mThere are 1 clusters with 119 cameras\u001b[0m\n",
      "\u001b[34mThere are 1 clusters with 120 cameras\u001b[0m\n",
      "\u001b[34mThere are 1 clusters with 122 cameras\u001b[0m\n",
      "\u001b[34mThere are 1 clusters with 123 cameras\u001b[0m\n",
      "\u001b[34mThere are 2 clusters with 125 cameras\u001b[0m\n",
      "\u001b[34mThere are 2 clusters with 126 cameras\u001b[0m\n",
      "\u001b[34mThere are 1 clusters with 127 cameras\u001b[0m\n",
      "\u001b[34mThere are 8 clusters with 128 cameras\u001b[0m\n",
      "Number of classes: 600\n",
      "\u001b[36mLearning Rate: 0.000350\u001b[0m\n",
      "encontrou modelos efficientnet. Carregando...\n",
      "encontrou modelos convnext. Carregando...\n",
      "encontrou modelos mobilenet. Carregando...\n",
      "encontrou modelos vgg16. Carregando...\n",
      "encontrou modelos resnet50. Carregando...\n",
      "encontrou modelos osnet. Carregando...\n",
      "encontrou modelos densenet121. Carregando...\n",
      "\u001b[33mValidating online efficientnet ...\u001b[0m\n",
      "Features extracted in 84.60 seconds\n",
      "Features extracted in 181.67 seconds\n",
      "Computing CMC and mAP ...\n",
      "** Results **\n",
      "mAP: 69.91%\n",
      "CMC curve\n",
      "Rank-1  : 73.59%\n",
      "Rank-5  : 94.54%\n",
      "Rank-10 : 97.70%\n",
      "Rank-20 : 99.20%\n",
      "\u001b[33mValidating momentum efficientnet ...\u001b[0m\n",
      "Features extracted in 85.73 seconds\n",
      "Features extracted in 185.31 seconds\n",
      "Computing CMC and mAP ...\n",
      "** Results **\n",
      "mAP: 70.66%\n",
      "CMC curve\n",
      "Rank-1  : 76.80%\n",
      "Rank-5  : 93.39%\n",
      "Rank-10 : 96.79%\n",
      "Rank-20 : 98.68%\n",
      "\u001b[33mValidating online convnext ...\u001b[0m\n",
      "Features extracted in 85.27 seconds\n",
      "Features extracted in 177.39 seconds\n",
      "Computing CMC and mAP ...\n",
      "** Results **\n",
      "mAP: 70.08%\n",
      "CMC curve\n",
      "Rank-1  : 75.63%\n",
      "Rank-5  : 92.61%\n",
      "Rank-10 : 96.93%\n",
      "Rank-20 : 99.29%\n",
      "\u001b[33mValidating momentum convnext ...\u001b[0m\n",
      "Features extracted in 88.72 seconds\n",
      "Features extracted in 182.93 seconds\n",
      "Computing CMC and mAP ...\n",
      "** Results **\n",
      "mAP: 70.46%\n",
      "CMC curve\n",
      "Rank-1  : 77.49%\n",
      "Rank-5  : 93.71%\n",
      "Rank-10 : 96.84%\n",
      "Rank-20 : 98.71%\n",
      "\u001b[33mValidating online mobilenet ...\u001b[0m\n",
      "Features extracted in 80.99 seconds\n",
      "Features extracted in 176.26 seconds\n",
      "Computing CMC and mAP ...\n",
      "** Results **\n",
      "mAP: 71.39%\n",
      "CMC curve\n",
      "Rank-1  : 81.53%\n",
      "Rank-5  : 95.41%\n",
      "Rank-10 : 98.02%\n",
      "Rank-20 : 99.18%\n",
      "\u001b[33mValidating momentum mobilenet ...\u001b[0m\n",
      "Features extracted in 83.38 seconds\n",
      "Features extracted in 178.08 seconds\n",
      "Computing CMC and mAP ...\n",
      "** Results **\n",
      "mAP: 70.86%\n",
      "CMC curve\n",
      "Rank-1  : 78.95%\n",
      "Rank-5  : 93.89%\n",
      "Rank-10 : 97.47%\n",
      "Rank-20 : 99.27%\n",
      "\u001b[33mValidating online vgg16 ...\u001b[0m\n",
      "Features extracted in 85.10 seconds\n",
      "Features extracted in 181.87 seconds\n",
      "Computing CMC and mAP ...\n",
      "** Results **\n",
      "mAP: 69.67%\n",
      "CMC curve\n",
      "Rank-1  : 74.49%\n",
      "Rank-5  : 92.27%\n",
      "Rank-10 : 96.56%\n",
      "Rank-20 : 99.05%\n",
      "\u001b[33mValidating momentum vgg16 ...\u001b[0m\n",
      "Features extracted in 82.93 seconds\n",
      "Features extracted in 181.74 seconds\n",
      "Computing CMC and mAP ...\n",
      "** Results **\n",
      "mAP: 69.72%\n",
      "CMC curve\n",
      "Rank-1  : 75.80%\n",
      "Rank-5  : 92.91%\n",
      "Rank-10 : 97.25%\n",
      "Rank-20 : 99.09%\n",
      "\u001b[33mValidating online resnet50 ...\u001b[0m\n",
      "Features extracted in 82.23 seconds\n",
      "Features extracted in 170.51 seconds\n",
      "Computing CMC and mAP ...\n",
      "** Results **\n",
      "mAP: 69.64%\n",
      "CMC curve\n",
      "Rank-1  : 70.07%\n",
      "Rank-5  : 91.28%\n",
      "Rank-10 : 96.04%\n",
      "Rank-20 : 98.68%\n",
      "\u001b[33mValidating momentum resnet50 ...\u001b[0m\n",
      "Features extracted in 83.88 seconds\n",
      "Features extracted in 180.37 seconds\n",
      "Computing CMC and mAP ...\n",
      "** Results **\n",
      "mAP: 70.02%\n",
      "CMC curve\n",
      "Rank-1  : 73.39%\n",
      "Rank-5  : 93.49%\n",
      "Rank-10 : 97.50%\n",
      "Rank-20 : 99.37%\n",
      "\u001b[33mValidating online osnet ...\u001b[0m\n",
      "Features extracted in 84.01 seconds\n",
      "Features extracted in 174.26 seconds\n",
      "Computing CMC and mAP ...\n",
      "** Results **\n",
      "mAP: 68.61%\n",
      "CMC curve\n",
      "Rank-1  : 73.02%\n",
      "Rank-5  : 95.04%\n",
      "Rank-10 : 98.36%\n",
      "Rank-20 : 99.48%\n",
      "\u001b[33mValidating momentum osnet ...\u001b[0m\n",
      "Features extracted in 84.03 seconds\n",
      "Features extracted in 176.40 seconds\n",
      "Computing CMC and mAP ...\n",
      "** Results **\n",
      "mAP: 69.41%\n",
      "CMC curve\n",
      "Rank-1  : 73.33%\n",
      "Rank-5  : 93.05%\n",
      "Rank-10 : 97.14%\n",
      "Rank-20 : 99.12%\n",
      "\u001b[33mValidating online densenet121 ...\u001b[0m\n",
      "Features extracted in 88.35 seconds\n",
      "Features extracted in 182.82 seconds\n",
      "Computing CMC and mAP ...\n",
      "** Results **\n",
      "mAP: 70.12%\n",
      "CMC curve\n",
      "Rank-1  : 75.15%\n",
      "Rank-5  : 92.89%\n",
      "Rank-10 : 97.00%\n",
      "Rank-20 : 98.95%\n",
      "\u001b[33mValidating momentum densenet121 ...\u001b[0m\n",
      "Features extracted in 83.85 seconds\n",
      "Features extracted in 181.62 seconds\n",
      "Computing CMC and mAP ...\n",
      "** Results **\n",
      "mAP: 69.53%\n",
      "CMC curve\n",
      "Rank-1  : 75.91%\n",
      "Rank-5  : 93.33%\n",
      "Rank-10 : 97.31%\n",
      "Rank-20 : 99.25%\n",
      "\u001b[33mValidating ensembled with online models ...\u001b[0m\n",
      "Computing CMC and mAP ...\n",
      "** Results **\n",
      "mAP: 71.17%\n",
      "Ranks:\n",
      "Rank-1  : 78.73%\n",
      "Rank-5  : 92.94%\n",
      "Rank-10 : 96.83%\n",
      "\u001b[33mValidating ensembled with momentum models ...\u001b[0m\n",
      "Computing CMC and mAP ...\n",
      "** Results **\n",
      "mAP: 71.11%\n",
      "Ranks:\n",
      "Rank-1  : 79.83%\n",
      "Rank-5  : 92.92%\n",
      "Rank-10 : 96.74%\n",
      "###============ Iteration number 21/90 ============###\n",
      "Extracting Online Features for efficientnet ...\n",
      "Features extracted in 280.84 seconds\n",
      "Computing jaccard distance...\n"
     ]
    },
    {
     "name": "stderr",
     "output_type": "stream",
     "text": [
      "bruteForceKnn is deprecated; call bfKnn instead\n"
     ]
    },
    {
     "name": "stdout",
     "output_type": "stream",
     "text": [
      "Jaccard distance computing time cost: 560.1550712585449\n",
      "Extracting Online Features for convnext ...\n",
      "Features extracted in 196.15 seconds\n",
      "Computing jaccard distance...\n"
     ]
    },
    {
     "name": "stderr",
     "output_type": "stream",
     "text": [
      "bruteForceKnn is deprecated; call bfKnn instead\n"
     ]
    },
    {
     "name": "stdout",
     "output_type": "stream",
     "text": [
      "Jaccard distance computing time cost: 556.6804370880127\n",
      "Extracting Online Features for mobilenet ...\n",
      "Features extracted in 224.49 seconds\n",
      "Computing jaccard distance...\n"
     ]
    },
    {
     "name": "stderr",
     "output_type": "stream",
     "text": [
      "bruteForceKnn is deprecated; call bfKnn instead\n"
     ]
    },
    {
     "name": "stdout",
     "output_type": "stream",
     "text": [
      "Jaccard distance computing time cost: 616.1387028694153\n",
      "Extracting Online Features for vgg16 ...\n",
      "Features extracted in 210.76 seconds\n",
      "Computing jaccard distance...\n"
     ]
    },
    {
     "name": "stderr",
     "output_type": "stream",
     "text": [
      "bruteForceKnn is deprecated; call bfKnn instead\n"
     ]
    },
    {
     "name": "stdout",
     "output_type": "stream",
     "text": [
      "Jaccard distance computing time cost: 568.9446992874146\n",
      "Extracting Online Features for resnet50 ...\n",
      "Features extracted in 225.99 seconds\n",
      "Computing jaccard distance...\n"
     ]
    },
    {
     "name": "stderr",
     "output_type": "stream",
     "text": [
      "bruteForceKnn is deprecated; call bfKnn instead\n"
     ]
    },
    {
     "name": "stdout",
     "output_type": "stream",
     "text": [
      "Jaccard distance computing time cost: 552.8831644058228\n",
      "Extracting Online Features for osnet ...\n",
      "Features extracted in 263.58 seconds\n",
      "Computing jaccard distance...\n"
     ]
    },
    {
     "name": "stderr",
     "output_type": "stream",
     "text": [
      "bruteForceKnn is deprecated; call bfKnn instead\n"
     ]
    },
    {
     "name": "stdout",
     "output_type": "stream",
     "text": [
      "Jaccard distance computing time cost: 552.105028629303\n",
      "Extracting Online Features for densenet121 ...\n",
      "Features extracted in 219.40 seconds\n",
      "Computing jaccard distance...\n"
     ]
    },
    {
     "name": "stderr",
     "output_type": "stream",
     "text": [
      "bruteForceKnn is deprecated; call bfKnn instead\n"
     ]
    },
    {
     "name": "stdout",
     "output_type": "stream",
     "text": [
      "Jaccard distance computing time cost: 597.5014872550964\n",
      "Reliability: 0.994\n",
      "\u001b[32mMean Purity: 0.01644\u001b[0m\n",
      "\u001b[34mThere are 2 clusters with 4 cameras\u001b[0m\n",
      "\u001b[34mThere are 3 clusters with 5 cameras\u001b[0m\n",
      "\u001b[34mThere are 2 clusters with 6 cameras\u001b[0m\n",
      "\u001b[34mThere are 2 clusters with 7 cameras\u001b[0m\n",
      "\u001b[34mThere are 2 clusters with 9 cameras\u001b[0m\n",
      "\u001b[34mThere are 1 clusters with 11 cameras\u001b[0m\n",
      "\u001b[34mThere are 1 clusters with 12 cameras\u001b[0m\n",
      "\u001b[34mThere are 1 clusters with 16 cameras\u001b[0m\n",
      "\u001b[34mThere are 1 clusters with 17 cameras\u001b[0m\n",
      "\u001b[34mThere are 1 clusters with 19 cameras\u001b[0m\n",
      "\u001b[34mThere are 1 clusters with 27 cameras\u001b[0m\n",
      "\u001b[34mThere are 1 clusters with 31 cameras\u001b[0m\n",
      "\u001b[34mThere are 1 clusters with 32 cameras\u001b[0m\n",
      "\u001b[34mThere are 1 clusters with 41 cameras\u001b[0m\n",
      "\u001b[34mThere are 1 clusters with 45 cameras\u001b[0m\n",
      "\u001b[34mThere are 1 clusters with 47 cameras\u001b[0m\n",
      "\u001b[34mThere are 1 clusters with 52 cameras\u001b[0m\n",
      "\u001b[34mThere are 1 clusters with 53 cameras\u001b[0m\n",
      "\u001b[34mThere are 2 clusters with 54 cameras\u001b[0m\n",
      "\u001b[34mThere are 1 clusters with 56 cameras\u001b[0m\n",
      "\u001b[34mThere are 3 clusters with 57 cameras\u001b[0m\n",
      "\u001b[34mThere are 1 clusters with 58 cameras\u001b[0m\n",
      "\u001b[34mThere are 6 clusters with 59 cameras\u001b[0m\n",
      "\u001b[34mThere are 9 clusters with 60 cameras\u001b[0m\n",
      "\u001b[34mThere are 13 clusters with 61 cameras\u001b[0m\n",
      "\u001b[34mThere are 26 clusters with 62 cameras\u001b[0m\n",
      "\u001b[34mThere are 36 clusters with 63 cameras\u001b[0m\n",
      "\u001b[34mThere are 461 clusters with 64 cameras\u001b[0m\n",
      "\u001b[34mThere are 1 clusters with 90 cameras\u001b[0m\n",
      "\u001b[34mThere are 1 clusters with 119 cameras\u001b[0m\n",
      "\u001b[34mThere are 1 clusters with 120 cameras\u001b[0m\n",
      "\u001b[34mThere are 1 clusters with 122 cameras\u001b[0m\n",
      "\u001b[34mThere are 1 clusters with 123 cameras\u001b[0m\n",
      "\u001b[34mThere are 2 clusters with 125 cameras\u001b[0m\n",
      "\u001b[34mThere are 2 clusters with 126 cameras\u001b[0m\n",
      "\u001b[34mThere are 1 clusters with 127 cameras\u001b[0m\n",
      "\u001b[34mThere are 8 clusters with 128 cameras\u001b[0m\n",
      "Number of classes: 600\n",
      "\u001b[36mLearning Rate: 0.000350\u001b[0m\n",
      "encontrou modelos efficientnet. Carregando...\n",
      "encontrou modelos convnext. Carregando...\n",
      "encontrou modelos mobilenet. Carregando...\n",
      "encontrou modelos vgg16. Carregando...\n",
      "encontrou modelos resnet50. Carregando...\n",
      "encontrou modelos osnet. Carregando...\n",
      "encontrou modelos densenet121. Carregando...\n",
      "###============ Iteration number 22/90 ============###\n",
      "Extracting Online Features for efficientnet ...\n",
      "Features extracted in 199.82 seconds\n",
      "Computing jaccard distance...\n"
     ]
    },
    {
     "name": "stderr",
     "output_type": "stream",
     "text": [
      "bruteForceKnn is deprecated; call bfKnn instead\n"
     ]
    },
    {
     "name": "stdout",
     "output_type": "stream",
     "text": [
      "Jaccard distance computing time cost: 534.3989272117615\n",
      "Extracting Online Features for convnext ...\n",
      "Features extracted in 187.16 seconds\n",
      "Computing jaccard distance...\n"
     ]
    },
    {
     "name": "stderr",
     "output_type": "stream",
     "text": [
      "bruteForceKnn is deprecated; call bfKnn instead\n"
     ]
    },
    {
     "name": "stdout",
     "output_type": "stream",
     "text": [
      "Jaccard distance computing time cost: 541.5211319923401\n",
      "Extracting Online Features for mobilenet ...\n",
      "Features extracted in 272.61 seconds\n",
      "Computing jaccard distance...\n"
     ]
    },
    {
     "name": "stderr",
     "output_type": "stream",
     "text": [
      "bruteForceKnn is deprecated; call bfKnn instead\n"
     ]
    },
    {
     "name": "stdout",
     "output_type": "stream",
     "text": [
      "Jaccard distance computing time cost: 576.0120289325714\n",
      "Extracting Online Features for vgg16 ...\n",
      "Features extracted in 201.09 seconds\n",
      "Computing jaccard distance...\n"
     ]
    },
    {
     "name": "stderr",
     "output_type": "stream",
     "text": [
      "bruteForceKnn is deprecated; call bfKnn instead\n"
     ]
    },
    {
     "name": "stdout",
     "output_type": "stream",
     "text": [
      "Jaccard distance computing time cost: 569.1610605716705\n",
      "Extracting Online Features for resnet50 ...\n",
      "Features extracted in 221.49 seconds\n",
      "Computing jaccard distance...\n"
     ]
    },
    {
     "name": "stderr",
     "output_type": "stream",
     "text": [
      "bruteForceKnn is deprecated; call bfKnn instead\n"
     ]
    },
    {
     "name": "stdout",
     "output_type": "stream",
     "text": [
      "Jaccard distance computing time cost: 590.5041122436523\n",
      "Extracting Online Features for osnet ...\n",
      "Features extracted in 214.13 seconds\n",
      "Computing jaccard distance...\n"
     ]
    },
    {
     "name": "stderr",
     "output_type": "stream",
     "text": [
      "bruteForceKnn is deprecated; call bfKnn instead\n"
     ]
    },
    {
     "name": "stdout",
     "output_type": "stream",
     "text": [
      "Jaccard distance computing time cost: 612.3157629966736\n",
      "Extracting Online Features for densenet121 ...\n",
      "Features extracted in 206.40 seconds\n",
      "Computing jaccard distance...\n"
     ]
    },
    {
     "name": "stderr",
     "output_type": "stream",
     "text": [
      "bruteForceKnn is deprecated; call bfKnn instead\n"
     ]
    },
    {
     "name": "stdout",
     "output_type": "stream",
     "text": [
      "Jaccard distance computing time cost: 593.7286219596863\n",
      "Reliability: 0.994\n",
      "\u001b[32mMean Purity: 0.01644\u001b[0m\n",
      "\u001b[34mThere are 2 clusters with 4 cameras\u001b[0m\n",
      "\u001b[34mThere are 3 clusters with 5 cameras\u001b[0m\n",
      "\u001b[34mThere are 2 clusters with 6 cameras\u001b[0m\n",
      "\u001b[34mThere are 2 clusters with 7 cameras\u001b[0m\n",
      "\u001b[34mThere are 2 clusters with 9 cameras\u001b[0m\n",
      "\u001b[34mThere are 1 clusters with 11 cameras\u001b[0m\n",
      "\u001b[34mThere are 1 clusters with 12 cameras\u001b[0m\n",
      "\u001b[34mThere are 1 clusters with 16 cameras\u001b[0m\n",
      "\u001b[34mThere are 1 clusters with 17 cameras\u001b[0m\n",
      "\u001b[34mThere are 1 clusters with 19 cameras\u001b[0m\n",
      "\u001b[34mThere are 1 clusters with 27 cameras\u001b[0m\n",
      "\u001b[34mThere are 1 clusters with 31 cameras\u001b[0m\n",
      "\u001b[34mThere are 1 clusters with 32 cameras\u001b[0m\n",
      "\u001b[34mThere are 1 clusters with 41 cameras\u001b[0m\n",
      "\u001b[34mThere are 1 clusters with 45 cameras\u001b[0m\n",
      "\u001b[34mThere are 1 clusters with 47 cameras\u001b[0m\n",
      "\u001b[34mThere are 1 clusters with 52 cameras\u001b[0m\n",
      "\u001b[34mThere are 1 clusters with 53 cameras\u001b[0m\n",
      "\u001b[34mThere are 2 clusters with 54 cameras\u001b[0m\n",
      "\u001b[34mThere are 1 clusters with 56 cameras\u001b[0m\n",
      "\u001b[34mThere are 3 clusters with 57 cameras\u001b[0m\n",
      "\u001b[34mThere are 1 clusters with 58 cameras\u001b[0m\n",
      "\u001b[34mThere are 6 clusters with 59 cameras\u001b[0m\n",
      "\u001b[34mThere are 9 clusters with 60 cameras\u001b[0m\n",
      "\u001b[34mThere are 13 clusters with 61 cameras\u001b[0m\n",
      "\u001b[34mThere are 26 clusters with 62 cameras\u001b[0m\n",
      "\u001b[34mThere are 36 clusters with 63 cameras\u001b[0m\n",
      "\u001b[34mThere are 461 clusters with 64 cameras\u001b[0m\n",
      "\u001b[34mThere are 1 clusters with 90 cameras\u001b[0m\n",
      "\u001b[34mThere are 1 clusters with 119 cameras\u001b[0m\n",
      "\u001b[34mThere are 1 clusters with 120 cameras\u001b[0m\n",
      "\u001b[34mThere are 1 clusters with 122 cameras\u001b[0m\n",
      "\u001b[34mThere are 1 clusters with 123 cameras\u001b[0m\n",
      "\u001b[34mThere are 2 clusters with 125 cameras\u001b[0m\n",
      "\u001b[34mThere are 2 clusters with 126 cameras\u001b[0m\n",
      "\u001b[34mThere are 1 clusters with 127 cameras\u001b[0m\n",
      "\u001b[34mThere are 8 clusters with 128 cameras\u001b[0m\n",
      "Number of classes: 600\n",
      "\u001b[36mLearning Rate: 0.000350\u001b[0m\n",
      "encontrou modelos efficientnet. Carregando...\n",
      "encontrou modelos convnext. Carregando...\n",
      "encontrou modelos mobilenet. Carregando...\n",
      "encontrou modelos vgg16. Carregando...\n",
      "encontrou modelos resnet50. Carregando...\n",
      "encontrou modelos osnet. Carregando...\n",
      "encontrou modelos densenet121. Carregando...\n",
      "###============ Iteration number 23/90 ============###\n",
      "Extracting Online Features for efficientnet ...\n",
      "Features extracted in 192.00 seconds\n",
      "Computing jaccard distance...\n"
     ]
    },
    {
     "name": "stderr",
     "output_type": "stream",
     "text": [
      "bruteForceKnn is deprecated; call bfKnn instead\n"
     ]
    },
    {
     "name": "stdout",
     "output_type": "stream",
     "text": [
      "Jaccard distance computing time cost: 523.5336508750916\n",
      "Extracting Online Features for convnext ...\n",
      "Features extracted in 187.49 seconds\n",
      "Computing jaccard distance...\n"
     ]
    },
    {
     "name": "stderr",
     "output_type": "stream",
     "text": [
      "bruteForceKnn is deprecated; call bfKnn instead\n"
     ]
    },
    {
     "name": "stdout",
     "output_type": "stream",
     "text": [
      "Jaccard distance computing time cost: 525.0879459381104\n",
      "Extracting Online Features for mobilenet ...\n",
      "Features extracted in 209.42 seconds\n",
      "Computing jaccard distance...\n"
     ]
    },
    {
     "name": "stderr",
     "output_type": "stream",
     "text": [
      "bruteForceKnn is deprecated; call bfKnn instead\n"
     ]
    },
    {
     "name": "stdout",
     "output_type": "stream",
     "text": [
      "Jaccard distance computing time cost: 542.9713447093964\n",
      "Extracting Online Features for vgg16 ...\n",
      "Features extracted in 217.20 seconds\n",
      "Computing jaccard distance...\n"
     ]
    },
    {
     "name": "stderr",
     "output_type": "stream",
     "text": [
      "bruteForceKnn is deprecated; call bfKnn instead\n"
     ]
    },
    {
     "name": "stdout",
     "output_type": "stream",
     "text": [
      "Jaccard distance computing time cost: 560.5672137737274\n",
      "Extracting Online Features for resnet50 ...\n",
      "Features extracted in 275.17 seconds\n",
      "Computing jaccard distance...\n"
     ]
    },
    {
     "name": "stderr",
     "output_type": "stream",
     "text": [
      "bruteForceKnn is deprecated; call bfKnn instead\n"
     ]
    },
    {
     "name": "stdout",
     "output_type": "stream",
     "text": [
      "Jaccard distance computing time cost: 652.2697021961212\n",
      "Extracting Online Features for osnet ...\n",
      "Features extracted in 247.22 seconds\n",
      "Computing jaccard distance...\n"
     ]
    },
    {
     "name": "stderr",
     "output_type": "stream",
     "text": [
      "bruteForceKnn is deprecated; call bfKnn instead\n"
     ]
    },
    {
     "name": "stdout",
     "output_type": "stream",
     "text": [
      "Jaccard distance computing time cost: 596.098001241684\n",
      "Extracting Online Features for densenet121 ...\n",
      "Features extracted in 206.76 seconds\n",
      "Computing jaccard distance...\n"
     ]
    },
    {
     "name": "stderr",
     "output_type": "stream",
     "text": [
      "bruteForceKnn is deprecated; call bfKnn instead\n"
     ]
    },
    {
     "name": "stdout",
     "output_type": "stream",
     "text": [
      "Jaccard distance computing time cost: 570.2882270812988\n",
      "Reliability: 0.994\n",
      "\u001b[32mMean Purity: 0.01644\u001b[0m\n",
      "\u001b[34mThere are 2 clusters with 4 cameras\u001b[0m\n",
      "\u001b[34mThere are 3 clusters with 5 cameras\u001b[0m\n",
      "\u001b[34mThere are 2 clusters with 6 cameras\u001b[0m\n",
      "\u001b[34mThere are 2 clusters with 7 cameras\u001b[0m\n",
      "\u001b[34mThere are 2 clusters with 9 cameras\u001b[0m\n",
      "\u001b[34mThere are 1 clusters with 11 cameras\u001b[0m\n",
      "\u001b[34mThere are 1 clusters with 12 cameras\u001b[0m\n",
      "\u001b[34mThere are 1 clusters with 16 cameras\u001b[0m\n",
      "\u001b[34mThere are 1 clusters with 17 cameras\u001b[0m\n",
      "\u001b[34mThere are 1 clusters with 19 cameras\u001b[0m\n",
      "\u001b[34mThere are 1 clusters with 27 cameras\u001b[0m\n",
      "\u001b[34mThere are 1 clusters with 31 cameras\u001b[0m\n",
      "\u001b[34mThere are 1 clusters with 32 cameras\u001b[0m\n",
      "\u001b[34mThere are 1 clusters with 41 cameras\u001b[0m\n",
      "\u001b[34mThere are 1 clusters with 45 cameras\u001b[0m\n",
      "\u001b[34mThere are 1 clusters with 47 cameras\u001b[0m\n",
      "\u001b[34mThere are 1 clusters with 52 cameras\u001b[0m\n",
      "\u001b[34mThere are 1 clusters with 53 cameras\u001b[0m\n",
      "\u001b[34mThere are 2 clusters with 54 cameras\u001b[0m\n",
      "\u001b[34mThere are 1 clusters with 56 cameras\u001b[0m\n",
      "\u001b[34mThere are 3 clusters with 57 cameras\u001b[0m\n",
      "\u001b[34mThere are 1 clusters with 58 cameras\u001b[0m\n",
      "\u001b[34mThere are 6 clusters with 59 cameras\u001b[0m\n",
      "\u001b[34mThere are 9 clusters with 60 cameras\u001b[0m\n",
      "\u001b[34mThere are 13 clusters with 61 cameras\u001b[0m\n",
      "\u001b[34mThere are 26 clusters with 62 cameras\u001b[0m\n",
      "\u001b[34mThere are 36 clusters with 63 cameras\u001b[0m\n",
      "\u001b[34mThere are 461 clusters with 64 cameras\u001b[0m\n",
      "\u001b[34mThere are 1 clusters with 90 cameras\u001b[0m\n",
      "\u001b[34mThere are 1 clusters with 119 cameras\u001b[0m\n",
      "\u001b[34mThere are 1 clusters with 120 cameras\u001b[0m\n",
      "\u001b[34mThere are 1 clusters with 122 cameras\u001b[0m\n",
      "\u001b[34mThere are 1 clusters with 123 cameras\u001b[0m\n",
      "\u001b[34mThere are 2 clusters with 125 cameras\u001b[0m\n",
      "\u001b[34mThere are 2 clusters with 126 cameras\u001b[0m\n",
      "\u001b[34mThere are 1 clusters with 127 cameras\u001b[0m\n",
      "\u001b[34mThere are 8 clusters with 128 cameras\u001b[0m\n",
      "Number of classes: 600\n",
      "\u001b[36mLearning Rate: 0.000350\u001b[0m\n",
      "encontrou modelos efficientnet. Carregando...\n",
      "encontrou modelos convnext. Carregando...\n",
      "encontrou modelos mobilenet. Carregando...\n",
      "encontrou modelos vgg16. Carregando...\n",
      "encontrou modelos resnet50. Carregando...\n",
      "encontrou modelos osnet. Carregando...\n",
      "encontrou modelos densenet121. Carregando...\n",
      "###============ Iteration number 24/90 ============###\n",
      "Extracting Online Features for efficientnet ...\n",
      "Features extracted in 196.75 seconds\n",
      "Computing jaccard distance...\n"
     ]
    },
    {
     "name": "stderr",
     "output_type": "stream",
     "text": [
      "bruteForceKnn is deprecated; call bfKnn instead\n"
     ]
    },
    {
     "name": "stdout",
     "output_type": "stream",
     "text": [
      "Jaccard distance computing time cost: 517.6129813194275\n",
      "Extracting Online Features for convnext ...\n",
      "Features extracted in 186.21 seconds\n",
      "Computing jaccard distance...\n"
     ]
    },
    {
     "name": "stderr",
     "output_type": "stream",
     "text": [
      "bruteForceKnn is deprecated; call bfKnn instead\n"
     ]
    },
    {
     "name": "stdout",
     "output_type": "stream",
     "text": [
      "Jaccard distance computing time cost: 529.4242558479309\n",
      "Extracting Online Features for mobilenet ...\n",
      "Features extracted in 227.51 seconds\n",
      "Computing jaccard distance...\n"
     ]
    },
    {
     "name": "stderr",
     "output_type": "stream",
     "text": [
      "bruteForceKnn is deprecated; call bfKnn instead\n"
     ]
    },
    {
     "name": "stdout",
     "output_type": "stream",
     "text": [
      "Jaccard distance computing time cost: 540.4851007461548\n",
      "Extracting Online Features for vgg16 ...\n",
      "Features extracted in 237.63 seconds\n",
      "Computing jaccard distance...\n"
     ]
    },
    {
     "name": "stderr",
     "output_type": "stream",
     "text": [
      "bruteForceKnn is deprecated; call bfKnn instead\n"
     ]
    },
    {
     "name": "stdout",
     "output_type": "stream",
     "text": [
      "Jaccard distance computing time cost: 568.8845362663269\n",
      "Extracting Online Features for resnet50 ...\n",
      "Features extracted in 261.41 seconds\n",
      "Computing jaccard distance...\n"
     ]
    },
    {
     "name": "stderr",
     "output_type": "stream",
     "text": [
      "bruteForceKnn is deprecated; call bfKnn instead\n"
     ]
    },
    {
     "name": "stdout",
     "output_type": "stream",
     "text": [
      "Jaccard distance computing time cost: 553.8792798519135\n",
      "Extracting Online Features for osnet ...\n",
      "Features extracted in 197.80 seconds\n",
      "Computing jaccard distance...\n"
     ]
    },
    {
     "name": "stderr",
     "output_type": "stream",
     "text": [
      "bruteForceKnn is deprecated; call bfKnn instead\n"
     ]
    },
    {
     "name": "stdout",
     "output_type": "stream",
     "text": [
      "Jaccard distance computing time cost: 614.4015762805939\n",
      "Extracting Online Features for densenet121 ...\n",
      "Features extracted in 197.18 seconds\n",
      "Computing jaccard distance...\n"
     ]
    },
    {
     "name": "stderr",
     "output_type": "stream",
     "text": [
      "bruteForceKnn is deprecated; call bfKnn instead\n"
     ]
    },
    {
     "name": "stdout",
     "output_type": "stream",
     "text": [
      "Jaccard distance computing time cost: 574.0037653446198\n",
      "Reliability: 0.994\n",
      "\u001b[32mMean Purity: 0.01644\u001b[0m\n",
      "\u001b[34mThere are 2 clusters with 4 cameras\u001b[0m\n",
      "\u001b[34mThere are 3 clusters with 5 cameras\u001b[0m\n",
      "\u001b[34mThere are 2 clusters with 6 cameras\u001b[0m\n",
      "\u001b[34mThere are 2 clusters with 7 cameras\u001b[0m\n",
      "\u001b[34mThere are 2 clusters with 9 cameras\u001b[0m\n",
      "\u001b[34mThere are 1 clusters with 11 cameras\u001b[0m\n",
      "\u001b[34mThere are 1 clusters with 12 cameras\u001b[0m\n",
      "\u001b[34mThere are 1 clusters with 16 cameras\u001b[0m\n",
      "\u001b[34mThere are 1 clusters with 17 cameras\u001b[0m\n",
      "\u001b[34mThere are 1 clusters with 19 cameras\u001b[0m\n",
      "\u001b[34mThere are 1 clusters with 27 cameras\u001b[0m\n",
      "\u001b[34mThere are 1 clusters with 31 cameras\u001b[0m\n",
      "\u001b[34mThere are 1 clusters with 32 cameras\u001b[0m\n",
      "\u001b[34mThere are 1 clusters with 41 cameras\u001b[0m\n",
      "\u001b[34mThere are 1 clusters with 45 cameras\u001b[0m\n",
      "\u001b[34mThere are 1 clusters with 47 cameras\u001b[0m\n",
      "\u001b[34mThere are 1 clusters with 52 cameras\u001b[0m\n",
      "\u001b[34mThere are 1 clusters with 53 cameras\u001b[0m\n",
      "\u001b[34mThere are 2 clusters with 54 cameras\u001b[0m\n",
      "\u001b[34mThere are 1 clusters with 56 cameras\u001b[0m\n",
      "\u001b[34mThere are 3 clusters with 57 cameras\u001b[0m\n",
      "\u001b[34mThere are 1 clusters with 58 cameras\u001b[0m\n",
      "\u001b[34mThere are 6 clusters with 59 cameras\u001b[0m\n",
      "\u001b[34mThere are 9 clusters with 60 cameras\u001b[0m\n",
      "\u001b[34mThere are 13 clusters with 61 cameras\u001b[0m\n",
      "\u001b[34mThere are 26 clusters with 62 cameras\u001b[0m\n",
      "\u001b[34mThere are 36 clusters with 63 cameras\u001b[0m\n",
      "\u001b[34mThere are 461 clusters with 64 cameras\u001b[0m\n",
      "\u001b[34mThere are 1 clusters with 90 cameras\u001b[0m\n",
      "\u001b[34mThere are 1 clusters with 119 cameras\u001b[0m\n",
      "\u001b[34mThere are 1 clusters with 120 cameras\u001b[0m\n",
      "\u001b[34mThere are 1 clusters with 122 cameras\u001b[0m\n",
      "\u001b[34mThere are 1 clusters with 123 cameras\u001b[0m\n",
      "\u001b[34mThere are 2 clusters with 125 cameras\u001b[0m\n",
      "\u001b[34mThere are 2 clusters with 126 cameras\u001b[0m\n",
      "\u001b[34mThere are 1 clusters with 127 cameras\u001b[0m\n",
      "\u001b[34mThere are 8 clusters with 128 cameras\u001b[0m\n",
      "Number of classes: 600\n",
      "\u001b[36mLearning Rate: 0.000350\u001b[0m\n",
      "encontrou modelos efficientnet. Carregando...\n",
      "encontrou modelos convnext. Carregando...\n",
      "encontrou modelos mobilenet. Carregando...\n",
      "encontrou modelos vgg16. Carregando...\n",
      "encontrou modelos resnet50. Carregando...\n",
      "encontrou modelos osnet. Carregando...\n",
      "encontrou modelos densenet121. Carregando...\n",
      "###============ Iteration number 25/90 ============###\n",
      "Extracting Online Features for efficientnet ...\n",
      "Features extracted in 276.88 seconds\n",
      "Computing jaccard distance...\n"
     ]
    },
    {
     "name": "stderr",
     "output_type": "stream",
     "text": [
      "bruteForceKnn is deprecated; call bfKnn instead\n"
     ]
    },
    {
     "name": "stdout",
     "output_type": "stream",
     "text": [
      "Jaccard distance computing time cost: 837.3880760669708\n",
      "Extracting Online Features for convnext ...\n",
      "Features extracted in 190.30 seconds\n",
      "Computing jaccard distance...\n"
     ]
    },
    {
     "name": "stderr",
     "output_type": "stream",
     "text": [
      "bruteForceKnn is deprecated; call bfKnn instead\n"
     ]
    },
    {
     "name": "stdout",
     "output_type": "stream",
     "text": [
      "Jaccard distance computing time cost: 541.2174925804138\n",
      "Extracting Online Features for mobilenet ...\n",
      "Features extracted in 281.97 seconds\n",
      "Computing jaccard distance...\n"
     ]
    },
    {
     "name": "stderr",
     "output_type": "stream",
     "text": [
      "bruteForceKnn is deprecated; call bfKnn instead\n"
     ]
    },
    {
     "name": "stdout",
     "output_type": "stream",
     "text": [
      "Jaccard distance computing time cost: 525.2676832675934\n",
      "Extracting Online Features for vgg16 ...\n",
      "Features extracted in 281.30 seconds\n",
      "Computing jaccard distance...\n"
     ]
    },
    {
     "name": "stderr",
     "output_type": "stream",
     "text": [
      "bruteForceKnn is deprecated; call bfKnn instead\n"
     ]
    },
    {
     "name": "stdout",
     "output_type": "stream",
     "text": [
      "Jaccard distance computing time cost: 626.5753526687622\n",
      "Extracting Online Features for resnet50 ...\n",
      "Features extracted in 288.56 seconds\n",
      "Computing jaccard distance...\n"
     ]
    },
    {
     "name": "stderr",
     "output_type": "stream",
     "text": [
      "bruteForceKnn is deprecated; call bfKnn instead\n"
     ]
    },
    {
     "name": "stdout",
     "output_type": "stream",
     "text": [
      "Jaccard distance computing time cost: 606.8168187141418\n",
      "Extracting Online Features for osnet ...\n",
      "Features extracted in 278.03 seconds\n",
      "Computing jaccard distance...\n"
     ]
    },
    {
     "name": "stderr",
     "output_type": "stream",
     "text": [
      "bruteForceKnn is deprecated; call bfKnn instead\n"
     ]
    },
    {
     "name": "stdout",
     "output_type": "stream",
     "text": [
      "Jaccard distance computing time cost: 576.2107374668121\n",
      "Extracting Online Features for densenet121 ...\n",
      "Features extracted in 205.41 seconds\n",
      "Computing jaccard distance...\n"
     ]
    },
    {
     "name": "stderr",
     "output_type": "stream",
     "text": [
      "bruteForceKnn is deprecated; call bfKnn instead\n"
     ]
    },
    {
     "name": "stdout",
     "output_type": "stream",
     "text": [
      "Jaccard distance computing time cost: 552.1171538829803\n",
      "Reliability: 0.994\n",
      "\u001b[32mMean Purity: 0.01644\u001b[0m\n",
      "\u001b[34mThere are 2 clusters with 4 cameras\u001b[0m\n",
      "\u001b[34mThere are 3 clusters with 5 cameras\u001b[0m\n",
      "\u001b[34mThere are 2 clusters with 6 cameras\u001b[0m\n",
      "\u001b[34mThere are 2 clusters with 7 cameras\u001b[0m\n",
      "\u001b[34mThere are 2 clusters with 9 cameras\u001b[0m\n",
      "\u001b[34mThere are 1 clusters with 11 cameras\u001b[0m\n",
      "\u001b[34mThere are 1 clusters with 12 cameras\u001b[0m\n",
      "\u001b[34mThere are 1 clusters with 16 cameras\u001b[0m\n",
      "\u001b[34mThere are 1 clusters with 17 cameras\u001b[0m\n",
      "\u001b[34mThere are 1 clusters with 19 cameras\u001b[0m\n",
      "\u001b[34mThere are 1 clusters with 27 cameras\u001b[0m\n",
      "\u001b[34mThere are 1 clusters with 31 cameras\u001b[0m\n",
      "\u001b[34mThere are 1 clusters with 32 cameras\u001b[0m\n",
      "\u001b[34mThere are 1 clusters with 41 cameras\u001b[0m\n",
      "\u001b[34mThere are 1 clusters with 45 cameras\u001b[0m\n",
      "\u001b[34mThere are 1 clusters with 47 cameras\u001b[0m\n",
      "\u001b[34mThere are 1 clusters with 52 cameras\u001b[0m\n",
      "\u001b[34mThere are 1 clusters with 53 cameras\u001b[0m\n",
      "\u001b[34mThere are 2 clusters with 54 cameras\u001b[0m\n",
      "\u001b[34mThere are 1 clusters with 56 cameras\u001b[0m\n",
      "\u001b[34mThere are 3 clusters with 57 cameras\u001b[0m\n",
      "\u001b[34mThere are 1 clusters with 58 cameras\u001b[0m\n",
      "\u001b[34mThere are 6 clusters with 59 cameras\u001b[0m\n",
      "\u001b[34mThere are 9 clusters with 60 cameras\u001b[0m\n",
      "\u001b[34mThere are 13 clusters with 61 cameras\u001b[0m\n",
      "\u001b[34mThere are 26 clusters with 62 cameras\u001b[0m\n",
      "\u001b[34mThere are 36 clusters with 63 cameras\u001b[0m\n",
      "\u001b[34mThere are 461 clusters with 64 cameras\u001b[0m\n",
      "\u001b[34mThere are 1 clusters with 90 cameras\u001b[0m\n",
      "\u001b[34mThere are 1 clusters with 119 cameras\u001b[0m\n",
      "\u001b[34mThere are 1 clusters with 120 cameras\u001b[0m\n",
      "\u001b[34mThere are 1 clusters with 122 cameras\u001b[0m\n",
      "\u001b[34mThere are 1 clusters with 123 cameras\u001b[0m\n",
      "\u001b[34mThere are 2 clusters with 125 cameras\u001b[0m\n",
      "\u001b[34mThere are 2 clusters with 126 cameras\u001b[0m\n",
      "\u001b[34mThere are 1 clusters with 127 cameras\u001b[0m\n",
      "\u001b[34mThere are 8 clusters with 128 cameras\u001b[0m\n",
      "Number of classes: 600\n",
      "\u001b[36mLearning Rate: 0.000350\u001b[0m\n",
      "encontrou modelos efficientnet. Carregando...\n",
      "encontrou modelos convnext. Carregando...\n",
      "encontrou modelos mobilenet. Carregando...\n",
      "encontrou modelos vgg16. Carregando...\n",
      "encontrou modelos resnet50. Carregando...\n",
      "encontrou modelos osnet. Carregando...\n",
      "encontrou modelos densenet121. Carregando...\n",
      "\u001b[33mValidating online efficientnet ...\u001b[0m\n",
      "Features extracted in 84.18 seconds\n",
      "Features extracted in 120.56 seconds\n",
      "Computing CMC and mAP ...\n",
      "** Results **\n",
      "mAP: 69.91%\n",
      "CMC curve\n",
      "Rank-1  : 73.59%\n",
      "Rank-5  : 94.54%\n",
      "Rank-10 : 97.70%\n",
      "Rank-20 : 99.20%\n",
      "\u001b[33mValidating momentum efficientnet ...\u001b[0m\n",
      "Features extracted in 58.79 seconds\n",
      "Features extracted in 119.24 seconds\n",
      "Computing CMC and mAP ...\n",
      "** Results **\n",
      "mAP: 70.66%\n",
      "CMC curve\n",
      "Rank-1  : 76.80%\n",
      "Rank-5  : 93.39%\n",
      "Rank-10 : 96.79%\n",
      "Rank-20 : 98.68%\n",
      "\u001b[33mValidating online convnext ...\u001b[0m\n",
      "Features extracted in 62.07 seconds\n",
      "Features extracted in 122.57 seconds\n",
      "Computing CMC and mAP ...\n",
      "** Results **\n",
      "mAP: 70.08%\n",
      "CMC curve\n",
      "Rank-1  : 75.63%\n",
      "Rank-5  : 92.61%\n",
      "Rank-10 : 96.93%\n",
      "Rank-20 : 99.29%\n",
      "\u001b[33mValidating momentum convnext ...\u001b[0m\n",
      "Features extracted in 65.92 seconds\n",
      "Features extracted in 123.97 seconds\n",
      "Computing CMC and mAP ...\n",
      "** Results **\n",
      "mAP: 70.46%\n",
      "CMC curve\n",
      "Rank-1  : 77.49%\n",
      "Rank-5  : 93.71%\n",
      "Rank-10 : 96.84%\n",
      "Rank-20 : 98.71%\n",
      "\u001b[33mValidating online mobilenet ...\u001b[0m\n",
      "Features extracted in 57.15 seconds\n",
      "Features extracted in 116.31 seconds\n",
      "Computing CMC and mAP ...\n",
      "** Results **\n",
      "mAP: 71.39%\n",
      "CMC curve\n",
      "Rank-1  : 81.53%\n",
      "Rank-5  : 95.41%\n",
      "Rank-10 : 98.02%\n",
      "Rank-20 : 99.18%\n",
      "\u001b[33mValidating momentum mobilenet ...\u001b[0m\n",
      "Features extracted in 57.96 seconds\n",
      "Features extracted in 115.38 seconds\n",
      "Computing CMC and mAP ...\n",
      "** Results **\n",
      "mAP: 70.86%\n",
      "CMC curve\n",
      "Rank-1  : 78.95%\n",
      "Rank-5  : 93.89%\n",
      "Rank-10 : 97.47%\n",
      "Rank-20 : 99.27%\n",
      "\u001b[33mValidating online vgg16 ...\u001b[0m\n",
      "Features extracted in 59.01 seconds\n",
      "Features extracted in 119.41 seconds\n",
      "Computing CMC and mAP ...\n",
      "** Results **\n",
      "mAP: 69.67%\n",
      "CMC curve\n",
      "Rank-1  : 74.49%\n",
      "Rank-5  : 92.27%\n",
      "Rank-10 : 96.56%\n",
      "Rank-20 : 99.05%\n",
      "\u001b[33mValidating momentum vgg16 ...\u001b[0m\n",
      "Features extracted in 62.18 seconds\n",
      "Features extracted in 121.82 seconds\n",
      "Computing CMC and mAP ...\n",
      "** Results **\n",
      "mAP: 69.72%\n",
      "CMC curve\n",
      "Rank-1  : 75.80%\n",
      "Rank-5  : 92.91%\n",
      "Rank-10 : 97.25%\n",
      "Rank-20 : 99.09%\n",
      "\u001b[33mValidating online resnet50 ...\u001b[0m\n",
      "Features extracted in 55.47 seconds\n",
      "Features extracted in 115.88 seconds\n",
      "Computing CMC and mAP ...\n",
      "** Results **\n",
      "mAP: 69.64%\n",
      "CMC curve\n",
      "Rank-1  : 70.07%\n",
      "Rank-5  : 91.28%\n",
      "Rank-10 : 96.04%\n",
      "Rank-20 : 98.68%\n",
      "\u001b[33mValidating momentum resnet50 ...\u001b[0m\n",
      "Features extracted in 58.76 seconds\n",
      "Features extracted in 116.66 seconds\n",
      "Computing CMC and mAP ...\n",
      "** Results **\n",
      "mAP: 70.02%\n",
      "CMC curve\n",
      "Rank-1  : 73.39%\n",
      "Rank-5  : 93.49%\n",
      "Rank-10 : 97.50%\n",
      "Rank-20 : 99.37%\n",
      "\u001b[33mValidating online osnet ...\u001b[0m\n",
      "Features extracted in 55.98 seconds\n",
      "Features extracted in 115.06 seconds\n",
      "Computing CMC and mAP ...\n",
      "** Results **\n",
      "mAP: 68.61%\n",
      "CMC curve\n",
      "Rank-1  : 73.02%\n",
      "Rank-5  : 95.04%\n",
      "Rank-10 : 98.36%\n",
      "Rank-20 : 99.48%\n",
      "\u001b[33mValidating momentum osnet ...\u001b[0m\n",
      "Features extracted in 56.64 seconds\n",
      "Features extracted in 116.86 seconds\n",
      "Computing CMC and mAP ...\n",
      "** Results **\n",
      "mAP: 69.41%\n",
      "CMC curve\n",
      "Rank-1  : 73.33%\n",
      "Rank-5  : 93.05%\n",
      "Rank-10 : 97.14%\n",
      "Rank-20 : 99.12%\n",
      "\u001b[33mValidating online densenet121 ...\u001b[0m\n",
      "Features extracted in 56.08 seconds\n",
      "Features extracted in 119.75 seconds\n",
      "Computing CMC and mAP ...\n",
      "** Results **\n",
      "mAP: 70.12%\n",
      "CMC curve\n",
      "Rank-1  : 75.15%\n",
      "Rank-5  : 92.89%\n",
      "Rank-10 : 97.00%\n",
      "Rank-20 : 98.95%\n",
      "\u001b[33mValidating momentum densenet121 ...\u001b[0m\n",
      "Features extracted in 55.62 seconds\n",
      "Features extracted in 115.00 seconds\n",
      "Computing CMC and mAP ...\n",
      "** Results **\n",
      "mAP: 69.53%\n",
      "CMC curve\n",
      "Rank-1  : 75.91%\n",
      "Rank-5  : 93.33%\n",
      "Rank-10 : 97.31%\n",
      "Rank-20 : 99.25%\n",
      "\u001b[33mValidating ensembled with online models ...\u001b[0m\n",
      "Computing CMC and mAP ...\n",
      "** Results **\n",
      "mAP: 71.17%\n",
      "Ranks:\n",
      "Rank-1  : 78.73%\n",
      "Rank-5  : 92.94%\n",
      "Rank-10 : 96.83%\n",
      "\u001b[33mValidating ensembled with momentum models ...\u001b[0m\n",
      "Computing CMC and mAP ...\n",
      "** Results **\n",
      "mAP: 71.11%\n",
      "Ranks:\n",
      "Rank-1  : 79.83%\n",
      "Rank-5  : 92.92%\n",
      "Rank-10 : 96.74%\n",
      "###============ Iteration number 26/90 ============###\n",
      "Extracting Online Features for efficientnet ...\n",
      "Features extracted in 174.90 seconds\n",
      "Computing jaccard distance...\n"
     ]
    },
    {
     "name": "stderr",
     "output_type": "stream",
     "text": [
      "bruteForceKnn is deprecated; call bfKnn instead\n"
     ]
    },
    {
     "name": "stdout",
     "output_type": "stream",
     "text": [
      "Jaccard distance computing time cost: 490.5828347206116\n",
      "Extracting Online Features for convnext ...\n",
      "Features extracted in 202.91 seconds\n",
      "Computing jaccard distance...\n"
     ]
    },
    {
     "name": "stderr",
     "output_type": "stream",
     "text": [
      "bruteForceKnn is deprecated; call bfKnn instead\n"
     ]
    },
    {
     "name": "stdout",
     "output_type": "stream",
     "text": [
      "Jaccard distance computing time cost: 463.526091337204\n",
      "Extracting Online Features for mobilenet ...\n",
      "Features extracted in 222.19 seconds\n",
      "Computing jaccard distance...\n"
     ]
    },
    {
     "name": "stderr",
     "output_type": "stream",
     "text": [
      "bruteForceKnn is deprecated; call bfKnn instead\n"
     ]
    },
    {
     "name": "stdout",
     "output_type": "stream",
     "text": [
      "Jaccard distance computing time cost: 545.1478400230408\n",
      "Extracting Online Features for vgg16 ...\n",
      "Features extracted in 188.94 seconds\n",
      "Computing jaccard distance...\n"
     ]
    },
    {
     "name": "stderr",
     "output_type": "stream",
     "text": [
      "bruteForceKnn is deprecated; call bfKnn instead\n"
     ]
    },
    {
     "name": "stdout",
     "output_type": "stream",
     "text": [
      "Jaccard distance computing time cost: 504.9949789047241\n",
      "Extracting Online Features for resnet50 ...\n",
      "Features extracted in 199.44 seconds\n",
      "Computing jaccard distance...\n"
     ]
    },
    {
     "name": "stderr",
     "output_type": "stream",
     "text": [
      "bruteForceKnn is deprecated; call bfKnn instead\n"
     ]
    },
    {
     "name": "stdout",
     "output_type": "stream",
     "text": [
      "Jaccard distance computing time cost: 552.0692293643951\n",
      "Extracting Online Features for osnet ...\n",
      "Features extracted in 197.73 seconds\n",
      "Computing jaccard distance...\n"
     ]
    },
    {
     "name": "stderr",
     "output_type": "stream",
     "text": [
      "bruteForceKnn is deprecated; call bfKnn instead\n"
     ]
    },
    {
     "name": "stdout",
     "output_type": "stream",
     "text": [
      "Jaccard distance computing time cost: 535.5915284156799\n",
      "Extracting Online Features for densenet121 ...\n",
      "Features extracted in 254.00 seconds\n",
      "Computing jaccard distance...\n"
     ]
    },
    {
     "name": "stderr",
     "output_type": "stream",
     "text": [
      "bruteForceKnn is deprecated; call bfKnn instead\n"
     ]
    },
    {
     "name": "stdout",
     "output_type": "stream",
     "text": [
      "Jaccard distance computing time cost: 530.0536019802094\n",
      "Reliability: 0.994\n",
      "\u001b[32mMean Purity: 0.01644\u001b[0m\n",
      "\u001b[34mThere are 2 clusters with 4 cameras\u001b[0m\n",
      "\u001b[34mThere are 3 clusters with 5 cameras\u001b[0m\n",
      "\u001b[34mThere are 2 clusters with 6 cameras\u001b[0m\n",
      "\u001b[34mThere are 2 clusters with 7 cameras\u001b[0m\n",
      "\u001b[34mThere are 2 clusters with 9 cameras\u001b[0m\n",
      "\u001b[34mThere are 1 clusters with 11 cameras\u001b[0m\n",
      "\u001b[34mThere are 1 clusters with 12 cameras\u001b[0m\n",
      "\u001b[34mThere are 1 clusters with 16 cameras\u001b[0m\n",
      "\u001b[34mThere are 1 clusters with 17 cameras\u001b[0m\n",
      "\u001b[34mThere are 1 clusters with 19 cameras\u001b[0m\n",
      "\u001b[34mThere are 1 clusters with 27 cameras\u001b[0m\n",
      "\u001b[34mThere are 1 clusters with 31 cameras\u001b[0m\n",
      "\u001b[34mThere are 1 clusters with 32 cameras\u001b[0m\n",
      "\u001b[34mThere are 1 clusters with 41 cameras\u001b[0m\n",
      "\u001b[34mThere are 1 clusters with 45 cameras\u001b[0m\n",
      "\u001b[34mThere are 1 clusters with 47 cameras\u001b[0m\n",
      "\u001b[34mThere are 1 clusters with 52 cameras\u001b[0m\n",
      "\u001b[34mThere are 1 clusters with 53 cameras\u001b[0m\n",
      "\u001b[34mThere are 2 clusters with 54 cameras\u001b[0m\n",
      "\u001b[34mThere are 1 clusters with 56 cameras\u001b[0m\n",
      "\u001b[34mThere are 3 clusters with 57 cameras\u001b[0m\n",
      "\u001b[34mThere are 1 clusters with 58 cameras\u001b[0m\n",
      "\u001b[34mThere are 6 clusters with 59 cameras\u001b[0m\n",
      "\u001b[34mThere are 9 clusters with 60 cameras\u001b[0m\n",
      "\u001b[34mThere are 13 clusters with 61 cameras\u001b[0m\n",
      "\u001b[34mThere are 26 clusters with 62 cameras\u001b[0m\n",
      "\u001b[34mThere are 36 clusters with 63 cameras\u001b[0m\n",
      "\u001b[34mThere are 461 clusters with 64 cameras\u001b[0m\n",
      "\u001b[34mThere are 1 clusters with 90 cameras\u001b[0m\n",
      "\u001b[34mThere are 1 clusters with 119 cameras\u001b[0m\n",
      "\u001b[34mThere are 1 clusters with 120 cameras\u001b[0m\n",
      "\u001b[34mThere are 1 clusters with 122 cameras\u001b[0m\n",
      "\u001b[34mThere are 1 clusters with 123 cameras\u001b[0m\n",
      "\u001b[34mThere are 2 clusters with 125 cameras\u001b[0m\n",
      "\u001b[34mThere are 2 clusters with 126 cameras\u001b[0m\n",
      "\u001b[34mThere are 1 clusters with 127 cameras\u001b[0m\n",
      "\u001b[34mThere are 8 clusters with 128 cameras\u001b[0m\n",
      "Number of classes: 600\n",
      "\u001b[36mLearning Rate: 0.000350\u001b[0m\n",
      "encontrou modelos efficientnet. Carregando...\n",
      "encontrou modelos convnext. Carregando...\n",
      "encontrou modelos mobilenet. Carregando...\n",
      "encontrou modelos vgg16. Carregando...\n",
      "encontrou modelos resnet50. Carregando...\n",
      "encontrou modelos osnet. Carregando...\n",
      "encontrou modelos densenet121. Carregando...\n",
      "###============ Iteration number 27/90 ============###\n",
      "Extracting Online Features for efficientnet ...\n",
      "Features extracted in 244.79 seconds\n",
      "Computing jaccard distance...\n"
     ]
    },
    {
     "name": "stderr",
     "output_type": "stream",
     "text": [
      "bruteForceKnn is deprecated; call bfKnn instead\n"
     ]
    },
    {
     "name": "stdout",
     "output_type": "stream",
     "text": [
      "Jaccard distance computing time cost: 476.8168451786041\n",
      "Extracting Online Features for convnext ...\n",
      "Features extracted in 264.37 seconds\n",
      "Computing jaccard distance...\n"
     ]
    },
    {
     "name": "stderr",
     "output_type": "stream",
     "text": [
      "bruteForceKnn is deprecated; call bfKnn instead\n"
     ]
    },
    {
     "name": "stdout",
     "output_type": "stream",
     "text": [
      "Jaccard distance computing time cost: 562.0344226360321\n",
      "Extracting Online Features for mobilenet ...\n",
      "Features extracted in 251.74 seconds\n",
      "Computing jaccard distance...\n"
     ]
    },
    {
     "name": "stderr",
     "output_type": "stream",
     "text": [
      "bruteForceKnn is deprecated; call bfKnn instead\n"
     ]
    },
    {
     "name": "stdout",
     "output_type": "stream",
     "text": [
      "Jaccard distance computing time cost: 513.7031238079071\n",
      "Extracting Online Features for vgg16 ...\n",
      "Features extracted in 264.60 seconds\n",
      "Computing jaccard distance...\n"
     ]
    },
    {
     "name": "stderr",
     "output_type": "stream",
     "text": [
      "bruteForceKnn is deprecated; call bfKnn instead\n"
     ]
    },
    {
     "name": "stdout",
     "output_type": "stream",
     "text": [
      "Jaccard distance computing time cost: 503.5351495742798\n",
      "Extracting Online Features for resnet50 ...\n",
      "Features extracted in 268.91 seconds\n",
      "Computing jaccard distance...\n"
     ]
    },
    {
     "name": "stderr",
     "output_type": "stream",
     "text": [
      "bruteForceKnn is deprecated; call bfKnn instead\n"
     ]
    },
    {
     "name": "stdout",
     "output_type": "stream",
     "text": [
      "Jaccard distance computing time cost: 529.8259718418121\n",
      "Extracting Online Features for osnet ...\n",
      "Features extracted in 225.95 seconds\n",
      "Computing jaccard distance...\n"
     ]
    },
    {
     "name": "stderr",
     "output_type": "stream",
     "text": [
      "bruteForceKnn is deprecated; call bfKnn instead\n"
     ]
    },
    {
     "name": "stdout",
     "output_type": "stream",
     "text": [
      "Jaccard distance computing time cost: 553.9009466171265\n",
      "Extracting Online Features for densenet121 ...\n",
      "Features extracted in 255.00 seconds\n",
      "Computing jaccard distance...\n"
     ]
    },
    {
     "name": "stderr",
     "output_type": "stream",
     "text": [
      "bruteForceKnn is deprecated; call bfKnn instead\n"
     ]
    },
    {
     "name": "stdout",
     "output_type": "stream",
     "text": [
      "Jaccard distance computing time cost: 274.5448315143585\n",
      "Reliability: 0.994\n",
      "\u001b[32mMean Purity: 0.01644\u001b[0m\n",
      "\u001b[34mThere are 2 clusters with 4 cameras\u001b[0m\n",
      "\u001b[34mThere are 3 clusters with 5 cameras\u001b[0m\n",
      "\u001b[34mThere are 2 clusters with 6 cameras\u001b[0m\n",
      "\u001b[34mThere are 2 clusters with 7 cameras\u001b[0m\n",
      "\u001b[34mThere are 2 clusters with 9 cameras\u001b[0m\n",
      "\u001b[34mThere are 1 clusters with 11 cameras\u001b[0m\n",
      "\u001b[34mThere are 1 clusters with 12 cameras\u001b[0m\n",
      "\u001b[34mThere are 1 clusters with 16 cameras\u001b[0m\n",
      "\u001b[34mThere are 1 clusters with 17 cameras\u001b[0m\n",
      "\u001b[34mThere are 1 clusters with 19 cameras\u001b[0m\n",
      "\u001b[34mThere are 1 clusters with 27 cameras\u001b[0m\n",
      "\u001b[34mThere are 1 clusters with 31 cameras\u001b[0m\n",
      "\u001b[34mThere are 1 clusters with 32 cameras\u001b[0m\n",
      "\u001b[34mThere are 1 clusters with 41 cameras\u001b[0m\n",
      "\u001b[34mThere are 1 clusters with 45 cameras\u001b[0m\n",
      "\u001b[34mThere are 1 clusters with 47 cameras\u001b[0m\n",
      "\u001b[34mThere are 1 clusters with 52 cameras\u001b[0m\n",
      "\u001b[34mThere are 1 clusters with 53 cameras\u001b[0m\n",
      "\u001b[34mThere are 2 clusters with 54 cameras\u001b[0m\n",
      "\u001b[34mThere are 1 clusters with 56 cameras\u001b[0m\n",
      "\u001b[34mThere are 3 clusters with 57 cameras\u001b[0m\n",
      "\u001b[34mThere are 1 clusters with 58 cameras\u001b[0m\n",
      "\u001b[34mThere are 6 clusters with 59 cameras\u001b[0m\n",
      "\u001b[34mThere are 9 clusters with 60 cameras\u001b[0m\n",
      "\u001b[34mThere are 13 clusters with 61 cameras\u001b[0m\n",
      "\u001b[34mThere are 26 clusters with 62 cameras\u001b[0m\n",
      "\u001b[34mThere are 36 clusters with 63 cameras\u001b[0m\n",
      "\u001b[34mThere are 461 clusters with 64 cameras\u001b[0m\n",
      "\u001b[34mThere are 1 clusters with 90 cameras\u001b[0m\n",
      "\u001b[34mThere are 1 clusters with 119 cameras\u001b[0m\n",
      "\u001b[34mThere are 1 clusters with 120 cameras\u001b[0m\n",
      "\u001b[34mThere are 1 clusters with 122 cameras\u001b[0m\n",
      "\u001b[34mThere are 1 clusters with 123 cameras\u001b[0m\n",
      "\u001b[34mThere are 2 clusters with 125 cameras\u001b[0m\n",
      "\u001b[34mThere are 2 clusters with 126 cameras\u001b[0m\n",
      "\u001b[34mThere are 1 clusters with 127 cameras\u001b[0m\n",
      "\u001b[34mThere are 8 clusters with 128 cameras\u001b[0m\n",
      "Number of classes: 600\n",
      "\u001b[36mLearning Rate: 0.000350\u001b[0m\n",
      "encontrou modelos efficientnet. Carregando...\n",
      "encontrou modelos convnext. Carregando...\n",
      "encontrou modelos mobilenet. Carregando...\n",
      "encontrou modelos vgg16. Carregando...\n",
      "encontrou modelos resnet50. Carregando...\n",
      "encontrou modelos osnet. Carregando...\n",
      "encontrou modelos densenet121. Carregando...\n",
      "###============ Iteration number 28/90 ============###\n",
      "Extracting Online Features for efficientnet ...\n",
      "Features extracted in 283.48 seconds\n",
      "Computing jaccard distance...\n"
     ]
    },
    {
     "name": "stderr",
     "output_type": "stream",
     "text": [
      "bruteForceKnn is deprecated; call bfKnn instead\n"
     ]
    },
    {
     "name": "stdout",
     "output_type": "stream",
     "text": [
      "Jaccard distance computing time cost: 127.41174387931824\n",
      "Extracting Online Features for convnext ...\n",
      "Features extracted in 250.92 seconds\n",
      "Computing jaccard distance...\n"
     ]
    },
    {
     "name": "stderr",
     "output_type": "stream",
     "text": [
      "bruteForceKnn is deprecated; call bfKnn instead\n"
     ]
    },
    {
     "name": "stdout",
     "output_type": "stream",
     "text": [
      "Jaccard distance computing time cost: 101.37320470809937\n",
      "Extracting Online Features for mobilenet ...\n",
      "Features extracted in 250.51 seconds\n",
      "Computing jaccard distance...\n"
     ]
    },
    {
     "name": "stderr",
     "output_type": "stream",
     "text": [
      "bruteForceKnn is deprecated; call bfKnn instead\n"
     ]
    },
    {
     "name": "stdout",
     "output_type": "stream",
     "text": [
      "Jaccard distance computing time cost: 128.23199248313904\n",
      "Extracting Online Features for vgg16 ...\n",
      "Features extracted in 262.55 seconds\n",
      "Computing jaccard distance...\n"
     ]
    },
    {
     "name": "stderr",
     "output_type": "stream",
     "text": [
      "bruteForceKnn is deprecated; call bfKnn instead\n"
     ]
    },
    {
     "name": "stdout",
     "output_type": "stream",
     "text": [
      "Jaccard distance computing time cost: 108.42937445640564\n",
      "Extracting Online Features for resnet50 ...\n",
      "Features extracted in 252.90 seconds\n",
      "Computing jaccard distance...\n"
     ]
    },
    {
     "name": "stderr",
     "output_type": "stream",
     "text": [
      "bruteForceKnn is deprecated; call bfKnn instead\n"
     ]
    },
    {
     "name": "stdout",
     "output_type": "stream",
     "text": [
      "Jaccard distance computing time cost: 131.20159363746643\n",
      "Extracting Online Features for osnet ...\n",
      "Features extracted in 246.07 seconds\n",
      "Computing jaccard distance...\n"
     ]
    },
    {
     "name": "stderr",
     "output_type": "stream",
     "text": [
      "bruteForceKnn is deprecated; call bfKnn instead\n"
     ]
    },
    {
     "name": "stdout",
     "output_type": "stream",
     "text": [
      "Jaccard distance computing time cost: 100.28124141693115\n",
      "Extracting Online Features for densenet121 ...\n",
      "Features extracted in 236.67 seconds\n",
      "Computing jaccard distance...\n"
     ]
    },
    {
     "name": "stderr",
     "output_type": "stream",
     "text": [
      "bruteForceKnn is deprecated; call bfKnn instead\n"
     ]
    },
    {
     "name": "stdout",
     "output_type": "stream",
     "text": [
      "Jaccard distance computing time cost: 138.0141270160675\n",
      "Reliability: 0.994\n",
      "\u001b[32mMean Purity: 0.01644\u001b[0m\n",
      "\u001b[34mThere are 2 clusters with 4 cameras\u001b[0m\n",
      "\u001b[34mThere are 3 clusters with 5 cameras\u001b[0m\n",
      "\u001b[34mThere are 2 clusters with 6 cameras\u001b[0m\n",
      "\u001b[34mThere are 2 clusters with 7 cameras\u001b[0m\n",
      "\u001b[34mThere are 2 clusters with 9 cameras\u001b[0m\n",
      "\u001b[34mThere are 1 clusters with 11 cameras\u001b[0m\n",
      "\u001b[34mThere are 1 clusters with 12 cameras\u001b[0m\n",
      "\u001b[34mThere are 1 clusters with 16 cameras\u001b[0m\n",
      "\u001b[34mThere are 1 clusters with 17 cameras\u001b[0m\n",
      "\u001b[34mThere are 1 clusters with 19 cameras\u001b[0m\n",
      "\u001b[34mThere are 1 clusters with 27 cameras\u001b[0m\n",
      "\u001b[34mThere are 1 clusters with 31 cameras\u001b[0m\n",
      "\u001b[34mThere are 1 clusters with 32 cameras\u001b[0m\n",
      "\u001b[34mThere are 1 clusters with 41 cameras\u001b[0m\n",
      "\u001b[34mThere are 1 clusters with 45 cameras\u001b[0m\n",
      "\u001b[34mThere are 1 clusters with 47 cameras\u001b[0m\n",
      "\u001b[34mThere are 1 clusters with 52 cameras\u001b[0m\n",
      "\u001b[34mThere are 1 clusters with 53 cameras\u001b[0m\n",
      "\u001b[34mThere are 2 clusters with 54 cameras\u001b[0m\n",
      "\u001b[34mThere are 1 clusters with 56 cameras\u001b[0m\n",
      "\u001b[34mThere are 3 clusters with 57 cameras\u001b[0m\n",
      "\u001b[34mThere are 1 clusters with 58 cameras\u001b[0m\n",
      "\u001b[34mThere are 6 clusters with 59 cameras\u001b[0m\n",
      "\u001b[34mThere are 9 clusters with 60 cameras\u001b[0m\n",
      "\u001b[34mThere are 13 clusters with 61 cameras\u001b[0m\n",
      "\u001b[34mThere are 26 clusters with 62 cameras\u001b[0m\n",
      "\u001b[34mThere are 36 clusters with 63 cameras\u001b[0m\n",
      "\u001b[34mThere are 461 clusters with 64 cameras\u001b[0m\n",
      "\u001b[34mThere are 1 clusters with 90 cameras\u001b[0m\n",
      "\u001b[34mThere are 1 clusters with 119 cameras\u001b[0m\n",
      "\u001b[34mThere are 1 clusters with 120 cameras\u001b[0m\n",
      "\u001b[34mThere are 1 clusters with 122 cameras\u001b[0m\n",
      "\u001b[34mThere are 1 clusters with 123 cameras\u001b[0m\n",
      "\u001b[34mThere are 2 clusters with 125 cameras\u001b[0m\n",
      "\u001b[34mThere are 2 clusters with 126 cameras\u001b[0m\n",
      "\u001b[34mThere are 1 clusters with 127 cameras\u001b[0m\n",
      "\u001b[34mThere are 8 clusters with 128 cameras\u001b[0m\n",
      "Number of classes: 600\n",
      "\u001b[36mLearning Rate: 0.000350\u001b[0m\n",
      "encontrou modelos efficientnet. Carregando...\n",
      "encontrou modelos convnext. Carregando...\n",
      "encontrou modelos mobilenet. Carregando...\n",
      "encontrou modelos vgg16. Carregando...\n",
      "encontrou modelos resnet50. Carregando...\n",
      "encontrou modelos osnet. Carregando...\n",
      "encontrou modelos densenet121. Carregando...\n",
      "###============ Iteration number 29/90 ============###\n",
      "Extracting Online Features for efficientnet ...\n",
      "Features extracted in 183.83 seconds\n",
      "Computing jaccard distance...\n"
     ]
    },
    {
     "name": "stderr",
     "output_type": "stream",
     "text": [
      "bruteForceKnn is deprecated; call bfKnn instead\n"
     ]
    },
    {
     "name": "stdout",
     "output_type": "stream",
     "text": [
      "Jaccard distance computing time cost: 120.98960399627686\n",
      "Extracting Online Features for convnext ...\n",
      "Features extracted in 247.51 seconds\n",
      "Computing jaccard distance...\n"
     ]
    },
    {
     "name": "stderr",
     "output_type": "stream",
     "text": [
      "bruteForceKnn is deprecated; call bfKnn instead\n"
     ]
    },
    {
     "name": "stdout",
     "output_type": "stream",
     "text": [
      "Jaccard distance computing time cost: 153.60265231132507\n",
      "Extracting Online Features for mobilenet ...\n",
      "Features extracted in 237.40 seconds\n",
      "Computing jaccard distance...\n"
     ]
    },
    {
     "name": "stderr",
     "output_type": "stream",
     "text": [
      "bruteForceKnn is deprecated; call bfKnn instead\n"
     ]
    },
    {
     "name": "stdout",
     "output_type": "stream",
     "text": [
      "Jaccard distance computing time cost: 97.11990761756897\n",
      "Extracting Online Features for vgg16 ...\n",
      "Features extracted in 245.03 seconds\n",
      "Computing jaccard distance...\n"
     ]
    },
    {
     "name": "stderr",
     "output_type": "stream",
     "text": [
      "bruteForceKnn is deprecated; call bfKnn instead\n"
     ]
    },
    {
     "name": "stdout",
     "output_type": "stream",
     "text": [
      "Jaccard distance computing time cost: 91.07186770439148\n",
      "Extracting Online Features for resnet50 ...\n",
      "Features extracted in 251.77 seconds\n",
      "Computing jaccard distance...\n"
     ]
    },
    {
     "name": "stderr",
     "output_type": "stream",
     "text": [
      "bruteForceKnn is deprecated; call bfKnn instead\n"
     ]
    },
    {
     "name": "stdout",
     "output_type": "stream",
     "text": [
      "Jaccard distance computing time cost: 103.64489030838013\n",
      "Extracting Online Features for osnet ...\n",
      "Features extracted in 235.85 seconds\n",
      "Computing jaccard distance...\n"
     ]
    },
    {
     "name": "stderr",
     "output_type": "stream",
     "text": [
      "bruteForceKnn is deprecated; call bfKnn instead\n"
     ]
    },
    {
     "name": "stdout",
     "output_type": "stream",
     "text": [
      "Jaccard distance computing time cost: 92.42082333564758\n",
      "Extracting Online Features for densenet121 ...\n",
      "Features extracted in 227.26 seconds\n",
      "Computing jaccard distance...\n"
     ]
    },
    {
     "name": "stderr",
     "output_type": "stream",
     "text": [
      "bruteForceKnn is deprecated; call bfKnn instead\n"
     ]
    },
    {
     "name": "stdout",
     "output_type": "stream",
     "text": [
      "Jaccard distance computing time cost: 120.14842534065247\n",
      "Reliability: 0.994\n",
      "\u001b[32mMean Purity: 0.01644\u001b[0m\n",
      "\u001b[34mThere are 2 clusters with 4 cameras\u001b[0m\n",
      "\u001b[34mThere are 3 clusters with 5 cameras\u001b[0m\n",
      "\u001b[34mThere are 2 clusters with 6 cameras\u001b[0m\n",
      "\u001b[34mThere are 2 clusters with 7 cameras\u001b[0m\n",
      "\u001b[34mThere are 2 clusters with 9 cameras\u001b[0m\n",
      "\u001b[34mThere are 1 clusters with 11 cameras\u001b[0m\n",
      "\u001b[34mThere are 1 clusters with 12 cameras\u001b[0m\n",
      "\u001b[34mThere are 1 clusters with 16 cameras\u001b[0m\n",
      "\u001b[34mThere are 1 clusters with 17 cameras\u001b[0m\n",
      "\u001b[34mThere are 1 clusters with 19 cameras\u001b[0m\n",
      "\u001b[34mThere are 1 clusters with 27 cameras\u001b[0m\n",
      "\u001b[34mThere are 1 clusters with 31 cameras\u001b[0m\n",
      "\u001b[34mThere are 1 clusters with 32 cameras\u001b[0m\n",
      "\u001b[34mThere are 1 clusters with 41 cameras\u001b[0m\n",
      "\u001b[34mThere are 1 clusters with 45 cameras\u001b[0m\n",
      "\u001b[34mThere are 1 clusters with 47 cameras\u001b[0m\n",
      "\u001b[34mThere are 1 clusters with 52 cameras\u001b[0m\n",
      "\u001b[34mThere are 1 clusters with 53 cameras\u001b[0m\n",
      "\u001b[34mThere are 2 clusters with 54 cameras\u001b[0m\n",
      "\u001b[34mThere are 1 clusters with 56 cameras\u001b[0m\n",
      "\u001b[34mThere are 3 clusters with 57 cameras\u001b[0m\n",
      "\u001b[34mThere are 1 clusters with 58 cameras\u001b[0m\n",
      "\u001b[34mThere are 6 clusters with 59 cameras\u001b[0m\n",
      "\u001b[34mThere are 9 clusters with 60 cameras\u001b[0m\n",
      "\u001b[34mThere are 13 clusters with 61 cameras\u001b[0m\n",
      "\u001b[34mThere are 26 clusters with 62 cameras\u001b[0m\n",
      "\u001b[34mThere are 36 clusters with 63 cameras\u001b[0m\n",
      "\u001b[34mThere are 461 clusters with 64 cameras\u001b[0m\n",
      "\u001b[34mThere are 1 clusters with 90 cameras\u001b[0m\n",
      "\u001b[34mThere are 1 clusters with 119 cameras\u001b[0m\n",
      "\u001b[34mThere are 1 clusters with 120 cameras\u001b[0m\n",
      "\u001b[34mThere are 1 clusters with 122 cameras\u001b[0m\n",
      "\u001b[34mThere are 1 clusters with 123 cameras\u001b[0m\n",
      "\u001b[34mThere are 2 clusters with 125 cameras\u001b[0m\n",
      "\u001b[34mThere are 2 clusters with 126 cameras\u001b[0m\n",
      "\u001b[34mThere are 1 clusters with 127 cameras\u001b[0m\n",
      "\u001b[34mThere are 8 clusters with 128 cameras\u001b[0m\n",
      "Number of classes: 600\n",
      "\u001b[36mLearning Rate: 0.000350\u001b[0m\n",
      "encontrou modelos efficientnet. Carregando...\n",
      "encontrou modelos convnext. Carregando...\n",
      "encontrou modelos mobilenet. Carregando...\n",
      "encontrou modelos vgg16. Carregando...\n",
      "encontrou modelos resnet50. Carregando...\n",
      "encontrou modelos osnet. Carregando...\n",
      "encontrou modelos densenet121. Carregando...\n",
      "###============ Iteration number 30/90 ============###\n",
      "Extracting Online Features for efficientnet ...\n",
      "Features extracted in 244.78 seconds\n",
      "Computing jaccard distance...\n"
     ]
    },
    {
     "name": "stderr",
     "output_type": "stream",
     "text": [
      "bruteForceKnn is deprecated; call bfKnn instead\n"
     ]
    },
    {
     "name": "stdout",
     "output_type": "stream",
     "text": [
      "Jaccard distance computing time cost: 127.33728098869324\n",
      "Extracting Online Features for convnext ...\n",
      "Features extracted in 239.72 seconds\n",
      "Computing jaccard distance...\n"
     ]
    },
    {
     "name": "stderr",
     "output_type": "stream",
     "text": [
      "bruteForceKnn is deprecated; call bfKnn instead\n"
     ]
    },
    {
     "name": "stdout",
     "output_type": "stream",
     "text": [
      "Jaccard distance computing time cost: 114.76294159889221\n",
      "Extracting Online Features for mobilenet ...\n",
      "Features extracted in 240.27 seconds\n",
      "Computing jaccard distance...\n"
     ]
    },
    {
     "name": "stderr",
     "output_type": "stream",
     "text": [
      "bruteForceKnn is deprecated; call bfKnn instead\n"
     ]
    },
    {
     "name": "stdout",
     "output_type": "stream",
     "text": [
      "Jaccard distance computing time cost: 98.83089709281921\n",
      "Extracting Online Features for vgg16 ...\n",
      "Features extracted in 207.26 seconds\n",
      "Computing jaccard distance...\n"
     ]
    },
    {
     "name": "stderr",
     "output_type": "stream",
     "text": [
      "bruteForceKnn is deprecated; call bfKnn instead\n"
     ]
    },
    {
     "name": "stdout",
     "output_type": "stream",
     "text": [
      "Jaccard distance computing time cost: 104.6633198261261\n",
      "Extracting Online Features for resnet50 ...\n",
      "Features extracted in 217.66 seconds\n",
      "Computing jaccard distance...\n"
     ]
    },
    {
     "name": "stderr",
     "output_type": "stream",
     "text": [
      "bruteForceKnn is deprecated; call bfKnn instead\n"
     ]
    },
    {
     "name": "stdout",
     "output_type": "stream",
     "text": [
      "Jaccard distance computing time cost: 96.82998561859131\n",
      "Extracting Online Features for osnet ...\n",
      "Features extracted in 167.81 seconds\n",
      "Computing jaccard distance...\n"
     ]
    },
    {
     "name": "stderr",
     "output_type": "stream",
     "text": [
      "bruteForceKnn is deprecated; call bfKnn instead\n"
     ]
    },
    {
     "name": "stdout",
     "output_type": "stream",
     "text": [
      "Jaccard distance computing time cost: 97.62178421020508\n",
      "Extracting Online Features for densenet121 ...\n",
      "Features extracted in 220.98 seconds\n",
      "Computing jaccard distance...\n"
     ]
    },
    {
     "name": "stderr",
     "output_type": "stream",
     "text": [
      "bruteForceKnn is deprecated; call bfKnn instead\n"
     ]
    },
    {
     "name": "stdout",
     "output_type": "stream",
     "text": [
      "Jaccard distance computing time cost: 132.11976623535156\n",
      "Reliability: 0.994\n",
      "\u001b[32mMean Purity: 0.01644\u001b[0m\n",
      "\u001b[34mThere are 2 clusters with 4 cameras\u001b[0m\n",
      "\u001b[34mThere are 3 clusters with 5 cameras\u001b[0m\n",
      "\u001b[34mThere are 2 clusters with 6 cameras\u001b[0m\n",
      "\u001b[34mThere are 2 clusters with 7 cameras\u001b[0m\n",
      "\u001b[34mThere are 2 clusters with 9 cameras\u001b[0m\n",
      "\u001b[34mThere are 1 clusters with 11 cameras\u001b[0m\n",
      "\u001b[34mThere are 1 clusters with 12 cameras\u001b[0m\n",
      "\u001b[34mThere are 1 clusters with 16 cameras\u001b[0m\n",
      "\u001b[34mThere are 1 clusters with 17 cameras\u001b[0m\n",
      "\u001b[34mThere are 1 clusters with 19 cameras\u001b[0m\n",
      "\u001b[34mThere are 1 clusters with 27 cameras\u001b[0m\n",
      "\u001b[34mThere are 1 clusters with 31 cameras\u001b[0m\n",
      "\u001b[34mThere are 1 clusters with 32 cameras\u001b[0m\n",
      "\u001b[34mThere are 1 clusters with 41 cameras\u001b[0m\n",
      "\u001b[34mThere are 1 clusters with 45 cameras\u001b[0m\n",
      "\u001b[34mThere are 1 clusters with 47 cameras\u001b[0m\n",
      "\u001b[34mThere are 1 clusters with 52 cameras\u001b[0m\n",
      "\u001b[34mThere are 1 clusters with 53 cameras\u001b[0m\n",
      "\u001b[34mThere are 2 clusters with 54 cameras\u001b[0m\n",
      "\u001b[34mThere are 1 clusters with 56 cameras\u001b[0m\n",
      "\u001b[34mThere are 3 clusters with 57 cameras\u001b[0m\n",
      "\u001b[34mThere are 1 clusters with 58 cameras\u001b[0m\n",
      "\u001b[34mThere are 6 clusters with 59 cameras\u001b[0m\n",
      "\u001b[34mThere are 9 clusters with 60 cameras\u001b[0m\n",
      "\u001b[34mThere are 13 clusters with 61 cameras\u001b[0m\n",
      "\u001b[34mThere are 26 clusters with 62 cameras\u001b[0m\n",
      "\u001b[34mThere are 36 clusters with 63 cameras\u001b[0m\n",
      "\u001b[34mThere are 461 clusters with 64 cameras\u001b[0m\n",
      "\u001b[34mThere are 1 clusters with 90 cameras\u001b[0m\n",
      "\u001b[34mThere are 1 clusters with 119 cameras\u001b[0m\n",
      "\u001b[34mThere are 1 clusters with 120 cameras\u001b[0m\n",
      "\u001b[34mThere are 1 clusters with 122 cameras\u001b[0m\n",
      "\u001b[34mThere are 1 clusters with 123 cameras\u001b[0m\n",
      "\u001b[34mThere are 2 clusters with 125 cameras\u001b[0m\n",
      "\u001b[34mThere are 2 clusters with 126 cameras\u001b[0m\n",
      "\u001b[34mThere are 1 clusters with 127 cameras\u001b[0m\n",
      "\u001b[34mThere are 8 clusters with 128 cameras\u001b[0m\n",
      "Number of classes: 600\n",
      "\u001b[36mLearning Rate: 0.000350\u001b[0m\n",
      "encontrou modelos efficientnet. Carregando...\n",
      "encontrou modelos convnext. Carregando...\n",
      "encontrou modelos mobilenet. Carregando...\n",
      "encontrou modelos vgg16. Carregando...\n",
      "encontrou modelos resnet50. Carregando...\n",
      "encontrou modelos osnet. Carregando...\n",
      "encontrou modelos densenet121. Carregando...\n",
      "\u001b[33mValidating online efficientnet ...\u001b[0m\n",
      "Features extracted in 65.51 seconds\n",
      "Features extracted in 121.67 seconds\n",
      "Computing CMC and mAP ...\n",
      "** Results **\n",
      "mAP: 69.91%\n",
      "CMC curve\n",
      "Rank-1  : 73.59%\n",
      "Rank-5  : 94.54%\n",
      "Rank-10 : 97.70%\n",
      "Rank-20 : 99.20%\n",
      "\u001b[33mValidating momentum efficientnet ...\u001b[0m\n",
      "Features extracted in 50.37 seconds\n",
      "Features extracted in 105.43 seconds\n",
      "Computing CMC and mAP ...\n",
      "** Results **\n",
      "mAP: 70.66%\n",
      "CMC curve\n",
      "Rank-1  : 76.80%\n",
      "Rank-5  : 93.39%\n",
      "Rank-10 : 96.79%\n",
      "Rank-20 : 98.68%\n",
      "\u001b[33mValidating online convnext ...\u001b[0m\n",
      "Features extracted in 52.12 seconds\n",
      "Features extracted in 114.53 seconds\n",
      "Computing CMC and mAP ...\n",
      "** Results **\n",
      "mAP: 70.08%\n",
      "CMC curve\n",
      "Rank-1  : 75.63%\n",
      "Rank-5  : 92.61%\n",
      "Rank-10 : 96.93%\n",
      "Rank-20 : 99.29%\n",
      "\u001b[33mValidating momentum convnext ...\u001b[0m\n",
      "Features extracted in 51.80 seconds\n",
      "Features extracted in 106.75 seconds\n",
      "Computing CMC and mAP ...\n",
      "** Results **\n",
      "mAP: 70.46%\n",
      "CMC curve\n",
      "Rank-1  : 77.49%\n",
      "Rank-5  : 93.71%\n",
      "Rank-10 : 96.84%\n",
      "Rank-20 : 98.71%\n",
      "\u001b[33mValidating online mobilenet ...\u001b[0m\n",
      "Features extracted in 49.81 seconds\n",
      "Features extracted in 104.88 seconds\n",
      "Computing CMC and mAP ...\n",
      "** Results **\n",
      "mAP: 71.39%\n",
      "CMC curve\n",
      "Rank-1  : 81.53%\n",
      "Rank-5  : 95.41%\n",
      "Rank-10 : 98.02%\n",
      "Rank-20 : 99.18%\n",
      "\u001b[33mValidating momentum mobilenet ...\u001b[0m\n",
      "Features extracted in 49.44 seconds\n",
      "Features extracted in 101.33 seconds\n",
      "Computing CMC and mAP ...\n",
      "** Results **\n",
      "mAP: 70.86%\n",
      "CMC curve\n",
      "Rank-1  : 78.95%\n",
      "Rank-5  : 93.89%\n",
      "Rank-10 : 97.47%\n",
      "Rank-20 : 99.27%\n",
      "\u001b[33mValidating online vgg16 ...\u001b[0m\n",
      "Features extracted in 50.57 seconds\n",
      "Features extracted in 102.38 seconds\n",
      "Computing CMC and mAP ...\n",
      "** Results **\n",
      "mAP: 69.67%\n",
      "CMC curve\n",
      "Rank-1  : 74.49%\n",
      "Rank-5  : 92.27%\n",
      "Rank-10 : 96.56%\n",
      "Rank-20 : 99.05%\n",
      "\u001b[33mValidating momentum vgg16 ...\u001b[0m\n",
      "Features extracted in 50.13 seconds\n",
      "Features extracted in 112.21 seconds\n",
      "Computing CMC and mAP ...\n",
      "** Results **\n",
      "mAP: 69.72%\n",
      "CMC curve\n",
      "Rank-1  : 75.80%\n",
      "Rank-5  : 92.91%\n",
      "Rank-10 : 97.25%\n",
      "Rank-20 : 99.09%\n",
      "\u001b[33mValidating online resnet50 ...\u001b[0m\n",
      "Features extracted in 50.62 seconds\n",
      "Features extracted in 101.99 seconds\n",
      "Computing CMC and mAP ...\n",
      "** Results **\n",
      "mAP: 69.64%\n",
      "CMC curve\n",
      "Rank-1  : 70.07%\n",
      "Rank-5  : 91.28%\n",
      "Rank-10 : 96.04%\n",
      "Rank-20 : 98.68%\n",
      "\u001b[33mValidating momentum resnet50 ...\u001b[0m\n",
      "Features extracted in 55.84 seconds\n",
      "Features extracted in 108.25 seconds\n",
      "Computing CMC and mAP ...\n",
      "** Results **\n",
      "mAP: 70.02%\n",
      "CMC curve\n",
      "Rank-1  : 73.39%\n",
      "Rank-5  : 93.49%\n",
      "Rank-10 : 97.50%\n",
      "Rank-20 : 99.37%\n",
      "\u001b[33mValidating online osnet ...\u001b[0m\n",
      "Features extracted in 53.28 seconds\n",
      "Features extracted in 101.35 seconds\n",
      "Computing CMC and mAP ...\n",
      "** Results **\n",
      "mAP: 68.61%\n",
      "CMC curve\n",
      "Rank-1  : 73.02%\n",
      "Rank-5  : 95.04%\n",
      "Rank-10 : 98.36%\n",
      "Rank-20 : 99.48%\n",
      "\u001b[33mValidating momentum osnet ...\u001b[0m\n",
      "Features extracted in 54.91 seconds\n",
      "Features extracted in 110.08 seconds\n",
      "Computing CMC and mAP ...\n",
      "** Results **\n",
      "mAP: 69.41%\n",
      "CMC curve\n",
      "Rank-1  : 73.33%\n",
      "Rank-5  : 93.05%\n",
      "Rank-10 : 97.14%\n",
      "Rank-20 : 99.12%\n",
      "\u001b[33mValidating online densenet121 ...\u001b[0m\n",
      "Features extracted in 50.53 seconds\n",
      "Features extracted in 124.03 seconds\n",
      "Computing CMC and mAP ...\n",
      "** Results **\n",
      "mAP: 70.12%\n",
      "CMC curve\n",
      "Rank-1  : 75.15%\n",
      "Rank-5  : 92.89%\n",
      "Rank-10 : 97.00%\n",
      "Rank-20 : 98.95%\n",
      "\u001b[33mValidating momentum densenet121 ...\u001b[0m\n",
      "Features extracted in 51.15 seconds\n",
      "Features extracted in 108.84 seconds\n",
      "Computing CMC and mAP ...\n",
      "** Results **\n",
      "mAP: 69.53%\n",
      "CMC curve\n",
      "Rank-1  : 75.91%\n",
      "Rank-5  : 93.33%\n",
      "Rank-10 : 97.31%\n",
      "Rank-20 : 99.25%\n",
      "\u001b[33mValidating ensembled with online models ...\u001b[0m\n",
      "Computing CMC and mAP ...\n",
      "** Results **\n",
      "mAP: 71.17%\n",
      "Ranks:\n",
      "Rank-1  : 78.73%\n",
      "Rank-5  : 92.94%\n",
      "Rank-10 : 96.83%\n",
      "\u001b[33mValidating ensembled with momentum models ...\u001b[0m\n",
      "Computing CMC and mAP ...\n",
      "** Results **\n",
      "mAP: 71.11%\n",
      "Ranks:\n",
      "Rank-1  : 79.83%\n",
      "Rank-5  : 92.92%\n",
      "Rank-10 : 96.74%\n",
      "###============ Iteration number 31/90 ============###\n",
      "Extracting Online Features for efficientnet ...\n",
      "Features extracted in 157.82 seconds\n",
      "Computing jaccard distance...\n"
     ]
    },
    {
     "name": "stderr",
     "output_type": "stream",
     "text": [
      "bruteForceKnn is deprecated; call bfKnn instead\n"
     ]
    },
    {
     "name": "stdout",
     "output_type": "stream",
     "text": [
      "Jaccard distance computing time cost: 75.43847322463989\n",
      "Extracting Online Features for convnext ...\n",
      "Features extracted in 238.86 seconds\n",
      "Computing jaccard distance...\n"
     ]
    },
    {
     "name": "stderr",
     "output_type": "stream",
     "text": [
      "bruteForceKnn is deprecated; call bfKnn instead\n"
     ]
    },
    {
     "name": "stdout",
     "output_type": "stream",
     "text": [
      "Jaccard distance computing time cost: 157.72655248641968\n",
      "Extracting Online Features for mobilenet ...\n",
      "Features extracted in 206.71 seconds\n",
      "Computing jaccard distance...\n"
     ]
    },
    {
     "name": "stderr",
     "output_type": "stream",
     "text": [
      "bruteForceKnn is deprecated; call bfKnn instead\n"
     ]
    },
    {
     "name": "stdout",
     "output_type": "stream",
     "text": [
      "Jaccard distance computing time cost: 164.22222685813904\n",
      "Extracting Online Features for vgg16 ...\n",
      "Features extracted in 195.43 seconds\n",
      "Computing jaccard distance...\n"
     ]
    },
    {
     "name": "stderr",
     "output_type": "stream",
     "text": [
      "bruteForceKnn is deprecated; call bfKnn instead\n"
     ]
    },
    {
     "name": "stdout",
     "output_type": "stream",
     "text": [
      "Jaccard distance computing time cost: 154.25333547592163\n",
      "Extracting Online Features for resnet50 ...\n",
      "Features extracted in 184.69 seconds\n",
      "Computing jaccard distance...\n"
     ]
    },
    {
     "name": "stderr",
     "output_type": "stream",
     "text": [
      "bruteForceKnn is deprecated; call bfKnn instead\n"
     ]
    },
    {
     "name": "stdout",
     "output_type": "stream",
     "text": [
      "Jaccard distance computing time cost: 114.16210341453552\n",
      "Extracting Online Features for osnet ...\n",
      "Features extracted in 172.80 seconds\n",
      "Computing jaccard distance...\n"
     ]
    },
    {
     "name": "stderr",
     "output_type": "stream",
     "text": [
      "bruteForceKnn is deprecated; call bfKnn instead\n"
     ]
    },
    {
     "name": "stdout",
     "output_type": "stream",
     "text": [
      "Jaccard distance computing time cost: 80.68697142601013\n",
      "Extracting Online Features for densenet121 ...\n",
      "Features extracted in 170.93 seconds\n",
      "Computing jaccard distance...\n"
     ]
    },
    {
     "name": "stderr",
     "output_type": "stream",
     "text": [
      "bruteForceKnn is deprecated; call bfKnn instead\n"
     ]
    },
    {
     "name": "stdout",
     "output_type": "stream",
     "text": [
      "Jaccard distance computing time cost: 148.80058598518372\n",
      "Reliability: 0.994\n",
      "\u001b[32mMean Purity: 0.01644\u001b[0m\n",
      "\u001b[34mThere are 2 clusters with 4 cameras\u001b[0m\n",
      "\u001b[34mThere are 3 clusters with 5 cameras\u001b[0m\n",
      "\u001b[34mThere are 2 clusters with 6 cameras\u001b[0m\n",
      "\u001b[34mThere are 2 clusters with 7 cameras\u001b[0m\n",
      "\u001b[34mThere are 2 clusters with 9 cameras\u001b[0m\n",
      "\u001b[34mThere are 1 clusters with 11 cameras\u001b[0m\n",
      "\u001b[34mThere are 1 clusters with 12 cameras\u001b[0m\n",
      "\u001b[34mThere are 1 clusters with 16 cameras\u001b[0m\n",
      "\u001b[34mThere are 1 clusters with 17 cameras\u001b[0m\n",
      "\u001b[34mThere are 1 clusters with 19 cameras\u001b[0m\n",
      "\u001b[34mThere are 1 clusters with 27 cameras\u001b[0m\n",
      "\u001b[34mThere are 1 clusters with 31 cameras\u001b[0m\n",
      "\u001b[34mThere are 1 clusters with 32 cameras\u001b[0m\n",
      "\u001b[34mThere are 1 clusters with 41 cameras\u001b[0m\n",
      "\u001b[34mThere are 1 clusters with 45 cameras\u001b[0m\n",
      "\u001b[34mThere are 1 clusters with 47 cameras\u001b[0m\n",
      "\u001b[34mThere are 1 clusters with 52 cameras\u001b[0m\n",
      "\u001b[34mThere are 1 clusters with 53 cameras\u001b[0m\n",
      "\u001b[34mThere are 2 clusters with 54 cameras\u001b[0m\n",
      "\u001b[34mThere are 1 clusters with 56 cameras\u001b[0m\n",
      "\u001b[34mThere are 3 clusters with 57 cameras\u001b[0m\n",
      "\u001b[34mThere are 1 clusters with 58 cameras\u001b[0m\n",
      "\u001b[34mThere are 6 clusters with 59 cameras\u001b[0m\n",
      "\u001b[34mThere are 9 clusters with 60 cameras\u001b[0m\n",
      "\u001b[34mThere are 13 clusters with 61 cameras\u001b[0m\n",
      "\u001b[34mThere are 26 clusters with 62 cameras\u001b[0m\n",
      "\u001b[34mThere are 36 clusters with 63 cameras\u001b[0m\n",
      "\u001b[34mThere are 461 clusters with 64 cameras\u001b[0m\n",
      "\u001b[34mThere are 1 clusters with 90 cameras\u001b[0m\n",
      "\u001b[34mThere are 1 clusters with 119 cameras\u001b[0m\n",
      "\u001b[34mThere are 1 clusters with 120 cameras\u001b[0m\n",
      "\u001b[34mThere are 1 clusters with 122 cameras\u001b[0m\n",
      "\u001b[34mThere are 1 clusters with 123 cameras\u001b[0m\n",
      "\u001b[34mThere are 2 clusters with 125 cameras\u001b[0m\n",
      "\u001b[34mThere are 2 clusters with 126 cameras\u001b[0m\n",
      "\u001b[34mThere are 1 clusters with 127 cameras\u001b[0m\n",
      "\u001b[34mThere are 8 clusters with 128 cameras\u001b[0m\n",
      "Number of classes: 600\n",
      "\u001b[36mLearning Rate: 0.000350\u001b[0m\n",
      "encontrou modelos efficientnet. Carregando...\n",
      "encontrou modelos convnext. Carregando...\n",
      "encontrou modelos mobilenet. Carregando...\n",
      "encontrou modelos vgg16. Carregando...\n",
      "encontrou modelos resnet50. Carregando...\n",
      "encontrou modelos osnet. Carregando...\n",
      "encontrou modelos densenet121. Carregando...\n",
      "###============ Iteration number 32/90 ============###\n",
      "Extracting Online Features for efficientnet ...\n",
      "Features extracted in 186.31 seconds\n",
      "Computing jaccard distance...\n"
     ]
    },
    {
     "name": "stderr",
     "output_type": "stream",
     "text": [
      "bruteForceKnn is deprecated; call bfKnn instead\n"
     ]
    },
    {
     "name": "stdout",
     "output_type": "stream",
     "text": [
      "Jaccard distance computing time cost: 83.7239637374878\n",
      "Extracting Online Features for convnext ...\n",
      "Features extracted in 182.41 seconds\n",
      "Computing jaccard distance...\n"
     ]
    },
    {
     "name": "stderr",
     "output_type": "stream",
     "text": [
      "bruteForceKnn is deprecated; call bfKnn instead\n"
     ]
    },
    {
     "name": "stdout",
     "output_type": "stream",
     "text": [
      "Jaccard distance computing time cost: 78.4052267074585\n",
      "Extracting Online Features for mobilenet ...\n",
      "Features extracted in 181.88 seconds\n",
      "Computing jaccard distance...\n"
     ]
    },
    {
     "name": "stderr",
     "output_type": "stream",
     "text": [
      "bruteForceKnn is deprecated; call bfKnn instead\n"
     ]
    },
    {
     "name": "stdout",
     "output_type": "stream",
     "text": [
      "Jaccard distance computing time cost: 70.93420839309692\n",
      "Extracting Online Features for vgg16 ...\n",
      "Features extracted in 163.17 seconds\n",
      "Computing jaccard distance...\n"
     ]
    },
    {
     "name": "stderr",
     "output_type": "stream",
     "text": [
      "bruteForceKnn is deprecated; call bfKnn instead\n"
     ]
    },
    {
     "name": "stdout",
     "output_type": "stream",
     "text": [
      "Jaccard distance computing time cost: 78.74173903465271\n",
      "Extracting Online Features for resnet50 ...\n",
      "Features extracted in 174.59 seconds\n",
      "Computing jaccard distance...\n"
     ]
    },
    {
     "name": "stderr",
     "output_type": "stream",
     "text": [
      "bruteForceKnn is deprecated; call bfKnn instead\n"
     ]
    },
    {
     "name": "stdout",
     "output_type": "stream",
     "text": [
      "Jaccard distance computing time cost: 93.52678871154785\n",
      "Extracting Online Features for osnet ...\n",
      "Features extracted in 182.84 seconds\n",
      "Computing jaccard distance...\n"
     ]
    },
    {
     "name": "stderr",
     "output_type": "stream",
     "text": [
      "bruteForceKnn is deprecated; call bfKnn instead\n"
     ]
    },
    {
     "name": "stdout",
     "output_type": "stream",
     "text": [
      "Jaccard distance computing time cost: 117.65331268310547\n",
      "Extracting Online Features for densenet121 ...\n",
      "Features extracted in 185.34 seconds\n",
      "Computing jaccard distance...\n"
     ]
    },
    {
     "name": "stderr",
     "output_type": "stream",
     "text": [
      "bruteForceKnn is deprecated; call bfKnn instead\n"
     ]
    },
    {
     "name": "stdout",
     "output_type": "stream",
     "text": [
      "Jaccard distance computing time cost: 122.7601330280304\n",
      "Reliability: 0.994\n",
      "\u001b[32mMean Purity: 0.01644\u001b[0m\n",
      "\u001b[34mThere are 2 clusters with 4 cameras\u001b[0m\n",
      "\u001b[34mThere are 3 clusters with 5 cameras\u001b[0m\n",
      "\u001b[34mThere are 2 clusters with 6 cameras\u001b[0m\n",
      "\u001b[34mThere are 2 clusters with 7 cameras\u001b[0m\n",
      "\u001b[34mThere are 2 clusters with 9 cameras\u001b[0m\n",
      "\u001b[34mThere are 1 clusters with 11 cameras\u001b[0m\n",
      "\u001b[34mThere are 1 clusters with 12 cameras\u001b[0m\n",
      "\u001b[34mThere are 1 clusters with 16 cameras\u001b[0m\n",
      "\u001b[34mThere are 1 clusters with 17 cameras\u001b[0m\n",
      "\u001b[34mThere are 1 clusters with 19 cameras\u001b[0m\n",
      "\u001b[34mThere are 1 clusters with 27 cameras\u001b[0m\n",
      "\u001b[34mThere are 1 clusters with 31 cameras\u001b[0m\n",
      "\u001b[34mThere are 1 clusters with 32 cameras\u001b[0m\n",
      "\u001b[34mThere are 1 clusters with 41 cameras\u001b[0m\n",
      "\u001b[34mThere are 1 clusters with 45 cameras\u001b[0m\n",
      "\u001b[34mThere are 1 clusters with 47 cameras\u001b[0m\n",
      "\u001b[34mThere are 1 clusters with 52 cameras\u001b[0m\n",
      "\u001b[34mThere are 1 clusters with 53 cameras\u001b[0m\n",
      "\u001b[34mThere are 2 clusters with 54 cameras\u001b[0m\n",
      "\u001b[34mThere are 1 clusters with 56 cameras\u001b[0m\n",
      "\u001b[34mThere are 3 clusters with 57 cameras\u001b[0m\n",
      "\u001b[34mThere are 1 clusters with 58 cameras\u001b[0m\n",
      "\u001b[34mThere are 6 clusters with 59 cameras\u001b[0m\n",
      "\u001b[34mThere are 9 clusters with 60 cameras\u001b[0m\n",
      "\u001b[34mThere are 13 clusters with 61 cameras\u001b[0m\n",
      "\u001b[34mThere are 26 clusters with 62 cameras\u001b[0m\n",
      "\u001b[34mThere are 36 clusters with 63 cameras\u001b[0m\n",
      "\u001b[34mThere are 461 clusters with 64 cameras\u001b[0m\n",
      "\u001b[34mThere are 1 clusters with 90 cameras\u001b[0m\n",
      "\u001b[34mThere are 1 clusters with 119 cameras\u001b[0m\n",
      "\u001b[34mThere are 1 clusters with 120 cameras\u001b[0m\n",
      "\u001b[34mThere are 1 clusters with 122 cameras\u001b[0m\n",
      "\u001b[34mThere are 1 clusters with 123 cameras\u001b[0m\n",
      "\u001b[34mThere are 2 clusters with 125 cameras\u001b[0m\n",
      "\u001b[34mThere are 2 clusters with 126 cameras\u001b[0m\n",
      "\u001b[34mThere are 1 clusters with 127 cameras\u001b[0m\n",
      "\u001b[34mThere are 8 clusters with 128 cameras\u001b[0m\n",
      "Number of classes: 600\n",
      "\u001b[36mLearning Rate: 0.000350\u001b[0m\n",
      "encontrou modelos efficientnet. Carregando...\n",
      "encontrou modelos convnext. Carregando...\n",
      "encontrou modelos mobilenet. Carregando...\n",
      "encontrou modelos vgg16. Carregando...\n",
      "encontrou modelos resnet50. Carregando...\n",
      "encontrou modelos osnet. Carregando...\n",
      "encontrou modelos densenet121. Carregando...\n",
      "###============ Iteration number 33/90 ============###\n",
      "Extracting Online Features for efficientnet ...\n",
      "Features extracted in 158.63 seconds\n",
      "Computing jaccard distance...\n"
     ]
    },
    {
     "name": "stderr",
     "output_type": "stream",
     "text": [
      "bruteForceKnn is deprecated; call bfKnn instead\n"
     ]
    },
    {
     "name": "stdout",
     "output_type": "stream",
     "text": [
      "Jaccard distance computing time cost: 69.79976296424866\n",
      "Extracting Online Features for convnext ...\n",
      "Features extracted in 186.60 seconds\n",
      "Computing jaccard distance...\n"
     ]
    },
    {
     "name": "stderr",
     "output_type": "stream",
     "text": [
      "bruteForceKnn is deprecated; call bfKnn instead\n"
     ]
    },
    {
     "name": "stdout",
     "output_type": "stream",
     "text": [
      "Jaccard distance computing time cost: 125.14092326164246\n",
      "Extracting Online Features for mobilenet ...\n",
      "Features extracted in 198.19 seconds\n",
      "Computing jaccard distance...\n"
     ]
    },
    {
     "name": "stderr",
     "output_type": "stream",
     "text": [
      "bruteForceKnn is deprecated; call bfKnn instead\n"
     ]
    },
    {
     "name": "stdout",
     "output_type": "stream",
     "text": [
      "Jaccard distance computing time cost: 164.24812054634094\n",
      "Extracting Online Features for vgg16 ...\n",
      "Features extracted in 179.27 seconds\n",
      "Computing jaccard distance...\n"
     ]
    },
    {
     "name": "stderr",
     "output_type": "stream",
     "text": [
      "bruteForceKnn is deprecated; call bfKnn instead\n"
     ]
    },
    {
     "name": "stdout",
     "output_type": "stream",
     "text": [
      "Jaccard distance computing time cost: 114.58654260635376\n",
      "Extracting Online Features for resnet50 ...\n",
      "Features extracted in 185.62 seconds\n",
      "Computing jaccard distance...\n"
     ]
    },
    {
     "name": "stderr",
     "output_type": "stream",
     "text": [
      "bruteForceKnn is deprecated; call bfKnn instead\n"
     ]
    },
    {
     "name": "stdout",
     "output_type": "stream",
     "text": [
      "Jaccard distance computing time cost: 73.44306206703186\n",
      "Extracting Online Features for osnet ...\n",
      "Features extracted in 179.83 seconds\n",
      "Computing jaccard distance...\n"
     ]
    },
    {
     "name": "stderr",
     "output_type": "stream",
     "text": [
      "bruteForceKnn is deprecated; call bfKnn instead\n"
     ]
    },
    {
     "name": "stdout",
     "output_type": "stream",
     "text": [
      "Jaccard distance computing time cost: 132.44360089302063\n",
      "Extracting Online Features for densenet121 ...\n",
      "Features extracted in 174.62 seconds\n",
      "Computing jaccard distance...\n"
     ]
    },
    {
     "name": "stderr",
     "output_type": "stream",
     "text": [
      "bruteForceKnn is deprecated; call bfKnn instead\n"
     ]
    },
    {
     "name": "stdout",
     "output_type": "stream",
     "text": [
      "Jaccard distance computing time cost: 140.42443251609802\n",
      "Reliability: 0.994\n",
      "\u001b[32mMean Purity: 0.01644\u001b[0m\n",
      "\u001b[34mThere are 2 clusters with 4 cameras\u001b[0m\n",
      "\u001b[34mThere are 3 clusters with 5 cameras\u001b[0m\n",
      "\u001b[34mThere are 2 clusters with 6 cameras\u001b[0m\n",
      "\u001b[34mThere are 2 clusters with 7 cameras\u001b[0m\n",
      "\u001b[34mThere are 2 clusters with 9 cameras\u001b[0m\n",
      "\u001b[34mThere are 1 clusters with 11 cameras\u001b[0m\n",
      "\u001b[34mThere are 1 clusters with 12 cameras\u001b[0m\n",
      "\u001b[34mThere are 1 clusters with 16 cameras\u001b[0m\n",
      "\u001b[34mThere are 1 clusters with 17 cameras\u001b[0m\n",
      "\u001b[34mThere are 1 clusters with 19 cameras\u001b[0m\n",
      "\u001b[34mThere are 1 clusters with 27 cameras\u001b[0m\n",
      "\u001b[34mThere are 1 clusters with 31 cameras\u001b[0m\n",
      "\u001b[34mThere are 1 clusters with 32 cameras\u001b[0m\n",
      "\u001b[34mThere are 1 clusters with 41 cameras\u001b[0m\n",
      "\u001b[34mThere are 1 clusters with 45 cameras\u001b[0m\n",
      "\u001b[34mThere are 1 clusters with 47 cameras\u001b[0m\n",
      "\u001b[34mThere are 1 clusters with 52 cameras\u001b[0m\n",
      "\u001b[34mThere are 1 clusters with 53 cameras\u001b[0m\n",
      "\u001b[34mThere are 2 clusters with 54 cameras\u001b[0m\n",
      "\u001b[34mThere are 1 clusters with 56 cameras\u001b[0m\n",
      "\u001b[34mThere are 3 clusters with 57 cameras\u001b[0m\n",
      "\u001b[34mThere are 1 clusters with 58 cameras\u001b[0m\n",
      "\u001b[34mThere are 6 clusters with 59 cameras\u001b[0m\n",
      "\u001b[34mThere are 9 clusters with 60 cameras\u001b[0m\n",
      "\u001b[34mThere are 13 clusters with 61 cameras\u001b[0m\n",
      "\u001b[34mThere are 26 clusters with 62 cameras\u001b[0m\n",
      "\u001b[34mThere are 36 clusters with 63 cameras\u001b[0m\n",
      "\u001b[34mThere are 461 clusters with 64 cameras\u001b[0m\n",
      "\u001b[34mThere are 1 clusters with 90 cameras\u001b[0m\n",
      "\u001b[34mThere are 1 clusters with 119 cameras\u001b[0m\n",
      "\u001b[34mThere are 1 clusters with 120 cameras\u001b[0m\n",
      "\u001b[34mThere are 1 clusters with 122 cameras\u001b[0m\n",
      "\u001b[34mThere are 1 clusters with 123 cameras\u001b[0m\n",
      "\u001b[34mThere are 2 clusters with 125 cameras\u001b[0m\n",
      "\u001b[34mThere are 2 clusters with 126 cameras\u001b[0m\n",
      "\u001b[34mThere are 1 clusters with 127 cameras\u001b[0m\n",
      "\u001b[34mThere are 8 clusters with 128 cameras\u001b[0m\n",
      "Number of classes: 600\n",
      "\u001b[36mLearning Rate: 0.000350\u001b[0m\n",
      "encontrou modelos efficientnet. Carregando...\n",
      "encontrou modelos convnext. Carregando...\n",
      "encontrou modelos mobilenet. Carregando...\n",
      "encontrou modelos vgg16. Carregando...\n",
      "encontrou modelos resnet50. Carregando...\n",
      "encontrou modelos osnet. Carregando...\n",
      "encontrou modelos densenet121. Carregando...\n",
      "###============ Iteration number 34/90 ============###\n",
      "Extracting Online Features for efficientnet ...\n",
      "Features extracted in 178.60 seconds\n",
      "Computing jaccard distance...\n"
     ]
    },
    {
     "name": "stderr",
     "output_type": "stream",
     "text": [
      "bruteForceKnn is deprecated; call bfKnn instead\n"
     ]
    },
    {
     "name": "stdout",
     "output_type": "stream",
     "text": [
      "Jaccard distance computing time cost: 76.41307997703552\n",
      "Extracting Online Features for convnext ...\n",
      "Features extracted in 189.10 seconds\n",
      "Computing jaccard distance...\n"
     ]
    },
    {
     "name": "stderr",
     "output_type": "stream",
     "text": [
      "bruteForceKnn is deprecated; call bfKnn instead\n"
     ]
    },
    {
     "name": "stdout",
     "output_type": "stream",
     "text": [
      "Jaccard distance computing time cost: 116.75162744522095\n",
      "Extracting Online Features for mobilenet ...\n",
      "Features extracted in 183.56 seconds\n",
      "Computing jaccard distance...\n"
     ]
    },
    {
     "name": "stderr",
     "output_type": "stream",
     "text": [
      "bruteForceKnn is deprecated; call bfKnn instead\n"
     ]
    },
    {
     "name": "stdout",
     "output_type": "stream",
     "text": [
      "Jaccard distance computing time cost: 119.69522976875305\n",
      "Extracting Online Features for vgg16 ...\n",
      "Features extracted in 186.33 seconds\n",
      "Computing jaccard distance...\n"
     ]
    },
    {
     "name": "stderr",
     "output_type": "stream",
     "text": [
      "bruteForceKnn is deprecated; call bfKnn instead\n"
     ]
    },
    {
     "name": "stdout",
     "output_type": "stream",
     "text": [
      "Jaccard distance computing time cost: 96.9821617603302\n",
      "Extracting Online Features for resnet50 ...\n",
      "Features extracted in 189.32 seconds\n",
      "Computing jaccard distance...\n"
     ]
    },
    {
     "name": "stderr",
     "output_type": "stream",
     "text": [
      "bruteForceKnn is deprecated; call bfKnn instead\n"
     ]
    },
    {
     "name": "stdout",
     "output_type": "stream",
     "text": [
      "Jaccard distance computing time cost: 153.2751350402832\n",
      "Extracting Online Features for osnet ...\n",
      "Features extracted in 191.51 seconds\n",
      "Computing jaccard distance...\n"
     ]
    },
    {
     "name": "stderr",
     "output_type": "stream",
     "text": [
      "bruteForceKnn is deprecated; call bfKnn instead\n"
     ]
    },
    {
     "name": "stdout",
     "output_type": "stream",
     "text": [
      "Jaccard distance computing time cost: 133.00186896324158\n",
      "Extracting Online Features for densenet121 ...\n",
      "Features extracted in 215.61 seconds\n",
      "Computing jaccard distance...\n"
     ]
    },
    {
     "name": "stderr",
     "output_type": "stream",
     "text": [
      "bruteForceKnn is deprecated; call bfKnn instead\n"
     ]
    },
    {
     "name": "stdout",
     "output_type": "stream",
     "text": [
      "Jaccard distance computing time cost: 148.66301655769348\n",
      "Reliability: 0.994\n",
      "\u001b[32mMean Purity: 0.01644\u001b[0m\n",
      "\u001b[34mThere are 2 clusters with 4 cameras\u001b[0m\n",
      "\u001b[34mThere are 3 clusters with 5 cameras\u001b[0m\n",
      "\u001b[34mThere are 2 clusters with 6 cameras\u001b[0m\n",
      "\u001b[34mThere are 2 clusters with 7 cameras\u001b[0m\n",
      "\u001b[34mThere are 2 clusters with 9 cameras\u001b[0m\n",
      "\u001b[34mThere are 1 clusters with 11 cameras\u001b[0m\n",
      "\u001b[34mThere are 1 clusters with 12 cameras\u001b[0m\n",
      "\u001b[34mThere are 1 clusters with 16 cameras\u001b[0m\n",
      "\u001b[34mThere are 1 clusters with 17 cameras\u001b[0m\n",
      "\u001b[34mThere are 1 clusters with 19 cameras\u001b[0m\n",
      "\u001b[34mThere are 1 clusters with 27 cameras\u001b[0m\n",
      "\u001b[34mThere are 1 clusters with 31 cameras\u001b[0m\n",
      "\u001b[34mThere are 1 clusters with 32 cameras\u001b[0m\n",
      "\u001b[34mThere are 1 clusters with 41 cameras\u001b[0m\n",
      "\u001b[34mThere are 1 clusters with 45 cameras\u001b[0m\n",
      "\u001b[34mThere are 1 clusters with 47 cameras\u001b[0m\n",
      "\u001b[34mThere are 1 clusters with 52 cameras\u001b[0m\n",
      "\u001b[34mThere are 1 clusters with 53 cameras\u001b[0m\n",
      "\u001b[34mThere are 2 clusters with 54 cameras\u001b[0m\n",
      "\u001b[34mThere are 1 clusters with 56 cameras\u001b[0m\n",
      "\u001b[34mThere are 3 clusters with 57 cameras\u001b[0m\n",
      "\u001b[34mThere are 1 clusters with 58 cameras\u001b[0m\n",
      "\u001b[34mThere are 6 clusters with 59 cameras\u001b[0m\n",
      "\u001b[34mThere are 9 clusters with 60 cameras\u001b[0m\n",
      "\u001b[34mThere are 13 clusters with 61 cameras\u001b[0m\n",
      "\u001b[34mThere are 26 clusters with 62 cameras\u001b[0m\n",
      "\u001b[34mThere are 36 clusters with 63 cameras\u001b[0m\n",
      "\u001b[34mThere are 461 clusters with 64 cameras\u001b[0m\n",
      "\u001b[34mThere are 1 clusters with 90 cameras\u001b[0m\n",
      "\u001b[34mThere are 1 clusters with 119 cameras\u001b[0m\n",
      "\u001b[34mThere are 1 clusters with 120 cameras\u001b[0m\n",
      "\u001b[34mThere are 1 clusters with 122 cameras\u001b[0m\n",
      "\u001b[34mThere are 1 clusters with 123 cameras\u001b[0m\n",
      "\u001b[34mThere are 2 clusters with 125 cameras\u001b[0m\n",
      "\u001b[34mThere are 2 clusters with 126 cameras\u001b[0m\n",
      "\u001b[34mThere are 1 clusters with 127 cameras\u001b[0m\n",
      "\u001b[34mThere are 8 clusters with 128 cameras\u001b[0m\n",
      "Number of classes: 600\n",
      "\u001b[36mLearning Rate: 0.000350\u001b[0m\n",
      "encontrou modelos efficientnet. Carregando...\n",
      "encontrou modelos convnext. Carregando...\n",
      "encontrou modelos mobilenet. Carregando...\n",
      "encontrou modelos vgg16. Carregando...\n",
      "encontrou modelos resnet50. Carregando...\n",
      "encontrou modelos osnet. Carregando...\n",
      "encontrou modelos densenet121. Carregando...\n",
      "###============ Iteration number 35/90 ============###\n",
      "Extracting Online Features for efficientnet ...\n",
      "Features extracted in 175.03 seconds\n",
      "Computing jaccard distance...\n"
     ]
    },
    {
     "name": "stderr",
     "output_type": "stream",
     "text": [
      "bruteForceKnn is deprecated; call bfKnn instead\n"
     ]
    },
    {
     "name": "stdout",
     "output_type": "stream",
     "text": [
      "Jaccard distance computing time cost: 80.6290192604065\n",
      "Extracting Online Features for convnext ...\n",
      "Features extracted in 179.03 seconds\n",
      "Computing jaccard distance...\n"
     ]
    },
    {
     "name": "stderr",
     "output_type": "stream",
     "text": [
      "bruteForceKnn is deprecated; call bfKnn instead\n"
     ]
    },
    {
     "name": "stdout",
     "output_type": "stream",
     "text": [
      "Jaccard distance computing time cost: 104.73717665672302\n",
      "Extracting Online Features for mobilenet ...\n",
      "Features extracted in 201.08 seconds\n",
      "Computing jaccard distance...\n"
     ]
    },
    {
     "name": "stderr",
     "output_type": "stream",
     "text": [
      "bruteForceKnn is deprecated; call bfKnn instead\n"
     ]
    },
    {
     "name": "stdout",
     "output_type": "stream",
     "text": [
      "Jaccard distance computing time cost: 147.03238606452942\n",
      "Extracting Online Features for vgg16 ...\n",
      "Features extracted in 188.12 seconds\n",
      "Computing jaccard distance...\n"
     ]
    },
    {
     "name": "stderr",
     "output_type": "stream",
     "text": [
      "bruteForceKnn is deprecated; call bfKnn instead\n"
     ]
    },
    {
     "name": "stdout",
     "output_type": "stream",
     "text": [
      "Jaccard distance computing time cost: 131.62046456336975\n",
      "Extracting Online Features for resnet50 ...\n",
      "Features extracted in 178.48 seconds\n",
      "Computing jaccard distance...\n"
     ]
    },
    {
     "name": "stderr",
     "output_type": "stream",
     "text": [
      "bruteForceKnn is deprecated; call bfKnn instead\n"
     ]
    },
    {
     "name": "stdout",
     "output_type": "stream",
     "text": [
      "Jaccard distance computing time cost: 116.79680061340332\n",
      "Extracting Online Features for osnet ...\n",
      "Features extracted in 179.58 seconds\n",
      "Computing jaccard distance...\n"
     ]
    },
    {
     "name": "stderr",
     "output_type": "stream",
     "text": [
      "bruteForceKnn is deprecated; call bfKnn instead\n"
     ]
    },
    {
     "name": "stdout",
     "output_type": "stream",
     "text": [
      "Jaccard distance computing time cost: 105.80640649795532\n",
      "Extracting Online Features for densenet121 ...\n",
      "Features extracted in 178.23 seconds\n",
      "Computing jaccard distance...\n"
     ]
    },
    {
     "name": "stderr",
     "output_type": "stream",
     "text": [
      "bruteForceKnn is deprecated; call bfKnn instead\n"
     ]
    },
    {
     "name": "stdout",
     "output_type": "stream",
     "text": [
      "Jaccard distance computing time cost: 127.80168008804321\n",
      "Reliability: 0.994\n",
      "\u001b[32mMean Purity: 0.01644\u001b[0m\n",
      "\u001b[34mThere are 2 clusters with 4 cameras\u001b[0m\n",
      "\u001b[34mThere are 3 clusters with 5 cameras\u001b[0m\n",
      "\u001b[34mThere are 2 clusters with 6 cameras\u001b[0m\n",
      "\u001b[34mThere are 2 clusters with 7 cameras\u001b[0m\n",
      "\u001b[34mThere are 2 clusters with 9 cameras\u001b[0m\n",
      "\u001b[34mThere are 1 clusters with 11 cameras\u001b[0m\n",
      "\u001b[34mThere are 1 clusters with 12 cameras\u001b[0m\n",
      "\u001b[34mThere are 1 clusters with 16 cameras\u001b[0m\n",
      "\u001b[34mThere are 1 clusters with 17 cameras\u001b[0m\n",
      "\u001b[34mThere are 1 clusters with 19 cameras\u001b[0m\n",
      "\u001b[34mThere are 1 clusters with 27 cameras\u001b[0m\n",
      "\u001b[34mThere are 1 clusters with 31 cameras\u001b[0m\n",
      "\u001b[34mThere are 1 clusters with 32 cameras\u001b[0m\n",
      "\u001b[34mThere are 1 clusters with 41 cameras\u001b[0m\n",
      "\u001b[34mThere are 1 clusters with 45 cameras\u001b[0m\n",
      "\u001b[34mThere are 1 clusters with 47 cameras\u001b[0m\n",
      "\u001b[34mThere are 1 clusters with 52 cameras\u001b[0m\n",
      "\u001b[34mThere are 1 clusters with 53 cameras\u001b[0m\n",
      "\u001b[34mThere are 2 clusters with 54 cameras\u001b[0m\n",
      "\u001b[34mThere are 1 clusters with 56 cameras\u001b[0m\n",
      "\u001b[34mThere are 3 clusters with 57 cameras\u001b[0m\n",
      "\u001b[34mThere are 1 clusters with 58 cameras\u001b[0m\n",
      "\u001b[34mThere are 6 clusters with 59 cameras\u001b[0m\n",
      "\u001b[34mThere are 9 clusters with 60 cameras\u001b[0m\n",
      "\u001b[34mThere are 13 clusters with 61 cameras\u001b[0m\n",
      "\u001b[34mThere are 26 clusters with 62 cameras\u001b[0m\n",
      "\u001b[34mThere are 36 clusters with 63 cameras\u001b[0m\n",
      "\u001b[34mThere are 461 clusters with 64 cameras\u001b[0m\n",
      "\u001b[34mThere are 1 clusters with 90 cameras\u001b[0m\n",
      "\u001b[34mThere are 1 clusters with 119 cameras\u001b[0m\n",
      "\u001b[34mThere are 1 clusters with 120 cameras\u001b[0m\n",
      "\u001b[34mThere are 1 clusters with 122 cameras\u001b[0m\n",
      "\u001b[34mThere are 1 clusters with 123 cameras\u001b[0m\n",
      "\u001b[34mThere are 2 clusters with 125 cameras\u001b[0m\n",
      "\u001b[34mThere are 2 clusters with 126 cameras\u001b[0m\n",
      "\u001b[34mThere are 1 clusters with 127 cameras\u001b[0m\n",
      "\u001b[34mThere are 8 clusters with 128 cameras\u001b[0m\n",
      "Number of classes: 600\n",
      "\u001b[36mLearning Rate: 0.000350\u001b[0m\n",
      "encontrou modelos efficientnet. Carregando...\n",
      "encontrou modelos convnext. Carregando...\n",
      "encontrou modelos mobilenet. Carregando...\n",
      "encontrou modelos vgg16. Carregando...\n",
      "encontrou modelos resnet50. Carregando...\n",
      "encontrou modelos osnet. Carregando...\n",
      "encontrou modelos densenet121. Carregando...\n",
      "\u001b[33mValidating online efficientnet ...\u001b[0m\n",
      "Features extracted in 51.02 seconds\n",
      "Features extracted in 99.73 seconds\n",
      "Computing CMC and mAP ...\n",
      "** Results **\n",
      "mAP: 69.91%\n",
      "CMC curve\n",
      "Rank-1  : 73.59%\n",
      "Rank-5  : 94.54%\n",
      "Rank-10 : 97.70%\n",
      "Rank-20 : 99.20%\n",
      "\u001b[33mValidating momentum efficientnet ...\u001b[0m\n",
      "Features extracted in 48.36 seconds\n",
      "Features extracted in 98.48 seconds\n",
      "Computing CMC and mAP ...\n",
      "** Results **\n",
      "mAP: 70.66%\n",
      "CMC curve\n",
      "Rank-1  : 76.80%\n",
      "Rank-5  : 93.39%\n",
      "Rank-10 : 96.79%\n",
      "Rank-20 : 98.68%\n",
      "\u001b[33mValidating online convnext ...\u001b[0m\n",
      "Features extracted in 50.09 seconds\n",
      "Features extracted in 102.97 seconds\n",
      "Computing CMC and mAP ...\n",
      "** Results **\n",
      "mAP: 70.08%\n",
      "CMC curve\n",
      "Rank-1  : 75.63%\n",
      "Rank-5  : 92.61%\n",
      "Rank-10 : 96.93%\n",
      "Rank-20 : 99.29%\n",
      "\u001b[33mValidating momentum convnext ...\u001b[0m\n",
      "Features extracted in 49.94 seconds\n",
      "Features extracted in 102.19 seconds\n",
      "Computing CMC and mAP ...\n",
      "** Results **\n",
      "mAP: 70.46%\n",
      "CMC curve\n",
      "Rank-1  : 77.49%\n",
      "Rank-5  : 93.71%\n",
      "Rank-10 : 96.84%\n",
      "Rank-20 : 98.71%\n",
      "\u001b[33mValidating online mobilenet ...\u001b[0m\n",
      "Features extracted in 48.39 seconds\n",
      "Features extracted in 97.56 seconds\n",
      "Computing CMC and mAP ...\n",
      "** Results **\n",
      "mAP: 71.39%\n",
      "CMC curve\n",
      "Rank-1  : 81.53%\n",
      "Rank-5  : 95.41%\n",
      "Rank-10 : 98.02%\n",
      "Rank-20 : 99.18%\n",
      "\u001b[33mValidating momentum mobilenet ...\u001b[0m\n",
      "Features extracted in 48.01 seconds\n",
      "Features extracted in 98.38 seconds\n",
      "Computing CMC and mAP ...\n",
      "** Results **\n",
      "mAP: 70.86%\n",
      "CMC curve\n",
      "Rank-1  : 78.95%\n",
      "Rank-5  : 93.89%\n",
      "Rank-10 : 97.47%\n",
      "Rank-20 : 99.27%\n",
      "\u001b[33mValidating online vgg16 ...\u001b[0m\n",
      "Features extracted in 49.07 seconds\n",
      "Features extracted in 99.39 seconds\n",
      "Computing CMC and mAP ...\n",
      "** Results **\n",
      "mAP: 69.67%\n",
      "CMC curve\n",
      "Rank-1  : 74.49%\n",
      "Rank-5  : 92.27%\n",
      "Rank-10 : 96.56%\n",
      "Rank-20 : 99.05%\n",
      "\u001b[33mValidating momentum vgg16 ...\u001b[0m\n",
      "Features extracted in 50.02 seconds\n",
      "Features extracted in 101.60 seconds\n",
      "Computing CMC and mAP ...\n",
      "** Results **\n",
      "mAP: 69.72%\n",
      "CMC curve\n",
      "Rank-1  : 75.80%\n",
      "Rank-5  : 92.91%\n",
      "Rank-10 : 97.25%\n",
      "Rank-20 : 99.09%\n",
      "\u001b[33mValidating online resnet50 ...\u001b[0m\n",
      "Features extracted in 49.15 seconds\n",
      "Features extracted in 100.40 seconds\n",
      "Computing CMC and mAP ...\n",
      "** Results **\n",
      "mAP: 69.64%\n",
      "CMC curve\n",
      "Rank-1  : 70.07%\n",
      "Rank-5  : 91.28%\n",
      "Rank-10 : 96.04%\n",
      "Rank-20 : 98.68%\n",
      "\u001b[33mValidating momentum resnet50 ...\u001b[0m\n",
      "Features extracted in 49.71 seconds\n",
      "Features extracted in 99.81 seconds\n",
      "Computing CMC and mAP ...\n",
      "** Results **\n",
      "mAP: 70.02%\n",
      "CMC curve\n",
      "Rank-1  : 73.39%\n",
      "Rank-5  : 93.49%\n",
      "Rank-10 : 97.50%\n",
      "Rank-20 : 99.37%\n",
      "\u001b[33mValidating online osnet ...\u001b[0m\n",
      "Features extracted in 49.58 seconds\n",
      "Features extracted in 98.27 seconds\n",
      "Computing CMC and mAP ...\n",
      "** Results **\n",
      "mAP: 68.61%\n",
      "CMC curve\n",
      "Rank-1  : 73.02%\n",
      "Rank-5  : 95.04%\n",
      "Rank-10 : 98.36%\n",
      "Rank-20 : 99.48%\n",
      "\u001b[33mValidating momentum osnet ...\u001b[0m\n",
      "Features extracted in 49.47 seconds\n",
      "Features extracted in 98.31 seconds\n",
      "Computing CMC and mAP ...\n",
      "** Results **\n",
      "mAP: 69.41%\n",
      "CMC curve\n",
      "Rank-1  : 73.33%\n",
      "Rank-5  : 93.05%\n",
      "Rank-10 : 97.14%\n",
      "Rank-20 : 99.12%\n",
      "\u001b[33mValidating online densenet121 ...\u001b[0m\n",
      "Features extracted in 50.57 seconds\n",
      "Features extracted in 99.52 seconds\n",
      "Computing CMC and mAP ...\n",
      "** Results **\n",
      "mAP: 70.12%\n",
      "CMC curve\n",
      "Rank-1  : 75.15%\n",
      "Rank-5  : 92.89%\n",
      "Rank-10 : 97.00%\n",
      "Rank-20 : 98.95%\n",
      "\u001b[33mValidating momentum densenet121 ...\u001b[0m\n",
      "Features extracted in 49.79 seconds\n",
      "Features extracted in 100.07 seconds\n",
      "Computing CMC and mAP ...\n",
      "** Results **\n",
      "mAP: 69.53%\n",
      "CMC curve\n",
      "Rank-1  : 75.91%\n",
      "Rank-5  : 93.33%\n",
      "Rank-10 : 97.31%\n",
      "Rank-20 : 99.25%\n",
      "\u001b[33mValidating ensembled with online models ...\u001b[0m\n",
      "Computing CMC and mAP ...\n",
      "** Results **\n",
      "mAP: 71.17%\n",
      "Ranks:\n",
      "Rank-1  : 78.73%\n",
      "Rank-5  : 92.94%\n",
      "Rank-10 : 96.83%\n",
      "\u001b[33mValidating ensembled with momentum models ...\u001b[0m\n",
      "Computing CMC and mAP ...\n",
      "** Results **\n",
      "mAP: 71.11%\n",
      "Ranks:\n",
      "Rank-1  : 79.83%\n",
      "Rank-5  : 92.92%\n",
      "Rank-10 : 96.74%\n",
      "###============ Iteration number 36/90 ============###\n",
      "Extracting Online Features for efficientnet ...\n",
      "Features extracted in 153.08 seconds\n",
      "Computing jaccard distance...\n"
     ]
    },
    {
     "name": "stderr",
     "output_type": "stream",
     "text": [
      "bruteForceKnn is deprecated; call bfKnn instead\n"
     ]
    },
    {
     "name": "stdout",
     "output_type": "stream",
     "text": [
      "Jaccard distance computing time cost: 70.41251301765442\n",
      "Extracting Online Features for convnext ...\n",
      "Features extracted in 179.93 seconds\n",
      "Computing jaccard distance...\n"
     ]
    },
    {
     "name": "stderr",
     "output_type": "stream",
     "text": [
      "bruteForceKnn is deprecated; call bfKnn instead\n"
     ]
    },
    {
     "name": "stdout",
     "output_type": "stream",
     "text": [
      "Jaccard distance computing time cost: 134.10054731369019\n",
      "Extracting Online Features for mobilenet ...\n",
      "Features extracted in 189.12 seconds\n",
      "Computing jaccard distance...\n"
     ]
    },
    {
     "name": "stderr",
     "output_type": "stream",
     "text": [
      "bruteForceKnn is deprecated; call bfKnn instead\n"
     ]
    },
    {
     "name": "stdout",
     "output_type": "stream",
     "text": [
      "Jaccard distance computing time cost: 174.06885623931885\n",
      "Extracting Online Features for vgg16 ...\n",
      "Features extracted in 172.75 seconds\n",
      "Computing jaccard distance...\n"
     ]
    },
    {
     "name": "stderr",
     "output_type": "stream",
     "text": [
      "bruteForceKnn is deprecated; call bfKnn instead\n"
     ]
    },
    {
     "name": "stdout",
     "output_type": "stream",
     "text": [
      "Jaccard distance computing time cost: 150.38403701782227\n",
      "Extracting Online Features for resnet50 ...\n",
      "Features extracted in 173.38 seconds\n",
      "Computing jaccard distance...\n"
     ]
    },
    {
     "name": "stderr",
     "output_type": "stream",
     "text": [
      "bruteForceKnn is deprecated; call bfKnn instead\n"
     ]
    },
    {
     "name": "stdout",
     "output_type": "stream",
     "text": [
      "Jaccard distance computing time cost: 147.7666311264038\n",
      "Extracting Online Features for osnet ...\n",
      "Features extracted in 170.90 seconds\n",
      "Computing jaccard distance...\n"
     ]
    },
    {
     "name": "stderr",
     "output_type": "stream",
     "text": [
      "bruteForceKnn is deprecated; call bfKnn instead\n"
     ]
    },
    {
     "name": "stdout",
     "output_type": "stream",
     "text": [
      "Jaccard distance computing time cost: 136.5959975719452\n",
      "Extracting Online Features for densenet121 ...\n",
      "Features extracted in 165.80 seconds\n",
      "Computing jaccard distance...\n"
     ]
    },
    {
     "name": "stderr",
     "output_type": "stream",
     "text": [
      "bruteForceKnn is deprecated; call bfKnn instead\n"
     ]
    },
    {
     "name": "stdout",
     "output_type": "stream",
     "text": [
      "Jaccard distance computing time cost: 146.83241248130798\n",
      "Reliability: 0.994\n",
      "\u001b[32mMean Purity: 0.01644\u001b[0m\n",
      "\u001b[34mThere are 2 clusters with 4 cameras\u001b[0m\n",
      "\u001b[34mThere are 3 clusters with 5 cameras\u001b[0m\n",
      "\u001b[34mThere are 2 clusters with 6 cameras\u001b[0m\n",
      "\u001b[34mThere are 2 clusters with 7 cameras\u001b[0m\n",
      "\u001b[34mThere are 2 clusters with 9 cameras\u001b[0m\n",
      "\u001b[34mThere are 1 clusters with 11 cameras\u001b[0m\n",
      "\u001b[34mThere are 1 clusters with 12 cameras\u001b[0m\n",
      "\u001b[34mThere are 1 clusters with 16 cameras\u001b[0m\n",
      "\u001b[34mThere are 1 clusters with 17 cameras\u001b[0m\n",
      "\u001b[34mThere are 1 clusters with 19 cameras\u001b[0m\n",
      "\u001b[34mThere are 1 clusters with 27 cameras\u001b[0m\n",
      "\u001b[34mThere are 1 clusters with 31 cameras\u001b[0m\n",
      "\u001b[34mThere are 1 clusters with 32 cameras\u001b[0m\n",
      "\u001b[34mThere are 1 clusters with 41 cameras\u001b[0m\n",
      "\u001b[34mThere are 1 clusters with 45 cameras\u001b[0m\n",
      "\u001b[34mThere are 1 clusters with 47 cameras\u001b[0m\n",
      "\u001b[34mThere are 1 clusters with 52 cameras\u001b[0m\n",
      "\u001b[34mThere are 1 clusters with 53 cameras\u001b[0m\n",
      "\u001b[34mThere are 2 clusters with 54 cameras\u001b[0m\n",
      "\u001b[34mThere are 1 clusters with 56 cameras\u001b[0m\n",
      "\u001b[34mThere are 3 clusters with 57 cameras\u001b[0m\n",
      "\u001b[34mThere are 1 clusters with 58 cameras\u001b[0m\n",
      "\u001b[34mThere are 6 clusters with 59 cameras\u001b[0m\n",
      "\u001b[34mThere are 9 clusters with 60 cameras\u001b[0m\n",
      "\u001b[34mThere are 13 clusters with 61 cameras\u001b[0m\n",
      "\u001b[34mThere are 26 clusters with 62 cameras\u001b[0m\n",
      "\u001b[34mThere are 36 clusters with 63 cameras\u001b[0m\n",
      "\u001b[34mThere are 461 clusters with 64 cameras\u001b[0m\n",
      "\u001b[34mThere are 1 clusters with 90 cameras\u001b[0m\n",
      "\u001b[34mThere are 1 clusters with 119 cameras\u001b[0m\n",
      "\u001b[34mThere are 1 clusters with 120 cameras\u001b[0m\n",
      "\u001b[34mThere are 1 clusters with 122 cameras\u001b[0m\n",
      "\u001b[34mThere are 1 clusters with 123 cameras\u001b[0m\n",
      "\u001b[34mThere are 2 clusters with 125 cameras\u001b[0m\n",
      "\u001b[34mThere are 2 clusters with 126 cameras\u001b[0m\n",
      "\u001b[34mThere are 1 clusters with 127 cameras\u001b[0m\n",
      "\u001b[34mThere are 8 clusters with 128 cameras\u001b[0m\n",
      "Number of classes: 600\n",
      "\u001b[36mLearning Rate: 0.000350\u001b[0m\n",
      "encontrou modelos efficientnet. Carregando...\n",
      "encontrou modelos convnext. Carregando...\n",
      "encontrou modelos mobilenet. Carregando...\n",
      "encontrou modelos vgg16. Carregando...\n",
      "encontrou modelos resnet50. Carregando...\n",
      "encontrou modelos osnet. Carregando...\n",
      "encontrou modelos densenet121. Carregando...\n",
      "###============ Iteration number 37/90 ============###\n",
      "Extracting Online Features for efficientnet ...\n",
      "Features extracted in 154.26 seconds\n",
      "Computing jaccard distance...\n"
     ]
    },
    {
     "name": "stderr",
     "output_type": "stream",
     "text": [
      "bruteForceKnn is deprecated; call bfKnn instead\n"
     ]
    },
    {
     "name": "stdout",
     "output_type": "stream",
     "text": [
      "Jaccard distance computing time cost: 67.82327175140381\n",
      "Extracting Online Features for convnext ...\n",
      "Features extracted in 206.84 seconds\n",
      "Computing jaccard distance...\n"
     ]
    },
    {
     "name": "stderr",
     "output_type": "stream",
     "text": [
      "bruteForceKnn is deprecated; call bfKnn instead\n"
     ]
    },
    {
     "name": "stdout",
     "output_type": "stream",
     "text": [
      "Jaccard distance computing time cost: 131.39962196350098\n",
      "Extracting Online Features for mobilenet ...\n",
      "Features extracted in 169.90 seconds\n",
      "Computing jaccard distance...\n"
     ]
    },
    {
     "name": "stderr",
     "output_type": "stream",
     "text": [
      "bruteForceKnn is deprecated; call bfKnn instead\n"
     ]
    },
    {
     "name": "stdout",
     "output_type": "stream",
     "text": [
      "Jaccard distance computing time cost: 135.6242709159851\n",
      "Extracting Online Features for vgg16 ...\n",
      "Features extracted in 168.63 seconds\n",
      "Computing jaccard distance...\n"
     ]
    },
    {
     "name": "stderr",
     "output_type": "stream",
     "text": [
      "bruteForceKnn is deprecated; call bfKnn instead\n"
     ]
    },
    {
     "name": "stdout",
     "output_type": "stream",
     "text": [
      "Jaccard distance computing time cost: 145.5273630619049\n",
      "Extracting Online Features for resnet50 ...\n",
      "Features extracted in 164.72 seconds\n",
      "Computing jaccard distance...\n"
     ]
    },
    {
     "name": "stderr",
     "output_type": "stream",
     "text": [
      "bruteForceKnn is deprecated; call bfKnn instead\n"
     ]
    },
    {
     "name": "stdout",
     "output_type": "stream",
     "text": [
      "Jaccard distance computing time cost: 154.72842526435852\n",
      "Extracting Online Features for osnet ...\n",
      "Features extracted in 175.58 seconds\n",
      "Computing jaccard distance...\n"
     ]
    },
    {
     "name": "stderr",
     "output_type": "stream",
     "text": [
      "bruteForceKnn is deprecated; call bfKnn instead\n"
     ]
    },
    {
     "name": "stdout",
     "output_type": "stream",
     "text": [
      "Jaccard distance computing time cost: 168.0589838027954\n",
      "Extracting Online Features for densenet121 ...\n",
      "Features extracted in 168.84 seconds\n",
      "Computing jaccard distance...\n"
     ]
    },
    {
     "name": "stderr",
     "output_type": "stream",
     "text": [
      "bruteForceKnn is deprecated; call bfKnn instead\n"
     ]
    },
    {
     "name": "stdout",
     "output_type": "stream",
     "text": [
      "Jaccard distance computing time cost: 162.18682599067688\n",
      "Reliability: 0.994\n",
      "\u001b[32mMean Purity: 0.01644\u001b[0m\n",
      "\u001b[34mThere are 2 clusters with 4 cameras\u001b[0m\n",
      "\u001b[34mThere are 3 clusters with 5 cameras\u001b[0m\n",
      "\u001b[34mThere are 2 clusters with 6 cameras\u001b[0m\n",
      "\u001b[34mThere are 2 clusters with 7 cameras\u001b[0m\n",
      "\u001b[34mThere are 2 clusters with 9 cameras\u001b[0m\n",
      "\u001b[34mThere are 1 clusters with 11 cameras\u001b[0m\n",
      "\u001b[34mThere are 1 clusters with 12 cameras\u001b[0m\n",
      "\u001b[34mThere are 1 clusters with 16 cameras\u001b[0m\n",
      "\u001b[34mThere are 1 clusters with 17 cameras\u001b[0m\n",
      "\u001b[34mThere are 1 clusters with 19 cameras\u001b[0m\n",
      "\u001b[34mThere are 1 clusters with 27 cameras\u001b[0m\n",
      "\u001b[34mThere are 1 clusters with 31 cameras\u001b[0m\n",
      "\u001b[34mThere are 1 clusters with 32 cameras\u001b[0m\n",
      "\u001b[34mThere are 1 clusters with 41 cameras\u001b[0m\n",
      "\u001b[34mThere are 1 clusters with 45 cameras\u001b[0m\n",
      "\u001b[34mThere are 1 clusters with 47 cameras\u001b[0m\n",
      "\u001b[34mThere are 1 clusters with 52 cameras\u001b[0m\n",
      "\u001b[34mThere are 1 clusters with 53 cameras\u001b[0m\n",
      "\u001b[34mThere are 2 clusters with 54 cameras\u001b[0m\n",
      "\u001b[34mThere are 1 clusters with 56 cameras\u001b[0m\n",
      "\u001b[34mThere are 3 clusters with 57 cameras\u001b[0m\n",
      "\u001b[34mThere are 1 clusters with 58 cameras\u001b[0m\n",
      "\u001b[34mThere are 6 clusters with 59 cameras\u001b[0m\n",
      "\u001b[34mThere are 9 clusters with 60 cameras\u001b[0m\n",
      "\u001b[34mThere are 13 clusters with 61 cameras\u001b[0m\n",
      "\u001b[34mThere are 26 clusters with 62 cameras\u001b[0m\n",
      "\u001b[34mThere are 36 clusters with 63 cameras\u001b[0m\n",
      "\u001b[34mThere are 461 clusters with 64 cameras\u001b[0m\n",
      "\u001b[34mThere are 1 clusters with 90 cameras\u001b[0m\n",
      "\u001b[34mThere are 1 clusters with 119 cameras\u001b[0m\n",
      "\u001b[34mThere are 1 clusters with 120 cameras\u001b[0m\n",
      "\u001b[34mThere are 1 clusters with 122 cameras\u001b[0m\n",
      "\u001b[34mThere are 1 clusters with 123 cameras\u001b[0m\n",
      "\u001b[34mThere are 2 clusters with 125 cameras\u001b[0m\n",
      "\u001b[34mThere are 2 clusters with 126 cameras\u001b[0m\n",
      "\u001b[34mThere are 1 clusters with 127 cameras\u001b[0m\n",
      "\u001b[34mThere are 8 clusters with 128 cameras\u001b[0m\n",
      "Number of classes: 600\n",
      "\u001b[36mLearning Rate: 0.000350\u001b[0m\n",
      "encontrou modelos efficientnet. Carregando...\n",
      "encontrou modelos convnext. Carregando...\n",
      "encontrou modelos mobilenet. Carregando...\n",
      "encontrou modelos vgg16. Carregando...\n",
      "encontrou modelos resnet50. Carregando...\n",
      "encontrou modelos osnet. Carregando...\n",
      "encontrou modelos densenet121. Carregando...\n",
      "###============ Iteration number 38/90 ============###\n",
      "Extracting Online Features for efficientnet ...\n",
      "Features extracted in 154.78 seconds\n",
      "Computing jaccard distance...\n"
     ]
    },
    {
     "name": "stderr",
     "output_type": "stream",
     "text": [
      "bruteForceKnn is deprecated; call bfKnn instead\n"
     ]
    },
    {
     "name": "stdout",
     "output_type": "stream",
     "text": [
      "Jaccard distance computing time cost: 79.91588711738586\n",
      "Extracting Online Features for convnext ...\n",
      "Features extracted in 156.25 seconds\n",
      "Computing jaccard distance...\n"
     ]
    },
    {
     "name": "stderr",
     "output_type": "stream",
     "text": [
      "bruteForceKnn is deprecated; call bfKnn instead\n"
     ]
    },
    {
     "name": "stdout",
     "output_type": "stream",
     "text": [
      "Jaccard distance computing time cost: 128.7289843559265\n",
      "Extracting Online Features for mobilenet ...\n",
      "Features extracted in 165.68 seconds\n",
      "Computing jaccard distance...\n"
     ]
    },
    {
     "name": "stderr",
     "output_type": "stream",
     "text": [
      "bruteForceKnn is deprecated; call bfKnn instead\n"
     ]
    },
    {
     "name": "stdout",
     "output_type": "stream",
     "text": [
      "Jaccard distance computing time cost: 81.11296105384827\n",
      "Extracting Online Features for vgg16 ...\n",
      "Features extracted in 168.03 seconds\n",
      "Computing jaccard distance...\n"
     ]
    },
    {
     "name": "stderr",
     "output_type": "stream",
     "text": [
      "bruteForceKnn is deprecated; call bfKnn instead\n"
     ]
    },
    {
     "name": "stdout",
     "output_type": "stream",
     "text": [
      "Jaccard distance computing time cost: 139.6579704284668\n",
      "Extracting Online Features for resnet50 ...\n",
      "Features extracted in 159.58 seconds\n",
      "Computing jaccard distance...\n"
     ]
    },
    {
     "name": "stderr",
     "output_type": "stream",
     "text": [
      "bruteForceKnn is deprecated; call bfKnn instead\n"
     ]
    },
    {
     "name": "stdout",
     "output_type": "stream",
     "text": [
      "Jaccard distance computing time cost: 127.61401438713074\n",
      "Extracting Online Features for osnet ...\n",
      "Features extracted in 160.90 seconds\n",
      "Computing jaccard distance...\n"
     ]
    },
    {
     "name": "stderr",
     "output_type": "stream",
     "text": [
      "bruteForceKnn is deprecated; call bfKnn instead\n"
     ]
    },
    {
     "name": "stdout",
     "output_type": "stream",
     "text": [
      "Jaccard distance computing time cost: 104.53918766975403\n",
      "Extracting Online Features for densenet121 ...\n",
      "Features extracted in 157.77 seconds\n",
      "Computing jaccard distance...\n"
     ]
    },
    {
     "name": "stderr",
     "output_type": "stream",
     "text": [
      "bruteForceKnn is deprecated; call bfKnn instead\n"
     ]
    },
    {
     "name": "stdout",
     "output_type": "stream",
     "text": [
      "Jaccard distance computing time cost: 130.8520941734314\n",
      "Reliability: 0.994\n",
      "\u001b[32mMean Purity: 0.01644\u001b[0m\n",
      "\u001b[34mThere are 2 clusters with 4 cameras\u001b[0m\n",
      "\u001b[34mThere are 3 clusters with 5 cameras\u001b[0m\n",
      "\u001b[34mThere are 2 clusters with 6 cameras\u001b[0m\n",
      "\u001b[34mThere are 2 clusters with 7 cameras\u001b[0m\n",
      "\u001b[34mThere are 2 clusters with 9 cameras\u001b[0m\n",
      "\u001b[34mThere are 1 clusters with 11 cameras\u001b[0m\n",
      "\u001b[34mThere are 1 clusters with 12 cameras\u001b[0m\n",
      "\u001b[34mThere are 1 clusters with 16 cameras\u001b[0m\n",
      "\u001b[34mThere are 1 clusters with 17 cameras\u001b[0m\n",
      "\u001b[34mThere are 1 clusters with 19 cameras\u001b[0m\n",
      "\u001b[34mThere are 1 clusters with 27 cameras\u001b[0m\n",
      "\u001b[34mThere are 1 clusters with 31 cameras\u001b[0m\n",
      "\u001b[34mThere are 1 clusters with 32 cameras\u001b[0m\n",
      "\u001b[34mThere are 1 clusters with 41 cameras\u001b[0m\n",
      "\u001b[34mThere are 1 clusters with 45 cameras\u001b[0m\n",
      "\u001b[34mThere are 1 clusters with 47 cameras\u001b[0m\n",
      "\u001b[34mThere are 1 clusters with 52 cameras\u001b[0m\n",
      "\u001b[34mThere are 1 clusters with 53 cameras\u001b[0m\n",
      "\u001b[34mThere are 2 clusters with 54 cameras\u001b[0m\n",
      "\u001b[34mThere are 1 clusters with 56 cameras\u001b[0m\n",
      "\u001b[34mThere are 3 clusters with 57 cameras\u001b[0m\n",
      "\u001b[34mThere are 1 clusters with 58 cameras\u001b[0m\n",
      "\u001b[34mThere are 6 clusters with 59 cameras\u001b[0m\n",
      "\u001b[34mThere are 9 clusters with 60 cameras\u001b[0m\n",
      "\u001b[34mThere are 13 clusters with 61 cameras\u001b[0m\n",
      "\u001b[34mThere are 26 clusters with 62 cameras\u001b[0m\n",
      "\u001b[34mThere are 36 clusters with 63 cameras\u001b[0m\n",
      "\u001b[34mThere are 461 clusters with 64 cameras\u001b[0m\n",
      "\u001b[34mThere are 1 clusters with 90 cameras\u001b[0m\n",
      "\u001b[34mThere are 1 clusters with 119 cameras\u001b[0m\n",
      "\u001b[34mThere are 1 clusters with 120 cameras\u001b[0m\n",
      "\u001b[34mThere are 1 clusters with 122 cameras\u001b[0m\n",
      "\u001b[34mThere are 1 clusters with 123 cameras\u001b[0m\n",
      "\u001b[34mThere are 2 clusters with 125 cameras\u001b[0m\n",
      "\u001b[34mThere are 2 clusters with 126 cameras\u001b[0m\n",
      "\u001b[34mThere are 1 clusters with 127 cameras\u001b[0m\n",
      "\u001b[34mThere are 8 clusters with 128 cameras\u001b[0m\n",
      "Number of classes: 600\n",
      "\u001b[36mLearning Rate: 0.000350\u001b[0m\n",
      "encontrou modelos efficientnet. Carregando...\n",
      "encontrou modelos convnext. Carregando...\n",
      "encontrou modelos mobilenet. Carregando...\n",
      "encontrou modelos vgg16. Carregando...\n",
      "encontrou modelos resnet50. Carregando...\n",
      "encontrou modelos osnet. Carregando...\n",
      "encontrou modelos densenet121. Carregando...\n",
      "###============ Iteration number 39/90 ============###\n",
      "Extracting Online Features for efficientnet ...\n",
      "Features extracted in 157.85 seconds\n",
      "Computing jaccard distance...\n"
     ]
    },
    {
     "name": "stderr",
     "output_type": "stream",
     "text": [
      "bruteForceKnn is deprecated; call bfKnn instead\n"
     ]
    },
    {
     "name": "stdout",
     "output_type": "stream",
     "text": [
      "Jaccard distance computing time cost: 82.04899501800537\n",
      "Extracting Online Features for convnext ...\n",
      "Features extracted in 153.50 seconds\n",
      "Computing jaccard distance...\n"
     ]
    },
    {
     "name": "stderr",
     "output_type": "stream",
     "text": [
      "bruteForceKnn is deprecated; call bfKnn instead\n"
     ]
    },
    {
     "name": "stdout",
     "output_type": "stream",
     "text": [
      "Jaccard distance computing time cost: 139.51736688613892\n",
      "Extracting Online Features for mobilenet ...\n",
      "Features extracted in 166.99 seconds\n",
      "Computing jaccard distance...\n"
     ]
    },
    {
     "name": "stderr",
     "output_type": "stream",
     "text": [
      "bruteForceKnn is deprecated; call bfKnn instead\n"
     ]
    },
    {
     "name": "stdout",
     "output_type": "stream",
     "text": [
      "Jaccard distance computing time cost: 151.74177956581116\n",
      "Extracting Online Features for vgg16 ...\n",
      "Features extracted in 167.00 seconds\n",
      "Computing jaccard distance...\n"
     ]
    },
    {
     "name": "stderr",
     "output_type": "stream",
     "text": [
      "bruteForceKnn is deprecated; call bfKnn instead\n"
     ]
    },
    {
     "name": "stdout",
     "output_type": "stream",
     "text": [
      "Jaccard distance computing time cost: 157.17264413833618\n",
      "Extracting Online Features for resnet50 ...\n",
      "Features extracted in 205.22 seconds\n",
      "Computing jaccard distance...\n"
     ]
    },
    {
     "name": "stderr",
     "output_type": "stream",
     "text": [
      "bruteForceKnn is deprecated; call bfKnn instead\n"
     ]
    },
    {
     "name": "stdout",
     "output_type": "stream",
     "text": [
      "Jaccard distance computing time cost: 93.2160656452179\n",
      "Extracting Online Features for osnet ...\n",
      "Features extracted in 164.70 seconds\n",
      "Computing jaccard distance...\n"
     ]
    },
    {
     "name": "stderr",
     "output_type": "stream",
     "text": [
      "bruteForceKnn is deprecated; call bfKnn instead\n"
     ]
    },
    {
     "name": "stdout",
     "output_type": "stream",
     "text": [
      "Jaccard distance computing time cost: 78.52208590507507\n",
      "Extracting Online Features for densenet121 ...\n",
      "Features extracted in 164.16 seconds\n",
      "Computing jaccard distance...\n"
     ]
    },
    {
     "name": "stderr",
     "output_type": "stream",
     "text": [
      "bruteForceKnn is deprecated; call bfKnn instead\n"
     ]
    },
    {
     "name": "stdout",
     "output_type": "stream",
     "text": [
      "Jaccard distance computing time cost: 72.42077136039734\n",
      "Reliability: 0.994\n",
      "\u001b[32mMean Purity: 0.01644\u001b[0m\n",
      "\u001b[34mThere are 2 clusters with 4 cameras\u001b[0m\n",
      "\u001b[34mThere are 3 clusters with 5 cameras\u001b[0m\n",
      "\u001b[34mThere are 2 clusters with 6 cameras\u001b[0m\n",
      "\u001b[34mThere are 2 clusters with 7 cameras\u001b[0m\n",
      "\u001b[34mThere are 2 clusters with 9 cameras\u001b[0m\n",
      "\u001b[34mThere are 1 clusters with 11 cameras\u001b[0m\n",
      "\u001b[34mThere are 1 clusters with 12 cameras\u001b[0m\n",
      "\u001b[34mThere are 1 clusters with 16 cameras\u001b[0m\n",
      "\u001b[34mThere are 1 clusters with 17 cameras\u001b[0m\n",
      "\u001b[34mThere are 1 clusters with 19 cameras\u001b[0m\n",
      "\u001b[34mThere are 1 clusters with 27 cameras\u001b[0m\n",
      "\u001b[34mThere are 1 clusters with 31 cameras\u001b[0m\n",
      "\u001b[34mThere are 1 clusters with 32 cameras\u001b[0m\n",
      "\u001b[34mThere are 1 clusters with 41 cameras\u001b[0m\n",
      "\u001b[34mThere are 1 clusters with 45 cameras\u001b[0m\n",
      "\u001b[34mThere are 1 clusters with 47 cameras\u001b[0m\n",
      "\u001b[34mThere are 1 clusters with 52 cameras\u001b[0m\n",
      "\u001b[34mThere are 1 clusters with 53 cameras\u001b[0m\n",
      "\u001b[34mThere are 2 clusters with 54 cameras\u001b[0m\n",
      "\u001b[34mThere are 1 clusters with 56 cameras\u001b[0m\n",
      "\u001b[34mThere are 3 clusters with 57 cameras\u001b[0m\n",
      "\u001b[34mThere are 1 clusters with 58 cameras\u001b[0m\n",
      "\u001b[34mThere are 6 clusters with 59 cameras\u001b[0m\n",
      "\u001b[34mThere are 9 clusters with 60 cameras\u001b[0m\n",
      "\u001b[34mThere are 13 clusters with 61 cameras\u001b[0m\n",
      "\u001b[34mThere are 26 clusters with 62 cameras\u001b[0m\n",
      "\u001b[34mThere are 36 clusters with 63 cameras\u001b[0m\n",
      "\u001b[34mThere are 461 clusters with 64 cameras\u001b[0m\n",
      "\u001b[34mThere are 1 clusters with 90 cameras\u001b[0m\n",
      "\u001b[34mThere are 1 clusters with 119 cameras\u001b[0m\n",
      "\u001b[34mThere are 1 clusters with 120 cameras\u001b[0m\n",
      "\u001b[34mThere are 1 clusters with 122 cameras\u001b[0m\n",
      "\u001b[34mThere are 1 clusters with 123 cameras\u001b[0m\n",
      "\u001b[34mThere are 2 clusters with 125 cameras\u001b[0m\n",
      "\u001b[34mThere are 2 clusters with 126 cameras\u001b[0m\n",
      "\u001b[34mThere are 1 clusters with 127 cameras\u001b[0m\n",
      "\u001b[34mThere are 8 clusters with 128 cameras\u001b[0m\n",
      "Number of classes: 600\n",
      "\u001b[36mLearning Rate: 0.000350\u001b[0m\n",
      "encontrou modelos efficientnet. Carregando...\n",
      "encontrou modelos convnext. Carregando...\n",
      "encontrou modelos mobilenet. Carregando...\n",
      "encontrou modelos vgg16. Carregando...\n",
      "encontrou modelos resnet50. Carregando...\n",
      "encontrou modelos osnet. Carregando...\n",
      "encontrou modelos densenet121. Carregando...\n",
      "###============ Iteration number 40/90 ============###\n",
      "Extracting Online Features for efficientnet ...\n",
      "Features extracted in 152.36 seconds\n",
      "Computing jaccard distance...\n"
     ]
    },
    {
     "name": "stderr",
     "output_type": "stream",
     "text": [
      "bruteForceKnn is deprecated; call bfKnn instead\n"
     ]
    },
    {
     "name": "stdout",
     "output_type": "stream",
     "text": [
      "Jaccard distance computing time cost: 75.54534149169922\n",
      "Extracting Online Features for convnext ...\n",
      "Features extracted in 154.06 seconds\n",
      "Computing jaccard distance...\n"
     ]
    },
    {
     "name": "stderr",
     "output_type": "stream",
     "text": [
      "bruteForceKnn is deprecated; call bfKnn instead\n"
     ]
    },
    {
     "name": "stdout",
     "output_type": "stream",
     "text": [
      "Jaccard distance computing time cost: 137.51075506210327\n",
      "Extracting Online Features for mobilenet ...\n",
      "Features extracted in 170.37 seconds\n",
      "Computing jaccard distance...\n"
     ]
    },
    {
     "name": "stderr",
     "output_type": "stream",
     "text": [
      "bruteForceKnn is deprecated; call bfKnn instead\n"
     ]
    },
    {
     "name": "stdout",
     "output_type": "stream",
     "text": [
      "Jaccard distance computing time cost: 147.35710430145264\n",
      "Extracting Online Features for vgg16 ...\n",
      "Features extracted in 163.33 seconds\n",
      "Computing jaccard distance...\n"
     ]
    },
    {
     "name": "stderr",
     "output_type": "stream",
     "text": [
      "bruteForceKnn is deprecated; call bfKnn instead\n"
     ]
    },
    {
     "name": "stdout",
     "output_type": "stream",
     "text": [
      "Jaccard distance computing time cost: 143.25630068778992\n",
      "Extracting Online Features for resnet50 ...\n",
      "Features extracted in 161.85 seconds\n",
      "Computing jaccard distance...\n"
     ]
    },
    {
     "name": "stderr",
     "output_type": "stream",
     "text": [
      "bruteForceKnn is deprecated; call bfKnn instead\n"
     ]
    },
    {
     "name": "stdout",
     "output_type": "stream",
     "text": [
      "Jaccard distance computing time cost: 85.76347327232361\n",
      "Extracting Online Features for osnet ...\n",
      "Features extracted in 157.81 seconds\n",
      "Computing jaccard distance...\n"
     ]
    },
    {
     "name": "stderr",
     "output_type": "stream",
     "text": [
      "bruteForceKnn is deprecated; call bfKnn instead\n"
     ]
    },
    {
     "name": "stdout",
     "output_type": "stream",
     "text": [
      "Jaccard distance computing time cost: 116.25276947021484\n",
      "Extracting Online Features for densenet121 ...\n",
      "Features extracted in 160.08 seconds\n",
      "Computing jaccard distance...\n"
     ]
    },
    {
     "name": "stderr",
     "output_type": "stream",
     "text": [
      "bruteForceKnn is deprecated; call bfKnn instead\n"
     ]
    },
    {
     "name": "stdout",
     "output_type": "stream",
     "text": [
      "Jaccard distance computing time cost: 86.19070196151733\n",
      "Reliability: 0.994\n",
      "\u001b[32mMean Purity: 0.01644\u001b[0m\n",
      "\u001b[34mThere are 2 clusters with 4 cameras\u001b[0m\n",
      "\u001b[34mThere are 3 clusters with 5 cameras\u001b[0m\n",
      "\u001b[34mThere are 2 clusters with 6 cameras\u001b[0m\n",
      "\u001b[34mThere are 2 clusters with 7 cameras\u001b[0m\n",
      "\u001b[34mThere are 2 clusters with 9 cameras\u001b[0m\n",
      "\u001b[34mThere are 1 clusters with 11 cameras\u001b[0m\n",
      "\u001b[34mThere are 1 clusters with 12 cameras\u001b[0m\n",
      "\u001b[34mThere are 1 clusters with 16 cameras\u001b[0m\n",
      "\u001b[34mThere are 1 clusters with 17 cameras\u001b[0m\n",
      "\u001b[34mThere are 1 clusters with 19 cameras\u001b[0m\n",
      "\u001b[34mThere are 1 clusters with 27 cameras\u001b[0m\n",
      "\u001b[34mThere are 1 clusters with 31 cameras\u001b[0m\n",
      "\u001b[34mThere are 1 clusters with 32 cameras\u001b[0m\n",
      "\u001b[34mThere are 1 clusters with 41 cameras\u001b[0m\n",
      "\u001b[34mThere are 1 clusters with 45 cameras\u001b[0m\n",
      "\u001b[34mThere are 1 clusters with 47 cameras\u001b[0m\n",
      "\u001b[34mThere are 1 clusters with 52 cameras\u001b[0m\n",
      "\u001b[34mThere are 1 clusters with 53 cameras\u001b[0m\n",
      "\u001b[34mThere are 2 clusters with 54 cameras\u001b[0m\n",
      "\u001b[34mThere are 1 clusters with 56 cameras\u001b[0m\n",
      "\u001b[34mThere are 3 clusters with 57 cameras\u001b[0m\n",
      "\u001b[34mThere are 1 clusters with 58 cameras\u001b[0m\n",
      "\u001b[34mThere are 6 clusters with 59 cameras\u001b[0m\n",
      "\u001b[34mThere are 9 clusters with 60 cameras\u001b[0m\n",
      "\u001b[34mThere are 13 clusters with 61 cameras\u001b[0m\n",
      "\u001b[34mThere are 26 clusters with 62 cameras\u001b[0m\n",
      "\u001b[34mThere are 36 clusters with 63 cameras\u001b[0m\n",
      "\u001b[34mThere are 461 clusters with 64 cameras\u001b[0m\n",
      "\u001b[34mThere are 1 clusters with 90 cameras\u001b[0m\n",
      "\u001b[34mThere are 1 clusters with 119 cameras\u001b[0m\n",
      "\u001b[34mThere are 1 clusters with 120 cameras\u001b[0m\n",
      "\u001b[34mThere are 1 clusters with 122 cameras\u001b[0m\n",
      "\u001b[34mThere are 1 clusters with 123 cameras\u001b[0m\n",
      "\u001b[34mThere are 2 clusters with 125 cameras\u001b[0m\n",
      "\u001b[34mThere are 2 clusters with 126 cameras\u001b[0m\n",
      "\u001b[34mThere are 1 clusters with 127 cameras\u001b[0m\n",
      "\u001b[34mThere are 8 clusters with 128 cameras\u001b[0m\n",
      "Number of classes: 600\n",
      "\u001b[36mLearning Rate: 0.000350\u001b[0m\n",
      "encontrou modelos efficientnet. Carregando...\n",
      "encontrou modelos convnext. Carregando...\n",
      "encontrou modelos mobilenet. Carregando...\n",
      "encontrou modelos vgg16. Carregando...\n",
      "encontrou modelos resnet50. Carregando...\n",
      "encontrou modelos osnet. Carregando...\n",
      "encontrou modelos densenet121. Carregando...\n",
      "\u001b[33mValidating online efficientnet ...\u001b[0m\n",
      "Features extracted in 48.78 seconds\n",
      "Features extracted in 100.27 seconds\n",
      "Computing CMC and mAP ...\n",
      "** Results **\n",
      "mAP: 69.91%\n",
      "CMC curve\n",
      "Rank-1  : 73.59%\n",
      "Rank-5  : 94.54%\n",
      "Rank-10 : 97.70%\n",
      "Rank-20 : 99.20%\n",
      "\u001b[33mValidating momentum efficientnet ...\u001b[0m\n",
      "Features extracted in 47.00 seconds\n",
      "Features extracted in 98.82 seconds\n",
      "Computing CMC and mAP ...\n",
      "** Results **\n",
      "mAP: 70.66%\n",
      "CMC curve\n",
      "Rank-1  : 76.80%\n",
      "Rank-5  : 93.39%\n",
      "Rank-10 : 96.79%\n",
      "Rank-20 : 98.68%\n",
      "\u001b[33mValidating online convnext ...\u001b[0m\n",
      "Features extracted in 48.63 seconds\n",
      "Features extracted in 101.42 seconds\n",
      "Computing CMC and mAP ...\n",
      "** Results **\n",
      "mAP: 70.08%\n",
      "CMC curve\n",
      "Rank-1  : 75.63%\n",
      "Rank-5  : 92.61%\n",
      "Rank-10 : 96.93%\n",
      "Rank-20 : 99.29%\n",
      "\u001b[33mValidating momentum convnext ...\u001b[0m\n",
      "Features extracted in 48.55 seconds\n",
      "Features extracted in 100.72 seconds\n",
      "Computing CMC and mAP ...\n",
      "** Results **\n",
      "mAP: 70.46%\n",
      "CMC curve\n",
      "Rank-1  : 77.49%\n",
      "Rank-5  : 93.71%\n",
      "Rank-10 : 96.84%\n",
      "Rank-20 : 98.71%\n",
      "\u001b[33mValidating online mobilenet ...\u001b[0m\n",
      "Features extracted in 47.55 seconds\n",
      "Features extracted in 96.12 seconds\n",
      "Computing CMC and mAP ...\n",
      "** Results **\n",
      "mAP: 71.39%\n",
      "CMC curve\n",
      "Rank-1  : 81.53%\n",
      "Rank-5  : 95.41%\n",
      "Rank-10 : 98.02%\n",
      "Rank-20 : 99.18%\n",
      "\u001b[33mValidating momentum mobilenet ...\u001b[0m\n",
      "Features extracted in 47.30 seconds\n",
      "Features extracted in 96.80 seconds\n",
      "Computing CMC and mAP ...\n",
      "** Results **\n",
      "mAP: 70.86%\n",
      "CMC curve\n",
      "Rank-1  : 78.95%\n",
      "Rank-5  : 93.89%\n",
      "Rank-10 : 97.47%\n",
      "Rank-20 : 99.27%\n",
      "\u001b[33mValidating online vgg16 ...\u001b[0m\n",
      "Features extracted in 51.08 seconds\n",
      "Features extracted in 129.60 seconds\n",
      "Computing CMC and mAP ...\n",
      "** Results **\n",
      "mAP: 69.67%\n",
      "CMC curve\n",
      "Rank-1  : 74.49%\n",
      "Rank-5  : 92.27%\n",
      "Rank-10 : 96.56%\n",
      "Rank-20 : 99.05%\n",
      "\u001b[33mValidating momentum vgg16 ...\u001b[0m\n",
      "Features extracted in 53.49 seconds\n",
      "Features extracted in 99.91 seconds\n",
      "Computing CMC and mAP ...\n",
      "** Results **\n",
      "mAP: 69.72%\n",
      "CMC curve\n",
      "Rank-1  : 75.80%\n",
      "Rank-5  : 92.91%\n",
      "Rank-10 : 97.25%\n",
      "Rank-20 : 99.09%\n",
      "\u001b[33mValidating online resnet50 ...\u001b[0m\n",
      "Features extracted in 47.73 seconds\n",
      "Features extracted in 98.21 seconds\n",
      "Computing CMC and mAP ...\n",
      "** Results **\n",
      "mAP: 69.64%\n",
      "CMC curve\n",
      "Rank-1  : 70.07%\n",
      "Rank-5  : 91.28%\n",
      "Rank-10 : 96.04%\n",
      "Rank-20 : 98.68%\n",
      "\u001b[33mValidating momentum resnet50 ...\u001b[0m\n",
      "Features extracted in 73.67 seconds\n",
      "Features extracted in 153.60 seconds\n",
      "Computing CMC and mAP ...\n",
      "** Results **\n",
      "mAP: 70.02%\n",
      "CMC curve\n",
      "Rank-1  : 73.39%\n",
      "Rank-5  : 93.49%\n",
      "Rank-10 : 97.50%\n",
      "Rank-20 : 99.37%\n",
      "\u001b[33mValidating online osnet ...\u001b[0m\n",
      "Features extracted in 65.82 seconds\n",
      "Features extracted in 130.10 seconds\n",
      "Computing CMC and mAP ...\n",
      "** Results **\n",
      "mAP: 68.61%\n",
      "CMC curve\n",
      "Rank-1  : 73.02%\n",
      "Rank-5  : 95.04%\n",
      "Rank-10 : 98.36%\n",
      "Rank-20 : 99.48%\n",
      "\u001b[33mValidating momentum osnet ...\u001b[0m\n",
      "Features extracted in 63.57 seconds\n",
      "Features extracted in 131.83 seconds\n",
      "Computing CMC and mAP ...\n",
      "** Results **\n",
      "mAP: 69.41%\n",
      "CMC curve\n",
      "Rank-1  : 73.33%\n",
      "Rank-5  : 93.05%\n",
      "Rank-10 : 97.14%\n",
      "Rank-20 : 99.12%\n",
      "\u001b[33mValidating online densenet121 ...\u001b[0m\n",
      "Features extracted in 62.30 seconds\n",
      "Features extracted in 122.17 seconds\n",
      "Computing CMC and mAP ...\n",
      "** Results **\n",
      "mAP: 70.12%\n",
      "CMC curve\n",
      "Rank-1  : 75.15%\n",
      "Rank-5  : 92.89%\n",
      "Rank-10 : 97.00%\n",
      "Rank-20 : 98.95%\n",
      "\u001b[33mValidating momentum densenet121 ...\u001b[0m\n",
      "Features extracted in 57.70 seconds\n",
      "Features extracted in 115.23 seconds\n",
      "Computing CMC and mAP ...\n",
      "** Results **\n",
      "mAP: 69.53%\n",
      "CMC curve\n",
      "Rank-1  : 75.91%\n",
      "Rank-5  : 93.33%\n",
      "Rank-10 : 97.31%\n",
      "Rank-20 : 99.25%\n",
      "\u001b[33mValidating ensembled with online models ...\u001b[0m\n",
      "Computing CMC and mAP ...\n",
      "** Results **\n",
      "mAP: 71.17%\n",
      "Ranks:\n",
      "Rank-1  : 78.73%\n",
      "Rank-5  : 92.94%\n",
      "Rank-10 : 96.83%\n",
      "\u001b[33mValidating ensembled with momentum models ...\u001b[0m\n",
      "Computing CMC and mAP ...\n",
      "** Results **\n",
      "mAP: 71.11%\n",
      "Ranks:\n",
      "Rank-1  : 79.83%\n",
      "Rank-5  : 92.92%\n",
      "Rank-10 : 96.74%\n",
      "###============ Iteration number 41/90 ============###\n",
      "Extracting Online Features for efficientnet ...\n",
      "Features extracted in 192.96 seconds\n",
      "Computing jaccard distance...\n"
     ]
    },
    {
     "name": "stderr",
     "output_type": "stream",
     "text": [
      "bruteForceKnn is deprecated; call bfKnn instead\n"
     ]
    },
    {
     "name": "stdout",
     "output_type": "stream",
     "text": [
      "Jaccard distance computing time cost: 70.38764953613281\n",
      "Extracting Online Features for convnext ...\n",
      "Features extracted in 155.92 seconds\n",
      "Computing jaccard distance...\n"
     ]
    },
    {
     "name": "stderr",
     "output_type": "stream",
     "text": [
      "bruteForceKnn is deprecated; call bfKnn instead\n"
     ]
    },
    {
     "name": "stdout",
     "output_type": "stream",
     "text": [
      "Jaccard distance computing time cost: 93.49111795425415\n",
      "Extracting Online Features for mobilenet ...\n",
      "Features extracted in 233.05 seconds\n",
      "Computing jaccard distance...\n"
     ]
    },
    {
     "name": "stderr",
     "output_type": "stream",
     "text": [
      "bruteForceKnn is deprecated; call bfKnn instead\n"
     ]
    },
    {
     "name": "stdout",
     "output_type": "stream",
     "text": [
      "Jaccard distance computing time cost: 118.29375910758972\n",
      "Extracting Online Features for vgg16 ...\n",
      "Features extracted in 199.97 seconds\n",
      "Computing jaccard distance...\n"
     ]
    },
    {
     "name": "stderr",
     "output_type": "stream",
     "text": [
      "bruteForceKnn is deprecated; call bfKnn instead\n"
     ]
    },
    {
     "name": "stdout",
     "output_type": "stream",
     "text": [
      "Jaccard distance computing time cost: 142.79385471343994\n",
      "Extracting Online Features for resnet50 ...\n",
      "Features extracted in 264.76 seconds\n",
      "Computing jaccard distance...\n"
     ]
    },
    {
     "name": "stderr",
     "output_type": "stream",
     "text": [
      "bruteForceKnn is deprecated; call bfKnn instead\n"
     ]
    },
    {
     "name": "stdout",
     "output_type": "stream",
     "text": [
      "Jaccard distance computing time cost: 599.2901442050934\n",
      "Extracting Online Features for osnet ...\n",
      "Features extracted in 293.15 seconds\n",
      "Computing jaccard distance...\n"
     ]
    },
    {
     "name": "stderr",
     "output_type": "stream",
     "text": [
      "bruteForceKnn is deprecated; call bfKnn instead\n"
     ]
    },
    {
     "name": "stdout",
     "output_type": "stream",
     "text": [
      "Jaccard distance computing time cost: 624.1256341934204\n",
      "Extracting Online Features for densenet121 ...\n",
      "Features extracted in 290.00 seconds\n",
      "Computing jaccard distance...\n"
     ]
    },
    {
     "name": "stderr",
     "output_type": "stream",
     "text": [
      "bruteForceKnn is deprecated; call bfKnn instead\n"
     ]
    },
    {
     "name": "stdout",
     "output_type": "stream",
     "text": [
      "Jaccard distance computing time cost: 623.9279162883759\n",
      "Reliability: 0.994\n",
      "\u001b[32mMean Purity: 0.01644\u001b[0m\n",
      "\u001b[34mThere are 2 clusters with 4 cameras\u001b[0m\n",
      "\u001b[34mThere are 3 clusters with 5 cameras\u001b[0m\n",
      "\u001b[34mThere are 2 clusters with 6 cameras\u001b[0m\n",
      "\u001b[34mThere are 2 clusters with 7 cameras\u001b[0m\n",
      "\u001b[34mThere are 2 clusters with 9 cameras\u001b[0m\n",
      "\u001b[34mThere are 1 clusters with 11 cameras\u001b[0m\n",
      "\u001b[34mThere are 1 clusters with 12 cameras\u001b[0m\n",
      "\u001b[34mThere are 1 clusters with 16 cameras\u001b[0m\n",
      "\u001b[34mThere are 1 clusters with 17 cameras\u001b[0m\n",
      "\u001b[34mThere are 1 clusters with 19 cameras\u001b[0m\n",
      "\u001b[34mThere are 1 clusters with 27 cameras\u001b[0m\n",
      "\u001b[34mThere are 1 clusters with 31 cameras\u001b[0m\n",
      "\u001b[34mThere are 1 clusters with 32 cameras\u001b[0m\n",
      "\u001b[34mThere are 1 clusters with 41 cameras\u001b[0m\n",
      "\u001b[34mThere are 1 clusters with 45 cameras\u001b[0m\n",
      "\u001b[34mThere are 1 clusters with 47 cameras\u001b[0m\n",
      "\u001b[34mThere are 1 clusters with 52 cameras\u001b[0m\n",
      "\u001b[34mThere are 1 clusters with 53 cameras\u001b[0m\n",
      "\u001b[34mThere are 2 clusters with 54 cameras\u001b[0m\n",
      "\u001b[34mThere are 1 clusters with 56 cameras\u001b[0m\n",
      "\u001b[34mThere are 3 clusters with 57 cameras\u001b[0m\n",
      "\u001b[34mThere are 1 clusters with 58 cameras\u001b[0m\n",
      "\u001b[34mThere are 6 clusters with 59 cameras\u001b[0m\n",
      "\u001b[34mThere are 9 clusters with 60 cameras\u001b[0m\n",
      "\u001b[34mThere are 13 clusters with 61 cameras\u001b[0m\n",
      "\u001b[34mThere are 26 clusters with 62 cameras\u001b[0m\n",
      "\u001b[34mThere are 36 clusters with 63 cameras\u001b[0m\n",
      "\u001b[34mThere are 461 clusters with 64 cameras\u001b[0m\n",
      "\u001b[34mThere are 1 clusters with 90 cameras\u001b[0m\n",
      "\u001b[34mThere are 1 clusters with 119 cameras\u001b[0m\n",
      "\u001b[34mThere are 1 clusters with 120 cameras\u001b[0m\n",
      "\u001b[34mThere are 1 clusters with 122 cameras\u001b[0m\n",
      "\u001b[34mThere are 1 clusters with 123 cameras\u001b[0m\n",
      "\u001b[34mThere are 2 clusters with 125 cameras\u001b[0m\n",
      "\u001b[34mThere are 2 clusters with 126 cameras\u001b[0m\n",
      "\u001b[34mThere are 1 clusters with 127 cameras\u001b[0m\n",
      "\u001b[34mThere are 8 clusters with 128 cameras\u001b[0m\n",
      "Number of classes: 600\n",
      "\u001b[36mLearning Rate: 0.000350\u001b[0m\n",
      "encontrou modelos efficientnet. Carregando...\n",
      "encontrou modelos convnext. Carregando...\n",
      "encontrou modelos mobilenet. Carregando...\n",
      "encontrou modelos vgg16. Carregando...\n",
      "encontrou modelos resnet50. Carregando...\n",
      "encontrou modelos osnet. Carregando...\n",
      "encontrou modelos densenet121. Carregando...\n",
      "###============ Iteration number 42/90 ============###\n",
      "Extracting Online Features for efficientnet ...\n",
      "Features extracted in 269.02 seconds\n",
      "Computing jaccard distance...\n"
     ]
    },
    {
     "name": "stderr",
     "output_type": "stream",
     "text": [
      "bruteForceKnn is deprecated; call bfKnn instead\n"
     ]
    },
    {
     "name": "stdout",
     "output_type": "stream",
     "text": [
      "Jaccard distance computing time cost: 626.2518198490143\n",
      "Extracting Online Features for convnext ...\n",
      "Features extracted in 266.64 seconds\n",
      "Computing jaccard distance...\n"
     ]
    },
    {
     "name": "stderr",
     "output_type": "stream",
     "text": [
      "bruteForceKnn is deprecated; call bfKnn instead\n"
     ]
    },
    {
     "name": "stdout",
     "output_type": "stream",
     "text": [
      "Jaccard distance computing time cost: 611.9564623832703\n",
      "Extracting Online Features for mobilenet ...\n",
      "Features extracted in 286.38 seconds\n",
      "Computing jaccard distance...\n"
     ]
    },
    {
     "name": "stderr",
     "output_type": "stream",
     "text": [
      "bruteForceKnn is deprecated; call bfKnn instead\n"
     ]
    },
    {
     "name": "stdout",
     "output_type": "stream",
     "text": [
      "Jaccard distance computing time cost: 637.7402052879333\n",
      "Extracting Online Features for vgg16 ...\n",
      "Features extracted in 284.15 seconds\n",
      "Computing jaccard distance...\n"
     ]
    },
    {
     "name": "stderr",
     "output_type": "stream",
     "text": [
      "bruteForceKnn is deprecated; call bfKnn instead\n"
     ]
    },
    {
     "name": "stdout",
     "output_type": "stream",
     "text": [
      "Jaccard distance computing time cost: 609.0194199085236\n",
      "Extracting Online Features for resnet50 ...\n",
      "Features extracted in 270.76 seconds\n",
      "Computing jaccard distance...\n"
     ]
    },
    {
     "name": "stderr",
     "output_type": "stream",
     "text": [
      "bruteForceKnn is deprecated; call bfKnn instead\n"
     ]
    },
    {
     "name": "stdout",
     "output_type": "stream",
     "text": [
      "Jaccard distance computing time cost: 536.9164755344391\n",
      "Extracting Online Features for osnet ...\n",
      "Features extracted in 238.06 seconds\n",
      "Computing jaccard distance...\n"
     ]
    },
    {
     "name": "stderr",
     "output_type": "stream",
     "text": [
      "bruteForceKnn is deprecated; call bfKnn instead\n"
     ]
    },
    {
     "name": "stdout",
     "output_type": "stream",
     "text": [
      "Jaccard distance computing time cost: 87.26112484931946\n",
      "Extracting Online Features for densenet121 ...\n",
      "Features extracted in 187.97 seconds\n",
      "Computing jaccard distance...\n"
     ]
    },
    {
     "name": "stderr",
     "output_type": "stream",
     "text": [
      "bruteForceKnn is deprecated; call bfKnn instead\n"
     ]
    },
    {
     "name": "stdout",
     "output_type": "stream",
     "text": [
      "Jaccard distance computing time cost: 78.67337727546692\n",
      "Reliability: 0.994\n",
      "\u001b[32mMean Purity: 0.01644\u001b[0m\n",
      "\u001b[34mThere are 2 clusters with 4 cameras\u001b[0m\n",
      "\u001b[34mThere are 3 clusters with 5 cameras\u001b[0m\n",
      "\u001b[34mThere are 2 clusters with 6 cameras\u001b[0m\n",
      "\u001b[34mThere are 2 clusters with 7 cameras\u001b[0m\n",
      "\u001b[34mThere are 2 clusters with 9 cameras\u001b[0m\n",
      "\u001b[34mThere are 1 clusters with 11 cameras\u001b[0m\n",
      "\u001b[34mThere are 1 clusters with 12 cameras\u001b[0m\n",
      "\u001b[34mThere are 1 clusters with 16 cameras\u001b[0m\n",
      "\u001b[34mThere are 1 clusters with 17 cameras\u001b[0m\n",
      "\u001b[34mThere are 1 clusters with 19 cameras\u001b[0m\n",
      "\u001b[34mThere are 1 clusters with 27 cameras\u001b[0m\n",
      "\u001b[34mThere are 1 clusters with 31 cameras\u001b[0m\n",
      "\u001b[34mThere are 1 clusters with 32 cameras\u001b[0m\n",
      "\u001b[34mThere are 1 clusters with 41 cameras\u001b[0m\n",
      "\u001b[34mThere are 1 clusters with 45 cameras\u001b[0m\n",
      "\u001b[34mThere are 1 clusters with 47 cameras\u001b[0m\n",
      "\u001b[34mThere are 1 clusters with 52 cameras\u001b[0m\n",
      "\u001b[34mThere are 1 clusters with 53 cameras\u001b[0m\n",
      "\u001b[34mThere are 2 clusters with 54 cameras\u001b[0m\n",
      "\u001b[34mThere are 1 clusters with 56 cameras\u001b[0m\n",
      "\u001b[34mThere are 3 clusters with 57 cameras\u001b[0m\n",
      "\u001b[34mThere are 1 clusters with 58 cameras\u001b[0m\n",
      "\u001b[34mThere are 6 clusters with 59 cameras\u001b[0m\n",
      "\u001b[34mThere are 9 clusters with 60 cameras\u001b[0m\n",
      "\u001b[34mThere are 13 clusters with 61 cameras\u001b[0m\n",
      "\u001b[34mThere are 26 clusters with 62 cameras\u001b[0m\n",
      "\u001b[34mThere are 36 clusters with 63 cameras\u001b[0m\n",
      "\u001b[34mThere are 461 clusters with 64 cameras\u001b[0m\n",
      "\u001b[34mThere are 1 clusters with 90 cameras\u001b[0m\n",
      "\u001b[34mThere are 1 clusters with 119 cameras\u001b[0m\n",
      "\u001b[34mThere are 1 clusters with 120 cameras\u001b[0m\n",
      "\u001b[34mThere are 1 clusters with 122 cameras\u001b[0m\n",
      "\u001b[34mThere are 1 clusters with 123 cameras\u001b[0m\n",
      "\u001b[34mThere are 2 clusters with 125 cameras\u001b[0m\n",
      "\u001b[34mThere are 2 clusters with 126 cameras\u001b[0m\n",
      "\u001b[34mThere are 1 clusters with 127 cameras\u001b[0m\n",
      "\u001b[34mThere are 8 clusters with 128 cameras\u001b[0m\n",
      "Number of classes: 600\n",
      "\u001b[36mLearning Rate: 0.000350\u001b[0m\n",
      "encontrou modelos efficientnet. Carregando...\n",
      "encontrou modelos convnext. Carregando...\n",
      "encontrou modelos mobilenet. Carregando...\n",
      "encontrou modelos vgg16. Carregando...\n",
      "encontrou modelos resnet50. Carregando...\n",
      "encontrou modelos osnet. Carregando...\n",
      "encontrou modelos densenet121. Carregando...\n",
      "###============ Iteration number 43/90 ============###\n",
      "Extracting Online Features for efficientnet ...\n",
      "Features extracted in 164.80 seconds\n",
      "Computing jaccard distance...\n"
     ]
    },
    {
     "name": "stderr",
     "output_type": "stream",
     "text": [
      "bruteForceKnn is deprecated; call bfKnn instead\n"
     ]
    },
    {
     "name": "stdout",
     "output_type": "stream",
     "text": [
      "Jaccard distance computing time cost: 74.55073165893555\n",
      "Extracting Online Features for convnext ...\n",
      "Features extracted in 160.58 seconds\n",
      "Computing jaccard distance...\n"
     ]
    },
    {
     "name": "stderr",
     "output_type": "stream",
     "text": [
      "bruteForceKnn is deprecated; call bfKnn instead\n"
     ]
    },
    {
     "name": "stdout",
     "output_type": "stream",
     "text": [
      "Jaccard distance computing time cost: 386.23971819877625\n",
      "Extracting Online Features for mobilenet ...\n",
      "Features extracted in 180.12 seconds\n",
      "Computing jaccard distance...\n"
     ]
    },
    {
     "name": "stderr",
     "output_type": "stream",
     "text": [
      "bruteForceKnn is deprecated; call bfKnn instead\n"
     ]
    },
    {
     "name": "stdout",
     "output_type": "stream",
     "text": [
      "Jaccard distance computing time cost: 184.8188157081604\n",
      "Extracting Online Features for vgg16 ...\n",
      "Features extracted in 155.06 seconds\n",
      "Computing jaccard distance...\n"
     ]
    },
    {
     "name": "stderr",
     "output_type": "stream",
     "text": [
      "bruteForceKnn is deprecated; call bfKnn instead\n"
     ]
    },
    {
     "name": "stdout",
     "output_type": "stream",
     "text": [
      "Jaccard distance computing time cost: 106.68914031982422\n",
      "Extracting Online Features for resnet50 ...\n",
      "Features extracted in 164.99 seconds\n",
      "Computing jaccard distance...\n"
     ]
    },
    {
     "name": "stderr",
     "output_type": "stream",
     "text": [
      "bruteForceKnn is deprecated; call bfKnn instead\n"
     ]
    },
    {
     "name": "stdout",
     "output_type": "stream",
     "text": [
      "Jaccard distance computing time cost: 137.00354743003845\n",
      "Extracting Online Features for osnet ...\n",
      "Features extracted in 159.99 seconds\n",
      "Computing jaccard distance...\n"
     ]
    },
    {
     "name": "stderr",
     "output_type": "stream",
     "text": [
      "bruteForceKnn is deprecated; call bfKnn instead\n"
     ]
    },
    {
     "name": "stdout",
     "output_type": "stream",
     "text": [
      "Jaccard distance computing time cost: 73.86155843734741\n",
      "Extracting Online Features for densenet121 ...\n",
      "Features extracted in 158.60 seconds\n",
      "Computing jaccard distance...\n"
     ]
    },
    {
     "name": "stderr",
     "output_type": "stream",
     "text": [
      "bruteForceKnn is deprecated; call bfKnn instead\n"
     ]
    },
    {
     "name": "stdout",
     "output_type": "stream",
     "text": [
      "Jaccard distance computing time cost: 72.36691474914551\n",
      "Reliability: 0.994\n",
      "\u001b[32mMean Purity: 0.01644\u001b[0m\n",
      "\u001b[34mThere are 2 clusters with 4 cameras\u001b[0m\n",
      "\u001b[34mThere are 3 clusters with 5 cameras\u001b[0m\n",
      "\u001b[34mThere are 2 clusters with 6 cameras\u001b[0m\n",
      "\u001b[34mThere are 2 clusters with 7 cameras\u001b[0m\n",
      "\u001b[34mThere are 2 clusters with 9 cameras\u001b[0m\n",
      "\u001b[34mThere are 1 clusters with 11 cameras\u001b[0m\n",
      "\u001b[34mThere are 1 clusters with 12 cameras\u001b[0m\n",
      "\u001b[34mThere are 1 clusters with 16 cameras\u001b[0m\n",
      "\u001b[34mThere are 1 clusters with 17 cameras\u001b[0m\n",
      "\u001b[34mThere are 1 clusters with 19 cameras\u001b[0m\n",
      "\u001b[34mThere are 1 clusters with 27 cameras\u001b[0m\n",
      "\u001b[34mThere are 1 clusters with 31 cameras\u001b[0m\n",
      "\u001b[34mThere are 1 clusters with 32 cameras\u001b[0m\n",
      "\u001b[34mThere are 1 clusters with 41 cameras\u001b[0m\n",
      "\u001b[34mThere are 1 clusters with 45 cameras\u001b[0m\n",
      "\u001b[34mThere are 1 clusters with 47 cameras\u001b[0m\n",
      "\u001b[34mThere are 1 clusters with 52 cameras\u001b[0m\n",
      "\u001b[34mThere are 1 clusters with 53 cameras\u001b[0m\n",
      "\u001b[34mThere are 2 clusters with 54 cameras\u001b[0m\n",
      "\u001b[34mThere are 1 clusters with 56 cameras\u001b[0m\n",
      "\u001b[34mThere are 3 clusters with 57 cameras\u001b[0m\n",
      "\u001b[34mThere are 1 clusters with 58 cameras\u001b[0m\n",
      "\u001b[34mThere are 6 clusters with 59 cameras\u001b[0m\n",
      "\u001b[34mThere are 9 clusters with 60 cameras\u001b[0m\n",
      "\u001b[34mThere are 13 clusters with 61 cameras\u001b[0m\n",
      "\u001b[34mThere are 26 clusters with 62 cameras\u001b[0m\n",
      "\u001b[34mThere are 36 clusters with 63 cameras\u001b[0m\n",
      "\u001b[34mThere are 461 clusters with 64 cameras\u001b[0m\n",
      "\u001b[34mThere are 1 clusters with 90 cameras\u001b[0m\n",
      "\u001b[34mThere are 1 clusters with 119 cameras\u001b[0m\n",
      "\u001b[34mThere are 1 clusters with 120 cameras\u001b[0m\n",
      "\u001b[34mThere are 1 clusters with 122 cameras\u001b[0m\n",
      "\u001b[34mThere are 1 clusters with 123 cameras\u001b[0m\n",
      "\u001b[34mThere are 2 clusters with 125 cameras\u001b[0m\n",
      "\u001b[34mThere are 2 clusters with 126 cameras\u001b[0m\n",
      "\u001b[34mThere are 1 clusters with 127 cameras\u001b[0m\n",
      "\u001b[34mThere are 8 clusters with 128 cameras\u001b[0m\n",
      "Number of classes: 600\n",
      "\u001b[36mLearning Rate: 0.000350\u001b[0m\n",
      "encontrou modelos efficientnet. Carregando...\n",
      "encontrou modelos convnext. Carregando...\n",
      "encontrou modelos mobilenet. Carregando...\n",
      "encontrou modelos vgg16. Carregando...\n",
      "encontrou modelos resnet50. Carregando...\n",
      "encontrou modelos osnet. Carregando...\n",
      "encontrou modelos densenet121. Carregando...\n",
      "###============ Iteration number 44/90 ============###\n",
      "Extracting Online Features for efficientnet ...\n",
      "Features extracted in 255.12 seconds\n",
      "Computing jaccard distance...\n"
     ]
    },
    {
     "name": "stderr",
     "output_type": "stream",
     "text": [
      "bruteForceKnn is deprecated; call bfKnn instead\n"
     ]
    },
    {
     "name": "stdout",
     "output_type": "stream",
     "text": [
      "Jaccard distance computing time cost: 545.3044476509094\n",
      "Extracting Online Features for convnext ...\n",
      "Features extracted in 270.40 seconds\n",
      "Computing jaccard distance...\n"
     ]
    },
    {
     "name": "stderr",
     "output_type": "stream",
     "text": [
      "bruteForceKnn is deprecated; call bfKnn instead\n"
     ]
    },
    {
     "name": "stdout",
     "output_type": "stream",
     "text": [
      "Jaccard distance computing time cost: 557.2846026420593\n",
      "Extracting Online Features for mobilenet ...\n",
      "Features extracted in 227.75 seconds\n",
      "Computing jaccard distance...\n"
     ]
    },
    {
     "name": "stderr",
     "output_type": "stream",
     "text": [
      "bruteForceKnn is deprecated; call bfKnn instead\n"
     ]
    },
    {
     "name": "stdout",
     "output_type": "stream",
     "text": [
      "Jaccard distance computing time cost: 555.6941893100739\n",
      "Extracting Online Features for vgg16 ...\n",
      "Features extracted in 255.71 seconds\n",
      "Computing jaccard distance...\n"
     ]
    },
    {
     "name": "stderr",
     "output_type": "stream",
     "text": [
      "bruteForceKnn is deprecated; call bfKnn instead\n"
     ]
    },
    {
     "name": "stdout",
     "output_type": "stream",
     "text": [
      "Jaccard distance computing time cost: 549.755850315094\n",
      "Extracting Online Features for resnet50 ...\n",
      "Features extracted in 209.30 seconds\n",
      "Computing jaccard distance...\n"
     ]
    },
    {
     "name": "stderr",
     "output_type": "stream",
     "text": [
      "bruteForceKnn is deprecated; call bfKnn instead\n"
     ]
    },
    {
     "name": "stdout",
     "output_type": "stream",
     "text": [
      "Jaccard distance computing time cost: 535.5746748447418\n",
      "Extracting Online Features for osnet ...\n",
      "Features extracted in 181.56 seconds\n",
      "Computing jaccard distance...\n"
     ]
    },
    {
     "name": "stderr",
     "output_type": "stream",
     "text": [
      "bruteForceKnn is deprecated; call bfKnn instead\n"
     ]
    },
    {
     "name": "stdout",
     "output_type": "stream",
     "text": [
      "Jaccard distance computing time cost: 78.74901604652405\n",
      "Extracting Online Features for densenet121 ...\n",
      "Features extracted in 166.35 seconds\n",
      "Computing jaccard distance...\n"
     ]
    },
    {
     "name": "stderr",
     "output_type": "stream",
     "text": [
      "bruteForceKnn is deprecated; call bfKnn instead\n"
     ]
    },
    {
     "name": "stdout",
     "output_type": "stream",
     "text": [
      "Jaccard distance computing time cost: 72.68356156349182\n",
      "Reliability: 0.994\n",
      "\u001b[32mMean Purity: 0.01644\u001b[0m\n",
      "\u001b[34mThere are 2 clusters with 4 cameras\u001b[0m\n",
      "\u001b[34mThere are 3 clusters with 5 cameras\u001b[0m\n",
      "\u001b[34mThere are 2 clusters with 6 cameras\u001b[0m\n",
      "\u001b[34mThere are 2 clusters with 7 cameras\u001b[0m\n",
      "\u001b[34mThere are 2 clusters with 9 cameras\u001b[0m\n",
      "\u001b[34mThere are 1 clusters with 11 cameras\u001b[0m\n",
      "\u001b[34mThere are 1 clusters with 12 cameras\u001b[0m\n",
      "\u001b[34mThere are 1 clusters with 16 cameras\u001b[0m\n",
      "\u001b[34mThere are 1 clusters with 17 cameras\u001b[0m\n",
      "\u001b[34mThere are 1 clusters with 19 cameras\u001b[0m\n",
      "\u001b[34mThere are 1 clusters with 27 cameras\u001b[0m\n",
      "\u001b[34mThere are 1 clusters with 31 cameras\u001b[0m\n",
      "\u001b[34mThere are 1 clusters with 32 cameras\u001b[0m\n",
      "\u001b[34mThere are 1 clusters with 41 cameras\u001b[0m\n",
      "\u001b[34mThere are 1 clusters with 45 cameras\u001b[0m\n",
      "\u001b[34mThere are 1 clusters with 47 cameras\u001b[0m\n",
      "\u001b[34mThere are 1 clusters with 52 cameras\u001b[0m\n",
      "\u001b[34mThere are 1 clusters with 53 cameras\u001b[0m\n",
      "\u001b[34mThere are 2 clusters with 54 cameras\u001b[0m\n",
      "\u001b[34mThere are 1 clusters with 56 cameras\u001b[0m\n",
      "\u001b[34mThere are 3 clusters with 57 cameras\u001b[0m\n",
      "\u001b[34mThere are 1 clusters with 58 cameras\u001b[0m\n",
      "\u001b[34mThere are 6 clusters with 59 cameras\u001b[0m\n",
      "\u001b[34mThere are 9 clusters with 60 cameras\u001b[0m\n",
      "\u001b[34mThere are 13 clusters with 61 cameras\u001b[0m\n",
      "\u001b[34mThere are 26 clusters with 62 cameras\u001b[0m\n",
      "\u001b[34mThere are 36 clusters with 63 cameras\u001b[0m\n",
      "\u001b[34mThere are 461 clusters with 64 cameras\u001b[0m\n",
      "\u001b[34mThere are 1 clusters with 90 cameras\u001b[0m\n",
      "\u001b[34mThere are 1 clusters with 119 cameras\u001b[0m\n",
      "\u001b[34mThere are 1 clusters with 120 cameras\u001b[0m\n",
      "\u001b[34mThere are 1 clusters with 122 cameras\u001b[0m\n",
      "\u001b[34mThere are 1 clusters with 123 cameras\u001b[0m\n",
      "\u001b[34mThere are 2 clusters with 125 cameras\u001b[0m\n",
      "\u001b[34mThere are 2 clusters with 126 cameras\u001b[0m\n",
      "\u001b[34mThere are 1 clusters with 127 cameras\u001b[0m\n",
      "\u001b[34mThere are 8 clusters with 128 cameras\u001b[0m\n",
      "Number of classes: 600\n",
      "\u001b[36mLearning Rate: 0.000350\u001b[0m\n",
      "encontrou modelos efficientnet. Carregando...\n",
      "encontrou modelos convnext. Carregando...\n",
      "encontrou modelos mobilenet. Carregando...\n",
      "encontrou modelos vgg16. Carregando...\n",
      "encontrou modelos resnet50. Carregando...\n",
      "encontrou modelos osnet. Carregando...\n",
      "encontrou modelos densenet121. Carregando...\n",
      "###============ Iteration number 45/90 ============###\n",
      "Extracting Online Features for efficientnet ...\n",
      "Features extracted in 182.17 seconds\n",
      "Computing jaccard distance...\n"
     ]
    },
    {
     "name": "stderr",
     "output_type": "stream",
     "text": [
      "bruteForceKnn is deprecated; call bfKnn instead\n"
     ]
    },
    {
     "name": "stdout",
     "output_type": "stream",
     "text": [
      "Jaccard distance computing time cost: 71.56505107879639\n",
      "Extracting Online Features for convnext ...\n",
      "Features extracted in 163.49 seconds\n",
      "Computing jaccard distance...\n"
     ]
    },
    {
     "name": "stderr",
     "output_type": "stream",
     "text": [
      "bruteForceKnn is deprecated; call bfKnn instead\n"
     ]
    },
    {
     "name": "stdout",
     "output_type": "stream",
     "text": [
      "Jaccard distance computing time cost: 101.07579827308655\n",
      "Extracting Online Features for mobilenet ...\n",
      "Features extracted in 164.79 seconds\n",
      "Computing jaccard distance...\n"
     ]
    },
    {
     "name": "stderr",
     "output_type": "stream",
     "text": [
      "bruteForceKnn is deprecated; call bfKnn instead\n"
     ]
    },
    {
     "name": "stdout",
     "output_type": "stream",
     "text": [
      "Jaccard distance computing time cost: 117.74099159240723\n",
      "Extracting Online Features for vgg16 ...\n",
      "Features extracted in 168.72 seconds\n",
      "Computing jaccard distance...\n"
     ]
    },
    {
     "name": "stderr",
     "output_type": "stream",
     "text": [
      "bruteForceKnn is deprecated; call bfKnn instead\n"
     ]
    },
    {
     "name": "stdout",
     "output_type": "stream",
     "text": [
      "Jaccard distance computing time cost: 155.09261560440063\n",
      "Extracting Online Features for resnet50 ...\n",
      "Features extracted in 168.55 seconds\n",
      "Computing jaccard distance...\n"
     ]
    },
    {
     "name": "stderr",
     "output_type": "stream",
     "text": [
      "bruteForceKnn is deprecated; call bfKnn instead\n"
     ]
    },
    {
     "name": "stdout",
     "output_type": "stream",
     "text": [
      "Jaccard distance computing time cost: 95.63539218902588\n",
      "Extracting Online Features for osnet ...\n",
      "Features extracted in 159.50 seconds\n",
      "Computing jaccard distance...\n"
     ]
    },
    {
     "name": "stderr",
     "output_type": "stream",
     "text": [
      "bruteForceKnn is deprecated; call bfKnn instead\n"
     ]
    },
    {
     "name": "stdout",
     "output_type": "stream",
     "text": [
      "Jaccard distance computing time cost: 100.40166878700256\n",
      "Extracting Online Features for densenet121 ...\n",
      "Features extracted in 162.73 seconds\n",
      "Computing jaccard distance...\n"
     ]
    },
    {
     "name": "stderr",
     "output_type": "stream",
     "text": [
      "bruteForceKnn is deprecated; call bfKnn instead\n"
     ]
    },
    {
     "name": "stdout",
     "output_type": "stream",
     "text": [
      "Jaccard distance computing time cost: 89.92496180534363\n",
      "Reliability: 0.994\n",
      "\u001b[32mMean Purity: 0.01644\u001b[0m\n",
      "\u001b[34mThere are 2 clusters with 4 cameras\u001b[0m\n",
      "\u001b[34mThere are 3 clusters with 5 cameras\u001b[0m\n",
      "\u001b[34mThere are 2 clusters with 6 cameras\u001b[0m\n",
      "\u001b[34mThere are 2 clusters with 7 cameras\u001b[0m\n",
      "\u001b[34mThere are 2 clusters with 9 cameras\u001b[0m\n",
      "\u001b[34mThere are 1 clusters with 11 cameras\u001b[0m\n",
      "\u001b[34mThere are 1 clusters with 12 cameras\u001b[0m\n",
      "\u001b[34mThere are 1 clusters with 16 cameras\u001b[0m\n",
      "\u001b[34mThere are 1 clusters with 17 cameras\u001b[0m\n",
      "\u001b[34mThere are 1 clusters with 19 cameras\u001b[0m\n",
      "\u001b[34mThere are 1 clusters with 27 cameras\u001b[0m\n",
      "\u001b[34mThere are 1 clusters with 31 cameras\u001b[0m\n",
      "\u001b[34mThere are 1 clusters with 32 cameras\u001b[0m\n",
      "\u001b[34mThere are 1 clusters with 41 cameras\u001b[0m\n",
      "\u001b[34mThere are 1 clusters with 45 cameras\u001b[0m\n",
      "\u001b[34mThere are 1 clusters with 47 cameras\u001b[0m\n",
      "\u001b[34mThere are 1 clusters with 52 cameras\u001b[0m\n",
      "\u001b[34mThere are 1 clusters with 53 cameras\u001b[0m\n",
      "\u001b[34mThere are 2 clusters with 54 cameras\u001b[0m\n",
      "\u001b[34mThere are 1 clusters with 56 cameras\u001b[0m\n",
      "\u001b[34mThere are 3 clusters with 57 cameras\u001b[0m\n",
      "\u001b[34mThere are 1 clusters with 58 cameras\u001b[0m\n",
      "\u001b[34mThere are 6 clusters with 59 cameras\u001b[0m\n",
      "\u001b[34mThere are 9 clusters with 60 cameras\u001b[0m\n",
      "\u001b[34mThere are 13 clusters with 61 cameras\u001b[0m\n",
      "\u001b[34mThere are 26 clusters with 62 cameras\u001b[0m\n",
      "\u001b[34mThere are 36 clusters with 63 cameras\u001b[0m\n",
      "\u001b[34mThere are 461 clusters with 64 cameras\u001b[0m\n",
      "\u001b[34mThere are 1 clusters with 90 cameras\u001b[0m\n",
      "\u001b[34mThere are 1 clusters with 119 cameras\u001b[0m\n",
      "\u001b[34mThere are 1 clusters with 120 cameras\u001b[0m\n",
      "\u001b[34mThere are 1 clusters with 122 cameras\u001b[0m\n",
      "\u001b[34mThere are 1 clusters with 123 cameras\u001b[0m\n",
      "\u001b[34mThere are 2 clusters with 125 cameras\u001b[0m\n",
      "\u001b[34mThere are 2 clusters with 126 cameras\u001b[0m\n",
      "\u001b[34mThere are 1 clusters with 127 cameras\u001b[0m\n",
      "\u001b[34mThere are 8 clusters with 128 cameras\u001b[0m\n",
      "Number of classes: 600\n",
      "\u001b[36mLearning Rate: 0.000350\u001b[0m\n",
      "encontrou modelos efficientnet. Carregando...\n",
      "encontrou modelos convnext. Carregando...\n",
      "encontrou modelos mobilenet. Carregando...\n",
      "encontrou modelos vgg16. Carregando...\n",
      "encontrou modelos resnet50. Carregando...\n",
      "encontrou modelos osnet. Carregando...\n",
      "encontrou modelos densenet121. Carregando...\n",
      "\u001b[33mValidating online efficientnet ...\u001b[0m\n",
      "Features extracted in 77.49 seconds\n",
      "Features extracted in 172.26 seconds\n",
      "Computing CMC and mAP ...\n",
      "** Results **\n",
      "mAP: 69.91%\n",
      "CMC curve\n",
      "Rank-1  : 73.59%\n",
      "Rank-5  : 94.54%\n",
      "Rank-10 : 97.70%\n",
      "Rank-20 : 99.20%\n",
      "\u001b[33mValidating momentum efficientnet ...\u001b[0m\n",
      "Features extracted in 69.62 seconds\n",
      "Features extracted in 149.76 seconds\n",
      "Computing CMC and mAP ...\n",
      "** Results **\n",
      "mAP: 70.66%\n",
      "CMC curve\n",
      "Rank-1  : 76.80%\n",
      "Rank-5  : 93.39%\n",
      "Rank-10 : 96.79%\n",
      "Rank-20 : 98.68%\n",
      "\u001b[33mValidating online convnext ...\u001b[0m\n",
      "Features extracted in 64.65 seconds\n",
      "Features extracted in 135.66 seconds\n",
      "Computing CMC and mAP ...\n",
      "** Results **\n",
      "mAP: 70.08%\n",
      "CMC curve\n",
      "Rank-1  : 75.63%\n",
      "Rank-5  : 92.61%\n",
      "Rank-10 : 96.93%\n",
      "Rank-20 : 99.29%\n",
      "\u001b[33mValidating momentum convnext ...\u001b[0m\n",
      "Features extracted in 66.22 seconds\n",
      "Features extracted in 139.78 seconds\n",
      "Computing CMC and mAP ...\n",
      "** Results **\n",
      "mAP: 70.46%\n",
      "CMC curve\n",
      "Rank-1  : 77.49%\n",
      "Rank-5  : 93.71%\n",
      "Rank-10 : 96.84%\n",
      "Rank-20 : 98.71%\n",
      "\u001b[33mValidating online mobilenet ...\u001b[0m\n",
      "Features extracted in 64.25 seconds\n",
      "Features extracted in 147.35 seconds\n",
      "Computing CMC and mAP ...\n",
      "** Results **\n",
      "mAP: 71.39%\n",
      "CMC curve\n",
      "Rank-1  : 81.53%\n",
      "Rank-5  : 95.41%\n",
      "Rank-10 : 98.02%\n",
      "Rank-20 : 99.18%\n",
      "\u001b[33mValidating momentum mobilenet ...\u001b[0m\n",
      "Features extracted in 62.06 seconds\n",
      "Features extracted in 146.22 seconds\n",
      "Computing CMC and mAP ...\n",
      "** Results **\n",
      "mAP: 70.86%\n",
      "CMC curve\n",
      "Rank-1  : 78.95%\n",
      "Rank-5  : 93.89%\n",
      "Rank-10 : 97.47%\n",
      "Rank-20 : 99.27%\n",
      "\u001b[33mValidating online vgg16 ...\u001b[0m\n",
      "Features extracted in 71.04 seconds\n",
      "Features extracted in 146.95 seconds\n",
      "Computing CMC and mAP ...\n",
      "** Results **\n",
      "mAP: 69.67%\n",
      "CMC curve\n",
      "Rank-1  : 74.49%\n",
      "Rank-5  : 92.27%\n",
      "Rank-10 : 96.56%\n",
      "Rank-20 : 99.05%\n",
      "\u001b[33mValidating momentum vgg16 ...\u001b[0m\n",
      "Features extracted in 64.59 seconds\n",
      "Features extracted in 134.18 seconds\n",
      "Computing CMC and mAP ...\n",
      "** Results **\n",
      "mAP: 69.72%\n",
      "CMC curve\n",
      "Rank-1  : 75.80%\n",
      "Rank-5  : 92.91%\n",
      "Rank-10 : 97.25%\n",
      "Rank-20 : 99.09%\n",
      "\u001b[33mValidating online resnet50 ...\u001b[0m\n",
      "Features extracted in 68.27 seconds\n",
      "Features extracted in 142.13 seconds\n",
      "Computing CMC and mAP ...\n",
      "** Results **\n",
      "mAP: 69.64%\n",
      "CMC curve\n",
      "Rank-1  : 70.07%\n",
      "Rank-5  : 91.28%\n",
      "Rank-10 : 96.04%\n",
      "Rank-20 : 98.68%\n",
      "\u001b[33mValidating momentum resnet50 ...\u001b[0m\n",
      "Features extracted in 66.05 seconds\n",
      "Features extracted in 135.92 seconds\n",
      "Computing CMC and mAP ...\n",
      "** Results **\n",
      "mAP: 70.02%\n",
      "CMC curve\n",
      "Rank-1  : 73.39%\n",
      "Rank-5  : 93.49%\n",
      "Rank-10 : 97.50%\n",
      "Rank-20 : 99.37%\n",
      "\u001b[33mValidating online osnet ...\u001b[0m\n",
      "Features extracted in 62.92 seconds\n",
      "Features extracted in 124.21 seconds\n",
      "Computing CMC and mAP ...\n",
      "** Results **\n",
      "mAP: 68.61%\n",
      "CMC curve\n",
      "Rank-1  : 73.02%\n",
      "Rank-5  : 95.04%\n",
      "Rank-10 : 98.36%\n",
      "Rank-20 : 99.48%\n",
      "\u001b[33mValidating momentum osnet ...\u001b[0m\n",
      "Features extracted in 56.94 seconds\n",
      "Features extracted in 111.84 seconds\n",
      "Computing CMC and mAP ...\n",
      "** Results **\n",
      "mAP: 69.41%\n",
      "CMC curve\n",
      "Rank-1  : 73.33%\n",
      "Rank-5  : 93.05%\n",
      "Rank-10 : 97.14%\n",
      "Rank-20 : 99.12%\n",
      "\u001b[33mValidating online densenet121 ...\u001b[0m\n",
      "Features extracted in 52.80 seconds\n",
      "Features extracted in 106.45 seconds\n",
      "Computing CMC and mAP ...\n",
      "** Results **\n",
      "mAP: 70.12%\n",
      "CMC curve\n",
      "Rank-1  : 75.15%\n",
      "Rank-5  : 92.89%\n",
      "Rank-10 : 97.00%\n",
      "Rank-20 : 98.95%\n",
      "\u001b[33mValidating momentum densenet121 ...\u001b[0m\n",
      "Features extracted in 60.62 seconds\n",
      "Features extracted in 115.18 seconds\n",
      "Computing CMC and mAP ...\n",
      "** Results **\n",
      "mAP: 69.53%\n",
      "CMC curve\n",
      "Rank-1  : 75.91%\n",
      "Rank-5  : 93.33%\n",
      "Rank-10 : 97.31%\n",
      "Rank-20 : 99.25%\n",
      "\u001b[33mValidating ensembled with online models ...\u001b[0m\n",
      "Computing CMC and mAP ...\n",
      "** Results **\n",
      "mAP: 71.17%\n",
      "Ranks:\n",
      "Rank-1  : 78.73%\n",
      "Rank-5  : 92.94%\n",
      "Rank-10 : 96.83%\n",
      "\u001b[33mValidating ensembled with momentum models ...\u001b[0m\n",
      "Computing CMC and mAP ...\n",
      "** Results **\n",
      "mAP: 71.11%\n",
      "Ranks:\n",
      "Rank-1  : 79.83%\n",
      "Rank-5  : 92.92%\n",
      "Rank-10 : 96.74%\n",
      "###============ Iteration number 46/90 ============###\n",
      "Extracting Online Features for efficientnet ...\n",
      "Features extracted in 297.08 seconds\n",
      "Computing jaccard distance...\n"
     ]
    },
    {
     "name": "stderr",
     "output_type": "stream",
     "text": [
      "bruteForceKnn is deprecated; call bfKnn instead\n"
     ]
    },
    {
     "name": "stdout",
     "output_type": "stream",
     "text": [
      "Jaccard distance computing time cost: 660.0949065685272\n",
      "Extracting Online Features for convnext ...\n",
      "Features extracted in 309.96 seconds\n",
      "Computing jaccard distance...\n"
     ]
    },
    {
     "name": "stderr",
     "output_type": "stream",
     "text": [
      "bruteForceKnn is deprecated; call bfKnn instead\n"
     ]
    },
    {
     "name": "stdout",
     "output_type": "stream",
     "text": [
      "Jaccard distance computing time cost: 622.7583422660828\n",
      "Extracting Online Features for mobilenet ...\n",
      "Features extracted in 305.32 seconds\n",
      "Computing jaccard distance...\n"
     ]
    },
    {
     "name": "stderr",
     "output_type": "stream",
     "text": [
      "bruteForceKnn is deprecated; call bfKnn instead\n"
     ]
    },
    {
     "name": "stdout",
     "output_type": "stream",
     "text": [
      "Jaccard distance computing time cost: 351.1310269832611\n",
      "Extracting Online Features for vgg16 ...\n",
      "Features extracted in 235.08 seconds\n",
      "Computing jaccard distance...\n"
     ]
    },
    {
     "name": "stderr",
     "output_type": "stream",
     "text": [
      "bruteForceKnn is deprecated; call bfKnn instead\n"
     ]
    },
    {
     "name": "stdout",
     "output_type": "stream",
     "text": [
      "Jaccard distance computing time cost: 90.84210562705994\n",
      "Extracting Online Features for resnet50 ...\n",
      "Features extracted in 174.43 seconds\n",
      "Computing jaccard distance...\n"
     ]
    },
    {
     "name": "stderr",
     "output_type": "stream",
     "text": [
      "bruteForceKnn is deprecated; call bfKnn instead\n"
     ]
    },
    {
     "name": "stdout",
     "output_type": "stream",
     "text": [
      "Jaccard distance computing time cost: 75.46142888069153\n",
      "Extracting Online Features for osnet ...\n",
      "Features extracted in 225.44 seconds\n",
      "Computing jaccard distance...\n"
     ]
    },
    {
     "name": "stderr",
     "output_type": "stream",
     "text": [
      "bruteForceKnn is deprecated; call bfKnn instead\n"
     ]
    },
    {
     "name": "stdout",
     "output_type": "stream",
     "text": [
      "Jaccard distance computing time cost: 234.66174912452698\n",
      "Extracting Online Features for densenet121 ...\n",
      "Features extracted in 201.33 seconds\n",
      "Computing jaccard distance...\n"
     ]
    },
    {
     "name": "stderr",
     "output_type": "stream",
     "text": [
      "bruteForceKnn is deprecated; call bfKnn instead\n"
     ]
    },
    {
     "name": "stdout",
     "output_type": "stream",
     "text": [
      "Jaccard distance computing time cost: 83.72950673103333\n",
      "Reliability: 0.994\n",
      "\u001b[32mMean Purity: 0.01644\u001b[0m\n",
      "\u001b[34mThere are 2 clusters with 4 cameras\u001b[0m\n",
      "\u001b[34mThere are 3 clusters with 5 cameras\u001b[0m\n",
      "\u001b[34mThere are 2 clusters with 6 cameras\u001b[0m\n",
      "\u001b[34mThere are 2 clusters with 7 cameras\u001b[0m\n",
      "\u001b[34mThere are 2 clusters with 9 cameras\u001b[0m\n",
      "\u001b[34mThere are 1 clusters with 11 cameras\u001b[0m\n",
      "\u001b[34mThere are 1 clusters with 12 cameras\u001b[0m\n",
      "\u001b[34mThere are 1 clusters with 16 cameras\u001b[0m\n",
      "\u001b[34mThere are 1 clusters with 17 cameras\u001b[0m\n",
      "\u001b[34mThere are 1 clusters with 19 cameras\u001b[0m\n",
      "\u001b[34mThere are 1 clusters with 27 cameras\u001b[0m\n",
      "\u001b[34mThere are 1 clusters with 31 cameras\u001b[0m\n",
      "\u001b[34mThere are 1 clusters with 32 cameras\u001b[0m\n",
      "\u001b[34mThere are 1 clusters with 41 cameras\u001b[0m\n",
      "\u001b[34mThere are 1 clusters with 45 cameras\u001b[0m\n",
      "\u001b[34mThere are 1 clusters with 47 cameras\u001b[0m\n",
      "\u001b[34mThere are 1 clusters with 52 cameras\u001b[0m\n",
      "\u001b[34mThere are 1 clusters with 53 cameras\u001b[0m\n",
      "\u001b[34mThere are 2 clusters with 54 cameras\u001b[0m\n",
      "\u001b[34mThere are 1 clusters with 56 cameras\u001b[0m\n",
      "\u001b[34mThere are 3 clusters with 57 cameras\u001b[0m\n",
      "\u001b[34mThere are 1 clusters with 58 cameras\u001b[0m\n",
      "\u001b[34mThere are 6 clusters with 59 cameras\u001b[0m\n",
      "\u001b[34mThere are 9 clusters with 60 cameras\u001b[0m\n",
      "\u001b[34mThere are 13 clusters with 61 cameras\u001b[0m\n",
      "\u001b[34mThere are 26 clusters with 62 cameras\u001b[0m\n",
      "\u001b[34mThere are 36 clusters with 63 cameras\u001b[0m\n",
      "\u001b[34mThere are 461 clusters with 64 cameras\u001b[0m\n",
      "\u001b[34mThere are 1 clusters with 90 cameras\u001b[0m\n",
      "\u001b[34mThere are 1 clusters with 119 cameras\u001b[0m\n",
      "\u001b[34mThere are 1 clusters with 120 cameras\u001b[0m\n",
      "\u001b[34mThere are 1 clusters with 122 cameras\u001b[0m\n",
      "\u001b[34mThere are 1 clusters with 123 cameras\u001b[0m\n",
      "\u001b[34mThere are 2 clusters with 125 cameras\u001b[0m\n",
      "\u001b[34mThere are 2 clusters with 126 cameras\u001b[0m\n",
      "\u001b[34mThere are 1 clusters with 127 cameras\u001b[0m\n",
      "\u001b[34mThere are 8 clusters with 128 cameras\u001b[0m\n",
      "Number of classes: 600\n",
      "\u001b[36mLearning Rate: 0.000350\u001b[0m\n",
      "encontrou modelos efficientnet. Carregando...\n",
      "encontrou modelos convnext. Carregando...\n",
      "encontrou modelos mobilenet. Carregando...\n",
      "encontrou modelos vgg16. Carregando...\n",
      "encontrou modelos resnet50. Carregando...\n",
      "encontrou modelos osnet. Carregando...\n",
      "encontrou modelos densenet121. Carregando...\n",
      "###============ Iteration number 47/90 ============###\n",
      "Extracting Online Features for efficientnet ...\n",
      "Features extracted in 172.40 seconds\n",
      "Computing jaccard distance...\n"
     ]
    },
    {
     "name": "stderr",
     "output_type": "stream",
     "text": [
      "bruteForceKnn is deprecated; call bfKnn instead\n"
     ]
    },
    {
     "name": "stdout",
     "output_type": "stream",
     "text": [
      "Jaccard distance computing time cost: 177.5424928665161\n",
      "Extracting Online Features for convnext ...\n",
      "Features extracted in 161.95 seconds\n",
      "Computing jaccard distance...\n"
     ]
    },
    {
     "name": "stderr",
     "output_type": "stream",
     "text": [
      "bruteForceKnn is deprecated; call bfKnn instead\n"
     ]
    },
    {
     "name": "stdout",
     "output_type": "stream",
     "text": [
      "Jaccard distance computing time cost: 69.29541230201721\n",
      "Extracting Online Features for mobilenet ...\n",
      "Features extracted in 154.24 seconds\n",
      "Computing jaccard distance...\n"
     ]
    },
    {
     "name": "stderr",
     "output_type": "stream",
     "text": [
      "bruteForceKnn is deprecated; call bfKnn instead\n"
     ]
    },
    {
     "name": "stdout",
     "output_type": "stream",
     "text": [
      "Jaccard distance computing time cost: 71.55938863754272\n",
      "Extracting Online Features for vgg16 ...\n",
      "Features extracted in 244.40 seconds\n",
      "Computing jaccard distance...\n"
     ]
    },
    {
     "name": "stderr",
     "output_type": "stream",
     "text": [
      "bruteForceKnn is deprecated; call bfKnn instead\n"
     ]
    },
    {
     "name": "stdout",
     "output_type": "stream",
     "text": [
      "Jaccard distance computing time cost: 541.0256185531616\n",
      "Extracting Online Features for resnet50 ...\n",
      "Features extracted in 303.18 seconds\n",
      "Computing jaccard distance...\n"
     ]
    },
    {
     "name": "stderr",
     "output_type": "stream",
     "text": [
      "bruteForceKnn is deprecated; call bfKnn instead\n"
     ]
    },
    {
     "name": "stdout",
     "output_type": "stream",
     "text": [
      "Jaccard distance computing time cost: 617.9650499820709\n",
      "Extracting Online Features for osnet ...\n",
      "Features extracted in 296.63 seconds\n",
      "Computing jaccard distance...\n"
     ]
    },
    {
     "name": "stderr",
     "output_type": "stream",
     "text": [
      "bruteForceKnn is deprecated; call bfKnn instead\n"
     ]
    },
    {
     "name": "stdout",
     "output_type": "stream",
     "text": [
      "Jaccard distance computing time cost: 590.1887362003326\n",
      "Extracting Online Features for densenet121 ...\n",
      "Features extracted in 289.45 seconds\n",
      "Computing jaccard distance...\n"
     ]
    },
    {
     "name": "stderr",
     "output_type": "stream",
     "text": [
      "bruteForceKnn is deprecated; call bfKnn instead\n"
     ]
    },
    {
     "name": "stdout",
     "output_type": "stream",
     "text": [
      "Jaccard distance computing time cost: 609.1715087890625\n",
      "Reliability: 0.994\n",
      "\u001b[32mMean Purity: 0.01644\u001b[0m\n",
      "\u001b[34mThere are 2 clusters with 4 cameras\u001b[0m\n",
      "\u001b[34mThere are 3 clusters with 5 cameras\u001b[0m\n",
      "\u001b[34mThere are 2 clusters with 6 cameras\u001b[0m\n",
      "\u001b[34mThere are 2 clusters with 7 cameras\u001b[0m\n",
      "\u001b[34mThere are 2 clusters with 9 cameras\u001b[0m\n",
      "\u001b[34mThere are 1 clusters with 11 cameras\u001b[0m\n",
      "\u001b[34mThere are 1 clusters with 12 cameras\u001b[0m\n",
      "\u001b[34mThere are 1 clusters with 16 cameras\u001b[0m\n",
      "\u001b[34mThere are 1 clusters with 17 cameras\u001b[0m\n",
      "\u001b[34mThere are 1 clusters with 19 cameras\u001b[0m\n",
      "\u001b[34mThere are 1 clusters with 27 cameras\u001b[0m\n",
      "\u001b[34mThere are 1 clusters with 31 cameras\u001b[0m\n",
      "\u001b[34mThere are 1 clusters with 32 cameras\u001b[0m\n",
      "\u001b[34mThere are 1 clusters with 41 cameras\u001b[0m\n",
      "\u001b[34mThere are 1 clusters with 45 cameras\u001b[0m\n",
      "\u001b[34mThere are 1 clusters with 47 cameras\u001b[0m\n",
      "\u001b[34mThere are 1 clusters with 52 cameras\u001b[0m\n",
      "\u001b[34mThere are 1 clusters with 53 cameras\u001b[0m\n",
      "\u001b[34mThere are 2 clusters with 54 cameras\u001b[0m\n",
      "\u001b[34mThere are 1 clusters with 56 cameras\u001b[0m\n",
      "\u001b[34mThere are 3 clusters with 57 cameras\u001b[0m\n",
      "\u001b[34mThere are 1 clusters with 58 cameras\u001b[0m\n",
      "\u001b[34mThere are 6 clusters with 59 cameras\u001b[0m\n",
      "\u001b[34mThere are 9 clusters with 60 cameras\u001b[0m\n",
      "\u001b[34mThere are 13 clusters with 61 cameras\u001b[0m\n",
      "\u001b[34mThere are 26 clusters with 62 cameras\u001b[0m\n",
      "\u001b[34mThere are 36 clusters with 63 cameras\u001b[0m\n",
      "\u001b[34mThere are 461 clusters with 64 cameras\u001b[0m\n",
      "\u001b[34mThere are 1 clusters with 90 cameras\u001b[0m\n",
      "\u001b[34mThere are 1 clusters with 119 cameras\u001b[0m\n",
      "\u001b[34mThere are 1 clusters with 120 cameras\u001b[0m\n",
      "\u001b[34mThere are 1 clusters with 122 cameras\u001b[0m\n",
      "\u001b[34mThere are 1 clusters with 123 cameras\u001b[0m\n",
      "\u001b[34mThere are 2 clusters with 125 cameras\u001b[0m\n",
      "\u001b[34mThere are 2 clusters with 126 cameras\u001b[0m\n",
      "\u001b[34mThere are 1 clusters with 127 cameras\u001b[0m\n",
      "\u001b[34mThere are 8 clusters with 128 cameras\u001b[0m\n",
      "Number of classes: 600\n",
      "\u001b[36mLearning Rate: 0.000350\u001b[0m\n",
      "encontrou modelos efficientnet. Carregando...\n",
      "encontrou modelos convnext. Carregando...\n",
      "encontrou modelos mobilenet. Carregando...\n",
      "encontrou modelos vgg16. Carregando...\n",
      "encontrou modelos resnet50. Carregando...\n",
      "encontrou modelos osnet. Carregando...\n",
      "encontrou modelos densenet121. Carregando...\n",
      "###============ Iteration number 48/90 ============###\n",
      "Extracting Online Features for efficientnet ...\n",
      "Features extracted in 302.03 seconds\n",
      "Computing jaccard distance...\n"
     ]
    },
    {
     "name": "stderr",
     "output_type": "stream",
     "text": [
      "bruteForceKnn is deprecated; call bfKnn instead\n"
     ]
    },
    {
     "name": "stdout",
     "output_type": "stream",
     "text": [
      "Jaccard distance computing time cost: 616.8217713832855\n",
      "Extracting Online Features for convnext ...\n",
      "Features extracted in 297.01 seconds\n",
      "Computing jaccard distance...\n"
     ]
    },
    {
     "name": "stderr",
     "output_type": "stream",
     "text": [
      "bruteForceKnn is deprecated; call bfKnn instead\n"
     ]
    },
    {
     "name": "stdout",
     "output_type": "stream",
     "text": [
      "Jaccard distance computing time cost: 628.8766360282898\n",
      "Extracting Online Features for mobilenet ...\n",
      "Features extracted in 289.03 seconds\n",
      "Computing jaccard distance...\n"
     ]
    },
    {
     "name": "stderr",
     "output_type": "stream",
     "text": [
      "bruteForceKnn is deprecated; call bfKnn instead\n"
     ]
    },
    {
     "name": "stdout",
     "output_type": "stream",
     "text": [
      "Jaccard distance computing time cost: 137.80440211296082\n",
      "Extracting Online Features for vgg16 ...\n",
      "Features extracted in 214.70 seconds\n",
      "Computing jaccard distance...\n"
     ]
    },
    {
     "name": "stderr",
     "output_type": "stream",
     "text": [
      "bruteForceKnn is deprecated; call bfKnn instead\n"
     ]
    },
    {
     "name": "stdout",
     "output_type": "stream",
     "text": [
      "Jaccard distance computing time cost: 98.78038048744202\n",
      "Extracting Online Features for resnet50 ...\n",
      "Features extracted in 224.97 seconds\n",
      "Computing jaccard distance...\n"
     ]
    },
    {
     "name": "stderr",
     "output_type": "stream",
     "text": [
      "bruteForceKnn is deprecated; call bfKnn instead\n"
     ]
    },
    {
     "name": "stdout",
     "output_type": "stream",
     "text": [
      "Jaccard distance computing time cost: 77.87467503547668\n",
      "Extracting Online Features for osnet ...\n",
      "Features extracted in 161.42 seconds\n",
      "Computing jaccard distance...\n"
     ]
    },
    {
     "name": "stderr",
     "output_type": "stream",
     "text": [
      "bruteForceKnn is deprecated; call bfKnn instead\n"
     ]
    },
    {
     "name": "stdout",
     "output_type": "stream",
     "text": [
      "Jaccard distance computing time cost: 70.4129650592804\n",
      "Extracting Online Features for densenet121 ...\n",
      "Features extracted in 175.97 seconds\n",
      "Computing jaccard distance...\n"
     ]
    },
    {
     "name": "stderr",
     "output_type": "stream",
     "text": [
      "bruteForceKnn is deprecated; call bfKnn instead\n"
     ]
    },
    {
     "name": "stdout",
     "output_type": "stream",
     "text": [
      "Jaccard distance computing time cost: 432.1185541152954\n",
      "Reliability: 0.994\n",
      "\u001b[32mMean Purity: 0.01644\u001b[0m\n",
      "\u001b[34mThere are 2 clusters with 4 cameras\u001b[0m\n",
      "\u001b[34mThere are 3 clusters with 5 cameras\u001b[0m\n",
      "\u001b[34mThere are 2 clusters with 6 cameras\u001b[0m\n",
      "\u001b[34mThere are 2 clusters with 7 cameras\u001b[0m\n",
      "\u001b[34mThere are 2 clusters with 9 cameras\u001b[0m\n",
      "\u001b[34mThere are 1 clusters with 11 cameras\u001b[0m\n",
      "\u001b[34mThere are 1 clusters with 12 cameras\u001b[0m\n",
      "\u001b[34mThere are 1 clusters with 16 cameras\u001b[0m\n",
      "\u001b[34mThere are 1 clusters with 17 cameras\u001b[0m\n",
      "\u001b[34mThere are 1 clusters with 19 cameras\u001b[0m\n",
      "\u001b[34mThere are 1 clusters with 27 cameras\u001b[0m\n",
      "\u001b[34mThere are 1 clusters with 31 cameras\u001b[0m\n",
      "\u001b[34mThere are 1 clusters with 32 cameras\u001b[0m\n",
      "\u001b[34mThere are 1 clusters with 41 cameras\u001b[0m\n",
      "\u001b[34mThere are 1 clusters with 45 cameras\u001b[0m\n",
      "\u001b[34mThere are 1 clusters with 47 cameras\u001b[0m\n",
      "\u001b[34mThere are 1 clusters with 52 cameras\u001b[0m\n",
      "\u001b[34mThere are 1 clusters with 53 cameras\u001b[0m\n",
      "\u001b[34mThere are 2 clusters with 54 cameras\u001b[0m\n",
      "\u001b[34mThere are 1 clusters with 56 cameras\u001b[0m\n",
      "\u001b[34mThere are 3 clusters with 57 cameras\u001b[0m\n",
      "\u001b[34mThere are 1 clusters with 58 cameras\u001b[0m\n",
      "\u001b[34mThere are 6 clusters with 59 cameras\u001b[0m\n",
      "\u001b[34mThere are 9 clusters with 60 cameras\u001b[0m\n",
      "\u001b[34mThere are 13 clusters with 61 cameras\u001b[0m\n",
      "\u001b[34mThere are 26 clusters with 62 cameras\u001b[0m\n",
      "\u001b[34mThere are 36 clusters with 63 cameras\u001b[0m\n",
      "\u001b[34mThere are 461 clusters with 64 cameras\u001b[0m\n",
      "\u001b[34mThere are 1 clusters with 90 cameras\u001b[0m\n",
      "\u001b[34mThere are 1 clusters with 119 cameras\u001b[0m\n",
      "\u001b[34mThere are 1 clusters with 120 cameras\u001b[0m\n",
      "\u001b[34mThere are 1 clusters with 122 cameras\u001b[0m\n",
      "\u001b[34mThere are 1 clusters with 123 cameras\u001b[0m\n",
      "\u001b[34mThere are 2 clusters with 125 cameras\u001b[0m\n",
      "\u001b[34mThere are 2 clusters with 126 cameras\u001b[0m\n",
      "\u001b[34mThere are 1 clusters with 127 cameras\u001b[0m\n",
      "\u001b[34mThere are 8 clusters with 128 cameras\u001b[0m\n",
      "Number of classes: 600\n",
      "\u001b[36mLearning Rate: 0.000350\u001b[0m\n",
      "encontrou modelos efficientnet. Carregando...\n",
      "encontrou modelos convnext. Carregando...\n",
      "encontrou modelos mobilenet. Carregando...\n",
      "encontrou modelos vgg16. Carregando...\n",
      "encontrou modelos resnet50. Carregando...\n",
      "encontrou modelos osnet. Carregando...\n",
      "encontrou modelos densenet121. Carregando...\n",
      "###============ Iteration number 49/90 ============###\n",
      "Extracting Online Features for efficientnet ...\n",
      "Features extracted in 171.21 seconds\n",
      "Computing jaccard distance...\n"
     ]
    },
    {
     "name": "stderr",
     "output_type": "stream",
     "text": [
      "bruteForceKnn is deprecated; call bfKnn instead\n"
     ]
    },
    {
     "name": "stdout",
     "output_type": "stream",
     "text": [
      "Jaccard distance computing time cost: 112.12199878692627\n",
      "Extracting Online Features for convnext ...\n",
      "Features extracted in 161.09 seconds\n",
      "Computing jaccard distance...\n"
     ]
    },
    {
     "name": "stderr",
     "output_type": "stream",
     "text": [
      "bruteForceKnn is deprecated; call bfKnn instead\n"
     ]
    },
    {
     "name": "stdout",
     "output_type": "stream",
     "text": [
      "Jaccard distance computing time cost: 109.3311653137207\n",
      "Extracting Online Features for mobilenet ...\n",
      "Features extracted in 166.40 seconds\n",
      "Computing jaccard distance...\n"
     ]
    },
    {
     "name": "stderr",
     "output_type": "stream",
     "text": [
      "bruteForceKnn is deprecated; call bfKnn instead\n"
     ]
    },
    {
     "name": "stdout",
     "output_type": "stream",
     "text": [
      "Jaccard distance computing time cost: 75.29248309135437\n",
      "Extracting Online Features for vgg16 ...\n",
      "Features extracted in 169.82 seconds\n",
      "Computing jaccard distance...\n"
     ]
    },
    {
     "name": "stderr",
     "output_type": "stream",
     "text": [
      "bruteForceKnn is deprecated; call bfKnn instead\n"
     ]
    },
    {
     "name": "stdout",
     "output_type": "stream",
     "text": [
      "Jaccard distance computing time cost: 80.74490022659302\n",
      "Extracting Online Features for resnet50 ...\n",
      "Features extracted in 169.04 seconds\n",
      "Computing jaccard distance...\n"
     ]
    },
    {
     "name": "stderr",
     "output_type": "stream",
     "text": [
      "bruteForceKnn is deprecated; call bfKnn instead\n"
     ]
    },
    {
     "name": "stdout",
     "output_type": "stream",
     "text": [
      "Jaccard distance computing time cost: 72.98031806945801\n",
      "Extracting Online Features for osnet ...\n",
      "Features extracted in 157.45 seconds\n",
      "Computing jaccard distance...\n"
     ]
    },
    {
     "name": "stderr",
     "output_type": "stream",
     "text": [
      "bruteForceKnn is deprecated; call bfKnn instead\n"
     ]
    },
    {
     "name": "stdout",
     "output_type": "stream",
     "text": [
      "Jaccard distance computing time cost: 101.85105800628662\n",
      "Extracting Online Features for densenet121 ...\n",
      "Features extracted in 296.55 seconds\n",
      "Computing jaccard distance...\n"
     ]
    },
    {
     "name": "stderr",
     "output_type": "stream",
     "text": [
      "bruteForceKnn is deprecated; call bfKnn instead\n"
     ]
    },
    {
     "name": "stdout",
     "output_type": "stream",
     "text": [
      "Jaccard distance computing time cost: 576.5241076946259\n",
      "Reliability: 0.994\n",
      "\u001b[32mMean Purity: 0.01644\u001b[0m\n",
      "\u001b[34mThere are 2 clusters with 4 cameras\u001b[0m\n",
      "\u001b[34mThere are 3 clusters with 5 cameras\u001b[0m\n",
      "\u001b[34mThere are 2 clusters with 6 cameras\u001b[0m\n",
      "\u001b[34mThere are 2 clusters with 7 cameras\u001b[0m\n",
      "\u001b[34mThere are 2 clusters with 9 cameras\u001b[0m\n",
      "\u001b[34mThere are 1 clusters with 11 cameras\u001b[0m\n",
      "\u001b[34mThere are 1 clusters with 12 cameras\u001b[0m\n",
      "\u001b[34mThere are 1 clusters with 16 cameras\u001b[0m\n",
      "\u001b[34mThere are 1 clusters with 17 cameras\u001b[0m\n",
      "\u001b[34mThere are 1 clusters with 19 cameras\u001b[0m\n",
      "\u001b[34mThere are 1 clusters with 27 cameras\u001b[0m\n",
      "\u001b[34mThere are 1 clusters with 31 cameras\u001b[0m\n",
      "\u001b[34mThere are 1 clusters with 32 cameras\u001b[0m\n",
      "\u001b[34mThere are 1 clusters with 41 cameras\u001b[0m\n",
      "\u001b[34mThere are 1 clusters with 45 cameras\u001b[0m\n",
      "\u001b[34mThere are 1 clusters with 47 cameras\u001b[0m\n",
      "\u001b[34mThere are 1 clusters with 52 cameras\u001b[0m\n",
      "\u001b[34mThere are 1 clusters with 53 cameras\u001b[0m\n",
      "\u001b[34mThere are 2 clusters with 54 cameras\u001b[0m\n",
      "\u001b[34mThere are 1 clusters with 56 cameras\u001b[0m\n",
      "\u001b[34mThere are 3 clusters with 57 cameras\u001b[0m\n",
      "\u001b[34mThere are 1 clusters with 58 cameras\u001b[0m\n",
      "\u001b[34mThere are 6 clusters with 59 cameras\u001b[0m\n",
      "\u001b[34mThere are 9 clusters with 60 cameras\u001b[0m\n",
      "\u001b[34mThere are 13 clusters with 61 cameras\u001b[0m\n",
      "\u001b[34mThere are 26 clusters with 62 cameras\u001b[0m\n",
      "\u001b[34mThere are 36 clusters with 63 cameras\u001b[0m\n",
      "\u001b[34mThere are 461 clusters with 64 cameras\u001b[0m\n",
      "\u001b[34mThere are 1 clusters with 90 cameras\u001b[0m\n",
      "\u001b[34mThere are 1 clusters with 119 cameras\u001b[0m\n",
      "\u001b[34mThere are 1 clusters with 120 cameras\u001b[0m\n",
      "\u001b[34mThere are 1 clusters with 122 cameras\u001b[0m\n",
      "\u001b[34mThere are 1 clusters with 123 cameras\u001b[0m\n",
      "\u001b[34mThere are 2 clusters with 125 cameras\u001b[0m\n",
      "\u001b[34mThere are 2 clusters with 126 cameras\u001b[0m\n",
      "\u001b[34mThere are 1 clusters with 127 cameras\u001b[0m\n",
      "\u001b[34mThere are 8 clusters with 128 cameras\u001b[0m\n",
      "Number of classes: 600\n",
      "\u001b[36mLearning Rate: 0.000350\u001b[0m\n",
      "encontrou modelos efficientnet. Carregando...\n",
      "encontrou modelos convnext. Carregando...\n",
      "encontrou modelos mobilenet. Carregando...\n",
      "encontrou modelos vgg16. Carregando...\n",
      "encontrou modelos resnet50. Carregando...\n",
      "encontrou modelos osnet. Carregando...\n",
      "encontrou modelos densenet121. Carregando...\n",
      "###============ Iteration number 50/90 ============###\n",
      "Extracting Online Features for efficientnet ...\n",
      "Features extracted in 311.01 seconds\n",
      "Computing jaccard distance...\n"
     ]
    },
    {
     "name": "stderr",
     "output_type": "stream",
     "text": [
      "bruteForceKnn is deprecated; call bfKnn instead\n"
     ]
    },
    {
     "name": "stdout",
     "output_type": "stream",
     "text": [
      "Jaccard distance computing time cost: 598.8717477321625\n",
      "Extracting Online Features for convnext ...\n",
      "Features extracted in 261.67 seconds\n",
      "Computing jaccard distance...\n"
     ]
    },
    {
     "name": "stderr",
     "output_type": "stream",
     "text": [
      "bruteForceKnn is deprecated; call bfKnn instead\n"
     ]
    },
    {
     "name": "stdout",
     "output_type": "stream",
     "text": [
      "Jaccard distance computing time cost: 605.3612785339355\n",
      "Extracting Online Features for mobilenet ...\n",
      "Features extracted in 258.11 seconds\n",
      "Computing jaccard distance...\n"
     ]
    },
    {
     "name": "stderr",
     "output_type": "stream",
     "text": [
      "bruteForceKnn is deprecated; call bfKnn instead\n"
     ]
    },
    {
     "name": "stdout",
     "output_type": "stream",
     "text": [
      "Jaccard distance computing time cost: 643.0682010650635\n",
      "Extracting Online Features for vgg16 ...\n",
      "Features extracted in 245.70 seconds\n",
      "Computing jaccard distance...\n"
     ]
    },
    {
     "name": "stderr",
     "output_type": "stream",
     "text": [
      "bruteForceKnn is deprecated; call bfKnn instead\n"
     ]
    },
    {
     "name": "stdout",
     "output_type": "stream",
     "text": [
      "Jaccard distance computing time cost: 625.6702518463135\n",
      "Extracting Online Features for resnet50 ...\n",
      "Features extracted in 192.11 seconds\n",
      "Computing jaccard distance...\n"
     ]
    },
    {
     "name": "stderr",
     "output_type": "stream",
     "text": [
      "bruteForceKnn is deprecated; call bfKnn instead\n"
     ]
    },
    {
     "name": "stdout",
     "output_type": "stream",
     "text": [
      "Jaccard distance computing time cost: 176.14665007591248\n",
      "Extracting Online Features for osnet ...\n",
      "Features extracted in 163.02 seconds\n",
      "Computing jaccard distance...\n"
     ]
    },
    {
     "name": "stderr",
     "output_type": "stream",
     "text": [
      "bruteForceKnn is deprecated; call bfKnn instead\n"
     ]
    },
    {
     "name": "stdout",
     "output_type": "stream",
     "text": [
      "Jaccard distance computing time cost: 67.43449187278748\n",
      "Extracting Online Features for densenet121 ...\n",
      "Features extracted in 189.38 seconds\n",
      "Computing jaccard distance...\n"
     ]
    },
    {
     "name": "stderr",
     "output_type": "stream",
     "text": [
      "bruteForceKnn is deprecated; call bfKnn instead\n"
     ]
    },
    {
     "name": "stdout",
     "output_type": "stream",
     "text": [
      "Jaccard distance computing time cost: 346.9846773147583\n",
      "Reliability: 0.994\n",
      "\u001b[32mMean Purity: 0.01644\u001b[0m\n",
      "\u001b[34mThere are 2 clusters with 4 cameras\u001b[0m\n",
      "\u001b[34mThere are 3 clusters with 5 cameras\u001b[0m\n",
      "\u001b[34mThere are 2 clusters with 6 cameras\u001b[0m\n",
      "\u001b[34mThere are 2 clusters with 7 cameras\u001b[0m\n",
      "\u001b[34mThere are 2 clusters with 9 cameras\u001b[0m\n",
      "\u001b[34mThere are 1 clusters with 11 cameras\u001b[0m\n",
      "\u001b[34mThere are 1 clusters with 12 cameras\u001b[0m\n",
      "\u001b[34mThere are 1 clusters with 16 cameras\u001b[0m\n",
      "\u001b[34mThere are 1 clusters with 17 cameras\u001b[0m\n",
      "\u001b[34mThere are 1 clusters with 19 cameras\u001b[0m\n",
      "\u001b[34mThere are 1 clusters with 27 cameras\u001b[0m\n",
      "\u001b[34mThere are 1 clusters with 31 cameras\u001b[0m\n",
      "\u001b[34mThere are 1 clusters with 32 cameras\u001b[0m\n",
      "\u001b[34mThere are 1 clusters with 41 cameras\u001b[0m\n",
      "\u001b[34mThere are 1 clusters with 45 cameras\u001b[0m\n",
      "\u001b[34mThere are 1 clusters with 47 cameras\u001b[0m\n",
      "\u001b[34mThere are 1 clusters with 52 cameras\u001b[0m\n",
      "\u001b[34mThere are 1 clusters with 53 cameras\u001b[0m\n",
      "\u001b[34mThere are 2 clusters with 54 cameras\u001b[0m\n",
      "\u001b[34mThere are 1 clusters with 56 cameras\u001b[0m\n",
      "\u001b[34mThere are 3 clusters with 57 cameras\u001b[0m\n",
      "\u001b[34mThere are 1 clusters with 58 cameras\u001b[0m\n",
      "\u001b[34mThere are 6 clusters with 59 cameras\u001b[0m\n",
      "\u001b[34mThere are 9 clusters with 60 cameras\u001b[0m\n",
      "\u001b[34mThere are 13 clusters with 61 cameras\u001b[0m\n",
      "\u001b[34mThere are 26 clusters with 62 cameras\u001b[0m\n",
      "\u001b[34mThere are 36 clusters with 63 cameras\u001b[0m\n",
      "\u001b[34mThere are 461 clusters with 64 cameras\u001b[0m\n",
      "\u001b[34mThere are 1 clusters with 90 cameras\u001b[0m\n",
      "\u001b[34mThere are 1 clusters with 119 cameras\u001b[0m\n",
      "\u001b[34mThere are 1 clusters with 120 cameras\u001b[0m\n",
      "\u001b[34mThere are 1 clusters with 122 cameras\u001b[0m\n",
      "\u001b[34mThere are 1 clusters with 123 cameras\u001b[0m\n",
      "\u001b[34mThere are 2 clusters with 125 cameras\u001b[0m\n",
      "\u001b[34mThere are 2 clusters with 126 cameras\u001b[0m\n",
      "\u001b[34mThere are 1 clusters with 127 cameras\u001b[0m\n",
      "\u001b[34mThere are 8 clusters with 128 cameras\u001b[0m\n",
      "Number of classes: 600\n",
      "\u001b[36mLearning Rate: 0.000350\u001b[0m\n",
      "encontrou modelos efficientnet. Carregando...\n",
      "encontrou modelos convnext. Carregando...\n",
      "encontrou modelos mobilenet. Carregando...\n",
      "encontrou modelos vgg16. Carregando...\n",
      "encontrou modelos resnet50. Carregando...\n",
      "encontrou modelos osnet. Carregando...\n",
      "encontrou modelos densenet121. Carregando...\n",
      "\u001b[33mValidating online efficientnet ...\u001b[0m\n",
      "Features extracted in 55.42 seconds\n",
      "Features extracted in 101.96 seconds\n",
      "Computing CMC and mAP ...\n",
      "** Results **\n",
      "mAP: 69.91%\n",
      "CMC curve\n",
      "Rank-1  : 73.59%\n",
      "Rank-5  : 94.54%\n",
      "Rank-10 : 97.70%\n",
      "Rank-20 : 99.20%\n",
      "\u001b[33mValidating momentum efficientnet ...\u001b[0m\n",
      "Features extracted in 47.34 seconds\n",
      "Features extracted in 104.85 seconds\n",
      "Computing CMC and mAP ...\n",
      "** Results **\n",
      "mAP: 70.66%\n",
      "CMC curve\n",
      "Rank-1  : 76.80%\n",
      "Rank-5  : 93.39%\n",
      "Rank-10 : 96.79%\n",
      "Rank-20 : 98.68%\n",
      "\u001b[33mValidating online convnext ...\u001b[0m\n",
      "Features extracted in 83.28 seconds\n",
      "Features extracted in 186.98 seconds\n",
      "Computing CMC and mAP ...\n",
      "** Results **\n",
      "mAP: 70.08%\n",
      "CMC curve\n",
      "Rank-1  : 75.63%\n",
      "Rank-5  : 92.61%\n",
      "Rank-10 : 96.93%\n",
      "Rank-20 : 99.29%\n",
      "\u001b[33mValidating momentum convnext ...\u001b[0m\n",
      "Features extracted in 81.74 seconds\n",
      "Features extracted in 188.86 seconds\n",
      "Computing CMC and mAP ...\n",
      "** Results **\n",
      "mAP: 70.46%\n",
      "CMC curve\n",
      "Rank-1  : 77.49%\n",
      "Rank-5  : 93.71%\n",
      "Rank-10 : 96.84%\n",
      "Rank-20 : 98.71%\n",
      "\u001b[33mValidating online mobilenet ...\u001b[0m\n",
      "Features extracted in 86.05 seconds\n",
      "Features extracted in 188.26 seconds\n",
      "Computing CMC and mAP ...\n",
      "** Results **\n",
      "mAP: 71.39%\n",
      "CMC curve\n",
      "Rank-1  : 81.53%\n",
      "Rank-5  : 95.41%\n",
      "Rank-10 : 98.02%\n",
      "Rank-20 : 99.18%\n",
      "\u001b[33mValidating momentum mobilenet ...\u001b[0m\n",
      "Features extracted in 81.66 seconds\n",
      "Features extracted in 192.06 seconds\n",
      "Computing CMC and mAP ...\n",
      "** Results **\n",
      "mAP: 70.86%\n",
      "CMC curve\n",
      "Rank-1  : 78.95%\n",
      "Rank-5  : 93.89%\n",
      "Rank-10 : 97.47%\n",
      "Rank-20 : 99.27%\n",
      "\u001b[33mValidating online vgg16 ...\u001b[0m\n",
      "Features extracted in 75.32 seconds\n",
      "Features extracted in 189.44 seconds\n",
      "Computing CMC and mAP ...\n",
      "** Results **\n",
      "mAP: 69.67%\n",
      "CMC curve\n",
      "Rank-1  : 74.49%\n",
      "Rank-5  : 92.27%\n",
      "Rank-10 : 96.56%\n",
      "Rank-20 : 99.05%\n",
      "\u001b[33mValidating momentum vgg16 ...\u001b[0m\n",
      "Features extracted in 91.17 seconds\n",
      "Features extracted in 183.20 seconds\n",
      "Computing CMC and mAP ...\n",
      "** Results **\n",
      "mAP: 69.72%\n",
      "CMC curve\n",
      "Rank-1  : 75.80%\n",
      "Rank-5  : 92.91%\n",
      "Rank-10 : 97.25%\n",
      "Rank-20 : 99.09%\n",
      "\u001b[33mValidating online resnet50 ...\u001b[0m\n",
      "Features extracted in 50.04 seconds\n",
      "Features extracted in 102.31 seconds\n",
      "Computing CMC and mAP ...\n",
      "** Results **\n",
      "mAP: 69.64%\n",
      "CMC curve\n",
      "Rank-1  : 70.07%\n",
      "Rank-5  : 91.28%\n",
      "Rank-10 : 96.04%\n",
      "Rank-20 : 98.68%\n",
      "\u001b[33mValidating momentum resnet50 ...\u001b[0m\n",
      "Features extracted in 47.81 seconds\n",
      "Features extracted in 98.25 seconds\n",
      "Computing CMC and mAP ...\n",
      "** Results **\n",
      "mAP: 70.02%\n",
      "CMC curve\n",
      "Rank-1  : 73.39%\n",
      "Rank-5  : 93.49%\n",
      "Rank-10 : 97.50%\n",
      "Rank-20 : 99.37%\n",
      "\u001b[33mValidating online osnet ...\u001b[0m\n",
      "Features extracted in 51.21 seconds\n",
      "Features extracted in 101.40 seconds\n",
      "Computing CMC and mAP ...\n",
      "** Results **\n",
      "mAP: 68.61%\n",
      "CMC curve\n",
      "Rank-1  : 73.02%\n",
      "Rank-5  : 95.04%\n",
      "Rank-10 : 98.36%\n",
      "Rank-20 : 99.48%\n",
      "\u001b[33mValidating momentum osnet ...\u001b[0m\n",
      "Features extracted in 50.32 seconds\n",
      "Features extracted in 102.11 seconds\n",
      "Computing CMC and mAP ...\n",
      "** Results **\n",
      "mAP: 69.41%\n",
      "CMC curve\n",
      "Rank-1  : 73.33%\n",
      "Rank-5  : 93.05%\n",
      "Rank-10 : 97.14%\n",
      "Rank-20 : 99.12%\n",
      "\u001b[33mValidating online densenet121 ...\u001b[0m\n",
      "Features extracted in 50.73 seconds\n",
      "Features extracted in 149.59 seconds\n",
      "Computing CMC and mAP ...\n",
      "** Results **\n",
      "mAP: 70.12%\n",
      "CMC curve\n",
      "Rank-1  : 75.15%\n",
      "Rank-5  : 92.89%\n",
      "Rank-10 : 97.00%\n",
      "Rank-20 : 98.95%\n",
      "\u001b[33mValidating momentum densenet121 ...\u001b[0m\n",
      "Features extracted in 68.43 seconds\n",
      "Features extracted in 153.27 seconds\n",
      "Computing CMC and mAP ...\n",
      "** Results **\n",
      "mAP: 69.53%\n",
      "CMC curve\n",
      "Rank-1  : 75.91%\n",
      "Rank-5  : 93.33%\n",
      "Rank-10 : 97.31%\n",
      "Rank-20 : 99.25%\n",
      "\u001b[33mValidating ensembled with online models ...\u001b[0m\n",
      "Computing CMC and mAP ...\n",
      "** Results **\n",
      "mAP: 71.17%\n",
      "Ranks:\n",
      "Rank-1  : 78.73%\n",
      "Rank-5  : 92.94%\n",
      "Rank-10 : 96.83%\n",
      "\u001b[33mValidating ensembled with momentum models ...\u001b[0m\n",
      "Computing CMC and mAP ...\n",
      "** Results **\n",
      "mAP: 71.11%\n",
      "Ranks:\n",
      "Rank-1  : 79.83%\n",
      "Rank-5  : 92.92%\n",
      "Rank-10 : 96.74%\n",
      "###============ Iteration number 51/90 ============###\n",
      "Extracting Online Features for efficientnet ...\n",
      "Features extracted in 227.33 seconds\n",
      "Computing jaccard distance...\n"
     ]
    },
    {
     "name": "stderr",
     "output_type": "stream",
     "text": [
      "bruteForceKnn is deprecated; call bfKnn instead\n"
     ]
    },
    {
     "name": "stdout",
     "output_type": "stream",
     "text": [
      "Jaccard distance computing time cost: 560.0922045707703\n",
      "Extracting Online Features for convnext ...\n",
      "Features extracted in 248.41 seconds\n",
      "Computing jaccard distance...\n"
     ]
    },
    {
     "name": "stderr",
     "output_type": "stream",
     "text": [
      "bruteForceKnn is deprecated; call bfKnn instead\n"
     ]
    },
    {
     "name": "stdout",
     "output_type": "stream",
     "text": [
      "Jaccard distance computing time cost: 616.6760840415955\n",
      "Extracting Online Features for mobilenet ...\n",
      "Features extracted in 305.75 seconds\n",
      "Computing jaccard distance...\n"
     ]
    },
    {
     "name": "stderr",
     "output_type": "stream",
     "text": [
      "bruteForceKnn is deprecated; call bfKnn instead\n"
     ]
    },
    {
     "name": "stdout",
     "output_type": "stream",
     "text": [
      "Jaccard distance computing time cost: 688.7632012367249\n",
      "Extracting Online Features for vgg16 ...\n",
      "Features extracted in 297.75 seconds\n",
      "Computing jaccard distance...\n"
     ]
    },
    {
     "name": "stderr",
     "output_type": "stream",
     "text": [
      "bruteForceKnn is deprecated; call bfKnn instead\n"
     ]
    },
    {
     "name": "stdout",
     "output_type": "stream",
     "text": [
      "Jaccard distance computing time cost: 720.6959562301636\n",
      "Extracting Online Features for resnet50 ...\n",
      "Features extracted in 318.11 seconds\n",
      "Computing jaccard distance...\n"
     ]
    },
    {
     "name": "stderr",
     "output_type": "stream",
     "text": [
      "bruteForceKnn is deprecated; call bfKnn instead\n"
     ]
    },
    {
     "name": "stdout",
     "output_type": "stream",
     "text": [
      "Jaccard distance computing time cost: 802.8147819042206\n",
      "Extracting Online Features for osnet ...\n",
      "Features extracted in 319.10 seconds\n",
      "Computing jaccard distance...\n"
     ]
    },
    {
     "name": "stderr",
     "output_type": "stream",
     "text": [
      "bruteForceKnn is deprecated; call bfKnn instead\n"
     ]
    },
    {
     "name": "stdout",
     "output_type": "stream",
     "text": [
      "Jaccard distance computing time cost: 634.7602298259735\n",
      "Extracting Online Features for densenet121 ...\n",
      "Features extracted in 276.78 seconds\n",
      "Computing jaccard distance...\n"
     ]
    },
    {
     "name": "stderr",
     "output_type": "stream",
     "text": [
      "bruteForceKnn is deprecated; call bfKnn instead\n"
     ]
    },
    {
     "name": "stdout",
     "output_type": "stream",
     "text": [
      "Jaccard distance computing time cost: 574.2843732833862\n",
      "Reliability: 0.994\n",
      "\u001b[32mMean Purity: 0.01644\u001b[0m\n",
      "\u001b[34mThere are 2 clusters with 4 cameras\u001b[0m\n",
      "\u001b[34mThere are 3 clusters with 5 cameras\u001b[0m\n",
      "\u001b[34mThere are 2 clusters with 6 cameras\u001b[0m\n",
      "\u001b[34mThere are 2 clusters with 7 cameras\u001b[0m\n",
      "\u001b[34mThere are 2 clusters with 9 cameras\u001b[0m\n",
      "\u001b[34mThere are 1 clusters with 11 cameras\u001b[0m\n",
      "\u001b[34mThere are 1 clusters with 12 cameras\u001b[0m\n",
      "\u001b[34mThere are 1 clusters with 16 cameras\u001b[0m\n",
      "\u001b[34mThere are 1 clusters with 17 cameras\u001b[0m\n",
      "\u001b[34mThere are 1 clusters with 19 cameras\u001b[0m\n",
      "\u001b[34mThere are 1 clusters with 27 cameras\u001b[0m\n",
      "\u001b[34mThere are 1 clusters with 31 cameras\u001b[0m\n",
      "\u001b[34mThere are 1 clusters with 32 cameras\u001b[0m\n",
      "\u001b[34mThere are 1 clusters with 41 cameras\u001b[0m\n",
      "\u001b[34mThere are 1 clusters with 45 cameras\u001b[0m\n",
      "\u001b[34mThere are 1 clusters with 47 cameras\u001b[0m\n",
      "\u001b[34mThere are 1 clusters with 52 cameras\u001b[0m\n",
      "\u001b[34mThere are 1 clusters with 53 cameras\u001b[0m\n",
      "\u001b[34mThere are 2 clusters with 54 cameras\u001b[0m\n",
      "\u001b[34mThere are 1 clusters with 56 cameras\u001b[0m\n",
      "\u001b[34mThere are 3 clusters with 57 cameras\u001b[0m\n",
      "\u001b[34mThere are 1 clusters with 58 cameras\u001b[0m\n",
      "\u001b[34mThere are 6 clusters with 59 cameras\u001b[0m\n",
      "\u001b[34mThere are 9 clusters with 60 cameras\u001b[0m\n",
      "\u001b[34mThere are 13 clusters with 61 cameras\u001b[0m\n",
      "\u001b[34mThere are 26 clusters with 62 cameras\u001b[0m\n",
      "\u001b[34mThere are 36 clusters with 63 cameras\u001b[0m\n",
      "\u001b[34mThere are 461 clusters with 64 cameras\u001b[0m\n",
      "\u001b[34mThere are 1 clusters with 90 cameras\u001b[0m\n",
      "\u001b[34mThere are 1 clusters with 119 cameras\u001b[0m\n",
      "\u001b[34mThere are 1 clusters with 120 cameras\u001b[0m\n",
      "\u001b[34mThere are 1 clusters with 122 cameras\u001b[0m\n",
      "\u001b[34mThere are 1 clusters with 123 cameras\u001b[0m\n",
      "\u001b[34mThere are 2 clusters with 125 cameras\u001b[0m\n",
      "\u001b[34mThere are 2 clusters with 126 cameras\u001b[0m\n",
      "\u001b[34mThere are 1 clusters with 127 cameras\u001b[0m\n",
      "\u001b[34mThere are 8 clusters with 128 cameras\u001b[0m\n",
      "Number of classes: 600\n",
      "\u001b[36mLearning Rate: 0.000350\u001b[0m\n",
      "encontrou modelos efficientnet. Carregando...\n",
      "encontrou modelos convnext. Carregando...\n",
      "encontrou modelos mobilenet. Carregando...\n",
      "encontrou modelos vgg16. Carregando...\n",
      "encontrou modelos resnet50. Carregando...\n",
      "encontrou modelos osnet. Carregando...\n",
      "encontrou modelos densenet121. Carregando...\n",
      "###============ Iteration number 52/90 ============###\n",
      "Extracting Online Features for efficientnet ...\n",
      "Features extracted in 169.80 seconds\n",
      "Computing jaccard distance...\n"
     ]
    },
    {
     "name": "stderr",
     "output_type": "stream",
     "text": [
      "bruteForceKnn is deprecated; call bfKnn instead\n"
     ]
    },
    {
     "name": "stdout",
     "output_type": "stream",
     "text": [
      "Jaccard distance computing time cost: 85.89510083198547\n",
      "Extracting Online Features for convnext ...\n",
      "Features extracted in 178.64 seconds\n",
      "Computing jaccard distance...\n"
     ]
    },
    {
     "name": "stderr",
     "output_type": "stream",
     "text": [
      "bruteForceKnn is deprecated; call bfKnn instead\n"
     ]
    },
    {
     "name": "stdout",
     "output_type": "stream",
     "text": [
      "Jaccard distance computing time cost: 87.27303719520569\n",
      "Extracting Online Features for mobilenet ...\n",
      "Features extracted in 163.74 seconds\n",
      "Computing jaccard distance...\n"
     ]
    },
    {
     "name": "stderr",
     "output_type": "stream",
     "text": [
      "bruteForceKnn is deprecated; call bfKnn instead\n"
     ]
    },
    {
     "name": "stdout",
     "output_type": "stream",
     "text": [
      "Jaccard distance computing time cost: 106.97591590881348\n",
      "Extracting Online Features for vgg16 ...\n",
      "Features extracted in 181.49 seconds\n",
      "Computing jaccard distance...\n"
     ]
    },
    {
     "name": "stderr",
     "output_type": "stream",
     "text": [
      "bruteForceKnn is deprecated; call bfKnn instead\n"
     ]
    },
    {
     "name": "stdout",
     "output_type": "stream",
     "text": [
      "Jaccard distance computing time cost: 88.69839906692505\n",
      "Extracting Online Features for resnet50 ...\n",
      "Features extracted in 172.24 seconds\n",
      "Computing jaccard distance...\n"
     ]
    },
    {
     "name": "stderr",
     "output_type": "stream",
     "text": [
      "bruteForceKnn is deprecated; call bfKnn instead\n"
     ]
    },
    {
     "name": "stdout",
     "output_type": "stream",
     "text": [
      "Jaccard distance computing time cost: 123.44728112220764\n",
      "Extracting Online Features for osnet ...\n",
      "Features extracted in 195.48 seconds\n",
      "Computing jaccard distance...\n"
     ]
    },
    {
     "name": "stderr",
     "output_type": "stream",
     "text": [
      "bruteForceKnn is deprecated; call bfKnn instead\n"
     ]
    },
    {
     "name": "stdout",
     "output_type": "stream",
     "text": [
      "Jaccard distance computing time cost: 214.74663376808167\n",
      "Extracting Online Features for densenet121 ...\n",
      "Features extracted in 216.64 seconds\n",
      "Computing jaccard distance...\n"
     ]
    },
    {
     "name": "stderr",
     "output_type": "stream",
     "text": [
      "bruteForceKnn is deprecated; call bfKnn instead\n"
     ]
    },
    {
     "name": "stdout",
     "output_type": "stream",
     "text": [
      "Jaccard distance computing time cost: 90.199214220047\n",
      "Reliability: 0.994\n",
      "\u001b[32mMean Purity: 0.01644\u001b[0m\n",
      "\u001b[34mThere are 2 clusters with 4 cameras\u001b[0m\n",
      "\u001b[34mThere are 3 clusters with 5 cameras\u001b[0m\n",
      "\u001b[34mThere are 2 clusters with 6 cameras\u001b[0m\n",
      "\u001b[34mThere are 2 clusters with 7 cameras\u001b[0m\n",
      "\u001b[34mThere are 2 clusters with 9 cameras\u001b[0m\n",
      "\u001b[34mThere are 1 clusters with 11 cameras\u001b[0m\n",
      "\u001b[34mThere are 1 clusters with 12 cameras\u001b[0m\n",
      "\u001b[34mThere are 1 clusters with 16 cameras\u001b[0m\n",
      "\u001b[34mThere are 1 clusters with 17 cameras\u001b[0m\n",
      "\u001b[34mThere are 1 clusters with 19 cameras\u001b[0m\n",
      "\u001b[34mThere are 1 clusters with 27 cameras\u001b[0m\n",
      "\u001b[34mThere are 1 clusters with 31 cameras\u001b[0m\n",
      "\u001b[34mThere are 1 clusters with 32 cameras\u001b[0m\n",
      "\u001b[34mThere are 1 clusters with 41 cameras\u001b[0m\n",
      "\u001b[34mThere are 1 clusters with 45 cameras\u001b[0m\n",
      "\u001b[34mThere are 1 clusters with 47 cameras\u001b[0m\n",
      "\u001b[34mThere are 1 clusters with 52 cameras\u001b[0m\n",
      "\u001b[34mThere are 1 clusters with 53 cameras\u001b[0m\n",
      "\u001b[34mThere are 2 clusters with 54 cameras\u001b[0m\n",
      "\u001b[34mThere are 1 clusters with 56 cameras\u001b[0m\n",
      "\u001b[34mThere are 3 clusters with 57 cameras\u001b[0m\n",
      "\u001b[34mThere are 1 clusters with 58 cameras\u001b[0m\n",
      "\u001b[34mThere are 6 clusters with 59 cameras\u001b[0m\n",
      "\u001b[34mThere are 9 clusters with 60 cameras\u001b[0m\n",
      "\u001b[34mThere are 13 clusters with 61 cameras\u001b[0m\n",
      "\u001b[34mThere are 26 clusters with 62 cameras\u001b[0m\n",
      "\u001b[34mThere are 36 clusters with 63 cameras\u001b[0m\n",
      "\u001b[34mThere are 461 clusters with 64 cameras\u001b[0m\n",
      "\u001b[34mThere are 1 clusters with 90 cameras\u001b[0m\n",
      "\u001b[34mThere are 1 clusters with 119 cameras\u001b[0m\n",
      "\u001b[34mThere are 1 clusters with 120 cameras\u001b[0m\n",
      "\u001b[34mThere are 1 clusters with 122 cameras\u001b[0m\n",
      "\u001b[34mThere are 1 clusters with 123 cameras\u001b[0m\n",
      "\u001b[34mThere are 2 clusters with 125 cameras\u001b[0m\n",
      "\u001b[34mThere are 2 clusters with 126 cameras\u001b[0m\n",
      "\u001b[34mThere are 1 clusters with 127 cameras\u001b[0m\n",
      "\u001b[34mThere are 8 clusters with 128 cameras\u001b[0m\n",
      "Number of classes: 600\n",
      "\u001b[36mLearning Rate: 0.000350\u001b[0m\n",
      "encontrou modelos efficientnet. Carregando...\n",
      "encontrou modelos convnext. Carregando...\n",
      "encontrou modelos mobilenet. Carregando...\n",
      "encontrou modelos vgg16. Carregando...\n",
      "encontrou modelos resnet50. Carregando...\n",
      "encontrou modelos osnet. Carregando...\n",
      "encontrou modelos densenet121. Carregando...\n",
      "###============ Iteration number 53/90 ============###\n",
      "Extracting Online Features for efficientnet ...\n",
      "Features extracted in 168.45 seconds\n",
      "Computing jaccard distance...\n"
     ]
    },
    {
     "name": "stderr",
     "output_type": "stream",
     "text": [
      "bruteForceKnn is deprecated; call bfKnn instead\n"
     ]
    },
    {
     "name": "stdout",
     "output_type": "stream",
     "text": [
      "Jaccard distance computing time cost: 112.61501669883728\n",
      "Extracting Online Features for convnext ...\n",
      "Features extracted in 159.89 seconds\n",
      "Computing jaccard distance...\n"
     ]
    },
    {
     "name": "stderr",
     "output_type": "stream",
     "text": [
      "bruteForceKnn is deprecated; call bfKnn instead\n"
     ]
    },
    {
     "name": "stdout",
     "output_type": "stream",
     "text": [
      "Jaccard distance computing time cost: 78.00454640388489\n",
      "Extracting Online Features for mobilenet ...\n",
      "Features extracted in 161.09 seconds\n",
      "Computing jaccard distance...\n"
     ]
    },
    {
     "name": "stderr",
     "output_type": "stream",
     "text": [
      "bruteForceKnn is deprecated; call bfKnn instead\n"
     ]
    },
    {
     "name": "stdout",
     "output_type": "stream",
     "text": [
      "Jaccard distance computing time cost: 98.57217955589294\n",
      "Extracting Online Features for vgg16 ...\n",
      "Features extracted in 171.71 seconds\n",
      "Computing jaccard distance...\n"
     ]
    },
    {
     "name": "stderr",
     "output_type": "stream",
     "text": [
      "bruteForceKnn is deprecated; call bfKnn instead\n"
     ]
    },
    {
     "name": "stdout",
     "output_type": "stream",
     "text": [
      "Jaccard distance computing time cost: 111.3231987953186\n",
      "Extracting Online Features for resnet50 ...\n",
      "Features extracted in 268.48 seconds\n",
      "Computing jaccard distance...\n"
     ]
    },
    {
     "name": "stderr",
     "output_type": "stream",
     "text": [
      "bruteForceKnn is deprecated; call bfKnn instead\n"
     ]
    },
    {
     "name": "stdout",
     "output_type": "stream",
     "text": [
      "Jaccard distance computing time cost: 528.5849277973175\n",
      "Extracting Online Features for osnet ...\n",
      "Features extracted in 243.88 seconds\n",
      "Computing jaccard distance...\n"
     ]
    },
    {
     "name": "stderr",
     "output_type": "stream",
     "text": [
      "bruteForceKnn is deprecated; call bfKnn instead\n"
     ]
    },
    {
     "name": "stdout",
     "output_type": "stream",
     "text": [
      "Jaccard distance computing time cost: 582.177759885788\n",
      "Extracting Online Features for densenet121 ...\n",
      "Features extracted in 275.72 seconds\n",
      "Computing jaccard distance...\n"
     ]
    },
    {
     "name": "stderr",
     "output_type": "stream",
     "text": [
      "bruteForceKnn is deprecated; call bfKnn instead\n"
     ]
    },
    {
     "name": "stdout",
     "output_type": "stream",
     "text": [
      "Jaccard distance computing time cost: 668.7541770935059\n",
      "Reliability: 0.994\n",
      "\u001b[32mMean Purity: 0.01644\u001b[0m\n",
      "\u001b[34mThere are 2 clusters with 4 cameras\u001b[0m\n",
      "\u001b[34mThere are 3 clusters with 5 cameras\u001b[0m\n",
      "\u001b[34mThere are 2 clusters with 6 cameras\u001b[0m\n",
      "\u001b[34mThere are 2 clusters with 7 cameras\u001b[0m\n",
      "\u001b[34mThere are 2 clusters with 9 cameras\u001b[0m\n",
      "\u001b[34mThere are 1 clusters with 11 cameras\u001b[0m\n",
      "\u001b[34mThere are 1 clusters with 12 cameras\u001b[0m\n",
      "\u001b[34mThere are 1 clusters with 16 cameras\u001b[0m\n",
      "\u001b[34mThere are 1 clusters with 17 cameras\u001b[0m\n",
      "\u001b[34mThere are 1 clusters with 19 cameras\u001b[0m\n",
      "\u001b[34mThere are 1 clusters with 27 cameras\u001b[0m\n",
      "\u001b[34mThere are 1 clusters with 31 cameras\u001b[0m\n",
      "\u001b[34mThere are 1 clusters with 32 cameras\u001b[0m\n",
      "\u001b[34mThere are 1 clusters with 41 cameras\u001b[0m\n",
      "\u001b[34mThere are 1 clusters with 45 cameras\u001b[0m\n",
      "\u001b[34mThere are 1 clusters with 47 cameras\u001b[0m\n",
      "\u001b[34mThere are 1 clusters with 52 cameras\u001b[0m\n",
      "\u001b[34mThere are 1 clusters with 53 cameras\u001b[0m\n",
      "\u001b[34mThere are 2 clusters with 54 cameras\u001b[0m\n",
      "\u001b[34mThere are 1 clusters with 56 cameras\u001b[0m\n",
      "\u001b[34mThere are 3 clusters with 57 cameras\u001b[0m\n",
      "\u001b[34mThere are 1 clusters with 58 cameras\u001b[0m\n",
      "\u001b[34mThere are 6 clusters with 59 cameras\u001b[0m\n",
      "\u001b[34mThere are 9 clusters with 60 cameras\u001b[0m\n",
      "\u001b[34mThere are 13 clusters with 61 cameras\u001b[0m\n",
      "\u001b[34mThere are 26 clusters with 62 cameras\u001b[0m\n",
      "\u001b[34mThere are 36 clusters with 63 cameras\u001b[0m\n",
      "\u001b[34mThere are 461 clusters with 64 cameras\u001b[0m\n",
      "\u001b[34mThere are 1 clusters with 90 cameras\u001b[0m\n",
      "\u001b[34mThere are 1 clusters with 119 cameras\u001b[0m\n",
      "\u001b[34mThere are 1 clusters with 120 cameras\u001b[0m\n",
      "\u001b[34mThere are 1 clusters with 122 cameras\u001b[0m\n",
      "\u001b[34mThere are 1 clusters with 123 cameras\u001b[0m\n",
      "\u001b[34mThere are 2 clusters with 125 cameras\u001b[0m\n",
      "\u001b[34mThere are 2 clusters with 126 cameras\u001b[0m\n",
      "\u001b[34mThere are 1 clusters with 127 cameras\u001b[0m\n",
      "\u001b[34mThere are 8 clusters with 128 cameras\u001b[0m\n",
      "Number of classes: 600\n",
      "\u001b[36mLearning Rate: 0.000350\u001b[0m\n",
      "encontrou modelos efficientnet. Carregando...\n",
      "encontrou modelos convnext. Carregando...\n",
      "encontrou modelos mobilenet. Carregando...\n",
      "encontrou modelos vgg16. Carregando...\n",
      "encontrou modelos resnet50. Carregando...\n",
      "encontrou modelos osnet. Carregando...\n",
      "encontrou modelos densenet121. Carregando...\n",
      "###============ Iteration number 54/90 ============###\n",
      "Extracting Online Features for efficientnet ...\n",
      "Features extracted in 243.69 seconds\n",
      "Computing jaccard distance...\n"
     ]
    },
    {
     "name": "stderr",
     "output_type": "stream",
     "text": [
      "bruteForceKnn is deprecated; call bfKnn instead\n"
     ]
    },
    {
     "name": "stdout",
     "output_type": "stream",
     "text": [
      "Jaccard distance computing time cost: 653.4152872562408\n",
      "Extracting Online Features for convnext ...\n",
      "Features extracted in 215.33 seconds\n",
      "Computing jaccard distance...\n"
     ]
    },
    {
     "name": "stderr",
     "output_type": "stream",
     "text": [
      "bruteForceKnn is deprecated; call bfKnn instead\n"
     ]
    },
    {
     "name": "stdout",
     "output_type": "stream",
     "text": [
      "Jaccard distance computing time cost: 504.2108688354492\n",
      "Extracting Online Features for mobilenet ...\n",
      "Features extracted in 181.06 seconds\n",
      "Computing jaccard distance...\n"
     ]
    },
    {
     "name": "stderr",
     "output_type": "stream",
     "text": [
      "bruteForceKnn is deprecated; call bfKnn instead\n"
     ]
    },
    {
     "name": "stdout",
     "output_type": "stream",
     "text": [
      "Jaccard distance computing time cost: 169.10202050209045\n",
      "Extracting Online Features for vgg16 ...\n",
      "Features extracted in 174.02 seconds\n",
      "Computing jaccard distance...\n"
     ]
    },
    {
     "name": "stderr",
     "output_type": "stream",
     "text": [
      "bruteForceKnn is deprecated; call bfKnn instead\n"
     ]
    },
    {
     "name": "stdout",
     "output_type": "stream",
     "text": [
      "Jaccard distance computing time cost: 71.43004536628723\n",
      "Extracting Online Features for resnet50 ...\n",
      "Features extracted in 165.20 seconds\n",
      "Computing jaccard distance...\n"
     ]
    },
    {
     "name": "stderr",
     "output_type": "stream",
     "text": [
      "bruteForceKnn is deprecated; call bfKnn instead\n"
     ]
    },
    {
     "name": "stdout",
     "output_type": "stream",
     "text": [
      "Jaccard distance computing time cost: 390.799099445343\n",
      "Extracting Online Features for osnet ...\n",
      "Features extracted in 233.76 seconds\n",
      "Computing jaccard distance...\n"
     ]
    },
    {
     "name": "stderr",
     "output_type": "stream",
     "text": [
      "bruteForceKnn is deprecated; call bfKnn instead\n"
     ]
    },
    {
     "name": "stdout",
     "output_type": "stream",
     "text": [
      "Jaccard distance computing time cost: 106.434898853302\n",
      "Extracting Online Features for densenet121 ...\n",
      "Features extracted in 186.33 seconds\n",
      "Computing jaccard distance...\n"
     ]
    },
    {
     "name": "stderr",
     "output_type": "stream",
     "text": [
      "bruteForceKnn is deprecated; call bfKnn instead\n"
     ]
    },
    {
     "name": "stdout",
     "output_type": "stream",
     "text": [
      "Jaccard distance computing time cost: 121.16722869873047\n",
      "Reliability: 0.994\n",
      "\u001b[32mMean Purity: 0.01644\u001b[0m\n",
      "\u001b[34mThere are 2 clusters with 4 cameras\u001b[0m\n",
      "\u001b[34mThere are 3 clusters with 5 cameras\u001b[0m\n",
      "\u001b[34mThere are 2 clusters with 6 cameras\u001b[0m\n",
      "\u001b[34mThere are 2 clusters with 7 cameras\u001b[0m\n",
      "\u001b[34mThere are 2 clusters with 9 cameras\u001b[0m\n",
      "\u001b[34mThere are 1 clusters with 11 cameras\u001b[0m\n",
      "\u001b[34mThere are 1 clusters with 12 cameras\u001b[0m\n",
      "\u001b[34mThere are 1 clusters with 16 cameras\u001b[0m\n",
      "\u001b[34mThere are 1 clusters with 17 cameras\u001b[0m\n",
      "\u001b[34mThere are 1 clusters with 19 cameras\u001b[0m\n",
      "\u001b[34mThere are 1 clusters with 27 cameras\u001b[0m\n",
      "\u001b[34mThere are 1 clusters with 31 cameras\u001b[0m\n",
      "\u001b[34mThere are 1 clusters with 32 cameras\u001b[0m\n",
      "\u001b[34mThere are 1 clusters with 41 cameras\u001b[0m\n",
      "\u001b[34mThere are 1 clusters with 45 cameras\u001b[0m\n",
      "\u001b[34mThere are 1 clusters with 47 cameras\u001b[0m\n",
      "\u001b[34mThere are 1 clusters with 52 cameras\u001b[0m\n",
      "\u001b[34mThere are 1 clusters with 53 cameras\u001b[0m\n",
      "\u001b[34mThere are 2 clusters with 54 cameras\u001b[0m\n",
      "\u001b[34mThere are 1 clusters with 56 cameras\u001b[0m\n",
      "\u001b[34mThere are 3 clusters with 57 cameras\u001b[0m\n",
      "\u001b[34mThere are 1 clusters with 58 cameras\u001b[0m\n",
      "\u001b[34mThere are 6 clusters with 59 cameras\u001b[0m\n",
      "\u001b[34mThere are 9 clusters with 60 cameras\u001b[0m\n",
      "\u001b[34mThere are 13 clusters with 61 cameras\u001b[0m\n",
      "\u001b[34mThere are 26 clusters with 62 cameras\u001b[0m\n",
      "\u001b[34mThere are 36 clusters with 63 cameras\u001b[0m\n",
      "\u001b[34mThere are 461 clusters with 64 cameras\u001b[0m\n",
      "\u001b[34mThere are 1 clusters with 90 cameras\u001b[0m\n",
      "\u001b[34mThere are 1 clusters with 119 cameras\u001b[0m\n",
      "\u001b[34mThere are 1 clusters with 120 cameras\u001b[0m\n",
      "\u001b[34mThere are 1 clusters with 122 cameras\u001b[0m\n",
      "\u001b[34mThere are 1 clusters with 123 cameras\u001b[0m\n",
      "\u001b[34mThere are 2 clusters with 125 cameras\u001b[0m\n",
      "\u001b[34mThere are 2 clusters with 126 cameras\u001b[0m\n",
      "\u001b[34mThere are 1 clusters with 127 cameras\u001b[0m\n",
      "\u001b[34mThere are 8 clusters with 128 cameras\u001b[0m\n",
      "Number of classes: 600\n",
      "\u001b[36mLearning Rate: 0.000350\u001b[0m\n",
      "encontrou modelos efficientnet. Carregando...\n",
      "encontrou modelos convnext. Carregando...\n",
      "encontrou modelos mobilenet. Carregando...\n",
      "encontrou modelos vgg16. Carregando...\n",
      "encontrou modelos resnet50. Carregando...\n",
      "encontrou modelos osnet. Carregando...\n",
      "encontrou modelos densenet121. Carregando...\n",
      "###============ Iteration number 55/90 ============###\n",
      "Extracting Online Features for efficientnet ...\n",
      "Features extracted in 167.03 seconds\n",
      "Computing jaccard distance...\n"
     ]
    },
    {
     "name": "stderr",
     "output_type": "stream",
     "text": [
      "bruteForceKnn is deprecated; call bfKnn instead\n"
     ]
    },
    {
     "name": "stdout",
     "output_type": "stream",
     "text": [
      "Jaccard distance computing time cost: 114.94745826721191\n",
      "Extracting Online Features for convnext ...\n",
      "Features extracted in 168.49 seconds\n",
      "Computing jaccard distance...\n"
     ]
    },
    {
     "name": "stderr",
     "output_type": "stream",
     "text": [
      "bruteForceKnn is deprecated; call bfKnn instead\n"
     ]
    },
    {
     "name": "stdout",
     "output_type": "stream",
     "text": [
      "Jaccard distance computing time cost: 83.60693764686584\n",
      "Extracting Online Features for mobilenet ...\n",
      "Features extracted in 165.93 seconds\n",
      "Computing jaccard distance...\n"
     ]
    },
    {
     "name": "stderr",
     "output_type": "stream",
     "text": [
      "bruteForceKnn is deprecated; call bfKnn instead\n"
     ]
    },
    {
     "name": "stdout",
     "output_type": "stream",
     "text": [
      "Jaccard distance computing time cost: 120.70851278305054\n",
      "Extracting Online Features for vgg16 ...\n",
      "Features extracted in 259.40 seconds\n",
      "Computing jaccard distance...\n"
     ]
    },
    {
     "name": "stderr",
     "output_type": "stream",
     "text": [
      "bruteForceKnn is deprecated; call bfKnn instead\n"
     ]
    },
    {
     "name": "stdout",
     "output_type": "stream",
     "text": [
      "Jaccard distance computing time cost: 604.7353935241699\n",
      "Extracting Online Features for resnet50 ...\n",
      "Features extracted in 259.83 seconds\n",
      "Computing jaccard distance...\n"
     ]
    },
    {
     "name": "stderr",
     "output_type": "stream",
     "text": [
      "bruteForceKnn is deprecated; call bfKnn instead\n"
     ]
    },
    {
     "name": "stdout",
     "output_type": "stream",
     "text": [
      "Jaccard distance computing time cost: 670.7814314365387\n",
      "Extracting Online Features for osnet ...\n",
      "Features extracted in 226.19 seconds\n",
      "Computing jaccard distance...\n"
     ]
    },
    {
     "name": "stderr",
     "output_type": "stream",
     "text": [
      "bruteForceKnn is deprecated; call bfKnn instead\n"
     ]
    },
    {
     "name": "stdout",
     "output_type": "stream",
     "text": [
      "Jaccard distance computing time cost: 653.2104027271271\n",
      "Extracting Online Features for densenet121 ...\n",
      "Features extracted in 206.80 seconds\n",
      "Computing jaccard distance...\n"
     ]
    },
    {
     "name": "stderr",
     "output_type": "stream",
     "text": [
      "bruteForceKnn is deprecated; call bfKnn instead\n"
     ]
    },
    {
     "name": "stdout",
     "output_type": "stream",
     "text": [
      "Jaccard distance computing time cost: 617.6163218021393\n",
      "Reliability: 0.994\n",
      "\u001b[32mMean Purity: 0.01644\u001b[0m\n",
      "\u001b[34mThere are 2 clusters with 4 cameras\u001b[0m\n",
      "\u001b[34mThere are 3 clusters with 5 cameras\u001b[0m\n",
      "\u001b[34mThere are 2 clusters with 6 cameras\u001b[0m\n",
      "\u001b[34mThere are 2 clusters with 7 cameras\u001b[0m\n",
      "\u001b[34mThere are 2 clusters with 9 cameras\u001b[0m\n",
      "\u001b[34mThere are 1 clusters with 11 cameras\u001b[0m\n",
      "\u001b[34mThere are 1 clusters with 12 cameras\u001b[0m\n",
      "\u001b[34mThere are 1 clusters with 16 cameras\u001b[0m\n",
      "\u001b[34mThere are 1 clusters with 17 cameras\u001b[0m\n",
      "\u001b[34mThere are 1 clusters with 19 cameras\u001b[0m\n",
      "\u001b[34mThere are 1 clusters with 27 cameras\u001b[0m\n",
      "\u001b[34mThere are 1 clusters with 31 cameras\u001b[0m\n",
      "\u001b[34mThere are 1 clusters with 32 cameras\u001b[0m\n",
      "\u001b[34mThere are 1 clusters with 41 cameras\u001b[0m\n",
      "\u001b[34mThere are 1 clusters with 45 cameras\u001b[0m\n",
      "\u001b[34mThere are 1 clusters with 47 cameras\u001b[0m\n",
      "\u001b[34mThere are 1 clusters with 52 cameras\u001b[0m\n",
      "\u001b[34mThere are 1 clusters with 53 cameras\u001b[0m\n",
      "\u001b[34mThere are 2 clusters with 54 cameras\u001b[0m\n",
      "\u001b[34mThere are 1 clusters with 56 cameras\u001b[0m\n",
      "\u001b[34mThere are 3 clusters with 57 cameras\u001b[0m\n",
      "\u001b[34mThere are 1 clusters with 58 cameras\u001b[0m\n",
      "\u001b[34mThere are 6 clusters with 59 cameras\u001b[0m\n",
      "\u001b[34mThere are 9 clusters with 60 cameras\u001b[0m\n",
      "\u001b[34mThere are 13 clusters with 61 cameras\u001b[0m\n",
      "\u001b[34mThere are 26 clusters with 62 cameras\u001b[0m\n",
      "\u001b[34mThere are 36 clusters with 63 cameras\u001b[0m\n",
      "\u001b[34mThere are 461 clusters with 64 cameras\u001b[0m\n",
      "\u001b[34mThere are 1 clusters with 90 cameras\u001b[0m\n",
      "\u001b[34mThere are 1 clusters with 119 cameras\u001b[0m\n",
      "\u001b[34mThere are 1 clusters with 120 cameras\u001b[0m\n",
      "\u001b[34mThere are 1 clusters with 122 cameras\u001b[0m\n",
      "\u001b[34mThere are 1 clusters with 123 cameras\u001b[0m\n",
      "\u001b[34mThere are 2 clusters with 125 cameras\u001b[0m\n",
      "\u001b[34mThere are 2 clusters with 126 cameras\u001b[0m\n",
      "\u001b[34mThere are 1 clusters with 127 cameras\u001b[0m\n",
      "\u001b[34mThere are 8 clusters with 128 cameras\u001b[0m\n",
      "Number of classes: 600\n",
      "\u001b[36mLearning Rate: 0.000350\u001b[0m\n",
      "encontrou modelos efficientnet. Carregando...\n",
      "encontrou modelos convnext. Carregando...\n",
      "encontrou modelos mobilenet. Carregando...\n",
      "encontrou modelos vgg16. Carregando...\n",
      "encontrou modelos resnet50. Carregando...\n",
      "encontrou modelos osnet. Carregando...\n",
      "encontrou modelos densenet121. Carregando...\n",
      "\u001b[33mValidating online efficientnet ...\u001b[0m\n",
      "Features extracted in 58.94 seconds\n",
      "Features extracted in 138.02 seconds\n",
      "Computing CMC and mAP ...\n",
      "** Results **\n",
      "mAP: 69.91%\n",
      "CMC curve\n",
      "Rank-1  : 73.59%\n",
      "Rank-5  : 94.54%\n",
      "Rank-10 : 97.70%\n",
      "Rank-20 : 99.20%\n",
      "\u001b[33mValidating momentum efficientnet ...\u001b[0m\n",
      "Features extracted in 58.90 seconds\n",
      "Features extracted in 131.53 seconds\n",
      "Computing CMC and mAP ...\n",
      "** Results **\n",
      "mAP: 70.66%\n",
      "CMC curve\n",
      "Rank-1  : 76.80%\n",
      "Rank-5  : 93.39%\n",
      "Rank-10 : 96.79%\n",
      "Rank-20 : 98.68%\n",
      "\u001b[33mValidating online convnext ...\u001b[0m\n",
      "Features extracted in 63.77 seconds\n",
      "Features extracted in 121.13 seconds\n",
      "Computing CMC and mAP ...\n",
      "** Results **\n",
      "mAP: 70.08%\n",
      "CMC curve\n",
      "Rank-1  : 75.63%\n",
      "Rank-5  : 92.61%\n",
      "Rank-10 : 96.93%\n",
      "Rank-20 : 99.29%\n",
      "\u001b[33mValidating momentum convnext ...\u001b[0m\n",
      "Features extracted in 68.95 seconds\n",
      "Features extracted in 123.88 seconds\n",
      "Computing CMC and mAP ...\n",
      "** Results **\n",
      "mAP: 70.46%\n",
      "CMC curve\n",
      "Rank-1  : 77.49%\n",
      "Rank-5  : 93.71%\n",
      "Rank-10 : 96.84%\n",
      "Rank-20 : 98.71%\n",
      "\u001b[33mValidating online mobilenet ...\u001b[0m\n",
      "Features extracted in 59.22 seconds\n",
      "Features extracted in 122.30 seconds\n",
      "Computing CMC and mAP ...\n",
      "** Results **\n",
      "mAP: 71.39%\n",
      "CMC curve\n",
      "Rank-1  : 81.53%\n",
      "Rank-5  : 95.41%\n",
      "Rank-10 : 98.02%\n",
      "Rank-20 : 99.18%\n",
      "\u001b[33mValidating momentum mobilenet ...\u001b[0m\n",
      "Features extracted in 54.61 seconds\n",
      "Features extracted in 114.45 seconds\n",
      "Computing CMC and mAP ...\n",
      "** Results **\n",
      "mAP: 70.86%\n",
      "CMC curve\n",
      "Rank-1  : 78.95%\n",
      "Rank-5  : 93.89%\n",
      "Rank-10 : 97.47%\n",
      "Rank-20 : 99.27%\n",
      "\u001b[33mValidating online vgg16 ...\u001b[0m\n",
      "Features extracted in 55.12 seconds\n",
      "Features extracted in 114.24 seconds\n",
      "Computing CMC and mAP ...\n",
      "** Results **\n",
      "mAP: 69.67%\n",
      "CMC curve\n",
      "Rank-1  : 74.49%\n",
      "Rank-5  : 92.27%\n",
      "Rank-10 : 96.56%\n",
      "Rank-20 : 99.05%\n",
      "\u001b[33mValidating momentum vgg16 ...\u001b[0m\n",
      "Features extracted in 52.68 seconds\n",
      "Features extracted in 106.75 seconds\n",
      "Computing CMC and mAP ...\n",
      "** Results **\n",
      "mAP: 69.72%\n",
      "CMC curve\n",
      "Rank-1  : 75.80%\n",
      "Rank-5  : 92.91%\n",
      "Rank-10 : 97.25%\n",
      "Rank-20 : 99.09%\n",
      "\u001b[33mValidating online resnet50 ...\u001b[0m\n",
      "Features extracted in 57.43 seconds\n",
      "Features extracted in 106.92 seconds\n",
      "Computing CMC and mAP ...\n",
      "** Results **\n",
      "mAP: 69.64%\n",
      "CMC curve\n",
      "Rank-1  : 70.07%\n",
      "Rank-5  : 91.28%\n",
      "Rank-10 : 96.04%\n",
      "Rank-20 : 98.68%\n",
      "\u001b[33mValidating momentum resnet50 ...\u001b[0m\n",
      "Features extracted in 48.62 seconds\n",
      "Features extracted in 101.05 seconds\n",
      "Computing CMC and mAP ...\n",
      "** Results **\n",
      "mAP: 70.02%\n",
      "CMC curve\n",
      "Rank-1  : 73.39%\n",
      "Rank-5  : 93.49%\n",
      "Rank-10 : 97.50%\n",
      "Rank-20 : 99.37%\n",
      "\u001b[33mValidating online osnet ...\u001b[0m\n",
      "Features extracted in 75.75 seconds\n",
      "Features extracted in 165.90 seconds\n",
      "Computing CMC and mAP ...\n",
      "** Results **\n",
      "mAP: 68.61%\n",
      "CMC curve\n",
      "Rank-1  : 73.02%\n",
      "Rank-5  : 95.04%\n",
      "Rank-10 : 98.36%\n",
      "Rank-20 : 99.48%\n",
      "\u001b[33mValidating momentum osnet ...\u001b[0m\n",
      "Features extracted in 80.05 seconds\n",
      "Features extracted in 170.67 seconds\n",
      "Computing CMC and mAP ...\n",
      "** Results **\n",
      "mAP: 69.41%\n",
      "CMC curve\n",
      "Rank-1  : 73.33%\n",
      "Rank-5  : 93.05%\n",
      "Rank-10 : 97.14%\n",
      "Rank-20 : 99.12%\n",
      "\u001b[33mValidating online densenet121 ...\u001b[0m\n",
      "Features extracted in 78.54 seconds\n",
      "Features extracted in 170.31 seconds\n",
      "Computing CMC and mAP ...\n",
      "** Results **\n",
      "mAP: 70.12%\n",
      "CMC curve\n",
      "Rank-1  : 75.15%\n",
      "Rank-5  : 92.89%\n",
      "Rank-10 : 97.00%\n",
      "Rank-20 : 98.95%\n",
      "\u001b[33mValidating momentum densenet121 ...\u001b[0m\n",
      "Features extracted in 79.92 seconds\n",
      "Features extracted in 163.09 seconds\n",
      "Computing CMC and mAP ...\n",
      "** Results **\n",
      "mAP: 69.53%\n",
      "CMC curve\n",
      "Rank-1  : 75.91%\n",
      "Rank-5  : 93.33%\n",
      "Rank-10 : 97.31%\n",
      "Rank-20 : 99.25%\n",
      "\u001b[33mValidating ensembled with online models ...\u001b[0m\n",
      "Computing CMC and mAP ...\n",
      "** Results **\n",
      "mAP: 71.17%\n",
      "Ranks:\n",
      "Rank-1  : 78.73%\n",
      "Rank-5  : 92.94%\n",
      "Rank-10 : 96.83%\n",
      "\u001b[33mValidating ensembled with momentum models ...\u001b[0m\n",
      "Computing CMC and mAP ...\n",
      "** Results **\n",
      "mAP: 71.11%\n",
      "Ranks:\n",
      "Rank-1  : 79.83%\n",
      "Rank-5  : 92.92%\n",
      "Rank-10 : 96.74%\n",
      "###============ Iteration number 56/90 ============###\n",
      "Extracting Online Features for efficientnet ...\n",
      "Features extracted in 174.73 seconds\n",
      "Computing jaccard distance...\n"
     ]
    },
    {
     "name": "stderr",
     "output_type": "stream",
     "text": [
      "bruteForceKnn is deprecated; call bfKnn instead\n"
     ]
    },
    {
     "name": "stdout",
     "output_type": "stream",
     "text": [
      "Jaccard distance computing time cost: 122.79321455955505\n",
      "Extracting Online Features for convnext ...\n",
      "Features extracted in 231.78 seconds\n",
      "Computing jaccard distance...\n"
     ]
    },
    {
     "name": "stderr",
     "output_type": "stream",
     "text": [
      "bruteForceKnn is deprecated; call bfKnn instead\n"
     ]
    },
    {
     "name": "stdout",
     "output_type": "stream",
     "text": [
      "Jaccard distance computing time cost: 127.68455576896667\n",
      "Extracting Online Features for mobilenet ...\n",
      "Features extracted in 232.27 seconds\n",
      "Computing jaccard distance...\n"
     ]
    },
    {
     "name": "stderr",
     "output_type": "stream",
     "text": [
      "bruteForceKnn is deprecated; call bfKnn instead\n"
     ]
    },
    {
     "name": "stdout",
     "output_type": "stream",
     "text": [
      "Jaccard distance computing time cost: 241.07409691810608\n",
      "Extracting Online Features for vgg16 ...\n",
      "Features extracted in 197.68 seconds\n",
      "Computing jaccard distance...\n"
     ]
    },
    {
     "name": "stderr",
     "output_type": "stream",
     "text": [
      "bruteForceKnn is deprecated; call bfKnn instead\n"
     ]
    },
    {
     "name": "stdout",
     "output_type": "stream",
     "text": [
      "Jaccard distance computing time cost: 344.3234496116638\n",
      "Extracting Online Features for resnet50 ...\n",
      "Features extracted in 192.45 seconds\n",
      "Computing jaccard distance...\n"
     ]
    },
    {
     "name": "stderr",
     "output_type": "stream",
     "text": [
      "bruteForceKnn is deprecated; call bfKnn instead\n"
     ]
    },
    {
     "name": "stdout",
     "output_type": "stream",
     "text": [
      "Jaccard distance computing time cost: 92.70546007156372\n",
      "Extracting Online Features for osnet ...\n",
      "Features extracted in 169.87 seconds\n",
      "Computing jaccard distance...\n"
     ]
    },
    {
     "name": "stderr",
     "output_type": "stream",
     "text": [
      "bruteForceKnn is deprecated; call bfKnn instead\n"
     ]
    },
    {
     "name": "stdout",
     "output_type": "stream",
     "text": [
      "Jaccard distance computing time cost: 141.75078201293945\n",
      "Extracting Online Features for densenet121 ...\n",
      "Features extracted in 187.05 seconds\n",
      "Computing jaccard distance...\n"
     ]
    },
    {
     "name": "stderr",
     "output_type": "stream",
     "text": [
      "bruteForceKnn is deprecated; call bfKnn instead\n"
     ]
    },
    {
     "name": "stdout",
     "output_type": "stream",
     "text": [
      "Jaccard distance computing time cost: 139.261878490448\n",
      "Reliability: 0.994\n",
      "\u001b[32mMean Purity: 0.01644\u001b[0m\n",
      "\u001b[34mThere are 2 clusters with 4 cameras\u001b[0m\n",
      "\u001b[34mThere are 3 clusters with 5 cameras\u001b[0m\n",
      "\u001b[34mThere are 2 clusters with 6 cameras\u001b[0m\n",
      "\u001b[34mThere are 2 clusters with 7 cameras\u001b[0m\n",
      "\u001b[34mThere are 2 clusters with 9 cameras\u001b[0m\n",
      "\u001b[34mThere are 1 clusters with 11 cameras\u001b[0m\n",
      "\u001b[34mThere are 1 clusters with 12 cameras\u001b[0m\n",
      "\u001b[34mThere are 1 clusters with 16 cameras\u001b[0m\n",
      "\u001b[34mThere are 1 clusters with 17 cameras\u001b[0m\n",
      "\u001b[34mThere are 1 clusters with 19 cameras\u001b[0m\n",
      "\u001b[34mThere are 1 clusters with 27 cameras\u001b[0m\n",
      "\u001b[34mThere are 1 clusters with 31 cameras\u001b[0m\n",
      "\u001b[34mThere are 1 clusters with 32 cameras\u001b[0m\n",
      "\u001b[34mThere are 1 clusters with 41 cameras\u001b[0m\n",
      "\u001b[34mThere are 1 clusters with 45 cameras\u001b[0m\n",
      "\u001b[34mThere are 1 clusters with 47 cameras\u001b[0m\n",
      "\u001b[34mThere are 1 clusters with 52 cameras\u001b[0m\n",
      "\u001b[34mThere are 1 clusters with 53 cameras\u001b[0m\n",
      "\u001b[34mThere are 2 clusters with 54 cameras\u001b[0m\n",
      "\u001b[34mThere are 1 clusters with 56 cameras\u001b[0m\n",
      "\u001b[34mThere are 3 clusters with 57 cameras\u001b[0m\n",
      "\u001b[34mThere are 1 clusters with 58 cameras\u001b[0m\n",
      "\u001b[34mThere are 6 clusters with 59 cameras\u001b[0m\n",
      "\u001b[34mThere are 9 clusters with 60 cameras\u001b[0m\n",
      "\u001b[34mThere are 13 clusters with 61 cameras\u001b[0m\n",
      "\u001b[34mThere are 26 clusters with 62 cameras\u001b[0m\n",
      "\u001b[34mThere are 36 clusters with 63 cameras\u001b[0m\n",
      "\u001b[34mThere are 461 clusters with 64 cameras\u001b[0m\n",
      "\u001b[34mThere are 1 clusters with 90 cameras\u001b[0m\n",
      "\u001b[34mThere are 1 clusters with 119 cameras\u001b[0m\n",
      "\u001b[34mThere are 1 clusters with 120 cameras\u001b[0m\n",
      "\u001b[34mThere are 1 clusters with 122 cameras\u001b[0m\n",
      "\u001b[34mThere are 1 clusters with 123 cameras\u001b[0m\n",
      "\u001b[34mThere are 2 clusters with 125 cameras\u001b[0m\n",
      "\u001b[34mThere are 2 clusters with 126 cameras\u001b[0m\n",
      "\u001b[34mThere are 1 clusters with 127 cameras\u001b[0m\n",
      "\u001b[34mThere are 8 clusters with 128 cameras\u001b[0m\n",
      "Number of classes: 600\n",
      "\u001b[36mLearning Rate: 0.000350\u001b[0m\n",
      "encontrou modelos efficientnet. Carregando...\n",
      "encontrou modelos convnext. Carregando...\n",
      "encontrou modelos mobilenet. Carregando...\n",
      "encontrou modelos vgg16. Carregando...\n",
      "encontrou modelos resnet50. Carregando...\n",
      "encontrou modelos osnet. Carregando...\n",
      "encontrou modelos densenet121. Carregando...\n",
      "###============ Iteration number 57/90 ============###\n",
      "Extracting Online Features for efficientnet ...\n",
      "Features extracted in 164.40 seconds\n",
      "Computing jaccard distance...\n"
     ]
    },
    {
     "name": "stderr",
     "output_type": "stream",
     "text": [
      "bruteForceKnn is deprecated; call bfKnn instead\n"
     ]
    },
    {
     "name": "stdout",
     "output_type": "stream",
     "text": [
      "Jaccard distance computing time cost: 89.41914916038513\n",
      "Extracting Online Features for convnext ...\n",
      "Features extracted in 195.28 seconds\n",
      "Computing jaccard distance...\n"
     ]
    },
    {
     "name": "stderr",
     "output_type": "stream",
     "text": [
      "bruteForceKnn is deprecated; call bfKnn instead\n"
     ]
    },
    {
     "name": "stdout",
     "output_type": "stream",
     "text": [
      "Jaccard distance computing time cost: 645.7624435424805\n",
      "Extracting Online Features for mobilenet ...\n",
      "Features extracted in 255.23 seconds\n",
      "Computing jaccard distance...\n"
     ]
    },
    {
     "name": "stderr",
     "output_type": "stream",
     "text": [
      "bruteForceKnn is deprecated; call bfKnn instead\n"
     ]
    },
    {
     "name": "stdout",
     "output_type": "stream",
     "text": [
      "Jaccard distance computing time cost: 731.0483005046844\n",
      "Extracting Online Features for vgg16 ...\n",
      "Features extracted in 262.73 seconds\n",
      "Computing jaccard distance...\n"
     ]
    },
    {
     "name": "stderr",
     "output_type": "stream",
     "text": [
      "bruteForceKnn is deprecated; call bfKnn instead\n"
     ]
    },
    {
     "name": "stdout",
     "output_type": "stream",
     "text": [
      "Jaccard distance computing time cost: 730.5235712528229\n",
      "Extracting Online Features for resnet50 ...\n",
      "Features extracted in 231.40 seconds\n",
      "Computing jaccard distance...\n"
     ]
    },
    {
     "name": "stderr",
     "output_type": "stream",
     "text": [
      "bruteForceKnn is deprecated; call bfKnn instead\n"
     ]
    },
    {
     "name": "stdout",
     "output_type": "stream",
     "text": [
      "Jaccard distance computing time cost: 723.0111651420593\n",
      "Extracting Online Features for osnet ...\n",
      "Features extracted in 206.40 seconds\n",
      "Computing jaccard distance...\n"
     ]
    },
    {
     "name": "stderr",
     "output_type": "stream",
     "text": [
      "bruteForceKnn is deprecated; call bfKnn instead\n"
     ]
    },
    {
     "name": "stdout",
     "output_type": "stream",
     "text": [
      "Jaccard distance computing time cost: 481.4559099674225\n",
      "Extracting Online Features for densenet121 ...\n",
      "Features extracted in 175.48 seconds\n",
      "Computing jaccard distance...\n"
     ]
    },
    {
     "name": "stderr",
     "output_type": "stream",
     "text": [
      "bruteForceKnn is deprecated; call bfKnn instead\n"
     ]
    },
    {
     "name": "stdout",
     "output_type": "stream",
     "text": [
      "Jaccard distance computing time cost: 85.44492983818054\n",
      "Reliability: 0.994\n",
      "\u001b[32mMean Purity: 0.01644\u001b[0m\n",
      "\u001b[34mThere are 2 clusters with 4 cameras\u001b[0m\n",
      "\u001b[34mThere are 3 clusters with 5 cameras\u001b[0m\n",
      "\u001b[34mThere are 2 clusters with 6 cameras\u001b[0m\n",
      "\u001b[34mThere are 2 clusters with 7 cameras\u001b[0m\n",
      "\u001b[34mThere are 2 clusters with 9 cameras\u001b[0m\n",
      "\u001b[34mThere are 1 clusters with 11 cameras\u001b[0m\n",
      "\u001b[34mThere are 1 clusters with 12 cameras\u001b[0m\n",
      "\u001b[34mThere are 1 clusters with 16 cameras\u001b[0m\n",
      "\u001b[34mThere are 1 clusters with 17 cameras\u001b[0m\n",
      "\u001b[34mThere are 1 clusters with 19 cameras\u001b[0m\n",
      "\u001b[34mThere are 1 clusters with 27 cameras\u001b[0m\n",
      "\u001b[34mThere are 1 clusters with 31 cameras\u001b[0m\n",
      "\u001b[34mThere are 1 clusters with 32 cameras\u001b[0m\n",
      "\u001b[34mThere are 1 clusters with 41 cameras\u001b[0m\n",
      "\u001b[34mThere are 1 clusters with 45 cameras\u001b[0m\n",
      "\u001b[34mThere are 1 clusters with 47 cameras\u001b[0m\n",
      "\u001b[34mThere are 1 clusters with 52 cameras\u001b[0m\n",
      "\u001b[34mThere are 1 clusters with 53 cameras\u001b[0m\n",
      "\u001b[34mThere are 2 clusters with 54 cameras\u001b[0m\n",
      "\u001b[34mThere are 1 clusters with 56 cameras\u001b[0m\n",
      "\u001b[34mThere are 3 clusters with 57 cameras\u001b[0m\n",
      "\u001b[34mThere are 1 clusters with 58 cameras\u001b[0m\n",
      "\u001b[34mThere are 6 clusters with 59 cameras\u001b[0m\n",
      "\u001b[34mThere are 9 clusters with 60 cameras\u001b[0m\n",
      "\u001b[34mThere are 13 clusters with 61 cameras\u001b[0m\n",
      "\u001b[34mThere are 26 clusters with 62 cameras\u001b[0m\n",
      "\u001b[34mThere are 36 clusters with 63 cameras\u001b[0m\n",
      "\u001b[34mThere are 461 clusters with 64 cameras\u001b[0m\n",
      "\u001b[34mThere are 1 clusters with 90 cameras\u001b[0m\n",
      "\u001b[34mThere are 1 clusters with 119 cameras\u001b[0m\n",
      "\u001b[34mThere are 1 clusters with 120 cameras\u001b[0m\n",
      "\u001b[34mThere are 1 clusters with 122 cameras\u001b[0m\n",
      "\u001b[34mThere are 1 clusters with 123 cameras\u001b[0m\n",
      "\u001b[34mThere are 2 clusters with 125 cameras\u001b[0m\n",
      "\u001b[34mThere are 2 clusters with 126 cameras\u001b[0m\n",
      "\u001b[34mThere are 1 clusters with 127 cameras\u001b[0m\n",
      "\u001b[34mThere are 8 clusters with 128 cameras\u001b[0m\n",
      "Number of classes: 600\n",
      "\u001b[36mLearning Rate: 0.000350\u001b[0m\n",
      "encontrou modelos efficientnet. Carregando...\n",
      "encontrou modelos convnext. Carregando...\n",
      "encontrou modelos mobilenet. Carregando...\n",
      "encontrou modelos vgg16. Carregando...\n",
      "encontrou modelos resnet50. Carregando...\n",
      "encontrou modelos osnet. Carregando...\n",
      "encontrou modelos densenet121. Carregando...\n",
      "###============ Iteration number 58/90 ============###\n",
      "Extracting Online Features for efficientnet ...\n",
      "Features extracted in 172.63 seconds\n",
      "Computing jaccard distance...\n"
     ]
    },
    {
     "name": "stderr",
     "output_type": "stream",
     "text": [
      "bruteForceKnn is deprecated; call bfKnn instead\n"
     ]
    },
    {
     "name": "stdout",
     "output_type": "stream",
     "text": [
      "Jaccard distance computing time cost: 83.4223861694336\n",
      "Extracting Online Features for convnext ...\n",
      "Features extracted in 179.87 seconds\n",
      "Computing jaccard distance...\n"
     ]
    },
    {
     "name": "stderr",
     "output_type": "stream",
     "text": [
      "bruteForceKnn is deprecated; call bfKnn instead\n"
     ]
    },
    {
     "name": "stdout",
     "output_type": "stream",
     "text": [
      "Jaccard distance computing time cost: 83.25496125221252\n",
      "Extracting Online Features for mobilenet ...\n",
      "Features extracted in 169.15 seconds\n",
      "Computing jaccard distance...\n"
     ]
    },
    {
     "name": "stderr",
     "output_type": "stream",
     "text": [
      "bruteForceKnn is deprecated; call bfKnn instead\n"
     ]
    },
    {
     "name": "stdout",
     "output_type": "stream",
     "text": [
      "Jaccard distance computing time cost: 83.94768524169922\n",
      "Extracting Online Features for vgg16 ...\n",
      "Features extracted in 170.35 seconds\n",
      "Computing jaccard distance...\n"
     ]
    },
    {
     "name": "stderr",
     "output_type": "stream",
     "text": [
      "bruteForceKnn is deprecated; call bfKnn instead\n"
     ]
    },
    {
     "name": "stdout",
     "output_type": "stream",
     "text": [
      "Jaccard distance computing time cost: 77.01328349113464\n",
      "Extracting Online Features for resnet50 ...\n",
      "Features extracted in 168.22 seconds\n",
      "Computing jaccard distance...\n"
     ]
    },
    {
     "name": "stderr",
     "output_type": "stream",
     "text": [
      "bruteForceKnn is deprecated; call bfKnn instead\n"
     ]
    },
    {
     "name": "stdout",
     "output_type": "stream",
     "text": [
      "Jaccard distance computing time cost: 89.80654811859131\n",
      "Extracting Online Features for osnet ...\n",
      "Features extracted in 172.33 seconds\n",
      "Computing jaccard distance...\n"
     ]
    },
    {
     "name": "stderr",
     "output_type": "stream",
     "text": [
      "bruteForceKnn is deprecated; call bfKnn instead\n"
     ]
    },
    {
     "name": "stdout",
     "output_type": "stream",
     "text": [
      "Jaccard distance computing time cost: 81.9535276889801\n",
      "Extracting Online Features for densenet121 ...\n",
      "Features extracted in 178.70 seconds\n",
      "Computing jaccard distance...\n"
     ]
    },
    {
     "name": "stderr",
     "output_type": "stream",
     "text": [
      "bruteForceKnn is deprecated; call bfKnn instead\n"
     ]
    },
    {
     "name": "stdout",
     "output_type": "stream",
     "text": [
      "Jaccard distance computing time cost: 80.77431297302246\n",
      "Reliability: 0.994\n",
      "\u001b[32mMean Purity: 0.01644\u001b[0m\n",
      "\u001b[34mThere are 2 clusters with 4 cameras\u001b[0m\n",
      "\u001b[34mThere are 3 clusters with 5 cameras\u001b[0m\n",
      "\u001b[34mThere are 2 clusters with 6 cameras\u001b[0m\n",
      "\u001b[34mThere are 2 clusters with 7 cameras\u001b[0m\n",
      "\u001b[34mThere are 2 clusters with 9 cameras\u001b[0m\n",
      "\u001b[34mThere are 1 clusters with 11 cameras\u001b[0m\n",
      "\u001b[34mThere are 1 clusters with 12 cameras\u001b[0m\n",
      "\u001b[34mThere are 1 clusters with 16 cameras\u001b[0m\n",
      "\u001b[34mThere are 1 clusters with 17 cameras\u001b[0m\n",
      "\u001b[34mThere are 1 clusters with 19 cameras\u001b[0m\n",
      "\u001b[34mThere are 1 clusters with 27 cameras\u001b[0m\n",
      "\u001b[34mThere are 1 clusters with 31 cameras\u001b[0m\n",
      "\u001b[34mThere are 1 clusters with 32 cameras\u001b[0m\n",
      "\u001b[34mThere are 1 clusters with 41 cameras\u001b[0m\n",
      "\u001b[34mThere are 1 clusters with 45 cameras\u001b[0m\n",
      "\u001b[34mThere are 1 clusters with 47 cameras\u001b[0m\n",
      "\u001b[34mThere are 1 clusters with 52 cameras\u001b[0m\n",
      "\u001b[34mThere are 1 clusters with 53 cameras\u001b[0m\n",
      "\u001b[34mThere are 2 clusters with 54 cameras\u001b[0m\n",
      "\u001b[34mThere are 1 clusters with 56 cameras\u001b[0m\n",
      "\u001b[34mThere are 3 clusters with 57 cameras\u001b[0m\n",
      "\u001b[34mThere are 1 clusters with 58 cameras\u001b[0m\n",
      "\u001b[34mThere are 6 clusters with 59 cameras\u001b[0m\n",
      "\u001b[34mThere are 9 clusters with 60 cameras\u001b[0m\n",
      "\u001b[34mThere are 13 clusters with 61 cameras\u001b[0m\n",
      "\u001b[34mThere are 26 clusters with 62 cameras\u001b[0m\n",
      "\u001b[34mThere are 36 clusters with 63 cameras\u001b[0m\n",
      "\u001b[34mThere are 461 clusters with 64 cameras\u001b[0m\n",
      "\u001b[34mThere are 1 clusters with 90 cameras\u001b[0m\n",
      "\u001b[34mThere are 1 clusters with 119 cameras\u001b[0m\n",
      "\u001b[34mThere are 1 clusters with 120 cameras\u001b[0m\n",
      "\u001b[34mThere are 1 clusters with 122 cameras\u001b[0m\n",
      "\u001b[34mThere are 1 clusters with 123 cameras\u001b[0m\n",
      "\u001b[34mThere are 2 clusters with 125 cameras\u001b[0m\n",
      "\u001b[34mThere are 2 clusters with 126 cameras\u001b[0m\n",
      "\u001b[34mThere are 1 clusters with 127 cameras\u001b[0m\n",
      "\u001b[34mThere are 8 clusters with 128 cameras\u001b[0m\n",
      "Number of classes: 600\n",
      "\u001b[36mLearning Rate: 0.000350\u001b[0m\n",
      "encontrou modelos efficientnet. Carregando...\n",
      "encontrou modelos convnext. Carregando...\n",
      "encontrou modelos mobilenet. Carregando...\n",
      "encontrou modelos vgg16. Carregando...\n",
      "encontrou modelos resnet50. Carregando...\n",
      "encontrou modelos osnet. Carregando...\n",
      "encontrou modelos densenet121. Carregando...\n",
      "###============ Iteration number 59/90 ============###\n",
      "Extracting Online Features for efficientnet ...\n",
      "Features extracted in 173.07 seconds\n",
      "Computing jaccard distance...\n"
     ]
    },
    {
     "name": "stderr",
     "output_type": "stream",
     "text": [
      "bruteForceKnn is deprecated; call bfKnn instead\n"
     ]
    },
    {
     "name": "stdout",
     "output_type": "stream",
     "text": [
      "Jaccard distance computing time cost: 78.71962881088257\n",
      "Extracting Online Features for convnext ...\n",
      "Features extracted in 174.30 seconds\n",
      "Computing jaccard distance...\n"
     ]
    },
    {
     "name": "stderr",
     "output_type": "stream",
     "text": [
      "bruteForceKnn is deprecated; call bfKnn instead\n"
     ]
    },
    {
     "name": "stdout",
     "output_type": "stream",
     "text": [
      "Jaccard distance computing time cost: 80.2338502407074\n",
      "Extracting Online Features for mobilenet ...\n",
      "Features extracted in 177.32 seconds\n",
      "Computing jaccard distance...\n"
     ]
    },
    {
     "name": "stderr",
     "output_type": "stream",
     "text": [
      "bruteForceKnn is deprecated; call bfKnn instead\n"
     ]
    },
    {
     "name": "stdout",
     "output_type": "stream",
     "text": [
      "Jaccard distance computing time cost: 84.7679193019867\n",
      "Extracting Online Features for vgg16 ...\n",
      "Features extracted in 180.10 seconds\n",
      "Computing jaccard distance...\n"
     ]
    },
    {
     "name": "stderr",
     "output_type": "stream",
     "text": [
      "bruteForceKnn is deprecated; call bfKnn instead\n"
     ]
    },
    {
     "name": "stdout",
     "output_type": "stream",
     "text": [
      "Jaccard distance computing time cost: 77.8260293006897\n",
      "Extracting Online Features for resnet50 ...\n",
      "Features extracted in 173.41 seconds\n",
      "Computing jaccard distance...\n"
     ]
    },
    {
     "name": "stderr",
     "output_type": "stream",
     "text": [
      "bruteForceKnn is deprecated; call bfKnn instead\n"
     ]
    },
    {
     "name": "stdout",
     "output_type": "stream",
     "text": [
      "Jaccard distance computing time cost: 82.31774568557739\n",
      "Extracting Online Features for osnet ...\n",
      "Features extracted in 173.90 seconds\n",
      "Computing jaccard distance...\n"
     ]
    },
    {
     "name": "stderr",
     "output_type": "stream",
     "text": [
      "bruteForceKnn is deprecated; call bfKnn instead\n"
     ]
    },
    {
     "name": "stdout",
     "output_type": "stream",
     "text": [
      "Jaccard distance computing time cost: 80.98844742774963\n",
      "Extracting Online Features for densenet121 ...\n",
      "Features extracted in 175.27 seconds\n",
      "Computing jaccard distance...\n"
     ]
    },
    {
     "name": "stderr",
     "output_type": "stream",
     "text": [
      "bruteForceKnn is deprecated; call bfKnn instead\n"
     ]
    },
    {
     "name": "stdout",
     "output_type": "stream",
     "text": [
      "Jaccard distance computing time cost: 79.60181903839111\n",
      "Reliability: 0.994\n",
      "\u001b[32mMean Purity: 0.01644\u001b[0m\n",
      "\u001b[34mThere are 2 clusters with 4 cameras\u001b[0m\n",
      "\u001b[34mThere are 3 clusters with 5 cameras\u001b[0m\n",
      "\u001b[34mThere are 2 clusters with 6 cameras\u001b[0m\n",
      "\u001b[34mThere are 2 clusters with 7 cameras\u001b[0m\n",
      "\u001b[34mThere are 2 clusters with 9 cameras\u001b[0m\n",
      "\u001b[34mThere are 1 clusters with 11 cameras\u001b[0m\n",
      "\u001b[34mThere are 1 clusters with 12 cameras\u001b[0m\n",
      "\u001b[34mThere are 1 clusters with 16 cameras\u001b[0m\n",
      "\u001b[34mThere are 1 clusters with 17 cameras\u001b[0m\n",
      "\u001b[34mThere are 1 clusters with 19 cameras\u001b[0m\n",
      "\u001b[34mThere are 1 clusters with 27 cameras\u001b[0m\n",
      "\u001b[34mThere are 1 clusters with 31 cameras\u001b[0m\n",
      "\u001b[34mThere are 1 clusters with 32 cameras\u001b[0m\n",
      "\u001b[34mThere are 1 clusters with 41 cameras\u001b[0m\n",
      "\u001b[34mThere are 1 clusters with 45 cameras\u001b[0m\n",
      "\u001b[34mThere are 1 clusters with 47 cameras\u001b[0m\n",
      "\u001b[34mThere are 1 clusters with 52 cameras\u001b[0m\n",
      "\u001b[34mThere are 1 clusters with 53 cameras\u001b[0m\n",
      "\u001b[34mThere are 2 clusters with 54 cameras\u001b[0m\n",
      "\u001b[34mThere are 1 clusters with 56 cameras\u001b[0m\n",
      "\u001b[34mThere are 3 clusters with 57 cameras\u001b[0m\n",
      "\u001b[34mThere are 1 clusters with 58 cameras\u001b[0m\n",
      "\u001b[34mThere are 6 clusters with 59 cameras\u001b[0m\n",
      "\u001b[34mThere are 9 clusters with 60 cameras\u001b[0m\n",
      "\u001b[34mThere are 13 clusters with 61 cameras\u001b[0m\n",
      "\u001b[34mThere are 26 clusters with 62 cameras\u001b[0m\n",
      "\u001b[34mThere are 36 clusters with 63 cameras\u001b[0m\n",
      "\u001b[34mThere are 461 clusters with 64 cameras\u001b[0m\n",
      "\u001b[34mThere are 1 clusters with 90 cameras\u001b[0m\n",
      "\u001b[34mThere are 1 clusters with 119 cameras\u001b[0m\n",
      "\u001b[34mThere are 1 clusters with 120 cameras\u001b[0m\n",
      "\u001b[34mThere are 1 clusters with 122 cameras\u001b[0m\n",
      "\u001b[34mThere are 1 clusters with 123 cameras\u001b[0m\n",
      "\u001b[34mThere are 2 clusters with 125 cameras\u001b[0m\n",
      "\u001b[34mThere are 2 clusters with 126 cameras\u001b[0m\n",
      "\u001b[34mThere are 1 clusters with 127 cameras\u001b[0m\n",
      "\u001b[34mThere are 8 clusters with 128 cameras\u001b[0m\n",
      "Number of classes: 600\n",
      "\u001b[36mLearning Rate: 0.000350\u001b[0m\n",
      "encontrou modelos efficientnet. Carregando...\n",
      "encontrou modelos convnext. Carregando...\n",
      "encontrou modelos mobilenet. Carregando...\n",
      "encontrou modelos vgg16. Carregando...\n",
      "encontrou modelos resnet50. Carregando...\n",
      "encontrou modelos osnet. Carregando...\n",
      "encontrou modelos densenet121. Carregando...\n",
      "###============ Iteration number 60/90 ============###\n",
      "Extracting Online Features for efficientnet ...\n",
      "Features extracted in 178.50 seconds\n",
      "Computing jaccard distance...\n"
     ]
    },
    {
     "name": "stderr",
     "output_type": "stream",
     "text": [
      "bruteForceKnn is deprecated; call bfKnn instead\n"
     ]
    },
    {
     "name": "stdout",
     "output_type": "stream",
     "text": [
      "Jaccard distance computing time cost: 79.74402451515198\n",
      "Extracting Online Features for convnext ...\n",
      "Features extracted in 171.66 seconds\n",
      "Computing jaccard distance...\n"
     ]
    },
    {
     "name": "stderr",
     "output_type": "stream",
     "text": [
      "bruteForceKnn is deprecated; call bfKnn instead\n"
     ]
    },
    {
     "name": "stdout",
     "output_type": "stream",
     "text": [
      "Jaccard distance computing time cost: 80.14538025856018\n",
      "Extracting Online Features for mobilenet ...\n",
      "Features extracted in 171.34 seconds\n",
      "Computing jaccard distance...\n"
     ]
    },
    {
     "name": "stderr",
     "output_type": "stream",
     "text": [
      "bruteForceKnn is deprecated; call bfKnn instead\n"
     ]
    },
    {
     "name": "stdout",
     "output_type": "stream",
     "text": [
      "Jaccard distance computing time cost: 75.48418807983398\n",
      "Extracting Online Features for vgg16 ...\n",
      "Features extracted in 176.90 seconds\n",
      "Computing jaccard distance...\n"
     ]
    },
    {
     "name": "stderr",
     "output_type": "stream",
     "text": [
      "bruteForceKnn is deprecated; call bfKnn instead\n"
     ]
    },
    {
     "name": "stdout",
     "output_type": "stream",
     "text": [
      "Jaccard distance computing time cost: 79.45351314544678\n",
      "Extracting Online Features for resnet50 ...\n",
      "Features extracted in 172.06 seconds\n",
      "Computing jaccard distance...\n"
     ]
    },
    {
     "name": "stderr",
     "output_type": "stream",
     "text": [
      "bruteForceKnn is deprecated; call bfKnn instead\n"
     ]
    },
    {
     "name": "stdout",
     "output_type": "stream",
     "text": [
      "Jaccard distance computing time cost: 77.84153437614441\n",
      "Extracting Online Features for osnet ...\n",
      "Features extracted in 172.92 seconds\n",
      "Computing jaccard distance...\n"
     ]
    },
    {
     "name": "stderr",
     "output_type": "stream",
     "text": [
      "bruteForceKnn is deprecated; call bfKnn instead\n"
     ]
    },
    {
     "name": "stdout",
     "output_type": "stream",
     "text": [
      "Jaccard distance computing time cost: 75.38331699371338\n",
      "Extracting Online Features for densenet121 ...\n",
      "Features extracted in 174.93 seconds\n",
      "Computing jaccard distance...\n"
     ]
    },
    {
     "name": "stderr",
     "output_type": "stream",
     "text": [
      "bruteForceKnn is deprecated; call bfKnn instead\n"
     ]
    },
    {
     "name": "stdout",
     "output_type": "stream",
     "text": [
      "Jaccard distance computing time cost: 80.89019656181335\n",
      "Reliability: 0.994\n",
      "\u001b[32mMean Purity: 0.01644\u001b[0m\n",
      "\u001b[34mThere are 2 clusters with 4 cameras\u001b[0m\n",
      "\u001b[34mThere are 3 clusters with 5 cameras\u001b[0m\n",
      "\u001b[34mThere are 2 clusters with 6 cameras\u001b[0m\n",
      "\u001b[34mThere are 2 clusters with 7 cameras\u001b[0m\n",
      "\u001b[34mThere are 2 clusters with 9 cameras\u001b[0m\n",
      "\u001b[34mThere are 1 clusters with 11 cameras\u001b[0m\n",
      "\u001b[34mThere are 1 clusters with 12 cameras\u001b[0m\n",
      "\u001b[34mThere are 1 clusters with 16 cameras\u001b[0m\n",
      "\u001b[34mThere are 1 clusters with 17 cameras\u001b[0m\n",
      "\u001b[34mThere are 1 clusters with 19 cameras\u001b[0m\n",
      "\u001b[34mThere are 1 clusters with 27 cameras\u001b[0m\n",
      "\u001b[34mThere are 1 clusters with 31 cameras\u001b[0m\n",
      "\u001b[34mThere are 1 clusters with 32 cameras\u001b[0m\n",
      "\u001b[34mThere are 1 clusters with 41 cameras\u001b[0m\n",
      "\u001b[34mThere are 1 clusters with 45 cameras\u001b[0m\n",
      "\u001b[34mThere are 1 clusters with 47 cameras\u001b[0m\n",
      "\u001b[34mThere are 1 clusters with 52 cameras\u001b[0m\n",
      "\u001b[34mThere are 1 clusters with 53 cameras\u001b[0m\n",
      "\u001b[34mThere are 2 clusters with 54 cameras\u001b[0m\n",
      "\u001b[34mThere are 1 clusters with 56 cameras\u001b[0m\n",
      "\u001b[34mThere are 3 clusters with 57 cameras\u001b[0m\n",
      "\u001b[34mThere are 1 clusters with 58 cameras\u001b[0m\n",
      "\u001b[34mThere are 6 clusters with 59 cameras\u001b[0m\n",
      "\u001b[34mThere are 9 clusters with 60 cameras\u001b[0m\n",
      "\u001b[34mThere are 13 clusters with 61 cameras\u001b[0m\n",
      "\u001b[34mThere are 26 clusters with 62 cameras\u001b[0m\n",
      "\u001b[34mThere are 36 clusters with 63 cameras\u001b[0m\n",
      "\u001b[34mThere are 461 clusters with 64 cameras\u001b[0m\n",
      "\u001b[34mThere are 1 clusters with 90 cameras\u001b[0m\n",
      "\u001b[34mThere are 1 clusters with 119 cameras\u001b[0m\n",
      "\u001b[34mThere are 1 clusters with 120 cameras\u001b[0m\n",
      "\u001b[34mThere are 1 clusters with 122 cameras\u001b[0m\n",
      "\u001b[34mThere are 1 clusters with 123 cameras\u001b[0m\n",
      "\u001b[34mThere are 2 clusters with 125 cameras\u001b[0m\n",
      "\u001b[34mThere are 2 clusters with 126 cameras\u001b[0m\n",
      "\u001b[34mThere are 1 clusters with 127 cameras\u001b[0m\n",
      "\u001b[34mThere are 8 clusters with 128 cameras\u001b[0m\n",
      "Number of classes: 600\n",
      "\u001b[36mLearning Rate: 0.000350\u001b[0m\n",
      "encontrou modelos efficientnet. Carregando...\n",
      "encontrou modelos convnext. Carregando...\n",
      "encontrou modelos mobilenet. Carregando...\n",
      "encontrou modelos vgg16. Carregando...\n",
      "encontrou modelos resnet50. Carregando...\n",
      "encontrou modelos osnet. Carregando...\n",
      "encontrou modelos densenet121. Carregando...\n",
      "\u001b[33mValidating online efficientnet ...\u001b[0m\n",
      "Features extracted in 53.28 seconds\n",
      "Features extracted in 111.99 seconds\n",
      "Computing CMC and mAP ...\n",
      "** Results **\n",
      "mAP: 69.91%\n",
      "CMC curve\n",
      "Rank-1  : 73.59%\n",
      "Rank-5  : 94.54%\n",
      "Rank-10 : 97.70%\n",
      "Rank-20 : 99.20%\n",
      "\u001b[33mValidating momentum efficientnet ...\u001b[0m\n",
      "Features extracted in 53.43 seconds\n",
      "Features extracted in 111.30 seconds\n",
      "Computing CMC and mAP ...\n",
      "** Results **\n",
      "mAP: 70.66%\n",
      "CMC curve\n",
      "Rank-1  : 76.80%\n",
      "Rank-5  : 93.39%\n",
      "Rank-10 : 96.79%\n",
      "Rank-20 : 98.68%\n",
      "\u001b[33mValidating online convnext ...\u001b[0m\n",
      "Features extracted in 58.83 seconds\n",
      "Features extracted in 111.05 seconds\n",
      "Computing CMC and mAP ...\n",
      "** Results **\n",
      "mAP: 70.08%\n",
      "CMC curve\n",
      "Rank-1  : 75.63%\n",
      "Rank-5  : 92.61%\n",
      "Rank-10 : 96.93%\n",
      "Rank-20 : 99.29%\n",
      "\u001b[33mValidating momentum convnext ...\u001b[0m\n",
      "Features extracted in 54.66 seconds\n",
      "Features extracted in 114.30 seconds\n",
      "Computing CMC and mAP ...\n",
      "** Results **\n",
      "mAP: 70.46%\n",
      "CMC curve\n",
      "Rank-1  : 77.49%\n",
      "Rank-5  : 93.71%\n",
      "Rank-10 : 96.84%\n",
      "Rank-20 : 98.71%\n",
      "\u001b[33mValidating online mobilenet ...\u001b[0m\n",
      "Features extracted in 55.32 seconds\n",
      "Features extracted in 111.45 seconds\n",
      "Computing CMC and mAP ...\n",
      "** Results **\n",
      "mAP: 71.39%\n",
      "CMC curve\n",
      "Rank-1  : 81.53%\n",
      "Rank-5  : 95.41%\n",
      "Rank-10 : 98.02%\n",
      "Rank-20 : 99.18%\n",
      "\u001b[33mValidating momentum mobilenet ...\u001b[0m\n",
      "Features extracted in 53.61 seconds\n",
      "Features extracted in 109.48 seconds\n",
      "Computing CMC and mAP ...\n",
      "** Results **\n",
      "mAP: 70.86%\n",
      "CMC curve\n",
      "Rank-1  : 78.95%\n",
      "Rank-5  : 93.89%\n",
      "Rank-10 : 97.47%\n",
      "Rank-20 : 99.27%\n",
      "\u001b[33mValidating online vgg16 ...\u001b[0m\n",
      "Features extracted in 54.20 seconds\n",
      "Features extracted in 110.79 seconds\n",
      "Computing CMC and mAP ...\n",
      "** Results **\n",
      "mAP: 69.67%\n",
      "CMC curve\n",
      "Rank-1  : 74.49%\n",
      "Rank-5  : 92.27%\n",
      "Rank-10 : 96.56%\n",
      "Rank-20 : 99.05%\n",
      "\u001b[33mValidating momentum vgg16 ...\u001b[0m\n",
      "Features extracted in 66.38 seconds\n",
      "Features extracted in 111.41 seconds\n",
      "Computing CMC and mAP ...\n",
      "** Results **\n",
      "mAP: 69.72%\n",
      "CMC curve\n",
      "Rank-1  : 75.80%\n",
      "Rank-5  : 92.91%\n",
      "Rank-10 : 97.25%\n",
      "Rank-20 : 99.09%\n",
      "\u001b[33mValidating online resnet50 ...\u001b[0m\n",
      "Features extracted in 53.08 seconds\n",
      "Features extracted in 113.55 seconds\n",
      "Computing CMC and mAP ...\n",
      "** Results **\n",
      "mAP: 69.64%\n",
      "CMC curve\n",
      "Rank-1  : 70.07%\n",
      "Rank-5  : 91.28%\n",
      "Rank-10 : 96.04%\n",
      "Rank-20 : 98.68%\n",
      "\u001b[33mValidating momentum resnet50 ...\u001b[0m\n",
      "Features extracted in 55.62 seconds\n",
      "Features extracted in 110.90 seconds\n",
      "Computing CMC and mAP ...\n",
      "** Results **\n",
      "mAP: 70.02%\n",
      "CMC curve\n",
      "Rank-1  : 73.39%\n",
      "Rank-5  : 93.49%\n",
      "Rank-10 : 97.50%\n",
      "Rank-20 : 99.37%\n",
      "\u001b[33mValidating online osnet ...\u001b[0m\n",
      "Features extracted in 58.49 seconds\n",
      "Features extracted in 117.90 seconds\n",
      "Computing CMC and mAP ...\n",
      "** Results **\n",
      "mAP: 68.61%\n",
      "CMC curve\n",
      "Rank-1  : 73.02%\n",
      "Rank-5  : 95.04%\n",
      "Rank-10 : 98.36%\n",
      "Rank-20 : 99.48%\n",
      "\u001b[33mValidating momentum osnet ...\u001b[0m\n",
      "Features extracted in 57.28 seconds\n",
      "Features extracted in 112.41 seconds\n",
      "Computing CMC and mAP ...\n",
      "** Results **\n",
      "mAP: 69.41%\n",
      "CMC curve\n",
      "Rank-1  : 73.33%\n",
      "Rank-5  : 93.05%\n",
      "Rank-10 : 97.14%\n",
      "Rank-20 : 99.12%\n",
      "\u001b[33mValidating online densenet121 ...\u001b[0m\n",
      "Features extracted in 55.63 seconds\n",
      "Features extracted in 115.42 seconds\n",
      "Computing CMC and mAP ...\n",
      "** Results **\n",
      "mAP: 70.12%\n",
      "CMC curve\n",
      "Rank-1  : 75.15%\n",
      "Rank-5  : 92.89%\n",
      "Rank-10 : 97.00%\n",
      "Rank-20 : 98.95%\n",
      "\u001b[33mValidating momentum densenet121 ...\u001b[0m\n",
      "Features extracted in 55.44 seconds\n",
      "Features extracted in 115.05 seconds\n",
      "Computing CMC and mAP ...\n",
      "** Results **\n",
      "mAP: 69.53%\n",
      "CMC curve\n",
      "Rank-1  : 75.91%\n",
      "Rank-5  : 93.33%\n",
      "Rank-10 : 97.31%\n",
      "Rank-20 : 99.25%\n",
      "\u001b[33mValidating ensembled with online models ...\u001b[0m\n",
      "Computing CMC and mAP ...\n",
      "** Results **\n",
      "mAP: 71.17%\n",
      "Ranks:\n",
      "Rank-1  : 78.73%\n",
      "Rank-5  : 92.94%\n",
      "Rank-10 : 96.83%\n",
      "\u001b[33mValidating ensembled with momentum models ...\u001b[0m\n",
      "Computing CMC and mAP ...\n",
      "** Results **\n",
      "mAP: 71.11%\n",
      "Ranks:\n",
      "Rank-1  : 79.83%\n",
      "Rank-5  : 92.92%\n",
      "Rank-10 : 96.74%\n",
      "###============ Iteration number 61/90 ============###\n",
      "Extracting Online Features for efficientnet ...\n",
      "Features extracted in 173.48 seconds\n",
      "Computing jaccard distance...\n"
     ]
    },
    {
     "name": "stderr",
     "output_type": "stream",
     "text": [
      "bruteForceKnn is deprecated; call bfKnn instead\n"
     ]
    },
    {
     "name": "stdout",
     "output_type": "stream",
     "text": [
      "Jaccard distance computing time cost: 82.28773546218872\n",
      "Extracting Online Features for convnext ...\n",
      "Features extracted in 183.33 seconds\n",
      "Computing jaccard distance...\n"
     ]
    },
    {
     "name": "stderr",
     "output_type": "stream",
     "text": [
      "bruteForceKnn is deprecated; call bfKnn instead\n"
     ]
    },
    {
     "name": "stdout",
     "output_type": "stream",
     "text": [
      "Jaccard distance computing time cost: 78.37175941467285\n",
      "Extracting Online Features for mobilenet ...\n",
      "Features extracted in 175.77 seconds\n",
      "Computing jaccard distance...\n"
     ]
    },
    {
     "name": "stderr",
     "output_type": "stream",
     "text": [
      "bruteForceKnn is deprecated; call bfKnn instead\n"
     ]
    },
    {
     "name": "stdout",
     "output_type": "stream",
     "text": [
      "Jaccard distance computing time cost: 75.50831532478333\n",
      "Extracting Online Features for vgg16 ...\n",
      "Features extracted in 171.76 seconds\n",
      "Computing jaccard distance...\n"
     ]
    },
    {
     "name": "stderr",
     "output_type": "stream",
     "text": [
      "bruteForceKnn is deprecated; call bfKnn instead\n"
     ]
    },
    {
     "name": "stdout",
     "output_type": "stream",
     "text": [
      "Jaccard distance computing time cost: 74.38496422767639\n",
      "Extracting Online Features for resnet50 ...\n",
      "Features extracted in 171.75 seconds\n",
      "Computing jaccard distance...\n"
     ]
    },
    {
     "name": "stderr",
     "output_type": "stream",
     "text": [
      "bruteForceKnn is deprecated; call bfKnn instead\n"
     ]
    },
    {
     "name": "stdout",
     "output_type": "stream",
     "text": [
      "Jaccard distance computing time cost: 80.77645421028137\n",
      "Extracting Online Features for osnet ...\n",
      "Features extracted in 171.38 seconds\n",
      "Computing jaccard distance...\n"
     ]
    },
    {
     "name": "stderr",
     "output_type": "stream",
     "text": [
      "bruteForceKnn is deprecated; call bfKnn instead\n"
     ]
    },
    {
     "name": "stdout",
     "output_type": "stream",
     "text": [
      "Jaccard distance computing time cost: 74.94095039367676\n",
      "Extracting Online Features for densenet121 ...\n",
      "Features extracted in 178.73 seconds\n",
      "Computing jaccard distance...\n"
     ]
    },
    {
     "name": "stderr",
     "output_type": "stream",
     "text": [
      "bruteForceKnn is deprecated; call bfKnn instead\n"
     ]
    },
    {
     "name": "stdout",
     "output_type": "stream",
     "text": [
      "Jaccard distance computing time cost: 81.2758629322052\n",
      "Reliability: 0.994\n",
      "\u001b[32mMean Purity: 0.01644\u001b[0m\n",
      "\u001b[34mThere are 2 clusters with 4 cameras\u001b[0m\n",
      "\u001b[34mThere are 3 clusters with 5 cameras\u001b[0m\n",
      "\u001b[34mThere are 2 clusters with 6 cameras\u001b[0m\n",
      "\u001b[34mThere are 2 clusters with 7 cameras\u001b[0m\n",
      "\u001b[34mThere are 2 clusters with 9 cameras\u001b[0m\n",
      "\u001b[34mThere are 1 clusters with 11 cameras\u001b[0m\n",
      "\u001b[34mThere are 1 clusters with 12 cameras\u001b[0m\n",
      "\u001b[34mThere are 1 clusters with 16 cameras\u001b[0m\n",
      "\u001b[34mThere are 1 clusters with 17 cameras\u001b[0m\n",
      "\u001b[34mThere are 1 clusters with 19 cameras\u001b[0m\n",
      "\u001b[34mThere are 1 clusters with 27 cameras\u001b[0m\n",
      "\u001b[34mThere are 1 clusters with 31 cameras\u001b[0m\n",
      "\u001b[34mThere are 1 clusters with 32 cameras\u001b[0m\n",
      "\u001b[34mThere are 1 clusters with 41 cameras\u001b[0m\n",
      "\u001b[34mThere are 1 clusters with 45 cameras\u001b[0m\n",
      "\u001b[34mThere are 1 clusters with 47 cameras\u001b[0m\n",
      "\u001b[34mThere are 1 clusters with 52 cameras\u001b[0m\n",
      "\u001b[34mThere are 1 clusters with 53 cameras\u001b[0m\n",
      "\u001b[34mThere are 2 clusters with 54 cameras\u001b[0m\n",
      "\u001b[34mThere are 1 clusters with 56 cameras\u001b[0m\n",
      "\u001b[34mThere are 3 clusters with 57 cameras\u001b[0m\n",
      "\u001b[34mThere are 1 clusters with 58 cameras\u001b[0m\n",
      "\u001b[34mThere are 6 clusters with 59 cameras\u001b[0m\n",
      "\u001b[34mThere are 9 clusters with 60 cameras\u001b[0m\n",
      "\u001b[34mThere are 13 clusters with 61 cameras\u001b[0m\n",
      "\u001b[34mThere are 26 clusters with 62 cameras\u001b[0m\n",
      "\u001b[34mThere are 36 clusters with 63 cameras\u001b[0m\n",
      "\u001b[34mThere are 461 clusters with 64 cameras\u001b[0m\n",
      "\u001b[34mThere are 1 clusters with 90 cameras\u001b[0m\n",
      "\u001b[34mThere are 1 clusters with 119 cameras\u001b[0m\n",
      "\u001b[34mThere are 1 clusters with 120 cameras\u001b[0m\n",
      "\u001b[34mThere are 1 clusters with 122 cameras\u001b[0m\n",
      "\u001b[34mThere are 1 clusters with 123 cameras\u001b[0m\n",
      "\u001b[34mThere are 2 clusters with 125 cameras\u001b[0m\n",
      "\u001b[34mThere are 2 clusters with 126 cameras\u001b[0m\n",
      "\u001b[34mThere are 1 clusters with 127 cameras\u001b[0m\n",
      "\u001b[34mThere are 8 clusters with 128 cameras\u001b[0m\n",
      "Number of classes: 600\n",
      "\u001b[36mLearning Rate: 0.000350\u001b[0m\n",
      "encontrou modelos efficientnet. Carregando...\n",
      "encontrou modelos convnext. Carregando...\n",
      "encontrou modelos mobilenet. Carregando...\n",
      "encontrou modelos vgg16. Carregando...\n",
      "encontrou modelos resnet50. Carregando...\n",
      "encontrou modelos osnet. Carregando...\n",
      "encontrou modelos densenet121. Carregando...\n",
      "###============ Iteration number 62/90 ============###\n",
      "Extracting Online Features for efficientnet ...\n",
      "Features extracted in 174.23 seconds\n",
      "Computing jaccard distance...\n"
     ]
    },
    {
     "name": "stderr",
     "output_type": "stream",
     "text": [
      "bruteForceKnn is deprecated; call bfKnn instead\n"
     ]
    },
    {
     "name": "stdout",
     "output_type": "stream",
     "text": [
      "Jaccard distance computing time cost: 79.98285031318665\n",
      "Extracting Online Features for convnext ...\n",
      "Features extracted in 176.18 seconds\n",
      "Computing jaccard distance...\n"
     ]
    },
    {
     "name": "stderr",
     "output_type": "stream",
     "text": [
      "bruteForceKnn is deprecated; call bfKnn instead\n"
     ]
    },
    {
     "name": "stdout",
     "output_type": "stream",
     "text": [
      "Jaccard distance computing time cost: 78.76529026031494\n",
      "Extracting Online Features for mobilenet ...\n",
      "Features extracted in 172.46 seconds\n",
      "Computing jaccard distance...\n"
     ]
    },
    {
     "name": "stderr",
     "output_type": "stream",
     "text": [
      "bruteForceKnn is deprecated; call bfKnn instead\n"
     ]
    },
    {
     "name": "stdout",
     "output_type": "stream",
     "text": [
      "Jaccard distance computing time cost: 86.46442985534668\n",
      "Extracting Online Features for vgg16 ...\n",
      "Features extracted in 176.00 seconds\n",
      "Computing jaccard distance...\n"
     ]
    },
    {
     "name": "stderr",
     "output_type": "stream",
     "text": [
      "bruteForceKnn is deprecated; call bfKnn instead\n"
     ]
    },
    {
     "name": "stdout",
     "output_type": "stream",
     "text": [
      "Jaccard distance computing time cost: 77.14053869247437\n",
      "Extracting Online Features for resnet50 ...\n",
      "Features extracted in 173.42 seconds\n",
      "Computing jaccard distance...\n"
     ]
    },
    {
     "name": "stderr",
     "output_type": "stream",
     "text": [
      "bruteForceKnn is deprecated; call bfKnn instead\n"
     ]
    },
    {
     "name": "stdout",
     "output_type": "stream",
     "text": [
      "Jaccard distance computing time cost: 80.65002965927124\n",
      "Extracting Online Features for osnet ...\n",
      "Features extracted in 174.89 seconds\n",
      "Computing jaccard distance...\n"
     ]
    },
    {
     "name": "stderr",
     "output_type": "stream",
     "text": [
      "bruteForceKnn is deprecated; call bfKnn instead\n"
     ]
    },
    {
     "name": "stdout",
     "output_type": "stream",
     "text": [
      "Jaccard distance computing time cost: 77.96580410003662\n",
      "Extracting Online Features for densenet121 ...\n",
      "Features extracted in 177.68 seconds\n",
      "Computing jaccard distance...\n"
     ]
    },
    {
     "name": "stderr",
     "output_type": "stream",
     "text": [
      "bruteForceKnn is deprecated; call bfKnn instead\n"
     ]
    },
    {
     "name": "stdout",
     "output_type": "stream",
     "text": [
      "Jaccard distance computing time cost: 78.32409644126892\n",
      "Reliability: 0.994\n",
      "\u001b[32mMean Purity: 0.01644\u001b[0m\n",
      "\u001b[34mThere are 2 clusters with 4 cameras\u001b[0m\n",
      "\u001b[34mThere are 3 clusters with 5 cameras\u001b[0m\n",
      "\u001b[34mThere are 2 clusters with 6 cameras\u001b[0m\n",
      "\u001b[34mThere are 2 clusters with 7 cameras\u001b[0m\n",
      "\u001b[34mThere are 2 clusters with 9 cameras\u001b[0m\n",
      "\u001b[34mThere are 1 clusters with 11 cameras\u001b[0m\n",
      "\u001b[34mThere are 1 clusters with 12 cameras\u001b[0m\n",
      "\u001b[34mThere are 1 clusters with 16 cameras\u001b[0m\n",
      "\u001b[34mThere are 1 clusters with 17 cameras\u001b[0m\n",
      "\u001b[34mThere are 1 clusters with 19 cameras\u001b[0m\n",
      "\u001b[34mThere are 1 clusters with 27 cameras\u001b[0m\n",
      "\u001b[34mThere are 1 clusters with 31 cameras\u001b[0m\n",
      "\u001b[34mThere are 1 clusters with 32 cameras\u001b[0m\n",
      "\u001b[34mThere are 1 clusters with 41 cameras\u001b[0m\n",
      "\u001b[34mThere are 1 clusters with 45 cameras\u001b[0m\n",
      "\u001b[34mThere are 1 clusters with 47 cameras\u001b[0m\n",
      "\u001b[34mThere are 1 clusters with 52 cameras\u001b[0m\n",
      "\u001b[34mThere are 1 clusters with 53 cameras\u001b[0m\n",
      "\u001b[34mThere are 2 clusters with 54 cameras\u001b[0m\n",
      "\u001b[34mThere are 1 clusters with 56 cameras\u001b[0m\n",
      "\u001b[34mThere are 3 clusters with 57 cameras\u001b[0m\n",
      "\u001b[34mThere are 1 clusters with 58 cameras\u001b[0m\n",
      "\u001b[34mThere are 6 clusters with 59 cameras\u001b[0m\n",
      "\u001b[34mThere are 9 clusters with 60 cameras\u001b[0m\n",
      "\u001b[34mThere are 13 clusters with 61 cameras\u001b[0m\n",
      "\u001b[34mThere are 26 clusters with 62 cameras\u001b[0m\n",
      "\u001b[34mThere are 36 clusters with 63 cameras\u001b[0m\n",
      "\u001b[34mThere are 461 clusters with 64 cameras\u001b[0m\n",
      "\u001b[34mThere are 1 clusters with 90 cameras\u001b[0m\n",
      "\u001b[34mThere are 1 clusters with 119 cameras\u001b[0m\n",
      "\u001b[34mThere are 1 clusters with 120 cameras\u001b[0m\n",
      "\u001b[34mThere are 1 clusters with 122 cameras\u001b[0m\n",
      "\u001b[34mThere are 1 clusters with 123 cameras\u001b[0m\n",
      "\u001b[34mThere are 2 clusters with 125 cameras\u001b[0m\n",
      "\u001b[34mThere are 2 clusters with 126 cameras\u001b[0m\n",
      "\u001b[34mThere are 1 clusters with 127 cameras\u001b[0m\n",
      "\u001b[34mThere are 8 clusters with 128 cameras\u001b[0m\n",
      "Number of classes: 600\n",
      "\u001b[36mLearning Rate: 0.000350\u001b[0m\n",
      "encontrou modelos efficientnet. Carregando...\n",
      "encontrou modelos convnext. Carregando...\n",
      "encontrou modelos mobilenet. Carregando...\n",
      "encontrou modelos vgg16. Carregando...\n",
      "encontrou modelos resnet50. Carregando...\n",
      "encontrou modelos osnet. Carregando...\n",
      "encontrou modelos densenet121. Carregando...\n",
      "###============ Iteration number 63/90 ============###\n",
      "Extracting Online Features for efficientnet ...\n",
      "Features extracted in 171.47 seconds\n",
      "Computing jaccard distance...\n"
     ]
    },
    {
     "name": "stderr",
     "output_type": "stream",
     "text": [
      "bruteForceKnn is deprecated; call bfKnn instead\n"
     ]
    },
    {
     "name": "stdout",
     "output_type": "stream",
     "text": [
      "Jaccard distance computing time cost: 78.57882356643677\n",
      "Extracting Online Features for convnext ...\n",
      "Features extracted in 172.61 seconds\n",
      "Computing jaccard distance...\n"
     ]
    },
    {
     "name": "stderr",
     "output_type": "stream",
     "text": [
      "bruteForceKnn is deprecated; call bfKnn instead\n"
     ]
    },
    {
     "name": "stdout",
     "output_type": "stream",
     "text": [
      "Jaccard distance computing time cost: 77.93794918060303\n",
      "Extracting Online Features for mobilenet ...\n",
      "Features extracted in 177.24 seconds\n",
      "Computing jaccard distance...\n"
     ]
    },
    {
     "name": "stderr",
     "output_type": "stream",
     "text": [
      "bruteForceKnn is deprecated; call bfKnn instead\n"
     ]
    },
    {
     "name": "stdout",
     "output_type": "stream",
     "text": [
      "Jaccard distance computing time cost: 78.98589420318604\n",
      "Extracting Online Features for vgg16 ...\n",
      "Features extracted in 174.66 seconds\n",
      "Computing jaccard distance...\n"
     ]
    },
    {
     "name": "stderr",
     "output_type": "stream",
     "text": [
      "bruteForceKnn is deprecated; call bfKnn instead\n"
     ]
    },
    {
     "name": "stdout",
     "output_type": "stream",
     "text": [
      "Jaccard distance computing time cost: 79.43621563911438\n",
      "Extracting Online Features for resnet50 ...\n",
      "Features extracted in 177.53 seconds\n",
      "Computing jaccard distance...\n"
     ]
    },
    {
     "name": "stderr",
     "output_type": "stream",
     "text": [
      "bruteForceKnn is deprecated; call bfKnn instead\n"
     ]
    },
    {
     "name": "stdout",
     "output_type": "stream",
     "text": [
      "Jaccard distance computing time cost: 76.13035607337952\n",
      "Extracting Online Features for osnet ...\n",
      "Features extracted in 182.24 seconds\n",
      "Computing jaccard distance...\n"
     ]
    },
    {
     "name": "stderr",
     "output_type": "stream",
     "text": [
      "bruteForceKnn is deprecated; call bfKnn instead\n"
     ]
    },
    {
     "name": "stdout",
     "output_type": "stream",
     "text": [
      "Jaccard distance computing time cost: 75.88768768310547\n",
      "Extracting Online Features for densenet121 ...\n",
      "Features extracted in 213.59 seconds\n",
      "Computing jaccard distance...\n"
     ]
    },
    {
     "name": "stderr",
     "output_type": "stream",
     "text": [
      "bruteForceKnn is deprecated; call bfKnn instead\n"
     ]
    },
    {
     "name": "stdout",
     "output_type": "stream",
     "text": [
      "Jaccard distance computing time cost: 78.96094179153442\n",
      "Reliability: 0.994\n",
      "\u001b[32mMean Purity: 0.01644\u001b[0m\n",
      "\u001b[34mThere are 2 clusters with 4 cameras\u001b[0m\n",
      "\u001b[34mThere are 3 clusters with 5 cameras\u001b[0m\n",
      "\u001b[34mThere are 2 clusters with 6 cameras\u001b[0m\n",
      "\u001b[34mThere are 2 clusters with 7 cameras\u001b[0m\n",
      "\u001b[34mThere are 2 clusters with 9 cameras\u001b[0m\n",
      "\u001b[34mThere are 1 clusters with 11 cameras\u001b[0m\n",
      "\u001b[34mThere are 1 clusters with 12 cameras\u001b[0m\n",
      "\u001b[34mThere are 1 clusters with 16 cameras\u001b[0m\n",
      "\u001b[34mThere are 1 clusters with 17 cameras\u001b[0m\n",
      "\u001b[34mThere are 1 clusters with 19 cameras\u001b[0m\n",
      "\u001b[34mThere are 1 clusters with 27 cameras\u001b[0m\n",
      "\u001b[34mThere are 1 clusters with 31 cameras\u001b[0m\n",
      "\u001b[34mThere are 1 clusters with 32 cameras\u001b[0m\n",
      "\u001b[34mThere are 1 clusters with 41 cameras\u001b[0m\n",
      "\u001b[34mThere are 1 clusters with 45 cameras\u001b[0m\n",
      "\u001b[34mThere are 1 clusters with 47 cameras\u001b[0m\n",
      "\u001b[34mThere are 1 clusters with 52 cameras\u001b[0m\n",
      "\u001b[34mThere are 1 clusters with 53 cameras\u001b[0m\n",
      "\u001b[34mThere are 2 clusters with 54 cameras\u001b[0m\n",
      "\u001b[34mThere are 1 clusters with 56 cameras\u001b[0m\n",
      "\u001b[34mThere are 3 clusters with 57 cameras\u001b[0m\n",
      "\u001b[34mThere are 1 clusters with 58 cameras\u001b[0m\n",
      "\u001b[34mThere are 6 clusters with 59 cameras\u001b[0m\n",
      "\u001b[34mThere are 9 clusters with 60 cameras\u001b[0m\n",
      "\u001b[34mThere are 13 clusters with 61 cameras\u001b[0m\n",
      "\u001b[34mThere are 26 clusters with 62 cameras\u001b[0m\n",
      "\u001b[34mThere are 36 clusters with 63 cameras\u001b[0m\n",
      "\u001b[34mThere are 461 clusters with 64 cameras\u001b[0m\n",
      "\u001b[34mThere are 1 clusters with 90 cameras\u001b[0m\n",
      "\u001b[34mThere are 1 clusters with 119 cameras\u001b[0m\n",
      "\u001b[34mThere are 1 clusters with 120 cameras\u001b[0m\n",
      "\u001b[34mThere are 1 clusters with 122 cameras\u001b[0m\n",
      "\u001b[34mThere are 1 clusters with 123 cameras\u001b[0m\n",
      "\u001b[34mThere are 2 clusters with 125 cameras\u001b[0m\n",
      "\u001b[34mThere are 2 clusters with 126 cameras\u001b[0m\n",
      "\u001b[34mThere are 1 clusters with 127 cameras\u001b[0m\n",
      "\u001b[34mThere are 8 clusters with 128 cameras\u001b[0m\n",
      "Number of classes: 600\n",
      "\u001b[36mLearning Rate: 0.000350\u001b[0m\n",
      "encontrou modelos efficientnet. Carregando...\n",
      "encontrou modelos convnext. Carregando...\n",
      "encontrou modelos mobilenet. Carregando...\n",
      "encontrou modelos vgg16. Carregando...\n",
      "encontrou modelos resnet50. Carregando...\n",
      "encontrou modelos osnet. Carregando...\n",
      "encontrou modelos densenet121. Carregando...\n",
      "###============ Iteration number 64/90 ============###\n",
      "Extracting Online Features for efficientnet ...\n",
      "Features extracted in 171.26 seconds\n",
      "Computing jaccard distance...\n"
     ]
    },
    {
     "name": "stderr",
     "output_type": "stream",
     "text": [
      "bruteForceKnn is deprecated; call bfKnn instead\n"
     ]
    },
    {
     "name": "stdout",
     "output_type": "stream",
     "text": [
      "Jaccard distance computing time cost: 82.2956850528717\n",
      "Extracting Online Features for convnext ...\n",
      "Features extracted in 174.06 seconds\n",
      "Computing jaccard distance...\n"
     ]
    },
    {
     "name": "stderr",
     "output_type": "stream",
     "text": [
      "bruteForceKnn is deprecated; call bfKnn instead\n"
     ]
    },
    {
     "name": "stdout",
     "output_type": "stream",
     "text": [
      "Jaccard distance computing time cost: 78.76572918891907\n",
      "Extracting Online Features for mobilenet ...\n",
      "Features extracted in 174.49 seconds\n",
      "Computing jaccard distance...\n"
     ]
    },
    {
     "name": "stderr",
     "output_type": "stream",
     "text": [
      "bruteForceKnn is deprecated; call bfKnn instead\n"
     ]
    },
    {
     "name": "stdout",
     "output_type": "stream",
     "text": [
      "Jaccard distance computing time cost: 77.3847930431366\n",
      "Extracting Online Features for vgg16 ...\n",
      "Features extracted in 175.21 seconds\n",
      "Computing jaccard distance...\n"
     ]
    },
    {
     "name": "stderr",
     "output_type": "stream",
     "text": [
      "bruteForceKnn is deprecated; call bfKnn instead\n"
     ]
    },
    {
     "name": "stdout",
     "output_type": "stream",
     "text": [
      "Jaccard distance computing time cost: 76.79744362831116\n",
      "Extracting Online Features for resnet50 ...\n",
      "Features extracted in 172.89 seconds\n",
      "Computing jaccard distance...\n"
     ]
    },
    {
     "name": "stderr",
     "output_type": "stream",
     "text": [
      "bruteForceKnn is deprecated; call bfKnn instead\n"
     ]
    },
    {
     "name": "stdout",
     "output_type": "stream",
     "text": [
      "Jaccard distance computing time cost: 75.89108443260193\n",
      "Extracting Online Features for osnet ...\n",
      "Features extracted in 168.18 seconds\n",
      "Computing jaccard distance...\n"
     ]
    },
    {
     "name": "stderr",
     "output_type": "stream",
     "text": [
      "bruteForceKnn is deprecated; call bfKnn instead\n"
     ]
    },
    {
     "name": "stdout",
     "output_type": "stream",
     "text": [
      "Jaccard distance computing time cost: 75.60975337028503\n",
      "Extracting Online Features for densenet121 ...\n",
      "Features extracted in 174.92 seconds\n",
      "Computing jaccard distance...\n"
     ]
    },
    {
     "name": "stderr",
     "output_type": "stream",
     "text": [
      "bruteForceKnn is deprecated; call bfKnn instead\n"
     ]
    },
    {
     "name": "stdout",
     "output_type": "stream",
     "text": [
      "Jaccard distance computing time cost: 83.06118297576904\n",
      "Reliability: 0.994\n",
      "\u001b[32mMean Purity: 0.01644\u001b[0m\n",
      "\u001b[34mThere are 2 clusters with 4 cameras\u001b[0m\n",
      "\u001b[34mThere are 3 clusters with 5 cameras\u001b[0m\n",
      "\u001b[34mThere are 2 clusters with 6 cameras\u001b[0m\n",
      "\u001b[34mThere are 2 clusters with 7 cameras\u001b[0m\n",
      "\u001b[34mThere are 2 clusters with 9 cameras\u001b[0m\n",
      "\u001b[34mThere are 1 clusters with 11 cameras\u001b[0m\n",
      "\u001b[34mThere are 1 clusters with 12 cameras\u001b[0m\n",
      "\u001b[34mThere are 1 clusters with 16 cameras\u001b[0m\n",
      "\u001b[34mThere are 1 clusters with 17 cameras\u001b[0m\n",
      "\u001b[34mThere are 1 clusters with 19 cameras\u001b[0m\n",
      "\u001b[34mThere are 1 clusters with 27 cameras\u001b[0m\n",
      "\u001b[34mThere are 1 clusters with 31 cameras\u001b[0m\n",
      "\u001b[34mThere are 1 clusters with 32 cameras\u001b[0m\n",
      "\u001b[34mThere are 1 clusters with 41 cameras\u001b[0m\n",
      "\u001b[34mThere are 1 clusters with 45 cameras\u001b[0m\n",
      "\u001b[34mThere are 1 clusters with 47 cameras\u001b[0m\n",
      "\u001b[34mThere are 1 clusters with 52 cameras\u001b[0m\n",
      "\u001b[34mThere are 1 clusters with 53 cameras\u001b[0m\n",
      "\u001b[34mThere are 2 clusters with 54 cameras\u001b[0m\n",
      "\u001b[34mThere are 1 clusters with 56 cameras\u001b[0m\n",
      "\u001b[34mThere are 3 clusters with 57 cameras\u001b[0m\n",
      "\u001b[34mThere are 1 clusters with 58 cameras\u001b[0m\n",
      "\u001b[34mThere are 6 clusters with 59 cameras\u001b[0m\n",
      "\u001b[34mThere are 9 clusters with 60 cameras\u001b[0m\n",
      "\u001b[34mThere are 13 clusters with 61 cameras\u001b[0m\n",
      "\u001b[34mThere are 26 clusters with 62 cameras\u001b[0m\n",
      "\u001b[34mThere are 36 clusters with 63 cameras\u001b[0m\n",
      "\u001b[34mThere are 461 clusters with 64 cameras\u001b[0m\n",
      "\u001b[34mThere are 1 clusters with 90 cameras\u001b[0m\n",
      "\u001b[34mThere are 1 clusters with 119 cameras\u001b[0m\n",
      "\u001b[34mThere are 1 clusters with 120 cameras\u001b[0m\n",
      "\u001b[34mThere are 1 clusters with 122 cameras\u001b[0m\n",
      "\u001b[34mThere are 1 clusters with 123 cameras\u001b[0m\n",
      "\u001b[34mThere are 2 clusters with 125 cameras\u001b[0m\n",
      "\u001b[34mThere are 2 clusters with 126 cameras\u001b[0m\n",
      "\u001b[34mThere are 1 clusters with 127 cameras\u001b[0m\n",
      "\u001b[34mThere are 8 clusters with 128 cameras\u001b[0m\n",
      "Number of classes: 600\n",
      "\u001b[36mLearning Rate: 0.000350\u001b[0m\n",
      "encontrou modelos efficientnet. Carregando...\n",
      "encontrou modelos convnext. Carregando...\n",
      "encontrou modelos mobilenet. Carregando...\n",
      "encontrou modelos vgg16. Carregando...\n",
      "encontrou modelos resnet50. Carregando...\n",
      "encontrou modelos osnet. Carregando...\n",
      "encontrou modelos densenet121. Carregando...\n",
      "###============ Iteration number 65/90 ============###\n",
      "Extracting Online Features for efficientnet ...\n",
      "Features extracted in 176.26 seconds\n",
      "Computing jaccard distance...\n"
     ]
    },
    {
     "name": "stderr",
     "output_type": "stream",
     "text": [
      "bruteForceKnn is deprecated; call bfKnn instead\n"
     ]
    },
    {
     "name": "stdout",
     "output_type": "stream",
     "text": [
      "Jaccard distance computing time cost: 80.9397566318512\n",
      "Extracting Online Features for convnext ...\n",
      "Features extracted in 175.41 seconds\n",
      "Computing jaccard distance...\n"
     ]
    },
    {
     "name": "stderr",
     "output_type": "stream",
     "text": [
      "bruteForceKnn is deprecated; call bfKnn instead\n"
     ]
    },
    {
     "name": "stdout",
     "output_type": "stream",
     "text": [
      "Jaccard distance computing time cost: 80.2669906616211\n",
      "Extracting Online Features for mobilenet ...\n",
      "Features extracted in 169.99 seconds\n",
      "Computing jaccard distance...\n"
     ]
    },
    {
     "name": "stderr",
     "output_type": "stream",
     "text": [
      "bruteForceKnn is deprecated; call bfKnn instead\n"
     ]
    },
    {
     "name": "stdout",
     "output_type": "stream",
     "text": [
      "Jaccard distance computing time cost: 76.8532931804657\n",
      "Extracting Online Features for vgg16 ...\n",
      "Features extracted in 170.60 seconds\n",
      "Computing jaccard distance...\n"
     ]
    },
    {
     "name": "stderr",
     "output_type": "stream",
     "text": [
      "bruteForceKnn is deprecated; call bfKnn instead\n"
     ]
    },
    {
     "name": "stdout",
     "output_type": "stream",
     "text": [
      "Jaccard distance computing time cost: 76.76747465133667\n",
      "Extracting Online Features for resnet50 ...\n",
      "Features extracted in 170.74 seconds\n",
      "Computing jaccard distance...\n"
     ]
    },
    {
     "name": "stderr",
     "output_type": "stream",
     "text": [
      "bruteForceKnn is deprecated; call bfKnn instead\n"
     ]
    },
    {
     "name": "stdout",
     "output_type": "stream",
     "text": [
      "Jaccard distance computing time cost: 79.00486469268799\n",
      "Extracting Online Features for osnet ...\n",
      "Features extracted in 171.63 seconds\n",
      "Computing jaccard distance...\n"
     ]
    },
    {
     "name": "stderr",
     "output_type": "stream",
     "text": [
      "bruteForceKnn is deprecated; call bfKnn instead\n"
     ]
    },
    {
     "name": "stdout",
     "output_type": "stream",
     "text": [
      "Jaccard distance computing time cost: 72.98912978172302\n",
      "Extracting Online Features for densenet121 ...\n",
      "Features extracted in 166.94 seconds\n",
      "Computing jaccard distance...\n"
     ]
    },
    {
     "name": "stderr",
     "output_type": "stream",
     "text": [
      "bruteForceKnn is deprecated; call bfKnn instead\n"
     ]
    },
    {
     "name": "stdout",
     "output_type": "stream",
     "text": [
      "Jaccard distance computing time cost: 76.21805691719055\n",
      "Reliability: 0.994\n",
      "\u001b[32mMean Purity: 0.01644\u001b[0m\n",
      "\u001b[34mThere are 2 clusters with 4 cameras\u001b[0m\n",
      "\u001b[34mThere are 3 clusters with 5 cameras\u001b[0m\n",
      "\u001b[34mThere are 2 clusters with 6 cameras\u001b[0m\n",
      "\u001b[34mThere are 2 clusters with 7 cameras\u001b[0m\n",
      "\u001b[34mThere are 2 clusters with 9 cameras\u001b[0m\n",
      "\u001b[34mThere are 1 clusters with 11 cameras\u001b[0m\n",
      "\u001b[34mThere are 1 clusters with 12 cameras\u001b[0m\n",
      "\u001b[34mThere are 1 clusters with 16 cameras\u001b[0m\n",
      "\u001b[34mThere are 1 clusters with 17 cameras\u001b[0m\n",
      "\u001b[34mThere are 1 clusters with 19 cameras\u001b[0m\n",
      "\u001b[34mThere are 1 clusters with 27 cameras\u001b[0m\n",
      "\u001b[34mThere are 1 clusters with 31 cameras\u001b[0m\n",
      "\u001b[34mThere are 1 clusters with 32 cameras\u001b[0m\n",
      "\u001b[34mThere are 1 clusters with 41 cameras\u001b[0m\n",
      "\u001b[34mThere are 1 clusters with 45 cameras\u001b[0m\n",
      "\u001b[34mThere are 1 clusters with 47 cameras\u001b[0m\n",
      "\u001b[34mThere are 1 clusters with 52 cameras\u001b[0m\n",
      "\u001b[34mThere are 1 clusters with 53 cameras\u001b[0m\n",
      "\u001b[34mThere are 2 clusters with 54 cameras\u001b[0m\n",
      "\u001b[34mThere are 1 clusters with 56 cameras\u001b[0m\n",
      "\u001b[34mThere are 3 clusters with 57 cameras\u001b[0m\n",
      "\u001b[34mThere are 1 clusters with 58 cameras\u001b[0m\n",
      "\u001b[34mThere are 6 clusters with 59 cameras\u001b[0m\n",
      "\u001b[34mThere are 9 clusters with 60 cameras\u001b[0m\n",
      "\u001b[34mThere are 13 clusters with 61 cameras\u001b[0m\n",
      "\u001b[34mThere are 26 clusters with 62 cameras\u001b[0m\n",
      "\u001b[34mThere are 36 clusters with 63 cameras\u001b[0m\n",
      "\u001b[34mThere are 461 clusters with 64 cameras\u001b[0m\n",
      "\u001b[34mThere are 1 clusters with 90 cameras\u001b[0m\n",
      "\u001b[34mThere are 1 clusters with 119 cameras\u001b[0m\n",
      "\u001b[34mThere are 1 clusters with 120 cameras\u001b[0m\n",
      "\u001b[34mThere are 1 clusters with 122 cameras\u001b[0m\n",
      "\u001b[34mThere are 1 clusters with 123 cameras\u001b[0m\n",
      "\u001b[34mThere are 2 clusters with 125 cameras\u001b[0m\n",
      "\u001b[34mThere are 2 clusters with 126 cameras\u001b[0m\n",
      "\u001b[34mThere are 1 clusters with 127 cameras\u001b[0m\n",
      "\u001b[34mThere are 8 clusters with 128 cameras\u001b[0m\n",
      "Number of classes: 600\n",
      "\u001b[36mLearning Rate: 0.000350\u001b[0m\n",
      "encontrou modelos efficientnet. Carregando...\n",
      "encontrou modelos convnext. Carregando...\n",
      "encontrou modelos mobilenet. Carregando...\n",
      "encontrou modelos vgg16. Carregando...\n",
      "encontrou modelos resnet50. Carregando...\n",
      "encontrou modelos osnet. Carregando...\n",
      "encontrou modelos densenet121. Carregando...\n",
      "\u001b[33mValidating online efficientnet ...\u001b[0m\n",
      "Features extracted in 53.01 seconds\n",
      "Features extracted in 109.56 seconds\n",
      "Computing CMC and mAP ...\n",
      "** Results **\n",
      "mAP: 69.91%\n",
      "CMC curve\n",
      "Rank-1  : 73.59%\n",
      "Rank-5  : 94.54%\n",
      "Rank-10 : 97.70%\n",
      "Rank-20 : 99.20%\n",
      "\u001b[33mValidating momentum efficientnet ...\u001b[0m\n",
      "Features extracted in 51.76 seconds\n",
      "Features extracted in 106.60 seconds\n",
      "Computing CMC and mAP ...\n",
      "** Results **\n",
      "mAP: 70.66%\n",
      "CMC curve\n",
      "Rank-1  : 76.80%\n",
      "Rank-5  : 93.39%\n",
      "Rank-10 : 96.79%\n",
      "Rank-20 : 98.68%\n",
      "\u001b[33mValidating online convnext ...\u001b[0m\n",
      "Features extracted in 53.03 seconds\n",
      "Features extracted in 109.02 seconds\n",
      "Computing CMC and mAP ...\n",
      "** Results **\n",
      "mAP: 70.08%\n",
      "CMC curve\n",
      "Rank-1  : 75.63%\n",
      "Rank-5  : 92.61%\n",
      "Rank-10 : 96.93%\n",
      "Rank-20 : 99.29%\n",
      "\u001b[33mValidating momentum convnext ...\u001b[0m\n",
      "Features extracted in 52.56 seconds\n",
      "Features extracted in 109.25 seconds\n",
      "Computing CMC and mAP ...\n",
      "** Results **\n",
      "mAP: 70.46%\n",
      "CMC curve\n",
      "Rank-1  : 77.49%\n",
      "Rank-5  : 93.71%\n",
      "Rank-10 : 96.84%\n",
      "Rank-20 : 98.71%\n",
      "\u001b[33mValidating online mobilenet ...\u001b[0m\n",
      "Features extracted in 51.38 seconds\n",
      "Features extracted in 103.83 seconds\n",
      "Computing CMC and mAP ...\n",
      "** Results **\n",
      "mAP: 71.39%\n",
      "CMC curve\n",
      "Rank-1  : 81.53%\n",
      "Rank-5  : 95.41%\n",
      "Rank-10 : 98.02%\n",
      "Rank-20 : 99.18%\n",
      "\u001b[33mValidating momentum mobilenet ...\u001b[0m\n",
      "Features extracted in 51.63 seconds\n",
      "Features extracted in 105.25 seconds\n",
      "Computing CMC and mAP ...\n",
      "** Results **\n",
      "mAP: 70.86%\n",
      "CMC curve\n",
      "Rank-1  : 78.95%\n",
      "Rank-5  : 93.89%\n",
      "Rank-10 : 97.47%\n",
      "Rank-20 : 99.27%\n",
      "\u001b[33mValidating online vgg16 ...\u001b[0m\n",
      "Features extracted in 51.13 seconds\n",
      "Features extracted in 106.09 seconds\n",
      "Computing CMC and mAP ...\n",
      "** Results **\n",
      "mAP: 69.67%\n",
      "CMC curve\n",
      "Rank-1  : 74.49%\n",
      "Rank-5  : 92.27%\n",
      "Rank-10 : 96.56%\n",
      "Rank-20 : 99.05%\n",
      "\u001b[33mValidating momentum vgg16 ...\u001b[0m\n",
      "Features extracted in 53.08 seconds\n",
      "Features extracted in 108.18 seconds\n",
      "Computing CMC and mAP ...\n",
      "** Results **\n",
      "mAP: 69.72%\n",
      "CMC curve\n",
      "Rank-1  : 75.80%\n",
      "Rank-5  : 92.91%\n",
      "Rank-10 : 97.25%\n",
      "Rank-20 : 99.09%\n",
      "\u001b[33mValidating online resnet50 ...\u001b[0m\n",
      "Features extracted in 53.31 seconds\n",
      "Features extracted in 107.78 seconds\n",
      "Computing CMC and mAP ...\n",
      "** Results **\n",
      "mAP: 69.64%\n",
      "CMC curve\n",
      "Rank-1  : 70.07%\n",
      "Rank-5  : 91.28%\n",
      "Rank-10 : 96.04%\n",
      "Rank-20 : 98.68%\n",
      "\u001b[33mValidating momentum resnet50 ...\u001b[0m\n",
      "Features extracted in 53.12 seconds\n",
      "Features extracted in 108.83 seconds\n",
      "Computing CMC and mAP ...\n",
      "** Results **\n",
      "mAP: 70.02%\n",
      "CMC curve\n",
      "Rank-1  : 73.39%\n",
      "Rank-5  : 93.49%\n",
      "Rank-10 : 97.50%\n",
      "Rank-20 : 99.37%\n",
      "\u001b[33mValidating online osnet ...\u001b[0m\n",
      "Features extracted in 52.28 seconds\n",
      "Features extracted in 107.40 seconds\n",
      "Computing CMC and mAP ...\n",
      "** Results **\n",
      "mAP: 68.61%\n",
      "CMC curve\n",
      "Rank-1  : 73.02%\n",
      "Rank-5  : 95.04%\n",
      "Rank-10 : 98.36%\n",
      "Rank-20 : 99.48%\n",
      "\u001b[33mValidating momentum osnet ...\u001b[0m\n",
      "Features extracted in 54.36 seconds\n",
      "Features extracted in 104.80 seconds\n",
      "Computing CMC and mAP ...\n",
      "** Results **\n",
      "mAP: 69.41%\n",
      "CMC curve\n",
      "Rank-1  : 73.33%\n",
      "Rank-5  : 93.05%\n",
      "Rank-10 : 97.14%\n",
      "Rank-20 : 99.12%\n",
      "\u001b[33mValidating online densenet121 ...\u001b[0m\n",
      "Features extracted in 53.56 seconds\n",
      "Features extracted in 109.38 seconds\n",
      "Computing CMC and mAP ...\n",
      "** Results **\n",
      "mAP: 70.12%\n",
      "CMC curve\n",
      "Rank-1  : 75.15%\n",
      "Rank-5  : 92.89%\n",
      "Rank-10 : 97.00%\n",
      "Rank-20 : 98.95%\n",
      "\u001b[33mValidating momentum densenet121 ...\u001b[0m\n",
      "Features extracted in 53.66 seconds\n",
      "Features extracted in 108.18 seconds\n",
      "Computing CMC and mAP ...\n",
      "** Results **\n",
      "mAP: 69.53%\n",
      "CMC curve\n",
      "Rank-1  : 75.91%\n",
      "Rank-5  : 93.33%\n",
      "Rank-10 : 97.31%\n",
      "Rank-20 : 99.25%\n",
      "\u001b[33mValidating ensembled with online models ...\u001b[0m\n",
      "Computing CMC and mAP ...\n",
      "** Results **\n",
      "mAP: 71.17%\n",
      "Ranks:\n",
      "Rank-1  : 78.73%\n",
      "Rank-5  : 92.94%\n",
      "Rank-10 : 96.83%\n",
      "\u001b[33mValidating ensembled with momentum models ...\u001b[0m\n",
      "Computing CMC and mAP ...\n",
      "** Results **\n",
      "mAP: 71.11%\n",
      "Ranks:\n",
      "Rank-1  : 79.83%\n",
      "Rank-5  : 92.92%\n",
      "Rank-10 : 96.74%\n",
      "###============ Iteration number 66/90 ============###\n",
      "Extracting Online Features for efficientnet ...\n",
      "Features extracted in 166.71 seconds\n",
      "Computing jaccard distance...\n"
     ]
    },
    {
     "name": "stderr",
     "output_type": "stream",
     "text": [
      "bruteForceKnn is deprecated; call bfKnn instead\n"
     ]
    },
    {
     "name": "stdout",
     "output_type": "stream",
     "text": [
      "Jaccard distance computing time cost: 76.22064900398254\n",
      "Extracting Online Features for convnext ...\n",
      "Features extracted in 168.48 seconds\n",
      "Computing jaccard distance...\n"
     ]
    },
    {
     "name": "stderr",
     "output_type": "stream",
     "text": [
      "bruteForceKnn is deprecated; call bfKnn instead\n"
     ]
    },
    {
     "name": "stdout",
     "output_type": "stream",
     "text": [
      "Jaccard distance computing time cost: 73.08024477958679\n",
      "Extracting Online Features for mobilenet ...\n",
      "Features extracted in 160.19 seconds\n",
      "Computing jaccard distance...\n"
     ]
    },
    {
     "name": "stderr",
     "output_type": "stream",
     "text": [
      "bruteForceKnn is deprecated; call bfKnn instead\n"
     ]
    },
    {
     "name": "stdout",
     "output_type": "stream",
     "text": [
      "Jaccard distance computing time cost: 74.0917739868164\n",
      "Extracting Online Features for vgg16 ...\n",
      "Features extracted in 169.40 seconds\n",
      "Computing jaccard distance...\n"
     ]
    },
    {
     "name": "stderr",
     "output_type": "stream",
     "text": [
      "bruteForceKnn is deprecated; call bfKnn instead\n"
     ]
    },
    {
     "name": "stdout",
     "output_type": "stream",
     "text": [
      "Jaccard distance computing time cost: 72.53751254081726\n",
      "Extracting Online Features for resnet50 ...\n",
      "Features extracted in 168.22 seconds\n",
      "Computing jaccard distance...\n"
     ]
    },
    {
     "name": "stderr",
     "output_type": "stream",
     "text": [
      "bruteForceKnn is deprecated; call bfKnn instead\n"
     ]
    },
    {
     "name": "stdout",
     "output_type": "stream",
     "text": [
      "Jaccard distance computing time cost: 73.87855195999146\n",
      "Extracting Online Features for osnet ...\n",
      "Features extracted in 163.19 seconds\n",
      "Computing jaccard distance...\n"
     ]
    },
    {
     "name": "stderr",
     "output_type": "stream",
     "text": [
      "bruteForceKnn is deprecated; call bfKnn instead\n"
     ]
    },
    {
     "name": "stdout",
     "output_type": "stream",
     "text": [
      "Jaccard distance computing time cost: 72.4887101650238\n",
      "Extracting Online Features for densenet121 ...\n",
      "Features extracted in 169.55 seconds\n",
      "Computing jaccard distance...\n"
     ]
    },
    {
     "name": "stderr",
     "output_type": "stream",
     "text": [
      "bruteForceKnn is deprecated; call bfKnn instead\n"
     ]
    },
    {
     "name": "stdout",
     "output_type": "stream",
     "text": [
      "Jaccard distance computing time cost: 76.54764485359192\n",
      "Reliability: 0.994\n",
      "\u001b[32mMean Purity: 0.01644\u001b[0m\n",
      "\u001b[34mThere are 2 clusters with 4 cameras\u001b[0m\n",
      "\u001b[34mThere are 3 clusters with 5 cameras\u001b[0m\n",
      "\u001b[34mThere are 2 clusters with 6 cameras\u001b[0m\n",
      "\u001b[34mThere are 2 clusters with 7 cameras\u001b[0m\n",
      "\u001b[34mThere are 2 clusters with 9 cameras\u001b[0m\n",
      "\u001b[34mThere are 1 clusters with 11 cameras\u001b[0m\n",
      "\u001b[34mThere are 1 clusters with 12 cameras\u001b[0m\n",
      "\u001b[34mThere are 1 clusters with 16 cameras\u001b[0m\n",
      "\u001b[34mThere are 1 clusters with 17 cameras\u001b[0m\n",
      "\u001b[34mThere are 1 clusters with 19 cameras\u001b[0m\n",
      "\u001b[34mThere are 1 clusters with 27 cameras\u001b[0m\n",
      "\u001b[34mThere are 1 clusters with 31 cameras\u001b[0m\n",
      "\u001b[34mThere are 1 clusters with 32 cameras\u001b[0m\n",
      "\u001b[34mThere are 1 clusters with 41 cameras\u001b[0m\n",
      "\u001b[34mThere are 1 clusters with 45 cameras\u001b[0m\n",
      "\u001b[34mThere are 1 clusters with 47 cameras\u001b[0m\n",
      "\u001b[34mThere are 1 clusters with 52 cameras\u001b[0m\n",
      "\u001b[34mThere are 1 clusters with 53 cameras\u001b[0m\n",
      "\u001b[34mThere are 2 clusters with 54 cameras\u001b[0m\n",
      "\u001b[34mThere are 1 clusters with 56 cameras\u001b[0m\n",
      "\u001b[34mThere are 3 clusters with 57 cameras\u001b[0m\n",
      "\u001b[34mThere are 1 clusters with 58 cameras\u001b[0m\n",
      "\u001b[34mThere are 6 clusters with 59 cameras\u001b[0m\n",
      "\u001b[34mThere are 9 clusters with 60 cameras\u001b[0m\n",
      "\u001b[34mThere are 13 clusters with 61 cameras\u001b[0m\n",
      "\u001b[34mThere are 26 clusters with 62 cameras\u001b[0m\n",
      "\u001b[34mThere are 36 clusters with 63 cameras\u001b[0m\n",
      "\u001b[34mThere are 461 clusters with 64 cameras\u001b[0m\n",
      "\u001b[34mThere are 1 clusters with 90 cameras\u001b[0m\n",
      "\u001b[34mThere are 1 clusters with 119 cameras\u001b[0m\n",
      "\u001b[34mThere are 1 clusters with 120 cameras\u001b[0m\n",
      "\u001b[34mThere are 1 clusters with 122 cameras\u001b[0m\n",
      "\u001b[34mThere are 1 clusters with 123 cameras\u001b[0m\n",
      "\u001b[34mThere are 2 clusters with 125 cameras\u001b[0m\n",
      "\u001b[34mThere are 2 clusters with 126 cameras\u001b[0m\n",
      "\u001b[34mThere are 1 clusters with 127 cameras\u001b[0m\n",
      "\u001b[34mThere are 8 clusters with 128 cameras\u001b[0m\n",
      "Number of classes: 600\n",
      "\u001b[36mLearning Rate: 0.000350\u001b[0m\n",
      "encontrou modelos efficientnet. Carregando...\n",
      "encontrou modelos convnext. Carregando...\n",
      "encontrou modelos mobilenet. Carregando...\n",
      "encontrou modelos vgg16. Carregando...\n",
      "encontrou modelos resnet50. Carregando...\n",
      "encontrou modelos osnet. Carregando...\n",
      "encontrou modelos densenet121. Carregando...\n",
      "###============ Iteration number 67/90 ============###\n",
      "Extracting Online Features for efficientnet ...\n",
      "Features extracted in 169.15 seconds\n",
      "Computing jaccard distance...\n"
     ]
    },
    {
     "name": "stderr",
     "output_type": "stream",
     "text": [
      "bruteForceKnn is deprecated; call bfKnn instead\n"
     ]
    },
    {
     "name": "stdout",
     "output_type": "stream",
     "text": [
      "Jaccard distance computing time cost: 73.8877534866333\n",
      "Extracting Online Features for convnext ...\n",
      "Features extracted in 166.99 seconds\n",
      "Computing jaccard distance...\n"
     ]
    },
    {
     "name": "stderr",
     "output_type": "stream",
     "text": [
      "bruteForceKnn is deprecated; call bfKnn instead\n"
     ]
    },
    {
     "name": "stdout",
     "output_type": "stream",
     "text": [
      "Jaccard distance computing time cost: 71.9787974357605\n",
      "Extracting Online Features for mobilenet ...\n",
      "Features extracted in 163.76 seconds\n",
      "Computing jaccard distance...\n"
     ]
    },
    {
     "name": "stderr",
     "output_type": "stream",
     "text": [
      "bruteForceKnn is deprecated; call bfKnn instead\n"
     ]
    },
    {
     "name": "stdout",
     "output_type": "stream",
     "text": [
      "Jaccard distance computing time cost: 72.17748284339905\n",
      "Extracting Online Features for vgg16 ...\n",
      "Features extracted in 167.14 seconds\n",
      "Computing jaccard distance...\n"
     ]
    },
    {
     "name": "stderr",
     "output_type": "stream",
     "text": [
      "bruteForceKnn is deprecated; call bfKnn instead\n"
     ]
    },
    {
     "name": "stdout",
     "output_type": "stream",
     "text": [
      "Jaccard distance computing time cost: 70.64219450950623\n",
      "Extracting Online Features for resnet50 ...\n",
      "Features extracted in 166.86 seconds\n",
      "Computing jaccard distance...\n"
     ]
    },
    {
     "name": "stderr",
     "output_type": "stream",
     "text": [
      "bruteForceKnn is deprecated; call bfKnn instead\n"
     ]
    },
    {
     "name": "stdout",
     "output_type": "stream",
     "text": [
      "Jaccard distance computing time cost: 73.40996241569519\n",
      "Extracting Online Features for osnet ...\n",
      "Features extracted in 164.86 seconds\n",
      "Computing jaccard distance...\n"
     ]
    },
    {
     "name": "stderr",
     "output_type": "stream",
     "text": [
      "bruteForceKnn is deprecated; call bfKnn instead\n"
     ]
    },
    {
     "name": "stdout",
     "output_type": "stream",
     "text": [
      "Jaccard distance computing time cost: 72.06513547897339\n",
      "Extracting Online Features for densenet121 ...\n",
      "Features extracted in 166.94 seconds\n",
      "Computing jaccard distance...\n"
     ]
    },
    {
     "name": "stderr",
     "output_type": "stream",
     "text": [
      "bruteForceKnn is deprecated; call bfKnn instead\n"
     ]
    },
    {
     "name": "stdout",
     "output_type": "stream",
     "text": [
      "Jaccard distance computing time cost: 75.41168785095215\n",
      "Reliability: 0.994\n",
      "\u001b[32mMean Purity: 0.01644\u001b[0m\n",
      "\u001b[34mThere are 2 clusters with 4 cameras\u001b[0m\n",
      "\u001b[34mThere are 3 clusters with 5 cameras\u001b[0m\n",
      "\u001b[34mThere are 2 clusters with 6 cameras\u001b[0m\n",
      "\u001b[34mThere are 2 clusters with 7 cameras\u001b[0m\n",
      "\u001b[34mThere are 2 clusters with 9 cameras\u001b[0m\n",
      "\u001b[34mThere are 1 clusters with 11 cameras\u001b[0m\n",
      "\u001b[34mThere are 1 clusters with 12 cameras\u001b[0m\n",
      "\u001b[34mThere are 1 clusters with 16 cameras\u001b[0m\n",
      "\u001b[34mThere are 1 clusters with 17 cameras\u001b[0m\n",
      "\u001b[34mThere are 1 clusters with 19 cameras\u001b[0m\n",
      "\u001b[34mThere are 1 clusters with 27 cameras\u001b[0m\n",
      "\u001b[34mThere are 1 clusters with 31 cameras\u001b[0m\n",
      "\u001b[34mThere are 1 clusters with 32 cameras\u001b[0m\n",
      "\u001b[34mThere are 1 clusters with 41 cameras\u001b[0m\n",
      "\u001b[34mThere are 1 clusters with 45 cameras\u001b[0m\n",
      "\u001b[34mThere are 1 clusters with 47 cameras\u001b[0m\n",
      "\u001b[34mThere are 1 clusters with 52 cameras\u001b[0m\n",
      "\u001b[34mThere are 1 clusters with 53 cameras\u001b[0m\n",
      "\u001b[34mThere are 2 clusters with 54 cameras\u001b[0m\n",
      "\u001b[34mThere are 1 clusters with 56 cameras\u001b[0m\n",
      "\u001b[34mThere are 3 clusters with 57 cameras\u001b[0m\n",
      "\u001b[34mThere are 1 clusters with 58 cameras\u001b[0m\n",
      "\u001b[34mThere are 6 clusters with 59 cameras\u001b[0m\n",
      "\u001b[34mThere are 9 clusters with 60 cameras\u001b[0m\n",
      "\u001b[34mThere are 13 clusters with 61 cameras\u001b[0m\n",
      "\u001b[34mThere are 26 clusters with 62 cameras\u001b[0m\n",
      "\u001b[34mThere are 36 clusters with 63 cameras\u001b[0m\n",
      "\u001b[34mThere are 461 clusters with 64 cameras\u001b[0m\n",
      "\u001b[34mThere are 1 clusters with 90 cameras\u001b[0m\n",
      "\u001b[34mThere are 1 clusters with 119 cameras\u001b[0m\n",
      "\u001b[34mThere are 1 clusters with 120 cameras\u001b[0m\n",
      "\u001b[34mThere are 1 clusters with 122 cameras\u001b[0m\n",
      "\u001b[34mThere are 1 clusters with 123 cameras\u001b[0m\n",
      "\u001b[34mThere are 2 clusters with 125 cameras\u001b[0m\n",
      "\u001b[34mThere are 2 clusters with 126 cameras\u001b[0m\n",
      "\u001b[34mThere are 1 clusters with 127 cameras\u001b[0m\n",
      "\u001b[34mThere are 8 clusters with 128 cameras\u001b[0m\n",
      "Number of classes: 600\n",
      "\u001b[36mLearning Rate: 0.000350\u001b[0m\n",
      "encontrou modelos efficientnet. Carregando...\n",
      "encontrou modelos convnext. Carregando...\n",
      "encontrou modelos mobilenet. Carregando...\n",
      "encontrou modelos vgg16. Carregando...\n",
      "encontrou modelos resnet50. Carregando...\n",
      "encontrou modelos osnet. Carregando...\n",
      "encontrou modelos densenet121. Carregando...\n",
      "###============ Iteration number 68/90 ============###\n",
      "Extracting Online Features for efficientnet ...\n",
      "Features extracted in 165.15 seconds\n",
      "Computing jaccard distance...\n"
     ]
    },
    {
     "name": "stderr",
     "output_type": "stream",
     "text": [
      "bruteForceKnn is deprecated; call bfKnn instead\n"
     ]
    },
    {
     "name": "stdout",
     "output_type": "stream",
     "text": [
      "Jaccard distance computing time cost: 73.41313195228577\n",
      "Extracting Online Features for convnext ...\n",
      "Features extracted in 167.37 seconds\n",
      "Computing jaccard distance...\n"
     ]
    },
    {
     "name": "stderr",
     "output_type": "stream",
     "text": [
      "bruteForceKnn is deprecated; call bfKnn instead\n"
     ]
    },
    {
     "name": "stdout",
     "output_type": "stream",
     "text": [
      "Jaccard distance computing time cost: 70.52310609817505\n",
      "Extracting Online Features for mobilenet ...\n",
      "Features extracted in 163.88 seconds\n",
      "Computing jaccard distance...\n"
     ]
    },
    {
     "name": "stderr",
     "output_type": "stream",
     "text": [
      "bruteForceKnn is deprecated; call bfKnn instead\n"
     ]
    },
    {
     "name": "stdout",
     "output_type": "stream",
     "text": [
      "Jaccard distance computing time cost: 70.90841507911682\n",
      "Extracting Online Features for vgg16 ...\n",
      "Features extracted in 168.45 seconds\n",
      "Computing jaccard distance...\n"
     ]
    },
    {
     "name": "stderr",
     "output_type": "stream",
     "text": [
      "bruteForceKnn is deprecated; call bfKnn instead\n"
     ]
    },
    {
     "name": "stdout",
     "output_type": "stream",
     "text": [
      "Jaccard distance computing time cost: 72.68790221214294\n",
      "Extracting Online Features for resnet50 ...\n",
      "Features extracted in 169.68 seconds\n",
      "Computing jaccard distance...\n"
     ]
    },
    {
     "name": "stderr",
     "output_type": "stream",
     "text": [
      "bruteForceKnn is deprecated; call bfKnn instead\n"
     ]
    },
    {
     "name": "stdout",
     "output_type": "stream",
     "text": [
      "Jaccard distance computing time cost: 74.21351027488708\n",
      "Extracting Online Features for osnet ...\n",
      "Features extracted in 167.18 seconds\n",
      "Computing jaccard distance...\n"
     ]
    },
    {
     "name": "stderr",
     "output_type": "stream",
     "text": [
      "bruteForceKnn is deprecated; call bfKnn instead\n"
     ]
    },
    {
     "name": "stdout",
     "output_type": "stream",
     "text": [
      "Jaccard distance computing time cost: 70.42663049697876\n",
      "Extracting Online Features for densenet121 ...\n",
      "Features extracted in 164.88 seconds\n",
      "Computing jaccard distance...\n"
     ]
    },
    {
     "name": "stderr",
     "output_type": "stream",
     "text": [
      "bruteForceKnn is deprecated; call bfKnn instead\n"
     ]
    },
    {
     "name": "stdout",
     "output_type": "stream",
     "text": [
      "Jaccard distance computing time cost: 73.94376349449158\n",
      "Reliability: 0.994\n",
      "\u001b[32mMean Purity: 0.01644\u001b[0m\n",
      "\u001b[34mThere are 2 clusters with 4 cameras\u001b[0m\n",
      "\u001b[34mThere are 3 clusters with 5 cameras\u001b[0m\n",
      "\u001b[34mThere are 2 clusters with 6 cameras\u001b[0m\n",
      "\u001b[34mThere are 2 clusters with 7 cameras\u001b[0m\n",
      "\u001b[34mThere are 2 clusters with 9 cameras\u001b[0m\n",
      "\u001b[34mThere are 1 clusters with 11 cameras\u001b[0m\n",
      "\u001b[34mThere are 1 clusters with 12 cameras\u001b[0m\n",
      "\u001b[34mThere are 1 clusters with 16 cameras\u001b[0m\n",
      "\u001b[34mThere are 1 clusters with 17 cameras\u001b[0m\n",
      "\u001b[34mThere are 1 clusters with 19 cameras\u001b[0m\n",
      "\u001b[34mThere are 1 clusters with 27 cameras\u001b[0m\n",
      "\u001b[34mThere are 1 clusters with 31 cameras\u001b[0m\n",
      "\u001b[34mThere are 1 clusters with 32 cameras\u001b[0m\n",
      "\u001b[34mThere are 1 clusters with 41 cameras\u001b[0m\n",
      "\u001b[34mThere are 1 clusters with 45 cameras\u001b[0m\n",
      "\u001b[34mThere are 1 clusters with 47 cameras\u001b[0m\n",
      "\u001b[34mThere are 1 clusters with 52 cameras\u001b[0m\n",
      "\u001b[34mThere are 1 clusters with 53 cameras\u001b[0m\n",
      "\u001b[34mThere are 2 clusters with 54 cameras\u001b[0m\n",
      "\u001b[34mThere are 1 clusters with 56 cameras\u001b[0m\n",
      "\u001b[34mThere are 3 clusters with 57 cameras\u001b[0m\n",
      "\u001b[34mThere are 1 clusters with 58 cameras\u001b[0m\n",
      "\u001b[34mThere are 6 clusters with 59 cameras\u001b[0m\n",
      "\u001b[34mThere are 9 clusters with 60 cameras\u001b[0m\n",
      "\u001b[34mThere are 13 clusters with 61 cameras\u001b[0m\n",
      "\u001b[34mThere are 26 clusters with 62 cameras\u001b[0m\n",
      "\u001b[34mThere are 36 clusters with 63 cameras\u001b[0m\n",
      "\u001b[34mThere are 461 clusters with 64 cameras\u001b[0m\n",
      "\u001b[34mThere are 1 clusters with 90 cameras\u001b[0m\n",
      "\u001b[34mThere are 1 clusters with 119 cameras\u001b[0m\n",
      "\u001b[34mThere are 1 clusters with 120 cameras\u001b[0m\n",
      "\u001b[34mThere are 1 clusters with 122 cameras\u001b[0m\n",
      "\u001b[34mThere are 1 clusters with 123 cameras\u001b[0m\n",
      "\u001b[34mThere are 2 clusters with 125 cameras\u001b[0m\n",
      "\u001b[34mThere are 2 clusters with 126 cameras\u001b[0m\n",
      "\u001b[34mThere are 1 clusters with 127 cameras\u001b[0m\n",
      "\u001b[34mThere are 8 clusters with 128 cameras\u001b[0m\n",
      "Number of classes: 600\n",
      "\u001b[36mLearning Rate: 0.000350\u001b[0m\n",
      "encontrou modelos efficientnet. Carregando...\n",
      "encontrou modelos convnext. Carregando...\n",
      "encontrou modelos mobilenet. Carregando...\n",
      "encontrou modelos vgg16. Carregando...\n",
      "encontrou modelos resnet50. Carregando...\n",
      "encontrou modelos osnet. Carregando...\n",
      "encontrou modelos densenet121. Carregando...\n",
      "###============ Iteration number 69/90 ============###\n",
      "Extracting Online Features for efficientnet ...\n",
      "Features extracted in 170.20 seconds\n",
      "Computing jaccard distance...\n"
     ]
    },
    {
     "name": "stderr",
     "output_type": "stream",
     "text": [
      "bruteForceKnn is deprecated; call bfKnn instead\n"
     ]
    },
    {
     "name": "stdout",
     "output_type": "stream",
     "text": [
      "Jaccard distance computing time cost: 74.34900617599487\n",
      "Extracting Online Features for convnext ...\n",
      "Features extracted in 168.50 seconds\n",
      "Computing jaccard distance...\n"
     ]
    },
    {
     "name": "stderr",
     "output_type": "stream",
     "text": [
      "bruteForceKnn is deprecated; call bfKnn instead\n"
     ]
    },
    {
     "name": "stdout",
     "output_type": "stream",
     "text": [
      "Jaccard distance computing time cost: 73.17355990409851\n",
      "Extracting Online Features for mobilenet ...\n",
      "Features extracted in 166.63 seconds\n",
      "Computing jaccard distance...\n"
     ]
    },
    {
     "name": "stderr",
     "output_type": "stream",
     "text": [
      "bruteForceKnn is deprecated; call bfKnn instead\n"
     ]
    },
    {
     "name": "stdout",
     "output_type": "stream",
     "text": [
      "Jaccard distance computing time cost: 73.92528319358826\n",
      "Extracting Online Features for vgg16 ...\n",
      "Features extracted in 162.22 seconds\n",
      "Computing jaccard distance...\n"
     ]
    },
    {
     "name": "stderr",
     "output_type": "stream",
     "text": [
      "bruteForceKnn is deprecated; call bfKnn instead\n"
     ]
    },
    {
     "name": "stdout",
     "output_type": "stream",
     "text": [
      "Jaccard distance computing time cost: 73.22677874565125\n",
      "Extracting Online Features for resnet50 ...\n",
      "Features extracted in 163.51 seconds\n",
      "Computing jaccard distance...\n"
     ]
    },
    {
     "name": "stderr",
     "output_type": "stream",
     "text": [
      "bruteForceKnn is deprecated; call bfKnn instead\n"
     ]
    },
    {
     "name": "stdout",
     "output_type": "stream",
     "text": [
      "Jaccard distance computing time cost: 73.84400677680969\n",
      "Extracting Online Features for osnet ...\n",
      "Features extracted in 160.24 seconds\n",
      "Computing jaccard distance...\n"
     ]
    },
    {
     "name": "stderr",
     "output_type": "stream",
     "text": [
      "bruteForceKnn is deprecated; call bfKnn instead\n"
     ]
    },
    {
     "name": "stdout",
     "output_type": "stream",
     "text": [
      "Jaccard distance computing time cost: 68.0997040271759\n",
      "Extracting Online Features for densenet121 ...\n",
      "Features extracted in 161.21 seconds\n",
      "Computing jaccard distance...\n"
     ]
    },
    {
     "name": "stderr",
     "output_type": "stream",
     "text": [
      "bruteForceKnn is deprecated; call bfKnn instead\n"
     ]
    },
    {
     "name": "stdout",
     "output_type": "stream",
     "text": [
      "Jaccard distance computing time cost: 71.95555186271667\n",
      "Reliability: 0.994\n",
      "\u001b[32mMean Purity: 0.01644\u001b[0m\n",
      "\u001b[34mThere are 2 clusters with 4 cameras\u001b[0m\n",
      "\u001b[34mThere are 3 clusters with 5 cameras\u001b[0m\n",
      "\u001b[34mThere are 2 clusters with 6 cameras\u001b[0m\n",
      "\u001b[34mThere are 2 clusters with 7 cameras\u001b[0m\n",
      "\u001b[34mThere are 2 clusters with 9 cameras\u001b[0m\n",
      "\u001b[34mThere are 1 clusters with 11 cameras\u001b[0m\n",
      "\u001b[34mThere are 1 clusters with 12 cameras\u001b[0m\n",
      "\u001b[34mThere are 1 clusters with 16 cameras\u001b[0m\n",
      "\u001b[34mThere are 1 clusters with 17 cameras\u001b[0m\n",
      "\u001b[34mThere are 1 clusters with 19 cameras\u001b[0m\n",
      "\u001b[34mThere are 1 clusters with 27 cameras\u001b[0m\n",
      "\u001b[34mThere are 1 clusters with 31 cameras\u001b[0m\n",
      "\u001b[34mThere are 1 clusters with 32 cameras\u001b[0m\n",
      "\u001b[34mThere are 1 clusters with 41 cameras\u001b[0m\n",
      "\u001b[34mThere are 1 clusters with 45 cameras\u001b[0m\n",
      "\u001b[34mThere are 1 clusters with 47 cameras\u001b[0m\n",
      "\u001b[34mThere are 1 clusters with 52 cameras\u001b[0m\n",
      "\u001b[34mThere are 1 clusters with 53 cameras\u001b[0m\n",
      "\u001b[34mThere are 2 clusters with 54 cameras\u001b[0m\n",
      "\u001b[34mThere are 1 clusters with 56 cameras\u001b[0m\n",
      "\u001b[34mThere are 3 clusters with 57 cameras\u001b[0m\n",
      "\u001b[34mThere are 1 clusters with 58 cameras\u001b[0m\n",
      "\u001b[34mThere are 6 clusters with 59 cameras\u001b[0m\n",
      "\u001b[34mThere are 9 clusters with 60 cameras\u001b[0m\n",
      "\u001b[34mThere are 13 clusters with 61 cameras\u001b[0m\n",
      "\u001b[34mThere are 26 clusters with 62 cameras\u001b[0m\n",
      "\u001b[34mThere are 36 clusters with 63 cameras\u001b[0m\n",
      "\u001b[34mThere are 461 clusters with 64 cameras\u001b[0m\n",
      "\u001b[34mThere are 1 clusters with 90 cameras\u001b[0m\n",
      "\u001b[34mThere are 1 clusters with 119 cameras\u001b[0m\n",
      "\u001b[34mThere are 1 clusters with 120 cameras\u001b[0m\n",
      "\u001b[34mThere are 1 clusters with 122 cameras\u001b[0m\n",
      "\u001b[34mThere are 1 clusters with 123 cameras\u001b[0m\n",
      "\u001b[34mThere are 2 clusters with 125 cameras\u001b[0m\n",
      "\u001b[34mThere are 2 clusters with 126 cameras\u001b[0m\n",
      "\u001b[34mThere are 1 clusters with 127 cameras\u001b[0m\n",
      "\u001b[34mThere are 8 clusters with 128 cameras\u001b[0m\n",
      "Number of classes: 600\n",
      "\u001b[36mLearning Rate: 0.000350\u001b[0m\n",
      "encontrou modelos efficientnet. Carregando...\n",
      "encontrou modelos convnext. Carregando...\n",
      "encontrou modelos mobilenet. Carregando...\n",
      "encontrou modelos vgg16. Carregando...\n",
      "encontrou modelos resnet50. Carregando...\n",
      "encontrou modelos osnet. Carregando...\n",
      "encontrou modelos densenet121. Carregando...\n",
      "###============ Iteration number 70/90 ============###\n",
      "Extracting Online Features for efficientnet ...\n",
      "Features extracted in 161.55 seconds\n",
      "Computing jaccard distance...\n"
     ]
    },
    {
     "name": "stderr",
     "output_type": "stream",
     "text": [
      "bruteForceKnn is deprecated; call bfKnn instead\n"
     ]
    },
    {
     "name": "stdout",
     "output_type": "stream",
     "text": [
      "Jaccard distance computing time cost: 74.35105085372925\n",
      "Extracting Online Features for convnext ...\n",
      "Features extracted in 163.90 seconds\n",
      "Computing jaccard distance...\n"
     ]
    },
    {
     "name": "stderr",
     "output_type": "stream",
     "text": [
      "bruteForceKnn is deprecated; call bfKnn instead\n"
     ]
    },
    {
     "name": "stdout",
     "output_type": "stream",
     "text": [
      "Jaccard distance computing time cost: 70.79753684997559\n",
      "Extracting Online Features for mobilenet ...\n",
      "Features extracted in 157.97 seconds\n",
      "Computing jaccard distance...\n"
     ]
    },
    {
     "name": "stderr",
     "output_type": "stream",
     "text": [
      "bruteForceKnn is deprecated; call bfKnn instead\n"
     ]
    },
    {
     "name": "stdout",
     "output_type": "stream",
     "text": [
      "Jaccard distance computing time cost: 73.09491562843323\n",
      "Extracting Online Features for vgg16 ...\n",
      "Features extracted in 163.27 seconds\n",
      "Computing jaccard distance...\n"
     ]
    },
    {
     "name": "stderr",
     "output_type": "stream",
     "text": [
      "bruteForceKnn is deprecated; call bfKnn instead\n"
     ]
    },
    {
     "name": "stdout",
     "output_type": "stream",
     "text": [
      "Jaccard distance computing time cost: 71.38745641708374\n",
      "Extracting Online Features for resnet50 ...\n",
      "Features extracted in 161.61 seconds\n",
      "Computing jaccard distance...\n"
     ]
    },
    {
     "name": "stderr",
     "output_type": "stream",
     "text": [
      "bruteForceKnn is deprecated; call bfKnn instead\n"
     ]
    },
    {
     "name": "stdout",
     "output_type": "stream",
     "text": [
      "Jaccard distance computing time cost: 71.69443988800049\n",
      "Extracting Online Features for osnet ...\n",
      "Features extracted in 167.20 seconds\n",
      "Computing jaccard distance...\n"
     ]
    },
    {
     "name": "stderr",
     "output_type": "stream",
     "text": [
      "bruteForceKnn is deprecated; call bfKnn instead\n"
     ]
    },
    {
     "name": "stdout",
     "output_type": "stream",
     "text": [
      "Jaccard distance computing time cost: 69.27085471153259\n",
      "Extracting Online Features for densenet121 ...\n",
      "Features extracted in 161.48 seconds\n",
      "Computing jaccard distance...\n"
     ]
    },
    {
     "name": "stderr",
     "output_type": "stream",
     "text": [
      "bruteForceKnn is deprecated; call bfKnn instead\n"
     ]
    },
    {
     "name": "stdout",
     "output_type": "stream",
     "text": [
      "Jaccard distance computing time cost: 73.26251363754272\n",
      "Reliability: 0.994\n",
      "\u001b[32mMean Purity: 0.01644\u001b[0m\n",
      "\u001b[34mThere are 2 clusters with 4 cameras\u001b[0m\n",
      "\u001b[34mThere are 3 clusters with 5 cameras\u001b[0m\n",
      "\u001b[34mThere are 2 clusters with 6 cameras\u001b[0m\n",
      "\u001b[34mThere are 2 clusters with 7 cameras\u001b[0m\n",
      "\u001b[34mThere are 2 clusters with 9 cameras\u001b[0m\n",
      "\u001b[34mThere are 1 clusters with 11 cameras\u001b[0m\n",
      "\u001b[34mThere are 1 clusters with 12 cameras\u001b[0m\n",
      "\u001b[34mThere are 1 clusters with 16 cameras\u001b[0m\n",
      "\u001b[34mThere are 1 clusters with 17 cameras\u001b[0m\n",
      "\u001b[34mThere are 1 clusters with 19 cameras\u001b[0m\n",
      "\u001b[34mThere are 1 clusters with 27 cameras\u001b[0m\n",
      "\u001b[34mThere are 1 clusters with 31 cameras\u001b[0m\n",
      "\u001b[34mThere are 1 clusters with 32 cameras\u001b[0m\n",
      "\u001b[34mThere are 1 clusters with 41 cameras\u001b[0m\n",
      "\u001b[34mThere are 1 clusters with 45 cameras\u001b[0m\n",
      "\u001b[34mThere are 1 clusters with 47 cameras\u001b[0m\n",
      "\u001b[34mThere are 1 clusters with 52 cameras\u001b[0m\n",
      "\u001b[34mThere are 1 clusters with 53 cameras\u001b[0m\n",
      "\u001b[34mThere are 2 clusters with 54 cameras\u001b[0m\n",
      "\u001b[34mThere are 1 clusters with 56 cameras\u001b[0m\n",
      "\u001b[34mThere are 3 clusters with 57 cameras\u001b[0m\n",
      "\u001b[34mThere are 1 clusters with 58 cameras\u001b[0m\n",
      "\u001b[34mThere are 6 clusters with 59 cameras\u001b[0m\n",
      "\u001b[34mThere are 9 clusters with 60 cameras\u001b[0m\n",
      "\u001b[34mThere are 13 clusters with 61 cameras\u001b[0m\n",
      "\u001b[34mThere are 26 clusters with 62 cameras\u001b[0m\n",
      "\u001b[34mThere are 36 clusters with 63 cameras\u001b[0m\n",
      "\u001b[34mThere are 461 clusters with 64 cameras\u001b[0m\n",
      "\u001b[34mThere are 1 clusters with 90 cameras\u001b[0m\n",
      "\u001b[34mThere are 1 clusters with 119 cameras\u001b[0m\n",
      "\u001b[34mThere are 1 clusters with 120 cameras\u001b[0m\n",
      "\u001b[34mThere are 1 clusters with 122 cameras\u001b[0m\n",
      "\u001b[34mThere are 1 clusters with 123 cameras\u001b[0m\n",
      "\u001b[34mThere are 2 clusters with 125 cameras\u001b[0m\n",
      "\u001b[34mThere are 2 clusters with 126 cameras\u001b[0m\n",
      "\u001b[34mThere are 1 clusters with 127 cameras\u001b[0m\n",
      "\u001b[34mThere are 8 clusters with 128 cameras\u001b[0m\n",
      "Number of classes: 600\n",
      "\u001b[36mLearning Rate: 0.000350\u001b[0m\n",
      "encontrou modelos efficientnet. Carregando...\n",
      "encontrou modelos convnext. Carregando...\n",
      "encontrou modelos mobilenet. Carregando...\n",
      "encontrou modelos vgg16. Carregando...\n",
      "encontrou modelos resnet50. Carregando...\n",
      "encontrou modelos osnet. Carregando...\n",
      "encontrou modelos densenet121. Carregando...\n",
      "\u001b[33mValidating online efficientnet ...\u001b[0m\n",
      "Features extracted in 49.76 seconds\n",
      "Features extracted in 102.31 seconds\n",
      "Computing CMC and mAP ...\n",
      "** Results **\n",
      "mAP: 69.91%\n",
      "CMC curve\n",
      "Rank-1  : 73.59%\n",
      "Rank-5  : 94.54%\n",
      "Rank-10 : 97.70%\n",
      "Rank-20 : 99.20%\n",
      "\u001b[33mValidating momentum efficientnet ...\u001b[0m\n",
      "Features extracted in 47.46 seconds\n",
      "Features extracted in 103.76 seconds\n",
      "Computing CMC and mAP ...\n",
      "** Results **\n",
      "mAP: 70.66%\n",
      "CMC curve\n",
      "Rank-1  : 76.80%\n",
      "Rank-5  : 93.39%\n",
      "Rank-10 : 96.79%\n",
      "Rank-20 : 98.68%\n",
      "\u001b[33mValidating online convnext ...\u001b[0m\n",
      "Features extracted in 48.14 seconds\n",
      "Features extracted in 102.62 seconds\n",
      "Computing CMC and mAP ...\n",
      "** Results **\n",
      "mAP: 70.08%\n",
      "CMC curve\n",
      "Rank-1  : 75.63%\n",
      "Rank-5  : 92.61%\n",
      "Rank-10 : 96.93%\n",
      "Rank-20 : 99.29%\n",
      "\u001b[33mValidating momentum convnext ...\u001b[0m\n",
      "Features extracted in 49.52 seconds\n",
      "Features extracted in 105.34 seconds\n",
      "Computing CMC and mAP ...\n",
      "** Results **\n",
      "mAP: 70.46%\n",
      "CMC curve\n",
      "Rank-1  : 77.49%\n",
      "Rank-5  : 93.71%\n",
      "Rank-10 : 96.84%\n",
      "Rank-20 : 98.71%\n",
      "\u001b[33mValidating online mobilenet ...\u001b[0m\n",
      "Features extracted in 49.77 seconds\n",
      "Features extracted in 102.43 seconds\n",
      "Computing CMC and mAP ...\n",
      "** Results **\n",
      "mAP: 71.39%\n",
      "CMC curve\n",
      "Rank-1  : 81.53%\n",
      "Rank-5  : 95.41%\n",
      "Rank-10 : 98.02%\n",
      "Rank-20 : 99.18%\n",
      "\u001b[33mValidating momentum mobilenet ...\u001b[0m\n",
      "Features extracted in 49.76 seconds\n",
      "Features extracted in 102.80 seconds\n",
      "Computing CMC and mAP ...\n",
      "** Results **\n",
      "mAP: 70.86%\n",
      "CMC curve\n",
      "Rank-1  : 78.95%\n",
      "Rank-5  : 93.89%\n",
      "Rank-10 : 97.47%\n",
      "Rank-20 : 99.27%\n",
      "\u001b[33mValidating online vgg16 ...\u001b[0m\n",
      "Features extracted in 50.89 seconds\n",
      "Features extracted in 103.93 seconds\n",
      "Computing CMC and mAP ...\n",
      "** Results **\n",
      "mAP: 69.67%\n",
      "CMC curve\n",
      "Rank-1  : 74.49%\n",
      "Rank-5  : 92.27%\n",
      "Rank-10 : 96.56%\n",
      "Rank-20 : 99.05%\n",
      "\u001b[33mValidating momentum vgg16 ...\u001b[0m\n",
      "Features extracted in 50.70 seconds\n",
      "Features extracted in 104.61 seconds\n",
      "Computing CMC and mAP ...\n",
      "** Results **\n",
      "mAP: 69.72%\n",
      "CMC curve\n",
      "Rank-1  : 75.80%\n",
      "Rank-5  : 92.91%\n",
      "Rank-10 : 97.25%\n",
      "Rank-20 : 99.09%\n",
      "\u001b[33mValidating online resnet50 ...\u001b[0m\n",
      "Features extracted in 51.29 seconds\n",
      "Features extracted in 104.62 seconds\n",
      "Computing CMC and mAP ...\n",
      "** Results **\n",
      "mAP: 69.64%\n",
      "CMC curve\n",
      "Rank-1  : 70.07%\n",
      "Rank-5  : 91.28%\n",
      "Rank-10 : 96.04%\n",
      "Rank-20 : 98.68%\n",
      "\u001b[33mValidating momentum resnet50 ...\u001b[0m\n",
      "Features extracted in 51.75 seconds\n",
      "Features extracted in 104.76 seconds\n",
      "Computing CMC and mAP ...\n",
      "** Results **\n",
      "mAP: 70.02%\n",
      "CMC curve\n",
      "Rank-1  : 73.39%\n",
      "Rank-5  : 93.49%\n",
      "Rank-10 : 97.50%\n",
      "Rank-20 : 99.37%\n",
      "\u001b[33mValidating online osnet ...\u001b[0m\n",
      "Features extracted in 51.48 seconds\n",
      "Features extracted in 103.23 seconds\n",
      "Computing CMC and mAP ...\n",
      "** Results **\n",
      "mAP: 68.61%\n",
      "CMC curve\n",
      "Rank-1  : 73.02%\n",
      "Rank-5  : 95.04%\n",
      "Rank-10 : 98.36%\n",
      "Rank-20 : 99.48%\n",
      "\u001b[33mValidating momentum osnet ...\u001b[0m\n",
      "Features extracted in 52.42 seconds\n",
      "Features extracted in 104.32 seconds\n",
      "Computing CMC and mAP ...\n",
      "** Results **\n",
      "mAP: 69.41%\n",
      "CMC curve\n",
      "Rank-1  : 73.33%\n",
      "Rank-5  : 93.05%\n",
      "Rank-10 : 97.14%\n",
      "Rank-20 : 99.12%\n",
      "\u001b[33mValidating online densenet121 ...\u001b[0m\n",
      "Features extracted in 51.51 seconds\n",
      "Features extracted in 104.69 seconds\n",
      "Computing CMC and mAP ...\n",
      "** Results **\n",
      "mAP: 70.12%\n",
      "CMC curve\n",
      "Rank-1  : 75.15%\n",
      "Rank-5  : 92.89%\n",
      "Rank-10 : 97.00%\n",
      "Rank-20 : 98.95%\n",
      "\u001b[33mValidating momentum densenet121 ...\u001b[0m\n",
      "Features extracted in 52.68 seconds\n",
      "Features extracted in 105.11 seconds\n",
      "Computing CMC and mAP ...\n",
      "** Results **\n",
      "mAP: 69.53%\n",
      "CMC curve\n",
      "Rank-1  : 75.91%\n",
      "Rank-5  : 93.33%\n",
      "Rank-10 : 97.31%\n",
      "Rank-20 : 99.25%\n",
      "\u001b[33mValidating ensembled with online models ...\u001b[0m\n",
      "Computing CMC and mAP ...\n",
      "** Results **\n",
      "mAP: 71.17%\n",
      "Ranks:\n",
      "Rank-1  : 78.73%\n",
      "Rank-5  : 92.94%\n",
      "Rank-10 : 96.83%\n",
      "\u001b[33mValidating ensembled with momentum models ...\u001b[0m\n",
      "Computing CMC and mAP ...\n",
      "** Results **\n",
      "mAP: 71.11%\n",
      "Ranks:\n",
      "Rank-1  : 79.83%\n",
      "Rank-5  : 92.92%\n",
      "Rank-10 : 96.74%\n",
      "###============ Iteration number 71/90 ============###\n",
      "Extracting Online Features for efficientnet ...\n",
      "Features extracted in 163.91 seconds\n",
      "Computing jaccard distance...\n"
     ]
    },
    {
     "name": "stderr",
     "output_type": "stream",
     "text": [
      "bruteForceKnn is deprecated; call bfKnn instead\n"
     ]
    },
    {
     "name": "stdout",
     "output_type": "stream",
     "text": [
      "Jaccard distance computing time cost: 73.57652616500854\n",
      "Extracting Online Features for convnext ...\n",
      "Features extracted in 161.58 seconds\n",
      "Computing jaccard distance...\n"
     ]
    },
    {
     "name": "stderr",
     "output_type": "stream",
     "text": [
      "bruteForceKnn is deprecated; call bfKnn instead\n"
     ]
    },
    {
     "name": "stdout",
     "output_type": "stream",
     "text": [
      "Jaccard distance computing time cost: 71.70030379295349\n",
      "Extracting Online Features for mobilenet ...\n",
      "Features extracted in 163.43 seconds\n",
      "Computing jaccard distance...\n"
     ]
    },
    {
     "name": "stderr",
     "output_type": "stream",
     "text": [
      "bruteForceKnn is deprecated; call bfKnn instead\n"
     ]
    },
    {
     "name": "stdout",
     "output_type": "stream",
     "text": [
      "Jaccard distance computing time cost: 69.60318922996521\n",
      "Extracting Online Features for vgg16 ...\n",
      "Features extracted in 162.83 seconds\n",
      "Computing jaccard distance...\n"
     ]
    },
    {
     "name": "stderr",
     "output_type": "stream",
     "text": [
      "bruteForceKnn is deprecated; call bfKnn instead\n"
     ]
    },
    {
     "name": "stdout",
     "output_type": "stream",
     "text": [
      "Jaccard distance computing time cost: 71.29032945632935\n",
      "Extracting Online Features for resnet50 ...\n",
      "Features extracted in 161.61 seconds\n",
      "Computing jaccard distance...\n"
     ]
    },
    {
     "name": "stderr",
     "output_type": "stream",
     "text": [
      "bruteForceKnn is deprecated; call bfKnn instead\n"
     ]
    },
    {
     "name": "stdout",
     "output_type": "stream",
     "text": [
      "Jaccard distance computing time cost: 72.60309052467346\n",
      "Extracting Online Features for osnet ...\n",
      "Features extracted in 163.13 seconds\n",
      "Computing jaccard distance...\n"
     ]
    },
    {
     "name": "stderr",
     "output_type": "stream",
     "text": [
      "bruteForceKnn is deprecated; call bfKnn instead\n"
     ]
    },
    {
     "name": "stdout",
     "output_type": "stream",
     "text": [
      "Jaccard distance computing time cost: 69.5342366695404\n",
      "Extracting Online Features for densenet121 ...\n",
      "Features extracted in 167.98 seconds\n",
      "Computing jaccard distance...\n"
     ]
    },
    {
     "name": "stderr",
     "output_type": "stream",
     "text": [
      "bruteForceKnn is deprecated; call bfKnn instead\n"
     ]
    },
    {
     "name": "stdout",
     "output_type": "stream",
     "text": [
      "Jaccard distance computing time cost: 73.98587465286255\n",
      "Reliability: 0.994\n",
      "\u001b[32mMean Purity: 0.01644\u001b[0m\n",
      "\u001b[34mThere are 2 clusters with 4 cameras\u001b[0m\n",
      "\u001b[34mThere are 3 clusters with 5 cameras\u001b[0m\n",
      "\u001b[34mThere are 2 clusters with 6 cameras\u001b[0m\n",
      "\u001b[34mThere are 2 clusters with 7 cameras\u001b[0m\n",
      "\u001b[34mThere are 2 clusters with 9 cameras\u001b[0m\n",
      "\u001b[34mThere are 1 clusters with 11 cameras\u001b[0m\n",
      "\u001b[34mThere are 1 clusters with 12 cameras\u001b[0m\n",
      "\u001b[34mThere are 1 clusters with 16 cameras\u001b[0m\n",
      "\u001b[34mThere are 1 clusters with 17 cameras\u001b[0m\n",
      "\u001b[34mThere are 1 clusters with 19 cameras\u001b[0m\n",
      "\u001b[34mThere are 1 clusters with 27 cameras\u001b[0m\n",
      "\u001b[34mThere are 1 clusters with 31 cameras\u001b[0m\n",
      "\u001b[34mThere are 1 clusters with 32 cameras\u001b[0m\n",
      "\u001b[34mThere are 1 clusters with 41 cameras\u001b[0m\n",
      "\u001b[34mThere are 1 clusters with 45 cameras\u001b[0m\n",
      "\u001b[34mThere are 1 clusters with 47 cameras\u001b[0m\n",
      "\u001b[34mThere are 1 clusters with 52 cameras\u001b[0m\n",
      "\u001b[34mThere are 1 clusters with 53 cameras\u001b[0m\n",
      "\u001b[34mThere are 2 clusters with 54 cameras\u001b[0m\n",
      "\u001b[34mThere are 1 clusters with 56 cameras\u001b[0m\n",
      "\u001b[34mThere are 3 clusters with 57 cameras\u001b[0m\n",
      "\u001b[34mThere are 1 clusters with 58 cameras\u001b[0m\n",
      "\u001b[34mThere are 6 clusters with 59 cameras\u001b[0m\n",
      "\u001b[34mThere are 9 clusters with 60 cameras\u001b[0m\n",
      "\u001b[34mThere are 13 clusters with 61 cameras\u001b[0m\n",
      "\u001b[34mThere are 26 clusters with 62 cameras\u001b[0m\n",
      "\u001b[34mThere are 36 clusters with 63 cameras\u001b[0m\n",
      "\u001b[34mThere are 461 clusters with 64 cameras\u001b[0m\n",
      "\u001b[34mThere are 1 clusters with 90 cameras\u001b[0m\n",
      "\u001b[34mThere are 1 clusters with 119 cameras\u001b[0m\n",
      "\u001b[34mThere are 1 clusters with 120 cameras\u001b[0m\n",
      "\u001b[34mThere are 1 clusters with 122 cameras\u001b[0m\n",
      "\u001b[34mThere are 1 clusters with 123 cameras\u001b[0m\n",
      "\u001b[34mThere are 2 clusters with 125 cameras\u001b[0m\n",
      "\u001b[34mThere are 2 clusters with 126 cameras\u001b[0m\n",
      "\u001b[34mThere are 1 clusters with 127 cameras\u001b[0m\n",
      "\u001b[34mThere are 8 clusters with 128 cameras\u001b[0m\n",
      "Number of classes: 600\n",
      "\u001b[36mLearning Rate: 0.000017\u001b[0m\n",
      "encontrou modelos efficientnet. Carregando...\n",
      "encontrou modelos convnext. Carregando...\n",
      "encontrou modelos mobilenet. Carregando...\n",
      "encontrou modelos vgg16. Carregando...\n",
      "encontrou modelos resnet50. Carregando...\n",
      "encontrou modelos osnet. Carregando...\n",
      "encontrou modelos densenet121. Carregando...\n",
      "###============ Iteration number 72/90 ============###\n",
      "Extracting Online Features for efficientnet ...\n",
      "Features extracted in 167.30 seconds\n",
      "Computing jaccard distance...\n"
     ]
    },
    {
     "name": "stderr",
     "output_type": "stream",
     "text": [
      "bruteForceKnn is deprecated; call bfKnn instead\n"
     ]
    },
    {
     "name": "stdout",
     "output_type": "stream",
     "text": [
      "Jaccard distance computing time cost: 75.85181832313538\n",
      "Extracting Online Features for convnext ...\n",
      "Features extracted in 163.15 seconds\n",
      "Computing jaccard distance...\n"
     ]
    },
    {
     "name": "stderr",
     "output_type": "stream",
     "text": [
      "bruteForceKnn is deprecated; call bfKnn instead\n"
     ]
    },
    {
     "name": "stdout",
     "output_type": "stream",
     "text": [
      "Jaccard distance computing time cost: 76.63373231887817\n",
      "Extracting Online Features for mobilenet ...\n",
      "Features extracted in 166.34 seconds\n",
      "Computing jaccard distance...\n"
     ]
    },
    {
     "name": "stderr",
     "output_type": "stream",
     "text": [
      "bruteForceKnn is deprecated; call bfKnn instead\n"
     ]
    },
    {
     "name": "stdout",
     "output_type": "stream",
     "text": [
      "Jaccard distance computing time cost: 78.46212124824524\n",
      "Extracting Online Features for vgg16 ...\n",
      "Features extracted in 230.50 seconds\n",
      "Computing jaccard distance...\n"
     ]
    },
    {
     "name": "stderr",
     "output_type": "stream",
     "text": [
      "bruteForceKnn is deprecated; call bfKnn instead\n"
     ]
    },
    {
     "name": "stdout",
     "output_type": "stream",
     "text": [
      "Jaccard distance computing time cost: 437.2544343471527\n",
      "Extracting Online Features for resnet50 ...\n",
      "Features extracted in 189.60 seconds\n",
      "Computing jaccard distance...\n"
     ]
    },
    {
     "name": "stderr",
     "output_type": "stream",
     "text": [
      "bruteForceKnn is deprecated; call bfKnn instead\n"
     ]
    },
    {
     "name": "stdout",
     "output_type": "stream",
     "text": [
      "Jaccard distance computing time cost: 71.5003592967987\n",
      "Extracting Online Features for osnet ...\n",
      "Features extracted in 175.27 seconds\n",
      "Computing jaccard distance...\n"
     ]
    },
    {
     "name": "stderr",
     "output_type": "stream",
     "text": [
      "bruteForceKnn is deprecated; call bfKnn instead\n"
     ]
    },
    {
     "name": "stdout",
     "output_type": "stream",
     "text": [
      "Jaccard distance computing time cost: 68.43235301971436\n",
      "Extracting Online Features for densenet121 ...\n",
      "Features extracted in 170.65 seconds\n",
      "Computing jaccard distance...\n"
     ]
    },
    {
     "name": "stderr",
     "output_type": "stream",
     "text": [
      "bruteForceKnn is deprecated; call bfKnn instead\n"
     ]
    },
    {
     "name": "stdout",
     "output_type": "stream",
     "text": [
      "Jaccard distance computing time cost: 123.28390431404114\n",
      "Reliability: 0.994\n",
      "\u001b[32mMean Purity: 0.01644\u001b[0m\n",
      "\u001b[34mThere are 2 clusters with 4 cameras\u001b[0m\n",
      "\u001b[34mThere are 3 clusters with 5 cameras\u001b[0m\n",
      "\u001b[34mThere are 2 clusters with 6 cameras\u001b[0m\n",
      "\u001b[34mThere are 2 clusters with 7 cameras\u001b[0m\n",
      "\u001b[34mThere are 2 clusters with 9 cameras\u001b[0m\n",
      "\u001b[34mThere are 1 clusters with 11 cameras\u001b[0m\n",
      "\u001b[34mThere are 1 clusters with 12 cameras\u001b[0m\n",
      "\u001b[34mThere are 1 clusters with 16 cameras\u001b[0m\n",
      "\u001b[34mThere are 1 clusters with 17 cameras\u001b[0m\n",
      "\u001b[34mThere are 1 clusters with 19 cameras\u001b[0m\n",
      "\u001b[34mThere are 1 clusters with 27 cameras\u001b[0m\n",
      "\u001b[34mThere are 1 clusters with 31 cameras\u001b[0m\n",
      "\u001b[34mThere are 1 clusters with 32 cameras\u001b[0m\n",
      "\u001b[34mThere are 1 clusters with 41 cameras\u001b[0m\n",
      "\u001b[34mThere are 1 clusters with 45 cameras\u001b[0m\n",
      "\u001b[34mThere are 1 clusters with 47 cameras\u001b[0m\n",
      "\u001b[34mThere are 1 clusters with 52 cameras\u001b[0m\n",
      "\u001b[34mThere are 1 clusters with 53 cameras\u001b[0m\n",
      "\u001b[34mThere are 2 clusters with 54 cameras\u001b[0m\n",
      "\u001b[34mThere are 1 clusters with 56 cameras\u001b[0m\n",
      "\u001b[34mThere are 3 clusters with 57 cameras\u001b[0m\n",
      "\u001b[34mThere are 1 clusters with 58 cameras\u001b[0m\n",
      "\u001b[34mThere are 6 clusters with 59 cameras\u001b[0m\n",
      "\u001b[34mThere are 9 clusters with 60 cameras\u001b[0m\n",
      "\u001b[34mThere are 13 clusters with 61 cameras\u001b[0m\n",
      "\u001b[34mThere are 26 clusters with 62 cameras\u001b[0m\n",
      "\u001b[34mThere are 36 clusters with 63 cameras\u001b[0m\n",
      "\u001b[34mThere are 461 clusters with 64 cameras\u001b[0m\n",
      "\u001b[34mThere are 1 clusters with 90 cameras\u001b[0m\n",
      "\u001b[34mThere are 1 clusters with 119 cameras\u001b[0m\n",
      "\u001b[34mThere are 1 clusters with 120 cameras\u001b[0m\n",
      "\u001b[34mThere are 1 clusters with 122 cameras\u001b[0m\n",
      "\u001b[34mThere are 1 clusters with 123 cameras\u001b[0m\n",
      "\u001b[34mThere are 2 clusters with 125 cameras\u001b[0m\n",
      "\u001b[34mThere are 2 clusters with 126 cameras\u001b[0m\n",
      "\u001b[34mThere are 1 clusters with 127 cameras\u001b[0m\n",
      "\u001b[34mThere are 8 clusters with 128 cameras\u001b[0m\n",
      "Number of classes: 600\n",
      "\u001b[36mLearning Rate: 0.000035\u001b[0m\n",
      "encontrou modelos efficientnet. Carregando...\n",
      "encontrou modelos convnext. Carregando...\n",
      "encontrou modelos mobilenet. Carregando...\n",
      "encontrou modelos vgg16. Carregando...\n",
      "encontrou modelos resnet50. Carregando...\n",
      "encontrou modelos osnet. Carregando...\n",
      "encontrou modelos densenet121. Carregando...\n",
      "###============ Iteration number 73/90 ============###\n",
      "Extracting Online Features for efficientnet ...\n",
      "Features extracted in 163.83 seconds\n",
      "Computing jaccard distance...\n"
     ]
    },
    {
     "name": "stderr",
     "output_type": "stream",
     "text": [
      "bruteForceKnn is deprecated; call bfKnn instead\n"
     ]
    },
    {
     "name": "stdout",
     "output_type": "stream",
     "text": [
      "Jaccard distance computing time cost: 92.91722226142883\n",
      "Extracting Online Features for convnext ...\n",
      "Features extracted in 178.47 seconds\n",
      "Computing jaccard distance...\n"
     ]
    },
    {
     "name": "stderr",
     "output_type": "stream",
     "text": [
      "bruteForceKnn is deprecated; call bfKnn instead\n"
     ]
    },
    {
     "name": "stdout",
     "output_type": "stream",
     "text": [
      "Jaccard distance computing time cost: 113.00267696380615\n",
      "Extracting Online Features for mobilenet ...\n",
      "Features extracted in 172.07 seconds\n",
      "Computing jaccard distance...\n"
     ]
    },
    {
     "name": "stderr",
     "output_type": "stream",
     "text": [
      "bruteForceKnn is deprecated; call bfKnn instead\n"
     ]
    },
    {
     "name": "stdout",
     "output_type": "stream",
     "text": [
      "Jaccard distance computing time cost: 71.11678719520569\n",
      "Extracting Online Features for vgg16 ...\n",
      "Features extracted in 157.17 seconds\n",
      "Computing jaccard distance...\n"
     ]
    },
    {
     "name": "stderr",
     "output_type": "stream",
     "text": [
      "bruteForceKnn is deprecated; call bfKnn instead\n"
     ]
    },
    {
     "name": "stdout",
     "output_type": "stream",
     "text": [
      "Jaccard distance computing time cost: 74.21055340766907\n",
      "Extracting Online Features for resnet50 ...\n",
      "Features extracted in 163.85 seconds\n",
      "Computing jaccard distance...\n"
     ]
    },
    {
     "name": "stderr",
     "output_type": "stream",
     "text": [
      "bruteForceKnn is deprecated; call bfKnn instead\n"
     ]
    },
    {
     "name": "stdout",
     "output_type": "stream",
     "text": [
      "Jaccard distance computing time cost: 72.55964779853821\n",
      "Extracting Online Features for osnet ...\n",
      "Features extracted in 156.85 seconds\n",
      "Computing jaccard distance...\n"
     ]
    },
    {
     "name": "stderr",
     "output_type": "stream",
     "text": [
      "bruteForceKnn is deprecated; call bfKnn instead\n"
     ]
    },
    {
     "name": "stdout",
     "output_type": "stream",
     "text": [
      "Jaccard distance computing time cost: 76.60902094841003\n",
      "Extracting Online Features for densenet121 ...\n",
      "Features extracted in 168.42 seconds\n",
      "Computing jaccard distance...\n"
     ]
    },
    {
     "name": "stderr",
     "output_type": "stream",
     "text": [
      "bruteForceKnn is deprecated; call bfKnn instead\n"
     ]
    },
    {
     "name": "stdout",
     "output_type": "stream",
     "text": [
      "Jaccard distance computing time cost: 87.98594284057617\n",
      "Reliability: 0.994\n",
      "\u001b[32mMean Purity: 0.01644\u001b[0m\n",
      "\u001b[34mThere are 2 clusters with 4 cameras\u001b[0m\n",
      "\u001b[34mThere are 3 clusters with 5 cameras\u001b[0m\n",
      "\u001b[34mThere are 2 clusters with 6 cameras\u001b[0m\n",
      "\u001b[34mThere are 2 clusters with 7 cameras\u001b[0m\n",
      "\u001b[34mThere are 2 clusters with 9 cameras\u001b[0m\n",
      "\u001b[34mThere are 1 clusters with 11 cameras\u001b[0m\n",
      "\u001b[34mThere are 1 clusters with 12 cameras\u001b[0m\n",
      "\u001b[34mThere are 1 clusters with 16 cameras\u001b[0m\n",
      "\u001b[34mThere are 1 clusters with 17 cameras\u001b[0m\n",
      "\u001b[34mThere are 1 clusters with 19 cameras\u001b[0m\n",
      "\u001b[34mThere are 1 clusters with 27 cameras\u001b[0m\n",
      "\u001b[34mThere are 1 clusters with 31 cameras\u001b[0m\n",
      "\u001b[34mThere are 1 clusters with 32 cameras\u001b[0m\n",
      "\u001b[34mThere are 1 clusters with 41 cameras\u001b[0m\n",
      "\u001b[34mThere are 1 clusters with 45 cameras\u001b[0m\n",
      "\u001b[34mThere are 1 clusters with 47 cameras\u001b[0m\n",
      "\u001b[34mThere are 1 clusters with 52 cameras\u001b[0m\n",
      "\u001b[34mThere are 1 clusters with 53 cameras\u001b[0m\n",
      "\u001b[34mThere are 2 clusters with 54 cameras\u001b[0m\n",
      "\u001b[34mThere are 1 clusters with 56 cameras\u001b[0m\n",
      "\u001b[34mThere are 3 clusters with 57 cameras\u001b[0m\n",
      "\u001b[34mThere are 1 clusters with 58 cameras\u001b[0m\n",
      "\u001b[34mThere are 6 clusters with 59 cameras\u001b[0m\n",
      "\u001b[34mThere are 9 clusters with 60 cameras\u001b[0m\n",
      "\u001b[34mThere are 13 clusters with 61 cameras\u001b[0m\n",
      "\u001b[34mThere are 26 clusters with 62 cameras\u001b[0m\n",
      "\u001b[34mThere are 36 clusters with 63 cameras\u001b[0m\n",
      "\u001b[34mThere are 461 clusters with 64 cameras\u001b[0m\n",
      "\u001b[34mThere are 1 clusters with 90 cameras\u001b[0m\n",
      "\u001b[34mThere are 1 clusters with 119 cameras\u001b[0m\n",
      "\u001b[34mThere are 1 clusters with 120 cameras\u001b[0m\n",
      "\u001b[34mThere are 1 clusters with 122 cameras\u001b[0m\n",
      "\u001b[34mThere are 1 clusters with 123 cameras\u001b[0m\n",
      "\u001b[34mThere are 2 clusters with 125 cameras\u001b[0m\n",
      "\u001b[34mThere are 2 clusters with 126 cameras\u001b[0m\n",
      "\u001b[34mThere are 1 clusters with 127 cameras\u001b[0m\n",
      "\u001b[34mThere are 8 clusters with 128 cameras\u001b[0m\n",
      "Number of classes: 600\n",
      "\u001b[36mLearning Rate: 0.000053\u001b[0m\n",
      "encontrou modelos efficientnet. Carregando...\n",
      "encontrou modelos convnext. Carregando...\n",
      "encontrou modelos mobilenet. Carregando...\n",
      "encontrou modelos vgg16. Carregando...\n",
      "encontrou modelos resnet50. Carregando...\n",
      "encontrou modelos osnet. Carregando...\n",
      "encontrou modelos densenet121. Carregando...\n",
      "###============ Iteration number 74/90 ============###\n",
      "Extracting Online Features for efficientnet ...\n",
      "Features extracted in 155.38 seconds\n",
      "Computing jaccard distance...\n"
     ]
    },
    {
     "name": "stderr",
     "output_type": "stream",
     "text": [
      "bruteForceKnn is deprecated; call bfKnn instead\n"
     ]
    },
    {
     "name": "stdout",
     "output_type": "stream",
     "text": [
      "Jaccard distance computing time cost: 73.74106097221375\n",
      "Extracting Online Features for convnext ...\n",
      "Features extracted in 160.37 seconds\n",
      "Computing jaccard distance...\n"
     ]
    },
    {
     "name": "stderr",
     "output_type": "stream",
     "text": [
      "bruteForceKnn is deprecated; call bfKnn instead\n"
     ]
    },
    {
     "name": "stdout",
     "output_type": "stream",
     "text": [
      "Jaccard distance computing time cost: 75.09110021591187\n",
      "Extracting Online Features for mobilenet ...\n",
      "Features extracted in 152.57 seconds\n",
      "Computing jaccard distance...\n"
     ]
    },
    {
     "name": "stderr",
     "output_type": "stream",
     "text": [
      "bruteForceKnn is deprecated; call bfKnn instead\n"
     ]
    },
    {
     "name": "stdout",
     "output_type": "stream",
     "text": [
      "Jaccard distance computing time cost: 71.15616655349731\n",
      "Extracting Online Features for vgg16 ...\n",
      "Features extracted in 154.76 seconds\n",
      "Computing jaccard distance...\n"
     ]
    },
    {
     "name": "stderr",
     "output_type": "stream",
     "text": [
      "bruteForceKnn is deprecated; call bfKnn instead\n"
     ]
    },
    {
     "name": "stdout",
     "output_type": "stream",
     "text": [
      "Jaccard distance computing time cost: 97.21574330329895\n",
      "Extracting Online Features for resnet50 ...\n",
      "Features extracted in 172.59 seconds\n",
      "Computing jaccard distance...\n"
     ]
    },
    {
     "name": "stderr",
     "output_type": "stream",
     "text": [
      "bruteForceKnn is deprecated; call bfKnn instead\n"
     ]
    },
    {
     "name": "stdout",
     "output_type": "stream",
     "text": [
      "Jaccard distance computing time cost: 81.56352305412292\n",
      "Extracting Online Features for osnet ...\n",
      "Features extracted in 163.44 seconds\n",
      "Computing jaccard distance...\n"
     ]
    },
    {
     "name": "stderr",
     "output_type": "stream",
     "text": [
      "bruteForceKnn is deprecated; call bfKnn instead\n"
     ]
    },
    {
     "name": "stdout",
     "output_type": "stream",
     "text": [
      "Jaccard distance computing time cost: 88.52021646499634\n",
      "Extracting Online Features for densenet121 ...\n",
      "Features extracted in 204.00 seconds\n",
      "Computing jaccard distance...\n"
     ]
    },
    {
     "name": "stderr",
     "output_type": "stream",
     "text": [
      "bruteForceKnn is deprecated; call bfKnn instead\n"
     ]
    },
    {
     "name": "stdout",
     "output_type": "stream",
     "text": [
      "Jaccard distance computing time cost: 139.39685940742493\n",
      "Reliability: 0.994\n",
      "\u001b[32mMean Purity: 0.01644\u001b[0m\n",
      "\u001b[34mThere are 2 clusters with 4 cameras\u001b[0m\n",
      "\u001b[34mThere are 3 clusters with 5 cameras\u001b[0m\n",
      "\u001b[34mThere are 2 clusters with 6 cameras\u001b[0m\n",
      "\u001b[34mThere are 2 clusters with 7 cameras\u001b[0m\n",
      "\u001b[34mThere are 2 clusters with 9 cameras\u001b[0m\n",
      "\u001b[34mThere are 1 clusters with 11 cameras\u001b[0m\n",
      "\u001b[34mThere are 1 clusters with 12 cameras\u001b[0m\n",
      "\u001b[34mThere are 1 clusters with 16 cameras\u001b[0m\n",
      "\u001b[34mThere are 1 clusters with 17 cameras\u001b[0m\n",
      "\u001b[34mThere are 1 clusters with 19 cameras\u001b[0m\n",
      "\u001b[34mThere are 1 clusters with 27 cameras\u001b[0m\n",
      "\u001b[34mThere are 1 clusters with 31 cameras\u001b[0m\n",
      "\u001b[34mThere are 1 clusters with 32 cameras\u001b[0m\n",
      "\u001b[34mThere are 1 clusters with 41 cameras\u001b[0m\n",
      "\u001b[34mThere are 1 clusters with 45 cameras\u001b[0m\n",
      "\u001b[34mThere are 1 clusters with 47 cameras\u001b[0m\n",
      "\u001b[34mThere are 1 clusters with 52 cameras\u001b[0m\n",
      "\u001b[34mThere are 1 clusters with 53 cameras\u001b[0m\n",
      "\u001b[34mThere are 2 clusters with 54 cameras\u001b[0m\n",
      "\u001b[34mThere are 1 clusters with 56 cameras\u001b[0m\n",
      "\u001b[34mThere are 3 clusters with 57 cameras\u001b[0m\n",
      "\u001b[34mThere are 1 clusters with 58 cameras\u001b[0m\n",
      "\u001b[34mThere are 6 clusters with 59 cameras\u001b[0m\n",
      "\u001b[34mThere are 9 clusters with 60 cameras\u001b[0m\n",
      "\u001b[34mThere are 13 clusters with 61 cameras\u001b[0m\n",
      "\u001b[34mThere are 26 clusters with 62 cameras\u001b[0m\n",
      "\u001b[34mThere are 36 clusters with 63 cameras\u001b[0m\n",
      "\u001b[34mThere are 461 clusters with 64 cameras\u001b[0m\n",
      "\u001b[34mThere are 1 clusters with 90 cameras\u001b[0m\n",
      "\u001b[34mThere are 1 clusters with 119 cameras\u001b[0m\n",
      "\u001b[34mThere are 1 clusters with 120 cameras\u001b[0m\n",
      "\u001b[34mThere are 1 clusters with 122 cameras\u001b[0m\n",
      "\u001b[34mThere are 1 clusters with 123 cameras\u001b[0m\n",
      "\u001b[34mThere are 2 clusters with 125 cameras\u001b[0m\n",
      "\u001b[34mThere are 2 clusters with 126 cameras\u001b[0m\n",
      "\u001b[34mThere are 1 clusters with 127 cameras\u001b[0m\n",
      "\u001b[34mThere are 8 clusters with 128 cameras\u001b[0m\n",
      "Number of classes: 600\n",
      "\u001b[36mLearning Rate: 0.000070\u001b[0m\n",
      "encontrou modelos efficientnet. Carregando...\n",
      "encontrou modelos convnext. Carregando...\n",
      "encontrou modelos mobilenet. Carregando...\n",
      "encontrou modelos vgg16. Carregando...\n",
      "encontrou modelos resnet50. Carregando...\n",
      "encontrou modelos osnet. Carregando...\n",
      "encontrou modelos densenet121. Carregando...\n",
      "###============ Iteration number 75/90 ============###\n",
      "Extracting Online Features for efficientnet ...\n",
      "Features extracted in 152.95 seconds\n",
      "Computing jaccard distance...\n"
     ]
    },
    {
     "name": "stderr",
     "output_type": "stream",
     "text": [
      "bruteForceKnn is deprecated; call bfKnn instead\n"
     ]
    },
    {
     "name": "stdout",
     "output_type": "stream",
     "text": [
      "Jaccard distance computing time cost: 71.85662722587585\n",
      "Extracting Online Features for convnext ...\n",
      "Features extracted in 156.77 seconds\n",
      "Computing jaccard distance...\n"
     ]
    },
    {
     "name": "stderr",
     "output_type": "stream",
     "text": [
      "bruteForceKnn is deprecated; call bfKnn instead\n"
     ]
    },
    {
     "name": "stdout",
     "output_type": "stream",
     "text": [
      "Jaccard distance computing time cost: 100.50287508964539\n",
      "Extracting Online Features for mobilenet ...\n",
      "Features extracted in 260.72 seconds\n",
      "Computing jaccard distance...\n"
     ]
    },
    {
     "name": "stderr",
     "output_type": "stream",
     "text": [
      "bruteForceKnn is deprecated; call bfKnn instead\n"
     ]
    },
    {
     "name": "stdout",
     "output_type": "stream",
     "text": [
      "Jaccard distance computing time cost: 159.58384156227112\n",
      "Extracting Online Features for vgg16 ...\n",
      "Features extracted in 223.05 seconds\n",
      "Computing jaccard distance...\n"
     ]
    },
    {
     "name": "stderr",
     "output_type": "stream",
     "text": [
      "bruteForceKnn is deprecated; call bfKnn instead\n"
     ]
    },
    {
     "name": "stdout",
     "output_type": "stream",
     "text": [
      "Jaccard distance computing time cost: 143.71042346954346\n",
      "Extracting Online Features for resnet50 ...\n",
      "Features extracted in 228.05 seconds\n",
      "Computing jaccard distance...\n"
     ]
    },
    {
     "name": "stderr",
     "output_type": "stream",
     "text": [
      "bruteForceKnn is deprecated; call bfKnn instead\n"
     ]
    },
    {
     "name": "stdout",
     "output_type": "stream",
     "text": [
      "Jaccard distance computing time cost: 151.13603115081787\n",
      "Extracting Online Features for osnet ...\n",
      "Features extracted in 156.73 seconds\n",
      "Computing jaccard distance...\n"
     ]
    },
    {
     "name": "stderr",
     "output_type": "stream",
     "text": [
      "bruteForceKnn is deprecated; call bfKnn instead\n"
     ]
    },
    {
     "name": "stdout",
     "output_type": "stream",
     "text": [
      "Jaccard distance computing time cost: 76.10186958312988\n",
      "Extracting Online Features for densenet121 ...\n",
      "Features extracted in 159.09 seconds\n",
      "Computing jaccard distance...\n"
     ]
    },
    {
     "name": "stderr",
     "output_type": "stream",
     "text": [
      "bruteForceKnn is deprecated; call bfKnn instead\n"
     ]
    },
    {
     "name": "stdout",
     "output_type": "stream",
     "text": [
      "Jaccard distance computing time cost: 76.54109144210815\n",
      "Reliability: 0.994\n",
      "\u001b[32mMean Purity: 0.01644\u001b[0m\n",
      "\u001b[34mThere are 2 clusters with 4 cameras\u001b[0m\n",
      "\u001b[34mThere are 3 clusters with 5 cameras\u001b[0m\n",
      "\u001b[34mThere are 2 clusters with 6 cameras\u001b[0m\n",
      "\u001b[34mThere are 2 clusters with 7 cameras\u001b[0m\n",
      "\u001b[34mThere are 2 clusters with 9 cameras\u001b[0m\n",
      "\u001b[34mThere are 1 clusters with 11 cameras\u001b[0m\n",
      "\u001b[34mThere are 1 clusters with 12 cameras\u001b[0m\n",
      "\u001b[34mThere are 1 clusters with 16 cameras\u001b[0m\n",
      "\u001b[34mThere are 1 clusters with 17 cameras\u001b[0m\n",
      "\u001b[34mThere are 1 clusters with 19 cameras\u001b[0m\n",
      "\u001b[34mThere are 1 clusters with 27 cameras\u001b[0m\n",
      "\u001b[34mThere are 1 clusters with 31 cameras\u001b[0m\n",
      "\u001b[34mThere are 1 clusters with 32 cameras\u001b[0m\n",
      "\u001b[34mThere are 1 clusters with 41 cameras\u001b[0m\n",
      "\u001b[34mThere are 1 clusters with 45 cameras\u001b[0m\n",
      "\u001b[34mThere are 1 clusters with 47 cameras\u001b[0m\n",
      "\u001b[34mThere are 1 clusters with 52 cameras\u001b[0m\n",
      "\u001b[34mThere are 1 clusters with 53 cameras\u001b[0m\n",
      "\u001b[34mThere are 2 clusters with 54 cameras\u001b[0m\n",
      "\u001b[34mThere are 1 clusters with 56 cameras\u001b[0m\n",
      "\u001b[34mThere are 3 clusters with 57 cameras\u001b[0m\n",
      "\u001b[34mThere are 1 clusters with 58 cameras\u001b[0m\n",
      "\u001b[34mThere are 6 clusters with 59 cameras\u001b[0m\n",
      "\u001b[34mThere are 9 clusters with 60 cameras\u001b[0m\n",
      "\u001b[34mThere are 13 clusters with 61 cameras\u001b[0m\n",
      "\u001b[34mThere are 26 clusters with 62 cameras\u001b[0m\n",
      "\u001b[34mThere are 36 clusters with 63 cameras\u001b[0m\n",
      "\u001b[34mThere are 461 clusters with 64 cameras\u001b[0m\n",
      "\u001b[34mThere are 1 clusters with 90 cameras\u001b[0m\n",
      "\u001b[34mThere are 1 clusters with 119 cameras\u001b[0m\n",
      "\u001b[34mThere are 1 clusters with 120 cameras\u001b[0m\n",
      "\u001b[34mThere are 1 clusters with 122 cameras\u001b[0m\n",
      "\u001b[34mThere are 1 clusters with 123 cameras\u001b[0m\n",
      "\u001b[34mThere are 2 clusters with 125 cameras\u001b[0m\n",
      "\u001b[34mThere are 2 clusters with 126 cameras\u001b[0m\n",
      "\u001b[34mThere are 1 clusters with 127 cameras\u001b[0m\n",
      "\u001b[34mThere are 8 clusters with 128 cameras\u001b[0m\n",
      "Number of classes: 600\n",
      "\u001b[36mLearning Rate: 0.000088\u001b[0m\n",
      "encontrou modelos efficientnet. Carregando...\n",
      "encontrou modelos convnext. Carregando...\n",
      "encontrou modelos mobilenet. Carregando...\n",
      "encontrou modelos vgg16. Carregando...\n",
      "encontrou modelos resnet50. Carregando...\n",
      "encontrou modelos osnet. Carregando...\n",
      "encontrou modelos densenet121. Carregando...\n",
      "\u001b[33mValidating online efficientnet ...\u001b[0m\n",
      "Features extracted in 48.41 seconds\n",
      "Features extracted in 100.49 seconds\n",
      "Computing CMC and mAP ...\n",
      "** Results **\n",
      "mAP: 69.91%\n",
      "CMC curve\n",
      "Rank-1  : 73.59%\n",
      "Rank-5  : 94.54%\n",
      "Rank-10 : 97.70%\n",
      "Rank-20 : 99.20%\n",
      "\u001b[33mValidating momentum efficientnet ...\u001b[0m\n",
      "Features extracted in 48.72 seconds\n",
      "Features extracted in 100.76 seconds\n",
      "Computing CMC and mAP ...\n",
      "** Results **\n",
      "mAP: 70.66%\n",
      "CMC curve\n",
      "Rank-1  : 76.80%\n",
      "Rank-5  : 93.39%\n",
      "Rank-10 : 96.79%\n",
      "Rank-20 : 98.68%\n",
      "\u001b[33mValidating online convnext ...\u001b[0m\n",
      "Features extracted in 50.10 seconds\n",
      "Features extracted in 102.64 seconds\n",
      "Computing CMC and mAP ...\n",
      "** Results **\n",
      "mAP: 70.08%\n",
      "CMC curve\n",
      "Rank-1  : 75.63%\n",
      "Rank-5  : 92.61%\n",
      "Rank-10 : 96.93%\n",
      "Rank-20 : 99.29%\n",
      "\u001b[33mValidating momentum convnext ...\u001b[0m\n",
      "Features extracted in 49.93 seconds\n",
      "Features extracted in 104.27 seconds\n",
      "Computing CMC and mAP ...\n",
      "** Results **\n",
      "mAP: 70.46%\n",
      "CMC curve\n",
      "Rank-1  : 77.49%\n",
      "Rank-5  : 93.71%\n",
      "Rank-10 : 96.84%\n",
      "Rank-20 : 98.71%\n",
      "\u001b[33mValidating online mobilenet ...\u001b[0m\n",
      "Features extracted in 48.57 seconds\n",
      "Features extracted in 100.42 seconds\n",
      "Computing CMC and mAP ...\n",
      "** Results **\n",
      "mAP: 71.39%\n",
      "CMC curve\n",
      "Rank-1  : 81.53%\n",
      "Rank-5  : 95.41%\n",
      "Rank-10 : 98.02%\n",
      "Rank-20 : 99.18%\n",
      "\u001b[33mValidating momentum mobilenet ...\u001b[0m\n",
      "Features extracted in 48.25 seconds\n",
      "Features extracted in 98.52 seconds\n",
      "Computing CMC and mAP ...\n",
      "** Results **\n",
      "mAP: 70.86%\n",
      "CMC curve\n",
      "Rank-1  : 78.95%\n",
      "Rank-5  : 93.89%\n",
      "Rank-10 : 97.47%\n",
      "Rank-20 : 99.27%\n",
      "\u001b[33mValidating online vgg16 ...\u001b[0m\n",
      "Features extracted in 50.59 seconds\n",
      "Features extracted in 101.16 seconds\n",
      "Computing CMC and mAP ...\n",
      "** Results **\n",
      "mAP: 69.67%\n",
      "CMC curve\n",
      "Rank-1  : 74.49%\n",
      "Rank-5  : 92.27%\n",
      "Rank-10 : 96.56%\n",
      "Rank-20 : 99.05%\n",
      "\u001b[33mValidating momentum vgg16 ...\u001b[0m\n",
      "Features extracted in 49.71 seconds\n",
      "Features extracted in 101.27 seconds\n",
      "Computing CMC and mAP ...\n",
      "** Results **\n",
      "mAP: 69.72%\n",
      "CMC curve\n",
      "Rank-1  : 75.80%\n",
      "Rank-5  : 92.91%\n",
      "Rank-10 : 97.25%\n",
      "Rank-20 : 99.09%\n",
      "\u001b[33mValidating online resnet50 ...\u001b[0m\n",
      "Features extracted in 49.98 seconds\n",
      "Features extracted in 99.17 seconds\n",
      "Computing CMC and mAP ...\n",
      "** Results **\n",
      "mAP: 69.64%\n",
      "CMC curve\n",
      "Rank-1  : 70.07%\n",
      "Rank-5  : 91.28%\n",
      "Rank-10 : 96.04%\n",
      "Rank-20 : 98.68%\n",
      "\u001b[33mValidating momentum resnet50 ...\u001b[0m\n",
      "Features extracted in 50.10 seconds\n",
      "Features extracted in 99.88 seconds\n",
      "Computing CMC and mAP ...\n",
      "** Results **\n",
      "mAP: 70.02%\n",
      "CMC curve\n",
      "Rank-1  : 73.39%\n",
      "Rank-5  : 93.49%\n",
      "Rank-10 : 97.50%\n",
      "Rank-20 : 99.37%\n",
      "\u001b[33mValidating online osnet ...\u001b[0m\n",
      "Features extracted in 48.82 seconds\n",
      "Features extracted in 100.60 seconds\n",
      "Computing CMC and mAP ...\n",
      "** Results **\n",
      "mAP: 68.61%\n",
      "CMC curve\n",
      "Rank-1  : 73.02%\n",
      "Rank-5  : 95.04%\n",
      "Rank-10 : 98.36%\n",
      "Rank-20 : 99.48%\n",
      "\u001b[33mValidating momentum osnet ...\u001b[0m\n",
      "Features extracted in 50.31 seconds\n",
      "Features extracted in 100.68 seconds\n",
      "Computing CMC and mAP ...\n",
      "** Results **\n",
      "mAP: 69.41%\n",
      "CMC curve\n",
      "Rank-1  : 73.33%\n",
      "Rank-5  : 93.05%\n",
      "Rank-10 : 97.14%\n",
      "Rank-20 : 99.12%\n",
      "\u001b[33mValidating online densenet121 ...\u001b[0m\n",
      "Features extracted in 51.48 seconds\n",
      "Features extracted in 100.45 seconds\n",
      "Computing CMC and mAP ...\n",
      "** Results **\n",
      "mAP: 70.12%\n",
      "CMC curve\n",
      "Rank-1  : 75.15%\n",
      "Rank-5  : 92.89%\n",
      "Rank-10 : 97.00%\n",
      "Rank-20 : 98.95%\n",
      "\u001b[33mValidating momentum densenet121 ...\u001b[0m\n",
      "Features extracted in 50.95 seconds\n",
      "Features extracted in 101.87 seconds\n",
      "Computing CMC and mAP ...\n",
      "** Results **\n",
      "mAP: 69.53%\n",
      "CMC curve\n",
      "Rank-1  : 75.91%\n",
      "Rank-5  : 93.33%\n",
      "Rank-10 : 97.31%\n",
      "Rank-20 : 99.25%\n",
      "\u001b[33mValidating ensembled with online models ...\u001b[0m\n",
      "Computing CMC and mAP ...\n",
      "** Results **\n",
      "mAP: 71.17%\n",
      "Ranks:\n",
      "Rank-1  : 78.73%\n",
      "Rank-5  : 92.94%\n",
      "Rank-10 : 96.83%\n",
      "\u001b[33mValidating ensembled with momentum models ...\u001b[0m\n",
      "Computing CMC and mAP ...\n",
      "** Results **\n",
      "mAP: 71.11%\n",
      "Ranks:\n",
      "Rank-1  : 79.83%\n",
      "Rank-5  : 92.92%\n",
      "Rank-10 : 96.74%\n",
      "###============ Iteration number 76/90 ============###\n",
      "Extracting Online Features for efficientnet ...\n",
      "Features extracted in 153.34 seconds\n",
      "Computing jaccard distance...\n"
     ]
    },
    {
     "name": "stderr",
     "output_type": "stream",
     "text": [
      "bruteForceKnn is deprecated; call bfKnn instead\n"
     ]
    },
    {
     "name": "stdout",
     "output_type": "stream",
     "text": [
      "Jaccard distance computing time cost: 71.14992904663086\n",
      "Extracting Online Features for convnext ...\n",
      "Features extracted in 160.41 seconds\n",
      "Computing jaccard distance...\n"
     ]
    },
    {
     "name": "stderr",
     "output_type": "stream",
     "text": [
      "bruteForceKnn is deprecated; call bfKnn instead\n"
     ]
    },
    {
     "name": "stdout",
     "output_type": "stream",
     "text": [
      "Jaccard distance computing time cost: 175.80967092514038\n",
      "Extracting Online Features for mobilenet ...\n",
      "Features extracted in 186.99 seconds\n",
      "Computing jaccard distance...\n"
     ]
    },
    {
     "name": "stderr",
     "output_type": "stream",
     "text": [
      "bruteForceKnn is deprecated; call bfKnn instead\n"
     ]
    },
    {
     "name": "stdout",
     "output_type": "stream",
     "text": [
      "Jaccard distance computing time cost: 179.98123908042908\n",
      "Extracting Online Features for vgg16 ...\n",
      "Features extracted in 166.88 seconds\n",
      "Computing jaccard distance...\n"
     ]
    },
    {
     "name": "stderr",
     "output_type": "stream",
     "text": [
      "bruteForceKnn is deprecated; call bfKnn instead\n"
     ]
    },
    {
     "name": "stdout",
     "output_type": "stream",
     "text": [
      "Jaccard distance computing time cost: 176.4549479484558\n",
      "Extracting Online Features for resnet50 ...\n",
      "Features extracted in 161.56 seconds\n",
      "Computing jaccard distance...\n"
     ]
    },
    {
     "name": "stderr",
     "output_type": "stream",
     "text": [
      "bruteForceKnn is deprecated; call bfKnn instead\n"
     ]
    },
    {
     "name": "stdout",
     "output_type": "stream",
     "text": [
      "Jaccard distance computing time cost: 116.48082709312439\n",
      "Extracting Online Features for osnet ...\n",
      "Features extracted in 163.00 seconds\n",
      "Computing jaccard distance...\n"
     ]
    },
    {
     "name": "stderr",
     "output_type": "stream",
     "text": [
      "bruteForceKnn is deprecated; call bfKnn instead\n"
     ]
    },
    {
     "name": "stdout",
     "output_type": "stream",
     "text": [
      "Jaccard distance computing time cost: 141.03082275390625\n",
      "Extracting Online Features for densenet121 ...\n",
      "Features extracted in 166.84 seconds\n",
      "Computing jaccard distance...\n"
     ]
    },
    {
     "name": "stderr",
     "output_type": "stream",
     "text": [
      "bruteForceKnn is deprecated; call bfKnn instead\n"
     ]
    },
    {
     "name": "stdout",
     "output_type": "stream",
     "text": [
      "Jaccard distance computing time cost: 89.78103232383728\n",
      "Reliability: 0.994\n",
      "\u001b[32mMean Purity: 0.01644\u001b[0m\n",
      "\u001b[34mThere are 2 clusters with 4 cameras\u001b[0m\n",
      "\u001b[34mThere are 3 clusters with 5 cameras\u001b[0m\n",
      "\u001b[34mThere are 2 clusters with 6 cameras\u001b[0m\n",
      "\u001b[34mThere are 2 clusters with 7 cameras\u001b[0m\n",
      "\u001b[34mThere are 2 clusters with 9 cameras\u001b[0m\n",
      "\u001b[34mThere are 1 clusters with 11 cameras\u001b[0m\n",
      "\u001b[34mThere are 1 clusters with 12 cameras\u001b[0m\n",
      "\u001b[34mThere are 1 clusters with 16 cameras\u001b[0m\n",
      "\u001b[34mThere are 1 clusters with 17 cameras\u001b[0m\n",
      "\u001b[34mThere are 1 clusters with 19 cameras\u001b[0m\n",
      "\u001b[34mThere are 1 clusters with 27 cameras\u001b[0m\n",
      "\u001b[34mThere are 1 clusters with 31 cameras\u001b[0m\n",
      "\u001b[34mThere are 1 clusters with 32 cameras\u001b[0m\n",
      "\u001b[34mThere are 1 clusters with 41 cameras\u001b[0m\n",
      "\u001b[34mThere are 1 clusters with 45 cameras\u001b[0m\n",
      "\u001b[34mThere are 1 clusters with 47 cameras\u001b[0m\n",
      "\u001b[34mThere are 1 clusters with 52 cameras\u001b[0m\n",
      "\u001b[34mThere are 1 clusters with 53 cameras\u001b[0m\n",
      "\u001b[34mThere are 2 clusters with 54 cameras\u001b[0m\n",
      "\u001b[34mThere are 1 clusters with 56 cameras\u001b[0m\n",
      "\u001b[34mThere are 3 clusters with 57 cameras\u001b[0m\n",
      "\u001b[34mThere are 1 clusters with 58 cameras\u001b[0m\n",
      "\u001b[34mThere are 6 clusters with 59 cameras\u001b[0m\n",
      "\u001b[34mThere are 9 clusters with 60 cameras\u001b[0m\n",
      "\u001b[34mThere are 13 clusters with 61 cameras\u001b[0m\n",
      "\u001b[34mThere are 26 clusters with 62 cameras\u001b[0m\n",
      "\u001b[34mThere are 36 clusters with 63 cameras\u001b[0m\n",
      "\u001b[34mThere are 461 clusters with 64 cameras\u001b[0m\n",
      "\u001b[34mThere are 1 clusters with 90 cameras\u001b[0m\n",
      "\u001b[34mThere are 1 clusters with 119 cameras\u001b[0m\n",
      "\u001b[34mThere are 1 clusters with 120 cameras\u001b[0m\n",
      "\u001b[34mThere are 1 clusters with 122 cameras\u001b[0m\n",
      "\u001b[34mThere are 1 clusters with 123 cameras\u001b[0m\n",
      "\u001b[34mThere are 2 clusters with 125 cameras\u001b[0m\n",
      "\u001b[34mThere are 2 clusters with 126 cameras\u001b[0m\n",
      "\u001b[34mThere are 1 clusters with 127 cameras\u001b[0m\n",
      "\u001b[34mThere are 8 clusters with 128 cameras\u001b[0m\n",
      "Number of classes: 600\n",
      "\u001b[36mLearning Rate: 0.000105\u001b[0m\n",
      "encontrou modelos efficientnet. Carregando...\n",
      "encontrou modelos convnext. Carregando...\n",
      "encontrou modelos mobilenet. Carregando...\n",
      "encontrou modelos vgg16. Carregando...\n",
      "encontrou modelos resnet50. Carregando...\n",
      "encontrou modelos osnet. Carregando...\n",
      "encontrou modelos densenet121. Carregando...\n",
      "###============ Iteration number 77/90 ============###\n",
      "Extracting Online Features for efficientnet ...\n",
      "Features extracted in 154.52 seconds\n",
      "Computing jaccard distance...\n"
     ]
    },
    {
     "name": "stderr",
     "output_type": "stream",
     "text": [
      "bruteForceKnn is deprecated; call bfKnn instead\n"
     ]
    },
    {
     "name": "stdout",
     "output_type": "stream",
     "text": [
      "Jaccard distance computing time cost: 80.06393527984619\n",
      "Extracting Online Features for convnext ...\n",
      "Features extracted in 152.15 seconds\n",
      "Computing jaccard distance...\n"
     ]
    },
    {
     "name": "stderr",
     "output_type": "stream",
     "text": [
      "bruteForceKnn is deprecated; call bfKnn instead\n"
     ]
    },
    {
     "name": "stdout",
     "output_type": "stream",
     "text": [
      "Jaccard distance computing time cost: 82.2929949760437\n",
      "Extracting Online Features for mobilenet ...\n",
      "Features extracted in 266.65 seconds\n",
      "Computing jaccard distance...\n"
     ]
    },
    {
     "name": "stderr",
     "output_type": "stream",
     "text": [
      "bruteForceKnn is deprecated; call bfKnn instead\n"
     ]
    },
    {
     "name": "stdout",
     "output_type": "stream",
     "text": [
      "Jaccard distance computing time cost: 169.4136519432068\n",
      "Extracting Online Features for vgg16 ...\n",
      "Features extracted in 155.22 seconds\n",
      "Computing jaccard distance...\n"
     ]
    },
    {
     "name": "stderr",
     "output_type": "stream",
     "text": [
      "bruteForceKnn is deprecated; call bfKnn instead\n"
     ]
    },
    {
     "name": "stdout",
     "output_type": "stream",
     "text": [
      "Jaccard distance computing time cost: 161.60923027992249\n",
      "Extracting Online Features for resnet50 ...\n",
      "Features extracted in 165.75 seconds\n",
      "Computing jaccard distance...\n"
     ]
    },
    {
     "name": "stderr",
     "output_type": "stream",
     "text": [
      "bruteForceKnn is deprecated; call bfKnn instead\n"
     ]
    },
    {
     "name": "stdout",
     "output_type": "stream",
     "text": [
      "Jaccard distance computing time cost: 128.5506820678711\n",
      "Extracting Online Features for osnet ...\n",
      "Features extracted in 161.91 seconds\n",
      "Computing jaccard distance...\n"
     ]
    },
    {
     "name": "stderr",
     "output_type": "stream",
     "text": [
      "bruteForceKnn is deprecated; call bfKnn instead\n"
     ]
    },
    {
     "name": "stdout",
     "output_type": "stream",
     "text": [
      "Jaccard distance computing time cost: 82.42969918251038\n",
      "Extracting Online Features for densenet121 ...\n",
      "Features extracted in 160.02 seconds\n",
      "Computing jaccard distance...\n"
     ]
    },
    {
     "name": "stderr",
     "output_type": "stream",
     "text": [
      "bruteForceKnn is deprecated; call bfKnn instead\n"
     ]
    },
    {
     "name": "stdout",
     "output_type": "stream",
     "text": [
      "Jaccard distance computing time cost: 78.72271132469177\n",
      "Reliability: 0.994\n",
      "\u001b[32mMean Purity: 0.01644\u001b[0m\n",
      "\u001b[34mThere are 2 clusters with 4 cameras\u001b[0m\n",
      "\u001b[34mThere are 3 clusters with 5 cameras\u001b[0m\n",
      "\u001b[34mThere are 2 clusters with 6 cameras\u001b[0m\n",
      "\u001b[34mThere are 2 clusters with 7 cameras\u001b[0m\n",
      "\u001b[34mThere are 2 clusters with 9 cameras\u001b[0m\n",
      "\u001b[34mThere are 1 clusters with 11 cameras\u001b[0m\n",
      "\u001b[34mThere are 1 clusters with 12 cameras\u001b[0m\n",
      "\u001b[34mThere are 1 clusters with 16 cameras\u001b[0m\n",
      "\u001b[34mThere are 1 clusters with 17 cameras\u001b[0m\n",
      "\u001b[34mThere are 1 clusters with 19 cameras\u001b[0m\n",
      "\u001b[34mThere are 1 clusters with 27 cameras\u001b[0m\n",
      "\u001b[34mThere are 1 clusters with 31 cameras\u001b[0m\n",
      "\u001b[34mThere are 1 clusters with 32 cameras\u001b[0m\n",
      "\u001b[34mThere are 1 clusters with 41 cameras\u001b[0m\n",
      "\u001b[34mThere are 1 clusters with 45 cameras\u001b[0m\n",
      "\u001b[34mThere are 1 clusters with 47 cameras\u001b[0m\n",
      "\u001b[34mThere are 1 clusters with 52 cameras\u001b[0m\n",
      "\u001b[34mThere are 1 clusters with 53 cameras\u001b[0m\n",
      "\u001b[34mThere are 2 clusters with 54 cameras\u001b[0m\n",
      "\u001b[34mThere are 1 clusters with 56 cameras\u001b[0m\n",
      "\u001b[34mThere are 3 clusters with 57 cameras\u001b[0m\n",
      "\u001b[34mThere are 1 clusters with 58 cameras\u001b[0m\n",
      "\u001b[34mThere are 6 clusters with 59 cameras\u001b[0m\n",
      "\u001b[34mThere are 9 clusters with 60 cameras\u001b[0m\n",
      "\u001b[34mThere are 13 clusters with 61 cameras\u001b[0m\n",
      "\u001b[34mThere are 26 clusters with 62 cameras\u001b[0m\n",
      "\u001b[34mThere are 36 clusters with 63 cameras\u001b[0m\n",
      "\u001b[34mThere are 461 clusters with 64 cameras\u001b[0m\n",
      "\u001b[34mThere are 1 clusters with 90 cameras\u001b[0m\n",
      "\u001b[34mThere are 1 clusters with 119 cameras\u001b[0m\n",
      "\u001b[34mThere are 1 clusters with 120 cameras\u001b[0m\n",
      "\u001b[34mThere are 1 clusters with 122 cameras\u001b[0m\n",
      "\u001b[34mThere are 1 clusters with 123 cameras\u001b[0m\n",
      "\u001b[34mThere are 2 clusters with 125 cameras\u001b[0m\n",
      "\u001b[34mThere are 2 clusters with 126 cameras\u001b[0m\n",
      "\u001b[34mThere are 1 clusters with 127 cameras\u001b[0m\n",
      "\u001b[34mThere are 8 clusters with 128 cameras\u001b[0m\n",
      "Number of classes: 600\n",
      "\u001b[36mLearning Rate: 0.000122\u001b[0m\n",
      "encontrou modelos efficientnet. Carregando...\n",
      "encontrou modelos convnext. Carregando...\n",
      "encontrou modelos mobilenet. Carregando...\n",
      "encontrou modelos vgg16. Carregando...\n",
      "encontrou modelos resnet50. Carregando...\n",
      "encontrou modelos osnet. Carregando...\n",
      "encontrou modelos densenet121. Carregando...\n",
      "###============ Iteration number 78/90 ============###\n",
      "Extracting Online Features for efficientnet ...\n",
      "Features extracted in 153.22 seconds\n",
      "Computing jaccard distance...\n"
     ]
    },
    {
     "name": "stderr",
     "output_type": "stream",
     "text": [
      "bruteForceKnn is deprecated; call bfKnn instead\n"
     ]
    },
    {
     "name": "stdout",
     "output_type": "stream",
     "text": [
      "Jaccard distance computing time cost: 69.35983657836914\n",
      "Extracting Online Features for convnext ...\n",
      "Features extracted in 158.52 seconds\n",
      "Computing jaccard distance...\n"
     ]
    },
    {
     "name": "stderr",
     "output_type": "stream",
     "text": [
      "bruteForceKnn is deprecated; call bfKnn instead\n"
     ]
    },
    {
     "name": "stdout",
     "output_type": "stream",
     "text": [
      "Jaccard distance computing time cost: 70.78631973266602\n",
      "Extracting Online Features for mobilenet ...\n",
      "Features extracted in 147.85 seconds\n",
      "Computing jaccard distance...\n"
     ]
    },
    {
     "name": "stderr",
     "output_type": "stream",
     "text": [
      "bruteForceKnn is deprecated; call bfKnn instead\n"
     ]
    },
    {
     "name": "stdout",
     "output_type": "stream",
     "text": [
      "Jaccard distance computing time cost: 130.65105772018433\n",
      "Extracting Online Features for vgg16 ...\n",
      "Features extracted in 164.74 seconds\n",
      "Computing jaccard distance...\n"
     ]
    },
    {
     "name": "stderr",
     "output_type": "stream",
     "text": [
      "bruteForceKnn is deprecated; call bfKnn instead\n"
     ]
    },
    {
     "name": "stdout",
     "output_type": "stream",
     "text": [
      "Jaccard distance computing time cost: 69.73921275138855\n",
      "Extracting Online Features for resnet50 ...\n",
      "Features extracted in 154.64 seconds\n",
      "Computing jaccard distance...\n"
     ]
    },
    {
     "name": "stderr",
     "output_type": "stream",
     "text": [
      "bruteForceKnn is deprecated; call bfKnn instead\n"
     ]
    },
    {
     "name": "stdout",
     "output_type": "stream",
     "text": [
      "Jaccard distance computing time cost: 119.0866847038269\n",
      "Extracting Online Features for osnet ...\n",
      "Features extracted in 159.79 seconds\n",
      "Computing jaccard distance...\n"
     ]
    },
    {
     "name": "stderr",
     "output_type": "stream",
     "text": [
      "bruteForceKnn is deprecated; call bfKnn instead\n"
     ]
    },
    {
     "name": "stdout",
     "output_type": "stream",
     "text": [
      "Jaccard distance computing time cost: 118.72286939620972\n",
      "Extracting Online Features for densenet121 ...\n",
      "Features extracted in 163.36 seconds\n",
      "Computing jaccard distance...\n"
     ]
    },
    {
     "name": "stderr",
     "output_type": "stream",
     "text": [
      "bruteForceKnn is deprecated; call bfKnn instead\n"
     ]
    },
    {
     "name": "stdout",
     "output_type": "stream",
     "text": [
      "Jaccard distance computing time cost: 77.39910221099854\n",
      "Reliability: 0.994\n",
      "\u001b[32mMean Purity: 0.01644\u001b[0m\n",
      "\u001b[34mThere are 2 clusters with 4 cameras\u001b[0m\n",
      "\u001b[34mThere are 3 clusters with 5 cameras\u001b[0m\n",
      "\u001b[34mThere are 2 clusters with 6 cameras\u001b[0m\n",
      "\u001b[34mThere are 2 clusters with 7 cameras\u001b[0m\n",
      "\u001b[34mThere are 2 clusters with 9 cameras\u001b[0m\n",
      "\u001b[34mThere are 1 clusters with 11 cameras\u001b[0m\n",
      "\u001b[34mThere are 1 clusters with 12 cameras\u001b[0m\n",
      "\u001b[34mThere are 1 clusters with 16 cameras\u001b[0m\n",
      "\u001b[34mThere are 1 clusters with 17 cameras\u001b[0m\n",
      "\u001b[34mThere are 1 clusters with 19 cameras\u001b[0m\n",
      "\u001b[34mThere are 1 clusters with 27 cameras\u001b[0m\n",
      "\u001b[34mThere are 1 clusters with 31 cameras\u001b[0m\n",
      "\u001b[34mThere are 1 clusters with 32 cameras\u001b[0m\n",
      "\u001b[34mThere are 1 clusters with 41 cameras\u001b[0m\n",
      "\u001b[34mThere are 1 clusters with 45 cameras\u001b[0m\n",
      "\u001b[34mThere are 1 clusters with 47 cameras\u001b[0m\n",
      "\u001b[34mThere are 1 clusters with 52 cameras\u001b[0m\n",
      "\u001b[34mThere are 1 clusters with 53 cameras\u001b[0m\n",
      "\u001b[34mThere are 2 clusters with 54 cameras\u001b[0m\n",
      "\u001b[34mThere are 1 clusters with 56 cameras\u001b[0m\n",
      "\u001b[34mThere are 3 clusters with 57 cameras\u001b[0m\n",
      "\u001b[34mThere are 1 clusters with 58 cameras\u001b[0m\n",
      "\u001b[34mThere are 6 clusters with 59 cameras\u001b[0m\n",
      "\u001b[34mThere are 9 clusters with 60 cameras\u001b[0m\n",
      "\u001b[34mThere are 13 clusters with 61 cameras\u001b[0m\n",
      "\u001b[34mThere are 26 clusters with 62 cameras\u001b[0m\n",
      "\u001b[34mThere are 36 clusters with 63 cameras\u001b[0m\n",
      "\u001b[34mThere are 461 clusters with 64 cameras\u001b[0m\n",
      "\u001b[34mThere are 1 clusters with 90 cameras\u001b[0m\n",
      "\u001b[34mThere are 1 clusters with 119 cameras\u001b[0m\n",
      "\u001b[34mThere are 1 clusters with 120 cameras\u001b[0m\n",
      "\u001b[34mThere are 1 clusters with 122 cameras\u001b[0m\n",
      "\u001b[34mThere are 1 clusters with 123 cameras\u001b[0m\n",
      "\u001b[34mThere are 2 clusters with 125 cameras\u001b[0m\n",
      "\u001b[34mThere are 2 clusters with 126 cameras\u001b[0m\n",
      "\u001b[34mThere are 1 clusters with 127 cameras\u001b[0m\n",
      "\u001b[34mThere are 8 clusters with 128 cameras\u001b[0m\n",
      "Number of classes: 600\n",
      "\u001b[36mLearning Rate: 0.000140\u001b[0m\n",
      "encontrou modelos efficientnet. Carregando...\n",
      "encontrou modelos convnext. Carregando...\n",
      "encontrou modelos mobilenet. Carregando...\n",
      "encontrou modelos vgg16. Carregando...\n",
      "encontrou modelos resnet50. Carregando...\n",
      "encontrou modelos osnet. Carregando...\n",
      "encontrou modelos densenet121. Carregando...\n",
      "###============ Iteration number 79/90 ============###\n",
      "Extracting Online Features for efficientnet ...\n",
      "Features extracted in 152.21 seconds\n",
      "Computing jaccard distance...\n"
     ]
    },
    {
     "name": "stderr",
     "output_type": "stream",
     "text": [
      "bruteForceKnn is deprecated; call bfKnn instead\n"
     ]
    },
    {
     "name": "stdout",
     "output_type": "stream",
     "text": [
      "Jaccard distance computing time cost: 69.99505734443665\n",
      "Extracting Online Features for convnext ...\n",
      "Features extracted in 156.63 seconds\n",
      "Computing jaccard distance...\n"
     ]
    },
    {
     "name": "stderr",
     "output_type": "stream",
     "text": [
      "bruteForceKnn is deprecated; call bfKnn instead\n"
     ]
    },
    {
     "name": "stdout",
     "output_type": "stream",
     "text": [
      "Jaccard distance computing time cost: 113.31012201309204\n",
      "Extracting Online Features for mobilenet ...\n",
      "Features extracted in 193.08 seconds\n",
      "Computing jaccard distance...\n"
     ]
    },
    {
     "name": "stderr",
     "output_type": "stream",
     "text": [
      "bruteForceKnn is deprecated; call bfKnn instead\n"
     ]
    },
    {
     "name": "stdout",
     "output_type": "stream",
     "text": [
      "Jaccard distance computing time cost: 153.10091853141785\n",
      "Extracting Online Features for vgg16 ...\n",
      "Features extracted in 170.99 seconds\n",
      "Computing jaccard distance...\n"
     ]
    },
    {
     "name": "stderr",
     "output_type": "stream",
     "text": [
      "bruteForceKnn is deprecated; call bfKnn instead\n"
     ]
    },
    {
     "name": "stdout",
     "output_type": "stream",
     "text": [
      "Jaccard distance computing time cost: 189.2942578792572\n",
      "Extracting Online Features for resnet50 ...\n",
      "Features extracted in 160.78 seconds\n",
      "Computing jaccard distance...\n"
     ]
    },
    {
     "name": "stderr",
     "output_type": "stream",
     "text": [
      "bruteForceKnn is deprecated; call bfKnn instead\n"
     ]
    },
    {
     "name": "stdout",
     "output_type": "stream",
     "text": [
      "Jaccard distance computing time cost: 75.39821028709412\n",
      "Extracting Online Features for osnet ...\n",
      "Features extracted in 160.47 seconds\n",
      "Computing jaccard distance...\n"
     ]
    },
    {
     "name": "stderr",
     "output_type": "stream",
     "text": [
      "bruteForceKnn is deprecated; call bfKnn instead\n"
     ]
    },
    {
     "name": "stdout",
     "output_type": "stream",
     "text": [
      "Jaccard distance computing time cost: 74.77196264266968\n",
      "Extracting Online Features for densenet121 ...\n",
      "Features extracted in 160.37 seconds\n",
      "Computing jaccard distance...\n"
     ]
    },
    {
     "name": "stderr",
     "output_type": "stream",
     "text": [
      "bruteForceKnn is deprecated; call bfKnn instead\n"
     ]
    },
    {
     "name": "stdout",
     "output_type": "stream",
     "text": [
      "Jaccard distance computing time cost: 93.51667594909668\n",
      "Reliability: 0.994\n",
      "\u001b[32mMean Purity: 0.01644\u001b[0m\n",
      "\u001b[34mThere are 2 clusters with 4 cameras\u001b[0m\n",
      "\u001b[34mThere are 3 clusters with 5 cameras\u001b[0m\n",
      "\u001b[34mThere are 2 clusters with 6 cameras\u001b[0m\n",
      "\u001b[34mThere are 2 clusters with 7 cameras\u001b[0m\n",
      "\u001b[34mThere are 2 clusters with 9 cameras\u001b[0m\n",
      "\u001b[34mThere are 1 clusters with 11 cameras\u001b[0m\n",
      "\u001b[34mThere are 1 clusters with 12 cameras\u001b[0m\n",
      "\u001b[34mThere are 1 clusters with 16 cameras\u001b[0m\n",
      "\u001b[34mThere are 1 clusters with 17 cameras\u001b[0m\n",
      "\u001b[34mThere are 1 clusters with 19 cameras\u001b[0m\n",
      "\u001b[34mThere are 1 clusters with 27 cameras\u001b[0m\n",
      "\u001b[34mThere are 1 clusters with 31 cameras\u001b[0m\n",
      "\u001b[34mThere are 1 clusters with 32 cameras\u001b[0m\n",
      "\u001b[34mThere are 1 clusters with 41 cameras\u001b[0m\n",
      "\u001b[34mThere are 1 clusters with 45 cameras\u001b[0m\n",
      "\u001b[34mThere are 1 clusters with 47 cameras\u001b[0m\n",
      "\u001b[34mThere are 1 clusters with 52 cameras\u001b[0m\n",
      "\u001b[34mThere are 1 clusters with 53 cameras\u001b[0m\n",
      "\u001b[34mThere are 2 clusters with 54 cameras\u001b[0m\n",
      "\u001b[34mThere are 1 clusters with 56 cameras\u001b[0m\n",
      "\u001b[34mThere are 3 clusters with 57 cameras\u001b[0m\n",
      "\u001b[34mThere are 1 clusters with 58 cameras\u001b[0m\n",
      "\u001b[34mThere are 6 clusters with 59 cameras\u001b[0m\n",
      "\u001b[34mThere are 9 clusters with 60 cameras\u001b[0m\n",
      "\u001b[34mThere are 13 clusters with 61 cameras\u001b[0m\n",
      "\u001b[34mThere are 26 clusters with 62 cameras\u001b[0m\n",
      "\u001b[34mThere are 36 clusters with 63 cameras\u001b[0m\n",
      "\u001b[34mThere are 461 clusters with 64 cameras\u001b[0m\n",
      "\u001b[34mThere are 1 clusters with 90 cameras\u001b[0m\n",
      "\u001b[34mThere are 1 clusters with 119 cameras\u001b[0m\n",
      "\u001b[34mThere are 1 clusters with 120 cameras\u001b[0m\n",
      "\u001b[34mThere are 1 clusters with 122 cameras\u001b[0m\n",
      "\u001b[34mThere are 1 clusters with 123 cameras\u001b[0m\n",
      "\u001b[34mThere are 2 clusters with 125 cameras\u001b[0m\n",
      "\u001b[34mThere are 2 clusters with 126 cameras\u001b[0m\n",
      "\u001b[34mThere are 1 clusters with 127 cameras\u001b[0m\n",
      "\u001b[34mThere are 8 clusters with 128 cameras\u001b[0m\n",
      "Number of classes: 600\n",
      "\u001b[36mLearning Rate: 0.000158\u001b[0m\n",
      "encontrou modelos efficientnet. Carregando...\n",
      "encontrou modelos convnext. Carregando...\n",
      "encontrou modelos mobilenet. Carregando...\n",
      "encontrou modelos vgg16. Carregando...\n",
      "encontrou modelos resnet50. Carregando...\n",
      "encontrou modelos osnet. Carregando...\n",
      "encontrou modelos densenet121. Carregando...\n",
      "###============ Iteration number 80/90 ============###\n",
      "Extracting Online Features for efficientnet ...\n",
      "Features extracted in 153.68 seconds\n",
      "Computing jaccard distance...\n"
     ]
    },
    {
     "name": "stderr",
     "output_type": "stream",
     "text": [
      "bruteForceKnn is deprecated; call bfKnn instead\n"
     ]
    },
    {
     "name": "stdout",
     "output_type": "stream",
     "text": [
      "Jaccard distance computing time cost: 78.81798648834229\n",
      "Extracting Online Features for convnext ...\n",
      "Features extracted in 155.77 seconds\n",
      "Computing jaccard distance...\n"
     ]
    },
    {
     "name": "stderr",
     "output_type": "stream",
     "text": [
      "bruteForceKnn is deprecated; call bfKnn instead\n"
     ]
    },
    {
     "name": "stdout",
     "output_type": "stream",
     "text": [
      "Jaccard distance computing time cost: 75.73977708816528\n",
      "Extracting Online Features for mobilenet ...\n",
      "Features extracted in 153.38 seconds\n",
      "Computing jaccard distance...\n"
     ]
    },
    {
     "name": "stderr",
     "output_type": "stream",
     "text": [
      "bruteForceKnn is deprecated; call bfKnn instead\n"
     ]
    },
    {
     "name": "stdout",
     "output_type": "stream",
     "text": [
      "Jaccard distance computing time cost: 76.66987013816833\n",
      "Extracting Online Features for vgg16 ...\n",
      "Features extracted in 150.50 seconds\n",
      "Computing jaccard distance...\n"
     ]
    },
    {
     "name": "stderr",
     "output_type": "stream",
     "text": [
      "bruteForceKnn is deprecated; call bfKnn instead\n"
     ]
    },
    {
     "name": "stdout",
     "output_type": "stream",
     "text": [
      "Jaccard distance computing time cost: 75.2045886516571\n",
      "Extracting Online Features for resnet50 ...\n",
      "Features extracted in 154.15 seconds\n",
      "Computing jaccard distance...\n"
     ]
    },
    {
     "name": "stderr",
     "output_type": "stream",
     "text": [
      "bruteForceKnn is deprecated; call bfKnn instead\n"
     ]
    },
    {
     "name": "stdout",
     "output_type": "stream",
     "text": [
      "Jaccard distance computing time cost: 71.6575608253479\n",
      "Extracting Online Features for osnet ...\n",
      "Features extracted in 151.83 seconds\n",
      "Computing jaccard distance...\n"
     ]
    },
    {
     "name": "stderr",
     "output_type": "stream",
     "text": [
      "bruteForceKnn is deprecated; call bfKnn instead\n"
     ]
    },
    {
     "name": "stdout",
     "output_type": "stream",
     "text": [
      "Jaccard distance computing time cost: 67.8656153678894\n",
      "Extracting Online Features for densenet121 ...\n",
      "Features extracted in 164.13 seconds\n",
      "Computing jaccard distance...\n"
     ]
    },
    {
     "name": "stderr",
     "output_type": "stream",
     "text": [
      "bruteForceKnn is deprecated; call bfKnn instead\n"
     ]
    },
    {
     "name": "stdout",
     "output_type": "stream",
     "text": [
      "Jaccard distance computing time cost: 169.54624247550964\n",
      "Reliability: 0.994\n",
      "\u001b[32mMean Purity: 0.01644\u001b[0m\n",
      "\u001b[34mThere are 2 clusters with 4 cameras\u001b[0m\n",
      "\u001b[34mThere are 3 clusters with 5 cameras\u001b[0m\n",
      "\u001b[34mThere are 2 clusters with 6 cameras\u001b[0m\n",
      "\u001b[34mThere are 2 clusters with 7 cameras\u001b[0m\n",
      "\u001b[34mThere are 2 clusters with 9 cameras\u001b[0m\n",
      "\u001b[34mThere are 1 clusters with 11 cameras\u001b[0m\n",
      "\u001b[34mThere are 1 clusters with 12 cameras\u001b[0m\n",
      "\u001b[34mThere are 1 clusters with 16 cameras\u001b[0m\n",
      "\u001b[34mThere are 1 clusters with 17 cameras\u001b[0m\n",
      "\u001b[34mThere are 1 clusters with 19 cameras\u001b[0m\n",
      "\u001b[34mThere are 1 clusters with 27 cameras\u001b[0m\n",
      "\u001b[34mThere are 1 clusters with 31 cameras\u001b[0m\n",
      "\u001b[34mThere are 1 clusters with 32 cameras\u001b[0m\n",
      "\u001b[34mThere are 1 clusters with 41 cameras\u001b[0m\n",
      "\u001b[34mThere are 1 clusters with 45 cameras\u001b[0m\n",
      "\u001b[34mThere are 1 clusters with 47 cameras\u001b[0m\n",
      "\u001b[34mThere are 1 clusters with 52 cameras\u001b[0m\n",
      "\u001b[34mThere are 1 clusters with 53 cameras\u001b[0m\n",
      "\u001b[34mThere are 2 clusters with 54 cameras\u001b[0m\n",
      "\u001b[34mThere are 1 clusters with 56 cameras\u001b[0m\n",
      "\u001b[34mThere are 3 clusters with 57 cameras\u001b[0m\n",
      "\u001b[34mThere are 1 clusters with 58 cameras\u001b[0m\n",
      "\u001b[34mThere are 6 clusters with 59 cameras\u001b[0m\n",
      "\u001b[34mThere are 9 clusters with 60 cameras\u001b[0m\n",
      "\u001b[34mThere are 13 clusters with 61 cameras\u001b[0m\n",
      "\u001b[34mThere are 26 clusters with 62 cameras\u001b[0m\n",
      "\u001b[34mThere are 36 clusters with 63 cameras\u001b[0m\n",
      "\u001b[34mThere are 461 clusters with 64 cameras\u001b[0m\n",
      "\u001b[34mThere are 1 clusters with 90 cameras\u001b[0m\n",
      "\u001b[34mThere are 1 clusters with 119 cameras\u001b[0m\n",
      "\u001b[34mThere are 1 clusters with 120 cameras\u001b[0m\n",
      "\u001b[34mThere are 1 clusters with 122 cameras\u001b[0m\n",
      "\u001b[34mThere are 1 clusters with 123 cameras\u001b[0m\n",
      "\u001b[34mThere are 2 clusters with 125 cameras\u001b[0m\n",
      "\u001b[34mThere are 2 clusters with 126 cameras\u001b[0m\n",
      "\u001b[34mThere are 1 clusters with 127 cameras\u001b[0m\n",
      "\u001b[34mThere are 8 clusters with 128 cameras\u001b[0m\n",
      "Number of classes: 600\n",
      "\u001b[36mLearning Rate: 0.000175\u001b[0m\n",
      "encontrou modelos efficientnet. Carregando...\n",
      "encontrou modelos convnext. Carregando...\n",
      "encontrou modelos mobilenet. Carregando...\n",
      "encontrou modelos vgg16. Carregando...\n",
      "encontrou modelos resnet50. Carregando...\n",
      "encontrou modelos osnet. Carregando...\n",
      "encontrou modelos densenet121. Carregando...\n",
      "\u001b[33mValidating online efficientnet ...\u001b[0m\n",
      "Features extracted in 49.18 seconds\n",
      "Features extracted in 96.73 seconds\n",
      "Computing CMC and mAP ...\n",
      "** Results **\n",
      "mAP: 69.91%\n",
      "CMC curve\n",
      "Rank-1  : 73.59%\n",
      "Rank-5  : 94.54%\n",
      "Rank-10 : 97.70%\n",
      "Rank-20 : 99.20%\n",
      "\u001b[33mValidating momentum efficientnet ...\u001b[0m\n",
      "Features extracted in 50.74 seconds\n",
      "Features extracted in 99.67 seconds\n",
      "Computing CMC and mAP ...\n",
      "** Results **\n",
      "mAP: 70.66%\n",
      "CMC curve\n",
      "Rank-1  : 76.80%\n",
      "Rank-5  : 93.39%\n",
      "Rank-10 : 96.79%\n",
      "Rank-20 : 98.68%\n",
      "\u001b[33mValidating online convnext ...\u001b[0m\n",
      "Features extracted in 49.19 seconds\n",
      "Features extracted in 99.34 seconds\n",
      "Computing CMC and mAP ...\n",
      "** Results **\n",
      "mAP: 70.08%\n",
      "CMC curve\n",
      "Rank-1  : 75.63%\n",
      "Rank-5  : 92.61%\n",
      "Rank-10 : 96.93%\n",
      "Rank-20 : 99.29%\n",
      "\u001b[33mValidating momentum convnext ...\u001b[0m\n",
      "Features extracted in 48.54 seconds\n",
      "Features extracted in 99.57 seconds\n",
      "Computing CMC and mAP ...\n",
      "** Results **\n",
      "mAP: 70.46%\n",
      "CMC curve\n",
      "Rank-1  : 77.49%\n",
      "Rank-5  : 93.71%\n",
      "Rank-10 : 96.84%\n",
      "Rank-20 : 98.71%\n",
      "\u001b[33mValidating online mobilenet ...\u001b[0m\n",
      "Features extracted in 49.23 seconds\n",
      "Features extracted in 98.49 seconds\n",
      "Computing CMC and mAP ...\n",
      "** Results **\n",
      "mAP: 71.39%\n",
      "CMC curve\n",
      "Rank-1  : 81.53%\n",
      "Rank-5  : 95.41%\n",
      "Rank-10 : 98.02%\n",
      "Rank-20 : 99.18%\n",
      "\u001b[33mValidating momentum mobilenet ...\u001b[0m\n",
      "Features extracted in 48.59 seconds\n",
      "Features extracted in 98.96 seconds\n",
      "Computing CMC and mAP ...\n",
      "** Results **\n",
      "mAP: 70.86%\n",
      "CMC curve\n",
      "Rank-1  : 78.95%\n",
      "Rank-5  : 93.89%\n",
      "Rank-10 : 97.47%\n",
      "Rank-20 : 99.27%\n",
      "\u001b[33mValidating online vgg16 ...\u001b[0m\n",
      "Features extracted in 49.74 seconds\n",
      "Features extracted in 102.88 seconds\n",
      "Computing CMC and mAP ...\n",
      "** Results **\n",
      "mAP: 69.67%\n",
      "CMC curve\n",
      "Rank-1  : 74.49%\n",
      "Rank-5  : 92.27%\n",
      "Rank-10 : 96.56%\n",
      "Rank-20 : 99.05%\n",
      "\u001b[33mValidating momentum vgg16 ...\u001b[0m\n",
      "Features extracted in 48.27 seconds\n",
      "Features extracted in 101.02 seconds\n",
      "Computing CMC and mAP ...\n",
      "** Results **\n",
      "mAP: 69.72%\n",
      "CMC curve\n",
      "Rank-1  : 75.80%\n",
      "Rank-5  : 92.91%\n",
      "Rank-10 : 97.25%\n",
      "Rank-20 : 99.09%\n",
      "\u001b[33mValidating online resnet50 ...\u001b[0m\n",
      "Features extracted in 49.96 seconds\n",
      "Features extracted in 101.27 seconds\n",
      "Computing CMC and mAP ...\n",
      "** Results **\n",
      "mAP: 69.64%\n",
      "CMC curve\n",
      "Rank-1  : 70.07%\n",
      "Rank-5  : 91.28%\n",
      "Rank-10 : 96.04%\n",
      "Rank-20 : 98.68%\n",
      "\u001b[33mValidating momentum resnet50 ...\u001b[0m\n",
      "Features extracted in 50.28 seconds\n",
      "Features extracted in 100.69 seconds\n",
      "Computing CMC and mAP ...\n",
      "** Results **\n",
      "mAP: 70.02%\n",
      "CMC curve\n",
      "Rank-1  : 73.39%\n",
      "Rank-5  : 93.49%\n",
      "Rank-10 : 97.50%\n",
      "Rank-20 : 99.37%\n",
      "\u001b[33mValidating online osnet ...\u001b[0m\n",
      "Features extracted in 49.95 seconds\n",
      "Features extracted in 99.98 seconds\n",
      "Computing CMC and mAP ...\n",
      "** Results **\n",
      "mAP: 68.61%\n",
      "CMC curve\n",
      "Rank-1  : 73.02%\n",
      "Rank-5  : 95.04%\n",
      "Rank-10 : 98.36%\n",
      "Rank-20 : 99.48%\n",
      "\u001b[33mValidating momentum osnet ...\u001b[0m\n",
      "Features extracted in 50.02 seconds\n",
      "Features extracted in 100.91 seconds\n",
      "Computing CMC and mAP ...\n",
      "** Results **\n",
      "mAP: 69.41%\n",
      "CMC curve\n",
      "Rank-1  : 73.33%\n",
      "Rank-5  : 93.05%\n",
      "Rank-10 : 97.14%\n",
      "Rank-20 : 99.12%\n",
      "\u001b[33mValidating online densenet121 ...\u001b[0m\n",
      "Features extracted in 51.12 seconds\n",
      "Features extracted in 99.98 seconds\n",
      "Computing CMC and mAP ...\n",
      "** Results **\n",
      "mAP: 70.12%\n",
      "CMC curve\n",
      "Rank-1  : 75.15%\n",
      "Rank-5  : 92.89%\n",
      "Rank-10 : 97.00%\n",
      "Rank-20 : 98.95%\n",
      "\u001b[33mValidating momentum densenet121 ...\u001b[0m\n",
      "Features extracted in 51.05 seconds\n",
      "Features extracted in 101.75 seconds\n",
      "Computing CMC and mAP ...\n",
      "** Results **\n",
      "mAP: 69.53%\n",
      "CMC curve\n",
      "Rank-1  : 75.91%\n",
      "Rank-5  : 93.33%\n",
      "Rank-10 : 97.31%\n",
      "Rank-20 : 99.25%\n",
      "\u001b[33mValidating ensembled with online models ...\u001b[0m\n",
      "Computing CMC and mAP ...\n",
      "** Results **\n",
      "mAP: 71.17%\n",
      "Ranks:\n",
      "Rank-1  : 78.73%\n",
      "Rank-5  : 92.94%\n",
      "Rank-10 : 96.83%\n",
      "\u001b[33mValidating ensembled with momentum models ...\u001b[0m\n",
      "Computing CMC and mAP ...\n",
      "** Results **\n",
      "mAP: 71.11%\n",
      "Ranks:\n",
      "Rank-1  : 79.83%\n",
      "Rank-5  : 92.92%\n",
      "Rank-10 : 96.74%\n",
      "###============ Iteration number 81/90 ============###\n",
      "Extracting Online Features for efficientnet ...\n",
      "Features extracted in 156.33 seconds\n",
      "Computing jaccard distance...\n"
     ]
    },
    {
     "name": "stderr",
     "output_type": "stream",
     "text": [
      "bruteForceKnn is deprecated; call bfKnn instead\n"
     ]
    },
    {
     "name": "stdout",
     "output_type": "stream",
     "text": [
      "Jaccard distance computing time cost: 70.41117000579834\n",
      "Extracting Online Features for convnext ...\n",
      "Features extracted in 154.53 seconds\n",
      "Computing jaccard distance...\n"
     ]
    },
    {
     "name": "stderr",
     "output_type": "stream",
     "text": [
      "bruteForceKnn is deprecated; call bfKnn instead\n"
     ]
    },
    {
     "name": "stdout",
     "output_type": "stream",
     "text": [
      "Jaccard distance computing time cost: 132.70472168922424\n",
      "Extracting Online Features for mobilenet ...\n",
      "Features extracted in 207.62 seconds\n",
      "Computing jaccard distance...\n"
     ]
    },
    {
     "name": "stderr",
     "output_type": "stream",
     "text": [
      "bruteForceKnn is deprecated; call bfKnn instead\n"
     ]
    },
    {
     "name": "stdout",
     "output_type": "stream",
     "text": [
      "Jaccard distance computing time cost: 169.83754515647888\n",
      "Extracting Online Features for vgg16 ...\n",
      "Features extracted in 199.68 seconds\n",
      "Computing jaccard distance...\n"
     ]
    },
    {
     "name": "stderr",
     "output_type": "stream",
     "text": [
      "bruteForceKnn is deprecated; call bfKnn instead\n"
     ]
    },
    {
     "name": "stdout",
     "output_type": "stream",
     "text": [
      "Jaccard distance computing time cost: 131.78239727020264\n",
      "Extracting Online Features for resnet50 ...\n",
      "Features extracted in 162.40 seconds\n",
      "Computing jaccard distance...\n"
     ]
    },
    {
     "name": "stderr",
     "output_type": "stream",
     "text": [
      "bruteForceKnn is deprecated; call bfKnn instead\n"
     ]
    },
    {
     "name": "stdout",
     "output_type": "stream",
     "text": [
      "Jaccard distance computing time cost: 96.19892406463623\n",
      "Extracting Online Features for osnet ...\n",
      "Features extracted in 165.29 seconds\n",
      "Computing jaccard distance...\n"
     ]
    },
    {
     "name": "stderr",
     "output_type": "stream",
     "text": [
      "bruteForceKnn is deprecated; call bfKnn instead\n"
     ]
    },
    {
     "name": "stdout",
     "output_type": "stream",
     "text": [
      "Jaccard distance computing time cost: 173.86560893058777\n",
      "Extracting Online Features for densenet121 ...\n",
      "Features extracted in 163.98 seconds\n",
      "Computing jaccard distance...\n"
     ]
    },
    {
     "name": "stderr",
     "output_type": "stream",
     "text": [
      "bruteForceKnn is deprecated; call bfKnn instead\n"
     ]
    },
    {
     "name": "stdout",
     "output_type": "stream",
     "text": [
      "Jaccard distance computing time cost: 124.69171333312988\n",
      "Reliability: 0.994\n",
      "\u001b[32mMean Purity: 0.01644\u001b[0m\n",
      "\u001b[34mThere are 2 clusters with 4 cameras\u001b[0m\n",
      "\u001b[34mThere are 3 clusters with 5 cameras\u001b[0m\n",
      "\u001b[34mThere are 2 clusters with 6 cameras\u001b[0m\n",
      "\u001b[34mThere are 2 clusters with 7 cameras\u001b[0m\n",
      "\u001b[34mThere are 2 clusters with 9 cameras\u001b[0m\n",
      "\u001b[34mThere are 1 clusters with 11 cameras\u001b[0m\n",
      "\u001b[34mThere are 1 clusters with 12 cameras\u001b[0m\n",
      "\u001b[34mThere are 1 clusters with 16 cameras\u001b[0m\n",
      "\u001b[34mThere are 1 clusters with 17 cameras\u001b[0m\n",
      "\u001b[34mThere are 1 clusters with 19 cameras\u001b[0m\n",
      "\u001b[34mThere are 1 clusters with 27 cameras\u001b[0m\n",
      "\u001b[34mThere are 1 clusters with 31 cameras\u001b[0m\n",
      "\u001b[34mThere are 1 clusters with 32 cameras\u001b[0m\n",
      "\u001b[34mThere are 1 clusters with 41 cameras\u001b[0m\n",
      "\u001b[34mThere are 1 clusters with 45 cameras\u001b[0m\n",
      "\u001b[34mThere are 1 clusters with 47 cameras\u001b[0m\n",
      "\u001b[34mThere are 1 clusters with 52 cameras\u001b[0m\n",
      "\u001b[34mThere are 1 clusters with 53 cameras\u001b[0m\n",
      "\u001b[34mThere are 2 clusters with 54 cameras\u001b[0m\n",
      "\u001b[34mThere are 1 clusters with 56 cameras\u001b[0m\n",
      "\u001b[34mThere are 3 clusters with 57 cameras\u001b[0m\n",
      "\u001b[34mThere are 1 clusters with 58 cameras\u001b[0m\n",
      "\u001b[34mThere are 6 clusters with 59 cameras\u001b[0m\n",
      "\u001b[34mThere are 9 clusters with 60 cameras\u001b[0m\n",
      "\u001b[34mThere are 13 clusters with 61 cameras\u001b[0m\n",
      "\u001b[34mThere are 26 clusters with 62 cameras\u001b[0m\n",
      "\u001b[34mThere are 36 clusters with 63 cameras\u001b[0m\n",
      "\u001b[34mThere are 461 clusters with 64 cameras\u001b[0m\n",
      "\u001b[34mThere are 1 clusters with 90 cameras\u001b[0m\n",
      "\u001b[34mThere are 1 clusters with 119 cameras\u001b[0m\n",
      "\u001b[34mThere are 1 clusters with 120 cameras\u001b[0m\n",
      "\u001b[34mThere are 1 clusters with 122 cameras\u001b[0m\n",
      "\u001b[34mThere are 1 clusters with 123 cameras\u001b[0m\n",
      "\u001b[34mThere are 2 clusters with 125 cameras\u001b[0m\n",
      "\u001b[34mThere are 2 clusters with 126 cameras\u001b[0m\n",
      "\u001b[34mThere are 1 clusters with 127 cameras\u001b[0m\n",
      "\u001b[34mThere are 8 clusters with 128 cameras\u001b[0m\n",
      "Number of classes: 600\n",
      "\u001b[36mLearning Rate: 0.000193\u001b[0m\n",
      "encontrou modelos efficientnet. Carregando...\n",
      "encontrou modelos convnext. Carregando...\n",
      "encontrou modelos mobilenet. Carregando...\n",
      "encontrou modelos vgg16. Carregando...\n",
      "encontrou modelos resnet50. Carregando...\n",
      "encontrou modelos osnet. Carregando...\n",
      "encontrou modelos densenet121. Carregando...\n",
      "###============ Iteration number 82/90 ============###\n",
      "Extracting Online Features for efficientnet ...\n",
      "Features extracted in 154.43 seconds\n",
      "Computing jaccard distance...\n"
     ]
    },
    {
     "name": "stderr",
     "output_type": "stream",
     "text": [
      "bruteForceKnn is deprecated; call bfKnn instead\n"
     ]
    },
    {
     "name": "stdout",
     "output_type": "stream",
     "text": [
      "Jaccard distance computing time cost: 72.99177122116089\n",
      "Extracting Online Features for convnext ...\n",
      "Features extracted in 154.03 seconds\n",
      "Computing jaccard distance...\n"
     ]
    },
    {
     "name": "stderr",
     "output_type": "stream",
     "text": [
      "bruteForceKnn is deprecated; call bfKnn instead\n"
     ]
    },
    {
     "name": "stdout",
     "output_type": "stream",
     "text": [
      "Jaccard distance computing time cost: 68.02579140663147\n",
      "Extracting Online Features for mobilenet ...\n",
      "Features extracted in 153.97 seconds\n",
      "Computing jaccard distance...\n"
     ]
    },
    {
     "name": "stderr",
     "output_type": "stream",
     "text": [
      "bruteForceKnn is deprecated; call bfKnn instead\n"
     ]
    },
    {
     "name": "stdout",
     "output_type": "stream",
     "text": [
      "Jaccard distance computing time cost: 67.85608696937561\n",
      "Extracting Online Features for vgg16 ...\n",
      "Features extracted in 153.44 seconds\n",
      "Computing jaccard distance...\n"
     ]
    },
    {
     "name": "stderr",
     "output_type": "stream",
     "text": [
      "bruteForceKnn is deprecated; call bfKnn instead\n"
     ]
    },
    {
     "name": "stdout",
     "output_type": "stream",
     "text": [
      "Jaccard distance computing time cost: 100.00057053565979\n",
      "Extracting Online Features for resnet50 ...\n",
      "Features extracted in 161.60 seconds\n",
      "Computing jaccard distance...\n"
     ]
    },
    {
     "name": "stderr",
     "output_type": "stream",
     "text": [
      "bruteForceKnn is deprecated; call bfKnn instead\n"
     ]
    },
    {
     "name": "stdout",
     "output_type": "stream",
     "text": [
      "Jaccard distance computing time cost: 134.0405261516571\n",
      "Extracting Online Features for osnet ...\n",
      "Features extracted in 162.57 seconds\n",
      "Computing jaccard distance...\n"
     ]
    },
    {
     "name": "stderr",
     "output_type": "stream",
     "text": [
      "bruteForceKnn is deprecated; call bfKnn instead\n"
     ]
    },
    {
     "name": "stdout",
     "output_type": "stream",
     "text": [
      "Jaccard distance computing time cost: 109.43159770965576\n",
      "Extracting Online Features for densenet121 ...\n",
      "Features extracted in 160.75 seconds\n",
      "Computing jaccard distance...\n"
     ]
    },
    {
     "name": "stderr",
     "output_type": "stream",
     "text": [
      "bruteForceKnn is deprecated; call bfKnn instead\n"
     ]
    },
    {
     "name": "stdout",
     "output_type": "stream",
     "text": [
      "Jaccard distance computing time cost: 75.4992446899414\n",
      "Reliability: 0.994\n",
      "\u001b[32mMean Purity: 0.01644\u001b[0m\n",
      "\u001b[34mThere are 2 clusters with 4 cameras\u001b[0m\n",
      "\u001b[34mThere are 3 clusters with 5 cameras\u001b[0m\n",
      "\u001b[34mThere are 2 clusters with 6 cameras\u001b[0m\n",
      "\u001b[34mThere are 2 clusters with 7 cameras\u001b[0m\n",
      "\u001b[34mThere are 2 clusters with 9 cameras\u001b[0m\n",
      "\u001b[34mThere are 1 clusters with 11 cameras\u001b[0m\n",
      "\u001b[34mThere are 1 clusters with 12 cameras\u001b[0m\n",
      "\u001b[34mThere are 1 clusters with 16 cameras\u001b[0m\n",
      "\u001b[34mThere are 1 clusters with 17 cameras\u001b[0m\n",
      "\u001b[34mThere are 1 clusters with 19 cameras\u001b[0m\n",
      "\u001b[34mThere are 1 clusters with 27 cameras\u001b[0m\n",
      "\u001b[34mThere are 1 clusters with 31 cameras\u001b[0m\n",
      "\u001b[34mThere are 1 clusters with 32 cameras\u001b[0m\n",
      "\u001b[34mThere are 1 clusters with 41 cameras\u001b[0m\n",
      "\u001b[34mThere are 1 clusters with 45 cameras\u001b[0m\n",
      "\u001b[34mThere are 1 clusters with 47 cameras\u001b[0m\n",
      "\u001b[34mThere are 1 clusters with 52 cameras\u001b[0m\n",
      "\u001b[34mThere are 1 clusters with 53 cameras\u001b[0m\n",
      "\u001b[34mThere are 2 clusters with 54 cameras\u001b[0m\n",
      "\u001b[34mThere are 1 clusters with 56 cameras\u001b[0m\n",
      "\u001b[34mThere are 3 clusters with 57 cameras\u001b[0m\n",
      "\u001b[34mThere are 1 clusters with 58 cameras\u001b[0m\n",
      "\u001b[34mThere are 6 clusters with 59 cameras\u001b[0m\n",
      "\u001b[34mThere are 9 clusters with 60 cameras\u001b[0m\n",
      "\u001b[34mThere are 13 clusters with 61 cameras\u001b[0m\n",
      "\u001b[34mThere are 26 clusters with 62 cameras\u001b[0m\n",
      "\u001b[34mThere are 36 clusters with 63 cameras\u001b[0m\n",
      "\u001b[34mThere are 461 clusters with 64 cameras\u001b[0m\n",
      "\u001b[34mThere are 1 clusters with 90 cameras\u001b[0m\n",
      "\u001b[34mThere are 1 clusters with 119 cameras\u001b[0m\n",
      "\u001b[34mThere are 1 clusters with 120 cameras\u001b[0m\n",
      "\u001b[34mThere are 1 clusters with 122 cameras\u001b[0m\n",
      "\u001b[34mThere are 1 clusters with 123 cameras\u001b[0m\n",
      "\u001b[34mThere are 2 clusters with 125 cameras\u001b[0m\n",
      "\u001b[34mThere are 2 clusters with 126 cameras\u001b[0m\n",
      "\u001b[34mThere are 1 clusters with 127 cameras\u001b[0m\n",
      "\u001b[34mThere are 8 clusters with 128 cameras\u001b[0m\n",
      "Number of classes: 600\n",
      "\u001b[36mLearning Rate: 0.000210\u001b[0m\n",
      "encontrou modelos efficientnet. Carregando...\n",
      "encontrou modelos convnext. Carregando...\n",
      "encontrou modelos mobilenet. Carregando...\n",
      "encontrou modelos vgg16. Carregando...\n",
      "encontrou modelos resnet50. Carregando...\n",
      "encontrou modelos osnet. Carregando...\n",
      "encontrou modelos densenet121. Carregando...\n",
      "###============ Iteration number 83/90 ============###\n",
      "Extracting Online Features for efficientnet ...\n",
      "Features extracted in 155.15 seconds\n",
      "Computing jaccard distance...\n"
     ]
    },
    {
     "name": "stderr",
     "output_type": "stream",
     "text": [
      "bruteForceKnn is deprecated; call bfKnn instead\n"
     ]
    },
    {
     "name": "stdout",
     "output_type": "stream",
     "text": [
      "Jaccard distance computing time cost: 78.15117764472961\n",
      "Extracting Online Features for convnext ...\n",
      "Features extracted in 152.87 seconds\n",
      "Computing jaccard distance...\n"
     ]
    },
    {
     "name": "stderr",
     "output_type": "stream",
     "text": [
      "bruteForceKnn is deprecated; call bfKnn instead\n"
     ]
    },
    {
     "name": "stdout",
     "output_type": "stream",
     "text": [
      "Jaccard distance computing time cost: 117.02591013908386\n",
      "Extracting Online Features for mobilenet ...\n",
      "Features extracted in 225.01 seconds\n",
      "Computing jaccard distance...\n"
     ]
    },
    {
     "name": "stderr",
     "output_type": "stream",
     "text": [
      "bruteForceKnn is deprecated; call bfKnn instead\n"
     ]
    },
    {
     "name": "stdout",
     "output_type": "stream",
     "text": [
      "Jaccard distance computing time cost: 142.25870871543884\n",
      "Extracting Online Features for vgg16 ...\n",
      "Features extracted in 165.68 seconds\n",
      "Computing jaccard distance...\n"
     ]
    },
    {
     "name": "stderr",
     "output_type": "stream",
     "text": [
      "bruteForceKnn is deprecated; call bfKnn instead\n"
     ]
    },
    {
     "name": "stdout",
     "output_type": "stream",
     "text": [
      "Jaccard distance computing time cost: 158.1104438304901\n",
      "Extracting Online Features for resnet50 ...\n",
      "Features extracted in 160.08 seconds\n",
      "Computing jaccard distance...\n"
     ]
    },
    {
     "name": "stderr",
     "output_type": "stream",
     "text": [
      "bruteForceKnn is deprecated; call bfKnn instead\n"
     ]
    },
    {
     "name": "stdout",
     "output_type": "stream",
     "text": [
      "Jaccard distance computing time cost: 93.6801369190216\n",
      "Extracting Online Features for osnet ...\n",
      "Features extracted in 162.14 seconds\n",
      "Computing jaccard distance...\n"
     ]
    },
    {
     "name": "stderr",
     "output_type": "stream",
     "text": [
      "bruteForceKnn is deprecated; call bfKnn instead\n"
     ]
    },
    {
     "name": "stdout",
     "output_type": "stream",
     "text": [
      "Jaccard distance computing time cost: 76.04058003425598\n",
      "Extracting Online Features for densenet121 ...\n",
      "Features extracted in 164.52 seconds\n",
      "Computing jaccard distance...\n"
     ]
    },
    {
     "name": "stderr",
     "output_type": "stream",
     "text": [
      "bruteForceKnn is deprecated; call bfKnn instead\n"
     ]
    },
    {
     "name": "stdout",
     "output_type": "stream",
     "text": [
      "Jaccard distance computing time cost: 104.29684281349182\n",
      "Reliability: 0.994\n",
      "\u001b[32mMean Purity: 0.01644\u001b[0m\n",
      "\u001b[34mThere are 2 clusters with 4 cameras\u001b[0m\n",
      "\u001b[34mThere are 3 clusters with 5 cameras\u001b[0m\n",
      "\u001b[34mThere are 2 clusters with 6 cameras\u001b[0m\n",
      "\u001b[34mThere are 2 clusters with 7 cameras\u001b[0m\n",
      "\u001b[34mThere are 2 clusters with 9 cameras\u001b[0m\n",
      "\u001b[34mThere are 1 clusters with 11 cameras\u001b[0m\n",
      "\u001b[34mThere are 1 clusters with 12 cameras\u001b[0m\n",
      "\u001b[34mThere are 1 clusters with 16 cameras\u001b[0m\n",
      "\u001b[34mThere are 1 clusters with 17 cameras\u001b[0m\n",
      "\u001b[34mThere are 1 clusters with 19 cameras\u001b[0m\n",
      "\u001b[34mThere are 1 clusters with 27 cameras\u001b[0m\n",
      "\u001b[34mThere are 1 clusters with 31 cameras\u001b[0m\n",
      "\u001b[34mThere are 1 clusters with 32 cameras\u001b[0m\n",
      "\u001b[34mThere are 1 clusters with 41 cameras\u001b[0m\n",
      "\u001b[34mThere are 1 clusters with 45 cameras\u001b[0m\n",
      "\u001b[34mThere are 1 clusters with 47 cameras\u001b[0m\n",
      "\u001b[34mThere are 1 clusters with 52 cameras\u001b[0m\n",
      "\u001b[34mThere are 1 clusters with 53 cameras\u001b[0m\n",
      "\u001b[34mThere are 2 clusters with 54 cameras\u001b[0m\n",
      "\u001b[34mThere are 1 clusters with 56 cameras\u001b[0m\n",
      "\u001b[34mThere are 3 clusters with 57 cameras\u001b[0m\n",
      "\u001b[34mThere are 1 clusters with 58 cameras\u001b[0m\n",
      "\u001b[34mThere are 6 clusters with 59 cameras\u001b[0m\n",
      "\u001b[34mThere are 9 clusters with 60 cameras\u001b[0m\n",
      "\u001b[34mThere are 13 clusters with 61 cameras\u001b[0m\n",
      "\u001b[34mThere are 26 clusters with 62 cameras\u001b[0m\n",
      "\u001b[34mThere are 36 clusters with 63 cameras\u001b[0m\n",
      "\u001b[34mThere are 461 clusters with 64 cameras\u001b[0m\n",
      "\u001b[34mThere are 1 clusters with 90 cameras\u001b[0m\n",
      "\u001b[34mThere are 1 clusters with 119 cameras\u001b[0m\n",
      "\u001b[34mThere are 1 clusters with 120 cameras\u001b[0m\n",
      "\u001b[34mThere are 1 clusters with 122 cameras\u001b[0m\n",
      "\u001b[34mThere are 1 clusters with 123 cameras\u001b[0m\n",
      "\u001b[34mThere are 2 clusters with 125 cameras\u001b[0m\n",
      "\u001b[34mThere are 2 clusters with 126 cameras\u001b[0m\n",
      "\u001b[34mThere are 1 clusters with 127 cameras\u001b[0m\n",
      "\u001b[34mThere are 8 clusters with 128 cameras\u001b[0m\n",
      "Number of classes: 600\n",
      "\u001b[36mLearning Rate: 0.000228\u001b[0m\n",
      "encontrou modelos efficientnet. Carregando...\n",
      "encontrou modelos convnext. Carregando...\n",
      "encontrou modelos mobilenet. Carregando...\n",
      "encontrou modelos vgg16. Carregando...\n",
      "encontrou modelos resnet50. Carregando...\n",
      "encontrou modelos osnet. Carregando...\n",
      "encontrou modelos densenet121. Carregando...\n",
      "###============ Iteration number 84/90 ============###\n",
      "Extracting Online Features for efficientnet ...\n",
      "Features extracted in 159.24 seconds\n",
      "Computing jaccard distance...\n"
     ]
    },
    {
     "name": "stderr",
     "output_type": "stream",
     "text": [
      "bruteForceKnn is deprecated; call bfKnn instead\n"
     ]
    },
    {
     "name": "stdout",
     "output_type": "stream",
     "text": [
      "Jaccard distance computing time cost: 75.91931176185608\n",
      "Extracting Online Features for convnext ...\n",
      "Features extracted in 158.16 seconds\n",
      "Computing jaccard distance...\n"
     ]
    },
    {
     "name": "stderr",
     "output_type": "stream",
     "text": [
      "bruteForceKnn is deprecated; call bfKnn instead\n"
     ]
    },
    {
     "name": "stdout",
     "output_type": "stream",
     "text": [
      "Jaccard distance computing time cost: 72.55301880836487\n",
      "Extracting Online Features for mobilenet ...\n",
      "Features extracted in 159.15 seconds\n",
      "Computing jaccard distance...\n"
     ]
    },
    {
     "name": "stderr",
     "output_type": "stream",
     "text": [
      "bruteForceKnn is deprecated; call bfKnn instead\n"
     ]
    },
    {
     "name": "stdout",
     "output_type": "stream",
     "text": [
      "Jaccard distance computing time cost: 71.80228662490845\n",
      "Extracting Online Features for vgg16 ...\n",
      "Features extracted in 157.16 seconds\n",
      "Computing jaccard distance...\n"
     ]
    },
    {
     "name": "stderr",
     "output_type": "stream",
     "text": [
      "bruteForceKnn is deprecated; call bfKnn instead\n"
     ]
    },
    {
     "name": "stdout",
     "output_type": "stream",
     "text": [
      "Jaccard distance computing time cost: 63.070165395736694\n",
      "Extracting Online Features for resnet50 ...\n",
      "Features extracted in 158.84 seconds\n",
      "Computing jaccard distance...\n"
     ]
    },
    {
     "name": "stderr",
     "output_type": "stream",
     "text": [
      "bruteForceKnn is deprecated; call bfKnn instead\n"
     ]
    },
    {
     "name": "stdout",
     "output_type": "stream",
     "text": [
      "Jaccard distance computing time cost: 72.35462045669556\n",
      "Extracting Online Features for osnet ...\n",
      "Features extracted in 155.91 seconds\n",
      "Computing jaccard distance...\n"
     ]
    },
    {
     "name": "stderr",
     "output_type": "stream",
     "text": [
      "bruteForceKnn is deprecated; call bfKnn instead\n"
     ]
    },
    {
     "name": "stdout",
     "output_type": "stream",
     "text": [
      "Jaccard distance computing time cost: 68.62665963172913\n",
      "Extracting Online Features for densenet121 ...\n",
      "Features extracted in 156.64 seconds\n",
      "Computing jaccard distance...\n"
     ]
    },
    {
     "name": "stderr",
     "output_type": "stream",
     "text": [
      "bruteForceKnn is deprecated; call bfKnn instead\n"
     ]
    },
    {
     "name": "stdout",
     "output_type": "stream",
     "text": [
      "Jaccard distance computing time cost: 72.1777777671814\n",
      "Reliability: 0.994\n",
      "\u001b[32mMean Purity: 0.01644\u001b[0m\n",
      "\u001b[34mThere are 2 clusters with 4 cameras\u001b[0m\n",
      "\u001b[34mThere are 3 clusters with 5 cameras\u001b[0m\n",
      "\u001b[34mThere are 2 clusters with 6 cameras\u001b[0m\n",
      "\u001b[34mThere are 2 clusters with 7 cameras\u001b[0m\n",
      "\u001b[34mThere are 2 clusters with 9 cameras\u001b[0m\n",
      "\u001b[34mThere are 1 clusters with 11 cameras\u001b[0m\n",
      "\u001b[34mThere are 1 clusters with 12 cameras\u001b[0m\n",
      "\u001b[34mThere are 1 clusters with 16 cameras\u001b[0m\n",
      "\u001b[34mThere are 1 clusters with 17 cameras\u001b[0m\n",
      "\u001b[34mThere are 1 clusters with 19 cameras\u001b[0m\n",
      "\u001b[34mThere are 1 clusters with 27 cameras\u001b[0m\n",
      "\u001b[34mThere are 1 clusters with 31 cameras\u001b[0m\n",
      "\u001b[34mThere are 1 clusters with 32 cameras\u001b[0m\n",
      "\u001b[34mThere are 1 clusters with 41 cameras\u001b[0m\n",
      "\u001b[34mThere are 1 clusters with 45 cameras\u001b[0m\n",
      "\u001b[34mThere are 1 clusters with 47 cameras\u001b[0m\n",
      "\u001b[34mThere are 1 clusters with 52 cameras\u001b[0m\n",
      "\u001b[34mThere are 1 clusters with 53 cameras\u001b[0m\n",
      "\u001b[34mThere are 2 clusters with 54 cameras\u001b[0m\n",
      "\u001b[34mThere are 1 clusters with 56 cameras\u001b[0m\n",
      "\u001b[34mThere are 3 clusters with 57 cameras\u001b[0m\n",
      "\u001b[34mThere are 1 clusters with 58 cameras\u001b[0m\n",
      "\u001b[34mThere are 6 clusters with 59 cameras\u001b[0m\n",
      "\u001b[34mThere are 9 clusters with 60 cameras\u001b[0m\n",
      "\u001b[34mThere are 13 clusters with 61 cameras\u001b[0m\n",
      "\u001b[34mThere are 26 clusters with 62 cameras\u001b[0m\n",
      "\u001b[34mThere are 36 clusters with 63 cameras\u001b[0m\n",
      "\u001b[34mThere are 461 clusters with 64 cameras\u001b[0m\n",
      "\u001b[34mThere are 1 clusters with 90 cameras\u001b[0m\n",
      "\u001b[34mThere are 1 clusters with 119 cameras\u001b[0m\n",
      "\u001b[34mThere are 1 clusters with 120 cameras\u001b[0m\n",
      "\u001b[34mThere are 1 clusters with 122 cameras\u001b[0m\n",
      "\u001b[34mThere are 1 clusters with 123 cameras\u001b[0m\n",
      "\u001b[34mThere are 2 clusters with 125 cameras\u001b[0m\n",
      "\u001b[34mThere are 2 clusters with 126 cameras\u001b[0m\n",
      "\u001b[34mThere are 1 clusters with 127 cameras\u001b[0m\n",
      "\u001b[34mThere are 8 clusters with 128 cameras\u001b[0m\n",
      "Number of classes: 600\n",
      "\u001b[36mLearning Rate: 0.000245\u001b[0m\n",
      "encontrou modelos efficientnet. Carregando...\n",
      "encontrou modelos convnext. Carregando...\n",
      "encontrou modelos mobilenet. Carregando...\n",
      "encontrou modelos vgg16. Carregando...\n",
      "encontrou modelos resnet50. Carregando...\n",
      "encontrou modelos osnet. Carregando...\n",
      "encontrou modelos densenet121. Carregando...\n",
      "###============ Iteration number 85/90 ============###\n",
      "Extracting Online Features for efficientnet ...\n",
      "Features extracted in 155.63 seconds\n",
      "Computing jaccard distance...\n"
     ]
    },
    {
     "name": "stderr",
     "output_type": "stream",
     "text": [
      "bruteForceKnn is deprecated; call bfKnn instead\n"
     ]
    },
    {
     "name": "stdout",
     "output_type": "stream",
     "text": [
      "Jaccard distance computing time cost: 73.44119906425476\n",
      "Extracting Online Features for convnext ...\n",
      "Features extracted in 153.95 seconds\n",
      "Computing jaccard distance...\n"
     ]
    },
    {
     "name": "stderr",
     "output_type": "stream",
     "text": [
      "bruteForceKnn is deprecated; call bfKnn instead\n"
     ]
    },
    {
     "name": "stdout",
     "output_type": "stream",
     "text": [
      "Jaccard distance computing time cost: 75.1082878112793\n",
      "Extracting Online Features for mobilenet ...\n",
      "Features extracted in 154.23 seconds\n",
      "Computing jaccard distance...\n"
     ]
    },
    {
     "name": "stderr",
     "output_type": "stream",
     "text": [
      "bruteForceKnn is deprecated; call bfKnn instead\n"
     ]
    },
    {
     "name": "stdout",
     "output_type": "stream",
     "text": [
      "Jaccard distance computing time cost: 69.7471661567688\n",
      "Extracting Online Features for vgg16 ...\n",
      "Features extracted in 161.05 seconds\n",
      "Computing jaccard distance...\n"
     ]
    },
    {
     "name": "stderr",
     "output_type": "stream",
     "text": [
      "bruteForceKnn is deprecated; call bfKnn instead\n"
     ]
    },
    {
     "name": "stdout",
     "output_type": "stream",
     "text": [
      "Jaccard distance computing time cost: 78.85812997817993\n",
      "Extracting Online Features for resnet50 ...\n",
      "Features extracted in 163.57 seconds\n",
      "Computing jaccard distance...\n"
     ]
    },
    {
     "name": "stderr",
     "output_type": "stream",
     "text": [
      "bruteForceKnn is deprecated; call bfKnn instead\n"
     ]
    },
    {
     "name": "stdout",
     "output_type": "stream",
     "text": [
      "Jaccard distance computing time cost: 73.18243718147278\n",
      "Extracting Online Features for osnet ...\n",
      "Features extracted in 159.61 seconds\n",
      "Computing jaccard distance...\n"
     ]
    },
    {
     "name": "stderr",
     "output_type": "stream",
     "text": [
      "bruteForceKnn is deprecated; call bfKnn instead\n"
     ]
    },
    {
     "name": "stdout",
     "output_type": "stream",
     "text": [
      "Jaccard distance computing time cost: 69.681077003479\n",
      "Extracting Online Features for densenet121 ...\n",
      "Features extracted in 161.60 seconds\n",
      "Computing jaccard distance...\n"
     ]
    },
    {
     "name": "stderr",
     "output_type": "stream",
     "text": [
      "bruteForceKnn is deprecated; call bfKnn instead\n"
     ]
    },
    {
     "name": "stdout",
     "output_type": "stream",
     "text": [
      "Jaccard distance computing time cost: 70.20737099647522\n",
      "Reliability: 0.994\n",
      "\u001b[32mMean Purity: 0.01644\u001b[0m\n",
      "\u001b[34mThere are 2 clusters with 4 cameras\u001b[0m\n",
      "\u001b[34mThere are 3 clusters with 5 cameras\u001b[0m\n",
      "\u001b[34mThere are 2 clusters with 6 cameras\u001b[0m\n",
      "\u001b[34mThere are 2 clusters with 7 cameras\u001b[0m\n",
      "\u001b[34mThere are 2 clusters with 9 cameras\u001b[0m\n",
      "\u001b[34mThere are 1 clusters with 11 cameras\u001b[0m\n",
      "\u001b[34mThere are 1 clusters with 12 cameras\u001b[0m\n",
      "\u001b[34mThere are 1 clusters with 16 cameras\u001b[0m\n",
      "\u001b[34mThere are 1 clusters with 17 cameras\u001b[0m\n",
      "\u001b[34mThere are 1 clusters with 19 cameras\u001b[0m\n",
      "\u001b[34mThere are 1 clusters with 27 cameras\u001b[0m\n",
      "\u001b[34mThere are 1 clusters with 31 cameras\u001b[0m\n",
      "\u001b[34mThere are 1 clusters with 32 cameras\u001b[0m\n",
      "\u001b[34mThere are 1 clusters with 41 cameras\u001b[0m\n",
      "\u001b[34mThere are 1 clusters with 45 cameras\u001b[0m\n",
      "\u001b[34mThere are 1 clusters with 47 cameras\u001b[0m\n",
      "\u001b[34mThere are 1 clusters with 52 cameras\u001b[0m\n",
      "\u001b[34mThere are 1 clusters with 53 cameras\u001b[0m\n",
      "\u001b[34mThere are 2 clusters with 54 cameras\u001b[0m\n",
      "\u001b[34mThere are 1 clusters with 56 cameras\u001b[0m\n",
      "\u001b[34mThere are 3 clusters with 57 cameras\u001b[0m\n",
      "\u001b[34mThere are 1 clusters with 58 cameras\u001b[0m\n",
      "\u001b[34mThere are 6 clusters with 59 cameras\u001b[0m\n",
      "\u001b[34mThere are 9 clusters with 60 cameras\u001b[0m\n",
      "\u001b[34mThere are 13 clusters with 61 cameras\u001b[0m\n",
      "\u001b[34mThere are 26 clusters with 62 cameras\u001b[0m\n",
      "\u001b[34mThere are 36 clusters with 63 cameras\u001b[0m\n",
      "\u001b[34mThere are 461 clusters with 64 cameras\u001b[0m\n",
      "\u001b[34mThere are 1 clusters with 90 cameras\u001b[0m\n",
      "\u001b[34mThere are 1 clusters with 119 cameras\u001b[0m\n",
      "\u001b[34mThere are 1 clusters with 120 cameras\u001b[0m\n",
      "\u001b[34mThere are 1 clusters with 122 cameras\u001b[0m\n",
      "\u001b[34mThere are 1 clusters with 123 cameras\u001b[0m\n",
      "\u001b[34mThere are 2 clusters with 125 cameras\u001b[0m\n",
      "\u001b[34mThere are 2 clusters with 126 cameras\u001b[0m\n",
      "\u001b[34mThere are 1 clusters with 127 cameras\u001b[0m\n",
      "\u001b[34mThere are 8 clusters with 128 cameras\u001b[0m\n",
      "Number of classes: 600\n",
      "\u001b[36mLearning Rate: 0.000263\u001b[0m\n",
      "encontrou modelos efficientnet. Carregando...\n",
      "encontrou modelos convnext. Carregando...\n",
      "encontrou modelos mobilenet. Carregando...\n",
      "encontrou modelos vgg16. Carregando...\n",
      "encontrou modelos resnet50. Carregando...\n",
      "encontrou modelos osnet. Carregando...\n",
      "encontrou modelos densenet121. Carregando...\n",
      "\u001b[33mValidating online efficientnet ...\u001b[0m\n",
      "Features extracted in 49.73 seconds\n",
      "Features extracted in 99.84 seconds\n",
      "Computing CMC and mAP ...\n",
      "** Results **\n",
      "mAP: 69.91%\n",
      "CMC curve\n",
      "Rank-1  : 73.59%\n",
      "Rank-5  : 94.54%\n",
      "Rank-10 : 97.70%\n",
      "Rank-20 : 99.20%\n",
      "\u001b[33mValidating momentum efficientnet ...\u001b[0m\n",
      "Features extracted in 49.53 seconds\n",
      "Features extracted in 101.75 seconds\n",
      "Computing CMC and mAP ...\n",
      "** Results **\n",
      "mAP: 70.66%\n",
      "CMC curve\n",
      "Rank-1  : 76.80%\n",
      "Rank-5  : 93.39%\n",
      "Rank-10 : 96.79%\n",
      "Rank-20 : 98.68%\n",
      "\u001b[33mValidating online convnext ...\u001b[0m\n",
      "Features extracted in 51.03 seconds\n",
      "Features extracted in 102.54 seconds\n",
      "Computing CMC and mAP ...\n",
      "** Results **\n",
      "mAP: 70.08%\n",
      "CMC curve\n",
      "Rank-1  : 75.63%\n",
      "Rank-5  : 92.61%\n",
      "Rank-10 : 96.93%\n",
      "Rank-20 : 99.29%\n",
      "\u001b[33mValidating momentum convnext ...\u001b[0m\n",
      "Features extracted in 50.55 seconds\n",
      "Features extracted in 99.60 seconds\n",
      "Computing CMC and mAP ...\n",
      "** Results **\n",
      "mAP: 70.46%\n",
      "CMC curve\n",
      "Rank-1  : 77.49%\n",
      "Rank-5  : 93.71%\n",
      "Rank-10 : 96.84%\n",
      "Rank-20 : 98.71%\n",
      "\u001b[33mValidating online mobilenet ...\u001b[0m\n",
      "Features extracted in 46.10 seconds\n",
      "Features extracted in 95.29 seconds\n",
      "Computing CMC and mAP ...\n",
      "** Results **\n",
      "mAP: 71.39%\n",
      "CMC curve\n",
      "Rank-1  : 81.53%\n",
      "Rank-5  : 95.41%\n",
      "Rank-10 : 98.02%\n",
      "Rank-20 : 99.18%\n",
      "\u001b[33mValidating momentum mobilenet ...\u001b[0m\n",
      "Features extracted in 47.39 seconds\n",
      "Features extracted in 97.41 seconds\n",
      "Computing CMC and mAP ...\n",
      "** Results **\n",
      "mAP: 70.86%\n",
      "CMC curve\n",
      "Rank-1  : 78.95%\n",
      "Rank-5  : 93.89%\n",
      "Rank-10 : 97.47%\n",
      "Rank-20 : 99.27%\n",
      "\u001b[33mValidating online vgg16 ...\u001b[0m\n",
      "Features extracted in 49.02 seconds\n",
      "Features extracted in 99.93 seconds\n",
      "Computing CMC and mAP ...\n",
      "** Results **\n",
      "mAP: 69.67%\n",
      "CMC curve\n",
      "Rank-1  : 74.49%\n",
      "Rank-5  : 92.27%\n",
      "Rank-10 : 96.56%\n",
      "Rank-20 : 99.05%\n",
      "\u001b[33mValidating momentum vgg16 ...\u001b[0m\n",
      "Features extracted in 50.19 seconds\n",
      "Features extracted in 100.86 seconds\n",
      "Computing CMC and mAP ...\n",
      "** Results **\n",
      "mAP: 69.72%\n",
      "CMC curve\n",
      "Rank-1  : 75.80%\n",
      "Rank-5  : 92.91%\n",
      "Rank-10 : 97.25%\n",
      "Rank-20 : 99.09%\n",
      "\u001b[33mValidating online resnet50 ...\u001b[0m\n",
      "Features extracted in 50.29 seconds\n",
      "Features extracted in 99.35 seconds\n",
      "Computing CMC and mAP ...\n",
      "** Results **\n",
      "mAP: 69.64%\n",
      "CMC curve\n",
      "Rank-1  : 70.07%\n",
      "Rank-5  : 91.28%\n",
      "Rank-10 : 96.04%\n",
      "Rank-20 : 98.68%\n",
      "\u001b[33mValidating momentum resnet50 ...\u001b[0m\n",
      "Features extracted in 48.46 seconds\n",
      "Features extracted in 100.24 seconds\n",
      "Computing CMC and mAP ...\n",
      "** Results **\n",
      "mAP: 70.02%\n",
      "CMC curve\n",
      "Rank-1  : 73.39%\n",
      "Rank-5  : 93.49%\n",
      "Rank-10 : 97.50%\n",
      "Rank-20 : 99.37%\n",
      "\u001b[33mValidating online osnet ...\u001b[0m\n",
      "Features extracted in 48.34 seconds\n",
      "Features extracted in 99.47 seconds\n",
      "Computing CMC and mAP ...\n",
      "** Results **\n",
      "mAP: 68.61%\n",
      "CMC curve\n",
      "Rank-1  : 73.02%\n",
      "Rank-5  : 95.04%\n",
      "Rank-10 : 98.36%\n",
      "Rank-20 : 99.48%\n",
      "\u001b[33mValidating momentum osnet ...\u001b[0m\n",
      "Features extracted in 50.46 seconds\n",
      "Features extracted in 99.34 seconds\n",
      "Computing CMC and mAP ...\n",
      "** Results **\n",
      "mAP: 69.41%\n",
      "CMC curve\n",
      "Rank-1  : 73.33%\n",
      "Rank-5  : 93.05%\n",
      "Rank-10 : 97.14%\n",
      "Rank-20 : 99.12%\n",
      "\u001b[33mValidating online densenet121 ...\u001b[0m\n",
      "Features extracted in 50.71 seconds\n",
      "Features extracted in 101.51 seconds\n",
      "Computing CMC and mAP ...\n",
      "** Results **\n",
      "mAP: 70.12%\n",
      "CMC curve\n",
      "Rank-1  : 75.15%\n",
      "Rank-5  : 92.89%\n",
      "Rank-10 : 97.00%\n",
      "Rank-20 : 98.95%\n",
      "\u001b[33mValidating momentum densenet121 ...\u001b[0m\n",
      "Features extracted in 50.14 seconds\n",
      "Features extracted in 99.80 seconds\n",
      "Computing CMC and mAP ...\n",
      "** Results **\n",
      "mAP: 69.53%\n",
      "CMC curve\n",
      "Rank-1  : 75.91%\n",
      "Rank-5  : 93.33%\n",
      "Rank-10 : 97.31%\n",
      "Rank-20 : 99.25%\n",
      "\u001b[33mValidating ensembled with online models ...\u001b[0m\n",
      "Computing CMC and mAP ...\n",
      "** Results **\n",
      "mAP: 71.17%\n",
      "Ranks:\n",
      "Rank-1  : 78.73%\n",
      "Rank-5  : 92.94%\n",
      "Rank-10 : 96.83%\n",
      "\u001b[33mValidating ensembled with momentum models ...\u001b[0m\n",
      "Computing CMC and mAP ...\n",
      "** Results **\n",
      "mAP: 71.11%\n",
      "Ranks:\n",
      "Rank-1  : 79.83%\n",
      "Rank-5  : 92.92%\n",
      "Rank-10 : 96.74%\n",
      "###============ Iteration number 86/90 ============###\n",
      "Extracting Online Features for efficientnet ...\n",
      "Features extracted in 156.09 seconds\n",
      "Computing jaccard distance...\n"
     ]
    },
    {
     "name": "stderr",
     "output_type": "stream",
     "text": [
      "bruteForceKnn is deprecated; call bfKnn instead\n"
     ]
    },
    {
     "name": "stdout",
     "output_type": "stream",
     "text": [
      "Jaccard distance computing time cost: 70.75146293640137\n",
      "Extracting Online Features for convnext ...\n",
      "Features extracted in 156.12 seconds\n",
      "Computing jaccard distance...\n"
     ]
    },
    {
     "name": "stderr",
     "output_type": "stream",
     "text": [
      "bruteForceKnn is deprecated; call bfKnn instead\n"
     ]
    },
    {
     "name": "stdout",
     "output_type": "stream",
     "text": [
      "Jaccard distance computing time cost: 136.87119054794312\n",
      "Extracting Online Features for mobilenet ...\n",
      "Features extracted in 256.71 seconds\n",
      "Computing jaccard distance...\n"
     ]
    },
    {
     "name": "stderr",
     "output_type": "stream",
     "text": [
      "bruteForceKnn is deprecated; call bfKnn instead\n"
     ]
    },
    {
     "name": "stdout",
     "output_type": "stream",
     "text": [
      "Jaccard distance computing time cost: 73.56494450569153\n",
      "Extracting Online Features for vgg16 ...\n",
      "Features extracted in 171.59 seconds\n",
      "Computing jaccard distance...\n"
     ]
    },
    {
     "name": "stderr",
     "output_type": "stream",
     "text": [
      "bruteForceKnn is deprecated; call bfKnn instead\n"
     ]
    },
    {
     "name": "stdout",
     "output_type": "stream",
     "text": [
      "Jaccard distance computing time cost: 212.76777005195618\n",
      "Extracting Online Features for resnet50 ...\n",
      "Features extracted in 171.60 seconds\n",
      "Computing jaccard distance...\n"
     ]
    },
    {
     "name": "stderr",
     "output_type": "stream",
     "text": [
      "bruteForceKnn is deprecated; call bfKnn instead\n"
     ]
    },
    {
     "name": "stdout",
     "output_type": "stream",
     "text": [
      "Jaccard distance computing time cost: 85.98614120483398\n",
      "Extracting Online Features for osnet ...\n",
      "Features extracted in 164.92 seconds\n",
      "Computing jaccard distance...\n"
     ]
    },
    {
     "name": "stderr",
     "output_type": "stream",
     "text": [
      "bruteForceKnn is deprecated; call bfKnn instead\n"
     ]
    },
    {
     "name": "stdout",
     "output_type": "stream",
     "text": [
      "Jaccard distance computing time cost: 97.66690349578857\n",
      "Extracting Online Features for densenet121 ...\n",
      "Features extracted in 157.27 seconds\n",
      "Computing jaccard distance...\n"
     ]
    },
    {
     "name": "stderr",
     "output_type": "stream",
     "text": [
      "bruteForceKnn is deprecated; call bfKnn instead\n"
     ]
    },
    {
     "name": "stdout",
     "output_type": "stream",
     "text": [
      "Jaccard distance computing time cost: 126.34980940818787\n",
      "Reliability: 0.994\n",
      "\u001b[32mMean Purity: 0.01644\u001b[0m\n",
      "\u001b[34mThere are 2 clusters with 4 cameras\u001b[0m\n",
      "\u001b[34mThere are 3 clusters with 5 cameras\u001b[0m\n",
      "\u001b[34mThere are 2 clusters with 6 cameras\u001b[0m\n",
      "\u001b[34mThere are 2 clusters with 7 cameras\u001b[0m\n",
      "\u001b[34mThere are 2 clusters with 9 cameras\u001b[0m\n",
      "\u001b[34mThere are 1 clusters with 11 cameras\u001b[0m\n",
      "\u001b[34mThere are 1 clusters with 12 cameras\u001b[0m\n",
      "\u001b[34mThere are 1 clusters with 16 cameras\u001b[0m\n",
      "\u001b[34mThere are 1 clusters with 17 cameras\u001b[0m\n",
      "\u001b[34mThere are 1 clusters with 19 cameras\u001b[0m\n",
      "\u001b[34mThere are 1 clusters with 27 cameras\u001b[0m\n",
      "\u001b[34mThere are 1 clusters with 31 cameras\u001b[0m\n",
      "\u001b[34mThere are 1 clusters with 32 cameras\u001b[0m\n",
      "\u001b[34mThere are 1 clusters with 41 cameras\u001b[0m\n",
      "\u001b[34mThere are 1 clusters with 45 cameras\u001b[0m\n",
      "\u001b[34mThere are 1 clusters with 47 cameras\u001b[0m\n",
      "\u001b[34mThere are 1 clusters with 52 cameras\u001b[0m\n",
      "\u001b[34mThere are 1 clusters with 53 cameras\u001b[0m\n",
      "\u001b[34mThere are 2 clusters with 54 cameras\u001b[0m\n",
      "\u001b[34mThere are 1 clusters with 56 cameras\u001b[0m\n",
      "\u001b[34mThere are 3 clusters with 57 cameras\u001b[0m\n",
      "\u001b[34mThere are 1 clusters with 58 cameras\u001b[0m\n",
      "\u001b[34mThere are 6 clusters with 59 cameras\u001b[0m\n",
      "\u001b[34mThere are 9 clusters with 60 cameras\u001b[0m\n",
      "\u001b[34mThere are 13 clusters with 61 cameras\u001b[0m\n",
      "\u001b[34mThere are 26 clusters with 62 cameras\u001b[0m\n",
      "\u001b[34mThere are 36 clusters with 63 cameras\u001b[0m\n",
      "\u001b[34mThere are 461 clusters with 64 cameras\u001b[0m\n",
      "\u001b[34mThere are 1 clusters with 90 cameras\u001b[0m\n",
      "\u001b[34mThere are 1 clusters with 119 cameras\u001b[0m\n",
      "\u001b[34mThere are 1 clusters with 120 cameras\u001b[0m\n",
      "\u001b[34mThere are 1 clusters with 122 cameras\u001b[0m\n",
      "\u001b[34mThere are 1 clusters with 123 cameras\u001b[0m\n",
      "\u001b[34mThere are 2 clusters with 125 cameras\u001b[0m\n",
      "\u001b[34mThere are 2 clusters with 126 cameras\u001b[0m\n",
      "\u001b[34mThere are 1 clusters with 127 cameras\u001b[0m\n",
      "\u001b[34mThere are 8 clusters with 128 cameras\u001b[0m\n",
      "Number of classes: 600\n",
      "\u001b[36mLearning Rate: 0.000280\u001b[0m\n",
      "encontrou modelos efficientnet. Carregando...\n",
      "encontrou modelos convnext. Carregando...\n",
      "encontrou modelos mobilenet. Carregando...\n",
      "encontrou modelos vgg16. Carregando...\n",
      "encontrou modelos resnet50. Carregando...\n",
      "encontrou modelos osnet. Carregando...\n",
      "encontrou modelos densenet121. Carregando...\n",
      "###============ Iteration number 87/90 ============###\n",
      "Extracting Online Features for efficientnet ...\n",
      "Features extracted in 161.93 seconds\n",
      "Computing jaccard distance...\n"
     ]
    },
    {
     "name": "stderr",
     "output_type": "stream",
     "text": [
      "bruteForceKnn is deprecated; call bfKnn instead\n"
     ]
    },
    {
     "name": "stdout",
     "output_type": "stream",
     "text": [
      "Jaccard distance computing time cost: 69.12150502204895\n",
      "Extracting Online Features for convnext ...\n",
      "Features extracted in 157.05 seconds\n",
      "Computing jaccard distance...\n"
     ]
    },
    {
     "name": "stderr",
     "output_type": "stream",
     "text": [
      "bruteForceKnn is deprecated; call bfKnn instead\n"
     ]
    },
    {
     "name": "stdout",
     "output_type": "stream",
     "text": [
      "Jaccard distance computing time cost: 69.64579820632935\n",
      "Extracting Online Features for mobilenet ...\n",
      "Features extracted in 150.23 seconds\n",
      "Computing jaccard distance...\n"
     ]
    },
    {
     "name": "stderr",
     "output_type": "stream",
     "text": [
      "bruteForceKnn is deprecated; call bfKnn instead\n"
     ]
    },
    {
     "name": "stdout",
     "output_type": "stream",
     "text": [
      "Jaccard distance computing time cost: 79.33405566215515\n",
      "Extracting Online Features for vgg16 ...\n",
      "Features extracted in 154.91 seconds\n",
      "Computing jaccard distance...\n"
     ]
    },
    {
     "name": "stderr",
     "output_type": "stream",
     "text": [
      "bruteForceKnn is deprecated; call bfKnn instead\n"
     ]
    },
    {
     "name": "stdout",
     "output_type": "stream",
     "text": [
      "Jaccard distance computing time cost: 68.65715098381042\n",
      "Extracting Online Features for resnet50 ...\n",
      "Features extracted in 155.15 seconds\n",
      "Computing jaccard distance...\n"
     ]
    },
    {
     "name": "stderr",
     "output_type": "stream",
     "text": [
      "bruteForceKnn is deprecated; call bfKnn instead\n"
     ]
    },
    {
     "name": "stdout",
     "output_type": "stream",
     "text": [
      "Jaccard distance computing time cost: 74.80902171134949\n",
      "Extracting Online Features for osnet ...\n",
      "Features extracted in 164.40 seconds\n",
      "Computing jaccard distance...\n"
     ]
    },
    {
     "name": "stderr",
     "output_type": "stream",
     "text": [
      "bruteForceKnn is deprecated; call bfKnn instead\n"
     ]
    },
    {
     "name": "stdout",
     "output_type": "stream",
     "text": [
      "Jaccard distance computing time cost: 123.44601368904114\n",
      "Extracting Online Features for densenet121 ...\n",
      "Features extracted in 162.87 seconds\n",
      "Computing jaccard distance...\n"
     ]
    },
    {
     "name": "stderr",
     "output_type": "stream",
     "text": [
      "bruteForceKnn is deprecated; call bfKnn instead\n"
     ]
    },
    {
     "name": "stdout",
     "output_type": "stream",
     "text": [
      "Jaccard distance computing time cost: 93.36327171325684\n",
      "Reliability: 0.994\n",
      "\u001b[32mMean Purity: 0.01644\u001b[0m\n",
      "\u001b[34mThere are 2 clusters with 4 cameras\u001b[0m\n",
      "\u001b[34mThere are 3 clusters with 5 cameras\u001b[0m\n",
      "\u001b[34mThere are 2 clusters with 6 cameras\u001b[0m\n",
      "\u001b[34mThere are 2 clusters with 7 cameras\u001b[0m\n",
      "\u001b[34mThere are 2 clusters with 9 cameras\u001b[0m\n",
      "\u001b[34mThere are 1 clusters with 11 cameras\u001b[0m\n",
      "\u001b[34mThere are 1 clusters with 12 cameras\u001b[0m\n",
      "\u001b[34mThere are 1 clusters with 16 cameras\u001b[0m\n",
      "\u001b[34mThere are 1 clusters with 17 cameras\u001b[0m\n",
      "\u001b[34mThere are 1 clusters with 19 cameras\u001b[0m\n",
      "\u001b[34mThere are 1 clusters with 27 cameras\u001b[0m\n",
      "\u001b[34mThere are 1 clusters with 31 cameras\u001b[0m\n",
      "\u001b[34mThere are 1 clusters with 32 cameras\u001b[0m\n",
      "\u001b[34mThere are 1 clusters with 41 cameras\u001b[0m\n",
      "\u001b[34mThere are 1 clusters with 45 cameras\u001b[0m\n",
      "\u001b[34mThere are 1 clusters with 47 cameras\u001b[0m\n",
      "\u001b[34mThere are 1 clusters with 52 cameras\u001b[0m\n",
      "\u001b[34mThere are 1 clusters with 53 cameras\u001b[0m\n",
      "\u001b[34mThere are 2 clusters with 54 cameras\u001b[0m\n",
      "\u001b[34mThere are 1 clusters with 56 cameras\u001b[0m\n",
      "\u001b[34mThere are 3 clusters with 57 cameras\u001b[0m\n",
      "\u001b[34mThere are 1 clusters with 58 cameras\u001b[0m\n",
      "\u001b[34mThere are 6 clusters with 59 cameras\u001b[0m\n",
      "\u001b[34mThere are 9 clusters with 60 cameras\u001b[0m\n",
      "\u001b[34mThere are 13 clusters with 61 cameras\u001b[0m\n",
      "\u001b[34mThere are 26 clusters with 62 cameras\u001b[0m\n",
      "\u001b[34mThere are 36 clusters with 63 cameras\u001b[0m\n",
      "\u001b[34mThere are 461 clusters with 64 cameras\u001b[0m\n",
      "\u001b[34mThere are 1 clusters with 90 cameras\u001b[0m\n",
      "\u001b[34mThere are 1 clusters with 119 cameras\u001b[0m\n",
      "\u001b[34mThere are 1 clusters with 120 cameras\u001b[0m\n",
      "\u001b[34mThere are 1 clusters with 122 cameras\u001b[0m\n",
      "\u001b[34mThere are 1 clusters with 123 cameras\u001b[0m\n",
      "\u001b[34mThere are 2 clusters with 125 cameras\u001b[0m\n",
      "\u001b[34mThere are 2 clusters with 126 cameras\u001b[0m\n",
      "\u001b[34mThere are 1 clusters with 127 cameras\u001b[0m\n",
      "\u001b[34mThere are 8 clusters with 128 cameras\u001b[0m\n",
      "Number of classes: 600\n",
      "\u001b[36mLearning Rate: 0.000298\u001b[0m\n",
      "encontrou modelos efficientnet. Carregando...\n",
      "encontrou modelos convnext. Carregando...\n",
      "encontrou modelos mobilenet. Carregando...\n",
      "encontrou modelos vgg16. Carregando...\n",
      "encontrou modelos resnet50. Carregando...\n",
      "encontrou modelos osnet. Carregando...\n",
      "encontrou modelos densenet121. Carregando...\n",
      "###============ Iteration number 88/90 ============###\n",
      "Extracting Online Features for efficientnet ...\n",
      "Features extracted in 154.77 seconds\n",
      "Computing jaccard distance...\n"
     ]
    },
    {
     "name": "stderr",
     "output_type": "stream",
     "text": [
      "bruteForceKnn is deprecated; call bfKnn instead\n"
     ]
    },
    {
     "name": "stdout",
     "output_type": "stream",
     "text": [
      "Jaccard distance computing time cost: 80.07150673866272\n",
      "Extracting Online Features for convnext ...\n",
      "Features extracted in 154.42 seconds\n",
      "Computing jaccard distance...\n"
     ]
    },
    {
     "name": "stderr",
     "output_type": "stream",
     "text": [
      "bruteForceKnn is deprecated; call bfKnn instead\n"
     ]
    },
    {
     "name": "stdout",
     "output_type": "stream",
     "text": [
      "Jaccard distance computing time cost: 111.74932765960693\n",
      "Extracting Online Features for mobilenet ...\n",
      "Features extracted in 196.15 seconds\n",
      "Computing jaccard distance...\n"
     ]
    },
    {
     "name": "stderr",
     "output_type": "stream",
     "text": [
      "bruteForceKnn is deprecated; call bfKnn instead\n"
     ]
    },
    {
     "name": "stdout",
     "output_type": "stream",
     "text": [
      "Jaccard distance computing time cost: 189.38643836975098\n",
      "Extracting Online Features for vgg16 ...\n",
      "Features extracted in 165.37 seconds\n",
      "Computing jaccard distance...\n"
     ]
    },
    {
     "name": "stderr",
     "output_type": "stream",
     "text": [
      "bruteForceKnn is deprecated; call bfKnn instead\n"
     ]
    },
    {
     "name": "stdout",
     "output_type": "stream",
     "text": [
      "Jaccard distance computing time cost: 164.8625431060791\n",
      "Extracting Online Features for resnet50 ...\n",
      "Features extracted in 164.09 seconds\n",
      "Computing jaccard distance...\n"
     ]
    },
    {
     "name": "stderr",
     "output_type": "stream",
     "text": [
      "bruteForceKnn is deprecated; call bfKnn instead\n"
     ]
    },
    {
     "name": "stdout",
     "output_type": "stream",
     "text": [
      "Jaccard distance computing time cost: 140.72271752357483\n",
      "Extracting Online Features for osnet ...\n",
      "Features extracted in 155.73 seconds\n",
      "Computing jaccard distance...\n"
     ]
    },
    {
     "name": "stderr",
     "output_type": "stream",
     "text": [
      "bruteForceKnn is deprecated; call bfKnn instead\n"
     ]
    },
    {
     "name": "stdout",
     "output_type": "stream",
     "text": [
      "Jaccard distance computing time cost: 87.29659652709961\n",
      "Extracting Online Features for densenet121 ...\n",
      "Features extracted in 157.78 seconds\n",
      "Computing jaccard distance...\n"
     ]
    },
    {
     "name": "stderr",
     "output_type": "stream",
     "text": [
      "bruteForceKnn is deprecated; call bfKnn instead\n"
     ]
    },
    {
     "name": "stdout",
     "output_type": "stream",
     "text": [
      "Jaccard distance computing time cost: 94.16366600990295\n",
      "Reliability: 0.994\n",
      "\u001b[32mMean Purity: 0.01644\u001b[0m\n",
      "\u001b[34mThere are 2 clusters with 4 cameras\u001b[0m\n",
      "\u001b[34mThere are 3 clusters with 5 cameras\u001b[0m\n",
      "\u001b[34mThere are 2 clusters with 6 cameras\u001b[0m\n",
      "\u001b[34mThere are 2 clusters with 7 cameras\u001b[0m\n",
      "\u001b[34mThere are 2 clusters with 9 cameras\u001b[0m\n",
      "\u001b[34mThere are 1 clusters with 11 cameras\u001b[0m\n",
      "\u001b[34mThere are 1 clusters with 12 cameras\u001b[0m\n",
      "\u001b[34mThere are 1 clusters with 16 cameras\u001b[0m\n",
      "\u001b[34mThere are 1 clusters with 17 cameras\u001b[0m\n",
      "\u001b[34mThere are 1 clusters with 19 cameras\u001b[0m\n",
      "\u001b[34mThere are 1 clusters with 27 cameras\u001b[0m\n",
      "\u001b[34mThere are 1 clusters with 31 cameras\u001b[0m\n",
      "\u001b[34mThere are 1 clusters with 32 cameras\u001b[0m\n",
      "\u001b[34mThere are 1 clusters with 41 cameras\u001b[0m\n",
      "\u001b[34mThere are 1 clusters with 45 cameras\u001b[0m\n",
      "\u001b[34mThere are 1 clusters with 47 cameras\u001b[0m\n",
      "\u001b[34mThere are 1 clusters with 52 cameras\u001b[0m\n",
      "\u001b[34mThere are 1 clusters with 53 cameras\u001b[0m\n",
      "\u001b[34mThere are 2 clusters with 54 cameras\u001b[0m\n",
      "\u001b[34mThere are 1 clusters with 56 cameras\u001b[0m\n",
      "\u001b[34mThere are 3 clusters with 57 cameras\u001b[0m\n",
      "\u001b[34mThere are 1 clusters with 58 cameras\u001b[0m\n",
      "\u001b[34mThere are 6 clusters with 59 cameras\u001b[0m\n",
      "\u001b[34mThere are 9 clusters with 60 cameras\u001b[0m\n",
      "\u001b[34mThere are 13 clusters with 61 cameras\u001b[0m\n",
      "\u001b[34mThere are 26 clusters with 62 cameras\u001b[0m\n",
      "\u001b[34mThere are 36 clusters with 63 cameras\u001b[0m\n",
      "\u001b[34mThere are 461 clusters with 64 cameras\u001b[0m\n",
      "\u001b[34mThere are 1 clusters with 90 cameras\u001b[0m\n",
      "\u001b[34mThere are 1 clusters with 119 cameras\u001b[0m\n",
      "\u001b[34mThere are 1 clusters with 120 cameras\u001b[0m\n",
      "\u001b[34mThere are 1 clusters with 122 cameras\u001b[0m\n",
      "\u001b[34mThere are 1 clusters with 123 cameras\u001b[0m\n",
      "\u001b[34mThere are 2 clusters with 125 cameras\u001b[0m\n",
      "\u001b[34mThere are 2 clusters with 126 cameras\u001b[0m\n",
      "\u001b[34mThere are 1 clusters with 127 cameras\u001b[0m\n",
      "\u001b[34mThere are 8 clusters with 128 cameras\u001b[0m\n",
      "Number of classes: 600\n",
      "\u001b[36mLearning Rate: 0.000315\u001b[0m\n",
      "encontrou modelos efficientnet. Carregando...\n",
      "encontrou modelos convnext. Carregando...\n",
      "encontrou modelos mobilenet. Carregando...\n",
      "encontrou modelos vgg16. Carregando...\n",
      "encontrou modelos resnet50. Carregando...\n",
      "encontrou modelos osnet. Carregando...\n",
      "encontrou modelos densenet121. Carregando...\n",
      "###============ Iteration number 89/90 ============###\n",
      "Extracting Online Features for efficientnet ...\n",
      "Features extracted in 152.48 seconds\n",
      "Computing jaccard distance...\n"
     ]
    },
    {
     "name": "stderr",
     "output_type": "stream",
     "text": [
      "bruteForceKnn is deprecated; call bfKnn instead\n"
     ]
    },
    {
     "name": "stdout",
     "output_type": "stream",
     "text": [
      "Jaccard distance computing time cost: 69.65226292610168\n",
      "Extracting Online Features for convnext ...\n",
      "Features extracted in 153.61 seconds\n",
      "Computing jaccard distance...\n"
     ]
    },
    {
     "name": "stderr",
     "output_type": "stream",
     "text": [
      "bruteForceKnn is deprecated; call bfKnn instead\n"
     ]
    },
    {
     "name": "stdout",
     "output_type": "stream",
     "text": [
      "Jaccard distance computing time cost: 92.7633330821991\n",
      "Extracting Online Features for mobilenet ...\n",
      "Features extracted in 149.97 seconds\n",
      "Computing jaccard distance...\n"
     ]
    },
    {
     "name": "stderr",
     "output_type": "stream",
     "text": [
      "bruteForceKnn is deprecated; call bfKnn instead\n"
     ]
    },
    {
     "name": "stdout",
     "output_type": "stream",
     "text": [
      "Jaccard distance computing time cost: 124.91573739051819\n",
      "Extracting Online Features for vgg16 ...\n",
      "Features extracted in 175.49 seconds\n",
      "Computing jaccard distance...\n"
     ]
    },
    {
     "name": "stderr",
     "output_type": "stream",
     "text": [
      "bruteForceKnn is deprecated; call bfKnn instead\n"
     ]
    },
    {
     "name": "stdout",
     "output_type": "stream",
     "text": [
      "Jaccard distance computing time cost: 115.07470321655273\n",
      "Extracting Online Features for resnet50 ...\n",
      "Features extracted in 206.31 seconds\n",
      "Computing jaccard distance...\n"
     ]
    },
    {
     "name": "stderr",
     "output_type": "stream",
     "text": [
      "bruteForceKnn is deprecated; call bfKnn instead\n"
     ]
    },
    {
     "name": "stdout",
     "output_type": "stream",
     "text": [
      "Jaccard distance computing time cost: 98.17151737213135\n",
      "Extracting Online Features for osnet ...\n",
      "Features extracted in 188.34 seconds\n",
      "Computing jaccard distance...\n"
     ]
    },
    {
     "name": "stderr",
     "output_type": "stream",
     "text": [
      "bruteForceKnn is deprecated; call bfKnn instead\n"
     ]
    },
    {
     "name": "stdout",
     "output_type": "stream",
     "text": [
      "Jaccard distance computing time cost: 90.72594428062439\n",
      "Extracting Online Features for densenet121 ...\n",
      "Features extracted in 163.76 seconds\n",
      "Computing jaccard distance...\n"
     ]
    },
    {
     "name": "stderr",
     "output_type": "stream",
     "text": [
      "bruteForceKnn is deprecated; call bfKnn instead\n"
     ]
    },
    {
     "name": "stdout",
     "output_type": "stream",
     "text": [
      "Jaccard distance computing time cost: 98.38794732093811\n",
      "Reliability: 0.994\n",
      "\u001b[32mMean Purity: 0.01644\u001b[0m\n",
      "\u001b[34mThere are 2 clusters with 4 cameras\u001b[0m\n",
      "\u001b[34mThere are 3 clusters with 5 cameras\u001b[0m\n",
      "\u001b[34mThere are 2 clusters with 6 cameras\u001b[0m\n",
      "\u001b[34mThere are 2 clusters with 7 cameras\u001b[0m\n",
      "\u001b[34mThere are 2 clusters with 9 cameras\u001b[0m\n",
      "\u001b[34mThere are 1 clusters with 11 cameras\u001b[0m\n",
      "\u001b[34mThere are 1 clusters with 12 cameras\u001b[0m\n",
      "\u001b[34mThere are 1 clusters with 16 cameras\u001b[0m\n",
      "\u001b[34mThere are 1 clusters with 17 cameras\u001b[0m\n",
      "\u001b[34mThere are 1 clusters with 19 cameras\u001b[0m\n",
      "\u001b[34mThere are 1 clusters with 27 cameras\u001b[0m\n",
      "\u001b[34mThere are 1 clusters with 31 cameras\u001b[0m\n",
      "\u001b[34mThere are 1 clusters with 32 cameras\u001b[0m\n",
      "\u001b[34mThere are 1 clusters with 41 cameras\u001b[0m\n",
      "\u001b[34mThere are 1 clusters with 45 cameras\u001b[0m\n",
      "\u001b[34mThere are 1 clusters with 47 cameras\u001b[0m\n",
      "\u001b[34mThere are 1 clusters with 52 cameras\u001b[0m\n",
      "\u001b[34mThere are 1 clusters with 53 cameras\u001b[0m\n",
      "\u001b[34mThere are 2 clusters with 54 cameras\u001b[0m\n",
      "\u001b[34mThere are 1 clusters with 56 cameras\u001b[0m\n",
      "\u001b[34mThere are 3 clusters with 57 cameras\u001b[0m\n",
      "\u001b[34mThere are 1 clusters with 58 cameras\u001b[0m\n",
      "\u001b[34mThere are 6 clusters with 59 cameras\u001b[0m\n",
      "\u001b[34mThere are 9 clusters with 60 cameras\u001b[0m\n",
      "\u001b[34mThere are 13 clusters with 61 cameras\u001b[0m\n",
      "\u001b[34mThere are 26 clusters with 62 cameras\u001b[0m\n",
      "\u001b[34mThere are 36 clusters with 63 cameras\u001b[0m\n",
      "\u001b[34mThere are 461 clusters with 64 cameras\u001b[0m\n",
      "\u001b[34mThere are 1 clusters with 90 cameras\u001b[0m\n",
      "\u001b[34mThere are 1 clusters with 119 cameras\u001b[0m\n",
      "\u001b[34mThere are 1 clusters with 120 cameras\u001b[0m\n",
      "\u001b[34mThere are 1 clusters with 122 cameras\u001b[0m\n",
      "\u001b[34mThere are 1 clusters with 123 cameras\u001b[0m\n",
      "\u001b[34mThere are 2 clusters with 125 cameras\u001b[0m\n",
      "\u001b[34mThere are 2 clusters with 126 cameras\u001b[0m\n",
      "\u001b[34mThere are 1 clusters with 127 cameras\u001b[0m\n",
      "\u001b[34mThere are 8 clusters with 128 cameras\u001b[0m\n",
      "Number of classes: 600\n",
      "\u001b[36mLearning Rate: 0.000333\u001b[0m\n",
      "encontrou modelos efficientnet. Carregando...\n",
      "encontrou modelos convnext. Carregando...\n",
      "encontrou modelos mobilenet. Carregando...\n",
      "encontrou modelos vgg16. Carregando...\n",
      "encontrou modelos resnet50. Carregando...\n",
      "encontrou modelos osnet. Carregando...\n",
      "encontrou modelos densenet121. Carregando...\n",
      "###============ Iteration number 90/90 ============###\n",
      "Extracting Online Features for efficientnet ...\n",
      "Features extracted in 155.80 seconds\n",
      "Computing jaccard distance...\n"
     ]
    },
    {
     "name": "stderr",
     "output_type": "stream",
     "text": [
      "bruteForceKnn is deprecated; call bfKnn instead\n"
     ]
    },
    {
     "name": "stdout",
     "output_type": "stream",
     "text": [
      "Jaccard distance computing time cost: 67.60134363174438\n",
      "Extracting Online Features for convnext ...\n",
      "Features extracted in 158.01 seconds\n",
      "Computing jaccard distance...\n"
     ]
    },
    {
     "name": "stderr",
     "output_type": "stream",
     "text": [
      "bruteForceKnn is deprecated; call bfKnn instead\n"
     ]
    },
    {
     "name": "stdout",
     "output_type": "stream",
     "text": [
      "Jaccard distance computing time cost: 72.10550451278687\n",
      "Extracting Online Features for mobilenet ...\n",
      "Features extracted in 155.56 seconds\n",
      "Computing jaccard distance...\n"
     ]
    },
    {
     "name": "stderr",
     "output_type": "stream",
     "text": [
      "bruteForceKnn is deprecated; call bfKnn instead\n"
     ]
    },
    {
     "name": "stdout",
     "output_type": "stream",
     "text": [
      "Jaccard distance computing time cost: 76.74338293075562\n",
      "Extracting Online Features for vgg16 ...\n",
      "Features extracted in 158.49 seconds\n",
      "Computing jaccard distance...\n"
     ]
    },
    {
     "name": "stderr",
     "output_type": "stream",
     "text": [
      "bruteForceKnn is deprecated; call bfKnn instead\n"
     ]
    },
    {
     "name": "stdout",
     "output_type": "stream",
     "text": [
      "Jaccard distance computing time cost: 99.03083801269531\n",
      "Extracting Online Features for resnet50 ...\n",
      "Features extracted in 163.76 seconds\n",
      "Computing jaccard distance...\n"
     ]
    },
    {
     "name": "stderr",
     "output_type": "stream",
     "text": [
      "bruteForceKnn is deprecated; call bfKnn instead\n"
     ]
    },
    {
     "name": "stdout",
     "output_type": "stream",
     "text": [
      "Jaccard distance computing time cost: 100.1004843711853\n",
      "Extracting Online Features for osnet ...\n",
      "Features extracted in 210.98 seconds\n",
      "Computing jaccard distance...\n"
     ]
    },
    {
     "name": "stderr",
     "output_type": "stream",
     "text": [
      "bruteForceKnn is deprecated; call bfKnn instead\n"
     ]
    },
    {
     "name": "stdout",
     "output_type": "stream",
     "text": [
      "Jaccard distance computing time cost: 231.29176449775696\n",
      "Extracting Online Features for densenet121 ...\n",
      "Features extracted in 164.76 seconds\n",
      "Computing jaccard distance...\n"
     ]
    },
    {
     "name": "stderr",
     "output_type": "stream",
     "text": [
      "bruteForceKnn is deprecated; call bfKnn instead\n"
     ]
    },
    {
     "name": "stdout",
     "output_type": "stream",
     "text": [
      "Jaccard distance computing time cost: 157.10689878463745\n",
      "Reliability: 0.994\n",
      "\u001b[32mMean Purity: 0.01644\u001b[0m\n",
      "\u001b[34mThere are 2 clusters with 4 cameras\u001b[0m\n",
      "\u001b[34mThere are 3 clusters with 5 cameras\u001b[0m\n",
      "\u001b[34mThere are 2 clusters with 6 cameras\u001b[0m\n",
      "\u001b[34mThere are 2 clusters with 7 cameras\u001b[0m\n",
      "\u001b[34mThere are 2 clusters with 9 cameras\u001b[0m\n",
      "\u001b[34mThere are 1 clusters with 11 cameras\u001b[0m\n",
      "\u001b[34mThere are 1 clusters with 12 cameras\u001b[0m\n",
      "\u001b[34mThere are 1 clusters with 16 cameras\u001b[0m\n",
      "\u001b[34mThere are 1 clusters with 17 cameras\u001b[0m\n",
      "\u001b[34mThere are 1 clusters with 19 cameras\u001b[0m\n",
      "\u001b[34mThere are 1 clusters with 27 cameras\u001b[0m\n",
      "\u001b[34mThere are 1 clusters with 31 cameras\u001b[0m\n",
      "\u001b[34mThere are 1 clusters with 32 cameras\u001b[0m\n",
      "\u001b[34mThere are 1 clusters with 41 cameras\u001b[0m\n",
      "\u001b[34mThere are 1 clusters with 45 cameras\u001b[0m\n",
      "\u001b[34mThere are 1 clusters with 47 cameras\u001b[0m\n",
      "\u001b[34mThere are 1 clusters with 52 cameras\u001b[0m\n",
      "\u001b[34mThere are 1 clusters with 53 cameras\u001b[0m\n",
      "\u001b[34mThere are 2 clusters with 54 cameras\u001b[0m\n",
      "\u001b[34mThere are 1 clusters with 56 cameras\u001b[0m\n",
      "\u001b[34mThere are 3 clusters with 57 cameras\u001b[0m\n",
      "\u001b[34mThere are 1 clusters with 58 cameras\u001b[0m\n",
      "\u001b[34mThere are 6 clusters with 59 cameras\u001b[0m\n",
      "\u001b[34mThere are 9 clusters with 60 cameras\u001b[0m\n",
      "\u001b[34mThere are 13 clusters with 61 cameras\u001b[0m\n",
      "\u001b[34mThere are 26 clusters with 62 cameras\u001b[0m\n",
      "\u001b[34mThere are 36 clusters with 63 cameras\u001b[0m\n",
      "\u001b[34mThere are 461 clusters with 64 cameras\u001b[0m\n",
      "\u001b[34mThere are 1 clusters with 90 cameras\u001b[0m\n",
      "\u001b[34mThere are 1 clusters with 119 cameras\u001b[0m\n",
      "\u001b[34mThere are 1 clusters with 120 cameras\u001b[0m\n",
      "\u001b[34mThere are 1 clusters with 122 cameras\u001b[0m\n",
      "\u001b[34mThere are 1 clusters with 123 cameras\u001b[0m\n",
      "\u001b[34mThere are 2 clusters with 125 cameras\u001b[0m\n",
      "\u001b[34mThere are 2 clusters with 126 cameras\u001b[0m\n",
      "\u001b[34mThere are 1 clusters with 127 cameras\u001b[0m\n",
      "\u001b[34mThere are 8 clusters with 128 cameras\u001b[0m\n",
      "Number of classes: 600\n",
      "\u001b[36mLearning Rate: 0.000350\u001b[0m\n",
      "encontrou modelos efficientnet. Carregando...\n",
      "encontrou modelos convnext. Carregando...\n",
      "encontrou modelos mobilenet. Carregando...\n",
      "encontrou modelos vgg16. Carregando...\n",
      "encontrou modelos resnet50. Carregando...\n",
      "encontrou modelos osnet. Carregando...\n",
      "encontrou modelos densenet121. Carregando...\n",
      "\u001b[33mValidating online efficientnet ...\u001b[0m\n",
      "Features extracted in 48.02 seconds\n",
      "Features extracted in 99.77 seconds\n",
      "Computing CMC and mAP ...\n",
      "** Results **\n",
      "mAP: 69.91%\n",
      "CMC curve\n",
      "Rank-1  : 73.59%\n",
      "Rank-5  : 94.54%\n",
      "Rank-10 : 97.70%\n",
      "Rank-20 : 99.20%\n",
      "\u001b[33mValidating momentum efficientnet ...\u001b[0m\n",
      "Features extracted in 48.55 seconds\n",
      "Features extracted in 97.34 seconds\n",
      "Computing CMC and mAP ...\n",
      "** Results **\n",
      "mAP: 70.66%\n",
      "CMC curve\n",
      "Rank-1  : 76.80%\n",
      "Rank-5  : 93.39%\n",
      "Rank-10 : 96.79%\n",
      "Rank-20 : 98.68%\n",
      "\u001b[33mValidating online convnext ...\u001b[0m\n",
      "Features extracted in 49.00 seconds\n",
      "Features extracted in 102.80 seconds\n",
      "Computing CMC and mAP ...\n",
      "** Results **\n",
      "mAP: 70.08%\n",
      "CMC curve\n",
      "Rank-1  : 75.63%\n",
      "Rank-5  : 92.61%\n",
      "Rank-10 : 96.93%\n",
      "Rank-20 : 99.29%\n",
      "\u001b[33mValidating momentum convnext ...\u001b[0m\n",
      "Features extracted in 47.95 seconds\n",
      "Features extracted in 100.17 seconds\n",
      "Computing CMC and mAP ...\n",
      "** Results **\n",
      "mAP: 70.46%\n",
      "CMC curve\n",
      "Rank-1  : 77.49%\n",
      "Rank-5  : 93.71%\n",
      "Rank-10 : 96.84%\n",
      "Rank-20 : 98.71%\n",
      "\u001b[33mValidating online mobilenet ...\u001b[0m\n",
      "Features extracted in 46.95 seconds\n",
      "Features extracted in 96.93 seconds\n",
      "Computing CMC and mAP ...\n",
      "** Results **\n",
      "mAP: 71.39%\n",
      "CMC curve\n",
      "Rank-1  : 81.53%\n",
      "Rank-5  : 95.41%\n",
      "Rank-10 : 98.02%\n",
      "Rank-20 : 99.18%\n",
      "\u001b[33mValidating momentum mobilenet ...\u001b[0m\n",
      "Features extracted in 47.82 seconds\n",
      "Features extracted in 96.70 seconds\n",
      "Computing CMC and mAP ...\n",
      "** Results **\n",
      "mAP: 70.86%\n",
      "CMC curve\n",
      "Rank-1  : 78.95%\n",
      "Rank-5  : 93.89%\n",
      "Rank-10 : 97.47%\n",
      "Rank-20 : 99.27%\n",
      "\u001b[33mValidating online vgg16 ...\u001b[0m\n",
      "Features extracted in 49.50 seconds\n",
      "Features extracted in 100.01 seconds\n",
      "Computing CMC and mAP ...\n",
      "** Results **\n",
      "mAP: 69.67%\n",
      "CMC curve\n",
      "Rank-1  : 74.49%\n",
      "Rank-5  : 92.27%\n",
      "Rank-10 : 96.56%\n",
      "Rank-20 : 99.05%\n",
      "\u001b[33mValidating momentum vgg16 ...\u001b[0m\n",
      "Features extracted in 48.28 seconds\n",
      "Features extracted in 98.55 seconds\n",
      "Computing CMC and mAP ...\n",
      "** Results **\n",
      "mAP: 69.72%\n",
      "CMC curve\n",
      "Rank-1  : 75.80%\n",
      "Rank-5  : 92.91%\n",
      "Rank-10 : 97.25%\n",
      "Rank-20 : 99.09%\n",
      "\u001b[33mValidating online resnet50 ...\u001b[0m\n",
      "Features extracted in 48.94 seconds\n",
      "Features extracted in 99.59 seconds\n",
      "Computing CMC and mAP ...\n",
      "** Results **\n",
      "mAP: 69.64%\n",
      "CMC curve\n",
      "Rank-1  : 70.07%\n",
      "Rank-5  : 91.28%\n",
      "Rank-10 : 96.04%\n",
      "Rank-20 : 98.68%\n",
      "\u001b[33mValidating momentum resnet50 ...\u001b[0m\n",
      "Features extracted in 48.79 seconds\n",
      "Features extracted in 100.76 seconds\n",
      "Computing CMC and mAP ...\n",
      "** Results **\n",
      "mAP: 70.02%\n",
      "CMC curve\n",
      "Rank-1  : 73.39%\n",
      "Rank-5  : 93.49%\n",
      "Rank-10 : 97.50%\n",
      "Rank-20 : 99.37%\n",
      "\u001b[33mValidating online osnet ...\u001b[0m\n",
      "Features extracted in 49.09 seconds\n",
      "Features extracted in 99.31 seconds\n",
      "Computing CMC and mAP ...\n",
      "** Results **\n",
      "mAP: 68.61%\n",
      "CMC curve\n",
      "Rank-1  : 73.02%\n",
      "Rank-5  : 95.04%\n",
      "Rank-10 : 98.36%\n",
      "Rank-20 : 99.48%\n",
      "\u001b[33mValidating momentum osnet ...\u001b[0m\n",
      "Features extracted in 50.25 seconds\n",
      "Features extracted in 99.99 seconds\n",
      "Computing CMC and mAP ...\n",
      "** Results **\n",
      "mAP: 69.41%\n",
      "CMC curve\n",
      "Rank-1  : 73.33%\n",
      "Rank-5  : 93.05%\n",
      "Rank-10 : 97.14%\n",
      "Rank-20 : 99.12%\n",
      "\u001b[33mValidating online densenet121 ...\u001b[0m\n",
      "Features extracted in 50.52 seconds\n",
      "Features extracted in 102.76 seconds\n",
      "Computing CMC and mAP ...\n",
      "** Results **\n",
      "mAP: 70.12%\n",
      "CMC curve\n",
      "Rank-1  : 75.15%\n",
      "Rank-5  : 92.89%\n",
      "Rank-10 : 97.00%\n",
      "Rank-20 : 98.95%\n",
      "\u001b[33mValidating momentum densenet121 ...\u001b[0m\n",
      "Features extracted in 48.30 seconds\n",
      "Features extracted in 101.37 seconds\n",
      "Computing CMC and mAP ...\n",
      "** Results **\n",
      "mAP: 69.53%\n",
      "CMC curve\n",
      "Rank-1  : 75.91%\n",
      "Rank-5  : 93.33%\n",
      "Rank-10 : 97.31%\n",
      "Rank-20 : 99.25%\n",
      "\u001b[33mValidating ensembled with online models ...\u001b[0m\n",
      "Computing CMC and mAP ...\n",
      "** Results **\n",
      "mAP: 71.17%\n",
      "Ranks:\n",
      "Rank-1  : 78.73%\n",
      "Rank-5  : 92.94%\n",
      "Rank-10 : 96.83%\n",
      "\u001b[33mValidating ensembled with momentum models ...\u001b[0m\n",
      "Computing CMC and mAP ...\n",
      "** Results **\n",
      "mAP: 71.11%\n",
      "Ranks:\n",
      "Rank-1  : 79.83%\n",
      "Rank-5  : 92.92%\n",
      "Rank-10 : 96.74%\n",
      "Features extracted in 101.36 seconds\n",
      "Features extracted in 50.32 seconds\n",
      "Features extracted in 102.89 seconds\n",
      "Features extracted in 51.05 seconds\n",
      "Features extracted in 99.76 seconds\n",
      "Features extracted in 50.20 seconds\n",
      "Features extracted in 101.93 seconds\n",
      "Features extracted in 50.62 seconds\n",
      "Features extracted in 98.88 seconds\n",
      "Features extracted in 50.18 seconds\n",
      "Features extracted in 99.28 seconds\n",
      "Features extracted in 50.94 seconds\n",
      "Features extracted in 100.14 seconds\n",
      "Features extracted in 52.30 seconds\n",
      "334292.81274199486 17160.319721460342 504.6593277454376\n",
      "Mean Feature Extraction and Reranking Time: 3714.364586\n",
      "Mean Clustering Time: 190.670219\n",
      "Mean Finetuning Time: 5.607326\n",
      "Total pipeline Time:  550274.121454\n"
     ]
    }
   ],
   "source": [
    "import torch\n",
    "import numpy as np\n",
    "import matplotlib.pyplot as plt\n",
    "\n",
    "from main import *\n",
    "\n",
    "from sklearn.cluster import KMeans\n",
    "from datasetUtils import load_from_Jadson\n",
    "from sklearn.metrics import confusion_matrix\n",
    "from sklearn.metrics import ConfusionMatrixDisplay\n",
    "\n",
    "from warnings import simplefilter\n",
    "# ignore all future warnings\n",
    "simplefilter(action='ignore', category=FutureWarning)\n",
    "\n",
    "\n",
    "# if __name__ == '__main__':\n",
    "# parser = argparse.ArgumentParser(description='Define the UDA parameters')\n",
    "#\n",
    "# parser.add_argument('--gpu_ids', type=str, default=\"7\", help='GPU IDs')\n",
    "# parser.add_argument('--lr', type=float, default=3.5e-4, help='Learning Rate')\n",
    "# parser.add_argument('--P', type=int, default=16, help='Number of Persons')\n",
    "# parser.add_argument('--K', type=int, default=4, help='Number of samples per person')\n",
    "# parser.add_argument('--tau', type=float, default=0.05, help='tau value used on softmax triplet loss')\n",
    "# parser.add_argument('--beta', type=float, default=0.999, help='beta used on self-Ensembling')\n",
    "# parser.add_argument('--k1', type=int, default=30, help='k on k-Reciprocal Encoding')\n",
    "# parser.add_argument('--sampling', type=str, default=\"mean\", help='Mean or Random feature vectors to be prototype')\n",
    "# parser.add_argument('--lambda_hard', type=float, default=0.5, help='tuning prameter of Softmax Triplet Loss')\n",
    "# parser.add_argument('--num_iter', type=int, default=400, help='Number of iterations on an epoch')\n",
    "# parser.add_argument('--momentum_on_feature_extraction', type=int, default=0,\n",
    "# help='If it is the momentum used on feature extraction')\n",
    "# parser.add_argument('--target', type=str, help='Name of target dataset')\n",
    "# parser.add_argument('--path_to_save_models', type=str, help='Path to save models')\n",
    "# parser.add_argument('--path_to_save_metrics', type=str, help='Path to save metrics (mAP, CMC, ...)')\n",
    "# parser.add_argument('--version', type=str, help='Path to save models')\n",
    "# parser.add_argument('--eval_freq', type=int, help='Evaluation Frequency along training')\n",
    "\n",
    "# args = parser.parse_args()\n",
    "# gpu_ids = args.gpu_ids\n",
    "# base_lr = args.lr\n",
    "# P = args.P\n",
    "# K = args.K\n",
    "\n",
    "# tau = args.tau\n",
    "# beta = args.beta\n",
    "# k1 = args.k1\n",
    "# sampling  = args.sampling\n",
    "#\n",
    "# lambda_hard = args.lambda_hard\n",
    "# number_of_iterations = args.num_iter\n",
    "# momentum_on_feature_extraction = bool(args.momentum_on_feature_extraction)\n",
    "# target = args.target\n",
    "# dir_to_save = args.path_to_save_models\n",
    "# dir_to_save_metrics = args.path_to_save_metrics\n",
    "# version = args.version\n",
    "# eval_freq = args.eval_freq\n",
    "# main.py --gpu_ids=0,1,2,3 --lr=3.5e-4 --P=16 --K=12 --tau=0.04 --beta=0.999 --k1=30 --sampling=mean --lambda_hard=0.5 --num_iter=7 --momentum_on_feature_extraction=0 --target=Duke --path_to_save_models=models --path_to_save_metrics=metrics --version=version_name --eval_freq=5\n",
    "\n",
    "import sys\n",
    "import os\n",
    "import pandas as pd\n",
    "\n",
    "from IPython.display import display, Image\n",
    "\n",
    "from IPython.display import display, HTML\n",
    "from bs4 import BeautifulSoup\n",
    "\n",
    "\n",
    "# Função para exibir a imagem usando HTML\n",
    "def exibir_imagem(imagem_path):\n",
    "    return f'<img src=\"{imagem_path}\" width=\"40\">'\n",
    "\n",
    "\n",
    "from metricas import *\n",
    "\n",
    "html_content= \"\"\n",
    "df = pd.DataFrame({\n",
    "    'k':[], \n",
    "    'lambda_hard':[],\n",
    "    'modelo':[],\n",
    "    'matriz_confusao':[], \n",
    "    'Acuracia':[], \n",
    "    'Precisao':[],\n",
    "    'Recall':[],\n",
    "    'F1-score':[],\n",
    "    'Grafico':[],\n",
    "    'Tipo':[]\n",
    "    })\n",
    "\n",
    "gpus = \"0,1,2\" \n",
    "for k in [4]:\n",
    "    for lambda_hard in [ 0.0 ]:\n",
    "                \n",
    "        print(f\"**** inicio do teste com ruido em k:{k} e lambda_hard:{lambda_hard} ****\")\n",
    "        \n",
    "        version = f\"teste-04-ruido-norm-90epocas-MNETv3_{k}_{lambda_hard}\"\n",
    "        \n",
    "        main(gpu_ids=gpus,base_lr=3.5e-4,P=16,K=k,tau=0.04,beta=0.999,k1=30,sampling=\"random\",lambda_hard=lambda_hard,number_of_iterations=7,momentum_on_feature_extraction=0,target=\"Jadson\",dir_to_save=\"models\",dir_to_save_metrics=\"metrics\",version=version,eval_freq=5,use_ruido=True)\n",
    "        \n",
    "        for metodo in models_name + [\"mean\"]:\n",
    "            metricas_t, metricas_v, rotulos_t, rotulos_v = metricas(k=k, lambda_hard=lambda_hard, modelo=metodo)\n",
    "            linha = {\n",
    "                'k':            [k], \n",
    "                'lambda_hard':  [lambda_hard],\n",
    "                'modelo':       [metodo],\n",
    "                'Tipo':         'Test'\n",
    "            }\n",
    "            for count in range( 0, metricas_t.shape[0] ):\n",
    "                for m in range( 0, metricas_t.shape[1] ):\n",
    "                    linha[rotulos_t[m]] = metricas_t[count][m]\n",
    "                    \n",
    "                \n",
    "                linha['matriz_confusao'] = f'resultados/MC_{k}_{lambda_hard}_{count}_{metodo}_test.png'\n",
    "                linha['Grafico'] = f'resultados/grafico_{k}_{lambda_hard}_{count}_{metodo}_test.png'\n",
    "                df = pd.concat( [df, pd.DataFrame(linha)], axis=0)\n",
    "             \n",
    "            linha = {\n",
    "               'k':             [k], \n",
    "               'lambda_hard':   [lambda_hard],\n",
    "               'modelo':        [metodo],\n",
    "               'Tipo':          'Valid'\n",
    "             }\n",
    "            for count in range( 0, metricas_v.shape[0] ):\n",
    "                for m in range( 0, metricas_v.shape[1] ):\n",
    "                    linha[rotulos_v[m]] = metricas_v[count][m] \n",
    "               \n",
    "                linha['Grafico'] = f'resultados/grafico_{k}_{lambda_hard}_{count}_{metodo}_valid.png'\n",
    "                linha['matriz_confusao'] = f'resultados/MC_{k}_{lambda_hard}_{count}_{metodo}_valid.png' \n",
    "                df = pd.concat( [df, pd.DataFrame(linha)], axis=0)\n",
    "        \n",
    "        # Aplicar a função à coluna 'imagem' e criar uma nova coluna 'imagem_exibicao'\n",
    "        df['MC'] = df['matriz_confusao'].apply(exibir_imagem)\n",
    "        df['GR'] = df['Grafico'].apply(exibir_imagem)\n",
    "        \n",
    "        html_content = df[['k', \n",
    "                           'lambda_hard', \n",
    "                           'Tipo', \n",
    "                           'modelo'] + \n",
    "                           rotulos_v[:8] + \n",
    "                           ['MC', \n",
    "                           'GR']].to_html(escape=False, index=False)\n",
    "        # salvando df em arquivo html\n",
    "        # Use BeautifulSoup para formatar o HTML\n",
    "        soup = BeautifulSoup(html_content, 'html.parser')\n",
    "        formatted_html = soup.prettify()\n",
    "        \n",
    "        # Salve o HTML em um arquivo\n",
    "        head = \"<!DOCTYPE html>\\n<html lang='pt-br'>\\n<head>\\n  <meta charset='UTF-8'>\\n  <meta name='viewport' content='width=device-width, initial-scale=1.0'>\\n  <style>\\n    table {\\n      width: 100%;\\n      border-collapse: collapse;\\n    }\\n    th, td {\\n      border: 1px solid #ddd;\\n      padding: 8px;\\n      text-align: left;\\n    }\\n    th {\\n      background-color: #f2f2f2;\\n    }\\n    thead th {\\n      position: sticky;\\n      top: 0;\\n      z-index: 1;\\n      background-color: #f2f2f2;    }\\n  </style>\\n    <title>Relatório Parcial</title>\\n</head>\\n<body>\"\n",
    "        with open('relatorio-APCER-BPCER-ACER-silhouette-ward-90epocas-ruido-norm-MNETv3-convnet-efficientnet.html', 'w', encoding='utf-8') as file:\n",
    "            file.write(head)\n",
    "            file.write(formatted_html)\n",
    "            file.write('</body></html>')"
   ]
  },
  {
   "cell_type": "code",
   "execution_count": 2,
   "metadata": {
    "execution": {
     "iopub.execute_input": "2024-05-21T09:04:37.306653Z",
     "iopub.status.busy": "2024-05-21T09:04:37.305671Z",
     "iopub.status.idle": "2024-05-21T09:04:37.327336Z",
     "shell.execute_reply": "2024-05-21T09:04:37.326608Z"
    }
   },
   "outputs": [
    {
     "data": {
      "text/html": [
       "<table border=\"1\" class=\"dataframe\">\n",
       "  <thead>\n",
       "    <tr style=\"text-align: right;\">\n",
       "      <th>k</th>\n",
       "      <th>lambda_hard</th>\n",
       "      <th>Tipo</th>\n",
       "      <th>modelo</th>\n",
       "      <th>ACCURACY</th>\n",
       "      <th>PRECISION</th>\n",
       "      <th>RECALL</th>\n",
       "      <th>F1_SCORE</th>\n",
       "      <th>APCER</th>\n",
       "      <th>BPCER</th>\n",
       "      <th>ACER</th>\n",
       "      <th>SILHOUETTE</th>\n",
       "      <th>MC</th>\n",
       "      <th>GR</th>\n",
       "    </tr>\n",
       "  </thead>\n",
       "  <tbody>\n",
       "    <tr>\n",
       "      <td>4.0</td>\n",
       "      <td>0.0</td>\n",
       "      <td>Test</td>\n",
       "      <td>efficientnet</td>\n",
       "      <td>0.483583</td>\n",
       "      <td>0.792505</td>\n",
       "      <td>0.480208</td>\n",
       "      <td>0.598041</td>\n",
       "      <td>0.519792</td>\n",
       "      <td>0.502917</td>\n",
       "      <td>0.511354</td>\n",
       "      <td>0.595312</td>\n",
       "      <td><img src=\"resultados/MC_4_0.0_0_efficientnet_test.png\" width=\"40\"></td>\n",
       "      <td><img src=\"resultados/grafico_4_0.0_0_efficientnet_test.png\" width=\"40\"></td>\n",
       "    </tr>\n",
       "    <tr>\n",
       "      <td>4.0</td>\n",
       "      <td>0.0</td>\n",
       "      <td>Valid</td>\n",
       "      <td>efficientnet</td>\n",
       "      <td>0.572604</td>\n",
       "      <td>0.789729</td>\n",
       "      <td>0.634766</td>\n",
       "      <td>0.703819</td>\n",
       "      <td>0.365234</td>\n",
       "      <td>0.676042</td>\n",
       "      <td>0.520638</td>\n",
       "      <td>0.585403</td>\n",
       "      <td><img src=\"resultados/MC_4_0.0_0_efficientnet_valid.png\" width=\"40\"></td>\n",
       "      <td><img src=\"resultados/grafico_4_0.0_0_efficientnet_valid.png\" width=\"40\"></td>\n",
       "    </tr>\n",
       "    <tr>\n",
       "      <td>4.0</td>\n",
       "      <td>0.0</td>\n",
       "      <td>Test</td>\n",
       "      <td>convnext</td>\n",
       "      <td>0.388958</td>\n",
       "      <td>0.747409</td>\n",
       "      <td>0.356771</td>\n",
       "      <td>0.482990</td>\n",
       "      <td>0.643229</td>\n",
       "      <td>0.482292</td>\n",
       "      <td>0.562760</td>\n",
       "      <td>0.616042</td>\n",
       "      <td><img src=\"resultados/MC_4_0.0_0_convnext_test.png\" width=\"40\"></td>\n",
       "      <td><img src=\"resultados/grafico_4_0.0_0_convnext_test.png\" width=\"40\"></td>\n",
       "    </tr>\n",
       "    <tr>\n",
       "      <td>4.0</td>\n",
       "      <td>0.0</td>\n",
       "      <td>Valid</td>\n",
       "      <td>convnext</td>\n",
       "      <td>0.725521</td>\n",
       "      <td>0.790043</td>\n",
       "      <td>0.894661</td>\n",
       "      <td>0.839104</td>\n",
       "      <td>0.105339</td>\n",
       "      <td>0.951042</td>\n",
       "      <td>0.528190</td>\n",
       "      <td>0.700885</td>\n",
       "      <td><img src=\"resultados/MC_4_0.0_0_convnext_valid.png\" width=\"40\"></td>\n",
       "      <td><img src=\"resultados/grafico_4_0.0_0_convnext_valid.png\" width=\"40\"></td>\n",
       "    </tr>\n",
       "    <tr>\n",
       "      <td>4.0</td>\n",
       "      <td>0.0</td>\n",
       "      <td>Test</td>\n",
       "      <td>mobilenet</td>\n",
       "      <td>0.435125</td>\n",
       "      <td>0.749403</td>\n",
       "      <td>0.441563</td>\n",
       "      <td>0.555698</td>\n",
       "      <td>0.558438</td>\n",
       "      <td>0.590625</td>\n",
       "      <td>0.574531</td>\n",
       "      <td>0.590921</td>\n",
       "      <td><img src=\"resultados/MC_4_0.0_0_mobilenet_test.png\" width=\"40\"></td>\n",
       "      <td><img src=\"resultados/grafico_4_0.0_0_mobilenet_test.png\" width=\"40\"></td>\n",
       "    </tr>\n",
       "    <tr>\n",
       "      <td>4.0</td>\n",
       "      <td>0.0</td>\n",
       "      <td>Valid</td>\n",
       "      <td>mobilenet</td>\n",
       "      <td>0.493958</td>\n",
       "      <td>0.839020</td>\n",
       "      <td>0.454688</td>\n",
       "      <td>0.589765</td>\n",
       "      <td>0.545312</td>\n",
       "      <td>0.348958</td>\n",
       "      <td>0.447135</td>\n",
       "      <td>0.602084</td>\n",
       "      <td><img src=\"resultados/MC_4_0.0_0_mobilenet_valid.png\" width=\"40\"></td>\n",
       "      <td><img src=\"resultados/grafico_4_0.0_0_mobilenet_valid.png\" width=\"40\"></td>\n",
       "    </tr>\n",
       "    <tr>\n",
       "      <td>4.0</td>\n",
       "      <td>0.0</td>\n",
       "      <td>Test</td>\n",
       "      <td>vgg16</td>\n",
       "      <td>0.616625</td>\n",
       "      <td>0.790348</td>\n",
       "      <td>0.708802</td>\n",
       "      <td>0.747357</td>\n",
       "      <td>0.291198</td>\n",
       "      <td>0.752083</td>\n",
       "      <td>0.521641</td>\n",
       "      <td>0.574921</td>\n",
       "      <td><img src=\"resultados/MC_4_0.0_0_vgg16_test.png\" width=\"40\"></td>\n",
       "      <td><img src=\"resultados/grafico_4_0.0_0_vgg16_test.png\" width=\"40\"></td>\n",
       "    </tr>\n",
       "    <tr>\n",
       "      <td>4.0</td>\n",
       "      <td>0.0</td>\n",
       "      <td>Valid</td>\n",
       "      <td>vgg16</td>\n",
       "      <td>0.454271</td>\n",
       "      <td>0.881049</td>\n",
       "      <td>0.367448</td>\n",
       "      <td>0.518607</td>\n",
       "      <td>0.632552</td>\n",
       "      <td>0.198437</td>\n",
       "      <td>0.415495</td>\n",
       "      <td>0.628833</td>\n",
       "      <td><img src=\"resultados/MC_4_0.0_0_vgg16_valid.png\" width=\"40\"></td>\n",
       "      <td><img src=\"resultados/grafico_4_0.0_0_vgg16_valid.png\" width=\"40\"></td>\n",
       "    </tr>\n",
       "    <tr>\n",
       "      <td>4.0</td>\n",
       "      <td>0.0</td>\n",
       "      <td>Test</td>\n",
       "      <td>resnet50</td>\n",
       "      <td>0.445250</td>\n",
       "      <td>0.740953</td>\n",
       "      <td>0.471354</td>\n",
       "      <td>0.576176</td>\n",
       "      <td>0.528646</td>\n",
       "      <td>0.659167</td>\n",
       "      <td>0.593906</td>\n",
       "      <td>0.572537</td>\n",
       "      <td><img src=\"resultados/MC_4_0.0_0_resnet50_test.png\" width=\"40\"></td>\n",
       "      <td><img src=\"resultados/grafico_4_0.0_0_resnet50_test.png\" width=\"40\"></td>\n",
       "    </tr>\n",
       "    <tr>\n",
       "      <td>4.0</td>\n",
       "      <td>0.0</td>\n",
       "      <td>Valid</td>\n",
       "      <td>resnet50</td>\n",
       "      <td>0.628542</td>\n",
       "      <td>0.760974</td>\n",
       "      <td>0.780990</td>\n",
       "      <td>0.770852</td>\n",
       "      <td>0.219010</td>\n",
       "      <td>0.981250</td>\n",
       "      <td>0.600130</td>\n",
       "      <td>0.678851</td>\n",
       "      <td><img src=\"resultados/MC_4_0.0_0_resnet50_valid.png\" width=\"40\"></td>\n",
       "      <td><img src=\"resultados/grafico_4_0.0_0_resnet50_valid.png\" width=\"40\"></td>\n",
       "    </tr>\n",
       "    <tr>\n",
       "      <td>4.0</td>\n",
       "      <td>0.0</td>\n",
       "      <td>Test</td>\n",
       "      <td>osnet</td>\n",
       "      <td>0.554750</td>\n",
       "      <td>0.796779</td>\n",
       "      <td>0.595260</td>\n",
       "      <td>0.681433</td>\n",
       "      <td>0.404740</td>\n",
       "      <td>0.607292</td>\n",
       "      <td>0.506016</td>\n",
       "      <td>0.608393</td>\n",
       "      <td><img src=\"resultados/MC_4_0.0_0_osnet_test.png\" width=\"40\"></td>\n",
       "      <td><img src=\"resultados/grafico_4_0.0_0_osnet_test.png\" width=\"40\"></td>\n",
       "    </tr>\n",
       "    <tr>\n",
       "      <td>4.0</td>\n",
       "      <td>0.0</td>\n",
       "      <td>Valid</td>\n",
       "      <td>osnet</td>\n",
       "      <td>0.702187</td>\n",
       "      <td>0.798736</td>\n",
       "      <td>0.839193</td>\n",
       "      <td>0.818465</td>\n",
       "      <td>0.160807</td>\n",
       "      <td>0.845833</td>\n",
       "      <td>0.503320</td>\n",
       "      <td>0.701304</td>\n",
       "      <td><img src=\"resultados/MC_4_0.0_0_osnet_valid.png\" width=\"40\"></td>\n",
       "      <td><img src=\"resultados/grafico_4_0.0_0_osnet_valid.png\" width=\"40\"></td>\n",
       "    </tr>\n",
       "    <tr>\n",
       "      <td>4.0</td>\n",
       "      <td>0.0</td>\n",
       "      <td>Test</td>\n",
       "      <td>densenet121</td>\n",
       "      <td>0.572208</td>\n",
       "      <td>0.793791</td>\n",
       "      <td>0.628542</td>\n",
       "      <td>0.701567</td>\n",
       "      <td>0.371458</td>\n",
       "      <td>0.653125</td>\n",
       "      <td>0.512292</td>\n",
       "      <td>0.564659</td>\n",
       "      <td><img src=\"resultados/MC_4_0.0_0_densenet121_test.png\" width=\"40\"></td>\n",
       "      <td><img src=\"resultados/grafico_4_0.0_0_densenet121_test.png\" width=\"40\"></td>\n",
       "    </tr>\n",
       "    <tr>\n",
       "      <td>4.0</td>\n",
       "      <td>0.0</td>\n",
       "      <td>Valid</td>\n",
       "      <td>densenet121</td>\n",
       "      <td>0.606146</td>\n",
       "      <td>0.757020</td>\n",
       "      <td>0.747656</td>\n",
       "      <td>0.752309</td>\n",
       "      <td>0.252344</td>\n",
       "      <td>0.959896</td>\n",
       "      <td>0.606120</td>\n",
       "      <td>0.620710</td>\n",
       "      <td><img src=\"resultados/MC_4_0.0_0_densenet121_valid.png\" width=\"40\"></td>\n",
       "      <td><img src=\"resultados/grafico_4_0.0_0_densenet121_valid.png\" width=\"40\"></td>\n",
       "    </tr>\n",
       "    <tr>\n",
       "      <td>4.0</td>\n",
       "      <td>0.0</td>\n",
       "      <td>Test</td>\n",
       "      <td>mean</td>\n",
       "      <td>0.541208</td>\n",
       "      <td>0.784321</td>\n",
       "      <td>0.588281</td>\n",
       "      <td>0.672301</td>\n",
       "      <td>0.411719</td>\n",
       "      <td>0.647083</td>\n",
       "      <td>0.529401</td>\n",
       "      <td>0.588969</td>\n",
       "      <td><img src=\"resultados/MC_4_0.0_0_mean_test.png\" width=\"40\"></td>\n",
       "      <td><img src=\"resultados/grafico_4_0.0_0_mean_test.png\" width=\"40\"></td>\n",
       "    </tr>\n",
       "    <tr>\n",
       "      <td>4.0</td>\n",
       "      <td>0.0</td>\n",
       "      <td>Valid</td>\n",
       "      <td>mean</td>\n",
       "      <td>0.456979</td>\n",
       "      <td>0.906961</td>\n",
       "      <td>0.357943</td>\n",
       "      <td>0.513304</td>\n",
       "      <td>0.642057</td>\n",
       "      <td>0.146875</td>\n",
       "      <td>0.394466</td>\n",
       "      <td>0.645439</td>\n",
       "      <td><img src=\"resultados/MC_4_0.0_0_mean_valid.png\" width=\"40\"></td>\n",
       "      <td><img src=\"resultados/grafico_4_0.0_0_mean_valid.png\" width=\"40\"></td>\n",
       "    </tr>\n",
       "  </tbody>\n",
       "</table>"
      ],
      "text/plain": [
       "<IPython.core.display.HTML object>"
      ]
     },
     "metadata": {},
     "output_type": "display_data"
    },
    {
     "name": "stdout",
     "output_type": "stream",
     "text": [
      "     k  lambda_hard        modelo  \\\n",
      "0  4.0          0.0  efficientnet   \n",
      "0  4.0          0.0  efficientnet   \n",
      "0  4.0          0.0      convnext   \n",
      "0  4.0          0.0      convnext   \n",
      "0  4.0          0.0     mobilenet   \n",
      "0  4.0          0.0     mobilenet   \n",
      "0  4.0          0.0         vgg16   \n",
      "0  4.0          0.0         vgg16   \n",
      "0  4.0          0.0      resnet50   \n",
      "0  4.0          0.0      resnet50   \n",
      "0  4.0          0.0         osnet   \n",
      "0  4.0          0.0         osnet   \n",
      "0  4.0          0.0   densenet121   \n",
      "0  4.0          0.0   densenet121   \n",
      "0  4.0          0.0          mean   \n",
      "0  4.0          0.0          mean   \n",
      "\n",
      "                                matriz_confusao  Acuracia  Precisao  Recall  \\\n",
      "0   resultados/MC_4_0.0_0_efficientnet_test.png       NaN       NaN     NaN   \n",
      "0  resultados/MC_4_0.0_0_efficientnet_valid.png       NaN       NaN     NaN   \n",
      "0       resultados/MC_4_0.0_0_convnext_test.png       NaN       NaN     NaN   \n",
      "0      resultados/MC_4_0.0_0_convnext_valid.png       NaN       NaN     NaN   \n",
      "0      resultados/MC_4_0.0_0_mobilenet_test.png       NaN       NaN     NaN   \n",
      "0     resultados/MC_4_0.0_0_mobilenet_valid.png       NaN       NaN     NaN   \n",
      "0          resultados/MC_4_0.0_0_vgg16_test.png       NaN       NaN     NaN   \n",
      "0         resultados/MC_4_0.0_0_vgg16_valid.png       NaN       NaN     NaN   \n",
      "0       resultados/MC_4_0.0_0_resnet50_test.png       NaN       NaN     NaN   \n",
      "0      resultados/MC_4_0.0_0_resnet50_valid.png       NaN       NaN     NaN   \n",
      "0          resultados/MC_4_0.0_0_osnet_test.png       NaN       NaN     NaN   \n",
      "0         resultados/MC_4_0.0_0_osnet_valid.png       NaN       NaN     NaN   \n",
      "0    resultados/MC_4_0.0_0_densenet121_test.png       NaN       NaN     NaN   \n",
      "0   resultados/MC_4_0.0_0_densenet121_valid.png       NaN       NaN     NaN   \n",
      "0           resultados/MC_4_0.0_0_mean_test.png       NaN       NaN     NaN   \n",
      "0          resultados/MC_4_0.0_0_mean_valid.png       NaN       NaN     NaN   \n",
      "\n",
      "   F1-score                                            Grafico   Tipo  \\\n",
      "0       NaN   resultados/grafico_4_0.0_0_efficientnet_test.png   Test   \n",
      "0       NaN  resultados/grafico_4_0.0_0_efficientnet_valid.png  Valid   \n",
      "0       NaN       resultados/grafico_4_0.0_0_convnext_test.png   Test   \n",
      "0       NaN      resultados/grafico_4_0.0_0_convnext_valid.png  Valid   \n",
      "0       NaN      resultados/grafico_4_0.0_0_mobilenet_test.png   Test   \n",
      "0       NaN     resultados/grafico_4_0.0_0_mobilenet_valid.png  Valid   \n",
      "0       NaN          resultados/grafico_4_0.0_0_vgg16_test.png   Test   \n",
      "0       NaN         resultados/grafico_4_0.0_0_vgg16_valid.png  Valid   \n",
      "0       NaN       resultados/grafico_4_0.0_0_resnet50_test.png   Test   \n",
      "0       NaN      resultados/grafico_4_0.0_0_resnet50_valid.png  Valid   \n",
      "0       NaN          resultados/grafico_4_0.0_0_osnet_test.png   Test   \n",
      "0       NaN         resultados/grafico_4_0.0_0_osnet_valid.png  Valid   \n",
      "0       NaN    resultados/grafico_4_0.0_0_densenet121_test.png   Test   \n",
      "0       NaN   resultados/grafico_4_0.0_0_densenet121_valid.png  Valid   \n",
      "0       NaN           resultados/grafico_4_0.0_0_mean_test.png   Test   \n",
      "0       NaN          resultados/grafico_4_0.0_0_mean_valid.png  Valid   \n",
      "\n",
      "   ACCURACY  PRECISION    RECALL  F1_SCORE     APCER     BPCER      ACER  \\\n",
      "0  0.483583   0.792505  0.480208  0.598041  0.519792  0.502917  0.511354   \n",
      "0  0.572604   0.789729  0.634766  0.703819  0.365234  0.676042  0.520638   \n",
      "0  0.388958   0.747409  0.356771  0.482990  0.643229  0.482292  0.562760   \n",
      "0  0.725521   0.790043  0.894661  0.839104  0.105339  0.951042  0.528190   \n",
      "0  0.435125   0.749403  0.441563  0.555698  0.558438  0.590625  0.574531   \n",
      "0  0.493958   0.839020  0.454688  0.589765  0.545312  0.348958  0.447135   \n",
      "0  0.616625   0.790348  0.708802  0.747357  0.291198  0.752083  0.521641   \n",
      "0  0.454271   0.881049  0.367448  0.518607  0.632552  0.198437  0.415495   \n",
      "0  0.445250   0.740953  0.471354  0.576176  0.528646  0.659167  0.593906   \n",
      "0  0.628542   0.760974  0.780990  0.770852  0.219010  0.981250  0.600130   \n",
      "0  0.554750   0.796779  0.595260  0.681433  0.404740  0.607292  0.506016   \n",
      "0  0.702187   0.798736  0.839193  0.818465  0.160807  0.845833  0.503320   \n",
      "0  0.572208   0.793791  0.628542  0.701567  0.371458  0.653125  0.512292   \n",
      "0  0.606146   0.757020  0.747656  0.752309  0.252344  0.959896  0.606120   \n",
      "0  0.541208   0.784321  0.588281  0.672301  0.411719  0.647083  0.529401   \n",
      "0  0.456979   0.906961  0.357943  0.513304  0.642057  0.146875  0.394466   \n",
      "\n",
      "   SILHOUETTE                                                 MC  \\\n",
      "0    0.595312  <img src=\"resultados/MC_4_0.0_0_efficientnet_t...   \n",
      "0    0.585403  <img src=\"resultados/MC_4_0.0_0_efficientnet_v...   \n",
      "0    0.616042  <img src=\"resultados/MC_4_0.0_0_convnext_test....   \n",
      "0    0.700885  <img src=\"resultados/MC_4_0.0_0_convnext_valid...   \n",
      "0    0.590921  <img src=\"resultados/MC_4_0.0_0_mobilenet_test...   \n",
      "0    0.602084  <img src=\"resultados/MC_4_0.0_0_mobilenet_vali...   \n",
      "0    0.574921  <img src=\"resultados/MC_4_0.0_0_vgg16_test.png...   \n",
      "0    0.628833  <img src=\"resultados/MC_4_0.0_0_vgg16_valid.pn...   \n",
      "0    0.572537  <img src=\"resultados/MC_4_0.0_0_resnet50_test....   \n",
      "0    0.678851  <img src=\"resultados/MC_4_0.0_0_resnet50_valid...   \n",
      "0    0.608393  <img src=\"resultados/MC_4_0.0_0_osnet_test.png...   \n",
      "0    0.701304  <img src=\"resultados/MC_4_0.0_0_osnet_valid.pn...   \n",
      "0    0.564659  <img src=\"resultados/MC_4_0.0_0_densenet121_te...   \n",
      "0    0.620710  <img src=\"resultados/MC_4_0.0_0_densenet121_va...   \n",
      "0    0.588969  <img src=\"resultados/MC_4_0.0_0_mean_test.png\"...   \n",
      "0    0.645439  <img src=\"resultados/MC_4_0.0_0_mean_valid.png...   \n",
      "\n",
      "                                                  GR  \n",
      "0  <img src=\"resultados/grafico_4_0.0_0_efficient...  \n",
      "0  <img src=\"resultados/grafico_4_0.0_0_efficient...  \n",
      "0  <img src=\"resultados/grafico_4_0.0_0_convnext_...  \n",
      "0  <img src=\"resultados/grafico_4_0.0_0_convnext_...  \n",
      "0  <img src=\"resultados/grafico_4_0.0_0_mobilenet...  \n",
      "0  <img src=\"resultados/grafico_4_0.0_0_mobilenet...  \n",
      "0  <img src=\"resultados/grafico_4_0.0_0_vgg16_tes...  \n",
      "0  <img src=\"resultados/grafico_4_0.0_0_vgg16_val...  \n",
      "0  <img src=\"resultados/grafico_4_0.0_0_resnet50_...  \n",
      "0  <img src=\"resultados/grafico_4_0.0_0_resnet50_...  \n",
      "0  <img src=\"resultados/grafico_4_0.0_0_osnet_tes...  \n",
      "0  <img src=\"resultados/grafico_4_0.0_0_osnet_val...  \n",
      "0  <img src=\"resultados/grafico_4_0.0_0_densenet1...  \n",
      "0  <img src=\"resultados/grafico_4_0.0_0_densenet1...  \n",
      "0  <img src=\"resultados/grafico_4_0.0_0_mean_test...  \n",
      "0  <img src=\"resultados/grafico_4_0.0_0_mean_vali...  \n"
     ]
    }
   ],
   "source": [
    "# Exibir o DataFrame com as imagens\n",
    "display(HTML(html_content))\n",
    "print(df)"
   ]
  }
 ],
 "metadata": {
  "kernelspec": {
   "display_name": "Python 3",
   "language": "python",
   "name": "python3"
  },
  "language_info": {
   "codemirror_mode": {
    "name": "ipython",
    "version": 3
   },
   "file_extension": ".py",
   "mimetype": "text/x-python",
   "name": "python",
   "nbconvert_exporter": "python",
   "pygments_lexer": "ipython3",
   "version": "3.10.13"
  }
 },
 "nbformat": 4,
 "nbformat_minor": 2
}
