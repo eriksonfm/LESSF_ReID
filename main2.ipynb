{
 "cells": [
  {
   "cell_type": "code",
   "execution_count": 1,
   "metadata": {
    "execution": {
     "iopub.execute_input": "2024-04-08T19:40:50.310566Z",
     "iopub.status.busy": "2024-04-08T19:40:50.310126Z",
     "iopub.status.idle": "2024-04-14T06:40:49.941462Z",
     "shell.execute_reply": "2024-04-14T06:40:49.939991Z"
    }
   },
   "outputs": [
    {
     "name": "stderr",
     "output_type": "stream",
     "text": [
      "/home/emorais/miniconda3/envs/myenv/lib/python3.10/site-packages/torchreid/reid/metrics/rank.py:11: UserWarning: Cython evaluation (very fast so highly recommended) is unavailable, now use python evaluation.\n",
      "  warnings.warn(\n",
      "/home/emorais/miniconda3/envs/myenv/lib/python3.10/site-packages/tqdm/auto.py:21: TqdmWarning: IProgress not found. Please update jupyter and ipywidgets. See https://ipywidgets.readthedocs.io/en/stable/user_install.html\n",
      "  from .autonotebook import tqdm as notebook_tqdm\n",
      "Special tokens have been added in the vocabulary, make sure the associated word embeddings are fine-tuned or trained.\n",
      "You are using the default legacy behaviour of the <class 'transformers.models.t5.tokenization_t5.T5Tokenizer'>. If you see this, DO NOT PANIC! This is expected, and simply means that the `legacy` (previous) behavior will be used so nothing changes for you. If you want to use the new behaviour, set `legacy=False`. This should only be set if you understand what it means, and thouroughly read the reason why this was added as explained in https://github.com/huggingface/transformers/pull/24565\n",
      "/home/emorais/repos/LESSF_ReID/DCNNs.py:18: UserWarning: Cython evaluation (very fast so highly recommended) is unavailable, now use python evaluation.\n",
      "  warnings.warn(\n"
     ]
    },
    {
     "name": "stdout",
     "output_type": "stream",
     "text": [
      "**** inicio do teste com ruido em k:4 e lambda_hard:0.0 ****\n",
      "Num GPU's: 3\n",
      "Allocated GPU's for model: [1, 2]\n"
     ]
    },
    {
     "name": "stderr",
     "output_type": "stream",
     "text": [
      "/home/emorais/miniconda3/envs/myenv/lib/python3.10/site-packages/torchvision/models/_utils.py:208: UserWarning: The parameter 'pretrained' is deprecated since 0.13 and may be removed in the future, please use 'weights' instead.\n",
      "  warnings.warn(\n",
      "/home/emorais/miniconda3/envs/myenv/lib/python3.10/site-packages/torchvision/models/_utils.py:223: UserWarning: Arguments other than a weight enum or `None` for 'weights' are deprecated since 0.13 and may be removed in the future. The current behavior is equivalent to passing `weights=VGG16_Weights.IMAGENET1K_V1`. You can also use `weights=VGG16_Weights.DEFAULT` to get the most up-to-date weights.\n",
      "  warnings.warn(msg)\n",
      "/home/emorais/miniconda3/envs/myenv/lib/python3.10/site-packages/torchvision/models/_utils.py:223: UserWarning: Arguments other than a weight enum or `None` for 'weights' are deprecated since 0.13 and may be removed in the future. The current behavior is equivalent to passing `weights=ResNet50_Weights.IMAGENET1K_V1`. You can also use `weights=ResNet50_Weights.DEFAULT` to get the most up-to-date weights.\n",
      "  warnings.warn(msg)\n"
     ]
    },
    {
     "name": "stdout",
     "output_type": "stream",
     "text": [
      "Successfully loaded imagenet pretrained weights from \"/home/emorais/.cache/torch/checkpoints/osnet_x1_0_imagenet.pth\"\n",
      "Successfully loaded imagenet pretrained weights from \"/home/emorais/.cache/torch/checkpoints/osnet_x1_0_imagenet.pth\"\n"
     ]
    },
    {
     "name": "stderr",
     "output_type": "stream",
     "text": [
      "/home/emorais/miniconda3/envs/myenv/lib/python3.10/site-packages/torchvision/models/_utils.py:223: UserWarning: Arguments other than a weight enum or `None` for 'weights' are deprecated since 0.13 and may be removed in the future. The current behavior is equivalent to passing `weights=DenseNet121_Weights.IMAGENET1K_V1`. You can also use `weights=DenseNet121_Weights.DEFAULT` to get the most up-to-date weights.\n",
      "  warnings.warn(msg)\n"
     ]
    },
    {
     "name": "stdout",
     "output_type": "stream",
     "text": [
      "Training Size: (38400, 3)\n",
      "Gallery Size: (24000, 3)\n",
      "Query Size: (9600, 3)\n",
      "Validating vgg16 on Jadson ...\n",
      "Features extracted in 75.39 seconds\n",
      "Features extracted in 146.89 seconds\n",
      "Computing CMC and mAP ...\n",
      "** Results **\n",
      "mAP: 66.66%\n",
      "CMC curve\n",
      "Rank-1  : 60.82%\n",
      "Rank-5  : 86.22%\n",
      "Rank-10 : 93.65%\n",
      "Rank-20 : 98.10%\n",
      "Validating resnet50 on Jadson ...\n",
      "Features extracted in 77.89 seconds\n",
      "Features extracted in 145.19 seconds\n",
      "Computing CMC and mAP ...\n",
      "** Results **\n",
      "mAP: 66.08%\n",
      "CMC curve\n",
      "Rank-1  : 50.42%\n",
      "Rank-5  : 80.89%\n",
      "Rank-10 : 90.73%\n",
      "Rank-20 : 96.13%\n",
      "Validating osnet on Jadson ...\n",
      "Features extracted in 77.48 seconds\n",
      "Features extracted in 144.89 seconds\n",
      "Computing CMC and mAP ...\n",
      "** Results **\n",
      "mAP: 64.58%\n",
      "CMC curve\n",
      "Rank-1  : 56.76%\n",
      "Rank-5  : 87.94%\n",
      "Rank-10 : 95.31%\n",
      "Rank-20 : 98.55%\n",
      "Validating densenet121 on Jadson ...\n",
      "Features extracted in 79.70 seconds\n",
      "Features extracted in 145.14 seconds\n",
      "Computing CMC and mAP ...\n",
      "** Results **\n",
      "mAP: 65.69%\n",
      "CMC curve\n",
      "Rank-1  : 63.23%\n",
      "Rank-5  : 91.02%\n",
      "Rank-10 : 96.32%\n",
      "Rank-20 : 98.62%\n",
      "Computing CMC and mAP ...\n",
      "** Results **\n",
      "mAP: 65.47%\n",
      "Ranks:\n",
      "Rank-1  : 61.19%\n",
      "Rank-5  : 84.56%\n",
      "Rank-10 : 91.85%\n",
      "###============ Iteration number 1/90 ============###\n",
      "Extracting Online Features for vgg16 ...\n",
      "Features extracted in 251.51 seconds\n",
      "Computing jaccard distance...\n"
     ]
    },
    {
     "name": "stderr",
     "output_type": "stream",
     "text": [
      "/home/emorais/repos/LESSF_ReID/faiss_utils.py:10: UserWarning: TypedStorage is deprecated. It will be removed in the future and UntypedStorage will be the only storage class. This should only matter to you if you are using storages directly.  To access UntypedStorage directly, use tensor.untyped_storage() instead of tensor.storage()\n",
      "  x.storage().data_ptr() + x.storage_offset() * 4)\n",
      "bruteForceKnn is deprecated; call bfKnn instead\n"
     ]
    },
    {
     "name": "stdout",
     "output_type": "stream",
     "text": [
      "Jaccard distance computing time cost: 550.1427199840546\n",
      "Extracting Online Features for resnet50 ...\n",
      "Features extracted in 248.36 seconds\n",
      "Computing jaccard distance...\n"
     ]
    },
    {
     "name": "stderr",
     "output_type": "stream",
     "text": [
      "bruteForceKnn is deprecated; call bfKnn instead\n"
     ]
    },
    {
     "name": "stdout",
     "output_type": "stream",
     "text": [
      "Jaccard distance computing time cost: 543.682790517807\n",
      "Extracting Online Features for osnet ...\n",
      "Features extracted in 252.16 seconds\n",
      "Computing jaccard distance...\n"
     ]
    },
    {
     "name": "stderr",
     "output_type": "stream",
     "text": [
      "bruteForceKnn is deprecated; call bfKnn instead\n"
     ]
    },
    {
     "name": "stdout",
     "output_type": "stream",
     "text": [
      "Jaccard distance computing time cost: 540.4546339511871\n",
      "Extracting Online Features for densenet121 ...\n",
      "Features extracted in 254.77 seconds\n",
      "Computing jaccard distance...\n"
     ]
    },
    {
     "name": "stderr",
     "output_type": "stream",
     "text": [
      "bruteForceKnn is deprecated; call bfKnn instead\n"
     ]
    },
    {
     "name": "stdout",
     "output_type": "stream",
     "text": [
      "Jaccard distance computing time cost: 552.5049483776093\n",
      "Reliability: 0.938\n",
      "\u001b[32mMean Purity: 0.07813\u001b[0m\n",
      "\u001b[34mThere are 19 clusters with 4 cameras\u001b[0m\n",
      "\u001b[34mThere are 9 clusters with 5 cameras\u001b[0m\n",
      "\u001b[34mThere are 3 clusters with 6 cameras\u001b[0m\n",
      "\u001b[34mThere are 10 clusters with 7 cameras\u001b[0m\n",
      "\u001b[34mThere are 6 clusters with 8 cameras\u001b[0m\n",
      "\u001b[34mThere are 3 clusters with 9 cameras\u001b[0m\n",
      "\u001b[34mThere are 2 clusters with 10 cameras\u001b[0m\n",
      "\u001b[34mThere are 3 clusters with 11 cameras\u001b[0m\n",
      "\u001b[34mThere are 5 clusters with 12 cameras\u001b[0m\n",
      "\u001b[34mThere are 4 clusters with 13 cameras\u001b[0m\n",
      "\u001b[34mThere are 3 clusters with 14 cameras\u001b[0m\n",
      "\u001b[34mThere are 3 clusters with 15 cameras\u001b[0m\n",
      "\u001b[34mThere are 2 clusters with 16 cameras\u001b[0m\n",
      "\u001b[34mThere are 1 clusters with 17 cameras\u001b[0m\n",
      "\u001b[34mThere are 1 clusters with 18 cameras\u001b[0m\n",
      "\u001b[34mThere are 4 clusters with 19 cameras\u001b[0m\n",
      "\u001b[34mThere are 8 clusters with 21 cameras\u001b[0m\n",
      "\u001b[34mThere are 2 clusters with 22 cameras\u001b[0m\n",
      "\u001b[34mThere are 1 clusters with 24 cameras\u001b[0m\n",
      "\u001b[34mThere are 3 clusters with 25 cameras\u001b[0m\n",
      "\u001b[34mThere are 1 clusters with 27 cameras\u001b[0m\n",
      "\u001b[34mThere are 3 clusters with 28 cameras\u001b[0m\n",
      "\u001b[34mThere are 1 clusters with 29 cameras\u001b[0m\n",
      "\u001b[34mThere are 1 clusters with 32 cameras\u001b[0m\n",
      "\u001b[34mThere are 1 clusters with 34 cameras\u001b[0m\n",
      "\u001b[34mThere are 2 clusters with 35 cameras\u001b[0m\n",
      "\u001b[34mThere are 2 clusters with 36 cameras\u001b[0m\n",
      "\u001b[34mThere are 1 clusters with 37 cameras\u001b[0m\n",
      "\u001b[34mThere are 2 clusters with 40 cameras\u001b[0m\n",
      "\u001b[34mThere are 3 clusters with 41 cameras\u001b[0m\n",
      "\u001b[34mThere are 2 clusters with 45 cameras\u001b[0m\n",
      "\u001b[34mThere are 2 clusters with 46 cameras\u001b[0m\n",
      "\u001b[34mThere are 3 clusters with 47 cameras\u001b[0m\n",
      "\u001b[34mThere are 3 clusters with 48 cameras\u001b[0m\n",
      "\u001b[34mThere are 4 clusters with 50 cameras\u001b[0m\n",
      "\u001b[34mThere are 2 clusters with 51 cameras\u001b[0m\n",
      "\u001b[34mThere are 4 clusters with 52 cameras\u001b[0m\n",
      "\u001b[34mThere are 2 clusters with 53 cameras\u001b[0m\n",
      "\u001b[34mThere are 8 clusters with 54 cameras\u001b[0m\n",
      "\u001b[34mThere are 7 clusters with 55 cameras\u001b[0m\n",
      "\u001b[34mThere are 6 clusters with 56 cameras\u001b[0m\n",
      "\u001b[34mThere are 14 clusters with 57 cameras\u001b[0m\n",
      "\u001b[34mThere are 9 clusters with 58 cameras\u001b[0m\n",
      "\u001b[34mThere are 20 clusters with 59 cameras\u001b[0m\n",
      "\u001b[34mThere are 12 clusters with 60 cameras\u001b[0m\n",
      "\u001b[34mThere are 26 clusters with 61 cameras\u001b[0m\n",
      "\u001b[34mThere are 25 clusters with 62 cameras\u001b[0m\n",
      "\u001b[34mThere are 38 clusters with 63 cameras\u001b[0m\n",
      "\u001b[34mThere are 213 clusters with 64 cameras\u001b[0m\n",
      "\u001b[34mThere are 2 clusters with 65 cameras\u001b[0m\n",
      "\u001b[34mThere are 1 clusters with 68 cameras\u001b[0m\n",
      "\u001b[34mThere are 1 clusters with 75 cameras\u001b[0m\n",
      "\u001b[34mThere are 1 clusters with 76 cameras\u001b[0m\n",
      "\u001b[34mThere are 1 clusters with 78 cameras\u001b[0m\n",
      "\u001b[34mThere are 1 clusters with 79 cameras\u001b[0m\n",
      "\u001b[34mThere are 2 clusters with 80 cameras\u001b[0m\n",
      "\u001b[34mThere are 1 clusters with 88 cameras\u001b[0m\n",
      "\u001b[34mThere are 1 clusters with 93 cameras\u001b[0m\n",
      "\u001b[34mThere are 2 clusters with 94 cameras\u001b[0m\n",
      "\u001b[34mThere are 1 clusters with 100 cameras\u001b[0m\n",
      "\u001b[34mThere are 2 clusters with 108 cameras\u001b[0m\n",
      "\u001b[34mThere are 1 clusters with 115 cameras\u001b[0m\n",
      "\u001b[34mThere are 1 clusters with 118 cameras\u001b[0m\n",
      "\u001b[34mThere are 1 clusters with 119 cameras\u001b[0m\n",
      "\u001b[34mThere are 2 clusters with 120 cameras\u001b[0m\n",
      "\u001b[34mThere are 2 clusters with 122 cameras\u001b[0m\n",
      "\u001b[34mThere are 4 clusters with 123 cameras\u001b[0m\n",
      "\u001b[34mThere are 2 clusters with 124 cameras\u001b[0m\n",
      "\u001b[34mThere are 1 clusters with 125 cameras\u001b[0m\n",
      "\u001b[34mThere are 2 clusters with 126 cameras\u001b[0m\n",
      "\u001b[34mThere are 6 clusters with 127 cameras\u001b[0m\n",
      "\u001b[34mThere are 9 clusters with 128 cameras\u001b[0m\n",
      "\u001b[34mThere are 1 clusters with 150 cameras\u001b[0m\n",
      "\u001b[34mThere are 1 clusters with 158 cameras\u001b[0m\n",
      "\u001b[34mThere are 2 clusters with 159 cameras\u001b[0m\n",
      "\u001b[34mThere are 1 clusters with 176 cameras\u001b[0m\n",
      "\u001b[34mThere are 1 clusters with 177 cameras\u001b[0m\n",
      "\u001b[34mThere are 1 clusters with 182 cameras\u001b[0m\n",
      "\u001b[34mThere are 1 clusters with 184 cameras\u001b[0m\n",
      "\u001b[34mThere are 1 clusters with 185 cameras\u001b[0m\n",
      "\u001b[34mThere are 1 clusters with 188 cameras\u001b[0m\n",
      "\u001b[34mThere are 1 clusters with 189 cameras\u001b[0m\n",
      "\u001b[34mThere are 1 clusters with 192 cameras\u001b[0m\n",
      "\u001b[34mThere are 1 clusters with 198 cameras\u001b[0m\n",
      "\u001b[34mThere are 1 clusters with 210 cameras\u001b[0m\n",
      "\u001b[34mThere are 1 clusters with 228 cameras\u001b[0m\n",
      "\u001b[34mThere are 1 clusters with 239 cameras\u001b[0m\n",
      "\u001b[34mThere are 1 clusters with 248 cameras\u001b[0m\n",
      "\u001b[34mThere are 1 clusters with 254 cameras\u001b[0m\n",
      "\u001b[34mThere are 1 clusters with 357 cameras\u001b[0m\n",
      "\u001b[34mThere are 1 clusters with 775 cameras\u001b[0m\n",
      "Number of classes: 576\n",
      "\u001b[36mLearning Rate: 0.000017\u001b[0m\n",
      "encontrou modelos vgg16. Carregando...\n",
      "encontrou modelos resnet50. Carregando...\n",
      "encontrou modelos osnet. Carregando...\n",
      "encontrou modelos densenet121. Carregando...\n",
      "###============ Iteration number 2/90 ============###\n",
      "Extracting Online Features for vgg16 ...\n",
      "Features extracted in 245.06 seconds\n",
      "Computing jaccard distance...\n"
     ]
    },
    {
     "name": "stderr",
     "output_type": "stream",
     "text": [
      "bruteForceKnn is deprecated; call bfKnn instead\n"
     ]
    },
    {
     "name": "stdout",
     "output_type": "stream",
     "text": [
      "Jaccard distance computing time cost: 537.5310461521149\n",
      "Extracting Online Features for resnet50 ...\n",
      "Features extracted in 244.07 seconds\n",
      "Computing jaccard distance...\n"
     ]
    },
    {
     "name": "stderr",
     "output_type": "stream",
     "text": [
      "bruteForceKnn is deprecated; call bfKnn instead\n"
     ]
    },
    {
     "name": "stdout",
     "output_type": "stream",
     "text": [
      "Jaccard distance computing time cost: 550.3178670406342\n",
      "Extracting Online Features for osnet ...\n",
      "Features extracted in 250.00 seconds\n",
      "Computing jaccard distance...\n"
     ]
    },
    {
     "name": "stderr",
     "output_type": "stream",
     "text": [
      "bruteForceKnn is deprecated; call bfKnn instead\n"
     ]
    },
    {
     "name": "stdout",
     "output_type": "stream",
     "text": [
      "Jaccard distance computing time cost: 536.8159592151642\n",
      "Extracting Online Features for densenet121 ...\n",
      "Features extracted in 250.33 seconds\n",
      "Computing jaccard distance...\n"
     ]
    },
    {
     "name": "stderr",
     "output_type": "stream",
     "text": [
      "bruteForceKnn is deprecated; call bfKnn instead\n"
     ]
    },
    {
     "name": "stdout",
     "output_type": "stream",
     "text": [
      "Jaccard distance computing time cost: 535.0261948108673\n",
      "Reliability: 0.992\n",
      "\u001b[32mMean Purity: 0.03921\u001b[0m\n",
      "\u001b[34mThere are 3 clusters with 4 cameras\u001b[0m\n",
      "\u001b[34mThere are 3 clusters with 5 cameras\u001b[0m\n",
      "\u001b[34mThere are 3 clusters with 6 cameras\u001b[0m\n",
      "\u001b[34mThere are 2 clusters with 7 cameras\u001b[0m\n",
      "\u001b[34mThere are 3 clusters with 8 cameras\u001b[0m\n",
      "\u001b[34mThere are 1 clusters with 9 cameras\u001b[0m\n",
      "\u001b[34mThere are 1 clusters with 10 cameras\u001b[0m\n",
      "\u001b[34mThere are 2 clusters with 12 cameras\u001b[0m\n",
      "\u001b[34mThere are 1 clusters with 14 cameras\u001b[0m\n",
      "\u001b[34mThere are 1 clusters with 16 cameras\u001b[0m\n",
      "\u001b[34mThere are 1 clusters with 17 cameras\u001b[0m\n",
      "\u001b[34mThere are 2 clusters with 18 cameras\u001b[0m\n",
      "\u001b[34mThere are 1 clusters with 35 cameras\u001b[0m\n",
      "\u001b[34mThere are 1 clusters with 43 cameras\u001b[0m\n",
      "\u001b[34mThere are 1 clusters with 44 cameras\u001b[0m\n",
      "\u001b[34mThere are 1 clusters with 46 cameras\u001b[0m\n",
      "\u001b[34mThere are 1 clusters with 50 cameras\u001b[0m\n",
      "\u001b[34mThere are 1 clusters with 52 cameras\u001b[0m\n",
      "\u001b[34mThere are 1 clusters with 53 cameras\u001b[0m\n",
      "\u001b[34mThere are 1 clusters with 54 cameras\u001b[0m\n",
      "\u001b[34mThere are 3 clusters with 55 cameras\u001b[0m\n",
      "\u001b[34mThere are 1 clusters with 56 cameras\u001b[0m\n",
      "\u001b[34mThere are 6 clusters with 57 cameras\u001b[0m\n",
      "\u001b[34mThere are 5 clusters with 58 cameras\u001b[0m\n",
      "\u001b[34mThere are 3 clusters with 59 cameras\u001b[0m\n",
      "\u001b[34mThere are 8 clusters with 60 cameras\u001b[0m\n",
      "\u001b[34mThere are 14 clusters with 61 cameras\u001b[0m\n",
      "\u001b[34mThere are 18 clusters with 62 cameras\u001b[0m\n",
      "\u001b[34mThere are 42 clusters with 63 cameras\u001b[0m\n",
      "\u001b[34mThere are 400 clusters with 64 cameras\u001b[0m\n",
      "\u001b[34mThere are 3 clusters with 66 cameras\u001b[0m\n",
      "\u001b[34mThere are 1 clusters with 68 cameras\u001b[0m\n",
      "\u001b[34mThere are 1 clusters with 69 cameras\u001b[0m\n",
      "\u001b[34mThere are 1 clusters with 73 cameras\u001b[0m\n",
      "\u001b[34mThere are 1 clusters with 106 cameras\u001b[0m\n",
      "\u001b[34mThere are 1 clusters with 109 cameras\u001b[0m\n",
      "\u001b[34mThere are 1 clusters with 116 cameras\u001b[0m\n",
      "\u001b[34mThere are 1 clusters with 118 cameras\u001b[0m\n",
      "\u001b[34mThere are 1 clusters with 121 cameras\u001b[0m\n",
      "\u001b[34mThere are 1 clusters with 122 cameras\u001b[0m\n",
      "\u001b[34mThere are 3 clusters with 123 cameras\u001b[0m\n",
      "\u001b[34mThere are 3 clusters with 124 cameras\u001b[0m\n",
      "\u001b[34mThere are 2 clusters with 126 cameras\u001b[0m\n",
      "\u001b[34mThere are 3 clusters with 127 cameras\u001b[0m\n",
      "\u001b[34mThere are 11 clusters with 128 cameras\u001b[0m\n",
      "\u001b[34mThere are 1 clusters with 131 cameras\u001b[0m\n",
      "\u001b[34mThere are 1 clusters with 134 cameras\u001b[0m\n",
      "\u001b[34mThere are 1 clusters with 187 cameras\u001b[0m\n",
      "\u001b[34mThere are 2 clusters with 188 cameras\u001b[0m\n",
      "\u001b[34mThere are 1 clusters with 190 cameras\u001b[0m\n",
      "\u001b[34mThere are 1 clusters with 192 cameras\u001b[0m\n",
      "\u001b[34mThere are 1 clusters with 338 cameras\u001b[0m\n",
      "\u001b[34mThere are 1 clusters with 361 cameras\u001b[0m\n",
      "Number of classes: 574\n",
      "\u001b[36mLearning Rate: 0.000035\u001b[0m\n",
      "encontrou modelos vgg16. Carregando...\n",
      "encontrou modelos resnet50. Carregando...\n",
      "encontrou modelos osnet. Carregando...\n",
      "encontrou modelos densenet121. Carregando...\n",
      "###============ Iteration number 3/90 ============###\n",
      "Extracting Online Features for vgg16 ...\n",
      "Features extracted in 250.40 seconds\n",
      "Computing jaccard distance...\n"
     ]
    },
    {
     "name": "stderr",
     "output_type": "stream",
     "text": [
      "bruteForceKnn is deprecated; call bfKnn instead\n"
     ]
    },
    {
     "name": "stdout",
     "output_type": "stream",
     "text": [
      "Jaccard distance computing time cost: 530.430013179779\n",
      "Extracting Online Features for resnet50 ...\n",
      "Features extracted in 247.51 seconds\n",
      "Computing jaccard distance...\n"
     ]
    },
    {
     "name": "stderr",
     "output_type": "stream",
     "text": [
      "bruteForceKnn is deprecated; call bfKnn instead\n"
     ]
    },
    {
     "name": "stdout",
     "output_type": "stream",
     "text": [
      "Jaccard distance computing time cost: 534.4655768871307\n",
      "Extracting Online Features for osnet ...\n",
      "Features extracted in 252.40 seconds\n",
      "Computing jaccard distance...\n"
     ]
    },
    {
     "name": "stderr",
     "output_type": "stream",
     "text": [
      "bruteForceKnn is deprecated; call bfKnn instead\n"
     ]
    },
    {
     "name": "stdout",
     "output_type": "stream",
     "text": [
      "Jaccard distance computing time cost: 523.7514069080353\n",
      "Extracting Online Features for densenet121 ...\n",
      "Features extracted in 245.43 seconds\n",
      "Computing jaccard distance...\n"
     ]
    },
    {
     "name": "stderr",
     "output_type": "stream",
     "text": [
      "bruteForceKnn is deprecated; call bfKnn instead\n"
     ]
    },
    {
     "name": "stdout",
     "output_type": "stream",
     "text": [
      "Jaccard distance computing time cost: 534.66139793396\n",
      "Reliability: 0.992\n",
      "\u001b[32mMean Purity: 0.03921\u001b[0m\n",
      "\u001b[34mThere are 3 clusters with 4 cameras\u001b[0m\n",
      "\u001b[34mThere are 3 clusters with 5 cameras\u001b[0m\n",
      "\u001b[34mThere are 3 clusters with 6 cameras\u001b[0m\n",
      "\u001b[34mThere are 2 clusters with 7 cameras\u001b[0m\n",
      "\u001b[34mThere are 3 clusters with 8 cameras\u001b[0m\n",
      "\u001b[34mThere are 1 clusters with 9 cameras\u001b[0m\n",
      "\u001b[34mThere are 1 clusters with 10 cameras\u001b[0m\n",
      "\u001b[34mThere are 2 clusters with 12 cameras\u001b[0m\n",
      "\u001b[34mThere are 1 clusters with 14 cameras\u001b[0m\n",
      "\u001b[34mThere are 1 clusters with 16 cameras\u001b[0m\n",
      "\u001b[34mThere are 1 clusters with 17 cameras\u001b[0m\n",
      "\u001b[34mThere are 2 clusters with 18 cameras\u001b[0m\n",
      "\u001b[34mThere are 1 clusters with 35 cameras\u001b[0m\n",
      "\u001b[34mThere are 1 clusters with 43 cameras\u001b[0m\n",
      "\u001b[34mThere are 1 clusters with 44 cameras\u001b[0m\n",
      "\u001b[34mThere are 1 clusters with 46 cameras\u001b[0m\n",
      "\u001b[34mThere are 1 clusters with 50 cameras\u001b[0m\n",
      "\u001b[34mThere are 1 clusters with 52 cameras\u001b[0m\n",
      "\u001b[34mThere are 1 clusters with 53 cameras\u001b[0m\n",
      "\u001b[34mThere are 1 clusters with 54 cameras\u001b[0m\n",
      "\u001b[34mThere are 3 clusters with 55 cameras\u001b[0m\n",
      "\u001b[34mThere are 1 clusters with 56 cameras\u001b[0m\n",
      "\u001b[34mThere are 6 clusters with 57 cameras\u001b[0m\n",
      "\u001b[34mThere are 5 clusters with 58 cameras\u001b[0m\n",
      "\u001b[34mThere are 3 clusters with 59 cameras\u001b[0m\n",
      "\u001b[34mThere are 8 clusters with 60 cameras\u001b[0m\n",
      "\u001b[34mThere are 14 clusters with 61 cameras\u001b[0m\n",
      "\u001b[34mThere are 18 clusters with 62 cameras\u001b[0m\n",
      "\u001b[34mThere are 42 clusters with 63 cameras\u001b[0m\n",
      "\u001b[34mThere are 400 clusters with 64 cameras\u001b[0m\n",
      "\u001b[34mThere are 3 clusters with 66 cameras\u001b[0m\n",
      "\u001b[34mThere are 1 clusters with 68 cameras\u001b[0m\n",
      "\u001b[34mThere are 1 clusters with 69 cameras\u001b[0m\n",
      "\u001b[34mThere are 1 clusters with 73 cameras\u001b[0m\n",
      "\u001b[34mThere are 1 clusters with 106 cameras\u001b[0m\n",
      "\u001b[34mThere are 1 clusters with 109 cameras\u001b[0m\n",
      "\u001b[34mThere are 1 clusters with 116 cameras\u001b[0m\n",
      "\u001b[34mThere are 1 clusters with 118 cameras\u001b[0m\n",
      "\u001b[34mThere are 1 clusters with 121 cameras\u001b[0m\n",
      "\u001b[34mThere are 1 clusters with 122 cameras\u001b[0m\n",
      "\u001b[34mThere are 3 clusters with 123 cameras\u001b[0m\n",
      "\u001b[34mThere are 3 clusters with 124 cameras\u001b[0m\n",
      "\u001b[34mThere are 2 clusters with 126 cameras\u001b[0m\n",
      "\u001b[34mThere are 3 clusters with 127 cameras\u001b[0m\n",
      "\u001b[34mThere are 11 clusters with 128 cameras\u001b[0m\n",
      "\u001b[34mThere are 1 clusters with 131 cameras\u001b[0m\n",
      "\u001b[34mThere are 1 clusters with 134 cameras\u001b[0m\n",
      "\u001b[34mThere are 1 clusters with 187 cameras\u001b[0m\n",
      "\u001b[34mThere are 2 clusters with 188 cameras\u001b[0m\n",
      "\u001b[34mThere are 1 clusters with 190 cameras\u001b[0m\n",
      "\u001b[34mThere are 1 clusters with 192 cameras\u001b[0m\n",
      "\u001b[34mThere are 1 clusters with 338 cameras\u001b[0m\n",
      "\u001b[34mThere are 1 clusters with 361 cameras\u001b[0m\n",
      "Number of classes: 574\n",
      "\u001b[36mLearning Rate: 0.000053\u001b[0m\n",
      "encontrou modelos vgg16. Carregando...\n",
      "encontrou modelos resnet50. Carregando...\n",
      "encontrou modelos osnet. Carregando...\n",
      "encontrou modelos densenet121. Carregando...\n",
      "###============ Iteration number 4/90 ============###\n",
      "Extracting Online Features for vgg16 ...\n",
      "Features extracted in 250.47 seconds\n",
      "Computing jaccard distance...\n"
     ]
    },
    {
     "name": "stderr",
     "output_type": "stream",
     "text": [
      "bruteForceKnn is deprecated; call bfKnn instead\n"
     ]
    },
    {
     "name": "stdout",
     "output_type": "stream",
     "text": [
      "Jaccard distance computing time cost: 546.9410638809204\n",
      "Extracting Online Features for resnet50 ...\n",
      "Features extracted in 244.27 seconds\n",
      "Computing jaccard distance...\n"
     ]
    },
    {
     "name": "stderr",
     "output_type": "stream",
     "text": [
      "bruteForceKnn is deprecated; call bfKnn instead\n"
     ]
    },
    {
     "name": "stdout",
     "output_type": "stream",
     "text": [
      "Jaccard distance computing time cost: 550.3233478069305\n",
      "Extracting Online Features for osnet ...\n",
      "Features extracted in 251.06 seconds\n",
      "Computing jaccard distance...\n"
     ]
    },
    {
     "name": "stderr",
     "output_type": "stream",
     "text": [
      "bruteForceKnn is deprecated; call bfKnn instead\n"
     ]
    },
    {
     "name": "stdout",
     "output_type": "stream",
     "text": [
      "Jaccard distance computing time cost: 539.6591668128967\n",
      "Extracting Online Features for densenet121 ...\n",
      "Features extracted in 247.78 seconds\n",
      "Computing jaccard distance...\n"
     ]
    },
    {
     "name": "stderr",
     "output_type": "stream",
     "text": [
      "bruteForceKnn is deprecated; call bfKnn instead\n"
     ]
    },
    {
     "name": "stdout",
     "output_type": "stream",
     "text": [
      "Jaccard distance computing time cost: 551.905601978302\n",
      "Reliability: 0.992\n",
      "\u001b[32mMean Purity: 0.03921\u001b[0m\n",
      "\u001b[34mThere are 3 clusters with 4 cameras\u001b[0m\n",
      "\u001b[34mThere are 3 clusters with 5 cameras\u001b[0m\n",
      "\u001b[34mThere are 3 clusters with 6 cameras\u001b[0m\n",
      "\u001b[34mThere are 2 clusters with 7 cameras\u001b[0m\n",
      "\u001b[34mThere are 3 clusters with 8 cameras\u001b[0m\n",
      "\u001b[34mThere are 1 clusters with 9 cameras\u001b[0m\n",
      "\u001b[34mThere are 1 clusters with 10 cameras\u001b[0m\n",
      "\u001b[34mThere are 2 clusters with 12 cameras\u001b[0m\n",
      "\u001b[34mThere are 1 clusters with 14 cameras\u001b[0m\n",
      "\u001b[34mThere are 1 clusters with 16 cameras\u001b[0m\n",
      "\u001b[34mThere are 1 clusters with 17 cameras\u001b[0m\n",
      "\u001b[34mThere are 2 clusters with 18 cameras\u001b[0m\n",
      "\u001b[34mThere are 1 clusters with 35 cameras\u001b[0m\n",
      "\u001b[34mThere are 1 clusters with 43 cameras\u001b[0m\n",
      "\u001b[34mThere are 1 clusters with 44 cameras\u001b[0m\n",
      "\u001b[34mThere are 1 clusters with 46 cameras\u001b[0m\n",
      "\u001b[34mThere are 1 clusters with 50 cameras\u001b[0m\n",
      "\u001b[34mThere are 1 clusters with 52 cameras\u001b[0m\n",
      "\u001b[34mThere are 1 clusters with 53 cameras\u001b[0m\n",
      "\u001b[34mThere are 1 clusters with 54 cameras\u001b[0m\n",
      "\u001b[34mThere are 3 clusters with 55 cameras\u001b[0m\n",
      "\u001b[34mThere are 1 clusters with 56 cameras\u001b[0m\n",
      "\u001b[34mThere are 6 clusters with 57 cameras\u001b[0m\n",
      "\u001b[34mThere are 5 clusters with 58 cameras\u001b[0m\n",
      "\u001b[34mThere are 3 clusters with 59 cameras\u001b[0m\n",
      "\u001b[34mThere are 8 clusters with 60 cameras\u001b[0m\n",
      "\u001b[34mThere are 14 clusters with 61 cameras\u001b[0m\n",
      "\u001b[34mThere are 18 clusters with 62 cameras\u001b[0m\n",
      "\u001b[34mThere are 42 clusters with 63 cameras\u001b[0m\n",
      "\u001b[34mThere are 400 clusters with 64 cameras\u001b[0m\n",
      "\u001b[34mThere are 3 clusters with 66 cameras\u001b[0m\n",
      "\u001b[34mThere are 1 clusters with 68 cameras\u001b[0m\n",
      "\u001b[34mThere are 1 clusters with 69 cameras\u001b[0m\n",
      "\u001b[34mThere are 1 clusters with 73 cameras\u001b[0m\n",
      "\u001b[34mThere are 1 clusters with 106 cameras\u001b[0m\n",
      "\u001b[34mThere are 1 clusters with 109 cameras\u001b[0m\n",
      "\u001b[34mThere are 1 clusters with 116 cameras\u001b[0m\n",
      "\u001b[34mThere are 1 clusters with 118 cameras\u001b[0m\n",
      "\u001b[34mThere are 1 clusters with 121 cameras\u001b[0m\n",
      "\u001b[34mThere are 1 clusters with 122 cameras\u001b[0m\n",
      "\u001b[34mThere are 3 clusters with 123 cameras\u001b[0m\n",
      "\u001b[34mThere are 3 clusters with 124 cameras\u001b[0m\n",
      "\u001b[34mThere are 2 clusters with 126 cameras\u001b[0m\n",
      "\u001b[34mThere are 3 clusters with 127 cameras\u001b[0m\n",
      "\u001b[34mThere are 11 clusters with 128 cameras\u001b[0m\n",
      "\u001b[34mThere are 1 clusters with 131 cameras\u001b[0m\n",
      "\u001b[34mThere are 1 clusters with 134 cameras\u001b[0m\n",
      "\u001b[34mThere are 1 clusters with 187 cameras\u001b[0m\n",
      "\u001b[34mThere are 2 clusters with 188 cameras\u001b[0m\n",
      "\u001b[34mThere are 1 clusters with 190 cameras\u001b[0m\n",
      "\u001b[34mThere are 1 clusters with 192 cameras\u001b[0m\n",
      "\u001b[34mThere are 1 clusters with 338 cameras\u001b[0m\n",
      "\u001b[34mThere are 1 clusters with 361 cameras\u001b[0m\n",
      "Number of classes: 574\n",
      "\u001b[36mLearning Rate: 0.000070\u001b[0m\n",
      "encontrou modelos vgg16. Carregando...\n",
      "encontrou modelos resnet50. Carregando...\n",
      "encontrou modelos osnet. Carregando...\n",
      "encontrou modelos densenet121. Carregando...\n",
      "###============ Iteration number 5/90 ============###\n",
      "Extracting Online Features for vgg16 ...\n",
      "Features extracted in 254.96 seconds\n",
      "Computing jaccard distance...\n"
     ]
    },
    {
     "name": "stderr",
     "output_type": "stream",
     "text": [
      "bruteForceKnn is deprecated; call bfKnn instead\n"
     ]
    },
    {
     "name": "stdout",
     "output_type": "stream",
     "text": [
      "Jaccard distance computing time cost: 551.3358931541443\n",
      "Extracting Online Features for resnet50 ...\n",
      "Features extracted in 253.36 seconds\n",
      "Computing jaccard distance...\n"
     ]
    },
    {
     "name": "stderr",
     "output_type": "stream",
     "text": [
      "bruteForceKnn is deprecated; call bfKnn instead\n"
     ]
    },
    {
     "name": "stdout",
     "output_type": "stream",
     "text": [
      "Jaccard distance computing time cost: 552.720939874649\n",
      "Extracting Online Features for osnet ...\n",
      "Features extracted in 246.91 seconds\n",
      "Computing jaccard distance...\n"
     ]
    },
    {
     "name": "stderr",
     "output_type": "stream",
     "text": [
      "bruteForceKnn is deprecated; call bfKnn instead\n"
     ]
    },
    {
     "name": "stdout",
     "output_type": "stream",
     "text": [
      "Jaccard distance computing time cost: 532.4515233039856\n",
      "Extracting Online Features for densenet121 ...\n",
      "Features extracted in 245.33 seconds\n",
      "Computing jaccard distance...\n"
     ]
    },
    {
     "name": "stderr",
     "output_type": "stream",
     "text": [
      "bruteForceKnn is deprecated; call bfKnn instead\n"
     ]
    },
    {
     "name": "stdout",
     "output_type": "stream",
     "text": [
      "Jaccard distance computing time cost: 544.080075263977\n",
      "Reliability: 0.992\n",
      "\u001b[32mMean Purity: 0.03921\u001b[0m\n",
      "\u001b[34mThere are 3 clusters with 4 cameras\u001b[0m\n",
      "\u001b[34mThere are 3 clusters with 5 cameras\u001b[0m\n",
      "\u001b[34mThere are 3 clusters with 6 cameras\u001b[0m\n",
      "\u001b[34mThere are 2 clusters with 7 cameras\u001b[0m\n",
      "\u001b[34mThere are 3 clusters with 8 cameras\u001b[0m\n",
      "\u001b[34mThere are 1 clusters with 9 cameras\u001b[0m\n",
      "\u001b[34mThere are 1 clusters with 10 cameras\u001b[0m\n",
      "\u001b[34mThere are 2 clusters with 12 cameras\u001b[0m\n",
      "\u001b[34mThere are 1 clusters with 14 cameras\u001b[0m\n",
      "\u001b[34mThere are 1 clusters with 16 cameras\u001b[0m\n",
      "\u001b[34mThere are 1 clusters with 17 cameras\u001b[0m\n",
      "\u001b[34mThere are 2 clusters with 18 cameras\u001b[0m\n",
      "\u001b[34mThere are 1 clusters with 35 cameras\u001b[0m\n",
      "\u001b[34mThere are 1 clusters with 43 cameras\u001b[0m\n",
      "\u001b[34mThere are 1 clusters with 44 cameras\u001b[0m\n",
      "\u001b[34mThere are 1 clusters with 46 cameras\u001b[0m\n",
      "\u001b[34mThere are 1 clusters with 50 cameras\u001b[0m\n",
      "\u001b[34mThere are 1 clusters with 52 cameras\u001b[0m\n",
      "\u001b[34mThere are 1 clusters with 53 cameras\u001b[0m\n",
      "\u001b[34mThere are 1 clusters with 54 cameras\u001b[0m\n",
      "\u001b[34mThere are 3 clusters with 55 cameras\u001b[0m\n",
      "\u001b[34mThere are 1 clusters with 56 cameras\u001b[0m\n",
      "\u001b[34mThere are 6 clusters with 57 cameras\u001b[0m\n",
      "\u001b[34mThere are 5 clusters with 58 cameras\u001b[0m\n",
      "\u001b[34mThere are 3 clusters with 59 cameras\u001b[0m\n",
      "\u001b[34mThere are 8 clusters with 60 cameras\u001b[0m\n",
      "\u001b[34mThere are 14 clusters with 61 cameras\u001b[0m\n",
      "\u001b[34mThere are 18 clusters with 62 cameras\u001b[0m\n",
      "\u001b[34mThere are 42 clusters with 63 cameras\u001b[0m\n",
      "\u001b[34mThere are 400 clusters with 64 cameras\u001b[0m\n",
      "\u001b[34mThere are 3 clusters with 66 cameras\u001b[0m\n",
      "\u001b[34mThere are 1 clusters with 68 cameras\u001b[0m\n",
      "\u001b[34mThere are 1 clusters with 69 cameras\u001b[0m\n",
      "\u001b[34mThere are 1 clusters with 73 cameras\u001b[0m\n",
      "\u001b[34mThere are 1 clusters with 106 cameras\u001b[0m\n",
      "\u001b[34mThere are 1 clusters with 109 cameras\u001b[0m\n",
      "\u001b[34mThere are 1 clusters with 116 cameras\u001b[0m\n",
      "\u001b[34mThere are 1 clusters with 118 cameras\u001b[0m\n",
      "\u001b[34mThere are 1 clusters with 121 cameras\u001b[0m\n",
      "\u001b[34mThere are 1 clusters with 122 cameras\u001b[0m\n",
      "\u001b[34mThere are 3 clusters with 123 cameras\u001b[0m\n",
      "\u001b[34mThere are 3 clusters with 124 cameras\u001b[0m\n",
      "\u001b[34mThere are 2 clusters with 126 cameras\u001b[0m\n",
      "\u001b[34mThere are 3 clusters with 127 cameras\u001b[0m\n",
      "\u001b[34mThere are 11 clusters with 128 cameras\u001b[0m\n",
      "\u001b[34mThere are 1 clusters with 131 cameras\u001b[0m\n",
      "\u001b[34mThere are 1 clusters with 134 cameras\u001b[0m\n",
      "\u001b[34mThere are 1 clusters with 187 cameras\u001b[0m\n",
      "\u001b[34mThere are 2 clusters with 188 cameras\u001b[0m\n",
      "\u001b[34mThere are 1 clusters with 190 cameras\u001b[0m\n",
      "\u001b[34mThere are 1 clusters with 192 cameras\u001b[0m\n",
      "\u001b[34mThere are 1 clusters with 338 cameras\u001b[0m\n",
      "\u001b[34mThere are 1 clusters with 361 cameras\u001b[0m\n",
      "Number of classes: 574\n",
      "\u001b[36mLearning Rate: 0.000088\u001b[0m\n",
      "encontrou modelos vgg16. Carregando...\n",
      "encontrou modelos resnet50. Carregando...\n",
      "encontrou modelos osnet. Carregando...\n",
      "encontrou modelos densenet121. Carregando...\n",
      "\u001b[33mValidating online vgg16 ...\u001b[0m\n",
      "Features extracted in 79.42 seconds\n",
      "Features extracted in 147.58 seconds\n",
      "Computing CMC and mAP ...\n",
      "** Results **\n",
      "mAP: 70.12%\n",
      "CMC curve\n",
      "Rank-1  : 75.96%\n",
      "Rank-5  : 91.27%\n",
      "Rank-10 : 94.82%\n",
      "Rank-20 : 96.79%\n",
      "\u001b[33mValidating momentum vgg16 ...\u001b[0m\n",
      "Features extracted in 79.28 seconds\n",
      "Features extracted in 142.98 seconds\n",
      "Computing CMC and mAP ...\n",
      "** Results **\n",
      "mAP: 66.17%\n",
      "CMC curve\n",
      "Rank-1  : 60.22%\n",
      "Rank-5  : 85.69%\n",
      "Rank-10 : 92.76%\n",
      "Rank-20 : 97.47%\n",
      "\u001b[33mValidating online resnet50 ...\u001b[0m\n",
      "Features extracted in 78.49 seconds\n",
      "Features extracted in 144.08 seconds\n",
      "Computing CMC and mAP ...\n",
      "** Results **\n",
      "mAP: 67.50%\n",
      "CMC curve\n",
      "Rank-1  : 55.02%\n",
      "Rank-5  : 80.54%\n",
      "Rank-10 : 89.57%\n",
      "Rank-20 : 96.21%\n",
      "\u001b[33mValidating momentum resnet50 ...\u001b[0m\n",
      "Features extracted in 77.24 seconds\n",
      "Features extracted in 150.23 seconds\n",
      "Computing CMC and mAP ...\n",
      "** Results **\n",
      "mAP: 66.53%\n",
      "CMC curve\n",
      "Rank-1  : 51.40%\n",
      "Rank-5  : 82.97%\n",
      "Rank-10 : 92.60%\n",
      "Rank-20 : 97.67%\n",
      "\u001b[33mValidating online osnet ...\u001b[0m\n",
      "Features extracted in 80.06 seconds\n",
      "Features extracted in 144.70 seconds\n",
      "Computing CMC and mAP ...\n",
      "** Results **\n",
      "mAP: 70.98%\n",
      "CMC curve\n",
      "Rank-1  : 66.36%\n",
      "Rank-5  : 91.56%\n",
      "Rank-10 : 96.56%\n",
      "Rank-20 : 99.07%\n",
      "\u001b[33mValidating momentum osnet ...\u001b[0m\n",
      "Features extracted in 79.25 seconds\n",
      "Features extracted in 145.56 seconds\n",
      "Computing CMC and mAP ...\n",
      "** Results **\n",
      "mAP: 64.56%\n",
      "CMC curve\n",
      "Rank-1  : 55.77%\n",
      "Rank-5  : 86.08%\n",
      "Rank-10 : 94.11%\n",
      "Rank-20 : 97.92%\n",
      "\u001b[33mValidating online densenet121 ...\u001b[0m\n",
      "Features extracted in 80.10 seconds\n",
      "Features extracted in 149.82 seconds\n",
      "Computing CMC and mAP ...\n",
      "** Results **\n",
      "mAP: 69.32%\n",
      "CMC curve\n",
      "Rank-1  : 61.53%\n",
      "Rank-5  : 85.89%\n",
      "Rank-10 : 93.66%\n",
      "Rank-20 : 97.66%\n",
      "\u001b[33mValidating momentum densenet121 ...\u001b[0m\n",
      "Features extracted in 77.49 seconds\n",
      "Features extracted in 147.12 seconds\n",
      "Computing CMC and mAP ...\n",
      "** Results **\n",
      "mAP: 66.02%\n",
      "CMC curve\n",
      "Rank-1  : 63.00%\n",
      "Rank-5  : 91.00%\n",
      "Rank-10 : 96.36%\n",
      "Rank-20 : 98.94%\n",
      "\u001b[33mValidating ensembled with online models ...\u001b[0m\n",
      "Computing CMC and mAP ...\n",
      "** Results **\n",
      "mAP: 69.73%\n",
      "Ranks:\n",
      "Rank-1  : 63.31%\n",
      "Rank-5  : 83.51%\n",
      "Rank-10 : 91.32%\n",
      "\u001b[33mValidating ensembled with momentum models ...\u001b[0m\n",
      "Computing CMC and mAP ...\n",
      "** Results **\n",
      "mAP: 65.40%\n",
      "Ranks:\n",
      "Rank-1  : 60.95%\n",
      "Rank-5  : 84.80%\n",
      "Rank-10 : 92.04%\n",
      "###============ Iteration number 6/90 ============###\n",
      "Extracting Online Features for vgg16 ...\n",
      "Features extracted in 240.20 seconds\n",
      "Computing jaccard distance...\n"
     ]
    },
    {
     "name": "stderr",
     "output_type": "stream",
     "text": [
      "bruteForceKnn is deprecated; call bfKnn instead\n"
     ]
    },
    {
     "name": "stdout",
     "output_type": "stream",
     "text": [
      "Jaccard distance computing time cost: 529.9605853557587\n",
      "Extracting Online Features for resnet50 ...\n",
      "Features extracted in 248.57 seconds\n",
      "Computing jaccard distance...\n"
     ]
    },
    {
     "name": "stderr",
     "output_type": "stream",
     "text": [
      "bruteForceKnn is deprecated; call bfKnn instead\n"
     ]
    },
    {
     "name": "stdout",
     "output_type": "stream",
     "text": [
      "Jaccard distance computing time cost: 547.014967918396\n",
      "Extracting Online Features for osnet ...\n",
      "Features extracted in 249.69 seconds\n",
      "Computing jaccard distance...\n"
     ]
    },
    {
     "name": "stderr",
     "output_type": "stream",
     "text": [
      "bruteForceKnn is deprecated; call bfKnn instead\n"
     ]
    },
    {
     "name": "stdout",
     "output_type": "stream",
     "text": [
      "Jaccard distance computing time cost: 536.8891386985779\n",
      "Extracting Online Features for densenet121 ...\n",
      "Features extracted in 249.88 seconds\n",
      "Computing jaccard distance...\n"
     ]
    },
    {
     "name": "stderr",
     "output_type": "stream",
     "text": [
      "bruteForceKnn is deprecated; call bfKnn instead\n"
     ]
    },
    {
     "name": "stdout",
     "output_type": "stream",
     "text": [
      "Jaccard distance computing time cost: 548.615784406662\n",
      "Reliability: 0.992\n",
      "\u001b[32mMean Purity: 0.03921\u001b[0m\n",
      "\u001b[34mThere are 3 clusters with 4 cameras\u001b[0m\n",
      "\u001b[34mThere are 3 clusters with 5 cameras\u001b[0m\n",
      "\u001b[34mThere are 3 clusters with 6 cameras\u001b[0m\n",
      "\u001b[34mThere are 2 clusters with 7 cameras\u001b[0m\n",
      "\u001b[34mThere are 3 clusters with 8 cameras\u001b[0m\n",
      "\u001b[34mThere are 1 clusters with 9 cameras\u001b[0m\n",
      "\u001b[34mThere are 1 clusters with 10 cameras\u001b[0m\n",
      "\u001b[34mThere are 2 clusters with 12 cameras\u001b[0m\n",
      "\u001b[34mThere are 1 clusters with 14 cameras\u001b[0m\n",
      "\u001b[34mThere are 1 clusters with 16 cameras\u001b[0m\n",
      "\u001b[34mThere are 1 clusters with 17 cameras\u001b[0m\n",
      "\u001b[34mThere are 2 clusters with 18 cameras\u001b[0m\n",
      "\u001b[34mThere are 1 clusters with 35 cameras\u001b[0m\n",
      "\u001b[34mThere are 1 clusters with 43 cameras\u001b[0m\n",
      "\u001b[34mThere are 1 clusters with 44 cameras\u001b[0m\n",
      "\u001b[34mThere are 1 clusters with 46 cameras\u001b[0m\n",
      "\u001b[34mThere are 1 clusters with 50 cameras\u001b[0m\n",
      "\u001b[34mThere are 1 clusters with 52 cameras\u001b[0m\n",
      "\u001b[34mThere are 1 clusters with 53 cameras\u001b[0m\n",
      "\u001b[34mThere are 1 clusters with 54 cameras\u001b[0m\n",
      "\u001b[34mThere are 3 clusters with 55 cameras\u001b[0m\n",
      "\u001b[34mThere are 1 clusters with 56 cameras\u001b[0m\n",
      "\u001b[34mThere are 6 clusters with 57 cameras\u001b[0m\n",
      "\u001b[34mThere are 5 clusters with 58 cameras\u001b[0m\n",
      "\u001b[34mThere are 3 clusters with 59 cameras\u001b[0m\n",
      "\u001b[34mThere are 8 clusters with 60 cameras\u001b[0m\n",
      "\u001b[34mThere are 14 clusters with 61 cameras\u001b[0m\n",
      "\u001b[34mThere are 18 clusters with 62 cameras\u001b[0m\n",
      "\u001b[34mThere are 42 clusters with 63 cameras\u001b[0m\n",
      "\u001b[34mThere are 400 clusters with 64 cameras\u001b[0m\n",
      "\u001b[34mThere are 3 clusters with 66 cameras\u001b[0m\n",
      "\u001b[34mThere are 1 clusters with 68 cameras\u001b[0m\n",
      "\u001b[34mThere are 1 clusters with 69 cameras\u001b[0m\n",
      "\u001b[34mThere are 1 clusters with 73 cameras\u001b[0m\n",
      "\u001b[34mThere are 1 clusters with 106 cameras\u001b[0m\n",
      "\u001b[34mThere are 1 clusters with 109 cameras\u001b[0m\n",
      "\u001b[34mThere are 1 clusters with 116 cameras\u001b[0m\n",
      "\u001b[34mThere are 1 clusters with 118 cameras\u001b[0m\n",
      "\u001b[34mThere are 1 clusters with 121 cameras\u001b[0m\n",
      "\u001b[34mThere are 1 clusters with 122 cameras\u001b[0m\n",
      "\u001b[34mThere are 3 clusters with 123 cameras\u001b[0m\n",
      "\u001b[34mThere are 3 clusters with 124 cameras\u001b[0m\n",
      "\u001b[34mThere are 2 clusters with 126 cameras\u001b[0m\n",
      "\u001b[34mThere are 3 clusters with 127 cameras\u001b[0m\n",
      "\u001b[34mThere are 11 clusters with 128 cameras\u001b[0m\n",
      "\u001b[34mThere are 1 clusters with 131 cameras\u001b[0m\n",
      "\u001b[34mThere are 1 clusters with 134 cameras\u001b[0m\n",
      "\u001b[34mThere are 1 clusters with 187 cameras\u001b[0m\n",
      "\u001b[34mThere are 2 clusters with 188 cameras\u001b[0m\n",
      "\u001b[34mThere are 1 clusters with 190 cameras\u001b[0m\n",
      "\u001b[34mThere are 1 clusters with 192 cameras\u001b[0m\n",
      "\u001b[34mThere are 1 clusters with 338 cameras\u001b[0m\n",
      "\u001b[34mThere are 1 clusters with 361 cameras\u001b[0m\n",
      "Number of classes: 574\n",
      "\u001b[36mLearning Rate: 0.000105\u001b[0m\n",
      "encontrou modelos vgg16. Carregando...\n",
      "encontrou modelos resnet50. Carregando...\n",
      "encontrou modelos osnet. Carregando...\n",
      "encontrou modelos densenet121. Carregando...\n",
      "###============ Iteration number 7/90 ============###\n",
      "Extracting Online Features for vgg16 ...\n",
      "Features extracted in 249.99 seconds\n",
      "Computing jaccard distance...\n"
     ]
    },
    {
     "name": "stderr",
     "output_type": "stream",
     "text": [
      "bruteForceKnn is deprecated; call bfKnn instead\n"
     ]
    },
    {
     "name": "stdout",
     "output_type": "stream",
     "text": [
      "Jaccard distance computing time cost: 548.0287344455719\n",
      "Extracting Online Features for resnet50 ...\n",
      "Features extracted in 254.25 seconds\n",
      "Computing jaccard distance...\n"
     ]
    },
    {
     "name": "stderr",
     "output_type": "stream",
     "text": [
      "bruteForceKnn is deprecated; call bfKnn instead\n"
     ]
    },
    {
     "name": "stdout",
     "output_type": "stream",
     "text": [
      "Jaccard distance computing time cost: 547.8947131633759\n",
      "Extracting Online Features for osnet ...\n",
      "Features extracted in 245.42 seconds\n",
      "Computing jaccard distance...\n"
     ]
    },
    {
     "name": "stderr",
     "output_type": "stream",
     "text": [
      "bruteForceKnn is deprecated; call bfKnn instead\n"
     ]
    },
    {
     "name": "stdout",
     "output_type": "stream",
     "text": [
      "Jaccard distance computing time cost: 538.836916923523\n",
      "Extracting Online Features for densenet121 ...\n",
      "Features extracted in 250.31 seconds\n",
      "Computing jaccard distance...\n"
     ]
    },
    {
     "name": "stderr",
     "output_type": "stream",
     "text": [
      "bruteForceKnn is deprecated; call bfKnn instead\n"
     ]
    },
    {
     "name": "stdout",
     "output_type": "stream",
     "text": [
      "Jaccard distance computing time cost: 549.279247045517\n",
      "Reliability: 0.992\n",
      "\u001b[32mMean Purity: 0.03921\u001b[0m\n",
      "\u001b[34mThere are 3 clusters with 4 cameras\u001b[0m\n",
      "\u001b[34mThere are 3 clusters with 5 cameras\u001b[0m\n",
      "\u001b[34mThere are 3 clusters with 6 cameras\u001b[0m\n",
      "\u001b[34mThere are 2 clusters with 7 cameras\u001b[0m\n",
      "\u001b[34mThere are 3 clusters with 8 cameras\u001b[0m\n",
      "\u001b[34mThere are 1 clusters with 9 cameras\u001b[0m\n",
      "\u001b[34mThere are 1 clusters with 10 cameras\u001b[0m\n",
      "\u001b[34mThere are 2 clusters with 12 cameras\u001b[0m\n",
      "\u001b[34mThere are 1 clusters with 14 cameras\u001b[0m\n",
      "\u001b[34mThere are 1 clusters with 16 cameras\u001b[0m\n",
      "\u001b[34mThere are 1 clusters with 17 cameras\u001b[0m\n",
      "\u001b[34mThere are 2 clusters with 18 cameras\u001b[0m\n",
      "\u001b[34mThere are 1 clusters with 35 cameras\u001b[0m\n",
      "\u001b[34mThere are 1 clusters with 43 cameras\u001b[0m\n",
      "\u001b[34mThere are 1 clusters with 44 cameras\u001b[0m\n",
      "\u001b[34mThere are 1 clusters with 46 cameras\u001b[0m\n",
      "\u001b[34mThere are 1 clusters with 50 cameras\u001b[0m\n",
      "\u001b[34mThere are 1 clusters with 52 cameras\u001b[0m\n",
      "\u001b[34mThere are 1 clusters with 53 cameras\u001b[0m\n",
      "\u001b[34mThere are 1 clusters with 54 cameras\u001b[0m\n",
      "\u001b[34mThere are 3 clusters with 55 cameras\u001b[0m\n",
      "\u001b[34mThere are 1 clusters with 56 cameras\u001b[0m\n",
      "\u001b[34mThere are 6 clusters with 57 cameras\u001b[0m\n",
      "\u001b[34mThere are 5 clusters with 58 cameras\u001b[0m\n",
      "\u001b[34mThere are 3 clusters with 59 cameras\u001b[0m\n",
      "\u001b[34mThere are 8 clusters with 60 cameras\u001b[0m\n",
      "\u001b[34mThere are 14 clusters with 61 cameras\u001b[0m\n",
      "\u001b[34mThere are 18 clusters with 62 cameras\u001b[0m\n",
      "\u001b[34mThere are 42 clusters with 63 cameras\u001b[0m\n",
      "\u001b[34mThere are 400 clusters with 64 cameras\u001b[0m\n",
      "\u001b[34mThere are 3 clusters with 66 cameras\u001b[0m\n",
      "\u001b[34mThere are 1 clusters with 68 cameras\u001b[0m\n",
      "\u001b[34mThere are 1 clusters with 69 cameras\u001b[0m\n",
      "\u001b[34mThere are 1 clusters with 73 cameras\u001b[0m\n",
      "\u001b[34mThere are 1 clusters with 106 cameras\u001b[0m\n",
      "\u001b[34mThere are 1 clusters with 109 cameras\u001b[0m\n",
      "\u001b[34mThere are 1 clusters with 116 cameras\u001b[0m\n",
      "\u001b[34mThere are 1 clusters with 118 cameras\u001b[0m\n",
      "\u001b[34mThere are 1 clusters with 121 cameras\u001b[0m\n",
      "\u001b[34mThere are 1 clusters with 122 cameras\u001b[0m\n",
      "\u001b[34mThere are 3 clusters with 123 cameras\u001b[0m\n",
      "\u001b[34mThere are 3 clusters with 124 cameras\u001b[0m\n",
      "\u001b[34mThere are 2 clusters with 126 cameras\u001b[0m\n",
      "\u001b[34mThere are 3 clusters with 127 cameras\u001b[0m\n",
      "\u001b[34mThere are 11 clusters with 128 cameras\u001b[0m\n",
      "\u001b[34mThere are 1 clusters with 131 cameras\u001b[0m\n",
      "\u001b[34mThere are 1 clusters with 134 cameras\u001b[0m\n",
      "\u001b[34mThere are 1 clusters with 187 cameras\u001b[0m\n",
      "\u001b[34mThere are 2 clusters with 188 cameras\u001b[0m\n",
      "\u001b[34mThere are 1 clusters with 190 cameras\u001b[0m\n",
      "\u001b[34mThere are 1 clusters with 192 cameras\u001b[0m\n",
      "\u001b[34mThere are 1 clusters with 338 cameras\u001b[0m\n",
      "\u001b[34mThere are 1 clusters with 361 cameras\u001b[0m\n",
      "Number of classes: 574\n",
      "\u001b[36mLearning Rate: 0.000122\u001b[0m\n",
      "encontrou modelos vgg16. Carregando...\n",
      "encontrou modelos resnet50. Carregando...\n",
      "encontrou modelos osnet. Carregando...\n",
      "encontrou modelos densenet121. Carregando...\n",
      "###============ Iteration number 8/90 ============###\n",
      "Extracting Online Features for vgg16 ...\n",
      "Features extracted in 257.47 seconds\n",
      "Computing jaccard distance...\n"
     ]
    },
    {
     "name": "stderr",
     "output_type": "stream",
     "text": [
      "bruteForceKnn is deprecated; call bfKnn instead\n"
     ]
    },
    {
     "name": "stdout",
     "output_type": "stream",
     "text": [
      "Jaccard distance computing time cost: 543.2467319965363\n",
      "Extracting Online Features for resnet50 ...\n",
      "Features extracted in 264.24 seconds\n",
      "Computing jaccard distance...\n"
     ]
    },
    {
     "name": "stderr",
     "output_type": "stream",
     "text": [
      "bruteForceKnn is deprecated; call bfKnn instead\n"
     ]
    },
    {
     "name": "stdout",
     "output_type": "stream",
     "text": [
      "Jaccard distance computing time cost: 547.6452484130859\n",
      "Extracting Online Features for osnet ...\n",
      "Features extracted in 250.23 seconds\n",
      "Computing jaccard distance...\n"
     ]
    },
    {
     "name": "stderr",
     "output_type": "stream",
     "text": [
      "bruteForceKnn is deprecated; call bfKnn instead\n"
     ]
    },
    {
     "name": "stdout",
     "output_type": "stream",
     "text": [
      "Jaccard distance computing time cost: 541.4429652690887\n",
      "Extracting Online Features for densenet121 ...\n",
      "Features extracted in 244.66 seconds\n",
      "Computing jaccard distance...\n"
     ]
    },
    {
     "name": "stderr",
     "output_type": "stream",
     "text": [
      "bruteForceKnn is deprecated; call bfKnn instead\n"
     ]
    },
    {
     "name": "stdout",
     "output_type": "stream",
     "text": [
      "Jaccard distance computing time cost: 543.3558883666992\n",
      "Reliability: 0.992\n",
      "\u001b[32mMean Purity: 0.03921\u001b[0m\n",
      "\u001b[34mThere are 3 clusters with 4 cameras\u001b[0m\n",
      "\u001b[34mThere are 3 clusters with 5 cameras\u001b[0m\n",
      "\u001b[34mThere are 3 clusters with 6 cameras\u001b[0m\n",
      "\u001b[34mThere are 2 clusters with 7 cameras\u001b[0m\n",
      "\u001b[34mThere are 3 clusters with 8 cameras\u001b[0m\n",
      "\u001b[34mThere are 1 clusters with 9 cameras\u001b[0m\n",
      "\u001b[34mThere are 1 clusters with 10 cameras\u001b[0m\n",
      "\u001b[34mThere are 2 clusters with 12 cameras\u001b[0m\n",
      "\u001b[34mThere are 1 clusters with 14 cameras\u001b[0m\n",
      "\u001b[34mThere are 1 clusters with 16 cameras\u001b[0m\n",
      "\u001b[34mThere are 1 clusters with 17 cameras\u001b[0m\n",
      "\u001b[34mThere are 2 clusters with 18 cameras\u001b[0m\n",
      "\u001b[34mThere are 1 clusters with 35 cameras\u001b[0m\n",
      "\u001b[34mThere are 1 clusters with 43 cameras\u001b[0m\n",
      "\u001b[34mThere are 1 clusters with 44 cameras\u001b[0m\n",
      "\u001b[34mThere are 1 clusters with 46 cameras\u001b[0m\n",
      "\u001b[34mThere are 1 clusters with 50 cameras\u001b[0m\n",
      "\u001b[34mThere are 1 clusters with 52 cameras\u001b[0m\n",
      "\u001b[34mThere are 1 clusters with 53 cameras\u001b[0m\n",
      "\u001b[34mThere are 1 clusters with 54 cameras\u001b[0m\n",
      "\u001b[34mThere are 3 clusters with 55 cameras\u001b[0m\n",
      "\u001b[34mThere are 1 clusters with 56 cameras\u001b[0m\n",
      "\u001b[34mThere are 6 clusters with 57 cameras\u001b[0m\n",
      "\u001b[34mThere are 5 clusters with 58 cameras\u001b[0m\n",
      "\u001b[34mThere are 3 clusters with 59 cameras\u001b[0m\n",
      "\u001b[34mThere are 8 clusters with 60 cameras\u001b[0m\n",
      "\u001b[34mThere are 14 clusters with 61 cameras\u001b[0m\n",
      "\u001b[34mThere are 18 clusters with 62 cameras\u001b[0m\n",
      "\u001b[34mThere are 42 clusters with 63 cameras\u001b[0m\n",
      "\u001b[34mThere are 400 clusters with 64 cameras\u001b[0m\n",
      "\u001b[34mThere are 3 clusters with 66 cameras\u001b[0m\n",
      "\u001b[34mThere are 1 clusters with 68 cameras\u001b[0m\n",
      "\u001b[34mThere are 1 clusters with 69 cameras\u001b[0m\n",
      "\u001b[34mThere are 1 clusters with 73 cameras\u001b[0m\n",
      "\u001b[34mThere are 1 clusters with 106 cameras\u001b[0m\n",
      "\u001b[34mThere are 1 clusters with 109 cameras\u001b[0m\n",
      "\u001b[34mThere are 1 clusters with 116 cameras\u001b[0m\n",
      "\u001b[34mThere are 1 clusters with 118 cameras\u001b[0m\n",
      "\u001b[34mThere are 1 clusters with 121 cameras\u001b[0m\n",
      "\u001b[34mThere are 1 clusters with 122 cameras\u001b[0m\n",
      "\u001b[34mThere are 3 clusters with 123 cameras\u001b[0m\n",
      "\u001b[34mThere are 3 clusters with 124 cameras\u001b[0m\n",
      "\u001b[34mThere are 2 clusters with 126 cameras\u001b[0m\n",
      "\u001b[34mThere are 3 clusters with 127 cameras\u001b[0m\n",
      "\u001b[34mThere are 11 clusters with 128 cameras\u001b[0m\n",
      "\u001b[34mThere are 1 clusters with 131 cameras\u001b[0m\n",
      "\u001b[34mThere are 1 clusters with 134 cameras\u001b[0m\n",
      "\u001b[34mThere are 1 clusters with 187 cameras\u001b[0m\n",
      "\u001b[34mThere are 2 clusters with 188 cameras\u001b[0m\n",
      "\u001b[34mThere are 1 clusters with 190 cameras\u001b[0m\n",
      "\u001b[34mThere are 1 clusters with 192 cameras\u001b[0m\n",
      "\u001b[34mThere are 1 clusters with 338 cameras\u001b[0m\n",
      "\u001b[34mThere are 1 clusters with 361 cameras\u001b[0m\n",
      "Number of classes: 574\n",
      "\u001b[36mLearning Rate: 0.000140\u001b[0m\n",
      "encontrou modelos vgg16. Carregando...\n",
      "encontrou modelos resnet50. Carregando...\n",
      "encontrou modelos osnet. Carregando...\n",
      "encontrou modelos densenet121. Carregando...\n",
      "###============ Iteration number 9/90 ============###\n",
      "Extracting Online Features for vgg16 ...\n",
      "Features extracted in 245.60 seconds\n",
      "Computing jaccard distance...\n"
     ]
    },
    {
     "name": "stderr",
     "output_type": "stream",
     "text": [
      "bruteForceKnn is deprecated; call bfKnn instead\n"
     ]
    },
    {
     "name": "stdout",
     "output_type": "stream",
     "text": [
      "Jaccard distance computing time cost: 551.16765832901\n",
      "Extracting Online Features for resnet50 ...\n",
      "Features extracted in 246.10 seconds\n",
      "Computing jaccard distance...\n"
     ]
    },
    {
     "name": "stderr",
     "output_type": "stream",
     "text": [
      "bruteForceKnn is deprecated; call bfKnn instead\n"
     ]
    },
    {
     "name": "stdout",
     "output_type": "stream",
     "text": [
      "Jaccard distance computing time cost: 548.7039654254913\n",
      "Extracting Online Features for osnet ...\n",
      "Features extracted in 248.37 seconds\n",
      "Computing jaccard distance...\n"
     ]
    },
    {
     "name": "stderr",
     "output_type": "stream",
     "text": [
      "bruteForceKnn is deprecated; call bfKnn instead\n"
     ]
    },
    {
     "name": "stdout",
     "output_type": "stream",
     "text": [
      "Jaccard distance computing time cost: 538.6696884632111\n",
      "Extracting Online Features for densenet121 ...\n",
      "Features extracted in 242.51 seconds\n",
      "Computing jaccard distance...\n"
     ]
    },
    {
     "name": "stderr",
     "output_type": "stream",
     "text": [
      "bruteForceKnn is deprecated; call bfKnn instead\n"
     ]
    },
    {
     "name": "stdout",
     "output_type": "stream",
     "text": [
      "Jaccard distance computing time cost: 549.8548278808594\n",
      "Reliability: 0.992\n",
      "\u001b[32mMean Purity: 0.03921\u001b[0m\n",
      "\u001b[34mThere are 3 clusters with 4 cameras\u001b[0m\n",
      "\u001b[34mThere are 3 clusters with 5 cameras\u001b[0m\n",
      "\u001b[34mThere are 3 clusters with 6 cameras\u001b[0m\n",
      "\u001b[34mThere are 2 clusters with 7 cameras\u001b[0m\n",
      "\u001b[34mThere are 3 clusters with 8 cameras\u001b[0m\n",
      "\u001b[34mThere are 1 clusters with 9 cameras\u001b[0m\n",
      "\u001b[34mThere are 1 clusters with 10 cameras\u001b[0m\n",
      "\u001b[34mThere are 2 clusters with 12 cameras\u001b[0m\n",
      "\u001b[34mThere are 1 clusters with 14 cameras\u001b[0m\n",
      "\u001b[34mThere are 1 clusters with 16 cameras\u001b[0m\n",
      "\u001b[34mThere are 1 clusters with 17 cameras\u001b[0m\n",
      "\u001b[34mThere are 2 clusters with 18 cameras\u001b[0m\n",
      "\u001b[34mThere are 1 clusters with 35 cameras\u001b[0m\n",
      "\u001b[34mThere are 1 clusters with 43 cameras\u001b[0m\n",
      "\u001b[34mThere are 1 clusters with 44 cameras\u001b[0m\n",
      "\u001b[34mThere are 1 clusters with 46 cameras\u001b[0m\n",
      "\u001b[34mThere are 1 clusters with 50 cameras\u001b[0m\n",
      "\u001b[34mThere are 1 clusters with 52 cameras\u001b[0m\n",
      "\u001b[34mThere are 1 clusters with 53 cameras\u001b[0m\n",
      "\u001b[34mThere are 1 clusters with 54 cameras\u001b[0m\n",
      "\u001b[34mThere are 3 clusters with 55 cameras\u001b[0m\n",
      "\u001b[34mThere are 1 clusters with 56 cameras\u001b[0m\n",
      "\u001b[34mThere are 6 clusters with 57 cameras\u001b[0m\n",
      "\u001b[34mThere are 5 clusters with 58 cameras\u001b[0m\n",
      "\u001b[34mThere are 3 clusters with 59 cameras\u001b[0m\n",
      "\u001b[34mThere are 8 clusters with 60 cameras\u001b[0m\n",
      "\u001b[34mThere are 14 clusters with 61 cameras\u001b[0m\n",
      "\u001b[34mThere are 18 clusters with 62 cameras\u001b[0m\n",
      "\u001b[34mThere are 42 clusters with 63 cameras\u001b[0m\n",
      "\u001b[34mThere are 400 clusters with 64 cameras\u001b[0m\n",
      "\u001b[34mThere are 3 clusters with 66 cameras\u001b[0m\n",
      "\u001b[34mThere are 1 clusters with 68 cameras\u001b[0m\n",
      "\u001b[34mThere are 1 clusters with 69 cameras\u001b[0m\n",
      "\u001b[34mThere are 1 clusters with 73 cameras\u001b[0m\n",
      "\u001b[34mThere are 1 clusters with 106 cameras\u001b[0m\n",
      "\u001b[34mThere are 1 clusters with 109 cameras\u001b[0m\n",
      "\u001b[34mThere are 1 clusters with 116 cameras\u001b[0m\n",
      "\u001b[34mThere are 1 clusters with 118 cameras\u001b[0m\n",
      "\u001b[34mThere are 1 clusters with 121 cameras\u001b[0m\n",
      "\u001b[34mThere are 1 clusters with 122 cameras\u001b[0m\n",
      "\u001b[34mThere are 3 clusters with 123 cameras\u001b[0m\n",
      "\u001b[34mThere are 3 clusters with 124 cameras\u001b[0m\n",
      "\u001b[34mThere are 2 clusters with 126 cameras\u001b[0m\n",
      "\u001b[34mThere are 3 clusters with 127 cameras\u001b[0m\n",
      "\u001b[34mThere are 11 clusters with 128 cameras\u001b[0m\n",
      "\u001b[34mThere are 1 clusters with 131 cameras\u001b[0m\n",
      "\u001b[34mThere are 1 clusters with 134 cameras\u001b[0m\n",
      "\u001b[34mThere are 1 clusters with 187 cameras\u001b[0m\n",
      "\u001b[34mThere are 2 clusters with 188 cameras\u001b[0m\n",
      "\u001b[34mThere are 1 clusters with 190 cameras\u001b[0m\n",
      "\u001b[34mThere are 1 clusters with 192 cameras\u001b[0m\n",
      "\u001b[34mThere are 1 clusters with 338 cameras\u001b[0m\n",
      "\u001b[34mThere are 1 clusters with 361 cameras\u001b[0m\n",
      "Number of classes: 574\n",
      "\u001b[36mLearning Rate: 0.000158\u001b[0m\n",
      "encontrou modelos vgg16. Carregando...\n",
      "encontrou modelos resnet50. Carregando...\n",
      "encontrou modelos osnet. Carregando...\n",
      "encontrou modelos densenet121. Carregando...\n",
      "###============ Iteration number 10/90 ============###\n",
      "Extracting Online Features for vgg16 ...\n",
      "Features extracted in 242.11 seconds\n",
      "Computing jaccard distance...\n"
     ]
    },
    {
     "name": "stderr",
     "output_type": "stream",
     "text": [
      "bruteForceKnn is deprecated; call bfKnn instead\n"
     ]
    },
    {
     "name": "stdout",
     "output_type": "stream",
     "text": [
      "Jaccard distance computing time cost: 547.4761357307434\n",
      "Extracting Online Features for resnet50 ...\n",
      "Features extracted in 250.78 seconds\n",
      "Computing jaccard distance...\n"
     ]
    },
    {
     "name": "stderr",
     "output_type": "stream",
     "text": [
      "bruteForceKnn is deprecated; call bfKnn instead\n"
     ]
    },
    {
     "name": "stdout",
     "output_type": "stream",
     "text": [
      "Jaccard distance computing time cost: 549.4556174278259\n",
      "Extracting Online Features for osnet ...\n",
      "Features extracted in 255.79 seconds\n",
      "Computing jaccard distance...\n"
     ]
    },
    {
     "name": "stderr",
     "output_type": "stream",
     "text": [
      "bruteForceKnn is deprecated; call bfKnn instead\n"
     ]
    },
    {
     "name": "stdout",
     "output_type": "stream",
     "text": [
      "Jaccard distance computing time cost: 534.4949190616608\n",
      "Extracting Online Features for densenet121 ...\n",
      "Features extracted in 246.76 seconds\n",
      "Computing jaccard distance...\n"
     ]
    },
    {
     "name": "stderr",
     "output_type": "stream",
     "text": [
      "bruteForceKnn is deprecated; call bfKnn instead\n"
     ]
    },
    {
     "name": "stdout",
     "output_type": "stream",
     "text": [
      "Jaccard distance computing time cost: 534.8484635353088\n",
      "Reliability: 0.992\n",
      "\u001b[32mMean Purity: 0.03921\u001b[0m\n",
      "\u001b[34mThere are 3 clusters with 4 cameras\u001b[0m\n",
      "\u001b[34mThere are 3 clusters with 5 cameras\u001b[0m\n",
      "\u001b[34mThere are 3 clusters with 6 cameras\u001b[0m\n",
      "\u001b[34mThere are 2 clusters with 7 cameras\u001b[0m\n",
      "\u001b[34mThere are 3 clusters with 8 cameras\u001b[0m\n",
      "\u001b[34mThere are 1 clusters with 9 cameras\u001b[0m\n",
      "\u001b[34mThere are 1 clusters with 10 cameras\u001b[0m\n",
      "\u001b[34mThere are 2 clusters with 12 cameras\u001b[0m\n",
      "\u001b[34mThere are 1 clusters with 14 cameras\u001b[0m\n",
      "\u001b[34mThere are 1 clusters with 16 cameras\u001b[0m\n",
      "\u001b[34mThere are 1 clusters with 17 cameras\u001b[0m\n",
      "\u001b[34mThere are 2 clusters with 18 cameras\u001b[0m\n",
      "\u001b[34mThere are 1 clusters with 35 cameras\u001b[0m\n",
      "\u001b[34mThere are 1 clusters with 43 cameras\u001b[0m\n",
      "\u001b[34mThere are 1 clusters with 44 cameras\u001b[0m\n",
      "\u001b[34mThere are 1 clusters with 46 cameras\u001b[0m\n",
      "\u001b[34mThere are 1 clusters with 50 cameras\u001b[0m\n",
      "\u001b[34mThere are 1 clusters with 52 cameras\u001b[0m\n",
      "\u001b[34mThere are 1 clusters with 53 cameras\u001b[0m\n",
      "\u001b[34mThere are 1 clusters with 54 cameras\u001b[0m\n",
      "\u001b[34mThere are 3 clusters with 55 cameras\u001b[0m\n",
      "\u001b[34mThere are 1 clusters with 56 cameras\u001b[0m\n",
      "\u001b[34mThere are 6 clusters with 57 cameras\u001b[0m\n",
      "\u001b[34mThere are 5 clusters with 58 cameras\u001b[0m\n",
      "\u001b[34mThere are 3 clusters with 59 cameras\u001b[0m\n",
      "\u001b[34mThere are 8 clusters with 60 cameras\u001b[0m\n",
      "\u001b[34mThere are 14 clusters with 61 cameras\u001b[0m\n",
      "\u001b[34mThere are 18 clusters with 62 cameras\u001b[0m\n",
      "\u001b[34mThere are 42 clusters with 63 cameras\u001b[0m\n",
      "\u001b[34mThere are 400 clusters with 64 cameras\u001b[0m\n",
      "\u001b[34mThere are 3 clusters with 66 cameras\u001b[0m\n",
      "\u001b[34mThere are 1 clusters with 68 cameras\u001b[0m\n",
      "\u001b[34mThere are 1 clusters with 69 cameras\u001b[0m\n",
      "\u001b[34mThere are 1 clusters with 73 cameras\u001b[0m\n",
      "\u001b[34mThere are 1 clusters with 106 cameras\u001b[0m\n",
      "\u001b[34mThere are 1 clusters with 109 cameras\u001b[0m\n",
      "\u001b[34mThere are 1 clusters with 116 cameras\u001b[0m\n",
      "\u001b[34mThere are 1 clusters with 118 cameras\u001b[0m\n",
      "\u001b[34mThere are 1 clusters with 121 cameras\u001b[0m\n",
      "\u001b[34mThere are 1 clusters with 122 cameras\u001b[0m\n",
      "\u001b[34mThere are 3 clusters with 123 cameras\u001b[0m\n",
      "\u001b[34mThere are 3 clusters with 124 cameras\u001b[0m\n",
      "\u001b[34mThere are 2 clusters with 126 cameras\u001b[0m\n",
      "\u001b[34mThere are 3 clusters with 127 cameras\u001b[0m\n",
      "\u001b[34mThere are 11 clusters with 128 cameras\u001b[0m\n",
      "\u001b[34mThere are 1 clusters with 131 cameras\u001b[0m\n",
      "\u001b[34mThere are 1 clusters with 134 cameras\u001b[0m\n",
      "\u001b[34mThere are 1 clusters with 187 cameras\u001b[0m\n",
      "\u001b[34mThere are 2 clusters with 188 cameras\u001b[0m\n",
      "\u001b[34mThere are 1 clusters with 190 cameras\u001b[0m\n",
      "\u001b[34mThere are 1 clusters with 192 cameras\u001b[0m\n",
      "\u001b[34mThere are 1 clusters with 338 cameras\u001b[0m\n",
      "\u001b[34mThere are 1 clusters with 361 cameras\u001b[0m\n",
      "Number of classes: 574\n",
      "\u001b[36mLearning Rate: 0.000175\u001b[0m\n",
      "encontrou modelos vgg16. Carregando...\n",
      "encontrou modelos resnet50. Carregando...\n",
      "encontrou modelos osnet. Carregando...\n",
      "encontrou modelos densenet121. Carregando...\n",
      "\u001b[33mValidating online vgg16 ...\u001b[0m\n",
      "Features extracted in 79.36 seconds\n",
      "Features extracted in 145.86 seconds\n",
      "Computing CMC and mAP ...\n",
      "** Results **\n",
      "mAP: 70.12%\n",
      "CMC curve\n",
      "Rank-1  : 75.96%\n",
      "Rank-5  : 91.27%\n",
      "Rank-10 : 94.82%\n",
      "Rank-20 : 96.79%\n",
      "\u001b[33mValidating momentum vgg16 ...\u001b[0m\n",
      "Features extracted in 75.67 seconds\n",
      "Features extracted in 148.58 seconds\n",
      "Computing CMC and mAP ...\n",
      "** Results **\n",
      "mAP: 66.17%\n",
      "CMC curve\n",
      "Rank-1  : 60.22%\n",
      "Rank-5  : 85.69%\n",
      "Rank-10 : 92.76%\n",
      "Rank-20 : 97.47%\n",
      "\u001b[33mValidating online resnet50 ...\u001b[0m\n",
      "Features extracted in 79.18 seconds\n",
      "Features extracted in 146.27 seconds\n",
      "Computing CMC and mAP ...\n",
      "** Results **\n",
      "mAP: 67.50%\n",
      "CMC curve\n",
      "Rank-1  : 55.02%\n",
      "Rank-5  : 80.54%\n",
      "Rank-10 : 89.57%\n",
      "Rank-20 : 96.21%\n",
      "\u001b[33mValidating momentum resnet50 ...\u001b[0m\n",
      "Features extracted in 78.41 seconds\n",
      "Features extracted in 146.36 seconds\n",
      "Computing CMC and mAP ...\n",
      "** Results **\n",
      "mAP: 66.53%\n",
      "CMC curve\n",
      "Rank-1  : 51.40%\n",
      "Rank-5  : 82.97%\n",
      "Rank-10 : 92.60%\n",
      "Rank-20 : 97.67%\n",
      "\u001b[33mValidating online osnet ...\u001b[0m\n",
      "Features extracted in 78.20 seconds\n",
      "Features extracted in 144.86 seconds\n",
      "Computing CMC and mAP ...\n",
      "** Results **\n",
      "mAP: 70.98%\n",
      "CMC curve\n",
      "Rank-1  : 66.36%\n",
      "Rank-5  : 91.56%\n",
      "Rank-10 : 96.56%\n",
      "Rank-20 : 99.07%\n",
      "\u001b[33mValidating momentum osnet ...\u001b[0m\n",
      "Features extracted in 77.90 seconds\n",
      "Features extracted in 143.86 seconds\n",
      "Computing CMC and mAP ...\n",
      "** Results **\n",
      "mAP: 64.56%\n",
      "CMC curve\n",
      "Rank-1  : 55.77%\n",
      "Rank-5  : 86.08%\n",
      "Rank-10 : 94.11%\n",
      "Rank-20 : 97.92%\n",
      "\u001b[33mValidating online densenet121 ...\u001b[0m\n",
      "Features extracted in 80.27 seconds\n",
      "Features extracted in 148.05 seconds\n",
      "Computing CMC and mAP ...\n",
      "** Results **\n",
      "mAP: 69.32%\n",
      "CMC curve\n",
      "Rank-1  : 61.53%\n",
      "Rank-5  : 85.89%\n",
      "Rank-10 : 93.66%\n",
      "Rank-20 : 97.66%\n",
      "\u001b[33mValidating momentum densenet121 ...\u001b[0m\n",
      "Features extracted in 76.95 seconds\n",
      "Features extracted in 145.77 seconds\n",
      "Computing CMC and mAP ...\n",
      "** Results **\n",
      "mAP: 66.02%\n",
      "CMC curve\n",
      "Rank-1  : 63.00%\n",
      "Rank-5  : 91.00%\n",
      "Rank-10 : 96.36%\n",
      "Rank-20 : 98.94%\n",
      "\u001b[33mValidating ensembled with online models ...\u001b[0m\n",
      "Computing CMC and mAP ...\n",
      "** Results **\n",
      "mAP: 69.73%\n",
      "Ranks:\n",
      "Rank-1  : 63.31%\n",
      "Rank-5  : 83.51%\n",
      "Rank-10 : 91.32%\n",
      "\u001b[33mValidating ensembled with momentum models ...\u001b[0m\n",
      "Computing CMC and mAP ...\n",
      "** Results **\n",
      "mAP: 65.40%\n",
      "Ranks:\n",
      "Rank-1  : 60.95%\n",
      "Rank-5  : 84.80%\n",
      "Rank-10 : 92.04%\n",
      "###============ Iteration number 11/90 ============###\n",
      "Extracting Online Features for vgg16 ...\n",
      "Features extracted in 242.56 seconds\n",
      "Computing jaccard distance...\n"
     ]
    },
    {
     "name": "stderr",
     "output_type": "stream",
     "text": [
      "bruteForceKnn is deprecated; call bfKnn instead\n"
     ]
    },
    {
     "name": "stdout",
     "output_type": "stream",
     "text": [
      "Jaccard distance computing time cost: 547.3839387893677\n",
      "Extracting Online Features for resnet50 ...\n",
      "Features extracted in 246.35 seconds\n",
      "Computing jaccard distance...\n"
     ]
    },
    {
     "name": "stderr",
     "output_type": "stream",
     "text": [
      "bruteForceKnn is deprecated; call bfKnn instead\n"
     ]
    },
    {
     "name": "stdout",
     "output_type": "stream",
     "text": [
      "Jaccard distance computing time cost: 533.8764972686768\n",
      "Extracting Online Features for osnet ...\n",
      "Features extracted in 245.81 seconds\n",
      "Computing jaccard distance...\n"
     ]
    },
    {
     "name": "stderr",
     "output_type": "stream",
     "text": [
      "bruteForceKnn is deprecated; call bfKnn instead\n"
     ]
    },
    {
     "name": "stdout",
     "output_type": "stream",
     "text": [
      "Jaccard distance computing time cost: 534.1428439617157\n",
      "Extracting Online Features for densenet121 ...\n",
      "Features extracted in 246.75 seconds\n",
      "Computing jaccard distance...\n"
     ]
    },
    {
     "name": "stderr",
     "output_type": "stream",
     "text": [
      "bruteForceKnn is deprecated; call bfKnn instead\n"
     ]
    },
    {
     "name": "stdout",
     "output_type": "stream",
     "text": [
      "Jaccard distance computing time cost: 546.1955893039703\n",
      "Reliability: 0.992\n",
      "\u001b[32mMean Purity: 0.03921\u001b[0m\n",
      "\u001b[34mThere are 3 clusters with 4 cameras\u001b[0m\n",
      "\u001b[34mThere are 3 clusters with 5 cameras\u001b[0m\n",
      "\u001b[34mThere are 3 clusters with 6 cameras\u001b[0m\n",
      "\u001b[34mThere are 2 clusters with 7 cameras\u001b[0m\n",
      "\u001b[34mThere are 3 clusters with 8 cameras\u001b[0m\n",
      "\u001b[34mThere are 1 clusters with 9 cameras\u001b[0m\n",
      "\u001b[34mThere are 1 clusters with 10 cameras\u001b[0m\n",
      "\u001b[34mThere are 2 clusters with 12 cameras\u001b[0m\n",
      "\u001b[34mThere are 1 clusters with 14 cameras\u001b[0m\n",
      "\u001b[34mThere are 1 clusters with 16 cameras\u001b[0m\n",
      "\u001b[34mThere are 1 clusters with 17 cameras\u001b[0m\n",
      "\u001b[34mThere are 2 clusters with 18 cameras\u001b[0m\n",
      "\u001b[34mThere are 1 clusters with 35 cameras\u001b[0m\n",
      "\u001b[34mThere are 1 clusters with 43 cameras\u001b[0m\n",
      "\u001b[34mThere are 1 clusters with 44 cameras\u001b[0m\n",
      "\u001b[34mThere are 1 clusters with 46 cameras\u001b[0m\n",
      "\u001b[34mThere are 1 clusters with 50 cameras\u001b[0m\n",
      "\u001b[34mThere are 1 clusters with 52 cameras\u001b[0m\n",
      "\u001b[34mThere are 1 clusters with 53 cameras\u001b[0m\n",
      "\u001b[34mThere are 1 clusters with 54 cameras\u001b[0m\n",
      "\u001b[34mThere are 3 clusters with 55 cameras\u001b[0m\n",
      "\u001b[34mThere are 1 clusters with 56 cameras\u001b[0m\n",
      "\u001b[34mThere are 6 clusters with 57 cameras\u001b[0m\n",
      "\u001b[34mThere are 5 clusters with 58 cameras\u001b[0m\n",
      "\u001b[34mThere are 3 clusters with 59 cameras\u001b[0m\n",
      "\u001b[34mThere are 8 clusters with 60 cameras\u001b[0m\n",
      "\u001b[34mThere are 14 clusters with 61 cameras\u001b[0m\n",
      "\u001b[34mThere are 18 clusters with 62 cameras\u001b[0m\n",
      "\u001b[34mThere are 42 clusters with 63 cameras\u001b[0m\n",
      "\u001b[34mThere are 400 clusters with 64 cameras\u001b[0m\n",
      "\u001b[34mThere are 3 clusters with 66 cameras\u001b[0m\n",
      "\u001b[34mThere are 1 clusters with 68 cameras\u001b[0m\n",
      "\u001b[34mThere are 1 clusters with 69 cameras\u001b[0m\n",
      "\u001b[34mThere are 1 clusters with 73 cameras\u001b[0m\n",
      "\u001b[34mThere are 1 clusters with 106 cameras\u001b[0m\n",
      "\u001b[34mThere are 1 clusters with 109 cameras\u001b[0m\n",
      "\u001b[34mThere are 1 clusters with 116 cameras\u001b[0m\n",
      "\u001b[34mThere are 1 clusters with 118 cameras\u001b[0m\n",
      "\u001b[34mThere are 1 clusters with 121 cameras\u001b[0m\n",
      "\u001b[34mThere are 1 clusters with 122 cameras\u001b[0m\n",
      "\u001b[34mThere are 3 clusters with 123 cameras\u001b[0m\n",
      "\u001b[34mThere are 3 clusters with 124 cameras\u001b[0m\n",
      "\u001b[34mThere are 2 clusters with 126 cameras\u001b[0m\n",
      "\u001b[34mThere are 3 clusters with 127 cameras\u001b[0m\n",
      "\u001b[34mThere are 11 clusters with 128 cameras\u001b[0m\n",
      "\u001b[34mThere are 1 clusters with 131 cameras\u001b[0m\n",
      "\u001b[34mThere are 1 clusters with 134 cameras\u001b[0m\n",
      "\u001b[34mThere are 1 clusters with 187 cameras\u001b[0m\n",
      "\u001b[34mThere are 2 clusters with 188 cameras\u001b[0m\n",
      "\u001b[34mThere are 1 clusters with 190 cameras\u001b[0m\n",
      "\u001b[34mThere are 1 clusters with 192 cameras\u001b[0m\n",
      "\u001b[34mThere are 1 clusters with 338 cameras\u001b[0m\n",
      "\u001b[34mThere are 1 clusters with 361 cameras\u001b[0m\n",
      "Number of classes: 574\n",
      "\u001b[36mLearning Rate: 0.000193\u001b[0m\n",
      "encontrou modelos vgg16. Carregando...\n",
      "encontrou modelos resnet50. Carregando...\n",
      "encontrou modelos osnet. Carregando...\n",
      "encontrou modelos densenet121. Carregando...\n",
      "###============ Iteration number 12/90 ============###\n",
      "Extracting Online Features for vgg16 ...\n",
      "Features extracted in 250.56 seconds\n",
      "Computing jaccard distance...\n"
     ]
    },
    {
     "name": "stderr",
     "output_type": "stream",
     "text": [
      "bruteForceKnn is deprecated; call bfKnn instead\n"
     ]
    },
    {
     "name": "stdout",
     "output_type": "stream",
     "text": [
      "Jaccard distance computing time cost: 541.5585100650787\n",
      "Extracting Online Features for resnet50 ...\n",
      "Features extracted in 248.68 seconds\n",
      "Computing jaccard distance...\n"
     ]
    },
    {
     "name": "stderr",
     "output_type": "stream",
     "text": [
      "bruteForceKnn is deprecated; call bfKnn instead\n"
     ]
    },
    {
     "name": "stdout",
     "output_type": "stream",
     "text": [
      "Jaccard distance computing time cost: 528.2987914085388\n",
      "Extracting Online Features for osnet ...\n",
      "Features extracted in 255.82 seconds\n",
      "Computing jaccard distance...\n"
     ]
    },
    {
     "name": "stderr",
     "output_type": "stream",
     "text": [
      "bruteForceKnn is deprecated; call bfKnn instead\n"
     ]
    },
    {
     "name": "stdout",
     "output_type": "stream",
     "text": [
      "Jaccard distance computing time cost: 533.0660753250122\n",
      "Extracting Online Features for densenet121 ...\n",
      "Features extracted in 253.27 seconds\n",
      "Computing jaccard distance...\n"
     ]
    },
    {
     "name": "stderr",
     "output_type": "stream",
     "text": [
      "bruteForceKnn is deprecated; call bfKnn instead\n"
     ]
    },
    {
     "name": "stdout",
     "output_type": "stream",
     "text": [
      "Jaccard distance computing time cost: 532.9797897338867\n",
      "Reliability: 0.992\n",
      "\u001b[32mMean Purity: 0.03921\u001b[0m\n",
      "\u001b[34mThere are 3 clusters with 4 cameras\u001b[0m\n",
      "\u001b[34mThere are 3 clusters with 5 cameras\u001b[0m\n",
      "\u001b[34mThere are 3 clusters with 6 cameras\u001b[0m\n",
      "\u001b[34mThere are 2 clusters with 7 cameras\u001b[0m\n",
      "\u001b[34mThere are 3 clusters with 8 cameras\u001b[0m\n",
      "\u001b[34mThere are 1 clusters with 9 cameras\u001b[0m\n",
      "\u001b[34mThere are 1 clusters with 10 cameras\u001b[0m\n",
      "\u001b[34mThere are 2 clusters with 12 cameras\u001b[0m\n",
      "\u001b[34mThere are 1 clusters with 14 cameras\u001b[0m\n",
      "\u001b[34mThere are 1 clusters with 16 cameras\u001b[0m\n",
      "\u001b[34mThere are 1 clusters with 17 cameras\u001b[0m\n",
      "\u001b[34mThere are 2 clusters with 18 cameras\u001b[0m\n",
      "\u001b[34mThere are 1 clusters with 35 cameras\u001b[0m\n",
      "\u001b[34mThere are 1 clusters with 43 cameras\u001b[0m\n",
      "\u001b[34mThere are 1 clusters with 44 cameras\u001b[0m\n",
      "\u001b[34mThere are 1 clusters with 46 cameras\u001b[0m\n",
      "\u001b[34mThere are 1 clusters with 50 cameras\u001b[0m\n",
      "\u001b[34mThere are 1 clusters with 52 cameras\u001b[0m\n",
      "\u001b[34mThere are 1 clusters with 53 cameras\u001b[0m\n",
      "\u001b[34mThere are 1 clusters with 54 cameras\u001b[0m\n",
      "\u001b[34mThere are 3 clusters with 55 cameras\u001b[0m\n",
      "\u001b[34mThere are 1 clusters with 56 cameras\u001b[0m\n",
      "\u001b[34mThere are 6 clusters with 57 cameras\u001b[0m\n",
      "\u001b[34mThere are 5 clusters with 58 cameras\u001b[0m\n",
      "\u001b[34mThere are 3 clusters with 59 cameras\u001b[0m\n",
      "\u001b[34mThere are 8 clusters with 60 cameras\u001b[0m\n",
      "\u001b[34mThere are 14 clusters with 61 cameras\u001b[0m\n",
      "\u001b[34mThere are 18 clusters with 62 cameras\u001b[0m\n",
      "\u001b[34mThere are 42 clusters with 63 cameras\u001b[0m\n",
      "\u001b[34mThere are 400 clusters with 64 cameras\u001b[0m\n",
      "\u001b[34mThere are 3 clusters with 66 cameras\u001b[0m\n",
      "\u001b[34mThere are 1 clusters with 68 cameras\u001b[0m\n",
      "\u001b[34mThere are 1 clusters with 69 cameras\u001b[0m\n",
      "\u001b[34mThere are 1 clusters with 73 cameras\u001b[0m\n",
      "\u001b[34mThere are 1 clusters with 106 cameras\u001b[0m\n",
      "\u001b[34mThere are 1 clusters with 109 cameras\u001b[0m\n",
      "\u001b[34mThere are 1 clusters with 116 cameras\u001b[0m\n",
      "\u001b[34mThere are 1 clusters with 118 cameras\u001b[0m\n",
      "\u001b[34mThere are 1 clusters with 121 cameras\u001b[0m\n",
      "\u001b[34mThere are 1 clusters with 122 cameras\u001b[0m\n",
      "\u001b[34mThere are 3 clusters with 123 cameras\u001b[0m\n",
      "\u001b[34mThere are 3 clusters with 124 cameras\u001b[0m\n",
      "\u001b[34mThere are 2 clusters with 126 cameras\u001b[0m\n",
      "\u001b[34mThere are 3 clusters with 127 cameras\u001b[0m\n",
      "\u001b[34mThere are 11 clusters with 128 cameras\u001b[0m\n",
      "\u001b[34mThere are 1 clusters with 131 cameras\u001b[0m\n",
      "\u001b[34mThere are 1 clusters with 134 cameras\u001b[0m\n",
      "\u001b[34mThere are 1 clusters with 187 cameras\u001b[0m\n",
      "\u001b[34mThere are 2 clusters with 188 cameras\u001b[0m\n",
      "\u001b[34mThere are 1 clusters with 190 cameras\u001b[0m\n",
      "\u001b[34mThere are 1 clusters with 192 cameras\u001b[0m\n",
      "\u001b[34mThere are 1 clusters with 338 cameras\u001b[0m\n",
      "\u001b[34mThere are 1 clusters with 361 cameras\u001b[0m\n",
      "Number of classes: 574\n",
      "\u001b[36mLearning Rate: 0.000210\u001b[0m\n",
      "encontrou modelos vgg16. Carregando...\n",
      "encontrou modelos resnet50. Carregando...\n",
      "encontrou modelos osnet. Carregando...\n",
      "encontrou modelos densenet121. Carregando...\n",
      "###============ Iteration number 13/90 ============###\n",
      "Extracting Online Features for vgg16 ...\n",
      "Features extracted in 249.83 seconds\n",
      "Computing jaccard distance...\n"
     ]
    },
    {
     "name": "stderr",
     "output_type": "stream",
     "text": [
      "bruteForceKnn is deprecated; call bfKnn instead\n"
     ]
    },
    {
     "name": "stdout",
     "output_type": "stream",
     "text": [
      "Jaccard distance computing time cost: 535.8495690822601\n",
      "Extracting Online Features for resnet50 ...\n",
      "Features extracted in 245.62 seconds\n",
      "Computing jaccard distance...\n"
     ]
    },
    {
     "name": "stderr",
     "output_type": "stream",
     "text": [
      "bruteForceKnn is deprecated; call bfKnn instead\n"
     ]
    },
    {
     "name": "stdout",
     "output_type": "stream",
     "text": [
      "Jaccard distance computing time cost: 545.0579645633698\n",
      "Extracting Online Features for osnet ...\n",
      "Features extracted in 250.12 seconds\n",
      "Computing jaccard distance...\n"
     ]
    },
    {
     "name": "stderr",
     "output_type": "stream",
     "text": [
      "bruteForceKnn is deprecated; call bfKnn instead\n"
     ]
    },
    {
     "name": "stdout",
     "output_type": "stream",
     "text": [
      "Jaccard distance computing time cost: 526.6647620201111\n",
      "Extracting Online Features for densenet121 ...\n",
      "Features extracted in 248.04 seconds\n",
      "Computing jaccard distance...\n"
     ]
    },
    {
     "name": "stderr",
     "output_type": "stream",
     "text": [
      "bruteForceKnn is deprecated; call bfKnn instead\n"
     ]
    },
    {
     "name": "stdout",
     "output_type": "stream",
     "text": [
      "Jaccard distance computing time cost: 545.5216355323792\n",
      "Reliability: 0.992\n",
      "\u001b[32mMean Purity: 0.03921\u001b[0m\n",
      "\u001b[34mThere are 3 clusters with 4 cameras\u001b[0m\n",
      "\u001b[34mThere are 3 clusters with 5 cameras\u001b[0m\n",
      "\u001b[34mThere are 3 clusters with 6 cameras\u001b[0m\n",
      "\u001b[34mThere are 2 clusters with 7 cameras\u001b[0m\n",
      "\u001b[34mThere are 3 clusters with 8 cameras\u001b[0m\n",
      "\u001b[34mThere are 1 clusters with 9 cameras\u001b[0m\n",
      "\u001b[34mThere are 1 clusters with 10 cameras\u001b[0m\n",
      "\u001b[34mThere are 2 clusters with 12 cameras\u001b[0m\n",
      "\u001b[34mThere are 1 clusters with 14 cameras\u001b[0m\n",
      "\u001b[34mThere are 1 clusters with 16 cameras\u001b[0m\n",
      "\u001b[34mThere are 1 clusters with 17 cameras\u001b[0m\n",
      "\u001b[34mThere are 2 clusters with 18 cameras\u001b[0m\n",
      "\u001b[34mThere are 1 clusters with 35 cameras\u001b[0m\n",
      "\u001b[34mThere are 1 clusters with 43 cameras\u001b[0m\n",
      "\u001b[34mThere are 1 clusters with 44 cameras\u001b[0m\n",
      "\u001b[34mThere are 1 clusters with 46 cameras\u001b[0m\n",
      "\u001b[34mThere are 1 clusters with 50 cameras\u001b[0m\n",
      "\u001b[34mThere are 1 clusters with 52 cameras\u001b[0m\n",
      "\u001b[34mThere are 1 clusters with 53 cameras\u001b[0m\n",
      "\u001b[34mThere are 1 clusters with 54 cameras\u001b[0m\n",
      "\u001b[34mThere are 3 clusters with 55 cameras\u001b[0m\n",
      "\u001b[34mThere are 1 clusters with 56 cameras\u001b[0m\n",
      "\u001b[34mThere are 6 clusters with 57 cameras\u001b[0m\n",
      "\u001b[34mThere are 5 clusters with 58 cameras\u001b[0m\n",
      "\u001b[34mThere are 3 clusters with 59 cameras\u001b[0m\n",
      "\u001b[34mThere are 8 clusters with 60 cameras\u001b[0m\n",
      "\u001b[34mThere are 14 clusters with 61 cameras\u001b[0m\n",
      "\u001b[34mThere are 18 clusters with 62 cameras\u001b[0m\n",
      "\u001b[34mThere are 42 clusters with 63 cameras\u001b[0m\n",
      "\u001b[34mThere are 400 clusters with 64 cameras\u001b[0m\n",
      "\u001b[34mThere are 3 clusters with 66 cameras\u001b[0m\n",
      "\u001b[34mThere are 1 clusters with 68 cameras\u001b[0m\n",
      "\u001b[34mThere are 1 clusters with 69 cameras\u001b[0m\n",
      "\u001b[34mThere are 1 clusters with 73 cameras\u001b[0m\n",
      "\u001b[34mThere are 1 clusters with 106 cameras\u001b[0m\n",
      "\u001b[34mThere are 1 clusters with 109 cameras\u001b[0m\n",
      "\u001b[34mThere are 1 clusters with 116 cameras\u001b[0m\n",
      "\u001b[34mThere are 1 clusters with 118 cameras\u001b[0m\n",
      "\u001b[34mThere are 1 clusters with 121 cameras\u001b[0m\n",
      "\u001b[34mThere are 1 clusters with 122 cameras\u001b[0m\n",
      "\u001b[34mThere are 3 clusters with 123 cameras\u001b[0m\n",
      "\u001b[34mThere are 3 clusters with 124 cameras\u001b[0m\n",
      "\u001b[34mThere are 2 clusters with 126 cameras\u001b[0m\n",
      "\u001b[34mThere are 3 clusters with 127 cameras\u001b[0m\n",
      "\u001b[34mThere are 11 clusters with 128 cameras\u001b[0m\n",
      "\u001b[34mThere are 1 clusters with 131 cameras\u001b[0m\n",
      "\u001b[34mThere are 1 clusters with 134 cameras\u001b[0m\n",
      "\u001b[34mThere are 1 clusters with 187 cameras\u001b[0m\n",
      "\u001b[34mThere are 2 clusters with 188 cameras\u001b[0m\n",
      "\u001b[34mThere are 1 clusters with 190 cameras\u001b[0m\n",
      "\u001b[34mThere are 1 clusters with 192 cameras\u001b[0m\n",
      "\u001b[34mThere are 1 clusters with 338 cameras\u001b[0m\n",
      "\u001b[34mThere are 1 clusters with 361 cameras\u001b[0m\n",
      "Number of classes: 574\n",
      "\u001b[36mLearning Rate: 0.000228\u001b[0m\n",
      "encontrou modelos vgg16. Carregando...\n",
      "encontrou modelos resnet50. Carregando...\n",
      "encontrou modelos osnet. Carregando...\n",
      "encontrou modelos densenet121. Carregando...\n",
      "###============ Iteration number 14/90 ============###\n",
      "Extracting Online Features for vgg16 ...\n",
      "Features extracted in 247.41 seconds\n",
      "Computing jaccard distance...\n"
     ]
    },
    {
     "name": "stderr",
     "output_type": "stream",
     "text": [
      "bruteForceKnn is deprecated; call bfKnn instead\n"
     ]
    },
    {
     "name": "stdout",
     "output_type": "stream",
     "text": [
      "Jaccard distance computing time cost: 544.50275182724\n",
      "Extracting Online Features for resnet50 ...\n",
      "Features extracted in 246.59 seconds\n",
      "Computing jaccard distance...\n"
     ]
    },
    {
     "name": "stderr",
     "output_type": "stream",
     "text": [
      "bruteForceKnn is deprecated; call bfKnn instead\n"
     ]
    },
    {
     "name": "stdout",
     "output_type": "stream",
     "text": [
      "Jaccard distance computing time cost: 543.4095487594604\n",
      "Extracting Online Features for osnet ...\n",
      "Features extracted in 256.22 seconds\n",
      "Computing jaccard distance...\n"
     ]
    },
    {
     "name": "stderr",
     "output_type": "stream",
     "text": [
      "bruteForceKnn is deprecated; call bfKnn instead\n"
     ]
    },
    {
     "name": "stdout",
     "output_type": "stream",
     "text": [
      "Jaccard distance computing time cost: 534.682112455368\n",
      "Extracting Online Features for densenet121 ...\n",
      "Features extracted in 252.29 seconds\n",
      "Computing jaccard distance...\n"
     ]
    },
    {
     "name": "stderr",
     "output_type": "stream",
     "text": [
      "bruteForceKnn is deprecated; call bfKnn instead\n"
     ]
    },
    {
     "name": "stdout",
     "output_type": "stream",
     "text": [
      "Jaccard distance computing time cost: 534.223272562027\n",
      "Reliability: 0.992\n",
      "\u001b[32mMean Purity: 0.03921\u001b[0m\n",
      "\u001b[34mThere are 3 clusters with 4 cameras\u001b[0m\n",
      "\u001b[34mThere are 3 clusters with 5 cameras\u001b[0m\n",
      "\u001b[34mThere are 3 clusters with 6 cameras\u001b[0m\n",
      "\u001b[34mThere are 2 clusters with 7 cameras\u001b[0m\n",
      "\u001b[34mThere are 3 clusters with 8 cameras\u001b[0m\n",
      "\u001b[34mThere are 1 clusters with 9 cameras\u001b[0m\n",
      "\u001b[34mThere are 1 clusters with 10 cameras\u001b[0m\n",
      "\u001b[34mThere are 2 clusters with 12 cameras\u001b[0m\n",
      "\u001b[34mThere are 1 clusters with 14 cameras\u001b[0m\n",
      "\u001b[34mThere are 1 clusters with 16 cameras\u001b[0m\n",
      "\u001b[34mThere are 1 clusters with 17 cameras\u001b[0m\n",
      "\u001b[34mThere are 2 clusters with 18 cameras\u001b[0m\n",
      "\u001b[34mThere are 1 clusters with 35 cameras\u001b[0m\n",
      "\u001b[34mThere are 1 clusters with 43 cameras\u001b[0m\n",
      "\u001b[34mThere are 1 clusters with 44 cameras\u001b[0m\n",
      "\u001b[34mThere are 1 clusters with 46 cameras\u001b[0m\n",
      "\u001b[34mThere are 1 clusters with 50 cameras\u001b[0m\n",
      "\u001b[34mThere are 1 clusters with 52 cameras\u001b[0m\n",
      "\u001b[34mThere are 1 clusters with 53 cameras\u001b[0m\n",
      "\u001b[34mThere are 1 clusters with 54 cameras\u001b[0m\n",
      "\u001b[34mThere are 3 clusters with 55 cameras\u001b[0m\n",
      "\u001b[34mThere are 1 clusters with 56 cameras\u001b[0m\n",
      "\u001b[34mThere are 6 clusters with 57 cameras\u001b[0m\n",
      "\u001b[34mThere are 5 clusters with 58 cameras\u001b[0m\n",
      "\u001b[34mThere are 3 clusters with 59 cameras\u001b[0m\n",
      "\u001b[34mThere are 8 clusters with 60 cameras\u001b[0m\n",
      "\u001b[34mThere are 14 clusters with 61 cameras\u001b[0m\n",
      "\u001b[34mThere are 18 clusters with 62 cameras\u001b[0m\n",
      "\u001b[34mThere are 42 clusters with 63 cameras\u001b[0m\n",
      "\u001b[34mThere are 400 clusters with 64 cameras\u001b[0m\n",
      "\u001b[34mThere are 3 clusters with 66 cameras\u001b[0m\n",
      "\u001b[34mThere are 1 clusters with 68 cameras\u001b[0m\n",
      "\u001b[34mThere are 1 clusters with 69 cameras\u001b[0m\n",
      "\u001b[34mThere are 1 clusters with 73 cameras\u001b[0m\n",
      "\u001b[34mThere are 1 clusters with 106 cameras\u001b[0m\n",
      "\u001b[34mThere are 1 clusters with 109 cameras\u001b[0m\n",
      "\u001b[34mThere are 1 clusters with 116 cameras\u001b[0m\n",
      "\u001b[34mThere are 1 clusters with 118 cameras\u001b[0m\n",
      "\u001b[34mThere are 1 clusters with 121 cameras\u001b[0m\n",
      "\u001b[34mThere are 1 clusters with 122 cameras\u001b[0m\n",
      "\u001b[34mThere are 3 clusters with 123 cameras\u001b[0m\n",
      "\u001b[34mThere are 3 clusters with 124 cameras\u001b[0m\n",
      "\u001b[34mThere are 2 clusters with 126 cameras\u001b[0m\n",
      "\u001b[34mThere are 3 clusters with 127 cameras\u001b[0m\n",
      "\u001b[34mThere are 11 clusters with 128 cameras\u001b[0m\n",
      "\u001b[34mThere are 1 clusters with 131 cameras\u001b[0m\n",
      "\u001b[34mThere are 1 clusters with 134 cameras\u001b[0m\n",
      "\u001b[34mThere are 1 clusters with 187 cameras\u001b[0m\n",
      "\u001b[34mThere are 2 clusters with 188 cameras\u001b[0m\n",
      "\u001b[34mThere are 1 clusters with 190 cameras\u001b[0m\n",
      "\u001b[34mThere are 1 clusters with 192 cameras\u001b[0m\n",
      "\u001b[34mThere are 1 clusters with 338 cameras\u001b[0m\n",
      "\u001b[34mThere are 1 clusters with 361 cameras\u001b[0m\n",
      "Number of classes: 574\n",
      "\u001b[36mLearning Rate: 0.000245\u001b[0m\n",
      "encontrou modelos vgg16. Carregando...\n",
      "encontrou modelos resnet50. Carregando...\n",
      "encontrou modelos osnet. Carregando...\n",
      "encontrou modelos densenet121. Carregando...\n",
      "###============ Iteration number 15/90 ============###\n",
      "Extracting Online Features for vgg16 ...\n",
      "Features extracted in 255.95 seconds\n",
      "Computing jaccard distance...\n"
     ]
    },
    {
     "name": "stderr",
     "output_type": "stream",
     "text": [
      "bruteForceKnn is deprecated; call bfKnn instead\n"
     ]
    },
    {
     "name": "stdout",
     "output_type": "stream",
     "text": [
      "Jaccard distance computing time cost: 549.0811054706573\n",
      "Extracting Online Features for resnet50 ...\n",
      "Features extracted in 260.69 seconds\n",
      "Computing jaccard distance...\n"
     ]
    },
    {
     "name": "stderr",
     "output_type": "stream",
     "text": [
      "bruteForceKnn is deprecated; call bfKnn instead\n"
     ]
    },
    {
     "name": "stdout",
     "output_type": "stream",
     "text": [
      "Jaccard distance computing time cost: 546.3107402324677\n",
      "Extracting Online Features for osnet ...\n",
      "Features extracted in 256.26 seconds\n",
      "Computing jaccard distance...\n"
     ]
    },
    {
     "name": "stderr",
     "output_type": "stream",
     "text": [
      "bruteForceKnn is deprecated; call bfKnn instead\n"
     ]
    },
    {
     "name": "stdout",
     "output_type": "stream",
     "text": [
      "Jaccard distance computing time cost: 535.6121535301208\n",
      "Extracting Online Features for densenet121 ...\n",
      "Features extracted in 244.48 seconds\n",
      "Computing jaccard distance...\n"
     ]
    },
    {
     "name": "stderr",
     "output_type": "stream",
     "text": [
      "bruteForceKnn is deprecated; call bfKnn instead\n"
     ]
    },
    {
     "name": "stdout",
     "output_type": "stream",
     "text": [
      "Jaccard distance computing time cost: 550.3875703811646\n",
      "Reliability: 0.992\n",
      "\u001b[32mMean Purity: 0.03921\u001b[0m\n",
      "\u001b[34mThere are 3 clusters with 4 cameras\u001b[0m\n",
      "\u001b[34mThere are 3 clusters with 5 cameras\u001b[0m\n",
      "\u001b[34mThere are 3 clusters with 6 cameras\u001b[0m\n",
      "\u001b[34mThere are 2 clusters with 7 cameras\u001b[0m\n",
      "\u001b[34mThere are 3 clusters with 8 cameras\u001b[0m\n",
      "\u001b[34mThere are 1 clusters with 9 cameras\u001b[0m\n",
      "\u001b[34mThere are 1 clusters with 10 cameras\u001b[0m\n",
      "\u001b[34mThere are 2 clusters with 12 cameras\u001b[0m\n",
      "\u001b[34mThere are 1 clusters with 14 cameras\u001b[0m\n",
      "\u001b[34mThere are 1 clusters with 16 cameras\u001b[0m\n",
      "\u001b[34mThere are 1 clusters with 17 cameras\u001b[0m\n",
      "\u001b[34mThere are 2 clusters with 18 cameras\u001b[0m\n",
      "\u001b[34mThere are 1 clusters with 35 cameras\u001b[0m\n",
      "\u001b[34mThere are 1 clusters with 43 cameras\u001b[0m\n",
      "\u001b[34mThere are 1 clusters with 44 cameras\u001b[0m\n",
      "\u001b[34mThere are 1 clusters with 46 cameras\u001b[0m\n",
      "\u001b[34mThere are 1 clusters with 50 cameras\u001b[0m\n",
      "\u001b[34mThere are 1 clusters with 52 cameras\u001b[0m\n",
      "\u001b[34mThere are 1 clusters with 53 cameras\u001b[0m\n",
      "\u001b[34mThere are 1 clusters with 54 cameras\u001b[0m\n",
      "\u001b[34mThere are 3 clusters with 55 cameras\u001b[0m\n",
      "\u001b[34mThere are 1 clusters with 56 cameras\u001b[0m\n",
      "\u001b[34mThere are 6 clusters with 57 cameras\u001b[0m\n",
      "\u001b[34mThere are 5 clusters with 58 cameras\u001b[0m\n",
      "\u001b[34mThere are 3 clusters with 59 cameras\u001b[0m\n",
      "\u001b[34mThere are 8 clusters with 60 cameras\u001b[0m\n",
      "\u001b[34mThere are 14 clusters with 61 cameras\u001b[0m\n",
      "\u001b[34mThere are 18 clusters with 62 cameras\u001b[0m\n",
      "\u001b[34mThere are 42 clusters with 63 cameras\u001b[0m\n",
      "\u001b[34mThere are 400 clusters with 64 cameras\u001b[0m\n",
      "\u001b[34mThere are 3 clusters with 66 cameras\u001b[0m\n",
      "\u001b[34mThere are 1 clusters with 68 cameras\u001b[0m\n",
      "\u001b[34mThere are 1 clusters with 69 cameras\u001b[0m\n",
      "\u001b[34mThere are 1 clusters with 73 cameras\u001b[0m\n",
      "\u001b[34mThere are 1 clusters with 106 cameras\u001b[0m\n",
      "\u001b[34mThere are 1 clusters with 109 cameras\u001b[0m\n",
      "\u001b[34mThere are 1 clusters with 116 cameras\u001b[0m\n",
      "\u001b[34mThere are 1 clusters with 118 cameras\u001b[0m\n",
      "\u001b[34mThere are 1 clusters with 121 cameras\u001b[0m\n",
      "\u001b[34mThere are 1 clusters with 122 cameras\u001b[0m\n",
      "\u001b[34mThere are 3 clusters with 123 cameras\u001b[0m\n",
      "\u001b[34mThere are 3 clusters with 124 cameras\u001b[0m\n",
      "\u001b[34mThere are 2 clusters with 126 cameras\u001b[0m\n",
      "\u001b[34mThere are 3 clusters with 127 cameras\u001b[0m\n",
      "\u001b[34mThere are 11 clusters with 128 cameras\u001b[0m\n",
      "\u001b[34mThere are 1 clusters with 131 cameras\u001b[0m\n",
      "\u001b[34mThere are 1 clusters with 134 cameras\u001b[0m\n",
      "\u001b[34mThere are 1 clusters with 187 cameras\u001b[0m\n",
      "\u001b[34mThere are 2 clusters with 188 cameras\u001b[0m\n",
      "\u001b[34mThere are 1 clusters with 190 cameras\u001b[0m\n",
      "\u001b[34mThere are 1 clusters with 192 cameras\u001b[0m\n",
      "\u001b[34mThere are 1 clusters with 338 cameras\u001b[0m\n",
      "\u001b[34mThere are 1 clusters with 361 cameras\u001b[0m\n",
      "Number of classes: 574\n",
      "\u001b[36mLearning Rate: 0.000263\u001b[0m\n",
      "encontrou modelos vgg16. Carregando...\n",
      "encontrou modelos resnet50. Carregando...\n",
      "encontrou modelos osnet. Carregando...\n",
      "encontrou modelos densenet121. Carregando...\n",
      "\u001b[33mValidating online vgg16 ...\u001b[0m\n",
      "Features extracted in 80.47 seconds\n",
      "Features extracted in 146.96 seconds\n",
      "Computing CMC and mAP ...\n",
      "** Results **\n",
      "mAP: 70.12%\n",
      "CMC curve\n",
      "Rank-1  : 75.96%\n",
      "Rank-5  : 91.27%\n",
      "Rank-10 : 94.82%\n",
      "Rank-20 : 96.79%\n",
      "\u001b[33mValidating momentum vgg16 ...\u001b[0m\n",
      "Features extracted in 81.18 seconds\n",
      "Features extracted in 144.83 seconds\n",
      "Computing CMC and mAP ...\n",
      "** Results **\n",
      "mAP: 66.17%\n",
      "CMC curve\n",
      "Rank-1  : 60.22%\n",
      "Rank-5  : 85.69%\n",
      "Rank-10 : 92.76%\n",
      "Rank-20 : 97.47%\n",
      "\u001b[33mValidating online resnet50 ...\u001b[0m\n",
      "Features extracted in 76.70 seconds\n",
      "Features extracted in 145.97 seconds\n",
      "Computing CMC and mAP ...\n",
      "** Results **\n",
      "mAP: 67.50%\n",
      "CMC curve\n",
      "Rank-1  : 55.02%\n",
      "Rank-5  : 80.54%\n",
      "Rank-10 : 89.57%\n",
      "Rank-20 : 96.21%\n",
      "\u001b[33mValidating momentum resnet50 ...\u001b[0m\n",
      "Features extracted in 78.85 seconds\n",
      "Features extracted in 144.48 seconds\n",
      "Computing CMC and mAP ...\n",
      "** Results **\n",
      "mAP: 66.53%\n",
      "CMC curve\n",
      "Rank-1  : 51.40%\n",
      "Rank-5  : 82.97%\n",
      "Rank-10 : 92.60%\n",
      "Rank-20 : 97.67%\n",
      "\u001b[33mValidating online osnet ...\u001b[0m\n",
      "Features extracted in 77.43 seconds\n",
      "Features extracted in 141.83 seconds\n",
      "Computing CMC and mAP ...\n",
      "** Results **\n",
      "mAP: 70.98%\n",
      "CMC curve\n",
      "Rank-1  : 66.36%\n",
      "Rank-5  : 91.56%\n",
      "Rank-10 : 96.56%\n",
      "Rank-20 : 99.07%\n",
      "\u001b[33mValidating momentum osnet ...\u001b[0m\n",
      "Features extracted in 75.63 seconds\n",
      "Features extracted in 146.28 seconds\n",
      "Computing CMC and mAP ...\n",
      "** Results **\n",
      "mAP: 64.56%\n",
      "CMC curve\n",
      "Rank-1  : 55.77%\n",
      "Rank-5  : 86.08%\n",
      "Rank-10 : 94.11%\n",
      "Rank-20 : 97.92%\n",
      "\u001b[33mValidating online densenet121 ...\u001b[0m\n",
      "Features extracted in 78.03 seconds\n",
      "Features extracted in 148.16 seconds\n",
      "Computing CMC and mAP ...\n",
      "** Results **\n",
      "mAP: 69.32%\n",
      "CMC curve\n",
      "Rank-1  : 61.53%\n",
      "Rank-5  : 85.89%\n",
      "Rank-10 : 93.66%\n",
      "Rank-20 : 97.66%\n",
      "\u001b[33mValidating momentum densenet121 ...\u001b[0m\n",
      "Features extracted in 80.56 seconds\n",
      "Features extracted in 150.65 seconds\n",
      "Computing CMC and mAP ...\n",
      "** Results **\n",
      "mAP: 66.02%\n",
      "CMC curve\n",
      "Rank-1  : 63.00%\n",
      "Rank-5  : 91.00%\n",
      "Rank-10 : 96.36%\n",
      "Rank-20 : 98.94%\n",
      "\u001b[33mValidating ensembled with online models ...\u001b[0m\n",
      "Computing CMC and mAP ...\n",
      "** Results **\n",
      "mAP: 69.73%\n",
      "Ranks:\n",
      "Rank-1  : 63.31%\n",
      "Rank-5  : 83.51%\n",
      "Rank-10 : 91.32%\n",
      "\u001b[33mValidating ensembled with momentum models ...\u001b[0m\n",
      "Computing CMC and mAP ...\n",
      "** Results **\n",
      "mAP: 65.40%\n",
      "Ranks:\n",
      "Rank-1  : 60.95%\n",
      "Rank-5  : 84.80%\n",
      "Rank-10 : 92.04%\n",
      "###============ Iteration number 16/90 ============###\n",
      "Extracting Online Features for vgg16 ...\n",
      "Features extracted in 244.61 seconds\n",
      "Computing jaccard distance...\n"
     ]
    },
    {
     "name": "stderr",
     "output_type": "stream",
     "text": [
      "bruteForceKnn is deprecated; call bfKnn instead\n"
     ]
    },
    {
     "name": "stdout",
     "output_type": "stream",
     "text": [
      "Jaccard distance computing time cost: 546.999582529068\n",
      "Extracting Online Features for resnet50 ...\n",
      "Features extracted in 248.61 seconds\n",
      "Computing jaccard distance...\n"
     ]
    },
    {
     "name": "stderr",
     "output_type": "stream",
     "text": [
      "bruteForceKnn is deprecated; call bfKnn instead\n"
     ]
    },
    {
     "name": "stdout",
     "output_type": "stream",
     "text": [
      "Jaccard distance computing time cost: 551.1141474246979\n",
      "Extracting Online Features for osnet ...\n",
      "Features extracted in 243.37 seconds\n",
      "Computing jaccard distance...\n"
     ]
    },
    {
     "name": "stderr",
     "output_type": "stream",
     "text": [
      "bruteForceKnn is deprecated; call bfKnn instead\n"
     ]
    },
    {
     "name": "stdout",
     "output_type": "stream",
     "text": [
      "Jaccard distance computing time cost: 528.129522562027\n",
      "Extracting Online Features for densenet121 ...\n",
      "Features extracted in 250.71 seconds\n",
      "Computing jaccard distance...\n"
     ]
    },
    {
     "name": "stderr",
     "output_type": "stream",
     "text": [
      "bruteForceKnn is deprecated; call bfKnn instead\n"
     ]
    },
    {
     "name": "stdout",
     "output_type": "stream",
     "text": [
      "Jaccard distance computing time cost: 556.0871875286102\n",
      "Reliability: 0.992\n",
      "\u001b[32mMean Purity: 0.03921\u001b[0m\n",
      "\u001b[34mThere are 3 clusters with 4 cameras\u001b[0m\n",
      "\u001b[34mThere are 3 clusters with 5 cameras\u001b[0m\n",
      "\u001b[34mThere are 3 clusters with 6 cameras\u001b[0m\n",
      "\u001b[34mThere are 2 clusters with 7 cameras\u001b[0m\n",
      "\u001b[34mThere are 3 clusters with 8 cameras\u001b[0m\n",
      "\u001b[34mThere are 1 clusters with 9 cameras\u001b[0m\n",
      "\u001b[34mThere are 1 clusters with 10 cameras\u001b[0m\n",
      "\u001b[34mThere are 2 clusters with 12 cameras\u001b[0m\n",
      "\u001b[34mThere are 1 clusters with 14 cameras\u001b[0m\n",
      "\u001b[34mThere are 1 clusters with 16 cameras\u001b[0m\n",
      "\u001b[34mThere are 1 clusters with 17 cameras\u001b[0m\n",
      "\u001b[34mThere are 2 clusters with 18 cameras\u001b[0m\n",
      "\u001b[34mThere are 1 clusters with 35 cameras\u001b[0m\n",
      "\u001b[34mThere are 1 clusters with 43 cameras\u001b[0m\n",
      "\u001b[34mThere are 1 clusters with 44 cameras\u001b[0m\n",
      "\u001b[34mThere are 1 clusters with 46 cameras\u001b[0m\n",
      "\u001b[34mThere are 1 clusters with 50 cameras\u001b[0m\n",
      "\u001b[34mThere are 1 clusters with 52 cameras\u001b[0m\n",
      "\u001b[34mThere are 1 clusters with 53 cameras\u001b[0m\n",
      "\u001b[34mThere are 1 clusters with 54 cameras\u001b[0m\n",
      "\u001b[34mThere are 3 clusters with 55 cameras\u001b[0m\n",
      "\u001b[34mThere are 1 clusters with 56 cameras\u001b[0m\n",
      "\u001b[34mThere are 6 clusters with 57 cameras\u001b[0m\n",
      "\u001b[34mThere are 5 clusters with 58 cameras\u001b[0m\n",
      "\u001b[34mThere are 3 clusters with 59 cameras\u001b[0m\n",
      "\u001b[34mThere are 8 clusters with 60 cameras\u001b[0m\n",
      "\u001b[34mThere are 14 clusters with 61 cameras\u001b[0m\n",
      "\u001b[34mThere are 18 clusters with 62 cameras\u001b[0m\n",
      "\u001b[34mThere are 42 clusters with 63 cameras\u001b[0m\n",
      "\u001b[34mThere are 400 clusters with 64 cameras\u001b[0m\n",
      "\u001b[34mThere are 3 clusters with 66 cameras\u001b[0m\n",
      "\u001b[34mThere are 1 clusters with 68 cameras\u001b[0m\n",
      "\u001b[34mThere are 1 clusters with 69 cameras\u001b[0m\n",
      "\u001b[34mThere are 1 clusters with 73 cameras\u001b[0m\n",
      "\u001b[34mThere are 1 clusters with 106 cameras\u001b[0m\n",
      "\u001b[34mThere are 1 clusters with 109 cameras\u001b[0m\n",
      "\u001b[34mThere are 1 clusters with 116 cameras\u001b[0m\n",
      "\u001b[34mThere are 1 clusters with 118 cameras\u001b[0m\n",
      "\u001b[34mThere are 1 clusters with 121 cameras\u001b[0m\n",
      "\u001b[34mThere are 1 clusters with 122 cameras\u001b[0m\n",
      "\u001b[34mThere are 3 clusters with 123 cameras\u001b[0m\n",
      "\u001b[34mThere are 3 clusters with 124 cameras\u001b[0m\n",
      "\u001b[34mThere are 2 clusters with 126 cameras\u001b[0m\n",
      "\u001b[34mThere are 3 clusters with 127 cameras\u001b[0m\n",
      "\u001b[34mThere are 11 clusters with 128 cameras\u001b[0m\n",
      "\u001b[34mThere are 1 clusters with 131 cameras\u001b[0m\n",
      "\u001b[34mThere are 1 clusters with 134 cameras\u001b[0m\n",
      "\u001b[34mThere are 1 clusters with 187 cameras\u001b[0m\n",
      "\u001b[34mThere are 2 clusters with 188 cameras\u001b[0m\n",
      "\u001b[34mThere are 1 clusters with 190 cameras\u001b[0m\n",
      "\u001b[34mThere are 1 clusters with 192 cameras\u001b[0m\n",
      "\u001b[34mThere are 1 clusters with 338 cameras\u001b[0m\n",
      "\u001b[34mThere are 1 clusters with 361 cameras\u001b[0m\n",
      "Number of classes: 574\n",
      "\u001b[36mLearning Rate: 0.000280\u001b[0m\n",
      "encontrou modelos vgg16. Carregando...\n",
      "encontrou modelos resnet50. Carregando...\n",
      "encontrou modelos osnet. Carregando...\n",
      "encontrou modelos densenet121. Carregando...\n",
      "###============ Iteration number 17/90 ============###\n",
      "Extracting Online Features for vgg16 ...\n",
      "Features extracted in 247.37 seconds\n",
      "Computing jaccard distance...\n"
     ]
    },
    {
     "name": "stderr",
     "output_type": "stream",
     "text": [
      "bruteForceKnn is deprecated; call bfKnn instead\n"
     ]
    },
    {
     "name": "stdout",
     "output_type": "stream",
     "text": [
      "Jaccard distance computing time cost: 551.6006500720978\n",
      "Extracting Online Features for resnet50 ...\n",
      "Features extracted in 249.08 seconds\n",
      "Computing jaccard distance...\n"
     ]
    },
    {
     "name": "stderr",
     "output_type": "stream",
     "text": [
      "bruteForceKnn is deprecated; call bfKnn instead\n"
     ]
    },
    {
     "name": "stdout",
     "output_type": "stream",
     "text": [
      "Jaccard distance computing time cost: 549.4064095020294\n",
      "Extracting Online Features for osnet ...\n",
      "Features extracted in 248.04 seconds\n",
      "Computing jaccard distance...\n"
     ]
    },
    {
     "name": "stderr",
     "output_type": "stream",
     "text": [
      "bruteForceKnn is deprecated; call bfKnn instead\n"
     ]
    },
    {
     "name": "stdout",
     "output_type": "stream",
     "text": [
      "Jaccard distance computing time cost: 534.4901688098907\n",
      "Extracting Online Features for densenet121 ...\n",
      "Features extracted in 241.64 seconds\n",
      "Computing jaccard distance...\n"
     ]
    },
    {
     "name": "stderr",
     "output_type": "stream",
     "text": [
      "bruteForceKnn is deprecated; call bfKnn instead\n"
     ]
    },
    {
     "name": "stdout",
     "output_type": "stream",
     "text": [
      "Jaccard distance computing time cost: 547.3134126663208\n",
      "Reliability: 0.992\n",
      "\u001b[32mMean Purity: 0.03921\u001b[0m\n",
      "\u001b[34mThere are 3 clusters with 4 cameras\u001b[0m\n",
      "\u001b[34mThere are 3 clusters with 5 cameras\u001b[0m\n",
      "\u001b[34mThere are 3 clusters with 6 cameras\u001b[0m\n",
      "\u001b[34mThere are 2 clusters with 7 cameras\u001b[0m\n",
      "\u001b[34mThere are 3 clusters with 8 cameras\u001b[0m\n",
      "\u001b[34mThere are 1 clusters with 9 cameras\u001b[0m\n",
      "\u001b[34mThere are 1 clusters with 10 cameras\u001b[0m\n",
      "\u001b[34mThere are 2 clusters with 12 cameras\u001b[0m\n",
      "\u001b[34mThere are 1 clusters with 14 cameras\u001b[0m\n",
      "\u001b[34mThere are 1 clusters with 16 cameras\u001b[0m\n",
      "\u001b[34mThere are 1 clusters with 17 cameras\u001b[0m\n",
      "\u001b[34mThere are 2 clusters with 18 cameras\u001b[0m\n",
      "\u001b[34mThere are 1 clusters with 35 cameras\u001b[0m\n",
      "\u001b[34mThere are 1 clusters with 43 cameras\u001b[0m\n",
      "\u001b[34mThere are 1 clusters with 44 cameras\u001b[0m\n",
      "\u001b[34mThere are 1 clusters with 46 cameras\u001b[0m\n",
      "\u001b[34mThere are 1 clusters with 50 cameras\u001b[0m\n",
      "\u001b[34mThere are 1 clusters with 52 cameras\u001b[0m\n",
      "\u001b[34mThere are 1 clusters with 53 cameras\u001b[0m\n",
      "\u001b[34mThere are 1 clusters with 54 cameras\u001b[0m\n",
      "\u001b[34mThere are 3 clusters with 55 cameras\u001b[0m\n",
      "\u001b[34mThere are 1 clusters with 56 cameras\u001b[0m\n",
      "\u001b[34mThere are 6 clusters with 57 cameras\u001b[0m\n",
      "\u001b[34mThere are 5 clusters with 58 cameras\u001b[0m\n",
      "\u001b[34mThere are 3 clusters with 59 cameras\u001b[0m\n",
      "\u001b[34mThere are 8 clusters with 60 cameras\u001b[0m\n",
      "\u001b[34mThere are 14 clusters with 61 cameras\u001b[0m\n",
      "\u001b[34mThere are 18 clusters with 62 cameras\u001b[0m\n",
      "\u001b[34mThere are 42 clusters with 63 cameras\u001b[0m\n",
      "\u001b[34mThere are 400 clusters with 64 cameras\u001b[0m\n",
      "\u001b[34mThere are 3 clusters with 66 cameras\u001b[0m\n",
      "\u001b[34mThere are 1 clusters with 68 cameras\u001b[0m\n",
      "\u001b[34mThere are 1 clusters with 69 cameras\u001b[0m\n",
      "\u001b[34mThere are 1 clusters with 73 cameras\u001b[0m\n",
      "\u001b[34mThere are 1 clusters with 106 cameras\u001b[0m\n",
      "\u001b[34mThere are 1 clusters with 109 cameras\u001b[0m\n",
      "\u001b[34mThere are 1 clusters with 116 cameras\u001b[0m\n",
      "\u001b[34mThere are 1 clusters with 118 cameras\u001b[0m\n",
      "\u001b[34mThere are 1 clusters with 121 cameras\u001b[0m\n",
      "\u001b[34mThere are 1 clusters with 122 cameras\u001b[0m\n",
      "\u001b[34mThere are 3 clusters with 123 cameras\u001b[0m\n",
      "\u001b[34mThere are 3 clusters with 124 cameras\u001b[0m\n",
      "\u001b[34mThere are 2 clusters with 126 cameras\u001b[0m\n",
      "\u001b[34mThere are 3 clusters with 127 cameras\u001b[0m\n",
      "\u001b[34mThere are 11 clusters with 128 cameras\u001b[0m\n",
      "\u001b[34mThere are 1 clusters with 131 cameras\u001b[0m\n",
      "\u001b[34mThere are 1 clusters with 134 cameras\u001b[0m\n",
      "\u001b[34mThere are 1 clusters with 187 cameras\u001b[0m\n",
      "\u001b[34mThere are 2 clusters with 188 cameras\u001b[0m\n",
      "\u001b[34mThere are 1 clusters with 190 cameras\u001b[0m\n",
      "\u001b[34mThere are 1 clusters with 192 cameras\u001b[0m\n",
      "\u001b[34mThere are 1 clusters with 338 cameras\u001b[0m\n",
      "\u001b[34mThere are 1 clusters with 361 cameras\u001b[0m\n",
      "Number of classes: 574\n",
      "\u001b[36mLearning Rate: 0.000298\u001b[0m\n",
      "encontrou modelos vgg16. Carregando...\n",
      "encontrou modelos resnet50. Carregando...\n",
      "encontrou modelos osnet. Carregando...\n",
      "encontrou modelos densenet121. Carregando...\n",
      "###============ Iteration number 18/90 ============###\n",
      "Extracting Online Features for vgg16 ...\n",
      "Features extracted in 247.69 seconds\n",
      "Computing jaccard distance...\n"
     ]
    },
    {
     "name": "stderr",
     "output_type": "stream",
     "text": [
      "bruteForceKnn is deprecated; call bfKnn instead\n"
     ]
    },
    {
     "name": "stdout",
     "output_type": "stream",
     "text": [
      "Jaccard distance computing time cost: 565.1087634563446\n",
      "Extracting Online Features for resnet50 ...\n",
      "Features extracted in 239.03 seconds\n",
      "Computing jaccard distance...\n"
     ]
    },
    {
     "name": "stderr",
     "output_type": "stream",
     "text": [
      "bruteForceKnn is deprecated; call bfKnn instead\n"
     ]
    },
    {
     "name": "stdout",
     "output_type": "stream",
     "text": [
      "Jaccard distance computing time cost: 538.4891042709351\n",
      "Extracting Online Features for osnet ...\n",
      "Features extracted in 249.38 seconds\n",
      "Computing jaccard distance...\n"
     ]
    },
    {
     "name": "stderr",
     "output_type": "stream",
     "text": [
      "bruteForceKnn is deprecated; call bfKnn instead\n"
     ]
    },
    {
     "name": "stdout",
     "output_type": "stream",
     "text": [
      "Jaccard distance computing time cost: 531.851861000061\n",
      "Extracting Online Features for densenet121 ...\n",
      "Features extracted in 244.81 seconds\n",
      "Computing jaccard distance...\n"
     ]
    },
    {
     "name": "stderr",
     "output_type": "stream",
     "text": [
      "bruteForceKnn is deprecated; call bfKnn instead\n"
     ]
    },
    {
     "name": "stdout",
     "output_type": "stream",
     "text": [
      "Jaccard distance computing time cost: 531.3238813877106\n",
      "Reliability: 0.992\n",
      "\u001b[32mMean Purity: 0.03921\u001b[0m\n",
      "\u001b[34mThere are 3 clusters with 4 cameras\u001b[0m\n",
      "\u001b[34mThere are 3 clusters with 5 cameras\u001b[0m\n",
      "\u001b[34mThere are 3 clusters with 6 cameras\u001b[0m\n",
      "\u001b[34mThere are 2 clusters with 7 cameras\u001b[0m\n",
      "\u001b[34mThere are 3 clusters with 8 cameras\u001b[0m\n",
      "\u001b[34mThere are 1 clusters with 9 cameras\u001b[0m\n",
      "\u001b[34mThere are 1 clusters with 10 cameras\u001b[0m\n",
      "\u001b[34mThere are 2 clusters with 12 cameras\u001b[0m\n",
      "\u001b[34mThere are 1 clusters with 14 cameras\u001b[0m\n",
      "\u001b[34mThere are 1 clusters with 16 cameras\u001b[0m\n",
      "\u001b[34mThere are 1 clusters with 17 cameras\u001b[0m\n",
      "\u001b[34mThere are 2 clusters with 18 cameras\u001b[0m\n",
      "\u001b[34mThere are 1 clusters with 35 cameras\u001b[0m\n",
      "\u001b[34mThere are 1 clusters with 43 cameras\u001b[0m\n",
      "\u001b[34mThere are 1 clusters with 44 cameras\u001b[0m\n",
      "\u001b[34mThere are 1 clusters with 46 cameras\u001b[0m\n",
      "\u001b[34mThere are 1 clusters with 50 cameras\u001b[0m\n",
      "\u001b[34mThere are 1 clusters with 52 cameras\u001b[0m\n",
      "\u001b[34mThere are 1 clusters with 53 cameras\u001b[0m\n",
      "\u001b[34mThere are 1 clusters with 54 cameras\u001b[0m\n",
      "\u001b[34mThere are 3 clusters with 55 cameras\u001b[0m\n",
      "\u001b[34mThere are 1 clusters with 56 cameras\u001b[0m\n",
      "\u001b[34mThere are 6 clusters with 57 cameras\u001b[0m\n",
      "\u001b[34mThere are 5 clusters with 58 cameras\u001b[0m\n",
      "\u001b[34mThere are 3 clusters with 59 cameras\u001b[0m\n",
      "\u001b[34mThere are 8 clusters with 60 cameras\u001b[0m\n",
      "\u001b[34mThere are 14 clusters with 61 cameras\u001b[0m\n",
      "\u001b[34mThere are 18 clusters with 62 cameras\u001b[0m\n",
      "\u001b[34mThere are 42 clusters with 63 cameras\u001b[0m\n",
      "\u001b[34mThere are 400 clusters with 64 cameras\u001b[0m\n",
      "\u001b[34mThere are 3 clusters with 66 cameras\u001b[0m\n",
      "\u001b[34mThere are 1 clusters with 68 cameras\u001b[0m\n",
      "\u001b[34mThere are 1 clusters with 69 cameras\u001b[0m\n",
      "\u001b[34mThere are 1 clusters with 73 cameras\u001b[0m\n",
      "\u001b[34mThere are 1 clusters with 106 cameras\u001b[0m\n",
      "\u001b[34mThere are 1 clusters with 109 cameras\u001b[0m\n",
      "\u001b[34mThere are 1 clusters with 116 cameras\u001b[0m\n",
      "\u001b[34mThere are 1 clusters with 118 cameras\u001b[0m\n",
      "\u001b[34mThere are 1 clusters with 121 cameras\u001b[0m\n",
      "\u001b[34mThere are 1 clusters with 122 cameras\u001b[0m\n",
      "\u001b[34mThere are 3 clusters with 123 cameras\u001b[0m\n",
      "\u001b[34mThere are 3 clusters with 124 cameras\u001b[0m\n",
      "\u001b[34mThere are 2 clusters with 126 cameras\u001b[0m\n",
      "\u001b[34mThere are 3 clusters with 127 cameras\u001b[0m\n",
      "\u001b[34mThere are 11 clusters with 128 cameras\u001b[0m\n",
      "\u001b[34mThere are 1 clusters with 131 cameras\u001b[0m\n",
      "\u001b[34mThere are 1 clusters with 134 cameras\u001b[0m\n",
      "\u001b[34mThere are 1 clusters with 187 cameras\u001b[0m\n",
      "\u001b[34mThere are 2 clusters with 188 cameras\u001b[0m\n",
      "\u001b[34mThere are 1 clusters with 190 cameras\u001b[0m\n",
      "\u001b[34mThere are 1 clusters with 192 cameras\u001b[0m\n",
      "\u001b[34mThere are 1 clusters with 338 cameras\u001b[0m\n",
      "\u001b[34mThere are 1 clusters with 361 cameras\u001b[0m\n",
      "Number of classes: 574\n",
      "\u001b[36mLearning Rate: 0.000315\u001b[0m\n",
      "encontrou modelos vgg16. Carregando...\n",
      "encontrou modelos resnet50. Carregando...\n",
      "encontrou modelos osnet. Carregando...\n",
      "encontrou modelos densenet121. Carregando...\n",
      "###============ Iteration number 19/90 ============###\n",
      "Extracting Online Features for vgg16 ...\n",
      "Features extracted in 249.67 seconds\n",
      "Computing jaccard distance...\n"
     ]
    },
    {
     "name": "stderr",
     "output_type": "stream",
     "text": [
      "bruteForceKnn is deprecated; call bfKnn instead\n"
     ]
    },
    {
     "name": "stdout",
     "output_type": "stream",
     "text": [
      "Jaccard distance computing time cost: 540.5869319438934\n",
      "Extracting Online Features for resnet50 ...\n",
      "Features extracted in 252.37 seconds\n",
      "Computing jaccard distance...\n"
     ]
    },
    {
     "name": "stderr",
     "output_type": "stream",
     "text": [
      "bruteForceKnn is deprecated; call bfKnn instead\n"
     ]
    },
    {
     "name": "stdout",
     "output_type": "stream",
     "text": [
      "Jaccard distance computing time cost: 546.5859525203705\n",
      "Extracting Online Features for osnet ...\n",
      "Features extracted in 245.08 seconds\n",
      "Computing jaccard distance...\n"
     ]
    },
    {
     "name": "stderr",
     "output_type": "stream",
     "text": [
      "bruteForceKnn is deprecated; call bfKnn instead\n"
     ]
    },
    {
     "name": "stdout",
     "output_type": "stream",
     "text": [
      "Jaccard distance computing time cost: 535.3436496257782\n",
      "Extracting Online Features for densenet121 ...\n",
      "Features extracted in 248.79 seconds\n",
      "Computing jaccard distance...\n"
     ]
    },
    {
     "name": "stderr",
     "output_type": "stream",
     "text": [
      "bruteForceKnn is deprecated; call bfKnn instead\n"
     ]
    },
    {
     "name": "stdout",
     "output_type": "stream",
     "text": [
      "Jaccard distance computing time cost: 548.183445930481\n",
      "Reliability: 0.992\n",
      "\u001b[32mMean Purity: 0.03921\u001b[0m\n",
      "\u001b[34mThere are 3 clusters with 4 cameras\u001b[0m\n",
      "\u001b[34mThere are 3 clusters with 5 cameras\u001b[0m\n",
      "\u001b[34mThere are 3 clusters with 6 cameras\u001b[0m\n",
      "\u001b[34mThere are 2 clusters with 7 cameras\u001b[0m\n",
      "\u001b[34mThere are 3 clusters with 8 cameras\u001b[0m\n",
      "\u001b[34mThere are 1 clusters with 9 cameras\u001b[0m\n",
      "\u001b[34mThere are 1 clusters with 10 cameras\u001b[0m\n",
      "\u001b[34mThere are 2 clusters with 12 cameras\u001b[0m\n",
      "\u001b[34mThere are 1 clusters with 14 cameras\u001b[0m\n",
      "\u001b[34mThere are 1 clusters with 16 cameras\u001b[0m\n",
      "\u001b[34mThere are 1 clusters with 17 cameras\u001b[0m\n",
      "\u001b[34mThere are 2 clusters with 18 cameras\u001b[0m\n",
      "\u001b[34mThere are 1 clusters with 35 cameras\u001b[0m\n",
      "\u001b[34mThere are 1 clusters with 43 cameras\u001b[0m\n",
      "\u001b[34mThere are 1 clusters with 44 cameras\u001b[0m\n",
      "\u001b[34mThere are 1 clusters with 46 cameras\u001b[0m\n",
      "\u001b[34mThere are 1 clusters with 50 cameras\u001b[0m\n",
      "\u001b[34mThere are 1 clusters with 52 cameras\u001b[0m\n",
      "\u001b[34mThere are 1 clusters with 53 cameras\u001b[0m\n",
      "\u001b[34mThere are 1 clusters with 54 cameras\u001b[0m\n",
      "\u001b[34mThere are 3 clusters with 55 cameras\u001b[0m\n",
      "\u001b[34mThere are 1 clusters with 56 cameras\u001b[0m\n",
      "\u001b[34mThere are 6 clusters with 57 cameras\u001b[0m\n",
      "\u001b[34mThere are 5 clusters with 58 cameras\u001b[0m\n",
      "\u001b[34mThere are 3 clusters with 59 cameras\u001b[0m\n",
      "\u001b[34mThere are 8 clusters with 60 cameras\u001b[0m\n",
      "\u001b[34mThere are 14 clusters with 61 cameras\u001b[0m\n",
      "\u001b[34mThere are 18 clusters with 62 cameras\u001b[0m\n",
      "\u001b[34mThere are 42 clusters with 63 cameras\u001b[0m\n",
      "\u001b[34mThere are 400 clusters with 64 cameras\u001b[0m\n",
      "\u001b[34mThere are 3 clusters with 66 cameras\u001b[0m\n",
      "\u001b[34mThere are 1 clusters with 68 cameras\u001b[0m\n",
      "\u001b[34mThere are 1 clusters with 69 cameras\u001b[0m\n",
      "\u001b[34mThere are 1 clusters with 73 cameras\u001b[0m\n",
      "\u001b[34mThere are 1 clusters with 106 cameras\u001b[0m\n",
      "\u001b[34mThere are 1 clusters with 109 cameras\u001b[0m\n",
      "\u001b[34mThere are 1 clusters with 116 cameras\u001b[0m\n",
      "\u001b[34mThere are 1 clusters with 118 cameras\u001b[0m\n",
      "\u001b[34mThere are 1 clusters with 121 cameras\u001b[0m\n",
      "\u001b[34mThere are 1 clusters with 122 cameras\u001b[0m\n",
      "\u001b[34mThere are 3 clusters with 123 cameras\u001b[0m\n",
      "\u001b[34mThere are 3 clusters with 124 cameras\u001b[0m\n",
      "\u001b[34mThere are 2 clusters with 126 cameras\u001b[0m\n",
      "\u001b[34mThere are 3 clusters with 127 cameras\u001b[0m\n",
      "\u001b[34mThere are 11 clusters with 128 cameras\u001b[0m\n",
      "\u001b[34mThere are 1 clusters with 131 cameras\u001b[0m\n",
      "\u001b[34mThere are 1 clusters with 134 cameras\u001b[0m\n",
      "\u001b[34mThere are 1 clusters with 187 cameras\u001b[0m\n",
      "\u001b[34mThere are 2 clusters with 188 cameras\u001b[0m\n",
      "\u001b[34mThere are 1 clusters with 190 cameras\u001b[0m\n",
      "\u001b[34mThere are 1 clusters with 192 cameras\u001b[0m\n",
      "\u001b[34mThere are 1 clusters with 338 cameras\u001b[0m\n",
      "\u001b[34mThere are 1 clusters with 361 cameras\u001b[0m\n",
      "Number of classes: 574\n",
      "\u001b[36mLearning Rate: 0.000333\u001b[0m\n",
      "encontrou modelos vgg16. Carregando...\n",
      "encontrou modelos resnet50. Carregando...\n",
      "encontrou modelos osnet. Carregando...\n",
      "encontrou modelos densenet121. Carregando...\n",
      "###============ Iteration number 20/90 ============###\n",
      "Extracting Online Features for vgg16 ...\n",
      "Features extracted in 250.00 seconds\n",
      "Computing jaccard distance...\n"
     ]
    },
    {
     "name": "stderr",
     "output_type": "stream",
     "text": [
      "bruteForceKnn is deprecated; call bfKnn instead\n"
     ]
    },
    {
     "name": "stdout",
     "output_type": "stream",
     "text": [
      "Jaccard distance computing time cost: 547.7539186477661\n",
      "Extracting Online Features for resnet50 ...\n",
      "Features extracted in 253.19 seconds\n",
      "Computing jaccard distance...\n"
     ]
    },
    {
     "name": "stderr",
     "output_type": "stream",
     "text": [
      "bruteForceKnn is deprecated; call bfKnn instead\n"
     ]
    },
    {
     "name": "stdout",
     "output_type": "stream",
     "text": [
      "Jaccard distance computing time cost: 533.2442464828491\n",
      "Extracting Online Features for osnet ...\n",
      "Features extracted in 249.19 seconds\n",
      "Computing jaccard distance...\n"
     ]
    },
    {
     "name": "stderr",
     "output_type": "stream",
     "text": [
      "bruteForceKnn is deprecated; call bfKnn instead\n"
     ]
    },
    {
     "name": "stdout",
     "output_type": "stream",
     "text": [
      "Jaccard distance computing time cost: 525.5738096237183\n",
      "Extracting Online Features for densenet121 ...\n",
      "Features extracted in 246.81 seconds\n",
      "Computing jaccard distance...\n"
     ]
    },
    {
     "name": "stderr",
     "output_type": "stream",
     "text": [
      "bruteForceKnn is deprecated; call bfKnn instead\n"
     ]
    },
    {
     "name": "stdout",
     "output_type": "stream",
     "text": [
      "Jaccard distance computing time cost: 533.7937457561493\n",
      "Reliability: 0.992\n",
      "\u001b[32mMean Purity: 0.03921\u001b[0m\n",
      "\u001b[34mThere are 3 clusters with 4 cameras\u001b[0m\n",
      "\u001b[34mThere are 3 clusters with 5 cameras\u001b[0m\n",
      "\u001b[34mThere are 3 clusters with 6 cameras\u001b[0m\n",
      "\u001b[34mThere are 2 clusters with 7 cameras\u001b[0m\n",
      "\u001b[34mThere are 3 clusters with 8 cameras\u001b[0m\n",
      "\u001b[34mThere are 1 clusters with 9 cameras\u001b[0m\n",
      "\u001b[34mThere are 1 clusters with 10 cameras\u001b[0m\n",
      "\u001b[34mThere are 2 clusters with 12 cameras\u001b[0m\n",
      "\u001b[34mThere are 1 clusters with 14 cameras\u001b[0m\n",
      "\u001b[34mThere are 1 clusters with 16 cameras\u001b[0m\n",
      "\u001b[34mThere are 1 clusters with 17 cameras\u001b[0m\n",
      "\u001b[34mThere are 2 clusters with 18 cameras\u001b[0m\n",
      "\u001b[34mThere are 1 clusters with 35 cameras\u001b[0m\n",
      "\u001b[34mThere are 1 clusters with 43 cameras\u001b[0m\n",
      "\u001b[34mThere are 1 clusters with 44 cameras\u001b[0m\n",
      "\u001b[34mThere are 1 clusters with 46 cameras\u001b[0m\n",
      "\u001b[34mThere are 1 clusters with 50 cameras\u001b[0m\n",
      "\u001b[34mThere are 1 clusters with 52 cameras\u001b[0m\n",
      "\u001b[34mThere are 1 clusters with 53 cameras\u001b[0m\n",
      "\u001b[34mThere are 1 clusters with 54 cameras\u001b[0m\n",
      "\u001b[34mThere are 3 clusters with 55 cameras\u001b[0m\n",
      "\u001b[34mThere are 1 clusters with 56 cameras\u001b[0m\n",
      "\u001b[34mThere are 6 clusters with 57 cameras\u001b[0m\n",
      "\u001b[34mThere are 5 clusters with 58 cameras\u001b[0m\n",
      "\u001b[34mThere are 3 clusters with 59 cameras\u001b[0m\n",
      "\u001b[34mThere are 8 clusters with 60 cameras\u001b[0m\n",
      "\u001b[34mThere are 14 clusters with 61 cameras\u001b[0m\n",
      "\u001b[34mThere are 18 clusters with 62 cameras\u001b[0m\n",
      "\u001b[34mThere are 42 clusters with 63 cameras\u001b[0m\n",
      "\u001b[34mThere are 400 clusters with 64 cameras\u001b[0m\n",
      "\u001b[34mThere are 3 clusters with 66 cameras\u001b[0m\n",
      "\u001b[34mThere are 1 clusters with 68 cameras\u001b[0m\n",
      "\u001b[34mThere are 1 clusters with 69 cameras\u001b[0m\n",
      "\u001b[34mThere are 1 clusters with 73 cameras\u001b[0m\n",
      "\u001b[34mThere are 1 clusters with 106 cameras\u001b[0m\n",
      "\u001b[34mThere are 1 clusters with 109 cameras\u001b[0m\n",
      "\u001b[34mThere are 1 clusters with 116 cameras\u001b[0m\n",
      "\u001b[34mThere are 1 clusters with 118 cameras\u001b[0m\n",
      "\u001b[34mThere are 1 clusters with 121 cameras\u001b[0m\n",
      "\u001b[34mThere are 1 clusters with 122 cameras\u001b[0m\n",
      "\u001b[34mThere are 3 clusters with 123 cameras\u001b[0m\n",
      "\u001b[34mThere are 3 clusters with 124 cameras\u001b[0m\n",
      "\u001b[34mThere are 2 clusters with 126 cameras\u001b[0m\n",
      "\u001b[34mThere are 3 clusters with 127 cameras\u001b[0m\n",
      "\u001b[34mThere are 11 clusters with 128 cameras\u001b[0m\n",
      "\u001b[34mThere are 1 clusters with 131 cameras\u001b[0m\n",
      "\u001b[34mThere are 1 clusters with 134 cameras\u001b[0m\n",
      "\u001b[34mThere are 1 clusters with 187 cameras\u001b[0m\n",
      "\u001b[34mThere are 2 clusters with 188 cameras\u001b[0m\n",
      "\u001b[34mThere are 1 clusters with 190 cameras\u001b[0m\n",
      "\u001b[34mThere are 1 clusters with 192 cameras\u001b[0m\n",
      "\u001b[34mThere are 1 clusters with 338 cameras\u001b[0m\n",
      "\u001b[34mThere are 1 clusters with 361 cameras\u001b[0m\n",
      "Number of classes: 574\n",
      "\u001b[36mLearning Rate: 0.000350\u001b[0m\n",
      "encontrou modelos vgg16. Carregando...\n",
      "encontrou modelos resnet50. Carregando...\n",
      "encontrou modelos osnet. Carregando...\n",
      "encontrou modelos densenet121. Carregando...\n",
      "\u001b[33mValidating online vgg16 ...\u001b[0m\n",
      "Features extracted in 81.27 seconds\n",
      "Features extracted in 150.20 seconds\n",
      "Computing CMC and mAP ...\n",
      "** Results **\n",
      "mAP: 70.12%\n",
      "CMC curve\n",
      "Rank-1  : 75.96%\n",
      "Rank-5  : 91.27%\n",
      "Rank-10 : 94.82%\n",
      "Rank-20 : 96.79%\n",
      "\u001b[33mValidating momentum vgg16 ...\u001b[0m\n",
      "Features extracted in 85.23 seconds\n",
      "Features extracted in 150.11 seconds\n",
      "Computing CMC and mAP ...\n",
      "** Results **\n",
      "mAP: 66.17%\n",
      "CMC curve\n",
      "Rank-1  : 60.22%\n",
      "Rank-5  : 85.69%\n",
      "Rank-10 : 92.76%\n",
      "Rank-20 : 97.47%\n",
      "\u001b[33mValidating online resnet50 ...\u001b[0m\n",
      "Features extracted in 76.83 seconds\n",
      "Features extracted in 155.09 seconds\n",
      "Computing CMC and mAP ...\n",
      "** Results **\n",
      "mAP: 67.50%\n",
      "CMC curve\n",
      "Rank-1  : 55.02%\n",
      "Rank-5  : 80.54%\n",
      "Rank-10 : 89.57%\n",
      "Rank-20 : 96.21%\n",
      "\u001b[33mValidating momentum resnet50 ...\u001b[0m\n",
      "Features extracted in 77.66 seconds\n",
      "Features extracted in 143.38 seconds\n",
      "Computing CMC and mAP ...\n",
      "** Results **\n",
      "mAP: 66.53%\n",
      "CMC curve\n",
      "Rank-1  : 51.40%\n",
      "Rank-5  : 82.97%\n",
      "Rank-10 : 92.60%\n",
      "Rank-20 : 97.67%\n",
      "\u001b[33mValidating online osnet ...\u001b[0m\n",
      "Features extracted in 78.09 seconds\n",
      "Features extracted in 146.35 seconds\n",
      "Computing CMC and mAP ...\n",
      "** Results **\n",
      "mAP: 70.98%\n",
      "CMC curve\n",
      "Rank-1  : 66.36%\n",
      "Rank-5  : 91.56%\n",
      "Rank-10 : 96.56%\n",
      "Rank-20 : 99.07%\n",
      "\u001b[33mValidating momentum osnet ...\u001b[0m\n",
      "Features extracted in 77.53 seconds\n",
      "Features extracted in 147.07 seconds\n",
      "Computing CMC and mAP ...\n",
      "** Results **\n",
      "mAP: 64.56%\n",
      "CMC curve\n",
      "Rank-1  : 55.77%\n",
      "Rank-5  : 86.08%\n",
      "Rank-10 : 94.11%\n",
      "Rank-20 : 97.92%\n",
      "\u001b[33mValidating online densenet121 ...\u001b[0m\n",
      "Features extracted in 78.32 seconds\n",
      "Features extracted in 153.09 seconds\n",
      "Computing CMC and mAP ...\n",
      "** Results **\n",
      "mAP: 69.32%\n",
      "CMC curve\n",
      "Rank-1  : 61.53%\n",
      "Rank-5  : 85.89%\n",
      "Rank-10 : 93.66%\n",
      "Rank-20 : 97.66%\n",
      "\u001b[33mValidating momentum densenet121 ...\u001b[0m\n",
      "Features extracted in 79.43 seconds\n",
      "Features extracted in 145.67 seconds\n",
      "Computing CMC and mAP ...\n",
      "** Results **\n",
      "mAP: 66.02%\n",
      "CMC curve\n",
      "Rank-1  : 63.00%\n",
      "Rank-5  : 91.00%\n",
      "Rank-10 : 96.36%\n",
      "Rank-20 : 98.94%\n",
      "\u001b[33mValidating ensembled with online models ...\u001b[0m\n",
      "Computing CMC and mAP ...\n",
      "** Results **\n",
      "mAP: 69.73%\n",
      "Ranks:\n",
      "Rank-1  : 63.31%\n",
      "Rank-5  : 83.51%\n",
      "Rank-10 : 91.32%\n",
      "\u001b[33mValidating ensembled with momentum models ...\u001b[0m\n",
      "Computing CMC and mAP ...\n",
      "** Results **\n",
      "mAP: 65.40%\n",
      "Ranks:\n",
      "Rank-1  : 60.95%\n",
      "Rank-5  : 84.80%\n",
      "Rank-10 : 92.04%\n",
      "###============ Iteration number 21/90 ============###\n",
      "Extracting Online Features for vgg16 ...\n",
      "Features extracted in 249.87 seconds\n",
      "Computing jaccard distance...\n"
     ]
    },
    {
     "name": "stderr",
     "output_type": "stream",
     "text": [
      "bruteForceKnn is deprecated; call bfKnn instead\n"
     ]
    },
    {
     "name": "stdout",
     "output_type": "stream",
     "text": [
      "Jaccard distance computing time cost: 542.9407939910889\n",
      "Extracting Online Features for resnet50 ...\n",
      "Features extracted in 250.45 seconds\n",
      "Computing jaccard distance...\n"
     ]
    },
    {
     "name": "stderr",
     "output_type": "stream",
     "text": [
      "bruteForceKnn is deprecated; call bfKnn instead\n"
     ]
    },
    {
     "name": "stdout",
     "output_type": "stream",
     "text": [
      "Jaccard distance computing time cost: 547.6002111434937\n",
      "Extracting Online Features for osnet ...\n",
      "Features extracted in 238.17 seconds\n",
      "Computing jaccard distance...\n"
     ]
    },
    {
     "name": "stderr",
     "output_type": "stream",
     "text": [
      "bruteForceKnn is deprecated; call bfKnn instead\n"
     ]
    },
    {
     "name": "stdout",
     "output_type": "stream",
     "text": [
      "Jaccard distance computing time cost: 519.4289102554321\n",
      "Extracting Online Features for densenet121 ...\n",
      "Features extracted in 248.44 seconds\n",
      "Computing jaccard distance...\n"
     ]
    },
    {
     "name": "stderr",
     "output_type": "stream",
     "text": [
      "bruteForceKnn is deprecated; call bfKnn instead\n"
     ]
    },
    {
     "name": "stdout",
     "output_type": "stream",
     "text": [
      "Jaccard distance computing time cost: 545.2375586032867\n",
      "Reliability: 0.992\n",
      "\u001b[32mMean Purity: 0.03921\u001b[0m\n",
      "\u001b[34mThere are 3 clusters with 4 cameras\u001b[0m\n",
      "\u001b[34mThere are 3 clusters with 5 cameras\u001b[0m\n",
      "\u001b[34mThere are 3 clusters with 6 cameras\u001b[0m\n",
      "\u001b[34mThere are 2 clusters with 7 cameras\u001b[0m\n",
      "\u001b[34mThere are 3 clusters with 8 cameras\u001b[0m\n",
      "\u001b[34mThere are 1 clusters with 9 cameras\u001b[0m\n",
      "\u001b[34mThere are 1 clusters with 10 cameras\u001b[0m\n",
      "\u001b[34mThere are 2 clusters with 12 cameras\u001b[0m\n",
      "\u001b[34mThere are 1 clusters with 14 cameras\u001b[0m\n",
      "\u001b[34mThere are 1 clusters with 16 cameras\u001b[0m\n",
      "\u001b[34mThere are 1 clusters with 17 cameras\u001b[0m\n",
      "\u001b[34mThere are 2 clusters with 18 cameras\u001b[0m\n",
      "\u001b[34mThere are 1 clusters with 35 cameras\u001b[0m\n",
      "\u001b[34mThere are 1 clusters with 43 cameras\u001b[0m\n",
      "\u001b[34mThere are 1 clusters with 44 cameras\u001b[0m\n",
      "\u001b[34mThere are 1 clusters with 46 cameras\u001b[0m\n",
      "\u001b[34mThere are 1 clusters with 50 cameras\u001b[0m\n",
      "\u001b[34mThere are 1 clusters with 52 cameras\u001b[0m\n",
      "\u001b[34mThere are 1 clusters with 53 cameras\u001b[0m\n",
      "\u001b[34mThere are 1 clusters with 54 cameras\u001b[0m\n",
      "\u001b[34mThere are 3 clusters with 55 cameras\u001b[0m\n",
      "\u001b[34mThere are 1 clusters with 56 cameras\u001b[0m\n",
      "\u001b[34mThere are 6 clusters with 57 cameras\u001b[0m\n",
      "\u001b[34mThere are 5 clusters with 58 cameras\u001b[0m\n",
      "\u001b[34mThere are 3 clusters with 59 cameras\u001b[0m\n",
      "\u001b[34mThere are 8 clusters with 60 cameras\u001b[0m\n",
      "\u001b[34mThere are 14 clusters with 61 cameras\u001b[0m\n",
      "\u001b[34mThere are 18 clusters with 62 cameras\u001b[0m\n",
      "\u001b[34mThere are 42 clusters with 63 cameras\u001b[0m\n",
      "\u001b[34mThere are 400 clusters with 64 cameras\u001b[0m\n",
      "\u001b[34mThere are 3 clusters with 66 cameras\u001b[0m\n",
      "\u001b[34mThere are 1 clusters with 68 cameras\u001b[0m\n",
      "\u001b[34mThere are 1 clusters with 69 cameras\u001b[0m\n",
      "\u001b[34mThere are 1 clusters with 73 cameras\u001b[0m\n",
      "\u001b[34mThere are 1 clusters with 106 cameras\u001b[0m\n",
      "\u001b[34mThere are 1 clusters with 109 cameras\u001b[0m\n",
      "\u001b[34mThere are 1 clusters with 116 cameras\u001b[0m\n",
      "\u001b[34mThere are 1 clusters with 118 cameras\u001b[0m\n",
      "\u001b[34mThere are 1 clusters with 121 cameras\u001b[0m\n",
      "\u001b[34mThere are 1 clusters with 122 cameras\u001b[0m\n",
      "\u001b[34mThere are 3 clusters with 123 cameras\u001b[0m\n",
      "\u001b[34mThere are 3 clusters with 124 cameras\u001b[0m\n",
      "\u001b[34mThere are 2 clusters with 126 cameras\u001b[0m\n",
      "\u001b[34mThere are 3 clusters with 127 cameras\u001b[0m\n",
      "\u001b[34mThere are 11 clusters with 128 cameras\u001b[0m\n",
      "\u001b[34mThere are 1 clusters with 131 cameras\u001b[0m\n",
      "\u001b[34mThere are 1 clusters with 134 cameras\u001b[0m\n",
      "\u001b[34mThere are 1 clusters with 187 cameras\u001b[0m\n",
      "\u001b[34mThere are 2 clusters with 188 cameras\u001b[0m\n",
      "\u001b[34mThere are 1 clusters with 190 cameras\u001b[0m\n",
      "\u001b[34mThere are 1 clusters with 192 cameras\u001b[0m\n",
      "\u001b[34mThere are 1 clusters with 338 cameras\u001b[0m\n",
      "\u001b[34mThere are 1 clusters with 361 cameras\u001b[0m\n",
      "Number of classes: 574\n",
      "\u001b[36mLearning Rate: 0.000350\u001b[0m\n",
      "encontrou modelos vgg16. Carregando...\n",
      "encontrou modelos resnet50. Carregando...\n",
      "encontrou modelos osnet. Carregando...\n",
      "encontrou modelos densenet121. Carregando...\n",
      "###============ Iteration number 22/90 ============###\n",
      "Extracting Online Features for vgg16 ...\n",
      "Features extracted in 255.19 seconds\n",
      "Computing jaccard distance...\n"
     ]
    },
    {
     "name": "stderr",
     "output_type": "stream",
     "text": [
      "bruteForceKnn is deprecated; call bfKnn instead\n"
     ]
    },
    {
     "name": "stdout",
     "output_type": "stream",
     "text": [
      "Jaccard distance computing time cost: 528.2380502223969\n",
      "Extracting Online Features for resnet50 ...\n",
      "Features extracted in 243.57 seconds\n",
      "Computing jaccard distance...\n"
     ]
    },
    {
     "name": "stderr",
     "output_type": "stream",
     "text": [
      "bruteForceKnn is deprecated; call bfKnn instead\n"
     ]
    },
    {
     "name": "stdout",
     "output_type": "stream",
     "text": [
      "Jaccard distance computing time cost: 531.5234258174896\n",
      "Extracting Online Features for osnet ...\n",
      "Features extracted in 246.69 seconds\n",
      "Computing jaccard distance...\n"
     ]
    },
    {
     "name": "stderr",
     "output_type": "stream",
     "text": [
      "bruteForceKnn is deprecated; call bfKnn instead\n"
     ]
    },
    {
     "name": "stdout",
     "output_type": "stream",
     "text": [
      "Jaccard distance computing time cost: 520.93195104599\n",
      "Extracting Online Features for densenet121 ...\n",
      "Features extracted in 252.39 seconds\n",
      "Computing jaccard distance...\n"
     ]
    },
    {
     "name": "stderr",
     "output_type": "stream",
     "text": [
      "bruteForceKnn is deprecated; call bfKnn instead\n"
     ]
    },
    {
     "name": "stdout",
     "output_type": "stream",
     "text": [
      "Jaccard distance computing time cost: 543.2993266582489\n",
      "Reliability: 0.992\n",
      "\u001b[32mMean Purity: 0.03921\u001b[0m\n",
      "\u001b[34mThere are 3 clusters with 4 cameras\u001b[0m\n",
      "\u001b[34mThere are 3 clusters with 5 cameras\u001b[0m\n",
      "\u001b[34mThere are 3 clusters with 6 cameras\u001b[0m\n",
      "\u001b[34mThere are 2 clusters with 7 cameras\u001b[0m\n",
      "\u001b[34mThere are 3 clusters with 8 cameras\u001b[0m\n",
      "\u001b[34mThere are 1 clusters with 9 cameras\u001b[0m\n",
      "\u001b[34mThere are 1 clusters with 10 cameras\u001b[0m\n",
      "\u001b[34mThere are 2 clusters with 12 cameras\u001b[0m\n",
      "\u001b[34mThere are 1 clusters with 14 cameras\u001b[0m\n",
      "\u001b[34mThere are 1 clusters with 16 cameras\u001b[0m\n",
      "\u001b[34mThere are 1 clusters with 17 cameras\u001b[0m\n",
      "\u001b[34mThere are 2 clusters with 18 cameras\u001b[0m\n",
      "\u001b[34mThere are 1 clusters with 35 cameras\u001b[0m\n",
      "\u001b[34mThere are 1 clusters with 43 cameras\u001b[0m\n",
      "\u001b[34mThere are 1 clusters with 44 cameras\u001b[0m\n",
      "\u001b[34mThere are 1 clusters with 46 cameras\u001b[0m\n",
      "\u001b[34mThere are 1 clusters with 50 cameras\u001b[0m\n",
      "\u001b[34mThere are 1 clusters with 52 cameras\u001b[0m\n",
      "\u001b[34mThere are 1 clusters with 53 cameras\u001b[0m\n",
      "\u001b[34mThere are 1 clusters with 54 cameras\u001b[0m\n",
      "\u001b[34mThere are 3 clusters with 55 cameras\u001b[0m\n",
      "\u001b[34mThere are 1 clusters with 56 cameras\u001b[0m\n",
      "\u001b[34mThere are 6 clusters with 57 cameras\u001b[0m\n",
      "\u001b[34mThere are 5 clusters with 58 cameras\u001b[0m\n",
      "\u001b[34mThere are 3 clusters with 59 cameras\u001b[0m\n",
      "\u001b[34mThere are 8 clusters with 60 cameras\u001b[0m\n",
      "\u001b[34mThere are 14 clusters with 61 cameras\u001b[0m\n",
      "\u001b[34mThere are 18 clusters with 62 cameras\u001b[0m\n",
      "\u001b[34mThere are 42 clusters with 63 cameras\u001b[0m\n",
      "\u001b[34mThere are 400 clusters with 64 cameras\u001b[0m\n",
      "\u001b[34mThere are 3 clusters with 66 cameras\u001b[0m\n",
      "\u001b[34mThere are 1 clusters with 68 cameras\u001b[0m\n",
      "\u001b[34mThere are 1 clusters with 69 cameras\u001b[0m\n",
      "\u001b[34mThere are 1 clusters with 73 cameras\u001b[0m\n",
      "\u001b[34mThere are 1 clusters with 106 cameras\u001b[0m\n",
      "\u001b[34mThere are 1 clusters with 109 cameras\u001b[0m\n",
      "\u001b[34mThere are 1 clusters with 116 cameras\u001b[0m\n",
      "\u001b[34mThere are 1 clusters with 118 cameras\u001b[0m\n",
      "\u001b[34mThere are 1 clusters with 121 cameras\u001b[0m\n",
      "\u001b[34mThere are 1 clusters with 122 cameras\u001b[0m\n",
      "\u001b[34mThere are 3 clusters with 123 cameras\u001b[0m\n",
      "\u001b[34mThere are 3 clusters with 124 cameras\u001b[0m\n",
      "\u001b[34mThere are 2 clusters with 126 cameras\u001b[0m\n",
      "\u001b[34mThere are 3 clusters with 127 cameras\u001b[0m\n",
      "\u001b[34mThere are 11 clusters with 128 cameras\u001b[0m\n",
      "\u001b[34mThere are 1 clusters with 131 cameras\u001b[0m\n",
      "\u001b[34mThere are 1 clusters with 134 cameras\u001b[0m\n",
      "\u001b[34mThere are 1 clusters with 187 cameras\u001b[0m\n",
      "\u001b[34mThere are 2 clusters with 188 cameras\u001b[0m\n",
      "\u001b[34mThere are 1 clusters with 190 cameras\u001b[0m\n",
      "\u001b[34mThere are 1 clusters with 192 cameras\u001b[0m\n",
      "\u001b[34mThere are 1 clusters with 338 cameras\u001b[0m\n",
      "\u001b[34mThere are 1 clusters with 361 cameras\u001b[0m\n",
      "Number of classes: 574\n",
      "\u001b[36mLearning Rate: 0.000350\u001b[0m\n",
      "encontrou modelos vgg16. Carregando...\n",
      "encontrou modelos resnet50. Carregando...\n",
      "encontrou modelos osnet. Carregando...\n",
      "encontrou modelos densenet121. Carregando...\n",
      "###============ Iteration number 23/90 ============###\n",
      "Extracting Online Features for vgg16 ...\n",
      "Features extracted in 245.75 seconds\n",
      "Computing jaccard distance...\n"
     ]
    },
    {
     "name": "stderr",
     "output_type": "stream",
     "text": [
      "bruteForceKnn is deprecated; call bfKnn instead\n"
     ]
    },
    {
     "name": "stdout",
     "output_type": "stream",
     "text": [
      "Jaccard distance computing time cost: 554.7129971981049\n",
      "Extracting Online Features for resnet50 ...\n",
      "Features extracted in 247.32 seconds\n",
      "Computing jaccard distance...\n"
     ]
    },
    {
     "name": "stderr",
     "output_type": "stream",
     "text": [
      "bruteForceKnn is deprecated; call bfKnn instead\n"
     ]
    },
    {
     "name": "stdout",
     "output_type": "stream",
     "text": [
      "Jaccard distance computing time cost: 544.700790643692\n",
      "Extracting Online Features for osnet ...\n",
      "Features extracted in 246.48 seconds\n",
      "Computing jaccard distance...\n"
     ]
    },
    {
     "name": "stderr",
     "output_type": "stream",
     "text": [
      "bruteForceKnn is deprecated; call bfKnn instead\n"
     ]
    },
    {
     "name": "stdout",
     "output_type": "stream",
     "text": [
      "Jaccard distance computing time cost: 537.3809685707092\n",
      "Extracting Online Features for densenet121 ...\n",
      "Features extracted in 252.07 seconds\n",
      "Computing jaccard distance...\n"
     ]
    },
    {
     "name": "stderr",
     "output_type": "stream",
     "text": [
      "bruteForceKnn is deprecated; call bfKnn instead\n"
     ]
    },
    {
     "name": "stdout",
     "output_type": "stream",
     "text": [
      "Jaccard distance computing time cost: 546.6857187747955\n",
      "Reliability: 0.992\n",
      "\u001b[32mMean Purity: 0.03921\u001b[0m\n",
      "\u001b[34mThere are 3 clusters with 4 cameras\u001b[0m\n",
      "\u001b[34mThere are 3 clusters with 5 cameras\u001b[0m\n",
      "\u001b[34mThere are 3 clusters with 6 cameras\u001b[0m\n",
      "\u001b[34mThere are 2 clusters with 7 cameras\u001b[0m\n",
      "\u001b[34mThere are 3 clusters with 8 cameras\u001b[0m\n",
      "\u001b[34mThere are 1 clusters with 9 cameras\u001b[0m\n",
      "\u001b[34mThere are 1 clusters with 10 cameras\u001b[0m\n",
      "\u001b[34mThere are 2 clusters with 12 cameras\u001b[0m\n",
      "\u001b[34mThere are 1 clusters with 14 cameras\u001b[0m\n",
      "\u001b[34mThere are 1 clusters with 16 cameras\u001b[0m\n",
      "\u001b[34mThere are 1 clusters with 17 cameras\u001b[0m\n",
      "\u001b[34mThere are 2 clusters with 18 cameras\u001b[0m\n",
      "\u001b[34mThere are 1 clusters with 35 cameras\u001b[0m\n",
      "\u001b[34mThere are 1 clusters with 43 cameras\u001b[0m\n",
      "\u001b[34mThere are 1 clusters with 44 cameras\u001b[0m\n",
      "\u001b[34mThere are 1 clusters with 46 cameras\u001b[0m\n",
      "\u001b[34mThere are 1 clusters with 50 cameras\u001b[0m\n",
      "\u001b[34mThere are 1 clusters with 52 cameras\u001b[0m\n",
      "\u001b[34mThere are 1 clusters with 53 cameras\u001b[0m\n",
      "\u001b[34mThere are 1 clusters with 54 cameras\u001b[0m\n",
      "\u001b[34mThere are 3 clusters with 55 cameras\u001b[0m\n",
      "\u001b[34mThere are 1 clusters with 56 cameras\u001b[0m\n",
      "\u001b[34mThere are 6 clusters with 57 cameras\u001b[0m\n",
      "\u001b[34mThere are 5 clusters with 58 cameras\u001b[0m\n",
      "\u001b[34mThere are 3 clusters with 59 cameras\u001b[0m\n",
      "\u001b[34mThere are 8 clusters with 60 cameras\u001b[0m\n",
      "\u001b[34mThere are 14 clusters with 61 cameras\u001b[0m\n",
      "\u001b[34mThere are 18 clusters with 62 cameras\u001b[0m\n",
      "\u001b[34mThere are 42 clusters with 63 cameras\u001b[0m\n",
      "\u001b[34mThere are 400 clusters with 64 cameras\u001b[0m\n",
      "\u001b[34mThere are 3 clusters with 66 cameras\u001b[0m\n",
      "\u001b[34mThere are 1 clusters with 68 cameras\u001b[0m\n",
      "\u001b[34mThere are 1 clusters with 69 cameras\u001b[0m\n",
      "\u001b[34mThere are 1 clusters with 73 cameras\u001b[0m\n",
      "\u001b[34mThere are 1 clusters with 106 cameras\u001b[0m\n",
      "\u001b[34mThere are 1 clusters with 109 cameras\u001b[0m\n",
      "\u001b[34mThere are 1 clusters with 116 cameras\u001b[0m\n",
      "\u001b[34mThere are 1 clusters with 118 cameras\u001b[0m\n",
      "\u001b[34mThere are 1 clusters with 121 cameras\u001b[0m\n",
      "\u001b[34mThere are 1 clusters with 122 cameras\u001b[0m\n",
      "\u001b[34mThere are 3 clusters with 123 cameras\u001b[0m\n",
      "\u001b[34mThere are 3 clusters with 124 cameras\u001b[0m\n",
      "\u001b[34mThere are 2 clusters with 126 cameras\u001b[0m\n",
      "\u001b[34mThere are 3 clusters with 127 cameras\u001b[0m\n",
      "\u001b[34mThere are 11 clusters with 128 cameras\u001b[0m\n",
      "\u001b[34mThere are 1 clusters with 131 cameras\u001b[0m\n",
      "\u001b[34mThere are 1 clusters with 134 cameras\u001b[0m\n",
      "\u001b[34mThere are 1 clusters with 187 cameras\u001b[0m\n",
      "\u001b[34mThere are 2 clusters with 188 cameras\u001b[0m\n",
      "\u001b[34mThere are 1 clusters with 190 cameras\u001b[0m\n",
      "\u001b[34mThere are 1 clusters with 192 cameras\u001b[0m\n",
      "\u001b[34mThere are 1 clusters with 338 cameras\u001b[0m\n",
      "\u001b[34mThere are 1 clusters with 361 cameras\u001b[0m\n",
      "Number of classes: 574\n",
      "\u001b[36mLearning Rate: 0.000350\u001b[0m\n",
      "encontrou modelos vgg16. Carregando...\n",
      "encontrou modelos resnet50. Carregando...\n",
      "encontrou modelos osnet. Carregando...\n",
      "encontrou modelos densenet121. Carregando...\n",
      "###============ Iteration number 24/90 ============###\n",
      "Extracting Online Features for vgg16 ...\n",
      "Features extracted in 246.92 seconds\n",
      "Computing jaccard distance...\n"
     ]
    },
    {
     "name": "stderr",
     "output_type": "stream",
     "text": [
      "bruteForceKnn is deprecated; call bfKnn instead\n"
     ]
    },
    {
     "name": "stdout",
     "output_type": "stream",
     "text": [
      "Jaccard distance computing time cost: 546.2308926582336\n",
      "Extracting Online Features for resnet50 ...\n",
      "Features extracted in 251.62 seconds\n",
      "Computing jaccard distance...\n"
     ]
    },
    {
     "name": "stderr",
     "output_type": "stream",
     "text": [
      "bruteForceKnn is deprecated; call bfKnn instead\n"
     ]
    },
    {
     "name": "stdout",
     "output_type": "stream",
     "text": [
      "Jaccard distance computing time cost: 528.1850883960724\n",
      "Extracting Online Features for osnet ...\n",
      "Features extracted in 244.78 seconds\n",
      "Computing jaccard distance...\n"
     ]
    },
    {
     "name": "stderr",
     "output_type": "stream",
     "text": [
      "bruteForceKnn is deprecated; call bfKnn instead\n"
     ]
    },
    {
     "name": "stdout",
     "output_type": "stream",
     "text": [
      "Jaccard distance computing time cost: 521.4277701377869\n",
      "Extracting Online Features for densenet121 ...\n",
      "Features extracted in 242.87 seconds\n",
      "Computing jaccard distance...\n"
     ]
    },
    {
     "name": "stderr",
     "output_type": "stream",
     "text": [
      "bruteForceKnn is deprecated; call bfKnn instead\n"
     ]
    },
    {
     "name": "stdout",
     "output_type": "stream",
     "text": [
      "Jaccard distance computing time cost: 548.9265480041504\n",
      "Reliability: 0.992\n",
      "\u001b[32mMean Purity: 0.03921\u001b[0m\n",
      "\u001b[34mThere are 3 clusters with 4 cameras\u001b[0m\n",
      "\u001b[34mThere are 3 clusters with 5 cameras\u001b[0m\n",
      "\u001b[34mThere are 3 clusters with 6 cameras\u001b[0m\n",
      "\u001b[34mThere are 2 clusters with 7 cameras\u001b[0m\n",
      "\u001b[34mThere are 3 clusters with 8 cameras\u001b[0m\n",
      "\u001b[34mThere are 1 clusters with 9 cameras\u001b[0m\n",
      "\u001b[34mThere are 1 clusters with 10 cameras\u001b[0m\n",
      "\u001b[34mThere are 2 clusters with 12 cameras\u001b[0m\n",
      "\u001b[34mThere are 1 clusters with 14 cameras\u001b[0m\n",
      "\u001b[34mThere are 1 clusters with 16 cameras\u001b[0m\n",
      "\u001b[34mThere are 1 clusters with 17 cameras\u001b[0m\n",
      "\u001b[34mThere are 2 clusters with 18 cameras\u001b[0m\n",
      "\u001b[34mThere are 1 clusters with 35 cameras\u001b[0m\n",
      "\u001b[34mThere are 1 clusters with 43 cameras\u001b[0m\n",
      "\u001b[34mThere are 1 clusters with 44 cameras\u001b[0m\n",
      "\u001b[34mThere are 1 clusters with 46 cameras\u001b[0m\n",
      "\u001b[34mThere are 1 clusters with 50 cameras\u001b[0m\n",
      "\u001b[34mThere are 1 clusters with 52 cameras\u001b[0m\n",
      "\u001b[34mThere are 1 clusters with 53 cameras\u001b[0m\n",
      "\u001b[34mThere are 1 clusters with 54 cameras\u001b[0m\n",
      "\u001b[34mThere are 3 clusters with 55 cameras\u001b[0m\n",
      "\u001b[34mThere are 1 clusters with 56 cameras\u001b[0m\n",
      "\u001b[34mThere are 6 clusters with 57 cameras\u001b[0m\n",
      "\u001b[34mThere are 5 clusters with 58 cameras\u001b[0m\n",
      "\u001b[34mThere are 3 clusters with 59 cameras\u001b[0m\n",
      "\u001b[34mThere are 8 clusters with 60 cameras\u001b[0m\n",
      "\u001b[34mThere are 14 clusters with 61 cameras\u001b[0m\n",
      "\u001b[34mThere are 18 clusters with 62 cameras\u001b[0m\n",
      "\u001b[34mThere are 42 clusters with 63 cameras\u001b[0m\n",
      "\u001b[34mThere are 400 clusters with 64 cameras\u001b[0m\n",
      "\u001b[34mThere are 3 clusters with 66 cameras\u001b[0m\n",
      "\u001b[34mThere are 1 clusters with 68 cameras\u001b[0m\n",
      "\u001b[34mThere are 1 clusters with 69 cameras\u001b[0m\n",
      "\u001b[34mThere are 1 clusters with 73 cameras\u001b[0m\n",
      "\u001b[34mThere are 1 clusters with 106 cameras\u001b[0m\n",
      "\u001b[34mThere are 1 clusters with 109 cameras\u001b[0m\n",
      "\u001b[34mThere are 1 clusters with 116 cameras\u001b[0m\n",
      "\u001b[34mThere are 1 clusters with 118 cameras\u001b[0m\n",
      "\u001b[34mThere are 1 clusters with 121 cameras\u001b[0m\n",
      "\u001b[34mThere are 1 clusters with 122 cameras\u001b[0m\n",
      "\u001b[34mThere are 3 clusters with 123 cameras\u001b[0m\n",
      "\u001b[34mThere are 3 clusters with 124 cameras\u001b[0m\n",
      "\u001b[34mThere are 2 clusters with 126 cameras\u001b[0m\n",
      "\u001b[34mThere are 3 clusters with 127 cameras\u001b[0m\n",
      "\u001b[34mThere are 11 clusters with 128 cameras\u001b[0m\n",
      "\u001b[34mThere are 1 clusters with 131 cameras\u001b[0m\n",
      "\u001b[34mThere are 1 clusters with 134 cameras\u001b[0m\n",
      "\u001b[34mThere are 1 clusters with 187 cameras\u001b[0m\n",
      "\u001b[34mThere are 2 clusters with 188 cameras\u001b[0m\n",
      "\u001b[34mThere are 1 clusters with 190 cameras\u001b[0m\n",
      "\u001b[34mThere are 1 clusters with 192 cameras\u001b[0m\n",
      "\u001b[34mThere are 1 clusters with 338 cameras\u001b[0m\n",
      "\u001b[34mThere are 1 clusters with 361 cameras\u001b[0m\n",
      "Number of classes: 574\n",
      "\u001b[36mLearning Rate: 0.000350\u001b[0m\n",
      "encontrou modelos vgg16. Carregando...\n",
      "encontrou modelos resnet50. Carregando...\n",
      "encontrou modelos osnet. Carregando...\n",
      "encontrou modelos densenet121. Carregando...\n",
      "###============ Iteration number 25/90 ============###\n",
      "Extracting Online Features for vgg16 ...\n",
      "Features extracted in 249.95 seconds\n",
      "Computing jaccard distance...\n"
     ]
    },
    {
     "name": "stderr",
     "output_type": "stream",
     "text": [
      "bruteForceKnn is deprecated; call bfKnn instead\n"
     ]
    },
    {
     "name": "stdout",
     "output_type": "stream",
     "text": [
      "Jaccard distance computing time cost: 530.5804026126862\n",
      "Extracting Online Features for resnet50 ...\n",
      "Features extracted in 248.65 seconds\n",
      "Computing jaccard distance...\n"
     ]
    },
    {
     "name": "stderr",
     "output_type": "stream",
     "text": [
      "bruteForceKnn is deprecated; call bfKnn instead\n"
     ]
    },
    {
     "name": "stdout",
     "output_type": "stream",
     "text": [
      "Jaccard distance computing time cost: 544.6743609905243\n",
      "Extracting Online Features for osnet ...\n",
      "Features extracted in 242.00 seconds\n",
      "Computing jaccard distance...\n"
     ]
    },
    {
     "name": "stderr",
     "output_type": "stream",
     "text": [
      "bruteForceKnn is deprecated; call bfKnn instead\n"
     ]
    },
    {
     "name": "stdout",
     "output_type": "stream",
     "text": [
      "Jaccard distance computing time cost: 533.0938510894775\n",
      "Extracting Online Features for densenet121 ...\n",
      "Features extracted in 246.24 seconds\n",
      "Computing jaccard distance...\n"
     ]
    },
    {
     "name": "stderr",
     "output_type": "stream",
     "text": [
      "bruteForceKnn is deprecated; call bfKnn instead\n"
     ]
    },
    {
     "name": "stdout",
     "output_type": "stream",
     "text": [
      "Jaccard distance computing time cost: 545.2370648384094\n",
      "Reliability: 0.992\n",
      "\u001b[32mMean Purity: 0.03921\u001b[0m\n",
      "\u001b[34mThere are 3 clusters with 4 cameras\u001b[0m\n",
      "\u001b[34mThere are 3 clusters with 5 cameras\u001b[0m\n",
      "\u001b[34mThere are 3 clusters with 6 cameras\u001b[0m\n",
      "\u001b[34mThere are 2 clusters with 7 cameras\u001b[0m\n",
      "\u001b[34mThere are 3 clusters with 8 cameras\u001b[0m\n",
      "\u001b[34mThere are 1 clusters with 9 cameras\u001b[0m\n",
      "\u001b[34mThere are 1 clusters with 10 cameras\u001b[0m\n",
      "\u001b[34mThere are 2 clusters with 12 cameras\u001b[0m\n",
      "\u001b[34mThere are 1 clusters with 14 cameras\u001b[0m\n",
      "\u001b[34mThere are 1 clusters with 16 cameras\u001b[0m\n",
      "\u001b[34mThere are 1 clusters with 17 cameras\u001b[0m\n",
      "\u001b[34mThere are 2 clusters with 18 cameras\u001b[0m\n",
      "\u001b[34mThere are 1 clusters with 35 cameras\u001b[0m\n",
      "\u001b[34mThere are 1 clusters with 43 cameras\u001b[0m\n",
      "\u001b[34mThere are 1 clusters with 44 cameras\u001b[0m\n",
      "\u001b[34mThere are 1 clusters with 46 cameras\u001b[0m\n",
      "\u001b[34mThere are 1 clusters with 50 cameras\u001b[0m\n",
      "\u001b[34mThere are 1 clusters with 52 cameras\u001b[0m\n",
      "\u001b[34mThere are 1 clusters with 53 cameras\u001b[0m\n",
      "\u001b[34mThere are 1 clusters with 54 cameras\u001b[0m\n",
      "\u001b[34mThere are 3 clusters with 55 cameras\u001b[0m\n",
      "\u001b[34mThere are 1 clusters with 56 cameras\u001b[0m\n",
      "\u001b[34mThere are 6 clusters with 57 cameras\u001b[0m\n",
      "\u001b[34mThere are 5 clusters with 58 cameras\u001b[0m\n",
      "\u001b[34mThere are 3 clusters with 59 cameras\u001b[0m\n",
      "\u001b[34mThere are 8 clusters with 60 cameras\u001b[0m\n",
      "\u001b[34mThere are 14 clusters with 61 cameras\u001b[0m\n",
      "\u001b[34mThere are 18 clusters with 62 cameras\u001b[0m\n",
      "\u001b[34mThere are 42 clusters with 63 cameras\u001b[0m\n",
      "\u001b[34mThere are 400 clusters with 64 cameras\u001b[0m\n",
      "\u001b[34mThere are 3 clusters with 66 cameras\u001b[0m\n",
      "\u001b[34mThere are 1 clusters with 68 cameras\u001b[0m\n",
      "\u001b[34mThere are 1 clusters with 69 cameras\u001b[0m\n",
      "\u001b[34mThere are 1 clusters with 73 cameras\u001b[0m\n",
      "\u001b[34mThere are 1 clusters with 106 cameras\u001b[0m\n",
      "\u001b[34mThere are 1 clusters with 109 cameras\u001b[0m\n",
      "\u001b[34mThere are 1 clusters with 116 cameras\u001b[0m\n",
      "\u001b[34mThere are 1 clusters with 118 cameras\u001b[0m\n",
      "\u001b[34mThere are 1 clusters with 121 cameras\u001b[0m\n",
      "\u001b[34mThere are 1 clusters with 122 cameras\u001b[0m\n",
      "\u001b[34mThere are 3 clusters with 123 cameras\u001b[0m\n",
      "\u001b[34mThere are 3 clusters with 124 cameras\u001b[0m\n",
      "\u001b[34mThere are 2 clusters with 126 cameras\u001b[0m\n",
      "\u001b[34mThere are 3 clusters with 127 cameras\u001b[0m\n",
      "\u001b[34mThere are 11 clusters with 128 cameras\u001b[0m\n",
      "\u001b[34mThere are 1 clusters with 131 cameras\u001b[0m\n",
      "\u001b[34mThere are 1 clusters with 134 cameras\u001b[0m\n",
      "\u001b[34mThere are 1 clusters with 187 cameras\u001b[0m\n",
      "\u001b[34mThere are 2 clusters with 188 cameras\u001b[0m\n",
      "\u001b[34mThere are 1 clusters with 190 cameras\u001b[0m\n",
      "\u001b[34mThere are 1 clusters with 192 cameras\u001b[0m\n",
      "\u001b[34mThere are 1 clusters with 338 cameras\u001b[0m\n",
      "\u001b[34mThere are 1 clusters with 361 cameras\u001b[0m\n",
      "Number of classes: 574\n",
      "\u001b[36mLearning Rate: 0.000350\u001b[0m\n",
      "encontrou modelos vgg16. Carregando...\n",
      "encontrou modelos resnet50. Carregando...\n",
      "encontrou modelos osnet. Carregando...\n",
      "encontrou modelos densenet121. Carregando...\n",
      "\u001b[33mValidating online vgg16 ...\u001b[0m\n",
      "Features extracted in 81.08 seconds\n",
      "Features extracted in 147.01 seconds\n",
      "Computing CMC and mAP ...\n",
      "** Results **\n",
      "mAP: 70.12%\n",
      "CMC curve\n",
      "Rank-1  : 75.96%\n",
      "Rank-5  : 91.27%\n",
      "Rank-10 : 94.82%\n",
      "Rank-20 : 96.79%\n",
      "\u001b[33mValidating momentum vgg16 ...\u001b[0m\n",
      "Features extracted in 78.92 seconds\n",
      "Features extracted in 147.84 seconds\n",
      "Computing CMC and mAP ...\n",
      "** Results **\n",
      "mAP: 66.17%\n",
      "CMC curve\n",
      "Rank-1  : 60.22%\n",
      "Rank-5  : 85.69%\n",
      "Rank-10 : 92.76%\n",
      "Rank-20 : 97.47%\n",
      "\u001b[33mValidating online resnet50 ...\u001b[0m\n",
      "Features extracted in 73.91 seconds\n",
      "Features extracted in 145.63 seconds\n",
      "Computing CMC and mAP ...\n",
      "** Results **\n",
      "mAP: 67.50%\n",
      "CMC curve\n",
      "Rank-1  : 55.02%\n",
      "Rank-5  : 80.54%\n",
      "Rank-10 : 89.57%\n",
      "Rank-20 : 96.21%\n",
      "\u001b[33mValidating momentum resnet50 ...\u001b[0m\n",
      "Features extracted in 79.40 seconds\n",
      "Features extracted in 145.01 seconds\n",
      "Computing CMC and mAP ...\n",
      "** Results **\n",
      "mAP: 66.53%\n",
      "CMC curve\n",
      "Rank-1  : 51.40%\n",
      "Rank-5  : 82.97%\n",
      "Rank-10 : 92.60%\n",
      "Rank-20 : 97.67%\n",
      "\u001b[33mValidating online osnet ...\u001b[0m\n",
      "Features extracted in 77.46 seconds\n",
      "Features extracted in 148.51 seconds\n",
      "Computing CMC and mAP ...\n",
      "** Results **\n",
      "mAP: 70.98%\n",
      "CMC curve\n",
      "Rank-1  : 66.36%\n",
      "Rank-5  : 91.56%\n",
      "Rank-10 : 96.56%\n",
      "Rank-20 : 99.07%\n",
      "\u001b[33mValidating momentum osnet ...\u001b[0m\n",
      "Features extracted in 78.81 seconds\n",
      "Features extracted in 145.61 seconds\n",
      "Computing CMC and mAP ...\n",
      "** Results **\n",
      "mAP: 64.56%\n",
      "CMC curve\n",
      "Rank-1  : 55.77%\n",
      "Rank-5  : 86.08%\n",
      "Rank-10 : 94.11%\n",
      "Rank-20 : 97.92%\n",
      "\u001b[33mValidating online densenet121 ...\u001b[0m\n",
      "Features extracted in 83.74 seconds\n",
      "Features extracted in 146.46 seconds\n",
      "Computing CMC and mAP ...\n",
      "** Results **\n",
      "mAP: 69.32%\n",
      "CMC curve\n",
      "Rank-1  : 61.53%\n",
      "Rank-5  : 85.89%\n",
      "Rank-10 : 93.66%\n",
      "Rank-20 : 97.66%\n",
      "\u001b[33mValidating momentum densenet121 ...\u001b[0m\n",
      "Features extracted in 79.18 seconds\n",
      "Features extracted in 146.93 seconds\n",
      "Computing CMC and mAP ...\n",
      "** Results **\n",
      "mAP: 66.02%\n",
      "CMC curve\n",
      "Rank-1  : 63.00%\n",
      "Rank-5  : 91.00%\n",
      "Rank-10 : 96.36%\n",
      "Rank-20 : 98.94%\n",
      "\u001b[33mValidating ensembled with online models ...\u001b[0m\n",
      "Computing CMC and mAP ...\n",
      "** Results **\n",
      "mAP: 69.73%\n",
      "Ranks:\n",
      "Rank-1  : 63.31%\n",
      "Rank-5  : 83.51%\n",
      "Rank-10 : 91.32%\n",
      "\u001b[33mValidating ensembled with momentum models ...\u001b[0m\n",
      "Computing CMC and mAP ...\n",
      "** Results **\n",
      "mAP: 65.40%\n",
      "Ranks:\n",
      "Rank-1  : 60.95%\n",
      "Rank-5  : 84.80%\n",
      "Rank-10 : 92.04%\n",
      "###============ Iteration number 26/90 ============###\n",
      "Extracting Online Features for vgg16 ...\n",
      "Features extracted in 255.26 seconds\n",
      "Computing jaccard distance...\n"
     ]
    },
    {
     "name": "stderr",
     "output_type": "stream",
     "text": [
      "bruteForceKnn is deprecated; call bfKnn instead\n"
     ]
    },
    {
     "name": "stdout",
     "output_type": "stream",
     "text": [
      "Jaccard distance computing time cost: 548.2605090141296\n",
      "Extracting Online Features for resnet50 ...\n",
      "Features extracted in 247.04 seconds\n",
      "Computing jaccard distance...\n"
     ]
    },
    {
     "name": "stderr",
     "output_type": "stream",
     "text": [
      "bruteForceKnn is deprecated; call bfKnn instead\n"
     ]
    },
    {
     "name": "stdout",
     "output_type": "stream",
     "text": [
      "Jaccard distance computing time cost: 531.1733202934265\n",
      "Extracting Online Features for osnet ...\n",
      "Features extracted in 248.26 seconds\n",
      "Computing jaccard distance...\n"
     ]
    },
    {
     "name": "stderr",
     "output_type": "stream",
     "text": [
      "bruteForceKnn is deprecated; call bfKnn instead\n"
     ]
    },
    {
     "name": "stdout",
     "output_type": "stream",
     "text": [
      "Jaccard distance computing time cost: 526.0565104484558\n",
      "Extracting Online Features for densenet121 ...\n",
      "Features extracted in 254.84 seconds\n",
      "Computing jaccard distance...\n"
     ]
    },
    {
     "name": "stderr",
     "output_type": "stream",
     "text": [
      "bruteForceKnn is deprecated; call bfKnn instead\n"
     ]
    },
    {
     "name": "stdout",
     "output_type": "stream",
     "text": [
      "Jaccard distance computing time cost: 543.165474653244\n",
      "Reliability: 0.992\n",
      "\u001b[32mMean Purity: 0.03921\u001b[0m\n",
      "\u001b[34mThere are 3 clusters with 4 cameras\u001b[0m\n",
      "\u001b[34mThere are 3 clusters with 5 cameras\u001b[0m\n",
      "\u001b[34mThere are 3 clusters with 6 cameras\u001b[0m\n",
      "\u001b[34mThere are 2 clusters with 7 cameras\u001b[0m\n",
      "\u001b[34mThere are 3 clusters with 8 cameras\u001b[0m\n",
      "\u001b[34mThere are 1 clusters with 9 cameras\u001b[0m\n",
      "\u001b[34mThere are 1 clusters with 10 cameras\u001b[0m\n",
      "\u001b[34mThere are 2 clusters with 12 cameras\u001b[0m\n",
      "\u001b[34mThere are 1 clusters with 14 cameras\u001b[0m\n",
      "\u001b[34mThere are 1 clusters with 16 cameras\u001b[0m\n",
      "\u001b[34mThere are 1 clusters with 17 cameras\u001b[0m\n",
      "\u001b[34mThere are 2 clusters with 18 cameras\u001b[0m\n",
      "\u001b[34mThere are 1 clusters with 35 cameras\u001b[0m\n",
      "\u001b[34mThere are 1 clusters with 43 cameras\u001b[0m\n",
      "\u001b[34mThere are 1 clusters with 44 cameras\u001b[0m\n",
      "\u001b[34mThere are 1 clusters with 46 cameras\u001b[0m\n",
      "\u001b[34mThere are 1 clusters with 50 cameras\u001b[0m\n",
      "\u001b[34mThere are 1 clusters with 52 cameras\u001b[0m\n",
      "\u001b[34mThere are 1 clusters with 53 cameras\u001b[0m\n",
      "\u001b[34mThere are 1 clusters with 54 cameras\u001b[0m\n",
      "\u001b[34mThere are 3 clusters with 55 cameras\u001b[0m\n",
      "\u001b[34mThere are 1 clusters with 56 cameras\u001b[0m\n",
      "\u001b[34mThere are 6 clusters with 57 cameras\u001b[0m\n",
      "\u001b[34mThere are 5 clusters with 58 cameras\u001b[0m\n",
      "\u001b[34mThere are 3 clusters with 59 cameras\u001b[0m\n",
      "\u001b[34mThere are 8 clusters with 60 cameras\u001b[0m\n",
      "\u001b[34mThere are 14 clusters with 61 cameras\u001b[0m\n",
      "\u001b[34mThere are 18 clusters with 62 cameras\u001b[0m\n",
      "\u001b[34mThere are 42 clusters with 63 cameras\u001b[0m\n",
      "\u001b[34mThere are 400 clusters with 64 cameras\u001b[0m\n",
      "\u001b[34mThere are 3 clusters with 66 cameras\u001b[0m\n",
      "\u001b[34mThere are 1 clusters with 68 cameras\u001b[0m\n",
      "\u001b[34mThere are 1 clusters with 69 cameras\u001b[0m\n",
      "\u001b[34mThere are 1 clusters with 73 cameras\u001b[0m\n",
      "\u001b[34mThere are 1 clusters with 106 cameras\u001b[0m\n",
      "\u001b[34mThere are 1 clusters with 109 cameras\u001b[0m\n",
      "\u001b[34mThere are 1 clusters with 116 cameras\u001b[0m\n",
      "\u001b[34mThere are 1 clusters with 118 cameras\u001b[0m\n",
      "\u001b[34mThere are 1 clusters with 121 cameras\u001b[0m\n",
      "\u001b[34mThere are 1 clusters with 122 cameras\u001b[0m\n",
      "\u001b[34mThere are 3 clusters with 123 cameras\u001b[0m\n",
      "\u001b[34mThere are 3 clusters with 124 cameras\u001b[0m\n",
      "\u001b[34mThere are 2 clusters with 126 cameras\u001b[0m\n",
      "\u001b[34mThere are 3 clusters with 127 cameras\u001b[0m\n",
      "\u001b[34mThere are 11 clusters with 128 cameras\u001b[0m\n",
      "\u001b[34mThere are 1 clusters with 131 cameras\u001b[0m\n",
      "\u001b[34mThere are 1 clusters with 134 cameras\u001b[0m\n",
      "\u001b[34mThere are 1 clusters with 187 cameras\u001b[0m\n",
      "\u001b[34mThere are 2 clusters with 188 cameras\u001b[0m\n",
      "\u001b[34mThere are 1 clusters with 190 cameras\u001b[0m\n",
      "\u001b[34mThere are 1 clusters with 192 cameras\u001b[0m\n",
      "\u001b[34mThere are 1 clusters with 338 cameras\u001b[0m\n",
      "\u001b[34mThere are 1 clusters with 361 cameras\u001b[0m\n",
      "Number of classes: 574\n",
      "\u001b[36mLearning Rate: 0.000350\u001b[0m\n",
      "encontrou modelos vgg16. Carregando...\n",
      "encontrou modelos resnet50. Carregando...\n",
      "encontrou modelos osnet. Carregando...\n",
      "encontrou modelos densenet121. Carregando...\n",
      "###============ Iteration number 27/90 ============###\n",
      "Extracting Online Features for vgg16 ...\n",
      "Features extracted in 247.53 seconds\n",
      "Computing jaccard distance...\n"
     ]
    },
    {
     "name": "stderr",
     "output_type": "stream",
     "text": [
      "bruteForceKnn is deprecated; call bfKnn instead\n"
     ]
    },
    {
     "name": "stdout",
     "output_type": "stream",
     "text": [
      "Jaccard distance computing time cost: 546.0920009613037\n",
      "Extracting Online Features for resnet50 ...\n",
      "Features extracted in 245.27 seconds\n",
      "Computing jaccard distance...\n"
     ]
    },
    {
     "name": "stderr",
     "output_type": "stream",
     "text": [
      "bruteForceKnn is deprecated; call bfKnn instead\n"
     ]
    },
    {
     "name": "stdout",
     "output_type": "stream",
     "text": [
      "Jaccard distance computing time cost: 539.0177507400513\n",
      "Extracting Online Features for osnet ...\n",
      "Features extracted in 255.33 seconds\n",
      "Computing jaccard distance...\n"
     ]
    },
    {
     "name": "stderr",
     "output_type": "stream",
     "text": [
      "bruteForceKnn is deprecated; call bfKnn instead\n"
     ]
    },
    {
     "name": "stdout",
     "output_type": "stream",
     "text": [
      "Jaccard distance computing time cost: 520.464462518692\n",
      "Extracting Online Features for densenet121 ...\n",
      "Features extracted in 254.37 seconds\n",
      "Computing jaccard distance...\n"
     ]
    },
    {
     "name": "stderr",
     "output_type": "stream",
     "text": [
      "bruteForceKnn is deprecated; call bfKnn instead\n"
     ]
    },
    {
     "name": "stdout",
     "output_type": "stream",
     "text": [
      "Jaccard distance computing time cost: 547.3781230449677\n",
      "Reliability: 0.992\n",
      "\u001b[32mMean Purity: 0.03921\u001b[0m\n",
      "\u001b[34mThere are 3 clusters with 4 cameras\u001b[0m\n",
      "\u001b[34mThere are 3 clusters with 5 cameras\u001b[0m\n",
      "\u001b[34mThere are 3 clusters with 6 cameras\u001b[0m\n",
      "\u001b[34mThere are 2 clusters with 7 cameras\u001b[0m\n",
      "\u001b[34mThere are 3 clusters with 8 cameras\u001b[0m\n",
      "\u001b[34mThere are 1 clusters with 9 cameras\u001b[0m\n",
      "\u001b[34mThere are 1 clusters with 10 cameras\u001b[0m\n",
      "\u001b[34mThere are 2 clusters with 12 cameras\u001b[0m\n",
      "\u001b[34mThere are 1 clusters with 14 cameras\u001b[0m\n",
      "\u001b[34mThere are 1 clusters with 16 cameras\u001b[0m\n",
      "\u001b[34mThere are 1 clusters with 17 cameras\u001b[0m\n",
      "\u001b[34mThere are 2 clusters with 18 cameras\u001b[0m\n",
      "\u001b[34mThere are 1 clusters with 35 cameras\u001b[0m\n",
      "\u001b[34mThere are 1 clusters with 43 cameras\u001b[0m\n",
      "\u001b[34mThere are 1 clusters with 44 cameras\u001b[0m\n",
      "\u001b[34mThere are 1 clusters with 46 cameras\u001b[0m\n",
      "\u001b[34mThere are 1 clusters with 50 cameras\u001b[0m\n",
      "\u001b[34mThere are 1 clusters with 52 cameras\u001b[0m\n",
      "\u001b[34mThere are 1 clusters with 53 cameras\u001b[0m\n",
      "\u001b[34mThere are 1 clusters with 54 cameras\u001b[0m\n",
      "\u001b[34mThere are 3 clusters with 55 cameras\u001b[0m\n",
      "\u001b[34mThere are 1 clusters with 56 cameras\u001b[0m\n",
      "\u001b[34mThere are 6 clusters with 57 cameras\u001b[0m\n",
      "\u001b[34mThere are 5 clusters with 58 cameras\u001b[0m\n",
      "\u001b[34mThere are 3 clusters with 59 cameras\u001b[0m\n",
      "\u001b[34mThere are 8 clusters with 60 cameras\u001b[0m\n",
      "\u001b[34mThere are 14 clusters with 61 cameras\u001b[0m\n",
      "\u001b[34mThere are 18 clusters with 62 cameras\u001b[0m\n",
      "\u001b[34mThere are 42 clusters with 63 cameras\u001b[0m\n",
      "\u001b[34mThere are 400 clusters with 64 cameras\u001b[0m\n",
      "\u001b[34mThere are 3 clusters with 66 cameras\u001b[0m\n",
      "\u001b[34mThere are 1 clusters with 68 cameras\u001b[0m\n",
      "\u001b[34mThere are 1 clusters with 69 cameras\u001b[0m\n",
      "\u001b[34mThere are 1 clusters with 73 cameras\u001b[0m\n",
      "\u001b[34mThere are 1 clusters with 106 cameras\u001b[0m\n",
      "\u001b[34mThere are 1 clusters with 109 cameras\u001b[0m\n",
      "\u001b[34mThere are 1 clusters with 116 cameras\u001b[0m\n",
      "\u001b[34mThere are 1 clusters with 118 cameras\u001b[0m\n",
      "\u001b[34mThere are 1 clusters with 121 cameras\u001b[0m\n",
      "\u001b[34mThere are 1 clusters with 122 cameras\u001b[0m\n",
      "\u001b[34mThere are 3 clusters with 123 cameras\u001b[0m\n",
      "\u001b[34mThere are 3 clusters with 124 cameras\u001b[0m\n",
      "\u001b[34mThere are 2 clusters with 126 cameras\u001b[0m\n",
      "\u001b[34mThere are 3 clusters with 127 cameras\u001b[0m\n",
      "\u001b[34mThere are 11 clusters with 128 cameras\u001b[0m\n",
      "\u001b[34mThere are 1 clusters with 131 cameras\u001b[0m\n",
      "\u001b[34mThere are 1 clusters with 134 cameras\u001b[0m\n",
      "\u001b[34mThere are 1 clusters with 187 cameras\u001b[0m\n",
      "\u001b[34mThere are 2 clusters with 188 cameras\u001b[0m\n",
      "\u001b[34mThere are 1 clusters with 190 cameras\u001b[0m\n",
      "\u001b[34mThere are 1 clusters with 192 cameras\u001b[0m\n",
      "\u001b[34mThere are 1 clusters with 338 cameras\u001b[0m\n",
      "\u001b[34mThere are 1 clusters with 361 cameras\u001b[0m\n",
      "Number of classes: 574\n",
      "\u001b[36mLearning Rate: 0.000350\u001b[0m\n",
      "encontrou modelos vgg16. Carregando...\n",
      "encontrou modelos resnet50. Carregando...\n",
      "encontrou modelos osnet. Carregando...\n",
      "encontrou modelos densenet121. Carregando...\n",
      "###============ Iteration number 28/90 ============###\n",
      "Extracting Online Features for vgg16 ...\n",
      "Features extracted in 249.98 seconds\n",
      "Computing jaccard distance...\n"
     ]
    },
    {
     "name": "stderr",
     "output_type": "stream",
     "text": [
      "bruteForceKnn is deprecated; call bfKnn instead\n"
     ]
    },
    {
     "name": "stdout",
     "output_type": "stream",
     "text": [
      "Jaccard distance computing time cost: 544.0742628574371\n",
      "Extracting Online Features for resnet50 ...\n",
      "Features extracted in 250.00 seconds\n",
      "Computing jaccard distance...\n"
     ]
    },
    {
     "name": "stderr",
     "output_type": "stream",
     "text": [
      "bruteForceKnn is deprecated; call bfKnn instead\n"
     ]
    },
    {
     "name": "stdout",
     "output_type": "stream",
     "text": [
      "Jaccard distance computing time cost: 530.4612562656403\n",
      "Extracting Online Features for osnet ...\n",
      "Features extracted in 259.56 seconds\n",
      "Computing jaccard distance...\n"
     ]
    },
    {
     "name": "stderr",
     "output_type": "stream",
     "text": [
      "bruteForceKnn is deprecated; call bfKnn instead\n"
     ]
    },
    {
     "name": "stdout",
     "output_type": "stream",
     "text": [
      "Jaccard distance computing time cost: 535.1041197776794\n",
      "Extracting Online Features for densenet121 ...\n",
      "Features extracted in 257.33 seconds\n",
      "Computing jaccard distance...\n"
     ]
    },
    {
     "name": "stderr",
     "output_type": "stream",
     "text": [
      "bruteForceKnn is deprecated; call bfKnn instead\n"
     ]
    },
    {
     "name": "stdout",
     "output_type": "stream",
     "text": [
      "Jaccard distance computing time cost: 538.8053107261658\n",
      "Reliability: 0.992\n",
      "\u001b[32mMean Purity: 0.03921\u001b[0m\n",
      "\u001b[34mThere are 3 clusters with 4 cameras\u001b[0m\n",
      "\u001b[34mThere are 3 clusters with 5 cameras\u001b[0m\n",
      "\u001b[34mThere are 3 clusters with 6 cameras\u001b[0m\n",
      "\u001b[34mThere are 2 clusters with 7 cameras\u001b[0m\n",
      "\u001b[34mThere are 3 clusters with 8 cameras\u001b[0m\n",
      "\u001b[34mThere are 1 clusters with 9 cameras\u001b[0m\n",
      "\u001b[34mThere are 1 clusters with 10 cameras\u001b[0m\n",
      "\u001b[34mThere are 2 clusters with 12 cameras\u001b[0m\n",
      "\u001b[34mThere are 1 clusters with 14 cameras\u001b[0m\n",
      "\u001b[34mThere are 1 clusters with 16 cameras\u001b[0m\n",
      "\u001b[34mThere are 1 clusters with 17 cameras\u001b[0m\n",
      "\u001b[34mThere are 2 clusters with 18 cameras\u001b[0m\n",
      "\u001b[34mThere are 1 clusters with 35 cameras\u001b[0m\n",
      "\u001b[34mThere are 1 clusters with 43 cameras\u001b[0m\n",
      "\u001b[34mThere are 1 clusters with 44 cameras\u001b[0m\n",
      "\u001b[34mThere are 1 clusters with 46 cameras\u001b[0m\n",
      "\u001b[34mThere are 1 clusters with 50 cameras\u001b[0m\n",
      "\u001b[34mThere are 1 clusters with 52 cameras\u001b[0m\n",
      "\u001b[34mThere are 1 clusters with 53 cameras\u001b[0m\n",
      "\u001b[34mThere are 1 clusters with 54 cameras\u001b[0m\n",
      "\u001b[34mThere are 3 clusters with 55 cameras\u001b[0m\n",
      "\u001b[34mThere are 1 clusters with 56 cameras\u001b[0m\n",
      "\u001b[34mThere are 6 clusters with 57 cameras\u001b[0m\n",
      "\u001b[34mThere are 5 clusters with 58 cameras\u001b[0m\n",
      "\u001b[34mThere are 3 clusters with 59 cameras\u001b[0m\n",
      "\u001b[34mThere are 8 clusters with 60 cameras\u001b[0m\n",
      "\u001b[34mThere are 14 clusters with 61 cameras\u001b[0m\n",
      "\u001b[34mThere are 18 clusters with 62 cameras\u001b[0m\n",
      "\u001b[34mThere are 42 clusters with 63 cameras\u001b[0m\n",
      "\u001b[34mThere are 400 clusters with 64 cameras\u001b[0m\n",
      "\u001b[34mThere are 3 clusters with 66 cameras\u001b[0m\n",
      "\u001b[34mThere are 1 clusters with 68 cameras\u001b[0m\n",
      "\u001b[34mThere are 1 clusters with 69 cameras\u001b[0m\n",
      "\u001b[34mThere are 1 clusters with 73 cameras\u001b[0m\n",
      "\u001b[34mThere are 1 clusters with 106 cameras\u001b[0m\n",
      "\u001b[34mThere are 1 clusters with 109 cameras\u001b[0m\n",
      "\u001b[34mThere are 1 clusters with 116 cameras\u001b[0m\n",
      "\u001b[34mThere are 1 clusters with 118 cameras\u001b[0m\n",
      "\u001b[34mThere are 1 clusters with 121 cameras\u001b[0m\n",
      "\u001b[34mThere are 1 clusters with 122 cameras\u001b[0m\n",
      "\u001b[34mThere are 3 clusters with 123 cameras\u001b[0m\n",
      "\u001b[34mThere are 3 clusters with 124 cameras\u001b[0m\n",
      "\u001b[34mThere are 2 clusters with 126 cameras\u001b[0m\n",
      "\u001b[34mThere are 3 clusters with 127 cameras\u001b[0m\n",
      "\u001b[34mThere are 11 clusters with 128 cameras\u001b[0m\n",
      "\u001b[34mThere are 1 clusters with 131 cameras\u001b[0m\n",
      "\u001b[34mThere are 1 clusters with 134 cameras\u001b[0m\n",
      "\u001b[34mThere are 1 clusters with 187 cameras\u001b[0m\n",
      "\u001b[34mThere are 2 clusters with 188 cameras\u001b[0m\n",
      "\u001b[34mThere are 1 clusters with 190 cameras\u001b[0m\n",
      "\u001b[34mThere are 1 clusters with 192 cameras\u001b[0m\n",
      "\u001b[34mThere are 1 clusters with 338 cameras\u001b[0m\n",
      "\u001b[34mThere are 1 clusters with 361 cameras\u001b[0m\n",
      "Number of classes: 574\n",
      "\u001b[36mLearning Rate: 0.000350\u001b[0m\n",
      "encontrou modelos vgg16. Carregando...\n",
      "encontrou modelos resnet50. Carregando...\n",
      "encontrou modelos osnet. Carregando...\n",
      "encontrou modelos densenet121. Carregando...\n",
      "###============ Iteration number 29/90 ============###\n",
      "Extracting Online Features for vgg16 ...\n",
      "Features extracted in 250.83 seconds\n",
      "Computing jaccard distance...\n"
     ]
    },
    {
     "name": "stderr",
     "output_type": "stream",
     "text": [
      "bruteForceKnn is deprecated; call bfKnn instead\n"
     ]
    },
    {
     "name": "stdout",
     "output_type": "stream",
     "text": [
      "Jaccard distance computing time cost: 531.7400982379913\n",
      "Extracting Online Features for resnet50 ...\n",
      "Features extracted in 244.52 seconds\n",
      "Computing jaccard distance...\n"
     ]
    },
    {
     "name": "stderr",
     "output_type": "stream",
     "text": [
      "bruteForceKnn is deprecated; call bfKnn instead\n"
     ]
    },
    {
     "name": "stdout",
     "output_type": "stream",
     "text": [
      "Jaccard distance computing time cost: 545.2088015079498\n",
      "Extracting Online Features for osnet ...\n",
      "Features extracted in 237.87 seconds\n",
      "Computing jaccard distance...\n"
     ]
    },
    {
     "name": "stderr",
     "output_type": "stream",
     "text": [
      "bruteForceKnn is deprecated; call bfKnn instead\n"
     ]
    },
    {
     "name": "stdout",
     "output_type": "stream",
     "text": [
      "Jaccard distance computing time cost: 538.760470867157\n",
      "Extracting Online Features for densenet121 ...\n",
      "Features extracted in 254.11 seconds\n",
      "Computing jaccard distance...\n"
     ]
    },
    {
     "name": "stderr",
     "output_type": "stream",
     "text": [
      "bruteForceKnn is deprecated; call bfKnn instead\n"
     ]
    },
    {
     "name": "stdout",
     "output_type": "stream",
     "text": [
      "Jaccard distance computing time cost: 547.5175013542175\n",
      "Reliability: 0.992\n",
      "\u001b[32mMean Purity: 0.03921\u001b[0m\n",
      "\u001b[34mThere are 3 clusters with 4 cameras\u001b[0m\n",
      "\u001b[34mThere are 3 clusters with 5 cameras\u001b[0m\n",
      "\u001b[34mThere are 3 clusters with 6 cameras\u001b[0m\n",
      "\u001b[34mThere are 2 clusters with 7 cameras\u001b[0m\n",
      "\u001b[34mThere are 3 clusters with 8 cameras\u001b[0m\n",
      "\u001b[34mThere are 1 clusters with 9 cameras\u001b[0m\n",
      "\u001b[34mThere are 1 clusters with 10 cameras\u001b[0m\n",
      "\u001b[34mThere are 2 clusters with 12 cameras\u001b[0m\n",
      "\u001b[34mThere are 1 clusters with 14 cameras\u001b[0m\n",
      "\u001b[34mThere are 1 clusters with 16 cameras\u001b[0m\n",
      "\u001b[34mThere are 1 clusters with 17 cameras\u001b[0m\n",
      "\u001b[34mThere are 2 clusters with 18 cameras\u001b[0m\n",
      "\u001b[34mThere are 1 clusters with 35 cameras\u001b[0m\n",
      "\u001b[34mThere are 1 clusters with 43 cameras\u001b[0m\n",
      "\u001b[34mThere are 1 clusters with 44 cameras\u001b[0m\n",
      "\u001b[34mThere are 1 clusters with 46 cameras\u001b[0m\n",
      "\u001b[34mThere are 1 clusters with 50 cameras\u001b[0m\n",
      "\u001b[34mThere are 1 clusters with 52 cameras\u001b[0m\n",
      "\u001b[34mThere are 1 clusters with 53 cameras\u001b[0m\n",
      "\u001b[34mThere are 1 clusters with 54 cameras\u001b[0m\n",
      "\u001b[34mThere are 3 clusters with 55 cameras\u001b[0m\n",
      "\u001b[34mThere are 1 clusters with 56 cameras\u001b[0m\n",
      "\u001b[34mThere are 6 clusters with 57 cameras\u001b[0m\n",
      "\u001b[34mThere are 5 clusters with 58 cameras\u001b[0m\n",
      "\u001b[34mThere are 3 clusters with 59 cameras\u001b[0m\n",
      "\u001b[34mThere are 8 clusters with 60 cameras\u001b[0m\n",
      "\u001b[34mThere are 14 clusters with 61 cameras\u001b[0m\n",
      "\u001b[34mThere are 18 clusters with 62 cameras\u001b[0m\n",
      "\u001b[34mThere are 42 clusters with 63 cameras\u001b[0m\n",
      "\u001b[34mThere are 400 clusters with 64 cameras\u001b[0m\n",
      "\u001b[34mThere are 3 clusters with 66 cameras\u001b[0m\n",
      "\u001b[34mThere are 1 clusters with 68 cameras\u001b[0m\n",
      "\u001b[34mThere are 1 clusters with 69 cameras\u001b[0m\n",
      "\u001b[34mThere are 1 clusters with 73 cameras\u001b[0m\n",
      "\u001b[34mThere are 1 clusters with 106 cameras\u001b[0m\n",
      "\u001b[34mThere are 1 clusters with 109 cameras\u001b[0m\n",
      "\u001b[34mThere are 1 clusters with 116 cameras\u001b[0m\n",
      "\u001b[34mThere are 1 clusters with 118 cameras\u001b[0m\n",
      "\u001b[34mThere are 1 clusters with 121 cameras\u001b[0m\n",
      "\u001b[34mThere are 1 clusters with 122 cameras\u001b[0m\n",
      "\u001b[34mThere are 3 clusters with 123 cameras\u001b[0m\n",
      "\u001b[34mThere are 3 clusters with 124 cameras\u001b[0m\n",
      "\u001b[34mThere are 2 clusters with 126 cameras\u001b[0m\n",
      "\u001b[34mThere are 3 clusters with 127 cameras\u001b[0m\n",
      "\u001b[34mThere are 11 clusters with 128 cameras\u001b[0m\n",
      "\u001b[34mThere are 1 clusters with 131 cameras\u001b[0m\n",
      "\u001b[34mThere are 1 clusters with 134 cameras\u001b[0m\n",
      "\u001b[34mThere are 1 clusters with 187 cameras\u001b[0m\n",
      "\u001b[34mThere are 2 clusters with 188 cameras\u001b[0m\n",
      "\u001b[34mThere are 1 clusters with 190 cameras\u001b[0m\n",
      "\u001b[34mThere are 1 clusters with 192 cameras\u001b[0m\n",
      "\u001b[34mThere are 1 clusters with 338 cameras\u001b[0m\n",
      "\u001b[34mThere are 1 clusters with 361 cameras\u001b[0m\n",
      "Number of classes: 574\n",
      "\u001b[36mLearning Rate: 0.000350\u001b[0m\n",
      "encontrou modelos vgg16. Carregando...\n",
      "encontrou modelos resnet50. Carregando...\n",
      "encontrou modelos osnet. Carregando...\n",
      "encontrou modelos densenet121. Carregando...\n",
      "###============ Iteration number 30/90 ============###\n",
      "Extracting Online Features for vgg16 ...\n",
      "Features extracted in 248.71 seconds\n",
      "Computing jaccard distance...\n"
     ]
    },
    {
     "name": "stderr",
     "output_type": "stream",
     "text": [
      "bruteForceKnn is deprecated; call bfKnn instead\n"
     ]
    },
    {
     "name": "stdout",
     "output_type": "stream",
     "text": [
      "Jaccard distance computing time cost: 547.7704720497131\n",
      "Extracting Online Features for resnet50 ...\n",
      "Features extracted in 254.91 seconds\n",
      "Computing jaccard distance...\n"
     ]
    },
    {
     "name": "stderr",
     "output_type": "stream",
     "text": [
      "bruteForceKnn is deprecated; call bfKnn instead\n"
     ]
    },
    {
     "name": "stdout",
     "output_type": "stream",
     "text": [
      "Jaccard distance computing time cost: 528.2625095844269\n",
      "Extracting Online Features for osnet ...\n",
      "Features extracted in 251.36 seconds\n",
      "Computing jaccard distance...\n"
     ]
    },
    {
     "name": "stderr",
     "output_type": "stream",
     "text": [
      "bruteForceKnn is deprecated; call bfKnn instead\n"
     ]
    },
    {
     "name": "stdout",
     "output_type": "stream",
     "text": [
      "Jaccard distance computing time cost: 518.1770968437195\n",
      "Extracting Online Features for densenet121 ...\n",
      "Features extracted in 252.28 seconds\n",
      "Computing jaccard distance...\n"
     ]
    },
    {
     "name": "stderr",
     "output_type": "stream",
     "text": [
      "bruteForceKnn is deprecated; call bfKnn instead\n"
     ]
    },
    {
     "name": "stdout",
     "output_type": "stream",
     "text": [
      "Jaccard distance computing time cost: 547.4464011192322\n",
      "Reliability: 0.992\n",
      "\u001b[32mMean Purity: 0.03921\u001b[0m\n",
      "\u001b[34mThere are 3 clusters with 4 cameras\u001b[0m\n",
      "\u001b[34mThere are 3 clusters with 5 cameras\u001b[0m\n",
      "\u001b[34mThere are 3 clusters with 6 cameras\u001b[0m\n",
      "\u001b[34mThere are 2 clusters with 7 cameras\u001b[0m\n",
      "\u001b[34mThere are 3 clusters with 8 cameras\u001b[0m\n",
      "\u001b[34mThere are 1 clusters with 9 cameras\u001b[0m\n",
      "\u001b[34mThere are 1 clusters with 10 cameras\u001b[0m\n",
      "\u001b[34mThere are 2 clusters with 12 cameras\u001b[0m\n",
      "\u001b[34mThere are 1 clusters with 14 cameras\u001b[0m\n",
      "\u001b[34mThere are 1 clusters with 16 cameras\u001b[0m\n",
      "\u001b[34mThere are 1 clusters with 17 cameras\u001b[0m\n",
      "\u001b[34mThere are 2 clusters with 18 cameras\u001b[0m\n",
      "\u001b[34mThere are 1 clusters with 35 cameras\u001b[0m\n",
      "\u001b[34mThere are 1 clusters with 43 cameras\u001b[0m\n",
      "\u001b[34mThere are 1 clusters with 44 cameras\u001b[0m\n",
      "\u001b[34mThere are 1 clusters with 46 cameras\u001b[0m\n",
      "\u001b[34mThere are 1 clusters with 50 cameras\u001b[0m\n",
      "\u001b[34mThere are 1 clusters with 52 cameras\u001b[0m\n",
      "\u001b[34mThere are 1 clusters with 53 cameras\u001b[0m\n",
      "\u001b[34mThere are 1 clusters with 54 cameras\u001b[0m\n",
      "\u001b[34mThere are 3 clusters with 55 cameras\u001b[0m\n",
      "\u001b[34mThere are 1 clusters with 56 cameras\u001b[0m\n",
      "\u001b[34mThere are 6 clusters with 57 cameras\u001b[0m\n",
      "\u001b[34mThere are 5 clusters with 58 cameras\u001b[0m\n",
      "\u001b[34mThere are 3 clusters with 59 cameras\u001b[0m\n",
      "\u001b[34mThere are 8 clusters with 60 cameras\u001b[0m\n",
      "\u001b[34mThere are 14 clusters with 61 cameras\u001b[0m\n",
      "\u001b[34mThere are 18 clusters with 62 cameras\u001b[0m\n",
      "\u001b[34mThere are 42 clusters with 63 cameras\u001b[0m\n",
      "\u001b[34mThere are 400 clusters with 64 cameras\u001b[0m\n",
      "\u001b[34mThere are 3 clusters with 66 cameras\u001b[0m\n",
      "\u001b[34mThere are 1 clusters with 68 cameras\u001b[0m\n",
      "\u001b[34mThere are 1 clusters with 69 cameras\u001b[0m\n",
      "\u001b[34mThere are 1 clusters with 73 cameras\u001b[0m\n",
      "\u001b[34mThere are 1 clusters with 106 cameras\u001b[0m\n",
      "\u001b[34mThere are 1 clusters with 109 cameras\u001b[0m\n",
      "\u001b[34mThere are 1 clusters with 116 cameras\u001b[0m\n",
      "\u001b[34mThere are 1 clusters with 118 cameras\u001b[0m\n",
      "\u001b[34mThere are 1 clusters with 121 cameras\u001b[0m\n",
      "\u001b[34mThere are 1 clusters with 122 cameras\u001b[0m\n",
      "\u001b[34mThere are 3 clusters with 123 cameras\u001b[0m\n",
      "\u001b[34mThere are 3 clusters with 124 cameras\u001b[0m\n",
      "\u001b[34mThere are 2 clusters with 126 cameras\u001b[0m\n",
      "\u001b[34mThere are 3 clusters with 127 cameras\u001b[0m\n",
      "\u001b[34mThere are 11 clusters with 128 cameras\u001b[0m\n",
      "\u001b[34mThere are 1 clusters with 131 cameras\u001b[0m\n",
      "\u001b[34mThere are 1 clusters with 134 cameras\u001b[0m\n",
      "\u001b[34mThere are 1 clusters with 187 cameras\u001b[0m\n",
      "\u001b[34mThere are 2 clusters with 188 cameras\u001b[0m\n",
      "\u001b[34mThere are 1 clusters with 190 cameras\u001b[0m\n",
      "\u001b[34mThere are 1 clusters with 192 cameras\u001b[0m\n",
      "\u001b[34mThere are 1 clusters with 338 cameras\u001b[0m\n",
      "\u001b[34mThere are 1 clusters with 361 cameras\u001b[0m\n",
      "Number of classes: 574\n",
      "\u001b[36mLearning Rate: 0.000350\u001b[0m\n",
      "encontrou modelos vgg16. Carregando...\n",
      "encontrou modelos resnet50. Carregando...\n",
      "encontrou modelos osnet. Carregando...\n",
      "encontrou modelos densenet121. Carregando...\n",
      "\u001b[33mValidating online vgg16 ...\u001b[0m\n",
      "Features extracted in 82.30 seconds\n",
      "Features extracted in 146.78 seconds\n",
      "Computing CMC and mAP ...\n",
      "** Results **\n",
      "mAP: 70.12%\n",
      "CMC curve\n",
      "Rank-1  : 75.96%\n",
      "Rank-5  : 91.27%\n",
      "Rank-10 : 94.82%\n",
      "Rank-20 : 96.79%\n",
      "\u001b[33mValidating momentum vgg16 ...\u001b[0m\n",
      "Features extracted in 79.57 seconds\n",
      "Features extracted in 147.31 seconds\n",
      "Computing CMC and mAP ...\n",
      "** Results **\n",
      "mAP: 66.17%\n",
      "CMC curve\n",
      "Rank-1  : 60.22%\n",
      "Rank-5  : 85.69%\n",
      "Rank-10 : 92.76%\n",
      "Rank-20 : 97.47%\n",
      "\u001b[33mValidating online resnet50 ...\u001b[0m\n",
      "Features extracted in 78.59 seconds\n",
      "Features extracted in 145.34 seconds\n",
      "Computing CMC and mAP ...\n",
      "** Results **\n",
      "mAP: 67.50%\n",
      "CMC curve\n",
      "Rank-1  : 55.02%\n",
      "Rank-5  : 80.54%\n",
      "Rank-10 : 89.57%\n",
      "Rank-20 : 96.21%\n",
      "\u001b[33mValidating momentum resnet50 ...\u001b[0m\n",
      "Features extracted in 80.53 seconds\n",
      "Features extracted in 146.15 seconds\n",
      "Computing CMC and mAP ...\n",
      "** Results **\n",
      "mAP: 66.53%\n",
      "CMC curve\n",
      "Rank-1  : 51.40%\n",
      "Rank-5  : 82.97%\n",
      "Rank-10 : 92.60%\n",
      "Rank-20 : 97.67%\n",
      "\u001b[33mValidating online osnet ...\u001b[0m\n",
      "Features extracted in 77.32 seconds\n",
      "Features extracted in 147.56 seconds\n",
      "Computing CMC and mAP ...\n",
      "** Results **\n",
      "mAP: 70.98%\n",
      "CMC curve\n",
      "Rank-1  : 66.36%\n",
      "Rank-5  : 91.56%\n",
      "Rank-10 : 96.56%\n",
      "Rank-20 : 99.07%\n",
      "\u001b[33mValidating momentum osnet ...\u001b[0m\n",
      "Features extracted in 80.49 seconds\n",
      "Features extracted in 145.73 seconds\n",
      "Computing CMC and mAP ...\n",
      "** Results **\n",
      "mAP: 64.56%\n",
      "CMC curve\n",
      "Rank-1  : 55.77%\n",
      "Rank-5  : 86.08%\n",
      "Rank-10 : 94.11%\n",
      "Rank-20 : 97.92%\n",
      "\u001b[33mValidating online densenet121 ...\u001b[0m\n",
      "Features extracted in 78.85 seconds\n",
      "Features extracted in 145.84 seconds\n",
      "Computing CMC and mAP ...\n",
      "** Results **\n",
      "mAP: 69.32%\n",
      "CMC curve\n",
      "Rank-1  : 61.53%\n",
      "Rank-5  : 85.89%\n",
      "Rank-10 : 93.66%\n",
      "Rank-20 : 97.66%\n",
      "\u001b[33mValidating momentum densenet121 ...\u001b[0m\n",
      "Features extracted in 77.91 seconds\n",
      "Features extracted in 144.48 seconds\n",
      "Computing CMC and mAP ...\n",
      "** Results **\n",
      "mAP: 66.02%\n",
      "CMC curve\n",
      "Rank-1  : 63.00%\n",
      "Rank-5  : 91.00%\n",
      "Rank-10 : 96.36%\n",
      "Rank-20 : 98.94%\n",
      "\u001b[33mValidating ensembled with online models ...\u001b[0m\n",
      "Computing CMC and mAP ...\n",
      "** Results **\n",
      "mAP: 69.73%\n",
      "Ranks:\n",
      "Rank-1  : 63.31%\n",
      "Rank-5  : 83.51%\n",
      "Rank-10 : 91.32%\n",
      "\u001b[33mValidating ensembled with momentum models ...\u001b[0m\n",
      "Computing CMC and mAP ...\n",
      "** Results **\n",
      "mAP: 65.40%\n",
      "Ranks:\n",
      "Rank-1  : 60.95%\n",
      "Rank-5  : 84.80%\n",
      "Rank-10 : 92.04%\n",
      "###============ Iteration number 31/90 ============###\n",
      "Extracting Online Features for vgg16 ...\n",
      "Features extracted in 246.60 seconds\n",
      "Computing jaccard distance...\n"
     ]
    },
    {
     "name": "stderr",
     "output_type": "stream",
     "text": [
      "bruteForceKnn is deprecated; call bfKnn instead\n"
     ]
    },
    {
     "name": "stdout",
     "output_type": "stream",
     "text": [
      "Jaccard distance computing time cost: 530.6563456058502\n",
      "Extracting Online Features for resnet50 ...\n",
      "Features extracted in 263.18 seconds\n",
      "Computing jaccard distance...\n"
     ]
    },
    {
     "name": "stderr",
     "output_type": "stream",
     "text": [
      "bruteForceKnn is deprecated; call bfKnn instead\n"
     ]
    },
    {
     "name": "stdout",
     "output_type": "stream",
     "text": [
      "Jaccard distance computing time cost: 527.0331606864929\n",
      "Extracting Online Features for osnet ...\n",
      "Features extracted in 240.51 seconds\n",
      "Computing jaccard distance...\n"
     ]
    },
    {
     "name": "stderr",
     "output_type": "stream",
     "text": [
      "bruteForceKnn is deprecated; call bfKnn instead\n"
     ]
    },
    {
     "name": "stdout",
     "output_type": "stream",
     "text": [
      "Jaccard distance computing time cost: 571.6395373344421\n",
      "Extracting Online Features for densenet121 ...\n",
      "Features extracted in 247.47 seconds\n",
      "Computing jaccard distance...\n"
     ]
    },
    {
     "name": "stderr",
     "output_type": "stream",
     "text": [
      "bruteForceKnn is deprecated; call bfKnn instead\n"
     ]
    },
    {
     "name": "stdout",
     "output_type": "stream",
     "text": [
      "Jaccard distance computing time cost: 545.2869539260864\n",
      "Reliability: 0.992\n",
      "\u001b[32mMean Purity: 0.03921\u001b[0m\n",
      "\u001b[34mThere are 3 clusters with 4 cameras\u001b[0m\n",
      "\u001b[34mThere are 3 clusters with 5 cameras\u001b[0m\n",
      "\u001b[34mThere are 3 clusters with 6 cameras\u001b[0m\n",
      "\u001b[34mThere are 2 clusters with 7 cameras\u001b[0m\n",
      "\u001b[34mThere are 3 clusters with 8 cameras\u001b[0m\n",
      "\u001b[34mThere are 1 clusters with 9 cameras\u001b[0m\n",
      "\u001b[34mThere are 1 clusters with 10 cameras\u001b[0m\n",
      "\u001b[34mThere are 2 clusters with 12 cameras\u001b[0m\n",
      "\u001b[34mThere are 1 clusters with 14 cameras\u001b[0m\n",
      "\u001b[34mThere are 1 clusters with 16 cameras\u001b[0m\n",
      "\u001b[34mThere are 1 clusters with 17 cameras\u001b[0m\n",
      "\u001b[34mThere are 2 clusters with 18 cameras\u001b[0m\n",
      "\u001b[34mThere are 1 clusters with 35 cameras\u001b[0m\n",
      "\u001b[34mThere are 1 clusters with 43 cameras\u001b[0m\n",
      "\u001b[34mThere are 1 clusters with 44 cameras\u001b[0m\n",
      "\u001b[34mThere are 1 clusters with 46 cameras\u001b[0m\n",
      "\u001b[34mThere are 1 clusters with 50 cameras\u001b[0m\n",
      "\u001b[34mThere are 1 clusters with 52 cameras\u001b[0m\n",
      "\u001b[34mThere are 1 clusters with 53 cameras\u001b[0m\n",
      "\u001b[34mThere are 1 clusters with 54 cameras\u001b[0m\n",
      "\u001b[34mThere are 3 clusters with 55 cameras\u001b[0m\n",
      "\u001b[34mThere are 1 clusters with 56 cameras\u001b[0m\n",
      "\u001b[34mThere are 6 clusters with 57 cameras\u001b[0m\n",
      "\u001b[34mThere are 5 clusters with 58 cameras\u001b[0m\n",
      "\u001b[34mThere are 3 clusters with 59 cameras\u001b[0m\n",
      "\u001b[34mThere are 8 clusters with 60 cameras\u001b[0m\n",
      "\u001b[34mThere are 14 clusters with 61 cameras\u001b[0m\n",
      "\u001b[34mThere are 18 clusters with 62 cameras\u001b[0m\n",
      "\u001b[34mThere are 42 clusters with 63 cameras\u001b[0m\n",
      "\u001b[34mThere are 400 clusters with 64 cameras\u001b[0m\n",
      "\u001b[34mThere are 3 clusters with 66 cameras\u001b[0m\n",
      "\u001b[34mThere are 1 clusters with 68 cameras\u001b[0m\n",
      "\u001b[34mThere are 1 clusters with 69 cameras\u001b[0m\n",
      "\u001b[34mThere are 1 clusters with 73 cameras\u001b[0m\n",
      "\u001b[34mThere are 1 clusters with 106 cameras\u001b[0m\n",
      "\u001b[34mThere are 1 clusters with 109 cameras\u001b[0m\n",
      "\u001b[34mThere are 1 clusters with 116 cameras\u001b[0m\n",
      "\u001b[34mThere are 1 clusters with 118 cameras\u001b[0m\n",
      "\u001b[34mThere are 1 clusters with 121 cameras\u001b[0m\n",
      "\u001b[34mThere are 1 clusters with 122 cameras\u001b[0m\n",
      "\u001b[34mThere are 3 clusters with 123 cameras\u001b[0m\n",
      "\u001b[34mThere are 3 clusters with 124 cameras\u001b[0m\n",
      "\u001b[34mThere are 2 clusters with 126 cameras\u001b[0m\n",
      "\u001b[34mThere are 3 clusters with 127 cameras\u001b[0m\n",
      "\u001b[34mThere are 11 clusters with 128 cameras\u001b[0m\n",
      "\u001b[34mThere are 1 clusters with 131 cameras\u001b[0m\n",
      "\u001b[34mThere are 1 clusters with 134 cameras\u001b[0m\n",
      "\u001b[34mThere are 1 clusters with 187 cameras\u001b[0m\n",
      "\u001b[34mThere are 2 clusters with 188 cameras\u001b[0m\n",
      "\u001b[34mThere are 1 clusters with 190 cameras\u001b[0m\n",
      "\u001b[34mThere are 1 clusters with 192 cameras\u001b[0m\n",
      "\u001b[34mThere are 1 clusters with 338 cameras\u001b[0m\n",
      "\u001b[34mThere are 1 clusters with 361 cameras\u001b[0m\n",
      "Number of classes: 574\n",
      "\u001b[36mLearning Rate: 0.000350\u001b[0m\n",
      "encontrou modelos vgg16. Carregando...\n",
      "encontrou modelos resnet50. Carregando...\n",
      "encontrou modelos osnet. Carregando...\n",
      "encontrou modelos densenet121. Carregando...\n",
      "###============ Iteration number 32/90 ============###\n",
      "Extracting Online Features for vgg16 ...\n",
      "Features extracted in 242.78 seconds\n",
      "Computing jaccard distance...\n"
     ]
    },
    {
     "name": "stderr",
     "output_type": "stream",
     "text": [
      "bruteForceKnn is deprecated; call bfKnn instead\n"
     ]
    },
    {
     "name": "stdout",
     "output_type": "stream",
     "text": [
      "Jaccard distance computing time cost: 536.6417524814606\n",
      "Extracting Online Features for resnet50 ...\n",
      "Features extracted in 246.64 seconds\n",
      "Computing jaccard distance...\n"
     ]
    },
    {
     "name": "stderr",
     "output_type": "stream",
     "text": [
      "bruteForceKnn is deprecated; call bfKnn instead\n"
     ]
    },
    {
     "name": "stdout",
     "output_type": "stream",
     "text": [
      "Jaccard distance computing time cost: 545.1682240962982\n",
      "Extracting Online Features for osnet ...\n",
      "Features extracted in 243.91 seconds\n",
      "Computing jaccard distance...\n"
     ]
    },
    {
     "name": "stderr",
     "output_type": "stream",
     "text": [
      "bruteForceKnn is deprecated; call bfKnn instead\n"
     ]
    },
    {
     "name": "stdout",
     "output_type": "stream",
     "text": [
      "Jaccard distance computing time cost: 530.0879852771759\n",
      "Extracting Online Features for densenet121 ...\n",
      "Features extracted in 244.63 seconds\n",
      "Computing jaccard distance...\n"
     ]
    },
    {
     "name": "stderr",
     "output_type": "stream",
     "text": [
      "bruteForceKnn is deprecated; call bfKnn instead\n"
     ]
    },
    {
     "name": "stdout",
     "output_type": "stream",
     "text": [
      "Jaccard distance computing time cost: 533.3065197467804\n",
      "Reliability: 0.992\n",
      "\u001b[32mMean Purity: 0.03921\u001b[0m\n",
      "\u001b[34mThere are 3 clusters with 4 cameras\u001b[0m\n",
      "\u001b[34mThere are 3 clusters with 5 cameras\u001b[0m\n",
      "\u001b[34mThere are 3 clusters with 6 cameras\u001b[0m\n",
      "\u001b[34mThere are 2 clusters with 7 cameras\u001b[0m\n",
      "\u001b[34mThere are 3 clusters with 8 cameras\u001b[0m\n",
      "\u001b[34mThere are 1 clusters with 9 cameras\u001b[0m\n",
      "\u001b[34mThere are 1 clusters with 10 cameras\u001b[0m\n",
      "\u001b[34mThere are 2 clusters with 12 cameras\u001b[0m\n",
      "\u001b[34mThere are 1 clusters with 14 cameras\u001b[0m\n",
      "\u001b[34mThere are 1 clusters with 16 cameras\u001b[0m\n",
      "\u001b[34mThere are 1 clusters with 17 cameras\u001b[0m\n",
      "\u001b[34mThere are 2 clusters with 18 cameras\u001b[0m\n",
      "\u001b[34mThere are 1 clusters with 35 cameras\u001b[0m\n",
      "\u001b[34mThere are 1 clusters with 43 cameras\u001b[0m\n",
      "\u001b[34mThere are 1 clusters with 44 cameras\u001b[0m\n",
      "\u001b[34mThere are 1 clusters with 46 cameras\u001b[0m\n",
      "\u001b[34mThere are 1 clusters with 50 cameras\u001b[0m\n",
      "\u001b[34mThere are 1 clusters with 52 cameras\u001b[0m\n",
      "\u001b[34mThere are 1 clusters with 53 cameras\u001b[0m\n",
      "\u001b[34mThere are 1 clusters with 54 cameras\u001b[0m\n",
      "\u001b[34mThere are 3 clusters with 55 cameras\u001b[0m\n",
      "\u001b[34mThere are 1 clusters with 56 cameras\u001b[0m\n",
      "\u001b[34mThere are 6 clusters with 57 cameras\u001b[0m\n",
      "\u001b[34mThere are 5 clusters with 58 cameras\u001b[0m\n",
      "\u001b[34mThere are 3 clusters with 59 cameras\u001b[0m\n",
      "\u001b[34mThere are 8 clusters with 60 cameras\u001b[0m\n",
      "\u001b[34mThere are 14 clusters with 61 cameras\u001b[0m\n",
      "\u001b[34mThere are 18 clusters with 62 cameras\u001b[0m\n",
      "\u001b[34mThere are 42 clusters with 63 cameras\u001b[0m\n",
      "\u001b[34mThere are 400 clusters with 64 cameras\u001b[0m\n",
      "\u001b[34mThere are 3 clusters with 66 cameras\u001b[0m\n",
      "\u001b[34mThere are 1 clusters with 68 cameras\u001b[0m\n",
      "\u001b[34mThere are 1 clusters with 69 cameras\u001b[0m\n",
      "\u001b[34mThere are 1 clusters with 73 cameras\u001b[0m\n",
      "\u001b[34mThere are 1 clusters with 106 cameras\u001b[0m\n",
      "\u001b[34mThere are 1 clusters with 109 cameras\u001b[0m\n",
      "\u001b[34mThere are 1 clusters with 116 cameras\u001b[0m\n",
      "\u001b[34mThere are 1 clusters with 118 cameras\u001b[0m\n",
      "\u001b[34mThere are 1 clusters with 121 cameras\u001b[0m\n",
      "\u001b[34mThere are 1 clusters with 122 cameras\u001b[0m\n",
      "\u001b[34mThere are 3 clusters with 123 cameras\u001b[0m\n",
      "\u001b[34mThere are 3 clusters with 124 cameras\u001b[0m\n",
      "\u001b[34mThere are 2 clusters with 126 cameras\u001b[0m\n",
      "\u001b[34mThere are 3 clusters with 127 cameras\u001b[0m\n",
      "\u001b[34mThere are 11 clusters with 128 cameras\u001b[0m\n",
      "\u001b[34mThere are 1 clusters with 131 cameras\u001b[0m\n",
      "\u001b[34mThere are 1 clusters with 134 cameras\u001b[0m\n",
      "\u001b[34mThere are 1 clusters with 187 cameras\u001b[0m\n",
      "\u001b[34mThere are 2 clusters with 188 cameras\u001b[0m\n",
      "\u001b[34mThere are 1 clusters with 190 cameras\u001b[0m\n",
      "\u001b[34mThere are 1 clusters with 192 cameras\u001b[0m\n",
      "\u001b[34mThere are 1 clusters with 338 cameras\u001b[0m\n",
      "\u001b[34mThere are 1 clusters with 361 cameras\u001b[0m\n",
      "Number of classes: 574\n",
      "\u001b[36mLearning Rate: 0.000350\u001b[0m\n",
      "encontrou modelos vgg16. Carregando...\n",
      "encontrou modelos resnet50. Carregando...\n",
      "encontrou modelos osnet. Carregando...\n",
      "encontrou modelos densenet121. Carregando...\n",
      "###============ Iteration number 33/90 ============###\n",
      "Extracting Online Features for vgg16 ...\n",
      "Features extracted in 246.58 seconds\n",
      "Computing jaccard distance...\n"
     ]
    },
    {
     "name": "stderr",
     "output_type": "stream",
     "text": [
      "bruteForceKnn is deprecated; call bfKnn instead\n"
     ]
    },
    {
     "name": "stdout",
     "output_type": "stream",
     "text": [
      "Jaccard distance computing time cost: 544.6893119812012\n",
      "Extracting Online Features for resnet50 ...\n",
      "Features extracted in 248.11 seconds\n",
      "Computing jaccard distance...\n"
     ]
    },
    {
     "name": "stderr",
     "output_type": "stream",
     "text": [
      "bruteForceKnn is deprecated; call bfKnn instead\n"
     ]
    },
    {
     "name": "stdout",
     "output_type": "stream",
     "text": [
      "Jaccard distance computing time cost: 530.421217918396\n",
      "Extracting Online Features for osnet ...\n",
      "Features extracted in 252.63 seconds\n",
      "Computing jaccard distance...\n"
     ]
    },
    {
     "name": "stderr",
     "output_type": "stream",
     "text": [
      "bruteForceKnn is deprecated; call bfKnn instead\n"
     ]
    },
    {
     "name": "stdout",
     "output_type": "stream",
     "text": [
      "Jaccard distance computing time cost: 535.2849016189575\n",
      "Extracting Online Features for densenet121 ...\n",
      "Features extracted in 262.11 seconds\n",
      "Computing jaccard distance...\n"
     ]
    },
    {
     "name": "stderr",
     "output_type": "stream",
     "text": [
      "bruteForceKnn is deprecated; call bfKnn instead\n"
     ]
    },
    {
     "name": "stdout",
     "output_type": "stream",
     "text": [
      "Jaccard distance computing time cost: 535.5131421089172\n",
      "Reliability: 0.992\n",
      "\u001b[32mMean Purity: 0.03921\u001b[0m\n",
      "\u001b[34mThere are 3 clusters with 4 cameras\u001b[0m\n",
      "\u001b[34mThere are 3 clusters with 5 cameras\u001b[0m\n",
      "\u001b[34mThere are 3 clusters with 6 cameras\u001b[0m\n",
      "\u001b[34mThere are 2 clusters with 7 cameras\u001b[0m\n",
      "\u001b[34mThere are 3 clusters with 8 cameras\u001b[0m\n",
      "\u001b[34mThere are 1 clusters with 9 cameras\u001b[0m\n",
      "\u001b[34mThere are 1 clusters with 10 cameras\u001b[0m\n",
      "\u001b[34mThere are 2 clusters with 12 cameras\u001b[0m\n",
      "\u001b[34mThere are 1 clusters with 14 cameras\u001b[0m\n",
      "\u001b[34mThere are 1 clusters with 16 cameras\u001b[0m\n",
      "\u001b[34mThere are 1 clusters with 17 cameras\u001b[0m\n",
      "\u001b[34mThere are 2 clusters with 18 cameras\u001b[0m\n",
      "\u001b[34mThere are 1 clusters with 35 cameras\u001b[0m\n",
      "\u001b[34mThere are 1 clusters with 43 cameras\u001b[0m\n",
      "\u001b[34mThere are 1 clusters with 44 cameras\u001b[0m\n",
      "\u001b[34mThere are 1 clusters with 46 cameras\u001b[0m\n",
      "\u001b[34mThere are 1 clusters with 50 cameras\u001b[0m\n",
      "\u001b[34mThere are 1 clusters with 52 cameras\u001b[0m\n",
      "\u001b[34mThere are 1 clusters with 53 cameras\u001b[0m\n",
      "\u001b[34mThere are 1 clusters with 54 cameras\u001b[0m\n",
      "\u001b[34mThere are 3 clusters with 55 cameras\u001b[0m\n",
      "\u001b[34mThere are 1 clusters with 56 cameras\u001b[0m\n",
      "\u001b[34mThere are 6 clusters with 57 cameras\u001b[0m\n",
      "\u001b[34mThere are 5 clusters with 58 cameras\u001b[0m\n",
      "\u001b[34mThere are 3 clusters with 59 cameras\u001b[0m\n",
      "\u001b[34mThere are 8 clusters with 60 cameras\u001b[0m\n",
      "\u001b[34mThere are 14 clusters with 61 cameras\u001b[0m\n",
      "\u001b[34mThere are 18 clusters with 62 cameras\u001b[0m\n",
      "\u001b[34mThere are 42 clusters with 63 cameras\u001b[0m\n",
      "\u001b[34mThere are 400 clusters with 64 cameras\u001b[0m\n",
      "\u001b[34mThere are 3 clusters with 66 cameras\u001b[0m\n",
      "\u001b[34mThere are 1 clusters with 68 cameras\u001b[0m\n",
      "\u001b[34mThere are 1 clusters with 69 cameras\u001b[0m\n",
      "\u001b[34mThere are 1 clusters with 73 cameras\u001b[0m\n",
      "\u001b[34mThere are 1 clusters with 106 cameras\u001b[0m\n",
      "\u001b[34mThere are 1 clusters with 109 cameras\u001b[0m\n",
      "\u001b[34mThere are 1 clusters with 116 cameras\u001b[0m\n",
      "\u001b[34mThere are 1 clusters with 118 cameras\u001b[0m\n",
      "\u001b[34mThere are 1 clusters with 121 cameras\u001b[0m\n",
      "\u001b[34mThere are 1 clusters with 122 cameras\u001b[0m\n",
      "\u001b[34mThere are 3 clusters with 123 cameras\u001b[0m\n",
      "\u001b[34mThere are 3 clusters with 124 cameras\u001b[0m\n",
      "\u001b[34mThere are 2 clusters with 126 cameras\u001b[0m\n",
      "\u001b[34mThere are 3 clusters with 127 cameras\u001b[0m\n",
      "\u001b[34mThere are 11 clusters with 128 cameras\u001b[0m\n",
      "\u001b[34mThere are 1 clusters with 131 cameras\u001b[0m\n",
      "\u001b[34mThere are 1 clusters with 134 cameras\u001b[0m\n",
      "\u001b[34mThere are 1 clusters with 187 cameras\u001b[0m\n",
      "\u001b[34mThere are 2 clusters with 188 cameras\u001b[0m\n",
      "\u001b[34mThere are 1 clusters with 190 cameras\u001b[0m\n",
      "\u001b[34mThere are 1 clusters with 192 cameras\u001b[0m\n",
      "\u001b[34mThere are 1 clusters with 338 cameras\u001b[0m\n",
      "\u001b[34mThere are 1 clusters with 361 cameras\u001b[0m\n",
      "Number of classes: 574\n",
      "\u001b[36mLearning Rate: 0.000350\u001b[0m\n",
      "encontrou modelos vgg16. Carregando...\n",
      "encontrou modelos resnet50. Carregando...\n",
      "encontrou modelos osnet. Carregando...\n",
      "encontrou modelos densenet121. Carregando...\n",
      "###============ Iteration number 34/90 ============###\n",
      "Extracting Online Features for vgg16 ...\n",
      "Features extracted in 251.17 seconds\n",
      "Computing jaccard distance...\n"
     ]
    },
    {
     "name": "stderr",
     "output_type": "stream",
     "text": [
      "bruteForceKnn is deprecated; call bfKnn instead\n"
     ]
    },
    {
     "name": "stdout",
     "output_type": "stream",
     "text": [
      "Jaccard distance computing time cost: 545.9630489349365\n",
      "Extracting Online Features for resnet50 ...\n",
      "Features extracted in 247.04 seconds\n",
      "Computing jaccard distance...\n"
     ]
    },
    {
     "name": "stderr",
     "output_type": "stream",
     "text": [
      "bruteForceKnn is deprecated; call bfKnn instead\n"
     ]
    },
    {
     "name": "stdout",
     "output_type": "stream",
     "text": [
      "Jaccard distance computing time cost: 531.7472388744354\n",
      "Extracting Online Features for osnet ...\n",
      "Features extracted in 250.59 seconds\n",
      "Computing jaccard distance...\n"
     ]
    },
    {
     "name": "stderr",
     "output_type": "stream",
     "text": [
      "bruteForceKnn is deprecated; call bfKnn instead\n"
     ]
    },
    {
     "name": "stdout",
     "output_type": "stream",
     "text": [
      "Jaccard distance computing time cost: 536.5469498634338\n",
      "Extracting Online Features for densenet121 ...\n",
      "Features extracted in 247.03 seconds\n",
      "Computing jaccard distance...\n"
     ]
    },
    {
     "name": "stderr",
     "output_type": "stream",
     "text": [
      "bruteForceKnn is deprecated; call bfKnn instead\n"
     ]
    },
    {
     "name": "stdout",
     "output_type": "stream",
     "text": [
      "Jaccard distance computing time cost: 547.6851093769073\n",
      "Reliability: 0.992\n",
      "\u001b[32mMean Purity: 0.03921\u001b[0m\n",
      "\u001b[34mThere are 3 clusters with 4 cameras\u001b[0m\n",
      "\u001b[34mThere are 3 clusters with 5 cameras\u001b[0m\n",
      "\u001b[34mThere are 3 clusters with 6 cameras\u001b[0m\n",
      "\u001b[34mThere are 2 clusters with 7 cameras\u001b[0m\n",
      "\u001b[34mThere are 3 clusters with 8 cameras\u001b[0m\n",
      "\u001b[34mThere are 1 clusters with 9 cameras\u001b[0m\n",
      "\u001b[34mThere are 1 clusters with 10 cameras\u001b[0m\n",
      "\u001b[34mThere are 2 clusters with 12 cameras\u001b[0m\n",
      "\u001b[34mThere are 1 clusters with 14 cameras\u001b[0m\n",
      "\u001b[34mThere are 1 clusters with 16 cameras\u001b[0m\n",
      "\u001b[34mThere are 1 clusters with 17 cameras\u001b[0m\n",
      "\u001b[34mThere are 2 clusters with 18 cameras\u001b[0m\n",
      "\u001b[34mThere are 1 clusters with 35 cameras\u001b[0m\n",
      "\u001b[34mThere are 1 clusters with 43 cameras\u001b[0m\n",
      "\u001b[34mThere are 1 clusters with 44 cameras\u001b[0m\n",
      "\u001b[34mThere are 1 clusters with 46 cameras\u001b[0m\n",
      "\u001b[34mThere are 1 clusters with 50 cameras\u001b[0m\n",
      "\u001b[34mThere are 1 clusters with 52 cameras\u001b[0m\n",
      "\u001b[34mThere are 1 clusters with 53 cameras\u001b[0m\n",
      "\u001b[34mThere are 1 clusters with 54 cameras\u001b[0m\n",
      "\u001b[34mThere are 3 clusters with 55 cameras\u001b[0m\n",
      "\u001b[34mThere are 1 clusters with 56 cameras\u001b[0m\n",
      "\u001b[34mThere are 6 clusters with 57 cameras\u001b[0m\n",
      "\u001b[34mThere are 5 clusters with 58 cameras\u001b[0m\n",
      "\u001b[34mThere are 3 clusters with 59 cameras\u001b[0m\n",
      "\u001b[34mThere are 8 clusters with 60 cameras\u001b[0m\n",
      "\u001b[34mThere are 14 clusters with 61 cameras\u001b[0m\n",
      "\u001b[34mThere are 18 clusters with 62 cameras\u001b[0m\n",
      "\u001b[34mThere are 42 clusters with 63 cameras\u001b[0m\n",
      "\u001b[34mThere are 400 clusters with 64 cameras\u001b[0m\n",
      "\u001b[34mThere are 3 clusters with 66 cameras\u001b[0m\n",
      "\u001b[34mThere are 1 clusters with 68 cameras\u001b[0m\n",
      "\u001b[34mThere are 1 clusters with 69 cameras\u001b[0m\n",
      "\u001b[34mThere are 1 clusters with 73 cameras\u001b[0m\n",
      "\u001b[34mThere are 1 clusters with 106 cameras\u001b[0m\n",
      "\u001b[34mThere are 1 clusters with 109 cameras\u001b[0m\n",
      "\u001b[34mThere are 1 clusters with 116 cameras\u001b[0m\n",
      "\u001b[34mThere are 1 clusters with 118 cameras\u001b[0m\n",
      "\u001b[34mThere are 1 clusters with 121 cameras\u001b[0m\n",
      "\u001b[34mThere are 1 clusters with 122 cameras\u001b[0m\n",
      "\u001b[34mThere are 3 clusters with 123 cameras\u001b[0m\n",
      "\u001b[34mThere are 3 clusters with 124 cameras\u001b[0m\n",
      "\u001b[34mThere are 2 clusters with 126 cameras\u001b[0m\n",
      "\u001b[34mThere are 3 clusters with 127 cameras\u001b[0m\n",
      "\u001b[34mThere are 11 clusters with 128 cameras\u001b[0m\n",
      "\u001b[34mThere are 1 clusters with 131 cameras\u001b[0m\n",
      "\u001b[34mThere are 1 clusters with 134 cameras\u001b[0m\n",
      "\u001b[34mThere are 1 clusters with 187 cameras\u001b[0m\n",
      "\u001b[34mThere are 2 clusters with 188 cameras\u001b[0m\n",
      "\u001b[34mThere are 1 clusters with 190 cameras\u001b[0m\n",
      "\u001b[34mThere are 1 clusters with 192 cameras\u001b[0m\n",
      "\u001b[34mThere are 1 clusters with 338 cameras\u001b[0m\n",
      "\u001b[34mThere are 1 clusters with 361 cameras\u001b[0m\n",
      "Number of classes: 574\n",
      "\u001b[36mLearning Rate: 0.000350\u001b[0m\n",
      "encontrou modelos vgg16. Carregando...\n",
      "encontrou modelos resnet50. Carregando...\n",
      "encontrou modelos osnet. Carregando...\n",
      "encontrou modelos densenet121. Carregando...\n",
      "###============ Iteration number 35/90 ============###\n",
      "Extracting Online Features for vgg16 ...\n",
      "Features extracted in 252.39 seconds\n",
      "Computing jaccard distance...\n"
     ]
    },
    {
     "name": "stderr",
     "output_type": "stream",
     "text": [
      "bruteForceKnn is deprecated; call bfKnn instead\n"
     ]
    },
    {
     "name": "stdout",
     "output_type": "stream",
     "text": [
      "Jaccard distance computing time cost: 553.2867348194122\n",
      "Extracting Online Features for resnet50 ...\n",
      "Features extracted in 254.76 seconds\n",
      "Computing jaccard distance...\n"
     ]
    },
    {
     "name": "stderr",
     "output_type": "stream",
     "text": [
      "bruteForceKnn is deprecated; call bfKnn instead\n"
     ]
    },
    {
     "name": "stdout",
     "output_type": "stream",
     "text": [
      "Jaccard distance computing time cost: 543.5151073932648\n",
      "Extracting Online Features for osnet ...\n",
      "Features extracted in 245.19 seconds\n",
      "Computing jaccard distance...\n"
     ]
    },
    {
     "name": "stderr",
     "output_type": "stream",
     "text": [
      "bruteForceKnn is deprecated; call bfKnn instead\n"
     ]
    },
    {
     "name": "stdout",
     "output_type": "stream",
     "text": [
      "Jaccard distance computing time cost: 520.1423180103302\n",
      "Extracting Online Features for densenet121 ...\n",
      "Features extracted in 244.62 seconds\n",
      "Computing jaccard distance...\n"
     ]
    },
    {
     "name": "stderr",
     "output_type": "stream",
     "text": [
      "bruteForceKnn is deprecated; call bfKnn instead\n"
     ]
    },
    {
     "name": "stdout",
     "output_type": "stream",
     "text": [
      "Jaccard distance computing time cost: 531.6309373378754\n",
      "Reliability: 0.992\n",
      "\u001b[32mMean Purity: 0.03921\u001b[0m\n",
      "\u001b[34mThere are 3 clusters with 4 cameras\u001b[0m\n",
      "\u001b[34mThere are 3 clusters with 5 cameras\u001b[0m\n",
      "\u001b[34mThere are 3 clusters with 6 cameras\u001b[0m\n",
      "\u001b[34mThere are 2 clusters with 7 cameras\u001b[0m\n",
      "\u001b[34mThere are 3 clusters with 8 cameras\u001b[0m\n",
      "\u001b[34mThere are 1 clusters with 9 cameras\u001b[0m\n",
      "\u001b[34mThere are 1 clusters with 10 cameras\u001b[0m\n",
      "\u001b[34mThere are 2 clusters with 12 cameras\u001b[0m\n",
      "\u001b[34mThere are 1 clusters with 14 cameras\u001b[0m\n",
      "\u001b[34mThere are 1 clusters with 16 cameras\u001b[0m\n",
      "\u001b[34mThere are 1 clusters with 17 cameras\u001b[0m\n",
      "\u001b[34mThere are 2 clusters with 18 cameras\u001b[0m\n",
      "\u001b[34mThere are 1 clusters with 35 cameras\u001b[0m\n",
      "\u001b[34mThere are 1 clusters with 43 cameras\u001b[0m\n",
      "\u001b[34mThere are 1 clusters with 44 cameras\u001b[0m\n",
      "\u001b[34mThere are 1 clusters with 46 cameras\u001b[0m\n",
      "\u001b[34mThere are 1 clusters with 50 cameras\u001b[0m\n",
      "\u001b[34mThere are 1 clusters with 52 cameras\u001b[0m\n",
      "\u001b[34mThere are 1 clusters with 53 cameras\u001b[0m\n",
      "\u001b[34mThere are 1 clusters with 54 cameras\u001b[0m\n",
      "\u001b[34mThere are 3 clusters with 55 cameras\u001b[0m\n",
      "\u001b[34mThere are 1 clusters with 56 cameras\u001b[0m\n",
      "\u001b[34mThere are 6 clusters with 57 cameras\u001b[0m\n",
      "\u001b[34mThere are 5 clusters with 58 cameras\u001b[0m\n",
      "\u001b[34mThere are 3 clusters with 59 cameras\u001b[0m\n",
      "\u001b[34mThere are 8 clusters with 60 cameras\u001b[0m\n",
      "\u001b[34mThere are 14 clusters with 61 cameras\u001b[0m\n",
      "\u001b[34mThere are 18 clusters with 62 cameras\u001b[0m\n",
      "\u001b[34mThere are 42 clusters with 63 cameras\u001b[0m\n",
      "\u001b[34mThere are 400 clusters with 64 cameras\u001b[0m\n",
      "\u001b[34mThere are 3 clusters with 66 cameras\u001b[0m\n",
      "\u001b[34mThere are 1 clusters with 68 cameras\u001b[0m\n",
      "\u001b[34mThere are 1 clusters with 69 cameras\u001b[0m\n",
      "\u001b[34mThere are 1 clusters with 73 cameras\u001b[0m\n",
      "\u001b[34mThere are 1 clusters with 106 cameras\u001b[0m\n",
      "\u001b[34mThere are 1 clusters with 109 cameras\u001b[0m\n",
      "\u001b[34mThere are 1 clusters with 116 cameras\u001b[0m\n",
      "\u001b[34mThere are 1 clusters with 118 cameras\u001b[0m\n",
      "\u001b[34mThere are 1 clusters with 121 cameras\u001b[0m\n",
      "\u001b[34mThere are 1 clusters with 122 cameras\u001b[0m\n",
      "\u001b[34mThere are 3 clusters with 123 cameras\u001b[0m\n",
      "\u001b[34mThere are 3 clusters with 124 cameras\u001b[0m\n",
      "\u001b[34mThere are 2 clusters with 126 cameras\u001b[0m\n",
      "\u001b[34mThere are 3 clusters with 127 cameras\u001b[0m\n",
      "\u001b[34mThere are 11 clusters with 128 cameras\u001b[0m\n",
      "\u001b[34mThere are 1 clusters with 131 cameras\u001b[0m\n",
      "\u001b[34mThere are 1 clusters with 134 cameras\u001b[0m\n",
      "\u001b[34mThere are 1 clusters with 187 cameras\u001b[0m\n",
      "\u001b[34mThere are 2 clusters with 188 cameras\u001b[0m\n",
      "\u001b[34mThere are 1 clusters with 190 cameras\u001b[0m\n",
      "\u001b[34mThere are 1 clusters with 192 cameras\u001b[0m\n",
      "\u001b[34mThere are 1 clusters with 338 cameras\u001b[0m\n",
      "\u001b[34mThere are 1 clusters with 361 cameras\u001b[0m\n",
      "Number of classes: 574\n",
      "\u001b[36mLearning Rate: 0.000350\u001b[0m\n",
      "encontrou modelos vgg16. Carregando...\n",
      "encontrou modelos resnet50. Carregando...\n",
      "encontrou modelos osnet. Carregando...\n",
      "encontrou modelos densenet121. Carregando...\n",
      "\u001b[33mValidating online vgg16 ...\u001b[0m\n",
      "Features extracted in 79.56 seconds\n",
      "Features extracted in 145.45 seconds\n",
      "Computing CMC and mAP ...\n",
      "** Results **\n",
      "mAP: 70.12%\n",
      "CMC curve\n",
      "Rank-1  : 75.96%\n",
      "Rank-5  : 91.27%\n",
      "Rank-10 : 94.82%\n",
      "Rank-20 : 96.79%\n",
      "\u001b[33mValidating momentum vgg16 ...\u001b[0m\n",
      "Features extracted in 79.76 seconds\n",
      "Features extracted in 147.46 seconds\n",
      "Computing CMC and mAP ...\n",
      "** Results **\n",
      "mAP: 66.17%\n",
      "CMC curve\n",
      "Rank-1  : 60.22%\n",
      "Rank-5  : 85.69%\n",
      "Rank-10 : 92.76%\n",
      "Rank-20 : 97.47%\n",
      "\u001b[33mValidating online resnet50 ...\u001b[0m\n",
      "Features extracted in 76.70 seconds\n",
      "Features extracted in 146.17 seconds\n",
      "Computing CMC and mAP ...\n",
      "** Results **\n",
      "mAP: 67.50%\n",
      "CMC curve\n",
      "Rank-1  : 55.02%\n",
      "Rank-5  : 80.54%\n",
      "Rank-10 : 89.57%\n",
      "Rank-20 : 96.21%\n",
      "\u001b[33mValidating momentum resnet50 ...\u001b[0m\n",
      "Features extracted in 79.52 seconds\n",
      "Features extracted in 150.77 seconds\n",
      "Computing CMC and mAP ...\n",
      "** Results **\n",
      "mAP: 66.53%\n",
      "CMC curve\n",
      "Rank-1  : 51.40%\n",
      "Rank-5  : 82.97%\n",
      "Rank-10 : 92.60%\n",
      "Rank-20 : 97.67%\n",
      "\u001b[33mValidating online osnet ...\u001b[0m\n",
      "Features extracted in 78.30 seconds\n",
      "Features extracted in 145.25 seconds\n",
      "Computing CMC and mAP ...\n",
      "** Results **\n",
      "mAP: 70.98%\n",
      "CMC curve\n",
      "Rank-1  : 66.36%\n",
      "Rank-5  : 91.56%\n",
      "Rank-10 : 96.56%\n",
      "Rank-20 : 99.07%\n",
      "\u001b[33mValidating momentum osnet ...\u001b[0m\n",
      "Features extracted in 80.43 seconds\n",
      "Features extracted in 146.94 seconds\n",
      "Computing CMC and mAP ...\n",
      "** Results **\n",
      "mAP: 64.56%\n",
      "CMC curve\n",
      "Rank-1  : 55.77%\n",
      "Rank-5  : 86.08%\n",
      "Rank-10 : 94.11%\n",
      "Rank-20 : 97.92%\n",
      "\u001b[33mValidating online densenet121 ...\u001b[0m\n",
      "Features extracted in 80.50 seconds\n",
      "Features extracted in 146.86 seconds\n",
      "Computing CMC and mAP ...\n",
      "** Results **\n",
      "mAP: 69.32%\n",
      "CMC curve\n",
      "Rank-1  : 61.53%\n",
      "Rank-5  : 85.89%\n",
      "Rank-10 : 93.66%\n",
      "Rank-20 : 97.66%\n",
      "\u001b[33mValidating momentum densenet121 ...\u001b[0m\n",
      "Features extracted in 79.61 seconds\n",
      "Features extracted in 146.67 seconds\n",
      "Computing CMC and mAP ...\n",
      "** Results **\n",
      "mAP: 66.02%\n",
      "CMC curve\n",
      "Rank-1  : 63.00%\n",
      "Rank-5  : 91.00%\n",
      "Rank-10 : 96.36%\n",
      "Rank-20 : 98.94%\n",
      "\u001b[33mValidating ensembled with online models ...\u001b[0m\n",
      "Computing CMC and mAP ...\n",
      "** Results **\n",
      "mAP: 69.73%\n",
      "Ranks:\n",
      "Rank-1  : 63.31%\n",
      "Rank-5  : 83.51%\n",
      "Rank-10 : 91.32%\n",
      "\u001b[33mValidating ensembled with momentum models ...\u001b[0m\n",
      "Computing CMC and mAP ...\n",
      "** Results **\n",
      "mAP: 65.40%\n",
      "Ranks:\n",
      "Rank-1  : 60.95%\n",
      "Rank-5  : 84.80%\n",
      "Rank-10 : 92.04%\n",
      "###============ Iteration number 36/90 ============###\n",
      "Extracting Online Features for vgg16 ...\n",
      "Features extracted in 256.75 seconds\n",
      "Computing jaccard distance...\n"
     ]
    },
    {
     "name": "stderr",
     "output_type": "stream",
     "text": [
      "bruteForceKnn is deprecated; call bfKnn instead\n"
     ]
    },
    {
     "name": "stdout",
     "output_type": "stream",
     "text": [
      "Jaccard distance computing time cost: 549.2418644428253\n",
      "Extracting Online Features for resnet50 ...\n",
      "Features extracted in 261.23 seconds\n",
      "Computing jaccard distance...\n"
     ]
    },
    {
     "name": "stderr",
     "output_type": "stream",
     "text": [
      "bruteForceKnn is deprecated; call bfKnn instead\n"
     ]
    },
    {
     "name": "stdout",
     "output_type": "stream",
     "text": [
      "Jaccard distance computing time cost: 530.0907464027405\n",
      "Extracting Online Features for osnet ...\n",
      "Features extracted in 244.98 seconds\n",
      "Computing jaccard distance...\n"
     ]
    },
    {
     "name": "stderr",
     "output_type": "stream",
     "text": [
      "bruteForceKnn is deprecated; call bfKnn instead\n"
     ]
    },
    {
     "name": "stdout",
     "output_type": "stream",
     "text": [
      "Jaccard distance computing time cost: 526.8480916023254\n",
      "Extracting Online Features for densenet121 ...\n",
      "Features extracted in 251.15 seconds\n",
      "Computing jaccard distance...\n"
     ]
    },
    {
     "name": "stderr",
     "output_type": "stream",
     "text": [
      "bruteForceKnn is deprecated; call bfKnn instead\n"
     ]
    },
    {
     "name": "stdout",
     "output_type": "stream",
     "text": [
      "Jaccard distance computing time cost: 531.7946290969849\n",
      "Reliability: 0.992\n",
      "\u001b[32mMean Purity: 0.03921\u001b[0m\n",
      "\u001b[34mThere are 3 clusters with 4 cameras\u001b[0m\n",
      "\u001b[34mThere are 3 clusters with 5 cameras\u001b[0m\n",
      "\u001b[34mThere are 3 clusters with 6 cameras\u001b[0m\n",
      "\u001b[34mThere are 2 clusters with 7 cameras\u001b[0m\n",
      "\u001b[34mThere are 3 clusters with 8 cameras\u001b[0m\n",
      "\u001b[34mThere are 1 clusters with 9 cameras\u001b[0m\n",
      "\u001b[34mThere are 1 clusters with 10 cameras\u001b[0m\n",
      "\u001b[34mThere are 2 clusters with 12 cameras\u001b[0m\n",
      "\u001b[34mThere are 1 clusters with 14 cameras\u001b[0m\n",
      "\u001b[34mThere are 1 clusters with 16 cameras\u001b[0m\n",
      "\u001b[34mThere are 1 clusters with 17 cameras\u001b[0m\n",
      "\u001b[34mThere are 2 clusters with 18 cameras\u001b[0m\n",
      "\u001b[34mThere are 1 clusters with 35 cameras\u001b[0m\n",
      "\u001b[34mThere are 1 clusters with 43 cameras\u001b[0m\n",
      "\u001b[34mThere are 1 clusters with 44 cameras\u001b[0m\n",
      "\u001b[34mThere are 1 clusters with 46 cameras\u001b[0m\n",
      "\u001b[34mThere are 1 clusters with 50 cameras\u001b[0m\n",
      "\u001b[34mThere are 1 clusters with 52 cameras\u001b[0m\n",
      "\u001b[34mThere are 1 clusters with 53 cameras\u001b[0m\n",
      "\u001b[34mThere are 1 clusters with 54 cameras\u001b[0m\n",
      "\u001b[34mThere are 3 clusters with 55 cameras\u001b[0m\n",
      "\u001b[34mThere are 1 clusters with 56 cameras\u001b[0m\n",
      "\u001b[34mThere are 6 clusters with 57 cameras\u001b[0m\n",
      "\u001b[34mThere are 5 clusters with 58 cameras\u001b[0m\n",
      "\u001b[34mThere are 3 clusters with 59 cameras\u001b[0m\n",
      "\u001b[34mThere are 8 clusters with 60 cameras\u001b[0m\n",
      "\u001b[34mThere are 14 clusters with 61 cameras\u001b[0m\n",
      "\u001b[34mThere are 18 clusters with 62 cameras\u001b[0m\n",
      "\u001b[34mThere are 42 clusters with 63 cameras\u001b[0m\n",
      "\u001b[34mThere are 400 clusters with 64 cameras\u001b[0m\n",
      "\u001b[34mThere are 3 clusters with 66 cameras\u001b[0m\n",
      "\u001b[34mThere are 1 clusters with 68 cameras\u001b[0m\n",
      "\u001b[34mThere are 1 clusters with 69 cameras\u001b[0m\n",
      "\u001b[34mThere are 1 clusters with 73 cameras\u001b[0m\n",
      "\u001b[34mThere are 1 clusters with 106 cameras\u001b[0m\n",
      "\u001b[34mThere are 1 clusters with 109 cameras\u001b[0m\n",
      "\u001b[34mThere are 1 clusters with 116 cameras\u001b[0m\n",
      "\u001b[34mThere are 1 clusters with 118 cameras\u001b[0m\n",
      "\u001b[34mThere are 1 clusters with 121 cameras\u001b[0m\n",
      "\u001b[34mThere are 1 clusters with 122 cameras\u001b[0m\n",
      "\u001b[34mThere are 3 clusters with 123 cameras\u001b[0m\n",
      "\u001b[34mThere are 3 clusters with 124 cameras\u001b[0m\n",
      "\u001b[34mThere are 2 clusters with 126 cameras\u001b[0m\n",
      "\u001b[34mThere are 3 clusters with 127 cameras\u001b[0m\n",
      "\u001b[34mThere are 11 clusters with 128 cameras\u001b[0m\n",
      "\u001b[34mThere are 1 clusters with 131 cameras\u001b[0m\n",
      "\u001b[34mThere are 1 clusters with 134 cameras\u001b[0m\n",
      "\u001b[34mThere are 1 clusters with 187 cameras\u001b[0m\n",
      "\u001b[34mThere are 2 clusters with 188 cameras\u001b[0m\n",
      "\u001b[34mThere are 1 clusters with 190 cameras\u001b[0m\n",
      "\u001b[34mThere are 1 clusters with 192 cameras\u001b[0m\n",
      "\u001b[34mThere are 1 clusters with 338 cameras\u001b[0m\n",
      "\u001b[34mThere are 1 clusters with 361 cameras\u001b[0m\n",
      "Number of classes: 574\n",
      "\u001b[36mLearning Rate: 0.000350\u001b[0m\n",
      "encontrou modelos vgg16. Carregando...\n",
      "encontrou modelos resnet50. Carregando...\n",
      "encontrou modelos osnet. Carregando...\n",
      "encontrou modelos densenet121. Carregando...\n",
      "###============ Iteration number 37/90 ============###\n",
      "Extracting Online Features for vgg16 ...\n",
      "Features extracted in 251.42 seconds\n",
      "Computing jaccard distance...\n"
     ]
    },
    {
     "name": "stderr",
     "output_type": "stream",
     "text": [
      "bruteForceKnn is deprecated; call bfKnn instead\n"
     ]
    },
    {
     "name": "stdout",
     "output_type": "stream",
     "text": [
      "Jaccard distance computing time cost: 543.5876739025116\n",
      "Extracting Online Features for resnet50 ...\n",
      "Features extracted in 247.32 seconds\n",
      "Computing jaccard distance...\n"
     ]
    },
    {
     "name": "stderr",
     "output_type": "stream",
     "text": [
      "bruteForceKnn is deprecated; call bfKnn instead\n"
     ]
    },
    {
     "name": "stdout",
     "output_type": "stream",
     "text": [
      "Jaccard distance computing time cost: 539.2026789188385\n",
      "Extracting Online Features for osnet ...\n",
      "Features extracted in 244.33 seconds\n",
      "Computing jaccard distance...\n"
     ]
    },
    {
     "name": "stderr",
     "output_type": "stream",
     "text": [
      "bruteForceKnn is deprecated; call bfKnn instead\n"
     ]
    },
    {
     "name": "stdout",
     "output_type": "stream",
     "text": [
      "Jaccard distance computing time cost: 464.83181643486023\n",
      "Extracting Online Features for densenet121 ...\n",
      "Features extracted in 244.62 seconds\n",
      "Computing jaccard distance...\n"
     ]
    },
    {
     "name": "stderr",
     "output_type": "stream",
     "text": [
      "bruteForceKnn is deprecated; call bfKnn instead\n"
     ]
    },
    {
     "name": "stdout",
     "output_type": "stream",
     "text": [
      "Jaccard distance computing time cost: 531.5529589653015\n",
      "Reliability: 0.992\n",
      "\u001b[32mMean Purity: 0.03921\u001b[0m\n",
      "\u001b[34mThere are 3 clusters with 4 cameras\u001b[0m\n",
      "\u001b[34mThere are 3 clusters with 5 cameras\u001b[0m\n",
      "\u001b[34mThere are 3 clusters with 6 cameras\u001b[0m\n",
      "\u001b[34mThere are 2 clusters with 7 cameras\u001b[0m\n",
      "\u001b[34mThere are 3 clusters with 8 cameras\u001b[0m\n",
      "\u001b[34mThere are 1 clusters with 9 cameras\u001b[0m\n",
      "\u001b[34mThere are 1 clusters with 10 cameras\u001b[0m\n",
      "\u001b[34mThere are 2 clusters with 12 cameras\u001b[0m\n",
      "\u001b[34mThere are 1 clusters with 14 cameras\u001b[0m\n",
      "\u001b[34mThere are 1 clusters with 16 cameras\u001b[0m\n",
      "\u001b[34mThere are 1 clusters with 17 cameras\u001b[0m\n",
      "\u001b[34mThere are 2 clusters with 18 cameras\u001b[0m\n",
      "\u001b[34mThere are 1 clusters with 35 cameras\u001b[0m\n",
      "\u001b[34mThere are 1 clusters with 43 cameras\u001b[0m\n",
      "\u001b[34mThere are 1 clusters with 44 cameras\u001b[0m\n",
      "\u001b[34mThere are 1 clusters with 46 cameras\u001b[0m\n",
      "\u001b[34mThere are 1 clusters with 50 cameras\u001b[0m\n",
      "\u001b[34mThere are 1 clusters with 52 cameras\u001b[0m\n",
      "\u001b[34mThere are 1 clusters with 53 cameras\u001b[0m\n",
      "\u001b[34mThere are 1 clusters with 54 cameras\u001b[0m\n",
      "\u001b[34mThere are 3 clusters with 55 cameras\u001b[0m\n",
      "\u001b[34mThere are 1 clusters with 56 cameras\u001b[0m\n",
      "\u001b[34mThere are 6 clusters with 57 cameras\u001b[0m\n",
      "\u001b[34mThere are 5 clusters with 58 cameras\u001b[0m\n",
      "\u001b[34mThere are 3 clusters with 59 cameras\u001b[0m\n",
      "\u001b[34mThere are 8 clusters with 60 cameras\u001b[0m\n",
      "\u001b[34mThere are 14 clusters with 61 cameras\u001b[0m\n",
      "\u001b[34mThere are 18 clusters with 62 cameras\u001b[0m\n",
      "\u001b[34mThere are 42 clusters with 63 cameras\u001b[0m\n",
      "\u001b[34mThere are 400 clusters with 64 cameras\u001b[0m\n",
      "\u001b[34mThere are 3 clusters with 66 cameras\u001b[0m\n",
      "\u001b[34mThere are 1 clusters with 68 cameras\u001b[0m\n",
      "\u001b[34mThere are 1 clusters with 69 cameras\u001b[0m\n",
      "\u001b[34mThere are 1 clusters with 73 cameras\u001b[0m\n",
      "\u001b[34mThere are 1 clusters with 106 cameras\u001b[0m\n",
      "\u001b[34mThere are 1 clusters with 109 cameras\u001b[0m\n",
      "\u001b[34mThere are 1 clusters with 116 cameras\u001b[0m\n",
      "\u001b[34mThere are 1 clusters with 118 cameras\u001b[0m\n",
      "\u001b[34mThere are 1 clusters with 121 cameras\u001b[0m\n",
      "\u001b[34mThere are 1 clusters with 122 cameras\u001b[0m\n",
      "\u001b[34mThere are 3 clusters with 123 cameras\u001b[0m\n",
      "\u001b[34mThere are 3 clusters with 124 cameras\u001b[0m\n",
      "\u001b[34mThere are 2 clusters with 126 cameras\u001b[0m\n",
      "\u001b[34mThere are 3 clusters with 127 cameras\u001b[0m\n",
      "\u001b[34mThere are 11 clusters with 128 cameras\u001b[0m\n",
      "\u001b[34mThere are 1 clusters with 131 cameras\u001b[0m\n",
      "\u001b[34mThere are 1 clusters with 134 cameras\u001b[0m\n",
      "\u001b[34mThere are 1 clusters with 187 cameras\u001b[0m\n",
      "\u001b[34mThere are 2 clusters with 188 cameras\u001b[0m\n",
      "\u001b[34mThere are 1 clusters with 190 cameras\u001b[0m\n",
      "\u001b[34mThere are 1 clusters with 192 cameras\u001b[0m\n",
      "\u001b[34mThere are 1 clusters with 338 cameras\u001b[0m\n",
      "\u001b[34mThere are 1 clusters with 361 cameras\u001b[0m\n",
      "Number of classes: 574\n",
      "\u001b[36mLearning Rate: 0.000350\u001b[0m\n",
      "encontrou modelos vgg16. Carregando...\n",
      "encontrou modelos resnet50. Carregando...\n",
      "encontrou modelos osnet. Carregando...\n",
      "encontrou modelos densenet121. Carregando...\n",
      "###============ Iteration number 38/90 ============###\n",
      "Extracting Online Features for vgg16 ...\n",
      "Features extracted in 247.11 seconds\n",
      "Computing jaccard distance...\n"
     ]
    },
    {
     "name": "stderr",
     "output_type": "stream",
     "text": [
      "bruteForceKnn is deprecated; call bfKnn instead\n"
     ]
    },
    {
     "name": "stdout",
     "output_type": "stream",
     "text": [
      "Jaccard distance computing time cost: 528.8631072044373\n",
      "Extracting Online Features for resnet50 ...\n",
      "Features extracted in 253.69 seconds\n",
      "Computing jaccard distance...\n"
     ]
    },
    {
     "name": "stderr",
     "output_type": "stream",
     "text": [
      "bruteForceKnn is deprecated; call bfKnn instead\n"
     ]
    },
    {
     "name": "stdout",
     "output_type": "stream",
     "text": [
      "Jaccard distance computing time cost: 544.8658313751221\n",
      "Extracting Online Features for osnet ...\n",
      "Features extracted in 249.56 seconds\n",
      "Computing jaccard distance...\n"
     ]
    },
    {
     "name": "stderr",
     "output_type": "stream",
     "text": [
      "bruteForceKnn is deprecated; call bfKnn instead\n"
     ]
    },
    {
     "name": "stdout",
     "output_type": "stream",
     "text": [
      "Jaccard distance computing time cost: 528.8616836071014\n",
      "Extracting Online Features for densenet121 ...\n",
      "Features extracted in 249.96 seconds\n",
      "Computing jaccard distance...\n"
     ]
    },
    {
     "name": "stderr",
     "output_type": "stream",
     "text": [
      "bruteForceKnn is deprecated; call bfKnn instead\n"
     ]
    },
    {
     "name": "stdout",
     "output_type": "stream",
     "text": [
      "Jaccard distance computing time cost: 549.3851642608643\n",
      "Reliability: 0.992\n",
      "\u001b[32mMean Purity: 0.03921\u001b[0m\n",
      "\u001b[34mThere are 3 clusters with 4 cameras\u001b[0m\n",
      "\u001b[34mThere are 3 clusters with 5 cameras\u001b[0m\n",
      "\u001b[34mThere are 3 clusters with 6 cameras\u001b[0m\n",
      "\u001b[34mThere are 2 clusters with 7 cameras\u001b[0m\n",
      "\u001b[34mThere are 3 clusters with 8 cameras\u001b[0m\n",
      "\u001b[34mThere are 1 clusters with 9 cameras\u001b[0m\n",
      "\u001b[34mThere are 1 clusters with 10 cameras\u001b[0m\n",
      "\u001b[34mThere are 2 clusters with 12 cameras\u001b[0m\n",
      "\u001b[34mThere are 1 clusters with 14 cameras\u001b[0m\n",
      "\u001b[34mThere are 1 clusters with 16 cameras\u001b[0m\n",
      "\u001b[34mThere are 1 clusters with 17 cameras\u001b[0m\n",
      "\u001b[34mThere are 2 clusters with 18 cameras\u001b[0m\n",
      "\u001b[34mThere are 1 clusters with 35 cameras\u001b[0m\n",
      "\u001b[34mThere are 1 clusters with 43 cameras\u001b[0m\n",
      "\u001b[34mThere are 1 clusters with 44 cameras\u001b[0m\n",
      "\u001b[34mThere are 1 clusters with 46 cameras\u001b[0m\n",
      "\u001b[34mThere are 1 clusters with 50 cameras\u001b[0m\n",
      "\u001b[34mThere are 1 clusters with 52 cameras\u001b[0m\n",
      "\u001b[34mThere are 1 clusters with 53 cameras\u001b[0m\n",
      "\u001b[34mThere are 1 clusters with 54 cameras\u001b[0m\n",
      "\u001b[34mThere are 3 clusters with 55 cameras\u001b[0m\n",
      "\u001b[34mThere are 1 clusters with 56 cameras\u001b[0m\n",
      "\u001b[34mThere are 6 clusters with 57 cameras\u001b[0m\n",
      "\u001b[34mThere are 5 clusters with 58 cameras\u001b[0m\n",
      "\u001b[34mThere are 3 clusters with 59 cameras\u001b[0m\n",
      "\u001b[34mThere are 8 clusters with 60 cameras\u001b[0m\n",
      "\u001b[34mThere are 14 clusters with 61 cameras\u001b[0m\n",
      "\u001b[34mThere are 18 clusters with 62 cameras\u001b[0m\n",
      "\u001b[34mThere are 42 clusters with 63 cameras\u001b[0m\n",
      "\u001b[34mThere are 400 clusters with 64 cameras\u001b[0m\n",
      "\u001b[34mThere are 3 clusters with 66 cameras\u001b[0m\n",
      "\u001b[34mThere are 1 clusters with 68 cameras\u001b[0m\n",
      "\u001b[34mThere are 1 clusters with 69 cameras\u001b[0m\n",
      "\u001b[34mThere are 1 clusters with 73 cameras\u001b[0m\n",
      "\u001b[34mThere are 1 clusters with 106 cameras\u001b[0m\n",
      "\u001b[34mThere are 1 clusters with 109 cameras\u001b[0m\n",
      "\u001b[34mThere are 1 clusters with 116 cameras\u001b[0m\n",
      "\u001b[34mThere are 1 clusters with 118 cameras\u001b[0m\n",
      "\u001b[34mThere are 1 clusters with 121 cameras\u001b[0m\n",
      "\u001b[34mThere are 1 clusters with 122 cameras\u001b[0m\n",
      "\u001b[34mThere are 3 clusters with 123 cameras\u001b[0m\n",
      "\u001b[34mThere are 3 clusters with 124 cameras\u001b[0m\n",
      "\u001b[34mThere are 2 clusters with 126 cameras\u001b[0m\n",
      "\u001b[34mThere are 3 clusters with 127 cameras\u001b[0m\n",
      "\u001b[34mThere are 11 clusters with 128 cameras\u001b[0m\n",
      "\u001b[34mThere are 1 clusters with 131 cameras\u001b[0m\n",
      "\u001b[34mThere are 1 clusters with 134 cameras\u001b[0m\n",
      "\u001b[34mThere are 1 clusters with 187 cameras\u001b[0m\n",
      "\u001b[34mThere are 2 clusters with 188 cameras\u001b[0m\n",
      "\u001b[34mThere are 1 clusters with 190 cameras\u001b[0m\n",
      "\u001b[34mThere are 1 clusters with 192 cameras\u001b[0m\n",
      "\u001b[34mThere are 1 clusters with 338 cameras\u001b[0m\n",
      "\u001b[34mThere are 1 clusters with 361 cameras\u001b[0m\n",
      "Number of classes: 574\n",
      "\u001b[36mLearning Rate: 0.000350\u001b[0m\n",
      "encontrou modelos vgg16. Carregando...\n",
      "encontrou modelos resnet50. Carregando...\n",
      "encontrou modelos osnet. Carregando...\n",
      "encontrou modelos densenet121. Carregando...\n",
      "###============ Iteration number 39/90 ============###\n",
      "Extracting Online Features for vgg16 ...\n",
      "Features extracted in 245.92 seconds\n",
      "Computing jaccard distance...\n"
     ]
    },
    {
     "name": "stderr",
     "output_type": "stream",
     "text": [
      "bruteForceKnn is deprecated; call bfKnn instead\n"
     ]
    },
    {
     "name": "stdout",
     "output_type": "stream",
     "text": [
      "Jaccard distance computing time cost: 536.4553055763245\n",
      "Extracting Online Features for resnet50 ...\n",
      "Features extracted in 250.91 seconds\n",
      "Computing jaccard distance...\n"
     ]
    },
    {
     "name": "stderr",
     "output_type": "stream",
     "text": [
      "bruteForceKnn is deprecated; call bfKnn instead\n"
     ]
    },
    {
     "name": "stdout",
     "output_type": "stream",
     "text": [
      "Jaccard distance computing time cost: 545.8361480236053\n",
      "Extracting Online Features for osnet ...\n",
      "Features extracted in 246.13 seconds\n",
      "Computing jaccard distance...\n"
     ]
    },
    {
     "name": "stderr",
     "output_type": "stream",
     "text": [
      "bruteForceKnn is deprecated; call bfKnn instead\n"
     ]
    },
    {
     "name": "stdout",
     "output_type": "stream",
     "text": [
      "Jaccard distance computing time cost: 522.8936505317688\n",
      "Extracting Online Features for densenet121 ...\n",
      "Features extracted in 255.96 seconds\n",
      "Computing jaccard distance...\n"
     ]
    },
    {
     "name": "stderr",
     "output_type": "stream",
     "text": [
      "bruteForceKnn is deprecated; call bfKnn instead\n"
     ]
    },
    {
     "name": "stdout",
     "output_type": "stream",
     "text": [
      "Jaccard distance computing time cost: 548.6867952346802\n",
      "Reliability: 0.992\n",
      "\u001b[32mMean Purity: 0.03921\u001b[0m\n",
      "\u001b[34mThere are 3 clusters with 4 cameras\u001b[0m\n",
      "\u001b[34mThere are 3 clusters with 5 cameras\u001b[0m\n",
      "\u001b[34mThere are 3 clusters with 6 cameras\u001b[0m\n",
      "\u001b[34mThere are 2 clusters with 7 cameras\u001b[0m\n",
      "\u001b[34mThere are 3 clusters with 8 cameras\u001b[0m\n",
      "\u001b[34mThere are 1 clusters with 9 cameras\u001b[0m\n",
      "\u001b[34mThere are 1 clusters with 10 cameras\u001b[0m\n",
      "\u001b[34mThere are 2 clusters with 12 cameras\u001b[0m\n",
      "\u001b[34mThere are 1 clusters with 14 cameras\u001b[0m\n",
      "\u001b[34mThere are 1 clusters with 16 cameras\u001b[0m\n",
      "\u001b[34mThere are 1 clusters with 17 cameras\u001b[0m\n",
      "\u001b[34mThere are 2 clusters with 18 cameras\u001b[0m\n",
      "\u001b[34mThere are 1 clusters with 35 cameras\u001b[0m\n",
      "\u001b[34mThere are 1 clusters with 43 cameras\u001b[0m\n",
      "\u001b[34mThere are 1 clusters with 44 cameras\u001b[0m\n",
      "\u001b[34mThere are 1 clusters with 46 cameras\u001b[0m\n",
      "\u001b[34mThere are 1 clusters with 50 cameras\u001b[0m\n",
      "\u001b[34mThere are 1 clusters with 52 cameras\u001b[0m\n",
      "\u001b[34mThere are 1 clusters with 53 cameras\u001b[0m\n",
      "\u001b[34mThere are 1 clusters with 54 cameras\u001b[0m\n",
      "\u001b[34mThere are 3 clusters with 55 cameras\u001b[0m\n",
      "\u001b[34mThere are 1 clusters with 56 cameras\u001b[0m\n",
      "\u001b[34mThere are 6 clusters with 57 cameras\u001b[0m\n",
      "\u001b[34mThere are 5 clusters with 58 cameras\u001b[0m\n",
      "\u001b[34mThere are 3 clusters with 59 cameras\u001b[0m\n",
      "\u001b[34mThere are 8 clusters with 60 cameras\u001b[0m\n",
      "\u001b[34mThere are 14 clusters with 61 cameras\u001b[0m\n",
      "\u001b[34mThere are 18 clusters with 62 cameras\u001b[0m\n",
      "\u001b[34mThere are 42 clusters with 63 cameras\u001b[0m\n",
      "\u001b[34mThere are 400 clusters with 64 cameras\u001b[0m\n",
      "\u001b[34mThere are 3 clusters with 66 cameras\u001b[0m\n",
      "\u001b[34mThere are 1 clusters with 68 cameras\u001b[0m\n",
      "\u001b[34mThere are 1 clusters with 69 cameras\u001b[0m\n",
      "\u001b[34mThere are 1 clusters with 73 cameras\u001b[0m\n",
      "\u001b[34mThere are 1 clusters with 106 cameras\u001b[0m\n",
      "\u001b[34mThere are 1 clusters with 109 cameras\u001b[0m\n",
      "\u001b[34mThere are 1 clusters with 116 cameras\u001b[0m\n",
      "\u001b[34mThere are 1 clusters with 118 cameras\u001b[0m\n",
      "\u001b[34mThere are 1 clusters with 121 cameras\u001b[0m\n",
      "\u001b[34mThere are 1 clusters with 122 cameras\u001b[0m\n",
      "\u001b[34mThere are 3 clusters with 123 cameras\u001b[0m\n",
      "\u001b[34mThere are 3 clusters with 124 cameras\u001b[0m\n",
      "\u001b[34mThere are 2 clusters with 126 cameras\u001b[0m\n",
      "\u001b[34mThere are 3 clusters with 127 cameras\u001b[0m\n",
      "\u001b[34mThere are 11 clusters with 128 cameras\u001b[0m\n",
      "\u001b[34mThere are 1 clusters with 131 cameras\u001b[0m\n",
      "\u001b[34mThere are 1 clusters with 134 cameras\u001b[0m\n",
      "\u001b[34mThere are 1 clusters with 187 cameras\u001b[0m\n",
      "\u001b[34mThere are 2 clusters with 188 cameras\u001b[0m\n",
      "\u001b[34mThere are 1 clusters with 190 cameras\u001b[0m\n",
      "\u001b[34mThere are 1 clusters with 192 cameras\u001b[0m\n",
      "\u001b[34mThere are 1 clusters with 338 cameras\u001b[0m\n",
      "\u001b[34mThere are 1 clusters with 361 cameras\u001b[0m\n",
      "Number of classes: 574\n",
      "\u001b[36mLearning Rate: 0.000350\u001b[0m\n",
      "encontrou modelos vgg16. Carregando...\n",
      "encontrou modelos resnet50. Carregando...\n",
      "encontrou modelos osnet. Carregando...\n",
      "encontrou modelos densenet121. Carregando...\n",
      "###============ Iteration number 40/90 ============###\n",
      "Extracting Online Features for vgg16 ...\n",
      "Features extracted in 252.97 seconds\n",
      "Computing jaccard distance...\n"
     ]
    },
    {
     "name": "stderr",
     "output_type": "stream",
     "text": [
      "bruteForceKnn is deprecated; call bfKnn instead\n"
     ]
    },
    {
     "name": "stdout",
     "output_type": "stream",
     "text": [
      "Jaccard distance computing time cost: 532.9522256851196\n",
      "Extracting Online Features for resnet50 ...\n",
      "Features extracted in 242.70 seconds\n",
      "Computing jaccard distance...\n"
     ]
    },
    {
     "name": "stderr",
     "output_type": "stream",
     "text": [
      "bruteForceKnn is deprecated; call bfKnn instead\n"
     ]
    },
    {
     "name": "stdout",
     "output_type": "stream",
     "text": [
      "Jaccard distance computing time cost: 549.5574593544006\n",
      "Extracting Online Features for osnet ...\n",
      "Features extracted in 246.18 seconds\n",
      "Computing jaccard distance...\n"
     ]
    },
    {
     "name": "stderr",
     "output_type": "stream",
     "text": [
      "bruteForceKnn is deprecated; call bfKnn instead\n"
     ]
    },
    {
     "name": "stdout",
     "output_type": "stream",
     "text": [
      "Jaccard distance computing time cost: 520.1386785507202\n",
      "Extracting Online Features for densenet121 ...\n",
      "Features extracted in 248.60 seconds\n",
      "Computing jaccard distance...\n"
     ]
    },
    {
     "name": "stderr",
     "output_type": "stream",
     "text": [
      "bruteForceKnn is deprecated; call bfKnn instead\n"
     ]
    },
    {
     "name": "stdout",
     "output_type": "stream",
     "text": [
      "Jaccard distance computing time cost: 530.6825489997864\n",
      "Reliability: 0.992\n",
      "\u001b[32mMean Purity: 0.03921\u001b[0m\n",
      "\u001b[34mThere are 3 clusters with 4 cameras\u001b[0m\n",
      "\u001b[34mThere are 3 clusters with 5 cameras\u001b[0m\n",
      "\u001b[34mThere are 3 clusters with 6 cameras\u001b[0m\n",
      "\u001b[34mThere are 2 clusters with 7 cameras\u001b[0m\n",
      "\u001b[34mThere are 3 clusters with 8 cameras\u001b[0m\n",
      "\u001b[34mThere are 1 clusters with 9 cameras\u001b[0m\n",
      "\u001b[34mThere are 1 clusters with 10 cameras\u001b[0m\n",
      "\u001b[34mThere are 2 clusters with 12 cameras\u001b[0m\n",
      "\u001b[34mThere are 1 clusters with 14 cameras\u001b[0m\n",
      "\u001b[34mThere are 1 clusters with 16 cameras\u001b[0m\n",
      "\u001b[34mThere are 1 clusters with 17 cameras\u001b[0m\n",
      "\u001b[34mThere are 2 clusters with 18 cameras\u001b[0m\n",
      "\u001b[34mThere are 1 clusters with 35 cameras\u001b[0m\n",
      "\u001b[34mThere are 1 clusters with 43 cameras\u001b[0m\n",
      "\u001b[34mThere are 1 clusters with 44 cameras\u001b[0m\n",
      "\u001b[34mThere are 1 clusters with 46 cameras\u001b[0m\n",
      "\u001b[34mThere are 1 clusters with 50 cameras\u001b[0m\n",
      "\u001b[34mThere are 1 clusters with 52 cameras\u001b[0m\n",
      "\u001b[34mThere are 1 clusters with 53 cameras\u001b[0m\n",
      "\u001b[34mThere are 1 clusters with 54 cameras\u001b[0m\n",
      "\u001b[34mThere are 3 clusters with 55 cameras\u001b[0m\n",
      "\u001b[34mThere are 1 clusters with 56 cameras\u001b[0m\n",
      "\u001b[34mThere are 6 clusters with 57 cameras\u001b[0m\n",
      "\u001b[34mThere are 5 clusters with 58 cameras\u001b[0m\n",
      "\u001b[34mThere are 3 clusters with 59 cameras\u001b[0m\n",
      "\u001b[34mThere are 8 clusters with 60 cameras\u001b[0m\n",
      "\u001b[34mThere are 14 clusters with 61 cameras\u001b[0m\n",
      "\u001b[34mThere are 18 clusters with 62 cameras\u001b[0m\n",
      "\u001b[34mThere are 42 clusters with 63 cameras\u001b[0m\n",
      "\u001b[34mThere are 400 clusters with 64 cameras\u001b[0m\n",
      "\u001b[34mThere are 3 clusters with 66 cameras\u001b[0m\n",
      "\u001b[34mThere are 1 clusters with 68 cameras\u001b[0m\n",
      "\u001b[34mThere are 1 clusters with 69 cameras\u001b[0m\n",
      "\u001b[34mThere are 1 clusters with 73 cameras\u001b[0m\n",
      "\u001b[34mThere are 1 clusters with 106 cameras\u001b[0m\n",
      "\u001b[34mThere are 1 clusters with 109 cameras\u001b[0m\n",
      "\u001b[34mThere are 1 clusters with 116 cameras\u001b[0m\n",
      "\u001b[34mThere are 1 clusters with 118 cameras\u001b[0m\n",
      "\u001b[34mThere are 1 clusters with 121 cameras\u001b[0m\n",
      "\u001b[34mThere are 1 clusters with 122 cameras\u001b[0m\n",
      "\u001b[34mThere are 3 clusters with 123 cameras\u001b[0m\n",
      "\u001b[34mThere are 3 clusters with 124 cameras\u001b[0m\n",
      "\u001b[34mThere are 2 clusters with 126 cameras\u001b[0m\n",
      "\u001b[34mThere are 3 clusters with 127 cameras\u001b[0m\n",
      "\u001b[34mThere are 11 clusters with 128 cameras\u001b[0m\n",
      "\u001b[34mThere are 1 clusters with 131 cameras\u001b[0m\n",
      "\u001b[34mThere are 1 clusters with 134 cameras\u001b[0m\n",
      "\u001b[34mThere are 1 clusters with 187 cameras\u001b[0m\n",
      "\u001b[34mThere are 2 clusters with 188 cameras\u001b[0m\n",
      "\u001b[34mThere are 1 clusters with 190 cameras\u001b[0m\n",
      "\u001b[34mThere are 1 clusters with 192 cameras\u001b[0m\n",
      "\u001b[34mThere are 1 clusters with 338 cameras\u001b[0m\n",
      "\u001b[34mThere are 1 clusters with 361 cameras\u001b[0m\n",
      "Number of classes: 574\n",
      "\u001b[36mLearning Rate: 0.000350\u001b[0m\n",
      "encontrou modelos vgg16. Carregando...\n",
      "encontrou modelos resnet50. Carregando...\n",
      "encontrou modelos osnet. Carregando...\n",
      "encontrou modelos densenet121. Carregando...\n",
      "\u001b[33mValidating online vgg16 ...\u001b[0m\n",
      "Features extracted in 81.06 seconds\n",
      "Features extracted in 150.74 seconds\n",
      "Computing CMC and mAP ...\n",
      "** Results **\n",
      "mAP: 70.12%\n",
      "CMC curve\n",
      "Rank-1  : 75.96%\n",
      "Rank-5  : 91.27%\n",
      "Rank-10 : 94.82%\n",
      "Rank-20 : 96.79%\n",
      "\u001b[33mValidating momentum vgg16 ...\u001b[0m\n",
      "Features extracted in 81.99 seconds\n",
      "Features extracted in 148.96 seconds\n",
      "Computing CMC and mAP ...\n",
      "** Results **\n",
      "mAP: 66.17%\n",
      "CMC curve\n",
      "Rank-1  : 60.22%\n",
      "Rank-5  : 85.69%\n",
      "Rank-10 : 92.76%\n",
      "Rank-20 : 97.47%\n",
      "\u001b[33mValidating online resnet50 ...\u001b[0m\n",
      "Features extracted in 80.39 seconds\n",
      "Features extracted in 148.49 seconds\n",
      "Computing CMC and mAP ...\n",
      "** Results **\n",
      "mAP: 67.50%\n",
      "CMC curve\n",
      "Rank-1  : 55.02%\n",
      "Rank-5  : 80.54%\n",
      "Rank-10 : 89.57%\n",
      "Rank-20 : 96.21%\n",
      "\u001b[33mValidating momentum resnet50 ...\u001b[0m\n",
      "Features extracted in 80.73 seconds\n",
      "Features extracted in 151.08 seconds\n",
      "Computing CMC and mAP ...\n",
      "** Results **\n",
      "mAP: 66.53%\n",
      "CMC curve\n",
      "Rank-1  : 51.40%\n",
      "Rank-5  : 82.97%\n",
      "Rank-10 : 92.60%\n",
      "Rank-20 : 97.67%\n",
      "\u001b[33mValidating online osnet ...\u001b[0m\n",
      "Features extracted in 83.02 seconds\n",
      "Features extracted in 153.30 seconds\n",
      "Computing CMC and mAP ...\n",
      "** Results **\n",
      "mAP: 70.98%\n",
      "CMC curve\n",
      "Rank-1  : 66.36%\n",
      "Rank-5  : 91.56%\n",
      "Rank-10 : 96.56%\n",
      "Rank-20 : 99.07%\n",
      "\u001b[33mValidating momentum osnet ...\u001b[0m\n",
      "Features extracted in 80.50 seconds\n",
      "Features extracted in 147.69 seconds\n",
      "Computing CMC and mAP ...\n",
      "** Results **\n",
      "mAP: 64.56%\n",
      "CMC curve\n",
      "Rank-1  : 55.77%\n",
      "Rank-5  : 86.08%\n",
      "Rank-10 : 94.11%\n",
      "Rank-20 : 97.92%\n",
      "\u001b[33mValidating online densenet121 ...\u001b[0m\n",
      "Features extracted in 82.23 seconds\n",
      "Features extracted in 150.70 seconds\n",
      "Computing CMC and mAP ...\n",
      "** Results **\n",
      "mAP: 69.32%\n",
      "CMC curve\n",
      "Rank-1  : 61.53%\n",
      "Rank-5  : 85.89%\n",
      "Rank-10 : 93.66%\n",
      "Rank-20 : 97.66%\n",
      "\u001b[33mValidating momentum densenet121 ...\u001b[0m\n",
      "Features extracted in 80.50 seconds\n",
      "Features extracted in 149.49 seconds\n",
      "Computing CMC and mAP ...\n",
      "** Results **\n",
      "mAP: 66.02%\n",
      "CMC curve\n",
      "Rank-1  : 63.00%\n",
      "Rank-5  : 91.00%\n",
      "Rank-10 : 96.36%\n",
      "Rank-20 : 98.94%\n",
      "\u001b[33mValidating ensembled with online models ...\u001b[0m\n",
      "Computing CMC and mAP ...\n",
      "** Results **\n",
      "mAP: 69.73%\n",
      "Ranks:\n",
      "Rank-1  : 63.31%\n",
      "Rank-5  : 83.51%\n",
      "Rank-10 : 91.32%\n",
      "\u001b[33mValidating ensembled with momentum models ...\u001b[0m\n",
      "Computing CMC and mAP ...\n",
      "** Results **\n",
      "mAP: 65.40%\n",
      "Ranks:\n",
      "Rank-1  : 60.95%\n",
      "Rank-5  : 84.80%\n",
      "Rank-10 : 92.04%\n",
      "###============ Iteration number 41/90 ============###\n",
      "Extracting Online Features for vgg16 ...\n",
      "Features extracted in 255.14 seconds\n",
      "Computing jaccard distance...\n"
     ]
    },
    {
     "name": "stderr",
     "output_type": "stream",
     "text": [
      "bruteForceKnn is deprecated; call bfKnn instead\n"
     ]
    },
    {
     "name": "stdout",
     "output_type": "stream",
     "text": [
      "Jaccard distance computing time cost: 541.5395238399506\n",
      "Extracting Online Features for resnet50 ...\n",
      "Features extracted in 245.53 seconds\n",
      "Computing jaccard distance...\n"
     ]
    },
    {
     "name": "stderr",
     "output_type": "stream",
     "text": [
      "bruteForceKnn is deprecated; call bfKnn instead\n"
     ]
    },
    {
     "name": "stdout",
     "output_type": "stream",
     "text": [
      "Jaccard distance computing time cost: 531.5554497241974\n",
      "Extracting Online Features for osnet ...\n",
      "Features extracted in 246.48 seconds\n",
      "Computing jaccard distance...\n"
     ]
    },
    {
     "name": "stderr",
     "output_type": "stream",
     "text": [
      "bruteForceKnn is deprecated; call bfKnn instead\n"
     ]
    },
    {
     "name": "stdout",
     "output_type": "stream",
     "text": [
      "Jaccard distance computing time cost: 531.0265109539032\n",
      "Extracting Online Features for densenet121 ...\n",
      "Features extracted in 252.65 seconds\n",
      "Computing jaccard distance...\n"
     ]
    },
    {
     "name": "stderr",
     "output_type": "stream",
     "text": [
      "bruteForceKnn is deprecated; call bfKnn instead\n"
     ]
    },
    {
     "name": "stdout",
     "output_type": "stream",
     "text": [
      "Jaccard distance computing time cost: 547.0463647842407\n",
      "Reliability: 0.992\n",
      "\u001b[32mMean Purity: 0.03921\u001b[0m\n",
      "\u001b[34mThere are 3 clusters with 4 cameras\u001b[0m\n",
      "\u001b[34mThere are 3 clusters with 5 cameras\u001b[0m\n",
      "\u001b[34mThere are 3 clusters with 6 cameras\u001b[0m\n",
      "\u001b[34mThere are 2 clusters with 7 cameras\u001b[0m\n",
      "\u001b[34mThere are 3 clusters with 8 cameras\u001b[0m\n",
      "\u001b[34mThere are 1 clusters with 9 cameras\u001b[0m\n",
      "\u001b[34mThere are 1 clusters with 10 cameras\u001b[0m\n",
      "\u001b[34mThere are 2 clusters with 12 cameras\u001b[0m\n",
      "\u001b[34mThere are 1 clusters with 14 cameras\u001b[0m\n",
      "\u001b[34mThere are 1 clusters with 16 cameras\u001b[0m\n",
      "\u001b[34mThere are 1 clusters with 17 cameras\u001b[0m\n",
      "\u001b[34mThere are 2 clusters with 18 cameras\u001b[0m\n",
      "\u001b[34mThere are 1 clusters with 35 cameras\u001b[0m\n",
      "\u001b[34mThere are 1 clusters with 43 cameras\u001b[0m\n",
      "\u001b[34mThere are 1 clusters with 44 cameras\u001b[0m\n",
      "\u001b[34mThere are 1 clusters with 46 cameras\u001b[0m\n",
      "\u001b[34mThere are 1 clusters with 50 cameras\u001b[0m\n",
      "\u001b[34mThere are 1 clusters with 52 cameras\u001b[0m\n",
      "\u001b[34mThere are 1 clusters with 53 cameras\u001b[0m\n",
      "\u001b[34mThere are 1 clusters with 54 cameras\u001b[0m\n",
      "\u001b[34mThere are 3 clusters with 55 cameras\u001b[0m\n",
      "\u001b[34mThere are 1 clusters with 56 cameras\u001b[0m\n",
      "\u001b[34mThere are 6 clusters with 57 cameras\u001b[0m\n",
      "\u001b[34mThere are 5 clusters with 58 cameras\u001b[0m\n",
      "\u001b[34mThere are 3 clusters with 59 cameras\u001b[0m\n",
      "\u001b[34mThere are 8 clusters with 60 cameras\u001b[0m\n",
      "\u001b[34mThere are 14 clusters with 61 cameras\u001b[0m\n",
      "\u001b[34mThere are 18 clusters with 62 cameras\u001b[0m\n",
      "\u001b[34mThere are 42 clusters with 63 cameras\u001b[0m\n",
      "\u001b[34mThere are 400 clusters with 64 cameras\u001b[0m\n",
      "\u001b[34mThere are 3 clusters with 66 cameras\u001b[0m\n",
      "\u001b[34mThere are 1 clusters with 68 cameras\u001b[0m\n",
      "\u001b[34mThere are 1 clusters with 69 cameras\u001b[0m\n",
      "\u001b[34mThere are 1 clusters with 73 cameras\u001b[0m\n",
      "\u001b[34mThere are 1 clusters with 106 cameras\u001b[0m\n",
      "\u001b[34mThere are 1 clusters with 109 cameras\u001b[0m\n",
      "\u001b[34mThere are 1 clusters with 116 cameras\u001b[0m\n",
      "\u001b[34mThere are 1 clusters with 118 cameras\u001b[0m\n",
      "\u001b[34mThere are 1 clusters with 121 cameras\u001b[0m\n",
      "\u001b[34mThere are 1 clusters with 122 cameras\u001b[0m\n",
      "\u001b[34mThere are 3 clusters with 123 cameras\u001b[0m\n",
      "\u001b[34mThere are 3 clusters with 124 cameras\u001b[0m\n",
      "\u001b[34mThere are 2 clusters with 126 cameras\u001b[0m\n",
      "\u001b[34mThere are 3 clusters with 127 cameras\u001b[0m\n",
      "\u001b[34mThere are 11 clusters with 128 cameras\u001b[0m\n",
      "\u001b[34mThere are 1 clusters with 131 cameras\u001b[0m\n",
      "\u001b[34mThere are 1 clusters with 134 cameras\u001b[0m\n",
      "\u001b[34mThere are 1 clusters with 187 cameras\u001b[0m\n",
      "\u001b[34mThere are 2 clusters with 188 cameras\u001b[0m\n",
      "\u001b[34mThere are 1 clusters with 190 cameras\u001b[0m\n",
      "\u001b[34mThere are 1 clusters with 192 cameras\u001b[0m\n",
      "\u001b[34mThere are 1 clusters with 338 cameras\u001b[0m\n",
      "\u001b[34mThere are 1 clusters with 361 cameras\u001b[0m\n",
      "Number of classes: 574\n",
      "\u001b[36mLearning Rate: 0.000350\u001b[0m\n",
      "encontrou modelos vgg16. Carregando...\n",
      "encontrou modelos resnet50. Carregando...\n",
      "encontrou modelos osnet. Carregando...\n",
      "encontrou modelos densenet121. Carregando...\n",
      "###============ Iteration number 42/90 ============###\n",
      "Extracting Online Features for vgg16 ...\n",
      "Features extracted in 241.45 seconds\n",
      "Computing jaccard distance...\n"
     ]
    },
    {
     "name": "stderr",
     "output_type": "stream",
     "text": [
      "bruteForceKnn is deprecated; call bfKnn instead\n"
     ]
    },
    {
     "name": "stdout",
     "output_type": "stream",
     "text": [
      "Jaccard distance computing time cost: 530.5243990421295\n",
      "Extracting Online Features for resnet50 ...\n",
      "Features extracted in 254.07 seconds\n",
      "Computing jaccard distance...\n"
     ]
    },
    {
     "name": "stderr",
     "output_type": "stream",
     "text": [
      "bruteForceKnn is deprecated; call bfKnn instead\n"
     ]
    },
    {
     "name": "stdout",
     "output_type": "stream",
     "text": [
      "Jaccard distance computing time cost: 541.4265418052673\n",
      "Extracting Online Features for osnet ...\n",
      "Features extracted in 248.19 seconds\n",
      "Computing jaccard distance...\n"
     ]
    },
    {
     "name": "stderr",
     "output_type": "stream",
     "text": [
      "bruteForceKnn is deprecated; call bfKnn instead\n"
     ]
    },
    {
     "name": "stdout",
     "output_type": "stream",
     "text": [
      "Jaccard distance computing time cost: 533.5746960639954\n",
      "Extracting Online Features for densenet121 ...\n",
      "Features extracted in 253.06 seconds\n",
      "Computing jaccard distance...\n"
     ]
    },
    {
     "name": "stderr",
     "output_type": "stream",
     "text": [
      "bruteForceKnn is deprecated; call bfKnn instead\n"
     ]
    },
    {
     "name": "stdout",
     "output_type": "stream",
     "text": [
      "Jaccard distance computing time cost: 544.2954421043396\n",
      "Reliability: 0.992\n",
      "\u001b[32mMean Purity: 0.03921\u001b[0m\n",
      "\u001b[34mThere are 3 clusters with 4 cameras\u001b[0m\n",
      "\u001b[34mThere are 3 clusters with 5 cameras\u001b[0m\n",
      "\u001b[34mThere are 3 clusters with 6 cameras\u001b[0m\n",
      "\u001b[34mThere are 2 clusters with 7 cameras\u001b[0m\n",
      "\u001b[34mThere are 3 clusters with 8 cameras\u001b[0m\n",
      "\u001b[34mThere are 1 clusters with 9 cameras\u001b[0m\n",
      "\u001b[34mThere are 1 clusters with 10 cameras\u001b[0m\n",
      "\u001b[34mThere are 2 clusters with 12 cameras\u001b[0m\n",
      "\u001b[34mThere are 1 clusters with 14 cameras\u001b[0m\n",
      "\u001b[34mThere are 1 clusters with 16 cameras\u001b[0m\n",
      "\u001b[34mThere are 1 clusters with 17 cameras\u001b[0m\n",
      "\u001b[34mThere are 2 clusters with 18 cameras\u001b[0m\n",
      "\u001b[34mThere are 1 clusters with 35 cameras\u001b[0m\n",
      "\u001b[34mThere are 1 clusters with 43 cameras\u001b[0m\n",
      "\u001b[34mThere are 1 clusters with 44 cameras\u001b[0m\n",
      "\u001b[34mThere are 1 clusters with 46 cameras\u001b[0m\n",
      "\u001b[34mThere are 1 clusters with 50 cameras\u001b[0m\n",
      "\u001b[34mThere are 1 clusters with 52 cameras\u001b[0m\n",
      "\u001b[34mThere are 1 clusters with 53 cameras\u001b[0m\n",
      "\u001b[34mThere are 1 clusters with 54 cameras\u001b[0m\n",
      "\u001b[34mThere are 3 clusters with 55 cameras\u001b[0m\n",
      "\u001b[34mThere are 1 clusters with 56 cameras\u001b[0m\n",
      "\u001b[34mThere are 6 clusters with 57 cameras\u001b[0m\n",
      "\u001b[34mThere are 5 clusters with 58 cameras\u001b[0m\n",
      "\u001b[34mThere are 3 clusters with 59 cameras\u001b[0m\n",
      "\u001b[34mThere are 8 clusters with 60 cameras\u001b[0m\n",
      "\u001b[34mThere are 14 clusters with 61 cameras\u001b[0m\n",
      "\u001b[34mThere are 18 clusters with 62 cameras\u001b[0m\n",
      "\u001b[34mThere are 42 clusters with 63 cameras\u001b[0m\n",
      "\u001b[34mThere are 400 clusters with 64 cameras\u001b[0m\n",
      "\u001b[34mThere are 3 clusters with 66 cameras\u001b[0m\n",
      "\u001b[34mThere are 1 clusters with 68 cameras\u001b[0m\n",
      "\u001b[34mThere are 1 clusters with 69 cameras\u001b[0m\n",
      "\u001b[34mThere are 1 clusters with 73 cameras\u001b[0m\n",
      "\u001b[34mThere are 1 clusters with 106 cameras\u001b[0m\n",
      "\u001b[34mThere are 1 clusters with 109 cameras\u001b[0m\n",
      "\u001b[34mThere are 1 clusters with 116 cameras\u001b[0m\n",
      "\u001b[34mThere are 1 clusters with 118 cameras\u001b[0m\n",
      "\u001b[34mThere are 1 clusters with 121 cameras\u001b[0m\n",
      "\u001b[34mThere are 1 clusters with 122 cameras\u001b[0m\n",
      "\u001b[34mThere are 3 clusters with 123 cameras\u001b[0m\n",
      "\u001b[34mThere are 3 clusters with 124 cameras\u001b[0m\n",
      "\u001b[34mThere are 2 clusters with 126 cameras\u001b[0m\n",
      "\u001b[34mThere are 3 clusters with 127 cameras\u001b[0m\n",
      "\u001b[34mThere are 11 clusters with 128 cameras\u001b[0m\n",
      "\u001b[34mThere are 1 clusters with 131 cameras\u001b[0m\n",
      "\u001b[34mThere are 1 clusters with 134 cameras\u001b[0m\n",
      "\u001b[34mThere are 1 clusters with 187 cameras\u001b[0m\n",
      "\u001b[34mThere are 2 clusters with 188 cameras\u001b[0m\n",
      "\u001b[34mThere are 1 clusters with 190 cameras\u001b[0m\n",
      "\u001b[34mThere are 1 clusters with 192 cameras\u001b[0m\n",
      "\u001b[34mThere are 1 clusters with 338 cameras\u001b[0m\n",
      "\u001b[34mThere are 1 clusters with 361 cameras\u001b[0m\n",
      "Number of classes: 574\n",
      "\u001b[36mLearning Rate: 0.000350\u001b[0m\n",
      "encontrou modelos vgg16. Carregando...\n",
      "encontrou modelos resnet50. Carregando...\n",
      "encontrou modelos osnet. Carregando...\n",
      "encontrou modelos densenet121. Carregando...\n",
      "###============ Iteration number 43/90 ============###\n",
      "Extracting Online Features for vgg16 ...\n",
      "Features extracted in 252.28 seconds\n",
      "Computing jaccard distance...\n"
     ]
    },
    {
     "name": "stderr",
     "output_type": "stream",
     "text": [
      "bruteForceKnn is deprecated; call bfKnn instead\n"
     ]
    },
    {
     "name": "stdout",
     "output_type": "stream",
     "text": [
      "Jaccard distance computing time cost: 542.3710398674011\n",
      "Extracting Online Features for resnet50 ...\n",
      "Features extracted in 252.04 seconds\n",
      "Computing jaccard distance...\n"
     ]
    },
    {
     "name": "stderr",
     "output_type": "stream",
     "text": [
      "bruteForceKnn is deprecated; call bfKnn instead\n"
     ]
    },
    {
     "name": "stdout",
     "output_type": "stream",
     "text": [
      "Jaccard distance computing time cost: 531.1179966926575\n",
      "Extracting Online Features for osnet ...\n",
      "Features extracted in 252.22 seconds\n",
      "Computing jaccard distance...\n"
     ]
    },
    {
     "name": "stderr",
     "output_type": "stream",
     "text": [
      "bruteForceKnn is deprecated; call bfKnn instead\n"
     ]
    },
    {
     "name": "stdout",
     "output_type": "stream",
     "text": [
      "Jaccard distance computing time cost: 518.8380942344666\n",
      "Extracting Online Features for densenet121 ...\n",
      "Features extracted in 250.12 seconds\n",
      "Computing jaccard distance...\n"
     ]
    },
    {
     "name": "stderr",
     "output_type": "stream",
     "text": [
      "bruteForceKnn is deprecated; call bfKnn instead\n"
     ]
    },
    {
     "name": "stdout",
     "output_type": "stream",
     "text": [
      "Jaccard distance computing time cost: 544.0412211418152\n",
      "Reliability: 0.992\n",
      "\u001b[32mMean Purity: 0.03921\u001b[0m\n",
      "\u001b[34mThere are 3 clusters with 4 cameras\u001b[0m\n",
      "\u001b[34mThere are 3 clusters with 5 cameras\u001b[0m\n",
      "\u001b[34mThere are 3 clusters with 6 cameras\u001b[0m\n",
      "\u001b[34mThere are 2 clusters with 7 cameras\u001b[0m\n",
      "\u001b[34mThere are 3 clusters with 8 cameras\u001b[0m\n",
      "\u001b[34mThere are 1 clusters with 9 cameras\u001b[0m\n",
      "\u001b[34mThere are 1 clusters with 10 cameras\u001b[0m\n",
      "\u001b[34mThere are 2 clusters with 12 cameras\u001b[0m\n",
      "\u001b[34mThere are 1 clusters with 14 cameras\u001b[0m\n",
      "\u001b[34mThere are 1 clusters with 16 cameras\u001b[0m\n",
      "\u001b[34mThere are 1 clusters with 17 cameras\u001b[0m\n",
      "\u001b[34mThere are 2 clusters with 18 cameras\u001b[0m\n",
      "\u001b[34mThere are 1 clusters with 35 cameras\u001b[0m\n",
      "\u001b[34mThere are 1 clusters with 43 cameras\u001b[0m\n",
      "\u001b[34mThere are 1 clusters with 44 cameras\u001b[0m\n",
      "\u001b[34mThere are 1 clusters with 46 cameras\u001b[0m\n",
      "\u001b[34mThere are 1 clusters with 50 cameras\u001b[0m\n",
      "\u001b[34mThere are 1 clusters with 52 cameras\u001b[0m\n",
      "\u001b[34mThere are 1 clusters with 53 cameras\u001b[0m\n",
      "\u001b[34mThere are 1 clusters with 54 cameras\u001b[0m\n",
      "\u001b[34mThere are 3 clusters with 55 cameras\u001b[0m\n",
      "\u001b[34mThere are 1 clusters with 56 cameras\u001b[0m\n",
      "\u001b[34mThere are 6 clusters with 57 cameras\u001b[0m\n",
      "\u001b[34mThere are 5 clusters with 58 cameras\u001b[0m\n",
      "\u001b[34mThere are 3 clusters with 59 cameras\u001b[0m\n",
      "\u001b[34mThere are 8 clusters with 60 cameras\u001b[0m\n",
      "\u001b[34mThere are 14 clusters with 61 cameras\u001b[0m\n",
      "\u001b[34mThere are 18 clusters with 62 cameras\u001b[0m\n",
      "\u001b[34mThere are 42 clusters with 63 cameras\u001b[0m\n",
      "\u001b[34mThere are 400 clusters with 64 cameras\u001b[0m\n",
      "\u001b[34mThere are 3 clusters with 66 cameras\u001b[0m\n",
      "\u001b[34mThere are 1 clusters with 68 cameras\u001b[0m\n",
      "\u001b[34mThere are 1 clusters with 69 cameras\u001b[0m\n",
      "\u001b[34mThere are 1 clusters with 73 cameras\u001b[0m\n",
      "\u001b[34mThere are 1 clusters with 106 cameras\u001b[0m\n",
      "\u001b[34mThere are 1 clusters with 109 cameras\u001b[0m\n",
      "\u001b[34mThere are 1 clusters with 116 cameras\u001b[0m\n",
      "\u001b[34mThere are 1 clusters with 118 cameras\u001b[0m\n",
      "\u001b[34mThere are 1 clusters with 121 cameras\u001b[0m\n",
      "\u001b[34mThere are 1 clusters with 122 cameras\u001b[0m\n",
      "\u001b[34mThere are 3 clusters with 123 cameras\u001b[0m\n",
      "\u001b[34mThere are 3 clusters with 124 cameras\u001b[0m\n",
      "\u001b[34mThere are 2 clusters with 126 cameras\u001b[0m\n",
      "\u001b[34mThere are 3 clusters with 127 cameras\u001b[0m\n",
      "\u001b[34mThere are 11 clusters with 128 cameras\u001b[0m\n",
      "\u001b[34mThere are 1 clusters with 131 cameras\u001b[0m\n",
      "\u001b[34mThere are 1 clusters with 134 cameras\u001b[0m\n",
      "\u001b[34mThere are 1 clusters with 187 cameras\u001b[0m\n",
      "\u001b[34mThere are 2 clusters with 188 cameras\u001b[0m\n",
      "\u001b[34mThere are 1 clusters with 190 cameras\u001b[0m\n",
      "\u001b[34mThere are 1 clusters with 192 cameras\u001b[0m\n",
      "\u001b[34mThere are 1 clusters with 338 cameras\u001b[0m\n",
      "\u001b[34mThere are 1 clusters with 361 cameras\u001b[0m\n",
      "Number of classes: 574\n",
      "\u001b[36mLearning Rate: 0.000350\u001b[0m\n",
      "encontrou modelos vgg16. Carregando...\n",
      "encontrou modelos resnet50. Carregando...\n",
      "encontrou modelos osnet. Carregando...\n",
      "encontrou modelos densenet121. Carregando...\n",
      "###============ Iteration number 44/90 ============###\n",
      "Extracting Online Features for vgg16 ...\n",
      "Features extracted in 258.25 seconds\n",
      "Computing jaccard distance...\n"
     ]
    },
    {
     "name": "stderr",
     "output_type": "stream",
     "text": [
      "bruteForceKnn is deprecated; call bfKnn instead\n"
     ]
    },
    {
     "name": "stdout",
     "output_type": "stream",
     "text": [
      "Jaccard distance computing time cost: 543.9867525100708\n",
      "Extracting Online Features for resnet50 ...\n",
      "Features extracted in 248.93 seconds\n",
      "Computing jaccard distance...\n"
     ]
    },
    {
     "name": "stderr",
     "output_type": "stream",
     "text": [
      "bruteForceKnn is deprecated; call bfKnn instead\n"
     ]
    },
    {
     "name": "stdout",
     "output_type": "stream",
     "text": [
      "Jaccard distance computing time cost: 532.7131536006927\n",
      "Extracting Online Features for osnet ...\n",
      "Features extracted in 248.47 seconds\n",
      "Computing jaccard distance...\n"
     ]
    },
    {
     "name": "stderr",
     "output_type": "stream",
     "text": [
      "bruteForceKnn is deprecated; call bfKnn instead\n"
     ]
    },
    {
     "name": "stdout",
     "output_type": "stream",
     "text": [
      "Jaccard distance computing time cost: 531.4086756706238\n",
      "Extracting Online Features for densenet121 ...\n",
      "Features extracted in 240.96 seconds\n",
      "Computing jaccard distance...\n"
     ]
    },
    {
     "name": "stderr",
     "output_type": "stream",
     "text": [
      "bruteForceKnn is deprecated; call bfKnn instead\n"
     ]
    },
    {
     "name": "stdout",
     "output_type": "stream",
     "text": [
      "Jaccard distance computing time cost: 543.9122018814087\n",
      "Reliability: 0.992\n",
      "\u001b[32mMean Purity: 0.03921\u001b[0m\n",
      "\u001b[34mThere are 3 clusters with 4 cameras\u001b[0m\n",
      "\u001b[34mThere are 3 clusters with 5 cameras\u001b[0m\n",
      "\u001b[34mThere are 3 clusters with 6 cameras\u001b[0m\n",
      "\u001b[34mThere are 2 clusters with 7 cameras\u001b[0m\n",
      "\u001b[34mThere are 3 clusters with 8 cameras\u001b[0m\n",
      "\u001b[34mThere are 1 clusters with 9 cameras\u001b[0m\n",
      "\u001b[34mThere are 1 clusters with 10 cameras\u001b[0m\n",
      "\u001b[34mThere are 2 clusters with 12 cameras\u001b[0m\n",
      "\u001b[34mThere are 1 clusters with 14 cameras\u001b[0m\n",
      "\u001b[34mThere are 1 clusters with 16 cameras\u001b[0m\n",
      "\u001b[34mThere are 1 clusters with 17 cameras\u001b[0m\n",
      "\u001b[34mThere are 2 clusters with 18 cameras\u001b[0m\n",
      "\u001b[34mThere are 1 clusters with 35 cameras\u001b[0m\n",
      "\u001b[34mThere are 1 clusters with 43 cameras\u001b[0m\n",
      "\u001b[34mThere are 1 clusters with 44 cameras\u001b[0m\n",
      "\u001b[34mThere are 1 clusters with 46 cameras\u001b[0m\n",
      "\u001b[34mThere are 1 clusters with 50 cameras\u001b[0m\n",
      "\u001b[34mThere are 1 clusters with 52 cameras\u001b[0m\n",
      "\u001b[34mThere are 1 clusters with 53 cameras\u001b[0m\n",
      "\u001b[34mThere are 1 clusters with 54 cameras\u001b[0m\n",
      "\u001b[34mThere are 3 clusters with 55 cameras\u001b[0m\n",
      "\u001b[34mThere are 1 clusters with 56 cameras\u001b[0m\n",
      "\u001b[34mThere are 6 clusters with 57 cameras\u001b[0m\n",
      "\u001b[34mThere are 5 clusters with 58 cameras\u001b[0m\n",
      "\u001b[34mThere are 3 clusters with 59 cameras\u001b[0m\n",
      "\u001b[34mThere are 8 clusters with 60 cameras\u001b[0m\n",
      "\u001b[34mThere are 14 clusters with 61 cameras\u001b[0m\n",
      "\u001b[34mThere are 18 clusters with 62 cameras\u001b[0m\n",
      "\u001b[34mThere are 42 clusters with 63 cameras\u001b[0m\n",
      "\u001b[34mThere are 400 clusters with 64 cameras\u001b[0m\n",
      "\u001b[34mThere are 3 clusters with 66 cameras\u001b[0m\n",
      "\u001b[34mThere are 1 clusters with 68 cameras\u001b[0m\n",
      "\u001b[34mThere are 1 clusters with 69 cameras\u001b[0m\n",
      "\u001b[34mThere are 1 clusters with 73 cameras\u001b[0m\n",
      "\u001b[34mThere are 1 clusters with 106 cameras\u001b[0m\n",
      "\u001b[34mThere are 1 clusters with 109 cameras\u001b[0m\n",
      "\u001b[34mThere are 1 clusters with 116 cameras\u001b[0m\n",
      "\u001b[34mThere are 1 clusters with 118 cameras\u001b[0m\n",
      "\u001b[34mThere are 1 clusters with 121 cameras\u001b[0m\n",
      "\u001b[34mThere are 1 clusters with 122 cameras\u001b[0m\n",
      "\u001b[34mThere are 3 clusters with 123 cameras\u001b[0m\n",
      "\u001b[34mThere are 3 clusters with 124 cameras\u001b[0m\n",
      "\u001b[34mThere are 2 clusters with 126 cameras\u001b[0m\n",
      "\u001b[34mThere are 3 clusters with 127 cameras\u001b[0m\n",
      "\u001b[34mThere are 11 clusters with 128 cameras\u001b[0m\n",
      "\u001b[34mThere are 1 clusters with 131 cameras\u001b[0m\n",
      "\u001b[34mThere are 1 clusters with 134 cameras\u001b[0m\n",
      "\u001b[34mThere are 1 clusters with 187 cameras\u001b[0m\n",
      "\u001b[34mThere are 2 clusters with 188 cameras\u001b[0m\n",
      "\u001b[34mThere are 1 clusters with 190 cameras\u001b[0m\n",
      "\u001b[34mThere are 1 clusters with 192 cameras\u001b[0m\n",
      "\u001b[34mThere are 1 clusters with 338 cameras\u001b[0m\n",
      "\u001b[34mThere are 1 clusters with 361 cameras\u001b[0m\n",
      "Number of classes: 574\n",
      "\u001b[36mLearning Rate: 0.000350\u001b[0m\n",
      "encontrou modelos vgg16. Carregando...\n",
      "encontrou modelos resnet50. Carregando...\n",
      "encontrou modelos osnet. Carregando...\n",
      "encontrou modelos densenet121. Carregando...\n",
      "###============ Iteration number 45/90 ============###\n",
      "Extracting Online Features for vgg16 ...\n",
      "Features extracted in 249.61 seconds\n",
      "Computing jaccard distance...\n"
     ]
    },
    {
     "name": "stderr",
     "output_type": "stream",
     "text": [
      "bruteForceKnn is deprecated; call bfKnn instead\n"
     ]
    },
    {
     "name": "stdout",
     "output_type": "stream",
     "text": [
      "Jaccard distance computing time cost: 523.5489356517792\n",
      "Extracting Online Features for resnet50 ...\n",
      "Features extracted in 246.54 seconds\n",
      "Computing jaccard distance...\n"
     ]
    },
    {
     "name": "stderr",
     "output_type": "stream",
     "text": [
      "bruteForceKnn is deprecated; call bfKnn instead\n"
     ]
    },
    {
     "name": "stdout",
     "output_type": "stream",
     "text": [
      "Jaccard distance computing time cost: 544.6570086479187\n",
      "Extracting Online Features for osnet ...\n",
      "Features extracted in 247.05 seconds\n",
      "Computing jaccard distance...\n"
     ]
    },
    {
     "name": "stderr",
     "output_type": "stream",
     "text": [
      "bruteForceKnn is deprecated; call bfKnn instead\n"
     ]
    },
    {
     "name": "stdout",
     "output_type": "stream",
     "text": [
      "Jaccard distance computing time cost: 533.5086877346039\n",
      "Extracting Online Features for densenet121 ...\n",
      "Features extracted in 246.02 seconds\n",
      "Computing jaccard distance...\n"
     ]
    },
    {
     "name": "stderr",
     "output_type": "stream",
     "text": [
      "bruteForceKnn is deprecated; call bfKnn instead\n"
     ]
    },
    {
     "name": "stdout",
     "output_type": "stream",
     "text": [
      "Jaccard distance computing time cost: 528.6764731407166\n",
      "Reliability: 0.992\n",
      "\u001b[32mMean Purity: 0.03921\u001b[0m\n",
      "\u001b[34mThere are 3 clusters with 4 cameras\u001b[0m\n",
      "\u001b[34mThere are 3 clusters with 5 cameras\u001b[0m\n",
      "\u001b[34mThere are 3 clusters with 6 cameras\u001b[0m\n",
      "\u001b[34mThere are 2 clusters with 7 cameras\u001b[0m\n",
      "\u001b[34mThere are 3 clusters with 8 cameras\u001b[0m\n",
      "\u001b[34mThere are 1 clusters with 9 cameras\u001b[0m\n",
      "\u001b[34mThere are 1 clusters with 10 cameras\u001b[0m\n",
      "\u001b[34mThere are 2 clusters with 12 cameras\u001b[0m\n",
      "\u001b[34mThere are 1 clusters with 14 cameras\u001b[0m\n",
      "\u001b[34mThere are 1 clusters with 16 cameras\u001b[0m\n",
      "\u001b[34mThere are 1 clusters with 17 cameras\u001b[0m\n",
      "\u001b[34mThere are 2 clusters with 18 cameras\u001b[0m\n",
      "\u001b[34mThere are 1 clusters with 35 cameras\u001b[0m\n",
      "\u001b[34mThere are 1 clusters with 43 cameras\u001b[0m\n",
      "\u001b[34mThere are 1 clusters with 44 cameras\u001b[0m\n",
      "\u001b[34mThere are 1 clusters with 46 cameras\u001b[0m\n",
      "\u001b[34mThere are 1 clusters with 50 cameras\u001b[0m\n",
      "\u001b[34mThere are 1 clusters with 52 cameras\u001b[0m\n",
      "\u001b[34mThere are 1 clusters with 53 cameras\u001b[0m\n",
      "\u001b[34mThere are 1 clusters with 54 cameras\u001b[0m\n",
      "\u001b[34mThere are 3 clusters with 55 cameras\u001b[0m\n",
      "\u001b[34mThere are 1 clusters with 56 cameras\u001b[0m\n",
      "\u001b[34mThere are 6 clusters with 57 cameras\u001b[0m\n",
      "\u001b[34mThere are 5 clusters with 58 cameras\u001b[0m\n",
      "\u001b[34mThere are 3 clusters with 59 cameras\u001b[0m\n",
      "\u001b[34mThere are 8 clusters with 60 cameras\u001b[0m\n",
      "\u001b[34mThere are 14 clusters with 61 cameras\u001b[0m\n",
      "\u001b[34mThere are 18 clusters with 62 cameras\u001b[0m\n",
      "\u001b[34mThere are 42 clusters with 63 cameras\u001b[0m\n",
      "\u001b[34mThere are 400 clusters with 64 cameras\u001b[0m\n",
      "\u001b[34mThere are 3 clusters with 66 cameras\u001b[0m\n",
      "\u001b[34mThere are 1 clusters with 68 cameras\u001b[0m\n",
      "\u001b[34mThere are 1 clusters with 69 cameras\u001b[0m\n",
      "\u001b[34mThere are 1 clusters with 73 cameras\u001b[0m\n",
      "\u001b[34mThere are 1 clusters with 106 cameras\u001b[0m\n",
      "\u001b[34mThere are 1 clusters with 109 cameras\u001b[0m\n",
      "\u001b[34mThere are 1 clusters with 116 cameras\u001b[0m\n",
      "\u001b[34mThere are 1 clusters with 118 cameras\u001b[0m\n",
      "\u001b[34mThere are 1 clusters with 121 cameras\u001b[0m\n",
      "\u001b[34mThere are 1 clusters with 122 cameras\u001b[0m\n",
      "\u001b[34mThere are 3 clusters with 123 cameras\u001b[0m\n",
      "\u001b[34mThere are 3 clusters with 124 cameras\u001b[0m\n",
      "\u001b[34mThere are 2 clusters with 126 cameras\u001b[0m\n",
      "\u001b[34mThere are 3 clusters with 127 cameras\u001b[0m\n",
      "\u001b[34mThere are 11 clusters with 128 cameras\u001b[0m\n",
      "\u001b[34mThere are 1 clusters with 131 cameras\u001b[0m\n",
      "\u001b[34mThere are 1 clusters with 134 cameras\u001b[0m\n",
      "\u001b[34mThere are 1 clusters with 187 cameras\u001b[0m\n",
      "\u001b[34mThere are 2 clusters with 188 cameras\u001b[0m\n",
      "\u001b[34mThere are 1 clusters with 190 cameras\u001b[0m\n",
      "\u001b[34mThere are 1 clusters with 192 cameras\u001b[0m\n",
      "\u001b[34mThere are 1 clusters with 338 cameras\u001b[0m\n",
      "\u001b[34mThere are 1 clusters with 361 cameras\u001b[0m\n",
      "Number of classes: 574\n",
      "\u001b[36mLearning Rate: 0.000350\u001b[0m\n",
      "encontrou modelos vgg16. Carregando...\n",
      "encontrou modelos resnet50. Carregando...\n",
      "encontrou modelos osnet. Carregando...\n",
      "encontrou modelos densenet121. Carregando...\n",
      "\u001b[33mValidating online vgg16 ...\u001b[0m\n",
      "Features extracted in 79.33 seconds\n",
      "Features extracted in 148.77 seconds\n",
      "Computing CMC and mAP ...\n",
      "** Results **\n",
      "mAP: 70.12%\n",
      "CMC curve\n",
      "Rank-1  : 75.96%\n",
      "Rank-5  : 91.27%\n",
      "Rank-10 : 94.82%\n",
      "Rank-20 : 96.79%\n",
      "\u001b[33mValidating momentum vgg16 ...\u001b[0m\n",
      "Features extracted in 79.65 seconds\n",
      "Features extracted in 146.99 seconds\n",
      "Computing CMC and mAP ...\n",
      "** Results **\n",
      "mAP: 66.17%\n",
      "CMC curve\n",
      "Rank-1  : 60.22%\n",
      "Rank-5  : 85.69%\n",
      "Rank-10 : 92.76%\n",
      "Rank-20 : 97.47%\n",
      "\u001b[33mValidating online resnet50 ...\u001b[0m\n",
      "Features extracted in 79.07 seconds\n",
      "Features extracted in 149.71 seconds\n",
      "Computing CMC and mAP ...\n",
      "** Results **\n",
      "mAP: 67.50%\n",
      "CMC curve\n",
      "Rank-1  : 55.02%\n",
      "Rank-5  : 80.54%\n",
      "Rank-10 : 89.57%\n",
      "Rank-20 : 96.21%\n",
      "\u001b[33mValidating momentum resnet50 ...\u001b[0m\n",
      "Features extracted in 79.23 seconds\n",
      "Features extracted in 147.63 seconds\n",
      "Computing CMC and mAP ...\n",
      "** Results **\n",
      "mAP: 66.53%\n",
      "CMC curve\n",
      "Rank-1  : 51.40%\n",
      "Rank-5  : 82.97%\n",
      "Rank-10 : 92.60%\n",
      "Rank-20 : 97.67%\n",
      "\u001b[33mValidating online osnet ...\u001b[0m\n",
      "Features extracted in 76.11 seconds\n",
      "Features extracted in 144.45 seconds\n",
      "Computing CMC and mAP ...\n",
      "** Results **\n",
      "mAP: 70.98%\n",
      "CMC curve\n",
      "Rank-1  : 66.36%\n",
      "Rank-5  : 91.56%\n",
      "Rank-10 : 96.56%\n",
      "Rank-20 : 99.07%\n",
      "\u001b[33mValidating momentum osnet ...\u001b[0m\n",
      "Features extracted in 79.89 seconds\n",
      "Features extracted in 145.75 seconds\n",
      "Computing CMC and mAP ...\n",
      "** Results **\n",
      "mAP: 64.56%\n",
      "CMC curve\n",
      "Rank-1  : 55.77%\n",
      "Rank-5  : 86.08%\n",
      "Rank-10 : 94.11%\n",
      "Rank-20 : 97.92%\n",
      "\u001b[33mValidating online densenet121 ...\u001b[0m\n",
      "Features extracted in 79.84 seconds\n",
      "Features extracted in 147.25 seconds\n",
      "Computing CMC and mAP ...\n",
      "** Results **\n",
      "mAP: 69.32%\n",
      "CMC curve\n",
      "Rank-1  : 61.53%\n",
      "Rank-5  : 85.89%\n",
      "Rank-10 : 93.66%\n",
      "Rank-20 : 97.66%\n",
      "\u001b[33mValidating momentum densenet121 ...\u001b[0m\n",
      "Features extracted in 81.14 seconds\n",
      "Features extracted in 151.68 seconds\n",
      "Computing CMC and mAP ...\n",
      "** Results **\n",
      "mAP: 66.02%\n",
      "CMC curve\n",
      "Rank-1  : 63.00%\n",
      "Rank-5  : 91.00%\n",
      "Rank-10 : 96.36%\n",
      "Rank-20 : 98.94%\n",
      "\u001b[33mValidating ensembled with online models ...\u001b[0m\n",
      "Computing CMC and mAP ...\n",
      "** Results **\n",
      "mAP: 69.73%\n",
      "Ranks:\n",
      "Rank-1  : 63.31%\n",
      "Rank-5  : 83.51%\n",
      "Rank-10 : 91.32%\n",
      "\u001b[33mValidating ensembled with momentum models ...\u001b[0m\n",
      "Computing CMC and mAP ...\n",
      "** Results **\n",
      "mAP: 65.40%\n",
      "Ranks:\n",
      "Rank-1  : 60.95%\n",
      "Rank-5  : 84.80%\n",
      "Rank-10 : 92.04%\n",
      "###============ Iteration number 46/90 ============###\n",
      "Extracting Online Features for vgg16 ...\n",
      "Features extracted in 259.39 seconds\n",
      "Computing jaccard distance...\n"
     ]
    },
    {
     "name": "stderr",
     "output_type": "stream",
     "text": [
      "bruteForceKnn is deprecated; call bfKnn instead\n"
     ]
    },
    {
     "name": "stdout",
     "output_type": "stream",
     "text": [
      "Jaccard distance computing time cost: 545.9812424182892\n",
      "Extracting Online Features for resnet50 ...\n",
      "Features extracted in 252.79 seconds\n",
      "Computing jaccard distance...\n"
     ]
    },
    {
     "name": "stderr",
     "output_type": "stream",
     "text": [
      "bruteForceKnn is deprecated; call bfKnn instead\n"
     ]
    },
    {
     "name": "stdout",
     "output_type": "stream",
     "text": [
      "Jaccard distance computing time cost: 530.4487926959991\n",
      "Extracting Online Features for osnet ...\n",
      "Features extracted in 244.17 seconds\n",
      "Computing jaccard distance...\n"
     ]
    },
    {
     "name": "stderr",
     "output_type": "stream",
     "text": [
      "bruteForceKnn is deprecated; call bfKnn instead\n"
     ]
    },
    {
     "name": "stdout",
     "output_type": "stream",
     "text": [
      "Jaccard distance computing time cost: 535.6036834716797\n",
      "Extracting Online Features for densenet121 ...\n",
      "Features extracted in 242.69 seconds\n",
      "Computing jaccard distance...\n"
     ]
    },
    {
     "name": "stderr",
     "output_type": "stream",
     "text": [
      "bruteForceKnn is deprecated; call bfKnn instead\n"
     ]
    },
    {
     "name": "stdout",
     "output_type": "stream",
     "text": [
      "Jaccard distance computing time cost: 548.7468717098236\n",
      "Reliability: 0.992\n",
      "\u001b[32mMean Purity: 0.03921\u001b[0m\n",
      "\u001b[34mThere are 3 clusters with 4 cameras\u001b[0m\n",
      "\u001b[34mThere are 3 clusters with 5 cameras\u001b[0m\n",
      "\u001b[34mThere are 3 clusters with 6 cameras\u001b[0m\n",
      "\u001b[34mThere are 2 clusters with 7 cameras\u001b[0m\n",
      "\u001b[34mThere are 3 clusters with 8 cameras\u001b[0m\n",
      "\u001b[34mThere are 1 clusters with 9 cameras\u001b[0m\n",
      "\u001b[34mThere are 1 clusters with 10 cameras\u001b[0m\n",
      "\u001b[34mThere are 2 clusters with 12 cameras\u001b[0m\n",
      "\u001b[34mThere are 1 clusters with 14 cameras\u001b[0m\n",
      "\u001b[34mThere are 1 clusters with 16 cameras\u001b[0m\n",
      "\u001b[34mThere are 1 clusters with 17 cameras\u001b[0m\n",
      "\u001b[34mThere are 2 clusters with 18 cameras\u001b[0m\n",
      "\u001b[34mThere are 1 clusters with 35 cameras\u001b[0m\n",
      "\u001b[34mThere are 1 clusters with 43 cameras\u001b[0m\n",
      "\u001b[34mThere are 1 clusters with 44 cameras\u001b[0m\n",
      "\u001b[34mThere are 1 clusters with 46 cameras\u001b[0m\n",
      "\u001b[34mThere are 1 clusters with 50 cameras\u001b[0m\n",
      "\u001b[34mThere are 1 clusters with 52 cameras\u001b[0m\n",
      "\u001b[34mThere are 1 clusters with 53 cameras\u001b[0m\n",
      "\u001b[34mThere are 1 clusters with 54 cameras\u001b[0m\n",
      "\u001b[34mThere are 3 clusters with 55 cameras\u001b[0m\n",
      "\u001b[34mThere are 1 clusters with 56 cameras\u001b[0m\n",
      "\u001b[34mThere are 6 clusters with 57 cameras\u001b[0m\n",
      "\u001b[34mThere are 5 clusters with 58 cameras\u001b[0m\n",
      "\u001b[34mThere are 3 clusters with 59 cameras\u001b[0m\n",
      "\u001b[34mThere are 8 clusters with 60 cameras\u001b[0m\n",
      "\u001b[34mThere are 14 clusters with 61 cameras\u001b[0m\n",
      "\u001b[34mThere are 18 clusters with 62 cameras\u001b[0m\n",
      "\u001b[34mThere are 42 clusters with 63 cameras\u001b[0m\n",
      "\u001b[34mThere are 400 clusters with 64 cameras\u001b[0m\n",
      "\u001b[34mThere are 3 clusters with 66 cameras\u001b[0m\n",
      "\u001b[34mThere are 1 clusters with 68 cameras\u001b[0m\n",
      "\u001b[34mThere are 1 clusters with 69 cameras\u001b[0m\n",
      "\u001b[34mThere are 1 clusters with 73 cameras\u001b[0m\n",
      "\u001b[34mThere are 1 clusters with 106 cameras\u001b[0m\n",
      "\u001b[34mThere are 1 clusters with 109 cameras\u001b[0m\n",
      "\u001b[34mThere are 1 clusters with 116 cameras\u001b[0m\n",
      "\u001b[34mThere are 1 clusters with 118 cameras\u001b[0m\n",
      "\u001b[34mThere are 1 clusters with 121 cameras\u001b[0m\n",
      "\u001b[34mThere are 1 clusters with 122 cameras\u001b[0m\n",
      "\u001b[34mThere are 3 clusters with 123 cameras\u001b[0m\n",
      "\u001b[34mThere are 3 clusters with 124 cameras\u001b[0m\n",
      "\u001b[34mThere are 2 clusters with 126 cameras\u001b[0m\n",
      "\u001b[34mThere are 3 clusters with 127 cameras\u001b[0m\n",
      "\u001b[34mThere are 11 clusters with 128 cameras\u001b[0m\n",
      "\u001b[34mThere are 1 clusters with 131 cameras\u001b[0m\n",
      "\u001b[34mThere are 1 clusters with 134 cameras\u001b[0m\n",
      "\u001b[34mThere are 1 clusters with 187 cameras\u001b[0m\n",
      "\u001b[34mThere are 2 clusters with 188 cameras\u001b[0m\n",
      "\u001b[34mThere are 1 clusters with 190 cameras\u001b[0m\n",
      "\u001b[34mThere are 1 clusters with 192 cameras\u001b[0m\n",
      "\u001b[34mThere are 1 clusters with 338 cameras\u001b[0m\n",
      "\u001b[34mThere are 1 clusters with 361 cameras\u001b[0m\n",
      "Number of classes: 574\n",
      "\u001b[36mLearning Rate: 0.000350\u001b[0m\n",
      "encontrou modelos vgg16. Carregando...\n",
      "encontrou modelos resnet50. Carregando...\n",
      "encontrou modelos osnet. Carregando...\n",
      "encontrou modelos densenet121. Carregando...\n",
      "###============ Iteration number 47/90 ============###\n",
      "Extracting Online Features for vgg16 ...\n",
      "Features extracted in 252.61 seconds\n",
      "Computing jaccard distance...\n"
     ]
    },
    {
     "name": "stderr",
     "output_type": "stream",
     "text": [
      "bruteForceKnn is deprecated; call bfKnn instead\n"
     ]
    },
    {
     "name": "stdout",
     "output_type": "stream",
     "text": [
      "Jaccard distance computing time cost: 546.6169245243073\n",
      "Extracting Online Features for resnet50 ...\n",
      "Features extracted in 251.40 seconds\n",
      "Computing jaccard distance...\n"
     ]
    },
    {
     "name": "stderr",
     "output_type": "stream",
     "text": [
      "bruteForceKnn is deprecated; call bfKnn instead\n"
     ]
    },
    {
     "name": "stdout",
     "output_type": "stream",
     "text": [
      "Jaccard distance computing time cost: 550.9069488048553\n",
      "Extracting Online Features for osnet ...\n",
      "Features extracted in 247.95 seconds\n",
      "Computing jaccard distance...\n"
     ]
    },
    {
     "name": "stderr",
     "output_type": "stream",
     "text": [
      "bruteForceKnn is deprecated; call bfKnn instead\n"
     ]
    },
    {
     "name": "stdout",
     "output_type": "stream",
     "text": [
      "Jaccard distance computing time cost: 527.127391576767\n",
      "Extracting Online Features for densenet121 ...\n",
      "Features extracted in 249.17 seconds\n",
      "Computing jaccard distance...\n"
     ]
    },
    {
     "name": "stderr",
     "output_type": "stream",
     "text": [
      "bruteForceKnn is deprecated; call bfKnn instead\n"
     ]
    },
    {
     "name": "stdout",
     "output_type": "stream",
     "text": [
      "Jaccard distance computing time cost: 533.5551912784576\n",
      "Reliability: 0.992\n",
      "\u001b[32mMean Purity: 0.03921\u001b[0m\n",
      "\u001b[34mThere are 3 clusters with 4 cameras\u001b[0m\n",
      "\u001b[34mThere are 3 clusters with 5 cameras\u001b[0m\n",
      "\u001b[34mThere are 3 clusters with 6 cameras\u001b[0m\n",
      "\u001b[34mThere are 2 clusters with 7 cameras\u001b[0m\n",
      "\u001b[34mThere are 3 clusters with 8 cameras\u001b[0m\n",
      "\u001b[34mThere are 1 clusters with 9 cameras\u001b[0m\n",
      "\u001b[34mThere are 1 clusters with 10 cameras\u001b[0m\n",
      "\u001b[34mThere are 2 clusters with 12 cameras\u001b[0m\n",
      "\u001b[34mThere are 1 clusters with 14 cameras\u001b[0m\n",
      "\u001b[34mThere are 1 clusters with 16 cameras\u001b[0m\n",
      "\u001b[34mThere are 1 clusters with 17 cameras\u001b[0m\n",
      "\u001b[34mThere are 2 clusters with 18 cameras\u001b[0m\n",
      "\u001b[34mThere are 1 clusters with 35 cameras\u001b[0m\n",
      "\u001b[34mThere are 1 clusters with 43 cameras\u001b[0m\n",
      "\u001b[34mThere are 1 clusters with 44 cameras\u001b[0m\n",
      "\u001b[34mThere are 1 clusters with 46 cameras\u001b[0m\n",
      "\u001b[34mThere are 1 clusters with 50 cameras\u001b[0m\n",
      "\u001b[34mThere are 1 clusters with 52 cameras\u001b[0m\n",
      "\u001b[34mThere are 1 clusters with 53 cameras\u001b[0m\n",
      "\u001b[34mThere are 1 clusters with 54 cameras\u001b[0m\n",
      "\u001b[34mThere are 3 clusters with 55 cameras\u001b[0m\n",
      "\u001b[34mThere are 1 clusters with 56 cameras\u001b[0m\n",
      "\u001b[34mThere are 6 clusters with 57 cameras\u001b[0m\n",
      "\u001b[34mThere are 5 clusters with 58 cameras\u001b[0m\n",
      "\u001b[34mThere are 3 clusters with 59 cameras\u001b[0m\n",
      "\u001b[34mThere are 8 clusters with 60 cameras\u001b[0m\n",
      "\u001b[34mThere are 14 clusters with 61 cameras\u001b[0m\n",
      "\u001b[34mThere are 18 clusters with 62 cameras\u001b[0m\n",
      "\u001b[34mThere are 42 clusters with 63 cameras\u001b[0m\n",
      "\u001b[34mThere are 400 clusters with 64 cameras\u001b[0m\n",
      "\u001b[34mThere are 3 clusters with 66 cameras\u001b[0m\n",
      "\u001b[34mThere are 1 clusters with 68 cameras\u001b[0m\n",
      "\u001b[34mThere are 1 clusters with 69 cameras\u001b[0m\n",
      "\u001b[34mThere are 1 clusters with 73 cameras\u001b[0m\n",
      "\u001b[34mThere are 1 clusters with 106 cameras\u001b[0m\n",
      "\u001b[34mThere are 1 clusters with 109 cameras\u001b[0m\n",
      "\u001b[34mThere are 1 clusters with 116 cameras\u001b[0m\n",
      "\u001b[34mThere are 1 clusters with 118 cameras\u001b[0m\n",
      "\u001b[34mThere are 1 clusters with 121 cameras\u001b[0m\n",
      "\u001b[34mThere are 1 clusters with 122 cameras\u001b[0m\n",
      "\u001b[34mThere are 3 clusters with 123 cameras\u001b[0m\n",
      "\u001b[34mThere are 3 clusters with 124 cameras\u001b[0m\n",
      "\u001b[34mThere are 2 clusters with 126 cameras\u001b[0m\n",
      "\u001b[34mThere are 3 clusters with 127 cameras\u001b[0m\n",
      "\u001b[34mThere are 11 clusters with 128 cameras\u001b[0m\n",
      "\u001b[34mThere are 1 clusters with 131 cameras\u001b[0m\n",
      "\u001b[34mThere are 1 clusters with 134 cameras\u001b[0m\n",
      "\u001b[34mThere are 1 clusters with 187 cameras\u001b[0m\n",
      "\u001b[34mThere are 2 clusters with 188 cameras\u001b[0m\n",
      "\u001b[34mThere are 1 clusters with 190 cameras\u001b[0m\n",
      "\u001b[34mThere are 1 clusters with 192 cameras\u001b[0m\n",
      "\u001b[34mThere are 1 clusters with 338 cameras\u001b[0m\n",
      "\u001b[34mThere are 1 clusters with 361 cameras\u001b[0m\n",
      "Number of classes: 574\n",
      "\u001b[36mLearning Rate: 0.000350\u001b[0m\n",
      "encontrou modelos vgg16. Carregando...\n",
      "encontrou modelos resnet50. Carregando...\n",
      "encontrou modelos osnet. Carregando...\n",
      "encontrou modelos densenet121. Carregando...\n",
      "###============ Iteration number 48/90 ============###\n",
      "Extracting Online Features for vgg16 ...\n",
      "Features extracted in 248.27 seconds\n",
      "Computing jaccard distance...\n"
     ]
    },
    {
     "name": "stderr",
     "output_type": "stream",
     "text": [
      "bruteForceKnn is deprecated; call bfKnn instead\n"
     ]
    },
    {
     "name": "stdout",
     "output_type": "stream",
     "text": [
      "Jaccard distance computing time cost: 546.4308128356934\n",
      "Extracting Online Features for resnet50 ...\n",
      "Features extracted in 247.03 seconds\n",
      "Computing jaccard distance...\n"
     ]
    },
    {
     "name": "stderr",
     "output_type": "stream",
     "text": [
      "bruteForceKnn is deprecated; call bfKnn instead\n"
     ]
    },
    {
     "name": "stdout",
     "output_type": "stream",
     "text": [
      "Jaccard distance computing time cost: 546.687243938446\n",
      "Extracting Online Features for osnet ...\n",
      "Features extracted in 236.71 seconds\n",
      "Computing jaccard distance...\n"
     ]
    },
    {
     "name": "stderr",
     "output_type": "stream",
     "text": [
      "bruteForceKnn is deprecated; call bfKnn instead\n"
     ]
    },
    {
     "name": "stdout",
     "output_type": "stream",
     "text": [
      "Jaccard distance computing time cost: 520.6233596801758\n",
      "Extracting Online Features for densenet121 ...\n",
      "Features extracted in 248.52 seconds\n",
      "Computing jaccard distance...\n"
     ]
    },
    {
     "name": "stderr",
     "output_type": "stream",
     "text": [
      "bruteForceKnn is deprecated; call bfKnn instead\n"
     ]
    },
    {
     "name": "stdout",
     "output_type": "stream",
     "text": [
      "Jaccard distance computing time cost: 529.8783931732178\n",
      "Reliability: 0.992\n",
      "\u001b[32mMean Purity: 0.03921\u001b[0m\n",
      "\u001b[34mThere are 3 clusters with 4 cameras\u001b[0m\n",
      "\u001b[34mThere are 3 clusters with 5 cameras\u001b[0m\n",
      "\u001b[34mThere are 3 clusters with 6 cameras\u001b[0m\n",
      "\u001b[34mThere are 2 clusters with 7 cameras\u001b[0m\n",
      "\u001b[34mThere are 3 clusters with 8 cameras\u001b[0m\n",
      "\u001b[34mThere are 1 clusters with 9 cameras\u001b[0m\n",
      "\u001b[34mThere are 1 clusters with 10 cameras\u001b[0m\n",
      "\u001b[34mThere are 2 clusters with 12 cameras\u001b[0m\n",
      "\u001b[34mThere are 1 clusters with 14 cameras\u001b[0m\n",
      "\u001b[34mThere are 1 clusters with 16 cameras\u001b[0m\n",
      "\u001b[34mThere are 1 clusters with 17 cameras\u001b[0m\n",
      "\u001b[34mThere are 2 clusters with 18 cameras\u001b[0m\n",
      "\u001b[34mThere are 1 clusters with 35 cameras\u001b[0m\n",
      "\u001b[34mThere are 1 clusters with 43 cameras\u001b[0m\n",
      "\u001b[34mThere are 1 clusters with 44 cameras\u001b[0m\n",
      "\u001b[34mThere are 1 clusters with 46 cameras\u001b[0m\n",
      "\u001b[34mThere are 1 clusters with 50 cameras\u001b[0m\n",
      "\u001b[34mThere are 1 clusters with 52 cameras\u001b[0m\n",
      "\u001b[34mThere are 1 clusters with 53 cameras\u001b[0m\n",
      "\u001b[34mThere are 1 clusters with 54 cameras\u001b[0m\n",
      "\u001b[34mThere are 3 clusters with 55 cameras\u001b[0m\n",
      "\u001b[34mThere are 1 clusters with 56 cameras\u001b[0m\n",
      "\u001b[34mThere are 6 clusters with 57 cameras\u001b[0m\n",
      "\u001b[34mThere are 5 clusters with 58 cameras\u001b[0m\n",
      "\u001b[34mThere are 3 clusters with 59 cameras\u001b[0m\n",
      "\u001b[34mThere are 8 clusters with 60 cameras\u001b[0m\n",
      "\u001b[34mThere are 14 clusters with 61 cameras\u001b[0m\n",
      "\u001b[34mThere are 18 clusters with 62 cameras\u001b[0m\n",
      "\u001b[34mThere are 42 clusters with 63 cameras\u001b[0m\n",
      "\u001b[34mThere are 400 clusters with 64 cameras\u001b[0m\n",
      "\u001b[34mThere are 3 clusters with 66 cameras\u001b[0m\n",
      "\u001b[34mThere are 1 clusters with 68 cameras\u001b[0m\n",
      "\u001b[34mThere are 1 clusters with 69 cameras\u001b[0m\n",
      "\u001b[34mThere are 1 clusters with 73 cameras\u001b[0m\n",
      "\u001b[34mThere are 1 clusters with 106 cameras\u001b[0m\n",
      "\u001b[34mThere are 1 clusters with 109 cameras\u001b[0m\n",
      "\u001b[34mThere are 1 clusters with 116 cameras\u001b[0m\n",
      "\u001b[34mThere are 1 clusters with 118 cameras\u001b[0m\n",
      "\u001b[34mThere are 1 clusters with 121 cameras\u001b[0m\n",
      "\u001b[34mThere are 1 clusters with 122 cameras\u001b[0m\n",
      "\u001b[34mThere are 3 clusters with 123 cameras\u001b[0m\n",
      "\u001b[34mThere are 3 clusters with 124 cameras\u001b[0m\n",
      "\u001b[34mThere are 2 clusters with 126 cameras\u001b[0m\n",
      "\u001b[34mThere are 3 clusters with 127 cameras\u001b[0m\n",
      "\u001b[34mThere are 11 clusters with 128 cameras\u001b[0m\n",
      "\u001b[34mThere are 1 clusters with 131 cameras\u001b[0m\n",
      "\u001b[34mThere are 1 clusters with 134 cameras\u001b[0m\n",
      "\u001b[34mThere are 1 clusters with 187 cameras\u001b[0m\n",
      "\u001b[34mThere are 2 clusters with 188 cameras\u001b[0m\n",
      "\u001b[34mThere are 1 clusters with 190 cameras\u001b[0m\n",
      "\u001b[34mThere are 1 clusters with 192 cameras\u001b[0m\n",
      "\u001b[34mThere are 1 clusters with 338 cameras\u001b[0m\n",
      "\u001b[34mThere are 1 clusters with 361 cameras\u001b[0m\n",
      "Number of classes: 574\n",
      "\u001b[36mLearning Rate: 0.000350\u001b[0m\n",
      "encontrou modelos vgg16. Carregando...\n",
      "encontrou modelos resnet50. Carregando...\n",
      "encontrou modelos osnet. Carregando...\n",
      "encontrou modelos densenet121. Carregando...\n",
      "###============ Iteration number 49/90 ============###\n",
      "Extracting Online Features for vgg16 ...\n",
      "Features extracted in 249.45 seconds\n",
      "Computing jaccard distance...\n"
     ]
    },
    {
     "name": "stderr",
     "output_type": "stream",
     "text": [
      "bruteForceKnn is deprecated; call bfKnn instead\n"
     ]
    },
    {
     "name": "stdout",
     "output_type": "stream",
     "text": [
      "Jaccard distance computing time cost: 545.7548699378967\n",
      "Extracting Online Features for resnet50 ...\n",
      "Features extracted in 248.55 seconds\n",
      "Computing jaccard distance...\n"
     ]
    },
    {
     "name": "stderr",
     "output_type": "stream",
     "text": [
      "bruteForceKnn is deprecated; call bfKnn instead\n"
     ]
    },
    {
     "name": "stdout",
     "output_type": "stream",
     "text": [
      "Jaccard distance computing time cost: 533.9022886753082\n",
      "Extracting Online Features for osnet ...\n",
      "Features extracted in 251.91 seconds\n",
      "Computing jaccard distance...\n"
     ]
    },
    {
     "name": "stderr",
     "output_type": "stream",
     "text": [
      "bruteForceKnn is deprecated; call bfKnn instead\n"
     ]
    },
    {
     "name": "stdout",
     "output_type": "stream",
     "text": [
      "Jaccard distance computing time cost: 520.3768501281738\n",
      "Extracting Online Features for densenet121 ...\n",
      "Features extracted in 251.39 seconds\n",
      "Computing jaccard distance...\n"
     ]
    },
    {
     "name": "stderr",
     "output_type": "stream",
     "text": [
      "bruteForceKnn is deprecated; call bfKnn instead\n"
     ]
    },
    {
     "name": "stdout",
     "output_type": "stream",
     "text": [
      "Jaccard distance computing time cost: 546.034791469574\n",
      "Reliability: 0.992\n",
      "\u001b[32mMean Purity: 0.03921\u001b[0m\n",
      "\u001b[34mThere are 3 clusters with 4 cameras\u001b[0m\n",
      "\u001b[34mThere are 3 clusters with 5 cameras\u001b[0m\n",
      "\u001b[34mThere are 3 clusters with 6 cameras\u001b[0m\n",
      "\u001b[34mThere are 2 clusters with 7 cameras\u001b[0m\n",
      "\u001b[34mThere are 3 clusters with 8 cameras\u001b[0m\n",
      "\u001b[34mThere are 1 clusters with 9 cameras\u001b[0m\n",
      "\u001b[34mThere are 1 clusters with 10 cameras\u001b[0m\n",
      "\u001b[34mThere are 2 clusters with 12 cameras\u001b[0m\n",
      "\u001b[34mThere are 1 clusters with 14 cameras\u001b[0m\n",
      "\u001b[34mThere are 1 clusters with 16 cameras\u001b[0m\n",
      "\u001b[34mThere are 1 clusters with 17 cameras\u001b[0m\n",
      "\u001b[34mThere are 2 clusters with 18 cameras\u001b[0m\n",
      "\u001b[34mThere are 1 clusters with 35 cameras\u001b[0m\n",
      "\u001b[34mThere are 1 clusters with 43 cameras\u001b[0m\n",
      "\u001b[34mThere are 1 clusters with 44 cameras\u001b[0m\n",
      "\u001b[34mThere are 1 clusters with 46 cameras\u001b[0m\n",
      "\u001b[34mThere are 1 clusters with 50 cameras\u001b[0m\n",
      "\u001b[34mThere are 1 clusters with 52 cameras\u001b[0m\n",
      "\u001b[34mThere are 1 clusters with 53 cameras\u001b[0m\n",
      "\u001b[34mThere are 1 clusters with 54 cameras\u001b[0m\n",
      "\u001b[34mThere are 3 clusters with 55 cameras\u001b[0m\n",
      "\u001b[34mThere are 1 clusters with 56 cameras\u001b[0m\n",
      "\u001b[34mThere are 6 clusters with 57 cameras\u001b[0m\n",
      "\u001b[34mThere are 5 clusters with 58 cameras\u001b[0m\n",
      "\u001b[34mThere are 3 clusters with 59 cameras\u001b[0m\n",
      "\u001b[34mThere are 8 clusters with 60 cameras\u001b[0m\n",
      "\u001b[34mThere are 14 clusters with 61 cameras\u001b[0m\n",
      "\u001b[34mThere are 18 clusters with 62 cameras\u001b[0m\n",
      "\u001b[34mThere are 42 clusters with 63 cameras\u001b[0m\n",
      "\u001b[34mThere are 400 clusters with 64 cameras\u001b[0m\n",
      "\u001b[34mThere are 3 clusters with 66 cameras\u001b[0m\n",
      "\u001b[34mThere are 1 clusters with 68 cameras\u001b[0m\n",
      "\u001b[34mThere are 1 clusters with 69 cameras\u001b[0m\n",
      "\u001b[34mThere are 1 clusters with 73 cameras\u001b[0m\n",
      "\u001b[34mThere are 1 clusters with 106 cameras\u001b[0m\n",
      "\u001b[34mThere are 1 clusters with 109 cameras\u001b[0m\n",
      "\u001b[34mThere are 1 clusters with 116 cameras\u001b[0m\n",
      "\u001b[34mThere are 1 clusters with 118 cameras\u001b[0m\n",
      "\u001b[34mThere are 1 clusters with 121 cameras\u001b[0m\n",
      "\u001b[34mThere are 1 clusters with 122 cameras\u001b[0m\n",
      "\u001b[34mThere are 3 clusters with 123 cameras\u001b[0m\n",
      "\u001b[34mThere are 3 clusters with 124 cameras\u001b[0m\n",
      "\u001b[34mThere are 2 clusters with 126 cameras\u001b[0m\n",
      "\u001b[34mThere are 3 clusters with 127 cameras\u001b[0m\n",
      "\u001b[34mThere are 11 clusters with 128 cameras\u001b[0m\n",
      "\u001b[34mThere are 1 clusters with 131 cameras\u001b[0m\n",
      "\u001b[34mThere are 1 clusters with 134 cameras\u001b[0m\n",
      "\u001b[34mThere are 1 clusters with 187 cameras\u001b[0m\n",
      "\u001b[34mThere are 2 clusters with 188 cameras\u001b[0m\n",
      "\u001b[34mThere are 1 clusters with 190 cameras\u001b[0m\n",
      "\u001b[34mThere are 1 clusters with 192 cameras\u001b[0m\n",
      "\u001b[34mThere are 1 clusters with 338 cameras\u001b[0m\n",
      "\u001b[34mThere are 1 clusters with 361 cameras\u001b[0m\n",
      "Number of classes: 574\n",
      "\u001b[36mLearning Rate: 0.000350\u001b[0m\n",
      "encontrou modelos vgg16. Carregando...\n",
      "encontrou modelos resnet50. Carregando...\n",
      "encontrou modelos osnet. Carregando...\n",
      "encontrou modelos densenet121. Carregando...\n",
      "###============ Iteration number 50/90 ============###\n",
      "Extracting Online Features for vgg16 ...\n",
      "Features extracted in 247.85 seconds\n",
      "Computing jaccard distance...\n"
     ]
    },
    {
     "name": "stderr",
     "output_type": "stream",
     "text": [
      "bruteForceKnn is deprecated; call bfKnn instead\n"
     ]
    },
    {
     "name": "stdout",
     "output_type": "stream",
     "text": [
      "Jaccard distance computing time cost: 532.2012097835541\n",
      "Extracting Online Features for resnet50 ...\n",
      "Features extracted in 253.23 seconds\n",
      "Computing jaccard distance...\n"
     ]
    },
    {
     "name": "stderr",
     "output_type": "stream",
     "text": [
      "bruteForceKnn is deprecated; call bfKnn instead\n"
     ]
    },
    {
     "name": "stdout",
     "output_type": "stream",
     "text": [
      "Jaccard distance computing time cost: 531.7505345344543\n",
      "Extracting Online Features for osnet ...\n",
      "Features extracted in 236.34 seconds\n",
      "Computing jaccard distance...\n"
     ]
    },
    {
     "name": "stderr",
     "output_type": "stream",
     "text": [
      "bruteForceKnn is deprecated; call bfKnn instead\n"
     ]
    },
    {
     "name": "stdout",
     "output_type": "stream",
     "text": [
      "Jaccard distance computing time cost: 535.3951444625854\n",
      "Extracting Online Features for densenet121 ...\n",
      "Features extracted in 252.29 seconds\n",
      "Computing jaccard distance...\n"
     ]
    },
    {
     "name": "stderr",
     "output_type": "stream",
     "text": [
      "bruteForceKnn is deprecated; call bfKnn instead\n"
     ]
    },
    {
     "name": "stdout",
     "output_type": "stream",
     "text": [
      "Jaccard distance computing time cost: 548.1901960372925\n",
      "Reliability: 0.992\n",
      "\u001b[32mMean Purity: 0.03921\u001b[0m\n",
      "\u001b[34mThere are 3 clusters with 4 cameras\u001b[0m\n",
      "\u001b[34mThere are 3 clusters with 5 cameras\u001b[0m\n",
      "\u001b[34mThere are 3 clusters with 6 cameras\u001b[0m\n",
      "\u001b[34mThere are 2 clusters with 7 cameras\u001b[0m\n",
      "\u001b[34mThere are 3 clusters with 8 cameras\u001b[0m\n",
      "\u001b[34mThere are 1 clusters with 9 cameras\u001b[0m\n",
      "\u001b[34mThere are 1 clusters with 10 cameras\u001b[0m\n",
      "\u001b[34mThere are 2 clusters with 12 cameras\u001b[0m\n",
      "\u001b[34mThere are 1 clusters with 14 cameras\u001b[0m\n",
      "\u001b[34mThere are 1 clusters with 16 cameras\u001b[0m\n",
      "\u001b[34mThere are 1 clusters with 17 cameras\u001b[0m\n",
      "\u001b[34mThere are 2 clusters with 18 cameras\u001b[0m\n",
      "\u001b[34mThere are 1 clusters with 35 cameras\u001b[0m\n",
      "\u001b[34mThere are 1 clusters with 43 cameras\u001b[0m\n",
      "\u001b[34mThere are 1 clusters with 44 cameras\u001b[0m\n",
      "\u001b[34mThere are 1 clusters with 46 cameras\u001b[0m\n",
      "\u001b[34mThere are 1 clusters with 50 cameras\u001b[0m\n",
      "\u001b[34mThere are 1 clusters with 52 cameras\u001b[0m\n",
      "\u001b[34mThere are 1 clusters with 53 cameras\u001b[0m\n",
      "\u001b[34mThere are 1 clusters with 54 cameras\u001b[0m\n",
      "\u001b[34mThere are 3 clusters with 55 cameras\u001b[0m\n",
      "\u001b[34mThere are 1 clusters with 56 cameras\u001b[0m\n",
      "\u001b[34mThere are 6 clusters with 57 cameras\u001b[0m\n",
      "\u001b[34mThere are 5 clusters with 58 cameras\u001b[0m\n",
      "\u001b[34mThere are 3 clusters with 59 cameras\u001b[0m\n",
      "\u001b[34mThere are 8 clusters with 60 cameras\u001b[0m\n",
      "\u001b[34mThere are 14 clusters with 61 cameras\u001b[0m\n",
      "\u001b[34mThere are 18 clusters with 62 cameras\u001b[0m\n",
      "\u001b[34mThere are 42 clusters with 63 cameras\u001b[0m\n",
      "\u001b[34mThere are 400 clusters with 64 cameras\u001b[0m\n",
      "\u001b[34mThere are 3 clusters with 66 cameras\u001b[0m\n",
      "\u001b[34mThere are 1 clusters with 68 cameras\u001b[0m\n",
      "\u001b[34mThere are 1 clusters with 69 cameras\u001b[0m\n",
      "\u001b[34mThere are 1 clusters with 73 cameras\u001b[0m\n",
      "\u001b[34mThere are 1 clusters with 106 cameras\u001b[0m\n",
      "\u001b[34mThere are 1 clusters with 109 cameras\u001b[0m\n",
      "\u001b[34mThere are 1 clusters with 116 cameras\u001b[0m\n",
      "\u001b[34mThere are 1 clusters with 118 cameras\u001b[0m\n",
      "\u001b[34mThere are 1 clusters with 121 cameras\u001b[0m\n",
      "\u001b[34mThere are 1 clusters with 122 cameras\u001b[0m\n",
      "\u001b[34mThere are 3 clusters with 123 cameras\u001b[0m\n",
      "\u001b[34mThere are 3 clusters with 124 cameras\u001b[0m\n",
      "\u001b[34mThere are 2 clusters with 126 cameras\u001b[0m\n",
      "\u001b[34mThere are 3 clusters with 127 cameras\u001b[0m\n",
      "\u001b[34mThere are 11 clusters with 128 cameras\u001b[0m\n",
      "\u001b[34mThere are 1 clusters with 131 cameras\u001b[0m\n",
      "\u001b[34mThere are 1 clusters with 134 cameras\u001b[0m\n",
      "\u001b[34mThere are 1 clusters with 187 cameras\u001b[0m\n",
      "\u001b[34mThere are 2 clusters with 188 cameras\u001b[0m\n",
      "\u001b[34mThere are 1 clusters with 190 cameras\u001b[0m\n",
      "\u001b[34mThere are 1 clusters with 192 cameras\u001b[0m\n",
      "\u001b[34mThere are 1 clusters with 338 cameras\u001b[0m\n",
      "\u001b[34mThere are 1 clusters with 361 cameras\u001b[0m\n",
      "Number of classes: 574\n",
      "\u001b[36mLearning Rate: 0.000350\u001b[0m\n",
      "encontrou modelos vgg16. Carregando...\n",
      "encontrou modelos resnet50. Carregando...\n",
      "encontrou modelos osnet. Carregando...\n",
      "encontrou modelos densenet121. Carregando...\n",
      "\u001b[33mValidating online vgg16 ...\u001b[0m\n",
      "Features extracted in 78.23 seconds\n",
      "Features extracted in 150.66 seconds\n",
      "Computing CMC and mAP ...\n",
      "** Results **\n",
      "mAP: 70.12%\n",
      "CMC curve\n",
      "Rank-1  : 75.96%\n",
      "Rank-5  : 91.27%\n",
      "Rank-10 : 94.82%\n",
      "Rank-20 : 96.79%\n",
      "\u001b[33mValidating momentum vgg16 ...\u001b[0m\n",
      "Features extracted in 79.81 seconds\n",
      "Features extracted in 144.65 seconds\n",
      "Computing CMC and mAP ...\n",
      "** Results **\n",
      "mAP: 66.17%\n",
      "CMC curve\n",
      "Rank-1  : 60.22%\n",
      "Rank-5  : 85.69%\n",
      "Rank-10 : 92.76%\n",
      "Rank-20 : 97.47%\n",
      "\u001b[33mValidating online resnet50 ...\u001b[0m\n",
      "Features extracted in 72.07 seconds\n",
      "Features extracted in 144.74 seconds\n",
      "Computing CMC and mAP ...\n",
      "** Results **\n",
      "mAP: 67.50%\n",
      "CMC curve\n",
      "Rank-1  : 55.02%\n",
      "Rank-5  : 80.54%\n",
      "Rank-10 : 89.57%\n",
      "Rank-20 : 96.21%\n",
      "\u001b[33mValidating momentum resnet50 ...\u001b[0m\n",
      "Features extracted in 79.25 seconds\n",
      "Features extracted in 144.80 seconds\n",
      "Computing CMC and mAP ...\n",
      "** Results **\n",
      "mAP: 66.53%\n",
      "CMC curve\n",
      "Rank-1  : 51.40%\n",
      "Rank-5  : 82.97%\n",
      "Rank-10 : 92.60%\n",
      "Rank-20 : 97.67%\n",
      "\u001b[33mValidating online osnet ...\u001b[0m\n",
      "Features extracted in 77.41 seconds\n",
      "Features extracted in 145.37 seconds\n",
      "Computing CMC and mAP ...\n",
      "** Results **\n",
      "mAP: 70.98%\n",
      "CMC curve\n",
      "Rank-1  : 66.36%\n",
      "Rank-5  : 91.56%\n",
      "Rank-10 : 96.56%\n",
      "Rank-20 : 99.07%\n",
      "\u001b[33mValidating momentum osnet ...\u001b[0m\n",
      "Features extracted in 78.12 seconds\n",
      "Features extracted in 144.88 seconds\n",
      "Computing CMC and mAP ...\n",
      "** Results **\n",
      "mAP: 64.56%\n",
      "CMC curve\n",
      "Rank-1  : 55.77%\n",
      "Rank-5  : 86.08%\n",
      "Rank-10 : 94.11%\n",
      "Rank-20 : 97.92%\n",
      "\u001b[33mValidating online densenet121 ...\u001b[0m\n",
      "Features extracted in 78.72 seconds\n",
      "Features extracted in 145.43 seconds\n",
      "Computing CMC and mAP ...\n",
      "** Results **\n",
      "mAP: 69.32%\n",
      "CMC curve\n",
      "Rank-1  : 61.53%\n",
      "Rank-5  : 85.89%\n",
      "Rank-10 : 93.66%\n",
      "Rank-20 : 97.66%\n",
      "\u001b[33mValidating momentum densenet121 ...\u001b[0m\n",
      "Features extracted in 72.82 seconds\n",
      "Features extracted in 152.24 seconds\n",
      "Computing CMC and mAP ...\n",
      "** Results **\n",
      "mAP: 66.02%\n",
      "CMC curve\n",
      "Rank-1  : 63.00%\n",
      "Rank-5  : 91.00%\n",
      "Rank-10 : 96.36%\n",
      "Rank-20 : 98.94%\n",
      "\u001b[33mValidating ensembled with online models ...\u001b[0m\n",
      "Computing CMC and mAP ...\n",
      "** Results **\n",
      "mAP: 69.73%\n",
      "Ranks:\n",
      "Rank-1  : 63.31%\n",
      "Rank-5  : 83.51%\n",
      "Rank-10 : 91.32%\n",
      "\u001b[33mValidating ensembled with momentum models ...\u001b[0m\n",
      "Computing CMC and mAP ...\n",
      "** Results **\n",
      "mAP: 65.40%\n",
      "Ranks:\n",
      "Rank-1  : 60.95%\n",
      "Rank-5  : 84.80%\n",
      "Rank-10 : 92.04%\n",
      "###============ Iteration number 51/90 ============###\n",
      "Extracting Online Features for vgg16 ...\n",
      "Features extracted in 244.35 seconds\n",
      "Computing jaccard distance...\n"
     ]
    },
    {
     "name": "stderr",
     "output_type": "stream",
     "text": [
      "bruteForceKnn is deprecated; call bfKnn instead\n"
     ]
    },
    {
     "name": "stdout",
     "output_type": "stream",
     "text": [
      "Jaccard distance computing time cost: 547.0138912200928\n",
      "Extracting Online Features for resnet50 ...\n",
      "Features extracted in 252.98 seconds\n",
      "Computing jaccard distance...\n"
     ]
    },
    {
     "name": "stderr",
     "output_type": "stream",
     "text": [
      "bruteForceKnn is deprecated; call bfKnn instead\n"
     ]
    },
    {
     "name": "stdout",
     "output_type": "stream",
     "text": [
      "Jaccard distance computing time cost: 533.9244656562805\n",
      "Extracting Online Features for osnet ...\n",
      "Features extracted in 244.19 seconds\n",
      "Computing jaccard distance...\n"
     ]
    },
    {
     "name": "stderr",
     "output_type": "stream",
     "text": [
      "bruteForceKnn is deprecated; call bfKnn instead\n"
     ]
    },
    {
     "name": "stdout",
     "output_type": "stream",
     "text": [
      "Jaccard distance computing time cost: 536.8933441638947\n",
      "Extracting Online Features for densenet121 ...\n",
      "Features extracted in 253.21 seconds\n",
      "Computing jaccard distance...\n"
     ]
    },
    {
     "name": "stderr",
     "output_type": "stream",
     "text": [
      "bruteForceKnn is deprecated; call bfKnn instead\n"
     ]
    },
    {
     "name": "stdout",
     "output_type": "stream",
     "text": [
      "Jaccard distance computing time cost: 535.6653530597687\n",
      "Reliability: 0.992\n",
      "\u001b[32mMean Purity: 0.03921\u001b[0m\n",
      "\u001b[34mThere are 3 clusters with 4 cameras\u001b[0m\n",
      "\u001b[34mThere are 3 clusters with 5 cameras\u001b[0m\n",
      "\u001b[34mThere are 3 clusters with 6 cameras\u001b[0m\n",
      "\u001b[34mThere are 2 clusters with 7 cameras\u001b[0m\n",
      "\u001b[34mThere are 3 clusters with 8 cameras\u001b[0m\n",
      "\u001b[34mThere are 1 clusters with 9 cameras\u001b[0m\n",
      "\u001b[34mThere are 1 clusters with 10 cameras\u001b[0m\n",
      "\u001b[34mThere are 2 clusters with 12 cameras\u001b[0m\n",
      "\u001b[34mThere are 1 clusters with 14 cameras\u001b[0m\n",
      "\u001b[34mThere are 1 clusters with 16 cameras\u001b[0m\n",
      "\u001b[34mThere are 1 clusters with 17 cameras\u001b[0m\n",
      "\u001b[34mThere are 2 clusters with 18 cameras\u001b[0m\n",
      "\u001b[34mThere are 1 clusters with 35 cameras\u001b[0m\n",
      "\u001b[34mThere are 1 clusters with 43 cameras\u001b[0m\n",
      "\u001b[34mThere are 1 clusters with 44 cameras\u001b[0m\n",
      "\u001b[34mThere are 1 clusters with 46 cameras\u001b[0m\n",
      "\u001b[34mThere are 1 clusters with 50 cameras\u001b[0m\n",
      "\u001b[34mThere are 1 clusters with 52 cameras\u001b[0m\n",
      "\u001b[34mThere are 1 clusters with 53 cameras\u001b[0m\n",
      "\u001b[34mThere are 1 clusters with 54 cameras\u001b[0m\n",
      "\u001b[34mThere are 3 clusters with 55 cameras\u001b[0m\n",
      "\u001b[34mThere are 1 clusters with 56 cameras\u001b[0m\n",
      "\u001b[34mThere are 6 clusters with 57 cameras\u001b[0m\n",
      "\u001b[34mThere are 5 clusters with 58 cameras\u001b[0m\n",
      "\u001b[34mThere are 3 clusters with 59 cameras\u001b[0m\n",
      "\u001b[34mThere are 8 clusters with 60 cameras\u001b[0m\n",
      "\u001b[34mThere are 14 clusters with 61 cameras\u001b[0m\n",
      "\u001b[34mThere are 18 clusters with 62 cameras\u001b[0m\n",
      "\u001b[34mThere are 42 clusters with 63 cameras\u001b[0m\n",
      "\u001b[34mThere are 400 clusters with 64 cameras\u001b[0m\n",
      "\u001b[34mThere are 3 clusters with 66 cameras\u001b[0m\n",
      "\u001b[34mThere are 1 clusters with 68 cameras\u001b[0m\n",
      "\u001b[34mThere are 1 clusters with 69 cameras\u001b[0m\n",
      "\u001b[34mThere are 1 clusters with 73 cameras\u001b[0m\n",
      "\u001b[34mThere are 1 clusters with 106 cameras\u001b[0m\n",
      "\u001b[34mThere are 1 clusters with 109 cameras\u001b[0m\n",
      "\u001b[34mThere are 1 clusters with 116 cameras\u001b[0m\n",
      "\u001b[34mThere are 1 clusters with 118 cameras\u001b[0m\n",
      "\u001b[34mThere are 1 clusters with 121 cameras\u001b[0m\n",
      "\u001b[34mThere are 1 clusters with 122 cameras\u001b[0m\n",
      "\u001b[34mThere are 3 clusters with 123 cameras\u001b[0m\n",
      "\u001b[34mThere are 3 clusters with 124 cameras\u001b[0m\n",
      "\u001b[34mThere are 2 clusters with 126 cameras\u001b[0m\n",
      "\u001b[34mThere are 3 clusters with 127 cameras\u001b[0m\n",
      "\u001b[34mThere are 11 clusters with 128 cameras\u001b[0m\n",
      "\u001b[34mThere are 1 clusters with 131 cameras\u001b[0m\n",
      "\u001b[34mThere are 1 clusters with 134 cameras\u001b[0m\n",
      "\u001b[34mThere are 1 clusters with 187 cameras\u001b[0m\n",
      "\u001b[34mThere are 2 clusters with 188 cameras\u001b[0m\n",
      "\u001b[34mThere are 1 clusters with 190 cameras\u001b[0m\n",
      "\u001b[34mThere are 1 clusters with 192 cameras\u001b[0m\n",
      "\u001b[34mThere are 1 clusters with 338 cameras\u001b[0m\n",
      "\u001b[34mThere are 1 clusters with 361 cameras\u001b[0m\n",
      "Number of classes: 574\n",
      "\u001b[36mLearning Rate: 0.000350\u001b[0m\n",
      "encontrou modelos vgg16. Carregando...\n",
      "encontrou modelos resnet50. Carregando...\n",
      "encontrou modelos osnet. Carregando...\n",
      "encontrou modelos densenet121. Carregando...\n",
      "###============ Iteration number 52/90 ============###\n",
      "Extracting Online Features for vgg16 ...\n",
      "Features extracted in 255.27 seconds\n",
      "Computing jaccard distance...\n"
     ]
    },
    {
     "name": "stderr",
     "output_type": "stream",
     "text": [
      "bruteForceKnn is deprecated; call bfKnn instead\n"
     ]
    },
    {
     "name": "stdout",
     "output_type": "stream",
     "text": [
      "Jaccard distance computing time cost: 543.5272982120514\n",
      "Extracting Online Features for resnet50 ...\n",
      "Features extracted in 246.74 seconds\n",
      "Computing jaccard distance...\n"
     ]
    },
    {
     "name": "stderr",
     "output_type": "stream",
     "text": [
      "bruteForceKnn is deprecated; call bfKnn instead\n"
     ]
    },
    {
     "name": "stdout",
     "output_type": "stream",
     "text": [
      "Jaccard distance computing time cost: 545.8850364685059\n",
      "Extracting Online Features for osnet ...\n",
      "Features extracted in 248.89 seconds\n",
      "Computing jaccard distance...\n"
     ]
    },
    {
     "name": "stderr",
     "output_type": "stream",
     "text": [
      "bruteForceKnn is deprecated; call bfKnn instead\n"
     ]
    },
    {
     "name": "stdout",
     "output_type": "stream",
     "text": [
      "Jaccard distance computing time cost: 521.5733947753906\n",
      "Extracting Online Features for densenet121 ...\n",
      "Features extracted in 248.80 seconds\n",
      "Computing jaccard distance...\n"
     ]
    },
    {
     "name": "stderr",
     "output_type": "stream",
     "text": [
      "bruteForceKnn is deprecated; call bfKnn instead\n"
     ]
    },
    {
     "name": "stdout",
     "output_type": "stream",
     "text": [
      "Jaccard distance computing time cost: 550.1806273460388\n",
      "Reliability: 0.992\n",
      "\u001b[32mMean Purity: 0.03921\u001b[0m\n",
      "\u001b[34mThere are 3 clusters with 4 cameras\u001b[0m\n",
      "\u001b[34mThere are 3 clusters with 5 cameras\u001b[0m\n",
      "\u001b[34mThere are 3 clusters with 6 cameras\u001b[0m\n",
      "\u001b[34mThere are 2 clusters with 7 cameras\u001b[0m\n",
      "\u001b[34mThere are 3 clusters with 8 cameras\u001b[0m\n",
      "\u001b[34mThere are 1 clusters with 9 cameras\u001b[0m\n",
      "\u001b[34mThere are 1 clusters with 10 cameras\u001b[0m\n",
      "\u001b[34mThere are 2 clusters with 12 cameras\u001b[0m\n",
      "\u001b[34mThere are 1 clusters with 14 cameras\u001b[0m\n",
      "\u001b[34mThere are 1 clusters with 16 cameras\u001b[0m\n",
      "\u001b[34mThere are 1 clusters with 17 cameras\u001b[0m\n",
      "\u001b[34mThere are 2 clusters with 18 cameras\u001b[0m\n",
      "\u001b[34mThere are 1 clusters with 35 cameras\u001b[0m\n",
      "\u001b[34mThere are 1 clusters with 43 cameras\u001b[0m\n",
      "\u001b[34mThere are 1 clusters with 44 cameras\u001b[0m\n",
      "\u001b[34mThere are 1 clusters with 46 cameras\u001b[0m\n",
      "\u001b[34mThere are 1 clusters with 50 cameras\u001b[0m\n",
      "\u001b[34mThere are 1 clusters with 52 cameras\u001b[0m\n",
      "\u001b[34mThere are 1 clusters with 53 cameras\u001b[0m\n",
      "\u001b[34mThere are 1 clusters with 54 cameras\u001b[0m\n",
      "\u001b[34mThere are 3 clusters with 55 cameras\u001b[0m\n",
      "\u001b[34mThere are 1 clusters with 56 cameras\u001b[0m\n",
      "\u001b[34mThere are 6 clusters with 57 cameras\u001b[0m\n",
      "\u001b[34mThere are 5 clusters with 58 cameras\u001b[0m\n",
      "\u001b[34mThere are 3 clusters with 59 cameras\u001b[0m\n",
      "\u001b[34mThere are 8 clusters with 60 cameras\u001b[0m\n",
      "\u001b[34mThere are 14 clusters with 61 cameras\u001b[0m\n",
      "\u001b[34mThere are 18 clusters with 62 cameras\u001b[0m\n",
      "\u001b[34mThere are 42 clusters with 63 cameras\u001b[0m\n",
      "\u001b[34mThere are 400 clusters with 64 cameras\u001b[0m\n",
      "\u001b[34mThere are 3 clusters with 66 cameras\u001b[0m\n",
      "\u001b[34mThere are 1 clusters with 68 cameras\u001b[0m\n",
      "\u001b[34mThere are 1 clusters with 69 cameras\u001b[0m\n",
      "\u001b[34mThere are 1 clusters with 73 cameras\u001b[0m\n",
      "\u001b[34mThere are 1 clusters with 106 cameras\u001b[0m\n",
      "\u001b[34mThere are 1 clusters with 109 cameras\u001b[0m\n",
      "\u001b[34mThere are 1 clusters with 116 cameras\u001b[0m\n",
      "\u001b[34mThere are 1 clusters with 118 cameras\u001b[0m\n",
      "\u001b[34mThere are 1 clusters with 121 cameras\u001b[0m\n",
      "\u001b[34mThere are 1 clusters with 122 cameras\u001b[0m\n",
      "\u001b[34mThere are 3 clusters with 123 cameras\u001b[0m\n",
      "\u001b[34mThere are 3 clusters with 124 cameras\u001b[0m\n",
      "\u001b[34mThere are 2 clusters with 126 cameras\u001b[0m\n",
      "\u001b[34mThere are 3 clusters with 127 cameras\u001b[0m\n",
      "\u001b[34mThere are 11 clusters with 128 cameras\u001b[0m\n",
      "\u001b[34mThere are 1 clusters with 131 cameras\u001b[0m\n",
      "\u001b[34mThere are 1 clusters with 134 cameras\u001b[0m\n",
      "\u001b[34mThere are 1 clusters with 187 cameras\u001b[0m\n",
      "\u001b[34mThere are 2 clusters with 188 cameras\u001b[0m\n",
      "\u001b[34mThere are 1 clusters with 190 cameras\u001b[0m\n",
      "\u001b[34mThere are 1 clusters with 192 cameras\u001b[0m\n",
      "\u001b[34mThere are 1 clusters with 338 cameras\u001b[0m\n",
      "\u001b[34mThere are 1 clusters with 361 cameras\u001b[0m\n",
      "Number of classes: 574\n",
      "\u001b[36mLearning Rate: 0.000350\u001b[0m\n",
      "encontrou modelos vgg16. Carregando...\n",
      "encontrou modelos resnet50. Carregando...\n",
      "encontrou modelos osnet. Carregando...\n",
      "encontrou modelos densenet121. Carregando...\n",
      "###============ Iteration number 53/90 ============###\n",
      "Extracting Online Features for vgg16 ...\n",
      "Features extracted in 250.13 seconds\n",
      "Computing jaccard distance...\n"
     ]
    },
    {
     "name": "stderr",
     "output_type": "stream",
     "text": [
      "bruteForceKnn is deprecated; call bfKnn instead\n"
     ]
    },
    {
     "name": "stdout",
     "output_type": "stream",
     "text": [
      "Jaccard distance computing time cost: 541.8813076019287\n",
      "Extracting Online Features for resnet50 ...\n",
      "Features extracted in 253.35 seconds\n",
      "Computing jaccard distance...\n"
     ]
    },
    {
     "name": "stderr",
     "output_type": "stream",
     "text": [
      "bruteForceKnn is deprecated; call bfKnn instead\n"
     ]
    },
    {
     "name": "stdout",
     "output_type": "stream",
     "text": [
      "Jaccard distance computing time cost: 546.2755844593048\n",
      "Extracting Online Features for osnet ...\n",
      "Features extracted in 242.32 seconds\n",
      "Computing jaccard distance...\n"
     ]
    },
    {
     "name": "stderr",
     "output_type": "stream",
     "text": [
      "bruteForceKnn is deprecated; call bfKnn instead\n"
     ]
    },
    {
     "name": "stdout",
     "output_type": "stream",
     "text": [
      "Jaccard distance computing time cost: 535.0536680221558\n",
      "Extracting Online Features for densenet121 ...\n",
      "Features extracted in 246.62 seconds\n",
      "Computing jaccard distance...\n"
     ]
    },
    {
     "name": "stderr",
     "output_type": "stream",
     "text": [
      "bruteForceKnn is deprecated; call bfKnn instead\n"
     ]
    },
    {
     "name": "stdout",
     "output_type": "stream",
     "text": [
      "Jaccard distance computing time cost: 548.88529920578\n",
      "Reliability: 0.992\n",
      "\u001b[32mMean Purity: 0.03921\u001b[0m\n",
      "\u001b[34mThere are 3 clusters with 4 cameras\u001b[0m\n",
      "\u001b[34mThere are 3 clusters with 5 cameras\u001b[0m\n",
      "\u001b[34mThere are 3 clusters with 6 cameras\u001b[0m\n",
      "\u001b[34mThere are 2 clusters with 7 cameras\u001b[0m\n",
      "\u001b[34mThere are 3 clusters with 8 cameras\u001b[0m\n",
      "\u001b[34mThere are 1 clusters with 9 cameras\u001b[0m\n",
      "\u001b[34mThere are 1 clusters with 10 cameras\u001b[0m\n",
      "\u001b[34mThere are 2 clusters with 12 cameras\u001b[0m\n",
      "\u001b[34mThere are 1 clusters with 14 cameras\u001b[0m\n",
      "\u001b[34mThere are 1 clusters with 16 cameras\u001b[0m\n",
      "\u001b[34mThere are 1 clusters with 17 cameras\u001b[0m\n",
      "\u001b[34mThere are 2 clusters with 18 cameras\u001b[0m\n",
      "\u001b[34mThere are 1 clusters with 35 cameras\u001b[0m\n",
      "\u001b[34mThere are 1 clusters with 43 cameras\u001b[0m\n",
      "\u001b[34mThere are 1 clusters with 44 cameras\u001b[0m\n",
      "\u001b[34mThere are 1 clusters with 46 cameras\u001b[0m\n",
      "\u001b[34mThere are 1 clusters with 50 cameras\u001b[0m\n",
      "\u001b[34mThere are 1 clusters with 52 cameras\u001b[0m\n",
      "\u001b[34mThere are 1 clusters with 53 cameras\u001b[0m\n",
      "\u001b[34mThere are 1 clusters with 54 cameras\u001b[0m\n",
      "\u001b[34mThere are 3 clusters with 55 cameras\u001b[0m\n",
      "\u001b[34mThere are 1 clusters with 56 cameras\u001b[0m\n",
      "\u001b[34mThere are 6 clusters with 57 cameras\u001b[0m\n",
      "\u001b[34mThere are 5 clusters with 58 cameras\u001b[0m\n",
      "\u001b[34mThere are 3 clusters with 59 cameras\u001b[0m\n",
      "\u001b[34mThere are 8 clusters with 60 cameras\u001b[0m\n",
      "\u001b[34mThere are 14 clusters with 61 cameras\u001b[0m\n",
      "\u001b[34mThere are 18 clusters with 62 cameras\u001b[0m\n",
      "\u001b[34mThere are 42 clusters with 63 cameras\u001b[0m\n",
      "\u001b[34mThere are 400 clusters with 64 cameras\u001b[0m\n",
      "\u001b[34mThere are 3 clusters with 66 cameras\u001b[0m\n",
      "\u001b[34mThere are 1 clusters with 68 cameras\u001b[0m\n",
      "\u001b[34mThere are 1 clusters with 69 cameras\u001b[0m\n",
      "\u001b[34mThere are 1 clusters with 73 cameras\u001b[0m\n",
      "\u001b[34mThere are 1 clusters with 106 cameras\u001b[0m\n",
      "\u001b[34mThere are 1 clusters with 109 cameras\u001b[0m\n",
      "\u001b[34mThere are 1 clusters with 116 cameras\u001b[0m\n",
      "\u001b[34mThere are 1 clusters with 118 cameras\u001b[0m\n",
      "\u001b[34mThere are 1 clusters with 121 cameras\u001b[0m\n",
      "\u001b[34mThere are 1 clusters with 122 cameras\u001b[0m\n",
      "\u001b[34mThere are 3 clusters with 123 cameras\u001b[0m\n",
      "\u001b[34mThere are 3 clusters with 124 cameras\u001b[0m\n",
      "\u001b[34mThere are 2 clusters with 126 cameras\u001b[0m\n",
      "\u001b[34mThere are 3 clusters with 127 cameras\u001b[0m\n",
      "\u001b[34mThere are 11 clusters with 128 cameras\u001b[0m\n",
      "\u001b[34mThere are 1 clusters with 131 cameras\u001b[0m\n",
      "\u001b[34mThere are 1 clusters with 134 cameras\u001b[0m\n",
      "\u001b[34mThere are 1 clusters with 187 cameras\u001b[0m\n",
      "\u001b[34mThere are 2 clusters with 188 cameras\u001b[0m\n",
      "\u001b[34mThere are 1 clusters with 190 cameras\u001b[0m\n",
      "\u001b[34mThere are 1 clusters with 192 cameras\u001b[0m\n",
      "\u001b[34mThere are 1 clusters with 338 cameras\u001b[0m\n",
      "\u001b[34mThere are 1 clusters with 361 cameras\u001b[0m\n",
      "Number of classes: 574\n",
      "\u001b[36mLearning Rate: 0.000350\u001b[0m\n",
      "encontrou modelos vgg16. Carregando...\n",
      "encontrou modelos resnet50. Carregando...\n",
      "encontrou modelos osnet. Carregando...\n",
      "encontrou modelos densenet121. Carregando...\n",
      "###============ Iteration number 54/90 ============###\n",
      "Extracting Online Features for vgg16 ...\n",
      "Features extracted in 248.64 seconds\n",
      "Computing jaccard distance...\n"
     ]
    },
    {
     "name": "stderr",
     "output_type": "stream",
     "text": [
      "bruteForceKnn is deprecated; call bfKnn instead\n"
     ]
    },
    {
     "name": "stdout",
     "output_type": "stream",
     "text": [
      "Jaccard distance computing time cost: 544.8877105712891\n",
      "Extracting Online Features for resnet50 ...\n",
      "Features extracted in 243.60 seconds\n",
      "Computing jaccard distance...\n"
     ]
    },
    {
     "name": "stderr",
     "output_type": "stream",
     "text": [
      "bruteForceKnn is deprecated; call bfKnn instead\n"
     ]
    },
    {
     "name": "stdout",
     "output_type": "stream",
     "text": [
      "Jaccard distance computing time cost: 545.9116942882538\n",
      "Extracting Online Features for osnet ...\n",
      "Features extracted in 250.64 seconds\n",
      "Computing jaccard distance...\n"
     ]
    },
    {
     "name": "stderr",
     "output_type": "stream",
     "text": [
      "bruteForceKnn is deprecated; call bfKnn instead\n"
     ]
    },
    {
     "name": "stdout",
     "output_type": "stream",
     "text": [
      "Jaccard distance computing time cost: 536.2647640705109\n",
      "Extracting Online Features for densenet121 ...\n",
      "Features extracted in 254.87 seconds\n",
      "Computing jaccard distance...\n"
     ]
    },
    {
     "name": "stderr",
     "output_type": "stream",
     "text": [
      "bruteForceKnn is deprecated; call bfKnn instead\n"
     ]
    },
    {
     "name": "stdout",
     "output_type": "stream",
     "text": [
      "Jaccard distance computing time cost: 547.0342981815338\n",
      "Reliability: 0.992\n",
      "\u001b[32mMean Purity: 0.03921\u001b[0m\n",
      "\u001b[34mThere are 3 clusters with 4 cameras\u001b[0m\n",
      "\u001b[34mThere are 3 clusters with 5 cameras\u001b[0m\n",
      "\u001b[34mThere are 3 clusters with 6 cameras\u001b[0m\n",
      "\u001b[34mThere are 2 clusters with 7 cameras\u001b[0m\n",
      "\u001b[34mThere are 3 clusters with 8 cameras\u001b[0m\n",
      "\u001b[34mThere are 1 clusters with 9 cameras\u001b[0m\n",
      "\u001b[34mThere are 1 clusters with 10 cameras\u001b[0m\n",
      "\u001b[34mThere are 2 clusters with 12 cameras\u001b[0m\n",
      "\u001b[34mThere are 1 clusters with 14 cameras\u001b[0m\n",
      "\u001b[34mThere are 1 clusters with 16 cameras\u001b[0m\n",
      "\u001b[34mThere are 1 clusters with 17 cameras\u001b[0m\n",
      "\u001b[34mThere are 2 clusters with 18 cameras\u001b[0m\n",
      "\u001b[34mThere are 1 clusters with 35 cameras\u001b[0m\n",
      "\u001b[34mThere are 1 clusters with 43 cameras\u001b[0m\n",
      "\u001b[34mThere are 1 clusters with 44 cameras\u001b[0m\n",
      "\u001b[34mThere are 1 clusters with 46 cameras\u001b[0m\n",
      "\u001b[34mThere are 1 clusters with 50 cameras\u001b[0m\n",
      "\u001b[34mThere are 1 clusters with 52 cameras\u001b[0m\n",
      "\u001b[34mThere are 1 clusters with 53 cameras\u001b[0m\n",
      "\u001b[34mThere are 1 clusters with 54 cameras\u001b[0m\n",
      "\u001b[34mThere are 3 clusters with 55 cameras\u001b[0m\n",
      "\u001b[34mThere are 1 clusters with 56 cameras\u001b[0m\n",
      "\u001b[34mThere are 6 clusters with 57 cameras\u001b[0m\n",
      "\u001b[34mThere are 5 clusters with 58 cameras\u001b[0m\n",
      "\u001b[34mThere are 3 clusters with 59 cameras\u001b[0m\n",
      "\u001b[34mThere are 8 clusters with 60 cameras\u001b[0m\n",
      "\u001b[34mThere are 14 clusters with 61 cameras\u001b[0m\n",
      "\u001b[34mThere are 18 clusters with 62 cameras\u001b[0m\n",
      "\u001b[34mThere are 42 clusters with 63 cameras\u001b[0m\n",
      "\u001b[34mThere are 400 clusters with 64 cameras\u001b[0m\n",
      "\u001b[34mThere are 3 clusters with 66 cameras\u001b[0m\n",
      "\u001b[34mThere are 1 clusters with 68 cameras\u001b[0m\n",
      "\u001b[34mThere are 1 clusters with 69 cameras\u001b[0m\n",
      "\u001b[34mThere are 1 clusters with 73 cameras\u001b[0m\n",
      "\u001b[34mThere are 1 clusters with 106 cameras\u001b[0m\n",
      "\u001b[34mThere are 1 clusters with 109 cameras\u001b[0m\n",
      "\u001b[34mThere are 1 clusters with 116 cameras\u001b[0m\n",
      "\u001b[34mThere are 1 clusters with 118 cameras\u001b[0m\n",
      "\u001b[34mThere are 1 clusters with 121 cameras\u001b[0m\n",
      "\u001b[34mThere are 1 clusters with 122 cameras\u001b[0m\n",
      "\u001b[34mThere are 3 clusters with 123 cameras\u001b[0m\n",
      "\u001b[34mThere are 3 clusters with 124 cameras\u001b[0m\n",
      "\u001b[34mThere are 2 clusters with 126 cameras\u001b[0m\n",
      "\u001b[34mThere are 3 clusters with 127 cameras\u001b[0m\n",
      "\u001b[34mThere are 11 clusters with 128 cameras\u001b[0m\n",
      "\u001b[34mThere are 1 clusters with 131 cameras\u001b[0m\n",
      "\u001b[34mThere are 1 clusters with 134 cameras\u001b[0m\n",
      "\u001b[34mThere are 1 clusters with 187 cameras\u001b[0m\n",
      "\u001b[34mThere are 2 clusters with 188 cameras\u001b[0m\n",
      "\u001b[34mThere are 1 clusters with 190 cameras\u001b[0m\n",
      "\u001b[34mThere are 1 clusters with 192 cameras\u001b[0m\n",
      "\u001b[34mThere are 1 clusters with 338 cameras\u001b[0m\n",
      "\u001b[34mThere are 1 clusters with 361 cameras\u001b[0m\n",
      "Number of classes: 574\n",
      "\u001b[36mLearning Rate: 0.000350\u001b[0m\n",
      "encontrou modelos vgg16. Carregando...\n",
      "encontrou modelos resnet50. Carregando...\n",
      "encontrou modelos osnet. Carregando...\n",
      "encontrou modelos densenet121. Carregando...\n",
      "###============ Iteration number 55/90 ============###\n",
      "Extracting Online Features for vgg16 ...\n",
      "Features extracted in 256.97 seconds\n",
      "Computing jaccard distance...\n"
     ]
    },
    {
     "name": "stderr",
     "output_type": "stream",
     "text": [
      "bruteForceKnn is deprecated; call bfKnn instead\n"
     ]
    },
    {
     "name": "stdout",
     "output_type": "stream",
     "text": [
      "Jaccard distance computing time cost: 542.9799592494965\n",
      "Extracting Online Features for resnet50 ...\n",
      "Features extracted in 245.37 seconds\n",
      "Computing jaccard distance...\n"
     ]
    },
    {
     "name": "stderr",
     "output_type": "stream",
     "text": [
      "bruteForceKnn is deprecated; call bfKnn instead\n"
     ]
    },
    {
     "name": "stdout",
     "output_type": "stream",
     "text": [
      "Jaccard distance computing time cost: 531.5214221477509\n",
      "Extracting Online Features for osnet ...\n",
      "Features extracted in 249.52 seconds\n",
      "Computing jaccard distance...\n"
     ]
    },
    {
     "name": "stderr",
     "output_type": "stream",
     "text": [
      "bruteForceKnn is deprecated; call bfKnn instead\n"
     ]
    },
    {
     "name": "stdout",
     "output_type": "stream",
     "text": [
      "Jaccard distance computing time cost: 535.8475723266602\n",
      "Extracting Online Features for densenet121 ...\n",
      "Features extracted in 251.96 seconds\n",
      "Computing jaccard distance...\n"
     ]
    },
    {
     "name": "stderr",
     "output_type": "stream",
     "text": [
      "bruteForceKnn is deprecated; call bfKnn instead\n"
     ]
    },
    {
     "name": "stdout",
     "output_type": "stream",
     "text": [
      "Jaccard distance computing time cost: 548.0692486763\n",
      "Reliability: 0.992\n",
      "\u001b[32mMean Purity: 0.03921\u001b[0m\n",
      "\u001b[34mThere are 3 clusters with 4 cameras\u001b[0m\n",
      "\u001b[34mThere are 3 clusters with 5 cameras\u001b[0m\n",
      "\u001b[34mThere are 3 clusters with 6 cameras\u001b[0m\n",
      "\u001b[34mThere are 2 clusters with 7 cameras\u001b[0m\n",
      "\u001b[34mThere are 3 clusters with 8 cameras\u001b[0m\n",
      "\u001b[34mThere are 1 clusters with 9 cameras\u001b[0m\n",
      "\u001b[34mThere are 1 clusters with 10 cameras\u001b[0m\n",
      "\u001b[34mThere are 2 clusters with 12 cameras\u001b[0m\n",
      "\u001b[34mThere are 1 clusters with 14 cameras\u001b[0m\n",
      "\u001b[34mThere are 1 clusters with 16 cameras\u001b[0m\n",
      "\u001b[34mThere are 1 clusters with 17 cameras\u001b[0m\n",
      "\u001b[34mThere are 2 clusters with 18 cameras\u001b[0m\n",
      "\u001b[34mThere are 1 clusters with 35 cameras\u001b[0m\n",
      "\u001b[34mThere are 1 clusters with 43 cameras\u001b[0m\n",
      "\u001b[34mThere are 1 clusters with 44 cameras\u001b[0m\n",
      "\u001b[34mThere are 1 clusters with 46 cameras\u001b[0m\n",
      "\u001b[34mThere are 1 clusters with 50 cameras\u001b[0m\n",
      "\u001b[34mThere are 1 clusters with 52 cameras\u001b[0m\n",
      "\u001b[34mThere are 1 clusters with 53 cameras\u001b[0m\n",
      "\u001b[34mThere are 1 clusters with 54 cameras\u001b[0m\n",
      "\u001b[34mThere are 3 clusters with 55 cameras\u001b[0m\n",
      "\u001b[34mThere are 1 clusters with 56 cameras\u001b[0m\n",
      "\u001b[34mThere are 6 clusters with 57 cameras\u001b[0m\n",
      "\u001b[34mThere are 5 clusters with 58 cameras\u001b[0m\n",
      "\u001b[34mThere are 3 clusters with 59 cameras\u001b[0m\n",
      "\u001b[34mThere are 8 clusters with 60 cameras\u001b[0m\n",
      "\u001b[34mThere are 14 clusters with 61 cameras\u001b[0m\n",
      "\u001b[34mThere are 18 clusters with 62 cameras\u001b[0m\n",
      "\u001b[34mThere are 42 clusters with 63 cameras\u001b[0m\n",
      "\u001b[34mThere are 400 clusters with 64 cameras\u001b[0m\n",
      "\u001b[34mThere are 3 clusters with 66 cameras\u001b[0m\n",
      "\u001b[34mThere are 1 clusters with 68 cameras\u001b[0m\n",
      "\u001b[34mThere are 1 clusters with 69 cameras\u001b[0m\n",
      "\u001b[34mThere are 1 clusters with 73 cameras\u001b[0m\n",
      "\u001b[34mThere are 1 clusters with 106 cameras\u001b[0m\n",
      "\u001b[34mThere are 1 clusters with 109 cameras\u001b[0m\n",
      "\u001b[34mThere are 1 clusters with 116 cameras\u001b[0m\n",
      "\u001b[34mThere are 1 clusters with 118 cameras\u001b[0m\n",
      "\u001b[34mThere are 1 clusters with 121 cameras\u001b[0m\n",
      "\u001b[34mThere are 1 clusters with 122 cameras\u001b[0m\n",
      "\u001b[34mThere are 3 clusters with 123 cameras\u001b[0m\n",
      "\u001b[34mThere are 3 clusters with 124 cameras\u001b[0m\n",
      "\u001b[34mThere are 2 clusters with 126 cameras\u001b[0m\n",
      "\u001b[34mThere are 3 clusters with 127 cameras\u001b[0m\n",
      "\u001b[34mThere are 11 clusters with 128 cameras\u001b[0m\n",
      "\u001b[34mThere are 1 clusters with 131 cameras\u001b[0m\n",
      "\u001b[34mThere are 1 clusters with 134 cameras\u001b[0m\n",
      "\u001b[34mThere are 1 clusters with 187 cameras\u001b[0m\n",
      "\u001b[34mThere are 2 clusters with 188 cameras\u001b[0m\n",
      "\u001b[34mThere are 1 clusters with 190 cameras\u001b[0m\n",
      "\u001b[34mThere are 1 clusters with 192 cameras\u001b[0m\n",
      "\u001b[34mThere are 1 clusters with 338 cameras\u001b[0m\n",
      "\u001b[34mThere are 1 clusters with 361 cameras\u001b[0m\n",
      "Number of classes: 574\n",
      "\u001b[36mLearning Rate: 0.000350\u001b[0m\n",
      "encontrou modelos vgg16. Carregando...\n",
      "encontrou modelos resnet50. Carregando...\n",
      "encontrou modelos osnet. Carregando...\n",
      "encontrou modelos densenet121. Carregando...\n",
      "\u001b[33mValidating online vgg16 ...\u001b[0m\n",
      "Features extracted in 77.81 seconds\n",
      "Features extracted in 147.21 seconds\n",
      "Computing CMC and mAP ...\n",
      "** Results **\n",
      "mAP: 70.12%\n",
      "CMC curve\n",
      "Rank-1  : 75.96%\n",
      "Rank-5  : 91.27%\n",
      "Rank-10 : 94.82%\n",
      "Rank-20 : 96.79%\n",
      "\u001b[33mValidating momentum vgg16 ...\u001b[0m\n",
      "Features extracted in 79.40 seconds\n",
      "Features extracted in 153.11 seconds\n",
      "Computing CMC and mAP ...\n",
      "** Results **\n",
      "mAP: 66.17%\n",
      "CMC curve\n",
      "Rank-1  : 60.22%\n",
      "Rank-5  : 85.69%\n",
      "Rank-10 : 92.76%\n",
      "Rank-20 : 97.47%\n",
      "\u001b[33mValidating online resnet50 ...\u001b[0m\n",
      "Features extracted in 80.17 seconds\n",
      "Features extracted in 145.68 seconds\n",
      "Computing CMC and mAP ...\n",
      "** Results **\n",
      "mAP: 67.50%\n",
      "CMC curve\n",
      "Rank-1  : 55.02%\n",
      "Rank-5  : 80.54%\n",
      "Rank-10 : 89.57%\n",
      "Rank-20 : 96.21%\n",
      "\u001b[33mValidating momentum resnet50 ...\u001b[0m\n",
      "Features extracted in 80.00 seconds\n",
      "Features extracted in 146.77 seconds\n",
      "Computing CMC and mAP ...\n",
      "** Results **\n",
      "mAP: 66.53%\n",
      "CMC curve\n",
      "Rank-1  : 51.40%\n",
      "Rank-5  : 82.97%\n",
      "Rank-10 : 92.60%\n",
      "Rank-20 : 97.67%\n",
      "\u001b[33mValidating online osnet ...\u001b[0m\n",
      "Features extracted in 78.63 seconds\n",
      "Features extracted in 147.80 seconds\n",
      "Computing CMC and mAP ...\n",
      "** Results **\n",
      "mAP: 70.98%\n",
      "CMC curve\n",
      "Rank-1  : 66.36%\n",
      "Rank-5  : 91.56%\n",
      "Rank-10 : 96.56%\n",
      "Rank-20 : 99.07%\n",
      "\u001b[33mValidating momentum osnet ...\u001b[0m\n",
      "Features extracted in 78.33 seconds\n",
      "Features extracted in 148.73 seconds\n",
      "Computing CMC and mAP ...\n",
      "** Results **\n",
      "mAP: 64.56%\n",
      "CMC curve\n",
      "Rank-1  : 55.77%\n",
      "Rank-5  : 86.08%\n",
      "Rank-10 : 94.11%\n",
      "Rank-20 : 97.92%\n",
      "\u001b[33mValidating online densenet121 ...\u001b[0m\n",
      "Features extracted in 75.34 seconds\n",
      "Features extracted in 148.88 seconds\n",
      "Computing CMC and mAP ...\n",
      "** Results **\n",
      "mAP: 69.32%\n",
      "CMC curve\n",
      "Rank-1  : 61.53%\n",
      "Rank-5  : 85.89%\n",
      "Rank-10 : 93.66%\n",
      "Rank-20 : 97.66%\n",
      "\u001b[33mValidating momentum densenet121 ...\u001b[0m\n",
      "Features extracted in 77.04 seconds\n",
      "Features extracted in 146.35 seconds\n",
      "Computing CMC and mAP ...\n",
      "** Results **\n",
      "mAP: 66.02%\n",
      "CMC curve\n",
      "Rank-1  : 63.00%\n",
      "Rank-5  : 91.00%\n",
      "Rank-10 : 96.36%\n",
      "Rank-20 : 98.94%\n",
      "\u001b[33mValidating ensembled with online models ...\u001b[0m\n",
      "Computing CMC and mAP ...\n",
      "** Results **\n",
      "mAP: 69.73%\n",
      "Ranks:\n",
      "Rank-1  : 63.31%\n",
      "Rank-5  : 83.51%\n",
      "Rank-10 : 91.32%\n",
      "\u001b[33mValidating ensembled with momentum models ...\u001b[0m\n",
      "Computing CMC and mAP ...\n",
      "** Results **\n",
      "mAP: 65.40%\n",
      "Ranks:\n",
      "Rank-1  : 60.95%\n",
      "Rank-5  : 84.80%\n",
      "Rank-10 : 92.04%\n",
      "###============ Iteration number 56/90 ============###\n",
      "Extracting Online Features for vgg16 ...\n",
      "Features extracted in 257.14 seconds\n",
      "Computing jaccard distance...\n"
     ]
    },
    {
     "name": "stderr",
     "output_type": "stream",
     "text": [
      "bruteForceKnn is deprecated; call bfKnn instead\n"
     ]
    },
    {
     "name": "stdout",
     "output_type": "stream",
     "text": [
      "Jaccard distance computing time cost: 539.9374136924744\n",
      "Extracting Online Features for resnet50 ...\n",
      "Features extracted in 250.78 seconds\n",
      "Computing jaccard distance...\n"
     ]
    },
    {
     "name": "stderr",
     "output_type": "stream",
     "text": [
      "bruteForceKnn is deprecated; call bfKnn instead\n"
     ]
    },
    {
     "name": "stdout",
     "output_type": "stream",
     "text": [
      "Jaccard distance computing time cost: 547.134851694107\n",
      "Extracting Online Features for osnet ...\n",
      "Features extracted in 247.32 seconds\n",
      "Computing jaccard distance...\n"
     ]
    },
    {
     "name": "stderr",
     "output_type": "stream",
     "text": [
      "bruteForceKnn is deprecated; call bfKnn instead\n"
     ]
    },
    {
     "name": "stdout",
     "output_type": "stream",
     "text": [
      "Jaccard distance computing time cost: 537.9307548999786\n",
      "Extracting Online Features for densenet121 ...\n",
      "Features extracted in 251.13 seconds\n",
      "Computing jaccard distance...\n"
     ]
    },
    {
     "name": "stderr",
     "output_type": "stream",
     "text": [
      "bruteForceKnn is deprecated; call bfKnn instead\n"
     ]
    },
    {
     "name": "stdout",
     "output_type": "stream",
     "text": [
      "Jaccard distance computing time cost: 550.4464180469513\n",
      "Reliability: 0.992\n",
      "\u001b[32mMean Purity: 0.03921\u001b[0m\n",
      "\u001b[34mThere are 3 clusters with 4 cameras\u001b[0m\n",
      "\u001b[34mThere are 3 clusters with 5 cameras\u001b[0m\n",
      "\u001b[34mThere are 3 clusters with 6 cameras\u001b[0m\n",
      "\u001b[34mThere are 2 clusters with 7 cameras\u001b[0m\n",
      "\u001b[34mThere are 3 clusters with 8 cameras\u001b[0m\n",
      "\u001b[34mThere are 1 clusters with 9 cameras\u001b[0m\n",
      "\u001b[34mThere are 1 clusters with 10 cameras\u001b[0m\n",
      "\u001b[34mThere are 2 clusters with 12 cameras\u001b[0m\n",
      "\u001b[34mThere are 1 clusters with 14 cameras\u001b[0m\n",
      "\u001b[34mThere are 1 clusters with 16 cameras\u001b[0m\n",
      "\u001b[34mThere are 1 clusters with 17 cameras\u001b[0m\n",
      "\u001b[34mThere are 2 clusters with 18 cameras\u001b[0m\n",
      "\u001b[34mThere are 1 clusters with 35 cameras\u001b[0m\n",
      "\u001b[34mThere are 1 clusters with 43 cameras\u001b[0m\n",
      "\u001b[34mThere are 1 clusters with 44 cameras\u001b[0m\n",
      "\u001b[34mThere are 1 clusters with 46 cameras\u001b[0m\n",
      "\u001b[34mThere are 1 clusters with 50 cameras\u001b[0m\n",
      "\u001b[34mThere are 1 clusters with 52 cameras\u001b[0m\n",
      "\u001b[34mThere are 1 clusters with 53 cameras\u001b[0m\n",
      "\u001b[34mThere are 1 clusters with 54 cameras\u001b[0m\n",
      "\u001b[34mThere are 3 clusters with 55 cameras\u001b[0m\n",
      "\u001b[34mThere are 1 clusters with 56 cameras\u001b[0m\n",
      "\u001b[34mThere are 6 clusters with 57 cameras\u001b[0m\n",
      "\u001b[34mThere are 5 clusters with 58 cameras\u001b[0m\n",
      "\u001b[34mThere are 3 clusters with 59 cameras\u001b[0m\n",
      "\u001b[34mThere are 8 clusters with 60 cameras\u001b[0m\n",
      "\u001b[34mThere are 14 clusters with 61 cameras\u001b[0m\n",
      "\u001b[34mThere are 18 clusters with 62 cameras\u001b[0m\n",
      "\u001b[34mThere are 42 clusters with 63 cameras\u001b[0m\n",
      "\u001b[34mThere are 400 clusters with 64 cameras\u001b[0m\n",
      "\u001b[34mThere are 3 clusters with 66 cameras\u001b[0m\n",
      "\u001b[34mThere are 1 clusters with 68 cameras\u001b[0m\n",
      "\u001b[34mThere are 1 clusters with 69 cameras\u001b[0m\n",
      "\u001b[34mThere are 1 clusters with 73 cameras\u001b[0m\n",
      "\u001b[34mThere are 1 clusters with 106 cameras\u001b[0m\n",
      "\u001b[34mThere are 1 clusters with 109 cameras\u001b[0m\n",
      "\u001b[34mThere are 1 clusters with 116 cameras\u001b[0m\n",
      "\u001b[34mThere are 1 clusters with 118 cameras\u001b[0m\n",
      "\u001b[34mThere are 1 clusters with 121 cameras\u001b[0m\n",
      "\u001b[34mThere are 1 clusters with 122 cameras\u001b[0m\n",
      "\u001b[34mThere are 3 clusters with 123 cameras\u001b[0m\n",
      "\u001b[34mThere are 3 clusters with 124 cameras\u001b[0m\n",
      "\u001b[34mThere are 2 clusters with 126 cameras\u001b[0m\n",
      "\u001b[34mThere are 3 clusters with 127 cameras\u001b[0m\n",
      "\u001b[34mThere are 11 clusters with 128 cameras\u001b[0m\n",
      "\u001b[34mThere are 1 clusters with 131 cameras\u001b[0m\n",
      "\u001b[34mThere are 1 clusters with 134 cameras\u001b[0m\n",
      "\u001b[34mThere are 1 clusters with 187 cameras\u001b[0m\n",
      "\u001b[34mThere are 2 clusters with 188 cameras\u001b[0m\n",
      "\u001b[34mThere are 1 clusters with 190 cameras\u001b[0m\n",
      "\u001b[34mThere are 1 clusters with 192 cameras\u001b[0m\n",
      "\u001b[34mThere are 1 clusters with 338 cameras\u001b[0m\n",
      "\u001b[34mThere are 1 clusters with 361 cameras\u001b[0m\n",
      "Number of classes: 574\n",
      "\u001b[36mLearning Rate: 0.000350\u001b[0m\n",
      "encontrou modelos vgg16. Carregando...\n",
      "encontrou modelos resnet50. Carregando...\n",
      "encontrou modelos osnet. Carregando...\n",
      "encontrou modelos densenet121. Carregando...\n",
      "###============ Iteration number 57/90 ============###\n",
      "Extracting Online Features for vgg16 ...\n",
      "Features extracted in 250.12 seconds\n",
      "Computing jaccard distance...\n"
     ]
    },
    {
     "name": "stderr",
     "output_type": "stream",
     "text": [
      "bruteForceKnn is deprecated; call bfKnn instead\n"
     ]
    },
    {
     "name": "stdout",
     "output_type": "stream",
     "text": [
      "Jaccard distance computing time cost: 542.6644415855408\n",
      "Extracting Online Features for resnet50 ...\n",
      "Features extracted in 242.24 seconds\n",
      "Computing jaccard distance...\n"
     ]
    },
    {
     "name": "stderr",
     "output_type": "stream",
     "text": [
      "bruteForceKnn is deprecated; call bfKnn instead\n"
     ]
    },
    {
     "name": "stdout",
     "output_type": "stream",
     "text": [
      "Jaccard distance computing time cost: 552.2758176326752\n",
      "Extracting Online Features for osnet ...\n",
      "Features extracted in 255.63 seconds\n",
      "Computing jaccard distance...\n"
     ]
    },
    {
     "name": "stderr",
     "output_type": "stream",
     "text": [
      "bruteForceKnn is deprecated; call bfKnn instead\n"
     ]
    },
    {
     "name": "stdout",
     "output_type": "stream",
     "text": [
      "Jaccard distance computing time cost: 533.977331161499\n",
      "Extracting Online Features for densenet121 ...\n",
      "Features extracted in 245.27 seconds\n",
      "Computing jaccard distance...\n"
     ]
    },
    {
     "name": "stderr",
     "output_type": "stream",
     "text": [
      "bruteForceKnn is deprecated; call bfKnn instead\n"
     ]
    },
    {
     "name": "stdout",
     "output_type": "stream",
     "text": [
      "Jaccard distance computing time cost: 548.4666347503662\n",
      "Reliability: 0.992\n",
      "\u001b[32mMean Purity: 0.03921\u001b[0m\n",
      "\u001b[34mThere are 3 clusters with 4 cameras\u001b[0m\n",
      "\u001b[34mThere are 3 clusters with 5 cameras\u001b[0m\n",
      "\u001b[34mThere are 3 clusters with 6 cameras\u001b[0m\n",
      "\u001b[34mThere are 2 clusters with 7 cameras\u001b[0m\n",
      "\u001b[34mThere are 3 clusters with 8 cameras\u001b[0m\n",
      "\u001b[34mThere are 1 clusters with 9 cameras\u001b[0m\n",
      "\u001b[34mThere are 1 clusters with 10 cameras\u001b[0m\n",
      "\u001b[34mThere are 2 clusters with 12 cameras\u001b[0m\n",
      "\u001b[34mThere are 1 clusters with 14 cameras\u001b[0m\n",
      "\u001b[34mThere are 1 clusters with 16 cameras\u001b[0m\n",
      "\u001b[34mThere are 1 clusters with 17 cameras\u001b[0m\n",
      "\u001b[34mThere are 2 clusters with 18 cameras\u001b[0m\n",
      "\u001b[34mThere are 1 clusters with 35 cameras\u001b[0m\n",
      "\u001b[34mThere are 1 clusters with 43 cameras\u001b[0m\n",
      "\u001b[34mThere are 1 clusters with 44 cameras\u001b[0m\n",
      "\u001b[34mThere are 1 clusters with 46 cameras\u001b[0m\n",
      "\u001b[34mThere are 1 clusters with 50 cameras\u001b[0m\n",
      "\u001b[34mThere are 1 clusters with 52 cameras\u001b[0m\n",
      "\u001b[34mThere are 1 clusters with 53 cameras\u001b[0m\n",
      "\u001b[34mThere are 1 clusters with 54 cameras\u001b[0m\n",
      "\u001b[34mThere are 3 clusters with 55 cameras\u001b[0m\n",
      "\u001b[34mThere are 1 clusters with 56 cameras\u001b[0m\n",
      "\u001b[34mThere are 6 clusters with 57 cameras\u001b[0m\n",
      "\u001b[34mThere are 5 clusters with 58 cameras\u001b[0m\n",
      "\u001b[34mThere are 3 clusters with 59 cameras\u001b[0m\n",
      "\u001b[34mThere are 8 clusters with 60 cameras\u001b[0m\n",
      "\u001b[34mThere are 14 clusters with 61 cameras\u001b[0m\n",
      "\u001b[34mThere are 18 clusters with 62 cameras\u001b[0m\n",
      "\u001b[34mThere are 42 clusters with 63 cameras\u001b[0m\n",
      "\u001b[34mThere are 400 clusters with 64 cameras\u001b[0m\n",
      "\u001b[34mThere are 3 clusters with 66 cameras\u001b[0m\n",
      "\u001b[34mThere are 1 clusters with 68 cameras\u001b[0m\n",
      "\u001b[34mThere are 1 clusters with 69 cameras\u001b[0m\n",
      "\u001b[34mThere are 1 clusters with 73 cameras\u001b[0m\n",
      "\u001b[34mThere are 1 clusters with 106 cameras\u001b[0m\n",
      "\u001b[34mThere are 1 clusters with 109 cameras\u001b[0m\n",
      "\u001b[34mThere are 1 clusters with 116 cameras\u001b[0m\n",
      "\u001b[34mThere are 1 clusters with 118 cameras\u001b[0m\n",
      "\u001b[34mThere are 1 clusters with 121 cameras\u001b[0m\n",
      "\u001b[34mThere are 1 clusters with 122 cameras\u001b[0m\n",
      "\u001b[34mThere are 3 clusters with 123 cameras\u001b[0m\n",
      "\u001b[34mThere are 3 clusters with 124 cameras\u001b[0m\n",
      "\u001b[34mThere are 2 clusters with 126 cameras\u001b[0m\n",
      "\u001b[34mThere are 3 clusters with 127 cameras\u001b[0m\n",
      "\u001b[34mThere are 11 clusters with 128 cameras\u001b[0m\n",
      "\u001b[34mThere are 1 clusters with 131 cameras\u001b[0m\n",
      "\u001b[34mThere are 1 clusters with 134 cameras\u001b[0m\n",
      "\u001b[34mThere are 1 clusters with 187 cameras\u001b[0m\n",
      "\u001b[34mThere are 2 clusters with 188 cameras\u001b[0m\n",
      "\u001b[34mThere are 1 clusters with 190 cameras\u001b[0m\n",
      "\u001b[34mThere are 1 clusters with 192 cameras\u001b[0m\n",
      "\u001b[34mThere are 1 clusters with 338 cameras\u001b[0m\n",
      "\u001b[34mThere are 1 clusters with 361 cameras\u001b[0m\n",
      "Number of classes: 574\n",
      "\u001b[36mLearning Rate: 0.000350\u001b[0m\n",
      "encontrou modelos vgg16. Carregando...\n",
      "encontrou modelos resnet50. Carregando...\n",
      "encontrou modelos osnet. Carregando...\n",
      "encontrou modelos densenet121. Carregando...\n",
      "###============ Iteration number 58/90 ============###\n",
      "Extracting Online Features for vgg16 ...\n",
      "Features extracted in 243.92 seconds\n",
      "Computing jaccard distance...\n"
     ]
    },
    {
     "name": "stderr",
     "output_type": "stream",
     "text": [
      "bruteForceKnn is deprecated; call bfKnn instead\n"
     ]
    },
    {
     "name": "stdout",
     "output_type": "stream",
     "text": [
      "Jaccard distance computing time cost: 547.5737204551697\n",
      "Extracting Online Features for resnet50 ...\n",
      "Features extracted in 251.23 seconds\n",
      "Computing jaccard distance...\n"
     ]
    },
    {
     "name": "stderr",
     "output_type": "stream",
     "text": [
      "bruteForceKnn is deprecated; call bfKnn instead\n"
     ]
    },
    {
     "name": "stdout",
     "output_type": "stream",
     "text": [
      "Jaccard distance computing time cost: 549.4246866703033\n",
      "Extracting Online Features for osnet ...\n",
      "Features extracted in 252.80 seconds\n",
      "Computing jaccard distance...\n"
     ]
    },
    {
     "name": "stderr",
     "output_type": "stream",
     "text": [
      "bruteForceKnn is deprecated; call bfKnn instead\n"
     ]
    },
    {
     "name": "stdout",
     "output_type": "stream",
     "text": [
      "Jaccard distance computing time cost: 520.8237705230713\n",
      "Extracting Online Features for densenet121 ...\n",
      "Features extracted in 247.47 seconds\n",
      "Computing jaccard distance...\n"
     ]
    },
    {
     "name": "stderr",
     "output_type": "stream",
     "text": [
      "bruteForceKnn is deprecated; call bfKnn instead\n"
     ]
    },
    {
     "name": "stdout",
     "output_type": "stream",
     "text": [
      "Jaccard distance computing time cost: 544.1207911968231\n",
      "Reliability: 0.992\n",
      "\u001b[32mMean Purity: 0.03921\u001b[0m\n",
      "\u001b[34mThere are 3 clusters with 4 cameras\u001b[0m\n",
      "\u001b[34mThere are 3 clusters with 5 cameras\u001b[0m\n",
      "\u001b[34mThere are 3 clusters with 6 cameras\u001b[0m\n",
      "\u001b[34mThere are 2 clusters with 7 cameras\u001b[0m\n",
      "\u001b[34mThere are 3 clusters with 8 cameras\u001b[0m\n",
      "\u001b[34mThere are 1 clusters with 9 cameras\u001b[0m\n",
      "\u001b[34mThere are 1 clusters with 10 cameras\u001b[0m\n",
      "\u001b[34mThere are 2 clusters with 12 cameras\u001b[0m\n",
      "\u001b[34mThere are 1 clusters with 14 cameras\u001b[0m\n",
      "\u001b[34mThere are 1 clusters with 16 cameras\u001b[0m\n",
      "\u001b[34mThere are 1 clusters with 17 cameras\u001b[0m\n",
      "\u001b[34mThere are 2 clusters with 18 cameras\u001b[0m\n",
      "\u001b[34mThere are 1 clusters with 35 cameras\u001b[0m\n",
      "\u001b[34mThere are 1 clusters with 43 cameras\u001b[0m\n",
      "\u001b[34mThere are 1 clusters with 44 cameras\u001b[0m\n",
      "\u001b[34mThere are 1 clusters with 46 cameras\u001b[0m\n",
      "\u001b[34mThere are 1 clusters with 50 cameras\u001b[0m\n",
      "\u001b[34mThere are 1 clusters with 52 cameras\u001b[0m\n",
      "\u001b[34mThere are 1 clusters with 53 cameras\u001b[0m\n",
      "\u001b[34mThere are 1 clusters with 54 cameras\u001b[0m\n",
      "\u001b[34mThere are 3 clusters with 55 cameras\u001b[0m\n",
      "\u001b[34mThere are 1 clusters with 56 cameras\u001b[0m\n",
      "\u001b[34mThere are 6 clusters with 57 cameras\u001b[0m\n",
      "\u001b[34mThere are 5 clusters with 58 cameras\u001b[0m\n",
      "\u001b[34mThere are 3 clusters with 59 cameras\u001b[0m\n",
      "\u001b[34mThere are 8 clusters with 60 cameras\u001b[0m\n",
      "\u001b[34mThere are 14 clusters with 61 cameras\u001b[0m\n",
      "\u001b[34mThere are 18 clusters with 62 cameras\u001b[0m\n",
      "\u001b[34mThere are 42 clusters with 63 cameras\u001b[0m\n",
      "\u001b[34mThere are 400 clusters with 64 cameras\u001b[0m\n",
      "\u001b[34mThere are 3 clusters with 66 cameras\u001b[0m\n",
      "\u001b[34mThere are 1 clusters with 68 cameras\u001b[0m\n",
      "\u001b[34mThere are 1 clusters with 69 cameras\u001b[0m\n",
      "\u001b[34mThere are 1 clusters with 73 cameras\u001b[0m\n",
      "\u001b[34mThere are 1 clusters with 106 cameras\u001b[0m\n",
      "\u001b[34mThere are 1 clusters with 109 cameras\u001b[0m\n",
      "\u001b[34mThere are 1 clusters with 116 cameras\u001b[0m\n",
      "\u001b[34mThere are 1 clusters with 118 cameras\u001b[0m\n",
      "\u001b[34mThere are 1 clusters with 121 cameras\u001b[0m\n",
      "\u001b[34mThere are 1 clusters with 122 cameras\u001b[0m\n",
      "\u001b[34mThere are 3 clusters with 123 cameras\u001b[0m\n",
      "\u001b[34mThere are 3 clusters with 124 cameras\u001b[0m\n",
      "\u001b[34mThere are 2 clusters with 126 cameras\u001b[0m\n",
      "\u001b[34mThere are 3 clusters with 127 cameras\u001b[0m\n",
      "\u001b[34mThere are 11 clusters with 128 cameras\u001b[0m\n",
      "\u001b[34mThere are 1 clusters with 131 cameras\u001b[0m\n",
      "\u001b[34mThere are 1 clusters with 134 cameras\u001b[0m\n",
      "\u001b[34mThere are 1 clusters with 187 cameras\u001b[0m\n",
      "\u001b[34mThere are 2 clusters with 188 cameras\u001b[0m\n",
      "\u001b[34mThere are 1 clusters with 190 cameras\u001b[0m\n",
      "\u001b[34mThere are 1 clusters with 192 cameras\u001b[0m\n",
      "\u001b[34mThere are 1 clusters with 338 cameras\u001b[0m\n",
      "\u001b[34mThere are 1 clusters with 361 cameras\u001b[0m\n",
      "Number of classes: 574\n",
      "\u001b[36mLearning Rate: 0.000350\u001b[0m\n",
      "encontrou modelos vgg16. Carregando...\n",
      "encontrou modelos resnet50. Carregando...\n",
      "encontrou modelos osnet. Carregando...\n",
      "encontrou modelos densenet121. Carregando...\n",
      "###============ Iteration number 59/90 ============###\n",
      "Extracting Online Features for vgg16 ...\n",
      "Features extracted in 248.48 seconds\n",
      "Computing jaccard distance...\n"
     ]
    },
    {
     "name": "stderr",
     "output_type": "stream",
     "text": [
      "bruteForceKnn is deprecated; call bfKnn instead\n"
     ]
    },
    {
     "name": "stdout",
     "output_type": "stream",
     "text": [
      "Jaccard distance computing time cost: 544.7548499107361\n",
      "Extracting Online Features for resnet50 ...\n",
      "Features extracted in 248.31 seconds\n",
      "Computing jaccard distance...\n"
     ]
    },
    {
     "name": "stderr",
     "output_type": "stream",
     "text": [
      "bruteForceKnn is deprecated; call bfKnn instead\n"
     ]
    },
    {
     "name": "stdout",
     "output_type": "stream",
     "text": [
      "Jaccard distance computing time cost: 546.6582674980164\n",
      "Extracting Online Features for osnet ...\n",
      "Features extracted in 253.74 seconds\n",
      "Computing jaccard distance...\n"
     ]
    },
    {
     "name": "stderr",
     "output_type": "stream",
     "text": [
      "bruteForceKnn is deprecated; call bfKnn instead\n"
     ]
    },
    {
     "name": "stdout",
     "output_type": "stream",
     "text": [
      "Jaccard distance computing time cost: 533.5320370197296\n",
      "Extracting Online Features for densenet121 ...\n",
      "Features extracted in 241.59 seconds\n",
      "Computing jaccard distance...\n"
     ]
    },
    {
     "name": "stderr",
     "output_type": "stream",
     "text": [
      "bruteForceKnn is deprecated; call bfKnn instead\n"
     ]
    },
    {
     "name": "stdout",
     "output_type": "stream",
     "text": [
      "Jaccard distance computing time cost: 548.8661551475525\n",
      "Reliability: 0.992\n",
      "\u001b[32mMean Purity: 0.03921\u001b[0m\n",
      "\u001b[34mThere are 3 clusters with 4 cameras\u001b[0m\n",
      "\u001b[34mThere are 3 clusters with 5 cameras\u001b[0m\n",
      "\u001b[34mThere are 3 clusters with 6 cameras\u001b[0m\n",
      "\u001b[34mThere are 2 clusters with 7 cameras\u001b[0m\n",
      "\u001b[34mThere are 3 clusters with 8 cameras\u001b[0m\n",
      "\u001b[34mThere are 1 clusters with 9 cameras\u001b[0m\n",
      "\u001b[34mThere are 1 clusters with 10 cameras\u001b[0m\n",
      "\u001b[34mThere are 2 clusters with 12 cameras\u001b[0m\n",
      "\u001b[34mThere are 1 clusters with 14 cameras\u001b[0m\n",
      "\u001b[34mThere are 1 clusters with 16 cameras\u001b[0m\n",
      "\u001b[34mThere are 1 clusters with 17 cameras\u001b[0m\n",
      "\u001b[34mThere are 2 clusters with 18 cameras\u001b[0m\n",
      "\u001b[34mThere are 1 clusters with 35 cameras\u001b[0m\n",
      "\u001b[34mThere are 1 clusters with 43 cameras\u001b[0m\n",
      "\u001b[34mThere are 1 clusters with 44 cameras\u001b[0m\n",
      "\u001b[34mThere are 1 clusters with 46 cameras\u001b[0m\n",
      "\u001b[34mThere are 1 clusters with 50 cameras\u001b[0m\n",
      "\u001b[34mThere are 1 clusters with 52 cameras\u001b[0m\n",
      "\u001b[34mThere are 1 clusters with 53 cameras\u001b[0m\n",
      "\u001b[34mThere are 1 clusters with 54 cameras\u001b[0m\n",
      "\u001b[34mThere are 3 clusters with 55 cameras\u001b[0m\n",
      "\u001b[34mThere are 1 clusters with 56 cameras\u001b[0m\n",
      "\u001b[34mThere are 6 clusters with 57 cameras\u001b[0m\n",
      "\u001b[34mThere are 5 clusters with 58 cameras\u001b[0m\n",
      "\u001b[34mThere are 3 clusters with 59 cameras\u001b[0m\n",
      "\u001b[34mThere are 8 clusters with 60 cameras\u001b[0m\n",
      "\u001b[34mThere are 14 clusters with 61 cameras\u001b[0m\n",
      "\u001b[34mThere are 18 clusters with 62 cameras\u001b[0m\n",
      "\u001b[34mThere are 42 clusters with 63 cameras\u001b[0m\n",
      "\u001b[34mThere are 400 clusters with 64 cameras\u001b[0m\n",
      "\u001b[34mThere are 3 clusters with 66 cameras\u001b[0m\n",
      "\u001b[34mThere are 1 clusters with 68 cameras\u001b[0m\n",
      "\u001b[34mThere are 1 clusters with 69 cameras\u001b[0m\n",
      "\u001b[34mThere are 1 clusters with 73 cameras\u001b[0m\n",
      "\u001b[34mThere are 1 clusters with 106 cameras\u001b[0m\n",
      "\u001b[34mThere are 1 clusters with 109 cameras\u001b[0m\n",
      "\u001b[34mThere are 1 clusters with 116 cameras\u001b[0m\n",
      "\u001b[34mThere are 1 clusters with 118 cameras\u001b[0m\n",
      "\u001b[34mThere are 1 clusters with 121 cameras\u001b[0m\n",
      "\u001b[34mThere are 1 clusters with 122 cameras\u001b[0m\n",
      "\u001b[34mThere are 3 clusters with 123 cameras\u001b[0m\n",
      "\u001b[34mThere are 3 clusters with 124 cameras\u001b[0m\n",
      "\u001b[34mThere are 2 clusters with 126 cameras\u001b[0m\n",
      "\u001b[34mThere are 3 clusters with 127 cameras\u001b[0m\n",
      "\u001b[34mThere are 11 clusters with 128 cameras\u001b[0m\n",
      "\u001b[34mThere are 1 clusters with 131 cameras\u001b[0m\n",
      "\u001b[34mThere are 1 clusters with 134 cameras\u001b[0m\n",
      "\u001b[34mThere are 1 clusters with 187 cameras\u001b[0m\n",
      "\u001b[34mThere are 2 clusters with 188 cameras\u001b[0m\n",
      "\u001b[34mThere are 1 clusters with 190 cameras\u001b[0m\n",
      "\u001b[34mThere are 1 clusters with 192 cameras\u001b[0m\n",
      "\u001b[34mThere are 1 clusters with 338 cameras\u001b[0m\n",
      "\u001b[34mThere are 1 clusters with 361 cameras\u001b[0m\n",
      "Number of classes: 574\n",
      "\u001b[36mLearning Rate: 0.000350\u001b[0m\n",
      "encontrou modelos vgg16. Carregando...\n",
      "encontrou modelos resnet50. Carregando...\n",
      "encontrou modelos osnet. Carregando...\n",
      "encontrou modelos densenet121. Carregando...\n",
      "###============ Iteration number 60/90 ============###\n",
      "Extracting Online Features for vgg16 ...\n",
      "Features extracted in 245.19 seconds\n",
      "Computing jaccard distance...\n"
     ]
    },
    {
     "name": "stderr",
     "output_type": "stream",
     "text": [
      "bruteForceKnn is deprecated; call bfKnn instead\n"
     ]
    },
    {
     "name": "stdout",
     "output_type": "stream",
     "text": [
      "Jaccard distance computing time cost: 545.5246713161469\n",
      "Extracting Online Features for resnet50 ...\n",
      "Features extracted in 255.53 seconds\n",
      "Computing jaccard distance...\n"
     ]
    },
    {
     "name": "stderr",
     "output_type": "stream",
     "text": [
      "bruteForceKnn is deprecated; call bfKnn instead\n"
     ]
    },
    {
     "name": "stdout",
     "output_type": "stream",
     "text": [
      "Jaccard distance computing time cost: 547.9772338867188\n",
      "Extracting Online Features for osnet ...\n",
      "Features extracted in 247.68 seconds\n",
      "Computing jaccard distance...\n"
     ]
    },
    {
     "name": "stderr",
     "output_type": "stream",
     "text": [
      "bruteForceKnn is deprecated; call bfKnn instead\n"
     ]
    },
    {
     "name": "stdout",
     "output_type": "stream",
     "text": [
      "Jaccard distance computing time cost: 531.7355885505676\n",
      "Extracting Online Features for densenet121 ...\n",
      "Features extracted in 257.32 seconds\n",
      "Computing jaccard distance...\n"
     ]
    },
    {
     "name": "stderr",
     "output_type": "stream",
     "text": [
      "bruteForceKnn is deprecated; call bfKnn instead\n"
     ]
    },
    {
     "name": "stdout",
     "output_type": "stream",
     "text": [
      "Jaccard distance computing time cost: 550.8140542507172\n",
      "Reliability: 0.992\n",
      "\u001b[32mMean Purity: 0.03921\u001b[0m\n",
      "\u001b[34mThere are 3 clusters with 4 cameras\u001b[0m\n",
      "\u001b[34mThere are 3 clusters with 5 cameras\u001b[0m\n",
      "\u001b[34mThere are 3 clusters with 6 cameras\u001b[0m\n",
      "\u001b[34mThere are 2 clusters with 7 cameras\u001b[0m\n",
      "\u001b[34mThere are 3 clusters with 8 cameras\u001b[0m\n",
      "\u001b[34mThere are 1 clusters with 9 cameras\u001b[0m\n",
      "\u001b[34mThere are 1 clusters with 10 cameras\u001b[0m\n",
      "\u001b[34mThere are 2 clusters with 12 cameras\u001b[0m\n",
      "\u001b[34mThere are 1 clusters with 14 cameras\u001b[0m\n",
      "\u001b[34mThere are 1 clusters with 16 cameras\u001b[0m\n",
      "\u001b[34mThere are 1 clusters with 17 cameras\u001b[0m\n",
      "\u001b[34mThere are 2 clusters with 18 cameras\u001b[0m\n",
      "\u001b[34mThere are 1 clusters with 35 cameras\u001b[0m\n",
      "\u001b[34mThere are 1 clusters with 43 cameras\u001b[0m\n",
      "\u001b[34mThere are 1 clusters with 44 cameras\u001b[0m\n",
      "\u001b[34mThere are 1 clusters with 46 cameras\u001b[0m\n",
      "\u001b[34mThere are 1 clusters with 50 cameras\u001b[0m\n",
      "\u001b[34mThere are 1 clusters with 52 cameras\u001b[0m\n",
      "\u001b[34mThere are 1 clusters with 53 cameras\u001b[0m\n",
      "\u001b[34mThere are 1 clusters with 54 cameras\u001b[0m\n",
      "\u001b[34mThere are 3 clusters with 55 cameras\u001b[0m\n",
      "\u001b[34mThere are 1 clusters with 56 cameras\u001b[0m\n",
      "\u001b[34mThere are 6 clusters with 57 cameras\u001b[0m\n",
      "\u001b[34mThere are 5 clusters with 58 cameras\u001b[0m\n",
      "\u001b[34mThere are 3 clusters with 59 cameras\u001b[0m\n",
      "\u001b[34mThere are 8 clusters with 60 cameras\u001b[0m\n",
      "\u001b[34mThere are 14 clusters with 61 cameras\u001b[0m\n",
      "\u001b[34mThere are 18 clusters with 62 cameras\u001b[0m\n",
      "\u001b[34mThere are 42 clusters with 63 cameras\u001b[0m\n",
      "\u001b[34mThere are 400 clusters with 64 cameras\u001b[0m\n",
      "\u001b[34mThere are 3 clusters with 66 cameras\u001b[0m\n",
      "\u001b[34mThere are 1 clusters with 68 cameras\u001b[0m\n",
      "\u001b[34mThere are 1 clusters with 69 cameras\u001b[0m\n",
      "\u001b[34mThere are 1 clusters with 73 cameras\u001b[0m\n",
      "\u001b[34mThere are 1 clusters with 106 cameras\u001b[0m\n",
      "\u001b[34mThere are 1 clusters with 109 cameras\u001b[0m\n",
      "\u001b[34mThere are 1 clusters with 116 cameras\u001b[0m\n",
      "\u001b[34mThere are 1 clusters with 118 cameras\u001b[0m\n",
      "\u001b[34mThere are 1 clusters with 121 cameras\u001b[0m\n",
      "\u001b[34mThere are 1 clusters with 122 cameras\u001b[0m\n",
      "\u001b[34mThere are 3 clusters with 123 cameras\u001b[0m\n",
      "\u001b[34mThere are 3 clusters with 124 cameras\u001b[0m\n",
      "\u001b[34mThere are 2 clusters with 126 cameras\u001b[0m\n",
      "\u001b[34mThere are 3 clusters with 127 cameras\u001b[0m\n",
      "\u001b[34mThere are 11 clusters with 128 cameras\u001b[0m\n",
      "\u001b[34mThere are 1 clusters with 131 cameras\u001b[0m\n",
      "\u001b[34mThere are 1 clusters with 134 cameras\u001b[0m\n",
      "\u001b[34mThere are 1 clusters with 187 cameras\u001b[0m\n",
      "\u001b[34mThere are 2 clusters with 188 cameras\u001b[0m\n",
      "\u001b[34mThere are 1 clusters with 190 cameras\u001b[0m\n",
      "\u001b[34mThere are 1 clusters with 192 cameras\u001b[0m\n",
      "\u001b[34mThere are 1 clusters with 338 cameras\u001b[0m\n",
      "\u001b[34mThere are 1 clusters with 361 cameras\u001b[0m\n",
      "Number of classes: 574\n",
      "\u001b[36mLearning Rate: 0.000350\u001b[0m\n",
      "encontrou modelos vgg16. Carregando...\n",
      "encontrou modelos resnet50. Carregando...\n",
      "encontrou modelos osnet. Carregando...\n",
      "encontrou modelos densenet121. Carregando...\n",
      "\u001b[33mValidating online vgg16 ...\u001b[0m\n",
      "Features extracted in 82.22 seconds\n",
      "Features extracted in 153.60 seconds\n",
      "Computing CMC and mAP ...\n",
      "** Results **\n",
      "mAP: 70.12%\n",
      "CMC curve\n",
      "Rank-1  : 75.96%\n",
      "Rank-5  : 91.27%\n",
      "Rank-10 : 94.82%\n",
      "Rank-20 : 96.79%\n",
      "\u001b[33mValidating momentum vgg16 ...\u001b[0m\n",
      "Features extracted in 81.09 seconds\n",
      "Features extracted in 148.91 seconds\n",
      "Computing CMC and mAP ...\n",
      "** Results **\n",
      "mAP: 66.17%\n",
      "CMC curve\n",
      "Rank-1  : 60.22%\n",
      "Rank-5  : 85.69%\n",
      "Rank-10 : 92.76%\n",
      "Rank-20 : 97.47%\n",
      "\u001b[33mValidating online resnet50 ...\u001b[0m\n",
      "Features extracted in 80.50 seconds\n",
      "Features extracted in 150.29 seconds\n",
      "Computing CMC and mAP ...\n",
      "** Results **\n",
      "mAP: 67.50%\n",
      "CMC curve\n",
      "Rank-1  : 55.02%\n",
      "Rank-5  : 80.54%\n",
      "Rank-10 : 89.57%\n",
      "Rank-20 : 96.21%\n",
      "\u001b[33mValidating momentum resnet50 ...\u001b[0m\n",
      "Features extracted in 80.58 seconds\n",
      "Features extracted in 149.64 seconds\n",
      "Computing CMC and mAP ...\n",
      "** Results **\n",
      "mAP: 66.53%\n",
      "CMC curve\n",
      "Rank-1  : 51.40%\n",
      "Rank-5  : 82.97%\n",
      "Rank-10 : 92.60%\n",
      "Rank-20 : 97.67%\n",
      "\u001b[33mValidating online osnet ...\u001b[0m\n",
      "Features extracted in 79.24 seconds\n",
      "Features extracted in 145.67 seconds\n",
      "Computing CMC and mAP ...\n",
      "** Results **\n",
      "mAP: 70.98%\n",
      "CMC curve\n",
      "Rank-1  : 66.36%\n",
      "Rank-5  : 91.56%\n",
      "Rank-10 : 96.56%\n",
      "Rank-20 : 99.07%\n",
      "\u001b[33mValidating momentum osnet ...\u001b[0m\n",
      "Features extracted in 79.70 seconds\n",
      "Features extracted in 147.92 seconds\n",
      "Computing CMC and mAP ...\n",
      "** Results **\n",
      "mAP: 64.56%\n",
      "CMC curve\n",
      "Rank-1  : 55.77%\n",
      "Rank-5  : 86.08%\n",
      "Rank-10 : 94.11%\n",
      "Rank-20 : 97.92%\n",
      "\u001b[33mValidating online densenet121 ...\u001b[0m\n",
      "Features extracted in 76.63 seconds\n",
      "Features extracted in 151.92 seconds\n",
      "Computing CMC and mAP ...\n",
      "** Results **\n",
      "mAP: 69.32%\n",
      "CMC curve\n",
      "Rank-1  : 61.53%\n",
      "Rank-5  : 85.89%\n",
      "Rank-10 : 93.66%\n",
      "Rank-20 : 97.66%\n",
      "\u001b[33mValidating momentum densenet121 ...\u001b[0m\n",
      "Features extracted in 80.46 seconds\n",
      "Features extracted in 156.68 seconds\n",
      "Computing CMC and mAP ...\n",
      "** Results **\n",
      "mAP: 66.02%\n",
      "CMC curve\n",
      "Rank-1  : 63.00%\n",
      "Rank-5  : 91.00%\n",
      "Rank-10 : 96.36%\n",
      "Rank-20 : 98.94%\n",
      "\u001b[33mValidating ensembled with online models ...\u001b[0m\n",
      "Computing CMC and mAP ...\n",
      "** Results **\n",
      "mAP: 69.73%\n",
      "Ranks:\n",
      "Rank-1  : 63.31%\n",
      "Rank-5  : 83.51%\n",
      "Rank-10 : 91.32%\n",
      "\u001b[33mValidating ensembled with momentum models ...\u001b[0m\n",
      "Computing CMC and mAP ...\n",
      "** Results **\n",
      "mAP: 65.40%\n",
      "Ranks:\n",
      "Rank-1  : 60.95%\n",
      "Rank-5  : 84.80%\n",
      "Rank-10 : 92.04%\n",
      "###============ Iteration number 61/90 ============###\n",
      "Extracting Online Features for vgg16 ...\n",
      "Features extracted in 249.63 seconds\n",
      "Computing jaccard distance...\n"
     ]
    },
    {
     "name": "stderr",
     "output_type": "stream",
     "text": [
      "bruteForceKnn is deprecated; call bfKnn instead\n"
     ]
    },
    {
     "name": "stdout",
     "output_type": "stream",
     "text": [
      "Jaccard distance computing time cost: 541.2155528068542\n",
      "Extracting Online Features for resnet50 ...\n",
      "Features extracted in 250.96 seconds\n",
      "Computing jaccard distance...\n"
     ]
    },
    {
     "name": "stderr",
     "output_type": "stream",
     "text": [
      "bruteForceKnn is deprecated; call bfKnn instead\n"
     ]
    },
    {
     "name": "stdout",
     "output_type": "stream",
     "text": [
      "Jaccard distance computing time cost: 544.1707684993744\n",
      "Extracting Online Features for osnet ...\n",
      "Features extracted in 248.57 seconds\n",
      "Computing jaccard distance...\n"
     ]
    },
    {
     "name": "stderr",
     "output_type": "stream",
     "text": [
      "bruteForceKnn is deprecated; call bfKnn instead\n"
     ]
    },
    {
     "name": "stdout",
     "output_type": "stream",
     "text": [
      "Jaccard distance computing time cost: 516.6428015232086\n",
      "Extracting Online Features for densenet121 ...\n",
      "Features extracted in 252.22 seconds\n",
      "Computing jaccard distance...\n"
     ]
    },
    {
     "name": "stderr",
     "output_type": "stream",
     "text": [
      "bruteForceKnn is deprecated; call bfKnn instead\n"
     ]
    },
    {
     "name": "stdout",
     "output_type": "stream",
     "text": [
      "Jaccard distance computing time cost: 546.9658374786377\n",
      "Reliability: 0.992\n",
      "\u001b[32mMean Purity: 0.03921\u001b[0m\n",
      "\u001b[34mThere are 3 clusters with 4 cameras\u001b[0m\n",
      "\u001b[34mThere are 3 clusters with 5 cameras\u001b[0m\n",
      "\u001b[34mThere are 3 clusters with 6 cameras\u001b[0m\n",
      "\u001b[34mThere are 2 clusters with 7 cameras\u001b[0m\n",
      "\u001b[34mThere are 3 clusters with 8 cameras\u001b[0m\n",
      "\u001b[34mThere are 1 clusters with 9 cameras\u001b[0m\n",
      "\u001b[34mThere are 1 clusters with 10 cameras\u001b[0m\n",
      "\u001b[34mThere are 2 clusters with 12 cameras\u001b[0m\n",
      "\u001b[34mThere are 1 clusters with 14 cameras\u001b[0m\n",
      "\u001b[34mThere are 1 clusters with 16 cameras\u001b[0m\n",
      "\u001b[34mThere are 1 clusters with 17 cameras\u001b[0m\n",
      "\u001b[34mThere are 2 clusters with 18 cameras\u001b[0m\n",
      "\u001b[34mThere are 1 clusters with 35 cameras\u001b[0m\n",
      "\u001b[34mThere are 1 clusters with 43 cameras\u001b[0m\n",
      "\u001b[34mThere are 1 clusters with 44 cameras\u001b[0m\n",
      "\u001b[34mThere are 1 clusters with 46 cameras\u001b[0m\n",
      "\u001b[34mThere are 1 clusters with 50 cameras\u001b[0m\n",
      "\u001b[34mThere are 1 clusters with 52 cameras\u001b[0m\n",
      "\u001b[34mThere are 1 clusters with 53 cameras\u001b[0m\n",
      "\u001b[34mThere are 1 clusters with 54 cameras\u001b[0m\n",
      "\u001b[34mThere are 3 clusters with 55 cameras\u001b[0m\n",
      "\u001b[34mThere are 1 clusters with 56 cameras\u001b[0m\n",
      "\u001b[34mThere are 6 clusters with 57 cameras\u001b[0m\n",
      "\u001b[34mThere are 5 clusters with 58 cameras\u001b[0m\n",
      "\u001b[34mThere are 3 clusters with 59 cameras\u001b[0m\n",
      "\u001b[34mThere are 8 clusters with 60 cameras\u001b[0m\n",
      "\u001b[34mThere are 14 clusters with 61 cameras\u001b[0m\n",
      "\u001b[34mThere are 18 clusters with 62 cameras\u001b[0m\n",
      "\u001b[34mThere are 42 clusters with 63 cameras\u001b[0m\n",
      "\u001b[34mThere are 400 clusters with 64 cameras\u001b[0m\n",
      "\u001b[34mThere are 3 clusters with 66 cameras\u001b[0m\n",
      "\u001b[34mThere are 1 clusters with 68 cameras\u001b[0m\n",
      "\u001b[34mThere are 1 clusters with 69 cameras\u001b[0m\n",
      "\u001b[34mThere are 1 clusters with 73 cameras\u001b[0m\n",
      "\u001b[34mThere are 1 clusters with 106 cameras\u001b[0m\n",
      "\u001b[34mThere are 1 clusters with 109 cameras\u001b[0m\n",
      "\u001b[34mThere are 1 clusters with 116 cameras\u001b[0m\n",
      "\u001b[34mThere are 1 clusters with 118 cameras\u001b[0m\n",
      "\u001b[34mThere are 1 clusters with 121 cameras\u001b[0m\n",
      "\u001b[34mThere are 1 clusters with 122 cameras\u001b[0m\n",
      "\u001b[34mThere are 3 clusters with 123 cameras\u001b[0m\n",
      "\u001b[34mThere are 3 clusters with 124 cameras\u001b[0m\n",
      "\u001b[34mThere are 2 clusters with 126 cameras\u001b[0m\n",
      "\u001b[34mThere are 3 clusters with 127 cameras\u001b[0m\n",
      "\u001b[34mThere are 11 clusters with 128 cameras\u001b[0m\n",
      "\u001b[34mThere are 1 clusters with 131 cameras\u001b[0m\n",
      "\u001b[34mThere are 1 clusters with 134 cameras\u001b[0m\n",
      "\u001b[34mThere are 1 clusters with 187 cameras\u001b[0m\n",
      "\u001b[34mThere are 2 clusters with 188 cameras\u001b[0m\n",
      "\u001b[34mThere are 1 clusters with 190 cameras\u001b[0m\n",
      "\u001b[34mThere are 1 clusters with 192 cameras\u001b[0m\n",
      "\u001b[34mThere are 1 clusters with 338 cameras\u001b[0m\n",
      "\u001b[34mThere are 1 clusters with 361 cameras\u001b[0m\n",
      "Number of classes: 574\n",
      "\u001b[36mLearning Rate: 0.000350\u001b[0m\n",
      "encontrou modelos vgg16. Carregando...\n",
      "encontrou modelos resnet50. Carregando...\n",
      "encontrou modelos osnet. Carregando...\n",
      "encontrou modelos densenet121. Carregando...\n",
      "###============ Iteration number 62/90 ============###\n",
      "Extracting Online Features for vgg16 ...\n",
      "Features extracted in 254.10 seconds\n",
      "Computing jaccard distance...\n"
     ]
    },
    {
     "name": "stderr",
     "output_type": "stream",
     "text": [
      "bruteForceKnn is deprecated; call bfKnn instead\n"
     ]
    },
    {
     "name": "stdout",
     "output_type": "stream",
     "text": [
      "Jaccard distance computing time cost: 543.644184589386\n",
      "Extracting Online Features for resnet50 ...\n",
      "Features extracted in 245.21 seconds\n",
      "Computing jaccard distance...\n"
     ]
    },
    {
     "name": "stderr",
     "output_type": "stream",
     "text": [
      "bruteForceKnn is deprecated; call bfKnn instead\n"
     ]
    },
    {
     "name": "stdout",
     "output_type": "stream",
     "text": [
      "Jaccard distance computing time cost: 542.7699055671692\n",
      "Extracting Online Features for osnet ...\n",
      "Features extracted in 242.19 seconds\n",
      "Computing jaccard distance...\n"
     ]
    },
    {
     "name": "stderr",
     "output_type": "stream",
     "text": [
      "bruteForceKnn is deprecated; call bfKnn instead\n"
     ]
    },
    {
     "name": "stdout",
     "output_type": "stream",
     "text": [
      "Jaccard distance computing time cost: 530.4295184612274\n",
      "Extracting Online Features for densenet121 ...\n",
      "Features extracted in 253.98 seconds\n",
      "Computing jaccard distance...\n"
     ]
    },
    {
     "name": "stderr",
     "output_type": "stream",
     "text": [
      "bruteForceKnn is deprecated; call bfKnn instead\n"
     ]
    },
    {
     "name": "stdout",
     "output_type": "stream",
     "text": [
      "Jaccard distance computing time cost: 544.6229374408722\n",
      "Reliability: 0.992\n",
      "\u001b[32mMean Purity: 0.03921\u001b[0m\n",
      "\u001b[34mThere are 3 clusters with 4 cameras\u001b[0m\n",
      "\u001b[34mThere are 3 clusters with 5 cameras\u001b[0m\n",
      "\u001b[34mThere are 3 clusters with 6 cameras\u001b[0m\n",
      "\u001b[34mThere are 2 clusters with 7 cameras\u001b[0m\n",
      "\u001b[34mThere are 3 clusters with 8 cameras\u001b[0m\n",
      "\u001b[34mThere are 1 clusters with 9 cameras\u001b[0m\n",
      "\u001b[34mThere are 1 clusters with 10 cameras\u001b[0m\n",
      "\u001b[34mThere are 2 clusters with 12 cameras\u001b[0m\n",
      "\u001b[34mThere are 1 clusters with 14 cameras\u001b[0m\n",
      "\u001b[34mThere are 1 clusters with 16 cameras\u001b[0m\n",
      "\u001b[34mThere are 1 clusters with 17 cameras\u001b[0m\n",
      "\u001b[34mThere are 2 clusters with 18 cameras\u001b[0m\n",
      "\u001b[34mThere are 1 clusters with 35 cameras\u001b[0m\n",
      "\u001b[34mThere are 1 clusters with 43 cameras\u001b[0m\n",
      "\u001b[34mThere are 1 clusters with 44 cameras\u001b[0m\n",
      "\u001b[34mThere are 1 clusters with 46 cameras\u001b[0m\n",
      "\u001b[34mThere are 1 clusters with 50 cameras\u001b[0m\n",
      "\u001b[34mThere are 1 clusters with 52 cameras\u001b[0m\n",
      "\u001b[34mThere are 1 clusters with 53 cameras\u001b[0m\n",
      "\u001b[34mThere are 1 clusters with 54 cameras\u001b[0m\n",
      "\u001b[34mThere are 3 clusters with 55 cameras\u001b[0m\n",
      "\u001b[34mThere are 1 clusters with 56 cameras\u001b[0m\n",
      "\u001b[34mThere are 6 clusters with 57 cameras\u001b[0m\n",
      "\u001b[34mThere are 5 clusters with 58 cameras\u001b[0m\n",
      "\u001b[34mThere are 3 clusters with 59 cameras\u001b[0m\n",
      "\u001b[34mThere are 8 clusters with 60 cameras\u001b[0m\n",
      "\u001b[34mThere are 14 clusters with 61 cameras\u001b[0m\n",
      "\u001b[34mThere are 18 clusters with 62 cameras\u001b[0m\n",
      "\u001b[34mThere are 42 clusters with 63 cameras\u001b[0m\n",
      "\u001b[34mThere are 400 clusters with 64 cameras\u001b[0m\n",
      "\u001b[34mThere are 3 clusters with 66 cameras\u001b[0m\n",
      "\u001b[34mThere are 1 clusters with 68 cameras\u001b[0m\n",
      "\u001b[34mThere are 1 clusters with 69 cameras\u001b[0m\n",
      "\u001b[34mThere are 1 clusters with 73 cameras\u001b[0m\n",
      "\u001b[34mThere are 1 clusters with 106 cameras\u001b[0m\n",
      "\u001b[34mThere are 1 clusters with 109 cameras\u001b[0m\n",
      "\u001b[34mThere are 1 clusters with 116 cameras\u001b[0m\n",
      "\u001b[34mThere are 1 clusters with 118 cameras\u001b[0m\n",
      "\u001b[34mThere are 1 clusters with 121 cameras\u001b[0m\n",
      "\u001b[34mThere are 1 clusters with 122 cameras\u001b[0m\n",
      "\u001b[34mThere are 3 clusters with 123 cameras\u001b[0m\n",
      "\u001b[34mThere are 3 clusters with 124 cameras\u001b[0m\n",
      "\u001b[34mThere are 2 clusters with 126 cameras\u001b[0m\n",
      "\u001b[34mThere are 3 clusters with 127 cameras\u001b[0m\n",
      "\u001b[34mThere are 11 clusters with 128 cameras\u001b[0m\n",
      "\u001b[34mThere are 1 clusters with 131 cameras\u001b[0m\n",
      "\u001b[34mThere are 1 clusters with 134 cameras\u001b[0m\n",
      "\u001b[34mThere are 1 clusters with 187 cameras\u001b[0m\n",
      "\u001b[34mThere are 2 clusters with 188 cameras\u001b[0m\n",
      "\u001b[34mThere are 1 clusters with 190 cameras\u001b[0m\n",
      "\u001b[34mThere are 1 clusters with 192 cameras\u001b[0m\n",
      "\u001b[34mThere are 1 clusters with 338 cameras\u001b[0m\n",
      "\u001b[34mThere are 1 clusters with 361 cameras\u001b[0m\n",
      "Number of classes: 574\n",
      "\u001b[36mLearning Rate: 0.000350\u001b[0m\n",
      "encontrou modelos vgg16. Carregando...\n",
      "encontrou modelos resnet50. Carregando...\n",
      "encontrou modelos osnet. Carregando...\n",
      "encontrou modelos densenet121. Carregando...\n",
      "###============ Iteration number 63/90 ============###\n",
      "Extracting Online Features for vgg16 ...\n",
      "Features extracted in 247.34 seconds\n",
      "Computing jaccard distance...\n"
     ]
    },
    {
     "name": "stderr",
     "output_type": "stream",
     "text": [
      "bruteForceKnn is deprecated; call bfKnn instead\n"
     ]
    },
    {
     "name": "stdout",
     "output_type": "stream",
     "text": [
      "Jaccard distance computing time cost: 529.8717968463898\n",
      "Extracting Online Features for resnet50 ...\n",
      "Features extracted in 247.65 seconds\n",
      "Computing jaccard distance...\n"
     ]
    },
    {
     "name": "stderr",
     "output_type": "stream",
     "text": [
      "bruteForceKnn is deprecated; call bfKnn instead\n"
     ]
    },
    {
     "name": "stdout",
     "output_type": "stream",
     "text": [
      "Jaccard distance computing time cost: 546.0413475036621\n",
      "Extracting Online Features for osnet ...\n",
      "Features extracted in 241.65 seconds\n",
      "Computing jaccard distance...\n"
     ]
    },
    {
     "name": "stderr",
     "output_type": "stream",
     "text": [
      "bruteForceKnn is deprecated; call bfKnn instead\n"
     ]
    },
    {
     "name": "stdout",
     "output_type": "stream",
     "text": [
      "Jaccard distance computing time cost: 534.1355504989624\n",
      "Extracting Online Features for densenet121 ...\n",
      "Features extracted in 237.57 seconds\n",
      "Computing jaccard distance...\n"
     ]
    },
    {
     "name": "stderr",
     "output_type": "stream",
     "text": [
      "bruteForceKnn is deprecated; call bfKnn instead\n"
     ]
    },
    {
     "name": "stdout",
     "output_type": "stream",
     "text": [
      "Jaccard distance computing time cost: 533.9061210155487\n",
      "Reliability: 0.992\n",
      "\u001b[32mMean Purity: 0.03921\u001b[0m\n",
      "\u001b[34mThere are 3 clusters with 4 cameras\u001b[0m\n",
      "\u001b[34mThere are 3 clusters with 5 cameras\u001b[0m\n",
      "\u001b[34mThere are 3 clusters with 6 cameras\u001b[0m\n",
      "\u001b[34mThere are 2 clusters with 7 cameras\u001b[0m\n",
      "\u001b[34mThere are 3 clusters with 8 cameras\u001b[0m\n",
      "\u001b[34mThere are 1 clusters with 9 cameras\u001b[0m\n",
      "\u001b[34mThere are 1 clusters with 10 cameras\u001b[0m\n",
      "\u001b[34mThere are 2 clusters with 12 cameras\u001b[0m\n",
      "\u001b[34mThere are 1 clusters with 14 cameras\u001b[0m\n",
      "\u001b[34mThere are 1 clusters with 16 cameras\u001b[0m\n",
      "\u001b[34mThere are 1 clusters with 17 cameras\u001b[0m\n",
      "\u001b[34mThere are 2 clusters with 18 cameras\u001b[0m\n",
      "\u001b[34mThere are 1 clusters with 35 cameras\u001b[0m\n",
      "\u001b[34mThere are 1 clusters with 43 cameras\u001b[0m\n",
      "\u001b[34mThere are 1 clusters with 44 cameras\u001b[0m\n",
      "\u001b[34mThere are 1 clusters with 46 cameras\u001b[0m\n",
      "\u001b[34mThere are 1 clusters with 50 cameras\u001b[0m\n",
      "\u001b[34mThere are 1 clusters with 52 cameras\u001b[0m\n",
      "\u001b[34mThere are 1 clusters with 53 cameras\u001b[0m\n",
      "\u001b[34mThere are 1 clusters with 54 cameras\u001b[0m\n",
      "\u001b[34mThere are 3 clusters with 55 cameras\u001b[0m\n",
      "\u001b[34mThere are 1 clusters with 56 cameras\u001b[0m\n",
      "\u001b[34mThere are 6 clusters with 57 cameras\u001b[0m\n",
      "\u001b[34mThere are 5 clusters with 58 cameras\u001b[0m\n",
      "\u001b[34mThere are 3 clusters with 59 cameras\u001b[0m\n",
      "\u001b[34mThere are 8 clusters with 60 cameras\u001b[0m\n",
      "\u001b[34mThere are 14 clusters with 61 cameras\u001b[0m\n",
      "\u001b[34mThere are 18 clusters with 62 cameras\u001b[0m\n",
      "\u001b[34mThere are 42 clusters with 63 cameras\u001b[0m\n",
      "\u001b[34mThere are 400 clusters with 64 cameras\u001b[0m\n",
      "\u001b[34mThere are 3 clusters with 66 cameras\u001b[0m\n",
      "\u001b[34mThere are 1 clusters with 68 cameras\u001b[0m\n",
      "\u001b[34mThere are 1 clusters with 69 cameras\u001b[0m\n",
      "\u001b[34mThere are 1 clusters with 73 cameras\u001b[0m\n",
      "\u001b[34mThere are 1 clusters with 106 cameras\u001b[0m\n",
      "\u001b[34mThere are 1 clusters with 109 cameras\u001b[0m\n",
      "\u001b[34mThere are 1 clusters with 116 cameras\u001b[0m\n",
      "\u001b[34mThere are 1 clusters with 118 cameras\u001b[0m\n",
      "\u001b[34mThere are 1 clusters with 121 cameras\u001b[0m\n",
      "\u001b[34mThere are 1 clusters with 122 cameras\u001b[0m\n",
      "\u001b[34mThere are 3 clusters with 123 cameras\u001b[0m\n",
      "\u001b[34mThere are 3 clusters with 124 cameras\u001b[0m\n",
      "\u001b[34mThere are 2 clusters with 126 cameras\u001b[0m\n",
      "\u001b[34mThere are 3 clusters with 127 cameras\u001b[0m\n",
      "\u001b[34mThere are 11 clusters with 128 cameras\u001b[0m\n",
      "\u001b[34mThere are 1 clusters with 131 cameras\u001b[0m\n",
      "\u001b[34mThere are 1 clusters with 134 cameras\u001b[0m\n",
      "\u001b[34mThere are 1 clusters with 187 cameras\u001b[0m\n",
      "\u001b[34mThere are 2 clusters with 188 cameras\u001b[0m\n",
      "\u001b[34mThere are 1 clusters with 190 cameras\u001b[0m\n",
      "\u001b[34mThere are 1 clusters with 192 cameras\u001b[0m\n",
      "\u001b[34mThere are 1 clusters with 338 cameras\u001b[0m\n",
      "\u001b[34mThere are 1 clusters with 361 cameras\u001b[0m\n",
      "Number of classes: 574\n",
      "\u001b[36mLearning Rate: 0.000350\u001b[0m\n",
      "encontrou modelos vgg16. Carregando...\n",
      "encontrou modelos resnet50. Carregando...\n",
      "encontrou modelos osnet. Carregando...\n",
      "encontrou modelos densenet121. Carregando...\n",
      "###============ Iteration number 64/90 ============###\n",
      "Extracting Online Features for vgg16 ...\n",
      "Features extracted in 249.70 seconds\n",
      "Computing jaccard distance...\n"
     ]
    },
    {
     "name": "stderr",
     "output_type": "stream",
     "text": [
      "bruteForceKnn is deprecated; call bfKnn instead\n"
     ]
    },
    {
     "name": "stdout",
     "output_type": "stream",
     "text": [
      "Jaccard distance computing time cost: 532.5927147865295\n",
      "Extracting Online Features for resnet50 ...\n",
      "Features extracted in 256.61 seconds\n",
      "Computing jaccard distance...\n"
     ]
    },
    {
     "name": "stderr",
     "output_type": "stream",
     "text": [
      "bruteForceKnn is deprecated; call bfKnn instead\n"
     ]
    },
    {
     "name": "stdout",
     "output_type": "stream",
     "text": [
      "Jaccard distance computing time cost: 546.515655040741\n",
      "Extracting Online Features for osnet ...\n",
      "Features extracted in 242.35 seconds\n",
      "Computing jaccard distance...\n"
     ]
    },
    {
     "name": "stderr",
     "output_type": "stream",
     "text": [
      "bruteForceKnn is deprecated; call bfKnn instead\n"
     ]
    },
    {
     "name": "stdout",
     "output_type": "stream",
     "text": [
      "Jaccard distance computing time cost: 582.3989186286926\n",
      "Extracting Online Features for densenet121 ...\n",
      "Features extracted in 250.47 seconds\n",
      "Computing jaccard distance...\n"
     ]
    },
    {
     "name": "stderr",
     "output_type": "stream",
     "text": [
      "bruteForceKnn is deprecated; call bfKnn instead\n"
     ]
    },
    {
     "name": "stdout",
     "output_type": "stream",
     "text": [
      "Jaccard distance computing time cost: 698.9005513191223\n",
      "Reliability: 0.992\n",
      "\u001b[32mMean Purity: 0.03921\u001b[0m\n",
      "\u001b[34mThere are 3 clusters with 4 cameras\u001b[0m\n",
      "\u001b[34mThere are 3 clusters with 5 cameras\u001b[0m\n",
      "\u001b[34mThere are 3 clusters with 6 cameras\u001b[0m\n",
      "\u001b[34mThere are 2 clusters with 7 cameras\u001b[0m\n",
      "\u001b[34mThere are 3 clusters with 8 cameras\u001b[0m\n",
      "\u001b[34mThere are 1 clusters with 9 cameras\u001b[0m\n",
      "\u001b[34mThere are 1 clusters with 10 cameras\u001b[0m\n",
      "\u001b[34mThere are 2 clusters with 12 cameras\u001b[0m\n",
      "\u001b[34mThere are 1 clusters with 14 cameras\u001b[0m\n",
      "\u001b[34mThere are 1 clusters with 16 cameras\u001b[0m\n",
      "\u001b[34mThere are 1 clusters with 17 cameras\u001b[0m\n",
      "\u001b[34mThere are 2 clusters with 18 cameras\u001b[0m\n",
      "\u001b[34mThere are 1 clusters with 35 cameras\u001b[0m\n",
      "\u001b[34mThere are 1 clusters with 43 cameras\u001b[0m\n",
      "\u001b[34mThere are 1 clusters with 44 cameras\u001b[0m\n",
      "\u001b[34mThere are 1 clusters with 46 cameras\u001b[0m\n",
      "\u001b[34mThere are 1 clusters with 50 cameras\u001b[0m\n",
      "\u001b[34mThere are 1 clusters with 52 cameras\u001b[0m\n",
      "\u001b[34mThere are 1 clusters with 53 cameras\u001b[0m\n",
      "\u001b[34mThere are 1 clusters with 54 cameras\u001b[0m\n",
      "\u001b[34mThere are 3 clusters with 55 cameras\u001b[0m\n",
      "\u001b[34mThere are 1 clusters with 56 cameras\u001b[0m\n",
      "\u001b[34mThere are 6 clusters with 57 cameras\u001b[0m\n",
      "\u001b[34mThere are 5 clusters with 58 cameras\u001b[0m\n",
      "\u001b[34mThere are 3 clusters with 59 cameras\u001b[0m\n",
      "\u001b[34mThere are 8 clusters with 60 cameras\u001b[0m\n",
      "\u001b[34mThere are 14 clusters with 61 cameras\u001b[0m\n",
      "\u001b[34mThere are 18 clusters with 62 cameras\u001b[0m\n",
      "\u001b[34mThere are 42 clusters with 63 cameras\u001b[0m\n",
      "\u001b[34mThere are 400 clusters with 64 cameras\u001b[0m\n",
      "\u001b[34mThere are 3 clusters with 66 cameras\u001b[0m\n",
      "\u001b[34mThere are 1 clusters with 68 cameras\u001b[0m\n",
      "\u001b[34mThere are 1 clusters with 69 cameras\u001b[0m\n",
      "\u001b[34mThere are 1 clusters with 73 cameras\u001b[0m\n",
      "\u001b[34mThere are 1 clusters with 106 cameras\u001b[0m\n",
      "\u001b[34mThere are 1 clusters with 109 cameras\u001b[0m\n",
      "\u001b[34mThere are 1 clusters with 116 cameras\u001b[0m\n",
      "\u001b[34mThere are 1 clusters with 118 cameras\u001b[0m\n",
      "\u001b[34mThere are 1 clusters with 121 cameras\u001b[0m\n",
      "\u001b[34mThere are 1 clusters with 122 cameras\u001b[0m\n",
      "\u001b[34mThere are 3 clusters with 123 cameras\u001b[0m\n",
      "\u001b[34mThere are 3 clusters with 124 cameras\u001b[0m\n",
      "\u001b[34mThere are 2 clusters with 126 cameras\u001b[0m\n",
      "\u001b[34mThere are 3 clusters with 127 cameras\u001b[0m\n",
      "\u001b[34mThere are 11 clusters with 128 cameras\u001b[0m\n",
      "\u001b[34mThere are 1 clusters with 131 cameras\u001b[0m\n",
      "\u001b[34mThere are 1 clusters with 134 cameras\u001b[0m\n",
      "\u001b[34mThere are 1 clusters with 187 cameras\u001b[0m\n",
      "\u001b[34mThere are 2 clusters with 188 cameras\u001b[0m\n",
      "\u001b[34mThere are 1 clusters with 190 cameras\u001b[0m\n",
      "\u001b[34mThere are 1 clusters with 192 cameras\u001b[0m\n",
      "\u001b[34mThere are 1 clusters with 338 cameras\u001b[0m\n",
      "\u001b[34mThere are 1 clusters with 361 cameras\u001b[0m\n",
      "Number of classes: 574\n",
      "\u001b[36mLearning Rate: 0.000350\u001b[0m\n",
      "encontrou modelos vgg16. Carregando...\n",
      "encontrou modelos resnet50. Carregando...\n",
      "encontrou modelos osnet. Carregando...\n",
      "encontrou modelos densenet121. Carregando...\n",
      "###============ Iteration number 65/90 ============###\n",
      "Extracting Online Features for vgg16 ...\n",
      "Features extracted in 250.89 seconds\n",
      "Computing jaccard distance...\n"
     ]
    },
    {
     "name": "stderr",
     "output_type": "stream",
     "text": [
      "bruteForceKnn is deprecated; call bfKnn instead\n"
     ]
    },
    {
     "name": "stdout",
     "output_type": "stream",
     "text": [
      "Jaccard distance computing time cost: 767.5005776882172\n",
      "Extracting Online Features for resnet50 ...\n",
      "Features extracted in 253.87 seconds\n",
      "Computing jaccard distance...\n"
     ]
    },
    {
     "name": "stderr",
     "output_type": "stream",
     "text": [
      "bruteForceKnn is deprecated; call bfKnn instead\n"
     ]
    },
    {
     "name": "stdout",
     "output_type": "stream",
     "text": [
      "Jaccard distance computing time cost: 772.3618407249451\n",
      "Extracting Online Features for osnet ...\n",
      "Features extracted in 245.70 seconds\n",
      "Computing jaccard distance...\n"
     ]
    },
    {
     "name": "stderr",
     "output_type": "stream",
     "text": [
      "bruteForceKnn is deprecated; call bfKnn instead\n"
     ]
    },
    {
     "name": "stdout",
     "output_type": "stream",
     "text": [
      "Jaccard distance computing time cost: 767.6286399364471\n",
      "Extracting Online Features for densenet121 ...\n",
      "Features extracted in 252.50 seconds\n",
      "Computing jaccard distance...\n"
     ]
    },
    {
     "name": "stderr",
     "output_type": "stream",
     "text": [
      "bruteForceKnn is deprecated; call bfKnn instead\n"
     ]
    },
    {
     "name": "stdout",
     "output_type": "stream",
     "text": [
      "Jaccard distance computing time cost: 778.4496710300446\n",
      "Reliability: 0.992\n",
      "\u001b[32mMean Purity: 0.03921\u001b[0m\n",
      "\u001b[34mThere are 3 clusters with 4 cameras\u001b[0m\n",
      "\u001b[34mThere are 3 clusters with 5 cameras\u001b[0m\n",
      "\u001b[34mThere are 3 clusters with 6 cameras\u001b[0m\n",
      "\u001b[34mThere are 2 clusters with 7 cameras\u001b[0m\n",
      "\u001b[34mThere are 3 clusters with 8 cameras\u001b[0m\n",
      "\u001b[34mThere are 1 clusters with 9 cameras\u001b[0m\n",
      "\u001b[34mThere are 1 clusters with 10 cameras\u001b[0m\n",
      "\u001b[34mThere are 2 clusters with 12 cameras\u001b[0m\n",
      "\u001b[34mThere are 1 clusters with 14 cameras\u001b[0m\n",
      "\u001b[34mThere are 1 clusters with 16 cameras\u001b[0m\n",
      "\u001b[34mThere are 1 clusters with 17 cameras\u001b[0m\n",
      "\u001b[34mThere are 2 clusters with 18 cameras\u001b[0m\n",
      "\u001b[34mThere are 1 clusters with 35 cameras\u001b[0m\n",
      "\u001b[34mThere are 1 clusters with 43 cameras\u001b[0m\n",
      "\u001b[34mThere are 1 clusters with 44 cameras\u001b[0m\n",
      "\u001b[34mThere are 1 clusters with 46 cameras\u001b[0m\n",
      "\u001b[34mThere are 1 clusters with 50 cameras\u001b[0m\n",
      "\u001b[34mThere are 1 clusters with 52 cameras\u001b[0m\n",
      "\u001b[34mThere are 1 clusters with 53 cameras\u001b[0m\n",
      "\u001b[34mThere are 1 clusters with 54 cameras\u001b[0m\n",
      "\u001b[34mThere are 3 clusters with 55 cameras\u001b[0m\n",
      "\u001b[34mThere are 1 clusters with 56 cameras\u001b[0m\n",
      "\u001b[34mThere are 6 clusters with 57 cameras\u001b[0m\n",
      "\u001b[34mThere are 5 clusters with 58 cameras\u001b[0m\n",
      "\u001b[34mThere are 3 clusters with 59 cameras\u001b[0m\n",
      "\u001b[34mThere are 8 clusters with 60 cameras\u001b[0m\n",
      "\u001b[34mThere are 14 clusters with 61 cameras\u001b[0m\n",
      "\u001b[34mThere are 18 clusters with 62 cameras\u001b[0m\n",
      "\u001b[34mThere are 42 clusters with 63 cameras\u001b[0m\n",
      "\u001b[34mThere are 400 clusters with 64 cameras\u001b[0m\n",
      "\u001b[34mThere are 3 clusters with 66 cameras\u001b[0m\n",
      "\u001b[34mThere are 1 clusters with 68 cameras\u001b[0m\n",
      "\u001b[34mThere are 1 clusters with 69 cameras\u001b[0m\n",
      "\u001b[34mThere are 1 clusters with 73 cameras\u001b[0m\n",
      "\u001b[34mThere are 1 clusters with 106 cameras\u001b[0m\n",
      "\u001b[34mThere are 1 clusters with 109 cameras\u001b[0m\n",
      "\u001b[34mThere are 1 clusters with 116 cameras\u001b[0m\n",
      "\u001b[34mThere are 1 clusters with 118 cameras\u001b[0m\n",
      "\u001b[34mThere are 1 clusters with 121 cameras\u001b[0m\n",
      "\u001b[34mThere are 1 clusters with 122 cameras\u001b[0m\n",
      "\u001b[34mThere are 3 clusters with 123 cameras\u001b[0m\n",
      "\u001b[34mThere are 3 clusters with 124 cameras\u001b[0m\n",
      "\u001b[34mThere are 2 clusters with 126 cameras\u001b[0m\n",
      "\u001b[34mThere are 3 clusters with 127 cameras\u001b[0m\n",
      "\u001b[34mThere are 11 clusters with 128 cameras\u001b[0m\n",
      "\u001b[34mThere are 1 clusters with 131 cameras\u001b[0m\n",
      "\u001b[34mThere are 1 clusters with 134 cameras\u001b[0m\n",
      "\u001b[34mThere are 1 clusters with 187 cameras\u001b[0m\n",
      "\u001b[34mThere are 2 clusters with 188 cameras\u001b[0m\n",
      "\u001b[34mThere are 1 clusters with 190 cameras\u001b[0m\n",
      "\u001b[34mThere are 1 clusters with 192 cameras\u001b[0m\n",
      "\u001b[34mThere are 1 clusters with 338 cameras\u001b[0m\n",
      "\u001b[34mThere are 1 clusters with 361 cameras\u001b[0m\n",
      "Number of classes: 574\n",
      "\u001b[36mLearning Rate: 0.000350\u001b[0m\n",
      "encontrou modelos vgg16. Carregando...\n",
      "encontrou modelos resnet50. Carregando...\n",
      "encontrou modelos osnet. Carregando...\n",
      "encontrou modelos densenet121. Carregando...\n",
      "\u001b[33mValidating online vgg16 ...\u001b[0m\n",
      "Features extracted in 83.09 seconds\n",
      "Features extracted in 153.77 seconds\n",
      "Computing CMC and mAP ...\n",
      "** Results **\n",
      "mAP: 70.12%\n",
      "CMC curve\n",
      "Rank-1  : 75.96%\n",
      "Rank-5  : 91.27%\n",
      "Rank-10 : 94.82%\n",
      "Rank-20 : 96.79%\n",
      "\u001b[33mValidating momentum vgg16 ...\u001b[0m\n",
      "Features extracted in 80.94 seconds\n",
      "Features extracted in 151.16 seconds\n",
      "Computing CMC and mAP ...\n",
      "** Results **\n",
      "mAP: 66.17%\n",
      "CMC curve\n",
      "Rank-1  : 60.22%\n",
      "Rank-5  : 85.69%\n",
      "Rank-10 : 92.76%\n",
      "Rank-20 : 97.47%\n",
      "\u001b[33mValidating online resnet50 ...\u001b[0m\n",
      "Features extracted in 79.65 seconds\n",
      "Features extracted in 153.85 seconds\n",
      "Computing CMC and mAP ...\n",
      "** Results **\n",
      "mAP: 67.50%\n",
      "CMC curve\n",
      "Rank-1  : 55.02%\n",
      "Rank-5  : 80.54%\n",
      "Rank-10 : 89.57%\n",
      "Rank-20 : 96.21%\n",
      "\u001b[33mValidating momentum resnet50 ...\u001b[0m\n",
      "Features extracted in 83.08 seconds\n",
      "Features extracted in 152.92 seconds\n",
      "Computing CMC and mAP ...\n",
      "** Results **\n",
      "mAP: 66.53%\n",
      "CMC curve\n",
      "Rank-1  : 51.40%\n",
      "Rank-5  : 82.97%\n",
      "Rank-10 : 92.60%\n",
      "Rank-20 : 97.67%\n",
      "\u001b[33mValidating online osnet ...\u001b[0m\n",
      "Features extracted in 79.97 seconds\n",
      "Features extracted in 154.44 seconds\n",
      "Computing CMC and mAP ...\n",
      "** Results **\n",
      "mAP: 70.98%\n",
      "CMC curve\n",
      "Rank-1  : 66.36%\n",
      "Rank-5  : 91.56%\n",
      "Rank-10 : 96.56%\n",
      "Rank-20 : 99.07%\n",
      "\u001b[33mValidating momentum osnet ...\u001b[0m\n",
      "Features extracted in 80.94 seconds\n",
      "Features extracted in 151.74 seconds\n",
      "Computing CMC and mAP ...\n",
      "** Results **\n",
      "mAP: 64.56%\n",
      "CMC curve\n",
      "Rank-1  : 55.77%\n",
      "Rank-5  : 86.08%\n",
      "Rank-10 : 94.11%\n",
      "Rank-20 : 97.92%\n",
      "\u001b[33mValidating online densenet121 ...\u001b[0m\n",
      "Features extracted in 80.50 seconds\n",
      "Features extracted in 147.55 seconds\n",
      "Computing CMC and mAP ...\n",
      "** Results **\n",
      "mAP: 69.32%\n",
      "CMC curve\n",
      "Rank-1  : 61.53%\n",
      "Rank-5  : 85.89%\n",
      "Rank-10 : 93.66%\n",
      "Rank-20 : 97.66%\n",
      "\u001b[33mValidating momentum densenet121 ...\u001b[0m\n",
      "Features extracted in 80.11 seconds\n",
      "Features extracted in 152.27 seconds\n",
      "Computing CMC and mAP ...\n",
      "** Results **\n",
      "mAP: 66.02%\n",
      "CMC curve\n",
      "Rank-1  : 63.00%\n",
      "Rank-5  : 91.00%\n",
      "Rank-10 : 96.36%\n",
      "Rank-20 : 98.94%\n",
      "\u001b[33mValidating ensembled with online models ...\u001b[0m\n",
      "Computing CMC and mAP ...\n",
      "** Results **\n",
      "mAP: 69.73%\n",
      "Ranks:\n",
      "Rank-1  : 63.31%\n",
      "Rank-5  : 83.51%\n",
      "Rank-10 : 91.32%\n",
      "\u001b[33mValidating ensembled with momentum models ...\u001b[0m\n",
      "Computing CMC and mAP ...\n",
      "** Results **\n",
      "mAP: 65.40%\n",
      "Ranks:\n",
      "Rank-1  : 60.95%\n",
      "Rank-5  : 84.80%\n",
      "Rank-10 : 92.04%\n",
      "###============ Iteration number 66/90 ============###\n",
      "Extracting Online Features for vgg16 ...\n",
      "Features extracted in 251.22 seconds\n",
      "Computing jaccard distance...\n"
     ]
    },
    {
     "name": "stderr",
     "output_type": "stream",
     "text": [
      "bruteForceKnn is deprecated; call bfKnn instead\n"
     ]
    },
    {
     "name": "stdout",
     "output_type": "stream",
     "text": [
      "Jaccard distance computing time cost: 543.8546199798584\n",
      "Extracting Online Features for resnet50 ...\n",
      "Features extracted in 252.40 seconds\n",
      "Computing jaccard distance...\n"
     ]
    },
    {
     "name": "stderr",
     "output_type": "stream",
     "text": [
      "bruteForceKnn is deprecated; call bfKnn instead\n"
     ]
    },
    {
     "name": "stdout",
     "output_type": "stream",
     "text": [
      "Jaccard distance computing time cost: 552.39413022995\n",
      "Extracting Online Features for osnet ...\n",
      "Features extracted in 251.97 seconds\n",
      "Computing jaccard distance...\n"
     ]
    },
    {
     "name": "stderr",
     "output_type": "stream",
     "text": [
      "bruteForceKnn is deprecated; call bfKnn instead\n"
     ]
    },
    {
     "name": "stdout",
     "output_type": "stream",
     "text": [
      "Jaccard distance computing time cost: 536.0843448638916\n",
      "Extracting Online Features for densenet121 ...\n",
      "Features extracted in 258.24 seconds\n",
      "Computing jaccard distance...\n"
     ]
    },
    {
     "name": "stderr",
     "output_type": "stream",
     "text": [
      "bruteForceKnn is deprecated; call bfKnn instead\n"
     ]
    },
    {
     "name": "stdout",
     "output_type": "stream",
     "text": [
      "Jaccard distance computing time cost: 554.1553885936737\n",
      "Reliability: 0.992\n",
      "\u001b[32mMean Purity: 0.03921\u001b[0m\n",
      "\u001b[34mThere are 3 clusters with 4 cameras\u001b[0m\n",
      "\u001b[34mThere are 3 clusters with 5 cameras\u001b[0m\n",
      "\u001b[34mThere are 3 clusters with 6 cameras\u001b[0m\n",
      "\u001b[34mThere are 2 clusters with 7 cameras\u001b[0m\n",
      "\u001b[34mThere are 3 clusters with 8 cameras\u001b[0m\n",
      "\u001b[34mThere are 1 clusters with 9 cameras\u001b[0m\n",
      "\u001b[34mThere are 1 clusters with 10 cameras\u001b[0m\n",
      "\u001b[34mThere are 2 clusters with 12 cameras\u001b[0m\n",
      "\u001b[34mThere are 1 clusters with 14 cameras\u001b[0m\n",
      "\u001b[34mThere are 1 clusters with 16 cameras\u001b[0m\n",
      "\u001b[34mThere are 1 clusters with 17 cameras\u001b[0m\n",
      "\u001b[34mThere are 2 clusters with 18 cameras\u001b[0m\n",
      "\u001b[34mThere are 1 clusters with 35 cameras\u001b[0m\n",
      "\u001b[34mThere are 1 clusters with 43 cameras\u001b[0m\n",
      "\u001b[34mThere are 1 clusters with 44 cameras\u001b[0m\n",
      "\u001b[34mThere are 1 clusters with 46 cameras\u001b[0m\n",
      "\u001b[34mThere are 1 clusters with 50 cameras\u001b[0m\n",
      "\u001b[34mThere are 1 clusters with 52 cameras\u001b[0m\n",
      "\u001b[34mThere are 1 clusters with 53 cameras\u001b[0m\n",
      "\u001b[34mThere are 1 clusters with 54 cameras\u001b[0m\n",
      "\u001b[34mThere are 3 clusters with 55 cameras\u001b[0m\n",
      "\u001b[34mThere are 1 clusters with 56 cameras\u001b[0m\n",
      "\u001b[34mThere are 6 clusters with 57 cameras\u001b[0m\n",
      "\u001b[34mThere are 5 clusters with 58 cameras\u001b[0m\n",
      "\u001b[34mThere are 3 clusters with 59 cameras\u001b[0m\n",
      "\u001b[34mThere are 8 clusters with 60 cameras\u001b[0m\n",
      "\u001b[34mThere are 14 clusters with 61 cameras\u001b[0m\n",
      "\u001b[34mThere are 18 clusters with 62 cameras\u001b[0m\n",
      "\u001b[34mThere are 42 clusters with 63 cameras\u001b[0m\n",
      "\u001b[34mThere are 400 clusters with 64 cameras\u001b[0m\n",
      "\u001b[34mThere are 3 clusters with 66 cameras\u001b[0m\n",
      "\u001b[34mThere are 1 clusters with 68 cameras\u001b[0m\n",
      "\u001b[34mThere are 1 clusters with 69 cameras\u001b[0m\n",
      "\u001b[34mThere are 1 clusters with 73 cameras\u001b[0m\n",
      "\u001b[34mThere are 1 clusters with 106 cameras\u001b[0m\n",
      "\u001b[34mThere are 1 clusters with 109 cameras\u001b[0m\n",
      "\u001b[34mThere are 1 clusters with 116 cameras\u001b[0m\n",
      "\u001b[34mThere are 1 clusters with 118 cameras\u001b[0m\n",
      "\u001b[34mThere are 1 clusters with 121 cameras\u001b[0m\n",
      "\u001b[34mThere are 1 clusters with 122 cameras\u001b[0m\n",
      "\u001b[34mThere are 3 clusters with 123 cameras\u001b[0m\n",
      "\u001b[34mThere are 3 clusters with 124 cameras\u001b[0m\n",
      "\u001b[34mThere are 2 clusters with 126 cameras\u001b[0m\n",
      "\u001b[34mThere are 3 clusters with 127 cameras\u001b[0m\n",
      "\u001b[34mThere are 11 clusters with 128 cameras\u001b[0m\n",
      "\u001b[34mThere are 1 clusters with 131 cameras\u001b[0m\n",
      "\u001b[34mThere are 1 clusters with 134 cameras\u001b[0m\n",
      "\u001b[34mThere are 1 clusters with 187 cameras\u001b[0m\n",
      "\u001b[34mThere are 2 clusters with 188 cameras\u001b[0m\n",
      "\u001b[34mThere are 1 clusters with 190 cameras\u001b[0m\n",
      "\u001b[34mThere are 1 clusters with 192 cameras\u001b[0m\n",
      "\u001b[34mThere are 1 clusters with 338 cameras\u001b[0m\n",
      "\u001b[34mThere are 1 clusters with 361 cameras\u001b[0m\n",
      "Number of classes: 574\n",
      "\u001b[36mLearning Rate: 0.000350\u001b[0m\n",
      "encontrou modelos vgg16. Carregando...\n",
      "encontrou modelos resnet50. Carregando...\n",
      "encontrou modelos osnet. Carregando...\n",
      "encontrou modelos densenet121. Carregando...\n",
      "###============ Iteration number 67/90 ============###\n",
      "Extracting Online Features for vgg16 ...\n",
      "Features extracted in 246.75 seconds\n",
      "Computing jaccard distance...\n"
     ]
    },
    {
     "name": "stderr",
     "output_type": "stream",
     "text": [
      "bruteForceKnn is deprecated; call bfKnn instead\n"
     ]
    },
    {
     "name": "stdout",
     "output_type": "stream",
     "text": [
      "Jaccard distance computing time cost: 542.5819833278656\n",
      "Extracting Online Features for resnet50 ...\n",
      "Features extracted in 242.87 seconds\n",
      "Computing jaccard distance...\n"
     ]
    },
    {
     "name": "stderr",
     "output_type": "stream",
     "text": [
      "bruteForceKnn is deprecated; call bfKnn instead\n"
     ]
    },
    {
     "name": "stdout",
     "output_type": "stream",
     "text": [
      "Jaccard distance computing time cost: 546.5081031322479\n",
      "Extracting Online Features for osnet ...\n",
      "Features extracted in 251.29 seconds\n",
      "Computing jaccard distance...\n"
     ]
    },
    {
     "name": "stderr",
     "output_type": "stream",
     "text": [
      "bruteForceKnn is deprecated; call bfKnn instead\n"
     ]
    },
    {
     "name": "stdout",
     "output_type": "stream",
     "text": [
      "Jaccard distance computing time cost: 525.476594209671\n",
      "Extracting Online Features for densenet121 ...\n",
      "Features extracted in 254.50 seconds\n",
      "Computing jaccard distance...\n"
     ]
    },
    {
     "name": "stderr",
     "output_type": "stream",
     "text": [
      "bruteForceKnn is deprecated; call bfKnn instead\n"
     ]
    },
    {
     "name": "stdout",
     "output_type": "stream",
     "text": [
      "Jaccard distance computing time cost: 550.7652130126953\n",
      "Reliability: 0.992\n",
      "\u001b[32mMean Purity: 0.03921\u001b[0m\n",
      "\u001b[34mThere are 3 clusters with 4 cameras\u001b[0m\n",
      "\u001b[34mThere are 3 clusters with 5 cameras\u001b[0m\n",
      "\u001b[34mThere are 3 clusters with 6 cameras\u001b[0m\n",
      "\u001b[34mThere are 2 clusters with 7 cameras\u001b[0m\n",
      "\u001b[34mThere are 3 clusters with 8 cameras\u001b[0m\n",
      "\u001b[34mThere are 1 clusters with 9 cameras\u001b[0m\n",
      "\u001b[34mThere are 1 clusters with 10 cameras\u001b[0m\n",
      "\u001b[34mThere are 2 clusters with 12 cameras\u001b[0m\n",
      "\u001b[34mThere are 1 clusters with 14 cameras\u001b[0m\n",
      "\u001b[34mThere are 1 clusters with 16 cameras\u001b[0m\n",
      "\u001b[34mThere are 1 clusters with 17 cameras\u001b[0m\n",
      "\u001b[34mThere are 2 clusters with 18 cameras\u001b[0m\n",
      "\u001b[34mThere are 1 clusters with 35 cameras\u001b[0m\n",
      "\u001b[34mThere are 1 clusters with 43 cameras\u001b[0m\n",
      "\u001b[34mThere are 1 clusters with 44 cameras\u001b[0m\n",
      "\u001b[34mThere are 1 clusters with 46 cameras\u001b[0m\n",
      "\u001b[34mThere are 1 clusters with 50 cameras\u001b[0m\n",
      "\u001b[34mThere are 1 clusters with 52 cameras\u001b[0m\n",
      "\u001b[34mThere are 1 clusters with 53 cameras\u001b[0m\n",
      "\u001b[34mThere are 1 clusters with 54 cameras\u001b[0m\n",
      "\u001b[34mThere are 3 clusters with 55 cameras\u001b[0m\n",
      "\u001b[34mThere are 1 clusters with 56 cameras\u001b[0m\n",
      "\u001b[34mThere are 6 clusters with 57 cameras\u001b[0m\n",
      "\u001b[34mThere are 5 clusters with 58 cameras\u001b[0m\n",
      "\u001b[34mThere are 3 clusters with 59 cameras\u001b[0m\n",
      "\u001b[34mThere are 8 clusters with 60 cameras\u001b[0m\n",
      "\u001b[34mThere are 14 clusters with 61 cameras\u001b[0m\n",
      "\u001b[34mThere are 18 clusters with 62 cameras\u001b[0m\n",
      "\u001b[34mThere are 42 clusters with 63 cameras\u001b[0m\n",
      "\u001b[34mThere are 400 clusters with 64 cameras\u001b[0m\n",
      "\u001b[34mThere are 3 clusters with 66 cameras\u001b[0m\n",
      "\u001b[34mThere are 1 clusters with 68 cameras\u001b[0m\n",
      "\u001b[34mThere are 1 clusters with 69 cameras\u001b[0m\n",
      "\u001b[34mThere are 1 clusters with 73 cameras\u001b[0m\n",
      "\u001b[34mThere are 1 clusters with 106 cameras\u001b[0m\n",
      "\u001b[34mThere are 1 clusters with 109 cameras\u001b[0m\n",
      "\u001b[34mThere are 1 clusters with 116 cameras\u001b[0m\n",
      "\u001b[34mThere are 1 clusters with 118 cameras\u001b[0m\n",
      "\u001b[34mThere are 1 clusters with 121 cameras\u001b[0m\n",
      "\u001b[34mThere are 1 clusters with 122 cameras\u001b[0m\n",
      "\u001b[34mThere are 3 clusters with 123 cameras\u001b[0m\n",
      "\u001b[34mThere are 3 clusters with 124 cameras\u001b[0m\n",
      "\u001b[34mThere are 2 clusters with 126 cameras\u001b[0m\n",
      "\u001b[34mThere are 3 clusters with 127 cameras\u001b[0m\n",
      "\u001b[34mThere are 11 clusters with 128 cameras\u001b[0m\n",
      "\u001b[34mThere are 1 clusters with 131 cameras\u001b[0m\n",
      "\u001b[34mThere are 1 clusters with 134 cameras\u001b[0m\n",
      "\u001b[34mThere are 1 clusters with 187 cameras\u001b[0m\n",
      "\u001b[34mThere are 2 clusters with 188 cameras\u001b[0m\n",
      "\u001b[34mThere are 1 clusters with 190 cameras\u001b[0m\n",
      "\u001b[34mThere are 1 clusters with 192 cameras\u001b[0m\n",
      "\u001b[34mThere are 1 clusters with 338 cameras\u001b[0m\n",
      "\u001b[34mThere are 1 clusters with 361 cameras\u001b[0m\n",
      "Number of classes: 574\n",
      "\u001b[36mLearning Rate: 0.000350\u001b[0m\n",
      "encontrou modelos vgg16. Carregando...\n",
      "encontrou modelos resnet50. Carregando...\n",
      "encontrou modelos osnet. Carregando...\n",
      "encontrou modelos densenet121. Carregando...\n",
      "###============ Iteration number 68/90 ============###\n",
      "Extracting Online Features for vgg16 ...\n",
      "Features extracted in 250.51 seconds\n",
      "Computing jaccard distance...\n"
     ]
    },
    {
     "name": "stderr",
     "output_type": "stream",
     "text": [
      "bruteForceKnn is deprecated; call bfKnn instead\n"
     ]
    },
    {
     "name": "stdout",
     "output_type": "stream",
     "text": [
      "Jaccard distance computing time cost: 541.2066421508789\n",
      "Extracting Online Features for resnet50 ...\n",
      "Features extracted in 252.06 seconds\n",
      "Computing jaccard distance...\n"
     ]
    },
    {
     "name": "stderr",
     "output_type": "stream",
     "text": [
      "bruteForceKnn is deprecated; call bfKnn instead\n"
     ]
    },
    {
     "name": "stdout",
     "output_type": "stream",
     "text": [
      "Jaccard distance computing time cost: 529.7759857177734\n",
      "Extracting Online Features for osnet ...\n",
      "Features extracted in 256.01 seconds\n",
      "Computing jaccard distance...\n"
     ]
    },
    {
     "name": "stderr",
     "output_type": "stream",
     "text": [
      "bruteForceKnn is deprecated; call bfKnn instead\n"
     ]
    },
    {
     "name": "stdout",
     "output_type": "stream",
     "text": [
      "Jaccard distance computing time cost: 519.4629440307617\n",
      "Extracting Online Features for densenet121 ...\n",
      "Features extracted in 248.76 seconds\n",
      "Computing jaccard distance...\n"
     ]
    },
    {
     "name": "stderr",
     "output_type": "stream",
     "text": [
      "bruteForceKnn is deprecated; call bfKnn instead\n"
     ]
    },
    {
     "name": "stdout",
     "output_type": "stream",
     "text": [
      "Jaccard distance computing time cost: 546.3618075847626\n",
      "Reliability: 0.992\n",
      "\u001b[32mMean Purity: 0.03921\u001b[0m\n",
      "\u001b[34mThere are 3 clusters with 4 cameras\u001b[0m\n",
      "\u001b[34mThere are 3 clusters with 5 cameras\u001b[0m\n",
      "\u001b[34mThere are 3 clusters with 6 cameras\u001b[0m\n",
      "\u001b[34mThere are 2 clusters with 7 cameras\u001b[0m\n",
      "\u001b[34mThere are 3 clusters with 8 cameras\u001b[0m\n",
      "\u001b[34mThere are 1 clusters with 9 cameras\u001b[0m\n",
      "\u001b[34mThere are 1 clusters with 10 cameras\u001b[0m\n",
      "\u001b[34mThere are 2 clusters with 12 cameras\u001b[0m\n",
      "\u001b[34mThere are 1 clusters with 14 cameras\u001b[0m\n",
      "\u001b[34mThere are 1 clusters with 16 cameras\u001b[0m\n",
      "\u001b[34mThere are 1 clusters with 17 cameras\u001b[0m\n",
      "\u001b[34mThere are 2 clusters with 18 cameras\u001b[0m\n",
      "\u001b[34mThere are 1 clusters with 35 cameras\u001b[0m\n",
      "\u001b[34mThere are 1 clusters with 43 cameras\u001b[0m\n",
      "\u001b[34mThere are 1 clusters with 44 cameras\u001b[0m\n",
      "\u001b[34mThere are 1 clusters with 46 cameras\u001b[0m\n",
      "\u001b[34mThere are 1 clusters with 50 cameras\u001b[0m\n",
      "\u001b[34mThere are 1 clusters with 52 cameras\u001b[0m\n",
      "\u001b[34mThere are 1 clusters with 53 cameras\u001b[0m\n",
      "\u001b[34mThere are 1 clusters with 54 cameras\u001b[0m\n",
      "\u001b[34mThere are 3 clusters with 55 cameras\u001b[0m\n",
      "\u001b[34mThere are 1 clusters with 56 cameras\u001b[0m\n",
      "\u001b[34mThere are 6 clusters with 57 cameras\u001b[0m\n",
      "\u001b[34mThere are 5 clusters with 58 cameras\u001b[0m\n",
      "\u001b[34mThere are 3 clusters with 59 cameras\u001b[0m\n",
      "\u001b[34mThere are 8 clusters with 60 cameras\u001b[0m\n",
      "\u001b[34mThere are 14 clusters with 61 cameras\u001b[0m\n",
      "\u001b[34mThere are 18 clusters with 62 cameras\u001b[0m\n",
      "\u001b[34mThere are 42 clusters with 63 cameras\u001b[0m\n",
      "\u001b[34mThere are 400 clusters with 64 cameras\u001b[0m\n",
      "\u001b[34mThere are 3 clusters with 66 cameras\u001b[0m\n",
      "\u001b[34mThere are 1 clusters with 68 cameras\u001b[0m\n",
      "\u001b[34mThere are 1 clusters with 69 cameras\u001b[0m\n",
      "\u001b[34mThere are 1 clusters with 73 cameras\u001b[0m\n",
      "\u001b[34mThere are 1 clusters with 106 cameras\u001b[0m\n",
      "\u001b[34mThere are 1 clusters with 109 cameras\u001b[0m\n",
      "\u001b[34mThere are 1 clusters with 116 cameras\u001b[0m\n",
      "\u001b[34mThere are 1 clusters with 118 cameras\u001b[0m\n",
      "\u001b[34mThere are 1 clusters with 121 cameras\u001b[0m\n",
      "\u001b[34mThere are 1 clusters with 122 cameras\u001b[0m\n",
      "\u001b[34mThere are 3 clusters with 123 cameras\u001b[0m\n",
      "\u001b[34mThere are 3 clusters with 124 cameras\u001b[0m\n",
      "\u001b[34mThere are 2 clusters with 126 cameras\u001b[0m\n",
      "\u001b[34mThere are 3 clusters with 127 cameras\u001b[0m\n",
      "\u001b[34mThere are 11 clusters with 128 cameras\u001b[0m\n",
      "\u001b[34mThere are 1 clusters with 131 cameras\u001b[0m\n",
      "\u001b[34mThere are 1 clusters with 134 cameras\u001b[0m\n",
      "\u001b[34mThere are 1 clusters with 187 cameras\u001b[0m\n",
      "\u001b[34mThere are 2 clusters with 188 cameras\u001b[0m\n",
      "\u001b[34mThere are 1 clusters with 190 cameras\u001b[0m\n",
      "\u001b[34mThere are 1 clusters with 192 cameras\u001b[0m\n",
      "\u001b[34mThere are 1 clusters with 338 cameras\u001b[0m\n",
      "\u001b[34mThere are 1 clusters with 361 cameras\u001b[0m\n",
      "Number of classes: 574\n",
      "\u001b[36mLearning Rate: 0.000350\u001b[0m\n",
      "encontrou modelos vgg16. Carregando...\n",
      "encontrou modelos resnet50. Carregando...\n",
      "encontrou modelos osnet. Carregando...\n",
      "encontrou modelos densenet121. Carregando...\n",
      "###============ Iteration number 69/90 ============###\n",
      "Extracting Online Features for vgg16 ...\n",
      "Features extracted in 245.34 seconds\n",
      "Computing jaccard distance...\n"
     ]
    },
    {
     "name": "stderr",
     "output_type": "stream",
     "text": [
      "bruteForceKnn is deprecated; call bfKnn instead\n"
     ]
    },
    {
     "name": "stdout",
     "output_type": "stream",
     "text": [
      "Jaccard distance computing time cost: 528.4337372779846\n",
      "Extracting Online Features for resnet50 ...\n",
      "Features extracted in 242.01 seconds\n",
      "Computing jaccard distance...\n"
     ]
    },
    {
     "name": "stderr",
     "output_type": "stream",
     "text": [
      "bruteForceKnn is deprecated; call bfKnn instead\n"
     ]
    },
    {
     "name": "stdout",
     "output_type": "stream",
     "text": [
      "Jaccard distance computing time cost: 540.5696361064911\n",
      "Extracting Online Features for osnet ...\n",
      "Features extracted in 246.27 seconds\n",
      "Computing jaccard distance...\n"
     ]
    },
    {
     "name": "stderr",
     "output_type": "stream",
     "text": [
      "bruteForceKnn is deprecated; call bfKnn instead\n"
     ]
    },
    {
     "name": "stdout",
     "output_type": "stream",
     "text": [
      "Jaccard distance computing time cost: 535.6840744018555\n",
      "Extracting Online Features for densenet121 ...\n",
      "Features extracted in 247.01 seconds\n",
      "Computing jaccard distance...\n"
     ]
    },
    {
     "name": "stderr",
     "output_type": "stream",
     "text": [
      "bruteForceKnn is deprecated; call bfKnn instead\n"
     ]
    },
    {
     "name": "stdout",
     "output_type": "stream",
     "text": [
      "Jaccard distance computing time cost: 553.3604686260223\n",
      "Reliability: 0.992\n",
      "\u001b[32mMean Purity: 0.03921\u001b[0m\n",
      "\u001b[34mThere are 3 clusters with 4 cameras\u001b[0m\n",
      "\u001b[34mThere are 3 clusters with 5 cameras\u001b[0m\n",
      "\u001b[34mThere are 3 clusters with 6 cameras\u001b[0m\n",
      "\u001b[34mThere are 2 clusters with 7 cameras\u001b[0m\n",
      "\u001b[34mThere are 3 clusters with 8 cameras\u001b[0m\n",
      "\u001b[34mThere are 1 clusters with 9 cameras\u001b[0m\n",
      "\u001b[34mThere are 1 clusters with 10 cameras\u001b[0m\n",
      "\u001b[34mThere are 2 clusters with 12 cameras\u001b[0m\n",
      "\u001b[34mThere are 1 clusters with 14 cameras\u001b[0m\n",
      "\u001b[34mThere are 1 clusters with 16 cameras\u001b[0m\n",
      "\u001b[34mThere are 1 clusters with 17 cameras\u001b[0m\n",
      "\u001b[34mThere are 2 clusters with 18 cameras\u001b[0m\n",
      "\u001b[34mThere are 1 clusters with 35 cameras\u001b[0m\n",
      "\u001b[34mThere are 1 clusters with 43 cameras\u001b[0m\n",
      "\u001b[34mThere are 1 clusters with 44 cameras\u001b[0m\n",
      "\u001b[34mThere are 1 clusters with 46 cameras\u001b[0m\n",
      "\u001b[34mThere are 1 clusters with 50 cameras\u001b[0m\n",
      "\u001b[34mThere are 1 clusters with 52 cameras\u001b[0m\n",
      "\u001b[34mThere are 1 clusters with 53 cameras\u001b[0m\n",
      "\u001b[34mThere are 1 clusters with 54 cameras\u001b[0m\n",
      "\u001b[34mThere are 3 clusters with 55 cameras\u001b[0m\n",
      "\u001b[34mThere are 1 clusters with 56 cameras\u001b[0m\n",
      "\u001b[34mThere are 6 clusters with 57 cameras\u001b[0m\n",
      "\u001b[34mThere are 5 clusters with 58 cameras\u001b[0m\n",
      "\u001b[34mThere are 3 clusters with 59 cameras\u001b[0m\n",
      "\u001b[34mThere are 8 clusters with 60 cameras\u001b[0m\n",
      "\u001b[34mThere are 14 clusters with 61 cameras\u001b[0m\n",
      "\u001b[34mThere are 18 clusters with 62 cameras\u001b[0m\n",
      "\u001b[34mThere are 42 clusters with 63 cameras\u001b[0m\n",
      "\u001b[34mThere are 400 clusters with 64 cameras\u001b[0m\n",
      "\u001b[34mThere are 3 clusters with 66 cameras\u001b[0m\n",
      "\u001b[34mThere are 1 clusters with 68 cameras\u001b[0m\n",
      "\u001b[34mThere are 1 clusters with 69 cameras\u001b[0m\n",
      "\u001b[34mThere are 1 clusters with 73 cameras\u001b[0m\n",
      "\u001b[34mThere are 1 clusters with 106 cameras\u001b[0m\n",
      "\u001b[34mThere are 1 clusters with 109 cameras\u001b[0m\n",
      "\u001b[34mThere are 1 clusters with 116 cameras\u001b[0m\n",
      "\u001b[34mThere are 1 clusters with 118 cameras\u001b[0m\n",
      "\u001b[34mThere are 1 clusters with 121 cameras\u001b[0m\n",
      "\u001b[34mThere are 1 clusters with 122 cameras\u001b[0m\n",
      "\u001b[34mThere are 3 clusters with 123 cameras\u001b[0m\n",
      "\u001b[34mThere are 3 clusters with 124 cameras\u001b[0m\n",
      "\u001b[34mThere are 2 clusters with 126 cameras\u001b[0m\n",
      "\u001b[34mThere are 3 clusters with 127 cameras\u001b[0m\n",
      "\u001b[34mThere are 11 clusters with 128 cameras\u001b[0m\n",
      "\u001b[34mThere are 1 clusters with 131 cameras\u001b[0m\n",
      "\u001b[34mThere are 1 clusters with 134 cameras\u001b[0m\n",
      "\u001b[34mThere are 1 clusters with 187 cameras\u001b[0m\n",
      "\u001b[34mThere are 2 clusters with 188 cameras\u001b[0m\n",
      "\u001b[34mThere are 1 clusters with 190 cameras\u001b[0m\n",
      "\u001b[34mThere are 1 clusters with 192 cameras\u001b[0m\n",
      "\u001b[34mThere are 1 clusters with 338 cameras\u001b[0m\n",
      "\u001b[34mThere are 1 clusters with 361 cameras\u001b[0m\n",
      "Number of classes: 574\n",
      "\u001b[36mLearning Rate: 0.000350\u001b[0m\n",
      "encontrou modelos vgg16. Carregando...\n",
      "encontrou modelos resnet50. Carregando...\n",
      "encontrou modelos osnet. Carregando...\n",
      "encontrou modelos densenet121. Carregando...\n",
      "###============ Iteration number 70/90 ============###\n",
      "Extracting Online Features for vgg16 ...\n",
      "Features extracted in 254.53 seconds\n",
      "Computing jaccard distance...\n"
     ]
    },
    {
     "name": "stderr",
     "output_type": "stream",
     "text": [
      "bruteForceKnn is deprecated; call bfKnn instead\n"
     ]
    },
    {
     "name": "stdout",
     "output_type": "stream",
     "text": [
      "Jaccard distance computing time cost: 541.3449850082397\n",
      "Extracting Online Features for resnet50 ...\n",
      "Features extracted in 250.34 seconds\n",
      "Computing jaccard distance...\n"
     ]
    },
    {
     "name": "stderr",
     "output_type": "stream",
     "text": [
      "bruteForceKnn is deprecated; call bfKnn instead\n"
     ]
    },
    {
     "name": "stdout",
     "output_type": "stream",
     "text": [
      "Jaccard distance computing time cost: 554.5153067111969\n",
      "Extracting Online Features for osnet ...\n",
      "Features extracted in 251.07 seconds\n",
      "Computing jaccard distance...\n"
     ]
    },
    {
     "name": "stderr",
     "output_type": "stream",
     "text": [
      "bruteForceKnn is deprecated; call bfKnn instead\n"
     ]
    },
    {
     "name": "stdout",
     "output_type": "stream",
     "text": [
      "Jaccard distance computing time cost: 536.8914334774017\n",
      "Extracting Online Features for densenet121 ...\n",
      "Features extracted in 245.88 seconds\n",
      "Computing jaccard distance...\n"
     ]
    },
    {
     "name": "stderr",
     "output_type": "stream",
     "text": [
      "bruteForceKnn is deprecated; call bfKnn instead\n"
     ]
    },
    {
     "name": "stdout",
     "output_type": "stream",
     "text": [
      "Jaccard distance computing time cost: 545.662565946579\n",
      "Reliability: 0.992\n",
      "\u001b[32mMean Purity: 0.03921\u001b[0m\n",
      "\u001b[34mThere are 3 clusters with 4 cameras\u001b[0m\n",
      "\u001b[34mThere are 3 clusters with 5 cameras\u001b[0m\n",
      "\u001b[34mThere are 3 clusters with 6 cameras\u001b[0m\n",
      "\u001b[34mThere are 2 clusters with 7 cameras\u001b[0m\n",
      "\u001b[34mThere are 3 clusters with 8 cameras\u001b[0m\n",
      "\u001b[34mThere are 1 clusters with 9 cameras\u001b[0m\n",
      "\u001b[34mThere are 1 clusters with 10 cameras\u001b[0m\n",
      "\u001b[34mThere are 2 clusters with 12 cameras\u001b[0m\n",
      "\u001b[34mThere are 1 clusters with 14 cameras\u001b[0m\n",
      "\u001b[34mThere are 1 clusters with 16 cameras\u001b[0m\n",
      "\u001b[34mThere are 1 clusters with 17 cameras\u001b[0m\n",
      "\u001b[34mThere are 2 clusters with 18 cameras\u001b[0m\n",
      "\u001b[34mThere are 1 clusters with 35 cameras\u001b[0m\n",
      "\u001b[34mThere are 1 clusters with 43 cameras\u001b[0m\n",
      "\u001b[34mThere are 1 clusters with 44 cameras\u001b[0m\n",
      "\u001b[34mThere are 1 clusters with 46 cameras\u001b[0m\n",
      "\u001b[34mThere are 1 clusters with 50 cameras\u001b[0m\n",
      "\u001b[34mThere are 1 clusters with 52 cameras\u001b[0m\n",
      "\u001b[34mThere are 1 clusters with 53 cameras\u001b[0m\n",
      "\u001b[34mThere are 1 clusters with 54 cameras\u001b[0m\n",
      "\u001b[34mThere are 3 clusters with 55 cameras\u001b[0m\n",
      "\u001b[34mThere are 1 clusters with 56 cameras\u001b[0m\n",
      "\u001b[34mThere are 6 clusters with 57 cameras\u001b[0m\n",
      "\u001b[34mThere are 5 clusters with 58 cameras\u001b[0m\n",
      "\u001b[34mThere are 3 clusters with 59 cameras\u001b[0m\n",
      "\u001b[34mThere are 8 clusters with 60 cameras\u001b[0m\n",
      "\u001b[34mThere are 14 clusters with 61 cameras\u001b[0m\n",
      "\u001b[34mThere are 18 clusters with 62 cameras\u001b[0m\n",
      "\u001b[34mThere are 42 clusters with 63 cameras\u001b[0m\n",
      "\u001b[34mThere are 400 clusters with 64 cameras\u001b[0m\n",
      "\u001b[34mThere are 3 clusters with 66 cameras\u001b[0m\n",
      "\u001b[34mThere are 1 clusters with 68 cameras\u001b[0m\n",
      "\u001b[34mThere are 1 clusters with 69 cameras\u001b[0m\n",
      "\u001b[34mThere are 1 clusters with 73 cameras\u001b[0m\n",
      "\u001b[34mThere are 1 clusters with 106 cameras\u001b[0m\n",
      "\u001b[34mThere are 1 clusters with 109 cameras\u001b[0m\n",
      "\u001b[34mThere are 1 clusters with 116 cameras\u001b[0m\n",
      "\u001b[34mThere are 1 clusters with 118 cameras\u001b[0m\n",
      "\u001b[34mThere are 1 clusters with 121 cameras\u001b[0m\n",
      "\u001b[34mThere are 1 clusters with 122 cameras\u001b[0m\n",
      "\u001b[34mThere are 3 clusters with 123 cameras\u001b[0m\n",
      "\u001b[34mThere are 3 clusters with 124 cameras\u001b[0m\n",
      "\u001b[34mThere are 2 clusters with 126 cameras\u001b[0m\n",
      "\u001b[34mThere are 3 clusters with 127 cameras\u001b[0m\n",
      "\u001b[34mThere are 11 clusters with 128 cameras\u001b[0m\n",
      "\u001b[34mThere are 1 clusters with 131 cameras\u001b[0m\n",
      "\u001b[34mThere are 1 clusters with 134 cameras\u001b[0m\n",
      "\u001b[34mThere are 1 clusters with 187 cameras\u001b[0m\n",
      "\u001b[34mThere are 2 clusters with 188 cameras\u001b[0m\n",
      "\u001b[34mThere are 1 clusters with 190 cameras\u001b[0m\n",
      "\u001b[34mThere are 1 clusters with 192 cameras\u001b[0m\n",
      "\u001b[34mThere are 1 clusters with 338 cameras\u001b[0m\n",
      "\u001b[34mThere are 1 clusters with 361 cameras\u001b[0m\n",
      "Number of classes: 574\n",
      "\u001b[36mLearning Rate: 0.000350\u001b[0m\n",
      "encontrou modelos vgg16. Carregando...\n",
      "encontrou modelos resnet50. Carregando...\n",
      "encontrou modelos osnet. Carregando...\n",
      "encontrou modelos densenet121. Carregando...\n",
      "\u001b[33mValidating online vgg16 ...\u001b[0m\n",
      "Features extracted in 80.93 seconds\n",
      "Features extracted in 147.95 seconds\n",
      "Computing CMC and mAP ...\n",
      "** Results **\n",
      "mAP: 70.12%\n",
      "CMC curve\n",
      "Rank-1  : 75.96%\n",
      "Rank-5  : 91.27%\n",
      "Rank-10 : 94.82%\n",
      "Rank-20 : 96.79%\n",
      "\u001b[33mValidating momentum vgg16 ...\u001b[0m\n",
      "Features extracted in 76.97 seconds\n",
      "Features extracted in 144.17 seconds\n",
      "Computing CMC and mAP ...\n",
      "** Results **\n",
      "mAP: 66.17%\n",
      "CMC curve\n",
      "Rank-1  : 60.22%\n",
      "Rank-5  : 85.69%\n",
      "Rank-10 : 92.76%\n",
      "Rank-20 : 97.47%\n",
      "\u001b[33mValidating online resnet50 ...\u001b[0m\n",
      "Features extracted in 78.94 seconds\n",
      "Features extracted in 144.84 seconds\n",
      "Computing CMC and mAP ...\n",
      "** Results **\n",
      "mAP: 67.50%\n",
      "CMC curve\n",
      "Rank-1  : 55.02%\n",
      "Rank-5  : 80.54%\n",
      "Rank-10 : 89.57%\n",
      "Rank-20 : 96.21%\n",
      "\u001b[33mValidating momentum resnet50 ...\u001b[0m\n",
      "Features extracted in 74.36 seconds\n",
      "Features extracted in 146.55 seconds\n",
      "Computing CMC and mAP ...\n",
      "** Results **\n",
      "mAP: 66.53%\n",
      "CMC curve\n",
      "Rank-1  : 51.40%\n",
      "Rank-5  : 82.97%\n",
      "Rank-10 : 92.60%\n",
      "Rank-20 : 97.67%\n",
      "\u001b[33mValidating online osnet ...\u001b[0m\n",
      "Features extracted in 80.04 seconds\n",
      "Features extracted in 141.50 seconds\n",
      "Computing CMC and mAP ...\n",
      "** Results **\n",
      "mAP: 70.98%\n",
      "CMC curve\n",
      "Rank-1  : 66.36%\n",
      "Rank-5  : 91.56%\n",
      "Rank-10 : 96.56%\n",
      "Rank-20 : 99.07%\n",
      "\u001b[33mValidating momentum osnet ...\u001b[0m\n",
      "Features extracted in 77.75 seconds\n",
      "Features extracted in 150.02 seconds\n",
      "Computing CMC and mAP ...\n",
      "** Results **\n",
      "mAP: 64.56%\n",
      "CMC curve\n",
      "Rank-1  : 55.77%\n",
      "Rank-5  : 86.08%\n",
      "Rank-10 : 94.11%\n",
      "Rank-20 : 97.92%\n",
      "\u001b[33mValidating online densenet121 ...\u001b[0m\n",
      "Features extracted in 79.17 seconds\n",
      "Features extracted in 148.86 seconds\n",
      "Computing CMC and mAP ...\n",
      "** Results **\n",
      "mAP: 69.32%\n",
      "CMC curve\n",
      "Rank-1  : 61.53%\n",
      "Rank-5  : 85.89%\n",
      "Rank-10 : 93.66%\n",
      "Rank-20 : 97.66%\n",
      "\u001b[33mValidating momentum densenet121 ...\u001b[0m\n",
      "Features extracted in 72.50 seconds\n",
      "Features extracted in 144.61 seconds\n",
      "Computing CMC and mAP ...\n",
      "** Results **\n",
      "mAP: 66.02%\n",
      "CMC curve\n",
      "Rank-1  : 63.00%\n",
      "Rank-5  : 91.00%\n",
      "Rank-10 : 96.36%\n",
      "Rank-20 : 98.94%\n",
      "\u001b[33mValidating ensembled with online models ...\u001b[0m\n",
      "Computing CMC and mAP ...\n",
      "** Results **\n",
      "mAP: 69.73%\n",
      "Ranks:\n",
      "Rank-1  : 63.31%\n",
      "Rank-5  : 83.51%\n",
      "Rank-10 : 91.32%\n",
      "\u001b[33mValidating ensembled with momentum models ...\u001b[0m\n",
      "Computing CMC and mAP ...\n",
      "** Results **\n",
      "mAP: 65.40%\n",
      "Ranks:\n",
      "Rank-1  : 60.95%\n",
      "Rank-5  : 84.80%\n",
      "Rank-10 : 92.04%\n",
      "###============ Iteration number 71/90 ============###\n",
      "Extracting Online Features for vgg16 ...\n",
      "Features extracted in 247.96 seconds\n",
      "Computing jaccard distance...\n"
     ]
    },
    {
     "name": "stderr",
     "output_type": "stream",
     "text": [
      "bruteForceKnn is deprecated; call bfKnn instead\n"
     ]
    },
    {
     "name": "stdout",
     "output_type": "stream",
     "text": [
      "Jaccard distance computing time cost: 540.5194609165192\n",
      "Extracting Online Features for resnet50 ...\n",
      "Features extracted in 246.90 seconds\n",
      "Computing jaccard distance...\n"
     ]
    },
    {
     "name": "stderr",
     "output_type": "stream",
     "text": [
      "bruteForceKnn is deprecated; call bfKnn instead\n"
     ]
    },
    {
     "name": "stdout",
     "output_type": "stream",
     "text": [
      "Jaccard distance computing time cost: 542.8372297286987\n",
      "Extracting Online Features for osnet ...\n",
      "Features extracted in 247.41 seconds\n",
      "Computing jaccard distance...\n"
     ]
    },
    {
     "name": "stderr",
     "output_type": "stream",
     "text": [
      "bruteForceKnn is deprecated; call bfKnn instead\n"
     ]
    },
    {
     "name": "stdout",
     "output_type": "stream",
     "text": [
      "Jaccard distance computing time cost: 532.2149639129639\n",
      "Extracting Online Features for densenet121 ...\n",
      "Features extracted in 240.67 seconds\n",
      "Computing jaccard distance...\n"
     ]
    },
    {
     "name": "stderr",
     "output_type": "stream",
     "text": [
      "bruteForceKnn is deprecated; call bfKnn instead\n"
     ]
    },
    {
     "name": "stdout",
     "output_type": "stream",
     "text": [
      "Jaccard distance computing time cost: 526.3976085186005\n",
      "Reliability: 0.992\n",
      "\u001b[32mMean Purity: 0.03921\u001b[0m\n",
      "\u001b[34mThere are 3 clusters with 4 cameras\u001b[0m\n",
      "\u001b[34mThere are 3 clusters with 5 cameras\u001b[0m\n",
      "\u001b[34mThere are 3 clusters with 6 cameras\u001b[0m\n",
      "\u001b[34mThere are 2 clusters with 7 cameras\u001b[0m\n",
      "\u001b[34mThere are 3 clusters with 8 cameras\u001b[0m\n",
      "\u001b[34mThere are 1 clusters with 9 cameras\u001b[0m\n",
      "\u001b[34mThere are 1 clusters with 10 cameras\u001b[0m\n",
      "\u001b[34mThere are 2 clusters with 12 cameras\u001b[0m\n",
      "\u001b[34mThere are 1 clusters with 14 cameras\u001b[0m\n",
      "\u001b[34mThere are 1 clusters with 16 cameras\u001b[0m\n",
      "\u001b[34mThere are 1 clusters with 17 cameras\u001b[0m\n",
      "\u001b[34mThere are 2 clusters with 18 cameras\u001b[0m\n",
      "\u001b[34mThere are 1 clusters with 35 cameras\u001b[0m\n",
      "\u001b[34mThere are 1 clusters with 43 cameras\u001b[0m\n",
      "\u001b[34mThere are 1 clusters with 44 cameras\u001b[0m\n",
      "\u001b[34mThere are 1 clusters with 46 cameras\u001b[0m\n",
      "\u001b[34mThere are 1 clusters with 50 cameras\u001b[0m\n",
      "\u001b[34mThere are 1 clusters with 52 cameras\u001b[0m\n",
      "\u001b[34mThere are 1 clusters with 53 cameras\u001b[0m\n",
      "\u001b[34mThere are 1 clusters with 54 cameras\u001b[0m\n",
      "\u001b[34mThere are 3 clusters with 55 cameras\u001b[0m\n",
      "\u001b[34mThere are 1 clusters with 56 cameras\u001b[0m\n",
      "\u001b[34mThere are 6 clusters with 57 cameras\u001b[0m\n",
      "\u001b[34mThere are 5 clusters with 58 cameras\u001b[0m\n",
      "\u001b[34mThere are 3 clusters with 59 cameras\u001b[0m\n",
      "\u001b[34mThere are 8 clusters with 60 cameras\u001b[0m\n",
      "\u001b[34mThere are 14 clusters with 61 cameras\u001b[0m\n",
      "\u001b[34mThere are 18 clusters with 62 cameras\u001b[0m\n",
      "\u001b[34mThere are 42 clusters with 63 cameras\u001b[0m\n",
      "\u001b[34mThere are 400 clusters with 64 cameras\u001b[0m\n",
      "\u001b[34mThere are 3 clusters with 66 cameras\u001b[0m\n",
      "\u001b[34mThere are 1 clusters with 68 cameras\u001b[0m\n",
      "\u001b[34mThere are 1 clusters with 69 cameras\u001b[0m\n",
      "\u001b[34mThere are 1 clusters with 73 cameras\u001b[0m\n",
      "\u001b[34mThere are 1 clusters with 106 cameras\u001b[0m\n",
      "\u001b[34mThere are 1 clusters with 109 cameras\u001b[0m\n",
      "\u001b[34mThere are 1 clusters with 116 cameras\u001b[0m\n",
      "\u001b[34mThere are 1 clusters with 118 cameras\u001b[0m\n",
      "\u001b[34mThere are 1 clusters with 121 cameras\u001b[0m\n",
      "\u001b[34mThere are 1 clusters with 122 cameras\u001b[0m\n",
      "\u001b[34mThere are 3 clusters with 123 cameras\u001b[0m\n",
      "\u001b[34mThere are 3 clusters with 124 cameras\u001b[0m\n",
      "\u001b[34mThere are 2 clusters with 126 cameras\u001b[0m\n",
      "\u001b[34mThere are 3 clusters with 127 cameras\u001b[0m\n",
      "\u001b[34mThere are 11 clusters with 128 cameras\u001b[0m\n",
      "\u001b[34mThere are 1 clusters with 131 cameras\u001b[0m\n",
      "\u001b[34mThere are 1 clusters with 134 cameras\u001b[0m\n",
      "\u001b[34mThere are 1 clusters with 187 cameras\u001b[0m\n",
      "\u001b[34mThere are 2 clusters with 188 cameras\u001b[0m\n",
      "\u001b[34mThere are 1 clusters with 190 cameras\u001b[0m\n",
      "\u001b[34mThere are 1 clusters with 192 cameras\u001b[0m\n",
      "\u001b[34mThere are 1 clusters with 338 cameras\u001b[0m\n",
      "\u001b[34mThere are 1 clusters with 361 cameras\u001b[0m\n",
      "Number of classes: 574\n",
      "\u001b[36mLearning Rate: 0.000017\u001b[0m\n",
      "encontrou modelos vgg16. Carregando...\n",
      "encontrou modelos resnet50. Carregando...\n",
      "encontrou modelos osnet. Carregando...\n",
      "encontrou modelos densenet121. Carregando...\n",
      "###============ Iteration number 72/90 ============###\n",
      "Extracting Online Features for vgg16 ...\n",
      "Features extracted in 253.81 seconds\n",
      "Computing jaccard distance...\n"
     ]
    },
    {
     "name": "stderr",
     "output_type": "stream",
     "text": [
      "bruteForceKnn is deprecated; call bfKnn instead\n"
     ]
    },
    {
     "name": "stdout",
     "output_type": "stream",
     "text": [
      "Jaccard distance computing time cost: 540.8580605983734\n",
      "Extracting Online Features for resnet50 ...\n",
      "Features extracted in 250.82 seconds\n",
      "Computing jaccard distance...\n"
     ]
    },
    {
     "name": "stderr",
     "output_type": "stream",
     "text": [
      "bruteForceKnn is deprecated; call bfKnn instead\n"
     ]
    },
    {
     "name": "stdout",
     "output_type": "stream",
     "text": [
      "Jaccard distance computing time cost: 543.0759465694427\n",
      "Extracting Online Features for osnet ...\n",
      "Features extracted in 248.85 seconds\n",
      "Computing jaccard distance...\n"
     ]
    },
    {
     "name": "stderr",
     "output_type": "stream",
     "text": [
      "bruteForceKnn is deprecated; call bfKnn instead\n"
     ]
    },
    {
     "name": "stdout",
     "output_type": "stream",
     "text": [
      "Jaccard distance computing time cost: 517.0525369644165\n",
      "Extracting Online Features for densenet121 ...\n",
      "Features extracted in 254.28 seconds\n",
      "Computing jaccard distance...\n"
     ]
    },
    {
     "name": "stderr",
     "output_type": "stream",
     "text": [
      "bruteForceKnn is deprecated; call bfKnn instead\n"
     ]
    },
    {
     "name": "stdout",
     "output_type": "stream",
     "text": [
      "Jaccard distance computing time cost: 539.3949477672577\n",
      "Reliability: 0.992\n",
      "\u001b[32mMean Purity: 0.03921\u001b[0m\n",
      "\u001b[34mThere are 3 clusters with 4 cameras\u001b[0m\n",
      "\u001b[34mThere are 3 clusters with 5 cameras\u001b[0m\n",
      "\u001b[34mThere are 3 clusters with 6 cameras\u001b[0m\n",
      "\u001b[34mThere are 2 clusters with 7 cameras\u001b[0m\n",
      "\u001b[34mThere are 3 clusters with 8 cameras\u001b[0m\n",
      "\u001b[34mThere are 1 clusters with 9 cameras\u001b[0m\n",
      "\u001b[34mThere are 1 clusters with 10 cameras\u001b[0m\n",
      "\u001b[34mThere are 2 clusters with 12 cameras\u001b[0m\n",
      "\u001b[34mThere are 1 clusters with 14 cameras\u001b[0m\n",
      "\u001b[34mThere are 1 clusters with 16 cameras\u001b[0m\n",
      "\u001b[34mThere are 1 clusters with 17 cameras\u001b[0m\n",
      "\u001b[34mThere are 2 clusters with 18 cameras\u001b[0m\n",
      "\u001b[34mThere are 1 clusters with 35 cameras\u001b[0m\n",
      "\u001b[34mThere are 1 clusters with 43 cameras\u001b[0m\n",
      "\u001b[34mThere are 1 clusters with 44 cameras\u001b[0m\n",
      "\u001b[34mThere are 1 clusters with 46 cameras\u001b[0m\n",
      "\u001b[34mThere are 1 clusters with 50 cameras\u001b[0m\n",
      "\u001b[34mThere are 1 clusters with 52 cameras\u001b[0m\n",
      "\u001b[34mThere are 1 clusters with 53 cameras\u001b[0m\n",
      "\u001b[34mThere are 1 clusters with 54 cameras\u001b[0m\n",
      "\u001b[34mThere are 3 clusters with 55 cameras\u001b[0m\n",
      "\u001b[34mThere are 1 clusters with 56 cameras\u001b[0m\n",
      "\u001b[34mThere are 6 clusters with 57 cameras\u001b[0m\n",
      "\u001b[34mThere are 5 clusters with 58 cameras\u001b[0m\n",
      "\u001b[34mThere are 3 clusters with 59 cameras\u001b[0m\n",
      "\u001b[34mThere are 8 clusters with 60 cameras\u001b[0m\n",
      "\u001b[34mThere are 14 clusters with 61 cameras\u001b[0m\n",
      "\u001b[34mThere are 18 clusters with 62 cameras\u001b[0m\n",
      "\u001b[34mThere are 42 clusters with 63 cameras\u001b[0m\n",
      "\u001b[34mThere are 400 clusters with 64 cameras\u001b[0m\n",
      "\u001b[34mThere are 3 clusters with 66 cameras\u001b[0m\n",
      "\u001b[34mThere are 1 clusters with 68 cameras\u001b[0m\n",
      "\u001b[34mThere are 1 clusters with 69 cameras\u001b[0m\n",
      "\u001b[34mThere are 1 clusters with 73 cameras\u001b[0m\n",
      "\u001b[34mThere are 1 clusters with 106 cameras\u001b[0m\n",
      "\u001b[34mThere are 1 clusters with 109 cameras\u001b[0m\n",
      "\u001b[34mThere are 1 clusters with 116 cameras\u001b[0m\n",
      "\u001b[34mThere are 1 clusters with 118 cameras\u001b[0m\n",
      "\u001b[34mThere are 1 clusters with 121 cameras\u001b[0m\n",
      "\u001b[34mThere are 1 clusters with 122 cameras\u001b[0m\n",
      "\u001b[34mThere are 3 clusters with 123 cameras\u001b[0m\n",
      "\u001b[34mThere are 3 clusters with 124 cameras\u001b[0m\n",
      "\u001b[34mThere are 2 clusters with 126 cameras\u001b[0m\n",
      "\u001b[34mThere are 3 clusters with 127 cameras\u001b[0m\n",
      "\u001b[34mThere are 11 clusters with 128 cameras\u001b[0m\n",
      "\u001b[34mThere are 1 clusters with 131 cameras\u001b[0m\n",
      "\u001b[34mThere are 1 clusters with 134 cameras\u001b[0m\n",
      "\u001b[34mThere are 1 clusters with 187 cameras\u001b[0m\n",
      "\u001b[34mThere are 2 clusters with 188 cameras\u001b[0m\n",
      "\u001b[34mThere are 1 clusters with 190 cameras\u001b[0m\n",
      "\u001b[34mThere are 1 clusters with 192 cameras\u001b[0m\n",
      "\u001b[34mThere are 1 clusters with 338 cameras\u001b[0m\n",
      "\u001b[34mThere are 1 clusters with 361 cameras\u001b[0m\n",
      "Number of classes: 574\n",
      "\u001b[36mLearning Rate: 0.000035\u001b[0m\n",
      "encontrou modelos vgg16. Carregando...\n",
      "encontrou modelos resnet50. Carregando...\n",
      "encontrou modelos osnet. Carregando...\n",
      "encontrou modelos densenet121. Carregando...\n",
      "###============ Iteration number 73/90 ============###\n",
      "Extracting Online Features for vgg16 ...\n",
      "Features extracted in 241.26 seconds\n",
      "Computing jaccard distance...\n"
     ]
    },
    {
     "name": "stderr",
     "output_type": "stream",
     "text": [
      "bruteForceKnn is deprecated; call bfKnn instead\n"
     ]
    },
    {
     "name": "stdout",
     "output_type": "stream",
     "text": [
      "Jaccard distance computing time cost: 543.3853108882904\n",
      "Extracting Online Features for resnet50 ...\n",
      "Features extracted in 241.12 seconds\n",
      "Computing jaccard distance...\n"
     ]
    },
    {
     "name": "stderr",
     "output_type": "stream",
     "text": [
      "bruteForceKnn is deprecated; call bfKnn instead\n"
     ]
    },
    {
     "name": "stdout",
     "output_type": "stream",
     "text": [
      "Jaccard distance computing time cost: 541.4173991680145\n",
      "Extracting Online Features for osnet ...\n",
      "Features extracted in 246.67 seconds\n",
      "Computing jaccard distance...\n"
     ]
    },
    {
     "name": "stderr",
     "output_type": "stream",
     "text": [
      "bruteForceKnn is deprecated; call bfKnn instead\n"
     ]
    },
    {
     "name": "stdout",
     "output_type": "stream",
     "text": [
      "Jaccard distance computing time cost: 516.9822137355804\n",
      "Extracting Online Features for densenet121 ...\n",
      "Features extracted in 246.36 seconds\n",
      "Computing jaccard distance...\n"
     ]
    },
    {
     "name": "stderr",
     "output_type": "stream",
     "text": [
      "bruteForceKnn is deprecated; call bfKnn instead\n"
     ]
    },
    {
     "name": "stdout",
     "output_type": "stream",
     "text": [
      "Jaccard distance computing time cost: 527.1528182029724\n",
      "Reliability: 0.992\n",
      "\u001b[32mMean Purity: 0.03921\u001b[0m\n",
      "\u001b[34mThere are 3 clusters with 4 cameras\u001b[0m\n",
      "\u001b[34mThere are 3 clusters with 5 cameras\u001b[0m\n",
      "\u001b[34mThere are 3 clusters with 6 cameras\u001b[0m\n",
      "\u001b[34mThere are 2 clusters with 7 cameras\u001b[0m\n",
      "\u001b[34mThere are 3 clusters with 8 cameras\u001b[0m\n",
      "\u001b[34mThere are 1 clusters with 9 cameras\u001b[0m\n",
      "\u001b[34mThere are 1 clusters with 10 cameras\u001b[0m\n",
      "\u001b[34mThere are 2 clusters with 12 cameras\u001b[0m\n",
      "\u001b[34mThere are 1 clusters with 14 cameras\u001b[0m\n",
      "\u001b[34mThere are 1 clusters with 16 cameras\u001b[0m\n",
      "\u001b[34mThere are 1 clusters with 17 cameras\u001b[0m\n",
      "\u001b[34mThere are 2 clusters with 18 cameras\u001b[0m\n",
      "\u001b[34mThere are 1 clusters with 35 cameras\u001b[0m\n",
      "\u001b[34mThere are 1 clusters with 43 cameras\u001b[0m\n",
      "\u001b[34mThere are 1 clusters with 44 cameras\u001b[0m\n",
      "\u001b[34mThere are 1 clusters with 46 cameras\u001b[0m\n",
      "\u001b[34mThere are 1 clusters with 50 cameras\u001b[0m\n",
      "\u001b[34mThere are 1 clusters with 52 cameras\u001b[0m\n",
      "\u001b[34mThere are 1 clusters with 53 cameras\u001b[0m\n",
      "\u001b[34mThere are 1 clusters with 54 cameras\u001b[0m\n",
      "\u001b[34mThere are 3 clusters with 55 cameras\u001b[0m\n",
      "\u001b[34mThere are 1 clusters with 56 cameras\u001b[0m\n",
      "\u001b[34mThere are 6 clusters with 57 cameras\u001b[0m\n",
      "\u001b[34mThere are 5 clusters with 58 cameras\u001b[0m\n",
      "\u001b[34mThere are 3 clusters with 59 cameras\u001b[0m\n",
      "\u001b[34mThere are 8 clusters with 60 cameras\u001b[0m\n",
      "\u001b[34mThere are 14 clusters with 61 cameras\u001b[0m\n",
      "\u001b[34mThere are 18 clusters with 62 cameras\u001b[0m\n",
      "\u001b[34mThere are 42 clusters with 63 cameras\u001b[0m\n",
      "\u001b[34mThere are 400 clusters with 64 cameras\u001b[0m\n",
      "\u001b[34mThere are 3 clusters with 66 cameras\u001b[0m\n",
      "\u001b[34mThere are 1 clusters with 68 cameras\u001b[0m\n",
      "\u001b[34mThere are 1 clusters with 69 cameras\u001b[0m\n",
      "\u001b[34mThere are 1 clusters with 73 cameras\u001b[0m\n",
      "\u001b[34mThere are 1 clusters with 106 cameras\u001b[0m\n",
      "\u001b[34mThere are 1 clusters with 109 cameras\u001b[0m\n",
      "\u001b[34mThere are 1 clusters with 116 cameras\u001b[0m\n",
      "\u001b[34mThere are 1 clusters with 118 cameras\u001b[0m\n",
      "\u001b[34mThere are 1 clusters with 121 cameras\u001b[0m\n",
      "\u001b[34mThere are 1 clusters with 122 cameras\u001b[0m\n",
      "\u001b[34mThere are 3 clusters with 123 cameras\u001b[0m\n",
      "\u001b[34mThere are 3 clusters with 124 cameras\u001b[0m\n",
      "\u001b[34mThere are 2 clusters with 126 cameras\u001b[0m\n",
      "\u001b[34mThere are 3 clusters with 127 cameras\u001b[0m\n",
      "\u001b[34mThere are 11 clusters with 128 cameras\u001b[0m\n",
      "\u001b[34mThere are 1 clusters with 131 cameras\u001b[0m\n",
      "\u001b[34mThere are 1 clusters with 134 cameras\u001b[0m\n",
      "\u001b[34mThere are 1 clusters with 187 cameras\u001b[0m\n",
      "\u001b[34mThere are 2 clusters with 188 cameras\u001b[0m\n",
      "\u001b[34mThere are 1 clusters with 190 cameras\u001b[0m\n",
      "\u001b[34mThere are 1 clusters with 192 cameras\u001b[0m\n",
      "\u001b[34mThere are 1 clusters with 338 cameras\u001b[0m\n",
      "\u001b[34mThere are 1 clusters with 361 cameras\u001b[0m\n",
      "Number of classes: 574\n",
      "\u001b[36mLearning Rate: 0.000053\u001b[0m\n",
      "encontrou modelos vgg16. Carregando...\n",
      "encontrou modelos resnet50. Carregando...\n",
      "encontrou modelos osnet. Carregando...\n",
      "encontrou modelos densenet121. Carregando...\n",
      "###============ Iteration number 74/90 ============###\n",
      "Extracting Online Features for vgg16 ...\n",
      "Features extracted in 237.41 seconds\n",
      "Computing jaccard distance...\n"
     ]
    },
    {
     "name": "stderr",
     "output_type": "stream",
     "text": [
      "bruteForceKnn is deprecated; call bfKnn instead\n"
     ]
    },
    {
     "name": "stdout",
     "output_type": "stream",
     "text": [
      "Jaccard distance computing time cost: 540.4916498661041\n",
      "Extracting Online Features for resnet50 ...\n",
      "Features extracted in 240.05 seconds\n",
      "Computing jaccard distance...\n"
     ]
    },
    {
     "name": "stderr",
     "output_type": "stream",
     "text": [
      "bruteForceKnn is deprecated; call bfKnn instead\n"
     ]
    },
    {
     "name": "stdout",
     "output_type": "stream",
     "text": [
      "Jaccard distance computing time cost: 541.6404147148132\n",
      "Extracting Online Features for osnet ...\n",
      "Features extracted in 239.78 seconds\n",
      "Computing jaccard distance...\n"
     ]
    },
    {
     "name": "stderr",
     "output_type": "stream",
     "text": [
      "bruteForceKnn is deprecated; call bfKnn instead\n"
     ]
    },
    {
     "name": "stdout",
     "output_type": "stream",
     "text": [
      "Jaccard distance computing time cost: 527.6987354755402\n",
      "Extracting Online Features for densenet121 ...\n",
      "Features extracted in 235.28 seconds\n",
      "Computing jaccard distance...\n"
     ]
    },
    {
     "name": "stderr",
     "output_type": "stream",
     "text": [
      "bruteForceKnn is deprecated; call bfKnn instead\n"
     ]
    },
    {
     "name": "stdout",
     "output_type": "stream",
     "text": [
      "Jaccard distance computing time cost: 543.7464175224304\n",
      "Reliability: 0.992\n",
      "\u001b[32mMean Purity: 0.03921\u001b[0m\n",
      "\u001b[34mThere are 3 clusters with 4 cameras\u001b[0m\n",
      "\u001b[34mThere are 3 clusters with 5 cameras\u001b[0m\n",
      "\u001b[34mThere are 3 clusters with 6 cameras\u001b[0m\n",
      "\u001b[34mThere are 2 clusters with 7 cameras\u001b[0m\n",
      "\u001b[34mThere are 3 clusters with 8 cameras\u001b[0m\n",
      "\u001b[34mThere are 1 clusters with 9 cameras\u001b[0m\n",
      "\u001b[34mThere are 1 clusters with 10 cameras\u001b[0m\n",
      "\u001b[34mThere are 2 clusters with 12 cameras\u001b[0m\n",
      "\u001b[34mThere are 1 clusters with 14 cameras\u001b[0m\n",
      "\u001b[34mThere are 1 clusters with 16 cameras\u001b[0m\n",
      "\u001b[34mThere are 1 clusters with 17 cameras\u001b[0m\n",
      "\u001b[34mThere are 2 clusters with 18 cameras\u001b[0m\n",
      "\u001b[34mThere are 1 clusters with 35 cameras\u001b[0m\n",
      "\u001b[34mThere are 1 clusters with 43 cameras\u001b[0m\n",
      "\u001b[34mThere are 1 clusters with 44 cameras\u001b[0m\n",
      "\u001b[34mThere are 1 clusters with 46 cameras\u001b[0m\n",
      "\u001b[34mThere are 1 clusters with 50 cameras\u001b[0m\n",
      "\u001b[34mThere are 1 clusters with 52 cameras\u001b[0m\n",
      "\u001b[34mThere are 1 clusters with 53 cameras\u001b[0m\n",
      "\u001b[34mThere are 1 clusters with 54 cameras\u001b[0m\n",
      "\u001b[34mThere are 3 clusters with 55 cameras\u001b[0m\n",
      "\u001b[34mThere are 1 clusters with 56 cameras\u001b[0m\n",
      "\u001b[34mThere are 6 clusters with 57 cameras\u001b[0m\n",
      "\u001b[34mThere are 5 clusters with 58 cameras\u001b[0m\n",
      "\u001b[34mThere are 3 clusters with 59 cameras\u001b[0m\n",
      "\u001b[34mThere are 8 clusters with 60 cameras\u001b[0m\n",
      "\u001b[34mThere are 14 clusters with 61 cameras\u001b[0m\n",
      "\u001b[34mThere are 18 clusters with 62 cameras\u001b[0m\n",
      "\u001b[34mThere are 42 clusters with 63 cameras\u001b[0m\n",
      "\u001b[34mThere are 400 clusters with 64 cameras\u001b[0m\n",
      "\u001b[34mThere are 3 clusters with 66 cameras\u001b[0m\n",
      "\u001b[34mThere are 1 clusters with 68 cameras\u001b[0m\n",
      "\u001b[34mThere are 1 clusters with 69 cameras\u001b[0m\n",
      "\u001b[34mThere are 1 clusters with 73 cameras\u001b[0m\n",
      "\u001b[34mThere are 1 clusters with 106 cameras\u001b[0m\n",
      "\u001b[34mThere are 1 clusters with 109 cameras\u001b[0m\n",
      "\u001b[34mThere are 1 clusters with 116 cameras\u001b[0m\n",
      "\u001b[34mThere are 1 clusters with 118 cameras\u001b[0m\n",
      "\u001b[34mThere are 1 clusters with 121 cameras\u001b[0m\n",
      "\u001b[34mThere are 1 clusters with 122 cameras\u001b[0m\n",
      "\u001b[34mThere are 3 clusters with 123 cameras\u001b[0m\n",
      "\u001b[34mThere are 3 clusters with 124 cameras\u001b[0m\n",
      "\u001b[34mThere are 2 clusters with 126 cameras\u001b[0m\n",
      "\u001b[34mThere are 3 clusters with 127 cameras\u001b[0m\n",
      "\u001b[34mThere are 11 clusters with 128 cameras\u001b[0m\n",
      "\u001b[34mThere are 1 clusters with 131 cameras\u001b[0m\n",
      "\u001b[34mThere are 1 clusters with 134 cameras\u001b[0m\n",
      "\u001b[34mThere are 1 clusters with 187 cameras\u001b[0m\n",
      "\u001b[34mThere are 2 clusters with 188 cameras\u001b[0m\n",
      "\u001b[34mThere are 1 clusters with 190 cameras\u001b[0m\n",
      "\u001b[34mThere are 1 clusters with 192 cameras\u001b[0m\n",
      "\u001b[34mThere are 1 clusters with 338 cameras\u001b[0m\n",
      "\u001b[34mThere are 1 clusters with 361 cameras\u001b[0m\n",
      "Number of classes: 574\n",
      "\u001b[36mLearning Rate: 0.000070\u001b[0m\n",
      "encontrou modelos vgg16. Carregando...\n",
      "encontrou modelos resnet50. Carregando...\n",
      "encontrou modelos osnet. Carregando...\n",
      "encontrou modelos densenet121. Carregando...\n",
      "###============ Iteration number 75/90 ============###\n",
      "Extracting Online Features for vgg16 ...\n",
      "Features extracted in 247.61 seconds\n",
      "Computing jaccard distance...\n"
     ]
    },
    {
     "name": "stderr",
     "output_type": "stream",
     "text": [
      "bruteForceKnn is deprecated; call bfKnn instead\n"
     ]
    },
    {
     "name": "stdout",
     "output_type": "stream",
     "text": [
      "Jaccard distance computing time cost: 524.9730589389801\n",
      "Extracting Online Features for resnet50 ...\n",
      "Features extracted in 239.72 seconds\n",
      "Computing jaccard distance...\n"
     ]
    },
    {
     "name": "stderr",
     "output_type": "stream",
     "text": [
      "bruteForceKnn is deprecated; call bfKnn instead\n"
     ]
    },
    {
     "name": "stdout",
     "output_type": "stream",
     "text": [
      "Jaccard distance computing time cost: 550.0573761463165\n",
      "Extracting Online Features for osnet ...\n",
      "Features extracted in 243.39 seconds\n",
      "Computing jaccard distance...\n"
     ]
    },
    {
     "name": "stderr",
     "output_type": "stream",
     "text": [
      "bruteForceKnn is deprecated; call bfKnn instead\n"
     ]
    },
    {
     "name": "stdout",
     "output_type": "stream",
     "text": [
      "Jaccard distance computing time cost: 532.2391691207886\n",
      "Extracting Online Features for densenet121 ...\n",
      "Features extracted in 250.10 seconds\n",
      "Computing jaccard distance...\n"
     ]
    },
    {
     "name": "stderr",
     "output_type": "stream",
     "text": [
      "bruteForceKnn is deprecated; call bfKnn instead\n"
     ]
    },
    {
     "name": "stdout",
     "output_type": "stream",
     "text": [
      "Jaccard distance computing time cost: 527.1515271663666\n",
      "Reliability: 0.992\n",
      "\u001b[32mMean Purity: 0.03921\u001b[0m\n",
      "\u001b[34mThere are 3 clusters with 4 cameras\u001b[0m\n",
      "\u001b[34mThere are 3 clusters with 5 cameras\u001b[0m\n",
      "\u001b[34mThere are 3 clusters with 6 cameras\u001b[0m\n",
      "\u001b[34mThere are 2 clusters with 7 cameras\u001b[0m\n",
      "\u001b[34mThere are 3 clusters with 8 cameras\u001b[0m\n",
      "\u001b[34mThere are 1 clusters with 9 cameras\u001b[0m\n",
      "\u001b[34mThere are 1 clusters with 10 cameras\u001b[0m\n",
      "\u001b[34mThere are 2 clusters with 12 cameras\u001b[0m\n",
      "\u001b[34mThere are 1 clusters with 14 cameras\u001b[0m\n",
      "\u001b[34mThere are 1 clusters with 16 cameras\u001b[0m\n",
      "\u001b[34mThere are 1 clusters with 17 cameras\u001b[0m\n",
      "\u001b[34mThere are 2 clusters with 18 cameras\u001b[0m\n",
      "\u001b[34mThere are 1 clusters with 35 cameras\u001b[0m\n",
      "\u001b[34mThere are 1 clusters with 43 cameras\u001b[0m\n",
      "\u001b[34mThere are 1 clusters with 44 cameras\u001b[0m\n",
      "\u001b[34mThere are 1 clusters with 46 cameras\u001b[0m\n",
      "\u001b[34mThere are 1 clusters with 50 cameras\u001b[0m\n",
      "\u001b[34mThere are 1 clusters with 52 cameras\u001b[0m\n",
      "\u001b[34mThere are 1 clusters with 53 cameras\u001b[0m\n",
      "\u001b[34mThere are 1 clusters with 54 cameras\u001b[0m\n",
      "\u001b[34mThere are 3 clusters with 55 cameras\u001b[0m\n",
      "\u001b[34mThere are 1 clusters with 56 cameras\u001b[0m\n",
      "\u001b[34mThere are 6 clusters with 57 cameras\u001b[0m\n",
      "\u001b[34mThere are 5 clusters with 58 cameras\u001b[0m\n",
      "\u001b[34mThere are 3 clusters with 59 cameras\u001b[0m\n",
      "\u001b[34mThere are 8 clusters with 60 cameras\u001b[0m\n",
      "\u001b[34mThere are 14 clusters with 61 cameras\u001b[0m\n",
      "\u001b[34mThere are 18 clusters with 62 cameras\u001b[0m\n",
      "\u001b[34mThere are 42 clusters with 63 cameras\u001b[0m\n",
      "\u001b[34mThere are 400 clusters with 64 cameras\u001b[0m\n",
      "\u001b[34mThere are 3 clusters with 66 cameras\u001b[0m\n",
      "\u001b[34mThere are 1 clusters with 68 cameras\u001b[0m\n",
      "\u001b[34mThere are 1 clusters with 69 cameras\u001b[0m\n",
      "\u001b[34mThere are 1 clusters with 73 cameras\u001b[0m\n",
      "\u001b[34mThere are 1 clusters with 106 cameras\u001b[0m\n",
      "\u001b[34mThere are 1 clusters with 109 cameras\u001b[0m\n",
      "\u001b[34mThere are 1 clusters with 116 cameras\u001b[0m\n",
      "\u001b[34mThere are 1 clusters with 118 cameras\u001b[0m\n",
      "\u001b[34mThere are 1 clusters with 121 cameras\u001b[0m\n",
      "\u001b[34mThere are 1 clusters with 122 cameras\u001b[0m\n",
      "\u001b[34mThere are 3 clusters with 123 cameras\u001b[0m\n",
      "\u001b[34mThere are 3 clusters with 124 cameras\u001b[0m\n",
      "\u001b[34mThere are 2 clusters with 126 cameras\u001b[0m\n",
      "\u001b[34mThere are 3 clusters with 127 cameras\u001b[0m\n",
      "\u001b[34mThere are 11 clusters with 128 cameras\u001b[0m\n",
      "\u001b[34mThere are 1 clusters with 131 cameras\u001b[0m\n",
      "\u001b[34mThere are 1 clusters with 134 cameras\u001b[0m\n",
      "\u001b[34mThere are 1 clusters with 187 cameras\u001b[0m\n",
      "\u001b[34mThere are 2 clusters with 188 cameras\u001b[0m\n",
      "\u001b[34mThere are 1 clusters with 190 cameras\u001b[0m\n",
      "\u001b[34mThere are 1 clusters with 192 cameras\u001b[0m\n",
      "\u001b[34mThere are 1 clusters with 338 cameras\u001b[0m\n",
      "\u001b[34mThere are 1 clusters with 361 cameras\u001b[0m\n",
      "Number of classes: 574\n",
      "\u001b[36mLearning Rate: 0.000088\u001b[0m\n",
      "encontrou modelos vgg16. Carregando...\n",
      "encontrou modelos resnet50. Carregando...\n",
      "encontrou modelos osnet. Carregando...\n",
      "encontrou modelos densenet121. Carregando...\n",
      "\u001b[33mValidating online vgg16 ...\u001b[0m\n",
      "Features extracted in 84.14 seconds\n",
      "Features extracted in 144.16 seconds\n",
      "Computing CMC and mAP ...\n",
      "** Results **\n",
      "mAP: 70.12%\n",
      "CMC curve\n",
      "Rank-1  : 75.96%\n",
      "Rank-5  : 91.27%\n",
      "Rank-10 : 94.82%\n",
      "Rank-20 : 96.79%\n",
      "\u001b[33mValidating momentum vgg16 ...\u001b[0m\n",
      "Features extracted in 75.06 seconds\n",
      "Features extracted in 144.03 seconds\n",
      "Computing CMC and mAP ...\n",
      "** Results **\n",
      "mAP: 66.17%\n",
      "CMC curve\n",
      "Rank-1  : 60.22%\n",
      "Rank-5  : 85.69%\n",
      "Rank-10 : 92.76%\n",
      "Rank-20 : 97.47%\n",
      "\u001b[33mValidating online resnet50 ...\u001b[0m\n",
      "Features extracted in 70.32 seconds\n",
      "Features extracted in 136.46 seconds\n",
      "Computing CMC and mAP ...\n",
      "** Results **\n",
      "mAP: 67.50%\n",
      "CMC curve\n",
      "Rank-1  : 55.02%\n",
      "Rank-5  : 80.54%\n",
      "Rank-10 : 89.57%\n",
      "Rank-20 : 96.21%\n",
      "\u001b[33mValidating momentum resnet50 ...\u001b[0m\n",
      "Features extracted in 67.63 seconds\n",
      "Features extracted in 142.66 seconds\n",
      "Computing CMC and mAP ...\n",
      "** Results **\n",
      "mAP: 66.53%\n",
      "CMC curve\n",
      "Rank-1  : 51.40%\n",
      "Rank-5  : 82.97%\n",
      "Rank-10 : 92.60%\n",
      "Rank-20 : 97.67%\n",
      "\u001b[33mValidating online osnet ...\u001b[0m\n",
      "Features extracted in 70.14 seconds\n",
      "Features extracted in 141.77 seconds\n",
      "Computing CMC and mAP ...\n",
      "** Results **\n",
      "mAP: 70.98%\n",
      "CMC curve\n",
      "Rank-1  : 66.36%\n",
      "Rank-5  : 91.56%\n",
      "Rank-10 : 96.56%\n",
      "Rank-20 : 99.07%\n",
      "\u001b[33mValidating momentum osnet ...\u001b[0m\n",
      "Features extracted in 71.87 seconds\n",
      "Features extracted in 144.82 seconds\n",
      "Computing CMC and mAP ...\n",
      "** Results **\n",
      "mAP: 64.56%\n",
      "CMC curve\n",
      "Rank-1  : 55.77%\n",
      "Rank-5  : 86.08%\n",
      "Rank-10 : 94.11%\n",
      "Rank-20 : 97.92%\n",
      "\u001b[33mValidating online densenet121 ...\u001b[0m\n",
      "Features extracted in 68.66 seconds\n",
      "Features extracted in 145.68 seconds\n",
      "Computing CMC and mAP ...\n",
      "** Results **\n",
      "mAP: 69.32%\n",
      "CMC curve\n",
      "Rank-1  : 61.53%\n",
      "Rank-5  : 85.89%\n",
      "Rank-10 : 93.66%\n",
      "Rank-20 : 97.66%\n",
      "\u001b[33mValidating momentum densenet121 ...\u001b[0m\n",
      "Features extracted in 69.82 seconds\n",
      "Features extracted in 143.31 seconds\n",
      "Computing CMC and mAP ...\n",
      "** Results **\n",
      "mAP: 66.02%\n",
      "CMC curve\n",
      "Rank-1  : 63.00%\n",
      "Rank-5  : 91.00%\n",
      "Rank-10 : 96.36%\n",
      "Rank-20 : 98.94%\n",
      "\u001b[33mValidating ensembled with online models ...\u001b[0m\n",
      "Computing CMC and mAP ...\n",
      "** Results **\n",
      "mAP: 69.73%\n",
      "Ranks:\n",
      "Rank-1  : 63.31%\n",
      "Rank-5  : 83.51%\n",
      "Rank-10 : 91.32%\n",
      "\u001b[33mValidating ensembled with momentum models ...\u001b[0m\n",
      "Computing CMC and mAP ...\n",
      "** Results **\n",
      "mAP: 65.40%\n",
      "Ranks:\n",
      "Rank-1  : 60.95%\n",
      "Rank-5  : 84.80%\n",
      "Rank-10 : 92.04%\n",
      "###============ Iteration number 76/90 ============###\n",
      "Extracting Online Features for vgg16 ...\n",
      "Features extracted in 249.38 seconds\n",
      "Computing jaccard distance...\n"
     ]
    },
    {
     "name": "stderr",
     "output_type": "stream",
     "text": [
      "bruteForceKnn is deprecated; call bfKnn instead\n"
     ]
    },
    {
     "name": "stdout",
     "output_type": "stream",
     "text": [
      "Jaccard distance computing time cost: 514.6701092720032\n",
      "Extracting Online Features for resnet50 ...\n",
      "Features extracted in 225.09 seconds\n",
      "Computing jaccard distance...\n"
     ]
    },
    {
     "name": "stderr",
     "output_type": "stream",
     "text": [
      "bruteForceKnn is deprecated; call bfKnn instead\n"
     ]
    },
    {
     "name": "stdout",
     "output_type": "stream",
     "text": [
      "Jaccard distance computing time cost: 507.7998604774475\n",
      "Extracting Online Features for osnet ...\n",
      "Features extracted in 213.25 seconds\n",
      "Computing jaccard distance...\n"
     ]
    },
    {
     "name": "stderr",
     "output_type": "stream",
     "text": [
      "bruteForceKnn is deprecated; call bfKnn instead\n"
     ]
    },
    {
     "name": "stdout",
     "output_type": "stream",
     "text": [
      "Jaccard distance computing time cost: 489.03327322006226\n",
      "Extracting Online Features for densenet121 ...\n",
      "Features extracted in 196.63 seconds\n",
      "Computing jaccard distance...\n"
     ]
    },
    {
     "name": "stderr",
     "output_type": "stream",
     "text": [
      "bruteForceKnn is deprecated; call bfKnn instead\n"
     ]
    },
    {
     "name": "stdout",
     "output_type": "stream",
     "text": [
      "Jaccard distance computing time cost: 500.28670954704285\n",
      "Reliability: 0.992\n",
      "\u001b[32mMean Purity: 0.03921\u001b[0m\n",
      "\u001b[34mThere are 3 clusters with 4 cameras\u001b[0m\n",
      "\u001b[34mThere are 3 clusters with 5 cameras\u001b[0m\n",
      "\u001b[34mThere are 3 clusters with 6 cameras\u001b[0m\n",
      "\u001b[34mThere are 2 clusters with 7 cameras\u001b[0m\n",
      "\u001b[34mThere are 3 clusters with 8 cameras\u001b[0m\n",
      "\u001b[34mThere are 1 clusters with 9 cameras\u001b[0m\n",
      "\u001b[34mThere are 1 clusters with 10 cameras\u001b[0m\n",
      "\u001b[34mThere are 2 clusters with 12 cameras\u001b[0m\n",
      "\u001b[34mThere are 1 clusters with 14 cameras\u001b[0m\n",
      "\u001b[34mThere are 1 clusters with 16 cameras\u001b[0m\n",
      "\u001b[34mThere are 1 clusters with 17 cameras\u001b[0m\n",
      "\u001b[34mThere are 2 clusters with 18 cameras\u001b[0m\n",
      "\u001b[34mThere are 1 clusters with 35 cameras\u001b[0m\n",
      "\u001b[34mThere are 1 clusters with 43 cameras\u001b[0m\n",
      "\u001b[34mThere are 1 clusters with 44 cameras\u001b[0m\n",
      "\u001b[34mThere are 1 clusters with 46 cameras\u001b[0m\n",
      "\u001b[34mThere are 1 clusters with 50 cameras\u001b[0m\n",
      "\u001b[34mThere are 1 clusters with 52 cameras\u001b[0m\n",
      "\u001b[34mThere are 1 clusters with 53 cameras\u001b[0m\n",
      "\u001b[34mThere are 1 clusters with 54 cameras\u001b[0m\n",
      "\u001b[34mThere are 3 clusters with 55 cameras\u001b[0m\n",
      "\u001b[34mThere are 1 clusters with 56 cameras\u001b[0m\n",
      "\u001b[34mThere are 6 clusters with 57 cameras\u001b[0m\n",
      "\u001b[34mThere are 5 clusters with 58 cameras\u001b[0m\n",
      "\u001b[34mThere are 3 clusters with 59 cameras\u001b[0m\n",
      "\u001b[34mThere are 8 clusters with 60 cameras\u001b[0m\n",
      "\u001b[34mThere are 14 clusters with 61 cameras\u001b[0m\n",
      "\u001b[34mThere are 18 clusters with 62 cameras\u001b[0m\n",
      "\u001b[34mThere are 42 clusters with 63 cameras\u001b[0m\n",
      "\u001b[34mThere are 400 clusters with 64 cameras\u001b[0m\n",
      "\u001b[34mThere are 3 clusters with 66 cameras\u001b[0m\n",
      "\u001b[34mThere are 1 clusters with 68 cameras\u001b[0m\n",
      "\u001b[34mThere are 1 clusters with 69 cameras\u001b[0m\n",
      "\u001b[34mThere are 1 clusters with 73 cameras\u001b[0m\n",
      "\u001b[34mThere are 1 clusters with 106 cameras\u001b[0m\n",
      "\u001b[34mThere are 1 clusters with 109 cameras\u001b[0m\n",
      "\u001b[34mThere are 1 clusters with 116 cameras\u001b[0m\n",
      "\u001b[34mThere are 1 clusters with 118 cameras\u001b[0m\n",
      "\u001b[34mThere are 1 clusters with 121 cameras\u001b[0m\n",
      "\u001b[34mThere are 1 clusters with 122 cameras\u001b[0m\n",
      "\u001b[34mThere are 3 clusters with 123 cameras\u001b[0m\n",
      "\u001b[34mThere are 3 clusters with 124 cameras\u001b[0m\n",
      "\u001b[34mThere are 2 clusters with 126 cameras\u001b[0m\n",
      "\u001b[34mThere are 3 clusters with 127 cameras\u001b[0m\n",
      "\u001b[34mThere are 11 clusters with 128 cameras\u001b[0m\n",
      "\u001b[34mThere are 1 clusters with 131 cameras\u001b[0m\n",
      "\u001b[34mThere are 1 clusters with 134 cameras\u001b[0m\n",
      "\u001b[34mThere are 1 clusters with 187 cameras\u001b[0m\n",
      "\u001b[34mThere are 2 clusters with 188 cameras\u001b[0m\n",
      "\u001b[34mThere are 1 clusters with 190 cameras\u001b[0m\n",
      "\u001b[34mThere are 1 clusters with 192 cameras\u001b[0m\n",
      "\u001b[34mThere are 1 clusters with 338 cameras\u001b[0m\n",
      "\u001b[34mThere are 1 clusters with 361 cameras\u001b[0m\n",
      "Number of classes: 574\n",
      "\u001b[36mLearning Rate: 0.000105\u001b[0m\n",
      "encontrou modelos vgg16. Carregando...\n",
      "encontrou modelos resnet50. Carregando...\n",
      "encontrou modelos osnet. Carregando...\n",
      "encontrou modelos densenet121. Carregando...\n",
      "###============ Iteration number 77/90 ============###\n",
      "Extracting Online Features for vgg16 ...\n",
      "Features extracted in 210.25 seconds\n",
      "Computing jaccard distance...\n"
     ]
    },
    {
     "name": "stderr",
     "output_type": "stream",
     "text": [
      "bruteForceKnn is deprecated; call bfKnn instead\n"
     ]
    },
    {
     "name": "stdout",
     "output_type": "stream",
     "text": [
      "Jaccard distance computing time cost: 495.5106530189514\n",
      "Extracting Online Features for resnet50 ...\n",
      "Features extracted in 206.64 seconds\n",
      "Computing jaccard distance...\n"
     ]
    },
    {
     "name": "stderr",
     "output_type": "stream",
     "text": [
      "bruteForceKnn is deprecated; call bfKnn instead\n"
     ]
    },
    {
     "name": "stdout",
     "output_type": "stream",
     "text": [
      "Jaccard distance computing time cost: 449.50431537628174\n",
      "Extracting Online Features for osnet ...\n",
      "Features extracted in 197.32 seconds\n",
      "Computing jaccard distance...\n"
     ]
    },
    {
     "name": "stderr",
     "output_type": "stream",
     "text": [
      "bruteForceKnn is deprecated; call bfKnn instead\n"
     ]
    },
    {
     "name": "stdout",
     "output_type": "stream",
     "text": [
      "Jaccard distance computing time cost: 483.557968378067\n",
      "Extracting Online Features for densenet121 ...\n",
      "Features extracted in 203.85 seconds\n",
      "Computing jaccard distance...\n"
     ]
    },
    {
     "name": "stderr",
     "output_type": "stream",
     "text": [
      "bruteForceKnn is deprecated; call bfKnn instead\n"
     ]
    },
    {
     "name": "stdout",
     "output_type": "stream",
     "text": [
      "Jaccard distance computing time cost: 493.0169653892517\n",
      "Reliability: 0.992\n",
      "\u001b[32mMean Purity: 0.03921\u001b[0m\n",
      "\u001b[34mThere are 3 clusters with 4 cameras\u001b[0m\n",
      "\u001b[34mThere are 3 clusters with 5 cameras\u001b[0m\n",
      "\u001b[34mThere are 3 clusters with 6 cameras\u001b[0m\n",
      "\u001b[34mThere are 2 clusters with 7 cameras\u001b[0m\n",
      "\u001b[34mThere are 3 clusters with 8 cameras\u001b[0m\n",
      "\u001b[34mThere are 1 clusters with 9 cameras\u001b[0m\n",
      "\u001b[34mThere are 1 clusters with 10 cameras\u001b[0m\n",
      "\u001b[34mThere are 2 clusters with 12 cameras\u001b[0m\n",
      "\u001b[34mThere are 1 clusters with 14 cameras\u001b[0m\n",
      "\u001b[34mThere are 1 clusters with 16 cameras\u001b[0m\n",
      "\u001b[34mThere are 1 clusters with 17 cameras\u001b[0m\n",
      "\u001b[34mThere are 2 clusters with 18 cameras\u001b[0m\n",
      "\u001b[34mThere are 1 clusters with 35 cameras\u001b[0m\n",
      "\u001b[34mThere are 1 clusters with 43 cameras\u001b[0m\n",
      "\u001b[34mThere are 1 clusters with 44 cameras\u001b[0m\n",
      "\u001b[34mThere are 1 clusters with 46 cameras\u001b[0m\n",
      "\u001b[34mThere are 1 clusters with 50 cameras\u001b[0m\n",
      "\u001b[34mThere are 1 clusters with 52 cameras\u001b[0m\n",
      "\u001b[34mThere are 1 clusters with 53 cameras\u001b[0m\n",
      "\u001b[34mThere are 1 clusters with 54 cameras\u001b[0m\n",
      "\u001b[34mThere are 3 clusters with 55 cameras\u001b[0m\n",
      "\u001b[34mThere are 1 clusters with 56 cameras\u001b[0m\n",
      "\u001b[34mThere are 6 clusters with 57 cameras\u001b[0m\n",
      "\u001b[34mThere are 5 clusters with 58 cameras\u001b[0m\n",
      "\u001b[34mThere are 3 clusters with 59 cameras\u001b[0m\n",
      "\u001b[34mThere are 8 clusters with 60 cameras\u001b[0m\n",
      "\u001b[34mThere are 14 clusters with 61 cameras\u001b[0m\n",
      "\u001b[34mThere are 18 clusters with 62 cameras\u001b[0m\n",
      "\u001b[34mThere are 42 clusters with 63 cameras\u001b[0m\n",
      "\u001b[34mThere are 400 clusters with 64 cameras\u001b[0m\n",
      "\u001b[34mThere are 3 clusters with 66 cameras\u001b[0m\n",
      "\u001b[34mThere are 1 clusters with 68 cameras\u001b[0m\n",
      "\u001b[34mThere are 1 clusters with 69 cameras\u001b[0m\n",
      "\u001b[34mThere are 1 clusters with 73 cameras\u001b[0m\n",
      "\u001b[34mThere are 1 clusters with 106 cameras\u001b[0m\n",
      "\u001b[34mThere are 1 clusters with 109 cameras\u001b[0m\n",
      "\u001b[34mThere are 1 clusters with 116 cameras\u001b[0m\n",
      "\u001b[34mThere are 1 clusters with 118 cameras\u001b[0m\n",
      "\u001b[34mThere are 1 clusters with 121 cameras\u001b[0m\n",
      "\u001b[34mThere are 1 clusters with 122 cameras\u001b[0m\n",
      "\u001b[34mThere are 3 clusters with 123 cameras\u001b[0m\n",
      "\u001b[34mThere are 3 clusters with 124 cameras\u001b[0m\n",
      "\u001b[34mThere are 2 clusters with 126 cameras\u001b[0m\n",
      "\u001b[34mThere are 3 clusters with 127 cameras\u001b[0m\n",
      "\u001b[34mThere are 11 clusters with 128 cameras\u001b[0m\n",
      "\u001b[34mThere are 1 clusters with 131 cameras\u001b[0m\n",
      "\u001b[34mThere are 1 clusters with 134 cameras\u001b[0m\n",
      "\u001b[34mThere are 1 clusters with 187 cameras\u001b[0m\n",
      "\u001b[34mThere are 2 clusters with 188 cameras\u001b[0m\n",
      "\u001b[34mThere are 1 clusters with 190 cameras\u001b[0m\n",
      "\u001b[34mThere are 1 clusters with 192 cameras\u001b[0m\n",
      "\u001b[34mThere are 1 clusters with 338 cameras\u001b[0m\n",
      "\u001b[34mThere are 1 clusters with 361 cameras\u001b[0m\n",
      "Number of classes: 574\n",
      "\u001b[36mLearning Rate: 0.000122\u001b[0m\n",
      "encontrou modelos vgg16. Carregando...\n",
      "encontrou modelos resnet50. Carregando...\n",
      "encontrou modelos osnet. Carregando...\n",
      "encontrou modelos densenet121. Carregando...\n",
      "###============ Iteration number 78/90 ============###\n",
      "Extracting Online Features for vgg16 ...\n",
      "Features extracted in 226.85 seconds\n",
      "Computing jaccard distance...\n"
     ]
    },
    {
     "name": "stderr",
     "output_type": "stream",
     "text": [
      "bruteForceKnn is deprecated; call bfKnn instead\n"
     ]
    },
    {
     "name": "stdout",
     "output_type": "stream",
     "text": [
      "Jaccard distance computing time cost: 167.08651685714722\n",
      "Extracting Online Features for resnet50 ...\n",
      "Features extracted in 203.52 seconds\n",
      "Computing jaccard distance...\n"
     ]
    },
    {
     "name": "stderr",
     "output_type": "stream",
     "text": [
      "bruteForceKnn is deprecated; call bfKnn instead\n"
     ]
    },
    {
     "name": "stdout",
     "output_type": "stream",
     "text": [
      "Jaccard distance computing time cost: 79.04798698425293\n",
      "Extracting Online Features for osnet ...\n",
      "Features extracted in 179.13 seconds\n",
      "Computing jaccard distance...\n"
     ]
    },
    {
     "name": "stderr",
     "output_type": "stream",
     "text": [
      "bruteForceKnn is deprecated; call bfKnn instead\n"
     ]
    },
    {
     "name": "stdout",
     "output_type": "stream",
     "text": [
      "Jaccard distance computing time cost: 72.02660512924194\n",
      "Extracting Online Features for densenet121 ...\n",
      "Features extracted in 215.61 seconds\n",
      "Computing jaccard distance...\n"
     ]
    },
    {
     "name": "stderr",
     "output_type": "stream",
     "text": [
      "bruteForceKnn is deprecated; call bfKnn instead\n"
     ]
    },
    {
     "name": "stdout",
     "output_type": "stream",
     "text": [
      "Jaccard distance computing time cost: 74.55745553970337\n",
      "Reliability: 0.992\n",
      "\u001b[32mMean Purity: 0.03921\u001b[0m\n",
      "\u001b[34mThere are 3 clusters with 4 cameras\u001b[0m\n",
      "\u001b[34mThere are 3 clusters with 5 cameras\u001b[0m\n",
      "\u001b[34mThere are 3 clusters with 6 cameras\u001b[0m\n",
      "\u001b[34mThere are 2 clusters with 7 cameras\u001b[0m\n",
      "\u001b[34mThere are 3 clusters with 8 cameras\u001b[0m\n",
      "\u001b[34mThere are 1 clusters with 9 cameras\u001b[0m\n",
      "\u001b[34mThere are 1 clusters with 10 cameras\u001b[0m\n",
      "\u001b[34mThere are 2 clusters with 12 cameras\u001b[0m\n",
      "\u001b[34mThere are 1 clusters with 14 cameras\u001b[0m\n",
      "\u001b[34mThere are 1 clusters with 16 cameras\u001b[0m\n",
      "\u001b[34mThere are 1 clusters with 17 cameras\u001b[0m\n",
      "\u001b[34mThere are 2 clusters with 18 cameras\u001b[0m\n",
      "\u001b[34mThere are 1 clusters with 35 cameras\u001b[0m\n",
      "\u001b[34mThere are 1 clusters with 43 cameras\u001b[0m\n",
      "\u001b[34mThere are 1 clusters with 44 cameras\u001b[0m\n",
      "\u001b[34mThere are 1 clusters with 46 cameras\u001b[0m\n",
      "\u001b[34mThere are 1 clusters with 50 cameras\u001b[0m\n",
      "\u001b[34mThere are 1 clusters with 52 cameras\u001b[0m\n",
      "\u001b[34mThere are 1 clusters with 53 cameras\u001b[0m\n",
      "\u001b[34mThere are 1 clusters with 54 cameras\u001b[0m\n",
      "\u001b[34mThere are 3 clusters with 55 cameras\u001b[0m\n",
      "\u001b[34mThere are 1 clusters with 56 cameras\u001b[0m\n",
      "\u001b[34mThere are 6 clusters with 57 cameras\u001b[0m\n",
      "\u001b[34mThere are 5 clusters with 58 cameras\u001b[0m\n",
      "\u001b[34mThere are 3 clusters with 59 cameras\u001b[0m\n",
      "\u001b[34mThere are 8 clusters with 60 cameras\u001b[0m\n",
      "\u001b[34mThere are 14 clusters with 61 cameras\u001b[0m\n",
      "\u001b[34mThere are 18 clusters with 62 cameras\u001b[0m\n",
      "\u001b[34mThere are 42 clusters with 63 cameras\u001b[0m\n",
      "\u001b[34mThere are 400 clusters with 64 cameras\u001b[0m\n",
      "\u001b[34mThere are 3 clusters with 66 cameras\u001b[0m\n",
      "\u001b[34mThere are 1 clusters with 68 cameras\u001b[0m\n",
      "\u001b[34mThere are 1 clusters with 69 cameras\u001b[0m\n",
      "\u001b[34mThere are 1 clusters with 73 cameras\u001b[0m\n",
      "\u001b[34mThere are 1 clusters with 106 cameras\u001b[0m\n",
      "\u001b[34mThere are 1 clusters with 109 cameras\u001b[0m\n",
      "\u001b[34mThere are 1 clusters with 116 cameras\u001b[0m\n",
      "\u001b[34mThere are 1 clusters with 118 cameras\u001b[0m\n",
      "\u001b[34mThere are 1 clusters with 121 cameras\u001b[0m\n",
      "\u001b[34mThere are 1 clusters with 122 cameras\u001b[0m\n",
      "\u001b[34mThere are 3 clusters with 123 cameras\u001b[0m\n",
      "\u001b[34mThere are 3 clusters with 124 cameras\u001b[0m\n",
      "\u001b[34mThere are 2 clusters with 126 cameras\u001b[0m\n",
      "\u001b[34mThere are 3 clusters with 127 cameras\u001b[0m\n",
      "\u001b[34mThere are 11 clusters with 128 cameras\u001b[0m\n",
      "\u001b[34mThere are 1 clusters with 131 cameras\u001b[0m\n",
      "\u001b[34mThere are 1 clusters with 134 cameras\u001b[0m\n",
      "\u001b[34mThere are 1 clusters with 187 cameras\u001b[0m\n",
      "\u001b[34mThere are 2 clusters with 188 cameras\u001b[0m\n",
      "\u001b[34mThere are 1 clusters with 190 cameras\u001b[0m\n",
      "\u001b[34mThere are 1 clusters with 192 cameras\u001b[0m\n",
      "\u001b[34mThere are 1 clusters with 338 cameras\u001b[0m\n",
      "\u001b[34mThere are 1 clusters with 361 cameras\u001b[0m\n",
      "Number of classes: 574\n",
      "\u001b[36mLearning Rate: 0.000140\u001b[0m\n",
      "encontrou modelos vgg16. Carregando...\n",
      "encontrou modelos resnet50. Carregando...\n",
      "encontrou modelos osnet. Carregando...\n",
      "encontrou modelos densenet121. Carregando...\n",
      "###============ Iteration number 79/90 ============###\n",
      "Extracting Online Features for vgg16 ...\n",
      "Features extracted in 191.66 seconds\n",
      "Computing jaccard distance...\n"
     ]
    },
    {
     "name": "stderr",
     "output_type": "stream",
     "text": [
      "bruteForceKnn is deprecated; call bfKnn instead\n"
     ]
    },
    {
     "name": "stdout",
     "output_type": "stream",
     "text": [
      "Jaccard distance computing time cost: 74.24698829650879\n",
      "Extracting Online Features for resnet50 ...\n",
      "Features extracted in 208.01 seconds\n",
      "Computing jaccard distance...\n"
     ]
    },
    {
     "name": "stderr",
     "output_type": "stream",
     "text": [
      "bruteForceKnn is deprecated; call bfKnn instead\n"
     ]
    },
    {
     "name": "stdout",
     "output_type": "stream",
     "text": [
      "Jaccard distance computing time cost: 74.2443470954895\n",
      "Extracting Online Features for osnet ...\n",
      "Features extracted in 200.56 seconds\n",
      "Computing jaccard distance...\n"
     ]
    },
    {
     "name": "stderr",
     "output_type": "stream",
     "text": [
      "bruteForceKnn is deprecated; call bfKnn instead\n"
     ]
    },
    {
     "name": "stdout",
     "output_type": "stream",
     "text": [
      "Jaccard distance computing time cost: 69.74973559379578\n",
      "Extracting Online Features for densenet121 ...\n",
      "Features extracted in 198.75 seconds\n",
      "Computing jaccard distance...\n"
     ]
    },
    {
     "name": "stderr",
     "output_type": "stream",
     "text": [
      "bruteForceKnn is deprecated; call bfKnn instead\n"
     ]
    },
    {
     "name": "stdout",
     "output_type": "stream",
     "text": [
      "Jaccard distance computing time cost: 88.00658702850342\n",
      "Reliability: 0.992\n",
      "\u001b[32mMean Purity: 0.03921\u001b[0m\n",
      "\u001b[34mThere are 3 clusters with 4 cameras\u001b[0m\n",
      "\u001b[34mThere are 3 clusters with 5 cameras\u001b[0m\n",
      "\u001b[34mThere are 3 clusters with 6 cameras\u001b[0m\n",
      "\u001b[34mThere are 2 clusters with 7 cameras\u001b[0m\n",
      "\u001b[34mThere are 3 clusters with 8 cameras\u001b[0m\n",
      "\u001b[34mThere are 1 clusters with 9 cameras\u001b[0m\n",
      "\u001b[34mThere are 1 clusters with 10 cameras\u001b[0m\n",
      "\u001b[34mThere are 2 clusters with 12 cameras\u001b[0m\n",
      "\u001b[34mThere are 1 clusters with 14 cameras\u001b[0m\n",
      "\u001b[34mThere are 1 clusters with 16 cameras\u001b[0m\n",
      "\u001b[34mThere are 1 clusters with 17 cameras\u001b[0m\n",
      "\u001b[34mThere are 2 clusters with 18 cameras\u001b[0m\n",
      "\u001b[34mThere are 1 clusters with 35 cameras\u001b[0m\n",
      "\u001b[34mThere are 1 clusters with 43 cameras\u001b[0m\n",
      "\u001b[34mThere are 1 clusters with 44 cameras\u001b[0m\n",
      "\u001b[34mThere are 1 clusters with 46 cameras\u001b[0m\n",
      "\u001b[34mThere are 1 clusters with 50 cameras\u001b[0m\n",
      "\u001b[34mThere are 1 clusters with 52 cameras\u001b[0m\n",
      "\u001b[34mThere are 1 clusters with 53 cameras\u001b[0m\n",
      "\u001b[34mThere are 1 clusters with 54 cameras\u001b[0m\n",
      "\u001b[34mThere are 3 clusters with 55 cameras\u001b[0m\n",
      "\u001b[34mThere are 1 clusters with 56 cameras\u001b[0m\n",
      "\u001b[34mThere are 6 clusters with 57 cameras\u001b[0m\n",
      "\u001b[34mThere are 5 clusters with 58 cameras\u001b[0m\n",
      "\u001b[34mThere are 3 clusters with 59 cameras\u001b[0m\n",
      "\u001b[34mThere are 8 clusters with 60 cameras\u001b[0m\n",
      "\u001b[34mThere are 14 clusters with 61 cameras\u001b[0m\n",
      "\u001b[34mThere are 18 clusters with 62 cameras\u001b[0m\n",
      "\u001b[34mThere are 42 clusters with 63 cameras\u001b[0m\n",
      "\u001b[34mThere are 400 clusters with 64 cameras\u001b[0m\n",
      "\u001b[34mThere are 3 clusters with 66 cameras\u001b[0m\n",
      "\u001b[34mThere are 1 clusters with 68 cameras\u001b[0m\n",
      "\u001b[34mThere are 1 clusters with 69 cameras\u001b[0m\n",
      "\u001b[34mThere are 1 clusters with 73 cameras\u001b[0m\n",
      "\u001b[34mThere are 1 clusters with 106 cameras\u001b[0m\n",
      "\u001b[34mThere are 1 clusters with 109 cameras\u001b[0m\n",
      "\u001b[34mThere are 1 clusters with 116 cameras\u001b[0m\n",
      "\u001b[34mThere are 1 clusters with 118 cameras\u001b[0m\n",
      "\u001b[34mThere are 1 clusters with 121 cameras\u001b[0m\n",
      "\u001b[34mThere are 1 clusters with 122 cameras\u001b[0m\n",
      "\u001b[34mThere are 3 clusters with 123 cameras\u001b[0m\n",
      "\u001b[34mThere are 3 clusters with 124 cameras\u001b[0m\n",
      "\u001b[34mThere are 2 clusters with 126 cameras\u001b[0m\n",
      "\u001b[34mThere are 3 clusters with 127 cameras\u001b[0m\n",
      "\u001b[34mThere are 11 clusters with 128 cameras\u001b[0m\n",
      "\u001b[34mThere are 1 clusters with 131 cameras\u001b[0m\n",
      "\u001b[34mThere are 1 clusters with 134 cameras\u001b[0m\n",
      "\u001b[34mThere are 1 clusters with 187 cameras\u001b[0m\n",
      "\u001b[34mThere are 2 clusters with 188 cameras\u001b[0m\n",
      "\u001b[34mThere are 1 clusters with 190 cameras\u001b[0m\n",
      "\u001b[34mThere are 1 clusters with 192 cameras\u001b[0m\n",
      "\u001b[34mThere are 1 clusters with 338 cameras\u001b[0m\n",
      "\u001b[34mThere are 1 clusters with 361 cameras\u001b[0m\n",
      "Number of classes: 574\n",
      "\u001b[36mLearning Rate: 0.000158\u001b[0m\n",
      "encontrou modelos vgg16. Carregando...\n",
      "encontrou modelos resnet50. Carregando...\n",
      "encontrou modelos osnet. Carregando...\n",
      "encontrou modelos densenet121. Carregando...\n",
      "###============ Iteration number 80/90 ============###\n",
      "Extracting Online Features for vgg16 ...\n",
      "Features extracted in 190.96 seconds\n",
      "Computing jaccard distance...\n"
     ]
    },
    {
     "name": "stderr",
     "output_type": "stream",
     "text": [
      "bruteForceKnn is deprecated; call bfKnn instead\n"
     ]
    },
    {
     "name": "stdout",
     "output_type": "stream",
     "text": [
      "Jaccard distance computing time cost: 74.73280692100525\n",
      "Extracting Online Features for resnet50 ...\n",
      "Features extracted in 193.28 seconds\n",
      "Computing jaccard distance...\n"
     ]
    },
    {
     "name": "stderr",
     "output_type": "stream",
     "text": [
      "bruteForceKnn is deprecated; call bfKnn instead\n"
     ]
    },
    {
     "name": "stdout",
     "output_type": "stream",
     "text": [
      "Jaccard distance computing time cost: 73.97047805786133\n",
      "Extracting Online Features for osnet ...\n",
      "Features extracted in 179.21 seconds\n",
      "Computing jaccard distance...\n"
     ]
    },
    {
     "name": "stderr",
     "output_type": "stream",
     "text": [
      "bruteForceKnn is deprecated; call bfKnn instead\n"
     ]
    },
    {
     "name": "stdout",
     "output_type": "stream",
     "text": [
      "Jaccard distance computing time cost: 70.40669584274292\n",
      "Extracting Online Features for densenet121 ...\n",
      "Features extracted in 189.88 seconds\n",
      "Computing jaccard distance...\n"
     ]
    },
    {
     "name": "stderr",
     "output_type": "stream",
     "text": [
      "bruteForceKnn is deprecated; call bfKnn instead\n"
     ]
    },
    {
     "name": "stdout",
     "output_type": "stream",
     "text": [
      "Jaccard distance computing time cost: 73.45655393600464\n",
      "Reliability: 0.992\n",
      "\u001b[32mMean Purity: 0.03921\u001b[0m\n",
      "\u001b[34mThere are 3 clusters with 4 cameras\u001b[0m\n",
      "\u001b[34mThere are 3 clusters with 5 cameras\u001b[0m\n",
      "\u001b[34mThere are 3 clusters with 6 cameras\u001b[0m\n",
      "\u001b[34mThere are 2 clusters with 7 cameras\u001b[0m\n",
      "\u001b[34mThere are 3 clusters with 8 cameras\u001b[0m\n",
      "\u001b[34mThere are 1 clusters with 9 cameras\u001b[0m\n",
      "\u001b[34mThere are 1 clusters with 10 cameras\u001b[0m\n",
      "\u001b[34mThere are 2 clusters with 12 cameras\u001b[0m\n",
      "\u001b[34mThere are 1 clusters with 14 cameras\u001b[0m\n",
      "\u001b[34mThere are 1 clusters with 16 cameras\u001b[0m\n",
      "\u001b[34mThere are 1 clusters with 17 cameras\u001b[0m\n",
      "\u001b[34mThere are 2 clusters with 18 cameras\u001b[0m\n",
      "\u001b[34mThere are 1 clusters with 35 cameras\u001b[0m\n",
      "\u001b[34mThere are 1 clusters with 43 cameras\u001b[0m\n",
      "\u001b[34mThere are 1 clusters with 44 cameras\u001b[0m\n",
      "\u001b[34mThere are 1 clusters with 46 cameras\u001b[0m\n",
      "\u001b[34mThere are 1 clusters with 50 cameras\u001b[0m\n",
      "\u001b[34mThere are 1 clusters with 52 cameras\u001b[0m\n",
      "\u001b[34mThere are 1 clusters with 53 cameras\u001b[0m\n",
      "\u001b[34mThere are 1 clusters with 54 cameras\u001b[0m\n",
      "\u001b[34mThere are 3 clusters with 55 cameras\u001b[0m\n",
      "\u001b[34mThere are 1 clusters with 56 cameras\u001b[0m\n",
      "\u001b[34mThere are 6 clusters with 57 cameras\u001b[0m\n",
      "\u001b[34mThere are 5 clusters with 58 cameras\u001b[0m\n",
      "\u001b[34mThere are 3 clusters with 59 cameras\u001b[0m\n",
      "\u001b[34mThere are 8 clusters with 60 cameras\u001b[0m\n",
      "\u001b[34mThere are 14 clusters with 61 cameras\u001b[0m\n",
      "\u001b[34mThere are 18 clusters with 62 cameras\u001b[0m\n",
      "\u001b[34mThere are 42 clusters with 63 cameras\u001b[0m\n",
      "\u001b[34mThere are 400 clusters with 64 cameras\u001b[0m\n",
      "\u001b[34mThere are 3 clusters with 66 cameras\u001b[0m\n",
      "\u001b[34mThere are 1 clusters with 68 cameras\u001b[0m\n",
      "\u001b[34mThere are 1 clusters with 69 cameras\u001b[0m\n",
      "\u001b[34mThere are 1 clusters with 73 cameras\u001b[0m\n",
      "\u001b[34mThere are 1 clusters with 106 cameras\u001b[0m\n",
      "\u001b[34mThere are 1 clusters with 109 cameras\u001b[0m\n",
      "\u001b[34mThere are 1 clusters with 116 cameras\u001b[0m\n",
      "\u001b[34mThere are 1 clusters with 118 cameras\u001b[0m\n",
      "\u001b[34mThere are 1 clusters with 121 cameras\u001b[0m\n",
      "\u001b[34mThere are 1 clusters with 122 cameras\u001b[0m\n",
      "\u001b[34mThere are 3 clusters with 123 cameras\u001b[0m\n",
      "\u001b[34mThere are 3 clusters with 124 cameras\u001b[0m\n",
      "\u001b[34mThere are 2 clusters with 126 cameras\u001b[0m\n",
      "\u001b[34mThere are 3 clusters with 127 cameras\u001b[0m\n",
      "\u001b[34mThere are 11 clusters with 128 cameras\u001b[0m\n",
      "\u001b[34mThere are 1 clusters with 131 cameras\u001b[0m\n",
      "\u001b[34mThere are 1 clusters with 134 cameras\u001b[0m\n",
      "\u001b[34mThere are 1 clusters with 187 cameras\u001b[0m\n",
      "\u001b[34mThere are 2 clusters with 188 cameras\u001b[0m\n",
      "\u001b[34mThere are 1 clusters with 190 cameras\u001b[0m\n",
      "\u001b[34mThere are 1 clusters with 192 cameras\u001b[0m\n",
      "\u001b[34mThere are 1 clusters with 338 cameras\u001b[0m\n",
      "\u001b[34mThere are 1 clusters with 361 cameras\u001b[0m\n",
      "Number of classes: 574\n",
      "\u001b[36mLearning Rate: 0.000175\u001b[0m\n",
      "encontrou modelos vgg16. Carregando...\n",
      "encontrou modelos resnet50. Carregando...\n",
      "encontrou modelos osnet. Carregando...\n",
      "encontrou modelos densenet121. Carregando...\n",
      "\u001b[33mValidating online vgg16 ...\u001b[0m\n",
      "Features extracted in 55.84 seconds\n",
      "Features extracted in 101.24 seconds\n",
      "Computing CMC and mAP ...\n",
      "** Results **\n",
      "mAP: 70.12%\n",
      "CMC curve\n",
      "Rank-1  : 75.96%\n",
      "Rank-5  : 91.27%\n",
      "Rank-10 : 94.82%\n",
      "Rank-20 : 96.79%\n",
      "\u001b[33mValidating momentum vgg16 ...\u001b[0m\n",
      "Features extracted in 57.52 seconds\n",
      "Features extracted in 121.87 seconds\n",
      "Computing CMC and mAP ...\n",
      "** Results **\n",
      "mAP: 66.17%\n",
      "CMC curve\n",
      "Rank-1  : 60.22%\n",
      "Rank-5  : 85.69%\n",
      "Rank-10 : 92.76%\n",
      "Rank-20 : 97.47%\n",
      "\u001b[33mValidating online resnet50 ...\u001b[0m\n",
      "Features extracted in 53.47 seconds\n",
      "Features extracted in 111.15 seconds\n",
      "Computing CMC and mAP ...\n",
      "** Results **\n",
      "mAP: 67.50%\n",
      "CMC curve\n",
      "Rank-1  : 55.02%\n",
      "Rank-5  : 80.54%\n",
      "Rank-10 : 89.57%\n",
      "Rank-20 : 96.21%\n",
      "\u001b[33mValidating momentum resnet50 ...\u001b[0m\n",
      "Features extracted in 52.05 seconds\n",
      "Features extracted in 106.06 seconds\n",
      "Computing CMC and mAP ...\n",
      "** Results **\n",
      "mAP: 66.53%\n",
      "CMC curve\n",
      "Rank-1  : 51.40%\n",
      "Rank-5  : 82.97%\n",
      "Rank-10 : 92.60%\n",
      "Rank-20 : 97.67%\n",
      "\u001b[33mValidating online osnet ...\u001b[0m\n",
      "Features extracted in 56.28 seconds\n",
      "Features extracted in 115.49 seconds\n",
      "Computing CMC and mAP ...\n",
      "** Results **\n",
      "mAP: 70.98%\n",
      "CMC curve\n",
      "Rank-1  : 66.36%\n",
      "Rank-5  : 91.56%\n",
      "Rank-10 : 96.56%\n",
      "Rank-20 : 99.07%\n",
      "\u001b[33mValidating momentum osnet ...\u001b[0m\n",
      "Features extracted in 53.00 seconds\n",
      "Features extracted in 110.99 seconds\n",
      "Computing CMC and mAP ...\n",
      "** Results **\n",
      "mAP: 64.56%\n",
      "CMC curve\n",
      "Rank-1  : 55.77%\n",
      "Rank-5  : 86.08%\n",
      "Rank-10 : 94.11%\n",
      "Rank-20 : 97.92%\n",
      "\u001b[33mValidating online densenet121 ...\u001b[0m\n",
      "Features extracted in 52.17 seconds\n",
      "Features extracted in 121.35 seconds\n",
      "Computing CMC and mAP ...\n",
      "** Results **\n",
      "mAP: 69.32%\n",
      "CMC curve\n",
      "Rank-1  : 61.53%\n",
      "Rank-5  : 85.89%\n",
      "Rank-10 : 93.66%\n",
      "Rank-20 : 97.66%\n",
      "\u001b[33mValidating momentum densenet121 ...\u001b[0m\n",
      "Features extracted in 52.12 seconds\n",
      "Features extracted in 111.96 seconds\n",
      "Computing CMC and mAP ...\n",
      "** Results **\n",
      "mAP: 66.02%\n",
      "CMC curve\n",
      "Rank-1  : 63.00%\n",
      "Rank-5  : 91.00%\n",
      "Rank-10 : 96.36%\n",
      "Rank-20 : 98.94%\n",
      "\u001b[33mValidating ensembled with online models ...\u001b[0m\n",
      "Computing CMC and mAP ...\n",
      "** Results **\n",
      "mAP: 69.73%\n",
      "Ranks:\n",
      "Rank-1  : 63.31%\n",
      "Rank-5  : 83.51%\n",
      "Rank-10 : 91.32%\n",
      "\u001b[33mValidating ensembled with momentum models ...\u001b[0m\n",
      "Computing CMC and mAP ...\n",
      "** Results **\n",
      "mAP: 65.40%\n",
      "Ranks:\n",
      "Rank-1  : 60.95%\n",
      "Rank-5  : 84.80%\n",
      "Rank-10 : 92.04%\n",
      "###============ Iteration number 81/90 ============###\n",
      "Extracting Online Features for vgg16 ...\n",
      "Features extracted in 161.27 seconds\n",
      "Computing jaccard distance...\n"
     ]
    },
    {
     "name": "stderr",
     "output_type": "stream",
     "text": [
      "bruteForceKnn is deprecated; call bfKnn instead\n"
     ]
    },
    {
     "name": "stdout",
     "output_type": "stream",
     "text": [
      "Jaccard distance computing time cost: 72.83171701431274\n",
      "Extracting Online Features for resnet50 ...\n",
      "Features extracted in 168.04 seconds\n",
      "Computing jaccard distance...\n"
     ]
    },
    {
     "name": "stderr",
     "output_type": "stream",
     "text": [
      "bruteForceKnn is deprecated; call bfKnn instead\n"
     ]
    },
    {
     "name": "stdout",
     "output_type": "stream",
     "text": [
      "Jaccard distance computing time cost: 72.45041370391846\n",
      "Extracting Online Features for osnet ...\n",
      "Features extracted in 163.63 seconds\n",
      "Computing jaccard distance...\n"
     ]
    },
    {
     "name": "stderr",
     "output_type": "stream",
     "text": [
      "bruteForceKnn is deprecated; call bfKnn instead\n"
     ]
    },
    {
     "name": "stdout",
     "output_type": "stream",
     "text": [
      "Jaccard distance computing time cost: 68.40285611152649\n",
      "Extracting Online Features for densenet121 ...\n",
      "Features extracted in 161.71 seconds\n",
      "Computing jaccard distance...\n"
     ]
    },
    {
     "name": "stderr",
     "output_type": "stream",
     "text": [
      "bruteForceKnn is deprecated; call bfKnn instead\n"
     ]
    },
    {
     "name": "stdout",
     "output_type": "stream",
     "text": [
      "Jaccard distance computing time cost: 82.45049405097961\n",
      "Reliability: 0.992\n",
      "\u001b[32mMean Purity: 0.03921\u001b[0m\n",
      "\u001b[34mThere are 3 clusters with 4 cameras\u001b[0m\n",
      "\u001b[34mThere are 3 clusters with 5 cameras\u001b[0m\n",
      "\u001b[34mThere are 3 clusters with 6 cameras\u001b[0m\n",
      "\u001b[34mThere are 2 clusters with 7 cameras\u001b[0m\n",
      "\u001b[34mThere are 3 clusters with 8 cameras\u001b[0m\n",
      "\u001b[34mThere are 1 clusters with 9 cameras\u001b[0m\n",
      "\u001b[34mThere are 1 clusters with 10 cameras\u001b[0m\n",
      "\u001b[34mThere are 2 clusters with 12 cameras\u001b[0m\n",
      "\u001b[34mThere are 1 clusters with 14 cameras\u001b[0m\n",
      "\u001b[34mThere are 1 clusters with 16 cameras\u001b[0m\n",
      "\u001b[34mThere are 1 clusters with 17 cameras\u001b[0m\n",
      "\u001b[34mThere are 2 clusters with 18 cameras\u001b[0m\n",
      "\u001b[34mThere are 1 clusters with 35 cameras\u001b[0m\n",
      "\u001b[34mThere are 1 clusters with 43 cameras\u001b[0m\n",
      "\u001b[34mThere are 1 clusters with 44 cameras\u001b[0m\n",
      "\u001b[34mThere are 1 clusters with 46 cameras\u001b[0m\n",
      "\u001b[34mThere are 1 clusters with 50 cameras\u001b[0m\n",
      "\u001b[34mThere are 1 clusters with 52 cameras\u001b[0m\n",
      "\u001b[34mThere are 1 clusters with 53 cameras\u001b[0m\n",
      "\u001b[34mThere are 1 clusters with 54 cameras\u001b[0m\n",
      "\u001b[34mThere are 3 clusters with 55 cameras\u001b[0m\n",
      "\u001b[34mThere are 1 clusters with 56 cameras\u001b[0m\n",
      "\u001b[34mThere are 6 clusters with 57 cameras\u001b[0m\n",
      "\u001b[34mThere are 5 clusters with 58 cameras\u001b[0m\n",
      "\u001b[34mThere are 3 clusters with 59 cameras\u001b[0m\n",
      "\u001b[34mThere are 8 clusters with 60 cameras\u001b[0m\n",
      "\u001b[34mThere are 14 clusters with 61 cameras\u001b[0m\n",
      "\u001b[34mThere are 18 clusters with 62 cameras\u001b[0m\n",
      "\u001b[34mThere are 42 clusters with 63 cameras\u001b[0m\n",
      "\u001b[34mThere are 400 clusters with 64 cameras\u001b[0m\n",
      "\u001b[34mThere are 3 clusters with 66 cameras\u001b[0m\n",
      "\u001b[34mThere are 1 clusters with 68 cameras\u001b[0m\n",
      "\u001b[34mThere are 1 clusters with 69 cameras\u001b[0m\n",
      "\u001b[34mThere are 1 clusters with 73 cameras\u001b[0m\n",
      "\u001b[34mThere are 1 clusters with 106 cameras\u001b[0m\n",
      "\u001b[34mThere are 1 clusters with 109 cameras\u001b[0m\n",
      "\u001b[34mThere are 1 clusters with 116 cameras\u001b[0m\n",
      "\u001b[34mThere are 1 clusters with 118 cameras\u001b[0m\n",
      "\u001b[34mThere are 1 clusters with 121 cameras\u001b[0m\n",
      "\u001b[34mThere are 1 clusters with 122 cameras\u001b[0m\n",
      "\u001b[34mThere are 3 clusters with 123 cameras\u001b[0m\n",
      "\u001b[34mThere are 3 clusters with 124 cameras\u001b[0m\n",
      "\u001b[34mThere are 2 clusters with 126 cameras\u001b[0m\n",
      "\u001b[34mThere are 3 clusters with 127 cameras\u001b[0m\n",
      "\u001b[34mThere are 11 clusters with 128 cameras\u001b[0m\n",
      "\u001b[34mThere are 1 clusters with 131 cameras\u001b[0m\n",
      "\u001b[34mThere are 1 clusters with 134 cameras\u001b[0m\n",
      "\u001b[34mThere are 1 clusters with 187 cameras\u001b[0m\n",
      "\u001b[34mThere are 2 clusters with 188 cameras\u001b[0m\n",
      "\u001b[34mThere are 1 clusters with 190 cameras\u001b[0m\n",
      "\u001b[34mThere are 1 clusters with 192 cameras\u001b[0m\n",
      "\u001b[34mThere are 1 clusters with 338 cameras\u001b[0m\n",
      "\u001b[34mThere are 1 clusters with 361 cameras\u001b[0m\n",
      "Number of classes: 574\n",
      "\u001b[36mLearning Rate: 0.000193\u001b[0m\n",
      "encontrou modelos vgg16. Carregando...\n",
      "encontrou modelos resnet50. Carregando...\n",
      "encontrou modelos osnet. Carregando...\n",
      "encontrou modelos densenet121. Carregando...\n",
      "###============ Iteration number 82/90 ============###\n",
      "Extracting Online Features for vgg16 ...\n",
      "Features extracted in 159.23 seconds\n",
      "Computing jaccard distance...\n"
     ]
    },
    {
     "name": "stderr",
     "output_type": "stream",
     "text": [
      "bruteForceKnn is deprecated; call bfKnn instead\n"
     ]
    },
    {
     "name": "stdout",
     "output_type": "stream",
     "text": [
      "Jaccard distance computing time cost: 72.44056487083435\n",
      "Extracting Online Features for resnet50 ...\n",
      "Features extracted in 161.42 seconds\n",
      "Computing jaccard distance...\n"
     ]
    },
    {
     "name": "stderr",
     "output_type": "stream",
     "text": [
      "bruteForceKnn is deprecated; call bfKnn instead\n"
     ]
    },
    {
     "name": "stdout",
     "output_type": "stream",
     "text": [
      "Jaccard distance computing time cost: 73.8474714756012\n",
      "Extracting Online Features for osnet ...\n",
      "Features extracted in 160.99 seconds\n",
      "Computing jaccard distance...\n"
     ]
    },
    {
     "name": "stderr",
     "output_type": "stream",
     "text": [
      "bruteForceKnn is deprecated; call bfKnn instead\n"
     ]
    },
    {
     "name": "stdout",
     "output_type": "stream",
     "text": [
      "Jaccard distance computing time cost: 68.98374009132385\n",
      "Extracting Online Features for densenet121 ...\n",
      "Features extracted in 161.23 seconds\n",
      "Computing jaccard distance...\n"
     ]
    },
    {
     "name": "stderr",
     "output_type": "stream",
     "text": [
      "bruteForceKnn is deprecated; call bfKnn instead\n"
     ]
    },
    {
     "name": "stdout",
     "output_type": "stream",
     "text": [
      "Jaccard distance computing time cost: 69.39164805412292\n",
      "Reliability: 0.992\n",
      "\u001b[32mMean Purity: 0.03921\u001b[0m\n",
      "\u001b[34mThere are 3 clusters with 4 cameras\u001b[0m\n",
      "\u001b[34mThere are 3 clusters with 5 cameras\u001b[0m\n",
      "\u001b[34mThere are 3 clusters with 6 cameras\u001b[0m\n",
      "\u001b[34mThere are 2 clusters with 7 cameras\u001b[0m\n",
      "\u001b[34mThere are 3 clusters with 8 cameras\u001b[0m\n",
      "\u001b[34mThere are 1 clusters with 9 cameras\u001b[0m\n",
      "\u001b[34mThere are 1 clusters with 10 cameras\u001b[0m\n",
      "\u001b[34mThere are 2 clusters with 12 cameras\u001b[0m\n",
      "\u001b[34mThere are 1 clusters with 14 cameras\u001b[0m\n",
      "\u001b[34mThere are 1 clusters with 16 cameras\u001b[0m\n",
      "\u001b[34mThere are 1 clusters with 17 cameras\u001b[0m\n",
      "\u001b[34mThere are 2 clusters with 18 cameras\u001b[0m\n",
      "\u001b[34mThere are 1 clusters with 35 cameras\u001b[0m\n",
      "\u001b[34mThere are 1 clusters with 43 cameras\u001b[0m\n",
      "\u001b[34mThere are 1 clusters with 44 cameras\u001b[0m\n",
      "\u001b[34mThere are 1 clusters with 46 cameras\u001b[0m\n",
      "\u001b[34mThere are 1 clusters with 50 cameras\u001b[0m\n",
      "\u001b[34mThere are 1 clusters with 52 cameras\u001b[0m\n",
      "\u001b[34mThere are 1 clusters with 53 cameras\u001b[0m\n",
      "\u001b[34mThere are 1 clusters with 54 cameras\u001b[0m\n",
      "\u001b[34mThere are 3 clusters with 55 cameras\u001b[0m\n",
      "\u001b[34mThere are 1 clusters with 56 cameras\u001b[0m\n",
      "\u001b[34mThere are 6 clusters with 57 cameras\u001b[0m\n",
      "\u001b[34mThere are 5 clusters with 58 cameras\u001b[0m\n",
      "\u001b[34mThere are 3 clusters with 59 cameras\u001b[0m\n",
      "\u001b[34mThere are 8 clusters with 60 cameras\u001b[0m\n",
      "\u001b[34mThere are 14 clusters with 61 cameras\u001b[0m\n",
      "\u001b[34mThere are 18 clusters with 62 cameras\u001b[0m\n",
      "\u001b[34mThere are 42 clusters with 63 cameras\u001b[0m\n",
      "\u001b[34mThere are 400 clusters with 64 cameras\u001b[0m\n",
      "\u001b[34mThere are 3 clusters with 66 cameras\u001b[0m\n",
      "\u001b[34mThere are 1 clusters with 68 cameras\u001b[0m\n",
      "\u001b[34mThere are 1 clusters with 69 cameras\u001b[0m\n",
      "\u001b[34mThere are 1 clusters with 73 cameras\u001b[0m\n",
      "\u001b[34mThere are 1 clusters with 106 cameras\u001b[0m\n",
      "\u001b[34mThere are 1 clusters with 109 cameras\u001b[0m\n",
      "\u001b[34mThere are 1 clusters with 116 cameras\u001b[0m\n",
      "\u001b[34mThere are 1 clusters with 118 cameras\u001b[0m\n",
      "\u001b[34mThere are 1 clusters with 121 cameras\u001b[0m\n",
      "\u001b[34mThere are 1 clusters with 122 cameras\u001b[0m\n",
      "\u001b[34mThere are 3 clusters with 123 cameras\u001b[0m\n",
      "\u001b[34mThere are 3 clusters with 124 cameras\u001b[0m\n",
      "\u001b[34mThere are 2 clusters with 126 cameras\u001b[0m\n",
      "\u001b[34mThere are 3 clusters with 127 cameras\u001b[0m\n",
      "\u001b[34mThere are 11 clusters with 128 cameras\u001b[0m\n",
      "\u001b[34mThere are 1 clusters with 131 cameras\u001b[0m\n",
      "\u001b[34mThere are 1 clusters with 134 cameras\u001b[0m\n",
      "\u001b[34mThere are 1 clusters with 187 cameras\u001b[0m\n",
      "\u001b[34mThere are 2 clusters with 188 cameras\u001b[0m\n",
      "\u001b[34mThere are 1 clusters with 190 cameras\u001b[0m\n",
      "\u001b[34mThere are 1 clusters with 192 cameras\u001b[0m\n",
      "\u001b[34mThere are 1 clusters with 338 cameras\u001b[0m\n",
      "\u001b[34mThere are 1 clusters with 361 cameras\u001b[0m\n",
      "Number of classes: 574\n",
      "\u001b[36mLearning Rate: 0.000210\u001b[0m\n",
      "encontrou modelos vgg16. Carregando...\n",
      "encontrou modelos resnet50. Carregando...\n",
      "encontrou modelos osnet. Carregando...\n",
      "encontrou modelos densenet121. Carregando...\n",
      "###============ Iteration number 83/90 ============###\n",
      "Extracting Online Features for vgg16 ...\n",
      "Features extracted in 162.02 seconds\n",
      "Computing jaccard distance...\n"
     ]
    },
    {
     "name": "stderr",
     "output_type": "stream",
     "text": [
      "bruteForceKnn is deprecated; call bfKnn instead\n"
     ]
    },
    {
     "name": "stdout",
     "output_type": "stream",
     "text": [
      "Jaccard distance computing time cost: 72.64078426361084\n",
      "Extracting Online Features for resnet50 ...\n",
      "Features extracted in 159.62 seconds\n",
      "Computing jaccard distance...\n"
     ]
    },
    {
     "name": "stderr",
     "output_type": "stream",
     "text": [
      "bruteForceKnn is deprecated; call bfKnn instead\n"
     ]
    },
    {
     "name": "stdout",
     "output_type": "stream",
     "text": [
      "Jaccard distance computing time cost: 72.42418074607849\n",
      "Extracting Online Features for osnet ...\n",
      "Features extracted in 156.36 seconds\n",
      "Computing jaccard distance...\n"
     ]
    },
    {
     "name": "stderr",
     "output_type": "stream",
     "text": [
      "bruteForceKnn is deprecated; call bfKnn instead\n"
     ]
    },
    {
     "name": "stdout",
     "output_type": "stream",
     "text": [
      "Jaccard distance computing time cost: 66.73658204078674\n",
      "Extracting Online Features for densenet121 ...\n",
      "Features extracted in 162.07 seconds\n",
      "Computing jaccard distance...\n"
     ]
    },
    {
     "name": "stderr",
     "output_type": "stream",
     "text": [
      "bruteForceKnn is deprecated; call bfKnn instead\n"
     ]
    },
    {
     "name": "stdout",
     "output_type": "stream",
     "text": [
      "Jaccard distance computing time cost: 67.40080213546753\n",
      "Reliability: 0.992\n",
      "\u001b[32mMean Purity: 0.03921\u001b[0m\n",
      "\u001b[34mThere are 3 clusters with 4 cameras\u001b[0m\n",
      "\u001b[34mThere are 3 clusters with 5 cameras\u001b[0m\n",
      "\u001b[34mThere are 3 clusters with 6 cameras\u001b[0m\n",
      "\u001b[34mThere are 2 clusters with 7 cameras\u001b[0m\n",
      "\u001b[34mThere are 3 clusters with 8 cameras\u001b[0m\n",
      "\u001b[34mThere are 1 clusters with 9 cameras\u001b[0m\n",
      "\u001b[34mThere are 1 clusters with 10 cameras\u001b[0m\n",
      "\u001b[34mThere are 2 clusters with 12 cameras\u001b[0m\n",
      "\u001b[34mThere are 1 clusters with 14 cameras\u001b[0m\n",
      "\u001b[34mThere are 1 clusters with 16 cameras\u001b[0m\n",
      "\u001b[34mThere are 1 clusters with 17 cameras\u001b[0m\n",
      "\u001b[34mThere are 2 clusters with 18 cameras\u001b[0m\n",
      "\u001b[34mThere are 1 clusters with 35 cameras\u001b[0m\n",
      "\u001b[34mThere are 1 clusters with 43 cameras\u001b[0m\n",
      "\u001b[34mThere are 1 clusters with 44 cameras\u001b[0m\n",
      "\u001b[34mThere are 1 clusters with 46 cameras\u001b[0m\n",
      "\u001b[34mThere are 1 clusters with 50 cameras\u001b[0m\n",
      "\u001b[34mThere are 1 clusters with 52 cameras\u001b[0m\n",
      "\u001b[34mThere are 1 clusters with 53 cameras\u001b[0m\n",
      "\u001b[34mThere are 1 clusters with 54 cameras\u001b[0m\n",
      "\u001b[34mThere are 3 clusters with 55 cameras\u001b[0m\n",
      "\u001b[34mThere are 1 clusters with 56 cameras\u001b[0m\n",
      "\u001b[34mThere are 6 clusters with 57 cameras\u001b[0m\n",
      "\u001b[34mThere are 5 clusters with 58 cameras\u001b[0m\n",
      "\u001b[34mThere are 3 clusters with 59 cameras\u001b[0m\n",
      "\u001b[34mThere are 8 clusters with 60 cameras\u001b[0m\n",
      "\u001b[34mThere are 14 clusters with 61 cameras\u001b[0m\n",
      "\u001b[34mThere are 18 clusters with 62 cameras\u001b[0m\n",
      "\u001b[34mThere are 42 clusters with 63 cameras\u001b[0m\n",
      "\u001b[34mThere are 400 clusters with 64 cameras\u001b[0m\n",
      "\u001b[34mThere are 3 clusters with 66 cameras\u001b[0m\n",
      "\u001b[34mThere are 1 clusters with 68 cameras\u001b[0m\n",
      "\u001b[34mThere are 1 clusters with 69 cameras\u001b[0m\n",
      "\u001b[34mThere are 1 clusters with 73 cameras\u001b[0m\n",
      "\u001b[34mThere are 1 clusters with 106 cameras\u001b[0m\n",
      "\u001b[34mThere are 1 clusters with 109 cameras\u001b[0m\n",
      "\u001b[34mThere are 1 clusters with 116 cameras\u001b[0m\n",
      "\u001b[34mThere are 1 clusters with 118 cameras\u001b[0m\n",
      "\u001b[34mThere are 1 clusters with 121 cameras\u001b[0m\n",
      "\u001b[34mThere are 1 clusters with 122 cameras\u001b[0m\n",
      "\u001b[34mThere are 3 clusters with 123 cameras\u001b[0m\n",
      "\u001b[34mThere are 3 clusters with 124 cameras\u001b[0m\n",
      "\u001b[34mThere are 2 clusters with 126 cameras\u001b[0m\n",
      "\u001b[34mThere are 3 clusters with 127 cameras\u001b[0m\n",
      "\u001b[34mThere are 11 clusters with 128 cameras\u001b[0m\n",
      "\u001b[34mThere are 1 clusters with 131 cameras\u001b[0m\n",
      "\u001b[34mThere are 1 clusters with 134 cameras\u001b[0m\n",
      "\u001b[34mThere are 1 clusters with 187 cameras\u001b[0m\n",
      "\u001b[34mThere are 2 clusters with 188 cameras\u001b[0m\n",
      "\u001b[34mThere are 1 clusters with 190 cameras\u001b[0m\n",
      "\u001b[34mThere are 1 clusters with 192 cameras\u001b[0m\n",
      "\u001b[34mThere are 1 clusters with 338 cameras\u001b[0m\n",
      "\u001b[34mThere are 1 clusters with 361 cameras\u001b[0m\n",
      "Number of classes: 574\n",
      "\u001b[36mLearning Rate: 0.000228\u001b[0m\n",
      "encontrou modelos vgg16. Carregando...\n",
      "encontrou modelos resnet50. Carregando...\n",
      "encontrou modelos osnet. Carregando...\n",
      "encontrou modelos densenet121. Carregando...\n",
      "###============ Iteration number 84/90 ============###\n",
      "Extracting Online Features for vgg16 ...\n",
      "Features extracted in 159.38 seconds\n",
      "Computing jaccard distance...\n"
     ]
    },
    {
     "name": "stderr",
     "output_type": "stream",
     "text": [
      "bruteForceKnn is deprecated; call bfKnn instead\n"
     ]
    },
    {
     "name": "stdout",
     "output_type": "stream",
     "text": [
      "Jaccard distance computing time cost: 71.96213388442993\n",
      "Extracting Online Features for resnet50 ...\n",
      "Features extracted in 155.72 seconds\n",
      "Computing jaccard distance...\n"
     ]
    },
    {
     "name": "stderr",
     "output_type": "stream",
     "text": [
      "bruteForceKnn is deprecated; call bfKnn instead\n"
     ]
    },
    {
     "name": "stdout",
     "output_type": "stream",
     "text": [
      "Jaccard distance computing time cost: 71.71176028251648\n",
      "Extracting Online Features for osnet ...\n",
      "Features extracted in 161.01 seconds\n",
      "Computing jaccard distance...\n"
     ]
    },
    {
     "name": "stderr",
     "output_type": "stream",
     "text": [
      "bruteForceKnn is deprecated; call bfKnn instead\n"
     ]
    },
    {
     "name": "stdout",
     "output_type": "stream",
     "text": [
      "Jaccard distance computing time cost: 62.40009522438049\n",
      "Extracting Online Features for densenet121 ...\n",
      "Features extracted in 162.20 seconds\n",
      "Computing jaccard distance...\n"
     ]
    },
    {
     "name": "stderr",
     "output_type": "stream",
     "text": [
      "bruteForceKnn is deprecated; call bfKnn instead\n"
     ]
    },
    {
     "name": "stdout",
     "output_type": "stream",
     "text": [
      "Jaccard distance computing time cost: 65.77874851226807\n",
      "Reliability: 0.992\n",
      "\u001b[32mMean Purity: 0.03921\u001b[0m\n",
      "\u001b[34mThere are 3 clusters with 4 cameras\u001b[0m\n",
      "\u001b[34mThere are 3 clusters with 5 cameras\u001b[0m\n",
      "\u001b[34mThere are 3 clusters with 6 cameras\u001b[0m\n",
      "\u001b[34mThere are 2 clusters with 7 cameras\u001b[0m\n",
      "\u001b[34mThere are 3 clusters with 8 cameras\u001b[0m\n",
      "\u001b[34mThere are 1 clusters with 9 cameras\u001b[0m\n",
      "\u001b[34mThere are 1 clusters with 10 cameras\u001b[0m\n",
      "\u001b[34mThere are 2 clusters with 12 cameras\u001b[0m\n",
      "\u001b[34mThere are 1 clusters with 14 cameras\u001b[0m\n",
      "\u001b[34mThere are 1 clusters with 16 cameras\u001b[0m\n",
      "\u001b[34mThere are 1 clusters with 17 cameras\u001b[0m\n",
      "\u001b[34mThere are 2 clusters with 18 cameras\u001b[0m\n",
      "\u001b[34mThere are 1 clusters with 35 cameras\u001b[0m\n",
      "\u001b[34mThere are 1 clusters with 43 cameras\u001b[0m\n",
      "\u001b[34mThere are 1 clusters with 44 cameras\u001b[0m\n",
      "\u001b[34mThere are 1 clusters with 46 cameras\u001b[0m\n",
      "\u001b[34mThere are 1 clusters with 50 cameras\u001b[0m\n",
      "\u001b[34mThere are 1 clusters with 52 cameras\u001b[0m\n",
      "\u001b[34mThere are 1 clusters with 53 cameras\u001b[0m\n",
      "\u001b[34mThere are 1 clusters with 54 cameras\u001b[0m\n",
      "\u001b[34mThere are 3 clusters with 55 cameras\u001b[0m\n",
      "\u001b[34mThere are 1 clusters with 56 cameras\u001b[0m\n",
      "\u001b[34mThere are 6 clusters with 57 cameras\u001b[0m\n",
      "\u001b[34mThere are 5 clusters with 58 cameras\u001b[0m\n",
      "\u001b[34mThere are 3 clusters with 59 cameras\u001b[0m\n",
      "\u001b[34mThere are 8 clusters with 60 cameras\u001b[0m\n",
      "\u001b[34mThere are 14 clusters with 61 cameras\u001b[0m\n",
      "\u001b[34mThere are 18 clusters with 62 cameras\u001b[0m\n",
      "\u001b[34mThere are 42 clusters with 63 cameras\u001b[0m\n",
      "\u001b[34mThere are 400 clusters with 64 cameras\u001b[0m\n",
      "\u001b[34mThere are 3 clusters with 66 cameras\u001b[0m\n",
      "\u001b[34mThere are 1 clusters with 68 cameras\u001b[0m\n",
      "\u001b[34mThere are 1 clusters with 69 cameras\u001b[0m\n",
      "\u001b[34mThere are 1 clusters with 73 cameras\u001b[0m\n",
      "\u001b[34mThere are 1 clusters with 106 cameras\u001b[0m\n",
      "\u001b[34mThere are 1 clusters with 109 cameras\u001b[0m\n",
      "\u001b[34mThere are 1 clusters with 116 cameras\u001b[0m\n",
      "\u001b[34mThere are 1 clusters with 118 cameras\u001b[0m\n",
      "\u001b[34mThere are 1 clusters with 121 cameras\u001b[0m\n",
      "\u001b[34mThere are 1 clusters with 122 cameras\u001b[0m\n",
      "\u001b[34mThere are 3 clusters with 123 cameras\u001b[0m\n",
      "\u001b[34mThere are 3 clusters with 124 cameras\u001b[0m\n",
      "\u001b[34mThere are 2 clusters with 126 cameras\u001b[0m\n",
      "\u001b[34mThere are 3 clusters with 127 cameras\u001b[0m\n",
      "\u001b[34mThere are 11 clusters with 128 cameras\u001b[0m\n",
      "\u001b[34mThere are 1 clusters with 131 cameras\u001b[0m\n",
      "\u001b[34mThere are 1 clusters with 134 cameras\u001b[0m\n",
      "\u001b[34mThere are 1 clusters with 187 cameras\u001b[0m\n",
      "\u001b[34mThere are 2 clusters with 188 cameras\u001b[0m\n",
      "\u001b[34mThere are 1 clusters with 190 cameras\u001b[0m\n",
      "\u001b[34mThere are 1 clusters with 192 cameras\u001b[0m\n",
      "\u001b[34mThere are 1 clusters with 338 cameras\u001b[0m\n",
      "\u001b[34mThere are 1 clusters with 361 cameras\u001b[0m\n",
      "Number of classes: 574\n",
      "\u001b[36mLearning Rate: 0.000245\u001b[0m\n",
      "encontrou modelos vgg16. Carregando...\n",
      "encontrou modelos resnet50. Carregando...\n",
      "encontrou modelos osnet. Carregando...\n",
      "encontrou modelos densenet121. Carregando...\n",
      "###============ Iteration number 85/90 ============###\n",
      "Extracting Online Features for vgg16 ...\n",
      "Features extracted in 159.62 seconds\n",
      "Computing jaccard distance...\n"
     ]
    },
    {
     "name": "stderr",
     "output_type": "stream",
     "text": [
      "bruteForceKnn is deprecated; call bfKnn instead\n"
     ]
    },
    {
     "name": "stdout",
     "output_type": "stream",
     "text": [
      "Jaccard distance computing time cost: 70.1820559501648\n",
      "Extracting Online Features for resnet50 ...\n",
      "Features extracted in 159.10 seconds\n",
      "Computing jaccard distance...\n"
     ]
    },
    {
     "name": "stderr",
     "output_type": "stream",
     "text": [
      "bruteForceKnn is deprecated; call bfKnn instead\n"
     ]
    },
    {
     "name": "stdout",
     "output_type": "stream",
     "text": [
      "Jaccard distance computing time cost: 71.26734685897827\n",
      "Extracting Online Features for osnet ...\n",
      "Features extracted in 158.71 seconds\n",
      "Computing jaccard distance...\n"
     ]
    },
    {
     "name": "stderr",
     "output_type": "stream",
     "text": [
      "bruteForceKnn is deprecated; call bfKnn instead\n"
     ]
    },
    {
     "name": "stdout",
     "output_type": "stream",
     "text": [
      "Jaccard distance computing time cost: 67.16478943824768\n",
      "Extracting Online Features for densenet121 ...\n",
      "Features extracted in 154.37 seconds\n",
      "Computing jaccard distance...\n"
     ]
    },
    {
     "name": "stderr",
     "output_type": "stream",
     "text": [
      "bruteForceKnn is deprecated; call bfKnn instead\n"
     ]
    },
    {
     "name": "stdout",
     "output_type": "stream",
     "text": [
      "Jaccard distance computing time cost: 72.02542614936829\n",
      "Reliability: 0.992\n",
      "\u001b[32mMean Purity: 0.03921\u001b[0m\n",
      "\u001b[34mThere are 3 clusters with 4 cameras\u001b[0m\n",
      "\u001b[34mThere are 3 clusters with 5 cameras\u001b[0m\n",
      "\u001b[34mThere are 3 clusters with 6 cameras\u001b[0m\n",
      "\u001b[34mThere are 2 clusters with 7 cameras\u001b[0m\n",
      "\u001b[34mThere are 3 clusters with 8 cameras\u001b[0m\n",
      "\u001b[34mThere are 1 clusters with 9 cameras\u001b[0m\n",
      "\u001b[34mThere are 1 clusters with 10 cameras\u001b[0m\n",
      "\u001b[34mThere are 2 clusters with 12 cameras\u001b[0m\n",
      "\u001b[34mThere are 1 clusters with 14 cameras\u001b[0m\n",
      "\u001b[34mThere are 1 clusters with 16 cameras\u001b[0m\n",
      "\u001b[34mThere are 1 clusters with 17 cameras\u001b[0m\n",
      "\u001b[34mThere are 2 clusters with 18 cameras\u001b[0m\n",
      "\u001b[34mThere are 1 clusters with 35 cameras\u001b[0m\n",
      "\u001b[34mThere are 1 clusters with 43 cameras\u001b[0m\n",
      "\u001b[34mThere are 1 clusters with 44 cameras\u001b[0m\n",
      "\u001b[34mThere are 1 clusters with 46 cameras\u001b[0m\n",
      "\u001b[34mThere are 1 clusters with 50 cameras\u001b[0m\n",
      "\u001b[34mThere are 1 clusters with 52 cameras\u001b[0m\n",
      "\u001b[34mThere are 1 clusters with 53 cameras\u001b[0m\n",
      "\u001b[34mThere are 1 clusters with 54 cameras\u001b[0m\n",
      "\u001b[34mThere are 3 clusters with 55 cameras\u001b[0m\n",
      "\u001b[34mThere are 1 clusters with 56 cameras\u001b[0m\n",
      "\u001b[34mThere are 6 clusters with 57 cameras\u001b[0m\n",
      "\u001b[34mThere are 5 clusters with 58 cameras\u001b[0m\n",
      "\u001b[34mThere are 3 clusters with 59 cameras\u001b[0m\n",
      "\u001b[34mThere are 8 clusters with 60 cameras\u001b[0m\n",
      "\u001b[34mThere are 14 clusters with 61 cameras\u001b[0m\n",
      "\u001b[34mThere are 18 clusters with 62 cameras\u001b[0m\n",
      "\u001b[34mThere are 42 clusters with 63 cameras\u001b[0m\n",
      "\u001b[34mThere are 400 clusters with 64 cameras\u001b[0m\n",
      "\u001b[34mThere are 3 clusters with 66 cameras\u001b[0m\n",
      "\u001b[34mThere are 1 clusters with 68 cameras\u001b[0m\n",
      "\u001b[34mThere are 1 clusters with 69 cameras\u001b[0m\n",
      "\u001b[34mThere are 1 clusters with 73 cameras\u001b[0m\n",
      "\u001b[34mThere are 1 clusters with 106 cameras\u001b[0m\n",
      "\u001b[34mThere are 1 clusters with 109 cameras\u001b[0m\n",
      "\u001b[34mThere are 1 clusters with 116 cameras\u001b[0m\n",
      "\u001b[34mThere are 1 clusters with 118 cameras\u001b[0m\n",
      "\u001b[34mThere are 1 clusters with 121 cameras\u001b[0m\n",
      "\u001b[34mThere are 1 clusters with 122 cameras\u001b[0m\n",
      "\u001b[34mThere are 3 clusters with 123 cameras\u001b[0m\n",
      "\u001b[34mThere are 3 clusters with 124 cameras\u001b[0m\n",
      "\u001b[34mThere are 2 clusters with 126 cameras\u001b[0m\n",
      "\u001b[34mThere are 3 clusters with 127 cameras\u001b[0m\n",
      "\u001b[34mThere are 11 clusters with 128 cameras\u001b[0m\n",
      "\u001b[34mThere are 1 clusters with 131 cameras\u001b[0m\n",
      "\u001b[34mThere are 1 clusters with 134 cameras\u001b[0m\n",
      "\u001b[34mThere are 1 clusters with 187 cameras\u001b[0m\n",
      "\u001b[34mThere are 2 clusters with 188 cameras\u001b[0m\n",
      "\u001b[34mThere are 1 clusters with 190 cameras\u001b[0m\n",
      "\u001b[34mThere are 1 clusters with 192 cameras\u001b[0m\n",
      "\u001b[34mThere are 1 clusters with 338 cameras\u001b[0m\n",
      "\u001b[34mThere are 1 clusters with 361 cameras\u001b[0m\n",
      "Number of classes: 574\n",
      "\u001b[36mLearning Rate: 0.000263\u001b[0m\n",
      "encontrou modelos vgg16. Carregando...\n",
      "encontrou modelos resnet50. Carregando...\n",
      "encontrou modelos osnet. Carregando...\n",
      "encontrou modelos densenet121. Carregando...\n",
      "\u001b[33mValidating online vgg16 ...\u001b[0m\n",
      "Features extracted in 49.61 seconds\n",
      "Features extracted in 92.80 seconds\n",
      "Computing CMC and mAP ...\n",
      "** Results **\n",
      "mAP: 70.12%\n",
      "CMC curve\n",
      "Rank-1  : 75.96%\n",
      "Rank-5  : 91.27%\n",
      "Rank-10 : 94.82%\n",
      "Rank-20 : 96.79%\n",
      "\u001b[33mValidating momentum vgg16 ...\u001b[0m\n",
      "Features extracted in 49.29 seconds\n",
      "Features extracted in 92.42 seconds\n",
      "Computing CMC and mAP ...\n",
      "** Results **\n",
      "mAP: 66.17%\n",
      "CMC curve\n",
      "Rank-1  : 60.22%\n",
      "Rank-5  : 85.69%\n",
      "Rank-10 : 92.76%\n",
      "Rank-20 : 97.47%\n",
      "\u001b[33mValidating online resnet50 ...\u001b[0m\n",
      "Features extracted in 48.30 seconds\n",
      "Features extracted in 91.43 seconds\n",
      "Computing CMC and mAP ...\n",
      "** Results **\n",
      "mAP: 67.50%\n",
      "CMC curve\n",
      "Rank-1  : 55.02%\n",
      "Rank-5  : 80.54%\n",
      "Rank-10 : 89.57%\n",
      "Rank-20 : 96.21%\n",
      "\u001b[33mValidating momentum resnet50 ...\u001b[0m\n",
      "Features extracted in 47.78 seconds\n",
      "Features extracted in 88.05 seconds\n",
      "Computing CMC and mAP ...\n",
      "** Results **\n",
      "mAP: 66.53%\n",
      "CMC curve\n",
      "Rank-1  : 51.40%\n",
      "Rank-5  : 82.97%\n",
      "Rank-10 : 92.60%\n",
      "Rank-20 : 97.67%\n",
      "\u001b[33mValidating online osnet ...\u001b[0m\n",
      "Features extracted in 46.35 seconds\n",
      "Features extracted in 86.84 seconds\n",
      "Computing CMC and mAP ...\n",
      "** Results **\n",
      "mAP: 70.98%\n",
      "CMC curve\n",
      "Rank-1  : 66.36%\n",
      "Rank-5  : 91.56%\n",
      "Rank-10 : 96.56%\n",
      "Rank-20 : 99.07%\n",
      "\u001b[33mValidating momentum osnet ...\u001b[0m\n",
      "Features extracted in 47.96 seconds\n",
      "Features extracted in 87.54 seconds\n",
      "Computing CMC and mAP ...\n",
      "** Results **\n",
      "mAP: 64.56%\n",
      "CMC curve\n",
      "Rank-1  : 55.77%\n",
      "Rank-5  : 86.08%\n",
      "Rank-10 : 94.11%\n",
      "Rank-20 : 97.92%\n",
      "\u001b[33mValidating online densenet121 ...\u001b[0m\n",
      "Features extracted in 48.02 seconds\n",
      "Features extracted in 88.10 seconds\n",
      "Computing CMC and mAP ...\n",
      "** Results **\n",
      "mAP: 69.32%\n",
      "CMC curve\n",
      "Rank-1  : 61.53%\n",
      "Rank-5  : 85.89%\n",
      "Rank-10 : 93.66%\n",
      "Rank-20 : 97.66%\n",
      "\u001b[33mValidating momentum densenet121 ...\u001b[0m\n",
      "Features extracted in 45.87 seconds\n",
      "Features extracted in 86.50 seconds\n",
      "Computing CMC and mAP ...\n",
      "** Results **\n",
      "mAP: 66.02%\n",
      "CMC curve\n",
      "Rank-1  : 63.00%\n",
      "Rank-5  : 91.00%\n",
      "Rank-10 : 96.36%\n",
      "Rank-20 : 98.94%\n",
      "\u001b[33mValidating ensembled with online models ...\u001b[0m\n",
      "Computing CMC and mAP ...\n",
      "** Results **\n",
      "mAP: 69.73%\n",
      "Ranks:\n",
      "Rank-1  : 63.31%\n",
      "Rank-5  : 83.51%\n",
      "Rank-10 : 91.32%\n",
      "\u001b[33mValidating ensembled with momentum models ...\u001b[0m\n",
      "Computing CMC and mAP ...\n",
      "** Results **\n",
      "mAP: 65.40%\n",
      "Ranks:\n",
      "Rank-1  : 60.95%\n",
      "Rank-5  : 84.80%\n",
      "Rank-10 : 92.04%\n",
      "###============ Iteration number 86/90 ============###\n",
      "Extracting Online Features for vgg16 ...\n",
      "Features extracted in 142.85 seconds\n",
      "Computing jaccard distance...\n"
     ]
    },
    {
     "name": "stderr",
     "output_type": "stream",
     "text": [
      "bruteForceKnn is deprecated; call bfKnn instead\n"
     ]
    },
    {
     "name": "stdout",
     "output_type": "stream",
     "text": [
      "Jaccard distance computing time cost: 61.41785383224487\n",
      "Extracting Online Features for resnet50 ...\n",
      "Features extracted in 146.15 seconds\n",
      "Computing jaccard distance...\n"
     ]
    },
    {
     "name": "stderr",
     "output_type": "stream",
     "text": [
      "bruteForceKnn is deprecated; call bfKnn instead\n"
     ]
    },
    {
     "name": "stdout",
     "output_type": "stream",
     "text": [
      "Jaccard distance computing time cost: 67.24648094177246\n",
      "Extracting Online Features for osnet ...\n",
      "Features extracted in 140.63 seconds\n",
      "Computing jaccard distance...\n"
     ]
    },
    {
     "name": "stderr",
     "output_type": "stream",
     "text": [
      "bruteForceKnn is deprecated; call bfKnn instead\n"
     ]
    },
    {
     "name": "stdout",
     "output_type": "stream",
     "text": [
      "Jaccard distance computing time cost: 59.47632718086243\n",
      "Extracting Online Features for densenet121 ...\n",
      "Features extracted in 146.08 seconds\n",
      "Computing jaccard distance...\n"
     ]
    },
    {
     "name": "stderr",
     "output_type": "stream",
     "text": [
      "bruteForceKnn is deprecated; call bfKnn instead\n"
     ]
    },
    {
     "name": "stdout",
     "output_type": "stream",
     "text": [
      "Jaccard distance computing time cost: 67.95194101333618\n",
      "Reliability: 0.992\n",
      "\u001b[32mMean Purity: 0.03921\u001b[0m\n",
      "\u001b[34mThere are 3 clusters with 4 cameras\u001b[0m\n",
      "\u001b[34mThere are 3 clusters with 5 cameras\u001b[0m\n",
      "\u001b[34mThere are 3 clusters with 6 cameras\u001b[0m\n",
      "\u001b[34mThere are 2 clusters with 7 cameras\u001b[0m\n",
      "\u001b[34mThere are 3 clusters with 8 cameras\u001b[0m\n",
      "\u001b[34mThere are 1 clusters with 9 cameras\u001b[0m\n",
      "\u001b[34mThere are 1 clusters with 10 cameras\u001b[0m\n",
      "\u001b[34mThere are 2 clusters with 12 cameras\u001b[0m\n",
      "\u001b[34mThere are 1 clusters with 14 cameras\u001b[0m\n",
      "\u001b[34mThere are 1 clusters with 16 cameras\u001b[0m\n",
      "\u001b[34mThere are 1 clusters with 17 cameras\u001b[0m\n",
      "\u001b[34mThere are 2 clusters with 18 cameras\u001b[0m\n",
      "\u001b[34mThere are 1 clusters with 35 cameras\u001b[0m\n",
      "\u001b[34mThere are 1 clusters with 43 cameras\u001b[0m\n",
      "\u001b[34mThere are 1 clusters with 44 cameras\u001b[0m\n",
      "\u001b[34mThere are 1 clusters with 46 cameras\u001b[0m\n",
      "\u001b[34mThere are 1 clusters with 50 cameras\u001b[0m\n",
      "\u001b[34mThere are 1 clusters with 52 cameras\u001b[0m\n",
      "\u001b[34mThere are 1 clusters with 53 cameras\u001b[0m\n",
      "\u001b[34mThere are 1 clusters with 54 cameras\u001b[0m\n",
      "\u001b[34mThere are 3 clusters with 55 cameras\u001b[0m\n",
      "\u001b[34mThere are 1 clusters with 56 cameras\u001b[0m\n",
      "\u001b[34mThere are 6 clusters with 57 cameras\u001b[0m\n",
      "\u001b[34mThere are 5 clusters with 58 cameras\u001b[0m\n",
      "\u001b[34mThere are 3 clusters with 59 cameras\u001b[0m\n",
      "\u001b[34mThere are 8 clusters with 60 cameras\u001b[0m\n",
      "\u001b[34mThere are 14 clusters with 61 cameras\u001b[0m\n",
      "\u001b[34mThere are 18 clusters with 62 cameras\u001b[0m\n",
      "\u001b[34mThere are 42 clusters with 63 cameras\u001b[0m\n",
      "\u001b[34mThere are 400 clusters with 64 cameras\u001b[0m\n",
      "\u001b[34mThere are 3 clusters with 66 cameras\u001b[0m\n",
      "\u001b[34mThere are 1 clusters with 68 cameras\u001b[0m\n",
      "\u001b[34mThere are 1 clusters with 69 cameras\u001b[0m\n",
      "\u001b[34mThere are 1 clusters with 73 cameras\u001b[0m\n",
      "\u001b[34mThere are 1 clusters with 106 cameras\u001b[0m\n",
      "\u001b[34mThere are 1 clusters with 109 cameras\u001b[0m\n",
      "\u001b[34mThere are 1 clusters with 116 cameras\u001b[0m\n",
      "\u001b[34mThere are 1 clusters with 118 cameras\u001b[0m\n",
      "\u001b[34mThere are 1 clusters with 121 cameras\u001b[0m\n",
      "\u001b[34mThere are 1 clusters with 122 cameras\u001b[0m\n",
      "\u001b[34mThere are 3 clusters with 123 cameras\u001b[0m\n",
      "\u001b[34mThere are 3 clusters with 124 cameras\u001b[0m\n",
      "\u001b[34mThere are 2 clusters with 126 cameras\u001b[0m\n",
      "\u001b[34mThere are 3 clusters with 127 cameras\u001b[0m\n",
      "\u001b[34mThere are 11 clusters with 128 cameras\u001b[0m\n",
      "\u001b[34mThere are 1 clusters with 131 cameras\u001b[0m\n",
      "\u001b[34mThere are 1 clusters with 134 cameras\u001b[0m\n",
      "\u001b[34mThere are 1 clusters with 187 cameras\u001b[0m\n",
      "\u001b[34mThere are 2 clusters with 188 cameras\u001b[0m\n",
      "\u001b[34mThere are 1 clusters with 190 cameras\u001b[0m\n",
      "\u001b[34mThere are 1 clusters with 192 cameras\u001b[0m\n",
      "\u001b[34mThere are 1 clusters with 338 cameras\u001b[0m\n",
      "\u001b[34mThere are 1 clusters with 361 cameras\u001b[0m\n",
      "Number of classes: 574\n",
      "\u001b[36mLearning Rate: 0.000280\u001b[0m\n",
      "encontrou modelos vgg16. Carregando...\n",
      "encontrou modelos resnet50. Carregando...\n",
      "encontrou modelos osnet. Carregando...\n",
      "encontrou modelos densenet121. Carregando...\n",
      "###============ Iteration number 87/90 ============###\n",
      "Extracting Online Features for vgg16 ...\n",
      "Features extracted in 143.82 seconds\n",
      "Computing jaccard distance...\n"
     ]
    },
    {
     "name": "stderr",
     "output_type": "stream",
     "text": [
      "bruteForceKnn is deprecated; call bfKnn instead\n"
     ]
    },
    {
     "name": "stdout",
     "output_type": "stream",
     "text": [
      "Jaccard distance computing time cost: 66.48182392120361\n",
      "Extracting Online Features for resnet50 ...\n",
      "Features extracted in 140.80 seconds\n",
      "Computing jaccard distance...\n"
     ]
    },
    {
     "name": "stderr",
     "output_type": "stream",
     "text": [
      "bruteForceKnn is deprecated; call bfKnn instead\n"
     ]
    },
    {
     "name": "stdout",
     "output_type": "stream",
     "text": [
      "Jaccard distance computing time cost: 61.54091715812683\n",
      "Extracting Online Features for osnet ...\n",
      "Features extracted in 139.70 seconds\n",
      "Computing jaccard distance...\n"
     ]
    },
    {
     "name": "stderr",
     "output_type": "stream",
     "text": [
      "bruteForceKnn is deprecated; call bfKnn instead\n"
     ]
    },
    {
     "name": "stdout",
     "output_type": "stream",
     "text": [
      "Jaccard distance computing time cost: 62.964457273483276\n",
      "Extracting Online Features for densenet121 ...\n",
      "Features extracted in 136.91 seconds\n",
      "Computing jaccard distance...\n"
     ]
    },
    {
     "name": "stderr",
     "output_type": "stream",
     "text": [
      "bruteForceKnn is deprecated; call bfKnn instead\n"
     ]
    },
    {
     "name": "stdout",
     "output_type": "stream",
     "text": [
      "Jaccard distance computing time cost: 67.47522306442261\n",
      "Reliability: 0.992\n",
      "\u001b[32mMean Purity: 0.03921\u001b[0m\n",
      "\u001b[34mThere are 3 clusters with 4 cameras\u001b[0m\n",
      "\u001b[34mThere are 3 clusters with 5 cameras\u001b[0m\n",
      "\u001b[34mThere are 3 clusters with 6 cameras\u001b[0m\n",
      "\u001b[34mThere are 2 clusters with 7 cameras\u001b[0m\n",
      "\u001b[34mThere are 3 clusters with 8 cameras\u001b[0m\n",
      "\u001b[34mThere are 1 clusters with 9 cameras\u001b[0m\n",
      "\u001b[34mThere are 1 clusters with 10 cameras\u001b[0m\n",
      "\u001b[34mThere are 2 clusters with 12 cameras\u001b[0m\n",
      "\u001b[34mThere are 1 clusters with 14 cameras\u001b[0m\n",
      "\u001b[34mThere are 1 clusters with 16 cameras\u001b[0m\n",
      "\u001b[34mThere are 1 clusters with 17 cameras\u001b[0m\n",
      "\u001b[34mThere are 2 clusters with 18 cameras\u001b[0m\n",
      "\u001b[34mThere are 1 clusters with 35 cameras\u001b[0m\n",
      "\u001b[34mThere are 1 clusters with 43 cameras\u001b[0m\n",
      "\u001b[34mThere are 1 clusters with 44 cameras\u001b[0m\n",
      "\u001b[34mThere are 1 clusters with 46 cameras\u001b[0m\n",
      "\u001b[34mThere are 1 clusters with 50 cameras\u001b[0m\n",
      "\u001b[34mThere are 1 clusters with 52 cameras\u001b[0m\n",
      "\u001b[34mThere are 1 clusters with 53 cameras\u001b[0m\n",
      "\u001b[34mThere are 1 clusters with 54 cameras\u001b[0m\n",
      "\u001b[34mThere are 3 clusters with 55 cameras\u001b[0m\n",
      "\u001b[34mThere are 1 clusters with 56 cameras\u001b[0m\n",
      "\u001b[34mThere are 6 clusters with 57 cameras\u001b[0m\n",
      "\u001b[34mThere are 5 clusters with 58 cameras\u001b[0m\n",
      "\u001b[34mThere are 3 clusters with 59 cameras\u001b[0m\n",
      "\u001b[34mThere are 8 clusters with 60 cameras\u001b[0m\n",
      "\u001b[34mThere are 14 clusters with 61 cameras\u001b[0m\n",
      "\u001b[34mThere are 18 clusters with 62 cameras\u001b[0m\n",
      "\u001b[34mThere are 42 clusters with 63 cameras\u001b[0m\n",
      "\u001b[34mThere are 400 clusters with 64 cameras\u001b[0m\n",
      "\u001b[34mThere are 3 clusters with 66 cameras\u001b[0m\n",
      "\u001b[34mThere are 1 clusters with 68 cameras\u001b[0m\n",
      "\u001b[34mThere are 1 clusters with 69 cameras\u001b[0m\n",
      "\u001b[34mThere are 1 clusters with 73 cameras\u001b[0m\n",
      "\u001b[34mThere are 1 clusters with 106 cameras\u001b[0m\n",
      "\u001b[34mThere are 1 clusters with 109 cameras\u001b[0m\n",
      "\u001b[34mThere are 1 clusters with 116 cameras\u001b[0m\n",
      "\u001b[34mThere are 1 clusters with 118 cameras\u001b[0m\n",
      "\u001b[34mThere are 1 clusters with 121 cameras\u001b[0m\n",
      "\u001b[34mThere are 1 clusters with 122 cameras\u001b[0m\n",
      "\u001b[34mThere are 3 clusters with 123 cameras\u001b[0m\n",
      "\u001b[34mThere are 3 clusters with 124 cameras\u001b[0m\n",
      "\u001b[34mThere are 2 clusters with 126 cameras\u001b[0m\n",
      "\u001b[34mThere are 3 clusters with 127 cameras\u001b[0m\n",
      "\u001b[34mThere are 11 clusters with 128 cameras\u001b[0m\n",
      "\u001b[34mThere are 1 clusters with 131 cameras\u001b[0m\n",
      "\u001b[34mThere are 1 clusters with 134 cameras\u001b[0m\n",
      "\u001b[34mThere are 1 clusters with 187 cameras\u001b[0m\n",
      "\u001b[34mThere are 2 clusters with 188 cameras\u001b[0m\n",
      "\u001b[34mThere are 1 clusters with 190 cameras\u001b[0m\n",
      "\u001b[34mThere are 1 clusters with 192 cameras\u001b[0m\n",
      "\u001b[34mThere are 1 clusters with 338 cameras\u001b[0m\n",
      "\u001b[34mThere are 1 clusters with 361 cameras\u001b[0m\n",
      "Number of classes: 574\n",
      "\u001b[36mLearning Rate: 0.000298\u001b[0m\n",
      "encontrou modelos vgg16. Carregando...\n",
      "encontrou modelos resnet50. Carregando...\n",
      "encontrou modelos osnet. Carregando...\n",
      "encontrou modelos densenet121. Carregando...\n",
      "###============ Iteration number 88/90 ============###\n",
      "Extracting Online Features for vgg16 ...\n",
      "Features extracted in 134.06 seconds\n",
      "Computing jaccard distance...\n"
     ]
    },
    {
     "name": "stderr",
     "output_type": "stream",
     "text": [
      "bruteForceKnn is deprecated; call bfKnn instead\n"
     ]
    },
    {
     "name": "stdout",
     "output_type": "stream",
     "text": [
      "Jaccard distance computing time cost: 66.29029965400696\n",
      "Extracting Online Features for resnet50 ...\n",
      "Features extracted in 137.94 seconds\n",
      "Computing jaccard distance...\n"
     ]
    },
    {
     "name": "stderr",
     "output_type": "stream",
     "text": [
      "bruteForceKnn is deprecated; call bfKnn instead\n"
     ]
    },
    {
     "name": "stdout",
     "output_type": "stream",
     "text": [
      "Jaccard distance computing time cost: 67.27866125106812\n",
      "Extracting Online Features for osnet ...\n",
      "Features extracted in 137.83 seconds\n",
      "Computing jaccard distance...\n"
     ]
    },
    {
     "name": "stderr",
     "output_type": "stream",
     "text": [
      "bruteForceKnn is deprecated; call bfKnn instead\n"
     ]
    },
    {
     "name": "stdout",
     "output_type": "stream",
     "text": [
      "Jaccard distance computing time cost: 58.985891819000244\n",
      "Extracting Online Features for densenet121 ...\n",
      "Features extracted in 138.42 seconds\n",
      "Computing jaccard distance...\n"
     ]
    },
    {
     "name": "stderr",
     "output_type": "stream",
     "text": [
      "bruteForceKnn is deprecated; call bfKnn instead\n"
     ]
    },
    {
     "name": "stdout",
     "output_type": "stream",
     "text": [
      "Jaccard distance computing time cost: 67.01864981651306\n",
      "Reliability: 0.992\n",
      "\u001b[32mMean Purity: 0.03921\u001b[0m\n",
      "\u001b[34mThere are 3 clusters with 4 cameras\u001b[0m\n",
      "\u001b[34mThere are 3 clusters with 5 cameras\u001b[0m\n",
      "\u001b[34mThere are 3 clusters with 6 cameras\u001b[0m\n",
      "\u001b[34mThere are 2 clusters with 7 cameras\u001b[0m\n",
      "\u001b[34mThere are 3 clusters with 8 cameras\u001b[0m\n",
      "\u001b[34mThere are 1 clusters with 9 cameras\u001b[0m\n",
      "\u001b[34mThere are 1 clusters with 10 cameras\u001b[0m\n",
      "\u001b[34mThere are 2 clusters with 12 cameras\u001b[0m\n",
      "\u001b[34mThere are 1 clusters with 14 cameras\u001b[0m\n",
      "\u001b[34mThere are 1 clusters with 16 cameras\u001b[0m\n",
      "\u001b[34mThere are 1 clusters with 17 cameras\u001b[0m\n",
      "\u001b[34mThere are 2 clusters with 18 cameras\u001b[0m\n",
      "\u001b[34mThere are 1 clusters with 35 cameras\u001b[0m\n",
      "\u001b[34mThere are 1 clusters with 43 cameras\u001b[0m\n",
      "\u001b[34mThere are 1 clusters with 44 cameras\u001b[0m\n",
      "\u001b[34mThere are 1 clusters with 46 cameras\u001b[0m\n",
      "\u001b[34mThere are 1 clusters with 50 cameras\u001b[0m\n",
      "\u001b[34mThere are 1 clusters with 52 cameras\u001b[0m\n",
      "\u001b[34mThere are 1 clusters with 53 cameras\u001b[0m\n",
      "\u001b[34mThere are 1 clusters with 54 cameras\u001b[0m\n",
      "\u001b[34mThere are 3 clusters with 55 cameras\u001b[0m\n",
      "\u001b[34mThere are 1 clusters with 56 cameras\u001b[0m\n",
      "\u001b[34mThere are 6 clusters with 57 cameras\u001b[0m\n",
      "\u001b[34mThere are 5 clusters with 58 cameras\u001b[0m\n",
      "\u001b[34mThere are 3 clusters with 59 cameras\u001b[0m\n",
      "\u001b[34mThere are 8 clusters with 60 cameras\u001b[0m\n",
      "\u001b[34mThere are 14 clusters with 61 cameras\u001b[0m\n",
      "\u001b[34mThere are 18 clusters with 62 cameras\u001b[0m\n",
      "\u001b[34mThere are 42 clusters with 63 cameras\u001b[0m\n",
      "\u001b[34mThere are 400 clusters with 64 cameras\u001b[0m\n",
      "\u001b[34mThere are 3 clusters with 66 cameras\u001b[0m\n",
      "\u001b[34mThere are 1 clusters with 68 cameras\u001b[0m\n",
      "\u001b[34mThere are 1 clusters with 69 cameras\u001b[0m\n",
      "\u001b[34mThere are 1 clusters with 73 cameras\u001b[0m\n",
      "\u001b[34mThere are 1 clusters with 106 cameras\u001b[0m\n",
      "\u001b[34mThere are 1 clusters with 109 cameras\u001b[0m\n",
      "\u001b[34mThere are 1 clusters with 116 cameras\u001b[0m\n",
      "\u001b[34mThere are 1 clusters with 118 cameras\u001b[0m\n",
      "\u001b[34mThere are 1 clusters with 121 cameras\u001b[0m\n",
      "\u001b[34mThere are 1 clusters with 122 cameras\u001b[0m\n",
      "\u001b[34mThere are 3 clusters with 123 cameras\u001b[0m\n",
      "\u001b[34mThere are 3 clusters with 124 cameras\u001b[0m\n",
      "\u001b[34mThere are 2 clusters with 126 cameras\u001b[0m\n",
      "\u001b[34mThere are 3 clusters with 127 cameras\u001b[0m\n",
      "\u001b[34mThere are 11 clusters with 128 cameras\u001b[0m\n",
      "\u001b[34mThere are 1 clusters with 131 cameras\u001b[0m\n",
      "\u001b[34mThere are 1 clusters with 134 cameras\u001b[0m\n",
      "\u001b[34mThere are 1 clusters with 187 cameras\u001b[0m\n",
      "\u001b[34mThere are 2 clusters with 188 cameras\u001b[0m\n",
      "\u001b[34mThere are 1 clusters with 190 cameras\u001b[0m\n",
      "\u001b[34mThere are 1 clusters with 192 cameras\u001b[0m\n",
      "\u001b[34mThere are 1 clusters with 338 cameras\u001b[0m\n",
      "\u001b[34mThere are 1 clusters with 361 cameras\u001b[0m\n",
      "Number of classes: 574\n",
      "\u001b[36mLearning Rate: 0.000315\u001b[0m\n",
      "encontrou modelos vgg16. Carregando...\n",
      "encontrou modelos resnet50. Carregando...\n",
      "encontrou modelos osnet. Carregando...\n",
      "encontrou modelos densenet121. Carregando...\n",
      "###============ Iteration number 89/90 ============###\n",
      "Extracting Online Features for vgg16 ...\n",
      "Features extracted in 134.73 seconds\n",
      "Computing jaccard distance...\n"
     ]
    },
    {
     "name": "stderr",
     "output_type": "stream",
     "text": [
      "bruteForceKnn is deprecated; call bfKnn instead\n"
     ]
    },
    {
     "name": "stdout",
     "output_type": "stream",
     "text": [
      "Jaccard distance computing time cost: 61.0506227016449\n",
      "Extracting Online Features for resnet50 ...\n",
      "Features extracted in 134.23 seconds\n",
      "Computing jaccard distance...\n"
     ]
    },
    {
     "name": "stderr",
     "output_type": "stream",
     "text": [
      "bruteForceKnn is deprecated; call bfKnn instead\n"
     ]
    },
    {
     "name": "stdout",
     "output_type": "stream",
     "text": [
      "Jaccard distance computing time cost: 61.69590091705322\n",
      "Extracting Online Features for osnet ...\n",
      "Features extracted in 137.97 seconds\n",
      "Computing jaccard distance...\n"
     ]
    },
    {
     "name": "stderr",
     "output_type": "stream",
     "text": [
      "bruteForceKnn is deprecated; call bfKnn instead\n"
     ]
    },
    {
     "name": "stdout",
     "output_type": "stream",
     "text": [
      "Jaccard distance computing time cost: 58.754995822906494\n",
      "Extracting Online Features for densenet121 ...\n",
      "Features extracted in 135.96 seconds\n",
      "Computing jaccard distance...\n"
     ]
    },
    {
     "name": "stderr",
     "output_type": "stream",
     "text": [
      "bruteForceKnn is deprecated; call bfKnn instead\n"
     ]
    },
    {
     "name": "stdout",
     "output_type": "stream",
     "text": [
      "Jaccard distance computing time cost: 62.780447006225586\n",
      "Reliability: 0.992\n",
      "\u001b[32mMean Purity: 0.03921\u001b[0m\n",
      "\u001b[34mThere are 3 clusters with 4 cameras\u001b[0m\n",
      "\u001b[34mThere are 3 clusters with 5 cameras\u001b[0m\n",
      "\u001b[34mThere are 3 clusters with 6 cameras\u001b[0m\n",
      "\u001b[34mThere are 2 clusters with 7 cameras\u001b[0m\n",
      "\u001b[34mThere are 3 clusters with 8 cameras\u001b[0m\n",
      "\u001b[34mThere are 1 clusters with 9 cameras\u001b[0m\n",
      "\u001b[34mThere are 1 clusters with 10 cameras\u001b[0m\n",
      "\u001b[34mThere are 2 clusters with 12 cameras\u001b[0m\n",
      "\u001b[34mThere are 1 clusters with 14 cameras\u001b[0m\n",
      "\u001b[34mThere are 1 clusters with 16 cameras\u001b[0m\n",
      "\u001b[34mThere are 1 clusters with 17 cameras\u001b[0m\n",
      "\u001b[34mThere are 2 clusters with 18 cameras\u001b[0m\n",
      "\u001b[34mThere are 1 clusters with 35 cameras\u001b[0m\n",
      "\u001b[34mThere are 1 clusters with 43 cameras\u001b[0m\n",
      "\u001b[34mThere are 1 clusters with 44 cameras\u001b[0m\n",
      "\u001b[34mThere are 1 clusters with 46 cameras\u001b[0m\n",
      "\u001b[34mThere are 1 clusters with 50 cameras\u001b[0m\n",
      "\u001b[34mThere are 1 clusters with 52 cameras\u001b[0m\n",
      "\u001b[34mThere are 1 clusters with 53 cameras\u001b[0m\n",
      "\u001b[34mThere are 1 clusters with 54 cameras\u001b[0m\n",
      "\u001b[34mThere are 3 clusters with 55 cameras\u001b[0m\n",
      "\u001b[34mThere are 1 clusters with 56 cameras\u001b[0m\n",
      "\u001b[34mThere are 6 clusters with 57 cameras\u001b[0m\n",
      "\u001b[34mThere are 5 clusters with 58 cameras\u001b[0m\n",
      "\u001b[34mThere are 3 clusters with 59 cameras\u001b[0m\n",
      "\u001b[34mThere are 8 clusters with 60 cameras\u001b[0m\n",
      "\u001b[34mThere are 14 clusters with 61 cameras\u001b[0m\n",
      "\u001b[34mThere are 18 clusters with 62 cameras\u001b[0m\n",
      "\u001b[34mThere are 42 clusters with 63 cameras\u001b[0m\n",
      "\u001b[34mThere are 400 clusters with 64 cameras\u001b[0m\n",
      "\u001b[34mThere are 3 clusters with 66 cameras\u001b[0m\n",
      "\u001b[34mThere are 1 clusters with 68 cameras\u001b[0m\n",
      "\u001b[34mThere are 1 clusters with 69 cameras\u001b[0m\n",
      "\u001b[34mThere are 1 clusters with 73 cameras\u001b[0m\n",
      "\u001b[34mThere are 1 clusters with 106 cameras\u001b[0m\n",
      "\u001b[34mThere are 1 clusters with 109 cameras\u001b[0m\n",
      "\u001b[34mThere are 1 clusters with 116 cameras\u001b[0m\n",
      "\u001b[34mThere are 1 clusters with 118 cameras\u001b[0m\n",
      "\u001b[34mThere are 1 clusters with 121 cameras\u001b[0m\n",
      "\u001b[34mThere are 1 clusters with 122 cameras\u001b[0m\n",
      "\u001b[34mThere are 3 clusters with 123 cameras\u001b[0m\n",
      "\u001b[34mThere are 3 clusters with 124 cameras\u001b[0m\n",
      "\u001b[34mThere are 2 clusters with 126 cameras\u001b[0m\n",
      "\u001b[34mThere are 3 clusters with 127 cameras\u001b[0m\n",
      "\u001b[34mThere are 11 clusters with 128 cameras\u001b[0m\n",
      "\u001b[34mThere are 1 clusters with 131 cameras\u001b[0m\n",
      "\u001b[34mThere are 1 clusters with 134 cameras\u001b[0m\n",
      "\u001b[34mThere are 1 clusters with 187 cameras\u001b[0m\n",
      "\u001b[34mThere are 2 clusters with 188 cameras\u001b[0m\n",
      "\u001b[34mThere are 1 clusters with 190 cameras\u001b[0m\n",
      "\u001b[34mThere are 1 clusters with 192 cameras\u001b[0m\n",
      "\u001b[34mThere are 1 clusters with 338 cameras\u001b[0m\n",
      "\u001b[34mThere are 1 clusters with 361 cameras\u001b[0m\n",
      "Number of classes: 574\n",
      "\u001b[36mLearning Rate: 0.000333\u001b[0m\n",
      "encontrou modelos vgg16. Carregando...\n",
      "encontrou modelos resnet50. Carregando...\n",
      "encontrou modelos osnet. Carregando...\n",
      "encontrou modelos densenet121. Carregando...\n",
      "###============ Iteration number 90/90 ============###\n",
      "Extracting Online Features for vgg16 ...\n",
      "Features extracted in 135.02 seconds\n",
      "Computing jaccard distance...\n"
     ]
    },
    {
     "name": "stderr",
     "output_type": "stream",
     "text": [
      "bruteForceKnn is deprecated; call bfKnn instead\n"
     ]
    },
    {
     "name": "stdout",
     "output_type": "stream",
     "text": [
      "Jaccard distance computing time cost: 61.26692819595337\n",
      "Extracting Online Features for resnet50 ...\n",
      "Features extracted in 135.45 seconds\n",
      "Computing jaccard distance...\n"
     ]
    },
    {
     "name": "stderr",
     "output_type": "stream",
     "text": [
      "bruteForceKnn is deprecated; call bfKnn instead\n"
     ]
    },
    {
     "name": "stdout",
     "output_type": "stream",
     "text": [
      "Jaccard distance computing time cost: 61.4424364566803\n",
      "Extracting Online Features for osnet ...\n",
      "Features extracted in 136.86 seconds\n",
      "Computing jaccard distance...\n"
     ]
    },
    {
     "name": "stderr",
     "output_type": "stream",
     "text": [
      "bruteForceKnn is deprecated; call bfKnn instead\n"
     ]
    },
    {
     "name": "stdout",
     "output_type": "stream",
     "text": [
      "Jaccard distance computing time cost: 69.39322519302368\n",
      "Extracting Online Features for densenet121 ...\n",
      "Features extracted in 135.68 seconds\n",
      "Computing jaccard distance...\n"
     ]
    },
    {
     "name": "stderr",
     "output_type": "stream",
     "text": [
      "bruteForceKnn is deprecated; call bfKnn instead\n"
     ]
    },
    {
     "name": "stdout",
     "output_type": "stream",
     "text": [
      "Jaccard distance computing time cost: 62.15748119354248\n",
      "Reliability: 0.992\n",
      "\u001b[32mMean Purity: 0.03921\u001b[0m\n",
      "\u001b[34mThere are 3 clusters with 4 cameras\u001b[0m\n",
      "\u001b[34mThere are 3 clusters with 5 cameras\u001b[0m\n",
      "\u001b[34mThere are 3 clusters with 6 cameras\u001b[0m\n",
      "\u001b[34mThere are 2 clusters with 7 cameras\u001b[0m\n",
      "\u001b[34mThere are 3 clusters with 8 cameras\u001b[0m\n",
      "\u001b[34mThere are 1 clusters with 9 cameras\u001b[0m\n",
      "\u001b[34mThere are 1 clusters with 10 cameras\u001b[0m\n",
      "\u001b[34mThere are 2 clusters with 12 cameras\u001b[0m\n",
      "\u001b[34mThere are 1 clusters with 14 cameras\u001b[0m\n",
      "\u001b[34mThere are 1 clusters with 16 cameras\u001b[0m\n",
      "\u001b[34mThere are 1 clusters with 17 cameras\u001b[0m\n",
      "\u001b[34mThere are 2 clusters with 18 cameras\u001b[0m\n",
      "\u001b[34mThere are 1 clusters with 35 cameras\u001b[0m\n",
      "\u001b[34mThere are 1 clusters with 43 cameras\u001b[0m\n",
      "\u001b[34mThere are 1 clusters with 44 cameras\u001b[0m\n",
      "\u001b[34mThere are 1 clusters with 46 cameras\u001b[0m\n",
      "\u001b[34mThere are 1 clusters with 50 cameras\u001b[0m\n",
      "\u001b[34mThere are 1 clusters with 52 cameras\u001b[0m\n",
      "\u001b[34mThere are 1 clusters with 53 cameras\u001b[0m\n",
      "\u001b[34mThere are 1 clusters with 54 cameras\u001b[0m\n",
      "\u001b[34mThere are 3 clusters with 55 cameras\u001b[0m\n",
      "\u001b[34mThere are 1 clusters with 56 cameras\u001b[0m\n",
      "\u001b[34mThere are 6 clusters with 57 cameras\u001b[0m\n",
      "\u001b[34mThere are 5 clusters with 58 cameras\u001b[0m\n",
      "\u001b[34mThere are 3 clusters with 59 cameras\u001b[0m\n",
      "\u001b[34mThere are 8 clusters with 60 cameras\u001b[0m\n",
      "\u001b[34mThere are 14 clusters with 61 cameras\u001b[0m\n",
      "\u001b[34mThere are 18 clusters with 62 cameras\u001b[0m\n",
      "\u001b[34mThere are 42 clusters with 63 cameras\u001b[0m\n",
      "\u001b[34mThere are 400 clusters with 64 cameras\u001b[0m\n",
      "\u001b[34mThere are 3 clusters with 66 cameras\u001b[0m\n",
      "\u001b[34mThere are 1 clusters with 68 cameras\u001b[0m\n",
      "\u001b[34mThere are 1 clusters with 69 cameras\u001b[0m\n",
      "\u001b[34mThere are 1 clusters with 73 cameras\u001b[0m\n",
      "\u001b[34mThere are 1 clusters with 106 cameras\u001b[0m\n",
      "\u001b[34mThere are 1 clusters with 109 cameras\u001b[0m\n",
      "\u001b[34mThere are 1 clusters with 116 cameras\u001b[0m\n",
      "\u001b[34mThere are 1 clusters with 118 cameras\u001b[0m\n",
      "\u001b[34mThere are 1 clusters with 121 cameras\u001b[0m\n",
      "\u001b[34mThere are 1 clusters with 122 cameras\u001b[0m\n",
      "\u001b[34mThere are 3 clusters with 123 cameras\u001b[0m\n",
      "\u001b[34mThere are 3 clusters with 124 cameras\u001b[0m\n",
      "\u001b[34mThere are 2 clusters with 126 cameras\u001b[0m\n",
      "\u001b[34mThere are 3 clusters with 127 cameras\u001b[0m\n",
      "\u001b[34mThere are 11 clusters with 128 cameras\u001b[0m\n",
      "\u001b[34mThere are 1 clusters with 131 cameras\u001b[0m\n",
      "\u001b[34mThere are 1 clusters with 134 cameras\u001b[0m\n",
      "\u001b[34mThere are 1 clusters with 187 cameras\u001b[0m\n",
      "\u001b[34mThere are 2 clusters with 188 cameras\u001b[0m\n",
      "\u001b[34mThere are 1 clusters with 190 cameras\u001b[0m\n",
      "\u001b[34mThere are 1 clusters with 192 cameras\u001b[0m\n",
      "\u001b[34mThere are 1 clusters with 338 cameras\u001b[0m\n",
      "\u001b[34mThere are 1 clusters with 361 cameras\u001b[0m\n",
      "Number of classes: 574\n",
      "\u001b[36mLearning Rate: 0.000350\u001b[0m\n",
      "encontrou modelos vgg16. Carregando...\n",
      "encontrou modelos resnet50. Carregando...\n",
      "encontrou modelos osnet. Carregando...\n",
      "encontrou modelos densenet121. Carregando...\n",
      "\u001b[33mValidating online vgg16 ...\u001b[0m\n",
      "Features extracted in 43.61 seconds\n",
      "Features extracted in 84.96 seconds\n",
      "Computing CMC and mAP ...\n",
      "** Results **\n",
      "mAP: 70.12%\n",
      "CMC curve\n",
      "Rank-1  : 75.96%\n",
      "Rank-5  : 91.27%\n",
      "Rank-10 : 94.82%\n",
      "Rank-20 : 96.79%\n",
      "\u001b[33mValidating momentum vgg16 ...\u001b[0m\n",
      "Features extracted in 43.23 seconds\n",
      "Features extracted in 80.65 seconds\n",
      "Computing CMC and mAP ...\n",
      "** Results **\n",
      "mAP: 66.17%\n",
      "CMC curve\n",
      "Rank-1  : 60.22%\n",
      "Rank-5  : 85.69%\n",
      "Rank-10 : 92.76%\n",
      "Rank-20 : 97.47%\n",
      "\u001b[33mValidating online resnet50 ...\u001b[0m\n",
      "Features extracted in 42.62 seconds\n",
      "Features extracted in 79.77 seconds\n",
      "Computing CMC and mAP ...\n",
      "** Results **\n",
      "mAP: 67.50%\n",
      "CMC curve\n",
      "Rank-1  : 55.02%\n",
      "Rank-5  : 80.54%\n",
      "Rank-10 : 89.57%\n",
      "Rank-20 : 96.21%\n",
      "\u001b[33mValidating momentum resnet50 ...\u001b[0m\n",
      "Features extracted in 42.77 seconds\n",
      "Features extracted in 83.45 seconds\n",
      "Computing CMC and mAP ...\n",
      "** Results **\n",
      "mAP: 66.53%\n",
      "CMC curve\n",
      "Rank-1  : 51.40%\n",
      "Rank-5  : 82.97%\n",
      "Rank-10 : 92.60%\n",
      "Rank-20 : 97.67%\n",
      "\u001b[33mValidating online osnet ...\u001b[0m\n",
      "Features extracted in 42.01 seconds\n",
      "Features extracted in 81.15 seconds\n",
      "Computing CMC and mAP ...\n",
      "** Results **\n",
      "mAP: 70.98%\n",
      "CMC curve\n",
      "Rank-1  : 66.36%\n",
      "Rank-5  : 91.56%\n",
      "Rank-10 : 96.56%\n",
      "Rank-20 : 99.07%\n",
      "\u001b[33mValidating momentum osnet ...\u001b[0m\n",
      "Features extracted in 42.19 seconds\n",
      "Features extracted in 78.83 seconds\n",
      "Computing CMC and mAP ...\n",
      "** Results **\n",
      "mAP: 64.56%\n",
      "CMC curve\n",
      "Rank-1  : 55.77%\n",
      "Rank-5  : 86.08%\n",
      "Rank-10 : 94.11%\n",
      "Rank-20 : 97.92%\n",
      "\u001b[33mValidating online densenet121 ...\u001b[0m\n",
      "Features extracted in 42.32 seconds\n",
      "Features extracted in 80.16 seconds\n",
      "Computing CMC and mAP ...\n",
      "** Results **\n",
      "mAP: 69.32%\n",
      "CMC curve\n",
      "Rank-1  : 61.53%\n",
      "Rank-5  : 85.89%\n",
      "Rank-10 : 93.66%\n",
      "Rank-20 : 97.66%\n",
      "\u001b[33mValidating momentum densenet121 ...\u001b[0m\n",
      "Features extracted in 43.38 seconds\n",
      "Features extracted in 79.72 seconds\n",
      "Computing CMC and mAP ...\n",
      "** Results **\n",
      "mAP: 66.02%\n",
      "CMC curve\n",
      "Rank-1  : 63.00%\n",
      "Rank-5  : 91.00%\n",
      "Rank-10 : 96.36%\n",
      "Rank-20 : 98.94%\n",
      "\u001b[33mValidating ensembled with online models ...\u001b[0m\n",
      "Computing CMC and mAP ...\n",
      "** Results **\n",
      "mAP: 69.73%\n",
      "Ranks:\n",
      "Rank-1  : 63.31%\n",
      "Rank-5  : 83.51%\n",
      "Rank-10 : 91.32%\n",
      "\u001b[33mValidating ensembled with momentum models ...\u001b[0m\n",
      "Computing CMC and mAP ...\n",
      "** Results **\n",
      "mAP: 65.40%\n",
      "Ranks:\n",
      "Rank-1  : 60.95%\n",
      "Rank-5  : 84.80%\n",
      "Rank-10 : 92.04%\n",
      "Features extracted in 81.56 seconds\n",
      "Features extracted in 43.67 seconds\n",
      "Features extracted in 80.10 seconds\n",
      "Features extracted in 49.40 seconds\n",
      "Features extracted in 104.60 seconds\n",
      "Features extracted in 53.32 seconds\n",
      "Features extracted in 96.80 seconds\n",
      "Features extracted in 48.83 seconds\n",
      "257901.5556218624 5701.013464927673 266.18504762649536\n",
      "Mean Feature Extraction and Reranking Time: 2865.572840\n",
      "Mean Clustering Time: 63.344594\n",
      "Mean Finetuning Time: 2.957612\n",
      "Total pipeline Time:  435361.744097\n"
     ]
    }
   ],
   "source": [
    "import torch\n",
    "import numpy as np\n",
    "import matplotlib.pyplot as plt\n",
    "\n",
    "from main import *\n",
    "\n",
    "from sklearn.cluster import KMeans\n",
    "from datasetUtils import load_from_Jadson\n",
    "from sklearn.metrics import confusion_matrix\n",
    "from sklearn.metrics import ConfusionMatrixDisplay\n",
    "\n",
    "from warnings import simplefilter\n",
    "# ignore all future warnings\n",
    "simplefilter(action='ignore', category=FutureWarning)\n",
    "\n",
    "\n",
    "# if __name__ == '__main__':\n",
    "# parser = argparse.ArgumentParser(description='Define the UDA parameters')\n",
    "#\n",
    "# parser.add_argument('--gpu_ids', type=str, default=\"7\", help='GPU IDs')\n",
    "# parser.add_argument('--lr', type=float, default=3.5e-4, help='Learning Rate')\n",
    "# parser.add_argument('--P', type=int, default=16, help='Number of Persons')\n",
    "# parser.add_argument('--K', type=int, default=4, help='Number of samples per person')\n",
    "# parser.add_argument('--tau', type=float, default=0.05, help='tau value used on softmax triplet loss')\n",
    "# parser.add_argument('--beta', type=float, default=0.999, help='beta used on self-Ensembling')\n",
    "# parser.add_argument('--k1', type=int, default=30, help='k on k-Reciprocal Encoding')\n",
    "# parser.add_argument('--sampling', type=str, default=\"mean\", help='Mean or Random feature vectors to be prototype')\n",
    "# parser.add_argument('--lambda_hard', type=float, default=0.5, help='tuning prameter of Softmax Triplet Loss')\n",
    "# parser.add_argument('--num_iter', type=int, default=400, help='Number of iterations on an epoch')\n",
    "# parser.add_argument('--momentum_on_feature_extraction', type=int, default=0,\n",
    "# help='If it is the momentum used on feature extraction')\n",
    "# parser.add_argument('--target', type=str, help='Name of target dataset')\n",
    "# parser.add_argument('--path_to_save_models', type=str, help='Path to save models')\n",
    "# parser.add_argument('--path_to_save_metrics', type=str, help='Path to save metrics (mAP, CMC, ...)')\n",
    "# parser.add_argument('--version', type=str, help='Path to save models')\n",
    "# parser.add_argument('--eval_freq', type=int, help='Evaluation Frequency along training')\n",
    "\n",
    "# args = parser.parse_args()\n",
    "# gpu_ids = args.gpu_ids\n",
    "# base_lr = args.lr\n",
    "# P = args.P\n",
    "# K = args.K\n",
    "\n",
    "# tau = args.tau\n",
    "# beta = args.beta\n",
    "# k1 = args.k1\n",
    "# sampling  = args.sampling\n",
    "#\n",
    "# lambda_hard = args.lambda_hard\n",
    "# number_of_iterations = args.num_iter\n",
    "# momentum_on_feature_extraction = bool(args.momentum_on_feature_extraction)\n",
    "# target = args.target\n",
    "# dir_to_save = args.path_to_save_models\n",
    "# dir_to_save_metrics = args.path_to_save_metrics\n",
    "# version = args.version\n",
    "# eval_freq = args.eval_freq\n",
    "# main.py --gpu_ids=0,1,2,3 --lr=3.5e-4 --P=16 --K=12 --tau=0.04 --beta=0.999 --k1=30 --sampling=mean --lambda_hard=0.5 --num_iter=7 --momentum_on_feature_extraction=0 --target=Duke --path_to_save_models=models --path_to_save_metrics=metrics --version=version_name --eval_freq=5\n",
    "\n",
    "import sys\n",
    "import os\n",
    "import pandas as pd\n",
    "\n",
    "from IPython.display import display, Image\n",
    "\n",
    "from IPython.display import display, HTML\n",
    "from bs4 import BeautifulSoup\n",
    "\n",
    "\n",
    "# Função para exibir a imagem usando HTML\n",
    "def exibir_imagem(imagem_path):\n",
    "    return f'<img src=\"{imagem_path}\" width=\"400\">'\n",
    "\n",
    "\n",
    "from metricas import *\n",
    "\n",
    "html_content= \"\"\n",
    "df = pd.DataFrame({\n",
    "    'k':[], \n",
    "    'lambda_hard':[],\n",
    "    'modelo':[],\n",
    "    'matriz_confusao':[], \n",
    "    'Acuracia':[], \n",
    "    'Precisao':[],\n",
    "    'Recall':[],\n",
    "    'F1-score':[],\n",
    "    'Grafico':[],\n",
    "    'Tipo':[]\n",
    "    })\n",
    "\n",
    "gpus = \"0,3,4\" \n",
    "for k in [4]:\n",
    "    for lambda_hard in [ 0.0 ]:\n",
    "                \n",
    "        print(f\"**** inicio do teste com ruido em k:{k} e lambda_hard:{lambda_hard} ****\")\n",
    "        \n",
    "        version = f\"teste-04-ruido-norm-90epocas_{k}_{lambda_hard}\"\n",
    "        \n",
    "        main(gpu_ids=gpus,base_lr=3.5e-4,P=16,K=k,tau=0.04,beta=0.999,k1=30,sampling=\"random\",lambda_hard=lambda_hard,number_of_iterations=7,momentum_on_feature_extraction=0,target=\"Jadson\",dir_to_save=\"models\",dir_to_save_metrics=\"metrics\",version=version,eval_freq=5,use_ruido=True)\n",
    "        \n",
    "        for metodo in models_name + [\"mean\"]:\n",
    "            metricas_t, metricas_v, rotulos_t, rotulos_v = metricas(k=k, lambda_hard=lambda_hard, modelo=metodo)\n",
    "            linha = {\n",
    "                'k':            [k], \n",
    "                'lambda_hard':  [lambda_hard],\n",
    "                'modelo':       [metodo],\n",
    "                'Tipo':         'Test'\n",
    "            }\n",
    "            for count in range( 0, metricas_t.shape[0] ):\n",
    "                for m in range( 0, metricas_t.shape[1] ):\n",
    "                    linha[rotulos_t[m]] = metricas_t[count][m]\n",
    "                    \n",
    "                \n",
    "                linha['matriz_confusao'] = f'resultados/MC_{k}_{lambda_hard}_{count}_{metodo}_test.png'\n",
    "                linha['Grafico'] = f'resultados/grafico_{k}_{lambda_hard}_{count}_{metodo}_test.png'\n",
    "                df = pd.concat( [df, pd.DataFrame(linha)], axis=0)\n",
    "             \n",
    "            linha = {\n",
    "               'k':             [k], \n",
    "               'lambda_hard':   [lambda_hard],\n",
    "               'modelo':        [metodo],\n",
    "               'Tipo':          'Valid'\n",
    "             }\n",
    "            for count in range( 0, metricas_v.shape[0] ):\n",
    "                for m in range( 0, metricas_v.shape[1] ):\n",
    "                    linha[rotulos_v[m]] = metricas_v[count][m] \n",
    "               \n",
    "                linha['Grafico'] = f'resultados/grafico_{k}_{lambda_hard}_{count}_{metodo}_valid.png'\n",
    "                linha['matriz_confusao'] = f'resultados/MC_{k}_{lambda_hard}_{count}_{metodo}_valid.png' \n",
    "                df = pd.concat( [df, pd.DataFrame(linha)], axis=0)\n",
    "        \n",
    "        # Aplicar a função à coluna 'imagem' e criar uma nova coluna 'imagem_exibicao'\n",
    "        df['MC'] = df['matriz_confusao'].apply(exibir_imagem)\n",
    "        df['GR'] = df['Grafico'].apply(exibir_imagem)\n",
    "        \n",
    "        html_content = df[['k', \n",
    "                           'lambda_hard', \n",
    "                           'Tipo', \n",
    "                           'modelo'] + \n",
    "                           rotulos_v[:8] + \n",
    "                           ['MC', \n",
    "                           'GR']].to_html(escape=False, index=False)\n",
    "        # salvando df em arquivo html\n",
    "        # Use BeautifulSoup para formatar o HTML\n",
    "        soup = BeautifulSoup(html_content, 'html.parser')\n",
    "        formatted_html = soup.prettify()\n",
    "        \n",
    "        # Salve o HTML em um arquivo\n",
    "        head = \"<!DOCTYPE html>\\n<html lang='pt-br'>\\n<head>\\n  <meta charset='UTF-8'>\\n  <meta name='viewport' content='width=device-width, initial-scale=1.0'>\\n  <style>\\n    table {\\n      width: 100%;\\n      border-collapse: collapse;\\n    }\\n    th, td {\\n      border: 1px solid #ddd;\\n      padding: 8px;\\n      text-align: left;\\n    }\\n    th {\\n      background-color: #f2f2f2;\\n    }\\n    thead th {\\n      position: sticky;\\n      top: 0;\\n      z-index: 1;\\n      background-color: #f2f2f2;    }\\n  </style>\\n    <title>Relatório Parcial</title>\\n</head>\\n<body>\"\n",
    "        with open('relatorio-APCER-BPCER-ACER-silhouette-ward-90epocas-ruido-norm.html', 'w', encoding='utf-8') as file:\n",
    "            file.write(head)\n",
    "            file.write(formatted_html)\n",
    "            file.write('</body></html>')"
   ]
  },
  {
   "cell_type": "code",
   "execution_count": 2,
   "metadata": {
    "execution": {
     "iopub.execute_input": "2024-04-14T06:40:49.948419Z",
     "iopub.status.busy": "2024-04-14T06:40:49.947513Z",
     "iopub.status.idle": "2024-04-14T06:40:49.968384Z",
     "shell.execute_reply": "2024-04-14T06:40:49.967651Z"
    }
   },
   "outputs": [
    {
     "data": {
      "text/html": [
       "<table border=\"1\" class=\"dataframe\">\n",
       "  <thead>\n",
       "    <tr style=\"text-align: right;\">\n",
       "      <th>k</th>\n",
       "      <th>lambda_hard</th>\n",
       "      <th>Tipo</th>\n",
       "      <th>modelo</th>\n",
       "      <th>ACCURACY</th>\n",
       "      <th>PRECISION</th>\n",
       "      <th>RECALL</th>\n",
       "      <th>F1_SCORE</th>\n",
       "      <th>APCER</th>\n",
       "      <th>BPCER</th>\n",
       "      <th>ACER</th>\n",
       "      <th>SILHOUETTE</th>\n",
       "      <th>MC</th>\n",
       "      <th>GR</th>\n",
       "    </tr>\n",
       "  </thead>\n",
       "  <tbody>\n",
       "    <tr>\n",
       "      <td>4.0</td>\n",
       "      <td>0.0</td>\n",
       "      <td>Test</td>\n",
       "      <td>vgg16</td>\n",
       "      <td>0.317458</td>\n",
       "      <td>0.643871</td>\n",
       "      <td>0.328542</td>\n",
       "      <td>0.435079</td>\n",
       "      <td>0.671458</td>\n",
       "      <td>0.726875</td>\n",
       "      <td>0.699167</td>\n",
       "      <td>0.761711</td>\n",
       "      <td><img src=\"resultados/MC_4_0.0_0_vgg16_test.png\" width=\"400\"></td>\n",
       "      <td><img src=\"resultados/grafico_4_0.0_0_vgg16_test.png\" width=\"400\"></td>\n",
       "    </tr>\n",
       "    <tr>\n",
       "      <td>4.0</td>\n",
       "      <td>0.0</td>\n",
       "      <td>Valid</td>\n",
       "      <td>vgg16</td>\n",
       "      <td>0.493750</td>\n",
       "      <td>0.782565</td>\n",
       "      <td>0.508464</td>\n",
       "      <td>0.616417</td>\n",
       "      <td>0.491536</td>\n",
       "      <td>0.565104</td>\n",
       "      <td>0.528320</td>\n",
       "      <td>0.655175</td>\n",
       "      <td><img src=\"resultados/MC_4_0.0_0_vgg16_valid.png\" width=\"400\"></td>\n",
       "      <td><img src=\"resultados/grafico_4_0.0_0_vgg16_valid.png\" width=\"400\"></td>\n",
       "    </tr>\n",
       "    <tr>\n",
       "      <td>4.0</td>\n",
       "      <td>0.0</td>\n",
       "      <td>Test</td>\n",
       "      <td>resnet50</td>\n",
       "      <td>0.380000</td>\n",
       "      <td>0.673997</td>\n",
       "      <td>0.435781</td>\n",
       "      <td>0.529322</td>\n",
       "      <td>0.564219</td>\n",
       "      <td>0.843125</td>\n",
       "      <td>0.703672</td>\n",
       "      <td>0.661103</td>\n",
       "      <td><img src=\"resultados/MC_4_0.0_0_resnet50_test.png\" width=\"400\"></td>\n",
       "      <td><img src=\"resultados/grafico_4_0.0_0_resnet50_test.png\" width=\"400\"></td>\n",
       "    </tr>\n",
       "    <tr>\n",
       "      <td>4.0</td>\n",
       "      <td>0.0</td>\n",
       "      <td>Valid</td>\n",
       "      <td>resnet50</td>\n",
       "      <td>0.647813</td>\n",
       "      <td>0.764684</td>\n",
       "      <td>0.808594</td>\n",
       "      <td>0.786026</td>\n",
       "      <td>0.191406</td>\n",
       "      <td>0.995313</td>\n",
       "      <td>0.593359</td>\n",
       "      <td>0.779059</td>\n",
       "      <td><img src=\"resultados/MC_4_0.0_0_resnet50_valid.png\" width=\"400\"></td>\n",
       "      <td><img src=\"resultados/grafico_4_0.0_0_resnet50_valid.png\" width=\"400\"></td>\n",
       "    </tr>\n",
       "    <tr>\n",
       "      <td>4.0</td>\n",
       "      <td>0.0</td>\n",
       "      <td>Test</td>\n",
       "      <td>osnet</td>\n",
       "      <td>0.762750</td>\n",
       "      <td>0.884348</td>\n",
       "      <td>0.809271</td>\n",
       "      <td>0.845145</td>\n",
       "      <td>0.190729</td>\n",
       "      <td>0.423333</td>\n",
       "      <td>0.307031</td>\n",
       "      <td>0.706506</td>\n",
       "      <td><img src=\"resultados/MC_4_0.0_0_osnet_test.png\" width=\"400\"></td>\n",
       "      <td><img src=\"resultados/grafico_4_0.0_0_osnet_test.png\" width=\"400\"></td>\n",
       "    </tr>\n",
       "    <tr>\n",
       "      <td>4.0</td>\n",
       "      <td>0.0</td>\n",
       "      <td>Valid</td>\n",
       "      <td>osnet</td>\n",
       "      <td>0.513854</td>\n",
       "      <td>0.823770</td>\n",
       "      <td>0.499089</td>\n",
       "      <td>0.621584</td>\n",
       "      <td>0.500911</td>\n",
       "      <td>0.427083</td>\n",
       "      <td>0.463997</td>\n",
       "      <td>0.689663</td>\n",
       "      <td><img src=\"resultados/MC_4_0.0_0_osnet_valid.png\" width=\"400\"></td>\n",
       "      <td><img src=\"resultados/grafico_4_0.0_0_osnet_valid.png\" width=\"400\"></td>\n",
       "    </tr>\n",
       "    <tr>\n",
       "      <td>4.0</td>\n",
       "      <td>0.0</td>\n",
       "      <td>Test</td>\n",
       "      <td>densenet121</td>\n",
       "      <td>0.792833</td>\n",
       "      <td>0.857991</td>\n",
       "      <td>0.888021</td>\n",
       "      <td>0.872748</td>\n",
       "      <td>0.111979</td>\n",
       "      <td>0.587917</td>\n",
       "      <td>0.349948</td>\n",
       "      <td>0.759378</td>\n",
       "      <td><img src=\"resultados/MC_4_0.0_0_densenet121_test.png\" width=\"400\"></td>\n",
       "      <td><img src=\"resultados/grafico_4_0.0_0_densenet121_test.png\" width=\"400\"></td>\n",
       "    </tr>\n",
       "    <tr>\n",
       "      <td>4.0</td>\n",
       "      <td>0.0</td>\n",
       "      <td>Valid</td>\n",
       "      <td>densenet121</td>\n",
       "      <td>0.581250</td>\n",
       "      <td>0.793740</td>\n",
       "      <td>0.643880</td>\n",
       "      <td>0.710999</td>\n",
       "      <td>0.356120</td>\n",
       "      <td>0.669271</td>\n",
       "      <td>0.512695</td>\n",
       "      <td>0.648915</td>\n",
       "      <td><img src=\"resultados/MC_4_0.0_0_densenet121_valid.png\" width=\"400\"></td>\n",
       "      <td><img src=\"resultados/grafico_4_0.0_0_densenet121_valid.png\" width=\"400\"></td>\n",
       "    </tr>\n",
       "    <tr>\n",
       "      <td>4.0</td>\n",
       "      <td>0.0</td>\n",
       "      <td>Test</td>\n",
       "      <td>mean</td>\n",
       "      <td>0.750333</td>\n",
       "      <td>0.896066</td>\n",
       "      <td>0.778177</td>\n",
       "      <td>0.832971</td>\n",
       "      <td>0.221823</td>\n",
       "      <td>0.361042</td>\n",
       "      <td>0.291432</td>\n",
       "      <td>0.722175</td>\n",
       "      <td><img src=\"resultados/MC_4_0.0_0_mean_test.png\" width=\"400\"></td>\n",
       "      <td><img src=\"resultados/grafico_4_0.0_0_mean_test.png\" width=\"400\"></td>\n",
       "    </tr>\n",
       "    <tr>\n",
       "      <td>4.0</td>\n",
       "      <td>0.0</td>\n",
       "      <td>Valid</td>\n",
       "      <td>mean</td>\n",
       "      <td>0.545625</td>\n",
       "      <td>0.789226</td>\n",
       "      <td>0.589453</td>\n",
       "      <td>0.674866</td>\n",
       "      <td>0.410547</td>\n",
       "      <td>0.629687</td>\n",
       "      <td>0.520117</td>\n",
       "      <td>0.693203</td>\n",
       "      <td><img src=\"resultados/MC_4_0.0_0_mean_valid.png\" width=\"400\"></td>\n",
       "      <td><img src=\"resultados/grafico_4_0.0_0_mean_valid.png\" width=\"400\"></td>\n",
       "    </tr>\n",
       "  </tbody>\n",
       "</table>"
      ],
      "text/plain": [
       "<IPython.core.display.HTML object>"
      ]
     },
     "metadata": {},
     "output_type": "display_data"
    },
    {
     "name": "stdout",
     "output_type": "stream",
     "text": [
      "     k  lambda_hard       modelo                              matriz_confusao  \\\n",
      "0  4.0          0.0        vgg16         resultados/MC_4_0.0_0_vgg16_test.png   \n",
      "0  4.0          0.0        vgg16        resultados/MC_4_0.0_0_vgg16_valid.png   \n",
      "0  4.0          0.0     resnet50      resultados/MC_4_0.0_0_resnet50_test.png   \n",
      "0  4.0          0.0     resnet50     resultados/MC_4_0.0_0_resnet50_valid.png   \n",
      "0  4.0          0.0        osnet         resultados/MC_4_0.0_0_osnet_test.png   \n",
      "0  4.0          0.0        osnet        resultados/MC_4_0.0_0_osnet_valid.png   \n",
      "0  4.0          0.0  densenet121   resultados/MC_4_0.0_0_densenet121_test.png   \n",
      "0  4.0          0.0  densenet121  resultados/MC_4_0.0_0_densenet121_valid.png   \n",
      "0  4.0          0.0         mean          resultados/MC_4_0.0_0_mean_test.png   \n",
      "0  4.0          0.0         mean         resultados/MC_4_0.0_0_mean_valid.png   \n",
      "\n",
      "   Acuracia  Precisao  Recall  F1-score  \\\n",
      "0       NaN       NaN     NaN       NaN   \n",
      "0       NaN       NaN     NaN       NaN   \n",
      "0       NaN       NaN     NaN       NaN   \n",
      "0       NaN       NaN     NaN       NaN   \n",
      "0       NaN       NaN     NaN       NaN   \n",
      "0       NaN       NaN     NaN       NaN   \n",
      "0       NaN       NaN     NaN       NaN   \n",
      "0       NaN       NaN     NaN       NaN   \n",
      "0       NaN       NaN     NaN       NaN   \n",
      "0       NaN       NaN     NaN       NaN   \n",
      "\n",
      "                                            Grafico   Tipo  ACCURACY  \\\n",
      "0         resultados/grafico_4_0.0_0_vgg16_test.png   Test  0.317458   \n",
      "0        resultados/grafico_4_0.0_0_vgg16_valid.png  Valid  0.493750   \n",
      "0      resultados/grafico_4_0.0_0_resnet50_test.png   Test  0.380000   \n",
      "0     resultados/grafico_4_0.0_0_resnet50_valid.png  Valid  0.647813   \n",
      "0         resultados/grafico_4_0.0_0_osnet_test.png   Test  0.762750   \n",
      "0        resultados/grafico_4_0.0_0_osnet_valid.png  Valid  0.513854   \n",
      "0   resultados/grafico_4_0.0_0_densenet121_test.png   Test  0.792833   \n",
      "0  resultados/grafico_4_0.0_0_densenet121_valid.png  Valid  0.581250   \n",
      "0          resultados/grafico_4_0.0_0_mean_test.png   Test  0.750333   \n",
      "0         resultados/grafico_4_0.0_0_mean_valid.png  Valid  0.545625   \n",
      "\n",
      "   PRECISION    RECALL  F1_SCORE     APCER     BPCER      ACER  SILHOUETTE  \\\n",
      "0   0.643871  0.328542  0.435079  0.671458  0.726875  0.699167    0.761711   \n",
      "0   0.782565  0.508464  0.616417  0.491536  0.565104  0.528320    0.655175   \n",
      "0   0.673997  0.435781  0.529322  0.564219  0.843125  0.703672    0.661103   \n",
      "0   0.764684  0.808594  0.786026  0.191406  0.995313  0.593359    0.779059   \n",
      "0   0.884348  0.809271  0.845145  0.190729  0.423333  0.307031    0.706506   \n",
      "0   0.823770  0.499089  0.621584  0.500911  0.427083  0.463997    0.689663   \n",
      "0   0.857991  0.888021  0.872748  0.111979  0.587917  0.349948    0.759378   \n",
      "0   0.793740  0.643880  0.710999  0.356120  0.669271  0.512695    0.648915   \n",
      "0   0.896066  0.778177  0.832971  0.221823  0.361042  0.291432    0.722175   \n",
      "0   0.789226  0.589453  0.674866  0.410547  0.629687  0.520117    0.693203   \n",
      "\n",
      "                                                  MC  \\\n",
      "0  <img src=\"resultados/MC_4_0.0_0_vgg16_test.png...   \n",
      "0  <img src=\"resultados/MC_4_0.0_0_vgg16_valid.pn...   \n",
      "0  <img src=\"resultados/MC_4_0.0_0_resnet50_test....   \n",
      "0  <img src=\"resultados/MC_4_0.0_0_resnet50_valid...   \n",
      "0  <img src=\"resultados/MC_4_0.0_0_osnet_test.png...   \n",
      "0  <img src=\"resultados/MC_4_0.0_0_osnet_valid.pn...   \n",
      "0  <img src=\"resultados/MC_4_0.0_0_densenet121_te...   \n",
      "0  <img src=\"resultados/MC_4_0.0_0_densenet121_va...   \n",
      "0  <img src=\"resultados/MC_4_0.0_0_mean_test.png\"...   \n",
      "0  <img src=\"resultados/MC_4_0.0_0_mean_valid.png...   \n",
      "\n",
      "                                                  GR  \n",
      "0  <img src=\"resultados/grafico_4_0.0_0_vgg16_tes...  \n",
      "0  <img src=\"resultados/grafico_4_0.0_0_vgg16_val...  \n",
      "0  <img src=\"resultados/grafico_4_0.0_0_resnet50_...  \n",
      "0  <img src=\"resultados/grafico_4_0.0_0_resnet50_...  \n",
      "0  <img src=\"resultados/grafico_4_0.0_0_osnet_tes...  \n",
      "0  <img src=\"resultados/grafico_4_0.0_0_osnet_val...  \n",
      "0  <img src=\"resultados/grafico_4_0.0_0_densenet1...  \n",
      "0  <img src=\"resultados/grafico_4_0.0_0_densenet1...  \n",
      "0  <img src=\"resultados/grafico_4_0.0_0_mean_test...  \n",
      "0  <img src=\"resultados/grafico_4_0.0_0_mean_vali...  \n"
     ]
    }
   ],
   "source": [
    "# Exibir o DataFrame com as imagens\n",
    "display(HTML(html_content))\n",
    "print(df)"
   ]
  }
 ],
 "metadata": {
  "kernelspec": {
   "display_name": "Python 3",
   "language": "python",
   "name": "python3"
  },
  "language_info": {
   "codemirror_mode": {
    "name": "ipython",
    "version": 3
   },
   "file_extension": ".py",
   "mimetype": "text/x-python",
   "name": "python",
   "nbconvert_exporter": "python",
   "pygments_lexer": "ipython3",
   "version": "3.10.13"
  }
 },
 "nbformat": 4,
 "nbformat_minor": 2
}
