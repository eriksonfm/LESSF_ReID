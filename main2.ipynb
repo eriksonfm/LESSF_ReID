{
 "cells": [
  {
   "cell_type": "code",
   "execution_count": 1,
   "metadata": {
    "execution": {
     "iopub.execute_input": "2024-06-15T16:44:27.878338Z",
     "iopub.status.busy": "2024-06-15T16:44:27.877285Z",
     "iopub.status.idle": "2024-06-18T03:41:56.512862Z",
     "shell.execute_reply": "2024-06-18T03:41:56.511143Z"
    }
   },
   "outputs": [
    {
     "name": "stderr",
     "output_type": "stream",
     "text": [
      "/home/emorais/miniconda3/envs/myenv/lib/python3.10/site-packages/torchreid/reid/metrics/rank.py:11: UserWarning: Cython evaluation (very fast so highly recommended) is unavailable, now use python evaluation.\n",
      "  warnings.warn(\n",
      "/home/emorais/miniconda3/envs/myenv/lib/python3.10/site-packages/tqdm/auto.py:21: TqdmWarning: IProgress not found. Please update jupyter and ipywidgets. See https://ipywidgets.readthedocs.io/en/stable/user_install.html\n",
      "  from .autonotebook import tqdm as notebook_tqdm\n",
      "Special tokens have been added in the vocabulary, make sure the associated word embeddings are fine-tuned or trained.\n",
      "You are using the default legacy behaviour of the <class 'transformers.models.t5.tokenization_t5.T5Tokenizer'>. If you see this, DO NOT PANIC! This is expected, and simply means that the `legacy` (previous) behavior will be used so nothing changes for you. If you want to use the new behaviour, set `legacy=False`. This should only be set if you understand what it means, and thouroughly read the reason why this was added as explained in https://github.com/huggingface/transformers/pull/24565\n",
      "/home/emorais/repos/LESSF_ReID-working-fft/DCNNs.py:18: UserWarning: Cython evaluation (very fast so highly recommended) is unavailable, now use python evaluation.\n",
      "  warnings.warn(\n"
     ]
    },
    {
     "name": "stdout",
     "output_type": "stream",
     "text": [
      "**** inicio do teste com ruido em k:4 e lambda_hard:0.0 ****\n",
      "Num GPU's: 3\n",
      "Allocated GPU's for model: [1, 2]\n"
     ]
    },
    {
     "name": "stderr",
     "output_type": "stream",
     "text": [
      "/home/emorais/miniconda3/envs/myenv/lib/python3.10/site-packages/torchvision/models/_utils.py:208: UserWarning: The parameter 'pretrained' is deprecated since 0.13 and may be removed in the future, please use 'weights' instead.\n",
      "  warnings.warn(\n",
      "/home/emorais/miniconda3/envs/myenv/lib/python3.10/site-packages/torchvision/models/_utils.py:223: UserWarning: Arguments other than a weight enum or `None` for 'weights' are deprecated since 0.13 and may be removed in the future. The current behavior is equivalent to passing `weights=EfficientNet_V2_M_Weights.IMAGENET1K_V1`. You can also use `weights=EfficientNet_V2_M_Weights.DEFAULT` to get the most up-to-date weights.\n",
      "  warnings.warn(msg)\n",
      "/home/emorais/miniconda3/envs/myenv/lib/python3.10/site-packages/torchvision/models/_utils.py:223: UserWarning: Arguments other than a weight enum or `None` for 'weights' are deprecated since 0.13 and may be removed in the future. The current behavior is equivalent to passing `weights=ConvNeXt_Base_Weights.IMAGENET1K_V1`. You can also use `weights=ConvNeXt_Base_Weights.DEFAULT` to get the most up-to-date weights.\n",
      "  warnings.warn(msg)\n",
      "/home/emorais/miniconda3/envs/myenv/lib/python3.10/site-packages/torchvision/models/_utils.py:223: UserWarning: Arguments other than a weight enum or `None` for 'weights' are deprecated since 0.13 and may be removed in the future. The current behavior is equivalent to passing `weights=MobileNet_V3_Large_Weights.IMAGENET1K_V1`. You can also use `weights=MobileNet_V3_Large_Weights.DEFAULT` to get the most up-to-date weights.\n",
      "  warnings.warn(msg)\n",
      "/home/emorais/miniconda3/envs/myenv/lib/python3.10/site-packages/torchvision/models/_utils.py:223: UserWarning: Arguments other than a weight enum or `None` for 'weights' are deprecated since 0.13 and may be removed in the future. The current behavior is equivalent to passing `weights=VGG16_Weights.IMAGENET1K_V1`. You can also use `weights=VGG16_Weights.DEFAULT` to get the most up-to-date weights.\n",
      "  warnings.warn(msg)\n",
      "/home/emorais/miniconda3/envs/myenv/lib/python3.10/site-packages/torchvision/models/_utils.py:223: UserWarning: Arguments other than a weight enum or `None` for 'weights' are deprecated since 0.13 and may be removed in the future. The current behavior is equivalent to passing `weights=ResNet50_Weights.IMAGENET1K_V1`. You can also use `weights=ResNet50_Weights.DEFAULT` to get the most up-to-date weights.\n",
      "  warnings.warn(msg)\n"
     ]
    },
    {
     "name": "stdout",
     "output_type": "stream",
     "text": [
      "Successfully loaded imagenet pretrained weights from \"/home/emorais/.cache/torch/checkpoints/osnet_x1_0_imagenet.pth\"\n",
      "Successfully loaded imagenet pretrained weights from \"/home/emorais/.cache/torch/checkpoints/osnet_x1_0_imagenet.pth\"\n"
     ]
    },
    {
     "name": "stderr",
     "output_type": "stream",
     "text": [
      "/home/emorais/miniconda3/envs/myenv/lib/python3.10/site-packages/torchvision/models/_utils.py:223: UserWarning: Arguments other than a weight enum or `None` for 'weights' are deprecated since 0.13 and may be removed in the future. The current behavior is equivalent to passing `weights=DenseNet121_Weights.IMAGENET1K_V1`. You can also use `weights=DenseNet121_Weights.DEFAULT` to get the most up-to-date weights.\n",
      "  warnings.warn(msg)\n"
     ]
    },
    {
     "name": "stdout",
     "output_type": "stream",
     "text": [
      "Training Size: (38400, 3)\n",
      "Gallery Size: (24000, 3)\n",
      "Query Size: (9600, 3)\n",
      "Validating efficientnet on Jadson ...\n",
      "Features extracted in 57.65 seconds\n",
      "Features extracted in 117.73 seconds\n",
      "Computing CMC and mAP ...\n",
      "** Results **\n",
      "mAP: 66.43%\n",
      "CMC curve\n",
      "Rank-1  : 47.81%\n",
      "Rank-5  : 83.36%\n",
      "Rank-10 : 91.51%\n",
      "Rank-20 : 96.45%\n",
      "Validating convnext on Jadson ...\n",
      "Features extracted in 58.28 seconds\n",
      "Features extracted in 122.38 seconds\n",
      "Computing CMC and mAP ...\n",
      "** Results **\n",
      "mAP: 64.92%\n",
      "CMC curve\n",
      "Rank-1  : 45.94%\n",
      "Rank-5  : 75.48%\n",
      "Rank-10 : 87.55%\n",
      "Rank-20 : 95.05%\n",
      "Validating mobilenet on Jadson ...\n",
      "Features extracted in 56.35 seconds\n",
      "Features extracted in 113.30 seconds\n",
      "Computing CMC and mAP ...\n",
      "** Results **\n",
      "mAP: 66.43%\n",
      "CMC curve\n",
      "Rank-1  : 53.06%\n",
      "Rank-5  : 85.40%\n",
      "Rank-10 : 94.23%\n",
      "Rank-20 : 98.67%\n",
      "Validating vgg16 on Jadson ...\n",
      "Features extracted in 58.77 seconds\n",
      "Features extracted in 117.12 seconds\n",
      "Computing CMC and mAP ...\n",
      "** Results **\n",
      "mAP: 65.67%\n",
      "CMC curve\n",
      "Rank-1  : 46.25%\n",
      "Rank-5  : 82.50%\n",
      "Rank-10 : 90.94%\n",
      "Rank-20 : 96.79%\n",
      "Validating resnet50 on Jadson ...\n",
      "Features extracted in 58.08 seconds\n",
      "Features extracted in 117.17 seconds\n",
      "Computing CMC and mAP ...\n",
      "** Results **\n",
      "mAP: 64.92%\n",
      "CMC curve\n",
      "Rank-1  : 42.94%\n",
      "Rank-5  : 71.71%\n",
      "Rank-10 : 80.89%\n",
      "Rank-20 : 89.82%\n",
      "Validating osnet on Jadson ...\n",
      "Features extracted in 57.82 seconds\n",
      "Features extracted in 117.33 seconds\n",
      "Computing CMC and mAP ...\n",
      "** Results **\n",
      "mAP: 67.00%\n",
      "CMC curve\n",
      "Rank-1  : 49.95%\n",
      "Rank-5  : 86.26%\n",
      "Rank-10 : 95.14%\n",
      "Rank-20 : 98.67%\n",
      "Validating densenet121 on Jadson ...\n",
      "Features extracted in 60.53 seconds\n",
      "Features extracted in 116.28 seconds\n",
      "Computing CMC and mAP ...\n",
      "** Results **\n",
      "mAP: 65.63%\n",
      "CMC curve\n",
      "Rank-1  : 47.50%\n",
      "Rank-5  : 80.18%\n",
      "Rank-10 : 89.58%\n",
      "Rank-20 : 95.53%\n",
      "Computing CMC and mAP ...\n",
      "** Results **\n",
      "mAP: 65.37%\n",
      "Ranks:\n",
      "Rank-1  : 43.85%\n",
      "Rank-5  : 75.81%\n",
      "Rank-10 : 85.91%\n",
      "###============ Iteration number 1/30 ============###\n",
      "Extracting Online Features for efficientnet ...\n",
      "Features extracted in 202.21 seconds\n",
      "Computing jaccard distance...\n"
     ]
    },
    {
     "name": "stderr",
     "output_type": "stream",
     "text": [
      "/home/emorais/repos/LESSF_ReID-working-fft/faiss_utils.py:10: UserWarning: TypedStorage is deprecated. It will be removed in the future and UntypedStorage will be the only storage class. This should only matter to you if you are using storages directly.  To access UntypedStorage directly, use tensor.untyped_storage() instead of tensor.storage()\n",
      "  x.storage().data_ptr() + x.storage_offset() * 4)\n",
      "bruteForceKnn is deprecated; call bfKnn instead\n"
     ]
    },
    {
     "name": "stdout",
     "output_type": "stream",
     "text": [
      "Jaccard distance computing time cost: 78.30424928665161\n",
      "Extracting Online Features for convnext ...\n",
      "Features extracted in 195.22 seconds\n",
      "Computing jaccard distance...\n"
     ]
    },
    {
     "name": "stderr",
     "output_type": "stream",
     "text": [
      "bruteForceKnn is deprecated; call bfKnn instead\n"
     ]
    },
    {
     "name": "stdout",
     "output_type": "stream",
     "text": [
      "Jaccard distance computing time cost: 73.33686017990112\n",
      "Extracting Online Features for mobilenet ...\n",
      "Features extracted in 194.93 seconds\n",
      "Computing jaccard distance...\n"
     ]
    },
    {
     "name": "stderr",
     "output_type": "stream",
     "text": [
      "bruteForceKnn is deprecated; call bfKnn instead\n"
     ]
    },
    {
     "name": "stdout",
     "output_type": "stream",
     "text": [
      "Jaccard distance computing time cost: 69.38933992385864\n",
      "Extracting Online Features for vgg16 ...\n",
      "Features extracted in 199.44 seconds\n",
      "Computing jaccard distance...\n"
     ]
    },
    {
     "name": "stderr",
     "output_type": "stream",
     "text": [
      "bruteForceKnn is deprecated; call bfKnn instead\n"
     ]
    },
    {
     "name": "stdout",
     "output_type": "stream",
     "text": [
      "Jaccard distance computing time cost: 67.9914858341217\n",
      "Extracting Online Features for resnet50 ...\n",
      "Features extracted in 193.96 seconds\n",
      "Computing jaccard distance...\n"
     ]
    },
    {
     "name": "stderr",
     "output_type": "stream",
     "text": [
      "bruteForceKnn is deprecated; call bfKnn instead\n"
     ]
    },
    {
     "name": "stdout",
     "output_type": "stream",
     "text": [
      "Jaccard distance computing time cost: 69.20800542831421\n",
      "Extracting Online Features for osnet ...\n",
      "Features extracted in 192.86 seconds\n",
      "Computing jaccard distance...\n"
     ]
    },
    {
     "name": "stderr",
     "output_type": "stream",
     "text": [
      "bruteForceKnn is deprecated; call bfKnn instead\n"
     ]
    },
    {
     "name": "stdout",
     "output_type": "stream",
     "text": [
      "Jaccard distance computing time cost: 68.11630892753601\n",
      "Extracting Online Features for densenet121 ...\n",
      "Features extracted in 192.48 seconds\n",
      "Computing jaccard distance...\n"
     ]
    },
    {
     "name": "stderr",
     "output_type": "stream",
     "text": [
      "bruteForceKnn is deprecated; call bfKnn instead\n"
     ]
    },
    {
     "name": "stdout",
     "output_type": "stream",
     "text": [
      "Jaccard distance computing time cost: 67.32981276512146\n",
      "Reliability: 0.079\n",
      "\u001b[32mMean Purity: 0.01932\u001b[0m\n",
      "\u001b[34mThere are 30 clusters with 4 cameras\u001b[0m\n",
      "\u001b[34mThere are 21 clusters with 5 cameras\u001b[0m\n",
      "\u001b[34mThere are 14 clusters with 6 cameras\u001b[0m\n",
      "\u001b[34mThere are 10 clusters with 7 cameras\u001b[0m\n",
      "\u001b[34mThere are 8 clusters with 8 cameras\u001b[0m\n",
      "\u001b[34mThere are 5 clusters with 9 cameras\u001b[0m\n",
      "\u001b[34mThere are 11 clusters with 10 cameras\u001b[0m\n",
      "\u001b[34mThere are 4 clusters with 11 cameras\u001b[0m\n",
      "\u001b[34mThere are 5 clusters with 12 cameras\u001b[0m\n",
      "\u001b[34mThere are 2 clusters with 13 cameras\u001b[0m\n",
      "\u001b[34mThere are 1 clusters with 14 cameras\u001b[0m\n",
      "\u001b[34mThere are 5 clusters with 15 cameras\u001b[0m\n",
      "\u001b[34mThere are 3 clusters with 16 cameras\u001b[0m\n",
      "\u001b[34mThere are 8 clusters with 17 cameras\u001b[0m\n",
      "\u001b[34mThere are 1 clusters with 18 cameras\u001b[0m\n",
      "\u001b[34mThere are 1 clusters with 19 cameras\u001b[0m\n",
      "\u001b[34mThere are 3 clusters with 21 cameras\u001b[0m\n",
      "\u001b[34mThere are 3 clusters with 23 cameras\u001b[0m\n",
      "\u001b[34mThere are 1 clusters with 25 cameras\u001b[0m\n",
      "\u001b[34mThere are 1 clusters with 26 cameras\u001b[0m\n",
      "\u001b[34mThere are 1 clusters with 27 cameras\u001b[0m\n",
      "\u001b[34mThere are 1 clusters with 28 cameras\u001b[0m\n",
      "\u001b[34mThere are 1 clusters with 30 cameras\u001b[0m\n",
      "\u001b[34mThere are 3 clusters with 31 cameras\u001b[0m\n",
      "\u001b[34mThere are 1 clusters with 32 cameras\u001b[0m\n",
      "\u001b[34mThere are 1 clusters with 33 cameras\u001b[0m\n",
      "\u001b[34mThere are 3 clusters with 34 cameras\u001b[0m\n",
      "\u001b[34mThere are 1 clusters with 38 cameras\u001b[0m\n",
      "\u001b[34mThere are 1 clusters with 40 cameras\u001b[0m\n",
      "\u001b[34mThere are 1 clusters with 41 cameras\u001b[0m\n",
      "\u001b[34mThere are 1 clusters with 42 cameras\u001b[0m\n",
      "\u001b[34mThere are 1 clusters with 44 cameras\u001b[0m\n",
      "\u001b[34mThere are 2 clusters with 47 cameras\u001b[0m\n",
      "\u001b[34mThere are 1 clusters with 50 cameras\u001b[0m\n",
      "\u001b[34mThere are 1 clusters with 58 cameras\u001b[0m\n",
      "\u001b[34mThere are 1 clusters with 60 cameras\u001b[0m\n",
      "\u001b[34mThere are 2 clusters with 61 cameras\u001b[0m\n",
      "\u001b[34mThere are 1 clusters with 65 cameras\u001b[0m\n",
      "\u001b[34mThere are 1 clusters with 66 cameras\u001b[0m\n",
      "\u001b[34mThere are 1 clusters with 87 cameras\u001b[0m\n",
      "\u001b[34mThere are 1 clusters with 92 cameras\u001b[0m\n",
      "\u001b[34mThere are 1 clusters with 99 cameras\u001b[0m\n",
      "\u001b[34mThere are 1 clusters with 163 cameras\u001b[0m\n",
      "\u001b[34mThere are 1 clusters with 319 cameras\u001b[0m\n",
      "Number of classes: 167\n",
      "\u001b[36mLearning Rate: 0.000070\u001b[0m\n",
      "\u001b[32mTraining efficientnet ...\u001b[0m\n",
      "Features extracted in 26.39 seconds\n",
      "\u001b[36mBatches computed: 10, Tau value: 0.040\u001b[0m\n",
      "\u001b[33mMean Loss: 5.3556818, Mean Center Loss: 5.3556818, Mean Hard Triplet Loss: 2.4697620\u001b[0m\n",
      "\u001b[5m\u001b[34mPercetage of correct triplets: 0.41\u001b[0m\n",
      "Features extracted in 25.64 seconds\n",
      "\u001b[36mBatches computed: 20, Tau value: 0.040\u001b[0m\n",
      "\u001b[33mMean Loss: 5.0901182, Mean Center Loss: 5.0901182, Mean Hard Triplet Loss: 2.1196541\u001b[0m\n",
      "\u001b[5m\u001b[34mPercetage of correct triplets: 0.38\u001b[0m\n",
      "Features extracted in 26.04 seconds\n",
      "\u001b[36mBatches computed: 30, Tau value: 0.040\u001b[0m\n",
      "\u001b[33mMean Loss: 4.8284050, Mean Center Loss: 4.8284050, Mean Hard Triplet Loss: 2.1298500\u001b[0m\n",
      "\u001b[5m\u001b[34mPercetage of correct triplets: 0.49\u001b[0m\n",
      "Features extracted in 25.74 seconds\n",
      "\u001b[36mBatches computed: 40, Tau value: 0.040\u001b[0m\n",
      "\u001b[33mMean Loss: 4.4401722, Mean Center Loss: 4.4401722, Mean Hard Triplet Loss: 2.5410979\u001b[0m\n",
      "\u001b[5m\u001b[34mPercetage of correct triplets: 0.41\u001b[0m\n",
      "Features extracted in 25.93 seconds\n",
      "\u001b[36mBatches computed: 50, Tau value: 0.040\u001b[0m\n",
      "\u001b[33mMean Loss: 4.1334583, Mean Center Loss: 4.1334583, Mean Hard Triplet Loss: 2.7630515\u001b[0m\n",
      "\u001b[5m\u001b[34mPercetage of correct triplets: 0.43\u001b[0m\n",
      "Features extracted in 26.15 seconds\n",
      "\u001b[36mBatches computed: 60, Tau value: 0.040\u001b[0m\n",
      "\u001b[33mMean Loss: 3.7168479, Mean Center Loss: 3.7168479, Mean Hard Triplet Loss: 2.6795096\u001b[0m\n",
      "\u001b[5m\u001b[34mPercetage of correct triplets: 0.40\u001b[0m\n",
      "Features extracted in 25.59 seconds\n",
      "\u001b[36mBatches computed: 70, Tau value: 0.040\u001b[0m\n",
      "\u001b[33mMean Loss: 3.6519398, Mean Center Loss: 3.6519398, Mean Hard Triplet Loss: 2.4775881\u001b[0m\n",
      "\u001b[5m\u001b[34mPercetage of correct triplets: 0.39\u001b[0m\n",
      "não encontrou modelos efficientnet. Treinando...\n",
      "\u001b[32mTraining convnext ...\u001b[0m\n",
      "Features extracted in 28.48 seconds\n",
      "\u001b[36mBatches computed: 10, Tau value: 0.040\u001b[0m\n",
      "\u001b[33mMean Loss: 2.9193928, Mean Center Loss: 2.9193928, Mean Hard Triplet Loss: 1.8694723\u001b[0m\n",
      "\u001b[5m\u001b[34mPercetage of correct triplets: 0.37\u001b[0m\n",
      "Features extracted in 28.05 seconds\n",
      "\u001b[36mBatches computed: 20, Tau value: 0.040\u001b[0m\n",
      "\u001b[33mMean Loss: 1.4438173, Mean Center Loss: 1.4438173, Mean Hard Triplet Loss: 1.5929186\u001b[0m\n",
      "\u001b[5m\u001b[34mPercetage of correct triplets: 0.38\u001b[0m\n",
      "Features extracted in 28.23 seconds\n",
      "\u001b[36mBatches computed: 30, Tau value: 0.040\u001b[0m\n",
      "\u001b[33mMean Loss: 1.0938899, Mean Center Loss: 1.0938899, Mean Hard Triplet Loss: 0.9300318\u001b[0m\n",
      "\u001b[5m\u001b[34mPercetage of correct triplets: 0.40\u001b[0m\n",
      "Features extracted in 28.23 seconds\n",
      "\u001b[36mBatches computed: 40, Tau value: 0.040\u001b[0m\n",
      "\u001b[33mMean Loss: 0.8685839, Mean Center Loss: 0.8685839, Mean Hard Triplet Loss: 1.0020241\u001b[0m\n",
      "\u001b[5m\u001b[34mPercetage of correct triplets: 0.38\u001b[0m\n",
      "Features extracted in 28.18 seconds\n",
      "\u001b[36mBatches computed: 50, Tau value: 0.040\u001b[0m\n",
      "\u001b[33mMean Loss: 0.7583772, Mean Center Loss: 0.7583772, Mean Hard Triplet Loss: 0.8385982\u001b[0m\n",
      "\u001b[5m\u001b[34mPercetage of correct triplets: 0.32\u001b[0m\n",
      "Features extracted in 27.81 seconds\n",
      "\u001b[36mBatches computed: 60, Tau value: 0.040\u001b[0m\n",
      "\u001b[33mMean Loss: 0.5883813, Mean Center Loss: 0.5883813, Mean Hard Triplet Loss: 0.6448396\u001b[0m\n",
      "\u001b[5m\u001b[34mPercetage of correct triplets: 0.32\u001b[0m\n",
      "Features extracted in 27.36 seconds\n",
      "\u001b[36mBatches computed: 70, Tau value: 0.040\u001b[0m\n",
      "\u001b[33mMean Loss: 0.5704926, Mean Center Loss: 0.5704926, Mean Hard Triplet Loss: 0.5709383\u001b[0m\n",
      "\u001b[5m\u001b[34mPercetage of correct triplets: 0.40\u001b[0m\n",
      "não encontrou modelos convnext. Treinando...\n",
      "\u001b[32mTraining mobilenet ...\u001b[0m\n",
      "Features extracted in 22.90 seconds\n",
      "\u001b[36mBatches computed: 10, Tau value: 0.040\u001b[0m\n",
      "\u001b[33mMean Loss: 5.0226206, Mean Center Loss: 5.0226206, Mean Hard Triplet Loss: 1.6616384\u001b[0m\n",
      "\u001b[5m\u001b[34mPercetage of correct triplets: 0.44\u001b[0m\n",
      "Features extracted in 22.94 seconds\n",
      "\u001b[36mBatches computed: 20, Tau value: 0.040\u001b[0m\n",
      "\u001b[33mMean Loss: 4.5388851, Mean Center Loss: 4.5388851, Mean Hard Triplet Loss: 1.4603291\u001b[0m\n",
      "\u001b[5m\u001b[34mPercetage of correct triplets: 0.42\u001b[0m\n",
      "Features extracted in 22.99 seconds\n",
      "\u001b[36mBatches computed: 30, Tau value: 0.040\u001b[0m\n",
      "\u001b[33mMean Loss: 4.1771165, Mean Center Loss: 4.1771165, Mean Hard Triplet Loss: 1.6297009\u001b[0m\n",
      "\u001b[5m\u001b[34mPercetage of correct triplets: 0.42\u001b[0m\n",
      "Features extracted in 22.80 seconds\n",
      "\u001b[36mBatches computed: 40, Tau value: 0.040\u001b[0m\n",
      "\u001b[33mMean Loss: 3.7715518, Mean Center Loss: 3.7715518, Mean Hard Triplet Loss: 1.8814585\u001b[0m\n",
      "\u001b[5m\u001b[34mPercetage of correct triplets: 0.41\u001b[0m\n",
      "Features extracted in 22.89 seconds\n",
      "\u001b[36mBatches computed: 50, Tau value: 0.040\u001b[0m\n",
      "\u001b[33mMean Loss: 3.2283756, Mean Center Loss: 3.2283756, Mean Hard Triplet Loss: 2.1452948\u001b[0m\n",
      "\u001b[5m\u001b[34mPercetage of correct triplets: 0.45\u001b[0m\n",
      "Features extracted in 22.66 seconds\n",
      "\u001b[36mBatches computed: 60, Tau value: 0.040\u001b[0m\n",
      "\u001b[33mMean Loss: 2.9126124, Mean Center Loss: 2.9126124, Mean Hard Triplet Loss: 2.0109992\u001b[0m\n",
      "\u001b[5m\u001b[34mPercetage of correct triplets: 0.42\u001b[0m\n",
      "Features extracted in 23.05 seconds\n",
      "\u001b[36mBatches computed: 70, Tau value: 0.040\u001b[0m\n",
      "\u001b[33mMean Loss: 2.6710919, Mean Center Loss: 2.6710919, Mean Hard Triplet Loss: 1.9189671\u001b[0m\n",
      "\u001b[5m\u001b[34mPercetage of correct triplets: 0.37\u001b[0m\n",
      "não encontrou modelos mobilenet. Treinando...\n",
      "\u001b[32mTraining vgg16 ...\u001b[0m\n",
      "Features extracted in 26.07 seconds\n",
      "\u001b[36mBatches computed: 10, Tau value: 0.040\u001b[0m\n",
      "\u001b[33mMean Loss: 3.0550030, Mean Center Loss: 3.0550030, Mean Hard Triplet Loss: 4.2013363\u001b[0m\n",
      "\u001b[5m\u001b[34mPercetage of correct triplets: 0.39\u001b[0m\n",
      "Features extracted in 26.05 seconds\n",
      "\u001b[36mBatches computed: 20, Tau value: 0.040\u001b[0m\n",
      "\u001b[33mMean Loss: 2.3782955, Mean Center Loss: 2.3782955, Mean Hard Triplet Loss: 3.0931304\u001b[0m\n",
      "\u001b[5m\u001b[34mPercetage of correct triplets: 0.36\u001b[0m\n",
      "Features extracted in 25.47 seconds\n",
      "\u001b[36mBatches computed: 30, Tau value: 0.040\u001b[0m\n",
      "\u001b[33mMean Loss: 1.8331072, Mean Center Loss: 1.8331072, Mean Hard Triplet Loss: 2.3792825\u001b[0m\n",
      "\u001b[5m\u001b[34mPercetage of correct triplets: 0.34\u001b[0m\n",
      "Features extracted in 25.87 seconds\n",
      "\u001b[36mBatches computed: 40, Tau value: 0.040\u001b[0m\n",
      "\u001b[33mMean Loss: 1.5869799, Mean Center Loss: 1.5869799, Mean Hard Triplet Loss: 1.8074194\u001b[0m\n",
      "\u001b[5m\u001b[34mPercetage of correct triplets: 0.37\u001b[0m\n",
      "Features extracted in 25.92 seconds\n",
      "\u001b[36mBatches computed: 50, Tau value: 0.040\u001b[0m\n",
      "\u001b[33mMean Loss: 1.4659292, Mean Center Loss: 1.4659292, Mean Hard Triplet Loss: 1.7536531\u001b[0m\n",
      "\u001b[5m\u001b[34mPercetage of correct triplets: 0.39\u001b[0m\n",
      "Features extracted in 25.82 seconds\n",
      "\u001b[36mBatches computed: 60, Tau value: 0.040\u001b[0m\n",
      "\u001b[33mMean Loss: 1.4835544, Mean Center Loss: 1.4835544, Mean Hard Triplet Loss: 1.6035513\u001b[0m\n",
      "\u001b[5m\u001b[34mPercetage of correct triplets: 0.33\u001b[0m\n",
      "Features extracted in 26.10 seconds\n",
      "\u001b[36mBatches computed: 70, Tau value: 0.040\u001b[0m\n",
      "\u001b[33mMean Loss: 1.4916625, Mean Center Loss: 1.4916625, Mean Hard Triplet Loss: 1.5830180\u001b[0m\n",
      "\u001b[5m\u001b[34mPercetage of correct triplets: 0.35\u001b[0m\n",
      "não encontrou modelos vgg16. Treinando...\n",
      "\u001b[32mTraining resnet50 ...\u001b[0m\n",
      "Features extracted in 23.56 seconds\n",
      "\u001b[36mBatches computed: 10, Tau value: 0.040\u001b[0m\n",
      "\u001b[33mMean Loss: 4.2149375, Mean Center Loss: 4.2149375, Mean Hard Triplet Loss: 4.2599092\u001b[0m\n",
      "\u001b[5m\u001b[34mPercetage of correct triplets: 0.41\u001b[0m\n",
      "Features extracted in 24.03 seconds\n",
      "\u001b[36mBatches computed: 20, Tau value: 0.040\u001b[0m\n",
      "\u001b[33mMean Loss: 3.4067548, Mean Center Loss: 3.4067548, Mean Hard Triplet Loss: 3.3332786\u001b[0m\n",
      "\u001b[5m\u001b[34mPercetage of correct triplets: 0.36\u001b[0m\n",
      "Features extracted in 24.13 seconds\n",
      "\u001b[36mBatches computed: 30, Tau value: 0.040\u001b[0m\n",
      "\u001b[33mMean Loss: 2.6760309, Mean Center Loss: 2.6760309, Mean Hard Triplet Loss: 2.6711645\u001b[0m\n",
      "\u001b[5m\u001b[34mPercetage of correct triplets: 0.38\u001b[0m\n",
      "Features extracted in 24.30 seconds\n",
      "\u001b[36mBatches computed: 40, Tau value: 0.040\u001b[0m\n",
      "\u001b[33mMean Loss: 2.1483874, Mean Center Loss: 2.1483874, Mean Hard Triplet Loss: 2.2683185\u001b[0m\n",
      "\u001b[5m\u001b[34mPercetage of correct triplets: 0.42\u001b[0m\n",
      "Features extracted in 24.10 seconds\n",
      "\u001b[36mBatches computed: 50, Tau value: 0.040\u001b[0m\n",
      "\u001b[33mMean Loss: 1.7881031, Mean Center Loss: 1.7881031, Mean Hard Triplet Loss: 1.9008819\u001b[0m\n",
      "\u001b[5m\u001b[34mPercetage of correct triplets: 0.38\u001b[0m\n",
      "Features extracted in 24.03 seconds\n",
      "\u001b[36mBatches computed: 60, Tau value: 0.040\u001b[0m\n",
      "\u001b[33mMean Loss: 1.4382835, Mean Center Loss: 1.4382835, Mean Hard Triplet Loss: 1.4160244\u001b[0m\n",
      "\u001b[5m\u001b[34mPercetage of correct triplets: 0.39\u001b[0m\n",
      "Features extracted in 24.17 seconds\n",
      "\u001b[36mBatches computed: 70, Tau value: 0.040\u001b[0m\n",
      "\u001b[33mMean Loss: 1.3126678, Mean Center Loss: 1.3126678, Mean Hard Triplet Loss: 1.4246868\u001b[0m\n",
      "\u001b[5m\u001b[34mPercetage of correct triplets: 0.34\u001b[0m\n",
      "não encontrou modelos resnet50. Treinando...\n",
      "\u001b[32mTraining osnet ...\u001b[0m\n",
      "Features extracted in 23.84 seconds\n",
      "\u001b[36mBatches computed: 10, Tau value: 0.040\u001b[0m\n",
      "\u001b[33mMean Loss: 4.7872757, Mean Center Loss: 4.7872757, Mean Hard Triplet Loss: 6.3006548\u001b[0m\n",
      "\u001b[5m\u001b[34mPercetage of correct triplets: 0.43\u001b[0m\n",
      "Features extracted in 23.86 seconds\n",
      "\u001b[36mBatches computed: 20, Tau value: 0.040\u001b[0m\n",
      "\u001b[33mMean Loss: 4.7423906, Mean Center Loss: 4.7423906, Mean Hard Triplet Loss: 5.2602119\u001b[0m\n",
      "\u001b[5m\u001b[34mPercetage of correct triplets: 0.42\u001b[0m\n",
      "Features extracted in 24.00 seconds\n",
      "\u001b[36mBatches computed: 30, Tau value: 0.040\u001b[0m\n",
      "\u001b[33mMean Loss: 4.1666529, Mean Center Loss: 4.1666529, Mean Hard Triplet Loss: 4.6106875\u001b[0m\n",
      "\u001b[5m\u001b[34mPercetage of correct triplets: 0.44\u001b[0m\n",
      "Features extracted in 24.15 seconds\n",
      "\u001b[36mBatches computed: 40, Tau value: 0.040\u001b[0m\n",
      "\u001b[33mMean Loss: 3.7324281, Mean Center Loss: 3.7324281, Mean Hard Triplet Loss: 4.0090783\u001b[0m\n",
      "\u001b[5m\u001b[34mPercetage of correct triplets: 0.43\u001b[0m\n",
      "Features extracted in 24.13 seconds\n",
      "\u001b[36mBatches computed: 50, Tau value: 0.040\u001b[0m\n",
      "\u001b[33mMean Loss: 3.6531804, Mean Center Loss: 3.6531804, Mean Hard Triplet Loss: 3.9448322\u001b[0m\n",
      "\u001b[5m\u001b[34mPercetage of correct triplets: 0.42\u001b[0m\n",
      "Features extracted in 24.12 seconds\n",
      "\u001b[36mBatches computed: 60, Tau value: 0.040\u001b[0m\n",
      "\u001b[33mMean Loss: 3.3413484, Mean Center Loss: 3.3413484, Mean Hard Triplet Loss: 3.5848186\u001b[0m\n",
      "\u001b[5m\u001b[34mPercetage of correct triplets: 0.40\u001b[0m\n",
      "Features extracted in 23.93 seconds\n",
      "\u001b[36mBatches computed: 70, Tau value: 0.040\u001b[0m\n",
      "\u001b[33mMean Loss: 3.3645295, Mean Center Loss: 3.3645295, Mean Hard Triplet Loss: 3.8694049\u001b[0m\n",
      "\u001b[5m\u001b[34mPercetage of correct triplets: 0.44\u001b[0m\n",
      "não encontrou modelos osnet. Treinando...\n",
      "\u001b[32mTraining densenet121 ...\u001b[0m\n",
      "Features extracted in 24.43 seconds\n",
      "\u001b[36mBatches computed: 10, Tau value: 0.040\u001b[0m\n",
      "\u001b[33mMean Loss: 4.3390356, Mean Center Loss: 4.3390356, Mean Hard Triplet Loss: 4.2846479\u001b[0m\n",
      "\u001b[5m\u001b[34mPercetage of correct triplets: 0.40\u001b[0m\n",
      "Features extracted in 24.34 seconds\n",
      "\u001b[36mBatches computed: 20, Tau value: 0.040\u001b[0m\n",
      "\u001b[33mMean Loss: 3.2862206, Mean Center Loss: 3.2862206, Mean Hard Triplet Loss: 3.4405798\u001b[0m\n",
      "\u001b[5m\u001b[34mPercetage of correct triplets: 0.38\u001b[0m\n",
      "Features extracted in 24.41 seconds\n",
      "\u001b[36mBatches computed: 30, Tau value: 0.040\u001b[0m\n",
      "\u001b[33mMean Loss: 2.8524052, Mean Center Loss: 2.8524052, Mean Hard Triplet Loss: 3.1486331\u001b[0m\n",
      "\u001b[5m\u001b[34mPercetage of correct triplets: 0.37\u001b[0m\n",
      "Features extracted in 24.28 seconds\n",
      "\u001b[36mBatches computed: 40, Tau value: 0.040\u001b[0m\n",
      "\u001b[33mMean Loss: 2.3792469, Mean Center Loss: 2.3792469, Mean Hard Triplet Loss: 2.6839123\u001b[0m\n",
      "\u001b[5m\u001b[34mPercetage of correct triplets: 0.40\u001b[0m\n",
      "Features extracted in 24.72 seconds\n",
      "\u001b[36mBatches computed: 50, Tau value: 0.040\u001b[0m\n",
      "\u001b[33mMean Loss: 2.0115356, Mean Center Loss: 2.0115356, Mean Hard Triplet Loss: 2.0385358\u001b[0m\n",
      "\u001b[5m\u001b[34mPercetage of correct triplets: 0.36\u001b[0m\n",
      "Features extracted in 24.04 seconds\n",
      "\u001b[36mBatches computed: 60, Tau value: 0.040\u001b[0m\n",
      "\u001b[33mMean Loss: 1.8444899, Mean Center Loss: 1.8444899, Mean Hard Triplet Loss: 1.9810991\u001b[0m\n",
      "\u001b[5m\u001b[34mPercetage of correct triplets: 0.38\u001b[0m\n",
      "Features extracted in 24.05 seconds\n",
      "\u001b[36mBatches computed: 70, Tau value: 0.040\u001b[0m\n",
      "\u001b[33mMean Loss: 1.6907191, Mean Center Loss: 1.6907191, Mean Hard Triplet Loss: 1.8867156\u001b[0m\n",
      "\u001b[5m\u001b[34mPercetage of correct triplets: 0.40\u001b[0m\n",
      "não encontrou modelos densenet121. Treinando...\n",
      "###============ Iteration number 2/30 ============###\n",
      "Extracting Online Features for efficientnet ...\n",
      "Features extracted in 210.63 seconds\n",
      "Computing jaccard distance...\n"
     ]
    },
    {
     "name": "stderr",
     "output_type": "stream",
     "text": [
      "bruteForceKnn is deprecated; call bfKnn instead\n"
     ]
    },
    {
     "name": "stdout",
     "output_type": "stream",
     "text": [
      "Jaccard distance computing time cost: 67.51381325721741\n",
      "Extracting Online Features for convnext ...\n",
      "Features extracted in 199.14 seconds\n",
      "Computing jaccard distance...\n"
     ]
    },
    {
     "name": "stderr",
     "output_type": "stream",
     "text": [
      "bruteForceKnn is deprecated; call bfKnn instead\n"
     ]
    },
    {
     "name": "stdout",
     "output_type": "stream",
     "text": [
      "Jaccard distance computing time cost: 66.0036551952362\n",
      "Extracting Online Features for mobilenet ...\n",
      "Features extracted in 197.78 seconds\n",
      "Computing jaccard distance...\n"
     ]
    },
    {
     "name": "stderr",
     "output_type": "stream",
     "text": [
      "bruteForceKnn is deprecated; call bfKnn instead\n"
     ]
    },
    {
     "name": "stdout",
     "output_type": "stream",
     "text": [
      "Jaccard distance computing time cost: 64.88390445709229\n",
      "Extracting Online Features for vgg16 ...\n",
      "Features extracted in 193.72 seconds\n",
      "Computing jaccard distance...\n"
     ]
    },
    {
     "name": "stderr",
     "output_type": "stream",
     "text": [
      "bruteForceKnn is deprecated; call bfKnn instead\n"
     ]
    },
    {
     "name": "stdout",
     "output_type": "stream",
     "text": [
      "Jaccard distance computing time cost: 65.76303243637085\n",
      "Extracting Online Features for resnet50 ...\n",
      "Features extracted in 197.17 seconds\n",
      "Computing jaccard distance...\n"
     ]
    },
    {
     "name": "stderr",
     "output_type": "stream",
     "text": [
      "bruteForceKnn is deprecated; call bfKnn instead\n"
     ]
    },
    {
     "name": "stdout",
     "output_type": "stream",
     "text": [
      "Jaccard distance computing time cost: 66.04489517211914\n",
      "Extracting Online Features for osnet ...\n",
      "Features extracted in 196.27 seconds\n",
      "Computing jaccard distance...\n"
     ]
    },
    {
     "name": "stderr",
     "output_type": "stream",
     "text": [
      "bruteForceKnn is deprecated; call bfKnn instead\n"
     ]
    },
    {
     "name": "stdout",
     "output_type": "stream",
     "text": [
      "Jaccard distance computing time cost: 63.71540188789368\n",
      "Extracting Online Features for densenet121 ...\n",
      "Features extracted in 195.15 seconds\n",
      "Computing jaccard distance...\n"
     ]
    },
    {
     "name": "stderr",
     "output_type": "stream",
     "text": [
      "bruteForceKnn is deprecated; call bfKnn instead\n"
     ]
    },
    {
     "name": "stdout",
     "output_type": "stream",
     "text": [
      "Jaccard distance computing time cost: 66.23666572570801\n",
      "Reliability: 0.090\n",
      "\u001b[32mMean Purity: 0.03055\u001b[0m\n",
      "\u001b[34mThere are 26 clusters with 4 cameras\u001b[0m\n",
      "\u001b[34mThere are 22 clusters with 5 cameras\u001b[0m\n",
      "\u001b[34mThere are 19 clusters with 6 cameras\u001b[0m\n",
      "\u001b[34mThere are 14 clusters with 7 cameras\u001b[0m\n",
      "\u001b[34mThere are 8 clusters with 8 cameras\u001b[0m\n",
      "\u001b[34mThere are 7 clusters with 9 cameras\u001b[0m\n",
      "\u001b[34mThere are 5 clusters with 10 cameras\u001b[0m\n",
      "\u001b[34mThere are 4 clusters with 11 cameras\u001b[0m\n",
      "\u001b[34mThere are 6 clusters with 12 cameras\u001b[0m\n",
      "\u001b[34mThere are 6 clusters with 13 cameras\u001b[0m\n",
      "\u001b[34mThere are 1 clusters with 14 cameras\u001b[0m\n",
      "\u001b[34mThere are 2 clusters with 15 cameras\u001b[0m\n",
      "\u001b[34mThere are 2 clusters with 16 cameras\u001b[0m\n",
      "\u001b[34mThere are 1 clusters with 17 cameras\u001b[0m\n",
      "\u001b[34mThere are 5 clusters with 18 cameras\u001b[0m\n",
      "\u001b[34mThere are 3 clusters with 19 cameras\u001b[0m\n",
      "\u001b[34mThere are 4 clusters with 20 cameras\u001b[0m\n",
      "\u001b[34mThere are 2 clusters with 21 cameras\u001b[0m\n",
      "\u001b[34mThere are 2 clusters with 22 cameras\u001b[0m\n",
      "\u001b[34mThere are 2 clusters with 23 cameras\u001b[0m\n",
      "\u001b[34mThere are 1 clusters with 24 cameras\u001b[0m\n",
      "\u001b[34mThere are 1 clusters with 26 cameras\u001b[0m\n",
      "\u001b[34mThere are 2 clusters with 27 cameras\u001b[0m\n",
      "\u001b[34mThere are 2 clusters with 30 cameras\u001b[0m\n",
      "\u001b[34mThere are 2 clusters with 32 cameras\u001b[0m\n",
      "\u001b[34mThere are 1 clusters with 33 cameras\u001b[0m\n",
      "\u001b[34mThere are 3 clusters with 35 cameras\u001b[0m\n",
      "\u001b[34mThere are 1 clusters with 37 cameras\u001b[0m\n",
      "\u001b[34mThere are 1 clusters with 38 cameras\u001b[0m\n",
      "\u001b[34mThere are 1 clusters with 40 cameras\u001b[0m\n",
      "\u001b[34mThere are 2 clusters with 43 cameras\u001b[0m\n",
      "\u001b[34mThere are 3 clusters with 44 cameras\u001b[0m\n",
      "\u001b[34mThere are 1 clusters with 45 cameras\u001b[0m\n",
      "\u001b[34mThere are 1 clusters with 46 cameras\u001b[0m\n",
      "\u001b[34mThere are 1 clusters with 51 cameras\u001b[0m\n",
      "\u001b[34mThere are 2 clusters with 52 cameras\u001b[0m\n",
      "\u001b[34mThere are 1 clusters with 56 cameras\u001b[0m\n",
      "\u001b[34mThere are 1 clusters with 58 cameras\u001b[0m\n",
      "\u001b[34mThere are 2 clusters with 59 cameras\u001b[0m\n",
      "\u001b[34mThere are 1 clusters with 61 cameras\u001b[0m\n",
      "\u001b[34mThere are 1 clusters with 62 cameras\u001b[0m\n",
      "\u001b[34mThere are 1 clusters with 85 cameras\u001b[0m\n",
      "\u001b[34mThere are 1 clusters with 92 cameras\u001b[0m\n",
      "\u001b[34mThere are 1 clusters with 110 cameras\u001b[0m\n",
      "\u001b[34mThere are 1 clusters with 116 cameras\u001b[0m\n",
      "\u001b[34mThere are 1 clusters with 176 cameras\u001b[0m\n",
      "\u001b[34mThere are 1 clusters with 310 cameras\u001b[0m\n",
      "Number of classes: 178\n",
      "\u001b[36mLearning Rate: 0.000140\u001b[0m\n",
      "encontrou modelos efficientnet. Carregando...\n",
      "encontrou modelos convnext. Carregando...\n",
      "encontrou modelos mobilenet. Carregando...\n",
      "encontrou modelos vgg16. Carregando...\n",
      "encontrou modelos resnet50. Carregando...\n",
      "encontrou modelos osnet. Carregando...\n",
      "encontrou modelos densenet121. Carregando...\n",
      "###============ Iteration number 3/30 ============###\n",
      "Extracting Online Features for efficientnet ...\n",
      "Features extracted in 230.26 seconds\n",
      "Computing jaccard distance...\n"
     ]
    },
    {
     "name": "stderr",
     "output_type": "stream",
     "text": [
      "bruteForceKnn is deprecated; call bfKnn instead\n"
     ]
    },
    {
     "name": "stdout",
     "output_type": "stream",
     "text": [
      "Jaccard distance computing time cost: 73.83072924613953\n",
      "Extracting Online Features for convnext ...\n",
      "Features extracted in 209.00 seconds\n",
      "Computing jaccard distance...\n"
     ]
    },
    {
     "name": "stderr",
     "output_type": "stream",
     "text": [
      "bruteForceKnn is deprecated; call bfKnn instead\n"
     ]
    },
    {
     "name": "stdout",
     "output_type": "stream",
     "text": [
      "Jaccard distance computing time cost: 67.05469274520874\n",
      "Extracting Online Features for mobilenet ...\n",
      "Features extracted in 194.15 seconds\n",
      "Computing jaccard distance...\n"
     ]
    },
    {
     "name": "stderr",
     "output_type": "stream",
     "text": [
      "bruteForceKnn is deprecated; call bfKnn instead\n"
     ]
    },
    {
     "name": "stdout",
     "output_type": "stream",
     "text": [
      "Jaccard distance computing time cost: 63.777080059051514\n",
      "Extracting Online Features for vgg16 ...\n",
      "Features extracted in 195.78 seconds\n",
      "Computing jaccard distance...\n"
     ]
    },
    {
     "name": "stderr",
     "output_type": "stream",
     "text": [
      "bruteForceKnn is deprecated; call bfKnn instead\n"
     ]
    },
    {
     "name": "stdout",
     "output_type": "stream",
     "text": [
      "Jaccard distance computing time cost: 65.30857157707214\n",
      "Extracting Online Features for resnet50 ...\n",
      "Features extracted in 309.57 seconds\n",
      "Computing jaccard distance...\n"
     ]
    },
    {
     "name": "stderr",
     "output_type": "stream",
     "text": [
      "bruteForceKnn is deprecated; call bfKnn instead\n"
     ]
    },
    {
     "name": "stdout",
     "output_type": "stream",
     "text": [
      "Jaccard distance computing time cost: 576.4136667251587\n",
      "Extracting Online Features for osnet ...\n",
      "Features extracted in 406.37 seconds\n",
      "Computing jaccard distance...\n"
     ]
    },
    {
     "name": "stderr",
     "output_type": "stream",
     "text": [
      "bruteForceKnn is deprecated; call bfKnn instead\n"
     ]
    },
    {
     "name": "stdout",
     "output_type": "stream",
     "text": [
      "Jaccard distance computing time cost: 322.77532982826233\n",
      "Extracting Online Features for densenet121 ...\n",
      "Features extracted in 402.07 seconds\n",
      "Computing jaccard distance...\n"
     ]
    },
    {
     "name": "stderr",
     "output_type": "stream",
     "text": [
      "bruteForceKnn is deprecated; call bfKnn instead\n"
     ]
    },
    {
     "name": "stdout",
     "output_type": "stream",
     "text": [
      "Jaccard distance computing time cost: 568.2192604541779\n",
      "Reliability: 0.090\n",
      "\u001b[32mMean Purity: 0.03055\u001b[0m\n",
      "\u001b[34mThere are 26 clusters with 4 cameras\u001b[0m\n",
      "\u001b[34mThere are 22 clusters with 5 cameras\u001b[0m\n",
      "\u001b[34mThere are 19 clusters with 6 cameras\u001b[0m\n",
      "\u001b[34mThere are 14 clusters with 7 cameras\u001b[0m\n",
      "\u001b[34mThere are 8 clusters with 8 cameras\u001b[0m\n",
      "\u001b[34mThere are 7 clusters with 9 cameras\u001b[0m\n",
      "\u001b[34mThere are 5 clusters with 10 cameras\u001b[0m\n",
      "\u001b[34mThere are 4 clusters with 11 cameras\u001b[0m\n",
      "\u001b[34mThere are 6 clusters with 12 cameras\u001b[0m\n",
      "\u001b[34mThere are 6 clusters with 13 cameras\u001b[0m\n",
      "\u001b[34mThere are 1 clusters with 14 cameras\u001b[0m\n",
      "\u001b[34mThere are 2 clusters with 15 cameras\u001b[0m\n",
      "\u001b[34mThere are 2 clusters with 16 cameras\u001b[0m\n",
      "\u001b[34mThere are 1 clusters with 17 cameras\u001b[0m\n",
      "\u001b[34mThere are 5 clusters with 18 cameras\u001b[0m\n",
      "\u001b[34mThere are 3 clusters with 19 cameras\u001b[0m\n",
      "\u001b[34mThere are 4 clusters with 20 cameras\u001b[0m\n",
      "\u001b[34mThere are 2 clusters with 21 cameras\u001b[0m\n",
      "\u001b[34mThere are 2 clusters with 22 cameras\u001b[0m\n",
      "\u001b[34mThere are 2 clusters with 23 cameras\u001b[0m\n",
      "\u001b[34mThere are 1 clusters with 24 cameras\u001b[0m\n",
      "\u001b[34mThere are 1 clusters with 26 cameras\u001b[0m\n",
      "\u001b[34mThere are 2 clusters with 27 cameras\u001b[0m\n",
      "\u001b[34mThere are 2 clusters with 30 cameras\u001b[0m\n",
      "\u001b[34mThere are 2 clusters with 32 cameras\u001b[0m\n",
      "\u001b[34mThere are 1 clusters with 33 cameras\u001b[0m\n",
      "\u001b[34mThere are 3 clusters with 35 cameras\u001b[0m\n",
      "\u001b[34mThere are 1 clusters with 37 cameras\u001b[0m\n",
      "\u001b[34mThere are 1 clusters with 38 cameras\u001b[0m\n",
      "\u001b[34mThere are 1 clusters with 40 cameras\u001b[0m\n",
      "\u001b[34mThere are 2 clusters with 43 cameras\u001b[0m\n",
      "\u001b[34mThere are 3 clusters with 44 cameras\u001b[0m\n",
      "\u001b[34mThere are 1 clusters with 45 cameras\u001b[0m\n",
      "\u001b[34mThere are 1 clusters with 46 cameras\u001b[0m\n",
      "\u001b[34mThere are 1 clusters with 51 cameras\u001b[0m\n",
      "\u001b[34mThere are 2 clusters with 52 cameras\u001b[0m\n",
      "\u001b[34mThere are 1 clusters with 56 cameras\u001b[0m\n",
      "\u001b[34mThere are 1 clusters with 58 cameras\u001b[0m\n",
      "\u001b[34mThere are 2 clusters with 59 cameras\u001b[0m\n",
      "\u001b[34mThere are 1 clusters with 61 cameras\u001b[0m\n",
      "\u001b[34mThere are 1 clusters with 62 cameras\u001b[0m\n",
      "\u001b[34mThere are 1 clusters with 85 cameras\u001b[0m\n",
      "\u001b[34mThere are 1 clusters with 92 cameras\u001b[0m\n",
      "\u001b[34mThere are 1 clusters with 110 cameras\u001b[0m\n",
      "\u001b[34mThere are 1 clusters with 116 cameras\u001b[0m\n",
      "\u001b[34mThere are 1 clusters with 176 cameras\u001b[0m\n",
      "\u001b[34mThere are 1 clusters with 310 cameras\u001b[0m\n",
      "Number of classes: 178\n",
      "\u001b[36mLearning Rate: 0.000210\u001b[0m\n",
      "encontrou modelos efficientnet. Carregando...\n",
      "encontrou modelos convnext. Carregando...\n",
      "encontrou modelos mobilenet. Carregando...\n",
      "encontrou modelos vgg16. Carregando...\n",
      "encontrou modelos resnet50. Carregando...\n",
      "encontrou modelos osnet. Carregando...\n",
      "encontrou modelos densenet121. Carregando...\n",
      "###============ Iteration number 4/30 ============###\n",
      "Extracting Online Features for efficientnet ...\n",
      "Features extracted in 399.88 seconds\n",
      "Computing jaccard distance...\n"
     ]
    },
    {
     "name": "stderr",
     "output_type": "stream",
     "text": [
      "bruteForceKnn is deprecated; call bfKnn instead\n"
     ]
    },
    {
     "name": "stdout",
     "output_type": "stream",
     "text": [
      "Jaccard distance computing time cost: 216.30499005317688\n",
      "Extracting Online Features for convnext ...\n",
      "Features extracted in 249.51 seconds\n",
      "Computing jaccard distance...\n"
     ]
    },
    {
     "name": "stderr",
     "output_type": "stream",
     "text": [
      "bruteForceKnn is deprecated; call bfKnn instead\n"
     ]
    },
    {
     "name": "stdout",
     "output_type": "stream",
     "text": [
      "Jaccard distance computing time cost: 90.69849300384521\n",
      "Extracting Online Features for mobilenet ...\n",
      "Features extracted in 242.83 seconds\n",
      "Computing jaccard distance...\n"
     ]
    },
    {
     "name": "stderr",
     "output_type": "stream",
     "text": [
      "bruteForceKnn is deprecated; call bfKnn instead\n"
     ]
    },
    {
     "name": "stdout",
     "output_type": "stream",
     "text": [
      "Jaccard distance computing time cost: 76.40807175636292\n",
      "Extracting Online Features for vgg16 ...\n",
      "Features extracted in 246.61 seconds\n",
      "Computing jaccard distance...\n"
     ]
    },
    {
     "name": "stderr",
     "output_type": "stream",
     "text": [
      "bruteForceKnn is deprecated; call bfKnn instead\n"
     ]
    },
    {
     "name": "stdout",
     "output_type": "stream",
     "text": [
      "Jaccard distance computing time cost: 83.22178030014038\n",
      "Extracting Online Features for resnet50 ...\n",
      "Features extracted in 245.43 seconds\n",
      "Computing jaccard distance...\n"
     ]
    },
    {
     "name": "stderr",
     "output_type": "stream",
     "text": [
      "bruteForceKnn is deprecated; call bfKnn instead\n"
     ]
    },
    {
     "name": "stdout",
     "output_type": "stream",
     "text": [
      "Jaccard distance computing time cost: 77.54552125930786\n",
      "Extracting Online Features for osnet ...\n",
      "Features extracted in 247.36 seconds\n",
      "Computing jaccard distance...\n"
     ]
    },
    {
     "name": "stderr",
     "output_type": "stream",
     "text": [
      "bruteForceKnn is deprecated; call bfKnn instead\n"
     ]
    },
    {
     "name": "stdout",
     "output_type": "stream",
     "text": [
      "Jaccard distance computing time cost: 81.66564869880676\n",
      "Extracting Online Features for densenet121 ...\n",
      "Features extracted in 247.83 seconds\n",
      "Computing jaccard distance...\n"
     ]
    },
    {
     "name": "stderr",
     "output_type": "stream",
     "text": [
      "bruteForceKnn is deprecated; call bfKnn instead\n"
     ]
    },
    {
     "name": "stdout",
     "output_type": "stream",
     "text": [
      "Jaccard distance computing time cost: 97.82917618751526\n",
      "Reliability: 0.090\n",
      "\u001b[32mMean Purity: 0.03055\u001b[0m\n",
      "\u001b[34mThere are 26 clusters with 4 cameras\u001b[0m\n",
      "\u001b[34mThere are 22 clusters with 5 cameras\u001b[0m\n",
      "\u001b[34mThere are 19 clusters with 6 cameras\u001b[0m\n",
      "\u001b[34mThere are 14 clusters with 7 cameras\u001b[0m\n",
      "\u001b[34mThere are 8 clusters with 8 cameras\u001b[0m\n",
      "\u001b[34mThere are 7 clusters with 9 cameras\u001b[0m\n",
      "\u001b[34mThere are 5 clusters with 10 cameras\u001b[0m\n",
      "\u001b[34mThere are 4 clusters with 11 cameras\u001b[0m\n",
      "\u001b[34mThere are 6 clusters with 12 cameras\u001b[0m\n",
      "\u001b[34mThere are 6 clusters with 13 cameras\u001b[0m\n",
      "\u001b[34mThere are 1 clusters with 14 cameras\u001b[0m\n",
      "\u001b[34mThere are 2 clusters with 15 cameras\u001b[0m\n",
      "\u001b[34mThere are 2 clusters with 16 cameras\u001b[0m\n",
      "\u001b[34mThere are 1 clusters with 17 cameras\u001b[0m\n",
      "\u001b[34mThere are 5 clusters with 18 cameras\u001b[0m\n",
      "\u001b[34mThere are 3 clusters with 19 cameras\u001b[0m\n",
      "\u001b[34mThere are 4 clusters with 20 cameras\u001b[0m\n",
      "\u001b[34mThere are 2 clusters with 21 cameras\u001b[0m\n",
      "\u001b[34mThere are 2 clusters with 22 cameras\u001b[0m\n",
      "\u001b[34mThere are 2 clusters with 23 cameras\u001b[0m\n",
      "\u001b[34mThere are 1 clusters with 24 cameras\u001b[0m\n",
      "\u001b[34mThere are 1 clusters with 26 cameras\u001b[0m\n",
      "\u001b[34mThere are 2 clusters with 27 cameras\u001b[0m\n",
      "\u001b[34mThere are 2 clusters with 30 cameras\u001b[0m\n",
      "\u001b[34mThere are 2 clusters with 32 cameras\u001b[0m\n",
      "\u001b[34mThere are 1 clusters with 33 cameras\u001b[0m\n",
      "\u001b[34mThere are 3 clusters with 35 cameras\u001b[0m\n",
      "\u001b[34mThere are 1 clusters with 37 cameras\u001b[0m\n",
      "\u001b[34mThere are 1 clusters with 38 cameras\u001b[0m\n",
      "\u001b[34mThere are 1 clusters with 40 cameras\u001b[0m\n",
      "\u001b[34mThere are 2 clusters with 43 cameras\u001b[0m\n",
      "\u001b[34mThere are 3 clusters with 44 cameras\u001b[0m\n",
      "\u001b[34mThere are 1 clusters with 45 cameras\u001b[0m\n",
      "\u001b[34mThere are 1 clusters with 46 cameras\u001b[0m\n",
      "\u001b[34mThere are 1 clusters with 51 cameras\u001b[0m\n",
      "\u001b[34mThere are 2 clusters with 52 cameras\u001b[0m\n",
      "\u001b[34mThere are 1 clusters with 56 cameras\u001b[0m\n",
      "\u001b[34mThere are 1 clusters with 58 cameras\u001b[0m\n",
      "\u001b[34mThere are 2 clusters with 59 cameras\u001b[0m\n",
      "\u001b[34mThere are 1 clusters with 61 cameras\u001b[0m\n",
      "\u001b[34mThere are 1 clusters with 62 cameras\u001b[0m\n",
      "\u001b[34mThere are 1 clusters with 85 cameras\u001b[0m\n",
      "\u001b[34mThere are 1 clusters with 92 cameras\u001b[0m\n",
      "\u001b[34mThere are 1 clusters with 110 cameras\u001b[0m\n",
      "\u001b[34mThere are 1 clusters with 116 cameras\u001b[0m\n",
      "\u001b[34mThere are 1 clusters with 176 cameras\u001b[0m\n",
      "\u001b[34mThere are 1 clusters with 310 cameras\u001b[0m\n",
      "Number of classes: 178\n",
      "\u001b[36mLearning Rate: 0.000280\u001b[0m\n",
      "encontrou modelos efficientnet. Carregando...\n",
      "encontrou modelos convnext. Carregando...\n",
      "encontrou modelos mobilenet. Carregando...\n",
      "encontrou modelos vgg16. Carregando...\n",
      "encontrou modelos resnet50. Carregando...\n",
      "encontrou modelos osnet. Carregando...\n",
      "encontrou modelos densenet121. Carregando...\n",
      "###============ Iteration number 5/30 ============###\n",
      "Extracting Online Features for efficientnet ...\n",
      "Features extracted in 246.55 seconds\n",
      "Computing jaccard distance...\n"
     ]
    },
    {
     "name": "stderr",
     "output_type": "stream",
     "text": [
      "bruteForceKnn is deprecated; call bfKnn instead\n"
     ]
    },
    {
     "name": "stdout",
     "output_type": "stream",
     "text": [
      "Jaccard distance computing time cost: 97.99040341377258\n",
      "Extracting Online Features for convnext ...\n",
      "Features extracted in 249.53 seconds\n",
      "Computing jaccard distance...\n"
     ]
    },
    {
     "name": "stderr",
     "output_type": "stream",
     "text": [
      "bruteForceKnn is deprecated; call bfKnn instead\n"
     ]
    },
    {
     "name": "stdout",
     "output_type": "stream",
     "text": [
      "Jaccard distance computing time cost: 78.18314576148987\n",
      "Extracting Online Features for mobilenet ...\n",
      "Features extracted in 243.54 seconds\n",
      "Computing jaccard distance...\n"
     ]
    },
    {
     "name": "stderr",
     "output_type": "stream",
     "text": [
      "bruteForceKnn is deprecated; call bfKnn instead\n"
     ]
    },
    {
     "name": "stdout",
     "output_type": "stream",
     "text": [
      "Jaccard distance computing time cost: 75.54328203201294\n",
      "Extracting Online Features for vgg16 ...\n",
      "Features extracted in 243.99 seconds\n",
      "Computing jaccard distance...\n"
     ]
    },
    {
     "name": "stderr",
     "output_type": "stream",
     "text": [
      "bruteForceKnn is deprecated; call bfKnn instead\n"
     ]
    },
    {
     "name": "stdout",
     "output_type": "stream",
     "text": [
      "Jaccard distance computing time cost: 78.12022376060486\n",
      "Extracting Online Features for resnet50 ...\n",
      "Features extracted in 241.61 seconds\n",
      "Computing jaccard distance...\n"
     ]
    },
    {
     "name": "stderr",
     "output_type": "stream",
     "text": [
      "bruteForceKnn is deprecated; call bfKnn instead\n"
     ]
    },
    {
     "name": "stdout",
     "output_type": "stream",
     "text": [
      "Jaccard distance computing time cost: 78.06806921958923\n",
      "Extracting Online Features for osnet ...\n",
      "Features extracted in 242.99 seconds\n",
      "Computing jaccard distance...\n"
     ]
    },
    {
     "name": "stderr",
     "output_type": "stream",
     "text": [
      "bruteForceKnn is deprecated; call bfKnn instead\n"
     ]
    },
    {
     "name": "stdout",
     "output_type": "stream",
     "text": [
      "Jaccard distance computing time cost: 79.54348659515381\n",
      "Extracting Online Features for densenet121 ...\n",
      "Features extracted in 243.79 seconds\n",
      "Computing jaccard distance...\n"
     ]
    },
    {
     "name": "stderr",
     "output_type": "stream",
     "text": [
      "bruteForceKnn is deprecated; call bfKnn instead\n"
     ]
    },
    {
     "name": "stdout",
     "output_type": "stream",
     "text": [
      "Jaccard distance computing time cost: 110.55025959014893\n",
      "Reliability: 0.090\n",
      "\u001b[32mMean Purity: 0.03055\u001b[0m\n",
      "\u001b[34mThere are 26 clusters with 4 cameras\u001b[0m\n",
      "\u001b[34mThere are 22 clusters with 5 cameras\u001b[0m\n",
      "\u001b[34mThere are 19 clusters with 6 cameras\u001b[0m\n",
      "\u001b[34mThere are 14 clusters with 7 cameras\u001b[0m\n",
      "\u001b[34mThere are 8 clusters with 8 cameras\u001b[0m\n",
      "\u001b[34mThere are 7 clusters with 9 cameras\u001b[0m\n",
      "\u001b[34mThere are 5 clusters with 10 cameras\u001b[0m\n",
      "\u001b[34mThere are 4 clusters with 11 cameras\u001b[0m\n",
      "\u001b[34mThere are 6 clusters with 12 cameras\u001b[0m\n",
      "\u001b[34mThere are 6 clusters with 13 cameras\u001b[0m\n",
      "\u001b[34mThere are 1 clusters with 14 cameras\u001b[0m\n",
      "\u001b[34mThere are 2 clusters with 15 cameras\u001b[0m\n",
      "\u001b[34mThere are 2 clusters with 16 cameras\u001b[0m\n",
      "\u001b[34mThere are 1 clusters with 17 cameras\u001b[0m\n",
      "\u001b[34mThere are 5 clusters with 18 cameras\u001b[0m\n",
      "\u001b[34mThere are 3 clusters with 19 cameras\u001b[0m\n",
      "\u001b[34mThere are 4 clusters with 20 cameras\u001b[0m\n",
      "\u001b[34mThere are 2 clusters with 21 cameras\u001b[0m\n",
      "\u001b[34mThere are 2 clusters with 22 cameras\u001b[0m\n",
      "\u001b[34mThere are 2 clusters with 23 cameras\u001b[0m\n",
      "\u001b[34mThere are 1 clusters with 24 cameras\u001b[0m\n",
      "\u001b[34mThere are 1 clusters with 26 cameras\u001b[0m\n",
      "\u001b[34mThere are 2 clusters with 27 cameras\u001b[0m\n",
      "\u001b[34mThere are 2 clusters with 30 cameras\u001b[0m\n",
      "\u001b[34mThere are 2 clusters with 32 cameras\u001b[0m\n",
      "\u001b[34mThere are 1 clusters with 33 cameras\u001b[0m\n",
      "\u001b[34mThere are 3 clusters with 35 cameras\u001b[0m\n",
      "\u001b[34mThere are 1 clusters with 37 cameras\u001b[0m\n",
      "\u001b[34mThere are 1 clusters with 38 cameras\u001b[0m\n",
      "\u001b[34mThere are 1 clusters with 40 cameras\u001b[0m\n",
      "\u001b[34mThere are 2 clusters with 43 cameras\u001b[0m\n",
      "\u001b[34mThere are 3 clusters with 44 cameras\u001b[0m\n",
      "\u001b[34mThere are 1 clusters with 45 cameras\u001b[0m\n",
      "\u001b[34mThere are 1 clusters with 46 cameras\u001b[0m\n",
      "\u001b[34mThere are 1 clusters with 51 cameras\u001b[0m\n",
      "\u001b[34mThere are 2 clusters with 52 cameras\u001b[0m\n",
      "\u001b[34mThere are 1 clusters with 56 cameras\u001b[0m\n",
      "\u001b[34mThere are 1 clusters with 58 cameras\u001b[0m\n",
      "\u001b[34mThere are 2 clusters with 59 cameras\u001b[0m\n",
      "\u001b[34mThere are 1 clusters with 61 cameras\u001b[0m\n",
      "\u001b[34mThere are 1 clusters with 62 cameras\u001b[0m\n",
      "\u001b[34mThere are 1 clusters with 85 cameras\u001b[0m\n",
      "\u001b[34mThere are 1 clusters with 92 cameras\u001b[0m\n",
      "\u001b[34mThere are 1 clusters with 110 cameras\u001b[0m\n",
      "\u001b[34mThere are 1 clusters with 116 cameras\u001b[0m\n",
      "\u001b[34mThere are 1 clusters with 176 cameras\u001b[0m\n",
      "\u001b[34mThere are 1 clusters with 310 cameras\u001b[0m\n",
      "Number of classes: 178\n",
      "\u001b[36mLearning Rate: 0.000350\u001b[0m\n",
      "encontrou modelos efficientnet. Carregando...\n",
      "encontrou modelos convnext. Carregando...\n",
      "encontrou modelos mobilenet. Carregando...\n",
      "encontrou modelos vgg16. Carregando...\n",
      "encontrou modelos resnet50. Carregando...\n",
      "encontrou modelos osnet. Carregando...\n",
      "encontrou modelos densenet121. Carregando...\n",
      "\u001b[33mValidating online efficientnet ...\u001b[0m\n",
      "Features extracted in 79.39 seconds\n",
      "Features extracted in 161.82 seconds\n",
      "Computing CMC and mAP ...\n",
      "** Results **\n",
      "mAP: 66.44%\n",
      "CMC curve\n",
      "Rank-1  : 45.27%\n",
      "Rank-5  : 81.23%\n",
      "Rank-10 : 92.71%\n",
      "Rank-20 : 98.74%\n",
      "\u001b[33mValidating momentum efficientnet ...\u001b[0m\n",
      "Features extracted in 79.30 seconds\n",
      "Features extracted in 163.01 seconds\n",
      "Computing CMC and mAP ...\n",
      "** Results **\n",
      "mAP: 66.35%\n",
      "CMC curve\n",
      "Rank-1  : 47.67%\n",
      "Rank-5  : 83.22%\n",
      "Rank-10 : 91.90%\n",
      "Rank-20 : 96.88%\n",
      "\u001b[33mValidating online convnext ...\u001b[0m\n",
      "Features extracted in 77.43 seconds\n",
      "Features extracted in 160.08 seconds\n",
      "Computing CMC and mAP ...\n",
      "** Results **\n",
      "mAP: 65.95%\n",
      "CMC curve\n",
      "Rank-1  : 45.01%\n",
      "Rank-5  : 73.92%\n",
      "Rank-10 : 84.08%\n",
      "Rank-20 : 92.69%\n",
      "\u001b[33mValidating momentum convnext ...\u001b[0m\n",
      "Features extracted in 76.67 seconds\n",
      "Features extracted in 158.71 seconds\n",
      "Computing CMC and mAP ...\n",
      "** Results **\n",
      "mAP: 64.97%\n",
      "CMC curve\n",
      "Rank-1  : 45.72%\n",
      "Rank-5  : 74.96%\n",
      "Rank-10 : 87.06%\n",
      "Rank-20 : 94.88%\n",
      "\u001b[33mValidating online mobilenet ...\u001b[0m\n",
      "Features extracted in 75.22 seconds\n",
      "Features extracted in 149.97 seconds\n",
      "Computing CMC and mAP ...\n",
      "** Results **\n",
      "mAP: 66.77%\n",
      "CMC curve\n",
      "Rank-1  : 53.46%\n",
      "Rank-5  : 85.98%\n",
      "Rank-10 : 93.64%\n",
      "Rank-20 : 98.44%\n",
      "\u001b[33mValidating momentum mobilenet ...\u001b[0m\n",
      "Features extracted in 76.20 seconds\n",
      "Features extracted in 151.02 seconds\n",
      "Computing CMC and mAP ...\n",
      "** Results **\n",
      "mAP: 66.43%\n",
      "CMC curve\n",
      "Rank-1  : 52.90%\n",
      "Rank-5  : 85.26%\n",
      "Rank-10 : 93.91%\n",
      "Rank-20 : 98.53%\n",
      "\u001b[33mValidating online vgg16 ...\u001b[0m\n",
      "Features extracted in 77.30 seconds\n",
      "Features extracted in 154.83 seconds\n",
      "Computing CMC and mAP ...\n",
      "** Results **\n",
      "mAP: 65.62%\n",
      "CMC curve\n",
      "Rank-1  : 46.16%\n",
      "Rank-5  : 76.20%\n",
      "Rank-10 : 85.61%\n",
      "Rank-20 : 92.69%\n",
      "\u001b[33mValidating momentum vgg16 ...\u001b[0m\n",
      "Features extracted in 76.11 seconds\n",
      "Features extracted in 157.03 seconds\n",
      "Computing CMC and mAP ...\n",
      "** Results **\n",
      "mAP: 65.60%\n",
      "CMC curve\n",
      "Rank-1  : 45.96%\n",
      "Rank-5  : 81.83%\n",
      "Rank-10 : 90.44%\n",
      "Rank-20 : 96.43%\n",
      "\u001b[33mValidating online resnet50 ...\u001b[0m\n",
      "Features extracted in 76.78 seconds\n",
      "Features extracted in 153.15 seconds\n",
      "Computing CMC and mAP ...\n",
      "** Results **\n",
      "mAP: 65.52%\n",
      "CMC curve\n",
      "Rank-1  : 48.57%\n",
      "Rank-5  : 73.66%\n",
      "Rank-10 : 81.49%\n",
      "Rank-20 : 89.43%\n",
      "\u001b[33mValidating momentum resnet50 ...\u001b[0m\n",
      "Features extracted in 76.42 seconds\n",
      "Features extracted in 156.56 seconds\n",
      "Computing CMC and mAP ...\n",
      "** Results **\n",
      "mAP: 64.98%\n",
      "CMC curve\n",
      "Rank-1  : 43.34%\n",
      "Rank-5  : 71.03%\n",
      "Rank-10 : 80.69%\n",
      "Rank-20 : 89.93%\n",
      "\u001b[33mValidating online osnet ...\u001b[0m\n",
      "Features extracted in 77.50 seconds\n",
      "Features extracted in 153.86 seconds\n",
      "Computing CMC and mAP ...\n",
      "** Results **\n",
      "mAP: 66.17%\n",
      "CMC curve\n",
      "Rank-1  : 46.27%\n",
      "Rank-5  : 79.73%\n",
      "Rank-10 : 90.06%\n",
      "Rank-20 : 96.66%\n",
      "\u001b[33mValidating momentum osnet ...\u001b[0m\n",
      "Features extracted in 76.40 seconds\n",
      "Features extracted in 152.81 seconds\n",
      "Computing CMC and mAP ...\n",
      "** Results **\n",
      "mAP: 67.06%\n",
      "CMC curve\n",
      "Rank-1  : 51.53%\n",
      "Rank-5  : 86.66%\n",
      "Rank-10 : 95.02%\n",
      "Rank-20 : 98.72%\n",
      "\u001b[33mValidating online densenet121 ...\u001b[0m\n",
      "Features extracted in 78.19 seconds\n",
      "Features extracted in 155.90 seconds\n",
      "Computing CMC and mAP ...\n",
      "** Results **\n",
      "mAP: 65.51%\n",
      "CMC curve\n",
      "Rank-1  : 47.23%\n",
      "Rank-5  : 71.30%\n",
      "Rank-10 : 80.04%\n",
      "Rank-20 : 90.32%\n",
      "\u001b[33mValidating momentum densenet121 ...\u001b[0m\n",
      "Features extracted in 78.52 seconds\n",
      "Features extracted in 154.05 seconds\n",
      "Computing CMC and mAP ...\n",
      "** Results **\n",
      "mAP: 65.70%\n",
      "CMC curve\n",
      "Rank-1  : 46.44%\n",
      "Rank-5  : 79.26%\n",
      "Rank-10 : 88.68%\n",
      "Rank-20 : 95.10%\n",
      "\u001b[33mValidating ensembled with online models ...\u001b[0m\n",
      "Computing CMC and mAP ...\n",
      "** Results **\n",
      "mAP: 65.79%\n",
      "Ranks:\n",
      "Rank-1  : 47.30%\n",
      "Rank-5  : 72.71%\n",
      "Rank-10 : 80.86%\n",
      "\u001b[33mValidating ensembled with momentum models ...\u001b[0m\n",
      "Computing CMC and mAP ...\n",
      "** Results **\n",
      "mAP: 65.37%\n",
      "Ranks:\n",
      "Rank-1  : 43.97%\n",
      "Rank-5  : 75.76%\n",
      "Rank-10 : 85.48%\n",
      "###============ Iteration number 6/30 ============###\n",
      "Extracting Online Features for efficientnet ...\n",
      "Features extracted in 248.99 seconds\n",
      "Computing jaccard distance...\n"
     ]
    },
    {
     "name": "stderr",
     "output_type": "stream",
     "text": [
      "bruteForceKnn is deprecated; call bfKnn instead\n"
     ]
    },
    {
     "name": "stdout",
     "output_type": "stream",
     "text": [
      "Jaccard distance computing time cost: 82.50690627098083\n",
      "Extracting Online Features for convnext ...\n",
      "Features extracted in 254.55 seconds\n",
      "Computing jaccard distance...\n"
     ]
    },
    {
     "name": "stderr",
     "output_type": "stream",
     "text": [
      "bruteForceKnn is deprecated; call bfKnn instead\n"
     ]
    },
    {
     "name": "stdout",
     "output_type": "stream",
     "text": [
      "Jaccard distance computing time cost: 77.14912700653076\n",
      "Extracting Online Features for mobilenet ...\n",
      "Features extracted in 246.42 seconds\n",
      "Computing jaccard distance...\n"
     ]
    },
    {
     "name": "stderr",
     "output_type": "stream",
     "text": [
      "bruteForceKnn is deprecated; call bfKnn instead\n"
     ]
    },
    {
     "name": "stdout",
     "output_type": "stream",
     "text": [
      "Jaccard distance computing time cost: 76.97265529632568\n",
      "Extracting Online Features for vgg16 ...\n",
      "Features extracted in 246.55 seconds\n",
      "Computing jaccard distance...\n"
     ]
    },
    {
     "name": "stderr",
     "output_type": "stream",
     "text": [
      "bruteForceKnn is deprecated; call bfKnn instead\n"
     ]
    },
    {
     "name": "stdout",
     "output_type": "stream",
     "text": [
      "Jaccard distance computing time cost: 77.60991787910461\n",
      "Extracting Online Features for resnet50 ...\n",
      "Features extracted in 221.04 seconds\n",
      "Computing jaccard distance...\n"
     ]
    },
    {
     "name": "stderr",
     "output_type": "stream",
     "text": [
      "bruteForceKnn is deprecated; call bfKnn instead\n"
     ]
    },
    {
     "name": "stdout",
     "output_type": "stream",
     "text": [
      "Jaccard distance computing time cost: 79.94787454605103\n",
      "Extracting Online Features for osnet ...\n",
      "Features extracted in 202.75 seconds\n",
      "Computing jaccard distance...\n"
     ]
    },
    {
     "name": "stderr",
     "output_type": "stream",
     "text": [
      "bruteForceKnn is deprecated; call bfKnn instead\n"
     ]
    },
    {
     "name": "stdout",
     "output_type": "stream",
     "text": [
      "Jaccard distance computing time cost: 75.48806858062744\n",
      "Extracting Online Features for densenet121 ...\n",
      "Features extracted in 194.16 seconds\n",
      "Computing jaccard distance...\n"
     ]
    },
    {
     "name": "stderr",
     "output_type": "stream",
     "text": [
      "bruteForceKnn is deprecated; call bfKnn instead\n"
     ]
    },
    {
     "name": "stdout",
     "output_type": "stream",
     "text": [
      "Jaccard distance computing time cost: 70.74558711051941\n",
      "Reliability: 0.090\n",
      "\u001b[32mMean Purity: 0.03055\u001b[0m\n",
      "\u001b[34mThere are 26 clusters with 4 cameras\u001b[0m\n",
      "\u001b[34mThere are 22 clusters with 5 cameras\u001b[0m\n",
      "\u001b[34mThere are 19 clusters with 6 cameras\u001b[0m\n",
      "\u001b[34mThere are 14 clusters with 7 cameras\u001b[0m\n",
      "\u001b[34mThere are 8 clusters with 8 cameras\u001b[0m\n",
      "\u001b[34mThere are 7 clusters with 9 cameras\u001b[0m\n",
      "\u001b[34mThere are 5 clusters with 10 cameras\u001b[0m\n",
      "\u001b[34mThere are 4 clusters with 11 cameras\u001b[0m\n",
      "\u001b[34mThere are 6 clusters with 12 cameras\u001b[0m\n",
      "\u001b[34mThere are 6 clusters with 13 cameras\u001b[0m\n",
      "\u001b[34mThere are 1 clusters with 14 cameras\u001b[0m\n",
      "\u001b[34mThere are 2 clusters with 15 cameras\u001b[0m\n",
      "\u001b[34mThere are 2 clusters with 16 cameras\u001b[0m\n",
      "\u001b[34mThere are 1 clusters with 17 cameras\u001b[0m\n",
      "\u001b[34mThere are 5 clusters with 18 cameras\u001b[0m\n",
      "\u001b[34mThere are 3 clusters with 19 cameras\u001b[0m\n",
      "\u001b[34mThere are 4 clusters with 20 cameras\u001b[0m\n",
      "\u001b[34mThere are 2 clusters with 21 cameras\u001b[0m\n",
      "\u001b[34mThere are 2 clusters with 22 cameras\u001b[0m\n",
      "\u001b[34mThere are 2 clusters with 23 cameras\u001b[0m\n",
      "\u001b[34mThere are 1 clusters with 24 cameras\u001b[0m\n",
      "\u001b[34mThere are 1 clusters with 26 cameras\u001b[0m\n",
      "\u001b[34mThere are 2 clusters with 27 cameras\u001b[0m\n",
      "\u001b[34mThere are 2 clusters with 30 cameras\u001b[0m\n",
      "\u001b[34mThere are 2 clusters with 32 cameras\u001b[0m\n",
      "\u001b[34mThere are 1 clusters with 33 cameras\u001b[0m\n",
      "\u001b[34mThere are 3 clusters with 35 cameras\u001b[0m\n",
      "\u001b[34mThere are 1 clusters with 37 cameras\u001b[0m\n",
      "\u001b[34mThere are 1 clusters with 38 cameras\u001b[0m\n",
      "\u001b[34mThere are 1 clusters with 40 cameras\u001b[0m\n",
      "\u001b[34mThere are 2 clusters with 43 cameras\u001b[0m\n",
      "\u001b[34mThere are 3 clusters with 44 cameras\u001b[0m\n",
      "\u001b[34mThere are 1 clusters with 45 cameras\u001b[0m\n",
      "\u001b[34mThere are 1 clusters with 46 cameras\u001b[0m\n",
      "\u001b[34mThere are 1 clusters with 51 cameras\u001b[0m\n",
      "\u001b[34mThere are 2 clusters with 52 cameras\u001b[0m\n",
      "\u001b[34mThere are 1 clusters with 56 cameras\u001b[0m\n",
      "\u001b[34mThere are 1 clusters with 58 cameras\u001b[0m\n",
      "\u001b[34mThere are 2 clusters with 59 cameras\u001b[0m\n",
      "\u001b[34mThere are 1 clusters with 61 cameras\u001b[0m\n",
      "\u001b[34mThere are 1 clusters with 62 cameras\u001b[0m\n",
      "\u001b[34mThere are 1 clusters with 85 cameras\u001b[0m\n",
      "\u001b[34mThere are 1 clusters with 92 cameras\u001b[0m\n",
      "\u001b[34mThere are 1 clusters with 110 cameras\u001b[0m\n",
      "\u001b[34mThere are 1 clusters with 116 cameras\u001b[0m\n",
      "\u001b[34mThere are 1 clusters with 176 cameras\u001b[0m\n",
      "\u001b[34mThere are 1 clusters with 310 cameras\u001b[0m\n",
      "Number of classes: 178\n",
      "\u001b[36mLearning Rate: 0.000350\u001b[0m\n",
      "encontrou modelos efficientnet. Carregando...\n",
      "encontrou modelos convnext. Carregando...\n",
      "encontrou modelos mobilenet. Carregando...\n",
      "encontrou modelos vgg16. Carregando...\n",
      "encontrou modelos resnet50. Carregando...\n",
      "encontrou modelos osnet. Carregando...\n",
      "encontrou modelos densenet121. Carregando...\n",
      "###============ Iteration number 7/30 ============###\n",
      "Extracting Online Features for efficientnet ...\n",
      "Features extracted in 196.43 seconds\n",
      "Computing jaccard distance...\n"
     ]
    },
    {
     "name": "stderr",
     "output_type": "stream",
     "text": [
      "bruteForceKnn is deprecated; call bfKnn instead\n"
     ]
    },
    {
     "name": "stdout",
     "output_type": "stream",
     "text": [
      "Jaccard distance computing time cost: 70.4567756652832\n",
      "Extracting Online Features for convnext ...\n",
      "Features extracted in 194.03 seconds\n",
      "Computing jaccard distance...\n"
     ]
    },
    {
     "name": "stderr",
     "output_type": "stream",
     "text": [
      "bruteForceKnn is deprecated; call bfKnn instead\n"
     ]
    },
    {
     "name": "stdout",
     "output_type": "stream",
     "text": [
      "Jaccard distance computing time cost: 67.16758036613464\n",
      "Extracting Online Features for mobilenet ...\n",
      "Features extracted in 196.30 seconds\n",
      "Computing jaccard distance...\n"
     ]
    },
    {
     "name": "stderr",
     "output_type": "stream",
     "text": [
      "bruteForceKnn is deprecated; call bfKnn instead\n"
     ]
    },
    {
     "name": "stdout",
     "output_type": "stream",
     "text": [
      "Jaccard distance computing time cost: 66.05127716064453\n",
      "Extracting Online Features for vgg16 ...\n",
      "Features extracted in 192.80 seconds\n",
      "Computing jaccard distance...\n"
     ]
    },
    {
     "name": "stderr",
     "output_type": "stream",
     "text": [
      "bruteForceKnn is deprecated; call bfKnn instead\n"
     ]
    },
    {
     "name": "stdout",
     "output_type": "stream",
     "text": [
      "Jaccard distance computing time cost: 67.1003041267395\n",
      "Extracting Online Features for resnet50 ...\n",
      "Features extracted in 194.44 seconds\n",
      "Computing jaccard distance...\n"
     ]
    },
    {
     "name": "stderr",
     "output_type": "stream",
     "text": [
      "bruteForceKnn is deprecated; call bfKnn instead\n"
     ]
    },
    {
     "name": "stdout",
     "output_type": "stream",
     "text": [
      "Jaccard distance computing time cost: 67.29185247421265\n",
      "Extracting Online Features for osnet ...\n",
      "Features extracted in 192.03 seconds\n",
      "Computing jaccard distance...\n"
     ]
    },
    {
     "name": "stderr",
     "output_type": "stream",
     "text": [
      "bruteForceKnn is deprecated; call bfKnn instead\n"
     ]
    },
    {
     "name": "stdout",
     "output_type": "stream",
     "text": [
      "Jaccard distance computing time cost: 66.79407835006714\n",
      "Extracting Online Features for densenet121 ...\n",
      "Features extracted in 195.01 seconds\n",
      "Computing jaccard distance...\n"
     ]
    },
    {
     "name": "stderr",
     "output_type": "stream",
     "text": [
      "bruteForceKnn is deprecated; call bfKnn instead\n"
     ]
    },
    {
     "name": "stdout",
     "output_type": "stream",
     "text": [
      "Jaccard distance computing time cost: 69.04832172393799\n",
      "Reliability: 0.090\n",
      "\u001b[32mMean Purity: 0.03055\u001b[0m\n",
      "\u001b[34mThere are 26 clusters with 4 cameras\u001b[0m\n",
      "\u001b[34mThere are 22 clusters with 5 cameras\u001b[0m\n",
      "\u001b[34mThere are 19 clusters with 6 cameras\u001b[0m\n",
      "\u001b[34mThere are 14 clusters with 7 cameras\u001b[0m\n",
      "\u001b[34mThere are 8 clusters with 8 cameras\u001b[0m\n",
      "\u001b[34mThere are 7 clusters with 9 cameras\u001b[0m\n",
      "\u001b[34mThere are 5 clusters with 10 cameras\u001b[0m\n",
      "\u001b[34mThere are 4 clusters with 11 cameras\u001b[0m\n",
      "\u001b[34mThere are 6 clusters with 12 cameras\u001b[0m\n",
      "\u001b[34mThere are 6 clusters with 13 cameras\u001b[0m\n",
      "\u001b[34mThere are 1 clusters with 14 cameras\u001b[0m\n",
      "\u001b[34mThere are 2 clusters with 15 cameras\u001b[0m\n",
      "\u001b[34mThere are 2 clusters with 16 cameras\u001b[0m\n",
      "\u001b[34mThere are 1 clusters with 17 cameras\u001b[0m\n",
      "\u001b[34mThere are 5 clusters with 18 cameras\u001b[0m\n",
      "\u001b[34mThere are 3 clusters with 19 cameras\u001b[0m\n",
      "\u001b[34mThere are 4 clusters with 20 cameras\u001b[0m\n",
      "\u001b[34mThere are 2 clusters with 21 cameras\u001b[0m\n",
      "\u001b[34mThere are 2 clusters with 22 cameras\u001b[0m\n",
      "\u001b[34mThere are 2 clusters with 23 cameras\u001b[0m\n",
      "\u001b[34mThere are 1 clusters with 24 cameras\u001b[0m\n",
      "\u001b[34mThere are 1 clusters with 26 cameras\u001b[0m\n",
      "\u001b[34mThere are 2 clusters with 27 cameras\u001b[0m\n",
      "\u001b[34mThere are 2 clusters with 30 cameras\u001b[0m\n",
      "\u001b[34mThere are 2 clusters with 32 cameras\u001b[0m\n",
      "\u001b[34mThere are 1 clusters with 33 cameras\u001b[0m\n",
      "\u001b[34mThere are 3 clusters with 35 cameras\u001b[0m\n",
      "\u001b[34mThere are 1 clusters with 37 cameras\u001b[0m\n",
      "\u001b[34mThere are 1 clusters with 38 cameras\u001b[0m\n",
      "\u001b[34mThere are 1 clusters with 40 cameras\u001b[0m\n",
      "\u001b[34mThere are 2 clusters with 43 cameras\u001b[0m\n",
      "\u001b[34mThere are 3 clusters with 44 cameras\u001b[0m\n",
      "\u001b[34mThere are 1 clusters with 45 cameras\u001b[0m\n",
      "\u001b[34mThere are 1 clusters with 46 cameras\u001b[0m\n",
      "\u001b[34mThere are 1 clusters with 51 cameras\u001b[0m\n",
      "\u001b[34mThere are 2 clusters with 52 cameras\u001b[0m\n",
      "\u001b[34mThere are 1 clusters with 56 cameras\u001b[0m\n",
      "\u001b[34mThere are 1 clusters with 58 cameras\u001b[0m\n",
      "\u001b[34mThere are 2 clusters with 59 cameras\u001b[0m\n",
      "\u001b[34mThere are 1 clusters with 61 cameras\u001b[0m\n",
      "\u001b[34mThere are 1 clusters with 62 cameras\u001b[0m\n",
      "\u001b[34mThere are 1 clusters with 85 cameras\u001b[0m\n",
      "\u001b[34mThere are 1 clusters with 92 cameras\u001b[0m\n",
      "\u001b[34mThere are 1 clusters with 110 cameras\u001b[0m\n",
      "\u001b[34mThere are 1 clusters with 116 cameras\u001b[0m\n",
      "\u001b[34mThere are 1 clusters with 176 cameras\u001b[0m\n",
      "\u001b[34mThere are 1 clusters with 310 cameras\u001b[0m\n",
      "Number of classes: 178\n",
      "\u001b[36mLearning Rate: 0.000350\u001b[0m\n",
      "encontrou modelos efficientnet. Carregando...\n",
      "encontrou modelos convnext. Carregando...\n",
      "encontrou modelos mobilenet. Carregando...\n",
      "encontrou modelos vgg16. Carregando...\n",
      "encontrou modelos resnet50. Carregando...\n",
      "encontrou modelos osnet. Carregando...\n",
      "encontrou modelos densenet121. Carregando...\n",
      "###============ Iteration number 8/30 ============###\n",
      "Extracting Online Features for efficientnet ...\n",
      "Features extracted in 197.13 seconds\n",
      "Computing jaccard distance...\n"
     ]
    },
    {
     "name": "stderr",
     "output_type": "stream",
     "text": [
      "bruteForceKnn is deprecated; call bfKnn instead\n"
     ]
    },
    {
     "name": "stdout",
     "output_type": "stream",
     "text": [
      "Jaccard distance computing time cost: 70.00278377532959\n",
      "Extracting Online Features for convnext ...\n",
      "Features extracted in 194.31 seconds\n",
      "Computing jaccard distance...\n"
     ]
    },
    {
     "name": "stderr",
     "output_type": "stream",
     "text": [
      "bruteForceKnn is deprecated; call bfKnn instead\n"
     ]
    },
    {
     "name": "stdout",
     "output_type": "stream",
     "text": [
      "Jaccard distance computing time cost: 68.33357453346252\n",
      "Extracting Online Features for mobilenet ...\n",
      "Features extracted in 192.62 seconds\n",
      "Computing jaccard distance...\n"
     ]
    },
    {
     "name": "stderr",
     "output_type": "stream",
     "text": [
      "bruteForceKnn is deprecated; call bfKnn instead\n"
     ]
    },
    {
     "name": "stdout",
     "output_type": "stream",
     "text": [
      "Jaccard distance computing time cost: 67.46992945671082\n",
      "Extracting Online Features for vgg16 ...\n",
      "Features extracted in 193.07 seconds\n",
      "Computing jaccard distance...\n"
     ]
    },
    {
     "name": "stderr",
     "output_type": "stream",
     "text": [
      "bruteForceKnn is deprecated; call bfKnn instead\n"
     ]
    },
    {
     "name": "stdout",
     "output_type": "stream",
     "text": [
      "Jaccard distance computing time cost: 69.06491470336914\n",
      "Extracting Online Features for resnet50 ...\n",
      "Features extracted in 192.51 seconds\n",
      "Computing jaccard distance...\n"
     ]
    },
    {
     "name": "stderr",
     "output_type": "stream",
     "text": [
      "bruteForceKnn is deprecated; call bfKnn instead\n"
     ]
    },
    {
     "name": "stdout",
     "output_type": "stream",
     "text": [
      "Jaccard distance computing time cost: 65.87453985214233\n",
      "Extracting Online Features for osnet ...\n",
      "Features extracted in 191.96 seconds\n",
      "Computing jaccard distance...\n"
     ]
    },
    {
     "name": "stderr",
     "output_type": "stream",
     "text": [
      "bruteForceKnn is deprecated; call bfKnn instead\n"
     ]
    },
    {
     "name": "stdout",
     "output_type": "stream",
     "text": [
      "Jaccard distance computing time cost: 65.78434896469116\n",
      "Extracting Online Features for densenet121 ...\n",
      "Features extracted in 191.94 seconds\n",
      "Computing jaccard distance...\n"
     ]
    },
    {
     "name": "stderr",
     "output_type": "stream",
     "text": [
      "bruteForceKnn is deprecated; call bfKnn instead\n"
     ]
    },
    {
     "name": "stdout",
     "output_type": "stream",
     "text": [
      "Jaccard distance computing time cost: 67.4940459728241\n",
      "Reliability: 0.090\n",
      "\u001b[32mMean Purity: 0.03055\u001b[0m\n",
      "\u001b[34mThere are 26 clusters with 4 cameras\u001b[0m\n",
      "\u001b[34mThere are 22 clusters with 5 cameras\u001b[0m\n",
      "\u001b[34mThere are 19 clusters with 6 cameras\u001b[0m\n",
      "\u001b[34mThere are 14 clusters with 7 cameras\u001b[0m\n",
      "\u001b[34mThere are 8 clusters with 8 cameras\u001b[0m\n",
      "\u001b[34mThere are 7 clusters with 9 cameras\u001b[0m\n",
      "\u001b[34mThere are 5 clusters with 10 cameras\u001b[0m\n",
      "\u001b[34mThere are 4 clusters with 11 cameras\u001b[0m\n",
      "\u001b[34mThere are 6 clusters with 12 cameras\u001b[0m\n",
      "\u001b[34mThere are 6 clusters with 13 cameras\u001b[0m\n",
      "\u001b[34mThere are 1 clusters with 14 cameras\u001b[0m\n",
      "\u001b[34mThere are 2 clusters with 15 cameras\u001b[0m\n",
      "\u001b[34mThere are 2 clusters with 16 cameras\u001b[0m\n",
      "\u001b[34mThere are 1 clusters with 17 cameras\u001b[0m\n",
      "\u001b[34mThere are 5 clusters with 18 cameras\u001b[0m\n",
      "\u001b[34mThere are 3 clusters with 19 cameras\u001b[0m\n",
      "\u001b[34mThere are 4 clusters with 20 cameras\u001b[0m\n",
      "\u001b[34mThere are 2 clusters with 21 cameras\u001b[0m\n",
      "\u001b[34mThere are 2 clusters with 22 cameras\u001b[0m\n",
      "\u001b[34mThere are 2 clusters with 23 cameras\u001b[0m\n",
      "\u001b[34mThere are 1 clusters with 24 cameras\u001b[0m\n",
      "\u001b[34mThere are 1 clusters with 26 cameras\u001b[0m\n",
      "\u001b[34mThere are 2 clusters with 27 cameras\u001b[0m\n",
      "\u001b[34mThere are 2 clusters with 30 cameras\u001b[0m\n",
      "\u001b[34mThere are 2 clusters with 32 cameras\u001b[0m\n",
      "\u001b[34mThere are 1 clusters with 33 cameras\u001b[0m\n",
      "\u001b[34mThere are 3 clusters with 35 cameras\u001b[0m\n",
      "\u001b[34mThere are 1 clusters with 37 cameras\u001b[0m\n",
      "\u001b[34mThere are 1 clusters with 38 cameras\u001b[0m\n",
      "\u001b[34mThere are 1 clusters with 40 cameras\u001b[0m\n",
      "\u001b[34mThere are 2 clusters with 43 cameras\u001b[0m\n",
      "\u001b[34mThere are 3 clusters with 44 cameras\u001b[0m\n",
      "\u001b[34mThere are 1 clusters with 45 cameras\u001b[0m\n",
      "\u001b[34mThere are 1 clusters with 46 cameras\u001b[0m\n",
      "\u001b[34mThere are 1 clusters with 51 cameras\u001b[0m\n",
      "\u001b[34mThere are 2 clusters with 52 cameras\u001b[0m\n",
      "\u001b[34mThere are 1 clusters with 56 cameras\u001b[0m\n",
      "\u001b[34mThere are 1 clusters with 58 cameras\u001b[0m\n",
      "\u001b[34mThere are 2 clusters with 59 cameras\u001b[0m\n",
      "\u001b[34mThere are 1 clusters with 61 cameras\u001b[0m\n",
      "\u001b[34mThere are 1 clusters with 62 cameras\u001b[0m\n",
      "\u001b[34mThere are 1 clusters with 85 cameras\u001b[0m\n",
      "\u001b[34mThere are 1 clusters with 92 cameras\u001b[0m\n",
      "\u001b[34mThere are 1 clusters with 110 cameras\u001b[0m\n",
      "\u001b[34mThere are 1 clusters with 116 cameras\u001b[0m\n",
      "\u001b[34mThere are 1 clusters with 176 cameras\u001b[0m\n",
      "\u001b[34mThere are 1 clusters with 310 cameras\u001b[0m\n",
      "Number of classes: 178\n",
      "\u001b[36mLearning Rate: 0.000350\u001b[0m\n",
      "encontrou modelos efficientnet. Carregando...\n",
      "encontrou modelos convnext. Carregando...\n",
      "encontrou modelos mobilenet. Carregando...\n",
      "encontrou modelos vgg16. Carregando...\n",
      "encontrou modelos resnet50. Carregando...\n",
      "encontrou modelos osnet. Carregando...\n",
      "encontrou modelos densenet121. Carregando...\n",
      "###============ Iteration number 9/30 ============###\n",
      "Extracting Online Features for efficientnet ...\n",
      "Features extracted in 199.86 seconds\n",
      "Computing jaccard distance...\n"
     ]
    },
    {
     "name": "stderr",
     "output_type": "stream",
     "text": [
      "bruteForceKnn is deprecated; call bfKnn instead\n"
     ]
    },
    {
     "name": "stdout",
     "output_type": "stream",
     "text": [
      "Jaccard distance computing time cost: 70.2781229019165\n",
      "Extracting Online Features for convnext ...\n",
      "Features extracted in 196.07 seconds\n",
      "Computing jaccard distance...\n"
     ]
    },
    {
     "name": "stderr",
     "output_type": "stream",
     "text": [
      "bruteForceKnn is deprecated; call bfKnn instead\n"
     ]
    },
    {
     "name": "stdout",
     "output_type": "stream",
     "text": [
      "Jaccard distance computing time cost: 67.4471046924591\n",
      "Extracting Online Features for mobilenet ...\n",
      "Features extracted in 190.46 seconds\n",
      "Computing jaccard distance...\n"
     ]
    },
    {
     "name": "stderr",
     "output_type": "stream",
     "text": [
      "bruteForceKnn is deprecated; call bfKnn instead\n"
     ]
    },
    {
     "name": "stdout",
     "output_type": "stream",
     "text": [
      "Jaccard distance computing time cost: 65.95733213424683\n",
      "Extracting Online Features for vgg16 ...\n",
      "Features extracted in 194.89 seconds\n",
      "Computing jaccard distance...\n"
     ]
    },
    {
     "name": "stderr",
     "output_type": "stream",
     "text": [
      "bruteForceKnn is deprecated; call bfKnn instead\n"
     ]
    },
    {
     "name": "stdout",
     "output_type": "stream",
     "text": [
      "Jaccard distance computing time cost: 66.90938115119934\n",
      "Extracting Online Features for resnet50 ...\n",
      "Features extracted in 193.04 seconds\n",
      "Computing jaccard distance...\n"
     ]
    },
    {
     "name": "stderr",
     "output_type": "stream",
     "text": [
      "bruteForceKnn is deprecated; call bfKnn instead\n"
     ]
    },
    {
     "name": "stdout",
     "output_type": "stream",
     "text": [
      "Jaccard distance computing time cost: 66.60918021202087\n",
      "Extracting Online Features for osnet ...\n",
      "Features extracted in 190.79 seconds\n",
      "Computing jaccard distance...\n"
     ]
    },
    {
     "name": "stderr",
     "output_type": "stream",
     "text": [
      "bruteForceKnn is deprecated; call bfKnn instead\n"
     ]
    },
    {
     "name": "stdout",
     "output_type": "stream",
     "text": [
      "Jaccard distance computing time cost: 66.4085431098938\n",
      "Extracting Online Features for densenet121 ...\n",
      "Features extracted in 193.14 seconds\n",
      "Computing jaccard distance...\n"
     ]
    },
    {
     "name": "stderr",
     "output_type": "stream",
     "text": [
      "bruteForceKnn is deprecated; call bfKnn instead\n"
     ]
    },
    {
     "name": "stdout",
     "output_type": "stream",
     "text": [
      "Jaccard distance computing time cost: 69.84933876991272\n",
      "Reliability: 0.090\n",
      "\u001b[32mMean Purity: 0.03055\u001b[0m\n",
      "\u001b[34mThere are 26 clusters with 4 cameras\u001b[0m\n",
      "\u001b[34mThere are 22 clusters with 5 cameras\u001b[0m\n",
      "\u001b[34mThere are 19 clusters with 6 cameras\u001b[0m\n",
      "\u001b[34mThere are 14 clusters with 7 cameras\u001b[0m\n",
      "\u001b[34mThere are 8 clusters with 8 cameras\u001b[0m\n",
      "\u001b[34mThere are 7 clusters with 9 cameras\u001b[0m\n",
      "\u001b[34mThere are 5 clusters with 10 cameras\u001b[0m\n",
      "\u001b[34mThere are 4 clusters with 11 cameras\u001b[0m\n",
      "\u001b[34mThere are 6 clusters with 12 cameras\u001b[0m\n",
      "\u001b[34mThere are 6 clusters with 13 cameras\u001b[0m\n",
      "\u001b[34mThere are 1 clusters with 14 cameras\u001b[0m\n",
      "\u001b[34mThere are 2 clusters with 15 cameras\u001b[0m\n",
      "\u001b[34mThere are 2 clusters with 16 cameras\u001b[0m\n",
      "\u001b[34mThere are 1 clusters with 17 cameras\u001b[0m\n",
      "\u001b[34mThere are 5 clusters with 18 cameras\u001b[0m\n",
      "\u001b[34mThere are 3 clusters with 19 cameras\u001b[0m\n",
      "\u001b[34mThere are 4 clusters with 20 cameras\u001b[0m\n",
      "\u001b[34mThere are 2 clusters with 21 cameras\u001b[0m\n",
      "\u001b[34mThere are 2 clusters with 22 cameras\u001b[0m\n",
      "\u001b[34mThere are 2 clusters with 23 cameras\u001b[0m\n",
      "\u001b[34mThere are 1 clusters with 24 cameras\u001b[0m\n",
      "\u001b[34mThere are 1 clusters with 26 cameras\u001b[0m\n",
      "\u001b[34mThere are 2 clusters with 27 cameras\u001b[0m\n",
      "\u001b[34mThere are 2 clusters with 30 cameras\u001b[0m\n",
      "\u001b[34mThere are 2 clusters with 32 cameras\u001b[0m\n",
      "\u001b[34mThere are 1 clusters with 33 cameras\u001b[0m\n",
      "\u001b[34mThere are 3 clusters with 35 cameras\u001b[0m\n",
      "\u001b[34mThere are 1 clusters with 37 cameras\u001b[0m\n",
      "\u001b[34mThere are 1 clusters with 38 cameras\u001b[0m\n",
      "\u001b[34mThere are 1 clusters with 40 cameras\u001b[0m\n",
      "\u001b[34mThere are 2 clusters with 43 cameras\u001b[0m\n",
      "\u001b[34mThere are 3 clusters with 44 cameras\u001b[0m\n",
      "\u001b[34mThere are 1 clusters with 45 cameras\u001b[0m\n",
      "\u001b[34mThere are 1 clusters with 46 cameras\u001b[0m\n",
      "\u001b[34mThere are 1 clusters with 51 cameras\u001b[0m\n",
      "\u001b[34mThere are 2 clusters with 52 cameras\u001b[0m\n",
      "\u001b[34mThere are 1 clusters with 56 cameras\u001b[0m\n",
      "\u001b[34mThere are 1 clusters with 58 cameras\u001b[0m\n",
      "\u001b[34mThere are 2 clusters with 59 cameras\u001b[0m\n",
      "\u001b[34mThere are 1 clusters with 61 cameras\u001b[0m\n",
      "\u001b[34mThere are 1 clusters with 62 cameras\u001b[0m\n",
      "\u001b[34mThere are 1 clusters with 85 cameras\u001b[0m\n",
      "\u001b[34mThere are 1 clusters with 92 cameras\u001b[0m\n",
      "\u001b[34mThere are 1 clusters with 110 cameras\u001b[0m\n",
      "\u001b[34mThere are 1 clusters with 116 cameras\u001b[0m\n",
      "\u001b[34mThere are 1 clusters with 176 cameras\u001b[0m\n",
      "\u001b[34mThere are 1 clusters with 310 cameras\u001b[0m\n",
      "Number of classes: 178\n",
      "\u001b[36mLearning Rate: 0.000350\u001b[0m\n",
      "encontrou modelos efficientnet. Carregando...\n",
      "encontrou modelos convnext. Carregando...\n",
      "encontrou modelos mobilenet. Carregando...\n",
      "encontrou modelos vgg16. Carregando...\n",
      "encontrou modelos resnet50. Carregando...\n",
      "encontrou modelos osnet. Carregando...\n",
      "encontrou modelos densenet121. Carregando...\n",
      "###============ Iteration number 10/30 ============###\n",
      "Extracting Online Features for efficientnet ...\n",
      "Features extracted in 194.50 seconds\n",
      "Computing jaccard distance...\n"
     ]
    },
    {
     "name": "stderr",
     "output_type": "stream",
     "text": [
      "bruteForceKnn is deprecated; call bfKnn instead\n"
     ]
    },
    {
     "name": "stdout",
     "output_type": "stream",
     "text": [
      "Jaccard distance computing time cost: 71.06716299057007\n",
      "Extracting Online Features for convnext ...\n",
      "Features extracted in 193.95 seconds\n",
      "Computing jaccard distance...\n"
     ]
    },
    {
     "name": "stderr",
     "output_type": "stream",
     "text": [
      "bruteForceKnn is deprecated; call bfKnn instead\n"
     ]
    },
    {
     "name": "stdout",
     "output_type": "stream",
     "text": [
      "Jaccard distance computing time cost: 67.1548330783844\n",
      "Extracting Online Features for mobilenet ...\n",
      "Features extracted in 201.08 seconds\n",
      "Computing jaccard distance...\n"
     ]
    },
    {
     "name": "stderr",
     "output_type": "stream",
     "text": [
      "bruteForceKnn is deprecated; call bfKnn instead\n"
     ]
    },
    {
     "name": "stdout",
     "output_type": "stream",
     "text": [
      "Jaccard distance computing time cost: 65.86301851272583\n",
      "Extracting Online Features for vgg16 ...\n",
      "Features extracted in 203.97 seconds\n",
      "Computing jaccard distance...\n"
     ]
    },
    {
     "name": "stderr",
     "output_type": "stream",
     "text": [
      "bruteForceKnn is deprecated; call bfKnn instead\n"
     ]
    },
    {
     "name": "stdout",
     "output_type": "stream",
     "text": [
      "Jaccard distance computing time cost: 66.50888013839722\n",
      "Extracting Online Features for resnet50 ...\n",
      "Features extracted in 194.92 seconds\n",
      "Computing jaccard distance...\n"
     ]
    },
    {
     "name": "stderr",
     "output_type": "stream",
     "text": [
      "bruteForceKnn is deprecated; call bfKnn instead\n"
     ]
    },
    {
     "name": "stdout",
     "output_type": "stream",
     "text": [
      "Jaccard distance computing time cost: 68.23060965538025\n",
      "Extracting Online Features for osnet ...\n",
      "Features extracted in 193.81 seconds\n",
      "Computing jaccard distance...\n"
     ]
    },
    {
     "name": "stderr",
     "output_type": "stream",
     "text": [
      "bruteForceKnn is deprecated; call bfKnn instead\n"
     ]
    },
    {
     "name": "stdout",
     "output_type": "stream",
     "text": [
      "Jaccard distance computing time cost: 66.70067715644836\n",
      "Extracting Online Features for densenet121 ...\n",
      "Features extracted in 194.00 seconds\n",
      "Computing jaccard distance...\n"
     ]
    },
    {
     "name": "stderr",
     "output_type": "stream",
     "text": [
      "bruteForceKnn is deprecated; call bfKnn instead\n"
     ]
    },
    {
     "name": "stdout",
     "output_type": "stream",
     "text": [
      "Jaccard distance computing time cost: 67.13040900230408\n",
      "Reliability: 0.090\n",
      "\u001b[32mMean Purity: 0.03055\u001b[0m\n",
      "\u001b[34mThere are 26 clusters with 4 cameras\u001b[0m\n",
      "\u001b[34mThere are 22 clusters with 5 cameras\u001b[0m\n",
      "\u001b[34mThere are 19 clusters with 6 cameras\u001b[0m\n",
      "\u001b[34mThere are 14 clusters with 7 cameras\u001b[0m\n",
      "\u001b[34mThere are 8 clusters with 8 cameras\u001b[0m\n",
      "\u001b[34mThere are 7 clusters with 9 cameras\u001b[0m\n",
      "\u001b[34mThere are 5 clusters with 10 cameras\u001b[0m\n",
      "\u001b[34mThere are 4 clusters with 11 cameras\u001b[0m\n",
      "\u001b[34mThere are 6 clusters with 12 cameras\u001b[0m\n",
      "\u001b[34mThere are 6 clusters with 13 cameras\u001b[0m\n",
      "\u001b[34mThere are 1 clusters with 14 cameras\u001b[0m\n",
      "\u001b[34mThere are 2 clusters with 15 cameras\u001b[0m\n",
      "\u001b[34mThere are 2 clusters with 16 cameras\u001b[0m\n",
      "\u001b[34mThere are 1 clusters with 17 cameras\u001b[0m\n",
      "\u001b[34mThere are 5 clusters with 18 cameras\u001b[0m\n",
      "\u001b[34mThere are 3 clusters with 19 cameras\u001b[0m\n",
      "\u001b[34mThere are 4 clusters with 20 cameras\u001b[0m\n",
      "\u001b[34mThere are 2 clusters with 21 cameras\u001b[0m\n",
      "\u001b[34mThere are 2 clusters with 22 cameras\u001b[0m\n",
      "\u001b[34mThere are 2 clusters with 23 cameras\u001b[0m\n",
      "\u001b[34mThere are 1 clusters with 24 cameras\u001b[0m\n",
      "\u001b[34mThere are 1 clusters with 26 cameras\u001b[0m\n",
      "\u001b[34mThere are 2 clusters with 27 cameras\u001b[0m\n",
      "\u001b[34mThere are 2 clusters with 30 cameras\u001b[0m\n",
      "\u001b[34mThere are 2 clusters with 32 cameras\u001b[0m\n",
      "\u001b[34mThere are 1 clusters with 33 cameras\u001b[0m\n",
      "\u001b[34mThere are 3 clusters with 35 cameras\u001b[0m\n",
      "\u001b[34mThere are 1 clusters with 37 cameras\u001b[0m\n",
      "\u001b[34mThere are 1 clusters with 38 cameras\u001b[0m\n",
      "\u001b[34mThere are 1 clusters with 40 cameras\u001b[0m\n",
      "\u001b[34mThere are 2 clusters with 43 cameras\u001b[0m\n",
      "\u001b[34mThere are 3 clusters with 44 cameras\u001b[0m\n",
      "\u001b[34mThere are 1 clusters with 45 cameras\u001b[0m\n",
      "\u001b[34mThere are 1 clusters with 46 cameras\u001b[0m\n",
      "\u001b[34mThere are 1 clusters with 51 cameras\u001b[0m\n",
      "\u001b[34mThere are 2 clusters with 52 cameras\u001b[0m\n",
      "\u001b[34mThere are 1 clusters with 56 cameras\u001b[0m\n",
      "\u001b[34mThere are 1 clusters with 58 cameras\u001b[0m\n",
      "\u001b[34mThere are 2 clusters with 59 cameras\u001b[0m\n",
      "\u001b[34mThere are 1 clusters with 61 cameras\u001b[0m\n",
      "\u001b[34mThere are 1 clusters with 62 cameras\u001b[0m\n",
      "\u001b[34mThere are 1 clusters with 85 cameras\u001b[0m\n",
      "\u001b[34mThere are 1 clusters with 92 cameras\u001b[0m\n",
      "\u001b[34mThere are 1 clusters with 110 cameras\u001b[0m\n",
      "\u001b[34mThere are 1 clusters with 116 cameras\u001b[0m\n",
      "\u001b[34mThere are 1 clusters with 176 cameras\u001b[0m\n",
      "\u001b[34mThere are 1 clusters with 310 cameras\u001b[0m\n",
      "Number of classes: 178\n",
      "\u001b[36mLearning Rate: 0.000350\u001b[0m\n",
      "encontrou modelos efficientnet. Carregando...\n",
      "encontrou modelos convnext. Carregando...\n",
      "encontrou modelos mobilenet. Carregando...\n",
      "encontrou modelos vgg16. Carregando...\n",
      "encontrou modelos resnet50. Carregando...\n",
      "encontrou modelos osnet. Carregando...\n",
      "encontrou modelos densenet121. Carregando...\n",
      "\u001b[33mValidating online efficientnet ...\u001b[0m\n",
      "Features extracted in 63.32 seconds\n",
      "Features extracted in 121.74 seconds\n",
      "Computing CMC and mAP ...\n",
      "** Results **\n",
      "mAP: 66.44%\n",
      "CMC curve\n",
      "Rank-1  : 45.27%\n",
      "Rank-5  : 81.23%\n",
      "Rank-10 : 92.71%\n",
      "Rank-20 : 98.74%\n",
      "\u001b[33mValidating momentum efficientnet ...\u001b[0m\n",
      "Features extracted in 60.12 seconds\n",
      "Features extracted in 119.55 seconds\n",
      "Computing CMC and mAP ...\n",
      "** Results **\n",
      "mAP: 66.35%\n",
      "CMC curve\n",
      "Rank-1  : 47.67%\n",
      "Rank-5  : 83.22%\n",
      "Rank-10 : 91.90%\n",
      "Rank-20 : 96.88%\n",
      "\u001b[33mValidating online convnext ...\u001b[0m\n",
      "Features extracted in 60.25 seconds\n",
      "Features extracted in 125.13 seconds\n",
      "Computing CMC and mAP ...\n",
      "** Results **\n",
      "mAP: 65.95%\n",
      "CMC curve\n",
      "Rank-1  : 45.01%\n",
      "Rank-5  : 73.92%\n",
      "Rank-10 : 84.08%\n",
      "Rank-20 : 92.69%\n",
      "\u001b[33mValidating momentum convnext ...\u001b[0m\n",
      "Features extracted in 66.55 seconds\n",
      "Features extracted in 123.74 seconds\n",
      "Computing CMC and mAP ...\n",
      "** Results **\n",
      "mAP: 64.97%\n",
      "CMC curve\n",
      "Rank-1  : 45.72%\n",
      "Rank-5  : 74.96%\n",
      "Rank-10 : 87.06%\n",
      "Rank-20 : 94.88%\n",
      "\u001b[33mValidating online mobilenet ...\u001b[0m\n",
      "Features extracted in 59.18 seconds\n",
      "Features extracted in 119.30 seconds\n",
      "Computing CMC and mAP ...\n",
      "** Results **\n",
      "mAP: 66.77%\n",
      "CMC curve\n",
      "Rank-1  : 53.46%\n",
      "Rank-5  : 85.98%\n",
      "Rank-10 : 93.64%\n",
      "Rank-20 : 98.44%\n",
      "\u001b[33mValidating momentum mobilenet ...\u001b[0m\n",
      "Features extracted in 58.34 seconds\n",
      "Features extracted in 118.32 seconds\n",
      "Computing CMC and mAP ...\n",
      "** Results **\n",
      "mAP: 66.43%\n",
      "CMC curve\n",
      "Rank-1  : 52.90%\n",
      "Rank-5  : 85.26%\n",
      "Rank-10 : 93.91%\n",
      "Rank-20 : 98.53%\n",
      "\u001b[33mValidating online vgg16 ...\u001b[0m\n",
      "Features extracted in 59.79 seconds\n",
      "Features extracted in 121.28 seconds\n",
      "Computing CMC and mAP ...\n",
      "** Results **\n",
      "mAP: 65.62%\n",
      "CMC curve\n",
      "Rank-1  : 46.16%\n",
      "Rank-5  : 76.20%\n",
      "Rank-10 : 85.61%\n",
      "Rank-20 : 92.69%\n",
      "\u001b[33mValidating momentum vgg16 ...\u001b[0m\n",
      "Features extracted in 61.67 seconds\n",
      "Features extracted in 121.09 seconds\n",
      "Computing CMC and mAP ...\n",
      "** Results **\n",
      "mAP: 65.60%\n",
      "CMC curve\n",
      "Rank-1  : 45.96%\n",
      "Rank-5  : 81.83%\n",
      "Rank-10 : 90.44%\n",
      "Rank-20 : 96.43%\n",
      "\u001b[33mValidating online resnet50 ...\u001b[0m\n",
      "Features extracted in 60.91 seconds\n",
      "Features extracted in 120.40 seconds\n",
      "Computing CMC and mAP ...\n",
      "** Results **\n",
      "mAP: 65.52%\n",
      "CMC curve\n",
      "Rank-1  : 48.57%\n",
      "Rank-5  : 73.66%\n",
      "Rank-10 : 81.49%\n",
      "Rank-20 : 89.43%\n",
      "\u001b[33mValidating momentum resnet50 ...\u001b[0m\n",
      "Features extracted in 59.59 seconds\n",
      "Features extracted in 119.61 seconds\n",
      "Computing CMC and mAP ...\n",
      "** Results **\n",
      "mAP: 64.98%\n",
      "CMC curve\n",
      "Rank-1  : 43.34%\n",
      "Rank-5  : 71.03%\n",
      "Rank-10 : 80.69%\n",
      "Rank-20 : 89.93%\n",
      "\u001b[33mValidating online osnet ...\u001b[0m\n",
      "Features extracted in 73.47 seconds\n",
      "Features extracted in 129.56 seconds\n",
      "Computing CMC and mAP ...\n",
      "** Results **\n",
      "mAP: 66.17%\n",
      "CMC curve\n",
      "Rank-1  : 46.27%\n",
      "Rank-5  : 79.73%\n",
      "Rank-10 : 90.06%\n",
      "Rank-20 : 96.66%\n",
      "\u001b[33mValidating momentum osnet ...\u001b[0m\n",
      "Features extracted in 65.28 seconds\n",
      "Features extracted in 119.11 seconds\n",
      "Computing CMC and mAP ...\n",
      "** Results **\n",
      "mAP: 67.06%\n",
      "CMC curve\n",
      "Rank-1  : 51.53%\n",
      "Rank-5  : 86.66%\n",
      "Rank-10 : 95.02%\n",
      "Rank-20 : 98.72%\n",
      "\u001b[33mValidating online densenet121 ...\u001b[0m\n",
      "Features extracted in 61.49 seconds\n",
      "Features extracted in 217.88 seconds\n",
      "Computing CMC and mAP ...\n",
      "** Results **\n",
      "mAP: 65.51%\n",
      "CMC curve\n",
      "Rank-1  : 47.23%\n",
      "Rank-5  : 71.30%\n",
      "Rank-10 : 80.04%\n",
      "Rank-20 : 90.32%\n",
      "\u001b[33mValidating momentum densenet121 ...\u001b[0m\n",
      "Features extracted in 130.40 seconds\n",
      "Features extracted in 247.38 seconds\n",
      "Computing CMC and mAP ...\n",
      "** Results **\n",
      "mAP: 65.70%\n",
      "CMC curve\n",
      "Rank-1  : 46.44%\n",
      "Rank-5  : 79.26%\n",
      "Rank-10 : 88.68%\n",
      "Rank-20 : 95.10%\n",
      "\u001b[33mValidating ensembled with online models ...\u001b[0m\n",
      "Computing CMC and mAP ...\n",
      "** Results **\n",
      "mAP: 65.79%\n",
      "Ranks:\n",
      "Rank-1  : 47.30%\n",
      "Rank-5  : 72.71%\n",
      "Rank-10 : 80.86%\n",
      "\u001b[33mValidating ensembled with momentum models ...\u001b[0m\n",
      "Computing CMC and mAP ...\n",
      "** Results **\n",
      "mAP: 65.37%\n",
      "Ranks:\n",
      "Rank-1  : 43.97%\n",
      "Rank-5  : 75.76%\n",
      "Rank-10 : 85.48%\n",
      "###============ Iteration number 11/30 ============###\n",
      "Extracting Online Features for efficientnet ...\n",
      "Features extracted in 238.90 seconds\n",
      "Computing jaccard distance...\n"
     ]
    },
    {
     "name": "stderr",
     "output_type": "stream",
     "text": [
      "bruteForceKnn is deprecated; call bfKnn instead\n"
     ]
    },
    {
     "name": "stdout",
     "output_type": "stream",
     "text": [
      "Jaccard distance computing time cost: 72.2450704574585\n",
      "Extracting Online Features for convnext ...\n",
      "Features extracted in 200.95 seconds\n",
      "Computing jaccard distance...\n"
     ]
    },
    {
     "name": "stderr",
     "output_type": "stream",
     "text": [
      "bruteForceKnn is deprecated; call bfKnn instead\n"
     ]
    },
    {
     "name": "stdout",
     "output_type": "stream",
     "text": [
      "Jaccard distance computing time cost: 68.88074731826782\n",
      "Extracting Online Features for mobilenet ...\n",
      "Features extracted in 249.54 seconds\n",
      "Computing jaccard distance...\n"
     ]
    },
    {
     "name": "stderr",
     "output_type": "stream",
     "text": [
      "bruteForceKnn is deprecated; call bfKnn instead\n"
     ]
    },
    {
     "name": "stdout",
     "output_type": "stream",
     "text": [
      "Jaccard distance computing time cost: 71.42753314971924\n",
      "Extracting Online Features for vgg16 ...\n",
      "Features extracted in 199.29 seconds\n",
      "Computing jaccard distance...\n"
     ]
    },
    {
     "name": "stderr",
     "output_type": "stream",
     "text": [
      "bruteForceKnn is deprecated; call bfKnn instead\n"
     ]
    },
    {
     "name": "stdout",
     "output_type": "stream",
     "text": [
      "Jaccard distance computing time cost: 64.47419238090515\n",
      "Extracting Online Features for resnet50 ...\n",
      "Features extracted in 198.52 seconds\n",
      "Computing jaccard distance...\n"
     ]
    },
    {
     "name": "stderr",
     "output_type": "stream",
     "text": [
      "bruteForceKnn is deprecated; call bfKnn instead\n"
     ]
    },
    {
     "name": "stdout",
     "output_type": "stream",
     "text": [
      "Jaccard distance computing time cost: 66.64543843269348\n",
      "Extracting Online Features for osnet ...\n",
      "Features extracted in 198.45 seconds\n",
      "Computing jaccard distance...\n"
     ]
    },
    {
     "name": "stderr",
     "output_type": "stream",
     "text": [
      "bruteForceKnn is deprecated; call bfKnn instead\n"
     ]
    },
    {
     "name": "stdout",
     "output_type": "stream",
     "text": [
      "Jaccard distance computing time cost: 64.24861001968384\n",
      "Extracting Online Features for densenet121 ...\n",
      "Features extracted in 193.67 seconds\n",
      "Computing jaccard distance...\n"
     ]
    },
    {
     "name": "stderr",
     "output_type": "stream",
     "text": [
      "bruteForceKnn is deprecated; call bfKnn instead\n"
     ]
    },
    {
     "name": "stdout",
     "output_type": "stream",
     "text": [
      "Jaccard distance computing time cost: 80.17419075965881\n",
      "Reliability: 0.090\n",
      "\u001b[32mMean Purity: 0.03055\u001b[0m\n",
      "\u001b[34mThere are 26 clusters with 4 cameras\u001b[0m\n",
      "\u001b[34mThere are 22 clusters with 5 cameras\u001b[0m\n",
      "\u001b[34mThere are 19 clusters with 6 cameras\u001b[0m\n",
      "\u001b[34mThere are 14 clusters with 7 cameras\u001b[0m\n",
      "\u001b[34mThere are 8 clusters with 8 cameras\u001b[0m\n",
      "\u001b[34mThere are 7 clusters with 9 cameras\u001b[0m\n",
      "\u001b[34mThere are 5 clusters with 10 cameras\u001b[0m\n",
      "\u001b[34mThere are 4 clusters with 11 cameras\u001b[0m\n",
      "\u001b[34mThere are 6 clusters with 12 cameras\u001b[0m\n",
      "\u001b[34mThere are 6 clusters with 13 cameras\u001b[0m\n",
      "\u001b[34mThere are 1 clusters with 14 cameras\u001b[0m\n",
      "\u001b[34mThere are 2 clusters with 15 cameras\u001b[0m\n",
      "\u001b[34mThere are 2 clusters with 16 cameras\u001b[0m\n",
      "\u001b[34mThere are 1 clusters with 17 cameras\u001b[0m\n",
      "\u001b[34mThere are 5 clusters with 18 cameras\u001b[0m\n",
      "\u001b[34mThere are 3 clusters with 19 cameras\u001b[0m\n",
      "\u001b[34mThere are 4 clusters with 20 cameras\u001b[0m\n",
      "\u001b[34mThere are 2 clusters with 21 cameras\u001b[0m\n",
      "\u001b[34mThere are 2 clusters with 22 cameras\u001b[0m\n",
      "\u001b[34mThere are 2 clusters with 23 cameras\u001b[0m\n",
      "\u001b[34mThere are 1 clusters with 24 cameras\u001b[0m\n",
      "\u001b[34mThere are 1 clusters with 26 cameras\u001b[0m\n",
      "\u001b[34mThere are 2 clusters with 27 cameras\u001b[0m\n",
      "\u001b[34mThere are 2 clusters with 30 cameras\u001b[0m\n",
      "\u001b[34mThere are 2 clusters with 32 cameras\u001b[0m\n",
      "\u001b[34mThere are 1 clusters with 33 cameras\u001b[0m\n",
      "\u001b[34mThere are 3 clusters with 35 cameras\u001b[0m\n",
      "\u001b[34mThere are 1 clusters with 37 cameras\u001b[0m\n",
      "\u001b[34mThere are 1 clusters with 38 cameras\u001b[0m\n",
      "\u001b[34mThere are 1 clusters with 40 cameras\u001b[0m\n",
      "\u001b[34mThere are 2 clusters with 43 cameras\u001b[0m\n",
      "\u001b[34mThere are 3 clusters with 44 cameras\u001b[0m\n",
      "\u001b[34mThere are 1 clusters with 45 cameras\u001b[0m\n",
      "\u001b[34mThere are 1 clusters with 46 cameras\u001b[0m\n",
      "\u001b[34mThere are 1 clusters with 51 cameras\u001b[0m\n",
      "\u001b[34mThere are 2 clusters with 52 cameras\u001b[0m\n",
      "\u001b[34mThere are 1 clusters with 56 cameras\u001b[0m\n",
      "\u001b[34mThere are 1 clusters with 58 cameras\u001b[0m\n",
      "\u001b[34mThere are 2 clusters with 59 cameras\u001b[0m\n",
      "\u001b[34mThere are 1 clusters with 61 cameras\u001b[0m\n",
      "\u001b[34mThere are 1 clusters with 62 cameras\u001b[0m\n",
      "\u001b[34mThere are 1 clusters with 85 cameras\u001b[0m\n",
      "\u001b[34mThere are 1 clusters with 92 cameras\u001b[0m\n",
      "\u001b[34mThere are 1 clusters with 110 cameras\u001b[0m\n",
      "\u001b[34mThere are 1 clusters with 116 cameras\u001b[0m\n",
      "\u001b[34mThere are 1 clusters with 176 cameras\u001b[0m\n",
      "\u001b[34mThere are 1 clusters with 310 cameras\u001b[0m\n",
      "Number of classes: 178\n",
      "\u001b[36mLearning Rate: 0.000350\u001b[0m\n",
      "encontrou modelos efficientnet. Carregando...\n",
      "encontrou modelos convnext. Carregando...\n",
      "encontrou modelos mobilenet. Carregando...\n",
      "encontrou modelos vgg16. Carregando...\n",
      "encontrou modelos resnet50. Carregando...\n",
      "encontrou modelos osnet. Carregando...\n",
      "encontrou modelos densenet121. Carregando...\n",
      "###============ Iteration number 12/30 ============###\n",
      "Extracting Online Features for efficientnet ...\n",
      "Features extracted in 407.79 seconds\n",
      "Computing jaccard distance...\n"
     ]
    },
    {
     "name": "stderr",
     "output_type": "stream",
     "text": [
      "bruteForceKnn is deprecated; call bfKnn instead\n"
     ]
    },
    {
     "name": "stdout",
     "output_type": "stream",
     "text": [
      "Jaccard distance computing time cost: 594.990611076355\n",
      "Extracting Online Features for convnext ...\n",
      "Features extracted in 414.92 seconds\n",
      "Computing jaccard distance...\n"
     ]
    },
    {
     "name": "stderr",
     "output_type": "stream",
     "text": [
      "bruteForceKnn is deprecated; call bfKnn instead\n"
     ]
    },
    {
     "name": "stdout",
     "output_type": "stream",
     "text": [
      "Jaccard distance computing time cost: 586.4096002578735\n",
      "Extracting Online Features for mobilenet ...\n",
      "Features extracted in 316.10 seconds\n",
      "Computing jaccard distance...\n"
     ]
    },
    {
     "name": "stderr",
     "output_type": "stream",
     "text": [
      "bruteForceKnn is deprecated; call bfKnn instead\n"
     ]
    },
    {
     "name": "stdout",
     "output_type": "stream",
     "text": [
      "Jaccard distance computing time cost: 73.00706958770752\n",
      "Extracting Online Features for vgg16 ...\n",
      "Features extracted in 243.11 seconds\n",
      "Computing jaccard distance...\n"
     ]
    },
    {
     "name": "stderr",
     "output_type": "stream",
     "text": [
      "bruteForceKnn is deprecated; call bfKnn instead\n"
     ]
    },
    {
     "name": "stdout",
     "output_type": "stream",
     "text": [
      "Jaccard distance computing time cost: 74.63723564147949\n",
      "Extracting Online Features for resnet50 ...\n",
      "Features extracted in 240.44 seconds\n",
      "Computing jaccard distance...\n"
     ]
    },
    {
     "name": "stderr",
     "output_type": "stream",
     "text": [
      "bruteForceKnn is deprecated; call bfKnn instead\n"
     ]
    },
    {
     "name": "stdout",
     "output_type": "stream",
     "text": [
      "Jaccard distance computing time cost: 74.77590990066528\n",
      "Extracting Online Features for osnet ...\n",
      "Features extracted in 243.29 seconds\n",
      "Computing jaccard distance...\n"
     ]
    },
    {
     "name": "stderr",
     "output_type": "stream",
     "text": [
      "bruteForceKnn is deprecated; call bfKnn instead\n"
     ]
    },
    {
     "name": "stdout",
     "output_type": "stream",
     "text": [
      "Jaccard distance computing time cost: 74.11299538612366\n",
      "Extracting Online Features for densenet121 ...\n",
      "Features extracted in 240.69 seconds\n",
      "Computing jaccard distance...\n"
     ]
    },
    {
     "name": "stderr",
     "output_type": "stream",
     "text": [
      "bruteForceKnn is deprecated; call bfKnn instead\n"
     ]
    },
    {
     "name": "stdout",
     "output_type": "stream",
     "text": [
      "Jaccard distance computing time cost: 79.7927839756012\n",
      "Reliability: 0.090\n",
      "\u001b[32mMean Purity: 0.03055\u001b[0m\n",
      "\u001b[34mThere are 26 clusters with 4 cameras\u001b[0m\n",
      "\u001b[34mThere are 22 clusters with 5 cameras\u001b[0m\n",
      "\u001b[34mThere are 19 clusters with 6 cameras\u001b[0m\n",
      "\u001b[34mThere are 14 clusters with 7 cameras\u001b[0m\n",
      "\u001b[34mThere are 8 clusters with 8 cameras\u001b[0m\n",
      "\u001b[34mThere are 7 clusters with 9 cameras\u001b[0m\n",
      "\u001b[34mThere are 5 clusters with 10 cameras\u001b[0m\n",
      "\u001b[34mThere are 4 clusters with 11 cameras\u001b[0m\n",
      "\u001b[34mThere are 6 clusters with 12 cameras\u001b[0m\n",
      "\u001b[34mThere are 6 clusters with 13 cameras\u001b[0m\n",
      "\u001b[34mThere are 1 clusters with 14 cameras\u001b[0m\n",
      "\u001b[34mThere are 2 clusters with 15 cameras\u001b[0m\n",
      "\u001b[34mThere are 2 clusters with 16 cameras\u001b[0m\n",
      "\u001b[34mThere are 1 clusters with 17 cameras\u001b[0m\n",
      "\u001b[34mThere are 5 clusters with 18 cameras\u001b[0m\n",
      "\u001b[34mThere are 3 clusters with 19 cameras\u001b[0m\n",
      "\u001b[34mThere are 4 clusters with 20 cameras\u001b[0m\n",
      "\u001b[34mThere are 2 clusters with 21 cameras\u001b[0m\n",
      "\u001b[34mThere are 2 clusters with 22 cameras\u001b[0m\n",
      "\u001b[34mThere are 2 clusters with 23 cameras\u001b[0m\n",
      "\u001b[34mThere are 1 clusters with 24 cameras\u001b[0m\n",
      "\u001b[34mThere are 1 clusters with 26 cameras\u001b[0m\n",
      "\u001b[34mThere are 2 clusters with 27 cameras\u001b[0m\n",
      "\u001b[34mThere are 2 clusters with 30 cameras\u001b[0m\n",
      "\u001b[34mThere are 2 clusters with 32 cameras\u001b[0m\n",
      "\u001b[34mThere are 1 clusters with 33 cameras\u001b[0m\n",
      "\u001b[34mThere are 3 clusters with 35 cameras\u001b[0m\n",
      "\u001b[34mThere are 1 clusters with 37 cameras\u001b[0m\n",
      "\u001b[34mThere are 1 clusters with 38 cameras\u001b[0m\n",
      "\u001b[34mThere are 1 clusters with 40 cameras\u001b[0m\n",
      "\u001b[34mThere are 2 clusters with 43 cameras\u001b[0m\n",
      "\u001b[34mThere are 3 clusters with 44 cameras\u001b[0m\n",
      "\u001b[34mThere are 1 clusters with 45 cameras\u001b[0m\n",
      "\u001b[34mThere are 1 clusters with 46 cameras\u001b[0m\n",
      "\u001b[34mThere are 1 clusters with 51 cameras\u001b[0m\n",
      "\u001b[34mThere are 2 clusters with 52 cameras\u001b[0m\n",
      "\u001b[34mThere are 1 clusters with 56 cameras\u001b[0m\n",
      "\u001b[34mThere are 1 clusters with 58 cameras\u001b[0m\n",
      "\u001b[34mThere are 2 clusters with 59 cameras\u001b[0m\n",
      "\u001b[34mThere are 1 clusters with 61 cameras\u001b[0m\n",
      "\u001b[34mThere are 1 clusters with 62 cameras\u001b[0m\n",
      "\u001b[34mThere are 1 clusters with 85 cameras\u001b[0m\n",
      "\u001b[34mThere are 1 clusters with 92 cameras\u001b[0m\n",
      "\u001b[34mThere are 1 clusters with 110 cameras\u001b[0m\n",
      "\u001b[34mThere are 1 clusters with 116 cameras\u001b[0m\n",
      "\u001b[34mThere are 1 clusters with 176 cameras\u001b[0m\n",
      "\u001b[34mThere are 1 clusters with 310 cameras\u001b[0m\n",
      "Number of classes: 178\n",
      "\u001b[36mLearning Rate: 0.000350\u001b[0m\n",
      "encontrou modelos efficientnet. Carregando...\n",
      "encontrou modelos convnext. Carregando...\n",
      "encontrou modelos mobilenet. Carregando...\n",
      "encontrou modelos vgg16. Carregando...\n",
      "encontrou modelos resnet50. Carregando...\n",
      "encontrou modelos osnet. Carregando...\n",
      "encontrou modelos densenet121. Carregando...\n",
      "###============ Iteration number 13/30 ============###\n",
      "Extracting Online Features for efficientnet ...\n",
      "Features extracted in 246.11 seconds\n",
      "Computing jaccard distance...\n"
     ]
    },
    {
     "name": "stderr",
     "output_type": "stream",
     "text": [
      "bruteForceKnn is deprecated; call bfKnn instead\n"
     ]
    },
    {
     "name": "stdout",
     "output_type": "stream",
     "text": [
      "Jaccard distance computing time cost: 79.24688529968262\n",
      "Extracting Online Features for convnext ...\n",
      "Features extracted in 248.76 seconds\n",
      "Computing jaccard distance...\n"
     ]
    },
    {
     "name": "stderr",
     "output_type": "stream",
     "text": [
      "bruteForceKnn is deprecated; call bfKnn instead\n"
     ]
    },
    {
     "name": "stdout",
     "output_type": "stream",
     "text": [
      "Jaccard distance computing time cost: 74.61891722679138\n",
      "Extracting Online Features for mobilenet ...\n",
      "Features extracted in 240.74 seconds\n",
      "Computing jaccard distance...\n"
     ]
    },
    {
     "name": "stderr",
     "output_type": "stream",
     "text": [
      "bruteForceKnn is deprecated; call bfKnn instead\n"
     ]
    },
    {
     "name": "stdout",
     "output_type": "stream",
     "text": [
      "Jaccard distance computing time cost: 73.2289674282074\n",
      "Extracting Online Features for vgg16 ...\n",
      "Features extracted in 244.08 seconds\n",
      "Computing jaccard distance...\n"
     ]
    },
    {
     "name": "stderr",
     "output_type": "stream",
     "text": [
      "bruteForceKnn is deprecated; call bfKnn instead\n"
     ]
    },
    {
     "name": "stdout",
     "output_type": "stream",
     "text": [
      "Jaccard distance computing time cost: 73.01850843429565\n",
      "Extracting Online Features for resnet50 ...\n",
      "Features extracted in 242.36 seconds\n",
      "Computing jaccard distance...\n"
     ]
    },
    {
     "name": "stderr",
     "output_type": "stream",
     "text": [
      "bruteForceKnn is deprecated; call bfKnn instead\n"
     ]
    },
    {
     "name": "stdout",
     "output_type": "stream",
     "text": [
      "Jaccard distance computing time cost: 79.30440378189087\n",
      "Extracting Online Features for osnet ...\n",
      "Features extracted in 238.61 seconds\n",
      "Computing jaccard distance...\n"
     ]
    },
    {
     "name": "stderr",
     "output_type": "stream",
     "text": [
      "bruteForceKnn is deprecated; call bfKnn instead\n"
     ]
    },
    {
     "name": "stdout",
     "output_type": "stream",
     "text": [
      "Jaccard distance computing time cost: 72.54880571365356\n",
      "Extracting Online Features for densenet121 ...\n",
      "Features extracted in 238.47 seconds\n",
      "Computing jaccard distance...\n"
     ]
    },
    {
     "name": "stderr",
     "output_type": "stream",
     "text": [
      "bruteForceKnn is deprecated; call bfKnn instead\n"
     ]
    },
    {
     "name": "stdout",
     "output_type": "stream",
     "text": [
      "Jaccard distance computing time cost: 76.32742834091187\n",
      "Reliability: 0.090\n",
      "\u001b[32mMean Purity: 0.03055\u001b[0m\n",
      "\u001b[34mThere are 26 clusters with 4 cameras\u001b[0m\n",
      "\u001b[34mThere are 22 clusters with 5 cameras\u001b[0m\n",
      "\u001b[34mThere are 19 clusters with 6 cameras\u001b[0m\n",
      "\u001b[34mThere are 14 clusters with 7 cameras\u001b[0m\n",
      "\u001b[34mThere are 8 clusters with 8 cameras\u001b[0m\n",
      "\u001b[34mThere are 7 clusters with 9 cameras\u001b[0m\n",
      "\u001b[34mThere are 5 clusters with 10 cameras\u001b[0m\n",
      "\u001b[34mThere are 4 clusters with 11 cameras\u001b[0m\n",
      "\u001b[34mThere are 6 clusters with 12 cameras\u001b[0m\n",
      "\u001b[34mThere are 6 clusters with 13 cameras\u001b[0m\n",
      "\u001b[34mThere are 1 clusters with 14 cameras\u001b[0m\n",
      "\u001b[34mThere are 2 clusters with 15 cameras\u001b[0m\n",
      "\u001b[34mThere are 2 clusters with 16 cameras\u001b[0m\n",
      "\u001b[34mThere are 1 clusters with 17 cameras\u001b[0m\n",
      "\u001b[34mThere are 5 clusters with 18 cameras\u001b[0m\n",
      "\u001b[34mThere are 3 clusters with 19 cameras\u001b[0m\n",
      "\u001b[34mThere are 4 clusters with 20 cameras\u001b[0m\n",
      "\u001b[34mThere are 2 clusters with 21 cameras\u001b[0m\n",
      "\u001b[34mThere are 2 clusters with 22 cameras\u001b[0m\n",
      "\u001b[34mThere are 2 clusters with 23 cameras\u001b[0m\n",
      "\u001b[34mThere are 1 clusters with 24 cameras\u001b[0m\n",
      "\u001b[34mThere are 1 clusters with 26 cameras\u001b[0m\n",
      "\u001b[34mThere are 2 clusters with 27 cameras\u001b[0m\n",
      "\u001b[34mThere are 2 clusters with 30 cameras\u001b[0m\n",
      "\u001b[34mThere are 2 clusters with 32 cameras\u001b[0m\n",
      "\u001b[34mThere are 1 clusters with 33 cameras\u001b[0m\n",
      "\u001b[34mThere are 3 clusters with 35 cameras\u001b[0m\n",
      "\u001b[34mThere are 1 clusters with 37 cameras\u001b[0m\n",
      "\u001b[34mThere are 1 clusters with 38 cameras\u001b[0m\n",
      "\u001b[34mThere are 1 clusters with 40 cameras\u001b[0m\n",
      "\u001b[34mThere are 2 clusters with 43 cameras\u001b[0m\n",
      "\u001b[34mThere are 3 clusters with 44 cameras\u001b[0m\n",
      "\u001b[34mThere are 1 clusters with 45 cameras\u001b[0m\n",
      "\u001b[34mThere are 1 clusters with 46 cameras\u001b[0m\n",
      "\u001b[34mThere are 1 clusters with 51 cameras\u001b[0m\n",
      "\u001b[34mThere are 2 clusters with 52 cameras\u001b[0m\n",
      "\u001b[34mThere are 1 clusters with 56 cameras\u001b[0m\n",
      "\u001b[34mThere are 1 clusters with 58 cameras\u001b[0m\n",
      "\u001b[34mThere are 2 clusters with 59 cameras\u001b[0m\n",
      "\u001b[34mThere are 1 clusters with 61 cameras\u001b[0m\n",
      "\u001b[34mThere are 1 clusters with 62 cameras\u001b[0m\n",
      "\u001b[34mThere are 1 clusters with 85 cameras\u001b[0m\n",
      "\u001b[34mThere are 1 clusters with 92 cameras\u001b[0m\n",
      "\u001b[34mThere are 1 clusters with 110 cameras\u001b[0m\n",
      "\u001b[34mThere are 1 clusters with 116 cameras\u001b[0m\n",
      "\u001b[34mThere are 1 clusters with 176 cameras\u001b[0m\n",
      "\u001b[34mThere are 1 clusters with 310 cameras\u001b[0m\n",
      "Number of classes: 178\n",
      "\u001b[36mLearning Rate: 0.000350\u001b[0m\n",
      "encontrou modelos efficientnet. Carregando...\n",
      "encontrou modelos convnext. Carregando...\n",
      "encontrou modelos mobilenet. Carregando...\n",
      "encontrou modelos vgg16. Carregando...\n",
      "encontrou modelos resnet50. Carregando...\n",
      "encontrou modelos osnet. Carregando...\n",
      "encontrou modelos densenet121. Carregando...\n",
      "###============ Iteration number 14/30 ============###\n",
      "Extracting Online Features for efficientnet ...\n",
      "Features extracted in 241.91 seconds\n",
      "Computing jaccard distance...\n"
     ]
    },
    {
     "name": "stderr",
     "output_type": "stream",
     "text": [
      "bruteForceKnn is deprecated; call bfKnn instead\n"
     ]
    },
    {
     "name": "stdout",
     "output_type": "stream",
     "text": [
      "Jaccard distance computing time cost: 78.95875406265259\n",
      "Extracting Online Features for convnext ...\n",
      "Features extracted in 240.99 seconds\n",
      "Computing jaccard distance...\n"
     ]
    },
    {
     "name": "stderr",
     "output_type": "stream",
     "text": [
      "bruteForceKnn is deprecated; call bfKnn instead\n"
     ]
    },
    {
     "name": "stdout",
     "output_type": "stream",
     "text": [
      "Jaccard distance computing time cost: 75.31849479675293\n",
      "Extracting Online Features for mobilenet ...\n",
      "Features extracted in 240.66 seconds\n",
      "Computing jaccard distance...\n"
     ]
    },
    {
     "name": "stderr",
     "output_type": "stream",
     "text": [
      "bruteForceKnn is deprecated; call bfKnn instead\n"
     ]
    },
    {
     "name": "stdout",
     "output_type": "stream",
     "text": [
      "Jaccard distance computing time cost: 74.29563570022583\n",
      "Extracting Online Features for vgg16 ...\n",
      "Features extracted in 241.27 seconds\n",
      "Computing jaccard distance...\n"
     ]
    },
    {
     "name": "stderr",
     "output_type": "stream",
     "text": [
      "bruteForceKnn is deprecated; call bfKnn instead\n"
     ]
    },
    {
     "name": "stdout",
     "output_type": "stream",
     "text": [
      "Jaccard distance computing time cost: 75.10273933410645\n",
      "Extracting Online Features for resnet50 ...\n",
      "Features extracted in 242.78 seconds\n",
      "Computing jaccard distance...\n"
     ]
    },
    {
     "name": "stderr",
     "output_type": "stream",
     "text": [
      "bruteForceKnn is deprecated; call bfKnn instead\n"
     ]
    },
    {
     "name": "stdout",
     "output_type": "stream",
     "text": [
      "Jaccard distance computing time cost: 79.492835521698\n",
      "Extracting Online Features for osnet ...\n",
      "Features extracted in 240.81 seconds\n",
      "Computing jaccard distance...\n"
     ]
    },
    {
     "name": "stderr",
     "output_type": "stream",
     "text": [
      "bruteForceKnn is deprecated; call bfKnn instead\n"
     ]
    },
    {
     "name": "stdout",
     "output_type": "stream",
     "text": [
      "Jaccard distance computing time cost: 74.26450395584106\n",
      "Extracting Online Features for densenet121 ...\n",
      "Features extracted in 241.66 seconds\n",
      "Computing jaccard distance...\n"
     ]
    },
    {
     "name": "stderr",
     "output_type": "stream",
     "text": [
      "bruteForceKnn is deprecated; call bfKnn instead\n"
     ]
    },
    {
     "name": "stdout",
     "output_type": "stream",
     "text": [
      "Jaccard distance computing time cost: 76.04714035987854\n",
      "Reliability: 0.090\n",
      "\u001b[32mMean Purity: 0.03055\u001b[0m\n",
      "\u001b[34mThere are 26 clusters with 4 cameras\u001b[0m\n",
      "\u001b[34mThere are 22 clusters with 5 cameras\u001b[0m\n",
      "\u001b[34mThere are 19 clusters with 6 cameras\u001b[0m\n",
      "\u001b[34mThere are 14 clusters with 7 cameras\u001b[0m\n",
      "\u001b[34mThere are 8 clusters with 8 cameras\u001b[0m\n",
      "\u001b[34mThere are 7 clusters with 9 cameras\u001b[0m\n",
      "\u001b[34mThere are 5 clusters with 10 cameras\u001b[0m\n",
      "\u001b[34mThere are 4 clusters with 11 cameras\u001b[0m\n",
      "\u001b[34mThere are 6 clusters with 12 cameras\u001b[0m\n",
      "\u001b[34mThere are 6 clusters with 13 cameras\u001b[0m\n",
      "\u001b[34mThere are 1 clusters with 14 cameras\u001b[0m\n",
      "\u001b[34mThere are 2 clusters with 15 cameras\u001b[0m\n",
      "\u001b[34mThere are 2 clusters with 16 cameras\u001b[0m\n",
      "\u001b[34mThere are 1 clusters with 17 cameras\u001b[0m\n",
      "\u001b[34mThere are 5 clusters with 18 cameras\u001b[0m\n",
      "\u001b[34mThere are 3 clusters with 19 cameras\u001b[0m\n",
      "\u001b[34mThere are 4 clusters with 20 cameras\u001b[0m\n",
      "\u001b[34mThere are 2 clusters with 21 cameras\u001b[0m\n",
      "\u001b[34mThere are 2 clusters with 22 cameras\u001b[0m\n",
      "\u001b[34mThere are 2 clusters with 23 cameras\u001b[0m\n",
      "\u001b[34mThere are 1 clusters with 24 cameras\u001b[0m\n",
      "\u001b[34mThere are 1 clusters with 26 cameras\u001b[0m\n",
      "\u001b[34mThere are 2 clusters with 27 cameras\u001b[0m\n",
      "\u001b[34mThere are 2 clusters with 30 cameras\u001b[0m\n",
      "\u001b[34mThere are 2 clusters with 32 cameras\u001b[0m\n",
      "\u001b[34mThere are 1 clusters with 33 cameras\u001b[0m\n",
      "\u001b[34mThere are 3 clusters with 35 cameras\u001b[0m\n",
      "\u001b[34mThere are 1 clusters with 37 cameras\u001b[0m\n",
      "\u001b[34mThere are 1 clusters with 38 cameras\u001b[0m\n",
      "\u001b[34mThere are 1 clusters with 40 cameras\u001b[0m\n",
      "\u001b[34mThere are 2 clusters with 43 cameras\u001b[0m\n",
      "\u001b[34mThere are 3 clusters with 44 cameras\u001b[0m\n",
      "\u001b[34mThere are 1 clusters with 45 cameras\u001b[0m\n",
      "\u001b[34mThere are 1 clusters with 46 cameras\u001b[0m\n",
      "\u001b[34mThere are 1 clusters with 51 cameras\u001b[0m\n",
      "\u001b[34mThere are 2 clusters with 52 cameras\u001b[0m\n",
      "\u001b[34mThere are 1 clusters with 56 cameras\u001b[0m\n",
      "\u001b[34mThere are 1 clusters with 58 cameras\u001b[0m\n",
      "\u001b[34mThere are 2 clusters with 59 cameras\u001b[0m\n",
      "\u001b[34mThere are 1 clusters with 61 cameras\u001b[0m\n",
      "\u001b[34mThere are 1 clusters with 62 cameras\u001b[0m\n",
      "\u001b[34mThere are 1 clusters with 85 cameras\u001b[0m\n",
      "\u001b[34mThere are 1 clusters with 92 cameras\u001b[0m\n",
      "\u001b[34mThere are 1 clusters with 110 cameras\u001b[0m\n",
      "\u001b[34mThere are 1 clusters with 116 cameras\u001b[0m\n",
      "\u001b[34mThere are 1 clusters with 176 cameras\u001b[0m\n",
      "\u001b[34mThere are 1 clusters with 310 cameras\u001b[0m\n",
      "Number of classes: 178\n",
      "\u001b[36mLearning Rate: 0.000350\u001b[0m\n",
      "encontrou modelos efficientnet. Carregando...\n",
      "encontrou modelos convnext. Carregando...\n",
      "encontrou modelos mobilenet. Carregando...\n",
      "encontrou modelos vgg16. Carregando...\n",
      "encontrou modelos resnet50. Carregando...\n",
      "encontrou modelos osnet. Carregando...\n",
      "encontrou modelos densenet121. Carregando...\n",
      "###============ Iteration number 15/30 ============###\n",
      "Extracting Online Features for efficientnet ...\n",
      "Features extracted in 245.02 seconds\n",
      "Computing jaccard distance...\n"
     ]
    },
    {
     "name": "stderr",
     "output_type": "stream",
     "text": [
      "bruteForceKnn is deprecated; call bfKnn instead\n"
     ]
    },
    {
     "name": "stdout",
     "output_type": "stream",
     "text": [
      "Jaccard distance computing time cost: 78.21740055084229\n",
      "Extracting Online Features for convnext ...\n",
      "Features extracted in 239.39 seconds\n",
      "Computing jaccard distance...\n"
     ]
    },
    {
     "name": "stderr",
     "output_type": "stream",
     "text": [
      "bruteForceKnn is deprecated; call bfKnn instead\n"
     ]
    },
    {
     "name": "stdout",
     "output_type": "stream",
     "text": [
      "Jaccard distance computing time cost: 76.41971492767334\n",
      "Extracting Online Features for mobilenet ...\n",
      "Features extracted in 238.66 seconds\n",
      "Computing jaccard distance...\n"
     ]
    },
    {
     "name": "stderr",
     "output_type": "stream",
     "text": [
      "bruteForceKnn is deprecated; call bfKnn instead\n"
     ]
    },
    {
     "name": "stdout",
     "output_type": "stream",
     "text": [
      "Jaccard distance computing time cost: 73.28616070747375\n",
      "Extracting Online Features for vgg16 ...\n",
      "Features extracted in 244.63 seconds\n",
      "Computing jaccard distance...\n"
     ]
    },
    {
     "name": "stderr",
     "output_type": "stream",
     "text": [
      "bruteForceKnn is deprecated; call bfKnn instead\n"
     ]
    },
    {
     "name": "stdout",
     "output_type": "stream",
     "text": [
      "Jaccard distance computing time cost: 74.82216477394104\n",
      "Extracting Online Features for resnet50 ...\n",
      "Features extracted in 241.86 seconds\n",
      "Computing jaccard distance...\n"
     ]
    },
    {
     "name": "stderr",
     "output_type": "stream",
     "text": [
      "bruteForceKnn is deprecated; call bfKnn instead\n"
     ]
    },
    {
     "name": "stdout",
     "output_type": "stream",
     "text": [
      "Jaccard distance computing time cost: 75.50481605529785\n",
      "Extracting Online Features for osnet ...\n",
      "Features extracted in 238.23 seconds\n",
      "Computing jaccard distance...\n"
     ]
    },
    {
     "name": "stderr",
     "output_type": "stream",
     "text": [
      "bruteForceKnn is deprecated; call bfKnn instead\n"
     ]
    },
    {
     "name": "stdout",
     "output_type": "stream",
     "text": [
      "Jaccard distance computing time cost: 73.70055937767029\n",
      "Extracting Online Features for densenet121 ...\n",
      "Features extracted in 239.43 seconds\n",
      "Computing jaccard distance...\n"
     ]
    },
    {
     "name": "stderr",
     "output_type": "stream",
     "text": [
      "bruteForceKnn is deprecated; call bfKnn instead\n"
     ]
    },
    {
     "name": "stdout",
     "output_type": "stream",
     "text": [
      "Jaccard distance computing time cost: 77.62494230270386\n",
      "Reliability: 0.090\n",
      "\u001b[32mMean Purity: 0.03055\u001b[0m\n",
      "\u001b[34mThere are 26 clusters with 4 cameras\u001b[0m\n",
      "\u001b[34mThere are 22 clusters with 5 cameras\u001b[0m\n",
      "\u001b[34mThere are 19 clusters with 6 cameras\u001b[0m\n",
      "\u001b[34mThere are 14 clusters with 7 cameras\u001b[0m\n",
      "\u001b[34mThere are 8 clusters with 8 cameras\u001b[0m\n",
      "\u001b[34mThere are 7 clusters with 9 cameras\u001b[0m\n",
      "\u001b[34mThere are 5 clusters with 10 cameras\u001b[0m\n",
      "\u001b[34mThere are 4 clusters with 11 cameras\u001b[0m\n",
      "\u001b[34mThere are 6 clusters with 12 cameras\u001b[0m\n",
      "\u001b[34mThere are 6 clusters with 13 cameras\u001b[0m\n",
      "\u001b[34mThere are 1 clusters with 14 cameras\u001b[0m\n",
      "\u001b[34mThere are 2 clusters with 15 cameras\u001b[0m\n",
      "\u001b[34mThere are 2 clusters with 16 cameras\u001b[0m\n",
      "\u001b[34mThere are 1 clusters with 17 cameras\u001b[0m\n",
      "\u001b[34mThere are 5 clusters with 18 cameras\u001b[0m\n",
      "\u001b[34mThere are 3 clusters with 19 cameras\u001b[0m\n",
      "\u001b[34mThere are 4 clusters with 20 cameras\u001b[0m\n",
      "\u001b[34mThere are 2 clusters with 21 cameras\u001b[0m\n",
      "\u001b[34mThere are 2 clusters with 22 cameras\u001b[0m\n",
      "\u001b[34mThere are 2 clusters with 23 cameras\u001b[0m\n",
      "\u001b[34mThere are 1 clusters with 24 cameras\u001b[0m\n",
      "\u001b[34mThere are 1 clusters with 26 cameras\u001b[0m\n",
      "\u001b[34mThere are 2 clusters with 27 cameras\u001b[0m\n",
      "\u001b[34mThere are 2 clusters with 30 cameras\u001b[0m\n",
      "\u001b[34mThere are 2 clusters with 32 cameras\u001b[0m\n",
      "\u001b[34mThere are 1 clusters with 33 cameras\u001b[0m\n",
      "\u001b[34mThere are 3 clusters with 35 cameras\u001b[0m\n",
      "\u001b[34mThere are 1 clusters with 37 cameras\u001b[0m\n",
      "\u001b[34mThere are 1 clusters with 38 cameras\u001b[0m\n",
      "\u001b[34mThere are 1 clusters with 40 cameras\u001b[0m\n",
      "\u001b[34mThere are 2 clusters with 43 cameras\u001b[0m\n",
      "\u001b[34mThere are 3 clusters with 44 cameras\u001b[0m\n",
      "\u001b[34mThere are 1 clusters with 45 cameras\u001b[0m\n",
      "\u001b[34mThere are 1 clusters with 46 cameras\u001b[0m\n",
      "\u001b[34mThere are 1 clusters with 51 cameras\u001b[0m\n",
      "\u001b[34mThere are 2 clusters with 52 cameras\u001b[0m\n",
      "\u001b[34mThere are 1 clusters with 56 cameras\u001b[0m\n",
      "\u001b[34mThere are 1 clusters with 58 cameras\u001b[0m\n",
      "\u001b[34mThere are 2 clusters with 59 cameras\u001b[0m\n",
      "\u001b[34mThere are 1 clusters with 61 cameras\u001b[0m\n",
      "\u001b[34mThere are 1 clusters with 62 cameras\u001b[0m\n",
      "\u001b[34mThere are 1 clusters with 85 cameras\u001b[0m\n",
      "\u001b[34mThere are 1 clusters with 92 cameras\u001b[0m\n",
      "\u001b[34mThere are 1 clusters with 110 cameras\u001b[0m\n",
      "\u001b[34mThere are 1 clusters with 116 cameras\u001b[0m\n",
      "\u001b[34mThere are 1 clusters with 176 cameras\u001b[0m\n",
      "\u001b[34mThere are 1 clusters with 310 cameras\u001b[0m\n",
      "Number of classes: 178\n",
      "\u001b[36mLearning Rate: 0.000350\u001b[0m\n",
      "encontrou modelos efficientnet. Carregando...\n",
      "encontrou modelos convnext. Carregando...\n",
      "encontrou modelos mobilenet. Carregando...\n",
      "encontrou modelos vgg16. Carregando...\n",
      "encontrou modelos resnet50. Carregando...\n",
      "encontrou modelos osnet. Carregando...\n",
      "encontrou modelos densenet121. Carregando...\n",
      "\u001b[33mValidating online efficientnet ...\u001b[0m\n",
      "Features extracted in 74.75 seconds\n",
      "Features extracted in 152.13 seconds\n",
      "Computing CMC and mAP ...\n",
      "** Results **\n",
      "mAP: 66.44%\n",
      "CMC curve\n",
      "Rank-1  : 45.27%\n",
      "Rank-5  : 81.23%\n",
      "Rank-10 : 92.71%\n",
      "Rank-20 : 98.74%\n",
      "\u001b[33mValidating momentum efficientnet ...\u001b[0m\n",
      "Features extracted in 74.43 seconds\n",
      "Features extracted in 148.24 seconds\n",
      "Computing CMC and mAP ...\n",
      "** Results **\n",
      "mAP: 66.35%\n",
      "CMC curve\n",
      "Rank-1  : 47.67%\n",
      "Rank-5  : 83.22%\n",
      "Rank-10 : 91.90%\n",
      "Rank-20 : 96.88%\n",
      "\u001b[33mValidating online convnext ...\u001b[0m\n",
      "Features extracted in 76.44 seconds\n",
      "Features extracted in 152.81 seconds\n",
      "Computing CMC and mAP ...\n",
      "** Results **\n",
      "mAP: 65.95%\n",
      "CMC curve\n",
      "Rank-1  : 45.01%\n",
      "Rank-5  : 73.92%\n",
      "Rank-10 : 84.08%\n",
      "Rank-20 : 92.69%\n",
      "\u001b[33mValidating momentum convnext ...\u001b[0m\n",
      "Features extracted in 75.70 seconds\n",
      "Features extracted in 150.79 seconds\n",
      "Computing CMC and mAP ...\n",
      "** Results **\n",
      "mAP: 64.97%\n",
      "CMC curve\n",
      "Rank-1  : 45.72%\n",
      "Rank-5  : 74.96%\n",
      "Rank-10 : 87.06%\n",
      "Rank-20 : 94.88%\n",
      "\u001b[33mValidating online mobilenet ...\u001b[0m\n",
      "Features extracted in 73.36 seconds\n",
      "Features extracted in 146.60 seconds\n",
      "Computing CMC and mAP ...\n",
      "** Results **\n",
      "mAP: 66.77%\n",
      "CMC curve\n",
      "Rank-1  : 53.46%\n",
      "Rank-5  : 85.98%\n",
      "Rank-10 : 93.64%\n",
      "Rank-20 : 98.44%\n",
      "\u001b[33mValidating momentum mobilenet ...\u001b[0m\n",
      "Features extracted in 73.44 seconds\n",
      "Features extracted in 147.01 seconds\n",
      "Computing CMC and mAP ...\n",
      "** Results **\n",
      "mAP: 66.43%\n",
      "CMC curve\n",
      "Rank-1  : 52.90%\n",
      "Rank-5  : 85.26%\n",
      "Rank-10 : 93.91%\n",
      "Rank-20 : 98.53%\n",
      "\u001b[33mValidating online vgg16 ...\u001b[0m\n",
      "Features extracted in 76.93 seconds\n",
      "Features extracted in 151.60 seconds\n",
      "Computing CMC and mAP ...\n",
      "** Results **\n",
      "mAP: 65.62%\n",
      "CMC curve\n",
      "Rank-1  : 46.16%\n",
      "Rank-5  : 76.20%\n",
      "Rank-10 : 85.61%\n",
      "Rank-20 : 92.69%\n",
      "\u001b[33mValidating momentum vgg16 ...\u001b[0m\n",
      "Features extracted in 74.66 seconds\n",
      "Features extracted in 151.57 seconds\n",
      "Computing CMC and mAP ...\n",
      "** Results **\n",
      "mAP: 65.60%\n",
      "CMC curve\n",
      "Rank-1  : 45.96%\n",
      "Rank-5  : 81.83%\n",
      "Rank-10 : 90.44%\n",
      "Rank-20 : 96.43%\n",
      "\u001b[33mValidating online resnet50 ...\u001b[0m\n",
      "Features extracted in 74.00 seconds\n",
      "Features extracted in 148.53 seconds\n",
      "Computing CMC and mAP ...\n",
      "** Results **\n",
      "mAP: 65.52%\n",
      "CMC curve\n",
      "Rank-1  : 48.57%\n",
      "Rank-5  : 73.66%\n",
      "Rank-10 : 81.49%\n",
      "Rank-20 : 89.43%\n",
      "\u001b[33mValidating momentum resnet50 ...\u001b[0m\n",
      "Features extracted in 74.81 seconds\n",
      "Features extracted in 149.58 seconds\n",
      "Computing CMC and mAP ...\n",
      "** Results **\n",
      "mAP: 64.98%\n",
      "CMC curve\n",
      "Rank-1  : 43.34%\n",
      "Rank-5  : 71.03%\n",
      "Rank-10 : 80.69%\n",
      "Rank-20 : 89.93%\n",
      "\u001b[33mValidating online osnet ...\u001b[0m\n",
      "Features extracted in 73.12 seconds\n",
      "Features extracted in 147.59 seconds\n",
      "Computing CMC and mAP ...\n",
      "** Results **\n",
      "mAP: 66.17%\n",
      "CMC curve\n",
      "Rank-1  : 46.27%\n",
      "Rank-5  : 79.73%\n",
      "Rank-10 : 90.06%\n",
      "Rank-20 : 96.66%\n",
      "\u001b[33mValidating momentum osnet ...\u001b[0m\n",
      "Features extracted in 71.12 seconds\n",
      "Features extracted in 138.68 seconds\n",
      "Computing CMC and mAP ...\n",
      "** Results **\n",
      "mAP: 67.06%\n",
      "CMC curve\n",
      "Rank-1  : 51.53%\n",
      "Rank-5  : 86.66%\n",
      "Rank-10 : 95.02%\n",
      "Rank-20 : 98.72%\n",
      "\u001b[33mValidating online densenet121 ...\u001b[0m\n",
      "Features extracted in 65.89 seconds\n",
      "Features extracted in 128.34 seconds\n",
      "Computing CMC and mAP ...\n",
      "** Results **\n",
      "mAP: 65.51%\n",
      "CMC curve\n",
      "Rank-1  : 47.23%\n",
      "Rank-5  : 71.30%\n",
      "Rank-10 : 80.04%\n",
      "Rank-20 : 90.32%\n",
      "\u001b[33mValidating momentum densenet121 ...\u001b[0m\n",
      "Features extracted in 62.81 seconds\n",
      "Features extracted in 125.81 seconds\n",
      "Computing CMC and mAP ...\n",
      "** Results **\n",
      "mAP: 65.70%\n",
      "CMC curve\n",
      "Rank-1  : 46.44%\n",
      "Rank-5  : 79.26%\n",
      "Rank-10 : 88.68%\n",
      "Rank-20 : 95.10%\n",
      "\u001b[33mValidating ensembled with online models ...\u001b[0m\n",
      "Computing CMC and mAP ...\n",
      "** Results **\n",
      "mAP: 65.79%\n",
      "Ranks:\n",
      "Rank-1  : 47.30%\n",
      "Rank-5  : 72.71%\n",
      "Rank-10 : 80.86%\n",
      "\u001b[33mValidating ensembled with momentum models ...\u001b[0m\n",
      "Computing CMC and mAP ...\n",
      "** Results **\n",
      "mAP: 65.37%\n",
      "Ranks:\n",
      "Rank-1  : 43.97%\n",
      "Rank-5  : 75.76%\n",
      "Rank-10 : 85.48%\n",
      "###============ Iteration number 16/30 ============###\n",
      "Extracting Online Features for efficientnet ...\n",
      "Features extracted in 193.34 seconds\n",
      "Computing jaccard distance...\n"
     ]
    },
    {
     "name": "stderr",
     "output_type": "stream",
     "text": [
      "bruteForceKnn is deprecated; call bfKnn instead\n"
     ]
    },
    {
     "name": "stdout",
     "output_type": "stream",
     "text": [
      "Jaccard distance computing time cost: 68.90702533721924\n",
      "Extracting Online Features for convnext ...\n",
      "Features extracted in 193.63 seconds\n",
      "Computing jaccard distance...\n"
     ]
    },
    {
     "name": "stderr",
     "output_type": "stream",
     "text": [
      "bruteForceKnn is deprecated; call bfKnn instead\n"
     ]
    },
    {
     "name": "stdout",
     "output_type": "stream",
     "text": [
      "Jaccard distance computing time cost: 65.92783331871033\n",
      "Extracting Online Features for mobilenet ...\n",
      "Features extracted in 192.47 seconds\n",
      "Computing jaccard distance...\n"
     ]
    },
    {
     "name": "stderr",
     "output_type": "stream",
     "text": [
      "bruteForceKnn is deprecated; call bfKnn instead\n"
     ]
    },
    {
     "name": "stdout",
     "output_type": "stream",
     "text": [
      "Jaccard distance computing time cost: 63.929869413375854\n",
      "Extracting Online Features for vgg16 ...\n",
      "Features extracted in 191.94 seconds\n",
      "Computing jaccard distance...\n"
     ]
    },
    {
     "name": "stderr",
     "output_type": "stream",
     "text": [
      "bruteForceKnn is deprecated; call bfKnn instead\n"
     ]
    },
    {
     "name": "stdout",
     "output_type": "stream",
     "text": [
      "Jaccard distance computing time cost: 64.95885515213013\n",
      "Extracting Online Features for resnet50 ...\n",
      "Features extracted in 187.85 seconds\n",
      "Computing jaccard distance...\n"
     ]
    },
    {
     "name": "stderr",
     "output_type": "stream",
     "text": [
      "bruteForceKnn is deprecated; call bfKnn instead\n"
     ]
    },
    {
     "name": "stdout",
     "output_type": "stream",
     "text": [
      "Jaccard distance computing time cost: 65.89275527000427\n",
      "Extracting Online Features for osnet ...\n",
      "Features extracted in 190.28 seconds\n",
      "Computing jaccard distance...\n"
     ]
    },
    {
     "name": "stderr",
     "output_type": "stream",
     "text": [
      "bruteForceKnn is deprecated; call bfKnn instead\n"
     ]
    },
    {
     "name": "stdout",
     "output_type": "stream",
     "text": [
      "Jaccard distance computing time cost: 64.25487875938416\n",
      "Extracting Online Features for densenet121 ...\n",
      "Features extracted in 191.60 seconds\n",
      "Computing jaccard distance...\n"
     ]
    },
    {
     "name": "stderr",
     "output_type": "stream",
     "text": [
      "bruteForceKnn is deprecated; call bfKnn instead\n"
     ]
    },
    {
     "name": "stdout",
     "output_type": "stream",
     "text": [
      "Jaccard distance computing time cost: 65.6033387184143\n",
      "Reliability: 0.090\n",
      "\u001b[32mMean Purity: 0.03055\u001b[0m\n",
      "\u001b[34mThere are 26 clusters with 4 cameras\u001b[0m\n",
      "\u001b[34mThere are 22 clusters with 5 cameras\u001b[0m\n",
      "\u001b[34mThere are 19 clusters with 6 cameras\u001b[0m\n",
      "\u001b[34mThere are 14 clusters with 7 cameras\u001b[0m\n",
      "\u001b[34mThere are 8 clusters with 8 cameras\u001b[0m\n",
      "\u001b[34mThere are 7 clusters with 9 cameras\u001b[0m\n",
      "\u001b[34mThere are 5 clusters with 10 cameras\u001b[0m\n",
      "\u001b[34mThere are 4 clusters with 11 cameras\u001b[0m\n",
      "\u001b[34mThere are 6 clusters with 12 cameras\u001b[0m\n",
      "\u001b[34mThere are 6 clusters with 13 cameras\u001b[0m\n",
      "\u001b[34mThere are 1 clusters with 14 cameras\u001b[0m\n",
      "\u001b[34mThere are 2 clusters with 15 cameras\u001b[0m\n",
      "\u001b[34mThere are 2 clusters with 16 cameras\u001b[0m\n",
      "\u001b[34mThere are 1 clusters with 17 cameras\u001b[0m\n",
      "\u001b[34mThere are 5 clusters with 18 cameras\u001b[0m\n",
      "\u001b[34mThere are 3 clusters with 19 cameras\u001b[0m\n",
      "\u001b[34mThere are 4 clusters with 20 cameras\u001b[0m\n",
      "\u001b[34mThere are 2 clusters with 21 cameras\u001b[0m\n",
      "\u001b[34mThere are 2 clusters with 22 cameras\u001b[0m\n",
      "\u001b[34mThere are 2 clusters with 23 cameras\u001b[0m\n",
      "\u001b[34mThere are 1 clusters with 24 cameras\u001b[0m\n",
      "\u001b[34mThere are 1 clusters with 26 cameras\u001b[0m\n",
      "\u001b[34mThere are 2 clusters with 27 cameras\u001b[0m\n",
      "\u001b[34mThere are 2 clusters with 30 cameras\u001b[0m\n",
      "\u001b[34mThere are 2 clusters with 32 cameras\u001b[0m\n",
      "\u001b[34mThere are 1 clusters with 33 cameras\u001b[0m\n",
      "\u001b[34mThere are 3 clusters with 35 cameras\u001b[0m\n",
      "\u001b[34mThere are 1 clusters with 37 cameras\u001b[0m\n",
      "\u001b[34mThere are 1 clusters with 38 cameras\u001b[0m\n",
      "\u001b[34mThere are 1 clusters with 40 cameras\u001b[0m\n",
      "\u001b[34mThere are 2 clusters with 43 cameras\u001b[0m\n",
      "\u001b[34mThere are 3 clusters with 44 cameras\u001b[0m\n",
      "\u001b[34mThere are 1 clusters with 45 cameras\u001b[0m\n",
      "\u001b[34mThere are 1 clusters with 46 cameras\u001b[0m\n",
      "\u001b[34mThere are 1 clusters with 51 cameras\u001b[0m\n",
      "\u001b[34mThere are 2 clusters with 52 cameras\u001b[0m\n",
      "\u001b[34mThere are 1 clusters with 56 cameras\u001b[0m\n",
      "\u001b[34mThere are 1 clusters with 58 cameras\u001b[0m\n",
      "\u001b[34mThere are 2 clusters with 59 cameras\u001b[0m\n",
      "\u001b[34mThere are 1 clusters with 61 cameras\u001b[0m\n",
      "\u001b[34mThere are 1 clusters with 62 cameras\u001b[0m\n",
      "\u001b[34mThere are 1 clusters with 85 cameras\u001b[0m\n",
      "\u001b[34mThere are 1 clusters with 92 cameras\u001b[0m\n",
      "\u001b[34mThere are 1 clusters with 110 cameras\u001b[0m\n",
      "\u001b[34mThere are 1 clusters with 116 cameras\u001b[0m\n",
      "\u001b[34mThere are 1 clusters with 176 cameras\u001b[0m\n",
      "\u001b[34mThere are 1 clusters with 310 cameras\u001b[0m\n",
      "Number of classes: 178\n",
      "\u001b[36mLearning Rate: 0.000350\u001b[0m\n",
      "encontrou modelos efficientnet. Carregando...\n",
      "encontrou modelos convnext. Carregando...\n",
      "encontrou modelos mobilenet. Carregando...\n",
      "encontrou modelos vgg16. Carregando...\n",
      "encontrou modelos resnet50. Carregando...\n",
      "encontrou modelos osnet. Carregando...\n",
      "encontrou modelos densenet121. Carregando...\n",
      "###============ Iteration number 17/30 ============###\n",
      "Extracting Online Features for efficientnet ...\n",
      "Features extracted in 197.25 seconds\n",
      "Computing jaccard distance...\n"
     ]
    },
    {
     "name": "stderr",
     "output_type": "stream",
     "text": [
      "bruteForceKnn is deprecated; call bfKnn instead\n"
     ]
    },
    {
     "name": "stdout",
     "output_type": "stream",
     "text": [
      "Jaccard distance computing time cost: 67.56766724586487\n",
      "Extracting Online Features for convnext ...\n",
      "Features extracted in 192.89 seconds\n",
      "Computing jaccard distance...\n"
     ]
    },
    {
     "name": "stderr",
     "output_type": "stream",
     "text": [
      "bruteForceKnn is deprecated; call bfKnn instead\n"
     ]
    },
    {
     "name": "stdout",
     "output_type": "stream",
     "text": [
      "Jaccard distance computing time cost: 64.80673217773438\n",
      "Extracting Online Features for mobilenet ...\n",
      "Features extracted in 192.47 seconds\n",
      "Computing jaccard distance...\n"
     ]
    },
    {
     "name": "stderr",
     "output_type": "stream",
     "text": [
      "bruteForceKnn is deprecated; call bfKnn instead\n"
     ]
    },
    {
     "name": "stdout",
     "output_type": "stream",
     "text": [
      "Jaccard distance computing time cost: 63.492974042892456\n",
      "Extracting Online Features for vgg16 ...\n",
      "Features extracted in 193.63 seconds\n",
      "Computing jaccard distance...\n"
     ]
    },
    {
     "name": "stderr",
     "output_type": "stream",
     "text": [
      "bruteForceKnn is deprecated; call bfKnn instead\n"
     ]
    },
    {
     "name": "stdout",
     "output_type": "stream",
     "text": [
      "Jaccard distance computing time cost: 65.79469609260559\n",
      "Extracting Online Features for resnet50 ...\n",
      "Features extracted in 188.80 seconds\n",
      "Computing jaccard distance...\n"
     ]
    },
    {
     "name": "stderr",
     "output_type": "stream",
     "text": [
      "bruteForceKnn is deprecated; call bfKnn instead\n"
     ]
    },
    {
     "name": "stdout",
     "output_type": "stream",
     "text": [
      "Jaccard distance computing time cost: 65.3058865070343\n",
      "Extracting Online Features for osnet ...\n",
      "Features extracted in 189.88 seconds\n",
      "Computing jaccard distance...\n"
     ]
    },
    {
     "name": "stderr",
     "output_type": "stream",
     "text": [
      "bruteForceKnn is deprecated; call bfKnn instead\n"
     ]
    },
    {
     "name": "stdout",
     "output_type": "stream",
     "text": [
      "Jaccard distance computing time cost: 64.54139637947083\n",
      "Extracting Online Features for densenet121 ...\n",
      "Features extracted in 188.86 seconds\n",
      "Computing jaccard distance...\n"
     ]
    },
    {
     "name": "stderr",
     "output_type": "stream",
     "text": [
      "bruteForceKnn is deprecated; call bfKnn instead\n"
     ]
    },
    {
     "name": "stdout",
     "output_type": "stream",
     "text": [
      "Jaccard distance computing time cost: 67.47182893753052\n",
      "Reliability: 0.090\n",
      "\u001b[32mMean Purity: 0.03055\u001b[0m\n",
      "\u001b[34mThere are 26 clusters with 4 cameras\u001b[0m\n",
      "\u001b[34mThere are 22 clusters with 5 cameras\u001b[0m\n",
      "\u001b[34mThere are 19 clusters with 6 cameras\u001b[0m\n",
      "\u001b[34mThere are 14 clusters with 7 cameras\u001b[0m\n",
      "\u001b[34mThere are 8 clusters with 8 cameras\u001b[0m\n",
      "\u001b[34mThere are 7 clusters with 9 cameras\u001b[0m\n",
      "\u001b[34mThere are 5 clusters with 10 cameras\u001b[0m\n",
      "\u001b[34mThere are 4 clusters with 11 cameras\u001b[0m\n",
      "\u001b[34mThere are 6 clusters with 12 cameras\u001b[0m\n",
      "\u001b[34mThere are 6 clusters with 13 cameras\u001b[0m\n",
      "\u001b[34mThere are 1 clusters with 14 cameras\u001b[0m\n",
      "\u001b[34mThere are 2 clusters with 15 cameras\u001b[0m\n",
      "\u001b[34mThere are 2 clusters with 16 cameras\u001b[0m\n",
      "\u001b[34mThere are 1 clusters with 17 cameras\u001b[0m\n",
      "\u001b[34mThere are 5 clusters with 18 cameras\u001b[0m\n",
      "\u001b[34mThere are 3 clusters with 19 cameras\u001b[0m\n",
      "\u001b[34mThere are 4 clusters with 20 cameras\u001b[0m\n",
      "\u001b[34mThere are 2 clusters with 21 cameras\u001b[0m\n",
      "\u001b[34mThere are 2 clusters with 22 cameras\u001b[0m\n",
      "\u001b[34mThere are 2 clusters with 23 cameras\u001b[0m\n",
      "\u001b[34mThere are 1 clusters with 24 cameras\u001b[0m\n",
      "\u001b[34mThere are 1 clusters with 26 cameras\u001b[0m\n",
      "\u001b[34mThere are 2 clusters with 27 cameras\u001b[0m\n",
      "\u001b[34mThere are 2 clusters with 30 cameras\u001b[0m\n",
      "\u001b[34mThere are 2 clusters with 32 cameras\u001b[0m\n",
      "\u001b[34mThere are 1 clusters with 33 cameras\u001b[0m\n",
      "\u001b[34mThere are 3 clusters with 35 cameras\u001b[0m\n",
      "\u001b[34mThere are 1 clusters with 37 cameras\u001b[0m\n",
      "\u001b[34mThere are 1 clusters with 38 cameras\u001b[0m\n",
      "\u001b[34mThere are 1 clusters with 40 cameras\u001b[0m\n",
      "\u001b[34mThere are 2 clusters with 43 cameras\u001b[0m\n",
      "\u001b[34mThere are 3 clusters with 44 cameras\u001b[0m\n",
      "\u001b[34mThere are 1 clusters with 45 cameras\u001b[0m\n",
      "\u001b[34mThere are 1 clusters with 46 cameras\u001b[0m\n",
      "\u001b[34mThere are 1 clusters with 51 cameras\u001b[0m\n",
      "\u001b[34mThere are 2 clusters with 52 cameras\u001b[0m\n",
      "\u001b[34mThere are 1 clusters with 56 cameras\u001b[0m\n",
      "\u001b[34mThere are 1 clusters with 58 cameras\u001b[0m\n",
      "\u001b[34mThere are 2 clusters with 59 cameras\u001b[0m\n",
      "\u001b[34mThere are 1 clusters with 61 cameras\u001b[0m\n",
      "\u001b[34mThere are 1 clusters with 62 cameras\u001b[0m\n",
      "\u001b[34mThere are 1 clusters with 85 cameras\u001b[0m\n",
      "\u001b[34mThere are 1 clusters with 92 cameras\u001b[0m\n",
      "\u001b[34mThere are 1 clusters with 110 cameras\u001b[0m\n",
      "\u001b[34mThere are 1 clusters with 116 cameras\u001b[0m\n",
      "\u001b[34mThere are 1 clusters with 176 cameras\u001b[0m\n",
      "\u001b[34mThere are 1 clusters with 310 cameras\u001b[0m\n",
      "Number of classes: 178\n",
      "\u001b[36mLearning Rate: 0.000350\u001b[0m\n",
      "encontrou modelos efficientnet. Carregando...\n",
      "encontrou modelos convnext. Carregando...\n",
      "encontrou modelos mobilenet. Carregando...\n",
      "encontrou modelos vgg16. Carregando...\n",
      "encontrou modelos resnet50. Carregando...\n",
      "encontrou modelos osnet. Carregando...\n",
      "encontrou modelos densenet121. Carregando...\n",
      "###============ Iteration number 18/30 ============###\n",
      "Extracting Online Features for efficientnet ...\n",
      "Features extracted in 190.31 seconds\n",
      "Computing jaccard distance...\n"
     ]
    },
    {
     "name": "stderr",
     "output_type": "stream",
     "text": [
      "bruteForceKnn is deprecated; call bfKnn instead\n"
     ]
    },
    {
     "name": "stdout",
     "output_type": "stream",
     "text": [
      "Jaccard distance computing time cost: 69.8012113571167\n",
      "Extracting Online Features for convnext ...\n",
      "Features extracted in 195.74 seconds\n",
      "Computing jaccard distance...\n"
     ]
    },
    {
     "name": "stderr",
     "output_type": "stream",
     "text": [
      "bruteForceKnn is deprecated; call bfKnn instead\n"
     ]
    },
    {
     "name": "stdout",
     "output_type": "stream",
     "text": [
      "Jaccard distance computing time cost: 65.91019320487976\n",
      "Extracting Online Features for mobilenet ...\n",
      "Features extracted in 187.94 seconds\n",
      "Computing jaccard distance...\n"
     ]
    },
    {
     "name": "stderr",
     "output_type": "stream",
     "text": [
      "bruteForceKnn is deprecated; call bfKnn instead\n"
     ]
    },
    {
     "name": "stdout",
     "output_type": "stream",
     "text": [
      "Jaccard distance computing time cost: 63.4947943687439\n",
      "Extracting Online Features for vgg16 ...\n",
      "Features extracted in 190.43 seconds\n",
      "Computing jaccard distance...\n"
     ]
    },
    {
     "name": "stderr",
     "output_type": "stream",
     "text": [
      "bruteForceKnn is deprecated; call bfKnn instead\n"
     ]
    },
    {
     "name": "stdout",
     "output_type": "stream",
     "text": [
      "Jaccard distance computing time cost: 64.52484154701233\n",
      "Extracting Online Features for resnet50 ...\n",
      "Features extracted in 193.75 seconds\n",
      "Computing jaccard distance...\n"
     ]
    },
    {
     "name": "stderr",
     "output_type": "stream",
     "text": [
      "bruteForceKnn is deprecated; call bfKnn instead\n"
     ]
    },
    {
     "name": "stdout",
     "output_type": "stream",
     "text": [
      "Jaccard distance computing time cost: 64.27043867111206\n",
      "Extracting Online Features for osnet ...\n",
      "Features extracted in 197.87 seconds\n",
      "Computing jaccard distance...\n"
     ]
    },
    {
     "name": "stderr",
     "output_type": "stream",
     "text": [
      "bruteForceKnn is deprecated; call bfKnn instead\n"
     ]
    },
    {
     "name": "stdout",
     "output_type": "stream",
     "text": [
      "Jaccard distance computing time cost: 63.997968673706055\n",
      "Extracting Online Features for densenet121 ...\n",
      "Features extracted in 197.52 seconds\n",
      "Computing jaccard distance...\n"
     ]
    },
    {
     "name": "stderr",
     "output_type": "stream",
     "text": [
      "bruteForceKnn is deprecated; call bfKnn instead\n"
     ]
    },
    {
     "name": "stdout",
     "output_type": "stream",
     "text": [
      "Jaccard distance computing time cost: 66.390620470047\n",
      "Reliability: 0.090\n",
      "\u001b[32mMean Purity: 0.03055\u001b[0m\n",
      "\u001b[34mThere are 26 clusters with 4 cameras\u001b[0m\n",
      "\u001b[34mThere are 22 clusters with 5 cameras\u001b[0m\n",
      "\u001b[34mThere are 19 clusters with 6 cameras\u001b[0m\n",
      "\u001b[34mThere are 14 clusters with 7 cameras\u001b[0m\n",
      "\u001b[34mThere are 8 clusters with 8 cameras\u001b[0m\n",
      "\u001b[34mThere are 7 clusters with 9 cameras\u001b[0m\n",
      "\u001b[34mThere are 5 clusters with 10 cameras\u001b[0m\n",
      "\u001b[34mThere are 4 clusters with 11 cameras\u001b[0m\n",
      "\u001b[34mThere are 6 clusters with 12 cameras\u001b[0m\n",
      "\u001b[34mThere are 6 clusters with 13 cameras\u001b[0m\n",
      "\u001b[34mThere are 1 clusters with 14 cameras\u001b[0m\n",
      "\u001b[34mThere are 2 clusters with 15 cameras\u001b[0m\n",
      "\u001b[34mThere are 2 clusters with 16 cameras\u001b[0m\n",
      "\u001b[34mThere are 1 clusters with 17 cameras\u001b[0m\n",
      "\u001b[34mThere are 5 clusters with 18 cameras\u001b[0m\n",
      "\u001b[34mThere are 3 clusters with 19 cameras\u001b[0m\n",
      "\u001b[34mThere are 4 clusters with 20 cameras\u001b[0m\n",
      "\u001b[34mThere are 2 clusters with 21 cameras\u001b[0m\n",
      "\u001b[34mThere are 2 clusters with 22 cameras\u001b[0m\n",
      "\u001b[34mThere are 2 clusters with 23 cameras\u001b[0m\n",
      "\u001b[34mThere are 1 clusters with 24 cameras\u001b[0m\n",
      "\u001b[34mThere are 1 clusters with 26 cameras\u001b[0m\n",
      "\u001b[34mThere are 2 clusters with 27 cameras\u001b[0m\n",
      "\u001b[34mThere are 2 clusters with 30 cameras\u001b[0m\n",
      "\u001b[34mThere are 2 clusters with 32 cameras\u001b[0m\n",
      "\u001b[34mThere are 1 clusters with 33 cameras\u001b[0m\n",
      "\u001b[34mThere are 3 clusters with 35 cameras\u001b[0m\n",
      "\u001b[34mThere are 1 clusters with 37 cameras\u001b[0m\n",
      "\u001b[34mThere are 1 clusters with 38 cameras\u001b[0m\n",
      "\u001b[34mThere are 1 clusters with 40 cameras\u001b[0m\n",
      "\u001b[34mThere are 2 clusters with 43 cameras\u001b[0m\n",
      "\u001b[34mThere are 3 clusters with 44 cameras\u001b[0m\n",
      "\u001b[34mThere are 1 clusters with 45 cameras\u001b[0m\n",
      "\u001b[34mThere are 1 clusters with 46 cameras\u001b[0m\n",
      "\u001b[34mThere are 1 clusters with 51 cameras\u001b[0m\n",
      "\u001b[34mThere are 2 clusters with 52 cameras\u001b[0m\n",
      "\u001b[34mThere are 1 clusters with 56 cameras\u001b[0m\n",
      "\u001b[34mThere are 1 clusters with 58 cameras\u001b[0m\n",
      "\u001b[34mThere are 2 clusters with 59 cameras\u001b[0m\n",
      "\u001b[34mThere are 1 clusters with 61 cameras\u001b[0m\n",
      "\u001b[34mThere are 1 clusters with 62 cameras\u001b[0m\n",
      "\u001b[34mThere are 1 clusters with 85 cameras\u001b[0m\n",
      "\u001b[34mThere are 1 clusters with 92 cameras\u001b[0m\n",
      "\u001b[34mThere are 1 clusters with 110 cameras\u001b[0m\n",
      "\u001b[34mThere are 1 clusters with 116 cameras\u001b[0m\n",
      "\u001b[34mThere are 1 clusters with 176 cameras\u001b[0m\n",
      "\u001b[34mThere are 1 clusters with 310 cameras\u001b[0m\n",
      "Number of classes: 178\n",
      "\u001b[36mLearning Rate: 0.000350\u001b[0m\n",
      "encontrou modelos efficientnet. Carregando...\n",
      "encontrou modelos convnext. Carregando...\n",
      "encontrou modelos mobilenet. Carregando...\n",
      "encontrou modelos vgg16. Carregando...\n",
      "encontrou modelos resnet50. Carregando...\n",
      "encontrou modelos osnet. Carregando...\n",
      "encontrou modelos densenet121. Carregando...\n",
      "###============ Iteration number 19/30 ============###\n",
      "Extracting Online Features for efficientnet ...\n",
      "Features extracted in 194.91 seconds\n",
      "Computing jaccard distance...\n"
     ]
    },
    {
     "name": "stderr",
     "output_type": "stream",
     "text": [
      "bruteForceKnn is deprecated; call bfKnn instead\n"
     ]
    },
    {
     "name": "stdout",
     "output_type": "stream",
     "text": [
      "Jaccard distance computing time cost: 68.93547558784485\n",
      "Extracting Online Features for convnext ...\n",
      "Features extracted in 196.34 seconds\n",
      "Computing jaccard distance...\n"
     ]
    },
    {
     "name": "stderr",
     "output_type": "stream",
     "text": [
      "bruteForceKnn is deprecated; call bfKnn instead\n"
     ]
    },
    {
     "name": "stdout",
     "output_type": "stream",
     "text": [
      "Jaccard distance computing time cost: 66.10239696502686\n",
      "Extracting Online Features for mobilenet ...\n",
      "Features extracted in 193.79 seconds\n",
      "Computing jaccard distance...\n"
     ]
    },
    {
     "name": "stderr",
     "output_type": "stream",
     "text": [
      "bruteForceKnn is deprecated; call bfKnn instead\n"
     ]
    },
    {
     "name": "stdout",
     "output_type": "stream",
     "text": [
      "Jaccard distance computing time cost: 72.19945502281189\n",
      "Extracting Online Features for vgg16 ...\n",
      "Features extracted in 197.23 seconds\n",
      "Computing jaccard distance...\n"
     ]
    },
    {
     "name": "stderr",
     "output_type": "stream",
     "text": [
      "bruteForceKnn is deprecated; call bfKnn instead\n"
     ]
    },
    {
     "name": "stdout",
     "output_type": "stream",
     "text": [
      "Jaccard distance computing time cost: 65.43518805503845\n",
      "Extracting Online Features for resnet50 ...\n",
      "Features extracted in 191.41 seconds\n",
      "Computing jaccard distance...\n"
     ]
    },
    {
     "name": "stderr",
     "output_type": "stream",
     "text": [
      "bruteForceKnn is deprecated; call bfKnn instead\n"
     ]
    },
    {
     "name": "stdout",
     "output_type": "stream",
     "text": [
      "Jaccard distance computing time cost: 64.85853743553162\n",
      "Extracting Online Features for osnet ...\n",
      "Features extracted in 189.64 seconds\n",
      "Computing jaccard distance...\n"
     ]
    },
    {
     "name": "stderr",
     "output_type": "stream",
     "text": [
      "bruteForceKnn is deprecated; call bfKnn instead\n"
     ]
    },
    {
     "name": "stdout",
     "output_type": "stream",
     "text": [
      "Jaccard distance computing time cost: 64.56122994422913\n",
      "Extracting Online Features for densenet121 ...\n",
      "Features extracted in 190.09 seconds\n",
      "Computing jaccard distance...\n"
     ]
    },
    {
     "name": "stderr",
     "output_type": "stream",
     "text": [
      "bruteForceKnn is deprecated; call bfKnn instead\n"
     ]
    },
    {
     "name": "stdout",
     "output_type": "stream",
     "text": [
      "Jaccard distance computing time cost: 65.49944567680359\n",
      "Reliability: 0.090\n",
      "\u001b[32mMean Purity: 0.03055\u001b[0m\n",
      "\u001b[34mThere are 26 clusters with 4 cameras\u001b[0m\n",
      "\u001b[34mThere are 22 clusters with 5 cameras\u001b[0m\n",
      "\u001b[34mThere are 19 clusters with 6 cameras\u001b[0m\n",
      "\u001b[34mThere are 14 clusters with 7 cameras\u001b[0m\n",
      "\u001b[34mThere are 8 clusters with 8 cameras\u001b[0m\n",
      "\u001b[34mThere are 7 clusters with 9 cameras\u001b[0m\n",
      "\u001b[34mThere are 5 clusters with 10 cameras\u001b[0m\n",
      "\u001b[34mThere are 4 clusters with 11 cameras\u001b[0m\n",
      "\u001b[34mThere are 6 clusters with 12 cameras\u001b[0m\n",
      "\u001b[34mThere are 6 clusters with 13 cameras\u001b[0m\n",
      "\u001b[34mThere are 1 clusters with 14 cameras\u001b[0m\n",
      "\u001b[34mThere are 2 clusters with 15 cameras\u001b[0m\n",
      "\u001b[34mThere are 2 clusters with 16 cameras\u001b[0m\n",
      "\u001b[34mThere are 1 clusters with 17 cameras\u001b[0m\n",
      "\u001b[34mThere are 5 clusters with 18 cameras\u001b[0m\n",
      "\u001b[34mThere are 3 clusters with 19 cameras\u001b[0m\n",
      "\u001b[34mThere are 4 clusters with 20 cameras\u001b[0m\n",
      "\u001b[34mThere are 2 clusters with 21 cameras\u001b[0m\n",
      "\u001b[34mThere are 2 clusters with 22 cameras\u001b[0m\n",
      "\u001b[34mThere are 2 clusters with 23 cameras\u001b[0m\n",
      "\u001b[34mThere are 1 clusters with 24 cameras\u001b[0m\n",
      "\u001b[34mThere are 1 clusters with 26 cameras\u001b[0m\n",
      "\u001b[34mThere are 2 clusters with 27 cameras\u001b[0m\n",
      "\u001b[34mThere are 2 clusters with 30 cameras\u001b[0m\n",
      "\u001b[34mThere are 2 clusters with 32 cameras\u001b[0m\n",
      "\u001b[34mThere are 1 clusters with 33 cameras\u001b[0m\n",
      "\u001b[34mThere are 3 clusters with 35 cameras\u001b[0m\n",
      "\u001b[34mThere are 1 clusters with 37 cameras\u001b[0m\n",
      "\u001b[34mThere are 1 clusters with 38 cameras\u001b[0m\n",
      "\u001b[34mThere are 1 clusters with 40 cameras\u001b[0m\n",
      "\u001b[34mThere are 2 clusters with 43 cameras\u001b[0m\n",
      "\u001b[34mThere are 3 clusters with 44 cameras\u001b[0m\n",
      "\u001b[34mThere are 1 clusters with 45 cameras\u001b[0m\n",
      "\u001b[34mThere are 1 clusters with 46 cameras\u001b[0m\n",
      "\u001b[34mThere are 1 clusters with 51 cameras\u001b[0m\n",
      "\u001b[34mThere are 2 clusters with 52 cameras\u001b[0m\n",
      "\u001b[34mThere are 1 clusters with 56 cameras\u001b[0m\n",
      "\u001b[34mThere are 1 clusters with 58 cameras\u001b[0m\n",
      "\u001b[34mThere are 2 clusters with 59 cameras\u001b[0m\n",
      "\u001b[34mThere are 1 clusters with 61 cameras\u001b[0m\n",
      "\u001b[34mThere are 1 clusters with 62 cameras\u001b[0m\n",
      "\u001b[34mThere are 1 clusters with 85 cameras\u001b[0m\n",
      "\u001b[34mThere are 1 clusters with 92 cameras\u001b[0m\n",
      "\u001b[34mThere are 1 clusters with 110 cameras\u001b[0m\n",
      "\u001b[34mThere are 1 clusters with 116 cameras\u001b[0m\n",
      "\u001b[34mThere are 1 clusters with 176 cameras\u001b[0m\n",
      "\u001b[34mThere are 1 clusters with 310 cameras\u001b[0m\n",
      "Number of classes: 178\n",
      "\u001b[36mLearning Rate: 0.000350\u001b[0m\n",
      "encontrou modelos efficientnet. Carregando...\n",
      "encontrou modelos convnext. Carregando...\n",
      "encontrou modelos mobilenet. Carregando...\n",
      "encontrou modelos vgg16. Carregando...\n",
      "encontrou modelos resnet50. Carregando...\n",
      "encontrou modelos osnet. Carregando...\n",
      "encontrou modelos densenet121. Carregando...\n",
      "###============ Iteration number 20/30 ============###\n",
      "Extracting Online Features for efficientnet ...\n",
      "Features extracted in 195.11 seconds\n",
      "Computing jaccard distance...\n"
     ]
    },
    {
     "name": "stderr",
     "output_type": "stream",
     "text": [
      "bruteForceKnn is deprecated; call bfKnn instead\n"
     ]
    },
    {
     "name": "stdout",
     "output_type": "stream",
     "text": [
      "Jaccard distance computing time cost: 68.44714331626892\n",
      "Extracting Online Features for convnext ...\n",
      "Features extracted in 197.21 seconds\n",
      "Computing jaccard distance...\n"
     ]
    },
    {
     "name": "stderr",
     "output_type": "stream",
     "text": [
      "bruteForceKnn is deprecated; call bfKnn instead\n"
     ]
    },
    {
     "name": "stdout",
     "output_type": "stream",
     "text": [
      "Jaccard distance computing time cost: 65.59981918334961\n",
      "Extracting Online Features for mobilenet ...\n",
      "Features extracted in 193.54 seconds\n",
      "Computing jaccard distance...\n"
     ]
    },
    {
     "name": "stderr",
     "output_type": "stream",
     "text": [
      "bruteForceKnn is deprecated; call bfKnn instead\n"
     ]
    },
    {
     "name": "stdout",
     "output_type": "stream",
     "text": [
      "Jaccard distance computing time cost: 63.33329772949219\n",
      "Extracting Online Features for vgg16 ...\n",
      "Features extracted in 193.10 seconds\n",
      "Computing jaccard distance...\n"
     ]
    },
    {
     "name": "stderr",
     "output_type": "stream",
     "text": [
      "bruteForceKnn is deprecated; call bfKnn instead\n"
     ]
    },
    {
     "name": "stdout",
     "output_type": "stream",
     "text": [
      "Jaccard distance computing time cost: 64.79868674278259\n",
      "Extracting Online Features for resnet50 ...\n",
      "Features extracted in 196.11 seconds\n",
      "Computing jaccard distance...\n"
     ]
    },
    {
     "name": "stderr",
     "output_type": "stream",
     "text": [
      "bruteForceKnn is deprecated; call bfKnn instead\n"
     ]
    },
    {
     "name": "stdout",
     "output_type": "stream",
     "text": [
      "Jaccard distance computing time cost: 65.56924057006836\n",
      "Extracting Online Features for osnet ...\n",
      "Features extracted in 194.17 seconds\n",
      "Computing jaccard distance...\n"
     ]
    },
    {
     "name": "stderr",
     "output_type": "stream",
     "text": [
      "bruteForceKnn is deprecated; call bfKnn instead\n"
     ]
    },
    {
     "name": "stdout",
     "output_type": "stream",
     "text": [
      "Jaccard distance computing time cost: 63.98886799812317\n",
      "Extracting Online Features for densenet121 ...\n",
      "Features extracted in 195.42 seconds\n",
      "Computing jaccard distance...\n"
     ]
    },
    {
     "name": "stderr",
     "output_type": "stream",
     "text": [
      "bruteForceKnn is deprecated; call bfKnn instead\n"
     ]
    },
    {
     "name": "stdout",
     "output_type": "stream",
     "text": [
      "Jaccard distance computing time cost: 66.176677942276\n",
      "Reliability: 0.090\n",
      "\u001b[32mMean Purity: 0.03055\u001b[0m\n",
      "\u001b[34mThere are 26 clusters with 4 cameras\u001b[0m\n",
      "\u001b[34mThere are 22 clusters with 5 cameras\u001b[0m\n",
      "\u001b[34mThere are 19 clusters with 6 cameras\u001b[0m\n",
      "\u001b[34mThere are 14 clusters with 7 cameras\u001b[0m\n",
      "\u001b[34mThere are 8 clusters with 8 cameras\u001b[0m\n",
      "\u001b[34mThere are 7 clusters with 9 cameras\u001b[0m\n",
      "\u001b[34mThere are 5 clusters with 10 cameras\u001b[0m\n",
      "\u001b[34mThere are 4 clusters with 11 cameras\u001b[0m\n",
      "\u001b[34mThere are 6 clusters with 12 cameras\u001b[0m\n",
      "\u001b[34mThere are 6 clusters with 13 cameras\u001b[0m\n",
      "\u001b[34mThere are 1 clusters with 14 cameras\u001b[0m\n",
      "\u001b[34mThere are 2 clusters with 15 cameras\u001b[0m\n",
      "\u001b[34mThere are 2 clusters with 16 cameras\u001b[0m\n",
      "\u001b[34mThere are 1 clusters with 17 cameras\u001b[0m\n",
      "\u001b[34mThere are 5 clusters with 18 cameras\u001b[0m\n",
      "\u001b[34mThere are 3 clusters with 19 cameras\u001b[0m\n",
      "\u001b[34mThere are 4 clusters with 20 cameras\u001b[0m\n",
      "\u001b[34mThere are 2 clusters with 21 cameras\u001b[0m\n",
      "\u001b[34mThere are 2 clusters with 22 cameras\u001b[0m\n",
      "\u001b[34mThere are 2 clusters with 23 cameras\u001b[0m\n",
      "\u001b[34mThere are 1 clusters with 24 cameras\u001b[0m\n",
      "\u001b[34mThere are 1 clusters with 26 cameras\u001b[0m\n",
      "\u001b[34mThere are 2 clusters with 27 cameras\u001b[0m\n",
      "\u001b[34mThere are 2 clusters with 30 cameras\u001b[0m\n",
      "\u001b[34mThere are 2 clusters with 32 cameras\u001b[0m\n",
      "\u001b[34mThere are 1 clusters with 33 cameras\u001b[0m\n",
      "\u001b[34mThere are 3 clusters with 35 cameras\u001b[0m\n",
      "\u001b[34mThere are 1 clusters with 37 cameras\u001b[0m\n",
      "\u001b[34mThere are 1 clusters with 38 cameras\u001b[0m\n",
      "\u001b[34mThere are 1 clusters with 40 cameras\u001b[0m\n",
      "\u001b[34mThere are 2 clusters with 43 cameras\u001b[0m\n",
      "\u001b[34mThere are 3 clusters with 44 cameras\u001b[0m\n",
      "\u001b[34mThere are 1 clusters with 45 cameras\u001b[0m\n",
      "\u001b[34mThere are 1 clusters with 46 cameras\u001b[0m\n",
      "\u001b[34mThere are 1 clusters with 51 cameras\u001b[0m\n",
      "\u001b[34mThere are 2 clusters with 52 cameras\u001b[0m\n",
      "\u001b[34mThere are 1 clusters with 56 cameras\u001b[0m\n",
      "\u001b[34mThere are 1 clusters with 58 cameras\u001b[0m\n",
      "\u001b[34mThere are 2 clusters with 59 cameras\u001b[0m\n",
      "\u001b[34mThere are 1 clusters with 61 cameras\u001b[0m\n",
      "\u001b[34mThere are 1 clusters with 62 cameras\u001b[0m\n",
      "\u001b[34mThere are 1 clusters with 85 cameras\u001b[0m\n",
      "\u001b[34mThere are 1 clusters with 92 cameras\u001b[0m\n",
      "\u001b[34mThere are 1 clusters with 110 cameras\u001b[0m\n",
      "\u001b[34mThere are 1 clusters with 116 cameras\u001b[0m\n",
      "\u001b[34mThere are 1 clusters with 176 cameras\u001b[0m\n",
      "\u001b[34mThere are 1 clusters with 310 cameras\u001b[0m\n",
      "Number of classes: 178\n",
      "\u001b[36mLearning Rate: 0.000350\u001b[0m\n",
      "encontrou modelos efficientnet. Carregando...\n",
      "encontrou modelos convnext. Carregando...\n",
      "encontrou modelos mobilenet. Carregando...\n",
      "encontrou modelos vgg16. Carregando...\n",
      "encontrou modelos resnet50. Carregando...\n",
      "encontrou modelos osnet. Carregando...\n",
      "encontrou modelos densenet121. Carregando...\n",
      "\u001b[33mValidating online efficientnet ...\u001b[0m\n",
      "Features extracted in 60.97 seconds\n",
      "Features extracted in 119.69 seconds\n",
      "Computing CMC and mAP ...\n",
      "** Results **\n",
      "mAP: 66.44%\n",
      "CMC curve\n",
      "Rank-1  : 45.27%\n",
      "Rank-5  : 81.23%\n",
      "Rank-10 : 92.71%\n",
      "Rank-20 : 98.74%\n",
      "\u001b[33mValidating momentum efficientnet ...\u001b[0m\n",
      "Features extracted in 61.20 seconds\n",
      "Features extracted in 119.27 seconds\n",
      "Computing CMC and mAP ...\n",
      "** Results **\n",
      "mAP: 66.35%\n",
      "CMC curve\n",
      "Rank-1  : 47.67%\n",
      "Rank-5  : 83.22%\n",
      "Rank-10 : 91.90%\n",
      "Rank-20 : 96.88%\n",
      "\u001b[33mValidating online convnext ...\u001b[0m\n",
      "Features extracted in 60.57 seconds\n",
      "Features extracted in 125.78 seconds\n",
      "Computing CMC and mAP ...\n",
      "** Results **\n",
      "mAP: 65.95%\n",
      "CMC curve\n",
      "Rank-1  : 45.01%\n",
      "Rank-5  : 73.92%\n",
      "Rank-10 : 84.08%\n",
      "Rank-20 : 92.69%\n",
      "\u001b[33mValidating momentum convnext ...\u001b[0m\n",
      "Features extracted in 62.36 seconds\n",
      "Features extracted in 149.07 seconds\n",
      "Computing CMC and mAP ...\n",
      "** Results **\n",
      "mAP: 64.97%\n",
      "CMC curve\n",
      "Rank-1  : 45.72%\n",
      "Rank-5  : 74.96%\n",
      "Rank-10 : 87.06%\n",
      "Rank-20 : 94.88%\n",
      "\u001b[33mValidating online mobilenet ...\u001b[0m\n",
      "Features extracted in 59.46 seconds\n",
      "Features extracted in 119.30 seconds\n",
      "Computing CMC and mAP ...\n",
      "** Results **\n",
      "mAP: 66.77%\n",
      "CMC curve\n",
      "Rank-1  : 53.46%\n",
      "Rank-5  : 85.98%\n",
      "Rank-10 : 93.64%\n",
      "Rank-20 : 98.44%\n",
      "\u001b[33mValidating momentum mobilenet ...\u001b[0m\n",
      "Features extracted in 60.23 seconds\n",
      "Features extracted in 117.32 seconds\n",
      "Computing CMC and mAP ...\n",
      "** Results **\n",
      "mAP: 66.43%\n",
      "CMC curve\n",
      "Rank-1  : 52.90%\n",
      "Rank-5  : 85.26%\n",
      "Rank-10 : 93.91%\n",
      "Rank-20 : 98.53%\n",
      "\u001b[33mValidating online vgg16 ...\u001b[0m\n",
      "Features extracted in 129.89 seconds\n",
      "Features extracted in 256.59 seconds\n",
      "Computing CMC and mAP ...\n",
      "** Results **\n",
      "mAP: 65.62%\n",
      "CMC curve\n",
      "Rank-1  : 46.16%\n",
      "Rank-5  : 76.20%\n",
      "Rank-10 : 85.61%\n",
      "Rank-20 : 92.69%\n",
      "\u001b[33mValidating momentum vgg16 ...\u001b[0m\n",
      "Features extracted in 129.05 seconds\n",
      "Features extracted in 257.03 seconds\n",
      "Computing CMC and mAP ...\n",
      "** Results **\n",
      "mAP: 65.60%\n",
      "CMC curve\n",
      "Rank-1  : 45.96%\n",
      "Rank-5  : 81.83%\n",
      "Rank-10 : 90.44%\n",
      "Rank-20 : 96.43%\n",
      "\u001b[33mValidating online resnet50 ...\u001b[0m\n",
      "Features extracted in 123.80 seconds\n",
      "Features extracted in 252.65 seconds\n",
      "Computing CMC and mAP ...\n",
      "** Results **\n",
      "mAP: 65.52%\n",
      "CMC curve\n",
      "Rank-1  : 48.57%\n",
      "Rank-5  : 73.66%\n",
      "Rank-10 : 81.49%\n",
      "Rank-20 : 89.43%\n",
      "\u001b[33mValidating momentum resnet50 ...\u001b[0m\n",
      "Features extracted in 123.56 seconds\n",
      "Features extracted in 253.00 seconds\n",
      "Computing CMC and mAP ...\n",
      "** Results **\n",
      "mAP: 64.98%\n",
      "CMC curve\n",
      "Rank-1  : 43.34%\n",
      "Rank-5  : 71.03%\n",
      "Rank-10 : 80.69%\n",
      "Rank-20 : 89.93%\n",
      "\u001b[33mValidating online osnet ...\u001b[0m\n",
      "Features extracted in 130.90 seconds\n",
      "Features extracted in 255.21 seconds\n",
      "Computing CMC and mAP ...\n",
      "** Results **\n",
      "mAP: 66.17%\n",
      "CMC curve\n",
      "Rank-1  : 46.27%\n",
      "Rank-5  : 79.73%\n",
      "Rank-10 : 90.06%\n",
      "Rank-20 : 96.66%\n",
      "\u001b[33mValidating momentum osnet ...\u001b[0m\n",
      "Features extracted in 129.21 seconds\n",
      "Features extracted in 255.66 seconds\n",
      "Computing CMC and mAP ...\n",
      "** Results **\n",
      "mAP: 67.06%\n",
      "CMC curve\n",
      "Rank-1  : 51.53%\n",
      "Rank-5  : 86.66%\n",
      "Rank-10 : 95.02%\n",
      "Rank-20 : 98.72%\n",
      "\u001b[33mValidating online densenet121 ...\u001b[0m\n",
      "Features extracted in 127.99 seconds\n",
      "Features extracted in 259.11 seconds\n",
      "Computing CMC and mAP ...\n",
      "** Results **\n",
      "mAP: 65.51%\n",
      "CMC curve\n",
      "Rank-1  : 47.23%\n",
      "Rank-5  : 71.30%\n",
      "Rank-10 : 80.04%\n",
      "Rank-20 : 90.32%\n",
      "\u001b[33mValidating momentum densenet121 ...\u001b[0m\n",
      "Features extracted in 130.62 seconds\n",
      "Features extracted in 254.29 seconds\n",
      "Computing CMC and mAP ...\n",
      "** Results **\n",
      "mAP: 65.70%\n",
      "CMC curve\n",
      "Rank-1  : 46.44%\n",
      "Rank-5  : 79.26%\n",
      "Rank-10 : 88.68%\n",
      "Rank-20 : 95.10%\n",
      "\u001b[33mValidating ensembled with online models ...\u001b[0m\n",
      "Computing CMC and mAP ...\n",
      "** Results **\n",
      "mAP: 65.79%\n",
      "Ranks:\n",
      "Rank-1  : 47.30%\n",
      "Rank-5  : 72.71%\n",
      "Rank-10 : 80.86%\n",
      "\u001b[33mValidating ensembled with momentum models ...\u001b[0m\n",
      "Computing CMC and mAP ...\n",
      "** Results **\n",
      "mAP: 65.37%\n",
      "Ranks:\n",
      "Rank-1  : 43.97%\n",
      "Rank-5  : 75.76%\n",
      "Rank-10 : 85.48%\n",
      "###============ Iteration number 21/30 ============###\n",
      "Extracting Online Features for efficientnet ...\n",
      "Features extracted in 412.08 seconds\n",
      "Computing jaccard distance...\n"
     ]
    },
    {
     "name": "stderr",
     "output_type": "stream",
     "text": [
      "bruteForceKnn is deprecated; call bfKnn instead\n"
     ]
    },
    {
     "name": "stdout",
     "output_type": "stream",
     "text": [
      "Jaccard distance computing time cost: 546.7085692882538\n",
      "Extracting Online Features for convnext ...\n",
      "Features extracted in 415.60 seconds\n",
      "Computing jaccard distance...\n"
     ]
    },
    {
     "name": "stderr",
     "output_type": "stream",
     "text": [
      "bruteForceKnn is deprecated; call bfKnn instead\n"
     ]
    },
    {
     "name": "stdout",
     "output_type": "stream",
     "text": [
      "Jaccard distance computing time cost: 392.6413297653198\n",
      "Extracting Online Features for mobilenet ...\n",
      "Features extracted in 413.68 seconds\n",
      "Computing jaccard distance...\n"
     ]
    },
    {
     "name": "stderr",
     "output_type": "stream",
     "text": [
      "bruteForceKnn is deprecated; call bfKnn instead\n"
     ]
    },
    {
     "name": "stdout",
     "output_type": "stream",
     "text": [
      "Jaccard distance computing time cost: 505.02907729148865\n",
      "Extracting Online Features for vgg16 ...\n",
      "Features extracted in 405.78 seconds\n",
      "Computing jaccard distance...\n"
     ]
    },
    {
     "name": "stderr",
     "output_type": "stream",
     "text": [
      "bruteForceKnn is deprecated; call bfKnn instead\n"
     ]
    },
    {
     "name": "stdout",
     "output_type": "stream",
     "text": [
      "Jaccard distance computing time cost: 522.541942358017\n",
      "Extracting Online Features for resnet50 ...\n",
      "Features extracted in 405.01 seconds\n",
      "Computing jaccard distance...\n"
     ]
    },
    {
     "name": "stderr",
     "output_type": "stream",
     "text": [
      "bruteForceKnn is deprecated; call bfKnn instead\n"
     ]
    },
    {
     "name": "stdout",
     "output_type": "stream",
     "text": [
      "Jaccard distance computing time cost: 515.504319190979\n",
      "Extracting Online Features for osnet ...\n",
      "Features extracted in 394.33 seconds\n",
      "Computing jaccard distance...\n"
     ]
    },
    {
     "name": "stderr",
     "output_type": "stream",
     "text": [
      "bruteForceKnn is deprecated; call bfKnn instead\n"
     ]
    },
    {
     "name": "stdout",
     "output_type": "stream",
     "text": [
      "Jaccard distance computing time cost: 201.71008729934692\n",
      "Extracting Online Features for densenet121 ...\n",
      "Features extracted in 407.02 seconds\n",
      "Computing jaccard distance...\n"
     ]
    },
    {
     "name": "stderr",
     "output_type": "stream",
     "text": [
      "bruteForceKnn is deprecated; call bfKnn instead\n"
     ]
    },
    {
     "name": "stdout",
     "output_type": "stream",
     "text": [
      "Jaccard distance computing time cost: 515.182094335556\n",
      "Reliability: 0.090\n",
      "\u001b[32mMean Purity: 0.03055\u001b[0m\n",
      "\u001b[34mThere are 26 clusters with 4 cameras\u001b[0m\n",
      "\u001b[34mThere are 22 clusters with 5 cameras\u001b[0m\n",
      "\u001b[34mThere are 19 clusters with 6 cameras\u001b[0m\n",
      "\u001b[34mThere are 14 clusters with 7 cameras\u001b[0m\n",
      "\u001b[34mThere are 8 clusters with 8 cameras\u001b[0m\n",
      "\u001b[34mThere are 7 clusters with 9 cameras\u001b[0m\n",
      "\u001b[34mThere are 5 clusters with 10 cameras\u001b[0m\n",
      "\u001b[34mThere are 4 clusters with 11 cameras\u001b[0m\n",
      "\u001b[34mThere are 6 clusters with 12 cameras\u001b[0m\n",
      "\u001b[34mThere are 6 clusters with 13 cameras\u001b[0m\n",
      "\u001b[34mThere are 1 clusters with 14 cameras\u001b[0m\n",
      "\u001b[34mThere are 2 clusters with 15 cameras\u001b[0m\n",
      "\u001b[34mThere are 2 clusters with 16 cameras\u001b[0m\n",
      "\u001b[34mThere are 1 clusters with 17 cameras\u001b[0m\n",
      "\u001b[34mThere are 5 clusters with 18 cameras\u001b[0m\n",
      "\u001b[34mThere are 3 clusters with 19 cameras\u001b[0m\n",
      "\u001b[34mThere are 4 clusters with 20 cameras\u001b[0m\n",
      "\u001b[34mThere are 2 clusters with 21 cameras\u001b[0m\n",
      "\u001b[34mThere are 2 clusters with 22 cameras\u001b[0m\n",
      "\u001b[34mThere are 2 clusters with 23 cameras\u001b[0m\n",
      "\u001b[34mThere are 1 clusters with 24 cameras\u001b[0m\n",
      "\u001b[34mThere are 1 clusters with 26 cameras\u001b[0m\n",
      "\u001b[34mThere are 2 clusters with 27 cameras\u001b[0m\n",
      "\u001b[34mThere are 2 clusters with 30 cameras\u001b[0m\n",
      "\u001b[34mThere are 2 clusters with 32 cameras\u001b[0m\n",
      "\u001b[34mThere are 1 clusters with 33 cameras\u001b[0m\n",
      "\u001b[34mThere are 3 clusters with 35 cameras\u001b[0m\n",
      "\u001b[34mThere are 1 clusters with 37 cameras\u001b[0m\n",
      "\u001b[34mThere are 1 clusters with 38 cameras\u001b[0m\n",
      "\u001b[34mThere are 1 clusters with 40 cameras\u001b[0m\n",
      "\u001b[34mThere are 2 clusters with 43 cameras\u001b[0m\n",
      "\u001b[34mThere are 3 clusters with 44 cameras\u001b[0m\n",
      "\u001b[34mThere are 1 clusters with 45 cameras\u001b[0m\n",
      "\u001b[34mThere are 1 clusters with 46 cameras\u001b[0m\n",
      "\u001b[34mThere are 1 clusters with 51 cameras\u001b[0m\n",
      "\u001b[34mThere are 2 clusters with 52 cameras\u001b[0m\n",
      "\u001b[34mThere are 1 clusters with 56 cameras\u001b[0m\n",
      "\u001b[34mThere are 1 clusters with 58 cameras\u001b[0m\n",
      "\u001b[34mThere are 2 clusters with 59 cameras\u001b[0m\n",
      "\u001b[34mThere are 1 clusters with 61 cameras\u001b[0m\n",
      "\u001b[34mThere are 1 clusters with 62 cameras\u001b[0m\n",
      "\u001b[34mThere are 1 clusters with 85 cameras\u001b[0m\n",
      "\u001b[34mThere are 1 clusters with 92 cameras\u001b[0m\n",
      "\u001b[34mThere are 1 clusters with 110 cameras\u001b[0m\n",
      "\u001b[34mThere are 1 clusters with 116 cameras\u001b[0m\n",
      "\u001b[34mThere are 1 clusters with 176 cameras\u001b[0m\n",
      "\u001b[34mThere are 1 clusters with 310 cameras\u001b[0m\n",
      "Number of classes: 178\n",
      "\u001b[36mLearning Rate: 0.000350\u001b[0m\n",
      "encontrou modelos efficientnet. Carregando...\n",
      "encontrou modelos convnext. Carregando...\n",
      "encontrou modelos mobilenet. Carregando...\n",
      "encontrou modelos vgg16. Carregando...\n",
      "encontrou modelos resnet50. Carregando...\n",
      "encontrou modelos osnet. Carregando...\n",
      "encontrou modelos densenet121. Carregando...\n",
      "###============ Iteration number 22/30 ============###\n",
      "Extracting Online Features for efficientnet ...\n",
      "Features extracted in 421.94 seconds\n",
      "Computing jaccard distance...\n"
     ]
    },
    {
     "name": "stderr",
     "output_type": "stream",
     "text": [
      "bruteForceKnn is deprecated; call bfKnn instead\n"
     ]
    },
    {
     "name": "stdout",
     "output_type": "stream",
     "text": [
      "Jaccard distance computing time cost: 518.7300353050232\n",
      "Extracting Online Features for convnext ...\n",
      "Features extracted in 404.86 seconds\n",
      "Computing jaccard distance...\n"
     ]
    },
    {
     "name": "stderr",
     "output_type": "stream",
     "text": [
      "bruteForceKnn is deprecated; call bfKnn instead\n"
     ]
    },
    {
     "name": "stdout",
     "output_type": "stream",
     "text": [
      "Jaccard distance computing time cost: 530.6687421798706\n",
      "Extracting Online Features for mobilenet ...\n",
      "Features extracted in 417.71 seconds\n",
      "Computing jaccard distance...\n"
     ]
    },
    {
     "name": "stderr",
     "output_type": "stream",
     "text": [
      "bruteForceKnn is deprecated; call bfKnn instead\n"
     ]
    },
    {
     "name": "stdout",
     "output_type": "stream",
     "text": [
      "Jaccard distance computing time cost: 533.089197397232\n",
      "Extracting Online Features for vgg16 ...\n",
      "Features extracted in 425.18 seconds\n",
      "Computing jaccard distance...\n"
     ]
    },
    {
     "name": "stderr",
     "output_type": "stream",
     "text": [
      "bruteForceKnn is deprecated; call bfKnn instead\n"
     ]
    },
    {
     "name": "stdout",
     "output_type": "stream",
     "text": [
      "Jaccard distance computing time cost: 524.6894991397858\n",
      "Extracting Online Features for resnet50 ...\n",
      "Features extracted in 415.78 seconds\n",
      "Computing jaccard distance...\n"
     ]
    },
    {
     "name": "stderr",
     "output_type": "stream",
     "text": [
      "bruteForceKnn is deprecated; call bfKnn instead\n"
     ]
    },
    {
     "name": "stdout",
     "output_type": "stream",
     "text": [
      "Jaccard distance computing time cost: 518.3675036430359\n",
      "Extracting Online Features for osnet ...\n",
      "Features extracted in 417.09 seconds\n",
      "Computing jaccard distance...\n"
     ]
    },
    {
     "name": "stderr",
     "output_type": "stream",
     "text": [
      "bruteForceKnn is deprecated; call bfKnn instead\n"
     ]
    },
    {
     "name": "stdout",
     "output_type": "stream",
     "text": [
      "Jaccard distance computing time cost: 324.5678985118866\n",
      "Extracting Online Features for densenet121 ...\n",
      "Features extracted in 414.41 seconds\n",
      "Computing jaccard distance...\n"
     ]
    },
    {
     "name": "stderr",
     "output_type": "stream",
     "text": [
      "bruteForceKnn is deprecated; call bfKnn instead\n"
     ]
    },
    {
     "name": "stdout",
     "output_type": "stream",
     "text": [
      "Jaccard distance computing time cost: 532.1878972053528\n",
      "Reliability: 0.090\n",
      "\u001b[32mMean Purity: 0.03055\u001b[0m\n",
      "\u001b[34mThere are 26 clusters with 4 cameras\u001b[0m\n",
      "\u001b[34mThere are 22 clusters with 5 cameras\u001b[0m\n",
      "\u001b[34mThere are 19 clusters with 6 cameras\u001b[0m\n",
      "\u001b[34mThere are 14 clusters with 7 cameras\u001b[0m\n",
      "\u001b[34mThere are 8 clusters with 8 cameras\u001b[0m\n",
      "\u001b[34mThere are 7 clusters with 9 cameras\u001b[0m\n",
      "\u001b[34mThere are 5 clusters with 10 cameras\u001b[0m\n",
      "\u001b[34mThere are 4 clusters with 11 cameras\u001b[0m\n",
      "\u001b[34mThere are 6 clusters with 12 cameras\u001b[0m\n",
      "\u001b[34mThere are 6 clusters with 13 cameras\u001b[0m\n",
      "\u001b[34mThere are 1 clusters with 14 cameras\u001b[0m\n",
      "\u001b[34mThere are 2 clusters with 15 cameras\u001b[0m\n",
      "\u001b[34mThere are 2 clusters with 16 cameras\u001b[0m\n",
      "\u001b[34mThere are 1 clusters with 17 cameras\u001b[0m\n",
      "\u001b[34mThere are 5 clusters with 18 cameras\u001b[0m\n",
      "\u001b[34mThere are 3 clusters with 19 cameras\u001b[0m\n",
      "\u001b[34mThere are 4 clusters with 20 cameras\u001b[0m\n",
      "\u001b[34mThere are 2 clusters with 21 cameras\u001b[0m\n",
      "\u001b[34mThere are 2 clusters with 22 cameras\u001b[0m\n",
      "\u001b[34mThere are 2 clusters with 23 cameras\u001b[0m\n",
      "\u001b[34mThere are 1 clusters with 24 cameras\u001b[0m\n",
      "\u001b[34mThere are 1 clusters with 26 cameras\u001b[0m\n",
      "\u001b[34mThere are 2 clusters with 27 cameras\u001b[0m\n",
      "\u001b[34mThere are 2 clusters with 30 cameras\u001b[0m\n",
      "\u001b[34mThere are 2 clusters with 32 cameras\u001b[0m\n",
      "\u001b[34mThere are 1 clusters with 33 cameras\u001b[0m\n",
      "\u001b[34mThere are 3 clusters with 35 cameras\u001b[0m\n",
      "\u001b[34mThere are 1 clusters with 37 cameras\u001b[0m\n",
      "\u001b[34mThere are 1 clusters with 38 cameras\u001b[0m\n",
      "\u001b[34mThere are 1 clusters with 40 cameras\u001b[0m\n",
      "\u001b[34mThere are 2 clusters with 43 cameras\u001b[0m\n",
      "\u001b[34mThere are 3 clusters with 44 cameras\u001b[0m\n",
      "\u001b[34mThere are 1 clusters with 45 cameras\u001b[0m\n",
      "\u001b[34mThere are 1 clusters with 46 cameras\u001b[0m\n",
      "\u001b[34mThere are 1 clusters with 51 cameras\u001b[0m\n",
      "\u001b[34mThere are 2 clusters with 52 cameras\u001b[0m\n",
      "\u001b[34mThere are 1 clusters with 56 cameras\u001b[0m\n",
      "\u001b[34mThere are 1 clusters with 58 cameras\u001b[0m\n",
      "\u001b[34mThere are 2 clusters with 59 cameras\u001b[0m\n",
      "\u001b[34mThere are 1 clusters with 61 cameras\u001b[0m\n",
      "\u001b[34mThere are 1 clusters with 62 cameras\u001b[0m\n",
      "\u001b[34mThere are 1 clusters with 85 cameras\u001b[0m\n",
      "\u001b[34mThere are 1 clusters with 92 cameras\u001b[0m\n",
      "\u001b[34mThere are 1 clusters with 110 cameras\u001b[0m\n",
      "\u001b[34mThere are 1 clusters with 116 cameras\u001b[0m\n",
      "\u001b[34mThere are 1 clusters with 176 cameras\u001b[0m\n",
      "\u001b[34mThere are 1 clusters with 310 cameras\u001b[0m\n",
      "Number of classes: 178\n",
      "\u001b[36mLearning Rate: 0.000350\u001b[0m\n",
      "encontrou modelos efficientnet. Carregando...\n",
      "encontrou modelos convnext. Carregando...\n",
      "encontrou modelos mobilenet. Carregando...\n",
      "encontrou modelos vgg16. Carregando...\n",
      "encontrou modelos resnet50. Carregando...\n",
      "encontrou modelos osnet. Carregando...\n",
      "encontrou modelos densenet121. Carregando...\n",
      "###============ Iteration number 23/30 ============###\n",
      "Extracting Online Features for efficientnet ...\n",
      "Features extracted in 408.07 seconds\n",
      "Computing jaccard distance...\n"
     ]
    },
    {
     "name": "stderr",
     "output_type": "stream",
     "text": [
      "bruteForceKnn is deprecated; call bfKnn instead\n"
     ]
    },
    {
     "name": "stdout",
     "output_type": "stream",
     "text": [
      "Jaccard distance computing time cost: 527.6655559539795\n",
      "Extracting Online Features for convnext ...\n",
      "Features extracted in 416.83 seconds\n",
      "Computing jaccard distance...\n"
     ]
    },
    {
     "name": "stderr",
     "output_type": "stream",
     "text": [
      "bruteForceKnn is deprecated; call bfKnn instead\n"
     ]
    },
    {
     "name": "stdout",
     "output_type": "stream",
     "text": [
      "Jaccard distance computing time cost: 521.479879617691\n",
      "Extracting Online Features for mobilenet ...\n",
      "Features extracted in 389.71 seconds\n",
      "Computing jaccard distance...\n"
     ]
    },
    {
     "name": "stderr",
     "output_type": "stream",
     "text": [
      "bruteForceKnn is deprecated; call bfKnn instead\n"
     ]
    },
    {
     "name": "stdout",
     "output_type": "stream",
     "text": [
      "Jaccard distance computing time cost: 532.1590514183044\n",
      "Extracting Online Features for vgg16 ...\n",
      "Features extracted in 405.17 seconds\n",
      "Computing jaccard distance...\n"
     ]
    },
    {
     "name": "stderr",
     "output_type": "stream",
     "text": [
      "bruteForceKnn is deprecated; call bfKnn instead\n"
     ]
    },
    {
     "name": "stdout",
     "output_type": "stream",
     "text": [
      "Jaccard distance computing time cost: 502.789826631546\n",
      "Extracting Online Features for resnet50 ...\n",
      "Features extracted in 410.45 seconds\n",
      "Computing jaccard distance...\n"
     ]
    },
    {
     "name": "stderr",
     "output_type": "stream",
     "text": [
      "bruteForceKnn is deprecated; call bfKnn instead\n"
     ]
    },
    {
     "name": "stdout",
     "output_type": "stream",
     "text": [
      "Jaccard distance computing time cost: 527.7556800842285\n",
      "Extracting Online Features for osnet ...\n",
      "Features extracted in 406.87 seconds\n",
      "Computing jaccard distance...\n"
     ]
    },
    {
     "name": "stderr",
     "output_type": "stream",
     "text": [
      "bruteForceKnn is deprecated; call bfKnn instead\n"
     ]
    },
    {
     "name": "stdout",
     "output_type": "stream",
     "text": [
      "Jaccard distance computing time cost: 313.79239892959595\n",
      "Extracting Online Features for densenet121 ...\n",
      "Features extracted in 411.18 seconds\n",
      "Computing jaccard distance...\n"
     ]
    },
    {
     "name": "stderr",
     "output_type": "stream",
     "text": [
      "bruteForceKnn is deprecated; call bfKnn instead\n"
     ]
    },
    {
     "name": "stdout",
     "output_type": "stream",
     "text": [
      "Jaccard distance computing time cost: 509.33782172203064\n",
      "Reliability: 0.090\n",
      "\u001b[32mMean Purity: 0.03055\u001b[0m\n",
      "\u001b[34mThere are 26 clusters with 4 cameras\u001b[0m\n",
      "\u001b[34mThere are 22 clusters with 5 cameras\u001b[0m\n",
      "\u001b[34mThere are 19 clusters with 6 cameras\u001b[0m\n",
      "\u001b[34mThere are 14 clusters with 7 cameras\u001b[0m\n",
      "\u001b[34mThere are 8 clusters with 8 cameras\u001b[0m\n",
      "\u001b[34mThere are 7 clusters with 9 cameras\u001b[0m\n",
      "\u001b[34mThere are 5 clusters with 10 cameras\u001b[0m\n",
      "\u001b[34mThere are 4 clusters with 11 cameras\u001b[0m\n",
      "\u001b[34mThere are 6 clusters with 12 cameras\u001b[0m\n",
      "\u001b[34mThere are 6 clusters with 13 cameras\u001b[0m\n",
      "\u001b[34mThere are 1 clusters with 14 cameras\u001b[0m\n",
      "\u001b[34mThere are 2 clusters with 15 cameras\u001b[0m\n",
      "\u001b[34mThere are 2 clusters with 16 cameras\u001b[0m\n",
      "\u001b[34mThere are 1 clusters with 17 cameras\u001b[0m\n",
      "\u001b[34mThere are 5 clusters with 18 cameras\u001b[0m\n",
      "\u001b[34mThere are 3 clusters with 19 cameras\u001b[0m\n",
      "\u001b[34mThere are 4 clusters with 20 cameras\u001b[0m\n",
      "\u001b[34mThere are 2 clusters with 21 cameras\u001b[0m\n",
      "\u001b[34mThere are 2 clusters with 22 cameras\u001b[0m\n",
      "\u001b[34mThere are 2 clusters with 23 cameras\u001b[0m\n",
      "\u001b[34mThere are 1 clusters with 24 cameras\u001b[0m\n",
      "\u001b[34mThere are 1 clusters with 26 cameras\u001b[0m\n",
      "\u001b[34mThere are 2 clusters with 27 cameras\u001b[0m\n",
      "\u001b[34mThere are 2 clusters with 30 cameras\u001b[0m\n",
      "\u001b[34mThere are 2 clusters with 32 cameras\u001b[0m\n",
      "\u001b[34mThere are 1 clusters with 33 cameras\u001b[0m\n",
      "\u001b[34mThere are 3 clusters with 35 cameras\u001b[0m\n",
      "\u001b[34mThere are 1 clusters with 37 cameras\u001b[0m\n",
      "\u001b[34mThere are 1 clusters with 38 cameras\u001b[0m\n",
      "\u001b[34mThere are 1 clusters with 40 cameras\u001b[0m\n",
      "\u001b[34mThere are 2 clusters with 43 cameras\u001b[0m\n",
      "\u001b[34mThere are 3 clusters with 44 cameras\u001b[0m\n",
      "\u001b[34mThere are 1 clusters with 45 cameras\u001b[0m\n",
      "\u001b[34mThere are 1 clusters with 46 cameras\u001b[0m\n",
      "\u001b[34mThere are 1 clusters with 51 cameras\u001b[0m\n",
      "\u001b[34mThere are 2 clusters with 52 cameras\u001b[0m\n",
      "\u001b[34mThere are 1 clusters with 56 cameras\u001b[0m\n",
      "\u001b[34mThere are 1 clusters with 58 cameras\u001b[0m\n",
      "\u001b[34mThere are 2 clusters with 59 cameras\u001b[0m\n",
      "\u001b[34mThere are 1 clusters with 61 cameras\u001b[0m\n",
      "\u001b[34mThere are 1 clusters with 62 cameras\u001b[0m\n",
      "\u001b[34mThere are 1 clusters with 85 cameras\u001b[0m\n",
      "\u001b[34mThere are 1 clusters with 92 cameras\u001b[0m\n",
      "\u001b[34mThere are 1 clusters with 110 cameras\u001b[0m\n",
      "\u001b[34mThere are 1 clusters with 116 cameras\u001b[0m\n",
      "\u001b[34mThere are 1 clusters with 176 cameras\u001b[0m\n",
      "\u001b[34mThere are 1 clusters with 310 cameras\u001b[0m\n",
      "Number of classes: 178\n",
      "\u001b[36mLearning Rate: 0.000350\u001b[0m\n",
      "encontrou modelos efficientnet. Carregando...\n",
      "encontrou modelos convnext. Carregando...\n",
      "encontrou modelos mobilenet. Carregando...\n",
      "encontrou modelos vgg16. Carregando...\n",
      "encontrou modelos resnet50. Carregando...\n",
      "encontrou modelos osnet. Carregando...\n",
      "encontrou modelos densenet121. Carregando...\n",
      "###============ Iteration number 24/30 ============###\n",
      "Extracting Online Features for efficientnet ...\n",
      "Features extracted in 414.26 seconds\n",
      "Computing jaccard distance...\n"
     ]
    },
    {
     "name": "stderr",
     "output_type": "stream",
     "text": [
      "bruteForceKnn is deprecated; call bfKnn instead\n"
     ]
    },
    {
     "name": "stdout",
     "output_type": "stream",
     "text": [
      "Jaccard distance computing time cost: 538.469722032547\n",
      "Extracting Online Features for convnext ...\n",
      "Features extracted in 418.65 seconds\n",
      "Computing jaccard distance...\n"
     ]
    },
    {
     "name": "stderr",
     "output_type": "stream",
     "text": [
      "bruteForceKnn is deprecated; call bfKnn instead\n"
     ]
    },
    {
     "name": "stdout",
     "output_type": "stream",
     "text": [
      "Jaccard distance computing time cost: 542.3371169567108\n",
      "Extracting Online Features for mobilenet ...\n",
      "Features extracted in 425.19 seconds\n",
      "Computing jaccard distance...\n"
     ]
    },
    {
     "name": "stderr",
     "output_type": "stream",
     "text": [
      "bruteForceKnn is deprecated; call bfKnn instead\n"
     ]
    },
    {
     "name": "stdout",
     "output_type": "stream",
     "text": [
      "Jaccard distance computing time cost: 285.7467622756958\n",
      "Extracting Online Features for vgg16 ...\n",
      "Features extracted in 403.68 seconds\n",
      "Computing jaccard distance...\n"
     ]
    },
    {
     "name": "stderr",
     "output_type": "stream",
     "text": [
      "bruteForceKnn is deprecated; call bfKnn instead\n"
     ]
    },
    {
     "name": "stdout",
     "output_type": "stream",
     "text": [
      "Jaccard distance computing time cost: 545.6877579689026\n",
      "Extracting Online Features for resnet50 ...\n",
      "Features extracted in 419.18 seconds\n",
      "Computing jaccard distance...\n"
     ]
    },
    {
     "name": "stderr",
     "output_type": "stream",
     "text": [
      "bruteForceKnn is deprecated; call bfKnn instead\n"
     ]
    },
    {
     "name": "stdout",
     "output_type": "stream",
     "text": [
      "Jaccard distance computing time cost: 526.4573826789856\n",
      "Extracting Online Features for osnet ...\n",
      "Features extracted in 408.55 seconds\n",
      "Computing jaccard distance...\n"
     ]
    },
    {
     "name": "stderr",
     "output_type": "stream",
     "text": [
      "bruteForceKnn is deprecated; call bfKnn instead\n"
     ]
    },
    {
     "name": "stdout",
     "output_type": "stream",
     "text": [
      "Jaccard distance computing time cost: 303.7474503517151\n",
      "Extracting Online Features for densenet121 ...\n",
      "Features extracted in 404.16 seconds\n",
      "Computing jaccard distance...\n"
     ]
    },
    {
     "name": "stderr",
     "output_type": "stream",
     "text": [
      "bruteForceKnn is deprecated; call bfKnn instead\n"
     ]
    },
    {
     "name": "stdout",
     "output_type": "stream",
     "text": [
      "Jaccard distance computing time cost: 536.8407046794891\n",
      "Reliability: 0.090\n",
      "\u001b[32mMean Purity: 0.03055\u001b[0m\n",
      "\u001b[34mThere are 26 clusters with 4 cameras\u001b[0m\n",
      "\u001b[34mThere are 22 clusters with 5 cameras\u001b[0m\n",
      "\u001b[34mThere are 19 clusters with 6 cameras\u001b[0m\n",
      "\u001b[34mThere are 14 clusters with 7 cameras\u001b[0m\n",
      "\u001b[34mThere are 8 clusters with 8 cameras\u001b[0m\n",
      "\u001b[34mThere are 7 clusters with 9 cameras\u001b[0m\n",
      "\u001b[34mThere are 5 clusters with 10 cameras\u001b[0m\n",
      "\u001b[34mThere are 4 clusters with 11 cameras\u001b[0m\n",
      "\u001b[34mThere are 6 clusters with 12 cameras\u001b[0m\n",
      "\u001b[34mThere are 6 clusters with 13 cameras\u001b[0m\n",
      "\u001b[34mThere are 1 clusters with 14 cameras\u001b[0m\n",
      "\u001b[34mThere are 2 clusters with 15 cameras\u001b[0m\n",
      "\u001b[34mThere are 2 clusters with 16 cameras\u001b[0m\n",
      "\u001b[34mThere are 1 clusters with 17 cameras\u001b[0m\n",
      "\u001b[34mThere are 5 clusters with 18 cameras\u001b[0m\n",
      "\u001b[34mThere are 3 clusters with 19 cameras\u001b[0m\n",
      "\u001b[34mThere are 4 clusters with 20 cameras\u001b[0m\n",
      "\u001b[34mThere are 2 clusters with 21 cameras\u001b[0m\n",
      "\u001b[34mThere are 2 clusters with 22 cameras\u001b[0m\n",
      "\u001b[34mThere are 2 clusters with 23 cameras\u001b[0m\n",
      "\u001b[34mThere are 1 clusters with 24 cameras\u001b[0m\n",
      "\u001b[34mThere are 1 clusters with 26 cameras\u001b[0m\n",
      "\u001b[34mThere are 2 clusters with 27 cameras\u001b[0m\n",
      "\u001b[34mThere are 2 clusters with 30 cameras\u001b[0m\n",
      "\u001b[34mThere are 2 clusters with 32 cameras\u001b[0m\n",
      "\u001b[34mThere are 1 clusters with 33 cameras\u001b[0m\n",
      "\u001b[34mThere are 3 clusters with 35 cameras\u001b[0m\n",
      "\u001b[34mThere are 1 clusters with 37 cameras\u001b[0m\n",
      "\u001b[34mThere are 1 clusters with 38 cameras\u001b[0m\n",
      "\u001b[34mThere are 1 clusters with 40 cameras\u001b[0m\n",
      "\u001b[34mThere are 2 clusters with 43 cameras\u001b[0m\n",
      "\u001b[34mThere are 3 clusters with 44 cameras\u001b[0m\n",
      "\u001b[34mThere are 1 clusters with 45 cameras\u001b[0m\n",
      "\u001b[34mThere are 1 clusters with 46 cameras\u001b[0m\n",
      "\u001b[34mThere are 1 clusters with 51 cameras\u001b[0m\n",
      "\u001b[34mThere are 2 clusters with 52 cameras\u001b[0m\n",
      "\u001b[34mThere are 1 clusters with 56 cameras\u001b[0m\n",
      "\u001b[34mThere are 1 clusters with 58 cameras\u001b[0m\n",
      "\u001b[34mThere are 2 clusters with 59 cameras\u001b[0m\n",
      "\u001b[34mThere are 1 clusters with 61 cameras\u001b[0m\n",
      "\u001b[34mThere are 1 clusters with 62 cameras\u001b[0m\n",
      "\u001b[34mThere are 1 clusters with 85 cameras\u001b[0m\n",
      "\u001b[34mThere are 1 clusters with 92 cameras\u001b[0m\n",
      "\u001b[34mThere are 1 clusters with 110 cameras\u001b[0m\n",
      "\u001b[34mThere are 1 clusters with 116 cameras\u001b[0m\n",
      "\u001b[34mThere are 1 clusters with 176 cameras\u001b[0m\n",
      "\u001b[34mThere are 1 clusters with 310 cameras\u001b[0m\n",
      "Number of classes: 178\n",
      "\u001b[36mLearning Rate: 0.000350\u001b[0m\n",
      "encontrou modelos efficientnet. Carregando...\n",
      "encontrou modelos convnext. Carregando...\n",
      "encontrou modelos mobilenet. Carregando...\n",
      "encontrou modelos vgg16. Carregando...\n",
      "encontrou modelos resnet50. Carregando...\n",
      "encontrou modelos osnet. Carregando...\n",
      "encontrou modelos densenet121. Carregando...\n",
      "###============ Iteration number 25/30 ============###\n",
      "Extracting Online Features for efficientnet ...\n",
      "Features extracted in 411.42 seconds\n",
      "Computing jaccard distance...\n"
     ]
    },
    {
     "name": "stderr",
     "output_type": "stream",
     "text": [
      "bruteForceKnn is deprecated; call bfKnn instead\n"
     ]
    },
    {
     "name": "stdout",
     "output_type": "stream",
     "text": [
      "Jaccard distance computing time cost: 542.2117128372192\n",
      "Extracting Online Features for convnext ...\n",
      "Features extracted in 419.16 seconds\n",
      "Computing jaccard distance...\n"
     ]
    },
    {
     "name": "stderr",
     "output_type": "stream",
     "text": [
      "bruteForceKnn is deprecated; call bfKnn instead\n"
     ]
    },
    {
     "name": "stdout",
     "output_type": "stream",
     "text": [
      "Jaccard distance computing time cost: 473.62732672691345\n",
      "Extracting Online Features for mobilenet ...\n",
      "Features extracted in 404.79 seconds\n",
      "Computing jaccard distance...\n"
     ]
    },
    {
     "name": "stderr",
     "output_type": "stream",
     "text": [
      "bruteForceKnn is deprecated; call bfKnn instead\n"
     ]
    },
    {
     "name": "stdout",
     "output_type": "stream",
     "text": [
      "Jaccard distance computing time cost: 534.236147403717\n",
      "Extracting Online Features for vgg16 ...\n",
      "Features extracted in 405.79 seconds\n",
      "Computing jaccard distance...\n"
     ]
    },
    {
     "name": "stderr",
     "output_type": "stream",
     "text": [
      "bruteForceKnn is deprecated; call bfKnn instead\n"
     ]
    },
    {
     "name": "stdout",
     "output_type": "stream",
     "text": [
      "Jaccard distance computing time cost: 425.2604374885559\n",
      "Extracting Online Features for resnet50 ...\n",
      "Features extracted in 408.97 seconds\n",
      "Computing jaccard distance...\n"
     ]
    },
    {
     "name": "stderr",
     "output_type": "stream",
     "text": [
      "bruteForceKnn is deprecated; call bfKnn instead\n"
     ]
    },
    {
     "name": "stdout",
     "output_type": "stream",
     "text": [
      "Jaccard distance computing time cost: 526.0638837814331\n",
      "Extracting Online Features for osnet ...\n",
      "Features extracted in 401.54 seconds\n",
      "Computing jaccard distance...\n"
     ]
    },
    {
     "name": "stderr",
     "output_type": "stream",
     "text": [
      "bruteForceKnn is deprecated; call bfKnn instead\n"
     ]
    },
    {
     "name": "stdout",
     "output_type": "stream",
     "text": [
      "Jaccard distance computing time cost: 321.8544580936432\n",
      "Extracting Online Features for densenet121 ...\n",
      "Features extracted in 420.27 seconds\n",
      "Computing jaccard distance...\n"
     ]
    },
    {
     "name": "stderr",
     "output_type": "stream",
     "text": [
      "bruteForceKnn is deprecated; call bfKnn instead\n"
     ]
    },
    {
     "name": "stdout",
     "output_type": "stream",
     "text": [
      "Jaccard distance computing time cost: 548.0517168045044\n",
      "Reliability: 0.090\n",
      "\u001b[32mMean Purity: 0.03055\u001b[0m\n",
      "\u001b[34mThere are 26 clusters with 4 cameras\u001b[0m\n",
      "\u001b[34mThere are 22 clusters with 5 cameras\u001b[0m\n",
      "\u001b[34mThere are 19 clusters with 6 cameras\u001b[0m\n",
      "\u001b[34mThere are 14 clusters with 7 cameras\u001b[0m\n",
      "\u001b[34mThere are 8 clusters with 8 cameras\u001b[0m\n",
      "\u001b[34mThere are 7 clusters with 9 cameras\u001b[0m\n",
      "\u001b[34mThere are 5 clusters with 10 cameras\u001b[0m\n",
      "\u001b[34mThere are 4 clusters with 11 cameras\u001b[0m\n",
      "\u001b[34mThere are 6 clusters with 12 cameras\u001b[0m\n",
      "\u001b[34mThere are 6 clusters with 13 cameras\u001b[0m\n",
      "\u001b[34mThere are 1 clusters with 14 cameras\u001b[0m\n",
      "\u001b[34mThere are 2 clusters with 15 cameras\u001b[0m\n",
      "\u001b[34mThere are 2 clusters with 16 cameras\u001b[0m\n",
      "\u001b[34mThere are 1 clusters with 17 cameras\u001b[0m\n",
      "\u001b[34mThere are 5 clusters with 18 cameras\u001b[0m\n",
      "\u001b[34mThere are 3 clusters with 19 cameras\u001b[0m\n",
      "\u001b[34mThere are 4 clusters with 20 cameras\u001b[0m\n",
      "\u001b[34mThere are 2 clusters with 21 cameras\u001b[0m\n",
      "\u001b[34mThere are 2 clusters with 22 cameras\u001b[0m\n",
      "\u001b[34mThere are 2 clusters with 23 cameras\u001b[0m\n",
      "\u001b[34mThere are 1 clusters with 24 cameras\u001b[0m\n",
      "\u001b[34mThere are 1 clusters with 26 cameras\u001b[0m\n",
      "\u001b[34mThere are 2 clusters with 27 cameras\u001b[0m\n",
      "\u001b[34mThere are 2 clusters with 30 cameras\u001b[0m\n",
      "\u001b[34mThere are 2 clusters with 32 cameras\u001b[0m\n",
      "\u001b[34mThere are 1 clusters with 33 cameras\u001b[0m\n",
      "\u001b[34mThere are 3 clusters with 35 cameras\u001b[0m\n",
      "\u001b[34mThere are 1 clusters with 37 cameras\u001b[0m\n",
      "\u001b[34mThere are 1 clusters with 38 cameras\u001b[0m\n",
      "\u001b[34mThere are 1 clusters with 40 cameras\u001b[0m\n",
      "\u001b[34mThere are 2 clusters with 43 cameras\u001b[0m\n",
      "\u001b[34mThere are 3 clusters with 44 cameras\u001b[0m\n",
      "\u001b[34mThere are 1 clusters with 45 cameras\u001b[0m\n",
      "\u001b[34mThere are 1 clusters with 46 cameras\u001b[0m\n",
      "\u001b[34mThere are 1 clusters with 51 cameras\u001b[0m\n",
      "\u001b[34mThere are 2 clusters with 52 cameras\u001b[0m\n",
      "\u001b[34mThere are 1 clusters with 56 cameras\u001b[0m\n",
      "\u001b[34mThere are 1 clusters with 58 cameras\u001b[0m\n",
      "\u001b[34mThere are 2 clusters with 59 cameras\u001b[0m\n",
      "\u001b[34mThere are 1 clusters with 61 cameras\u001b[0m\n",
      "\u001b[34mThere are 1 clusters with 62 cameras\u001b[0m\n",
      "\u001b[34mThere are 1 clusters with 85 cameras\u001b[0m\n",
      "\u001b[34mThere are 1 clusters with 92 cameras\u001b[0m\n",
      "\u001b[34mThere are 1 clusters with 110 cameras\u001b[0m\n",
      "\u001b[34mThere are 1 clusters with 116 cameras\u001b[0m\n",
      "\u001b[34mThere are 1 clusters with 176 cameras\u001b[0m\n",
      "\u001b[34mThere are 1 clusters with 310 cameras\u001b[0m\n",
      "Number of classes: 178\n",
      "\u001b[36mLearning Rate: 0.000350\u001b[0m\n",
      "encontrou modelos efficientnet. Carregando...\n",
      "encontrou modelos convnext. Carregando...\n",
      "encontrou modelos mobilenet. Carregando...\n",
      "encontrou modelos vgg16. Carregando...\n",
      "encontrou modelos resnet50. Carregando...\n",
      "encontrou modelos osnet. Carregando...\n",
      "encontrou modelos densenet121. Carregando...\n",
      "\u001b[33mValidating online efficientnet ...\u001b[0m\n",
      "Features extracted in 127.22 seconds\n",
      "Features extracted in 255.98 seconds\n",
      "Computing CMC and mAP ...\n",
      "** Results **\n",
      "mAP: 66.44%\n",
      "CMC curve\n",
      "Rank-1  : 45.27%\n",
      "Rank-5  : 81.23%\n",
      "Rank-10 : 92.71%\n",
      "Rank-20 : 98.74%\n",
      "\u001b[33mValidating momentum efficientnet ...\u001b[0m\n",
      "Features extracted in 127.62 seconds\n",
      "Features extracted in 252.43 seconds\n",
      "Computing CMC and mAP ...\n",
      "** Results **\n",
      "mAP: 66.35%\n",
      "CMC curve\n",
      "Rank-1  : 47.67%\n",
      "Rank-5  : 83.22%\n",
      "Rank-10 : 91.90%\n",
      "Rank-20 : 96.88%\n",
      "\u001b[33mValidating online convnext ...\u001b[0m\n",
      "Features extracted in 128.96 seconds\n",
      "Features extracted in 257.62 seconds\n",
      "Computing CMC and mAP ...\n",
      "** Results **\n",
      "mAP: 65.95%\n",
      "CMC curve\n",
      "Rank-1  : 45.01%\n",
      "Rank-5  : 73.92%\n",
      "Rank-10 : 84.08%\n",
      "Rank-20 : 92.69%\n",
      "\u001b[33mValidating momentum convnext ...\u001b[0m\n",
      "Features extracted in 118.90 seconds\n",
      "Features extracted in 254.53 seconds\n",
      "Computing CMC and mAP ...\n",
      "** Results **\n",
      "mAP: 64.97%\n",
      "CMC curve\n",
      "Rank-1  : 45.72%\n",
      "Rank-5  : 74.96%\n",
      "Rank-10 : 87.06%\n",
      "Rank-20 : 94.88%\n",
      "\u001b[33mValidating online mobilenet ...\u001b[0m\n",
      "Features extracted in 125.77 seconds\n",
      "Features extracted in 248.53 seconds\n",
      "Computing CMC and mAP ...\n",
      "** Results **\n",
      "mAP: 66.77%\n",
      "CMC curve\n",
      "Rank-1  : 53.46%\n",
      "Rank-5  : 85.98%\n",
      "Rank-10 : 93.64%\n",
      "Rank-20 : 98.44%\n",
      "\u001b[33mValidating momentum mobilenet ...\u001b[0m\n",
      "Features extracted in 125.46 seconds\n",
      "Features extracted in 249.13 seconds\n",
      "Computing CMC and mAP ...\n",
      "** Results **\n",
      "mAP: 66.43%\n",
      "CMC curve\n",
      "Rank-1  : 52.90%\n",
      "Rank-5  : 85.26%\n",
      "Rank-10 : 93.91%\n",
      "Rank-20 : 98.53%\n",
      "\u001b[33mValidating online vgg16 ...\u001b[0m\n",
      "Features extracted in 122.34 seconds\n",
      "Features extracted in 255.38 seconds\n",
      "Computing CMC and mAP ...\n",
      "** Results **\n",
      "mAP: 65.62%\n",
      "CMC curve\n",
      "Rank-1  : 46.16%\n",
      "Rank-5  : 76.20%\n",
      "Rank-10 : 85.61%\n",
      "Rank-20 : 92.69%\n",
      "\u001b[33mValidating momentum vgg16 ...\u001b[0m\n",
      "Features extracted in 129.59 seconds\n",
      "Features extracted in 252.14 seconds\n",
      "Computing CMC and mAP ...\n",
      "** Results **\n",
      "mAP: 65.60%\n",
      "CMC curve\n",
      "Rank-1  : 45.96%\n",
      "Rank-5  : 81.83%\n",
      "Rank-10 : 90.44%\n",
      "Rank-20 : 96.43%\n",
      "\u001b[33mValidating online resnet50 ...\u001b[0m\n",
      "Features extracted in 125.60 seconds\n",
      "Features extracted in 249.80 seconds\n",
      "Computing CMC and mAP ...\n",
      "** Results **\n",
      "mAP: 65.52%\n",
      "CMC curve\n",
      "Rank-1  : 48.57%\n",
      "Rank-5  : 73.66%\n",
      "Rank-10 : 81.49%\n",
      "Rank-20 : 89.43%\n",
      "\u001b[33mValidating momentum resnet50 ...\u001b[0m\n",
      "Features extracted in 127.46 seconds\n",
      "Features extracted in 253.66 seconds\n",
      "Computing CMC and mAP ...\n",
      "** Results **\n",
      "mAP: 64.98%\n",
      "CMC curve\n",
      "Rank-1  : 43.34%\n",
      "Rank-5  : 71.03%\n",
      "Rank-10 : 80.69%\n",
      "Rank-20 : 89.93%\n",
      "\u001b[33mValidating online osnet ...\u001b[0m\n",
      "Features extracted in 128.93 seconds\n",
      "Features extracted in 255.10 seconds\n",
      "Computing CMC and mAP ...\n",
      "** Results **\n",
      "mAP: 66.17%\n",
      "CMC curve\n",
      "Rank-1  : 46.27%\n",
      "Rank-5  : 79.73%\n",
      "Rank-10 : 90.06%\n",
      "Rank-20 : 96.66%\n",
      "\u001b[33mValidating momentum osnet ...\u001b[0m\n",
      "Features extracted in 129.18 seconds\n",
      "Features extracted in 253.40 seconds\n",
      "Computing CMC and mAP ...\n",
      "** Results **\n",
      "mAP: 67.06%\n",
      "CMC curve\n",
      "Rank-1  : 51.53%\n",
      "Rank-5  : 86.66%\n",
      "Rank-10 : 95.02%\n",
      "Rank-20 : 98.72%\n",
      "\u001b[33mValidating online densenet121 ...\u001b[0m\n",
      "Features extracted in 122.68 seconds\n",
      "Features extracted in 259.50 seconds\n",
      "Computing CMC and mAP ...\n",
      "** Results **\n",
      "mAP: 65.51%\n",
      "CMC curve\n",
      "Rank-1  : 47.23%\n",
      "Rank-5  : 71.30%\n",
      "Rank-10 : 80.04%\n",
      "Rank-20 : 90.32%\n",
      "\u001b[33mValidating momentum densenet121 ...\u001b[0m\n",
      "Features extracted in 128.12 seconds\n",
      "Features extracted in 254.46 seconds\n",
      "Computing CMC and mAP ...\n",
      "** Results **\n",
      "mAP: 65.70%\n",
      "CMC curve\n",
      "Rank-1  : 46.44%\n",
      "Rank-5  : 79.26%\n",
      "Rank-10 : 88.68%\n",
      "Rank-20 : 95.10%\n",
      "\u001b[33mValidating ensembled with online models ...\u001b[0m\n",
      "Computing CMC and mAP ...\n",
      "** Results **\n",
      "mAP: 65.79%\n",
      "Ranks:\n",
      "Rank-1  : 47.30%\n",
      "Rank-5  : 72.71%\n",
      "Rank-10 : 80.86%\n",
      "\u001b[33mValidating ensembled with momentum models ...\u001b[0m\n",
      "Computing CMC and mAP ...\n",
      "** Results **\n",
      "mAP: 65.37%\n",
      "Ranks:\n",
      "Rank-1  : 43.97%\n",
      "Rank-5  : 75.76%\n",
      "Rank-10 : 85.48%\n",
      "###============ Iteration number 26/30 ============###\n",
      "Extracting Online Features for efficientnet ...\n",
      "Features extracted in 427.58 seconds\n",
      "Computing jaccard distance...\n"
     ]
    },
    {
     "name": "stderr",
     "output_type": "stream",
     "text": [
      "bruteForceKnn is deprecated; call bfKnn instead\n"
     ]
    },
    {
     "name": "stdout",
     "output_type": "stream",
     "text": [
      "Jaccard distance computing time cost: 578.2442100048065\n",
      "Extracting Online Features for convnext ...\n",
      "Features extracted in 416.77 seconds\n",
      "Computing jaccard distance...\n"
     ]
    },
    {
     "name": "stderr",
     "output_type": "stream",
     "text": [
      "bruteForceKnn is deprecated; call bfKnn instead\n"
     ]
    },
    {
     "name": "stdout",
     "output_type": "stream",
     "text": [
      "Jaccard distance computing time cost: 569.4252917766571\n",
      "Extracting Online Features for mobilenet ...\n",
      "Features extracted in 423.85 seconds\n",
      "Computing jaccard distance...\n"
     ]
    },
    {
     "name": "stderr",
     "output_type": "stream",
     "text": [
      "bruteForceKnn is deprecated; call bfKnn instead\n"
     ]
    },
    {
     "name": "stdout",
     "output_type": "stream",
     "text": [
      "Jaccard distance computing time cost: 546.8968455791473\n",
      "Extracting Online Features for vgg16 ...\n",
      "Features extracted in 417.50 seconds\n",
      "Computing jaccard distance...\n"
     ]
    },
    {
     "name": "stderr",
     "output_type": "stream",
     "text": [
      "bruteForceKnn is deprecated; call bfKnn instead\n"
     ]
    },
    {
     "name": "stdout",
     "output_type": "stream",
     "text": [
      "Jaccard distance computing time cost: 542.834507226944\n",
      "Extracting Online Features for resnet50 ...\n",
      "Features extracted in 403.49 seconds\n",
      "Computing jaccard distance...\n"
     ]
    },
    {
     "name": "stderr",
     "output_type": "stream",
     "text": [
      "bruteForceKnn is deprecated; call bfKnn instead\n"
     ]
    },
    {
     "name": "stdout",
     "output_type": "stream",
     "text": [
      "Jaccard distance computing time cost: 544.0178463459015\n",
      "Extracting Online Features for osnet ...\n",
      "Features extracted in 414.19 seconds\n",
      "Computing jaccard distance...\n"
     ]
    },
    {
     "name": "stderr",
     "output_type": "stream",
     "text": [
      "bruteForceKnn is deprecated; call bfKnn instead\n"
     ]
    },
    {
     "name": "stdout",
     "output_type": "stream",
     "text": [
      "Jaccard distance computing time cost: 341.43240785598755\n",
      "Extracting Online Features for densenet121 ...\n",
      "Features extracted in 418.13 seconds\n",
      "Computing jaccard distance...\n"
     ]
    },
    {
     "name": "stderr",
     "output_type": "stream",
     "text": [
      "bruteForceKnn is deprecated; call bfKnn instead\n"
     ]
    },
    {
     "name": "stdout",
     "output_type": "stream",
     "text": [
      "Jaccard distance computing time cost: 564.6354401111603\n",
      "Reliability: 0.090\n",
      "\u001b[32mMean Purity: 0.03055\u001b[0m\n",
      "\u001b[34mThere are 26 clusters with 4 cameras\u001b[0m\n",
      "\u001b[34mThere are 22 clusters with 5 cameras\u001b[0m\n",
      "\u001b[34mThere are 19 clusters with 6 cameras\u001b[0m\n",
      "\u001b[34mThere are 14 clusters with 7 cameras\u001b[0m\n",
      "\u001b[34mThere are 8 clusters with 8 cameras\u001b[0m\n",
      "\u001b[34mThere are 7 clusters with 9 cameras\u001b[0m\n",
      "\u001b[34mThere are 5 clusters with 10 cameras\u001b[0m\n",
      "\u001b[34mThere are 4 clusters with 11 cameras\u001b[0m\n",
      "\u001b[34mThere are 6 clusters with 12 cameras\u001b[0m\n",
      "\u001b[34mThere are 6 clusters with 13 cameras\u001b[0m\n",
      "\u001b[34mThere are 1 clusters with 14 cameras\u001b[0m\n",
      "\u001b[34mThere are 2 clusters with 15 cameras\u001b[0m\n",
      "\u001b[34mThere are 2 clusters with 16 cameras\u001b[0m\n",
      "\u001b[34mThere are 1 clusters with 17 cameras\u001b[0m\n",
      "\u001b[34mThere are 5 clusters with 18 cameras\u001b[0m\n",
      "\u001b[34mThere are 3 clusters with 19 cameras\u001b[0m\n",
      "\u001b[34mThere are 4 clusters with 20 cameras\u001b[0m\n",
      "\u001b[34mThere are 2 clusters with 21 cameras\u001b[0m\n",
      "\u001b[34mThere are 2 clusters with 22 cameras\u001b[0m\n",
      "\u001b[34mThere are 2 clusters with 23 cameras\u001b[0m\n",
      "\u001b[34mThere are 1 clusters with 24 cameras\u001b[0m\n",
      "\u001b[34mThere are 1 clusters with 26 cameras\u001b[0m\n",
      "\u001b[34mThere are 2 clusters with 27 cameras\u001b[0m\n",
      "\u001b[34mThere are 2 clusters with 30 cameras\u001b[0m\n",
      "\u001b[34mThere are 2 clusters with 32 cameras\u001b[0m\n",
      "\u001b[34mThere are 1 clusters with 33 cameras\u001b[0m\n",
      "\u001b[34mThere are 3 clusters with 35 cameras\u001b[0m\n",
      "\u001b[34mThere are 1 clusters with 37 cameras\u001b[0m\n",
      "\u001b[34mThere are 1 clusters with 38 cameras\u001b[0m\n",
      "\u001b[34mThere are 1 clusters with 40 cameras\u001b[0m\n",
      "\u001b[34mThere are 2 clusters with 43 cameras\u001b[0m\n",
      "\u001b[34mThere are 3 clusters with 44 cameras\u001b[0m\n",
      "\u001b[34mThere are 1 clusters with 45 cameras\u001b[0m\n",
      "\u001b[34mThere are 1 clusters with 46 cameras\u001b[0m\n",
      "\u001b[34mThere are 1 clusters with 51 cameras\u001b[0m\n",
      "\u001b[34mThere are 2 clusters with 52 cameras\u001b[0m\n",
      "\u001b[34mThere are 1 clusters with 56 cameras\u001b[0m\n",
      "\u001b[34mThere are 1 clusters with 58 cameras\u001b[0m\n",
      "\u001b[34mThere are 2 clusters with 59 cameras\u001b[0m\n",
      "\u001b[34mThere are 1 clusters with 61 cameras\u001b[0m\n",
      "\u001b[34mThere are 1 clusters with 62 cameras\u001b[0m\n",
      "\u001b[34mThere are 1 clusters with 85 cameras\u001b[0m\n",
      "\u001b[34mThere are 1 clusters with 92 cameras\u001b[0m\n",
      "\u001b[34mThere are 1 clusters with 110 cameras\u001b[0m\n",
      "\u001b[34mThere are 1 clusters with 116 cameras\u001b[0m\n",
      "\u001b[34mThere are 1 clusters with 176 cameras\u001b[0m\n",
      "\u001b[34mThere are 1 clusters with 310 cameras\u001b[0m\n",
      "Number of classes: 178\n",
      "\u001b[36mLearning Rate: 0.000070\u001b[0m\n",
      "encontrou modelos efficientnet. Carregando...\n",
      "encontrou modelos convnext. Carregando...\n",
      "encontrou modelos mobilenet. Carregando...\n",
      "encontrou modelos vgg16. Carregando...\n",
      "encontrou modelos resnet50. Carregando...\n",
      "encontrou modelos osnet. Carregando...\n",
      "encontrou modelos densenet121. Carregando...\n",
      "###============ Iteration number 27/30 ============###\n",
      "Extracting Online Features for efficientnet ...\n",
      "Features extracted in 412.30 seconds\n",
      "Computing jaccard distance...\n"
     ]
    },
    {
     "name": "stderr",
     "output_type": "stream",
     "text": [
      "bruteForceKnn is deprecated; call bfKnn instead\n"
     ]
    },
    {
     "name": "stdout",
     "output_type": "stream",
     "text": [
      "Jaccard distance computing time cost: 571.7900364398956\n",
      "Extracting Online Features for convnext ...\n",
      "Features extracted in 405.40 seconds\n",
      "Computing jaccard distance...\n"
     ]
    },
    {
     "name": "stderr",
     "output_type": "stream",
     "text": [
      "bruteForceKnn is deprecated; call bfKnn instead\n"
     ]
    },
    {
     "name": "stdout",
     "output_type": "stream",
     "text": [
      "Jaccard distance computing time cost: 563.3827967643738\n",
      "Extracting Online Features for mobilenet ...\n",
      "Features extracted in 410.70 seconds\n",
      "Computing jaccard distance...\n"
     ]
    },
    {
     "name": "stderr",
     "output_type": "stream",
     "text": [
      "bruteForceKnn is deprecated; call bfKnn instead\n"
     ]
    },
    {
     "name": "stdout",
     "output_type": "stream",
     "text": [
      "Jaccard distance computing time cost: 570.4629349708557\n",
      "Extracting Online Features for vgg16 ...\n",
      "Features extracted in 395.98 seconds\n",
      "Computing jaccard distance...\n"
     ]
    },
    {
     "name": "stderr",
     "output_type": "stream",
     "text": [
      "bruteForceKnn is deprecated; call bfKnn instead\n"
     ]
    },
    {
     "name": "stdout",
     "output_type": "stream",
     "text": [
      "Jaccard distance computing time cost: 566.8214731216431\n",
      "Extracting Online Features for resnet50 ...\n",
      "Features extracted in 417.34 seconds\n",
      "Computing jaccard distance...\n"
     ]
    },
    {
     "name": "stderr",
     "output_type": "stream",
     "text": [
      "bruteForceKnn is deprecated; call bfKnn instead\n"
     ]
    },
    {
     "name": "stdout",
     "output_type": "stream",
     "text": [
      "Jaccard distance computing time cost: 555.1349520683289\n",
      "Extracting Online Features for osnet ...\n",
      "Features extracted in 416.79 seconds\n",
      "Computing jaccard distance...\n"
     ]
    },
    {
     "name": "stderr",
     "output_type": "stream",
     "text": [
      "bruteForceKnn is deprecated; call bfKnn instead\n"
     ]
    },
    {
     "name": "stdout",
     "output_type": "stream",
     "text": [
      "Jaccard distance computing time cost: 334.3754346370697\n",
      "Extracting Online Features for densenet121 ...\n",
      "Features extracted in 403.15 seconds\n",
      "Computing jaccard distance...\n"
     ]
    },
    {
     "name": "stderr",
     "output_type": "stream",
     "text": [
      "bruteForceKnn is deprecated; call bfKnn instead\n"
     ]
    },
    {
     "name": "stdout",
     "output_type": "stream",
     "text": [
      "Jaccard distance computing time cost: 547.8504018783569\n",
      "Reliability: 0.090\n",
      "\u001b[32mMean Purity: 0.03055\u001b[0m\n",
      "\u001b[34mThere are 26 clusters with 4 cameras\u001b[0m\n",
      "\u001b[34mThere are 22 clusters with 5 cameras\u001b[0m\n",
      "\u001b[34mThere are 19 clusters with 6 cameras\u001b[0m\n",
      "\u001b[34mThere are 14 clusters with 7 cameras\u001b[0m\n",
      "\u001b[34mThere are 8 clusters with 8 cameras\u001b[0m\n",
      "\u001b[34mThere are 7 clusters with 9 cameras\u001b[0m\n",
      "\u001b[34mThere are 5 clusters with 10 cameras\u001b[0m\n",
      "\u001b[34mThere are 4 clusters with 11 cameras\u001b[0m\n",
      "\u001b[34mThere are 6 clusters with 12 cameras\u001b[0m\n",
      "\u001b[34mThere are 6 clusters with 13 cameras\u001b[0m\n",
      "\u001b[34mThere are 1 clusters with 14 cameras\u001b[0m\n",
      "\u001b[34mThere are 2 clusters with 15 cameras\u001b[0m\n",
      "\u001b[34mThere are 2 clusters with 16 cameras\u001b[0m\n",
      "\u001b[34mThere are 1 clusters with 17 cameras\u001b[0m\n",
      "\u001b[34mThere are 5 clusters with 18 cameras\u001b[0m\n",
      "\u001b[34mThere are 3 clusters with 19 cameras\u001b[0m\n",
      "\u001b[34mThere are 4 clusters with 20 cameras\u001b[0m\n",
      "\u001b[34mThere are 2 clusters with 21 cameras\u001b[0m\n",
      "\u001b[34mThere are 2 clusters with 22 cameras\u001b[0m\n",
      "\u001b[34mThere are 2 clusters with 23 cameras\u001b[0m\n",
      "\u001b[34mThere are 1 clusters with 24 cameras\u001b[0m\n",
      "\u001b[34mThere are 1 clusters with 26 cameras\u001b[0m\n",
      "\u001b[34mThere are 2 clusters with 27 cameras\u001b[0m\n",
      "\u001b[34mThere are 2 clusters with 30 cameras\u001b[0m\n",
      "\u001b[34mThere are 2 clusters with 32 cameras\u001b[0m\n",
      "\u001b[34mThere are 1 clusters with 33 cameras\u001b[0m\n",
      "\u001b[34mThere are 3 clusters with 35 cameras\u001b[0m\n",
      "\u001b[34mThere are 1 clusters with 37 cameras\u001b[0m\n",
      "\u001b[34mThere are 1 clusters with 38 cameras\u001b[0m\n",
      "\u001b[34mThere are 1 clusters with 40 cameras\u001b[0m\n",
      "\u001b[34mThere are 2 clusters with 43 cameras\u001b[0m\n",
      "\u001b[34mThere are 3 clusters with 44 cameras\u001b[0m\n",
      "\u001b[34mThere are 1 clusters with 45 cameras\u001b[0m\n",
      "\u001b[34mThere are 1 clusters with 46 cameras\u001b[0m\n",
      "\u001b[34mThere are 1 clusters with 51 cameras\u001b[0m\n",
      "\u001b[34mThere are 2 clusters with 52 cameras\u001b[0m\n",
      "\u001b[34mThere are 1 clusters with 56 cameras\u001b[0m\n",
      "\u001b[34mThere are 1 clusters with 58 cameras\u001b[0m\n",
      "\u001b[34mThere are 2 clusters with 59 cameras\u001b[0m\n",
      "\u001b[34mThere are 1 clusters with 61 cameras\u001b[0m\n",
      "\u001b[34mThere are 1 clusters with 62 cameras\u001b[0m\n",
      "\u001b[34mThere are 1 clusters with 85 cameras\u001b[0m\n",
      "\u001b[34mThere are 1 clusters with 92 cameras\u001b[0m\n",
      "\u001b[34mThere are 1 clusters with 110 cameras\u001b[0m\n",
      "\u001b[34mThere are 1 clusters with 116 cameras\u001b[0m\n",
      "\u001b[34mThere are 1 clusters with 176 cameras\u001b[0m\n",
      "\u001b[34mThere are 1 clusters with 310 cameras\u001b[0m\n",
      "Number of classes: 178\n",
      "\u001b[36mLearning Rate: 0.000140\u001b[0m\n",
      "encontrou modelos efficientnet. Carregando...\n",
      "encontrou modelos convnext. Carregando...\n",
      "encontrou modelos mobilenet. Carregando...\n",
      "encontrou modelos vgg16. Carregando...\n",
      "encontrou modelos resnet50. Carregando...\n",
      "encontrou modelos osnet. Carregando...\n",
      "encontrou modelos densenet121. Carregando...\n",
      "###============ Iteration number 28/30 ============###\n",
      "Extracting Online Features for efficientnet ...\n",
      "Features extracted in 410.89 seconds\n",
      "Computing jaccard distance...\n"
     ]
    },
    {
     "name": "stderr",
     "output_type": "stream",
     "text": [
      "bruteForceKnn is deprecated; call bfKnn instead\n"
     ]
    },
    {
     "name": "stdout",
     "output_type": "stream",
     "text": [
      "Jaccard distance computing time cost: 577.8881990909576\n",
      "Extracting Online Features for convnext ...\n",
      "Features extracted in 416.88 seconds\n",
      "Computing jaccard distance...\n"
     ]
    },
    {
     "name": "stderr",
     "output_type": "stream",
     "text": [
      "bruteForceKnn is deprecated; call bfKnn instead\n"
     ]
    },
    {
     "name": "stdout",
     "output_type": "stream",
     "text": [
      "Jaccard distance computing time cost: 583.3476221561432\n",
      "Extracting Online Features for mobilenet ...\n",
      "Features extracted in 405.91 seconds\n",
      "Computing jaccard distance...\n"
     ]
    },
    {
     "name": "stderr",
     "output_type": "stream",
     "text": [
      "bruteForceKnn is deprecated; call bfKnn instead\n"
     ]
    },
    {
     "name": "stdout",
     "output_type": "stream",
     "text": [
      "Jaccard distance computing time cost: 572.9703371524811\n",
      "Extracting Online Features for vgg16 ...\n",
      "Features extracted in 413.16 seconds\n",
      "Computing jaccard distance...\n"
     ]
    },
    {
     "name": "stderr",
     "output_type": "stream",
     "text": [
      "bruteForceKnn is deprecated; call bfKnn instead\n"
     ]
    },
    {
     "name": "stdout",
     "output_type": "stream",
     "text": [
      "Jaccard distance computing time cost: 564.8391547203064\n",
      "Extracting Online Features for resnet50 ...\n",
      "Features extracted in 417.26 seconds\n",
      "Computing jaccard distance...\n"
     ]
    },
    {
     "name": "stderr",
     "output_type": "stream",
     "text": [
      "bruteForceKnn is deprecated; call bfKnn instead\n"
     ]
    },
    {
     "name": "stdout",
     "output_type": "stream",
     "text": [
      "Jaccard distance computing time cost: 530.2254400253296\n",
      "Extracting Online Features for osnet ...\n",
      "Features extracted in 402.41 seconds\n",
      "Computing jaccard distance...\n"
     ]
    },
    {
     "name": "stderr",
     "output_type": "stream",
     "text": [
      "bruteForceKnn is deprecated; call bfKnn instead\n"
     ]
    },
    {
     "name": "stdout",
     "output_type": "stream",
     "text": [
      "Jaccard distance computing time cost: 340.27648544311523\n",
      "Extracting Online Features for densenet121 ...\n",
      "Features extracted in 399.45 seconds\n",
      "Computing jaccard distance...\n"
     ]
    },
    {
     "name": "stderr",
     "output_type": "stream",
     "text": [
      "bruteForceKnn is deprecated; call bfKnn instead\n"
     ]
    },
    {
     "name": "stdout",
     "output_type": "stream",
     "text": [
      "Jaccard distance computing time cost: 574.354572057724\n",
      "Reliability: 0.090\n",
      "\u001b[32mMean Purity: 0.03055\u001b[0m\n",
      "\u001b[34mThere are 26 clusters with 4 cameras\u001b[0m\n",
      "\u001b[34mThere are 22 clusters with 5 cameras\u001b[0m\n",
      "\u001b[34mThere are 19 clusters with 6 cameras\u001b[0m\n",
      "\u001b[34mThere are 14 clusters with 7 cameras\u001b[0m\n",
      "\u001b[34mThere are 8 clusters with 8 cameras\u001b[0m\n",
      "\u001b[34mThere are 7 clusters with 9 cameras\u001b[0m\n",
      "\u001b[34mThere are 5 clusters with 10 cameras\u001b[0m\n",
      "\u001b[34mThere are 4 clusters with 11 cameras\u001b[0m\n",
      "\u001b[34mThere are 6 clusters with 12 cameras\u001b[0m\n",
      "\u001b[34mThere are 6 clusters with 13 cameras\u001b[0m\n",
      "\u001b[34mThere are 1 clusters with 14 cameras\u001b[0m\n",
      "\u001b[34mThere are 2 clusters with 15 cameras\u001b[0m\n",
      "\u001b[34mThere are 2 clusters with 16 cameras\u001b[0m\n",
      "\u001b[34mThere are 1 clusters with 17 cameras\u001b[0m\n",
      "\u001b[34mThere are 5 clusters with 18 cameras\u001b[0m\n",
      "\u001b[34mThere are 3 clusters with 19 cameras\u001b[0m\n",
      "\u001b[34mThere are 4 clusters with 20 cameras\u001b[0m\n",
      "\u001b[34mThere are 2 clusters with 21 cameras\u001b[0m\n",
      "\u001b[34mThere are 2 clusters with 22 cameras\u001b[0m\n",
      "\u001b[34mThere are 2 clusters with 23 cameras\u001b[0m\n",
      "\u001b[34mThere are 1 clusters with 24 cameras\u001b[0m\n",
      "\u001b[34mThere are 1 clusters with 26 cameras\u001b[0m\n",
      "\u001b[34mThere are 2 clusters with 27 cameras\u001b[0m\n",
      "\u001b[34mThere are 2 clusters with 30 cameras\u001b[0m\n",
      "\u001b[34mThere are 2 clusters with 32 cameras\u001b[0m\n",
      "\u001b[34mThere are 1 clusters with 33 cameras\u001b[0m\n",
      "\u001b[34mThere are 3 clusters with 35 cameras\u001b[0m\n",
      "\u001b[34mThere are 1 clusters with 37 cameras\u001b[0m\n",
      "\u001b[34mThere are 1 clusters with 38 cameras\u001b[0m\n",
      "\u001b[34mThere are 1 clusters with 40 cameras\u001b[0m\n",
      "\u001b[34mThere are 2 clusters with 43 cameras\u001b[0m\n",
      "\u001b[34mThere are 3 clusters with 44 cameras\u001b[0m\n",
      "\u001b[34mThere are 1 clusters with 45 cameras\u001b[0m\n",
      "\u001b[34mThere are 1 clusters with 46 cameras\u001b[0m\n",
      "\u001b[34mThere are 1 clusters with 51 cameras\u001b[0m\n",
      "\u001b[34mThere are 2 clusters with 52 cameras\u001b[0m\n",
      "\u001b[34mThere are 1 clusters with 56 cameras\u001b[0m\n",
      "\u001b[34mThere are 1 clusters with 58 cameras\u001b[0m\n",
      "\u001b[34mThere are 2 clusters with 59 cameras\u001b[0m\n",
      "\u001b[34mThere are 1 clusters with 61 cameras\u001b[0m\n",
      "\u001b[34mThere are 1 clusters with 62 cameras\u001b[0m\n",
      "\u001b[34mThere are 1 clusters with 85 cameras\u001b[0m\n",
      "\u001b[34mThere are 1 clusters with 92 cameras\u001b[0m\n",
      "\u001b[34mThere are 1 clusters with 110 cameras\u001b[0m\n",
      "\u001b[34mThere are 1 clusters with 116 cameras\u001b[0m\n",
      "\u001b[34mThere are 1 clusters with 176 cameras\u001b[0m\n",
      "\u001b[34mThere are 1 clusters with 310 cameras\u001b[0m\n",
      "Number of classes: 178\n",
      "\u001b[36mLearning Rate: 0.000210\u001b[0m\n",
      "encontrou modelos efficientnet. Carregando...\n",
      "encontrou modelos convnext. Carregando...\n",
      "encontrou modelos mobilenet. Carregando...\n",
      "encontrou modelos vgg16. Carregando...\n",
      "encontrou modelos resnet50. Carregando...\n",
      "encontrou modelos osnet. Carregando...\n",
      "encontrou modelos densenet121. Carregando...\n",
      "###============ Iteration number 29/30 ============###\n",
      "Extracting Online Features for efficientnet ...\n",
      "Features extracted in 410.65 seconds\n",
      "Computing jaccard distance...\n"
     ]
    },
    {
     "name": "stderr",
     "output_type": "stream",
     "text": [
      "bruteForceKnn is deprecated; call bfKnn instead\n"
     ]
    },
    {
     "name": "stdout",
     "output_type": "stream",
     "text": [
      "Jaccard distance computing time cost: 576.5059735774994\n",
      "Extracting Online Features for convnext ...\n",
      "Features extracted in 403.87 seconds\n",
      "Computing jaccard distance...\n"
     ]
    },
    {
     "name": "stderr",
     "output_type": "stream",
     "text": [
      "bruteForceKnn is deprecated; call bfKnn instead\n"
     ]
    },
    {
     "name": "stdout",
     "output_type": "stream",
     "text": [
      "Jaccard distance computing time cost: 588.5277237892151\n",
      "Extracting Online Features for mobilenet ...\n",
      "Features extracted in 401.88 seconds\n",
      "Computing jaccard distance...\n"
     ]
    },
    {
     "name": "stderr",
     "output_type": "stream",
     "text": [
      "bruteForceKnn is deprecated; call bfKnn instead\n"
     ]
    },
    {
     "name": "stdout",
     "output_type": "stream",
     "text": [
      "Jaccard distance computing time cost: 544.4173748493195\n",
      "Extracting Online Features for vgg16 ...\n",
      "Features extracted in 399.12 seconds\n",
      "Computing jaccard distance...\n"
     ]
    },
    {
     "name": "stderr",
     "output_type": "stream",
     "text": [
      "bruteForceKnn is deprecated; call bfKnn instead\n"
     ]
    },
    {
     "name": "stdout",
     "output_type": "stream",
     "text": [
      "Jaccard distance computing time cost: 550.9277086257935\n",
      "Extracting Online Features for resnet50 ...\n",
      "Features extracted in 408.66 seconds\n",
      "Computing jaccard distance...\n"
     ]
    },
    {
     "name": "stderr",
     "output_type": "stream",
     "text": [
      "bruteForceKnn is deprecated; call bfKnn instead\n"
     ]
    },
    {
     "name": "stdout",
     "output_type": "stream",
     "text": [
      "Jaccard distance computing time cost: 565.565423488617\n",
      "Extracting Online Features for osnet ...\n",
      "Features extracted in 416.77 seconds\n",
      "Computing jaccard distance...\n"
     ]
    },
    {
     "name": "stderr",
     "output_type": "stream",
     "text": [
      "bruteForceKnn is deprecated; call bfKnn instead\n"
     ]
    },
    {
     "name": "stdout",
     "output_type": "stream",
     "text": [
      "Jaccard distance computing time cost: 341.20794343948364\n",
      "Extracting Online Features for densenet121 ...\n",
      "Features extracted in 403.75 seconds\n",
      "Computing jaccard distance...\n"
     ]
    },
    {
     "name": "stderr",
     "output_type": "stream",
     "text": [
      "bruteForceKnn is deprecated; call bfKnn instead\n"
     ]
    },
    {
     "name": "stdout",
     "output_type": "stream",
     "text": [
      "Jaccard distance computing time cost: 577.0094299316406\n",
      "Reliability: 0.090\n",
      "\u001b[32mMean Purity: 0.03055\u001b[0m\n",
      "\u001b[34mThere are 26 clusters with 4 cameras\u001b[0m\n",
      "\u001b[34mThere are 22 clusters with 5 cameras\u001b[0m\n",
      "\u001b[34mThere are 19 clusters with 6 cameras\u001b[0m\n",
      "\u001b[34mThere are 14 clusters with 7 cameras\u001b[0m\n",
      "\u001b[34mThere are 8 clusters with 8 cameras\u001b[0m\n",
      "\u001b[34mThere are 7 clusters with 9 cameras\u001b[0m\n",
      "\u001b[34mThere are 5 clusters with 10 cameras\u001b[0m\n",
      "\u001b[34mThere are 4 clusters with 11 cameras\u001b[0m\n",
      "\u001b[34mThere are 6 clusters with 12 cameras\u001b[0m\n",
      "\u001b[34mThere are 6 clusters with 13 cameras\u001b[0m\n",
      "\u001b[34mThere are 1 clusters with 14 cameras\u001b[0m\n",
      "\u001b[34mThere are 2 clusters with 15 cameras\u001b[0m\n",
      "\u001b[34mThere are 2 clusters with 16 cameras\u001b[0m\n",
      "\u001b[34mThere are 1 clusters with 17 cameras\u001b[0m\n",
      "\u001b[34mThere are 5 clusters with 18 cameras\u001b[0m\n",
      "\u001b[34mThere are 3 clusters with 19 cameras\u001b[0m\n",
      "\u001b[34mThere are 4 clusters with 20 cameras\u001b[0m\n",
      "\u001b[34mThere are 2 clusters with 21 cameras\u001b[0m\n",
      "\u001b[34mThere are 2 clusters with 22 cameras\u001b[0m\n",
      "\u001b[34mThere are 2 clusters with 23 cameras\u001b[0m\n",
      "\u001b[34mThere are 1 clusters with 24 cameras\u001b[0m\n",
      "\u001b[34mThere are 1 clusters with 26 cameras\u001b[0m\n",
      "\u001b[34mThere are 2 clusters with 27 cameras\u001b[0m\n",
      "\u001b[34mThere are 2 clusters with 30 cameras\u001b[0m\n",
      "\u001b[34mThere are 2 clusters with 32 cameras\u001b[0m\n",
      "\u001b[34mThere are 1 clusters with 33 cameras\u001b[0m\n",
      "\u001b[34mThere are 3 clusters with 35 cameras\u001b[0m\n",
      "\u001b[34mThere are 1 clusters with 37 cameras\u001b[0m\n",
      "\u001b[34mThere are 1 clusters with 38 cameras\u001b[0m\n",
      "\u001b[34mThere are 1 clusters with 40 cameras\u001b[0m\n",
      "\u001b[34mThere are 2 clusters with 43 cameras\u001b[0m\n",
      "\u001b[34mThere are 3 clusters with 44 cameras\u001b[0m\n",
      "\u001b[34mThere are 1 clusters with 45 cameras\u001b[0m\n",
      "\u001b[34mThere are 1 clusters with 46 cameras\u001b[0m\n",
      "\u001b[34mThere are 1 clusters with 51 cameras\u001b[0m\n",
      "\u001b[34mThere are 2 clusters with 52 cameras\u001b[0m\n",
      "\u001b[34mThere are 1 clusters with 56 cameras\u001b[0m\n",
      "\u001b[34mThere are 1 clusters with 58 cameras\u001b[0m\n",
      "\u001b[34mThere are 2 clusters with 59 cameras\u001b[0m\n",
      "\u001b[34mThere are 1 clusters with 61 cameras\u001b[0m\n",
      "\u001b[34mThere are 1 clusters with 62 cameras\u001b[0m\n",
      "\u001b[34mThere are 1 clusters with 85 cameras\u001b[0m\n",
      "\u001b[34mThere are 1 clusters with 92 cameras\u001b[0m\n",
      "\u001b[34mThere are 1 clusters with 110 cameras\u001b[0m\n",
      "\u001b[34mThere are 1 clusters with 116 cameras\u001b[0m\n",
      "\u001b[34mThere are 1 clusters with 176 cameras\u001b[0m\n",
      "\u001b[34mThere are 1 clusters with 310 cameras\u001b[0m\n",
      "Number of classes: 178\n",
      "\u001b[36mLearning Rate: 0.000280\u001b[0m\n",
      "encontrou modelos efficientnet. Carregando...\n",
      "encontrou modelos convnext. Carregando...\n",
      "encontrou modelos mobilenet. Carregando...\n",
      "encontrou modelos vgg16. Carregando...\n",
      "encontrou modelos resnet50. Carregando...\n",
      "encontrou modelos osnet. Carregando...\n",
      "encontrou modelos densenet121. Carregando...\n",
      "###============ Iteration number 30/30 ============###\n",
      "Extracting Online Features for efficientnet ...\n",
      "Features extracted in 416.27 seconds\n",
      "Computing jaccard distance...\n"
     ]
    },
    {
     "name": "stderr",
     "output_type": "stream",
     "text": [
      "bruteForceKnn is deprecated; call bfKnn instead\n"
     ]
    },
    {
     "name": "stdout",
     "output_type": "stream",
     "text": [
      "Jaccard distance computing time cost: 576.8273549079895\n",
      "Extracting Online Features for convnext ...\n",
      "Features extracted in 416.59 seconds\n",
      "Computing jaccard distance...\n"
     ]
    },
    {
     "name": "stderr",
     "output_type": "stream",
     "text": [
      "bruteForceKnn is deprecated; call bfKnn instead\n"
     ]
    },
    {
     "name": "stdout",
     "output_type": "stream",
     "text": [
      "Jaccard distance computing time cost: 582.7088856697083\n",
      "Extracting Online Features for mobilenet ...\n",
      "Features extracted in 414.31 seconds\n",
      "Computing jaccard distance...\n"
     ]
    },
    {
     "name": "stderr",
     "output_type": "stream",
     "text": [
      "bruteForceKnn is deprecated; call bfKnn instead\n"
     ]
    },
    {
     "name": "stdout",
     "output_type": "stream",
     "text": [
      "Jaccard distance computing time cost: 569.0561416149139\n",
      "Extracting Online Features for vgg16 ...\n",
      "Features extracted in 417.62 seconds\n",
      "Computing jaccard distance...\n"
     ]
    },
    {
     "name": "stderr",
     "output_type": "stream",
     "text": [
      "bruteForceKnn is deprecated; call bfKnn instead\n"
     ]
    },
    {
     "name": "stdout",
     "output_type": "stream",
     "text": [
      "Jaccard distance computing time cost: 546.6875557899475\n",
      "Extracting Online Features for resnet50 ...\n",
      "Features extracted in 414.27 seconds\n",
      "Computing jaccard distance...\n"
     ]
    },
    {
     "name": "stderr",
     "output_type": "stream",
     "text": [
      "bruteForceKnn is deprecated; call bfKnn instead\n"
     ]
    },
    {
     "name": "stdout",
     "output_type": "stream",
     "text": [
      "Jaccard distance computing time cost: 562.4600298404694\n",
      "Extracting Online Features for osnet ...\n",
      "Features extracted in 404.87 seconds\n",
      "Computing jaccard distance...\n"
     ]
    },
    {
     "name": "stderr",
     "output_type": "stream",
     "text": [
      "bruteForceKnn is deprecated; call bfKnn instead\n"
     ]
    },
    {
     "name": "stdout",
     "output_type": "stream",
     "text": [
      "Jaccard distance computing time cost: 338.15596866607666\n",
      "Extracting Online Features for densenet121 ...\n",
      "Features extracted in 422.31 seconds\n",
      "Computing jaccard distance...\n"
     ]
    },
    {
     "name": "stderr",
     "output_type": "stream",
     "text": [
      "bruteForceKnn is deprecated; call bfKnn instead\n"
     ]
    },
    {
     "name": "stdout",
     "output_type": "stream",
     "text": [
      "Jaccard distance computing time cost: 576.85138630867\n",
      "Reliability: 0.090\n",
      "\u001b[32mMean Purity: 0.03055\u001b[0m\n",
      "\u001b[34mThere are 26 clusters with 4 cameras\u001b[0m\n",
      "\u001b[34mThere are 22 clusters with 5 cameras\u001b[0m\n",
      "\u001b[34mThere are 19 clusters with 6 cameras\u001b[0m\n",
      "\u001b[34mThere are 14 clusters with 7 cameras\u001b[0m\n",
      "\u001b[34mThere are 8 clusters with 8 cameras\u001b[0m\n",
      "\u001b[34mThere are 7 clusters with 9 cameras\u001b[0m\n",
      "\u001b[34mThere are 5 clusters with 10 cameras\u001b[0m\n",
      "\u001b[34mThere are 4 clusters with 11 cameras\u001b[0m\n",
      "\u001b[34mThere are 6 clusters with 12 cameras\u001b[0m\n",
      "\u001b[34mThere are 6 clusters with 13 cameras\u001b[0m\n",
      "\u001b[34mThere are 1 clusters with 14 cameras\u001b[0m\n",
      "\u001b[34mThere are 2 clusters with 15 cameras\u001b[0m\n",
      "\u001b[34mThere are 2 clusters with 16 cameras\u001b[0m\n",
      "\u001b[34mThere are 1 clusters with 17 cameras\u001b[0m\n",
      "\u001b[34mThere are 5 clusters with 18 cameras\u001b[0m\n",
      "\u001b[34mThere are 3 clusters with 19 cameras\u001b[0m\n",
      "\u001b[34mThere are 4 clusters with 20 cameras\u001b[0m\n",
      "\u001b[34mThere are 2 clusters with 21 cameras\u001b[0m\n",
      "\u001b[34mThere are 2 clusters with 22 cameras\u001b[0m\n",
      "\u001b[34mThere are 2 clusters with 23 cameras\u001b[0m\n",
      "\u001b[34mThere are 1 clusters with 24 cameras\u001b[0m\n",
      "\u001b[34mThere are 1 clusters with 26 cameras\u001b[0m\n",
      "\u001b[34mThere are 2 clusters with 27 cameras\u001b[0m\n",
      "\u001b[34mThere are 2 clusters with 30 cameras\u001b[0m\n",
      "\u001b[34mThere are 2 clusters with 32 cameras\u001b[0m\n",
      "\u001b[34mThere are 1 clusters with 33 cameras\u001b[0m\n",
      "\u001b[34mThere are 3 clusters with 35 cameras\u001b[0m\n",
      "\u001b[34mThere are 1 clusters with 37 cameras\u001b[0m\n",
      "\u001b[34mThere are 1 clusters with 38 cameras\u001b[0m\n",
      "\u001b[34mThere are 1 clusters with 40 cameras\u001b[0m\n",
      "\u001b[34mThere are 2 clusters with 43 cameras\u001b[0m\n",
      "\u001b[34mThere are 3 clusters with 44 cameras\u001b[0m\n",
      "\u001b[34mThere are 1 clusters with 45 cameras\u001b[0m\n",
      "\u001b[34mThere are 1 clusters with 46 cameras\u001b[0m\n",
      "\u001b[34mThere are 1 clusters with 51 cameras\u001b[0m\n",
      "\u001b[34mThere are 2 clusters with 52 cameras\u001b[0m\n",
      "\u001b[34mThere are 1 clusters with 56 cameras\u001b[0m\n",
      "\u001b[34mThere are 1 clusters with 58 cameras\u001b[0m\n",
      "\u001b[34mThere are 2 clusters with 59 cameras\u001b[0m\n",
      "\u001b[34mThere are 1 clusters with 61 cameras\u001b[0m\n",
      "\u001b[34mThere are 1 clusters with 62 cameras\u001b[0m\n",
      "\u001b[34mThere are 1 clusters with 85 cameras\u001b[0m\n",
      "\u001b[34mThere are 1 clusters with 92 cameras\u001b[0m\n",
      "\u001b[34mThere are 1 clusters with 110 cameras\u001b[0m\n",
      "\u001b[34mThere are 1 clusters with 116 cameras\u001b[0m\n",
      "\u001b[34mThere are 1 clusters with 176 cameras\u001b[0m\n",
      "\u001b[34mThere are 1 clusters with 310 cameras\u001b[0m\n",
      "Number of classes: 178\n",
      "\u001b[36mLearning Rate: 0.000350\u001b[0m\n",
      "encontrou modelos efficientnet. Carregando...\n",
      "encontrou modelos convnext. Carregando...\n",
      "encontrou modelos mobilenet. Carregando...\n",
      "encontrou modelos vgg16. Carregando...\n",
      "encontrou modelos resnet50. Carregando...\n",
      "encontrou modelos osnet. Carregando...\n",
      "encontrou modelos densenet121. Carregando...\n",
      "\u001b[33mValidating online efficientnet ...\u001b[0m\n",
      "Features extracted in 128.87 seconds\n",
      "Features extracted in 257.28 seconds\n",
      "Computing CMC and mAP ...\n",
      "** Results **\n",
      "mAP: 66.44%\n",
      "CMC curve\n",
      "Rank-1  : 45.27%\n",
      "Rank-5  : 81.23%\n",
      "Rank-10 : 92.71%\n",
      "Rank-20 : 98.74%\n",
      "\u001b[33mValidating momentum efficientnet ...\u001b[0m\n",
      "Features extracted in 125.86 seconds\n",
      "Features extracted in 250.31 seconds\n",
      "Computing CMC and mAP ...\n",
      "** Results **\n",
      "mAP: 66.35%\n",
      "CMC curve\n",
      "Rank-1  : 47.67%\n",
      "Rank-5  : 83.22%\n",
      "Rank-10 : 91.90%\n",
      "Rank-20 : 96.88%\n",
      "\u001b[33mValidating online convnext ...\u001b[0m\n",
      "Features extracted in 126.28 seconds\n",
      "Features extracted in 258.49 seconds\n",
      "Computing CMC and mAP ...\n",
      "** Results **\n",
      "mAP: 65.95%\n",
      "CMC curve\n",
      "Rank-1  : 45.01%\n",
      "Rank-5  : 73.92%\n",
      "Rank-10 : 84.08%\n",
      "Rank-20 : 92.69%\n",
      "\u001b[33mValidating momentum convnext ...\u001b[0m\n",
      "Features extracted in 127.21 seconds\n",
      "Features extracted in 259.38 seconds\n",
      "Computing CMC and mAP ...\n",
      "** Results **\n",
      "mAP: 64.97%\n",
      "CMC curve\n",
      "Rank-1  : 45.72%\n",
      "Rank-5  : 74.96%\n",
      "Rank-10 : 87.06%\n",
      "Rank-20 : 94.88%\n",
      "\u001b[33mValidating online mobilenet ...\u001b[0m\n",
      "Features extracted in 122.79 seconds\n",
      "Features extracted in 250.70 seconds\n",
      "Computing CMC and mAP ...\n",
      "** Results **\n",
      "mAP: 66.77%\n",
      "CMC curve\n",
      "Rank-1  : 53.46%\n",
      "Rank-5  : 85.98%\n",
      "Rank-10 : 93.64%\n",
      "Rank-20 : 98.44%\n",
      "\u001b[33mValidating momentum mobilenet ...\u001b[0m\n",
      "Features extracted in 126.07 seconds\n",
      "Features extracted in 249.66 seconds\n",
      "Computing CMC and mAP ...\n",
      "** Results **\n",
      "mAP: 66.43%\n",
      "CMC curve\n",
      "Rank-1  : 52.90%\n",
      "Rank-5  : 85.26%\n",
      "Rank-10 : 93.91%\n",
      "Rank-20 : 98.53%\n",
      "\u001b[33mValidating online vgg16 ...\u001b[0m\n",
      "Features extracted in 128.87 seconds\n",
      "Features extracted in 254.33 seconds\n",
      "Computing CMC and mAP ...\n",
      "** Results **\n",
      "mAP: 65.62%\n",
      "CMC curve\n",
      "Rank-1  : 46.16%\n",
      "Rank-5  : 76.20%\n",
      "Rank-10 : 85.61%\n",
      "Rank-20 : 92.69%\n",
      "\u001b[33mValidating momentum vgg16 ...\u001b[0m\n",
      "Features extracted in 127.75 seconds\n",
      "Features extracted in 248.67 seconds\n",
      "Computing CMC and mAP ...\n",
      "** Results **\n",
      "mAP: 65.60%\n",
      "CMC curve\n",
      "Rank-1  : 45.96%\n",
      "Rank-5  : 81.83%\n",
      "Rank-10 : 90.44%\n",
      "Rank-20 : 96.43%\n",
      "\u001b[33mValidating online resnet50 ...\u001b[0m\n",
      "Features extracted in 128.19 seconds\n",
      "Features extracted in 254.97 seconds\n",
      "Computing CMC and mAP ...\n",
      "** Results **\n",
      "mAP: 65.52%\n",
      "CMC curve\n",
      "Rank-1  : 48.57%\n",
      "Rank-5  : 73.66%\n",
      "Rank-10 : 81.49%\n",
      "Rank-20 : 89.43%\n",
      "\u001b[33mValidating momentum resnet50 ...\u001b[0m\n",
      "Features extracted in 131.32 seconds\n",
      "Features extracted in 253.01 seconds\n",
      "Computing CMC and mAP ...\n",
      "** Results **\n",
      "mAP: 64.98%\n",
      "CMC curve\n",
      "Rank-1  : 43.34%\n",
      "Rank-5  : 71.03%\n",
      "Rank-10 : 80.69%\n",
      "Rank-20 : 89.93%\n",
      "\u001b[33mValidating online osnet ...\u001b[0m\n",
      "Features extracted in 127.96 seconds\n",
      "Features extracted in 251.29 seconds\n",
      "Computing CMC and mAP ...\n",
      "** Results **\n",
      "mAP: 66.17%\n",
      "CMC curve\n",
      "Rank-1  : 46.27%\n",
      "Rank-5  : 79.73%\n",
      "Rank-10 : 90.06%\n",
      "Rank-20 : 96.66%\n",
      "\u001b[33mValidating momentum osnet ...\u001b[0m\n",
      "Features extracted in 126.76 seconds\n",
      "Features extracted in 254.72 seconds\n",
      "Computing CMC and mAP ...\n",
      "** Results **\n",
      "mAP: 67.06%\n",
      "CMC curve\n",
      "Rank-1  : 51.53%\n",
      "Rank-5  : 86.66%\n",
      "Rank-10 : 95.02%\n",
      "Rank-20 : 98.72%\n",
      "\u001b[33mValidating online densenet121 ...\u001b[0m\n",
      "Features extracted in 128.25 seconds\n",
      "Features extracted in 252.42 seconds\n",
      "Computing CMC and mAP ...\n",
      "** Results **\n",
      "mAP: 65.51%\n",
      "CMC curve\n",
      "Rank-1  : 47.23%\n",
      "Rank-5  : 71.30%\n",
      "Rank-10 : 80.04%\n",
      "Rank-20 : 90.32%\n",
      "\u001b[33mValidating momentum densenet121 ...\u001b[0m\n",
      "Features extracted in 129.68 seconds\n",
      "Features extracted in 256.58 seconds\n",
      "Computing CMC and mAP ...\n",
      "** Results **\n",
      "mAP: 65.70%\n",
      "CMC curve\n",
      "Rank-1  : 46.44%\n",
      "Rank-5  : 79.26%\n",
      "Rank-10 : 88.68%\n",
      "Rank-20 : 95.10%\n",
      "\u001b[33mValidating ensembled with online models ...\u001b[0m\n",
      "Computing CMC and mAP ...\n",
      "** Results **\n",
      "mAP: 65.79%\n",
      "Ranks:\n",
      "Rank-1  : 47.30%\n",
      "Rank-5  : 72.71%\n",
      "Rank-10 : 80.86%\n",
      "\u001b[33mValidating ensembled with momentum models ...\u001b[0m\n",
      "Computing CMC and mAP ...\n",
      "** Results **\n",
      "mAP: 65.37%\n",
      "Ranks:\n",
      "Rank-1  : 43.97%\n",
      "Rank-5  : 75.76%\n",
      "Rank-10 : 85.48%\n",
      "Features extracted in 258.74 seconds\n",
      "Features extracted in 131.77 seconds\n",
      "Features extracted in 255.22 seconds\n",
      "Features extracted in 131.68 seconds\n",
      "Features extracted in 250.12 seconds\n",
      "Features extracted in 120.43 seconds\n",
      "Features extracted in 258.88 seconds\n",
      "Features extracted in 125.62 seconds\n",
      "Features extracted in 250.94 seconds\n",
      "Features extracted in 134.50 seconds\n",
      "Features extracted in 257.81 seconds\n",
      "Features extracted in 128.90 seconds\n",
      "Features extracted in 253.43 seconds\n",
      "Features extracted in 131.63 seconds\n",
      "114079.37183070183 1232.897222995758 2300.2138912677765\n",
      "Mean Feature Extraction and Reranking Time: 3802.645728\n",
      "Mean Clustering Time: 41.096574\n",
      "Mean Finetuning Time: 76.673796\n",
      "Total pipeline Time:  203668.325847\n"
     ]
    }
   ],
   "source": [
    "import torch\n",
    "import numpy as np\n",
    "import matplotlib.pyplot as plt\n",
    "\n",
    "from main import *\n",
    "\n",
    "from sklearn.cluster import KMeans\n",
    "from datasetUtils import load_from_Jadson\n",
    "from sklearn.metrics import confusion_matrix\n",
    "from sklearn.metrics import ConfusionMatrixDisplay\n",
    "\n",
    "from warnings import simplefilter\n",
    "# ignore all future warnings\n",
    "simplefilter(action='ignore', category=FutureWarning)\n",
    "\n",
    "\n",
    "# if __name__ == '__main__':\n",
    "# parser = argparse.ArgumentParser(description='Define the UDA parameters')\n",
    "#\n",
    "# parser.add_argument('--gpu_ids', type=str, default=\"7\", help='GPU IDs')\n",
    "# parser.add_argument('--lr', type=float, default=3.5e-4, help='Learning Rate')\n",
    "# parser.add_argument('--P', type=int, default=16, help='Number of Persons')\n",
    "# parser.add_argument('--K', type=int, default=4, help='Number of samples per person')\n",
    "# parser.add_argument('--tau', type=float, default=0.05, help='tau value used on softmax triplet loss')\n",
    "# parser.add_argument('--beta', type=float, default=0.999, help='beta used on self-Ensembling')\n",
    "# parser.add_argument('--k1', type=int, default=30, help='k on k-Reciprocal Encoding')\n",
    "# parser.add_argument('--sampling', type=str, default=\"mean\", help='Mean or Random feature vectors to be prototype')\n",
    "# parser.add_argument('--lambda_hard', type=float, default=0.5, help='tuning prameter of Softmax Triplet Loss')\n",
    "# parser.add_argument('--num_iter', type=int, default=400, help='Number of iterations on an epoch')\n",
    "# parser.add_argument('--momentum_on_feature_extraction', type=int, default=0,\n",
    "# help='If it is the momentum used on feature extraction')\n",
    "# parser.add_argument('--target', type=str, help='Name of target dataset')\n",
    "# parser.add_argument('--path_to_save_models', type=str, help='Path to save models')\n",
    "# parser.add_argument('--path_to_save_metrics', type=str, help='Path to save metrics (mAP, CMC, ...)')\n",
    "# parser.add_argument('--version', type=str, help='Path to save models')\n",
    "# parser.add_argument('--eval_freq', type=int, help='Evaluation Frequency along training')\n",
    "\n",
    "# args = parser.parse_args()\n",
    "# gpu_ids = args.gpu_ids\n",
    "# base_lr = args.lr\n",
    "# P = args.P\n",
    "# K = args.K\n",
    "\n",
    "# tau = args.tau\n",
    "# beta = args.beta\n",
    "# k1 = args.k1\n",
    "# sampling  = args.sampling\n",
    "#\n",
    "# lambda_hard = args.lambda_hard\n",
    "# number_of_iterations = args.num_iter\n",
    "# momentum_on_feature_extraction = bool(args.momentum_on_feature_extraction)\n",
    "# target = args.target\n",
    "# dir_to_save = args.path_to_save_models\n",
    "# dir_to_save_metrics = args.path_to_save_metrics\n",
    "# version = args.version\n",
    "# eval_freq = args.eval_freq\n",
    "# main.py --gpu_ids=0,1,2,3 --lr=3.5e-4 --P=16 --K=12 --tau=0.04 --beta=0.999 --k1=30 --sampling=mean --lambda_hard=0.5 --num_iter=7 --momentum_on_feature_extraction=0 --target=Duke --path_to_save_models=models --path_to_save_metrics=metrics --version=version_name --eval_freq=5\n",
    "\n",
    "import sys\n",
    "import os\n",
    "import pandas as pd\n",
    "\n",
    "from IPython.display import display, Image\n",
    "\n",
    "from IPython.display import display, HTML\n",
    "from bs4 import BeautifulSoup\n",
    "\n",
    "\n",
    "# Função para exibir a imagem usando HTML\n",
    "def exibir_imagem(imagem_path):\n",
    "    return f'<img src=\"{imagem_path}\" width=\"40\">'\n",
    "\n",
    "\n",
    "from metricas import *\n",
    "\n",
    "html_content= \"\"\n",
    "df = pd.DataFrame({\n",
    "    'k':[], \n",
    "    'lambda_hard':[],\n",
    "    'modelo':[],\n",
    "    'matriz_confusao':[], \n",
    "    'Acuracia':[], \n",
    "    'Precisao':[],\n",
    "    'Recall':[],\n",
    "    'F1-score':[],\n",
    "    'Grafico':[],\n",
    "    'Tipo':[]\n",
    "    })\n",
    "\n",
    "gpus = \"0,1,2\" \n",
    "for k in [4]:\n",
    "    for lambda_hard in [ 0.0 ]:\n",
    "                \n",
    "        print(f\"**** inicio do teste com ruido em k:{k} e lambda_hard:{lambda_hard} ****\")\n",
    "        \n",
    "        version = f\"teste-07-fft-30epocas-crop-motog5{k}_{lambda_hard}\"\n",
    "        \n",
    "        main(gpu_ids=gpus,base_lr=3.5e-4,P=16,K=k,tau=0.04,beta=0.999,k1=30,sampling=\"random\",lambda_hard=lambda_hard,number_of_iterations=7,momentum_on_feature_extraction=0,target=\"Jadson\",dir_to_save=\"models\",dir_to_save_metrics=\"metrics\",version=version,eval_freq=5,use_ruido=True)\n",
    "        \n",
    "        for metodo in models_name + [\"mean\"]:\n",
    "            metricas_t, metricas_v, rotulos_t, rotulos_v = metricas(k=k, lambda_hard=lambda_hard, modelo=metodo)\n",
    "            linha = {\n",
    "                'k':            [k], \n",
    "                'lambda_hard':  [lambda_hard],\n",
    "                'modelo':       [metodo],\n",
    "                'Tipo':         'Test'\n",
    "            }\n",
    "            for count in range( 0, metricas_t.shape[0] ):\n",
    "                for m in range( 0, metricas_t.shape[1] ):\n",
    "                    linha[rotulos_t[m]] = metricas_t[count][m]\n",
    "                    \n",
    "                \n",
    "                linha['matriz_confusao'] = f'resultados/MC_{k}_{lambda_hard}_{count}_{metodo}_test.png'\n",
    "                linha['Grafico'] = f'resultados/grafico_{k}_{lambda_hard}_{count}_{metodo}_test.png'\n",
    "                df = pd.concat( [df, pd.DataFrame(linha)], axis=0)\n",
    "             \n",
    "            linha = {\n",
    "               'k':             [k], \n",
    "               'lambda_hard':   [lambda_hard],\n",
    "               'modelo':        [metodo],\n",
    "               'Tipo':          'Valid'\n",
    "             }\n",
    "            for count in range( 0, metricas_v.shape[0] ):\n",
    "                for m in range( 0, metricas_v.shape[1] ):\n",
    "                    linha[rotulos_v[m]] = metricas_v[count][m] \n",
    "               \n",
    "                linha['Grafico'] = f'resultados/grafico_{k}_{lambda_hard}_{count}_{metodo}_valid.png'\n",
    "                linha['matriz_confusao'] = f'resultados/MC_{k}_{lambda_hard}_{count}_{metodo}_valid.png' \n",
    "                df = pd.concat( [df, pd.DataFrame(linha)], axis=0)\n",
    "        \n",
    "        # Aplicar a função à coluna 'imagem' e criar uma nova coluna 'imagem_exibicao'\n",
    "        df['MC'] = df['matriz_confusao'].apply(exibir_imagem)\n",
    "        df['GR'] = df['Grafico'].apply(exibir_imagem)\n",
    "        \n",
    "        html_content = df[['k', \n",
    "                           'lambda_hard', \n",
    "                           'Tipo', \n",
    "                           'modelo'] + \n",
    "                           rotulos_v[:8] + \n",
    "                           ['MC', \n",
    "                           'GR']].to_html(escape=False, index=False)\n",
    "        # salvando df em arquivo html\n",
    "        # Use BeautifulSoup para formatar o HTML\n",
    "        soup = BeautifulSoup(html_content, 'html.parser')\n",
    "        formatted_html = soup.prettify()\n",
    "        \n",
    "        # Salve o HTML em um arquivo\n",
    "        head = \"<!DOCTYPE html>\\n<html lang='pt-br'>\\n<head>\\n  <meta charset='UTF-8'>\\n  <meta name='viewport' content='width=device-width, initial-scale=1.0'>\\n  <style>\\n    table {\\n      width: 100%;\\n      border-collapse: collapse;\\n    }\\n    th, td {\\n      border: 1px solid #ddd;\\n      padding: 8px;\\n      text-align: left;\\n    }\\n    th {\\n      background-color: #f2f2f2;\\n    }\\n    thead th {\\n      position: sticky;\\n      top: 0;\\n      z-index: 1;\\n      background-color: #f2f2f2;    }\\n  </style>\\n    <title>Relatório Parcial</title>\\n</head>\\n<body>\"\n",
    "        with open('relatorio-APCER-BPCER-ACER-silhouette-30epocas-fft-crop-motog5-MNETv3-convnet-efficientnet.html', 'w', encoding='utf-8') as file:\n",
    "            file.write(head)\n",
    "            file.write(formatted_html)\n",
    "            file.write('</body></html>')"
   ]
  },
  {
   "cell_type": "code",
   "execution_count": 2,
   "metadata": {
    "execution": {
     "iopub.execute_input": "2024-06-18T03:41:56.524839Z",
     "iopub.status.busy": "2024-06-18T03:41:56.524035Z",
     "iopub.status.idle": "2024-06-18T03:41:56.575099Z",
     "shell.execute_reply": "2024-06-18T03:41:56.574344Z"
    }
   },
   "outputs": [
    {
     "data": {
      "text/html": [
       "<table border=\"1\" class=\"dataframe\">\n",
       "  <thead>\n",
       "    <tr style=\"text-align: right;\">\n",
       "      <th>k</th>\n",
       "      <th>lambda_hard</th>\n",
       "      <th>Tipo</th>\n",
       "      <th>modelo</th>\n",
       "      <th>ACCURACY</th>\n",
       "      <th>PRECISION</th>\n",
       "      <th>RECALL</th>\n",
       "      <th>F1_SCORE</th>\n",
       "      <th>APCER</th>\n",
       "      <th>BPCER</th>\n",
       "      <th>ACER</th>\n",
       "      <th>SILHOUETTE</th>\n",
       "      <th>MC</th>\n",
       "      <th>GR</th>\n",
       "    </tr>\n",
       "  </thead>\n",
       "  <tbody>\n",
       "    <tr>\n",
       "      <td>4.0</td>\n",
       "      <td>0.0</td>\n",
       "      <td>Test</td>\n",
       "      <td>efficientnet</td>\n",
       "      <td>0.799917</td>\n",
       "      <td>0.799983</td>\n",
       "      <td>0.999896</td>\n",
       "      <td>0.888837</td>\n",
       "      <td>0.000104</td>\n",
       "      <td>1.000000</td>\n",
       "      <td>0.500052</td>\n",
       "      <td>0.759874</td>\n",
       "      <td><img src=\"resultados/MC_4_0.0_0_efficientnet_test.png\" width=\"40\"></td>\n",
       "      <td><img src=\"resultados/grafico_4_0.0_0_efficientnet_test.png\" width=\"40\"></td>\n",
       "    </tr>\n",
       "    <tr>\n",
       "      <td>4.0</td>\n",
       "      <td>0.0</td>\n",
       "      <td>Valid</td>\n",
       "      <td>efficientnet</td>\n",
       "      <td>0.800104</td>\n",
       "      <td>0.800083</td>\n",
       "      <td>1.000000</td>\n",
       "      <td>0.888940</td>\n",
       "      <td>0.000000</td>\n",
       "      <td>0.999479</td>\n",
       "      <td>0.499740</td>\n",
       "      <td>0.669238</td>\n",
       "      <td><img src=\"resultados/MC_4_0.0_0_efficientnet_valid.png\" width=\"40\"></td>\n",
       "      <td><img src=\"resultados/grafico_4_0.0_0_efficientnet_valid.png\" width=\"40\"></td>\n",
       "    </tr>\n",
       "    <tr>\n",
       "      <td>4.0</td>\n",
       "      <td>0.0</td>\n",
       "      <td>Test</td>\n",
       "      <td>convnext</td>\n",
       "      <td>0.800042</td>\n",
       "      <td>0.800033</td>\n",
       "      <td>1.000000</td>\n",
       "      <td>0.888909</td>\n",
       "      <td>0.000000</td>\n",
       "      <td>0.999792</td>\n",
       "      <td>0.499896</td>\n",
       "      <td>0.799818</td>\n",
       "      <td><img src=\"resultados/MC_4_0.0_0_convnext_test.png\" width=\"40\"></td>\n",
       "      <td><img src=\"resultados/grafico_4_0.0_0_convnext_test.png\" width=\"40\"></td>\n",
       "    </tr>\n",
       "    <tr>\n",
       "      <td>4.0</td>\n",
       "      <td>0.0</td>\n",
       "      <td>Valid</td>\n",
       "      <td>convnext</td>\n",
       "      <td>0.800104</td>\n",
       "      <td>0.800083</td>\n",
       "      <td>1.000000</td>\n",
       "      <td>0.888940</td>\n",
       "      <td>0.000000</td>\n",
       "      <td>0.999479</td>\n",
       "      <td>0.499740</td>\n",
       "      <td>0.771827</td>\n",
       "      <td><img src=\"resultados/MC_4_0.0_0_convnext_valid.png\" width=\"40\"></td>\n",
       "      <td><img src=\"resultados/grafico_4_0.0_0_convnext_valid.png\" width=\"40\"></td>\n",
       "    </tr>\n",
       "    <tr>\n",
       "      <td>4.0</td>\n",
       "      <td>0.0</td>\n",
       "      <td>Test</td>\n",
       "      <td>mobilenet</td>\n",
       "      <td>0.200042</td>\n",
       "      <td>0.571429</td>\n",
       "      <td>0.000208</td>\n",
       "      <td>0.000417</td>\n",
       "      <td>0.999792</td>\n",
       "      <td>0.000625</td>\n",
       "      <td>0.500208</td>\n",
       "      <td>0.760095</td>\n",
       "      <td><img src=\"resultados/MC_4_0.0_0_mobilenet_test.png\" width=\"40\"></td>\n",
       "      <td><img src=\"resultados/grafico_4_0.0_0_mobilenet_test.png\" width=\"40\"></td>\n",
       "    </tr>\n",
       "    <tr>\n",
       "      <td>4.0</td>\n",
       "      <td>0.0</td>\n",
       "      <td>Valid</td>\n",
       "      <td>mobilenet</td>\n",
       "      <td>0.799687</td>\n",
       "      <td>0.799937</td>\n",
       "      <td>0.999609</td>\n",
       "      <td>0.888696</td>\n",
       "      <td>0.000391</td>\n",
       "      <td>1.000000</td>\n",
       "      <td>0.500195</td>\n",
       "      <td>0.765052</td>\n",
       "      <td><img src=\"resultados/MC_4_0.0_0_mobilenet_valid.png\" width=\"40\"></td>\n",
       "      <td><img src=\"resultados/grafico_4_0.0_0_mobilenet_valid.png\" width=\"40\"></td>\n",
       "    </tr>\n",
       "    <tr>\n",
       "      <td>4.0</td>\n",
       "      <td>0.0</td>\n",
       "      <td>Test</td>\n",
       "      <td>vgg16</td>\n",
       "      <td>0.796417</td>\n",
       "      <td>0.799306</td>\n",
       "      <td>0.995469</td>\n",
       "      <td>0.886667</td>\n",
       "      <td>0.004531</td>\n",
       "      <td>0.999792</td>\n",
       "      <td>0.502161</td>\n",
       "      <td>0.678655</td>\n",
       "      <td><img src=\"resultados/MC_4_0.0_0_vgg16_test.png\" width=\"40\"></td>\n",
       "      <td><img src=\"resultados/grafico_4_0.0_0_vgg16_test.png\" width=\"40\"></td>\n",
       "    </tr>\n",
       "    <tr>\n",
       "      <td>4.0</td>\n",
       "      <td>0.0</td>\n",
       "      <td>Valid</td>\n",
       "      <td>vgg16</td>\n",
       "      <td>0.247292</td>\n",
       "      <td>0.844985</td>\n",
       "      <td>0.072396</td>\n",
       "      <td>0.133365</td>\n",
       "      <td>0.927604</td>\n",
       "      <td>0.053125</td>\n",
       "      <td>0.490365</td>\n",
       "      <td>0.684682</td>\n",
       "      <td><img src=\"resultados/MC_4_0.0_0_vgg16_valid.png\" width=\"40\"></td>\n",
       "      <td><img src=\"resultados/grafico_4_0.0_0_vgg16_valid.png\" width=\"40\"></td>\n",
       "    </tr>\n",
       "    <tr>\n",
       "      <td>4.0</td>\n",
       "      <td>0.0</td>\n",
       "      <td>Test</td>\n",
       "      <td>resnet50</td>\n",
       "      <td>0.800083</td>\n",
       "      <td>0.800067</td>\n",
       "      <td>1.000000</td>\n",
       "      <td>0.888930</td>\n",
       "      <td>0.000000</td>\n",
       "      <td>0.999583</td>\n",
       "      <td>0.499792</td>\n",
       "      <td>0.849869</td>\n",
       "      <td><img src=\"resultados/MC_4_0.0_0_resnet50_test.png\" width=\"40\"></td>\n",
       "      <td><img src=\"resultados/grafico_4_0.0_0_resnet50_test.png\" width=\"40\"></td>\n",
       "    </tr>\n",
       "    <tr>\n",
       "      <td>4.0</td>\n",
       "      <td>0.0</td>\n",
       "      <td>Valid</td>\n",
       "      <td>resnet50</td>\n",
       "      <td>0.799896</td>\n",
       "      <td>0.799979</td>\n",
       "      <td>0.999870</td>\n",
       "      <td>0.888825</td>\n",
       "      <td>0.000130</td>\n",
       "      <td>1.000000</td>\n",
       "      <td>0.500065</td>\n",
       "      <td>0.814440</td>\n",
       "      <td><img src=\"resultados/MC_4_0.0_0_resnet50_valid.png\" width=\"40\"></td>\n",
       "      <td><img src=\"resultados/grafico_4_0.0_0_resnet50_valid.png\" width=\"40\"></td>\n",
       "    </tr>\n",
       "    <tr>\n",
       "      <td>4.0</td>\n",
       "      <td>0.0</td>\n",
       "      <td>Test</td>\n",
       "      <td>osnet</td>\n",
       "      <td>0.799958</td>\n",
       "      <td>0.799992</td>\n",
       "      <td>0.999948</td>\n",
       "      <td>0.888863</td>\n",
       "      <td>0.000052</td>\n",
       "      <td>1.000000</td>\n",
       "      <td>0.500026</td>\n",
       "      <td>0.906997</td>\n",
       "      <td><img src=\"resultados/MC_4_0.0_0_osnet_test.png\" width=\"40\"></td>\n",
       "      <td><img src=\"resultados/grafico_4_0.0_0_osnet_test.png\" width=\"40\"></td>\n",
       "    </tr>\n",
       "    <tr>\n",
       "      <td>4.0</td>\n",
       "      <td>0.0</td>\n",
       "      <td>Valid</td>\n",
       "      <td>osnet</td>\n",
       "      <td>0.289375</td>\n",
       "      <td>0.899441</td>\n",
       "      <td>0.125781</td>\n",
       "      <td>0.220699</td>\n",
       "      <td>0.874219</td>\n",
       "      <td>0.056250</td>\n",
       "      <td>0.465234</td>\n",
       "      <td>0.826577</td>\n",
       "      <td><img src=\"resultados/MC_4_0.0_0_osnet_valid.png\" width=\"40\"></td>\n",
       "      <td><img src=\"resultados/grafico_4_0.0_0_osnet_valid.png\" width=\"40\"></td>\n",
       "    </tr>\n",
       "    <tr>\n",
       "      <td>4.0</td>\n",
       "      <td>0.0</td>\n",
       "      <td>Test</td>\n",
       "      <td>densenet121</td>\n",
       "      <td>0.799958</td>\n",
       "      <td>0.799992</td>\n",
       "      <td>0.999948</td>\n",
       "      <td>0.888863</td>\n",
       "      <td>0.000052</td>\n",
       "      <td>1.000000</td>\n",
       "      <td>0.500026</td>\n",
       "      <td>0.780905</td>\n",
       "      <td><img src=\"resultados/MC_4_0.0_0_densenet121_test.png\" width=\"40\"></td>\n",
       "      <td><img src=\"resultados/grafico_4_0.0_0_densenet121_test.png\" width=\"40\"></td>\n",
       "    </tr>\n",
       "    <tr>\n",
       "      <td>4.0</td>\n",
       "      <td>0.0</td>\n",
       "      <td>Valid</td>\n",
       "      <td>densenet121</td>\n",
       "      <td>0.800104</td>\n",
       "      <td>0.800083</td>\n",
       "      <td>1.000000</td>\n",
       "      <td>0.888940</td>\n",
       "      <td>0.000000</td>\n",
       "      <td>0.999479</td>\n",
       "      <td>0.499740</td>\n",
       "      <td>0.673260</td>\n",
       "      <td><img src=\"resultados/MC_4_0.0_0_densenet121_valid.png\" width=\"40\"></td>\n",
       "      <td><img src=\"resultados/grafico_4_0.0_0_densenet121_valid.png\" width=\"40\"></td>\n",
       "    </tr>\n",
       "    <tr>\n",
       "      <td>4.0</td>\n",
       "      <td>0.0</td>\n",
       "      <td>Test</td>\n",
       "      <td>mean</td>\n",
       "      <td>0.799917</td>\n",
       "      <td>0.799983</td>\n",
       "      <td>0.999896</td>\n",
       "      <td>0.888837</td>\n",
       "      <td>0.000104</td>\n",
       "      <td>1.000000</td>\n",
       "      <td>0.500052</td>\n",
       "      <td>0.790888</td>\n",
       "      <td><img src=\"resultados/MC_4_0.0_0_mean_test.png\" width=\"40\"></td>\n",
       "      <td><img src=\"resultados/grafico_4_0.0_0_mean_test.png\" width=\"40\"></td>\n",
       "    </tr>\n",
       "    <tr>\n",
       "      <td>4.0</td>\n",
       "      <td>0.0</td>\n",
       "      <td>Valid</td>\n",
       "      <td>mean</td>\n",
       "      <td>0.200417</td>\n",
       "      <td>0.750000</td>\n",
       "      <td>0.000781</td>\n",
       "      <td>0.001561</td>\n",
       "      <td>0.999219</td>\n",
       "      <td>0.001042</td>\n",
       "      <td>0.500130</td>\n",
       "      <td>0.743582</td>\n",
       "      <td><img src=\"resultados/MC_4_0.0_0_mean_valid.png\" width=\"40\"></td>\n",
       "      <td><img src=\"resultados/grafico_4_0.0_0_mean_valid.png\" width=\"40\"></td>\n",
       "    </tr>\n",
       "  </tbody>\n",
       "</table>"
      ],
      "text/plain": [
       "<IPython.core.display.HTML object>"
      ]
     },
     "metadata": {},
     "output_type": "display_data"
    },
    {
     "name": "stdout",
     "output_type": "stream",
     "text": [
      "     k  lambda_hard        modelo  \\\n",
      "0  4.0          0.0  efficientnet   \n",
      "0  4.0          0.0  efficientnet   \n",
      "0  4.0          0.0      convnext   \n",
      "0  4.0          0.0      convnext   \n",
      "0  4.0          0.0     mobilenet   \n",
      "0  4.0          0.0     mobilenet   \n",
      "0  4.0          0.0         vgg16   \n",
      "0  4.0          0.0         vgg16   \n",
      "0  4.0          0.0      resnet50   \n",
      "0  4.0          0.0      resnet50   \n",
      "0  4.0          0.0         osnet   \n",
      "0  4.0          0.0         osnet   \n",
      "0  4.0          0.0   densenet121   \n",
      "0  4.0          0.0   densenet121   \n",
      "0  4.0          0.0          mean   \n",
      "0  4.0          0.0          mean   \n",
      "\n",
      "                                matriz_confusao  Acuracia  Precisao  Recall  \\\n",
      "0   resultados/MC_4_0.0_0_efficientnet_test.png       NaN       NaN     NaN   \n",
      "0  resultados/MC_4_0.0_0_efficientnet_valid.png       NaN       NaN     NaN   \n",
      "0       resultados/MC_4_0.0_0_convnext_test.png       NaN       NaN     NaN   \n",
      "0      resultados/MC_4_0.0_0_convnext_valid.png       NaN       NaN     NaN   \n",
      "0      resultados/MC_4_0.0_0_mobilenet_test.png       NaN       NaN     NaN   \n",
      "0     resultados/MC_4_0.0_0_mobilenet_valid.png       NaN       NaN     NaN   \n",
      "0          resultados/MC_4_0.0_0_vgg16_test.png       NaN       NaN     NaN   \n",
      "0         resultados/MC_4_0.0_0_vgg16_valid.png       NaN       NaN     NaN   \n",
      "0       resultados/MC_4_0.0_0_resnet50_test.png       NaN       NaN     NaN   \n",
      "0      resultados/MC_4_0.0_0_resnet50_valid.png       NaN       NaN     NaN   \n",
      "0          resultados/MC_4_0.0_0_osnet_test.png       NaN       NaN     NaN   \n",
      "0         resultados/MC_4_0.0_0_osnet_valid.png       NaN       NaN     NaN   \n",
      "0    resultados/MC_4_0.0_0_densenet121_test.png       NaN       NaN     NaN   \n",
      "0   resultados/MC_4_0.0_0_densenet121_valid.png       NaN       NaN     NaN   \n",
      "0           resultados/MC_4_0.0_0_mean_test.png       NaN       NaN     NaN   \n",
      "0          resultados/MC_4_0.0_0_mean_valid.png       NaN       NaN     NaN   \n",
      "\n",
      "   F1-score                                            Grafico   Tipo  \\\n",
      "0       NaN   resultados/grafico_4_0.0_0_efficientnet_test.png   Test   \n",
      "0       NaN  resultados/grafico_4_0.0_0_efficientnet_valid.png  Valid   \n",
      "0       NaN       resultados/grafico_4_0.0_0_convnext_test.png   Test   \n",
      "0       NaN      resultados/grafico_4_0.0_0_convnext_valid.png  Valid   \n",
      "0       NaN      resultados/grafico_4_0.0_0_mobilenet_test.png   Test   \n",
      "0       NaN     resultados/grafico_4_0.0_0_mobilenet_valid.png  Valid   \n",
      "0       NaN          resultados/grafico_4_0.0_0_vgg16_test.png   Test   \n",
      "0       NaN         resultados/grafico_4_0.0_0_vgg16_valid.png  Valid   \n",
      "0       NaN       resultados/grafico_4_0.0_0_resnet50_test.png   Test   \n",
      "0       NaN      resultados/grafico_4_0.0_0_resnet50_valid.png  Valid   \n",
      "0       NaN          resultados/grafico_4_0.0_0_osnet_test.png   Test   \n",
      "0       NaN         resultados/grafico_4_0.0_0_osnet_valid.png  Valid   \n",
      "0       NaN    resultados/grafico_4_0.0_0_densenet121_test.png   Test   \n",
      "0       NaN   resultados/grafico_4_0.0_0_densenet121_valid.png  Valid   \n",
      "0       NaN           resultados/grafico_4_0.0_0_mean_test.png   Test   \n",
      "0       NaN          resultados/grafico_4_0.0_0_mean_valid.png  Valid   \n",
      "\n",
      "   ACCURACY  PRECISION    RECALL  F1_SCORE     APCER     BPCER      ACER  \\\n",
      "0  0.799917   0.799983  0.999896  0.888837  0.000104  1.000000  0.500052   \n",
      "0  0.800104   0.800083  1.000000  0.888940  0.000000  0.999479  0.499740   \n",
      "0  0.800042   0.800033  1.000000  0.888909  0.000000  0.999792  0.499896   \n",
      "0  0.800104   0.800083  1.000000  0.888940  0.000000  0.999479  0.499740   \n",
      "0  0.200042   0.571429  0.000208  0.000417  0.999792  0.000625  0.500208   \n",
      "0  0.799687   0.799937  0.999609  0.888696  0.000391  1.000000  0.500195   \n",
      "0  0.796417   0.799306  0.995469  0.886667  0.004531  0.999792  0.502161   \n",
      "0  0.247292   0.844985  0.072396  0.133365  0.927604  0.053125  0.490365   \n",
      "0  0.800083   0.800067  1.000000  0.888930  0.000000  0.999583  0.499792   \n",
      "0  0.799896   0.799979  0.999870  0.888825  0.000130  1.000000  0.500065   \n",
      "0  0.799958   0.799992  0.999948  0.888863  0.000052  1.000000  0.500026   \n",
      "0  0.289375   0.899441  0.125781  0.220699  0.874219  0.056250  0.465234   \n",
      "0  0.799958   0.799992  0.999948  0.888863  0.000052  1.000000  0.500026   \n",
      "0  0.800104   0.800083  1.000000  0.888940  0.000000  0.999479  0.499740   \n",
      "0  0.799917   0.799983  0.999896  0.888837  0.000104  1.000000  0.500052   \n",
      "0  0.200417   0.750000  0.000781  0.001561  0.999219  0.001042  0.500130   \n",
      "\n",
      "   SILHOUETTE                                                 MC  \\\n",
      "0    0.759874  <img src=\"resultados/MC_4_0.0_0_efficientnet_t...   \n",
      "0    0.669238  <img src=\"resultados/MC_4_0.0_0_efficientnet_v...   \n",
      "0    0.799818  <img src=\"resultados/MC_4_0.0_0_convnext_test....   \n",
      "0    0.771827  <img src=\"resultados/MC_4_0.0_0_convnext_valid...   \n",
      "0    0.760095  <img src=\"resultados/MC_4_0.0_0_mobilenet_test...   \n",
      "0    0.765052  <img src=\"resultados/MC_4_0.0_0_mobilenet_vali...   \n",
      "0    0.678655  <img src=\"resultados/MC_4_0.0_0_vgg16_test.png...   \n",
      "0    0.684682  <img src=\"resultados/MC_4_0.0_0_vgg16_valid.pn...   \n",
      "0    0.849869  <img src=\"resultados/MC_4_0.0_0_resnet50_test....   \n",
      "0    0.814440  <img src=\"resultados/MC_4_0.0_0_resnet50_valid...   \n",
      "0    0.906997  <img src=\"resultados/MC_4_0.0_0_osnet_test.png...   \n",
      "0    0.826577  <img src=\"resultados/MC_4_0.0_0_osnet_valid.pn...   \n",
      "0    0.780905  <img src=\"resultados/MC_4_0.0_0_densenet121_te...   \n",
      "0    0.673260  <img src=\"resultados/MC_4_0.0_0_densenet121_va...   \n",
      "0    0.790888  <img src=\"resultados/MC_4_0.0_0_mean_test.png\"...   \n",
      "0    0.743582  <img src=\"resultados/MC_4_0.0_0_mean_valid.png...   \n",
      "\n",
      "                                                  GR  \n",
      "0  <img src=\"resultados/grafico_4_0.0_0_efficient...  \n",
      "0  <img src=\"resultados/grafico_4_0.0_0_efficient...  \n",
      "0  <img src=\"resultados/grafico_4_0.0_0_convnext_...  \n",
      "0  <img src=\"resultados/grafico_4_0.0_0_convnext_...  \n",
      "0  <img src=\"resultados/grafico_4_0.0_0_mobilenet...  \n",
      "0  <img src=\"resultados/grafico_4_0.0_0_mobilenet...  \n",
      "0  <img src=\"resultados/grafico_4_0.0_0_vgg16_tes...  \n",
      "0  <img src=\"resultados/grafico_4_0.0_0_vgg16_val...  \n",
      "0  <img src=\"resultados/grafico_4_0.0_0_resnet50_...  \n",
      "0  <img src=\"resultados/grafico_4_0.0_0_resnet50_...  \n",
      "0  <img src=\"resultados/grafico_4_0.0_0_osnet_tes...  \n",
      "0  <img src=\"resultados/grafico_4_0.0_0_osnet_val...  \n",
      "0  <img src=\"resultados/grafico_4_0.0_0_densenet1...  \n",
      "0  <img src=\"resultados/grafico_4_0.0_0_densenet1...  \n",
      "0  <img src=\"resultados/grafico_4_0.0_0_mean_test...  \n",
      "0  <img src=\"resultados/grafico_4_0.0_0_mean_vali...  \n"
     ]
    }
   ],
   "source": [
    "# Exibir o DataFrame com as imagens\n",
    "display(HTML(html_content))\n",
    "print(df)"
   ]
  }
 ],
 "metadata": {
  "kernelspec": {
   "display_name": "Python 3",
   "language": "python",
   "name": "python3"
  },
  "language_info": {
   "codemirror_mode": {
    "name": "ipython",
    "version": 3
   },
   "file_extension": ".py",
   "mimetype": "text/x-python",
   "name": "python",
   "nbconvert_exporter": "python",
   "pygments_lexer": "ipython3",
   "version": "3.10.13"
  }
 },
 "nbformat": 4,
 "nbformat_minor": 2
}
